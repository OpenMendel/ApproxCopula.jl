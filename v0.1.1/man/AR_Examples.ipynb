{
 "cells": [
  {
   "cell_type": "markdown",
   "metadata": {},
   "source": [
    "# Autoregressive AR(1) Covariance\n",
    "\n",
    "In this notebook we will show how to form the quasi-copula model with Poisson base distribution, Log Link function and autoregressive AR(1) structured covariance on the `epilepsy` dataset provided in the `gcmr` R package. \n",
    "\n",
    "### Table of Contents:\n",
    "* [Example 1: Intercept Only AR(1) Model](#Example-1:-Intercept-Only-AR(1)-Model)\n",
    "* [Example 2: AR(1) Model with Covariates](#Example-2:-AR(1)-Model-with-Covariates)\n",
    "* [Example 3: AR(1) Model with Covariates + L2 Penalty (optional)](#Example-3:-AR(1)-Model-with-Covariates-L2-penalty-(optional))\n",
    "\n",
    "For these examples, we have $n$ independent clusters indexed by $i$. \n",
    "\n",
    "Under the AR(1) parameterization of the covariance matrix, the $i^{th}$ cluster with cluster size $d_i$, has covariance matrix $\\mathbf{\\Gamma_i}$ that takes the form: \n",
    "\n",
    "$$\\mathbf{\\Gamma_i}(\\rho, \\sigma^2) = \\sigma^2 \\times \\left[\\begin{array}{ccccccc}\n",
    "1 & \\rho & \\rho^2 & \\rho^3 & ...  &\\rho^{d_i - 1}\\\\\n",
    " \\rho & 1 & \\rho & \\rho^2 & ... \\\\\n",
    " & & ... & & \\\\ & &...& \\rho & 1 & \\rho \\\\\n",
    " \\rho^{d_i - 1} & \\rho^{d_i - 2} & ...& \\rho^2 & \\rho & 1\n",
    "\\end{array}\\right]$$\n"
   ]
  },
  {
   "cell_type": "code",
   "execution_count": 1,
   "metadata": {},
   "outputs": [
    {
     "name": "stdout",
     "output_type": "stream",
     "text": [
      "Julia Version 1.6.2\n",
      "Commit 1b93d53fc4 (2021-07-14 15:36 UTC)\n",
      "Platform Info:\n",
      "  OS: macOS (x86_64-apple-darwin18.7.0)\n",
      "  CPU: Intel(R) Core(TM) i9-9880H CPU @ 2.30GHz\n",
      "  WORD_SIZE: 64\n",
      "  LIBM: libopenlibm\n",
      "  LLVM: libLLVM-11.0.1 (ORCJIT, skylake)\n"
     ]
    }
   ],
   "source": [
    "versioninfo()"
   ]
  },
  {
   "cell_type": "code",
   "execution_count": 2,
   "metadata": {
    "scrolled": true
   },
   "outputs": [],
   "source": [
    "using DataFrames, QuasiCopula, LinearAlgebra, GLM, RCall"
   ]
  },
  {
   "cell_type": "code",
   "execution_count": 3,
   "metadata": {
    "scrolled": true
   },
   "outputs": [
    {
     "name": "stderr",
     "output_type": "stream",
     "text": [
      "┌ Warning: RCall.jl: Warning: package ‘gcmr’ was built under R version 4.0.2\n",
      "└ @ RCall /Users/sarahji/.julia/packages/RCall/6kphM/src/io.jl:172\n"
     ]
    }
   ],
   "source": [
    "R\"\"\"\n",
    "    library(\"gcmr\")\n",
    "    data(\"epilepsy\", package = \"gcmr\")\n",
    "\"\"\"\n",
    "@rget epilepsy;"
   ]
  },
  {
   "cell_type": "markdown",
   "metadata": {},
   "source": [
    "Let's take a preview of the first 10 lines of the epilepsy dataset."
   ]
  },
  {
   "cell_type": "code",
   "execution_count": 4,
   "metadata": {},
   "outputs": [
    {
     "name": "stdout",
     "output_type": "stream",
     "text": [
      "epilepsy[1:10, :] = 10×6 DataFrame\n",
      " Row │ id     age    trt    counts  time     visit\n",
      "     │ Int64  Int64  Int64  Int64   Float64  Float64\n",
      "─────┼───────────────────────────────────────────────\n",
      "   1 │     1     31      0      11      8.0      0.0\n",
      "   2 │     1     31      0       5      2.0      1.0\n",
      "   3 │     1     31      0       3      2.0      1.0\n",
      "   4 │     1     31      0       3      2.0      1.0\n",
      "   5 │     1     31      0       3      2.0      1.0\n",
      "   6 │     2     30      0      11      8.0      0.0\n",
      "   7 │     2     30      0       3      2.0      1.0\n",
      "   8 │     2     30      0       5      2.0      1.0\n",
      "   9 │     2     30      0       3      2.0      1.0\n",
      "  10 │     2     30      0       3      2.0      1.0\n"
     ]
    }
   ],
   "source": [
    "@show epilepsy[1:10, :];"
   ]
  },
  {
   "cell_type": "markdown",
   "metadata": {},
   "source": [
    "## Forming the Models\n",
    "\n",
    "We can form the AR(1) models for regression with following arguments:\n",
    "\n",
    "##### Arguments\n",
    "- `df`: A named `DataFrame`\n",
    "- `y`: Ouctcome variable name of interest, specified as a `Symbol`.\n",
    "    This variable name must be present in `df`.\n",
    "- `grouping`: Grouping or Clustering variable name of interest, specified as a `Symbol`.\n",
    "    This variable name must be present in `df`.\n",
    "- `covariates`: Covariate names of interest as a vector of `Symbol`s.\n",
    "    Each variable name must be present in `df`.\n",
    "- `d`: Base `Distribution` of outcome from `Distributions.jl`.\n",
    "- `link`: Canonical `Link` function of the base distribution specified in `d`, from `GLM.jl`.\n",
    "\n",
    "##### Optional Arguments\n",
    "- `penalized`: Boolean to specify whether or not to add an L2 Ridge penalty on the variance parameter for the AR(1) structured covariance.\n",
    "    One can put true (e.g. `penalized = true`) to add this penalty for numerical stability (default `penalized = false`)."
   ]
  },
  {
   "cell_type": "markdown",
   "metadata": {},
   "source": [
    "### Example 1: Intercept Only AR(1) Model\n",
    "\n",
    "We can form the AR(1) model with intercept only by excluding the `covariates` argument."
   ]
  },
  {
   "cell_type": "code",
   "execution_count": 5,
   "metadata": {},
   "outputs": [
    {
     "data": {
      "text/plain": [
       "Quasi-Copula Autoregressive AR(1) Model\n",
       "  * base distribution: Poisson\n",
       "  * link function: LogLink\n",
       "  * number of clusters: 59\n",
       "  * cluster size min, max: 5, 5\n",
       "  * number of fixed effects: 1\n"
      ]
     },
     "execution_count": 5,
     "metadata": {},
     "output_type": "execute_result"
    }
   ],
   "source": [
    "df = epilepsy\n",
    "y = :counts\n",
    "grouping = :id\n",
    "d = Poisson()\n",
    "link = LogLink()\n",
    "\n",
    "Poisson_AR_model = AR_model(df, y, grouping, d, link)"
   ]
  },
  {
   "cell_type": "markdown",
   "metadata": {},
   "source": [
    "### Example 2: AR(1) Model with Covariates\n",
    "\n",
    "We can form the AR(1) model with covariates by including the `covariates` argument."
   ]
  },
  {
   "cell_type": "code",
   "execution_count": 6,
   "metadata": {},
   "outputs": [
    {
     "data": {
      "text/plain": [
       "Quasi-Copula Autoregressive AR(1) Model\n",
       "  * base distribution: Poisson\n",
       "  * link function: LogLink\n",
       "  * number of clusters: 59\n",
       "  * cluster size min, max: 5, 5\n",
       "  * number of fixed effects: 3\n"
      ]
     },
     "execution_count": 6,
     "metadata": {},
     "output_type": "execute_result"
    }
   ],
   "source": [
    "covariates = [:visit, :trt]\n",
    "\n",
    "Poisson_AR_model = AR_model(df, y, grouping, covariates, d, link)"
   ]
  },
  {
   "cell_type": "markdown",
   "metadata": {},
   "source": [
    "### Example 3: AR(1) Model with Covariates + L2 penalty (optional)\n",
    "\n",
    "We can form the same AR(1) model from Example 2 with the optional argument for adding the L2 penalty on the variance parameter in the AR(1) parameterization of Gamma"
   ]
  },
  {
   "cell_type": "code",
   "execution_count": 7,
   "metadata": {},
   "outputs": [
    {
     "data": {
      "text/plain": [
       "Quasi-Copula Autoregressive AR(1) Model\n",
       "  * base distribution: Poisson\n",
       "  * link function: LogLink\n",
       "  * number of clusters: 59\n",
       "  * cluster size min, max: 5, 5\n",
       "  * number of fixed effects: 3\n",
       "  * L2 ridge penalty on AR(1) variance parameter: true"
      ]
     },
     "execution_count": 7,
     "metadata": {},
     "output_type": "execute_result"
    }
   ],
   "source": [
    "Poisson_AR_model = AR_model(df, y, grouping, covariates, d, link; penalized = true)"
   ]
  },
  {
   "cell_type": "markdown",
   "metadata": {},
   "source": [
    "## Fitting the model\n",
    "\n",
    "Let's show how to fit the model on the model from Example 3. By default, we limit the maximum number of Quasi-Newton iterations to 100, and set the convergence tolerance to $10^{-6}.$ "
   ]
  },
  {
   "cell_type": "code",
   "execution_count": 8,
   "metadata": {},
   "outputs": [
    {
     "name": "stdout",
     "output_type": "stream",
     "text": [
      "initializing β using Newton's Algorithm under Independence Assumption\n",
      "initializing variance components using MM-Algorithm\n",
      "\n",
      "******************************************************************************\n",
      "This program contains Ipopt, a library for large-scale nonlinear optimization.\n",
      " Ipopt is released as open source code under the Eclipse Public License (EPL).\n",
      "         For more information visit https://github.com/coin-or/Ipopt\n",
      "******************************************************************************\n",
      "\n",
      "Total number of variables............................:        5\n",
      "                     variables with only lower bounds:        1\n",
      "                variables with lower and upper bounds:        1\n",
      "                     variables with only upper bounds:        0\n",
      "Total number of equality constraints.................:        0\n",
      "Total number of inequality constraints...............:        0\n",
      "        inequality constraints with only lower bounds:        0\n",
      "   inequality constraints with lower and upper bounds:        0\n",
      "        inequality constraints with only upper bounds:        0\n",
      "\n",
      "\n",
      "Number of Iterations....: 18\n",
      "\n",
      "                                   (scaled)                 (unscaled)\n",
      "Objective...............:   5.2073621039210650e+02    2.1964303421468812e+03\n",
      "Dual infeasibility......:   2.3821081107655573e-08    1.0047571934396371e-07\n",
      "Constraint violation....:   0.0000000000000000e+00    0.0000000000000000e+00\n",
      "Complementarity.........:   1.0000000000000001e-11    4.2179328003577902e-11\n",
      "Overall NLP error.......:   2.3821081107655573e-08    1.0047571934396371e-07\n",
      "\n",
      "\n",
      "Number of objective function evaluations             = 24\n",
      "Number of objective gradient evaluations             = 19\n",
      "Number of equality constraint evaluations            = 0\n",
      "Number of inequality constraint evaluations          = 0\n",
      "Number of equality constraint Jacobian evaluations   = 0\n",
      "Number of inequality constraint Jacobian evaluations = 0\n",
      "Number of Lagrangian Hessian evaluations             = 0\n",
      "Total CPU secs in IPOPT (w/o function evaluations)   =      3.177\n",
      "Total CPU secs in NLP function evaluations           =      0.009\n",
      "\n",
      "EXIT: Optimal Solution Found.\n"
     ]
    }
   ],
   "source": [
    "QuasiCopula.fit!(Poisson_AR_model);"
   ]
  },
  {
   "cell_type": "markdown",
   "metadata": {},
   "source": [
    "We can take a look at the MLE's"
   ]
  },
  {
   "cell_type": "code",
   "execution_count": 9,
   "metadata": {},
   "outputs": [
    {
     "name": "stdout",
     "output_type": "stream",
     "text": [
      "Poisson_AR_model.β = [3.474475582753216, -1.323384706329884, -0.04366460297735922]\n",
      "Poisson_AR_model.σ2 = [0.5348860843799086]\n",
      "Poisson_AR_model.ρ = [1.0]\n"
     ]
    }
   ],
   "source": [
    "@show Poisson_AR_model.β\n",
    "@show Poisson_AR_model.σ2\n",
    "@show Poisson_AR_model.ρ;"
   ]
  },
  {
   "cell_type": "markdown",
   "metadata": {},
   "source": [
    "Calculate the loglikelihood at the maximum"
   ]
  },
  {
   "cell_type": "code",
   "execution_count": 10,
   "metadata": {},
   "outputs": [
    {
     "data": {
      "text/plain": [
       "-2196.4303424825557"
      ]
     },
     "execution_count": 10,
     "metadata": {},
     "output_type": "execute_result"
    }
   ],
   "source": [
    "logl(Poisson_AR_model)"
   ]
  },
  {
   "cell_type": "markdown",
   "metadata": {},
   "source": [
    "Get asymptotic confidence intervals at the MLE's"
   ]
  },
  {
   "cell_type": "code",
   "execution_count": 11,
   "metadata": {},
   "outputs": [
    {
     "data": {
      "text/plain": [
       "5×2 Matrix{Float64}:\n",
       "  3.34736    3.60159\n",
       " -1.49822   -1.14855\n",
       " -0.489077   0.401748\n",
       "  0.871632   1.12837\n",
       "  0.461106   0.608666"
      ]
     },
     "execution_count": 11,
     "metadata": {},
     "output_type": "execute_result"
    }
   ],
   "source": [
    "get_CI(Poisson_AR_model)"
   ]
  }
 ],
 "metadata": {
  "@webio": {
   "lastCommId": null,
   "lastKernelId": null
  },
  "kernelspec": {
   "display_name": "Julia 1.6.2",
   "language": "julia",
   "name": "julia-1.6"
  },
  "language_info": {
   "file_extension": ".jl",
   "mimetype": "application/julia",
   "name": "julia",
   "version": "1.6.2"
  }
 },
 "nbformat": 4,
 "nbformat_minor": 4
}
