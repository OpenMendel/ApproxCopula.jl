{
 "cells": [
  {
   "cell_type": "markdown",
   "metadata": {},
   "source": [
    "# Mixed variance component model \n",
    "\n",
    "Here the variance looks like\n",
    "\n",
    "$$\\mathbf{\\Gamma}_i(\\mathbf{\\theta}) = \\sum_{k=1}^m \\theta_k\\mathbf{V}_{ik}, \\quad \\theta_k \\ge 0$$"
   ]
  },
  {
   "cell_type": "code",
   "execution_count": 1,
   "metadata": {},
   "outputs": [
    {
     "name": "stderr",
     "output_type": "stream",
     "text": [
      "┌ Info: Precompiling QuasiCopula [c47b6ae2-b804-4668-9957-eb588c99ffbc]\n",
      "└ @ Base loading.jl:1342\n"
     ]
    },
    {
     "data": {
      "text/plain": [
       "1"
      ]
     },
     "execution_count": 1,
     "metadata": {},
     "output_type": "execute_result"
    }
   ],
   "source": [
    "using Revise\n",
    "using DataFrames, Random, GLM, QuasiCopula\n",
    "using ForwardDiff, Test, LinearAlgebra\n",
    "using LinearAlgebra: BlasReal, copytri!\n",
    "using ToeplitzMatrices\n",
    "using BenchmarkTools\n",
    "using ForwardDiff\n",
    "\n",
    "BLAS.set_num_threads(1)\n",
    "Threads.nthreads()"
   ]
  },
  {
   "cell_type": "markdown",
   "metadata": {},
   "source": [
    "## Mixed marginal distributions"
   ]
  },
  {
   "cell_type": "code",
   "execution_count": 22,
   "metadata": {
    "scrolled": true
   },
   "outputs": [],
   "source": [
    "# simulate data\n",
    "p = 3    # number of fixed effects, including intercept\n",
    "m = 1    # number of variance components\n",
    "samplesize = 10000 # number of sample\n",
    "d = 25   # number of observation per sample\n",
    "possible_distributions = [Normal, Bernoulli, Poisson]\n",
    "\n",
    "# simulate true regression coefficient and variance compoentn params\n",
    "Random.seed!(2022)\n",
    "βtrue = rand(Uniform(-2, 2), p)\n",
    "θtrue = [0.5] # 1 variance component\n",
    "\n",
    "# randomly choose marginal distributions for each observation within samples\n",
    "Random.seed!(2022)\n",
    "vecdist = rand(possible_distributions, d)\n",
    "T = Float64\n",
    "\n",
    "# simulate design matrix\n",
    "Random.seed!(2022)\n",
    "X_samplesize = [randn(d, p - 1) for i in 1:samplesize]\n",
    "gcs = Vector{MixedCopulaVCObs{T}}(undef, samplesize)\n",
    "Γ = θtrue[1] * ones(d, d)\n",
    "\n",
    "for i in 1:samplesize\n",
    "    X = [ones(d) X_samplesize[i]]\n",
    "    η = X * βtrue\n",
    "    vecd_tmp = Vector{UnivariateDistribution}(undef, d)\n",
    "    for j in 1:d\n",
    "        dist = vecdist[j]\n",
    "        μj = GLM.linkinv(canonicallink(dist()), η[j])\n",
    "        vecd_tmp[j] = dist(μj)\n",
    "    end\n",
    "    multivariate_dist = MultivariateMix(vecd_tmp, Γ)\n",
    "    y = Vector{Float64}(undef, d)\n",
    "    res = Vector{Float64}(undef, d)\n",
    "    rand(multivariate_dist, y, res)\n",
    "    V = [ones(d, d)]\n",
    "    gcs[i] = MixedCopulaVCObs(y, X, V)\n",
    "end\n",
    "veclink = [canonicallink(vecdist[j]()) for j in 1:d]\n",
    "\n",
    "gcm = MixedCopulaVCModel(gcs, vecdist, veclink);"
   ]
  },
  {
   "cell_type": "code",
   "execution_count": 23,
   "metadata": {
    "scrolled": true
   },
   "outputs": [
    {
     "name": "stdout",
     "output_type": "stream",
     "text": [
      "This is Ipopt version 3.13.4, running with linear solver mumps.\n",
      "NOTE: Other linear solvers might be more efficient (see Ipopt documentation).\n",
      "\n",
      "Number of nonzeros in equality constraint Jacobian...:        0\n",
      "Number of nonzeros in inequality constraint Jacobian.:        0\n",
      "Number of nonzeros in Lagrangian Hessian.............:        0\n",
      "\n",
      "Total number of variables............................:        4\n",
      "                     variables with only lower bounds:        1\n",
      "                variables with lower and upper bounds:        0\n",
      "                     variables with only upper bounds:        0\n",
      "Total number of equality constraints.................:        0\n",
      "Total number of inequality constraints...............:        0\n",
      "        inequality constraints with only lower bounds:        0\n",
      "   inequality constraints with lower and upper bounds:        0\n",
      "        inequality constraints with only upper bounds:        0\n",
      "\n",
      "iter    objective    inf_pr   inf_du lg(mu)  ||d||  lg(rg) alpha_du alpha_pr  ls\n",
      "   0  1.8003602e+07 0.00e+00 1.00e+02   0.0 0.00e+00    -  0.00e+00 0.00e+00   0\n",
      "Warning: Cutting back alpha due to evaluation error\n",
      "Warning: Cutting back alpha due to evaluation error\n",
      "Warning: Cutting back alpha due to evaluation error\n",
      "Warning: Cutting back alpha due to evaluation error\n",
      "Warning: Cutting back alpha due to evaluation error\n",
      "   1  6.3200216e+05 0.00e+00 3.35e+01  -1.5 1.00e+02    -  1.00e+00 1.56e-02f  7\n",
      "   2  5.9085365e+05 0.00e+00 4.52e+01  -3.8 7.88e-01    -  1.00e+00 2.50e-01f  3\n",
      "   3  3.8232093e+05 0.00e+00 7.29e+00  -5.7 1.13e-01    -  1.00e+00 1.00e+00f  1\n",
      "   4  3.7132629e+05 0.00e+00 2.67e+00  -7.6 1.70e-02    -  1.00e+00 1.00e+00f  1\n",
      "   5  3.6947012e+05 0.00e+00 1.76e+00  -9.5 1.05e-02    -  1.00e+00 1.00e+00f  1\n",
      "   6  3.6751212e+05 0.00e+00 2.11e+00 -11.0 1.59e-02    -  1.00e+00 1.00e+00f  1\n",
      "   7  3.6038265e+05 0.00e+00 3.08e+00 -11.0 1.02e-01    -  1.00e+00 1.00e+00f  1\n",
      "   8  3.5822191e+05 0.00e+00 7.60e-01 -11.0 4.12e-02    -  1.00e+00 1.00e+00f  1\n",
      "   9  3.5790301e+05 0.00e+00 4.07e-01 -11.0 1.43e-02    -  1.00e+00 1.00e+00f  1\n",
      "iter    objective    inf_pr   inf_du lg(mu)  ||d||  lg(rg) alpha_du alpha_pr  ls\n",
      "  10  3.5784662e+05 0.00e+00 5.57e-02 -11.0 9.17e-03    -  1.00e+00 1.00e+00f  1\n",
      "  11  3.5784514e+05 0.00e+00 5.74e-03 -11.0 1.48e-03    -  1.00e+00 1.00e+00f  1\n",
      "  12  3.5784511e+05 0.00e+00 2.13e-03 -11.0 8.60e-05    -  1.00e+00 1.00e+00f  1\n",
      "  13  3.5784510e+05 0.00e+00 2.13e-03 -11.0 1.16e-04    -  1.00e+00 1.00e+00f  1\n",
      "  14  3.5784491e+05 0.00e+00 8.63e-03 -11.0 1.76e-03    -  1.00e+00 1.00e+00f  1\n",
      "  15  3.5784333e+05 0.00e+00 2.80e-02 -11.0 1.53e-02    -  1.00e+00 1.00e+00f  1\n",
      "  16  3.5782712e+05 0.00e+00 9.12e-02 -11.0 1.61e-01    -  1.00e+00 1.00e+00f  1\n",
      "  17  3.5781131e+05 0.00e+00 1.67e-01 -11.0 1.00e+00    -  1.00e+00 2.03e-01f  3\n",
      "  18  3.5780685e+05 0.00e+00 1.09e-01 -11.0 3.47e+00    -  1.00e+00 2.20e-02f  4\n",
      "  19  3.5780109e+05 0.00e+00 5.19e-02 -11.0 7.26e-03    -  1.00e+00 1.00e+00f  1\n",
      "iter    objective    inf_pr   inf_du lg(mu)  ||d||  lg(rg) alpha_du alpha_pr  ls\n",
      "  20  3.5779990e+05 0.00e+00 1.43e-02 -11.0 1.78e-02    -  1.00e+00 1.00e+00f  1\n",
      "  21  3.5779986e+05 0.00e+00 1.06e-02 -11.0 1.88e-02    -  1.00e+00 1.00e+00f  1\n",
      "  22  3.5779984e+05 0.00e+00 5.00e-03 -11.0 5.78e-03    -  1.00e+00 2.50e-01f  3\n",
      "  23  3.5779980e+05 0.00e+00 1.77e-03 -11.0 1.65e-02    -  1.00e+00 5.00e-01f  2\n",
      "  24  3.5779980e+05 0.00e+00 1.20e-05 -11.0 1.86e-03    -  1.00e+00 1.00e+00f  1\n",
      "\n",
      "Number of Iterations....: 24\n",
      "\n",
      "                                   (scaled)                 (unscaled)\n",
      "Objective...............:   5.8755507626681167e+00    3.5779980070128420e+05\n",
      "Dual infeasibility......:   1.2012596533380482e-05    7.3152370206000628e-01\n",
      "Constraint violation....:   0.0000000000000000e+00    0.0000000000000000e+00\n",
      "Complementarity.........:   1.0017399711167717e-11    6.1002342843742142e-07\n",
      "Overall NLP error.......:   1.2012596533380482e-05    7.3152370206000628e-01\n",
      "\n",
      "\n",
      "Number of objective function evaluations             = 61\n",
      "Number of objective gradient evaluations             = 25\n",
      "Number of equality constraint evaluations            = 0\n",
      "Number of inequality constraint evaluations          = 0\n",
      "Number of equality constraint Jacobian evaluations   = 0\n",
      "Number of inequality constraint Jacobian evaluations = 0\n",
      "Number of Lagrangian Hessian evaluations             = 0\n",
      "Total CPU secs in IPOPT (w/o function evaluations)   =      1.415\n",
      "Total CPU secs in NLP function evaluations           =     39.219\n",
      "\n",
      "EXIT: Optimal Solution Found.\n",
      "fittime = 45.431147449\n",
      "gcm.β = [1.1908177776319795, 1.600174173231386, -1.400571312126728]\n",
      "gcm.θ = [0.5414257181436697]\n",
      "gcm.∇β = [-0.32568360496333604, -0.00825698622200477, 0.7315237020600063]\n",
      "gcm.∇θ = [-0.03910816012440321]\n"
     ]
    },
    {
     "data": {
      "text/plain": [
       "1-element Vector{Float64}:\n",
       " -0.03910816012440321"
      ]
     },
     "execution_count": 23,
     "metadata": {},
     "output_type": "execute_result"
    }
   ],
   "source": [
    "# fit model\n",
    "fittime = @elapsed QuasiCopula.fit!(gcm, IpoptSolver(print_level = 5, \n",
    "        max_iter = 100, tol = 10^-4, limited_memory_max_history = 16, \n",
    "        hessian_approximation = \"limited-memory\"))\n",
    "@show fittime\n",
    "@show gcm.β\n",
    "@show gcm.θ\n",
    "@show gcm.∇β\n",
    "@show gcm.∇θ"
   ]
  },
  {
   "cell_type": "code",
   "execution_count": 24,
   "metadata": {},
   "outputs": [
    {
     "name": "stdout",
     "output_type": "stream",
     "text": [
      "βtrue = [1.1930358188812686, 1.5993942032216824, -1.3995760477711494]\n",
      "θtrue = [0.5]\n"
     ]
    }
   ],
   "source": [
    "# show true parameters\n",
    "@show βtrue\n",
    "@show θtrue;"
   ]
  },
  {
   "cell_type": "markdown",
   "metadata": {},
   "source": [
    "# Check Correctness\n",
    "\n",
    "If all marginal distributions are fixed (e.g. all Poisson), then a `MixedCopulaVCModel` should return the same loglikelihood as a `GLMCopulaVCModel`"
   ]
  },
  {
   "cell_type": "code",
   "execution_count": 14,
   "metadata": {},
   "outputs": [
    {
     "data": {
      "text/plain": [
       "1"
      ]
     },
     "execution_count": 14,
     "metadata": {},
     "output_type": "execute_result"
    }
   ],
   "source": [
    "using Revise\n",
    "using DataFrames, Random, GLM, QuasiCopula\n",
    "using ForwardDiff, Test, LinearAlgebra\n",
    "using LinearAlgebra: BlasReal, copytri!\n",
    "using ToeplitzMatrices\n",
    "using BenchmarkTools\n",
    "using ForwardDiff\n",
    "\n",
    "BLAS.set_num_threads(1)\n",
    "Threads.nthreads()"
   ]
  },
  {
   "cell_type": "code",
   "execution_count": 15,
   "metadata": {},
   "outputs": [],
   "source": [
    "p = 3    # number of fixed effects, including intercept\n",
    "m = 1    # number of variance components\n",
    "Random.seed!(12345)\n",
    "βtrue = rand(Uniform(-2, 2), p)\n",
    "θtrue = [0.5]\n",
    "samplesize = 10000\n",
    "d = 25\n",
    "dist = Poisson\n",
    "link = LogLink\n",
    "# dist = Bernoulli\n",
    "# link = LogitLink\n",
    "T = Float64\n",
    "Γ = θtrue[1] * ones(d, d)\n",
    "vecdist = [dist() for _ in 1:d]\n",
    "veclink = [link() for _ in 1:d]\n",
    "\n",
    "gcs_glm = Vector{GLMCopulaVCObs{T, dist{T}, link}}(undef, samplesize)\n",
    "gcs_mixed = Vector{MixedCopulaVCObs{T}}(undef, samplesize)\n",
    "\n",
    "# for reproducibility I will simulate all the design matrices here\n",
    "Random.seed!(12345)\n",
    "X_samplesize = [randn(d, p - 1) for i in 1:samplesize]\n",
    "\n",
    "for i in 1:samplesize\n",
    "    X = [ones(d) X_samplesize[i]]\n",
    "    μ = GLM.linkinv.(link(), X * βtrue)\n",
    "    vecd = Vector{DiscreteUnivariateDistribution}(undef, d)\n",
    "    for i in 1:d\n",
    "        vecd[i] = dist(μ[i])\n",
    "    end\n",
    "    nonmixed_multivariate_dist = NonMixedMultivariateDistribution(vecd, Γ)\n",
    "    # simuate single vector y\n",
    "    y = Vector{Float64}(undef, d)\n",
    "    res = Vector{Float64}(undef, d)\n",
    "    rand(nonmixed_multivariate_dist, y, res)\n",
    "    V = [ones(d, d)]\n",
    "    gcs_glm[i] = GLMCopulaVCObs(y, X, V, dist(), link())\n",
    "    gcs_mixed[i] = MixedCopulaVCObs(y, X, V)\n",
    "end\n",
    "\n",
    "gcm_glm = GLMCopulaVCModel(gcs_glm)\n",
    "gcm_mixed = MixedCopulaVCModel(gcs_mixed, vecdist, veclink);"
   ]
  },
  {
   "cell_type": "code",
   "execution_count": 105,
   "metadata": {
    "scrolled": true
   },
   "outputs": [
    {
     "name": "stdout",
     "output_type": "stream",
     "text": [
      "This is Ipopt version 3.13.4, running with linear solver mumps.\n",
      "NOTE: Other linear solvers might be more efficient (see Ipopt documentation).\n",
      "\n",
      "Number of nonzeros in equality constraint Jacobian...:        0\n",
      "Number of nonzeros in inequality constraint Jacobian.:        0\n",
      "Number of nonzeros in Lagrangian Hessian.............:        0\n",
      "\n",
      "Total number of variables............................:        4\n",
      "                     variables with only lower bounds:        1\n",
      "                variables with lower and upper bounds:        0\n",
      "                     variables with only upper bounds:        0\n",
      "Total number of equality constraints.................:        0\n",
      "Total number of inequality constraints...............:        0\n",
      "        inequality constraints with only lower bounds:        0\n",
      "   inequality constraints with lower and upper bounds:        0\n",
      "        inequality constraints with only upper bounds:        0\n",
      "\n",
      "iter    objective    inf_pr   inf_du lg(mu)  ||d||  lg(rg) alpha_du alpha_pr  ls\n",
      "   0  2.0129957e+06 0.00e+00 1.00e+02   0.0 0.00e+00    -  0.00e+00 0.00e+00   0\n",
      "   1  6.0889554e+14 0.00e+00 1.76e+11  -1.1 1.00e+02    -  1.00e+00 6.25e-02h  5\n",
      "   2  2.0129956e+06 0.00e+00 1.00e+02  -2.0 6.25e+00    -  1.00e+00 1.00e+00f  1\n",
      "   3  2.0129955e+06 0.00e+00 1.00e+02  -2.0 2.82e-07    -  1.00e+00 1.00e+00f  1\n",
      "   4  1.9699077e+06 0.00e+00 1.14e+02  -3.7 1.43e+00  -4.0 1.00e+00 1.00e+00f  1\n",
      "   5  1.8325308e+06 0.00e+00 1.03e+02  -5.9 8.28e-01    -  1.00e+00 1.00e+00f  1\n",
      "   6  1.8082860e+06 0.00e+00 1.05e+02  -7.7 1.87e-01    -  1.00e+00 1.00e+00f  1\n",
      "   7  1.8035582e+06 0.00e+00 1.05e+02  -9.6 1.04e-01    -  1.00e+00 1.00e+00f  1\n",
      "   8  1.8024593e+06 0.00e+00 1.05e+02 -11.0 4.43e-03    -  1.00e+00 1.00e+00f  1\n",
      "   9  1.6867489e+06 0.00e+00 1.06e+02 -11.0 3.34e-01  -5.0 1.00e+00 1.00e+00f  1\n",
      "iter    objective    inf_pr   inf_du lg(mu)  ||d||  lg(rg) alpha_du alpha_pr  ls\n",
      "  10  1.5771418e+06 0.00e+00 1.03e+02 -11.0 1.04e-01  -4.5 1.00e+00 1.00e+00f  1\n",
      "  11  1.4752212e+06 0.00e+00 9.76e+01 -11.0 1.25e-01  -3.7 1.00e+00 1.00e+00f  1\n",
      "  12  1.1697896e+06 0.00e+00 8.54e+01 -11.0 2.74e-01  -3.3 1.00e+00 1.00e+00f  1\n",
      "  13  5.9241687e+05 0.00e+00 4.77e+01 -11.0 5.19e-01  -1.0 1.00e+00 1.00e+00f  1\n",
      "  14  5.0774123e+05 0.00e+00 4.14e+01 -11.0 1.95e-01  -0.6 1.00e+00 1.00e+00f  1\n",
      "  15  4.3223332e+05 0.00e+00 1.93e+01 -11.0 1.85e-01   0.3 1.00e+00 1.00e+00f  1\n",
      "  16  3.9922130e+05 0.00e+00 8.51e+00 -11.0 1.93e-01   0.2 1.00e+00 1.00e+00f  1\n",
      "  17  3.9153031e+05 0.00e+00 6.27e+00 -11.0 8.93e-02   0.6 1.00e+00 1.00e+00f  1\n",
      "  18  3.8277495e+05 0.00e+00 9.95e+00 -11.0 3.59e-01   0.2 1.00e+00 1.00e+00f  1\n",
      "  19  3.7767703e+05 0.00e+00 1.33e+00 -11.0 6.71e-02   1.5 1.00e+00 1.00e+00f  1\n",
      "iter    objective    inf_pr   inf_du lg(mu)  ||d||  lg(rg) alpha_du alpha_pr  ls\n",
      "  20  3.7751609e+05 0.00e+00 2.02e-01 -11.0 1.55e-02   1.4 1.00e+00 1.00e+00f  1\n",
      "  21  3.7751284e+05 0.00e+00 1.31e-01 -11.0 7.57e-04   2.3 1.00e+00 1.00e+00f  1\n",
      "  22  3.7751191e+05 0.00e+00 1.27e-01 -11.0 2.46e-04   2.7 1.00e+00 1.00e+00f  1\n",
      "  23  3.7750837e+05 0.00e+00 1.12e-01 -11.0 1.44e-03   1.8 1.00e+00 1.00e+00f  1\n",
      "  24  3.7750820e+05 0.00e+00 1.00e-01 -11.0 8.19e-05   3.1 1.00e+00 1.00e+00f  1\n",
      "  25  3.7750802e+05 0.00e+00 8.97e-02 -11.0 8.24e-05   3.0 1.00e+00 1.00e+00f  1\n",
      "  26  3.7750760e+05 0.00e+00 7.61e-02 -11.0 2.10e-04   2.6 1.00e+00 1.00e+00f  1\n",
      "  27  3.7750672e+05 0.00e+00 1.28e-01 -11.0 3.01e-03   2.1 1.00e+00 1.00e+00F  1\n",
      "  28  3.7750553e+05 0.00e+00 4.53e-02 -11.0 1.08e-03   1.6 1.00e+00 1.00e+00f  1\n",
      "  29  3.7750513e+05 0.00e+00 1.54e-02 -11.0 8.68e-04   1.1 1.00e+00 1.00e+00f  1\n",
      "iter    objective    inf_pr   inf_du lg(mu)  ||d||  lg(rg) alpha_du alpha_pr  ls\n",
      "  30  3.7750507e+05 0.00e+00 2.65e-02 -11.0 3.08e-04   0.2 1.00e+00 1.00e+00f  1\n",
      "  31  3.7750497e+05 0.00e+00 9.62e-03 -11.0 7.77e-04  -0.3 1.00e+00 1.00e+00f  1\n",
      "  32  3.7750484e+05 0.00e+00 1.46e-02 -11.0 1.39e-03  -0.8 1.00e+00 1.00e+00f  1\n",
      "  33  3.7750149e+05 0.00e+00 5.38e-02 -11.0 3.55e-02  -0.8 1.00e+00 1.00e+00f  1\n",
      "  34  3.7746274e+05 0.00e+00 2.29e-01 -11.0 3.82e-01  -1.8 1.00e+00 1.00e+00f  1\n",
      "  35  3.7739412e+05 0.00e+00 4.98e-01 -11.0 1.80e+00  -2.7 1.00e+00 3.62e-01f  2\n",
      "  36  3.7738627e+05 0.00e+00 5.16e-01 -11.0 1.27e+00  -2.8 1.00e+00 1.30e-01f  3\n",
      "  37  3.7737336e+05 0.00e+00 3.02e-01 -11.0 1.49e-02  -1.0 1.00e+00 1.00e+00f  1\n",
      "  38  3.7736782e+05 0.00e+00 3.39e-02 -11.0 3.83e-03   0.3 1.00e+00 1.00e+00f  1\n",
      "  39  3.7736781e+05 0.00e+00 2.12e-02 -11.0 1.18e-04   0.7 1.00e+00 1.00e+00f  1\n",
      "iter    objective    inf_pr   inf_du lg(mu)  ||d||  lg(rg) alpha_du alpha_pr  ls\n",
      "  40  3.7736779e+05 0.00e+00 2.68e-03 -11.0 1.22e-04   1.1 1.00e+00 1.00e+00f  1\n",
      "  41  3.7736778e+05 0.00e+00 3.88e-03 -11.0 3.70e-04   0.2 1.00e+00 1.00e+00f  1\n",
      "  42  3.7736778e+05 0.00e+00 3.60e-03 -11.0 9.66e-04  -0.3 1.00e+00 1.00e+00f  1\n",
      "  43  3.7736777e+05 0.00e+00 3.66e-03 -11.0 1.26e-04   0.6 1.00e+00 1.00e+00f  1\n",
      "  44  3.7736777e+05 0.00e+00 3.61e-03 -11.0 3.53e-04   0.1 1.00e+00 1.00e+00f  1\n",
      "  45  3.7736777e+05 0.00e+00 3.53e-03 -11.0 8.71e-04  -0.4 1.00e+00 1.00e+00f  1\n",
      "  46  3.7736777e+05 0.00e+00 3.20e-03 -11.0 4.04e-05   0.9 1.00e+00 1.00e+00f  1\n",
      "  47  3.7736777e+05 0.00e+00 1.48e-03 -11.0 7.20e-06   2.3 1.00e+00 1.00e+00f  1\n",
      "  48  3.7736777e+05 0.00e+00 4.57e-04 -11.0 7.35e-06   1.8 1.00e+00 1.00e+00f  1\n",
      "  49  3.7736777e+05 0.00e+00 4.66e-04 -11.0 1.06e-06   2.6 1.00e+00 1.00e+00f  1\n",
      "iter    objective    inf_pr   inf_du lg(mu)  ||d||  lg(rg) alpha_du alpha_pr  ls\n",
      "  50  3.7736777e+05 0.00e+00 4.69e-04 -11.0 3.99e-07   3.1 1.00e+00 1.00e+00f  1\n",
      "  51  3.7736777e+05 0.00e+00 4.70e-04 -11.0 1.50e-07   3.5 1.00e+00 1.00e+00f  1\n",
      "  52  3.7736777e+05 0.00e+00 4.69e-04 -11.0 4.49e-07   3.0 1.00e+00 1.00e+00f  1\n",
      "  53  3.7736827e+05 0.00e+00 1.27e-01 -11.0 7.92e-03   2.5 1.00e+00 6.25e-02h  5\n",
      "  54  3.7736776e+05 0.00e+00 2.66e-05 -11.0 3.98e-03    -  1.00e+00 1.00e+00f  1\n",
      "  55  3.7736776e+05 0.00e+00 1.15e-06 -11.0 7.17e-05    -  1.00e+00 1.00e+00f  1\n",
      "  56  3.7736776e+05 0.00e+00 5.81e-07 -11.0 2.49e-06    -  1.00e+00 1.00e+00f  1\n",
      "  57  3.7736776e+05 0.00e+00 4.69e-07 -11.0 5.03e-08    -  1.00e+00 6.25e-02h  5\n",
      "  58  3.7736776e+05 0.00e+00 3.15e-13 -11.0 1.20e-08    -  1.00e+00 1.00e+00f  1\n",
      "\n",
      "Number of Iterations....: 58\n",
      "\n",
      "                                   (scaled)                 (unscaled)\n",
      "Objective...............:   2.8183361658417965e+01    3.7736775738999934e+05\n",
      "Dual infeasibility......:   3.1544694326908519e-13    4.2237511266307592e-09\n",
      "Constraint violation....:   0.0000000000000000e+00    0.0000000000000000e+00\n",
      "Complementarity.........:   9.9999999999999735e-12    1.3389735474557345e-07\n",
      "Overall NLP error.......:   9.9999999999999735e-12    1.3389735474557345e-07\n",
      "\n",
      "\n",
      "Number of objective function evaluations             = 95\n",
      "Number of objective gradient evaluations             = 59\n",
      "Number of equality constraint evaluations            = 0\n",
      "Number of inequality constraint evaluations          = 0\n",
      "Number of equality constraint Jacobian evaluations   = 0\n",
      "Number of inequality constraint Jacobian evaluations = 0\n",
      "Number of Lagrangian Hessian evaluations             = 0\n",
      "Total CPU secs in IPOPT (w/o function evaluations)   =      5.630\n",
      "Total CPU secs in NLP function evaluations           =     10.337\n",
      "\n",
      "EXIT: Optimal Solution Found.\n"
     ]
    },
    {
     "data": {
      "text/plain": [
       "-377367.75738999934"
      ]
     },
     "execution_count": 105,
     "metadata": {},
     "output_type": "execute_result"
    }
   ],
   "source": [
    "# Fit GLMCopulaVC with all the same marginals\n",
    "QuasiCopula.fit!(gcm_glm, IpoptSolver(print_level = 5, \n",
    "    max_iter = 100, tol = 10^-8, limited_memory_max_history = 50, \n",
    "    accept_after_max_steps = 4, hessian_approximation = \"limited-memory\"))"
   ]
  },
  {
   "cell_type": "code",
   "execution_count": 106,
   "metadata": {
    "scrolled": true
   },
   "outputs": [
    {
     "name": "stdout",
     "output_type": "stream",
     "text": [
      "This is Ipopt version 3.13.4, running with linear solver mumps.\n",
      "NOTE: Other linear solvers might be more efficient (see Ipopt documentation).\n",
      "\n",
      "Number of nonzeros in equality constraint Jacobian...:        0\n",
      "Number of nonzeros in inequality constraint Jacobian.:        0\n",
      "Number of nonzeros in Lagrangian Hessian.............:        0\n",
      "\n",
      "Total number of variables............................:        4\n",
      "                     variables with only lower bounds:        1\n",
      "                variables with lower and upper bounds:        0\n",
      "                     variables with only upper bounds:        0\n",
      "Total number of equality constraints.................:        0\n",
      "Total number of inequality constraints...............:        0\n",
      "        inequality constraints with only lower bounds:        0\n",
      "   inequality constraints with lower and upper bounds:        0\n",
      "        inequality constraints with only upper bounds:        0\n",
      "\n",
      "iter    objective    inf_pr   inf_du lg(mu)  ||d||  lg(rg) alpha_du alpha_pr  ls\n",
      "   0  2.0129957e+06 0.00e+00 1.00e+02   0.0 0.00e+00    -  0.00e+00 0.00e+00   0\n",
      "   1  6.0889554e+14 0.00e+00 1.76e+11  -1.1 1.00e+02    -  1.00e+00 6.25e-02h  5\n",
      "   2  2.0129956e+06 0.00e+00 1.00e+02  -2.0 6.25e+00    -  1.00e+00 1.00e+00f  1\n",
      "   3  2.0129955e+06 0.00e+00 1.00e+02  -2.0 2.82e-07    -  1.00e+00 1.00e+00f  1\n",
      "   4  1.9699077e+06 0.00e+00 1.14e+02  -3.7 1.43e+00  -4.0 1.00e+00 1.00e+00f  1\n",
      "   5  1.8325308e+06 0.00e+00 1.03e+02  -5.9 8.28e-01    -  1.00e+00 1.00e+00f  1\n",
      "   6  1.8082860e+06 0.00e+00 1.05e+02  -7.7 1.87e-01    -  1.00e+00 1.00e+00f  1\n",
      "   7  1.8035582e+06 0.00e+00 1.05e+02  -9.6 1.04e-01    -  1.00e+00 1.00e+00f  1\n",
      "   8  1.8024593e+06 0.00e+00 1.05e+02 -11.0 4.43e-03    -  1.00e+00 1.00e+00f  1\n",
      "   9  1.6867489e+06 0.00e+00 1.06e+02 -11.0 3.34e-01  -4.5 1.00e+00 1.00e+00f  1\n",
      "iter    objective    inf_pr   inf_du lg(mu)  ||d||  lg(rg) alpha_du alpha_pr  ls\n",
      "  10  1.4918598e+06 0.00e+00 1.02e+02 -11.0 3.84e-01  -3.1 1.00e+00 1.00e+00f  1\n",
      "  11  1.3754441e+06 0.00e+00 9.64e+01 -11.0 1.40e-01  -1.8 1.00e+00 1.00e+00f  1\n",
      "  12  1.1322802e+06 0.00e+00 8.61e+01 -11.0 2.74e-01  -1.4 1.00e+00 1.00e+00f  1\n",
      "  13  9.9987307e+05 0.00e+00 7.59e+01 -11.0 1.88e-01  -1.9 1.00e+00 1.00e+00f  1\n",
      "  14  8.5814006e+05 0.00e+00 7.04e+01 -11.0 1.10e-01  -1.0 1.00e+00 1.00e+00f  1\n",
      "  15  7.8239540e+05 0.00e+00 6.59e+01 -11.0 6.29e-02   3.0 1.00e+00 1.00e+00f  1\n",
      "  16  7.5588790e+05 0.00e+00 6.41e+01 -11.0 2.30e-02   3.4 1.00e+00 1.00e+00f  1\n",
      "  17  6.8660128e+05 0.00e+00 5.85e+01 -11.0 6.35e-02   3.0 1.00e+00 1.00e+00f  1\n",
      "  18  5.5213813e+05 0.00e+00 4.28e+01 -11.0 1.48e-01   2.5 1.00e+00 1.00e+00f  1\n",
      "  19  4.4747469e+05 0.00e+00 1.57e+01 -11.0 1.85e-01   2.0 1.00e+00 1.00e+00f  1\n",
      "iter    objective    inf_pr   inf_du lg(mu)  ||d||  lg(rg) alpha_du alpha_pr  ls\n",
      "  20  4.1374847e+05 0.00e+00 7.47e+00 -11.0 1.33e-01   1.5 1.00e+00 1.00e+00f  1\n",
      "  21  4.0542482e+05 0.00e+00 6.18e+00 -11.0 5.71e-02   2.0 1.00e+00 1.00e+00f  1\n",
      "  22  3.9719248e+05 0.00e+00 3.75e+00 -11.0 1.01e-01   1.5 1.00e+00 1.00e+00f  1\n",
      "  23  3.9000413e+05 0.00e+00 3.72e+00 -11.0 1.12e-01   1.0 1.00e+00 1.00e+00f  1\n",
      "  24  3.8219985e+05 0.00e+00 6.24e+00 -11.0 1.35e-01   0.5 1.00e+00 1.00e+00f  1\n",
      "  25  3.8103730e+05 0.00e+00 8.51e+00 -11.0 5.14e-02   1.4 1.00e+00 1.00e+00f  1\n",
      "  26  3.7922414e+05 0.00e+00 5.58e+00 -11.0 2.05e-02   0.9 1.00e+00 1.00e+00f  1\n",
      "  27  3.7820455e+05 0.00e+00 3.25e+00 -11.0 1.60e-02   1.3 1.00e+00 1.00e+00f  1\n",
      "  28  3.7800115e+05 0.00e+00 2.11e+00 -11.0 4.69e-03   2.7 1.00e+00 1.00e+00f  1\n",
      "  29  3.7780429e+05 0.00e+00 1.01e+00 -11.0 6.53e-03   2.2 1.00e+00 1.00e+00f  1\n",
      "iter    objective    inf_pr   inf_du lg(mu)  ||d||  lg(rg) alpha_du alpha_pr  ls\n",
      "  30  3.7762268e+05 0.00e+00 6.94e-01 -11.0 1.13e-02   1.7 1.00e+00 1.00e+00f  1\n",
      "  31  3.7757373e+05 0.00e+00 4.90e-01 -11.0 3.64e-03   2.1 1.00e+00 1.00e+00f  1\n",
      "  32  3.7749138e+05 0.00e+00 4.11e-01 -11.0 1.16e-02   1.2 1.00e+00 1.00e+00f  1\n",
      "  33  3.7748225e+05 0.00e+00 2.46e-01 -11.0 1.45e-03   2.0 1.00e+00 1.00e+00f  1\n",
      "  34  3.7747190e+05 0.00e+00 1.19e-01 -11.0 3.04e-03   1.6 1.00e+00 1.00e+00f  1\n",
      "  35  3.7746813e+05 0.00e+00 1.50e-01 -11.0 2.44e-03   1.1 1.00e+00 1.00e+00f  1\n",
      "  36  3.7746777e+05 0.00e+00 1.19e-01 -11.0 1.69e-04   2.4 1.00e+00 1.00e+00f  1\n",
      "  37  3.7746654e+05 0.00e+00 2.79e-02 -11.0 9.86e-04   1.5 1.00e+00 1.00e+00f  1\n",
      "  38  3.7746627e+05 0.00e+00 4.47e-02 -11.0 7.35e-04   0.5 1.00e+00 1.00e+00f  1\n",
      "  39  3.7746614e+05 0.00e+00 3.27e-02 -11.0 4.67e-04  -0.5 1.00e+00 1.00e+00f  1\n",
      "iter    objective    inf_pr   inf_du lg(mu)  ||d||  lg(rg) alpha_du alpha_pr  ls\n",
      "  40  3.7746597e+05 0.00e+00 3.66e-02 -11.0 1.46e-03  -1.4 1.00e+00 1.00e+00f  1\n",
      "  41  3.7746159e+05 0.00e+00 9.84e-02 -11.0 4.04e-02  -1.0 1.00e+00 1.00e+00f  1\n",
      "  42  3.7744121e+05 0.00e+00 2.25e-01 -11.0 1.97e-01  -1.5 1.00e+00 1.00e+00f  1\n",
      "  43  3.7739605e+05 0.00e+00 3.91e-01 -11.0 7.40e-01  -1.9 1.00e+00 1.00e+00f  1\n",
      "  44  3.7738927e+05 0.00e+00 3.40e-01 -11.0 2.68e-02  -0.2 1.00e+00 1.00e+00f  1\n",
      "  45  3.7736882e+05 0.00e+00 3.45e-02 -11.0 5.91e-02  -0.7 1.00e+00 1.00e+00f  1\n",
      "  46  3.7736799e+05 0.00e+00 3.77e-02 -11.0 4.66e-02  -1.6 1.00e+00 1.00e+00f  1\n",
      "  47  3.7736776e+05 0.00e+00 4.64e-03 -11.0 7.31e-03  -2.1 1.00e+00 1.00e+00f  1\n",
      "  48  3.7736776e+05 0.00e+00 1.30e-03 -11.0 1.88e-05   1.0 1.00e+00 1.00e+00f  1\n",
      "  49  3.7736776e+05 0.00e+00 3.32e-04 -11.0 3.32e-05   0.6 1.00e+00 1.00e+00f  1\n",
      "iter    objective    inf_pr   inf_du lg(mu)  ||d||  lg(rg) alpha_du alpha_pr  ls\n",
      "  50  3.7736776e+05 0.00e+00 3.15e-04 -11.0 1.24e-05   1.0 1.00e+00 1.00e+00f  1\n",
      "  51  3.7736776e+05 0.00e+00 3.29e-04 -11.0 3.62e-05   0.5 1.00e+00 1.00e+00f  1\n",
      "  52  3.7736776e+05 0.00e+00 3.16e-04 -11.0 3.97e-05   0.5 1.00e+00 1.00e+00f  1\n",
      "  53  3.7736776e+05 0.00e+00 1.15e-04 -11.0 1.86e-06   1.8 1.00e+00 1.00e+00f  1\n",
      "  54  3.7736776e+05 0.00e+00 2.15e-06 -11.0 1.38e-03    -  1.00e+00 1.00e+00f  1\n",
      "  55  3.7736776e+05 0.00e+00 9.29e-08 -11.0 7.79e-06    -  1.00e+00 1.00e+00f  1\n",
      "  56  3.7736776e+05 0.00e+00 5.01e-09 -11.0 4.07e-08    -  1.00e+00 1.00e+00f  1\n",
      "\n",
      "Number of Iterations....: 56\n",
      "\n",
      "                                   (scaled)                 (unscaled)\n",
      "Objective...............:   2.8183361658417891e+01    3.7736775738999835e+05\n",
      "Dual infeasibility......:   5.0106316424525148e-09    6.7091032252886151e-05\n",
      "Constraint violation....:   0.0000000000000000e+00    0.0000000000000000e+00\n",
      "Complementarity.........:   9.9999999999999396e-12    1.3389735474557300e-07\n",
      "Overall NLP error.......:   5.0106316424525148e-09    6.7091032252886151e-05\n",
      "\n",
      "\n",
      "Number of objective function evaluations             = 65\n",
      "Number of objective gradient evaluations             = 57\n",
      "Number of equality constraint evaluations            = 0\n",
      "Number of inequality constraint evaluations          = 0\n",
      "Number of equality constraint Jacobian evaluations   = 0\n",
      "Number of inequality constraint Jacobian evaluations = 0\n",
      "Number of Lagrangian Hessian evaluations             = 0\n",
      "Total CPU secs in IPOPT (w/o function evaluations)   =      5.710\n",
      "Total CPU secs in NLP function evaluations           =     10.943\n",
      "\n",
      "EXIT: Optimal Solution Found.\n"
     ]
    },
    {
     "data": {
      "text/plain": [
       "-377367.75738999835"
      ]
     },
     "execution_count": 106,
     "metadata": {},
     "output_type": "execute_result"
    }
   ],
   "source": [
    "# Mixed\n",
    "QuasiCopula.fit!(gcm_mixed, IpoptSolver(print_level = 5, \n",
    "    max_iter = 100, tol = 10^-8, limited_memory_max_history = 50, \n",
    "    accept_after_max_steps = 4, hessian_approximation = \"limited-memory\"))"
   ]
  },
  {
   "cell_type": "code",
   "execution_count": 107,
   "metadata": {},
   "outputs": [
    {
     "name": "stdout",
     "output_type": "stream",
     "text": [
      "βtrue = [0.250855540422787, 1.3997579145162504, -0.5135785925430074]\n",
      "θtrue = [0.5]\n",
      "gcm_glm.β = [0.25191084984222173, 1.3996424557990568, -0.5131796224630202]\n",
      "gcm_glm.θ = [0.5234336103117214]\n",
      "gcm_glm.∇β = [-6.231637428300019e-11, -4.223751126630759e-9, -2.743858473763794e-9]\n",
      "gcm_glm.∇θ = [-2.5807962478197055e-7]\n",
      "gcm_mixed.β = [0.2519108497194852, 1.3996424558254064, -0.513179622540665]\n",
      "gcm_mixed.θ = [0.5234336105830091]\n",
      "gcm_mixed.∇β = [6.709103225288615e-5, 5.3386114069908785e-5, 4.9410723127252254e-5]\n",
      "gcm_mixed.∇θ = [-5.195367152044383e-7]\n"
     ]
    }
   ],
   "source": [
    "@show βtrue\n",
    "@show θtrue\n",
    "\n",
    "@show gcm_glm.β\n",
    "@show gcm_glm.θ\n",
    "@show gcm_glm.∇β\n",
    "@show gcm_glm.∇θ\n",
    "\n",
    "@show gcm_mixed.β\n",
    "@show gcm_mixed.θ\n",
    "@show gcm_mixed.∇β\n",
    "@show gcm_mixed.∇θ;"
   ]
  }
 ],
 "metadata": {
  "@webio": {
   "lastCommId": null,
   "lastKernelId": null
  },
  "kernelspec": {
   "display_name": "Julia 1.6.6",
   "language": "julia",
   "name": "julia-1.6"
  },
  "language_info": {
   "file_extension": ".jl",
   "mimetype": "application/julia",
   "name": "julia",
   "version": "1.6.6"
  },
  "toc": {
   "base_numbering": 1,
   "nav_menu": {},
   "number_sections": true,
   "sideBar": true,
   "skip_h1_title": false,
   "title_cell": "Table of Contents",
   "title_sidebar": "Contents",
   "toc_cell": false,
   "toc_position": {},
   "toc_section_display": true,
   "toc_window_display": false
  }
 },
 "nbformat": 4,
 "nbformat_minor": 2
}
