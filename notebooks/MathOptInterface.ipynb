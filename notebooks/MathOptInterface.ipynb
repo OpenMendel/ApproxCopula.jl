{
 "cells": [
  {
   "cell_type": "markdown",
   "metadata": {},
   "source": [
    "# Upgrading from MathProgBase.jl to MathOptInterface.jl\n",
    "\n",
    "+ MathProgBase.jl has been [depreciated](https://github.com/JuliaOpt/MathProgBase.jl/pull/231) since Jan 2019. It is therefore not officially supported by julia v1.2 and above. We should use [MathOptInterface.jl](https://github.com/jump-dev/MathOptInterface.jl) instead. \n",
    "+ Other packages such as BinaryProvider.jl and Ipopt.jl needs to also be updated to the latest version or depreciated and use the latest one supported by the Julia community.\n",
    "+ To ensure a smooth update, checkout the [official documentation](https://jump.dev/MathOptInterface.jl/dev/tutorials/mathprogbase/) as well as examples by [WiSER.jl](https://github.com/OpenMendel/WiSER.jl/blob/master/src/fit.jl) and [OrdinalMultinomialModels.jl](https://github.com/OpenMendel/OrdinalMultinomialModels.jl/blob/master/src/ordmnfit.jl)"
   ]
  },
  {
   "cell_type": "code",
   "execution_count": 1,
   "metadata": {
    "collapsed": false
   },
   "outputs": [
    {
     "name": "stderr",
     "output_type": "stream",
     "text": [
      "\u001b[32m\u001b[1mPrecompiling\u001b[22m\u001b[39m QuasiCopula\n",
      "\u001b[36m\u001b[1m        Info\u001b[22m\u001b[39m Given QuasiCopula was explicitly requested, output will be shown live \u001b[0K\n",
      "\u001b[0K\u001b[91m\u001b[1mERROR: \u001b[22m\u001b[39mLoadError: UndefVarError: `eval_f` not defined\n",
      "\u001b[0KStacktrace:\n",
      "\u001b[0K [1] \u001b[0m\u001b[1mgetproperty\u001b[22m\u001b[0m\u001b[1m(\u001b[22m\u001b[90mx\u001b[39m::\u001b[0mModule, \u001b[90mf\u001b[39m::\u001b[0mSymbol\u001b[0m\u001b[1m)\u001b[22m\n",
      "\u001b[0K\u001b[90m   @\u001b[39m \u001b[90mBase\u001b[39m \u001b[90m./\u001b[39m\u001b[90m\u001b[4mBase.jl:31\u001b[24m\u001b[39m\n",
      "\u001b[0K [2] top-level scope\n",
      "\u001b[0K\u001b[90m   @\u001b[39m \u001b[90m~/.julia/dev/QuasiCopula/src/parameter_estimation/\u001b[39m\u001b[90m\u001b[4mfit_glm_ar_cs.jl:166\u001b[24m\u001b[39m\n",
      "\u001b[0K [3] \u001b[0m\u001b[1minclude\u001b[22m\u001b[0m\u001b[1m(\u001b[22m\u001b[90mmod\u001b[39m::\u001b[0mModule, \u001b[90m_path\u001b[39m::\u001b[0mString\u001b[0m\u001b[1m)\u001b[22m\n",
      "\u001b[0K\u001b[90m   @\u001b[39m \u001b[90mBase\u001b[39m \u001b[90m./\u001b[39m\u001b[90m\u001b[4mBase.jl:495\u001b[24m\u001b[39m\n",
      "\u001b[0K [4] \u001b[0m\u001b[1minclude\u001b[22m\u001b[0m\u001b[1m(\u001b[22m\u001b[90mx\u001b[39m::\u001b[0mString\u001b[0m\u001b[1m)\u001b[22m\n",
      "\u001b[0K\u001b[90m   @\u001b[39m \u001b[35mQuasiCopula\u001b[39m \u001b[90m~/.julia/dev/QuasiCopula/src/\u001b[39m\u001b[90m\u001b[4mQuasiCopula.jl:1\u001b[24m\u001b[39m\n",
      "\u001b[0K [5] top-level scope\n",
      "\u001b[0K\u001b[90m   @\u001b[39m \u001b[90m~/.julia/dev/QuasiCopula/src/\u001b[39m\u001b[90m\u001b[4mQuasiCopula.jl:55\u001b[24m\u001b[39m\n",
      "\u001b[0K [6] \u001b[0m\u001b[1minclude\u001b[22m\n",
      "\u001b[0K\u001b[90m   @\u001b[39m \u001b[90m./\u001b[39m\u001b[90m\u001b[4mBase.jl:495\u001b[24m\u001b[39m\u001b[90m [inlined]\u001b[39m\n",
      "\u001b[0K [7] \u001b[0m\u001b[1minclude_package_for_output\u001b[22m\u001b[0m\u001b[1m(\u001b[22m\u001b[90mpkg\u001b[39m::\u001b[0mBase.PkgId, \u001b[90minput\u001b[39m::\u001b[0mString, \u001b[90mdepot_path\u001b[39m::\u001b[0mVector\u001b[90m{String}\u001b[39m, \u001b[90mdl_load_path\u001b[39m::\u001b[0mVector\u001b[90m{String}\u001b[39m, \u001b[90mload_path\u001b[39m::\u001b[0mVector\u001b[90m{String}\u001b[39m, \u001b[90mconcrete_deps\u001b[39m::\u001b[0mVector\u001b[90m{Pair{Base.PkgId, UInt128}}\u001b[39m, \u001b[90msource\u001b[39m::\u001b[0mNothing\u001b[0m\u001b[1m)\u001b[22m\n",
      "\u001b[0K\u001b[90m   @\u001b[39m \u001b[90mBase\u001b[39m \u001b[90m./\u001b[39m\u001b[90m\u001b[4mloading.jl:2222\u001b[24m\u001b[39m\n",
      "\u001b[0K [8] top-level scope\n",
      "\u001b[0K\u001b[90m   @\u001b[39m \u001b[90m\u001b[4mstdin:3\u001b[24m\u001b[39m\n",
      "\u001b[0Kin expression starting at /Users/biona001/.julia/dev/QuasiCopula/src/parameter_estimation/fit_glm_ar_cs.jl:166\n",
      "\u001b[0Kin expression starting at /Users/biona001/.julia/dev/QuasiCopula/src/QuasiCopula.jl:1\n",
      "\u001b[0Kin expression starting at stdin:3\n",
      "\u001b[91m  ✗ \u001b[39mQuasiCopula\n",
      "  0 dependencies successfully precompiled in 4 seconds. 151 already precompiled.\n",
      "\n"
     ]
    },
    {
     "ename": "LoadError",
     "evalue": "The following 1 direct dependency failed to precompile:\n\nQuasiCopula [c47b6ae2-b804-4668-9957-eb588c99ffbc]\n\nFailed to precompile QuasiCopula [c47b6ae2-b804-4668-9957-eb588c99ffbc] to \"/Users/biona001/.julia/compiled/v1.10/QuasiCopula/jl_oacKF7\".\n\u001b[91m\u001b[1mERROR: \u001b[22m\u001b[39mLoadError: UndefVarError: `eval_f` not defined\nStacktrace:\n [1] \u001b[0m\u001b[1mgetproperty\u001b[22m\u001b[0m\u001b[1m(\u001b[22m\u001b[90mx\u001b[39m::\u001b[0mModule, \u001b[90mf\u001b[39m::\u001b[0mSymbol\u001b[0m\u001b[1m)\u001b[22m\n\u001b[90m   @\u001b[39m \u001b[90mBase\u001b[39m \u001b[90m./\u001b[39m\u001b[90m\u001b[4mBase.jl:31\u001b[24m\u001b[39m\n [2] top-level scope\n\u001b[90m   @\u001b[39m \u001b[90m~/.julia/dev/QuasiCopula/src/parameter_estimation/\u001b[39m\u001b[90m\u001b[4mfit_glm_ar_cs.jl:166\u001b[24m\u001b[39m\n [3] \u001b[0m\u001b[1minclude\u001b[22m\u001b[0m\u001b[1m(\u001b[22m\u001b[90mmod\u001b[39m::\u001b[0mModule, \u001b[90m_path\u001b[39m::\u001b[0mString\u001b[0m\u001b[1m)\u001b[22m\n\u001b[90m   @\u001b[39m \u001b[90mBase\u001b[39m \u001b[90m./\u001b[39m\u001b[90m\u001b[4mBase.jl:495\u001b[24m\u001b[39m\n [4] \u001b[0m\u001b[1minclude\u001b[22m\u001b[0m\u001b[1m(\u001b[22m\u001b[90mx\u001b[39m::\u001b[0mString\u001b[0m\u001b[1m)\u001b[22m\n\u001b[90m   @\u001b[39m \u001b[35mQuasiCopula\u001b[39m \u001b[90m~/.julia/dev/QuasiCopula/src/\u001b[39m\u001b[90m\u001b[4mQuasiCopula.jl:1\u001b[24m\u001b[39m\n [5] top-level scope\n\u001b[90m   @\u001b[39m \u001b[90m~/.julia/dev/QuasiCopula/src/\u001b[39m\u001b[90m\u001b[4mQuasiCopula.jl:55\u001b[24m\u001b[39m\n [6] \u001b[0m\u001b[1minclude\u001b[22m\n\u001b[90m   @\u001b[39m \u001b[90m./\u001b[39m\u001b[90m\u001b[4mBase.jl:495\u001b[24m\u001b[39m\u001b[90m [inlined]\u001b[39m\n [7] \u001b[0m\u001b[1minclude_package_for_output\u001b[22m\u001b[0m\u001b[1m(\u001b[22m\u001b[90mpkg\u001b[39m::\u001b[0mBase.PkgId, \u001b[90minput\u001b[39m::\u001b[0mString, \u001b[90mdepot_path\u001b[39m::\u001b[0mVector\u001b[90m{String}\u001b[39m, \u001b[90mdl_load_path\u001b[39m::\u001b[0mVector\u001b[90m{String}\u001b[39m, \u001b[90mload_path\u001b[39m::\u001b[0mVector\u001b[90m{String}\u001b[39m, \u001b[90mconcrete_deps\u001b[39m::\u001b[0mVector\u001b[90m{Pair{Base.PkgId, UInt128}}\u001b[39m, \u001b[90msource\u001b[39m::\u001b[0mNothing\u001b[0m\u001b[1m)\u001b[22m\n\u001b[90m   @\u001b[39m \u001b[90mBase\u001b[39m \u001b[90m./\u001b[39m\u001b[90m\u001b[4mloading.jl:2222\u001b[24m\u001b[39m\n [8] top-level scope\n\u001b[90m   @\u001b[39m \u001b[90m\u001b[4mstdin:3\u001b[24m\u001b[39m\nin expression starting at /Users/biona001/.julia/dev/QuasiCopula/src/parameter_estimation/fit_glm_ar_cs.jl:166\nin expression starting at /Users/biona001/.julia/dev/QuasiCopula/src/QuasiCopula.jl:1\nin expression starting at stdin:",
     "output_type": "error",
     "traceback": [
      "The following 1 direct dependency failed to precompile:\n\nQuasiCopula [c47b6ae2-b804-4668-9957-eb588c99ffbc]\n\nFailed to precompile QuasiCopula [c47b6ae2-b804-4668-9957-eb588c99ffbc] to \"/Users/biona001/.julia/compiled/v1.10/QuasiCopula/jl_oacKF7\".\n\u001b[91m\u001b[1mERROR: \u001b[22m\u001b[39mLoadError: UndefVarError: `eval_f` not defined\nStacktrace:\n [1] \u001b[0m\u001b[1mgetproperty\u001b[22m\u001b[0m\u001b[1m(\u001b[22m\u001b[90mx\u001b[39m::\u001b[0mModule, \u001b[90mf\u001b[39m::\u001b[0mSymbol\u001b[0m\u001b[1m)\u001b[22m\n\u001b[90m   @\u001b[39m \u001b[90mBase\u001b[39m \u001b[90m./\u001b[39m\u001b[90m\u001b[4mBase.jl:31\u001b[24m\u001b[39m\n [2] top-level scope\n\u001b[90m   @\u001b[39m \u001b[90m~/.julia/dev/QuasiCopula/src/parameter_estimation/\u001b[39m\u001b[90m\u001b[4mfit_glm_ar_cs.jl:166\u001b[24m\u001b[39m\n [3] \u001b[0m\u001b[1minclude\u001b[22m\u001b[0m\u001b[1m(\u001b[22m\u001b[90mmod\u001b[39m::\u001b[0mModule, \u001b[90m_path\u001b[39m::\u001b[0mString\u001b[0m\u001b[1m)\u001b[22m\n\u001b[90m   @\u001b[39m \u001b[90mBase\u001b[39m \u001b[90m./\u001b[39m\u001b[90m\u001b[4mBase.jl:495\u001b[24m\u001b[39m\n [4] \u001b[0m\u001b[1minclude\u001b[22m\u001b[0m\u001b[1m(\u001b[22m\u001b[90mx\u001b[39m::\u001b[0mString\u001b[0m\u001b[1m)\u001b[22m\n\u001b[90m   @\u001b[39m \u001b[35mQuasiCopula\u001b[39m \u001b[90m~/.julia/dev/QuasiCopula/src/\u001b[39m\u001b[90m\u001b[4mQuasiCopula.jl:1\u001b[24m\u001b[39m\n [5] top-level scope\n\u001b[90m   @\u001b[39m \u001b[90m~/.julia/dev/QuasiCopula/src/\u001b[39m\u001b[90m\u001b[4mQuasiCopula.jl:55\u001b[24m\u001b[39m\n [6] \u001b[0m\u001b[1minclude\u001b[22m\n\u001b[90m   @\u001b[39m \u001b[90m./\u001b[39m\u001b[90m\u001b[4mBase.jl:495\u001b[24m\u001b[39m\u001b[90m [inlined]\u001b[39m\n [7] \u001b[0m\u001b[1minclude_package_for_output\u001b[22m\u001b[0m\u001b[1m(\u001b[22m\u001b[90mpkg\u001b[39m::\u001b[0mBase.PkgId, \u001b[90minput\u001b[39m::\u001b[0mString, \u001b[90mdepot_path\u001b[39m::\u001b[0mVector\u001b[90m{String}\u001b[39m, \u001b[90mdl_load_path\u001b[39m::\u001b[0mVector\u001b[90m{String}\u001b[39m, \u001b[90mload_path\u001b[39m::\u001b[0mVector\u001b[90m{String}\u001b[39m, \u001b[90mconcrete_deps\u001b[39m::\u001b[0mVector\u001b[90m{Pair{Base.PkgId, UInt128}}\u001b[39m, \u001b[90msource\u001b[39m::\u001b[0mNothing\u001b[0m\u001b[1m)\u001b[22m\n\u001b[90m   @\u001b[39m \u001b[90mBase\u001b[39m \u001b[90m./\u001b[39m\u001b[90m\u001b[4mloading.jl:2222\u001b[24m\u001b[39m\n [8] top-level scope\n\u001b[90m   @\u001b[39m \u001b[90m\u001b[4mstdin:3\u001b[24m\u001b[39m\nin expression starting at /Users/biona001/.julia/dev/QuasiCopula/src/parameter_estimation/fit_glm_ar_cs.jl:166\nin expression starting at /Users/biona001/.julia/dev/QuasiCopula/src/QuasiCopula.jl:1\nin expression starting at stdin:",
      "",
      "Stacktrace:",
      "  [1] pkgerror(msg::String)",
      "    @ Pkg.Types ~/.julia/juliaup/julia-1.10.2+0.aarch64.apple.darwin14/share/julia/stdlib/v1.10/Pkg/src/Types.jl:70",
      "  [2] precompile(ctx::Pkg.Types.Context, pkgs::Vector{Pkg.Types.PackageSpec}; internal_call::Bool, strict::Bool, warn_loaded::Bool, already_instantiated::Bool, timing::Bool, _from_loading::Bool, kwargs::@Kwargs{io::IJulia.IJuliaStdio{Base.PipeEndpoint}})",
      "    @ Pkg.API ~/.julia/juliaup/julia-1.10.2+0.aarch64.apple.darwin14/share/julia/stdlib/v1.10/Pkg/src/API.jl:1659",
      "  [3] precompile(pkgs::Vector{Pkg.Types.PackageSpec}; io::IJulia.IJuliaStdio{Base.PipeEndpoint}, kwargs::@Kwargs{_from_loading::Bool})",
      "    @ Pkg.API ~/.julia/juliaup/julia-1.10.2+0.aarch64.apple.darwin14/share/julia/stdlib/v1.10/Pkg/src/API.jl:159",
      "  [4] precompile",
      "    @ ~/.julia/juliaup/julia-1.10.2+0.aarch64.apple.darwin14/share/julia/stdlib/v1.10/Pkg/src/API.jl:147 [inlined]",
      "  [5] #precompile#114",
      "    @ ~/.julia/juliaup/julia-1.10.2+0.aarch64.apple.darwin14/share/julia/stdlib/v1.10/Pkg/src/API.jl:146 [inlined]",
      "  [6] #invokelatest#2",
      "    @ ./essentials.jl:894 [inlined]",
      "  [7] invokelatest",
      "    @ ./essentials.jl:889 [inlined]",
      "  [8] _require(pkg::Base.PkgId, env::String)",
      "    @ Base ./loading.jl:1963",
      "  [9] __require_prelocked(uuidkey::Base.PkgId, env::String)",
      "    @ Base ./loading.jl:1812",
      " [10] #invoke_in_world#3",
      "    @ ./essentials.jl:926 [inlined]",
      " [11] invoke_in_world",
      "    @ ./essentials.jl:923 [inlined]",
      " [12] _require_prelocked(uuidkey::Base.PkgId, env::String)",
      "    @ Base ./loading.jl:1803",
      " [13] macro expansion",
      "    @ ./loading.jl:1790 [inlined]",
      " [14] macro expansion",
      "    @ ./lock.jl:267 [inlined]",
      " [15] __require(into::Module, mod::Symbol)",
      "    @ Base ./loading.jl:1753",
      " [16] #invoke_in_world#3",
      "    @ ./essentials.jl:926 [inlined]",
      " [17] invoke_in_world",
      "    @ ./essentials.jl:923 [inlined]",
      " [18] require(into::Module, mod::Symbol)",
      "    @ Base ./loading.jl:1746"
     ]
    }
   ],
   "source": [
    "using Revise\n",
    "using Ipopt\n",
    "using QuasiCopula\n",
    "using Random\n",
    "using GLM\n",
    "using LinearAlgebra\n",
    "using Statistics\n",
    "using StatsBase\n",
    "using MathOptInterface\n",
    "using RCall\n",
    "\n",
    "ENV[\"COLUMNS\"] = 240\n",
    "BLAS.set_num_threads(1)\n",
    "Threads.nthreads()"
   ]
  },
  {
   "cell_type": "code",
   "execution_count": 3,
   "metadata": {
    "collapsed": false,
    "scrolled": false
   },
   "outputs": [
    {
     "name": "stdout",
     "output_type": "stream",
     "text": [
      "qc_model = Quasi-Copula Variance Component Model\n",
      "  * base distribution: Normal\n",
      "  * link function: IdentityLink\n",
      "  * number of clusters: 10000\n",
      "  * cluster size min, max: 5, 5\n",
      "  * number of variance components: 2\n",
      "  * number of fixed effects: 15\n",
      "\n",
      "\n",
      "******************************************************************************\n",
      "This program contains Ipopt, a library for large-scale nonlinear optimization.\n",
      " Ipopt is released as open source code under the Eclipse Public License (EPL).\n",
      "         For more information visit https://github.com/coin-or/Ipopt\n",
      "******************************************************************************\n",
      "\n",
      "This is Ipopt version 3.14.14, running with linear solver MUMPS 5.6.2.\n",
      "\n",
      "Number of nonzeros in equality constraint Jacobian...:        0\n",
      "Number of nonzeros in inequality constraint Jacobian.:        0\n",
      "Number of nonzeros in Lagrangian Hessian.............:        0\n",
      "\n",
      "Total number of variables............................:       18\n",
      "                     variables with only lower bounds:        3\n",
      "                variables with lower and upper bounds:        0\n",
      "                     variables with only upper bounds:        0\n",
      "Total number of equality constraints.................:        0\n",
      "Total number of inequality constraints...............:        0\n",
      "        inequality constraints with only lower bounds:        0\n",
      "   inequality constraints with lower and upper bounds:        0\n",
      "        inequality constraints with only upper bounds:        0\n",
      "\n",
      "iter    objective    inf_pr   inf_du lg(mu)  ||d||  lg(rg) alpha_du alpha_pr  ls\n",
      "   0 -9.1062186e+04 0.00e+00 3.57e+01   0.0 0.00e+00    -  0.00e+00 0.00e+00   0\n",
      "   1 -9.1062071e+04 0.00e+00 4.12e+00  -9.6 3.57e+01    -  1.00e+00 4.84e-05f 15\n",
      "   2 -9.1062070e+04 0.00e+00 9.61e-01  -5.8 1.78e-04    -  1.00e+00 1.00e+00f  1\n",
      "   3 -9.1062070e+04 0.00e+00 1.88e-01  -7.7 4.19e-05    -  1.00e+00 2.50e-01f  3\n",
      "   4 -9.1062070e+04 0.00e+00 1.65e-01  -9.6 2.32e-06    -  1.00e+00 1.00e+00f  1\n",
      "   5 -9.1062070e+04 0.00e+00 1.38e-01  -9.7 1.41e-05    -  1.00e+00 1.00e+00f  1\n",
      "   6 -9.1062070e+04 0.00e+00 1.57e-01 -11.0 2.54e-05    -  1.00e+00 1.00e+00f  1\n",
      "   7 -9.1062070e+04 0.00e+00 2.27e-01 -11.0 1.79e-04    -  1.00e+00 5.00e-01f  2\n",
      "   8 -9.1062070e+04 0.00e+00 4.15e-01 -11.0 4.64e-04    -  1.00e+00 2.50e-01f  3\n",
      "   9 -9.1062070e+04 0.00e+00 1.43e-01 -11.0 7.17e-05    -  1.00e+00 2.50e-01f  3\n",
      "iter    objective    inf_pr   inf_du lg(mu)  ||d||  lg(rg) alpha_du alpha_pr  ls\n",
      "  10 -9.1062070e+04 0.00e+00 4.92e-01 -11.0 1.39e-05    -  1.00e+00 5.00e-01f  2\n",
      "  11 -9.1062070e+04 0.00e+00 1.52e-02 -11.0 4.34e-05    -  1.00e+00 1.00e+00f  1\n",
      "  12 -9.1062070e+04 0.00e+00 1.27e-02 -11.0 1.58e-05    -  1.00e+00 1.25e-01f  4\n",
      "  13 -9.1062070e+04 0.00e+00 1.86e-02 -11.0 6.35e-06    -  1.00e+00 1.00e+00f  1\n",
      "  14 -9.1062070e+04 0.00e+00 9.69e-03 -11.0 1.77e-05    -  1.00e+00 1.25e-01f  4\n",
      "  15 -9.1062070e+04 0.00e+00 5.07e-03 -11.0 1.79e-06    -  1.00e+00 1.00e+00f  1\n",
      "  16 -9.1062070e+04 0.00e+00 5.26e-03 -11.0 2.88e-06    -  1.00e+00 5.00e-01f  2\n",
      "  17 -9.1062070e+04 0.00e+00 1.96e-03 -11.0 3.77e-06    -  1.00e+00 2.50e-01f  3\n",
      "  18 -9.1062070e+04 0.00e+00 4.14e-03 -11.0 1.24e-06    -  1.00e+00 1.25e-01f  4\n",
      "  19 -9.1062070e+04 0.00e+00 4.17e-04 -11.0 1.24e-06    -  1.00e+00 1.00e+00f  1\n",
      "\n",
      "Number of Iterations....: 19\n",
      "\n",
      "                                   (scaled)                 (unscaled)\n",
      "Objective...............:   9.1062070173299755e+04   -9.1062070173299755e+04\n",
      "Dual infeasibility......:   4.1746727752868529e-04    4.1746727752868529e-04\n",
      "Constraint violation....:   0.0000000000000000e+00    0.0000000000000000e+00\n",
      "Variable bound violation:   0.0000000000000000e+00    0.0000000000000000e+00\n",
      "Complementarity.........:   1.0000000000007071e-11    1.0000000000007071e-11\n",
      "Overall NLP error.......:   4.1746727752868529e-04    4.1746727752868529e-04\n",
      "\n",
      "\n",
      "Number of objective function evaluations             = 98\n",
      "Number of objective gradient evaluations             = 20\n",
      "Number of equality constraint evaluations            = 0\n",
      "Number of inequality constraint evaluations          = 0\n",
      "Number of equality constraint Jacobian evaluations   = 0\n",
      "Number of inequality constraint Jacobian evaluations = 0\n",
      "Number of Lagrangian Hessian evaluations             = 0\n",
      "Total seconds in IPOPT                               = 0.985\n",
      "\n",
      "EXIT: Optimal Solution Found.\n",
      "  1.477369 seconds (7.11 M allocations: 309.337 MiB, 10.33% gc time, 37.08% compilation time: 2% of which was recompilation)\n"
     ]
    }
   ],
   "source": [
    "k = 0 # number of causal SNPs\n",
    "\n",
    "qc_model, G, βtrue, θtrue, γtrue, τtrue = simulate_longitudinal_traits(\n",
    "    n = 10000, # sample size\n",
    "    d_min = 5, # min number of observations per sample\n",
    "    d_max = 5, # max number of observations per sample\n",
    "    p = 15, # number of fixed effects, including intercept\n",
    "    m = 2, # number of variance components\n",
    "    q = 1000, # number of SNPs\n",
    "    k = k, # number of causal SNPs\n",
    "    seed = 2024,\n",
    "    y_distribution = Normal,\n",
    "    τtrue = 0.5,\n",
    "    T = Float64,\n",
    "    maf = 0.3,\n",
    "    causal_snp_β = 0.2\n",
    ")\n",
    "\n",
    "@show qc_model;\n",
    "\n",
    "@time optm = QuasiCopula.fit!(qc_model);"
   ]
  },
  {
   "cell_type": "code",
   "execution_count": 4,
   "metadata": {
    "collapsed": false
   },
   "outputs": [
    {
     "name": "stdout",
     "output_type": "stream",
     "text": [
      "βtrue = [1.0, -0.5, 0.5, 0.5, 0.5, -0.5, 0.5, -0.5, 0.5, -0.5, -0.5, -0.5, 0.5, -0.5, -0.5]\n",
      "qc_model.β = [1.0015558069145196, -0.4992552816604949, 0.5003258775344148, 0.5104867759085501, 0.503433481674981, -0.5109228927293467, 0.48934968009349356, -0.5029571938424525, 0.5049029761584054, -0.5083950994921372, -0.4838377755959444, -0.5082673883570834, 0.508559185132388, -0.49494971764139967, -0.5024689132271957]\n",
      "qc_model.∇β = [-0.0004174672775286853, 1.855972752784485e-5, 0.00013656486524218914, 9.337930918396076e-6, 1.9344740755378176e-5, 2.752102204828244e-5, 3.267097026424248e-5, -0.00013902709178342798, -7.60145868601847e-5, 3.8777999550543285e-5, -4.696202700368857e-5, 2.4041912385336373e-5, -0.00010361037352457636, 5.2108730824396154e-5, 0.00010436649891751304]\n",
      "θtrue = [0.1, 0.1]\n",
      "qc_model.θ = [0.10841706495069867, 0.11742437271630245]\n",
      "qc_model.∇θ = [3.458515023302411e-5, 3.302592342491195e-5]\n",
      "τtrue = 0.5\n",
      "qc_model.τ = [0.5080458900474164]\n",
      "qc_model.∇τ = [0.0002994001751677189]\n"
     ]
    }
   ],
   "source": [
    "@show βtrue\n",
    "@show qc_model.β\n",
    "@show qc_model.∇β\n",
    "\n",
    "@show θtrue\n",
    "@show qc_model.θ\n",
    "@show qc_model.∇θ;\n",
    "\n",
    "@show τtrue\n",
    "@show qc_model.τ\n",
    "@show qc_model.∇τ;"
   ]
  },
  {
   "cell_type": "markdown",
   "metadata": {},
   "source": [
    "# AR"
   ]
  },
  {
   "cell_type": "code",
   "execution_count": 1,
   "metadata": {
    "collapsed": false
   },
   "outputs": [
    {
     "name": "stderr",
     "output_type": "stream",
     "text": [
      "\u001b[32m\u001b[1mPrecompiling\u001b[22m\u001b[39m QuasiCopula\n",
      "\u001b[32m  ✓ \u001b[39mQuasiCopula\n",
      "  1 dependency successfully precompiled in 4 seconds. 151 already precompiled.\n"
     ]
    }
   ],
   "source": [
    "using Revise\n",
    "using Ipopt\n",
    "using QuasiCopula\n",
    "using Random\n",
    "using GLM\n",
    "using LinearAlgebra\n",
    "using Statistics\n",
    "using StatsBase\n",
    "using MathOptInterface\n",
    "using RCall"
   ]
  },
  {
   "cell_type": "code",
   "execution_count": 2,
   "metadata": {
    "collapsed": false,
    "scrolled": true
   },
   "outputs": [
    {
     "name": "stdout",
     "output_type": "stream",
     "text": [
      "gcm.β = [31.41573849878938, -22.96610169491528, -0.339631336405546]\n",
      "initializing dispersion using residual sum of squares\n",
      "gcm.τ = [0.0037930980963653453]\n",
      "initializing AR(1) noise paramter using MM-algorithm\n",
      "\n",
      "******************************************************************************\n",
      "This program contains Ipopt, a library for large-scale nonlinear optimization.\n",
      " Ipopt is released as open source code under the Eclipse Public License (EPL).\n",
      "         For more information visit https://github.com/coin-or/Ipopt\n",
      "******************************************************************************\n",
      "\n",
      "This is Ipopt version 3.14.14, running with linear solver MUMPS 5.6.2.\n",
      "\n",
      "Number of nonzeros in equality constraint Jacobian...:        0\n",
      "Number of nonzeros in inequality constraint Jacobian.:        0\n",
      "Number of nonzeros in Lagrangian Hessian.............:        0\n",
      "\n",
      "Total number of variables............................:        6\n",
      "                     variables with only lower bounds:        2\n",
      "                variables with lower and upper bounds:        1\n",
      "                     variables with only upper bounds:        0\n",
      "Total number of equality constraints.................:        0\n",
      "Total number of inequality constraints...............:        0\n",
      "        inequality constraints with only lower bounds:        0\n",
      "   inequality constraints with lower and upper bounds:        0\n",
      "        inequality constraints with only upper bounds:        0\n",
      "\n",
      "iter    objective    inf_pr   inf_du lg(mu)  ||d||  lg(rg) alpha_du alpha_pr  ls\n",
      "   0 -1.3070370e+03 0.00e+00 2.06e+04   0.0 0.00e+00    -  0.00e+00 0.00e+00   0\n",
      "   1 -1.2370056e+03 0.00e+00 3.64e+03  -1.5 1.87e+04    -  2.44e-01 2.64e-07f  2\n",
      "   2 -1.2358049e+03 0.00e+00 3.78e+02  -2.6 1.20e-03    -  1.00e+00 5.00e-01f  2\n",
      "   3 -1.2358003e+03 0.00e+00 3.48e+01  -2.0 3.69e-05    -  1.00e+00 1.00e+00f  1\n",
      "   4 -1.2358001e+03 0.00e+00 3.57e+01  -4.0 4.16e-06    -  1.00e+00 1.00e+00f  1\n",
      "   5 -1.2357987e+03 0.00e+00 5.93e+01  -5.8 3.42e-05    -  1.00e+00 1.00e+00f  1\n",
      "   6 -1.2357890e+03 0.00e+00 2.05e+02  -7.7 2.52e-04    -  1.00e+00 1.00e+00f  1\n",
      "   7 -1.2356889e+03 0.00e+00 6.83e+02  -9.6 2.64e-03    -  1.00e+00 1.00e+00f  1\n",
      "   8 -1.2353996e+03 0.00e+00 1.08e+03 -11.0 2.62e-02    -  1.00e+00 2.66e-01f  1\n",
      "   9 -1.2353966e+03 0.00e+00 1.08e+03 -11.0 2.60e-01    -  1.00e+00 2.68e-04f  1\n",
      "iter    objective    inf_pr   inf_du lg(mu)  ||d||  lg(rg) alpha_du alpha_pr  ls\n",
      "  10 -1.2353918e+03 0.00e+00 1.07e+03 -11.0 2.87e-01    -  1.00e+00 6.89e-04f  1\n",
      "  11 -1.2337026e+03 0.00e+00 1.38e+03 -11.0 2.01e-01    -  1.00e+00 1.00e+00f  1\n",
      "  12 -1.2334410e+03 0.00e+00 2.58e+02 -11.0 6.53e-02    -  1.00e+00 1.00e+00f  1\n",
      "  13 -1.2333704e+03 0.00e+00 1.37e+02 -11.0 1.83e-02    -  1.00e+00 1.00e+00f  1\n",
      "  14 -1.2333018e+03 0.00e+00 6.97e+01 -11.0 2.35e-02    -  1.00e+00 1.00e+00f  1\n",
      "  15 -1.2329112e+03 0.00e+00 8.26e+01 -11.0 1.53e-01    -  1.00e+00 1.00e+00f  1\n",
      "  16 -1.2328800e+03 0.00e+00 7.68e+02  -9.0 1.06e+04    -  7.57e-05 1.91e-06f 20\n",
      "  17 -1.2312858e+03 0.00e+00 1.04e+03 -10.6 7.21e+00    -  1.00e+00 1.25e-01f  4\n",
      "  18 -1.2310952e+03 0.00e+00 8.56e+01 -11.0 2.11e-01    -  1.00e+00 1.00e+00f  1\n",
      "  19 -1.2310833e+03 0.00e+00 1.73e+01 -11.0 7.82e-02    -  1.00e+00 1.00e+00f  1\n",
      "iter    objective    inf_pr   inf_du lg(mu)  ||d||  lg(rg) alpha_du alpha_pr  ls\n",
      "  20 -1.2310811e+03 0.00e+00 2.66e+02 -11.0 2.72e-01    -  1.00e+00 1.25e-01f  4\n",
      "  21 -1.2310581e+03 0.00e+00 2.43e+02 -11.0 1.54e-01    -  1.00e+00 1.00e+00f  1\n",
      "  22 -1.2310489e+03 0.00e+00 2.31e+02 -11.0 2.74e+00    -  1.00e+00 1.25e-01f  4\n",
      "  23 -1.2310230e+03 0.00e+00 3.00e+01  -9.0 1.97e+05    -  2.41e-05 1.91e-06f 20\n",
      "  24 -1.2309765e+03 0.00e+00 5.76e+01 -11.0 1.76e+04    -  1.00e+00 3.64e-05f  6\n",
      "  25 -1.2309708e+03 0.00e+00 1.67e+02 -11.0 2.53e+02    -  1.00e+00 7.95e-04f  7\n",
      "  26 -1.2309687e+03 0.00e+00 4.68e+01  -7.3 5.15e+02    -  3.58e-03 1.14e-05f  8\n",
      "  27 -1.2309645e+03 0.00e+00 2.46e-01 -10.6 1.99e-01    -  1.00e+00 1.00e+00f  1\n",
      "  28 -1.2309645e+03 0.00e+00 2.80e-02 -11.0 1.65e-03    -  1.00e+00 1.00e+00f  1\n",
      "  29 -1.2309645e+03 0.00e+00 2.56e-02 -11.0 1.13e-01    -  1.00e+00 2.44e-04f 13\n",
      "iter    objective    inf_pr   inf_du lg(mu)  ||d||  lg(rg) alpha_du alpha_pr  ls\n",
      "  30 -1.2309645e+03 0.00e+00 7.12e-02 -11.0 5.48e+01    -  1.00e+00 2.01e-06f 17\n",
      "  31 -1.2309645e+03 0.00e+00 1.06e-01 -11.0 2.26e+00    -  1.00e+00 2.44e-04f 13\n",
      "  32 -1.2309645e+03 0.00e+00 3.19e-02 -11.0 1.04e+00    -  1.00e+00 7.63e-06f 18\n",
      "  33 -1.2309645e+03 0.00e+00 9.46e-03 -11.0 8.40e-02    -  1.00e+00 3.91e-03f  9\n",
      "  34 -1.2309645e+03 0.00e+00 6.00e-06 -11.0 9.42e-05    -  1.00e+00 1.00e+00f  1\n",
      "\n",
      "Number of Iterations....: 34\n",
      "\n",
      "                                   (scaled)                 (unscaled)\n",
      "Objective...............:   1.2309645317304487e+03   -1.2309645317304487e+03\n",
      "Dual infeasibility......:   5.9986150430803928e-06    5.9986150430803928e-06\n",
      "Constraint violation....:   0.0000000000000000e+00    0.0000000000000000e+00\n",
      "Variable bound violation:   9.9997474745094905e-09    9.9997474745094905e-09\n",
      "Complementarity.........:   1.0000000000000001e-11    1.0000000000000001e-11\n",
      "Overall NLP error.......:   5.9986150430803928e-06    5.9986150430803928e-06\n",
      "\n",
      "\n",
      "Number of objective function evaluations             = 227\n",
      "Number of objective gradient evaluations             = 35\n",
      "Number of equality constraint evaluations            = 0\n",
      "Number of inequality constraint evaluations          = 0\n",
      "Number of equality constraint Jacobian evaluations   = 0\n",
      "Number of inequality constraint Jacobian evaluations = 0\n",
      "Number of Lagrangian Hessian evaluations             = 0\n",
      "Total seconds in IPOPT                               = 0.205\n",
      "\n",
      "EXIT: Optimal Solution Found.\n"
     ]
    },
    {
     "data": {
      "text/plain": [
       "-1230.9645317304487"
      ]
     },
     "execution_count": 2,
     "metadata": {},
     "output_type": "execute_result"
    }
   ],
   "source": [
    "# get data\n",
    "R\"\"\"\n",
    "library(\"gcmr\")\n",
    "data(\"epilepsy\", package = \"gcmr\")\n",
    "\"\"\"\n",
    "@rget epilepsy\n",
    "\n",
    "# form model\n",
    "df = epilepsy\n",
    "y = :counts\n",
    "grouping = :id\n",
    "d = Normal() # Poisson()\n",
    "link = IdentityLink() # LogLink()\n",
    "covariates = [:visit, :trt]\n",
    "qc_model = AR_model(df, y, grouping, covariates, d, link; penalized=true)\n",
    "\n",
    "# fit\n",
    "QuasiCopula.fit!(qc_model)"
   ]
  },
  {
   "cell_type": "code",
   "execution_count": 6,
   "metadata": {
    "collapsed": false
   },
   "outputs": [
    {
     "name": "stdout",
     "output_type": "stream",
     "text": [
      "qc_model.β = [33.906723110174724, -22.966101624887735, -0.03905523987816367]\n",
      "qc_model.σ2 = [0.2833334216154253]\n",
      "qc_model.τ = [0.004425825590418177]\n",
      "qc_model.ρ = [1.0000000099997475]\n"
     ]
    }
   ],
   "source": [
    "@show qc_model.β\n",
    "@show qc_model.σ2\n",
    "@show qc_model.τ\n",
    "@show qc_model.ρ;"
   ]
  },
  {
   "cell_type": "markdown",
   "metadata": {},
   "source": [
    "# CS"
   ]
  },
  {
   "cell_type": "code",
   "execution_count": 1,
   "metadata": {
    "collapsed": false
   },
   "outputs": [
    {
     "name": "stderr",
     "output_type": "stream",
     "text": [
      "\u001b[32m\u001b[1mPrecompiling\u001b[22m\u001b[39m QuasiCopula\n",
      "\u001b[32m  ✓ \u001b[39mQuasiCopula\n",
      "  1 dependency successfully precompiled in 4 seconds. 151 already precompiled.\n"
     ]
    }
   ],
   "source": [
    "using Revise\n",
    "using Ipopt\n",
    "using QuasiCopula\n",
    "using Random\n",
    "using GLM\n",
    "using LinearAlgebra\n",
    "using Statistics\n",
    "using StatsBase\n",
    "using MathOptInterface\n",
    "using RCall"
   ]
  },
  {
   "cell_type": "code",
   "execution_count": 5,
   "metadata": {
    "collapsed": false,
    "scrolled": true
   },
   "outputs": [
    {
     "name": "stdout",
     "output_type": "stream",
     "text": [
      "initializing β using Newton's Algorithm under Independence Assumption\n",
      "\n",
      "******************************************************************************\n",
      "This program contains Ipopt, a library for large-scale nonlinear optimization.\n",
      " Ipopt is released as open source code under the Eclipse Public License (EPL).\n",
      "         For more information visit https://github.com/coin-or/Ipopt\n",
      "******************************************************************************\n",
      "\n",
      "This is Ipopt version 3.14.14, running with linear solver MUMPS 5.6.2.\n",
      "\n",
      "Number of nonzeros in equality constraint Jacobian...:        0\n",
      "Number of nonzeros in inequality constraint Jacobian.:        0\n",
      "Number of nonzeros in Lagrangian Hessian.............:        0\n",
      "\n",
      "Total number of variables............................:        6\n",
      "                     variables with only lower bounds:        1\n",
      "                variables with lower and upper bounds:        1\n",
      "                     variables with only upper bounds:        0\n",
      "Total number of equality constraints.................:        0\n",
      "Total number of inequality constraints...............:        0\n",
      "        inequality constraints with only lower bounds:        0\n",
      "   inequality constraints with lower and upper bounds:        0\n",
      "        inequality constraints with only upper bounds:        0\n",
      "\n",
      "iter    objective    inf_pr   inf_du lg(mu)  ||d||  lg(rg) alpha_du alpha_pr  ls\n",
      "   0 -2.5637596e+02 0.00e+00 4.66e+01   0.0 0.00e+00    -  0.00e+00 0.00e+00   0\n",
      "Warning: Cutting back alpha due to evaluation error\n",
      "Warning: Cutting back alpha due to evaluation error\n",
      "   1 -2.5636316e+02 0.00e+00 5.84e+01  -1.6 4.66e+01    -  1.00e+00 3.05e-05f 11\n",
      "   2 -2.5633423e+02 0.00e+00 2.52e+01  -3.3 5.96e-04    -  1.00e+00 1.00e+00f  1\n",
      "   3 -2.5630470e+02 0.00e+00 2.52e+01  -5.1 1.08e-03    -  1.00e+00 1.00e+00f  1\n",
      "   4 -2.5608429e+02 0.00e+00 7.60e+01  -6.6 9.81e-03    -  1.00e+00 1.00e+00f  1\n",
      "   5 -2.5426977e+02 0.00e+00 1.90e+02  -7.7 9.12e-02    -  1.00e+00 1.00e+00f  1\n",
      "   6 -2.5099479e+02 0.00e+00 3.37e+01  -9.1 2.40e-01    -  1.00e+00 1.00e+00f  1\n",
      "   7 -2.5011424e+02 0.00e+00 5.53e+01 -11.0 1.18e-01    -  1.00e+00 1.00e+00f  1\n",
      "   8 -2.4956377e+02 0.00e+00 1.68e+01 -11.0 1.95e-01    -  1.00e+00 1.00e+00f  1\n",
      "   9 -2.4951706e+02 0.00e+00 6.38e+01 -11.0 2.42e-01    -  1.00e+00 2.50e-01f  3\n",
      "iter    objective    inf_pr   inf_du lg(mu)  ||d||  lg(rg) alpha_du alpha_pr  ls\n",
      "  10 -2.4951152e+02 0.00e+00 6.32e+01 -11.0 5.37e-01    -  1.00e+00 5.00e-01f  2\n",
      "  11 -2.4920264e+02 0.00e+00 1.18e+01 -11.0 1.66e-01    -  1.00e+00 1.00e+00f  1\n",
      "  12 -2.4913215e+02 0.00e+00 3.64e+01 -11.0 2.27e-01    -  1.00e+00 5.00e-01f  2\n",
      "  13 -2.4906548e+02 0.00e+00 7.24e+01 -11.0 2.20e+00    -  1.00e+00 5.21e-02f  3\n",
      "  14 -2.4904352e+02 0.00e+00 1.81e+01 -11.0 1.42e-01    -  1.00e+00 5.00e-01f  2\n",
      "  15 -2.4903583e+02 0.00e+00 3.89e+01 -11.0 3.42e-01    -  1.00e+00 6.25e-02f  5\n",
      "  16 -2.4903529e+02 0.00e+00 4.60e+01  -9.0 1.76e+01    -  8.91e-02 2.89e-03f  6\n",
      "  17 -2.4903223e+02 0.00e+00 3.43e+01 -10.7 9.56e-01    -  1.00e+00 6.25e-02f  5\n",
      "  18 -2.4902812e+02 0.00e+00 3.69e+01 -10.3 8.66e+00    -  1.00e+00 3.91e-03f  9\n",
      "  19 -2.4902804e+02 0.00e+00 3.45e+01 -10.5 5.45e-01    -  1.00e+00 3.22e-02f  4\n",
      "iter    objective    inf_pr   inf_du lg(mu)  ||d||  lg(rg) alpha_du alpha_pr  ls\n",
      "  20 -2.4902760e+02 0.00e+00 3.99e+01 -10.0 1.40e+00    -  1.00e+00 3.12e-02f  6\n",
      "  21 -2.4901550e+02 0.00e+00 3.20e+01 -11.0 1.61e-01    -  1.00e+00 2.50e-01f  3\n",
      "  22 -2.4901545e+02 0.00e+00 3.01e+01 -11.0 2.56e+00    -  1.00e+00 5.04e-04f  8\n",
      "  23 -2.4901535e+02 0.00e+00 4.24e+00  -9.5 2.38e-01    -  1.00e+00 1.25e-01f  4\n",
      "  24 -2.4900591e+02 0.00e+00 1.57e+01 -10.2 2.35e+00    -  1.00e+00 1.56e-02f  7\n",
      "  25 -2.4900380e+02 0.00e+00 9.23e+00 -11.0 4.63e-02    -  1.00e+00 5.00e-01f  2\n",
      "  26 -2.4900340e+02 0.00e+00 5.39e+00 -10.6 2.29e+00    -  1.00e+00 7.25e-03f  4\n",
      "  27 -2.4900309e+02 0.00e+00 8.44e+00  -9.5 6.47e-01    -  1.00e+00 3.12e-02f  6\n",
      "  28 -2.4900299e+02 0.00e+00 8.45e+00 -10.2 3.69e-01    -  1.00e+00 1.17e-02f  7\n",
      "  29 -2.4900299e+02 0.00e+00 8.05e+00 -11.0 3.00e-01    -  1.00e+00 9.75e-04f 10\n",
      "iter    objective    inf_pr   inf_du lg(mu)  ||d||  lg(rg) alpha_du alpha_pr  ls\n",
      "  30 -2.4900245e+02 0.00e+00 4.52e+00  -9.9 1.90e-02    -  1.00e+00 1.00e+00f  1\n",
      "  31 -2.4900190e+02 0.00e+00 4.97e+00  -9.1 3.66e+00    -  1.00e+00 1.95e-03f 10\n",
      "  32 -2.4900189e+02 0.00e+00 4.32e+00 -10.7 5.60e-02    -  1.00e+00 3.12e-02f  6\n",
      "  33 -2.4900185e+02 0.00e+00 3.31e+00 -10.7 7.61e-01    -  1.60e-01 3.91e-03f  9\n",
      "  34 -2.4900173e+02 0.00e+00 1.59e+00 -11.0 2.12e-01    -  1.00e+00 6.25e-02f  5\n",
      "  35 -2.4900158e+02 0.00e+00 1.47e+00 -11.0 9.53e-03    -  1.00e+00 5.00e-01f  2\n",
      "  36 -2.4900158e+02 0.00e+00 1.72e+00 -10.8 3.67e-01    -  1.00e+00 4.88e-04f 12\n",
      "  37 -2.4900152e+02 0.00e+00 1.69e-01 -11.0 1.16e-01    -  1.00e+00 3.12e-02f  6\n",
      "  38 -2.4900152e+02 0.00e+00 1.85e-01 -11.0 3.95e-03    -  1.00e+00 6.25e-02f  5\n",
      "  39 -2.4900152e+02 0.00e+00 1.59e-01 -11.0 8.11e-02    -  1.00e+00 9.77e-04f 11\n",
      "iter    objective    inf_pr   inf_du lg(mu)  ||d||  lg(rg) alpha_du alpha_pr  ls\n",
      "  40 -2.4900152e+02 0.00e+00 1.39e-01 -11.0 7.72e-02    -  1.00e+00 1.95e-03f 10\n",
      "  41 -2.4900152e+02 0.00e+00 4.65e-03 -11.0 4.26e-04    -  1.00e+00 1.00e+00f  1\n",
      "  42 -2.4900152e+02 0.00e+00 4.30e-03 -11.0 2.28e-05    -  1.00e+00 1.00e+00f  1\n",
      "  43 -2.4900152e+02 0.00e+00 5.32e-03 -11.0 1.54e-03    -  1.00e+00 4.88e-04f 12\n",
      "  44 -2.4900152e+02 0.00e+00 5.13e-03 -11.0 2.42e-03    -  1.00e+00 7.81e-03f  8\n",
      "  45 -2.4900152e+02 0.00e+00 8.74e-04 -11.0 1.46e-05    -  1.00e+00 1.00e+00f  1\n",
      "\n",
      "Number of Iterations....: 45\n",
      "\n",
      "                                   (scaled)                 (unscaled)\n",
      "Objective...............:   2.4900152024184712e+02   -2.4900152024184712e+02\n",
      "Dual infeasibility......:   8.7399869915216755e-04    8.7399869915216755e-04\n",
      "Constraint violation....:   0.0000000000000000e+00    0.0000000000000000e+00\n",
      "Variable bound violation:   0.0000000000000000e+00    0.0000000000000000e+00\n",
      "Complementarity.........:   1.0000000084928740e-11    1.0000000084928740e-11\n",
      "Overall NLP error.......:   8.7399869915216755e-04    8.7399869915216755e-04\n",
      "\n",
      "\n",
      "Number of objective function evaluations             = 346\n",
      "Number of objective gradient evaluations             = 46\n",
      "Number of equality constraint evaluations            = 0\n",
      "Number of inequality constraint evaluations          = 0\n",
      "Number of equality constraint Jacobian evaluations   = 0\n",
      "Number of inequality constraint Jacobian evaluations = 0\n",
      "Number of Lagrangian Hessian evaluations             = 0\n",
      "Total seconds in IPOPT                               = 0.423\n",
      "\n",
      "EXIT: Optimal Solution Found.\n"
     ]
    },
    {
     "data": {
      "text/plain": [
       "-249.00152024184712"
      ]
     },
     "execution_count": 5,
     "metadata": {},
     "output_type": "execute_result"
    }
   ],
   "source": [
    "# get data\n",
    "R\"\"\"\n",
    "data(respiratory, package=\"geepack\")\n",
    "respiratory_df <- respiratory[order(respiratory$id),]\n",
    "\"\"\"\n",
    "@rget respiratory_df\n",
    "\n",
    "# form model\n",
    "df = respiratory_df\n",
    "y = :outcome\n",
    "grouping = :id\n",
    "d = Bernoulli()\n",
    "link = LogitLink()\n",
    "covariates = [:center, :age, :baseline]\n",
    "qc_model = CS_model(df, y, grouping, covariates, d, link)\n",
    "\n",
    "# fit\n",
    "QuasiCopula.fit!(qc_model)"
   ]
  },
  {
   "cell_type": "code",
   "execution_count": 6,
   "metadata": {
    "collapsed": false
   },
   "outputs": [
    {
     "name": "stdout",
     "output_type": "stream",
     "text": [
      "qc_model.β = [-0.807352363702958, 0.8553551273442161, -0.027821938178065966, 2.0702700293048473]\n",
      "qc_model.σ2 = [0.3524250465323322]\n",
      "qc_model.ρ = [0.8734708179288094]\n"
     ]
    }
   ],
   "source": [
    "@show qc_model.β\n",
    "@show qc_model.σ2\n",
    "@show qc_model.ρ;"
   ]
  },
  {
   "cell_type": "code",
   "execution_count": null,
   "metadata": {
    "collapsed": true
   },
   "outputs": [],
   "source": []
  }
 ],
 "metadata": {
  "kernelspec": {
   "display_name": "Julia 1.10.2",
   "language": "julia",
   "name": "julia-1.10"
  },
  "language_info": {
   "file_extension": ".jl",
   "mimetype": "application/julia",
   "name": "julia",
   "version": "1.10.2"
  }
 },
 "nbformat": 4,
 "nbformat_minor": 2
}
