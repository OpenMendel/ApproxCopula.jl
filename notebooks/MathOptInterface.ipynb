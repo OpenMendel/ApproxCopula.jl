{
 "cells": [
  {
   "cell_type": "markdown",
   "metadata": {},
   "source": [
    "# Upgrading from MathProgBase.jl to MathOptInterface.jl\n",
    "\n",
    "+ MathProgBase.jl has been [depreciated](https://github.com/JuliaOpt/MathProgBase.jl/pull/231) since Jan 2019. It is therefore not officially supported by julia v1.2 and above. We should use [MathOptInterface.jl](https://github.com/jump-dev/MathOptInterface.jl) instead. \n",
    "+ Other packages such as BinaryProvider.jl and Ipopt.jl needs to also be updated to the latest version or depreciated and use the latest one supported by the Julia community.\n",
    "+ To ensure a smooth update, checkout the [official documentation](https://jump.dev/MathOptInterface.jl/dev/tutorials/mathprogbase/) as well as examples by [WiSER.jl](https://github.com/OpenMendel/WiSER.jl/blob/master/src/fit.jl) and [OrdinalMultinomialModels.jl](https://github.com/OpenMendel/OrdinalMultinomialModels.jl/blob/master/src/ordmnfit.jl)"
   ]
  },
  {
   "cell_type": "code",
   "execution_count": 26,
   "metadata": {
    "collapsed": false,
    "scrolled": true
   },
   "outputs": [
    {
     "name": "stdout",
     "output_type": "stream",
     "text": [
      "qc_model = Quasi-Copula Variance Component Model\n",
      "  * base distribution: Bernoulli\n",
      "  * link function: LogitLink\n",
      "  * number of clusters: 10000\n",
      "  * cluster size min, max: 5, 5\n",
      "  * number of variance components: 2\n",
      "  * number of fixed effects: 15\n",
      "\n"
     ]
    },
    {
     "ename": "LoadError",
     "evalue": "UndefVarError: `NLPBlock` not defined",
     "output_type": "error",
     "traceback": [
      "UndefVarError: `NLPBlock` not defined",
      "",
      "Stacktrace:",
      " [1] fit!(qc_model::GLMCopulaVCModel{Float64, Bernoulli{Float64}, LogitLink}, solver::Ipopt.Optimizer; solver_config::Dict{String, Any})",
      "   @ QuasiCopula ~/.julia/dev/QuasiCopula/src/parameter_estimation/fit_glm_vc.jl:57",
      " [2] fit!",
      "   @ ~/.julia/dev/QuasiCopula/src/parameter_estimation/fit_glm_vc.jl:13 [inlined]",
      " [3] fit!(qc_model::GLMCopulaVCModel{Float64, Bernoulli{Float64}, LogitLink})",
      "   @ QuasiCopula ~/.julia/dev/QuasiCopula/src/parameter_estimation/fit_glm_vc.jl:13",
      " [4] macro expansion",
      "   @ ./timing.jl:279 [inlined]",
      " [5] top-level scope",
      "   @ ./In[26]:35"
     ]
    }
   ],
   "source": [
    "using Revise\n",
    "using Ipopt\n",
    "using QuasiCopula\n",
    "using Random\n",
    "using GLM\n",
    "using LinearAlgebra\n",
    "using Statistics\n",
    "using StatsBase\n",
    "using MathOptInterface\n",
    "\n",
    "ENV[\"COLUMNS\"] = 240\n",
    "BLAS.set_num_threads(1)\n",
    "Threads.nthreads()\n",
    "\n",
    "k = 0 # number of causal SNPs\n",
    "\n",
    "qc_model, G, βtrue, θtrue, γtrue, τtrue = simulate_longitudinal_traits(\n",
    "    n = 10000, # sample size\n",
    "    d_min = 5, # min number of observations per sample\n",
    "    d_max = 5, # max number of observations per sample\n",
    "    p = 15, # number of fixed effects, including intercept\n",
    "    m = 2, # number of variance components\n",
    "    q = 1000, # number of SNPs\n",
    "    k = k, # number of causal SNPs\n",
    "    seed = 2024,\n",
    "    y_distribution = Bernoulli,\n",
    "    τtrue = 0.5,\n",
    "    T = Float64,\n",
    "    maf = 0.3,\n",
    "    causal_snp_β = 0.2\n",
    ")\n",
    "\n",
    "@show qc_model;\n",
    "\n",
    "@time optm = QuasiCopula.fit!(qc_model);"
   ]
  },
  {
   "cell_type": "code",
   "execution_count": 24,
   "metadata": {
    "collapsed": false
   },
   "outputs": [
    {
     "name": "stdout",
     "output_type": "stream",
     "text": [
      "βtrue = [1.0, -0.5, 0.5, 0.5, 0.5, -0.5, 0.5, -0.5, 0.5, -0.5, -0.5, -0.5, 0.5, -0.5, -0.5]\n",
      "qc_model.β = [1.0117570318510478, -0.5089169834363244, 0.49576633351557, 0.48814105668564467, 0.5059336670702058, -0.497950756571916, 0.4880296147654393, -0.4960080041746038, 0.4962344136852955, -0.4898931816925872, -0.509985681681852, -0.4832691011406199, 0.4787231797420944, -0.51456972551484, -0.47154951845097376]\n",
      "qc_model.∇β = [-0.0007123036282812856, -6.826599935205735e-5, 0.0001239131191604903, 0.0005152871972469164, 0.00028022120171788956, 3.6481156232726075e-5, 7.566351851695519e-5, 0.0002129179100764933, 0.00044149755171069005, 0.0001915248276890269, -0.0002159099408911569, 0.00034448697090094793, 9.044316783501927e-6, -8.450373955692925e-6, -0.0004037025329033106]\n",
      "θtrue = [0.1, 0.1]\n",
      "qc_model.θ = [0.1107015363240431, -9.998245502613854e-9]\n",
      "qc_model.∇θ = [-0.001189266278714296, -15.137726286741007]\n"
     ]
    }
   ],
   "source": [
    "@show βtrue\n",
    "@show qc_model.β\n",
    "@show qc_model.∇β\n",
    "\n",
    "@show θtrue\n",
    "@show qc_model.θ\n",
    "@show qc_model.∇θ;\n",
    "\n",
    "# @show τtrue\n",
    "# @show qc_model.τ\n",
    "# @show qc_model.∇τ;"
   ]
  },
  {
   "cell_type": "code",
   "execution_count": null,
   "metadata": {
    "collapsed": true
   },
   "outputs": [],
   "source": []
  },
  {
   "cell_type": "code",
   "execution_count": null,
   "metadata": {
    "collapsed": true
   },
   "outputs": [],
   "source": []
  },
  {
   "cell_type": "code",
   "execution_count": null,
   "metadata": {
    "collapsed": true
   },
   "outputs": [],
   "source": []
  },
  {
   "cell_type": "code",
   "execution_count": 2,
   "metadata": {
    "collapsed": false
   },
   "outputs": [
    {
     "ename": "LoadError",
     "evalue": "UndefVarError: `config_solver` not defined",
     "output_type": "error",
     "traceback": [
      "UndefVarError: `config_solver` not defined",
      "",
      "Stacktrace:",
      " [1] top-level scope",
      "   @ In[2]:15"
     ]
    }
   ],
   "source": [
    "import QuasiCopula.config_solver\n",
    "import QuasiCopula.initialize_model!\n",
    "import QuasiCopula.modelpar_to_optimpar!\n",
    "T = Float64\n",
    "const MOI = MathOptInterface\n",
    "solver = Ipopt.Optimizer()\n",
    "solver_config = Dict(\"print_level\"           => 5, \n",
    "                 \"mehrotra_algorithm\"    => \"yes\",\n",
    "                 \"warm_start_init_point\" => \"yes\",\n",
    "                 \"max_iter\"              => 100)\n",
    "solvertype = typeof(solver)\n",
    "\n",
    "\n",
    "\n",
    "\n",
    "    solvertype = typeof(solver)\n",
    "    solvertype <: Ipopt.Optimizer ||\n",
    "        @warn(\"Optimizer object is $solvertype, `solver_config` may need to be defined.\")\n",
    "    config_solver(solver, solver_config)\n",
    "\n",
    "    # set lower bounds and upper bounds of parameters\n",
    "    npar = gcm.p + gcm.m\n",
    "    lb   = fill(-Inf, npar)\n",
    "    ub   = fill(Inf, npar)\n",
    "    offset = gcm.p + 1\n",
    "    for k in 1:gcm.m\n",
    "        lb[offset] = 0\n",
    "        offset += 1\n",
    "    end\n",
    "\n",
    "    # set up NLP optimization problem\n",
    "    MOI.empty!(solver)\n",
    "    NLPBlock = MOI.NLPBlockData(\n",
    "        MOI.NLPBoundsPair.(lb, ub), gcm, true\n",
    "    )\n",
    "    par0 = Vector{T}(undef, npar)\n",
    "    solver_pars = MOI.add_variables(solver, npar)\n",
    "    for i in 1:npar\n",
    "        MOI.set(solver, MOI.VariablePrimalStart(), solver_pars[i], par0[i])\n",
    "    end\n",
    "    MOI.set(solver, MOI.NLPBlock(), NLPBlock)\n",
    "    MOI.set(solver, MOI.ObjectiveSense(), MOI.MIN_SENSE)\n",
    "\n",
    "    # initial condition\n",
    "    QuasiCopula.initialize_model!(gcm)\n",
    "    QuasiCopula.modelpar_to_optimpar!(par0, gcm)\n",
    "    for i in 1:npar\n",
    "        MOI.set(solver, MOI.VariablePrimalStart(), solver_pars[i], par0[i])\n",
    "    end\n",
    "\n",
    "    MOI.optimize!(solver)\n"
   ]
  },
  {
   "cell_type": "code",
   "execution_count": null,
   "metadata": {
    "collapsed": true
   },
   "outputs": [],
   "source": []
  },
  {
   "cell_type": "markdown",
   "metadata": {},
   "source": [
    "## TrajGWAS.jl test"
   ]
  },
  {
   "cell_type": "code",
   "execution_count": null,
   "metadata": {
    "collapsed": true
   },
   "outputs": [],
   "source": [
    "using CSV, DataFrames, WiSER\n",
    "filepath = normpath(joinpath(dirname(pathof(WiSER)), \"../data/\"))\n",
    "df = DataFrame(CSV.File(filepath * \"sbp.csv\"))\n",
    "\n",
    "m = WSVarLmmModel(\n",
    "    @formula(sbp ~ 1 + agegroup + gender + bmi_std + meds), \n",
    "    @formula(sbp ~ 1 + bmi_std), \n",
    "    @formula(sbp ~ 1 + agegroup + meds + bmi_std),\n",
    "    :id, df);\n",
    "\n",
    "solver = Ipopt.Optimizer()\n",
    "\n",
    "\n",
    "    solvertype = typeof(solver)\n",
    "    solvertype <: Ipopt.Optimizer ||\n",
    "        @warn(\"Optimizer object is $solvertype, `solver_config` may need to be defined.\")\n",
    "    # Pass options to solver\n",
    "    WiSER.config_solver(solver, solver_config)\n",
    "    # set up NLP optimization problem\n",
    "    npar = m.l + ◺(m.q)\n",
    "    MOI.empty!(solver)\n",
    "    lb   = T[]\n",
    "    ub   = T[]\n",
    "\n",
    "    NLPBlock = MOI.NLPBlockData(\n",
    "        MOI.NLPBoundsPair.(lb, ub), m, true\n",
    "    )\n",
    "\n",
    "    par0 = Vector{T}(undef, npar)\n",
    "    WiSER.modelpar_to_optimpar!(par0, m)\n",
    "\n",
    "    solver_pars = MOI.add_variables(solver, npar)\n",
    "    for i in 1:npar\n",
    "        MOI.set(solver, MOI.VariablePrimalStart(), solver_pars[i], par0[i])\n",
    "    end\n",
    "\n",
    "    MOI.set(solver, MOI.NLPBlock(), NLPBlock)\n",
    "    MOI.set(solver, MOI.ObjectiveSense(), MOI.MIN_SENSE)\n"
   ]
  }
 ],
 "metadata": {
  "kernelspec": {
   "display_name": "Julia 1.10.2",
   "language": "julia",
   "name": "julia-1.10"
  },
  "language_info": {
   "file_extension": ".jl",
   "mimetype": "application/julia",
   "name": "julia",
   "version": "1.10.2"
  }
 },
 "nbformat": 4,
 "nbformat_minor": 2
}
