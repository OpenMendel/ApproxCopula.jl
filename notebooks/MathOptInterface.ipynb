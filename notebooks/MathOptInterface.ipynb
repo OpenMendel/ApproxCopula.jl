{
 "cells": [
  {
   "cell_type": "markdown",
   "metadata": {},
   "source": [
    "# Upgrading from MathProgBase.jl to MathOptInterface.jl\n",
    "\n",
    "+ MathProgBase.jl has been [depreciated](https://github.com/JuliaOpt/MathProgBase.jl/pull/231) since Jan 2019. It is therefore not officially supported by julia v1.2 and above. We should use [MathOptInterface.jl](https://github.com/jump-dev/MathOptInterface.jl) instead. \n",
    "+ Other packages such as BinaryProvider.jl and Ipopt.jl needs to also be updated to the latest version or depreciated and use the latest one supported by the Julia community.\n",
    "+ To ensure a smooth update, checkout the [official documentation](https://jump.dev/MathOptInterface.jl/dev/tutorials/mathprogbase/) as well as examples by [WiSER.jl](https://github.com/OpenMendel/WiSER.jl/blob/master/src/fit.jl) and [OrdinalMultinomialModels.jl](https://github.com/OpenMendel/OrdinalMultinomialModels.jl/blob/master/src/ordmnfit.jl)"
   ]
  },
  {
   "cell_type": "code",
   "execution_count": 1,
   "metadata": {
    "collapsed": false
   },
   "outputs": [
    {
     "name": "stderr",
     "output_type": "stream",
     "text": [
      "\u001b[32m\u001b[1mPrecompiling\u001b[22m\u001b[39m QuasiCopula\n",
      "\u001b[36m\u001b[1m        Info\u001b[22m\u001b[39m Given QuasiCopula was explicitly requested, output will be shown live \u001b[0K\n",
      "\u001b[0K\u001b[91m\u001b[1mERROR: \u001b[22m\u001b[39mLoadError: UndefVarError: `eval_f` not defined\n",
      "\u001b[0KStacktrace:\n",
      "\u001b[0K [1] \u001b[0m\u001b[1mgetproperty\u001b[22m\u001b[0m\u001b[1m(\u001b[22m\u001b[90mx\u001b[39m::\u001b[0mModule, \u001b[90mf\u001b[39m::\u001b[0mSymbol\u001b[0m\u001b[1m)\u001b[22m\n",
      "\u001b[0K\u001b[90m   @\u001b[39m \u001b[90mBase\u001b[39m \u001b[90m./\u001b[39m\u001b[90m\u001b[4mBase.jl:31\u001b[24m\u001b[39m\n",
      "\u001b[0K [2] top-level scope\n",
      "\u001b[0K\u001b[90m   @\u001b[39m \u001b[90m~/.julia/dev/QuasiCopula/src/parameter_estimation/\u001b[39m\u001b[90m\u001b[4mfit_glm_ar_cs.jl:166\u001b[24m\u001b[39m\n",
      "\u001b[0K [3] \u001b[0m\u001b[1minclude\u001b[22m\u001b[0m\u001b[1m(\u001b[22m\u001b[90mmod\u001b[39m::\u001b[0mModule, \u001b[90m_path\u001b[39m::\u001b[0mString\u001b[0m\u001b[1m)\u001b[22m\n",
      "\u001b[0K\u001b[90m   @\u001b[39m \u001b[90mBase\u001b[39m \u001b[90m./\u001b[39m\u001b[90m\u001b[4mBase.jl:495\u001b[24m\u001b[39m\n",
      "\u001b[0K [4] \u001b[0m\u001b[1minclude\u001b[22m\u001b[0m\u001b[1m(\u001b[22m\u001b[90mx\u001b[39m::\u001b[0mString\u001b[0m\u001b[1m)\u001b[22m\n",
      "\u001b[0K\u001b[90m   @\u001b[39m \u001b[35mQuasiCopula\u001b[39m \u001b[90m~/.julia/dev/QuasiCopula/src/\u001b[39m\u001b[90m\u001b[4mQuasiCopula.jl:1\u001b[24m\u001b[39m\n",
      "\u001b[0K [5] top-level scope\n",
      "\u001b[0K\u001b[90m   @\u001b[39m \u001b[90m~/.julia/dev/QuasiCopula/src/\u001b[39m\u001b[90m\u001b[4mQuasiCopula.jl:55\u001b[24m\u001b[39m\n",
      "\u001b[0K [6] \u001b[0m\u001b[1minclude\u001b[22m\n",
      "\u001b[0K\u001b[90m   @\u001b[39m \u001b[90m./\u001b[39m\u001b[90m\u001b[4mBase.jl:495\u001b[24m\u001b[39m\u001b[90m [inlined]\u001b[39m\n",
      "\u001b[0K [7] \u001b[0m\u001b[1minclude_package_for_output\u001b[22m\u001b[0m\u001b[1m(\u001b[22m\u001b[90mpkg\u001b[39m::\u001b[0mBase.PkgId, \u001b[90minput\u001b[39m::\u001b[0mString, \u001b[90mdepot_path\u001b[39m::\u001b[0mVector\u001b[90m{String}\u001b[39m, \u001b[90mdl_load_path\u001b[39m::\u001b[0mVector\u001b[90m{String}\u001b[39m, \u001b[90mload_path\u001b[39m::\u001b[0mVector\u001b[90m{String}\u001b[39m, \u001b[90mconcrete_deps\u001b[39m::\u001b[0mVector\u001b[90m{Pair{Base.PkgId, UInt128}}\u001b[39m, \u001b[90msource\u001b[39m::\u001b[0mNothing\u001b[0m\u001b[1m)\u001b[22m\n",
      "\u001b[0K\u001b[90m   @\u001b[39m \u001b[90mBase\u001b[39m \u001b[90m./\u001b[39m\u001b[90m\u001b[4mloading.jl:2222\u001b[24m\u001b[39m\n",
      "\u001b[0K [8] top-level scope\n",
      "\u001b[0K\u001b[90m   @\u001b[39m \u001b[90m\u001b[4mstdin:3\u001b[24m\u001b[39m\n",
      "\u001b[0Kin expression starting at /Users/biona001/.julia/dev/QuasiCopula/src/parameter_estimation/fit_glm_ar_cs.jl:166\n",
      "\u001b[0Kin expression starting at /Users/biona001/.julia/dev/QuasiCopula/src/QuasiCopula.jl:1\n",
      "\u001b[0Kin expression starting at stdin:3\n",
      "\u001b[91m  ✗ \u001b[39mQuasiCopula\n",
      "  0 dependencies successfully precompiled in 4 seconds. 151 already precompiled.\n",
      "\n"
     ]
    },
    {
     "ename": "LoadError",
     "evalue": "The following 1 direct dependency failed to precompile:\n\nQuasiCopula [c47b6ae2-b804-4668-9957-eb588c99ffbc]\n\nFailed to precompile QuasiCopula [c47b6ae2-b804-4668-9957-eb588c99ffbc] to \"/Users/biona001/.julia/compiled/v1.10/QuasiCopula/jl_oacKF7\".\n\u001b[91m\u001b[1mERROR: \u001b[22m\u001b[39mLoadError: UndefVarError: `eval_f` not defined\nStacktrace:\n [1] \u001b[0m\u001b[1mgetproperty\u001b[22m\u001b[0m\u001b[1m(\u001b[22m\u001b[90mx\u001b[39m::\u001b[0mModule, \u001b[90mf\u001b[39m::\u001b[0mSymbol\u001b[0m\u001b[1m)\u001b[22m\n\u001b[90m   @\u001b[39m \u001b[90mBase\u001b[39m \u001b[90m./\u001b[39m\u001b[90m\u001b[4mBase.jl:31\u001b[24m\u001b[39m\n [2] top-level scope\n\u001b[90m   @\u001b[39m \u001b[90m~/.julia/dev/QuasiCopula/src/parameter_estimation/\u001b[39m\u001b[90m\u001b[4mfit_glm_ar_cs.jl:166\u001b[24m\u001b[39m\n [3] \u001b[0m\u001b[1minclude\u001b[22m\u001b[0m\u001b[1m(\u001b[22m\u001b[90mmod\u001b[39m::\u001b[0mModule, \u001b[90m_path\u001b[39m::\u001b[0mString\u001b[0m\u001b[1m)\u001b[22m\n\u001b[90m   @\u001b[39m \u001b[90mBase\u001b[39m \u001b[90m./\u001b[39m\u001b[90m\u001b[4mBase.jl:495\u001b[24m\u001b[39m\n [4] \u001b[0m\u001b[1minclude\u001b[22m\u001b[0m\u001b[1m(\u001b[22m\u001b[90mx\u001b[39m::\u001b[0mString\u001b[0m\u001b[1m)\u001b[22m\n\u001b[90m   @\u001b[39m \u001b[35mQuasiCopula\u001b[39m \u001b[90m~/.julia/dev/QuasiCopula/src/\u001b[39m\u001b[90m\u001b[4mQuasiCopula.jl:1\u001b[24m\u001b[39m\n [5] top-level scope\n\u001b[90m   @\u001b[39m \u001b[90m~/.julia/dev/QuasiCopula/src/\u001b[39m\u001b[90m\u001b[4mQuasiCopula.jl:55\u001b[24m\u001b[39m\n [6] \u001b[0m\u001b[1minclude\u001b[22m\n\u001b[90m   @\u001b[39m \u001b[90m./\u001b[39m\u001b[90m\u001b[4mBase.jl:495\u001b[24m\u001b[39m\u001b[90m [inlined]\u001b[39m\n [7] \u001b[0m\u001b[1minclude_package_for_output\u001b[22m\u001b[0m\u001b[1m(\u001b[22m\u001b[90mpkg\u001b[39m::\u001b[0mBase.PkgId, \u001b[90minput\u001b[39m::\u001b[0mString, \u001b[90mdepot_path\u001b[39m::\u001b[0mVector\u001b[90m{String}\u001b[39m, \u001b[90mdl_load_path\u001b[39m::\u001b[0mVector\u001b[90m{String}\u001b[39m, \u001b[90mload_path\u001b[39m::\u001b[0mVector\u001b[90m{String}\u001b[39m, \u001b[90mconcrete_deps\u001b[39m::\u001b[0mVector\u001b[90m{Pair{Base.PkgId, UInt128}}\u001b[39m, \u001b[90msource\u001b[39m::\u001b[0mNothing\u001b[0m\u001b[1m)\u001b[22m\n\u001b[90m   @\u001b[39m \u001b[90mBase\u001b[39m \u001b[90m./\u001b[39m\u001b[90m\u001b[4mloading.jl:2222\u001b[24m\u001b[39m\n [8] top-level scope\n\u001b[90m   @\u001b[39m \u001b[90m\u001b[4mstdin:3\u001b[24m\u001b[39m\nin expression starting at /Users/biona001/.julia/dev/QuasiCopula/src/parameter_estimation/fit_glm_ar_cs.jl:166\nin expression starting at /Users/biona001/.julia/dev/QuasiCopula/src/QuasiCopula.jl:1\nin expression starting at stdin:",
     "output_type": "error",
     "traceback": [
      "The following 1 direct dependency failed to precompile:\n\nQuasiCopula [c47b6ae2-b804-4668-9957-eb588c99ffbc]\n\nFailed to precompile QuasiCopula [c47b6ae2-b804-4668-9957-eb588c99ffbc] to \"/Users/biona001/.julia/compiled/v1.10/QuasiCopula/jl_oacKF7\".\n\u001b[91m\u001b[1mERROR: \u001b[22m\u001b[39mLoadError: UndefVarError: `eval_f` not defined\nStacktrace:\n [1] \u001b[0m\u001b[1mgetproperty\u001b[22m\u001b[0m\u001b[1m(\u001b[22m\u001b[90mx\u001b[39m::\u001b[0mModule, \u001b[90mf\u001b[39m::\u001b[0mSymbol\u001b[0m\u001b[1m)\u001b[22m\n\u001b[90m   @\u001b[39m \u001b[90mBase\u001b[39m \u001b[90m./\u001b[39m\u001b[90m\u001b[4mBase.jl:31\u001b[24m\u001b[39m\n [2] top-level scope\n\u001b[90m   @\u001b[39m \u001b[90m~/.julia/dev/QuasiCopula/src/parameter_estimation/\u001b[39m\u001b[90m\u001b[4mfit_glm_ar_cs.jl:166\u001b[24m\u001b[39m\n [3] \u001b[0m\u001b[1minclude\u001b[22m\u001b[0m\u001b[1m(\u001b[22m\u001b[90mmod\u001b[39m::\u001b[0mModule, \u001b[90m_path\u001b[39m::\u001b[0mString\u001b[0m\u001b[1m)\u001b[22m\n\u001b[90m   @\u001b[39m \u001b[90mBase\u001b[39m \u001b[90m./\u001b[39m\u001b[90m\u001b[4mBase.jl:495\u001b[24m\u001b[39m\n [4] \u001b[0m\u001b[1minclude\u001b[22m\u001b[0m\u001b[1m(\u001b[22m\u001b[90mx\u001b[39m::\u001b[0mString\u001b[0m\u001b[1m)\u001b[22m\n\u001b[90m   @\u001b[39m \u001b[35mQuasiCopula\u001b[39m \u001b[90m~/.julia/dev/QuasiCopula/src/\u001b[39m\u001b[90m\u001b[4mQuasiCopula.jl:1\u001b[24m\u001b[39m\n [5] top-level scope\n\u001b[90m   @\u001b[39m \u001b[90m~/.julia/dev/QuasiCopula/src/\u001b[39m\u001b[90m\u001b[4mQuasiCopula.jl:55\u001b[24m\u001b[39m\n [6] \u001b[0m\u001b[1minclude\u001b[22m\n\u001b[90m   @\u001b[39m \u001b[90m./\u001b[39m\u001b[90m\u001b[4mBase.jl:495\u001b[24m\u001b[39m\u001b[90m [inlined]\u001b[39m\n [7] \u001b[0m\u001b[1minclude_package_for_output\u001b[22m\u001b[0m\u001b[1m(\u001b[22m\u001b[90mpkg\u001b[39m::\u001b[0mBase.PkgId, \u001b[90minput\u001b[39m::\u001b[0mString, \u001b[90mdepot_path\u001b[39m::\u001b[0mVector\u001b[90m{String}\u001b[39m, \u001b[90mdl_load_path\u001b[39m::\u001b[0mVector\u001b[90m{String}\u001b[39m, \u001b[90mload_path\u001b[39m::\u001b[0mVector\u001b[90m{String}\u001b[39m, \u001b[90mconcrete_deps\u001b[39m::\u001b[0mVector\u001b[90m{Pair{Base.PkgId, UInt128}}\u001b[39m, \u001b[90msource\u001b[39m::\u001b[0mNothing\u001b[0m\u001b[1m)\u001b[22m\n\u001b[90m   @\u001b[39m \u001b[90mBase\u001b[39m \u001b[90m./\u001b[39m\u001b[90m\u001b[4mloading.jl:2222\u001b[24m\u001b[39m\n [8] top-level scope\n\u001b[90m   @\u001b[39m \u001b[90m\u001b[4mstdin:3\u001b[24m\u001b[39m\nin expression starting at /Users/biona001/.julia/dev/QuasiCopula/src/parameter_estimation/fit_glm_ar_cs.jl:166\nin expression starting at /Users/biona001/.julia/dev/QuasiCopula/src/QuasiCopula.jl:1\nin expression starting at stdin:",
      "",
      "Stacktrace:",
      "  [1] pkgerror(msg::String)",
      "    @ Pkg.Types ~/.julia/juliaup/julia-1.10.2+0.aarch64.apple.darwin14/share/julia/stdlib/v1.10/Pkg/src/Types.jl:70",
      "  [2] precompile(ctx::Pkg.Types.Context, pkgs::Vector{Pkg.Types.PackageSpec}; internal_call::Bool, strict::Bool, warn_loaded::Bool, already_instantiated::Bool, timing::Bool, _from_loading::Bool, kwargs::@Kwargs{io::IJulia.IJuliaStdio{Base.PipeEndpoint}})",
      "    @ Pkg.API ~/.julia/juliaup/julia-1.10.2+0.aarch64.apple.darwin14/share/julia/stdlib/v1.10/Pkg/src/API.jl:1659",
      "  [3] precompile(pkgs::Vector{Pkg.Types.PackageSpec}; io::IJulia.IJuliaStdio{Base.PipeEndpoint}, kwargs::@Kwargs{_from_loading::Bool})",
      "    @ Pkg.API ~/.julia/juliaup/julia-1.10.2+0.aarch64.apple.darwin14/share/julia/stdlib/v1.10/Pkg/src/API.jl:159",
      "  [4] precompile",
      "    @ ~/.julia/juliaup/julia-1.10.2+0.aarch64.apple.darwin14/share/julia/stdlib/v1.10/Pkg/src/API.jl:147 [inlined]",
      "  [5] #precompile#114",
      "    @ ~/.julia/juliaup/julia-1.10.2+0.aarch64.apple.darwin14/share/julia/stdlib/v1.10/Pkg/src/API.jl:146 [inlined]",
      "  [6] #invokelatest#2",
      "    @ ./essentials.jl:894 [inlined]",
      "  [7] invokelatest",
      "    @ ./essentials.jl:889 [inlined]",
      "  [8] _require(pkg::Base.PkgId, env::String)",
      "    @ Base ./loading.jl:1963",
      "  [9] __require_prelocked(uuidkey::Base.PkgId, env::String)",
      "    @ Base ./loading.jl:1812",
      " [10] #invoke_in_world#3",
      "    @ ./essentials.jl:926 [inlined]",
      " [11] invoke_in_world",
      "    @ ./essentials.jl:923 [inlined]",
      " [12] _require_prelocked(uuidkey::Base.PkgId, env::String)",
      "    @ Base ./loading.jl:1803",
      " [13] macro expansion",
      "    @ ./loading.jl:1790 [inlined]",
      " [14] macro expansion",
      "    @ ./lock.jl:267 [inlined]",
      " [15] __require(into::Module, mod::Symbol)",
      "    @ Base ./loading.jl:1753",
      " [16] #invoke_in_world#3",
      "    @ ./essentials.jl:926 [inlined]",
      " [17] invoke_in_world",
      "    @ ./essentials.jl:923 [inlined]",
      " [18] require(into::Module, mod::Symbol)",
      "    @ Base ./loading.jl:1746"
     ]
    }
   ],
   "source": [
    "using Revise\n",
    "using Ipopt\n",
    "using QuasiCopula\n",
    "using Random\n",
    "using GLM\n",
    "using LinearAlgebra\n",
    "using Statistics\n",
    "using StatsBase\n",
    "using MathOptInterface\n",
    "using RCall\n",
    "\n",
    "ENV[\"COLUMNS\"] = 240\n",
    "BLAS.set_num_threads(1)\n",
    "Threads.nthreads()"
   ]
  },
  {
   "cell_type": "code",
   "execution_count": 3,
   "metadata": {
    "collapsed": false,
    "scrolled": false
   },
   "outputs": [
    {
     "name": "stdout",
     "output_type": "stream",
     "text": [
      "qc_model = Quasi-Copula Variance Component Model\n",
      "  * base distribution: Normal\n",
      "  * link function: IdentityLink\n",
      "  * number of clusters: 10000\n",
      "  * cluster size min, max: 5, 5\n",
      "  * number of variance components: 2\n",
      "  * number of fixed effects: 15\n",
      "\n",
      "\n",
      "******************************************************************************\n",
      "This program contains Ipopt, a library for large-scale nonlinear optimization.\n",
      " Ipopt is released as open source code under the Eclipse Public License (EPL).\n",
      "         For more information visit https://github.com/coin-or/Ipopt\n",
      "******************************************************************************\n",
      "\n",
      "This is Ipopt version 3.14.14, running with linear solver MUMPS 5.6.2.\n",
      "\n",
      "Number of nonzeros in equality constraint Jacobian...:        0\n",
      "Number of nonzeros in inequality constraint Jacobian.:        0\n",
      "Number of nonzeros in Lagrangian Hessian.............:        0\n",
      "\n",
      "Total number of variables............................:       18\n",
      "                     variables with only lower bounds:        3\n",
      "                variables with lower and upper bounds:        0\n",
      "                     variables with only upper bounds:        0\n",
      "Total number of equality constraints.................:        0\n",
      "Total number of inequality constraints...............:        0\n",
      "        inequality constraints with only lower bounds:        0\n",
      "   inequality constraints with lower and upper bounds:        0\n",
      "        inequality constraints with only upper bounds:        0\n",
      "\n",
      "iter    objective    inf_pr   inf_du lg(mu)  ||d||  lg(rg) alpha_du alpha_pr  ls\n",
      "   0 -9.1062186e+04 0.00e+00 3.57e+01   0.0 0.00e+00    -  0.00e+00 0.00e+00   0\n",
      "   1 -9.1062071e+04 0.00e+00 4.12e+00  -9.6 3.57e+01    -  1.00e+00 4.84e-05f 15\n",
      "   2 -9.1062070e+04 0.00e+00 9.61e-01  -5.8 1.78e-04    -  1.00e+00 1.00e+00f  1\n",
      "   3 -9.1062070e+04 0.00e+00 1.88e-01  -7.7 4.19e-05    -  1.00e+00 2.50e-01f  3\n",
      "   4 -9.1062070e+04 0.00e+00 1.65e-01  -9.6 2.32e-06    -  1.00e+00 1.00e+00f  1\n",
      "   5 -9.1062070e+04 0.00e+00 1.38e-01  -9.7 1.41e-05    -  1.00e+00 1.00e+00f  1\n",
      "   6 -9.1062070e+04 0.00e+00 1.57e-01 -11.0 2.54e-05    -  1.00e+00 1.00e+00f  1\n",
      "   7 -9.1062070e+04 0.00e+00 2.27e-01 -11.0 1.79e-04    -  1.00e+00 5.00e-01f  2\n",
      "   8 -9.1062070e+04 0.00e+00 4.15e-01 -11.0 4.64e-04    -  1.00e+00 2.50e-01f  3\n",
      "   9 -9.1062070e+04 0.00e+00 1.43e-01 -11.0 7.17e-05    -  1.00e+00 2.50e-01f  3\n",
      "iter    objective    inf_pr   inf_du lg(mu)  ||d||  lg(rg) alpha_du alpha_pr  ls\n",
      "  10 -9.1062070e+04 0.00e+00 4.92e-01 -11.0 1.39e-05    -  1.00e+00 5.00e-01f  2\n",
      "  11 -9.1062070e+04 0.00e+00 1.52e-02 -11.0 4.34e-05    -  1.00e+00 1.00e+00f  1\n",
      "  12 -9.1062070e+04 0.00e+00 1.27e-02 -11.0 1.58e-05    -  1.00e+00 1.25e-01f  4\n",
      "  13 -9.1062070e+04 0.00e+00 1.86e-02 -11.0 6.35e-06    -  1.00e+00 1.00e+00f  1\n",
      "  14 -9.1062070e+04 0.00e+00 9.69e-03 -11.0 1.77e-05    -  1.00e+00 1.25e-01f  4\n",
      "  15 -9.1062070e+04 0.00e+00 5.07e-03 -11.0 1.79e-06    -  1.00e+00 1.00e+00f  1\n",
      "  16 -9.1062070e+04 0.00e+00 5.26e-03 -11.0 2.88e-06    -  1.00e+00 5.00e-01f  2\n",
      "  17 -9.1062070e+04 0.00e+00 1.96e-03 -11.0 3.77e-06    -  1.00e+00 2.50e-01f  3\n",
      "  18 -9.1062070e+04 0.00e+00 4.14e-03 -11.0 1.24e-06    -  1.00e+00 1.25e-01f  4\n",
      "  19 -9.1062070e+04 0.00e+00 4.17e-04 -11.0 1.24e-06    -  1.00e+00 1.00e+00f  1\n",
      "\n",
      "Number of Iterations....: 19\n",
      "\n",
      "                                   (scaled)                 (unscaled)\n",
      "Objective...............:   9.1062070173299755e+04   -9.1062070173299755e+04\n",
      "Dual infeasibility......:   4.1746727752868529e-04    4.1746727752868529e-04\n",
      "Constraint violation....:   0.0000000000000000e+00    0.0000000000000000e+00\n",
      "Variable bound violation:   0.0000000000000000e+00    0.0000000000000000e+00\n",
      "Complementarity.........:   1.0000000000007071e-11    1.0000000000007071e-11\n",
      "Overall NLP error.......:   4.1746727752868529e-04    4.1746727752868529e-04\n",
      "\n",
      "\n",
      "Number of objective function evaluations             = 98\n",
      "Number of objective gradient evaluations             = 20\n",
      "Number of equality constraint evaluations            = 0\n",
      "Number of inequality constraint evaluations          = 0\n",
      "Number of equality constraint Jacobian evaluations   = 0\n",
      "Number of inequality constraint Jacobian evaluations = 0\n",
      "Number of Lagrangian Hessian evaluations             = 0\n",
      "Total seconds in IPOPT                               = 0.985\n",
      "\n",
      "EXIT: Optimal Solution Found.\n",
      "  1.477369 seconds (7.11 M allocations: 309.337 MiB, 10.33% gc time, 37.08% compilation time: 2% of which was recompilation)\n"
     ]
    }
   ],
   "source": [
    "k = 0 # number of causal SNPs\n",
    "\n",
    "qc_model, G, βtrue, θtrue, γtrue, τtrue = simulate_longitudinal_traits(\n",
    "    n = 10000, # sample size\n",
    "    d_min = 5, # min number of observations per sample\n",
    "    d_max = 5, # max number of observations per sample\n",
    "    p = 15, # number of fixed effects, including intercept\n",
    "    m = 2, # number of variance components\n",
    "    q = 1000, # number of SNPs\n",
    "    k = k, # number of causal SNPs\n",
    "    seed = 2024,\n",
    "    y_distribution = Normal,\n",
    "    τtrue = 0.5,\n",
    "    T = Float64,\n",
    "    maf = 0.3,\n",
    "    causal_snp_β = 0.2\n",
    ")\n",
    "\n",
    "@show qc_model;\n",
    "\n",
    "@time optm = QuasiCopula.fit!(qc_model);"
   ]
  },
  {
   "cell_type": "code",
   "execution_count": 4,
   "metadata": {
    "collapsed": false
   },
   "outputs": [
    {
     "name": "stdout",
     "output_type": "stream",
     "text": [
      "βtrue = [1.0, -0.5, 0.5, 0.5, 0.5, -0.5, 0.5, -0.5, 0.5, -0.5, -0.5, -0.5, 0.5, -0.5, -0.5]\n",
      "qc_model.β = [1.0015558069145196, -0.4992552816604949, 0.5003258775344148, 0.5104867759085501, 0.503433481674981, -0.5109228927293467, 0.48934968009349356, -0.5029571938424525, 0.5049029761584054, -0.5083950994921372, -0.4838377755959444, -0.5082673883570834, 0.508559185132388, -0.49494971764139967, -0.5024689132271957]\n",
      "qc_model.∇β = [-0.0004174672775286853, 1.855972752784485e-5, 0.00013656486524218914, 9.337930918396076e-6, 1.9344740755378176e-5, 2.752102204828244e-5, 3.267097026424248e-5, -0.00013902709178342798, -7.60145868601847e-5, 3.8777999550543285e-5, -4.696202700368857e-5, 2.4041912385336373e-5, -0.00010361037352457636, 5.2108730824396154e-5, 0.00010436649891751304]\n",
      "θtrue = [0.1, 0.1]\n",
      "qc_model.θ = [0.10841706495069867, 0.11742437271630245]\n",
      "qc_model.∇θ = [3.458515023302411e-5, 3.302592342491195e-5]\n",
      "τtrue = 0.5\n",
      "qc_model.τ = [0.5080458900474164]\n",
      "qc_model.∇τ = [0.0002994001751677189]\n"
     ]
    }
   ],
   "source": [
    "@show βtrue\n",
    "@show qc_model.β\n",
    "@show qc_model.∇β\n",
    "\n",
    "@show θtrue\n",
    "@show qc_model.θ\n",
    "@show qc_model.∇θ;\n",
    "\n",
    "@show τtrue\n",
    "@show qc_model.τ\n",
    "@show qc_model.∇τ;"
   ]
  },
  {
   "cell_type": "markdown",
   "metadata": {},
   "source": [
    "# AR"
   ]
  },
  {
   "cell_type": "code",
   "execution_count": 1,
   "metadata": {
    "collapsed": false
   },
   "outputs": [
    {
     "name": "stderr",
     "output_type": "stream",
     "text": [
      "\u001b[32m\u001b[1mPrecompiling\u001b[22m\u001b[39m QuasiCopula\n",
      "\u001b[32m  ✓ \u001b[39mQuasiCopula\n",
      "  1 dependency successfully precompiled in 4 seconds. 151 already precompiled.\n"
     ]
    }
   ],
   "source": [
    "using Revise\n",
    "using Ipopt\n",
    "using QuasiCopula\n",
    "using Random\n",
    "using GLM\n",
    "using LinearAlgebra\n",
    "using Statistics\n",
    "using StatsBase\n",
    "using MathOptInterface\n",
    "using RCall"
   ]
  },
  {
   "cell_type": "code",
   "execution_count": 12,
   "metadata": {
    "collapsed": false
   },
   "outputs": [
    {
     "name": "stdout",
     "output_type": "stream",
     "text": [
      "initializing β using Newton's Algorithm under Independence Assumption\n",
      "initializing variance components using MM-Algorithm\n",
      "This is Ipopt version 3.14.14, running with linear solver MUMPS 5.6.2.\n",
      "\n",
      "Number of nonzeros in equality constraint Jacobian...:        0\n",
      "Number of nonzeros in inequality constraint Jacobian.:        0\n",
      "Number of nonzeros in Lagrangian Hessian.............:        0\n",
      "\n",
      "Total number of variables............................:        5\n",
      "                     variables with only lower bounds:        1\n",
      "                variables with lower and upper bounds:        1\n",
      "                     variables with only upper bounds:        0\n",
      "Total number of equality constraints.................:        0\n",
      "Total number of inequality constraints...............:        0\n",
      "        inequality constraints with only lower bounds:        0\n",
      "   inequality constraints with lower and upper bounds:        0\n",
      "        inequality constraints with only upper bounds:        0\n",
      "\n",
      "iter    objective    inf_pr   inf_du lg(mu)  ||d||  lg(rg) alpha_du alpha_pr  ls\n",
      "   0 -3.7197540e+03 0.00e+00 1.00e+02   0.0 0.00e+00    -  0.00e+00 0.00e+00   0\n",
      "   1 -3.2317015e+03 0.00e+00 7.78e+02  -1.8 1.00e+02    -  1.00e+00 6.07e-02f  1\n",
      "   2 -3.2007213e+03 0.00e+00 7.65e+02  -1.1 1.08e+02    -  1.00e+00 6.50e-04f  1\n",
      "   3 -2.7531228e+03 0.00e+00 4.37e+02   0.4 1.18e+00    -  7.01e-01 5.00e-01f  2\n",
      "   4 -2.2761621e+03 0.00e+00 6.90e+01   0.4 9.53e-01    -  7.89e-01 1.00e+00f  1\n",
      "   5 -2.2210638e+03 0.00e+00 9.61e+00  -0.6 1.14e+00    -  1.00e+00 1.00e+00f  1\n",
      "   6 -2.2163097e+03 0.00e+00 2.37e+01  -1.1 3.59e-01    -  1.00e+00 5.00e-01f  2\n",
      "   7 -2.2049390e+03 0.00e+00 9.31e+00  -1.7 1.38e-01    -  1.00e+00 1.00e+00f  1\n",
      "   8 -2.1969771e+03 0.00e+00 4.12e+00  -2.4 3.42e-01    -  1.00e+00 4.96e-01f  1\n",
      "   9 -2.1964822e+03 0.00e+00 1.84e+00  -4.3 7.25e-02    -  1.00e+00 8.85e-01f  1\n",
      "iter    objective    inf_pr   inf_du lg(mu)  ||d||  lg(rg) alpha_du alpha_pr  ls\n",
      "  10 -2.1964609e+03 0.00e+00 1.94e+00  -4.5 1.61e-02    -  1.00e+00 5.00e-01f  2\n",
      "  11 -2.1964398e+03 0.00e+00 9.52e-01  -6.3 3.62e-02    -  1.00e+00 1.25e-01f  4\n",
      "  12 -2.1964315e+03 0.00e+00 3.25e-01  -6.7 2.54e-03    -  1.00e+00 9.43e-01f  1\n",
      "  13 -2.1964303e+03 0.00e+00 5.01e-03  -8.5 1.38e-03    -  1.00e+00 9.82e-01f  1\n",
      "  14 -2.1964303e+03 0.00e+00 3.45e-05 -10.4 2.22e-05    -  1.00e+00 1.00e+00f  1\n",
      "\n",
      "Number of Iterations....: 14\n",
      "\n",
      "                                   (scaled)                 (unscaled)\n",
      "Objective...............:   5.2073621039215175e+02   -2.1964303421470713e+03\n",
      "Dual infeasibility......:   3.4535773790851978e-05    1.4566957305817144e-04\n",
      "Constraint violation....:   0.0000000000000000e+00    0.0000000000000000e+00\n",
      "Variable bound violation:   9.9946655396365713e-09    9.9946655396365713e-09\n",
      "Complementarity.........:   4.3795069530177326e-11    1.8472466026528492e-10\n",
      "Overall NLP error.......:   3.4535773790851978e-05    1.4566957305817144e-04\n",
      "\n",
      "\n",
      "Number of objective function evaluations             = 37\n",
      "Number of objective gradient evaluations             = 15\n",
      "Number of equality constraint evaluations            = 0\n",
      "Number of inequality constraint evaluations          = 0\n",
      "Number of equality constraint Jacobian evaluations   = 0\n",
      "Number of inequality constraint Jacobian evaluations = 0\n",
      "Number of Lagrangian Hessian evaluations             = 0\n",
      "Total seconds in IPOPT                               = 0.034\n",
      "\n",
      "EXIT: Optimal Solution Found.\n"
     ]
    },
    {
     "data": {
      "text/plain": [
       "-2196.4303421470713"
      ]
     },
     "execution_count": 12,
     "metadata": {},
     "output_type": "execute_result"
    }
   ],
   "source": [
    "# get data\n",
    "R\"\"\"\n",
    "library(\"gcmr\")\n",
    "data(\"epilepsy\", package = \"gcmr\")\n",
    "\"\"\"\n",
    "@rget epilepsy\n",
    "\n",
    "# form model\n",
    "df = epilepsy\n",
    "y = :counts\n",
    "grouping = :id\n",
    "d = Poisson()\n",
    "link = LogLink()\n",
    "covariates = [:visit, :trt]\n",
    "qc_model = AR_model(df, y, grouping, covariates, d, link; penalized=true)\n",
    "\n",
    "# fit\n",
    "QuasiCopula.fit!(qc_model)"
   ]
  },
  {
   "cell_type": "code",
   "execution_count": 14,
   "metadata": {
    "collapsed": false
   },
   "outputs": [
    {
     "name": "stdout",
     "output_type": "stream",
     "text": [
      "qc_model.β = [3.4744756846566216, -1.323384664308166, -0.04366479480241287]\n",
      "qc_model.σ2 = [0.5348854483368445]\n",
      "qc_model.ρ = [1.0000000099946655]\n"
     ]
    }
   ],
   "source": [
    "@show qc_model.β\n",
    "@show qc_model.σ2\n",
    "@show qc_model.ρ;"
   ]
  },
  {
   "cell_type": "code",
   "execution_count": null,
   "metadata": {
    "collapsed": true
   },
   "outputs": [],
   "source": []
  }
 ],
 "metadata": {
  "kernelspec": {
   "display_name": "Julia 1.10.2",
   "language": "julia",
   "name": "julia-1.10"
  },
  "language_info": {
   "file_extension": ".jl",
   "mimetype": "application/julia",
   "name": "julia",
   "version": "1.10.2"
  }
 },
 "nbformat": 4,
 "nbformat_minor": 2
}
