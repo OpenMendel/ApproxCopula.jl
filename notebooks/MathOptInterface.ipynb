{
 "cells": [
  {
   "cell_type": "markdown",
   "metadata": {},
   "source": [
    "# Upgrading from MathProgBase.jl to MathOptInterface.jl\n",
    "\n",
    "+ MathProgBase.jl has been [depreciated](https://github.com/JuliaOpt/MathProgBase.jl/pull/231) since Jan 2019. It is therefore not officially supported by julia v1.2 and above. We should use [MathOptInterface.jl](https://github.com/jump-dev/MathOptInterface.jl) instead. \n",
    "+ Other packages such as BinaryProvider.jl and Ipopt.jl needs to also be updated to the latest version or depreciated and use the latest one supported by the Julia community.\n",
    "+ To ensure a smooth update, checkout the [official documentation](https://jump.dev/MathOptInterface.jl/dev/tutorials/mathprogbase/) as well as examples by [WiSER.jl](https://github.com/OpenMendel/WiSER.jl/blob/master/src/fit.jl) and [OrdinalMultinomialModels.jl](https://github.com/OpenMendel/OrdinalMultinomialModels.jl/blob/master/src/ordmnfit.jl)"
   ]
  },
  {
   "cell_type": "code",
   "execution_count": 1,
   "metadata": {
    "collapsed": false
   },
   "outputs": [
    {
     "name": "stderr",
     "output_type": "stream",
     "text": [
      "\u001b[32m\u001b[1mPrecompiling\u001b[22m\u001b[39m QuasiCopula\n",
      "\u001b[32m  ✓ \u001b[39mQuasiCopula\n",
      "  1 dependency successfully precompiled in 5 seconds. 151 already precompiled.\n"
     ]
    },
    {
     "data": {
      "text/plain": [
       "1"
      ]
     },
     "execution_count": 1,
     "metadata": {},
     "output_type": "execute_result"
    }
   ],
   "source": [
    "using Revise\n",
    "using Ipopt\n",
    "using QuasiCopula\n",
    "using Random\n",
    "using GLM\n",
    "using LinearAlgebra\n",
    "using Statistics\n",
    "using StatsBase\n",
    "using MathOptInterface\n",
    "using RCall\n",
    "\n",
    "ENV[\"COLUMNS\"] = 240\n",
    "BLAS.set_num_threads(1)\n",
    "Threads.nthreads()"
   ]
  },
  {
   "cell_type": "code",
   "execution_count": 16,
   "metadata": {
    "collapsed": false,
    "scrolled": true
   },
   "outputs": [
    {
     "name": "stdout",
     "output_type": "stream",
     "text": [
      "initializing β using GLM.jl\n",
      "gcm.β = [1.071141333938132, -0.4820165636340641, 0.48187754351752365, 0.48479332423135835, 0.49028177661345046, -0.4862122196580561, 0.48011767932560134, -0.4909547903170821, 0.48343181680091807, -0.48629241376979127, -0.4819929966888139, -0.48739697346794014, 0.4847745221649089, -0.48215713945837935, -0.4820357318329954]\n",
      "initializing variance components using MM-Algorithm\n",
      "gcm.θ = [1.0592722715027482e-6, 6.122833003834026e-8]\n",
      "initializing r using Newton update\n",
      "qc_model = Quasi-Copula Variance Component Model\n",
      "  * base distribution: NegativeBinomial\n",
      "  * link function: LogLink\n",
      "  * number of clusters: 10000\n",
      "  * cluster size min, max: 5, 5\n",
      "  * number of variance components: 2\n",
      "  * number of fixed effects: 15\n",
      "\n",
      "initializing β using GLM.jl\n",
      "gcm.β = [1.071141333938132, -0.4820165636340641, 0.48187754351752365, 0.48479332423135835, 0.49028177661345046, -0.4862122196580561, 0.48011767932560134, -0.4909547903170821, 0.48343181680091807, -0.48629241376979127, -0.4819929966888139, -0.48739697346794014, 0.4847745221649089, -0.48215713945837935, -0.4820357318329954]\n",
      "initializing variance components using MM-Algorithm\n",
      "gcm.θ = [0.06727304017855001, 6.532557792808625e-5]\n",
      "initializing r using Newton update\n",
      "Converging when tol ≤ 1.0e-6 (max block iter = 10)\n",
      "Block iter 1 r = 9.53, logl = -109011.45, tol = 0.0009381962576010172\n",
      "Block iter 2 r = 9.82, logl = -108994.05, tol = 0.00015958009284003626\n",
      "Block iter 3 r = 9.95, logl = -108990.98, tol = 2.8153031078246865e-5\n",
      "Block iter 4 r = 10.0, logl = -108990.43, tol = 5.038643664009278e-6\n",
      "  5.826665 seconds (9.00 M allocations: 163.058 MiB, 0.32% gc time, 0.99% compilation time)\n"
     ]
    }
   ],
   "source": [
    "k = 0 # number of causal SNPs\n",
    "\n",
    "qc_model, G, βtrue, θtrue, γtrue, τtrue = simulate_longitudinal_traits(\n",
    "    n = 10000, # sample size\n",
    "    d_min = 5, # min number of observations per sample\n",
    "    d_max = 5, # max number of observations per sample\n",
    "    p = 15, # number of fixed effects, including intercept\n",
    "    m = 2, # number of variance components\n",
    "    q = 1000, # number of SNPs\n",
    "    k = k, # number of causal SNPs\n",
    "    seed = 2024,\n",
    "    y_distribution = NegativeBinomial,\n",
    "    τtrue = 0.5,\n",
    "    T = Float64,\n",
    "    maf = 0.3,\n",
    "    causal_snp_β = 0.2\n",
    ")\n",
    "\n",
    "@show qc_model;\n",
    "\n",
    "@time optm = QuasiCopula.fit!(qc_model);"
   ]
  },
  {
   "cell_type": "code",
   "execution_count": 17,
   "metadata": {
    "collapsed": false
   },
   "outputs": [
    {
     "name": "stdout",
     "output_type": "stream",
     "text": [
      "βtrue = [1.0, -0.5, 0.5, 0.5, 0.5, -0.5, 0.5, -0.5, 0.5, -0.5, -0.5, -0.5, 0.5, -0.5, -0.5]\n",
      "qc_model.β = [1.004605601708639, -0.49848912400485396, 0.49751094935089923, 0.49863406339611727, 0.5005358158505578, -0.49937733166336645, 0.49609926123970455, -0.5030694132784159, 0.49790902027737355, -0.4987235407180179, -0.49798418594541544, -0.5024552471390116, 0.499394490138676, -0.4974251284604497, -0.4978962329135943]\n",
      "qc_model.∇β = [2.5378592177815293, -0.3878816537591483, 0.48456340051407076, 0.6087883728777483, 0.18267478283986938, -0.47801167343143813, 0.6235818600406728, -0.14411185012481154, 0.46035500849368904, -0.3316749927358775, -0.024800958980559007, -0.532825513048496, 0.32461402813598816, -0.4421443779961307, -0.5799522588043043]\n",
      "θtrue = [0.1, 0.1]\n",
      "qc_model.θ = [0.10011285253205283, 0.08230766496943064]\n",
      "qc_model.∇θ = [6.588716663682135, 7.916188025443262]\n",
      "τtrue = 0.5\n",
      "qc_model.τ = [1.0]\n",
      "qc_model.∇τ = [0.0]\n"
     ]
    }
   ],
   "source": [
    "@show βtrue\n",
    "@show qc_model.β\n",
    "@show qc_model.∇β\n",
    "\n",
    "@show θtrue\n",
    "@show qc_model.θ\n",
    "@show qc_model.∇θ;\n",
    "\n",
    "@show τtrue\n",
    "@show qc_model.τ\n",
    "@show qc_model.∇τ;"
   ]
  },
  {
   "cell_type": "code",
   "execution_count": 18,
   "metadata": {
    "collapsed": false
   },
   "outputs": [
    {
     "data": {
      "text/plain": [
       "1-element Vector{Float64}:\n",
       " 10.026348269269533"
      ]
     },
     "execution_count": 18,
     "metadata": {},
     "output_type": "execute_result"
    }
   ],
   "source": [
    "qc_model.r # rtrue = 10 (negative binomial only)"
   ]
  },
  {
   "cell_type": "markdown",
   "metadata": {},
   "source": [
    "# AR"
   ]
  },
  {
   "cell_type": "code",
   "execution_count": 1,
   "metadata": {
    "collapsed": false
   },
   "outputs": [
    {
     "name": "stderr",
     "output_type": "stream",
     "text": [
      "\u001b[32m\u001b[1mPrecompiling\u001b[22m\u001b[39m QuasiCopula\n",
      "\u001b[32m  ✓ \u001b[39mQuasiCopula\n",
      "  1 dependency successfully precompiled in 4 seconds. 151 already precompiled.\n"
     ]
    }
   ],
   "source": [
    "using Revise\n",
    "using Ipopt\n",
    "using QuasiCopula\n",
    "using Random\n",
    "using GLM\n",
    "using LinearAlgebra\n",
    "using Statistics\n",
    "using StatsBase\n",
    "using MathOptInterface\n",
    "using RCall"
   ]
  },
  {
   "cell_type": "code",
   "execution_count": 15,
   "metadata": {
    "collapsed": false,
    "scrolled": true
   },
   "outputs": [
    {
     "name": "stdout",
     "output_type": "stream",
     "text": [
      "Initializing NegBin r to Poisson regression values\n",
      "initializing β using Newton's Algorithm under Independence Assumption\n",
      "initializing variance components using MM-Algorithm\n",
      "initializing r using Newton update\n",
      "Converging when tol ≤ 1.0e-6 (max block iter = 10)\n",
      "Block iter 1 r = 1.31, logl = -990.38, tol = 0.6098788177411643\n",
      "Block iter 2 r = 1.3, logl = -989.53, tol = 0.0008615566863290024\n",
      "Block iter 3 r = 1.3, logl = -989.52, tol = 7.787968897507412e-6\n"
     ]
    },
    {
     "data": {
      "text/plain": [
       "-989.5192980240267"
      ]
     },
     "execution_count": 15,
     "metadata": {},
     "output_type": "execute_result"
    }
   ],
   "source": [
    "# get data\n",
    "R\"\"\"\n",
    "library(\"gcmr\")\n",
    "data(\"epilepsy\", package = \"gcmr\")\n",
    "\"\"\"\n",
    "@rget epilepsy\n",
    "\n",
    "# form model\n",
    "df = epilepsy\n",
    "y = :counts\n",
    "grouping = :id\n",
    "d = NegativeBinomial() # Normal() # Poisson()\n",
    "link = LogLink() # IdentityLink() # LogLink()\n",
    "covariates = [:visit, :trt]\n",
    "qc_model = AR_model(df, y, grouping, covariates, d, link; penalized=true)\n",
    "\n",
    "# fit\n",
    "QuasiCopula.fit!(qc_model)"
   ]
  },
  {
   "cell_type": "code",
   "execution_count": 13,
   "metadata": {
    "collapsed": false
   },
   "outputs": [
    {
     "name": "stdout",
     "output_type": "stream",
     "text": [
      "qc_model.β = [3.4708028031628664, -1.3680429994395282, -0.052249866925391415]\n",
      "qc_model.σ2 = [0.3167502942469257]\n",
      "qc_model.τ = [1.0]\n",
      "qc_model.ρ = [1.0000000099989756]\n"
     ]
    }
   ],
   "source": [
    "@show qc_model.β\n",
    "@show qc_model.σ2\n",
    "@show qc_model.τ\n",
    "@show qc_model.ρ;"
   ]
  },
  {
   "cell_type": "code",
   "execution_count": 14,
   "metadata": {
    "collapsed": false
   },
   "outputs": [
    {
     "data": {
      "text/plain": [
       "1-element Vector{Float64}:\n",
       " 1.2998208401866174"
      ]
     },
     "execution_count": 14,
     "metadata": {},
     "output_type": "execute_result"
    }
   ],
   "source": [
    "qc_model.r # negative binomial only"
   ]
  },
  {
   "cell_type": "markdown",
   "metadata": {},
   "source": [
    "# CS"
   ]
  },
  {
   "cell_type": "code",
   "execution_count": 1,
   "metadata": {
    "collapsed": false
   },
   "outputs": [
    {
     "name": "stderr",
     "output_type": "stream",
     "text": [
      "\u001b[32m\u001b[1mPrecompiling\u001b[22m\u001b[39m QuasiCopula\n",
      "\u001b[32m  ✓ \u001b[39mQuasiCopula\n",
      "  1 dependency successfully precompiled in 5 seconds. 151 already precompiled.\n"
     ]
    }
   ],
   "source": [
    "using Revise\n",
    "using Ipopt\n",
    "using QuasiCopula\n",
    "using Random\n",
    "using GLM\n",
    "using LinearAlgebra\n",
    "using Statistics\n",
    "using StatsBase\n",
    "using MathOptInterface\n",
    "using RCall"
   ]
  },
  {
   "cell_type": "code",
   "execution_count": 21,
   "metadata": {
    "collapsed": false,
    "scrolled": true
   },
   "outputs": [
    {
     "name": "stdout",
     "output_type": "stream",
     "text": [
      "Initializing NegBin r to Poisson regression values\n",
      "initializing β using Newton's Algorithm under Independence Assumption\n",
      "initializing r using Newton update\n",
      "Converging when tol ≤ 1.0e-6 (max block iter = 10)\n",
      "Block iter 1 r = 3998.98, logl = -378.93, tol = 0.06387019167253356\n",
      "Block iter 2 r = 230618.94, logl = -377.78, tol = 0.003040588283321018\n",
      "Block iter 3 r = 1.515384126e7, logl = -377.75, tol = 6.562430030814395e-5\n",
      "Block iter 4 r = 9.51439913e6, logl = -377.75, tol = 7.502032912530231e-7\n"
     ]
    },
    {
     "data": {
      "text/plain": [
       "-377.7509205824111"
      ]
     },
     "execution_count": 21,
     "metadata": {},
     "output_type": "execute_result"
    }
   ],
   "source": [
    "# get data\n",
    "R\"\"\"\n",
    "data(respiratory, package=\"geepack\")\n",
    "respiratory_df <- respiratory[order(respiratory$id),]\n",
    "\"\"\"\n",
    "@rget respiratory_df\n",
    "\n",
    "# form model\n",
    "df = respiratory_df\n",
    "y = :outcome\n",
    "grouping = :id\n",
    "d = NegativeBinomial() # Normal() # Bernoulli()\n",
    "link = LogLink() # IdentityLink() # LogitLink()\n",
    "covariates = [:center, :age, :baseline]\n",
    "qc_model = CS_model(df, y, grouping, covariates, d, link)\n",
    "\n",
    "# fit\n",
    "QuasiCopula.fit!(qc_model)"
   ]
  },
  {
   "cell_type": "code",
   "execution_count": 22,
   "metadata": {
    "collapsed": false
   },
   "outputs": [
    {
     "name": "stdout",
     "output_type": "stream",
     "text": [
      "qc_model.β = [-1.8401217795320461, 0.42653463322121343, -0.006493382719069296, 0.6399440247754395]\n",
      "qc_model.σ2 = [0.5977390678291081]\n",
      "qc_model.ρ = [1.0000000099910034]\n"
     ]
    }
   ],
   "source": [
    "@show qc_model.β\n",
    "@show qc_model.σ2\n",
    "@show qc_model.ρ;"
   ]
  },
  {
   "cell_type": "code",
   "execution_count": null,
   "metadata": {
    "collapsed": true
   },
   "outputs": [],
   "source": []
  }
 ],
 "metadata": {
  "@webio": {
   "lastCommId": null,
   "lastKernelId": null
  },
  "kernelspec": {
   "display_name": "Julia 1.10.2",
   "language": "julia",
   "name": "julia-1.10"
  },
  "language_info": {
   "file_extension": ".jl",
   "mimetype": "application/julia",
   "name": "julia",
   "version": "1.10.2"
  }
 },
 "nbformat": 4,
 "nbformat_minor": 2
}
