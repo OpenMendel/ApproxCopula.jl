{
 "cells": [
  {
   "cell_type": "markdown",
   "metadata": {},
   "source": [
    "# Upgrading from MathProgBase.jl to MathOptInterface.jl\n",
    "\n",
    "+ MathProgBase.jl has been [depreciated](https://github.com/JuliaOpt/MathProgBase.jl/pull/231) since Jan 2019. It is therefore not officially supported by julia v1.2 and above. We should use [MathOptInterface.jl](https://github.com/jump-dev/MathOptInterface.jl) instead. \n",
    "+ Other packages such as BinaryProvider.jl and Ipopt.jl needs to also be updated to the latest version or depreciated and use the latest one supported by the Julia community.\n",
    "+ To ensure a smooth update, checkout the [official documentation](https://jump.dev/MathOptInterface.jl/dev/tutorials/mathprogbase/) as well as examples by [WiSER.jl](https://github.com/OpenMendel/WiSER.jl/blob/master/src/fit.jl) and [OrdinalMultinomialModels.jl](https://github.com/OpenMendel/OrdinalMultinomialModels.jl/blob/master/src/ordmnfit.jl)"
   ]
  },
  {
   "cell_type": "code",
   "execution_count": 16,
   "metadata": {
    "collapsed": false
   },
   "outputs": [
    {
     "name": "stdout",
     "output_type": "stream",
     "text": [
      "qc_model = Quasi-Copula Variance Component Model\n",
      "  * base distribution: Bernoulli\n",
      "  * link function: LogitLink\n",
      "  * number of clusters: 10000\n",
      "  * cluster size min, max: 5, 5\n",
      "  * number of variance components: 2\n",
      "  * number of fixed effects: 15\n",
      "\n",
      "gcm.β = [0.4243775487646154, -0.21124836575652164, 0.2051203650071014, 0.18955742133785242, 0.2000674086118032, -0.19946857554782652, 0.20813046939769364, -0.1959624974340227, 0.18888295619966955, -0.1895858430850509, -0.20967942115370897, -0.18902276604617343, 0.19592889680296988, -0.20589983107141385, -0.19223146684017767]\n",
      "This is Ipopt version 3.14.14, running with linear solver MUMPS 5.6.2.\n",
      "\n",
      "Number of nonzeros in equality constraint Jacobian...:        0\n",
      "Number of nonzeros in inequality constraint Jacobian.:        0\n",
      "Number of nonzeros in Lagrangian Hessian.............:        0\n",
      "\n",
      "Total number of variables............................:       17\n",
      "                     variables with only lower bounds:        2\n",
      "                variables with lower and upper bounds:        0\n",
      "                     variables with only upper bounds:        0\n",
      "Total number of equality constraints.................:        0\n",
      "Total number of inequality constraints...............:        0\n",
      "        inequality constraints with only lower bounds:        0\n",
      "   inequality constraints with lower and upper bounds:        0\n",
      "        inequality constraints with only upper bounds:        0\n",
      "\n",
      "iter    objective    inf_pr   inf_du lg(mu)  ||d||  lg(rg) alpha_du alpha_pr  ls\n",
      "   0  0.0000000e+00 0.00e+00 1.00e-03   0.0 0.00e+00    -  0.00e+00 0.00e+00   0\n",
      "   1  0.0000000e+00 0.00e+00 1.00e-05 -11.0 5.00e-09  -4.0 9.90e-01 1.00e+00f  1\n",
      "   2  0.0000000e+00 0.00e+00 1.00e-09 -11.0 2.91e-08  -4.5 1.00e+00 1.00e+00f  1\n",
      "   3  0.0000000e+00 0.00e+00 1.00e-12 -11.0 9.00e-08  -5.0 1.00e+00 1.00e+00f  1\n",
      "\n",
      "Number of Iterations....: 3\n",
      "\n",
      "                                   (scaled)                 (unscaled)\n",
      "Objective...............:  -0.0000000000000000e+00    0.0000000000000000e+00\n",
      "Dual infeasibility......:   9.9999099756891399e-13    9.9999099756891399e-13\n",
      "Constraint violation....:   0.0000000000000000e+00    0.0000000000000000e+00\n",
      "Variable bound violation:   0.0000000000000000e+00    0.0000000000000000e+00\n",
      "Complementarity.........:   9.9999100998010122e-12    9.9999100998010122e-12\n",
      "Overall NLP error.......:   9.9999100998010122e-12    9.9999100998010122e-12\n",
      "\n",
      "\n",
      "Number of objective function evaluations             = 4\n",
      "Number of objective gradient evaluations             = 4\n",
      "Number of equality constraint evaluations            = 0\n",
      "Number of inequality constraint evaluations          = 0\n",
      "Number of equality constraint Jacobian evaluations   = 0\n",
      "Number of inequality constraint Jacobian evaluations = 0\n",
      "Number of Lagrangian Hessian evaluations             = 1\n",
      "Total seconds in IPOPT                               = 0.001\n",
      "\n",
      "EXIT: Optimal Solution Found.\n",
      "  0.103187 seconds (30.56 k allocations: 21.363 MiB)\n"
     ]
    }
   ],
   "source": [
    "using Revise\n",
    "using QuasiCopula\n",
    "using Random\n",
    "using GLM\n",
    "using LinearAlgebra\n",
    "using Statistics\n",
    "using StatsBase\n",
    "using MathOptInterface\n",
    "\n",
    "ENV[\"COLUMNS\"] = 240\n",
    "BLAS.set_num_threads(1)\n",
    "Threads.nthreads()\n",
    "\n",
    "k = 0 # number of causal SNPs\n",
    "\n",
    "qc_model, G, βtrue, θtrue, γtrue, τtrue = simulate_longitudinal_traits(\n",
    "    n = 10000, # sample size\n",
    "    d_min = 5, # min number of observations per sample\n",
    "    d_max = 5, # max number of observations per sample\n",
    "    p = 15, # number of fixed effects, including intercept\n",
    "    m = 2, # number of variance components\n",
    "    q = 1000, # number of SNPs\n",
    "    k = k, # number of causal SNPs\n",
    "    seed = 2024,\n",
    "    y_distribution = Bernoulli,\n",
    "    τtrue = 0.5,\n",
    "    T = Float64,\n",
    "    maf = 0.3,\n",
    "    causal_snp_β = 0.2\n",
    ")\n",
    "\n",
    "@show qc_model;\n",
    "\n",
    "@time optm = QuasiCopula.fit!(qc_model);"
   ]
  },
  {
   "cell_type": "code",
   "execution_count": null,
   "metadata": {
    "collapsed": true
   },
   "outputs": [],
   "source": []
  },
  {
   "cell_type": "code",
   "execution_count": null,
   "metadata": {
    "collapsed": true
   },
   "outputs": [],
   "source": []
  },
  {
   "cell_type": "code",
   "execution_count": null,
   "metadata": {
    "collapsed": true
   },
   "outputs": [],
   "source": []
  },
  {
   "cell_type": "code",
   "execution_count": null,
   "metadata": {
    "collapsed": true
   },
   "outputs": [],
   "source": []
  },
  {
   "cell_type": "code",
   "execution_count": null,
   "metadata": {
    "collapsed": true
   },
   "outputs": [],
   "source": []
  },
  {
   "cell_type": "code",
   "execution_count": 2,
   "metadata": {
    "collapsed": false
   },
   "outputs": [
    {
     "ename": "LoadError",
     "evalue": "UndefVarError: `config_solver` not defined",
     "output_type": "error",
     "traceback": [
      "UndefVarError: `config_solver` not defined",
      "",
      "Stacktrace:",
      " [1] top-level scope",
      "   @ In[2]:15"
     ]
    }
   ],
   "source": [
    "T = Float64\n",
    "const MOI = MathOptInterface\n",
    "solver = Ipopt.Optimizer()\n",
    "solver_config = Dict(\"print_level\"           => 5, \n",
    "                 \"mehrotra_algorithm\"    => \"yes\",\n",
    "                 \"warm_start_init_point\" => \"yes\",\n",
    "                 \"max_iter\"              => 100)\n",
    "solvertype = typeof(solver)\n",
    "QuasiCopula.config_solver(solver, solver_config)\n",
    "gcm = qc_model\n",
    "\n",
    "    solvertype = typeof(solver)\n",
    "    solvertype <: Ipopt.Optimizer ||\n",
    "        @warn(\"Optimizer object is $solvertype, `solver_config` may need to be defined.\")\n",
    "    config_solver(solver, solver_config)\n",
    "\n",
    "    # set lower bounds and upper bounds of parameters\n",
    "    npar = gcm.p + gcm.m\n",
    "    lb   = fill(-Inf, npar)\n",
    "    ub   = fill(Inf, npar)\n",
    "    offset = gcm.p + 1\n",
    "    for k in 1:gcm.m\n",
    "        lb[offset] = 0\n",
    "        offset += 1\n",
    "    end\n",
    "\n",
    "    # set up NLP optimization problem\n",
    "    MOI.empty!(solver)\n",
    "    NLPBlock = MOI.NLPBlockData(\n",
    "        MOI.NLPBoundsPair.(lb, ub), gcm, true\n",
    "    )\n",
    "    par0 = Vector{T}(undef, npar)\n",
    "    solver_pars = MOI.add_variables(solver, npar)\n",
    "    for i in 1:npar\n",
    "        MOI.set(solver, MOI.VariablePrimalStart(), solver_pars[i], par0[i])\n",
    "    end\n",
    "    MOI.set(solver, MOI.NLPBlock(), NLPBlock)\n",
    "    MOI.set(solver, MOI.ObjectiveSense(), MOI.MIN_SENSE)\n",
    "\n",
    "    # initial condition\n",
    "    QuasiCopula.initialize_model!(gcm)\n",
    "    QuasiCopula.modelpar_to_optimpar!(par0, gcm)\n",
    "    for i in 1:npar\n",
    "        MOI.set(solver, MOI.VariablePrimalStart(), solver_pars[i], par0[i])\n",
    "    end\n",
    "\n",
    "    MOI.optimize!(solver)\n"
   ]
  },
  {
   "cell_type": "code",
   "execution_count": null,
   "metadata": {
    "collapsed": true
   },
   "outputs": [],
   "source": []
  },
  {
   "cell_type": "markdown",
   "metadata": {},
   "source": [
    "## TrajGWAS.jl test"
   ]
  },
  {
   "cell_type": "code",
   "execution_count": null,
   "metadata": {
    "collapsed": true
   },
   "outputs": [],
   "source": [
    "using CSV, DataFrames, WiSER\n",
    "filepath = normpath(joinpath(dirname(pathof(WiSER)), \"../data/\"))\n",
    "df = DataFrame(CSV.File(filepath * \"sbp.csv\"))\n",
    "\n",
    "m = WSVarLmmModel(\n",
    "    @formula(sbp ~ 1 + agegroup + gender + bmi_std + meds), \n",
    "    @formula(sbp ~ 1 + bmi_std), \n",
    "    @formula(sbp ~ 1 + agegroup + meds + bmi_std),\n",
    "    :id, df);\n",
    "\n",
    "solver = Ipopt.Optimizer()\n",
    "\n",
    "\n",
    "    solvertype = typeof(solver)\n",
    "    solvertype <: Ipopt.Optimizer ||\n",
    "        @warn(\"Optimizer object is $solvertype, `solver_config` may need to be defined.\")\n",
    "    # Pass options to solver\n",
    "    WiSER.config_solver(solver, solver_config)\n",
    "    # set up NLP optimization problem\n",
    "    npar = m.l + ◺(m.q)\n",
    "    MOI.empty!(solver)\n",
    "    lb   = T[]\n",
    "    ub   = T[]\n",
    "\n",
    "    NLPBlock = MOI.NLPBlockData(\n",
    "        MOI.NLPBoundsPair.(lb, ub), m, true\n",
    "    )\n",
    "\n",
    "    par0 = Vector{T}(undef, npar)\n",
    "    WiSER.modelpar_to_optimpar!(par0, m)\n",
    "\n",
    "    solver_pars = MOI.add_variables(solver, npar)\n",
    "    for i in 1:npar\n",
    "        MOI.set(solver, MOI.VariablePrimalStart(), solver_pars[i], par0[i])\n",
    "    end\n",
    "\n",
    "    MOI.set(solver, MOI.NLPBlock(), NLPBlock)\n",
    "    MOI.set(solver, MOI.ObjectiveSense(), MOI.MIN_SENSE)\n"
   ]
  }
 ],
 "metadata": {
  "kernelspec": {
   "display_name": "Julia 1.10.2",
   "language": "julia",
   "name": "julia-1.10"
  },
  "language_info": {
   "file_extension": ".jl",
   "mimetype": "application/julia",
   "name": "julia",
   "version": "1.10.2"
  }
 },
 "nbformat": 4,
 "nbformat_minor": 2
}
