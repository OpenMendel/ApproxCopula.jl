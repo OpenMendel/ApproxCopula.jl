{
 "cells": [
  {
   "cell_type": "markdown",
   "metadata": {},
   "source": [
    "# Upgrading from MathProgBase.jl to MathOptInterface.jl\n",
    "\n",
    "+ MathProgBase.jl has been [depreciated](https://github.com/JuliaOpt/MathProgBase.jl/pull/231) since Jan 2019. It is therefore not officially supported by julia v1.2 and above. We should use [MathOptInterface.jl](https://github.com/jump-dev/MathOptInterface.jl) instead. \n",
    "+ Other packages such as BinaryProvider.jl and Ipopt.jl needs to also be updated to the latest version or depreciated and use the latest one supported by the Julia community.\n",
    "+ To ensure a smooth update, checkout the [official documentation](https://jump.dev/MathOptInterface.jl/dev/tutorials/mathprogbase/) as well as examples by [WiSER.jl](https://github.com/OpenMendel/WiSER.jl/blob/master/src/fit.jl) and [OrdinalMultinomialModels.jl](https://github.com/OpenMendel/OrdinalMultinomialModels.jl/blob/master/src/ordmnfit.jl)"
   ]
  },
  {
   "cell_type": "code",
   "execution_count": 1,
   "metadata": {
    "collapsed": false
   },
   "outputs": [
    {
     "name": "stderr",
     "output_type": "stream",
     "text": [
      "\u001b[32m\u001b[1mPrecompiling\u001b[22m\u001b[39m QuasiCopula\n",
      "\u001b[32m  ✓ \u001b[39mQuasiCopula\n",
      "  1 dependency successfully precompiled in 5 seconds. 151 already precompiled.\n"
     ]
    },
    {
     "data": {
      "text/plain": [
       "1"
      ]
     },
     "execution_count": 1,
     "metadata": {},
     "output_type": "execute_result"
    }
   ],
   "source": [
    "using Revise\n",
    "using Ipopt\n",
    "using QuasiCopula\n",
    "using Random\n",
    "using GLM\n",
    "using LinearAlgebra\n",
    "using Statistics\n",
    "using StatsBase\n",
    "using MathOptInterface\n",
    "using RCall\n",
    "\n",
    "ENV[\"COLUMNS\"] = 240\n",
    "BLAS.set_num_threads(1)\n",
    "Threads.nthreads()"
   ]
  },
  {
   "cell_type": "code",
   "execution_count": 16,
   "metadata": {
    "collapsed": false,
    "scrolled": true
   },
   "outputs": [
    {
     "name": "stdout",
     "output_type": "stream",
     "text": [
      "initializing β using GLM.jl\n",
      "gcm.β = [1.071141333938132, -0.4820165636340641, 0.48187754351752365, 0.48479332423135835, 0.49028177661345046, -0.4862122196580561, 0.48011767932560134, -0.4909547903170821, 0.48343181680091807, -0.48629241376979127, -0.4819929966888139, -0.48739697346794014, 0.4847745221649089, -0.48215713945837935, -0.4820357318329954]\n",
      "initializing variance components using MM-Algorithm\n",
      "gcm.θ = [1.0592722715027482e-6, 6.122833003834026e-8]\n",
      "initializing r using Newton update\n",
      "qc_model = Quasi-Copula Variance Component Model\n",
      "  * base distribution: NegativeBinomial\n",
      "  * link function: LogLink\n",
      "  * number of clusters: 10000\n",
      "  * cluster size min, max: 5, 5\n",
      "  * number of variance components: 2\n",
      "  * number of fixed effects: 15\n",
      "\n",
      "initializing β using GLM.jl\n",
      "gcm.β = [1.071141333938132, -0.4820165636340641, 0.48187754351752365, 0.48479332423135835, 0.49028177661345046, -0.4862122196580561, 0.48011767932560134, -0.4909547903170821, 0.48343181680091807, -0.48629241376979127, -0.4819929966888139, -0.48739697346794014, 0.4847745221649089, -0.48215713945837935, -0.4820357318329954]\n",
      "initializing variance components using MM-Algorithm\n",
      "gcm.θ = [0.06727304017855001, 6.532557792808625e-5]\n",
      "initializing r using Newton update\n",
      "Converging when tol ≤ 1.0e-6 (max block iter = 10)\n",
      "Block iter 1 r = 9.53, logl = -109011.45, tol = 0.0009381962576010172\n",
      "Block iter 2 r = 9.82, logl = -108994.05, tol = 0.00015958009284003626\n",
      "Block iter 3 r = 9.95, logl = -108990.98, tol = 2.8153031078246865e-5\n",
      "Block iter 4 r = 10.0, logl = -108990.43, tol = 5.038643664009278e-6\n",
      "  5.826665 seconds (9.00 M allocations: 163.058 MiB, 0.32% gc time, 0.99% compilation time)\n"
     ]
    }
   ],
   "source": [
    "k = 0 # number of causal SNPs\n",
    "\n",
    "qc_model, G, βtrue, θtrue, γtrue, τtrue = simulate_longitudinal_traits(\n",
    "    n = 10000, # sample size\n",
    "    d_min = 5, # min number of observations per sample\n",
    "    d_max = 5, # max number of observations per sample\n",
    "    p = 15, # number of fixed effects, including intercept\n",
    "    m = 2, # number of variance components\n",
    "    q = 1000, # number of SNPs\n",
    "    k = k, # number of causal SNPs\n",
    "    seed = 2024,\n",
    "    y_distribution = NegativeBinomial,\n",
    "    τtrue = 0.5,\n",
    "    T = Float64,\n",
    "    maf = 0.3,\n",
    "    causal_snp_β = 0.2\n",
    ")\n",
    "\n",
    "@show qc_model;\n",
    "\n",
    "@time optm = QuasiCopula.fit!(qc_model);"
   ]
  },
  {
   "cell_type": "code",
   "execution_count": 17,
   "metadata": {
    "collapsed": false
   },
   "outputs": [
    {
     "name": "stdout",
     "output_type": "stream",
     "text": [
      "βtrue = [1.0, -0.5, 0.5, 0.5, 0.5, -0.5, 0.5, -0.5, 0.5, -0.5, -0.5, -0.5, 0.5, -0.5, -0.5]\n",
      "qc_model.β = [1.004605601708639, -0.49848912400485396, 0.49751094935089923, 0.49863406339611727, 0.5005358158505578, -0.49937733166336645, 0.49609926123970455, -0.5030694132784159, 0.49790902027737355, -0.4987235407180179, -0.49798418594541544, -0.5024552471390116, 0.499394490138676, -0.4974251284604497, -0.4978962329135943]\n",
      "qc_model.∇β = [2.5378592177815293, -0.3878816537591483, 0.48456340051407076, 0.6087883728777483, 0.18267478283986938, -0.47801167343143813, 0.6235818600406728, -0.14411185012481154, 0.46035500849368904, -0.3316749927358775, -0.024800958980559007, -0.532825513048496, 0.32461402813598816, -0.4421443779961307, -0.5799522588043043]\n",
      "θtrue = [0.1, 0.1]\n",
      "qc_model.θ = [0.10011285253205283, 0.08230766496943064]\n",
      "qc_model.∇θ = [6.588716663682135, 7.916188025443262]\n",
      "τtrue = 0.5\n",
      "qc_model.τ = [1.0]\n",
      "qc_model.∇τ = [0.0]\n"
     ]
    }
   ],
   "source": [
    "@show βtrue\n",
    "@show qc_model.β\n",
    "@show qc_model.∇β\n",
    "\n",
    "@show θtrue\n",
    "@show qc_model.θ\n",
    "@show qc_model.∇θ;\n",
    "\n",
    "@show τtrue\n",
    "@show qc_model.τ\n",
    "@show qc_model.∇τ;"
   ]
  },
  {
   "cell_type": "code",
   "execution_count": 18,
   "metadata": {
    "collapsed": false
   },
   "outputs": [
    {
     "data": {
      "text/plain": [
       "1-element Vector{Float64}:\n",
       " 10.026348269269533"
      ]
     },
     "execution_count": 18,
     "metadata": {},
     "output_type": "execute_result"
    }
   ],
   "source": [
    "qc_model.r # rtrue = 10 (negative binomial only)"
   ]
  },
  {
   "cell_type": "markdown",
   "metadata": {},
   "source": [
    "# AR"
   ]
  },
  {
   "cell_type": "code",
   "execution_count": 1,
   "metadata": {
    "collapsed": false
   },
   "outputs": [
    {
     "name": "stderr",
     "output_type": "stream",
     "text": [
      "\u001b[32m\u001b[1mPrecompiling\u001b[22m\u001b[39m QuasiCopula\n",
      "\u001b[32m  ✓ \u001b[39mQuasiCopula\n",
      "  1 dependency successfully precompiled in 4 seconds. 151 already precompiled.\n"
     ]
    }
   ],
   "source": [
    "using Revise\n",
    "using Ipopt\n",
    "using QuasiCopula\n",
    "using Random\n",
    "using GLM\n",
    "using LinearAlgebra\n",
    "using Statistics\n",
    "using StatsBase\n",
    "using MathOptInterface\n",
    "using RCall"
   ]
  },
  {
   "cell_type": "code",
   "execution_count": 15,
   "metadata": {
    "collapsed": false,
    "scrolled": true
   },
   "outputs": [
    {
     "name": "stdout",
     "output_type": "stream",
     "text": [
      "Initializing NegBin r to Poisson regression values\n",
      "initializing β using Newton's Algorithm under Independence Assumption\n",
      "initializing variance components using MM-Algorithm\n",
      "initializing r using Newton update\n",
      "Converging when tol ≤ 1.0e-6 (max block iter = 10)\n",
      "Block iter 1 r = 1.31, logl = -990.38, tol = 0.6098788177411643\n",
      "Block iter 2 r = 1.3, logl = -989.53, tol = 0.0008615566863290024\n",
      "Block iter 3 r = 1.3, logl = -989.52, tol = 7.787968897507412e-6\n"
     ]
    },
    {
     "data": {
      "text/plain": [
       "-989.5192980240267"
      ]
     },
     "execution_count": 15,
     "metadata": {},
     "output_type": "execute_result"
    }
   ],
   "source": [
    "# get data\n",
    "R\"\"\"\n",
    "library(\"gcmr\")\n",
    "data(\"epilepsy\", package = \"gcmr\")\n",
    "\"\"\"\n",
    "@rget epilepsy\n",
    "\n",
    "# form model\n",
    "df = epilepsy\n",
    "y = :counts\n",
    "grouping = :id\n",
    "d = NegativeBinomial() # Normal() # Poisson()\n",
    "link = LogLink() # IdentityLink() # LogLink()\n",
    "covariates = [:visit, :trt]\n",
    "qc_model = AR_model(df, y, grouping, covariates, d, link; penalized=true)\n",
    "\n",
    "# fit\n",
    "QuasiCopula.fit!(qc_model)"
   ]
  },
  {
   "cell_type": "code",
   "execution_count": 13,
   "metadata": {
    "collapsed": false
   },
   "outputs": [
    {
     "name": "stdout",
     "output_type": "stream",
     "text": [
      "qc_model.β = [3.4708028031628664, -1.3680429994395282, -0.052249866925391415]\n",
      "qc_model.σ2 = [0.3167502942469257]\n",
      "qc_model.τ = [1.0]\n",
      "qc_model.ρ = [1.0000000099989756]\n"
     ]
    }
   ],
   "source": [
    "@show qc_model.β\n",
    "@show qc_model.σ2\n",
    "@show qc_model.τ\n",
    "@show qc_model.ρ;"
   ]
  },
  {
   "cell_type": "code",
   "execution_count": 14,
   "metadata": {
    "collapsed": false
   },
   "outputs": [
    {
     "data": {
      "text/plain": [
       "1-element Vector{Float64}:\n",
       " 1.2998208401866174"
      ]
     },
     "execution_count": 14,
     "metadata": {},
     "output_type": "execute_result"
    }
   ],
   "source": [
    "qc_model.r # negative binomial only"
   ]
  },
  {
   "cell_type": "markdown",
   "metadata": {},
   "source": [
    "# CS"
   ]
  },
  {
   "cell_type": "code",
   "execution_count": 1,
   "metadata": {
    "collapsed": false
   },
   "outputs": [
    {
     "name": "stderr",
     "output_type": "stream",
     "text": [
      "\u001b[32m\u001b[1mPrecompiling\u001b[22m\u001b[39m QuasiCopula\n",
      "\u001b[32m  ✓ \u001b[39mQuasiCopula\n",
      "  1 dependency successfully precompiled in 5 seconds. 151 already precompiled.\n"
     ]
    }
   ],
   "source": [
    "using Revise\n",
    "using Ipopt\n",
    "using QuasiCopula\n",
    "using Random\n",
    "using GLM\n",
    "using LinearAlgebra\n",
    "using Statistics\n",
    "using StatsBase\n",
    "using MathOptInterface\n",
    "using RCall"
   ]
  },
  {
   "cell_type": "code",
   "execution_count": 2,
   "metadata": {
    "collapsed": false,
    "scrolled": true
   },
   "outputs": [
    {
     "name": "stdout",
     "output_type": "stream",
     "text": [
      "gcm.β = [0.31424644209305314, 0.13302522431248406, -0.0036949643843916823, 0.37371312255483236]\n",
      "initializing dispersion using residual sum of squares\n",
      "gcm.τ = [5.014377157801042]\n",
      "initializing CS noise paramter using MM-algorithm\n",
      "\n",
      "******************************************************************************\n",
      "This program contains Ipopt, a library for large-scale nonlinear optimization.\n",
      " Ipopt is released as open source code under the Eclipse Public License (EPL).\n",
      "         For more information visit https://github.com/coin-or/Ipopt\n",
      "******************************************************************************\n",
      "\n",
      "This is Ipopt version 3.14.14, running with linear solver MUMPS 5.6.2.\n",
      "\n",
      "Number of nonzeros in equality constraint Jacobian...:        0\n",
      "Number of nonzeros in inequality constraint Jacobian.:        0\n",
      "Number of nonzeros in Lagrangian Hessian.............:        0\n",
      "\n",
      "Total number of variables............................:        7\n",
      "                     variables with only lower bounds:        2\n",
      "                variables with lower and upper bounds:        1\n",
      "                     variables with only upper bounds:        0\n",
      "Total number of equality constraints.................:        0\n",
      "Total number of inequality constraints...............:        0\n",
      "        inequality constraints with only lower bounds:        0\n",
      "   inequality constraints with lower and upper bounds:        0\n",
      "        inequality constraints with only upper bounds:        0\n",
      "\n",
      "iter    objective    inf_pr   inf_du lg(mu)  ||d||  lg(rg) alpha_du alpha_pr  ls\n",
      "   0 -2.6022587e+02 0.00e+00 1.01e+02   0.0 0.00e+00    -  0.00e+00 0.00e+00   0\n",
      "   1 -2.6017394e+02 0.00e+00 5.11e+01  -3.3 1.01e+02    -  1.00e+00 3.81e-06f 19\n",
      "   2 -2.6015573e+02 0.00e+00 1.65e+00  -5.0 1.29e-04    -  1.00e+00 1.00e+00f  1\n",
      "   3 -2.6015567e+02 0.00e+00 1.64e+00  -6.9 4.20e-06    -  1.00e+00 1.00e+00f  1\n",
      "   4 -2.6014227e+02 0.00e+00 1.89e+01  -8.1 1.21e-03    -  1.00e+00 1.00e+00f  1\n",
      "   5 -2.6009237e+02 0.00e+00 3.43e+01  -9.3 5.35e-03    -  1.00e+00 1.00e+00f  1\n",
      "   6 -2.6002806e+02 0.00e+00 1.72e+01 -10.5 9.28e-03    -  1.00e+00 1.00e+00f  1\n",
      "   7 -2.5999258e+02 0.00e+00 8.89e+00 -11.0 1.10e-02    -  1.00e+00 1.00e+00f  1\n",
      "   8 -2.5993030e+02 0.00e+00 6.02e+01 -10.3 9.84e-02    -  1.00e+00 5.00e-01f  2\n",
      "   9 -2.5990646e+02 0.00e+00 2.96e+00  -9.1 5.44e+00    -  1.00e+00 5.24e-03f  6\n",
      "iter    objective    inf_pr   inf_du lg(mu)  ||d||  lg(rg) alpha_du alpha_pr  ls\n",
      "  10 -2.5963969e+02 0.00e+00 6.27e+01  -9.9 1.68e-01    -  1.00e+00 1.00e+00f  1\n",
      "  11 -2.5949415e+02 0.00e+00 6.12e+01 -11.0 1.97e-01    -  1.00e+00 5.00e-01f  2\n",
      "  12 -2.5894501e+02 0.00e+00 5.60e+01 -10.6 1.02e+00    -  1.00e+00 2.50e-01f  3\n",
      "  13 -2.5891423e+02 0.00e+00 6.11e+01 -10.2 2.17e+00    -  1.00e+00 1.31e-02f  5\n",
      "  14 -2.5882435e+02 0.00e+00 5.94e+01  -8.7 1.90e+01    -  1.00e+00 4.72e-03f  5\n",
      "  15 -2.5878063e+02 0.00e+00 9.67e+01  -6.9 4.14e+02    -  2.47e-03 1.01e-04f  6\n",
      "  16 -2.5868930e+02 0.00e+00 4.66e+01  -8.3 5.83e+00    -  1.00e+00 8.54e-03f  5\n",
      "  17 -2.5868016e+02 0.00e+00 5.03e+01  -6.4 3.81e+01    -  1.00e+00 1.50e-03f  5\n",
      "  18 -2.5825914e+02 0.00e+00 6.40e+01  -5.5 4.78e+00    -  1.00e+00 1.22e-01f  4\n",
      "  19 -2.5825070e+02 0.00e+00 6.42e+01  -5.7 3.55e+00    -  1.00e+00 1.56e-02f  7\n",
      "iter    objective    inf_pr   inf_du lg(mu)  ||d||  lg(rg) alpha_du alpha_pr  ls\n",
      "  20 -2.5823921e+02 0.00e+00 5.81e+01  -3.9 8.21e+01    -  1.00e+00 2.22e-03f  5\n",
      "  21 -2.5814034e+02 0.00e+00 5.52e+01  -3.2 1.57e+01    -  1.00e+00 5.96e-03f  5\n",
      "  22 -2.5813680e+02 0.00e+00 8.59e+01  -1.9 1.21e+02    -  1.00e+00 1.09e-04f  6\n",
      "  23 -2.5808780e+02 0.00e+00 3.36e+01  -2.0 5.76e-01    -  1.00e+00 1.25e-01f  4\n",
      "  24 -2.5790963e+02 0.00e+00 5.02e+00  -2.9 5.20e+00    -  3.49e-01 1.02e-01f  4\n",
      "  25 -2.5797543e+02 0.00e+00 4.43e+01  -0.8 5.60e+02    -  1.00e+00 2.06e-03f  4\n",
      "  26 -2.5798772e+02 0.00e+00 2.95e+01  -0.7 3.41e+00    -  8.69e-01 1.25e-01f  4\n",
      "  27 -2.5807489e+02 0.00e+00 8.51e+01  -0.7 3.47e+02    -  6.62e-02 3.91e-03f  9\n",
      "  28 -2.5824428e+02 0.00e+00 1.49e+02  -0.7 2.67e+02    -  1.50e-01 5.82e-03f  6\n",
      "  29 -2.5821981e+02 0.00e+00 1.33e+02  -0.7 7.74e+01    -  1.37e-01 3.12e-02f  6\n",
      "iter    objective    inf_pr   inf_du lg(mu)  ||d||  lg(rg) alpha_du alpha_pr  ls\n",
      "  30 -2.5819797e+02 0.00e+00 1.97e+01  -0.7 1.00e+03    -  1.00e+00 1.72e-02f  5\n",
      "  31 -2.5825784e+02 0.00e+00 1.54e+01  -0.7 2.07e+01    -  7.65e-01 6.25e-02f  5\n",
      "  32 -2.5850135e+02 0.00e+00 5.37e+01  -0.7 4.90e+02    -  1.00e+00 1.56e-02f  7\n",
      "  33 -2.5796830e+02 0.00e+00 1.19e+02  -0.7 8.00e+01    -  4.97e-01 8.88e-03f  6\n",
      "  34 -2.5793396e+02 0.00e+00 1.32e+02  -0.7 1.07e+03    -  2.46e-01 1.04e-03f  6\n",
      "  35 -2.5838572e+02 0.00e+00 2.68e+02  -0.7 1.19e+02    -  9.10e-01 5.00e-01f  2\n",
      "  36 -1.2103914e+03 0.00e+00 8.77e+02  -0.7 1.40e+04    -  3.82e-02 3.74e-02w  1\n",
      "  37 -6.2887051e+02 0.00e+00 4.09e+03  -0.7 1.27e+04    -  2.30e-02 3.65e-01w  1\n",
      "  38 -9.4474169e+03 0.00e+00 1.43e+04  -0.7 7.40e+06    -  7.01e-03 7.04e-04w  1\n",
      "  39 -2.5810855e+02 0.00e+00 3.53e+01  -0.7 8.39e+03    -  3.82e-02 1.17e-03f  5\n",
      "iter    objective    inf_pr   inf_du lg(mu)  ||d||  lg(rg) alpha_du alpha_pr  ls\n",
      "  40 -2.5818379e+02 0.00e+00 1.57e+02  -0.7 1.22e+04    -  2.24e-01 2.95e-03f  8\n",
      "  41 -2.5818055e+02 0.00e+00 1.56e+02  -0.7 3.76e+03    -  5.20e-01 1.16e-06f 16\n",
      "  42 -2.5814799e+02 0.00e+00 4.70e+01  -0.7 1.09e+03    -  1.91e-01 2.01e-03f  8\n",
      "  43 -2.5815240e+02 0.00e+00 3.76e+01  -0.7 8.16e+02    -  7.74e-01 1.04e-02f  7\n",
      "  44 -2.5865590e+02 0.00e+00 2.87e+02  -0.7 6.96e+04    -  1.00e+00 2.05e-03f  8\n",
      "  45 -2.5947719e+02 0.00e+00 1.21e+02  -0.7 1.58e+03    -  9.17e-01 5.00e-01f  2\n",
      "  46 -2.5948291e+02 0.00e+00 4.31e+01  -0.7 1.50e+05    -  1.56e-01 1.34e-02f  7\n",
      "  47 -2.5938192e+02 0.00e+00 4.84e+01  -0.7 7.26e+03  -4.0 4.96e-01 3.50e-06f  9\n",
      "  48 -2.5895582e+02 0.00e+00 2.49e+02  -0.7 5.13e+03    -  1.00e+00 1.49e-01f  3\n",
      "  49 -2.4815672e+08 0.00e+00 8.57e+06  -0.7 2.89e+02  -4.5 3.94e-02 6.22e-01w  1\n",
      "iter    objective    inf_pr   inf_du lg(mu)  ||d||  lg(rg) alpha_du alpha_pr  ls\n",
      "  50 -4.7984198e+02 0.00e+00 2.96e+03  -0.7 1.96e+03    -  1.00e+00 1.00e+00w  1\n",
      "  51 -5.7917520e+02 0.00e+00 1.97e+03  -0.7 5.68e+03    -  1.55e-02 3.69e-02w  1\n",
      "  52 -2.5894692e+02 0.00e+00 2.54e+02  -0.7 1.83e+03    -  3.94e-02 1.90e-05f 15\n",
      "  53 -2.5884534e+02 0.00e+00 1.74e+02  -0.7 7.31e+04    -  1.99e-03 7.40e-07f 20\n",
      "  54 -2.5852965e+02 0.00e+00 1.70e+01  -0.7 3.31e+03    -  1.00e+00 8.70e-02f  4\n",
      "  55 -2.5821817e+02 0.00e+00 9.35e+01  -0.7 6.33e+04  -5.0 1.12e-03 6.45e-07f 18\n",
      "  56 -2.5789432e+02 0.00e+00 4.44e+01  -0.7 7.05e+02    -  1.00e+00 5.00e-01f  2\n",
      "  57 -2.5787953e+02 0.00e+00 5.18e+01  -6.7 2.15e+01    -  2.30e-01 1.15e-03f 10\n",
      "  58 -2.5813821e+02 0.00e+00 2.25e+02  -0.7 1.70e+03    -  1.00e+00 5.00e-01f  2\n",
      "  59 -2.5809728e+02 0.00e+00 1.64e+02  -0.9 7.84e+03  -5.4 4.08e-01 1.48e-06f 18\n",
      "iter    objective    inf_pr   inf_du lg(mu)  ||d||  lg(rg) alpha_du alpha_pr  ls\n",
      "  60 -2.5799384e+02 0.00e+00 1.95e+02  -0.9 2.12e+03    -  1.00e+00 1.25e-01f  4\n",
      "  61 -2.5787007e+02 0.00e+00 1.26e+02  -0.9 1.28e+04  -4.1 1.23e-01 1.11e-06f 19\n",
      "  62 -2.5767378e+02 0.00e+00 2.78e+01  -0.7 2.62e+03    -  1.00e+00 5.57e-02f  4\n",
      "  63 -2.5764677e+02 0.00e+00 7.57e+00  -6.5 1.88e+02    -  5.80e-02 2.44e-04f 13\n",
      "  64 -2.5750452e+02 0.00e+00 2.73e+01  -0.8 2.90e+03    -  1.00e+00 1.03e-01f  4\n",
      "  65 -5.2601342e+06 0.00e+00 8.70e+05   0.2 4.85e+03  -4.2 1.00e+00 1.56e-02h  7\n",
      "  66 -2.0857650e+04 0.00e+00 5.59e+04   0.0 6.32e+02    -  1.00e+00 1.00e+00f  1\n",
      "  67 -1.0858211e+04 0.00e+00 2.59e+04   0.0 6.75e+06    -  4.03e-04 1.13e-03f  1\n",
      "  68 -2.1079829e+03 0.00e+00 4.58e+04   0.0 1.43e+07    -  7.33e-04 1.15e-05f  1\n",
      "  69 -2.0752423e+03 0.00e+00 1.22e+04   0.0 5.73e+04    -  1.00e+00 6.25e-02f  5\n",
      "iter    objective    inf_pr   inf_du lg(mu)  ||d||  lg(rg) alpha_du alpha_pr  ls\n",
      "  70 -2.0728456e+03 0.00e+00 1.11e+03   0.0 2.20e+04  -4.6 1.00e+00 3.78e-04f  8\n",
      "  71 -2.0584662e+03 0.00e+00 6.52e+03   0.0 2.43e+04    -  5.73e-01 5.00e-01f  2\n",
      "  72 -2.0577304e+03 0.00e+00 6.90e+03   0.0 2.26e+06    -  1.00e+00 2.64e-06f 18\n",
      "  73 -2.0242365e+03 0.00e+00 1.84e+04   0.0 1.16e+05    -  4.76e-01 5.00e-01f  2\n",
      "  74 -1.9471583e+03 0.00e+00 1.05e+04   0.0 1.85e+05  -5.1 7.54e-01 2.44e-04f 13\n",
      "  75 -1.8468152e+03 0.00e+00 1.80e+03   0.0 1.84e+04    -  1.51e-02 3.12e-02f  6\n",
      "  76 -1.8465680e+03 0.00e+00 2.90e+02   0.0 8.45e+04    -  9.27e-01 1.82e-05f  7\n",
      "  77 -1.7094188e+03 0.00e+00 2.72e+03   0.0 4.03e+05    -  4.58e-01 3.17e-01f  1\n",
      "  78 -1.7052488e+03 0.00e+00 4.59e+03   0.0 6.78e+07    -  3.16e-02 2.02e-07f 16\n",
      "  79 -1.6603624e+03 0.00e+00 2.81e+03   0.0 6.94e+06    -  5.36e-01 3.03e-02f  1\n",
      "iter    objective    inf_pr   inf_du lg(mu)  ||d||  lg(rg) alpha_du alpha_pr  ls\n",
      "  80 -1.6412393e+03 0.00e+00 1.34e+03   0.0 1.98e+05    -  3.23e-03 6.70e-04f 11\n",
      "  81 -1.6394764e+03 0.00e+00 2.29e+03   0.0 2.09e+05    -  1.00e+00 1.65e-05f  5\n",
      "  82 -1.5167690e+03 0.00e+00 2.45e+02   0.0 4.10e+04    -  4.79e-01 1.00e+00f  1\n",
      "  83 -1.4352627e+03 0.00e+00 3.12e+02   0.0 1.44e+04    -  2.15e-03 9.77e-04f 11\n",
      "  84 -1.4342899e+03 0.00e+00 2.34e+02   0.0 1.65e+04    -  8.93e-01 1.03e-03f  8\n",
      "  85 -1.4212431e+03 0.00e+00 4.23e+02   0.0 9.66e+04    -  2.73e-01 2.22e-01f  2\n",
      "  86 -1.3940161e+03 0.00e+00 1.07e+02   0.0 1.49e+05    -  5.93e-02 4.34e-05f  3\n",
      "  87 -1.2141007e+03 0.00e+00 8.33e+02   0.0 1.59e+04    -  5.20e-01 4.89e-01f  1\n",
      "  88 -1.1997360e+03 0.00e+00 7.43e+02   0.0 1.90e+05    -  5.62e-02 7.53e-05f 12\n",
      "  89 -1.0562723e+03 0.00e+00 2.06e+02   0.0 1.32e+06    -  1.47e-03 1.95e-03f 10\n",
      "iter    objective    inf_pr   inf_du lg(mu)  ||d||  lg(rg) alpha_du alpha_pr  ls\n",
      "  90 -1.0561949e+03 0.00e+00 2.11e+02   0.0 4.05e+04    -  1.00e+00 9.54e-07f 21\n",
      "  91 -1.0156702e+03 0.00e+00 3.70e+02   0.0 1.55e+01    -  1.00e+00 1.00e+00f  1\n",
      "  92 -1.0057107e+03 0.00e+00 2.94e+02   0.0 1.35e+05    -  2.36e-01 1.56e-02f  7\n",
      "  93 -1.0046249e+03 0.00e+00 2.26e+02   0.0 2.11e+06    -  2.68e-02 1.95e-03f 10\n",
      "  94 -9.8105433e+02 0.00e+00 1.15e+02   0.0 7.36e+05    -  1.84e-04 6.10e-05f 15\n",
      "  95 -9.7112249e+02 0.00e+00 1.25e+02   0.0 1.37e+06    -  1.00e+00 1.39e-02f  2\n",
      "  96 -9.5701176e+02 0.00e+00 2.69e+02   0.0 8.95e+03  -5.6 8.04e-03 3.01e-04f 11\n",
      "  97 -8.3144384e+02 0.00e+00 2.62e+02   0.0 1.38e+04    -  3.31e-01 1.25e-01f  4\n",
      "  98 -8.2045446e+02 0.00e+00 3.83e+02   0.0 1.85e+04    -  7.62e-01 2.82e-02f  4\n",
      "  99 -7.4489663e+02 0.00e+00 8.67e+01   0.0 7.67e+04    -  7.34e-05 4.44e-05f 15\n",
      "iter    objective    inf_pr   inf_du lg(mu)  ||d||  lg(rg) alpha_du alpha_pr  ls\n",
      " 100 -7.3870179e+02 0.00e+00 4.94e+02   0.0 3.96e+04    -  1.00e+00 5.00e-01f  2\n",
      "\n",
      "Number of Iterations....: 100\n",
      "\n",
      "                                   (scaled)                 (unscaled)\n",
      "Objective...............:   1.3500543602822805e+02   -7.3870179125981156e+02\n",
      "Dual infeasibility......:   4.9427814533074928e+02    2.7045144408856158e+03\n",
      "Constraint violation....:   0.0000000000000000e+00    0.0000000000000000e+00\n",
      "Variable bound violation:   0.0000000000000000e+00    0.0000000000000000e+00\n",
      "Complementarity.........:   1.6219045331207191e+00    8.8744854956668124e+00\n",
      "Overall NLP error.......:   4.9427814533074928e+02    2.7045144408856158e+03\n",
      "\n",
      "\n",
      "Number of objective function evaluations             = 928\n",
      "Number of objective gradient evaluations             = 101\n",
      "Number of equality constraint evaluations            = 0\n",
      "Number of inequality constraint evaluations          = 0\n",
      "Number of equality constraint Jacobian evaluations   = 0\n",
      "Number of inequality constraint Jacobian evaluations = 0\n",
      "Number of Lagrangian Hessian evaluations             = 0\n",
      "Total seconds in IPOPT                               = 0.332\n",
      "\n",
      "EXIT: Maximum Number of Iterations Exceeded.\n"
     ]
    },
    {
     "name": "stderr",
     "output_type": "stream",
     "text": [
      "\u001b[33m\u001b[1m┌ \u001b[22m\u001b[39m\u001b[33m\u001b[1mWarning: \u001b[22m\u001b[39mOptimization unsuccesful; got ITERATION_LIMIT\n",
      "\u001b[33m\u001b[1m└ \u001b[22m\u001b[39m\u001b[90m@ QuasiCopula ~/.julia/dev/QuasiCopula/src/parameter_estimation/fit_gaussian_ar_cs.jl:65\u001b[39m\n"
     ]
    },
    {
     "data": {
      "text/plain": [
       "-738.7017912598116"
      ]
     },
     "execution_count": 2,
     "metadata": {},
     "output_type": "execute_result"
    }
   ],
   "source": [
    "# get data\n",
    "R\"\"\"\n",
    "data(respiratory, package=\"geepack\")\n",
    "respiratory_df <- respiratory[order(respiratory$id),]\n",
    "\"\"\"\n",
    "@rget respiratory_df\n",
    "\n",
    "# form model\n",
    "df = respiratory_df\n",
    "y = :outcome\n",
    "grouping = :id\n",
    "d = Normal() # Bernoulli()\n",
    "link = IdentityLink() # LogitLink()\n",
    "covariates = [:center, :age, :baseline]\n",
    "qc_model = CS_model(df, y, grouping, covariates, d, link)\n",
    "\n",
    "# fit\n",
    "QuasiCopula.fit!(qc_model)"
   ]
  },
  {
   "cell_type": "code",
   "execution_count": 4,
   "metadata": {
    "collapsed": false
   },
   "outputs": [
    {
     "name": "stdout",
     "output_type": "stream",
     "text": [
      "qc_model.β = [0.473432329115939, 1.1371817357118306, -0.03481901279902936, 0.7013433295574378]\n",
      "qc_model.σ2 = [41475.14332109955]\n",
      "qc_model.ρ = [0.6158813782222337]\n"
     ]
    }
   ],
   "source": [
    "@show qc_model.β\n",
    "@show qc_model.σ2\n",
    "@show qc_model.ρ;"
   ]
  },
  {
   "cell_type": "code",
   "execution_count": null,
   "metadata": {
    "collapsed": true
   },
   "outputs": [],
   "source": []
  }
 ],
 "metadata": {
  "@webio": {
   "lastCommId": null,
   "lastKernelId": null
  },
  "kernelspec": {
   "display_name": "Julia 1.10.2",
   "language": "julia",
   "name": "julia-1.10"
  },
  "language_info": {
   "file_extension": ".jl",
   "mimetype": "application/julia",
   "name": "julia",
   "version": "1.10.2"
  }
 },
 "nbformat": 4,
 "nbformat_minor": 2
}
