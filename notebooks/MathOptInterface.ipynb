{
 "cells": [
  {
   "cell_type": "markdown",
   "metadata": {},
   "source": [
    "# Upgrading from MathProgBase.jl to MathOptInterface.jl\n",
    "\n",
    "+ MathProgBase.jl has been [depreciated](https://github.com/JuliaOpt/MathProgBase.jl/pull/231) since Jan 2019. It is therefore not officially supported by julia v1.2 and above. We should use [MathOptInterface.jl](https://github.com/jump-dev/MathOptInterface.jl) instead. \n",
    "+ Other packages such as BinaryProvider.jl and Ipopt.jl needs to also be updated to the latest version or depreciated and use the latest one supported by the Julia community.\n",
    "+ To ensure a smooth update, checkout the [official documentation](https://jump.dev/MathOptInterface.jl/dev/tutorials/mathprogbase/) as well as examples by [WiSER.jl](https://github.com/OpenMendel/WiSER.jl/blob/master/src/fit.jl) and [OrdinalMultinomialModels.jl](https://github.com/OpenMendel/OrdinalMultinomialModels.jl/blob/master/src/ordmnfit.jl)"
   ]
  },
  {
   "cell_type": "code",
   "execution_count": 5,
   "metadata": {
    "collapsed": false,
    "scrolled": false
   },
   "outputs": [
    {
     "name": "stdout",
     "output_type": "stream",
     "text": [
      "qc_model = Quasi-Copula Variance Component Model\n",
      "  * base distribution: Normal\n",
      "  * link function: IdentityLink\n",
      "  * number of clusters: 10000\n",
      "  * cluster size min, max: 5, 5\n",
      "  * number of variance components: 2\n",
      "  * number of fixed effects: 15\n",
      "\n",
      "This is Ipopt version 3.14.14, running with linear solver MUMPS 5.6.2.\n",
      "\n",
      "Number of nonzeros in equality constraint Jacobian...:        0\n",
      "Number of nonzeros in inequality constraint Jacobian.:        0\n",
      "Number of nonzeros in Lagrangian Hessian.............:        0\n",
      "\n",
      "Total number of variables............................:       18\n",
      "                     variables with only lower bounds:        3\n",
      "                variables with lower and upper bounds:        0\n",
      "                     variables with only upper bounds:        0\n",
      "Total number of equality constraints.................:        0\n",
      "Total number of inequality constraints...............:        0\n",
      "        inequality constraints with only lower bounds:        0\n",
      "   inequality constraints with lower and upper bounds:        0\n",
      "        inequality constraints with only upper bounds:        0\n",
      "\n",
      "iter    objective    inf_pr   inf_du lg(mu)  ||d||  lg(rg) alpha_du alpha_pr  ls\n",
      "   0 -9.1062186e+04 0.00e+00 3.57e+01   0.0 0.00e+00    -  0.00e+00 0.00e+00   0\n",
      "   1 -9.1062071e+04 0.00e+00 4.12e+00  -9.6 3.57e+01    -  1.00e+00 4.84e-05f 15\n",
      "   2 -9.1062070e+04 0.00e+00 9.61e-01  -5.8 1.78e-04    -  1.00e+00 1.00e+00f  1\n",
      "   3 -9.1062070e+04 0.00e+00 1.88e-01  -7.7 4.19e-05    -  1.00e+00 2.50e-01f  3\n",
      "   4 -9.1062070e+04 0.00e+00 1.65e-01  -9.6 2.32e-06    -  1.00e+00 1.00e+00f  1\n",
      "   5 -9.1062070e+04 0.00e+00 1.38e-01  -9.7 1.41e-05    -  1.00e+00 1.00e+00f  1\n",
      "   6 -9.1062070e+04 0.00e+00 1.57e-01 -11.0 2.54e-05    -  1.00e+00 1.00e+00f  1\n",
      "   7 -9.1062070e+04 0.00e+00 2.27e-01 -11.0 1.79e-04    -  1.00e+00 5.00e-01f  2\n",
      "   8 -9.1062070e+04 0.00e+00 4.15e-01 -11.0 4.64e-04    -  1.00e+00 2.50e-01f  3\n",
      "   9 -9.1062070e+04 0.00e+00 1.43e-01 -11.0 7.17e-05    -  1.00e+00 2.50e-01f  3\n",
      "iter    objective    inf_pr   inf_du lg(mu)  ||d||  lg(rg) alpha_du alpha_pr  ls\n",
      "  10 -9.1062070e+04 0.00e+00 4.92e-01 -11.0 1.39e-05    -  1.00e+00 5.00e-01f  2\n",
      "  11 -9.1062070e+04 0.00e+00 1.52e-02 -11.0 4.34e-05    -  1.00e+00 1.00e+00f  1\n",
      "  12 -9.1062070e+04 0.00e+00 1.27e-02 -11.0 1.58e-05    -  1.00e+00 1.25e-01f  4\n",
      "  13 -9.1062070e+04 0.00e+00 1.86e-02 -11.0 6.35e-06    -  1.00e+00 1.00e+00f  1\n",
      "  14 -9.1062070e+04 0.00e+00 9.69e-03 -11.0 1.77e-05    -  1.00e+00 1.25e-01f  4\n",
      "  15 -9.1062070e+04 0.00e+00 5.07e-03 -11.0 1.79e-06    -  1.00e+00 1.00e+00f  1\n",
      "  16 -9.1062070e+04 0.00e+00 5.26e-03 -11.0 2.88e-06    -  1.00e+00 5.00e-01f  2\n",
      "  17 -9.1062070e+04 0.00e+00 1.96e-03 -11.0 3.77e-06    -  1.00e+00 2.50e-01f  3\n",
      "  18 -9.1062070e+04 0.00e+00 4.14e-03 -11.0 1.24e-06    -  1.00e+00 1.25e-01f  4\n",
      "  19 -9.1062070e+04 0.00e+00 4.17e-04 -11.0 1.24e-06    -  1.00e+00 1.00e+00f  1\n",
      "\n",
      "Number of Iterations....: 19\n",
      "\n",
      "                                   (scaled)                 (unscaled)\n",
      "Objective...............:   9.1062070173299755e+04   -9.1062070173299755e+04\n",
      "Dual infeasibility......:   4.1746727752868529e-04    4.1746727752868529e-04\n",
      "Constraint violation....:   0.0000000000000000e+00    0.0000000000000000e+00\n",
      "Variable bound violation:   0.0000000000000000e+00    0.0000000000000000e+00\n",
      "Complementarity.........:   1.0000000000007071e-11    1.0000000000007071e-11\n",
      "Overall NLP error.......:   4.1746727752868529e-04    4.1746727752868529e-04\n",
      "\n",
      "\n",
      "Number of objective function evaluations             = 98\n",
      "Number of objective gradient evaluations             = 20\n",
      "Number of equality constraint evaluations            = 0\n",
      "Number of inequality constraint evaluations          = 0\n",
      "Number of equality constraint Jacobian evaluations   = 0\n",
      "Number of inequality constraint Jacobian evaluations = 0\n",
      "Number of Lagrangian Hessian evaluations             = 0\n",
      "Total seconds in IPOPT                               = 0.658\n",
      "\n",
      "EXIT: Optimal Solution Found.\n",
      "  0.791880 seconds (6.09 M allocations: 244.447 MiB, 5.26% gc time, 8.02% compilation time)\n"
     ]
    }
   ],
   "source": [
    "using Revise\n",
    "using Ipopt\n",
    "using QuasiCopula\n",
    "using Random\n",
    "using GLM\n",
    "using LinearAlgebra\n",
    "using Statistics\n",
    "using StatsBase\n",
    "using MathOptInterface\n",
    "\n",
    "ENV[\"COLUMNS\"] = 240\n",
    "BLAS.set_num_threads(1)\n",
    "Threads.nthreads()\n",
    "\n",
    "k = 0 # number of causal SNPs\n",
    "\n",
    "qc_model, G, βtrue, θtrue, γtrue, τtrue = simulate_longitudinal_traits(\n",
    "    n = 10000, # sample size\n",
    "    d_min = 5, # min number of observations per sample\n",
    "    d_max = 5, # max number of observations per sample\n",
    "    p = 15, # number of fixed effects, including intercept\n",
    "    m = 2, # number of variance components\n",
    "    q = 1000, # number of SNPs\n",
    "    k = k, # number of causal SNPs\n",
    "    seed = 2024,\n",
    "    y_distribution = Normal,\n",
    "    τtrue = 0.5,\n",
    "    T = Float64,\n",
    "    maf = 0.3,\n",
    "    causal_snp_β = 0.2\n",
    ")\n",
    "\n",
    "@show qc_model;\n",
    "\n",
    "@time optm = QuasiCopula.fit!(qc_model);"
   ]
  },
  {
   "cell_type": "code",
   "execution_count": 6,
   "metadata": {
    "collapsed": false
   },
   "outputs": [
    {
     "name": "stdout",
     "output_type": "stream",
     "text": [
      "βtrue = [1.0, -0.5, 0.5, 0.5, 0.5, -0.5, 0.5, -0.5, 0.5, -0.5, -0.5, -0.5, 0.5, -0.5, -0.5]\n",
      "qc_model.β = [1.0015558069145196, -0.4992552816604949, 0.5003258775344148, 0.5104867759085501, 0.503433481674981, -0.5109228927293467, 0.48934968009349356, -0.5029571938424525, 0.5049029761584054, -0.5083950994921372, -0.4838377755959444, -0.5082673883570834, 0.508559185132388, -0.49494971764139967, -0.5024689132271957]\n",
      "qc_model.∇β = [-0.0004174672775286853, 1.855972752784485e-5, 0.00013656486524218914, 9.337930918396076e-6, 1.9344740755378176e-5, 2.752102204828244e-5, 3.267097026424248e-5, -0.00013902709178342798, -7.60145868601847e-5, 3.8777999550543285e-5, -4.696202700368857e-5, 2.4041912385336373e-5, -0.00010361037352457636, 5.2108730824396154e-5, 0.00010436649891751304]\n",
      "θtrue = [0.1, 0.1]\n",
      "qc_model.θ = [0.10841706495069867, 0.11742437271630245]\n",
      "qc_model.∇θ = [3.458515023302411e-5, 3.302592342491195e-5]\n",
      "τtrue = 0.5\n",
      "qc_model.τ = [0.5080458900474164]\n",
      "qc_model.∇τ = [0.0002994001751677189]\n"
     ]
    }
   ],
   "source": [
    "@show βtrue\n",
    "@show qc_model.β\n",
    "@show qc_model.∇β\n",
    "\n",
    "@show θtrue\n",
    "@show qc_model.θ\n",
    "@show qc_model.∇θ;\n",
    "\n",
    "@show τtrue\n",
    "@show qc_model.τ\n",
    "@show qc_model.∇τ;"
   ]
  },
  {
   "cell_type": "code",
   "execution_count": null,
   "metadata": {
    "collapsed": true
   },
   "outputs": [],
   "source": []
  },
  {
   "cell_type": "code",
   "execution_count": null,
   "metadata": {
    "collapsed": true
   },
   "outputs": [],
   "source": []
  },
  {
   "cell_type": "code",
   "execution_count": null,
   "metadata": {
    "collapsed": true
   },
   "outputs": [],
   "source": []
  },
  {
   "cell_type": "code",
   "execution_count": 2,
   "metadata": {
    "collapsed": false
   },
   "outputs": [
    {
     "ename": "LoadError",
     "evalue": "UndefVarError: `config_solver` not defined",
     "output_type": "error",
     "traceback": [
      "UndefVarError: `config_solver` not defined",
      "",
      "Stacktrace:",
      " [1] top-level scope",
      "   @ In[2]:15"
     ]
    }
   ],
   "source": [
    "import QuasiCopula.config_solver\n",
    "import QuasiCopula.initialize_model!\n",
    "import QuasiCopula.modelpar_to_optimpar!\n",
    "T = Float64\n",
    "const MOI = MathOptInterface\n",
    "solver = Ipopt.Optimizer()\n",
    "solver_config = Dict(\"print_level\"           => 5, \n",
    "                 \"mehrotra_algorithm\"    => \"yes\",\n",
    "                 \"warm_start_init_point\" => \"yes\",\n",
    "                 \"max_iter\"              => 100)\n",
    "solvertype = typeof(solver)\n",
    "\n",
    "\n",
    "\n",
    "\n",
    "    solvertype = typeof(solver)\n",
    "    solvertype <: Ipopt.Optimizer ||\n",
    "        @warn(\"Optimizer object is $solvertype, `solver_config` may need to be defined.\")\n",
    "    config_solver(solver, solver_config)\n",
    "\n",
    "    # set lower bounds and upper bounds of parameters\n",
    "    npar = gcm.p + gcm.m\n",
    "    lb   = fill(-Inf, npar)\n",
    "    ub   = fill(Inf, npar)\n",
    "    offset = gcm.p + 1\n",
    "    for k in 1:gcm.m\n",
    "        lb[offset] = 0\n",
    "        offset += 1\n",
    "    end\n",
    "\n",
    "    # set up NLP optimization problem\n",
    "    MOI.empty!(solver)\n",
    "    NLPBlock = MOI.NLPBlockData(\n",
    "        MOI.NLPBoundsPair.(lb, ub), gcm, true\n",
    "    )\n",
    "    par0 = Vector{T}(undef, npar)\n",
    "    solver_pars = MOI.add_variables(solver, npar)\n",
    "    for i in 1:npar\n",
    "        MOI.set(solver, MOI.VariablePrimalStart(), solver_pars[i], par0[i])\n",
    "    end\n",
    "    MOI.set(solver, MOI.NLPBlock(), NLPBlock)\n",
    "    MOI.set(solver, MOI.ObjectiveSense(), MOI.MIN_SENSE)\n",
    "\n",
    "    # initial condition\n",
    "    QuasiCopula.initialize_model!(gcm)\n",
    "    QuasiCopula.modelpar_to_optimpar!(par0, gcm)\n",
    "    for i in 1:npar\n",
    "        MOI.set(solver, MOI.VariablePrimalStart(), solver_pars[i], par0[i])\n",
    "    end\n",
    "\n",
    "    MOI.optimize!(solver)\n"
   ]
  },
  {
   "cell_type": "code",
   "execution_count": null,
   "metadata": {
    "collapsed": true
   },
   "outputs": [],
   "source": []
  },
  {
   "cell_type": "markdown",
   "metadata": {},
   "source": [
    "## TrajGWAS.jl test"
   ]
  },
  {
   "cell_type": "code",
   "execution_count": null,
   "metadata": {
    "collapsed": true
   },
   "outputs": [],
   "source": [
    "using CSV, DataFrames, WiSER\n",
    "filepath = normpath(joinpath(dirname(pathof(WiSER)), \"../data/\"))\n",
    "df = DataFrame(CSV.File(filepath * \"sbp.csv\"))\n",
    "\n",
    "m = WSVarLmmModel(\n",
    "    @formula(sbp ~ 1 + agegroup + gender + bmi_std + meds), \n",
    "    @formula(sbp ~ 1 + bmi_std), \n",
    "    @formula(sbp ~ 1 + agegroup + meds + bmi_std),\n",
    "    :id, df);\n",
    "\n",
    "solver = Ipopt.Optimizer()\n",
    "\n",
    "\n",
    "    solvertype = typeof(solver)\n",
    "    solvertype <: Ipopt.Optimizer ||\n",
    "        @warn(\"Optimizer object is $solvertype, `solver_config` may need to be defined.\")\n",
    "    # Pass options to solver\n",
    "    WiSER.config_solver(solver, solver_config)\n",
    "    # set up NLP optimization problem\n",
    "    npar = m.l + ◺(m.q)\n",
    "    MOI.empty!(solver)\n",
    "    lb   = T[]\n",
    "    ub   = T[]\n",
    "\n",
    "    NLPBlock = MOI.NLPBlockData(\n",
    "        MOI.NLPBoundsPair.(lb, ub), m, true\n",
    "    )\n",
    "\n",
    "    par0 = Vector{T}(undef, npar)\n",
    "    WiSER.modelpar_to_optimpar!(par0, m)\n",
    "\n",
    "    solver_pars = MOI.add_variables(solver, npar)\n",
    "    for i in 1:npar\n",
    "        MOI.set(solver, MOI.VariablePrimalStart(), solver_pars[i], par0[i])\n",
    "    end\n",
    "\n",
    "    MOI.set(solver, MOI.NLPBlock(), NLPBlock)\n",
    "    MOI.set(solver, MOI.ObjectiveSense(), MOI.MIN_SENSE)\n"
   ]
  }
 ],
 "metadata": {
  "kernelspec": {
   "display_name": "Julia 1.10.2",
   "language": "julia",
   "name": "julia-1.10"
  },
  "language_info": {
   "file_extension": ".jl",
   "mimetype": "application/julia",
   "name": "julia",
   "version": "1.10.2"
  }
 },
 "nbformat": 4,
 "nbformat_minor": 2
}
