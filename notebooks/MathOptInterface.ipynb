{
 "cells": [
  {
   "cell_type": "markdown",
   "metadata": {},
   "source": [
    "# Upgrading from MathProgBase.jl to MathOptInterface.jl\n",
    "\n",
    "+ MathProgBase.jl has been [depreciated](https://github.com/JuliaOpt/MathProgBase.jl/pull/231) since Jan 2019. It is therefore not officially supported by julia v1.2 and above. We should use [MathOptInterface.jl](https://github.com/jump-dev/MathOptInterface.jl) instead. \n",
    "+ Other packages such as BinaryProvider.jl and Ipopt.jl needs to also be updated to the latest version or depreciated and use the latest one supported by the Julia community.\n",
    "+ To ensure a smooth update, checkout the [official documentation](https://jump.dev/MathOptInterface.jl/dev/tutorials/mathprogbase/) as well as examples by [WiSER.jl](https://github.com/OpenMendel/WiSER.jl/blob/master/src/fit.jl) and [OrdinalMultinomialModels.jl](https://github.com/OpenMendel/OrdinalMultinomialModels.jl/blob/master/src/ordmnfit.jl)"
   ]
  },
  {
   "cell_type": "code",
   "execution_count": 23,
   "metadata": {
    "collapsed": false,
    "scrolled": true
   },
   "outputs": [
    {
     "name": "stdout",
     "output_type": "stream",
     "text": [
      "qc_model = Quasi-Copula Variance Component Model\n",
      "  * base distribution: Bernoulli\n",
      "  * link function: LogitLink\n",
      "  * number of clusters: 10000\n",
      "  * cluster size min, max: 5, 5\n",
      "  * number of variance components: 2\n",
      "  * number of fixed effects: 15\n",
      "\n",
      "This is Ipopt version 3.14.14, running with linear solver MUMPS 5.6.2.\n",
      "\n",
      "Starting derivative checker for first derivatives.\n",
      "\n",
      "\n",
      "No errors detected by derivative checker.\n",
      "\n",
      "Number of nonzeros in equality constraint Jacobian...:        0\n",
      "Number of nonzeros in inequality constraint Jacobian.:        0\n",
      "Number of nonzeros in Lagrangian Hessian.............:        0\n",
      "\n",
      "Total number of variables............................:       17\n",
      "                     variables with only lower bounds:        2\n",
      "                variables with lower and upper bounds:        0\n",
      "                     variables with only upper bounds:        0\n",
      "Total number of equality constraints.................:        0\n",
      "Total number of inequality constraints...............:        0\n",
      "        inequality constraints with only lower bounds:        0\n",
      "   inequality constraints with lower and upper bounds:        0\n",
      "        inequality constraints with only upper bounds:        0\n",
      "\n",
      "iter    objective    inf_pr   inf_du lg(mu)  ||d||  lg(rg) alpha_du alpha_pr  ls\n",
      "   0 -2.4652624e+04 0.00e+00 1.01e+02   0.0 0.00e+00    -  0.00e+00 0.00e+00   0\n",
      "   1 -2.4623343e+04 0.00e+00 1.20e+02 -10.4 1.01e+02    -  1.00e+00 1.66e-04f  1\n",
      "   2 -2.4579362e+04 0.00e+00 5.37e+02  -1.6 3.72e-01    -  1.00e+00 2.29e-01f  3\n",
      "   3 -2.4530436e+04 0.00e+00 1.53e+02  -8.0 7.28e-02    -  1.00e+00 1.00e+00f  1\n",
      "   4 -2.4526370e+04 0.00e+00 4.84e+01  -9.3 1.60e-02    -  1.00e+00 1.00e+00f  1\n",
      "   5 -2.4526115e+04 0.00e+00 1.30e+00  -6.0 3.87e-03    -  1.00e+00 1.00e+00f  1\n",
      "   6 -2.4526109e+04 0.00e+00 7.13e-01  -6.7 1.21e-03    -  1.00e+00 1.00e+00f  1\n",
      "   7 -2.4526109e+04 0.00e+00 2.10e-01  -7.9 6.06e-04    -  1.00e+00 9.98e-01f  1\n",
      "   8 -2.4526109e+04 0.00e+00 1.22e-01  -9.7 1.96e-04    -  1.00e+00 9.97e-01f  1\n",
      "   9 -2.4526108e+04 0.00e+00 1.63e-02 -11.0 9.08e-05    -  1.00e+00 1.00e+00f  1\n",
      "iter    objective    inf_pr   inf_du lg(mu)  ||d||  lg(rg) alpha_du alpha_pr  ls\n",
      "  10 -2.4526108e+04 0.00e+00 9.08e-03 -11.0 2.68e-05    -  1.00e+00 5.00e-01f  2\n",
      "  11 -2.4526108e+04 0.00e+00 4.48e-04 -11.0 5.76e-06    -  1.00e+00 1.00e+00f  1\n",
      "\n",
      "Number of Iterations....: 11\n",
      "\n",
      "                                   (scaled)                 (unscaled)\n",
      "Objective...............:   9.2344556489921197e+03   -2.4526108459041407e+04\n",
      "Dual infeasibility......:   4.4777688675939252e-04    1.1892660387958439e-03\n",
      "Constraint violation....:   0.0000000000000000e+00    0.0000000000000000e+00\n",
      "Variable bound violation:   9.9982455026138544e-09    9.9982455026138544e-09\n",
      "Complementarity.........:   1.0000004116908271e-11    2.6559354972799234e-11\n",
      "Overall NLP error.......:   4.4777688675939252e-04    1.1892660387958439e-03\n",
      "\n",
      "\n",
      "Number of objective function evaluations             = 23\n",
      "Number of objective gradient evaluations             = 12\n",
      "Number of equality constraint evaluations            = 0\n",
      "Number of inequality constraint evaluations          = 0\n",
      "Number of equality constraint Jacobian evaluations   = 0\n",
      "Number of inequality constraint Jacobian evaluations = 0\n",
      "Number of Lagrangian Hessian evaluations             = 0\n",
      "Total seconds in IPOPT                               = 0.554\n",
      "\n",
      "EXIT: Optimal Solution Found.\n",
      "  0.598891 seconds (1.68 M allocations: 46.636 MiB)\n"
     ]
    }
   ],
   "source": [
    "using Revise\n",
    "using Ipopt\n",
    "using QuasiCopula\n",
    "using Random\n",
    "using GLM\n",
    "using LinearAlgebra\n",
    "using Statistics\n",
    "using StatsBase\n",
    "using MathOptInterface\n",
    "\n",
    "ENV[\"COLUMNS\"] = 240\n",
    "BLAS.set_num_threads(1)\n",
    "Threads.nthreads()\n",
    "\n",
    "k = 0 # number of causal SNPs\n",
    "\n",
    "qc_model, G, βtrue, θtrue, γtrue, τtrue = simulate_longitudinal_traits(\n",
    "    n = 10000, # sample size\n",
    "    d_min = 5, # min number of observations per sample\n",
    "    d_max = 5, # max number of observations per sample\n",
    "    p = 15, # number of fixed effects, including intercept\n",
    "    m = 2, # number of variance components\n",
    "    q = 1000, # number of SNPs\n",
    "    k = k, # number of causal SNPs\n",
    "    seed = 2024,\n",
    "    y_distribution = Bernoulli,\n",
    "    τtrue = 0.5,\n",
    "    T = Float64,\n",
    "    maf = 0.3,\n",
    "    causal_snp_β = 0.2\n",
    ")\n",
    "\n",
    "@show qc_model;\n",
    "\n",
    "@time optm = QuasiCopula.fit!(qc_model);"
   ]
  },
  {
   "cell_type": "code",
   "execution_count": 24,
   "metadata": {
    "collapsed": false
   },
   "outputs": [
    {
     "name": "stdout",
     "output_type": "stream",
     "text": [
      "βtrue = [1.0, -0.5, 0.5, 0.5, 0.5, -0.5, 0.5, -0.5, 0.5, -0.5, -0.5, -0.5, 0.5, -0.5, -0.5]\n",
      "qc_model.β = [1.0117570318510478, -0.5089169834363244, 0.49576633351557, 0.48814105668564467, 0.5059336670702058, -0.497950756571916, 0.4880296147654393, -0.4960080041746038, 0.4962344136852955, -0.4898931816925872, -0.509985681681852, -0.4832691011406199, 0.4787231797420944, -0.51456972551484, -0.47154951845097376]\n",
      "qc_model.∇β = [-0.0007123036282812856, -6.826599935205735e-5, 0.0001239131191604903, 0.0005152871972469164, 0.00028022120171788956, 3.6481156232726075e-5, 7.566351851695519e-5, 0.0002129179100764933, 0.00044149755171069005, 0.0001915248276890269, -0.0002159099408911569, 0.00034448697090094793, 9.044316783501927e-6, -8.450373955692925e-6, -0.0004037025329033106]\n",
      "θtrue = [0.1, 0.1]\n",
      "qc_model.θ = [0.1107015363240431, -9.998245502613854e-9]\n",
      "qc_model.∇θ = [-0.001189266278714296, -15.137726286741007]\n"
     ]
    }
   ],
   "source": [
    "@show βtrue\n",
    "@show qc_model.β\n",
    "@show qc_model.∇β\n",
    "\n",
    "@show θtrue\n",
    "@show qc_model.θ\n",
    "@show qc_model.∇θ;\n",
    "\n",
    "# @show τtrue\n",
    "# @show qc_model.τ\n",
    "# @show qc_model.∇τ;"
   ]
  },
  {
   "cell_type": "code",
   "execution_count": null,
   "metadata": {
    "collapsed": true
   },
   "outputs": [],
   "source": []
  },
  {
   "cell_type": "code",
   "execution_count": null,
   "metadata": {
    "collapsed": true
   },
   "outputs": [],
   "source": []
  },
  {
   "cell_type": "code",
   "execution_count": null,
   "metadata": {
    "collapsed": true
   },
   "outputs": [],
   "source": []
  },
  {
   "cell_type": "code",
   "execution_count": 2,
   "metadata": {
    "collapsed": false
   },
   "outputs": [
    {
     "ename": "LoadError",
     "evalue": "UndefVarError: `config_solver` not defined",
     "output_type": "error",
     "traceback": [
      "UndefVarError: `config_solver` not defined",
      "",
      "Stacktrace:",
      " [1] top-level scope",
      "   @ In[2]:15"
     ]
    }
   ],
   "source": [
    "import QuasiCopula.config_solver\n",
    "import QuasiCopula.initialize_model!\n",
    "import QuasiCopula.modelpar_to_optimpar!\n",
    "T = Float64\n",
    "const MOI = MathOptInterface\n",
    "solver = Ipopt.Optimizer()\n",
    "solver_config = Dict(\"print_level\"           => 5, \n",
    "                 \"mehrotra_algorithm\"    => \"yes\",\n",
    "                 \"warm_start_init_point\" => \"yes\",\n",
    "                 \"max_iter\"              => 100)\n",
    "solvertype = typeof(solver)\n",
    "\n",
    "\n",
    "\n",
    "\n",
    "    solvertype = typeof(solver)\n",
    "    solvertype <: Ipopt.Optimizer ||\n",
    "        @warn(\"Optimizer object is $solvertype, `solver_config` may need to be defined.\")\n",
    "    config_solver(solver, solver_config)\n",
    "\n",
    "    # set lower bounds and upper bounds of parameters\n",
    "    npar = gcm.p + gcm.m\n",
    "    lb   = fill(-Inf, npar)\n",
    "    ub   = fill(Inf, npar)\n",
    "    offset = gcm.p + 1\n",
    "    for k in 1:gcm.m\n",
    "        lb[offset] = 0\n",
    "        offset += 1\n",
    "    end\n",
    "\n",
    "    # set up NLP optimization problem\n",
    "    MOI.empty!(solver)\n",
    "    NLPBlock = MOI.NLPBlockData(\n",
    "        MOI.NLPBoundsPair.(lb, ub), gcm, true\n",
    "    )\n",
    "    par0 = Vector{T}(undef, npar)\n",
    "    solver_pars = MOI.add_variables(solver, npar)\n",
    "    for i in 1:npar\n",
    "        MOI.set(solver, MOI.VariablePrimalStart(), solver_pars[i], par0[i])\n",
    "    end\n",
    "    MOI.set(solver, MOI.NLPBlock(), NLPBlock)\n",
    "    MOI.set(solver, MOI.ObjectiveSense(), MOI.MIN_SENSE)\n",
    "\n",
    "    # initial condition\n",
    "    QuasiCopula.initialize_model!(gcm)\n",
    "    QuasiCopula.modelpar_to_optimpar!(par0, gcm)\n",
    "    for i in 1:npar\n",
    "        MOI.set(solver, MOI.VariablePrimalStart(), solver_pars[i], par0[i])\n",
    "    end\n",
    "\n",
    "    MOI.optimize!(solver)\n"
   ]
  },
  {
   "cell_type": "code",
   "execution_count": null,
   "metadata": {
    "collapsed": true
   },
   "outputs": [],
   "source": []
  },
  {
   "cell_type": "markdown",
   "metadata": {},
   "source": [
    "## TrajGWAS.jl test"
   ]
  },
  {
   "cell_type": "code",
   "execution_count": null,
   "metadata": {
    "collapsed": true
   },
   "outputs": [],
   "source": [
    "using CSV, DataFrames, WiSER\n",
    "filepath = normpath(joinpath(dirname(pathof(WiSER)), \"../data/\"))\n",
    "df = DataFrame(CSV.File(filepath * \"sbp.csv\"))\n",
    "\n",
    "m = WSVarLmmModel(\n",
    "    @formula(sbp ~ 1 + agegroup + gender + bmi_std + meds), \n",
    "    @formula(sbp ~ 1 + bmi_std), \n",
    "    @formula(sbp ~ 1 + agegroup + meds + bmi_std),\n",
    "    :id, df);\n",
    "\n",
    "solver = Ipopt.Optimizer()\n",
    "\n",
    "\n",
    "    solvertype = typeof(solver)\n",
    "    solvertype <: Ipopt.Optimizer ||\n",
    "        @warn(\"Optimizer object is $solvertype, `solver_config` may need to be defined.\")\n",
    "    # Pass options to solver\n",
    "    WiSER.config_solver(solver, solver_config)\n",
    "    # set up NLP optimization problem\n",
    "    npar = m.l + ◺(m.q)\n",
    "    MOI.empty!(solver)\n",
    "    lb   = T[]\n",
    "    ub   = T[]\n",
    "\n",
    "    NLPBlock = MOI.NLPBlockData(\n",
    "        MOI.NLPBoundsPair.(lb, ub), m, true\n",
    "    )\n",
    "\n",
    "    par0 = Vector{T}(undef, npar)\n",
    "    WiSER.modelpar_to_optimpar!(par0, m)\n",
    "\n",
    "    solver_pars = MOI.add_variables(solver, npar)\n",
    "    for i in 1:npar\n",
    "        MOI.set(solver, MOI.VariablePrimalStart(), solver_pars[i], par0[i])\n",
    "    end\n",
    "\n",
    "    MOI.set(solver, MOI.NLPBlock(), NLPBlock)\n",
    "    MOI.set(solver, MOI.ObjectiveSense(), MOI.MIN_SENSE)\n"
   ]
  }
 ],
 "metadata": {
  "kernelspec": {
   "display_name": "Julia 1.10.2",
   "language": "julia",
   "name": "julia-1.10"
  },
  "language_info": {
   "file_extension": ".jl",
   "mimetype": "application/julia",
   "name": "julia",
   "version": "1.10.2"
  }
 },
 "nbformat": 4,
 "nbformat_minor": 2
}
