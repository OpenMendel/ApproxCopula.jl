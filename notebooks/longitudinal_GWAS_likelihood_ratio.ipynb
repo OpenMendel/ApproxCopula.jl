{
 "cells": [
  {
   "cell_type": "markdown",
   "metadata": {},
   "source": [
    "# Longitudinal QuasiCopula GWAS with Mixed Marginals\n",
    "\n",
    "Here we adopt the variance component model framework\n",
    "\n",
    "$$\\mathbf{\\Gamma}_i(\\mathbf{\\theta}) = \\sum_{k=1}^m \\theta_k\\mathbf{V}_{ik}, \\quad \\theta_k \\ge 0$$"
   ]
  },
  {
   "cell_type": "code",
   "execution_count": 48,
   "metadata": {
    "collapsed": false
   },
   "outputs": [
    {
     "data": {
      "text/plain": [
       "_make_snparray (generic function with 1 method)"
      ]
     },
     "execution_count": 48,
     "metadata": {},
     "output_type": "execute_result"
    }
   ],
   "source": [
    "using Revise\n",
    "using DataFrames, Random, GLM, QuasiCopula\n",
    "using ForwardDiff, Test, LinearAlgebra\n",
    "using LinearAlgebra: BlasReal, copytri!\n",
    "using ToeplitzMatrices\n",
    "using BenchmarkTools\n",
    "using SnpArrays\n",
    "using MendelPlots\n",
    "using ProgressMeter\n",
    "\n",
    "BLAS.set_num_threads(1)\n",
    "Threads.nthreads()\n",
    "\n",
    "function simulate_random_snparray(s::Union{String, UndefInitializer}, n::Int64,\n",
    "    p::Int64; mafs::Vector{Float64}=zeros(Float64, p), min_ma::Int = 5)\n",
    "\n",
    "    #first simulate a random {0, 1, 2} matrix with each SNP drawn from Binomial(2, r[i])\n",
    "    A1 = BitArray(undef, n, p) \n",
    "    A2 = BitArray(undef, n, p) \n",
    "    for j in 1:p\n",
    "        minor_alleles = 0\n",
    "        maf = 0\n",
    "        while minor_alleles <= min_ma\n",
    "            maf = 0.5rand()\n",
    "            for i in 1:n\n",
    "                A1[i, j] = rand(Bernoulli(maf))\n",
    "                A2[i, j] = rand(Bernoulli(maf))\n",
    "            end\n",
    "            minor_alleles = sum(view(A1, :, j)) + sum(view(A2, :, j))\n",
    "        end\n",
    "        mafs[j] = maf\n",
    "    end\n",
    "\n",
    "    #fill the SnpArray with the corresponding x_tmp entry\n",
    "    return _make_snparray(s, A1, A2)\n",
    "end\n",
    "\n",
    "function _make_snparray(s::Union{String, UndefInitializer}, A1::BitArray, A2::BitArray)\n",
    "    n, p = size(A1)\n",
    "    x = SnpArray(s, n, p)\n",
    "    for i in 1:(n*p)\n",
    "        c = A1[i] + A2[i]\n",
    "        if c == 0\n",
    "            x[i] = 0x00\n",
    "        elseif c == 1\n",
    "            x[i] = 0x02\n",
    "        elseif c == 2\n",
    "            x[i] = 0x03\n",
    "        else\n",
    "            throw(MissingException(\"matrix shouldn't have missing values!\"))\n",
    "        end\n",
    "    end\n",
    "    return x\n",
    "end\n"
   ]
  },
  {
   "cell_type": "markdown",
   "metadata": {},
   "source": [
    "## Simulate data"
   ]
  },
  {
   "cell_type": "code",
   "execution_count": 57,
   "metadata": {
    "collapsed": false
   },
   "outputs": [
    {
     "name": "stdout",
     "output_type": "stream",
     "text": [
      "qc_model = Quasi-Copula Variance Component Model\n",
      "  * base distribution: Normal\n",
      "  * link function: IdentityLink\n",
      "  * number of clusters: 5000\n",
      "  * cluster size min, max: 5, 5\n",
      "  * number of variance components: 1\n",
      "  * number of fixed effects: 3\n",
      "\n"
     ]
    }
   ],
   "source": [
    "function simulate_VC_longitudinal(;\n",
    "    n = 1000, # sample size\n",
    "    d = 5, # number of observations per sample\n",
    "    p = 3, # number of nongenetic covariates, including intercept\n",
    "    m = 2, # number of variance components\n",
    "    q = 1000, # number of SNPs\n",
    "    k = 10, # number of causal SNPs\n",
    "    seed = 2022,\n",
    "    y_distribution = Bernoulli,\n",
    "    T = Float64,\n",
    "    )\n",
    "    m == 1 || m == 2 || error(\"m (number of VC) must be 1 or 2\")\n",
    "    \n",
    "    # non-genetic effect sizes\n",
    "    Random.seed!(seed)\n",
    "    βtrue = rand(Uniform(-0.2, 0.2), p)\n",
    "    dist = y_distribution()\n",
    "    link = canonicallink(dist)\n",
    "    Dist = typeof(dist)\n",
    "    Link = typeof(link)\n",
    "\n",
    "    # variance components\n",
    "    θtrue = fill(0.1, m)\n",
    "    V1 = ones(d, d)\n",
    "    V2 = Matrix(I, d, d)\n",
    "    Γ = m == 1 ? θtrue[1] * V1 : θtrue[1] * V1 + θtrue[2] * V2\n",
    "\n",
    "    # simulate design matrices\n",
    "    Random.seed!(seed)\n",
    "    X_full = [hcat(ones(d), randn(d, p - 1)) for i in 1:n]\n",
    "\n",
    "    # simulate random SnpArray with 100 SNPs and randomly choose k SNPs to be causal\n",
    "    Random.seed!(2022)\n",
    "    G = simulate_random_snparray(undef, n, q)\n",
    "    Gfloat = convert(Matrix{T}, G, center=true, scale=false)\n",
    "    γtrue = zeros(q)\n",
    "    γtrue[1:k] .= rand([-0.2, 0.2], k)\n",
    "    shuffle!(γtrue)\n",
    "    η_G = Gfloat * γtrue\n",
    "\n",
    "    # simulate phenotypes\n",
    "    if y_distribution == Normal\n",
    "        τtrue = 10.0\n",
    "        σ2 = inv(τtrue)\n",
    "        σ = sqrt(σ2)\n",
    "        obs = Vector{GaussianCopulaVCObs{T}}(undef, n)\n",
    "        for i in 1:n\n",
    "            X = X_full[i]\n",
    "            η = X * βtrue\n",
    "            η .+= η_G[i] # add genetic effects\n",
    "            μ = GLM.linkinv.(link, η)\n",
    "            vecd = Vector{ContinuousUnivariateDistribution}(undef, d)\n",
    "            for i in 1:d\n",
    "                vecd[i] = y_distribution(μ[i], σ)\n",
    "            end\n",
    "            nonmixed_multivariate_dist = NonMixedMultivariateDistribution(vecd, Γ)\n",
    "            # simuate single vector y\n",
    "            y = Vector{T}(undef, d)\n",
    "            res = Vector{T}(undef, d)\n",
    "            rand(nonmixed_multivariate_dist, y, res)\n",
    "            V = m == 1 ? [V1] : [V1, V2]\n",
    "            obs[i] = GaussianCopulaVCObs(y, X, V)\n",
    "        end\n",
    "        qc_model = GaussianCopulaVCModel(obs)\n",
    "    else\n",
    "        obs = Vector{GLMCopulaVCObs{T, Dist, Link}}(undef, n)\n",
    "        for i in 1:n\n",
    "            X = X_full[i]\n",
    "            η = X * βtrue\n",
    "            η .+= η_G[i] # add genetic effects\n",
    "            μ = GLM.linkinv.(link, η)\n",
    "            vecd = Vector{DiscreteUnivariateDistribution}(undef, d)\n",
    "            for i in 1:d\n",
    "                vecd[i] = y_distribution(μ[i])\n",
    "            end\n",
    "            nonmixed_multivariate_dist = NonMixedMultivariateDistribution(vecd, Γ)\n",
    "            # simuate single vector y\n",
    "            y = Vector{T}(undef, d)\n",
    "            res = Vector{T}(undef, d)\n",
    "            rand(nonmixed_multivariate_dist, y, res)\n",
    "            V = m == 1 ? [V1] : [V1, V2]\n",
    "            obs[i] = GLMCopulaVCObs(y, X, V, dist, link)\n",
    "        end\n",
    "        qc_model = GLMCopulaVCModel(obs)\n",
    "    end\n",
    "    return qc_model, Γ, G, βtrue, θtrue, γtrue\n",
    "end\n",
    "\n",
    "k = 0 # number of causal SNPs\n",
    "\n",
    "qc_model, Γ, G, βtrue, θtrue, γtrue = simulate_VC_longitudinal(\n",
    "    n = 5000, # sample size\n",
    "    d = 5, # number of observations per sample\n",
    "    p = 3, # number of fixed effects, including intercept\n",
    "    m = 1, # number of variance components\n",
    "    q = 1000, # number of SNPs\n",
    "    k = k, # number of causal SNPs\n",
    "    seed = 2022,\n",
    "    y_distribution = Normal,\n",
    "    T = Float64,\n",
    ")\n",
    "\n",
    "@show qc_model;"
   ]
  },
  {
   "cell_type": "markdown",
   "metadata": {},
   "source": [
    "## Poisson likelihood ratio test"
   ]
  },
  {
   "cell_type": "code",
   "execution_count": 51,
   "metadata": {
    "collapsed": false,
    "scrolled": true
   },
   "outputs": [
    {
     "name": "stdout",
     "output_type": "stream",
     "text": [
      "  0.350770 seconds (1.10 M allocations: 20.356 MiB, 4.77% gc time)\n"
     ]
    },
    {
     "name": "stderr",
     "output_type": "stream",
     "text": [
      "\u001b[32mProgress: 100%|█████████████████████████████████████████| Time: 0:05:46\u001b[39m\n"
     ]
    },
    {
     "data": {
      "text/plain": [
       "1000-element Vector{Float64}:\n",
       " 0.49321619292430774\n",
       " 0.3023829329383551\n",
       " 0.9002604016679233\n",
       " 0.37483659822373544\n",
       " 0.8328691061310007\n",
       " 0.622597641170532\n",
       " 0.15599637764643667\n",
       " 0.7220570867061658\n",
       " 0.09532183608636428\n",
       " 0.9728847243538723\n",
       " 0.8262990350507694\n",
       " 0.24630472412148266\n",
       " 0.7063912630574284\n",
       " ⋮\n",
       " 0.8392120689815238\n",
       " 0.6126589288392644\n",
       " 0.5233336944926922\n",
       " 0.9872212640345841\n",
       " 0.3222781580567028\n",
       " 0.9757399999431181\n",
       " 0.10560532782850664\n",
       " 0.7412217289983204\n",
       " 0.7975741372137227\n",
       " 0.09669584984826626\n",
       " 0.2947647024561551\n",
       " 0.36046360484435724"
      ]
     },
     "execution_count": 51,
     "metadata": {},
     "output_type": "execute_result"
    }
   ],
   "source": [
    "function likelihood_ratio_test(qc_model::Union{GLMCopulaVCModel, NBCopulaVCModel}, G::SnpArray)\n",
    "    n, p = size(G)\n",
    "    #\n",
    "    # Fit null model\n",
    "    #\n",
    "    @time optm = QuasiCopula.fit!(qc_model,\n",
    "        Ipopt.IpoptSolver(\n",
    "            print_level = 0, \n",
    "            tol = 10^-6, \n",
    "            max_iter = 1000,\n",
    "            accept_after_max_steps = 4,\n",
    "            warm_start_init_point=\"yes\", \n",
    "            limited_memory_max_history = 6, # default value\n",
    "            hessian_approximation = \"limited-memory\",\n",
    "        ));\n",
    "    H0_logl = loglikelihood!(qc_model, false, false)\n",
    "    #\n",
    "    # Fit alt models\n",
    "    #\n",
    "    d = size(qc_model.data[1].X, 1)\n",
    "    obs_alt = Vector{eltype(qc_model.data)}(undef, n)\n",
    "    pvals = zeros(p)\n",
    "    @showprogress for j in 1:p\n",
    "        empty!(obs_alt)\n",
    "        for (i, gc) in enumerate(qc_model.data)\n",
    "            snp = [convert(Float64, G[i, j]) for _ in 1:d]\n",
    "            push!(obs_alt, GLMCopulaVCObs(gc.y, [gc.X snp], gc.V, Poisson(), LogLink()))\n",
    "        end\n",
    "        qc_model_alt = GLMCopulaVCModel(obs_alt)\n",
    "        QuasiCopula.fit!(qc_model_alt,\n",
    "            Ipopt.IpoptSolver(\n",
    "                print_level = 0, \n",
    "                tol = 10^-6, \n",
    "                max_iter = 1000,\n",
    "                accept_after_max_steps = 4,\n",
    "                warm_start_init_point=\"yes\", \n",
    "                limited_memory_max_history = 6, # default value\n",
    "                hessian_approximation = \"limited-memory\",\n",
    "            ))\n",
    "        ts = -2 * (H0_logl - loglikelihood!(qc_model_alt, false, false))\n",
    "        pvals[j] = ccdf(Chisq(1), ts)\n",
    "    end\n",
    "    return pvals\n",
    "end\n",
    "pvals = likelihood_ratio_test(qc_model, G)"
   ]
  },
  {
   "cell_type": "code",
   "execution_count": 53,
   "metadata": {
    "collapsed": false
   },
   "outputs": [
    {
     "data": {
      "image/png": "[encoded data removed]"
     },
     "metadata": {},
     "output_type": "display_data"
    }
   ],
   "source": [
    "qq(pvals, dpi=100, titles=\"Poisson, $k causal SNPs, 3 Hessian terms\")\n",
    "display(\"image/png\", read(\"qqplot.png\"))"
   ]
  },
  {
   "cell_type": "markdown",
   "metadata": {},
   "source": [
    "## Bernoulli likelihood ratio test"
   ]
  },
  {
   "cell_type": "code",
   "execution_count": 55,
   "metadata": {
    "collapsed": false
   },
   "outputs": [
    {
     "name": "stdout",
     "output_type": "stream",
     "text": [
      "  1.628795 seconds (3.85 M allocations: 169.796 MiB, 2.10% gc time, 83.37% compilation time)\n"
     ]
    },
    {
     "name": "stderr",
     "output_type": "stream",
     "text": [
      "\u001b[32mProgress: 100%|█████████████████████████████████████████| Time: 0:05:36\u001b[39m\n"
     ]
    },
    {
     "data": {
      "text/plain": [
       "1000-element Vector{Float64}:\n",
       " 0.3476048965038256\n",
       " 0.8231499499756256\n",
       " 0.6993385670661735\n",
       " 0.33646580699633044\n",
       " 0.2734073726630978\n",
       " 0.41914634604373824\n",
       " 0.006001244861711848\n",
       " 0.8628276206657192\n",
       " 0.5013758598066755\n",
       " 0.03026262276253031\n",
       " 0.6736667591082424\n",
       " 0.24805529193722822\n",
       " 0.14603204805907707\n",
       " ⋮\n",
       " 0.7058484520137138\n",
       " 0.06997390205493387\n",
       " 0.12978824332494368\n",
       " 0.7624419841070371\n",
       " 0.09767734563617966\n",
       " 0.907829967872618\n",
       " 0.22133448651438603\n",
       " 0.21260674493138104\n",
       " 0.5914656829310413\n",
       " 0.9709398707907984\n",
       " 0.33508824033912193\n",
       " 0.0425563490860776"
      ]
     },
     "execution_count": 55,
     "metadata": {},
     "output_type": "execute_result"
    }
   ],
   "source": [
    "function likelihood_ratio_test(qc_model::Union{GLMCopulaVCModel, NBCopulaVCModel}, G::SnpArray)\n",
    "    n, p = size(G)\n",
    "    #\n",
    "    # Fit null model\n",
    "    #\n",
    "    @time optm = QuasiCopula.fit!(qc_model,\n",
    "        Ipopt.IpoptSolver(\n",
    "            print_level = 0, \n",
    "            tol = 10^-6, \n",
    "            max_iter = 1000,\n",
    "            accept_after_max_steps = 4,\n",
    "            warm_start_init_point=\"yes\", \n",
    "            limited_memory_max_history = 6, # default value\n",
    "            hessian_approximation = \"limited-memory\",\n",
    "        ));\n",
    "    H0_logl = loglikelihood!(qc_model, false, false)\n",
    "    #\n",
    "    # Fit alt models\n",
    "    #\n",
    "    d = size(qc_model.data[1].X, 1)\n",
    "    obs_alt = Vector{eltype(qc_model.data)}(undef, n)\n",
    "    pvals = zeros(p)\n",
    "    @showprogress for j in 1:p\n",
    "        empty!(obs_alt)\n",
    "        for (i, gc) in enumerate(qc_model.data)\n",
    "            snp = [convert(Float64, G[i, j]) for _ in 1:d]\n",
    "            push!(obs_alt, GLMCopulaVCObs(gc.y, [gc.X snp], gc.V, Bernoulli(), LogitLink()))\n",
    "        end\n",
    "        qc_model_alt = GLMCopulaVCModel(obs_alt)\n",
    "        QuasiCopula.fit!(qc_model_alt,\n",
    "            Ipopt.IpoptSolver(\n",
    "                print_level = 0, \n",
    "                tol = 10^-6, \n",
    "                max_iter = 1000,\n",
    "                accept_after_max_steps = 4,\n",
    "                warm_start_init_point=\"yes\", \n",
    "                limited_memory_max_history = 6, # default value\n",
    "                hessian_approximation = \"limited-memory\",\n",
    "            ))\n",
    "        ts = -2 * (H0_logl - loglikelihood!(qc_model_alt, false, false))\n",
    "        pvals[j] = ccdf(Chisq(1), ts)\n",
    "    end\n",
    "    return pvals\n",
    "end\n",
    "pvals = likelihood_ratio_test(qc_model, G)"
   ]
  },
  {
   "cell_type": "code",
   "execution_count": 56,
   "metadata": {
    "collapsed": false
   },
   "outputs": [
    {
     "data": {
      "image/png": "[encoded data removed]"
     },
     "metadata": {},
     "output_type": "display_data"
    }
   ],
   "source": [
    "qq(pvals, dpi=100, titles=\"Bernoulli, $k causal SNPs, 3 Hessian terms\")\n",
    "display(\"image/png\", read(\"qqplot.png\"))"
   ]
  },
  {
   "cell_type": "markdown",
   "metadata": {},
   "source": [
    "## Normal likelihood ratio test"
   ]
  },
  {
   "cell_type": "code",
   "execution_count": 61,
   "metadata": {
    "collapsed": false
   },
   "outputs": [
    {
     "name": "stdout",
     "output_type": "stream",
     "text": [
      "  1.077294 seconds (8.25 M allocations: 220.404 MiB)\n"
     ]
    },
    {
     "name": "stderr",
     "output_type": "stream",
     "text": [
      "\u001b[32mProgress:   1%|▍                                        |  ETA: 1:04:23\u001b[39m┌ Warning: Optimization unsuccesful; got UserLimit\n",
      "└ @ QuasiCopula /Users/biona001/.julia/dev/QuasiCopula/src/parameter_estimation/fit_gaussian_vc.jl:36\n",
      "\u001b[32mProgress:   1%|▋                                        |  ETA: 1:42:30\u001b[39m┌ Warning: Optimization unsuccesful; got UserLimit\n",
      "└ @ QuasiCopula /Users/biona001/.julia/dev/QuasiCopula/src/parameter_estimation/fit_gaussian_vc.jl:36\n",
      "\u001b[32mProgress:   2%|▊                                        |  ETA: 2:02:28\u001b[39m┌ Warning: Optimization unsuccesful; got UserLimit\n",
      "└ @ QuasiCopula /Users/biona001/.julia/dev/QuasiCopula/src/parameter_estimation/fit_gaussian_vc.jl:36\n",
      "\u001b[32mProgress:   3%|█▎                                       |  ETA: 2:06:36\u001b[39m┌ Warning: Optimization unsuccesful; got UserLimit\n",
      "└ @ QuasiCopula /Users/biona001/.julia/dev/QuasiCopula/src/parameter_estimation/fit_gaussian_vc.jl:36\n",
      "\u001b[32mProgress:   3%|█▎                                       |  ETA: 2:12:48\u001b[39m┌ Warning: Optimization unsuccesful; got UserLimit\n",
      "└ @ QuasiCopula /Users/biona001/.julia/dev/QuasiCopula/src/parameter_estimation/fit_gaussian_vc.jl:36\n",
      "\u001b[32mProgress:   3%|█▍                                       |  ETA: 2:09:51\u001b[39m┌ Warning: Optimization unsuccesful; got UserLimit\n",
      "└ @ QuasiCopula /Users/biona001/.julia/dev/QuasiCopula/src/parameter_estimation/fit_gaussian_vc.jl:36\n",
      "\u001b[32mProgress:   4%|█▊                                       |  ETA: 2:11:54\u001b[39m┌ Warning: Optimization unsuccesful; got UserLimit\n",
      "└ @ QuasiCopula /Users/biona001/.julia/dev/QuasiCopula/src/parameter_estimation/fit_gaussian_vc.jl:36\n",
      "\u001b[32mProgress:   4%|█▊                                       |  ETA: 2:15:34\u001b[39m┌ Warning: Optimization unsuccesful; got UserLimit\n",
      "└ @ QuasiCopula /Users/biona001/.julia/dev/QuasiCopula/src/parameter_estimation/fit_gaussian_vc.jl:36\n",
      "\u001b[32mProgress:   5%|█▉                                       |  ETA: 2:14:10\u001b[39m┌ Warning: Optimization unsuccesful; got UserLimit\n",
      "└ @ QuasiCopula /Users/biona001/.julia/dev/QuasiCopula/src/parameter_estimation/fit_gaussian_vc.jl:36\n",
      "\u001b[32mProgress:   6%|██▍                                      |  ETA: 2:09:43\u001b[39m┌ Warning: Optimization unsuccesful; got UserLimit\n",
      "└ @ QuasiCopula /Users/biona001/.julia/dev/QuasiCopula/src/parameter_estimation/fit_gaussian_vc.jl:36\n",
      "\u001b[32mProgress:   6%|██▌                                      |  ETA: 2:13:24\u001b[39m┌ Warning: Optimization unsuccesful; got UserLimit\n",
      "└ @ QuasiCopula /Users/biona001/.julia/dev/QuasiCopula/src/parameter_estimation/fit_gaussian_vc.jl:36\n",
      "\u001b[32mProgress:   6%|██▋                                      |  ETA: 2:09:32\u001b[39m┌ Warning: Optimization unsuccesful; got UserLimit\n",
      "└ @ QuasiCopula /Users/biona001/.julia/dev/QuasiCopula/src/parameter_estimation/fit_gaussian_vc.jl:36\n",
      "\u001b[32mProgress:   7%|██▉                                      |  ETA: 2:08:34\u001b[39m┌ Warning: Optimization unsuccesful; got UserLimit\n",
      "└ @ QuasiCopula /Users/biona001/.julia/dev/QuasiCopula/src/parameter_estimation/fit_gaussian_vc.jl:36\n",
      "\u001b[32mProgress:   8%|███▏                                     |  ETA: 2:07:56\u001b[39m┌ Warning: Optimization unsuccesful; got UserLimit\n",
      "└ @ QuasiCopula /Users/biona001/.julia/dev/QuasiCopula/src/parameter_estimation/fit_gaussian_vc.jl:36\n",
      "\u001b[32mProgress:   8%|███▎                                     |  ETA: 2:07:53\u001b[39m┌ Warning: Optimization unsuccesful; got UserLimit\n",
      "└ @ QuasiCopula /Users/biona001/.julia/dev/QuasiCopula/src/parameter_estimation/fit_gaussian_vc.jl:36\n",
      "\u001b[32mProgress:   8%|███▍                                     |  ETA: 2:09:28\u001b[39m┌ Warning: Optimization unsuccesful; got UserLimit\n",
      "└ @ QuasiCopula /Users/biona001/.julia/dev/QuasiCopula/src/parameter_estimation/fit_gaussian_vc.jl:36\n",
      "\u001b[32mProgress:   9%|███▊                                     |  ETA: 2:07:04\u001b[39m┌ Warning: Optimization unsuccesful; got UserLimit\n",
      "└ @ QuasiCopula /Users/biona001/.julia/dev/QuasiCopula/src/parameter_estimation/fit_gaussian_vc.jl:36\n",
      "\u001b[32mProgress:   9%|███▉                                     |  ETA: 2:07:09\u001b[39m┌ Warning: Optimization unsuccesful; got UserLimit\n",
      "└ @ QuasiCopula /Users/biona001/.julia/dev/QuasiCopula/src/parameter_estimation/fit_gaussian_vc.jl:36\n",
      "\u001b[32mProgress:   9%|███▉                                     |  ETA: 2:07:01\u001b[39m┌ Warning: Optimization unsuccesful; got UserLimit\n",
      "└ @ QuasiCopula /Users/biona001/.julia/dev/QuasiCopula/src/parameter_estimation/fit_gaussian_vc.jl:36\n",
      "\u001b[32mProgress:  11%|████▌                                    |  ETA: 2:01:56\u001b[39m┌ Warning: Optimization unsuccesful; got UserLimit\n",
      "└ @ QuasiCopula /Users/biona001/.julia/dev/QuasiCopula/src/parameter_estimation/fit_gaussian_vc.jl:36\n",
      "\u001b[32mProgress:  11%|████▌                                    |  ETA: 2:03:14\u001b[39m┌ Warning: Optimization unsuccesful; got UserLimit\n",
      "└ @ QuasiCopula /Users/biona001/.julia/dev/QuasiCopula/src/parameter_estimation/fit_gaussian_vc.jl:36\n",
      "\u001b[32mProgress:  11%|████▋                                    |  ETA: 2:03:11\u001b[39m┌ Warning: Optimization unsuccesful; got UserLimit\n",
      "└ @ QuasiCopula /Users/biona001/.julia/dev/QuasiCopula/src/parameter_estimation/fit_gaussian_vc.jl:36\n",
      "\u001b[32mProgress:  11%|████▋                                    |  ETA: 2:04:23\u001b[39m┌ Warning: Optimization unsuccesful; got UserLimit\n",
      "└ @ QuasiCopula /Users/biona001/.julia/dev/QuasiCopula/src/parameter_estimation/fit_gaussian_vc.jl:36\n",
      "\u001b[32mProgress:  12%|████▉                                    |  ETA: 2:03:33\u001b[39m┌ Warning: Optimization unsuccesful; got UserLimit\n",
      "└ @ QuasiCopula /Users/biona001/.julia/dev/QuasiCopula/src/parameter_estimation/fit_gaussian_vc.jl:36\n",
      "\u001b[32mProgress:  12%|████▉                                    |  ETA: 2:04:42\u001b[39m┌ Warning: Optimization unsuccesful; got UserLimit\n",
      "└ @ QuasiCopula /Users/biona001/.julia/dev/QuasiCopula/src/parameter_estimation/fit_gaussian_vc.jl:36\n",
      "\u001b[32mProgress:  13%|█████▏                                   |  ETA: 2:05:19\u001b[39m┌ Warning: Optimization unsuccesful; got UserLimit\n",
      "└ @ QuasiCopula /Users/biona001/.julia/dev/QuasiCopula/src/parameter_estimation/fit_gaussian_vc.jl:36\n",
      "\u001b[32mProgress:  13%|█████▎                                   |  ETA: 2:05:42\u001b[39m┌ Warning: Optimization unsuccesful; got UserLimit\n",
      "└ @ QuasiCopula /Users/biona001/.julia/dev/QuasiCopula/src/parameter_estimation/fit_gaussian_vc.jl:36\n",
      "\u001b[32mProgress:  14%|█████▌                                   |  ETA: 2:04:39\u001b[39m┌ Warning: Optimization unsuccesful; got UserLimit\n",
      "└ @ QuasiCopula /Users/biona001/.julia/dev/QuasiCopula/src/parameter_estimation/fit_gaussian_vc.jl:36\n",
      "\u001b[32mProgress:  14%|█████▊                                   |  ETA: 2:04:37\u001b[39m┌ Warning: Optimization unsuccesful; got UserLimit\n",
      "└ @ QuasiCopula /Users/biona001/.julia/dev/QuasiCopula/src/parameter_estimation/fit_gaussian_vc.jl:36\n",
      "\u001b[32mProgress:  14%|█████▊                                   |  ETA: 2:05:21\u001b[39m┌ Warning: Optimization unsuccesful; got UserLimit\n",
      "└ @ QuasiCopula /Users/biona001/.julia/dev/QuasiCopula/src/parameter_estimation/fit_gaussian_vc.jl:36\n",
      "\u001b[32mProgress:  14%|█████▉                                   |  ETA: 2:05:10\u001b[39m┌ Warning: Optimization unsuccesful; got UserLimit\n",
      "└ @ QuasiCopula /Users/biona001/.julia/dev/QuasiCopula/src/parameter_estimation/fit_gaussian_vc.jl:36\n",
      "\u001b[32mProgress:  17%|███████▏                                 |  ETA: 1:57:39\u001b[39m┌ Warning: Optimization unsuccesful; got UserLimit\n",
      "└ @ QuasiCopula /Users/biona001/.julia/dev/QuasiCopula/src/parameter_estimation/fit_gaussian_vc.jl:36\n",
      "\u001b[32mProgress:  18%|███████▎                                 |  ETA: 1:56:08\u001b[39m┌ Warning: Optimization unsuccesful; got UserLimit\n",
      "└ @ QuasiCopula /Users/biona001/.julia/dev/QuasiCopula/src/parameter_estimation/fit_gaussian_vc.jl:36\n",
      "\u001b[32mProgress:  19%|███████▊                                 |  ETA: 1:53:31\u001b[39m┌ Warning: Optimization unsuccesful; got UserLimit\n",
      "└ @ QuasiCopula /Users/biona001/.julia/dev/QuasiCopula/src/parameter_estimation/fit_gaussian_vc.jl:36\n",
      "\u001b[32mProgress:  20%|████████▎                                |  ETA: 1:50:44\u001b[39m┌ Warning: Optimization unsuccesful; got UserLimit\n",
      "└ @ QuasiCopula /Users/biona001/.julia/dev/QuasiCopula/src/parameter_estimation/fit_gaussian_vc.jl:36\n",
      "\u001b[32mProgress:  20%|████████▍                                |  ETA: 1:51:26\u001b[39m┌ Warning: Optimization unsuccesful; got UserLimit\n",
      "└ @ QuasiCopula /Users/biona001/.julia/dev/QuasiCopula/src/parameter_estimation/fit_gaussian_vc.jl:36\n",
      "\u001b[32mProgress:  21%|████████▌                                |  ETA: 1:52:00\u001b[39m┌ Warning: Optimization unsuccesful; got UserLimit\n",
      "└ @ QuasiCopula /Users/biona001/.julia/dev/QuasiCopula/src/parameter_estimation/fit_gaussian_vc.jl:36\n",
      "\u001b[32mProgress:  21%|████████▊                                |  ETA: 1:51:54\u001b[39m┌ Warning: Optimization unsuccesful; got UserLimit\n",
      "└ @ QuasiCopula /Users/biona001/.julia/dev/QuasiCopula/src/parameter_estimation/fit_gaussian_vc.jl:36\n",
      "\u001b[32mProgress:  22%|████████▉                                |  ETA: 1:52:28\u001b[39m┌ Warning: Optimization unsuccesful; got UserLimit\n",
      "└ @ QuasiCopula /Users/biona001/.julia/dev/QuasiCopula/src/parameter_estimation/fit_gaussian_vc.jl:36\n",
      "\u001b[32mProgress:  22%|█████████                                |  ETA: 1:52:28\u001b[39m┌ Warning: Optimization unsuccesful; got UserLimit\n",
      "└ @ QuasiCopula /Users/biona001/.julia/dev/QuasiCopula/src/parameter_estimation/fit_gaussian_vc.jl:36\n",
      "\u001b[32mProgress:  22%|█████████                                |  ETA: 1:53:02\u001b[39m"
     ]
    },
    {
     "ename": "LoadError",
     "evalue": "TaskFailedException\n\n\u001b[91m    nested task error: \u001b[39mDomainError with -1.086855456321266:\n    log will only return a complex result if called with a complex argument. Try log(Complex(x)).\n    Stacktrace:\n     [1] \u001b[0m\u001b[1mthrow_complex_domainerror\u001b[22m\u001b[0m\u001b[1m(\u001b[22m\u001b[90mf\u001b[39m::\u001b[0mSymbol, \u001b[90mx\u001b[39m::\u001b[0mFloat64\u001b[0m\u001b[1m)\u001b[22m\n    \u001b[90m   @ \u001b[39m\u001b[90mBase.Math\u001b[39m \u001b[90m./\u001b[39m\u001b[90m\u001b[4mmath.jl:33\u001b[24m\u001b[39m\n     [2] \u001b[0m\u001b[1m_log\u001b[22m\u001b[0m\u001b[1m(\u001b[22m\u001b[90mx\u001b[39m::\u001b[0mFloat64, \u001b[90mbase\u001b[39m::\u001b[0mVal\u001b[90m{:ℯ}\u001b[39m, \u001b[90mfunc\u001b[39m::\u001b[0mSymbol\u001b[0m\u001b[1m)\u001b[22m\n    \u001b[90m   @ \u001b[39m\u001b[90mBase.Math\u001b[39m \u001b[90m./special/\u001b[39m\u001b[90m\u001b[4mlog.jl:304\u001b[24m\u001b[39m\n     [3] \u001b[0m\u001b[1mlog\u001b[22m\n    \u001b[90m   @ \u001b[39m\u001b[90m./special/\u001b[39m\u001b[90m\u001b[4mlog.jl:269\u001b[24m\u001b[39m\u001b[90m [inlined]\u001b[39m\n     [4] \u001b[0m\u001b[1mloglikelihood!\u001b[22m\u001b[0m\u001b[1m(\u001b[22m\u001b[90mgc\u001b[39m::\u001b[0mGaussianCopulaVCObs\u001b[90m{Float64}\u001b[39m, \u001b[90mβ\u001b[39m::\u001b[0mVector\u001b[90m{Float64}\u001b[39m, \u001b[90mτ\u001b[39m::\u001b[0mFloat64, \u001b[90mθ\u001b[39m::\u001b[0mVector\u001b[90m{Float64}\u001b[39m, \u001b[90mneedgrad\u001b[39m::\u001b[0mBool, \u001b[90mneedhess\u001b[39m::\u001b[0mBool; \u001b[90mpenalized\u001b[39m::\u001b[0mBool\u001b[0m\u001b[1m)\u001b[22m\n    \u001b[90m   @ \u001b[39m\u001b[35mQuasiCopula\u001b[39m \u001b[90m~/.julia/dev/QuasiCopula/src/parameter_estimation/\u001b[39m\u001b[90m\u001b[4mgaussian_VC.jl:189\u001b[24m\u001b[39m\n     [5] \u001b[0m\u001b[1mmacro expansion\u001b[22m\n    \u001b[90m   @ \u001b[39m\u001b[90m~/.julia/dev/QuasiCopula/src/parameter_estimation/\u001b[39m\u001b[90m\u001b[4mgaussian_VC.jl:241\u001b[24m\u001b[39m\u001b[90m [inlined]\u001b[39m\n     [6] \u001b[0m\u001b[1m(::QuasiCopula.var\"#134#threadsfor_fun#22\"{GaussianCopulaVCModel{Float64}, Bool, Bool, Base.OneTo{Int64}})\u001b[22m\u001b[0m\u001b[1m(\u001b[22m\u001b[90monethread\u001b[39m::\u001b[0mBool\u001b[0m\u001b[1m)\u001b[22m\n    \u001b[90m   @ \u001b[39m\u001b[35mQuasiCopula\u001b[39m \u001b[90m./\u001b[39m\u001b[90m\u001b[4mthreadingconstructs.jl:85\u001b[24m\u001b[39m\n     [7] \u001b[0m\u001b[1m(::QuasiCopula.var\"#134#threadsfor_fun#22\"{GaussianCopulaVCModel{Float64}, Bool, Bool, Base.OneTo{Int64}})\u001b[22m\u001b[0m\u001b[1m(\u001b[22m\u001b[0m\u001b[1m)\u001b[22m\n    \u001b[90m   @ \u001b[39m\u001b[35mQuasiCopula\u001b[39m \u001b[90m./\u001b[39m\u001b[90m\u001b[4mthreadingconstructs.jl:52\u001b[24m\u001b[39m",
     "output_type": "error",
     "traceback": [
      "TaskFailedException\n\n\u001b[91m    nested task error: \u001b[39mDomainError with -1.086855456321266:\n    log will only return a complex result if called with a complex argument. Try log(Complex(x)).\n    Stacktrace:\n     [1] \u001b[0m\u001b[1mthrow_complex_domainerror\u001b[22m\u001b[0m\u001b[1m(\u001b[22m\u001b[90mf\u001b[39m::\u001b[0mSymbol, \u001b[90mx\u001b[39m::\u001b[0mFloat64\u001b[0m\u001b[1m)\u001b[22m\n    \u001b[90m   @ \u001b[39m\u001b[90mBase.Math\u001b[39m \u001b[90m./\u001b[39m\u001b[90m\u001b[4mmath.jl:33\u001b[24m\u001b[39m\n     [2] \u001b[0m\u001b[1m_log\u001b[22m\u001b[0m\u001b[1m(\u001b[22m\u001b[90mx\u001b[39m::\u001b[0mFloat64, \u001b[90mbase\u001b[39m::\u001b[0mVal\u001b[90m{:ℯ}\u001b[39m, \u001b[90mfunc\u001b[39m::\u001b[0mSymbol\u001b[0m\u001b[1m)\u001b[22m\n    \u001b[90m   @ \u001b[39m\u001b[90mBase.Math\u001b[39m \u001b[90m./special/\u001b[39m\u001b[90m\u001b[4mlog.jl:304\u001b[24m\u001b[39m\n     [3] \u001b[0m\u001b[1mlog\u001b[22m\n    \u001b[90m   @ \u001b[39m\u001b[90m./special/\u001b[39m\u001b[90m\u001b[4mlog.jl:269\u001b[24m\u001b[39m\u001b[90m [inlined]\u001b[39m\n     [4] \u001b[0m\u001b[1mloglikelihood!\u001b[22m\u001b[0m\u001b[1m(\u001b[22m\u001b[90mgc\u001b[39m::\u001b[0mGaussianCopulaVCObs\u001b[90m{Float64}\u001b[39m, \u001b[90mβ\u001b[39m::\u001b[0mVector\u001b[90m{Float64}\u001b[39m, \u001b[90mτ\u001b[39m::\u001b[0mFloat64, \u001b[90mθ\u001b[39m::\u001b[0mVector\u001b[90m{Float64}\u001b[39m, \u001b[90mneedgrad\u001b[39m::\u001b[0mBool, \u001b[90mneedhess\u001b[39m::\u001b[0mBool; \u001b[90mpenalized\u001b[39m::\u001b[0mBool\u001b[0m\u001b[1m)\u001b[22m\n    \u001b[90m   @ \u001b[39m\u001b[35mQuasiCopula\u001b[39m \u001b[90m~/.julia/dev/QuasiCopula/src/parameter_estimation/\u001b[39m\u001b[90m\u001b[4mgaussian_VC.jl:189\u001b[24m\u001b[39m\n     [5] \u001b[0m\u001b[1mmacro expansion\u001b[22m\n    \u001b[90m   @ \u001b[39m\u001b[90m~/.julia/dev/QuasiCopula/src/parameter_estimation/\u001b[39m\u001b[90m\u001b[4mgaussian_VC.jl:241\u001b[24m\u001b[39m\u001b[90m [inlined]\u001b[39m\n     [6] \u001b[0m\u001b[1m(::QuasiCopula.var\"#134#threadsfor_fun#22\"{GaussianCopulaVCModel{Float64}, Bool, Bool, Base.OneTo{Int64}})\u001b[22m\u001b[0m\u001b[1m(\u001b[22m\u001b[90monethread\u001b[39m::\u001b[0mBool\u001b[0m\u001b[1m)\u001b[22m\n    \u001b[90m   @ \u001b[39m\u001b[35mQuasiCopula\u001b[39m \u001b[90m./\u001b[39m\u001b[90m\u001b[4mthreadingconstructs.jl:85\u001b[24m\u001b[39m\n     [7] \u001b[0m\u001b[1m(::QuasiCopula.var\"#134#threadsfor_fun#22\"{GaussianCopulaVCModel{Float64}, Bool, Bool, Base.OneTo{Int64}})\u001b[22m\u001b[0m\u001b[1m(\u001b[22m\u001b[0m\u001b[1m)\u001b[22m\n    \u001b[90m   @ \u001b[39m\u001b[35mQuasiCopula\u001b[39m \u001b[90m./\u001b[39m\u001b[90m\u001b[4mthreadingconstructs.jl:52\u001b[24m\u001b[39m",
      "",
      "Stacktrace:",
      "  [1] wait",
      "    @ ./task.jl:334 [inlined]",
      "  [2] threading_run(func::Function)",
      "    @ Base.Threads ./threadingconstructs.jl:38",
      "  [3] macro expansion",
      "    @ ./threadingconstructs.jl:97 [inlined]",
      "  [4] loglikelihood!(gcm::GaussianCopulaVCModel{Float64}, needgrad::Bool, needhess::Bool)",
      "    @ QuasiCopula ~/.julia/dev/QuasiCopula/src/parameter_estimation/gaussian_VC.jl:240",
      "  [5] eval_f(gcm::GaussianCopulaVCModel{Float64}, par::Vector{Float64})",
      "    @ QuasiCopula ~/.julia/dev/QuasiCopula/src/parameter_estimation/fit_gaussian_vc.jl:101",
      "  [6] (::Ipopt.var\"#eval_f_cb#4\"{GaussianCopulaVCModel{Float64}, Float64})(x::Vector{Float64})",
      "    @ Ipopt ~/.julia/packages/Ipopt/QF8Lc/src/MPB_wrapper.jl:74",
      "  [7] eval_f_wrapper(n::Int32, x_ptr::Ptr{Float64}, new_x::Int32, obj_ptr::Ptr{Float64}, user_data::Ptr{Nothing})",
      "    @ Ipopt ~/.julia/packages/Ipopt/QF8Lc/src/Ipopt.jl:133",
      "  [8] solveProblem(prob::IpoptProblem)",
      "    @ Ipopt ~/.julia/packages/Ipopt/QF8Lc/src/Ipopt.jl:532",
      "  [9] optimize!(m::Ipopt.IpoptMathProgModel)",
      "    @ Ipopt ~/.julia/packages/Ipopt/QF8Lc/src/MPB_wrapper.jl:159",
      " [10] fit!(gcm::GaussianCopulaVCModel{Float64}, solver::IpoptSolver)",
      "    @ QuasiCopula ~/.julia/dev/QuasiCopula/src/parameter_estimation/fit_gaussian_vc.jl:34",
      " [11] macro expansion",
      "    @ ./In[61]:30 [inlined]",
      " [12] macro expansion",
      "    @ ~/.julia/packages/ProgressMeter/sN2xr/src/ProgressMeter.jl:938 [inlined]",
      " [13] likelihood_ratio_test(qc_model::GaussianCopulaVCModel{Float64}, G::SnpArray)",
      "    @ Main ./In[61]:23",
      " [14] top-level scope",
      "    @ In[61]:45",
      " [15] eval",
      "    @ ./boot.jl:373 [inlined]",
      " [16] include_string(mapexpr::typeof(REPL.softscope), mod::Module, code::String, filename::String)",
      "    @ Base ./loading.jl:1196"
     ]
    }
   ],
   "source": [
    "function likelihood_ratio_test(qc_model::GaussianCopulaVCModel, G::SnpArray)\n",
    "    n, p = size(G)\n",
    "    #\n",
    "    # Fit null model\n",
    "    #\n",
    "    @time optm = QuasiCopula.fit!(qc_model,\n",
    "        Ipopt.IpoptSolver(\n",
    "            print_level = 0, \n",
    "            tol = 10^-6, \n",
    "            max_iter = 1000,\n",
    "            accept_after_max_steps = 4,\n",
    "            warm_start_init_point=\"yes\", \n",
    "            limited_memory_max_history = 6, # default value\n",
    "            hessian_approximation = \"limited-memory\",\n",
    "        ));\n",
    "    H0_logl = loglikelihood!(qc_model, false, false)\n",
    "    #\n",
    "    # Fit alt models\n",
    "    #\n",
    "    d = size(qc_model.data[1].X, 1)\n",
    "    obs_alt = Vector{eltype(qc_model.data)}(undef, n)\n",
    "    pvals = zeros(p)\n",
    "    @showprogress for j in 1:p\n",
    "        empty!(obs_alt)\n",
    "        for (i, gc) in enumerate(qc_model.data)\n",
    "            snp = [convert(Float64, G[i, j]) for _ in 1:d]\n",
    "            push!(obs_alt, GaussianCopulaVCObs(gc.y, [gc.X snp], gc.V))\n",
    "        end\n",
    "        qc_model_alt = GaussianCopulaVCModel(obs_alt)\n",
    "        QuasiCopula.fit!(qc_model_alt,\n",
    "            Ipopt.IpoptSolver(\n",
    "                print_level = 0, \n",
    "                tol = 10^-6, \n",
    "                max_iter = 1000,\n",
    "                accept_after_max_steps = 4,\n",
    "                warm_start_init_point=\"yes\", \n",
    "                limited_memory_max_history = 6, # default value\n",
    "                hessian_approximation = \"limited-memory\",\n",
    "            ))\n",
    "        ts = -2 * (H0_logl - loglikelihood!(qc_model_alt, false, false))\n",
    "        pvals[j] = ccdf(Chisq(1), ts)\n",
    "    end\n",
    "    return pvals\n",
    "end\n",
    "pvals = likelihood_ratio_test(qc_model, G)"
   ]
  },
  {
   "cell_type": "code",
   "execution_count": null,
   "metadata": {
    "collapsed": true
   },
   "outputs": [],
   "source": [
    "qq(pvals, dpi=100, titles=\"Gaussian, $k causal SNPs, 3 Hessian terms\")\n",
    "display(\"image/png\", read(\"qqplot.png\"))"
   ]
  },
  {
   "cell_type": "code",
   "execution_count": null,
   "metadata": {
    "collapsed": true
   },
   "outputs": [],
   "source": []
  }
 ],
 "metadata": {
  "@webio": {
   "lastCommId": null,
   "lastKernelId": null
  },
  "kernelspec": {
   "display_name": "Julia 1.7.3",
   "language": "julia",
   "name": "julia-1.7"
  },
  "language_info": {
   "file_extension": ".jl",
   "mimetype": "application/julia",
   "name": "julia",
   "version": "1.7.3"
  },
  "toc": {
   "base_numbering": 1,
   "nav_menu": {},
   "number_sections": true,
   "sideBar": true,
   "skip_h1_title": false,
   "title_cell": "Table of Contents",
   "title_sidebar": "Contents",
   "toc_cell": false,
   "toc_position": {},
   "toc_section_display": true,
   "toc_window_display": false
  }
 },
 "nbformat": 4,
 "nbformat_minor": 2
}
