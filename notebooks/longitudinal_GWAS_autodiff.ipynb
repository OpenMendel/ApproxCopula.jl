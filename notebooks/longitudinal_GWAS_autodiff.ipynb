{
 "cells": [
  {
   "cell_type": "markdown",
   "metadata": {},
   "source": [
    "# Longitudinal QuasiCopula GWAS with Mixed Marginals\n",
    "\n",
    "Because the QQ plots for longitudinal GWAS looks bad, here we will use autodiff to compute all gradient/Hessian terms (e.g. Q, W, R) and see if that fixes the p-values. "
   ]
  },
  {
   "cell_type": "code",
   "execution_count": 1,
   "metadata": {
    "collapsed": false
   },
   "outputs": [
    {
     "data": {
      "text/plain": [
       "_make_snparray (generic function with 1 method)"
      ]
     },
     "execution_count": 1,
     "metadata": {},
     "output_type": "execute_result"
    }
   ],
   "source": [
    "using Revise\n",
    "using DataFrames, Random, GLM, QuasiCopula\n",
    "using ForwardDiff, Test, LinearAlgebra\n",
    "using LinearAlgebra: BlasReal, copytri!\n",
    "using ToeplitzMatrices\n",
    "using BenchmarkTools\n",
    "using SnpArrays\n",
    "using MendelPlots\n",
    "\n",
    "BLAS.set_num_threads(1)\n",
    "Threads.nthreads()\n",
    "\n",
    "function simulate_random_snparray(s::Union{String, UndefInitializer}, n::Int64,\n",
    "    p::Int64; mafs::Vector{Float64}=zeros(Float64, p), min_ma::Int = 5)\n",
    "\n",
    "    #first simulate a random {0, 1, 2} matrix with each SNP drawn from Binomial(2, r[i])\n",
    "    A1 = BitArray(undef, n, p) \n",
    "    A2 = BitArray(undef, n, p) \n",
    "    for j in 1:p\n",
    "        minor_alleles = 0\n",
    "        maf = 0\n",
    "        while minor_alleles <= min_ma\n",
    "            maf = 0.5rand()\n",
    "            for i in 1:n\n",
    "                A1[i, j] = rand(Bernoulli(maf))\n",
    "                A2[i, j] = rand(Bernoulli(maf))\n",
    "            end\n",
    "            minor_alleles = sum(view(A1, :, j)) + sum(view(A2, :, j))\n",
    "        end\n",
    "        mafs[j] = maf\n",
    "    end\n",
    "\n",
    "    #fill the SnpArray with the corresponding x_tmp entry\n",
    "    return _make_snparray(s, A1, A2)\n",
    "end\n",
    "\n",
    "function _make_snparray(s::Union{String, UndefInitializer}, A1::BitArray, A2::BitArray)\n",
    "    n, p = size(A1)\n",
    "    x = SnpArray(s, n, p)\n",
    "    for i in 1:(n*p)\n",
    "        c = A1[i] + A2[i]\n",
    "        if c == 0\n",
    "            x[i] = 0x00\n",
    "        elseif c == 1\n",
    "            x[i] = 0x02\n",
    "        elseif c == 2\n",
    "            x[i] = 0x03\n",
    "        else\n",
    "            throw(MissingException(\"matrix shouldn't have missing values!\"))\n",
    "        end\n",
    "    end\n",
    "    return x\n",
    "end\n"
   ]
  },
  {
   "cell_type": "markdown",
   "metadata": {},
   "source": [
    "## Simulate data"
   ]
  },
  {
   "cell_type": "code",
   "execution_count": 123,
   "metadata": {
    "collapsed": false
   },
   "outputs": [
    {
     "name": "stdout",
     "output_type": "stream",
     "text": [
      "qc_model = Quasi-Copula Variance Component Model\n",
      "  * base distribution: Poisson\n",
      "  * link function: LogLink\n",
      "  * number of clusters: 5000\n",
      "  * cluster size min, max: 5, 5\n",
      "  * number of variance components: 1\n",
      "  * number of fixed effects: 3\n",
      "\n"
     ]
    }
   ],
   "source": [
    "function simulate_VC_longitudinal(;\n",
    "    n = 1000, # sample size\n",
    "    d = 5, # number of observations per sample\n",
    "    p = 3, # number of nongenetic covariates, including intercept\n",
    "    m = 2, # number of variance components\n",
    "    q = 1000, # number of SNPs\n",
    "    k = 10, # number of causal SNPs\n",
    "    seed = 2022,\n",
    "    y_distribution = Bernoulli,\n",
    "    T = Float64,\n",
    "    )\n",
    "    m == 1 || m == 2 || error(\"m (number of VC) must be 1 or 2\")\n",
    "    \n",
    "    # non-genetic effect sizes\n",
    "    Random.seed!(seed)\n",
    "    βtrue = rand(Uniform(-0.2, 0.2), p)\n",
    "    dist = y_distribution()\n",
    "    link = canonicallink(dist)\n",
    "    Dist = typeof(dist)\n",
    "    Link = typeof(link)\n",
    "\n",
    "    # variance components\n",
    "    θtrue = fill(0.1, m)\n",
    "    V1 = ones(d, d)\n",
    "    V2 = Matrix(I, d, d)\n",
    "    Γ = m == 1 ? θtrue[1] * V1 : θtrue[1] * V1 + θtrue[2] * V2\n",
    "\n",
    "    # simulate design matrices\n",
    "    Random.seed!(seed)\n",
    "    X_full = [hcat(ones(d), randn(d, p - 1)) for i in 1:n]\n",
    "\n",
    "    # simulate random SnpArray with 100 SNPs and randomly choose k SNPs to be causal\n",
    "    Random.seed!(2022)\n",
    "    G = simulate_random_snparray(undef, n, q)\n",
    "    Gfloat = convert(Matrix{T}, G, center=true, scale=false)\n",
    "    γtrue = zeros(q)\n",
    "    γtrue[1:k] .= rand([-0.2, 0.2], k)\n",
    "    shuffle!(γtrue)\n",
    "    η_G = Gfloat * γtrue\n",
    "\n",
    "    # simulate phenotypes\n",
    "    if y_distribution == Normal\n",
    "        τtrue = 10.0\n",
    "        σ2 = inv(τtrue)\n",
    "        σ = sqrt(σ2)\n",
    "        obs = Vector{GaussianCopulaVCObs{T}}(undef, n)\n",
    "        for i in 1:n\n",
    "            X = X_full[i]\n",
    "            η = X * βtrue\n",
    "            η .+= η_G[i] # add genetic effects\n",
    "            μ = GLM.linkinv.(link, η)\n",
    "            vecd = Vector{ContinuousUnivariateDistribution}(undef, d)\n",
    "            for i in 1:d\n",
    "                vecd[i] = y_distribution(μ[i], σ)\n",
    "            end\n",
    "            nonmixed_multivariate_dist = NonMixedMultivariateDistribution(vecd, Γ)\n",
    "            # simuate single vector y\n",
    "            y = Vector{T}(undef, d)\n",
    "            res = Vector{T}(undef, d)\n",
    "            rand(nonmixed_multivariate_dist, y, res)\n",
    "            V = m == 1 ? [V1] : [V1, V2]\n",
    "            obs[i] = GaussianCopulaVCObs(y, X, V)\n",
    "        end\n",
    "        qc_model = GaussianCopulaVCModel(obs)\n",
    "    else\n",
    "        obs = Vector{GLMCopulaVCObs{T, Dist, Link}}(undef, n)\n",
    "        for i in 1:n\n",
    "            X = X_full[i]\n",
    "            η = X * βtrue\n",
    "            η .+= η_G[i] # add genetic effects\n",
    "            μ = GLM.linkinv.(link, η)\n",
    "            vecd = Vector{DiscreteUnivariateDistribution}(undef, d)\n",
    "            for i in 1:d\n",
    "                vecd[i] = y_distribution(μ[i])\n",
    "            end\n",
    "            nonmixed_multivariate_dist = NonMixedMultivariateDistribution(vecd, Γ)\n",
    "            # simuate single vector y\n",
    "            y = Vector{T}(undef, d)\n",
    "            res = Vector{T}(undef, d)\n",
    "            rand(nonmixed_multivariate_dist, y, res)\n",
    "            V = m == 1 ? [V1] : [V1, V2]\n",
    "            obs[i] = GLMCopulaVCObs(y, X, V, dist, link)\n",
    "        end\n",
    "        qc_model = GLMCopulaVCModel(obs)\n",
    "    end\n",
    "    return qc_model, Γ, G, βtrue, θtrue, γtrue\n",
    "end\n",
    "\n",
    "k = 0 # number of causal SNPs\n",
    "\n",
    "qc_model, Γ, G, βtrue, θtrue, γtrue = simulate_VC_longitudinal(\n",
    "    n = 5000, # sample size\n",
    "    d = 5, # number of observations per sample\n",
    "    p = 3, # number of fixed effects, including intercept\n",
    "    m = 1, # number of variance components\n",
    "    q = 1000, # number of SNPs\n",
    "    k = k, # number of causal SNPs\n",
    "    seed = 2022,\n",
    "    y_distribution = Poisson,\n",
    "    T = Float64,\n",
    ")\n",
    "\n",
    "@show qc_model;"
   ]
  },
  {
   "cell_type": "markdown",
   "metadata": {},
   "source": [
    "## Fit Null model"
   ]
  },
  {
   "cell_type": "code",
   "execution_count": 124,
   "metadata": {
    "collapsed": false,
    "scrolled": true
   },
   "outputs": [
    {
     "name": "stdout",
     "output_type": "stream",
     "text": [
      "initializing β using Newton's Algorithm under Independence Assumption\n",
      "gcm.β = [-0.10475740605685649, 0.16112548333125815, 0.003586381225925596]\n",
      "initializing variance components using MM-Algorithm\n",
      "gcm.θ = [0.08968131835408427]\n",
      "This is Ipopt version 3.13.4, running with linear solver mumps.\n",
      "NOTE: Other linear solvers might be more efficient (see Ipopt documentation).\n",
      "\n",
      "Number of nonzeros in equality constraint Jacobian...:        0\n",
      "Number of nonzeros in inequality constraint Jacobian.:        0\n",
      "Number of nonzeros in Lagrangian Hessian.............:        0\n",
      "\n",
      "Total number of variables............................:        4\n",
      "                     variables with only lower bounds:        1\n",
      "                variables with lower and upper bounds:        0\n",
      "                     variables with only upper bounds:        0\n",
      "Total number of equality constraints.................:        0\n",
      "Total number of inequality constraints...............:        0\n",
      "        inequality constraints with only lower bounds:        0\n",
      "   inequality constraints with lower and upper bounds:        0\n",
      "        inequality constraints with only upper bounds:        0\n",
      "\n",
      "iter    objective    inf_pr   inf_du lg(mu)  ||d||  lg(rg) alpha_du alpha_pr  ls\n",
      "   0  3.1525846e+04 0.00e+00 1.00e+02   0.0 0.00e+00    -  0.00e+00 0.00e+00   0\n",
      "   1  1.2324210e+05 0.00e+00 6.32e+03 -10.0 1.00e+02    -  1.00e+00 6.25e-02h  5\n",
      "   2  4.0303674e+04 0.00e+00 1.62e+03  -5.0 4.67e+00    -  1.53e-01 1.00e+00f  1\n",
      "   3  3.7015145e+04 0.00e+00 2.39e+03  -5.0 1.05e+02    -  1.00e+00 2.19e-02f  2\n",
      "   4  3.2998599e+04 0.00e+00 6.15e+02  -5.0 1.37e+00    -  1.00e+00 1.00e+00f  1\n",
      "   5  3.2117018e+04 0.00e+00 2.75e+02  -5.0 2.73e-01    -  1.00e+00 1.00e+00f  1\n",
      "   6  3.1842476e+04 0.00e+00 1.44e+02  -5.0 2.36e-01    -  1.00e+00 1.00e+00f  1\n",
      "   7  3.1809026e+04 0.00e+00 1.54e+02  -5.0 5.41e-02    -  1.00e+00 1.00e+00f  1\n",
      "   8  3.1744885e+04 0.00e+00 1.60e+02  -5.0 6.87e-02    -  1.00e+00 1.00e+00f  1\n",
      "   9  3.1730229e+04 0.00e+00 5.69e+02  -5.0 3.57e+02    -  1.00e+00 1.06e-03f  1\n",
      "iter    objective    inf_pr   inf_du lg(mu)  ||d||  lg(rg) alpha_du alpha_pr  ls\n",
      "  10  3.1693002e+04 0.00e+00 4.98e+02  -5.0 6.05e-01    -  8.53e-05 1.25e-01f  4\n",
      "  11  3.1663001e+04 0.00e+00 1.53e+02  -5.0 5.23e-01    -  1.00e+00 5.00e-01f  2\n",
      "  12  3.1582399e+04 0.00e+00 1.35e+02  -5.0 5.09e-02    -  1.00e+00 1.00e+00f  1\n",
      "  13  3.1530183e+04 0.00e+00 1.19e+02  -5.0 1.21e-01    -  1.00e+00 1.00e+00f  1\n",
      "  14  3.1517111e+04 0.00e+00 4.47e+01  -5.0 2.56e-02    -  1.00e+00 1.00e+00f  1\n",
      "  15  3.1509138e+04 0.00e+00 6.06e+00 -11.0 1.62e-02    -  1.00e+00 1.00e+00f  1\n",
      "  16  3.1509030e+04 0.00e+00 1.36e+00 -11.0 1.99e-03    -  1.00e+00 1.00e+00f  1\n",
      "  17  3.1509027e+04 0.00e+00 2.27e-01  -9.9 4.59e-04    -  1.00e+00 1.00e+00f  1\n",
      "  18  3.1509027e+04 0.00e+00 5.01e-02 -11.0 1.15e-04    -  1.00e+00 1.00e+00f  1\n",
      "  19  3.1509027e+04 0.00e+00 2.37e-03 -11.0 2.41e-05    -  1.00e+00 1.00e+00f  1\n",
      "iter    objective    inf_pr   inf_du lg(mu)  ||d||  lg(rg) alpha_du alpha_pr  ls\n",
      "  20  3.1509027e+04 0.00e+00 1.11e-04 -11.0 8.88e-07    -  1.00e+00 1.00e+00f  1\n",
      "  21  3.1509027e+04 0.00e+00 5.56e-06 -11.0 3.95e-08    -  1.00e+00 1.00e+00f  1\n",
      "  22  3.1509027e+04 0.00e+00 7.38e-08 -11.0 1.88e-09    -  1.00e+00 1.00e+00f  1\n",
      "\n",
      "Number of Iterations....: 22\n",
      "\n",
      "                                   (scaled)                 (unscaled)\n",
      "Objective...............:   4.4947794061032591e+03    3.1509027070824159e+04\n",
      "Dual infeasibility......:   7.3776444867567482e-08    5.1718311144810514e-07\n",
      "Constraint violation....:   0.0000000000000000e+00    0.0000000000000000e+00\n",
      "Complementarity.........:   9.9999999999999994e-12    7.0101387018102513e-11\n",
      "Overall NLP error.......:   7.3776444867567482e-08    5.1718311144810514e-07\n",
      "\n",
      "\n",
      "Number of objective function evaluations             = 48\n",
      "Number of objective gradient evaluations             = 23\n",
      "Number of equality constraint evaluations            = 0\n",
      "Number of inequality constraint evaluations          = 0\n",
      "Number of equality constraint Jacobian evaluations   = 0\n",
      "Number of inequality constraint Jacobian evaluations = 0\n",
      "Number of Lagrangian Hessian evaluations             = 0\n",
      "Total CPU secs in IPOPT (w/o function evaluations)   =      0.050\n",
      "Total CPU secs in NLP function evaluations           =      0.284\n",
      "\n",
      "EXIT: Optimal Solution Found.\n",
      "  0.404091 seconds (1.10 M allocations: 20.406 MiB)\n"
     ]
    }
   ],
   "source": [
    "@time optm = QuasiCopula.fit!(qc_model,\n",
    "    Ipopt.IpoptSolver(\n",
    "        print_level = 5, \n",
    "        tol = 10^-6, \n",
    "        max_iter = 1000,\n",
    "        accept_after_max_steps = 4,\n",
    "        warm_start_init_point=\"yes\", \n",
    "        limited_memory_max_history = 6, # default value\n",
    "        hessian_approximation = \"limited-memory\",\n",
    "#         derivative_test=\"second-order\"\n",
    "    )\n",
    ");"
   ]
  },
  {
   "cell_type": "code",
   "execution_count": 125,
   "metadata": {
    "collapsed": false
   },
   "outputs": [
    {
     "name": "stdout",
     "output_type": "stream",
     "text": [
      "βtrue = [-0.15724541848225881, 0.1622105756389522, 0.008250501994707893]\n",
      "qc_model.β = [-0.15389620939013315, 0.16858516428854245, 0.003914811907814301]\n",
      "qc_model.∇β = [-5.171831114481051e-7, 2.054137997475891e-7, -7.279939007176495e-8]\n",
      "θtrue = [0.1]\n",
      "qc_model.θ = [0.10270007729386353]\n",
      "qc_model.∇θ = [1.8687455760613148e-7]\n"
     ]
    }
   ],
   "source": [
    "@show βtrue\n",
    "@show qc_model.β\n",
    "@show qc_model.∇β\n",
    "\n",
    "@show θtrue\n",
    "@show qc_model.θ\n",
    "@show qc_model.∇θ;"
   ]
  },
  {
   "cell_type": "markdown",
   "metadata": {},
   "source": [
    "## Loglikelihood function friendly to autodiff"
   ]
  },
  {
   "cell_type": "code",
   "execution_count": 144,
   "metadata": {
    "collapsed": false
   },
   "outputs": [
    {
     "data": {
      "text/plain": [
       "autodiff_loglikelihood (generic function with 1 method)"
      ]
     },
     "execution_count": 144,
     "metadata": {},
     "output_type": "execute_result"
    }
   ],
   "source": [
    "function A_mul_b!(c::AbstractVector{T}, A::AbstractMatrix, b::AbstractVector) where T\n",
    "    n, p = size(A)\n",
    "    fill!(c, zero(T))\n",
    "    for j in 1:p, i in 1:n\n",
    "        c[i] += A[i, j] * b[j]\n",
    "    end\n",
    "    return c\n",
    "end\n",
    "\n",
    "function loglikelihood(\n",
    "    β::AbstractVector{T}, # p+1 × 1 where p is number of non-genetic covariates\n",
    "    qc_model::Union{GLMCopulaVCModel, NBCopulaVCModel}, # fitted null model\n",
    "    z::AbstractVector # n × 1 genotype vector\n",
    "    ) where T\n",
    "    θ = qc_model.θ\n",
    "    # allocate vector of type T\n",
    "    n, p = size(qc_model.data[1].X)\n",
    "    η = zeros(T, n)\n",
    "    μ = zeros(T, n)\n",
    "    varμ = zeros(T, n)\n",
    "    res = zeros(T, n)\n",
    "    storage_n = zeros(T, n)\n",
    "    q = zeros(T, length(θ))\n",
    "    logl = zero(T)\n",
    "    for (i, gc) in enumerate(qc_model.data)\n",
    "        snps = [z[i] for i in 1:size(gc.X, 1)]\n",
    "        X = hcat(gc.X, snps) # genetic and nongenetic covariates\n",
    "        y = gc.y\n",
    "        n, p = size(X)\n",
    "        # update_res! step (need to avoid BLAS)\n",
    "        A_mul_b!(η, X, β)\n",
    "        for j in 1:gc.n\n",
    "            μ[j] = GLM.linkinv(gc.link, η[j])\n",
    "            varμ[j] = GLM.glmvar(gc.d, μ[j]) # Note: for negative binomial, d.r is used\n",
    "#             dμ[j] = GLM.mueta(gc.link, η[j])\n",
    "#             w1[j] = dμ[j] / varμ[j]\n",
    "#             w2[j] = w1[j] * dμ[j]\n",
    "            res[j] = y[j] - μ[j]\n",
    "        end\n",
    "        # standardize_res! step\n",
    "        for j in eachindex(y)\n",
    "            res[j] /= sqrt(varμ[j])\n",
    "        end\n",
    "        # std_res_differential! step (this will compute ∇resβ)\n",
    "#         for i in 1:gc.p\n",
    "#             for j in 1:gc.n\n",
    "#                 ∇resβ[j, i] = -sqrt(varμ[j]) * X[j, i] - (0.5 * res[j] * (1 - (2 * μ[j])) * X[j, i])\n",
    "#             end\n",
    "#         end\n",
    "        # update Γ\n",
    "        @inbounds for k in 1:gc.m\n",
    "            A_mul_b!(storage_n, gc.V[k], res)\n",
    "            q[k] = dot(res, storage_n) / 2 # q[k] = 0.5 r' * V[k] * r (update variable b for variance component model)\n",
    "        end\n",
    "        # component_loglikelihood\n",
    "        for j in 1:gc.n\n",
    "            logl += QuasiCopula.loglik_obs(gc.d, y[j], μ[j], one(T), one(T))\n",
    "        end\n",
    "        tsum = dot(θ, gc.t)\n",
    "        logl += -log(1 + tsum)\n",
    "        qsum  = dot(θ, q) # qsum = 0.5 r'Γr\n",
    "        logl += log(1 + qsum)\n",
    "    end\n",
    "    return logl\n",
    "end\n",
    "\n",
    "function loglikelihood(\n",
    "    β::AbstractVector{T}, # p+1 × 1 where p is number of non-genetic covariates\n",
    "    gcm::GaussianCopulaVCModel,\n",
    "    z::AbstractVector # n × 1 genotype vector\n",
    "    ) where T\n",
    "    θ = gcm.θ\n",
    "    τ = gcm.τ[1]\n",
    "    # allocate vector of type T\n",
    "    n, p = size(gcm.data[1].X)\n",
    "    μ = zeros(T, n)\n",
    "    res = zeros(T, n)\n",
    "    storage_n = zeros(T, n)\n",
    "    q = zeros(T, length(θ))\n",
    "    logl = zero(T)\n",
    "    for (i, gc) in enumerate(qc_model.data)\n",
    "        snps = [z[i] for i in 1:size(gc.X, 1)]\n",
    "        X = hcat(gc.X, snps) # genetic and nongenetic covariates\n",
    "        y = gc.y\n",
    "        n, p = size(X)\n",
    "        sqrtτ = sqrt(abs(τ))\n",
    "        # update_res! step (need to avoid BLAS)\n",
    "        A_mul_b!(μ, X, β)\n",
    "        for j in 1:gc.n\n",
    "            res[j] = y[j] - μ[j]\n",
    "        end\n",
    "        # standardize_res! step\n",
    "        res .*= sqrtτ\n",
    "        rss  = abs2(norm(res)) # RSS of standardized residual\n",
    "        tsum = dot(abs.(θ), gc.t) # ben: why is there abs here?\n",
    "        logl += - log(1 + tsum) - (gc.n * log(2π) -  gc.n * log(abs(τ)) + rss) / 2\n",
    "        # update Γ\n",
    "        @inbounds for k in 1:gc.m\n",
    "            A_mul_b!(storage_n, gc.V[k], res)\n",
    "            q[k] = dot(res, storage_n) / 2 # q[k] = 0.5 r' * V[k] * r (update variable b for variance component model)\n",
    "        end\n",
    "        qsum  = dot(θ, q)\n",
    "        logl += log(1 + qsum)\n",
    "    end\n",
    "    return logl\n",
    "end\n",
    "\n",
    "autodiff_loglikelihood(β) = loglikelihood(β, qc_model, z)"
   ]
  },
  {
   "cell_type": "markdown",
   "metadata": {},
   "source": [
    "First, check if `autodiff_loglikelihood` returns same answer as `QuasiCopula.loglikelihood!`"
   ]
  },
  {
   "cell_type": "code",
   "execution_count": 145,
   "metadata": {
    "collapsed": false
   },
   "outputs": [
    {
     "name": "stdout",
     "output_type": "stream",
     "text": [
      "autodiff_loglikelihood(fullβ) = -31509.027070823213\n",
      "QuasiCopula.loglikelihood!(qc_model, false, false) = -31509.02707082416\n"
     ]
    }
   ],
   "source": [
    "i = 1\n",
    "z = convert(Vector{Float64}, @view(G[:, i]), center=true, scale=false)\n",
    "fullβ = [qc_model.β; 0.0]\n",
    "\n",
    "@show autodiff_loglikelihood(fullβ)\n",
    "@show QuasiCopula.loglikelihood!(qc_model, false, false);"
   ]
  },
  {
   "cell_type": "markdown",
   "metadata": {},
   "source": [
    "Lets compute a few Hessians"
   ]
  },
  {
   "cell_type": "code",
   "execution_count": 117,
   "metadata": {
    "collapsed": false
   },
   "outputs": [
    {
     "data": {
      "text/plain": [
       "#181 (generic function with 1 method)"
      ]
     },
     "execution_count": 117,
     "metadata": {},
     "output_type": "execute_result"
    }
   ],
   "source": [
    "# autodiff Gradient\n",
    "∇logl = x -> ForwardDiff.gradient(autodiff_loglikelihood, x)\n",
    "\n",
    "# autodiff Hessian\n",
    "∇²logl = x -> ForwardDiff.hessian(autodiff_loglikelihood, x)"
   ]
  },
  {
   "cell_type": "code",
   "execution_count": 119,
   "metadata": {
    "collapsed": false
   },
   "outputs": [
    {
     "data": {
      "text/plain": [
       "4×4 Matrix{Float64}:\n",
       " -15345.6      -3138.24       -15.3028  0.0\n",
       "  -3138.24    -20736.3        -75.0273  0.0\n",
       "    -15.3028     -75.0273  -19978.9     0.0\n",
       "      0.0          0.0          0.0     0.0"
      ]
     },
     "execution_count": 119,
     "metadata": {},
     "output_type": "execute_result"
    }
   ],
   "source": [
    "i = 1\n",
    "z = convert(Vector{Float64}, @view(G[:, i]), center=true, scale=false)\n",
    "Hfull = ∇²logl(fullβ) # snp 1"
   ]
  },
  {
   "cell_type": "code",
   "execution_count": 120,
   "metadata": {
    "collapsed": false
   },
   "outputs": [
    {
     "data": {
      "text/plain": [
       "4×4 Matrix{Float64}:\n",
       " -15345.6      -3138.24       -15.3028   -9196.97\n",
       "  -3138.24    -20736.3        -75.0273   -1888.05\n",
       "    -15.3028     -75.0273  -19978.9         13.3543\n",
       "  -9196.97     -1888.05        13.3543  -10528.1"
      ]
     },
     "execution_count": 120,
     "metadata": {},
     "output_type": "execute_result"
    }
   ],
   "source": [
    "i = 10\n",
    "z = convert(Vector{Float64}, @view(G[:, i]), center=true, scale=false)\n",
    "Hfull = ∇²logl(fullβ) # snp 10"
   ]
  },
  {
   "cell_type": "code",
   "execution_count": 121,
   "metadata": {
    "collapsed": false
   },
   "outputs": [
    {
     "data": {
      "text/plain": [
       "4×4 Matrix{Float64}:\n",
       " -15345.6      -3138.24       -15.3028  -6173.46\n",
       "  -3138.24    -20736.3        -75.0273  -1368.56\n",
       "    -15.3028     -75.0273  -19978.9       -20.7465\n",
       "  -6173.46     -1368.56       -20.7465  -7507.83"
      ]
     },
     "execution_count": 121,
     "metadata": {},
     "output_type": "execute_result"
    }
   ],
   "source": [
    "i = 100\n",
    "z = convert(Vector{Float64}, @view(G[:, i]), center=true, scale=false)\n",
    "Hfull = ∇²logl(fullβ) # snp 100"
   ]
  },
  {
   "cell_type": "code",
   "execution_count": 122,
   "metadata": {
    "collapsed": false
   },
   "outputs": [
    {
     "data": {
      "text/plain": [
       "0.2729066362708893"
      ]
     },
     "execution_count": 122,
     "metadata": {},
     "output_type": "execute_result"
    }
   ],
   "source": [
    "W = -Hfull[1:end-1, end]\n",
    "Q = -Hfull[end, end]\n",
    "Pinv = inv(-Hfull[1:end-1, 1:end-1])\n",
    "R = ∇logl(fullβ)[end]\n",
    "S = R * inv(Q - W'*Pinv*W) * R\n",
    "pval = ccdf(Chisq(1), S)"
   ]
  },
  {
   "cell_type": "markdown",
   "metadata": {},
   "source": [
    "# Score tests by autodiffing everything"
   ]
  },
  {
   "cell_type": "code",
   "execution_count": 127,
   "metadata": {
    "collapsed": false
   },
   "outputs": [
    {
     "data": {
      "text/plain": [
       "GWASCopulaVCModel_autodiff (generic function with 2 methods)"
      ]
     },
     "execution_count": 127,
     "metadata": {},
     "output_type": "execute_result"
    }
   ],
   "source": [
    "function GWASCopulaVCModel_autodiff(\n",
    "    gcm::Union{GLMCopulaVCModel, NBCopulaVCModel, GaussianCopulaVCModel},\n",
    "    G::SnpArray;\n",
    "    )\n",
    "    # define autodiff likelihood, gradient, and Hessians\n",
    "    autodiff_loglikelihood(β) = loglikelihood(β, qc_model, z)\n",
    "    ∇logl = x -> ForwardDiff.gradient(autodiff_loglikelihood, x)\n",
    "    ∇²logl = x -> ForwardDiff.hessian(autodiff_loglikelihood, x)\n",
    "    \n",
    "    # some needed constants\n",
    "    n, q = size(G)\n",
    "    p = length(gcm.β)\n",
    "    dist = QuasiCopula._get_null_distribution(gcm)\n",
    "    @show dist\n",
    "    T = eltype(gcm.data[1].X)\n",
    "    n == length(gcm.data) || error(\"sample size do not agree\")\n",
    "    any(x -> abs(x) > 1e-3, gcm.∇β) && error(\"Null model gradient of beta is not zero!\")\n",
    "    any(x -> abs(x) > 1e-3, gcm.∇θ) && error(\"Null model gradient of variance components is not zero!\")\n",
    "    # compute P (negative Hessian) and inv(P)\n",
    "    z = convert(Vector{Float64}, @view(G[:, 1]), center=true, scale=false, impute=false)\n",
    "    fullβ = [qc_model.β; 0.0]\n",
    "    Hfull = ∇²logl(fullβ)\n",
    "    Pinv = inv(-Hfull[1:end-1, 1:end-1])\n",
    "    # score test for each SNP\n",
    "    pvals = zeros(T, q)\n",
    "    for j in 1:q\n",
    "        SnpArrays.copyto!(z, @view(G[:, j]), center=true, scale=false, impute=false)\n",
    "        Hfull = ∇²logl(fullβ)\n",
    "        W = -Hfull[1:end-1, end]\n",
    "        Q = -Hfull[end, end]\n",
    "        R = ∇logl(fullβ)[end]\n",
    "        S = R * inv(Q - W'*Pinv*W) * R\n",
    "        pval = ccdf(Chisq(1), S)\n",
    "        pvals[j] = pval == 0 ? 1 : pval\n",
    "    end\n",
    "    return pvals\n",
    "end"
   ]
  },
  {
   "cell_type": "code",
   "execution_count": 128,
   "metadata": {
    "collapsed": false
   },
   "outputs": [
    {
     "name": "stdout",
     "output_type": "stream",
     "text": [
      "dist = Poisson{Float64}(λ=1.0)\n",
      " 12.922938 seconds (20.52 M allocations: 3.016 GiB, 3.35% gc time, 2.85% compilation time)\n"
     ]
    },
    {
     "data": {
      "text/plain": [
       "1000-element Vector{Float64}:\n",
       " 0.9487513911087037\n",
       " 0.5074204044372573\n",
       " 0.41698587819023525\n",
       " 0.07125123330008407\n",
       " 1.0\n",
       " 1.0\n",
       " 0.1620343581014225\n",
       " 0.9637595982034453\n",
       " 0.6630848258919624\n",
       " 0.21174898529484848\n",
       " 0.9050423919742322\n",
       " 0.2729066383468736\n",
       " 0.7383283901302657\n",
       " ⋮\n",
       " 0.4169858756374443\n",
       " 0.16203435678526165\n",
       " 0.1177345712794682\n",
       " 0.41698587691872047\n",
       " 0.07125123196325085\n",
       " 0.8988848830679489\n",
       " 0.41698587847353064\n",
       " 0.9149333834123051\n",
       " 0.7290790806374481\n",
       " 0.926842182382621\n",
       " 0.6630848272816002\n",
       " 0.964230159661985"
      ]
     },
     "execution_count": 128,
     "metadata": {},
     "output_type": "execute_result"
    }
   ],
   "source": [
    "@time pvals = GWASCopulaVCModel_autodiff(qc_model, G)"
   ]
  },
  {
   "cell_type": "code",
   "execution_count": 129,
   "metadata": {
    "collapsed": false
   },
   "outputs": [
    {
     "name": "stdout",
     "output_type": "stream",
     "text": [
      "length(signif_snps) = 0\n",
      "power = 0.0\n"
     ]
    },
    {
     "data": {
      "text/plain": [
       "0.0"
      ]
     },
     "execution_count": 129,
     "metadata": {},
     "output_type": "execute_result"
    }
   ],
   "source": [
    "correct_snps = findall(!iszero, γtrue)\n",
    "signif_snps = findall(x -> x < 0.05/length(pvals), pvals)\n",
    "power = length(correct_snps ∩ signif_snps) / max(1, length(correct_snps))\n",
    "\n",
    "@show length(signif_snps)\n",
    "@show power"
   ]
  },
  {
   "cell_type": "code",
   "execution_count": 130,
   "metadata": {
    "collapsed": false
   },
   "outputs": [
    {
     "data": {
      "text/plain": [
       "Float64[]"
      ]
     },
     "execution_count": 130,
     "metadata": {},
     "output_type": "execute_result"
    }
   ],
   "source": [
    "# pvalues of truly causal SNPs\n",
    "pvals[correct_snps] |> sort"
   ]
  },
  {
   "cell_type": "code",
   "execution_count": 131,
   "metadata": {
    "collapsed": false
   },
   "outputs": [
    {
     "data": {
      "text/plain": [
       "1000-element Vector{Float64}:\n",
       " 0.07125123196325085\n",
       " 0.07125123208531883\n",
       " 0.07125123218265922\n",
       " 0.07125123221174406\n",
       " 0.07125123226510519\n",
       " 0.07125123235740398\n",
       " 0.07125123238992616\n",
       " 0.07125123241053645\n",
       " 0.07125123245840516\n",
       " 0.07125123247421243\n",
       " 0.07125123252047298\n",
       " 0.07125123252390915\n",
       " 0.0712512325745226\n",
       " ⋮\n",
       " 1.0\n",
       " 1.0\n",
       " 1.0\n",
       " 1.0\n",
       " 1.0\n",
       " 1.0\n",
       " 1.0\n",
       " 1.0\n",
       " 1.0\n",
       " 1.0\n",
       " 1.0\n",
       " 1.0"
      ]
     },
     "execution_count": 131,
     "metadata": {},
     "output_type": "execute_result"
    }
   ],
   "source": [
    "# pvalues of all SNPs sorted by significance\n",
    "sort(pvals)"
   ]
  },
  {
   "cell_type": "markdown",
   "metadata": {},
   "source": [
    "## QQ Plots"
   ]
  },
  {
   "cell_type": "code",
   "execution_count": 62,
   "metadata": {
    "collapsed": false
   },
   "outputs": [
    {
     "data": {
      "image/png": "[encoded data removed]"
     },
     "metadata": {},
     "output_type": "display_data"
    }
   ],
   "source": [
    "qq(pvals, dpi=100, titles=\"Normal, $k causal SNPs\")\n",
    "display(\"image/png\", read(\"qqplot.png\"))"
   ]
  },
  {
   "cell_type": "code",
   "execution_count": 42,
   "metadata": {
    "collapsed": false
   },
   "outputs": [
    {
     "data": {
      "image/png": "[encoded data removed]"
     },
     "metadata": {},
     "output_type": "display_data"
    }
   ],
   "source": [
    "qq(pvals, dpi=100, titles=\"Bernoulli, $k causal SNPs\")\n",
    "display(\"image/png\", read(\"qqplot.png\"))"
   ]
  },
  {
   "cell_type": "code",
   "execution_count": 101,
   "metadata": {
    "collapsed": false
   },
   "outputs": [
    {
     "data": {
      "image/png": "[encoded data removed]"
     },
     "metadata": {},
     "output_type": "display_data"
    }
   ],
   "source": [
    "qq(pvals, dpi=100, titles=\"Poisson, $k causal SNPs\")\n",
    "display(\"image/png\", read(\"qqplot.png\"))"
   ]
  },
  {
   "cell_type": "markdown",
   "metadata": {
    "collapsed": true
   },
   "source": [
    "# Score test by autodiffing $d^2r_i(\\beta)$"
   ]
  },
  {
   "cell_type": "code",
   "execution_count": 141,
   "metadata": {
    "collapsed": false
   },
   "outputs": [
    {
     "data": {
      "text/plain": [
       "#219 (generic function with 1 method)"
      ]
     },
     "execution_count": 141,
     "metadata": {},
     "output_type": "execute_result"
    }
   ],
   "source": [
    "# sample data\n",
    "X = qc_model.data[1].X # d by p\n",
    "y = qc_model.data[1].y # d by 1\n",
    "\n",
    "# objective\n",
    "function resβ(β)\n",
    "    η = X * β # d by 1\n",
    "    μ = GLM.linkinv.(LogLink(), η)\n",
    "    varμ = GLM.glmvar.(Poisson(), μ)\n",
    "    return (y - μ) ./ sqrt.(varμ) # d by 1\n",
    "end\n",
    "\n",
    "# autodiff gradient\n",
    "∇resβ_autodiff = x -> ForwardDiff.jacobian(resβ, x)\n",
    "\n",
    "# autodiff Hessian\n",
    "d²resβ_autodiff = x -> ForwardDiff.jacobian(∇resβ_autodiff, x)"
   ]
  },
  {
   "cell_type": "code",
   "execution_count": 142,
   "metadata": {
    "collapsed": false
   },
   "outputs": [
    {
     "data": {
      "text/plain": [
       "5×3 Matrix{Float64}:\n",
       " -0.450868   0.13916    0.107728\n",
       " -1.47034   -2.46534   -1.03208\n",
       " -0.449471   0.156035   0.0746745\n",
       " -0.495609  -0.405738   0.222716\n",
       " -0.400806   0.688395  -0.121314"
      ]
     },
     "execution_count": 142,
     "metadata": {},
     "output_type": "execute_result"
    }
   ],
   "source": [
    "∇resβ_autodiff(qc_model.β)"
   ]
  },
  {
   "cell_type": "code",
   "execution_count": 143,
   "metadata": {
    "collapsed": false
   },
   "outputs": [
    {
     "data": {
      "text/plain": [
       "15×3 Matrix{Float64}:\n",
       " -0.225434    0.0695798   0.053864\n",
       "  0.201185    0.33733     0.141218\n",
       " -0.224736    0.0780177   0.0373372\n",
       " -0.247805   -0.202869    0.111358\n",
       " -0.200403    0.344198   -0.0606569\n",
       "  0.0695798  -0.0214757  -0.016625\n",
       "  0.33733     0.565606    0.236782\n",
       "  0.0780177  -0.0270841  -0.0129617\n",
       " -0.202869   -0.166082    0.0911649\n",
       "  0.344198   -0.591169    0.10418\n",
       "  0.053864   -0.016625   -0.01287\n",
       "  0.141218    0.236782    0.0991255\n",
       "  0.0373372  -0.0129617  -0.00620315\n",
       "  0.111358    0.0911649  -0.0500417\n",
       " -0.0606569   0.10418    -0.0183593"
      ]
     },
     "execution_count": 143,
     "metadata": {},
     "output_type": "execute_result"
    }
   ],
   "source": [
    "d²resβ_autodiff(qc_model.β)"
   ]
  },
  {
   "cell_type": "code",
   "execution_count": null,
   "metadata": {
    "collapsed": true
   },
   "outputs": [],
   "source": [
    "function GWASCopulaVCModel(\n",
    "    gcm::Union{GLMCopulaVCModel, NBCopulaVCModel},\n",
    "    G::SnpArray;\n",
    "    num_Hessian_terms::Int = 3\n",
    "    )\n",
    "    # define autodiff likelihood, gradient, and Hessians\n",
    "    autodiff_loglikelihood(β) = loglikelihood(β, gcm, z)\n",
    "    ∇logl = x -> ForwardDiff.gradient(autodiff_loglikelihood, x)\n",
    "    ∇²logl = x -> ForwardDiff.hessian(autodiff_loglikelihood, x)\n",
    "    # some needed constants\n",
    "    n, q = size(G)\n",
    "    p = length(gcm.β)\n",
    "    dist = _get_null_distribution(gcm)\n",
    "    T = eltype(gcm.data[1].X)\n",
    "    n == length(gcm.data) || error(\"sample size do not agree\")\n",
    "    any(x -> abs(x) > 1e-3, gcm.∇β) && error(\"Null model gradient of beta is not zero!\")\n",
    "    any(x -> abs(x) > 1e-3, gcm.∇θ) && error(\"Null model gradient of variance components is not zero!\")\n",
    "    # preallocated arrays for efficiency\n",
    "    z = zeros(T, n)\n",
    "    W = zeros(T, p)\n",
    "    χ2 = Chisq(1)\n",
    "    pvals = zeros(T, q)\n",
    "    fullβ = [gcm.β; 0.0]\n",
    "    # compute P (negative Hessian) and inv(P)\n",
    "    if num_Hessian_terms == 2\n",
    "        P = -two_term_Hessian(gcm)\n",
    "    elseif num_Hessian_terms == 3\n",
    "        P = -three_term_Hessian(gcm)\n",
    "    elseif num_Hessian_terms == 4\n",
    "        P = -four_term_Hessian(gcm)\n",
    "    else\n",
    "        error(\"num_Hessian_terms should be 2, 3, or 4 but was $num_Hessian_terms\")\n",
    "    end\n",
    "    Pinv = inv(P)\n",
    "    # score test for each SNP\n",
    "    for j in 1:q\n",
    "        # sync vectors\n",
    "        SnpArrays.copyto!(z, @view(G[:, j]), center=false, scale=false, impute=false)\n",
    "        full_grad = zeros(p + 1)\n",
    "        Q, R = zero(T), zero(T)\n",
    "        fill!(W, 0)\n",
    "        # loop over each sample\n",
    "        for i in 1:n\n",
    "            # variables for current sample\n",
    "            gc = gcm.data[i]\n",
    "            d = gc.n # number of observations for current sample\n",
    "            zi = fill(z[i], d)\n",
    "            res = gc.res # d × 1 standardized residuals\n",
    "            # update ∇resγ\n",
    "            ∇resγ = zeros(T, d)\n",
    "            ∇resβ = gc.∇resβ # d × p\n",
    "            for k in 1:d # loop over each sample's observation\n",
    "                ∇resγ[k] = update_∇resβ(dist, zi[k], res[k], gc.μ[k], gc.dμ[k], gc.varμ[k])\n",
    "            end\n",
    "            # calculate trailing terms (todo: efficiency)\n",
    "            Γ = zeros(T, d, d)\n",
    "            for k in 1:gc.m # loop over variance components\n",
    "                Γ .+= gcm.θ[k] .* gc.V[k]\n",
    "            end\n",
    "            # denom = 1 + dot(gcm.θ, gc.q) # note dot(θ, gc.q) = qsum = 0.5 r'Γr\n",
    "            denom = 1 + 0.5 * (res' * Γ * res)\n",
    "            denom2 = abs2(denom)\n",
    "            Wtrail = (∇resβ' * Γ * res) * (∇resγ' * Γ * res)' / denom2\n",
    "            Qtrail = (∇resγ' * Γ * res) * (∇resγ' * Γ * res)' / denom2\n",
    "            Rtrail = (∇resγ' * Γ * res) / denom\n",
    "            # third Hessian term\n",
    "            Wtrail2 = ∇resβ' * Γ * ∇resγ / denom\n",
    "            Qtrail2 = ∇resγ' * Γ * ∇resγ / denom\n",
    "            # 4th term via autodiff\n",
    "            Wtrail3 = \n",
    "            Qtrail3 = \n",
    "            # score test variables\n",
    "            W .+= Transpose(gc.X) * Diagonal(gc.w2) * zi .+ Wtrail .- Wtrail2\n",
    "            Q += Transpose(zi) * Diagonal(gc.w2) * zi + Qtrail - Qtrail2\n",
    "            R += Transpose(zi) * Diagonal(gc.w1) * (gc.y - gc.μ) + Rtrail\n",
    "        end\n",
    "        # score test (todo: efficiency)\n",
    "        S = R * inv(Q - W'*Pinv*W) * R\n",
    "        pval = ccdf(χ2, S)\n",
    "        pvals[j] = pval == 0 ? 1 : pval\n",
    "    end\n",
    "    return pvals\n",
    "end"
   ]
  }
 ],
 "metadata": {
  "@webio": {
   "lastCommId": null,
   "lastKernelId": null
  },
  "kernelspec": {
   "display_name": "Julia 1.7.3",
   "language": "julia",
   "name": "julia-1.7"
  },
  "language_info": {
   "file_extension": ".jl",
   "mimetype": "application/julia",
   "name": "julia",
   "version": "1.7.3"
  },
  "toc": {
   "base_numbering": 1,
   "nav_menu": {},
   "number_sections": true,
   "sideBar": true,
   "skip_h1_title": false,
   "title_cell": "Table of Contents",
   "title_sidebar": "Contents",
   "toc_cell": false,
   "toc_position": {},
   "toc_section_display": true,
   "toc_window_display": false
  }
 },
 "nbformat": 4,
 "nbformat_minor": 2
}
