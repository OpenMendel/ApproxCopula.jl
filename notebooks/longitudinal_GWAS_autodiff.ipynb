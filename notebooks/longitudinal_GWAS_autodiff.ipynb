{
 "cells": [
  {
   "cell_type": "markdown",
   "metadata": {},
   "source": [
    "# Longitudinal QuasiCopula GWAS with Mixed Marginals\n",
    "\n",
    "Here we will use autodiff to compute all gradient/Hessian terms (e.g. Q, W, R) and see if that gives good p-values. "
   ]
  },
  {
   "cell_type": "code",
   "execution_count": 1,
   "metadata": {
    "collapsed": false
   },
   "outputs": [
    {
     "name": "stderr",
     "output_type": "stream",
     "text": [
      "┌ Info: Precompiling QuasiCopula [c47b6ae2-b804-4668-9957-eb588c99ffbc]\n",
      "└ @ Base loading.jl:1423\n"
     ]
    },
    {
     "data": {
      "text/plain": [
       "_make_snparray (generic function with 1 method)"
      ]
     },
     "execution_count": 1,
     "metadata": {},
     "output_type": "execute_result"
    }
   ],
   "source": [
    "using Revise\n",
    "using DataFrames, Random, GLM, QuasiCopula\n",
    "using ForwardDiff, Test, LinearAlgebra\n",
    "using LinearAlgebra: BlasReal, copytri!\n",
    "using ToeplitzMatrices\n",
    "using BenchmarkTools\n",
    "using SnpArrays\n",
    "using MendelPlots\n",
    "ENV[\"COLUMNS\"] = 240\n",
    "\n",
    "BLAS.set_num_threads(1)\n",
    "Threads.nthreads()\n",
    "\n",
    "function simulate_random_snparray(s::Union{String, UndefInitializer}, n::Int64,\n",
    "    p::Int64; mafs::Vector{Float64}=zeros(Float64, p), min_ma::Int = 5)\n",
    "\n",
    "    #first simulate a random {0, 1, 2} matrix with each SNP drawn from Binomial(2, r[i])\n",
    "    A1 = BitArray(undef, n, p) \n",
    "    A2 = BitArray(undef, n, p) \n",
    "    for j in 1:p\n",
    "        minor_alleles = 0\n",
    "        maf = 0\n",
    "        while minor_alleles <= min_ma\n",
    "            maf = 0.5rand()\n",
    "            for i in 1:n\n",
    "                A1[i, j] = rand(Bernoulli(maf))\n",
    "                A2[i, j] = rand(Bernoulli(maf))\n",
    "            end\n",
    "            minor_alleles = sum(view(A1, :, j)) + sum(view(A2, :, j))\n",
    "        end\n",
    "        mafs[j] = maf\n",
    "    end\n",
    "\n",
    "    #fill the SnpArray with the corresponding x_tmp entry\n",
    "    return _make_snparray(s, A1, A2)\n",
    "end\n",
    "\n",
    "function _make_snparray(s::Union{String, UndefInitializer}, A1::BitArray, A2::BitArray)\n",
    "    n, p = size(A1)\n",
    "    x = SnpArray(s, n, p)\n",
    "    for i in 1:(n*p)\n",
    "        c = A1[i] + A2[i]\n",
    "        if c == 0\n",
    "            x[i] = 0x00\n",
    "        elseif c == 1\n",
    "            x[i] = 0x02\n",
    "        elseif c == 2\n",
    "            x[i] = 0x03\n",
    "        else\n",
    "            throw(MissingException(\"matrix shouldn't have missing values!\"))\n",
    "        end\n",
    "    end\n",
    "    return x\n",
    "end"
   ]
  },
  {
   "cell_type": "markdown",
   "metadata": {},
   "source": [
    "## Simulate data"
   ]
  },
  {
   "cell_type": "code",
   "execution_count": 171,
   "metadata": {
    "collapsed": false,
    "scrolled": true
   },
   "outputs": [
    {
     "name": "stdout",
     "output_type": "stream",
     "text": [
      "qc_model = Quasi-Copula Variance Component Model\n",
      "  * base distribution: Bernoulli\n",
      "  * link function: LogitLink\n",
      "  * number of clusters: 5000\n",
      "  * cluster size min, max: 1, 5\n",
      "  * number of variance components: 2\n",
      "  * number of fixed effects: 3\n",
      "\n"
     ]
    }
   ],
   "source": [
    "function simulate_VC_longitudinal(;\n",
    "    n = 1000, # sample size\n",
    "    d = 2, # number of observations per sample\n",
    "    p = 3, # number of nongenetic covariates, including intercept\n",
    "    m = 1, # number of variance components\n",
    "    q = 1000, # number of SNPs\n",
    "    k = 10, # number of causal SNPs\n",
    "    seed = 2022,\n",
    "    y_distribution = Bernoulli,\n",
    "    T = Float64,\n",
    "    )\n",
    "    m == 1 || m == 2 || error(\"m (number of VC) must be 1 or 2\")\n",
    "    \n",
    "    # non-genetic effect sizes\n",
    "    Random.seed!(seed)\n",
    "    βtrue = [1.0; rand(-0.02:0.04:0.02, p-1)]\n",
    "    dist = y_distribution()\n",
    "    link = canonicallink(dist)\n",
    "    Dist = typeof(dist)\n",
    "    Link = typeof(link)\n",
    "\n",
    "    # variance components\n",
    "    θtrue = fill(0.1, m)\n",
    "\n",
    "    # simulate design matrices\n",
    "    Random.seed!(seed)\n",
    "    X_full = Matrix{Float64}[]\n",
    "    for i in 1:n\n",
    "        nobs = rand(1:d) # number of obs for this sample\n",
    "        push!(X_full, hcat(ones(nobs), randn(nobs, p - 1)))\n",
    "    end\n",
    "\n",
    "    # simulate random SnpArray with q SNPs and randomly choose k SNPs to be causal\n",
    "    Random.seed!(2022)\n",
    "    G = simulate_random_snparray(undef, n, q)\n",
    "    Gfloat = convert(Matrix{T}, G, center=true, scale=false)\n",
    "    γtrue = zeros(q)\n",
    "    γtrue[1:k] .= rand([-0.2, 0.2], k)\n",
    "    shuffle!(γtrue)\n",
    "    η_G = Gfloat * γtrue\n",
    "\n",
    "    # simulate phenotypes\n",
    "    if y_distribution == Normal\n",
    "        τtrue = 10.0\n",
    "        σ2 = inv(τtrue)\n",
    "        σ = sqrt(σ2)\n",
    "        obs = Vector{GaussianCopulaVCObs{T}}(undef, n)\n",
    "        for i in 1:n\n",
    "            # data matrix\n",
    "            X = X_full[i]\n",
    "            η = X * βtrue\n",
    "            η .+= η_G[i] # add genetic effects\n",
    "            μ = GLM.linkinv.(link, η)\n",
    "            vecd = Vector{ContinuousUnivariateDistribution}(undef, size(X, 1))\n",
    "            # VC matrices\n",
    "            V1 = ones(size(X, 1), size(X, 1))\n",
    "            V2 = Matrix(I, size(X, 1), size(X, 1))\n",
    "            Γ = m == 1 ? θtrue[1] * V1 : θtrue[1] * V1 + θtrue[2] * V2\n",
    "            for i in 1:size(X, 1)\n",
    "                vecd[i] = y_distribution(μ[i], σ)\n",
    "            end\n",
    "            nonmixed_multivariate_dist = NonMixedMultivariateDistribution(vecd, Γ)\n",
    "            # simuate single vector y\n",
    "            y = Vector{T}(undef, size(X, 1))\n",
    "            res = Vector{T}(undef, size(X, 1))\n",
    "            rand(nonmixed_multivariate_dist, y, res)\n",
    "            V = m == 1 ? [V1] : [V1, V2]\n",
    "            obs[i] = GaussianCopulaVCObs(y, X, V)\n",
    "        end\n",
    "        qc_model = GaussianCopulaVCModel(obs)\n",
    "    else\n",
    "        obs = Vector{GLMCopulaVCObs{T, Dist, Link}}(undef, n)\n",
    "        for i in 1:n\n",
    "            # data matrix\n",
    "            X = X_full[i]\n",
    "            η = X * βtrue\n",
    "            η .+= η_G[i] # add genetic effects\n",
    "            μ = GLM.linkinv.(link, η)\n",
    "            # VC matrices\n",
    "            V1 = ones(size(X, 1), size(X, 1))\n",
    "            V2 = Matrix(I, size(X, 1), size(X, 1))\n",
    "            Γ = m == 1 ? θtrue[1] * V1 : θtrue[1] * V1 + θtrue[2] * V2\n",
    "            vecd = Vector{DiscreteUnivariateDistribution}(undef, size(X, 1))\n",
    "            for i in 1:size(X, 1)\n",
    "                vecd[i] = y_distribution(μ[i])\n",
    "            end\n",
    "            nonmixed_multivariate_dist = NonMixedMultivariateDistribution(vecd, Γ)\n",
    "            # simuate single vector y\n",
    "            y = Vector{T}(undef, size(X, 1))\n",
    "            res = Vector{T}(undef, size(X, 1))\n",
    "            rand(nonmixed_multivariate_dist, y, res)\n",
    "            V = m == 1 ? [V1] : [V1, V2]\n",
    "            obs[i] = GLMCopulaVCObs(y, X, V, dist, link)\n",
    "        end\n",
    "        qc_model = GLMCopulaVCModel(obs)\n",
    "    end\n",
    "    return qc_model, Γ, G, βtrue, θtrue, γtrue\n",
    "end\n",
    "\n",
    "k = 0 # number of causal SNPs\n",
    "\n",
    "qc_model, Γ, G, βtrue, θtrue, γtrue = simulate_VC_longitudinal(\n",
    "    n = 5000, # sample size\n",
    "    d = 5, # max number of observations per sample\n",
    "    p = 3, # number of fixed effects, including intercept\n",
    "    m = 2, # number of variance components\n",
    "    q = 1000, # number of SNPs\n",
    "    k = k, # number of causal SNPs\n",
    "    seed = 2022,\n",
    "    y_distribution = Bernoulli,\n",
    "    T = Float64,\n",
    ")\n",
    "\n",
    "@show qc_model;\n"
   ]
  },
  {
   "cell_type": "markdown",
   "metadata": {},
   "source": [
    "## Fit Null model"
   ]
  },
  {
   "cell_type": "code",
   "execution_count": 172,
   "metadata": {
    "collapsed": false,
    "scrolled": true
   },
   "outputs": [
    {
     "name": "stdout",
     "output_type": "stream",
     "text": [
      "This is Ipopt version 3.13.4, running with linear solver mumps.\n",
      "NOTE: Other linear solvers might be more efficient (see Ipopt documentation).\n",
      "\n",
      "Number of nonzeros in equality constraint Jacobian...:        0\n",
      "Number of nonzeros in inequality constraint Jacobian.:        0\n",
      "Number of nonzeros in Lagrangian Hessian.............:        0\n",
      "\n",
      "Total number of variables............................:        5\n",
      "                     variables with only lower bounds:        2\n",
      "                variables with lower and upper bounds:        0\n",
      "                     variables with only upper bounds:        0\n",
      "Total number of equality constraints.................:        0\n",
      "Total number of inequality constraints...............:        0\n",
      "        inequality constraints with only lower bounds:        0\n",
      "   inequality constraints with lower and upper bounds:        0\n",
      "        inequality constraints with only upper bounds:        0\n",
      "\n",
      "iter    objective    inf_pr   inf_du lg(mu)  ||d||  lg(rg) alpha_du alpha_pr  ls\n",
      "   0  9.1219675e+03 0.00e+00 1.12e+02   0.0 0.00e+00    -  0.00e+00 0.00e+00   0\n",
      "   1  9.1189700e+03 0.00e+00 8.09e+01  -2.5 1.12e+02    -  1.00e+00 1.07e-04f  1\n",
      "   2  9.1184924e+03 0.00e+00 7.56e+01  -5.4 3.25e-02    -  1.00e+00 1.22e-01f  1\n",
      "   3  9.1168416e+03 0.00e+00 1.22e+02 -10.4 6.16e-02    -  1.00e+00 1.00e+00f  1\n",
      "   4  9.1155942e+03 0.00e+00 3.51e+01  -7.0 3.41e-02    -  1.00e+00 3.74e-01f  1\n",
      "   5  9.1153671e+03 0.00e+00 4.63e+00  -5.8 9.64e-03    -  4.36e-01 1.00e+00f  1\n",
      "   6  9.1153580e+03 0.00e+00 3.70e+00  -4.5 1.31e-03    -  6.57e-02 1.00e+00f  1\n",
      "   7  9.1153109e+03 0.00e+00 4.98e+00  -5.5 1.03e-02    -  1.00e+00 1.00e+00f  1\n",
      "   8  9.1153001e+03 0.00e+00 1.25e+01  -5.1 4.81e-02    -  1.00e+00 1.00e+00f  1\n",
      "   9  9.1152877e+03 0.00e+00 1.05e+01  -5.0 1.86e-01    -  1.00e+00 1.25e-01f  4\n",
      "iter    objective    inf_pr   inf_du lg(mu)  ||d||  lg(rg) alpha_du alpha_pr  ls\n",
      "  10  9.1152440e+03 0.00e+00 8.91e+00 -11.0 3.03e-02    -  1.00e+00 1.00e+00f  1\n",
      "  11  9.1152344e+03 0.00e+00 3.05e+00 -11.0 1.86e-01    -  1.00e+00 9.86e-02f  3\n",
      "  12  9.1152145e+03 0.00e+00 7.95e-01  -6.1 1.61e-02    -  1.00e+00 1.00e+00f  1\n",
      "  13  9.1152142e+03 0.00e+00 5.31e-01  -7.7 1.37e-02    -  1.00e+00 6.25e-02f  5\n",
      "  14  9.1152140e+03 0.00e+00 3.62e-01  -9.9 4.65e-04    -  1.00e+00 1.00e+00f  1\n",
      "  15  9.1152140e+03 0.00e+00 9.95e-02 -10.9 1.66e-03    -  1.00e+00 2.50e-01f  3\n",
      "  16  9.1152140e+03 0.00e+00 7.24e-02 -11.0 3.03e-04    -  1.00e+00 1.00e+00f  1\n",
      "  17  9.1152140e+03 0.00e+00 6.03e-02 -11.0 4.82e-04    -  1.00e+00 5.00e-01f  2\n",
      "  18  9.1152140e+03 0.00e+00 5.06e-02 -11.0 3.81e-04    -  1.00e+00 1.25e-01f  4\n",
      "  19  9.1152140e+03 0.00e+00 3.71e-03 -11.0 3.51e-05    -  1.00e+00 1.00e+00f  1\n",
      "iter    objective    inf_pr   inf_du lg(mu)  ||d||  lg(rg) alpha_du alpha_pr  ls\n",
      "  20  9.1152140e+03 0.00e+00 8.51e-04 -11.0 4.97e-06    -  1.00e+00 1.00e+00f  1\n",
      "  21  9.1152140e+03 0.00e+00 5.48e-04 -11.0 5.58e-06    -  1.00e+00 5.00e-01f  2\n",
      "  22  9.1152140e+03 0.00e+00 1.81e-04 -11.0 9.20e-07    -  1.00e+00 1.00e+00f  1\n",
      "  23  9.1152140e+03 0.00e+00 4.56e-04 -11.0 1.31e-06    -  1.00e+00 5.00e-01f  2\n",
      "  24  9.1152140e+03 0.00e+00 1.91e-04 -11.0 1.39e-07    -  1.00e+00 1.00e+00f  1\n",
      "  25  9.1152140e+03 0.00e+00 4.02e-05 -11.0 4.08e-07    -  1.00e+00 1.00e+00f  1\n",
      "  26  9.1152140e+03 0.00e+00 1.51e-04 -11.0 1.95e-07    -  1.00e+00 1.00e+00f  1\n",
      "  27  9.1152140e+03 0.00e+00 7.04e-05 -11.0 1.58e-07    -  1.00e+00 5.00e-01f  2\n",
      "  28  9.1152140e+03 0.00e+00 2.14e-05 -11.0 2.65e-07    -  1.00e+00 5.00e-01f  2\n",
      "  29  9.1152140e+03 0.00e+00 1.39e-05 -11.0 7.73e-08    -  1.00e+00 5.00e-01f  2\n",
      "iter    objective    inf_pr   inf_du lg(mu)  ||d||  lg(rg) alpha_du alpha_pr  ls\n",
      "  30  9.1152140e+03 0.00e+00 1.32e-05 -11.0 1.40e-07    -  1.00e+00 2.50e-01f  3\n",
      "  31  9.1152140e+03 0.00e+00 5.19e-06 -11.0 2.98e-08    -  1.00e+00 1.00e+00f  1\n",
      "  32  9.1152140e+03 0.00e+00 2.00e-06 -11.0 2.54e-08    -  1.00e+00 2.50e-01f  3\n",
      "  33  9.1152140e+03 0.00e+00 2.14e-06 -11.0 1.34e-08    -  1.00e+00 5.00e-01f  2\n",
      "  34  9.1152140e+03 0.00e+00 6.79e-06 -11.0 1.11e-08    -  1.00e+00 1.00e+00f  1\n",
      "  35  9.1152140e+03 0.00e+00 7.48e-06 -11.0 2.04e-08    -  1.00e+00 1.00e+00f  1\n",
      "  36  9.1152140e+03 0.00e+00 5.84e-05 -11.0 7.61e-08    -  1.00e+00 1.00e+00f  1\n",
      "  37  9.1152140e+03 0.00e+00 2.25e-06 -11.0 8.98e-08    -  1.00e+00 1.00e+00f  1\n",
      "  38  9.1152140e+03 0.00e+00 4.01e-06 -11.0 1.11e-08    -  1.00e+00 1.00e+00f  1\n",
      "  39  9.1152140e+03 0.00e+00 4.45e-06 -11.0 1.02e-08    -  1.00e+00 1.00e+00f  1\n",
      "iter    objective    inf_pr   inf_du lg(mu)  ||d||  lg(rg) alpha_du alpha_pr  ls\n",
      "  40  9.1152140e+03 0.00e+00 4.84e-06 -11.0 5.38e-09    -  1.00e+00 1.00e+00f  1\n",
      "  41  9.1152140e+03 0.00e+00 1.44e-08 -11.0 3.36e-09    -  1.00e+00 1.00e+00f  1\n",
      "\n",
      "Number of Iterations....: 41\n",
      "\n",
      "                                   (scaled)                 (unscaled)\n",
      "Objective...............:   6.2268927930338805e+03    9.1152139589679391e+03\n",
      "Dual infeasibility......:   1.4429331868534077e-08    2.1122324028732823e-08\n",
      "Constraint violation....:   0.0000000000000000e+00    0.0000000000000000e+00\n",
      "Complementarity.........:   9.9999999999999994e-12    1.4638462973323175e-11\n",
      "Overall NLP error.......:   1.4429331868534077e-08    2.1122324028732823e-08\n",
      "\n",
      "\n",
      "Number of objective function evaluations             = 123\n",
      "Number of objective gradient evaluations             = 42\n",
      "Number of equality constraint evaluations            = 0\n",
      "Number of inequality constraint evaluations          = 0\n",
      "Number of equality constraint Jacobian evaluations   = 0\n",
      "Number of inequality constraint Jacobian evaluations = 0\n",
      "Number of Lagrangian Hessian evaluations             = 0\n",
      "Total CPU secs in IPOPT (w/o function evaluations)   =      0.101\n",
      "Total CPU secs in NLP function evaluations           =      0.640\n",
      "\n",
      "EXIT: Optimal Solution Found.\n",
      "  0.778347 seconds (2.51 M allocations: 40.777 MiB)\n"
     ]
    }
   ],
   "source": [
    "@time optm = QuasiCopula.fit!(qc_model,\n",
    "    Ipopt.IpoptSolver(\n",
    "        print_level = 5, \n",
    "        tol = 10^-6, \n",
    "        max_iter = 200,\n",
    "        accept_after_max_steps = 10,\n",
    "        warm_start_init_point=\"yes\", \n",
    "        limited_memory_max_history = 6, # default value\n",
    "        hessian_approximation = \"limited-memory\",\n",
    "#         derivative_test=\"second-order\"\n",
    "    )\n",
    ");"
   ]
  },
  {
   "cell_type": "code",
   "execution_count": 173,
   "metadata": {
    "collapsed": false
   },
   "outputs": [
    {
     "name": "stdout",
     "output_type": "stream",
     "text": [
      "βtrue = [1.0, -0.02, 0.02]\n",
      "qc_model.β = [0.9776953674870325, 7.530496186835535e-5, -0.0015984871858300094]\n",
      "qc_model.∇β = [-2.112232402873282e-8, -1.5168505798635046e-8, 3.1189767435435556e-10]\n",
      "θtrue = [0.1, 0.1]\n",
      "qc_model.θ = [0.09073334294717723, 0.04979787803360874]\n",
      "qc_model.∇θ = [3.4930897063745192e-9, 1.3124647924023236e-8]\n"
     ]
    }
   ],
   "source": [
    "@show βtrue\n",
    "@show qc_model.β\n",
    "@show qc_model.∇β\n",
    "\n",
    "@show θtrue\n",
    "@show qc_model.θ\n",
    "@show qc_model.∇θ;"
   ]
  },
  {
   "cell_type": "markdown",
   "metadata": {},
   "source": [
    "# Loglikelihood function friendly to autodiff"
   ]
  },
  {
   "cell_type": "code",
   "execution_count": 176,
   "metadata": {
    "collapsed": false
   },
   "outputs": [
    {
     "data": {
      "text/plain": [
       "#75 (generic function with 1 method)"
      ]
     },
     "execution_count": 176,
     "metadata": {},
     "output_type": "execute_result"
    }
   ],
   "source": [
    "autodiff_loglikelihood(β) = QuasiCopula.loglikelihood(β, qc_model, z)\n",
    "\n",
    "# autodiff Gradient\n",
    "∇logl = x -> ForwardDiff.gradient(autodiff_loglikelihood, x)\n",
    "\n",
    "# autodiff Hessian\n",
    "∇²logl = x -> ForwardDiff.hessian(autodiff_loglikelihood, x)"
   ]
  },
  {
   "cell_type": "markdown",
   "metadata": {},
   "source": [
    "First, check if `autodiff_loglikelihood` returns same answer as `QuasiCopula.loglikelihood!`"
   ]
  },
  {
   "cell_type": "code",
   "execution_count": 177,
   "metadata": {
    "collapsed": false
   },
   "outputs": [
    {
     "name": "stdout",
     "output_type": "stream",
     "text": [
      "autodiff_loglikelihood(fullβ) = -9115.213958968148\n",
      "QuasiCopula.loglikelihood!(qc_model, false, false) = -9115.21395896794\n"
     ]
    }
   ],
   "source": [
    "i = 1\n",
    "z = convert(Vector{Float64}, @view(G[:, i]), center=true, scale=false)\n",
    "fullβ = [qc_model.β; qc_model.θ; 0.0] # poisson or bernoulli\n",
    "# fullβ = [qc_model.β; qc_model.θ; qc_model.τ; 0.0] # normal\n",
    "\n",
    "@show autodiff_loglikelihood(fullβ)\n",
    "@show QuasiCopula.loglikelihood!(qc_model, false, false);"
   ]
  },
  {
   "cell_type": "markdown",
   "metadata": {},
   "source": [
    "Lets compute a few Hessians"
   ]
  },
  {
   "cell_type": "code",
   "execution_count": 178,
   "metadata": {
    "collapsed": false
   },
   "outputs": [
    {
     "data": {
      "text/plain": [
       "6×6 Matrix{Float64}:\n",
       " -1919.15         1.51325       1.59757    1597.48     1575.14       -1.0216\n",
       "     1.51325  -2260.8          -0.233382    -14.0315     12.8902     -1.21421\n",
       "     1.59757     -0.233382  -2269.25         24.4981     -1.36837     1.91114\n",
       "  1597.48       -14.0315       24.4981    -7326.05      169.748     -28.6415\n",
       "  1575.14        12.8902       -1.36837     169.748   -1791.56        3.10195\n",
       "    -1.0216      -1.21421       1.91114     -28.6415      3.10195  -204.705"
      ]
     },
     "execution_count": 178,
     "metadata": {},
     "output_type": "execute_result"
    }
   ],
   "source": [
    "i = 1\n",
    "z = convert(Vector{Float64}, @view(G[:, i]), center=true, scale=false)\n",
    "Hfull = ∇²logl(fullβ) # snp 1"
   ]
  },
  {
   "cell_type": "code",
   "execution_count": 179,
   "metadata": {
    "collapsed": false
   },
   "outputs": [
    {
     "name": "stdout",
     "output_type": "stream",
     "text": [
      "(-(Hfull[i, j]) / sqrt(-(Hfull[i, i]))) / sqrt(-(Hfull[j, j])) = -0.42603436300632386\n",
      "(-(Hfull[i, j]) / sqrt(-(Hfull[i, i]))) / sqrt(-(Hfull[j, j])) = -0.849472198131595\n"
     ]
    }
   ],
   "source": [
    "# check correlation between VC params and beta\n",
    "i, j = 1, 4\n",
    "@show -Hfull[i, j] / sqrt(-Hfull[i, i]) / sqrt(-Hfull[j, j])\n",
    "i, j = 1, 5\n",
    "@show -Hfull[i, j] / sqrt(-Hfull[i, i]) / sqrt(-Hfull[j, j]);"
   ]
  },
  {
   "cell_type": "code",
   "execution_count": 180,
   "metadata": {
    "collapsed": false
   },
   "outputs": [
    {
     "data": {
      "text/plain": [
       "6×6 Matrix{Float64}:\n",
       " -1919.15         1.51325       1.59757    1597.48     1575.14       -2.87847\n",
       "     1.51325  -2260.8          -0.233382    -14.0315     12.8902    -16.2479\n",
       "     1.59757     -0.233382  -2269.25         24.4981     -1.36837    -6.57504\n",
       "  1597.48       -14.0315       24.4981    -7326.05      169.748     -75.1647\n",
       "  1575.14        12.8902       -1.36837     169.748   -1791.56      -29.2314\n",
       "    -2.87847    -16.2479       -6.57504     -75.1647    -29.2314   -650.334"
      ]
     },
     "execution_count": 180,
     "metadata": {},
     "output_type": "execute_result"
    }
   ],
   "source": [
    "i = 10\n",
    "z = convert(Vector{Float64}, @view(G[:, i]), center=true, scale=false)\n",
    "Hfull = ∇²logl(fullβ) # snp 10"
   ]
  },
  {
   "cell_type": "code",
   "execution_count": 181,
   "metadata": {
    "collapsed": false
   },
   "outputs": [
    {
     "name": "stdout",
     "output_type": "stream",
     "text": [
      "(-(Hfull[i, j]) / sqrt(-(Hfull[i, i]))) / sqrt(-(Hfull[j, j])) = -0.42603436300632386\n",
      "(-(Hfull[i, j]) / sqrt(-(Hfull[i, i]))) / sqrt(-(Hfull[j, j])) = -0.849472198131595\n"
     ]
    }
   ],
   "source": [
    "# check correlation between VC params and beta\n",
    "i, j = 1, 4\n",
    "@show -Hfull[i, j] / sqrt(-Hfull[i, i]) / sqrt(-Hfull[j, j])\n",
    "i, j = 1, 5\n",
    "@show -Hfull[i, j] / sqrt(-Hfull[i, i]) / sqrt(-Hfull[j, j]);"
   ]
  },
  {
   "cell_type": "code",
   "execution_count": 182,
   "metadata": {
    "collapsed": false
   },
   "outputs": [
    {
     "data": {
      "text/plain": [
       "0.15105678954408971"
      ]
     },
     "execution_count": 182,
     "metadata": {},
     "output_type": "execute_result"
    }
   ],
   "source": [
    "W = -Hfull[1:end-1, end]\n",
    "Q = -Hfull[end, end]\n",
    "Pinv = inv(-Hfull[1:end-1, 1:end-1])\n",
    "R = ∇logl(fullβ)[end]\n",
    "S = R * inv(Q - W'*Pinv*W) * R\n",
    "pval = ccdf(Chisq(1), S)"
   ]
  },
  {
   "cell_type": "code",
   "execution_count": 183,
   "metadata": {
    "collapsed": false
   },
   "outputs": [
    {
     "data": {
      "text/plain": [
       "6-element Vector{Float64}:\n",
       " -2.1122262966466465e-8\n",
       " -1.5168279158747633e-8\n",
       "  3.1197817593198174e-10\n",
       "  3.4941168847169024e-9\n",
       "  1.312742081704954e-8\n",
       " 36.03130779123372"
      ]
     },
     "execution_count": 183,
     "metadata": {},
     "output_type": "execute_result"
    }
   ],
   "source": [
    "∇logl(fullβ)"
   ]
  },
  {
   "cell_type": "markdown",
   "metadata": {},
   "source": [
    "## Check QQ plots\n",
    "\n",
    "### Bernoulli"
   ]
  },
  {
   "cell_type": "code",
   "execution_count": 198,
   "metadata": {
    "collapsed": false
   },
   "outputs": [
    {
     "name": "stdout",
     "output_type": "stream",
     "text": [
      " 20.927319 seconds (61.53 k allocations: 39.535 MiB)\n"
     ]
    },
    {
     "data": {
      "text/plain": [
       "1000-element Vector{Float64}:\n",
       " 0.7433054418688728\n",
       " 0.1498748456079768\n",
       " 0.7163035419215176\n",
       " 0.3420178609042697\n",
       " 0.9656899482398111\n",
       " 0.03019372892424596\n",
       " 0.7544246338074008\n",
       " 0.11693703650503014\n",
       " 0.21546507664743714\n",
       " 0.15105678954408971\n",
       " 0.15106638933841401\n",
       " 0.209898434666159\n",
       " 0.3390630799060158\n",
       " ⋮\n",
       " 0.47292849993591823\n",
       " 0.5925055794248527\n",
       " 0.9470179337633564\n",
       " 0.921097579081995\n",
       " 0.9274601587731163\n",
       " 0.6010262018732154\n",
       " 0.6092822843997319\n",
       " 0.10980893453158361\n",
       " 0.8160775830536056\n",
       " 0.04811332599823495\n",
       " 0.05301572762233388\n",
       " 0.29518731010996396"
      ]
     },
     "execution_count": 198,
     "metadata": {},
     "output_type": "execute_result"
    }
   ],
   "source": [
    "@time pvals = QuasiCopula.GWASCopulaVCModel_autodiff(qc_model, G)"
   ]
  },
  {
   "cell_type": "code",
   "execution_count": 196,
   "metadata": {
    "collapsed": false
   },
   "outputs": [
    {
     "name": "stdout",
     "output_type": "stream",
     "text": [
      " 21.108471 seconds (55.53 k allocations: 40.100 MiB)\n"
     ]
    },
    {
     "data": {
      "text/plain": [
       "1000-element Vector{Float64}:\n",
       " 0.7433054418688728\n",
       " 0.1498748456079768\n",
       " 0.7163035419215176\n",
       " 0.3420178609042697\n",
       " 0.9656899482398111\n",
       " 0.03019372892424596\n",
       " 0.7544246338074008\n",
       " 0.11693703650503014\n",
       " 0.21546507664743714\n",
       " 0.15105678954408971\n",
       " 0.15106638933841401\n",
       " 0.209898434666159\n",
       " 0.3390630799060158\n",
       " ⋮\n",
       " 0.47292849993591823\n",
       " 0.5925055794248527\n",
       " 0.9470179337633564\n",
       " 0.921097579081995\n",
       " 0.9274601587731163\n",
       " 0.6010262018732154\n",
       " 0.6092822843997319\n",
       " 0.10980893453158361\n",
       " 0.8160775830536056\n",
       " 0.04811332599823495\n",
       " 0.05301572762233388\n",
       " 0.29518731010996396"
      ]
     },
     "execution_count": 196,
     "metadata": {},
     "output_type": "execute_result"
    }
   ],
   "source": [
    "@time pvals = QuasiCopula.GWASCopulaVCModel_autodiff(qc_model, G)"
   ]
  },
  {
   "cell_type": "code",
   "execution_count": 175,
   "metadata": {
    "collapsed": false
   },
   "outputs": [
    {
     "data": {
      "image/png": "[encoded data removed]"
     },
     "metadata": {},
     "output_type": "display_data"
    }
   ],
   "source": [
    "qq(pvals, dpi=100, titles=\"Bernoulli, $k causal SNPs\")\n",
    "display(\"image/png\", read(\"qqplot.png\"))"
   ]
  },
  {
   "cell_type": "markdown",
   "metadata": {},
   "source": [
    "### Poisson"
   ]
  },
  {
   "cell_type": "code",
   "execution_count": 140,
   "metadata": {
    "collapsed": false
   },
   "outputs": [
    {
     "name": "stdout",
     "output_type": "stream",
     "text": [
      " 28.589258 seconds (11.94 M allocations: 665.492 MiB, 1.92% gc time, 10.78% compilation time)\n"
     ]
    },
    {
     "data": {
      "text/plain": [
       "1000-element Vector{Float64}:\n",
       " 0.6114268725266863\n",
       " 0.1070897825482224\n",
       " 0.4808221686158258\n",
       " 0.744190834942224\n",
       " 0.950482348827627\n",
       " 0.23528673084794868\n",
       " 0.46045653681006116\n",
       " 0.45866209289578674\n",
       " 0.9258876193751494\n",
       " 0.8627151681348451\n",
       " 0.15372568300464257\n",
       " 0.5204998859286512\n",
       " 0.7626078790033816\n",
       " ⋮\n",
       " 0.9035329323344029\n",
       " 0.6592685362102048\n",
       " 0.3928055101450575\n",
       " 0.7713633298069937\n",
       " 0.2389535335631845\n",
       " 0.21632316805960078\n",
       " 0.5398714872768096\n",
       " 0.7179613000061875\n",
       " 0.2610477871041082\n",
       " 0.1960121426222287\n",
       " 0.2119757709621244\n",
       " 0.2488841786630273"
      ]
     },
     "execution_count": 140,
     "metadata": {},
     "output_type": "execute_result"
    }
   ],
   "source": [
    "@time pvals = GWASCopulaVCModel_autodiff(qc_model, G)"
   ]
  },
  {
   "cell_type": "code",
   "execution_count": 142,
   "metadata": {
    "collapsed": false
   },
   "outputs": [
    {
     "name": "stdout",
     "output_type": "stream",
     "text": [
      "length(signif_snps) = 0\n",
      "power = 0.0\n"
     ]
    },
    {
     "data": {
      "text/plain": [
       "0.0"
      ]
     },
     "execution_count": 142,
     "metadata": {},
     "output_type": "execute_result"
    }
   ],
   "source": [
    "correct_snps = findall(!iszero, γtrue)\n",
    "signif_snps = findall(x -> x < 0.05/length(pvals), pvals)\n",
    "power = length(correct_snps ∩ signif_snps) / max(1, length(correct_snps))\n",
    "\n",
    "@show length(signif_snps)\n",
    "@show power"
   ]
  },
  {
   "cell_type": "code",
   "execution_count": 143,
   "metadata": {
    "collapsed": false
   },
   "outputs": [
    {
     "data": {
      "text/plain": [
       "Float64[]"
      ]
     },
     "execution_count": 143,
     "metadata": {},
     "output_type": "execute_result"
    }
   ],
   "source": [
    "# pvalues of truly causal SNPs\n",
    "pvals[correct_snps] |> sort"
   ]
  },
  {
   "cell_type": "code",
   "execution_count": 144,
   "metadata": {
    "collapsed": false
   },
   "outputs": [
    {
     "data": {
      "text/plain": [
       "1000-element Vector{Float64}:\n",
       " 7.774419750037377e-5\n",
       " 0.0007995735158536389\n",
       " 0.0014701534337042362\n",
       " 0.0023052624910533167\n",
       " 0.0032960856216279174\n",
       " 0.0045025374492216885\n",
       " 0.007228559546037386\n",
       " 0.00871530231445743\n",
       " 0.009464796774703342\n",
       " 0.009500401842390423\n",
       " 0.010496950215314155\n",
       " 0.012832798228600159\n",
       " 0.013572084093715341\n",
       " ⋮\n",
       " 0.9920031583740274\n",
       " 0.9929075203129113\n",
       " 0.992935227855631\n",
       " 0.9929518639402093\n",
       " 0.9952200936210467\n",
       " 0.9955531576454074\n",
       " 0.995731012918804\n",
       " 0.9964340911964977\n",
       " 0.9968085641471957\n",
       " 0.9988088543252713\n",
       " 0.9995714607152042\n",
       " 0.9998427630853882"
      ]
     },
     "execution_count": 144,
     "metadata": {},
     "output_type": "execute_result"
    }
   ],
   "source": [
    "# pvalues of all SNPs sorted by significance\n",
    "sort(pvals)"
   ]
  },
  {
   "cell_type": "code",
   "execution_count": 145,
   "metadata": {
    "collapsed": false
   },
   "outputs": [
    {
     "data": {
      "image/png": "[encoded data removed]"
     },
     "metadata": {},
     "output_type": "display_data"
    }
   ],
   "source": [
    "qq(pvals, dpi=100, titles=\"Poisson, $k causal SNPs\")\n",
    "display(\"image/png\", read(\"qqplot.png\"))"
   ]
  },
  {
   "cell_type": "markdown",
   "metadata": {},
   "source": [
    "### Normal"
   ]
  },
  {
   "cell_type": "code",
   "execution_count": 161,
   "metadata": {
    "collapsed": false
   },
   "outputs": [
    {
     "name": "stdout",
     "output_type": "stream",
     "text": [
      " 25.604872 seconds (2.98 M allocations: 189.687 MiB, 0.09% gc time, 2.54% compilation time)\n"
     ]
    },
    {
     "data": {
      "text/plain": [
       "1000-element Vector{Float64}:\n",
       " 0.24465953017198147\n",
       " 0.009741891736981027\n",
       " 0.7567517986287128\n",
       " 0.4535554720965867\n",
       " 0.3452760068789352\n",
       " 0.5307896341388307\n",
       " 0.9904425612163903\n",
       " 0.5069914738526093\n",
       " 0.26311222865636374\n",
       " 0.492781311235218\n",
       " 0.6944152891166855\n",
       " 0.9110781982219424\n",
       " 0.6676099440726022\n",
       " ⋮\n",
       " 0.9621950407729223\n",
       " 0.30575034422284897\n",
       " 0.8554907435007886\n",
       " 0.47056664465245246\n",
       " 0.21058684775370182\n",
       " 0.30712783776048014\n",
       " 0.71620468448529\n",
       " 0.7427197831010647\n",
       " 0.9002203228180086\n",
       " 0.15077039902942807\n",
       " 0.7941846237269187\n",
       " 0.06887147552189807"
      ]
     },
     "execution_count": 161,
     "metadata": {},
     "output_type": "execute_result"
    }
   ],
   "source": [
    "@time pvals = GWASCopulaVCModel_autodiff(qc_model, G)"
   ]
  },
  {
   "cell_type": "code",
   "execution_count": 162,
   "metadata": {
    "collapsed": false
   },
   "outputs": [
    {
     "name": "stdout",
     "output_type": "stream",
     "text": [
      "length(signif_snps) = 0\n",
      "power = 0.0\n"
     ]
    },
    {
     "data": {
      "text/plain": [
       "0.0"
      ]
     },
     "execution_count": 162,
     "metadata": {},
     "output_type": "execute_result"
    }
   ],
   "source": [
    "correct_snps = findall(!iszero, γtrue)\n",
    "signif_snps = findall(x -> x < 0.05/length(pvals), pvals)\n",
    "power = length(correct_snps ∩ signif_snps) / max(1, length(correct_snps))\n",
    "\n",
    "@show length(signif_snps)\n",
    "@show power"
   ]
  },
  {
   "cell_type": "code",
   "execution_count": 163,
   "metadata": {
    "collapsed": false
   },
   "outputs": [
    {
     "data": {
      "text/plain": [
       "Float64[]"
      ]
     },
     "execution_count": 163,
     "metadata": {},
     "output_type": "execute_result"
    }
   ],
   "source": [
    "# pvalues of truly causal SNPs\n",
    "pvals[correct_snps] |> sort"
   ]
  },
  {
   "cell_type": "code",
   "execution_count": 164,
   "metadata": {
    "collapsed": false
   },
   "outputs": [
    {
     "data": {
      "text/plain": [
       "1000-element Vector{Float64}:\n",
       " 0.0012751656205525225\n",
       " 0.0016027816489660603\n",
       " 0.0028623669696721914\n",
       " 0.003959580728971236\n",
       " 0.0052060611954021984\n",
       " 0.006395370251445862\n",
       " 0.007019073586846049\n",
       " 0.007134156007834394\n",
       " 0.009741891736981027\n",
       " 0.010386259143514922\n",
       " 0.010426917301049974\n",
       " 0.01065502403732776\n",
       " 0.012274771875088185\n",
       " ⋮\n",
       " 0.9880104822446031\n",
       " 0.9904425612163903\n",
       " 0.9905189519417772\n",
       " 0.9906432097326853\n",
       " 0.9923209905422546\n",
       " 0.9927615390304259\n",
       " 0.9933161413567163\n",
       " 0.9941293211269938\n",
       " 0.9945405005876492\n",
       " 0.9953517907746027\n",
       " 0.9976181881079547\n",
       " 0.9988153189582745"
      ]
     },
     "execution_count": 164,
     "metadata": {},
     "output_type": "execute_result"
    }
   ],
   "source": [
    "# pvalues of all SNPs sorted by significance\n",
    "sort(pvals)"
   ]
  },
  {
   "cell_type": "code",
   "execution_count": 165,
   "metadata": {
    "collapsed": false
   },
   "outputs": [
    {
     "data": {
      "image/png": "[encoded data removed]"
     },
     "metadata": {},
     "output_type": "display_data"
    }
   ],
   "source": [
    "qq(pvals, dpi=100, titles=\"Normal, $k causal SNPs\")\n",
    "display(\"image/png\", read(\"qqplot.png\"))"
   ]
  }
 ],
 "metadata": {
  "@webio": {
   "lastCommId": null,
   "lastKernelId": null
  },
  "kernelspec": {
   "display_name": "Julia 1.7.3",
   "language": "julia",
   "name": "julia-1.7"
  },
  "language_info": {
   "file_extension": ".jl",
   "mimetype": "application/julia",
   "name": "julia",
   "version": "1.7.3"
  },
  "toc": {
   "base_numbering": 1,
   "nav_menu": {},
   "number_sections": true,
   "sideBar": true,
   "skip_h1_title": false,
   "title_cell": "Table of Contents",
   "title_sidebar": "Contents",
   "toc_cell": false,
   "toc_position": {},
   "toc_section_display": true,
   "toc_window_display": false
  }
 },
 "nbformat": 4,
 "nbformat_minor": 2
}
