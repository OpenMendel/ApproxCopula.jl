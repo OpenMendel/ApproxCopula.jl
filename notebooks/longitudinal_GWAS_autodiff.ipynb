{
 "cells": [
  {
   "cell_type": "markdown",
   "metadata": {},
   "source": [
    "# Longitudinal QuasiCopula GWAS with Mixed Marginals\n",
    "\n",
    "Here we will use autodiff to compute all gradient/Hessian terms (e.g. Q, W, R) and see if that gives good p-values. "
   ]
  },
  {
   "cell_type": "code",
   "execution_count": 1,
   "metadata": {
    "collapsed": false
   },
   "outputs": [
    {
     "name": "stderr",
     "output_type": "stream",
     "text": [
      "┌ Info: Precompiling QuasiCopula [c47b6ae2-b804-4668-9957-eb588c99ffbc]\n",
      "└ @ Base loading.jl:1423\n"
     ]
    },
    {
     "data": {
      "text/plain": [
       "_make_snparray (generic function with 1 method)"
      ]
     },
     "execution_count": 1,
     "metadata": {},
     "output_type": "execute_result"
    }
   ],
   "source": [
    "using Revise\n",
    "using DataFrames, Random, GLM, QuasiCopula\n",
    "using ForwardDiff, Test, LinearAlgebra\n",
    "using LinearAlgebra: BlasReal, copytri!\n",
    "using ToeplitzMatrices\n",
    "using BenchmarkTools\n",
    "using SnpArrays\n",
    "using MendelPlots\n",
    "ENV[\"COLUMNS\"] = 240\n",
    "\n",
    "BLAS.set_num_threads(1)\n",
    "Threads.nthreads()\n",
    "\n",
    "function simulate_random_snparray(s::Union{String, UndefInitializer}, n::Int64,\n",
    "    p::Int64; mafs::Vector{Float64}=zeros(Float64, p), min_ma::Int = 5)\n",
    "\n",
    "    #first simulate a random {0, 1, 2} matrix with each SNP drawn from Binomial(2, r[i])\n",
    "    A1 = BitArray(undef, n, p) \n",
    "    A2 = BitArray(undef, n, p) \n",
    "    for j in 1:p\n",
    "        minor_alleles = 0\n",
    "        maf = 0\n",
    "        while minor_alleles <= min_ma\n",
    "            maf = 0.5rand()\n",
    "            for i in 1:n\n",
    "                A1[i, j] = rand(Bernoulli(maf))\n",
    "                A2[i, j] = rand(Bernoulli(maf))\n",
    "            end\n",
    "            minor_alleles = sum(view(A1, :, j)) + sum(view(A2, :, j))\n",
    "        end\n",
    "        mafs[j] = maf\n",
    "    end\n",
    "\n",
    "    #fill the SnpArray with the corresponding x_tmp entry\n",
    "    return _make_snparray(s, A1, A2)\n",
    "end\n",
    "\n",
    "function _make_snparray(s::Union{String, UndefInitializer}, A1::BitArray, A2::BitArray)\n",
    "    n, p = size(A1)\n",
    "    x = SnpArray(s, n, p)\n",
    "    for i in 1:(n*p)\n",
    "        c = A1[i] + A2[i]\n",
    "        if c == 0\n",
    "            x[i] = 0x00\n",
    "        elseif c == 1\n",
    "            x[i] = 0x02\n",
    "        elseif c == 2\n",
    "            x[i] = 0x03\n",
    "        else\n",
    "            throw(MissingException(\"matrix shouldn't have missing values!\"))\n",
    "        end\n",
    "    end\n",
    "    return x\n",
    "end"
   ]
  },
  {
   "cell_type": "markdown",
   "metadata": {},
   "source": [
    "## Simulate data"
   ]
  },
  {
   "cell_type": "code",
   "execution_count": 146,
   "metadata": {
    "collapsed": false,
    "scrolled": true
   },
   "outputs": [
    {
     "name": "stdout",
     "output_type": "stream",
     "text": [
      "qc_model = Quasi-Copula Variance Component Model\n",
      "  * base distribution: Normal\n",
      "  * link function: IdentityLink\n",
      "  * number of clusters: 5000\n",
      "  * cluster size min, max: 2, 5\n",
      "  * number of variance components: 2\n",
      "  * number of fixed effects: 3\n",
      "\n"
     ]
    }
   ],
   "source": [
    "function simulate_VC_longitudinal(;\n",
    "    n = 1000, # sample size\n",
    "    d = 2, # number of observations per sample\n",
    "    p = 3, # number of nongenetic covariates, including intercept\n",
    "    m = 1, # number of variance components\n",
    "    q = 1000, # number of SNPs\n",
    "    k = 10, # number of causal SNPs\n",
    "    seed = 2022,\n",
    "    y_distribution = Bernoulli,\n",
    "    T = Float64,\n",
    "    )\n",
    "    m == 1 || m == 2 || error(\"m (number of VC) must be 1 or 2\")\n",
    "    \n",
    "    # non-genetic effect sizes\n",
    "    Random.seed!(seed)\n",
    "    βtrue = [1.0; rand(-0.02:0.04:0.02, p-1)]\n",
    "    dist = y_distribution()\n",
    "    link = canonicallink(dist)\n",
    "    Dist = typeof(dist)\n",
    "    Link = typeof(link)\n",
    "\n",
    "    # variance components\n",
    "    θtrue = fill(0.1, m)\n",
    "\n",
    "    # simulate design matrices\n",
    "    Random.seed!(seed)\n",
    "    X_full = Matrix{Float64}[]\n",
    "    for i in 1:n\n",
    "        nobs = rand(2:d)\n",
    "        push!(X_full, hcat(ones(nobs), randn(nobs, p - 1)))\n",
    "    end\n",
    "\n",
    "    # simulate random SnpArray with q SNPs and randomly choose k SNPs to be causal\n",
    "    Random.seed!(2022)\n",
    "    G = simulate_random_snparray(undef, n, q)\n",
    "    Gfloat = convert(Matrix{T}, G, center=true, scale=false)\n",
    "    γtrue = zeros(q)\n",
    "    γtrue[1:k] .= rand([-0.2, 0.2], k)\n",
    "    shuffle!(γtrue)\n",
    "    η_G = Gfloat * γtrue\n",
    "\n",
    "    # simulate phenotypes\n",
    "    if y_distribution == Normal\n",
    "        τtrue = 10.0\n",
    "        σ2 = inv(τtrue)\n",
    "        σ = sqrt(σ2)\n",
    "        obs = Vector{GaussianCopulaVCObs{T}}(undef, n)\n",
    "        for i in 1:n\n",
    "            # data matrix\n",
    "            X = X_full[i]\n",
    "            η = X * βtrue\n",
    "            η .+= η_G[i] # add genetic effects\n",
    "            μ = GLM.linkinv.(link, η)\n",
    "            vecd = Vector{ContinuousUnivariateDistribution}(undef, size(X, 1))\n",
    "            # VC matrices\n",
    "            V1 = ones(size(X, 1), size(X, 1))\n",
    "            V2 = Matrix(I, size(X, 1), size(X, 1))\n",
    "            Γ = m == 1 ? θtrue[1] * V1 : θtrue[1] * V1 + θtrue[2] * V2\n",
    "            for i in 1:size(X, 1)\n",
    "                vecd[i] = y_distribution(μ[i], σ)\n",
    "            end\n",
    "            nonmixed_multivariate_dist = NonMixedMultivariateDistribution(vecd, Γ)\n",
    "            # simuate single vector y\n",
    "            y = Vector{T}(undef, size(X, 1))\n",
    "            res = Vector{T}(undef, size(X, 1))\n",
    "            rand(nonmixed_multivariate_dist, y, res)\n",
    "            V = m == 1 ? [V1] : [V1, V2]\n",
    "            obs[i] = GaussianCopulaVCObs(y, X, V)\n",
    "        end\n",
    "        qc_model = GaussianCopulaVCModel(obs)\n",
    "    else\n",
    "        obs = Vector{GLMCopulaVCObs{T, Dist, Link}}(undef, n)\n",
    "        for i in 1:n\n",
    "            # data matrix\n",
    "            X = X_full[i]\n",
    "            η = X * βtrue\n",
    "            η .+= η_G[i] # add genetic effects\n",
    "            μ = GLM.linkinv.(link, η)\n",
    "            # VC matrices\n",
    "            V1 = ones(size(X, 1), size(X, 1))\n",
    "            V2 = Matrix(I, size(X, 1), size(X, 1))\n",
    "            Γ = m == 1 ? θtrue[1] * V1 : θtrue[1] * V1 + θtrue[2] * V2\n",
    "            vecd = Vector{DiscreteUnivariateDistribution}(undef, size(X, 1))\n",
    "            for i in 1:size(X, 1)\n",
    "                vecd[i] = y_distribution(μ[i])\n",
    "            end\n",
    "            nonmixed_multivariate_dist = NonMixedMultivariateDistribution(vecd, Γ)\n",
    "            # simuate single vector y\n",
    "            y = Vector{T}(undef, size(X, 1))\n",
    "            res = Vector{T}(undef, size(X, 1))\n",
    "            rand(nonmixed_multivariate_dist, y, res)\n",
    "            V = m == 1 ? [V1] : [V1, V2]\n",
    "            obs[i] = GLMCopulaVCObs(y, X, V, dist, link)\n",
    "        end\n",
    "        qc_model = GLMCopulaVCModel(obs)\n",
    "    end\n",
    "    return qc_model, Γ, G, βtrue, θtrue, γtrue\n",
    "end\n",
    "\n",
    "k = 0 # number of causal SNPs\n",
    "\n",
    "qc_model, Γ, G, βtrue, θtrue, γtrue = simulate_VC_longitudinal(\n",
    "    n = 5000, # sample size\n",
    "    d = 5, # number of observations per sample\n",
    "    p = 3, # number of fixed effects, including intercept\n",
    "    m = 2, # number of variance components\n",
    "    q = 1000, # number of SNPs\n",
    "    k = k, # number of causal SNPs\n",
    "    seed = 2022,\n",
    "    y_distribution = Normal,\n",
    "    T = Float64,\n",
    ")\n",
    "\n",
    "@show qc_model;\n"
   ]
  },
  {
   "cell_type": "markdown",
   "metadata": {},
   "source": [
    "## Fit Null model"
   ]
  },
  {
   "cell_type": "code",
   "execution_count": 147,
   "metadata": {
    "collapsed": false,
    "scrolled": true
   },
   "outputs": [
    {
     "name": "stdout",
     "output_type": "stream",
     "text": [
      "This is Ipopt version 3.13.4, running with linear solver mumps.\n",
      "NOTE: Other linear solvers might be more efficient (see Ipopt documentation).\n",
      "\n",
      "Number of nonzeros in equality constraint Jacobian...:        0\n",
      "Number of nonzeros in inequality constraint Jacobian.:        0\n",
      "Number of nonzeros in Lagrangian Hessian.............:        0\n",
      "\n",
      "Total number of variables............................:        6\n",
      "                     variables with only lower bounds:        3\n",
      "                variables with lower and upper bounds:        0\n",
      "                     variables with only upper bounds:        0\n",
      "Total number of equality constraints.................:        0\n",
      "Total number of inequality constraints...............:        0\n",
      "        inequality constraints with only lower bounds:        0\n",
      "   inequality constraints with lower and upper bounds:        0\n",
      "        inequality constraints with only upper bounds:        0\n",
      "\n",
      "iter    objective    inf_pr   inf_du lg(mu)  ||d||  lg(rg) alpha_du alpha_pr  ls\n",
      "   0  5.9320543e+03 0.00e+00 2.96e+01   0.0 0.00e+00    -  0.00e+00 0.00e+00   0\n",
      "   1  5.9423745e+03 0.00e+00 1.23e+03  -4.0 2.96e+01    -  1.00e+00 2.81e-04h 11\n",
      "   2  5.9320481e+03 0.00e+00 1.74e-01  -3.9 8.13e-03    -  1.00e+00 1.00e+00f  1\n",
      "   3  5.9320481e+03 0.00e+00 1.73e-01  -5.8 1.19e-06    -  1.00e+00 1.00e+00f  1\n",
      "   4  5.9320481e+03 0.00e+00 1.71e-01  -5.9 8.19e-06    -  1.00e+00 1.00e+00f  1\n",
      "   5  5.9320481e+03 0.00e+00 2.88e-01  -7.7 3.80e-05    -  1.00e+00 1.00e+00f  1\n",
      "   6  5.9320481e+03 0.00e+00 1.99e-01  -9.6 1.17e-04    -  1.00e+00 6.25e-02f  5\n",
      "   7  5.9320481e+03 0.00e+00 3.09e-02  -9.7 4.72e-06    -  1.00e+00 1.00e+00f  1\n",
      "   8  5.9320481e+03 0.00e+00 2.10e-02 -11.0 1.81e-06    -  1.00e+00 1.00e+00f  1\n",
      "   9  5.9320481e+03 0.00e+00 2.83e-02 -11.0 4.74e-06    -  1.00e+00 1.00e+00f  1\n",
      "iter    objective    inf_pr   inf_du lg(mu)  ||d||  lg(rg) alpha_du alpha_pr  ls\n",
      "  10  5.9320481e+03 0.00e+00 8.35e-02 -11.0 2.37e-04    -  1.00e+00 1.56e-02f  7\n",
      "  11  5.9320481e+03 0.00e+00 1.90e-01 -11.0 4.54e-05    -  1.00e+00 2.50e-01f  3\n",
      "  12  5.9320481e+03 0.00e+00 2.65e-01 -11.0 9.83e-05    -  1.00e+00 5.00e-01f  2\n",
      "  13  5.9320481e+03 0.00e+00 2.21e-01 -11.0 2.19e-03    -  1.00e+00 3.12e-02f  6\n",
      "  14  5.9320481e+03 0.00e+00 3.89e-01 -11.0 8.28e-05    -  1.00e+00 2.50e-01f  3\n",
      "  15  5.9320481e+03 0.00e+00 6.70e-01 -11.0 1.05e-03    -  1.00e+00 1.00e+00f  1\n",
      "  16  5.9320481e+03 0.00e+00 1.14e+00 -11.0 9.78e-03    -  1.00e+00 6.25e-02f  5\n",
      "  17  5.9320481e+03 0.00e+00 1.77e+00 -11.0 5.44e-01    -  1.00e+00 5.80e-04f 11\n",
      "  18  5.9320481e+03 0.00e+00 3.62e-01 -10.9 1.23e+00    -  1.00e+00 1.97e-03f  8\n",
      "  19  5.9320481e+03 0.00e+00 2.88e-01 -11.0 2.52e-02    -  1.00e+00 9.77e-04h 11\n",
      "iter    objective    inf_pr   inf_du lg(mu)  ||d||  lg(rg) alpha_du alpha_pr  ls\n",
      "  20  5.9320481e+03 0.00e+00 5.43e-02 -10.8 1.21e-03    -  1.00e+00 1.00e+00f  1\n",
      "  21  5.9320481e+03 0.00e+00 4.49e-01 -11.0 4.20e-02    -  1.00e+00 9.77e-04h 11\n",
      "  22  5.9320481e+03 0.00e+00 8.45e-02 -11.0 4.72e-05    -  1.00e+00 1.00e+00f  1\n",
      "  23  5.9320481e+03 0.00e+00 9.25e-02 -11.0 2.54e-03    -  1.00e+00 3.12e-02f  6\n",
      "  24  5.9320481e+03 0.00e+00 1.23e-01 -11.0 3.24e-02    -  1.00e+00 1.95e-03f 10\n",
      "  25  5.9320481e+03 0.00e+00 1.35e-01 -11.0 1.22e-02    -  1.00e+00 1.95e-03f 10\n",
      "  26  5.9320481e+03 0.00e+00 1.42e-01 -11.0 1.10e-03    -  1.00e+00 7.81e-03f  8\n",
      "  27  5.9320481e+03 0.00e+00 4.98e-02 -11.0 1.54e-04    -  1.00e+00 5.00e-01f  2\n",
      "  28  5.9320481e+03 0.00e+00 3.23e-02 -11.0 1.40e-02    -  1.00e+00 7.81e-03f  8\n",
      "  29  5.9320481e+03 0.00e+00 2.78e-02 -11.0 4.02e-03    -  1.00e+00 9.77e-04h 11\n",
      "iter    objective    inf_pr   inf_du lg(mu)  ||d||  lg(rg) alpha_du alpha_pr  ls\n",
      "  30  5.9320481e+03 0.00e+00 3.63e-02 -11.0 3.55e-05    -  1.00e+00 2.50e-01f  3\n",
      "  31  5.9320481e+03 0.00e+00 2.13e-02 -11.0 4.22e-03    -  1.00e+00 3.91e-03f  9\n",
      "  32  5.9320481e+03 0.00e+00 8.13e-03 -11.0 3.49e-03    -  1.00e+00 9.77e-04f 11\n",
      "  33  5.9320481e+03 0.00e+00 4.70e-01 -11.0 1.65e-04    -  1.00e+00 1.00e+00w  1\n",
      "  34  5.9320481e+03 0.00e+00 7.56e-03 -11.0 1.97e-04    -  1.00e+00 1.00e+00w  1\n",
      "  35  5.9320483e+03 0.00e+00 4.57e+00 -11.0 6.28e-03    -  1.00e+00 1.00e+00w  1\n",
      "  36  5.9320481e+03 0.00e+00 7.65e-03 -11.0 3.27e-02    -  1.00e+00 1.56e-02f  6\n",
      "  37  5.9320481e+03 0.00e+00 1.46e-02 -11.0 8.71e-03    -  1.00e+00 9.77e-04h 11\n",
      "  38  5.9320481e+03 0.00e+00 1.21e-02 -11.0 2.27e-03    -  1.00e+00 1.95e-03f 10\n",
      "  39  5.9320481e+03 0.00e+00 1.83e-02 -11.0 2.46e-03    -  1.00e+00 9.77e-04h 11\n",
      "iter    objective    inf_pr   inf_du lg(mu)  ||d||  lg(rg) alpha_du alpha_pr  ls\n",
      "  40  5.9320481e+03 0.00e+00 5.63e-03 -11.0 3.82e-06    -  1.00e+00 1.00e+00f  1\n",
      "  41  5.9320481e+03 0.00e+00 4.12e-03 -11.0 3.21e-04    -  1.00e+00 1.56e-02f  7\n",
      "  42  5.9320481e+03 0.00e+00 1.33e-02 -11.0 7.55e-04    -  1.00e+00 7.81e-03f  8\n",
      "  43  5.9320481e+03 0.00e+00 1.23e-02 -11.0 4.60e-05    -  1.00e+00 1.25e-01f  4\n",
      "  44  5.9320481e+03 0.00e+00 4.03e-03 -11.0 3.04e-03    -  1.00e+00 1.95e-03f 10\n",
      "  45  5.9320481e+03 0.00e+00 2.72e-03 -11.0 1.29e-03    -  1.00e+00 1.95e-03f 10\n",
      "  46  5.9320481e+03 0.00e+00 5.30e-03 -11.0 3.79e-04    -  1.00e+00 9.77e-04h 11\n",
      "  47  5.9320481e+03 0.00e+00 7.86e-04 -11.0 7.67e-07    -  1.00e+00 1.00e+00f  1\n",
      "  48  5.9320481e+03 0.00e+00 2.17e-03 -11.0 5.68e-05    -  1.00e+00 3.12e-02f  6\n",
      "  49  5.9320481e+03 0.00e+00 2.25e-03 -11.0 1.85e-04    -  1.00e+00 1.95e-03f 10\n",
      "iter    objective    inf_pr   inf_du lg(mu)  ||d||  lg(rg) alpha_du alpha_pr  ls\n",
      "  50  5.9320481e+03 0.00e+00 1.10e-04 -11.0 3.10e-07    -  1.00e+00 1.00e+00f  1\n",
      "  51  5.9320481e+03 0.00e+00 4.38e-04 -11.0 5.44e-06    -  1.00e+00 1.25e-01f  4\n",
      "  52  5.9320481e+03 0.00e+00 7.85e-04 -11.0 4.77e-05    -  1.00e+00 3.91e-03f  9\n",
      "  53  5.9320481e+03 0.00e+00 8.24e-04 -11.0 2.80e-06    -  1.00e+00 2.50e-01f  3\n",
      "  54  5.9320481e+03 0.00e+00 1.30e-03 -11.0 9.30e-05    -  1.00e+00 1.56e-02f  7\n",
      "  55  5.9320481e+03 0.00e+00 1.82e-03 -11.0 1.38e-04    -  1.00e+00 9.77e-04f 11\n",
      "  56  5.9320481e+03 0.00e+00 1.80e-03 -11.0 5.28e-06    -  1.00e+00 7.81e-03f  8\n",
      "  57  5.9320481e+03 0.00e+00 1.63e-03 -11.0 1.18e-05    -  1.00e+00 7.81e-03f  8\n",
      "  58  5.9320481e+03 0.00e+00 1.25e-03 -11.0 1.28e-06    -  1.00e+00 5.00e-01f  2\n",
      "  59  5.9320481e+03 0.00e+00 2.41e-03 -11.0 7.86e-05    -  1.00e+00 7.81e-03f  8\n",
      "iter    objective    inf_pr   inf_du lg(mu)  ||d||  lg(rg) alpha_du alpha_pr  ls\n",
      "  60  5.9320481e+03 0.00e+00 2.09e-03 -11.0 4.46e-05    -  1.00e+00 1.56e-02f  7\n",
      "  61  5.9320481e+03 0.00e+00 1.60e-01 -11.0 2.36e-04    -  1.00e+00 1.00e+00w  1\n",
      "  62  5.9320481e+03 0.00e+00 2.53e-01 -11.0 2.37e-04    -  1.00e+00 1.00e+00w  1\n",
      "  63  5.9320485e+03 0.00e+00 4.18e+00 -11.0 2.55e-03    -  1.00e+00 1.00e+00w  1\n",
      "  64  5.9320481e+03 0.00e+00 1.74e-03 -11.0 1.85e-02    -  1.00e+00 3.91e-03f  8\n",
      "  65  5.9320481e+03 0.00e+00 1.75e-03 -11.0 3.63e-04    -  1.00e+00 1.95e-03f 10\n",
      "  66  5.9320481e+03 0.00e+00 2.68e-03 -11.0 2.48e-04    -  1.00e+00 3.91e-03f  9\n",
      "  67  5.9320481e+03 0.00e+00 2.05e-03 -11.0 3.97e-04    -  1.00e+00 1.95e-03f 10\n",
      "  68  5.9320481e+03 0.00e+00 1.78e-03 -11.0 2.87e-04    -  1.00e+00 3.91e-03f  9\n",
      "  69  5.9320481e+03 0.00e+00 2.30e-03 -11.0 3.53e-04    -  1.00e+00 1.95e-03f 10\n",
      "iter    objective    inf_pr   inf_du lg(mu)  ||d||  lg(rg) alpha_du alpha_pr  ls\n",
      "  70  5.9320481e+03 0.00e+00 4.67e-05 -11.0 1.07e-06    -  1.00e+00 1.00e+00f  1\n",
      "  71  5.9320481e+03 0.00e+00 3.72e-04 -11.0 2.23e-07    -  1.00e+00 1.00e+00f  1\n",
      "  72  5.9320481e+03 0.00e+00 1.18e-03 -11.0 7.37e-06    -  1.00e+00 1.25e-01f  4\n",
      "  73  5.9320481e+03 0.00e+00 1.78e-03 -11.0 1.17e-06    -  1.00e+00 3.12e-02f  6\n",
      "  74  5.9320481e+03 0.00e+00 4.19e-04 -11.0 3.27e-07    -  1.00e+00 1.00e+00f  1\n",
      "  75  5.9320481e+03 0.00e+00 8.19e-04 -11.0 3.77e-05    -  1.00e+00 1.56e-02f  7\n",
      "  76  5.9320481e+03 0.00e+00 1.02e-03 -11.0 7.65e-05    -  1.00e+00 1.56e-02f  7\n",
      "  77  5.9320481e+03 0.00e+00 1.18e-03 -11.0 3.99e-06    -  1.00e+00 6.25e-02f  5\n",
      "  78  5.9320481e+03 0.00e+00 6.51e-04 -11.0 5.30e-05    -  1.00e+00 7.81e-03f  8\n",
      "  79  5.9320481e+03 0.00e+00 1.17e-03 -11.0 6.05e-05    -  1.00e+00 1.56e-02f  7\n",
      "iter    objective    inf_pr   inf_du lg(mu)  ||d||  lg(rg) alpha_du alpha_pr  ls\n",
      "  80  5.9320481e+03 0.00e+00 1.29e-03 -11.0 5.11e-05    -  1.00e+00 1.56e-02f  7\n",
      "  81  5.9320481e+03 0.00e+00 1.49e-03 -11.0 5.20e-05    -  1.00e+00 1.95e-03f 10\n",
      "  82  5.9320481e+03 0.00e+00 7.05e-04 -11.0 5.63e-06    -  1.00e+00 1.25e-01f  4\n",
      "  83  5.9320481e+03 0.00e+00 3.47e-04 -11.0 1.48e-04    -  1.00e+00 7.81e-03f  8\n",
      "  84  5.9320481e+03 0.00e+00 2.67e-04 -11.0 9.19e-05    -  1.00e+00 9.77e-04h 11\n",
      "  85  5.9320481e+03 0.00e+00 1.04e-01 -11.0 5.28e-05    -  1.00e+00 1.00e+00w  1\n",
      "  86  5.9320481e+03 0.00e+00 4.87e-02 -11.0 8.70e-05    -  1.00e+00 1.00e+00w  1\n",
      "  87  5.9320583e+03 0.00e+00 3.13e+01 -11.0 2.52e-02    -  1.00e+00 1.00e+00w  1\n",
      "  88  5.9320481e+03 0.00e+00 1.37e-03 -11.0 7.77e-02    -  1.00e+00 1.56e-02f  6\n",
      "  89  5.9320481e+03 0.00e+00 2.70e-03 -11.0 1.27e-04    -  1.00e+00 9.77e-04f 11\n",
      "iter    objective    inf_pr   inf_du lg(mu)  ||d||  lg(rg) alpha_du alpha_pr  ls\n",
      "  90  5.9320481e+03 0.00e+00 1.73e-03 -11.0 3.82e-07    -  1.00e+00 2.50e-01f  3\n",
      "  91  5.9320481e+03 0.00e+00 1.06e-03 -11.0 7.30e-06    -  1.00e+00 2.50e-01f  3\n",
      "  92  5.9320481e+03 0.00e+00 9.37e-04 -11.0 1.55e-04    -  1.00e+00 9.77e-04h 11\n",
      "  93  5.9320481e+03 0.00e+00 1.92e-03 -11.0 2.58e-06    -  1.00e+00 1.25e-01f  4\n",
      "  94  5.9320481e+03 0.00e+00 1.17e-03 -11.0 1.19e-05    -  1.00e+00 2.50e-01f  3\n",
      "  95  5.9320481e+03 0.00e+00 1.37e-03 -11.0 5.20e-04    -  1.00e+00 1.95e-03f 10\n",
      "  96  5.9320481e+03 0.00e+00 1.97e-03 -11.0 3.70e-04    -  1.00e+00 9.77e-04h 11\n",
      "  97  5.9320481e+03 0.00e+00 1.71e-03 -11.0 2.77e-06    -  1.00e+00 3.12e-02f  6\n",
      "  98  5.9320481e+03 0.00e+00 2.05e-03 -11.0 2.96e-06    -  1.00e+00 1.00e+00f  1\n",
      "  99  5.9320481e+03 0.00e+00 1.99e-03 -11.0 1.64e-03    -  1.00e+00 9.77e-04f 11\n",
      "iter    objective    inf_pr   inf_du lg(mu)  ||d||  lg(rg) alpha_du alpha_pr  ls\n",
      " 100  5.9320481e+03 0.00e+00 2.18e-03 -11.0 3.38e-05    -  1.00e+00 9.77e-04h 11\n",
      " 101  5.9320481e+03 0.00e+00 1.89e-03 -11.0 3.86e-06    -  1.00e+00 1.00e+00f  1\n",
      " 102  5.9320481e+03 0.00e+00 4.12e-03 -11.0 2.56e-03    -  1.00e+00 9.77e-04h 11\n",
      " 103  5.9320481e+03 0.00e+00 3.45e-03 -11.0 5.34e-05    -  1.00e+00 9.77e-04f 11\n",
      " 104  5.9320481e+03 0.00e+00 1.48e-04 -11.0 1.61e-07    -  1.00e+00 1.00e+00f  1\n",
      " 105  5.9320481e+03 0.00e+00 3.54e-05 -11.0 1.63e-07    -  1.00e+00 2.50e-01f  3\n",
      " 106  5.9320481e+03 0.00e+00 3.19e-04 -11.0 6.77e-07    -  1.00e+00 5.00e-01f  2\n",
      " 107  5.9320481e+03 0.00e+00 8.33e-04 -11.0 1.68e-06    -  1.00e+00 6.25e-02f  5\n",
      " 108  5.9320481e+03 0.00e+00 4.74e-04 -11.0 1.30e-06    -  1.00e+00 1.00e+00f  1\n",
      " 109  5.9320481e+03 0.00e+00 1.30e-03 -11.0 1.61e-04    -  1.00e+00 7.81e-03f  8\n",
      "iter    objective    inf_pr   inf_du lg(mu)  ||d||  lg(rg) alpha_du alpha_pr  ls\n",
      " 110  5.9320481e+03 0.00e+00 1.60e-03 -11.0 2.71e-04    -  1.00e+00 1.95e-03f 10\n",
      " 111  5.9320481e+03 0.00e+00 1.25e-03 -11.0 2.77e-04    -  1.00e+00 9.77e-04h 11\n",
      " 112  5.9320481e+03 0.00e+00 2.21e-03 -11.0 4.76e-06    -  1.00e+00 3.12e-02f  6\n",
      " 113  5.9320481e+03 0.00e+00 1.87e-03 -11.0 3.25e-06    -  1.00e+00 5.00e-01f  2\n",
      " 114  5.9320481e+03 0.00e+00 1.09e-03 -11.0 8.63e-04    -  1.00e+00 9.77e-04f 11\n",
      " 115  5.9320481e+03 0.00e+00 2.18e-03 -11.0 1.16e-05    -  1.00e+00 1.25e-01f  4\n",
      " 116  5.9320481e+03 0.00e+00 2.19e-03 -11.0 6.27e-05    -  1.00e+00 9.77e-04f 11\n",
      " 117  5.9320481e+03 0.00e+00 2.69e-03 -11.0 6.18e-05    -  1.00e+00 7.81e-03f  8\n",
      " 118  5.9320481e+03 0.00e+00 2.46e-03 -11.0 9.20e-05    -  1.00e+00 9.77e-04f 11\n",
      " 119  5.9320481e+03 0.00e+00 1.02e-02 -11.0 3.28e-06    -  1.00e+00 1.00e+00w  1\n",
      "iter    objective    inf_pr   inf_du lg(mu)  ||d||  lg(rg) alpha_du alpha_pr  ls\n",
      " 120  5.9320481e+03 0.00e+00 1.33e-01 -11.0 2.03e-04    -  1.00e+00 1.00e+00w  1\n",
      " 121  5.9320483e+03 0.00e+00 4.28e+00 -11.0 1.55e-03    -  1.00e+00 1.00e+00w  1\n",
      " 122  5.9320481e+03 0.00e+00 1.07e-03 -11.0 1.78e-03    -  1.00e+00 2.50e-01f  2\n",
      " 123  5.9320481e+03 0.00e+00 1.16e-03 -11.0 1.75e-05    -  1.00e+00 1.56e-02f  7\n",
      " 124  5.9320481e+03 0.00e+00 1.04e-03 -11.0 3.42e-04    -  1.00e+00 9.77e-04h 11\n",
      " 125  5.9320481e+03 0.00e+00 2.26e-03 -11.0 1.43e-05    -  1.00e+00 7.81e-03f  8\n",
      " 126  5.9320481e+03 0.00e+00 1.52e-03 -11.0 1.56e-05    -  1.00e+00 3.12e-02f  6\n",
      " 127  5.9320481e+03 0.00e+00 1.49e-03 -11.0 2.42e-04    -  1.00e+00 9.77e-04h 11\n",
      " 128  5.9320481e+03 0.00e+00 1.59e-03 -11.0 2.14e-06    -  1.00e+00 6.25e-02f  5\n",
      " 129  5.9320481e+03 0.00e+00 1.99e-03 -11.0 3.83e-07    -  1.00e+00 1.00e+00f  1\n",
      "iter    objective    inf_pr   inf_du lg(mu)  ||d||  lg(rg) alpha_du alpha_pr  ls\n",
      " 130  5.9320481e+03 0.00e+00 1.19e-03 -11.0 1.80e-05    -  1.00e+00 6.25e-02f  5\n",
      " 131  5.9320481e+03 0.00e+00 1.34e-03 -11.0 1.54e-04    -  1.00e+00 3.91e-03f  9\n",
      " 132  5.9320481e+03 0.00e+00 1.69e-03 -11.0 6.00e-05    -  1.00e+00 7.81e-03f  8\n",
      " 133  5.9320481e+03 0.00e+00 2.17e-03 -11.0 2.10e-05    -  1.00e+00 3.12e-02f  6\n",
      " 134  5.9320481e+03 0.00e+00 1.92e-03 -11.0 3.65e-05    -  1.00e+00 1.56e-02f  7\n",
      " 135  5.9320481e+03 0.00e+00 2.06e-03 -11.0 5.65e-04    -  1.00e+00 9.77e-04f 11\n",
      " 136  5.9320481e+03 0.00e+00 1.63e-03 -11.0 1.48e-04    -  1.00e+00 3.91e-03f  9\n",
      " 137  5.9320481e+03 0.00e+00 1.58e-03 -11.0 1.17e-04    -  1.00e+00 7.81e-03f  8\n",
      " 138  5.9320481e+03 0.00e+00 6.11e-04 -11.0 9.51e-05    -  1.00e+00 3.91e-03f  9\n",
      " 139  5.9320481e+03 0.00e+00 1.71e-03 -11.0 3.47e-05    -  1.00e+00 7.81e-03f  8\n",
      "iter    objective    inf_pr   inf_du lg(mu)  ||d||  lg(rg) alpha_du alpha_pr  ls\n",
      " 140  5.9320481e+03 0.00e+00 2.47e-04 -11.0 1.90e-07    -  1.00e+00 1.00e+00w  1\n",
      " 141  5.9320481e+03 0.00e+00 2.20e-03 -11.0 1.80e-06    -  1.00e+00 1.00e+00w  1\n",
      " 142  5.9320481e+03 0.00e+00 8.43e-02 -11.0 2.12e-04    -  1.00e+00 1.00e+00w  1\n",
      " 143  5.9320481e+03 0.00e+00 7.49e-04 -11.0 2.17e-04    -  1.00e+00 5.00e-01f  1\n",
      " 144  5.9320481e+03 0.00e+00 6.32e-04 -11.0 1.62e-04    -  1.00e+00 1.95e-03f 10\n",
      " 145  5.9320481e+03 0.00e+00 6.04e-04 -11.0 1.29e-05    -  1.00e+00 1.56e-02f  7\n",
      " 146  5.9320481e+03 0.00e+00 6.16e-04 -11.0 3.12e-06    -  1.00e+00 3.12e-02f  6\n",
      " 147  5.9320481e+03 0.00e+00 1.24e-03 -11.0 1.32e-04    -  1.00e+00 9.77e-04h 11\n",
      " 148  5.9320481e+03 0.00e+00 1.26e-03 -11.0 3.18e-07    -  1.00e+00 1.00e+00f  1\n",
      " 149  5.9320481e+03 0.00e+00 9.79e-04 -11.0 4.50e-05    -  1.00e+00 3.12e-02f  6\n",
      "iter    objective    inf_pr   inf_du lg(mu)  ||d||  lg(rg) alpha_du alpha_pr  ls\n",
      " 150  5.9320481e+03 0.00e+00 1.49e-03 -11.0 5.30e-05    -  1.00e+00 3.12e-02f  6\n",
      " 151  5.9320481e+03 0.00e+00 2.85e-03 -11.0 1.09e-04    -  1.00e+00 1.95e-03f 10\n",
      " 152  5.9320481e+03 0.00e+00 2.52e-03 -11.0 2.78e-06    -  1.00e+00 3.12e-02f  6\n",
      " 153  5.9320481e+03 0.00e+00 2.53e-03 -11.0 6.28e-06    -  1.00e+00 5.00e-01f  2\n",
      " 154  5.9320481e+03 0.00e+00 4.77e-03 -11.0 2.27e-03    -  1.00e+00 9.77e-04h 11\n",
      " 155  5.9320481e+03 0.00e+00 4.13e-03 -11.0 8.41e-05    -  1.00e+00 7.81e-03f  8\n",
      " 156  5.9320481e+03 0.00e+00 4.53e-03 -11.0 4.71e-05    -  1.00e+00 7.81e-03f  8\n",
      " 157  5.9320481e+03 0.00e+00 4.63e-03 -11.0 4.10e-05    -  1.00e+00 6.25e-02f  5\n",
      " 158  5.9320481e+03 0.00e+00 2.65e-03 -11.0 1.40e-03    -  1.00e+00 1.95e-03f 10\n",
      " 159  5.9320481e+03 0.00e+00 1.49e-01 -11.0 2.99e-05    -  1.00e+00 1.00e+00w  1\n",
      "iter    objective    inf_pr   inf_du lg(mu)  ||d||  lg(rg) alpha_du alpha_pr  ls\n",
      " 160  5.9320481e+03 0.00e+00 7.62e-04 -11.0 3.24e-05    -  1.00e+00 1.00e+00f  1\n",
      " 161  5.9320481e+03 0.00e+00 1.04e-03 -11.0 8.85e-05    -  1.00e+00 1.56e-02f  7\n",
      " 162  5.9320481e+03 0.00e+00 8.97e-04 -11.0 1.43e-04    -  1.00e+00 1.95e-03f 10\n",
      " 163  5.9320481e+03 0.00e+00 5.15e-04 -11.0 6.02e-06    -  1.00e+00 3.12e-02f  6\n",
      " 164  5.9320481e+03 0.00e+00 1.07e-03 -11.0 1.21e-05    -  1.00e+00 1.25e-01f  4\n",
      " 165  5.9320481e+03 0.00e+00 9.26e-04 -11.0 2.82e-05    -  1.00e+00 9.77e-04h 11\n",
      " 166  5.9320481e+03 0.00e+00 2.08e-03 -11.0 7.63e-06    -  1.00e+00 5.00e-01f  2\n",
      " 167  5.9320481e+03 0.00e+00 1.46e-03 -11.0 9.66e-05    -  1.00e+00 1.56e-02f  7\n",
      " 168  5.9320481e+03 0.00e+00 6.30e-04 -11.0 4.37e-04    -  1.00e+00 1.95e-03f 10\n",
      " 169  5.9320481e+03 0.00e+00 1.13e-03 -11.0 2.26e-04    -  1.00e+00 1.95e-03f 10\n",
      "iter    objective    inf_pr   inf_du lg(mu)  ||d||  lg(rg) alpha_du alpha_pr  ls\n",
      " 170  5.9320481e+03 0.00e+00 1.13e-03 -11.0 5.04e-06    -  1.00e+00 1.56e-02f  7\n",
      " 171  5.9320481e+03 0.00e+00 1.73e-04 -11.0 4.19e-06    -  1.00e+00 1.00e+00f  1\n",
      " 172  5.9320481e+03 0.00e+00 8.17e-04 -11.0 1.59e-06    -  1.00e+00 3.12e-02f  6\n",
      " 173  5.9320481e+03 0.00e+00 3.05e-04 -11.0 5.77e-07    -  1.00e+00 1.00e+00f  1\n",
      " 174  5.9320481e+03 0.00e+00 1.24e-03 -11.0 1.72e-04    -  1.00e+00 1.95e-03f 10\n",
      " 175  5.9320481e+03 0.00e+00 9.59e-04 -11.0 5.88e-06    -  1.00e+00 7.81e-03f  8\n",
      " 176  5.9320481e+03 0.00e+00 1.06e-03 -11.0 4.83e-06    -  1.00e+00 3.12e-02f  6\n",
      " 177  5.9320481e+03 0.00e+00 1.06e-03 -11.0 6.97e-05    -  1.00e+00 9.77e-04f 11\n",
      " 178  5.9320481e+03 0.00e+00 7.85e-04 -11.0 7.93e-06    -  1.00e+00 1.25e-01f  4\n",
      " 179  5.9320481e+03 0.00e+00 4.53e-04 -11.0 6.58e-04    -  1.00e+00 9.77e-04f 11\n",
      "iter    objective    inf_pr   inf_du lg(mu)  ||d||  lg(rg) alpha_du alpha_pr  ls\n",
      " 180  5.9320481e+03 0.00e+00 2.20e-03 -11.0 2.09e-06    -  1.00e+00 5.00e-01f  2\n",
      " 181  5.9320481e+03 0.00e+00 2.13e-03 -11.0 1.06e-06    -  1.00e+00 1.56e-02f  7\n",
      " 182  5.9320481e+03 0.00e+00 9.97e-04 -11.0 7.08e-07    -  1.00e+00 5.00e-01f  2\n",
      " 183  5.9320481e+03 0.00e+00 7.35e-04 -11.0 1.12e-04    -  1.00e+00 1.56e-02f  7\n",
      " 184  5.9320481e+03 0.00e+00 2.16e+00 -11.0 3.97e-04    -  1.00e+00 1.00e+00w  1\n",
      " 185  5.9320481e+03 0.00e+00 1.45e-02 -11.0 4.10e-04    -  1.00e+00 1.00e+00w  1\n",
      " 186  5.9320481e+03 0.00e+00 1.92e+00 -11.0 8.93e-04    -  1.00e+00 1.00e+00w  1\n",
      " 187  5.9320481e+03 0.00e+00 5.39e-04 -11.0 5.13e-03    -  1.00e+00 4.88e-04h 11\n",
      " 188  5.9320481e+03 0.00e+00 1.39e-03 -11.0 2.56e-05    -  1.00e+00 6.25e-02f  5\n",
      " 189  5.9320481e+03 0.00e+00 8.65e-04 -11.0 7.02e-05    -  1.00e+00 9.77e-04h 11\n",
      "iter    objective    inf_pr   inf_du lg(mu)  ||d||  lg(rg) alpha_du alpha_pr  ls\n",
      " 190  5.9320481e+03 0.00e+00 2.01e-03 -11.0 2.16e-05    -  1.00e+00 1.25e-01f  4\n",
      " 191  5.9320481e+03 0.00e+00 2.30e-03 -11.0 1.96e-04    -  1.00e+00 9.77e-04h 11\n",
      " 192  5.9320481e+03 0.00e+00 2.35e-03 -11.0 1.44e-05    -  1.00e+00 1.56e-02f  7\n",
      " 193  5.9320481e+03 0.00e+00 1.46e-03 -11.0 1.90e-06    -  1.00e+00 1.00e+00f  1\n",
      " 194  5.9320481e+03 0.00e+00 1.54e-03 -11.0 4.32e-05    -  1.00e+00 7.81e-03f  8\n",
      " 195  5.9320481e+03 0.00e+00 2.58e-03 -11.0 1.35e-04    -  1.00e+00 1.56e-02f  7\n",
      " 196  5.9320481e+03 0.00e+00 2.45e-03 -11.0 5.31e-04    -  1.00e+00 1.95e-03f 10\n",
      " 197  5.9320481e+03 0.00e+00 2.43e-03 -11.0 1.72e-05    -  1.00e+00 6.25e-02f  5\n",
      " 198  5.9320481e+03 0.00e+00 3.51e-03 -11.0 5.95e-05    -  1.00e+00 9.77e-04f 11\n",
      " 199  5.9320481e+03 0.00e+00 1.28e-03 -11.0 2.41e-06    -  1.00e+00 5.00e-01f  2\n",
      "iter    objective    inf_pr   inf_du lg(mu)  ||d||  lg(rg) alpha_du alpha_pr  ls\n",
      " 200  5.9320481e+03 0.00e+00 1.14e-03 -11.0 2.87e-05    -  1.00e+00 3.12e-02f  6\n",
      "\n",
      "Number of Iterations....: 200\n",
      "\n",
      "                                   (scaled)                 (unscaled)\n",
      "Objective...............:   5.9320480939577083e+03    5.9320480939577083e+03\n",
      "Dual infeasibility......:   1.1373808929178025e-03    1.1373808929178025e-03\n",
      "Constraint violation....:   0.0000000000000000e+00    0.0000000000000000e+00\n",
      "Complementarity.........:   9.9999705160961691e-12    9.9999705160961691e-12\n",
      "Overall NLP error.......:   1.1373808929178025e-03    1.1373808929178025e-03\n",
      "\n",
      "\n",
      "Number of objective function evaluations             = 1807\n",
      "Number of objective gradient evaluations             = 201\n",
      "Number of equality constraint evaluations            = 0\n",
      "Number of inequality constraint evaluations          = 0\n",
      "Number of equality constraint Jacobian evaluations   = 0\n",
      "Number of inequality constraint Jacobian evaluations = 0\n",
      "Number of Lagrangian Hessian evaluations             = 0\n",
      "Total CPU secs in IPOPT (w/o function evaluations)   =      0.544\n",
      "Total CPU secs in NLP function evaluations           =      5.559\n",
      "\n",
      "EXIT: Maximum Number of Iterations Exceeded.\n",
      "  6.355081 seconds (40.23 M allocations: 1.200 GiB, 2.36% gc time)\n"
     ]
    },
    {
     "name": "stderr",
     "output_type": "stream",
     "text": [
      "┌ Warning: Optimization unsuccesful; got UserLimit\n",
      "└ @ QuasiCopula /Users/biona001/.julia/dev/QuasiCopula/src/parameter_estimation/fit_gaussian_vc.jl:36\n"
     ]
    }
   ],
   "source": [
    "@time optm = QuasiCopula.fit!(qc_model,\n",
    "    Ipopt.IpoptSolver(\n",
    "        print_level = 5, \n",
    "        tol = 10^-6, \n",
    "        max_iter = 200,\n",
    "        accept_after_max_steps = 10,\n",
    "        warm_start_init_point=\"yes\", \n",
    "        limited_memory_max_history = 6, # default value\n",
    "        hessian_approximation = \"limited-memory\",\n",
    "#         derivative_test=\"second-order\"\n",
    "    )\n",
    ");"
   ]
  },
  {
   "cell_type": "code",
   "execution_count": 148,
   "metadata": {
    "collapsed": false
   },
   "outputs": [
    {
     "name": "stdout",
     "output_type": "stream",
     "text": [
      "βtrue = [1.0, -0.02, 0.02]\n",
      "qc_model.β = [1.0015989260183675, -0.022014742329911983, 0.02115080193540053]\n",
      "qc_model.∇β = [0.0011373808929178025, 0.0007952956835710623, 0.00013167005834535672]\n",
      "θtrue = [0.1, 0.1]\n",
      "qc_model.θ = [0.06857737405244052, 0.04527280807493897]\n",
      "qc_model.∇θ = [-0.0004711317179739716, -2.846011913293367e-5]\n"
     ]
    }
   ],
   "source": [
    "@show βtrue\n",
    "@show qc_model.β\n",
    "@show qc_model.∇β\n",
    "\n",
    "@show θtrue\n",
    "@show qc_model.θ\n",
    "@show qc_model.∇θ;"
   ]
  },
  {
   "cell_type": "markdown",
   "metadata": {},
   "source": [
    "# Loglikelihood function friendly to autodiff"
   ]
  },
  {
   "cell_type": "code",
   "execution_count": 5,
   "metadata": {
    "collapsed": false
   },
   "outputs": [
    {
     "data": {
      "text/plain": [
       "#7 (generic function with 1 method)"
      ]
     },
     "execution_count": 5,
     "metadata": {},
     "output_type": "execute_result"
    }
   ],
   "source": [
    "autodiff_loglikelihood(β) = QuasiCopula.loglikelihood(β, qc_model, z)\n",
    "\n",
    "# autodiff Gradient\n",
    "∇logl = x -> ForwardDiff.gradient(autodiff_loglikelihood, x)\n",
    "\n",
    "# autodiff Hessian\n",
    "∇²logl = x -> ForwardDiff.hessian(autodiff_loglikelihood, x)"
   ]
  },
  {
   "cell_type": "markdown",
   "metadata": {},
   "source": [
    "First, check if `autodiff_loglikelihood` returns same answer as `QuasiCopula.loglikelihood!`"
   ]
  },
  {
   "cell_type": "code",
   "execution_count": 6,
   "metadata": {
    "collapsed": false
   },
   "outputs": [
    {
     "name": "stdout",
     "output_type": "stream",
     "text": [
      "autodiff_loglikelihood(fullβ) = -15184.429634944136\n",
      "QuasiCopula.loglikelihood!(qc_model, false, false) = -15184.429634945503\n"
     ]
    }
   ],
   "source": [
    "i = 1\n",
    "z = convert(Vector{Float64}, @view(G[:, i]), center=true, scale=false)\n",
    "fullβ = [qc_model.β; qc_model.θ; 0.0] # poisson or bernoulli\n",
    "# fullβ = [qc_model.β; qc_model.θ; qc_model.τ; 0.0] # normal\n",
    "\n",
    "@show autodiff_loglikelihood(fullβ)\n",
    "@show QuasiCopula.loglikelihood!(qc_model, false, false);"
   ]
  },
  {
   "cell_type": "markdown",
   "metadata": {},
   "source": [
    "Lets compute a few Hessians"
   ]
  },
  {
   "cell_type": "code",
   "execution_count": 7,
   "metadata": {
    "collapsed": false
   },
   "outputs": [
    {
     "data": {
      "text/plain": [
       "6×6 Matrix{Float64}:\n",
       " -2828.24       -95.9599     96.4885     1841.42       1563.08     -7.99025\n",
       "   -95.9599   -3507.03      -11.0075      -51.1999      -79.531    10.6713\n",
       "    96.4885     -11.0075  -3445.95         69.2266       67.557    -8.33106\n",
       "  1841.42       -51.1999     69.2266   -11486.9        1733.53     -0.311129\n",
       "  1563.08       -79.531      67.557      1733.53      -1737.84    -21.646\n",
       "    -7.99025     10.6713     -8.33106      -0.311129    -21.646  -301.733"
      ]
     },
     "execution_count": 7,
     "metadata": {},
     "output_type": "execute_result"
    }
   ],
   "source": [
    "i = 1\n",
    "z = convert(Vector{Float64}, @view(G[:, i]), center=true, scale=false)\n",
    "Hfull = ∇²logl(fullβ) # snp 1"
   ]
  },
  {
   "cell_type": "code",
   "execution_count": 8,
   "metadata": {
    "collapsed": false
   },
   "outputs": [
    {
     "name": "stdout",
     "output_type": "stream",
     "text": [
      "(-(Hfull[i, j]) / sqrt(-(Hfull[i, i]))) / sqrt(-(Hfull[j, j])) = -0.32306666769760506\n",
      "(-(Hfull[i, j]) / sqrt(-(Hfull[i, i]))) / sqrt(-(Hfull[j, j])) = -0.7050445705426172\n"
     ]
    }
   ],
   "source": [
    "# check correlation between VC params and beta\n",
    "i, j = 1, 4\n",
    "@show -Hfull[i, j] / sqrt(-Hfull[i, i]) / sqrt(-Hfull[j, j])\n",
    "i, j = 1, 5\n",
    "@show -Hfull[i, j] / sqrt(-Hfull[i, i]) / sqrt(-Hfull[j, j]);"
   ]
  },
  {
   "cell_type": "code",
   "execution_count": 9,
   "metadata": {
    "collapsed": false
   },
   "outputs": [
    {
     "data": {
      "text/plain": [
       "6×6 Matrix{Float64}:\n",
       " -2828.24       -95.9599     96.4885    1841.42     1563.08        0.36294\n",
       "   -95.9599   -3507.03      -11.0075     -51.1999    -79.531      -2.8895\n",
       "    96.4885     -11.0075  -3445.95        69.2266     67.557      37.1005\n",
       "  1841.42       -51.1999     69.2266  -11486.9      1733.53      134.446\n",
       "  1563.08       -79.531      67.557     1733.53    -1737.84        6.45871\n",
       "     0.36294     -2.8895     37.1005     134.446       6.45871  -949.597"
      ]
     },
     "execution_count": 9,
     "metadata": {},
     "output_type": "execute_result"
    }
   ],
   "source": [
    "i = 10\n",
    "z = convert(Vector{Float64}, @view(G[:, i]), center=true, scale=false)\n",
    "Hfull = ∇²logl(fullβ) # snp 10"
   ]
  },
  {
   "cell_type": "code",
   "execution_count": 10,
   "metadata": {
    "collapsed": false
   },
   "outputs": [
    {
     "name": "stdout",
     "output_type": "stream",
     "text": [
      "(-(Hfull[i, j]) / sqrt(-(Hfull[i, i]))) / sqrt(-(Hfull[j, j])) = -0.32306666769760506\n",
      "(-(Hfull[i, j]) / sqrt(-(Hfull[i, i]))) / sqrt(-(Hfull[j, j])) = -0.7050445705426172\n"
     ]
    }
   ],
   "source": [
    "# check correlation between VC params and beta\n",
    "i, j = 1, 4\n",
    "@show -Hfull[i, j] / sqrt(-Hfull[i, i]) / sqrt(-Hfull[j, j])\n",
    "i, j = 1, 5\n",
    "@show -Hfull[i, j] / sqrt(-Hfull[i, i]) / sqrt(-Hfull[j, j]);"
   ]
  },
  {
   "cell_type": "code",
   "execution_count": 11,
   "metadata": {
    "collapsed": false
   },
   "outputs": [
    {
     "data": {
      "text/plain": [
       "0.24820715125159407"
      ]
     },
     "execution_count": 11,
     "metadata": {},
     "output_type": "execute_result"
    }
   ],
   "source": [
    "W = -Hfull[1:end-1, end]\n",
    "Q = -Hfull[end, end]\n",
    "Pinv = inv(-Hfull[1:end-1, 1:end-1])\n",
    "R = ∇logl(fullβ)[end]\n",
    "S = R * inv(Q - W'*Pinv*W) * R\n",
    "pval = ccdf(Chisq(1), S)"
   ]
  },
  {
   "cell_type": "code",
   "execution_count": 12,
   "metadata": {
    "collapsed": false
   },
   "outputs": [
    {
     "data": {
      "text/plain": [
       "6-element Vector{Float64}:\n",
       "   2.5799908098811386e-7\n",
       "   1.079411837690003e-10\n",
       "   2.6935144226136742e-8\n",
       "  -5.492520411820578e-7\n",
       "  -7.299600879306922e-8\n",
       " -35.237650740823355"
      ]
     },
     "execution_count": 12,
     "metadata": {},
     "output_type": "execute_result"
    }
   ],
   "source": [
    "∇logl(fullβ)"
   ]
  },
  {
   "cell_type": "markdown",
   "metadata": {},
   "source": [
    "## Check QQ plots\n",
    "\n",
    "### Bernoulli"
   ]
  },
  {
   "cell_type": "code",
   "execution_count": 135,
   "metadata": {
    "collapsed": false
   },
   "outputs": [
    {
     "name": "stdout",
     "output_type": "stream",
     "text": [
      " 23.562291 seconds (55.52 k allocations: 40.100 MiB)\n"
     ]
    },
    {
     "data": {
      "text/plain": [
       "1000-element Vector{Float64}:\n",
       " 0.5582500923462381\n",
       " 0.010654211978533678\n",
       " 0.5913671103084096\n",
       " 0.8376888956916199\n",
       " 0.656647664709046\n",
       " 0.4288617492402539\n",
       " 0.26141135525972264\n",
       " 0.6017870985216163\n",
       " 0.0659879140988156\n",
       " 0.6993469942879632\n",
       " 0.17059610725244784\n",
       " 0.9507131968731072\n",
       " 0.6993112343721384\n",
       " ⋮\n",
       " 0.5808276195142066\n",
       " 0.4919762752371648\n",
       " 0.9729244582113884\n",
       " 0.7995198492805744\n",
       " 0.7685216305248173\n",
       " 0.3810959947271573\n",
       " 0.2833478838014378\n",
       " 0.6200053791221549\n",
       " 0.38862420161480526\n",
       " 0.28113836925901475\n",
       " 0.4371020746060338\n",
       " 0.9362445423581599"
      ]
     },
     "execution_count": 135,
     "metadata": {},
     "output_type": "execute_result"
    }
   ],
   "source": [
    "@time pvals = QuasiCopula.GWASCopulaVCModel_autodiff(qc_model, G)"
   ]
  },
  {
   "cell_type": "code",
   "execution_count": 136,
   "metadata": {
    "collapsed": false
   },
   "outputs": [
    {
     "data": {
      "image/png": "[encoded data removed]"
     },
     "metadata": {},
     "output_type": "display_data"
    }
   ],
   "source": [
    "qq(pvals, dpi=100, titles=\"Bernoulli, $k causal SNPs\")\n",
    "display(\"image/png\", read(\"qqplot.png\"))"
   ]
  },
  {
   "cell_type": "markdown",
   "metadata": {},
   "source": [
    "### Poisson"
   ]
  },
  {
   "cell_type": "code",
   "execution_count": 140,
   "metadata": {
    "collapsed": false
   },
   "outputs": [
    {
     "name": "stdout",
     "output_type": "stream",
     "text": [
      " 28.589258 seconds (11.94 M allocations: 665.492 MiB, 1.92% gc time, 10.78% compilation time)\n"
     ]
    },
    {
     "data": {
      "text/plain": [
       "1000-element Vector{Float64}:\n",
       " 0.6114268725266863\n",
       " 0.1070897825482224\n",
       " 0.4808221686158258\n",
       " 0.744190834942224\n",
       " 0.950482348827627\n",
       " 0.23528673084794868\n",
       " 0.46045653681006116\n",
       " 0.45866209289578674\n",
       " 0.9258876193751494\n",
       " 0.8627151681348451\n",
       " 0.15372568300464257\n",
       " 0.5204998859286512\n",
       " 0.7626078790033816\n",
       " ⋮\n",
       " 0.9035329323344029\n",
       " 0.6592685362102048\n",
       " 0.3928055101450575\n",
       " 0.7713633298069937\n",
       " 0.2389535335631845\n",
       " 0.21632316805960078\n",
       " 0.5398714872768096\n",
       " 0.7179613000061875\n",
       " 0.2610477871041082\n",
       " 0.1960121426222287\n",
       " 0.2119757709621244\n",
       " 0.2488841786630273"
      ]
     },
     "execution_count": 140,
     "metadata": {},
     "output_type": "execute_result"
    }
   ],
   "source": [
    "@time pvals = GWASCopulaVCModel_autodiff(qc_model, G)"
   ]
  },
  {
   "cell_type": "code",
   "execution_count": 142,
   "metadata": {
    "collapsed": false
   },
   "outputs": [
    {
     "name": "stdout",
     "output_type": "stream",
     "text": [
      "length(signif_snps) = 0\n",
      "power = 0.0\n"
     ]
    },
    {
     "data": {
      "text/plain": [
       "0.0"
      ]
     },
     "execution_count": 142,
     "metadata": {},
     "output_type": "execute_result"
    }
   ],
   "source": [
    "correct_snps = findall(!iszero, γtrue)\n",
    "signif_snps = findall(x -> x < 0.05/length(pvals), pvals)\n",
    "power = length(correct_snps ∩ signif_snps) / max(1, length(correct_snps))\n",
    "\n",
    "@show length(signif_snps)\n",
    "@show power"
   ]
  },
  {
   "cell_type": "code",
   "execution_count": 143,
   "metadata": {
    "collapsed": false
   },
   "outputs": [
    {
     "data": {
      "text/plain": [
       "Float64[]"
      ]
     },
     "execution_count": 143,
     "metadata": {},
     "output_type": "execute_result"
    }
   ],
   "source": [
    "# pvalues of truly causal SNPs\n",
    "pvals[correct_snps] |> sort"
   ]
  },
  {
   "cell_type": "code",
   "execution_count": 144,
   "metadata": {
    "collapsed": false
   },
   "outputs": [
    {
     "data": {
      "text/plain": [
       "1000-element Vector{Float64}:\n",
       " 7.774419750037377e-5\n",
       " 0.0007995735158536389\n",
       " 0.0014701534337042362\n",
       " 0.0023052624910533167\n",
       " 0.0032960856216279174\n",
       " 0.0045025374492216885\n",
       " 0.007228559546037386\n",
       " 0.00871530231445743\n",
       " 0.009464796774703342\n",
       " 0.009500401842390423\n",
       " 0.010496950215314155\n",
       " 0.012832798228600159\n",
       " 0.013572084093715341\n",
       " ⋮\n",
       " 0.9920031583740274\n",
       " 0.9929075203129113\n",
       " 0.992935227855631\n",
       " 0.9929518639402093\n",
       " 0.9952200936210467\n",
       " 0.9955531576454074\n",
       " 0.995731012918804\n",
       " 0.9964340911964977\n",
       " 0.9968085641471957\n",
       " 0.9988088543252713\n",
       " 0.9995714607152042\n",
       " 0.9998427630853882"
      ]
     },
     "execution_count": 144,
     "metadata": {},
     "output_type": "execute_result"
    }
   ],
   "source": [
    "# pvalues of all SNPs sorted by significance\n",
    "sort(pvals)"
   ]
  },
  {
   "cell_type": "code",
   "execution_count": 145,
   "metadata": {
    "collapsed": false
   },
   "outputs": [
    {
     "data": {
      "image/png": "[encoded data removed]"
     },
     "metadata": {},
     "output_type": "display_data"
    }
   ],
   "source": [
    "qq(pvals, dpi=100, titles=\"Poisson, $k causal SNPs\")\n",
    "display(\"image/png\", read(\"qqplot.png\"))"
   ]
  },
  {
   "cell_type": "markdown",
   "metadata": {},
   "source": [
    "### Normal"
   ]
  },
  {
   "cell_type": "code",
   "execution_count": 161,
   "metadata": {
    "collapsed": false
   },
   "outputs": [
    {
     "name": "stdout",
     "output_type": "stream",
     "text": [
      " 25.604872 seconds (2.98 M allocations: 189.687 MiB, 0.09% gc time, 2.54% compilation time)\n"
     ]
    },
    {
     "data": {
      "text/plain": [
       "1000-element Vector{Float64}:\n",
       " 0.24465953017198147\n",
       " 0.009741891736981027\n",
       " 0.7567517986287128\n",
       " 0.4535554720965867\n",
       " 0.3452760068789352\n",
       " 0.5307896341388307\n",
       " 0.9904425612163903\n",
       " 0.5069914738526093\n",
       " 0.26311222865636374\n",
       " 0.492781311235218\n",
       " 0.6944152891166855\n",
       " 0.9110781982219424\n",
       " 0.6676099440726022\n",
       " ⋮\n",
       " 0.9621950407729223\n",
       " 0.30575034422284897\n",
       " 0.8554907435007886\n",
       " 0.47056664465245246\n",
       " 0.21058684775370182\n",
       " 0.30712783776048014\n",
       " 0.71620468448529\n",
       " 0.7427197831010647\n",
       " 0.9002203228180086\n",
       " 0.15077039902942807\n",
       " 0.7941846237269187\n",
       " 0.06887147552189807"
      ]
     },
     "execution_count": 161,
     "metadata": {},
     "output_type": "execute_result"
    }
   ],
   "source": [
    "@time pvals = GWASCopulaVCModel_autodiff(qc_model, G)"
   ]
  },
  {
   "cell_type": "code",
   "execution_count": 162,
   "metadata": {
    "collapsed": false
   },
   "outputs": [
    {
     "name": "stdout",
     "output_type": "stream",
     "text": [
      "length(signif_snps) = 0\n",
      "power = 0.0\n"
     ]
    },
    {
     "data": {
      "text/plain": [
       "0.0"
      ]
     },
     "execution_count": 162,
     "metadata": {},
     "output_type": "execute_result"
    }
   ],
   "source": [
    "correct_snps = findall(!iszero, γtrue)\n",
    "signif_snps = findall(x -> x < 0.05/length(pvals), pvals)\n",
    "power = length(correct_snps ∩ signif_snps) / max(1, length(correct_snps))\n",
    "\n",
    "@show length(signif_snps)\n",
    "@show power"
   ]
  },
  {
   "cell_type": "code",
   "execution_count": 163,
   "metadata": {
    "collapsed": false
   },
   "outputs": [
    {
     "data": {
      "text/plain": [
       "Float64[]"
      ]
     },
     "execution_count": 163,
     "metadata": {},
     "output_type": "execute_result"
    }
   ],
   "source": [
    "# pvalues of truly causal SNPs\n",
    "pvals[correct_snps] |> sort"
   ]
  },
  {
   "cell_type": "code",
   "execution_count": 164,
   "metadata": {
    "collapsed": false
   },
   "outputs": [
    {
     "data": {
      "text/plain": [
       "1000-element Vector{Float64}:\n",
       " 0.0012751656205525225\n",
       " 0.0016027816489660603\n",
       " 0.0028623669696721914\n",
       " 0.003959580728971236\n",
       " 0.0052060611954021984\n",
       " 0.006395370251445862\n",
       " 0.007019073586846049\n",
       " 0.007134156007834394\n",
       " 0.009741891736981027\n",
       " 0.010386259143514922\n",
       " 0.010426917301049974\n",
       " 0.01065502403732776\n",
       " 0.012274771875088185\n",
       " ⋮\n",
       " 0.9880104822446031\n",
       " 0.9904425612163903\n",
       " 0.9905189519417772\n",
       " 0.9906432097326853\n",
       " 0.9923209905422546\n",
       " 0.9927615390304259\n",
       " 0.9933161413567163\n",
       " 0.9941293211269938\n",
       " 0.9945405005876492\n",
       " 0.9953517907746027\n",
       " 0.9976181881079547\n",
       " 0.9988153189582745"
      ]
     },
     "execution_count": 164,
     "metadata": {},
     "output_type": "execute_result"
    }
   ],
   "source": [
    "# pvalues of all SNPs sorted by significance\n",
    "sort(pvals)"
   ]
  },
  {
   "cell_type": "code",
   "execution_count": 165,
   "metadata": {
    "collapsed": false
   },
   "outputs": [
    {
     "data": {
      "image/png": "[encoded data removed]"
     },
     "metadata": {},
     "output_type": "display_data"
    }
   ],
   "source": [
    "qq(pvals, dpi=100, titles=\"Normal, $k causal SNPs\")\n",
    "display(\"image/png\", read(\"qqplot.png\"))"
   ]
  }
 ],
 "metadata": {
  "@webio": {
   "lastCommId": null,
   "lastKernelId": null
  },
  "kernelspec": {
   "display_name": "Julia 1.7.3",
   "language": "julia",
   "name": "julia-1.7"
  },
  "language_info": {
   "file_extension": ".jl",
   "mimetype": "application/julia",
   "name": "julia",
   "version": "1.7.3"
  },
  "toc": {
   "base_numbering": 1,
   "nav_menu": {},
   "number_sections": true,
   "sideBar": true,
   "skip_h1_title": false,
   "title_cell": "Table of Contents",
   "title_sidebar": "Contents",
   "toc_cell": false,
   "toc_position": {},
   "toc_section_display": true,
   "toc_window_display": false
  }
 },
 "nbformat": 4,
 "nbformat_minor": 2
}
