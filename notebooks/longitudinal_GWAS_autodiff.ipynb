{
 "cells": [
  {
   "cell_type": "markdown",
   "metadata": {},
   "source": [
    "# Longitudinal QuasiCopula GWAS with Mixed Marginals\n",
    "\n",
    "Here we will use autodiff to compute all gradient/Hessian terms (e.g. Q, W, R) and see if that gives good p-values. "
   ]
  },
  {
   "cell_type": "code",
   "execution_count": 1,
   "metadata": {
    "collapsed": false
   },
   "outputs": [
    {
     "name": "stderr",
     "output_type": "stream",
     "text": [
      "┌ Info: Precompiling DataFrames [a93c6f00-e57d-5684-b7b6-d8193f3e46c0]\n",
      "└ @ Base loading.jl:1423\n",
      "┌ Info: Precompiling GLM [38e38edf-8417-5370-95a0-9cbb8c7f171a]\n",
      "└ @ Base loading.jl:1423\n",
      "┌ Info: Precompiling QuasiCopula [c47b6ae2-b804-4668-9957-eb588c99ffbc]\n",
      "└ @ Base loading.jl:1423\n",
      "┌ Info: Precompiling MendelPlots [7ab2ea78-72dd-4c03-85d8-fc2b0db252af]\n",
      "└ @ Base loading.jl:1423\n"
     ]
    },
    {
     "data": {
      "text/plain": [
       "_make_snparray (generic function with 1 method)"
      ]
     },
     "execution_count": 1,
     "metadata": {},
     "output_type": "execute_result"
    }
   ],
   "source": [
    "using Revise\n",
    "using DataFrames, Random, GLM, QuasiCopula\n",
    "using ForwardDiff, Test, LinearAlgebra\n",
    "using LinearAlgebra: BlasReal, copytri!\n",
    "using ToeplitzMatrices\n",
    "using BenchmarkTools\n",
    "using SnpArrays\n",
    "using MendelPlots\n",
    "gr(fmt=:png)\n",
    "\n",
    "BLAS.set_num_threads(1)\n",
    "Threads.nthreads()\n",
    "\n",
    "function simulate_random_snparray(s::Union{String, UndefInitializer}, n::Int64,\n",
    "    p::Int64; mafs::Vector{Float64}=zeros(Float64, p), min_ma::Int = 5)\n",
    "\n",
    "    #first simulate a random {0, 1, 2} matrix with each SNP drawn from Binomial(2, r[i])\n",
    "    A1 = BitArray(undef, n, p) \n",
    "    A2 = BitArray(undef, n, p) \n",
    "    for j in 1:p\n",
    "        minor_alleles = 0\n",
    "        maf = 0\n",
    "        while minor_alleles <= min_ma\n",
    "            maf = 0.5rand()\n",
    "            for i in 1:n\n",
    "                A1[i, j] = rand(Bernoulli(maf))\n",
    "                A2[i, j] = rand(Bernoulli(maf))\n",
    "            end\n",
    "            minor_alleles = sum(view(A1, :, j)) + sum(view(A2, :, j))\n",
    "        end\n",
    "        mafs[j] = maf\n",
    "    end\n",
    "\n",
    "    #fill the SnpArray with the corresponding x_tmp entry\n",
    "    return _make_snparray(s, A1, A2)\n",
    "end\n",
    "\n",
    "function _make_snparray(s::Union{String, UndefInitializer}, A1::BitArray, A2::BitArray)\n",
    "    n, p = size(A1)\n",
    "    x = SnpArray(s, n, p)\n",
    "    for i in 1:(n*p)\n",
    "        c = A1[i] + A2[i]\n",
    "        if c == 0\n",
    "            x[i] = 0x00\n",
    "        elseif c == 1\n",
    "            x[i] = 0x02\n",
    "        elseif c == 2\n",
    "            x[i] = 0x03\n",
    "        else\n",
    "            throw(MissingException(\"matrix shouldn't have missing values!\"))\n",
    "        end\n",
    "    end\n",
    "    return x\n",
    "end\n"
   ]
  },
  {
   "cell_type": "markdown",
   "metadata": {},
   "source": [
    "## Simulate data"
   ]
  },
  {
   "cell_type": "code",
   "execution_count": 56,
   "metadata": {
    "collapsed": false
   },
   "outputs": [
    {
     "name": "stdout",
     "output_type": "stream",
     "text": [
      "qc_model = Quasi-Copula Variance Component Model\n",
      "  * base distribution: Normal\n",
      "  * link function: IdentityLink\n",
      "  * number of clusters: 5000\n",
      "  * cluster size min, max: 5, 5\n",
      "  * number of variance components: 2\n",
      "  * number of fixed effects: 3\n",
      "\n"
     ]
    }
   ],
   "source": [
    "function simulate_VC_longitudinal(;\n",
    "    n = 1000, # sample size\n",
    "    d = 2, # number of observations per sample\n",
    "    p = 3, # number of nongenetic covariates, including intercept\n",
    "    m = 1, # number of variance components\n",
    "    q = 1000, # number of SNPs\n",
    "    k = 10, # number of causal SNPs\n",
    "    seed = 2022,\n",
    "    y_distribution = Bernoulli,\n",
    "    T = Float64,\n",
    "    )\n",
    "    m == 1 || m == 2 || error(\"m (number of VC) must be 1 or 2\")\n",
    "    \n",
    "    # non-genetic effect sizes\n",
    "    Random.seed!(seed)\n",
    "    βtrue = rand(Uniform(-0.1, 0.1), p)\n",
    "#     βtrue = [1.0; rand(-0.02:0.04:0.02, p-1)]\n",
    "    dist = y_distribution()\n",
    "    link = canonicallink(dist)\n",
    "    Dist = typeof(dist)\n",
    "    Link = typeof(link)\n",
    "\n",
    "    # variance components\n",
    "    θtrue = fill(0.1, m)\n",
    "    V1 = ones(d, d)\n",
    "    V2 = Matrix(I, d, d)\n",
    "    Γ = m == 1 ? θtrue[1] * V1 : θtrue[1] * V1 + θtrue[2] * V2\n",
    "\n",
    "    # simulate design matrices\n",
    "    Random.seed!(seed)\n",
    "    X_full = [hcat(ones(d), randn(d, p - 1)) for i in 1:n]\n",
    "\n",
    "    # simulate random SnpArray with q SNPs and randomly choose k SNPs to be causal\n",
    "    Random.seed!(2022)\n",
    "    G = simulate_random_snparray(undef, n, q)\n",
    "    Gfloat = convert(Matrix{T}, G, center=true, scale=false)\n",
    "    γtrue = zeros(q)\n",
    "    γtrue[1:k] .= rand([-0.2, 0.2], k)\n",
    "    shuffle!(γtrue)\n",
    "    η_G = Gfloat * γtrue\n",
    "\n",
    "    # simulate phenotypes\n",
    "    if y_distribution == Normal\n",
    "        τtrue = 10.0\n",
    "        σ2 = inv(τtrue)\n",
    "        σ = sqrt(σ2)\n",
    "        obs = Vector{GaussianCopulaVCObs{T}}(undef, n)\n",
    "        for i in 1:n\n",
    "            X = X_full[i]\n",
    "            η = X * βtrue\n",
    "            η .+= η_G[i] # add genetic effects\n",
    "            μ = GLM.linkinv.(link, η)\n",
    "            vecd = Vector{ContinuousUnivariateDistribution}(undef, d)\n",
    "            for i in 1:d\n",
    "                vecd[i] = y_distribution(μ[i], σ)\n",
    "            end\n",
    "            nonmixed_multivariate_dist = NonMixedMultivariateDistribution(vecd, Γ)\n",
    "            # simuate single vector y\n",
    "            y = Vector{T}(undef, d)\n",
    "            res = Vector{T}(undef, d)\n",
    "            rand(nonmixed_multivariate_dist, y, res)\n",
    "            V = m == 1 ? [V1] : [V1, V2]\n",
    "            obs[i] = GaussianCopulaVCObs(y, X, V)\n",
    "        end\n",
    "        qc_model = GaussianCopulaVCModel(obs)\n",
    "    else\n",
    "        obs = Vector{GLMCopulaVCObs{T, Dist, Link}}(undef, n)\n",
    "        for i in 1:n\n",
    "            X = X_full[i]\n",
    "            η = X * βtrue\n",
    "            η .+= η_G[i] # add genetic effects\n",
    "            μ = GLM.linkinv.(link, η)\n",
    "            vecd = Vector{DiscreteUnivariateDistribution}(undef, d)\n",
    "            for i in 1:d\n",
    "                vecd[i] = y_distribution(μ[i])\n",
    "            end\n",
    "            nonmixed_multivariate_dist = NonMixedMultivariateDistribution(vecd, Γ)\n",
    "            # simuate single vector y\n",
    "            y = Vector{T}(undef, d)\n",
    "            res = Vector{T}(undef, d)\n",
    "            rand(nonmixed_multivariate_dist, y, res)\n",
    "            V = m == 1 ? [V1] : [V1, V2]\n",
    "            obs[i] = GLMCopulaVCObs(y, X, V, dist, link)\n",
    "        end\n",
    "        qc_model = GLMCopulaVCModel(obs)\n",
    "    end\n",
    "    return qc_model, Γ, G, βtrue, θtrue, γtrue\n",
    "end\n",
    "\n",
    "k = 0 # number of causal SNPs\n",
    "\n",
    "qc_model, Γ, G, βtrue, θtrue, γtrue = simulate_VC_longitudinal(\n",
    "    n = 5000, # sample size\n",
    "    d = 5, # number of observations per sample\n",
    "    p = 3, # number of fixed effects, including intercept\n",
    "    m = 2, # number of variance components\n",
    "    q = 1000, # number of SNPs\n",
    "    k = k, # number of causal SNPs\n",
    "    seed = 2022,\n",
    "    y_distribution = Normal,\n",
    "    T = Float64,\n",
    ")\n",
    "\n",
    "@show qc_model;"
   ]
  },
  {
   "cell_type": "markdown",
   "metadata": {},
   "source": [
    "## Fit Null model"
   ]
  },
  {
   "cell_type": "code",
   "execution_count": 57,
   "metadata": {
    "collapsed": false,
    "scrolled": true
   },
   "outputs": [
    {
     "name": "stdout",
     "output_type": "stream",
     "text": [
      "This is Ipopt version 3.13.4, running with linear solver mumps.\n",
      "NOTE: Other linear solvers might be more efficient (see Ipopt documentation).\n",
      "\n",
      "Number of nonzeros in equality constraint Jacobian...:        0\n",
      "Number of nonzeros in inequality constraint Jacobian.:        0\n",
      "Number of nonzeros in Lagrangian Hessian.............:        0\n",
      "\n",
      "Total number of variables............................:        6\n",
      "                     variables with only lower bounds:        3\n",
      "                variables with lower and upper bounds:        0\n",
      "                     variables with only upper bounds:        0\n",
      "Total number of equality constraints.................:        0\n",
      "Total number of inequality constraints...............:        0\n",
      "        inequality constraints with only lower bounds:        0\n",
      "   inequality constraints with lower and upper bounds:        0\n",
      "        inequality constraints with only upper bounds:        0\n",
      "\n",
      "iter    objective    inf_pr   inf_du lg(mu)  ||d||  lg(rg) alpha_du alpha_pr  ls\n",
      "   0  8.4046642e+03 0.00e+00 1.00e+02   0.0 0.00e+00    -  0.00e+00 0.00e+00   0\n",
      "   1  1.8886794e+06 0.00e+00 7.64e+05  -4.0 1.00e+02    -  1.00e+00 3.61e-02h  5\n",
      "   2  8.4046242e+03 0.00e+00 2.10e+01  -3.9 3.61e+00    -  1.00e+00 1.00e+00f  1\n",
      "   3  8.4046227e+03 0.00e+00 4.50e+00  -5.8 1.03e-04    -  1.00e+00 1.00e+00f  1\n",
      "   4  8.4046227e+03 0.00e+00 4.25e-01  -7.7 2.85e-05    -  1.00e+00 1.00e+00f  1\n",
      "   5  8.4046227e+03 0.00e+00 3.85e-01  -9.6 2.88e-06    -  1.00e+00 1.00e+00f  1\n",
      "   6  8.4046227e+03 0.00e+00 8.37e-01  -9.7 5.26e-05    -  1.00e+00 1.00e+00f  1\n",
      "   7  8.4046227e+03 0.00e+00 1.92e-01  -9.7 2.06e-05    -  1.00e+00 1.00e+00f  1\n",
      "   8  8.4046227e+03 0.00e+00 2.82e-01 -11.0 4.82e-06    -  1.00e+00 5.00e-01f  2\n",
      "   9  8.4046226e+03 0.00e+00 6.79e-02 -11.0 1.63e-06    -  1.00e+00 1.00e+00f  1\n",
      "iter    objective    inf_pr   inf_du lg(mu)  ||d||  lg(rg) alpha_du alpha_pr  ls\n",
      "  10  8.4046226e+03 0.00e+00 5.50e-02 -11.0 3.47e-06    -  1.00e+00 1.00e+00f  1\n",
      "  11  8.4046226e+03 0.00e+00 2.57e-01 -11.0 1.52e-05    -  1.00e+00 5.00e-01f  2\n",
      "  12  8.4046226e+03 0.00e+00 7.99e-02 -11.0 5.78e-05    -  1.00e+00 2.50e-01f  3\n",
      "  13  8.4046226e+03 0.00e+00 1.10e-01 -11.0 1.17e-05    -  1.00e+00 2.50e-01f  3\n",
      "  14  8.4046226e+03 0.00e+00 6.14e-02 -11.0 5.62e-06    -  1.00e+00 1.00e+00f  1\n",
      "  15  8.4046226e+03 0.00e+00 2.04e-02 -11.0 1.54e-05    -  1.00e+00 1.25e-01f  4\n",
      "  16  8.4046226e+03 0.00e+00 3.50e-02 -11.0 3.14e-06    -  1.00e+00 1.00e+00f  1\n",
      "  17  8.4046226e+03 0.00e+00 3.81e-01 -11.0 7.18e-04    -  1.00e+00 6.25e-02h  5\n",
      "  18  8.4046226e+03 0.00e+00 3.35e-01 -11.0 8.18e-05    -  1.00e+00 6.25e-02f  5\n",
      "  19  8.4046226e+03 0.00e+00 1.48e-01 -11.0 6.17e-05    -  1.00e+00 5.00e-01f  2\n",
      "iter    objective    inf_pr   inf_du lg(mu)  ||d||  lg(rg) alpha_du alpha_pr  ls\n",
      "  20  8.4046226e+03 0.00e+00 6.40e-01 -11.0 5.85e-04    -  1.00e+00 1.25e-01f  4\n",
      "  21  8.4046226e+03 0.00e+00 1.38e+00 -11.0 2.00e-03    -  1.00e+00 2.50e-01f  3\n",
      "  22  8.4046235e+03 0.00e+00 7.20e+00 -11.0 2.00e-01    -  1.00e+00 6.25e-02h  5\n",
      "  23  8.4046705e+03 0.00e+00 1.07e+02 -11.0 7.26e-02    -  1.00e+00 6.25e-02h  5\n",
      "  24  8.4046226e+03 0.00e+00 2.38e-01 -11.0 6.50e-03    -  1.00e+00 1.00e+00f  1\n",
      "  25  8.4046226e+03 0.00e+00 2.16e-01 -11.0 1.01e-04    -  1.00e+00 6.25e-02f  5\n",
      "  26  8.4046226e+03 0.00e+00 1.38e-01 -11.0 4.87e-04    -  1.00e+00 6.25e-02f  5\n",
      "  27  8.4046226e+03 0.00e+00 1.63e+00 -11.0 5.67e-04    -  1.00e+00 6.25e-02h  5\n",
      "  28  8.4046226e+03 0.00e+00 5.49e-02 -11.0 2.51e-05    -  1.00e+00 1.00e+00f  1\n",
      "  29  8.4046226e+03 0.00e+00 4.14e-02 -11.0 2.17e-05    -  1.00e+00 5.00e-01f  2\n",
      "iter    objective    inf_pr   inf_du lg(mu)  ||d||  lg(rg) alpha_du alpha_pr  ls\n",
      "  30  8.4046226e+03 0.00e+00 2.21e-02 -11.0 2.66e-04    -  1.00e+00 6.25e-02h  5\n",
      "  31  8.4046226e+03 0.00e+00 1.91e-02 -11.0 1.11e-03    -  1.00e+00 6.25e-02f  5\n",
      "  32  8.4046226e+03 0.00e+00 2.22e+00 -11.0 3.37e-03    -  1.00e+00 6.25e-02h  5\n",
      "  33  8.4046226e+03 0.00e+00 4.74e-01 -11.0 1.37e-04    -  1.00e+00 1.00e+00f  1\n",
      "  34  8.4046226e+03 0.00e+00 1.05e+00 -11.0 7.11e-03    -  1.00e+00 6.25e-02h  5\n",
      "  35  8.4046226e+03 0.00e+00 1.28e+00 -11.0 1.52e-04    -  1.00e+00 6.25e-02f  5\n",
      "  36  8.4046226e+03 0.00e+00 8.97e-01 -11.0 7.36e-04    -  1.00e+00 1.00e+00f  1\n",
      "  37  8.4046239e+03 0.00e+00 6.64e+00 -11.0 3.27e-02    -  1.00e+00 6.25e-02h  5\n",
      "  38  8.4046238e+03 0.00e+00 7.91e+00 -11.0 8.14e-03    -  1.00e+00 5.00e-01f  2\n",
      "  39  8.4046300e+03 0.00e+00 1.17e+01 -11.0 3.03e-02    -  1.00e+00 6.25e-02h  5\n",
      "iter    objective    inf_pr   inf_du lg(mu)  ||d||  lg(rg) alpha_du alpha_pr  ls\n",
      "  40  8.4046226e+03 0.00e+00 8.92e-01 -11.0 2.00e-03    -  1.00e+00 1.00e+00f  1\n",
      "  41  8.4046226e+03 0.00e+00 2.64e+00 -11.0 6.84e-04    -  1.00e+00 6.25e-02h  5\n",
      "  42  8.4046226e+03 0.00e+00 3.81e-02 -11.0 8.07e-05    -  1.00e+00 1.00e+00f  1\n",
      "  43  8.4046226e+03 0.00e+00 2.17e-02 -11.0 3.87e-05    -  1.00e+00 6.25e-02f  5\n",
      "  44  8.4046226e+03 0.00e+00 2.20e-02 -11.0 2.07e-05    -  1.00e+00 6.25e-02f  5\n",
      "  45  8.4046226e+03 0.00e+00 3.63e-02 -11.0 5.53e-05    -  1.00e+00 6.25e-02h  5\n",
      "  46  8.4046226e+03 0.00e+00 6.31e-03 -11.0 2.24e-05    -  1.00e+00 1.00e+00f  1\n",
      "  47  8.4046226e+03 0.00e+00 3.44e-02 -11.0 2.61e-04    -  1.00e+00 6.25e-02h  5\n",
      "  48  8.4046226e+03 0.00e+00 6.91e-03 -11.0 5.10e-05    -  1.00e+00 1.00e+00f  1\n",
      "  49  8.4046226e+03 0.00e+00 1.73e-01 -11.0 9.61e-05    -  1.00e+00 6.25e-02h  5\n",
      "iter    objective    inf_pr   inf_du lg(mu)  ||d||  lg(rg) alpha_du alpha_pr  ls\n",
      "  50  8.4046226e+03 0.00e+00 1.41e-01 -11.0 1.90e-05    -  1.00e+00 5.00e-01f  2\n",
      "  51  8.4046226e+03 0.00e+00 8.97e-02 -11.0 3.37e-05    -  1.00e+00 6.25e-02f  5\n",
      "  52  8.4046226e+03 0.00e+00 6.59e-02 -11.0 4.62e-05    -  1.00e+00 5.00e-01f  2\n",
      "  53  8.4046226e+03 0.00e+00 6.49e-01 -11.0 4.11e-03    -  1.00e+00 6.25e-02h  5\n",
      "  54  8.4046226e+03 0.00e+00 8.02e-01 -11.0 3.93e-04    -  1.00e+00 5.00e-01f  2\n",
      "  55  8.4046226e+03 0.00e+00 8.25e-01 -11.0 9.06e-04    -  1.00e+00 6.25e-02h  5\n",
      "  56  8.4046226e+03 0.00e+00 8.97e-01 -11.0 6.42e-04    -  1.00e+00 1.00e+00f  1\n",
      "  57  8.4046234e+03 0.00e+00 1.45e+01 -11.0 4.86e-02    -  1.00e+00 6.25e-02h  5\n",
      "  58  8.4046236e+03 0.00e+00 9.23e+00 -11.0 7.51e-02    -  1.00e+00 6.25e-02h  5\n",
      "  59  8.4046700e+03 0.00e+00 1.01e+02 -11.0 2.99e-01    -  1.00e+00 4.70e-02h  5\n",
      "iter    objective    inf_pr   inf_du lg(mu)  ||d||  lg(rg) alpha_du alpha_pr  ls\n",
      "  60  8.4046635e+03 0.00e+00 6.22e+01 -11.0 3.51e-02    -  1.00e+00 1.25e-01f  4\n",
      "  61  8.4046706e+03 0.00e+00 6.27e+01 -11.0 2.33e-01    -  7.12e-01 6.25e-02h  5\n",
      "  62  8.4046594e+03 0.00e+00 6.78e+01 -11.0 9.47e-01    -  1.00e+00 6.25e-02f  5\n",
      "  63  8.4047643e+03 0.00e+00 1.40e+02 -11.0 6.65e+00    -  1.00e+00 7.95e-03h  5\n",
      "  64  8.4047988e+03 0.00e+00 1.11e+02 -11.0 1.41e+01    -  1.00e+00 2.45e-03h  5\n",
      "  65  8.4048001e+03 0.00e+00 1.18e+02 -11.0 9.51e-01    -  1.00e+00 3.08e-02h  5\n",
      "  66  8.4050838e+03 0.00e+00 1.87e+02 -11.0 2.11e+00    -  4.67e-01 6.25e-02h  5\n",
      "  67  8.4147011e+03 0.00e+00 1.02e+03 -11.0 7.52e-01    -  1.00e+00 3.04e-01w  1\n",
      "  68  8.4107986e+03 0.00e+00 4.68e+02 -11.0 2.93e-01    -  1.67e-10 1.00e+00w  1\n",
      "  69  8.4897065e+03 0.00e+00 2.72e+03 -11.0 2.43e+00    -  1.00e+00 1.98e-01w  1\n",
      "iter    objective    inf_pr   inf_du lg(mu)  ||d||  lg(rg) alpha_du alpha_pr  ls\n",
      "  70  8.4050809e+03 0.00e+00 1.53e+02 -11.0 4.89e-01    -  1.00e+00 9.50e-03f  5\n",
      "  71  8.4130674e+03 0.00e+00 7.20e+02 -11.0 9.74e+00    -  3.43e-02 6.25e-02h  5\n",
      "  72  8.4821051e+03 0.00e+00 3.72e+03 -11.0 1.14e+01    -  4.84e-01 6.25e-02h  5\n",
      "  73  8.4812797e+03 0.00e+00 3.87e+03 -11.0 7.95e+00    -  1.00e+00 1.56e-02f  5\n",
      "  74  8.4771278e+03 0.00e+00 3.24e+03 -11.0 1.12e+01    -  1.00e+00 3.37e-02f  4\n",
      "  75  8.4331103e+03 0.00e+00 6.06e+02 -11.0 3.65e+01    -  4.91e-02 1.80e-02f  5\n",
      "  76  8.4135206e+03 0.00e+00 1.23e+03 -11.0 3.22e+00    -  1.00e+00 1.39e-01f  1\n",
      "  77  8.4118951e+03 0.00e+00 1.24e+03 -11.0 1.57e+00    -  6.41e-12 1.25e-01f  4\n",
      "  78  8.4096877e+03 0.00e+00 3.20e+02 -11.0 3.87e+00    -  8.14e-01 2.75e-02f  3\n",
      "  79  8.4059523e+03 0.00e+00 3.29e+02 -11.0 9.62e-01    -  5.59e-02 2.56e-02f  3\n",
      "iter    objective    inf_pr   inf_du lg(mu)  ||d||  lg(rg) alpha_du alpha_pr  ls\n",
      "  80  8.4056340e+03 0.00e+00 3.23e+02 -11.0 3.86e-01    -  1.00e+00 1.03e-01f  4\n",
      "  81  8.4048125e+03 0.00e+00 1.92e+02 -11.0 5.55e-01    -  1.00e+00 2.50e-01f  3\n",
      "  82  1.1021839e+04 0.00e+00 2.23e+04 -11.0 3.37e+01    -  3.38e-02 6.25e-02h  5\n",
      "  83  8.4048694e+03 0.00e+00 1.40e+02 -11.0 2.24e+00    -  1.00e+00 1.00e+00f  1\n",
      "  84  8.4046392e+03 0.00e+00 3.16e+01 -11.0 9.62e-01    -  1.00e+00 1.25e-01f  4\n",
      "  85  8.4084551e+03 0.00e+00 5.66e+02 -11.0 1.37e+01    -  1.97e-02 1.96e-02h  5\n",
      "  86  8.4057258e+03 0.00e+00 1.14e+02 -11.0 2.33e-02    -  1.00e+00 1.00e+00f  1\n",
      "  87  8.4053424e+03 0.00e+00 2.69e+02 -11.0 2.41e-01    -  1.00e+00 5.00e-01f  2\n",
      "  88  8.4051957e+03 0.00e+00 2.30e+02 -11.0 1.69e+02    -  1.00e+00 1.44e-03f  2\n",
      "  89  8.4051905e+03 0.00e+00 1.38e+02 -11.0 5.87e+00    -  9.37e-01 1.10e-03f  4\n",
      "iter    objective    inf_pr   inf_du lg(mu)  ||d||  lg(rg) alpha_du alpha_pr  ls\n",
      "  90  8.4048495e+03 0.00e+00 1.24e+02 -11.0 3.79e-01    -  4.12e-01 5.00e-01f  2\n",
      "  91  8.4094135e+03 0.00e+00 8.75e+02 -11.0 2.39e+01    -  2.52e-02 1.56e-03h  5\n",
      "  92  8.4075788e+03 0.00e+00 6.63e+02 -11.0 4.24e-01    -  1.00e+00 1.00e+00f  1\n",
      "  93  8.4070163e+03 0.00e+00 3.43e+02 -11.0 2.33e+01    -  2.02e-02 1.73e-03f  4\n",
      "  94  8.4065234e+03 0.00e+00 5.06e+02 -11.0 1.80e+00    -  7.74e-02 6.25e-02f  5\n",
      "  95  8.4461889e+03 0.00e+00 2.67e+03 -11.0 9.44e+01    -  9.99e-02 1.22e-02h  5\n",
      "  96  8.4457366e+03 0.00e+00 2.50e+03 -11.0 1.91e+00    -  1.00e+00 1.31e-02f  4\n",
      "  97  8.4392179e+03 0.00e+00 2.32e+03 -11.0 4.06e+00    -  1.00e+00 1.42e-01f  2\n",
      "  98  8.4048917e+03 0.00e+00 2.13e+02 -11.0 8.60e+01    -  7.40e-03 4.49e-03f  3\n",
      "  99  8.4055945e+03 0.00e+00 2.41e+02 -11.0 6.71e-01    -  6.33e-01 6.25e-02h  5\n",
      "iter    objective    inf_pr   inf_du lg(mu)  ||d||  lg(rg) alpha_du alpha_pr  ls\n",
      " 100  8.4054537e+03 0.00e+00 1.50e+02 -11.0 2.12e-01    -  1.00e+00 1.25e-01f  4\n",
      "\n",
      "Number of Iterations....: 100\n",
      "\n",
      "                                   (scaled)                 (unscaled)\n",
      "Objective...............:   7.4166423748100988e+03    8.4054536577982308e+03\n",
      "Dual infeasibility......:   1.4979067208885934e+02    1.6976125974330748e+02\n",
      "Constraint violation....:   0.0000000000000000e+00    0.0000000000000000e+00\n",
      "Complementarity.........:   1.0964910766703476e-11    1.2426788923306931e-11\n",
      "Overall NLP error.......:   1.4979067208885934e+02    1.6976125974330748e+02\n",
      "\n",
      "\n",
      "Number of objective function evaluations             = 629\n",
      "Number of objective gradient evaluations             = 101\n",
      "Number of equality constraint evaluations            = 0\n",
      "Number of inequality constraint evaluations          = 0\n",
      "Number of equality constraint Jacobian evaluations   = 0\n",
      "Number of inequality constraint Jacobian evaluations = 0\n",
      "Number of Lagrangian Hessian evaluations             = 0\n",
      "Total CPU secs in IPOPT (w/o function evaluations)   =      0.259\n",
      "Total CPU secs in NLP function evaluations           =      2.136\n",
      "\n",
      "EXIT: Maximum Number of Iterations Exceeded.\n",
      "  2.492873 seconds (14.65 M allocations: 447.703 MiB, 2.17% gc time)\n"
     ]
    },
    {
     "name": "stderr",
     "output_type": "stream",
     "text": [
      "┌ Warning: Optimization unsuccesful; got UserLimit\n",
      "└ @ QuasiCopula /Users/biona001/.julia/dev/QuasiCopula/src/parameter_estimation/fit_gaussian_vc.jl:36\n"
     ]
    }
   ],
   "source": [
    "@time optm = QuasiCopula.fit!(qc_model,\n",
    "    Ipopt.IpoptSolver(\n",
    "        print_level = 5, \n",
    "        tol = 10^-6, \n",
    "        max_iter = 100,\n",
    "        accept_after_max_steps = 4,\n",
    "        warm_start_init_point=\"yes\", \n",
    "        limited_memory_max_history = 6, # default value\n",
    "        hessian_approximation = \"limited-memory\",\n",
    "#         derivative_test=\"second-order\"\n",
    "    )\n",
    ");"
   ]
  },
  {
   "cell_type": "code",
   "execution_count": 58,
   "metadata": {
    "collapsed": false
   },
   "outputs": [
    {
     "name": "stdout",
     "output_type": "stream",
     "text": [
      "βtrue = [-0.07862270924112941, 0.0811052878194761, 0.004125250997353946]\n",
      "qc_model.β = [-0.07942021920981282, 0.0867597854892763, 0.0020328104490122795]\n",
      "qc_model.∇β = [-46.86163213623711, -169.7612597433075, 168.61212220572057]\n",
      "θtrue = [0.1, 0.1]\n",
      "qc_model.θ = [0.07754690208709304, 0.0748236811960934]\n",
      "qc_model.∇θ = [-19.35295007304929, -70.09846564174487]\n"
     ]
    }
   ],
   "source": [
    "@show βtrue\n",
    "@show qc_model.β\n",
    "@show qc_model.∇β\n",
    "\n",
    "@show θtrue\n",
    "@show qc_model.θ\n",
    "@show qc_model.∇θ;"
   ]
  },
  {
   "cell_type": "markdown",
   "metadata": {},
   "source": [
    "# Loglikelihood function friendly to autodiff"
   ]
  },
  {
   "cell_type": "code",
   "execution_count": 61,
   "metadata": {
    "collapsed": false
   },
   "outputs": [
    {
     "data": {
      "text/plain": [
       "autodiff_loglikelihood (generic function with 1 method)"
      ]
     },
     "execution_count": 61,
     "metadata": {},
     "output_type": "execute_result"
    }
   ],
   "source": [
    "function A_mul_b!(c::AbstractVector{T}, A::AbstractMatrix, b::AbstractVector) where T\n",
    "    n, p = size(A)\n",
    "    fill!(c, zero(T))\n",
    "    for j in 1:p, i in 1:n\n",
    "        c[i] += A[i, j] * b[j]\n",
    "    end\n",
    "    return c\n",
    "end\n",
    "\n",
    "function loglikelihood(\n",
    "    par::AbstractVector{T}, # p+2+1 × 1 where 2 is for θ, 1 is for the SNP\n",
    "    qc_model::Union{GLMCopulaVCModel, NBCopulaVCModel}, # fitted null model\n",
    "    z::AbstractVector # n × 1 genotype vector\n",
    "    ) where T\n",
    "    β = [par[1:end-3]; par[end]] # nongenetic + genetic beta\n",
    "    θ = par[end-2:end-1]         # vc parameters\n",
    "    # allocate vector of type T\n",
    "    n, p = size(qc_model.data[1].X)\n",
    "    η = zeros(T, n)\n",
    "    μ = zeros(T, n)\n",
    "    varμ = zeros(T, n)\n",
    "    res = zeros(T, n)\n",
    "    storage_n = zeros(T, n)\n",
    "    q = zeros(T, length(θ))\n",
    "    logl = zero(T)\n",
    "    for (i, gc) in enumerate(qc_model.data)\n",
    "        snps = fill(z[i], size(gc.X, 1))\n",
    "        X = hcat(gc.X, snps) # genetic and nongenetic covariates\n",
    "        y = gc.y\n",
    "        n, p = size(X)\n",
    "        # update_res! step (need to avoid BLAS)\n",
    "        A_mul_b!(η, X, β)\n",
    "        for j in 1:gc.n\n",
    "            μ[j] = GLM.linkinv(gc.link, η[j])\n",
    "            varμ[j] = GLM.glmvar(gc.d, μ[j]) # Note: for negative binomial, d.r is used\n",
    "#             dμ[j] = GLM.mueta(gc.link, η[j])\n",
    "#             w1[j] = dμ[j] / varμ[j]\n",
    "#             w2[j] = w1[j] * dμ[j]\n",
    "            res[j] = y[j] - μ[j]\n",
    "        end\n",
    "        # standardize_res! step\n",
    "        for j in eachindex(y)\n",
    "            res[j] /= sqrt(varμ[j])\n",
    "        end\n",
    "        # std_res_differential! step (this will compute ∇resβ)\n",
    "#         for i in 1:gc.p\n",
    "#             for j in 1:gc.n\n",
    "#                 ∇resβ[j, i] = -sqrt(varμ[j]) * X[j, i] - (0.5 * res[j] * (1 - (2 * μ[j])) * X[j, i])\n",
    "#             end\n",
    "#         end\n",
    "        # update Γ\n",
    "        @inbounds for k in 1:gc.m\n",
    "            A_mul_b!(storage_n, gc.V[k], res)\n",
    "            q[k] = dot(res, storage_n) / 2 # q[k] = 0.5 r' * V[k] * r (update variable b for variance component model)\n",
    "        end\n",
    "        # component_loglikelihood\n",
    "        for j in 1:gc.n\n",
    "            logl += QuasiCopula.loglik_obs(gc.d, y[j], μ[j], one(T), one(T))\n",
    "        end\n",
    "        tsum = dot(θ, gc.t)\n",
    "        logl += -log(1 + tsum)\n",
    "        qsum  = dot(θ, q) # qsum = 0.5 r'Γr\n",
    "        logl += log(1 + qsum)\n",
    "    end\n",
    "    return logl\n",
    "end\n",
    "\n",
    "function loglikelihood(\n",
    "    par::AbstractVector{T}, # p+2+1+1, where 2 is for θ, 1 is τ, and last 1 is for the SNP\n",
    "    gcm::GaussianCopulaVCModel,\n",
    "    z::AbstractVector # n × 1 genotype vector\n",
    "    ) where T\n",
    "    β = [par[1:end-4]; par[end]] # nongenetic + genetic beta\n",
    "    θ = par[end-3:end-2]         # vc parameters\n",
    "    τ = par[end-1]               # dispersion for gaussian\n",
    "    # allocate vector of type T\n",
    "    n, p = size(gcm.data[1].X)\n",
    "    μ = zeros(T, n)\n",
    "    res = zeros(T, n)\n",
    "    storage_n = zeros(T, n)\n",
    "    q = zeros(T, length(θ))\n",
    "    logl = zero(T)\n",
    "    for (i, gc) in enumerate(qc_model.data)\n",
    "        snps = fill(z[i], size(gc.X, 1))\n",
    "        X = hcat(gc.X, snps) # genetic and nongenetic covariates\n",
    "        y = gc.y\n",
    "        n, p = size(X)\n",
    "        sqrtτ = sqrt(abs(τ))\n",
    "        # update_res! step (need to avoid BLAS)\n",
    "        A_mul_b!(μ, X, β)\n",
    "        for j in 1:gc.n\n",
    "            res[j] = y[j] - μ[j]\n",
    "        end\n",
    "        # standardize_res! step\n",
    "        res .*= sqrtτ\n",
    "        rss  = abs2(norm(res)) # RSS of standardized residual\n",
    "        tsum = dot(abs.(θ), gc.t) # ben: why is there abs here?\n",
    "        logl += - log(1 + tsum) - (gc.n * log(2π) -  gc.n * log(abs(τ)) + rss) / 2\n",
    "        # update Γ\n",
    "        @inbounds for k in 1:gc.m\n",
    "            A_mul_b!(storage_n, gc.V[k], res)\n",
    "            q[k] = dot(res, storage_n) / 2 # q[k] = 0.5 r' * V[k] * r (update variable b for variance component model)\n",
    "        end\n",
    "        qsum  = dot(θ, q)\n",
    "        logl += log(1 + qsum)\n",
    "    end\n",
    "    return logl\n",
    "end\n",
    "\n",
    "autodiff_loglikelihood(β) = loglikelihood(β, qc_model, z)"
   ]
  },
  {
   "cell_type": "markdown",
   "metadata": {},
   "source": [
    "First, check if `autodiff_loglikelihood` returns same answer as `QuasiCopula.loglikelihood!`"
   ]
  },
  {
   "cell_type": "code",
   "execution_count": 62,
   "metadata": {
    "collapsed": false
   },
   "outputs": [
    {
     "name": "stdout",
     "output_type": "stream",
     "text": [
      "autodiff_loglikelihood(fullβ) = -8405.453657798216\n",
      "QuasiCopula.loglikelihood!(qc_model, false, false) = -8405.45365779823\n"
     ]
    }
   ],
   "source": [
    "i = 1\n",
    "z = convert(Vector{Float64}, @view(G[:, i]), center=true, scale=false)\n",
    "# fullβ = [qc_model.β; qc_model.θ; 0.0] # poisson or bernoulli\n",
    "fullβ = [qc_model.β; qc_model.θ; qc_model.τ; 0.0] # normal\n",
    "\n",
    "@show autodiff_loglikelihood(fullβ)\n",
    "@show QuasiCopula.loglikelihood!(qc_model, false, false);"
   ]
  },
  {
   "cell_type": "markdown",
   "metadata": {},
   "source": [
    "Lets compute a few Hessians"
   ]
  },
  {
   "cell_type": "code",
   "execution_count": 63,
   "metadata": {
    "collapsed": false
   },
   "outputs": [
    {
     "data": {
      "text/plain": [
       "#62 (generic function with 1 method)"
      ]
     },
     "execution_count": 63,
     "metadata": {},
     "output_type": "execute_result"
    }
   ],
   "source": [
    "# autodiff Gradient\n",
    "∇logl = x -> ForwardDiff.gradient(autodiff_loglikelihood, x)\n",
    "\n",
    "# autodiff Hessian\n",
    "∇²logl = x -> ForwardDiff.hessian(autodiff_loglikelihood, x)"
   ]
  },
  {
   "cell_type": "code",
   "execution_count": 64,
   "metadata": {
    "collapsed": false
   },
   "outputs": [
    {
     "data": {
      "text/plain": [
       "7×7 Matrix{Float64}:\n",
       " -180054.0      -372.956          822.02    …    -5.02101    -145.479\n",
       "    -372.956      -2.20698e5     -298.431       -18.5145      368.945\n",
       "     822.02     -298.431      -217976.0          15.6225     -306.517\n",
       "   -1648.77      224.469          271.057       557.419      -279.347\n",
       "     -51.1885    122.903          -44.562       652.544       -33.0292\n",
       "      -5.02101   -18.5145          15.6225  …  -142.949         3.24425\n",
       "    -145.479     368.945         -306.517         3.24425  -18937.7"
      ]
     },
     "execution_count": 64,
     "metadata": {},
     "output_type": "execute_result"
    }
   ],
   "source": [
    "i = 1\n",
    "z = convert(Vector{Float64}, @view(G[:, i]), center=true, scale=false)\n",
    "Hfull = ∇²logl(fullβ) # snp 1"
   ]
  },
  {
   "cell_type": "code",
   "execution_count": 65,
   "metadata": {
    "collapsed": false
   },
   "outputs": [
    {
     "data": {
      "text/plain": [
       "7×7 Matrix{Float64}:\n",
       " -180054.0      -372.956      …    -51.1885    -5.02101    -167.252\n",
       "    -372.956      -2.20698e5       122.903    -18.5145      573.299\n",
       "     822.02     -298.431           -44.562     15.6225     -979.616\n",
       "   -1648.77      224.469           -38.2823   557.419       524.862\n",
       "     -51.1885    122.903         -3478.02     652.544       -47.861\n",
       "      -5.02101   -18.5145     …    652.544   -142.949       -55.2552\n",
       "    -167.252     573.299           -47.861    -55.2552   -77792.1"
      ]
     },
     "execution_count": 65,
     "metadata": {},
     "output_type": "execute_result"
    }
   ],
   "source": [
    "i = 16\n",
    "z = convert(Vector{Float64}, @view(G[:, i]), center=true, scale=false)\n",
    "Hfull = ∇²logl(fullβ) # snp 10"
   ]
  },
  {
   "cell_type": "code",
   "execution_count": 66,
   "metadata": {
    "collapsed": false
   },
   "outputs": [
    {
     "data": {
      "text/plain": [
       "0.09487526723381465"
      ]
     },
     "execution_count": 66,
     "metadata": {},
     "output_type": "execute_result"
    }
   ],
   "source": [
    "W = -Hfull[1:end-1, end]\n",
    "Q = -Hfull[end, end]\n",
    "Pinv = inv(-Hfull[1:end-1, 1:end-1])\n",
    "R = ∇logl(fullβ)[end]\n",
    "S = R * inv(Q - W'*Pinv*W) * R\n",
    "pval = ccdf(Chisq(1), S)"
   ]
  },
  {
   "cell_type": "code",
   "execution_count": 67,
   "metadata": {
    "collapsed": false
   },
   "outputs": [
    {
     "data": {
      "text/plain": [
       "7-element Vector{Float64}:\n",
       "  -46.86163213623448\n",
       " -169.7612597433045\n",
       "  168.61212220571565\n",
       "  -19.35295007305163\n",
       "  -70.0984656417475\n",
       "   13.53933736961438\n",
       " -460.56661186277677"
      ]
     },
     "execution_count": 67,
     "metadata": {},
     "output_type": "execute_result"
    }
   ],
   "source": [
    "∇logl(fullβ)"
   ]
  },
  {
   "cell_type": "markdown",
   "metadata": {},
   "source": [
    "# Score tests by autodiffing everything"
   ]
  },
  {
   "cell_type": "code",
   "execution_count": 74,
   "metadata": {
    "collapsed": false
   },
   "outputs": [
    {
     "data": {
      "text/plain": [
       "GWASCopulaVCModel_autodiff (generic function with 3 methods)"
      ]
     },
     "execution_count": 74,
     "metadata": {},
     "output_type": "execute_result"
    }
   ],
   "source": [
    "function GWASCopulaVCModel_autodiff(\n",
    "    gcm::Union{GLMCopulaVCModel, NBCopulaVCModel},\n",
    "    G::SnpArray;\n",
    "    )\n",
    "    # define autodiff likelihood, gradient, and Hessians\n",
    "    autodiff_loglikelihood(β) = loglikelihood(β, qc_model, z)\n",
    "    ∇logl = x -> ForwardDiff.gradient(autodiff_loglikelihood, x)\n",
    "    ∇²logl = x -> ForwardDiff.hessian(autodiff_loglikelihood, x)\n",
    "    \n",
    "    # some needed constants\n",
    "    n, q = size(G)\n",
    "    p = length(gcm.β)\n",
    "    dist = QuasiCopula._get_null_distribution(gcm)\n",
    "    T = eltype(gcm.data[1].X)\n",
    "    n == length(gcm.data) || error(\"sample size do not agree\")\n",
    "    any(x -> abs(x) > 1e-3, gcm.∇β) && error(\"Null model gradient of beta is not zero!\")\n",
    "    any(x -> abs(x) > 1e-3, gcm.∇θ) && error(\"Null model gradient of variance components is not zero!\")\n",
    "    # compute P (negative Hessian) and inv(P)\n",
    "    z = convert(Vector{Float64}, @view(G[:, 1]), center=true, scale=false, impute=false)\n",
    "    fullβ = [qc_model.β; qc_model.θ; 0.0]\n",
    "    Hfull = ∇²logl(fullβ)\n",
    "    Pinv = inv(-Hfull[1:end-1, 1:end-1])\n",
    "    # score test for each SNP\n",
    "    pvals = zeros(T, q)\n",
    "    for j in 1:q\n",
    "        SnpArrays.copyto!(z, @view(G[:, j]), center=true, scale=false, impute=false)\n",
    "        Hfull = ∇²logl(fullβ)\n",
    "        W = -Hfull[1:end-1, end]\n",
    "        Q = -Hfull[end, end]\n",
    "        R = ∇logl(fullβ)[end]\n",
    "        S = R * inv(Q - W'*Pinv*W) * R\n",
    "        pval = ccdf(Chisq(1), S)\n",
    "        pvals[j] = pval == 0 ? 1 : pval\n",
    "    end\n",
    "    return pvals\n",
    "end\n",
    "\n",
    "function GWASCopulaVCModel_autodiff(\n",
    "    gcm::GaussianCopulaVCModel,\n",
    "    G::SnpArray;\n",
    "    )\n",
    "    # define autodiff likelihood, gradient, and Hessians\n",
    "    autodiff_loglikelihood(β) = loglikelihood(β, qc_model, z)\n",
    "    ∇logl = x -> ForwardDiff.gradient(autodiff_loglikelihood, x)\n",
    "    ∇²logl = x -> ForwardDiff.hessian(autodiff_loglikelihood, x)\n",
    "    \n",
    "    # some needed constants\n",
    "    n, q = size(G)\n",
    "    p = length(gcm.β)\n",
    "    dist = QuasiCopula._get_null_distribution(gcm)\n",
    "    T = eltype(gcm.data[1].X)\n",
    "    n == length(gcm.data) || error(\"sample size do not agree\")\n",
    "#     any(x -> abs(x) > 1e-3, gcm.∇β) && error(\"Null model gradient of beta is not zero!\")\n",
    "#     any(x -> abs(x) > 1e-3, gcm.∇θ) && error(\"Null model gradient of variance components is not zero!\")\n",
    "    # compute P (negative Hessian) and inv(P)\n",
    "    z = convert(Vector{Float64}, @view(G[:, 1]), center=true, scale=false, impute=false)\n",
    "    fullβ = [qc_model.β; qc_model.θ; qc_model.τ; 0.0]\n",
    "    Hfull = ∇²logl(fullβ)\n",
    "    Pinv = inv(-Hfull[1:end-1, 1:end-1])\n",
    "    # score test for each SNP\n",
    "    pvals = zeros(T, q)\n",
    "    for j in 1:q\n",
    "        SnpArrays.copyto!(z, @view(G[:, j]), center=true, scale=false, impute=false)\n",
    "        Hfull = ∇²logl(fullβ)\n",
    "        W = -Hfull[1:end-1, end]\n",
    "        Q = -Hfull[end, end]\n",
    "        R = ∇logl(fullβ)[end]\n",
    "        S = R * inv(Q - W'*Pinv*W) * R\n",
    "        pval = ccdf(Chisq(1), S)\n",
    "        pvals[j] = pval == 0 ? 1 : pval\n",
    "    end\n",
    "    return pvals\n",
    "end"
   ]
  },
  {
   "cell_type": "code",
   "execution_count": 75,
   "metadata": {
    "collapsed": false
   },
   "outputs": [
    {
     "name": "stdout",
     "output_type": "stream",
     "text": [
      " 87.620305 seconds (620.20 M allocations: 105.857 GiB, 13.39% gc time, 4.00% compilation time)\n"
     ]
    },
    {
     "data": {
      "text/plain": [
       "1000-element Vector{Float64}:\n",
       " 0.8535987743049637\n",
       " 0.2786513201000327\n",
       " 0.6707197265626959\n",
       " 0.8447940478039098\n",
       " 0.6393854598490942\n",
       " 0.8472083230414874\n",
       " 0.010624024375074306\n",
       " 0.8760846767298205\n",
       " 0.4295750762157907\n",
       " 0.3673940582213956\n",
       " 0.5460142178352267\n",
       " 0.3872338752614667\n",
       " 0.894713911724243\n",
       " ⋮\n",
       " 0.28354201473750773\n",
       " 0.7255064039642294\n",
       " 0.2764711520670061\n",
       " 0.18910200106366862\n",
       " 0.298710199331048\n",
       " 0.7232274535942902\n",
       " 0.49886857494758446\n",
       " 0.9210818514446771\n",
       " 0.6544663090239784\n",
       " 0.14097552155773757\n",
       " 0.13493769003979483\n",
       " 0.2040146380961452"
      ]
     },
     "execution_count": 75,
     "metadata": {},
     "output_type": "execute_result"
    }
   ],
   "source": [
    "@time pvals = GWASCopulaVCModel_autodiff(qc_model, G)"
   ]
  },
  {
   "cell_type": "code",
   "execution_count": 76,
   "metadata": {
    "collapsed": false
   },
   "outputs": [
    {
     "name": "stdout",
     "output_type": "stream",
     "text": [
      "length(signif_snps) = 0\n",
      "power = 0.0\n"
     ]
    },
    {
     "data": {
      "text/plain": [
       "0.0"
      ]
     },
     "execution_count": 76,
     "metadata": {},
     "output_type": "execute_result"
    }
   ],
   "source": [
    "correct_snps = findall(!iszero, γtrue)\n",
    "signif_snps = findall(x -> x < 0.05/length(pvals), pvals)\n",
    "power = length(correct_snps ∩ signif_snps) / max(1, length(correct_snps))\n",
    "\n",
    "@show length(signif_snps)\n",
    "@show power"
   ]
  },
  {
   "cell_type": "code",
   "execution_count": 77,
   "metadata": {
    "collapsed": false
   },
   "outputs": [
    {
     "data": {
      "text/plain": [
       "Float64[]"
      ]
     },
     "execution_count": 77,
     "metadata": {},
     "output_type": "execute_result"
    }
   ],
   "source": [
    "# pvalues of truly causal SNPs\n",
    "pvals[correct_snps] |> sort"
   ]
  },
  {
   "cell_type": "code",
   "execution_count": 78,
   "metadata": {
    "collapsed": false
   },
   "outputs": [
    {
     "data": {
      "text/plain": [
       "1000-element Vector{Float64}:\n",
       " 0.0016811360260544856\n",
       " 0.006722036530799134\n",
       " 0.007313548187976993\n",
       " 0.007831625663756826\n",
       " 0.008555659905935\n",
       " 0.009044388104475075\n",
       " 0.010624024375074306\n",
       " 0.010788594407152748\n",
       " 0.010903250319789396\n",
       " 0.011472104746104717\n",
       " 0.012021338057018693\n",
       " 0.012462248465690424\n",
       " 0.012904716911608995\n",
       " ⋮\n",
       " 0.9878304141654196\n",
       " 0.9884531939011764\n",
       " 0.989079729277882\n",
       " 0.989279161335442\n",
       " 0.9893884036754402\n",
       " 0.9898120994560248\n",
       " 0.9931488229752532\n",
       " 0.9947580423778025\n",
       " 0.9949176604062812\n",
       " 0.9951995816706248\n",
       " 0.996080410346502\n",
       " 0.9999097893163056"
      ]
     },
     "execution_count": 78,
     "metadata": {},
     "output_type": "execute_result"
    }
   ],
   "source": [
    "# pvalues of all SNPs sorted by significance\n",
    "sort(pvals)"
   ]
  },
  {
   "cell_type": "markdown",
   "metadata": {},
   "source": [
    "## QQ Plots"
   ]
  },
  {
   "cell_type": "code",
   "execution_count": 22,
   "metadata": {
    "collapsed": false
   },
   "outputs": [
    {
     "data": {
      "image/png": "[encoded data removed]"
     },
     "metadata": {},
     "output_type": "display_data"
    }
   ],
   "source": [
    "qq(pvals, dpi=100, titles=\"Poisson, $k causal SNPs\")\n",
    "display(\"image/png\", read(\"qqplot.png\"))"
   ]
  },
  {
   "cell_type": "code",
   "execution_count": 38,
   "metadata": {
    "collapsed": false
   },
   "outputs": [
    {
     "data": {
      "image/png": "[encoded data removed]"
     },
     "metadata": {},
     "output_type": "display_data"
    }
   ],
   "source": [
    "qq(pvals, dpi=100, titles=\"Bernoulli, $k causal SNPs\")\n",
    "display(\"image/png\", read(\"qqplot.png\"))"
   ]
  },
  {
   "cell_type": "code",
   "execution_count": 79,
   "metadata": {
    "collapsed": false
   },
   "outputs": [
    {
     "data": {
      "image/png": "[encoded data removed]"
     },
     "metadata": {},
     "output_type": "display_data"
    }
   ],
   "source": [
    "qq(pvals, dpi=100, titles=\"Normal, $k causal SNPs\")\n",
    "display(\"image/png\", read(\"qqplot.png\"))"
   ]
  },
  {
   "cell_type": "code",
   "execution_count": null,
   "metadata": {
    "collapsed": true
   },
   "outputs": [],
   "source": []
  }
 ],
 "metadata": {
  "@webio": {
   "lastCommId": null,
   "lastKernelId": null
  },
  "kernelspec": {
   "display_name": "Julia 1.7.3",
   "language": "julia",
   "name": "julia-1.7"
  },
  "language_info": {
   "file_extension": ".jl",
   "mimetype": "application/julia",
   "name": "julia",
   "version": "1.7.3"
  },
  "toc": {
   "base_numbering": 1,
   "nav_menu": {},
   "number_sections": true,
   "sideBar": true,
   "skip_h1_title": false,
   "title_cell": "Table of Contents",
   "title_sidebar": "Contents",
   "toc_cell": false,
   "toc_position": {},
   "toc_section_display": true,
   "toc_window_display": false
  }
 },
 "nbformat": 4,
 "nbformat_minor": 2
}
