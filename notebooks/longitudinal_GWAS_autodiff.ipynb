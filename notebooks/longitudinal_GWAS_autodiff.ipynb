{
 "cells": [
  {
   "cell_type": "markdown",
   "metadata": {},
   "source": [
    "# Longitudinal QuasiCopula GWAS with Mixed Marginals\n",
    "\n",
    "Here we will use autodiff to compute all gradient/Hessian terms (e.g. Q, W, R) and see if that gives good p-values. "
   ]
  },
  {
   "cell_type": "code",
   "execution_count": 1,
   "metadata": {
    "collapsed": false
   },
   "outputs": [
    {
     "name": "stderr",
     "output_type": "stream",
     "text": [
      "┌ Info: Precompiling QuasiCopula [c47b6ae2-b804-4668-9957-eb588c99ffbc]\n",
      "└ @ Base loading.jl:1423\n"
     ]
    },
    {
     "data": {
      "text/plain": [
       "_make_snparray (generic function with 1 method)"
      ]
     },
     "execution_count": 1,
     "metadata": {},
     "output_type": "execute_result"
    }
   ],
   "source": [
    "using Revise\n",
    "using DataFrames, Random, GLM, QuasiCopula\n",
    "using ForwardDiff, Test, LinearAlgebra\n",
    "using LinearAlgebra: BlasReal, copytri!\n",
    "using ToeplitzMatrices\n",
    "using BenchmarkTools\n",
    "using SnpArrays\n",
    "using MendelPlots\n",
    "ENV[\"COLUMNS\"] = 240\n",
    "\n",
    "BLAS.set_num_threads(1)\n",
    "Threads.nthreads()\n",
    "\n",
    "function simulate_random_snparray(s::Union{String, UndefInitializer}, n::Int64,\n",
    "    p::Int64; mafs::Vector{Float64}=zeros(Float64, p), min_ma::Int = 5)\n",
    "\n",
    "    #first simulate a random {0, 1, 2} matrix with each SNP drawn from Binomial(2, r[i])\n",
    "    A1 = BitArray(undef, n, p) \n",
    "    A2 = BitArray(undef, n, p) \n",
    "    for j in 1:p\n",
    "        minor_alleles = 0\n",
    "        maf = 0\n",
    "        while minor_alleles <= min_ma\n",
    "            maf = 0.5rand()\n",
    "            for i in 1:n\n",
    "                A1[i, j] = rand(Bernoulli(maf))\n",
    "                A2[i, j] = rand(Bernoulli(maf))\n",
    "            end\n",
    "            minor_alleles = sum(view(A1, :, j)) + sum(view(A2, :, j))\n",
    "        end\n",
    "        mafs[j] = maf\n",
    "    end\n",
    "\n",
    "    #fill the SnpArray with the corresponding x_tmp entry\n",
    "    return _make_snparray(s, A1, A2)\n",
    "end\n",
    "\n",
    "function _make_snparray(s::Union{String, UndefInitializer}, A1::BitArray, A2::BitArray)\n",
    "    n, p = size(A1)\n",
    "    x = SnpArray(s, n, p)\n",
    "    for i in 1:(n*p)\n",
    "        c = A1[i] + A2[i]\n",
    "        if c == 0\n",
    "            x[i] = 0x00\n",
    "        elseif c == 1\n",
    "            x[i] = 0x02\n",
    "        elseif c == 2\n",
    "            x[i] = 0x03\n",
    "        else\n",
    "            throw(MissingException(\"matrix shouldn't have missing values!\"))\n",
    "        end\n",
    "    end\n",
    "    return x\n",
    "end"
   ]
  },
  {
   "cell_type": "markdown",
   "metadata": {},
   "source": [
    "## Simulate data"
   ]
  },
  {
   "cell_type": "code",
   "execution_count": 30,
   "metadata": {
    "collapsed": false
   },
   "outputs": [
    {
     "name": "stdout",
     "output_type": "stream",
     "text": [
      "qc_model = Quasi-Copula Variance Component Model\n",
      "  * base distribution: Normal\n",
      "  * link function: IdentityLink\n",
      "  * number of clusters: 5000\n",
      "  * cluster size min, max: 5, 5\n",
      "  * number of variance components: 2\n",
      "  * number of fixed effects: 3\n",
      "\n"
     ]
    }
   ],
   "source": [
    "function simulate_VC_longitudinal(;\n",
    "    n = 1000, # sample size\n",
    "    d = 2, # number of observations per sample\n",
    "    p = 3, # number of nongenetic covariates, including intercept\n",
    "    m = 1, # number of variance components\n",
    "    q = 1000, # number of SNPs\n",
    "    k = 10, # number of causal SNPs\n",
    "    seed = 2022,\n",
    "    y_distribution = Bernoulli,\n",
    "    T = Float64,\n",
    "    )\n",
    "    m == 1 || m == 2 || error(\"m (number of VC) must be 1 or 2\")\n",
    "    \n",
    "    # non-genetic effect sizes\n",
    "    Random.seed!(seed)\n",
    "    βtrue = [1.0; rand(-0.02:0.04:0.02, p-1)]\n",
    "    dist = y_distribution()\n",
    "    link = canonicallink(dist)\n",
    "    Dist = typeof(dist)\n",
    "    Link = typeof(link)\n",
    "\n",
    "    # variance components\n",
    "    θtrue = fill(0.1, m)\n",
    "    V1 = ones(d, d)\n",
    "    V2 = Matrix(I, d, d)\n",
    "    Γ = m == 1 ? θtrue[1] * V1 : θtrue[1] * V1 + θtrue[2] * V2\n",
    "\n",
    "    # simulate design matrices\n",
    "    Random.seed!(seed)\n",
    "    X_full = [hcat(ones(d), randn(d, p - 1)) for i in 1:n]\n",
    "\n",
    "    # simulate random SnpArray with q SNPs and randomly choose k SNPs to be causal\n",
    "    Random.seed!(2022)\n",
    "    G = simulate_random_snparray(undef, n, q)\n",
    "    Gfloat = convert(Matrix{T}, G, center=true, scale=false)\n",
    "    γtrue = zeros(q)\n",
    "    γtrue[1:k] .= rand([-0.2, 0.2], k)\n",
    "    shuffle!(γtrue)\n",
    "    η_G = Gfloat * γtrue\n",
    "\n",
    "    # simulate phenotypes\n",
    "    if y_distribution == Normal\n",
    "        τtrue = 10.0\n",
    "        σ2 = inv(τtrue)\n",
    "        σ = sqrt(σ2)\n",
    "        obs = Vector{GaussianCopulaVCObs{T}}(undef, n)\n",
    "        for i in 1:n\n",
    "            X = X_full[i]\n",
    "            η = X * βtrue\n",
    "            η .+= η_G[i] # add genetic effects\n",
    "            μ = GLM.linkinv.(link, η)\n",
    "            vecd = Vector{ContinuousUnivariateDistribution}(undef, d)\n",
    "            for i in 1:d\n",
    "                vecd[i] = y_distribution(μ[i], σ)\n",
    "            end\n",
    "            nonmixed_multivariate_dist = NonMixedMultivariateDistribution(vecd, Γ)\n",
    "            # simuate single vector y\n",
    "            y = Vector{T}(undef, d)\n",
    "            res = Vector{T}(undef, d)\n",
    "            rand(nonmixed_multivariate_dist, y, res)\n",
    "            V = m == 1 ? [V1] : [V1, V2]\n",
    "            obs[i] = GaussianCopulaVCObs(y, X, V)\n",
    "        end\n",
    "        qc_model = GaussianCopulaVCModel(obs)\n",
    "    else\n",
    "        obs = Vector{GLMCopulaVCObs{T, Dist, Link}}(undef, n)\n",
    "        for i in 1:n\n",
    "            X = X_full[i]\n",
    "            η = X * βtrue\n",
    "            η .+= η_G[i] # add genetic effects\n",
    "            μ = GLM.linkinv.(link, η)\n",
    "            vecd = Vector{DiscreteUnivariateDistribution}(undef, d)\n",
    "            for i in 1:d\n",
    "                vecd[i] = y_distribution(μ[i])\n",
    "            end\n",
    "            nonmixed_multivariate_dist = NonMixedMultivariateDistribution(vecd, Γ)\n",
    "            # simuate single vector y\n",
    "            y = Vector{T}(undef, d)\n",
    "            res = Vector{T}(undef, d)\n",
    "            rand(nonmixed_multivariate_dist, y, res)\n",
    "            V = m == 1 ? [V1] : [V1, V2]\n",
    "            obs[i] = GLMCopulaVCObs(y, X, V, dist, link)\n",
    "        end\n",
    "        qc_model = GLMCopulaVCModel(obs)\n",
    "    end\n",
    "    return qc_model, Γ, G, βtrue, θtrue, γtrue\n",
    "end\n",
    "\n",
    "k = 0 # number of causal SNPs\n",
    "\n",
    "qc_model, Γ, G, βtrue, θtrue, γtrue = simulate_VC_longitudinal(\n",
    "    n = 5000, # sample size\n",
    "    d = 5, # number of observations per sample\n",
    "    p = 3, # number of fixed effects, including intercept\n",
    "    m = 2, # number of variance components\n",
    "    q = 1000, # number of SNPs\n",
    "    k = k, # number of causal SNPs\n",
    "    seed = 2022,\n",
    "    y_distribution = Normal,\n",
    "    T = Float64,\n",
    ")\n",
    "\n",
    "@show qc_model;"
   ]
  },
  {
   "cell_type": "markdown",
   "metadata": {},
   "source": [
    "## Fit Null model"
   ]
  },
  {
   "cell_type": "code",
   "execution_count": 33,
   "metadata": {
    "collapsed": false,
    "scrolled": true
   },
   "outputs": [
    {
     "name": "stdout",
     "output_type": "stream",
     "text": [
      "This is Ipopt version 3.13.4, running with linear solver mumps.\n",
      "NOTE: Other linear solvers might be more efficient (see Ipopt documentation).\n",
      "\n",
      "Number of nonzeros in equality constraint Jacobian...:        0\n",
      "Number of nonzeros in inequality constraint Jacobian.:        0\n",
      "Number of nonzeros in Lagrangian Hessian.............:        0\n",
      "\n",
      "Total number of variables............................:        6\n",
      "                     variables with only lower bounds:        3\n",
      "                variables with lower and upper bounds:        0\n",
      "                     variables with only upper bounds:        0\n",
      "Total number of equality constraints.................:        0\n",
      "Total number of inequality constraints...............:        0\n",
      "        inequality constraints with only lower bounds:        0\n",
      "   inequality constraints with lower and upper bounds:        0\n",
      "        inequality constraints with only upper bounds:        0\n",
      "\n",
      "iter    objective    inf_pr   inf_du lg(mu)  ||d||  lg(rg) alpha_du alpha_pr  ls\n",
      "   0  8.4046642e+03 0.00e+00 1.00e+02   0.0 0.00e+00    -  0.00e+00 0.00e+00   0\n",
      "   1  8.7612776e+03 0.00e+00 8.99e+03  -4.0 1.00e+02    -  1.00e+00 5.64e-04h 11\n",
      "   2  8.4046227e+03 0.00e+00 8.86e-01  -3.9 5.58e-02    -  1.00e+00 1.00e+00f  1\n",
      "   3  8.4046227e+03 0.00e+00 3.33e-01  -5.8 5.08e-06    -  1.00e+00 1.00e+00f  1\n",
      "   4  8.4046227e+03 0.00e+00 3.00e-01  -5.9 2.38e-06    -  1.00e+00 1.00e+00f  1\n",
      "   5  8.4046227e+03 0.00e+00 1.19e+00  -7.8 2.52e-05    -  1.00e+00 1.00e+00f  1\n",
      "   6  8.4046226e+03 0.00e+00 2.30e-01  -7.9 4.40e-05    -  1.00e+00 2.50e-01f  3\n",
      "   7  8.4046226e+03 0.00e+00 4.67e-02  -9.7 1.33e-05    -  1.00e+00 1.00e+00f  1\n",
      "   8  8.4046226e+03 0.00e+00 3.28e-02 -11.0 3.68e-06    -  1.00e+00 1.00e+00f  1\n",
      "   9  8.4046226e+03 0.00e+00 1.30e-01 -11.0 3.48e-05    -  1.00e+00 6.25e-02f  5\n",
      "iter    objective    inf_pr   inf_du lg(mu)  ||d||  lg(rg) alpha_du alpha_pr  ls\n",
      "  10  8.4046226e+03 0.00e+00 1.69e-01 -11.0 1.13e-05    -  1.00e+00 5.00e-01f  2\n",
      "  11  8.4046226e+03 0.00e+00 2.20e-02 -11.0 4.22e-05    -  1.00e+00 1.25e-01f  4\n",
      "  12  8.4046226e+03 0.00e+00 1.75e-02 -11.0 2.09e-06    -  1.00e+00 1.00e+00f  1\n",
      "  13  8.4046226e+03 0.00e+00 2.36e-01 -11.0 4.00e-05    -  1.00e+00 2.50e-01f  3\n",
      "  14  8.4046226e+03 0.00e+00 2.05e-01 -11.0 3.37e-04    -  1.00e+00 1.25e-01f  4\n",
      "  15  8.4046226e+03 0.00e+00 3.89e-01 -11.0 1.72e-03    -  1.00e+00 6.25e-02f  5\n",
      "  16  8.4046226e+03 0.00e+00 2.80e-01 -11.0 9.14e-04    -  1.00e+00 3.91e-03f  9\n",
      "  17  8.4046226e+03 0.00e+00 6.38e-01 -11.0 1.65e-04    -  1.00e+00 5.00e-01f  2\n",
      "  18  8.4046226e+03 0.00e+00 4.22e-01 -11.0 1.28e-02    -  1.00e+00 6.25e-02f  5\n",
      "  19  8.4046226e+03 0.00e+00 5.73e-01 -11.0 3.42e-02    -  1.00e+00 3.12e-02f  6\n",
      "iter    objective    inf_pr   inf_du lg(mu)  ||d||  lg(rg) alpha_du alpha_pr  ls\n",
      "  20  8.4046227e+03 0.00e+00 3.52e+00 -10.5 9.44e-01    -  1.00e+00 9.77e-04h 11\n",
      "  21  8.4046226e+03 0.00e+00 8.81e-01 -10.8 8.41e-04    -  1.00e+00 1.00e+00f  1\n",
      "  22  8.4046226e+03 0.00e+00 6.08e-01 -10.8 1.49e-01    -  1.00e+00 3.91e-03f  9\n",
      "  23  8.4046226e+03 0.00e+00 5.68e-01 -10.8 6.47e-04    -  1.00e+00 3.91e-03f  9\n",
      "  24  8.4046226e+03 0.00e+00 6.67e-02 -10.8 4.05e-04    -  1.00e+00 1.00e+00f  1\n",
      "  25  8.4046226e+03 0.00e+00 8.48e-02 -11.0 3.24e-03    -  1.00e+00 9.77e-04h 11\n",
      "  26  8.4046226e+03 0.00e+00 8.46e-04 -11.0 9.37e-06    -  1.00e+00 1.00e+00f  1\n",
      "  27  8.4046226e+03 0.00e+00 9.71e-04 -11.0 7.49e-06    -  1.00e+00 6.25e-02f  5\n",
      "  28  8.4046226e+03 0.00e+00 1.15e-03 -11.0 6.46e-06    -  1.00e+00 3.12e-02f  6\n",
      "  29  8.4046226e+03 0.00e+00 5.08e-04 -11.0 4.27e-05    -  1.00e+00 6.25e-02f  5\n",
      "iter    objective    inf_pr   inf_du lg(mu)  ||d||  lg(rg) alpha_du alpha_pr  ls\n",
      "  30  8.4046226e+03 0.00e+00 1.19e-03 -11.0 3.59e-05    -  1.00e+00 9.77e-04f 11\n",
      "  31  8.4046226e+03 0.00e+00 7.84e-05 -11.0 1.69e-06    -  1.00e+00 1.00e+00f  1\n",
      "  32  8.4046226e+03 0.00e+00 8.78e-04 -11.0 8.23e-05    -  1.00e+00 7.81e-03f  8\n",
      "  33  8.4046226e+03 0.00e+00 8.40e-04 -11.0 1.67e-06    -  1.00e+00 7.81e-03f  8\n",
      "  34  8.4046226e+03 0.00e+00 6.08e-04 -11.0 8.72e-07    -  1.00e+00 1.00e+00f  1\n",
      "  35  8.4046226e+03 0.00e+00 7.94e-04 -11.0 1.81e-05    -  1.00e+00 7.81e-03f  8\n",
      "  36  8.4046226e+03 0.00e+00 7.45e-04 -11.0 1.20e-05    -  1.00e+00 6.25e-02f  5\n",
      "  37  8.4046226e+03 0.00e+00 1.06e-03 -11.0 8.66e-05    -  1.00e+00 3.91e-03f  9\n",
      "  38  8.4046226e+03 0.00e+00 8.40e-04 -11.0 7.88e-06    -  1.00e+00 2.50e-01f  3\n",
      "  39  8.4046226e+03 0.00e+00 1.39e-03 -11.0 2.81e-05    -  1.00e+00 3.91e-03f  9\n",
      "iter    objective    inf_pr   inf_du lg(mu)  ||d||  lg(rg) alpha_du alpha_pr  ls\n",
      "  40  8.4046226e+03 0.00e+00 6.11e-06 -11.0 1.08e-06    -  1.00e+00 1.00e+00f  1\n",
      "  41  8.4046226e+03 0.00e+00 1.98e-03 -11.0 1.18e-06    -  1.00e+00 1.25e-01f  4\n",
      "  42  8.4046226e+03 0.00e+00 1.30e-04 -11.0 1.44e-07    -  1.00e+00 1.00e+00f  1\n",
      "  43  8.4046226e+03 0.00e+00 2.32e-03 -11.0 2.02e-06    -  1.00e+00 1.25e-01f  4\n",
      "  44  8.4046226e+03 0.00e+00 1.54e-03 -11.0 1.78e-06    -  1.00e+00 5.00e-01f  2\n",
      "  45  8.4046226e+03 0.00e+00 2.13e-04 -11.0 8.63e-04    -  1.00e+00 9.77e-04h 11\n",
      "  46  8.4046226e+03 0.00e+00 1.21e-03 -11.0 2.86e-05    -  1.00e+00 3.12e-02f  6\n",
      "  47  8.4046226e+03 0.00e+00 1.51e-03 -11.0 7.75e-05    -  1.00e+00 3.91e-03f  9\n",
      "  48  8.4046226e+03 0.00e+00 1.85e-03 -11.0 3.04e-05    -  1.00e+00 3.91e-03f  9\n",
      "  49  8.4046226e+03 0.00e+00 1.31e-03 -11.0 3.03e-07    -  1.00e+00 5.00e-01f  2\n",
      "iter    objective    inf_pr   inf_du lg(mu)  ||d||  lg(rg) alpha_du alpha_pr  ls\n",
      "  50  8.4046226e+03 0.00e+00 2.36e-03 -11.0 2.64e-06    -  1.00e+00 1.56e-02f  7\n",
      "  51  8.4046226e+03 0.00e+00 2.39e-06 -11.0 2.85e-08    -  1.00e+00 1.00e+00f  1\n",
      "  52  8.4046226e+03 0.00e+00 7.89e-06 -11.0 2.95e-09    -  1.00e+00 1.00e+00f  1\n",
      "  53  8.4046226e+03 0.00e+00 2.58e-05 -11.0 9.07e-08    -  1.00e+00 1.00e+00f  1\n",
      "  54  8.4046226e+03 0.00e+00 2.57e-05 -11.0 5.37e-09    -  1.00e+00 9.77e-04h 11\n",
      "  55  8.4046226e+03 0.00e+00 2.29e-05 -11.0 2.05e-07    -  1.00e+00 1.00e+00f  1\n",
      "  56  8.4046226e+03 0.00e+00 1.32e-03 -11.0 4.39e-06    -  1.00e+00 3.12e-02f  6\n",
      "  57  8.4046226e+03 0.00e+00 1.31e-03 -11.0 2.59e-07    -  1.00e+00 7.81e-03f  8\n",
      "  58  8.4046226e+03 0.00e+00 1.24e-03 -11.0 5.30e-07    -  1.00e+00 1.56e-02f  7\n",
      "  59  8.4046226e+03 0.00e+00 4.86e-04 -11.0 1.46e-06    -  1.00e+00 1.25e-01f  4\n",
      "iter    objective    inf_pr   inf_du lg(mu)  ||d||  lg(rg) alpha_du alpha_pr  ls\n",
      "  60  8.4046226e+03 0.00e+00 4.13e-04 -11.0 2.00e-05    -  1.00e+00 7.81e-03f  8\n",
      "  61  8.4046226e+03 0.00e+00 5.44e-04 -11.0 5.32e-06    -  1.00e+00 3.12e-02f  6\n",
      "  62  8.4046226e+03 0.00e+00 8.27e-04 -11.0 1.24e-05    -  1.00e+00 3.12e-02f  6\n",
      "  63  8.4046226e+03 0.00e+00 8.66e-04 -11.0 6.32e-06    -  1.00e+00 2.50e-01f  3\n",
      "  64  8.4046226e+03 0.00e+00 1.34e-03 -11.0 3.06e-06    -  1.00e+00 3.12e-02f  6\n",
      "  65  8.4046226e+03 0.00e+00 1.14e-03 -11.0 9.31e-07    -  1.00e+00 1.56e-02f  7\n",
      "  66  8.4046226e+03 0.00e+00 2.76e-03 -11.0 2.01e-06    -  1.00e+00 1.00e+00w  1\n",
      "  67  8.4046226e+03 0.00e+00 1.06e+00 -11.0 5.38e-04    -  1.00e+00 1.00e+00w  1\n",
      "  68  8.4046226e+03 0.00e+00 6.41e-01 -11.0 5.56e-04    -  1.00e+00 1.00e+00w  1\n",
      "  69  8.4046226e+03 0.00e+00 8.22e-04 -11.0 1.07e-01    -  1.00e+00 1.25e-01f  3\n",
      "iter    objective    inf_pr   inf_du lg(mu)  ||d||  lg(rg) alpha_du alpha_pr  ls\n",
      "  70  8.4046226e+03 0.00e+00 5.03e-04 -11.0 1.84e-06    -  1.00e+00 1.00e+00f  1\n",
      "  71  8.4046226e+03 0.00e+00 9.09e-04 -11.0 2.35e-04    -  1.00e+00 1.95e-03f 10\n",
      "  72  8.4046226e+03 0.00e+00 1.27e-03 -11.0 1.68e-05    -  1.00e+00 7.81e-03f  8\n",
      "  73  8.4046226e+03 0.00e+00 1.24e-03 -11.0 4.02e-06    -  1.00e+00 3.12e-02f  6\n",
      "  74  8.4046226e+03 0.00e+00 7.10e-04 -11.0 1.85e-06    -  1.00e+00 5.00e-01f  2\n",
      "  75  8.4046226e+03 0.00e+00 3.41e-04 -11.0 4.86e-04    -  1.00e+00 9.77e-04f 11\n",
      "  76  8.4046226e+03 0.00e+00 5.65e-04 -11.0 3.31e-05    -  1.00e+00 7.81e-03f  8\n",
      "  77  8.4046226e+03 0.00e+00 4.91e-04 -11.0 2.23e-06    -  1.00e+00 2.50e-01f  3\n",
      "  78  8.4046226e+03 0.00e+00 1.23e-03 -11.0 1.27e-04    -  1.00e+00 9.77e-04f 11\n",
      "  79  8.4046226e+03 0.00e+00 1.22e-03 -11.0 2.09e-05    -  1.00e+00 3.12e-02f  6\n",
      "iter    objective    inf_pr   inf_du lg(mu)  ||d||  lg(rg) alpha_du alpha_pr  ls\n",
      "  80  8.4046226e+03 0.00e+00 1.11e-03 -11.0 1.61e-04    -  1.00e+00 1.95e-03f 10\n",
      "  81  8.4046226e+03 0.00e+00 2.46e-04 -11.0 2.59e-07    -  1.00e+00 1.00e+00f  1\n",
      "  82  8.4046226e+03 0.00e+00 2.24e-04 -11.0 3.11e-05    -  1.00e+00 1.56e-02f  7\n",
      "  83  8.4046226e+03 0.00e+00 2.18e-03 -11.0 9.85e-05    -  1.00e+00 7.81e-03f  8\n",
      "  84  8.4046226e+03 0.00e+00 2.07e-03 -11.0 2.26e-06    -  1.00e+00 5.00e-01f  2\n",
      "  85  8.4046226e+03 0.00e+00 1.74e-03 -11.0 1.10e-03    -  1.00e+00 9.77e-04h 11\n",
      "  86  8.4046226e+03 0.00e+00 2.92e-03 -11.0 8.71e-05    -  1.00e+00 3.91e-03f  9\n",
      "  87  8.4046226e+03 0.00e+00 2.22e-03 -11.0 1.69e-05    -  1.00e+00 3.12e-02f  6\n",
      "  88  8.4046226e+03 0.00e+00 1.52e-03 -11.0 2.06e-06    -  1.00e+00 1.25e-01f  4\n",
      "  89  8.4046226e+03 0.00e+00 1.04e-03 -11.0 4.20e-05    -  1.00e+00 3.12e-02f  6\n",
      "iter    objective    inf_pr   inf_du lg(mu)  ||d||  lg(rg) alpha_du alpha_pr  ls\n",
      "  90  8.4046226e+03 0.00e+00 2.85e-03 -11.0 7.22e-04    -  1.00e+00 3.91e-03f  9\n",
      "  91  8.4046226e+03 0.00e+00 1.06e-03 -11.0 2.27e-06    -  1.00e+00 1.00e+00f  1\n",
      "  92  8.4046226e+03 0.00e+00 1.74e-03 -11.0 1.26e-03    -  1.00e+00 9.77e-04f 11\n",
      "  93  8.4046226e+03 0.00e+00 1.67e-03 -11.0 7.60e-05    -  1.00e+00 9.77e-04h 11\n",
      "  94  8.4046226e+03 0.00e+00 2.50e-03 -11.0 1.35e-05    -  1.00e+00 3.12e-02f  6\n",
      "  95  8.4046226e+03 0.00e+00 2.76e-03 -11.0 4.61e-06    -  1.00e+00 6.25e-02f  5\n",
      "  96  8.4046226e+03 0.00e+00 1.43e-03 -11.0 1.87e-05    -  1.00e+00 6.25e-02f  5\n",
      "  97  8.4046226e+03 0.00e+00 1.60e-03 -11.0 2.74e-05    -  1.00e+00 1.56e-02f  7\n",
      "  98  8.4046226e+03 0.00e+00 1.00e-03 -11.0 3.53e-05    -  1.00e+00 1.56e-02f  7\n",
      "  99  8.4046226e+03 0.00e+00 1.93e-03 -11.0 4.84e-05    -  1.00e+00 1.56e-02f  7\n",
      "iter    objective    inf_pr   inf_du lg(mu)  ||d||  lg(rg) alpha_du alpha_pr  ls\n",
      " 100  8.4046226e+03 0.00e+00 2.17e-03 -11.0 4.63e-05    -  1.00e+00 1.95e-03f 10\n",
      " 101  8.4046226e+03 0.00e+00 5.03e-04 -11.0 9.25e-08    -  1.00e+00 2.50e-01f  3\n",
      " 102  8.4046226e+03 0.00e+00 4.59e-04 -11.0 5.71e-07    -  1.00e+00 1.00e+00f  1\n",
      " 103  8.4046226e+03 0.00e+00 1.13e-03 -11.0 4.65e-05    -  1.00e+00 7.81e-03f  8\n",
      " 104  8.4046226e+03 0.00e+00 1.12e-03 -11.0 1.53e-06    -  1.00e+00 6.25e-02f  5\n",
      " 105  8.4046226e+03 0.00e+00 3.98e-04 -11.0 8.55e-05    -  1.00e+00 7.81e-03f  8\n",
      " 106  8.4046226e+03 0.00e+00 4.76e-04 -11.0 1.01e-04    -  1.00e+00 9.77e-04f 11\n",
      " 107  8.4046226e+03 0.00e+00 3.47e-04 -11.0 1.91e-05    -  1.00e+00 1.56e-02f  7\n",
      " 108  8.4046226e+03 0.00e+00 9.72e-04 -11.0 2.25e-04    -  1.00e+00 9.77e-04h 11\n",
      " 109  8.4046226e+03 0.00e+00 7.42e-04 -11.0 6.62e-08    -  1.00e+00 1.00e+00f  1\n",
      "iter    objective    inf_pr   inf_du lg(mu)  ||d||  lg(rg) alpha_du alpha_pr  ls\n",
      " 110  8.4046226e+03 0.00e+00 2.01e-03 -11.0 2.93e-06    -  1.00e+00 5.00e-01f  2\n",
      " 111  8.4046226e+03 0.00e+00 1.19e-03 -11.0 2.69e-06    -  1.00e+00 1.25e-01f  4\n",
      " 112  8.4046226e+03 0.00e+00 1.23e-03 -11.0 1.25e-05    -  1.00e+00 6.25e-02f  5\n",
      " 113  8.4046226e+03 0.00e+00 1.12e-03 -11.0 8.58e-05    -  1.00e+00 1.95e-03f 10\n",
      " 114  8.4046226e+03 0.00e+00 1.83e-03 -11.0 2.31e-04    -  1.00e+00 3.91e-03f  9\n",
      " 115  8.4046226e+03 0.00e+00 1.91e-03 -11.0 1.12e-04    -  1.00e+00 7.81e-03f  8\n",
      " 116  8.4046226e+03 0.00e+00 2.65e-03 -11.0 3.61e-04    -  1.00e+00 3.91e-03f  9\n",
      " 117  8.4046226e+03 0.00e+00 2.34e-03 -11.0 1.09e-06    -  1.00e+00 1.25e-01f  4\n",
      " 118  8.4046226e+03 0.00e+00 1.94e-03 -11.0 2.70e-06    -  1.00e+00 5.00e-01f  2\n",
      " 119  8.4046226e+03 0.00e+00 2.08e-03 -11.0 1.65e-04    -  1.00e+00 7.81e-03f  8\n",
      "iter    objective    inf_pr   inf_du lg(mu)  ||d||  lg(rg) alpha_du alpha_pr  ls\n",
      " 120  8.4046226e+03 0.00e+00 2.61e-01 -11.0 1.07e-04    -  1.00e+00 1.00e+00w  1\n",
      " 121  8.4046226e+03 0.00e+00 3.80e-02 -11.0 9.25e-05    -  1.00e+00 1.00e+00w  1\n",
      " 122  8.4046293e+03 0.00e+00 2.59e+01 -11.0 1.35e-02    -  1.00e+00 1.00e+00w  1\n",
      " 123  8.4046226e+03 0.00e+00 1.92e-03 -11.0 1.06e-02    -  1.00e+00 3.91e-03f  8\n",
      " 124  8.4046226e+03 0.00e+00 1.49e-03 -11.0 3.40e-05    -  1.00e+00 9.77e-04f 11\n",
      " 125  8.4046226e+03 0.00e+00 1.76e-03 -11.0 9.97e-06    -  1.00e+00 1.25e-01f  4\n",
      " 126  8.4046226e+03 0.00e+00 1.97e-03 -11.0 1.12e-04    -  1.00e+00 7.81e-03f  8\n",
      " 127  8.4046226e+03 0.00e+00 1.96e-03 -11.0 4.38e-05    -  1.00e+00 9.77e-04f 11\n",
      " 128  8.4046226e+03 0.00e+00 5.98e-03 -11.0 1.53e-03    -  1.00e+00 9.77e-04h 11\n",
      " 129  8.4046226e+03 0.00e+00 4.13e-04 -11.0 2.10e-06    -  1.00e+00 1.00e+00f  1\n",
      "iter    objective    inf_pr   inf_du lg(mu)  ||d||  lg(rg) alpha_du alpha_pr  ls\n",
      " 130  8.4046226e+03 0.00e+00 1.05e-03 -11.0 1.20e-05    -  1.00e+00 6.25e-02f  5\n",
      " 131  8.4046226e+03 0.00e+00 1.18e-03 -11.0 4.12e-05    -  1.00e+00 9.77e-04h 11\n",
      " 132  8.4046226e+03 0.00e+00 2.75e-03 -11.0 2.39e-06    -  1.00e+00 5.00e-01f  2\n",
      " 133  8.4046226e+03 0.00e+00 4.37e-04 -11.0 2.74e-04    -  1.00e+00 3.91e-03f  9\n",
      " 134  8.4046226e+03 0.00e+00 1.46e-03 -11.0 3.26e-05    -  1.00e+00 7.81e-03f  8\n",
      " 135  8.4046226e+03 0.00e+00 1.27e-03 -11.0 7.24e-06    -  1.00e+00 1.25e-01f  4\n",
      " 136  8.4046226e+03 0.00e+00 3.33e-03 -11.0 4.22e-04    -  1.00e+00 1.95e-03f 10\n",
      " 137  8.4046226e+03 0.00e+00 2.86e-03 -11.0 7.32e-05    -  1.00e+00 1.95e-03f 10\n",
      " 138  8.4046226e+03 0.00e+00 2.80e-03 -11.0 3.96e-05    -  1.00e+00 3.91e-03f  9\n",
      " 139  8.4046226e+03 0.00e+00 5.95e-04 -11.0 2.03e-07    -  1.00e+00 1.00e+00f  1\n",
      "iter    objective    inf_pr   inf_du lg(mu)  ||d||  lg(rg) alpha_du alpha_pr  ls\n",
      " 140  8.4046226e+03 0.00e+00 4.02e-04 -11.0 6.30e-06    -  1.00e+00 3.12e-02f  6\n",
      " 141  8.4046226e+03 0.00e+00 1.14e-03 -11.0 8.58e-07    -  1.00e+00 3.12e-02f  6\n",
      " 142  8.4046226e+03 0.00e+00 1.27e-06 -11.0 9.05e-08    -  1.00e+00 1.00e+00f  1\n",
      " 143  8.4046226e+03 0.00e+00 1.33e-05 -11.0 1.24e-08    -  1.00e+00 5.00e-01f  2\n",
      " 144  8.4046226e+03 0.00e+00 1.92e-04 -11.0 3.64e-07    -  1.00e+00 1.00e+00f  1\n",
      " 145  8.4046226e+03 0.00e+00 1.25e-03 -11.0 1.24e-07    -  1.00e+00 1.00e+00f  1\n",
      " 146  8.4046226e+03 0.00e+00 1.39e-03 -11.0 9.39e-07    -  1.00e+00 1.00e+00f  1\n",
      " 147  8.4046226e+03 0.00e+00 9.03e-04 -11.0 2.81e-04    -  1.00e+00 1.95e-03f 10\n",
      " 148  8.4046226e+03 0.00e+00 6.51e-04 -11.0 1.28e-05    -  1.00e+00 1.56e-02f  7\n",
      " 149  8.4046226e+03 0.00e+00 1.27e-03 -11.0 6.44e-06    -  1.00e+00 1.25e-01f  4\n",
      "iter    objective    inf_pr   inf_du lg(mu)  ||d||  lg(rg) alpha_du alpha_pr  ls\n",
      " 150  8.4046226e+03 0.00e+00 1.11e-03 -11.0 7.75e-04    -  1.00e+00 1.95e-03f 10\n",
      " 151  8.4046226e+03 0.00e+00 1.99e-03 -11.0 2.71e-05    -  1.00e+00 7.81e-03f  8\n",
      " 152  8.4046226e+03 0.00e+00 3.90e-04 -11.0 2.07e-06    -  1.00e+00 6.25e-02f  5\n",
      " 153  8.4046226e+03 0.00e+00 1.23e-03 -11.0 9.97e-07    -  1.00e+00 1.00e+00f  1\n",
      " 154  8.4046226e+03 0.00e+00 5.03e-04 -11.0 6.28e-05    -  1.00e+00 9.77e-04f 11\n",
      " 155  8.4046226e+03 0.00e+00 1.17e-03 -11.0 8.81e-08    -  1.00e+00 5.00e-01f  2\n",
      " 156  8.4046226e+03 0.00e+00 7.76e-04 -11.0 7.23e-07    -  1.00e+00 1.00e+00f  1\n",
      " 157  8.4046226e+03 0.00e+00 3.20e-04 -11.0 1.33e-04    -  1.00e+00 9.77e-04f 11\n",
      " 158  8.4046226e+03 0.00e+00 9.63e-04 -11.0 4.92e-06    -  1.00e+00 1.25e-01f  4\n",
      " 159  8.4046226e+03 0.00e+00 3.66e-04 -11.0 6.24e-04    -  1.00e+00 1.95e-03f 10\n",
      "iter    objective    inf_pr   inf_du lg(mu)  ||d||  lg(rg) alpha_du alpha_pr  ls\n",
      " 160  8.4046226e+03 0.00e+00 5.86e-04 -11.0 7.44e-05    -  1.00e+00 3.91e-03f  9\n",
      " 161  8.4046226e+03 0.00e+00 6.75e-04 -11.0 4.59e-05    -  1.00e+00 9.77e-04h 11\n",
      " 162  8.4046226e+03 0.00e+00 3.20e-04 -11.0 1.60e-06    -  1.00e+00 1.00e+00f  1\n",
      " 163  8.4046226e+03 0.00e+00 9.24e-04 -11.0 9.25e-04    -  1.00e+00 9.77e-04f 11\n",
      " 164  8.4046226e+03 0.00e+00 7.58e-04 -11.0 1.40e-05    -  1.00e+00 3.12e-02f  6\n",
      " 165  8.4046226e+03 0.00e+00 1.42e-03 -11.0 1.62e-06    -  1.00e+00 1.00e+00f  1\n",
      " 166  8.4046226e+03 0.00e+00 2.47e-03 -11.0 6.42e-04    -  1.00e+00 9.77e-04h 11\n",
      " 167  8.4046226e+03 0.00e+00 2.87e-03 -11.0 7.52e-06    -  1.00e+00 6.25e-02f  5\n",
      " 168  8.4046226e+03 0.00e+00 2.91e-03 -11.0 1.22e-05    -  1.00e+00 7.81e-03f  8\n",
      " 169  8.4046226e+03 0.00e+00 9.48e-04 -11.0 7.11e-06    -  1.00e+00 5.00e-01f  2\n",
      "iter    objective    inf_pr   inf_du lg(mu)  ||d||  lg(rg) alpha_du alpha_pr  ls\n",
      " 170  8.4046226e+03 0.00e+00 2.61e-03 -11.0 9.81e-04    -  1.00e+00 9.77e-04h 11\n",
      " 171  8.4046226e+03 0.00e+00 2.75e-03 -11.0 9.82e-05    -  1.00e+00 1.56e-02f  7\n",
      " 172  8.4046226e+03 0.00e+00 4.08e-03 -11.0 1.99e-05    -  1.00e+00 6.25e-02f  5\n",
      " 173  8.4046226e+03 0.00e+00 3.71e-03 -11.0 3.04e-05    -  1.00e+00 9.77e-04f 11\n",
      " 174  8.4046226e+03 0.00e+00 4.16e-03 -11.0 2.65e-06    -  1.00e+00 5.00e-01f  2\n",
      " 175  8.4046226e+03 0.00e+00 2.63e-03 -11.0 2.09e-04    -  1.00e+00 3.91e-03f  9\n",
      " 176  8.4046226e+03 0.00e+00 4.00e-02 -11.0 3.59e-05    -  1.00e+00 1.00e+00w  1\n",
      " 177  8.4046226e+03 0.00e+00 2.15e+00 -11.0 1.26e-03    -  1.00e+00 1.00e+00w  1\n",
      " 178  8.4046227e+03 0.00e+00 1.09e+00 -11.0 9.50e-04    -  1.00e+00 1.00e+00w  1\n",
      " 179  8.4046226e+03 0.00e+00 2.72e-03 -11.0 1.24e-01    -  1.00e+00 3.12e-02f  5\n",
      "iter    objective    inf_pr   inf_du lg(mu)  ||d||  lg(rg) alpha_du alpha_pr  ls\n",
      " 180  8.4046226e+03 0.00e+00 3.50e-03 -11.0 3.43e-06    -  1.00e+00 5.00e-01f  2\n",
      " 181  8.4046226e+03 0.00e+00 3.98e-03 -11.0 1.47e-04    -  1.00e+00 3.91e-03f  9\n",
      " 182  8.4046226e+03 0.00e+00 3.03e-03 -11.0 7.75e-04    -  1.00e+00 9.77e-04f 11\n",
      " 183  8.4046226e+03 0.00e+00 3.22e-03 -11.0 2.43e-04    -  1.00e+00 9.77e-04h 11\n",
      " 184  8.4046226e+03 0.00e+00 4.29e-03 -11.0 2.90e-05    -  1.00e+00 6.25e-02f  5\n",
      " 185  8.4046226e+03 0.00e+00 1.58e-03 -11.0 7.66e-05    -  1.00e+00 7.81e-03f  8\n",
      " 186  8.4046226e+03 0.00e+00 1.64e-03 -11.0 9.61e-07    -  1.00e+00 1.00e+00f  1\n",
      " 187  8.4046226e+03 0.00e+00 1.29e-03 -11.0 3.70e-05    -  1.00e+00 3.12e-02f  6\n",
      " 188  8.4046226e+03 0.00e+00 6.19e-04 -11.0 1.92e-04    -  1.00e+00 3.91e-03f  9\n",
      " 189  8.4046226e+03 0.00e+00 1.01e-03 -11.0 1.85e-04    -  1.00e+00 9.77e-04f 11\n",
      "iter    objective    inf_pr   inf_du lg(mu)  ||d||  lg(rg) alpha_du alpha_pr  ls\n",
      " 190  8.4046226e+03 0.00e+00 1.14e-03 -11.0 1.31e-05    -  1.00e+00 1.56e-02f  7\n",
      " 191  8.4046226e+03 0.00e+00 1.05e-03 -11.0 1.92e-05    -  1.00e+00 6.25e-02f  5\n",
      " 192  8.4046226e+03 0.00e+00 5.67e-04 -11.0 2.36e-04    -  1.00e+00 9.77e-04f 11\n",
      " 193  8.4046226e+03 0.00e+00 1.43e-03 -11.0 1.19e-06    -  1.00e+00 5.00e-01f  2\n",
      " 194  8.4046226e+03 0.00e+00 2.23e-03 -11.0 6.30e-05    -  1.00e+00 1.56e-02f  7\n",
      " 195  8.4046226e+03 0.00e+00 2.32e-03 -11.0 6.28e-05    -  1.00e+00 7.81e-03f  8\n",
      " 196  8.4046226e+03 0.00e+00 2.63e-03 -11.0 2.52e-05    -  1.00e+00 7.81e-03f  8\n",
      " 197  8.4046226e+03 0.00e+00 8.10e-03 -11.0 2.20e-06    -  1.00e+00 1.00e+00w  1\n",
      " 198  8.4046226e+03 0.00e+00 1.56e-01 -11.0 1.45e-04    -  1.00e+00 1.00e+00w  1\n",
      " 199  8.4046226e+03 0.00e+00 5.01e-01 -11.0 5.31e-04    -  1.00e+00 1.00e+00w  1\n",
      "iter    objective    inf_pr   inf_du lg(mu)  ||d||  lg(rg) alpha_du alpha_pr  ls\n",
      " 200  8.4046226e+03 0.00e+00 1.96e-03 -11.0 2.77e-02    -  1.00e+00 6.25e-02f  4\n",
      "\n",
      "Number of Iterations....: 200\n",
      "\n",
      "                                   (scaled)                 (unscaled)\n",
      "Objective...............:   7.4159091027129198e+03    8.4046226234636233e+03\n",
      "Dual infeasibility......:   1.9563585810714297e-03    2.2171867753968395e-03\n",
      "Constraint violation....:   0.0000000000000000e+00    0.0000000000000000e+00\n",
      "Complementarity.........:   9.9999978590728043e-12    1.1333230636578991e-11\n",
      "Overall NLP error.......:   1.9563585810714297e-03    2.2171867753968395e-03\n",
      "\n",
      "\n",
      "Number of objective function evaluations             = 1730\n",
      "Number of objective gradient evaluations             = 201\n",
      "Number of equality constraint evaluations            = 0\n",
      "Number of inequality constraint evaluations          = 0\n",
      "Number of equality constraint Jacobian evaluations   = 0\n",
      "Number of inequality constraint Jacobian evaluations = 0\n",
      "Number of Lagrangian Hessian evaluations             = 0\n",
      "Total CPU secs in IPOPT (w/o function evaluations)   =      0.538\n",
      "Total CPU secs in NLP function evaluations           =      5.747\n",
      "\n",
      "EXIT: Maximum Number of Iterations Exceeded.\n",
      "  6.525095 seconds (38.69 M allocations: 1.154 GiB, 1.94% gc time)\n"
     ]
    },
    {
     "name": "stderr",
     "output_type": "stream",
     "text": [
      "┌ Warning: Optimization unsuccesful; got UserLimit\n",
      "└ @ QuasiCopula /Users/biona001/.julia/dev/QuasiCopula/src/parameter_estimation/fit_gaussian_vc.jl:36\n"
     ]
    }
   ],
   "source": [
    "@time optm = QuasiCopula.fit!(qc_model,\n",
    "    Ipopt.IpoptSolver(\n",
    "        print_level = 5, \n",
    "        tol = 10^-6, \n",
    "        max_iter = 200,\n",
    "        accept_after_max_steps = 10,\n",
    "        warm_start_init_point=\"yes\", \n",
    "        limited_memory_max_history = 6, # default value\n",
    "        hessian_approximation = \"limited-memory\",\n",
    "#         derivative_test=\"second-order\"\n",
    "    )\n",
    ");"
   ]
  },
  {
   "cell_type": "code",
   "execution_count": 34,
   "metadata": {
    "collapsed": false
   },
   "outputs": [
    {
     "name": "stdout",
     "output_type": "stream",
     "text": [
      "βtrue = [1.0, -0.02, 0.02]\n",
      "qc_model.β = [0.9989335436435152, -0.015114878748840883, 0.0186815395201153]\n",
      "qc_model.∇β = [-0.0013584483275899117, -0.00221718677539684, -0.002136200690102008]\n",
      "θtrue = [0.1, 0.1]\n",
      "qc_model.θ = [0.07913525218854363, 0.06964642221445527]\n",
      "qc_model.∇θ = [0.0009986232210312807, -0.00019457508084430586]\n"
     ]
    }
   ],
   "source": [
    "@show βtrue\n",
    "@show qc_model.β\n",
    "@show qc_model.∇β\n",
    "\n",
    "@show θtrue\n",
    "@show qc_model.θ\n",
    "@show qc_model.∇θ;"
   ]
  },
  {
   "cell_type": "markdown",
   "metadata": {},
   "source": [
    "# Loglikelihood function friendly to autodiff"
   ]
  },
  {
   "cell_type": "code",
   "execution_count": 5,
   "metadata": {
    "collapsed": false
   },
   "outputs": [
    {
     "data": {
      "text/plain": [
       "#7 (generic function with 1 method)"
      ]
     },
     "execution_count": 5,
     "metadata": {},
     "output_type": "execute_result"
    }
   ],
   "source": [
    "autodiff_loglikelihood(β) = QuasiCopula.loglikelihood(β, qc_model, z)\n",
    "\n",
    "# autodiff Gradient\n",
    "∇logl = x -> ForwardDiff.gradient(autodiff_loglikelihood, x)\n",
    "\n",
    "# autodiff Hessian\n",
    "∇²logl = x -> ForwardDiff.hessian(autodiff_loglikelihood, x)"
   ]
  },
  {
   "cell_type": "markdown",
   "metadata": {},
   "source": [
    "First, check if `autodiff_loglikelihood` returns same answer as `QuasiCopula.loglikelihood!`"
   ]
  },
  {
   "cell_type": "code",
   "execution_count": 6,
   "metadata": {
    "collapsed": false
   },
   "outputs": [
    {
     "name": "stdout",
     "output_type": "stream",
     "text": [
      "autodiff_loglikelihood(fullβ) = -15184.429634944136\n",
      "QuasiCopula.loglikelihood!(qc_model, false, false) = -15184.429634945503\n"
     ]
    }
   ],
   "source": [
    "i = 1\n",
    "z = convert(Vector{Float64}, @view(G[:, i]), center=true, scale=false)\n",
    "fullβ = [qc_model.β; qc_model.θ; 0.0] # poisson or bernoulli\n",
    "# fullβ = [qc_model.β; qc_model.θ; qc_model.τ; 0.0] # normal\n",
    "\n",
    "@show autodiff_loglikelihood(fullβ)\n",
    "@show QuasiCopula.loglikelihood!(qc_model, false, false);"
   ]
  },
  {
   "cell_type": "markdown",
   "metadata": {},
   "source": [
    "Lets compute a few Hessians"
   ]
  },
  {
   "cell_type": "code",
   "execution_count": 7,
   "metadata": {
    "collapsed": false
   },
   "outputs": [
    {
     "data": {
      "text/plain": [
       "6×6 Matrix{Float64}:\n",
       " -2828.24       -95.9599     96.4885     1841.42       1563.08     -7.99025\n",
       "   -95.9599   -3507.03      -11.0075      -51.1999      -79.531    10.6713\n",
       "    96.4885     -11.0075  -3445.95         69.2266       67.557    -8.33106\n",
       "  1841.42       -51.1999     69.2266   -11486.9        1733.53     -0.311129\n",
       "  1563.08       -79.531      67.557      1733.53      -1737.84    -21.646\n",
       "    -7.99025     10.6713     -8.33106      -0.311129    -21.646  -301.733"
      ]
     },
     "execution_count": 7,
     "metadata": {},
     "output_type": "execute_result"
    }
   ],
   "source": [
    "i = 1\n",
    "z = convert(Vector{Float64}, @view(G[:, i]), center=true, scale=false)\n",
    "Hfull = ∇²logl(fullβ) # snp 1"
   ]
  },
  {
   "cell_type": "code",
   "execution_count": 8,
   "metadata": {
    "collapsed": false
   },
   "outputs": [
    {
     "name": "stdout",
     "output_type": "stream",
     "text": [
      "(-(Hfull[i, j]) / sqrt(-(Hfull[i, i]))) / sqrt(-(Hfull[j, j])) = -0.32306666769760506\n",
      "(-(Hfull[i, j]) / sqrt(-(Hfull[i, i]))) / sqrt(-(Hfull[j, j])) = -0.7050445705426172\n"
     ]
    }
   ],
   "source": [
    "# check correlation between VC params and beta\n",
    "i, j = 1, 4\n",
    "@show -Hfull[i, j] / sqrt(-Hfull[i, i]) / sqrt(-Hfull[j, j])\n",
    "i, j = 1, 5\n",
    "@show -Hfull[i, j] / sqrt(-Hfull[i, i]) / sqrt(-Hfull[j, j]);"
   ]
  },
  {
   "cell_type": "code",
   "execution_count": 9,
   "metadata": {
    "collapsed": false
   },
   "outputs": [
    {
     "data": {
      "text/plain": [
       "6×6 Matrix{Float64}:\n",
       " -2828.24       -95.9599     96.4885    1841.42     1563.08        0.36294\n",
       "   -95.9599   -3507.03      -11.0075     -51.1999    -79.531      -2.8895\n",
       "    96.4885     -11.0075  -3445.95        69.2266     67.557      37.1005\n",
       "  1841.42       -51.1999     69.2266  -11486.9      1733.53      134.446\n",
       "  1563.08       -79.531      67.557     1733.53    -1737.84        6.45871\n",
       "     0.36294     -2.8895     37.1005     134.446       6.45871  -949.597"
      ]
     },
     "execution_count": 9,
     "metadata": {},
     "output_type": "execute_result"
    }
   ],
   "source": [
    "i = 10\n",
    "z = convert(Vector{Float64}, @view(G[:, i]), center=true, scale=false)\n",
    "Hfull = ∇²logl(fullβ) # snp 10"
   ]
  },
  {
   "cell_type": "code",
   "execution_count": 10,
   "metadata": {
    "collapsed": false
   },
   "outputs": [
    {
     "name": "stdout",
     "output_type": "stream",
     "text": [
      "(-(Hfull[i, j]) / sqrt(-(Hfull[i, i]))) / sqrt(-(Hfull[j, j])) = -0.32306666769760506\n",
      "(-(Hfull[i, j]) / sqrt(-(Hfull[i, i]))) / sqrt(-(Hfull[j, j])) = -0.7050445705426172\n"
     ]
    }
   ],
   "source": [
    "# check correlation between VC params and beta\n",
    "i, j = 1, 4\n",
    "@show -Hfull[i, j] / sqrt(-Hfull[i, i]) / sqrt(-Hfull[j, j])\n",
    "i, j = 1, 5\n",
    "@show -Hfull[i, j] / sqrt(-Hfull[i, i]) / sqrt(-Hfull[j, j]);"
   ]
  },
  {
   "cell_type": "code",
   "execution_count": 11,
   "metadata": {
    "collapsed": false
   },
   "outputs": [
    {
     "data": {
      "text/plain": [
       "0.24820715125159407"
      ]
     },
     "execution_count": 11,
     "metadata": {},
     "output_type": "execute_result"
    }
   ],
   "source": [
    "W = -Hfull[1:end-1, end]\n",
    "Q = -Hfull[end, end]\n",
    "Pinv = inv(-Hfull[1:end-1, 1:end-1])\n",
    "R = ∇logl(fullβ)[end]\n",
    "S = R * inv(Q - W'*Pinv*W) * R\n",
    "pval = ccdf(Chisq(1), S)"
   ]
  },
  {
   "cell_type": "code",
   "execution_count": 12,
   "metadata": {
    "collapsed": false
   },
   "outputs": [
    {
     "data": {
      "text/plain": [
       "6-element Vector{Float64}:\n",
       "   2.5799908098811386e-7\n",
       "   1.079411837690003e-10\n",
       "   2.6935144226136742e-8\n",
       "  -5.492520411820578e-7\n",
       "  -7.299600879306922e-8\n",
       " -35.237650740823355"
      ]
     },
     "execution_count": 12,
     "metadata": {},
     "output_type": "execute_result"
    }
   ],
   "source": [
    "∇logl(fullβ)"
   ]
  },
  {
   "cell_type": "markdown",
   "metadata": {},
   "source": [
    "## Check QQ plots\n",
    "\n",
    "### Bernoulli"
   ]
  },
  {
   "cell_type": "code",
   "execution_count": 17,
   "metadata": {
    "collapsed": false
   },
   "outputs": [
    {
     "name": "stdout",
     "output_type": "stream",
     "text": [
      " 35.536640 seconds (29.06 M allocations: 3.480 GiB, 1.20% gc time, 6.68% compilation time)\n"
     ]
    },
    {
     "data": {
      "text/plain": [
       "1000-element Vector{Float64}:\n",
       " 0.9082103467933702\n",
       " 0.33322730986602533\n",
       " 0.8631682636317813\n",
       " 0.8942818995767361\n",
       " 0.2573701468844197\n",
       " 0.9432763125866032\n",
       " 0.0109444927059893\n",
       " 0.6824260121036194\n",
       " 0.2887035734836703\n",
       " 0.24820715125159407\n",
       " 0.2595268479816389\n",
       " 0.764386443126145\n",
       " 0.3230545745560405\n",
       " ⋮\n",
       " 0.49303760017205567\n",
       " 0.5306199107527328\n",
       " 0.2774797301701202\n",
       " 0.5163978492199007\n",
       " 0.33683146631805405\n",
       " 0.9644165626735308\n",
       " 0.1332047183108521\n",
       " 0.5646456334716937\n",
       " 0.7028231353838417\n",
       " 0.23289181311783294\n",
       " 0.2808610124805867\n",
       " 0.3215991810019335"
      ]
     },
     "execution_count": 17,
     "metadata": {},
     "output_type": "execute_result"
    }
   ],
   "source": [
    "@time pvals = QuasiCopula.GWASCopulaVCModel_autodiff(qc_model, G)"
   ]
  },
  {
   "cell_type": "code",
   "execution_count": 18,
   "metadata": {
    "collapsed": false
   },
   "outputs": [
    {
     "data": {
      "image/png": "[encoded data removed]"
     },
     "metadata": {},
     "output_type": "display_data"
    }
   ],
   "source": [
    "qq(pvals, dpi=100, titles=\"Bernoulli, $k causal SNPs\")\n",
    "display(\"image/png\", read(\"qqplot.png\"))"
   ]
  },
  {
   "cell_type": "markdown",
   "metadata": {},
   "source": [
    "### Poisson"
   ]
  },
  {
   "cell_type": "code",
   "execution_count": 25,
   "metadata": {
    "collapsed": false
   },
   "outputs": [
    {
     "name": "stdout",
     "output_type": "stream",
     "text": [
      " 37.283363 seconds (20.06 M allocations: 3.012 GiB, 0.95% gc time)\n"
     ]
    },
    {
     "data": {
      "text/plain": [
       "1000-element Vector{Float64}:\n",
       " 0.7335607362655298\n",
       " 0.05561986617544375\n",
       " 0.9318413103446126\n",
       " 0.774316724137551\n",
       " 0.6581830920104301\n",
       " 0.16630436538524235\n",
       " 0.27496773200086766\n",
       " 0.7799540761616317\n",
       " 0.07489814132532885\n",
       " 0.32893408662735246\n",
       " 0.13374939184758827\n",
       " 0.4340006175080037\n",
       " 0.7011826940533106\n",
       " ⋮\n",
       " 0.7674875623368472\n",
       " 0.6632927625672214\n",
       " 0.9822199975118755\n",
       " 0.5261283212757659\n",
       " 0.44051367043288037\n",
       " 0.23187984899221253\n",
       " 0.9101490694501337\n",
       " 0.7282891684686048\n",
       " 0.016576832085031825\n",
       " 0.04457421310867708\n",
       " 0.5376842519625814\n",
       " 0.5223071431449539"
      ]
     },
     "execution_count": 25,
     "metadata": {},
     "output_type": "execute_result"
    }
   ],
   "source": [
    "@time pvals = GWASCopulaVCModel_autodiff(qc_model, G)"
   ]
  },
  {
   "cell_type": "code",
   "execution_count": 26,
   "metadata": {
    "collapsed": false
   },
   "outputs": [
    {
     "name": "stdout",
     "output_type": "stream",
     "text": [
      "length(signif_snps) = 0\n",
      "power = 0.0\n"
     ]
    },
    {
     "data": {
      "text/plain": [
       "0.0"
      ]
     },
     "execution_count": 26,
     "metadata": {},
     "output_type": "execute_result"
    }
   ],
   "source": [
    "correct_snps = findall(!iszero, γtrue)\n",
    "signif_snps = findall(x -> x < 0.05/length(pvals), pvals)\n",
    "power = length(correct_snps ∩ signif_snps) / max(1, length(correct_snps))\n",
    "\n",
    "@show length(signif_snps)\n",
    "@show power"
   ]
  },
  {
   "cell_type": "code",
   "execution_count": 27,
   "metadata": {
    "collapsed": false
   },
   "outputs": [
    {
     "data": {
      "text/plain": [
       "Float64[]"
      ]
     },
     "execution_count": 27,
     "metadata": {},
     "output_type": "execute_result"
    }
   ],
   "source": [
    "# pvalues of truly causal SNPs\n",
    "pvals[correct_snps] |> sort"
   ]
  },
  {
   "cell_type": "code",
   "execution_count": 28,
   "metadata": {
    "collapsed": false
   },
   "outputs": [
    {
     "data": {
      "text/plain": [
       "1000-element Vector{Float64}:\n",
       " 0.0003482285776662325\n",
       " 0.0011819008525488484\n",
       " 0.004777592969758005\n",
       " 0.005220046169538997\n",
       " 0.006560549272302478\n",
       " 0.007049984247155555\n",
       " 0.007852565271368557\n",
       " 0.00943076574527002\n",
       " 0.010066462712521826\n",
       " 0.010365805360960066\n",
       " 0.012549102350645248\n",
       " 0.014012732613295035\n",
       " 0.014297763459150289\n",
       " ⋮\n",
       " 0.9916274916624682\n",
       " 0.992926960968034\n",
       " 0.9930986396560096\n",
       " 0.9937510479256157\n",
       " 0.9941562025137491\n",
       " 0.9944490581394926\n",
       " 0.995550422199266\n",
       " 0.9967937057735273\n",
       " 0.9969054706511723\n",
       " 0.9981347339507739\n",
       " 0.9981544109359498\n",
       " 0.9988153987731558"
      ]
     },
     "execution_count": 28,
     "metadata": {},
     "output_type": "execute_result"
    }
   ],
   "source": [
    "# pvalues of all SNPs sorted by significance\n",
    "sort(pvals)"
   ]
  },
  {
   "cell_type": "code",
   "execution_count": 29,
   "metadata": {
    "collapsed": false
   },
   "outputs": [
    {
     "data": {
      "image/png": "[encoded data removed]"
     },
     "metadata": {},
     "output_type": "display_data"
    }
   ],
   "source": [
    "qq(pvals, dpi=100, titles=\"Poisson, $k causal SNPs\")\n",
    "display(\"image/png\", read(\"qqplot.png\"))"
   ]
  },
  {
   "cell_type": "markdown",
   "metadata": {},
   "source": [
    "### Normal"
   ]
  },
  {
   "cell_type": "code",
   "execution_count": 43,
   "metadata": {
    "collapsed": false
   },
   "outputs": [
    {
     "name": "stdout",
     "output_type": "stream",
     "text": [
      " 36.127481 seconds (33.34 M allocations: 9.144 GiB, 2.90% gc time, 2.76% compilation time)\n"
     ]
    },
    {
     "data": {
      "text/plain": [
       "1000-element Vector{Float64}:\n",
       " 0.8574073868061233\n",
       " 0.28065988044433215\n",
       " 0.675654641145359\n",
       " 0.8433865164299649\n",
       " 0.6357581397194695\n",
       " 0.8444905468038253\n",
       " 0.01027099479181637\n",
       " 0.8787191929204816\n",
       " 0.4260896928282632\n",
       " 0.36529215605025606\n",
       " 0.5482577341965349\n",
       " 0.3869472250406819\n",
       " 0.894085859499028\n",
       " ⋮\n",
       " 0.2813110788035354\n",
       " 0.7296208614246543\n",
       " 0.2773545933010809\n",
       " 0.18706122166716654\n",
       " 0.29653571548583935\n",
       " 0.7231442100411721\n",
       " 0.501074493158175\n",
       " 0.9172329423547374\n",
       " 0.6519523581836668\n",
       " 0.13988016310858375\n",
       " 0.13266431696050854\n",
       " 0.2004640259813218"
      ]
     },
     "execution_count": 43,
     "metadata": {},
     "output_type": "execute_result"
    }
   ],
   "source": [
    "@time pvals = GWASCopulaVCModel_autodiff(qc_model, G)"
   ]
  },
  {
   "cell_type": "code",
   "execution_count": 39,
   "metadata": {
    "collapsed": false
   },
   "outputs": [
    {
     "name": "stdout",
     "output_type": "stream",
     "text": [
      "length(signif_snps) = 0\n",
      "power = 0.0\n"
     ]
    },
    {
     "data": {
      "text/plain": [
       "0.0"
      ]
     },
     "execution_count": 39,
     "metadata": {},
     "output_type": "execute_result"
    }
   ],
   "source": [
    "correct_snps = findall(!iszero, γtrue)\n",
    "signif_snps = findall(x -> x < 0.05/length(pvals), pvals)\n",
    "power = length(correct_snps ∩ signif_snps) / max(1, length(correct_snps))\n",
    "\n",
    "@show length(signif_snps)\n",
    "@show power"
   ]
  },
  {
   "cell_type": "code",
   "execution_count": 40,
   "metadata": {
    "collapsed": false
   },
   "outputs": [
    {
     "data": {
      "text/plain": [
       "Float64[]"
      ]
     },
     "execution_count": 40,
     "metadata": {},
     "output_type": "execute_result"
    }
   ],
   "source": [
    "# pvalues of truly causal SNPs\n",
    "pvals[correct_snps] |> sort"
   ]
  },
  {
   "cell_type": "code",
   "execution_count": 41,
   "metadata": {
    "collapsed": false
   },
   "outputs": [
    {
     "data": {
      "text/plain": [
       "1000-element Vector{Float64}:\n",
       " 0.0003482285776662325\n",
       " 0.0011819008525488484\n",
       " 0.004777592969758005\n",
       " 0.005220046169538997\n",
       " 0.006560549272302478\n",
       " 0.007049984247155555\n",
       " 0.007852565271368557\n",
       " 0.00943076574527002\n",
       " 0.010066462712521826\n",
       " 0.010365805360960066\n",
       " 0.012549102350645248\n",
       " 0.014012732613295035\n",
       " 0.014297763459150289\n",
       " ⋮\n",
       " 0.9916274916624682\n",
       " 0.992926960968034\n",
       " 0.9930986396560096\n",
       " 0.9937510479256157\n",
       " 0.9941562025137491\n",
       " 0.9944490581394926\n",
       " 0.995550422199266\n",
       " 0.9967937057735273\n",
       " 0.9969054706511723\n",
       " 0.9981347339507739\n",
       " 0.9981544109359498\n",
       " 0.9988153987731558"
      ]
     },
     "execution_count": 41,
     "metadata": {},
     "output_type": "execute_result"
    }
   ],
   "source": [
    "# pvalues of all SNPs sorted by significance\n",
    "sort(pvals)"
   ]
  },
  {
   "cell_type": "code",
   "execution_count": 42,
   "metadata": {
    "collapsed": false
   },
   "outputs": [
    {
     "data": {
      "image/png": "[encoded data removed]"
     },
     "metadata": {},
     "output_type": "display_data"
    }
   ],
   "source": [
    "qq(pvals, dpi=100, titles=\"Normal, $k causal SNPs\")\n",
    "display(\"image/png\", read(\"qqplot.png\"))"
   ]
  },
  {
   "cell_type": "code",
   "execution_count": null,
   "metadata": {
    "collapsed": true
   },
   "outputs": [],
   "source": []
  },
  {
   "cell_type": "code",
   "execution_count": null,
   "metadata": {
    "collapsed": true
   },
   "outputs": [],
   "source": []
  },
  {
   "cell_type": "code",
   "execution_count": null,
   "metadata": {
    "collapsed": true
   },
   "outputs": [],
   "source": []
  },
  {
   "cell_type": "code",
   "execution_count": null,
   "metadata": {
    "collapsed": true
   },
   "outputs": [],
   "source": []
  },
  {
   "cell_type": "code",
   "execution_count": null,
   "metadata": {
    "collapsed": true
   },
   "outputs": [],
   "source": []
  },
  {
   "cell_type": "code",
   "execution_count": 22,
   "metadata": {
    "collapsed": false
   },
   "outputs": [
    {
     "data": {
      "image/png": "[encoded data removed]"
     },
     "metadata": {},
     "output_type": "display_data"
    }
   ],
   "source": [
    "qq(pvals, dpi=100, titles=\"Poisson, $k causal SNPs\")\n",
    "display(\"image/png\", read(\"qqplot.png\"))"
   ]
  },
  {
   "cell_type": "code",
   "execution_count": 38,
   "metadata": {
    "collapsed": false
   },
   "outputs": [
    {
     "data": {
      "image/png": "[encoded data removed]"
     },
     "metadata": {},
     "output_type": "display_data"
    }
   ],
   "source": [
    "qq(pvals, dpi=100, titles=\"Bernoulli, $k causal SNPs\")\n",
    "display(\"image/png\", read(\"qqplot.png\"))"
   ]
  },
  {
   "cell_type": "code",
   "execution_count": 79,
   "metadata": {
    "collapsed": false
   },
   "outputs": [
    {
     "data": {
      "image/png": "[encoded data removed]"
     },
     "metadata": {},
     "output_type": "display_data"
    }
   ],
   "source": [
    "qq(pvals, dpi=100, titles=\"Normal, $k causal SNPs\")\n",
    "display(\"image/png\", read(\"qqplot.png\"))"
   ]
  },
  {
   "cell_type": "code",
   "execution_count": null,
   "metadata": {
    "collapsed": true
   },
   "outputs": [],
   "source": []
  }
 ],
 "metadata": {
  "@webio": {
   "lastCommId": null,
   "lastKernelId": null
  },
  "kernelspec": {
   "display_name": "Julia 1.7.3",
   "language": "julia",
   "name": "julia-1.7"
  },
  "language_info": {
   "file_extension": ".jl",
   "mimetype": "application/julia",
   "name": "julia",
   "version": "1.7.3"
  },
  "toc": {
   "base_numbering": 1,
   "nav_menu": {},
   "number_sections": true,
   "sideBar": true,
   "skip_h1_title": false,
   "title_cell": "Table of Contents",
   "title_sidebar": "Contents",
   "toc_cell": false,
   "toc_position": {},
   "toc_section_display": true,
   "toc_window_display": false
  }
 },
 "nbformat": 4,
 "nbformat_minor": 2
}
