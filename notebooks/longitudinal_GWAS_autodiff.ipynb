{
 "cells": [
  {
   "cell_type": "markdown",
   "metadata": {},
   "source": [
    "# Longitudinal QuasiCopula GWAS with Mixed Marginals\n",
    "\n",
    "Here we will use autodiff to compute all gradient/Hessian terms (e.g. Q, W, R) and see if that gives good p-values. "
   ]
  },
  {
   "cell_type": "code",
   "execution_count": 33,
   "metadata": {
    "collapsed": false
   },
   "outputs": [
    {
     "data": {
      "text/plain": [
       "_make_snparray (generic function with 1 method)"
      ]
     },
     "execution_count": 33,
     "metadata": {},
     "output_type": "execute_result"
    }
   ],
   "source": [
    "using Revise\n",
    "using DataFrames, Random, GLM, QuasiCopula\n",
    "using ForwardDiff, Test, LinearAlgebra\n",
    "using LinearAlgebra: BlasReal, copytri!\n",
    "using ToeplitzMatrices\n",
    "using BenchmarkTools\n",
    "using SnpArrays\n",
    "using MendelPlots\n",
    "ENV[\"COLUMNS\"] = 240\n",
    "\n",
    "BLAS.set_num_threads(1)\n",
    "Threads.nthreads()\n",
    "\n",
    "function simulate_random_snparray(s::Union{String, UndefInitializer}, n::Int64,\n",
    "    p::Int64; mafs::Vector{Float64}=zeros(Float64, p), min_ma::Int = 5)\n",
    "\n",
    "    #first simulate a random {0, 1, 2} matrix with each SNP drawn from Binomial(2, r[i])\n",
    "    A1 = BitArray(undef, n, p) \n",
    "    A2 = BitArray(undef, n, p) \n",
    "    for j in 1:p\n",
    "        minor_alleles = 0\n",
    "        maf = 0\n",
    "        while minor_alleles <= min_ma\n",
    "            maf = 0.5rand()\n",
    "            for i in 1:n\n",
    "                A1[i, j] = rand(Bernoulli(maf))\n",
    "                A2[i, j] = rand(Bernoulli(maf))\n",
    "            end\n",
    "            minor_alleles = sum(view(A1, :, j)) + sum(view(A2, :, j))\n",
    "        end\n",
    "        mafs[j] = maf\n",
    "    end\n",
    "\n",
    "    #fill the SnpArray with the corresponding x_tmp entry\n",
    "    return _make_snparray(s, A1, A2)\n",
    "end\n",
    "\n",
    "function _make_snparray(s::Union{String, UndefInitializer}, A1::BitArray, A2::BitArray)\n",
    "    n, p = size(A1)\n",
    "    x = SnpArray(s, n, p)\n",
    "    for i in 1:(n*p)\n",
    "        c = A1[i] + A2[i]\n",
    "        if c == 0\n",
    "            x[i] = 0x00\n",
    "        elseif c == 1\n",
    "            x[i] = 0x02\n",
    "        elseif c == 2\n",
    "            x[i] = 0x03\n",
    "        else\n",
    "            throw(MissingException(\"matrix shouldn't have missing values!\"))\n",
    "        end\n",
    "    end\n",
    "    return x\n",
    "end"
   ]
  },
  {
   "cell_type": "markdown",
   "metadata": {},
   "source": [
    "## Simulate data"
   ]
  },
  {
   "cell_type": "code",
   "execution_count": 37,
   "metadata": {
    "collapsed": false,
    "scrolled": true
   },
   "outputs": [
    {
     "name": "stdout",
     "output_type": "stream",
     "text": [
      "qc_model = Quasi-Copula Variance Component Model\n",
      "  * base distribution: Bernoulli\n",
      "  * link function: LogitLink\n",
      "  * number of clusters: 5000\n",
      "  * cluster size min, max: 1, 5\n",
      "  * number of variance components: 2\n",
      "  * number of fixed effects: 3\n",
      "\n"
     ]
    }
   ],
   "source": [
    "function simulate_VC_longitudinal(;\n",
    "    n = 1000, # sample size\n",
    "    d = 2, # number of observations per sample\n",
    "    p = 3, # number of nongenetic covariates, including intercept\n",
    "    m = 1, # number of variance components\n",
    "    q = 1000, # number of SNPs\n",
    "    k = 10, # number of causal SNPs\n",
    "    seed = 2022,\n",
    "    y_distribution = Bernoulli,\n",
    "    T = Float64,\n",
    "    )\n",
    "    m == 1 || m == 2 || error(\"m (number of VC) must be 1 or 2\")\n",
    "    \n",
    "    # non-genetic effect sizes\n",
    "    Random.seed!(seed)\n",
    "    βtrue = [1.0; rand(-0.03:0.06:0.03, p-1)]\n",
    "    dist = y_distribution()\n",
    "    link = canonicallink(dist)\n",
    "    Dist = typeof(dist)\n",
    "    Link = typeof(link)\n",
    "\n",
    "    # variance components\n",
    "    θtrue = fill(0.1, m)\n",
    "\n",
    "    # simulate design matrices\n",
    "    Random.seed!(seed)\n",
    "    X_full = Matrix{Float64}[]\n",
    "    for i in 1:n\n",
    "        nobs = rand(1:d) # number of obs for this sample\n",
    "        push!(X_full, hcat(ones(nobs), randn(nobs, p - 1)))\n",
    "    end\n",
    "\n",
    "    # simulate random SnpArray with q SNPs and randomly choose k SNPs to be causal\n",
    "    Random.seed!(2022)\n",
    "    G = simulate_random_snparray(undef, n, q)\n",
    "    Gfloat = convert(Matrix{T}, G, center=true, scale=false)\n",
    "    γtrue = zeros(q)\n",
    "    γtrue[1:k] .= rand([-0.2, 0.2], k)\n",
    "    shuffle!(γtrue)\n",
    "    η_G = Gfloat * γtrue\n",
    "\n",
    "    # simulate phenotypes\n",
    "    if y_distribution == Normal\n",
    "        τtrue = 10.0\n",
    "        σ2 = inv(τtrue)\n",
    "        σ = sqrt(σ2)\n",
    "        obs = Vector{GaussianCopulaVCObs{T}}(undef, n)\n",
    "        for i in 1:n\n",
    "            # data matrix\n",
    "            X = X_full[i]\n",
    "            η = X * βtrue\n",
    "            η .+= η_G[i] # add genetic effects\n",
    "            μ = GLM.linkinv.(link, η)\n",
    "            vecd = Vector{ContinuousUnivariateDistribution}(undef, size(X, 1))\n",
    "            # VC matrices\n",
    "            V1 = ones(size(X, 1), size(X, 1))\n",
    "            V2 = Matrix(I, size(X, 1), size(X, 1))\n",
    "            Γ = m == 1 ? θtrue[1] * V1 : θtrue[1] * V1 + θtrue[2] * V2\n",
    "            for i in 1:size(X, 1)\n",
    "                vecd[i] = y_distribution(μ[i], σ)\n",
    "            end\n",
    "            nonmixed_multivariate_dist = NonMixedMultivariateDistribution(vecd, Γ)\n",
    "            # simuate single vector y\n",
    "            y = Vector{T}(undef, size(X, 1))\n",
    "            res = Vector{T}(undef, size(X, 1))\n",
    "            rand(nonmixed_multivariate_dist, y, res)\n",
    "            V = m == 1 ? [V1] : [V1, V2]\n",
    "            obs[i] = GaussianCopulaVCObs(y, X, V)\n",
    "        end\n",
    "        qc_model = GaussianCopulaVCModel(obs)\n",
    "    else\n",
    "        obs = Vector{GLMCopulaVCObs{T, Dist, Link}}(undef, n)\n",
    "        for i in 1:n\n",
    "            # data matrix\n",
    "            X = X_full[i]\n",
    "            η = X * βtrue\n",
    "            η .+= η_G[i] # add genetic effects\n",
    "            μ = GLM.linkinv.(link, η)\n",
    "            # VC matrices\n",
    "            V1 = ones(size(X, 1), size(X, 1))\n",
    "            V2 = Matrix(I, size(X, 1), size(X, 1))\n",
    "            Γ = m == 1 ? θtrue[1] * V1 : θtrue[1] * V1 + θtrue[2] * V2\n",
    "            vecd = Vector{DiscreteUnivariateDistribution}(undef, size(X, 1))\n",
    "            for i in 1:size(X, 1)\n",
    "                vecd[i] = y_distribution(μ[i])\n",
    "            end\n",
    "            nonmixed_multivariate_dist = NonMixedMultivariateDistribution(vecd, Γ)\n",
    "            # simuate single vector y\n",
    "            y = Vector{T}(undef, size(X, 1))\n",
    "            res = Vector{T}(undef, size(X, 1))\n",
    "            rand(nonmixed_multivariate_dist, y, res)\n",
    "            V = m == 1 ? [V1] : [V1, V2]\n",
    "            obs[i] = GLMCopulaVCObs(y, X, V, dist, link)\n",
    "        end\n",
    "        qc_model = GLMCopulaVCModel(obs)\n",
    "    end\n",
    "    return qc_model, G, βtrue, θtrue, γtrue\n",
    "end\n",
    "\n",
    "k = 0 # number of causal SNPs\n",
    "\n",
    "qc_model, G, βtrue, θtrue, γtrue = simulate_VC_longitudinal(\n",
    "    n = 5000, # sample size\n",
    "    d = 5, # max number of observations per sample\n",
    "    p = 3, # number of fixed effects, including intercept\n",
    "    m = 2, # number of variance components\n",
    "    q = 1000, # number of SNPs\n",
    "    k = k, # number of causal SNPs\n",
    "    seed = 2022,\n",
    "    y_distribution = Bernoulli,\n",
    "    T = Float64,\n",
    ")\n",
    "\n",
    "@show qc_model;"
   ]
  },
  {
   "cell_type": "markdown",
   "metadata": {},
   "source": [
    "## Fit Null model"
   ]
  },
  {
   "cell_type": "code",
   "execution_count": 38,
   "metadata": {
    "collapsed": false,
    "scrolled": true
   },
   "outputs": [
    {
     "name": "stdout",
     "output_type": "stream",
     "text": [
      "This is Ipopt version 3.13.4, running with linear solver mumps.\n",
      "NOTE: Other linear solvers might be more efficient (see Ipopt documentation).\n",
      "\n",
      "Number of nonzeros in equality constraint Jacobian...:        0\n",
      "Number of nonzeros in inequality constraint Jacobian.:        0\n",
      "Number of nonzeros in Lagrangian Hessian.............:        0\n",
      "\n",
      "Total number of variables............................:        5\n",
      "                     variables with only lower bounds:        2\n",
      "                variables with lower and upper bounds:        0\n",
      "                     variables with only upper bounds:        0\n",
      "Total number of equality constraints.................:        0\n",
      "Total number of inequality constraints...............:        0\n",
      "        inequality constraints with only lower bounds:        0\n",
      "   inequality constraints with lower and upper bounds:        0\n",
      "        inequality constraints with only upper bounds:        0\n",
      "\n",
      "iter    objective    inf_pr   inf_du lg(mu)  ||d||  lg(rg) alpha_du alpha_pr  ls\n",
      "   0  9.1200663e+03 0.00e+00 1.12e+02   0.0 0.00e+00    -  0.00e+00 0.00e+00   0\n",
      "   1  9.1170768e+03 0.00e+00 8.09e+01  -2.5 1.12e+02    -  1.00e+00 1.06e-04f  1\n",
      "   2  9.1166026e+03 0.00e+00 7.56e+01  -5.4 3.23e-02    -  1.00e+00 1.22e-01f  1\n",
      "   3  9.1149427e+03 0.00e+00 1.22e+02 -10.4 6.11e-02    -  1.00e+00 1.00e+00f  1\n",
      "   4  9.1136600e+03 0.00e+00 2.19e+01  -6.9 3.42e-02    -  1.00e+00 4.31e-01f  1\n",
      "   5  9.1134984e+03 0.00e+00 4.65e+00  -5.8 1.04e-02    -  4.28e-01 1.00e+00f  1\n",
      "   6  9.1134908e+03 0.00e+00 3.61e+00  -4.4 1.24e-03    -  2.43e-02 1.00e+00f  1\n",
      "   7  9.1134291e+03 0.00e+00 3.96e+00  -5.3 1.48e-02    -  1.00e+00 1.00e+00f  1\n",
      "   8  9.1134140e+03 0.00e+00 4.97e+00  -4.4 5.91e-02    -  1.00e+00 1.25e-01f  4\n",
      "   9  9.1133891e+03 0.00e+00 8.31e+00  -4.8 5.13e-02    -  1.00e+00 1.00e+00f  1\n",
      "iter    objective    inf_pr   inf_du lg(mu)  ||d||  lg(rg) alpha_du alpha_pr  ls\n",
      "  10  9.1133814e+03 0.00e+00 8.96e+00  -6.0 1.27e-02    -  1.00e+00 5.00e-01f  2\n",
      "  11  9.1133533e+03 0.00e+00 1.52e+00 -11.0 2.23e-02    -  1.00e+00 1.00e+00f  1\n",
      "  12  9.1133532e+03 0.00e+00 2.15e+00  -7.5 8.11e-03    -  1.00e+00 5.00e-01f  2\n",
      "  13  9.1133523e+03 0.00e+00 1.81e+00  -9.1 8.63e-03    -  1.00e+00 5.00e-01f  2\n",
      "  14  9.1133521e+03 0.00e+00 5.54e-01 -10.0 6.44e-03    -  1.00e+00 5.00e-01f  2\n",
      "  15  9.1133507e+03 0.00e+00 9.27e-01 -11.0 9.34e-03    -  1.00e+00 5.00e-01f  2\n",
      "  16  9.1133507e+03 0.00e+00 8.68e-01 -11.0 3.44e-03    -  1.00e+00 6.25e-02f  5\n",
      "  17  9.1133506e+03 0.00e+00 6.08e-01 -11.0 3.04e-04    -  1.00e+00 1.00e+00f  1\n",
      "  18  9.1133505e+03 0.00e+00 2.94e-02 -11.0 1.81e-04    -  1.00e+00 1.00e+00f  1\n",
      "  19  9.1133505e+03 0.00e+00 7.23e-03 -11.0 2.27e-05    -  1.00e+00 1.00e+00f  1\n",
      "iter    objective    inf_pr   inf_du lg(mu)  ||d||  lg(rg) alpha_du alpha_pr  ls\n",
      "  20  9.1133505e+03 0.00e+00 5.89e-04 -11.0 4.28e-06    -  1.00e+00 1.00e+00f  1\n",
      "  21  9.1133505e+03 0.00e+00 5.92e-05 -11.0 1.82e-07    -  1.00e+00 1.00e+00f  1\n",
      "  22  9.1133505e+03 0.00e+00 5.81e-06 -11.0 4.06e-08    -  1.00e+00 1.00e+00f  1\n",
      "  23  9.1133505e+03 0.00e+00 2.95e-06 -11.0 5.07e-09    -  1.00e+00 5.00e-01f  2\n",
      "  24  9.1133505e+03 0.00e+00 4.39e-06 -11.0 8.82e-09    -  1.00e+00 1.00e+00f  1\n",
      "  25  9.1133505e+03 0.00e+00 3.92e-06 -11.0 1.57e-08    -  1.00e+00 1.00e+00f  1\n",
      "  26  9.1133505e+03 0.00e+00 8.53e-06 -11.0 3.12e-08    -  1.00e+00 1.00e+00f  1\n",
      "  27  9.1133505e+03 0.00e+00 8.15e-06 -11.0 2.03e-08    -  1.00e+00 1.00e+00f  1\n",
      "  28  9.1133505e+03 0.00e+00 2.61e-05 -11.0 3.25e-08    -  1.00e+00 1.00e+00f  1\n",
      "  29  9.1133505e+03 0.00e+00 1.97e-05 -11.0 1.23e-08    -  1.00e+00 1.00e+00f  1\n",
      "iter    objective    inf_pr   inf_du lg(mu)  ||d||  lg(rg) alpha_du alpha_pr  ls\n",
      "  30  9.1133505e+03 0.00e+00 9.71e-06 -11.0 1.63e-08    -  1.00e+00 5.00e-01f  2\n",
      "  31  9.1133505e+03 0.00e+00 5.97e-06 -11.0 6.97e-09    -  1.00e+00 5.00e-01f  2\n",
      "  32  9.1133505e+03 0.00e+00 1.32e-05 -11.0 1.63e-08    -  1.00e+00 1.00e+00f  1\n",
      "  33  9.1133505e+03 0.00e+00 1.79e-06 -11.0 1.11e-08    -  1.00e+00 1.00e+00f  1\n",
      "  34  9.1133505e+03 0.00e+00 3.51e-06 -11.0 5.89e-09    -  1.00e+00 1.00e+00f  1\n",
      "  35  9.1133505e+03 0.00e+00 8.59e-07 -11.0 3.69e-09    -  1.00e+00 1.00e+00f  1\n",
      "\n",
      "Number of Iterations....: 35\n",
      "\n",
      "                                   (scaled)                 (unscaled)\n",
      "Objective...............:   6.2440461228714676e+03    9.1133504950917359e+03\n",
      "Dual infeasibility......:   8.5852440172681570e-07    1.2530390755549625e-06\n",
      "Constraint violation....:   0.0000000000000000e+00    0.0000000000000000e+00\n",
      "Complementarity.........:   1.0000000000000001e-11    1.4595264538021628e-11\n",
      "Overall NLP error.......:   8.5852440172681570e-07    1.2530390755549625e-06\n",
      "\n",
      "\n",
      "Number of objective function evaluations             = 91\n",
      "Number of objective gradient evaluations             = 36\n",
      "Number of equality constraint evaluations            = 0\n",
      "Number of inequality constraint evaluations          = 0\n",
      "Number of equality constraint Jacobian evaluations   = 0\n",
      "Number of inequality constraint Jacobian evaluations = 0\n",
      "Number of Lagrangian Hessian evaluations             = 0\n",
      "Total CPU secs in IPOPT (w/o function evaluations)   =      0.085\n",
      "Total CPU secs in NLP function evaluations           =      0.497\n",
      "\n",
      "EXIT: Optimal Solution Found.\n",
      "  0.615298 seconds (1.94 M allocations: 32.088 MiB)\n"
     ]
    }
   ],
   "source": [
    "@time optm = QuasiCopula.fit!(qc_model,\n",
    "    Ipopt.IpoptSolver(\n",
    "        print_level = 5, \n",
    "        tol = 10^-6, \n",
    "        max_iter = 200,\n",
    "        accept_after_max_steps = 10,\n",
    "        warm_start_init_point=\"yes\", \n",
    "        limited_memory_max_history = 6, # default value\n",
    "        hessian_approximation = \"limited-memory\",\n",
    "#         derivative_test=\"second-order\"\n",
    "    )\n",
    ");"
   ]
  },
  {
   "cell_type": "code",
   "execution_count": 39,
   "metadata": {
    "collapsed": false
   },
   "outputs": [
    {
     "name": "stdout",
     "output_type": "stream",
     "text": [
      "βtrue = [1.0, -0.03, 0.03]\n",
      "qc_model.β = [0.9787109971992247, -0.006534895264500844, 0.004756529558569876]\n",
      "qc_model.∇β = [-1.2530390755549625e-6, 8.717288488488406e-7, -9.137386014490545e-7]\n",
      "θtrue = [0.1, 0.1]\n",
      "qc_model.θ = [0.09068628793643643, 0.050371173525735724]\n",
      "qc_model.∇θ = [1.0514365018088334e-6, 9.835424232274015e-7]\n"
     ]
    }
   ],
   "source": [
    "@show βtrue\n",
    "@show qc_model.β\n",
    "@show qc_model.∇β\n",
    "\n",
    "@show θtrue\n",
    "@show qc_model.θ\n",
    "@show qc_model.∇θ;"
   ]
  },
  {
   "cell_type": "markdown",
   "metadata": {},
   "source": [
    "# Loglikelihood function friendly to autodiff"
   ]
  },
  {
   "cell_type": "code",
   "execution_count": 176,
   "metadata": {
    "collapsed": false
   },
   "outputs": [
    {
     "data": {
      "text/plain": [
       "#75 (generic function with 1 method)"
      ]
     },
     "execution_count": 176,
     "metadata": {},
     "output_type": "execute_result"
    }
   ],
   "source": [
    "autodiff_loglikelihood(β) = QuasiCopula.loglikelihood(β, qc_model, z)\n",
    "\n",
    "# autodiff Gradient\n",
    "∇logl = x -> ForwardDiff.gradient(autodiff_loglikelihood, x)\n",
    "\n",
    "# autodiff Hessian\n",
    "∇²logl = x -> ForwardDiff.hessian(autodiff_loglikelihood, x)"
   ]
  },
  {
   "cell_type": "markdown",
   "metadata": {},
   "source": [
    "First, check if `autodiff_loglikelihood` returns same answer as `QuasiCopula.loglikelihood!`"
   ]
  },
  {
   "cell_type": "code",
   "execution_count": 177,
   "metadata": {
    "collapsed": false
   },
   "outputs": [
    {
     "name": "stdout",
     "output_type": "stream",
     "text": [
      "autodiff_loglikelihood(fullβ) = -9115.213958968148\n",
      "QuasiCopula.loglikelihood!(qc_model, false, false) = -9115.21395896794\n"
     ]
    }
   ],
   "source": [
    "i = 1\n",
    "z = convert(Vector{Float64}, @view(G[:, i]), center=true, scale=false)\n",
    "fullβ = [qc_model.β; qc_model.θ; 0.0] # poisson or bernoulli\n",
    "# fullβ = [qc_model.β; qc_model.θ; qc_model.τ; 0.0] # normal\n",
    "\n",
    "@show autodiff_loglikelihood(fullβ)\n",
    "@show QuasiCopula.loglikelihood!(qc_model, false, false);"
   ]
  },
  {
   "cell_type": "markdown",
   "metadata": {},
   "source": [
    "Lets compute a few Hessians"
   ]
  },
  {
   "cell_type": "code",
   "execution_count": 178,
   "metadata": {
    "collapsed": false
   },
   "outputs": [
    {
     "data": {
      "text/plain": [
       "6×6 Matrix{Float64}:\n",
       " -1919.15         1.51325       1.59757    1597.48     1575.14       -1.0216\n",
       "     1.51325  -2260.8          -0.233382    -14.0315     12.8902     -1.21421\n",
       "     1.59757     -0.233382  -2269.25         24.4981     -1.36837     1.91114\n",
       "  1597.48       -14.0315       24.4981    -7326.05      169.748     -28.6415\n",
       "  1575.14        12.8902       -1.36837     169.748   -1791.56        3.10195\n",
       "    -1.0216      -1.21421       1.91114     -28.6415      3.10195  -204.705"
      ]
     },
     "execution_count": 178,
     "metadata": {},
     "output_type": "execute_result"
    }
   ],
   "source": [
    "i = 1\n",
    "z = convert(Vector{Float64}, @view(G[:, i]), center=true, scale=false)\n",
    "Hfull = ∇²logl(fullβ) # snp 1"
   ]
  },
  {
   "cell_type": "code",
   "execution_count": 179,
   "metadata": {
    "collapsed": false
   },
   "outputs": [
    {
     "name": "stdout",
     "output_type": "stream",
     "text": [
      "(-(Hfull[i, j]) / sqrt(-(Hfull[i, i]))) / sqrt(-(Hfull[j, j])) = -0.42603436300632386\n",
      "(-(Hfull[i, j]) / sqrt(-(Hfull[i, i]))) / sqrt(-(Hfull[j, j])) = -0.849472198131595\n"
     ]
    }
   ],
   "source": [
    "# check correlation between VC params and beta\n",
    "i, j = 1, 4\n",
    "@show -Hfull[i, j] / sqrt(-Hfull[i, i]) / sqrt(-Hfull[j, j])\n",
    "i, j = 1, 5\n",
    "@show -Hfull[i, j] / sqrt(-Hfull[i, i]) / sqrt(-Hfull[j, j]);"
   ]
  },
  {
   "cell_type": "code",
   "execution_count": 180,
   "metadata": {
    "collapsed": false
   },
   "outputs": [
    {
     "data": {
      "text/plain": [
       "6×6 Matrix{Float64}:\n",
       " -1919.15         1.51325       1.59757    1597.48     1575.14       -2.87847\n",
       "     1.51325  -2260.8          -0.233382    -14.0315     12.8902    -16.2479\n",
       "     1.59757     -0.233382  -2269.25         24.4981     -1.36837    -6.57504\n",
       "  1597.48       -14.0315       24.4981    -7326.05      169.748     -75.1647\n",
       "  1575.14        12.8902       -1.36837     169.748   -1791.56      -29.2314\n",
       "    -2.87847    -16.2479       -6.57504     -75.1647    -29.2314   -650.334"
      ]
     },
     "execution_count": 180,
     "metadata": {},
     "output_type": "execute_result"
    }
   ],
   "source": [
    "i = 10\n",
    "z = convert(Vector{Float64}, @view(G[:, i]), center=true, scale=false)\n",
    "Hfull = ∇²logl(fullβ) # snp 10"
   ]
  },
  {
   "cell_type": "code",
   "execution_count": 181,
   "metadata": {
    "collapsed": false
   },
   "outputs": [
    {
     "name": "stdout",
     "output_type": "stream",
     "text": [
      "(-(Hfull[i, j]) / sqrt(-(Hfull[i, i]))) / sqrt(-(Hfull[j, j])) = -0.42603436300632386\n",
      "(-(Hfull[i, j]) / sqrt(-(Hfull[i, i]))) / sqrt(-(Hfull[j, j])) = -0.849472198131595\n"
     ]
    }
   ],
   "source": [
    "# check correlation between VC params and beta\n",
    "i, j = 1, 4\n",
    "@show -Hfull[i, j] / sqrt(-Hfull[i, i]) / sqrt(-Hfull[j, j])\n",
    "i, j = 1, 5\n",
    "@show -Hfull[i, j] / sqrt(-Hfull[i, i]) / sqrt(-Hfull[j, j]);"
   ]
  },
  {
   "cell_type": "code",
   "execution_count": 182,
   "metadata": {
    "collapsed": false
   },
   "outputs": [
    {
     "data": {
      "text/plain": [
       "0.15105678954408971"
      ]
     },
     "execution_count": 182,
     "metadata": {},
     "output_type": "execute_result"
    }
   ],
   "source": [
    "W = -Hfull[1:end-1, end]\n",
    "Q = -Hfull[end, end]\n",
    "Pinv = inv(-Hfull[1:end-1, 1:end-1])\n",
    "R = ∇logl(fullβ)[end]\n",
    "S = R * inv(Q - W'*Pinv*W) * R\n",
    "pval = ccdf(Chisq(1), S)"
   ]
  },
  {
   "cell_type": "code",
   "execution_count": 183,
   "metadata": {
    "collapsed": false
   },
   "outputs": [
    {
     "data": {
      "text/plain": [
       "6-element Vector{Float64}:\n",
       " -2.1122262966466465e-8\n",
       " -1.5168279158747633e-8\n",
       "  3.1197817593198174e-10\n",
       "  3.4941168847169024e-9\n",
       "  1.312742081704954e-8\n",
       " 36.03130779123372"
      ]
     },
     "execution_count": 183,
     "metadata": {},
     "output_type": "execute_result"
    }
   ],
   "source": [
    "∇logl(fullβ)"
   ]
  },
  {
   "cell_type": "markdown",
   "metadata": {},
   "source": [
    "## Check QQ plots\n",
    "\n",
    "### Bernoulli"
   ]
  },
  {
   "cell_type": "code",
   "execution_count": 28,
   "metadata": {
    "collapsed": false
   },
   "outputs": [
    {
     "name": "stdout",
     "output_type": "stream",
     "text": [
      " 21.319460 seconds (61.53 k allocations: 39.535 MiB, 0.70% gc time)\n"
     ]
    },
    {
     "data": {
      "text/plain": [
       "1000-element Vector{Float64}:\n",
       " 0.5644992405065378\n",
       " 0.15784782604423747\n",
       " 0.8442310060062539\n",
       " 0.8817716309480466\n",
       " 0.9253274498146944\n",
       " 0.003506126780287953\n",
       " 0.7525868989191161\n",
       " 0.4808044534741639\n",
       " 0.17829570739969267\n",
       " 0.4514367047131067\n",
       " 0.22250887361486982\n",
       " 0.3255808777775815\n",
       " 0.1900639430575561\n",
       " ⋮\n",
       " 0.39395746870849074\n",
       " 0.5522937484340259\n",
       " 0.8241304600781619\n",
       " 0.8738489816793037\n",
       " 0.8132807451906705\n",
       " 0.6524462851961218\n",
       " 0.6984092483952774\n",
       " 0.18675785726392038\n",
       " 0.5768906695664822\n",
       " 0.17807939386765723\n",
       " 0.052952129790720226\n",
       " 0.12334946298195286"
      ]
     },
     "execution_count": 28,
     "metadata": {},
     "output_type": "execute_result"
    }
   ],
   "source": [
    "@time pvals = QuasiCopula.GWASCopulaVCModel_autodiff(qc_model, G)"
   ]
  },
  {
   "cell_type": "code",
   "execution_count": 29,
   "metadata": {
    "collapsed": false
   },
   "outputs": [
    {
     "data": {
      "image/png": "[encoded data removed]"
     },
     "metadata": {},
     "output_type": "display_data"
    }
   ],
   "source": [
    "qq(pvals, dpi=100, titles=\"Bernoulli, $k causal SNPs\")\n",
    "display(\"image/png\", read(\"qqplot.png\"))"
   ]
  },
  {
   "cell_type": "code",
   "execution_count": 30,
   "metadata": {
    "collapsed": false
   },
   "outputs": [
    {
     "name": "stdout",
     "output_type": "stream",
     "text": [
      "length(signif_snps) = 3\n",
      "power = 0.6\n"
     ]
    },
    {
     "data": {
      "text/plain": [
       "0.6"
      ]
     },
     "execution_count": 30,
     "metadata": {},
     "output_type": "execute_result"
    }
   ],
   "source": [
    "correct_snps = findall(!iszero, γtrue)\n",
    "signif_snps = findall(x -> x < 0.05/length(pvals), pvals)\n",
    "power = length(correct_snps ∩ signif_snps) / max(1, length(correct_snps))\n",
    "\n",
    "@show length(signif_snps)\n",
    "@show power"
   ]
  },
  {
   "cell_type": "code",
   "execution_count": 31,
   "metadata": {
    "collapsed": false
   },
   "outputs": [
    {
     "data": {
      "text/plain": [
       "5-element Vector{Float64}:\n",
       " 6.0331516392201864e-12\n",
       " 1.030589749790029e-9\n",
       " 1.245201995216175e-7\n",
       " 6.0609490412980606e-5\n",
       " 0.06188612423675687"
      ]
     },
     "execution_count": 31,
     "metadata": {},
     "output_type": "execute_result"
    }
   ],
   "source": [
    "# pvalues of truly causal SNPs\n",
    "pvals[correct_snps] |> sort"
   ]
  },
  {
   "cell_type": "code",
   "execution_count": 32,
   "metadata": {
    "collapsed": false
   },
   "outputs": [
    {
     "data": {
      "text/plain": [
       "1000-element Vector{Float64}:\n",
       " 6.0331516392201864e-12\n",
       " 1.030589749790029e-9\n",
       " 1.245201995216175e-7\n",
       " 6.0609490412980606e-5\n",
       " 0.00012906537690192047\n",
       " 0.000331180393985165\n",
       " 0.0009485421979176238\n",
       " 0.001001948213653033\n",
       " 0.0030760512222149992\n",
       " 0.003389791304748053\n",
       " 0.003421471179503189\n",
       " 0.003506126780287953\n",
       " 0.0037835366534109483\n",
       " ⋮\n",
       " 0.9938415194112987\n",
       " 0.9941186065853664\n",
       " 0.9943587142624726\n",
       " 0.9949164122191888\n",
       " 0.9961728811790946\n",
       " 0.996690676521285\n",
       " 0.9970745110526468\n",
       " 0.9972109487313688\n",
       " 0.9979018920841659\n",
       " 0.999261461518929\n",
       " 0.9992654116919657\n",
       " 0.9999816841249722"
      ]
     },
     "execution_count": 32,
     "metadata": {},
     "output_type": "execute_result"
    }
   ],
   "source": [
    "# pvalues of all SNPs sorted by significance\n",
    "sort(pvals)"
   ]
  },
  {
   "cell_type": "markdown",
   "metadata": {},
   "source": [
    "### Poisson"
   ]
  },
  {
   "cell_type": "code",
   "execution_count": 140,
   "metadata": {
    "collapsed": false
   },
   "outputs": [
    {
     "name": "stdout",
     "output_type": "stream",
     "text": [
      " 28.589258 seconds (11.94 M allocations: 665.492 MiB, 1.92% gc time, 10.78% compilation time)\n"
     ]
    },
    {
     "data": {
      "text/plain": [
       "1000-element Vector{Float64}:\n",
       " 0.6114268725266863\n",
       " 0.1070897825482224\n",
       " 0.4808221686158258\n",
       " 0.744190834942224\n",
       " 0.950482348827627\n",
       " 0.23528673084794868\n",
       " 0.46045653681006116\n",
       " 0.45866209289578674\n",
       " 0.9258876193751494\n",
       " 0.8627151681348451\n",
       " 0.15372568300464257\n",
       " 0.5204998859286512\n",
       " 0.7626078790033816\n",
       " ⋮\n",
       " 0.9035329323344029\n",
       " 0.6592685362102048\n",
       " 0.3928055101450575\n",
       " 0.7713633298069937\n",
       " 0.2389535335631845\n",
       " 0.21632316805960078\n",
       " 0.5398714872768096\n",
       " 0.7179613000061875\n",
       " 0.2610477871041082\n",
       " 0.1960121426222287\n",
       " 0.2119757709621244\n",
       " 0.2488841786630273"
      ]
     },
     "execution_count": 140,
     "metadata": {},
     "output_type": "execute_result"
    }
   ],
   "source": [
    "@time pvals = GWASCopulaVCModel_autodiff(qc_model, G)"
   ]
  },
  {
   "cell_type": "code",
   "execution_count": 142,
   "metadata": {
    "collapsed": false
   },
   "outputs": [
    {
     "name": "stdout",
     "output_type": "stream",
     "text": [
      "length(signif_snps) = 0\n",
      "power = 0.0\n"
     ]
    },
    {
     "data": {
      "text/plain": [
       "0.0"
      ]
     },
     "execution_count": 142,
     "metadata": {},
     "output_type": "execute_result"
    }
   ],
   "source": [
    "correct_snps = findall(!iszero, γtrue)\n",
    "signif_snps = findall(x -> x < 0.05/length(pvals), pvals)\n",
    "power = length(correct_snps ∩ signif_snps) / max(1, length(correct_snps))\n",
    "\n",
    "@show length(signif_snps)\n",
    "@show power"
   ]
  },
  {
   "cell_type": "code",
   "execution_count": 143,
   "metadata": {
    "collapsed": false
   },
   "outputs": [
    {
     "data": {
      "text/plain": [
       "Float64[]"
      ]
     },
     "execution_count": 143,
     "metadata": {},
     "output_type": "execute_result"
    }
   ],
   "source": [
    "# pvalues of truly causal SNPs\n",
    "pvals[correct_snps] |> sort"
   ]
  },
  {
   "cell_type": "code",
   "execution_count": 144,
   "metadata": {
    "collapsed": false
   },
   "outputs": [
    {
     "data": {
      "text/plain": [
       "1000-element Vector{Float64}:\n",
       " 7.774419750037377e-5\n",
       " 0.0007995735158536389\n",
       " 0.0014701534337042362\n",
       " 0.0023052624910533167\n",
       " 0.0032960856216279174\n",
       " 0.0045025374492216885\n",
       " 0.007228559546037386\n",
       " 0.00871530231445743\n",
       " 0.009464796774703342\n",
       " 0.009500401842390423\n",
       " 0.010496950215314155\n",
       " 0.012832798228600159\n",
       " 0.013572084093715341\n",
       " ⋮\n",
       " 0.9920031583740274\n",
       " 0.9929075203129113\n",
       " 0.992935227855631\n",
       " 0.9929518639402093\n",
       " 0.9952200936210467\n",
       " 0.9955531576454074\n",
       " 0.995731012918804\n",
       " 0.9964340911964977\n",
       " 0.9968085641471957\n",
       " 0.9988088543252713\n",
       " 0.9995714607152042\n",
       " 0.9998427630853882"
      ]
     },
     "execution_count": 144,
     "metadata": {},
     "output_type": "execute_result"
    }
   ],
   "source": [
    "# pvalues of all SNPs sorted by significance\n",
    "sort(pvals)"
   ]
  },
  {
   "cell_type": "code",
   "execution_count": 145,
   "metadata": {
    "collapsed": false
   },
   "outputs": [
    {
     "data": {
      "image/png": "[encoded data removed]"
     },
     "metadata": {},
     "output_type": "display_data"
    }
   ],
   "source": [
    "qq(pvals, dpi=100, titles=\"Poisson, $k causal SNPs\")\n",
    "display(\"image/png\", read(\"qqplot.png\"))"
   ]
  },
  {
   "cell_type": "markdown",
   "metadata": {},
   "source": [
    "### Normal"
   ]
  },
  {
   "cell_type": "code",
   "execution_count": 161,
   "metadata": {
    "collapsed": false
   },
   "outputs": [
    {
     "name": "stdout",
     "output_type": "stream",
     "text": [
      " 25.604872 seconds (2.98 M allocations: 189.687 MiB, 0.09% gc time, 2.54% compilation time)\n"
     ]
    },
    {
     "data": {
      "text/plain": [
       "1000-element Vector{Float64}:\n",
       " 0.24465953017198147\n",
       " 0.009741891736981027\n",
       " 0.7567517986287128\n",
       " 0.4535554720965867\n",
       " 0.3452760068789352\n",
       " 0.5307896341388307\n",
       " 0.9904425612163903\n",
       " 0.5069914738526093\n",
       " 0.26311222865636374\n",
       " 0.492781311235218\n",
       " 0.6944152891166855\n",
       " 0.9110781982219424\n",
       " 0.6676099440726022\n",
       " ⋮\n",
       " 0.9621950407729223\n",
       " 0.30575034422284897\n",
       " 0.8554907435007886\n",
       " 0.47056664465245246\n",
       " 0.21058684775370182\n",
       " 0.30712783776048014\n",
       " 0.71620468448529\n",
       " 0.7427197831010647\n",
       " 0.9002203228180086\n",
       " 0.15077039902942807\n",
       " 0.7941846237269187\n",
       " 0.06887147552189807"
      ]
     },
     "execution_count": 161,
     "metadata": {},
     "output_type": "execute_result"
    }
   ],
   "source": [
    "@time pvals = GWASCopulaVCModel_autodiff(qc_model, G)"
   ]
  },
  {
   "cell_type": "code",
   "execution_count": 162,
   "metadata": {
    "collapsed": false
   },
   "outputs": [
    {
     "name": "stdout",
     "output_type": "stream",
     "text": [
      "length(signif_snps) = 0\n",
      "power = 0.0\n"
     ]
    },
    {
     "data": {
      "text/plain": [
       "0.0"
      ]
     },
     "execution_count": 162,
     "metadata": {},
     "output_type": "execute_result"
    }
   ],
   "source": [
    "correct_snps = findall(!iszero, γtrue)\n",
    "signif_snps = findall(x -> x < 0.05/length(pvals), pvals)\n",
    "power = length(correct_snps ∩ signif_snps) / max(1, length(correct_snps))\n",
    "\n",
    "@show length(signif_snps)\n",
    "@show power"
   ]
  },
  {
   "cell_type": "code",
   "execution_count": 163,
   "metadata": {
    "collapsed": false
   },
   "outputs": [
    {
     "data": {
      "text/plain": [
       "Float64[]"
      ]
     },
     "execution_count": 163,
     "metadata": {},
     "output_type": "execute_result"
    }
   ],
   "source": [
    "# pvalues of truly causal SNPs\n",
    "pvals[correct_snps] |> sort"
   ]
  },
  {
   "cell_type": "code",
   "execution_count": 164,
   "metadata": {
    "collapsed": false
   },
   "outputs": [
    {
     "data": {
      "text/plain": [
       "1000-element Vector{Float64}:\n",
       " 0.0012751656205525225\n",
       " 0.0016027816489660603\n",
       " 0.0028623669696721914\n",
       " 0.003959580728971236\n",
       " 0.0052060611954021984\n",
       " 0.006395370251445862\n",
       " 0.007019073586846049\n",
       " 0.007134156007834394\n",
       " 0.009741891736981027\n",
       " 0.010386259143514922\n",
       " 0.010426917301049974\n",
       " 0.01065502403732776\n",
       " 0.012274771875088185\n",
       " ⋮\n",
       " 0.9880104822446031\n",
       " 0.9904425612163903\n",
       " 0.9905189519417772\n",
       " 0.9906432097326853\n",
       " 0.9923209905422546\n",
       " 0.9927615390304259\n",
       " 0.9933161413567163\n",
       " 0.9941293211269938\n",
       " 0.9945405005876492\n",
       " 0.9953517907746027\n",
       " 0.9976181881079547\n",
       " 0.9988153189582745"
      ]
     },
     "execution_count": 164,
     "metadata": {},
     "output_type": "execute_result"
    }
   ],
   "source": [
    "# pvalues of all SNPs sorted by significance\n",
    "sort(pvals)"
   ]
  },
  {
   "cell_type": "code",
   "execution_count": 165,
   "metadata": {
    "collapsed": false
   },
   "outputs": [
    {
     "data": {
      "image/png": "[encoded data removed]"
     },
     "metadata": {},
     "output_type": "display_data"
    }
   ],
   "source": [
    "qq(pvals, dpi=100, titles=\"Normal, $k causal SNPs\")\n",
    "display(\"image/png\", read(\"qqplot.png\"))"
   ]
  }
 ],
 "metadata": {
  "@webio": {
   "lastCommId": null,
   "lastKernelId": null
  },
  "kernelspec": {
   "display_name": "Julia 1.7.3",
   "language": "julia",
   "name": "julia-1.7"
  },
  "language_info": {
   "file_extension": ".jl",
   "mimetype": "application/julia",
   "name": "julia",
   "version": "1.7.3"
  },
  "toc": {
   "base_numbering": 1,
   "nav_menu": {},
   "number_sections": true,
   "sideBar": true,
   "skip_h1_title": false,
   "title_cell": "Table of Contents",
   "title_sidebar": "Contents",
   "toc_cell": false,
   "toc_position": {},
   "toc_section_display": true,
   "toc_window_display": false
  }
 },
 "nbformat": 4,
 "nbformat_minor": 2
}
