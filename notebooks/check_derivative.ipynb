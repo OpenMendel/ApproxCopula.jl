{
 "cells": [
  {
   "cell_type": "markdown",
   "metadata": {},
   "source": [
    "# Using autodiff to check gradient/Hessians"
   ]
  },
  {
   "cell_type": "code",
   "execution_count": 29,
   "metadata": {
    "collapsed": false
   },
   "outputs": [
    {
     "data": {
      "text/plain": [
       "_make_snparray (generic function with 1 method)"
      ]
     },
     "execution_count": 29,
     "metadata": {},
     "output_type": "execute_result"
    }
   ],
   "source": [
    "using Revise\n",
    "using DataFrames, Random, GLM, QuasiCopula\n",
    "using ForwardDiff, Test, LinearAlgebra\n",
    "using LinearAlgebra: BlasReal, copytri!\n",
    "using ToeplitzMatrices\n",
    "using BenchmarkTools\n",
    "using SnpArrays\n",
    "using ForwardDiff\n",
    "# using MendelPlots\n",
    "ENV[\"COLUMNS\"] = 240\n",
    "\n",
    "\n",
    "BLAS.set_num_threads(1)\n",
    "Threads.nthreads()\n",
    "\n",
    "function simulate_random_snparray(s::Union{String, UndefInitializer}, n::Int64,\n",
    "    p::Int64; mafs::Vector{Float64}=zeros(Float64, p), min_ma::Int = 5)\n",
    "\n",
    "    #first simulate a random {0, 1, 2} matrix with each SNP drawn from Binomial(2, r[i])\n",
    "    A1 = BitArray(undef, n, p) \n",
    "    A2 = BitArray(undef, n, p) \n",
    "    for j in 1:p\n",
    "        minor_alleles = 0\n",
    "        maf = 0\n",
    "        while minor_alleles <= min_ma\n",
    "            maf = 0.5rand()\n",
    "            for i in 1:n\n",
    "                A1[i, j] = rand(Bernoulli(maf))\n",
    "                A2[i, j] = rand(Bernoulli(maf))\n",
    "            end\n",
    "            minor_alleles = sum(view(A1, :, j)) + sum(view(A2, :, j))\n",
    "        end\n",
    "        mafs[j] = maf\n",
    "    end\n",
    "\n",
    "    #fill the SnpArray with the corresponding x_tmp entry\n",
    "    return _make_snparray(s, A1, A2)\n",
    "end\n",
    "\n",
    "function _make_snparray(s::Union{String, UndefInitializer}, A1::BitArray, A2::BitArray)\n",
    "    n, p = size(A1)\n",
    "    x = SnpArray(s, n, p)\n",
    "    for i in 1:(n*p)\n",
    "        c = A1[i] + A2[i]\n",
    "        if c == 0\n",
    "            x[i] = 0x00\n",
    "        elseif c == 1\n",
    "            x[i] = 0x02\n",
    "        elseif c == 2\n",
    "            x[i] = 0x03\n",
    "        else\n",
    "            throw(MissingException(\"matrix shouldn't have missing values!\"))\n",
    "        end\n",
    "    end\n",
    "    return x\n",
    "end"
   ]
  },
  {
   "cell_type": "code",
   "execution_count": 13,
   "metadata": {
    "collapsed": false
   },
   "outputs": [
    {
     "name": "stdout",
     "output_type": "stream",
     "text": [
      "qc_model = Quasi-Copula Variance Component Model\n",
      "  * base distribution: Bernoulli\n",
      "  * link function: LogitLink\n",
      "  * number of clusters: 5000\n",
      "  * cluster size min, max: 5, 5\n",
      "  * number of variance components: 2\n",
      "  * number of fixed effects: 3\n",
      "\n"
     ]
    }
   ],
   "source": [
    "function simulate_VC_longitudinal(;\n",
    "    n = 1000, # sample size\n",
    "    d = 5, # number of observations per sample\n",
    "    p = 3, # number of nongenetic covariates, including intercept\n",
    "    m = 2, # number of variance components\n",
    "    q = 1000, # number of SNPs\n",
    "    k = 10, # number of causal SNPs\n",
    "    seed = 2022,\n",
    "    y_distribution = Bernoulli,\n",
    "    T = Float64,\n",
    "    )\n",
    "    m == 1 || m == 2 || error(\"m (number of VC) must be 1 or 2\")\n",
    "    \n",
    "    # non-genetic effect sizes\n",
    "    Random.seed!(seed)\n",
    "    βtrue = rand(Uniform(-0.2, 0.2), p)\n",
    "    dist = y_distribution()\n",
    "    link = canonicallink(dist)\n",
    "    Dist = typeof(dist)\n",
    "    Link = typeof(link)\n",
    "\n",
    "    # variance components\n",
    "    θtrue = fill(0.1, m)\n",
    "    V1 = ones(d, d)\n",
    "    V2 = Matrix(I, d, d)\n",
    "    Γ = m == 1 ? θtrue[1] * V1 : θtrue[1] * V1 + θtrue[2] * V2\n",
    "\n",
    "    # simulate design matrices\n",
    "    Random.seed!(seed)\n",
    "    X_full = [hcat(ones(d), randn(d, p - 1)) for i in 1:n]\n",
    "\n",
    "    # simulate random SnpArray with 100 SNPs and randomly choose k SNPs to be causal\n",
    "    Random.seed!(2022)\n",
    "    G = simulate_random_snparray(undef, n, q)\n",
    "    Gfloat = convert(Matrix{T}, G, center=true, scale=false)\n",
    "    γtrue = zeros(q)\n",
    "    γtrue[1:k] .= rand([-0.2, 0.2], k)\n",
    "    shuffle!(γtrue)\n",
    "    η_G = Gfloat * γtrue\n",
    "\n",
    "    # simulate phenotypes\n",
    "    if y_distribution == Normal\n",
    "        τtrue = 10.0\n",
    "        σ2 = inv(τtrue)\n",
    "        σ = sqrt(σ2)\n",
    "        obs = Vector{GaussianCopulaVCObs{T}}(undef, n)\n",
    "        for i in 1:n\n",
    "            X = X_full[i]\n",
    "            η = X * βtrue\n",
    "            η .+= η_G[i] # add genetic effects\n",
    "            μ = GLM.linkinv.(link, η)\n",
    "            vecd = Vector{ContinuousUnivariateDistribution}(undef, d)\n",
    "            for i in 1:d\n",
    "                vecd[i] = y_distribution(μ[i], σ)\n",
    "            end\n",
    "            nonmixed_multivariate_dist = NonMixedMultivariateDistribution(vecd, Γ)\n",
    "            # simuate single vector y\n",
    "            y = Vector{T}(undef, d)\n",
    "            res = Vector{T}(undef, d)\n",
    "            rand(nonmixed_multivariate_dist, y, res)\n",
    "            V = m == 1 ? [V1] : [V1, V2]\n",
    "            obs[i] = GaussianCopulaVCObs(y, X, V)\n",
    "        end\n",
    "        qc_model = GaussianCopulaVCModel(obs)\n",
    "    else\n",
    "        obs = Vector{GLMCopulaVCObs{T, Dist, Link}}(undef, n)\n",
    "        for i in 1:n\n",
    "            X = X_full[i]\n",
    "            η = X * βtrue\n",
    "            η .+= η_G[i] # add genetic effects\n",
    "            μ = GLM.linkinv.(link, η)\n",
    "            vecd = Vector{DiscreteUnivariateDistribution}(undef, d)\n",
    "            for i in 1:d\n",
    "                vecd[i] = y_distribution(μ[i])\n",
    "            end\n",
    "            nonmixed_multivariate_dist = NonMixedMultivariateDistribution(vecd, Γ)\n",
    "            # simuate single vector y\n",
    "            y = Vector{T}(undef, d)\n",
    "            res = Vector{T}(undef, d)\n",
    "            rand(nonmixed_multivariate_dist, y, res)\n",
    "            V = m == 1 ? [V1] : [V1, V2]\n",
    "            obs[i] = GLMCopulaVCObs(y, X, V, dist, link)\n",
    "        end\n",
    "        qc_model = GLMCopulaVCModel(obs)\n",
    "    end\n",
    "    return qc_model, Γ, G, βtrue, θtrue, γtrue\n",
    "end\n",
    "\n",
    "k = 0 # number of causal SNPs\n",
    "\n",
    "qc_model, Γ, G, βtrue, θtrue, γtrue = simulate_VC_longitudinal(\n",
    "    n = 5000, # sample size\n",
    "    d = 5, # number of observations per sample\n",
    "    p = 3, # number of fixed effects, including intercept\n",
    "    m = 2, # number of variance components\n",
    "    q = 1000, # number of SNPs\n",
    "    k = k, # number of causal SNPs\n",
    "    seed = 1000,\n",
    "    y_distribution = Bernoulli,\n",
    "    T = Float64,\n",
    ")\n",
    "\n",
    "@show qc_model;"
   ]
  },
  {
   "cell_type": "code",
   "execution_count": 14,
   "metadata": {
    "collapsed": false
   },
   "outputs": [
    {
     "name": "stdout",
     "output_type": "stream",
     "text": [
      "This is Ipopt version 3.13.4, running with linear solver mumps.\n",
      "NOTE: Other linear solvers might be more efficient (see Ipopt documentation).\n",
      "\n",
      "Number of nonzeros in equality constraint Jacobian...:        0\n",
      "Number of nonzeros in inequality constraint Jacobian.:        0\n",
      "Number of nonzeros in Lagrangian Hessian.............:        0\n",
      "\n",
      "Total number of variables............................:        5\n",
      "                     variables with only lower bounds:        2\n",
      "                variables with lower and upper bounds:        0\n",
      "                     variables with only upper bounds:        0\n",
      "Total number of equality constraints.................:        0\n",
      "Total number of inequality constraints...............:        0\n",
      "        inequality constraints with only lower bounds:        0\n",
      "   inequality constraints with lower and upper bounds:        0\n",
      "        inequality constraints with only upper bounds:        0\n",
      "\n",
      "iter    objective    inf_pr   inf_du lg(mu)  ||d||  lg(rg) alpha_du alpha_pr  ls\n",
      "   0  1.7236961e+04 0.00e+00 1.83e+01   0.0 0.00e+00    -  0.00e+00 0.00e+00   0\n",
      "   1  1.7267913e+04 0.00e+00 5.18e+02 -10.2 1.83e+01    -  1.00e+00 5.62e-03h  5\n",
      "   2  1.7236920e+04 0.00e+00 4.84e+00  -3.8 9.93e-02    -  1.00e+00 1.00e+00f  1\n",
      "   3  1.7236920e+04 0.00e+00 3.87e+00  -5.5 9.70e-04    -  1.00e+00 5.00e-01f  2\n",
      "   4  1.7236919e+04 0.00e+00 3.15e-01  -7.1 2.14e-04    -  1.00e+00 1.00e+00f  1\n",
      "   5  1.7236919e+04 0.00e+00 3.20e-01  -9.0 1.78e-05    -  1.00e+00 1.00e+00f  1\n",
      "   6  1.7236918e+04 0.00e+00 3.29e+00 -10.0 3.25e-03    -  1.00e+00 1.00e+00f  1\n",
      "   7  1.7236917e+04 0.00e+00 4.43e+00 -11.0 1.31e-02    -  1.00e+00 1.00e+00f  1\n",
      "   8  1.7236922e+04 0.00e+00 6.47e+00 -10.9 1.01e-01    -  1.00e+00 6.25e-02h  5\n",
      "   9  1.7236920e+04 0.00e+00 6.21e+00 -11.0 6.54e-02    -  1.00e+00 2.50e-01f  3\n",
      "iter    objective    inf_pr   inf_du lg(mu)  ||d||  lg(rg) alpha_du alpha_pr  ls\n",
      "  10  1.7236916e+04 0.00e+00 1.21e+01 -11.0 9.18e-02    -  7.36e-01 5.00e-01f  2\n",
      "  11  1.7236905e+04 0.00e+00 2.27e+01 -11.0 1.52e-01    -  1.00e+00 1.00e+00f  1\n",
      "  12  1.7238256e+04 0.00e+00 8.96e+01  -8.8 1.73e+01    -  1.00e+00 6.25e-02h  5\n",
      "  13  1.7238221e+04 0.00e+00 8.59e+01  -8.9 5.75e+00    -  1.00e+00 1.47e-02f  5\n",
      "  14  1.7238596e+04 0.00e+00 8.71e+01  -8.9 1.61e+00    -  5.66e-01 6.25e-02h  5\n",
      "  15  1.7236961e+04 0.00e+00 2.12e+01  -8.9 1.08e+00    -  1.00e+00 1.00e+00f  1\n",
      "  16  1.7236857e+04 0.00e+00 1.84e+01  -8.9 1.01e+01    -  3.11e-02 2.50e-01f  3\n",
      "  17  1.7236851e+04 0.00e+00 1.45e+01 -11.0 4.46e+01    -  1.00e+00 1.56e-02f  3\n",
      "  18  1.7236839e+04 0.00e+00 1.29e+01 -11.0 1.05e+03    -  1.00e+00 2.48e-04f  4\n",
      "  19  1.7236791e+04 0.00e+00 6.32e+00 -11.0 3.60e-02    -  1.00e+00 1.00e+00f  1\n",
      "iter    objective    inf_pr   inf_du lg(mu)  ||d||  lg(rg) alpha_du alpha_pr  ls\n",
      "  20  1.7236789e+04 0.00e+00 6.84e+00  -7.0 1.97e+00    -  1.00e+00 2.50e-01f  3\n",
      "Warning: Cutting back alpha due to evaluation error\n",
      "Warning: Cutting back alpha due to evaluation error\n",
      "  21  1.9850550e+04 0.00e+00 2.63e+03  -5.1 7.08e+02    -  4.00e-03 6.25e-02h  5\n",
      "  22  1.7258394e+04 0.00e+00 2.20e+02  -6.7 2.51e+01    -  1.00e+00 1.00e+00f  1\n",
      "Warning: Cutting back alpha due to evaluation error\n",
      "  23  1.7601820e+04 0.00e+00 1.19e+03  -6.7 1.59e+03    -  1.36e-02 6.25e-02h  5\n",
      "  24  1.7595263e+04 0.00e+00 1.14e+03  -6.7 9.02e+04    -  1.00e+00 3.32e-04f  3\n",
      "  25  1.7587200e+04 0.00e+00 1.13e+03  -6.7 4.17e+03    -  1.00e+00 1.09e-02f  2\n",
      "Warning: Cutting back alpha due to evaluation error\n",
      "Warning: Cutting back alpha due to evaluation error\n",
      "Warning: Cutting back alpha due to evaluation error\n",
      "Warning: Cutting back alpha due to evaluation error\n",
      "  26  3.7224939e+04 0.00e+00 3.73e+03  -6.7 2.09e+04    -  2.18e-03 6.25e-02h  5\n",
      "  27  3.4672002e+04 0.00e+00 2.99e+03  -6.7 1.68e+04    -  3.60e-02 5.00e-01f  2\n",
      "  28  3.0544656e+04 0.00e+00 3.41e+03  -6.7 2.66e+06    -  1.00e+00 3.66e-03f  1\n",
      "Warning: Cutting back alpha due to evaluation error\n",
      "  29  3.1519736e+04 0.00e+00 3.40e+03  -6.7 3.17e+05    -  2.04e-08 1.89e-05h  5\n",
      "Warning: Cutting back alpha due to evaluation error\n",
      "Warning: Cutting back alpha due to evaluation error\n",
      "Warning: Cutting back alpha due to evaluation error\n",
      "Warning: Cutting back alpha due to evaluation error\n",
      "Warning: Cutting back alpha due to evaluation error\n",
      "Warning: Cutting back alpha due to evaluation error\n",
      "Warning: Cutting back alpha due to evaluation error\n",
      "iter    objective    inf_pr   inf_du lg(mu)  ||d||  lg(rg) alpha_du alpha_pr  ls\n",
      "  30  4.1641548e+04 0.00e+00 3.62e+03  -6.7 1.36e+04    -  6.95e-03 7.81e-03h  8\n",
      "  31  3.8562460e+04 0.00e+00 2.72e+03  -6.7 1.98e+04    -  1.00e+00 4.96e-03f  2\n",
      "  32  3.8100496e+04 0.00e+00 2.66e+03  -6.7 9.29e+03    -  2.16e-01 1.06e-02f  1\n",
      "  33  2.2666849e+04 0.00e+00 1.88e+03  -6.7 9.66e+01    -  2.38e-07 1.00e+00f  1\n",
      "  34  2.0765735e+04 0.00e+00 1.55e+03  -6.7 2.05e+01    -  1.00e+00 2.50e-01f  3\n",
      "  35  2.0757512e+04 0.00e+00 1.82e+03  -6.7 7.35e+00    -  1.00e+00 2.50e-01f  3\n",
      "  36  2.0344142e+04 0.00e+00 1.85e+02  -6.7 1.02e+00    -  1.00e+00 1.00e+00f  1\n",
      "  37  2.0281242e+04 0.00e+00 6.06e+02  -6.7 1.36e+00    -  1.00e+00 1.00e+00f  1\n",
      "Warning: Cutting back alpha due to evaluation error\n",
      "  38  2.0539809e+04 0.00e+00 1.37e+03  -6.7 9.76e+03    -  2.01e-03 6.38e-04h  5\n",
      "  39  1.9707004e+04 0.00e+00 1.34e+03  -6.7 3.35e+00    -  1.00e+00 1.00e+00f  1\n",
      "iter    objective    inf_pr   inf_du lg(mu)  ||d||  lg(rg) alpha_du alpha_pr  ls\n",
      "  40  1.9249364e+04 0.00e+00 1.65e+03  -6.7 6.70e+00    -  9.42e-01 1.00e+00f  1\n",
      "Warning: Cutting back alpha due to evaluation error\n",
      "  41  1.8956371e+04 0.00e+00 1.50e+03  -6.7 2.73e+03    -  1.00e+00 2.81e-03f  5\n",
      "  42  1.8632909e+04 0.00e+00 1.57e+03  -6.7 4.03e+01    -  1.00e+00 1.00e+00f  1\n",
      "  43  1.8501325e+04 0.00e+00 1.48e+03  -6.7 8.80e+02    -  1.00e+00 4.67e-02f  1\n",
      "  44  1.8501324e+04 0.00e+00 1.48e+03  -6.7 1.61e+02    -  1.00e+00 5.42e-08f  1\n",
      "  45  1.8440233e+04 0.00e+00 1.49e+03  -6.7 2.62e+01    -  6.70e-02 5.00e-01f  2\n",
      "  46  1.7541036e+04 0.00e+00 7.87e+02  -6.7 3.17e+01    -  6.35e-08 1.00e+00f  1\n",
      "  47  1.7390423e+04 0.00e+00 6.69e+02  -6.7 1.28e+03    -  1.00e+00 4.43e-03f  2\n",
      "  48  1.7384895e+04 0.00e+00 6.94e+02  -6.7 2.06e+02    -  7.05e-02 6.91e-03f  3\n",
      "  49  1.7383067e+04 0.00e+00 7.97e+02  -6.7 2.39e+01    -  1.00e+00 6.73e-03f  4\n",
      "iter    objective    inf_pr   inf_du lg(mu)  ||d||  lg(rg) alpha_du alpha_pr  ls\n",
      "  50  1.7319190e+04 0.00e+00 6.46e+02  -6.7 1.31e+01    -  1.00e+00 1.57e-01f  2\n",
      "  51  1.7269771e+04 0.00e+00 3.22e+02  -6.7 8.67e+01    -  2.31e-02 1.25e-01f  4\n",
      "  52  1.7250841e+04 0.00e+00 1.23e+02  -6.7 4.39e+00    -  1.00e+00 1.00e+00f  1\n",
      "  53  1.7245658e+04 0.00e+00 1.30e+02  -6.7 5.07e+00    -  7.93e-01 1.00e+00f  1\n",
      "  54  1.7240106e+04 0.00e+00 8.99e+01  -6.7 9.19e+01    -  1.48e-01 1.25e-01f  4\n",
      "  55  1.7239945e+04 0.00e+00 1.08e+02  -6.7 1.92e+02    -  1.00e+00 1.63e-02f  4\n",
      "  56  1.7239304e+04 0.00e+00 8.28e+01  -6.7 9.91e+02    -  1.00e+00 5.53e-03f  3\n",
      "  57  1.7276621e+04 0.00e+00 4.07e+02  -6.7 2.21e+02    -  6.93e-02 6.25e-02h  5\n",
      "  58  1.7254497e+04 0.00e+00 2.37e+02  -6.7 1.53e+00    -  1.00e+00 1.00e+00f  1\n",
      "  59  1.7237004e+04 0.00e+00 1.28e+01  -6.7 6.08e-01    -  1.00e+00 1.00e+00f  1\n",
      "iter    objective    inf_pr   inf_du lg(mu)  ||d||  lg(rg) alpha_du alpha_pr  ls\n",
      "  60  1.7236813e+04 0.00e+00 2.90e+00  -6.7 3.85e-01    -  1.00e+00 1.00e+00f  1\n",
      "  61  1.7236976e+04 0.00e+00 2.69e+01  -6.7 7.92e+01    -  1.00e+00 2.30e-02h  5\n",
      "  62  1.7236973e+04 0.00e+00 2.27e+01  -6.7 4.31e+03    -  1.00e+00 3.97e-04f  5\n",
      "  63  1.7236972e+04 0.00e+00 2.38e+01  -6.7 8.18e+02    -  1.00e+00 7.83e-03f  3\n",
      "  64  1.7239703e+04 0.00e+00 9.31e+01  -6.7 8.91e+01    -  1.77e-01 6.25e-02h  5\n",
      "  65  1.7236828e+04 0.00e+00 1.51e+01  -6.7 8.29e+00    -  1.00e+00 1.00e+00f  1\n",
      "  66  1.7244156e+04 0.00e+00 1.72e+02  -6.7 1.57e+03    -  1.01e-02 6.25e-02h  5\n",
      "Warning: Cutting back alpha due to evaluation error\n",
      "Warning: Cutting back alpha due to evaluation error\n",
      "Warning: Cutting back alpha due to evaluation error\n",
      "Warning: Cutting back alpha due to evaluation error\n",
      "Warning: Cutting back alpha due to evaluation error\n",
      "  67  5.5126505e+04 0.00e+00 3.04e+03  -6.7 9.17e+05    -  1.25e-04 3.12e-02h  6\n",
      "Warning: Cutting back alpha due to evaluation error\n",
      "Warning: Cutting back alpha due to evaluation error\n",
      "Warning: Cutting back alpha due to evaluation error\n",
      "Warning: Cutting back alpha due to evaluation error\n",
      "Warning: Cutting back alpha due to evaluation error\n",
      "Warning: Cutting back alpha due to evaluation error\n",
      "Warning: Cutting back alpha due to evaluation error\n",
      "Warning: Cutting back alpha due to evaluation error\n",
      "Warning: Cutting back alpha due to evaluation error\n",
      "  68  8.0315839e+04 0.00e+00 6.32e+03  -6.7 1.50e+08    -  1.90e-04 1.95e-03h 10\n",
      "Warning: Cutting back alpha due to evaluation error\n",
      "  69  8.0216792e+04 0.00e+00 5.72e+03  -6.7 1.79e+08    -  1.00e+00 4.48e-04f  3\n",
      "Warning: Cutting back alpha due to evaluation error\n",
      "Warning: Cutting back alpha due to evaluation error\n",
      "Warning: Cutting back alpha due to evaluation error\n",
      "Warning: Cutting back alpha due to evaluation error\n",
      "Warning: Cutting back alpha due to evaluation error\n",
      "iter    objective    inf_pr   inf_du lg(mu)  ||d||  lg(rg) alpha_du alpha_pr  ls\n",
      "  70  4.5945588e+04 0.00e+00 3.76e+03  -6.7 2.41e+04  -4.0 1.00e+00 3.12e-02f  6\n",
      "Warning: Cutting back alpha due to evaluation error\n",
      "Warning: Cutting back alpha due to evaluation error\n",
      "  71  3.1341805e+04 0.00e+00 3.47e+03  -6.7 1.15e+04    -  1.00e+00 2.50e-01f  3\n",
      "  72  3.1318885e+04 0.00e+00 3.47e+03  -6.7 2.60e+08    -  1.00e+00 4.69e-04f  2\n",
      "Warning: Cutting back alpha due to evaluation error\n",
      "Warning: Cutting back alpha due to evaluation error\n",
      "Warning: Cutting back alpha due to evaluation error\n",
      "  73  3.0827461e+04 0.00e+00 3.34e+03  -6.7 9.91e+02  -4.5 9.58e-01 1.25e-01f  4\n",
      "  74  3.0754698e+04 0.00e+00 3.34e+03  -6.7 1.71e+07    -  1.00e+00 3.56e-03f  2\n",
      "  75  3.0729496e+04 0.00e+00 3.34e+03  -6.7 2.52e+07    -  1.00e+00 1.21e-03f  2\n",
      "  76  3.1251257e+04 0.00e+00 3.03e+03  -6.7 4.97e+05    -  1.00e+00 6.14e-02w  1\n",
      "Warning: Cutting back alpha due to evaluation error\n",
      "  77  3.0108721e+04 0.00e+00 3.31e+03  -6.7 3.03e+03    -  1.00e+00 3.07e-02f  1\n",
      "Warning: Cutting back alpha due to evaluation error\n",
      "Warning: Cutting back alpha due to evaluation error\n",
      "Warning: Cutting back alpha due to evaluation error\n",
      "Warning: Cutting back alpha due to evaluation error\n",
      "Warning: Cutting back alpha due to evaluation error\n",
      "Warning: Cutting back alpha due to evaluation error\n",
      "Warning: Cutting back alpha due to evaluation error\n",
      "Warning: Cutting back alpha due to evaluation error\n",
      "Warning: Cutting back alpha due to evaluation error\n",
      "Warning: Cutting back alpha due to evaluation error\n",
      "Warning: Cutting back alpha due to evaluation error\n",
      "Warning: Cutting back alpha due to evaluation error\n",
      "Warning: Cutting back alpha due to evaluation error\n",
      "  78  3.2715007e+04 0.00e+00 2.98e+03  -6.7 7.09e+04    -  3.20e-01 1.22e-04h 14\n",
      "  79  1.7649691e+04 0.00e+00 1.20e+03  -6.7 4.06e+00    -  1.00e+00 1.00e+00f  1\n",
      "iter    objective    inf_pr   inf_du lg(mu)  ||d||  lg(rg) alpha_du alpha_pr  ls\n",
      "  80  1.7287277e+04 0.00e+00 4.08e+02  -6.7 3.11e+00    -  1.00e+00 2.50e-01f  3\n",
      "  81  1.7241490e+04 0.00e+00 1.19e+02  -6.7 1.95e-01    -  1.00e+00 1.00e+00f  1\n",
      "  82  1.7237211e+04 0.00e+00 2.20e+01  -6.7 7.57e-02    -  1.00e+00 1.00e+00f  1\n",
      "  83  1.7236906e+04 0.00e+00 5.62e+00  -6.7 1.18e-02    -  1.00e+00 1.00e+00f  1\n",
      "  84  1.7236898e+04 0.00e+00 2.33e-01  -6.7 2.53e-03    -  1.00e+00 1.00e+00f  1\n",
      "  85  1.7236898e+04 0.00e+00 1.10e-02  -6.7 1.26e-04    -  1.00e+00 1.00e+00f  1\n",
      "  86  1.7236898e+04 0.00e+00 2.10e-03  -6.7 5.97e-06    -  1.00e+00 1.00e+00f  1\n",
      "  87  1.7236898e+04 0.00e+00 2.10e-03  -6.7 1.21e-06    -  1.00e+00 1.00e+00f  1\n",
      "  88  1.7236898e+04 0.00e+00 9.54e-03  -6.7 4.75e-04    -  1.00e+00 6.25e-02f  5\n",
      "  89  1.7236898e+04 0.00e+00 1.69e-02  -6.7 1.40e-04    -  1.00e+00 1.00e+00f  1\n",
      "iter    objective    inf_pr   inf_du lg(mu)  ||d||  lg(rg) alpha_du alpha_pr  ls\n",
      "  90  1.7236898e+04 0.00e+00 6.75e-02  -6.7 5.10e-03    -  1.00e+00 6.25e-02h  5\n",
      "  91  1.7236898e+04 0.00e+00 3.33e-02  -6.7 4.81e-04    -  1.00e+00 1.00e+00f  1\n",
      "  92  1.7236898e+04 0.00e+00 5.86e-02  -6.7 1.83e-03    -  1.00e+00 1.00e+00f  1\n",
      "  93  1.7236897e+04 0.00e+00 1.96e-01  -6.7 4.79e-01    -  1.00e+00 1.00e+00f  1\n",
      "  94  1.7240356e+04 0.00e+00 1.08e+02  -6.7 6.77e+04    -  1.00e+00 2.65e-03h  5\n",
      "Warning: Cutting back alpha due to evaluation error\n",
      "  95  1.9219843e+04 0.00e+00 2.81e+03  -6.7 1.44e+05    -  1.00e+00 1.17e-03h  5\n",
      "  96  1.7783665e+04 0.00e+00 1.47e+03  -6.7 5.19e+03    -  1.00e+00 4.87e-01f  1\n",
      "  97  1.7404382e+04 0.00e+00 6.53e+02  -6.7 4.14e+02    -  1.30e-06 1.00e+00f  1\n",
      "  98  1.7370983e+04 0.00e+00 4.96e+02  -6.7 2.11e+06    -  1.00e+00 2.40e-03f  5\n",
      "Warning: Cutting back alpha due to evaluation error\n",
      "Warning: Cutting back alpha due to evaluation error\n",
      "Warning: Cutting back alpha due to evaluation error\n",
      "Warning: Cutting back alpha due to evaluation error\n",
      "Warning: Cutting back alpha due to evaluation error\n",
      "  99  3.0122210e+04 0.00e+00 3.15e+03  -6.7 3.55e+06    -  4.17e-03 3.12e-02h  6\n",
      "iter    objective    inf_pr   inf_du lg(mu)  ||d||  lg(rg) alpha_du alpha_pr  ls\n",
      " 100  1.7962162e+04 0.00e+00 1.07e+03  -6.7 7.85e+03  -5.0 1.00e+00 1.00e+00f  1\n",
      " 101  1.7508751e+04 0.00e+00 8.82e+02  -6.7 1.62e+10    -  1.00e+00 9.86e-08f  5\n",
      " 102  1.7465585e+04 0.00e+00 9.01e+02  -6.7 2.35e+09    -  1.00e+00 1.33e-05f  3\n",
      " 103  1.7438186e+04 0.00e+00 8.84e+02  -6.7 1.29e+04    -  8.79e-01 5.00e-01f  2\n",
      " 104  1.7237603e+04 0.00e+00 2.81e+01  -6.7 8.38e+03    -  9.25e-01 1.00e+00f  1\n",
      "Warning: Cutting back alpha due to evaluation error\n",
      "Warning: Cutting back alpha due to evaluation error\n",
      "Warning: Cutting back alpha due to evaluation error\n",
      "Warning: Cutting back alpha due to evaluation error\n",
      "Warning: Cutting back alpha due to evaluation error\n",
      "Warning: Cutting back alpha due to evaluation error\n",
      "Warning: Cutting back alpha due to evaluation error\n",
      " 105  2.2974776e+06 0.00e+00 7.80e+03  -6.7 7.05e+10    -  1.57e-06 7.81e-03h  8\n",
      " 106  7.0960542e+04 0.00e+00 8.03e+03  -6.7 5.35e+08    -  1.00e+00 1.00e+00f  1\n",
      " 107  2.1164562e+04 0.00e+00 1.31e+04  -6.7 5.57e+08    -  1.13e-01 2.80e-02f  1\n",
      "Warning: Cutting back alpha due to evaluation error\n",
      "Warning: Cutting back alpha due to evaluation error\n",
      "Warning: Cutting back alpha due to evaluation error\n",
      "Warning: Cutting back alpha due to evaluation error\n",
      "Warning: Cutting back alpha due to evaluation error\n",
      "Warning: Cutting back alpha due to evaluation error\n",
      "Warning: Cutting back alpha due to evaluation error\n",
      "Warning: Cutting back alpha due to evaluation error\n",
      "Warning: Cutting back alpha due to evaluation error\n",
      "Warning: Cutting back alpha due to evaluation error\n",
      "Warning: Cutting back alpha due to evaluation error\n",
      "Warning: Cutting back alpha due to evaluation error\n",
      "Warning: Cutting back alpha due to evaluation error\n",
      "Warning: Cutting back alpha due to evaluation error\n",
      "Warning: Cutting back alpha due to evaluation error\n",
      "Warning: Cutting back alpha due to evaluation error\n",
      "Warning: Cutting back alpha due to evaluation error\n",
      "Warning: Cutting back alpha due to evaluation error\n",
      "Warning: Cutting back alpha due to evaluation error\n",
      "Warning: Cutting back alpha due to evaluation error\n",
      "Warning: Cutting back alpha due to evaluation error\n",
      "Warning: Cutting back alpha due to evaluation error\n",
      "Warning: Cutting back alpha due to evaluation error\n",
      " 108  6.8567149e+04 0.00e+00 7.93e+03  -6.7 8.49e+11    -  3.91e-12 1.19e-07h 24\n",
      "Warning: Cutting back alpha due to evaluation error\n",
      "Warning: Cutting back alpha due to evaluation error\n",
      "Warning: Cutting back alpha due to evaluation error\n",
      "Warning: Cutting back alpha due to evaluation error\n",
      "Warning: Cutting back alpha due to evaluation error\n",
      "Warning: Cutting back alpha due to evaluation error\n",
      "Warning: Cutting back alpha due to evaluation error\n",
      "Warning: Cutting back alpha due to evaluation error\n",
      "Warning: Cutting back alpha due to evaluation error\n",
      "Warning: Cutting back alpha due to evaluation error\n",
      "Warning: Cutting back alpha due to evaluation error\n",
      "Warning: Cutting back alpha due to evaluation error\n",
      "Warning: Cutting back alpha due to evaluation error\n",
      "Warning: Cutting back alpha due to evaluation error\n",
      "Warning: Cutting back alpha due to evaluation error\n",
      "Warning: Cutting back alpha due to evaluation error\n",
      "Warning: Cutting back alpha due to evaluation error\n",
      "Warning: Cutting back alpha due to evaluation error\n",
      "Warning: Cutting back alpha due to evaluation error\n",
      "Warning: Cutting back alpha due to evaluation error\n",
      "Warning: Cutting back alpha due to evaluation error\n",
      "Warning: Cutting back alpha due to evaluation error\n",
      "Warning: Cutting back alpha due to evaluation error\n",
      "Warning: Cutting back alpha due to evaluation error\n",
      " 109  6.2412796e+04 0.00e+00 6.42e+03  -6.7 3.06e+11    -  3.32e-07 5.96e-08f 25\n",
      "Warning: Cutting back alpha due to evaluation error\n",
      "iter    objective    inf_pr   inf_du lg(mu)  ||d||  lg(rg) alpha_du alpha_pr  ls\n",
      " 110  6.2357169e+04 0.00e+00 5.98e+03  -6.7 1.04e+11    -  1.00e+00 5.76e-07f  2\n",
      " 111  6.0644494e+04 0.00e+00 6.18e+03  -6.7 1.43e+08    -  1.00e+00 4.18e-04f  1\n",
      "Warning: Cutting back alpha due to evaluation error\n",
      " 112  5.0204573e+04 0.00e+00 3.68e+03  -6.7 3.63e+06    -  8.41e-09 1.42e-02f  2\n",
      "Warning: Cutting back alpha due to evaluation error\n",
      "Warning: Cutting back alpha due to evaluation error\n",
      "Warning: Cutting back alpha due to evaluation error\n",
      "Warning: Cutting back alpha due to evaluation error\n",
      "Warning: Cutting back alpha due to evaluation error\n",
      "Warning: Cutting back alpha due to evaluation error\n",
      "Warning: Cutting back alpha due to evaluation error\n",
      "Warning: Cutting back alpha due to evaluation error\n",
      "Warning: Cutting back alpha due to evaluation error\n",
      "Warning: Cutting back alpha due to evaluation error\n",
      "Warning: Cutting back alpha due to evaluation error\n",
      "Warning: Cutting back alpha due to evaluation error\n",
      "Warning: Cutting back alpha due to evaluation error\n",
      "Warning: Cutting back alpha due to evaluation error\n",
      "Warning: Cutting back alpha due to evaluation error\n",
      " 113  5.1501681e+04 0.00e+00 2.55e+03  -6.7 3.04e+10    -  7.06e-07 3.05e-05h 16\n",
      "Warning: Cutting back alpha due to evaluation error\n",
      "Warning: Cutting back alpha due to evaluation error\n",
      "Warning: Cutting back alpha due to evaluation error\n",
      "Warning: Cutting back alpha due to evaluation error\n",
      "Warning: Cutting back alpha due to evaluation error\n",
      "Warning: Cutting back alpha due to evaluation error\n",
      "Warning: Cutting back alpha due to evaluation error\n",
      "Warning: Cutting back alpha due to evaluation error\n",
      "Warning: Cutting back alpha due to evaluation error\n",
      "Warning: Cutting back alpha due to evaluation error\n",
      "Warning: Cutting back alpha due to evaluation error\n",
      "Warning: Cutting back alpha due to evaluation error\n",
      "Warning: Cutting back alpha due to evaluation error\n",
      " 114  5.1595870e+04 0.00e+00 2.69e+03  -6.7 6.05e+08    -  1.18e-04 1.22e-04h 14\n",
      " 115  2.2828531e+04 0.00e+00 2.02e+03  -6.7 1.78e+03  -5.4 1.00e+00 1.00e+00f  1\n",
      "Warning: Cutting back alpha due to evaluation error\n",
      "Warning: Cutting back alpha due to evaluation error\n",
      "Warning: Cutting back alpha due to evaluation error\n",
      "Warning: Cutting back alpha due to evaluation error\n",
      "Warning: Cutting back alpha due to evaluation error\n",
      "Warning: Cutting back alpha due to evaluation error\n",
      "Warning: Cutting back alpha due to evaluation error\n",
      "Warning: Cutting back alpha due to evaluation error\n",
      "Warning: Cutting back alpha due to evaluation error\n",
      "Warning: Cutting back alpha due to evaluation error\n",
      "Warning: Cutting back alpha due to evaluation error\n",
      "Warning: Cutting back alpha due to evaluation error\n",
      "Warning: Cutting back alpha due to evaluation error\n",
      " 116  3.1313520e+04 0.00e+00 3.76e+03  -6.7 1.33e+10    -  1.13e-05 1.22e-04h 14\n",
      "Warning: Cutting back alpha due to evaluation error\n",
      "Warning: Cutting back alpha due to evaluation error\n",
      "Warning: Cutting back alpha due to evaluation error\n",
      " 117  3.1555699e+04 0.00e+00 2.90e+03  -6.7 4.62e+03  -5.9 1.00e+00 6.25e-02h  5\n",
      " 118  3.1287152e+04 0.00e+00 2.83e+03  -6.7 6.00e+07    -  2.27e-02 5.92e-03f  5\n",
      "Warning: Cutting back alpha due to evaluation error\n",
      "Warning: Cutting back alpha due to evaluation error\n",
      "Warning: Cutting back alpha due to evaluation error\n",
      "Warning: Cutting back alpha due to evaluation error\n",
      "Warning: Cutting back alpha due to evaluation error\n",
      "Warning: Cutting back alpha due to evaluation error\n",
      "Warning: Cutting back alpha due to evaluation error\n",
      " 119  2.9002270e+04 0.00e+00 2.90e+03  -6.7 2.11e+05  -6.4 1.00e+00 7.81e-03f  8\n",
      "iter    objective    inf_pr   inf_du lg(mu)  ||d||  lg(rg) alpha_du alpha_pr  ls\n",
      " 120  2.8720791e+04 0.00e+00 2.82e+03  -6.7 5.72e+08    -  1.00e+00 4.35e-03f  1\n",
      "Warning: Cutting back alpha due to evaluation error\n",
      "Warning: Cutting back alpha due to evaluation error\n",
      "Warning: Cutting back alpha due to evaluation error\n",
      "Warning: Cutting back alpha due to evaluation error\n",
      "Warning: Cutting back alpha due to evaluation error\n",
      "Warning: Cutting back alpha due to evaluation error\n",
      "Warning: Cutting back alpha due to evaluation error\n",
      "Warning: Cutting back alpha due to evaluation error\n",
      "Warning: Cutting back alpha due to evaluation error\n",
      "Warning: Cutting back alpha due to evaluation error\n",
      "Warning: Cutting back alpha due to evaluation error\n",
      "Warning: Cutting back alpha due to evaluation error\n",
      "Warning: Cutting back alpha due to evaluation error\n",
      "Warning: Cutting back alpha due to evaluation error\n",
      "Warning: Cutting back alpha due to evaluation error\n",
      "Warning: Cutting back alpha due to evaluation error\n",
      "Warning: Cutting back alpha due to evaluation error\n",
      "Warning: Cutting back alpha due to evaluation error\n",
      " 121  2.5731189e+04 0.00e+00 3.18e+03  -6.7 3.43e+11    -  2.20e-08 3.81e-06f 19\n",
      " 122  2.5731109e+04 0.00e+00 3.18e+03  -6.7 1.96e+12    -  1.00e+00 9.69e-11f  1\n",
      " 123  1.7972291e+04 0.00e+00 1.52e+03  -6.7 3.03e+05    -  1.09e-04 1.00e+00f  1\n",
      "Warning: Cutting back alpha due to evaluation error\n",
      "Warning: Cutting back alpha due to evaluation error\n",
      "Warning: Cutting back alpha due to evaluation error\n",
      "Warning: Cutting back alpha due to evaluation error\n",
      "Warning: Cutting back alpha due to evaluation error\n",
      "Warning: Cutting back alpha due to evaluation error\n",
      "Warning: Cutting back alpha due to evaluation error\n",
      "Warning: Cutting back alpha due to evaluation error\n",
      "Warning: Cutting back alpha due to evaluation error\n",
      " 124  6.9446715e+04 0.00e+00 7.92e+03  -6.7 2.02e+11    -  2.36e-11 2.94e-05h 10\n",
      "Warning: Cutting back alpha due to evaluation error\n",
      "Warning: Cutting back alpha due to evaluation error\n",
      " 125  5.3594201e+04 0.00e+00 5.28e+03  -6.7 1.33e+08    -  2.36e-02 2.50e-01f  3\n",
      " 126  4.2962925e+04 0.00e+00 6.53e+03  -6.7 2.34e+04  -6.9 1.00e+00 5.00e-01f  2\n",
      " 127  4.2530085e+04 0.00e+00 3.89e+03  -6.7 7.37e+10    -  1.60e-03 4.96e-04f  1\n",
      " 128  3.8399532e+04 0.00e+00 4.08e+03  -6.7 1.60e+05  -7.3 1.00e+00 4.87e-05f  1\n",
      "Warning: Cutting back alpha due to evaluation error\n",
      "Warning: Cutting back alpha due to evaluation error\n",
      "Warning: Cutting back alpha due to evaluation error\n",
      "Warning: Cutting back alpha due to evaluation error\n",
      "Warning: Cutting back alpha due to evaluation error\n",
      "Warning: Cutting back alpha due to evaluation error\n",
      "Warning: Cutting back alpha due to evaluation error\n",
      "Warning: Cutting back alpha due to evaluation error\n",
      "Warning: Cutting back alpha due to evaluation error\n",
      "Warning: Cutting back alpha due to evaluation error\n",
      "Warning: Cutting back alpha due to evaluation error\n",
      " 129  3.4397418e+04 0.00e+00 3.78e+03  -6.7 1.51e+04  -7.8 1.00e+00 4.88e-04f 12\n",
      "iter    objective    inf_pr   inf_du lg(mu)  ||d||  lg(rg) alpha_du alpha_pr  ls\n",
      " 130  2.4864367e+04 0.00e+00 7.38e+03  -6.7 1.75e+05    -  3.14e-02 1.00e+00f  1\n",
      " 131  2.0764769e+04 0.00e+00 2.12e+03  -6.7 2.62e+13    -  1.56e-09 7.90e-07f  1\n",
      "Warning: Cutting back alpha due to evaluation error\n",
      "Warning: Cutting back alpha due to evaluation error\n",
      "Warning: Cutting back alpha due to evaluation error\n",
      "Warning: Cutting back alpha due to evaluation error\n",
      "Warning: Cutting back alpha due to evaluation error\n",
      "Warning: Cutting back alpha due to evaluation error\n",
      "Warning: Cutting back alpha due to evaluation error\n",
      "Warning: Cutting back alpha due to evaluation error\n",
      "Warning: Cutting back alpha due to evaluation error\n",
      "Warning: Cutting back alpha due to evaluation error\n",
      "Warning: Cutting back alpha due to evaluation error\n",
      "Warning: Cutting back alpha due to evaluation error\n",
      "Warning: Cutting back alpha due to evaluation error\n",
      "Warning: Cutting back alpha due to evaluation error\n",
      "Warning: Cutting back alpha due to evaluation error\n",
      " 132  3.9764186e+04 0.00e+00 3.56e+03  -6.7 4.33e+07  -7.4 1.94e-07 3.05e-05h 16\n",
      "Warning: Cutting back alpha due to evaluation error\n",
      "Warning: Cutting back alpha due to evaluation error\n",
      "Warning: Cutting back alpha due to evaluation error\n",
      "Warning: Cutting back alpha due to evaluation error\n",
      "Warning: Cutting back alpha due to evaluation error\n",
      "Warning: Cutting back alpha due to evaluation error\n",
      "Warning: Cutting back alpha due to evaluation error\n",
      "Warning: Cutting back alpha due to evaluation error\n",
      "Warning: Cutting back alpha due to evaluation error\n",
      "Warning: Cutting back alpha due to evaluation error\n",
      "Warning: Cutting back alpha due to evaluation error\n",
      "Warning: Cutting back alpha due to evaluation error\n",
      "Warning: Cutting back alpha due to evaluation error\n",
      "Warning: Cutting back alpha due to evaluation error\n",
      "Warning: Cutting back alpha due to evaluation error\n",
      "Warning: Cutting back alpha due to evaluation error\n",
      "Warning: Cutting back alpha due to evaluation error\n",
      "Warning: Cutting back alpha due to evaluation error\n",
      "Warning: Cutting back alpha due to evaluation error\n",
      "Warning: Cutting back alpha due to evaluation error\n",
      "Warning: Cutting back alpha due to evaluation error\n",
      "Warning: Cutting back alpha due to evaluation error\n",
      "Warning: Cutting back alpha due to evaluation error\n",
      "Warning: Cutting back alpha due to evaluation error\n",
      " 133  4.0257585e+04 0.00e+00 4.07e+03  -6.7 8.45e+11    -  7.58e-10 5.96e-08h 25\n",
      "Warning: Cutting back alpha due to evaluation error\n",
      " 134  3.8212389e+04 0.00e+00 2.79e+03  -6.7 3.07e+10    -  1.00e+00 8.31e-07f  2\n",
      "Warning: Cutting back alpha due to evaluation error\n",
      "Warning: Cutting back alpha due to evaluation error\n",
      "Warning: Cutting back alpha due to evaluation error\n",
      "Warning: Cutting back alpha due to evaluation error\n",
      "Warning: Cutting back alpha due to evaluation error\n",
      "Warning: Cutting back alpha due to evaluation error\n",
      "Warning: Cutting back alpha due to evaluation error\n",
      "Warning: Cutting back alpha due to evaluation error\n",
      " 135  5.2736917e+04 0.00e+00 3.39e+03  -6.7 9.53e+08    -  2.68e-05 4.33e-07h  9\n",
      " 136  2.1977200e+04 0.00e+00 2.76e+03  -6.7 1.33e+04    -  1.00e+00 1.00e+00f  1\n",
      "Warning: Cutting back alpha due to evaluation error\n",
      "Warning: Cutting back alpha due to evaluation error\n",
      "Warning: Cutting back alpha due to evaluation error\n",
      "Warning: Cutting back alpha due to evaluation error\n",
      "Warning: Cutting back alpha due to evaluation error\n",
      "Warning: Cutting back alpha due to evaluation error\n",
      "Warning: Cutting back alpha due to evaluation error\n",
      "Warning: Cutting back alpha due to evaluation error\n",
      "Warning: Cutting back alpha due to evaluation error\n",
      "Warning: Cutting back alpha due to evaluation error\n",
      "Warning: Cutting back alpha due to evaluation error\n",
      "Warning: Cutting back alpha due to evaluation error\n",
      "Warning: Cutting back alpha due to evaluation error\n",
      "Warning: Cutting back alpha due to evaluation error\n",
      "Warning: Cutting back alpha due to evaluation error\n",
      "Warning: Cutting back alpha due to evaluation error\n",
      "Warning: Cutting back alpha due to evaluation error\n",
      "Warning: Cutting back alpha due to evaluation error\n",
      " 137  3.3855056e+04 0.00e+00 5.48e+03  -6.7 2.87e+10    -  4.40e-07 3.81e-06h 19\n",
      " 138  2.0333776e+04 0.00e+00 2.40e+03  -6.7 3.99e+04    -  1.00e+00 1.00e+00f  1\n",
      " 139  2.0296153e+04 0.00e+00 2.39e+03  -6.7 4.11e+06    -  1.00e+00 2.05e-03f  1\n",
      "iter    objective    inf_pr   inf_du lg(mu)  ||d||  lg(rg) alpha_du alpha_pr  ls\n",
      " 140  2.0296139e+04 0.00e+00 2.39e+03  -6.7 7.38e+06    -  1.03e-02 7.29e-07f  1\n",
      "Warning: Cutting back alpha due to evaluation error\n",
      "Warning: Cutting back alpha due to evaluation error\n",
      "Warning: Cutting back alpha due to evaluation error\n",
      "Warning: Cutting back alpha due to evaluation error\n",
      "Warning: Cutting back alpha due to evaluation error\n",
      "Warning: Cutting back alpha due to evaluation error\n",
      "Warning: Cutting back alpha due to evaluation error\n",
      "Warning: Cutting back alpha due to evaluation error\n",
      "Warning: Cutting back alpha due to evaluation error\n",
      "Warning: Cutting back alpha due to evaluation error\n",
      "Warning: Cutting back alpha due to evaluation error\n",
      "Warning: Cutting back alpha due to evaluation error\n",
      "Warning: Cutting back alpha due to evaluation error\n",
      "Warning: Cutting back alpha due to evaluation error\n",
      "Warning: Cutting back alpha due to evaluation error\n",
      "Warning: Cutting back alpha due to evaluation error\n",
      "Warning: Cutting back alpha due to evaluation error\n",
      " 141  4.4733070e+04 0.00e+00 2.92e+03  -6.7 5.80e+11    -  1.36e-07 7.63e-06h 18\n",
      " 142  3.4680227e+04 0.00e+00 3.43e+03  -6.7 1.30e+07    -  1.00e+00 3.46e-01f  1\n",
      "Warning: Cutting back alpha due to evaluation error\n",
      "Warning: Cutting back alpha due to evaluation error\n",
      "Warning: Cutting back alpha due to evaluation error\n",
      "Warning: Cutting back alpha due to evaluation error\n",
      "Warning: Cutting back alpha due to evaluation error\n",
      "Warning: Cutting back alpha due to evaluation error\n",
      "Warning: Cutting back alpha due to evaluation error\n",
      "Warning: Cutting back alpha due to evaluation error\n",
      "Warning: Cutting back alpha due to evaluation error\n",
      "Warning: Cutting back alpha due to evaluation error\n",
      "Warning: Cutting back alpha due to evaluation error\n",
      "Warning: Cutting back alpha due to evaluation error\n",
      " 143  2.9865386e+04 0.00e+00 3.87e+03  -6.7 4.63e+06    -  7.50e-06 2.00e-05f 13\n",
      "Warning: Cutting back alpha due to evaluation error\n",
      "Warning: Cutting back alpha due to evaluation error\n",
      "Warning: Cutting back alpha due to evaluation error\n",
      "Warning: Cutting back alpha due to evaluation error\n",
      "Warning: Cutting back alpha due to evaluation error\n",
      "Warning: Cutting back alpha due to evaluation error\n",
      "Warning: Cutting back alpha due to evaluation error\n",
      "Warning: Cutting back alpha due to evaluation error\n",
      "Warning: Cutting back alpha due to evaluation error\n",
      "Warning: Cutting back alpha due to evaluation error\n",
      "Warning: Cutting back alpha due to evaluation error\n",
      "Warning: Cutting back alpha due to evaluation error\n",
      " 144  4.6487186e+04 0.00e+00 3.31e+03  -6.7 3.11e+05    -  8.23e-04 2.44e-04h 13\n",
      " 145  4.6028922e+04 0.00e+00 3.89e+03  -6.7 2.56e+06    -  2.51e-10 6.62e-05f  1\n",
      "Warning: Cutting back alpha due to evaluation error\n",
      "Warning: Cutting back alpha due to evaluation error\n",
      "Warning: Cutting back alpha due to evaluation error\n",
      " 146  4.4697066e+04 0.00e+00 4.97e+03  -6.7 1.53e+02    -  1.00e+00 5.01e-02f  5\n",
      "Warning: Cutting back alpha due to evaluation error\n",
      " 147  4.2741219e+04 0.00e+00 3.75e+03  -6.7 3.29e+01    -  2.57e-01 5.00e-01f  2\n",
      " 148  3.0262333e+04 0.00e+00 2.67e+03  -6.7 3.15e+01    -  1.00e+00 1.00e+00f  1\n",
      "Warning: Cutting back alpha due to evaluation error\n",
      "Warning: Cutting back alpha due to evaluation error\n",
      " 149  2.7115535e+04 0.00e+00 2.83e+03  -6.7 2.89e+01    -  1.00e+00 1.25e-01f  4\n",
      "iter    objective    inf_pr   inf_du lg(mu)  ||d||  lg(rg) alpha_du alpha_pr  ls\n",
      " 150  2.2486281e+04 0.00e+00 2.49e+03  -6.7 2.35e+01    -  1.00e+00 1.00e+00f  1\n",
      " 151  2.1847177e+04 0.00e+00 2.02e+03  -6.7 2.06e+01    -  1.00e+00 1.00e+00f  1\n",
      " 152  1.9855323e+04 0.00e+00 1.86e+03  -6.7 1.40e+01    -  1.00e+00 1.00e+00f  1\n",
      " 153  1.9259206e+04 0.00e+00 8.61e+02  -6.7 1.85e+00    -  1.00e+00 1.00e+00f  1\n",
      " 154  1.8966611e+04 0.00e+00 5.65e+02  -6.7 3.20e+00    -  1.00e+00 1.00e+00f  1\n",
      " 155  1.8870242e+04 0.00e+00 6.10e+02  -6.7 9.02e-01    -  1.00e+00 1.00e+00f  1\n",
      " 156  1.8849789e+04 0.00e+00 4.13e+02  -6.7 1.23e+00    -  1.00e+00 2.50e-01f  3\n",
      " 157  1.8823878e+04 0.00e+00 3.46e+02  -6.7 7.10e-02    -  1.00e+00 1.00e+00f  1\n",
      " 158  1.8813816e+04 0.00e+00 1.32e+02  -6.7 9.89e-01    -  1.00e+00 5.00e-01f  2\n",
      " 159  1.8771198e+04 0.00e+00 7.32e+01  -6.7 1.41e+00    -  1.00e+00 1.00e+00f  1\n",
      "iter    objective    inf_pr   inf_du lg(mu)  ||d||  lg(rg) alpha_du alpha_pr  ls\n",
      " 160  1.8114002e+04 0.00e+00 2.57e+02  -6.7 1.44e+01    -  1.00e+00 1.00e+00f  1\n",
      " 161  1.7762586e+04 0.00e+00 1.33e+03  -6.7 5.55e+02    -  1.00e+00 1.08e-01f  1\n",
      " 162  1.7762586e+04 0.00e+00 1.33e+03  -6.7 4.60e+02    -  1.38e-01 2.78e-08f  1\n",
      " 163  1.7515983e+04 0.00e+00 8.46e+02  -6.7 7.29e+00    -  2.18e-03 1.00e+00f  1\n",
      " 164  1.7465318e+04 0.00e+00 9.05e+02  -6.7 1.50e+01    -  1.29e-07 5.00e-01f  2\n",
      " 165  1.7410434e+04 0.00e+00 5.20e+02  -6.7 2.85e+02    -  1.00e+00 1.80e-02f  4\n",
      "Warning: Cutting back alpha due to evaluation error\n",
      " 166  1.7901851e+04 0.00e+00 1.28e+03  -6.7 8.56e+02    -  4.14e-02 1.18e-02h  5\n",
      " 167  1.7242426e+04 0.00e+00 1.18e+02  -6.7 3.31e+00    -  1.00e+00 1.00e+00f  1\n",
      " 168  1.7237793e+04 0.00e+00 6.57e+01  -6.7 2.15e+00    -  1.00e+00 1.00e+00f  1\n",
      " 169  1.7237048e+04 0.00e+00 2.85e+01  -6.7 5.24e+00    -  1.00e+00 1.00e+00f  1\n",
      "Warning: Cutting back alpha due to evaluation error\n",
      "iter    objective    inf_pr   inf_du lg(mu)  ||d||  lg(rg) alpha_du alpha_pr  ls\n",
      " 170  1.7676902e+04 0.00e+00 1.27e+03  -6.7 3.18e+02    -  1.77e-01 6.25e-02h  5\n",
      " 171  1.7456799e+04 0.00e+00 7.47e+02  -6.7 5.55e+01    -  8.72e-01 1.00e+00f  1\n",
      "Warning: Cutting back alpha due to evaluation error\n",
      "Warning: Cutting back alpha due to evaluation error\n",
      " 172  2.1619271e+04 0.00e+00 3.82e+03  -6.7 1.24e+04    -  1.00e+00 3.20e-03h  5\n",
      " 173  1.8324348e+04 0.00e+00 1.41e+03  -6.7 1.85e+02    -  1.00e+00 6.44e-01f  1\n",
      "Warning: Cutting back alpha due to evaluation error\n",
      "Warning: Cutting back alpha due to evaluation error\n",
      " 174  2.5919797e+04 0.00e+00 4.80e+03  -6.7 1.56e+03    -  8.27e-08 6.25e-02h  5\n",
      " 175  2.5098750e+04 0.00e+00 3.10e+03  -6.7 1.96e+04    -  1.00e+00 5.17e-03f  1\n",
      "Warning: Cutting back alpha due to evaluation error\n",
      " 176  2.4870196e+04 0.00e+00 2.45e+03  -6.7 1.43e+02    -  1.51e-07 6.25e-02f  5\n",
      "Warning: Cutting back alpha due to evaluation error\n",
      "Warning: Cutting back alpha due to evaluation error\n",
      " 177  2.1155494e+04 0.00e+00 2.63e+03  -6.7 9.98e+01    -  2.26e-01 1.25e-01f  4\n",
      " 178  2.0031461e+04 0.00e+00 1.91e+03  -6.7 1.35e+01    -  1.00e+00 2.50e-01f  3\n",
      " 179  1.9254736e+04 0.00e+00 1.52e+03  -6.7 6.17e+00    -  1.00e+00 5.00e-01f  2\n",
      "iter    objective    inf_pr   inf_du lg(mu)  ||d||  lg(rg) alpha_du alpha_pr  ls\n",
      " 180  1.8511789e+04 0.00e+00 7.15e+02  -6.7 3.61e+00    -  1.00e+00 1.00e+00f  1\n",
      " 181  1.8297164e+04 0.00e+00 6.72e+02  -6.7 1.20e+01    -  1.00e+00 5.00e-01f  2\n",
      " 182  1.7599578e+04 0.00e+00 3.86e+02  -6.7 1.64e+01    -  1.00e+00 1.00e+00f  1\n",
      " 183  1.7430338e+04 0.00e+00 5.82e+02  -6.7 1.54e+03    -  1.00e+00 1.10e-02f  1\n",
      " 184  1.7278735e+04 0.00e+00 3.09e+02  -6.7 1.13e+01    -  4.10e-07 2.50e-01f  3\n",
      " 185  1.7304602e+04 0.00e+00 3.32e+02  -6.7 7.16e+01    -  4.68e-01 6.25e-02h  5\n",
      " 186  1.7240954e+04 0.00e+00 5.51e+01  -6.7 1.96e+00    -  1.00e+00 1.00e+00f  1\n",
      " 187  1.7240806e+04 0.00e+00 1.30e+02  -6.7 1.40e+01    -  1.00e+00 4.25e-02f  4\n",
      " 188  1.7242120e+04 0.00e+00 1.42e+02  -6.7 4.83e+01    -  1.00e+00 2.29e-02h  5\n",
      " 189  1.7241784e+04 0.00e+00 9.57e+01  -6.7 7.62e+00    -  9.13e-01 1.00e+00f  1\n",
      "iter    objective    inf_pr   inf_du lg(mu)  ||d||  lg(rg) alpha_du alpha_pr  ls\n",
      " 190  1.7240474e+04 0.00e+00 1.27e+02  -6.7 1.47e+02    -  1.00e+00 5.21e-02f  3\n",
      " 191  1.7237530e+04 0.00e+00 3.74e+01  -6.7 1.27e+01    -  7.38e-01 1.00e+00f  1\n",
      " 192  1.7237244e+04 0.00e+00 4.18e+01  -6.7 4.41e+03    -  1.00e+00 3.80e-03f  2\n",
      " 193  1.7237257e+04 0.00e+00 4.42e+01  -6.7 3.04e+04    -  1.00e+00 3.86e-05h  5\n",
      " 194  1.7237257e+04 0.00e+00 4.63e+01  -6.7 2.20e+02    -  7.41e-02 6.25e-02h  5\n",
      " 195  1.7236984e+04 0.00e+00 2.84e+01  -6.7 3.00e+03    -  1.00e+00 6.52e-04f  5\n",
      " 196  1.7236744e+04 0.00e+00 3.32e+00  -6.7 6.67e+00    -  8.06e-01 1.00e+00f  1\n",
      " 197  1.7236744e+04 0.00e+00 2.20e+00 -11.0 7.78e+04    -  1.00e+00 2.29e-04f  2\n",
      " 198  1.7236753e+04 0.00e+00 7.35e+00  -9.9 4.27e+02    -  4.05e-02 6.25e-02h  5\n",
      " 199  1.7271030e+04 0.00e+00 2.61e+02  -5.5 3.25e+04    -  1.38e-03 6.25e-02h  5\n",
      "Warning: Cutting back alpha due to evaluation error\n",
      "Warning: Cutting back alpha due to evaluation error\n",
      "Warning: Cutting back alpha due to evaluation error\n",
      "Warning: Cutting back alpha due to evaluation error\n",
      "Warning: Cutting back alpha due to evaluation error\n",
      "Warning: Cutting back alpha due to evaluation error\n",
      "Warning: Cutting back alpha due to evaluation error\n",
      "iter    objective    inf_pr   inf_du lg(mu)  ||d||  lg(rg) alpha_du alpha_pr  ls\n",
      " 200  5.5436447e+04 0.00e+00 4.79e+03  -5.5 1.09e+08    -  1.92e-05 7.81e-03h  8\n",
      "Warning: Cutting back alpha due to evaluation error\n",
      "Warning: Cutting back alpha due to evaluation error\n",
      "Warning: Cutting back alpha due to evaluation error\n",
      "Warning: Cutting back alpha due to evaluation error\n",
      "Warning: Cutting back alpha due to evaluation error\n",
      "Warning: Cutting back alpha due to evaluation error\n",
      "Warning: Cutting back alpha due to evaluation error\n",
      "Warning: Cutting back alpha due to evaluation error\n",
      "Warning: Cutting back alpha due to evaluation error\n",
      "Warning: Cutting back alpha due to evaluation error\n",
      " 201  5.6446122e+04 0.00e+00 4.35e+03  -5.5 9.79e+08    -  1.01e-03 9.77e-04h 11\n",
      "Warning: Cutting back alpha due to evaluation error\n",
      "Warning: Cutting back alpha due to evaluation error\n",
      "Warning: Cutting back alpha due to evaluation error\n",
      "Warning: Cutting back alpha due to evaluation error\n",
      " 202  3.5512652e+04 0.00e+00 4.40e+03  -5.5 2.32e+06  -7.9 1.00e+00 4.83e-02f  5\n",
      " 203  2.1273961e+04 0.00e+00 2.15e+03  -5.5 1.93e+04  -8.3 1.00e+00 1.00e+00f  1\n",
      "Warning: Cutting back alpha due to evaluation error\n",
      "Warning: Cutting back alpha due to evaluation error\n",
      "Warning: Cutting back alpha due to evaluation error\n",
      "Warning: Cutting back alpha due to evaluation error\n",
      "Warning: Cutting back alpha due to evaluation error\n",
      "Warning: Cutting back alpha due to evaluation error\n",
      "Warning: Cutting back alpha due to evaluation error\n",
      "Warning: Cutting back alpha due to evaluation error\n",
      "Warning: Cutting back alpha due to evaluation error\n",
      "Warning: Cutting back alpha due to evaluation error\n",
      "Warning: Cutting back alpha due to evaluation error\n",
      " 204  4.8991665e+04 0.00e+00 3.88e+03  -5.5 5.69e+10    -  2.95e-05 4.88e-04h 12\n",
      "Warning: Cutting back alpha due to evaluation error\n",
      "Warning: Cutting back alpha due to evaluation error\n",
      "Warning: Cutting back alpha due to evaluation error\n",
      "Warning: Cutting back alpha due to evaluation error\n",
      "Warning: Cutting back alpha due to evaluation error\n",
      " 205  5.1302864e+04 0.00e+00 3.30e+03  -5.5 4.38e+09    -  1.34e-02 3.12e-02h  6\n",
      " 206  2.7242488e+04 0.00e+00 2.98e+03  -5.5 5.07e+05  -8.8 1.00e+00 5.00e-01f  2\n",
      " 207  2.7050177e+04 0.00e+00 2.99e+03  -5.5 5.18e+13    -  1.00e+00 1.60e-06f  2\n",
      " 208  2.4262394e+04 0.00e+00 2.78e+03  -5.5 2.09e+11    -  3.97e-04 3.33e-04f  1\n",
      " 209  2.1698403e+04 0.00e+00 2.36e+03  -5.5 4.06e+08    -  5.29e-03 1.00e+00f  1\n",
      "iter    objective    inf_pr   inf_du lg(mu)  ||d||  lg(rg) alpha_du alpha_pr  ls\n",
      " 210  2.1698260e+04 0.00e+00 2.36e+03  -5.5 3.53e+12    -  1.00e+00 1.99e-08f  1\n",
      " 211  1.7422603e+04 0.00e+00 6.56e+02  -5.5 4.85e+08    -  1.00e+00 5.00e-01f  2\n",
      "Warning: Cutting back alpha due to evaluation error\n",
      "Warning: Cutting back alpha due to evaluation error\n",
      "Warning: Cutting back alpha due to evaluation error\n",
      "Warning: Cutting back alpha due to evaluation error\n",
      "Warning: Cutting back alpha due to evaluation error\n",
      "Warning: Cutting back alpha due to evaluation error\n",
      "Warning: Cutting back alpha due to evaluation error\n",
      " 212  3.0286945e+04 0.00e+00 3.74e+03  -5.5 6.56e+02    -  1.00e+00 7.81e-03h  8\n",
      " 213  1.7552547e+04 0.00e+00 9.69e+02  -5.5 4.36e+00    -  1.00e+00 1.00e+00f  1\n",
      " 214  1.7423988e+04 0.00e+00 6.57e+02  -5.5 1.53e+00    -  1.00e+00 5.00e-01f  2\n",
      " 215  1.7321781e+04 0.00e+00 1.45e+01  -5.5 3.08e-01    -  1.00e+00 1.00e+00f  1\n",
      " 216  1.7321712e+04 0.00e+00 3.25e-01  -5.5 6.63e-03    -  1.00e+00 1.00e+00f  1\n",
      " 217  1.7321712e+04 0.00e+00 2.72e-02  -5.5 1.44e-04    -  1.00e+00 1.00e+00f  1\n",
      " 218  1.7321712e+04 0.00e+00 7.05e-04  -5.5 1.12e-05    -  1.00e+00 1.00e+00f  1\n",
      " 219  1.7321712e+04 0.00e+00 2.62e-05  -5.5 2.81e-07    -  1.00e+00 1.00e+00f  1\n",
      "iter    objective    inf_pr   inf_du lg(mu)  ||d||  lg(rg) alpha_du alpha_pr  ls\n",
      " 220  1.7321712e+04 0.00e+00 4.47e-06  -7.0 1.88e-09    -  1.00e+00 1.00e+00f  1\n",
      " 221  1.7321712e+04 0.00e+00 6.61e-06  -7.0 2.60e-08    -  1.00e+00 1.00e+00f  1\n",
      " 222  1.7321712e+04 0.00e+00 4.04e-05  -7.0 5.72e-07    -  1.00e+00 1.00e+00f  1\n",
      " 223  1.7321712e+04 0.00e+00 4.29e-04  -7.0 1.48e-04    -  1.00e+00 6.25e-02f  5\n",
      " 224  1.7321712e+04 0.00e+00 2.37e-04  -7.0 8.64e-06    -  1.00e+00 1.00e+00f  1\n",
      " 225  1.7321712e+04 0.00e+00 2.95e-04  -7.0 3.09e-05    -  1.00e+00 1.00e+00f  1\n",
      " 226  1.7321713e+04 0.00e+00 8.90e-01  -7.0 3.24e-01    -  4.89e-01 6.25e-02h  5\n",
      " 227  1.7321712e+04 0.00e+00 9.44e-04  -7.0 1.98e-02    -  1.00e+00 1.00e+00f  1\n",
      " 228  1.7321712e+04 0.00e+00 1.51e-03  -7.0 6.22e-03    -  1.00e+00 1.00e+00f  1\n",
      " 229  1.7321712e+04 0.00e+00 2.42e-03  -7.0 1.33e+00    -  1.24e-01 1.00e+00f  1\n",
      "iter    objective    inf_pr   inf_du lg(mu)  ||d||  lg(rg) alpha_du alpha_pr  ls\n",
      " 230  1.7489961e+04 0.00e+00 6.94e+02  -7.0 3.03e+06    -  5.01e-07 6.25e-02h  5\n",
      " 231  1.7254706e+04 0.00e+00 3.42e+01  -7.0 2.72e+07    -  1.00e+00 1.00e+00f  1\n",
      " 232  1.7256461e+04 0.00e+00 8.21e+01  -7.0 1.92e+03  -9.3 1.00e+00 6.25e-02h  5\n",
      "Warning: Cutting back alpha due to evaluation error\n",
      " 233  1.8077976e+04 0.00e+00 1.22e+03  -7.0 2.36e+09    -  1.16e-02 6.25e-02h  5\n",
      " 234  1.7364702e+04 0.00e+00 3.47e+02  -7.0 1.62e+10    -  1.00e+00 1.08e-02f  1\n",
      "Warning: Cutting back alpha due to evaluation error\n",
      "Warning: Cutting back alpha due to evaluation error\n",
      "Warning: Cutting back alpha due to evaluation error\n",
      " 235  2.7578805e+04 0.00e+00 3.22e+03  -7.0 1.03e+10    -  6.08e-08 6.25e-02h  5\n",
      "Warning: Cutting back alpha due to evaluation error\n",
      "Warning: Cutting back alpha due to evaluation error\n",
      "Warning: Cutting back alpha due to evaluation error\n",
      "Warning: Cutting back alpha due to evaluation error\n",
      "Warning: Cutting back alpha due to evaluation error\n",
      "Warning: Cutting back alpha due to evaluation error\n",
      "Warning: Cutting back alpha due to evaluation error\n",
      "Warning: Cutting back alpha due to evaluation error\n",
      " 236  6.8709608e+04 0.00e+00 5.96e+03  -7.0 3.22e+03    -  1.00e+00 3.91e-03h  9\n",
      " 237  3.1165730e+04 0.00e+00 3.13e+03  -7.0 7.74e+00    -  1.00e+00 1.00e+00f  1\n",
      "Warning: Cutting back alpha due to evaluation error\n",
      "Warning: Cutting back alpha due to evaluation error\n",
      " 238  1.9156461e+04 0.00e+00 1.24e+03  -7.0 2.74e+01    -  1.00e+00 1.25e-01f  4\n",
      " 239  1.8356120e+04 0.00e+00 1.27e+03  -7.0 1.61e+00    -  1.00e+00 5.00e-01f  2\n",
      "iter    objective    inf_pr   inf_du lg(mu)  ||d||  lg(rg) alpha_du alpha_pr  ls\n",
      " 240  1.8141862e+04 0.00e+00 6.89e+02  -7.0 1.18e+00    -  1.00e+00 1.00e+00f  1\n",
      " 241  1.8087122e+04 0.00e+00 4.33e+02  -7.0 4.47e-01    -  1.00e+00 1.00e+00f  1\n",
      " 242  1.8033720e+04 0.00e+00 4.54e+01  -7.0 1.71e-01    -  1.00e+00 1.00e+00f  1\n",
      " 243  1.8033247e+04 0.00e+00 1.64e+01  -7.0 2.39e-02    -  1.00e+00 1.00e+00f  1\n",
      " 244  1.8033164e+04 0.00e+00 1.83e-01  -7.0 6.31e-03    -  1.00e+00 1.00e+00f  1\n",
      " 245  1.8033164e+04 0.00e+00 3.06e-02  -7.0 1.47e-04    -  1.00e+00 1.00e+00f  1\n",
      " 246  1.8033164e+04 0.00e+00 1.99e-03  -7.0 2.21e-05    -  1.00e+00 1.00e+00f  1\n",
      " 247  1.8033164e+04 0.00e+00 1.87e-04  -7.0 8.38e-07    -  1.00e+00 1.00e+00f  1\n",
      " 248  1.8033164e+04 0.00e+00 9.34e-05  -7.0 7.07e-08    -  1.00e+00 5.00e-01f  2\n",
      " 249  1.8033164e+04 0.00e+00 2.31e-06  -7.0 3.53e-08    -  1.00e+00 1.00e+00f  1\n",
      "iter    objective    inf_pr   inf_du lg(mu)  ||d||  lg(rg) alpha_du alpha_pr  ls\n",
      " 250  1.8033164e+04 0.00e+00 2.31e-06  -7.0 8.82e-10    -  1.00e+00 1.00e+00f  1\n",
      " 251  1.8033164e+04 0.00e+00 2.31e-06  -7.0 1.32e-09    -  1.00e+00 1.00e+00f  1\n",
      " 252  1.8033164e+04 0.00e+00 2.31e-06  -7.0 1.31e-09    -  1.00e+00 1.00e+00   0\n",
      " 253  1.8033164e+04 0.00e+00 2.31e-06  -7.0 1.31e-09    -  1.00e+00 1.00e+00T  0\n",
      "\n",
      "Number of Iterations....: 253\n",
      "\n",
      "                                   (scaled)                 (unscaled)\n",
      "Objective...............:   1.8033163626812169e+04    1.8033163626812169e+04\n",
      "Dual infeasibility......:   2.3139215941211018e-06    2.3139215941211018e-06\n",
      "Constraint violation....:   0.0000000000000000e+00    0.0000000000000000e+00\n",
      "Complementarity.........:   9.0909090909090901e-08    9.0909090909090901e-08\n",
      "Overall NLP error.......:   2.3139215941211018e-06    2.3139215941211018e-06\n",
      "\n",
      "\n",
      "Number of objective function evaluations             = 1169\n",
      "Number of objective gradient evaluations             = 254\n",
      "Number of equality constraint evaluations            = 0\n",
      "Number of inequality constraint evaluations          = 0\n",
      "Number of equality constraint Jacobian evaluations   = 0\n",
      "Number of inequality constraint Jacobian evaluations = 0\n",
      "Number of Lagrangian Hessian evaluations             = 0\n",
      "Total CPU secs in IPOPT (w/o function evaluations)   =      0.618\n",
      "Total CPU secs in NLP function evaluations           =      5.570\n",
      "\n",
      "EXIT: Search Direction is becoming Too Small.\n"
     ]
    },
    {
     "name": "stderr",
     "output_type": "stream",
     "text": [
      "┌ Warning: Ipopt finished with status Search_Direction_Becomes_Too_Small\n",
      "└ @ Ipopt /Users/biona001/.julia/packages/Ipopt/QF8Lc/src/MPB_wrapper.jl:195\n",
      "┌ Warning: Optimization unsuccesful; got Error\n",
      "└ @ QuasiCopula /Users/biona001/.julia/dev/QuasiCopula/src/parameter_estimation/fit_glm_vc.jl:37\n"
     ]
    },
    {
     "name": "stdout",
     "output_type": "stream",
     "text": [
      "  7.112659 seconds (21.40 M allocations: 332.294 MiB, 0.82% gc time)\n"
     ]
    }
   ],
   "source": [
    "@time optm = QuasiCopula.fit!(qc_model,\n",
    "    Ipopt.IpoptSolver(\n",
    "        print_level = 5, \n",
    "        tol = 10^-6, \n",
    "        max_iter = 1000,\n",
    "        accept_after_max_steps = 4,\n",
    "        warm_start_init_point=\"yes\", \n",
    "        limited_memory_max_history = 6, # default value\n",
    "        hessian_approximation = \"limited-memory\",\n",
    "#         derivative_test=\"second-order\"\n",
    "    )\n",
    ");"
   ]
  },
  {
   "cell_type": "code",
   "execution_count": 15,
   "metadata": {
    "collapsed": false
   },
   "outputs": [
    {
     "name": "stdout",
     "output_type": "stream",
     "text": [
      "βtrue = [0.019926508247760877, 0.010309257172965214, 0.05956897900629837]\n",
      "qc_model.β = [0.029831153504881355, -0.017467769555873373, 0.06948914264544051]\n",
      "qc_model.∇β = [-5.88418203051333e-14, -2.1371793224034263e-13, -1.0379197501464432e-13]\n",
      "θtrue = [0.1, 0.1]\n",
      "qc_model.θ = [6.448676626715004e8, 3.1689844283122355e8]\n",
      "qc_model.∇θ = [-1.137098653399271e-6, 2.3139215938342303e-6]\n"
     ]
    }
   ],
   "source": [
    "@show βtrue\n",
    "@show qc_model.β\n",
    "@show qc_model.∇β\n",
    "\n",
    "@show θtrue\n",
    "@show qc_model.θ\n",
    "@show qc_model.∇θ;"
   ]
  },
  {
   "cell_type": "markdown",
   "metadata": {},
   "source": [
    "## Is $\\nabla_\\beta res$ calculated correctly? \n",
    "\n",
    "We can check using ForwardDiff\n",
    "\n",
    "The function is \n",
    "\n",
    "$$res_{ij}(\\beta) = \\frac{y_{ij} - \\mu_{ij}}{\\sqrt{\\sigma_{ij}^2(\\beta)}}$$\n",
    "\n",
    "### Normal\n",
    "\n",
    "Assumes y, X are given. We calculate the residuals for just 1 sample"
   ]
  },
  {
   "cell_type": "code",
   "execution_count": 2,
   "metadata": {
    "collapsed": false
   },
   "outputs": [
    {
     "name": "stdout",
     "output_type": "stream",
     "text": [
      "resβ(β) = [-1.5263015405222384, -2.6945001310537258, -1.9847678519577736, -0.900074590336336]\n"
     ]
    },
    {
     "data": {
      "text/plain": [
       "12×2 Matrix{Float64}:\n",
       " -1.0        -1.0\n",
       " -1.0        -1.0\n",
       " -1.0        -1.0\n",
       " -1.0        -1.0\n",
       "  2.07458     2.07458\n",
       " -1.94686    -1.94686\n",
       "  0.0808759   0.0808759\n",
       "  0.154606    0.154606\n",
       " -0.931964   -0.931964\n",
       " -2.26098    -2.26098\n",
       " -1.19819    -1.19819\n",
       "  0.0763038   0.0763038"
      ]
     },
     "execution_count": 2,
     "metadata": {},
     "output_type": "execute_result"
    }
   ],
   "source": [
    "# sample data\n",
    "X = qc_model.data[1].X # d by p\n",
    "y = qc_model.data[1].y # d by 1\n",
    "\n",
    "# objective\n",
    "function resβ(β)\n",
    "    η = X * β # d by 1\n",
    "    μ = GLM.linkinv.(IdentityLink(), η)\n",
    "    varμ = GLM.glmvar.(Normal(), μ)\n",
    "    return (y - μ) ./ sqrt.(varμ) # d by 1\n",
    "end\n",
    "\n",
    "# mathematical gradient\n",
    "function ∇resβ(β)\n",
    "    d, p = size(X)\n",
    "    ∇resβ = zeros(d, p)\n",
    "    for i in 1:p, j in 1:d\n",
    "        ∇resβ[j, i] = -X[j, i]\n",
    "    end\n",
    "    return ∇resβ # d × p\n",
    "end\n",
    "\n",
    "# autodiff gradient\n",
    "∇resβ_autodiff = x -> ForwardDiff.jacobian(resβ, x)\n",
    "\n",
    "# random beta vector\n",
    "β = rand(size(qc_model.data[1].X, 2))\n",
    "\n",
    "# check objective\n",
    "@show resβ(β)\n",
    "\n",
    "# compare mathematical and numerical gradient\n",
    "[vec(∇resβ(β)) vec(∇resβ_autodiff(β))]"
   ]
  },
  {
   "cell_type": "markdown",
   "metadata": {},
   "source": [
    "### Bernoulli"
   ]
  },
  {
   "cell_type": "code",
   "execution_count": 3,
   "metadata": {
    "collapsed": false
   },
   "outputs": [
    {
     "name": "stdout",
     "output_type": "stream",
     "text": [
      "resβ(β) = [1.3943163199970943, 0.24515130649692646, 0.6580775661179072, 0.6577805352369949, 0.390446316792847]\n"
     ]
    },
    {
     "data": {
      "text/plain": [
       "15×2 Matrix{Float64}:\n",
       " -0.697158   -0.697158\n",
       " -0.122576   -0.122576\n",
       " -0.329039   -0.329039\n",
       " -0.32889    -0.32889\n",
       " -0.195223   -0.195223\n",
       "  1.44631     1.44631\n",
       " -0.238638   -0.238638\n",
       "  0.0266113   0.0266113\n",
       "  0.0508486   0.0508486\n",
       " -0.181941   -0.181941\n",
       " -1.57626    -1.57626\n",
       " -0.146869   -0.146869\n",
       "  0.0251069   0.0251069\n",
       " -0.154771   -0.154771\n",
       " -0.201156   -0.201156"
      ]
     },
     "execution_count": 3,
     "metadata": {},
     "output_type": "execute_result"
    }
   ],
   "source": [
    "# sample data\n",
    "X = qc_model.data[1].X # d by p\n",
    "y = qc_model.data[1].y # d by 1\n",
    "\n",
    "# objective\n",
    "function resβ(β)\n",
    "    η = X * β # d by 1\n",
    "    μ = GLM.linkinv.(LogitLink(), η)\n",
    "    varμ = GLM.glmvar.(Bernoulli(), μ)\n",
    "    return (y - μ) ./ sqrt.(varμ) # d by 1\n",
    "end\n",
    "\n",
    "# mathematical gradient\n",
    "function ∇resβ(β)\n",
    "    d, p = size(X)\n",
    "    ∇resβ = zeros(d, p)\n",
    "    η = X * β # d by 1\n",
    "    μ = GLM.linkinv.(LogitLink(), η) # d by 1\n",
    "    varμ = GLM.glmvar.(Bernoulli(), μ) # d by 1\n",
    "    res = (y - μ) ./ sqrt.(varμ) # d by 1\n",
    "    for i in 1:p, j in 1:d\n",
    "        varμ_j = varμ[j]\n",
    "        x_ji = X[j, i]\n",
    "        res_j = res[j]\n",
    "        μ_j = μ[j]\n",
    "        ∇resβ[j, i] = -sqrt(varμ_j) * x_ji - (0.5 * res_j * (1 - 2μ_j) * x_ji)\n",
    "    end\n",
    "    return ∇resβ # d × p\n",
    "end\n",
    "\n",
    "# autodiff gradient\n",
    "∇resβ_autodiff = x -> ForwardDiff.jacobian(resβ, x)\n",
    "\n",
    "# random beta vector\n",
    "β = rand(size(qc_model.data[1].X, 2))\n",
    "\n",
    "# check objective\n",
    "@show resβ(β)\n",
    "\n",
    "# compare mathematical and numerical gradient\n",
    "[vec(∇resβ(β)) vec(∇resβ_autodiff(β))]"
   ]
  },
  {
   "cell_type": "markdown",
   "metadata": {},
   "source": [
    "### Poisson"
   ]
  },
  {
   "cell_type": "code",
   "execution_count": 61,
   "metadata": {
    "collapsed": false
   },
   "outputs": [
    {
     "name": "stdout",
     "output_type": "stream",
     "text": [
      "resβ(β) = [0.8012638765796852, -6.734952547066679, -1.3994071698413866, -0.48023808695797]\n"
     ]
    },
    {
     "data": {
      "text/plain": [
       "12×2 Matrix{Float64}:\n",
       " -1.07727    -1.07727\n",
       " -3.65238    -3.65238\n",
       " -1.22049    -1.22049\n",
       " -1.02842    -1.02842\n",
       "  2.23488     2.23488\n",
       " -7.11068    -7.11068\n",
       "  0.0987079   0.0987079\n",
       "  0.159001    0.159001\n",
       " -1.00397    -1.00397\n",
       " -8.25796    -8.25796\n",
       " -1.46237    -1.46237\n",
       "  0.0784727   0.0784727"
      ]
     },
     "execution_count": 61,
     "metadata": {},
     "output_type": "execute_result"
    }
   ],
   "source": [
    "# sample data\n",
    "X = qc_model.data[1].X # d by p\n",
    "y = qc_model.data[1].y # d by 1\n",
    "\n",
    "# objective\n",
    "function resβ(β)\n",
    "    η = X * β # d by 1\n",
    "    μ = GLM.linkinv.(LogLink(), η)\n",
    "    varμ = GLM.glmvar.(Poisson(), μ)\n",
    "    return (y - μ) ./ sqrt.(varμ) # d by 1\n",
    "end\n",
    "\n",
    "# mathematical gradient\n",
    "function ∇resβ(β)\n",
    "    d, p = size(X)\n",
    "    ∇resβ = zeros(d, p)\n",
    "    η = X * β # d by 1\n",
    "    μ = GLM.linkinv.(LogLink(), η) # d by 1\n",
    "    varμ = GLM.glmvar.(Poisson(), μ) # d by 1\n",
    "    res = (y - μ) ./ sqrt.(varμ) # d by 1\n",
    "    dμ = GLM.mueta.(LogLink(), η) # d by 1\n",
    "    for i in 1:p, j in 1:d\n",
    "        varμ_j = varμ[j]\n",
    "        x_ji = X[j, i]\n",
    "        res_j = res[j]\n",
    "        μ_j = μ[j]\n",
    "        dμ_j = dμ[j]\n",
    "        ∇resβ[j, i] = x_ji * (-(inv(sqrt(varμ_j)) + (0.5 * inv(varμ_j)) * res_j) * dμ_j)\n",
    "    end\n",
    "    return ∇resβ # d × p\n",
    "end\n",
    "\n",
    "# autodiff gradient\n",
    "∇resβ_autodiff = x -> ForwardDiff.jacobian(resβ, x)\n",
    "\n",
    "# random beta vector\n",
    "β = rand(size(qc_model.data[1].X, 2))\n",
    "\n",
    "# check objective\n",
    "@show resβ(β)\n",
    "\n",
    "# compare mathematical and numerical gradient\n",
    "[vec(∇resβ(β)) vec(∇resβ_autodiff(β))]"
   ]
  },
  {
   "cell_type": "markdown",
   "metadata": {},
   "source": [
    "## Check $\\nabla_\\beta L$"
   ]
  },
  {
   "cell_type": "code",
   "execution_count": 23,
   "metadata": {
    "collapsed": false
   },
   "outputs": [
    {
     "data": {
      "text/plain": [
       "autodiff_loglikelihood (generic function with 1 method)"
      ]
     },
     "execution_count": 23,
     "metadata": {},
     "output_type": "execute_result"
    }
   ],
   "source": [
    "function A_mul_b!(c::AbstractVector{T}, A::AbstractMatrix, b::AbstractVector) where T\n",
    "    n, p = size(A)\n",
    "    fill!(c, zero(T))\n",
    "    for j in 1:p, i in 1:n\n",
    "        c[i] += A[i, j] * b[j]\n",
    "    end\n",
    "    return c\n",
    "end\n",
    "\n",
    "function loglikelihood(\n",
    "    β::AbstractVector{T}, \n",
    "    qc_model::Union{GLMCopulaVCModel, NBCopulaVCModel}\n",
    "    ) where T\n",
    "    θ = qc_model.θ\n",
    "    # allocate vector of type T\n",
    "    n, p = size(qc_model.data[1].X)\n",
    "    η = zeros(T, n)\n",
    "    μ = zeros(T, n)\n",
    "    varμ = zeros(T, n)\n",
    "    res = zeros(T, n)\n",
    "    storage_n = zeros(T, n)\n",
    "    q = zeros(T, length(θ))\n",
    "    logl = zero(T)\n",
    "    for gc in qc_model.data\n",
    "        X = gc.X\n",
    "        y = gc.y\n",
    "        n, p = size(X)\n",
    "        # update_res! step (need to avoid BLAS)\n",
    "        A_mul_b!(η, X, β)\n",
    "        for i in 1:gc.n\n",
    "            μ[i] = GLM.linkinv(gc.link, η[i])\n",
    "            varμ[i] = GLM.glmvar(gc.d, μ[i]) # Note: for negative binomial, d.r is used\n",
    "#             dμ[i] = GLM.mueta(gc.link, η[i])\n",
    "#             w1[i] = dμ[i] / varμ[i]\n",
    "#             w2[i] = w1[i] * dμ[i]\n",
    "            res[i] = y[i] - μ[i]\n",
    "        end\n",
    "        # standardize_res! step\n",
    "        for j in eachindex(y)\n",
    "            res[j] /= sqrt(varμ[j])\n",
    "        end\n",
    "        # std_res_differential! step (this will compute ∇resβ)\n",
    "#         for i in 1:gc.p\n",
    "#             for j in 1:gc.n\n",
    "#                 ∇resβ[j, i] = -sqrt(varμ[j]) * X[j, i] - (0.5 * res[j] * (1 - (2 * μ[j])) * X[j, i])\n",
    "#             end\n",
    "#         end\n",
    "        # update Γ\n",
    "        @inbounds for k in 1:gc.m\n",
    "            A_mul_b!(storage_n, gc.V[k], res)\n",
    "            q[k] = dot(res, storage_n) / 2 # q[k] = 0.5 r' * V[k] * r (update variable b for variance component model)\n",
    "        end\n",
    "        # component_loglikelihood\n",
    "        for j in 1:gc.n\n",
    "            logl += QuasiCopula.loglik_obs(gc.d, y[j], μ[j], one(T), one(T))\n",
    "        end\n",
    "        tsum = dot(θ, gc.t)\n",
    "        logl += -log(1 + tsum)\n",
    "        qsum  = dot(θ, q) # qsum = 0.5 r'Γr\n",
    "        logl += log(1 + qsum)\n",
    "    end\n",
    "    return logl\n",
    "end\n",
    "\n",
    "function loglikelihood(\n",
    "    β::AbstractVector{T}, \n",
    "    gcm::GaussianCopulaVCModel\n",
    "    ) where T\n",
    "    θ = gcm.θ\n",
    "    τ = gcm.τ[1]\n",
    "    # allocate vector of type T\n",
    "    n, p = size(gcm.data[1].X)\n",
    "    μ = zeros(T, n)\n",
    "    res = zeros(T, n)\n",
    "    storage_n = zeros(T, n)\n",
    "    q = zeros(T, length(θ))\n",
    "    logl = zero(T)\n",
    "    for gc in gcm.data\n",
    "        X = gc.X\n",
    "        y = gc.y\n",
    "        n, p = size(X)\n",
    "        sqrtτ = sqrt(abs(τ))\n",
    "        # update_res! step (need to avoid BLAS)\n",
    "        A_mul_b!(μ, X, β)\n",
    "        for i in 1:gc.n\n",
    "            res[i] = y[i] - μ[i]\n",
    "        end\n",
    "        # standardize_res! step\n",
    "        res .*= sqrtτ\n",
    "        rss  = abs2(norm(res)) # RSS of standardized residual\n",
    "        tsum = dot(abs.(θ), gc.t) # ben: why is there abs here?\n",
    "        logl += - log(1 + tsum) - (gc.n * log(2π) -  gc.n * log(abs(τ)) + rss) / 2\n",
    "        # update Γ\n",
    "        @inbounds for k in 1:gc.m\n",
    "            A_mul_b!(storage_n, gc.V[k], res)\n",
    "            q[k] = dot(res, storage_n) / 2 # q[k] = 0.5 r' * V[k] * r (update variable b for variance component model)\n",
    "        end\n",
    "        qsum  = dot(θ, q)\n",
    "        logl += log(1 + qsum)\n",
    "    end\n",
    "    return logl\n",
    "end\n",
    "\n",
    "# sample data\n",
    "autodiff_loglikelihood(β) = loglikelihood(β, qc_model)\n"
   ]
  },
  {
   "cell_type": "code",
   "execution_count": 24,
   "metadata": {
    "collapsed": false
   },
   "outputs": [
    {
     "data": {
      "text/plain": [
       "3-element Vector{Float64}:\n",
       " -4.2150162871124053e-7\n",
       " -1.4069204867794838e-7\n",
       "  6.028072266350826e-7"
      ]
     },
     "execution_count": 24,
     "metadata": {},
     "output_type": "execute_result"
    }
   ],
   "source": [
    "# autodiff Gradient\n",
    "∇logl = x -> ForwardDiff.gradient(autodiff_loglikelihood, x)\n",
    "∇βtrue = ∇logl(qc_model.β)"
   ]
  },
  {
   "cell_type": "code",
   "execution_count": 25,
   "metadata": {
    "collapsed": false
   },
   "outputs": [
    {
     "data": {
      "text/plain": [
       "3-element Vector{Float64}:\n",
       " -4.2149996204443596e-7\n",
       " -1.4069079767864423e-7\n",
       "  6.02806975988357e-7"
      ]
     },
     "execution_count": 25,
     "metadata": {},
     "output_type": "execute_result"
    }
   ],
   "source": [
    "# gradient from math\n",
    "loglikelihood!(qc_model, true, false)\n",
    "∇βobs = qc_model.∇β"
   ]
  },
  {
   "cell_type": "markdown",
   "metadata": {},
   "source": [
    "## Check $\\nabla_\\beta^2 L$\n",
    "\n",
    "Hessians for a single observation seems to differ quite a bit"
   ]
  },
  {
   "cell_type": "code",
   "execution_count": 28,
   "metadata": {
    "collapsed": false
   },
   "outputs": [
    {
     "data": {
      "text/plain": [
       "two_term_Hessian (generic function with 2 methods)"
      ]
     },
     "execution_count": 28,
     "metadata": {},
     "output_type": "execute_result"
    }
   ],
   "source": [
    "function two_term_Hessian(gcm::Union{GLMCopulaVCModel, NBCopulaVCModel})\n",
    "    p = length(gcm.β)\n",
    "    T = eltype(gcm.β)\n",
    "    H = zeros(T, p, p)\n",
    "    for gc in gcm.data\n",
    "        d = gc.n # number of observations for current sample\n",
    "        # GLM term\n",
    "        H -= Transpose(gc.X) * Diagonal(gc.w2) * gc.X\n",
    "        # trailing terms\n",
    "        res = gc.res # d × 1 standardized residuals\n",
    "        ∇resβ = gc.∇resβ # d × p\n",
    "        Γ = zeros(T, d, d)\n",
    "        for k in 1:gc.m # loop over variance components\n",
    "            Γ .+= gcm.θ[k] .* gc.V[k]\n",
    "        end\n",
    "        denom = abs2(1 + 0.5 * (res' * Γ * res))\n",
    "        H -= (∇resβ' * Γ * res) * (∇resβ' * Γ * res)' / denom\n",
    "    end\n",
    "    return H\n",
    "end\n",
    "\n",
    "function two_term_Hessian(gcm::GaussianCopulaVCModel)\n",
    "    p = length(gcm.β)\n",
    "    T = eltype(gcm.β)\n",
    "    H = zeros(T, p, p)\n",
    "    for gc in gcm.data\n",
    "        d = gc.n # number of observations for current sample\n",
    "        # GLM term\n",
    "        H -= Transpose(gc.X) * gc.X\n",
    "        # trailing terms\n",
    "        res = gc.res # d × 1 standardized residuals\n",
    "        ∇resβ = -sqrt(gcm.τ[1]) .* gc.X # d × p\n",
    "        Γ = zeros(T, d, d)\n",
    "        for k in 1:gc.m # loop over variance components\n",
    "            Γ .+= gcm.θ[k] .* gc.V[k]\n",
    "        end\n",
    "        denom = abs2(1 + 0.5 * (res' * Γ * res))\n",
    "        H -= (∇resβ' * Γ * res) * (∇resβ' * Γ * res)' / denom\n",
    "    end\n",
    "    return H\n",
    "end"
   ]
  },
  {
   "cell_type": "code",
   "execution_count": 29,
   "metadata": {
    "collapsed": false
   },
   "outputs": [
    {
     "data": {
      "text/plain": [
       "3×3 Matrix{Float64}:\n",
       " -49599.1      -320.636     491.843\n",
       "   -320.636  -29925.5       332.011\n",
       "    491.843     332.011  -29726.3"
      ]
     },
     "execution_count": 29,
     "metadata": {},
     "output_type": "execute_result"
    }
   ],
   "source": [
    "# 2 term Hessian from math\n",
    "two_terms_H = two_term_Hessian(qc_model)"
   ]
  },
  {
   "cell_type": "code",
   "execution_count": 30,
   "metadata": {
    "collapsed": false
   },
   "outputs": [
    {
     "data": {
      "text/plain": [
       "3×3 Matrix{Float64}:\n",
       "    -2.68268e5  -920.865         2718.6\n",
       " -1147.02         -2.48128e5     2832.79\n",
       "  2931.52       2874.17       -248250.0"
      ]
     },
     "execution_count": 30,
     "metadata": {},
     "output_type": "execute_result"
    }
   ],
   "source": [
    "# 3 term Hessian from math\n",
    "loglikelihood!(qc_model, true, true)\n",
    "three_terms_H = qc_model.Hβ"
   ]
  },
  {
   "cell_type": "code",
   "execution_count": 31,
   "metadata": {
    "collapsed": false
   },
   "outputs": [
    {
     "data": {
      "text/plain": [
       "3×3 Matrix{Float64}:\n",
       " -181660.0    -973.736      1879.31\n",
       "    -973.736    -2.30584e5  2562.06\n",
       "    1879.31   2562.06         -2.3135e5"
      ]
     },
     "execution_count": 31,
     "metadata": {},
     "output_type": "execute_result"
    }
   ],
   "source": [
    "# autodiff Hessian\n",
    "∇²logl = x -> ForwardDiff.hessian(autodiff_loglikelihood, x)\n",
    "autodiff_H = ∇²logl(qc_model.β)"
   ]
  },
  {
   "cell_type": "code",
   "execution_count": 32,
   "metadata": {
    "collapsed": false
   },
   "outputs": [
    {
     "data": {
      "text/plain": [
       "3×3 Matrix{Float64}:\n",
       " -2.01663e-5   2.12396e-7  -3.31294e-7\n",
       "  2.12396e-7  -3.34226e-5  -3.69781e-7\n",
       " -3.31294e-7  -3.69781e-7  -3.36499e-5"
      ]
     },
     "execution_count": 32,
     "metadata": {},
     "output_type": "execute_result"
    }
   ],
   "source": [
    "# 2 term inv Hessian from math\n",
    "inv(two_terms_H)"
   ]
  },
  {
   "cell_type": "code",
   "execution_count": 33,
   "metadata": {
    "collapsed": false
   },
   "outputs": [
    {
     "data": {
      "text/plain": [
       "3×3 Matrix{Float64}:\n",
       " -3.72812e-6   1.33649e-8  -4.06744e-8\n",
       "  1.67336e-8  -4.03078e-6  -4.58122e-8\n",
       " -4.38307e-8  -4.65093e-8  -4.02921e-6"
      ]
     },
     "execution_count": 33,
     "metadata": {},
     "output_type": "execute_result"
    }
   ],
   "source": [
    "# 3 term inv Hessian from math\n",
    "inv(three_terms_H)"
   ]
  },
  {
   "cell_type": "code",
   "execution_count": 34,
   "metadata": {
    "collapsed": false
   },
   "outputs": [
    {
     "data": {
      "text/plain": [
       "3×3 Matrix{Float64}:\n",
       " -5.50537e-6   2.27546e-8  -4.44693e-8\n",
       "  2.27546e-8  -4.33744e-6  -4.78496e-8\n",
       " -4.44693e-8  -4.78496e-8  -4.32334e-6"
      ]
     },
     "execution_count": 34,
     "metadata": {},
     "output_type": "execute_result"
    }
   ],
   "source": [
    "# autodiff inv Hessian\n",
    "inv(autodiff_H)"
   ]
  },
  {
   "cell_type": "code",
   "execution_count": 35,
   "metadata": {
    "collapsed": false,
    "scrolled": true
   },
   "outputs": [
    {
     "data": {
      "text/plain": [
       "9×3 Matrix{Float64}:\n",
       " -181660.0        -49599.1         -2.68268e5\n",
       "    -973.736        -320.636    -1147.02\n",
       "    1879.31          491.843     2931.52\n",
       "    -973.736        -320.636     -920.865\n",
       "      -2.30584e5  -29925.5         -2.48128e5\n",
       "    2562.06          332.011     2874.17\n",
       "    1879.31          491.843     2718.6\n",
       "    2562.06          332.011     2832.79\n",
       "      -2.3135e5   -29726.3    -248250.0"
      ]
     },
     "execution_count": 35,
     "metadata": {},
     "output_type": "execute_result"
    }
   ],
   "source": [
    "[vec(autodiff_H) vec(two_terms_H) vec(three_terms_H)]"
   ]
  },
  {
   "cell_type": "code",
   "execution_count": 36,
   "metadata": {
    "collapsed": false
   },
   "outputs": [
    {
     "data": {
      "text/plain": [
       "9×3 Matrix{Float64}:\n",
       " -5.50537e-6  -2.01663e-5  -3.72812e-6\n",
       "  2.27546e-8   2.12396e-7   1.67336e-8\n",
       " -4.44693e-8  -3.31294e-7  -4.38307e-8\n",
       "  2.27546e-8   2.12396e-7   1.33649e-8\n",
       " -4.33744e-6  -3.34226e-5  -4.03078e-6\n",
       " -4.78496e-8  -3.69781e-7  -4.65093e-8\n",
       " -4.44693e-8  -3.31294e-7  -4.06744e-8\n",
       " -4.78496e-8  -3.69781e-7  -4.58122e-8\n",
       " -4.32334e-6  -3.36499e-5  -4.02921e-6"
      ]
     },
     "execution_count": 36,
     "metadata": {},
     "output_type": "execute_result"
    }
   ],
   "source": [
    "[vec(inv(autodiff_H)) vec(inv(two_terms_H)) vec(inv(three_terms_H))]"
   ]
  },
  {
   "cell_type": "markdown",
   "metadata": {
    "collapsed": true
   },
   "source": [
    "# Check $\\nabla_{\\theta}L$, $\\nabla^2_{\\theta}L$, and $\\nabla_{\\theta}\\nabla_{\\beta} L$ "
   ]
  },
  {
   "cell_type": "code",
   "execution_count": 11,
   "metadata": {
    "collapsed": false
   },
   "outputs": [
    {
     "data": {
      "text/plain": [
       "#22 (generic function with 1 method)"
      ]
     },
     "execution_count": 11,
     "metadata": {},
     "output_type": "execute_result"
    }
   ],
   "source": [
    "# Loglikelihood function friendly to autodiff\n",
    "autodiff_loglikelihood(β) = QuasiCopula.loglikelihood(β, qc_model, z)\n",
    "\n",
    "# autodiff Gradient\n",
    "∇logl = x -> ForwardDiff.gradient(autodiff_loglikelihood, x)\n",
    "\n",
    "# autodiff Hessian\n",
    "∇²logl = x -> ForwardDiff.hessian(autodiff_loglikelihood, x)\n"
   ]
  },
  {
   "cell_type": "markdown",
   "metadata": {},
   "source": [
    "First, check if `autodiff_loglikelihood` returns same answer as `QuasiCopula.loglikelihood!`"
   ]
  },
  {
   "cell_type": "code",
   "execution_count": 16,
   "metadata": {
    "collapsed": false
   },
   "outputs": [
    {
     "name": "stdout",
     "output_type": "stream",
     "text": [
      "autodiff_loglikelihood(fullβ) = -18033.163626812184\n",
      "QuasiCopula.loglikelihood!(qc_model, false, false) = -18033.16362681217\n"
     ]
    }
   ],
   "source": [
    "i = 1\n",
    "z = convert(Vector{Float64}, @view(G[:, i]), center=true, scale=false)\n",
    "fullβ = [qc_model.β; qc_model.θ; 0.0] # poisson or bernoulli\n",
    "# fullβ = [qc_model.β; qc_model.θ; qc_model.τ; 0.0] # normal\n",
    "\n",
    "@show autodiff_loglikelihood(fullβ)\n",
    "@show QuasiCopula.loglikelihood!(qc_model, false, false);"
   ]
  },
  {
   "cell_type": "markdown",
   "metadata": {},
   "source": [
    "### Check $\\nabla_\\theta L$"
   ]
  },
  {
   "cell_type": "code",
   "execution_count": 39,
   "metadata": {
    "collapsed": false
   },
   "outputs": [
    {
     "data": {
      "text/plain": [
       "2-element Vector{Float64}:\n",
       " -1.1370986533992892e-6\n",
       "  2.3139215938341664e-6"
      ]
     },
     "execution_count": 39,
     "metadata": {},
     "output_type": "execute_result"
    }
   ],
   "source": [
    "# autodiff (the 4th and 5th position stores the 2 gradient terms with respect to θ)\n",
    "i = 5\n",
    "z = convert(Vector{Float64}, @view(G[:, i]), center=true, scale=false)\n",
    "fullβ = [qc_model.β; qc_model.θ; 0.0] # poisson or bernoulli\n",
    "∇logl(fullβ)[4:5]"
   ]
  },
  {
   "cell_type": "code",
   "execution_count": 40,
   "metadata": {
    "collapsed": false
   },
   "outputs": [
    {
     "data": {
      "text/plain": [
       "2-element Vector{Float64}:\n",
       " -1.137098653399271e-6\n",
       "  2.3139215938342303e-6"
      ]
     },
     "execution_count": 40,
     "metadata": {},
     "output_type": "execute_result"
    }
   ],
   "source": [
    "# mathematical formula\n",
    "Ω = qc_model.data[i].V\n",
    "m = length(Ω)\n",
    "grad_math = zeros(m)\n",
    "for i in 1:length(qc_model.data)\n",
    "    r = qc_model.data[i].res\n",
    "    Ω = qc_model.data[i].V\n",
    "    b = [0.5r' * Ω[k] * r for k in 1:m]\n",
    "    c = [0.5tr(Ω[k]) for k in 1:m]\n",
    "    grad_math += b / (1 + qc_model.θ'*b) - c / (1 + qc_model.θ'*c)\n",
    "end\n",
    "grad_math"
   ]
  },
  {
   "cell_type": "markdown",
   "metadata": {},
   "source": [
    "### Check $\\nabla_\\theta^2 L$"
   ]
  },
  {
   "cell_type": "code",
   "execution_count": 37,
   "metadata": {
    "collapsed": false
   },
   "outputs": [
    {
     "data": {
      "text/plain": [
       "2×2 Matrix{Float64}:\n",
       " 1.25985e-15   1.0245e-15\n",
       " 1.0245e-15   -9.38656e-15"
      ]
     },
     "execution_count": 37,
     "metadata": {},
     "output_type": "execute_result"
    }
   ],
   "source": [
    "# autodiff (the 4th and 5th position stores the 2 gradient terms with respect to θ)\n",
    "i = 5\n",
    "z = convert(Vector{Float64}, @view(G[:, i]), center=true, scale=false)\n",
    "fullβ = [qc_model.β; qc_model.θ; 0.0] # poisson or bernoulli\n",
    "∇²logl(fullβ)[4:5, 4:5]\n"
   ]
  },
  {
   "cell_type": "code",
   "execution_count": 62,
   "metadata": {
    "collapsed": false
   },
   "outputs": [
    {
     "data": {
      "text/plain": [
       "2×2 Matrix{Float64}:\n",
       " -1.25985e-15  -1.0245e-15\n",
       " -1.0245e-15    9.38656e-15"
      ]
     },
     "execution_count": 62,
     "metadata": {},
     "output_type": "execute_result"
    }
   ],
   "source": [
    "# mathematical formula\n",
    "Ω = qc_model.data[i].V\n",
    "m = length(Ω)\n",
    "hess_math = zeros(m, m)\n",
    "for i in 1:length(qc_model.data)\n",
    "    r = qc_model.data[i].res\n",
    "    Ω = qc_model.data[i].V\n",
    "    b = [0.5r' * Ω[k] * r for k in 1:m]\n",
    "    c = [0.5tr(Ω[k]) for k in 1:m]\n",
    "    hess_math += b*b' / (1 + qc_model.θ'*b)^2 - c*c' / (1 + qc_model.θ'*c)^2\n",
    "end\n",
    "hess_math"
   ]
  },
  {
   "cell_type": "markdown",
   "metadata": {},
   "source": [
    "### Check $\\nabla_\\theta\\nabla_\\beta L$"
   ]
  },
  {
   "cell_type": "code",
   "execution_count": 44,
   "metadata": {
    "collapsed": false
   },
   "outputs": [
    {
     "data": {
      "text/plain": [
       "3×2 Matrix{Float64}:\n",
       " -1.0073e-7   2.04979e-7\n",
       " -4.43245e-8  9.01974e-8\n",
       " -5.11492e-8  1.04085e-7"
      ]
     },
     "execution_count": 44,
     "metadata": {},
     "output_type": "execute_result"
    }
   ],
   "source": [
    "# autodiff (the 4th and 5th position stores the 2 gradient terms with respect to θ)\n",
    "i = 5\n",
    "z = convert(Vector{Float64}, @view(G[:, i]), center=true, scale=false)\n",
    "fullβ = [qc_model.β; qc_model.θ; 0.0] # poisson or bernoulli\n",
    "∇²logl(fullβ)[1:3, 4:5]"
   ]
  },
  {
   "cell_type": "code",
   "execution_count": 68,
   "metadata": {
    "collapsed": false
   },
   "outputs": [
    {
     "data": {
      "text/plain": [
       "3×2 Matrix{Float64}:\n",
       " -1.0073e-7   2.04979e-7\n",
       " -4.43245e-8  9.01974e-8\n",
       " -5.11492e-8  1.04085e-7"
      ]
     },
     "execution_count": 68,
     "metadata": {},
     "output_type": "execute_result"
    }
   ],
   "source": [
    "# mathematical formula\n",
    "Ω = qc_model.data[i].V\n",
    "m = length(Ω)\n",
    "p = size(qc_model.data[i].X, 2)\n",
    "hess_math = zeros(p, m)\n",
    "for i in 1:length(qc_model.data)\n",
    "    r = qc_model.data[i].res\n",
    "    Ω = qc_model.data[i].V\n",
    "    θ = qc_model.θ\n",
    "    ∇resβ = qc_model.data[i].∇resβ\n",
    "    b = [0.5r' * Ω[k] * r for k in 1:m]\n",
    "    A = hcat([∇resβ' * Ω[k] * r for k in 1:m]...)\n",
    "    hess_math += A ./ (1 + θ'*b) - (A*θ ./ (1 + θ'*b)^2) * b'\n",
    "end\n",
    "hess_math"
   ]
  },
  {
   "cell_type": "code",
   "execution_count": null,
   "metadata": {
    "collapsed": true
   },
   "outputs": [],
   "source": []
  }
 ],
 "metadata": {
  "@webio": {
   "lastCommId": null,
   "lastKernelId": null
  },
  "kernelspec": {
   "display_name": "Julia 1.7.3",
   "language": "julia",
   "name": "julia-1.7"
  },
  "language_info": {
   "file_extension": ".jl",
   "mimetype": "application/julia",
   "name": "julia",
   "version": "1.7.3"
  }
 },
 "nbformat": 4,
 "nbformat_minor": 2
}
