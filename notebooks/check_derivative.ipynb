{
 "cells": [
  {
   "cell_type": "markdown",
   "metadata": {},
   "source": [
    "# Using autodiff to check gradient/Hessians"
   ]
  },
  {
   "cell_type": "code",
   "execution_count": 2,
   "metadata": {
    "collapsed": false
   },
   "outputs": [
    {
     "name": "stderr",
     "output_type": "stream",
     "text": [
      "WARNING: using GLM.loglikelihood in module Main conflicts with an existing identifier.\n",
      "┌ Info: Precompiling QuasiCopula [c47b6ae2-b804-4668-9957-eb588c99ffbc]\n",
      "└ @ Base loading.jl:1423\n",
      "WARNING: using QuasiCopula.loglikelihood in module Main conflicts with an existing identifier.\n"
     ]
    },
    {
     "data": {
      "text/plain": [
       "_make_snparray (generic function with 1 method)"
      ]
     },
     "execution_count": 2,
     "metadata": {},
     "output_type": "execute_result"
    }
   ],
   "source": [
    "using Revise\n",
    "using DataFrames, Random, GLM, QuasiCopula\n",
    "using ForwardDiff, Test, LinearAlgebra\n",
    "using LinearAlgebra: BlasReal, copytri!\n",
    "using ToeplitzMatrices\n",
    "using BenchmarkTools\n",
    "using SnpArrays\n",
    "using ForwardDiff\n",
    "# using MendelPlots\n",
    "\n",
    "BLAS.set_num_threads(1)\n",
    "Threads.nthreads()\n",
    "\n",
    "function simulate_random_snparray(s::Union{String, UndefInitializer}, n::Int64,\n",
    "    p::Int64; mafs::Vector{Float64}=zeros(Float64, p), min_ma::Int = 5)\n",
    "\n",
    "    #first simulate a random {0, 1, 2} matrix with each SNP drawn from Binomial(2, r[i])\n",
    "    A1 = BitArray(undef, n, p) \n",
    "    A2 = BitArray(undef, n, p) \n",
    "    for j in 1:p\n",
    "        minor_alleles = 0\n",
    "        maf = 0\n",
    "        while minor_alleles <= min_ma\n",
    "            maf = 0.5rand()\n",
    "            for i in 1:n\n",
    "                A1[i, j] = rand(Bernoulli(maf))\n",
    "                A2[i, j] = rand(Bernoulli(maf))\n",
    "            end\n",
    "            minor_alleles = sum(view(A1, :, j)) + sum(view(A2, :, j))\n",
    "        end\n",
    "        mafs[j] = maf\n",
    "    end\n",
    "\n",
    "    #fill the SnpArray with the corresponding x_tmp entry\n",
    "    return _make_snparray(s, A1, A2)\n",
    "end\n",
    "\n",
    "function _make_snparray(s::Union{String, UndefInitializer}, A1::BitArray, A2::BitArray)\n",
    "    n, p = size(A1)\n",
    "    x = SnpArray(s, n, p)\n",
    "    for i in 1:(n*p)\n",
    "        c = A1[i] + A2[i]\n",
    "        if c == 0\n",
    "            x[i] = 0x00\n",
    "        elseif c == 1\n",
    "            x[i] = 0x02\n",
    "        elseif c == 2\n",
    "            x[i] = 0x03\n",
    "        else\n",
    "            throw(MissingException(\"matrix shouldn't have missing values!\"))\n",
    "        end\n",
    "    end\n",
    "    return x\n",
    "end"
   ]
  },
  {
   "cell_type": "code",
   "execution_count": 4,
   "metadata": {
    "collapsed": false
   },
   "outputs": [
    {
     "name": "stdout",
     "output_type": "stream",
     "text": [
      "qc_model = Quasi-Copula Variance Component Model\n",
      "  * base distribution: Normal\n",
      "  * link function: IdentityLink\n",
      "  * number of clusters: 5000\n",
      "  * cluster size min, max: 5, 5\n",
      "  * number of variance components: 1\n",
      "  * number of fixed effects: 3\n",
      "\n"
     ]
    }
   ],
   "source": [
    "function simulate_VC_longitudinal(;\n",
    "    n = 1000, # sample size\n",
    "    d = 5, # number of observations per sample\n",
    "    p = 3, # number of nongenetic covariates, including intercept\n",
    "    m = 2, # number of variance components\n",
    "    q = 1000, # number of SNPs\n",
    "    k = 10, # number of causal SNPs\n",
    "    seed = 2022,\n",
    "    y_distribution = Bernoulli,\n",
    "    T = Float64,\n",
    "    )\n",
    "    m == 1 || m == 2 || error(\"m (number of VC) must be 1 or 2\")\n",
    "    \n",
    "    # non-genetic effect sizes\n",
    "    Random.seed!(seed)\n",
    "    βtrue = rand(Uniform(-0.2, 0.2), p)\n",
    "    dist = y_distribution()\n",
    "    link = canonicallink(dist)\n",
    "    Dist = typeof(dist)\n",
    "    Link = typeof(link)\n",
    "\n",
    "    # variance components\n",
    "    θtrue = fill(0.1, m)\n",
    "    V1 = ones(d, d)\n",
    "    V2 = Matrix(I, d, d)\n",
    "    Γ = m == 1 ? θtrue[1] * V1 : θtrue[1] * V1 + θtrue[2] * V2\n",
    "\n",
    "    # simulate design matrices\n",
    "    Random.seed!(seed)\n",
    "    X_full = [hcat(ones(d), randn(d, p - 1)) for i in 1:n]\n",
    "\n",
    "    # simulate random SnpArray with 100 SNPs and randomly choose k SNPs to be causal\n",
    "    Random.seed!(2022)\n",
    "    G = simulate_random_snparray(undef, n, q)\n",
    "    Gfloat = convert(Matrix{T}, G, center=true, scale=false)\n",
    "    γtrue = zeros(q)\n",
    "    γtrue[1:k] .= rand([-0.2, 0.2], k)\n",
    "    shuffle!(γtrue)\n",
    "    η_G = Gfloat * γtrue\n",
    "\n",
    "    # simulate phenotypes\n",
    "    if y_distribution == Normal\n",
    "        τtrue = 10.0\n",
    "        σ2 = inv(τtrue)\n",
    "        σ = sqrt(σ2)\n",
    "        obs = Vector{GaussianCopulaVCObs{T}}(undef, n)\n",
    "        for i in 1:n\n",
    "            X = X_full[i]\n",
    "            η = X * βtrue\n",
    "            η .+= η_G[i] # add genetic effects\n",
    "            μ = GLM.linkinv.(link, η)\n",
    "            vecd = Vector{ContinuousUnivariateDistribution}(undef, d)\n",
    "            for i in 1:d\n",
    "                vecd[i] = y_distribution(μ[i], σ)\n",
    "            end\n",
    "            nonmixed_multivariate_dist = NonMixedMultivariateDistribution(vecd, Γ)\n",
    "            # simuate single vector y\n",
    "            y = Vector{T}(undef, d)\n",
    "            res = Vector{T}(undef, d)\n",
    "            rand(nonmixed_multivariate_dist, y, res)\n",
    "            V = m == 1 ? [V1] : [V1, V2]\n",
    "            obs[i] = GaussianCopulaVCObs(y, X, V)\n",
    "        end\n",
    "        qc_model = GaussianCopulaVCModel(obs)\n",
    "    else\n",
    "        obs = Vector{GLMCopulaVCObs{T, Dist, Link}}(undef, n)\n",
    "        for i in 1:n\n",
    "            X = X_full[i]\n",
    "            η = X * βtrue\n",
    "            η .+= η_G[i] # add genetic effects\n",
    "            μ = GLM.linkinv.(link, η)\n",
    "            vecd = Vector{DiscreteUnivariateDistribution}(undef, d)\n",
    "            for i in 1:d\n",
    "                vecd[i] = y_distribution(μ[i])\n",
    "            end\n",
    "            nonmixed_multivariate_dist = NonMixedMultivariateDistribution(vecd, Γ)\n",
    "            # simuate single vector y\n",
    "            y = Vector{T}(undef, d)\n",
    "            res = Vector{T}(undef, d)\n",
    "            rand(nonmixed_multivariate_dist, y, res)\n",
    "            V = m == 1 ? [V1] : [V1, V2]\n",
    "            obs[i] = GLMCopulaVCObs(y, X, V, dist, link)\n",
    "        end\n",
    "        qc_model = GLMCopulaVCModel(obs)\n",
    "    end\n",
    "    return qc_model, Γ, G, βtrue, θtrue, γtrue\n",
    "end\n",
    "\n",
    "k = 0 # number of causal SNPs\n",
    "\n",
    "qc_model, Γ, G, βtrue, θtrue, γtrue = simulate_VC_longitudinal(\n",
    "    n = 5000, # sample size\n",
    "    d = 5, # number of observations per sample\n",
    "    p = 3, # number of fixed effects, including intercept\n",
    "    m = 1, # number of variance components\n",
    "    q = 1000, # number of SNPs\n",
    "    k = k, # number of causal SNPs\n",
    "    seed = 1000,\n",
    "    y_distribution = Normal,\n",
    "    T = Float64,\n",
    ")\n",
    "\n",
    "@show qc_model;"
   ]
  },
  {
   "cell_type": "code",
   "execution_count": 5,
   "metadata": {
    "collapsed": false
   },
   "outputs": [
    {
     "name": "stdout",
     "output_type": "stream",
     "text": [
      "gcm.β = [0.01954226426617908, 0.01013909328956869, 0.06298592387000614]\n",
      "initializing dispersion using residual sum of squares\n",
      "gcm.τ = [9.099905206186106]\n",
      "initializing variance components using MM-Algorithm\n",
      "gcm.θ = [0.08637180683398887]\n",
      "\n",
      "******************************************************************************\n",
      "This program contains Ipopt, a library for large-scale nonlinear optimization.\n",
      " Ipopt is released as open source code under the Eclipse Public License (EPL).\n",
      "         For more information visit https://github.com/coin-or/Ipopt\n",
      "******************************************************************************\n",
      "\n",
      "This is Ipopt version 3.13.4, running with linear solver mumps.\n",
      "NOTE: Other linear solvers might be more efficient (see Ipopt documentation).\n",
      "\n",
      "Number of nonzeros in equality constraint Jacobian...:        0\n",
      "Number of nonzeros in inequality constraint Jacobian.:        0\n",
      "Number of nonzeros in Lagrangian Hessian.............:        0\n",
      "\n",
      "Total number of variables............................:        5\n",
      "                     variables with only lower bounds:        2\n",
      "                variables with lower and upper bounds:        0\n",
      "                     variables with only upper bounds:        0\n",
      "Total number of equality constraints.................:        0\n",
      "Total number of inequality constraints...............:        0\n",
      "        inequality constraints with only lower bounds:        0\n",
      "   inequality constraints with lower and upper bounds:        0\n",
      "        inequality constraints with only upper bounds:        0\n",
      "\n",
      "iter    objective    inf_pr   inf_du lg(mu)  ||d||  lg(rg) alpha_du alpha_pr  ls\n",
      "   0  7.7642315e+03 0.00e+00 1.00e+02   0.0 0.00e+00    -  0.00e+00 0.00e+00   0\n",
      "   1  5.0057916e+06 0.00e+00 1.22e+06  -4.0 1.00e+02    -  1.00e+00 6.25e-02h  5\n",
      "   2  7.7641877e+03 0.00e+00 1.72e+01  -4.0 6.25e+00    -  1.00e+00 1.00e+00f  1\n",
      "   3  7.7641865e+03 0.00e+00 3.04e+00  -5.8 9.71e-05    -  1.00e+00 1.00e+00f  1\n",
      "   4  7.7641865e+03 0.00e+00 4.57e-01  -7.7 2.10e-05    -  1.00e+00 1.00e+00f  1\n",
      "   5  7.7641865e+03 0.00e+00 4.00e-01  -9.6 3.72e-06    -  1.00e+00 1.00e+00f  1\n",
      "   6  7.7641864e+03 0.00e+00 6.80e-01  -9.7 5.06e-05    -  1.00e+00 2.50e-01f  3\n",
      "   7  7.7641864e+03 0.00e+00 1.93e-01  -9.7 1.81e-05    -  1.00e+00 1.00e+00f  1\n",
      "   8  7.7641864e+03 0.00e+00 5.70e-02 -11.0 4.60e-06    -  1.00e+00 1.00e+00f  1\n",
      "   9  7.7641864e+03 0.00e+00 5.63e-02 -11.0 2.98e-06    -  1.00e+00 1.00e+00f  1\n",
      "iter    objective    inf_pr   inf_du lg(mu)  ||d||  lg(rg) alpha_du alpha_pr  ls\n",
      "  10  7.7641864e+03 0.00e+00 7.22e-01 -11.0 5.17e-04    -  1.00e+00 6.25e-02h  5\n",
      "  11  7.7641864e+03 0.00e+00 3.46e-01 -11.0 4.64e-05    -  1.00e+00 1.00e+00f  1\n",
      "  12  7.7641864e+03 0.00e+00 1.35e+00 -11.0 4.90e-04    -  1.00e+00 6.25e-02h  5\n",
      "  13  7.7641864e+03 0.00e+00 4.30e-01 -11.0 9.32e-05    -  1.00e+00 1.00e+00f  1\n",
      "  14  7.7641864e+03 0.00e+00 9.20e-01 -11.0 1.62e-04    -  1.00e+00 6.25e-02h  5\n",
      "  15  7.7641864e+03 0.00e+00 3.12e-01 -11.0 2.06e-04    -  1.00e+00 1.00e+00f  1\n",
      "  16  7.7641866e+03 0.00e+00 2.91e+00 -11.0 1.68e-03    -  1.00e+00 6.25e-02h  5\n",
      "  17  7.7641864e+03 0.00e+00 4.92e-02 -11.0 3.11e-04    -  1.00e+00 1.00e+00f  1\n",
      "  18  7.7641864e+03 0.00e+00 6.28e-02 -11.0 2.14e-05    -  1.00e+00 6.25e-02h  5\n",
      "  19  7.7641864e+03 0.00e+00 1.20e-02 -11.0 1.95e-05    -  1.00e+00 1.00e+00f  1\n",
      "iter    objective    inf_pr   inf_du lg(mu)  ||d||  lg(rg) alpha_du alpha_pr  ls\n",
      "  20  7.7641864e+03 0.00e+00 2.85e-02 -11.0 3.85e-05    -  1.00e+00 6.25e-02h  5\n",
      "  21  7.7641864e+03 0.00e+00 2.97e-02 -11.0 7.98e-06    -  1.00e+00 5.00e-01f  2\n",
      "  22  7.7641864e+03 0.00e+00 4.88e-02 -11.0 2.61e-04    -  1.00e+00 6.25e-02h  5\n",
      "  23  7.7641864e+03 0.00e+00 4.45e-02 -11.0 1.81e-05    -  1.00e+00 2.50e-01f  3\n",
      "  24  7.7641864e+03 0.00e+00 4.09e-02 -11.0 1.36e-05    -  1.00e+00 5.00e-01f  2\n",
      "  25  7.7641864e+03 0.00e+00 2.96e-01 -11.0 6.47e-04    -  1.00e+00 6.25e-02h  5\n",
      "  26  7.7641864e+03 0.00e+00 2.52e-01 -11.0 1.99e-04    -  1.00e+00 1.25e-01f  4\n",
      "  27  7.7641864e+03 0.00e+00 1.34e-01 -11.0 9.81e-04    -  1.00e+00 6.25e-02f  5\n",
      "  28  7.7641864e+03 0.00e+00 3.22e-01 -11.0 4.19e-04    -  1.00e+00 6.25e-02h  5\n",
      "  29  7.7641864e+03 0.00e+00 3.57e-01 -11.0 3.51e-04    -  1.00e+00 6.25e-02f  5\n",
      "iter    objective    inf_pr   inf_du lg(mu)  ||d||  lg(rg) alpha_du alpha_pr  ls\n",
      "  30  7.7641866e+03 0.00e+00 6.36e+00 -11.0 3.26e-04    -  1.00e+00 1.00e+00w  1\n",
      "  31  7.7641864e+03 0.00e+00 9.41e-04 -11.0 3.25e-04    -  1.00e+00 1.00e+00f  1\n",
      "  32  7.7641864e+03 0.00e+00 1.36e-03 -11.0 7.33e-06    -  1.00e+00 6.25e-02f  5\n",
      "  33  7.7641864e+03 0.00e+00 4.03e-03 -11.0 8.52e-06    -  1.00e+00 6.25e-02h  5\n",
      "  34  7.7641864e+03 0.00e+00 2.59e-03 -11.0 2.17e-05    -  1.00e+00 6.25e-02h  5\n",
      "  35  7.7641864e+03 0.00e+00 3.26e-04 -11.0 1.40e-06    -  1.00e+00 1.00e+00f  1\n",
      "  36  7.7641864e+03 0.00e+00 1.04e-03 -11.0 3.01e-06    -  1.00e+00 6.25e-02h  5\n",
      "  37  7.7641864e+03 0.00e+00 1.17e-04 -11.0 1.69e-07    -  1.00e+00 1.00e+00f  1\n",
      "  38  7.7641864e+03 0.00e+00 1.45e-03 -11.0 8.54e-08    -  1.00e+00 1.00e+00f  1\n",
      "  39  7.7641864e+03 0.00e+00 1.08e-03 -11.0 4.68e-07    -  1.00e+00 1.00e+00f  1\n",
      "iter    objective    inf_pr   inf_du lg(mu)  ||d||  lg(rg) alpha_du alpha_pr  ls\n",
      "  40  7.7641864e+03 0.00e+00 2.29e-03 -11.0 5.85e-06    -  1.00e+00 6.25e-02h  5\n",
      "  41  7.7641864e+03 0.00e+00 9.01e-03 -11.0 2.50e-06    -  1.00e+00 6.25e-02h  5\n",
      "  42  7.7641864e+03 0.00e+00 2.13e-05 -11.0 6.30e-08    -  1.00e+00 1.00e+00f  1\n",
      "  43  7.7641864e+03 0.00e+00 1.19e-05 -11.0 1.93e-09    -  1.00e+00 1.00e+00f  1\n",
      "  44  7.7641864e+03 0.00e+00 3.50e-04 -11.0 6.41e-08    -  1.00e+00 1.00e+00f  1\n",
      "  45  7.7641864e+03 0.00e+00 6.43e-05 -11.0 4.45e-08    -  1.00e+00 1.00e+00f  1\n",
      "  46  7.7641864e+03 0.00e+00 1.46e-03 -11.0 1.72e-06    -  1.00e+00 2.50e-01f  3\n",
      "  47  7.7641864e+03 0.00e+00 2.24e-03 -11.0 9.73e-07    -  1.00e+00 5.00e-01f  2\n",
      "  48  7.7641864e+03 0.00e+00 2.99e-02 -11.0 3.40e-05    -  1.00e+00 6.25e-02h  5\n",
      "  49  7.7641864e+03 0.00e+00 1.11e-03 -11.0 2.17e-06    -  1.00e+00 1.00e+00f  1\n",
      "iter    objective    inf_pr   inf_du lg(mu)  ||d||  lg(rg) alpha_du alpha_pr  ls\n",
      "  50  7.7641864e+03 0.00e+00 7.07e-03 -11.0 6.30e-06    -  1.00e+00 6.25e-02h  5\n",
      "  51  7.7641864e+03 0.00e+00 2.81e-04 -11.0 4.57e-07    -  1.00e+00 1.00e+00f  1\n",
      "  52  7.7641864e+03 0.00e+00 1.20e-03 -11.0 4.64e-07    -  1.00e+00 1.25e-01f  4\n",
      "  53  7.7641864e+03 0.00e+00 3.97e-04 -11.0 4.19e-07    -  1.00e+00 5.00e-01f  2\n",
      "  54  7.7641864e+03 0.00e+00 6.89e-04 -11.0 3.19e-06    -  1.00e+00 1.25e-01f  4\n",
      "  55  7.7641864e+03 0.00e+00 7.09e-04 -11.0 3.21e-06    -  1.00e+00 6.25e-02f  5\n",
      "  56  7.7641864e+03 0.00e+00 9.59e-04 -11.0 1.08e-06    -  1.00e+00 6.25e-02f  5\n",
      "  57  7.7641864e+03 0.00e+00 4.56e-04 -11.0 1.56e-06    -  1.00e+00 2.50e-01f  3\n",
      "  58  7.7641864e+03 0.00e+00 7.74e-04 -11.0 4.96e-07    -  1.00e+00 6.25e-02f  5\n",
      "  59  7.7641864e+03 0.00e+00 3.23e-04 -11.0 6.17e-07    -  1.00e+00 5.00e-01f  2\n",
      "iter    objective    inf_pr   inf_du lg(mu)  ||d||  lg(rg) alpha_du alpha_pr  ls\n",
      "  60  7.7641864e+03 0.00e+00 6.40e-04 -11.0 1.37e-06    -  1.00e+00 1.25e-01f  4\n",
      "  61  7.7641864e+03 0.00e+00 7.04e-05 -11.0 3.94e-08    -  1.00e+00 1.00e+00f  1\n",
      "  62  7.7641864e+03 0.00e+00 5.99e-05 -11.0 6.45e-08    -  1.00e+00 1.00e+00f  1\n",
      "  63  7.7641864e+03 0.00e+00 3.10e-03 -11.0 6.56e-07    -  1.00e+00 6.25e-02h  5\n",
      "  64  7.7641864e+03 0.00e+00 1.12e-04 -11.0 3.86e-08    -  1.00e+00 1.00e+00f  1\n",
      "  65  7.7641864e+03 0.00e+00 1.77e-04 -11.0 2.05e-08    -  1.00e+00 1.00e+00f  1\n",
      "  66  7.7641864e+03 0.00e+00 2.20e-04 -11.0 4.64e-08    -  1.00e+00 1.25e-01f  4\n",
      "  67  7.7641864e+03 0.00e+00 9.90e-05 -11.0 1.60e-08    -  1.00e+00 5.00e-01f  2\n",
      "  68  7.7641864e+03 0.00e+00 2.32e-04 -11.0 6.59e-08    -  1.00e+00 1.00e+00f  1\n",
      "  69  7.7641864e+03 0.00e+00 4.27e-04 -11.0 5.18e-08    -  1.00e+00 1.00e+00f  1\n",
      "iter    objective    inf_pr   inf_du lg(mu)  ||d||  lg(rg) alpha_du alpha_pr  ls\n",
      "  70  7.7641864e+03 0.00e+00 2.81e-04 -11.0 3.50e-07    -  1.00e+00 1.00e+00f  1\n",
      "  71  7.7641864e+03 0.00e+00 8.84e-04 -11.0 3.79e-07    -  1.00e+00 1.25e-01f  4\n",
      "  72  7.7641864e+03 0.00e+00 1.64e-03 -11.0 4.27e-07    -  1.00e+00 5.00e-01f  2\n",
      "  73  7.7641864e+03 0.00e+00 1.64e-03 -11.0 3.86e-06    -  1.00e+00 6.25e-02f  5\n",
      "  74  7.7641864e+03 0.00e+00 1.64e-03 -11.0 6.72e-06    -  1.00e+00 6.25e-02h  5\n",
      "  75  7.7641864e+03 0.00e+00 3.19e-03 -11.0 7.82e-07    -  1.00e+00 1.00e+00f  1\n",
      "  76  7.7641864e+03 0.00e+00 5.50e-03 -11.0 2.48e-05    -  1.00e+00 6.25e-02h  5\n",
      "  77  7.7641864e+03 0.00e+00 6.80e-03 -11.0 6.62e-06    -  1.00e+00 1.25e-01f  4\n",
      "  78  7.7641864e+03 0.00e+00 1.04e-02 -11.0 4.03e-05    -  1.00e+00 6.25e-02h  5\n",
      "  79  7.7641864e+03 0.00e+00 4.00e-02 -11.0 5.86e-05    -  1.00e+00 6.25e-02h  5\n",
      "iter    objective    inf_pr   inf_du lg(mu)  ||d||  lg(rg) alpha_du alpha_pr  ls\n",
      "  80  7.7641864e+03 0.00e+00 3.87e-02 -11.0 9.38e-06    -  1.00e+00 5.00e-01f  2\n",
      "  81  7.7641864e+03 0.00e+00 4.39e-02 -11.0 1.01e-04    -  1.00e+00 6.25e-02h  5\n",
      "  82  7.7641864e+03 0.00e+00 3.02e-03 -11.0 5.91e-06    -  1.00e+00 1.00e+00f  1\n",
      "  83  7.7641864e+03 0.00e+00 1.71e-02 -11.0 1.69e-05    -  1.00e+00 6.25e-02h  5\n",
      "  84  7.7641864e+03 0.00e+00 7.93e-05 -11.0 7.55e-07    -  1.00e+00 1.00e+00f  1\n",
      "  85  7.7641864e+03 0.00e+00 8.28e-04 -11.0 6.07e-08    -  1.00e+00 5.00e-01f  2\n",
      "  86  7.7641864e+03 0.00e+00 7.68e-04 -11.0 1.15e-07    -  1.00e+00 6.25e-02h  5\n",
      "  87  7.7641864e+03 0.00e+00 2.22e-03 -11.0 1.52e-06    -  1.00e+00 1.25e-01f  4\n",
      "  88  7.7641864e+03 0.00e+00 1.19e-03 -11.0 1.91e-06    -  1.00e+00 2.50e-01f  3\n",
      "  89  7.7641864e+03 0.00e+00 7.17e-03 -11.0 9.90e-06    -  1.00e+00 6.25e-02h  5\n",
      "iter    objective    inf_pr   inf_du lg(mu)  ||d||  lg(rg) alpha_du alpha_pr  ls\n",
      "  90  7.7641864e+03 0.00e+00 2.88e-03 -11.0 1.99e-06    -  1.00e+00 1.00e+00f  1\n",
      "  91  7.7641864e+03 0.00e+00 2.70e-03 -11.0 1.60e-06    -  1.00e+00 6.25e-02h  5\n",
      "  92  7.7641864e+03 0.00e+00 1.01e-03 -11.0 7.80e-07    -  1.00e+00 1.00e+00f  1\n",
      "  93  7.7641864e+03 0.00e+00 5.56e-04 -11.0 3.49e-07    -  1.00e+00 1.25e-01f  4\n",
      "  94  7.7641864e+03 0.00e+00 4.68e-04 -11.0 8.34e-07    -  1.00e+00 6.25e-02h  5\n",
      "  95  7.7641864e+03 0.00e+00 1.00e-03 -11.0 8.27e-07    -  1.00e+00 5.00e-01f  2\n",
      "  96  7.7641864e+03 0.00e+00 5.03e-03 -11.0 6.15e-06    -  1.00e+00 6.25e-02h  5\n",
      "  97  7.7641864e+03 0.00e+00 3.31e-03 -11.0 1.26e-06    -  1.00e+00 1.00e+00f  1\n",
      "  98  7.7641864e+03 0.00e+00 2.67e-02 -11.0 6.83e-05    -  1.00e+00 6.25e-02h  5\n",
      "  99  7.7641864e+03 0.00e+00 1.75e-03 -11.0 3.78e-06    -  1.00e+00 1.00e+00f  1\n",
      "iter    objective    inf_pr   inf_du lg(mu)  ||d||  lg(rg) alpha_du alpha_pr  ls\n",
      " 100  7.7641864e+03 0.00e+00 6.27e-03 -11.0 5.62e-06    -  1.00e+00 6.25e-02h  5\n",
      " 101  7.7641864e+03 0.00e+00 8.39e-03 -11.0 9.60e-07    -  1.00e+00 2.50e-01f  3\n",
      " 102  7.7641864e+03 0.00e+00 2.13e-03 -11.0 1.27e-06    -  1.00e+00 2.50e-01f  3\n",
      " 103  7.7641864e+03 0.00e+00 1.70e-03 -11.0 8.11e-06    -  1.00e+00 1.25e-01f  4\n",
      " 104  7.7641864e+03 0.00e+00 3.74e-03 -11.0 1.16e-05    -  1.00e+00 6.25e-02h  5\n",
      " 105  7.7641864e+03 0.00e+00 1.09e-03 -11.0 9.91e-07    -  1.00e+00 1.00e+00f  1\n",
      " 106  7.7641864e+03 0.00e+00 9.73e-04 -11.0 1.68e-07    -  1.00e+00 1.00e+00f  1\n",
      " 107  7.7641864e+03 0.00e+00 1.13e-03 -11.0 1.89e-06    -  1.00e+00 6.25e-02f  5\n",
      " 108  7.7641864e+03 0.00e+00 1.13e-03 -11.0 7.06e-07    -  1.00e+00 5.00e-01f  2\n",
      " 109  7.7641864e+03 0.00e+00 4.69e-03 -11.0 1.10e-06    -  1.00e+00 6.25e-02h  5\n",
      "iter    objective    inf_pr   inf_du lg(mu)  ||d||  lg(rg) alpha_du alpha_pr  ls\n",
      " 110  7.7641864e+03 0.00e+00 2.69e-04 -11.0 5.13e-07    -  1.00e+00 1.00e+00f  1\n",
      " 111  7.7641864e+03 0.00e+00 1.20e-03 -11.0 3.14e-06    -  1.00e+00 1.25e-01f  4\n",
      " 112  7.7641864e+03 0.00e+00 2.07e-03 -11.0 4.74e-06    -  1.00e+00 6.25e-02h  5\n",
      " 113  7.7641864e+03 0.00e+00 1.90e-03 -11.0 9.04e-07    -  1.00e+00 5.00e-01f  2\n",
      " 114  7.7641864e+03 0.00e+00 3.25e-02 -11.0 4.53e-05    -  1.00e+00 6.25e-02h  5\n",
      " 115  7.7641864e+03 0.00e+00 6.98e-04 -11.0 2.46e-06    -  1.00e+00 1.00e+00f  1\n",
      " 116  7.7641864e+03 0.00e+00 3.68e-04 -11.0 6.28e-06    -  1.00e+00 6.25e-02f  5\n",
      " 117  7.7641864e+03 0.00e+00 1.03e-03 -11.0 4.38e-07    -  1.00e+00 2.50e-01f  3\n",
      " 118  7.7641864e+03 0.00e+00 8.87e-04 -11.0 5.27e-07    -  1.00e+00 1.00e+00f  1\n",
      " 119  7.7641864e+03 0.00e+00 1.96e-02 -11.0 4.04e-06    -  1.00e+00 6.25e-02h  5\n",
      "iter    objective    inf_pr   inf_du lg(mu)  ||d||  lg(rg) alpha_du alpha_pr  ls\n",
      " 120  7.7641864e+03 0.00e+00 1.36e-05 -11.0 2.49e-07    -  1.00e+00 1.00e+00f  1\n",
      " 121  7.7641864e+03 0.00e+00 2.70e-06 -11.0 2.86e-09    -  1.00e+00 1.00e+00f  1\n",
      " 122  7.7641864e+03 0.00e+00 5.32e-04 -11.0 2.34e-08    -  1.00e+00 1.00e+00f  1\n",
      " 123  7.7641864e+03 0.00e+00 2.29e-05 -11.0 1.81e-08    -  1.00e+00 1.00e+00f  1\n",
      " 124  7.7641864e+03 0.00e+00 7.13e-05 -11.0 3.46e-08    -  1.00e+00 5.00e-01f  2\n",
      " 125  7.7641864e+03 0.00e+00 3.04e-06 -11.0 1.50e-08    -  1.00e+00 1.00e+00f  1\n",
      " 126  7.7641864e+03 0.00e+00 2.73e-04 -11.0 1.36e-07    -  1.00e+00 1.00e+00f  1\n",
      " 127  7.7641864e+03 0.00e+00 2.37e-04 -11.0 1.35e-07    -  1.00e+00 1.25e-01f  4\n",
      " 128  7.7641864e+03 0.00e+00 9.08e-04 -11.0 4.43e-07    -  1.00e+00 6.25e-02h  5\n",
      " 129  7.7641864e+03 0.00e+00 3.24e-05 -11.0 8.38e-08    -  1.00e+00 1.00e+00f  1\n",
      "iter    objective    inf_pr   inf_du lg(mu)  ||d||  lg(rg) alpha_du alpha_pr  ls\n",
      " 130  7.7641864e+03 0.00e+00 1.45e-03 -11.0 3.99e-07    -  1.00e+00 1.00e+00f  1\n",
      " 131  7.7641864e+03 0.00e+00 1.96e-03 -11.0 1.38e-07    -  1.00e+00 5.00e-01f  2\n",
      " 132  7.7641864e+03 0.00e+00 2.71e-03 -11.0 8.09e-07    -  1.00e+00 5.00e-01f  2\n",
      " 133  7.7641864e+03 0.00e+00 1.61e-03 -11.0 1.44e-05    -  1.00e+00 6.25e-02h  5\n",
      " 134  7.7641864e+03 0.00e+00 2.02e-03 -11.0 1.52e-06    -  1.00e+00 5.00e-01f  2\n",
      " 135  7.7641864e+03 0.00e+00 2.56e-03 -11.0 6.14e-06    -  1.00e+00 6.25e-02h  5\n",
      " 136  7.7641864e+03 0.00e+00 1.82e-03 -11.0 9.75e-07    -  1.00e+00 2.50e-01f  3\n",
      " 137  7.7641864e+03 0.00e+00 5.38e-03 -11.0 2.09e-05    -  1.00e+00 6.25e-02h  5\n",
      " 138  7.7641864e+03 0.00e+00 3.94e-03 -11.0 2.94e-07    -  1.00e+00 2.50e-01f  3\n",
      " 139  7.7641864e+03 0.00e+00 3.34e-03 -11.0 1.24e-06    -  1.00e+00 1.00e+00f  1\n",
      "iter    objective    inf_pr   inf_du lg(mu)  ||d||  lg(rg) alpha_du alpha_pr  ls\n",
      " 140  7.7641864e+03 0.00e+00 2.39e-02 -11.0 2.72e-05    -  1.00e+00 6.25e-02h  5\n",
      " 141  7.7641864e+03 0.00e+00 2.78e-04 -11.0 1.90e-06    -  1.00e+00 1.00e+00f  1\n",
      " 142  7.7641864e+03 0.00e+00 7.80e-04 -11.0 4.60e-06    -  1.00e+00 1.25e-01f  4\n",
      " 143  7.7641864e+03 0.00e+00 1.14e-03 -11.0 7.23e-08    -  1.00e+00 2.50e-01f  3\n",
      " 144  7.7641864e+03 0.00e+00 2.74e-04 -11.0 5.20e-07    -  1.00e+00 1.00e+00f  1\n",
      " 145  7.7641864e+03 0.00e+00 1.97e-03 -11.0 2.92e-06    -  1.00e+00 6.25e-02h  5\n",
      " 146  7.7641864e+03 0.00e+00 6.35e-04 -11.0 2.23e-07    -  1.00e+00 1.00e+00f  1\n",
      " 147  7.7641864e+03 0.00e+00 1.56e-03 -11.0 8.59e-06    -  1.00e+00 6.25e-02h  5\n",
      " 148  7.7641864e+03 0.00e+00 1.12e-03 -11.0 9.19e-07    -  1.00e+00 5.00e-01f  2\n",
      " 149  7.7641864e+03 0.00e+00 1.13e-02 -11.0 3.00e-05    -  1.00e+00 6.25e-02h  5\n",
      "iter    objective    inf_pr   inf_du lg(mu)  ||d||  lg(rg) alpha_du alpha_pr  ls\n",
      " 150  7.7641864e+03 0.00e+00 1.05e-02 -11.0 1.98e-06    -  1.00e+00 6.25e-02h  5\n",
      " 151  7.7641864e+03 0.00e+00 1.42e-03 -11.0 2.54e-06    -  1.00e+00 1.00e+00f  1\n",
      " 152  7.7641864e+03 0.00e+00 1.24e-02 -11.0 8.32e-05    -  1.00e+00 6.25e-02h  5\n",
      " 153  7.7641864e+03 0.00e+00 3.55e-03 -11.0 4.39e-06    -  1.00e+00 1.00e+00f  1\n",
      " 154  7.7641864e+03 0.00e+00 1.22e-01 -11.0 1.94e-04    -  1.00e+00 6.25e-02h  5\n",
      " 155  7.7641864e+03 0.00e+00 8.30e-04 -11.0 1.17e-05    -  1.00e+00 1.00e+00f  1\n",
      " 156  7.7641864e+03 0.00e+00 3.92e-03 -11.0 1.76e-05    -  1.00e+00 6.25e-02h  5\n",
      " 157  7.7641864e+03 0.00e+00 2.77e-03 -11.0 1.65e-07    -  1.00e+00 6.25e-02f  5\n",
      " 158  7.7641864e+03 0.00e+00 9.11e-05 -11.0 9.41e-07    -  1.00e+00 1.00e+00f  1\n",
      " 159  7.7641864e+03 0.00e+00 5.69e-04 -11.0 2.91e-06    -  1.00e+00 6.25e-02f  5\n",
      "iter    objective    inf_pr   inf_du lg(mu)  ||d||  lg(rg) alpha_du alpha_pr  ls\n",
      " 160  7.7641864e+03 0.00e+00 3.10e-05 -11.0 1.57e-07    -  1.00e+00 1.00e+00f  1\n",
      " 161  7.7641864e+03 0.00e+00 9.77e-04 -11.0 1.27e-06    -  1.00e+00 2.50e-01f  3\n",
      " 162  7.7641864e+03 0.00e+00 2.53e-05 -11.0 3.12e-07    -  1.00e+00 1.00e+00f  1\n",
      " 163  7.7641864e+03 0.00e+00 1.54e-03 -11.0 1.17e-06    -  1.00e+00 1.25e-01f  4\n",
      " 164  7.7641864e+03 0.00e+00 7.69e-04 -11.0 1.14e-07    -  1.00e+00 1.00e+00f  1\n",
      " 165  7.7641864e+03 0.00e+00 1.79e-03 -11.0 2.02e-06    -  1.00e+00 6.25e-02h  5\n",
      " 166  7.7641864e+03 0.00e+00 1.26e-03 -11.0 3.21e-07    -  1.00e+00 5.00e-01f  2\n",
      " 167  7.7641864e+03 0.00e+00 3.58e-03 -11.0 1.30e-05    -  1.00e+00 6.25e-02h  5\n",
      " 168  7.7641864e+03 0.00e+00 2.93e-03 -11.0 5.98e-06    -  1.00e+00 6.25e-02f  5\n",
      " 169  7.7641864e+03 0.00e+00 1.72e-03 -11.0 1.17e-06    -  1.00e+00 5.00e-01f  2\n",
      "iter    objective    inf_pr   inf_du lg(mu)  ||d||  lg(rg) alpha_du alpha_pr  ls\n",
      " 170  7.7641864e+03 0.00e+00 4.54e-03 -11.0 4.03e-05    -  1.00e+00 6.25e-02h  5\n",
      " 171  7.7641864e+03 0.00e+00 5.49e-03 -11.0 1.85e-06    -  1.00e+00 1.00e+00f  1\n",
      " 172  7.7641864e+03 0.00e+00 9.35e-02 -11.0 3.33e-04    -  1.00e+00 6.25e-02h  5\n",
      " 173  7.7641864e+03 0.00e+00 5.68e-04 -11.0 2.04e-05    -  1.00e+00 1.00e+00f  1\n",
      " 174  7.7641864e+03 0.00e+00 1.71e-02 -11.0 3.52e-05    -  1.00e+00 6.25e-02h  5\n",
      " 175  7.7641864e+03 0.00e+00 1.32e-03 -11.0 2.53e-06    -  1.00e+00 1.00e+00f  1\n",
      " 176  7.7641864e+03 0.00e+00 2.49e-02 -11.0 1.40e-05    -  1.00e+00 6.25e-02h  5\n",
      " 177  7.7641864e+03 0.00e+00 4.47e-03 -11.0 8.31e-07    -  1.00e+00 1.00e+00f  1\n",
      " 178  7.7641864e+03 0.00e+00 2.54e-03 -11.0 6.69e-06    -  1.00e+00 2.50e-01f  3\n",
      " 179  7.7641864e+03 0.00e+00 1.98e-02 -11.0 6.22e-05    -  1.00e+00 6.25e-02h  5\n",
      "iter    objective    inf_pr   inf_du lg(mu)  ||d||  lg(rg) alpha_du alpha_pr  ls\n",
      " 180  7.7641864e+03 0.00e+00 1.55e-02 -11.0 6.86e-06    -  1.00e+00 1.00e+00f  1\n",
      " 181  7.7641864e+03 0.00e+00 3.52e-01 -11.0 4.34e-04    -  1.00e+00 6.25e-02h  5\n",
      " 182  7.7641864e+03 0.00e+00 4.72e-04 -11.0 2.37e-05    -  1.00e+00 1.00e+00f  1\n",
      " 183  7.7641864e+03 0.00e+00 1.49e-03 -11.0 4.37e-06    -  1.00e+00 6.25e-02h  5\n",
      " 184  7.7641864e+03 0.00e+00 3.06e-03 -11.0 5.52e-07    -  1.00e+00 6.25e-02f  5\n",
      " 185  7.7641864e+03 0.00e+00 3.28e-06 -11.0 1.73e-07    -  1.00e+00 1.00e+00f  1\n",
      " 186  7.7641864e+03 0.00e+00 2.59e-05 -11.0 1.14e-08    -  1.00e+00 1.00e+00f  1\n",
      " 187  7.7641864e+03 0.00e+00 1.32e-06 -11.0 9.94e-09    -  1.00e+00 1.00e+00f  1\n",
      " 188  7.7641864e+03 0.00e+00 3.18e-05 -11.0 1.22e-08    -  1.00e+00 1.00e+00f  1\n",
      " 189  7.7641864e+03 0.00e+00 2.09e-05 -11.0 1.03e-08    -  1.00e+00 5.00e-01f  2\n",
      "iter    objective    inf_pr   inf_du lg(mu)  ||d||  lg(rg) alpha_du alpha_pr  ls\n",
      " 190  7.7641864e+03 0.00e+00 4.46e-04 -11.0 1.32e-06    -  1.00e+00 6.25e-02h  5\n",
      " 191  7.7641864e+03 0.00e+00 1.08e-05 -11.0 7.45e-08    -  1.00e+00 1.00e+00f  1\n",
      " 192  7.7641864e+03 0.00e+00 1.75e-03 -11.0 4.28e-07    -  1.00e+00 5.00e-01f  2\n",
      " 193  7.7641864e+03 0.00e+00 8.78e-06 -11.0 2.13e-07    -  1.00e+00 1.00e+00f  1\n",
      " 194  7.7641864e+03 0.00e+00 5.17e-04 -11.0 9.64e-08    -  1.00e+00 2.50e-01f  3\n",
      " 195  7.7641864e+03 0.00e+00 3.88e-04 -11.0 2.30e-08    -  1.00e+00 2.50e-01f  3\n",
      " 196  7.7641864e+03 0.00e+00 1.68e-05 -11.0 2.44e-08    -  1.00e+00 1.00e+00f  1\n",
      " 197  7.7641864e+03 0.00e+00 9.27e-06 -11.0 1.47e-07    -  1.00e+00 6.25e-02h  5\n",
      " 198  7.7641864e+03 0.00e+00 7.92e-05 -11.0 1.77e-07    -  1.00e+00 6.25e-02h  5\n",
      " 199  7.7641864e+03 0.00e+00 2.38e-04 -11.0 4.23e-08    -  1.00e+00 1.00e+00f  1\n",
      "iter    objective    inf_pr   inf_du lg(mu)  ||d||  lg(rg) alpha_du alpha_pr  ls\n",
      " 200  7.7641864e+03 0.00e+00 9.07e-04 -11.0 5.21e-08    -  1.00e+00 1.00e+00f  1\n",
      " 201  7.7641864e+03 0.00e+00 1.49e-04 -11.0 9.51e-08    -  1.00e+00 1.00e+00f  1\n",
      " 202  7.7641864e+03 0.00e+00 1.47e-03 -11.0 7.22e-07    -  1.00e+00 2.50e-01f  3\n",
      " 203  7.7641864e+03 0.00e+00 8.36e-06 -11.0 1.62e-07    -  1.00e+00 1.00e+00f  1\n",
      " 204  7.7641864e+03 0.00e+00 4.09e-04 -11.0 1.16e-08    -  1.00e+00 2.50e-01f  3\n",
      " 205  7.7641864e+03 0.00e+00 4.83e-07 -11.0 2.85e-09    -  1.00e+00 1.00e+00f  1\n",
      "\n",
      "Number of Iterations....: 205\n",
      "\n",
      "                                   (scaled)                 (unscaled)\n",
      "Objective...............:   6.2253027716758861e+03    7.7641864223152907e+03\n",
      "Dual infeasibility......:   4.8332893290921662e-07    6.0280697598835697e-07\n",
      "Constraint violation....:   0.0000000000000000e+00    0.0000000000000000e+00\n",
      "Complementarity.........:   9.9999999999999994e-12    1.2471982017711773e-11\n",
      "Overall NLP error.......:   4.8332893290921662e-07    6.0280697598835697e-07\n",
      "\n",
      "\n",
      "Number of objective function evaluations             = 1095\n",
      "Number of objective gradient evaluations             = 206\n",
      "Number of equality constraint evaluations            = 0\n",
      "Number of inequality constraint evaluations          = 0\n",
      "Number of equality constraint Jacobian evaluations   = 0\n",
      "Number of inequality constraint Jacobian evaluations = 0\n",
      "Number of Lagrangian Hessian evaluations             = 0\n",
      "Total CPU secs in IPOPT (w/o function evaluations)   =      0.737\n",
      "Total CPU secs in NLP function evaluations           =      3.053\n",
      "\n",
      "EXIT: Optimal Solution Found.\n",
      "  5.121966 seconds (31.25 M allocations: 966.716 MiB, 5.61% gc time, 29.87% compilation time)\n"
     ]
    }
   ],
   "source": [
    "@time optm = QuasiCopula.fit!(qc_model,\n",
    "    Ipopt.IpoptSolver(\n",
    "        print_level = 5, \n",
    "        tol = 10^-6, \n",
    "        max_iter = 1000,\n",
    "        accept_after_max_steps = 4,\n",
    "        warm_start_init_point=\"yes\", \n",
    "        limited_memory_max_history = 6, # default value\n",
    "        hessian_approximation = \"limited-memory\",\n",
    "#         derivative_test=\"second-order\"\n",
    "    )\n",
    ");"
   ]
  },
  {
   "cell_type": "code",
   "execution_count": 6,
   "metadata": {
    "collapsed": false
   },
   "outputs": [
    {
     "name": "stdout",
     "output_type": "stream",
     "text": [
      "βtrue = [0.019926508247760877, 0.010309257172965214, 0.05956897900629837]\n",
      "qc_model.β = [0.018853520224190425, 0.010251793750080783, 0.06290805209311491]\n",
      "qc_model.∇β = [-4.2149996204443596e-7, -1.4069079767864423e-7, 6.02806975988357e-7]\n",
      "θtrue = [0.1]\n",
      "qc_model.θ = [0.08645001492589563]\n",
      "qc_model.∇θ = [-1.6855941531446206e-8]\n"
     ]
    }
   ],
   "source": [
    "@show βtrue\n",
    "@show qc_model.β\n",
    "@show qc_model.∇β\n",
    "\n",
    "@show θtrue\n",
    "@show qc_model.θ\n",
    "@show qc_model.∇θ;"
   ]
  },
  {
   "cell_type": "markdown",
   "metadata": {},
   "source": [
    "## Is $\\nabla_\\beta res$ calculated correctly? \n",
    "\n",
    "We can check using ForwardDiff\n",
    "\n",
    "The function is \n",
    "\n",
    "$$res_{ij}(\\beta) = \\frac{y_{ij} - \\mu_{ij}}{\\sqrt{\\sigma_{ij}^2(\\beta)}}$$\n",
    "\n",
    "### Normal\n",
    "\n",
    "Assumes y, X are given. We calculate the residuals for just 1 sample"
   ]
  },
  {
   "cell_type": "code",
   "execution_count": 2,
   "metadata": {
    "collapsed": false
   },
   "outputs": [
    {
     "name": "stdout",
     "output_type": "stream",
     "text": [
      "resβ(β) = [-1.5263015405222384, -2.6945001310537258, -1.9847678519577736, -0.900074590336336]\n"
     ]
    },
    {
     "data": {
      "text/plain": [
       "12×2 Matrix{Float64}:\n",
       " -1.0        -1.0\n",
       " -1.0        -1.0\n",
       " -1.0        -1.0\n",
       " -1.0        -1.0\n",
       "  2.07458     2.07458\n",
       " -1.94686    -1.94686\n",
       "  0.0808759   0.0808759\n",
       "  0.154606    0.154606\n",
       " -0.931964   -0.931964\n",
       " -2.26098    -2.26098\n",
       " -1.19819    -1.19819\n",
       "  0.0763038   0.0763038"
      ]
     },
     "execution_count": 2,
     "metadata": {},
     "output_type": "execute_result"
    }
   ],
   "source": [
    "# sample data\n",
    "X = qc_model.data[1].X # d by p\n",
    "y = qc_model.data[1].y # d by 1\n",
    "\n",
    "# objective\n",
    "function resβ(β)\n",
    "    η = X * β # d by 1\n",
    "    μ = GLM.linkinv.(IdentityLink(), η)\n",
    "    varμ = GLM.glmvar.(Normal(), μ)\n",
    "    return (y - μ) ./ sqrt.(varμ) # d by 1\n",
    "end\n",
    "\n",
    "# mathematical gradient\n",
    "function ∇resβ(β)\n",
    "    d, p = size(X)\n",
    "    ∇resβ = zeros(d, p)\n",
    "    for i in 1:p, j in 1:d\n",
    "        ∇resβ[j, i] = -X[j, i]\n",
    "    end\n",
    "    return ∇resβ # d × p\n",
    "end\n",
    "\n",
    "# autodiff gradient\n",
    "∇resβ_autodiff = x -> ForwardDiff.jacobian(resβ, x)\n",
    "\n",
    "# random beta vector\n",
    "β = rand(size(qc_model.data[1].X, 2))\n",
    "\n",
    "# check objective\n",
    "@show resβ(β)\n",
    "\n",
    "# compare mathematical and numerical gradient\n",
    "[vec(∇resβ(β)) vec(∇resβ_autodiff(β))]"
   ]
  },
  {
   "cell_type": "markdown",
   "metadata": {},
   "source": [
    "### Bernoulli"
   ]
  },
  {
   "cell_type": "code",
   "execution_count": 3,
   "metadata": {
    "collapsed": false
   },
   "outputs": [
    {
     "name": "stdout",
     "output_type": "stream",
     "text": [
      "resβ(β) = [1.3943163199970943, 0.24515130649692646, 0.6580775661179072, 0.6577805352369949, 0.390446316792847]\n"
     ]
    },
    {
     "data": {
      "text/plain": [
       "15×2 Matrix{Float64}:\n",
       " -0.697158   -0.697158\n",
       " -0.122576   -0.122576\n",
       " -0.329039   -0.329039\n",
       " -0.32889    -0.32889\n",
       " -0.195223   -0.195223\n",
       "  1.44631     1.44631\n",
       " -0.238638   -0.238638\n",
       "  0.0266113   0.0266113\n",
       "  0.0508486   0.0508486\n",
       " -0.181941   -0.181941\n",
       " -1.57626    -1.57626\n",
       " -0.146869   -0.146869\n",
       "  0.0251069   0.0251069\n",
       " -0.154771   -0.154771\n",
       " -0.201156   -0.201156"
      ]
     },
     "execution_count": 3,
     "metadata": {},
     "output_type": "execute_result"
    }
   ],
   "source": [
    "# sample data\n",
    "X = qc_model.data[1].X # d by p\n",
    "y = qc_model.data[1].y # d by 1\n",
    "\n",
    "# objective\n",
    "function resβ(β)\n",
    "    η = X * β # d by 1\n",
    "    μ = GLM.linkinv.(LogitLink(), η)\n",
    "    varμ = GLM.glmvar.(Bernoulli(), μ)\n",
    "    return (y - μ) ./ sqrt.(varμ) # d by 1\n",
    "end\n",
    "\n",
    "# mathematical gradient\n",
    "function ∇resβ(β)\n",
    "    d, p = size(X)\n",
    "    ∇resβ = zeros(d, p)\n",
    "    η = X * β # d by 1\n",
    "    μ = GLM.linkinv.(LogitLink(), η) # d by 1\n",
    "    varμ = GLM.glmvar.(Bernoulli(), μ) # d by 1\n",
    "    res = (y - μ) ./ sqrt.(varμ) # d by 1\n",
    "    for i in 1:p, j in 1:d\n",
    "        varμ_j = varμ[j]\n",
    "        x_ji = X[j, i]\n",
    "        res_j = res[j]\n",
    "        μ_j = μ[j]\n",
    "        ∇resβ[j, i] = -sqrt(varμ_j) * x_ji - (0.5 * res_j * (1 - 2μ_j) * x_ji)\n",
    "    end\n",
    "    return ∇resβ # d × p\n",
    "end\n",
    "\n",
    "# autodiff gradient\n",
    "∇resβ_autodiff = x -> ForwardDiff.jacobian(resβ, x)\n",
    "\n",
    "# random beta vector\n",
    "β = rand(size(qc_model.data[1].X, 2))\n",
    "\n",
    "# check objective\n",
    "@show resβ(β)\n",
    "\n",
    "# compare mathematical and numerical gradient\n",
    "[vec(∇resβ(β)) vec(∇resβ_autodiff(β))]"
   ]
  },
  {
   "cell_type": "markdown",
   "metadata": {},
   "source": [
    "### Poisson"
   ]
  },
  {
   "cell_type": "code",
   "execution_count": 61,
   "metadata": {
    "collapsed": false
   },
   "outputs": [
    {
     "name": "stdout",
     "output_type": "stream",
     "text": [
      "resβ(β) = [0.8012638765796852, -6.734952547066679, -1.3994071698413866, -0.48023808695797]\n"
     ]
    },
    {
     "data": {
      "text/plain": [
       "12×2 Matrix{Float64}:\n",
       " -1.07727    -1.07727\n",
       " -3.65238    -3.65238\n",
       " -1.22049    -1.22049\n",
       " -1.02842    -1.02842\n",
       "  2.23488     2.23488\n",
       " -7.11068    -7.11068\n",
       "  0.0987079   0.0987079\n",
       "  0.159001    0.159001\n",
       " -1.00397    -1.00397\n",
       " -8.25796    -8.25796\n",
       " -1.46237    -1.46237\n",
       "  0.0784727   0.0784727"
      ]
     },
     "execution_count": 61,
     "metadata": {},
     "output_type": "execute_result"
    }
   ],
   "source": [
    "# sample data\n",
    "X = qc_model.data[1].X # d by p\n",
    "y = qc_model.data[1].y # d by 1\n",
    "\n",
    "# objective\n",
    "function resβ(β)\n",
    "    η = X * β # d by 1\n",
    "    μ = GLM.linkinv.(LogLink(), η)\n",
    "    varμ = GLM.glmvar.(Poisson(), μ)\n",
    "    return (y - μ) ./ sqrt.(varμ) # d by 1\n",
    "end\n",
    "\n",
    "# mathematical gradient\n",
    "function ∇resβ(β)\n",
    "    d, p = size(X)\n",
    "    ∇resβ = zeros(d, p)\n",
    "    η = X * β # d by 1\n",
    "    μ = GLM.linkinv.(LogLink(), η) # d by 1\n",
    "    varμ = GLM.glmvar.(Poisson(), μ) # d by 1\n",
    "    res = (y - μ) ./ sqrt.(varμ) # d by 1\n",
    "    dμ = GLM.mueta.(LogLink(), η) # d by 1\n",
    "    for i in 1:p, j in 1:d\n",
    "        varμ_j = varμ[j]\n",
    "        x_ji = X[j, i]\n",
    "        res_j = res[j]\n",
    "        μ_j = μ[j]\n",
    "        dμ_j = dμ[j]\n",
    "        ∇resβ[j, i] = x_ji * (-(inv(sqrt(varμ_j)) + (0.5 * inv(varμ_j)) * res_j) * dμ_j)\n",
    "    end\n",
    "    return ∇resβ # d × p\n",
    "end\n",
    "\n",
    "# autodiff gradient\n",
    "∇resβ_autodiff = x -> ForwardDiff.jacobian(resβ, x)\n",
    "\n",
    "# random beta vector\n",
    "β = rand(size(qc_model.data[1].X, 2))\n",
    "\n",
    "# check objective\n",
    "@show resβ(β)\n",
    "\n",
    "# compare mathematical and numerical gradient\n",
    "[vec(∇resβ(β)) vec(∇resβ_autodiff(β))]"
   ]
  },
  {
   "cell_type": "markdown",
   "metadata": {},
   "source": [
    "## Is Gradient of likelihood correct?"
   ]
  },
  {
   "cell_type": "code",
   "execution_count": 23,
   "metadata": {
    "collapsed": false
   },
   "outputs": [
    {
     "data": {
      "text/plain": [
       "autodiff_loglikelihood (generic function with 1 method)"
      ]
     },
     "execution_count": 23,
     "metadata": {},
     "output_type": "execute_result"
    }
   ],
   "source": [
    "function A_mul_b!(c::AbstractVector{T}, A::AbstractMatrix, b::AbstractVector) where T\n",
    "    n, p = size(A)\n",
    "    fill!(c, zero(T))\n",
    "    for j in 1:p, i in 1:n\n",
    "        c[i] += A[i, j] * b[j]\n",
    "    end\n",
    "    return c\n",
    "end\n",
    "\n",
    "function loglikelihood(\n",
    "    β::AbstractVector{T}, \n",
    "    qc_model::Union{GLMCopulaVCModel, NBCopulaVCModel}\n",
    "    ) where T\n",
    "    θ = qc_model.θ\n",
    "    # allocate vector of type T\n",
    "    n, p = size(qc_model.data[1].X)\n",
    "    η = zeros(T, n)\n",
    "    μ = zeros(T, n)\n",
    "    varμ = zeros(T, n)\n",
    "    res = zeros(T, n)\n",
    "    storage_n = zeros(T, n)\n",
    "    q = zeros(T, length(θ))\n",
    "    logl = zero(T)\n",
    "    for gc in qc_model.data\n",
    "        X = gc.X\n",
    "        y = gc.y\n",
    "        n, p = size(X)\n",
    "        # update_res! step (need to avoid BLAS)\n",
    "        A_mul_b!(η, X, β)\n",
    "        for i in 1:gc.n\n",
    "            μ[i] = GLM.linkinv(gc.link, η[i])\n",
    "            varμ[i] = GLM.glmvar(gc.d, μ[i]) # Note: for negative binomial, d.r is used\n",
    "#             dμ[i] = GLM.mueta(gc.link, η[i])\n",
    "#             w1[i] = dμ[i] / varμ[i]\n",
    "#             w2[i] = w1[i] * dμ[i]\n",
    "            res[i] = y[i] - μ[i]\n",
    "        end\n",
    "        # standardize_res! step\n",
    "        for j in eachindex(y)\n",
    "            res[j] /= sqrt(varμ[j])\n",
    "        end\n",
    "        # std_res_differential! step (this will compute ∇resβ)\n",
    "#         for i in 1:gc.p\n",
    "#             for j in 1:gc.n\n",
    "#                 ∇resβ[j, i] = -sqrt(varμ[j]) * X[j, i] - (0.5 * res[j] * (1 - (2 * μ[j])) * X[j, i])\n",
    "#             end\n",
    "#         end\n",
    "        # update Γ\n",
    "        @inbounds for k in 1:gc.m\n",
    "            A_mul_b!(storage_n, gc.V[k], res)\n",
    "            q[k] = dot(res, storage_n) / 2 # q[k] = 0.5 r' * V[k] * r (update variable b for variance component model)\n",
    "        end\n",
    "        # component_loglikelihood\n",
    "        for j in 1:gc.n\n",
    "            logl += QuasiCopula.loglik_obs(gc.d, y[j], μ[j], one(T), one(T))\n",
    "        end\n",
    "        tsum = dot(θ, gc.t)\n",
    "        logl += -log(1 + tsum)\n",
    "        qsum  = dot(θ, q) # qsum = 0.5 r'Γr\n",
    "        logl += log(1 + qsum)\n",
    "    end\n",
    "    return logl\n",
    "end\n",
    "\n",
    "function loglikelihood(\n",
    "    β::AbstractVector{T}, \n",
    "    gcm::GaussianCopulaVCModel\n",
    "    ) where T\n",
    "    θ = gcm.θ\n",
    "    τ = gcm.τ[1]\n",
    "    # allocate vector of type T\n",
    "    n, p = size(gcm.data[1].X)\n",
    "    μ = zeros(T, n)\n",
    "    res = zeros(T, n)\n",
    "    storage_n = zeros(T, n)\n",
    "    q = zeros(T, length(θ))\n",
    "    logl = zero(T)\n",
    "    for gc in gcm.data\n",
    "        X = gc.X\n",
    "        y = gc.y\n",
    "        n, p = size(X)\n",
    "        sqrtτ = sqrt(abs(τ))\n",
    "        # update_res! step (need to avoid BLAS)\n",
    "        A_mul_b!(μ, X, β)\n",
    "        for i in 1:gc.n\n",
    "            res[i] = y[i] - μ[i]\n",
    "        end\n",
    "        # standardize_res! step\n",
    "        res .*= sqrtτ\n",
    "        rss  = abs2(norm(res)) # RSS of standardized residual\n",
    "        tsum = dot(abs.(θ), gc.t) # ben: why is there abs here?\n",
    "        logl += - log(1 + tsum) - (gc.n * log(2π) -  gc.n * log(abs(τ)) + rss) / 2\n",
    "        # update Γ\n",
    "        @inbounds for k in 1:gc.m\n",
    "            A_mul_b!(storage_n, gc.V[k], res)\n",
    "            q[k] = dot(res, storage_n) / 2 # q[k] = 0.5 r' * V[k] * r (update variable b for variance component model)\n",
    "        end\n",
    "        qsum  = dot(θ, q)\n",
    "        logl += log(1 + qsum)\n",
    "    end\n",
    "    return logl\n",
    "end\n",
    "\n",
    "# sample data\n",
    "autodiff_loglikelihood(β) = loglikelihood(β, qc_model)\n"
   ]
  },
  {
   "cell_type": "code",
   "execution_count": 24,
   "metadata": {
    "collapsed": false
   },
   "outputs": [
    {
     "data": {
      "text/plain": [
       "3-element Vector{Float64}:\n",
       " -4.2150162871124053e-7\n",
       " -1.4069204867794838e-7\n",
       "  6.028072266350826e-7"
      ]
     },
     "execution_count": 24,
     "metadata": {},
     "output_type": "execute_result"
    }
   ],
   "source": [
    "# autodiff Gradient\n",
    "∇logl = x -> ForwardDiff.gradient(autodiff_loglikelihood, x)\n",
    "∇βtrue = ∇logl(qc_model.β)"
   ]
  },
  {
   "cell_type": "code",
   "execution_count": 25,
   "metadata": {
    "collapsed": false
   },
   "outputs": [
    {
     "data": {
      "text/plain": [
       "3-element Vector{Float64}:\n",
       " -4.2149996204443596e-7\n",
       " -1.4069079767864423e-7\n",
       "  6.02806975988357e-7"
      ]
     },
     "execution_count": 25,
     "metadata": {},
     "output_type": "execute_result"
    }
   ],
   "source": [
    "# gradient from math\n",
    "loglikelihood!(qc_model, true, false)\n",
    "∇βobs = qc_model.∇β"
   ]
  },
  {
   "cell_type": "markdown",
   "metadata": {},
   "source": [
    "# Is Hessian of loglikelihood correct?\n",
    "\n",
    "Hessians for a single observation seems to differ quite a bit"
   ]
  },
  {
   "cell_type": "code",
   "execution_count": 28,
   "metadata": {
    "collapsed": false
   },
   "outputs": [
    {
     "data": {
      "text/plain": [
       "two_term_Hessian (generic function with 2 methods)"
      ]
     },
     "execution_count": 28,
     "metadata": {},
     "output_type": "execute_result"
    }
   ],
   "source": [
    "function two_term_Hessian(gcm::Union{GLMCopulaVCModel, NBCopulaVCModel})\n",
    "    p = length(gcm.β)\n",
    "    T = eltype(gcm.β)\n",
    "    H = zeros(T, p, p)\n",
    "    for gc in gcm.data\n",
    "        d = gc.n # number of observations for current sample\n",
    "        # GLM term\n",
    "        H -= Transpose(gc.X) * Diagonal(gc.w2) * gc.X\n",
    "        # trailing terms\n",
    "        res = gc.res # d × 1 standardized residuals\n",
    "        ∇resβ = gc.∇resβ # d × p\n",
    "        Γ = zeros(T, d, d)\n",
    "        for k in 1:gc.m # loop over variance components\n",
    "            Γ .+= gcm.θ[k] .* gc.V[k]\n",
    "        end\n",
    "        denom = abs2(1 + 0.5 * (res' * Γ * res))\n",
    "        H -= (∇resβ' * Γ * res) * (∇resβ' * Γ * res)' / denom\n",
    "    end\n",
    "    return H\n",
    "end\n",
    "\n",
    "function two_term_Hessian(gcm::GaussianCopulaVCModel)\n",
    "    p = length(gcm.β)\n",
    "    T = eltype(gcm.β)\n",
    "    H = zeros(T, p, p)\n",
    "    for gc in gcm.data\n",
    "        d = gc.n # number of observations for current sample\n",
    "        # GLM term\n",
    "        H -= Transpose(gc.X) * gc.X\n",
    "        # trailing terms\n",
    "        res = gc.res # d × 1 standardized residuals\n",
    "        ∇resβ = -sqrt(gcm.τ[1]) .* gc.X # d × p\n",
    "        Γ = zeros(T, d, d)\n",
    "        for k in 1:gc.m # loop over variance components\n",
    "            Γ .+= gcm.θ[k] .* gc.V[k]\n",
    "        end\n",
    "        denom = abs2(1 + 0.5 * (res' * Γ * res))\n",
    "        H -= (∇resβ' * Γ * res) * (∇resβ' * Γ * res)' / denom\n",
    "    end\n",
    "    return H\n",
    "end"
   ]
  },
  {
   "cell_type": "code",
   "execution_count": 29,
   "metadata": {
    "collapsed": false
   },
   "outputs": [
    {
     "data": {
      "text/plain": [
       "3×3 Matrix{Float64}:\n",
       " -49599.1      -320.636     491.843\n",
       "   -320.636  -29925.5       332.011\n",
       "    491.843     332.011  -29726.3"
      ]
     },
     "execution_count": 29,
     "metadata": {},
     "output_type": "execute_result"
    }
   ],
   "source": [
    "# 2 term Hessian from math\n",
    "two_terms_H = two_term_Hessian(qc_model)"
   ]
  },
  {
   "cell_type": "code",
   "execution_count": 30,
   "metadata": {
    "collapsed": false
   },
   "outputs": [
    {
     "data": {
      "text/plain": [
       "3×3 Matrix{Float64}:\n",
       "    -2.68268e5  -920.865         2718.6\n",
       " -1147.02         -2.48128e5     2832.79\n",
       "  2931.52       2874.17       -248250.0"
      ]
     },
     "execution_count": 30,
     "metadata": {},
     "output_type": "execute_result"
    }
   ],
   "source": [
    "# 3 term Hessian from math\n",
    "loglikelihood!(qc_model, true, true)\n",
    "three_terms_H = qc_model.Hβ"
   ]
  },
  {
   "cell_type": "code",
   "execution_count": 31,
   "metadata": {
    "collapsed": false
   },
   "outputs": [
    {
     "data": {
      "text/plain": [
       "3×3 Matrix{Float64}:\n",
       " -181660.0    -973.736      1879.31\n",
       "    -973.736    -2.30584e5  2562.06\n",
       "    1879.31   2562.06         -2.3135e5"
      ]
     },
     "execution_count": 31,
     "metadata": {},
     "output_type": "execute_result"
    }
   ],
   "source": [
    "# autodiff Hessian\n",
    "∇²logl = x -> ForwardDiff.hessian(autodiff_loglikelihood, x)\n",
    "autodiff_H = ∇²logl(qc_model.β)"
   ]
  },
  {
   "cell_type": "code",
   "execution_count": 32,
   "metadata": {
    "collapsed": false
   },
   "outputs": [
    {
     "data": {
      "text/plain": [
       "3×3 Matrix{Float64}:\n",
       " -2.01663e-5   2.12396e-7  -3.31294e-7\n",
       "  2.12396e-7  -3.34226e-5  -3.69781e-7\n",
       " -3.31294e-7  -3.69781e-7  -3.36499e-5"
      ]
     },
     "execution_count": 32,
     "metadata": {},
     "output_type": "execute_result"
    }
   ],
   "source": [
    "# 2 term inv Hessian from math\n",
    "inv(two_terms_H)"
   ]
  },
  {
   "cell_type": "code",
   "execution_count": 33,
   "metadata": {
    "collapsed": false
   },
   "outputs": [
    {
     "data": {
      "text/plain": [
       "3×3 Matrix{Float64}:\n",
       " -3.72812e-6   1.33649e-8  -4.06744e-8\n",
       "  1.67336e-8  -4.03078e-6  -4.58122e-8\n",
       " -4.38307e-8  -4.65093e-8  -4.02921e-6"
      ]
     },
     "execution_count": 33,
     "metadata": {},
     "output_type": "execute_result"
    }
   ],
   "source": [
    "# 3 term inv Hessian from math\n",
    "inv(three_terms_H)"
   ]
  },
  {
   "cell_type": "code",
   "execution_count": 34,
   "metadata": {
    "collapsed": false
   },
   "outputs": [
    {
     "data": {
      "text/plain": [
       "3×3 Matrix{Float64}:\n",
       " -5.50537e-6   2.27546e-8  -4.44693e-8\n",
       "  2.27546e-8  -4.33744e-6  -4.78496e-8\n",
       " -4.44693e-8  -4.78496e-8  -4.32334e-6"
      ]
     },
     "execution_count": 34,
     "metadata": {},
     "output_type": "execute_result"
    }
   ],
   "source": [
    "# autodiff inv Hessian\n",
    "inv(autodiff_H)"
   ]
  },
  {
   "cell_type": "code",
   "execution_count": 35,
   "metadata": {
    "collapsed": false,
    "scrolled": true
   },
   "outputs": [
    {
     "data": {
      "text/plain": [
       "9×3 Matrix{Float64}:\n",
       " -181660.0        -49599.1         -2.68268e5\n",
       "    -973.736        -320.636    -1147.02\n",
       "    1879.31          491.843     2931.52\n",
       "    -973.736        -320.636     -920.865\n",
       "      -2.30584e5  -29925.5         -2.48128e5\n",
       "    2562.06          332.011     2874.17\n",
       "    1879.31          491.843     2718.6\n",
       "    2562.06          332.011     2832.79\n",
       "      -2.3135e5   -29726.3    -248250.0"
      ]
     },
     "execution_count": 35,
     "metadata": {},
     "output_type": "execute_result"
    }
   ],
   "source": [
    "[vec(autodiff_H) vec(two_terms_H) vec(three_terms_H)]"
   ]
  },
  {
   "cell_type": "code",
   "execution_count": 36,
   "metadata": {
    "collapsed": false
   },
   "outputs": [
    {
     "data": {
      "text/plain": [
       "9×3 Matrix{Float64}:\n",
       " -5.50537e-6  -2.01663e-5  -3.72812e-6\n",
       "  2.27546e-8   2.12396e-7   1.67336e-8\n",
       " -4.44693e-8  -3.31294e-7  -4.38307e-8\n",
       "  2.27546e-8   2.12396e-7   1.33649e-8\n",
       " -4.33744e-6  -3.34226e-5  -4.03078e-6\n",
       " -4.78496e-8  -3.69781e-7  -4.65093e-8\n",
       " -4.44693e-8  -3.31294e-7  -4.06744e-8\n",
       " -4.78496e-8  -3.69781e-7  -4.58122e-8\n",
       " -4.32334e-6  -3.36499e-5  -4.02921e-6"
      ]
     },
     "execution_count": 36,
     "metadata": {},
     "output_type": "execute_result"
    }
   ],
   "source": [
    "[vec(inv(autodiff_H)) vec(inv(two_terms_H)) vec(inv(three_terms_H))]"
   ]
  },
  {
   "cell_type": "code",
   "execution_count": null,
   "metadata": {
    "collapsed": true
   },
   "outputs": [],
   "source": []
  },
  {
   "cell_type": "code",
   "execution_count": null,
   "metadata": {
    "collapsed": true
   },
   "outputs": [],
   "source": []
  },
  {
   "cell_type": "code",
   "execution_count": null,
   "metadata": {
    "collapsed": true
   },
   "outputs": [],
   "source": []
  }
 ],
 "metadata": {
  "@webio": {
   "lastCommId": null,
   "lastKernelId": null
  },
  "kernelspec": {
   "display_name": "Julia 1.7.3",
   "language": "julia",
   "name": "julia-1.7"
  },
  "language_info": {
   "file_extension": ".jl",
   "mimetype": "application/julia",
   "name": "julia",
   "version": "1.7.3"
  }
 },
 "nbformat": 4,
 "nbformat_minor": 2
}
