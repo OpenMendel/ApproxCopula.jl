{
 "cells": [
  {
   "cell_type": "markdown",
   "metadata": {},
   "source": [
    "# Longitudinal QuasiCopula GWAS\n",
    "\n",
    "Here we adopt the variance component model framework\n",
    "\n",
    "$$\\mathbf{\\Gamma}_i(\\mathbf{\\theta}) = \\sum_{k=1}^m \\theta_k\\mathbf{V}_{ik}, \\quad \\theta_k \\ge 0$$"
   ]
  },
  {
   "cell_type": "code",
   "execution_count": 1,
   "metadata": {
    "collapsed": false
   },
   "outputs": [
    {
     "name": "stderr",
     "output_type": "stream",
     "text": [
      "\u001b[36m\u001b[1m[ \u001b[22m\u001b[39m\u001b[36m\u001b[1mInfo: \u001b[22m\u001b[39mPrecompiling QuasiCopula [c47b6ae2-b804-4668-9957-eb588c99ffbc]\n",
      "WARNING: method definition for pmf_copula! at /Users/biona001/.julia/dev/QuasiCopula/src/generate_random_deviates/discrete_rand.jl:86 declares type variable T but does not use it.\n",
      "WARNING: method definition for rand at /Users/biona001/.julia/dev/QuasiCopula/src/generate_random_deviates/discrete_rand.jl:128 declares type variable T but does not use it.\n",
      "WARNING: method definition for rand at /Users/biona001/.julia/dev/QuasiCopula/src/generate_random_deviates/discrete_rand.jl:149 declares type variable T but does not use it.\n",
      "WARNING: Method definition loglikelihood(AbstractArray{T, 1} where T, QuasiCopula.GLMCopulaVCModel{T, D, Link} where Link where D where T<:Union{Float32, Float64}, AbstractArray{T, 1} where T) in module QuasiCopula at /Users/biona001/.julia/dev/QuasiCopula/src/gwas/longitudinal_autodiff.jl:1 overwritten at /Users/biona001/.julia/dev/QuasiCopula/src/gwas/longitudinal_autodiff_fast.jl:6.\n",
      "  ** incremental compilation may be fatally broken for this module **\n",
      "\n"
     ]
    },
    {
     "data": {
      "text/plain": [
       "1"
      ]
     },
     "execution_count": 1,
     "metadata": {},
     "output_type": "execute_result"
    }
   ],
   "source": [
    "using Revise\n",
    "using QuasiCopula\n",
    "using Random\n",
    "using GLM\n",
    "using LinearAlgebra\n",
    "using Statistics\n",
    "using StatsBase\n",
    "\n",
    "ENV[\"COLUMNS\"] = 240\n",
    "BLAS.set_num_threads(1)\n",
    "Threads.nthreads()"
   ]
  },
  {
   "cell_type": "markdown",
   "metadata": {},
   "source": [
    "## Simulate data\n",
    "\n",
    "All SNPs have the same MAF"
   ]
  },
  {
   "cell_type": "code",
   "execution_count": 36,
   "metadata": {
    "collapsed": false
   },
   "outputs": [
    {
     "name": "stdout",
     "output_type": "stream",
     "text": [
      "qc_model = Quasi-Copula Variance Component Model\n",
      "  * base distribution: Bernoulli\n",
      "  * link function: LogitLink\n",
      "  * number of clusters: 10000\n",
      "  * cluster size min, max: 5, 5\n",
      "  * number of variance components: 2\n",
      "  * number of fixed effects: 15\n",
      "\n"
     ]
    }
   ],
   "source": [
    "k = 0 # number of causal SNPs\n",
    "\n",
    "qc_model, G, βtrue, θtrue, γtrue, τtrue = simulate_longitudinal_traits(\n",
    "    n = 10_000, # sample size\n",
    "    d_min = 5, # min number of observations per sample\n",
    "    d_max = 5, # max number of observations per sample\n",
    "    p = 15, # number of fixed effects, including intercept\n",
    "    m = 2, # number of variance components\n",
    "    q = 100, # number of SNPs\n",
    "    k = k, # number of causal SNPs\n",
    "    seed = 2024,\n",
    "    y_distribution = Bernoulli,\n",
    "    τtrue = 0.5,\n",
    "    T = Float64,\n",
    "    maf = 0.3,\n",
    "    causal_snp_β = 0.2\n",
    ")\n",
    "\n",
    "@show qc_model;"
   ]
  },
  {
   "cell_type": "code",
   "execution_count": 64,
   "metadata": {
    "collapsed": false
   },
   "outputs": [
    {
     "data": {
      "text/plain": [
       "5×5 Matrix{Float64}:\n",
       " 0.11  0.1   0.1   0.1   0.1\n",
       " 0.1   0.11  0.1   0.1   0.1\n",
       " 0.1   0.1   0.11  0.1   0.1\n",
       " 0.1   0.1   0.1   0.11  0.1\n",
       " 0.1   0.1   0.1   0.1   0.11"
      ]
     },
     "execution_count": 64,
     "metadata": {},
     "output_type": "execute_result"
    }
   ],
   "source": [
    "# simulated Γ\n",
    "Γ = qc_model.data[1].V[1] * θtrue[1] + qc_model.data[1].V[2] * θtrue[2]"
   ]
  },
  {
   "cell_type": "code",
   "execution_count": 51,
   "metadata": {
    "collapsed": false
   },
   "outputs": [
    {
     "data": {
      "text/plain": [
       "5×5 Matrix{Float64}:\n",
       " 1.0        0.035792   0.0221966  0.0158976  0.0230644\n",
       " 0.035792   1.0        0.0222266  0.0302293  0.0236656\n",
       " 0.0221966  0.0222266  1.0        0.0290245  0.0282382\n",
       " 0.0158976  0.0302293  0.0290245  1.0        0.0249469\n",
       " 0.0230644  0.0236656  0.0282382  0.0249469  1.0"
      ]
     },
     "execution_count": 51,
     "metadata": {},
     "output_type": "execute_result"
    }
   ],
   "source": [
    "# check response\n",
    "Y = hcat([qc_model.data[i].y for i in 1:length(qc_model.data)]...)'\n",
    "Statistics.cor(Y)"
   ]
  },
  {
   "cell_type": "code",
   "execution_count": 52,
   "metadata": {
    "collapsed": false,
    "scrolled": false
   },
   "outputs": [
    {
     "data": {
      "text/plain": [
       "10000×5 adjoint(::Matrix{Float64}) with eltype Float64:\n",
       "  3.93727   -2.34964     1.15502    0.845882   -2.25056\n",
       "  1.239     -1.41874     1.10158   -1.54951     1.55236\n",
       " -2.26558   -3.68031     2.20243    1.10832     1.05051\n",
       "  1.94291    0.630906   -0.123103   2.12125     1.27238\n",
       " -0.256513   2.95857    -4.80642   -0.289042   -2.71634\n",
       "  2.48586    6.17372    -2.65617   -0.834607    1.30696\n",
       "  1.00082    1.04486    -3.16515    0.290777    3.01215\n",
       "  4.06211   -3.00305    -0.199011   4.43849     2.42237\n",
       "  1.33301   -5.50109     1.94873    6.30419    -0.478857\n",
       "  2.67229    2.43302     0.611184  -0.505642   -0.300268\n",
       "  2.63139    5.73512     4.93054   -0.52798    -1.54477\n",
       "  1.54158   -0.164176   -1.30372    0.8517      0.284256\n",
       "  4.39541    1.82224     1.52061    1.25152    -1.28981\n",
       "  ⋮                                            \n",
       "  2.36584   -2.10804     0.968788   1.32022     3.81198\n",
       "  2.13142   -2.20301     2.96436   -2.32653     3.96701\n",
       "  4.53744   -3.48772     1.71259    0.0926616  -2.64173\n",
       "  2.78886   -5.3164      2.26072   -1.04042     1.61284\n",
       " -1.67654   -2.14299     2.48435   -0.232805   -2.2474\n",
       " -0.405466   0.0567123  -1.25456   -2.39835     2.24096\n",
       " -1.72714    0.272565    3.99332    3.804       1.2023\n",
       "  2.82313    1.27172    -1.86456    2.5951      2.21089\n",
       "  0.517578   0.462654   -1.64151   -1.11389     0.877333\n",
       " -2.96819    0.906644    1.68268    2.2441      0.297104\n",
       "  3.67745    1.51459     2.05842    1.87089     3.50333\n",
       "  0.115971  -3.31298     2.4436     0.805064    6.48416"
      ]
     },
     "execution_count": 52,
     "metadata": {},
     "output_type": "execute_result"
    }
   ],
   "source": [
    "Y"
   ]
  },
  {
   "cell_type": "markdown",
   "metadata": {},
   "source": [
    "Mathematically, $cov(Y_k, Y_l) = \\sigma_k\\sigma_l\\gamma_{kl}$. Lets check this."
   ]
  },
  {
   "cell_type": "code",
   "execution_count": 15,
   "metadata": {
    "collapsed": false
   },
   "outputs": [
    {
     "data": {
      "text/plain": [
       "24.229478198003438"
      ]
     },
     "execution_count": 15,
     "metadata": {},
     "output_type": "execute_result"
    }
   ],
   "source": [
    "k = 1\n",
    "l = 2\n",
    "\n",
    "# bernoulli\n",
    "pk = count(isone, Y[:, k]) / size(Y, 1)\n",
    "pl = count(isone, Y[:, l]) / size(Y, 1)\n",
    "σk = sqrt(pk * (1 - pk))\n",
    "σl = sqrt(pl * (1 - pl))\n",
    "\n",
    "# gaussian\n",
    "# σk = std(Y[:, k])\n",
    "# σl = std(Y[:, l])\n",
    "\n",
    "σk * σl * Γ[k, l]"
   ]
  },
  {
   "cell_type": "markdown",
   "metadata": {},
   "source": [
    "## Fit null model"
   ]
  },
  {
   "cell_type": "code",
   "execution_count": 37,
   "metadata": {
    "collapsed": false,
    "scrolled": true
   },
   "outputs": [
    {
     "name": "stdout",
     "output_type": "stream",
     "text": [
      "This is Ipopt version 3.13.4, running with linear solver mumps.\n",
      "NOTE: Other linear solvers might be more efficient (see Ipopt documentation).\n",
      "\n",
      "Starting derivative checker for first derivatives.\n",
      "\n",
      "\n",
      "No errors detected by derivative checker.\n",
      "\n",
      "Number of nonzeros in equality constraint Jacobian...:        0\n",
      "Number of nonzeros in inequality constraint Jacobian.:        0\n",
      "Number of nonzeros in Lagrangian Hessian.............:        0\n",
      "\n",
      "Total number of variables............................:       17\n",
      "                     variables with only lower bounds:        2\n",
      "                variables with lower and upper bounds:        0\n",
      "                     variables with only upper bounds:        0\n",
      "Total number of equality constraints.................:        0\n",
      "Total number of inequality constraints...............:        0\n",
      "        inequality constraints with only lower bounds:        0\n",
      "   inequality constraints with lower and upper bounds:        0\n",
      "        inequality constraints with only upper bounds:        0\n",
      "\n",
      "iter    objective    inf_pr   inf_du lg(mu)  ||d||  lg(rg) alpha_du alpha_pr  ls\n",
      "   0  2.4736572e+04 0.00e+00 1.01e+02   0.0 0.00e+00    -  0.00e+00 0.00e+00   0\n",
      "   1  2.4706043e+04 0.00e+00 1.90e+02 -10.5 1.01e+02    -  1.00e+00 2.13e-04f  1\n",
      "   2  2.4673326e+04 0.00e+00 5.82e+02  -1.5 4.14e-01    -  3.65e-01 2.50e-01f  3\n",
      "   3  2.4637258e+04 0.00e+00 2.01e+02  -1.5 4.01e-02    -  9.28e-01 1.00e+00f  1\n",
      "   4  2.4633516e+04 0.00e+00 3.48e+01  -3.2 1.30e-02    -  1.00e+00 1.00e+00f  1\n",
      "   5  2.4632903e+04 0.00e+00 1.27e+01  -3.9 4.47e-03    -  1.00e+00 1.00e+00f  1\n",
      "   6  2.4632567e+04 0.00e+00 9.82e+00  -3.3 5.47e-03    -  1.00e+00 1.00e+00f  1\n",
      "   7  2.4632332e+04 0.00e+00 8.81e+00  -3.5 1.08e-02    -  1.00e+00 1.00e+00f  1\n",
      "   8  2.4631422e+04 0.00e+00 1.06e+01  -4.2 8.73e-02    -  1.00e+00 1.00e+00f  1\n",
      "   9  2.4631276e+04 0.00e+00 4.52e+01  -4.6 3.31e-01    -  1.00e+00 1.25e-01f  4\n",
      "iter    objective    inf_pr   inf_du lg(mu)  ||d||  lg(rg) alpha_du alpha_pr  ls\n",
      "  10  2.4631232e+04 0.00e+00 1.24e+01  -6.1 1.66e-02    -  1.00e+00 1.00e+00f  1\n",
      "  11  2.4631037e+04 0.00e+00 3.70e+01  -7.2 1.22e-02    -  1.00e+00 5.00e-01f  2\n",
      "  12  2.4630895e+04 0.00e+00 1.10e+01 -11.0 4.17e-02    -  1.00e+00 5.00e-01f  2\n",
      "  13  2.4630855e+04 0.00e+00 1.12e+00  -9.8 6.77e-03    -  1.00e+00 1.00e+00f  1\n",
      "  14  2.4630854e+04 0.00e+00 1.17e+00 -11.0 1.93e-03    -  1.00e+00 5.00e-01f  2\n",
      "  15  2.4630852e+04 0.00e+00 2.36e-02 -11.0 6.13e-04    -  1.00e+00 1.00e+00f  1\n",
      "  16  2.4630852e+04 0.00e+00 2.92e-02 -11.0 1.02e-04    -  1.00e+00 1.00e+00f  1\n",
      "  17  2.4630852e+04 0.00e+00 4.01e-02 -11.0 6.01e-04    -  1.00e+00 6.25e-02f  5\n",
      "  18  2.4630852e+04 0.00e+00 3.51e-02 -11.0 3.34e-04    -  1.00e+00 1.25e-01f  4\n",
      "  19  2.4630852e+04 0.00e+00 1.94e-02 -11.0 4.77e-04    -  1.00e+00 2.50e-01f  3\n",
      "iter    objective    inf_pr   inf_du lg(mu)  ||d||  lg(rg) alpha_du alpha_pr  ls\n",
      "  20  2.4630852e+04 0.00e+00 1.23e-02 -11.0 2.95e-05    -  1.00e+00 2.50e-01f  3\n",
      "  21  2.4630852e+04 0.00e+00 6.35e-03 -11.0 4.07e-05    -  1.00e+00 1.00e+00f  1\n",
      "  22  2.4630852e+04 0.00e+00 5.80e-03 -11.0 1.06e-04    -  1.00e+00 1.25e-01f  4\n",
      "  23  2.4630852e+04 0.00e+00 3.38e-03 -11.0 4.70e-06    -  1.00e+00 2.50e-01f  3\n",
      "  24  2.4630852e+04 0.00e+00 7.84e-04 -11.0 9.22e-06    -  1.00e+00 1.00e+00f  1\n",
      "\n",
      "Number of Iterations....: 24\n",
      "\n",
      "                                   (scaled)                 (unscaled)\n",
      "Objective...............:   9.7408230548290830e+03    2.4630852036796707e+04\n",
      "Dual infeasibility......:   7.8419457290348354e-04    1.9829310505408426e-03\n",
      "Constraint violation....:   0.0000000000000000e+00    0.0000000000000000e+00\n",
      "Complementarity.........:   1.0000000000008247e-11    2.5286212364371097e-11\n",
      "Overall NLP error.......:   7.8419457290348354e-04    1.9829310505408426e-03\n",
      "\n",
      "\n",
      "Number of objective function evaluations             = 93\n",
      "Number of objective gradient evaluations             = 25\n",
      "Number of equality constraint evaluations            = 0\n",
      "Number of inequality constraint evaluations          = 0\n",
      "Number of equality constraint Jacobian evaluations   = 0\n",
      "Number of inequality constraint Jacobian evaluations = 0\n",
      "Number of Lagrangian Hessian evaluations             = 0\n",
      "Total CPU secs in IPOPT (w/o function evaluations)   =      0.280\n",
      "Total CPU secs in NLP function evaluations           =      1.323\n",
      "\n",
      "EXIT: Optimal Solution Found.\n",
      "  1.717306 seconds (4.17 M allocations: 84.878 MiB, 1.65% gc time)\n"
     ]
    }
   ],
   "source": [
    "@time optm = QuasiCopula.fit!(qc_model,\n",
    "    Ipopt.IpoptSolver(\n",
    "        print_level = 5, \n",
    "        tol = 10^-3, \n",
    "        max_iter = 1000,\n",
    "        accept_after_max_steps = 50,\n",
    "        warm_start_init_point=\"yes\", \n",
    "        limited_memory_max_history = 6, # default value\n",
    "        hessian_approximation = \"limited-memory\",\n",
    "        derivative_test=\"first-order\"\n",
    "    )\n",
    ");"
   ]
  },
  {
   "cell_type": "code",
   "execution_count": 38,
   "metadata": {
    "collapsed": false
   },
   "outputs": [
    {
     "name": "stdout",
     "output_type": "stream",
     "text": [
      "βtrue = [1.0, -0.5, 0.5, 0.5, 0.5, -0.5, 0.5, -0.5, 0.5, -0.5, -0.5, -0.5, 0.5, -0.5, -0.5]\n",
      "qc_model.β = [0.9853555409028882, -0.4979946697828196, 0.5064177320008206, 0.48781532512845277, 0.48798507812527553, -0.5119158184148657, 0.4844263285008625, -0.5024894414672625, 0.47713361346428196, -0.46024885802320736, -0.48471323266709004, -0.5171468151704981, 0.5144289091432042, -0.5072728211326516, -0.510474748044049]\n",
      "qc_model.∇β = [-0.001068839522005982, -0.0009538451524853109, 0.001358971126670494, 0.0002132900058282594, -0.00037532718890054273, 0.0009998413032568099, -0.00021706367757989842, -0.0002167356743429938, -0.0019829310505408426, 0.0006124410109808465, -0.0012530995672765943, 3.746821109007481e-5, 0.00016903569341564229, 0.0002483502075300015, 0.0006176535041252929]\n",
      "θtrue = [0.1, 0.1]\n",
      "qc_model.θ = [0.0943726296628309, 0.15385215967084837]\n",
      "qc_model.∇θ = [-0.00067719381584741, 6.281313794342935e-5]\n",
      "τtrue = 0.5\n",
      "qc_model.τ = [1.0]\n",
      "qc_model.∇τ = [2.4603331626e-314]\n"
     ]
    }
   ],
   "source": [
    "@show βtrue\n",
    "@show qc_model.β\n",
    "@show qc_model.∇β\n",
    "\n",
    "@show θtrue\n",
    "@show qc_model.θ\n",
    "@show qc_model.∇θ;\n",
    "\n",
    "@show τtrue\n",
    "@show qc_model.τ\n",
    "@show qc_model.∇τ;"
   ]
  },
  {
   "cell_type": "markdown",
   "metadata": {},
   "source": [
    "## Score test GWAS"
   ]
  },
  {
   "cell_type": "code",
   "execution_count": 42,
   "metadata": {
    "collapsed": false
   },
   "outputs": [
    {
     "name": "stderr",
     "output_type": "stream",
     "text": [
      "\u001b[32mProgress: 100%|█████████████████████████████████████████| Time: 0:00:03\u001b[39m\n"
     ]
    },
    {
     "name": "stdout",
     "output_type": "stream",
     "text": [
      "Wtime = 1.3679050610078385\n",
      "Qtime = 0.48626795000053247\n",
      "Rtime = 0.16739714399800315\n",
      "grad_res_time = 0.26252065199992874\n",
      "othertime = 0.30817723099958994\n",
      "scoretest_time = 0.003295501\n",
      "  3.771406 seconds (1.94 M allocations: 1.331 GiB, 6.44% gc time, 11.92% compilation time)\n"
     ]
    },
    {
     "name": "stderr",
     "output_type": "stream",
     "text": [
      "\u001b[32mProgress: 100%|█████████████████████████████████████████| Time: 0:00:12\u001b[39m\n"
     ]
    },
    {
     "name": "stdout",
     "output_type": "stream",
     "text": [
      "grad time = 1.4178918729999999\n",
      "hess time = 10.916995796\n",
      " 16.346463 seconds (8.60 M allocations: 556.686 MiB, 0.41% gc time, 26.61% compilation time)\n"
     ]
    },
    {
     "data": {
      "text/plain": [
       "100×2 Matrix{Float64}:\n",
       " 0.57271    0.57271\n",
       " 0.810632   0.810632\n",
       " 0.75852    0.75852\n",
       " 0.827898   0.827898\n",
       " 0.249886   0.249886\n",
       " 0.548647   0.548647\n",
       " 0.138826   0.138826\n",
       " 0.912742   0.912742\n",
       " 0.520199   0.520199\n",
       " 0.241944   0.241944\n",
       " 0.455017   0.455017\n",
       " 0.798505   0.798505\n",
       " 0.411922   0.411922\n",
       " ⋮          \n",
       " 0.905393   0.905393\n",
       " 0.355617   0.355617\n",
       " 0.247256   0.247256\n",
       " 0.86826    0.86826\n",
       " 0.187647   0.187647\n",
       " 0.463496   0.463496\n",
       " 0.398405   0.398405\n",
       " 0.236038   0.236038\n",
       " 0.720063   0.720063\n",
       " 0.0997096  0.0997096\n",
       " 0.154153   0.154153\n",
       " 0.996457   0.996457"
      ]
     },
     "execution_count": 42,
     "metadata": {},
     "output_type": "execute_result"
    }
   ],
   "source": [
    "# Gaussian case\n",
    "@time pvals = QuasiCopula.GWASCopulaVCModel(qc_model, G, check_grad=false)\n",
    "@time pvals2 = QuasiCopula.GWASCopulaVCModel_autodiff_fast(qc_model, G, check_grad=false)\n",
    "[pvals pvals2]"
   ]
  },
  {
   "cell_type": "code",
   "execution_count": null,
   "metadata": {
    "collapsed": true
   },
   "outputs": [],
   "source": []
  },
  {
   "cell_type": "code",
   "execution_count": null,
   "metadata": {
    "collapsed": true
   },
   "outputs": [],
   "source": []
  },
  {
   "cell_type": "code",
   "execution_count": null,
   "metadata": {
    "collapsed": true
   },
   "outputs": [],
   "source": []
  },
  {
   "cell_type": "code",
   "execution_count": null,
   "metadata": {
    "collapsed": true
   },
   "outputs": [],
   "source": []
  },
  {
   "cell_type": "code",
   "execution_count": null,
   "metadata": {
    "collapsed": true
   },
   "outputs": [],
   "source": []
  },
  {
   "cell_type": "code",
   "execution_count": 19,
   "metadata": {
    "collapsed": false,
    "scrolled": true
   },
   "outputs": [
    {
     "name": "stderr",
     "output_type": "stream",
     "text": [
      "\u001b[32mProgress: 100%|█████████████████████████████████████████| Time: 0:00:27\u001b[39m\n"
     ]
    },
    {
     "name": "stdout",
     "output_type": "stream",
     "text": [
      "Wtime = 13.823160521727385\n",
      "Qtime = 4.8231576666749\n",
      "Rtime = 1.7943300880687147\n",
      "grad_res_time = 2.74373440804863\n",
      "othertime = 3.342375513974367\n",
      "scoretest_time = 0.001090289\n",
      " 32.172534 seconds (12.59 M allocations: 12.820 GiB, 2.32% gc time, 0.52% compilation time)\n"
     ]
    },
    {
     "data": {
      "text/plain": [
       "100-element Vector{Float64}:\n",
       " 0.6187728572609951\n",
       " 0.8496667233330221\n",
       " 0.40974196937222623\n",
       " 0.5671957640255685\n",
       " 0.46214111768624644\n",
       " 0.7807307761430159\n",
       " 0.002915186427295331\n",
       " 0.9081736689430064\n",
       " 0.08427231587790641\n",
       " 0.737858003745425\n",
       " 0.23694038429038083\n",
       " 0.8833033494335396\n",
       " 0.6129319697421085\n",
       " ⋮\n",
       " 0.008245693236827225\n",
       " 0.6310435761356239\n",
       " 0.02900575228042566\n",
       " 0.3050493485911325\n",
       " 0.04485059136883662\n",
       " 0.05784310364023999\n",
       " 0.2692557868556426\n",
       " 0.7408150252581713\n",
       " 0.8663919149998177\n",
       " 0.32387023749450206\n",
       " 0.11494644685131016\n",
       " 0.37332203886960197"
      ]
     },
     "execution_count": 19,
     "metadata": {},
     "output_type": "execute_result"
    }
   ],
   "source": [
    "# 3/13/2024 optimized away allocations + inline (N=100,000, P=15, d=5 obs per sample, Bernoulli)\n",
    "@time pvals = QuasiCopula.GWASCopulaVCModel(qc_model, G, check_grad=false)"
   ]
  },
  {
   "cell_type": "code",
   "execution_count": 14,
   "metadata": {
    "collapsed": false
   },
   "outputs": [
    {
     "name": "stderr",
     "output_type": "stream",
     "text": [
      "\u001b[32mProgress: 100%|█████████████████████████████████████████| Time: 0:00:29\u001b[39m\n"
     ]
    },
    {
     "name": "stdout",
     "output_type": "stream",
     "text": [
      "Wtime = 15.692459615067392\n",
      "Qtime = 5.059108313710545\n",
      "Rtime = 1.8031709030744016\n",
      " 32.868250 seconds (12.42 M allocations: 12.810 GiB, 1.37% gc time)\n"
     ]
    },
    {
     "data": {
      "text/plain": [
       "100-element Vector{Float64}:\n",
       " 0.6187728572609951\n",
       " 0.8496667233330221\n",
       " 0.40974196937222623\n",
       " 0.5671957640255685\n",
       " 0.46214111768624644\n",
       " 0.7807307761430159\n",
       " 0.002915186427295331\n",
       " 0.9081736689430064\n",
       " 0.08427231587790641\n",
       " 0.737858003745425\n",
       " 0.23694038429038083\n",
       " 0.8833033494335396\n",
       " 0.6129319697421085\n",
       " ⋮\n",
       " 0.008245693236827225\n",
       " 0.6310435761356239\n",
       " 0.02900575228042566\n",
       " 0.3050493485911325\n",
       " 0.04485059136883662\n",
       " 0.05784310364023999\n",
       " 0.2692557868556426\n",
       " 0.7408150252581713\n",
       " 0.8663919149998177\n",
       " 0.32387023749450206\n",
       " 0.11494644685131016\n",
       " 0.37332203886960197"
      ]
     },
     "execution_count": 14,
     "metadata": {},
     "output_type": "execute_result"
    }
   ],
   "source": [
    "# 3/13/2024 optimized away allocations (N=100,000, P=15, d=5 obs per sample, Bernoulli)\n",
    "@time pvals = QuasiCopula.GWASCopulaVCModel(qc_model, G, check_grad=false)"
   ]
  },
  {
   "cell_type": "code",
   "execution_count": 36,
   "metadata": {
    "collapsed": false
   },
   "outputs": [
    {
     "name": "stderr",
     "output_type": "stream",
     "text": [
      "\u001b[32mProgress: 100%|█████████████████████████████████████████| Time: 0:03:03\u001b[39m\n"
     ]
    },
    {
     "name": "stdout",
     "output_type": "stream",
     "text": [
      "Wtime = 151.45075288451383\n",
      "Qtime = 14.949879267721332\n",
      "Rtime = 2.5083309525981132\n",
      "193.969275 seconds (1.49 G allocations: 210.847 GiB, 18.29% gc time)\n"
     ]
    },
    {
     "data": {
      "text/plain": [
       "100-element Vector{Float64}:\n",
       " 0.6187728572609951\n",
       " 0.8496667233330198\n",
       " 0.4097419693722258\n",
       " 0.5671957640255666\n",
       " 0.4621411176862497\n",
       " 0.780730776143015\n",
       " 0.00291518642729541\n",
       " 0.9081736689430064\n",
       " 0.08427231587790672\n",
       " 0.7378580037454281\n",
       " 0.23694038429038128\n",
       " 0.8833033494335386\n",
       " 0.6129319697421055\n",
       " ⋮\n",
       " 0.008245693236827153\n",
       " 0.6310435761356203\n",
       " 0.029005752280425737\n",
       " 0.3050493485911328\n",
       " 0.04485059136883624\n",
       " 0.057843103640240055\n",
       " 0.2692557868556421\n",
       " 0.7408150252581676\n",
       " 0.8663919149998188\n",
       " 0.3238702374944988\n",
       " 0.11494644685131038\n",
       " 0.3733220388696007"
      ]
     },
     "execution_count": 36,
     "metadata": {},
     "output_type": "execute_result"
    }
   ],
   "source": [
    "# 3/11/2024 pre-optimizing (N=100,000, P=15, d=5 obs per sample, Bernoulli)\n",
    "@time pvals1 = QuasiCopula.GWASCopulaVCModel(qc_model, G, check_grad=false)"
   ]
  },
  {
   "cell_type": "code",
   "execution_count": null,
   "metadata": {
    "collapsed": true
   },
   "outputs": [],
   "source": []
  },
  {
   "cell_type": "code",
   "execution_count": null,
   "metadata": {
    "collapsed": true
   },
   "outputs": [],
   "source": []
  },
  {
   "cell_type": "code",
   "execution_count": null,
   "metadata": {
    "collapsed": true
   },
   "outputs": [],
   "source": []
  },
  {
   "cell_type": "code",
   "execution_count": 26,
   "metadata": {
    "collapsed": false
   },
   "outputs": [
    {
     "name": "stderr",
     "output_type": "stream",
     "text": [
      "\u001b[32mProgress: 100%|█████████████████████████████████████████| Time: 0:00:16\u001b[39m\n"
     ]
    },
    {
     "name": "stdout",
     "output_type": "stream",
     "text": [
      " 19.305981 seconds (149.26 M allocations: 21.086 GiB, 24.29% gc time)\n",
      "loglikelihood(par) = -27003.48634665121\n",
      "get_grad_last(γ) = 54.60960429046459\n",
      "  0.007651 seconds (41 allocations: 4.078 KiB)\n"
     ]
    },
    {
     "name": "stderr",
     "output_type": "stream",
     "text": [
      "\u001b[32mProgress: 100%|█████████████████████████████████████████| Time: 0:00:10\u001b[39m\n"
     ]
    },
    {
     "name": "stdout",
     "output_type": "stream",
     "text": [
      "grad time = 0.8811622880000001\n",
      "hess time = 9.796995043\n",
      " 11.779072 seconds (37.39 k allocations: 8.655 MiB)\n"
     ]
    },
    {
     "data": {
      "text/plain": [
       "100×2 Matrix{Float64}:\n",
       " 0.410184    0.410184\n",
       " 0.586272    0.586272\n",
       " 0.598494    0.598494\n",
       " 0.00303473  0.00303473\n",
       " 0.175519    0.175519\n",
       " 0.880568    0.880568\n",
       " 0.856739    0.856739\n",
       " 0.487394    0.487394\n",
       " 0.29277     0.29277\n",
       " 0.620851    0.620851\n",
       " 0.0687728   0.0687728\n",
       " 0.448751    0.448751\n",
       " 0.115359    0.115359\n",
       " ⋮           \n",
       " 0.970078    0.970078\n",
       " 0.282901    0.282901\n",
       " 0.579532    0.579532\n",
       " 0.472453    0.472453\n",
       " 0.993304    0.993304\n",
       " 0.175282    0.175282\n",
       " 0.909272    0.909272\n",
       " 0.479745    0.479745\n",
       " 0.721487    0.721487\n",
       " 0.615525    0.615525\n",
       " 0.411245    0.411245\n",
       " 0.862402    0.862402"
      ]
     },
     "execution_count": 26,
     "metadata": {},
     "output_type": "execute_result"
    }
   ],
   "source": [
    "@time pvals1 = QuasiCopula.GWASCopulaVCModel(qc_model, G, check_grad=false) \n",
    "@time pvals2 = GWASCopulaVCModel_autodiff_fast(qc_model, G, check_grad=false)\n",
    "[pvals1 pvals2]"
   ]
  },
  {
   "cell_type": "code",
   "execution_count": null,
   "metadata": {
    "collapsed": true
   },
   "outputs": [],
   "source": []
  },
  {
   "cell_type": "code",
   "execution_count": 25,
   "metadata": {
    "collapsed": false,
    "scrolled": true
   },
   "outputs": [
    {
     "name": "stdout",
     "output_type": "stream",
     "text": [
      "loglikelihood(par) = -27003.48634665121\n",
      "get_grad_last(γ) = 54.60960429046459\n",
      "  0.009179 seconds (41 allocations: 4.078 KiB)\n"
     ]
    },
    {
     "name": "stderr",
     "output_type": "stream",
     "text": [
      "\u001b[32mProgress: 100%|█████████████████████████████████████████| Time: 0:00:11\u001b[39m\n"
     ]
    },
    {
     "name": "stdout",
     "output_type": "stream",
     "text": [
      "grad time = 0.8810109629999998\n",
      "hess time = 10.874245159999997\n"
     ]
    },
    {
     "data": {
      "text/plain": [
       "100-element Vector{Float64}:\n",
       " 0.4101839867442275\n",
       " 0.5862718157013809\n",
       " 0.5984937206557013\n",
       " 0.003034727581604222\n",
       " 0.17551870951777954\n",
       " 0.8805682545747121\n",
       " 0.8567387490099405\n",
       " 0.4873935471580367\n",
       " 0.29276960872536617\n",
       " 0.6208507372096588\n",
       " 0.06877280527475794\n",
       " 0.44875056307610356\n",
       " 0.11535947258665749\n",
       " ⋮\n",
       " 0.970078145792238\n",
       " 0.28290134175263415\n",
       " 0.579532247105551\n",
       " 0.4724532428064645\n",
       " 0.9933042928968554\n",
       " 0.1752823127861532\n",
       " 0.9092716158919599\n",
       " 0.4797452036799379\n",
       " 0.7214873906350371\n",
       " 0.6155248961503867\n",
       " 0.41124522603559177\n",
       " 0.8624015377849512"
      ]
     },
     "execution_count": 25,
     "metadata": {},
     "output_type": "execute_result"
    }
   ],
   "source": [
    "pvals = GWASCopulaVCModel_autodiff_fast(qc_model, G, check_grad=false) "
   ]
  },
  {
   "cell_type": "code",
   "execution_count": 23,
   "metadata": {
    "collapsed": false
   },
   "outputs": [
    {
     "ename": "LoadError",
     "evalue": "MethodError: no method matching Zygote.Buffer(::Int64)\n\n\u001b[0mClosest candidates are:\n\u001b[0m  Zygote.Buffer(\u001b[91m::A\u001b[39m, \u001b[91m::Bool\u001b[39m) where {T, A<:(AbstractArray{T})}\n\u001b[0m\u001b[90m   @\u001b[39m \u001b[36mZygote\u001b[39m \u001b[90m~/.julia/packages/Zygote/jxHJc/src/tools/\u001b[39m\u001b[90m\u001b[4mbuffer.jl:38\u001b[24m\u001b[39m\n\u001b[0m  Zygote.Buffer(\u001b[91m::AbstractArray\u001b[39m, \u001b[91m::Any...\u001b[39m)\n\u001b[0m\u001b[90m   @\u001b[39m \u001b[36mZygote\u001b[39m \u001b[90m~/.julia/packages/Zygote/jxHJc/src/tools/\u001b[39m\u001b[90m\u001b[4mbuffer.jl:42\u001b[24m\u001b[39m\n",
     "output_type": "error",
     "traceback": [
      "MethodError: no method matching Zygote.Buffer(::Int64)\n\n\u001b[0mClosest candidates are:\n\u001b[0m  Zygote.Buffer(\u001b[91m::A\u001b[39m, \u001b[91m::Bool\u001b[39m) where {T, A<:(AbstractArray{T})}\n\u001b[0m\u001b[90m   @\u001b[39m \u001b[36mZygote\u001b[39m \u001b[90m~/.julia/packages/Zygote/jxHJc/src/tools/\u001b[39m\u001b[90m\u001b[4mbuffer.jl:38\u001b[24m\u001b[39m\n\u001b[0m  Zygote.Buffer(\u001b[91m::AbstractArray\u001b[39m, \u001b[91m::Any...\u001b[39m)\n\u001b[0m\u001b[90m   @\u001b[39m \u001b[36mZygote\u001b[39m \u001b[90m~/.julia/packages/Zygote/jxHJc/src/tools/\u001b[39m\u001b[90m\u001b[4mbuffer.jl:42\u001b[24m\u001b[39m\n",
      "",
      "Stacktrace:",
      " [1] loglikelihood_enzyme(par::Vector{Float64}, qc_model::GLMCopulaVCModel{Float64, Bernoulli{Float64}, LogitLink}, z::Vector{Float64})",
      "   @ QuasiCopula ~/.julia/dev/QuasiCopula/src/gwas/longitudinal_enzyme.jl:19",
      " [2] (::QuasiCopula.var\"#loglikelihood#287\"{GLMCopulaVCModel{Float64, Bernoulli{Float64}, LogitLink}})(par::Vector{Float64})",
      "   @ QuasiCopula ~/.julia/dev/QuasiCopula/src/gwas/longitudinal_enzyme.jl:74",
      " [3] macro expansion",
      "   @ ./show.jl:1128 [inlined]",
      " [4] GWASCopulaVCModel_enzyme(qc_model::GLMCopulaVCModel{Float64, Bernoulli{Float64}, LogitLink}, G::SnpArrays.SnpArray; check_grad::Bool)",
      "   @ QuasiCopula ~/.julia/dev/QuasiCopula/src/gwas/longitudinal_enzyme.jl:113",
      " [5] top-level scope",
      "   @ In[23]:1"
     ]
    }
   ],
   "source": [
    "pvals = QuasiCopula.GWASCopulaVCModel_enzyme(qc_model, G, check_grad=false) "
   ]
  },
  {
   "cell_type": "code",
   "execution_count": null,
   "metadata": {
    "collapsed": true
   },
   "outputs": [],
   "source": []
  },
  {
   "cell_type": "code",
   "execution_count": null,
   "metadata": {
    "collapsed": false
   },
   "outputs": [],
   "source": [
    "pvals3 = QuasiCopula.GWASCopulaVCModel_enzyme(qc_model, G, check_grad=false) "
   ]
  },
  {
   "cell_type": "code",
   "execution_count": null,
   "metadata": {
    "collapsed": true
   },
   "outputs": [],
   "source": []
  },
  {
   "cell_type": "code",
   "execution_count": null,
   "metadata": {
    "collapsed": true
   },
   "outputs": [],
   "source": []
  },
  {
   "cell_type": "code",
   "execution_count": 7,
   "metadata": {
    "collapsed": false
   },
   "outputs": [
    {
     "name": "stderr",
     "output_type": "stream",
     "text": [
      "\u001b[32mProgress: 100%|█████████████████████████████████████████| Time: 0:00:51\u001b[39m\n",
      "\u001b[32mProgress: 100%|█████████████████████████████████████████| Time: 0:16:44\u001b[39m\n",
      "\u001b[32mProgress: 100%|█████████████████████████████████████████| Time: 0:01:27\u001b[39m\n"
     ]
    },
    {
     "data": {
      "text/plain": [
       "100×3 Matrix{Float64}:\n",
       " 0.309198   0.309178   0.309178\n",
       " 0.65743    0.657418   0.657418\n",
       " 0.130797   0.130769   0.130769\n",
       " 0.957161   0.957161   0.957161\n",
       " 0.490949   0.490936   0.490936\n",
       " 0.674417   0.674407   0.674407\n",
       " 0.0206968  0.0206746  0.0206746\n",
       " 0.30308    0.303065   0.303065\n",
       " 0.829673   0.829654   0.829654\n",
       " 0.210698   0.210664   0.210664\n",
       " 0.749992   0.749991   0.749991\n",
       " 0.269138   0.269123   0.269123\n",
       " 0.995939   0.995939   0.995939\n",
       " ⋮                     \n",
       " 0.618831   0.618798   0.618798\n",
       " 0.221689   0.221634   0.221634\n",
       " 0.966925   0.966925   0.966925\n",
       " 0.348356   0.348333   0.348333\n",
       " 0.212692   0.21267    0.21267\n",
       " 0.762958   0.76295    0.76295\n",
       " 0.584168   0.584168   0.584168\n",
       " 0.370048   0.370025   0.370025\n",
       " 0.360879   0.360867   0.360867\n",
       " 0.454855   0.454847   0.454847\n",
       " 0.779821   0.779819   0.779819\n",
       " 0.97258    0.972578   0.972578"
      ]
     },
     "execution_count": 7,
     "metadata": {},
     "output_type": "execute_result"
    }
   ],
   "source": [
    "# Normal (n=100_000, m=2, p=15, q=100)\n",
    "pvals1 = QuasiCopula.GWASCopulaVCModel(qc_model, G, check_grad=false)\n",
    "pvals2 = QuasiCopula.GWASCopulaVCModel_autodiff(qc_model, G, check_grad=false) \n",
    "pvals3 = GWASCopulaVCModel_autodiff_fast(qc_model, G, check_grad=false) \n",
    "[pvals1 pvals2 pvals3]"
   ]
  },
  {
   "cell_type": "code",
   "execution_count": 32,
   "metadata": {
    "collapsed": false
   },
   "outputs": [
    {
     "name": "stderr",
     "output_type": "stream",
     "text": [
      "\u001b[32mProgress:   3%|█▏                                       |  ETA: 0:01:47\u001b[39m"
     ]
    },
    {
     "ename": "LoadError",
     "evalue": "InterruptException:",
     "output_type": "error",
     "traceback": [
      "InterruptException:",
      "",
      "Stacktrace:",
      "  [1] Array",
      "    @ ./boot.jl:457 [inlined]",
      "  [2] Array",
      "    @ ./boot.jl:466 [inlined]",
      "  [3] Array",
      "    @ ./boot.jl:474 [inlined]",
      "  [4] similar",
      "    @ ./abstractarray.jl:829 [inlined]",
      "  [5] similar",
      "    @ ./abstractarray.jl:828 [inlined]",
      "  [6] similar",
      "    @ ./broadcast.jl:212 [inlined]",
      "  [7] similar",
      "    @ ./broadcast.jl:211 [inlined]",
      "  [8] copy",
      "    @ ./broadcast.jl:885 [inlined]",
      "  [9] materialize",
      "    @ ./broadcast.jl:860 [inlined]",
      " [10] *(D::Diagonal{Float64, Vector{Float64}}, V::SubArray{Float64, 1, Vector{Float64}, Tuple{UnitRange{Int64}}, true})",
      "    @ LinearAlgebra /Applications/Julia-1.7.app/Contents/Resources/julia/share/julia/stdlib/v1.7/LinearAlgebra/src/diagonal.jl:214",
      " [11] *",
      "    @ /Applications/Julia-1.7.app/Contents/Resources/julia/share/julia/stdlib/v1.7/LinearAlgebra/src/matmul.jl:1104 [inlined]",
      " [12] get_Hβγ_i(qc::GLMCopulaVCObs{Float64, Bernoulli{Float64}, LogitLink}, Γ::Matrix{Float64}, ∇resβ::Matrix{Float64}, ∇resγ::Vector{Float64}, z::SubArray{Float64, 1, Vector{Float64}, Tuple{UnitRange{Int64}}, true}, β::Vector{Float64}, storages::QuasiCopula.Storages{Float64})",
      "    @ QuasiCopula ~/.julia/dev/QuasiCopula/src/gwas/longitudinal.jl:311",
      " [13] update_W!(W::Vector{Float64}, qc_model::GLMCopulaVCModel{Float64, Bernoulli{Float64}, LogitLink}, i::Int64, zi::SubArray{Float64, 1, Vector{Float64}, Tuple{UnitRange{Int64}}, true}, Γ::Matrix{Float64}, ∇resβ::Matrix{Float64}, ∇resγ::Vector{Float64}, storages::QuasiCopula.Storages{Float64})",
      "    @ QuasiCopula ~/.julia/dev/QuasiCopula/src/gwas/longitudinal.jl:125",
      " [14] macro expansion",
      "    @ ./timing.jl:299 [inlined]",
      " [15] macro expansion",
      "    @ ~/.julia/dev/QuasiCopula/src/gwas/longitudinal.jl:96 [inlined]",
      " [16] macro expansion",
      "    @ ~/.julia/packages/ProgressMeter/sN2xr/src/ProgressMeter.jl:938 [inlined]",
      " [17] GWASCopulaVCModel(qc_model::GLMCopulaVCModel{Float64, Bernoulli{Float64}, LogitLink}, G::SnpArray; check_grad::Bool)",
      "    @ QuasiCopula ~/.julia/dev/QuasiCopula/src/gwas/longitudinal.jl:71"
     ]
    }
   ],
   "source": [
    "# Bernoulli (n=10_000, m=2, p=15, q=1000)\n",
    "pvals1 = QuasiCopula.GWASCopulaVCModel(qc_model, G, check_grad=false)\n",
    "pvals2 = QuasiCopula.GWASCopulaVCModel_autodiff(qc_model, G, check_grad=false) \n",
    "pvals3 = GWASCopulaVCModel_autodiff_fast(qc_model, G, check_grad=false) \n",
    "[pvals1 pvals2 pvals3]"
   ]
  },
  {
   "cell_type": "code",
   "execution_count": null,
   "metadata": {
    "collapsed": true
   },
   "outputs": [],
   "source": []
  },
  {
   "cell_type": "code",
   "execution_count": null,
   "metadata": {
    "collapsed": true
   },
   "outputs": [],
   "source": []
  },
  {
   "cell_type": "code",
   "execution_count": null,
   "metadata": {
    "collapsed": true
   },
   "outputs": [],
   "source": []
  },
  {
   "cell_type": "code",
   "execution_count": null,
   "metadata": {
    "collapsed": true
   },
   "outputs": [],
   "source": []
  },
  {
   "cell_type": "markdown",
   "metadata": {},
   "source": [
    "## QQ plots"
   ]
  },
  {
   "cell_type": "code",
   "execution_count": 12,
   "metadata": {
    "collapsed": false
   },
   "outputs": [
    {
     "data": {
      "image/png": "[encoded data removed]"
     },
     "metadata": {},
     "output_type": "display_data"
    }
   ],
   "source": [
    "# gaussian\n",
    "qq(pvals, dpi=80, titles=\"Gaussian, $k causal SNPs\")\n",
    "display(\"image/png\", read(\"qqplot.png\"))"
   ]
  },
  {
   "cell_type": "code",
   "execution_count": 27,
   "metadata": {
    "collapsed": false
   },
   "outputs": [
    {
     "data": {
      "image/png": "[encoded data removed]"
     },
     "metadata": {},
     "output_type": "display_data"
    }
   ],
   "source": [
    "# Bernoulli\n",
    "qq(pvals, dpi=80, titles=\"Bernoulli, $k causal SNPs\")\n",
    "display(\"image/png\", read(\"qqplot.png\"))"
   ]
  },
  {
   "cell_type": "code",
   "execution_count": 24,
   "metadata": {
    "collapsed": false
   },
   "outputs": [
    {
     "data": {
      "image/png": "[encoded data removed]"
     },
     "metadata": {},
     "output_type": "display_data"
    }
   ],
   "source": [
    "qq(pvals, dpi=80, titles=\"Autodiff Bernoulli, $k causal SNPs\")\n",
    "display(\"image/png\", read(\"qqplot.png\"))"
   ]
  },
  {
   "cell_type": "code",
   "execution_count": null,
   "metadata": {
    "collapsed": true
   },
   "outputs": [],
   "source": []
  },
  {
   "cell_type": "code",
   "execution_count": null,
   "metadata": {
    "collapsed": true
   },
   "outputs": [],
   "source": []
  },
  {
   "cell_type": "code",
   "execution_count": null,
   "metadata": {
    "collapsed": true
   },
   "outputs": [],
   "source": []
  },
  {
   "cell_type": "code",
   "execution_count": null,
   "metadata": {
    "collapsed": true
   },
   "outputs": [],
   "source": []
  },
  {
   "cell_type": "code",
   "execution_count": null,
   "metadata": {
    "collapsed": true
   },
   "outputs": [],
   "source": []
  }
 ],
 "metadata": {
  "@webio": {
   "lastCommId": null,
   "lastKernelId": null
  },
  "kernelspec": {
   "display_name": "Julia 1.9.1",
   "language": "julia",
   "name": "julia-1.9"
  },
  "language_info": {
   "file_extension": ".jl",
   "mimetype": "application/julia",
   "name": "julia",
   "version": "1.9.1"
  },
  "toc": {
   "base_numbering": 1,
   "nav_menu": {},
   "number_sections": true,
   "sideBar": true,
   "skip_h1_title": false,
   "title_cell": "Table of Contents",
   "title_sidebar": "Contents",
   "toc_cell": false,
   "toc_position": {},
   "toc_section_display": true,
   "toc_window_display": false
  }
 },
 "nbformat": 4,
 "nbformat_minor": 2
}
