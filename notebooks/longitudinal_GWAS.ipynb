{
 "cells": [
  {
   "cell_type": "markdown",
   "metadata": {},
   "source": [
    "# Longitudinal QuasiCopula GWAS\n",
    "\n",
    "Here we adopt the variance component model framework\n",
    "\n",
    "$$\\mathbf{\\Gamma}_i(\\mathbf{\\theta}) = \\sum_{k=1}^m \\theta_k\\mathbf{V}_{ik}, \\quad \\theta_k \\ge 0$$"
   ]
  },
  {
   "cell_type": "code",
   "execution_count": 1,
   "metadata": {
    "collapsed": false
   },
   "outputs": [
    {
     "name": "stderr",
     "output_type": "stream",
     "text": [
      "\u001b[36m\u001b[1m[ \u001b[22m\u001b[39m\u001b[36m\u001b[1mInfo: \u001b[22m\u001b[39mPrecompiling QuasiCopula [c47b6ae2-b804-4668-9957-eb588c99ffbc]\n"
     ]
    },
    {
     "data": {
      "text/plain": [
       "1"
      ]
     },
     "execution_count": 1,
     "metadata": {},
     "output_type": "execute_result"
    }
   ],
   "source": [
    "using Revise\n",
    "using DataFrames, Random, GLM, QuasiCopula\n",
    "using ForwardDiff, Test, LinearAlgebra\n",
    "using LinearAlgebra: BlasReal, copytri!\n",
    "using ToeplitzMatrices\n",
    "using BenchmarkTools\n",
    "using SnpArrays\n",
    "using MendelPlots\n",
    "using Statistics\n",
    "using StatsBase\n",
    "\n",
    "ENV[\"COLUMNS\"] = 240\n",
    "BLAS.set_num_threads(1)\n",
    "Threads.nthreads()"
   ]
  },
  {
   "cell_type": "markdown",
   "metadata": {},
   "source": [
    "## Simulate data\n",
    "\n",
    "All SNPs have the same MAF"
   ]
  },
  {
   "cell_type": "code",
   "execution_count": 2,
   "metadata": {
    "collapsed": false
   },
   "outputs": [
    {
     "name": "stdout",
     "output_type": "stream",
     "text": [
      "qc_model = Quasi-Copula Variance Component Model\n",
      "  * base distribution: Normal\n",
      "  * link function: IdentityLink\n",
      "  * number of clusters: 5000\n",
      "  * cluster size min, max: 1, 5\n",
      "  * number of variance components: 1\n",
      "  * number of fixed effects: 3\n",
      "\n"
     ]
    }
   ],
   "source": [
    "k = 0 # number of causal SNPs\n",
    "\n",
    "qc_model, G, βtrue, θtrue, γtrue, τtrue = simulate_longitudinal_traits(\n",
    "    n = 5000, # sample size\n",
    "    d_min = 1, # min number of observations per sample\n",
    "    d_max = 5, # max number of observations per sample\n",
    "    p = 3, # number of fixed effects, including intercept\n",
    "    m = 1, # number of variance components\n",
    "    q = 1000, # number of SNPs\n",
    "    k = k, # number of causal SNPs\n",
    "    seed = 2022,\n",
    "    y_distribution = Normal,\n",
    "    τtrue = 0.01,\n",
    "    T = Float64,\n",
    "    maf = 0.3,\n",
    "    causal_snp_β = 0.2\n",
    ")\n",
    "\n",
    "@show qc_model;"
   ]
  },
  {
   "cell_type": "markdown",
   "metadata": {},
   "source": [
    "## Fit null model"
   ]
  },
  {
   "cell_type": "code",
   "execution_count": 3,
   "metadata": {
    "collapsed": false,
    "scrolled": true
   },
   "outputs": [
    {
     "name": "stdout",
     "output_type": "stream",
     "text": [
      "\n",
      "******************************************************************************\n",
      "This program contains Ipopt, a library for large-scale nonlinear optimization.\n",
      " Ipopt is released as open source code under the Eclipse Public License (EPL).\n",
      "         For more information visit https://github.com/coin-or/Ipopt\n",
      "******************************************************************************\n",
      "\n",
      "This is Ipopt version 3.13.4, running with linear solver mumps.\n",
      "NOTE: Other linear solvers might be more efficient (see Ipopt documentation).\n",
      "\n",
      "Starting derivative checker for first derivatives.\n",
      "\n",
      "* grad_f[          4] = -2.7531419550994855e+02    ~ -2.7586640170766782e+02  [ 2.002e-03]\n",
      "\n",
      "Derivative checker detected 1 error(s).\n",
      "\n",
      "Number of nonzeros in equality constraint Jacobian...:        0\n",
      "Number of nonzeros in inequality constraint Jacobian.:        0\n",
      "Number of nonzeros in Lagrangian Hessian.............:        0\n",
      "\n",
      "Total number of variables............................:        5\n",
      "                     variables with only lower bounds:        2\n",
      "                variables with lower and upper bounds:        0\n",
      "                     variables with only upper bounds:        0\n",
      "Total number of equality constraints.................:        0\n",
      "Total number of inequality constraints...............:        0\n",
      "        inequality constraints with only lower bounds:        0\n",
      "   inequality constraints with lower and upper bounds:        0\n",
      "        inequality constraints with only upper bounds:        0\n",
      "\n",
      "iter    objective    inf_pr   inf_du lg(mu)  ||d||  lg(rg) alpha_du alpha_pr  ls\n",
      "   0  5.6538345e+04 0.00e+00 9.05e+03   0.0 0.00e+00    -  0.00e+00 0.00e+00   0\n",
      "   1  5.6537879e+04 0.00e+00 3.09e+03  -2.2 8.22e+03    -  2.49e-03 1.88e-08f  7\n",
      "   2  5.6537819e+04 0.00e+00 3.54e+01  -3.5 3.94e-05    -  1.00e+00 1.00e+00f  1\n",
      "   3  5.6537819e+04 0.00e+00 2.51e+00  -5.5 4.47e-07    -  1.00e+00 1.00e+00f  1\n",
      "   4  5.6537819e+04 0.00e+00 2.51e+00  -5.6 3.29e-08    -  1.00e+00 1.00e+00f  1\n",
      "   5  5.6537819e+04 0.00e+00 2.66e+01  -5.6 5.22e-06    -  1.00e+00 1.00e+00f  1\n",
      "   6  5.6537819e+04 0.00e+00 8.00e+01  -7.5 3.55e-05    -  1.00e+00 1.00e+00f  1\n",
      "   7  5.6537817e+04 0.00e+00 2.61e+02  -9.3 3.90e-04    -  1.00e+00 1.00e+00f  1\n",
      "   8  5.6537804e+04 0.00e+00 6.97e+02 -11.0 3.49e-03    -  1.00e+00 1.00e+00f  1\n",
      "   9  5.6537791e+04 0.00e+00 5.76e+02 -11.0 1.43e-02    -  1.00e+00 5.00e-01f  2\n",
      "iter    objective    inf_pr   inf_du lg(mu)  ||d||  lg(rg) alpha_du alpha_pr  ls\n",
      "  10  5.6537778e+04 0.00e+00 1.09e+03 -11.0 1.07e-01    -  1.00e+00 1.25e-01f  4\n",
      "  11  5.6537778e+04 0.00e+00 7.31e+01 -11.0 3.39e-02    -  1.00e+00 1.25e-01f  4\n",
      "  12  5.6537775e+04 0.00e+00 5.07e+02 -11.0 1.32e-02    -  1.00e+00 1.00e+00f  1\n",
      "  13  5.6537774e+04 0.00e+00 9.45e+02 -11.0 3.86e-03    -  1.00e+00 1.00e+00f  1\n",
      "  14  5.6537770e+04 0.00e+00 1.97e+02 -11.0 1.71e-02    -  1.00e+00 5.00e-01f  2\n",
      "  15  5.6537770e+04 0.00e+00 5.55e+01 -11.0 5.33e-01    -  1.00e+00 3.91e-03f  9\n",
      "  16  5.6537770e+04 0.00e+00 9.21e+01 -10.2 2.30e+00    -  1.00e+00 9.77e-04h 11\n",
      "  17  5.6537769e+04 0.00e+00 4.44e+02 -10.5 7.55e-01    -  1.00e+00 3.91e-03f  9\n",
      "  18  5.6537768e+04 0.00e+00 1.78e+02 -11.0 8.40e-04    -  1.00e+00 1.00e+00f  1\n",
      "  19  5.6537768e+04 0.00e+00 1.25e-01 -11.0 1.08e-03    -  1.00e+00 1.00e+00f  1\n",
      "iter    objective    inf_pr   inf_du lg(mu)  ||d||  lg(rg) alpha_du alpha_pr  ls\n",
      "  20  5.6537768e+04 0.00e+00 6.12e-01 -11.0 2.81e-05    -  1.00e+00 1.00e+00f  1\n",
      "  21  5.6537768e+04 0.00e+00 8.48e+01 -11.0 1.93e+00    -  1.00e+00 9.77e-04h 11\n",
      "  22  5.6537768e+04 0.00e+00 8.48e+01 -11.0 8.17e-02    -  1.00e+00 9.77e-04h 11\n",
      "  23  5.6537768e+04 0.00e+00 7.09e+01 -11.0 1.32e-01    -  1.00e+00 9.77e-04h 11\n",
      "  24  5.6537768e+04 0.00e+00 6.94e+01 -11.0 1.54e-02    -  1.00e+00 1.25e-01f  4\n",
      "  25  5.6537768e+04 0.00e+00 6.02e+00 -11.0 1.32e-04    -  1.00e+00 1.00e+00f  1\n",
      "  26  5.6537768e+04 0.00e+00 6.55e+00 -11.0 2.68e-01    -  1.00e+00 9.77e-04h 11\n",
      "  27  5.6537768e+04 0.00e+00 6.68e+00 -11.0 8.75e-03    -  1.00e+00 9.77e-04f 11\n",
      "  28  5.6537768e+04 0.00e+00 4.02e+00 -11.0 6.76e-04    -  1.00e+00 6.25e-02f  5\n",
      "  29  5.6537768e+04 0.00e+00 1.71e+00 -11.0 1.91e-04    -  1.00e+00 1.00e+00f  1\n",
      "iter    objective    inf_pr   inf_du lg(mu)  ||d||  lg(rg) alpha_du alpha_pr  ls\n",
      "  30  5.6537768e+04 0.00e+00 2.34e+01 -11.0 1.49e+00    -  1.00e+00 9.77e-04h 11\n",
      "  31  5.6537768e+04 0.00e+00 2.35e+01 -11.0 1.89e-03    -  1.00e+00 1.00e+00f  1\n",
      "  32  5.6537772e+04 0.00e+00 7.90e+02 -11.0 1.08e+01    -  1.66e-01 1.75e-04h 11\n",
      "  33  5.6537768e+04 0.00e+00 1.95e+01 -11.0 2.55e-03    -  1.00e+00 1.00e+00f  1\n",
      "  34  5.6537768e+04 0.00e+00 2.14e+01 -11.0 1.62e-02    -  1.00e+00 7.81e-03f  8\n",
      "  35  5.6537773e+04 0.00e+00 4.01e+02 -11.0 2.71e+00    -  7.90e-02 9.77e-04h 11\n",
      "  36  5.6537770e+04 0.00e+00 1.21e+02 -11.0 5.41e-03    -  1.00e+00 1.00e+00f  1\n",
      "  37  5.6537769e+04 0.00e+00 1.39e+02 -11.0 2.69e+01    -  1.00e+00 1.68e-04f  8\n",
      "  38  5.6537768e+04 0.00e+00 4.19e-01 -11.0 5.96e-04    -  1.00e+00 1.00e+00f  1\n",
      "  39  5.6537768e+04 0.00e+00 2.93e-01 -11.0 9.01e-05    -  1.00e+00 6.25e-02f  5\n",
      "iter    objective    inf_pr   inf_du lg(mu)  ||d||  lg(rg) alpha_du alpha_pr  ls\n",
      "  40  5.6537768e+04 0.00e+00 2.01e+02 -11.0 1.68e+00    -  1.00e+00 5.42e-04h 11\n",
      "  41  5.6537768e+04 0.00e+00 1.91e+01 -11.0 1.10e-03    -  1.00e+00 1.00e+00f  1\n",
      "  42  5.6537768e+04 0.00e+00 1.18e+02 -11.0 1.56e+00    -  1.00e+00 9.77e-04f 11\n",
      "  43  5.6537768e+04 0.00e+00 1.25e+02 -11.0 1.21e-02    -  1.00e+00 1.56e-02f  7\n",
      "  44  5.6537768e+04 0.00e+00 1.17e+01 -11.0 3.04e-01    -  1.00e+00 1.95e-03f 10\n",
      "  45  5.6537768e+04 0.00e+00 1.15e+01 -11.0 9.51e-04    -  1.00e+00 9.77e-04f 11\n",
      "  46  5.6537768e+04 0.00e+00 1.17e+01 -11.0 4.56e-03    -  1.00e+00 3.91e-03f  9\n",
      "  47  5.6537768e+04 0.00e+00 7.64e+00 -11.0 1.83e-03    -  1.00e+00 1.25e-01f  4\n",
      "  48  5.6537768e+04 0.00e+00 1.63e+01 -11.0 6.13e-01    -  1.00e+00 9.77e-04h 11\n",
      "  49  5.6537768e+04 0.00e+00 2.47e-02 -11.0 6.33e-04    -  1.00e+00 1.00e+00f  1\n",
      "iter    objective    inf_pr   inf_du lg(mu)  ||d||  lg(rg) alpha_du alpha_pr  ls\n",
      "  50  5.6537768e+04 0.00e+00 4.00e-01 -11.0 3.25e-03    -  1.00e+00 9.77e-04h 11\n",
      "  51  5.6537768e+04 0.00e+00 1.63e-06 -11.0 3.11e-06    -  1.00e+00 1.00e+00f  1\n",
      "  52  5.6537768e+04 0.00e+00 9.46e-03 -11.0 3.90e-08    -  1.00e+00 1.00e+00f  1\n",
      "  53  5.6537768e+04 0.00e+00 3.96e-04 -11.0 6.09e-08    -  1.00e+00 1.00e+00f  1\n",
      "  54  5.6537768e+04 0.00e+00 8.78e-02 -11.0 4.56e-05    -  1.00e+00 1.56e-02f  7\n",
      "  55  5.6537768e+04 0.00e+00 4.16e-03 -11.0 1.53e-06    -  1.00e+00 1.00e+00f  1\n",
      "  56  5.6537768e+04 0.00e+00 1.28e-02 -11.0 3.89e-04    -  1.00e+00 9.77e-04f 11\n",
      "  57  5.6537768e+04 0.00e+00 2.99e-02 -11.0 1.03e-06    -  1.00e+00 1.00e+00f  1\n",
      "  58  5.6537768e+04 0.00e+00 1.39e-01 -11.0 5.51e-05    -  1.00e+00 1.56e-02f  7\n",
      "  59  5.6537768e+04 0.00e+00 9.92e-02 -11.0 3.38e-05    -  1.00e+00 1.56e-02f  7\n",
      "iter    objective    inf_pr   inf_du lg(mu)  ||d||  lg(rg) alpha_du alpha_pr  ls\n",
      "  60  5.6537768e+04 0.00e+00 1.05e-01 -11.0 4.36e-05    -  1.00e+00 9.77e-04f 11\n",
      "  61  5.6537768e+04 0.00e+00 1.21e-02 -11.0 1.31e-05    -  1.00e+00 1.25e-01f  4\n",
      "  62  5.6537768e+04 0.00e+00 7.51e-02 -11.0 1.21e-03    -  1.00e+00 9.77e-04h 11\n",
      "  63  5.6537768e+04 0.00e+00 4.54e-02 -11.0 1.79e-06    -  1.00e+00 1.00e+00f  1\n",
      "  64  5.6537768e+04 0.00e+00 2.93e-02 -11.0 2.77e-04    -  1.00e+00 3.91e-03f  9\n",
      "  65  5.6537768e+04 0.00e+00 3.75e-02 -11.0 3.69e-05    -  1.00e+00 1.95e-03f 10\n",
      "  66  5.6537768e+04 0.00e+00 2.05e-02 -11.0 2.07e-04    -  1.00e+00 9.77e-04f 11\n",
      "  67  5.6537768e+04 0.00e+00 3.81e-02 -11.0 2.28e-05    -  1.00e+00 7.81e-03f  8\n",
      "  68  5.6537768e+04 0.00e+00 4.42e-02 -11.0 1.12e-04    -  1.00e+00 9.77e-04h 11\n",
      "  69  5.6537768e+04 0.00e+00 7.24e-03 -11.0 1.05e-06    -  1.00e+00 1.00e+00f  1\n",
      "iter    objective    inf_pr   inf_du lg(mu)  ||d||  lg(rg) alpha_du alpha_pr  ls\n",
      "  70  5.6537768e+04 0.00e+00 2.58e-02 -11.0 5.16e-06    -  1.00e+00 6.25e-02f  5\n",
      "  71  5.6537768e+04 0.00e+00 3.72e-02 -11.0 3.54e-05    -  1.00e+00 3.91e-03f  9\n",
      "  72  5.6537768e+04 0.00e+00 5.29e-02 -11.0 2.65e-05    -  1.00e+00 1.56e-02f  7\n",
      "  73  5.6537768e+04 0.00e+00 2.30e-02 -11.0 1.66e-04    -  1.00e+00 3.91e-03f  9\n",
      "  74  5.6537768e+04 0.00e+00 8.02e-01 -11.0 9.00e-03    -  1.00e+00 9.77e-04h 11\n",
      "  75  5.6537768e+04 0.00e+00 2.85e-02 -11.0 8.08e-06    -  1.00e+00 1.00e+00f  1\n",
      "  76  5.6537768e+04 0.00e+00 7.39e-01 -11.0 1.08e-02    -  1.00e+00 9.77e-04h 11\n",
      "  77  5.6537768e+04 0.00e+00 9.39e-01 -11.0 2.94e-05    -  1.00e+00 2.50e-01f  3\n",
      "  78  5.6537768e+04 0.00e+00 6.57e+00 -11.0 6.55e-02    -  1.00e+00 9.77e-04h 11\n",
      "  79  5.6537768e+04 0.00e+00 7.73e+00 -11.0 2.91e-02    -  1.00e+00 9.77e-04h 11\n",
      "iter    objective    inf_pr   inf_du lg(mu)  ||d||  lg(rg) alpha_du alpha_pr  ls\n",
      "  80  5.6537768e+04 0.00e+00 7.31e+00 -11.0 9.00e-03    -  1.00e+00 9.77e-04h 11\n",
      "  81  5.6537768e+04 0.00e+00 5.77e+00 -11.0 2.46e-04    -  1.00e+00 5.00e-01f  2\n",
      "  82  5.6537768e+04 0.00e+00 6.92e+00 -11.0 2.86e-04    -  1.00e+00 6.25e-02f  5\n",
      "  83  5.6537768e+04 0.00e+00 6.62e+01 -11.0 4.21e-01    -  1.00e+00 9.77e-04h 11\n",
      "  84  5.6537768e+04 0.00e+00 1.30e+00 -11.0 4.14e-04    -  1.00e+00 1.00e+00f  1\n",
      "  85  5.6537768e+04 0.00e+00 1.04e+01 -11.0 6.74e-01    -  1.00e+00 9.77e-04h 11\n",
      "  86  5.6537768e+04 0.00e+00 4.14e+01 -11.0 5.47e-01    -  1.00e+00 9.77e-04h 11\n",
      "  87  5.6537768e+04 0.00e+00 3.72e+01 -11.0 1.09e-01    -  1.00e+00 9.77e-04h 11\n",
      "  88  5.6537768e+04 0.00e+00 4.93e+00 -11.0 1.79e-03    -  1.00e+00 5.00e-01f  2\n",
      "  89  5.6537768e+04 0.00e+00 4.49e+00 -11.0 6.93e-03    -  1.00e+00 9.77e-04h 11\n",
      "iter    objective    inf_pr   inf_du lg(mu)  ||d||  lg(rg) alpha_du alpha_pr  ls\n",
      "  90  5.6537768e+04 0.00e+00 1.21e+00 -11.0 2.10e-03    -  1.00e+00 6.25e-02f  5\n",
      "  91  5.6537768e+04 0.00e+00 1.38e+00 -11.0 3.13e-04    -  1.00e+00 3.91e-03f  9\n",
      "  92  5.6537768e+04 0.00e+00 1.13e+00 -11.0 1.72e-02    -  1.00e+00 9.77e-04h 11\n",
      "  93  5.6537768e+04 0.00e+00 7.17e-01 -11.0 1.43e-02    -  1.00e+00 1.95e-03f 10\n",
      "  94  5.6537768e+04 0.00e+00 2.71e+00 -11.0 3.28e-02    -  1.00e+00 9.77e-04h 11\n",
      "  95  5.6537768e+04 0.00e+00 2.16e-03 -11.0 3.86e-05    -  1.00e+00 1.00e+00f  1\n",
      "  96  5.6537768e+04 0.00e+00 8.31e-02 -11.0 1.92e-03    -  1.00e+00 9.77e-04h 11\n",
      "  97  5.6537768e+04 0.00e+00 1.88e-07 -11.0 1.83e-06    -  1.00e+00 1.00e+00f  1\n",
      "\n",
      "Number of Iterations....: 97\n",
      "\n",
      "                                   (scaled)                 (unscaled)\n",
      "Objective...............:   5.6537767508129138e+04    5.6537767508129138e+04\n",
      "Dual infeasibility......:   1.8772448826619907e-07    1.8772448826619907e-07\n",
      "Constraint violation....:   0.0000000000000000e+00    0.0000000000000000e+00\n",
      "Complementarity.........:   9.9999999999588294e-12    9.9999999999588294e-12\n",
      "Overall NLP error.......:   1.8772448826619907e-07    1.8772448826619907e-07\n",
      "\n",
      "\n",
      "Number of objective function evaluations             = 863\n",
      "Number of objective gradient evaluations             = 98\n",
      "Number of equality constraint evaluations            = 0\n",
      "Number of inequality constraint evaluations          = 0\n",
      "Number of equality constraint Jacobian evaluations   = 0\n",
      "Number of inequality constraint Jacobian evaluations = 0\n",
      "Number of Lagrangian Hessian evaluations             = 0\n",
      "Total CPU secs in IPOPT (w/o function evaluations)   =      0.533\n",
      "Total CPU secs in NLP function evaluations           =      2.351\n",
      "\n",
      "EXIT: Optimal Solution Found.\n",
      "  3.519835 seconds (27.01 M allocations: 958.226 MiB, 2.12% gc time, 24.48% compilation time)\n"
     ]
    }
   ],
   "source": [
    "@time optm = QuasiCopula.fit!(qc_model,\n",
    "    Ipopt.IpoptSolver(\n",
    "        print_level = 5, \n",
    "        tol = 10^-6, \n",
    "        max_iter = 1000,\n",
    "        accept_after_max_steps = 10,\n",
    "        warm_start_init_point=\"yes\", \n",
    "        limited_memory_max_history = 6, # default value\n",
    "        hessian_approximation = \"limited-memory\",\n",
    "        derivative_test=\"first-order\"\n",
    "    )\n",
    ");"
   ]
  },
  {
   "cell_type": "code",
   "execution_count": 4,
   "metadata": {
    "collapsed": false
   },
   "outputs": [
    {
     "name": "stdout",
     "output_type": "stream",
     "text": [
      "βtrue = [1.0, -0.5, 0.5]\n",
      "qc_model.β = [0.9740664565977979, -0.5449071868918861, 0.4507960036263229]\n",
      "qc_model.∇β = [6.348862047200754e-9, -3.6053718378836752e-9, 1.1929604554206108e-8]\n",
      "θtrue = [0.1]\n",
      "qc_model.θ = [0.11041961925588809]\n",
      "qc_model.∇θ = [3.6974316275362185e-8]\n",
      "qc_model.τ = [0.009884835862978891]\n",
      "qc_model.∇τ = [-1.887361378294372e-7]\n"
     ]
    }
   ],
   "source": [
    "@show βtrue\n",
    "@show qc_model.β\n",
    "@show qc_model.∇β\n",
    "\n",
    "@show θtrue\n",
    "@show qc_model.θ\n",
    "@show qc_model.∇θ;\n",
    "\n",
    "@show qc_model.τ\n",
    "@show qc_model.∇τ;"
   ]
  },
  {
   "cell_type": "markdown",
   "metadata": {},
   "source": [
    "## Score test GWAS"
   ]
  },
  {
   "cell_type": "code",
   "execution_count": 5,
   "metadata": {
    "collapsed": false
   },
   "outputs": [
    {
     "name": "stdout",
     "output_type": "stream",
     "text": [
      " 39.274250 seconds (519.83 M allocations: 36.498 GiB, 6.64% gc time, 5.16% compilation time)\n",
      " 15.925129 seconds (14.31 M allocations: 798.349 MiB, 0.78% gc time, 19.27% compilation time)\n"
     ]
    },
    {
     "data": {
      "text/plain": [
       "1000×2 Matrix{Float64}:\n",
       " 0.0422337  0.0422337\n",
       " 0.626052   0.626052\n",
       " 0.41752    0.41752\n",
       " 0.923725   0.923725\n",
       " 0.899139   0.899139\n",
       " 0.210571   0.210571\n",
       " 0.876327   0.876327\n",
       " 0.644442   0.644442\n",
       " 0.212463   0.212463\n",
       " 0.825381   0.825381\n",
       " 0.201422   0.201422\n",
       " 0.769411   0.769411\n",
       " 0.896775   0.896775\n",
       " ⋮          \n",
       " 0.161667   0.161667\n",
       " 0.5821     0.5821\n",
       " 0.167891   0.167891\n",
       " 0.868515   0.868515\n",
       " 0.881835   0.881835\n",
       " 0.887746   0.887746\n",
       " 0.423358   0.423358\n",
       " 0.604095   0.604095\n",
       " 0.092586   0.092586\n",
       " 0.981627   0.981627\n",
       " 0.172259   0.172259\n",
       " 0.820025   0.820025"
      ]
     },
     "execution_count": 5,
     "metadata": {},
     "output_type": "execute_result"
    }
   ],
   "source": [
    "# Bernoulli\n",
    "@time pvals1 = QuasiCopula.GWASCopulaVCModel(qc_model, G)\n",
    "@time pvals2 = QuasiCopula.GWASCopulaVCModel_autodiff(qc_model, G)\n",
    "[pvals1 pvals2]"
   ]
  },
  {
   "cell_type": "code",
   "execution_count": 9,
   "metadata": {
    "collapsed": false
   },
   "outputs": [
    {
     "name": "stdout",
     "output_type": "stream",
     "text": [
      " 36.147133 seconds (511.42 M allocations: 36.067 GiB, 7.32% gc time, 1.02% compilation time)\n",
      " 17.826907 seconds (13.52 M allocations: 737.805 MiB, 0.58% gc time, 14.21% compilation time)\n"
     ]
    },
    {
     "data": {
      "text/plain": [
       "1000×2 Matrix{Float64}:\n",
       " 0.587118    0.587118\n",
       " 0.639156    0.639156\n",
       " 0.384689    0.384689\n",
       " 0.738693    0.738693\n",
       " 0.510028    0.510028\n",
       " 0.00365622  0.00365622\n",
       " 0.227462    0.227462\n",
       " 0.734707    0.734707\n",
       " 0.292638    0.292638\n",
       " 0.411821    0.411821\n",
       " 0.629741    0.629741\n",
       " 0.848844    0.848844\n",
       " 0.973128    0.973128\n",
       " ⋮           \n",
       " 0.275256    0.275256\n",
       " 0.517931    0.517931\n",
       " 0.935623    0.935623\n",
       " 0.580885    0.580885\n",
       " 0.323186    0.323186\n",
       " 0.398763    0.398763\n",
       " 0.553326    0.553326\n",
       " 0.368242    0.368242\n",
       " 0.445115    0.445115\n",
       " 0.0173726   0.0173726\n",
       " 0.849858    0.849858\n",
       " 0.431709    0.431709"
      ]
     },
     "execution_count": 9,
     "metadata": {},
     "output_type": "execute_result"
    }
   ],
   "source": [
    "# Poisson\n",
    "@time pvals1 = QuasiCopula.GWASCopulaVCModel(qc_model, G)\n",
    "@time pvals2 = QuasiCopula.GWASCopulaVCModel_autodiff(qc_model, G)\n",
    "[pvals1 pvals2]"
   ]
  },
  {
   "cell_type": "code",
   "execution_count": 15,
   "metadata": {
    "collapsed": false
   },
   "outputs": [
    {
     "name": "stdout",
     "output_type": "stream",
     "text": [
      " 21.024380 seconds (225.62 M allocations: 15.342 GiB, 6.11% gc time, 1.73% compilation time)\n",
      " 18.080967 seconds (23.46 M allocations: 3.287 GiB, 1.41% gc time, 14.78% compilation time)\n"
     ]
    },
    {
     "data": {
      "text/plain": [
       "1000×2 Matrix{Float64}:\n",
       " 0.0826062  0.0832374\n",
       " 0.770023   0.770071\n",
       " 0.254867   0.25746\n",
       " 0.680199   0.680199\n",
       " 0.689235   0.690243\n",
       " 0.525459   0.525584\n",
       " 0.993506   0.993527\n",
       " 0.282124   0.282272\n",
       " 0.441822   0.442451\n",
       " 0.557042   0.557037\n",
       " 0.932353   0.932379\n",
       " 0.690387   0.690401\n",
       " 0.837113   0.837379\n",
       " ⋮          \n",
       " 0.821519   0.822274\n",
       " 0.562925   0.564201\n",
       " 0.0340771  0.0353956\n",
       " 0.551539   0.551538\n",
       " 0.993941   0.993962\n",
       " 0.899746   0.899749\n",
       " 0.89777    0.897932\n",
       " 0.264365   0.26438\n",
       " 0.6128     0.612805\n",
       " 0.661763   0.6624\n",
       " 0.168152   0.168135\n",
       " 0.509202   0.509352"
      ]
     },
     "execution_count": 15,
     "metadata": {},
     "output_type": "execute_result"
    }
   ],
   "source": [
    "# Normal\n",
    "@time pvals1 = QuasiCopula.GWASCopulaVCModel(qc_model, G)\n",
    "@time pvals2 = QuasiCopula.GWASCopulaVCModel_autodiff(qc_model, G)\n",
    "[pvals1 pvals2]"
   ]
  },
  {
   "cell_type": "code",
   "execution_count": null,
   "metadata": {
    "collapsed": true
   },
   "outputs": [],
   "source": []
  },
  {
   "cell_type": "code",
   "execution_count": null,
   "metadata": {
    "collapsed": true
   },
   "outputs": [],
   "source": []
  },
  {
   "cell_type": "markdown",
   "metadata": {},
   "source": [
    "## Gaussian longitudinal correctness\n",
    "\n",
    "Once we take into account the effect of $\\tau$, the p-values will still be slightly different compared to longitudinal GWAS. Here we show the reason is due to numerical issues when inverting $P$ in the beginning."
   ]
  },
  {
   "cell_type": "code",
   "execution_count": 13,
   "metadata": {
    "collapsed": false
   },
   "outputs": [
    {
     "name": "stdout",
     "output_type": "stream",
     "text": [
      "P = [113.05911545593877 -0.11163593560864356 -0.3196625214495707 21.479304233311986 -93.8906336998371; -0.11163593560864364 139.07103912186128 -0.3025554054692216 8.720278525194463 -80.78602874576163; -0.3196625214495707 -0.3025554054692215 138.56909390714924 -15.774601971211679 35.455454214897536; 21.479304233311986 8.720278525194463 -15.774601971211679 69151.18443977748 -34427.74339925807; -93.8906336998371 -80.78602874576163 35.455454214897536 -34427.74339925807 7.903222759764801e7]\n",
      "Pinv = [0.008845522559639796 7.321446164254837e-6 2.0107344783713935e-5 -2.7392398388129613e-6 9.313724921388113e-9; 7.321446164254842e-6 0.007190670145673407 1.561272175515519e-5 -9.020241599270357e-7 6.958995141201502e-9; 2.0107344783713938e-5 1.5612721755155183e-5 0.007216883879251512 1.636846685927368e-6 -2.484755688976294e-9; -2.739239838812961e-6 -9.020241599270357e-7 1.636846685927368e-6 1.4465541067466773e-5 6.296517965795261e-9; 9.313724921388114e-9 6.958995141201502e-9 -2.4847556889762937e-9 6.296517965795261e-9 1.265582826231586e-8]\n",
      "R = -11.801018898082326\n",
      "Q = 46.45019639054258\n",
      "W = [0.2822078374578162, -1.1839889985976593, -0.226679215653906, 122.23366858173169, 1318.6074033883103]\n",
      "S = 3.014444654117166\n"
     ]
    },
    {
     "ename": "LoadError",
     "evalue": "UndefVarError: fdsa not defined",
     "output_type": "error",
     "traceback": [
      "UndefVarError: fdsa not defined",
      "",
      "Stacktrace:",
      " [1] GWASCopulaVCModel(qc_model::GaussianCopulaVCModel{Float64}, G::SnpArray)",
      "   @ QuasiCopula ~/.julia/dev/QuasiCopula/src/gwas/longitudinal.jl:109",
      " [2] top-level scope",
      "   @ ./timing.jl:220 [inlined]",
      " [3] top-level scope",
      "   @ ./In[13]:0"
     ]
    }
   ],
   "source": [
    "@time pvals1 = QuasiCopula.GWASCopulaVCModel(qc_model, G)"
   ]
  },
  {
   "cell_type": "code",
   "execution_count": 14,
   "metadata": {
    "collapsed": false
   },
   "outputs": [
    {
     "name": "stdout",
     "output_type": "stream",
     "text": [
      "P = [113.05911545593902 -0.11163593560864114 -0.31966252144957114 21.479304233312003 -93.89063369983887; -0.11163593560864153 139.07103912186108 -0.3025554054692221 8.720278525194463 -80.78602874577089; -0.3196625214495708 -0.3025554054692223 138.5690939071499 -15.774601971211682 35.455454214897166; 21.479304233311996 8.720278525194457 -15.774601971211686 8643.898054971809 -434108.4588004997; -93.89063369983882 -80.78602874577143 35.45545421489705 -434108.4588004997 7.903222759764946e7]\n",
      "Pinv = [0.008850486661227997 8.910050122734006e-6 1.7104561173109193e-5 -2.9610568443941362e-5 -1.5212916854451934e-7; 8.910050122734032e-6 0.007191178487771645 1.465174367594188e-5 -9.501920739791808e-6 -4.4837409214650266e-8; 1.7104561173109176e-5 1.4651743675941894e-5 0.007218700236852495 1.789084932088198e-5 9.506775365241243e-8; -2.961056844394135e-5 -9.501920739791794e-6 1.789084932088199e-5 0.000159915326968614 8.783304752164311e-7; -1.5212916854451923e-7 -4.4837409214650154e-8 9.506775365241253e-8 8.783304752164312e-7 1.747729318139757e-8]\n",
      "R = -11.801018898082324\n",
      "Q = 46.450196390541805\n",
      "W = [0.2822078374578289, -1.1839889985976668, -0.2266792156539055, -12.152778363291588, 1318.6074033883076]\n",
      "S = 3.000527642722757\n"
     ]
    },
    {
     "ename": "LoadError",
     "evalue": "UndefVarError: fdsa not defined",
     "output_type": "error",
     "traceback": [
      "UndefVarError: fdsa not defined",
      "",
      "Stacktrace:",
      " [1] GWASCopulaVCModel_autodiff(gcm::GaussianCopulaVCModel{Float64}, G::SnpArray)",
      "   @ QuasiCopula ~/.julia/dev/QuasiCopula/src/gwas/longitudinal_autodiff.jl:335",
      " [2] top-level scope",
      "   @ ./timing.jl:220 [inlined]",
      " [3] top-level scope",
      "   @ ./In[14]:0"
     ]
    }
   ],
   "source": [
    "@time pvals2 = QuasiCopula.GWASCopulaVCModel_autodiff(qc_model, G)"
   ]
  },
  {
   "cell_type": "code",
   "execution_count": null,
   "metadata": {
    "collapsed": true
   },
   "outputs": [],
   "source": []
  },
  {
   "cell_type": "code",
   "execution_count": null,
   "metadata": {
    "collapsed": true
   },
   "outputs": [],
   "source": []
  },
  {
   "cell_type": "code",
   "execution_count": null,
   "metadata": {
    "collapsed": true
   },
   "outputs": [],
   "source": []
  },
  {
   "cell_type": "code",
   "execution_count": null,
   "metadata": {
    "collapsed": true
   },
   "outputs": [],
   "source": []
  },
  {
   "cell_type": "code",
   "execution_count": 11,
   "metadata": {
    "collapsed": false,
    "scrolled": false
   },
   "outputs": [
    {
     "name": "stdout",
     "output_type": "stream",
     "text": [
      " 39.084778 seconds (510.64 M allocations: 36.026 GiB, 9.62% gc time, 0.01% compilation time)\n"
     ]
    },
    {
     "data": {
      "text/plain": [
       "1000-element Vector{Float64}:\n",
       " 0.04237106978625808\n",
       " 0.6260408273210571\n",
       " 0.4175210805098005\n",
       " 0.9237273618122198\n",
       " 0.899139076785499\n",
       " 0.2105685791891232\n",
       " 0.87632805457857\n",
       " 0.6444703491799723\n",
       " 0.212467061196613\n",
       " 0.8254159007580693\n",
       " 0.20175431671757915\n",
       " 0.7693680902423318\n",
       " 0.896771272041161\n",
       " ⋮\n",
       " 0.1622760248460603\n",
       " 0.582132875902791\n",
       " 0.16797237561465403\n",
       " 0.8685136689983323\n",
       " 0.8818350841267775\n",
       " 0.8878162759603672\n",
       " 0.4233661125771992\n",
       " 0.6039925981896165\n",
       " 0.09266969057460371\n",
       " 0.9816271441316824\n",
       " 0.1723419962895368\n",
       " 0.8199887920039918"
      ]
     },
     "execution_count": 11,
     "metadata": {},
     "output_type": "execute_result"
    }
   ],
   "source": [
    "# Bernoulli\n",
    "@time pvals = QuasiCopula.GWASCopulaVCModel(qc_model, G)"
   ]
  },
  {
   "cell_type": "code",
   "execution_count": 12,
   "metadata": {
    "collapsed": false
   },
   "outputs": [
    {
     "data": {
      "image/png": "[encoded data removed]"
     },
     "metadata": {},
     "output_type": "display_data"
    }
   ],
   "source": [
    "# gaussian\n",
    "qq(pvals, dpi=80, titles=\"Gaussian, $k causal SNPs\")\n",
    "display(\"image/png\", read(\"qqplot.png\"))"
   ]
  },
  {
   "cell_type": "code",
   "execution_count": 12,
   "metadata": {
    "collapsed": false
   },
   "outputs": [
    {
     "data": {
      "image/png": "[encoded data removed]"
     },
     "metadata": {},
     "output_type": "display_data"
    }
   ],
   "source": [
    "# Bernoulli\n",
    "qq(pvals, dpi=80, titles=\"Bernoulli, $k causal SNPs\")\n",
    "display(\"image/png\", read(\"qqplot.png\"))"
   ]
  },
  {
   "cell_type": "code",
   "execution_count": 7,
   "metadata": {
    "collapsed": false
   },
   "outputs": [
    {
     "name": "stdout",
     "output_type": "stream",
     "text": [
      " 16.146223 seconds (14.23 M allocations: 794.285 MiB, 0.76% gc time, 18.86% compilation time)\n"
     ]
    },
    {
     "data": {
      "text/plain": [
       "1000-element Vector{Float64}:\n",
       " 0.04223373038042875\n",
       " 0.6260522783632376\n",
       " 0.4175203872666951\n",
       " 0.9237248799378779\n",
       " 0.8991389365186702\n",
       " 0.21057058844454005\n",
       " 0.8763265947972056\n",
       " 0.6444418776606714\n",
       " 0.21246306979667423\n",
       " 0.8253806794098849\n",
       " 0.20142208400694242\n",
       " 0.7694111559521428\n",
       " 0.8967750752462262\n",
       " ⋮\n",
       " 0.16166717166138747\n",
       " 0.5820995811997104\n",
       " 0.16789123818202153\n",
       " 0.8685145268128949\n",
       " 0.8818345013347856\n",
       " 0.887746210550894\n",
       " 0.42335825251362047\n",
       " 0.6040949737838895\n",
       " 0.09258604112184637\n",
       " 0.9816270415583391\n",
       " 0.17225901871224816\n",
       " 0.8200253670141937"
      ]
     },
     "execution_count": 7,
     "metadata": {},
     "output_type": "execute_result"
    }
   ],
   "source": [
    "# autodiff Bernoulli\n",
    "@time pvals = QuasiCopula.GWASCopulaVCModel_autodiff(qc_model, G)"
   ]
  },
  {
   "cell_type": "code",
   "execution_count": 24,
   "metadata": {
    "collapsed": false
   },
   "outputs": [
    {
     "data": {
      "image/png": "[encoded data removed]"
     },
     "metadata": {},
     "output_type": "display_data"
    }
   ],
   "source": [
    "qq(pvals, dpi=80, titles=\"Autodiff Bernoulli, $k causal SNPs\")\n",
    "display(\"image/png\", read(\"qqplot.png\"))"
   ]
  },
  {
   "cell_type": "code",
   "execution_count": null,
   "metadata": {
    "collapsed": true
   },
   "outputs": [],
   "source": []
  },
  {
   "cell_type": "code",
   "execution_count": null,
   "metadata": {
    "collapsed": true
   },
   "outputs": [],
   "source": []
  },
  {
   "cell_type": "code",
   "execution_count": null,
   "metadata": {
    "collapsed": true
   },
   "outputs": [],
   "source": []
  },
  {
   "cell_type": "code",
   "execution_count": null,
   "metadata": {
    "collapsed": true
   },
   "outputs": [],
   "source": []
  }
 ],
 "metadata": {
  "@webio": {
   "lastCommId": null,
   "lastKernelId": null
  },
  "kernelspec": {
   "display_name": "Julia 1.7.3",
   "language": "julia",
   "name": "julia-1.7"
  },
  "language_info": {
   "file_extension": ".jl",
   "mimetype": "application/julia",
   "name": "julia",
   "version": "1.7.3"
  },
  "toc": {
   "base_numbering": 1,
   "nav_menu": {},
   "number_sections": true,
   "sideBar": true,
   "skip_h1_title": false,
   "title_cell": "Table of Contents",
   "title_sidebar": "Contents",
   "toc_cell": false,
   "toc_position": {},
   "toc_section_display": true,
   "toc_window_display": false
  }
 },
 "nbformat": 4,
 "nbformat_minor": 2
}
