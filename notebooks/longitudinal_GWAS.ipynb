{
 "cells": [
  {
   "cell_type": "markdown",
   "metadata": {},
   "source": [
    "# Longitudinal QuasiCopula GWAS with Mixed Marginals\n",
    "\n",
    "Here we adopt the variance component model framework\n",
    "\n",
    "$$\\mathbf{\\Gamma}_i(\\mathbf{\\theta}) = \\sum_{k=1}^m \\theta_k\\mathbf{V}_{ik}, \\quad \\theta_k \\ge 0$$"
   ]
  },
  {
   "cell_type": "code",
   "execution_count": 1,
   "metadata": {
    "collapsed": false
   },
   "outputs": [
    {
     "name": "stderr",
     "output_type": "stream",
     "text": [
      "┌ Info: Precompiling QuasiCopula [c47b6ae2-b804-4668-9957-eb588c99ffbc]\n",
      "└ @ Base loading.jl:1423\n"
     ]
    },
    {
     "data": {
      "text/plain": [
       "_make_snparray (generic function with 1 method)"
      ]
     },
     "execution_count": 1,
     "metadata": {},
     "output_type": "execute_result"
    }
   ],
   "source": [
    "using Revise\n",
    "using DataFrames, Random, GLM, QuasiCopula\n",
    "using ForwardDiff, Test, LinearAlgebra\n",
    "using LinearAlgebra: BlasReal, copytri!\n",
    "using ToeplitzMatrices\n",
    "using BenchmarkTools\n",
    "using SnpArrays\n",
    "using MendelPlots\n",
    "ENV[\"COLUMNS\"] = 240\n",
    "\n",
    "BLAS.set_num_threads(1)\n",
    "Threads.nthreads()\n",
    "\n",
    "function simulate_random_snparray(s::Union{String, UndefInitializer}, n::Int64,\n",
    "    p::Int64; mafs::Vector{Float64}=zeros(Float64, p), min_ma::Int = 5)\n",
    "\n",
    "    #first simulate a random {0, 1, 2} matrix with each SNP drawn from Binomial(2, r[i])\n",
    "    A1 = BitArray(undef, n, p) \n",
    "    A2 = BitArray(undef, n, p) \n",
    "    for j in 1:p\n",
    "        minor_alleles = 0\n",
    "        maf = 0\n",
    "        while minor_alleles <= min_ma\n",
    "            maf = 0.5rand()\n",
    "            for i in 1:n\n",
    "                A1[i, j] = rand(Bernoulli(maf))\n",
    "                A2[i, j] = rand(Bernoulli(maf))\n",
    "            end\n",
    "            minor_alleles = sum(view(A1, :, j)) + sum(view(A2, :, j))\n",
    "        end\n",
    "        mafs[j] = maf\n",
    "    end\n",
    "\n",
    "    #fill the SnpArray with the corresponding x_tmp entry\n",
    "    return _make_snparray(s, A1, A2)\n",
    "end\n",
    "\n",
    "function _make_snparray(s::Union{String, UndefInitializer}, A1::BitArray, A2::BitArray)\n",
    "    n, p = size(A1)\n",
    "    x = SnpArray(s, n, p)\n",
    "    for i in 1:(n*p)\n",
    "        c = A1[i] + A2[i]\n",
    "        if c == 0\n",
    "            x[i] = 0x00\n",
    "        elseif c == 1\n",
    "            x[i] = 0x02\n",
    "        elseif c == 2\n",
    "            x[i] = 0x03\n",
    "        else\n",
    "            throw(MissingException(\"matrix shouldn't have missing values!\"))\n",
    "        end\n",
    "    end\n",
    "    return x\n",
    "end"
   ]
  },
  {
   "cell_type": "markdown",
   "metadata": {},
   "source": [
    "## Simulate data"
   ]
  },
  {
   "cell_type": "code",
   "execution_count": 11,
   "metadata": {
    "collapsed": false
   },
   "outputs": [
    {
     "name": "stdout",
     "output_type": "stream",
     "text": [
      "qc_model = Quasi-Copula Variance Component Model\n",
      "  * base distribution: Bernoulli\n",
      "  * link function: LogitLink\n",
      "  * number of clusters: 5000\n",
      "  * cluster size min, max: 1, 5\n",
      "  * number of variance components: 2\n",
      "  * number of fixed effects: 3\n",
      "\n"
     ]
    }
   ],
   "source": [
    "function simulate_VC_longitudinal(;\n",
    "    n = 1000, # sample size\n",
    "    d = 2, # number of observations per sample\n",
    "    p = 3, # number of nongenetic covariates, including intercept\n",
    "    m = 1, # number of variance components\n",
    "    q = 1000, # number of SNPs\n",
    "    k = 10, # number of causal SNPs\n",
    "    seed = 2022,\n",
    "    y_distribution = Bernoulli,\n",
    "    T = Float64,\n",
    "    )\n",
    "    m == 1 || m == 2 || error(\"m (number of VC) must be 1 or 2\")\n",
    "    \n",
    "    # non-genetic effect sizes\n",
    "    Random.seed!(seed)\n",
    "    βtrue = [1.0; rand(-0.03:0.06:0.03, p-1)]\n",
    "    dist = y_distribution()\n",
    "    link = canonicallink(dist)\n",
    "    Dist = typeof(dist)\n",
    "    Link = typeof(link)\n",
    "\n",
    "    # variance components\n",
    "    θtrue = fill(0.1, m)\n",
    "\n",
    "    # simulate design matrices\n",
    "    Random.seed!(seed)\n",
    "    X_full = Matrix{Float64}[]\n",
    "    for i in 1:n\n",
    "        nobs = rand(1:d) # number of obs for this sample\n",
    "        push!(X_full, hcat(ones(nobs), randn(nobs, p - 1)))\n",
    "    end\n",
    "\n",
    "    # simulate random SnpArray with q SNPs and randomly choose k SNPs to be causal\n",
    "    Random.seed!(2022)\n",
    "    G = simulate_random_snparray(undef, n, q)\n",
    "    Gfloat = convert(Matrix{T}, G, center=true, scale=false)\n",
    "    γtrue = zeros(q)\n",
    "    γtrue[1:k] .= rand([-0.2, 0.2], k)\n",
    "    shuffle!(γtrue)\n",
    "    η_G = Gfloat * γtrue\n",
    "\n",
    "    # simulate phenotypes\n",
    "    if y_distribution == Normal\n",
    "        τtrue = 10.0\n",
    "        σ2 = inv(τtrue)\n",
    "        σ = sqrt(σ2)\n",
    "        obs = Vector{GaussianCopulaVCObs{T}}(undef, n)\n",
    "        for i in 1:n\n",
    "            # data matrix\n",
    "            X = X_full[i]\n",
    "            η = X * βtrue\n",
    "            η .+= η_G[i] # add genetic effects\n",
    "            μ = GLM.linkinv.(link, η)\n",
    "            vecd = Vector{ContinuousUnivariateDistribution}(undef, size(X, 1))\n",
    "            # VC matrices\n",
    "            V1 = ones(size(X, 1), size(X, 1))\n",
    "            V2 = Matrix(I, size(X, 1), size(X, 1))\n",
    "            Γ = m == 1 ? θtrue[1] * V1 : θtrue[1] * V1 + θtrue[2] * V2\n",
    "            for i in 1:size(X, 1)\n",
    "                vecd[i] = y_distribution(μ[i], σ)\n",
    "            end\n",
    "            nonmixed_multivariate_dist = NonMixedMultivariateDistribution(vecd, Γ)\n",
    "            # simuate single vector y\n",
    "            y = Vector{T}(undef, size(X, 1))\n",
    "            res = Vector{T}(undef, size(X, 1))\n",
    "            rand(nonmixed_multivariate_dist, y, res)\n",
    "            V = m == 1 ? [V1] : [V1, V2]\n",
    "            obs[i] = GaussianCopulaVCObs(y, X, V)\n",
    "        end\n",
    "        qc_model = GaussianCopulaVCModel(obs)\n",
    "    else\n",
    "        obs = Vector{GLMCopulaVCObs{T, Dist, Link}}(undef, n)\n",
    "        for i in 1:n\n",
    "            # data matrix\n",
    "            X = X_full[i]\n",
    "            η = X * βtrue\n",
    "            η .+= η_G[i] # add genetic effects\n",
    "            μ = GLM.linkinv.(link, η)\n",
    "            # VC matrices\n",
    "            V1 = ones(size(X, 1), size(X, 1))\n",
    "            V2 = Matrix(I, size(X, 1), size(X, 1))\n",
    "            Γ = m == 1 ? θtrue[1] * V1 : θtrue[1] * V1 + θtrue[2] * V2\n",
    "            vecd = Vector{DiscreteUnivariateDistribution}(undef, size(X, 1))\n",
    "            for i in 1:size(X, 1)\n",
    "                vecd[i] = y_distribution(μ[i])\n",
    "            end\n",
    "            nonmixed_multivariate_dist = NonMixedMultivariateDistribution(vecd, Γ)\n",
    "            # simuate single vector y\n",
    "            y = Vector{T}(undef, size(X, 1))\n",
    "            res = Vector{T}(undef, size(X, 1))\n",
    "            rand(nonmixed_multivariate_dist, y, res)\n",
    "            V = m == 1 ? [V1] : [V1, V2]\n",
    "            obs[i] = GLMCopulaVCObs(y, X, V, dist, link)\n",
    "        end\n",
    "        qc_model = GLMCopulaVCModel(obs)\n",
    "    end\n",
    "    return qc_model, G, βtrue, θtrue, γtrue\n",
    "end\n",
    "\n",
    "k = 0 # number of causal SNPs\n",
    "\n",
    "qc_model, G, βtrue, θtrue, γtrue = simulate_VC_longitudinal(\n",
    "    n = 5000, # sample size\n",
    "    d = 5, # max number of observations per sample\n",
    "    p = 3, # number of fixed effects, including intercept\n",
    "    m = 2, # number of variance components\n",
    "    q = 1000, # number of SNPs\n",
    "    k = k, # number of causal SNPs\n",
    "    seed = 2022,\n",
    "    y_distribution = Bernoulli,\n",
    "    T = Float64,\n",
    ")\n",
    "\n",
    "@show qc_model;"
   ]
  },
  {
   "cell_type": "markdown",
   "metadata": {},
   "source": [
    "## Fit Null model"
   ]
  },
  {
   "cell_type": "code",
   "execution_count": 12,
   "metadata": {
    "collapsed": false,
    "scrolled": true
   },
   "outputs": [
    {
     "name": "stdout",
     "output_type": "stream",
     "text": [
      "This is Ipopt version 3.13.4, running with linear solver mumps.\n",
      "NOTE: Other linear solvers might be more efficient (see Ipopt documentation).\n",
      "\n",
      "Number of nonzeros in equality constraint Jacobian...:        0\n",
      "Number of nonzeros in inequality constraint Jacobian.:        0\n",
      "Number of nonzeros in Lagrangian Hessian.............:        0\n",
      "\n",
      "Total number of variables............................:        5\n",
      "                     variables with only lower bounds:        2\n",
      "                variables with lower and upper bounds:        0\n",
      "                     variables with only upper bounds:        0\n",
      "Total number of equality constraints.................:        0\n",
      "Total number of inequality constraints...............:        0\n",
      "        inequality constraints with only lower bounds:        0\n",
      "   inequality constraints with lower and upper bounds:        0\n",
      "        inequality constraints with only upper bounds:        0\n",
      "\n",
      "iter    objective    inf_pr   inf_du lg(mu)  ||d||  lg(rg) alpha_du alpha_pr  ls\n",
      "   0  9.1200663e+03 0.00e+00 1.12e+02   0.0 0.00e+00    -  0.00e+00 0.00e+00   0\n",
      "   1  9.1170768e+03 0.00e+00 8.09e+01  -2.5 1.12e+02    -  1.00e+00 1.06e-04f  1\n",
      "   2  9.1166026e+03 0.00e+00 7.56e+01  -5.4 3.23e-02    -  1.00e+00 1.22e-01f  1\n",
      "   3  9.1149427e+03 0.00e+00 1.22e+02 -10.4 6.11e-02    -  1.00e+00 1.00e+00f  1\n",
      "   4  9.1136600e+03 0.00e+00 2.19e+01  -6.9 3.42e-02    -  1.00e+00 4.31e-01f  1\n",
      "   5  9.1134984e+03 0.00e+00 4.65e+00  -5.8 1.04e-02    -  4.28e-01 1.00e+00f  1\n",
      "   6  9.1134908e+03 0.00e+00 3.61e+00  -4.4 1.24e-03    -  2.43e-02 1.00e+00f  1\n",
      "   7  9.1134291e+03 0.00e+00 3.96e+00  -5.3 1.48e-02    -  1.00e+00 1.00e+00f  1\n",
      "   8  9.1134140e+03 0.00e+00 4.97e+00  -4.4 5.91e-02    -  1.00e+00 1.25e-01f  4\n",
      "   9  9.1133891e+03 0.00e+00 8.31e+00  -4.8 5.13e-02    -  1.00e+00 1.00e+00f  1\n",
      "iter    objective    inf_pr   inf_du lg(mu)  ||d||  lg(rg) alpha_du alpha_pr  ls\n",
      "  10  9.1133814e+03 0.00e+00 8.96e+00  -6.0 1.27e-02    -  1.00e+00 5.00e-01f  2\n",
      "  11  9.1133533e+03 0.00e+00 1.52e+00 -11.0 2.23e-02    -  1.00e+00 1.00e+00f  1\n",
      "  12  9.1133532e+03 0.00e+00 2.15e+00  -7.5 8.11e-03    -  1.00e+00 5.00e-01f  2\n",
      "  13  9.1133523e+03 0.00e+00 1.81e+00  -9.1 8.63e-03    -  1.00e+00 5.00e-01f  2\n",
      "  14  9.1133521e+03 0.00e+00 5.54e-01 -10.0 6.44e-03    -  1.00e+00 5.00e-01f  2\n",
      "  15  9.1133507e+03 0.00e+00 9.27e-01 -11.0 9.34e-03    -  1.00e+00 5.00e-01f  2\n",
      "  16  9.1133507e+03 0.00e+00 8.68e-01 -11.0 3.44e-03    -  1.00e+00 6.25e-02f  5\n",
      "  17  9.1133506e+03 0.00e+00 6.08e-01 -11.0 3.04e-04    -  1.00e+00 1.00e+00f  1\n",
      "  18  9.1133505e+03 0.00e+00 2.94e-02 -11.0 1.81e-04    -  1.00e+00 1.00e+00f  1\n",
      "  19  9.1133505e+03 0.00e+00 7.23e-03 -11.0 2.27e-05    -  1.00e+00 1.00e+00f  1\n",
      "iter    objective    inf_pr   inf_du lg(mu)  ||d||  lg(rg) alpha_du alpha_pr  ls\n",
      "  20  9.1133505e+03 0.00e+00 5.89e-04 -11.0 4.28e-06    -  1.00e+00 1.00e+00f  1\n",
      "  21  9.1133505e+03 0.00e+00 5.92e-05 -11.0 1.82e-07    -  1.00e+00 1.00e+00f  1\n",
      "  22  9.1133505e+03 0.00e+00 5.81e-06 -11.0 4.06e-08    -  1.00e+00 1.00e+00f  1\n",
      "  23  9.1133505e+03 0.00e+00 2.95e-06 -11.0 5.07e-09    -  1.00e+00 5.00e-01f  2\n",
      "  24  9.1133505e+03 0.00e+00 4.39e-06 -11.0 8.82e-09    -  1.00e+00 1.00e+00f  1\n",
      "  25  9.1133505e+03 0.00e+00 3.92e-06 -11.0 1.57e-08    -  1.00e+00 1.00e+00f  1\n",
      "  26  9.1133505e+03 0.00e+00 8.53e-06 -11.0 3.12e-08    -  1.00e+00 1.00e+00f  1\n",
      "  27  9.1133505e+03 0.00e+00 8.15e-06 -11.0 2.03e-08    -  1.00e+00 1.00e+00f  1\n",
      "  28  9.1133505e+03 0.00e+00 2.61e-05 -11.0 3.25e-08    -  1.00e+00 1.00e+00f  1\n",
      "  29  9.1133505e+03 0.00e+00 1.97e-05 -11.0 1.23e-08    -  1.00e+00 1.00e+00f  1\n",
      "iter    objective    inf_pr   inf_du lg(mu)  ||d||  lg(rg) alpha_du alpha_pr  ls\n",
      "  30  9.1133505e+03 0.00e+00 9.71e-06 -11.0 1.63e-08    -  1.00e+00 5.00e-01f  2\n",
      "  31  9.1133505e+03 0.00e+00 5.97e-06 -11.0 6.97e-09    -  1.00e+00 5.00e-01f  2\n",
      "  32  9.1133505e+03 0.00e+00 1.32e-05 -11.0 1.63e-08    -  1.00e+00 1.00e+00f  1\n",
      "  33  9.1133505e+03 0.00e+00 1.79e-06 -11.0 1.11e-08    -  1.00e+00 1.00e+00f  1\n",
      "  34  9.1133505e+03 0.00e+00 3.51e-06 -11.0 5.89e-09    -  1.00e+00 1.00e+00f  1\n",
      "  35  9.1133505e+03 0.00e+00 8.59e-07 -11.0 3.69e-09    -  1.00e+00 1.00e+00f  1\n",
      "\n",
      "Number of Iterations....: 35\n",
      "\n",
      "                                   (scaled)                 (unscaled)\n",
      "Objective...............:   6.2440461228714676e+03    9.1133504950917359e+03\n",
      "Dual infeasibility......:   8.5852440172681570e-07    1.2530390755549625e-06\n",
      "Constraint violation....:   0.0000000000000000e+00    0.0000000000000000e+00\n",
      "Complementarity.........:   1.0000000000000001e-11    1.4595264538021628e-11\n",
      "Overall NLP error.......:   8.5852440172681570e-07    1.2530390755549625e-06\n",
      "\n",
      "\n",
      "Number of objective function evaluations             = 91\n",
      "Number of objective gradient evaluations             = 36\n",
      "Number of equality constraint evaluations            = 0\n",
      "Number of inequality constraint evaluations          = 0\n",
      "Number of equality constraint Jacobian evaluations   = 0\n",
      "Number of inequality constraint Jacobian evaluations = 0\n",
      "Number of Lagrangian Hessian evaluations             = 0\n",
      "Total CPU secs in IPOPT (w/o function evaluations)   =      0.086\n",
      "Total CPU secs in NLP function evaluations           =      0.516\n",
      "\n",
      "EXIT: Optimal Solution Found.\n",
      "  0.637589 seconds (1.94 M allocations: 32.089 MiB)\n"
     ]
    }
   ],
   "source": [
    "@time optm = QuasiCopula.fit!(qc_model,\n",
    "    Ipopt.IpoptSolver(\n",
    "        print_level = 5, \n",
    "        tol = 10^-6, \n",
    "        max_iter = 200,\n",
    "        accept_after_max_steps = 10,\n",
    "        warm_start_init_point=\"yes\", \n",
    "        limited_memory_max_history = 6, # default value\n",
    "        hessian_approximation = \"limited-memory\",\n",
    "#         derivative_test=\"second-order\"\n",
    "    )\n",
    ");"
   ]
  },
  {
   "cell_type": "code",
   "execution_count": 13,
   "metadata": {
    "collapsed": false
   },
   "outputs": [
    {
     "name": "stdout",
     "output_type": "stream",
     "text": [
      "βtrue = [1.0, -0.03, 0.03]\n",
      "qc_model.β = [0.9787109971992247, -0.006534895264500844, 0.004756529558569876]\n",
      "qc_model.∇β = [-1.2530390755549625e-6, 8.717288488488406e-7, -9.137386014490545e-7]\n",
      "θtrue = [0.1, 0.1]\n",
      "qc_model.θ = [0.09068628793643643, 0.050371173525735724]\n",
      "qc_model.∇θ = [1.0514365018088334e-6, 9.835424232274015e-7]\n"
     ]
    }
   ],
   "source": [
    "@show βtrue\n",
    "@show qc_model.β\n",
    "@show qc_model.∇β\n",
    "\n",
    "@show θtrue\n",
    "@show qc_model.θ\n",
    "@show qc_model.∇θ;"
   ]
  },
  {
   "cell_type": "markdown",
   "metadata": {},
   "source": [
    "## Score test: compare 2 Hessian approximation to autodiff result"
   ]
  },
  {
   "cell_type": "code",
   "execution_count": 65,
   "metadata": {
    "collapsed": false
   },
   "outputs": [
    {
     "name": "stdout",
     "output_type": "stream",
     "text": [
      "R = 4.699396265227433\n",
      "Q = 204.3473819980191\n",
      "W = [0.9061362858752553, 1.2241966728428746, -1.8025715207298199, 26.91134972056205, -3.0222135065035567]\n",
      "Pinv = [0.008925778144854107 -4.2437522806213727e-5 9.942600652652653e-5 0.002136133841124934 0.008066333569226087; -4.243752280621354e-5 0.0004432689955688595 -6.571615894912757e-7 -1.1188844395543523e-5 -3.856136840466111e-5; 9.94260065265265e-5 -6.571615894912726e-7 0.0004425458271976773 2.594665309960191e-5 9.211945076937585e-5; 0.0021361338411249346 -1.118884439554357e-5 2.5946653099601918e-5 0.0006478373860572899 0.0019441035037748898; 0.008066333569226087 -3.8561368404661296e-5 9.211945076937588e-5 0.0019441035037748898 0.007849837365676566]\n"
     ]
    },
    {
     "ename": "LoadError",
     "evalue": "UndefVarError: fff not defined",
     "output_type": "error",
     "traceback": [
      "UndefVarError: fff not defined",
      "",
      "Stacktrace:",
      " [1] GWASCopulaVCModel_autodiff(qc_model::GLMCopulaVCModel{Float64, Bernoulli{Float64}, LogitLink}, G::SnpArray)",
      "   @ QuasiCopula ~/.julia/dev/QuasiCopula/src/gwas/longitudinal_autodiff.jl:177",
      " [2] top-level scope",
      "   @ ./timing.jl:220 [inlined]",
      " [3] top-level scope",
      "   @ ./In[65]:0",
      " [4] eval",
      "   @ ./boot.jl:373 [inlined]",
      " [5] include_string(mapexpr::typeof(REPL.softscope), mod::Module, code::String, filename::String)",
      "   @ Base ./loading.jl:1196"
     ]
    }
   ],
   "source": [
    "# autodiff\n",
    "@time pvals = QuasiCopula.GWASCopulaVCModel_autodiff(qc_model, G)"
   ]
  },
  {
   "cell_type": "code",
   "execution_count": 63,
   "metadata": {
    "collapsed": false
   },
   "outputs": [
    {
     "name": "stdout",
     "output_type": "stream",
     "text": [
      "R = 4.699396265227423\n",
      "Q = 352.0337921192098\n",
      "W = [0.40638550002021223, 2.542822133793875, -0.5803039943342727, 26.911349720562043, -3.022213506503561]\n",
      "Pinv = [0.0006610997551383955 -2.8612889453814105e-6 5.999253906699741e-6 0.00015820831575871856 0.0005974366955573677; -2.8612889453814105e-6 0.0003208241917204654 2.555496506744759e-7 -1.4304020911006004e-6 -2.73572175496455e-6; 5.999253906699743e-6 2.555496506744736e-7 0.0003220621555815002 3.004376999196446e-6 7.0749790960273215e-6; 0.0001582083157587186 -1.4304020911006006e-6 3.004376999196446e-6 0.0001744713082017632 0.00015662346595715453; 0.0005974366955573677 -2.73572175496455e-6 7.07497909602732e-6 0.0001566234659571545 0.0011000953731697442]\n"
     ]
    },
    {
     "ename": "LoadError",
     "evalue": "UndefVarError: fff not defined",
     "output_type": "error",
     "traceback": [
      "UndefVarError: fff not defined",
      "",
      "Stacktrace:",
      " [1] GWASCopulaVCModel(gcm::GLMCopulaVCModel{Float64, Bernoulli{Float64}, LogitLink}, G::SnpArray; num_Hessian_terms::Int64)",
      "   @ QuasiCopula ~/.julia/dev/QuasiCopula/src/gwas/longitudinal.jl:285",
      " [2] top-level scope",
      "   @ ./timing.jl:220 [inlined]",
      " [3] top-level scope",
      "   @ ./In[63]:0",
      " [4] eval",
      "   @ ./boot.jl:373 [inlined]",
      " [5] include_string(mapexpr::typeof(REPL.softscope), mod::Module, code::String, filename::String)",
      "   @ Base ./loading.jl:1196"
     ]
    }
   ],
   "source": [
    "# 2 hessian terms\n",
    "@time pvals = QuasiCopula.GWASCopulaVCModel(qc_model, G, num_Hessian_terms=2)"
   ]
  },
  {
   "cell_type": "code",
   "execution_count": null,
   "metadata": {
    "collapsed": true
   },
   "outputs": [],
   "source": []
  },
  {
   "cell_type": "code",
   "execution_count": null,
   "metadata": {
    "collapsed": true
   },
   "outputs": [],
   "source": []
  },
  {
   "cell_type": "code",
   "execution_count": null,
   "metadata": {
    "collapsed": true
   },
   "outputs": [],
   "source": []
  },
  {
   "cell_type": "code",
   "execution_count": 66,
   "metadata": {
    "collapsed": false
   },
   "outputs": [
    {
     "name": "stdout",
     "output_type": "stream",
     "text": [
      " 19.125449 seconds (205.57 M allocations: 13.493 GiB, 6.87% gc time, 0.72% compilation time)\n"
     ]
    },
    {
     "data": {
      "text/plain": [
       "1000-element Vector{Float64}:\n",
       " 0.8021948640277703\n",
       " 0.2990974566383912\n",
       " 0.737490601274204\n",
       " 0.49267110719781276\n",
       " 0.9410168971273147\n",
       " 0.10952002737434606\n",
       " 0.8034217021935448\n",
       " 0.3315528555986456\n",
       " 0.30266349514543994\n",
       " 0.22388915319226133\n",
       " 0.28078704920840036\n",
       " 0.3500332125440957\n",
       " 0.44367941937541233\n",
       " ⋮\n",
       " 0.6551691135795795\n",
       " 0.6044613462560131\n",
       " 0.8970108413585166\n",
       " 0.9272518335512681\n",
       " 0.9373845950509562\n",
       " 0.6854842990911812\n",
       " 0.6501950833106632\n",
       " 0.26122657968632845\n",
       " 0.7854761784696415\n",
       " 0.1322940871332348\n",
       " 0.11669039581405338\n",
       " 0.41601283451855525"
      ]
     },
     "execution_count": 66,
     "metadata": {},
     "output_type": "execute_result"
    }
   ],
   "source": [
    "# 2 hessian term pvalues\n",
    "@time pvals = QuasiCopula.GWASCopulaVCModel(qc_model, G, num_Hessian_terms=2)"
   ]
  },
  {
   "cell_type": "code",
   "execution_count": 67,
   "metadata": {
    "collapsed": false
   },
   "outputs": [
    {
     "data": {
      "image/png": "[encoded data removed]"
     },
     "metadata": {},
     "output_type": "display_data"
    }
   ],
   "source": [
    "qq(pvals, dpi=100, titles=\"Bernoulli, $k causal SNPs, 2 Hessian terms\")\n",
    "display(\"image/png\", read(\"qqplot.png\"))"
   ]
  },
  {
   "cell_type": "code",
   "execution_count": null,
   "metadata": {
    "collapsed": true
   },
   "outputs": [],
   "source": []
  }
 ],
 "metadata": {
  "@webio": {
   "lastCommId": null,
   "lastKernelId": null
  },
  "kernelspec": {
   "display_name": "Julia 1.7.3",
   "language": "julia",
   "name": "julia-1.7"
  },
  "language_info": {
   "file_extension": ".jl",
   "mimetype": "application/julia",
   "name": "julia",
   "version": "1.7.3"
  },
  "toc": {
   "base_numbering": 1,
   "nav_menu": {},
   "number_sections": true,
   "sideBar": true,
   "skip_h1_title": false,
   "title_cell": "Table of Contents",
   "title_sidebar": "Contents",
   "toc_cell": false,
   "toc_position": {},
   "toc_section_display": true,
   "toc_window_display": false
  }
 },
 "nbformat": 4,
 "nbformat_minor": 2
}
