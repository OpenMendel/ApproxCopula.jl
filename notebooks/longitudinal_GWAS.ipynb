{
 "cells": [
  {
   "cell_type": "markdown",
   "metadata": {},
   "source": [
    "# Longitudinal QuasiCopula GWAS\n",
    "\n",
    "Here we adopt the variance component model framework\n",
    "\n",
    "$$\\mathbf{\\Gamma}_i(\\mathbf{\\theta}) = \\sum_{k=1}^m \\theta_k\\mathbf{V}_{ik}, \\quad \\theta_k \\ge 0$$"
   ]
  },
  {
   "cell_type": "code",
   "execution_count": 1,
   "metadata": {
    "collapsed": false
   },
   "outputs": [
    {
     "name": "stderr",
     "output_type": "stream",
     "text": [
      "┌ Info: Precompiling QuasiCopula [c47b6ae2-b804-4668-9957-eb588c99ffbc]\n",
      "└ @ Base loading.jl:1342\n"
     ]
    },
    {
     "data": {
      "text/plain": [
       "_make_snparray (generic function with 1 method)"
      ]
     },
     "execution_count": 1,
     "metadata": {},
     "output_type": "execute_result"
    }
   ],
   "source": [
    "using Revise\n",
    "using DataFrames, Random, GLM, QuasiCopula\n",
    "using ForwardDiff, Test, LinearAlgebra\n",
    "using LinearAlgebra: BlasReal, copytri!\n",
    "using ToeplitzMatrices\n",
    "using BenchmarkTools\n",
    "using SnpArrays\n",
    "using MendelPlots\n",
    "\n",
    "# using MendelPlots\n",
    "ENV[\"COLUMNS\"] = 240\n",
    "\n",
    "BLAS.set_num_threads(1)\n",
    "Threads.nthreads()\n",
    "\n",
    "# simulate PLINK data where each SNP has at least min_ma copies of the alt allele\n",
    "function simulate_random_snparray(s::Union{String, UndefInitializer}, n::Int64,\n",
    "        p::Int64, mafs::Vector{Float64}; min_ma::Int = 1)\n",
    "    all(0.0 .<= mafs .<= 0.5) || throw(ArgumentError(\"vector of minor allele frequencies must be in (0, 0.5)\"))\n",
    "#     any(mafs .<= 0.0005) && @warn(\"Provided minor allele frequencies contain entries smaller than 0.0005, simulation may take long if sample size is small and min_ma = $min_ma is large\")\n",
    "\n",
    "    #first simulate a random {0, 1, 2} matrix with each SNP drawn from Binomial(2, r[i])\n",
    "    A1 = BitArray(undef, n, p) \n",
    "    A2 = BitArray(undef, n, p) \n",
    "    for j in 1:p\n",
    "        minor_alleles = 0\n",
    "        maf = mafs[j]\n",
    "        while minor_alleles <= min_ma\n",
    "            for i in 1:n\n",
    "                A1[i, j] = rand(Bernoulli(maf))\n",
    "                A2[i, j] = rand(Bernoulli(maf))\n",
    "            end\n",
    "            minor_alleles = sum(view(A1, :, j)) + sum(view(A2, :, j))\n",
    "        end\n",
    "    end\n",
    "\n",
    "    #fill the SnpArray with the corresponding x_tmp entry\n",
    "    return _make_snparray(s, A1, A2)\n",
    "end\n",
    "\n",
    "\n",
    "# function simulate_random_snparray(s::Union{String, UndefInitializer}, n::Int64,\n",
    "#     p::Int64; mafs::Vector{Float64}=zeros(Float64, p), min_ma::Int = 5)\n",
    "\n",
    "#     #first simulate a random {0, 1, 2} matrix with each SNP drawn from Binomial(2, r[i])\n",
    "#     A1 = BitArray(undef, n, p) \n",
    "#     A2 = BitArray(undef, n, p) \n",
    "#     for j in 1:p\n",
    "#         minor_alleles = 0\n",
    "#         maf = 0\n",
    "#         while minor_alleles <= min_ma\n",
    "#             maf = 0.5rand()\n",
    "#             for i in 1:n\n",
    "#                 A1[i, j] = rand(Bernoulli(maf))\n",
    "#                 A2[i, j] = rand(Bernoulli(maf))\n",
    "#             end\n",
    "#             minor_alleles = sum(view(A1, :, j)) + sum(view(A2, :, j))\n",
    "#         end\n",
    "#         mafs[j] = maf\n",
    "#     end\n",
    "\n",
    "#     #fill the SnpArray with the corresponding x_tmp entry\n",
    "#     return _make_snparray(s, A1, A2)\n",
    "# end\n",
    "\n",
    "function _make_snparray(s::Union{String, UndefInitializer}, A1::BitArray, A2::BitArray)\n",
    "    n, p = size(A1)\n",
    "    x = SnpArray(s, n, p)\n",
    "    for i in 1:(n*p)\n",
    "        c = A1[i] + A2[i]\n",
    "        if c == 0\n",
    "            x[i] = 0x00\n",
    "        elseif c == 1\n",
    "            x[i] = 0x02\n",
    "        elseif c == 2\n",
    "            x[i] = 0x03\n",
    "        else\n",
    "            throw(MissingException(\"matrix shouldn't have missing values!\"))\n",
    "        end\n",
    "    end\n",
    "    return x\n",
    "end"
   ]
  },
  {
   "cell_type": "markdown",
   "metadata": {},
   "source": [
    "## Simulate data"
   ]
  },
  {
   "cell_type": "code",
   "execution_count": 2,
   "metadata": {
    "collapsed": false
   },
   "outputs": [
    {
     "name": "stdout",
     "output_type": "stream",
     "text": [
      "qc_model = Quasi-Copula Variance Component Model\n",
      "  * base distribution: NegativeBinomial\n",
      "  * link function: LogLink\n",
      "  * number of clusters: 5000\n",
      "  * cluster size min, max: 1, 5\n",
      "  * number of variance components: 2\n",
      "  * number of fixed effects: 3\n",
      "\n"
     ]
    }
   ],
   "source": [
    "function simulate_VC_longitudinal(;\n",
    "    n = 1000, # sample size\n",
    "    d_min = 1, # min number of observations per sample\n",
    "    d_max = 5, # max number of observations per sample\n",
    "    p = 3, # number of nongenetic covariates, including intercept\n",
    "    m = 1, # number of variance components\n",
    "    q = 1000, # number of SNPs\n",
    "    k = 10, # number of causal SNPs\n",
    "    maf = 0.5rand(),\n",
    "    causal_snp_β = 0.5rand(),\n",
    "    seed = 2022,\n",
    "    y_distribution = Bernoulli,\n",
    "    T = Float64,\n",
    "    )\n",
    "    Random.seed!(seed)\n",
    "    m == 1 || m == 2 || error(\"m (number of VC) must be 1 or 2\")\n",
    "    \n",
    "    # non-genetic effect sizes\n",
    "    Random.seed!(seed)\n",
    "#     βtrue = [1.0; rand(-0.05:0.1:0.05, p-1)]\n",
    "    βtrue = [1.0; rand(-0.5:1:0.5, p-1)]\n",
    "#     βtrue = [1.0; rand(-5:10:5, p-1) .* rand(Uniform(0, 5), p-1)]\n",
    "    dist = y_distribution()\n",
    "    link = y_distribution == NegativeBinomial ? LogLink() : canonicallink(dist)\n",
    "    Dist = typeof(dist)\n",
    "    Link = typeof(link)\n",
    "\n",
    "    # variance components\n",
    "    θtrue = fill(0.1, m)\n",
    "\n",
    "    # simulate (nongenetic) design matrices\n",
    "    Random.seed!(seed)\n",
    "    X_full = Matrix{Float64}[]\n",
    "    for i in 1:n\n",
    "        nobs = rand(d_min:d_max) # number of obs for this sample\n",
    "        push!(X_full, hcat(ones(nobs), randn(nobs, p - 1)))\n",
    "    end\n",
    "    \n",
    "    # simulate causal alleles\n",
    "    Random.seed!(seed)\n",
    "    γtrue = zeros(q)\n",
    "    γtrue[1:k] .= causal_snp_β\n",
    "    shuffle!(γtrue)\n",
    "    \n",
    "    # set minor allele freq\n",
    "    mafs = fill(maf, q)\n",
    "    \n",
    "    # simulate random SnpArray with q SNPs with prespecified maf\n",
    "    Random.seed!(seed)\n",
    "    G = simulate_random_snparray(undef, n, q, mafs)\n",
    "    Gfloat = convert(Matrix{T}, G, center=true, scale=false)\n",
    "    \n",
    "    # effect of causal alleles\n",
    "    η_G = Gfloat * γtrue\n",
    "\n",
    "    # simulate phenotypes\n",
    "    if y_distribution == Normal\n",
    "        τtrue = 100.0\n",
    "        σ2 = inv(τtrue)\n",
    "        σ = sqrt(σ2)\n",
    "        obs = Vector{GaussianCopulaVCObs{T}}(undef, n)\n",
    "        for i in 1:n\n",
    "            # data matrix\n",
    "            X = X_full[i]\n",
    "            η = X * βtrue\n",
    "            η .+= η_G[i] # add genetic effects\n",
    "            μ = GLM.linkinv.(link, η)\n",
    "            vecd = Vector{ContinuousUnivariateDistribution}(undef, size(X, 1))\n",
    "            # VC matrices\n",
    "            V1 = ones(size(X, 1), size(X, 1))\n",
    "            V2 = Matrix(I, size(X, 1), size(X, 1))\n",
    "            Γ = m == 1 ? θtrue[1] * V1 : θtrue[1] * V1 + θtrue[2] * V2\n",
    "            for i in 1:size(X, 1)\n",
    "                vecd[i] = y_distribution(μ[i], σ)\n",
    "            end\n",
    "            nonmixed_multivariate_dist = NonMixedMultivariateDistribution(vecd, Γ)\n",
    "            # simuate single vector y\n",
    "            y = Vector{T}(undef, size(X, 1))\n",
    "            res = Vector{T}(undef, size(X, 1))\n",
    "            rand(nonmixed_multivariate_dist, y, res)\n",
    "            V = m == 1 ? [V1] : [V1, V2]\n",
    "            obs[i] = GaussianCopulaVCObs(y, X, V)\n",
    "        end\n",
    "        qc_model = GaussianCopulaVCModel(obs)\n",
    "    elseif y_distribution == NegativeBinomial\n",
    "        rtrue = 10.0\n",
    "        obs = Vector{NBCopulaVCObs{T, Dist, Link}}(undef, n)\n",
    "        for i in 1:n\n",
    "            # data matrix\n",
    "            X = X_full[i]\n",
    "            η = X * βtrue\n",
    "            η .+= η_G[i] # add genetic effects\n",
    "            μ = GLM.linkinv.(link, η)\n",
    "            p = rtrue ./ (μ .+ rtrue)\n",
    "            vecd = [NegativeBinomial(rtrue, p[i]) for i in 1:size(X, 1)]\n",
    "            # VC matrices\n",
    "            V1 = ones(size(X, 1), size(X, 1))\n",
    "            V2 = Matrix(I, size(X, 1), size(X, 1))\n",
    "            Γ = m == 1 ? θtrue[1] * V1 : θtrue[1] * V1 + θtrue[2] * V2\n",
    "            nonmixed_multivariate_dist = NonMixedMultivariateDistribution(vecd, Γ)\n",
    "            # simuate single vector y\n",
    "            y = Vector{Float64}(undef, size(X, 1))\n",
    "            res = Vector{Float64}(undef, size(X, 1))\n",
    "            rand(nonmixed_multivariate_dist, y, res)\n",
    "            V = m == 1 ? [V1] : [V1, V2]\n",
    "            obs[i] = NBCopulaVCObs(y, X, V, dist, link)\n",
    "        end\n",
    "        qc_model = NBCopulaVCModel(obs)\n",
    "    else # Bernoulli or Poisson\n",
    "        obs = Vector{GLMCopulaVCObs{T, Dist, Link}}(undef, n)\n",
    "        for i in 1:n\n",
    "            # data matrix\n",
    "            X = X_full[i]\n",
    "            η = X * βtrue\n",
    "            η .+= η_G[i] # add genetic effects\n",
    "            μ = GLM.linkinv.(link, η)\n",
    "            # VC matrices\n",
    "            V1 = ones(size(X, 1), size(X, 1))\n",
    "            V2 = Matrix(I, size(X, 1), size(X, 1))\n",
    "            Γ = m == 1 ? θtrue[1] * V1 : θtrue[1] * V1 + θtrue[2] * V2\n",
    "            vecd = Vector{DiscreteUnivariateDistribution}(undef, size(X, 1))\n",
    "            for i in 1:size(X, 1)\n",
    "                vecd[i] = y_distribution(μ[i])\n",
    "            end\n",
    "            nonmixed_multivariate_dist = NonMixedMultivariateDistribution(vecd, Γ)\n",
    "            # simuate single vector y\n",
    "            y = Vector{T}(undef, size(X, 1))\n",
    "            res = Vector{T}(undef, size(X, 1))\n",
    "            rand(nonmixed_multivariate_dist, y, res)\n",
    "            V = m == 1 ? [V1] : [V1, V2]\n",
    "            obs[i] = GLMCopulaVCObs(y, X, V, dist, link)\n",
    "        end\n",
    "        qc_model = GLMCopulaVCModel(obs)\n",
    "    end\n",
    "    return qc_model, G, βtrue, θtrue, γtrue\n",
    "end\n",
    "\n",
    "k = 0 # number of causal SNPs\n",
    "maf = 0.3\n",
    "\n",
    "qc_model, G, βtrue, θtrue, γtrue = simulate_VC_longitudinal(\n",
    "    n = 5000, # sample size\n",
    "    d_min = 1, # min number of observations per sample\n",
    "    d_max = 5, # max number of observations per sample\n",
    "    p = 3, # number of fixed effects, including intercept\n",
    "    m = 2, # number of variance components\n",
    "    q = 1000, # number of SNPs\n",
    "    k = k, # number of causal SNPs\n",
    "    seed = 2022,\n",
    "    y_distribution = NegativeBinomial,\n",
    "    T = Float64,\n",
    "    maf = maf,\n",
    "    causal_snp_β = 0.2\n",
    ")\n",
    "\n",
    "@show qc_model;"
   ]
  },
  {
   "cell_type": "markdown",
   "metadata": {},
   "source": [
    "## Fit Null model"
   ]
  },
  {
   "cell_type": "code",
   "execution_count": 17,
   "metadata": {
    "collapsed": false,
    "scrolled": true
   },
   "outputs": [
    {
     "name": "stdout",
     "output_type": "stream",
     "text": [
      "initializing β using GLM.jl\n",
      "gcm.β = [1.0497967268085835, 0.47957248664624846, 0.4881022940269102]\n",
      "initializing variance components using MM-Algorithm\n",
      "gcm.θ = [0.09172848338958824, 0.01936564613542114]\n",
      "initializing r using Newton update\n",
      "Converging when tol ≤ 1.0e-6 (max block iter = 10)\n",
      "This is Ipopt version 3.13.4, running with linear solver mumps.\n",
      "NOTE: Other linear solvers might be more efficient (see Ipopt documentation).\n",
      "\n",
      "Number of nonzeros in equality constraint Jacobian...:        0\n",
      "Number of nonzeros in inequality constraint Jacobian.:        0\n",
      "Number of nonzeros in Lagrangian Hessian.............:        0\n",
      "\n",
      "Total number of variables............................:        5\n",
      "                     variables with only lower bounds:        2\n",
      "                variables with lower and upper bounds:        0\n",
      "                     variables with only upper bounds:        0\n",
      "Total number of equality constraints.................:        0\n",
      "Total number of inequality constraints...............:        0\n",
      "        inequality constraints with only lower bounds:        0\n",
      "   inequality constraints with lower and upper bounds:        0\n",
      "        inequality constraints with only upper bounds:        0\n",
      "\n",
      "iter    objective    inf_pr   inf_du lg(mu)  ||d||  lg(rg) alpha_du alpha_pr  ls\n",
      "   0  3.0498520e+04 0.00e+00 1.00e+02   0.0 0.00e+00    -  0.00e+00 0.00e+00   0\n",
      "   1  3.0494155e+04 0.00e+00 6.49e+01 -10.3 1.00e+02    -  1.00e+00 3.89e-04f  3\n",
      "   2  3.0488471e+04 0.00e+00 9.12e+00  -2.7 9.72e-03    -  1.00e+00 1.00e+00f  1\n",
      "   3  3.0488325e+04 0.00e+00 7.99e+00  -4.4 1.40e-03    -  1.00e+00 1.00e+00f  1\n",
      "   4  3.0487916e+04 0.00e+00 4.52e+00  -4.7 1.06e-02    -  1.00e+00 1.00e+00f  1\n",
      "   5  3.0487867e+04 0.00e+00 1.66e+00  -6.7 7.06e-03    -  1.00e+00 2.50e-01f  3\n",
      "   6  3.0487857e+04 0.00e+00 9.88e-01  -8.6 9.20e-04    -  1.00e+00 1.00e+00f  1\n",
      "   7  3.0487854e+04 0.00e+00 1.35e+00 -10.0 2.05e-03    -  1.00e+00 1.00e+00f  1\n",
      "   8  3.0487850e+04 0.00e+00 1.38e-01 -11.0 6.86e-04    -  1.00e+00 1.00e+00f  1\n",
      "   9  3.0487850e+04 0.00e+00 1.87e-01 -11.0 1.02e-04    -  1.00e+00 1.00e+00f  1\n",
      "iter    objective    inf_pr   inf_du lg(mu)  ||d||  lg(rg) alpha_du alpha_pr  ls\n",
      "  10  3.0487850e+04 0.00e+00 7.70e-02 -11.0 5.10e-05    -  1.00e+00 1.00e+00f  1\n",
      "  11  3.0487850e+04 0.00e+00 2.79e-03 -11.0 2.27e-05    -  1.00e+00 1.00e+00f  1\n",
      "  12  3.0487850e+04 0.00e+00 1.30e-03 -11.0 1.33e-06    -  1.00e+00 1.00e+00f  1\n",
      "  13  3.0487850e+04 0.00e+00 1.17e-03 -11.0 1.92e-06    -  1.00e+00 5.00e-01f  2\n",
      "  14  3.0487850e+04 0.00e+00 9.60e-04 -11.0 1.11e-06    -  1.00e+00 1.00e+00f  1\n",
      "  15  3.0487850e+04 0.00e+00 1.55e-05 -11.0 5.45e-07    -  1.00e+00 1.00e+00f  1\n",
      "  16  3.0487850e+04 0.00e+00 1.32e-05 -11.0 5.60e-09    -  1.00e+00 1.00e+00f  1\n",
      "  17  3.0487850e+04 0.00e+00 2.44e-06 -11.0 2.32e-09    -  1.00e+00 1.00e+00f  1\n",
      "  18  3.0487850e+04 0.00e+00 1.70e-06 -11.0 1.34e-09    -  1.00e+00 1.00e+00f  1\n",
      "  19  3.0487850e+04 0.00e+00 2.38e-06 -11.0 3.26e-09    -  1.00e+00 1.00e+00f  1\n",
      "iter    objective    inf_pr   inf_du lg(mu)  ||d||  lg(rg) alpha_du alpha_pr  ls\n",
      "  20  3.0487850e+04 0.00e+00 3.74e-06 -11.0 1.36e-09    -  1.00e+00 1.00e+00f  1\n",
      "  21  3.0487850e+04 0.00e+00 4.08e-08 -11.0 8.21e-10    -  1.00e+00 1.00e+00f  1\n",
      "\n",
      "Number of Iterations....: 21\n",
      "\n",
      "                                   (scaled)                 (unscaled)\n",
      "Objective...............:   4.5957532585136141e+03    3.0487849608717595e+04\n",
      "Dual infeasibility......:   4.0819791081006202e-08    2.7079514097749779e-07\n",
      "Constraint violation....:   0.0000000000000000e+00    0.0000000000000000e+00\n",
      "Complementarity.........:   9.9999999999999994e-12    6.6339178571519213e-11\n",
      "Overall NLP error.......:   4.0819791081006202e-08    2.7079514097749779e-07\n",
      "\n",
      "\n",
      "Number of objective function evaluations             = 39\n",
      "Number of objective gradient evaluations             = 22\n",
      "Number of equality constraint evaluations            = 0\n",
      "Number of inequality constraint evaluations          = 0\n",
      "Number of equality constraint Jacobian evaluations   = 0\n",
      "Number of inequality constraint Jacobian evaluations = 0\n",
      "Number of Lagrangian Hessian evaluations             = 0\n",
      "Total CPU secs in IPOPT (w/o function evaluations)   =      0.232\n",
      "Total CPU secs in NLP function evaluations           =      0.458\n",
      "\n",
      "EXIT: Optimal Solution Found.\n",
      "Block iter 1 r = 9.02, logl = -30487.85, tol = 30487.849608717595\n",
      "This is Ipopt version 3.13.4, running with linear solver mumps.\n",
      "NOTE: Other linear solvers might be more efficient (see Ipopt documentation).\n",
      "\n",
      "Number of nonzeros in equality constraint Jacobian...:        0\n",
      "Number of nonzeros in inequality constraint Jacobian.:        0\n",
      "Number of nonzeros in Lagrangian Hessian.............:        0\n",
      "\n",
      "Total number of variables............................:        5\n",
      "                     variables with only lower bounds:        2\n",
      "                variables with lower and upper bounds:        0\n",
      "                     variables with only upper bounds:        0\n",
      "Total number of equality constraints.................:        0\n",
      "Total number of inequality constraints...............:        0\n",
      "        inequality constraints with only lower bounds:        0\n",
      "   inequality constraints with lower and upper bounds:        0\n",
      "        inequality constraints with only upper bounds:        0\n",
      "\n",
      "iter    objective    inf_pr   inf_du lg(mu)  ||d||  lg(rg) alpha_du alpha_pr  ls\n",
      "   0  3.0498709e+04 0.00e+00 1.00e+02   0.0 0.00e+00    -  0.00e+00 0.00e+00   0\n",
      "   1  3.0491142e+04 0.00e+00 4.55e+01 -10.3 1.00e+02    -  1.00e+00 2.82e-04f  4\n",
      "   2  3.0488573e+04 0.00e+00 1.18e+01  -3.0 8.59e-03    -  1.00e+00 1.00e+00f  1\n",
      "   3  3.0488229e+04 0.00e+00 9.57e+00  -4.5 2.99e-03    -  1.00e+00 1.00e+00f  1\n",
      "   4  3.0487690e+04 0.00e+00 5.76e+00  -4.9 1.22e-02    -  1.00e+00 1.00e+00f  1\n",
      "   5  3.0487638e+04 0.00e+00 3.39e+00  -6.7 9.98e-03    -  1.00e+00 2.50e-01f  3\n",
      "   6  3.0487613e+04 0.00e+00 1.32e+00  -8.7 1.75e-03    -  1.00e+00 1.00e+00f  1\n",
      "   7  3.0487604e+04 0.00e+00 2.91e-01 -10.6 1.37e-03    -  1.00e+00 1.00e+00f  1\n",
      "   8  3.0487604e+04 0.00e+00 4.23e-02 -11.0 2.58e-04    -  1.00e+00 1.00e+00f  1\n",
      "   9  3.0487604e+04 0.00e+00 3.62e-02 -11.0 3.78e-05    -  1.00e+00 5.00e-01f  2\n",
      "iter    objective    inf_pr   inf_du lg(mu)  ||d||  lg(rg) alpha_du alpha_pr  ls\n",
      "  10  3.0487604e+04 0.00e+00 5.38e-03 -11.0 9.67e-06    -  1.00e+00 1.00e+00f  1\n",
      "  11  3.0487604e+04 0.00e+00 9.63e-04 -11.0 1.84e-06    -  1.00e+00 1.00e+00f  1\n",
      "  12  3.0487604e+04 0.00e+00 1.94e-04 -11.0 3.81e-07    -  1.00e+00 1.00e+00f  1\n",
      "  13  3.0487604e+04 0.00e+00 1.90e-05 -11.0 6.29e-08    -  1.00e+00 1.00e+00f  1\n",
      "  14  3.0487604e+04 0.00e+00 1.60e-05 -11.0 1.21e-08    -  1.00e+00 1.25e-01f  4\n",
      "  15  3.0487604e+04 0.00e+00 1.20e-05 -11.0 2.50e-08    -  1.00e+00 1.00e+00f  1\n",
      "  16  3.0487604e+04 0.00e+00 6.88e-06 -11.0 8.23e-09    -  1.00e+00 2.50e-01f  3\n",
      "  17  3.0487604e+04 0.00e+00 1.46e-06 -11.0 5.27e-09    -  1.00e+00 1.00e+00f  1\n",
      "  18  3.0487604e+04 0.00e+00 2.18e-06 -11.0 1.51e-09    -  1.00e+00 1.00e+00f  1\n",
      "  19  3.0487604e+04 0.00e+00 4.23e-08 -11.0 1.33e-09    -  1.00e+00 1.00e+00f  1\n",
      "\n",
      "Number of Iterations....: 19\n",
      "\n",
      "                                   (scaled)                 (unscaled)\n",
      "Objective...............:   4.5992322404817614e+03    3.0487603931265530e+04\n",
      "Dual infeasibility......:   4.2288833803318178e-08    2.8032618234899736e-07\n",
      "Constraint violation....:   0.0000000000000000e+00    0.0000000000000000e+00\n",
      "Complementarity.........:   9.9999999999999978e-12    6.6288463676433094e-11\n",
      "Overall NLP error.......:   4.2288833803318178e-08    2.8032618234899736e-07\n",
      "\n",
      "\n",
      "Number of objective function evaluations             = 51\n",
      "Number of objective gradient evaluations             = 20\n",
      "Number of equality constraint evaluations            = 0\n",
      "Number of inequality constraint evaluations          = 0\n",
      "Number of equality constraint Jacobian evaluations   = 0\n",
      "Number of inequality constraint Jacobian evaluations = 0\n",
      "Number of Lagrangian Hessian evaluations             = 0\n",
      "Total CPU secs in IPOPT (w/o function evaluations)   =      0.049\n",
      "Total CPU secs in NLP function evaluations           =      0.478\n",
      "\n",
      "EXIT: Optimal Solution Found.\n",
      "Block iter 2 r = 9.16, logl = -30487.6, tol = 8.057944304821918e-6\n",
      "This is Ipopt version 3.13.4, running with linear solver mumps.\n",
      "NOTE: Other linear solvers might be more efficient (see Ipopt documentation).\n",
      "\n",
      "Number of nonzeros in equality constraint Jacobian...:        0\n",
      "Number of nonzeros in inequality constraint Jacobian.:        0\n",
      "Number of nonzeros in Lagrangian Hessian.............:        0\n",
      "\n",
      "Total number of variables............................:        5\n",
      "                     variables with only lower bounds:        2\n",
      "                variables with lower and upper bounds:        0\n",
      "                     variables with only upper bounds:        0\n",
      "Total number of equality constraints.................:        0\n",
      "Total number of inequality constraints...............:        0\n",
      "        inequality constraints with only lower bounds:        0\n",
      "   inequality constraints with lower and upper bounds:        0\n",
      "        inequality constraints with only upper bounds:        0\n",
      "\n",
      "iter    objective    inf_pr   inf_du lg(mu)  ||d||  lg(rg) alpha_du alpha_pr  ls\n",
      "   0  3.0499020e+04 0.00e+00 1.00e+02   0.0 0.00e+00    -  0.00e+00 0.00e+00   0\n",
      "   1  3.0496249e+04 0.00e+00 7.81e+01 -10.3 1.00e+02    -  1.00e+00 4.25e-04f  4\n",
      "   2  3.0488687e+04 0.00e+00 1.36e+01  -2.9 1.20e-02    -  1.00e+00 1.00e+00f  1\n",
      "   3  3.0488411e+04 0.00e+00 1.17e+01  -4.5 2.17e-03    -  1.00e+00 1.00e+00f  1\n",
      "   4  3.0487592e+04 0.00e+00 5.24e+00  -4.8 1.48e-02    -  1.00e+00 1.00e+00f  1\n",
      "   5  3.0487526e+04 0.00e+00 3.90e+00  -6.8 1.08e-02    -  1.00e+00 2.50e-01f  3\n",
      "   6  3.0487482e+04 0.00e+00 1.62e+00  -8.3 2.82e-03    -  1.00e+00 1.00e+00f  1\n",
      "   7  3.0487472e+04 0.00e+00 1.47e+00  -9.9 2.15e-03    -  1.00e+00 1.00e+00f  1\n",
      "   8  3.0487468e+04 0.00e+00 4.80e-01 -11.0 1.01e-03    -  1.00e+00 5.00e-01f  2\n",
      "   9  3.0487468e+04 0.00e+00 5.95e-01 -11.0 5.11e-04    -  1.00e+00 1.00e+00f  1\n",
      "iter    objective    inf_pr   inf_du lg(mu)  ||d||  lg(rg) alpha_du alpha_pr  ls\n",
      "  10  3.0487468e+04 0.00e+00 2.95e-01 -11.0 1.87e-04    -  1.00e+00 1.00e+00f  1\n",
      "  11  3.0487467e+04 0.00e+00 1.21e-02 -11.0 2.05e-04    -  1.00e+00 1.00e+00f  1\n",
      "  12  3.0487467e+04 0.00e+00 1.61e-02 -11.0 2.99e-05    -  1.00e+00 1.00e+00f  1\n",
      "  13  3.0487467e+04 0.00e+00 1.01e-02 -11.0 1.23e-05    -  1.00e+00 2.50e-01f  3\n",
      "  14  3.0487467e+04 0.00e+00 6.49e-04 -11.0 8.19e-06    -  1.00e+00 1.00e+00f  1\n",
      "  15  3.0487467e+04 0.00e+00 3.82e-04 -11.0 6.60e-07    -  1.00e+00 1.00e+00f  1\n",
      "  16  3.0487467e+04 0.00e+00 2.43e-04 -11.0 1.94e-07    -  1.00e+00 1.00e+00f  1\n",
      "  17  3.0487467e+04 0.00e+00 2.31e-06 -11.0 1.27e-07    -  1.00e+00 1.00e+00f  1\n",
      "  18  3.0487467e+04 0.00e+00 3.08e-06 -11.0 2.72e-09    -  1.00e+00 1.00e+00f  1\n",
      "  19  3.0487467e+04 0.00e+00 3.74e-08 -11.0 1.40e-09    -  1.00e+00 1.00e+00f  1\n",
      "\n",
      "Number of Iterations....: 19\n",
      "\n",
      "                                   (scaled)                 (unscaled)\n",
      "Objective...............:   4.6019929076889739e+03    3.0487467433735317e+04\n",
      "Dual infeasibility......:   3.7431516005796940e-08    2.4797781050800438e-07\n",
      "Constraint violation....:   0.0000000000000000e+00    0.0000000000000000e+00\n",
      "Complementarity.........:   9.9999999999999978e-12    6.6248401606176065e-11\n",
      "Overall NLP error.......:   3.7431516005796940e-08    2.4797781050800438e-07\n",
      "\n",
      "\n",
      "Number of objective function evaluations             = 44\n",
      "Number of objective gradient evaluations             = 20\n",
      "Number of equality constraint evaluations            = 0\n",
      "Number of inequality constraint evaluations          = 0\n",
      "Number of equality constraint Jacobian evaluations   = 0\n",
      "Number of inequality constraint Jacobian evaluations = 0\n",
      "Number of Lagrangian Hessian evaluations             = 0\n",
      "Total CPU secs in IPOPT (w/o function evaluations)   =      0.049\n",
      "Total CPU secs in NLP function evaluations           =      0.459\n",
      "\n",
      "EXIT: Optimal Solution Found.\n",
      "Block iter 3 r = 9.27, logl = -30487.47, tol = 4.47700165349702e-6\n",
      "This is Ipopt version 3.13.4, running with linear solver mumps.\n",
      "NOTE: Other linear solvers might be more efficient (see Ipopt documentation).\n",
      "\n",
      "Number of nonzeros in equality constraint Jacobian...:        0\n",
      "Number of nonzeros in inequality constraint Jacobian.:        0\n",
      "Number of nonzeros in Lagrangian Hessian.............:        0\n",
      "\n",
      "Total number of variables............................:        5\n",
      "                     variables with only lower bounds:        2\n",
      "                variables with lower and upper bounds:        0\n",
      "                     variables with only upper bounds:        0\n",
      "Total number of equality constraints.................:        0\n",
      "Total number of inequality constraints...............:        0\n",
      "        inequality constraints with only lower bounds:        0\n",
      "   inequality constraints with lower and upper bounds:        0\n",
      "        inequality constraints with only upper bounds:        0\n",
      "\n",
      "iter    objective    inf_pr   inf_du lg(mu)  ||d||  lg(rg) alpha_du alpha_pr  ls\n",
      "   0  3.0499342e+04 0.00e+00 1.00e+02   0.0 0.00e+00    -  0.00e+00 0.00e+00   0\n",
      "   1  3.0492937e+04 0.00e+00 5.65e+01 -10.3 1.00e+02    -  1.00e+00 3.40e-04f  5\n",
      "   2  3.0488859e+04 0.00e+00 1.50e+01  -3.2 9.18e-03    -  1.00e+00 1.00e+00f  1\n",
      "   3  3.0488459e+04 0.00e+00 1.26e+01  -4.7 3.00e-03    -  1.00e+00 1.00e+00f  1\n",
      "   4  3.0487550e+04 0.00e+00 4.57e+00  -5.0 1.53e-02    -  1.00e+00 1.00e+00f  1\n",
      "   5  3.0487470e+04 0.00e+00 4.00e+00  -7.0 1.13e-02    -  1.00e+00 2.50e-01f  3\n",
      "   6  3.0487408e+04 0.00e+00 1.27e+00  -8.7 4.41e-03    -  1.00e+00 1.00e+00f  1\n",
      "   7  3.0487397e+04 0.00e+00 1.27e+00 -10.2 3.25e-03    -  1.00e+00 5.00e-01f  2\n",
      "   8  3.0487393e+04 0.00e+00 1.26e-01 -11.0 6.13e-04    -  1.00e+00 1.00e+00f  1\n",
      "   9  3.0487393e+04 0.00e+00 1.32e-01 -11.0 1.21e-04    -  1.00e+00 1.00e+00f  1\n",
      "iter    objective    inf_pr   inf_du lg(mu)  ||d||  lg(rg) alpha_du alpha_pr  ls\n",
      "  10  3.0487393e+04 0.00e+00 3.84e-02 -11.0 2.92e-05    -  1.00e+00 1.00e+00f  1\n",
      "  11  3.0487393e+04 0.00e+00 1.44e-03 -11.0 3.00e-05    -  1.00e+00 1.00e+00f  1\n",
      "  12  3.0487393e+04 0.00e+00 3.03e-04 -11.0 1.20e-06    -  1.00e+00 1.00e+00f  1\n",
      "  13  3.0487393e+04 0.00e+00 2.73e-04 -11.0 2.67e-07    -  1.00e+00 5.00e-01f  2\n",
      "  14  3.0487393e+04 0.00e+00 1.45e-05 -11.0 5.31e-08    -  1.00e+00 1.00e+00f  1\n",
      "  15  3.0487393e+04 0.00e+00 5.63e-06 -11.0 2.58e-09    -  1.00e+00 1.00e+00f  1\n",
      "  16  3.0487393e+04 0.00e+00 8.02e-07 -11.0 4.11e-09    -  1.00e+00 1.00e+00f  1\n",
      "\n",
      "Number of Iterations....: 16\n",
      "\n",
      "                                   (scaled)                 (unscaled)\n",
      "Objective...............:   4.6041218144336117e+03    3.0487393187628535e+04\n",
      "Dual infeasibility......:   8.0181662415570472e-07    5.3094378624773952e-06\n",
      "Constraint violation....:   0.0000000000000000e+00    0.0000000000000000e+00\n",
      "Complementarity.........:   9.9999999999999881e-12    6.6217607648982218e-11\n",
      "Overall NLP error.......:   8.0181662415570472e-07    5.3094378624773952e-06\n",
      "\n",
      "\n",
      "Number of objective function evaluations             = 41\n",
      "Number of objective gradient evaluations             = 17\n",
      "Number of equality constraint evaluations            = 0\n",
      "Number of inequality constraint evaluations          = 0\n",
      "Number of equality constraint Jacobian evaluations   = 0\n",
      "Number of inequality constraint Jacobian evaluations = 0\n",
      "Number of Lagrangian Hessian evaluations             = 0\n",
      "Total CPU secs in IPOPT (w/o function evaluations)   =      0.043\n",
      "Total CPU secs in NLP function evaluations           =      0.409\n",
      "\n",
      "EXIT: Optimal Solution Found.\n",
      "Block iter 4 r = 9.35, logl = -30487.39, tol = 2.435219380687243e-6\n",
      "This is Ipopt version 3.13.4, running with linear solver mumps.\n",
      "NOTE: Other linear solvers might be more efficient (see Ipopt documentation).\n",
      "\n",
      "Number of nonzeros in equality constraint Jacobian...:        0\n",
      "Number of nonzeros in inequality constraint Jacobian.:        0\n",
      "Number of nonzeros in Lagrangian Hessian.............:        0\n",
      "\n",
      "Total number of variables............................:        5\n",
      "                     variables with only lower bounds:        2\n",
      "                variables with lower and upper bounds:        0\n",
      "                     variables with only upper bounds:        0\n",
      "Total number of equality constraints.................:        0\n",
      "Total number of inequality constraints...............:        0\n",
      "        inequality constraints with only lower bounds:        0\n",
      "   inequality constraints with lower and upper bounds:        0\n",
      "        inequality constraints with only upper bounds:        0\n",
      "\n",
      "iter    objective    inf_pr   inf_du lg(mu)  ||d||  lg(rg) alpha_du alpha_pr  ls\n",
      "   0  3.0499629e+04 0.00e+00 1.00e+02   0.0 0.00e+00    -  0.00e+00 0.00e+00   0\n",
      "   1  3.0492295e+04 0.00e+00 5.01e+01 -10.3 1.00e+02    -  1.00e+00 3.03e-04f  6\n",
      "   2  3.0489003e+04 0.00e+00 1.60e+01  -3.4 9.13e-03    -  1.00e+00 1.00e+00f  1\n",
      "   3  3.0488427e+04 0.00e+00 1.27e+01  -4.8 4.31e-03    -  1.00e+00 1.00e+00f  1\n",
      "   4  3.0487511e+04 0.00e+00 6.78e+00  -5.1 1.63e-02    -  1.00e+00 1.00e+00f  1\n",
      "   5  3.0487428e+04 0.00e+00 5.21e+00  -6.9 1.44e-02    -  1.00e+00 2.50e-01f  3\n",
      "   6  3.0487367e+04 0.00e+00 1.61e+00  -8.6 3.15e-03    -  1.00e+00 1.00e+00f  1\n",
      "   7  3.0487354e+04 0.00e+00 4.28e-01 -10.4 1.75e-03    -  1.00e+00 1.00e+00f  1\n",
      "   8  3.0487354e+04 0.00e+00 4.73e-01 -11.0 4.92e-04    -  1.00e+00 5.00e-01f  2\n",
      "   9  3.0487353e+04 0.00e+00 1.94e-01 -11.0 1.97e-04    -  1.00e+00 1.00e+00f  1\n",
      "iter    objective    inf_pr   inf_du lg(mu)  ||d||  lg(rg) alpha_du alpha_pr  ls\n",
      "  10  3.0487353e+04 0.00e+00 4.21e-02 -11.0 5.49e-05    -  1.00e+00 5.00e-01f  2\n",
      "  11  3.0487353e+04 0.00e+00 4.22e-03 -11.0 1.29e-05    -  1.00e+00 1.00e+00f  1\n",
      "  12  3.0487353e+04 0.00e+00 5.52e-04 -11.0 6.51e-06    -  1.00e+00 1.00e+00f  1\n",
      "  13  3.0487353e+04 0.00e+00 2.19e-04 -11.0 1.18e-06    -  1.00e+00 1.00e+00f  1\n",
      "  14  3.0487353e+04 0.00e+00 1.31e-04 -11.0 3.37e-07    -  1.00e+00 2.50e-01f  3\n",
      "  15  3.0487353e+04 0.00e+00 2.16e-05 -11.0 3.74e-08    -  1.00e+00 1.00e+00f  1\n",
      "  16  3.0487353e+04 0.00e+00 1.16e-05 -11.0 8.95e-09    -  1.00e+00 1.00e+00f  1\n",
      "  17  3.0487353e+04 0.00e+00 1.02e-05 -11.0 1.03e-08    -  1.00e+00 1.25e-01f  4\n",
      "  18  3.0487353e+04 0.00e+00 3.46e-05 -11.0 2.07e-08    -  1.00e+00 1.00e+00f  1\n",
      "  19  3.0487353e+04 0.00e+00 7.54e-06 -11.0 8.94e-09    -  1.00e+00 1.00e+00f  1\n",
      "iter    objective    inf_pr   inf_du lg(mu)  ||d||  lg(rg) alpha_du alpha_pr  ls\n",
      "  20  3.0487353e+04 0.00e+00 8.16e-07 -11.0 2.49e-09    -  1.00e+00 1.00e+00f  1\n",
      "\n",
      "Number of Iterations....: 20\n",
      "\n",
      "                                   (scaled)                 (unscaled)\n",
      "Objective...............:   4.6057297552607579e+03    3.0487353447600664e+04\n",
      "Dual infeasibility......:   8.1601669615242972e-07    5.4015738562007706e-06\n",
      "Constraint violation....:   0.0000000000000000e+00    0.0000000000000000e+00\n",
      "Complementarity.........:   9.9999999999999929e-12    6.6194403639895220e-11\n",
      "Overall NLP error.......:   8.1601669615242972e-07    5.4015738562007706e-06\n",
      "\n",
      "\n",
      "Number of objective function evaluations             = 59\n",
      "Number of objective gradient evaluations             = 21\n",
      "Number of equality constraint evaluations            = 0\n",
      "Number of inequality constraint evaluations          = 0\n",
      "Number of equality constraint Jacobian evaluations   = 0\n",
      "Number of inequality constraint Jacobian evaluations = 0\n",
      "Number of Lagrangian Hessian evaluations             = 0\n",
      "Total CPU secs in IPOPT (w/o function evaluations)   =      0.053\n",
      "Total CPU secs in NLP function evaluations           =      0.548\n",
      "\n",
      "EXIT: Optimal Solution Found.\n",
      "Block iter 5 r = 9.41, logl = -30487.35, tol = 1.303447762109238e-6\n",
      "This is Ipopt version 3.13.4, running with linear solver mumps.\n",
      "NOTE: Other linear solvers might be more efficient (see Ipopt documentation).\n",
      "\n",
      "Number of nonzeros in equality constraint Jacobian...:        0\n",
      "Number of nonzeros in inequality constraint Jacobian.:        0\n",
      "Number of nonzeros in Lagrangian Hessian.............:        0\n",
      "\n",
      "Total number of variables............................:        5\n",
      "                     variables with only lower bounds:        2\n",
      "                variables with lower and upper bounds:        0\n",
      "                     variables with only upper bounds:        0\n",
      "Total number of equality constraints.................:        0\n",
      "Total number of inequality constraints...............:        0\n",
      "        inequality constraints with only lower bounds:        0\n",
      "   inequality constraints with lower and upper bounds:        0\n",
      "        inequality constraints with only upper bounds:        0\n",
      "\n",
      "iter    objective    inf_pr   inf_du lg(mu)  ||d||  lg(rg) alpha_du alpha_pr  ls\n",
      "   0  3.0499863e+04 0.00e+00 1.00e+02   0.0 0.00e+00    -  0.00e+00 0.00e+00   0\n",
      "   1  3.0493650e+04 0.00e+00 5.89e+01 -10.3 1.00e+02    -  1.00e+00 3.51e-04f  7\n",
      "   2  3.0489103e+04 0.00e+00 1.67e+01  -3.7 9.46e-03    -  1.00e+00 1.00e+00f  1\n",
      "   3  3.0488621e+04 0.00e+00 1.39e+01  -5.2 3.42e-03    -  1.00e+00 1.00e+00f  1\n",
      "   4  3.0487530e+04 0.00e+00 4.85e+00  -5.5 1.69e-02    -  1.00e+00 1.00e+00f  1\n",
      "   5  3.0487432e+04 0.00e+00 4.67e+00  -7.5 1.31e-02    -  1.00e+00 2.50e-01f  3\n",
      "   6  3.0487349e+04 0.00e+00 1.45e+00  -8.9 5.38e-03    -  1.00e+00 1.00e+00f  1\n",
      "   7  3.0487339e+04 0.00e+00 1.66e+00 -10.7 3.57e-03    -  1.00e+00 5.00e-01f  2\n",
      "   8  3.0487333e+04 0.00e+00 1.70e-01 -11.0 5.12e-04    -  1.00e+00 1.00e+00f  1\n",
      "   9  3.0487332e+04 0.00e+00 9.59e-02 -11.0 1.17e-04    -  1.00e+00 1.00e+00f  1\n",
      "iter    objective    inf_pr   inf_du lg(mu)  ||d||  lg(rg) alpha_du alpha_pr  ls\n",
      "  10  3.0487332e+04 0.00e+00 3.91e-02 -11.0 8.65e-05    -  1.00e+00 5.00e-01f  2\n",
      "  11  3.0487332e+04 0.00e+00 1.44e-03 -11.0 1.69e-05    -  1.00e+00 1.00e+00f  1\n",
      "  12  3.0487332e+04 0.00e+00 8.36e-05 -11.0 7.01e-07    -  1.00e+00 1.00e+00f  1\n",
      "  13  3.0487332e+04 0.00e+00 7.64e-05 -11.0 4.92e-08    -  1.00e+00 1.00e+00f  1\n",
      "  14  3.0487332e+04 0.00e+00 2.16e-05 -11.0 2.46e-08    -  1.00e+00 1.00e+00f  1\n",
      "  15  3.0487332e+04 0.00e+00 6.56e-07 -11.0 8.37e-09    -  1.00e+00 1.00e+00f  1\n",
      "\n",
      "Number of Iterations....: 15\n",
      "\n",
      "                                   (scaled)                 (unscaled)\n",
      "Objective...............:   4.6069260356417290e+03    3.0487332431022500e+04\n",
      "Dual infeasibility......:   6.5635858363609949e-07    4.3435953124611952e-06\n",
      "Constraint violation....:   0.0000000000000000e+00    0.0000000000000000e+00\n",
      "Complementarity.........:   9.9999999999999639e-12    6.6177169321051645e-11\n",
      "Overall NLP error.......:   6.5635858363609949e-07    4.3435953124611952e-06\n",
      "\n",
      "\n",
      "Number of objective function evaluations             = 42\n",
      "Number of objective gradient evaluations             = 16\n",
      "Number of equality constraint evaluations            = 0\n",
      "Number of inequality constraint evaluations          = 0\n",
      "Number of equality constraint Jacobian evaluations   = 0\n",
      "Number of inequality constraint Jacobian evaluations = 0\n",
      "Number of Lagrangian Hessian evaluations             = 0\n",
      "Total CPU secs in IPOPT (w/o function evaluations)   =      0.042\n",
      "Total CPU secs in NLP function evaluations           =      0.400\n",
      "\n",
      "EXIT: Optimal Solution Found.\n",
      "  4.052910 seconds (6.59 M allocations: 125.980 MiB, 2.39% gc time, 3.36% compilation time)\n"
     ]
    }
   ],
   "source": [
    "@time optm = QuasiCopula.fit!(qc_model,\n",
    "    Ipopt.IpoptSolver(\n",
    "        print_level = 5, \n",
    "        tol = 10^-6, \n",
    "        max_iter = 1000,\n",
    "        accept_after_max_steps = 50,\n",
    "        warm_start_init_point=\"yes\", \n",
    "        limited_memory_max_history = 6, # default value\n",
    "        hessian_approximation = \"limited-memory\",\n",
    "#         derivative_test=\"first-order\"\n",
    "    )\n",
    ");"
   ]
  },
  {
   "cell_type": "code",
   "execution_count": 18,
   "metadata": {
    "collapsed": false
   },
   "outputs": [
    {
     "name": "stdout",
     "output_type": "stream",
     "text": [
      "βtrue = [1.0, 0.5, 0.5]\n",
      "qc_model.β = [1.0110780938476065, 0.49098116855201407, 0.49809263947189575]\n",
      "qc_model.∇β = [1.2730704028115845, 0.24021887022282118, 0.23598201774681615]\n",
      "θtrue = [0.1, 0.1]\n",
      "qc_model.θ = [0.0998871577283528, 0.05355670196910613]\n",
      "qc_model.∇θ = [4.221941568064722, 4.792173980575171]\n",
      "qc_model.τ = [1.0]\n",
      "qc_model.∇τ = [3.095486803e-314]\n"
     ]
    }
   ],
   "source": [
    "@show βtrue\n",
    "@show qc_model.β\n",
    "@show qc_model.∇β\n",
    "\n",
    "@show θtrue\n",
    "@show qc_model.θ\n",
    "@show qc_model.∇θ;\n",
    "\n",
    "@show qc_model.τ\n",
    "@show qc_model.∇τ;"
   ]
  },
  {
   "cell_type": "code",
   "execution_count": 19,
   "metadata": {
    "collapsed": false
   },
   "outputs": [
    {
     "name": "stdout",
     "output_type": "stream",
     "text": [
      "qc_model.r = [9.453573398478873]\n",
      "qc_model.∇r = [-26.827916978780003]\n"
     ]
    }
   ],
   "source": [
    "@show qc_model.r\n",
    "@show qc_model.∇r;"
   ]
  },
  {
   "cell_type": "markdown",
   "metadata": {},
   "source": [
    "## Score tests"
   ]
  },
  {
   "cell_type": "code",
   "execution_count": 20,
   "metadata": {
    "collapsed": false
   },
   "outputs": [
    {
     "name": "stdout",
     "output_type": "stream",
     "text": [
      "Wtime = 32.659787177340526\n",
      "Qtime = 4.178188889002064\n",
      "Rtime = 1.087551119998451\n",
      " 41.632345 seconds (582.88 M allocations: 53.080 GiB, 9.06% gc time)\n"
     ]
    },
    {
     "data": {
      "text/plain": [
       "1000-element Vector{Float64}:\n",
       " 0.79480730591239\n",
       " 0.9565020593418627\n",
       " 0.3031276225616457\n",
       " 0.3911148104246353\n",
       " 0.9107840024526468\n",
       " 0.6205948917971431\n",
       " 0.21292468298875103\n",
       " 0.7584343182629798\n",
       " 0.2366730347187306\n",
       " 0.1750342083133523\n",
       " 0.9100566571691595\n",
       " 0.6519513401467674\n",
       " 0.19469699597495915\n",
       " ⋮\n",
       " 0.7422014842147266\n",
       " 0.8348805136383132\n",
       " 0.9686182410352158\n",
       " 0.7056935996964189\n",
       " 0.6962167842601805\n",
       " 0.6418420259016995\n",
       " 0.7511667042671152\n",
       " 0.06866135406954778\n",
       " 0.3949773941297067\n",
       " 0.16621966320786935\n",
       " 0.9795989888780614\n",
       " 0.5251057844036325"
      ]
     },
     "execution_count": 20,
     "metadata": {},
     "output_type": "execute_result"
    }
   ],
   "source": [
    "# neg bin\n",
    "@time pvals = QuasiCopula.GWASCopulaVCModel(qc_model, G)"
   ]
  },
  {
   "cell_type": "code",
   "execution_count": 46,
   "metadata": {
    "collapsed": false
   },
   "outputs": [
    {
     "ename": "LoadError",
     "evalue": "InterruptException:",
     "output_type": "error",
     "traceback": [
      "InterruptException:",
      "",
      "Stacktrace:",
      "  [1] Array",
      "    @ ./boot.jl:448 [inlined]",
      "  [2] Array",
      "    @ ./boot.jl:457 [inlined]",
      "  [3] similar",
      "    @ ./array.jl:358 [inlined]",
      "  [4] similar",
      "    @ ./abstractarray.jl:742 [inlined]",
      "  [5] *",
      "    @ /Users/julia/buildbot/worker/package_macos64/build/usr/share/julia/stdlib/v1.6/LinearAlgebra/src/matmul.jl:108 [inlined]",
      "  [6] *",
      "    @ /Users/julia/buildbot/worker/package_macos64/build/usr/share/julia/stdlib/v1.6/LinearAlgebra/src/matmul.jl:133 [inlined]",
      "  [7] *",
      "    @ ./operators.jl:560 [inlined]",
      "  [8] calculate_Qi(qc_model::GaussianCopulaVCModel{Float64}, i::Int64, zi::SubArray{Float64, 1, Vector{Float64}, Tuple{UnitRange{Int64}}, true}, Γ::Matrix{Float64}, ∇resγ::Vector{Float64}, denom::Float64, denom2::Float64)",
      "    @ QuasiCopula ~/.julia/dev/QuasiCopula/src/gwas/longitudinal.jl:159",
      "  [9] macro expansion",
      "    @ ./timing.jl:287 [inlined]",
      " [10] GWASCopulaVCModel(qc_model::GaussianCopulaVCModel{Float64}, G::SnpArray)",
      "    @ QuasiCopula ~/.julia/dev/QuasiCopula/src/gwas/longitudinal.jl:95",
      " [11] top-level scope",
      "    @ ./timing.jl:210 [inlined]",
      " [12] top-level scope",
      "    @ ./In[46]:0",
      " [13] eval",
      "    @ ./boot.jl:360 [inlined]",
      " [14] include_string(mapexpr::typeof(REPL.softscope), mod::Module, code::String, filename::String)",
      "    @ Base ./loading.jl:1116"
     ]
    }
   ],
   "source": [
    "# bernoulli\n",
    "@time pvals = QuasiCopula.GWASCopulaVCModel(qc_model, G)"
   ]
  },
  {
   "cell_type": "code",
   "execution_count": 61,
   "metadata": {
    "collapsed": false
   },
   "outputs": [
    {
     "name": "stdout",
     "output_type": "stream",
     "text": [
      "Wtime = 33.59436863534545\n",
      "Qtime = 4.213189160079309\n",
      "Rtime = 0.768581058045112\n",
      " 41.997066 seconds (543.38 M allocations: 49.853 GiB, 8.92% gc time, 0.26% compilation time)\n"
     ]
    },
    {
     "data": {
      "text/plain": [
       "1000-element Vector{Float64}:\n",
       " 0.17137128652175276\n",
       " 0.43415803549385623\n",
       " 0.35129479595329144\n",
       " 0.8394000343764324\n",
       " 0.6801773064491721\n",
       " 0.5908022142376219\n",
       " 0.7898500761989526\n",
       " 0.7044936775252658\n",
       " 0.6940182858511476\n",
       " 0.06634364226410244\n",
       " 0.6678368518056075\n",
       " 0.6617143474197119\n",
       " 0.5315740665897692\n",
       " ⋮\n",
       " 0.6005091356508595\n",
       " 0.5136096517093748\n",
       " 0.6060152310298466\n",
       " 0.8103722607180806\n",
       " 0.20919925549495763\n",
       " 0.7652262230250056\n",
       " 0.8706451449620455\n",
       " 0.20871141280052474\n",
       " 0.9868665449576759\n",
       " 0.04663632700635264\n",
       " 0.913064488116446\n",
       " 0.6987478483268167"
      ]
     },
     "execution_count": 61,
     "metadata": {},
     "output_type": "execute_result"
    }
   ],
   "source": [
    "# gaussian\n",
    "@time pvals = QuasiCopula.GWASCopulaVCModel(qc_model, G)"
   ]
  },
  {
   "cell_type": "code",
   "execution_count": 9,
   "metadata": {
    "collapsed": false
   },
   "outputs": [
    {
     "data": {
      "image/png": "[encoded data removed]"
     },
     "metadata": {},
     "output_type": "display_data"
    }
   ],
   "source": [
    "qq(pvals, dpi=80, titles=\"Neg Bin, $k causal SNPs\")\n",
    "display(\"image/png\", read(\"qqplot.png\"))"
   ]
  },
  {
   "cell_type": "code",
   "execution_count": 21,
   "metadata": {
    "collapsed": false
   },
   "outputs": [
    {
     "data": {
      "image/png": "[encoded data removed]"
     },
     "metadata": {},
     "output_type": "display_data"
    }
   ],
   "source": [
    "qq(pvals, dpi=80, titles=\"Neg Bin, $k causal SNPs\")\n",
    "display(\"image/png\", read(\"qqplot.png\"))"
   ]
  },
  {
   "cell_type": "code",
   "execution_count": 44,
   "metadata": {
    "collapsed": false
   },
   "outputs": [
    {
     "data": {
      "image/png": "[encoded data removed]"
     },
     "metadata": {},
     "output_type": "display_data"
    }
   ],
   "source": [
    "qq(pvals, dpi=80, titles=\"Bernoulli, $k causal SNPs, β = ± 5\")\n",
    "display(\"image/png\", read(\"qqplot.png\"))"
   ]
  },
  {
   "cell_type": "code",
   "execution_count": 63,
   "metadata": {
    "collapsed": false
   },
   "outputs": [
    {
     "data": {
      "image/png": "[encoded data removed]"
     },
     "metadata": {},
     "output_type": "display_data"
    }
   ],
   "source": [
    "qq(pvals, dpi=80, titles=\"Normal, $k causal SNPs\")\n",
    "display(\"image/png\", read(\"qqplot.png\"))"
   ]
  },
  {
   "cell_type": "code",
   "execution_count": 33,
   "metadata": {
    "collapsed": false
   },
   "outputs": [
    {
     "name": "stdout",
     "output_type": "stream",
     "text": [
      "size(Hfull, 1) = 7\n",
      "rank(Hfull) = 6\n",
      "rank(Hfull[1:end - 1, 1:end - 1]) = 5\n"
     ]
    },
    {
     "ename": "LoadError",
     "evalue": "SingularException(4)",
     "output_type": "error",
     "traceback": [
      "SingularException(4)",
      "",
      "Stacktrace:",
      "  [1] checknonsingular",
      "    @ /Users/julia/buildbot/worker/package_macos64/build/usr/share/julia/stdlib/v1.6/LinearAlgebra/src/factorization.jl:19 [inlined]",
      "  [2] checknonsingular",
      "    @ /Users/julia/buildbot/worker/package_macos64/build/usr/share/julia/stdlib/v1.6/LinearAlgebra/src/factorization.jl:21 [inlined]",
      "  [3] #lu!#136",
      "    @ /Users/julia/buildbot/worker/package_macos64/build/usr/share/julia/stdlib/v1.6/LinearAlgebra/src/lu.jl:85 [inlined]",
      "  [4] #lu#140",
      "    @ /Users/julia/buildbot/worker/package_macos64/build/usr/share/julia/stdlib/v1.6/LinearAlgebra/src/lu.jl:273 [inlined]",
      "  [5] lu (repeats 2 times)",
      "    @ /Users/julia/buildbot/worker/package_macos64/build/usr/share/julia/stdlib/v1.6/LinearAlgebra/src/lu.jl:272 [inlined]",
      "  [6] inv(A::Matrix{Float64})",
      "    @ LinearAlgebra /Users/julia/buildbot/worker/package_macos64/build/usr/share/julia/stdlib/v1.6/LinearAlgebra/src/dense.jl:815",
      "  [7] GWASCopulaVCModel_autodiff(qc_model::NBCopulaVCModel{Float64, NegativeBinomial{Float64}, LogLink}, G::SnpArray)",
      "    @ QuasiCopula ~/.julia/dev/QuasiCopula/src/gwas/longitudinal_autodiff.jl:270",
      "  [8] top-level scope",
      "    @ ./timing.jl:210 [inlined]",
      "  [9] top-level scope",
      "    @ ./In[33]:0",
      " [10] eval",
      "    @ ./boot.jl:360 [inlined]",
      " [11] include_string(mapexpr::typeof(REPL.softscope), mod::Module, code::String, filename::String)",
      "    @ Base ./loading.jl:1116"
     ]
    }
   ],
   "source": [
    "# autodiff neg bin\n",
    "@time pvals = QuasiCopula.GWASCopulaVCModel_autodiff(qc_model, G)"
   ]
  },
  {
   "cell_type": "code",
   "execution_count": 66,
   "metadata": {
    "collapsed": false
   },
   "outputs": [
    {
     "name": "stdout",
     "output_type": "stream",
     "text": [
      " 27.280767 seconds (13.59 M allocations: 755.576 MiB, 0.50% gc time, 12.51% compilation time)\n"
     ]
    },
    {
     "data": {
      "text/plain": [
       "1000-element Vector{Float64}:\n",
       " 0.17120321640591382\n",
       " 0.43341328809194507\n",
       " 0.3511494954678522\n",
       " 0.8392169501079304\n",
       " 0.680083815495358\n",
       " 0.5905240715882919\n",
       " 0.7897820104533161\n",
       " 0.7044182319736411\n",
       " 0.6939609281615305\n",
       " 0.0660561508871385\n",
       " 0.6678007826563708\n",
       " 0.6616258540458355\n",
       " 0.5314803448251156\n",
       " ⋮\n",
       " 0.6004117509675786\n",
       " 0.512333175931102\n",
       " 0.605725378269697\n",
       " 0.8103209063230566\n",
       " 0.2090841576111163\n",
       " 0.764954764743121\n",
       " 0.8705980333029041\n",
       " 0.20854589224810335\n",
       " 0.9868616519224109\n",
       " 0.046429501014578316\n",
       " 0.9130283650183032\n",
       " 0.6985398882027449"
      ]
     },
     "execution_count": 66,
     "metadata": {},
     "output_type": "execute_result"
    }
   ],
   "source": [
    "# autodiff gaussian\n",
    "@time pvals = QuasiCopula.GWASCopulaVCModel_autodiff(qc_model, G)"
   ]
  },
  {
   "cell_type": "code",
   "execution_count": 67,
   "metadata": {
    "collapsed": false
   },
   "outputs": [
    {
     "data": {
      "image/png": "[encoded data removed]"
     },
     "metadata": {},
     "output_type": "display_data"
    }
   ],
   "source": [
    "# check Gaussian using autodiff: it includes tau in grad/Hess -> not very different to excluding tau\n",
    "qq(pvals, dpi=80, titles=\"Normal autodiff, $k causal SNPs\")\n",
    "display(\"image/png\", read(\"qqplot.png\"))"
   ]
  },
  {
   "cell_type": "markdown",
   "metadata": {},
   "source": [
    "## Correctness: compare to autodiff"
   ]
  },
  {
   "cell_type": "code",
   "execution_count": 5,
   "metadata": {
    "collapsed": false
   },
   "outputs": [
    {
     "name": "stdout",
     "output_type": "stream",
     "text": [
      "R = 1.2944122036132124\n",
      "Q = 334.07504773219074\n",
      "W = [-4.1101463769673385, -0.38710090503513683, 10.128626121553435, 28.08718187630317, -3.9828060609992217]\n"
     ]
    },
    {
     "ename": "LoadError",
     "evalue": "UndefVarError: fdsa not defined",
     "output_type": "error",
     "traceback": [
      "UndefVarError: fdsa not defined",
      "",
      "Stacktrace:",
      " [1] GWASCopulaVCModel_autodiff(qc_model::GLMCopulaVCModel{Float64, Bernoulli{Float64}, LogitLink}, G::SnpArray)",
      "   @ QuasiCopula ~/.julia/dev/QuasiCopula/src/gwas/longitudinal_autodiff.jl:181",
      " [2] top-level scope",
      "   @ ./timing.jl:210 [inlined]",
      " [3] top-level scope",
      "   @ ./In[5]:0",
      " [4] eval",
      "   @ ./boot.jl:360 [inlined]",
      " [5] include_string(mapexpr::typeof(REPL.softscope), mod::Module, code::String, filename::String)",
      "   @ Base ./loading.jl:1116"
     ]
    },
    {
     "name": "stderr",
     "output_type": "stream",
     "text": [
      "WARNING: both Distributions and Convex export \"entropy\"; uses of it in module QuasiCopula must be qualified\n"
     ]
    }
   ],
   "source": [
    "# autodiff\n",
    "@time pvals = QuasiCopula.GWASCopulaVCModel_autodiff(qc_model, G)"
   ]
  },
  {
   "cell_type": "code",
   "execution_count": 9,
   "metadata": {
    "collapsed": false,
    "scrolled": true
   },
   "outputs": [
    {
     "name": "stdout",
     "output_type": "stream",
     "text": [
      "R = 1.2944122028286387\n",
      "Q = 334.07504773003683\n",
      "W = [-4.110146378536879, -0.3871009113902798, 10.128626122634698, 28.087181876303358, -3.9828060609994456]\n"
     ]
    },
    {
     "ename": "LoadError",
     "evalue": "UndefVarError: fdsa not defined",
     "output_type": "error",
     "traceback": [
      "UndefVarError: fdsa not defined",
      "",
      "Stacktrace:",
      " [1] GWASCopulaVCModel(qc_model::GLMCopulaVCModel{Float64, Bernoulli{Float64}, LogitLink}, G::SnpArray)",
      "   @ QuasiCopula ~/.julia/dev/QuasiCopula/src/gwas/longitudinal.jl:104",
      " [2] top-level scope",
      "   @ ./timing.jl:210 [inlined]",
      " [3] top-level scope",
      "   @ ./In[9]:0",
      " [4] eval",
      "   @ ./boot.jl:360 [inlined]",
      " [5] include_string(mapexpr::typeof(REPL.softscope), mod::Module, code::String, filename::String)",
      "   @ Base ./loading.jl:1116"
     ]
    }
   ],
   "source": [
    "# mathematical\n",
    "@time pvals = QuasiCopula.GWASCopulaVCModel(qc_model, G)"
   ]
  },
  {
   "cell_type": "code",
   "execution_count": null,
   "metadata": {
    "collapsed": true
   },
   "outputs": [],
   "source": []
  }
 ],
 "metadata": {
  "@webio": {
   "lastCommId": null,
   "lastKernelId": null
  },
  "kernelspec": {
   "display_name": "Julia 1.6.7",
   "language": "julia",
   "name": "julia-1.6"
  },
  "language_info": {
   "file_extension": ".jl",
   "mimetype": "application/julia",
   "name": "julia",
   "version": "1.6.7"
  },
  "toc": {
   "base_numbering": 1,
   "nav_menu": {},
   "number_sections": true,
   "sideBar": true,
   "skip_h1_title": false,
   "title_cell": "Table of Contents",
   "title_sidebar": "Contents",
   "toc_cell": false,
   "toc_position": {},
   "toc_section_display": true,
   "toc_window_display": false
  }
 },
 "nbformat": 4,
 "nbformat_minor": 2
}
