{
 "cells": [
  {
   "cell_type": "markdown",
   "metadata": {},
   "source": [
    "# Longitudinal QuasiCopula GWAS with Mixed Marginals\n",
    "\n",
    "Here we adopt the variance component model framework\n",
    "\n",
    "$$\\mathbf{\\Gamma}_i(\\mathbf{\\theta}) = \\sum_{k=1}^m \\theta_k\\mathbf{V}_{ik}, \\quad \\theta_k \\ge 0$$"
   ]
  },
  {
   "cell_type": "code",
   "execution_count": 1,
   "metadata": {
    "collapsed": false
   },
   "outputs": [
    {
     "name": "stderr",
     "output_type": "stream",
     "text": [
      "┌ Info: Precompiling QuasiCopula [c47b6ae2-b804-4668-9957-eb588c99ffbc]\n",
      "└ @ Base loading.jl:1423\n"
     ]
    },
    {
     "data": {
      "text/plain": [
       "_make_snparray (generic function with 1 method)"
      ]
     },
     "execution_count": 1,
     "metadata": {},
     "output_type": "execute_result"
    }
   ],
   "source": [
    "using Revise\n",
    "using DataFrames, Random, GLM, QuasiCopula\n",
    "using ForwardDiff, Test, LinearAlgebra\n",
    "using LinearAlgebra: BlasReal, copytri!\n",
    "using ToeplitzMatrices\n",
    "using BenchmarkTools\n",
    "using SnpArrays\n",
    "using MendelPlots\n",
    "\n",
    "BLAS.set_num_threads(1)\n",
    "Threads.nthreads()\n",
    "\n",
    "function simulate_random_snparray(s::Union{String, UndefInitializer}, n::Int64,\n",
    "    p::Int64; mafs::Vector{Float64}=zeros(Float64, p), min_ma::Int = 5)\n",
    "\n",
    "    #first simulate a random {0, 1, 2} matrix with each SNP drawn from Binomial(2, r[i])\n",
    "    A1 = BitArray(undef, n, p) \n",
    "    A2 = BitArray(undef, n, p) \n",
    "    for j in 1:p\n",
    "        minor_alleles = 0\n",
    "        maf = 0\n",
    "        while minor_alleles <= min_ma\n",
    "            maf = 0.5rand()\n",
    "            for i in 1:n\n",
    "                A1[i, j] = rand(Bernoulli(maf))\n",
    "                A2[i, j] = rand(Bernoulli(maf))\n",
    "            end\n",
    "            minor_alleles = sum(view(A1, :, j)) + sum(view(A2, :, j))\n",
    "        end\n",
    "        mafs[j] = maf\n",
    "    end\n",
    "\n",
    "    #fill the SnpArray with the corresponding x_tmp entry\n",
    "    return _make_snparray(s, A1, A2)\n",
    "end\n",
    "\n",
    "function _make_snparray(s::Union{String, UndefInitializer}, A1::BitArray, A2::BitArray)\n",
    "    n, p = size(A1)\n",
    "    x = SnpArray(s, n, p)\n",
    "    for i in 1:(n*p)\n",
    "        c = A1[i] + A2[i]\n",
    "        if c == 0\n",
    "            x[i] = 0x00\n",
    "        elseif c == 1\n",
    "            x[i] = 0x02\n",
    "        elseif c == 2\n",
    "            x[i] = 0x03\n",
    "        else\n",
    "            throw(MissingException(\"matrix shouldn't have missing values!\"))\n",
    "        end\n",
    "    end\n",
    "    return x\n",
    "end\n"
   ]
  },
  {
   "cell_type": "markdown",
   "metadata": {},
   "source": [
    "## Simulate data"
   ]
  },
  {
   "cell_type": "code",
   "execution_count": 108,
   "metadata": {
    "collapsed": false
   },
   "outputs": [
    {
     "name": "stdout",
     "output_type": "stream",
     "text": [
      "qc_model = Quasi-Copula Variance Component Model\n",
      "  * base distribution: Normal\n",
      "  * link function: IdentityLink\n",
      "  * number of clusters: 1000\n",
      "  * cluster size min, max: 5, 5\n",
      "  * number of variance components: 1\n",
      "  * number of fixed effects: 3\n",
      "\n"
     ]
    }
   ],
   "source": [
    "function simulate_VC_longitudinal(;\n",
    "    n = 1000, # sample size\n",
    "    d = 5, # number of observations per sample\n",
    "    p = 3, # number of fixed effects, including intercept\n",
    "    m = 2, # number of variance components\n",
    "    q = 1000, #number of SNPs\n",
    "    k = 10, # number of causal SNPs\n",
    "    seed = 2022,\n",
    "    y_distribution = Bernoulli,\n",
    "    T = Float64,\n",
    "    )\n",
    "    m == 1 || m == 2 || error(\"m (number of VC) must be 1 or 2\")\n",
    "    \n",
    "    # non-genetic effect sizes\n",
    "    Random.seed!(seed)\n",
    "    βtrue = y_distribution == Bernoulli ? rand(Uniform(-1, 1), p) : rand(Uniform(-0.2, 0.2), p)\n",
    "    dist = y_distribution()\n",
    "    link = canonicallink(dist)\n",
    "    Dist = typeof(dist)\n",
    "    Link = typeof(link)\n",
    "\n",
    "    # variance components\n",
    "    θtrue = fill(0.5, m)\n",
    "    V1 = ones(d, d)\n",
    "    V2 = Matrix(I, d, d)\n",
    "    Γ = m == 1 ? θtrue[1] * V1 : θtrue[1] * V1 + θtrue[2] * V2\n",
    "\n",
    "    # simulate design matrices\n",
    "    Random.seed!(seed)\n",
    "    X_full = [hcat(ones(d), randn(d, p - 1)) for i in 1:n]\n",
    "\n",
    "    # simulate random SnpArray with 100 SNPs and randomly choose 10 SNPs to be causal\n",
    "    Random.seed!(2022)\n",
    "    G = simulate_random_snparray(undef, n, q)\n",
    "    Gfloat = convert(Matrix{T}, G, center=true, scale=false)\n",
    "    γtrue = zeros(q)\n",
    "    γtrue[1:k] .= y_distribution == Bernoulli ? rand([-0.5, 0.5], k) : rand([-0.2, 0.2], k)\n",
    "    shuffle!(γtrue)\n",
    "    η_G = Gfloat * γtrue\n",
    "\n",
    "    # simulate phenotypes\n",
    "    if y_distribution == Normal\n",
    "        τtrue = 100.0\n",
    "        σ2 = inv(τtrue)\n",
    "        σ = sqrt(σ2)\n",
    "        obs = Vector{GaussianCopulaVCObs{T}}(undef, n)\n",
    "        for i in 1:n\n",
    "            X = X_full[i]\n",
    "            η = X * βtrue\n",
    "            η .+= η_G[i] # add genetic effects\n",
    "            μ = GLM.linkinv.(link, η)\n",
    "            vecd = Vector{ContinuousUnivariateDistribution}(undef, d)\n",
    "            for i in 1:d\n",
    "                vecd[i] = y_distribution(μ[i], σ)\n",
    "            end\n",
    "            nonmixed_multivariate_dist = NonMixedMultivariateDistribution(vecd, Γ)\n",
    "            # simuate single vector y\n",
    "            y = Vector{T}(undef, d)\n",
    "            res = Vector{T}(undef, d)\n",
    "            rand(nonmixed_multivariate_dist, y, res)\n",
    "            V = m == 1 ? [V1] : [V1, V2]\n",
    "            obs[i] = GaussianCopulaVCObs(y, X, V)\n",
    "        end\n",
    "        qc_model = GaussianCopulaVCModel(obs)\n",
    "    else\n",
    "        obs = Vector{GLMCopulaVCObs{T, Dist, Link}}(undef, n)\n",
    "        for i in 1:n\n",
    "            X = X_full[i]\n",
    "            η = X * βtrue\n",
    "            η .+= η_G[i] # add genetic effects\n",
    "            μ = GLM.linkinv.(link, η)\n",
    "            vecd = Vector{DiscreteUnivariateDistribution}(undef, d)\n",
    "            for i in 1:d\n",
    "                vecd[i] = y_distribution(μ[i])\n",
    "            end\n",
    "            nonmixed_multivariate_dist = NonMixedMultivariateDistribution(vecd, Γ)\n",
    "            # simuate single vector y\n",
    "            y = Vector{T}(undef, d)\n",
    "            res = Vector{T}(undef, d)\n",
    "            rand(nonmixed_multivariate_dist, y, res)\n",
    "            V = m == 1 ? [V1] : [V1, V2]\n",
    "            obs[i] = GLMCopulaVCObs(y, X, V, dist, link)\n",
    "        end\n",
    "        qc_model = GLMCopulaVCModel(obs)\n",
    "    end\n",
    "    return qc_model, Γ, G, βtrue, θtrue, γtrue\n",
    "end\n",
    "\n",
    "qc_model, Γ, G, βtrue, θtrue, γtrue = simulate_VC_longitudinal(\n",
    "    n = 1000, # sample size\n",
    "    d = 5, # number of observations per sample\n",
    "    p = 3, # number of fixed effects, including intercept\n",
    "    m = 1, # number of variance components\n",
    "    q = 1000,\n",
    "    k = 10,\n",
    "    seed = 2022,\n",
    "    y_distribution = Normal,\n",
    "    T = Float64,\n",
    ")\n",
    "\n",
    "@show qc_model;"
   ]
  },
  {
   "cell_type": "markdown",
   "metadata": {},
   "source": [
    "## Fit Null model"
   ]
  },
  {
   "cell_type": "code",
   "execution_count": 109,
   "metadata": {
    "collapsed": false,
    "scrolled": true
   },
   "outputs": [
    {
     "name": "stdout",
     "output_type": "stream",
     "text": [
      "gcm.β = [-0.15840378531269692, 0.16288250833971124, 0.012974732625338454]\n",
      "initializing dispersion using residual sum of squares\n",
      "gcm.τ = [7.6006776501928135]\n",
      "initializing variance components using MM-Algorithm\n",
      "gcm.θ = [1.3740839813084325]\n",
      "This is Ipopt version 3.13.4, running with linear solver mumps.\n",
      "NOTE: Other linear solvers might be more efficient (see Ipopt documentation).\n",
      "\n",
      "Number of nonzeros in equality constraint Jacobian...:        0\n",
      "Number of nonzeros in inequality constraint Jacobian.:        0\n",
      "Number of nonzeros in Lagrangian Hessian.............:        0\n",
      "\n",
      "Total number of variables............................:        5\n",
      "                     variables with only lower bounds:        2\n",
      "                variables with lower and upper bounds:        0\n",
      "                     variables with only upper bounds:        0\n",
      "Total number of equality constraints.................:        0\n",
      "Total number of inequality constraints...............:        0\n",
      "        inequality constraints with only lower bounds:        0\n",
      "   inequality constraints with lower and upper bounds:        0\n",
      "        inequality constraints with only upper bounds:        0\n",
      "\n",
      "iter    objective    inf_pr   inf_du lg(mu)  ||d||  lg(rg) alpha_du alpha_pr  ls\n",
      "   0  1.3246213e+03 0.00e+00 1.00e+02   0.0 0.00e+00    -  0.00e+00 0.00e+00   0\n",
      "   1  9.8494224e+05 0.00e+00 1.21e+05  -3.9 1.00e+02    -  1.00e+00 6.25e-02h  5\n",
      "   2  1.3237990e+03 0.00e+00 1.12e+01  -4.0 6.24e+00    -  1.00e+00 1.00e+00f  1\n",
      "   3  1.3237883e+03 0.00e+00 1.35e+00  -5.9 6.32e-04    -  1.00e+00 1.00e+00f  1\n",
      "   4  1.3237881e+03 0.00e+00 2.17e-01  -7.8 8.70e-05    -  1.00e+00 1.00e+00f  1\n",
      "   5  1.3237881e+03 0.00e+00 2.16e-01  -9.7 1.59e-05    -  1.00e+00 1.00e+00f  1\n",
      "   6  1.3237877e+03 0.00e+00 2.39e+00 -11.0 1.67e-03    -  1.00e+00 1.00e+00f  1\n",
      "   7  1.3237881e+03 0.00e+00 3.31e+00 -11.0 8.78e-03    -  1.00e+00 6.25e-02h  5\n",
      "   8  1.3237869e+03 0.00e+00 1.87e+00 -11.0 1.01e-03    -  1.00e+00 1.00e+00f  1\n",
      "   9  1.3237856e+03 0.00e+00 1.30e+00 -11.0 3.01e-03    -  1.00e+00 1.00e+00f  1\n",
      "iter    objective    inf_pr   inf_du lg(mu)  ||d||  lg(rg) alpha_du alpha_pr  ls\n",
      "  10  1.3237841e+03 0.00e+00 8.33e-01 -11.0 7.81e-03    -  1.00e+00 1.00e+00f  1\n",
      "  11  1.3237846e+03 0.00e+00 2.64e+00 -11.0 1.67e-02    -  1.00e+00 6.25e-02h  5\n",
      "  12  1.3237844e+03 0.00e+00 2.06e+00 -11.0 2.15e-03    -  1.00e+00 5.00e-01f  2\n",
      "  13  1.3237843e+03 0.00e+00 1.70e+00 -11.0 1.52e-02    -  1.00e+00 1.25e-01f  4\n",
      "  14  1.3237849e+03 0.00e+00 3.22e+00 -11.0 2.98e-02    -  1.00e+00 6.25e-02h  5\n",
      "  15  1.3237840e+03 0.00e+00 1.24e-01 -11.0 5.06e-04    -  1.00e+00 1.00e+00f  1\n",
      "  16  1.3237840e+03 0.00e+00 6.80e-02 -11.0 6.68e-04    -  1.00e+00 1.00e+00f  1\n",
      "  17  1.3237840e+03 0.00e+00 7.99e-02 -11.0 3.93e-03    -  1.00e+00 6.25e-02h  5\n",
      "  18  1.3237840e+03 0.00e+00 4.13e-02 -11.0 1.90e-03    -  1.00e+00 5.00e-01f  2\n",
      "  19  1.3237840e+03 0.00e+00 2.01e-01 -11.0 2.29e-03    -  1.00e+00 6.25e-02h  5\n",
      "iter    objective    inf_pr   inf_du lg(mu)  ||d||  lg(rg) alpha_du alpha_pr  ls\n",
      "  20  1.3237840e+03 0.00e+00 1.78e-01 -11.0 5.56e-04    -  1.00e+00 5.00e-01f  2\n",
      "  21  1.3237842e+03 0.00e+00 9.60e-01 -11.0 4.23e-02    -  1.00e+00 6.25e-02h  5\n",
      "  22  1.3237840e+03 0.00e+00 7.50e-01 -11.0 2.44e-03    -  1.00e+00 1.00e+00f  1\n",
      "  23  1.3238166e+03 0.00e+00 1.77e+01 -11.0 1.95e-01    -  1.00e+00 6.25e-02h  5\n",
      "  24  1.3237840e+03 0.00e+00 1.06e-02 -11.0 1.22e-02    -  1.00e+00 1.00e+00f  1\n",
      "  25  1.3237840e+03 0.00e+00 3.24e-03 -11.0 9.61e-04    -  1.00e+00 6.25e-02f  5\n",
      "  26  1.3237840e+03 0.00e+00 1.53e-01 -11.0 4.43e-03    -  1.00e+00 6.25e-02h  5\n",
      "  27  1.3237840e+03 0.00e+00 4.20e-02 -11.0 2.03e-04    -  1.00e+00 1.00e+00f  1\n",
      "  28  1.3237840e+03 0.00e+00 4.16e-01 -11.0 1.47e-02    -  1.00e+00 6.25e-02h  5\n",
      "  29  1.3237840e+03 0.00e+00 3.27e-03 -11.0 8.45e-04    -  1.00e+00 1.00e+00f  1\n",
      "iter    objective    inf_pr   inf_du lg(mu)  ||d||  lg(rg) alpha_du alpha_pr  ls\n",
      "  30  1.3237840e+03 0.00e+00 7.95e-02 -11.0 2.87e-03    -  1.00e+00 6.25e-02h  5\n",
      "  31  1.3237840e+03 0.00e+00 8.27e-04 -11.0 1.73e-04    -  1.00e+00 1.00e+00f  1\n",
      "  32  1.3237840e+03 0.00e+00 2.46e-02 -11.0 3.15e-04    -  1.00e+00 6.25e-02h  5\n",
      "  33  1.3237840e+03 0.00e+00 4.42e-04 -11.0 1.97e-05    -  1.00e+00 1.00e+00f  1\n",
      "  34  1.3237840e+03 0.00e+00 9.19e-04 -11.0 3.71e-05    -  1.00e+00 1.25e-01f  4\n",
      "  35  1.3237840e+03 0.00e+00 2.14e-02 -11.0 3.99e-04    -  1.00e+00 6.25e-02h  5\n",
      "  36  1.3237840e+03 0.00e+00 1.03e-04 -11.0 2.66e-05    -  1.00e+00 1.00e+00f  1\n",
      "  37  1.3237840e+03 0.00e+00 1.28e-03 -11.0 4.48e-05    -  1.00e+00 6.25e-02h  5\n",
      "  38  1.3237840e+03 0.00e+00 1.85e-06 -11.0 2.59e-06    -  1.00e+00 1.00e+00f  1\n",
      "  39  1.3237840e+03 0.00e+00 9.07e-05 -11.0 1.62e-06    -  1.00e+00 1.25e-01f  4\n",
      "iter    objective    inf_pr   inf_du lg(mu)  ||d||  lg(rg) alpha_du alpha_pr  ls\n",
      "  40  1.3237840e+03 0.00e+00 7.52e-08 -11.0 1.99e-07    -  1.00e+00 1.00e+00f  1\n",
      "\n",
      "Number of Iterations....: 40\n",
      "\n",
      "                                   (scaled)                 (unscaled)\n",
      "Objective...............:   5.1689448818709809e+02    1.3237839919351040e+03\n",
      "Dual infeasibility......:   7.5154805390961564e-08    1.9247395854904428e-07\n",
      "Constraint violation....:   0.0000000000000000e+00    0.0000000000000000e+00\n",
      "Complementarity.........:   9.9999999999999655e-12    2.5610332905231812e-11\n",
      "Overall NLP error.......:   7.5154805390961564e-08    1.9247395854904428e-07\n",
      "\n",
      "\n",
      "Number of objective function evaluations             = 197\n",
      "Number of objective gradient evaluations             = 41\n",
      "Number of equality constraint evaluations            = 0\n",
      "Number of inequality constraint evaluations          = 0\n",
      "Number of equality constraint Jacobian evaluations   = 0\n",
      "Number of inequality constraint Jacobian evaluations = 0\n",
      "Number of Lagrangian Hessian evaluations             = 0\n",
      "Total CPU secs in IPOPT (w/o function evaluations)   =      0.089\n",
      "Total CPU secs in NLP function evaluations           =      0.113\n",
      "\n",
      "EXIT: Optimal Solution Found.\n",
      "  0.325463 seconds (723.83 k allocations: 11.277 MiB, 42.50% gc time)\n"
     ]
    }
   ],
   "source": [
    "@time optm = QuasiCopula.fit!(qc_model,\n",
    "    Ipopt.IpoptSolver(\n",
    "        print_level = 5, \n",
    "        tol = 10^-6, \n",
    "        max_iter = 1000,\n",
    "        accept_after_max_steps = 4,\n",
    "        warm_start_init_point=\"yes\", \n",
    "        limited_memory_max_history = 6, # default value\n",
    "        hessian_approximation = \"limited-memory\",\n",
    "#         derivative_test=\"second-order\"\n",
    "    )\n",
    ");"
   ]
  },
  {
   "cell_type": "code",
   "execution_count": 110,
   "metadata": {
    "collapsed": false
   },
   "outputs": [
    {
     "name": "stdout",
     "output_type": "stream",
     "text": [
      "βtrue = [-0.15724541848225881, 0.1622105756389522, 0.008250501994707893]\n",
      "qc_model.β = [-0.15198649118496213, 0.16208610138285148, 0.01322950143458344]\n",
      "qc_model.∇β = [1.1345890271741155e-7, 1.9247395854904426e-7, 6.395734608588555e-8]\n",
      "θtrue = [0.5]\n",
      "qc_model.θ = [1.3888072088773855]\n",
      "qc_model.∇θ = [7.557515724343489e-11]\n"
     ]
    }
   ],
   "source": [
    "@show βtrue\n",
    "@show qc_model.β\n",
    "@show qc_model.∇β\n",
    "\n",
    "@show θtrue\n",
    "@show qc_model.θ\n",
    "@show qc_model.∇θ;"
   ]
  },
  {
   "cell_type": "markdown",
   "metadata": {},
   "source": [
    "## Score test\n",
    "\n",
    "\n",
    "\n",
    "TODO: \n",
    "+ Why are p-values inflated/deflated? \n",
    "+ How to compute $\\nabla$res$\\beta$ for Gaussian?\n",
    "+ How reliable is `derivative_test` in Ipopt?"
   ]
  },
  {
   "cell_type": "code",
   "execution_count": 111,
   "metadata": {
    "collapsed": false
   },
   "outputs": [
    {
     "name": "stdout",
     "output_type": "stream",
     "text": [
      "  1.590366 seconds (17.28 M allocations: 1.698 GiB, 6.84% gc time, 10.65% compilation time)\n"
     ]
    },
    {
     "data": {
      "text/plain": [
       "1000-element Vector{Float64}:\n",
       " 0.08141064611732204\n",
       " 0.03572218399904378\n",
       " 0.7386900154916249\n",
       " 0.7601035292921996\n",
       " 0.2640099706042878\n",
       " 0.7123411223845543\n",
       " 0.4898487794575718\n",
       " 0.536968132360268\n",
       " 0.7315653288890237\n",
       " 0.5609198602341918\n",
       " 0.3699225883637871\n",
       " 0.29030708398030974\n",
       " 0.43664681976219355\n",
       " ⋮\n",
       " 0.9019142337619216\n",
       " 0.7918297446882727\n",
       " 0.4657978049201985\n",
       " 0.9774498924193628\n",
       " 0.808572030828483\n",
       " 0.10594239647460488\n",
       " 0.5610292077530805\n",
       " 0.5424230507105744\n",
       " 0.9022464188400359\n",
       " 0.8615653126016457\n",
       " 0.44849264049444515\n",
       " 0.25151991024259635"
      ]
     },
     "execution_count": 111,
     "metadata": {},
     "output_type": "execute_result"
    }
   ],
   "source": [
    "loglikelihood!(qc_model, true, true)\n",
    "@time pvals = QuasiCopula.GWASCopulaVCModel(qc_model, G)"
   ]
  },
  {
   "cell_type": "code",
   "execution_count": 112,
   "metadata": {
    "collapsed": false
   },
   "outputs": [
    {
     "name": "stdout",
     "output_type": "stream",
     "text": [
      "length(signif_snps) = 3\n",
      "power = 0.3\n"
     ]
    },
    {
     "data": {
      "text/plain": [
       "0.3"
      ]
     },
     "execution_count": 112,
     "metadata": {},
     "output_type": "execute_result"
    }
   ],
   "source": [
    "correct_snps = findall(!iszero, γtrue)\n",
    "signif_snps = findall(x -> x < 0.05/length(pvals), pvals)\n",
    "power = length(correct_snps ∩ signif_snps) / length(correct_snps)\n",
    "\n",
    "@show length(signif_snps)\n",
    "@show power"
   ]
  },
  {
   "cell_type": "code",
   "execution_count": 113,
   "metadata": {
    "collapsed": false
   },
   "outputs": [
    {
     "data": {
      "text/plain": [
       "10-element Vector{Float64}:\n",
       " 2.5021293130284753e-9\n",
       " 1.2402607583450016e-6\n",
       " 2.7290509600113428e-5\n",
       " 0.0032101179049080055\n",
       " 0.005338863462138447\n",
       " 0.04175964263285061\n",
       " 0.06562247566259387\n",
       " 0.16679484811477432\n",
       " 0.24008995287240978\n",
       " 0.3884418623894691"
      ]
     },
     "execution_count": 113,
     "metadata": {},
     "output_type": "execute_result"
    }
   ],
   "source": [
    "pvals[correct_snps] |> sort"
   ]
  },
  {
   "cell_type": "code",
   "execution_count": 114,
   "metadata": {
    "collapsed": false
   },
   "outputs": [
    {
     "data": {
      "text/plain": [
       "1000-element Vector{Float64}:\n",
       " 2.5021293130284753e-9\n",
       " 1.2402607583450016e-6\n",
       " 2.7290509600113428e-5\n",
       " 0.0032101179049080055\n",
       " 0.005338863462138447\n",
       " 0.007466608719874863\n",
       " 0.00859790947888254\n",
       " 0.0129962193791021\n",
       " 0.023861175421314086\n",
       " 0.026400274868744338\n",
       " 0.0351888322414668\n",
       " 0.03572218399904378\n",
       " 0.03704356454460522\n",
       " ⋮\n",
       " 0.9917981709993827\n",
       " 0.9925152865927532\n",
       " 0.9937092517210481\n",
       " 0.9939114308705206\n",
       " 0.9942051686615612\n",
       " 0.9953486843816867\n",
       " 0.9965686387883056\n",
       " 0.996734043656076\n",
       " 0.997318006324585\n",
       " 0.9973379723085672\n",
       " 0.9978679157070085\n",
       " 0.999523075620091"
      ]
     },
     "execution_count": 114,
     "metadata": {},
     "output_type": "execute_result"
    }
   ],
   "source": [
    "sort(pvals)"
   ]
  },
  {
   "cell_type": "markdown",
   "metadata": {
    "collapsed": true
   },
   "source": [
    "## QQ Plots"
   ]
  },
  {
   "cell_type": "code",
   "execution_count": 115,
   "metadata": {
    "collapsed": false
   },
   "outputs": [
    {
     "data": {
      "image/png": "[encoded data removed]"
     },
     "metadata": {},
     "output_type": "display_data"
    }
   ],
   "source": [
    "qq(pvals, dpi=100, titles=\"Gaussian Base, 5 causal SNPs\")\n",
    "display(\"image/png\", read(\"qqplot.png\"))"
   ]
  },
  {
   "cell_type": "code",
   "execution_count": 24,
   "metadata": {
    "collapsed": false
   },
   "outputs": [
    {
     "data": {
      "image/png": "[encoded data removed]"
     },
     "metadata": {},
     "output_type": "display_data"
    }
   ],
   "source": [
    "qq(pvals, dpi=100, titles=\"Bernoulli Base, 5 causal SNPs\")\n",
    "display(\"image/png\", read(\"qqplot.png\"))"
   ]
  },
  {
   "cell_type": "code",
   "execution_count": 32,
   "metadata": {
    "collapsed": false
   },
   "outputs": [
    {
     "data": {
      "image/png": "[encoded data removed]"
     },
     "metadata": {},
     "output_type": "display_data"
    }
   ],
   "source": [
    "qq(pvals, dpi=100, titles=\"Poisson Base, 5 causal SNPs\")\n",
    "display(\"image/png\", read(\"qqplot.png\"))"
   ]
  },
  {
   "cell_type": "code",
   "execution_count": null,
   "metadata": {
    "collapsed": true
   },
   "outputs": [],
   "source": []
  }
 ],
 "metadata": {
  "@webio": {
   "lastCommId": null,
   "lastKernelId": null
  },
  "kernelspec": {
   "display_name": "Julia 1.7.3",
   "language": "julia",
   "name": "julia-1.7"
  },
  "language_info": {
   "file_extension": ".jl",
   "mimetype": "application/julia",
   "name": "julia",
   "version": "1.7.3"
  },
  "toc": {
   "base_numbering": 1,
   "nav_menu": {},
   "number_sections": true,
   "sideBar": true,
   "skip_h1_title": false,
   "title_cell": "Table of Contents",
   "title_sidebar": "Contents",
   "toc_cell": false,
   "toc_position": {},
   "toc_section_display": true,
   "toc_window_display": false
  }
 },
 "nbformat": 4,
 "nbformat_minor": 2
}
