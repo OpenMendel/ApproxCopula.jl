{
 "cells": [
  {
   "cell_type": "markdown",
   "metadata": {},
   "source": [
    "# Longitudinal QuasiCopula GWAS\n",
    "\n",
    "Here we adopt the variance component model framework\n",
    "\n",
    "$$\\mathbf{\\Gamma}_i(\\mathbf{\\theta}) = \\sum_{k=1}^m \\theta_k\\mathbf{V}_{ik}, \\quad \\theta_k \\ge 0$$"
   ]
  },
  {
   "cell_type": "code",
   "execution_count": 1,
   "metadata": {
    "collapsed": false,
    "scrolled": true
   },
   "outputs": [
    {
     "name": "stderr",
     "output_type": "stream",
     "text": [
      "\u001b[32m\u001b[1mPrecompiling\u001b[22m\u001b[39m QuasiCopula\n",
      "\u001b[32m  ✓ \u001b[39mQuasiCopula\n",
      "  1 dependency successfully precompiled in 5 seconds. 151 already precompiled.\n"
     ]
    },
    {
     "data": {
      "text/plain": [
       "8"
      ]
     },
     "execution_count": 1,
     "metadata": {},
     "output_type": "execute_result"
    }
   ],
   "source": [
    "using Revise\n",
    "using QuasiCopula\n",
    "using Random\n",
    "using GLM\n",
    "using LinearAlgebra\n",
    "using Statistics\n",
    "using StatsBase\n",
    "\n",
    "ENV[\"COLUMNS\"] = 240\n",
    "BLAS.set_num_threads(1)\n",
    "Threads.nthreads()"
   ]
  },
  {
   "cell_type": "markdown",
   "metadata": {},
   "source": [
    "## Simulate data\n",
    "\n",
    "All SNPs have the same MAF"
   ]
  },
  {
   "cell_type": "code",
   "execution_count": 12,
   "metadata": {
    "collapsed": false
   },
   "outputs": [
    {
     "name": "stdout",
     "output_type": "stream",
     "text": [
      "qc_model = Quasi-Copula Variance Component Model\n",
      "  * base distribution: Bernoulli\n",
      "  * link function: LogitLink\n",
      "  * number of clusters: 10000\n",
      "  * cluster size min, max: 5, 5\n",
      "  * number of variance components: 2\n",
      "  * number of fixed effects: 15\n",
      "\n"
     ]
    }
   ],
   "source": [
    "k = 0 # number of causal SNPs\n",
    "\n",
    "qc_model, G, βtrue, θtrue, γtrue, τtrue = simulate_longitudinal_traits(\n",
    "    n = 10_000, # sample size\n",
    "    d_min = 5, # min number of observations per sample\n",
    "    d_max = 5, # max number of observations per sample\n",
    "    p = 15, # number of fixed effects, including intercept\n",
    "    m = 2, # number of variance components\n",
    "    q = 10000, # number of SNPs\n",
    "    k = k, # number of causal SNPs\n",
    "    seed = 2024,\n",
    "    y_distribution = Bernoulli,\n",
    "    τtrue = 0.5,\n",
    "    T = Float64,\n",
    "    maf = 0.3,\n",
    "    causal_snp_β = 0.2,\n",
    ")\n",
    "\n",
    "@show qc_model;"
   ]
  },
  {
   "cell_type": "code",
   "execution_count": 7,
   "metadata": {
    "collapsed": false
   },
   "outputs": [
    {
     "data": {
      "text/plain": [
       "5×5 Matrix{Float64}:\n",
       " 0.11  0.1   0.1   0.1   0.1\n",
       " 0.1   0.11  0.1   0.1   0.1\n",
       " 0.1   0.1   0.11  0.1   0.1\n",
       " 0.1   0.1   0.1   0.11  0.1\n",
       " 0.1   0.1   0.1   0.1   0.11"
      ]
     },
     "execution_count": 7,
     "metadata": {},
     "output_type": "execute_result"
    }
   ],
   "source": [
    "# simulated Γ\n",
    "Γ = qc_model.data[1].V[1] * θtrue[1] + qc_model.data[1].V[2] * θtrue[2]"
   ]
  },
  {
   "cell_type": "code",
   "execution_count": 4,
   "metadata": {
    "collapsed": false
   },
   "outputs": [
    {
     "data": {
      "text/plain": [
       "5×5 Matrix{Float64}:\n",
       " 1.0        0.0395978  0.0412608  0.0469872  0.04467\n",
       " 0.0395978  1.0        0.0439956  0.0406976  0.0467024\n",
       " 0.0412608  0.0439956  1.0        0.050163   0.04529\n",
       " 0.0469872  0.0406976  0.050163   1.0        0.0453676\n",
       " 0.04467    0.0467024  0.04529    0.0453676  1.0"
      ]
     },
     "execution_count": 4,
     "metadata": {},
     "output_type": "execute_result"
    }
   ],
   "source": [
    "# check response\n",
    "Y = hcat([qc_model.data[i].y for i in 1:length(qc_model.data)]...)'\n",
    "Statistics.cor(Y)"
   ]
  },
  {
   "cell_type": "code",
   "execution_count": 52,
   "metadata": {
    "collapsed": false,
    "scrolled": false
   },
   "outputs": [
    {
     "data": {
      "text/plain": [
       "10000×5 adjoint(::Matrix{Float64}) with eltype Float64:\n",
       "  3.93727   -2.34964     1.15502    0.845882   -2.25056\n",
       "  1.239     -1.41874     1.10158   -1.54951     1.55236\n",
       " -2.26558   -3.68031     2.20243    1.10832     1.05051\n",
       "  1.94291    0.630906   -0.123103   2.12125     1.27238\n",
       " -0.256513   2.95857    -4.80642   -0.289042   -2.71634\n",
       "  2.48586    6.17372    -2.65617   -0.834607    1.30696\n",
       "  1.00082    1.04486    -3.16515    0.290777    3.01215\n",
       "  4.06211   -3.00305    -0.199011   4.43849     2.42237\n",
       "  1.33301   -5.50109     1.94873    6.30419    -0.478857\n",
       "  2.67229    2.43302     0.611184  -0.505642   -0.300268\n",
       "  2.63139    5.73512     4.93054   -0.52798    -1.54477\n",
       "  1.54158   -0.164176   -1.30372    0.8517      0.284256\n",
       "  4.39541    1.82224     1.52061    1.25152    -1.28981\n",
       "  ⋮                                            \n",
       "  2.36584   -2.10804     0.968788   1.32022     3.81198\n",
       "  2.13142   -2.20301     2.96436   -2.32653     3.96701\n",
       "  4.53744   -3.48772     1.71259    0.0926616  -2.64173\n",
       "  2.78886   -5.3164      2.26072   -1.04042     1.61284\n",
       " -1.67654   -2.14299     2.48435   -0.232805   -2.2474\n",
       " -0.405466   0.0567123  -1.25456   -2.39835     2.24096\n",
       " -1.72714    0.272565    3.99332    3.804       1.2023\n",
       "  2.82313    1.27172    -1.86456    2.5951      2.21089\n",
       "  0.517578   0.462654   -1.64151   -1.11389     0.877333\n",
       " -2.96819    0.906644    1.68268    2.2441      0.297104\n",
       "  3.67745    1.51459     2.05842    1.87089     3.50333\n",
       "  0.115971  -3.31298     2.4436     0.805064    6.48416"
      ]
     },
     "execution_count": 52,
     "metadata": {},
     "output_type": "execute_result"
    }
   ],
   "source": [
    "Y"
   ]
  },
  {
   "cell_type": "markdown",
   "metadata": {},
   "source": [
    "Mathematically, $cov(Y_k, Y_l) = \\sigma_k\\sigma_l\\gamma_{kl}$. Lets check this."
   ]
  },
  {
   "cell_type": "code",
   "execution_count": 15,
   "metadata": {
    "collapsed": false
   },
   "outputs": [
    {
     "data": {
      "text/plain": [
       "24.229478198003438"
      ]
     },
     "execution_count": 15,
     "metadata": {},
     "output_type": "execute_result"
    }
   ],
   "source": [
    "k = 1\n",
    "l = 2\n",
    "\n",
    "# bernoulli\n",
    "pk = count(isone, Y[:, k]) / size(Y, 1)\n",
    "pl = count(isone, Y[:, l]) / size(Y, 1)\n",
    "σk = sqrt(pk * (1 - pk))\n",
    "σl = sqrt(pl * (1 - pl))\n",
    "\n",
    "# gaussian\n",
    "# σk = std(Y[:, k])\n",
    "# σl = std(Y[:, l])\n",
    "\n",
    "σk * σl * Γ[k, l]"
   ]
  },
  {
   "cell_type": "markdown",
   "metadata": {},
   "source": [
    "## Fit null model"
   ]
  },
  {
   "cell_type": "code",
   "execution_count": 13,
   "metadata": {
    "collapsed": false,
    "scrolled": true
   },
   "outputs": [
    {
     "name": "stdout",
     "output_type": "stream",
     "text": [
      "This is Ipopt version 3.14.14, running with linear solver MUMPS 5.6.2.\n",
      "\n",
      "Number of nonzeros in equality constraint Jacobian...:        0\n",
      "Number of nonzeros in inequality constraint Jacobian.:        0\n",
      "Number of nonzeros in Lagrangian Hessian.............:        0\n",
      "\n",
      "Total number of variables............................:       17\n",
      "                     variables with only lower bounds:        2\n",
      "                variables with lower and upper bounds:        0\n",
      "                     variables with only upper bounds:        0\n",
      "Total number of equality constraints.................:        0\n",
      "Total number of inequality constraints...............:        0\n",
      "        inequality constraints with only lower bounds:        0\n",
      "   inequality constraints with lower and upper bounds:        0\n",
      "        inequality constraints with only upper bounds:        0\n",
      "\n",
      "iter    objective    inf_pr   inf_du lg(mu)  ||d||  lg(rg) alpha_du alpha_pr  ls\n",
      "   0 -2.4636370e+04 0.00e+00 1.01e+02   0.0 0.00e+00    -  0.00e+00 0.00e+00   0\n",
      "   1 -2.4608754e+04 0.00e+00 2.02e+02 -10.5 1.01e+02    -  1.00e+00 1.98e-04f  1\n",
      "   2 -2.4574365e+04 0.00e+00 5.92e+02  -1.5 3.99e-01    -  2.96e-01 2.50e-01f  3\n",
      "   3 -2.4543553e+04 0.00e+00 2.00e+02  -1.5 4.83e-02    -  9.20e-01 1.00e+00f  1\n",
      "   4 -2.4539549e+04 0.00e+00 2.35e+01  -3.2 1.05e-02    -  1.00e+00 1.00e+00f  1\n",
      "   5 -2.4538999e+04 0.00e+00 1.04e+01  -4.1 5.24e-03    -  1.00e+00 1.00e+00f  1\n",
      "   6 -2.4538818e+04 0.00e+00 9.77e+00  -4.1 6.12e-03    -  1.00e+00 1.00e+00f  1\n",
      "   7 -2.4538224e+04 0.00e+00 7.98e+00  -3.4 3.33e-02    -  1.00e+00 1.00e+00f  1\n",
      "   8 -2.4538080e+04 0.00e+00 1.99e+01  -2.8 2.18e-01    -  1.00e+00 1.25e-01f  4\n",
      "   9 -2.4537216e+04 0.00e+00 9.21e+00  -3.5 6.98e-02    -  1.00e+00 1.00e+00f  1\n",
      "iter    objective    inf_pr   inf_du lg(mu)  ||d||  lg(rg) alpha_du alpha_pr  ls\n",
      "  10 -2.4537170e+04 0.00e+00 7.31e+00  -5.4 6.21e-02    -  1.00e+00 1.25e-01f  4\n",
      "  11 -2.4537147e+04 0.00e+00 2.56e+01  -5.7 2.51e-02    -  1.00e+00 2.50e-01f  3\n",
      "  12 -2.4537110e+04 0.00e+00 8.71e+00  -6.2 5.07e-02    -  1.00e+00 5.00e-01f  2\n",
      "  13 -2.4537104e+04 0.00e+00 5.92e+00  -7.7 7.62e-03    -  1.00e+00 1.00e+00f  1\n",
      "  14 -2.4537049e+04 0.00e+00 2.27e+00  -9.5 5.29e-03    -  1.00e+00 1.00e+00f  1\n",
      "  15 -2.4537043e+04 0.00e+00 5.01e-01 -11.0 3.81e-03    -  1.00e+00 1.00e+00f  1\n",
      "  16 -2.4537043e+04 0.00e+00 4.40e-01 -11.0 6.83e-04    -  1.00e+00 5.00e-01f  2\n",
      "  17 -2.4537042e+04 0.00e+00 1.53e-01 -11.0 6.27e-04    -  1.00e+00 1.00e+00f  1\n",
      "  18 -2.4537042e+04 0.00e+00 9.95e-02 -11.0 5.60e-04    -  1.00e+00 1.00e+00f  1\n",
      "  19 -2.4537042e+04 0.00e+00 1.32e-01 -11.0 2.19e-04    -  1.00e+00 6.25e-02f  5\n",
      "iter    objective    inf_pr   inf_du lg(mu)  ||d||  lg(rg) alpha_du alpha_pr  ls\n",
      "  20 -2.4537042e+04 0.00e+00 9.14e-03 -11.0 3.27e-04    -  1.00e+00 1.00e+00f  1\n",
      "  21 -2.4537042e+04 0.00e+00 9.42e-03 -11.0 1.61e-04    -  1.00e+00 1.25e-01f  4\n",
      "  22 -2.4537042e+04 0.00e+00 9.81e-03 -11.0 9.57e-06    -  1.00e+00 1.00e+00f  1\n",
      "  23 -2.4537042e+04 0.00e+00 1.97e-03 -11.0 7.16e-06    -  1.00e+00 1.00e+00f  1\n",
      "  24 -2.4537042e+04 0.00e+00 1.00e-03 -11.0 5.03e-06    -  1.00e+00 1.00e+00f  1\n",
      "  25 -2.4537042e+04 0.00e+00 6.74e-04 -11.0 2.12e-06    -  1.00e+00 1.00e+00f  1\n",
      "\n",
      "Number of Iterations....: 25\n",
      "\n",
      "                                   (scaled)                 (unscaled)\n",
      "Objective...............:   1.0281897422531194e+04   -2.4537042453634935e+04\n",
      "Dual infeasibility......:   6.7394974968383440e-04    1.6083348179851686e-03\n",
      "Constraint violation....:   0.0000000000000000e+00    0.0000000000000000e+00\n",
      "Variable bound violation:   0.0000000000000000e+00    0.0000000000000000e+00\n",
      "Complementarity.........:   9.9999999999814832e-12    2.3864313604043890e-11\n",
      "Overall NLP error.......:   6.7394974968383440e-04    1.6083348179851686e-03\n",
      "\n",
      "\n",
      "Number of objective function evaluations             = 77\n",
      "Number of objective gradient evaluations             = 26\n",
      "Number of equality constraint evaluations            = 0\n",
      "Number of inequality constraint evaluations          = 0\n",
      "Number of equality constraint Jacobian evaluations   = 0\n",
      "Number of inequality constraint Jacobian evaluations = 0\n",
      "Number of Lagrangian Hessian evaluations             = 0\n",
      "Total seconds in IPOPT                               = 0.270\n",
      "\n",
      "EXIT: Optimal Solution Found.\n",
      "  0.322223 seconds (3.16 M allocations: 69.651 MiB)\n"
     ]
    }
   ],
   "source": [
    "@time optm = QuasiCopula.fit!(qc_model);"
   ]
  },
  {
   "cell_type": "code",
   "execution_count": 14,
   "metadata": {
    "collapsed": false,
    "scrolled": true
   },
   "outputs": [
    {
     "name": "stdout",
     "output_type": "stream",
     "text": [
      "βtrue = [1.0, -0.5, 0.5, 0.5, 0.5, -0.5, 0.5, -0.5, 0.5, -0.5, -0.5, -0.5, 0.5, -0.5, -0.5]\n",
      "qc_model.β = [0.9827134561727707, -0.47940244143915933, 0.5174496069038467, 0.4950032115433862, 0.5087750230847607, -0.5040581892712337, 0.5020256574548326, -0.5155684410674687, 0.5092740027555162, -0.5183844326248955, -0.4920488793196099, -0.4919582025840505, 0.5080168758163492, -0.49413206512267394, -0.5078169798839528]\n",
      "qc_model.∇β = [-0.00025731390816918775, -0.0016083348179851686, 0.0005878630996927203, -0.001404604088353134, 0.0003259788246068318, -4.211587823155227e-5, -3.2856611190679175e-6, -4.42029071288097e-5, -0.000780626519024219, -8.017265391907502e-5, 0.0007286382698049598, 0.0007995234004883889, 0.0008373530469657497, -0.0008245015735451056, -0.001174809759368567]\n",
      "θtrue = [0.1, 0.1]\n",
      "qc_model.θ = [0.09153833977611477, 0.16759906062856658]\n",
      "qc_model.∇θ = [-0.0004742208136141457, -0.00021518405981474364]\n",
      "τtrue = 0.5\n",
      "qc_model.τ = [1.0]\n",
      "qc_model.∇τ = [0.0]\n"
     ]
    }
   ],
   "source": [
    "@show βtrue\n",
    "@show qc_model.β\n",
    "@show qc_model.∇β\n",
    "\n",
    "@show θtrue\n",
    "@show qc_model.θ\n",
    "@show qc_model.∇θ;\n",
    "\n",
    "@show τtrue\n",
    "@show qc_model.τ\n",
    "@show qc_model.∇τ;"
   ]
  },
  {
   "cell_type": "markdown",
   "metadata": {},
   "source": [
    "## Score test GWAS"
   ]
  },
  {
   "cell_type": "code",
   "execution_count": 15,
   "metadata": {
    "collapsed": false
   },
   "outputs": [
    {
     "name": "stderr",
     "output_type": "stream",
     "text": [
      "\u001b[32mProgress: 100%|█████████████████████████████████████████| Time: 0:00:33\u001b[39m\n"
     ]
    },
    {
     "name": "stdout",
     "output_type": "stream",
     "text": [
      "Wtime = 20.643403132624567\n",
      "Qtime = 5.374567490874803\n",
      "Rtime = 1.9579474104997692\n",
      "grad_res_time = 2.780907761499762\n",
      "othertime = 1.3478217988750139\n",
      "scoretest_time = 0.0059592375\n"
     ]
    },
    {
     "data": {
      "text/plain": [
       "([0.6849159712971491, 0.14433590855217768, 0.3404617817398242, 0.952281129737565, 0.4573267099124567, 0.538311108765152, 0.07848007483672663, 0.5382381840952588, 0.8302977485840336, 0.5706150117813622  …  0.001436023939160413, 0.3995297397752879, 0.9066151049236842, 0.17050734352857833, 0.07825926487927923, 0.47692085205019186, 0.5690737979306789, 0.38537673252951893, 0.08992343299355803, 0.7406401418821085], [-0.405764055973466, -1.459833247723824, 0.9532532309116356, -0.05984243266169565, 0.7432559919146194, -0.6153689247596537, 1.759573930928972, -0.6154793779467577, -0.21431971022837443, 0.5671459714590709  …  3.1873107609899636, -0.8424613952616303, -0.11730911153717256, -1.3705754397183394, 1.7608767559054022, 0.711263682929197, -0.5694160932548277, -0.8680321503292925, 1.6958017393345033, -0.3310057505321731])"
      ]
     },
     "execution_count": 15,
     "metadata": {},
     "output_type": "execute_result"
    }
   ],
   "source": [
    "pvals, zscores = QuasiCopula.GWASCopulaVCModel(qc_model, G, check_grad=false)"
   ]
  },
  {
   "cell_type": "code",
   "execution_count": 10,
   "metadata": {
    "collapsed": false
   },
   "outputs": [
    {
     "name": "stderr",
     "output_type": "stream",
     "text": [
      "\u001b[32mProgress: 100%|█████████████████████████████████████████| Time: 0:00:03\u001b[39m\n"
     ]
    },
    {
     "name": "stdout",
     "output_type": "stream",
     "text": [
      "Wtime = 2.102037339499975\n",
      "Qtime = 0.5209478142499835\n",
      "Rtime = 0.1823866542499868\n",
      "grad_res_time = 0.2677167359999902\n",
      "othertime = 0.1191886968750048\n",
      "scoretest_time = 0.0005877921249999999\n"
     ]
    },
    {
     "name": "stderr",
     "output_type": "stream",
     "text": [
      "\u001b[32mProgress: 100%|█████████████████████████████████████████| Time: 0:01:08\u001b[39m\n"
     ]
    },
    {
     "name": "stdout",
     "output_type": "stream",
     "text": [
      "grad time = 7.096849045000008\n",
      "hess time = 60.77018596800009\n"
     ]
    },
    {
     "data": {
      "text/plain": [
       "1000×2 Matrix{Float64}:\n",
       " 0.142311   0.142311\n",
       " 0.278248   0.278248\n",
       " 0.170138   0.170138\n",
       " 0.289841   0.289841\n",
       " 0.511991   0.511991\n",
       " 0.516806   0.516806\n",
       " 0.714419   0.714419\n",
       " 0.518506   0.518506\n",
       " 0.58182    0.58182\n",
       " 0.979344   0.979344\n",
       " 0.512285   0.512285\n",
       " 0.331202   0.331202\n",
       " 0.313976   0.313976\n",
       " ⋮          \n",
       " 0.861879   0.861879\n",
       " 0.318918   0.318918\n",
       " 0.665325   0.665325\n",
       " 0.827096   0.827096\n",
       " 0.316801   0.316801\n",
       " 0.655838   0.655838\n",
       " 0.0874767  0.0874767\n",
       " 0.201261   0.201261\n",
       " 0.602532   0.602532\n",
       " 0.967972   0.967972\n",
       " 0.50984    0.50984\n",
       " 0.28663    0.28663"
      ]
     },
     "execution_count": 10,
     "metadata": {},
     "output_type": "execute_result"
    }
   ],
   "source": [
    "pvals, zscores = QuasiCopula.GWASCopulaVCModel(qc_model, G, check_grad=false)\n",
    "pvals_true = QuasiCopula.GWASCopulaVCModel_autodiff_fast(qc_model, G, check_grad=false)\n",
    "[pvals pvals_true]"
   ]
  },
  {
   "cell_type": "code",
   "execution_count": null,
   "metadata": {
    "collapsed": true
   },
   "outputs": [],
   "source": []
  },
  {
   "cell_type": "code",
   "execution_count": null,
   "metadata": {
    "collapsed": true
   },
   "outputs": [],
   "source": []
  },
  {
   "cell_type": "code",
   "execution_count": null,
   "metadata": {
    "collapsed": true
   },
   "outputs": [],
   "source": []
  },
  {
   "cell_type": "code",
   "execution_count": null,
   "metadata": {
    "collapsed": true
   },
   "outputs": [],
   "source": []
  },
  {
   "cell_type": "code",
   "execution_count": 6,
   "metadata": {
    "collapsed": false
   },
   "outputs": [
    {
     "name": "stderr",
     "output_type": "stream",
     "text": [
      "\u001b[32mProgress: 100%|█████████████████████████████████████████| Time: 0:00:35\u001b[39m\n"
     ]
    },
    {
     "name": "stdout",
     "output_type": "stream",
     "text": [
      "Wtime = 19.652710544124\n",
      "Qtime = 5.39726007225101\n",
      "Rtime = 2.1900243871260856\n",
      "grad_res_time = 3.1322197800013845\n",
      "othertime = 1.1965336403748155\n",
      "scoretest_time = 0.003489691875\n",
      " 40.286343 seconds (421.11 M allocations: 19.368 GiB, 4.62% gc time, 18.58% compilation time)\n"
     ]
    },
    {
     "data": {
      "text/plain": [
       "1000-element Vector{Float64}:\n",
       " 0.6029988537647152\n",
       " 0.4065826843119455\n",
       " 0.4667487975110792\n",
       " 0.26655824445898985\n",
       " 0.7539742005423752\n",
       " 0.25183821678372625\n",
       " 0.22390130880001952\n",
       " 0.5935630700739397\n",
       " 0.02771408554647976\n",
       " 0.5105219839683984\n",
       " 0.33793575665489556\n",
       " 0.5694187270621743\n",
       " 0.19015891655380102\n",
       " ⋮\n",
       " 0.8763727825290223\n",
       " 0.27847490487727194\n",
       " 0.829687635784242\n",
       " 0.10240912806134564\n",
       " 0.4229479287454143\n",
       " 0.2587536719696957\n",
       " 0.3291437438327995\n",
       " 0.07586583807367776\n",
       " 0.07563089589102077\n",
       " 0.19769783519841144\n",
       " 0.13936790523931403\n",
       " 0.40471160098073095"
      ]
     },
     "execution_count": 6,
     "metadata": {},
     "output_type": "execute_result"
    }
   ],
   "source": [
    "# 3/29 MOI, parallel Gaussian, 8 thread (N=100,000, P=15, d=5 obs per sample, 1000 SNPs)\n",
    "@time pvals = QuasiCopula.GWASCopulaVCModel(qc_model, G, check_grad=false)"
   ]
  },
  {
   "cell_type": "code",
   "execution_count": 7,
   "metadata": {
    "collapsed": false
   },
   "outputs": [
    {
     "ename": "LoadError",
     "evalue": "UndefVarError: `A_mul_b!` not defined",
     "output_type": "error",
     "traceback": [
      "UndefVarError: `A_mul_b!` not defined",
      "",
      "Stacktrace:",
      "  [1] loglikelihood(par::Vector{ForwardDiff.Dual{ForwardDiff.Tag{QuasiCopula.var\"#loglikelihood#173\"{GLMCopulaVCModel{Float64, Bernoulli{Float64}, LogitLink}, Vector{Float64}, Vector{Float64}}, Float64}, ForwardDiff.Dual{ForwardDiff.Tag{QuasiCopula.var\"#loglikelihood#173\"{GLMCopulaVCModel{Float64, Bernoulli{Float64}, LogitLink}, Vector{Float64}, Vector{Float64}}, Float64}, Float64, 9}, 9}}, qc_model::GLMCopulaVCModel{Float64, Bernoulli{Float64}, LogitLink}, z::Vector{Float64})",
      "    @ QuasiCopula ~/.julia/dev/QuasiCopula/src/gwas/longitudinal_autodiff_fast.jl:39",
      "  [2] (::QuasiCopula.var\"#loglikelihood#173\"{GLMCopulaVCModel{Float64, Bernoulli{Float64}, LogitLink}, Vector{Float64}, Vector{Float64}})(par::Vector{ForwardDiff.Dual{ForwardDiff.Tag{QuasiCopula.var\"#loglikelihood#173\"{GLMCopulaVCModel{Float64, Bernoulli{Float64}, LogitLink}, Vector{Float64}, Vector{Float64}}, Float64}, ForwardDiff.Dual{ForwardDiff.Tag{QuasiCopula.var\"#loglikelihood#173\"{GLMCopulaVCModel{Float64, Bernoulli{Float64}, LogitLink}, Vector{Float64}, Vector{Float64}}, Float64}, Float64, 9}, 9}})",
      "    @ QuasiCopula ~/.julia/dev/QuasiCopula/src/gwas/longitudinal_autodiff_fast.jl:84",
      "  [3] chunk_mode_gradient(f::QuasiCopula.var\"#loglikelihood#173\"{GLMCopulaVCModel{Float64, Bernoulli{Float64}, LogitLink}, Vector{Float64}, Vector{Float64}}, x::Vector{ForwardDiff.Dual{ForwardDiff.Tag{QuasiCopula.var\"#loglikelihood#173\"{GLMCopulaVCModel{Float64, Bernoulli{Float64}, LogitLink}, Vector{Float64}, Vector{Float64}}, Float64}, Float64, 9}}, cfg::ForwardDiff.GradientConfig{ForwardDiff.Tag{QuasiCopula.var\"#loglikelihood#173\"{GLMCopulaVCModel{Float64, Bernoulli{Float64}, LogitLink}, Vector{Float64}, Vector{Float64}}, Float64}, ForwardDiff.Dual{ForwardDiff.Tag{QuasiCopula.var\"#loglikelihood#173\"{GLMCopulaVCModel{Float64, Bernoulli{Float64}, LogitLink}, Vector{Float64}, Vector{Float64}}, Float64}, Float64, 9}, 9, Vector{ForwardDiff.Dual{ForwardDiff.Tag{QuasiCopula.var\"#loglikelihood#173\"{GLMCopulaVCModel{Float64, Bernoulli{Float64}, LogitLink}, Vector{Float64}, Vector{Float64}}, Float64}, ForwardDiff.Dual{ForwardDiff.Tag{QuasiCopula.var\"#loglikelihood#173\"{GLMCopulaVCModel{Float64, Bernoulli{Float64}, LogitLink}, Vector{Float64}, Vector{Float64}}, Float64}, Float64, 9}, 9}}})",
      "    @ ForwardDiff ~/.julia/packages/ForwardDiff/PcZ48/src/gradient.jl:123",
      "  [4] gradient",
      "    @ ~/.julia/packages/ForwardDiff/PcZ48/src/gradient.jl:21 [inlined]",
      "  [5] #99",
      "    @ ~/.julia/packages/ForwardDiff/PcZ48/src/hessian.jl:16 [inlined]",
      "  [6] chunk_mode_jacobian(f::ForwardDiff.var\"#99#100\"{QuasiCopula.var\"#loglikelihood#173\"{GLMCopulaVCModel{Float64, Bernoulli{Float64}, LogitLink}, Vector{Float64}, Vector{Float64}}, ForwardDiff.HessianConfig{ForwardDiff.Tag{QuasiCopula.var\"#loglikelihood#173\"{GLMCopulaVCModel{Float64, Bernoulli{Float64}, LogitLink}, Vector{Float64}, Vector{Float64}}, Float64}, Float64, 9, Vector{ForwardDiff.Dual{ForwardDiff.Tag{QuasiCopula.var\"#loglikelihood#173\"{GLMCopulaVCModel{Float64, Bernoulli{Float64}, LogitLink}, Vector{Float64}, Vector{Float64}}, Float64}, ForwardDiff.Dual{ForwardDiff.Tag{QuasiCopula.var\"#loglikelihood#173\"{GLMCopulaVCModel{Float64, Bernoulli{Float64}, LogitLink}, Vector{Float64}, Vector{Float64}}, Float64}, Float64, 9}, 9}}, Vector{ForwardDiff.Dual{ForwardDiff.Tag{QuasiCopula.var\"#loglikelihood#173\"{GLMCopulaVCModel{Float64, Bernoulli{Float64}, LogitLink}, Vector{Float64}, Vector{Float64}}, Float64}, Float64, 9}}}}, x::Vector{Float64}, cfg::ForwardDiff.JacobianConfig{ForwardDiff.Tag{QuasiCopula.var\"#loglikelihood#173\"{GLMCopulaVCModel{Float64, Bernoulli{Float64}, LogitLink}, Vector{Float64}, Vector{Float64}}, Float64}, Float64, 9, Vector{ForwardDiff.Dual{ForwardDiff.Tag{QuasiCopula.var\"#loglikelihood#173\"{GLMCopulaVCModel{Float64, Bernoulli{Float64}, LogitLink}, Vector{Float64}, Vector{Float64}}, Float64}, Float64, 9}}})",
      "    @ ForwardDiff ~/.julia/packages/ForwardDiff/PcZ48/src/jacobian.jl:183",
      "  [7] jacobian(f::Function, x::Vector{Float64}, cfg::ForwardDiff.JacobianConfig{ForwardDiff.Tag{QuasiCopula.var\"#loglikelihood#173\"{GLMCopulaVCModel{Float64, Bernoulli{Float64}, LogitLink}, Vector{Float64}, Vector{Float64}}, Float64}, Float64, 9, Vector{ForwardDiff.Dual{ForwardDiff.Tag{QuasiCopula.var\"#loglikelihood#173\"{GLMCopulaVCModel{Float64, Bernoulli{Float64}, LogitLink}, Vector{Float64}, Vector{Float64}}, Float64}, Float64, 9}}}, ::Val{false})",
      "    @ ForwardDiff ~/.julia/packages/ForwardDiff/PcZ48/src/jacobian.jl:0",
      "  [8] hessian(f::Function, x::Vector{Float64}, cfg::ForwardDiff.HessianConfig{ForwardDiff.Tag{QuasiCopula.var\"#loglikelihood#173\"{GLMCopulaVCModel{Float64, Bernoulli{Float64}, LogitLink}, Vector{Float64}, Vector{Float64}}, Float64}, Float64, 9, Vector{ForwardDiff.Dual{ForwardDiff.Tag{QuasiCopula.var\"#loglikelihood#173\"{GLMCopulaVCModel{Float64, Bernoulli{Float64}, LogitLink}, Vector{Float64}, Vector{Float64}}, Float64}, ForwardDiff.Dual{ForwardDiff.Tag{QuasiCopula.var\"#loglikelihood#173\"{GLMCopulaVCModel{Float64, Bernoulli{Float64}, LogitLink}, Vector{Float64}, Vector{Float64}}, Float64}, Float64, 9}, 9}}, Vector{ForwardDiff.Dual{ForwardDiff.Tag{QuasiCopula.var\"#loglikelihood#173\"{GLMCopulaVCModel{Float64, Bernoulli{Float64}, LogitLink}, Vector{Float64}, Vector{Float64}}, Float64}, Float64, 9}}}, ::Val{true})",
      "    @ ForwardDiff ~/.julia/packages/ForwardDiff/PcZ48/src/hessian.jl:17",
      "  [9] hessian(f::Function, x::Vector{Float64}, cfg::ForwardDiff.HessianConfig{ForwardDiff.Tag{QuasiCopula.var\"#loglikelihood#173\"{GLMCopulaVCModel{Float64, Bernoulli{Float64}, LogitLink}, Vector{Float64}, Vector{Float64}}, Float64}, Float64, 9, Vector{ForwardDiff.Dual{ForwardDiff.Tag{QuasiCopula.var\"#loglikelihood#173\"{GLMCopulaVCModel{Float64, Bernoulli{Float64}, LogitLink}, Vector{Float64}, Vector{Float64}}, Float64}, ForwardDiff.Dual{ForwardDiff.Tag{QuasiCopula.var\"#loglikelihood#173\"{GLMCopulaVCModel{Float64, Bernoulli{Float64}, LogitLink}, Vector{Float64}, Vector{Float64}}, Float64}, Float64, 9}, 9}}, Vector{ForwardDiff.Dual{ForwardDiff.Tag{QuasiCopula.var\"#loglikelihood#173\"{GLMCopulaVCModel{Float64, Bernoulli{Float64}, LogitLink}, Vector{Float64}, Vector{Float64}}, Float64}, Float64, 9}}})",
      "    @ ForwardDiff ~/.julia/packages/ForwardDiff/PcZ48/src/hessian.jl:15",
      " [10] hessian(f::Function, x::Vector{Float64})",
      "    @ ForwardDiff ~/.julia/packages/ForwardDiff/PcZ48/src/hessian.jl:15",
      " [11] GWASCopulaVCModel_autodiff_fast(qc_model::GLMCopulaVCModel{Float64, Bernoulli{Float64}, LogitLink}, G::SnpArrays.SnpArray; check_grad::Bool)",
      "    @ QuasiCopula ~/.julia/dev/QuasiCopula/src/gwas/longitudinal_autodiff_fast.jl:98",
      " [12] top-level scope",
      "    @ ./timing.jl:273 [inlined]",
      " [13] top-level scope",
      "    @ ./In[7]:0"
     ]
    }
   ],
   "source": [
    "@time pvals = QuasiCopula.GWASCopulaVCModel_autodiff_fast(qc_model, G, check_grad=false)"
   ]
  },
  {
   "cell_type": "code",
   "execution_count": null,
   "metadata": {
    "collapsed": true
   },
   "outputs": [],
   "source": []
  },
  {
   "cell_type": "code",
   "execution_count": null,
   "metadata": {
    "collapsed": true
   },
   "outputs": [],
   "source": []
  },
  {
   "cell_type": "code",
   "execution_count": null,
   "metadata": {
    "collapsed": true
   },
   "outputs": [],
   "source": []
  },
  {
   "cell_type": "code",
   "execution_count": 15,
   "metadata": {
    "collapsed": false
   },
   "outputs": [
    {
     "name": "stderr",
     "output_type": "stream",
     "text": [
      "\u001b[32mProgress: 100%|█████████████████████████████████████████| Time: 0:00:37\u001b[39m\n"
     ]
    },
    {
     "name": "stdout",
     "output_type": "stream",
     "text": [
      "Wtime = 22.004541937249066\n",
      "Qtime = 6.178510744254076\n",
      "Rtime = 2.4601658247499447\n",
      "grad_res_time = 3.041564802501413\n",
      "othertime = 1.359136816124779\n",
      "scoretest_time = 0.0008751691249999998\n",
      " 41.574657 seconds (413.35 M allocations: 18.876 GiB, 3.76% gc time)\n"
     ]
    },
    {
     "data": {
      "text/plain": [
       "1000-element Vector{Float64}:\n",
       " 0.6029988537647152\n",
       " 0.4065826843119455\n",
       " 0.4667487975110792\n",
       " 0.26655824445898985\n",
       " 0.7539742005423752\n",
       " 0.25183821678372625\n",
       " 0.22390130880001952\n",
       " 0.5935630700739397\n",
       " 0.02771408554647976\n",
       " 0.5105219839683984\n",
       " 0.33793575665489556\n",
       " 0.5694187270621743\n",
       " 0.19015891655380102\n",
       " ⋮\n",
       " 0.8763727825290223\n",
       " 0.27847490487727194\n",
       " 0.829687635784242\n",
       " 0.10240912806134564\n",
       " 0.4229479287454143\n",
       " 0.2587536719696957\n",
       " 0.3291437438327995\n",
       " 0.07586583807367776\n",
       " 0.07563089589102077\n",
       " 0.19769783519841144\n",
       " 0.13936790523931403\n",
       " 0.40471160098073095"
      ]
     },
     "execution_count": 15,
     "metadata": {},
     "output_type": "execute_result"
    }
   ],
   "source": [
    "# 3/29 (MOI) parallel Bernoulli, 8 thread (N=100,000, P=15, d=5 obs per sample, 1000 SNPs)\n",
    "@time pvals = QuasiCopula.GWASCopulaVCModel(qc_model, G, check_grad=false)"
   ]
  },
  {
   "cell_type": "code",
   "execution_count": 24,
   "metadata": {
    "collapsed": false
   },
   "outputs": [
    {
     "name": "stdout",
     "output_type": "stream",
     "text": [
      " 52.776310 seconds (418.76 M allocations: 19.220 GiB, 3.78% gc time, 20.22% compilation time)\n"
     ]
    },
    {
     "data": {
      "text/plain": [
       "1000-element Vector{Float64}:\n",
       " 0.6029988537647123\n",
       " 0.40658268431193156\n",
       " 0.4667487975110738\n",
       " 0.26655824445898874\n",
       " 0.7539742005423871\n",
       " 0.25183821678373725\n",
       " 0.223901308800027\n",
       " 0.5935630700739444\n",
       " 0.02771408554648064\n",
       " 0.5105219839683997\n",
       " 0.33793575665490105\n",
       " 0.5694187270621732\n",
       " 0.19015891655379438\n",
       " ⋮\n",
       " 0.8763727825290336\n",
       " 0.27847490487727605\n",
       " 0.8296876357842508\n",
       " 0.10240912806134486\n",
       " 0.4229479287454222\n",
       " 0.2587536719696966\n",
       " 0.3291437438328065\n",
       " 0.07586583807367729\n",
       " 0.07563089589101633\n",
       " 0.197697835198405\n",
       " 0.13936790523931386\n",
       " 0.4047116009807252"
      ]
     },
     "execution_count": 24,
     "metadata": {},
     "output_type": "execute_result"
    }
   ],
   "source": [
    "# 3/15 parallel Bernoulli, 8 thread (N=100,000, P=15, d=5 obs per sample, 1000 SNPs)\n",
    "@time pvals = QuasiCopula.GWASCopulaVCModel(qc_model, G, check_grad=false)"
   ]
  },
  {
   "cell_type": "code",
   "execution_count": 5,
   "metadata": {
    "collapsed": false
   },
   "outputs": [
    {
     "name": "stderr",
     "output_type": "stream",
     "text": [
      "\u001b[32mProgress: 100%|█████████████████████████████████████████| Time: 0:00:54\u001b[39m\n"
     ]
    },
    {
     "name": "stdout",
     "output_type": "stream",
     "text": [
      "Wtime = 25.71952526550067\n",
      "Qtime = 8.984551497002137\n",
      "Rtime = 3.3008138740030075\n",
      "grad_res_time = 3.785382601125927\n",
      "othertime = 1.8043504316253838\n",
      "scoretest_time = 0.00448950025\n",
      " 56.041838 seconds (420.80 M allocations: 19.350 GiB, 1.21% gc time, 26.68% compilation time)\n"
     ]
    },
    {
     "data": {
      "text/plain": [
       "1000-element Vector{Float64}:\n",
       " 0.6029988537647123\n",
       " 0.40658268431193156\n",
       " 0.4667487975110738\n",
       " 0.26655824445898874\n",
       " 0.7539742005423871\n",
       " 0.25183821678373725\n",
       " 0.223901308800027\n",
       " 0.5935630700739444\n",
       " 0.02771408554648064\n",
       " 0.5105219839683997\n",
       " 0.33793575665490105\n",
       " 0.5694187270621732\n",
       " 0.19015891655379438\n",
       " ⋮\n",
       " 0.8763727825290336\n",
       " 0.27847490487727605\n",
       " 0.8296876357842508\n",
       " 0.10240912806134486\n",
       " 0.4229479287454222\n",
       " 0.2587536719696966\n",
       " 0.3291437438328065\n",
       " 0.07586583807367729\n",
       " 0.07563089589101633\n",
       " 0.197697835198405\n",
       " 0.13936790523931386\n",
       " 0.4047116009807252"
      ]
     },
     "execution_count": 5,
     "metadata": {},
     "output_type": "execute_result"
    }
   ],
   "source": [
    "# 3/15 parallel Bernoulli, 8 thread (N=100,000, P=15, d=5 obs per sample, 1000 SNPs)\n",
    "@time pvals = QuasiCopula.GWASCopulaVCModel(qc_model, G, check_grad=false)"
   ]
  },
  {
   "cell_type": "code",
   "execution_count": 5,
   "metadata": {
    "collapsed": false
   },
   "outputs": [
    {
     "name": "stderr",
     "output_type": "stream",
     "text": [
      "\u001b[32mProgress: 100%|█████████████████████████████████████████| Time: 0:00:07\u001b[39m\n"
     ]
    },
    {
     "name": "stdout",
     "output_type": "stream",
     "text": [
      "sum(Wtime) = 22.520507060983817\n",
      "sum(Qtime) = 6.915011703015185\n",
      "sum(Rtime) = 3.0075901789993273\n",
      "sum(grad_res_time) = 3.7176432869933786\n",
      "sum(othertime) = 11.203956196007587\n",
      "sum(scoretest_time) = 0.019538668\n",
      " 11.757446 seconds (90.87 M allocations: 14.886 GiB, 5.89% gc time, 126.21% compilation time)\n"
     ]
    },
    {
     "name": "stderr",
     "output_type": "stream",
     "text": [
      "\u001b[32mProgress: 100%|█████████████████████████████████████████| Time: 0:01:54\u001b[39m\n"
     ]
    },
    {
     "name": "stdout",
     "output_type": "stream",
     "text": [
      "grad time = 10.363051826000001\n",
      "hess time = 103.60265091400005\n",
      "128.294540 seconds (11.49 M allocations: 733.843 MiB, 0.08% gc time, 4.09% compilation time)\n"
     ]
    },
    {
     "data": {
      "text/plain": [
       "100×2 Matrix{Float64}:\n",
       " 0.0984103  0.0984103\n",
       " 0.278425   0.278425\n",
       " 0.277576   0.277576\n",
       " 0.562382   0.562382\n",
       " 0.399695   0.399695\n",
       " 0.189491   0.189491\n",
       " 0.292521   0.292521\n",
       " 0.633038   0.633038\n",
       " 0.115893   0.115893\n",
       " 0.468527   0.468527\n",
       " 0.876708   0.876708\n",
       " 0.81228    0.81228\n",
       " 0.254616   0.254616\n",
       " ⋮          \n",
       " 0.292208   0.292208\n",
       " 0.677507   0.677507\n",
       " 0.491727   0.491727\n",
       " 0.384618   0.384618\n",
       " 0.675634   0.675634\n",
       " 0.054762   0.054762\n",
       " 0.550491   0.550491\n",
       " 0.0727033  0.0727033\n",
       " 0.105073   0.105073\n",
       " 0.796414   0.796414\n",
       " 0.082747   0.082747\n",
       " 0.494939   0.494939"
      ]
     },
     "execution_count": 5,
     "metadata": {},
     "output_type": "execute_result"
    }
   ],
   "source": [
    "# 3/15 parallel Gaussian (N=100,000, P=15, d=5 obs per sample, 100 SNPs)\n",
    "@time pvals = QuasiCopula.GWASCopulaVCModel(qc_model, G, check_grad=false)\n",
    "@time pvals2 = QuasiCopula.GWASCopulaVCModel_autodiff_fast(qc_model, G, check_grad=false)\n",
    "[pvals pvals2]"
   ]
  },
  {
   "cell_type": "code",
   "execution_count": 5,
   "metadata": {
    "collapsed": false
   },
   "outputs": [
    {
     "name": "stderr",
     "output_type": "stream",
     "text": [
      "\u001b[32mProgress: 100%|█████████████████████████████████████████| Time: 0:00:28\u001b[39m\n"
     ]
    },
    {
     "name": "stdout",
     "output_type": "stream",
     "text": [
      "Wtime = 13.768972457786282\n",
      "Qtime = 4.800775802682142\n",
      "Rtime = 1.8043157240891272\n",
      "grad_res_time = 3.3286357528364854\n",
      "othertime = 3.12138809897846\n",
      "scoretest_time = 0.005822122999999997\n",
      " 36.738384 seconds (20.06 M allocations: 13.341 GiB, 5.07% gc time, 9.48% compilation time)\n"
     ]
    },
    {
     "name": "stderr",
     "output_type": "stream",
     "text": [
      "\u001b[32mProgress: 100%|█████████████████████████████████████████| Time: 0:01:52\u001b[39m\n"
     ]
    },
    {
     "name": "stdout",
     "output_type": "stream",
     "text": [
      "grad time = 10.986382379\n",
      "hess time = 101.71939357700003\n",
      "127.214839 seconds (11.64 M allocations: 739.785 MiB, 0.08% gc time, 4.40% compilation time)\n"
     ]
    },
    {
     "data": {
      "text/plain": [
       "100×2 Matrix{Float64}:\n",
       " 0.0984103  0.0984103\n",
       " 0.278425   0.278425\n",
       " 0.277576   0.277576\n",
       " 0.562382   0.562382\n",
       " 0.399695   0.399695\n",
       " 0.189491   0.189491\n",
       " 0.292521   0.292521\n",
       " 0.633038   0.633038\n",
       " 0.115893   0.115893\n",
       " 0.468527   0.468527\n",
       " 0.876708   0.876708\n",
       " 0.81228    0.81228\n",
       " 0.254616   0.254616\n",
       " ⋮          \n",
       " 0.292208   0.292208\n",
       " 0.677507   0.677507\n",
       " 0.491727   0.491727\n",
       " 0.384618   0.384618\n",
       " 0.675634   0.675634\n",
       " 0.054762   0.054762\n",
       " 0.550491   0.550491\n",
       " 0.0727033  0.0727033\n",
       " 0.105073   0.105073\n",
       " 0.796414   0.796414\n",
       " 0.082747   0.082747\n",
       " 0.494939   0.494939"
      ]
     },
     "execution_count": 5,
     "metadata": {},
     "output_type": "execute_result"
    }
   ],
   "source": [
    "# 3/15 Gaussian (N=100,000, P=15, d=5 obs per sample)\n",
    "@time pvals = QuasiCopula.GWASCopulaVCModel(qc_model, G, check_grad=false)\n",
    "@time pvals2 = QuasiCopula.GWASCopulaVCModel_autodiff_fast(qc_model, G, check_grad=false)\n",
    "[pvals pvals2]"
   ]
  },
  {
   "cell_type": "code",
   "execution_count": 19,
   "metadata": {
    "collapsed": false,
    "scrolled": true
   },
   "outputs": [
    {
     "name": "stderr",
     "output_type": "stream",
     "text": [
      "\u001b[32mProgress: 100%|█████████████████████████████████████████| Time: 0:00:27\u001b[39m\n"
     ]
    },
    {
     "name": "stdout",
     "output_type": "stream",
     "text": [
      "Wtime = 13.823160521727385\n",
      "Qtime = 4.8231576666749\n",
      "Rtime = 1.7943300880687147\n",
      "grad_res_time = 2.74373440804863\n",
      "othertime = 3.342375513974367\n",
      "scoretest_time = 0.001090289\n",
      " 32.172534 seconds (12.59 M allocations: 12.820 GiB, 2.32% gc time, 0.52% compilation time)\n"
     ]
    },
    {
     "data": {
      "text/plain": [
       "100-element Vector{Float64}:\n",
       " 0.6187728572609951\n",
       " 0.8496667233330221\n",
       " 0.40974196937222623\n",
       " 0.5671957640255685\n",
       " 0.46214111768624644\n",
       " 0.7807307761430159\n",
       " 0.002915186427295331\n",
       " 0.9081736689430064\n",
       " 0.08427231587790641\n",
       " 0.737858003745425\n",
       " 0.23694038429038083\n",
       " 0.8833033494335396\n",
       " 0.6129319697421085\n",
       " ⋮\n",
       " 0.008245693236827225\n",
       " 0.6310435761356239\n",
       " 0.02900575228042566\n",
       " 0.3050493485911325\n",
       " 0.04485059136883662\n",
       " 0.05784310364023999\n",
       " 0.2692557868556426\n",
       " 0.7408150252581713\n",
       " 0.8663919149998177\n",
       " 0.32387023749450206\n",
       " 0.11494644685131016\n",
       " 0.37332203886960197"
      ]
     },
     "execution_count": 19,
     "metadata": {},
     "output_type": "execute_result"
    }
   ],
   "source": [
    "# 3/13/2024 Bernoulli optimized away allocations + inline (N=100,000, P=15, d=5 obs per sample, Bernoulli)\n",
    "@time pvals = QuasiCopula.GWASCopulaVCModel(qc_model, G, check_grad=false)"
   ]
  },
  {
   "cell_type": "code",
   "execution_count": 36,
   "metadata": {
    "collapsed": false
   },
   "outputs": [
    {
     "name": "stderr",
     "output_type": "stream",
     "text": [
      "\u001b[32mProgress: 100%|█████████████████████████████████████████| Time: 0:03:03\u001b[39m\n"
     ]
    },
    {
     "name": "stdout",
     "output_type": "stream",
     "text": [
      "Wtime = 151.45075288451383\n",
      "Qtime = 14.949879267721332\n",
      "Rtime = 2.5083309525981132\n",
      "193.969275 seconds (1.49 G allocations: 210.847 GiB, 18.29% gc time)\n"
     ]
    },
    {
     "data": {
      "text/plain": [
       "100-element Vector{Float64}:\n",
       " 0.6187728572609951\n",
       " 0.8496667233330198\n",
       " 0.4097419693722258\n",
       " 0.5671957640255666\n",
       " 0.4621411176862497\n",
       " 0.780730776143015\n",
       " 0.00291518642729541\n",
       " 0.9081736689430064\n",
       " 0.08427231587790672\n",
       " 0.7378580037454281\n",
       " 0.23694038429038128\n",
       " 0.8833033494335386\n",
       " 0.6129319697421055\n",
       " ⋮\n",
       " 0.008245693236827153\n",
       " 0.6310435761356203\n",
       " 0.029005752280425737\n",
       " 0.3050493485911328\n",
       " 0.04485059136883624\n",
       " 0.057843103640240055\n",
       " 0.2692557868556421\n",
       " 0.7408150252581676\n",
       " 0.8663919149998188\n",
       " 0.3238702374944988\n",
       " 0.11494644685131038\n",
       " 0.3733220388696007"
      ]
     },
     "execution_count": 36,
     "metadata": {},
     "output_type": "execute_result"
    }
   ],
   "source": [
    "# 3/11/2024 Bernoulli pre-optimizing (N=100,000, P=15, d=5 obs per sample, Bernoulli)\n",
    "@time pvals1 = QuasiCopula.GWASCopulaVCModel(qc_model, G, check_grad=false)"
   ]
  },
  {
   "cell_type": "markdown",
   "metadata": {},
   "source": [
    "## Distribution of Z-scores"
   ]
  },
  {
   "cell_type": "code",
   "execution_count": 21,
   "metadata": {
    "collapsed": false
   },
   "outputs": [
    {
     "data": {
      "image/png": "[encoded data removed]",
      "image/svg+xml": [
       "<?xml version=\"1.0\" encoding=\"utf-8\"?>\n",
       "<svg xmlns=\"http://www.w3.org/2000/svg\" xmlns:xlink=\"http://www.w3.org/1999/xlink\" width=\"600\" height=\"400\" viewBox=\"0 0 2400 1600\">\n",
       "<defs>\n",
       "  <clipPath id=\"clip410\">\n",
       "    <rect x=\"0\" y=\"0\" width=\"2400\" height=\"1600\"/>\n",
       "  </clipPath>\n",
       "</defs>\n",
       "<path clip-path=\"url(#clip410)\" d=\"M0 1600 L2400 1600 L2400 8.88178e-14 L0 8.88178e-14  Z\" fill=\"#ffffff\" fill-rule=\"evenodd\" fill-opacity=\"1\"/>\n",
       "<defs>\n",
       "  <clipPath id=\"clip411\">\n",
       "    <rect x=\"480\" y=\"0\" width=\"1681\" height=\"1600\"/>\n",
       "  </clipPath>\n",
       "</defs>\n",
       "<path clip-path=\"url(#clip410)\" d=\"M235.283 1423.18 L2352.76 1423.18 L2352.76 47.2441 L235.283 47.2441  Z\" fill=\"#ffffff\" fill-rule=\"evenodd\" fill-opacity=\"1\"/>\n",
       "<defs>\n",
       "  <clipPath id=\"clip412\">\n",
       "    <rect x=\"235\" y=\"47\" width=\"2118\" height=\"1377\"/>\n",
       "  </clipPath>\n",
       "</defs>\n",
       "<polyline clip-path=\"url(#clip412)\" style=\"stroke:#000000; stroke-linecap:round; stroke-linejoin:round; stroke-width:2; stroke-opacity:0.1; fill:none\" points=\"249.88,1423.18 249.88,47.2441 \"/>\n",
       "<polyline clip-path=\"url(#clip412)\" style=\"stroke:#000000; stroke-linecap:round; stroke-linejoin:round; stroke-width:2; stroke-opacity:0.1; fill:none\" points=\"759.216,1423.18 759.216,47.2441 \"/>\n",
       "<polyline clip-path=\"url(#clip412)\" style=\"stroke:#000000; stroke-linecap:round; stroke-linejoin:round; stroke-width:2; stroke-opacity:0.1; fill:none\" points=\"1268.55,1423.18 1268.55,47.2441 \"/>\n",
       "<polyline clip-path=\"url(#clip412)\" style=\"stroke:#000000; stroke-linecap:round; stroke-linejoin:round; stroke-width:2; stroke-opacity:0.1; fill:none\" points=\"1777.89,1423.18 1777.89,47.2441 \"/>\n",
       "<polyline clip-path=\"url(#clip412)\" style=\"stroke:#000000; stroke-linecap:round; stroke-linejoin:round; stroke-width:2; stroke-opacity:0.1; fill:none\" points=\"2287.22,1423.18 2287.22,47.2441 \"/>\n",
       "<polyline clip-path=\"url(#clip410)\" style=\"stroke:#000000; stroke-linecap:round; stroke-linejoin:round; stroke-width:4; stroke-opacity:1; fill:none\" points=\"235.283,1423.18 2352.76,1423.18 \"/>\n",
       "<polyline clip-path=\"url(#clip410)\" style=\"stroke:#000000; stroke-linecap:round; stroke-linejoin:round; stroke-width:4; stroke-opacity:1; fill:none\" points=\"249.88,1423.18 249.88,1404.28 \"/>\n",
       "<polyline clip-path=\"url(#clip410)\" style=\"stroke:#000000; stroke-linecap:round; stroke-linejoin:round; stroke-width:4; stroke-opacity:1; fill:none\" points=\"759.216,1423.18 759.216,1404.28 \"/>\n",
       "<polyline clip-path=\"url(#clip410)\" style=\"stroke:#000000; stroke-linecap:round; stroke-linejoin:round; stroke-width:4; stroke-opacity:1; fill:none\" points=\"1268.55,1423.18 1268.55,1404.28 \"/>\n",
       "<polyline clip-path=\"url(#clip410)\" style=\"stroke:#000000; stroke-linecap:round; stroke-linejoin:round; stroke-width:4; stroke-opacity:1; fill:none\" points=\"1777.89,1423.18 1777.89,1404.28 \"/>\n",
       "<polyline clip-path=\"url(#clip410)\" style=\"stroke:#000000; stroke-linecap:round; stroke-linejoin:round; stroke-width:4; stroke-opacity:1; fill:none\" points=\"2287.22,1423.18 2287.22,1404.28 \"/>\n",
       "<path clip-path=\"url(#clip410)\" d=\"M218.781 1468.75 L248.457 1468.75 L248.457 1472.69 L218.781 1472.69 L218.781 1468.75 Z\" fill=\"#000000\" fill-rule=\"nonzero\" fill-opacity=\"1\" /><path clip-path=\"url(#clip410)\" d=\"M271.397 1455.09 L259.591 1473.54 L271.397 1473.54 L271.397 1455.09 M270.17 1451.02 L276.049 1451.02 L276.049 1473.54 L280.98 1473.54 L280.98 1477.43 L276.049 1477.43 L276.049 1485.58 L271.397 1485.58 L271.397 1477.43 L255.795 1477.43 L255.795 1472.92 L270.17 1451.02 Z\" fill=\"#000000\" fill-rule=\"nonzero\" fill-opacity=\"1\" /><path clip-path=\"url(#clip410)\" d=\"M729.159 1468.75 L758.835 1468.75 L758.835 1472.69 L729.159 1472.69 L729.159 1468.75 Z\" fill=\"#000000\" fill-rule=\"nonzero\" fill-opacity=\"1\" /><path clip-path=\"url(#clip410)\" d=\"M772.955 1481.64 L789.274 1481.64 L789.274 1485.58 L767.33 1485.58 L767.33 1481.64 Q769.992 1478.89 774.575 1474.26 Q779.182 1469.61 780.362 1468.27 Q782.608 1465.74 783.487 1464.01 Q784.39 1462.25 784.39 1460.56 Q784.39 1457.8 782.446 1456.07 Q780.524 1454.33 777.422 1454.33 Q775.223 1454.33 772.77 1455.09 Q770.339 1455.86 767.561 1457.41 L767.561 1452.69 Q770.385 1451.55 772.839 1450.97 Q775.293 1450.39 777.33 1450.39 Q782.7 1450.39 785.895 1453.08 Q789.089 1455.77 789.089 1460.26 Q789.089 1462.39 788.279 1464.31 Q787.492 1466.2 785.385 1468.8 Q784.807 1469.47 781.705 1472.69 Q778.603 1475.88 772.955 1481.64 Z\" fill=\"#000000\" fill-rule=\"nonzero\" fill-opacity=\"1\" /><path clip-path=\"url(#clip410)\" d=\"M1268.55 1454.1 Q1264.94 1454.1 1263.11 1457.66 Q1261.31 1461.2 1261.31 1468.33 Q1261.31 1475.44 1263.11 1479.01 Q1264.94 1482.55 1268.55 1482.55 Q1272.19 1482.55 1273.99 1479.01 Q1275.82 1475.44 1275.82 1468.33 Q1275.82 1461.2 1273.99 1457.66 Q1272.19 1454.1 1268.55 1454.1 M1268.55 1450.39 Q1274.36 1450.39 1277.42 1455 Q1280.5 1459.58 1280.5 1468.33 Q1280.5 1477.06 1277.42 1481.67 Q1274.36 1486.25 1268.55 1486.25 Q1262.74 1486.25 1259.66 1481.67 Q1256.61 1477.06 1256.61 1468.33 Q1256.61 1459.58 1259.66 1455 Q1262.74 1450.39 1268.55 1450.39 Z\" fill=\"#000000\" fill-rule=\"nonzero\" fill-opacity=\"1\" /><path clip-path=\"url(#clip410)\" d=\"M1772.54 1481.64 L1788.86 1481.64 L1788.86 1485.58 L1766.92 1485.58 L1766.92 1481.64 Q1769.58 1478.89 1774.16 1474.26 Q1778.77 1469.61 1779.95 1468.27 Q1782.19 1465.74 1783.07 1464.01 Q1783.98 1462.25 1783.98 1460.56 Q1783.98 1457.8 1782.03 1456.07 Q1780.11 1454.33 1777.01 1454.33 Q1774.81 1454.33 1772.36 1455.09 Q1769.93 1455.86 1767.15 1457.41 L1767.15 1452.69 Q1769.97 1451.55 1772.43 1450.97 Q1774.88 1450.39 1776.92 1450.39 Q1782.29 1450.39 1785.48 1453.08 Q1788.68 1455.77 1788.68 1460.26 Q1788.68 1462.39 1787.87 1464.31 Q1787.08 1466.2 1784.97 1468.8 Q1784.39 1469.47 1781.29 1472.69 Q1778.19 1475.88 1772.54 1481.64 Z\" fill=\"#000000\" fill-rule=\"nonzero\" fill-opacity=\"1\" /><path clip-path=\"url(#clip410)\" d=\"M2290.23 1455.09 L2278.43 1473.54 L2290.23 1473.54 L2290.23 1455.09 M2289.01 1451.02 L2294.89 1451.02 L2294.89 1473.54 L2299.82 1473.54 L2299.82 1477.43 L2294.89 1477.43 L2294.89 1485.58 L2290.23 1485.58 L2290.23 1477.43 L2274.63 1477.43 L2274.63 1472.92 L2289.01 1451.02 Z\" fill=\"#000000\" fill-rule=\"nonzero\" fill-opacity=\"1\" /><path clip-path=\"url(#clip410)\" d=\"M1177.69 1520.52 L1215.02 1520.52 L1215.02 1525.43 L1184.97 1562.63 L1215.75 1562.63 L1215.75 1568.04 L1176.95 1568.04 L1176.95 1563.14 L1207 1525.93 L1177.69 1525.93 L1177.69 1520.52 Z\" fill=\"#000000\" fill-rule=\"nonzero\" fill-opacity=\"1\" /><path clip-path=\"url(#clip410)\" d=\"M1268.27 1533.45 L1268.27 1538.98 Q1265.79 1537.71 1263.11 1537.07 Q1260.44 1536.44 1257.58 1536.44 Q1253.22 1536.44 1251.02 1537.77 Q1248.85 1539.11 1248.85 1541.79 Q1248.85 1543.82 1250.41 1545 Q1251.97 1546.15 1256.68 1547.2 L1258.69 1547.64 Q1264.93 1548.98 1267.54 1551.43 Q1270.18 1553.85 1270.18 1558.21 Q1270.18 1563.17 1266.23 1566.07 Q1262.32 1568.97 1255.44 1568.97 Q1252.58 1568.97 1249.46 1568.39 Q1246.37 1567.85 1242.93 1566.74 L1242.93 1560.69 Q1246.18 1562.38 1249.33 1563.24 Q1252.48 1564.07 1255.57 1564.07 Q1259.71 1564.07 1261.94 1562.66 Q1264.16 1561.23 1264.16 1558.65 Q1264.16 1556.27 1262.54 1554.99 Q1260.95 1553.72 1255.51 1552.54 L1253.47 1552.07 Q1248.03 1550.92 1245.61 1548.56 Q1243.19 1546.18 1243.19 1542.04 Q1243.19 1537.01 1246.75 1534.27 Q1250.32 1531.54 1256.88 1531.54 Q1260.12 1531.54 1262.99 1532.01 Q1265.85 1532.49 1268.27 1533.45 Z\" fill=\"#000000\" fill-rule=\"nonzero\" fill-opacity=\"1\" /><path clip-path=\"url(#clip410)\" d=\"M1305.16 1533.76 L1305.16 1539.24 Q1302.68 1537.87 1300.16 1537.2 Q1297.68 1536.5 1295.13 1536.5 Q1289.44 1536.5 1286.29 1540.13 Q1283.13 1543.73 1283.13 1550.25 Q1283.13 1556.78 1286.29 1560.4 Q1289.44 1564 1295.13 1564 Q1297.68 1564 1300.16 1563.33 Q1302.68 1562.63 1305.16 1561.26 L1305.16 1566.68 Q1302.71 1567.82 1300.07 1568.39 Q1297.46 1568.97 1294.5 1568.97 Q1286.44 1568.97 1281.7 1563.91 Q1276.96 1558.85 1276.96 1550.25 Q1276.96 1541.53 1281.73 1536.53 Q1286.54 1531.54 1294.88 1531.54 Q1297.58 1531.54 1300.16 1532.11 Q1302.74 1532.65 1305.16 1533.76 Z\" fill=\"#000000\" fill-rule=\"nonzero\" fill-opacity=\"1\" /><path clip-path=\"url(#clip410)\" d=\"M1329.16 1536.5 Q1324.45 1536.5 1321.71 1540.19 Q1318.97 1543.85 1318.97 1550.25 Q1318.97 1556.65 1321.68 1560.34 Q1324.42 1564 1329.16 1564 Q1333.84 1564 1336.57 1560.31 Q1339.31 1556.62 1339.31 1550.25 Q1339.31 1543.92 1336.57 1540.23 Q1333.84 1536.5 1329.16 1536.5 M1329.16 1531.54 Q1336.8 1531.54 1341.16 1536.5 Q1345.52 1541.47 1345.52 1550.25 Q1345.52 1559 1341.16 1564 Q1336.8 1568.97 1329.16 1568.97 Q1321.49 1568.97 1317.13 1564 Q1312.8 1559 1312.8 1550.25 Q1312.8 1541.47 1317.13 1536.5 Q1321.49 1531.54 1329.16 1531.54 Z\" fill=\"#000000\" fill-rule=\"nonzero\" fill-opacity=\"1\" /><path clip-path=\"url(#clip410)\" d=\"M1375.88 1537.87 Q1374.9 1537.3 1373.72 1537.04 Q1372.57 1536.76 1371.17 1536.76 Q1366.21 1536.76 1363.53 1540 Q1360.89 1543.22 1360.89 1549.27 L1360.89 1568.04 L1355 1568.04 L1355 1532.4 L1360.89 1532.4 L1360.89 1537.93 Q1362.74 1534.69 1365.7 1533.13 Q1368.66 1531.54 1372.89 1531.54 Q1373.5 1531.54 1374.23 1531.63 Q1374.96 1531.7 1375.85 1531.85 L1375.88 1537.87 Z\" fill=\"#000000\" fill-rule=\"nonzero\" fill-opacity=\"1\" /><path clip-path=\"url(#clip410)\" d=\"M1411.08 1548.76 L1411.08 1551.62 L1384.16 1551.62 Q1384.54 1557.67 1387.79 1560.85 Q1391.06 1564 1396.89 1564 Q1400.26 1564 1403.41 1563.17 Q1406.6 1562.35 1409.72 1560.69 L1409.72 1566.23 Q1406.57 1567.57 1403.25 1568.27 Q1399.94 1568.97 1396.54 1568.97 Q1388.01 1568.97 1383.01 1564 Q1378.05 1559.04 1378.05 1550.57 Q1378.05 1541.82 1382.76 1536.69 Q1387.5 1531.54 1395.52 1531.54 Q1402.71 1531.54 1406.88 1536.18 Q1411.08 1540.8 1411.08 1548.76 M1405.23 1547.04 Q1405.16 1542.23 1402.52 1539.37 Q1399.91 1536.5 1395.58 1536.5 Q1390.68 1536.5 1387.72 1539.27 Q1384.79 1542.04 1384.35 1547.07 L1405.23 1547.04 Z\" fill=\"#000000\" fill-rule=\"nonzero\" fill-opacity=\"1\" /><polyline clip-path=\"url(#clip412)\" style=\"stroke:#000000; stroke-linecap:round; stroke-linejoin:round; stroke-width:2; stroke-opacity:0.1; fill:none\" points=\"235.283,1423.18 2352.76,1423.18 \"/>\n",
       "<polyline clip-path=\"url(#clip412)\" style=\"stroke:#000000; stroke-linecap:round; stroke-linejoin:round; stroke-width:2; stroke-opacity:0.1; fill:none\" points=\"235.283,1083.86 2352.76,1083.86 \"/>\n",
       "<polyline clip-path=\"url(#clip412)\" style=\"stroke:#000000; stroke-linecap:round; stroke-linejoin:round; stroke-width:2; stroke-opacity:0.1; fill:none\" points=\"235.283,744.543 2352.76,744.543 \"/>\n",
       "<polyline clip-path=\"url(#clip412)\" style=\"stroke:#000000; stroke-linecap:round; stroke-linejoin:round; stroke-width:2; stroke-opacity:0.1; fill:none\" points=\"235.283,405.225 2352.76,405.225 \"/>\n",
       "<polyline clip-path=\"url(#clip412)\" style=\"stroke:#000000; stroke-linecap:round; stroke-linejoin:round; stroke-width:2; stroke-opacity:0.1; fill:none\" points=\"235.283,65.9066 2352.76,65.9066 \"/>\n",
       "<polyline clip-path=\"url(#clip410)\" style=\"stroke:#000000; stroke-linecap:round; stroke-linejoin:round; stroke-width:4; stroke-opacity:1; fill:none\" points=\"235.283,1423.18 235.283,47.2441 \"/>\n",
       "<polyline clip-path=\"url(#clip410)\" style=\"stroke:#000000; stroke-linecap:round; stroke-linejoin:round; stroke-width:4; stroke-opacity:1; fill:none\" points=\"235.283,1423.18 254.18,1423.18 \"/>\n",
       "<polyline clip-path=\"url(#clip410)\" style=\"stroke:#000000; stroke-linecap:round; stroke-linejoin:round; stroke-width:4; stroke-opacity:1; fill:none\" points=\"235.283,1083.86 254.18,1083.86 \"/>\n",
       "<polyline clip-path=\"url(#clip410)\" style=\"stroke:#000000; stroke-linecap:round; stroke-linejoin:round; stroke-width:4; stroke-opacity:1; fill:none\" points=\"235.283,744.543 254.18,744.543 \"/>\n",
       "<polyline clip-path=\"url(#clip410)\" style=\"stroke:#000000; stroke-linecap:round; stroke-linejoin:round; stroke-width:4; stroke-opacity:1; fill:none\" points=\"235.283,405.225 254.18,405.225 \"/>\n",
       "<polyline clip-path=\"url(#clip410)\" style=\"stroke:#000000; stroke-linecap:round; stroke-linejoin:round; stroke-width:4; stroke-opacity:1; fill:none\" points=\"235.283,65.9066 254.18,65.9066 \"/>\n",
       "<path clip-path=\"url(#clip410)\" d=\"M187.338 1408.98 Q183.727 1408.98 181.899 1412.54 Q180.093 1416.08 180.093 1423.21 Q180.093 1430.32 181.899 1433.89 Q183.727 1437.43 187.338 1437.43 Q190.973 1437.43 192.778 1433.89 Q194.607 1430.32 194.607 1423.21 Q194.607 1416.08 192.778 1412.54 Q190.973 1408.98 187.338 1408.98 M187.338 1405.27 Q193.149 1405.27 196.204 1409.88 Q199.283 1414.46 199.283 1423.21 Q199.283 1431.94 196.204 1436.55 Q193.149 1441.13 187.338 1441.13 Q181.528 1441.13 178.45 1436.55 Q175.394 1431.94 175.394 1423.21 Q175.394 1414.46 178.45 1409.88 Q181.528 1405.27 187.338 1405.27 Z\" fill=\"#000000\" fill-rule=\"nonzero\" fill-opacity=\"1\" /><path clip-path=\"url(#clip410)\" d=\"M121.043 1097.21 L137.362 1097.21 L137.362 1101.14 L115.418 1101.14 L115.418 1097.21 Q118.08 1094.45 122.663 1089.82 Q127.269 1085.17 128.45 1083.83 Q130.695 1081.3 131.575 1079.57 Q132.478 1077.81 132.478 1076.12 Q132.478 1073.36 130.533 1071.63 Q128.612 1069.89 125.51 1069.89 Q123.311 1069.89 120.857 1070.66 Q118.427 1071.42 115.649 1072.97 L115.649 1068.25 Q118.473 1067.11 120.927 1066.54 Q123.38 1065.96 125.418 1065.96 Q130.788 1065.96 133.982 1068.64 Q137.177 1071.33 137.177 1075.82 Q137.177 1077.95 136.367 1079.87 Q135.579 1081.77 133.473 1084.36 Q132.894 1085.03 129.792 1088.25 Q126.691 1091.44 121.043 1097.21 Z\" fill=\"#000000\" fill-rule=\"nonzero\" fill-opacity=\"1\" /><path clip-path=\"url(#clip410)\" d=\"M157.177 1069.66 Q153.566 1069.66 151.737 1073.23 Q149.931 1076.77 149.931 1083.9 Q149.931 1091 151.737 1094.57 Q153.566 1098.11 157.177 1098.11 Q160.811 1098.11 162.616 1094.57 Q164.445 1091 164.445 1083.9 Q164.445 1076.77 162.616 1073.23 Q160.811 1069.66 157.177 1069.66 M157.177 1065.96 Q162.987 1065.96 166.042 1070.56 Q169.121 1075.15 169.121 1083.9 Q169.121 1092.62 166.042 1097.23 Q162.987 1101.81 157.177 1101.81 Q151.366 1101.81 148.288 1097.23 Q145.232 1092.62 145.232 1083.9 Q145.232 1075.15 148.288 1070.56 Q151.366 1065.96 157.177 1065.96 Z\" fill=\"#000000\" fill-rule=\"nonzero\" fill-opacity=\"1\" /><path clip-path=\"url(#clip410)\" d=\"M187.338 1069.66 Q183.727 1069.66 181.899 1073.23 Q180.093 1076.77 180.093 1083.9 Q180.093 1091 181.899 1094.57 Q183.727 1098.11 187.338 1098.11 Q190.973 1098.11 192.778 1094.57 Q194.607 1091 194.607 1083.9 Q194.607 1076.77 192.778 1073.23 Q190.973 1069.66 187.338 1069.66 M187.338 1065.96 Q193.149 1065.96 196.204 1070.56 Q199.283 1075.15 199.283 1083.9 Q199.283 1092.62 196.204 1097.23 Q193.149 1101.81 187.338 1101.81 Q181.528 1101.81 178.45 1097.23 Q175.394 1092.62 175.394 1083.9 Q175.394 1075.15 178.45 1070.56 Q181.528 1065.96 187.338 1065.96 Z\" fill=\"#000000\" fill-rule=\"nonzero\" fill-opacity=\"1\" /><path clip-path=\"url(#clip410)\" d=\"M129.862 731.337 L118.056 749.786 L129.862 749.786 L129.862 731.337 M128.635 727.263 L134.515 727.263 L134.515 749.786 L139.445 749.786 L139.445 753.675 L134.515 753.675 L134.515 761.823 L129.862 761.823 L129.862 753.675 L114.26 753.675 L114.26 749.161 L128.635 727.263 Z\" fill=\"#000000\" fill-rule=\"nonzero\" fill-opacity=\"1\" /><path clip-path=\"url(#clip410)\" d=\"M157.177 730.342 Q153.566 730.342 151.737 733.907 Q149.931 737.448 149.931 744.578 Q149.931 751.684 151.737 755.249 Q153.566 758.791 157.177 758.791 Q160.811 758.791 162.616 755.249 Q164.445 751.684 164.445 744.578 Q164.445 737.448 162.616 733.907 Q160.811 730.342 157.177 730.342 M157.177 726.638 Q162.987 726.638 166.042 731.245 Q169.121 735.828 169.121 744.578 Q169.121 753.305 166.042 757.911 Q162.987 762.495 157.177 762.495 Q151.366 762.495 148.288 757.911 Q145.232 753.305 145.232 744.578 Q145.232 735.828 148.288 731.245 Q151.366 726.638 157.177 726.638 Z\" fill=\"#000000\" fill-rule=\"nonzero\" fill-opacity=\"1\" /><path clip-path=\"url(#clip410)\" d=\"M187.338 730.342 Q183.727 730.342 181.899 733.907 Q180.093 737.448 180.093 744.578 Q180.093 751.684 181.899 755.249 Q183.727 758.791 187.338 758.791 Q190.973 758.791 192.778 755.249 Q194.607 751.684 194.607 744.578 Q194.607 737.448 192.778 733.907 Q190.973 730.342 187.338 730.342 M187.338 726.638 Q193.149 726.638 196.204 731.245 Q199.283 735.828 199.283 744.578 Q199.283 753.305 196.204 757.911 Q193.149 762.495 187.338 762.495 Q181.528 762.495 178.45 757.911 Q175.394 753.305 175.394 744.578 Q175.394 735.828 178.45 731.245 Q181.528 726.638 187.338 726.638 Z\" fill=\"#000000\" fill-rule=\"nonzero\" fill-opacity=\"1\" /><path clip-path=\"url(#clip410)\" d=\"M127.593 403.361 Q124.445 403.361 122.593 405.514 Q120.765 407.667 120.765 411.417 Q120.765 415.144 122.593 417.32 Q124.445 419.473 127.593 419.473 Q130.742 419.473 132.57 417.32 Q134.422 415.144 134.422 411.417 Q134.422 407.667 132.57 405.514 Q130.742 403.361 127.593 403.361 M136.876 388.709 L136.876 392.968 Q135.117 392.135 133.311 391.695 Q131.529 391.255 129.769 391.255 Q125.14 391.255 122.686 394.38 Q120.255 397.505 119.908 403.824 Q121.274 401.811 123.334 400.746 Q125.394 399.658 127.871 399.658 Q133.08 399.658 136.089 402.829 Q139.121 405.977 139.121 411.417 Q139.121 416.741 135.973 419.959 Q132.825 423.176 127.593 423.176 Q121.598 423.176 118.427 418.593 Q115.256 413.986 115.256 405.26 Q115.256 397.065 119.144 392.204 Q123.033 387.32 129.584 387.32 Q131.343 387.32 133.126 387.667 Q134.931 388.014 136.876 388.709 Z\" fill=\"#000000\" fill-rule=\"nonzero\" fill-opacity=\"1\" /><path clip-path=\"url(#clip410)\" d=\"M157.177 391.024 Q153.566 391.024 151.737 394.588 Q149.931 398.13 149.931 405.26 Q149.931 412.366 151.737 415.931 Q153.566 419.473 157.177 419.473 Q160.811 419.473 162.616 415.931 Q164.445 412.366 164.445 405.26 Q164.445 398.13 162.616 394.588 Q160.811 391.024 157.177 391.024 M157.177 387.32 Q162.987 387.32 166.042 391.926 Q169.121 396.51 169.121 405.26 Q169.121 413.986 166.042 418.593 Q162.987 423.176 157.177 423.176 Q151.366 423.176 148.288 418.593 Q145.232 413.986 145.232 405.26 Q145.232 396.51 148.288 391.926 Q151.366 387.32 157.177 387.32 Z\" fill=\"#000000\" fill-rule=\"nonzero\" fill-opacity=\"1\" /><path clip-path=\"url(#clip410)\" d=\"M187.338 391.024 Q183.727 391.024 181.899 394.588 Q180.093 398.13 180.093 405.26 Q180.093 412.366 181.899 415.931 Q183.727 419.473 187.338 419.473 Q190.973 419.473 192.778 415.931 Q194.607 412.366 194.607 405.26 Q194.607 398.13 192.778 394.588 Q190.973 391.024 187.338 391.024 M187.338 387.32 Q193.149 387.32 196.204 391.926 Q199.283 396.51 199.283 405.26 Q199.283 413.986 196.204 418.593 Q193.149 423.176 187.338 423.176 Q181.528 423.176 178.45 418.593 Q175.394 413.986 175.394 405.26 Q175.394 396.51 178.45 391.926 Q181.528 387.32 187.338 387.32 Z\" fill=\"#000000\" fill-rule=\"nonzero\" fill-opacity=\"1\" /><path clip-path=\"url(#clip410)\" d=\"M127.015 66.7747 Q123.681 66.7747 121.76 68.5571 Q119.862 70.3394 119.862 73.4644 Q119.862 76.5894 121.76 78.3718 Q123.681 80.1542 127.015 80.1542 Q130.348 80.1542 132.269 78.3718 Q134.191 76.5663 134.191 73.4644 Q134.191 70.3394 132.269 68.5571 Q130.371 66.7747 127.015 66.7747 M122.339 64.7839 Q119.33 64.0432 117.64 61.983 Q115.973 59.9228 115.973 56.9599 Q115.973 52.8164 118.913 50.409 Q121.876 48.0016 127.015 48.0016 Q132.177 48.0016 135.117 50.409 Q138.056 52.8164 138.056 56.9599 Q138.056 59.9228 136.367 61.983 Q134.7 64.0432 131.714 64.7839 Q135.093 65.571 136.968 67.8626 Q138.867 70.1543 138.867 73.4644 Q138.867 78.4876 135.788 81.1727 Q132.732 83.8579 127.015 83.8579 Q121.297 83.8579 118.218 81.1727 Q115.163 78.4876 115.163 73.4644 Q115.163 70.1543 117.061 67.8626 Q118.959 65.571 122.339 64.7839 M120.626 57.3997 Q120.626 60.0849 122.293 61.5895 Q123.982 63.0941 127.015 63.0941 Q130.024 63.0941 131.714 61.5895 Q133.427 60.0849 133.427 57.3997 Q133.427 54.7145 131.714 53.2099 Q130.024 51.7053 127.015 51.7053 Q123.982 51.7053 122.293 53.2099 Q120.626 54.7145 120.626 57.3997 Z\" fill=\"#000000\" fill-rule=\"nonzero\" fill-opacity=\"1\" /><path clip-path=\"url(#clip410)\" d=\"M157.177 51.7053 Q153.566 51.7053 151.737 55.2701 Q149.931 58.8117 149.931 65.9413 Q149.931 73.0478 151.737 76.6126 Q153.566 80.1542 157.177 80.1542 Q160.811 80.1542 162.616 76.6126 Q164.445 73.0478 164.445 65.9413 Q164.445 58.8117 162.616 55.2701 Q160.811 51.7053 157.177 51.7053 M157.177 48.0016 Q162.987 48.0016 166.042 52.6081 Q169.121 57.1914 169.121 65.9413 Q169.121 74.6681 166.042 79.2746 Q162.987 83.8579 157.177 83.8579 Q151.366 83.8579 148.288 79.2746 Q145.232 74.6681 145.232 65.9413 Q145.232 57.1914 148.288 52.6081 Q151.366 48.0016 157.177 48.0016 Z\" fill=\"#000000\" fill-rule=\"nonzero\" fill-opacity=\"1\" /><path clip-path=\"url(#clip410)\" d=\"M187.338 51.7053 Q183.727 51.7053 181.899 55.2701 Q180.093 58.8117 180.093 65.9413 Q180.093 73.0478 181.899 76.6126 Q183.727 80.1542 187.338 80.1542 Q190.973 80.1542 192.778 76.6126 Q194.607 73.0478 194.607 65.9413 Q194.607 58.8117 192.778 55.2701 Q190.973 51.7053 187.338 51.7053 M187.338 48.0016 Q193.149 48.0016 196.204 52.6081 Q199.283 57.1914 199.283 65.9413 Q199.283 74.6681 196.204 79.2746 Q193.149 83.8579 187.338 83.8579 Q181.528 83.8579 178.45 79.2746 Q175.394 74.6681 175.394 65.9413 Q175.394 57.1914 178.45 52.6081 Q181.528 48.0016 187.338 48.0016 Z\" fill=\"#000000\" fill-rule=\"nonzero\" fill-opacity=\"1\" /><path clip-path=\"url(#clip410)\" d=\"M29.7248 796.386 L35.1993 796.386 Q33.8307 798.869 33.1623 801.383 Q32.4621 803.866 32.4621 806.412 Q32.4621 812.11 36.0905 815.261 Q39.6872 818.412 46.212 818.412 Q52.7369 818.412 56.3653 815.261 Q59.9619 812.11 59.9619 806.412 Q59.9619 803.866 59.2935 801.383 Q58.5933 798.869 57.2247 796.386 L62.6355 796.386 Q63.7814 798.837 64.3543 801.479 Q64.9272 804.089 64.9272 807.049 Q64.9272 815.102 59.8664 819.844 Q54.8057 824.586 46.212 824.586 Q37.491 824.586 32.4939 819.812 Q27.4968 815.006 27.4968 806.667 Q27.4968 803.962 28.0697 801.383 Q28.6108 798.805 29.7248 796.386 Z\" fill=\"#000000\" fill-rule=\"nonzero\" fill-opacity=\"1\" /><path clip-path=\"url(#clip410)\" d=\"M32.4621 772.388 Q32.4621 777.098 36.1542 779.836 Q39.8145 782.573 46.212 782.573 Q52.6095 782.573 56.3017 779.867 Q59.9619 777.13 59.9619 772.388 Q59.9619 767.709 56.2698 764.972 Q52.5777 762.234 46.212 762.234 Q39.8781 762.234 36.186 764.972 Q32.4621 767.709 32.4621 772.388 M27.4968 772.388 Q27.4968 764.749 32.4621 760.388 Q37.4273 756.028 46.212 756.028 Q54.9649 756.028 59.9619 760.388 Q64.9272 764.749 64.9272 772.388 Q64.9272 780.058 59.9619 784.419 Q54.9649 788.748 46.212 788.748 Q37.4273 788.748 32.4621 784.419 Q27.4968 780.058 27.4968 772.388 Z\" fill=\"#000000\" fill-rule=\"nonzero\" fill-opacity=\"1\" /><path clip-path=\"url(#clip410)\" d=\"M49.9359 746.925 L28.3562 746.925 L28.3562 741.068 L49.7131 741.068 Q54.7739 741.068 57.3202 739.095 Q59.8346 737.122 59.8346 733.175 Q59.8346 728.432 56.8109 725.695 Q53.7872 722.926 48.5673 722.926 L28.3562 722.926 L28.3562 717.07 L64.0042 717.07 L64.0042 722.926 L58.5296 722.926 Q61.7762 725.059 63.3676 727.891 Q64.9272 730.692 64.9272 734.416 Q64.9272 740.559 61.1078 743.742 Q57.2883 746.925 49.9359 746.925 M27.4968 732.188 L27.4968 732.188 Z\" fill=\"#000000\" fill-rule=\"nonzero\" fill-opacity=\"1\" /><path clip-path=\"url(#clip410)\" d=\"M42.4881 675.374 L64.0042 675.374 L64.0042 681.231 L42.679 681.231 Q37.6183 681.231 35.1038 683.204 Q32.5894 685.178 32.5894 689.124 Q32.5894 693.867 35.6131 696.604 Q38.6368 699.341 43.8567 699.341 L64.0042 699.341 L64.0042 705.229 L28.3562 705.229 L28.3562 699.341 L33.8944 699.341 Q30.6797 697.241 29.0883 694.408 Q27.4968 691.543 27.4968 687.819 Q27.4968 681.676 31.3163 678.525 Q35.1038 675.374 42.4881 675.374 Z\" fill=\"#000000\" fill-rule=\"nonzero\" fill-opacity=\"1\" /><path clip-path=\"url(#clip410)\" d=\"M18.2347 657.9 L28.3562 657.9 L28.3562 645.837 L32.9077 645.837 L32.9077 657.9 L52.2594 657.9 Q56.6199 657.9 57.8613 656.723 Q59.1026 655.513 59.1026 651.853 L59.1026 645.837 L64.0042 645.837 L64.0042 651.853 Q64.0042 658.633 61.4897 661.211 Q58.9434 663.789 52.2594 663.789 L32.9077 663.789 L32.9077 668.086 L28.3562 668.086 L28.3562 663.789 L18.2347 663.789 L18.2347 657.9 Z\" fill=\"#000000\" fill-rule=\"nonzero\" fill-opacity=\"1\" /><path clip-path=\"url(#clip412)\" d=\"M351.748 1418.09 L351.748 1423.18 L402.681 1423.18 L402.681 1418.09 L351.748 1418.09 L351.748 1418.09  Z\" fill=\"#009af9\" fill-rule=\"evenodd\" fill-opacity=\"1\"/>\n",
       "<polyline clip-path=\"url(#clip412)\" style=\"stroke:#000000; stroke-linecap:round; stroke-linejoin:round; stroke-width:4; stroke-opacity:1; fill:none\" points=\"351.748,1418.09 351.748,1423.18 402.681,1423.18 402.681,1418.09 351.748,1418.09 \"/>\n",
       "<path clip-path=\"url(#clip412)\" d=\"M402.681 1419.79 L402.681 1423.18 L453.615 1423.18 L453.615 1419.79 L402.681 1419.79 L402.681 1419.79  Z\" fill=\"#009af9\" fill-rule=\"evenodd\" fill-opacity=\"1\"/>\n",
       "<polyline clip-path=\"url(#clip412)\" style=\"stroke:#000000; stroke-linecap:round; stroke-linejoin:round; stroke-width:4; stroke-opacity:1; fill:none\" points=\"402.681,1419.79 402.681,1423.18 453.615,1423.18 453.615,1419.79 402.681,1419.79 \"/>\n",
       "<path clip-path=\"url(#clip412)\" d=\"M453.615 1416.39 L453.615 1423.18 L504.548 1423.18 L504.548 1416.39 L453.615 1416.39 L453.615 1416.39  Z\" fill=\"#009af9\" fill-rule=\"evenodd\" fill-opacity=\"1\"/>\n",
       "<polyline clip-path=\"url(#clip412)\" style=\"stroke:#000000; stroke-linecap:round; stroke-linejoin:round; stroke-width:4; stroke-opacity:1; fill:none\" points=\"453.615,1416.39 453.615,1423.18 504.548,1423.18 504.548,1416.39 453.615,1416.39 \"/>\n",
       "<path clip-path=\"url(#clip412)\" d=\"M504.548 1407.91 L504.548 1423.18 L555.482 1423.18 L555.482 1407.91 L504.548 1407.91 L504.548 1407.91  Z\" fill=\"#009af9\" fill-rule=\"evenodd\" fill-opacity=\"1\"/>\n",
       "<polyline clip-path=\"url(#clip412)\" style=\"stroke:#000000; stroke-linecap:round; stroke-linejoin:round; stroke-width:4; stroke-opacity:1; fill:none\" points=\"504.548,1407.91 504.548,1423.18 555.482,1423.18 555.482,1407.91 504.548,1407.91 \"/>\n",
       "<path clip-path=\"url(#clip412)\" d=\"M555.482 1373.98 L555.482 1423.18 L606.416 1423.18 L606.416 1373.98 L555.482 1373.98 L555.482 1373.98  Z\" fill=\"#009af9\" fill-rule=\"evenodd\" fill-opacity=\"1\"/>\n",
       "<polyline clip-path=\"url(#clip412)\" style=\"stroke:#000000; stroke-linecap:round; stroke-linejoin:round; stroke-width:4; stroke-opacity:1; fill:none\" points=\"555.482,1373.98 555.482,1423.18 606.416,1423.18 606.416,1373.98 555.482,1373.98 \"/>\n",
       "<path clip-path=\"url(#clip412)\" d=\"M606.416 1368.89 L606.416 1423.18 L657.349 1423.18 L657.349 1368.89 L606.416 1368.89 L606.416 1368.89  Z\" fill=\"#009af9\" fill-rule=\"evenodd\" fill-opacity=\"1\"/>\n",
       "<polyline clip-path=\"url(#clip412)\" style=\"stroke:#000000; stroke-linecap:round; stroke-linejoin:round; stroke-width:4; stroke-opacity:1; fill:none\" points=\"606.416,1368.89 606.416,1423.18 657.349,1423.18 657.349,1368.89 606.416,1368.89 \"/>\n",
       "<path clip-path=\"url(#clip412)\" d=\"M657.349 1341.74 L657.349 1423.18 L708.283 1423.18 L708.283 1341.74 L657.349 1341.74 L657.349 1341.74  Z\" fill=\"#009af9\" fill-rule=\"evenodd\" fill-opacity=\"1\"/>\n",
       "<polyline clip-path=\"url(#clip412)\" style=\"stroke:#000000; stroke-linecap:round; stroke-linejoin:round; stroke-width:4; stroke-opacity:1; fill:none\" points=\"657.349,1341.74 657.349,1423.18 708.283,1423.18 708.283,1341.74 657.349,1341.74 \"/>\n",
       "<path clip-path=\"url(#clip412)\" d=\"M708.283 1270.49 L708.283 1423.18 L759.216 1423.18 L759.216 1270.49 L708.283 1270.49 L708.283 1270.49  Z\" fill=\"#009af9\" fill-rule=\"evenodd\" fill-opacity=\"1\"/>\n",
       "<polyline clip-path=\"url(#clip412)\" style=\"stroke:#000000; stroke-linecap:round; stroke-linejoin:round; stroke-width:4; stroke-opacity:1; fill:none\" points=\"708.283,1270.49 708.283,1423.18 759.216,1423.18 759.216,1270.49 708.283,1270.49 \"/>\n",
       "<path clip-path=\"url(#clip412)\" d=\"M759.216 1199.23 L759.216 1423.18 L810.15 1423.18 L810.15 1199.23 L759.216 1199.23 L759.216 1199.23  Z\" fill=\"#009af9\" fill-rule=\"evenodd\" fill-opacity=\"1\"/>\n",
       "<polyline clip-path=\"url(#clip412)\" style=\"stroke:#000000; stroke-linecap:round; stroke-linejoin:round; stroke-width:4; stroke-opacity:1; fill:none\" points=\"759.216,1199.23 759.216,1423.18 810.15,1423.18 810.15,1199.23 759.216,1199.23 \"/>\n",
       "<path clip-path=\"url(#clip412)\" d=\"M810.15 1088.95 L810.15 1423.18 L861.084 1423.18 L861.084 1088.95 L810.15 1088.95 L810.15 1088.95  Z\" fill=\"#009af9\" fill-rule=\"evenodd\" fill-opacity=\"1\"/>\n",
       "<polyline clip-path=\"url(#clip412)\" style=\"stroke:#000000; stroke-linecap:round; stroke-linejoin:round; stroke-width:4; stroke-opacity:1; fill:none\" points=\"810.15,1088.95 810.15,1423.18 861.084,1423.18 861.084,1088.95 810.15,1088.95 \"/>\n",
       "<path clip-path=\"url(#clip412)\" d=\"M861.084 980.369 L861.084 1423.18 L912.017 1423.18 L912.017 980.369 L861.084 980.369 L861.084 980.369  Z\" fill=\"#009af9\" fill-rule=\"evenodd\" fill-opacity=\"1\"/>\n",
       "<polyline clip-path=\"url(#clip412)\" style=\"stroke:#000000; stroke-linecap:round; stroke-linejoin:round; stroke-width:4; stroke-opacity:1; fill:none\" points=\"861.084,980.369 861.084,1423.18 912.017,1423.18 912.017,980.369 861.084,980.369 \"/>\n",
       "<path clip-path=\"url(#clip412)\" d=\"M912.017 810.71 L912.017 1423.18 L962.951 1423.18 L962.951 810.71 L912.017 810.71 L912.017 810.71  Z\" fill=\"#009af9\" fill-rule=\"evenodd\" fill-opacity=\"1\"/>\n",
       "<polyline clip-path=\"url(#clip412)\" style=\"stroke:#000000; stroke-linecap:round; stroke-linejoin:round; stroke-width:4; stroke-opacity:1; fill:none\" points=\"912.017,810.71 912.017,1423.18 962.951,1423.18 962.951,810.71 912.017,810.71 \"/>\n",
       "<path clip-path=\"url(#clip412)\" d=\"M962.951 693.645 L962.951 1423.18 L1013.88 1423.18 L1013.88 693.645 L962.951 693.645 L962.951 693.645  Z\" fill=\"#009af9\" fill-rule=\"evenodd\" fill-opacity=\"1\"/>\n",
       "<polyline clip-path=\"url(#clip412)\" style=\"stroke:#000000; stroke-linecap:round; stroke-linejoin:round; stroke-width:4; stroke-opacity:1; fill:none\" points=\"962.951,693.645 962.951,1423.18 1013.88,1423.18 1013.88,693.645 962.951,693.645 \"/>\n",
       "<path clip-path=\"url(#clip412)\" d=\"M1013.88 479.875 L1013.88 1423.18 L1064.82 1423.18 L1064.82 479.875 L1013.88 479.875 L1013.88 479.875  Z\" fill=\"#009af9\" fill-rule=\"evenodd\" fill-opacity=\"1\"/>\n",
       "<polyline clip-path=\"url(#clip412)\" style=\"stroke:#000000; stroke-linecap:round; stroke-linejoin:round; stroke-width:4; stroke-opacity:1; fill:none\" points=\"1013.88,479.875 1013.88,1423.18 1064.82,1423.18 1064.82,479.875 1013.88,479.875 \"/>\n",
       "<path clip-path=\"url(#clip412)\" d=\"M1064.82 367.9 L1064.82 1423.18 L1115.75 1423.18 L1115.75 367.9 L1064.82 367.9 L1064.82 367.9  Z\" fill=\"#009af9\" fill-rule=\"evenodd\" fill-opacity=\"1\"/>\n",
       "<polyline clip-path=\"url(#clip412)\" style=\"stroke:#000000; stroke-linecap:round; stroke-linejoin:round; stroke-width:4; stroke-opacity:1; fill:none\" points=\"1064.82,367.9 1064.82,1423.18 1115.75,1423.18 1115.75,367.9 1064.82,367.9 \"/>\n",
       "<path clip-path=\"url(#clip412)\" d=\"M1115.75 254.228 L1115.75 1423.18 L1166.69 1423.18 L1166.69 254.228 L1115.75 254.228 L1115.75 254.228  Z\" fill=\"#009af9\" fill-rule=\"evenodd\" fill-opacity=\"1\"/>\n",
       "<polyline clip-path=\"url(#clip412)\" style=\"stroke:#000000; stroke-linecap:round; stroke-linejoin:round; stroke-width:4; stroke-opacity:1; fill:none\" points=\"1115.75,254.228 1115.75,1423.18 1166.69,1423.18 1166.69,254.228 1115.75,254.228 \"/>\n",
       "<path clip-path=\"url(#clip412)\" d=\"M1166.69 169.399 L1166.69 1423.18 L1217.62 1423.18 L1217.62 169.399 L1166.69 169.399 L1166.69 169.399  Z\" fill=\"#009af9\" fill-rule=\"evenodd\" fill-opacity=\"1\"/>\n",
       "<polyline clip-path=\"url(#clip412)\" style=\"stroke:#000000; stroke-linecap:round; stroke-linejoin:round; stroke-width:4; stroke-opacity:1; fill:none\" points=\"1166.69,169.399 1166.69,1423.18 1217.62,1423.18 1217.62,169.399 1166.69,169.399 \"/>\n",
       "<path clip-path=\"url(#clip412)\" d=\"M1217.62 111.715 L1217.62 1423.18 L1268.55 1423.18 L1268.55 111.715 L1217.62 111.715 L1217.62 111.715  Z\" fill=\"#009af9\" fill-rule=\"evenodd\" fill-opacity=\"1\"/>\n",
       "<polyline clip-path=\"url(#clip412)\" style=\"stroke:#000000; stroke-linecap:round; stroke-linejoin:round; stroke-width:4; stroke-opacity:1; fill:none\" points=\"1217.62,111.715 1217.62,1423.18 1268.55,1423.18 1268.55,111.715 1217.62,111.715 \"/>\n",
       "<path clip-path=\"url(#clip412)\" d=\"M1268.55 47.2441 L1268.55 1423.18 L1319.49 1423.18 L1319.49 47.2441 L1268.55 47.2441 L1268.55 47.2441  Z\" fill=\"#009af9\" fill-rule=\"evenodd\" fill-opacity=\"1\"/>\n",
       "<polyline clip-path=\"url(#clip412)\" style=\"stroke:#000000; stroke-linecap:round; stroke-linejoin:round; stroke-width:4; stroke-opacity:1; fill:none\" points=\"1268.55,47.2441 1268.55,1423.18 1319.49,1423.18 1319.49,47.2441 1268.55,47.2441 \"/>\n",
       "<path clip-path=\"url(#clip412)\" d=\"M1319.49 150.736 L1319.49 1423.18 L1370.42 1423.18 L1370.42 150.736 L1319.49 150.736 L1319.49 150.736  Z\" fill=\"#009af9\" fill-rule=\"evenodd\" fill-opacity=\"1\"/>\n",
       "<polyline clip-path=\"url(#clip412)\" style=\"stroke:#000000; stroke-linecap:round; stroke-linejoin:round; stroke-width:4; stroke-opacity:1; fill:none\" points=\"1319.49,150.736 1319.49,1423.18 1370.42,1423.18 1370.42,150.736 1319.49,150.736 \"/>\n",
       "<path clip-path=\"url(#clip412)\" d=\"M1370.42 210.117 L1370.42 1423.18 L1421.35 1423.18 L1421.35 210.117 L1370.42 210.117 L1370.42 210.117  Z\" fill=\"#009af9\" fill-rule=\"evenodd\" fill-opacity=\"1\"/>\n",
       "<polyline clip-path=\"url(#clip412)\" style=\"stroke:#000000; stroke-linecap:round; stroke-linejoin:round; stroke-width:4; stroke-opacity:1; fill:none\" points=\"1370.42,210.117 1370.42,1423.18 1421.35,1423.18 1421.35,210.117 1370.42,210.117 \"/>\n",
       "<path clip-path=\"url(#clip412)\" d=\"M1421.35 367.9 L1421.35 1423.18 L1472.29 1423.18 L1472.29 367.9 L1421.35 367.9 L1421.35 367.9  Z\" fill=\"#009af9\" fill-rule=\"evenodd\" fill-opacity=\"1\"/>\n",
       "<polyline clip-path=\"url(#clip412)\" style=\"stroke:#000000; stroke-linecap:round; stroke-linejoin:round; stroke-width:4; stroke-opacity:1; fill:none\" points=\"1421.35,367.9 1421.35,1423.18 1472.29,1423.18 1472.29,367.9 1421.35,367.9 \"/>\n",
       "<path clip-path=\"url(#clip412)\" d=\"M1472.29 532.469 L1472.29 1423.18 L1523.22 1423.18 L1523.22 532.469 L1472.29 532.469 L1472.29 532.469  Z\" fill=\"#009af9\" fill-rule=\"evenodd\" fill-opacity=\"1\"/>\n",
       "<polyline clip-path=\"url(#clip412)\" style=\"stroke:#000000; stroke-linecap:round; stroke-linejoin:round; stroke-width:4; stroke-opacity:1; fill:none\" points=\"1472.29,532.469 1472.29,1423.18 1523.22,1423.18 1523.22,532.469 1472.29,532.469 \"/>\n",
       "<path clip-path=\"url(#clip412)\" d=\"M1523.22 707.218 L1523.22 1423.18 L1574.15 1423.18 L1574.15 707.218 L1523.22 707.218 L1523.22 707.218  Z\" fill=\"#009af9\" fill-rule=\"evenodd\" fill-opacity=\"1\"/>\n",
       "<polyline clip-path=\"url(#clip412)\" style=\"stroke:#000000; stroke-linecap:round; stroke-linejoin:round; stroke-width:4; stroke-opacity:1; fill:none\" points=\"1523.22,707.218 1523.22,1423.18 1574.15,1423.18 1574.15,707.218 1523.22,707.218 \"/>\n",
       "<path clip-path=\"url(#clip412)\" d=\"M1574.15 786.958 L1574.15 1423.18 L1625.09 1423.18 L1625.09 786.958 L1574.15 786.958 L1574.15 786.958  Z\" fill=\"#009af9\" fill-rule=\"evenodd\" fill-opacity=\"1\"/>\n",
       "<polyline clip-path=\"url(#clip412)\" style=\"stroke:#000000; stroke-linecap:round; stroke-linejoin:round; stroke-width:4; stroke-opacity:1; fill:none\" points=\"1574.15,786.958 1574.15,1423.18 1625.09,1423.18 1625.09,786.958 1574.15,786.958 \"/>\n",
       "<path clip-path=\"url(#clip412)\" d=\"M1625.09 985.459 L1625.09 1423.18 L1676.02 1423.18 L1676.02 985.459 L1625.09 985.459 L1625.09 985.459  Z\" fill=\"#009af9\" fill-rule=\"evenodd\" fill-opacity=\"1\"/>\n",
       "<polyline clip-path=\"url(#clip412)\" style=\"stroke:#000000; stroke-linecap:round; stroke-linejoin:round; stroke-width:4; stroke-opacity:1; fill:none\" points=\"1625.09,985.459 1625.09,1423.18 1676.02,1423.18 1676.02,985.459 1625.09,985.459 \"/>\n",
       "<path clip-path=\"url(#clip412)\" d=\"M1676.02 1100.83 L1676.02 1423.18 L1726.96 1423.18 L1726.96 1100.83 L1676.02 1100.83 L1676.02 1100.83  Z\" fill=\"#009af9\" fill-rule=\"evenodd\" fill-opacity=\"1\"/>\n",
       "<polyline clip-path=\"url(#clip412)\" style=\"stroke:#000000; stroke-linecap:round; stroke-linejoin:round; stroke-width:4; stroke-opacity:1; fill:none\" points=\"1676.02,1100.83 1676.02,1423.18 1726.96,1423.18 1726.96,1100.83 1676.02,1100.83 \"/>\n",
       "<path clip-path=\"url(#clip412)\" d=\"M1726.96 1199.23 L1726.96 1423.18 L1777.89 1423.18 L1777.89 1199.23 L1726.96 1199.23 L1726.96 1199.23  Z\" fill=\"#009af9\" fill-rule=\"evenodd\" fill-opacity=\"1\"/>\n",
       "<polyline clip-path=\"url(#clip412)\" style=\"stroke:#000000; stroke-linecap:round; stroke-linejoin:round; stroke-width:4; stroke-opacity:1; fill:none\" points=\"1726.96,1199.23 1726.96,1423.18 1777.89,1423.18 1777.89,1199.23 1726.96,1199.23 \"/>\n",
       "<path clip-path=\"url(#clip412)\" d=\"M1777.89 1263.7 L1777.89 1423.18 L1828.82 1423.18 L1828.82 1263.7 L1777.89 1263.7 L1777.89 1263.7  Z\" fill=\"#009af9\" fill-rule=\"evenodd\" fill-opacity=\"1\"/>\n",
       "<polyline clip-path=\"url(#clip412)\" style=\"stroke:#000000; stroke-linecap:round; stroke-linejoin:round; stroke-width:4; stroke-opacity:1; fill:none\" points=\"1777.89,1263.7 1777.89,1423.18 1828.82,1423.18 1828.82,1263.7 1777.89,1263.7 \"/>\n",
       "<path clip-path=\"url(#clip412)\" d=\"M1828.82 1345.14 L1828.82 1423.18 L1879.76 1423.18 L1879.76 1345.14 L1828.82 1345.14 L1828.82 1345.14  Z\" fill=\"#009af9\" fill-rule=\"evenodd\" fill-opacity=\"1\"/>\n",
       "<polyline clip-path=\"url(#clip412)\" style=\"stroke:#000000; stroke-linecap:round; stroke-linejoin:round; stroke-width:4; stroke-opacity:1; fill:none\" points=\"1828.82,1345.14 1828.82,1423.18 1879.76,1423.18 1879.76,1345.14 1828.82,1345.14 \"/>\n",
       "<path clip-path=\"url(#clip412)\" d=\"M1879.76 1370.59 L1879.76 1423.18 L1930.69 1423.18 L1930.69 1370.59 L1879.76 1370.59 L1879.76 1370.59  Z\" fill=\"#009af9\" fill-rule=\"evenodd\" fill-opacity=\"1\"/>\n",
       "<polyline clip-path=\"url(#clip412)\" style=\"stroke:#000000; stroke-linecap:round; stroke-linejoin:round; stroke-width:4; stroke-opacity:1; fill:none\" points=\"1879.76,1370.59 1879.76,1423.18 1930.69,1423.18 1930.69,1370.59 1879.76,1370.59 \"/>\n",
       "<path clip-path=\"url(#clip412)\" d=\"M1930.69 1380.77 L1930.69 1423.18 L1981.62 1423.18 L1981.62 1380.77 L1930.69 1380.77 L1930.69 1380.77  Z\" fill=\"#009af9\" fill-rule=\"evenodd\" fill-opacity=\"1\"/>\n",
       "<polyline clip-path=\"url(#clip412)\" style=\"stroke:#000000; stroke-linecap:round; stroke-linejoin:round; stroke-width:4; stroke-opacity:1; fill:none\" points=\"1930.69,1380.77 1930.69,1423.18 1981.62,1423.18 1981.62,1380.77 1930.69,1380.77 \"/>\n",
       "<path clip-path=\"url(#clip412)\" d=\"M1981.62 1401.12 L1981.62 1423.18 L2032.56 1423.18 L2032.56 1401.12 L1981.62 1401.12 L1981.62 1401.12  Z\" fill=\"#009af9\" fill-rule=\"evenodd\" fill-opacity=\"1\"/>\n",
       "<polyline clip-path=\"url(#clip412)\" style=\"stroke:#000000; stroke-linecap:round; stroke-linejoin:round; stroke-width:4; stroke-opacity:1; fill:none\" points=\"1981.62,1401.12 1981.62,1423.18 2032.56,1423.18 2032.56,1401.12 1981.62,1401.12 \"/>\n",
       "<path clip-path=\"url(#clip412)\" d=\"M2032.56 1413 L2032.56 1423.18 L2083.49 1423.18 L2083.49 1413 L2032.56 1413 L2032.56 1413  Z\" fill=\"#009af9\" fill-rule=\"evenodd\" fill-opacity=\"1\"/>\n",
       "<polyline clip-path=\"url(#clip412)\" style=\"stroke:#000000; stroke-linecap:round; stroke-linejoin:round; stroke-width:4; stroke-opacity:1; fill:none\" points=\"2032.56,1413 2032.56,1423.18 2083.49,1423.18 2083.49,1413 2032.56,1413 \"/>\n",
       "<path clip-path=\"url(#clip412)\" d=\"M2083.49 1411.3 L2083.49 1423.18 L2134.42 1423.18 L2134.42 1411.3 L2083.49 1411.3 L2083.49 1411.3  Z\" fill=\"#009af9\" fill-rule=\"evenodd\" fill-opacity=\"1\"/>\n",
       "<polyline clip-path=\"url(#clip412)\" style=\"stroke:#000000; stroke-linecap:round; stroke-linejoin:round; stroke-width:4; stroke-opacity:1; fill:none\" points=\"2083.49,1411.3 2083.49,1423.18 2134.42,1423.18 2134.42,1411.3 2083.49,1411.3 \"/>\n",
       "<path clip-path=\"url(#clip412)\" d=\"M2134.42 1423.18 L2134.42 1423.18 L2185.36 1423.18 L2185.36 1423.18 L2134.42 1423.18 L2134.42 1423.18  Z\" fill=\"#009af9\" fill-rule=\"evenodd\" fill-opacity=\"1\"/>\n",
       "<polyline clip-path=\"url(#clip412)\" style=\"stroke:#000000; stroke-linecap:round; stroke-linejoin:round; stroke-width:4; stroke-opacity:1; fill:none\" points=\"2134.42,1423.18 2134.42,1423.18 2185.36,1423.18 2134.42,1423.18 \"/>\n",
       "<path clip-path=\"url(#clip412)\" d=\"M2185.36 1421.48 L2185.36 1423.18 L2236.29 1423.18 L2236.29 1421.48 L2185.36 1421.48 L2185.36 1421.48  Z\" fill=\"#009af9\" fill-rule=\"evenodd\" fill-opacity=\"1\"/>\n",
       "<polyline clip-path=\"url(#clip412)\" style=\"stroke:#000000; stroke-linecap:round; stroke-linejoin:round; stroke-width:4; stroke-opacity:1; fill:none\" points=\"2185.36,1421.48 2185.36,1423.18 2236.29,1423.18 2236.29,1421.48 2185.36,1421.48 \"/>\n",
       "<circle clip-path=\"url(#clip412)\" style=\"fill:#009af9; stroke:none; fill-opacity:0\" cx=\"377.214\" cy=\"1418.09\" r=\"2\"/>\n",
       "<circle clip-path=\"url(#clip412)\" style=\"fill:#009af9; stroke:none; fill-opacity:0\" cx=\"428.148\" cy=\"1419.79\" r=\"2\"/>\n",
       "<circle clip-path=\"url(#clip412)\" style=\"fill:#009af9; stroke:none; fill-opacity:0\" cx=\"479.082\" cy=\"1416.39\" r=\"2\"/>\n",
       "<circle clip-path=\"url(#clip412)\" style=\"fill:#009af9; stroke:none; fill-opacity:0\" cx=\"530.015\" cy=\"1407.91\" r=\"2\"/>\n",
       "<circle clip-path=\"url(#clip412)\" style=\"fill:#009af9; stroke:none; fill-opacity:0\" cx=\"580.949\" cy=\"1373.98\" r=\"2\"/>\n",
       "<circle clip-path=\"url(#clip412)\" style=\"fill:#009af9; stroke:none; fill-opacity:0\" cx=\"631.882\" cy=\"1368.89\" r=\"2\"/>\n",
       "<circle clip-path=\"url(#clip412)\" style=\"fill:#009af9; stroke:none; fill-opacity:0\" cx=\"682.816\" cy=\"1341.74\" r=\"2\"/>\n",
       "<circle clip-path=\"url(#clip412)\" style=\"fill:#009af9; stroke:none; fill-opacity:0\" cx=\"733.75\" cy=\"1270.49\" r=\"2\"/>\n",
       "<circle clip-path=\"url(#clip412)\" style=\"fill:#009af9; stroke:none; fill-opacity:0\" cx=\"784.683\" cy=\"1199.23\" r=\"2\"/>\n",
       "<circle clip-path=\"url(#clip412)\" style=\"fill:#009af9; stroke:none; fill-opacity:0\" cx=\"835.617\" cy=\"1088.95\" r=\"2\"/>\n",
       "<circle clip-path=\"url(#clip412)\" style=\"fill:#009af9; stroke:none; fill-opacity:0\" cx=\"886.551\" cy=\"980.369\" r=\"2\"/>\n",
       "<circle clip-path=\"url(#clip412)\" style=\"fill:#009af9; stroke:none; fill-opacity:0\" cx=\"937.484\" cy=\"810.71\" r=\"2\"/>\n",
       "<circle clip-path=\"url(#clip412)\" style=\"fill:#009af9; stroke:none; fill-opacity:0\" cx=\"988.418\" cy=\"693.645\" r=\"2\"/>\n",
       "<circle clip-path=\"url(#clip412)\" style=\"fill:#009af9; stroke:none; fill-opacity:0\" cx=\"1039.35\" cy=\"479.875\" r=\"2\"/>\n",
       "<circle clip-path=\"url(#clip412)\" style=\"fill:#009af9; stroke:none; fill-opacity:0\" cx=\"1090.28\" cy=\"367.9\" r=\"2\"/>\n",
       "<circle clip-path=\"url(#clip412)\" style=\"fill:#009af9; stroke:none; fill-opacity:0\" cx=\"1141.22\" cy=\"254.228\" r=\"2\"/>\n",
       "<circle clip-path=\"url(#clip412)\" style=\"fill:#009af9; stroke:none; fill-opacity:0\" cx=\"1192.15\" cy=\"169.399\" r=\"2\"/>\n",
       "<circle clip-path=\"url(#clip412)\" style=\"fill:#009af9; stroke:none; fill-opacity:0\" cx=\"1243.09\" cy=\"111.715\" r=\"2\"/>\n",
       "<circle clip-path=\"url(#clip412)\" style=\"fill:#009af9; stroke:none; fill-opacity:0\" cx=\"1294.02\" cy=\"47.2441\" r=\"2\"/>\n",
       "<circle clip-path=\"url(#clip412)\" style=\"fill:#009af9; stroke:none; fill-opacity:0\" cx=\"1344.95\" cy=\"150.736\" r=\"2\"/>\n",
       "<circle clip-path=\"url(#clip412)\" style=\"fill:#009af9; stroke:none; fill-opacity:0\" cx=\"1395.89\" cy=\"210.117\" r=\"2\"/>\n",
       "<circle clip-path=\"url(#clip412)\" style=\"fill:#009af9; stroke:none; fill-opacity:0\" cx=\"1446.82\" cy=\"367.9\" r=\"2\"/>\n",
       "<circle clip-path=\"url(#clip412)\" style=\"fill:#009af9; stroke:none; fill-opacity:0\" cx=\"1497.75\" cy=\"532.469\" r=\"2\"/>\n",
       "<circle clip-path=\"url(#clip412)\" style=\"fill:#009af9; stroke:none; fill-opacity:0\" cx=\"1548.69\" cy=\"707.218\" r=\"2\"/>\n",
       "<circle clip-path=\"url(#clip412)\" style=\"fill:#009af9; stroke:none; fill-opacity:0\" cx=\"1599.62\" cy=\"786.958\" r=\"2\"/>\n",
       "<circle clip-path=\"url(#clip412)\" style=\"fill:#009af9; stroke:none; fill-opacity:0\" cx=\"1650.55\" cy=\"985.459\" r=\"2\"/>\n",
       "<circle clip-path=\"url(#clip412)\" style=\"fill:#009af9; stroke:none; fill-opacity:0\" cx=\"1701.49\" cy=\"1100.83\" r=\"2\"/>\n",
       "<circle clip-path=\"url(#clip412)\" style=\"fill:#009af9; stroke:none; fill-opacity:0\" cx=\"1752.42\" cy=\"1199.23\" r=\"2\"/>\n",
       "<circle clip-path=\"url(#clip412)\" style=\"fill:#009af9; stroke:none; fill-opacity:0\" cx=\"1803.36\" cy=\"1263.7\" r=\"2\"/>\n",
       "<circle clip-path=\"url(#clip412)\" style=\"fill:#009af9; stroke:none; fill-opacity:0\" cx=\"1854.29\" cy=\"1345.14\" r=\"2\"/>\n",
       "<circle clip-path=\"url(#clip412)\" style=\"fill:#009af9; stroke:none; fill-opacity:0\" cx=\"1905.22\" cy=\"1370.59\" r=\"2\"/>\n",
       "<circle clip-path=\"url(#clip412)\" style=\"fill:#009af9; stroke:none; fill-opacity:0\" cx=\"1956.16\" cy=\"1380.77\" r=\"2\"/>\n",
       "<circle clip-path=\"url(#clip412)\" style=\"fill:#009af9; stroke:none; fill-opacity:0\" cx=\"2007.09\" cy=\"1401.12\" r=\"2\"/>\n",
       "<circle clip-path=\"url(#clip412)\" style=\"fill:#009af9; stroke:none; fill-opacity:0\" cx=\"2058.02\" cy=\"1413\" r=\"2\"/>\n",
       "<circle clip-path=\"url(#clip412)\" style=\"fill:#009af9; stroke:none; fill-opacity:0\" cx=\"2108.96\" cy=\"1411.3\" r=\"2\"/>\n",
       "<circle clip-path=\"url(#clip412)\" style=\"fill:#009af9; stroke:none; fill-opacity:0\" cx=\"2159.89\" cy=\"1423.18\" r=\"2\"/>\n",
       "<circle clip-path=\"url(#clip412)\" style=\"fill:#009af9; stroke:none; fill-opacity:0\" cx=\"2210.82\" cy=\"1421.48\" r=\"2\"/>\n",
       "</svg>\n"
      ],
      "text/html": [
       "<img src=\"data:image/png;base64,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\" />"
      ]
     },
     "execution_count": 21,
     "metadata": {},
     "output_type": "execute_result"
    }
   ],
   "source": [
    "using Plots\n",
    "gr(fmt=:png)\n",
    "histogram(zscores, xlabel=\"Z score\", ylabel=count, legend=false)"
   ]
  },
  {
   "cell_type": "markdown",
   "metadata": {},
   "source": [
    "## QQ plots"
   ]
  },
  {
   "cell_type": "code",
   "execution_count": 12,
   "metadata": {
    "collapsed": false
   },
   "outputs": [
    {
     "data": {
      "image/png": "[encoded data removed]"
     },
     "metadata": {},
     "output_type": "display_data"
    }
   ],
   "source": [
    "# gaussian\n",
    "qq(pvals, dpi=80, titles=\"Gaussian, $k causal SNPs\")\n",
    "display(\"image/png\", read(\"qqplot.png\"))"
   ]
  },
  {
   "cell_type": "code",
   "execution_count": 27,
   "metadata": {
    "collapsed": false
   },
   "outputs": [
    {
     "data": {
      "image/png": "[encoded data removed]"
     },
     "metadata": {},
     "output_type": "display_data"
    }
   ],
   "source": [
    "# Bernoulli\n",
    "qq(pvals, dpi=80, titles=\"Bernoulli, $k causal SNPs\")\n",
    "display(\"image/png\", read(\"qqplot.png\"))"
   ]
  },
  {
   "cell_type": "code",
   "execution_count": 24,
   "metadata": {
    "collapsed": false
   },
   "outputs": [
    {
     "data": {
      "image/png": "[encoded data removed]"
     },
     "metadata": {},
     "output_type": "display_data"
    }
   ],
   "source": [
    "qq(pvals, dpi=80, titles=\"Autodiff Bernoulli, $k causal SNPs\")\n",
    "display(\"image/png\", read(\"qqplot.png\"))"
   ]
  },
  {
   "cell_type": "code",
   "execution_count": null,
   "metadata": {
    "collapsed": true
   },
   "outputs": [],
   "source": []
  },
  {
   "cell_type": "code",
   "execution_count": null,
   "metadata": {
    "collapsed": true
   },
   "outputs": [],
   "source": []
  },
  {
   "cell_type": "code",
   "execution_count": null,
   "metadata": {
    "collapsed": true
   },
   "outputs": [],
   "source": []
  },
  {
   "cell_type": "code",
   "execution_count": null,
   "metadata": {
    "collapsed": true
   },
   "outputs": [],
   "source": []
  },
  {
   "cell_type": "code",
   "execution_count": null,
   "metadata": {
    "collapsed": true
   },
   "outputs": [],
   "source": []
  }
 ],
 "metadata": {
  "@webio": {
   "lastCommId": null,
   "lastKernelId": null
  },
  "kernelspec": {
   "display_name": "Julia 1.10.2",
   "language": "julia",
   "name": "julia-1.10"
  },
  "language_info": {
   "file_extension": ".jl",
   "mimetype": "application/julia",
   "name": "julia",
   "version": "1.10.2"
  },
  "toc": {
   "base_numbering": 1,
   "nav_menu": {},
   "number_sections": true,
   "sideBar": true,
   "skip_h1_title": false,
   "title_cell": "Table of Contents",
   "title_sidebar": "Contents",
   "toc_cell": false,
   "toc_position": {},
   "toc_section_display": true,
   "toc_window_display": false
  }
 },
 "nbformat": 4,
 "nbformat_minor": 2
}
