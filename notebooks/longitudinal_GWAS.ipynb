{
 "cells": [
  {
   "cell_type": "markdown",
   "metadata": {},
   "source": [
    "# Longitudinal QuasiCopula GWAS\n",
    "\n",
    "Here we adopt the variance component model framework\n",
    "\n",
    "$$\\mathbf{\\Gamma}_i(\\mathbf{\\theta}) = \\sum_{k=1}^m \\theta_k\\mathbf{V}_{ik}, \\quad \\theta_k \\ge 0$$"
   ]
  },
  {
   "cell_type": "code",
   "execution_count": 3,
   "metadata": {
    "collapsed": false
   },
   "outputs": [
    {
     "name": "stderr",
     "output_type": "stream",
     "text": [
      "\u001b[36m\u001b[1m[ \u001b[22m\u001b[39m\u001b[36m\u001b[1mInfo: \u001b[22m\u001b[39mPrecompiling QuasiCopula [c47b6ae2-b804-4668-9957-eb588c99ffbc]\n"
     ]
    },
    {
     "data": {
      "text/plain": [
       "1"
      ]
     },
     "execution_count": 3,
     "metadata": {},
     "output_type": "execute_result"
    }
   ],
   "source": [
    "using Revise\n",
    "using DataFrames, Random, GLM, QuasiCopula\n",
    "using ForwardDiff, Test, LinearAlgebra\n",
    "using LinearAlgebra: BlasReal, copytri!\n",
    "using ToeplitzMatrices\n",
    "using BenchmarkTools\n",
    "using SnpArrays\n",
    "using MendelPlots\n",
    "using Statistics\n",
    "using StatsBase\n",
    "\n",
    "ENV[\"COLUMNS\"] = 240\n",
    "BLAS.set_num_threads(1)\n",
    "Threads.nthreads()"
   ]
  },
  {
   "cell_type": "markdown",
   "metadata": {},
   "source": [
    "## Simulate data\n",
    "\n",
    "All SNPs have the same MAF"
   ]
  },
  {
   "cell_type": "code",
   "execution_count": 13,
   "metadata": {
    "collapsed": false
   },
   "outputs": [
    {
     "name": "stdout",
     "output_type": "stream",
     "text": [
      "qc_model = Quasi-Copula Variance Component Model\n",
      "  * base distribution: Bernoulli\n",
      "  * link function: LogitLink\n",
      "  * number of clusters: 5000\n",
      "  * cluster size min, max: 1, 5\n",
      "  * number of variance components: 1\n",
      "  * number of fixed effects: 3\n",
      "\n"
     ]
    }
   ],
   "source": [
    "k = 0 # number of causal SNPs\n",
    "maf = 0.3\n",
    "\n",
    "qc_model, G, βtrue, θtrue, γtrue, τtrue = simulate_longitudinal_traits(\n",
    "    n = 5000, # sample size\n",
    "    d_min = 1, # min number of observations per sample\n",
    "    d_max = 5, # max number of observations per sample\n",
    "    p = 3, # number of fixed effects, including intercept\n",
    "    m = 1, # number of variance components\n",
    "    q = 1000, # number of SNPs\n",
    "    k = k, # number of causal SNPs\n",
    "    seed = 2022,\n",
    "    y_distribution = Bernoulli,\n",
    "    τtrue = 0.01,\n",
    "    T = Float64,\n",
    "    maf = maf,\n",
    "    causal_snp_β = 0.2\n",
    ")\n",
    "\n",
    "@show qc_model;"
   ]
  },
  {
   "cell_type": "markdown",
   "metadata": {},
   "source": [
    "## Fit null model"
   ]
  },
  {
   "cell_type": "code",
   "execution_count": 21,
   "metadata": {
    "collapsed": false,
    "scrolled": true
   },
   "outputs": [
    {
     "name": "stdout",
     "output_type": "stream",
     "text": [
      "This is Ipopt version 3.13.4, running with linear solver mumps.\n",
      "NOTE: Other linear solvers might be more efficient (see Ipopt documentation).\n",
      "\n",
      "Starting derivative checker for first derivatives.\n",
      "\n",
      "\n",
      "No errors detected by derivative checker.\n",
      "\n",
      "Number of nonzeros in equality constraint Jacobian...:        0\n",
      "Number of nonzeros in inequality constraint Jacobian.:        0\n",
      "Number of nonzeros in Lagrangian Hessian.............:        0\n",
      "\n",
      "Total number of variables............................:        4\n",
      "                     variables with only lower bounds:        1\n",
      "                variables with lower and upper bounds:        0\n",
      "                     variables with only upper bounds:        0\n",
      "Total number of equality constraints.................:        0\n",
      "Total number of inequality constraints...............:        0\n",
      "        inequality constraints with only lower bounds:        0\n",
      "   inequality constraints with lower and upper bounds:        0\n",
      "        inequality constraints with only upper bounds:        0\n",
      "\n",
      "iter    objective    inf_pr   inf_du lg(mu)  ||d||  lg(rg) alpha_du alpha_pr  ls\n",
      "   0  8.6321512e+03 0.00e+00 1.00e+02   0.0 0.00e+00    -  0.00e+00 0.00e+00   0\n",
      "Warning: Cutting back alpha due to evaluation error\n",
      "Warning: Cutting back alpha due to evaluation error\n",
      "Warning: Cutting back alpha due to evaluation error\n",
      "Warning: Cutting back alpha due to evaluation error\n",
      "   1  8.6232559e+03 0.00e+00 1.74e+02 -10.2 1.00e+02    -  1.00e+00 9.77e-04f 11\n",
      "   2  8.6209004e+03 0.00e+00 2.57e+01  -3.8 1.29e-01    -  1.00e+00 2.50e-01f  3\n",
      "   3  8.6206695e+03 0.00e+00 4.49e+00 -10.4 1.29e-02    -  1.00e+00 1.00e+00f  1\n",
      "   4  8.6206622e+03 0.00e+00 7.52e-01 -11.0 3.21e-03    -  1.00e+00 1.00e+00f  1\n",
      "   5  8.6206617e+03 0.00e+00 2.53e-01  -9.4 6.04e-04    -  1.00e+00 1.00e+00f  1\n",
      "   6  8.6206616e+03 0.00e+00 3.99e-03 -11.0 1.61e-04    -  1.00e+00 1.00e+00f  1\n",
      "   7  8.6206616e+03 0.00e+00 5.64e-04 -11.0 3.53e-06    -  1.00e+00 1.00e+00f  1\n",
      "   8  8.6206616e+03 0.00e+00 3.28e-04 -11.0 2.71e-07    -  1.00e+00 1.00e+00f  1\n",
      "   9  8.6206616e+03 0.00e+00 7.20e-05 -11.0 1.21e-07    -  1.00e+00 1.00e+00f  1\n",
      "iter    objective    inf_pr   inf_du lg(mu)  ||d||  lg(rg) alpha_du alpha_pr  ls\n",
      "  10  8.6206616e+03 0.00e+00 3.58e-05 -11.0 4.68e-08    -  1.00e+00 1.00e+00f  1\n",
      "  11  8.6206616e+03 0.00e+00 6.00e-07 -11.0 2.48e-08    -  1.00e+00 1.00e+00f  1\n",
      "\n",
      "Number of Iterations....: 11\n",
      "\n",
      "                                   (scaled)                 (unscaled)\n",
      "Objective...............:   6.2927677216984521e+03    8.6206616192224519e+03\n",
      "Dual infeasibility......:   5.9982908242614164e-07    8.2172483995147370e-07\n",
      "Constraint violation....:   0.0000000000000000e+00    0.0000000000000000e+00\n",
      "Complementarity.........:   9.9999999999999962e-12    1.3699316422401947e-11\n",
      "Overall NLP error.......:   5.9982908242614164e-07    8.2172483995147370e-07\n",
      "\n",
      "\n",
      "Number of objective function evaluations             = 28\n",
      "Number of objective gradient evaluations             = 12\n",
      "Number of equality constraint evaluations            = 0\n",
      "Number of inequality constraint evaluations          = 0\n",
      "Number of equality constraint Jacobian evaluations   = 0\n",
      "Number of inequality constraint Jacobian evaluations = 0\n",
      "Number of Lagrangian Hessian evaluations             = 0\n",
      "Total CPU secs in IPOPT (w/o function evaluations)   =      0.042\n",
      "Total CPU secs in NLP function evaluations           =      0.128\n",
      "\n",
      "EXIT: Optimal Solution Found.\n",
      "  0.219160 seconds (739.04 k allocations: 14.443 MiB, 10.76% compilation time)\n"
     ]
    }
   ],
   "source": [
    "@time optm = QuasiCopula.fit!(qc_model,\n",
    "    Ipopt.IpoptSolver(\n",
    "        print_level = 5, \n",
    "        tol = 10^-6, \n",
    "        max_iter = 1000,\n",
    "        accept_after_max_steps = 10,\n",
    "        warm_start_init_point=\"yes\", \n",
    "        limited_memory_max_history = 6, # default value\n",
    "        hessian_approximation = \"limited-memory\",\n",
    "        derivative_test=\"first-order\"\n",
    "    )\n",
    ");"
   ]
  },
  {
   "cell_type": "code",
   "execution_count": 22,
   "metadata": {
    "collapsed": false
   },
   "outputs": [
    {
     "name": "stdout",
     "output_type": "stream",
     "text": [
      "βtrue = [1.0, -0.5, 0.5]\n",
      "qc_model.β = [1.0084080062401255, -0.5032114817029744, 0.4995534118086441]\n",
      "qc_model.∇β = [6.625219252098802e-7, 6.865436435535277e-7, -1.656041806463726e-7]\n",
      "θtrue = [0.1]\n",
      "qc_model.θ = [0.09381595040390994]\n",
      "qc_model.∇θ = [-8.218708632545813e-7]\n",
      "qc_model.τ = [1.0]\n",
      "qc_model.∇τ = [0.0]\n"
     ]
    }
   ],
   "source": [
    "@show βtrue\n",
    "@show qc_model.β\n",
    "@show qc_model.∇β\n",
    "\n",
    "@show θtrue\n",
    "@show qc_model.θ\n",
    "@show qc_model.∇θ;\n",
    "\n",
    "@show qc_model.τ\n",
    "@show qc_model.∇τ;"
   ]
  },
  {
   "cell_type": "markdown",
   "metadata": {},
   "source": [
    "## Score test GWAS"
   ]
  },
  {
   "cell_type": "code",
   "execution_count": 10,
   "metadata": {
    "collapsed": false
   },
   "outputs": [
    {
     "name": "stdout",
     "output_type": "stream",
     "text": [
      "Wtime = 24.863348343711525\n",
      "Qtime = 5.003755677004252\n",
      "Rtime = 0.9684843550326847\n",
      " 35.138363 seconds (488.49 M allocations: 34.853 GiB, 6.83% gc time, 5.55% compilation time)\n"
     ]
    },
    {
     "data": {
      "text/plain": [
       "1000-element Vector{Float64}:\n",
       " 0.8963678979454119\n",
       " 0.8730059475721652\n",
       " 0.27776490475379534\n",
       " 0.9879217368071667\n",
       " 0.4551035962533694\n",
       " 0.8278323577289538\n",
       " 0.3388834995000992\n",
       " 0.0012139867602387255\n",
       " 0.8219744346485873\n",
       " 0.19106664834718867\n",
       " 0.6940606684549804\n",
       " 0.4028622102529422\n",
       " 0.26343750737964855\n",
       " ⋮\n",
       " 0.14368145870756205\n",
       " 0.626150921581082\n",
       " 0.7357646380754397\n",
       " 0.8253124391881149\n",
       " 0.06937441280061031\n",
       " 0.17582738674787593\n",
       " 0.7840049505688851\n",
       " 0.49748598515186127\n",
       " 0.10705298755718713\n",
       " 0.49813051814348486\n",
       " 0.07167297445912846\n",
       " 0.523782932671687"
      ]
     },
     "execution_count": 10,
     "metadata": {},
     "output_type": "execute_result"
    }
   ],
   "source": [
    "# gaussian\n",
    "@time pvals = QuasiCopula.GWASCopulaVCModel(qc_model, G)"
   ]
  },
  {
   "cell_type": "code",
   "execution_count": 16,
   "metadata": {
    "collapsed": false
   },
   "outputs": [
    {
     "name": "stdout",
     "output_type": "stream",
     "text": [
      "Wtime = 27.70978494882905\n",
      "Qtime = 4.728491793979356\n",
      "Rtime = 1.2169664819484998\n",
      " 37.071799 seconds (514.18 M allocations: 36.208 GiB, 7.92% gc time, 2.49% compilation time)\n"
     ]
    },
    {
     "data": {
      "text/plain": [
       "1000-element Vector{Float64}:\n",
       " 0.24111253290901308\n",
       " 0.949945797667916\n",
       " 0.7552815131221867\n",
       " 0.12428671507354219\n",
       " 0.9550313387475392\n",
       " 0.37009055137260183\n",
       " 0.9206540699925326\n",
       " 0.05841157642049383\n",
       " 0.6254057180419972\n",
       " 0.2022806031629963\n",
       " 0.731331520532007\n",
       " 0.38458549352792065\n",
       " 0.05901182139076439\n",
       " ⋮\n",
       " 0.4446078593294592\n",
       " 0.7959088772831123\n",
       " 0.2906119689673303\n",
       " 0.4998466981064357\n",
       " 0.45012390017886145\n",
       " 0.20933795386912857\n",
       " 0.939495770510204\n",
       " 0.5213178108666833\n",
       " 0.21877853402727923\n",
       " 0.782672287554301\n",
       " 0.16851804542087398\n",
       " 0.500733508459739"
      ]
     },
     "execution_count": 16,
     "metadata": {},
     "output_type": "execute_result"
    }
   ],
   "source": [
    "# Bernoulli\n",
    "@time pvals = QuasiCopula.GWASCopulaVCModel(qc_model, G)"
   ]
  },
  {
   "cell_type": "code",
   "execution_count": 12,
   "metadata": {
    "collapsed": false
   },
   "outputs": [
    {
     "data": {
      "image/png": "[encoded data removed]"
     },
     "metadata": {},
     "output_type": "display_data"
    }
   ],
   "source": [
    "# gaussian\n",
    "qq(pvals, dpi=80, titles=\"Gaussian, $k causal SNPs\")\n",
    "display(\"image/png\", read(\"qqplot.png\"))"
   ]
  },
  {
   "cell_type": "code",
   "execution_count": 18,
   "metadata": {
    "collapsed": false
   },
   "outputs": [
    {
     "data": {
      "image/png": "[encoded data removed]"
     },
     "metadata": {},
     "output_type": "display_data"
    }
   ],
   "source": [
    "# Bernoulli\n",
    "qq(pvals, dpi=80, titles=\"Bernoulli, $k causal SNPs\")\n",
    "display(\"image/png\", read(\"qqplot.png\"))"
   ]
  },
  {
   "cell_type": "code",
   "execution_count": 23,
   "metadata": {
    "collapsed": false
   },
   "outputs": [
    {
     "name": "stdout",
     "output_type": "stream",
     "text": [
      " 15.632313 seconds (14.20 M allocations: 791.914 MiB, 1.08% gc time, 18.99% compilation time)\n"
     ]
    },
    {
     "data": {
      "text/plain": [
       "1000-element Vector{Float64}:\n",
       " 0.24078721114520044\n",
       " 0.9499464267776582\n",
       " 0.7552663701620361\n",
       " 0.12437754662832011\n",
       " 0.9550289144105244\n",
       " 0.37011726562375974\n",
       " 0.9206511392712703\n",
       " 0.058336768520394294\n",
       " 0.6254059794421668\n",
       " 0.20230092575615186\n",
       " 0.7313318917627681\n",
       " 0.3847447406534188\n",
       " 0.05892959577255896\n",
       " ⋮\n",
       " 0.4446337362982035\n",
       " 0.7959005011215401\n",
       " 0.2903783250666979\n",
       " 0.4998894492062646\n",
       " 0.450135641584682\n",
       " 0.20934744993799695\n",
       " 0.9394918471030926\n",
       " 0.5211611159054544\n",
       " 0.218456765429749\n",
       " 0.7826741623311051\n",
       " 0.16854076829713455\n",
       " 0.5006870020144161"
      ]
     },
     "execution_count": 23,
     "metadata": {},
     "output_type": "execute_result"
    }
   ],
   "source": [
    "# autodiff Bernoulli\n",
    "@time pvals = QuasiCopula.GWASCopulaVCModel_autodiff(qc_model, G)"
   ]
  },
  {
   "cell_type": "code",
   "execution_count": 24,
   "metadata": {
    "collapsed": false
   },
   "outputs": [
    {
     "data": {
      "image/png": "[encoded data removed]"
     },
     "metadata": {},
     "output_type": "display_data"
    }
   ],
   "source": [
    "qq(pvals, dpi=80, titles=\"Autodiff Bernoulli, $k causal SNPs\")\n",
    "display(\"image/png\", read(\"qqplot.png\"))"
   ]
  },
  {
   "cell_type": "code",
   "execution_count": null,
   "metadata": {
    "collapsed": true
   },
   "outputs": [],
   "source": []
  },
  {
   "cell_type": "code",
   "execution_count": null,
   "metadata": {
    "collapsed": true
   },
   "outputs": [],
   "source": []
  },
  {
   "cell_type": "code",
   "execution_count": null,
   "metadata": {
    "collapsed": true
   },
   "outputs": [],
   "source": []
  },
  {
   "cell_type": "code",
   "execution_count": null,
   "metadata": {
    "collapsed": true
   },
   "outputs": [],
   "source": []
  }
 ],
 "metadata": {
  "@webio": {
   "lastCommId": null,
   "lastKernelId": null
  },
  "kernelspec": {
   "display_name": "Julia 1.7.3",
   "language": "julia",
   "name": "julia-1.7"
  },
  "language_info": {
   "file_extension": ".jl",
   "mimetype": "application/julia",
   "name": "julia",
   "version": "1.7.3"
  },
  "toc": {
   "base_numbering": 1,
   "nav_menu": {},
   "number_sections": true,
   "sideBar": true,
   "skip_h1_title": false,
   "title_cell": "Table of Contents",
   "title_sidebar": "Contents",
   "toc_cell": false,
   "toc_position": {},
   "toc_section_display": true,
   "toc_window_display": false
  }
 },
 "nbformat": 4,
 "nbformat_minor": 2
}
