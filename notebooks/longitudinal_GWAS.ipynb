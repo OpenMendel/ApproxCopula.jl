{
 "cells": [
  {
   "cell_type": "markdown",
   "metadata": {},
   "source": [
    "# Longitudinal QuasiCopula GWAS with Mixed Marginals\n",
    "\n",
    "Here we adopt the variance component model framework\n",
    "\n",
    "$$\\mathbf{\\Gamma}_i(\\mathbf{\\theta}) = \\sum_{k=1}^m \\theta_k\\mathbf{V}_{ik}, \\quad \\theta_k \\ge 0$$"
   ]
  },
  {
   "cell_type": "code",
   "execution_count": 1,
   "metadata": {
    "collapsed": false
   },
   "outputs": [
    {
     "name": "stderr",
     "output_type": "stream",
     "text": [
      "┌ Info: Precompiling QuasiCopula [c47b6ae2-b804-4668-9957-eb588c99ffbc]\n",
      "└ @ Base loading.jl:1423\n"
     ]
    },
    {
     "data": {
      "text/plain": [
       "_make_snparray (generic function with 1 method)"
      ]
     },
     "execution_count": 1,
     "metadata": {},
     "output_type": "execute_result"
    }
   ],
   "source": [
    "using Revise\n",
    "using DataFrames, Random, GLM, QuasiCopula\n",
    "using ForwardDiff, Test, LinearAlgebra\n",
    "using LinearAlgebra: BlasReal, copytri!\n",
    "using ToeplitzMatrices\n",
    "using BenchmarkTools\n",
    "using SnpArrays\n",
    "using MendelPlots\n",
    "\n",
    "BLAS.set_num_threads(1)\n",
    "Threads.nthreads()\n",
    "\n",
    "function simulate_random_snparray(s::Union{String, UndefInitializer}, n::Int64,\n",
    "    p::Int64; mafs::Vector{Float64}=zeros(Float64, p), min_ma::Int = 5)\n",
    "\n",
    "    #first simulate a random {0, 1, 2} matrix with each SNP drawn from Binomial(2, r[i])\n",
    "    A1 = BitArray(undef, n, p) \n",
    "    A2 = BitArray(undef, n, p) \n",
    "    for j in 1:p\n",
    "        minor_alleles = 0\n",
    "        maf = 0\n",
    "        while minor_alleles <= min_ma\n",
    "            maf = 0.5rand()\n",
    "            for i in 1:n\n",
    "                A1[i, j] = rand(Bernoulli(maf))\n",
    "                A2[i, j] = rand(Bernoulli(maf))\n",
    "            end\n",
    "            minor_alleles = sum(view(A1, :, j)) + sum(view(A2, :, j))\n",
    "        end\n",
    "        mafs[j] = maf\n",
    "    end\n",
    "\n",
    "    #fill the SnpArray with the corresponding x_tmp entry\n",
    "    return _make_snparray(s, A1, A2)\n",
    "end\n",
    "\n",
    "function _make_snparray(s::Union{String, UndefInitializer}, A1::BitArray, A2::BitArray)\n",
    "    n, p = size(A1)\n",
    "    x = SnpArray(s, n, p)\n",
    "    for i in 1:(n*p)\n",
    "        c = A1[i] + A2[i]\n",
    "        if c == 0\n",
    "            x[i] = 0x00\n",
    "        elseif c == 1\n",
    "            x[i] = 0x02\n",
    "        elseif c == 2\n",
    "            x[i] = 0x03\n",
    "        else\n",
    "            throw(MissingException(\"matrix shouldn't have missing values!\"))\n",
    "        end\n",
    "    end\n",
    "    return x\n",
    "end\n"
   ]
  },
  {
   "cell_type": "markdown",
   "metadata": {},
   "source": [
    "## Simulate data"
   ]
  },
  {
   "cell_type": "code",
   "execution_count": 313,
   "metadata": {
    "collapsed": false
   },
   "outputs": [
    {
     "name": "stdout",
     "output_type": "stream",
     "text": [
      "qc_model = Quasi-Copula Variance Component Model\n",
      "  * base distribution: Normal\n",
      "  * link function: IdentityLink\n",
      "  * number of clusters: 1000\n",
      "  * cluster size min, max: 5, 5\n",
      "  * number of variance components: 1\n",
      "  * number of fixed effects: 3\n",
      "\n"
     ]
    }
   ],
   "source": [
    "function simulate_VC_longitudinal(;\n",
    "    n = 1000, # sample size\n",
    "    d = 5, # number of observations per sample\n",
    "    p = 3, # number of nongenetic covariates, including intercept\n",
    "    m = 2, # number of variance components\n",
    "    q = 1000, # number of SNPs\n",
    "    k = 10, # number of causal SNPs\n",
    "    seed = 2022,\n",
    "    y_distribution = Bernoulli,\n",
    "    T = Float64,\n",
    "    )\n",
    "    m == 1 || m == 2 || error(\"m (number of VC) must be 1 or 2\")\n",
    "    \n",
    "    # non-genetic effect sizes\n",
    "    Random.seed!(seed)\n",
    "    βtrue = y_distribution == Bernoulli ? rand(Uniform(-1, 1), p) : rand(Uniform(-0.2, 0.2), p)\n",
    "    dist = y_distribution()\n",
    "    link = canonicallink(dist)\n",
    "    Dist = typeof(dist)\n",
    "    Link = typeof(link)\n",
    "\n",
    "    # variance components\n",
    "    θtrue = fill(0.5, m)\n",
    "    V1 = ones(d, d)\n",
    "    V2 = Matrix(I, d, d)\n",
    "    Γ = m == 1 ? θtrue[1] * V1 : θtrue[1] * V1 + θtrue[2] * V2\n",
    "\n",
    "    # simulate design matrices\n",
    "    Random.seed!(seed)\n",
    "    X_full = [hcat(ones(d), randn(d, p - 1)) for i in 1:n]\n",
    "\n",
    "    # simulate random SnpArray with 100 SNPs and randomly choose 10 SNPs to be causal\n",
    "    Random.seed!(2022)\n",
    "    G = simulate_random_snparray(undef, n, q)\n",
    "    Gfloat = convert(Matrix{T}, G, center=true, scale=false)\n",
    "    γtrue = zeros(q)\n",
    "    γtrue[1:k] .= y_distribution == Bernoulli ? rand([-0.5, 0.5], k) : rand([-0.2, 0.2], k)\n",
    "    shuffle!(γtrue)\n",
    "    η_G = Gfloat * γtrue\n",
    "\n",
    "    # simulate phenotypes\n",
    "    if y_distribution == Normal\n",
    "        τtrue = 100.0\n",
    "        σ2 = inv(τtrue)\n",
    "        σ = sqrt(σ2)\n",
    "        obs = Vector{GaussianCopulaVCObs{T}}(undef, n)\n",
    "        for i in 1:n\n",
    "            X = X_full[i]\n",
    "            η = X * βtrue\n",
    "            η .+= η_G[i] # add genetic effects\n",
    "            μ = GLM.linkinv.(link, η)\n",
    "            vecd = Vector{ContinuousUnivariateDistribution}(undef, d)\n",
    "            for i in 1:d\n",
    "                vecd[i] = y_distribution(μ[i], σ)\n",
    "            end\n",
    "            nonmixed_multivariate_dist = NonMixedMultivariateDistribution(vecd, Γ)\n",
    "            # simuate single vector y\n",
    "            y = Vector{T}(undef, d)\n",
    "            res = Vector{T}(undef, d)\n",
    "            rand(nonmixed_multivariate_dist, y, res)\n",
    "            V = m == 1 ? [V1] : [V1, V2]\n",
    "            obs[i] = GaussianCopulaVCObs(y, X, V)\n",
    "        end\n",
    "        qc_model = GaussianCopulaVCModel(obs)\n",
    "    else\n",
    "        obs = Vector{GLMCopulaVCObs{T, Dist, Link}}(undef, n)\n",
    "        for i in 1:n\n",
    "            X = X_full[i]\n",
    "            η = X * βtrue\n",
    "            η .+= η_G[i] # add genetic effects\n",
    "            μ = GLM.linkinv.(link, η)\n",
    "            vecd = Vector{DiscreteUnivariateDistribution}(undef, d)\n",
    "            for i in 1:d\n",
    "                vecd[i] = y_distribution(μ[i])\n",
    "            end\n",
    "            nonmixed_multivariate_dist = NonMixedMultivariateDistribution(vecd, Γ)\n",
    "            # simuate single vector y\n",
    "            y = Vector{T}(undef, d)\n",
    "            res = Vector{T}(undef, d)\n",
    "            rand(nonmixed_multivariate_dist, y, res)\n",
    "            V = m == 1 ? [V1] : [V1, V2]\n",
    "            obs[i] = GLMCopulaVCObs(y, X, V, dist, link)\n",
    "        end\n",
    "        qc_model = GLMCopulaVCModel(obs)\n",
    "    end\n",
    "    return qc_model, Γ, G, βtrue, θtrue, γtrue\n",
    "end\n",
    "\n",
    "qc_model, Γ, G, βtrue, θtrue, γtrue = simulate_VC_longitudinal(\n",
    "    n = 1000, # sample size\n",
    "    d = 5, # number of observations per sample\n",
    "    p = 3, # number of fixed effects, including intercept\n",
    "    m = 1, # number of variance components\n",
    "    q = 2000,\n",
    "    k = 5,\n",
    "    seed = 2022,\n",
    "    y_distribution = Normal,\n",
    "    T = Float64,\n",
    ")\n",
    "\n",
    "@show qc_model;"
   ]
  },
  {
   "cell_type": "markdown",
   "metadata": {},
   "source": [
    "## Fit Null model"
   ]
  },
  {
   "cell_type": "code",
   "execution_count": 314,
   "metadata": {
    "collapsed": false,
    "scrolled": true
   },
   "outputs": [
    {
     "name": "stdout",
     "output_type": "stream",
     "text": [
      "gcm.β = [-0.15550572926344094, 0.16372588443239036, 0.010676808213106594]\n",
      "initializing dispersion using residual sum of squares\n",
      "gcm.τ = [11.474287996562166]\n",
      "initializing variance components using MM-Algorithm\n",
      "gcm.θ = [1.3496099647848838]\n",
      "This is Ipopt version 3.13.4, running with linear solver mumps.\n",
      "NOTE: Other linear solvers might be more efficient (see Ipopt documentation).\n",
      "\n",
      "Number of nonzeros in equality constraint Jacobian...:        0\n",
      "Number of nonzeros in inequality constraint Jacobian.:        0\n",
      "Number of nonzeros in Lagrangian Hessian.............:        0\n",
      "\n",
      "Total number of variables............................:        5\n",
      "                     variables with only lower bounds:        2\n",
      "                variables with lower and upper bounds:        0\n",
      "                     variables with only upper bounds:        0\n",
      "Total number of equality constraints.................:        0\n",
      "Total number of inequality constraints...............:        0\n",
      "        inequality constraints with only lower bounds:        0\n",
      "   inequality constraints with lower and upper bounds:        0\n",
      "        inequality constraints with only upper bounds:        0\n",
      "\n",
      "iter    objective    inf_pr   inf_du lg(mu)  ||d||  lg(rg) alpha_du alpha_pr  ls\n",
      "   0  2.7140432e+02 0.00e+00 1.00e+02   0.0 0.00e+00    -  0.00e+00 0.00e+00   0\n",
      "   1  1.5872516e+06 0.00e+00 4.41e+05  -3.8 1.00e+02    -  1.00e+00 6.25e-02h  5\n",
      "   2  2.7129972e+02 0.00e+00 2.53e+01  -3.9 6.25e+00    -  1.00e+00 1.00e+00f  1\n",
      "   3  2.7129330e+02 0.00e+00 6.73e+00  -5.7 3.73e-04    -  1.00e+00 1.00e+00f  1\n",
      "   4  2.7129280e+02 0.00e+00 1.48e-01  -7.6 1.36e-04    -  1.00e+00 1.00e+00f  1\n",
      "   5  2.7129280e+02 0.00e+00 5.70e-02  -9.5 2.96e-06    -  1.00e+00 1.00e+00f  1\n",
      "   6  2.7129280e+02 0.00e+00 5.70e-02  -9.6 8.52e-07    -  1.00e+00 1.00e+00f  1\n",
      "   7  2.7129280e+02 0.00e+00 6.88e-02  -9.6 7.42e-06    -  1.00e+00 1.00e+00f  1\n",
      "   8  2.7129280e+02 0.00e+00 4.77e-01 -11.0 5.34e-05    -  1.00e+00 1.00e+00f  1\n",
      "   9  2.7129280e+02 0.00e+00 1.15e+00 -11.0 2.14e-03    -  1.00e+00 1.25e-01f  4\n",
      "iter    objective    inf_pr   inf_du lg(mu)  ||d||  lg(rg) alpha_du alpha_pr  ls\n",
      "  10  2.7129278e+02 0.00e+00 5.29e-01 -11.0 1.43e-04    -  1.00e+00 1.00e+00f  1\n",
      "  11  2.7129283e+02 0.00e+00 1.97e+00 -11.0 3.06e-03    -  1.00e+00 6.25e-02h  5\n",
      "  12  2.7129276e+02 0.00e+00 1.85e-01 -11.0 4.12e-04    -  1.00e+00 1.00e+00f  1\n",
      "  13  2.7129276e+02 0.00e+00 6.87e-02 -11.0 3.38e-04    -  1.00e+00 1.00e+00f  1\n",
      "  14  2.7129276e+02 0.00e+00 1.38e-01 -11.0 1.26e-04    -  1.00e+00 1.00e+00f  1\n",
      "  15  2.7129278e+02 0.00e+00 1.31e+00 -11.0 2.40e-03    -  1.00e+00 6.25e-02h  5\n",
      "  16  2.7129276e+02 0.00e+00 6.02e-02 -11.0 1.04e-04    -  1.00e+00 1.00e+00f  1\n",
      "  17  2.7129276e+02 0.00e+00 1.12e-01 -11.0 7.83e-05    -  1.00e+00 2.50e-01f  3\n",
      "  18  2.7129276e+02 0.00e+00 5.05e-02 -11.0 4.23e-03    -  1.00e+00 6.25e-02f  5\n",
      "  19  2.7129316e+02 0.00e+00 4.01e+00 -11.0 4.20e-02    -  1.00e+00 6.25e-02h  5\n",
      "iter    objective    inf_pr   inf_du lg(mu)  ||d||  lg(rg) alpha_du alpha_pr  ls\n",
      "  20  2.7129276e+02 0.00e+00 1.89e-01 -11.0 2.58e-03    -  1.00e+00 1.00e+00f  1\n",
      "  21  2.7129276e+02 0.00e+00 1.47e-01 -11.0 1.62e-03    -  1.00e+00 6.25e-02h  5\n",
      "  22  2.7129276e+02 0.00e+00 1.14e-01 -11.0 1.21e-03    -  1.00e+00 6.25e-02f  5\n",
      "  23  2.7129276e+02 0.00e+00 4.77e-02 -11.0 1.63e-04    -  1.00e+00 5.00e-01f  2\n",
      "  24  2.7129276e+02 0.00e+00 2.91e-01 -11.0 2.14e-03    -  1.00e+00 6.25e-02h  5\n",
      "  25  2.7129276e+02 0.00e+00 2.38e-01 -11.0 5.32e-04    -  1.00e+00 5.00e-01f  2\n",
      "  26  2.7129305e+02 0.00e+00 4.44e+00 -11.0 4.69e-02    -  1.00e+00 6.25e-02h  5\n",
      "  27  2.7129276e+02 0.00e+00 2.99e-03 -11.0 2.75e-03    -  1.00e+00 1.00e+00f  1\n",
      "  28  2.7129276e+02 0.00e+00 4.73e-02 -11.0 6.32e-04    -  1.00e+00 6.25e-02h  5\n",
      "  29  2.7129276e+02 0.00e+00 3.96e-02 -11.0 8.13e-05    -  1.00e+00 1.25e-01f  4\n",
      "iter    objective    inf_pr   inf_du lg(mu)  ||d||  lg(rg) alpha_du alpha_pr  ls\n",
      "  30  2.7129276e+02 0.00e+00 6.18e-02 -11.0 5.76e-04    -  1.00e+00 6.25e-02h  5\n",
      "  31  2.7129276e+02 0.00e+00 2.23e-01 -11.0 4.33e-03    -  1.00e+00 6.25e-02h  5\n",
      "  32  2.7129276e+02 0.00e+00 6.19e-03 -11.0 2.31e-04    -  1.00e+00 1.00e+00f  1\n",
      "  33  2.7129276e+02 0.00e+00 7.59e-02 -11.0 4.02e-03    -  1.00e+00 6.25e-02h  5\n",
      "  34  2.7129276e+02 0.00e+00 4.15e-02 -11.0 2.04e-04    -  1.00e+00 1.00e+00f  1\n",
      "  35  2.7129321e+02 0.00e+00 5.14e+00 -11.0 7.37e-02    -  1.00e+00 6.25e-02h  5\n",
      "  36  2.7129276e+02 0.00e+00 8.38e-02 -11.0 4.60e-03    -  1.00e+00 1.00e+00f  1\n",
      "  37  2.7129335e+02 0.00e+00 8.27e+00 -11.0 3.54e-02    -  1.00e+00 6.25e-02h  5\n",
      "  38  2.7129277e+02 0.00e+00 6.24e-01 -11.0 2.23e-03    -  1.00e+00 1.00e+00f  1\n",
      "  39  2.7129389e+02 0.00e+00 7.83e+00 -11.0 2.87e-02    -  1.00e+00 6.25e-02h  5\n",
      "iter    objective    inf_pr   inf_du lg(mu)  ||d||  lg(rg) alpha_du alpha_pr  ls\n",
      "  40  2.7129283e+02 0.00e+00 7.78e-01 -11.0 3.16e-03    -  1.00e+00 1.00e+00f  1\n",
      "  41  2.7129343e+02 0.00e+00 4.63e+00 -11.0 1.36e-01    -  1.00e+00 6.25e-02h  5\n",
      "  42  2.7129321e+02 0.00e+00 3.99e+00 -11.0 1.44e-02    -  1.00e+00 2.50e-01f  3\n",
      "  43  2.7129304e+02 0.00e+00 3.89e+00 -11.0 2.90e-03    -  1.00e+00 5.00e-01f  2\n",
      "  44  2.7129430e+02 0.00e+00 3.25e+00 -11.0 2.71e-01    -  1.00e+00 6.25e-02h  5\n",
      "  45  2.7129276e+02 0.00e+00 3.11e-01 -11.0 1.28e-02    -  1.00e+00 1.00e+00f  1\n",
      "  46  2.7130893e+02 0.00e+00 4.37e+01 -11.0 1.93e-01    -  1.00e+00 6.25e-02h  5\n",
      "  47  2.7129305e+02 0.00e+00 4.03e+00 -11.0 1.40e-02    -  1.00e+00 1.00e+00f  1\n",
      "  48  2.7139291e+02 0.00e+00 7.53e+01 -11.0 5.14e-01    -  1.00e+00 6.25e-02h  5\n",
      "  49  2.7129277e+02 0.00e+00 1.68e-01 -11.0 3.00e-02    -  1.00e+00 1.00e+00f  1\n",
      "iter    objective    inf_pr   inf_du lg(mu)  ||d||  lg(rg) alpha_du alpha_pr  ls\n",
      "  50  2.7129286e+02 0.00e+00 2.41e+00 -11.0 1.86e-03    -  1.00e+00 6.25e-02h  5\n",
      "  51  2.7129277e+02 0.00e+00 5.43e-02 -11.0 7.54e-05    -  1.00e+00 1.00e+00f  1\n",
      "  52  2.7129277e+02 0.00e+00 5.17e-02 -11.0 1.67e-05    -  1.00e+00 1.00e+00f  1\n",
      "  53  2.7129277e+02 0.00e+00 2.84e-01 -11.0 1.68e-02    -  1.00e+00 6.25e-02h  5\n",
      "  54  2.7129278e+02 0.00e+00 8.41e-01 -11.0 5.03e-03    -  1.00e+00 6.25e-02h  5\n",
      "  55  2.7129277e+02 0.00e+00 6.54e-01 -11.0 5.10e-03    -  1.00e+00 1.25e-01f  4\n",
      "  56  2.7129279e+02 0.00e+00 1.32e+00 -11.0 8.29e-03    -  1.00e+00 6.25e-02h  5\n",
      "  57  2.7129277e+02 0.00e+00 7.25e-01 -11.0 1.68e-03    -  1.00e+00 5.00e-01f  2\n",
      "  58  2.7129281e+02 0.00e+00 1.07e+00 -11.0 1.71e-02    -  1.00e+00 6.25e-02h  5\n",
      "  59  2.7129281e+02 0.00e+00 1.44e+00 -11.0 1.10e-02    -  1.00e+00 1.25e-01f  4\n",
      "iter    objective    inf_pr   inf_du lg(mu)  ||d||  lg(rg) alpha_du alpha_pr  ls\n",
      "  60  2.7129290e+02 0.00e+00 2.88e+00 -11.0 1.84e-02    -  1.00e+00 6.25e-02h  5\n",
      "  61  2.7129289e+02 0.00e+00 2.28e+00 -11.0 1.91e-02    -  1.00e+00 6.25e-02f  5\n",
      "  62  2.7129352e+02 0.00e+00 8.41e+00 -11.0 2.94e-02    -  1.00e+00 6.25e-02h  5\n",
      "  63  2.7129395e+02 0.00e+00 9.15e+00 -11.0 3.21e-03    -  1.00e+00 1.00e+00w  1\n",
      "  64  2.7131465e+02 0.00e+00 3.34e+01 -11.0 2.39e-02    -  1.00e+00 1.00e+00w  1\n",
      "  65  2.7470436e+02 0.00e+00 4.13e+02 -11.0 1.66e-01    -  1.00e+00 1.00e+00w  1\n",
      "  66  2.7129306e+02 0.00e+00 4.08e+00 -11.0 2.08e-01    -  1.00e+00 5.00e-01f  1\n",
      "  67  2.7129312e+02 0.00e+00 2.64e+00 -11.0 5.16e-02    -  1.00e+00 6.25e-02h  5\n",
      "  68  2.7129431e+02 0.00e+00 9.73e+00 -11.0 1.78e-01    -  1.00e+00 6.25e-02h  5\n",
      "  69  2.7129345e+02 0.00e+00 4.86e+00 -11.0 3.59e-03    -  1.00e+00 5.00e-01f  2\n",
      "iter    objective    inf_pr   inf_du lg(mu)  ||d||  lg(rg) alpha_du alpha_pr  ls\n",
      "  70  2.7129317e+02 0.00e+00 1.75e+00 -11.0 2.25e-02    -  1.00e+00 2.50e-01f  3\n",
      "  71  2.7150185e+02 0.00e+00 1.23e+02 -11.0 7.17e-01    -  1.00e+00 6.25e-02h  5\n",
      "  72  2.7138498e+02 0.00e+00 4.52e+01 -11.0 1.28e-02    -  1.00e+00 1.00e+00f  1\n",
      "  73  2.7131043e+02 0.00e+00 3.01e+01 -11.0 1.13e-01    -  1.00e+00 5.00e-01f  2\n",
      "  74  2.7215760e+02 0.00e+00 2.06e+02 -11.0 1.36e+01    -  1.00e+00 1.78e-02h  5\n",
      "  75  2.7211670e+02 0.00e+00 2.03e+02 -11.0 4.20e-01    -  1.00e+00 1.25e-01f  4\n",
      "  76  2.7288991e+02 0.00e+00 3.48e+02 -11.0 1.16e+00    -  1.00e+00 6.25e-02h  5\n",
      "  77  2.7279619e+02 0.00e+00 1.81e+02 -11.0 3.16e-01    -  1.00e+00 5.00e-01f  2\n",
      "  78  2.7557574e+02 0.00e+00 3.31e+02 -11.0 1.61e+01    -  9.02e-01 5.47e-02h  5\n",
      "  79  2.7528822e+02 0.00e+00 4.46e+02 -11.0 2.50e+00    -  1.00e+00 5.83e-02f  5\n",
      "iter    objective    inf_pr   inf_du lg(mu)  ||d||  lg(rg) alpha_du alpha_pr  ls\n",
      "  80  2.7889727e+02 0.00e+00 5.25e+02 -11.0 5.74e+00    -  1.95e-01 6.25e-02h  5\n",
      "  81  2.7831191e+02 0.00e+00 4.97e+02 -11.0 6.04e+00    -  1.00e+00 1.25e-01f  4\n",
      "  82  2.9268089e+02 0.00e+00 1.03e+03 -11.0 3.60e+01    -  1.00e+00 1.72e-02h  5\n",
      "  83  2.7149660e+02 0.00e+00 1.44e+02 -11.0 9.04e-01    -  1.00e+00 1.00e+00f  1\n",
      "  84  2.7233305e+02 0.00e+00 1.54e+02 -11.0 7.62e+01    -  2.08e-01 4.12e-03h  5\n",
      "  85  2.7188904e+02 0.00e+00 2.13e+02 -11.0 2.69e-01    -  1.00e+00 1.00e+00f  1\n",
      "  86  2.9020818e+02 0.00e+00 6.42e+02 -11.0 1.59e+01    -  1.00e-01 6.25e-02h  5\n",
      "  87  2.9093456e+02 0.00e+00 1.01e+03 -11.0 1.00e+02    -  1.00e+00 5.00e-03h  5\n",
      "  88  2.9440271e+02 0.00e+00 1.06e+03 -11.0 2.02e+00    -  1.00e+00 6.25e-02h  5\n",
      "  89  2.7391119e+02 0.00e+00 3.46e+02 -11.0 2.09e+00    -  1.00e+00 5.00e-01f  2\n",
      "iter    objective    inf_pr   inf_du lg(mu)  ||d||  lg(rg) alpha_du alpha_pr  ls\n",
      "  90  2.8262630e+02 0.00e+00 6.48e+02 -11.0 6.71e+00    -  5.34e-01 6.25e-02h  5\n",
      "  91  2.8254996e+02 0.00e+00 6.39e+02 -11.0 1.41e+00    -  1.00e+00 5.00e-01f  2\n",
      "  92  2.8260799e+02 0.00e+00 6.77e+02 -11.0 9.52e+00    -  1.00e+00 1.30e-02h  5\n",
      "  93  2.8923437e+02 0.00e+00 1.28e+03 -11.0 7.96e+00    -  1.00e+00 6.25e-02h  5\n",
      "  94  3.1437386e+02 0.00e+00 1.19e+03 -11.0 3.13e+01    -  4.39e-01 6.25e-02h  5\n",
      "  95  3.1276405e+02 0.00e+00 1.09e+03 -11.0 2.67e+01    -  1.00e+00 3.45e-02f  2\n",
      "  96  5.3569475e+04 0.00e+00 2.40e+11 -11.0 3.20e+01    -  7.51e-02 5.08e-01w  1\n",
      "  97  5.3528460e+04 0.00e+00 2.36e+11 -11.0 2.52e+11    -  9.59e-11 6.46e-22w  1\n",
      "In iteration 97, 1 Slack too small, adjusting variable bound\n",
      "  98  5.3528460e+04 0.00e+00 1.81e+11 -11.0 3.94e+00    -  1.00e+00 4.14e-12w  1\n",
      "  99  3.1714082e+02 0.00e+00 2.03e+03 -11.0 3.94e+00    -  7.51e-02 1.59e-02h  5\n",
      "iter    objective    inf_pr   inf_du lg(mu)  ||d||  lg(rg) alpha_du alpha_pr  ls\n",
      " 100  3.1453985e+02 0.00e+00 1.71e+03 -11.0 1.54e+00    -  1.00e+00 1.80e-01f  3\n",
      " 101  5.3271623e+08 0.00e+00 3.37e+07 -11.0 1.71e+03    -  1.35e-02 6.25e-02h  5\n",
      " 102  8.0946144e+03 0.00e+00 2.97e+04 -11.0 1.07e+02    -  1.00e+00 1.00e+00f  1\n",
      " 103  4.8298319e+02 0.00e+00 4.68e+03 -11.0 7.53e+00    -  1.00e+00 6.25e-02f  5\n",
      " 104  2.8846576e+02 0.00e+00 5.99e+01 -11.0 6.43e-02    -  1.00e+00 1.00e+00f  1\n",
      " 105  2.8837095e+02 0.00e+00 5.97e+01 -11.0 8.78e-04    -  1.00e+00 1.00e+00f  1\n",
      " 106  2.8817997e+02 0.00e+00 5.90e+01 -11.0 3.39e-03    -  1.00e+00 1.00e+00f  1\n",
      " 107  2.8807009e+02 0.00e+00 3.87e+02 -11.0 5.03e-02    -  1.00e+00 5.00e-01f  2\n",
      " 108  2.8529955e+02 0.00e+00 4.80e+02 -11.0 1.07e-01    -  1.00e+00 1.00e+00f  1\n",
      " 109  2.8300752e+02 0.00e+00 5.10e+02 -11.0 1.17e-01    -  1.00e+00 5.00e-01f  2\n",
      "iter    objective    inf_pr   inf_du lg(mu)  ||d||  lg(rg) alpha_du alpha_pr  ls\n",
      " 110  2.7825427e+02 0.00e+00 1.76e+02 -11.0 5.97e-02    -  1.00e+00 1.00e+00f  1\n",
      " 111  2.7520098e+02 0.00e+00 1.80e+02 -11.0 2.21e-01    -  1.00e+00 1.00e+00f  1\n",
      " 112  2.7438285e+02 0.00e+00 1.81e+02 -11.0 1.24e-01    -  1.00e+00 5.00e-01f  2\n",
      " 113  2.7369934e+02 0.00e+00 8.02e+01 -11.0 5.17e-02    -  1.00e+00 1.00e+00f  1\n",
      " 114  2.7770407e+02 0.00e+00 6.53e+02 -11.0 1.60e+00    -  8.72e-01 6.25e-02h  5\n",
      " 115  2.7246805e+02 0.00e+00 7.77e+01 -11.0 1.75e-01    -  1.00e+00 1.00e+00f  1\n",
      " 116  2.7205071e+02 0.00e+00 2.13e+02 -11.0 4.20e+00    -  1.00e+00 6.25e-02f  5\n",
      " 117  2.7992808e+02 0.00e+00 5.46e+02 -11.0 1.55e+01    -  1.00e+00 6.08e-02h  5\n",
      " 118  2.7982096e+02 0.00e+00 4.64e+02 -11.0 3.30e+01    -  1.00e+00 5.43e-03f  4\n",
      " 119  2.7146836e+02 0.00e+00 1.35e+02 -11.0 9.25e-01    -  9.71e-01 1.00e+00f  1\n",
      "iter    objective    inf_pr   inf_du lg(mu)  ||d||  lg(rg) alpha_du alpha_pr  ls\n",
      " 120  2.7222155e+02 0.00e+00 2.03e+02 -11.0 1.13e+02    -  1.34e-01 1.81e-03h  5\n",
      " 121  2.7129323e+02 0.00e+00 3.67e+00 -11.0 2.19e-01    -  1.00e+00 1.00e+00f  1\n",
      " 122  2.7190479e+02 0.00e+00 2.54e+02 -11.0 8.72e-01    -  1.00e+00 6.25e-02h  5\n",
      " 123  2.7181464e+02 0.00e+00 1.91e+02 -11.0 1.33e-01    -  1.00e+00 5.00e-01f  2\n",
      " 124  2.7535477e+02 0.00e+00 4.82e+02 -11.0 6.06e+00    -  6.82e-01 6.25e-02h  5\n",
      " 125  2.7526844e+02 0.00e+00 4.28e+02 -11.0 1.76e+00    -  1.00e+00 1.03e-01f  4\n",
      " 126  2.7561435e+02 0.00e+00 4.00e+02 -11.0 2.06e+01    -  1.00e+00 2.09e-02h  5\n",
      " 127  3.8248129e+02 0.00e+00 2.40e+03 -11.0 5.02e+00    -  2.03e-01 6.25e-02h  5\n",
      " 128  2.8842826e+02 0.00e+00 7.51e+02 -11.0 5.47e-01    -  1.00e+00 1.00e+00f  1\n",
      " 129  2.7965138e+02 0.00e+00 6.15e+02 -11.0 3.17e+01    -  4.34e-01 4.36e-02f  3\n",
      "iter    objective    inf_pr   inf_du lg(mu)  ||d||  lg(rg) alpha_du alpha_pr  ls\n",
      " 130  2.9009950e+02 0.00e+00 9.86e+02 -11.0 5.00e+00    -  4.18e-01 6.25e-02h  5\n",
      " 131  2.7845557e+02 0.00e+00 5.29e+02 -11.0 1.08e+00    -  1.00e+00 1.00e+00f  1\n",
      " 132  2.7829291e+02 0.00e+00 6.40e+02 -11.0 4.85e+00    -  1.00e+00 4.00e-02f  4\n",
      " 133  2.7850973e+02 0.00e+00 5.03e+02 -11.0 4.58e+01    -  1.00e+00 4.79e-03h  5\n",
      " 134  2.7625010e+02 0.00e+00 5.32e+02 -11.0 2.01e+00    -  1.00e+00 5.00e-01f  2\n",
      " 135  2.9624429e+02 0.00e+00 1.07e+03 -11.0 2.50e+01    -  8.23e-01 3.84e-02h  5\n",
      " 136  2.9651991e+02 0.00e+00 1.46e+03 -11.0 3.32e+00    -  1.00e+00 2.61e-02h  5\n",
      " 137  2.7822918e+02 0.00e+00 6.68e+02 -11.0 7.42e-01    -  1.00e+00 1.00e+00f  1\n",
      " 138  2.7133133e+02 0.00e+00 3.50e+01 -11.0 2.38e-01    -  1.00e+00 1.00e+00f  1\n",
      " 139  2.7133273e+02 0.00e+00 4.04e+01 -11.0 3.47e-01    -  1.00e+00 6.25e-02h  5\n",
      "iter    objective    inf_pr   inf_du lg(mu)  ||d||  lg(rg) alpha_du alpha_pr  ls\n",
      " 140  2.7635316e+02 0.00e+00 5.36e+02 -11.0 8.40e+00    -  2.97e-01 6.25e-02h  5\n",
      " 141  2.9998858e+02 0.00e+00 7.70e+02 -11.0 2.25e+01    -  7.77e-01 6.25e-02h  5\n",
      " 142  2.7567798e+02 0.00e+00 3.65e+02 -11.0 2.40e+00    -  1.00e+00 1.00e+00f  1\n",
      " 143  5.4059337e+02 0.00e+00 4.08e+03 -11.0 3.32e+01    -  5.79e-02 2.73e-02h  5\n",
      " 144  2.7155810e+02 0.00e+00 7.21e+01 -11.0 1.47e+00    -  1.00e+00 1.00e+00f  1\n",
      " 145  2.7235306e+02 0.00e+00 2.80e+02 -11.0 2.08e+00    -  1.00e+00 6.25e-02h  5\n",
      " 146  2.7220993e+02 0.00e+00 2.78e+02 -11.0 8.41e+00    -  1.00e+00 1.05e-02f  5\n",
      " 147  2.7365196e+02 0.00e+00 4.44e+02 -11.0 3.55e+00    -  1.00e+00 2.34e-02h  5\n",
      " 148  2.7132676e+02 0.00e+00 6.07e+01 -11.0 1.07e-01    -  9.62e-01 1.00e+00f  1\n",
      " 149  2.7131690e+02 0.00e+00 4.94e+01 -11.0 7.09e-01    -  1.00e+00 6.25e-02f  5\n",
      "iter    objective    inf_pr   inf_du lg(mu)  ||d||  lg(rg) alpha_du alpha_pr  ls\n",
      " 150  2.7131292e+02 0.00e+00 4.88e+01 -11.0 8.82e-02    -  1.00e+00 2.50e-01f  3\n",
      " 151  2.7132041e+02 0.00e+00 4.99e+01 -11.0 1.44e-01    -  1.00e+00 6.25e-02h  5\n",
      " 152  2.7132120e+02 0.00e+00 3.96e+01 -11.0 1.27e-01    -  1.00e+00 6.25e-02h  5\n",
      " 153  2.7131145e+02 0.00e+00 2.43e+01 -11.0 6.88e-02    -  1.00e+00 5.00e-01f  2\n",
      " 154  2.7136704e+02 0.00e+00 7.41e+01 -11.0 6.02e-01    -  1.00e+00 6.25e-02h  5\n",
      " 155  2.7130947e+02 0.00e+00 2.58e+01 -11.0 2.77e-02    -  1.00e+00 1.00e+00f  1\n",
      " 156  2.7130417e+02 0.00e+00 2.89e+01 -11.0 7.99e-01    -  1.00e+00 6.25e-02f  5\n",
      " 157  2.7780764e+02 0.00e+00 6.52e+02 -11.0 1.11e+00    -  1.00e+00 6.25e-02h  5\n",
      " 158  2.7129292e+02 0.00e+00 3.51e+00 -11.0 8.45e-02    -  1.00e+00 1.00e+00f  1\n",
      " 159  2.7129290e+02 0.00e+00 2.96e+00 -11.0 2.06e-02    -  1.00e+00 6.25e-02f  5\n",
      "iter    objective    inf_pr   inf_du lg(mu)  ||d||  lg(rg) alpha_du alpha_pr  ls\n",
      " 160  2.7129303e+02 0.00e+00 3.62e+00 -11.0 4.24e-02    -  1.00e+00 6.25e-02h  5\n",
      " 161  2.7129283e+02 0.00e+00 2.01e+00 -11.0 1.41e-03    -  1.00e+00 1.00e+00f  1\n",
      " 162  2.7129308e+02 0.00e+00 4.38e+00 -11.0 2.75e-02    -  1.00e+00 6.25e-02h  5\n",
      " 163  2.7129278e+02 0.00e+00 6.77e-01 -11.0 9.08e-04    -  1.00e+00 1.00e+00f  1\n",
      " 164  2.7129277e+02 0.00e+00 2.38e-01 -11.0 2.31e-03    -  1.00e+00 1.00e+00f  1\n",
      " 165  2.7129330e+02 0.00e+00 6.40e+00 -11.0 4.74e-03    -  1.00e+00 6.25e-02h  5\n",
      " 166  2.7129276e+02 0.00e+00 2.62e-02 -11.0 5.65e-04    -  1.00e+00 1.00e+00f  1\n",
      " 167  2.7129276e+02 0.00e+00 8.44e-03 -11.0 3.04e-04    -  1.00e+00 2.50e-01f  3\n",
      " 168  2.7129276e+02 0.00e+00 3.24e-01 -11.0 2.50e-03    -  1.00e+00 6.25e-02h  5\n",
      " 169  2.7129276e+02 0.00e+00 2.20e-03 -11.0 1.52e-04    -  1.00e+00 1.00e+00f  1\n",
      "iter    objective    inf_pr   inf_du lg(mu)  ||d||  lg(rg) alpha_du alpha_pr  ls\n",
      " 170  2.7129276e+02 0.00e+00 8.91e-02 -11.0 5.47e-04    -  1.00e+00 6.25e-02h  5\n",
      " 171  2.7129276e+02 0.00e+00 1.65e-02 -11.0 6.18e-06    -  1.00e+00 1.00e+00f  1\n",
      " 172  2.7129276e+02 0.00e+00 1.17e-02 -11.0 1.32e-04    -  1.00e+00 5.00e-01f  2\n",
      " 173  2.7129276e+02 0.00e+00 1.92e-02 -11.0 1.15e-05    -  1.00e+00 6.25e-02h  5\n",
      " 174  2.7129276e+02 0.00e+00 2.11e-03 -11.0 2.78e-05    -  1.00e+00 1.00e+00f  1\n",
      " 175  2.7129276e+02 0.00e+00 6.27e-03 -11.0 2.66e-05    -  1.00e+00 6.25e-02h  5\n",
      " 176  2.7129276e+02 0.00e+00 4.53e-03 -11.0 1.61e-06    -  1.00e+00 1.00e+00f  1\n",
      " 177  2.7129276e+02 0.00e+00 1.50e-02 -11.0 1.38e-04    -  1.00e+00 6.25e-02h  5\n",
      " 178  2.7129276e+02 0.00e+00 1.57e-04 -11.0 6.90e-06    -  1.00e+00 1.00e+00f  1\n",
      " 179  2.7129276e+02 0.00e+00 1.45e-03 -11.0 2.28e-05    -  1.00e+00 6.25e-02h  5\n",
      "iter    objective    inf_pr   inf_du lg(mu)  ||d||  lg(rg) alpha_du alpha_pr  ls\n",
      " 180  2.7129276e+02 0.00e+00 1.01e-03 -11.0 2.65e-05    -  1.00e+00 6.25e-02h  5\n",
      " 181  2.7129276e+02 0.00e+00 2.80e-03 -11.0 5.81e-05    -  1.00e+00 6.25e-02h  5\n",
      " 182  2.7129276e+02 0.00e+00 1.53e-03 -11.0 1.71e-05    -  1.00e+00 1.25e-01f  4\n",
      " 183  2.7129276e+02 0.00e+00 1.16e-02 -11.0 5.82e-05    -  1.00e+00 6.25e-02h  5\n",
      " 184  2.7129276e+02 0.00e+00 9.05e-05 -11.0 5.45e-06    -  1.00e+00 1.00e+00f  1\n",
      " 185  2.7129276e+02 0.00e+00 2.77e-04 -11.0 1.04e-06    -  1.00e+00 1.25e-01f  4\n",
      " 186  2.7129276e+02 0.00e+00 3.40e-04 -11.0 1.64e-05    -  1.00e+00 6.25e-02h  5\n",
      " 187  2.7129276e+02 0.00e+00 2.40e-03 -11.0 2.34e-05    -  1.00e+00 6.25e-02h  5\n",
      " 188  2.7129276e+02 0.00e+00 5.73e-04 -11.0 1.19e-06    -  1.00e+00 1.00e+00f  1\n",
      " 189  2.7129276e+02 0.00e+00 5.58e-03 -11.0 7.55e-05    -  1.00e+00 6.25e-02h  5\n",
      "iter    objective    inf_pr   inf_du lg(mu)  ||d||  lg(rg) alpha_du alpha_pr  ls\n",
      " 190  2.7129276e+02 0.00e+00 6.92e-03 -11.0 2.19e-06    -  1.00e+00 1.00e+00f  1\n",
      " 191  2.7129276e+02 0.00e+00 8.90e-03 -11.0 2.72e-04    -  1.00e+00 6.25e-02h  5\n",
      " 192  2.7129276e+02 0.00e+00 2.86e-02 -11.0 3.89e-04    -  1.00e+00 6.25e-02h  5\n",
      " 193  2.7129276e+02 0.00e+00 1.36e-02 -11.0 7.84e-04    -  1.00e+00 6.25e-02h  5\n",
      " 194  2.7129276e+02 0.00e+00 2.25e-02 -11.0 1.96e-04    -  1.00e+00 2.50e-01f  3\n",
      " 195  2.7129276e+02 0.00e+00 2.27e-02 -11.0 1.94e-05    -  1.00e+00 1.00e+00f  1\n",
      " 196  2.7129276e+02 0.00e+00 1.86e-01 -11.0 3.65e-03    -  1.00e+00 6.25e-02h  5\n",
      " 197  2.7129276e+02 0.00e+00 3.05e-01 -11.0 3.39e-04    -  1.00e+00 6.25e-02h  5\n",
      " 198  2.7129276e+02 0.00e+00 2.06e-01 -11.0 4.47e-04    -  1.00e+00 1.00e+00f  1\n",
      " 199  2.7129445e+02 0.00e+00 1.43e+01 -11.0 1.12e-02    -  1.00e+00 6.25e-02h  5\n",
      "iter    objective    inf_pr   inf_du lg(mu)  ||d||  lg(rg) alpha_du alpha_pr  ls\n",
      " 200  2.7129276e+02 0.00e+00 5.68e-03 -11.0 4.72e-04    -  1.00e+00 1.00e+00f  1\n",
      " 201  2.7129276e+02 0.00e+00 5.48e-03 -11.0 5.56e-06    -  1.00e+00 1.00e+00f  1\n",
      " 202  2.7129276e+02 0.00e+00 4.52e-02 -11.0 3.18e-04    -  1.00e+00 6.25e-02h  5\n",
      " 203  2.7129276e+02 0.00e+00 4.86e-02 -11.0 6.60e-05    -  1.00e+00 2.50e-01f  3\n",
      " 204  2.7129276e+02 0.00e+00 1.49e-01 -11.0 2.00e-03    -  1.00e+00 6.25e-02h  5\n",
      " 205  2.7129276e+02 0.00e+00 3.88e-02 -11.0 5.10e-04    -  1.00e+00 2.50e-01f  3\n",
      " 206  2.7129277e+02 0.00e+00 4.45e-01 -11.0 1.27e-02    -  1.00e+00 6.25e-02h  5\n",
      " 207  2.7129276e+02 0.00e+00 6.76e-02 -11.0 6.37e-04    -  1.00e+00 1.00e+00f  1\n",
      " 208  2.7129303e+02 0.00e+00 5.75e+00 -11.0 6.83e-03    -  1.00e+00 6.25e-02h  5\n",
      " 209  2.7129276e+02 0.00e+00 7.76e-03 -11.0 4.11e-04    -  1.00e+00 1.00e+00f  1\n",
      "iter    objective    inf_pr   inf_du lg(mu)  ||d||  lg(rg) alpha_du alpha_pr  ls\n",
      " 210  2.7129276e+02 0.00e+00 5.12e-03 -11.0 9.12e-05    -  1.00e+00 1.25e-01f  4\n",
      " 211  2.7129276e+02 0.00e+00 2.06e-01 -11.0 2.55e-03    -  1.00e+00 6.25e-02h  5\n",
      " 212  2.7129276e+02 0.00e+00 3.98e-03 -11.0 1.55e-04    -  1.00e+00 1.00e+00f  1\n",
      " 213  2.7129276e+02 0.00e+00 1.09e-01 -11.0 2.21e-03    -  1.00e+00 6.25e-02h  5\n",
      " 214  2.7129276e+02 0.00e+00 1.70e-05 -11.0 1.33e-04    -  1.00e+00 1.00e+00f  1\n",
      " 215  2.7129276e+02 0.00e+00 3.86e-04 -11.0 9.00e-06    -  1.00e+00 6.25e-02h  5\n",
      " 216  2.7129276e+02 0.00e+00 7.82e-06 -11.0 5.38e-07    -  1.00e+00 1.00e+00f  1\n",
      " 217  2.7129276e+02 0.00e+00 6.72e-04 -11.0 3.17e-07    -  1.00e+00 6.25e-02h  5\n",
      " 218  2.7129276e+02 0.00e+00 8.91e-07 -11.0 1.85e-08    -  1.00e+00 1.00e+00f  1\n",
      "\n",
      "Number of Iterations....: 218\n",
      "\n",
      "                                   (scaled)                 (unscaled)\n",
      "Objective...............:   2.5584011742562700e+02    2.7129276101210195e+02\n",
      "Dual infeasibility......:   8.9113650298070066e-07    9.4496080116357472e-07\n",
      "Constraint violation....:   0.0000000000000000e+00    0.0000000000000000e+00\n",
      "Complementarity.........:   9.9999999999999994e-12    1.0603996110616508e-11\n",
      "Overall NLP error.......:   8.9113650298070066e-07    9.4496080116357472e-07\n",
      "\n",
      "\n",
      "Number of objective function evaluations             = 1270\n",
      "Number of objective gradient evaluations             = 219\n",
      "Number of equality constraint evaluations            = 0\n",
      "Number of inequality constraint evaluations          = 0\n",
      "Number of equality constraint Jacobian evaluations   = 0\n",
      "Number of inequality constraint Jacobian evaluations = 0\n",
      "Number of Lagrangian Hessian evaluations             = 0\n",
      "Total CPU secs in IPOPT (w/o function evaluations)   =      0.462\n",
      "Total CPU secs in NLP function evaluations           =      0.592\n",
      "\n",
      "EXIT: Optimal Solution Found.\n",
      "  1.080628 seconds (5.99 M allocations: 160.841 MiB, 1.22% gc time)\n"
     ]
    }
   ],
   "source": [
    "@time optm = QuasiCopula.fit!(qc_model,\n",
    "    Ipopt.IpoptSolver(\n",
    "        print_level = 5, \n",
    "        tol = 10^-6, \n",
    "        max_iter = 1000,\n",
    "        accept_after_max_steps = 4,\n",
    "        warm_start_init_point=\"yes\", \n",
    "        limited_memory_max_history = 6, # default value\n",
    "        hessian_approximation = \"limited-memory\",\n",
    "#         derivative_test=\"first-order\"\n",
    "    )\n",
    ");"
   ]
  },
  {
   "cell_type": "code",
   "execution_count": 315,
   "metadata": {
    "collapsed": false
   },
   "outputs": [
    {
     "name": "stdout",
     "output_type": "stream",
     "text": [
      "βtrue = [-0.15724541848225881, 0.1622105756389522, 0.008250501994707893]\n",
      "qc_model.β = [-0.15351330791695544, 0.16349872217501915, 0.010378995061240504]\n",
      "qc_model.∇β = [9.449608011635746e-7, -8.945197293996898e-8, -3.0236246750803275e-7]\n",
      "θtrue = [0.5]\n",
      "qc_model.θ = [1.3509795224383152]\n",
      "qc_model.∇θ = [-2.6697862809399453e-9]\n"
     ]
    }
   ],
   "source": [
    "@show βtrue\n",
    "@show qc_model.β\n",
    "@show qc_model.∇β\n",
    "\n",
    "@show θtrue\n",
    "@show qc_model.θ\n",
    "@show qc_model.∇θ;"
   ]
  },
  {
   "cell_type": "markdown",
   "metadata": {},
   "source": [
    "## Score test\n",
    "\n",
    "\n",
    "\n",
    "TODO: \n",
    "+ Why are p-values deflated? \n",
    "+ How reliable is `derivative_test` in Ipopt?"
   ]
  },
  {
   "cell_type": "code",
   "execution_count": 316,
   "metadata": {
    "collapsed": false
   },
   "outputs": [
    {
     "name": "stdout",
     "output_type": "stream",
     "text": [
      "  2.815825 seconds (34.00 M allocations: 3.368 GiB, 6.37% gc time)\n"
     ]
    },
    {
     "data": {
      "text/plain": [
       "2000-element Vector{Float64}:\n",
       " 0.33512179552785903\n",
       " 0.2845511188901301\n",
       " 0.7638378740489213\n",
       " 0.9244400000181473\n",
       " 0.37165237783549404\n",
       " 0.7682957406190766\n",
       " 0.23823914568089716\n",
       " 0.1453071695594324\n",
       " 0.14613379702182103\n",
       " 0.6111793829338366\n",
       " 0.3199894223870994\n",
       " 0.8646937502534697\n",
       " 0.766083177141855\n",
       " ⋮\n",
       " 0.8611831848237157\n",
       " 0.0630228104882885\n",
       " 0.340563080830804\n",
       " 0.4886130490013101\n",
       " 0.5646114478109772\n",
       " 0.4172992883992049\n",
       " 0.31108336559889543\n",
       " 0.50829496637492\n",
       " 0.17612088830923056\n",
       " 0.3353601642167229\n",
       " 0.356023649942383\n",
       " 0.19383282482867695"
      ]
     },
     "execution_count": 316,
     "metadata": {},
     "output_type": "execute_result"
    }
   ],
   "source": [
    "loglikelihood!(qc_model, true, true)\n",
    "@time pvals = QuasiCopula.GWASCopulaVCModel(qc_model, G)"
   ]
  },
  {
   "cell_type": "code",
   "execution_count": 317,
   "metadata": {
    "collapsed": false
   },
   "outputs": [
    {
     "name": "stdout",
     "output_type": "stream",
     "text": [
      "length(signif_snps) = 4\n",
      "power = 0.8\n"
     ]
    },
    {
     "data": {
      "text/plain": [
       "0.8"
      ]
     },
     "execution_count": 317,
     "metadata": {},
     "output_type": "execute_result"
    }
   ],
   "source": [
    "correct_snps = findall(!iszero, γtrue)\n",
    "signif_snps = findall(x -> x < 0.05/length(pvals), pvals)\n",
    "power = length(correct_snps ∩ signif_snps) / length(correct_snps)\n",
    "\n",
    "@show length(signif_snps)\n",
    "@show power"
   ]
  },
  {
   "cell_type": "code",
   "execution_count": 318,
   "metadata": {
    "collapsed": false
   },
   "outputs": [
    {
     "data": {
      "text/plain": [
       "5-element Vector{Float64}:\n",
       " 3.875402556137935e-20\n",
       " 4.3450021265430983e-20\n",
       " 5.235476643984978e-13\n",
       " 1.548877496868849e-11\n",
       " 0.0008969344503107024"
      ]
     },
     "execution_count": 318,
     "metadata": {},
     "output_type": "execute_result"
    }
   ],
   "source": [
    "# pvalues of truly causal SNPs\n",
    "pvals[correct_snps] |> sort"
   ]
  },
  {
   "cell_type": "code",
   "execution_count": 319,
   "metadata": {
    "collapsed": false
   },
   "outputs": [
    {
     "data": {
      "text/plain": [
       "2000-element Vector{Float64}:\n",
       " 3.875402556137935e-20\n",
       " 4.3450021265430983e-20\n",
       " 5.235476643984978e-13\n",
       " 1.548877496868849e-11\n",
       " 4.3504984243535864e-5\n",
       " 0.0008969344503107024\n",
       " 0.0012802296110769487\n",
       " 0.0013548294839102542\n",
       " 0.001417143559989562\n",
       " 0.0015297360262844276\n",
       " 0.0018340538127409119\n",
       " 0.002221404468032116\n",
       " 0.002478863781329721\n",
       " ⋮\n",
       " 0.9956825148460505\n",
       " 0.9959530966778722\n",
       " 0.9967428219207012\n",
       " 0.9973342925644411\n",
       " 0.9974167410200757\n",
       " 0.997620547143275\n",
       " 0.9976886704767145\n",
       " 0.9982993725190675\n",
       " 0.9991940728717996\n",
       " 0.9995397693466062\n",
       " 0.9998349692065329\n",
       " 0.9999152013334531"
      ]
     },
     "execution_count": 319,
     "metadata": {},
     "output_type": "execute_result"
    }
   ],
   "source": [
    "# pvalues of all SNPs sorted by significance\n",
    "sort(pvals)"
   ]
  },
  {
   "cell_type": "markdown",
   "metadata": {
    "collapsed": true
   },
   "source": [
    "## QQ Plots (tweaked)\n",
    "\n",
    "+ I can tweak calculation of $\\nabla res(\\beta)$ so that the resulting p-values for Normal and Bernoulli base look \"correct\".\n",
    "+ This uses the full Hessian to calculate W, Q, R. \n",
    "+ For Poisson I haven't found a way to tweak them. "
   ]
  },
  {
   "cell_type": "code",
   "execution_count": 320,
   "metadata": {
    "collapsed": false
   },
   "outputs": [
    {
     "data": {
      "image/png": "[encoded data removed]"
     },
     "metadata": {},
     "output_type": "display_data"
    }
   ],
   "source": [
    "qq(pvals, dpi=100, titles=\"Gaussian Base, 5 causal SNPs\")\n",
    "display(\"image/png\", read(\"qqplot.png\"))"
   ]
  },
  {
   "cell_type": "code",
   "execution_count": 301,
   "metadata": {
    "collapsed": false
   },
   "outputs": [
    {
     "data": {
      "image/png": "[encoded data removed]"
     },
     "metadata": {},
     "output_type": "display_data"
    }
   ],
   "source": [
    "qq(pvals, dpi=100, titles=\"Bernoulli Base, 5 causal SNPs\")\n",
    "display(\"image/png\", read(\"qqplot.png\"))"
   ]
  },
  {
   "cell_type": "code",
   "execution_count": null,
   "metadata": {
    "collapsed": true
   },
   "outputs": [],
   "source": []
  },
  {
   "cell_type": "code",
   "execution_count": null,
   "metadata": {
    "collapsed": true
   },
   "outputs": [],
   "source": []
  },
  {
   "cell_type": "code",
   "execution_count": null,
   "metadata": {
    "collapsed": true
   },
   "outputs": [],
   "source": []
  },
  {
   "cell_type": "code",
   "execution_count": null,
   "metadata": {
    "collapsed": true
   },
   "outputs": [],
   "source": []
  },
  {
   "cell_type": "code",
   "execution_count": null,
   "metadata": {
    "collapsed": true
   },
   "outputs": [],
   "source": []
  },
  {
   "cell_type": "code",
   "execution_count": null,
   "metadata": {
    "collapsed": true
   },
   "outputs": [],
   "source": []
  },
  {
   "cell_type": "code",
   "execution_count": null,
   "metadata": {
    "collapsed": true
   },
   "outputs": [],
   "source": []
  },
  {
   "cell_type": "code",
   "execution_count": null,
   "metadata": {
    "collapsed": true
   },
   "outputs": [],
   "source": []
  },
  {
   "cell_type": "code",
   "execution_count": 245,
   "metadata": {
    "collapsed": false
   },
   "outputs": [
    {
     "data": {
      "image/png": "[encoded data removed]"
     },
     "metadata": {},
     "output_type": "display_data"
    }
   ],
   "source": [
    "qq(pvals, dpi=100, titles=\"Bernoulli Base, 10 causal SNPs\")\n",
    "display(\"image/png\", read(\"qqplot.png\"))"
   ]
  },
  {
   "cell_type": "code",
   "execution_count": 166,
   "metadata": {
    "collapsed": false
   },
   "outputs": [
    {
     "data": {
      "image/png": "[encoded data removed]"
     },
     "metadata": {},
     "output_type": "display_data"
    }
   ],
   "source": [
    "qq(pvals, dpi=100, titles=\"Poisson Base, 5 causal SNPs\")\n",
    "display(\"image/png\", read(\"qqplot.png\"))"
   ]
  },
  {
   "cell_type": "code",
   "execution_count": 146,
   "metadata": {
    "collapsed": false
   },
   "outputs": [
    {
     "data": {
      "image/png": "[encoded data removed]"
     },
     "metadata": {},
     "output_type": "display_data"
    }
   ],
   "source": [
    "qq(pvals, dpi=100, titles=\"Gaussian Base, 5 causal SNPs\")\n",
    "display(\"image/png\", read(\"qqplot.png\"))"
   ]
  },
  {
   "cell_type": "code",
   "execution_count": null,
   "metadata": {
    "collapsed": true
   },
   "outputs": [],
   "source": []
  },
  {
   "cell_type": "code",
   "execution_count": null,
   "metadata": {
    "collapsed": true
   },
   "outputs": [],
   "source": []
  },
  {
   "cell_type": "code",
   "execution_count": null,
   "metadata": {
    "collapsed": true
   },
   "outputs": [],
   "source": []
  },
  {
   "cell_type": "code",
   "execution_count": null,
   "metadata": {
    "collapsed": true
   },
   "outputs": [],
   "source": []
  },
  {
   "cell_type": "code",
   "execution_count": null,
   "metadata": {
    "collapsed": true
   },
   "outputs": [],
   "source": []
  },
  {
   "cell_type": "code",
   "execution_count": null,
   "metadata": {
    "collapsed": true
   },
   "outputs": [],
   "source": []
  },
  {
   "cell_type": "code",
   "execution_count": null,
   "metadata": {
    "collapsed": true
   },
   "outputs": [],
   "source": []
  }
 ],
 "metadata": {
  "@webio": {
   "lastCommId": null,
   "lastKernelId": null
  },
  "kernelspec": {
   "display_name": "Julia 1.7.3",
   "language": "julia",
   "name": "julia-1.7"
  },
  "language_info": {
   "file_extension": ".jl",
   "mimetype": "application/julia",
   "name": "julia",
   "version": "1.7.3"
  },
  "toc": {
   "base_numbering": 1,
   "nav_menu": {},
   "number_sections": true,
   "sideBar": true,
   "skip_h1_title": false,
   "title_cell": "Table of Contents",
   "title_sidebar": "Contents",
   "toc_cell": false,
   "toc_position": {},
   "toc_section_display": true,
   "toc_window_display": false
  }
 },
 "nbformat": 4,
 "nbformat_minor": 2
}
