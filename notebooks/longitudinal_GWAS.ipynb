{
 "cells": [
  {
   "cell_type": "markdown",
   "metadata": {},
   "source": [
    "# Longitudinal QuasiCopula GWAS with Mixed Marginals\n",
    "\n",
    "Here we adopt the variance component model framework\n",
    "\n",
    "$$\\mathbf{\\Gamma}_i(\\mathbf{\\theta}) = \\sum_{k=1}^m \\theta_k\\mathbf{V}_{ik}, \\quad \\theta_k \\ge 0$$"
   ]
  },
  {
   "cell_type": "code",
   "execution_count": 3,
   "metadata": {},
   "outputs": [
    {
     "name": "stderr",
     "output_type": "stream",
     "text": [
      "┌ Info: Precompiling MendelIHT [921c7187-1484-5754-b919-5d3ed9ac03c4]\n",
      "└ @ Base loading.jl:1342\n"
     ]
    },
    {
     "data": {
      "text/plain": [
       "1"
      ]
     },
     "execution_count": 3,
     "metadata": {},
     "output_type": "execute_result"
    }
   ],
   "source": [
    "using Revise\n",
    "using DataFrames, Random, GLM, QuasiCopula\n",
    "using ForwardDiff, Test, LinearAlgebra\n",
    "using LinearAlgebra: BlasReal, copytri!\n",
    "using ToeplitzMatrices\n",
    "using BenchmarkTools\n",
    "using SnpArrays\n",
    "using MendelIHT\n",
    "\n",
    "BLAS.set_num_threads(1)\n",
    "Threads.nthreads()"
   ]
  },
  {
   "cell_type": "markdown",
   "metadata": {},
   "source": [
    "## Simulate data"
   ]
  },
  {
   "cell_type": "code",
   "execution_count": 4,
   "metadata": {},
   "outputs": [],
   "source": [
    "# simulate data\n",
    "p = 3    # number of fixed effects, including intercept\n",
    "m = 1    # number of variance componentsac\n",
    "samplesize = 1000 # number of sample\n",
    "d = 5   # number of observation per sample\n",
    "q = 100  # number of SNPs\n",
    "k = 10   # number of causal SNPs\n",
    "T = Float64\n",
    "\n",
    "# simulate nongenetic coefficient and variance component params\n",
    "Random.seed!(2022)\n",
    "βtrue = rand(Uniform(-2, 2), p)\n",
    "θtrue = [0.5] # 1 variance component\n",
    "Γ = θtrue[1] * ones(d, d)\n",
    "\n",
    "# randomly choose marginal distributions for each observation within samples\n",
    "Random.seed!(2022)\n",
    "possible_distributions = [Normal, Bernoulli, Poisson]\n",
    "vecdist = rand(possible_distributions, d)\n",
    "\n",
    "# simulate non-genetic design matrix\n",
    "Random.seed!(2022)\n",
    "X_samplesize = [randn(d, p - 1) for i in 1:samplesize]\n",
    "gcs = Vector{MixedCopulaVCObs{T}}(undef, samplesize)\n",
    "\n",
    "# simulate random SnpArray with 100 SNPs and randomly choose 10 SNPs to be causal\n",
    "Random.seed!(2022)\n",
    "G = simulate_random_snparray(undef, samplesize, q)\n",
    "Gfloat = convert(Matrix{T}, G, center=true, scale=true)\n",
    "γtrue = zeros(q)\n",
    "γtrue[1:k] .= rand(Uniform(-0.5, 0.5), k)\n",
    "shuffle!(γtrue)\n",
    "η_G = Gfloat * γtrue\n",
    "\n",
    "for i in 1:samplesize\n",
    "    X = [ones(d) X_samplesize[i]]\n",
    "    η = X * βtrue\n",
    "    η .+= η_G[i] # add genetic effects\n",
    "    vecd_tmp = Vector{UnivariateDistribution}(undef, d)\n",
    "    for j in 1:d\n",
    "        dist = vecdist[j]\n",
    "        μj = GLM.linkinv(canonicallink(dist()), η[j])\n",
    "        vecd_tmp[j] = dist(μj)\n",
    "    end\n",
    "    multivariate_dist = MultivariateMix(vecd_tmp, Γ)\n",
    "    y = Vector{Float64}(undef, d)\n",
    "    res = Vector{Float64}(undef, d)\n",
    "    rand(multivariate_dist, y, res)\n",
    "    V = [ones(d, d)]\n",
    "    gcs[i] = MixedCopulaVCObs(y, X, V)\n",
    "end\n",
    "veclink = [canonicallink(vecdist[j]()) for j in 1:d]\n",
    "gcm = MixedCopulaVCModel(gcs, vecdist, veclink);"
   ]
  },
  {
   "cell_type": "markdown",
   "metadata": {},
   "source": [
    "## Fit Null model\n",
    "\n",
    "TODO: \n",
    "+ If use Newton, need to fix calculation of $H_\\theta$. \n",
    "+ If using Quasi-Newton, need to figure out how to get $H_\\beta$"
   ]
  },
  {
   "cell_type": "code",
   "execution_count": 15,
   "metadata": {
    "scrolled": true
   },
   "outputs": [
    {
     "name": "stdout",
     "output_type": "stream",
     "text": [
      "\n",
      "******************************************************************************\n",
      "This program contains Ipopt, a library for large-scale nonlinear optimization.\n",
      " Ipopt is released as open source code under the Eclipse Public License (EPL).\n",
      "         For more information visit https://github.com/coin-or/Ipopt\n",
      "******************************************************************************\n",
      "\n",
      "This is Ipopt version 3.13.4, running with linear solver mumps.\n",
      "NOTE: Other linear solvers might be more efficient (see Ipopt documentation).\n",
      "\n",
      "Number of nonzeros in equality constraint Jacobian...:        0\n",
      "Number of nonzeros in inequality constraint Jacobian.:        0\n",
      "Number of nonzeros in Lagrangian Hessian.............:        8\n",
      "\n",
      "Total number of variables............................:        4\n",
      "                     variables with only lower bounds:        1\n",
      "                variables with lower and upper bounds:        0\n",
      "                     variables with only upper bounds:        0\n",
      "Total number of equality constraints.................:        0\n",
      "Total number of inequality constraints...............:        0\n",
      "        inequality constraints with only lower bounds:        0\n",
      "   inequality constraints with lower and upper bounds:        0\n",
      "        inequality constraints with only upper bounds:        0\n",
      "\n",
      "iter    objective    inf_pr   inf_du lg(mu)  ||d||  lg(rg) alpha_du alpha_pr  ls\n",
      "   0  3.7978465e+07 0.00e+00 1.00e+02  -1.0 0.00e+00    -  0.00e+00 0.00e+00   0\n",
      "Warning: Cutting back alpha due to evaluation error\n",
      "Warning: Cutting back alpha due to evaluation error\n",
      "Warning: Cutting back alpha due to evaluation error\n",
      "Warning: Cutting back alpha due to evaluation error\n",
      "   1  1.0589074e+07 0.00e+00 7.90e+01  -1.0 1.04e+02   0.0 1.00e+00 1.56e-02f  7\n",
      "   2  4.8145939e+06 0.00e+00 1.74e+01  -1.0 4.49e-01   2.2 1.00e+00 1.00e+00f  1\n",
      "   3  4.3967700e+06 0.00e+00 1.10e+01  -1.0 1.22e-01   2.7 1.00e+00 1.00e+00f  1\n",
      "   4  4.3672999e+06 0.00e+00 1.02e+01  -1.0 1.19e-02   3.1 1.00e+00 1.00e+00f  1\n",
      "   5  4.1698468e+06 0.00e+00 5.93e+00  -1.0 1.02e-01   2.6 1.00e+00 1.00e+00f  1\n",
      "   6  4.1603737e+06 0.00e+00 5.70e+00  -1.0 7.40e-03   3.0 1.00e+00 1.00e+00f  1\n",
      "   7  4.0915150e+06 0.00e+00 4.76e+00  -1.0 8.14e-02   2.6 1.00e+00 1.00e+00f  1\n",
      "   8  4.0885444e+06 0.00e+00 4.81e+00  -1.0 4.72e-03   3.0 1.00e+00 1.00e+00f  1\n",
      "   9  4.0764873e+06 0.00e+00 4.86e+00  -1.0 4.60e-02   2.5 1.00e+00 1.00e+00f  1\n",
      "iter    objective    inf_pr   inf_du lg(mu)  ||d||  lg(rg) alpha_du alpha_pr  ls\n",
      "  10  4.0729483e+06 0.00e+00 4.54e+00  -1.0 3.98e-03   2.9 1.00e+00 1.00e+00f  1\n",
      "  11  4.0678819e+06 0.00e+00 4.30e+00  -1.0 1.80e-02   2.5 1.00e+00 1.00e+00f  1\n",
      "  12  4.0648525e+06 0.00e+00 4.36e+00  -1.0 4.69e-03   2.9 1.00e+00 1.00e+00f  1\n",
      "  13  4.0635202e+06 0.00e+00 4.38e+00  -1.0 1.96e-03   3.3 1.00e+00 1.00e+00f  1\n",
      "  14  4.0603279e+06 0.00e+00 4.37e+00  -1.0 5.45e-03   2.8 1.00e+00 1.00e+00f  1\n",
      "  15  4.0589106e+06 0.00e+00 4.38e+00  -1.0 2.20e-03   3.3 1.00e+00 1.00e+00f  1\n",
      "  16  4.0555158e+06 0.00e+00 4.32e+00  -1.0 6.21e-03   2.8 1.00e+00 1.00e+00f  1\n",
      "  17  4.0540025e+06 0.00e+00 4.32e+00  -1.0 2.42e-03   3.2 1.00e+00 1.00e+00f  1\n",
      "  18  4.0503881e+06 0.00e+00 4.23e+00  -1.0 7.01e-03   2.7 1.00e+00 1.00e+00f  1\n",
      "  19  4.0487726e+06 0.00e+00 4.24e+00  -1.0 2.64e-03   3.2 1.00e+00 1.00e+00f  1\n",
      "iter    objective    inf_pr   inf_du lg(mu)  ||d||  lg(rg) alpha_du alpha_pr  ls\n",
      "  20  4.0449287e+06 0.00e+00 4.13e+00  -1.0 7.93e-03   2.7 1.00e+00 1.00e+00f  1\n",
      "  21  4.0432062e+06 0.00e+00 4.13e+00  -1.0 2.86e-03   3.1 1.00e+00 1.00e+00f  1\n",
      "  22  4.0391337e+06 0.00e+00 4.00e+00  -1.0 9.04e-03   2.6 1.00e+00 1.00e+00f  1\n",
      "  23  4.0372981e+06 0.00e+00 4.01e+00  -1.0 3.05e-03   3.0 1.00e+00 1.00e+00f  1\n",
      "  24  4.0330227e+06 0.00e+00 3.86e+00  -1.0 1.04e-02   2.6 1.00e+00 1.00e+00f  1\n",
      "  25  4.0310600e+06 0.00e+00 3.88e+00  -1.0 3.20e-03   3.0 1.00e+00 1.00e+00f  1\n",
      "  26  4.0266656e+06 0.00e+00 3.69e+00  -1.0 1.24e-02   2.5 1.00e+00 1.00e+00f  1\n",
      "  27  4.0245352e+06 0.00e+00 3.72e+00  -1.0 3.26e-03   2.9 1.00e+00 1.00e+00f  1\n",
      "  28  4.0203269e+06 0.00e+00 3.91e+00  -1.0 1.59e-02   2.5 1.00e+00 1.00e+00f  1\n",
      "  29  4.0178696e+06 0.00e+00 3.65e+00  -1.0 3.39e-03   2.9 1.00e+00 1.00e+00f  1\n",
      "iter    objective    inf_pr   inf_du lg(mu)  ||d||  lg(rg) alpha_du alpha_pr  ls\n",
      "  30  4.0167878e+06 0.00e+00 3.55e+00  -1.0 1.46e-03   3.3 1.00e+00 1.00e+00f  1\n",
      "  31  4.0143290e+06 0.00e+00 3.54e+00  -1.0 3.57e-03   2.8 1.00e+00 1.00e+00f  1\n",
      "  32  4.0132218e+06 0.00e+00 3.55e+00  -1.0 1.65e-03   3.3 1.00e+00 1.00e+00f  1\n",
      "  33  4.0107450e+06 0.00e+00 3.51e+00  -1.0 4.07e-03   2.8 1.00e+00 1.00e+00f  1\n",
      "  34  4.0096060e+06 0.00e+00 3.52e+00  -1.0 1.83e-03   3.2 1.00e+00 1.00e+00f  1\n",
      "  35  4.0070960e+06 0.00e+00 3.46e+00  -1.0 4.62e-03   2.7 1.00e+00 1.00e+00f  1\n",
      "  36  4.0059192e+06 0.00e+00 3.46e+00  -1.0 2.01e-03   3.2 1.00e+00 1.00e+00f  1\n",
      "  37  4.0033530e+06 0.00e+00 3.39e+00  -1.0 5.26e-03   2.7 1.00e+00 1.00e+00f  1\n",
      "  38  4.0021313e+06 0.00e+00 3.40e+00  -1.0 2.20e-03   3.1 1.00e+00 1.00e+00f  1\n",
      "  39  3.9994787e+06 0.00e+00 3.31e+00  -1.0 6.07e-03   2.6 1.00e+00 1.00e+00f  1\n",
      "iter    objective    inf_pr   inf_du lg(mu)  ||d||  lg(rg) alpha_du alpha_pr  ls\n",
      "  40  3.9982041e+06 0.00e+00 3.32e+00  -1.0 2.38e-03   3.1 1.00e+00 1.00e+00f  1\n",
      "  41  3.9954355e+06 0.00e+00 3.21e+00  -1.0 7.12e-03   2.6 1.00e+00 1.00e+00f  1\n",
      "  42  3.9940983e+06 0.00e+00 3.22e+00  -1.0 2.55e-03   3.0 1.00e+00 1.00e+00f  1\n",
      "  43  3.9912039e+06 0.00e+00 3.09e+00  -1.0 8.60e-03   2.5 1.00e+00 1.00e+00f  1\n",
      "  44  3.9897867e+06 0.00e+00 3.11e+00  -1.0 2.67e-03   3.0 1.00e+00 1.00e+00f  1\n",
      "  45  3.9868411e+06 0.00e+00 3.04e+00  -1.0 1.11e-02   2.5 1.00e+00 1.00e+00f  1\n",
      "  46  3.9852842e+06 0.00e+00 2.97e+00  -1.0 2.65e-03   2.9 1.00e+00 1.00e+00f  1\n",
      "  47  3.9851721e+06 0.00e+00 3.18e+00  -1.0 9.11e-02   2.4 1.00e+00 6.25e-02f  5\n",
      "  48  3.9833941e+06 0.00e+00 3.00e+00  -1.0 2.94e-03   2.9 1.00e+00 1.00e+00f  1\n",
      "  49  3.9826065e+06 0.00e+00 2.92e+00  -1.0 1.29e-03   3.3 1.00e+00 1.00e+00f  1\n",
      "iter    objective    inf_pr   inf_du lg(mu)  ||d||  lg(rg) alpha_du alpha_pr  ls\n",
      "  50  3.9808436e+06 0.00e+00 2.90e+00  -1.0 3.09e-03   2.8 1.00e+00 1.00e+00f  1\n",
      "  51  3.9800433e+06 0.00e+00 2.91e+00  -1.0 1.44e-03   3.2 1.00e+00 1.00e+00f  1\n",
      "  52  3.9782858e+06 0.00e+00 2.86e+00  -1.0 3.51e-03   2.8 1.00e+00 1.00e+00f  1\n",
      "  53  3.9774685e+06 0.00e+00 2.87e+00  -1.0 1.59e-03   3.2 1.00e+00 1.00e+00f  1\n",
      "  54  3.9757008e+06 0.00e+00 2.81e+00  -1.0 3.99e-03   2.7 1.00e+00 1.00e+00f  1\n",
      "  55  3.9748612e+06 0.00e+00 2.82e+00  -1.0 1.75e-03   3.1 1.00e+00 1.00e+00f  1\n",
      "  56  3.9730614e+06 0.00e+00 2.75e+00  -1.0 4.59e-03   2.7 1.00e+00 1.00e+00f  1\n",
      "  57  3.9721938e+06 0.00e+00 2.75e+00  -1.0 1.90e-03   3.1 1.00e+00 1.00e+00f  1\n",
      "  58  3.9703366e+06 0.00e+00 2.67e+00  -1.0 5.38e-03   2.6 1.00e+00 1.00e+00f  1\n",
      "  59  3.9694340e+06 0.00e+00 2.68e+00  -1.0 2.05e-03   3.0 1.00e+00 1.00e+00f  1\n",
      "iter    objective    inf_pr   inf_du lg(mu)  ||d||  lg(rg) alpha_du alpha_pr  ls\n",
      "  60  3.9674988e+06 0.00e+00 2.58e+00  -1.0 6.46e-03   2.6 1.00e+00 1.00e+00f  1\n",
      "  61  3.9665514e+06 0.00e+00 2.60e+00  -1.0 2.17e-03   3.0 1.00e+00 1.00e+00f  1\n",
      "  62  3.9645506e+06 0.00e+00 2.47e+00  -1.0 8.13e-03   2.5 1.00e+00 1.00e+00f  1\n",
      "  63  3.9635340e+06 0.00e+00 2.49e+00  -1.0 2.21e-03   2.9 1.00e+00 1.00e+00f  1\n",
      "  64  3.9617416e+06 0.00e+00 2.81e+00  -1.0 1.25e-02   2.5 1.00e+00 1.00e+00f  1\n",
      "  65  3.9605048e+06 0.00e+00 2.62e+00  -1.0 2.63e-03   2.9 1.00e+00 1.00e+00f  1\n",
      "  66  3.9599670e+06 0.00e+00 2.53e+00  -1.0 1.10e-03   3.3 1.00e+00 1.00e+00f  1\n",
      "  67  3.9587570e+06 0.00e+00 2.39e+00  -1.0 2.48e-03   2.8 1.00e+00 1.00e+00f  1\n",
      "  68  3.9582165e+06 0.00e+00 2.34e+00  -1.0 1.11e-03   3.3 1.00e+00 1.00e+00f  1\n",
      "  69  3.9570266e+06 0.00e+00 2.32e+00  -1.0 2.61e-03   2.8 1.00e+00 1.00e+00f  1\n",
      "iter    objective    inf_pr   inf_du lg(mu)  ||d||  lg(rg) alpha_du alpha_pr  ls\n",
      "  70  3.9564807e+06 0.00e+00 2.32e+00  -1.0 1.23e-03   3.2 1.00e+00 1.00e+00f  1\n",
      "  71  3.9553030e+06 0.00e+00 2.28e+00  -1.0 2.98e-03   2.7 1.00e+00 1.00e+00f  1\n",
      "  72  3.9547486e+06 0.00e+00 2.28e+00  -1.0 1.36e-03   3.2 1.00e+00 1.00e+00f  1\n",
      "  73  3.9535690e+06 0.00e+00 2.23e+00  -1.0 3.42e-03   2.7 1.00e+00 1.00e+00f  1\n",
      "  74  3.9530018e+06 0.00e+00 2.24e+00  -1.0 1.49e-03   3.1 1.00e+00 1.00e+00f  1\n"
     ]
    },
    {
     "name": "stdout",
     "output_type": "stream",
     "text": [
      "  75  3.9518009e+06 0.00e+00 2.18e+00  -1.0 4.00e-03   2.6 1.00e+00 1.00e+00f  1\n",
      "  76  3.9512161e+06 0.00e+00 2.18e+00  -1.0 1.61e-03   3.0 1.00e+00 1.00e+00f  1\n",
      "  77  3.9499744e+06 0.00e+00 2.11e+00  -1.0 4.78e-03   2.6 1.00e+00 1.00e+00f  1\n",
      "  78  3.9493657e+06 0.00e+00 2.12e+00  -1.0 1.72e-03   3.0 1.00e+00 1.00e+00f  1\n",
      "  79  3.9480752e+06 0.00e+00 2.03e+00  -1.0 5.92e-03   2.5 1.00e+00 1.00e+00f  1\n",
      "iter    objective    inf_pr   inf_du lg(mu)  ||d||  lg(rg) alpha_du alpha_pr  ls\n",
      "  80  3.9474316e+06 0.00e+00 2.04e+00  -1.0 1.79e-03   2.9 1.00e+00 1.00e+00f  1\n",
      "  81  3.9461502e+06 0.00e+00 2.09e+00  -1.0 8.12e-03   2.5 1.00e+00 1.00e+00f  1\n",
      "  82  3.9454288e+06 0.00e+00 1.96e+00  -1.0 1.80e-03   2.9 1.00e+00 1.00e+00f  1\n",
      "  83  3.9451105e+06 0.00e+00 1.94e+00  -1.0 8.05e-04   3.3 1.00e+00 1.00e+00f  1\n",
      "  84  3.9443869e+06 0.00e+00 1.93e+00  -1.0 1.98e-03   2.8 1.00e+00 1.00e+00f  1\n",
      "  85  3.9440607e+06 0.00e+00 1.94e+00  -1.0 9.03e-04   3.3 1.00e+00 1.00e+00f  1\n",
      "  86  3.9433306e+06 0.00e+00 1.91e+00  -1.0 2.25e-03   2.8 1.00e+00 1.00e+00f  1\n",
      "  87  3.9429949e+06 0.00e+00 1.92e+00  -1.0 1.00e-03   3.2 1.00e+00 1.00e+00f  1\n",
      "  88  3.9422540e+06 0.00e+00 1.88e+00  -1.0 2.55e-03   2.7 1.00e+00 1.00e+00f  1\n",
      "  89  3.9419072e+06 0.00e+00 1.88e+00  -1.0 1.10e-03   3.2 1.00e+00 1.00e+00f  1\n",
      "iter    objective    inf_pr   inf_du lg(mu)  ||d||  lg(rg) alpha_du alpha_pr  ls\n",
      "  90  3.9411490e+06 0.00e+00 1.84e+00  -1.0 2.90e-03   2.7 1.00e+00 1.00e+00f  1\n",
      "  91  3.9407894e+06 0.00e+00 1.84e+00  -1.0 1.20e-03   3.1 1.00e+00 1.00e+00f  1\n",
      "  92  3.9400059e+06 0.00e+00 1.79e+00  -1.0 3.33e-03   2.6 1.00e+00 1.00e+00f  1\n",
      "  93  3.9396314e+06 0.00e+00 1.80e+00  -1.0 1.30e-03   3.1 1.00e+00 1.00e+00f  1\n",
      "  94  3.9388152e+06 0.00e+00 1.74e+00  -1.0 3.88e-03   2.6 1.00e+00 1.00e+00f  1\n",
      "  95  3.9384233e+06 0.00e+00 1.74e+00  -1.0 1.39e-03   3.0 1.00e+00 1.00e+00f  1\n",
      "  96  3.9375728e+06 0.00e+00 1.67e+00  -1.0 4.65e-03   2.5 1.00e+00 1.00e+00f  1\n",
      "  97  3.9371587e+06 0.00e+00 1.68e+00  -1.0 1.45e-03   3.0 1.00e+00 1.00e+00f  1\n",
      "  98  3.9362947e+06 0.00e+00 1.62e+00  -1.0 5.89e-03   2.5 1.00e+00 1.00e+00f  1\n",
      "  99  3.9358434e+06 0.00e+00 1.60e+00  -1.0 1.44e-03   2.9 1.00e+00 1.00e+00f  1\n",
      "iter    objective    inf_pr   inf_du lg(mu)  ||d||  lg(rg) alpha_du alpha_pr  ls\n",
      " 100  3.9356920e+06 0.00e+00 2.28e+00  -1.0 1.37e-02   2.4 1.00e+00 1.00e+00f  1\n",
      "\n",
      "Number of Iterations....: 100\n",
      "\n",
      "                                   (scaled)                 (unscaled)\n",
      "Objective...............:   3.8184690687159637e+01    3.9356919819099903e+06\n",
      "Dual infeasibility......:   2.2838542605609491e+00    2.3539661417666727e+05\n",
      "Constraint violation....:   0.0000000000000000e+00    0.0000000000000000e+00\n",
      "Complementarity.........:   9.9999986294864229e-02    1.0306987883606231e+04\n",
      "Overall NLP error.......:   2.2838542605609491e+00    2.3539661417666727e+05\n",
      "\n",
      "\n",
      "Number of objective function evaluations             = 115\n",
      "Number of objective gradient evaluations             = 101\n",
      "Number of equality constraint evaluations            = 0\n",
      "Number of inequality constraint evaluations          = 0\n",
      "Number of equality constraint Jacobian evaluations   = 0\n",
      "Number of inequality constraint Jacobian evaluations = 0\n",
      "Number of Lagrangian Hessian evaluations             = 100\n",
      "Total CPU secs in IPOPT (w/o function evaluations)   =      4.392\n",
      "Total CPU secs in NLP function evaluations           =    137.541\n",
      "\n",
      "EXIT: Maximum Number of Iterations Exceeded.\n"
     ]
    },
    {
     "name": "stderr",
     "output_type": "stream",
     "text": [
      "┌ Warning: Optimization unsuccesful; got UserLimit\n",
      "└ @ QuasiCopula /Users/benjaminchu/.julia/dev/QuasiCopula/src/parameter_estimation/mixed_VC.jl:245\n"
     ]
    },
    {
     "name": "stdout",
     "output_type": "stream",
     "text": [
      "fittime = 175.113557012\n",
      "gcm.β = [1.6707113948354058, 1.5807185869256557, -1.4674095580337179]\n",
      "gcm.θ = [1.0173353422682279]\n",
      "gcm.∇β = [145043.2875270763, 67299.1409601921, 235396.61417666727]\n",
      "gcm.∇θ = [434.6182063733732]\n",
      "gcm.Hβ = [-7.335222336720487e6 -1.0765000611570114e7 9.540695621992571e6; -1.0765000611570114e7 -2.3359462011068907e7 1.4377739638287297e7; 9.540695621992571e6 1.4377739638287297e7 -1.923445256857499e7]\n"
     ]
    },
    {
     "data": {
      "text/plain": [
       "3×3 Matrix{Float64}:\n",
       " -7.33522e6  -1.0765e7    9.5407e6\n",
       " -1.0765e7   -2.33595e7   1.43777e7\n",
       "  9.5407e6    1.43777e7  -1.92345e7"
      ]
     },
     "execution_count": 15,
     "metadata": {},
     "output_type": "execute_result"
    }
   ],
   "source": [
    "fittime = @elapsed QuasiCopula.fit!(gcm, IpoptSolver(print_level = 5, \n",
    "        max_iter = 100, tol = 10^-4))\n",
    "@show fittime\n",
    "@show gcm.β\n",
    "@show gcm.θ\n",
    "@show gcm.∇β\n",
    "@show gcm.∇θ\n",
    "@show gcm.Hβ"
   ]
  },
  {
   "cell_type": "code",
   "execution_count": 16,
   "metadata": {},
   "outputs": [
    {
     "name": "stdout",
     "output_type": "stream",
     "text": [
      "βtrue = [1.1930358188812686, 1.5993942032216824, -1.3995760477711494]\n",
      "θtrue = [0.5]\n"
     ]
    }
   ],
   "source": [
    "@show βtrue\n",
    "@show θtrue;"
   ]
  },
  {
   "cell_type": "markdown",
   "metadata": {},
   "source": [
    "## Score test"
   ]
  },
  {
   "cell_type": "code",
   "execution_count": 24,
   "metadata": {},
   "outputs": [
    {
     "name": "stdout",
     "output_type": "stream",
     "text": [
      "  4.211233 seconds (5.00 M allocations: 1.147 GiB, 39.92% gc time)\n"
     ]
    },
    {
     "data": {
      "text/plain": [
       "100-element Vector{Float64}:\n",
       " 0.004337542727853779\n",
       " 2.1452880888061157e-120\n",
       " 1.8186185524609303e-200\n",
       " 0.0\n",
       " 0.0\n",
       " 0.22827815699093829\n",
       " 7.794229446423376e-145\n",
       " 8.622503090518413e-57\n",
       " 0.0\n",
       " 0.0\n",
       " 2.499630194724355e-56\n",
       " 0.0\n",
       " 0.0\n",
       " ⋮\n",
       " 3.0311828041483e-228\n",
       " 0.2699892024188981\n",
       " 0.0\n",
       " 0.0\n",
       " 1.701935579003e-312\n",
       " 2.698389471827338e-134\n",
       " 0.0\n",
       " 4.9877817839589804e-260\n",
       " 0.0\n",
       " 8.863054667621717e-39\n",
       " 9.7800182886342e-137\n",
       " 0.0"
      ]
     },
     "execution_count": 24,
     "metadata": {},
     "output_type": "execute_result"
    }
   ],
   "source": [
    "loglikeki\n",
    "@time pvals = QuasiCopula.GWASCopulaVCModel(gcm, G)"
   ]
  },
  {
   "cell_type": "code",
   "execution_count": 27,
   "metadata": {},
   "outputs": [
    {
     "name": "stdout",
     "output_type": "stream",
     "text": [
      "length(signif_snps) = 95\n",
      "power = 1.0\n"
     ]
    },
    {
     "data": {
      "text/plain": [
       "1.0"
      ]
     },
     "execution_count": 27,
     "metadata": {},
     "output_type": "execute_result"
    }
   ],
   "source": [
    "correct_snps = findall(!iszero, γtrue)\n",
    "signif_snps = findall(x -> x < 0.05/length(pvals), pvals)\n",
    "power = length(correct_snps ∩ signif_snps) / length(correct_snps)\n",
    "\n",
    "@show length(signif_snps)\n",
    "@show power"
   ]
  },
  {
   "cell_type": "code",
   "execution_count": null,
   "metadata": {},
   "outputs": [],
   "source": []
  }
 ],
 "metadata": {
  "@webio": {
   "lastCommId": null,
   "lastKernelId": null
  },
  "kernelspec": {
   "display_name": "Julia 1.6.6",
   "language": "julia",
   "name": "julia-1.6"
  },
  "language_info": {
   "file_extension": ".jl",
   "mimetype": "application/julia",
   "name": "julia",
   "version": "1.6.6"
  },
  "toc": {
   "base_numbering": 1,
   "nav_menu": {},
   "number_sections": true,
   "sideBar": true,
   "skip_h1_title": false,
   "title_cell": "Table of Contents",
   "title_sidebar": "Contents",
   "toc_cell": false,
   "toc_position": {},
   "toc_section_display": true,
   "toc_window_display": false
  }
 },
 "nbformat": 4,
 "nbformat_minor": 2
}
