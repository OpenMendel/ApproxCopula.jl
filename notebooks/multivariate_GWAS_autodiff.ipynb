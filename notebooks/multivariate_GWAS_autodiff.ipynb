{
 "cells": [
  {
   "cell_type": "markdown",
   "metadata": {},
   "source": [
    "# Multivariate QuasiCopula GWAS with Mixed Marginals\n",
    "\n",
    "Here we adopt the variance component model framework\n",
    "\n",
    "$$\\mathbf{\\Gamma}_i(\\mathbf{\\theta}) = \\sum_{k=1}^m \\theta_k\\mathbf{V}_{ik}, \\quad \\theta_k \\ge 0$$"
   ]
  },
  {
   "cell_type": "code",
   "execution_count": 1,
   "metadata": {
    "collapsed": false
   },
   "outputs": [
    {
     "name": "stderr",
     "output_type": "stream",
     "text": [
      "\u001b[36m\u001b[1m[ \u001b[22m\u001b[39m\u001b[36m\u001b[1mInfo: \u001b[22m\u001b[39mPrecompiling QuasiCopula [c47b6ae2-b804-4668-9957-eb588c99ffbc]\n"
     ]
    },
    {
     "data": {
      "text/plain": [
       "_make_snparray (generic function with 1 method)"
      ]
     },
     "execution_count": 1,
     "metadata": {},
     "output_type": "execute_result"
    }
   ],
   "source": [
    "using Revise\n",
    "using DataFrames, Random, GLM, QuasiCopula\n",
    "using ForwardDiff, Test, LinearAlgebra\n",
    "using LinearAlgebra: BlasReal, copytri!\n",
    "using ToeplitzMatrices\n",
    "using BenchmarkTools\n",
    "using SnpArrays\n",
    "using Statistics\n",
    "using StatsBase\n",
    "using MendelPlots\n",
    "\n",
    "BLAS.set_num_threads(1)\n",
    "\n",
    "function simulate_random_snparray(s::Union{String, UndefInitializer}, n::Int64,\n",
    "    p::Int64; mafs::Vector{Float64}=zeros(Float64, p), min_ma::Int = 5)\n",
    "\n",
    "    #first simulate a random {0, 1, 2} matrix with each SNP drawn from Binomial(2, r[i])\n",
    "    A1 = BitArray(undef, n, p) \n",
    "    A2 = BitArray(undef, n, p) \n",
    "    for j in 1:p\n",
    "        minor_alleles = 0\n",
    "        maf = 0\n",
    "        while minor_alleles <= min_ma\n",
    "            maf = 0.5rand()\n",
    "            for i in 1:n\n",
    "                A1[i, j] = rand(Bernoulli(maf))\n",
    "                A2[i, j] = rand(Bernoulli(maf))\n",
    "            end\n",
    "            minor_alleles = sum(view(A1, :, j)) + sum(view(A2, :, j))\n",
    "        end\n",
    "        mafs[j] = maf\n",
    "    end\n",
    "\n",
    "    #fill the SnpArray with the corresponding x_tmp entry\n",
    "    return _make_snparray(s, A1, A2)\n",
    "end\n",
    "\n",
    "function _make_snparray(s::Union{String, UndefInitializer}, A1::BitArray, A2::BitArray)\n",
    "    n, p = size(A1)\n",
    "    x = SnpArray(s, n, p)\n",
    "    for i in 1:(n*p)\n",
    "        c = A1[i] + A2[i]\n",
    "        if c == 0\n",
    "            x[i] = 0x00\n",
    "        elseif c == 1\n",
    "            x[i] = 0x02\n",
    "        elseif c == 2\n",
    "            x[i] = 0x03\n",
    "        else\n",
    "            throw(MissingException(\"matrix shouldn't have missing values!\"))\n",
    "        end\n",
    "    end\n",
    "    return x\n",
    "end"
   ]
  },
  {
   "cell_type": "markdown",
   "metadata": {},
   "source": [
    "## Simulate data\n",
    "\n",
    "Given $n$ independent samples, we simulate phenotypes from \n",
    "$$\\mathbf{y}_i \\sim QC(\\mathbf{\\Gamma}, f_1, ..., f_d)$$"
   ]
  },
  {
   "cell_type": "code",
   "execution_count": 229,
   "metadata": {
    "collapsed": false
   },
   "outputs": [],
   "source": [
    "# simulate data\n",
    "p = 3    # number of fixed effects, including intercept\n",
    "m = 2    # number of variance componentsac\n",
    "n = 5000 # number of sample\n",
    "d = 4    # number of phenotypes per sample\n",
    "q = 1000 # number of SNPs\n",
    "k = 5    # number of causal SNPs\n",
    "\n",
    "# sample d marginal distributions for each phenotype within samples\n",
    "Random.seed!(1234)\n",
    "possible_distributions = [Bernoulli, Poisson]\n",
    "vecdist = rand(possible_distributions, d)\n",
    "# vecdist = [Poisson, Bernoulli, Bernoulli] # this derivative test is fine\n",
    "# vecdist = [Bernoulli, Bernoulli, Poisson] # this derivative test is wrong everywhere\n",
    "veclink = [canonicallink(vecdist[j]()) for j in 1:d]\n",
    "\n",
    "# simulate nongenetic coefficient and variance component params\n",
    "Random.seed!(2022)\n",
    "Btrue = rand(Uniform(-0.5, 0.5), p, d)\n",
    "θtrue = fill(0.4, m)\n",
    "V1 = ones(d, d)\n",
    "V2 = Matrix(I, d, d)\n",
    "Γ = m == 1 ? θtrue[1] * V1 : θtrue[1] * V1 + θtrue[2] * V2\n",
    "# Γ = 0.5.*ones(d, d) + 0.5I\n",
    "\n",
    "# simulate non-genetic design matrix\n",
    "Random.seed!(2022)\n",
    "X = [ones(n) randn(n, p - 1)]\n",
    "\n",
    "# simulate random SnpArray with q SNPs and randomly choose k SNPs to be causal\n",
    "# here the first phenotype has strong effect, while other phenotypes have decreasing effects\n",
    "Random.seed!(2022)\n",
    "G = simulate_random_snparray(undef, n, q)\n",
    "Gfloat = convert(Matrix{Float64}, G, center=true, scale=true)\n",
    "γtrue = zeros(q, d)\n",
    "causal_snps = sample(1:q, k, replace=false) |> sort\n",
    "γtrue[causal_snps, 1] .= rand([-0.2, 0.2], k)\n",
    "for j in 2:d\n",
    "    γtrue[causal_snps, j] .= 0.5^j .* γtrue[causal_snps, 1]\n",
    "end\n",
    "\n",
    "# sample phenotypes\n",
    "Y = zeros(n, d)\n",
    "y = Vector{Float64}(undef, d)\n",
    "for i in 1:n\n",
    "    Xi = X[i, :]\n",
    "    Gi = Gfloat[i, :]\n",
    "    η = Btrue' * Xi + γtrue' * Gi\n",
    "    vecd_tmp = Vector{UnivariateDistribution}(undef, d)\n",
    "    for j in 1:d\n",
    "        dist = vecdist[j]\n",
    "        μj = GLM.linkinv(canonicallink(dist()), η[j])\n",
    "        vecd_tmp[j] = dist(μj)\n",
    "    end\n",
    "    multivariate_dist = MultivariateMix(vecd_tmp, Γ)\n",
    "    res = Vector{Float64}(undef, d)\n",
    "    rand(multivariate_dist, y, res)\n",
    "    Y[i, :] .= y\n",
    "end\n",
    "\n",
    "# form model\n",
    "V = m == 1 ? [V1] : [V1, V2]\n",
    "qc_model = MultivariateCopulaVCModel(Y, X, V, vecdist, veclink, penalized=false);"
   ]
  },
  {
   "cell_type": "markdown",
   "metadata": {},
   "source": [
    "What does phenotypes look like?"
   ]
  },
  {
   "cell_type": "code",
   "execution_count": 230,
   "metadata": {
    "collapsed": false
   },
   "outputs": [
    {
     "data": {
      "text/plain": [
       "5000×4 Matrix{Float64}:\n",
       " 1.0  0.0  1.0  1.0\n",
       " 0.0  1.0  0.0  0.0\n",
       " 1.0  1.0  0.0  3.0\n",
       " 0.0  5.0  0.0  0.0\n",
       " 1.0  0.0  1.0  2.0\n",
       " 1.0  2.0  1.0  1.0\n",
       " 0.0  1.0  1.0  0.0\n",
       " 0.0  1.0  1.0  1.0\n",
       " 1.0  1.0  0.0  2.0\n",
       " 0.0  1.0  0.0  0.0\n",
       " 0.0  1.0  0.0  0.0\n",
       " 0.0  0.0  1.0  1.0\n",
       " 0.0  2.0  1.0  0.0\n",
       " ⋮              \n",
       " 1.0  1.0  1.0  2.0\n",
       " 0.0  0.0  0.0  0.0\n",
       " 1.0  0.0  0.0  1.0\n",
       " 0.0  1.0  1.0  0.0\n",
       " 1.0  3.0  1.0  0.0\n",
       " 0.0  4.0  1.0  0.0\n",
       " 1.0  0.0  0.0  2.0\n",
       " 0.0  1.0  0.0  0.0\n",
       " 0.0  0.0  0.0  1.0\n",
       " 0.0  1.0  1.0  1.0\n",
       " 0.0  0.0  0.0  0.0\n",
       " 1.0  3.0  1.0  1.0"
      ]
     },
     "execution_count": 230,
     "metadata": {},
     "output_type": "execute_result"
    }
   ],
   "source": [
    "Y"
   ]
  },
  {
   "cell_type": "markdown",
   "metadata": {},
   "source": [
    "What does our covariates look like?"
   ]
  },
  {
   "cell_type": "code",
   "execution_count": 231,
   "metadata": {
    "collapsed": false
   },
   "outputs": [
    {
     "data": {
      "text/plain": [
       "5000×3 Matrix{Float64}:\n",
       " 1.0  -0.308648    1.70162\n",
       " 1.0   1.67671    -0.548034\n",
       " 1.0  -0.347153    0.736227\n",
       " 1.0   0.818666   -2.16009\n",
       " 1.0  -1.71753    -0.273745\n",
       " 1.0  -0.238934    0.942883\n",
       " 1.0   0.701932    1.02868\n",
       " 1.0  -0.166138   -0.278824\n",
       " 1.0  -0.609614    0.289359\n",
       " 1.0   0.68791     0.209478\n",
       " 1.0   0.0342303  -0.543192\n",
       " 1.0  -0.479078   -0.865401\n",
       " 1.0  -1.63537     0.348029\n",
       " ⋮                \n",
       " 1.0   0.200555    1.14607\n",
       " 1.0  -0.205806    1.98172\n",
       " 1.0   1.17812     0.307879\n",
       " 1.0   1.60549     0.817788\n",
       " 1.0   1.63509    -0.960082\n",
       " 1.0  -0.446096   -1.0502\n",
       " 1.0   0.632009   -0.335688\n",
       " 1.0   0.589777   -1.92135\n",
       " 1.0  -0.542628    1.68057\n",
       " 1.0  -0.779274    0.6376\n",
       " 1.0  -1.19111    -1.3064\n",
       " 1.0   0.505272    1.11117"
      ]
     },
     "execution_count": 231,
     "metadata": {},
     "output_type": "execute_result"
    }
   ],
   "source": [
    "X"
   ]
  },
  {
   "cell_type": "markdown",
   "metadata": {},
   "source": [
    "True SNP effects"
   ]
  },
  {
   "cell_type": "code",
   "execution_count": 232,
   "metadata": {
    "collapsed": false
   },
   "outputs": [
    {
     "data": {
      "text/plain": [
       "20-element Vector{Float64}:\n",
       "  0.2\n",
       "  0.2\n",
       " -0.2\n",
       "  0.2\n",
       " -0.2\n",
       "  0.05\n",
       "  0.05\n",
       " -0.05\n",
       "  0.05\n",
       " -0.05\n",
       "  0.025\n",
       "  0.025\n",
       " -0.025\n",
       "  0.025\n",
       " -0.025\n",
       "  0.0125\n",
       "  0.0125\n",
       " -0.0125\n",
       "  0.0125\n",
       " -0.0125"
      ]
     },
     "execution_count": 232,
     "metadata": {},
     "output_type": "execute_result"
    }
   ],
   "source": [
    "γtrue[findall(!iszero, γtrue)]"
   ]
  },
  {
   "cell_type": "markdown",
   "metadata": {},
   "source": [
    "Support for the phenotypes"
   ]
  },
  {
   "cell_type": "code",
   "execution_count": 233,
   "metadata": {
    "collapsed": false,
    "scrolled": true
   },
   "outputs": [
    {
     "data": {
      "text/plain": [
       "4-element Vector{UnionAll}:\n",
       " Bernoulli\n",
       " Poisson\n",
       " Bernoulli\n",
       " Poisson"
      ]
     },
     "execution_count": 233,
     "metadata": {},
     "output_type": "execute_result"
    }
   ],
   "source": [
    "vecdist"
   ]
  },
  {
   "cell_type": "code",
   "execution_count": 234,
   "metadata": {
    "collapsed": false
   },
   "outputs": [
    {
     "data": {
      "text/plain": [
       "4×4 Matrix{Float64}:\n",
       " 1.0    0.625  0.625  0.625\n",
       " 0.625  1.0    0.625  0.625\n",
       " 0.625  0.625  1.0    0.625\n",
       " 0.625  0.625  0.625  1.0"
      ]
     },
     "execution_count": 234,
     "metadata": {},
     "output_type": "execute_result"
    }
   ],
   "source": [
    "# true Γ scaled to correlation matrix\n",
    "cov2cor(Γ, diag(Γ))"
   ]
  },
  {
   "cell_type": "code",
   "execution_count": 235,
   "metadata": {
    "collapsed": false
   },
   "outputs": [
    {
     "data": {
      "text/plain": [
       "4×4 Matrix{Float64}:\n",
       " 1.0       0.126215   0.149685   0.10909\n",
       " 0.126215  1.0        0.0952175  0.0194712\n",
       " 0.149685  0.0952175  1.0        0.159768\n",
       " 0.10909   0.0194712  0.159768   1.0"
      ]
     },
     "execution_count": 235,
     "metadata": {},
     "output_type": "execute_result"
    }
   ],
   "source": [
    "# empirical correlation of Y\n",
    "Statistics.cor(Y)"
   ]
  },
  {
   "cell_type": "markdown",
   "metadata": {},
   "source": [
    "## Fit Null model\n",
    "\n",
    "TODO: \n",
    "\n",
    "+ Initializing model parameters"
   ]
  },
  {
   "cell_type": "code",
   "execution_count": 236,
   "metadata": {
    "collapsed": false,
    "scrolled": true
   },
   "outputs": [
    {
     "name": "stdout",
     "output_type": "stream",
     "text": [
      "This is Ipopt version 3.13.4, running with linear solver mumps.\n",
      "NOTE: Other linear solvers might be more efficient (see Ipopt documentation).\n",
      "\n",
      "Starting derivative checker for first derivatives.\n",
      "\n",
      "\n",
      "No errors detected by derivative checker.\n",
      "\n",
      "Number of nonzeros in equality constraint Jacobian...:        0\n",
      "Number of nonzeros in inequality constraint Jacobian.:        0\n",
      "Number of nonzeros in Lagrangian Hessian.............:        0\n",
      "\n",
      "Total number of variables............................:       14\n",
      "                     variables with only lower bounds:        2\n",
      "                variables with lower and upper bounds:        0\n",
      "                     variables with only upper bounds:        0\n",
      "Total number of equality constraints.................:        0\n",
      "Total number of inequality constraints...............:        0\n",
      "        inequality constraints with only lower bounds:        0\n",
      "   inequality constraints with lower and upper bounds:        0\n",
      "        inequality constraints with only upper bounds:        0\n",
      "\n",
      "iter    objective    inf_pr   inf_du lg(mu)  ||d||  lg(rg) alpha_du alpha_pr  ls\n",
      "   0  2.0665615e+04 0.00e+00 8.92e+01   0.0 0.00e+00    -  0.00e+00 0.00e+00   0\n",
      "   1  2.0650268e+04 0.00e+00 1.14e+01  -3.0 8.12e+01    -  1.23e-04 1.56e-02f  7\n",
      "   2  2.0477523e+04 0.00e+00 7.06e+00  -3.9 1.48e-01    -  1.00e+00 1.00e+00f  1\n",
      "   3  2.0392080e+04 0.00e+00 1.11e+01  -5.6 2.81e-01    -  1.00e+00 1.00e+00f  1\n",
      "   4  2.0316064e+04 0.00e+00 6.71e+00  -6.6 3.11e-01    -  1.00e+00 1.00e+00f  1\n",
      "   5  2.0294130e+04 0.00e+00 1.98e+00  -8.1 8.89e-02    -  1.00e+00 1.00e+00f  1\n",
      "   6  2.0288532e+04 0.00e+00 7.38e-01  -9.4 5.10e-02    -  1.00e+00 1.00e+00f  1\n",
      "   7  2.0287800e+04 0.00e+00 5.85e-01 -11.0 2.54e-02    -  1.00e+00 1.00e+00f  1\n",
      "   8  2.0287195e+04 0.00e+00 2.48e-01 -11.0 2.64e-02    -  1.00e+00 1.00e+00f  1\n",
      "   9  2.0286713e+04 0.00e+00 2.96e-01 -11.0 2.36e-02    -  1.00e+00 1.00e+00f  1\n",
      "iter    objective    inf_pr   inf_du lg(mu)  ||d||  lg(rg) alpha_du alpha_pr  ls\n",
      "  10  2.0286159e+04 0.00e+00 2.06e+00 -11.0 7.44e-01    -  1.00e+00 5.00e-01f  2\n",
      "  11  2.0284739e+04 0.00e+00 3.39e+00 -11.0 5.66e+00    -  1.00e+00 3.32e-02f  3\n",
      "  12  2.0282859e+04 0.00e+00 3.45e+00 -11.0 1.56e+00    -  1.00e+00 9.07e-02f  3\n",
      "  13  2.0282748e+04 0.00e+00 2.15e+00 -11.0 6.71e-01    -  1.00e+00 1.59e-01f  3\n",
      "  14  2.0279471e+04 0.00e+00 1.75e+00  -9.6 2.96e-01    -  1.00e+00 5.00e-01f  2\n",
      "  15  2.0279197e+04 0.00e+00 2.51e+00 -10.2 1.93e-01    -  1.00e+00 2.50e-01f  3\n",
      "  16  2.0276485e+04 0.00e+00 3.75e-01 -11.0 3.20e-02    -  1.00e+00 1.00e+00f  1\n",
      "  17  2.0276396e+04 0.00e+00 6.68e-02 -11.0 1.26e-02    -  1.00e+00 5.00e-01f  2\n",
      "  18  2.0276385e+04 0.00e+00 7.73e-02 -11.0 9.17e-03    -  1.00e+00 1.00e+00f  1\n",
      "  19  2.0276383e+04 0.00e+00 3.82e-02 -11.0 1.96e-02    -  1.00e+00 1.25e-01f  4\n",
      "iter    objective    inf_pr   inf_du lg(mu)  ||d||  lg(rg) alpha_du alpha_pr  ls\n",
      "  20  2.0276382e+04 0.00e+00 3.85e-02 -11.0 2.53e-03    -  1.00e+00 5.00e-01f  2\n",
      "  21  2.0276381e+04 0.00e+00 3.03e-02 -11.0 1.24e-03    -  1.00e+00 1.00e+00f  1\n",
      "  22  2.0276381e+04 0.00e+00 5.83e-03 -11.0 5.65e-04    -  1.00e+00 1.00e+00f  1\n",
      "  23  2.0276381e+04 0.00e+00 3.69e-03 -11.0 1.80e-04    -  1.00e+00 1.00e+00f  1\n",
      "  24  2.0276381e+04 0.00e+00 1.72e-03 -11.0 6.74e-05    -  1.00e+00 1.00e+00f  1\n",
      "  25  2.0276381e+04 0.00e+00 7.86e-04 -11.0 8.11e-05    -  1.00e+00 1.00e+00f  1\n",
      "  26  2.0276381e+04 0.00e+00 4.25e-04 -11.0 7.50e-05    -  1.00e+00 5.00e-01f  2\n",
      "  27  2.0276381e+04 0.00e+00 5.10e-04 -11.0 3.05e-05    -  1.00e+00 1.00e+00f  1\n",
      "  28  2.0276381e+04 0.00e+00 3.09e-04 -11.0 2.43e-05    -  1.00e+00 5.00e-01f  2\n",
      "  29  2.0276381e+04 0.00e+00 3.45e-05 -11.0 1.02e-05    -  1.00e+00 1.00e+00f  1\n",
      "iter    objective    inf_pr   inf_du lg(mu)  ||d||  lg(rg) alpha_du alpha_pr  ls\n",
      "  30  2.0276381e+04 0.00e+00 8.54e-05 -11.0 6.33e-06    -  1.00e+00 1.00e+00f  1\n",
      "  31  2.0276381e+04 0.00e+00 9.46e-05 -11.0 3.35e-05    -  1.00e+00 2.50e-01f  3\n",
      "  32  2.0276381e+04 0.00e+00 5.30e-05 -11.0 3.62e-06    -  1.00e+00 5.00e-01f  2\n",
      "  33  2.0276381e+04 0.00e+00 3.44e-05 -11.0 4.51e-06    -  1.00e+00 1.00e+00f  1\n",
      "  34  2.0276381e+04 0.00e+00 8.20e-06 -11.0 3.31e-06    -  1.00e+00 1.25e-01f  4\n",
      "  35  2.0276381e+04 0.00e+00 4.93e-06 -11.0 1.16e-06    -  1.00e+00 1.00e+00f  1\n",
      "  36  2.0276381e+04 0.00e+00 5.54e-06 -11.0 2.95e-06    -  1.00e+00 1.25e-01f  4\n",
      "  37  2.0276381e+04 0.00e+00 3.93e-06 -11.0 4.15e-07    -  1.00e+00 5.00e-01f  2\n",
      "  38  2.0276381e+04 0.00e+00 4.75e-06 -11.0 2.56e-07    -  1.00e+00 1.00e+00f  1\n",
      "  39  2.0276381e+04 0.00e+00 3.19e-06 -11.0 1.37e-07    -  1.00e+00 1.00e+00f  1\n",
      "iter    objective    inf_pr   inf_du lg(mu)  ||d||  lg(rg) alpha_du alpha_pr  ls\n",
      "  40  2.0276381e+04 0.00e+00 2.24e-06 -11.0 8.16e-08    -  1.00e+00 1.00e+00f  1\n",
      "  41  2.0276381e+04 0.00e+00 2.83e-07 -11.0 4.35e-08    -  1.00e+00 1.00e+00f  1\n",
      "\n",
      "Number of Iterations....: 41\n",
      "\n",
      "                                   (scaled)                 (unscaled)\n",
      "Objective...............:   3.9877137091105027e+02    2.0276380710425128e+04\n",
      "Dual infeasibility......:   2.8343941194890786e-07    1.4412081318387894e-05\n",
      "Constraint violation....:   0.0000000000000000e+00    0.0000000000000000e+00\n",
      "Complementarity.........:   9.9999999999999994e-12    5.0847132441079792e-10\n",
      "Overall NLP error.......:   2.8343941194890786e-07    1.4412081318387894e-05\n",
      "\n",
      "\n",
      "Number of objective function evaluations             = 143\n",
      "Number of objective gradient evaluations             = 42\n",
      "Number of equality constraint evaluations            = 0\n",
      "Number of inequality constraint evaluations          = 0\n",
      "Number of equality constraint Jacobian evaluations   = 0\n",
      "Number of inequality constraint Jacobian evaluations = 0\n",
      "Number of Lagrangian Hessian evaluations             = 0\n",
      "Total CPU secs in IPOPT (w/o function evaluations)   =      0.573\n",
      "Total CPU secs in NLP function evaluations           =      4.262\n",
      "\n",
      "EXIT: Optimal Solution Found.\n",
      "  4.908728 seconds (118.53 M allocations: 1.875 GiB, 1.95% gc time)\n"
     ]
    }
   ],
   "source": [
    "@time optm = QuasiCopula.fit!(qc_model,\n",
    "    Ipopt.IpoptSolver(\n",
    "        print_level = 5, \n",
    "        tol = 10^-6, \n",
    "        max_iter = 100,\n",
    "        accept_after_max_steps = 10,\n",
    "        warm_start_init_point=\"yes\", \n",
    "        limited_memory_max_history = 6, # default value\n",
    "        hessian_approximation = \"limited-memory\",\n",
    "        derivative_test=\"first-order\"\n",
    "    )\n",
    ");"
   ]
  },
  {
   "cell_type": "code",
   "execution_count": 237,
   "metadata": {
    "collapsed": false,
    "scrolled": true
   },
   "outputs": [
    {
     "name": "stdout",
     "output_type": "stream",
     "text": [
      "qc_model.∇vecB = [-1.2467343239452866e-6, -1.3910790296056685e-6, 8.61692640047318e-6, -5.013526466868257e-6, -9.326385330910014e-6, -4.845416793353152e-6, -5.4444424315014395e-6, 1.4412081318387893e-5, 8.992787771111566e-7, -1.1980328428085052e-5, -7.714791836338497e-6, -6.990658495825697e-6]\n",
      "qc_model.∇θ = [6.400263261596706e-6, 2.723714553454215e-6]\n"
     ]
    }
   ],
   "source": [
    "@show qc_model.∇vecB\n",
    "@show qc_model.∇θ;"
   ]
  },
  {
   "cell_type": "code",
   "execution_count": 238,
   "metadata": {
    "collapsed": false
   },
   "outputs": [
    {
     "data": {
      "text/plain": [
       "12×2 Matrix{Float64}:\n",
       " -0.293093   -0.280755\n",
       "  0.0985447   0.167603\n",
       " -0.336887   -0.330996\n",
       " -0.0575416  -0.0469412\n",
       "  0.479354    0.483384\n",
       " -0.241677   -0.269155\n",
       "  0.0987866   0.144784\n",
       " -0.399915   -0.39274\n",
       " -0.0239704   0.0260867\n",
       " -0.246693   -0.234534\n",
       " -0.0994702  -0.0969734\n",
       "  0.105221    0.0955352"
      ]
     },
     "execution_count": 238,
     "metadata": {},
     "output_type": "execute_result"
    }
   ],
   "source": [
    "[vec(qc_model.B) vec(Btrue)]"
   ]
  },
  {
   "cell_type": "code",
   "execution_count": 239,
   "metadata": {
    "collapsed": false
   },
   "outputs": [
    {
     "data": {
      "text/plain": [
       "2×2 Matrix{Float64}:\n",
       " 0.448731  0.4\n",
       " 0.4528    0.4"
      ]
     },
     "execution_count": 239,
     "metadata": {},
     "output_type": "execute_result"
    }
   ],
   "source": [
    "[qc_model.θ θtrue]"
   ]
  },
  {
   "cell_type": "code",
   "execution_count": 240,
   "metadata": {
    "collapsed": false
   },
   "outputs": [
    {
     "data": {
      "text/plain": [
       "false"
      ]
     },
     "execution_count": 240,
     "metadata": {},
     "output_type": "execute_result"
    }
   ],
   "source": [
    "qc_model.penalized"
   ]
  },
  {
   "cell_type": "markdown",
   "metadata": {
    "collapsed": true
   },
   "source": [
    "## Autodiff checks\n",
    "\n",
    "First, check if `autodiff_loglikelihood` returns same answer as `QuasiCopula.loglikelihood!`"
   ]
  },
  {
   "cell_type": "code",
   "execution_count": 174,
   "metadata": {
    "collapsed": false
   },
   "outputs": [
    {
     "name": "stdout",
     "output_type": "stream",
     "text": [
      "autodiff_loglikelihood(fullβ) = -20292.905371821944\n",
      "QuasiCopula.loglikelihood!(qc_model, false, false) = -20292.905371823275\n"
     ]
    }
   ],
   "source": [
    "# define autodiff likelihood, gradient, and Hessians\n",
    "autodiff_loglikelihood(vecB) = QuasiCopula.loglikelihood(vecB, qc_model, z)\n",
    "∇logl = x -> ForwardDiff.gradient(autodiff_loglikelihood, x)\n",
    "∇²logl = x -> ForwardDiff.hessian(autodiff_loglikelihood, x)\n",
    "∇logl! = (grad, x) -> ForwardDiff.gradient!(grad, autodiff_loglikelihood, x)\n",
    "∇²logl! = (hess, x) -> ForwardDiff.hessian!(hess, autodiff_loglikelihood, x)\n",
    "\n",
    "# sample i loglikelihood\n",
    "i = 1\n",
    "z = convert(Vector{Float64}, @view(G[:, i]), center=true, scale=false)\n",
    "fullβ = [vec(qc_model.B); qc_model.θ; zeros(d)]\n",
    "# fullβ = [qc_model.β; qc_model.θ; qc_model.τ; zeros(d)] # normal\n",
    "\n",
    "@show autodiff_loglikelihood(fullβ)\n",
    "@show QuasiCopula.loglikelihood!(qc_model, false, false);"
   ]
  },
  {
   "cell_type": "markdown",
   "metadata": {},
   "source": [
    "Lets compute a few Hessians"
   ]
  },
  {
   "cell_type": "code",
   "execution_count": 175,
   "metadata": {
    "collapsed": false
   },
   "outputs": [
    {
     "data": {
      "text/plain": [
       "18×18 Matrix{Float64}:\n",
       " -632.823      -21.4738       30.4495   …    0.842171      2.619\n",
       "  -21.4738    -604.98        -28.9684       -0.0413417     0.459265\n",
       "   30.4495     -28.9684     -599.192         1.65776       1.17729\n",
       "  107.556       41.3065      -28.293         1.4076        5.22071\n",
       "   41.3065     113.606        -2.29752       0.762857      4.33628\n",
       "  -28.293       -2.29752      99.0345   …    1.41269       0.356133\n",
       "   60.9983       4.09349       2.22575      -0.829679      2.22235\n",
       "    4.09349     59.3865       -0.81889       3.76708       0.186459\n",
       "    2.22575     -0.81889      60.6271       -8.31407       1.00221\n",
       "   93.7865       2.35496      -1.04703       2.22235       7.0849\n",
       "    2.35496     92.9894        1.46748  …    0.186459     21.652\n",
       "   -1.04703      1.46748      90.8038        1.00221     -34.7914\n",
       "  -42.9543      11.3325      -31.0218       -6.19715     -11.582\n",
       "    7.12722     40.8786      -34.154        -2.40134      -7.22885\n",
       "    0.442875     2.08455      -7.08072       7.86541      13.7719\n",
       "    0.85644      0.865586      3.31319  …   16.0444       24.4617\n",
       "    0.842171    -0.0413417     1.65776     -66.8323       15.1655\n",
       "    2.619        0.459265      1.17729      15.1655     -301.143"
      ]
     },
     "execution_count": 175,
     "metadata": {},
     "output_type": "execute_result"
    }
   ],
   "source": [
    "i = 1\n",
    "z = convert(Vector{Float64}, @view(G[:, i]), center=true, scale=false)\n",
    "Hfull = ∇²logl(fullβ) # snp 1"
   ]
  },
  {
   "cell_type": "code",
   "execution_count": 176,
   "metadata": {
    "collapsed": false
   },
   "outputs": [
    {
     "data": {
      "text/plain": [
       "18×18 Matrix{Float64}:\n",
       " -632.823      -21.4738     30.4495    …     0.814884      3.03618\n",
       "  -21.4738    -604.98      -28.9684         -1.46681      -3.52215\n",
       "   30.4495     -28.9684   -599.192           1.36703       2.85973\n",
       "  107.556       41.3065    -28.293           0.828104      3.73736\n",
       "   41.3065     113.606      -2.29752        -2.56424      -3.60895\n",
       "  -28.293       -2.29752    99.0345    …    -3.35384      -2.05564\n",
       "   60.9983       4.09349     2.22575         0.722096      3.42676\n",
       "    4.09349     59.3865     -0.81889        -8.67499      -3.75257\n",
       "    2.22575     -0.81889    60.6271          9.8269        1.92115\n",
       "   93.7865       2.35496    -1.04703         3.42676      16.0439\n",
       "    2.35496     92.9894      1.46748   …    -3.75257     -35.5145\n",
       "   -1.04703      1.46748    90.8038          1.92115      54.5368\n",
       "  -42.9543      11.3325    -31.0218          6.20733      22.9274\n",
       "    7.12722     40.8786    -34.154          -3.13267      -8.8422\n",
       "    2.444       -7.91854     5.69671        19.5323       30.5513\n",
       "   -0.282073    -1.75446    -0.037968  …    37.2424       44.0524\n",
       "    0.814884    -1.46681     1.36703      -212.017        32.5491\n",
       "    3.03618     -3.52215     2.85973        32.5491    -1006.69"
      ]
     },
     "execution_count": 176,
     "metadata": {},
     "output_type": "execute_result"
    }
   ],
   "source": [
    "i = 10\n",
    "z = convert(Vector{Float64}, @view(G[:, i]), center=true, scale=false)\n",
    "Hfull = ∇²logl(fullβ) # snp 10"
   ]
  },
  {
   "cell_type": "markdown",
   "metadata": {},
   "source": [
    "Check gradient"
   ]
  },
  {
   "cell_type": "code",
   "execution_count": 177,
   "metadata": {
    "collapsed": false
   },
   "outputs": [
    {
     "data": {
      "text/plain": [
       "18-element Vector{Float64}:\n",
       " -3.288564031528329e-5\n",
       " -9.271545333505715e-6\n",
       "  2.5569035333017354e-5\n",
       "  2.2455003598265133e-5\n",
       "  4.5558109538768043e-5\n",
       " -1.0415080668513266e-5\n",
       "  2.4175350741728607e-5\n",
       "  1.0144715449772468e-5\n",
       "  2.7534773054116446e-5\n",
       " -9.233717258694263e-6\n",
       "  9.01368769642974e-6\n",
       "  2.3738441629062024e-5\n",
       "  9.260687237166998e-6\n",
       "  1.752613043420892e-5\n",
       "  1.6516151672286656\n",
       " -9.828099348063088\n",
       " -3.374463632442021\n",
       " -1.6034035920967213"
      ]
     },
     "execution_count": 177,
     "metadata": {},
     "output_type": "execute_result"
    }
   ],
   "source": [
    "∇logl(fullβ)"
   ]
  },
  {
   "cell_type": "markdown",
   "metadata": {},
   "source": [
    "## Score test with autodiff"
   ]
  },
  {
   "cell_type": "code",
   "execution_count": 241,
   "metadata": {
    "collapsed": false
   },
   "outputs": [
    {
     "name": "stderr",
     "output_type": "stream",
     "text": [
      "\u001b[32mProgress: 100%|█████████████████████████████████████████| Time: 0:04:34\u001b[39m\n"
     ]
    },
    {
     "data": {
      "text/plain": [
       "1000-element Vector{Float64}:\n",
       " 0.7815742325229147\n",
       " 0.17140268237304465\n",
       " 0.002799776263036702\n",
       " 0.5886764503637241\n",
       " 0.7375897874583739\n",
       " 0.7777517528510861\n",
       " 0.1517370757806214\n",
       " 0.6175342930512208\n",
       " 0.3930267593234532\n",
       " 0.1971264986648714\n",
       " 0.8305456159265281\n",
       " 0.21874324406128542\n",
       " 0.5615837348998681\n",
       " ⋮\n",
       " 0.6140791081327294\n",
       " 0.635613436675311\n",
       " 0.9155248770268267\n",
       " 0.5589480805780602\n",
       " 0.9283238396080231\n",
       " 0.6407599910158946\n",
       " 0.31450738799001743\n",
       " 0.24252778005967757\n",
       " 0.8581997586901977\n",
       " 0.8377764392098912\n",
       " 0.4441710734074863\n",
       " 0.14544341160794663"
      ]
     },
     "execution_count": 241,
     "metadata": {},
     "output_type": "execute_result"
    }
   ],
   "source": [
    "pvals = multivariateGWAS_autodiff(qc_model, G)"
   ]
  },
  {
   "cell_type": "markdown",
   "metadata": {},
   "source": [
    "Check QQ plots"
   ]
  },
  {
   "cell_type": "code",
   "execution_count": 179,
   "metadata": {
    "collapsed": false
   },
   "outputs": [
    {
     "data": {
      "image/png": "[encoded data removed]"
     },
     "metadata": {},
     "output_type": "display_data"
    }
   ],
   "source": [
    "# only Poisson/Bernoulli traits\n",
    "qq(pvals, dpi=100, titles=\"4 traits, $k causal SNPs\")\n",
    "display(\"image/png\", read(\"qqplot.png\"))"
   ]
  },
  {
   "cell_type": "code",
   "execution_count": 242,
   "metadata": {
    "collapsed": false
   },
   "outputs": [
    {
     "data": {
      "image/png": "[encoded data removed]"
     },
     "metadata": {},
     "output_type": "display_data"
    }
   ],
   "source": [
    "# only Poisson/Bernoulli traits\n",
    "qq(pvals, dpi=100, titles=\"4 traits, $k causal SNPs\")\n",
    "display(\"image/png\", read(\"qqplot.png\"))"
   ]
  },
  {
   "cell_type": "code",
   "execution_count": null,
   "metadata": {
    "collapsed": true
   },
   "outputs": [],
   "source": []
  },
  {
   "cell_type": "code",
   "execution_count": null,
   "metadata": {
    "collapsed": true
   },
   "outputs": [],
   "source": []
  },
  {
   "cell_type": "code",
   "execution_count": null,
   "metadata": {
    "collapsed": true
   },
   "outputs": [],
   "source": []
  },
  {
   "cell_type": "code",
   "execution_count": null,
   "metadata": {
    "collapsed": true
   },
   "outputs": [],
   "source": []
  },
  {
   "cell_type": "code",
   "execution_count": null,
   "metadata": {
    "collapsed": true
   },
   "outputs": [],
   "source": []
  },
  {
   "cell_type": "code",
   "execution_count": 25,
   "metadata": {
    "collapsed": false
   },
   "outputs": [
    {
     "data": {
      "image/png": "[encoded data removed]"
     },
     "metadata": {},
     "output_type": "display_data"
    }
   ],
   "source": [
    "# includes gaussian traits\n",
    "qq(pvals, dpi=100, titles=\"4 traits, $k causal SNPs\")\n",
    "display(\"image/png\", read(\"qqplot.png\"))"
   ]
  },
  {
   "cell_type": "code",
   "execution_count": 130,
   "metadata": {
    "collapsed": false
   },
   "outputs": [
    {
     "data": {
      "image/png": "[encoded data removed]"
     },
     "metadata": {},
     "output_type": "display_data"
    }
   ],
   "source": [
    "# includes gaussian traits\n",
    "qq(pvals, dpi=100, titles=\"4 traits, $k causal SNPs\")\n",
    "display(\"image/png\", read(\"qqplot.png\"))"
   ]
  },
  {
   "cell_type": "code",
   "execution_count": null,
   "metadata": {
    "collapsed": true
   },
   "outputs": [],
   "source": []
  }
 ],
 "metadata": {
  "@webio": {
   "lastCommId": null,
   "lastKernelId": null
  },
  "kernelspec": {
   "display_name": "Julia 1.7.3",
   "language": "julia",
   "name": "julia-1.7"
  },
  "language_info": {
   "file_extension": ".jl",
   "mimetype": "application/julia",
   "name": "julia",
   "version": "1.7.3"
  },
  "toc": {
   "base_numbering": 1,
   "nav_menu": {},
   "number_sections": true,
   "sideBar": true,
   "skip_h1_title": false,
   "title_cell": "Table of Contents",
   "title_sidebar": "Contents",
   "toc_cell": false,
   "toc_position": {},
   "toc_section_display": true,
   "toc_window_display": false
  }
 },
 "nbformat": 4,
 "nbformat_minor": 2
}
