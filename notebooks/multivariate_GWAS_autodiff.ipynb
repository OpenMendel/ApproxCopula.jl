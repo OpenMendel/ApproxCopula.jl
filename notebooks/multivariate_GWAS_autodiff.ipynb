{
 "cells": [
  {
   "cell_type": "markdown",
   "metadata": {},
   "source": [
    "# Multivariate QuasiCopula GWAS with Mixed Marginals\n",
    "\n",
    "Here we adopt the variance component model framework\n",
    "\n",
    "$$\\mathbf{\\Gamma}_i(\\mathbf{\\theta}) = \\sum_{k=1}^m \\theta_k\\mathbf{V}_{ik}, \\quad \\theta_k \\ge 0$$"
   ]
  },
  {
   "cell_type": "code",
   "execution_count": 86,
   "metadata": {
    "collapsed": false
   },
   "outputs": [],
   "source": [
    "using Revise\n",
    "using DataFrames, Random, GLM, QuasiCopula\n",
    "using ForwardDiff, Test, LinearAlgebra\n",
    "using LinearAlgebra: BlasReal, copytri!\n",
    "using ToeplitzMatrices\n",
    "using BenchmarkTools\n",
    "using SnpArrays\n",
    "using Statistics\n",
    "using StatsBase\n",
    "using MendelPlots\n",
    "\n",
    "BLAS.set_num_threads(1)"
   ]
  },
  {
   "cell_type": "markdown",
   "metadata": {},
   "source": [
    "## Simulate data"
   ]
  },
  {
   "cell_type": "code",
   "execution_count": 107,
   "metadata": {
    "collapsed": false
   },
   "outputs": [],
   "source": [
    "k = 0 # number of causal SNPs\n",
    "\n",
    "qc_model, G, Btrue, θtrue, γtrue, τtrue = simulate_multivariate_traits(\n",
    "    n = 5000, # sample size\n",
    "    p = 3, # number of fixed effects, including intercept\n",
    "    m = 1, # number of variance components\n",
    "    d = 4, # number of phenotypes\n",
    "    q = 1000, # number of SNPs\n",
    "    k = k, # number of causal SNPs\n",
    "    seed = 2023,\n",
    "    τtrue = 0.01,\n",
    "    possible_distributions = [Normal],\n",
    "    θtrue = 0.99\n",
    ");"
   ]
  },
  {
   "cell_type": "code",
   "execution_count": 108,
   "metadata": {
    "collapsed": false
   },
   "outputs": [
    {
     "data": {
      "text/plain": [
       "5000×4 Matrix{Float64}:\n",
       "  -4.95606    -7.52613    -3.15212   -14.1045\n",
       "   5.36904    -4.796       4.01043    10.1443\n",
       "  22.5431     -0.415336  -14.5274    -12.1539\n",
       "  -6.01453   -10.9469     -2.10129   -13.3036\n",
       "  -2.92825   -14.4018    -19.6749      8.71326\n",
       " -19.6861    -12.8929      7.03636     6.0824\n",
       " -10.3778     16.8926     -4.83515   -11.2156\n",
       " -10.2394     10.6631     12.8492      4.47336\n",
       "  -3.97433    11.4511      3.01754     6.52108\n",
       "   1.0742     -8.28142    -3.72285    11.7441\n",
       "   8.51566     4.64729     8.65062    -2.89298\n",
       "  12.8355     14.1054     11.6425     -1.34441\n",
       "  23.8395      0.733307   -8.41364     9.91874\n",
       "   ⋮                                 \n",
       "   9.50517   -18.5944     -2.90969   -17.5956\n",
       "   3.35573     6.75812    -1.06046    30.2087\n",
       "   3.34753    23.2303     10.9588    -16.6856\n",
       "   3.75001     8.05659     9.52798    -0.477891\n",
       "   6.3296      3.87685     8.83758    16.1764\n",
       "  -4.91667    -8.5479     28.7541     -0.156582\n",
       "  16.5507      9.40808     0.562975   -6.06392\n",
       "   9.01      -17.4727     -9.08875     7.5441\n",
       "   0.765138    4.44918    -2.50738    25.7842\n",
       "   2.71485   -15.4538      5.14434   -10.0903\n",
       "  -4.73621   -13.031      -3.94123     7.03226\n",
       "  -0.903754    7.59007    -2.82333    -0.0553265"
      ]
     },
     "execution_count": 108,
     "metadata": {},
     "output_type": "execute_result"
    }
   ],
   "source": [
    "# phenotypes\n",
    "qc_model.Y"
   ]
  },
  {
   "cell_type": "code",
   "execution_count": 109,
   "metadata": {
    "collapsed": false
   },
   "outputs": [
    {
     "data": {
      "text/plain": [
       "4×4 Matrix{Float64}:\n",
       " 1.0       0.245827  0.259612  0.238301\n",
       " 0.245827  1.0       0.249399  0.254681\n",
       " 0.259612  0.249399  1.0       0.249934\n",
       " 0.238301  0.254681  0.249934  1.0"
      ]
     },
     "execution_count": 109,
     "metadata": {},
     "output_type": "execute_result"
    }
   ],
   "source": [
    "Statistics.cor(qc_model.Y)"
   ]
  },
  {
   "cell_type": "code",
   "execution_count": 71,
   "metadata": {
    "collapsed": false
   },
   "outputs": [
    {
     "data": {
      "text/plain": [
       "0.4967439893125874"
      ]
     },
     "execution_count": 71,
     "metadata": {},
     "output_type": "execute_result"
    }
   ],
   "source": [
    "std(qc_model.Y[:, 1])"
   ]
  },
  {
   "cell_type": "code",
   "execution_count": 72,
   "metadata": {
    "collapsed": false
   },
   "outputs": [
    {
     "data": {
      "text/plain": [
       "Float64[]"
      ]
     },
     "execution_count": 72,
     "metadata": {},
     "output_type": "execute_result"
    }
   ],
   "source": [
    "# true SNP effects\n",
    "γtrue[findall(!iszero, γtrue)]"
   ]
  },
  {
   "cell_type": "code",
   "execution_count": 73,
   "metadata": {
    "collapsed": false,
    "scrolled": true
   },
   "outputs": [
    {
     "data": {
      "text/plain": [
       "12-element Vector{Float64}:\n",
       " -0.0046981037574234386\n",
       " -0.003581057263844556\n",
       "  0.06563214382453525\n",
       "  0.06707974916460002\n",
       " -0.0029393324818849237\n",
       "  0.03518163908114376\n",
       " -0.1016959514805833\n",
       " -0.08106198225028216\n",
       "  0.09418247849074851\n",
       "  0.05790045808231048\n",
       "  0.03643164091456652\n",
       "  0.0462275803430706"
      ]
     },
     "execution_count": 73,
     "metadata": {},
     "output_type": "execute_result"
    }
   ],
   "source": [
    "vec(qc_model.B) - vec(Btrue)"
   ]
  },
  {
   "cell_type": "markdown",
   "metadata": {},
   "source": [
    "## Fit Null model\n",
    "\n",
    "TODO: \n",
    "\n",
    "+ Initializing $\\theta$ and $\\phi$ in a better way"
   ]
  },
  {
   "cell_type": "code",
   "execution_count": 74,
   "metadata": {
    "collapsed": false
   },
   "outputs": [
    {
     "name": "stdout",
     "output_type": "stream",
     "text": [
      "This is Ipopt version 3.13.4, running with linear solver mumps.\n",
      "NOTE: Other linear solvers might be more efficient (see Ipopt documentation).\n",
      "\n",
      "Number of nonzeros in equality constraint Jacobian...:        0\n",
      "Number of nonzeros in inequality constraint Jacobian.:        0\n",
      "Number of nonzeros in Lagrangian Hessian.............:        0\n",
      "\n",
      "Total number of variables............................:       14\n",
      "                     variables with only lower bounds:        2\n",
      "                variables with lower and upper bounds:        0\n",
      "                     variables with only upper bounds:        0\n",
      "Total number of equality constraints.................:        0\n",
      "Total number of inequality constraints...............:        0\n",
      "        inequality constraints with only lower bounds:        0\n",
      "   inequality constraints with lower and upper bounds:        0\n",
      "        inequality constraints with only upper bounds:        0\n",
      "\n",
      "iter    objective    inf_pr   inf_du lg(mu)  ||d||  lg(rg) alpha_du alpha_pr  ls\n",
      "   0  2.7320211e+05 0.00e+00 1.00e+02   0.0 0.00e+00    -  0.00e+00 0.00e+00   0\n",
      "   1  3.3346641e+04 0.00e+00 7.32e+01  -2.9 9.99e+01    -  1.00e+00 9.91e-03f  1\n",
      "   2  3.3346446e+04 0.00e+00 3.16e+01  -1.4 4.18e-01    -  1.00e+00 7.81e-03f  8\n",
      "   3  3.3346518e+04 0.00e+00 3.16e+01  -3.3 2.49e-03    -  1.00e+00 9.77e-04h 11\n",
      "   4  3.3346612e+04 0.00e+00 3.15e+01  -3.5 3.29e-03    -  1.00e+00 9.77e-04h 11\n",
      "   5  3.3346707e+04 0.00e+00 3.15e+01  -3.5 3.29e-03    -  1.00e+00 9.77e-04h 11\n",
      "   6  3.3346803e+04 0.00e+00 3.15e+01  -3.5 3.29e-03    -  1.00e+00 9.77e-04h 11\n",
      "   7  3.3346898e+04 0.00e+00 3.15e+01  -3.5 3.28e-03    -  1.00e+00 9.77e-04h 11\n",
      "   8  3.3346993e+04 0.00e+00 3.14e+01  -3.5 3.28e-03    -  1.00e+00 9.77e-04h 11\n",
      "   9  3.3347088e+04 0.00e+00 3.14e+01  -3.5 3.28e-03    -  1.00e+00 9.77e-04h 11\n",
      "iter    objective    inf_pr   inf_du lg(mu)  ||d||  lg(rg) alpha_du alpha_pr  ls\n",
      "  10  3.3347184e+04 0.00e+00 3.14e+01  -3.5 3.28e-03    -  1.00e+00 9.77e-04h 11\n",
      "  11  3.3347279e+04 0.00e+00 3.13e+01  -3.5 3.28e-03    -  1.00e+00 9.77e-04h 11\n",
      "  12  3.3347375e+04 0.00e+00 3.13e+01  -3.5 3.28e-03    -  1.00e+00 9.77e-04h 11\n",
      "  13  3.3347470e+04 0.00e+00 3.13e+01  -3.5 3.28e-03    -  1.00e+00 9.77e-04h 11\n",
      "  14  3.3515399e+04 0.00e+00 6.08e+00  -3.5 3.27e-03    -  1.00e+00 1.00e+00w  1\n",
      "  15  3.3574091e+04 0.00e+00 1.37e+00  -3.5 7.97e-04    -  1.00e+00 1.00e+00w  1\n",
      "  16  3.3593132e+04 0.00e+00 2.94e-01  -3.5 2.44e-04    -  1.00e+00 1.00e+00w  1\n",
      "  17  3.3347518e+04 0.00e+00 3.13e+01  -3.5 7.93e-05    -  1.00e+00 4.88e-04h 11\n",
      "  18  3.3347644e+04 0.00e+00 3.12e+01  -3.5 4.32e-03    -  1.00e+00 9.77e-04h 11\n",
      "  19  3.3347740e+04 0.00e+00 3.12e+01  -3.5 3.27e-03    -  1.00e+00 9.77e-04h 11\n",
      "iter    objective    inf_pr   inf_du lg(mu)  ||d||  lg(rg) alpha_du alpha_pr  ls\n",
      "  20  3.3347836e+04 0.00e+00 3.11e+01  -3.5 3.27e-03    -  1.00e+00 9.77e-04h 11\n",
      "  21  3.3347932e+04 0.00e+00 3.11e+01  -3.5 3.27e-03    -  1.00e+00 9.77e-04h 11\n",
      "  22  3.3348028e+04 0.00e+00 3.11e+01  -3.5 3.27e-03    -  1.00e+00 9.77e-04h 11\n",
      "  23  3.3348124e+04 0.00e+00 3.11e+01  -3.5 3.27e-03    -  1.00e+00 9.77e-04h 11\n",
      "  24  3.3348220e+04 0.00e+00 3.10e+01  -3.5 3.27e-03    -  1.00e+00 9.77e-04h 11\n",
      "  25  3.3348316e+04 0.00e+00 3.10e+01  -3.5 3.27e-03    -  1.00e+00 9.77e-04h 11\n",
      "  26  3.3348412e+04 0.00e+00 3.10e+01  -3.5 3.26e-03    -  1.00e+00 9.77e-04h 11\n",
      "  27  3.3516241e+04 0.00e+00 5.95e+00  -3.5 3.26e-03    -  1.00e+00 1.00e+00w  1\n",
      "  28  3.3574352e+04 0.00e+00 1.29e+00  -3.5 7.89e-04    -  1.00e+00 1.00e+00w  1\n",
      "  29  3.3593078e+04 0.00e+00 2.94e-01  -3.5 2.40e-04    -  1.00e+00 1.00e+00w  1\n",
      "iter    objective    inf_pr   inf_du lg(mu)  ||d||  lg(rg) alpha_du alpha_pr  ls\n",
      "  30  3.3348460e+04 0.00e+00 3.10e+01  -3.5 1.05e-04    -  1.00e+00 4.88e-04h 11\n",
      "  31  3.3348587e+04 0.00e+00 3.09e+01  -3.5 4.30e-03    -  1.00e+00 9.77e-04h 11\n",
      "  32  3.3348683e+04 0.00e+00 3.09e+01  -3.5 3.26e-03    -  1.00e+00 9.77e-04h 11\n",
      "  33  3.3348780e+04 0.00e+00 3.09e+01  -3.5 3.26e-03    -  1.00e+00 9.77e-04h 11\n",
      "  34  3.3348876e+04 0.00e+00 3.08e+01  -3.5 3.26e-03    -  1.00e+00 9.77e-04h 11\n",
      "  35  3.3348973e+04 0.00e+00 3.08e+01  -3.5 3.26e-03    -  1.00e+00 9.77e-04h 11\n",
      "  36  3.3349069e+04 0.00e+00 3.08e+01  -3.5 3.26e-03    -  1.00e+00 9.77e-04h 11\n",
      "  37  3.3349166e+04 0.00e+00 3.07e+01  -3.5 3.25e-03    -  1.00e+00 9.77e-04h 11\n",
      "  38  3.3349263e+04 0.00e+00 3.07e+01  -3.5 3.25e-03    -  1.00e+00 9.77e-04h 11\n",
      "  39  3.3349359e+04 0.00e+00 3.07e+01  -3.5 3.25e-03    -  1.00e+00 9.77e-04h 11\n",
      "iter    objective    inf_pr   inf_du lg(mu)  ||d||  lg(rg) alpha_du alpha_pr  ls\n",
      "  40  3.3517022e+04 0.00e+00 5.81e+00  -3.5 3.25e-03    -  1.00e+00 1.00e+00w  1\n",
      "  41  3.3574563e+04 0.00e+00 1.19e+00  -3.5 7.82e-04    -  1.00e+00 1.00e+00w  1\n",
      "  42  3.3593024e+04 0.00e+00 2.94e-01  -3.5 2.37e-04    -  1.00e+00 1.00e+00w  1\n",
      "  43  3.3349408e+04 0.00e+00 3.07e+01  -3.5 1.69e-04    -  1.00e+00 4.88e-04h 11\n",
      "  44  3.3349535e+04 0.00e+00 3.06e+01  -3.5 4.28e-03    -  1.00e+00 9.77e-04h 11\n",
      "  45  3.3349632e+04 0.00e+00 3.06e+01  -3.5 3.25e-03    -  1.00e+00 9.77e-04h 11\n",
      "  46  3.3349729e+04 0.00e+00 3.06e+01  -3.5 3.25e-03    -  1.00e+00 9.77e-04h 11\n",
      "  47  3.3349825e+04 0.00e+00 3.05e+01  -3.5 3.25e-03    -  1.00e+00 9.77e-04h 11\n",
      "  48  3.3349922e+04 0.00e+00 3.05e+01  -3.5 3.25e-03    -  1.00e+00 9.77e-04h 11\n",
      "  49  3.3350019e+04 0.00e+00 3.05e+01  -3.5 3.25e-03    -  1.00e+00 9.77e-04h 11\n",
      "iter    objective    inf_pr   inf_du lg(mu)  ||d||  lg(rg) alpha_du alpha_pr  ls\n",
      "  50  3.3350116e+04 0.00e+00 3.04e+01  -3.5 3.25e-03    -  1.00e+00 9.77e-04h 11\n",
      "  51  3.3350213e+04 0.00e+00 3.04e+01  -3.5 3.24e-03    -  1.00e+00 9.77e-04h 11\n",
      "  52  3.3350310e+04 0.00e+00 3.04e+01  -3.5 3.24e-03    -  1.00e+00 9.77e-04h 11\n",
      "  53  3.3517655e+04 0.00e+00 5.64e+00  -3.5 3.24e-03    -  1.00e+00 1.00e+00w  1\n",
      "  54  3.3574645e+04 0.00e+00 1.07e+00  -3.5 7.76e-04    -  1.00e+00 1.00e+00w  1\n",
      "  55  3.3592972e+04 0.00e+00 2.93e-01  -3.5 3.41e-04    -  1.00e+00 1.00e+00w  1\n",
      "  56  3.3350358e+04 0.00e+00 3.04e+01  -3.5 4.17e-04    -  1.00e+00 4.88e-04h 11\n",
      "  57  3.3350486e+04 0.00e+00 3.03e+01  -3.5 4.26e-03    -  1.00e+00 9.77e-04h 11\n",
      "  58  3.3350582e+04 0.00e+00 3.03e+01  -3.5 3.24e-03    -  1.00e+00 9.77e-04h 11\n",
      "  59  3.3350679e+04 0.00e+00 3.03e+01  -3.5 3.24e-03    -  1.00e+00 9.77e-04h 11\n",
      "iter    objective    inf_pr   inf_du lg(mu)  ||d||  lg(rg) alpha_du alpha_pr  ls\n",
      "  60  3.3350776e+04 0.00e+00 3.02e+01  -3.5 3.24e-03    -  1.00e+00 9.77e-04h 11\n",
      "  61  3.3350872e+04 0.00e+00 3.02e+01  -3.5 3.44e-03    -  1.00e+00 9.77e-04h 11\n",
      "  62  3.3350969e+04 0.00e+00 3.02e+01  -3.5 3.59e-03    -  1.00e+00 9.77e-04h 11\n",
      "  63  3.3351065e+04 0.00e+00 3.01e+01  -3.5 3.75e-03    -  1.00e+00 9.77e-04h 11\n",
      "  64  3.3351161e+04 0.00e+00 3.01e+01  -3.5 3.93e-03    -  1.00e+00 9.77e-04h 11\n",
      "  65  3.3351257e+04 0.00e+00 3.01e+01  -3.5 4.13e-03    -  1.00e+00 9.77e-04h 11\n",
      "  66  3.3517626e+04 0.00e+00 5.37e+00  -3.5 4.36e-03    -  1.00e+00 1.00e+00w  1\n",
      "  67  3.3574052e+04 0.00e+00 8.02e-01  -3.5 1.38e-03    -  1.00e+00 1.00e+00w  1\n",
      "  68  3.3592988e+04 0.00e+00 6.30e-01  -3.5 1.15e-03    -  1.00e+00 1.00e+00w  1\n",
      "  69  3.3351306e+04 0.00e+00 3.01e+01  -3.5 5.53e-03    -  1.00e+00 4.88e-04h 11\n",
      "iter    objective    inf_pr   inf_du lg(mu)  ||d||  lg(rg) alpha_du alpha_pr  ls\n",
      "  70  3.3351429e+04 0.00e+00 3.00e+01  -3.5 8.52e-03    -  1.00e+00 9.77e-04h 11\n",
      "  71  3.3351521e+04 0.00e+00 3.00e+01  -3.5 8.30e-03    -  1.00e+00 9.77e-04h 11\n",
      "  72  3.3351612e+04 0.00e+00 3.00e+01  -3.5 1.05e-02    -  1.00e+00 9.77e-04h 11\n",
      "  73  3.3351698e+04 0.00e+00 2.99e+01  -3.5 1.42e-02    -  1.00e+00 9.77e-04h 11\n",
      "  74  3.3351758e+04 0.00e+00 2.99e+01  -3.5 3.82e-02    -  1.00e+00 9.77e-04h 11\n",
      "  75  3.3351790e+04 0.00e+00 2.99e+01  -3.5 6.70e-02    -  1.00e+00 9.77e-04h 11\n",
      "  76  3.3342421e+04 0.00e+00 1.21e+01  -3.5 1.62e-01    -  1.00e+00 5.00e-01f  2\n",
      "  77  3.3202259e+04 0.00e+00 2.37e+00  -4.8 6.66e-01    -  1.00e+00 3.19e-01f  2\n",
      "  78  3.3154867e+04 0.00e+00 9.49e+00  -9.8 2.06e-01    -  1.00e+00 5.00e-01f  2\n",
      "  79  3.3114633e+04 0.00e+00 2.16e+00  -4.3 3.76e-02    -  1.00e+00 1.00e+00f  1\n",
      "iter    objective    inf_pr   inf_du lg(mu)  ||d||  lg(rg) alpha_du alpha_pr  ls\n",
      "  80  3.3093300e+04 0.00e+00 3.50e-01 -10.6 7.63e-03    -  1.00e+00 1.00e+00f  1\n",
      "  81  3.3093311e+04 0.00e+00 3.50e-01  -7.4 3.84e-02    -  1.00e+00 9.77e-04h 11\n",
      "  82  3.3060616e+04 0.00e+00 4.96e+00  -7.8 3.40e-02    -  1.00e+00 1.00e+00f  1\n",
      "  83  3.3060681e+04 0.00e+00 4.95e+00  -8.5 3.07e-02    -  1.00e+00 9.77e-04h 11\n",
      "  84  3.3054682e+04 0.00e+00 5.54e-01  -9.1 1.09e+00    -  1.00e+00 3.59e-02f  3\n",
      "  85  3.3054714e+04 0.00e+00 5.54e-01  -9.1 6.65e-02    -  1.00e+00 9.77e-04h 11\n",
      "  86  3.3054741e+04 0.00e+00 5.53e-01  -9.6 3.73e-02    -  1.00e+00 9.77e-04h 11\n",
      "  87  3.3054646e+04 0.00e+00 2.08e+00  -9.6 1.91e+01    -  2.76e-02 1.95e-03f 10\n",
      "  88  3.3054669e+04 0.00e+00 2.07e+00 -10.8 2.96e-02    -  1.00e+00 9.77e-04h 11\n",
      "  89  3.3049488e+04 0.00e+00 7.25e+00 -11.0 4.88e-01    -  2.66e-01 6.25e-02f  5\n",
      "iter    objective    inf_pr   inf_du lg(mu)  ||d||  lg(rg) alpha_du alpha_pr  ls\n",
      "  90  3.3051333e+04 0.00e+00 7.12e+00 -10.9 9.92e-01    -  1.00e+00 9.77e-04h 11\n",
      "  91  3.3050026e+04 0.00e+00 7.41e+00 -11.0 1.13e+00    -  1.00e+00 3.12e-02f  6\n",
      "  92  3.3050141e+04 0.00e+00 7.38e+00 -11.0 1.62e-01    -  1.00e+00 9.77e-04h 11\n",
      "  93  3.3050168e+04 0.00e+00 7.37e+00 -11.0 7.56e-02    -  1.00e+00 9.77e-04h 11\n",
      "  94  3.3050199e+04 0.00e+00 7.34e+00 -11.0 3.16e+00    -  9.87e-01 9.91e-05h 11\n",
      "  95  3.3050248e+04 0.00e+00 7.31e+00 -11.0 1.54e-01    -  1.00e+00 9.64e-04h 11\n",
      "  96  3.3050997e+04 0.00e+00 7.30e+00 -11.0 1.52e+00    -  1.16e-01 9.77e-04h 11\n",
      "  97  3.3016795e+04 0.00e+00 3.47e+00 -11.0 3.45e+01    -  1.00e+00 2.40e-03f  2\n",
      "  98  3.3016840e+04 0.00e+00 3.47e+00 -10.0 5.93e-01    -  1.00e+00 9.77e-04h 11\n",
      "  99  3.3016853e+04 0.00e+00 3.49e+00 -10.4 9.10e-01    -  1.38e-01 9.77e-04h 11\n",
      "Warning: Cutting back alpha due to evaluation error\n",
      "Warning: Cutting back alpha due to evaluation error\n",
      "iter    objective    inf_pr   inf_du lg(mu)  ||d||  lg(rg) alpha_du alpha_pr  ls\n",
      " 100  3.3023396e+04 0.00e+00 2.27e+00 -10.4 2.99e+01    -  5.32e-02 9.77e-04h 11\n",
      "\n",
      "Number of Iterations....: 100\n",
      "\n",
      "                                   (scaled)                 (unscaled)\n",
      "Objective...............:   1.2852769946547939e+01    3.3023396082954867e+04\n",
      "Dual infeasibility......:   2.2717195346633638e+00    5.8368658502849339e+03\n",
      "Constraint violation....:   0.0000000000000000e+00    0.0000000000000000e+00\n",
      "Complementarity.........:   2.2137597402211660e-12    5.6879462588885731e-09\n",
      "Overall NLP error.......:   2.2717195346633638e+00    5.8368658502849339e+03\n",
      "\n",
      "\n",
      "Number of objective function evaluations             = 1157\n",
      "Number of objective gradient evaluations             = 101\n",
      "Number of equality constraint evaluations            = 0\n",
      "Number of inequality constraint evaluations          = 0\n",
      "Number of equality constraint Jacobian evaluations   = 0\n",
      "Number of inequality constraint Jacobian evaluations = 0\n",
      "Number of Lagrangian Hessian evaluations             = 0\n",
      "Total CPU secs in IPOPT (w/o function evaluations)   =      0.307\n",
      "Total CPU secs in NLP function evaluations           =     24.983\n",
      "\n",
      "EXIT: Maximum Number of Iterations Exceeded.\n",
      " 27.090585 seconds (717.40 M allocations: 10.997 GiB, 4.09% gc time, 1.05% compilation time)\n"
     ]
    },
    {
     "name": "stderr",
     "output_type": "stream",
     "text": [
      "\u001b[33m\u001b[1m┌ \u001b[22m\u001b[39m\u001b[33m\u001b[1mWarning: \u001b[22m\u001b[39mOptimization unsuccesful; got UserLimit\n",
      "\u001b[33m\u001b[1m└ \u001b[22m\u001b[39m\u001b[90m@ QuasiCopula ~/.julia/dev/QuasiCopula/src/gwas/multivariate.jl:168\u001b[39m\n"
     ]
    }
   ],
   "source": [
    "@time optm = QuasiCopula.fit!(qc_model,\n",
    "    Ipopt.IpoptSolver(\n",
    "        print_level = 5, \n",
    "        tol = 10^-6, \n",
    "        max_iter = 100,\n",
    "        accept_after_max_steps = 10,\n",
    "        warm_start_init_point=\"yes\", \n",
    "        limited_memory_max_history = 6, # default value\n",
    "        hessian_approximation = \"limited-memory\",\n",
    "#         derivative_test=\"first-order\"\n",
    "    )\n",
    ");"
   ]
  },
  {
   "cell_type": "code",
   "execution_count": 75,
   "metadata": {
    "collapsed": false
   },
   "outputs": [
    {
     "name": "stdout",
     "output_type": "stream",
     "text": [
      "qc_model.∇vecB = [31.538061799310388, 34.69871883133114, 10.879947150263229, 16.608426159179693, 0.939732764975655, -12.505532212881786, -0.23499089394843947, 0.4215357903755195, -0.11654950715446025, -41.65394310354411, -85.06076890673681, 11.392708165705956]\n",
      "qc_model.∇θ = [602.5206409034665]\n",
      "qc_model.∇ϕ = [5836.865850284934]\n"
     ]
    }
   ],
   "source": [
    "@show qc_model.∇vecB\n",
    "@show qc_model.∇θ\n",
    "@show qc_model.∇ϕ;"
   ]
  },
  {
   "cell_type": "code",
   "execution_count": 80,
   "metadata": {
    "collapsed": false
   },
   "outputs": [
    {
     "data": {
      "text/plain": [
       "12×2 Matrix{Float64}:\n",
       " -0.287085   -0.229281\n",
       " -0.324457   -0.262359\n",
       " -0.387746   -0.407467\n",
       " -0.485765   -0.491004\n",
       " -0.0409497  -0.0363568\n",
       " -0.07044    -0.105159\n",
       " -0.422773   -0.331359\n",
       " -0.54063    -0.458731\n",
       " -0.154007   -0.252852\n",
       " -0.394938   -0.421032\n",
       " -0.401654   -0.447859\n",
       "  0.0254376  -0.0186666"
      ]
     },
     "execution_count": 80,
     "metadata": {},
     "output_type": "execute_result"
    }
   ],
   "source": [
    "[vec(qc_model.B) vec(Btrue)]"
   ]
  },
  {
   "cell_type": "code",
   "execution_count": 81,
   "metadata": {
    "collapsed": false
   },
   "outputs": [
    {
     "data": {
      "text/plain": [
       "1×2 Matrix{Float64}:\n",
       " 0.082552  0.1"
      ]
     },
     "execution_count": 81,
     "metadata": {},
     "output_type": "execute_result"
    }
   ],
   "source": [
    "[qc_model.θ θtrue]"
   ]
  },
  {
   "cell_type": "code",
   "execution_count": 82,
   "metadata": {
    "collapsed": false
   },
   "outputs": [
    {
     "data": {
      "text/plain": [
       "1×2 Matrix{Float64}:\n",
       " 0.012101  0.01"
      ]
     },
     "execution_count": 82,
     "metadata": {},
     "output_type": "execute_result"
    }
   ],
   "source": [
    "[qc_model.ϕ [τtrue for _ in 1:length(qc_model.ϕ)]]"
   ]
  },
  {
   "cell_type": "code",
   "execution_count": 83,
   "metadata": {
    "collapsed": false
   },
   "outputs": [
    {
     "data": {
      "text/plain": [
       "false"
      ]
     },
     "execution_count": 83,
     "metadata": {},
     "output_type": "execute_result"
    }
   ],
   "source": [
    "qc_model.penalized"
   ]
  },
  {
   "cell_type": "markdown",
   "metadata": {},
   "source": [
    "## Score test GWAS"
   ]
  },
  {
   "cell_type": "code",
   "execution_count": 84,
   "metadata": {
    "collapsed": false
   },
   "outputs": [
    {
     "name": "stderr",
     "output_type": "stream",
     "text": [
      "\u001b[32mProgress: 100%|█████████████████████████████████████████| Time: 0:05:25\u001b[39m\n"
     ]
    },
    {
     "data": {
      "text/plain": [
       "1000-element Vector{Float64}:\n",
       " 1.7094774888465032e-23\n",
       " 4.645163661816421e-9\n",
       " 2.6146389314699677e-9\n",
       " 1.6229065455041924e-7\n",
       " 0.04248484145196859\n",
       " 3.553497619714129e-17\n",
       " 3.0091640006341997e-92\n",
       " 0.0484593263295672\n",
       " 2.817792666324911e-54\n",
       " 2.104076605572059e-16\n",
       " 0.017859087732563773\n",
       " 2.8788695402648603e-19\n",
       " 0.20754449210541787\n",
       " ⋮\n",
       " 0.004170665705343751\n",
       " 4.5850841791594556e-5\n",
       " 0.3682074902136418\n",
       " 0.5903489212048957\n",
       " 8.973226184480243e-16\n",
       " 9.260700749524498e-38\n",
       " 1.2729058622214211e-27\n",
       " 1.0692020703570044e-69\n",
       " 8.494139619492232e-23\n",
       " 2.8738964694393754e-37\n",
       " 0.02371609920962966\n",
       " 2.629474708806338e-15"
      ]
     },
     "execution_count": 84,
     "metadata": {},
     "output_type": "execute_result"
    }
   ],
   "source": [
    "pvals = multivariateGWAS_autodiff(qc_model, G)"
   ]
  },
  {
   "cell_type": "code",
   "execution_count": 85,
   "metadata": {
    "collapsed": false
   },
   "outputs": [
    {
     "data": {
      "image/png": "[encoded data removed]"
     },
     "metadata": {},
     "output_type": "display_data"
    }
   ],
   "source": [
    "# only Poisson/Bernoulli traits\n",
    "qq(pvals, dpi=100, titles=\"4 traits, $k causal SNPs\")\n",
    "display(\"image/png\", read(\"qqplot.png\"))"
   ]
  },
  {
   "cell_type": "code",
   "execution_count": null,
   "metadata": {
    "collapsed": true
   },
   "outputs": [],
   "source": []
  },
  {
   "cell_type": "code",
   "execution_count": null,
   "metadata": {
    "collapsed": true
   },
   "outputs": [],
   "source": []
  },
  {
   "cell_type": "code",
   "execution_count": null,
   "metadata": {
    "collapsed": true
   },
   "outputs": [],
   "source": []
  },
  {
   "cell_type": "code",
   "execution_count": null,
   "metadata": {
    "collapsed": true
   },
   "outputs": [],
   "source": []
  },
  {
   "cell_type": "code",
   "execution_count": 1,
   "metadata": {
    "collapsed": false
   },
   "outputs": [
    {
     "name": "stderr",
     "output_type": "stream",
     "text": [
      "\u001b[36m\u001b[1m[ \u001b[22m\u001b[39m\u001b[36m\u001b[1mInfo: \u001b[22m\u001b[39mPrecompiling QuasiCopula [c47b6ae2-b804-4668-9957-eb588c99ffbc]\n"
     ]
    },
    {
     "data": {
      "text/plain": [
       "_make_snparray (generic function with 1 method)"
      ]
     },
     "execution_count": 1,
     "metadata": {},
     "output_type": "execute_result"
    }
   ],
   "source": [
    "using Revise\n",
    "using DataFrames, Random, GLM, QuasiCopula\n",
    "using ForwardDiff, Test, LinearAlgebra\n",
    "using LinearAlgebra: BlasReal, copytri!\n",
    "using ToeplitzMatrices\n",
    "using BenchmarkTools\n",
    "using SnpArrays\n",
    "using Statistics\n",
    "using StatsBase\n",
    "using MendelPlots\n",
    "\n",
    "BLAS.set_num_threads(1)\n",
    "\n",
    "function simulate_random_snparray(s::Union{String, UndefInitializer}, n::Int64,\n",
    "    p::Int64; mafs::Vector{Float64}=zeros(Float64, p), min_ma::Int = 5)\n",
    "\n",
    "    #first simulate a random {0, 1, 2} matrix with each SNP drawn from Binomial(2, r[i])\n",
    "    A1 = BitArray(undef, n, p) \n",
    "    A2 = BitArray(undef, n, p) \n",
    "    for j in 1:p\n",
    "        minor_alleles = 0\n",
    "        maf = 0\n",
    "        while minor_alleles <= min_ma\n",
    "            maf = 0.5rand()\n",
    "            for i in 1:n\n",
    "                A1[i, j] = rand(Bernoulli(maf))\n",
    "                A2[i, j] = rand(Bernoulli(maf))\n",
    "            end\n",
    "            minor_alleles = sum(view(A1, :, j)) + sum(view(A2, :, j))\n",
    "        end\n",
    "        mafs[j] = maf\n",
    "    end\n",
    "\n",
    "    #fill the SnpArray with the corresponding x_tmp entry\n",
    "    return _make_snparray(s, A1, A2)\n",
    "end\n",
    "\n",
    "function _make_snparray(s::Union{String, UndefInitializer}, A1::BitArray, A2::BitArray)\n",
    "    n, p = size(A1)\n",
    "    x = SnpArray(s, n, p)\n",
    "    for i in 1:(n*p)\n",
    "        c = A1[i] + A2[i]\n",
    "        if c == 0\n",
    "            x[i] = 0x00\n",
    "        elseif c == 1\n",
    "            x[i] = 0x02\n",
    "        elseif c == 2\n",
    "            x[i] = 0x03\n",
    "        else\n",
    "            throw(MissingException(\"matrix shouldn't have missing values!\"))\n",
    "        end\n",
    "    end\n",
    "    return x\n",
    "end"
   ]
  },
  {
   "cell_type": "markdown",
   "metadata": {},
   "source": [
    "## Simulate data\n",
    "\n",
    "Given $n$ independent samples, we simulate phenotypes from \n",
    "$$\\mathbf{y}_i \\sim QC(\\mathbf{\\Gamma}, f_1, ..., f_d)$$"
   ]
  },
  {
   "cell_type": "code",
   "execution_count": 2,
   "metadata": {
    "collapsed": false
   },
   "outputs": [],
   "source": [
    "# simulate data\n",
    "p = 3    # number of fixed effects, including intercept\n",
    "m = 2    # number of variance componentsac\n",
    "n = 5000 # number of sample\n",
    "d = 4    # number of phenotypes per sample\n",
    "q = 1000 # number of SNPs\n",
    "k = 5    # number of causal SNPs\n",
    "\n",
    "# sample d marginal distributions for each phenotype within samples\n",
    "Random.seed!(1234)\n",
    "possible_distributions = [Normal, Bernoulli, Poisson]\n",
    "vecdist = rand(possible_distributions, d)\n",
    "# vecdist = [Poisson, Bernoulli, Bernoulli] # this derivative test is fine\n",
    "# vecdist = [Bernoulli, Bernoulli, Poisson] # this derivative test is wrong everywhere\n",
    "veclink = [canonicallink(vecdist[j]()) for j in 1:d]\n",
    "\n",
    "# simulate nongenetic coefficient and variance component params\n",
    "Random.seed!(2022)\n",
    "τtrue = 10.0\n",
    "Btrue = rand(Uniform(-0.5, 0.5), p, d)\n",
    "θtrue = fill(0.4, m)\n",
    "V1 = ones(d, d)\n",
    "V2 = Matrix(I, d, d)\n",
    "Γ = m == 1 ? θtrue[1] * V1 : θtrue[1] * V1 + θtrue[2] * V2\n",
    "# Γ = 0.5.*ones(d, d) + 0.5I\n",
    "\n",
    "# simulate non-genetic design matrix\n",
    "Random.seed!(2022)\n",
    "X = [ones(n) randn(n, p - 1)]\n",
    "\n",
    "# simulate random SnpArray with q SNPs and randomly choose k SNPs to be causal\n",
    "# here the first phenotype has strong effect, while other phenotypes have decreasing effects\n",
    "Random.seed!(2022)\n",
    "G = simulate_random_snparray(undef, n, q)\n",
    "Gfloat = convert(Matrix{Float64}, G, center=true, scale=true)\n",
    "γtrue = zeros(q, d)\n",
    "causal_snps = sample(1:q, k, replace=false) |> sort\n",
    "γtrue[causal_snps, 1] .= rand([-0.2, 0.2], k)\n",
    "for j in 2:d\n",
    "    γtrue[causal_snps, j] .= 0.5^j .* γtrue[causal_snps, 1]\n",
    "end\n",
    "\n",
    "# sample phenotypes\n",
    "Y = zeros(n, d)\n",
    "y = Vector{Float64}(undef, d)\n",
    "for i in 1:n\n",
    "    Xi = X[i, :]\n",
    "    Gi = Gfloat[i, :]\n",
    "    η = Btrue' * Xi + γtrue' * Gi\n",
    "    vecd_tmp = Vector{UnivariateDistribution}(undef, d)\n",
    "    for j in 1:d\n",
    "        dist = vecdist[j]\n",
    "        μj = GLM.linkinv(canonicallink(dist()), η[j])\n",
    "        if dist == Normal\n",
    "            σ2 = inv(τtrue)\n",
    "            σ = sqrt(σ2)\n",
    "            vecd_tmp[j] = Normal(μj, σ)\n",
    "        else\n",
    "            vecd_tmp[j] = dist(μj)\n",
    "        end\n",
    "    end\n",
    "    multivariate_dist = MultivariateMix(vecd_tmp, Γ)\n",
    "    res = Vector{Float64}(undef, d)\n",
    "    rand(multivariate_dist, y, res)\n",
    "    Y[i, :] .= y\n",
    "end\n",
    "\n",
    "# form model\n",
    "V = m == 1 ? [V1] : [V1, V2]\n",
    "qc_model = MultivariateCopulaVCModel(Y, X, V, vecdist, veclink, penalized=false);"
   ]
  },
  {
   "cell_type": "markdown",
   "metadata": {},
   "source": [
    "What does phenotypes look like?"
   ]
  },
  {
   "cell_type": "code",
   "execution_count": 3,
   "metadata": {
    "collapsed": false
   },
   "outputs": [
    {
     "data": {
      "text/plain": [
       "5000×4 Matrix{Float64}:\n",
       " -1.28163    0.0  -0.415917   1.0\n",
       "  0.570392   1.0  -0.437541   0.0\n",
       " -0.899075   0.0   0.626361   3.0\n",
       "  1.39392    0.0  -0.0704303  0.0\n",
       " -0.52449    0.0   0.855822   1.0\n",
       " -0.818395   0.0   0.126965   0.0\n",
       " -0.0120305  1.0  -0.117696   0.0\n",
       "  0.145072   1.0  -0.261022   1.0\n",
       " -0.302563   0.0   0.575371   2.0\n",
       " -0.636933   1.0  -0.0159948  0.0\n",
       "  0.80406    1.0   0.66775    0.0\n",
       "  0.304521   0.0   0.146666   1.0\n",
       " -0.0235421  0.0   1.06856    0.0\n",
       "  ⋮                           \n",
       " -0.892895   0.0  -0.0771152  1.0\n",
       " -1.04522    1.0   0.987614   1.0\n",
       " -0.341696   0.0   0.097902   1.0\n",
       " -0.459006   1.0  -0.647328   0.0\n",
       "  0.828123   1.0  -0.95536    0.0\n",
       "  0.541685   0.0  -0.0932948  0.0\n",
       " -0.264861   0.0   0.58193    2.0\n",
       " -0.238232   1.0   0.131018   1.0\n",
       " -0.733315   1.0   0.890936   2.0\n",
       "  1.24784    1.0   0.441328   2.0\n",
       " -0.0424797  1.0   0.691514   0.0\n",
       " -1.0805     0.0  -0.662316   0.0"
      ]
     },
     "execution_count": 3,
     "metadata": {},
     "output_type": "execute_result"
    }
   ],
   "source": [
    "Y"
   ]
  },
  {
   "cell_type": "markdown",
   "metadata": {},
   "source": [
    "What does our covariates look like?"
   ]
  },
  {
   "cell_type": "code",
   "execution_count": 4,
   "metadata": {
    "collapsed": false
   },
   "outputs": [
    {
     "data": {
      "text/plain": [
       "5000×3 Matrix{Float64}:\n",
       " 1.0  -0.308648    1.70162\n",
       " 1.0   1.67671    -0.548034\n",
       " 1.0  -0.347153    0.736227\n",
       " 1.0   0.818666   -2.16009\n",
       " 1.0  -1.71753    -0.273745\n",
       " 1.0  -0.238934    0.942883\n",
       " 1.0   0.701932    1.02868\n",
       " 1.0  -0.166138   -0.278824\n",
       " 1.0  -0.609614    0.289359\n",
       " 1.0   0.68791     0.209478\n",
       " 1.0   0.0342303  -0.543192\n",
       " 1.0  -0.479078   -0.865401\n",
       " 1.0  -1.63537     0.348029\n",
       " ⋮                \n",
       " 1.0   0.200555    1.14607\n",
       " 1.0  -0.205806    1.98172\n",
       " 1.0   1.17812     0.307879\n",
       " 1.0   1.60549     0.817788\n",
       " 1.0   1.63509    -0.960082\n",
       " 1.0  -0.446096   -1.0502\n",
       " 1.0   0.632009   -0.335688\n",
       " 1.0   0.589777   -1.92135\n",
       " 1.0  -0.542628    1.68057\n",
       " 1.0  -0.779274    0.6376\n",
       " 1.0  -1.19111    -1.3064\n",
       " 1.0   0.505272    1.11117"
      ]
     },
     "execution_count": 4,
     "metadata": {},
     "output_type": "execute_result"
    }
   ],
   "source": [
    "X"
   ]
  },
  {
   "cell_type": "markdown",
   "metadata": {},
   "source": [
    "True SNP effects"
   ]
  },
  {
   "cell_type": "code",
   "execution_count": 5,
   "metadata": {
    "collapsed": false
   },
   "outputs": [
    {
     "data": {
      "text/plain": [
       "20-element Vector{Float64}:\n",
       "  0.2\n",
       "  0.2\n",
       " -0.2\n",
       "  0.2\n",
       " -0.2\n",
       "  0.05\n",
       "  0.05\n",
       " -0.05\n",
       "  0.05\n",
       " -0.05\n",
       "  0.025\n",
       "  0.025\n",
       " -0.025\n",
       "  0.025\n",
       " -0.025\n",
       "  0.0125\n",
       "  0.0125\n",
       " -0.0125\n",
       "  0.0125\n",
       " -0.0125"
      ]
     },
     "execution_count": 5,
     "metadata": {},
     "output_type": "execute_result"
    }
   ],
   "source": [
    "γtrue[findall(!iszero, γtrue)]"
   ]
  },
  {
   "cell_type": "markdown",
   "metadata": {},
   "source": [
    "Support for the phenotypes"
   ]
  },
  {
   "cell_type": "code",
   "execution_count": 6,
   "metadata": {
    "collapsed": false,
    "scrolled": true
   },
   "outputs": [
    {
     "data": {
      "text/plain": [
       "4-element Vector{UnionAll}:\n",
       " Normal\n",
       " Bernoulli\n",
       " Normal\n",
       " Poisson"
      ]
     },
     "execution_count": 6,
     "metadata": {},
     "output_type": "execute_result"
    }
   ],
   "source": [
    "vecdist"
   ]
  },
  {
   "cell_type": "code",
   "execution_count": 7,
   "metadata": {
    "collapsed": false
   },
   "outputs": [
    {
     "data": {
      "text/plain": [
       "4×4 Matrix{Float64}:\n",
       " 1.0    0.625  0.625  0.625\n",
       " 0.625  1.0    0.625  0.625\n",
       " 0.625  0.625  1.0    0.625\n",
       " 0.625  0.625  0.625  1.0"
      ]
     },
     "execution_count": 7,
     "metadata": {},
     "output_type": "execute_result"
    }
   ],
   "source": [
    "# true Γ scaled to correlation matrix\n",
    "cov2cor(Γ, diag(Γ))"
   ]
  },
  {
   "cell_type": "code",
   "execution_count": 8,
   "metadata": {
    "collapsed": false
   },
   "outputs": [
    {
     "data": {
      "text/plain": [
       "4×4 Matrix{Float64}:\n",
       "  1.0          0.152808    -0.0922782   0.00906314\n",
       "  0.152808     1.0         -0.00659099  0.106106\n",
       " -0.0922782   -0.00659099   1.0         0.107757\n",
       "  0.00906314   0.106106     0.107757    1.0"
      ]
     },
     "execution_count": 8,
     "metadata": {},
     "output_type": "execute_result"
    }
   ],
   "source": [
    "# empirical correlation of Y\n",
    "Statistics.cor(Y)"
   ]
  },
  {
   "cell_type": "markdown",
   "metadata": {},
   "source": [
    "## Fit Null model\n",
    "\n",
    "TODO: \n",
    "\n",
    "+ Initializing $\\theta$ and $\\phi$ in a better way"
   ]
  },
  {
   "cell_type": "code",
   "execution_count": 9,
   "metadata": {
    "collapsed": false,
    "scrolled": true
   },
   "outputs": [
    {
     "name": "stdout",
     "output_type": "stream",
     "text": [
      "\n",
      "******************************************************************************\n",
      "This program contains Ipopt, a library for large-scale nonlinear optimization.\n",
      " Ipopt is released as open source code under the Eclipse Public License (EPL).\n",
      "         For more information visit https://github.com/coin-or/Ipopt\n",
      "******************************************************************************\n",
      "\n",
      "This is Ipopt version 3.13.4, running with linear solver mumps.\n",
      "NOTE: Other linear solvers might be more efficient (see Ipopt documentation).\n",
      "\n",
      "Starting derivative checker for first derivatives.\n",
      "\n",
      "* grad_f[          1] = -1.4619264826688592e+05    ~ -3.8115290395940460e+03  [ 3.736e+01]\n",
      "* grad_f[          2] = -1.6032031101563740e+04    ~ -4.6675559133291245e+02  [ 3.335e+01]\n",
      "* grad_f[          3] =  1.0512994052044081e+05    ~  3.0607164726381002e+03  [ 3.335e+01]\n",
      "* grad_f[          4] = -1.8210990502861272e+01    ~ -1.3987262140223324e+01  [ 3.020e-01]\n",
      "* grad_f[          5] = -1.2086263541593614e+02    ~ -9.3015278206198886e+01  [ 2.994e-01]\n",
      "* grad_f[          6] = -5.7700505366463074e+02    ~ -4.4395302704790618e+02  [ 2.997e-01]\n",
      "* grad_f[          7] = -3.0081095167334155e+04    ~ -1.7717625174157572e+04  [ 6.978e-01]\n",
      "* grad_f[          8] =  4.7614027991110859e+04    ~  2.8151592479801617e+04  [ 6.913e-01]\n",
      "* grad_f[          9] =  2.4510054824539540e+04    ~  1.4504065784184788e+04  [ 6.899e-01]\n",
      "* grad_f[         14] = -3.3387540136643827e+02    ~ -3.3382093533873558e+02  [ 1.632e-04]\n",
      "* grad_f[         15] =  3.8546847390409053e+05    ~ -2.9316525979743865e+03  [ 1.325e+02]\n",
      "* grad_f[         16] =  3.8546847390409053e+05    ~ -1.3568954719525125e+05  [ 3.841e+00]\n",
      "\n",
      "Derivative checker detected 12 error(s).\n",
      "\n",
      "Number of nonzeros in equality constraint Jacobian...:        0\n",
      "Number of nonzeros in inequality constraint Jacobian.:        0\n",
      "Number of nonzeros in Lagrangian Hessian.............:        0\n",
      "\n",
      "Total number of variables............................:       16\n",
      "                     variables with only lower bounds:        4\n",
      "                variables with lower and upper bounds:        0\n",
      "                     variables with only upper bounds:        0\n",
      "Total number of equality constraints.................:        0\n",
      "Total number of inequality constraints...............:        0\n",
      "        inequality constraints with only lower bounds:        0\n",
      "   inequality constraints with lower and upper bounds:        0\n",
      "        inequality constraints with only upper bounds:        0\n",
      "\n",
      "iter    objective    inf_pr   inf_du lg(mu)  ||d||  lg(rg) alpha_du alpha_pr  ls\n",
      "   0  2.1778666e+04 0.00e+00 1.00e+02   0.0 0.00e+00    -  0.00e+00 0.00e+00   0\n",
      "   1  2.1787993e+04 0.00e+00 9.97e+01  -1.1 1.00e+02    -  3.81e-02 3.14e-05h 11\n",
      "   2  2.1790489e+04 0.00e+00 9.96e+01  -2.8 9.38e-01    -  1.00e+00 9.77e-04h 11\n",
      "   3  2.1792664e+04 0.00e+00 9.94e+01  -2.8 9.21e-01    -  1.00e+00 9.77e-04h 11\n",
      "   4  2.1793831e+04 0.00e+00 9.94e+01  -2.8 9.21e-01    -  1.00e+00 6.38e-04h 11\n",
      "   5  2.1729285e+04 0.00e+00 5.28e+01  -2.8 1.30e+00    -  1.00e+00 3.82e-01f  1\n",
      "   6  2.1727197e+04 0.00e+00 3.72e+01  -3.9 1.98e+00    -  1.00e+00 6.31e-04f  1\n",
      "   7  2.1725715e+04 0.00e+00 3.40e+01  -3.8 1.74e-01    -  1.00e+00 1.72e-01f  2\n",
      "   8  2.1725805e+04 0.00e+00 3.40e+01  -3.6 1.47e-01    -  1.00e+00 4.38e-04h 11\n",
      "   9  2.1726252e+04 0.00e+00 3.41e+01  -1.3 2.35e-01    -  1.00e+00 7.08e-04h 11\n",
      "iter    objective    inf_pr   inf_du lg(mu)  ||d||  lg(rg) alpha_du alpha_pr  ls\n",
      "  10  2.1727190e+04 0.00e+00 3.40e+01  -1.3 5.27e-01    -  1.00e+00 6.33e-04h 11\n",
      "  11  2.1729435e+04 0.00e+00 3.40e+01  -1.3 7.95e-01    -  1.00e+00 9.77e-04h 11\n",
      "  12  2.1732493e+04 0.00e+00 3.40e+01  -1.3 1.07e+00    -  1.00e+00 9.77e-04h 11\n",
      "  13  2.1736307e+04 0.00e+00 3.40e+01  -1.3 1.27e+00    -  3.79e-01 9.77e-04h 11\n",
      "  14  2.1736491e+04 0.00e+00 3.42e+01  -1.3 3.64e+00    -  5.89e-01 1.94e-05h 11\n",
      "  15  2.1739197e+04 0.00e+00 3.39e+01  -1.3 8.72e-01    -  1.30e-01 9.77e-04h 11\n",
      "  16  2.1797448e+04 0.00e+00 3.58e+01  -1.3 2.03e+01    -  1.22e-01 9.77e-04h 11\n",
      "  17  2.1803168e+04 0.00e+00 3.39e+01  -1.3 1.91e+00    -  2.05e-01 9.77e-04h 11\n",
      "  18  2.1814045e+04 0.00e+00 4.45e+01  -1.3 3.80e+00    -  1.00e+00 9.77e-04h 11\n",
      "  19  2.5428550e+04 0.00e+00 3.01e+01  -1.3 1.59e+00    -  3.82e-01 1.00e+00w  1\n",
      "iter    objective    inf_pr   inf_du lg(mu)  ||d||  lg(rg) alpha_du alpha_pr  ls\n",
      "  20  2.9363595e+04 0.00e+00 1.93e+02  -1.3 3.32e+00    -  5.80e-01 1.00e+00w  1\n",
      "  21  3.0127025e+04 0.00e+00 9.20e+01  -1.3 2.63e+00    -  8.07e-03 1.00e+00w  1\n",
      "  22  2.1816341e+04 0.00e+00 3.84e+01  -1.3 5.34e+00    -  3.82e-01 4.88e-04h 11\n",
      "  23  2.1824205e+04 0.00e+00 5.45e+01  -1.3 2.67e+00    -  3.26e-01 9.77e-04h 11\n",
      "  24  2.1836151e+04 0.00e+00 5.46e+01  -1.3 3.83e+00    -  7.67e-03 9.77e-04h 11\n",
      "  25  2.1838764e+04 0.00e+00 4.06e+01  -1.3 1.45e+01    -  1.18e-01 4.23e-05h 11\n",
      "  26  2.1840195e+04 0.00e+00 5.44e+01  -1.3 4.76e+00    -  3.30e-01 1.06e-04h 11\n",
      "  27  2.1844404e+04 0.00e+00 4.59e+01  -1.3 1.26e+00    -  2.65e-01 9.77e-04h 11\n",
      "  28  2.2022020e+04 0.00e+00 4.45e+01  -1.3 6.10e+01    -  3.23e-03 9.77e-04h 11\n",
      "  29  2.2022222e+04 0.00e+00 5.27e+01  -1.3 4.51e+00    -  1.23e-01 1.89e-05h 11\n",
      "iter    objective    inf_pr   inf_du lg(mu)  ||d||  lg(rg) alpha_du alpha_pr  ls\n",
      "  30  2.2027838e+04 0.00e+00 5.08e+01  -1.3 1.43e+00    -  1.26e-01 9.77e-04h 11\n",
      "  31  2.2030942e+04 0.00e+00 5.26e+01  -1.3 9.99e-01    -  8.91e-01 9.77e-04h 11\n",
      "  32  2.2084390e+04 0.00e+00 5.18e+01  -1.3 5.48e+01    -  7.01e-03 3.66e-04w  1\n",
      "  33  3.4750771e+04 0.00e+00 1.30e+03  -1.3 9.77e+00    -  4.26e-02 1.00e+00w  1\n",
      "  34  3.5034241e+04 0.00e+00 1.26e+03  -1.3 7.02e+00    -  1.00e+00 1.75e-02w  1\n",
      "  35  2.2084390e+04 0.00e+00 5.24e+01  -1.3 6.05e+00    -  3.66e-04 3.66e-04S 10\n",
      "  36  2.2093648e+04 0.00e+00 4.54e+01  -1.3 2.07e+00    -  3.35e-02 9.77e-04f 11\n",
      "  37  2.2100854e+04 0.00e+00 3.23e+01  -1.3 2.38e+00    -  8.83e-01 9.77e-04h 11\n",
      "  38  2.2139991e+04 0.00e+00 3.23e+01  -1.3 4.11e+01    -  4.92e-03 3.26e-04h 11\n",
      "Warning: Cutting back alpha due to evaluation error\n",
      "Warning: Cutting back alpha due to evaluation error\n",
      "  39  2.2657987e+04 0.00e+00 3.26e+01  -1.3 1.76e+02    -  8.29e-04 9.77e-04h 11\n",
      "iter    objective    inf_pr   inf_du lg(mu)  ||d||  lg(rg) alpha_du alpha_pr  ls\n",
      "  40  2.2683331e+04 0.00e+00 4.11e+01  -1.3 9.28e+00    -  5.61e-01 9.77e-04h 11\n",
      "  41  2.2725219e+04 0.00e+00 4.08e+01  -1.3 1.53e+01    -  6.22e-03 9.77e-04h 11\n",
      "  42  2.2848951e+04 0.00e+00 3.80e+01  -1.3 3.60e+01    -  6.18e-03 9.77e-04h 11\n",
      "  43  2.2978287e+04 0.00e+00 3.53e+01  -1.3 3.89e+01    -  1.15e-03 9.77e-04h 11\n",
      "  44  2.3211714e+04 0.00e+00 3.48e+01  -1.3 7.18e+01    -  1.02e-02 9.77e-04h 11\n",
      "  45  2.3211750e+04 0.00e+00 3.48e+01  -1.3 3.47e+01    -  6.16e-02 2.03e-06h 11\n",
      "  46  2.3166137e+04 0.00e+00 3.08e+01  -1.3 1.85e+00    -  1.00e+00 2.08e-02f  1\n",
      "  47  2.3102069e+04 0.00e+00 4.41e+01  -1.3 3.18e+00    -  1.00e+00 4.51e-02f  1\n",
      "  48  2.3102118e+04 0.00e+00 2.51e+01  -1.3 8.86e-02    -  6.92e-01 9.77e-04h 11\n",
      "  49  2.3102350e+04 0.00e+00 4.49e+01  -1.3 1.55e-01    -  1.00e+00 9.77e-04h 11\n",
      "iter    objective    inf_pr   inf_du lg(mu)  ||d||  lg(rg) alpha_du alpha_pr  ls\n",
      "  50  2.3103315e+04 0.00e+00 5.33e+01  -1.3 6.21e-01    -  1.00e+00 9.77e-04h 11\n",
      "  51  2.3103996e+04 0.00e+00 3.98e+01  -1.3 3.57e-01    -  4.52e-01 9.77e-04h 11\n",
      "  52  2.3105121e+04 0.00e+00 3.79e+01  -1.3 5.78e-01    -  1.00e+00 9.77e-04h 11\n",
      "  53  2.3108116e+04 0.00e+00 2.43e+01  -1.3 1.48e+00    -  2.83e-01 9.77e-04h 11\n",
      "  54  2.3111385e+04 0.00e+00 2.03e+01  -1.3 1.56e+00    -  1.00e+00 9.77e-04h 11\n",
      "  55  2.3121949e+04 0.00e+00 2.02e+01  -1.3 4.88e+00    -  6.32e-02 9.77e-04h 11\n",
      "  56  2.3130792e+04 0.00e+00 2.03e+01  -1.3 4.26e+00    -  5.94e-03 9.77e-04h 11\n",
      "  57  2.1466385e+04 0.00e+00 1.16e+03  -1.3 2.39e+01    -  9.02e-02 5.00e-01f  2\n",
      "  58  2.1468179e+04 0.00e+00 1.16e+03  -6.3 8.93e+00    -  1.00e+00 9.77e-04h 11\n",
      "  59  2.1471117e+04 0.00e+00 1.15e+03  -0.7 1.03e+01    -  4.58e-01 9.77e-04h 11\n",
      "iter    objective    inf_pr   inf_du lg(mu)  ||d||  lg(rg) alpha_du alpha_pr  ls\n",
      "  60  2.1511946e+04 0.00e+00 9.79e+02  -0.7 7.43e+00    -  4.03e-03 6.25e-02f  5\n",
      "  61  2.1512815e+04 0.00e+00 9.79e+02  -0.7 2.30e+00    -  7.93e-01 1.99e-04h 11\n",
      "  62  2.1513314e+04 0.00e+00 9.78e+02  -0.7 3.62e+00    -  1.00e+00 2.72e-04h 11\n",
      "  63  2.1515096e+04 0.00e+00 9.77e+02  -0.7 2.59e+00    -  8.02e-01 9.77e-04h 11\n",
      "  64  2.1516991e+04 0.00e+00 9.76e+02  -0.7 3.12e+00    -  1.00e+00 9.77e-04h 11\n",
      "  65  2.1519016e+04 0.00e+00 9.75e+02  -0.7 3.45e+00    -  9.11e-01 9.77e-04h 11\n",
      "  66  2.1521301e+04 0.00e+00 9.74e+02  -0.7 4.19e+00    -  1.00e+00 9.77e-04h 11\n",
      "  67  1.7467015e+04 0.00e+00 2.69e+03  -0.7 1.23e+01    -  1.00e+00 1.00e+00f  1\n",
      "  68  1.7470129e+04 0.00e+00 2.68e+03  -0.1 1.04e+01    -  3.87e-01 9.77e-04h 11\n",
      "  69  1.7471991e+04 0.00e+00 2.68e+03  -0.6 6.80e+00    -  1.00e+00 9.77e-04h 11\n",
      "iter    objective    inf_pr   inf_du lg(mu)  ||d||  lg(rg) alpha_du alpha_pr  ls\n",
      "  70  1.7473363e+04 0.00e+00 2.68e+03  -0.6 5.79e+00    -  3.60e-01 9.77e-04h 11\n",
      "  71  1.7475928e+04 0.00e+00 2.67e+03  -0.6 8.52e+00    -  1.00e+00 9.77e-04h 11\n",
      "  72  1.7476557e+04 0.00e+00 2.67e+03  -0.6 4.67e+00    -  2.43e-01 9.77e-04h 11\n",
      "  73  1.7478144e+04 0.00e+00 2.67e+03  -0.6 7.03e+00    -  1.00e+00 9.77e-04h 11\n",
      "  74  1.7479791e+04 0.00e+00 2.67e+03  -0.6 5.93e+00    -  4.81e-01 9.77e-04h 11\n",
      "  75  1.7481152e+04 0.00e+00 2.66e+03  -0.6 4.50e+00    -  1.00e+00 9.77e-04h 11\n",
      "  76  1.7482651e+04 0.00e+00 2.66e+03  -0.6 4.54e+00    -  5.25e-01 9.77e-04h 11\n",
      "  77  1.7483922e+04 0.00e+00 2.66e+03  -0.6 4.63e+00    -  1.00e+00 9.77e-04h 11\n",
      "  78  1.7485342e+04 0.00e+00 2.66e+03  -0.6 4.75e+00    -  4.67e-01 9.77e-04h 11\n",
      "  79  3.0597216e+04 0.00e+00 1.04e+02  -0.6 4.74e+00    -  1.00e+00 1.00e+00w  1\n",
      "iter    objective    inf_pr   inf_du lg(mu)  ||d||  lg(rg) alpha_du alpha_pr  ls\n",
      "  80  3.1388350e+04 0.00e+00 2.75e+01  -0.6 2.01e-01    -  8.47e-01 1.00e+00w  1\n",
      "  81  3.1701511e+04 0.00e+00 2.25e+01  -0.6 1.40e-01    -  1.00e+00 1.00e+00w  1\n",
      "  82  1.7485999e+04 0.00e+00 2.65e+03  -0.6 2.92e-01    -  1.00e+00 4.88e-04h 11\n",
      "  83  1.7487322e+04 0.00e+00 2.65e+03  -0.6 5.03e+00    -  1.46e-01 9.77e-04h 11\n",
      "  84  1.7487656e+04 0.00e+00 2.65e+03  -0.6 4.80e+00    -  1.00e+00 1.95e-04h 11\n",
      "  85  1.7488921e+04 0.00e+00 2.65e+03  -0.6 4.82e+00    -  2.69e-01 9.77e-04h 11\n",
      "  86  1.7489471e+04 0.00e+00 2.65e+03  -0.6 4.84e+00    -  1.00e+00 3.67e-04h 11\n",
      "  87  1.7490700e+04 0.00e+00 2.64e+03  -0.6 4.86e+00    -  5.52e-01 9.77e-04h 11\n",
      "  88  1.7491873e+04 0.00e+00 2.64e+03  -0.6 4.89e+00    -  1.00e+00 9.77e-04h 11\n",
      "  89  1.7493054e+04 0.00e+00 2.64e+03  -0.6 4.91e+00    -  4.63e-01 9.77e-04h 11\n",
      "iter    objective    inf_pr   inf_du lg(mu)  ||d||  lg(rg) alpha_du alpha_pr  ls\n",
      "  90  1.7494188e+04 0.00e+00 2.64e+03  -0.6 4.93e+00    -  1.00e+00 9.77e-04h 11\n",
      "  91  1.7495342e+04 0.00e+00 2.63e+03  -0.6 4.96e+00    -  4.29e-01 9.77e-04h 11\n",
      "  92  3.2231444e+04 0.00e+00 3.94e+01  -0.6 4.98e+00    -  1.00e+00 1.00e+00w  1\n",
      "  93  3.2088206e+04 0.00e+00 2.87e+01  -0.6 7.01e-02    -  8.49e-01 1.00e+00w  1\n",
      "  94  3.1643549e+04 0.00e+00 2.66e+01  -0.6 4.12e-01    -  1.00e+00 1.00e+00w  1\n",
      "  95  1.7495896e+04 0.00e+00 2.63e+03  -0.6 6.38e-01    -  1.00e+00 4.88e-04h 11\n",
      "  96  1.7497019e+04 0.00e+00 2.63e+03  -0.6 4.99e+00    -  1.33e-01 9.77e-04h 11\n",
      "  97  1.7497123e+04 0.00e+00 2.63e+03  -0.6 5.09e+00    -  1.00e+00 5.77e-05h 11\n",
      "  98  1.7497825e+04 0.00e+00 2.63e+03  -0.6 4.99e+00    -  5.07e-02 9.77e-04h 11\n",
      "  99  1.7497878e+04 0.00e+00 2.63e+03  -0.6 5.46e+00    -  1.00e+00 1.89e-05h 11\n",
      "iter    objective    inf_pr   inf_du lg(mu)  ||d||  lg(rg) alpha_du alpha_pr  ls\n",
      " 100  1.7499112e+04 0.00e+00 2.62e+03  -0.6 5.32e+00    -  2.59e-02 3.91e-03f  9\n",
      "\n",
      "Number of Iterations....: 100\n",
      "\n",
      "                                   (scaled)                 (unscaled)\n",
      "Objective...............:   3.6674213832422060e+02    1.7499111707166296e+04\n",
      "Dual infeasibility......:   2.6167119264287940e+03    1.2485648503682643e+05\n",
      "Constraint violation....:   0.0000000000000000e+00    0.0000000000000000e+00\n",
      "Complementarity.........:   2.2272708104288846e-01    1.0627429095521482e+01\n",
      "Overall NLP error.......:   2.6167119264287940e+03    1.2485648503682643e+05\n",
      "\n",
      "\n",
      "Number of objective function evaluations             = 1220\n",
      "Number of objective gradient evaluations             = 101\n",
      "Number of equality constraint evaluations            = 0\n",
      "Number of inequality constraint evaluations          = 0\n",
      "Number of equality constraint Jacobian evaluations   = 0\n",
      "Number of inequality constraint Jacobian evaluations = 0\n",
      "Number of Lagrangian Hessian evaluations             = 0\n",
      "Total CPU secs in IPOPT (w/o function evaluations)   =      0.755\n",
      "Total CPU secs in NLP function evaluations           =     27.420\n",
      "\n",
      "EXIT: Maximum Number of Iterations Exceeded.\n",
      " 35.919072 seconds (780.57 M allocations: 12.690 GiB, 3.80% gc time, 17.55% compilation time)\n"
     ]
    },
    {
     "name": "stderr",
     "output_type": "stream",
     "text": [
      "\u001b[33m\u001b[1m┌ \u001b[22m\u001b[39m\u001b[33m\u001b[1mWarning: \u001b[22m\u001b[39mOptimization unsuccesful; got UserLimit\n",
      "\u001b[33m\u001b[1m└ \u001b[22m\u001b[39m\u001b[90m@ QuasiCopula ~/.julia/dev/QuasiCopula/src/gwas/multivariate.jl:169\u001b[39m\n"
     ]
    }
   ],
   "source": [
    "@time optm = QuasiCopula.fit!(qc_model,\n",
    "    Ipopt.IpoptSolver(\n",
    "        print_level = 5, \n",
    "        tol = 10^-6, \n",
    "        max_iter = 100,\n",
    "        accept_after_max_steps = 10,\n",
    "        warm_start_init_point=\"yes\", \n",
    "        limited_memory_max_history = 6, # default value\n",
    "        hessian_approximation = \"limited-memory\",\n",
    "        derivative_test=\"first-order\"\n",
    "    )\n",
    ");"
   ]
  },
  {
   "cell_type": "code",
   "execution_count": 47,
   "metadata": {
    "collapsed": false,
    "scrolled": true
   },
   "outputs": [
    {
     "name": "stdout",
     "output_type": "stream",
     "text": [
      "qc_model.∇vecB = [-284.28469578552006, -125.44809514969327, 121.15030683550968, -121.11887262936025, 143.16125531910865, -14.060036167184283, 168.15203974188233, -37.374456944326155, 122.39890301585082, -117.23766086953869, 204.1255130385365, -41.95412996656297]\n",
      "qc_model.∇θ = [-27.27910399415303, 71.1293047042917]\n",
      "qc_model.∇ϕ = [236.92071240711655, 236.92071240711655]\n"
     ]
    }
   ],
   "source": [
    "@show qc_model.∇vecB\n",
    "@show qc_model.∇θ\n",
    "@show qc_model.∇ϕ;"
   ]
  },
  {
   "cell_type": "code",
   "execution_count": 48,
   "metadata": {
    "collapsed": false
   },
   "outputs": [
    {
     "data": {
      "text/plain": [
       "12×2 Matrix{Float64}:\n",
       " -0.235956   -0.280755\n",
       "  0.207249    0.167603\n",
       " -0.27801    -0.330996\n",
       "  0.0137605  -0.0469412\n",
       "  0.519251    0.483384\n",
       "  0.0162988  -0.269155\n",
       "  0.0892545   0.144784\n",
       " -0.34124    -0.39274\n",
       "  0.0797969   0.0260867\n",
       " -0.241748   -0.234534\n",
       " -0.117669   -0.0969734\n",
       "  0.196619    0.0955352"
      ]
     },
     "execution_count": 48,
     "metadata": {},
     "output_type": "execute_result"
    }
   ],
   "source": [
    "[vec(qc_model.B) vec(Btrue)]"
   ]
  },
  {
   "cell_type": "code",
   "execution_count": 49,
   "metadata": {
    "collapsed": false
   },
   "outputs": [
    {
     "data": {
      "text/plain": [
       "2×2 Matrix{Float64}:\n",
       " 19.8964   0.4\n",
       "  7.29372  0.4"
      ]
     },
     "execution_count": 49,
     "metadata": {},
     "output_type": "execute_result"
    }
   ],
   "source": [
    "[qc_model.θ θtrue]"
   ]
  },
  {
   "cell_type": "code",
   "execution_count": 50,
   "metadata": {
    "collapsed": false
   },
   "outputs": [
    {
     "data": {
      "text/plain": [
       "2×2 Matrix{Float64}:\n",
       " 12.398  10.0\n",
       " 12.398  10.0"
      ]
     },
     "execution_count": 50,
     "metadata": {},
     "output_type": "execute_result"
    }
   ],
   "source": [
    "[qc_model.ϕ [τtrue for _ in 1:length(qc_model.ϕ)]]"
   ]
  },
  {
   "cell_type": "code",
   "execution_count": 24,
   "metadata": {
    "collapsed": false
   },
   "outputs": [
    {
     "data": {
      "text/plain": [
       "false"
      ]
     },
     "execution_count": 24,
     "metadata": {},
     "output_type": "execute_result"
    }
   ],
   "source": [
    "qc_model.penalized"
   ]
  },
  {
   "cell_type": "markdown",
   "metadata": {
    "collapsed": true
   },
   "source": [
    "## Autodiff checks\n",
    "\n",
    "First, check if `autodiff_loglikelihood` returns same answer as `QuasiCopula.loglikelihood!`"
   ]
  },
  {
   "cell_type": "code",
   "execution_count": 174,
   "metadata": {
    "collapsed": false
   },
   "outputs": [
    {
     "name": "stdout",
     "output_type": "stream",
     "text": [
      "autodiff_loglikelihood(fullβ) = -20292.905371821944\n",
      "QuasiCopula.loglikelihood!(qc_model, false, false) = -20292.905371823275\n"
     ]
    }
   ],
   "source": [
    "# define autodiff likelihood, gradient, and Hessians\n",
    "autodiff_loglikelihood(vecB) = QuasiCopula.loglikelihood(vecB, qc_model, z)\n",
    "∇logl = x -> ForwardDiff.gradient(autodiff_loglikelihood, x)\n",
    "∇²logl = x -> ForwardDiff.hessian(autodiff_loglikelihood, x)\n",
    "∇logl! = (grad, x) -> ForwardDiff.gradient!(grad, autodiff_loglikelihood, x)\n",
    "∇²logl! = (hess, x) -> ForwardDiff.hessian!(hess, autodiff_loglikelihood, x)\n",
    "\n",
    "# sample i loglikelihood\n",
    "i = 1\n",
    "z = convert(Vector{Float64}, @view(G[:, i]), center=true, scale=false)\n",
    "fullβ = [vec(qc_model.B); qc_model.θ; zeros(d)]\n",
    "# fullβ = [qc_model.β; qc_model.θ; qc_model.τ; zeros(d)] # normal\n",
    "\n",
    "@show autodiff_loglikelihood(fullβ)\n",
    "@show QuasiCopula.loglikelihood!(qc_model, false, false);"
   ]
  },
  {
   "cell_type": "markdown",
   "metadata": {},
   "source": [
    "Lets compute a few Hessians"
   ]
  },
  {
   "cell_type": "code",
   "execution_count": 175,
   "metadata": {
    "collapsed": false
   },
   "outputs": [
    {
     "data": {
      "text/plain": [
       "18×18 Matrix{Float64}:\n",
       " -632.823      -21.4738       30.4495   …    0.842171      2.619\n",
       "  -21.4738    -604.98        -28.9684       -0.0413417     0.459265\n",
       "   30.4495     -28.9684     -599.192         1.65776       1.17729\n",
       "  107.556       41.3065      -28.293         1.4076        5.22071\n",
       "   41.3065     113.606        -2.29752       0.762857      4.33628\n",
       "  -28.293       -2.29752      99.0345   …    1.41269       0.356133\n",
       "   60.9983       4.09349       2.22575      -0.829679      2.22235\n",
       "    4.09349     59.3865       -0.81889       3.76708       0.186459\n",
       "    2.22575     -0.81889      60.6271       -8.31407       1.00221\n",
       "   93.7865       2.35496      -1.04703       2.22235       7.0849\n",
       "    2.35496     92.9894        1.46748  …    0.186459     21.652\n",
       "   -1.04703      1.46748      90.8038        1.00221     -34.7914\n",
       "  -42.9543      11.3325      -31.0218       -6.19715     -11.582\n",
       "    7.12722     40.8786      -34.154        -2.40134      -7.22885\n",
       "    0.442875     2.08455      -7.08072       7.86541      13.7719\n",
       "    0.85644      0.865586      3.31319  …   16.0444       24.4617\n",
       "    0.842171    -0.0413417     1.65776     -66.8323       15.1655\n",
       "    2.619        0.459265      1.17729      15.1655     -301.143"
      ]
     },
     "execution_count": 175,
     "metadata": {},
     "output_type": "execute_result"
    }
   ],
   "source": [
    "i = 1\n",
    "z = convert(Vector{Float64}, @view(G[:, i]), center=true, scale=false)\n",
    "Hfull = ∇²logl(fullβ) # snp 1"
   ]
  },
  {
   "cell_type": "code",
   "execution_count": 176,
   "metadata": {
    "collapsed": false
   },
   "outputs": [
    {
     "data": {
      "text/plain": [
       "18×18 Matrix{Float64}:\n",
       " -632.823      -21.4738     30.4495    …     0.814884      3.03618\n",
       "  -21.4738    -604.98      -28.9684         -1.46681      -3.52215\n",
       "   30.4495     -28.9684   -599.192           1.36703       2.85973\n",
       "  107.556       41.3065    -28.293           0.828104      3.73736\n",
       "   41.3065     113.606      -2.29752        -2.56424      -3.60895\n",
       "  -28.293       -2.29752    99.0345    …    -3.35384      -2.05564\n",
       "   60.9983       4.09349     2.22575         0.722096      3.42676\n",
       "    4.09349     59.3865     -0.81889        -8.67499      -3.75257\n",
       "    2.22575     -0.81889    60.6271          9.8269        1.92115\n",
       "   93.7865       2.35496    -1.04703         3.42676      16.0439\n",
       "    2.35496     92.9894      1.46748   …    -3.75257     -35.5145\n",
       "   -1.04703      1.46748    90.8038          1.92115      54.5368\n",
       "  -42.9543      11.3325    -31.0218          6.20733      22.9274\n",
       "    7.12722     40.8786    -34.154          -3.13267      -8.8422\n",
       "    2.444       -7.91854     5.69671        19.5323       30.5513\n",
       "   -0.282073    -1.75446    -0.037968  …    37.2424       44.0524\n",
       "    0.814884    -1.46681     1.36703      -212.017        32.5491\n",
       "    3.03618     -3.52215     2.85973        32.5491    -1006.69"
      ]
     },
     "execution_count": 176,
     "metadata": {},
     "output_type": "execute_result"
    }
   ],
   "source": [
    "i = 10\n",
    "z = convert(Vector{Float64}, @view(G[:, i]), center=true, scale=false)\n",
    "Hfull = ∇²logl(fullβ) # snp 10"
   ]
  },
  {
   "cell_type": "markdown",
   "metadata": {},
   "source": [
    "Check gradient"
   ]
  },
  {
   "cell_type": "code",
   "execution_count": 177,
   "metadata": {
    "collapsed": false
   },
   "outputs": [
    {
     "data": {
      "text/plain": [
       "18-element Vector{Float64}:\n",
       " -3.288564031528329e-5\n",
       " -9.271545333505715e-6\n",
       "  2.5569035333017354e-5\n",
       "  2.2455003598265133e-5\n",
       "  4.5558109538768043e-5\n",
       " -1.0415080668513266e-5\n",
       "  2.4175350741728607e-5\n",
       "  1.0144715449772468e-5\n",
       "  2.7534773054116446e-5\n",
       " -9.233717258694263e-6\n",
       "  9.01368769642974e-6\n",
       "  2.3738441629062024e-5\n",
       "  9.260687237166998e-6\n",
       "  1.752613043420892e-5\n",
       "  1.6516151672286656\n",
       " -9.828099348063088\n",
       " -3.374463632442021\n",
       " -1.6034035920967213"
      ]
     },
     "execution_count": 177,
     "metadata": {},
     "output_type": "execute_result"
    }
   ],
   "source": [
    "∇logl(fullβ)"
   ]
  },
  {
   "cell_type": "markdown",
   "metadata": {},
   "source": [
    "## Score test with autodiff"
   ]
  },
  {
   "cell_type": "code",
   "execution_count": 26,
   "metadata": {
    "collapsed": false
   },
   "outputs": [
    {
     "name": "stderr",
     "output_type": "stream",
     "text": [
      "\u001b[32mProgress:   2%|▉                                        |  ETA: 0:05:13\u001b[39m"
     ]
    },
    {
     "ename": "LoadError",
     "evalue": "InterruptException:",
     "output_type": "error",
     "traceback": [
      "InterruptException:",
      "",
      "Stacktrace:",
      "  [1] loglikelihood(par::Vector{ForwardDiff.Dual{ForwardDiff.Tag{QuasiCopula.var\"#autodiff_loglikelihood#165\"{MultivariateCopulaVCModel{Float64}}, Float64}, ForwardDiff.Dual{ForwardDiff.Tag{QuasiCopula.var\"#autodiff_loglikelihood#165\"{MultivariateCopulaVCModel{Float64}}, Float64}, Float64, 9}, 9}}, qc_model::MultivariateCopulaVCModel{Float64}, z::Vector{Float64})",
      "    @ QuasiCopula ~/.julia/dev/QuasiCopula/src/gwas/multivariate_gwas_autodiff.jl:97",
      "  [2] (::QuasiCopula.var\"#autodiff_loglikelihood#165\"{MultivariateCopulaVCModel{Float64}})(vecB::Vector{ForwardDiff.Dual{ForwardDiff.Tag{QuasiCopula.var\"#autodiff_loglikelihood#165\"{MultivariateCopulaVCModel{Float64}}, Float64}, ForwardDiff.Dual{ForwardDiff.Tag{QuasiCopula.var\"#autodiff_loglikelihood#165\"{MultivariateCopulaVCModel{Float64}}, Float64}, Float64, 9}, 9}})",
      "    @ QuasiCopula ~/.julia/dev/QuasiCopula/src/gwas/multivariate_gwas_autodiff.jl:15",
      "  [3] chunk_mode_gradient(f::QuasiCopula.var\"#autodiff_loglikelihood#165\"{MultivariateCopulaVCModel{Float64}}, x::Vector{ForwardDiff.Dual{ForwardDiff.Tag{QuasiCopula.var\"#autodiff_loglikelihood#165\"{MultivariateCopulaVCModel{Float64}}, Float64}, Float64, 9}}, cfg::ForwardDiff.GradientConfig{ForwardDiff.Tag{QuasiCopula.var\"#autodiff_loglikelihood#165\"{MultivariateCopulaVCModel{Float64}}, Float64}, ForwardDiff.Dual{ForwardDiff.Tag{QuasiCopula.var\"#autodiff_loglikelihood#165\"{MultivariateCopulaVCModel{Float64}}, Float64}, Float64, 9}, 9, Vector{ForwardDiff.Dual{ForwardDiff.Tag{QuasiCopula.var\"#autodiff_loglikelihood#165\"{MultivariateCopulaVCModel{Float64}}, Float64}, ForwardDiff.Dual{ForwardDiff.Tag{QuasiCopula.var\"#autodiff_loglikelihood#165\"{MultivariateCopulaVCModel{Float64}}, Float64}, Float64, 9}, 9}}})",
      "    @ ForwardDiff ~/.julia/packages/ForwardDiff/pDtsf/src/gradient.jl:166",
      "  [4] gradient",
      "    @ ~/.julia/packages/ForwardDiff/pDtsf/src/gradient.jl:21 [inlined]",
      "  [5] #116",
      "    @ ~/.julia/packages/ForwardDiff/pDtsf/src/hessian.jl:32 [inlined]",
      "  [6] chunk_mode_jacobian!(result::Matrix{Float64}, f::ForwardDiff.var\"#116#117\"{QuasiCopula.var\"#autodiff_loglikelihood#165\"{MultivariateCopulaVCModel{Float64}}, ForwardDiff.HessianConfig{ForwardDiff.Tag{QuasiCopula.var\"#autodiff_loglikelihood#165\"{MultivariateCopulaVCModel{Float64}}, Float64}, Float64, 9, Vector{ForwardDiff.Dual{ForwardDiff.Tag{QuasiCopula.var\"#autodiff_loglikelihood#165\"{MultivariateCopulaVCModel{Float64}}, Float64}, ForwardDiff.Dual{ForwardDiff.Tag{QuasiCopula.var\"#autodiff_loglikelihood#165\"{MultivariateCopulaVCModel{Float64}}, Float64}, Float64, 9}, 9}}, Vector{ForwardDiff.Dual{ForwardDiff.Tag{QuasiCopula.var\"#autodiff_loglikelihood#165\"{MultivariateCopulaVCModel{Float64}}, Float64}, Float64, 9}}}}, x::Vector{Float64}, cfg::ForwardDiff.JacobianConfig{ForwardDiff.Tag{QuasiCopula.var\"#autodiff_loglikelihood#165\"{MultivariateCopulaVCModel{Float64}}, Float64}, Float64, 9, Vector{ForwardDiff.Dual{ForwardDiff.Tag{QuasiCopula.var\"#autodiff_loglikelihood#165\"{MultivariateCopulaVCModel{Float64}}, Float64}, Float64, 9}}})",
      "    @ ForwardDiff ~/.julia/packages/ForwardDiff/pDtsf/src/jacobian.jl:245",
      "  [7] jacobian!(result::Matrix{Float64}, f::Function, x::Vector{Float64}, cfg::ForwardDiff.JacobianConfig{ForwardDiff.Tag{QuasiCopula.var\"#autodiff_loglikelihood#165\"{MultivariateCopulaVCModel{Float64}}, Float64}, Float64, 9, Vector{ForwardDiff.Dual{ForwardDiff.Tag{QuasiCopula.var\"#autodiff_loglikelihood#165\"{MultivariateCopulaVCModel{Float64}}, Float64}, Float64, 9}}}, ::Val{false})",
      "    @ ForwardDiff ~/.julia/packages/ForwardDiff/pDtsf/src/jacobian.jl:60",
      "  [8] hessian!(result::Matrix{Float64}, f::Function, x::Vector{Float64}, cfg::ForwardDiff.HessianConfig{ForwardDiff.Tag{QuasiCopula.var\"#autodiff_loglikelihood#165\"{MultivariateCopulaVCModel{Float64}}, Float64}, Float64, 9, Vector{ForwardDiff.Dual{ForwardDiff.Tag{QuasiCopula.var\"#autodiff_loglikelihood#165\"{MultivariateCopulaVCModel{Float64}}, Float64}, ForwardDiff.Dual{ForwardDiff.Tag{QuasiCopula.var\"#autodiff_loglikelihood#165\"{MultivariateCopulaVCModel{Float64}}, Float64}, Float64, 9}, 9}}, Vector{ForwardDiff.Dual{ForwardDiff.Tag{QuasiCopula.var\"#autodiff_loglikelihood#165\"{MultivariateCopulaVCModel{Float64}}, Float64}, Float64, 9}}}, ::Val{true})",
      "    @ ForwardDiff ~/.julia/packages/ForwardDiff/pDtsf/src/hessian.jl:33",
      "  [9] hessian!(result::Matrix{Float64}, f::Function, x::Vector{Float64}, cfg::ForwardDiff.HessianConfig{ForwardDiff.Tag{QuasiCopula.var\"#autodiff_loglikelihood#165\"{MultivariateCopulaVCModel{Float64}}, Float64}, Float64, 9, Vector{ForwardDiff.Dual{ForwardDiff.Tag{QuasiCopula.var\"#autodiff_loglikelihood#165\"{MultivariateCopulaVCModel{Float64}}, Float64}, ForwardDiff.Dual{ForwardDiff.Tag{QuasiCopula.var\"#autodiff_loglikelihood#165\"{MultivariateCopulaVCModel{Float64}}, Float64}, Float64, 9}, 9}}, Vector{ForwardDiff.Dual{ForwardDiff.Tag{QuasiCopula.var\"#autodiff_loglikelihood#165\"{MultivariateCopulaVCModel{Float64}}, Float64}, Float64, 9}}}) (repeats 2 times)",
      "    @ ForwardDiff ~/.julia/packages/ForwardDiff/pDtsf/src/hessian.jl:31",
      " [10] (::QuasiCopula.var\"#163#169\"{QuasiCopula.var\"#autodiff_loglikelihood#165\"{MultivariateCopulaVCModel{Float64}}})(hess::Matrix{Float64}, x::Vector{Float64})",
      "    @ QuasiCopula ~/.julia/dev/QuasiCopula/src/gwas/multivariate_gwas_autodiff.jl:19",
      " [11] macro expansion",
      "    @ ~/.julia/dev/QuasiCopula/src/gwas/multivariate_gwas_autodiff.jl:37 [inlined]",
      " [12] macro expansion",
      "    @ ~/.julia/packages/ProgressMeter/sN2xr/src/ProgressMeter.jl:938 [inlined]",
      " [13] multivariateGWAS_autodiff(qc_model::MultivariateCopulaVCModel{Float64}, G::SnpArray)",
      "    @ QuasiCopula ~/.julia/dev/QuasiCopula/src/gwas/multivariate_gwas_autodiff.jl:32"
     ]
    }
   ],
   "source": [
    "pvals = multivariateGWAS_autodiff(qc_model, G)"
   ]
  },
  {
   "cell_type": "markdown",
   "metadata": {},
   "source": [
    "Check QQ plots"
   ]
  },
  {
   "cell_type": "code",
   "execution_count": 179,
   "metadata": {
    "collapsed": false
   },
   "outputs": [
    {
     "data": {
      "image/png": "[encoded data removed]"
     },
     "metadata": {},
     "output_type": "display_data"
    }
   ],
   "source": [
    "# only Poisson/Bernoulli traits\n",
    "qq(pvals, dpi=100, titles=\"4 traits, $k causal SNPs\")\n",
    "display(\"image/png\", read(\"qqplot.png\"))"
   ]
  },
  {
   "cell_type": "code",
   "execution_count": 242,
   "metadata": {
    "collapsed": false
   },
   "outputs": [
    {
     "data": {
      "image/png": "[encoded data removed]"
     },
     "metadata": {},
     "output_type": "display_data"
    }
   ],
   "source": [
    "# only Poisson/Bernoulli traits\n",
    "qq(pvals, dpi=100, titles=\"4 traits, $k causal SNPs\")\n",
    "display(\"image/png\", read(\"qqplot.png\"))"
   ]
  },
  {
   "cell_type": "code",
   "execution_count": null,
   "metadata": {
    "collapsed": true
   },
   "outputs": [],
   "source": []
  },
  {
   "cell_type": "code",
   "execution_count": null,
   "metadata": {
    "collapsed": true
   },
   "outputs": [],
   "source": []
  },
  {
   "cell_type": "code",
   "execution_count": null,
   "metadata": {
    "collapsed": true
   },
   "outputs": [],
   "source": []
  },
  {
   "cell_type": "code",
   "execution_count": null,
   "metadata": {
    "collapsed": true
   },
   "outputs": [],
   "source": []
  },
  {
   "cell_type": "code",
   "execution_count": null,
   "metadata": {
    "collapsed": true
   },
   "outputs": [],
   "source": []
  },
  {
   "cell_type": "code",
   "execution_count": 25,
   "metadata": {
    "collapsed": false
   },
   "outputs": [
    {
     "data": {
      "image/png": "[encoded data removed]"
     },
     "metadata": {},
     "output_type": "display_data"
    }
   ],
   "source": [
    "# includes gaussian traits\n",
    "qq(pvals, dpi=100, titles=\"4 traits, $k causal SNPs\")\n",
    "display(\"image/png\", read(\"qqplot.png\"))"
   ]
  },
  {
   "cell_type": "code",
   "execution_count": 130,
   "metadata": {
    "collapsed": false
   },
   "outputs": [
    {
     "data": {
      "image/png": "[encoded data removed]"
     },
     "metadata": {},
     "output_type": "display_data"
    }
   ],
   "source": [
    "# includes gaussian traits\n",
    "qq(pvals, dpi=100, titles=\"4 traits, $k causal SNPs\")\n",
    "display(\"image/png\", read(\"qqplot.png\"))"
   ]
  },
  {
   "cell_type": "code",
   "execution_count": null,
   "metadata": {
    "collapsed": true
   },
   "outputs": [],
   "source": []
  }
 ],
 "metadata": {
  "@webio": {
   "lastCommId": null,
   "lastKernelId": null
  },
  "kernelspec": {
   "display_name": "Julia 1.7.3",
   "language": "julia",
   "name": "julia-1.7"
  },
  "language_info": {
   "file_extension": ".jl",
   "mimetype": "application/julia",
   "name": "julia",
   "version": "1.7.3"
  },
  "toc": {
   "base_numbering": 1,
   "nav_menu": {},
   "number_sections": true,
   "sideBar": true,
   "skip_h1_title": false,
   "title_cell": "Table of Contents",
   "title_sidebar": "Contents",
   "toc_cell": false,
   "toc_position": {},
   "toc_section_display": true,
   "toc_window_display": false
  }
 },
 "nbformat": 4,
 "nbformat_minor": 2
}
