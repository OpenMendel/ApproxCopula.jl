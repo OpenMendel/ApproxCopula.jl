{
 "cells": [
  {
   "cell_type": "markdown",
   "metadata": {},
   "source": [
    "# Multivariate QuasiCopula GWAS with Mixed Marginals\n",
    "\n",
    "Here we assume each sample have $d$ observations, and we estimate a general covariance matrix \n",
    "\n",
    "$$\\mathbf{\\Gamma} = \\mathbf{L}\\mathbf{L}^t$$"
   ]
  },
  {
   "cell_type": "code",
   "execution_count": 1,
   "metadata": {
    "collapsed": false
   },
   "outputs": [
    {
     "name": "stderr",
     "output_type": "stream",
     "text": [
      "\u001b[32m\u001b[1mPrecompiling\u001b[22m\u001b[39m QuasiCopula\n",
      "\u001b[32m  ✓ \u001b[39mQuasiCopula\n",
      "  1 dependency successfully precompiled in 5 seconds. 165 already precompiled.\n"
     ]
    },
    {
     "data": {
      "text/plain": [
       "1"
      ]
     },
     "execution_count": 1,
     "metadata": {},
     "output_type": "execute_result"
    }
   ],
   "source": [
    "using Revise\n",
    "using DataFrames, Random, GLM, QuasiCopula\n",
    "using ForwardDiff, Test, LinearAlgebra\n",
    "using LinearAlgebra: BlasReal, copytri!\n",
    "using ToeplitzMatrices\n",
    "using BenchmarkTools\n",
    "using SnpArrays\n",
    "using Statistics\n",
    "using StatsBase\n",
    "using MendelPlots\n",
    "\n",
    "ENV[\"COLUMNS\"] = 240\n",
    "BLAS.set_num_threads(1)\n",
    "Threads.nthreads()"
   ]
  },
  {
   "cell_type": "markdown",
   "metadata": {},
   "source": [
    "## Simulate data"
   ]
  },
  {
   "cell_type": "code",
   "execution_count": 16,
   "metadata": {
    "collapsed": false
   },
   "outputs": [],
   "source": [
    "k = 0 # number of causal SNPs\n",
    "\n",
    "qc_model, G, Btrue, Γtrue, γtrue, τtrue = simulate_multivariate_traits(\n",
    "    n = 1000, # sample size\n",
    "    p = 3, # number of fixed effects, including intercept\n",
    "    m = 2, # number of variance components\n",
    "    d = 4, # number of phenotypes\n",
    "    q = 100, # number of SNPs\n",
    "    k = k, # number of causal SNPs\n",
    "#     Γ = Matrix(SymmetricToeplitz(0.5.^(0:(d-1)))),\n",
    "    seed = 2024,\n",
    "    τtrue = 0.1,\n",
    "    possible_distributions = [Normal, Bernoulli, Poisson],\n",
    ");"
   ]
  },
  {
   "cell_type": "code",
   "execution_count": 17,
   "metadata": {
    "collapsed": false
   },
   "outputs": [
    {
     "data": {
      "text/plain": [
       "1000×4 Matrix{Float64}:\n",
       "  0.465505  0.0  0.0  1.0\n",
       "  2.43812   1.0  1.0  1.0\n",
       " -5.64098   0.0  0.0  1.0\n",
       "  3.86844   1.0  0.0  0.0\n",
       " -4.48907   1.0  0.0  0.0\n",
       " -2.56907   0.0  1.0  1.0\n",
       " -4.01377   1.0  1.0  2.0\n",
       "  1.62033   2.0  0.0  1.0\n",
       "  3.74973   2.0  0.0  3.0\n",
       "  2.91689   0.0  1.0  0.0\n",
       " -4.7109    1.0  0.0  0.0\n",
       " -3.28293   1.0  1.0  3.0\n",
       " -2.7223    0.0  0.0  1.0\n",
       "  ⋮                   \n",
       " -5.60909   0.0  0.0  0.0\n",
       "  1.4915    1.0  0.0  2.0\n",
       " -4.52557   0.0  0.0  1.0\n",
       " -0.160964  0.0  0.0  1.0\n",
       " -2.73165   0.0  0.0  5.0\n",
       " -4.04717   0.0  1.0  2.0\n",
       " -1.40839   1.0  0.0  4.0\n",
       "  2.73641   1.0  1.0  2.0\n",
       " -1.73719   2.0  1.0  2.0\n",
       " -2.34671   0.0  0.0  0.0\n",
       " -3.03835   0.0  0.0  1.0\n",
       "  0.254     1.0  0.0  0.0"
      ]
     },
     "execution_count": 17,
     "metadata": {},
     "output_type": "execute_result"
    }
   ],
   "source": [
    "# phenotypes\n",
    "qc_model.data.Y"
   ]
  },
  {
   "cell_type": "code",
   "execution_count": 18,
   "metadata": {
    "collapsed": false
   },
   "outputs": [
    {
     "data": {
      "text/plain": [
       "4×4 Matrix{Float64}:\n",
       "  1.0        0.183815   0.056916   -0.0166072\n",
       "  0.183815   1.0        0.0459901   0.0601929\n",
       "  0.056916   0.0459901  1.0         0.0387637\n",
       " -0.0166072  0.0601929  0.0387637   1.0"
      ]
     },
     "execution_count": 18,
     "metadata": {},
     "output_type": "execute_result"
    }
   ],
   "source": [
    "Statistics.cor(qc_model.data.Y)"
   ]
  },
  {
   "cell_type": "code",
   "execution_count": 19,
   "metadata": {
    "collapsed": false
   },
   "outputs": [
    {
     "data": {
      "text/plain": [
       "4×4 Matrix{Float64}:\n",
       " 1.0    0.5   0.25  0.125\n",
       " 0.5    1.0   0.5   0.25\n",
       " 0.25   0.5   1.0   0.5\n",
       " 0.125  0.25  0.5   1.0"
      ]
     },
     "execution_count": 19,
     "metadata": {},
     "output_type": "execute_result"
    }
   ],
   "source": [
    "Γtrue"
   ]
  },
  {
   "cell_type": "markdown",
   "metadata": {},
   "source": [
    "## Fit Null model"
   ]
  },
  {
   "cell_type": "code",
   "execution_count": 20,
   "metadata": {
    "collapsed": false,
    "scrolled": true
   },
   "outputs": [
    {
     "name": "stdout",
     "output_type": "stream",
     "text": [
      "par[1] = -0.20287322909369346\n",
      "par[1] = -0.20287322909369346\n",
      "par[1] = -0.20287322909369346\n",
      "par[1] = -0.20287322909369346\n",
      "par[1] = -0.20287322909369346\n",
      "This is Ipopt version 3.14.14, running with linear solver MUMPS 5.6.2.\n",
      "\n",
      "Number of nonzeros in equality constraint Jacobian...:        0\n",
      "Number of nonzeros in inequality constraint Jacobian.:        0\n",
      "Number of nonzeros in Lagrangian Hessian.............:        0\n",
      "\n",
      "Total number of variables............................:       23\n",
      "                     variables with only lower bounds:        1\n",
      "                variables with lower and upper bounds:        0\n",
      "                     variables with only upper bounds:        0\n",
      "Total number of equality constraints.................:        0\n",
      "Total number of inequality constraints...............:        0\n",
      "        inequality constraints with only lower bounds:        0\n",
      "   inequality constraints with lower and upper bounds:        0\n",
      "        inequality constraints with only upper bounds:        0\n",
      "\n",
      "iter    objective    inf_pr   inf_du lg(mu)  ||d||  lg(rg) alpha_du alpha_pr  ls\n",
      "   0 -4.5056967e+00 0.00e+00 1.11e+00   0.0 0.00e+00    -  0.00e+00 0.00e+00   0\n",
      "par[1] = -1.1526347218370634\n",
      "par[1] = -1.1526347218370634\n",
      "par[1] = -1.1526347218370634\n",
      "   1 -3.9062563e+00 0.00e+00 2.09e+00  -3.2 1.11e+00    -  1.00e+00 1.00e+00f  1\n",
      "par[1] = -0.5469867383116702\n",
      "par[1] = -0.5469867383116702\n",
      "par[1] = -0.5469867383116702\n",
      "   2 -2.0578210e+00 0.00e+00 4.73e-01  -5.3 6.21e-01    -  1.00e+00 1.00e+00f  1\n",
      "par[1] = -0.42965625030888577\n",
      "par[1] = -0.42965625030888577\n",
      "par[1] = -0.42965625030888577\n",
      "   3 -1.7410498e+00 0.00e+00 3.85e-01  -7.1 4.57e-01    -  1.00e+00 1.00e+00f  1\n",
      "par[1] = -0.4802626916041707\n",
      "par[1] = -0.4802626916041707\n",
      "par[1] = -0.4802626916041707\n",
      "   4 -1.0045796e+00 0.00e+00 2.38e-01  -8.5 1.64e+00    -  1.00e+00 1.00e+00f  1\n",
      "par[1] = -0.5370515914896955\n",
      "par[1] = -0.5370515914896957\n",
      "par[1] = -0.5370515914896957\n",
      "par[1] = -0.5370515914896957\n",
      "par[1] = -0.5370515914896957\n",
      "par[1] = -0.5086571415469331\n",
      "par[1] = -0.5086571415469331\n",
      "par[1] = -0.5086571415469331\n",
      "   5 -8.3635437e-01 0.00e+00 5.01e-01 -10.1 2.81e+00    -  1.00e+00 5.00e-01f  2\n",
      "par[1] = -0.47384001963647215\n",
      "par[1] = -0.47384001963647215\n",
      "par[1] = -0.47384001963647215\n",
      "   6 -3.7212485e-02 0.00e+00 9.07e-01 -11.0 7.83e+00    -  1.00e+00 1.00e+00f  1\n",
      "par[1] = -0.5320552878821759\n",
      "par[1] = -0.5320552878821759\n",
      "par[1] = -0.5320552878821759\n",
      "   7  5.8458230e-01 0.00e+00 1.05e-01 -11.0 3.97e+00    -  1.00e+00 1.00e+00f  1\n",
      "par[1] = -0.48075460617604593\n",
      "par[1] = -0.48075460617604593\n",
      "par[1] = -0.48075460617604593\n",
      "   8  8.6297537e-01 0.00e+00 1.15e-01 -11.0 5.48e+00    -  1.00e+00 1.00e+00f  1\n",
      "par[1] = -13.720368831179092\n",
      "par[1] = -13.720368831646635\n",
      "par[1] = -13.720368831646635\n",
      "par[1] = -13.720368831646635\n",
      "par[1] = -13.720368831646635\n",
      "par[1] = -7.10056171867757\n",
      "par[1] = -3.7906581624268076\n",
      "par[1] = -2.135706384301427\n",
      "par[1] = -1.3082304952387362\n",
      "par[1] = -0.8944925507073911\n",
      "par[1] = -0.6876235784417185\n",
      "par[1] = -0.6876235784417185\n",
      "par[1] = -0.6876235784417185\n",
      "   9  9.7264963e-01 0.00e+00 6.89e-01  -9.7 3.93e+02    -  1.00e+00 1.56e-02f  7\n",
      "par[1] = -0.5680977782636608\n",
      "par[1] = -0.5680977782636608\n",
      "par[1] = -0.5680977782636608\n",
      "iter    objective    inf_pr   inf_du lg(mu)  ||d||  lg(rg) alpha_du alpha_pr  ls\n",
      "  10  1.4715703e+00 0.00e+00 2.49e-01 -11.0 1.32e+01    -  1.00e+00 1.00e+00f  1\n",
      "par[1] = -0.19568025018814128\n",
      "par[1] = -0.1956802501886425\n",
      "par[1] = -0.1956802501886425\n",
      "par[1] = -0.1956802501886425\n",
      "par[1] = -0.1956802501886425\n",
      "par[1] = -0.38188901422590105\n",
      "par[1] = -0.47499339624478093\n",
      "par[1] = -0.47499339624478093\n",
      "par[1] = -0.47499339624478093\n",
      "  11  1.5918788e+00 0.00e+00 2.83e-01 -11.0 3.75e+01    -  1.00e+00 2.50e-01f  3\n",
      "par[1] = -0.5130193359714866\n",
      "par[1] = -0.5130193359715014\n",
      "par[1] = -0.5130193359715014\n",
      "par[1] = -0.5130193359715014\n",
      "par[1] = -0.5130193359715014\n",
      "par[1] = -0.49400636610813375\n",
      "par[1] = -0.49400636610813375\n",
      "par[1] = -0.49400636610813375\n",
      "  12  1.7760303e+00 0.00e+00 1.17e+00 -11.0 1.26e+02    -  1.00e+00 5.00e-01f  2\n",
      "par[1] = 11.24204510915002\n",
      "par[1] = 5.374019371520943\n",
      "par[1] = 2.4400065027064044\n",
      "par[1] = 0.9730000682991353\n",
      "par[1] = 0.23949685109550078\n",
      "par[1] = -0.12725475750631648\n",
      "par[1] = -0.31063056180722515\n",
      "par[1] = -0.31063056180722515\n",
      "par[1] = -0.31063056180722515\n",
      "Warning: Cutting back alpha due to evaluation error\n",
      "Warning: Cutting back alpha due to evaluation error\n",
      "Warning: Cutting back alpha due to evaluation error\n",
      "Warning: Cutting back alpha due to evaluation error\n",
      "  13  2.4083805e+00 0.00e+00 1.01e+00  -9.0 5.05e+03    -  1.00e+00 1.56e-02f  7\n",
      "par[1] = 0.7659945878167242\n",
      "par[1] = 0.7659945878325802\n",
      "par[1] = 0.7659945878325802\n",
      "par[1] = 0.7659945878325802\n",
      "par[1] = 0.7659945878325802\n",
      "par[1] = 0.22768201300474955\n",
      "par[1] = -0.0414742744012378\n",
      "par[1] = -0.17605241810423147\n",
      "par[1] = -0.17605241810423147\n",
      "par[1] = -0.17605241810423147\n",
      "\n",
      "Number of Iterations....: 14\n",
      "\n",
      "Number of objective function evaluations             = 54\n",
      "Number of objective gradient evaluations             = 15\n",
      "Number of equality constraint evaluations            = 0\n",
      "Number of inequality constraint evaluations          = 0\n",
      "Number of equality constraint Jacobian evaluations   = 0\n",
      "Number of inequality constraint Jacobian evaluations = 0\n",
      "Number of Lagrangian Hessian evaluations             = 0\n",
      "Total seconds in IPOPT                               = 2.101\n",
      "\n",
      "EXIT: Invalid number in NLP function or derivative detected.\n",
      "par[1] = -0.17605241810423147\n",
      "  2.105408 seconds (13.12 M allocations: 451.843 MiB, 2.16% gc time, 60.38% compilation time: 98% of which was recompilation)\n"
     ]
    },
    {
     "name": "stderr",
     "output_type": "stream",
     "text": [
      "\u001b[33m\u001b[1m┌ \u001b[22m\u001b[39m\u001b[33m\u001b[1mWarning: \u001b[22m\u001b[39mOptimization unsuccesful; got INVALID_MODEL\n",
      "\u001b[33m\u001b[1m└ \u001b[22m\u001b[39m\u001b[90m@ QuasiCopula ~/.julia/dev/QuasiCopula/src/gwas/multivariate.jl:218\u001b[39m\n"
     ]
    }
   ],
   "source": [
    "@time optm = QuasiCopula.fit!(qc_model);"
   ]
  },
  {
   "cell_type": "code",
   "execution_count": 12,
   "metadata": {
    "collapsed": false
   },
   "outputs": [
    {
     "data": {
      "text/plain": [
       "12×2 Matrix{Float64}:\n",
       "  -0.504132   -0.385704\n",
       "   0.108127   -0.054207\n",
       "  -0.608272   -0.394284\n",
       "   0.410668   -0.420927\n",
       "  -0.0304512   0.0878788\n",
       "   0.173584   -0.493356\n",
       " -45.6477      0.2951\n",
       "   8.07168    -0.456848\n",
       " -47.2299     -0.368505\n",
       "   0.186944   -0.367624\n",
       "   0.180792    0.242028\n",
       "  -0.0133134  -0.38976"
      ]
     },
     "execution_count": 12,
     "metadata": {},
     "output_type": "execute_result"
    }
   ],
   "source": [
    "# compare beta\n",
    "[vec(qc_model.B) vec(Btrue)]"
   ]
  },
  {
   "cell_type": "code",
   "execution_count": 14,
   "metadata": {
    "collapsed": false
   },
   "outputs": [
    {
     "data": {
      "text/plain": [
       "16×2 Matrix{Float64}:\n",
       " 1.0     1.0\n",
       " 0.5    -0.0778598\n",
       " 0.25   -0.0187545\n",
       " 0.125  -0.012791\n",
       " 0.5    -0.0778598\n",
       " 1.0     1.0\n",
       " 0.5     0.0338054\n",
       " 0.25    0.0799054\n",
       " 0.25   -0.0187545\n",
       " 0.5     0.0338054\n",
       " 1.0     1.0\n",
       " 0.5     0.0303901\n",
       " 0.125  -0.012791\n",
       " 0.25    0.0799054\n",
       " 0.5     0.0303901\n",
       " 1.0     1.0"
      ]
     },
     "execution_count": 14,
     "metadata": {},
     "output_type": "execute_result"
    }
   ],
   "source": [
    "# compare Γ\n",
    "L = qc_model.L\n",
    "[vec(Γtrue) vec(cov2cor(L.L*L.L'))]"
   ]
  },
  {
   "cell_type": "code",
   "execution_count": 15,
   "metadata": {
    "collapsed": false
   },
   "outputs": [
    {
     "data": {
      "text/plain": [
       "1×2 Matrix{Float64}:\n",
       " 76.3186  0.1"
      ]
     },
     "execution_count": 15,
     "metadata": {},
     "output_type": "execute_result"
    }
   ],
   "source": [
    "# compare nuisance parameters \n",
    "[qc_model.ϕ [τtrue for _ in 1:length(qc_model.ϕ)]]"
   ]
  },
  {
   "cell_type": "markdown",
   "metadata": {},
   "source": [
    "## Score test GWAS"
   ]
  },
  {
   "cell_type": "code",
   "execution_count": 8,
   "metadata": {
    "collapsed": false
   },
   "outputs": [
    {
     "name": "stderr",
     "output_type": "stream",
     "text": [
      "\u001b[32mProgress: 100%|█████████████████████████████████████████| Time: 0:08:51\u001b[39m\n"
     ]
    },
    {
     "data": {
      "text/plain": [
       "100-element Vector{Float64}:\n",
       " 0.31925271875024414\n",
       " 0.36208833083857833\n",
       " 0.2507538241812135\n",
       " 0.2954134372396186\n",
       " 0.2342595067117617\n",
       " 0.9783282926558374\n",
       " 0.3261639480887088\n",
       " 0.47718781829720003\n",
       " 0.061993848045111925\n",
       " 0.8266281487555684\n",
       " 0.6511929399313756\n",
       " 0.45654141490611094\n",
       " 0.3073575386742658\n",
       " ⋮\n",
       " 0.11398302430725075\n",
       " 0.40857119199876046\n",
       " 0.079591708602425\n",
       " 0.879063617169675\n",
       " 0.09082056194352087\n",
       " 0.9102083840725187\n",
       " 0.7705485149935084\n",
       " 0.6117564554428817\n",
       " 0.9947972926995126\n",
       " 0.4260554312563645\n",
       " 0.014392088255771722\n",
       " 0.05782980422681136"
      ]
     },
     "execution_count": 8,
     "metadata": {},
     "output_type": "execute_result"
    }
   ],
   "source": [
    "pvals = multivariateGWAS_autodiff(qc_model, G)"
   ]
  },
  {
   "cell_type": "code",
   "execution_count": 101,
   "metadata": {
    "collapsed": false
   },
   "outputs": [
    {
     "name": "stderr",
     "output_type": "stream",
     "text": [
      "\u001b[32mProgress: 100%|█████████████████████████████████████████| Time: 0:01:03\u001b[39m\n"
     ]
    },
    {
     "data": {
      "text/plain": [
       "1000-element Vector{Float64}:\n",
       " 0.26050430296126986\n",
       " 0.10468696211683476\n",
       " 0.2031327503062303\n",
       " 0.17307949915577855\n",
       " 0.98296768904625\n",
       " 0.894789310674496\n",
       " 0.006090504857996004\n",
       " 0.29090239144086033\n",
       " 0.5583774083569042\n",
       " 0.7331048604642944\n",
       " 0.6514439973388421\n",
       " 0.2372939606970496\n",
       " 0.25622220029010206\n",
       " ⋮\n",
       " 0.9982050542129816\n",
       " 0.8237452478615934\n",
       " 0.7348102502658302\n",
       " 0.5319841674520592\n",
       " 0.29766096338133824\n",
       " 0.23644548763162423\n",
       " 0.021709859825077754\n",
       " 0.5132287019408608\n",
       " 0.9370461420563777\n",
       " 0.4814231333217101\n",
       " 0.9253902061244873\n",
       " 0.7914789923468943"
      ]
     },
     "execution_count": 101,
     "metadata": {},
     "output_type": "execute_result"
    }
   ],
   "source": [
    "pvals = multivariateGWAS_autodiff(qc_model, G)"
   ]
  },
  {
   "cell_type": "code",
   "execution_count": 102,
   "metadata": {
    "collapsed": false
   },
   "outputs": [
    {
     "data": {
      "image/png": "[encoded data removed]"
     },
     "metadata": {},
     "output_type": "display_data"
    }
   ],
   "source": [
    "# 2 normal, 1 bernoulli, 1 poisson\n",
    "qq(pvals, dpi=100, titles=\"4 traits, $k causal SNPs\")\n",
    "display(\"image/png\", read(\"qqplot.png\"))"
   ]
  },
  {
   "cell_type": "code",
   "execution_count": null,
   "metadata": {
    "collapsed": true
   },
   "outputs": [],
   "source": []
  },
  {
   "cell_type": "code",
   "execution_count": null,
   "metadata": {
    "collapsed": true
   },
   "outputs": [],
   "source": []
  },
  {
   "cell_type": "code",
   "execution_count": null,
   "metadata": {
    "collapsed": true
   },
   "outputs": [],
   "source": []
  },
  {
   "cell_type": "code",
   "execution_count": null,
   "metadata": {
    "collapsed": true
   },
   "outputs": [],
   "source": []
  },
  {
   "cell_type": "code",
   "execution_count": 1,
   "metadata": {
    "collapsed": false
   },
   "outputs": [
    {
     "name": "stderr",
     "output_type": "stream",
     "text": [
      "\u001b[36m\u001b[1m[ \u001b[22m\u001b[39m\u001b[36m\u001b[1mInfo: \u001b[22m\u001b[39mPrecompiling QuasiCopula [c47b6ae2-b804-4668-9957-eb588c99ffbc]\n"
     ]
    },
    {
     "data": {
      "text/plain": [
       "_make_snparray (generic function with 1 method)"
      ]
     },
     "execution_count": 1,
     "metadata": {},
     "output_type": "execute_result"
    }
   ],
   "source": [
    "using Revise\n",
    "using DataFrames, Random, GLM, QuasiCopula\n",
    "using ForwardDiff, Test, LinearAlgebra\n",
    "using LinearAlgebra: BlasReal, copytri!\n",
    "using ToeplitzMatrices\n",
    "using BenchmarkTools\n",
    "using SnpArrays\n",
    "using Statistics\n",
    "using StatsBase\n",
    "using MendelPlots\n",
    "\n",
    "BLAS.set_num_threads(1)\n",
    "\n",
    "function simulate_random_snparray(s::Union{String, UndefInitializer}, n::Int64,\n",
    "    p::Int64; mafs::Vector{Float64}=zeros(Float64, p), min_ma::Int = 5)\n",
    "\n",
    "    #first simulate a random {0, 1, 2} matrix with each SNP drawn from Binomial(2, r[i])\n",
    "    A1 = BitArray(undef, n, p) \n",
    "    A2 = BitArray(undef, n, p) \n",
    "    for j in 1:p\n",
    "        minor_alleles = 0\n",
    "        maf = 0\n",
    "        while minor_alleles <= min_ma\n",
    "            maf = 0.5rand()\n",
    "            for i in 1:n\n",
    "                A1[i, j] = rand(Bernoulli(maf))\n",
    "                A2[i, j] = rand(Bernoulli(maf))\n",
    "            end\n",
    "            minor_alleles = sum(view(A1, :, j)) + sum(view(A2, :, j))\n",
    "        end\n",
    "        mafs[j] = maf\n",
    "    end\n",
    "\n",
    "    #fill the SnpArray with the corresponding x_tmp entry\n",
    "    return _make_snparray(s, A1, A2)\n",
    "end\n",
    "\n",
    "function _make_snparray(s::Union{String, UndefInitializer}, A1::BitArray, A2::BitArray)\n",
    "    n, p = size(A1)\n",
    "    x = SnpArray(s, n, p)\n",
    "    for i in 1:(n*p)\n",
    "        c = A1[i] + A2[i]\n",
    "        if c == 0\n",
    "            x[i] = 0x00\n",
    "        elseif c == 1\n",
    "            x[i] = 0x02\n",
    "        elseif c == 2\n",
    "            x[i] = 0x03\n",
    "        else\n",
    "            throw(MissingException(\"matrix shouldn't have missing values!\"))\n",
    "        end\n",
    "    end\n",
    "    return x\n",
    "end"
   ]
  },
  {
   "cell_type": "markdown",
   "metadata": {},
   "source": [
    "## Simulate data\n",
    "\n",
    "Given $n$ independent samples, we simulate phenotypes from \n",
    "$$\\mathbf{y}_i \\sim QC(\\mathbf{\\Gamma}, f_1, ..., f_d)$$"
   ]
  },
  {
   "cell_type": "code",
   "execution_count": 2,
   "metadata": {
    "collapsed": false
   },
   "outputs": [],
   "source": [
    "# simulate data\n",
    "p = 3    # number of fixed effects, including intercept\n",
    "m = 2    # number of variance componentsac\n",
    "n = 5000 # number of sample\n",
    "d = 4    # number of phenotypes per sample\n",
    "q = 1000 # number of SNPs\n",
    "k = 5    # number of causal SNPs\n",
    "\n",
    "# sample d marginal distributions for each phenotype within samples\n",
    "Random.seed!(1234)\n",
    "possible_distributions = [Normal, Bernoulli, Poisson]\n",
    "vecdist = rand(possible_distributions, d)\n",
    "# vecdist = [Poisson, Bernoulli, Bernoulli] # this derivative test is fine\n",
    "# vecdist = [Bernoulli, Bernoulli, Poisson] # this derivative test is wrong everywhere\n",
    "veclink = [canonicallink(vecdist[j]()) for j in 1:d]\n",
    "\n",
    "# simulate nongenetic coefficient and variance component params\n",
    "Random.seed!(2022)\n",
    "τtrue = 10.0\n",
    "Btrue = rand(Uniform(-0.5, 0.5), p, d)\n",
    "θtrue = fill(0.4, m)\n",
    "V1 = ones(d, d)\n",
    "V2 = Matrix(I, d, d)\n",
    "Γ = m == 1 ? θtrue[1] * V1 : θtrue[1] * V1 + θtrue[2] * V2\n",
    "# Γ = 0.5.*ones(d, d) + 0.5I\n",
    "\n",
    "# simulate non-genetic design matrix\n",
    "Random.seed!(2022)\n",
    "X = [ones(n) randn(n, p - 1)]\n",
    "\n",
    "# simulate random SnpArray with q SNPs and randomly choose k SNPs to be causal\n",
    "# here the first phenotype has strong effect, while other phenotypes have decreasing effects\n",
    "Random.seed!(2022)\n",
    "G = simulate_random_snparray(undef, n, q)\n",
    "Gfloat = convert(Matrix{Float64}, G, center=true, scale=true)\n",
    "γtrue = zeros(q, d)\n",
    "causal_snps = sample(1:q, k, replace=false) |> sort\n",
    "γtrue[causal_snps, 1] .= rand([-0.2, 0.2], k)\n",
    "for j in 2:d\n",
    "    γtrue[causal_snps, j] .= 0.5^j .* γtrue[causal_snps, 1]\n",
    "end\n",
    "\n",
    "# sample phenotypes\n",
    "Y = zeros(n, d)\n",
    "y = Vector{Float64}(undef, d)\n",
    "for i in 1:n\n",
    "    Xi = X[i, :]\n",
    "    Gi = Gfloat[i, :]\n",
    "    η = Btrue' * Xi + γtrue' * Gi\n",
    "    vecd_tmp = Vector{UnivariateDistribution}(undef, d)\n",
    "    for j in 1:d\n",
    "        dist = vecdist[j]\n",
    "        μj = GLM.linkinv(canonicallink(dist()), η[j])\n",
    "        if dist == Normal\n",
    "            σ2 = inv(τtrue)\n",
    "            σ = sqrt(σ2)\n",
    "            vecd_tmp[j] = Normal(μj, σ)\n",
    "        else\n",
    "            vecd_tmp[j] = dist(μj)\n",
    "        end\n",
    "    end\n",
    "    multivariate_dist = MultivariateMix(vecd_tmp, Γ)\n",
    "    res = Vector{Float64}(undef, d)\n",
    "    rand(multivariate_dist, y, res)\n",
    "    Y[i, :] .= y\n",
    "end\n",
    "\n",
    "# form model\n",
    "V = m == 1 ? [V1] : [V1, V2]\n",
    "qc_model = MultivariateCopulaVCModel(Y, X, V, vecdist, veclink, penalized=false);"
   ]
  },
  {
   "cell_type": "markdown",
   "metadata": {},
   "source": [
    "What does phenotypes look like?"
   ]
  },
  {
   "cell_type": "code",
   "execution_count": 3,
   "metadata": {
    "collapsed": false
   },
   "outputs": [
    {
     "data": {
      "text/plain": [
       "5000×4 Matrix{Float64}:\n",
       " -1.28163    0.0  -0.415917   1.0\n",
       "  0.570392   1.0  -0.437541   0.0\n",
       " -0.899075   0.0   0.626361   3.0\n",
       "  1.39392    0.0  -0.0704303  0.0\n",
       " -0.52449    0.0   0.855822   1.0\n",
       " -0.818395   0.0   0.126965   0.0\n",
       " -0.0120305  1.0  -0.117696   0.0\n",
       "  0.145072   1.0  -0.261022   1.0\n",
       " -0.302563   0.0   0.575371   2.0\n",
       " -0.636933   1.0  -0.0159948  0.0\n",
       "  0.80406    1.0   0.66775    0.0\n",
       "  0.304521   0.0   0.146666   1.0\n",
       " -0.0235421  0.0   1.06856    0.0\n",
       "  ⋮                           \n",
       " -0.892895   0.0  -0.0771152  1.0\n",
       " -1.04522    1.0   0.987614   1.0\n",
       " -0.341696   0.0   0.097902   1.0\n",
       " -0.459006   1.0  -0.647328   0.0\n",
       "  0.828123   1.0  -0.95536    0.0\n",
       "  0.541685   0.0  -0.0932948  0.0\n",
       " -0.264861   0.0   0.58193    2.0\n",
       " -0.238232   1.0   0.131018   1.0\n",
       " -0.733315   1.0   0.890936   2.0\n",
       "  1.24784    1.0   0.441328   2.0\n",
       " -0.0424797  1.0   0.691514   0.0\n",
       " -1.0805     0.0  -0.662316   0.0"
      ]
     },
     "execution_count": 3,
     "metadata": {},
     "output_type": "execute_result"
    }
   ],
   "source": [
    "Y"
   ]
  },
  {
   "cell_type": "markdown",
   "metadata": {},
   "source": [
    "What does our covariates look like?"
   ]
  },
  {
   "cell_type": "code",
   "execution_count": 4,
   "metadata": {
    "collapsed": false
   },
   "outputs": [
    {
     "data": {
      "text/plain": [
       "5000×3 Matrix{Float64}:\n",
       " 1.0  -0.308648    1.70162\n",
       " 1.0   1.67671    -0.548034\n",
       " 1.0  -0.347153    0.736227\n",
       " 1.0   0.818666   -2.16009\n",
       " 1.0  -1.71753    -0.273745\n",
       " 1.0  -0.238934    0.942883\n",
       " 1.0   0.701932    1.02868\n",
       " 1.0  -0.166138   -0.278824\n",
       " 1.0  -0.609614    0.289359\n",
       " 1.0   0.68791     0.209478\n",
       " 1.0   0.0342303  -0.543192\n",
       " 1.0  -0.479078   -0.865401\n",
       " 1.0  -1.63537     0.348029\n",
       " ⋮                \n",
       " 1.0   0.200555    1.14607\n",
       " 1.0  -0.205806    1.98172\n",
       " 1.0   1.17812     0.307879\n",
       " 1.0   1.60549     0.817788\n",
       " 1.0   1.63509    -0.960082\n",
       " 1.0  -0.446096   -1.0502\n",
       " 1.0   0.632009   -0.335688\n",
       " 1.0   0.589777   -1.92135\n",
       " 1.0  -0.542628    1.68057\n",
       " 1.0  -0.779274    0.6376\n",
       " 1.0  -1.19111    -1.3064\n",
       " 1.0   0.505272    1.11117"
      ]
     },
     "execution_count": 4,
     "metadata": {},
     "output_type": "execute_result"
    }
   ],
   "source": [
    "X"
   ]
  },
  {
   "cell_type": "markdown",
   "metadata": {},
   "source": [
    "True SNP effects"
   ]
  },
  {
   "cell_type": "code",
   "execution_count": 5,
   "metadata": {
    "collapsed": false
   },
   "outputs": [
    {
     "data": {
      "text/plain": [
       "20-element Vector{Float64}:\n",
       "  0.2\n",
       "  0.2\n",
       " -0.2\n",
       "  0.2\n",
       " -0.2\n",
       "  0.05\n",
       "  0.05\n",
       " -0.05\n",
       "  0.05\n",
       " -0.05\n",
       "  0.025\n",
       "  0.025\n",
       " -0.025\n",
       "  0.025\n",
       " -0.025\n",
       "  0.0125\n",
       "  0.0125\n",
       " -0.0125\n",
       "  0.0125\n",
       " -0.0125"
      ]
     },
     "execution_count": 5,
     "metadata": {},
     "output_type": "execute_result"
    }
   ],
   "source": [
    "γtrue[findall(!iszero, γtrue)]"
   ]
  },
  {
   "cell_type": "markdown",
   "metadata": {},
   "source": [
    "Support for the phenotypes"
   ]
  },
  {
   "cell_type": "code",
   "execution_count": 6,
   "metadata": {
    "collapsed": false,
    "scrolled": true
   },
   "outputs": [
    {
     "data": {
      "text/plain": [
       "4-element Vector{UnionAll}:\n",
       " Normal\n",
       " Bernoulli\n",
       " Normal\n",
       " Poisson"
      ]
     },
     "execution_count": 6,
     "metadata": {},
     "output_type": "execute_result"
    }
   ],
   "source": [
    "vecdist"
   ]
  },
  {
   "cell_type": "code",
   "execution_count": 7,
   "metadata": {
    "collapsed": false
   },
   "outputs": [
    {
     "data": {
      "text/plain": [
       "4×4 Matrix{Float64}:\n",
       " 1.0    0.625  0.625  0.625\n",
       " 0.625  1.0    0.625  0.625\n",
       " 0.625  0.625  1.0    0.625\n",
       " 0.625  0.625  0.625  1.0"
      ]
     },
     "execution_count": 7,
     "metadata": {},
     "output_type": "execute_result"
    }
   ],
   "source": [
    "# true Γ scaled to correlation matrix\n",
    "cov2cor(Γ, diag(Γ))"
   ]
  },
  {
   "cell_type": "code",
   "execution_count": 8,
   "metadata": {
    "collapsed": false
   },
   "outputs": [
    {
     "data": {
      "text/plain": [
       "4×4 Matrix{Float64}:\n",
       "  1.0          0.152808    -0.0922782   0.00906314\n",
       "  0.152808     1.0         -0.00659099  0.106106\n",
       " -0.0922782   -0.00659099   1.0         0.107757\n",
       "  0.00906314   0.106106     0.107757    1.0"
      ]
     },
     "execution_count": 8,
     "metadata": {},
     "output_type": "execute_result"
    }
   ],
   "source": [
    "# empirical correlation of Y\n",
    "Statistics.cor(Y)"
   ]
  },
  {
   "cell_type": "markdown",
   "metadata": {},
   "source": [
    "## Fit Null model\n",
    "\n",
    "TODO: \n",
    "\n",
    "+ Initializing $\\theta$ and $\\phi$ in a better way"
   ]
  },
  {
   "cell_type": "code",
   "execution_count": 9,
   "metadata": {
    "collapsed": false,
    "scrolled": true
   },
   "outputs": [
    {
     "name": "stdout",
     "output_type": "stream",
     "text": [
      "\n",
      "******************************************************************************\n",
      "This program contains Ipopt, a library for large-scale nonlinear optimization.\n",
      " Ipopt is released as open source code under the Eclipse Public License (EPL).\n",
      "         For more information visit https://github.com/coin-or/Ipopt\n",
      "******************************************************************************\n",
      "\n",
      "This is Ipopt version 3.13.4, running with linear solver mumps.\n",
      "NOTE: Other linear solvers might be more efficient (see Ipopt documentation).\n",
      "\n",
      "Starting derivative checker for first derivatives.\n",
      "\n",
      "* grad_f[          1] = -1.4619264826688592e+05    ~ -3.8115290395940460e+03  [ 3.736e+01]\n",
      "* grad_f[          2] = -1.6032031101563740e+04    ~ -4.6675559133291245e+02  [ 3.335e+01]\n",
      "* grad_f[          3] =  1.0512994052044081e+05    ~  3.0607164726381002e+03  [ 3.335e+01]\n",
      "* grad_f[          4] = -1.8210990502861272e+01    ~ -1.3987262140223324e+01  [ 3.020e-01]\n",
      "* grad_f[          5] = -1.2086263541593614e+02    ~ -9.3015278206198886e+01  [ 2.994e-01]\n",
      "* grad_f[          6] = -5.7700505366463074e+02    ~ -4.4395302704790618e+02  [ 2.997e-01]\n",
      "* grad_f[          7] = -3.0081095167334155e+04    ~ -1.7717625174157572e+04  [ 6.978e-01]\n",
      "* grad_f[          8] =  4.7614027991110859e+04    ~  2.8151592479801617e+04  [ 6.913e-01]\n",
      "* grad_f[          9] =  2.4510054824539540e+04    ~  1.4504065784184788e+04  [ 6.899e-01]\n",
      "* grad_f[         14] = -3.3387540136643827e+02    ~ -3.3382093533873558e+02  [ 1.632e-04]\n",
      "* grad_f[         15] =  3.8546847390409053e+05    ~ -2.9316525979743865e+03  [ 1.325e+02]\n",
      "* grad_f[         16] =  3.8546847390409053e+05    ~ -1.3568954719525125e+05  [ 3.841e+00]\n",
      "\n",
      "Derivative checker detected 12 error(s).\n",
      "\n",
      "Number of nonzeros in equality constraint Jacobian...:        0\n",
      "Number of nonzeros in inequality constraint Jacobian.:        0\n",
      "Number of nonzeros in Lagrangian Hessian.............:        0\n",
      "\n",
      "Total number of variables............................:       16\n",
      "                     variables with only lower bounds:        4\n",
      "                variables with lower and upper bounds:        0\n",
      "                     variables with only upper bounds:        0\n",
      "Total number of equality constraints.................:        0\n",
      "Total number of inequality constraints...............:        0\n",
      "        inequality constraints with only lower bounds:        0\n",
      "   inequality constraints with lower and upper bounds:        0\n",
      "        inequality constraints with only upper bounds:        0\n",
      "\n",
      "iter    objective    inf_pr   inf_du lg(mu)  ||d||  lg(rg) alpha_du alpha_pr  ls\n",
      "   0  2.1778666e+04 0.00e+00 1.00e+02   0.0 0.00e+00    -  0.00e+00 0.00e+00   0\n",
      "   1  2.1787993e+04 0.00e+00 9.97e+01  -1.1 1.00e+02    -  3.81e-02 3.14e-05h 11\n",
      "   2  2.1790489e+04 0.00e+00 9.96e+01  -2.8 9.38e-01    -  1.00e+00 9.77e-04h 11\n",
      "   3  2.1792664e+04 0.00e+00 9.94e+01  -2.8 9.21e-01    -  1.00e+00 9.77e-04h 11\n",
      "   4  2.1793831e+04 0.00e+00 9.94e+01  -2.8 9.21e-01    -  1.00e+00 6.38e-04h 11\n",
      "   5  2.1729285e+04 0.00e+00 5.28e+01  -2.8 1.30e+00    -  1.00e+00 3.82e-01f  1\n",
      "   6  2.1727197e+04 0.00e+00 3.72e+01  -3.9 1.98e+00    -  1.00e+00 6.31e-04f  1\n",
      "   7  2.1725715e+04 0.00e+00 3.40e+01  -3.8 1.74e-01    -  1.00e+00 1.72e-01f  2\n",
      "   8  2.1725805e+04 0.00e+00 3.40e+01  -3.6 1.47e-01    -  1.00e+00 4.38e-04h 11\n",
      "   9  2.1726252e+04 0.00e+00 3.41e+01  -1.3 2.35e-01    -  1.00e+00 7.08e-04h 11\n",
      "iter    objective    inf_pr   inf_du lg(mu)  ||d||  lg(rg) alpha_du alpha_pr  ls\n",
      "  10  2.1727190e+04 0.00e+00 3.40e+01  -1.3 5.27e-01    -  1.00e+00 6.33e-04h 11\n",
      "  11  2.1729435e+04 0.00e+00 3.40e+01  -1.3 7.95e-01    -  1.00e+00 9.77e-04h 11\n",
      "  12  2.1732493e+04 0.00e+00 3.40e+01  -1.3 1.07e+00    -  1.00e+00 9.77e-04h 11\n",
      "  13  2.1736307e+04 0.00e+00 3.40e+01  -1.3 1.27e+00    -  3.79e-01 9.77e-04h 11\n",
      "  14  2.1736491e+04 0.00e+00 3.42e+01  -1.3 3.64e+00    -  5.89e-01 1.94e-05h 11\n",
      "  15  2.1739197e+04 0.00e+00 3.39e+01  -1.3 8.72e-01    -  1.30e-01 9.77e-04h 11\n",
      "  16  2.1797448e+04 0.00e+00 3.58e+01  -1.3 2.03e+01    -  1.22e-01 9.77e-04h 11\n",
      "  17  2.1803168e+04 0.00e+00 3.39e+01  -1.3 1.91e+00    -  2.05e-01 9.77e-04h 11\n",
      "  18  2.1814045e+04 0.00e+00 4.45e+01  -1.3 3.80e+00    -  1.00e+00 9.77e-04h 11\n",
      "  19  2.5428550e+04 0.00e+00 3.01e+01  -1.3 1.59e+00    -  3.82e-01 1.00e+00w  1\n",
      "iter    objective    inf_pr   inf_du lg(mu)  ||d||  lg(rg) alpha_du alpha_pr  ls\n",
      "  20  2.9363595e+04 0.00e+00 1.93e+02  -1.3 3.32e+00    -  5.80e-01 1.00e+00w  1\n",
      "  21  3.0127025e+04 0.00e+00 9.20e+01  -1.3 2.63e+00    -  8.07e-03 1.00e+00w  1\n",
      "  22  2.1816341e+04 0.00e+00 3.84e+01  -1.3 5.34e+00    -  3.82e-01 4.88e-04h 11\n",
      "  23  2.1824205e+04 0.00e+00 5.45e+01  -1.3 2.67e+00    -  3.26e-01 9.77e-04h 11\n",
      "  24  2.1836151e+04 0.00e+00 5.46e+01  -1.3 3.83e+00    -  7.67e-03 9.77e-04h 11\n",
      "  25  2.1838764e+04 0.00e+00 4.06e+01  -1.3 1.45e+01    -  1.18e-01 4.23e-05h 11\n",
      "  26  2.1840195e+04 0.00e+00 5.44e+01  -1.3 4.76e+00    -  3.30e-01 1.06e-04h 11\n",
      "  27  2.1844404e+04 0.00e+00 4.59e+01  -1.3 1.26e+00    -  2.65e-01 9.77e-04h 11\n",
      "  28  2.2022020e+04 0.00e+00 4.45e+01  -1.3 6.10e+01    -  3.23e-03 9.77e-04h 11\n",
      "  29  2.2022222e+04 0.00e+00 5.27e+01  -1.3 4.51e+00    -  1.23e-01 1.89e-05h 11\n",
      "iter    objective    inf_pr   inf_du lg(mu)  ||d||  lg(rg) alpha_du alpha_pr  ls\n",
      "  30  2.2027838e+04 0.00e+00 5.08e+01  -1.3 1.43e+00    -  1.26e-01 9.77e-04h 11\n",
      "  31  2.2030942e+04 0.00e+00 5.26e+01  -1.3 9.99e-01    -  8.91e-01 9.77e-04h 11\n",
      "  32  2.2084390e+04 0.00e+00 5.18e+01  -1.3 5.48e+01    -  7.01e-03 3.66e-04w  1\n",
      "  33  3.4750771e+04 0.00e+00 1.30e+03  -1.3 9.77e+00    -  4.26e-02 1.00e+00w  1\n",
      "  34  3.5034241e+04 0.00e+00 1.26e+03  -1.3 7.02e+00    -  1.00e+00 1.75e-02w  1\n",
      "  35  2.2084390e+04 0.00e+00 5.24e+01  -1.3 6.05e+00    -  3.66e-04 3.66e-04S 10\n",
      "  36  2.2093648e+04 0.00e+00 4.54e+01  -1.3 2.07e+00    -  3.35e-02 9.77e-04f 11\n",
      "  37  2.2100854e+04 0.00e+00 3.23e+01  -1.3 2.38e+00    -  8.83e-01 9.77e-04h 11\n",
      "  38  2.2139991e+04 0.00e+00 3.23e+01  -1.3 4.11e+01    -  4.92e-03 3.26e-04h 11\n",
      "Warning: Cutting back alpha due to evaluation error\n",
      "Warning: Cutting back alpha due to evaluation error\n",
      "  39  2.2657987e+04 0.00e+00 3.26e+01  -1.3 1.76e+02    -  8.29e-04 9.77e-04h 11\n",
      "iter    objective    inf_pr   inf_du lg(mu)  ||d||  lg(rg) alpha_du alpha_pr  ls\n",
      "  40  2.2683331e+04 0.00e+00 4.11e+01  -1.3 9.28e+00    -  5.61e-01 9.77e-04h 11\n",
      "  41  2.2725219e+04 0.00e+00 4.08e+01  -1.3 1.53e+01    -  6.22e-03 9.77e-04h 11\n",
      "  42  2.2848951e+04 0.00e+00 3.80e+01  -1.3 3.60e+01    -  6.18e-03 9.77e-04h 11\n",
      "  43  2.2978287e+04 0.00e+00 3.53e+01  -1.3 3.89e+01    -  1.15e-03 9.77e-04h 11\n",
      "  44  2.3211714e+04 0.00e+00 3.48e+01  -1.3 7.18e+01    -  1.02e-02 9.77e-04h 11\n",
      "  45  2.3211750e+04 0.00e+00 3.48e+01  -1.3 3.47e+01    -  6.16e-02 2.03e-06h 11\n",
      "  46  2.3166137e+04 0.00e+00 3.08e+01  -1.3 1.85e+00    -  1.00e+00 2.08e-02f  1\n",
      "  47  2.3102069e+04 0.00e+00 4.41e+01  -1.3 3.18e+00    -  1.00e+00 4.51e-02f  1\n",
      "  48  2.3102118e+04 0.00e+00 2.51e+01  -1.3 8.86e-02    -  6.92e-01 9.77e-04h 11\n",
      "  49  2.3102350e+04 0.00e+00 4.49e+01  -1.3 1.55e-01    -  1.00e+00 9.77e-04h 11\n",
      "iter    objective    inf_pr   inf_du lg(mu)  ||d||  lg(rg) alpha_du alpha_pr  ls\n",
      "  50  2.3103315e+04 0.00e+00 5.33e+01  -1.3 6.21e-01    -  1.00e+00 9.77e-04h 11\n",
      "  51  2.3103996e+04 0.00e+00 3.98e+01  -1.3 3.57e-01    -  4.52e-01 9.77e-04h 11\n",
      "  52  2.3105121e+04 0.00e+00 3.79e+01  -1.3 5.78e-01    -  1.00e+00 9.77e-04h 11\n",
      "  53  2.3108116e+04 0.00e+00 2.43e+01  -1.3 1.48e+00    -  2.83e-01 9.77e-04h 11\n",
      "  54  2.3111385e+04 0.00e+00 2.03e+01  -1.3 1.56e+00    -  1.00e+00 9.77e-04h 11\n",
      "  55  2.3121949e+04 0.00e+00 2.02e+01  -1.3 4.88e+00    -  6.32e-02 9.77e-04h 11\n",
      "  56  2.3130792e+04 0.00e+00 2.03e+01  -1.3 4.26e+00    -  5.94e-03 9.77e-04h 11\n",
      "  57  2.1466385e+04 0.00e+00 1.16e+03  -1.3 2.39e+01    -  9.02e-02 5.00e-01f  2\n",
      "  58  2.1468179e+04 0.00e+00 1.16e+03  -6.3 8.93e+00    -  1.00e+00 9.77e-04h 11\n",
      "  59  2.1471117e+04 0.00e+00 1.15e+03  -0.7 1.03e+01    -  4.58e-01 9.77e-04h 11\n",
      "iter    objective    inf_pr   inf_du lg(mu)  ||d||  lg(rg) alpha_du alpha_pr  ls\n",
      "  60  2.1511946e+04 0.00e+00 9.79e+02  -0.7 7.43e+00    -  4.03e-03 6.25e-02f  5\n",
      "  61  2.1512815e+04 0.00e+00 9.79e+02  -0.7 2.30e+00    -  7.93e-01 1.99e-04h 11\n",
      "  62  2.1513314e+04 0.00e+00 9.78e+02  -0.7 3.62e+00    -  1.00e+00 2.72e-04h 11\n",
      "  63  2.1515096e+04 0.00e+00 9.77e+02  -0.7 2.59e+00    -  8.02e-01 9.77e-04h 11\n",
      "  64  2.1516991e+04 0.00e+00 9.76e+02  -0.7 3.12e+00    -  1.00e+00 9.77e-04h 11\n",
      "  65  2.1519016e+04 0.00e+00 9.75e+02  -0.7 3.45e+00    -  9.11e-01 9.77e-04h 11\n",
      "  66  2.1521301e+04 0.00e+00 9.74e+02  -0.7 4.19e+00    -  1.00e+00 9.77e-04h 11\n",
      "  67  1.7467015e+04 0.00e+00 2.69e+03  -0.7 1.23e+01    -  1.00e+00 1.00e+00f  1\n",
      "  68  1.7470129e+04 0.00e+00 2.68e+03  -0.1 1.04e+01    -  3.87e-01 9.77e-04h 11\n",
      "  69  1.7471991e+04 0.00e+00 2.68e+03  -0.6 6.80e+00    -  1.00e+00 9.77e-04h 11\n",
      "iter    objective    inf_pr   inf_du lg(mu)  ||d||  lg(rg) alpha_du alpha_pr  ls\n",
      "  70  1.7473363e+04 0.00e+00 2.68e+03  -0.6 5.79e+00    -  3.60e-01 9.77e-04h 11\n",
      "  71  1.7475928e+04 0.00e+00 2.67e+03  -0.6 8.52e+00    -  1.00e+00 9.77e-04h 11\n",
      "  72  1.7476557e+04 0.00e+00 2.67e+03  -0.6 4.67e+00    -  2.43e-01 9.77e-04h 11\n",
      "  73  1.7478144e+04 0.00e+00 2.67e+03  -0.6 7.03e+00    -  1.00e+00 9.77e-04h 11\n",
      "  74  1.7479791e+04 0.00e+00 2.67e+03  -0.6 5.93e+00    -  4.81e-01 9.77e-04h 11\n",
      "  75  1.7481152e+04 0.00e+00 2.66e+03  -0.6 4.50e+00    -  1.00e+00 9.77e-04h 11\n",
      "  76  1.7482651e+04 0.00e+00 2.66e+03  -0.6 4.54e+00    -  5.25e-01 9.77e-04h 11\n",
      "  77  1.7483922e+04 0.00e+00 2.66e+03  -0.6 4.63e+00    -  1.00e+00 9.77e-04h 11\n",
      "  78  1.7485342e+04 0.00e+00 2.66e+03  -0.6 4.75e+00    -  4.67e-01 9.77e-04h 11\n",
      "  79  3.0597216e+04 0.00e+00 1.04e+02  -0.6 4.74e+00    -  1.00e+00 1.00e+00w  1\n",
      "iter    objective    inf_pr   inf_du lg(mu)  ||d||  lg(rg) alpha_du alpha_pr  ls\n",
      "  80  3.1388350e+04 0.00e+00 2.75e+01  -0.6 2.01e-01    -  8.47e-01 1.00e+00w  1\n",
      "  81  3.1701511e+04 0.00e+00 2.25e+01  -0.6 1.40e-01    -  1.00e+00 1.00e+00w  1\n",
      "  82  1.7485999e+04 0.00e+00 2.65e+03  -0.6 2.92e-01    -  1.00e+00 4.88e-04h 11\n",
      "  83  1.7487322e+04 0.00e+00 2.65e+03  -0.6 5.03e+00    -  1.46e-01 9.77e-04h 11\n",
      "  84  1.7487656e+04 0.00e+00 2.65e+03  -0.6 4.80e+00    -  1.00e+00 1.95e-04h 11\n",
      "  85  1.7488921e+04 0.00e+00 2.65e+03  -0.6 4.82e+00    -  2.69e-01 9.77e-04h 11\n",
      "  86  1.7489471e+04 0.00e+00 2.65e+03  -0.6 4.84e+00    -  1.00e+00 3.67e-04h 11\n",
      "  87  1.7490700e+04 0.00e+00 2.64e+03  -0.6 4.86e+00    -  5.52e-01 9.77e-04h 11\n",
      "  88  1.7491873e+04 0.00e+00 2.64e+03  -0.6 4.89e+00    -  1.00e+00 9.77e-04h 11\n",
      "  89  1.7493054e+04 0.00e+00 2.64e+03  -0.6 4.91e+00    -  4.63e-01 9.77e-04h 11\n",
      "iter    objective    inf_pr   inf_du lg(mu)  ||d||  lg(rg) alpha_du alpha_pr  ls\n",
      "  90  1.7494188e+04 0.00e+00 2.64e+03  -0.6 4.93e+00    -  1.00e+00 9.77e-04h 11\n",
      "  91  1.7495342e+04 0.00e+00 2.63e+03  -0.6 4.96e+00    -  4.29e-01 9.77e-04h 11\n",
      "  92  3.2231444e+04 0.00e+00 3.94e+01  -0.6 4.98e+00    -  1.00e+00 1.00e+00w  1\n",
      "  93  3.2088206e+04 0.00e+00 2.87e+01  -0.6 7.01e-02    -  8.49e-01 1.00e+00w  1\n",
      "  94  3.1643549e+04 0.00e+00 2.66e+01  -0.6 4.12e-01    -  1.00e+00 1.00e+00w  1\n",
      "  95  1.7495896e+04 0.00e+00 2.63e+03  -0.6 6.38e-01    -  1.00e+00 4.88e-04h 11\n",
      "  96  1.7497019e+04 0.00e+00 2.63e+03  -0.6 4.99e+00    -  1.33e-01 9.77e-04h 11\n",
      "  97  1.7497123e+04 0.00e+00 2.63e+03  -0.6 5.09e+00    -  1.00e+00 5.77e-05h 11\n",
      "  98  1.7497825e+04 0.00e+00 2.63e+03  -0.6 4.99e+00    -  5.07e-02 9.77e-04h 11\n",
      "  99  1.7497878e+04 0.00e+00 2.63e+03  -0.6 5.46e+00    -  1.00e+00 1.89e-05h 11\n",
      "iter    objective    inf_pr   inf_du lg(mu)  ||d||  lg(rg) alpha_du alpha_pr  ls\n",
      " 100  1.7499112e+04 0.00e+00 2.62e+03  -0.6 5.32e+00    -  2.59e-02 3.91e-03f  9\n",
      "\n",
      "Number of Iterations....: 100\n",
      "\n",
      "                                   (scaled)                 (unscaled)\n",
      "Objective...............:   3.6674213832422060e+02    1.7499111707166296e+04\n",
      "Dual infeasibility......:   2.6167119264287940e+03    1.2485648503682643e+05\n",
      "Constraint violation....:   0.0000000000000000e+00    0.0000000000000000e+00\n",
      "Complementarity.........:   2.2272708104288846e-01    1.0627429095521482e+01\n",
      "Overall NLP error.......:   2.6167119264287940e+03    1.2485648503682643e+05\n",
      "\n",
      "\n",
      "Number of objective function evaluations             = 1220\n",
      "Number of objective gradient evaluations             = 101\n",
      "Number of equality constraint evaluations            = 0\n",
      "Number of inequality constraint evaluations          = 0\n",
      "Number of equality constraint Jacobian evaluations   = 0\n",
      "Number of inequality constraint Jacobian evaluations = 0\n",
      "Number of Lagrangian Hessian evaluations             = 0\n",
      "Total CPU secs in IPOPT (w/o function evaluations)   =      0.755\n",
      "Total CPU secs in NLP function evaluations           =     27.420\n",
      "\n",
      "EXIT: Maximum Number of Iterations Exceeded.\n",
      " 35.919072 seconds (780.57 M allocations: 12.690 GiB, 3.80% gc time, 17.55% compilation time)\n"
     ]
    },
    {
     "name": "stderr",
     "output_type": "stream",
     "text": [
      "\u001b[33m\u001b[1m┌ \u001b[22m\u001b[39m\u001b[33m\u001b[1mWarning: \u001b[22m\u001b[39mOptimization unsuccesful; got UserLimit\n",
      "\u001b[33m\u001b[1m└ \u001b[22m\u001b[39m\u001b[90m@ QuasiCopula ~/.julia/dev/QuasiCopula/src/gwas/multivariate.jl:169\u001b[39m\n"
     ]
    }
   ],
   "source": [
    "@time optm = QuasiCopula.fit!(qc_model,\n",
    "    Ipopt.IpoptSolver(\n",
    "        print_level = 5, \n",
    "        tol = 10^-6, \n",
    "        max_iter = 100,\n",
    "        accept_after_max_steps = 10,\n",
    "        warm_start_init_point=\"yes\", \n",
    "        limited_memory_max_history = 6, # default value\n",
    "        hessian_approximation = \"limited-memory\",\n",
    "        derivative_test=\"first-order\"\n",
    "    )\n",
    ");"
   ]
  },
  {
   "cell_type": "code",
   "execution_count": 47,
   "metadata": {
    "collapsed": false,
    "scrolled": true
   },
   "outputs": [
    {
     "name": "stdout",
     "output_type": "stream",
     "text": [
      "qc_model.∇vecB = [-284.28469578552006, -125.44809514969327, 121.15030683550968, -121.11887262936025, 143.16125531910865, -14.060036167184283, 168.15203974188233, -37.374456944326155, 122.39890301585082, -117.23766086953869, 204.1255130385365, -41.95412996656297]\n",
      "qc_model.∇θ = [-27.27910399415303, 71.1293047042917]\n",
      "qc_model.∇ϕ = [236.92071240711655, 236.92071240711655]\n"
     ]
    }
   ],
   "source": [
    "@show qc_model.∇vecB\n",
    "@show qc_model.∇θ\n",
    "@show qc_model.∇ϕ;"
   ]
  },
  {
   "cell_type": "code",
   "execution_count": 48,
   "metadata": {
    "collapsed": false
   },
   "outputs": [
    {
     "data": {
      "text/plain": [
       "12×2 Matrix{Float64}:\n",
       " -0.235956   -0.280755\n",
       "  0.207249    0.167603\n",
       " -0.27801    -0.330996\n",
       "  0.0137605  -0.0469412\n",
       "  0.519251    0.483384\n",
       "  0.0162988  -0.269155\n",
       "  0.0892545   0.144784\n",
       " -0.34124    -0.39274\n",
       "  0.0797969   0.0260867\n",
       " -0.241748   -0.234534\n",
       " -0.117669   -0.0969734\n",
       "  0.196619    0.0955352"
      ]
     },
     "execution_count": 48,
     "metadata": {},
     "output_type": "execute_result"
    }
   ],
   "source": [
    "[vec(qc_model.B) vec(Btrue)]"
   ]
  },
  {
   "cell_type": "code",
   "execution_count": 49,
   "metadata": {
    "collapsed": false
   },
   "outputs": [
    {
     "data": {
      "text/plain": [
       "2×2 Matrix{Float64}:\n",
       " 19.8964   0.4\n",
       "  7.29372  0.4"
      ]
     },
     "execution_count": 49,
     "metadata": {},
     "output_type": "execute_result"
    }
   ],
   "source": [
    "[qc_model.θ θtrue]"
   ]
  },
  {
   "cell_type": "code",
   "execution_count": 50,
   "metadata": {
    "collapsed": false
   },
   "outputs": [
    {
     "data": {
      "text/plain": [
       "2×2 Matrix{Float64}:\n",
       " 12.398  10.0\n",
       " 12.398  10.0"
      ]
     },
     "execution_count": 50,
     "metadata": {},
     "output_type": "execute_result"
    }
   ],
   "source": [
    "[qc_model.ϕ [τtrue for _ in 1:length(qc_model.ϕ)]]"
   ]
  },
  {
   "cell_type": "code",
   "execution_count": 24,
   "metadata": {
    "collapsed": false
   },
   "outputs": [
    {
     "data": {
      "text/plain": [
       "false"
      ]
     },
     "execution_count": 24,
     "metadata": {},
     "output_type": "execute_result"
    }
   ],
   "source": [
    "qc_model.penalized"
   ]
  },
  {
   "cell_type": "markdown",
   "metadata": {
    "collapsed": true
   },
   "source": [
    "## Autodiff checks\n",
    "\n",
    "First, check if `autodiff_loglikelihood` returns same answer as `QuasiCopula.loglikelihood!`"
   ]
  },
  {
   "cell_type": "code",
   "execution_count": 174,
   "metadata": {
    "collapsed": false
   },
   "outputs": [
    {
     "name": "stdout",
     "output_type": "stream",
     "text": [
      "autodiff_loglikelihood(fullβ) = -20292.905371821944\n",
      "QuasiCopula.loglikelihood!(qc_model, false, false) = -20292.905371823275\n"
     ]
    }
   ],
   "source": [
    "# define autodiff likelihood, gradient, and Hessians\n",
    "autodiff_loglikelihood(vecB) = QuasiCopula.loglikelihood(vecB, qc_model, z)\n",
    "∇logl = x -> ForwardDiff.gradient(autodiff_loglikelihood, x)\n",
    "∇²logl = x -> ForwardDiff.hessian(autodiff_loglikelihood, x)\n",
    "∇logl! = (grad, x) -> ForwardDiff.gradient!(grad, autodiff_loglikelihood, x)\n",
    "∇²logl! = (hess, x) -> ForwardDiff.hessian!(hess, autodiff_loglikelihood, x)\n",
    "\n",
    "# sample i loglikelihood\n",
    "i = 1\n",
    "z = convert(Vector{Float64}, @view(G[:, i]), center=true, scale=false)\n",
    "fullβ = [vec(qc_model.B); qc_model.θ; zeros(d)]\n",
    "# fullβ = [qc_model.β; qc_model.θ; qc_model.τ; zeros(d)] # normal\n",
    "\n",
    "@show autodiff_loglikelihood(fullβ)\n",
    "@show QuasiCopula.loglikelihood!(qc_model, false, false);"
   ]
  },
  {
   "cell_type": "markdown",
   "metadata": {},
   "source": [
    "Lets compute a few Hessians"
   ]
  },
  {
   "cell_type": "code",
   "execution_count": 175,
   "metadata": {
    "collapsed": false
   },
   "outputs": [
    {
     "data": {
      "text/plain": [
       "18×18 Matrix{Float64}:\n",
       " -632.823      -21.4738       30.4495   …    0.842171      2.619\n",
       "  -21.4738    -604.98        -28.9684       -0.0413417     0.459265\n",
       "   30.4495     -28.9684     -599.192         1.65776       1.17729\n",
       "  107.556       41.3065      -28.293         1.4076        5.22071\n",
       "   41.3065     113.606        -2.29752       0.762857      4.33628\n",
       "  -28.293       -2.29752      99.0345   …    1.41269       0.356133\n",
       "   60.9983       4.09349       2.22575      -0.829679      2.22235\n",
       "    4.09349     59.3865       -0.81889       3.76708       0.186459\n",
       "    2.22575     -0.81889      60.6271       -8.31407       1.00221\n",
       "   93.7865       2.35496      -1.04703       2.22235       7.0849\n",
       "    2.35496     92.9894        1.46748  …    0.186459     21.652\n",
       "   -1.04703      1.46748      90.8038        1.00221     -34.7914\n",
       "  -42.9543      11.3325      -31.0218       -6.19715     -11.582\n",
       "    7.12722     40.8786      -34.154        -2.40134      -7.22885\n",
       "    0.442875     2.08455      -7.08072       7.86541      13.7719\n",
       "    0.85644      0.865586      3.31319  …   16.0444       24.4617\n",
       "    0.842171    -0.0413417     1.65776     -66.8323       15.1655\n",
       "    2.619        0.459265      1.17729      15.1655     -301.143"
      ]
     },
     "execution_count": 175,
     "metadata": {},
     "output_type": "execute_result"
    }
   ],
   "source": [
    "i = 1\n",
    "z = convert(Vector{Float64}, @view(G[:, i]), center=true, scale=false)\n",
    "Hfull = ∇²logl(fullβ) # snp 1"
   ]
  },
  {
   "cell_type": "code",
   "execution_count": 176,
   "metadata": {
    "collapsed": false
   },
   "outputs": [
    {
     "data": {
      "text/plain": [
       "18×18 Matrix{Float64}:\n",
       " -632.823      -21.4738     30.4495    …     0.814884      3.03618\n",
       "  -21.4738    -604.98      -28.9684         -1.46681      -3.52215\n",
       "   30.4495     -28.9684   -599.192           1.36703       2.85973\n",
       "  107.556       41.3065    -28.293           0.828104      3.73736\n",
       "   41.3065     113.606      -2.29752        -2.56424      -3.60895\n",
       "  -28.293       -2.29752    99.0345    …    -3.35384      -2.05564\n",
       "   60.9983       4.09349     2.22575         0.722096      3.42676\n",
       "    4.09349     59.3865     -0.81889        -8.67499      -3.75257\n",
       "    2.22575     -0.81889    60.6271          9.8269        1.92115\n",
       "   93.7865       2.35496    -1.04703         3.42676      16.0439\n",
       "    2.35496     92.9894      1.46748   …    -3.75257     -35.5145\n",
       "   -1.04703      1.46748    90.8038          1.92115      54.5368\n",
       "  -42.9543      11.3325    -31.0218          6.20733      22.9274\n",
       "    7.12722     40.8786    -34.154          -3.13267      -8.8422\n",
       "    2.444       -7.91854     5.69671        19.5323       30.5513\n",
       "   -0.282073    -1.75446    -0.037968  …    37.2424       44.0524\n",
       "    0.814884    -1.46681     1.36703      -212.017        32.5491\n",
       "    3.03618     -3.52215     2.85973        32.5491    -1006.69"
      ]
     },
     "execution_count": 176,
     "metadata": {},
     "output_type": "execute_result"
    }
   ],
   "source": [
    "i = 10\n",
    "z = convert(Vector{Float64}, @view(G[:, i]), center=true, scale=false)\n",
    "Hfull = ∇²logl(fullβ) # snp 10"
   ]
  },
  {
   "cell_type": "markdown",
   "metadata": {},
   "source": [
    "Check gradient"
   ]
  },
  {
   "cell_type": "code",
   "execution_count": 177,
   "metadata": {
    "collapsed": false
   },
   "outputs": [
    {
     "data": {
      "text/plain": [
       "18-element Vector{Float64}:\n",
       " -3.288564031528329e-5\n",
       " -9.271545333505715e-6\n",
       "  2.5569035333017354e-5\n",
       "  2.2455003598265133e-5\n",
       "  4.5558109538768043e-5\n",
       " -1.0415080668513266e-5\n",
       "  2.4175350741728607e-5\n",
       "  1.0144715449772468e-5\n",
       "  2.7534773054116446e-5\n",
       " -9.233717258694263e-6\n",
       "  9.01368769642974e-6\n",
       "  2.3738441629062024e-5\n",
       "  9.260687237166998e-6\n",
       "  1.752613043420892e-5\n",
       "  1.6516151672286656\n",
       " -9.828099348063088\n",
       " -3.374463632442021\n",
       " -1.6034035920967213"
      ]
     },
     "execution_count": 177,
     "metadata": {},
     "output_type": "execute_result"
    }
   ],
   "source": [
    "∇logl(fullβ)"
   ]
  },
  {
   "cell_type": "markdown",
   "metadata": {},
   "source": [
    "## Score test with autodiff"
   ]
  },
  {
   "cell_type": "code",
   "execution_count": 26,
   "metadata": {
    "collapsed": false
   },
   "outputs": [
    {
     "name": "stderr",
     "output_type": "stream",
     "text": [
      "\u001b[32mProgress:   2%|▉                                        |  ETA: 0:05:13\u001b[39m"
     ]
    },
    {
     "ename": "LoadError",
     "evalue": "InterruptException:",
     "output_type": "error",
     "traceback": [
      "InterruptException:",
      "",
      "Stacktrace:",
      "  [1] loglikelihood(par::Vector{ForwardDiff.Dual{ForwardDiff.Tag{QuasiCopula.var\"#autodiff_loglikelihood#165\"{MultivariateCopulaVCModel{Float64}}, Float64}, ForwardDiff.Dual{ForwardDiff.Tag{QuasiCopula.var\"#autodiff_loglikelihood#165\"{MultivariateCopulaVCModel{Float64}}, Float64}, Float64, 9}, 9}}, qc_model::MultivariateCopulaVCModel{Float64}, z::Vector{Float64})",
      "    @ QuasiCopula ~/.julia/dev/QuasiCopula/src/gwas/multivariate_gwas_autodiff.jl:97",
      "  [2] (::QuasiCopula.var\"#autodiff_loglikelihood#165\"{MultivariateCopulaVCModel{Float64}})(vecB::Vector{ForwardDiff.Dual{ForwardDiff.Tag{QuasiCopula.var\"#autodiff_loglikelihood#165\"{MultivariateCopulaVCModel{Float64}}, Float64}, ForwardDiff.Dual{ForwardDiff.Tag{QuasiCopula.var\"#autodiff_loglikelihood#165\"{MultivariateCopulaVCModel{Float64}}, Float64}, Float64, 9}, 9}})",
      "    @ QuasiCopula ~/.julia/dev/QuasiCopula/src/gwas/multivariate_gwas_autodiff.jl:15",
      "  [3] chunk_mode_gradient(f::QuasiCopula.var\"#autodiff_loglikelihood#165\"{MultivariateCopulaVCModel{Float64}}, x::Vector{ForwardDiff.Dual{ForwardDiff.Tag{QuasiCopula.var\"#autodiff_loglikelihood#165\"{MultivariateCopulaVCModel{Float64}}, Float64}, Float64, 9}}, cfg::ForwardDiff.GradientConfig{ForwardDiff.Tag{QuasiCopula.var\"#autodiff_loglikelihood#165\"{MultivariateCopulaVCModel{Float64}}, Float64}, ForwardDiff.Dual{ForwardDiff.Tag{QuasiCopula.var\"#autodiff_loglikelihood#165\"{MultivariateCopulaVCModel{Float64}}, Float64}, Float64, 9}, 9, Vector{ForwardDiff.Dual{ForwardDiff.Tag{QuasiCopula.var\"#autodiff_loglikelihood#165\"{MultivariateCopulaVCModel{Float64}}, Float64}, ForwardDiff.Dual{ForwardDiff.Tag{QuasiCopula.var\"#autodiff_loglikelihood#165\"{MultivariateCopulaVCModel{Float64}}, Float64}, Float64, 9}, 9}}})",
      "    @ ForwardDiff ~/.julia/packages/ForwardDiff/pDtsf/src/gradient.jl:166",
      "  [4] gradient",
      "    @ ~/.julia/packages/ForwardDiff/pDtsf/src/gradient.jl:21 [inlined]",
      "  [5] #116",
      "    @ ~/.julia/packages/ForwardDiff/pDtsf/src/hessian.jl:32 [inlined]",
      "  [6] chunk_mode_jacobian!(result::Matrix{Float64}, f::ForwardDiff.var\"#116#117\"{QuasiCopula.var\"#autodiff_loglikelihood#165\"{MultivariateCopulaVCModel{Float64}}, ForwardDiff.HessianConfig{ForwardDiff.Tag{QuasiCopula.var\"#autodiff_loglikelihood#165\"{MultivariateCopulaVCModel{Float64}}, Float64}, Float64, 9, Vector{ForwardDiff.Dual{ForwardDiff.Tag{QuasiCopula.var\"#autodiff_loglikelihood#165\"{MultivariateCopulaVCModel{Float64}}, Float64}, ForwardDiff.Dual{ForwardDiff.Tag{QuasiCopula.var\"#autodiff_loglikelihood#165\"{MultivariateCopulaVCModel{Float64}}, Float64}, Float64, 9}, 9}}, Vector{ForwardDiff.Dual{ForwardDiff.Tag{QuasiCopula.var\"#autodiff_loglikelihood#165\"{MultivariateCopulaVCModel{Float64}}, Float64}, Float64, 9}}}}, x::Vector{Float64}, cfg::ForwardDiff.JacobianConfig{ForwardDiff.Tag{QuasiCopula.var\"#autodiff_loglikelihood#165\"{MultivariateCopulaVCModel{Float64}}, Float64}, Float64, 9, Vector{ForwardDiff.Dual{ForwardDiff.Tag{QuasiCopula.var\"#autodiff_loglikelihood#165\"{MultivariateCopulaVCModel{Float64}}, Float64}, Float64, 9}}})",
      "    @ ForwardDiff ~/.julia/packages/ForwardDiff/pDtsf/src/jacobian.jl:245",
      "  [7] jacobian!(result::Matrix{Float64}, f::Function, x::Vector{Float64}, cfg::ForwardDiff.JacobianConfig{ForwardDiff.Tag{QuasiCopula.var\"#autodiff_loglikelihood#165\"{MultivariateCopulaVCModel{Float64}}, Float64}, Float64, 9, Vector{ForwardDiff.Dual{ForwardDiff.Tag{QuasiCopula.var\"#autodiff_loglikelihood#165\"{MultivariateCopulaVCModel{Float64}}, Float64}, Float64, 9}}}, ::Val{false})",
      "    @ ForwardDiff ~/.julia/packages/ForwardDiff/pDtsf/src/jacobian.jl:60",
      "  [8] hessian!(result::Matrix{Float64}, f::Function, x::Vector{Float64}, cfg::ForwardDiff.HessianConfig{ForwardDiff.Tag{QuasiCopula.var\"#autodiff_loglikelihood#165\"{MultivariateCopulaVCModel{Float64}}, Float64}, Float64, 9, Vector{ForwardDiff.Dual{ForwardDiff.Tag{QuasiCopula.var\"#autodiff_loglikelihood#165\"{MultivariateCopulaVCModel{Float64}}, Float64}, ForwardDiff.Dual{ForwardDiff.Tag{QuasiCopula.var\"#autodiff_loglikelihood#165\"{MultivariateCopulaVCModel{Float64}}, Float64}, Float64, 9}, 9}}, Vector{ForwardDiff.Dual{ForwardDiff.Tag{QuasiCopula.var\"#autodiff_loglikelihood#165\"{MultivariateCopulaVCModel{Float64}}, Float64}, Float64, 9}}}, ::Val{true})",
      "    @ ForwardDiff ~/.julia/packages/ForwardDiff/pDtsf/src/hessian.jl:33",
      "  [9] hessian!(result::Matrix{Float64}, f::Function, x::Vector{Float64}, cfg::ForwardDiff.HessianConfig{ForwardDiff.Tag{QuasiCopula.var\"#autodiff_loglikelihood#165\"{MultivariateCopulaVCModel{Float64}}, Float64}, Float64, 9, Vector{ForwardDiff.Dual{ForwardDiff.Tag{QuasiCopula.var\"#autodiff_loglikelihood#165\"{MultivariateCopulaVCModel{Float64}}, Float64}, ForwardDiff.Dual{ForwardDiff.Tag{QuasiCopula.var\"#autodiff_loglikelihood#165\"{MultivariateCopulaVCModel{Float64}}, Float64}, Float64, 9}, 9}}, Vector{ForwardDiff.Dual{ForwardDiff.Tag{QuasiCopula.var\"#autodiff_loglikelihood#165\"{MultivariateCopulaVCModel{Float64}}, Float64}, Float64, 9}}}) (repeats 2 times)",
      "    @ ForwardDiff ~/.julia/packages/ForwardDiff/pDtsf/src/hessian.jl:31",
      " [10] (::QuasiCopula.var\"#163#169\"{QuasiCopula.var\"#autodiff_loglikelihood#165\"{MultivariateCopulaVCModel{Float64}}})(hess::Matrix{Float64}, x::Vector{Float64})",
      "    @ QuasiCopula ~/.julia/dev/QuasiCopula/src/gwas/multivariate_gwas_autodiff.jl:19",
      " [11] macro expansion",
      "    @ ~/.julia/dev/QuasiCopula/src/gwas/multivariate_gwas_autodiff.jl:37 [inlined]",
      " [12] macro expansion",
      "    @ ~/.julia/packages/ProgressMeter/sN2xr/src/ProgressMeter.jl:938 [inlined]",
      " [13] multivariateGWAS_autodiff(qc_model::MultivariateCopulaVCModel{Float64}, G::SnpArray)",
      "    @ QuasiCopula ~/.julia/dev/QuasiCopula/src/gwas/multivariate_gwas_autodiff.jl:32"
     ]
    }
   ],
   "source": [
    "pvals = multivariateGWAS_autodiff(qc_model, G)"
   ]
  },
  {
   "cell_type": "markdown",
   "metadata": {},
   "source": [
    "Check QQ plots"
   ]
  },
  {
   "cell_type": "code",
   "execution_count": 179,
   "metadata": {
    "collapsed": false
   },
   "outputs": [
    {
     "data": {
      "image/png": "[encoded data removed]"
     },
     "metadata": {},
     "output_type": "display_data"
    }
   ],
   "source": [
    "# only Poisson/Bernoulli traits\n",
    "qq(pvals, dpi=100, titles=\"4 traits, $k causal SNPs\")\n",
    "display(\"image/png\", read(\"qqplot.png\"))"
   ]
  },
  {
   "cell_type": "code",
   "execution_count": 242,
   "metadata": {
    "collapsed": false
   },
   "outputs": [
    {
     "data": {
      "image/png": "[encoded data removed]"
     },
     "metadata": {},
     "output_type": "display_data"
    }
   ],
   "source": [
    "# only Poisson/Bernoulli traits\n",
    "qq(pvals, dpi=100, titles=\"4 traits, $k causal SNPs\")\n",
    "display(\"image/png\", read(\"qqplot.png\"))"
   ]
  },
  {
   "cell_type": "code",
   "execution_count": null,
   "metadata": {
    "collapsed": true
   },
   "outputs": [],
   "source": []
  },
  {
   "cell_type": "code",
   "execution_count": null,
   "metadata": {
    "collapsed": true
   },
   "outputs": [],
   "source": []
  },
  {
   "cell_type": "code",
   "execution_count": null,
   "metadata": {
    "collapsed": true
   },
   "outputs": [],
   "source": []
  },
  {
   "cell_type": "code",
   "execution_count": null,
   "metadata": {
    "collapsed": true
   },
   "outputs": [],
   "source": []
  },
  {
   "cell_type": "code",
   "execution_count": null,
   "metadata": {
    "collapsed": true
   },
   "outputs": [],
   "source": []
  },
  {
   "cell_type": "code",
   "execution_count": 25,
   "metadata": {
    "collapsed": false
   },
   "outputs": [
    {
     "data": {
      "image/png": "[encoded data removed]"
     },
     "metadata": {},
     "output_type": "display_data"
    }
   ],
   "source": [
    "# includes gaussian traits\n",
    "qq(pvals, dpi=100, titles=\"4 traits, $k causal SNPs\")\n",
    "display(\"image/png\", read(\"qqplot.png\"))"
   ]
  },
  {
   "cell_type": "code",
   "execution_count": 130,
   "metadata": {
    "collapsed": false
   },
   "outputs": [
    {
     "data": {
      "image/png": "[encoded data removed]"
     },
     "metadata": {},
     "output_type": "display_data"
    }
   ],
   "source": [
    "# includes gaussian traits\n",
    "qq(pvals, dpi=100, titles=\"4 traits, $k causal SNPs\")\n",
    "display(\"image/png\", read(\"qqplot.png\"))"
   ]
  },
  {
   "cell_type": "code",
   "execution_count": null,
   "metadata": {
    "collapsed": true
   },
   "outputs": [],
   "source": []
  }
 ],
 "metadata": {
  "@webio": {
   "lastCommId": null,
   "lastKernelId": null
  },
  "kernelspec": {
   "display_name": "Julia 1.10.3",
   "language": "julia",
   "name": "julia-1.10"
  },
  "language_info": {
   "file_extension": ".jl",
   "mimetype": "application/julia",
   "name": "julia",
   "version": "1.10.3"
  },
  "toc": {
   "base_numbering": 1,
   "nav_menu": {},
   "number_sections": true,
   "sideBar": true,
   "skip_h1_title": false,
   "title_cell": "Table of Contents",
   "title_sidebar": "Contents",
   "toc_cell": false,
   "toc_position": {},
   "toc_section_display": true,
   "toc_window_display": false
  }
 },
 "nbformat": 4,
 "nbformat_minor": 2
}
