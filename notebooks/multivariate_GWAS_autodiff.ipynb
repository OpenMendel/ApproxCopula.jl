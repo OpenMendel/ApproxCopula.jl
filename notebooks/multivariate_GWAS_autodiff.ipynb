{
 "cells": [
  {
   "cell_type": "markdown",
   "metadata": {},
   "source": [
    "# Multivariate QuasiCopula GWAS with Mixed Marginals\n",
    "\n",
    "Here we assume each sample have $d$ observations, and we estimate a general covariance matrix \n",
    "\n",
    "$$\\mathbf{\\Gamma} = \\mathbf{L}\\mathbf{L}^t$$"
   ]
  },
  {
   "cell_type": "code",
   "execution_count": 1,
   "metadata": {
    "collapsed": false
   },
   "outputs": [
    {
     "name": "stderr",
     "output_type": "stream",
     "text": [
      "\u001b[32m\u001b[1mPrecompiling\u001b[22m\u001b[39m QuasiCopula\n",
      "\u001b[32m  ✓ \u001b[39mQuasiCopula\n",
      "  1 dependency successfully precompiled in 11 seconds. 164 already precompiled.\n"
     ]
    },
    {
     "name": "stdout",
     "output_type": "stream",
     "text": [
      "Threads.nthreads() = 1\n"
     ]
    },
    {
     "data": {
      "text/plain": [
       "1000×4 Matrix{Float64}:\n",
       " 1.0   0.395027   0.0  -0.0542791\n",
       " 0.0   0.702897   4.0   0.49638\n",
       " 0.0  -0.0850792  0.0  -0.331344\n",
       " 1.0   1.02708    5.0  -0.871566\n",
       " 0.0   0.0280367  4.0  -0.230408\n",
       " 1.0  -0.112102   3.0   0.0297621\n",
       " 0.0  -0.0820694  0.0   0.112765\n",
       " 1.0   0.537302   2.0  -0.431652\n",
       " 1.0  -0.0539401  1.0   0.317129\n",
       " 1.0   0.210774   2.0  -0.615376\n",
       " 0.0   0.060039   0.0   0.0121303\n",
       " 0.0   0.855639   0.0  -0.254774\n",
       " 0.0   0.594062   0.0  -0.193766\n",
       " ⋮                     \n",
       " 1.0   1.092      3.0   0.069619\n",
       " 0.0  -0.140436   0.0   0.599763\n",
       " 1.0   0.709746   0.0   0.307254\n",
       " 1.0   0.507901   2.0   0.260604\n",
       " 1.0   0.84272    1.0   0.729014\n",
       " 1.0   0.813961   0.0  -0.0767162\n",
       " 0.0   0.51958    1.0  -0.45693\n",
       " 1.0   0.444777   2.0   0.241009\n",
       " 0.0   1.20436    2.0   0.00770168\n",
       " 0.0   0.770633   1.0  -0.173692\n",
       " 0.0   0.084987   3.0   0.155058\n",
       " 0.0   0.71693    1.0  -0.430272"
      ]
     },
     "execution_count": 1,
     "metadata": {},
     "output_type": "execute_result"
    }
   ],
   "source": [
    "using Revise\n",
    "using QuasiCopula\n",
    "using ToeplitzMatrices\n",
    "using Distributions\n",
    "using GLM\n",
    "using StatsBase\n",
    "\n",
    "@show Threads.nthreads()\n",
    "\n",
    "k = 0 # number of causal SNPs]\n",
    "d = 4 # number of phenotypes\n",
    "Γ = Matrix(SymmetricToeplitz(0.75.^(0:(d-1))))\n",
    "σ2true = 0.1\n",
    "\n",
    "qc_model, G, Btrue, Γtrue, γtrue, τtrue = simulate_multivariate_traits(\n",
    "    n = 1000, # sample size\n",
    "    p = 3, # number of fixed effects, including intercept\n",
    "    d = d, # number of phenotypes\n",
    "    q = 1000, # number of SNPs\n",
    "    k = k, # number of causal SNPs\n",
    "    Γ = Γ,\n",
    "    seed = 2024,\n",
    "    σ2true = σ2true,\n",
    "    possible_distributions = [Bernoulli, Poisson, Normal],\n",
    "    use_VC_model=false\n",
    ");\n",
    "\n",
    "qc_model.data.Y"
   ]
  },
  {
   "cell_type": "code",
   "execution_count": 2,
   "metadata": {
    "collapsed": false
   },
   "outputs": [
    {
     "name": "stdout",
     "output_type": "stream",
     "text": [
      "\n",
      "******************************************************************************\n",
      "This program contains Ipopt, a library for large-scale nonlinear optimization.\n",
      " Ipopt is released as open source code under the Eclipse Public License (EPL).\n",
      "         For more information visit https://github.com/coin-or/Ipopt\n",
      "******************************************************************************\n",
      "\n",
      "This is Ipopt version 3.14.14, running with linear solver MUMPS 5.6.2.\n",
      "\n",
      "Number of nonzeros in equality constraint Jacobian...:        0\n",
      "Number of nonzeros in inequality constraint Jacobian.:        0\n",
      "Number of nonzeros in Lagrangian Hessian.............:        0\n",
      "\n",
      "Total number of variables............................:       24\n",
      "                     variables with only lower bounds:        6\n",
      "                variables with lower and upper bounds:        0\n",
      "                     variables with only upper bounds:        0\n",
      "Total number of equality constraints.................:        0\n",
      "Total number of inequality constraints...............:        0\n",
      "        inequality constraints with only lower bounds:        0\n",
      "   inequality constraints with lower and upper bounds:        0\n",
      "        inequality constraints with only upper bounds:        0\n",
      "\n",
      "iter    objective    inf_pr   inf_du lg(mu)  ||d||  lg(rg) alpha_du alpha_pr  ls\n",
      "   0 -4.4834522e+03 0.00e+00 1.00e+02   0.0 0.00e+00    -  0.00e+00 0.00e+00   0\n",
      "   1 -3.8447454e+03 0.00e+00 1.71e+02  -1.8 9.99e+01    -  1.00e+00 4.96e-03f  2\n",
      "   2 -3.3991870e+03 0.00e+00 2.05e+02  -2.2 1.39e+02    -  1.00e+00 1.80e-03f  2\n",
      "   3 -3.3945824e+03 0.00e+00 1.24e+02  -0.1 1.80e+01    -  1.00e+00 4.12e-02f  2\n",
      "   4 -3.3123341e+03 0.00e+00 1.31e+02  -0.1 1.24e+02    -  1.40e-01 2.17e-03f  8\n",
      "   5 -3.2906940e+03 0.00e+00 1.88e+03  -2.2 1.20e-01    -  1.00e+00 1.00e+00f  1\n",
      "   6 -3.1783096e+03 0.00e+00 2.11e+02  -0.1 9.14e-02    -  4.02e-01 1.00e+00f  1\n",
      "   7 -3.1552144e+03 0.00e+00 1.81e+02  -2.2 2.74e-02    -  1.00e+00 1.00e+00f  1\n",
      "   8 -3.1262516e+03 0.00e+00 9.77e+01  -0.5 3.40e-01    -  1.00e+00 1.71e-01f  3\n",
      "   9 -3.1037424e+03 0.00e+00 1.11e+02  -1.8 9.46e-02    -  1.00e+00 1.00e+00f  1\n",
      "iter    objective    inf_pr   inf_du lg(mu)  ||d||  lg(rg) alpha_du alpha_pr  ls\n",
      "  10 -3.0783288e+03 0.00e+00 8.85e+01  -3.0 1.21e-01    -  1.00e+00 1.00e+00f  1\n",
      "  11 -3.0718184e+03 0.00e+00 4.95e+01  -3.3 2.51e-01    -  1.00e+00 2.50e-01f  3\n",
      "  12 -3.0687498e+03 0.00e+00 1.18e+01  -4.8 4.23e-02    -  1.00e+00 1.00e+00f  1\n",
      "  13 -3.0673048e+03 0.00e+00 3.36e+01  -6.3 4.97e-02    -  1.00e+00 1.00e+00f  1\n",
      "  14 -3.0621685e+03 0.00e+00 5.02e+01  -7.6 1.35e-01    -  1.00e+00 1.00e+00f  1\n",
      "  15 -3.0582535e+03 0.00e+00 7.55e+01  -8.8 3.25e-01    -  1.00e+00 2.50e-01f  3\n",
      "  16 -3.0580823e+03 0.00e+00 1.22e+02  -7.6 4.36e-01    -  1.00e+00 4.33e-02f  5\n",
      "  17 -3.0555390e+03 0.00e+00 4.09e+01  -8.5 3.17e-02    -  1.00e+00 1.00e+00f  1\n",
      "  18 -3.0547195e+03 0.00e+00 7.20e+01  -9.3 3.74e-02    -  1.00e+00 5.00e-01f  2\n",
      "  19 -3.0534905e+03 0.00e+00 2.45e+01 -10.6 3.88e-02    -  1.00e+00 1.00e+00f  1\n",
      "iter    objective    inf_pr   inf_du lg(mu)  ||d||  lg(rg) alpha_du alpha_pr  ls\n",
      "  20 -3.0531250e+03 0.00e+00 1.76e+01 -11.0 2.86e-02    -  1.00e+00 1.00e+00f  1\n",
      "  21 -3.0530319e+03 0.00e+00 1.94e+01 -11.0 5.36e-02    -  1.00e+00 1.00e+00f  1\n",
      "  22 -3.0525133e+03 0.00e+00 2.01e+01 -11.0 3.10e-02    -  1.00e+00 1.00e+00f  1\n",
      "  23 -3.0522095e+03 0.00e+00 2.65e+01 -11.0 6.02e-02    -  1.00e+00 2.50e-01f  3\n",
      "  24 -3.0519865e+03 0.00e+00 1.07e+01 -11.0 8.04e-02    -  1.00e+00 1.25e-01f  4\n",
      "  25 -3.0515871e+03 0.00e+00 4.66e+00 -11.0 2.13e-02    -  1.00e+00 1.00e+00f  1\n",
      "  26 -3.0515868e+03 0.00e+00 8.26e+00 -11.0 1.72e-02    -  1.00e+00 6.25e-02f  5\n",
      "  27 -3.0515191e+03 0.00e+00 1.79e+00 -11.0 2.98e-03    -  1.00e+00 1.00e+00f  1\n",
      "  28 -3.0514026e+03 0.00e+00 6.18e+00 -11.0 1.07e-02    -  1.00e+00 1.00e+00f  1\n",
      "  29 -3.0513078e+03 0.00e+00 1.17e+01 -11.0 9.17e-02    -  1.00e+00 1.25e-01f  4\n",
      "iter    objective    inf_pr   inf_du lg(mu)  ||d||  lg(rg) alpha_du alpha_pr  ls\n",
      "  30 -3.0512843e+03 0.00e+00 1.81e+01 -11.0 5.73e-02    -  1.00e+00 6.25e-02f  5\n",
      "  31 -3.0512718e+03 0.00e+00 1.74e+01 -11.0 5.41e-02    -  1.00e+00 1.25e-01f  4\n",
      "  32 -3.0511174e+03 0.00e+00 5.27e+00 -11.0 2.06e-02    -  1.00e+00 1.00e+00f  1\n",
      "  33 -3.0510445e+03 0.00e+00 2.46e+00 -11.0 8.91e-02    -  1.00e+00 1.25e-01f  4\n",
      "  34 -3.0510234e+03 0.00e+00 6.47e+00 -11.0 9.43e-03    -  1.00e+00 1.00e+00f  1\n",
      "  35 -3.0510088e+03 0.00e+00 8.08e+00 -11.0 4.66e-02    -  1.00e+00 6.25e-02f  5\n",
      "  36 -3.0509012e+03 0.00e+00 7.72e+00 -11.0 1.73e-02    -  1.00e+00 1.00e+00f  1\n",
      "  37 -3.0508660e+03 0.00e+00 4.96e+00 -11.0 5.90e-02    -  1.00e+00 1.25e-01f  4\n",
      "  38 -3.0508581e+03 0.00e+00 1.03e+01 -11.0 5.41e-02    -  1.00e+00 6.25e-02f  5\n",
      "  39 -3.0508211e+03 0.00e+00 5.12e+00 -11.0 1.16e-01    -  1.00e+00 1.25e-01f  4\n",
      "iter    objective    inf_pr   inf_du lg(mu)  ||d||  lg(rg) alpha_du alpha_pr  ls\n",
      "  40 -3.0507719e+03 0.00e+00 3.38e+00 -11.0 2.98e-01    -  1.00e+00 6.25e-02f  5\n",
      "  41 -3.0507482e+03 0.00e+00 2.49e+00 -11.0 3.50e-01    -  1.00e+00 3.12e-02f  6\n",
      "  42 -3.0507418e+03 0.00e+00 4.31e+00 -11.0 3.32e-01    -  1.00e+00 1.56e-02f  7\n",
      "  43 -3.0507323e+03 0.00e+00 1.52e+00 -11.0 9.46e-02    -  1.00e+00 1.25e-01f  4\n",
      "  44 -3.0507313e+03 0.00e+00 2.89e+00 -11.0 1.52e-01    -  1.00e+00 6.25e-02f  5\n",
      "  45 -3.0507172e+03 0.00e+00 1.10e+01 -11.0 2.89e-02    -  1.00e+00 5.00e-01f  2\n",
      "  46 -3.0506753e+03 0.00e+00 6.24e+00 -11.0 5.33e-01    -  1.00e+00 1.56e-02f  7\n",
      "  47 -3.0532193e+03 0.00e+00 2.97e+01 -11.0 5.07e-02    -  1.00e+00 1.00e+00w  1\n",
      "  48 -3.0506086e+03 0.00e+00 5.38e+00 -11.0 5.97e-02    -  1.00e+00 1.00e+00f  1\n",
      "  49 -3.0505557e+03 0.00e+00 8.55e+00 -11.0 1.46e-01    -  1.00e+00 6.25e-02f  5\n",
      "iter    objective    inf_pr   inf_du lg(mu)  ||d||  lg(rg) alpha_du alpha_pr  ls\n",
      "  50 -3.0505294e+03 0.00e+00 4.89e+00 -11.0 3.11e-01    -  1.00e+00 3.12e-02f  6\n",
      "  51 -3.0505036e+03 0.00e+00 2.66e+00 -11.0 8.41e-02    -  1.00e+00 1.25e-01f  4\n",
      "  52 -3.0504978e+03 0.00e+00 3.56e+00 -11.0 1.47e-01    -  1.00e+00 3.12e-02f  6\n",
      "  53 -3.0504905e+03 0.00e+00 2.89e+00 -11.0 1.66e-01    -  1.00e+00 3.12e-02f  6\n",
      "  54 -3.0504799e+03 0.00e+00 1.74e+00 -11.0 8.97e-02    -  1.00e+00 3.12e-02f  6\n",
      "  55 -3.0504668e+03 0.00e+00 2.83e+00 -11.0 6.92e-03    -  1.00e+00 5.00e-01f  2\n",
      "  56 -3.0504539e+03 0.00e+00 3.33e+00 -11.0 1.25e-02    -  1.00e+00 5.00e-01f  2\n",
      "  57 -3.0504538e+03 0.00e+00 3.16e+00 -11.0 3.85e-02    -  1.00e+00 3.12e-02f  6\n",
      "  58 -3.0504336e+03 0.00e+00 1.41e+00 -11.0 3.36e-03    -  1.00e+00 1.00e+00f  1\n",
      "  59 -3.0504221e+03 0.00e+00 1.23e+00 -11.0 2.47e-02    -  1.00e+00 2.50e-01f  3\n",
      "iter    objective    inf_pr   inf_du lg(mu)  ||d||  lg(rg) alpha_du alpha_pr  ls\n",
      "  60 -3.0504078e+03 0.00e+00 4.13e+00 -11.0 6.94e-02    -  1.00e+00 1.25e-01f  4\n",
      "  61 -3.0504026e+03 0.00e+00 4.39e+00 -10.8 6.81e-01    -  1.00e+00 7.81e-03f  8\n",
      "  62 -3.0503818e+03 0.00e+00 2.37e+00 -11.0 1.74e-01    -  1.00e+00 1.25e-01f  4\n",
      "  63 -3.0503688e+03 0.00e+00 2.04e+00 -11.0 1.35e-01    -  1.00e+00 3.12e-02f  6\n",
      "  64 -3.0503184e+03 0.00e+00 4.57e+00 -11.0 2.39e-02    -  1.00e+00 5.00e-01f  2\n",
      "  65 -3.0502966e+03 0.00e+00 3.20e+00 -11.0 3.58e-01    -  1.00e+00 1.56e-02f  7\n",
      "  66 -3.0502558e+03 0.00e+00 2.18e+00 -11.0 1.00e-01    -  1.00e+00 1.25e-01f  4\n",
      "  67 -3.0501962e+03 0.00e+00 6.20e+00 -11.0 5.70e-02    -  1.00e+00 1.00e+00f  1\n",
      "  68 -3.0501934e+03 0.00e+00 7.60e+00 -10.4 2.01e+00    -  1.00e+00 4.92e-03f  8\n",
      "  69 -3.0501852e+03 0.00e+00 5.43e+00 -11.0 3.60e-01    -  1.00e+00 1.25e-01f  4\n",
      "iter    objective    inf_pr   inf_du lg(mu)  ||d||  lg(rg) alpha_du alpha_pr  ls\n",
      "  70 -3.0501095e+03 0.00e+00 5.97e+00 -10.8 6.08e-01    -  1.00e+00 6.25e-02f  5\n",
      "  71 -3.0500265e+03 0.00e+00 5.90e+00 -10.6 3.01e+00    -  1.00e+00 1.56e-02f  7\n",
      "  72 -3.0500103e+03 0.00e+00 4.62e+00 -10.5 5.04e+00    -  1.00e+00 2.24e-03f  8\n",
      "  73 -3.0499665e+03 0.00e+00 3.17e+00 -10.8 6.76e-01    -  1.00e+00 3.12e-02f  6\n",
      "  74 -3.0499243e+03 0.00e+00 5.88e+00 -11.0 4.45e-01    -  1.00e+00 1.25e-01f  4\n",
      "  75 -3.0499242e+03 0.00e+00 7.54e+00 -10.5 1.83e+00    -  1.00e+00 2.67e-03f  8\n",
      "  76 -3.0498752e+03 0.00e+00 4.84e+00 -10.5 1.16e-01    -  1.00e+00 1.25e-01f  4\n",
      "  77 -3.0498697e+03 0.00e+00 3.88e+00 -11.0 4.75e-02    -  1.00e+00 1.25e-01f  4\n",
      "  78 -3.0498567e+03 0.00e+00 3.95e+00 -11.0 1.84e-02    -  1.00e+00 2.50e-01f  3\n",
      "  79 -3.0498507e+03 0.00e+00 2.77e+00 -11.0 7.87e-03    -  1.00e+00 6.25e-02f  5\n",
      "iter    objective    inf_pr   inf_du lg(mu)  ||d||  lg(rg) alpha_du alpha_pr  ls\n",
      "  80 -3.0498215e+03 0.00e+00 6.49e-01 -11.0 1.68e-02    -  1.00e+00 1.00e+00f  1\n",
      "  81 -3.0498119e+03 0.00e+00 1.88e+00 -11.0 6.53e-02    -  1.00e+00 1.25e-01f  4\n",
      "  82 -3.0498057e+03 0.00e+00 6.53e+00 -11.0 4.63e-02    -  1.00e+00 1.25e-01f  4\n",
      "  83 -3.0498039e+03 0.00e+00 2.85e+00 -11.0 1.44e-01    -  1.00e+00 6.25e-02f  5\n",
      "  84 -3.0497954e+03 0.00e+00 1.89e+00 -11.0 4.98e-02    -  1.00e+00 1.25e-01f  4\n",
      "  85 -3.0497591e+03 0.00e+00 4.67e+00 -11.0 6.18e-02    -  1.00e+00 5.00e-01f  2\n",
      "  86 -3.0497447e+03 0.00e+00 3.02e+00 -10.4 2.29e+00    -  1.00e+00 3.91e-03f  9\n",
      "  87 -3.0497232e+03 0.00e+00 2.39e+00 -11.0 6.54e-01    -  1.00e+00 3.12e-02f  6\n",
      "  88 -3.0497195e+03 0.00e+00 1.83e+00 -11.0 2.43e-01    -  1.00e+00 3.12e-02f  6\n",
      "  89 -3.0497142e+03 0.00e+00 5.56e+00 -11.0 2.92e-01    -  1.00e+00 1.56e-02f  7\n",
      "iter    objective    inf_pr   inf_du lg(mu)  ||d||  lg(rg) alpha_du alpha_pr  ls\n",
      "  90 -3.0496998e+03 0.00e+00 1.95e+00 -11.0 9.65e-01    -  1.00e+00 1.56e-02f  7\n",
      "  91 -3.0496986e+03 0.00e+00 2.13e+00 -11.0 4.72e-02    -  1.00e+00 3.12e-02f  6\n",
      "  92 -3.0496930e+03 0.00e+00 1.24e+00 -11.0 6.85e-02    -  1.00e+00 1.25e-01f  4\n",
      "  93 -3.0496920e+03 0.00e+00 1.31e+00 -11.0 2.11e-01    -  1.00e+00 1.56e-02f  7\n",
      "  94 -3.0496892e+03 0.00e+00 8.08e-01 -11.0 1.67e-01    -  1.00e+00 1.56e-02f  7\n",
      "  95 -3.0496862e+03 0.00e+00 5.95e-01 -11.0 1.37e-02    -  1.00e+00 1.25e-01f  4\n",
      "  96 -3.0496854e+03 0.00e+00 1.33e+00 -11.0 1.02e-02    -  1.00e+00 1.25e-01f  4\n",
      "  97 -3.0496843e+03 0.00e+00 6.43e-01 -11.0 9.84e-02    -  1.00e+00 3.12e-02f  6\n",
      "  98 -3.0496833e+03 0.00e+00 7.56e-01 -11.0 3.87e-02    -  1.00e+00 6.25e-02f  5\n",
      "  99 -3.0496823e+03 0.00e+00 1.09e+00 -11.0 2.97e-02    -  1.00e+00 1.25e-01f  4\n",
      "iter    objective    inf_pr   inf_du lg(mu)  ||d||  lg(rg) alpha_du alpha_pr  ls\n",
      " 100 -3.0496818e+03 0.00e+00 1.29e+00 -11.0 3.00e-01    -  1.00e+00 7.81e-03f  8\n",
      " 101 -3.0496809e+03 0.00e+00 7.91e-01 -11.0 1.26e-01    -  1.00e+00 1.56e-02f  7\n",
      " 102 -3.0496782e+03 0.00e+00 1.06e+00 -11.0 3.03e-02    -  1.00e+00 2.50e-01f  3\n",
      " 103 -3.0496743e+03 0.00e+00 5.08e+00 -11.0 2.71e-01    -  1.00e+00 1.25e-01f  4\n",
      " 104 -3.0496720e+03 0.00e+00 1.56e+00 -10.3 5.28e+00    -  1.00e+00 9.24e-04f  9\n",
      " 105 -3.0496690e+03 0.00e+00 1.78e+00 -11.0 2.47e-01    -  1.00e+00 3.12e-02f  6\n",
      " 106 -3.0496656e+03 0.00e+00 2.02e+00 -11.0 9.24e-02    -  1.00e+00 6.25e-02f  5\n",
      " 107 -3.0496649e+03 0.00e+00 2.25e+00 -11.0 2.83e-01    -  1.00e+00 7.81e-03f  8\n",
      " 108 -3.0496633e+03 0.00e+00 1.08e+00 -11.0 5.98e-02    -  1.00e+00 3.12e-02f  6\n",
      " 109 -3.0496568e+03 0.00e+00 1.39e+00 -11.0 3.72e-02    -  1.00e+00 2.50e-01f  3\n",
      "iter    objective    inf_pr   inf_du lg(mu)  ||d||  lg(rg) alpha_du alpha_pr  ls\n",
      " 110 -3.0496553e+03 0.00e+00 2.72e+00 -11.0 1.35e+00    -  1.00e+00 1.63e-02f  6\n",
      " 111 -3.0496548e+03 0.00e+00 1.68e+00 -10.9 1.68e+00    -  1.00e+00 8.29e-04f 10\n",
      " 112 -3.0496537e+03 0.00e+00 1.30e+00 -11.0 4.31e-02    -  1.00e+00 6.25e-02f  5\n",
      " 113 -3.0496523e+03 0.00e+00 1.29e+00 -11.0 1.80e-02    -  1.00e+00 2.50e-01f  3\n",
      " 114 -3.0496509e+03 0.00e+00 8.26e-01 -11.0 2.99e-02    -  1.00e+00 3.12e-02f  6\n",
      " 115 -3.0496482e+03 0.00e+00 1.02e+00 -11.0 4.96e-02    -  1.00e+00 6.25e-02f  5\n",
      " 116 -3.0496386e+03 0.00e+00 1.22e+00 -11.0 2.00e-01    -  1.00e+00 1.25e-01f  4\n",
      " 117 -3.0496266e+03 0.00e+00 1.95e+00 -10.8 1.54e+00    -  1.00e+00 1.56e-02f  7\n",
      " 118 -3.0496221e+03 0.00e+00 3.40e+00 -11.0 6.59e-01    -  1.00e+00 7.81e-03f  8\n",
      " 119 -3.0496196e+03 0.00e+00 1.27e+00 -11.0 6.26e-01    -  1.00e+00 7.81e-03f  8\n",
      "iter    objective    inf_pr   inf_du lg(mu)  ||d||  lg(rg) alpha_du alpha_pr  ls\n",
      " 120 -3.0496176e+03 0.00e+00 1.88e+00 -11.0 1.47e-01    -  1.00e+00 2.50e-01f  3\n",
      " 121 -3.0496175e+03 0.00e+00 1.94e+00 -11.0 9.00e-01    -  1.00e+00 7.81e-03f  8\n",
      " 122 -3.0496173e+03 0.00e+00 1.70e+00 -11.0 1.39e-01    -  1.00e+00 7.81e-03f  8\n",
      " 123 -3.0496170e+03 0.00e+00 2.24e+00 -11.0 5.58e-02    -  1.00e+00 1.00e+00f  1\n",
      " 124 -3.0496108e+03 0.00e+00 1.72e+00 -11.0 4.78e+00    -  1.00e+00 2.65e-03f  7\n",
      " 125 -3.0496099e+03 0.00e+00 3.07e+00 -11.0 1.86e-01    -  1.00e+00 1.56e-02f  7\n",
      " 126 -3.0496083e+03 0.00e+00 1.65e+00 -11.0 1.30e-01    -  1.00e+00 3.12e-02f  6\n",
      " 127 -3.0496037e+03 0.00e+00 1.92e+00 -11.0 1.70e-01    -  1.00e+00 6.25e-02f  5\n",
      " 128 -3.0495890e+03 0.00e+00 2.75e+00 -11.0 3.75e-01    -  1.00e+00 6.25e-02f  5\n",
      " 129 -3.0495873e+03 0.00e+00 6.40e+00 -10.3 4.79e+00    -  1.00e+00 3.91e-03f  9\n",
      "iter    objective    inf_pr   inf_du lg(mu)  ||d||  lg(rg) alpha_du alpha_pr  ls\n",
      " 130 -3.0495773e+03 0.00e+00 2.18e+00 -10.1 6.08e+00    -  1.00e+00 2.43e-03f  9\n",
      " 131 -3.0495753e+03 0.00e+00 2.24e+00 -11.0 1.47e-01    -  1.00e+00 3.12e-02f  6\n",
      " 132 -3.0495725e+03 0.00e+00 2.55e+00 -11.0 1.67e-01    -  1.00e+00 6.25e-02f  5\n",
      " 133 -3.0495721e+03 0.00e+00 2.38e+00 -10.6 1.78e+00    -  1.00e+00 7.55e-04f 10\n",
      " 134 -3.0495718e+03 0.00e+00 1.89e+00 -11.0 7.53e-02    -  1.00e+00 1.25e-01f  4\n",
      " 135 -3.0495700e+03 0.00e+00 1.65e+00 -11.0 4.64e-01    -  1.00e+00 1.56e-02f  7\n",
      " 136 -3.0495687e+03 0.00e+00 2.96e+00 -10.6 3.27e+00    -  1.00e+00 1.72e-03f  8\n",
      " 137 -3.0495686e+03 0.00e+00 1.09e+00 -11.0 3.01e-01    -  1.00e+00 1.56e-02f  7\n",
      " 138 -3.0495679e+03 0.00e+00 1.01e+00 -11.0 1.26e-02    -  1.00e+00 6.25e-02f  5\n",
      " 139 -3.0495634e+03 0.00e+00 4.53e-01 -11.0 3.87e-02    -  1.00e+00 5.00e-01f  2\n",
      "iter    objective    inf_pr   inf_du lg(mu)  ||d||  lg(rg) alpha_du alpha_pr  ls\n",
      " 140 -3.0495633e+03 0.00e+00 1.21e+00 -10.7 1.34e+00    -  1.00e+00 7.00e-04f 11\n",
      " 141 -3.0495629e+03 0.00e+00 4.19e-01 -11.0 2.51e-02    -  1.00e+00 6.25e-02f  5\n",
      " 142 -3.0495627e+03 0.00e+00 3.00e-01 -11.0 2.79e-03    -  1.00e+00 5.00e-01f  2\n",
      " 143 -3.0495626e+03 0.00e+00 9.78e-01 -11.0 1.41e-02    -  1.00e+00 1.25e-01f  4\n",
      " 144 -3.0495624e+03 0.00e+00 4.50e-01 -11.0 5.69e-02    -  1.00e+00 7.81e-03f  8\n",
      " 145 -3.0495619e+03 0.00e+00 2.42e-01 -11.0 3.78e-03    -  1.00e+00 5.00e-01f  2\n",
      " 146 -3.0495616e+03 0.00e+00 7.53e-02 -11.0 2.46e-02    -  1.00e+00 3.12e-02f  6\n",
      " 147 -3.0495614e+03 0.00e+00 1.56e-01 -11.0 1.18e-02    -  1.00e+00 2.50e-01f  3\n",
      " 148 -3.0495613e+03 0.00e+00 4.08e-01 -11.0 3.45e-01    -  1.00e+00 3.91e-03f  9\n",
      " 149 -3.0495612e+03 0.00e+00 8.56e-02 -11.0 4.66e-01    -  1.00e+00 1.95e-03f 10\n",
      "iter    objective    inf_pr   inf_du lg(mu)  ||d||  lg(rg) alpha_du alpha_pr  ls\n",
      " 150 -3.0495612e+03 0.00e+00 5.54e-01 -11.0 2.64e-02    -  1.00e+00 1.56e-02f  7\n",
      " 151 -3.0495610e+03 0.00e+00 3.09e-01 -11.0 1.16e-02    -  1.00e+00 6.25e-02f  5\n",
      " 152 -3.0495592e+03 0.00e+00 4.50e-01 -11.0 1.28e-02    -  1.00e+00 5.00e-01f  2\n",
      " 153 -3.0495586e+03 0.00e+00 1.40e-01 -11.0 3.20e-01    -  1.00e+00 7.81e-03f  8\n",
      " 154 -3.0495584e+03 0.00e+00 1.63e-01 -11.0 4.02e-02    -  1.00e+00 3.12e-02f  6\n",
      " 155 -3.0495583e+03 0.00e+00 4.82e-01 -11.0 1.44e-02    -  1.00e+00 1.25e-01f  4\n",
      " 156 -3.0495583e+03 0.00e+00 3.14e-01 -11.0 1.23e-01    -  1.00e+00 3.91e-03f  9\n",
      " 157 -3.0495583e+03 0.00e+00 3.85e-01 -11.0 1.76e-02    -  1.00e+00 3.12e-02f  6\n",
      " 158 -3.0495582e+03 0.00e+00 1.82e-01 -11.0 2.76e-02    -  1.00e+00 1.56e-02f  7\n",
      " 159 -3.0495581e+03 0.00e+00 3.10e-01 -11.0 8.31e-03    -  1.00e+00 2.50e-01f  3\n",
      "iter    objective    inf_pr   inf_du lg(mu)  ||d||  lg(rg) alpha_du alpha_pr  ls\n",
      " 160 -3.0495576e+03 0.00e+00 1.45e-01 -11.0 2.65e-02    -  1.00e+00 6.25e-02f  5\n",
      " 161 -3.0495575e+03 0.00e+00 1.05e-01 -11.0 1.01e-02    -  1.00e+00 3.12e-02f  6\n",
      " 162 -3.0495572e+03 0.00e+00 1.67e-01 -11.0 2.36e-03    -  1.00e+00 1.00e+00f  1\n",
      " 163 -3.0495572e+03 0.00e+00 1.47e-01 -11.0 8.38e-02    -  1.00e+00 1.95e-03f 10\n",
      " 164 -3.0495572e+03 0.00e+00 1.79e-01 -11.0 2.86e-03    -  1.00e+00 1.25e-01f  4\n",
      " 165 -3.0495572e+03 0.00e+00 1.48e-01 -11.0 1.62e-02    -  1.00e+00 7.81e-03f  8\n",
      " 166 -3.0495571e+03 0.00e+00 9.97e-02 -11.0 2.19e-03    -  1.00e+00 5.00e-01f  2\n",
      " 167 -3.0495570e+03 0.00e+00 5.46e-02 -11.0 1.45e-02    -  1.00e+00 1.56e-02f  7\n",
      " 168 -3.0495570e+03 0.00e+00 5.61e-02 -11.0 3.55e-03    -  1.00e+00 1.25e-01f  4\n",
      " 169 -3.0495569e+03 0.00e+00 1.31e-01 -11.0 1.24e-02    -  1.00e+00 6.25e-02f  5\n",
      "iter    objective    inf_pr   inf_du lg(mu)  ||d||  lg(rg) alpha_du alpha_pr  ls\n",
      " 170 -3.0495569e+03 0.00e+00 5.59e-02 -11.0 6.27e-02    -  1.00e+00 1.95e-03f 10\n",
      " 171 -3.0495569e+03 0.00e+00 1.18e-01 -11.0 3.26e-03    -  1.00e+00 6.25e-02f  5\n",
      " 172 -3.0495569e+03 0.00e+00 5.03e-02 -11.0 1.17e-02    -  1.00e+00 7.81e-03f  8\n",
      " 173 -3.0495569e+03 0.00e+00 8.24e-02 -11.0 2.12e-03    -  1.00e+00 2.50e-01f  3\n",
      " 174 -3.0495569e+03 0.00e+00 5.50e-02 -11.0 4.69e-03    -  1.00e+00 6.25e-02f  5\n",
      " 175 -3.0495569e+03 0.00e+00 7.05e-02 -11.0 4.34e-03    -  1.00e+00 1.25e-01f  4\n",
      " 176 -3.0495569e+03 0.00e+00 1.48e-01 -11.0 5.05e-03    -  1.00e+00 1.25e-01f  4\n",
      " 177 -3.0495568e+03 0.00e+00 1.37e-01 -11.0 4.86e-03    -  1.00e+00 3.12e-02f  6\n",
      " 178 -3.0495568e+03 0.00e+00 5.48e-02 -11.0 3.94e-03    -  1.00e+00 1.56e-02f  7\n",
      " 179 -3.0495568e+03 0.00e+00 2.70e-01 -11.0 2.46e-04    -  1.00e+00 5.00e-01f  2\n",
      "iter    objective    inf_pr   inf_du lg(mu)  ||d||  lg(rg) alpha_du alpha_pr  ls\n",
      " 180 -3.0495568e+03 0.00e+00 6.27e-02 -11.0 2.50e-03    -  1.00e+00 1.25e-01f  4\n",
      " 181 -3.0495568e+03 0.00e+00 6.17e-02 -11.0 1.15e-03    -  1.00e+00 6.25e-02f  5\n",
      " 182 -3.0495568e+03 0.00e+00 4.75e-02 -11.0 2.12e-04    -  1.00e+00 1.00e+00f  1\n",
      " 183 -3.0495568e+03 0.00e+00 1.64e-02 -11.0 1.55e-03    -  1.00e+00 6.25e-02f  5\n",
      " 184 -3.0495568e+03 0.00e+00 5.46e-02 -11.0 1.22e-04    -  1.00e+00 1.00e+00f  1\n",
      " 185 -3.0495568e+03 0.00e+00 4.57e-02 -11.0 1.25e-03    -  1.00e+00 1.56e-02f  7\n",
      " 186 -3.0495568e+03 0.00e+00 1.71e-01 -11.0 7.36e-04    -  1.00e+00 2.50e-01f  3\n",
      " 187 -3.0495568e+03 0.00e+00 6.41e-02 -11.0 1.09e-02    -  1.00e+00 1.56e-02f  7\n",
      " 188 -3.0495568e+03 0.00e+00 6.36e-02 -11.0 1.39e-03    -  1.00e+00 1.25e-01f  4\n",
      " 189 -3.0495568e+03 0.00e+00 3.45e-02 -11.0 2.53e-03    -  1.00e+00 6.25e-02f  5\n",
      "iter    objective    inf_pr   inf_du lg(mu)  ||d||  lg(rg) alpha_du alpha_pr  ls\n",
      " 190 -3.0495568e+03 0.00e+00 2.41e-02 -11.0 1.29e-03    -  1.00e+00 3.12e-02f  6\n",
      " 191 -3.0495568e+03 0.00e+00 1.62e-02 -11.0 2.46e-04    -  1.00e+00 1.00e+00f  1\n",
      " 192 -3.0495568e+03 0.00e+00 3.70e-02 -11.0 1.27e-03    -  1.00e+00 1.56e-02f  7\n",
      " 193 -3.0495568e+03 0.00e+00 6.56e-02 -11.0 5.43e-04    -  1.00e+00 2.50e-01f  3\n",
      " 194 -3.0495568e+03 0.00e+00 3.03e-02 -11.0 9.34e-03    -  1.00e+00 7.81e-03f  8\n",
      " 195 -3.0495568e+03 0.00e+00 1.92e-02 -11.0 7.07e-04    -  1.00e+00 1.25e-01f  4\n",
      " 196 -3.0495567e+03 0.00e+00 3.39e-02 -11.0 7.30e-04    -  1.00e+00 2.50e-01f  3\n",
      " 197 -3.0495567e+03 0.00e+00 1.86e-02 -11.0 1.04e-03    -  1.00e+00 1.25e-01f  4\n",
      " 198 -3.0495567e+03 0.00e+00 2.10e-02 -11.0 4.97e-04    -  1.00e+00 2.50e-01f  3\n",
      " 199 -3.0495567e+03 0.00e+00 3.83e-02 -11.0 2.49e-03    -  1.00e+00 1.56e-02f  7\n",
      "iter    objective    inf_pr   inf_du lg(mu)  ||d||  lg(rg) alpha_du alpha_pr  ls\n",
      " 200 -3.0495567e+03 0.00e+00 5.35e-02 -11.0 2.60e-03    -  1.00e+00 6.25e-02f  5\n",
      " 201 -3.0495567e+03 0.00e+00 5.75e-02 -11.0 3.14e-02    -  1.00e+00 3.91e-03f  9\n",
      " 202 -3.0495568e+03 0.00e+00 1.42e-01 -11.0 1.34e-03    -  1.00e+00 1.00e+00w  1\n",
      " 203 -3.0495585e+03 0.00e+00 5.99e-01 -11.0 6.80e-03    -  1.00e+00 1.00e+00w  1\n",
      " 204 -3.0495855e+03 0.00e+00 2.67e+00 -11.0 5.88e-03    -  1.00e+00 1.00e+00w  1\n",
      " 205 -3.0495567e+03 0.00e+00 3.40e-02 -11.0 1.67e-02    -  1.00e+00 2.50e-01f  2\n",
      " 206 -3.0495567e+03 0.00e+00 5.66e-02 -11.0 7.05e-04    -  1.00e+00 3.12e-02f  6\n",
      " 207 -3.0495567e+03 0.00e+00 3.84e-02 -11.0 6.75e-04    -  1.00e+00 1.25e-01f  4\n",
      " 208 -3.0495567e+03 0.00e+00 5.54e-02 -11.0 3.48e-03    -  1.00e+00 6.25e-02f  5\n",
      " 209 -3.0495567e+03 0.00e+00 1.82e-02 -11.0 1.21e-02    -  1.00e+00 3.91e-03f  9\n",
      "iter    objective    inf_pr   inf_du lg(mu)  ||d||  lg(rg) alpha_du alpha_pr  ls\n",
      " 210 -3.0495567e+03 0.00e+00 2.68e-02 -11.0 3.41e-04    -  1.00e+00 2.50e-01f  3\n",
      " 211 -3.0495567e+03 0.00e+00 1.60e-02 -11.0 7.96e-04    -  1.00e+00 1.25e-01f  4\n",
      " 212 -3.0495567e+03 0.00e+00 9.96e-03 -11.0 8.00e-04    -  1.00e+00 6.25e-02f  5\n",
      " 213 -3.0495567e+03 0.00e+00 4.25e-02 -11.0 7.77e-05    -  1.00e+00 2.50e-01f  3\n",
      " 214 -3.0495567e+03 0.00e+00 2.33e-02 -11.0 3.60e-04    -  1.00e+00 1.25e-01f  4\n",
      " 215 -3.0495567e+03 0.00e+00 1.72e-02 -11.0 6.90e-04    -  1.00e+00 1.25e-01f  4\n",
      " 216 -3.0495567e+03 0.00e+00 1.54e-02 -11.0 1.43e-03    -  1.00e+00 1.56e-02f  7\n",
      " 217 -3.0495567e+03 0.00e+00 1.42e-02 -11.0 3.35e-04    -  1.00e+00 2.50e-01f  3\n",
      " 218 -3.0495567e+03 0.00e+00 1.84e-02 -11.0 1.15e-03    -  1.00e+00 1.25e-01f  4\n",
      " 219 -3.0495567e+03 0.00e+00 8.95e-03 -11.0 2.42e-03    -  1.00e+00 3.12e-02f  6\n",
      "iter    objective    inf_pr   inf_du lg(mu)  ||d||  lg(rg) alpha_du alpha_pr  ls\n",
      " 220 -3.0495573e+03 0.00e+00 1.06e+00 -11.0 1.20e-03    -  1.00e+00 1.00e+00w  1\n",
      " 221 -3.0495569e+03 0.00e+00 4.84e-01 -11.0 4.97e-04    -  1.00e+00 1.00e+00w  1\n",
      " 222 -3.0495699e+03 0.00e+00 2.82e+00 -11.0 6.71e-03    -  1.00e+00 1.00e+00w  1\n",
      " 223 -3.0495567e+03 0.00e+00 1.09e-02 -11.0 4.55e-03    -  1.00e+00 1.56e-02f  6\n",
      " 224 -3.0495567e+03 0.00e+00 1.77e-02 -11.0 1.86e-04    -  1.00e+00 6.25e-02f  5\n",
      " 225 -3.0495567e+03 0.00e+00 2.94e-02 -11.0 1.07e-04    -  1.00e+00 2.50e-01f  3\n",
      " 226 -3.0495567e+03 0.00e+00 1.06e-02 -11.0 8.52e-04    -  1.00e+00 3.12e-02f  6\n",
      " 227 -3.0495567e+03 0.00e+00 8.14e-03 -11.0 7.59e-05    -  1.00e+00 5.00e-01f  2\n",
      " 228 -3.0495567e+03 0.00e+00 1.28e-02 -11.0 4.92e-04    -  1.00e+00 1.56e-02f  7\n",
      " 229 -3.0495567e+03 0.00e+00 5.73e-03 -11.0 8.33e-05    -  1.00e+00 2.50e-01f  3\n",
      "iter    objective    inf_pr   inf_du lg(mu)  ||d||  lg(rg) alpha_du alpha_pr  ls\n",
      " 230 -3.0495567e+03 0.00e+00 8.95e-03 -11.0 4.02e-05    -  1.00e+00 2.50e-01f  3\n",
      " 231 -3.0495567e+03 0.00e+00 4.66e-03 -11.0 1.31e-04    -  1.00e+00 2.50e-01f  3\n",
      " 232 -3.0495567e+03 0.00e+00 9.87e-03 -11.0 5.42e-04    -  1.00e+00 7.81e-03f  8\n",
      " 233 -3.0495567e+03 0.00e+00 2.21e-01 -11.0 2.19e-04    -  1.00e+00 1.00e+00w  1\n",
      " 234 -3.0495567e+03 0.00e+00 1.65e-02 -11.0 1.02e-04    -  1.00e+00 1.00e+00w  1\n",
      " 235 -3.0495568e+03 0.00e+00 4.81e-01 -11.0 1.06e-04    -  1.00e+00 1.00e+00w  1\n",
      " 236 -3.0495567e+03 0.00e+00 1.04e-02 -11.0 1.10e-04    -  1.00e+00 6.25e-02f  4\n",
      " 237 -3.0495567e+03 0.00e+00 6.06e-03 -11.0 5.64e-05    -  1.00e+00 1.25e-01f  4\n",
      " 238 -3.0495567e+03 0.00e+00 6.84e-03 -11.0 9.95e-05    -  1.00e+00 1.00e+00f  1\n",
      " 239 -3.0495567e+03 0.00e+00 1.28e-02 -11.0 1.18e-03    -  1.00e+00 1.56e-02f  7\n",
      "iter    objective    inf_pr   inf_du lg(mu)  ||d||  lg(rg) alpha_du alpha_pr  ls\n",
      " 240 -3.0495567e+03 0.00e+00 7.12e-03 -11.0 2.95e-04    -  1.00e+00 1.56e-02f  7\n",
      " 241 -3.0495567e+03 0.00e+00 7.39e-03 -11.0 4.89e-05    -  1.00e+00 1.00e+00f  1\n",
      " 242 -3.0495567e+03 0.00e+00 1.21e-02 -11.0 5.97e-04    -  1.00e+00 6.25e-02f  5\n",
      " 243 -3.0495567e+03 0.00e+00 8.78e-03 -11.0 9.13e-04    -  1.00e+00 1.56e-02f  7\n",
      " 244 -3.0495567e+03 0.00e+00 1.72e-02 -11.0 1.47e-04    -  1.00e+00 6.25e-02f  5\n",
      " 245 -3.0495567e+03 0.00e+00 1.12e-02 -11.0 2.56e-04    -  1.00e+00 3.12e-02f  6\n",
      " 246 -3.0495567e+03 0.00e+00 1.77e-02 -11.0 3.13e-04    -  1.00e+00 2.50e-01f  3\n",
      " 247 -3.0495567e+03 0.00e+00 9.45e-03 -11.0 2.15e-03    -  1.00e+00 3.91e-03f  9\n",
      " 248 -3.0495567e+03 0.00e+00 1.12e-02 -11.0 2.29e-05    -  1.00e+00 2.50e-01f  3\n",
      " 249 -3.0495567e+03 0.00e+00 3.05e-03 -11.0 4.03e-05    -  1.00e+00 1.00e+00f  1\n",
      "iter    objective    inf_pr   inf_du lg(mu)  ||d||  lg(rg) alpha_du alpha_pr  ls\n",
      " 250 -3.0495567e+03 0.00e+00 1.03e-03 -11.0 6.01e-04    -  1.00e+00 7.81e-03f  8\n",
      " 251 -3.0495567e+03 0.00e+00 3.52e-03 -11.0 6.70e-05    -  1.00e+00 6.25e-02f  5\n",
      " 252 -3.0495567e+03 0.00e+00 3.12e-03 -11.0 1.06e-04    -  1.00e+00 1.56e-02f  7\n",
      " 253 -3.0495567e+03 0.00e+00 2.96e-03 -11.0 3.04e-05    -  1.00e+00 5.00e-01f  2\n",
      " 254 -3.0495567e+03 0.00e+00 2.17e-03 -11.0 1.76e-04    -  1.00e+00 1.56e-02f  7\n",
      " 255 -3.0495567e+03 0.00e+00 3.36e-03 -11.0 1.67e-05    -  1.00e+00 1.00e+00f  1\n",
      " 256 -3.0495567e+03 0.00e+00 1.90e-03 -11.0 4.17e-04    -  1.00e+00 3.12e-02f  6\n",
      " 257 -3.0495567e+03 0.00e+00 4.15e-03 -11.0 3.44e-04    -  1.00e+00 3.12e-02f  6\n",
      " 258 -3.0495567e+03 0.00e+00 3.16e-03 -11.0 2.05e-04    -  1.00e+00 3.12e-02f  6\n",
      " 259 -3.0495567e+03 0.00e+00 6.70e-03 -11.0 1.20e-04    -  1.00e+00 3.12e-02f  6\n",
      "iter    objective    inf_pr   inf_du lg(mu)  ||d||  lg(rg) alpha_du alpha_pr  ls\n",
      " 260 -3.0495567e+03 0.00e+00 3.86e-03 -11.0 8.20e-05    -  1.00e+00 2.50e-01f  3\n",
      " 261 -3.0495567e+03 0.00e+00 1.59e-03 -11.0 6.08e-05    -  1.00e+00 1.56e-02f  7\n",
      " 262 -3.0495567e+03 0.00e+00 9.98e-04 -11.0 2.20e-05    -  1.00e+00 1.00e+00f  1\n",
      "\n",
      "Number of Iterations....: 262\n",
      "\n",
      "                                   (scaled)                 (unscaled)\n",
      "Objective...............:   6.8680437638655189e+02   -3.0495567238096769e+03\n",
      "Dual infeasibility......:   9.9841385142107543e-04    4.4331687135787945e-03\n",
      "Constraint violation....:   0.0000000000000000e+00    0.0000000000000000e+00\n",
      "Variable bound violation:   0.0000000000000000e+00    0.0000000000000000e+00\n",
      "Complementarity.........:   1.0000000006767885e-11    4.4402115518221587e-11\n",
      "Overall NLP error.......:   9.9841385142107543e-04    4.4331687135787945e-03\n",
      "\n",
      "\n",
      "Number of objective function evaluations             = 2073\n",
      "Number of objective gradient evaluations             = 263\n",
      "Number of equality constraint evaluations            = 0\n",
      "Number of inequality constraint evaluations          = 0\n",
      "Number of equality constraint Jacobian evaluations   = 0\n",
      "Number of inequality constraint Jacobian evaluations = 0\n",
      "Number of Lagrangian Hessian evaluations             = 0\n",
      "Total seconds in IPOPT                               = 34.851\n",
      "\n",
      "EXIT: Optimal Solution Found.\n",
      " 35.136527 seconds (273.07 M allocations: 9.959 GiB, 2.99% gc time, 49.90% compilation time)\n"
     ]
    }
   ],
   "source": [
    "@time optm = QuasiCopula.fit!(qc_model);"
   ]
  },
  {
   "cell_type": "code",
   "execution_count": 3,
   "metadata": {
    "collapsed": false
   },
   "outputs": [
    {
     "data": {
      "text/plain": [
       "12×2 Matrix{Float64}:\n",
       " -0.611478   -0.479976\n",
       " -0.568098   -0.185532\n",
       " -0.0154747   0.0606237\n",
       "  0.417384    0.408555\n",
       "  0.0857606   0.10233\n",
       " -0.143483   -0.136129\n",
       "  0.383318    0.445786\n",
       "  0.365978    0.33541\n",
       "  0.191833    0.147032\n",
       " -0.0156623  -0.00586126\n",
       " -0.236445   -0.226749\n",
       "  0.0306444   0.0291357"
      ]
     },
     "execution_count": 3,
     "metadata": {},
     "output_type": "execute_result"
    }
   ],
   "source": [
    "[vec(qc_model.B) vec(Btrue)]"
   ]
  },
  {
   "cell_type": "code",
   "execution_count": 4,
   "metadata": {
    "collapsed": false,
    "scrolled": true
   },
   "outputs": [
    {
     "data": {
      "text/plain": [
       "4×4 Matrix{Float64}:\n",
       " 1.0       0.74854   0.596163  0.435059\n",
       " 0.74854   1.0       0.816559  0.57324\n",
       " 0.596163  0.816559  1.0       0.685076\n",
       " 0.435059  0.57324   0.685076  1.0"
      ]
     },
     "execution_count": 4,
     "metadata": {},
     "output_type": "execute_result"
    }
   ],
   "source": [
    "# compare Γ\n",
    "L = qc_model.L\n",
    "cov2cor(L.L*L.L')"
   ]
  },
  {
   "cell_type": "code",
   "execution_count": 5,
   "metadata": {
    "collapsed": false
   },
   "outputs": [
    {
     "data": {
      "text/plain": [
       "4×4 LinearAlgebra.LowerTriangular{Float64, Matrix{Float64}}:\n",
       " 1.11649    ⋅         ⋅         ⋅ \n",
       " 0.750489  0.664815   ⋅         ⋅ \n",
       " 0.634073  0.593968  0.613495   ⋅ \n",
       " 0.428089  0.367393  0.370511  0.716031"
      ]
     },
     "execution_count": 5,
     "metadata": {},
     "output_type": "execute_result"
    }
   ],
   "source": [
    "L.L"
   ]
  },
  {
   "cell_type": "code",
   "execution_count": 6,
   "metadata": {
    "collapsed": false
   },
   "outputs": [
    {
     "data": {
      "text/plain": [
       "4×4 Matrix{Float64}:\n",
       " 1.0       0.75    0.5625  0.421875\n",
       " 0.75      1.0     0.75    0.5625\n",
       " 0.5625    0.75    1.0     0.75\n",
       " 0.421875  0.5625  0.75    1.0"
      ]
     },
     "execution_count": 6,
     "metadata": {},
     "output_type": "execute_result"
    }
   ],
   "source": [
    "cov2cor(Γtrue)"
   ]
  },
  {
   "cell_type": "code",
   "execution_count": 7,
   "metadata": {
    "collapsed": false
   },
   "outputs": [
    {
     "data": {
      "text/plain": [
       "2×2 Matrix{Float64}:\n",
       " 0.103982   0.1\n",
       " 0.0944209  0.1"
      ]
     },
     "execution_count": 7,
     "metadata": {},
     "output_type": "execute_result"
    }
   ],
   "source": [
    "# compare nuisance parameters \n",
    "[qc_model.ϕ [σ2true for _ in 1:length(qc_model.ϕ)]]"
   ]
  },
  {
   "cell_type": "markdown",
   "metadata": {},
   "source": [
    "## GWAS via likelihood ratio test on top SNPs"
   ]
  },
  {
   "cell_type": "code",
   "execution_count": null,
   "metadata": {
    "collapsed": false
   },
   "outputs": [
    {
     "name": "stderr",
     "output_type": "stream",
     "text": [
      "\u001b[32mEstimating grad under null 100%|█████████████████████████| Time: 0:00:44\u001b[39m\n",
      "\u001b[32mRunning LRT, termination when p > 1.0  82%|███████████▌  |  ETA: 0:24:13\u001b[39m"
     ]
    }
   ],
   "source": [
    "# gwas\n",
    "# result = QuasiCopula.multivariateGWAS_adhoc_lrt(qc_model, G)\n",
    "result = QuasiCopula.multivariateGWAS_adhoc_lrt(qc_model, G, pval_cutoff=1.0)\n",
    "pvals = result.pvals\n",
    "\n",
    "# compute power\n",
    "discovered_snps = findall(x -> x < 0.05/length(pvals), pvals)\n",
    "causal_snps = unique!([x[1] for x in findall(!iszero, γtrue)])\n",
    "power = length(discovered_snps ∩ causal_snps) / length(causal_snps)\n",
    "FP = length(setdiff(discovered_snps, causal_snps))\n",
    "println(\"power = $power, FP = $FP\")"
   ]
  },
  {
   "cell_type": "code",
   "execution_count": null,
   "metadata": {
    "collapsed": false
   },
   "outputs": [],
   "source": [
    "[pvals sort(pvals)]"
   ]
  },
  {
   "cell_type": "markdown",
   "metadata": {},
   "source": [
    "Check QQ plot"
   ]
  },
  {
   "cell_type": "code",
   "execution_count": 15,
   "metadata": {
    "collapsed": false
   },
   "outputs": [
    {
     "data": {
      "image/png": "[encoded data removed]"
     },
     "metadata": {},
     "output_type": "display_data"
    }
   ],
   "source": [
    "using MendelPlots\n",
    "\n",
    "# 2 normal, 1 bernoulli, 1 poisson\n",
    "qq(pvals, dpi=100, titles=\"4 traits, $k causal SNPs\")\n",
    "display(\"image/png\", read(\"qqplot.png\"))"
   ]
  },
  {
   "cell_type": "code",
   "execution_count": null,
   "metadata": {
    "collapsed": true
   },
   "outputs": [],
   "source": []
  },
  {
   "cell_type": "code",
   "execution_count": null,
   "metadata": {
    "collapsed": true
   },
   "outputs": [],
   "source": []
  },
  {
   "cell_type": "code",
   "execution_count": 32,
   "metadata": {
    "collapsed": false
   },
   "outputs": [
    {
     "data": {
      "image/png": "[encoded data removed]"
     },
     "metadata": {},
     "output_type": "display_data"
    }
   ],
   "source": [
    "using MendelPlots\n",
    "\n",
    "# 2 normal, 1 bernoulli, 1 poisson\n",
    "qq(pvals, dpi=100, titles=\"4 traits, $k causal SNPs\")\n",
    "display(\"image/png\", read(\"qqplot.png\"))"
   ]
  },
  {
   "cell_type": "markdown",
   "metadata": {
    "collapsed": true
   },
   "source": [
    "## Fit QuasiCopula model to Gaussian traits\n",
    "\n",
    "$$y_i \\sim N(\\mu_i, \\Sigma)$$"
   ]
  },
  {
   "cell_type": "code",
   "execution_count": 16,
   "metadata": {
    "collapsed": false,
    "scrolled": true
   },
   "outputs": [
    {
     "name": "stdout",
     "output_type": "stream",
     "text": [
      "This is Ipopt version 3.14.14, running with linear solver MUMPS 5.6.2.\n",
      "\n",
      "Number of nonzeros in equality constraint Jacobian...:        0\n",
      "Number of nonzeros in inequality constraint Jacobian.:        0\n",
      "Number of nonzeros in Lagrangian Hessian.............:        0\n",
      "\n",
      "Total number of variables............................:       26\n",
      "                     variables with only lower bounds:        4\n",
      "                variables with lower and upper bounds:        0\n",
      "                     variables with only upper bounds:        0\n",
      "Total number of equality constraints.................:        0\n",
      "Total number of inequality constraints...............:        0\n",
      "        inequality constraints with only lower bounds:        0\n",
      "   inequality constraints with lower and upper bounds:        0\n",
      "        inequality constraints with only upper bounds:        0\n",
      "\n",
      "iter    objective    inf_pr   inf_du lg(mu)  ||d||  lg(rg) alpha_du alpha_pr  ls\n",
      "   0 -5.6762553e+03 0.00e+00 1.00e+02   0.0 0.00e+00    -  0.00e+00 0.00e+00   0\n",
      "   1 -5.6727674e+03 0.00e+00 3.05e+02  -9.0 9.99e+01    -  1.00e+00 4.95e-03f  2\n",
      "   2 -5.5679184e+03 0.00e+00 6.39e+01  -1.4 3.49e-01    -  1.00e+00 1.00e+00f  1\n",
      "   3 -5.5369255e+03 0.00e+00 3.56e+01  -8.0 6.89e-02    -  1.00e+00 1.00e+00f  1\n",
      "   4 -5.5075804e+03 0.00e+00 5.87e+01  -4.6 1.92e-01    -  1.00e+00 1.00e+00f  1\n",
      "   5 -5.4925199e+03 0.00e+00 5.58e+01  -5.3 1.32e-01    -  1.00e+00 1.00e+00f  1\n",
      "   6 -5.4847991e+03 0.00e+00 2.65e+01  -5.9 1.53e-01    -  1.00e+00 1.00e+00f  1\n",
      "   7 -5.4812280e+03 0.00e+00 1.53e+01  -8.1 6.23e-02    -  1.00e+00 1.00e+00f  1\n",
      "   8 -5.4795857e+03 0.00e+00 2.13e+01  -9.5 9.07e-02    -  1.00e+00 1.00e+00f  1\n",
      "   9 -5.4775702e+03 0.00e+00 1.36e+01 -10.2 3.72e-02    -  1.00e+00 1.00e+00f  1\n",
      "iter    objective    inf_pr   inf_du lg(mu)  ||d||  lg(rg) alpha_du alpha_pr  ls\n",
      "  10 -5.4762668e+03 0.00e+00 5.69e+00 -11.0 4.84e-02    -  1.00e+00 1.00e+00f  1\n",
      "  11 -5.4753520e+03 0.00e+00 9.86e+00 -11.0 8.47e-02    -  1.00e+00 1.00e+00f  1\n",
      "  12 -5.4749921e+03 0.00e+00 9.05e+00 -11.0 3.99e-01    -  1.00e+00 2.50e-01f  3\n",
      "  13 -5.4743676e+03 0.00e+00 5.53e+00 -11.0 8.56e-02    -  1.00e+00 5.00e-01f  2\n",
      "  14 -5.4739435e+03 0.00e+00 5.19e+00 -11.0 7.83e-02    -  1.00e+00 5.00e-01f  2\n",
      "  15 -5.4738656e+03 0.00e+00 3.62e+00 -11.0 3.28e-02    -  1.00e+00 5.00e-01f  2\n",
      "  16 -5.4737629e+03 0.00e+00 9.97e-01 -11.0 1.24e-02    -  1.00e+00 1.00e+00f  1\n",
      "  17 -5.4737191e+03 0.00e+00 1.74e+00 -11.0 1.84e-02    -  1.00e+00 1.00e+00f  1\n",
      "  18 -5.4736630e+03 0.00e+00 3.29e+00 -11.0 7.04e-02    -  1.00e+00 5.00e-01f  2\n",
      "  19 -5.4736180e+03 0.00e+00 3.44e+00 -11.0 1.42e-01    -  1.00e+00 2.50e-01f  3\n",
      "iter    objective    inf_pr   inf_du lg(mu)  ||d||  lg(rg) alpha_du alpha_pr  ls\n",
      "  20 -5.4735717e+03 0.00e+00 5.81e+00 -11.0 1.25e-01    -  1.00e+00 5.00e-01f  2\n",
      "  21 -5.4735358e+03 0.00e+00 4.72e+00 -11.0 2.92e-01    -  1.00e+00 2.50e-01f  3\n",
      "  22 -5.4734045e+03 0.00e+00 5.11e+00 -11.0 6.35e-02    -  1.00e+00 5.00e-01f  2\n",
      "  23 -5.4732483e+03 0.00e+00 3.54e+00 -11.0 1.01e-01    -  1.00e+00 5.00e-01f  2\n",
      "  24 -5.4731696e+03 0.00e+00 2.54e+00 -11.0 4.92e-02    -  1.00e+00 5.00e-01f  2\n",
      "  25 -5.4731252e+03 0.00e+00 1.70e+00 -11.0 7.65e-02    -  1.00e+00 2.50e-01f  3\n",
      "  26 -5.4731221e+03 0.00e+00 1.91e+00 -11.0 5.74e-02    -  1.00e+00 5.00e-01f  2\n",
      "  27 -5.4731193e+03 0.00e+00 1.82e+00 -11.0 1.95e-02    -  1.00e+00 5.00e-01f  2\n",
      "  28 -5.4730869e+03 0.00e+00 1.04e+00 -11.0 1.07e-02    -  1.00e+00 1.00e+00f  1\n",
      "  29 -5.4730836e+03 0.00e+00 5.48e-01 -11.0 5.04e-03    -  1.00e+00 5.00e-01f  2\n",
      "iter    objective    inf_pr   inf_du lg(mu)  ||d||  lg(rg) alpha_du alpha_pr  ls\n",
      "  30 -5.4730799e+03 0.00e+00 2.19e-01 -11.0 5.63e-03    -  1.00e+00 1.00e+00f  1\n",
      "  31 -5.4730788e+03 0.00e+00 2.03e-01 -11.0 1.37e-02    -  1.00e+00 2.50e-01f  3\n",
      "  32 -5.4730770e+03 0.00e+00 4.12e-01 -11.0 7.36e-03    -  1.00e+00 1.00e+00f  1\n",
      "  33 -5.4730759e+03 0.00e+00 3.43e-01 -11.0 2.84e-02    -  1.00e+00 1.25e-01f  4\n",
      "  34 -5.4730758e+03 0.00e+00 3.89e-01 -11.0 3.11e-03    -  1.00e+00 5.00e-01f  2\n",
      "  35 -5.4730748e+03 0.00e+00 1.81e-01 -11.0 1.92e-03    -  1.00e+00 1.00e+00f  1\n",
      "  36 -5.4730747e+03 0.00e+00 2.29e-01 -11.0 1.30e-03    -  1.00e+00 1.00e+00f  1\n",
      "  37 -5.4730741e+03 0.00e+00 7.10e-02 -11.0 1.81e-03    -  1.00e+00 1.00e+00f  1\n",
      "  38 -5.4730740e+03 0.00e+00 9.02e-02 -11.0 4.67e-03    -  1.00e+00 2.50e-01f  3\n",
      "  39 -5.4730739e+03 0.00e+00 2.21e-01 -11.0 3.13e-03    -  1.00e+00 1.00e+00f  1\n",
      "iter    objective    inf_pr   inf_du lg(mu)  ||d||  lg(rg) alpha_du alpha_pr  ls\n",
      "  40 -5.4730739e+03 0.00e+00 1.87e-01 -11.0 1.66e-02    -  1.00e+00 2.50e-01f  3\n",
      "  41 -5.4730738e+03 0.00e+00 1.35e-01 -11.0 4.31e-03    -  1.00e+00 1.25e-01f  4\n",
      "  42 -5.4730735e+03 0.00e+00 5.04e-02 -11.0 2.84e-03    -  1.00e+00 1.00e+00f  1\n",
      "  43 -5.4730735e+03 0.00e+00 5.97e-02 -11.0 2.58e-03    -  1.00e+00 6.25e-02f  5\n",
      "  44 -5.4730735e+03 0.00e+00 2.02e-02 -11.0 5.29e-04    -  1.00e+00 1.00e+00f  1\n",
      "  45 -5.4730735e+03 0.00e+00 4.14e-02 -11.0 2.86e-03    -  1.00e+00 1.25e-01f  4\n",
      "  46 -5.4730734e+03 0.00e+00 3.49e-02 -11.0 1.11e-03    -  1.00e+00 1.00e+00f  1\n",
      "  47 -5.4730734e+03 0.00e+00 6.40e-02 -11.0 3.92e-02    -  1.00e+00 3.12e-02f  6\n",
      "  48 -5.4730734e+03 0.00e+00 5.72e-02 -11.0 4.72e-03    -  1.00e+00 1.25e-01f  4\n",
      "  49 -5.4730734e+03 0.00e+00 3.59e-02 -11.0 2.08e-03    -  1.00e+00 5.00e-01f  2\n",
      "iter    objective    inf_pr   inf_du lg(mu)  ||d||  lg(rg) alpha_du alpha_pr  ls\n",
      "  50 -5.4730734e+03 0.00e+00 3.75e-02 -11.0 1.55e-03    -  1.00e+00 1.25e-01f  4\n",
      "  51 -5.4730734e+03 0.00e+00 3.75e-02 -11.0 4.12e-04    -  1.00e+00 5.00e-01f  2\n",
      "  52 -5.4730734e+03 0.00e+00 2.28e-02 -11.0 5.51e-04    -  1.00e+00 5.00e-01f  2\n",
      "  53 -5.4730734e+03 0.00e+00 1.02e-02 -11.0 1.43e-04    -  1.00e+00 5.00e-01f  2\n",
      "  54 -5.4730734e+03 0.00e+00 5.62e-03 -11.0 1.14e-04    -  1.00e+00 5.00e-01f  2\n",
      "  55 -5.4730734e+03 0.00e+00 4.39e-03 -11.0 3.27e-05    -  1.00e+00 5.00e-01f  2\n",
      "  56 -5.4730734e+03 0.00e+00 1.04e-03 -11.0 1.29e-05    -  1.00e+00 1.00e+00f  1\n",
      "  57 -5.4730734e+03 0.00e+00 1.15e-03 -11.0 5.22e-06    -  1.00e+00 1.00e+00f  1\n",
      "  58 -5.4730734e+03 0.00e+00 4.20e-04 -11.0 8.61e-06    -  1.00e+00 1.00e+00f  1\n",
      "\n",
      "Number of Iterations....: 58\n",
      "\n",
      "                                   (scaled)                 (unscaled)\n",
      "Objective...............:   3.1599908086329347e+03   -5.4730733641219103e+03\n",
      "Dual infeasibility......:   4.2009853462518509e-04    7.2760657843762289e-04\n",
      "Constraint violation....:   0.0000000000000000e+00    0.0000000000000000e+00\n",
      "Variable bound violation:   0.0000000000000000e+00    0.0000000000000000e+00\n",
      "Complementarity.........:   9.9999999999898067e-12    1.7319902795806156e-11\n",
      "Overall NLP error.......:   4.2009853462518509e-04    7.2760657843762289e-04\n",
      "\n",
      "\n",
      "Number of objective function evaluations             = 248\n",
      "Number of objective gradient evaluations             = 59\n",
      "Number of equality constraint evaluations            = 0\n",
      "Number of inequality constraint evaluations          = 0\n",
      "Number of equality constraint Jacobian evaluations   = 0\n",
      "Number of inequality constraint Jacobian evaluations = 0\n",
      "Number of Lagrangian Hessian evaluations             = 0\n",
      "Total seconds in IPOPT                               = 4.478\n",
      "\n",
      "EXIT: Optimal Solution Found.\n",
      "  4.549690 seconds (17.25 M allocations: 1.012 GiB, 96.06% compilation time: 2% of which was recompilation)\n"
     ]
    }
   ],
   "source": [
    "n = qc_model.data.n\n",
    "d = qc_model.data.d\n",
    "X = qc_model.data.X\n",
    "Gfloat = convert(Matrix{Float64}, G, center=true, scale=true)\n",
    "Σ = Matrix(SymmetricToeplitz(0.5.^(0:(d-1))))\n",
    "\n",
    "# sample Gaussian phenotypes\n",
    "Y = zeros(n, d)\n",
    "for i in 1:n\n",
    "    Xi = X[i, :]\n",
    "    Gi = Gfloat[i, :]\n",
    "    μi = Btrue' * Xi + γtrue' * Gi\n",
    "    Y[i, :] .= rand(MvNormal(μi, Σ))\n",
    "end\n",
    "\n",
    "# fit QC model\n",
    "qc_model2 = QuasiCopula.MultivariateCopulaModel(Y, X, [Normal for i in 1:d], [IdentityLink() for i in 1:d])\n",
    "@time optm = QuasiCopula.fit!(qc_model2);"
   ]
  },
  {
   "cell_type": "code",
   "execution_count": 17,
   "metadata": {
    "collapsed": false
   },
   "outputs": [
    {
     "name": "stderr",
     "output_type": "stream",
     "text": [
      "\u001b[32mEstimating grad under null 100%|█████████████████████████| Time: 0:00:04\u001b[39m\n",
      "\u001b[32mRunning LRT, termination when p > 1.0 100%|██████████████| Time: 0:03:06\u001b[39m\n"
     ]
    },
    {
     "name": "stdout",
     "output_type": "stream",
     "text": [
      "(simulate under Gaussian model) power = NaN, FP = 2\n"
     ]
    }
   ],
   "source": [
    "# gwas\n",
    "result2 = QuasiCopula.multivariateGWAS_adhoc_lrt(qc_model2, G, pval_cutoff=1.0)\n",
    "pvals = result2.pvals\n",
    "\n",
    "# compute power\n",
    "discovered_snps = findall(x -> x < 0.05/length(pvals), pvals)\n",
    "causal_snps = unique!([x[1] for x in findall(!iszero, γtrue)])\n",
    "power = length(discovered_snps ∩ causal_snps) / length(causal_snps)\n",
    "FP = length(setdiff(discovered_snps, causal_snps))\n",
    "println(\"(simulate under Gaussian model) power = $power, FP = $FP\")"
   ]
  },
  {
   "cell_type": "code",
   "execution_count": 18,
   "metadata": {
    "collapsed": false
   },
   "outputs": [
    {
     "data": {
      "image/png": "[encoded data removed]"
     },
     "metadata": {},
     "output_type": "display_data"
    }
   ],
   "source": [
    "using MendelPlots\n",
    "\n",
    "# 2 normal, 1 bernoulli, 1 poisson\n",
    "qq(pvals, dpi=100, titles=\"4 traits, $k causal SNPs\")\n",
    "display(\"image/png\", read(\"qqplot.png\"))"
   ]
  },
  {
   "cell_type": "code",
   "execution_count": 19,
   "metadata": {
    "collapsed": false
   },
   "outputs": [
    {
     "data": {
      "text/plain": [
       "2-element Vector{Int64}:\n",
       " 267\n",
       " 530"
      ]
     },
     "execution_count": 19,
     "metadata": {},
     "output_type": "execute_result"
    }
   ],
   "source": [
    "discovered_snps"
   ]
  },
  {
   "cell_type": "code",
   "execution_count": 20,
   "metadata": {
    "collapsed": false
   },
   "outputs": [
    {
     "data": {
      "text/plain": [
       "Int64[]"
      ]
     },
     "execution_count": 20,
     "metadata": {},
     "output_type": "execute_result"
    }
   ],
   "source": [
    "causal_snps"
   ]
  },
  {
   "cell_type": "code",
   "execution_count": null,
   "metadata": {
    "collapsed": true
   },
   "outputs": [],
   "source": []
  }
 ],
 "metadata": {
  "@webio": {
   "lastCommId": null,
   "lastKernelId": null
  },
  "kernelspec": {
   "display_name": "Julia 1.10.3",
   "language": "julia",
   "name": "julia-1.10"
  },
  "language_info": {
   "file_extension": ".jl",
   "mimetype": "application/julia",
   "name": "julia",
   "version": "1.10.3"
  },
  "toc": {
   "base_numbering": 1,
   "nav_menu": {},
   "number_sections": true,
   "sideBar": true,
   "skip_h1_title": false,
   "title_cell": "Table of Contents",
   "title_sidebar": "Contents",
   "toc_cell": false,
   "toc_position": {},
   "toc_section_display": true,
   "toc_window_display": false
  }
 },
 "nbformat": 4,
 "nbformat_minor": 2
}
