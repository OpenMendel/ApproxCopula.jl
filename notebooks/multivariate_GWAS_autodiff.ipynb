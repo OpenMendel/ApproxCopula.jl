{
 "cells": [
  {
   "cell_type": "markdown",
   "metadata": {},
   "source": [
    "# Multivariate QuasiCopula GWAS with Mixed Marginals\n",
    "\n",
    "Here we assume each sample have $d$ observations, and we estimate a general covariance matrix \n",
    "\n",
    "$$\\mathbf{\\Gamma} = \\mathbf{L}\\mathbf{L}^t$$"
   ]
  },
  {
   "cell_type": "code",
   "execution_count": 1,
   "metadata": {
    "collapsed": false
   },
   "outputs": [
    {
     "data": {
      "text/plain": [
       "1000×4 Matrix{Float64}:\n",
       " 0.0  -0.930583   0.0  -0.704608\n",
       " 0.0  -0.82273    1.0  -0.0166653\n",
       " 1.0   0.78649    1.0  -1.0438\n",
       " 1.0  -1.7683     0.0   0.251614\n",
       " 1.0  -0.350894   1.0  -0.7801\n",
       " 0.0  -0.0494122  0.0  -0.69146\n",
       " 0.0   0.0290936  1.0  -0.522819\n",
       " 1.0  -0.371207   3.0   0.286415\n",
       " 1.0  -0.142673   2.0  -0.206005\n",
       " 0.0  -1.07056    1.0  -0.847745\n",
       " 1.0   0.493651   2.0  -0.921478\n",
       " 0.0  -0.7204     1.0  -0.154394\n",
       " 0.0  -1.29749    1.0   0.0164135\n",
       " ⋮                     \n",
       " 1.0   0.557377   4.0  -0.0916844\n",
       " 0.0   0.884979   3.0  -1.08168\n",
       " 1.0  -0.0406696  2.0   0.156479\n",
       " 1.0   0.597561   2.0  -0.123709\n",
       " 1.0   1.3374     4.0  -0.22792\n",
       " 1.0  -0.0161275  2.0  -0.0556848\n",
       " 0.0   0.0907587  1.0  -0.775001\n",
       " 0.0  -0.334715   2.0   0.148897\n",
       " 0.0  -0.502139   1.0   0.0749786\n",
       " 1.0  -0.229851   0.0   0.939393\n",
       " 0.0  -0.292157   2.0  -0.165789\n",
       " 0.0  -0.394869   2.0  -0.506608"
      ]
     },
     "execution_count": 1,
     "metadata": {},
     "output_type": "execute_result"
    }
   ],
   "source": [
    "using Revise\n",
    "using QuasiCopula\n",
    "using DataFrames, Random, GLM\n",
    "using ForwardDiff, Test, LinearAlgebra\n",
    "using LinearAlgebra: BlasReal, copytri!\n",
    "using ToeplitzMatrices\n",
    "using BenchmarkTools\n",
    "using SnpArrays\n",
    "using Statistics\n",
    "using StatsBase\n",
    "\n",
    "k = 10 # number of causal SNPs]\n",
    "d = 4 # number of phenotypes\n",
    "Γ = Matrix(SymmetricToeplitz(0.75.^(0:(d-1))))\n",
    "σ2true = 0.1\n",
    "\n",
    "qc_model, G, Btrue, Γtrue, γtrue, τtrue = simulate_multivariate_traits(\n",
    "    n = 1000, # sample size\n",
    "    p = 3, # number of fixed effects, including intercept\n",
    "    d = d, # number of phenotypes\n",
    "    q = 1000, # number of SNPs\n",
    "    k = k, # number of causal SNPs\n",
    "    Γ = Γ,\n",
    "    seed = 2024,\n",
    "    σ2true = σ2true,\n",
    "    possible_distributions = [Bernoulli, Poisson, Normal],\n",
    "    use_VC_model=false\n",
    ");\n",
    "\n",
    "qc_model.data.Y"
   ]
  },
  {
   "cell_type": "code",
   "execution_count": 2,
   "metadata": {
    "collapsed": false
   },
   "outputs": [
    {
     "name": "stdout",
     "output_type": "stream",
     "text": [
      "\n",
      "******************************************************************************\n",
      "This program contains Ipopt, a library for large-scale nonlinear optimization.\n",
      " Ipopt is released as open source code under the Eclipse Public License (EPL).\n",
      "         For more information visit https://github.com/coin-or/Ipopt\n",
      "******************************************************************************\n",
      "\n",
      "This is Ipopt version 3.14.14, running with linear solver MUMPS 5.6.2.\n",
      "\n",
      "Number of nonzeros in equality constraint Jacobian...:        0\n",
      "Number of nonzeros in inequality constraint Jacobian.:        0\n",
      "Number of nonzeros in Lagrangian Hessian.............:        0\n",
      "\n",
      "Total number of variables............................:       24\n",
      "                     variables with only lower bounds:        2\n",
      "                variables with lower and upper bounds:        0\n",
      "                     variables with only upper bounds:        0\n",
      "Total number of equality constraints.................:        0\n",
      "Total number of inequality constraints...............:        0\n",
      "        inequality constraints with only lower bounds:        0\n",
      "   inequality constraints with lower and upper bounds:        0\n",
      "        inequality constraints with only upper bounds:        0\n",
      "\n",
      "iter    objective    inf_pr   inf_du lg(mu)  ||d||  lg(rg) alpha_du alpha_pr  ls\n",
      "   0 -4.5670022e+03 0.00e+00 1.00e+02   0.0 0.00e+00    -  0.00e+00 0.00e+00   0\n",
      "   1 -4.0019550e+03 0.00e+00 1.70e+02  -9.0 9.99e+01    -  1.00e+00 4.95e-03f  2\n",
      "   2 -3.6789819e+03 0.00e+00 2.00e+02  -7.3 1.42e+02    -  1.00e+00 1.76e-03f  2\n",
      "   3 -3.5741503e+03 0.00e+00 4.97e+01  -5.2 2.27e+01    -  1.00e+00 1.54e-02f  4\n",
      "   4 -3.5506168e+03 0.00e+00 2.48e+01  -4.4 4.97e+01    -  1.00e+00 1.87e-03f 10\n",
      "   5 -3.5056274e+03 0.00e+00 9.99e+02  -4.4 1.45e-01    -  1.00e+00 1.00e+00f  1\n",
      "   6 -3.4717209e+03 0.00e+00 1.84e+02   0.0 8.84e-02    -  4.84e-01 1.00e+00f  1\n",
      "   7 -3.4549436e+03 0.00e+00 1.40e+02  -5.7 1.74e-02    -  1.00e+00 1.00e+00f  1\n",
      "   8 -3.4416677e+03 0.00e+00 1.89e+01  -6.9 5.67e-02    -  1.00e+00 5.00e-01f  2\n",
      "   9 -3.4400259e+03 0.00e+00 2.50e+01  -7.8 8.25e-03    -  1.00e+00 1.00e+00f  1\n",
      "iter    objective    inf_pr   inf_du lg(mu)  ||d||  lg(rg) alpha_du alpha_pr  ls\n",
      "  10 -3.4302554e+03 0.00e+00 3.69e+02  -4.7 1.71e-01    -  1.00e+00 1.00e+00f  1\n",
      "  11 -3.4124337e+03 0.00e+00 1.97e+02  -4.9 6.50e-01    -  1.00e+00 2.50e-01f  3\n",
      "  12 -3.4047425e+03 0.00e+00 1.08e+02  -5.9 7.14e-02    -  1.00e+00 5.00e-01f  2\n",
      "  13 -3.3958086e+03 0.00e+00 2.45e+01  -6.8 3.37e-02    -  1.00e+00 1.00e+00f  1\n",
      "  14 -3.3939374e+03 0.00e+00 1.98e+01  -9.1 2.84e-02    -  1.00e+00 1.00e+00f  1\n",
      "  15 -3.3938998e+03 0.00e+00 3.90e+01 -10.4 1.45e-01    -  1.00e+00 5.00e-01f  2\n",
      "  16 -3.3917213e+03 0.00e+00 3.14e+01 -10.0 9.46e-02    -  1.00e+00 1.00e+00f  1\n",
      "  17 -3.3906430e+03 0.00e+00 2.08e+01 -11.0 6.16e-01    -  1.00e+00 6.25e-02f  5\n",
      "  18 -3.3902996e+03 0.00e+00 2.25e+01 -10.5 2.11e-01    -  1.00e+00 6.25e-02f  5\n",
      "  19 -3.3901786e+03 0.00e+00 3.37e+01 -11.0 5.19e-02    -  1.00e+00 1.00e+00f  1\n",
      "iter    objective    inf_pr   inf_du lg(mu)  ||d||  lg(rg) alpha_du alpha_pr  ls\n",
      "  20 -3.3901771e+03 0.00e+00 1.27e+01 -11.0 1.42e-01    -  1.00e+00 2.50e-01f  3\n",
      "  21 -3.3889808e+03 0.00e+00 8.66e+00 -11.0 6.26e-02    -  1.00e+00 1.00e+00f  1\n",
      "  22 -3.3886563e+03 0.00e+00 5.53e+00 -11.0 6.84e-02    -  1.00e+00 2.50e-01f  3\n",
      "  23 -3.3884756e+03 0.00e+00 8.26e+00 -11.0 1.48e-02    -  1.00e+00 1.00e+00f  1\n",
      "  24 -3.3882970e+03 0.00e+00 8.84e+00 -11.0 1.35e-02    -  1.00e+00 1.00e+00f  1\n",
      "  25 -3.3882418e+03 0.00e+00 9.02e+00 -11.0 2.91e-02    -  1.00e+00 2.50e-01f  3\n",
      "  26 -3.3881737e+03 0.00e+00 1.53e+01 -11.0 7.45e-02    -  1.00e+00 5.00e-01f  2\n",
      "  27 -3.3880567e+03 0.00e+00 1.01e+01 -11.0 1.52e-01    -  1.00e+00 1.25e-01f  4\n",
      "  28 -3.3879363e+03 0.00e+00 9.17e+00 -11.0 2.93e-02    -  1.00e+00 1.00e+00f  1\n",
      "  29 -3.3876194e+03 0.00e+00 1.01e+01 -11.0 6.34e-02    -  1.00e+00 5.00e-01f  2\n",
      "iter    objective    inf_pr   inf_du lg(mu)  ||d||  lg(rg) alpha_du alpha_pr  ls\n",
      "  30 -3.3875933e+03 0.00e+00 8.58e+00 -11.0 1.11e-01    -  1.00e+00 2.50e-01f  3\n",
      "  31 -3.3872352e+03 0.00e+00 7.59e+00 -11.0 1.94e-02    -  1.00e+00 1.00e+00f  1\n",
      "  32 -3.3870773e+03 0.00e+00 1.17e+01 -11.0 2.73e-02    -  1.00e+00 2.50e-01f  3\n",
      "  33 -3.3870070e+03 0.00e+00 9.10e+00 -11.0 7.14e-02    -  1.00e+00 1.25e-01f  4\n",
      "  34 -3.3869580e+03 0.00e+00 9.67e+00 -11.0 5.25e-02    -  1.00e+00 5.00e-01f  2\n",
      "  35 -3.3868525e+03 0.00e+00 4.64e+00 -11.0 2.25e-01    -  1.00e+00 1.25e-01f  4\n",
      "  36 -3.3867929e+03 0.00e+00 6.54e+00 -11.0 1.83e-01    -  1.00e+00 1.25e-01f  4\n",
      "  37 -3.3867063e+03 0.00e+00 4.72e+00 -11.0 3.41e-01    -  1.00e+00 6.25e-02f  5\n",
      "  38 -3.3866786e+03 0.00e+00 6.77e+00 -11.0 1.26e-01    -  1.00e+00 2.50e-01f  3\n",
      "  39 -3.3866129e+03 0.00e+00 8.84e+00 -11.0 7.50e-02    -  1.00e+00 2.50e-01f  3\n",
      "iter    objective    inf_pr   inf_du lg(mu)  ||d||  lg(rg) alpha_du alpha_pr  ls\n",
      "  40 -3.3865300e+03 0.00e+00 1.60e+01 -11.0 8.57e-02    -  1.00e+00 1.25e-01f  4\n",
      "  41 -3.3864843e+03 0.00e+00 5.05e+00 -11.0 2.97e-01    -  1.00e+00 6.25e-02f  5\n",
      "  42 -3.3863175e+03 0.00e+00 8.94e+00 -11.0 2.50e-02    -  1.00e+00 5.00e-01f  2\n",
      "  43 -3.3861394e+03 0.00e+00 2.26e+00 -11.0 4.32e-02    -  1.00e+00 2.50e-01f  3\n",
      "  44 -3.3860803e+03 0.00e+00 2.92e+00 -11.0 2.90e-02    -  1.00e+00 5.00e-01f  2\n",
      "  45 -3.3860049e+03 0.00e+00 2.56e+00 -11.0 3.45e-01    -  1.00e+00 6.25e-02f  5\n",
      "  46 -3.3859568e+03 0.00e+00 6.44e+00 -11.0 4.10e-01    -  1.00e+00 6.25e-02f  5\n",
      "  47 -3.3858621e+03 0.00e+00 7.05e+00 -11.0 3.09e-01    -  1.00e+00 1.25e-01f  4\n",
      "  48 -3.3858298e+03 0.00e+00 7.94e+00 -10.6 1.88e+00    -  1.00e+00 7.81e-03f  8\n",
      "  49 -3.3857098e+03 0.00e+00 1.01e+01 -11.0 9.70e-01    -  1.00e+00 1.25e-01f  4\n",
      "iter    objective    inf_pr   inf_du lg(mu)  ||d||  lg(rg) alpha_du alpha_pr  ls\n",
      "  50 -3.3856780e+03 0.00e+00 8.57e+00 -11.0 4.68e+00    -  1.00e+00 3.12e-02f  6\n",
      "  51 -3.3854971e+03 0.00e+00 7.49e+00 -10.7 3.24e+00    -  1.00e+00 3.12e-02f  6\n",
      "  52 -3.3854231e+03 0.00e+00 7.47e+00 -11.0 8.79e-01    -  1.00e+00 3.12e-02f  6\n",
      "  53 -3.3854001e+03 0.00e+00 1.27e+01 -11.0 3.07e-01    -  1.00e+00 1.25e-01f  4\n",
      "  54 -3.3851862e+03 0.00e+00 6.29e+00 -11.0 1.11e-01    -  1.00e+00 1.25e-01f  4\n",
      "  55 -3.3851245e+03 0.00e+00 2.30e+01 -11.0 1.11e-01    -  1.00e+00 2.50e-01f  3\n",
      "  56 -3.3851211e+03 0.00e+00 1.38e+01 -11.0 1.17e+00    -  1.00e+00 6.25e-02f  5\n",
      "  57 -3.3850579e+03 0.00e+00 7.06e+00 -11.0 8.77e-01    -  1.00e+00 6.25e-02f  5\n",
      "  58 -3.3850469e+03 0.00e+00 4.13e+00 -11.0 2.31e-01    -  1.00e+00 6.25e-02f  5\n",
      "  59 -3.3849310e+03 0.00e+00 8.29e+00 -11.0 8.67e-02    -  1.00e+00 1.00e+00f  1\n",
      "iter    objective    inf_pr   inf_du lg(mu)  ||d||  lg(rg) alpha_du alpha_pr  ls\n",
      "  60 -3.3848548e+03 0.00e+00 4.33e+00 -11.0 8.08e-01    -  1.00e+00 6.25e-02f  5\n",
      "  61 -3.3848278e+03 0.00e+00 4.26e+00 -11.0 4.58e-01    -  1.00e+00 3.12e-02f  6\n",
      "  62 -3.3847856e+03 0.00e+00 1.65e+01 -11.0 5.24e-02    -  1.00e+00 2.50e-01f  3\n",
      "  63 -3.3847729e+03 0.00e+00 6.81e+00 -11.0 2.40e-01    -  1.00e+00 6.25e-02f  5\n",
      "  64 -3.3847337e+03 0.00e+00 5.62e+00 -11.0 6.89e-02    -  1.00e+00 5.00e-01f  2\n",
      "  65 -3.3846758e+03 0.00e+00 2.43e+00 -11.0 1.91e-01    -  1.00e+00 1.25e-01f  4\n",
      "  66 -3.3846652e+03 0.00e+00 2.76e+00 -11.0 2.74e-02    -  1.00e+00 1.25e-01f  4\n",
      "  67 -3.3846186e+03 0.00e+00 2.06e+00 -11.0 2.26e-02    -  1.00e+00 1.00e+00f  1\n",
      "  68 -3.3846088e+03 0.00e+00 1.24e+00 -11.0 9.26e-02    -  1.00e+00 6.25e-02f  5\n",
      "  69 -3.3846065e+03 0.00e+00 2.64e+00 -11.0 2.62e-02    -  1.00e+00 6.25e-02f  5\n",
      "iter    objective    inf_pr   inf_du lg(mu)  ||d||  lg(rg) alpha_du alpha_pr  ls\n",
      "  70 -3.3846062e+03 0.00e+00 3.09e+00 -11.0 7.12e-03    -  1.00e+00 1.25e-01f  4\n",
      "  71 -3.3845942e+03 0.00e+00 6.21e-01 -11.0 5.78e-03    -  1.00e+00 1.00e+00f  1\n",
      "  72 -3.3845926e+03 0.00e+00 2.99e-01 -11.0 7.05e-03    -  1.00e+00 1.25e-01f  4\n",
      "  73 -3.3845880e+03 0.00e+00 1.10e+00 -11.0 9.40e-03    -  1.00e+00 1.00e+00f  1\n",
      "  74 -3.3845828e+03 0.00e+00 7.65e-01 -11.0 5.11e-01    -  1.00e+00 3.12e-02f  6\n",
      "  75 -3.3845822e+03 0.00e+00 1.07e+00 -11.0 1.16e-01    -  1.00e+00 6.25e-02f  5\n",
      "  76 -3.3845817e+03 0.00e+00 1.33e+00 -11.0 4.86e-02    -  1.00e+00 6.25e-02f  5\n",
      "  77 -3.3845808e+03 0.00e+00 1.42e+00 -11.0 1.76e-02    -  1.00e+00 3.12e-02f  6\n",
      "  78 -3.3845773e+03 0.00e+00 5.20e-01 -11.0 2.10e-02    -  1.00e+00 1.25e-01f  4\n",
      "  79 -3.3845753e+03 0.00e+00 5.76e-01 -11.0 1.06e-02    -  1.00e+00 1.25e-01f  4\n",
      "iter    objective    inf_pr   inf_du lg(mu)  ||d||  lg(rg) alpha_du alpha_pr  ls\n",
      "  80 -3.3845720e+03 0.00e+00 3.90e-01 -11.0 6.18e-03    -  1.00e+00 1.00e+00f  1\n",
      "  81 -3.3845715e+03 0.00e+00 1.05e+00 -11.0 1.17e-02    -  1.00e+00 1.25e-01f  4\n",
      "  82 -3.3845713e+03 0.00e+00 1.11e+00 -11.0 8.66e-03    -  1.00e+00 5.00e-01f  2\n",
      "  83 -3.3845698e+03 0.00e+00 5.60e-01 -11.0 2.23e-02    -  1.00e+00 6.25e-02f  5\n",
      "  84 -3.3845692e+03 0.00e+00 1.46e+00 -11.0 2.87e-02    -  1.00e+00 6.25e-02f  5\n",
      "  85 -3.3845680e+03 0.00e+00 7.84e-01 -11.0 9.26e-02    -  1.00e+00 3.12e-02f  6\n",
      "  86 -3.3845663e+03 0.00e+00 5.76e-01 -11.0 4.32e-02    -  1.00e+00 6.25e-02f  5\n",
      "  87 -3.3845647e+03 0.00e+00 3.69e-01 -11.0 2.87e-02    -  1.00e+00 1.25e-01f  4\n",
      "  88 -3.3845641e+03 0.00e+00 2.39e-01 -11.0 3.38e-02    -  1.00e+00 1.25e-01f  4\n",
      "  89 -3.3845635e+03 0.00e+00 2.95e-01 -11.0 1.12e-02    -  1.00e+00 1.25e-01f  4\n",
      "iter    objective    inf_pr   inf_du lg(mu)  ||d||  lg(rg) alpha_du alpha_pr  ls\n",
      "  90 -3.3845635e+03 0.00e+00 4.77e-01 -11.0 4.90e-03    -  1.00e+00 2.50e-01f  3\n",
      "  91 -3.3845632e+03 0.00e+00 4.11e-01 -11.0 1.40e-02    -  1.00e+00 6.25e-02f  5\n",
      "  92 -3.3845629e+03 0.00e+00 6.87e-01 -11.0 6.14e-02    -  1.00e+00 3.12e-02f  6\n",
      "  93 -3.3845624e+03 0.00e+00 4.46e-01 -11.0 2.21e-02    -  1.00e+00 6.25e-02f  5\n",
      "  94 -3.3845619e+03 0.00e+00 3.51e-01 -11.0 4.98e-03    -  1.00e+00 1.25e-01f  4\n",
      "  95 -3.3845638e+03 0.00e+00 9.76e-01 -11.0 2.10e-03    -  1.00e+00 1.00e+00w  1\n",
      "  96 -3.3845622e+03 0.00e+00 7.15e-01 -11.0 5.81e-03    -  1.00e+00 1.00e+00w  1\n",
      "  97 -3.3846939e+03 0.00e+00 5.67e+00 -11.0 1.03e-02    -  1.00e+00 1.00e+00w  1\n",
      "  98 -3.3845618e+03 0.00e+00 4.53e-01 -11.0 5.23e-03    -  1.00e+00 5.00e-01f  1\n",
      "  99 -3.3845617e+03 0.00e+00 1.58e+00 -11.0 3.71e-03    -  1.00e+00 2.50e-01f  3\n",
      "iter    objective    inf_pr   inf_du lg(mu)  ||d||  lg(rg) alpha_du alpha_pr  ls\n",
      " 100 -3.3845612e+03 0.00e+00 5.17e-01 -11.0 9.57e-03    -  1.00e+00 6.25e-02f  5\n",
      " 101 -3.3845602e+03 0.00e+00 5.44e-01 -11.0 7.63e-03    -  1.00e+00 5.00e-01f  2\n",
      " 102 -3.3845601e+03 0.00e+00 4.39e-01 -11.0 2.58e-02    -  1.00e+00 6.25e-02f  5\n",
      " 103 -3.3845597e+03 0.00e+00 2.64e-01 -11.0 3.48e-02    -  1.00e+00 6.25e-02f  5\n",
      " 104 -3.3845593e+03 0.00e+00 4.46e-01 -11.0 3.55e-02    -  1.00e+00 6.25e-02f  5\n",
      " 105 -3.3845592e+03 0.00e+00 5.27e-01 -11.0 1.14e-01    -  1.00e+00 6.25e-02f  5\n",
      " 106 -3.3845591e+03 0.00e+00 3.06e-01 -11.0 2.72e-01    -  1.00e+00 7.81e-03f  8\n",
      " 107 -3.3845590e+03 0.00e+00 4.39e-01 -11.0 1.21e-01    -  1.00e+00 7.81e-03f  8\n",
      " 108 -3.3845588e+03 0.00e+00 4.16e-01 -11.0 1.75e-02    -  1.00e+00 6.25e-02f  5\n",
      " 109 -3.3845586e+03 0.00e+00 2.78e-01 -11.0 5.48e-03    -  1.00e+00 2.50e-01f  3\n",
      "iter    objective    inf_pr   inf_du lg(mu)  ||d||  lg(rg) alpha_du alpha_pr  ls\n",
      " 110 -3.3845582e+03 0.00e+00 2.02e-01 -11.0 3.74e-02    -  1.00e+00 1.25e-01f  4\n",
      " 111 -3.3845581e+03 0.00e+00 2.47e-01 -11.0 5.23e-02    -  1.00e+00 1.56e-02f  7\n",
      " 112 -3.3845580e+03 0.00e+00 1.76e-01 -11.0 6.37e-03    -  1.00e+00 2.50e-01f  3\n",
      " 113 -3.3845579e+03 0.00e+00 5.02e-01 -11.0 8.91e-03    -  1.00e+00 1.25e-01f  4\n",
      " 114 -3.3845579e+03 0.00e+00 1.86e-01 -11.0 1.37e-02    -  1.00e+00 3.12e-02f  6\n",
      " 115 -3.3845578e+03 0.00e+00 3.66e-01 -11.0 8.43e-03    -  1.00e+00 6.25e-02f  5\n",
      " 116 -3.3845576e+03 0.00e+00 1.68e-01 -11.0 1.51e-03    -  1.00e+00 2.50e-01f  3\n",
      " 117 -3.3845576e+03 0.00e+00 1.12e-01 -11.0 5.20e-04    -  1.00e+00 2.50e-01f  3\n",
      " 118 -3.3845575e+03 0.00e+00 9.36e-02 -11.0 3.53e-04    -  1.00e+00 1.00e+00f  1\n",
      " 119 -3.3845575e+03 0.00e+00 1.13e-01 -11.0 6.86e-04    -  1.00e+00 2.50e-01f  3\n",
      "iter    objective    inf_pr   inf_du lg(mu)  ||d||  lg(rg) alpha_du alpha_pr  ls\n",
      " 120 -3.3845574e+03 0.00e+00 1.62e-01 -11.0 2.41e-03    -  1.00e+00 5.00e-01f  2\n",
      " 121 -3.3845574e+03 0.00e+00 3.22e-01 -11.0 4.20e-02    -  1.00e+00 1.56e-02f  7\n",
      " 122 -3.3845574e+03 0.00e+00 1.33e-01 -11.0 9.01e-02    -  1.00e+00 1.56e-02f  7\n",
      " 123 -3.3845574e+03 0.00e+00 1.14e-01 -11.0 2.93e-02    -  1.00e+00 1.56e-02f  7\n",
      " 124 -3.3845574e+03 0.00e+00 1.72e-01 -11.0 9.15e-03    -  1.00e+00 1.25e-01f  4\n",
      " 125 -3.3845574e+03 0.00e+00 8.78e-02 -11.0 2.09e-02    -  1.00e+00 3.12e-02f  6\n",
      " 126 -3.3845573e+03 0.00e+00 1.65e-01 -11.0 7.67e-03    -  1.00e+00 1.25e-01f  4\n",
      " 127 -3.3845573e+03 0.00e+00 1.92e-01 -11.0 1.80e-02    -  1.00e+00 1.25e-01f  4\n",
      " 128 -3.3845573e+03 0.00e+00 3.44e-01 -11.0 4.83e-02    -  1.00e+00 1.56e-02f  7\n",
      " 129 -3.3845573e+03 0.00e+00 2.97e-01 -11.0 5.14e-02    -  1.00e+00 1.56e-02f  7\n",
      "iter    objective    inf_pr   inf_du lg(mu)  ||d||  lg(rg) alpha_du alpha_pr  ls\n",
      " 130 -3.3845572e+03 0.00e+00 1.56e-01 -11.0 5.97e-03    -  1.00e+00 1.25e-01f  4\n",
      " 131 -3.3845571e+03 0.00e+00 1.52e-01 -11.0 1.78e-02    -  1.00e+00 6.25e-02f  5\n",
      " 132 -3.3845570e+03 0.00e+00 1.25e-01 -11.0 3.00e-02    -  1.00e+00 3.12e-02f  6\n",
      " 133 -3.3845570e+03 0.00e+00 2.32e-01 -11.0 1.03e-01    -  1.00e+00 3.12e-02f  6\n",
      " 134 -3.3845570e+03 0.00e+00 1.26e-01 -11.0 1.45e-01    -  1.00e+00 3.91e-03f  9\n",
      " 135 -3.3845570e+03 0.00e+00 2.85e-01 -11.0 6.95e-03    -  1.00e+00 3.12e-02f  6\n",
      " 136 -3.3845570e+03 0.00e+00 1.06e-01 -11.0 7.57e-03    -  1.00e+00 3.12e-02f  6\n",
      " 137 -3.3845569e+03 0.00e+00 9.53e-02 -11.0 2.62e-03    -  1.00e+00 5.00e-01f  2\n",
      " 138 -3.3845569e+03 0.00e+00 7.93e-02 -11.0 5.61e-02    -  1.00e+00 1.56e-02f  7\n",
      " 139 -3.3845569e+03 0.00e+00 7.68e-02 -11.0 4.10e-02    -  1.00e+00 1.56e-02f  7\n",
      "iter    objective    inf_pr   inf_du lg(mu)  ||d||  lg(rg) alpha_du alpha_pr  ls\n",
      " 140 -3.3845569e+03 0.00e+00 7.48e-02 -11.0 4.37e-03    -  1.00e+00 1.56e-02f  7\n",
      " 141 -3.3845569e+03 0.00e+00 3.30e-02 -11.0 5.61e-04    -  1.00e+00 1.00e+00f  1\n",
      " 142 -3.3845569e+03 0.00e+00 4.64e-02 -11.0 2.14e-02    -  1.00e+00 1.56e-02f  7\n",
      " 143 -3.3845569e+03 0.00e+00 5.10e-02 -11.0 2.56e-03    -  1.00e+00 1.56e-02f  7\n",
      " 144 -3.3845568e+03 0.00e+00 1.08e-01 -11.0 8.84e-04    -  1.00e+00 5.00e-01f  2\n",
      " 145 -3.3845568e+03 0.00e+00 6.41e-02 -11.0 1.78e-02    -  1.00e+00 6.25e-02f  5\n",
      " 146 -3.3845568e+03 0.00e+00 9.98e-02 -11.0 1.03e-02    -  1.00e+00 1.56e-02f  7\n",
      " 147 -3.3845568e+03 0.00e+00 5.48e-02 -11.0 4.56e-03    -  1.00e+00 6.25e-02f  5\n",
      " 148 -3.3845568e+03 0.00e+00 8.21e-02 -11.0 1.33e-03    -  1.00e+00 5.00e-01f  2\n",
      " 149 -3.3845568e+03 0.00e+00 8.01e-02 -11.0 1.90e-02    -  1.00e+00 3.12e-02f  6\n",
      "iter    objective    inf_pr   inf_du lg(mu)  ||d||  lg(rg) alpha_du alpha_pr  ls\n",
      " 150 -3.3845568e+03 0.00e+00 8.70e-02 -11.0 5.21e-03    -  1.00e+00 1.56e-02f  7\n",
      " 151 -3.3845568e+03 0.00e+00 1.25e-01 -11.0 2.22e-03    -  1.00e+00 1.25e-01f  4\n",
      " 152 -3.3845775e+03 0.00e+00 2.98e+00 -11.0 7.47e-03    -  1.00e+00 1.00e+00w  1\n",
      " 153 -3.3845572e+03 0.00e+00 3.00e-01 -11.0 8.62e-03    -  1.00e+00 1.00e+00w  1\n",
      " 154 -3.3847110e+03 0.00e+00 7.13e+00 -11.0 1.41e-02    -  1.00e+00 1.00e+00w  1\n",
      " 155 -3.3845567e+03 0.00e+00 5.16e-02 -11.0 1.45e-02    -  1.00e+00 3.12e-02f  5\n",
      " 156 -3.3845567e+03 0.00e+00 6.53e-02 -11.0 1.04e-03    -  1.00e+00 1.25e-01f  4\n",
      " 157 -3.3845567e+03 0.00e+00 6.85e-02 -11.0 1.57e-04    -  1.00e+00 2.50e-01f  3\n",
      " 158 -3.3845567e+03 0.00e+00 6.30e-02 -11.0 4.30e-04    -  1.00e+00 1.25e-01f  4\n",
      " 159 -3.3845567e+03 0.00e+00 3.04e-02 -11.0 9.22e-05    -  1.00e+00 1.00e+00f  1\n",
      "iter    objective    inf_pr   inf_du lg(mu)  ||d||  lg(rg) alpha_du alpha_pr  ls\n",
      " 160 -3.3845567e+03 0.00e+00 2.62e-02 -11.0 1.10e-04    -  1.00e+00 5.00e-01f  2\n",
      " 161 -3.3845567e+03 0.00e+00 2.91e-02 -11.0 2.54e-04    -  1.00e+00 1.00e+00f  1\n",
      " 162 -3.3845567e+03 0.00e+00 2.68e-02 -11.0 1.07e-03    -  1.00e+00 3.12e-02f  6\n",
      " 163 -3.3845567e+03 0.00e+00 4.32e-02 -11.0 9.25e-05    -  1.00e+00 1.00e+00f  1\n",
      " 164 -3.3845567e+03 0.00e+00 2.89e-02 -11.0 2.57e-04    -  1.00e+00 2.50e-01f  3\n",
      " 165 -3.3845567e+03 0.00e+00 5.10e-02 -11.0 7.05e-04    -  1.00e+00 3.12e-02f  6\n",
      " 166 -3.3845567e+03 0.00e+00 2.42e-02 -11.0 2.24e-04    -  1.00e+00 5.00e-01f  2\n",
      " 167 -3.3845567e+03 0.00e+00 2.26e-02 -11.0 1.33e-04    -  1.00e+00 2.50e-01f  3\n",
      " 168 -3.3845567e+03 0.00e+00 2.58e-02 -11.0 3.52e-05    -  1.00e+00 1.00e+00f  1\n",
      " 169 -3.3845567e+03 0.00e+00 1.26e-02 -11.0 2.59e-05    -  1.00e+00 5.00e-01f  2\n",
      "iter    objective    inf_pr   inf_du lg(mu)  ||d||  lg(rg) alpha_du alpha_pr  ls\n",
      " 170 -3.3845567e+03 0.00e+00 6.49e-03 -11.0 1.25e-05    -  1.00e+00 1.00e+00f  1\n",
      " 171 -3.3845567e+03 0.00e+00 1.03e-02 -11.0 2.05e-05    -  1.00e+00 1.00e+00f  1\n",
      " 172 -3.3845567e+03 0.00e+00 4.26e-02 -11.0 3.26e-05    -  1.00e+00 1.00e+00f  1\n",
      " 173 -3.3845567e+03 0.00e+00 1.29e-02 -11.0 5.36e-04    -  1.00e+00 3.12e-02f  6\n",
      " 174 -3.3845567e+03 0.00e+00 1.75e-02 -11.0 9.89e-05    -  1.00e+00 2.50e-01f  3\n",
      " 175 -3.3845567e+03 0.00e+00 6.70e-03 -11.0 3.02e-05    -  1.00e+00 1.00e+00f  1\n",
      " 176 -3.3845567e+03 0.00e+00 2.13e-02 -11.0 6.08e-05    -  1.00e+00 5.00e-01f  2\n",
      " 177 -3.3845567e+03 0.00e+00 2.13e-02 -11.0 5.12e-05    -  1.00e+00 1.00e+00f  1\n",
      " 178 -3.3845567e+03 0.00e+00 1.37e-02 -11.0 6.58e-05    -  1.00e+00 5.00e-01f  2\n",
      " 179 -3.3845567e+03 0.00e+00 1.37e-02 -11.0 5.86e-04    -  1.00e+00 6.25e-02f  5\n",
      "iter    objective    inf_pr   inf_du lg(mu)  ||d||  lg(rg) alpha_du alpha_pr  ls\n",
      " 180 -3.3845567e+03 0.00e+00 1.12e-02 -11.0 3.33e-04    -  1.00e+00 3.12e-02f  6\n",
      " 181 -3.3845567e+03 0.00e+00 1.03e-02 -11.0 2.16e-04    -  1.00e+00 1.25e-01f  4\n",
      " 182 -3.3845567e+03 0.00e+00 1.01e-02 -11.0 1.88e-04    -  1.00e+00 2.50e-01f  3\n",
      " 183 -3.3845567e+03 0.00e+00 1.10e-02 -11.0 6.57e-04    -  1.00e+00 1.25e-01f  4\n",
      " 184 -3.3845567e+03 0.00e+00 1.28e-02 -11.0 1.01e-03    -  1.00e+00 2.50e-01f  3\n",
      " 185 -3.3845567e+03 0.00e+00 1.68e-02 -11.0 1.58e-03    -  1.00e+00 1.25e-01f  4\n",
      " 186 -3.3845567e+03 0.00e+00 1.15e-02 -11.0 8.72e-04    -  1.00e+00 6.25e-02f  5\n",
      " 187 -3.3845567e+03 0.00e+00 3.51e-02 -11.0 2.63e-04    -  1.00e+00 1.25e-01f  4\n",
      " 188 -3.3845567e+03 0.00e+00 8.07e-03 -11.0 9.99e-04    -  1.00e+00 3.12e-02f  6\n",
      " 189 -3.3845567e+03 0.00e+00 2.09e-02 -11.0 5.47e-04    -  1.00e+00 2.50e-01f  3\n",
      "iter    objective    inf_pr   inf_du lg(mu)  ||d||  lg(rg) alpha_du alpha_pr  ls\n",
      " 190 -3.3845567e+03 0.00e+00 6.77e-03 -11.0 3.18e-03    -  1.00e+00 6.25e-02f  5\n",
      " 191 -3.3845567e+03 0.00e+00 7.25e-03 -11.0 7.14e-04    -  1.00e+00 3.12e-02f  6\n",
      " 192 -3.3845567e+03 0.00e+00 9.84e-03 -11.0 2.20e-04    -  1.00e+00 1.00e+00f  1\n",
      " 193 -3.3845567e+03 0.00e+00 5.53e-03 -11.0 3.95e-03    -  1.00e+00 1.56e-02f  7\n",
      " 194 -3.3845567e+03 0.00e+00 5.82e-03 -11.0 1.67e-04    -  1.00e+00 6.25e-02f  5\n",
      " 195 -3.3845567e+03 0.00e+00 8.77e-03 -11.0 5.18e-05    -  1.00e+00 1.25e-01f  4\n",
      " 196 -3.3845567e+03 0.00e+00 5.71e-03 -11.0 2.42e-04    -  1.00e+00 5.00e-01f  2\n",
      " 197 -3.3845567e+03 0.00e+00 4.76e-03 -11.0 7.24e-04    -  1.00e+00 1.56e-02f  7\n",
      " 198 -3.3845567e+03 0.00e+00 4.13e-03 -11.0 4.80e-05    -  1.00e+00 1.00e+00f  1\n",
      " 199 -3.3845567e+03 0.00e+00 4.05e-03 -11.0 7.98e-04    -  1.00e+00 6.25e-02f  5\n",
      "iter    objective    inf_pr   inf_du lg(mu)  ||d||  lg(rg) alpha_du alpha_pr  ls\n",
      " 200 -3.3845567e+03 0.00e+00 3.14e-03 -11.0 1.43e-03    -  1.00e+00 3.12e-02f  6\n",
      " 201 -3.3845567e+03 0.00e+00 6.80e-03 -11.0 1.50e-04    -  1.00e+00 1.25e-01f  4\n",
      " 202 -3.3845567e+03 0.00e+00 2.26e-02 -11.0 1.63e-04    -  1.00e+00 2.50e-01f  3\n",
      " 203 -3.3845567e+03 0.00e+00 7.47e-03 -11.0 1.10e-03    -  1.00e+00 3.12e-02f  6\n",
      " 204 -3.3845567e+03 0.00e+00 6.82e-03 -11.0 3.00e-04    -  1.00e+00 1.25e-01f  4\n",
      " 205 -3.3845567e+03 0.00e+00 5.00e-03 -11.0 2.46e-04    -  1.00e+00 6.25e-02f  5\n",
      " 206 -3.3845567e+03 0.00e+00 3.50e-03 -11.0 3.30e-05    -  1.00e+00 2.50e-01f  3\n",
      " 207 -3.3845567e+03 0.00e+00 3.56e-03 -11.0 3.99e-05    -  1.00e+00 5.00e-01f  2\n",
      " 208 -3.3845567e+03 0.00e+00 2.25e-03 -11.0 1.22e-04    -  1.00e+00 1.25e-01f  4\n",
      " 209 -3.3845567e+03 0.00e+00 1.19e-02 -11.0 7.62e-05    -  1.00e+00 1.00e+00w  1\n",
      "iter    objective    inf_pr   inf_du lg(mu)  ||d||  lg(rg) alpha_du alpha_pr  ls\n",
      " 210 -3.3845567e+03 0.00e+00 1.89e-01 -11.0 5.85e-05    -  1.00e+00 1.00e+00w  1\n",
      " 211 -3.3845567e+03 0.00e+00 6.20e-02 -11.0 7.41e-05    -  1.00e+00 1.00e+00w  1\n",
      " 212 -3.3845567e+03 0.00e+00 2.25e-03 -11.0 7.93e-05    -  1.00e+00 1.25e-01f  3\n",
      " 213 -3.3845567e+03 0.00e+00 1.71e-03 -11.0 4.18e-06    -  1.00e+00 5.00e-01f  2\n",
      " 214 -3.3845567e+03 0.00e+00 1.49e-03 -11.0 1.32e-05    -  1.00e+00 1.00e+00f  1\n",
      " 215 -3.3845567e+03 0.00e+00 2.03e-03 -11.0 6.51e-05    -  1.00e+00 6.25e-02f  5\n",
      " 216 -3.3845567e+03 0.00e+00 2.76e-03 -11.0 1.98e-05    -  1.00e+00 5.00e-01f  2\n",
      " 217 -3.3845567e+03 0.00e+00 5.71e-03 -11.0 5.12e-05    -  1.00e+00 6.25e-02f  5\n",
      " 218 -3.3845567e+03 0.00e+00 3.63e-03 -11.0 5.39e-05    -  1.00e+00 1.25e-01f  4\n",
      " 219 -3.3845567e+03 0.00e+00 4.03e-03 -11.0 5.80e-05    -  1.00e+00 1.25e-01f  4\n",
      "iter    objective    inf_pr   inf_du lg(mu)  ||d||  lg(rg) alpha_du alpha_pr  ls\n",
      " 220 -3.3845567e+03 0.00e+00 2.70e-03 -11.0 4.39e-05    -  1.00e+00 6.25e-02f  5\n",
      " 221 -3.3845567e+03 0.00e+00 1.68e-03 -11.0 1.45e-05    -  1.00e+00 1.25e-01f  4\n",
      " 222 -3.3845567e+03 0.00e+00 1.52e-03 -11.0 7.22e-06    -  1.00e+00 5.00e-01f  2\n",
      " 223 -3.3845567e+03 0.00e+00 1.01e-03 -11.0 8.18e-06    -  1.00e+00 5.00e-01f  2\n",
      " 224 -3.3845567e+03 0.00e+00 1.47e-03 -11.0 5.02e-06    -  1.00e+00 2.50e-01f  3\n",
      " 225 -3.3845567e+03 0.00e+00 2.26e-03 -11.0 2.97e-06    -  1.00e+00 1.00e+00f  1\n",
      " 226 -3.3845567e+03 0.00e+00 1.38e-03 -11.0 5.31e-05    -  1.00e+00 3.12e-02f  6\n",
      " 227 -3.3845567e+03 0.00e+00 5.20e-04 -11.0 2.20e-06    -  1.00e+00 1.00e+00f  1\n",
      "\n",
      "Number of Iterations....: 227\n",
      "\n",
      "                                   (scaled)                 (unscaled)\n",
      "Objective...............:   7.6940451998041283e+02   -3.3845566947936622e+03\n",
      "Dual infeasibility......:   5.1983005388388682e-04    2.2866960660335727e-03\n",
      "Constraint violation....:   0.0000000000000000e+00    0.0000000000000000e+00\n",
      "Variable bound violation:   0.0000000000000000e+00    0.0000000000000000e+00\n",
      "Complementarity.........:   9.9999999997257373e-12    4.3989300904899793e-11\n",
      "Overall NLP error.......:   5.1983005388388682e-04    2.2866960660335727e-03\n",
      "\n",
      "\n",
      "Number of objective function evaluations             = 1568\n",
      "Number of objective gradient evaluations             = 228\n",
      "Number of equality constraint evaluations            = 0\n",
      "Number of inequality constraint evaluations          = 0\n",
      "Number of equality constraint Jacobian evaluations   = 0\n",
      "Number of inequality constraint Jacobian evaluations = 0\n",
      "Number of Lagrangian Hessian evaluations             = 0\n",
      "Total seconds in IPOPT                               = 41.135\n",
      "\n",
      "EXIT: Optimal Solution Found.\n",
      " 41.455612 seconds (235.13 M allocations: 8.875 GiB, 3.50% gc time, 64.85% compilation time)\n"
     ]
    }
   ],
   "source": [
    "@time optm = QuasiCopula.fit!(qc_model);"
   ]
  },
  {
   "cell_type": "code",
   "execution_count": 3,
   "metadata": {
    "collapsed": false
   },
   "outputs": [
    {
     "data": {
      "text/plain": [
       "24-element Vector{Float64}:\n",
       " -7.657580643316564e-5\n",
       " -0.00017302299283394884\n",
       " -0.00017062221561570112\n",
       " -0.0002492477924436187\n",
       " -0.0005507713566261785\n",
       " -0.00177751432731732\n",
       " -3.3651296259762375e-5\n",
       "  0.00117505001150775\n",
       "  0.00016635409471765783\n",
       " -0.0011427227694476016\n",
       " -0.0009617868192783874\n",
       "  0.0009169182820762956\n",
       " -0.00027428356150355215\n",
       " -8.960098604293698e-6\n",
       "  0.00031373628677805465\n",
       "  8.528780041244799e-5\n",
       " -0.0004669565015089361\n",
       " -0.0006371941017886407\n",
       " -0.00042553751958013253\n",
       " -0.0004441114456875493\n",
       "  0.00030711467284472486\n",
       "  4.688049839417933e-5\n",
       " -0.0007895513014783972\n",
       " -0.002286696451566872"
      ]
     },
     "execution_count": 3,
     "metadata": {},
     "output_type": "execute_result"
    }
   ],
   "source": [
    "qc_model.grad"
   ]
  },
  {
   "cell_type": "code",
   "execution_count": 4,
   "metadata": {
    "collapsed": false
   },
   "outputs": [
    {
     "data": {
      "text/plain": [
       "12×2 Matrix{Float64}:\n",
       "  0.204517    0.305835\n",
       " -0.120459    0.0170739\n",
       " -0.411158   -0.415126\n",
       " -0.112294   -0.119596\n",
       " -0.431086   -0.42704\n",
       "  0.164881    0.161027\n",
       "  0.285556    0.305041\n",
       " -0.52065    -0.469424\n",
       " -0.329481   -0.322471\n",
       " -0.284317   -0.280861\n",
       "  0.26455     0.26103\n",
       " -0.0762205  -0.0705876"
      ]
     },
     "execution_count": 4,
     "metadata": {},
     "output_type": "execute_result"
    }
   ],
   "source": [
    "[vec(qc_model.B) vec(Btrue)]"
   ]
  },
  {
   "cell_type": "code",
   "execution_count": 5,
   "metadata": {
    "collapsed": false,
    "scrolled": true
   },
   "outputs": [
    {
     "data": {
      "text/plain": [
       "4×4 Matrix{Float64}:\n",
       " 1.0       0.888055  0.489064  0.69172\n",
       " 0.888055  1.0       0.83532   0.946292\n",
       " 0.489064  0.83532   1.0       0.968203\n",
       " 0.69172   0.946292  0.968203  1.0"
      ]
     },
     "execution_count": 5,
     "metadata": {},
     "output_type": "execute_result"
    }
   ],
   "source": [
    "# compare Γ\n",
    "L = qc_model.L\n",
    "cov2cor(L.L*L.L')"
   ]
  },
  {
   "cell_type": "code",
   "execution_count": 6,
   "metadata": {
    "collapsed": false
   },
   "outputs": [
    {
     "data": {
      "text/plain": [
       "4×4 Matrix{Float64}:\n",
       " 1.0       0.75    0.5625  0.421875\n",
       " 0.75      1.0     0.75    0.5625\n",
       " 0.5625    0.75    1.0     0.75\n",
       " 0.421875  0.5625  0.75    1.0"
      ]
     },
     "execution_count": 6,
     "metadata": {},
     "output_type": "execute_result"
    }
   ],
   "source": [
    "cov2cor(Γtrue)"
   ]
  },
  {
   "cell_type": "code",
   "execution_count": 7,
   "metadata": {
    "collapsed": false
   },
   "outputs": [
    {
     "data": {
      "text/plain": [
       "2×2 Matrix{Float64}:\n",
       " 0.240306  0.1\n",
       " 0.1141    0.1"
      ]
     },
     "execution_count": 7,
     "metadata": {},
     "output_type": "execute_result"
    }
   ],
   "source": [
    "# compare nuisance parameters \n",
    "[qc_model.ϕ [σ2true for _ in 1:length(qc_model.ϕ)]]"
   ]
  },
  {
   "cell_type": "markdown",
   "metadata": {},
   "source": [
    "## GWAS via likelihood ratio test on top SNPs"
   ]
  },
  {
   "cell_type": "code",
   "execution_count": 15,
   "metadata": {
    "collapsed": false
   },
   "outputs": [
    {
     "name": "stderr",
     "output_type": "stream",
     "text": [
      "\u001b[32mEstimating grad under null 100%|█████████████████████████| Time: 0:00:41\u001b[39m\n",
      "\u001b[32mRunning LRT until -log10(p) < 3.3010299956639813 Time: 0:01:00 (10 iterations)\u001b[39m)\u001b[39m\n"
     ]
    },
    {
     "name": "stdout",
     "output_type": "stream",
     "text": [
      "power = 0.9, FP = 0\n"
     ]
    }
   ],
   "source": [
    "# gwas\n",
    "result = QuasiCopula.multivariateGWAS_adhoc_lrt(qc_model, G)\n",
    "# result = QuasiCopula.multivariateGWAS_adhoc_lrt(qc_model, G, pval_cutoff=1.0)\n",
    "pvals = result.pvals\n",
    "\n",
    "# compute power\n",
    "discovered_snps = findall(x -> x < 0.05/length(pvals), pvals)\n",
    "causal_snps = unique!([x[1] for x in findall(!iszero, γtrue)])\n",
    "power = length(discovered_snps ∩ causal_snps) / length(causal_snps)\n",
    "FP = length(setdiff(discovered_snps, causal_snps))\n",
    "println(\"power = $power, FP = $FP\")"
   ]
  },
  {
   "cell_type": "markdown",
   "metadata": {},
   "source": [
    "Check QQ plot"
   ]
  },
  {
   "cell_type": "code",
   "execution_count": 102,
   "metadata": {
    "collapsed": false
   },
   "outputs": [
    {
     "data": {
      "image/png": "[encoded data removed]"
     },
     "metadata": {},
     "output_type": "display_data"
    }
   ],
   "source": [
    "using MendelPlots\n",
    "\n",
    "# 2 normal, 1 bernoulli, 1 poisson\n",
    "qq(pvals, dpi=100, titles=\"4 traits, $k causal SNPs\")\n",
    "display(\"image/png\", read(\"qqplot.png\"))"
   ]
  },
  {
   "cell_type": "code",
   "execution_count": null,
   "metadata": {
    "collapsed": true
   },
   "outputs": [],
   "source": []
  }
 ],
 "metadata": {
  "@webio": {
   "lastCommId": null,
   "lastKernelId": null
  },
  "kernelspec": {
   "display_name": "Julia 1.10.3",
   "language": "julia",
   "name": "julia-1.10"
  },
  "language_info": {
   "file_extension": ".jl",
   "mimetype": "application/julia",
   "name": "julia",
   "version": "1.10.3"
  },
  "toc": {
   "base_numbering": 1,
   "nav_menu": {},
   "number_sections": true,
   "sideBar": true,
   "skip_h1_title": false,
   "title_cell": "Table of Contents",
   "title_sidebar": "Contents",
   "toc_cell": false,
   "toc_position": {},
   "toc_section_display": true,
   "toc_window_display": false
  }
 },
 "nbformat": 4,
 "nbformat_minor": 2
}
