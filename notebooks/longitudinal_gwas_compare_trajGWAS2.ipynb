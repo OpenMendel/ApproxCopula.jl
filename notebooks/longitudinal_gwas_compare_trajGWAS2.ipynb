{
 "cells": [
  {
   "cell_type": "markdown",
   "metadata": {},
   "source": [
    "# QuasiCopula vs TrajGWAS on Hapmap simulated data\n",
    "\n",
    "Lets simulate data following TrajGWAS.jl model\n",
    "\n",
    "$$y_{ij} = \\mathbf{x}_{ij}^t\\mathbf{\\beta} + g_i\\beta_g + \\mathbf{z}_{ij}^t\\mathbf{\\gamma}_i + \\epsilon_{ij}$$\n",
    "\n",
    "+ $\\beta$: fixed effects\n",
    "+ $\\gamma_i$: random effects (in model below, there is only a random intercept term here, i.e. z is vector of 1s)\n",
    "+ $\\epsilon$: a term that gives non constant variance\n",
    "\n",
    "**Below, it seems that including $\\gamma$ causes issues with QuasiCopula model, but including $\\epsilon$ seems mostly okay**"
   ]
  },
  {
   "cell_type": "code",
   "execution_count": 13,
   "metadata": {
    "collapsed": false
   },
   "outputs": [
    {
     "name": "stdout",
     "output_type": "stream",
     "text": [
      "run = 1, ‖Δβ‖ = 0.000000, ‖Δτ‖ = 0.001392, ‖ΔL‖ = 0.000000, status = LOCALLY_SOLVED, time(s) = 0.007155\n",
      "run = 2, ‖Δβ‖ = 0.000000, ‖Δτ‖ = 0.000000, ‖ΔL‖ = 0.000000, status = LOCALLY_SOLVED, time(s) = 0.002920\n"
     ]
    },
    {
     "name": "stderr",
     "output_type": "stream",
     "text": [
      "\u001b[33m\u001b[1m┌ \u001b[22m\u001b[39m\u001b[33m\u001b[1mWarning: \u001b[22m\u001b[39mstarting Lγ is rank deficient\n",
      "\u001b[33m\u001b[1m└ \u001b[22m\u001b[39m\u001b[90m@ WiSER ~/.julia/packages/WiSER/Yi6BX/src/initialization.jl:63\u001b[39m\n"
     ]
    },
    {
     "name": "stdout",
     "output_type": "stream",
     "text": [
      "  0.221960 seconds (1.36 M allocations: 126.728 MiB, 3.78% compilation time)\n",
      "traj_model.β = [10.164508230435844, -3.2903012801785203, 0.4841907714958906, 0.4247426692922343, 1.5341098425379087, 0.22436680935540676, 0.7007804765237207]\n",
      "qc_model.β = [10.164508229491911, -3.2903012802017875, 0.48419077204669625, 0.42474266933943455, 1.5341098427161481, 0.22436680952610186, 0.7007804766290849]\n",
      "qc_model.θ = [5.026729786386933e-8]\n",
      "qc_model.τ = [0.40277530990618343]\n",
      "qc_model.∇β = [1.682620391352252e-7, 8.534185580444387e-8, -9.344533474786587e-8, 2.294395712310049e-7, 1.3490916601910374e-7, 9.139495238397188e-8, 1.2207570526667766e-7]\n",
      "qc_model.∇θ = [-0.00016545866416839417]\n",
      "qc_model.∇τ = [6.413755291312384e-7]\n",
      "QuasiCopula.loglikelihood!(qc_model, false, false) = -6070.550722965878\n",
      "nlsv_obj!(traj_model, false, false, false) = 24392.882351896318\n"
     ]
    },
    {
     "name": "stderr",
     "output_type": "stream",
     "text": [
      "\u001b[32mProgress: 100%|█████████████████████████████████████████| Time: 0:00:06\u001b[39m\n"
     ]
    },
    {
     "name": "stdout",
     "output_type": "stream",
     "text": [
      "Wtime = 3.040602305000002\n",
      "Qtime = 2.1104673660000004\n",
      "Rtime = 1.0910556090000068\n",
      "grad_res_time = 0.21089139100000054\n",
      "othertime = 0.055336199999999953\n",
      "scoretest_time = 0.008146976999999904\n",
      "  6.944641 seconds (27.60 M allocations: 1.492 GiB, 4.07% gc time)\n"
     ]
    },
    {
     "data": {
      "text/plain": [
       "13928×2 Matrix{Float64}:\n",
       " NaN          1.0\n",
       "   0.241281   0.232477\n",
       "   0.284814   0.303274\n",
       "   0.222035   0.274719\n",
       "   1.0        1.0\n",
       " NaN          1.0\n",
       "   0.256396   0.513075\n",
       "   0.450362   0.41475\n",
       "   0.941506   0.931296\n",
       "   0.107702   0.0844634\n",
       " NaN          1.0\n",
       "   0.289909   0.274075\n",
       "   0.0632801  0.0935868\n",
       "   ⋮          \n",
       "   0.0588143  0.053275\n",
       "   0.0524087  0.0465892\n",
       "   0.06472    0.0600237\n",
       "   0.0928379  0.0838416\n",
       "   0.109631   0.0989446\n",
       "   0.155981   0.158071\n",
       "   0.08017    0.0736497\n",
       "   0.0539554  0.0455461\n",
       "   0.0815417  0.0743966\n",
       "   0.711328   0.340292\n",
       "   0.268776   0.183308\n",
       "   0.692843   0.53173"
      ]
     },
     "execution_count": 13,
     "metadata": {},
     "output_type": "execute_result"
    }
   ],
   "source": [
    "# simulation script modified from: https://github.com/OpenMendel/TrajGWAS.jl/blob/main/data/sim_data.jl\n",
    "\n",
    "using SnpArrays, WiSER, TrajGWAS, Random, QuasiCopula, Suppressor\n",
    "using DataFrames, CSV, Statistics, Distributions, GLM, LinearAlgebra, StatsBase\n",
    "\n",
    "datadir = normpath(joinpath(dirname(pathof(TrajGWAS)), \"../data/\"))\n",
    "gen_file = joinpath(datadir * \"hapmap3\") # plink file without bed/bim/fam extensions\n",
    "covfile = \"trajgwas_plinkex.csv\"\n",
    "pvalpath = \"trajGWAS_pval.csv\"\n",
    "\n",
    "# PLINK data \n",
    "hapmap = SnpArray(gen_file * \".bed\")\n",
    "famids = CSV.read(gen_file * \".fam\", DataFrame, header=false)[!, 1]\n",
    "hapmap = convert(Matrix{Float64}, hapmap, model=ADDITIVE_MODEL, impute=true)\n",
    "toplist = sortperm(vec(var(hapmap, dims=1))[1:12000], rev=true)[1:30]\n",
    "\n",
    "# simulation parameters\n",
    "m, _ = size(hapmap)\n",
    "ni = 10\n",
    "Random.seed!(310)\n",
    "sex = rand(0:1, m)\n",
    "timeinvarX = [sex hapmap[:, 7828] hapmap[:, 8250] hapmap[:, 5] hapmap[:, 11793]] # time invariant covariates\n",
    "p = 7\n",
    "l = 7\n",
    "q = 1\n",
    "\n",
    "βtrue = [10.0; -3.2; 0.5; 0.5; 1.5; 0.25; 0.75]\n",
    "τtrue = [0.2; -0.3; 0.5; -0.5; 0.5; 0.25; 0.15]\n",
    "Σγ    = Matrix(Diagonal([2])) # does this mean γ ~ N(0, 2)? \n",
    "δγω   = [0.0]\n",
    "σω    = [0.0]\n",
    "\n",
    "Σγω   = [Σγ δγω; δγω' σω]\n",
    "Lγω   = cholesky(Symmetric(Σγω), check = false).L\n",
    "Lγ    = Lγω[1:q, 1:q]\n",
    "lγω   = Lγω[q + 1, 1:q]\n",
    "lω    = Lγω[q + 1, q + 1]\n",
    "\n",
    "γω = Vector{Float64}(undef, q + 1)\n",
    "z  = similar(γω) # hold vector of iid std normal\n",
    "\n",
    "df = DataFrame()\n",
    "obsvec = Vector{WSVarLmmObs{Float64}}(undef, m)\n",
    "for i in 1:m\n",
    "    sex_i = timeinvarX[i, 1]\n",
    "    snp1_i = timeinvarX[i, 2]\n",
    "    snp2_i = timeinvarX[i, 3]\n",
    "    snp3_i = timeinvarX[i, 4]\n",
    "    snp4_i = timeinvarX[i, 5]\n",
    "    # Xu from a normal dist 0 mean 2 std \n",
    "    OnMeds = rand([0, 1], ni)\n",
    "    # first column intercept, remaining entries iid std normal\n",
    "    X = Matrix{Float64}(undef, ni, p)\n",
    "    X[:, 1] .= 1\n",
    "    X[:, 2] .= sex_i\n",
    "    X[:, 3] = OnMeds\n",
    "    X[:, 4] .= snp1_i\n",
    "    X[:, 5] .= snp2_i\n",
    "    X[:, 6] .= snp3_i\n",
    "    X[:, 7] .= snp4_i\n",
    "\n",
    "    # random intercept column\n",
    "    Z = Matrix{Float64}(undef, ni, q)\n",
    "    Z[:, 1] .= 1\n",
    "\n",
    "    # first column intercept, remaining entries iid std normal\n",
    "    W = Matrix{Float64}(undef, ni, l)\n",
    "    W[:, 1] .= 1\n",
    "    W[:, 2] .= sex_i\n",
    "    W[:, 3] = OnMeds\n",
    "    W[:, 4] .= snp1_i\n",
    "    W[:, 5] .= snp2_i\n",
    "    W[:, 6] .= snp3_i\n",
    "    W[:, 7] .= snp4_i\n",
    "    # generate random effects: γω = Lγω * z\n",
    "    mul!(γω, Lγω, randn!(z))\n",
    "    \n",
    "#   # generate y (full original model) -> doesn't work\n",
    "#     μy = X * βtrue + Z * γω[1:q]\n",
    "#     @views ysd = exp.(0.5 .* (W * τtrue .+ dot(γω[1:q], lγω) .+ γω[end]))\n",
    "#     y = ysd .* randn(ni) .+ μy\n",
    "    \n",
    "#   # y without random effects in variance -> doesn't work\n",
    "    μy = X * βtrue + Z * γω[1:q]\n",
    "    @views ysd = exp.(0.5 .* (W * τtrue))\n",
    "    y = ysd .* randn(ni) .+ μy\n",
    "        \n",
    "#   # y without random effects in mean -> works\n",
    "#     μy = X * βtrue\n",
    "#     @views ysd = exp.(0.5 .* (W * τtrue .+ dot(γω[1:q], lγω) .+ γω[end]))\n",
    "#     y = ysd .* randn(ni) .+ μy\n",
    "    \n",
    "#     # y without random effects -> works\n",
    "#     μy = X * βtrue\n",
    "#     ysd = exp.(0.5 .* (W * τtrue))\n",
    "#     y = ysd .* randn(ni) .+ μy\n",
    "    \n",
    "    # form a VarLmmObs instance\n",
    "    obsvec[i] = WSVarLmmObs(y, X, Z, W)\n",
    "    tempdf = hcat(DataFrame(X[:, 2:end], \n",
    "        [:sex, :onMeds, :snp1, :snp2, :snp3, :snp4]),\n",
    "        DataFrame(y = y, id = fill(famids[i], ni))\n",
    "    )\n",
    "    df = vcat(df, tempdf)\n",
    "end\n",
    "\n",
    "# create different versions of \"rescaled y\"\n",
    "df[!, \"y_scaled\"] = zeros(size(df, 1));\n",
    "df[!, \"y_scaled2\"] = zeros(size(df, 1));\n",
    "for df_sub in groupby(df, :id)\n",
    "    μ = mean(df_sub[!, \"y\"])\n",
    "    y1 = df_sub[1, \"y\"]\n",
    "    df_sub[!, \"y_scaled\"] .= df_sub[!, \"y\"] .- μ\n",
    "    df_sub[!, \"y_scaled2\"] .= df_sub[!, \"y\"] .- y1\n",
    "end\n",
    "CSV.write(\"trajgwas_plinkex.csv\", df)\n",
    "\n",
    "# trajGWAS\n",
    "@time traj_model = trajgwas(\n",
    "    @formula(y ~ 1 + sex + onMeds + snp1 + snp2 + snp3 + snp4), # formula for mean effects\n",
    "    @formula(y ~ 1),\n",
    "#     @formula(y ~ 1 + sex + onMeds),\n",
    "    @formula(y ~ 1),\n",
    "    :id, \n",
    "    covfile, \n",
    "    gen_file, \n",
    "    pvalfile = pvalpath, \n",
    "    usespa = false,       # saddle point approximation\n",
    "    verbose = false\n",
    ")\n",
    "# @show traj_model\n",
    "@show traj_model.β\n",
    "\n",
    "\n",
    "# QuasiCopula GWAS (1 VC model) --> gradient of variance components not 0\n",
    "# df = CSV.read(covfile, DataFrame)\n",
    "# y = :y\n",
    "# d = Normal()\n",
    "# link = IdentityLink()\n",
    "# covariates = [:sex, :onMeds, :snp1, :snp2, :snp3, :snp4]\n",
    "# qc_model = VC_model(df, y, :id, covariates, d, link)\n",
    "# QuasiCopula.fit!(qc_model)\n",
    "\n",
    "\n",
    "# QuasiCopula GWAS (>1 variance components)\n",
    "df = CSV.read(covfile, DataFrame)\n",
    "y = :y # :y, :y_scaled, or :y_scaled2 \n",
    "d = Normal()\n",
    "link = IdentityLink()\n",
    "covariates = [:sex, :onMeds, :snp1, :snp2, :snp3, :snp4]\n",
    "V = Vector{Matrix{Float64}}[]\n",
    "counter = countmap(df[!, :id])\n",
    "for (i, di) in sort(collect(counter), by = x->x[1])\n",
    "#     # 2 VC\n",
    "#     V1 = ones(di)*ones(di)'\n",
    "#     V2 = Matrix(I, di, di)\n",
    "#     push!(V, [V1, V2])\n",
    "    \n",
    "    # only 1s\n",
    "#     V1 = ones(di)*ones(di)'\n",
    "#     push!(V, [V1])\n",
    "    \n",
    "    # only identity\n",
    "    V2 = Matrix(I, di, di)\n",
    "    push!(V, [V2])\n",
    "    \n",
    "    # 3 VC\n",
    "#     V1 = ones(di)*ones(di)'\n",
    "#     V2 = Matrix(I, di, di)\n",
    "#     mosaic = [(-1)^i for i in 1:di]\n",
    "#     V3 = mosaic * mosaic'\n",
    "#     push!(V, [V1, V2, V3])\n",
    "end\n",
    "qc_model = VC_model(df, y, :id, covariates, V, d, link)\n",
    "@suppress QuasiCopula.fit!(qc_model)\n",
    "\n",
    "@show qc_model.β\n",
    "@show qc_model.θ\n",
    "@show qc_model.τ\n",
    "@show qc_model.∇β\n",
    "@show qc_model.∇θ\n",
    "@show qc_model.∇τ\n",
    "\n",
    "# compare loglikelihoods of null model\n",
    "@show QuasiCopula.loglikelihood!(qc_model, false, false)\n",
    "@show nlsv_obj!(traj_model, false, false, false)\n",
    "\n",
    "# QC GWAS\n",
    "G = SnpData(gen_file)\n",
    "@time qc_pvals, _ = QuasiCopula.GWASCopulaVCModel(qc_model, G.snparray, check_grad=true);\n",
    "\n",
    "# compare p-values\n",
    "trajGWAS_result = CSV.read(pvalpath, DataFrame)\n",
    "[qc_pvals trajGWAS_result[!, \"betapval\"]]"
   ]
  },
  {
   "cell_type": "code",
   "execution_count": 14,
   "metadata": {
    "collapsed": false
   },
   "outputs": [
    {
     "data": {
      "image/png": "[encoded data removed]"
     },
     "metadata": {},
     "output_type": "display_data"
    }
   ],
   "source": [
    "using MendelPlots\n",
    "idx = findall(!isnan, qc_pvals)\n",
    "success_pvals = qc_pvals[idx]\n",
    "idx2 = findall(x -> x < 1e-50, success_pvals)\n",
    "success_pvals[idx2] .= 1e-50\n",
    "qq(success_pvals, dpi=80, titles=\"QuasiCopula\")\n",
    "display(\"image/png\", read(\"qqplot.png\"))"
   ]
  },
  {
   "cell_type": "code",
   "execution_count": 15,
   "metadata": {
    "collapsed": false
   },
   "outputs": [
    {
     "data": {
      "image/png": "[encoded data removed]"
     },
     "metadata": {},
     "output_type": "display_data"
    }
   ],
   "source": [
    "using MendelPlots\n",
    "idx = findall(!isone, trajGWAS_result[!, \"betapval\"])\n",
    "qq(trajGWAS_result[idx, \"betapval\"], dpi=80, titles=\"TrajGWAS (SPA)\")\n",
    "display(\"image/png\", read(\"qqplot.png\"))"
   ]
  },
  {
   "cell_type": "code",
   "execution_count": null,
   "metadata": {
    "collapsed": true
   },
   "outputs": [],
   "source": []
  }
 ],
 "metadata": {
  "@webio": {
   "lastCommId": null,
   "lastKernelId": null
  },
  "kernelspec": {
   "display_name": "Julia 1.10.3",
   "language": "julia",
   "name": "julia-1.10"
  },
  "language_info": {
   "file_extension": ".jl",
   "mimetype": "application/julia",
   "name": "julia",
   "version": "1.10.3"
  }
 },
 "nbformat": 4,
 "nbformat_minor": 2
}
