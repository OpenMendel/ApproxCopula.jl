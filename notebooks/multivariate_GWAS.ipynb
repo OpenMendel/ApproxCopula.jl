{
 "cells": [
  {
   "cell_type": "markdown",
   "metadata": {},
   "source": [
    "# Multivariate QuasiCopula GWAS with Mixed Marginals\n",
    "\n",
    "Here we adopt the variance component model framework\n",
    "\n",
    "$$\\mathbf{\\Gamma}_i(\\mathbf{\\theta}) = \\sum_{k=1}^m \\theta_k\\mathbf{V}_{ik}, \\quad \\theta_k \\ge 0$$"
   ]
  },
  {
   "cell_type": "code",
   "execution_count": 1,
   "metadata": {
    "collapsed": false
   },
   "outputs": [
    {
     "name": "stderr",
     "output_type": "stream",
     "text": [
      "┌ Info: Precompiling QuasiCopula [c47b6ae2-b804-4668-9957-eb588c99ffbc]\n",
      "└ @ Base loading.jl:1423\n"
     ]
    },
    {
     "data": {
      "text/plain": [
       "_make_snparray (generic function with 1 method)"
      ]
     },
     "execution_count": 1,
     "metadata": {},
     "output_type": "execute_result"
    }
   ],
   "source": [
    "using Revise\n",
    "using DataFrames, Random, GLM, QuasiCopula\n",
    "using ForwardDiff, Test, LinearAlgebra\n",
    "using LinearAlgebra: BlasReal, copytri!\n",
    "using ToeplitzMatrices\n",
    "using BenchmarkTools\n",
    "using SnpArrays\n",
    "using Statistics\n",
    "\n",
    "BLAS.set_num_threads(1)\n",
    "Threads.nthreads()\n",
    "\n",
    "function simulate_random_snparray(s::Union{String, UndefInitializer}, n::Int64,\n",
    "    p::Int64; mafs::Vector{Float64}=zeros(Float64, p), min_ma::Int = 5)\n",
    "\n",
    "    #first simulate a random {0, 1, 2} matrix with each SNP drawn from Binomial(2, r[i])\n",
    "    A1 = BitArray(undef, n, p) \n",
    "    A2 = BitArray(undef, n, p) \n",
    "    for j in 1:p\n",
    "        minor_alleles = 0\n",
    "        maf = 0\n",
    "        while minor_alleles <= min_ma\n",
    "            maf = 0.5rand()\n",
    "            for i in 1:n\n",
    "                A1[i, j] = rand(Bernoulli(maf))\n",
    "                A2[i, j] = rand(Bernoulli(maf))\n",
    "            end\n",
    "            minor_alleles = sum(view(A1, :, j)) + sum(view(A2, :, j))\n",
    "        end\n",
    "        mafs[j] = maf\n",
    "    end\n",
    "\n",
    "    #fill the SnpArray with the corresponding x_tmp entry\n",
    "    return _make_snparray(s, A1, A2)\n",
    "end\n",
    "\n",
    "function _make_snparray(s::Union{String, UndefInitializer}, A1::BitArray, A2::BitArray)\n",
    "    n, p = size(A1)\n",
    "    x = SnpArray(s, n, p)\n",
    "    for i in 1:(n*p)\n",
    "        c = A1[i] + A2[i]\n",
    "        if c == 0\n",
    "            x[i] = 0x00\n",
    "        elseif c == 1\n",
    "            x[i] = 0x02\n",
    "        elseif c == 2\n",
    "            x[i] = 0x03\n",
    "        else\n",
    "            throw(MissingException(\"matrix shouldn't have missing values!\"))\n",
    "        end\n",
    "    end\n",
    "    return x\n",
    "end\n"
   ]
  },
  {
   "cell_type": "markdown",
   "metadata": {},
   "source": [
    "## Simulate data\n",
    "\n",
    "Given $n$ independent samples, we simulate phenotypes from \n",
    "$$\\mathbf{y}_i \\sim QC(\\mathbf{\\Gamma}, f_1, ..., f_d)$$"
   ]
  },
  {
   "cell_type": "code",
   "execution_count": 28,
   "metadata": {
    "collapsed": false
   },
   "outputs": [
    {
     "data": {
      "text/plain": [
       "3×2 Matrix{Any}:\n",
       "  1.0        Bernoulli\n",
       " -0.0336294  Normal\n",
       "  3.0        Poisson"
      ]
     },
     "execution_count": 28,
     "metadata": {},
     "output_type": "execute_result"
    }
   ],
   "source": [
    "# simulate data\n",
    "p = 5    # number of fixed effects, including intercept\n",
    "m = 2    # number of variance componentsac\n",
    "n = 5000 # number of sample\n",
    "d = 3    # number of phenotypes per sample\n",
    "q = 1000 # number of SNPs\n",
    "k = 0   # number of causal SNPs\n",
    "\n",
    "# sample d marginal distributions for each phenotype within samples\n",
    "Random.seed!(2022)\n",
    "possible_distributions = [Bernoulli, Poisson, Normal]\n",
    "vecdist = rand(possible_distributions, d)\n",
    "veclink = [canonicallink(vecdist[j]()) for j in 1:d]\n",
    "\n",
    "# simulate nongenetic coefficient and variance component params\n",
    "Random.seed!(2022)\n",
    "Btrue = rand(Uniform(-0.5, 0.5), p, d)\n",
    "θtrue = [0.4, 0.4]\n",
    "V1 = ones(d, d)\n",
    "V2 = Matrix(I, d, d)\n",
    "Γ = θtrue[1] * V1 + θtrue[2] * V2\n",
    "\n",
    "# simulate non-genetic design matrix\n",
    "Random.seed!(2022)\n",
    "X = [ones(n) randn(n, p - 1)]\n",
    "\n",
    "# simulate random SnpArray with q SNPs and randomly choose k SNPs to be causal\n",
    "Random.seed!(2022)\n",
    "G = simulate_random_snparray(undef, n, q)\n",
    "Gfloat = convert(Matrix{Float64}, G, center=true, scale=true)\n",
    "γtrue = zeros(q, d)\n",
    "causal_snps = sample(1:q, k, replace=false) |> sort\n",
    "for j in 1:d\n",
    "    γtrue[causal_snps, j] .= rand([-1, 1], k)\n",
    "end\n",
    "\n",
    "# sample phenotypes\n",
    "Y = zeros(n, d)\n",
    "y = Vector{Float64}(undef, d)\n",
    "for i in 1:n\n",
    "    Xi = X[i, :]\n",
    "    Gi = Gfloat[i, :]\n",
    "    η = Btrue' * Xi + γtrue' * Gi\n",
    "    vecd_tmp = Vector{UnivariateDistribution}(undef, d)\n",
    "    for j in 1:d\n",
    "        dist = vecdist[j]\n",
    "        μj = GLM.linkinv(canonicallink(dist()), η[j])\n",
    "        vecd_tmp[j] = dist(μj)\n",
    "    end\n",
    "    multivariate_dist = MultivariateMix(vecd_tmp, Γ)\n",
    "    res = Vector{Float64}(undef, d)\n",
    "    rand(multivariate_dist, y, res)\n",
    "    Y[i, :] .= y\n",
    "end\n",
    "\n",
    "# form model\n",
    "V = m == 1 ? [V1] : [V1, V2]\n",
    "qc_model = MultivariateCopulaVCModel(Y, X, V, vecdist, veclink)\n",
    "\n",
    "[qc_model.Y[10, :] vecdist]"
   ]
  },
  {
   "cell_type": "code",
   "execution_count": 29,
   "metadata": {
    "collapsed": false
   },
   "outputs": [
    {
     "data": {
      "text/plain": [
       "3×3 Matrix{Float64}:\n",
       " 1.0       0.153938   0.139925\n",
       " 0.153938  1.0        0.0330639\n",
       " 0.139925  0.0330639  1.0"
      ]
     },
     "execution_count": 29,
     "metadata": {},
     "output_type": "execute_result"
    }
   ],
   "source": [
    "Statistics.cor(Y)"
   ]
  },
  {
   "cell_type": "markdown",
   "metadata": {},
   "source": [
    "## Fit Null model\n",
    "\n",
    "TODO: \n",
    "\n",
    "+ Initializing model parameters\n",
    "+ Fix score test R/W/Q calculations"
   ]
  },
  {
   "cell_type": "code",
   "execution_count": 30,
   "metadata": {
    "collapsed": false,
    "scrolled": true
   },
   "outputs": [
    {
     "name": "stdout",
     "output_type": "stream",
     "text": [
      "This is Ipopt version 3.13.4, running with linear solver mumps.\n",
      "NOTE: Other linear solvers might be more efficient (see Ipopt documentation).\n",
      "\n",
      "Number of nonzeros in equality constraint Jacobian...:        0\n",
      "Number of nonzeros in inequality constraint Jacobian.:        0\n",
      "Number of nonzeros in Lagrangian Hessian.............:        0\n",
      "\n",
      "Total number of variables............................:       17\n",
      "                     variables with only lower bounds:        2\n",
      "                variables with lower and upper bounds:        0\n",
      "                     variables with only upper bounds:        0\n",
      "Total number of equality constraints.................:        0\n",
      "Total number of inequality constraints...............:        0\n",
      "        inequality constraints with only lower bounds:        0\n",
      "   inequality constraints with lower and upper bounds:        0\n",
      "        inequality constraints with only upper bounds:        0\n",
      "\n",
      "iter    objective    inf_pr   inf_du lg(mu)  ||d||  lg(rg) alpha_du alpha_pr  ls\n",
      "   0  1.9389437e+04 0.00e+00 3.98e+00   0.0 0.00e+00    -  0.00e+00 0.00e+00   0\n",
      "   1  1.9388909e+04 0.00e+00 3.32e+00  -3.0 3.98e+00    -  1.00e+00 1.56e-02f  7\n",
      "   2  1.9388947e+04 0.00e+00 3.32e+00  -4.5 3.45e-01    -  1.00e+00 9.77e-04h 11\n",
      "   3  1.9388946e+04 0.00e+00 3.31e+00  -4.1 3.41e-01    -  1.00e+00 1.95e-03f 10\n",
      "   4  1.9388783e+04 0.00e+00 3.25e+00  -4.1 4.12e-01    -  1.00e+00 1.56e-02f  7\n",
      "   5  1.9388783e+04 0.00e+00 3.24e+00  -5.2 4.95e-01    -  1.00e+00 3.88e-03f  9\n",
      "   6  1.9388792e+04 0.00e+00 3.24e+00  -6.1 6.77e-01    -  1.00e+00 7.05e-04h 11\n",
      "   7  1.9388812e+04 0.00e+00 3.23e+00  -4.0 9.31e-01    -  1.00e+00 5.18e-04h 11\n",
      "   8  1.9388844e+04 0.00e+00 3.23e+00  -4.0 1.36e+00    -  1.00e+00 3.55e-04h 11\n",
      "   9  1.9388886e+04 0.00e+00 3.23e+00  -4.0 2.36e+00    -  1.00e+00 2.04e-04h 11\n",
      "iter    objective    inf_pr   inf_du lg(mu)  ||d||  lg(rg) alpha_du alpha_pr  ls\n",
      "  10  1.9388937e+04 0.00e+00 3.23e+00  -4.0 7.11e+00    -  7.65e-01 6.75e-05h 11\n",
      "  11  1.9389037e+04 0.00e+00 3.23e+00  -4.0 3.22e+00    -  1.00e+00 1.49e-04h 11\n",
      "  12  1.9361748e+04 0.00e+00 2.84e+00  -4.0 1.70e+00    -  3.01e-01 1.27e-01f  3\n",
      "  13  1.9362047e+04 0.00e+00 2.83e+00  -6.5 1.03e+00    -  1.00e+00 6.94e-04h 11\n",
      "  14  1.9362252e+04 0.00e+00 2.83e+00  -0.5 1.27e+00    -  1.00e+00 9.77e-04h 11\n",
      "  15  1.9362445e+04 0.00e+00 2.83e+00  -1.2 4.97e-01    -  6.69e-01 9.77e-04h 11\n",
      "  16  1.9362671e+04 0.00e+00 2.83e+00  -1.2 6.19e-01    -  1.00e+00 9.77e-04h 11\n",
      "  17  1.9362888e+04 0.00e+00 2.82e+00  -1.2 4.54e-01    -  1.00e+00 9.77e-04h 11\n",
      "  18  1.9363108e+04 0.00e+00 2.82e+00  -1.2 3.50e-01    -  1.00e+00 9.77e-04h 11\n",
      "  19  1.9363299e+04 0.00e+00 2.82e+00  -1.2 4.27e-01    -  1.00e+00 9.77e-04h 11\n",
      "iter    objective    inf_pr   inf_du lg(mu)  ||d||  lg(rg) alpha_du alpha_pr  ls\n",
      "  20  1.9363482e+04 0.00e+00 2.82e+00  -1.2 4.86e-01    -  1.00e+00 9.77e-04h 11\n",
      "  21  1.9363640e+04 0.00e+00 2.81e+00  -1.2 5.29e-01    -  1.00e+00 9.77e-04h 11\n",
      "  22  1.9363793e+04 0.00e+00 2.81e+00  -1.2 5.40e-01    -  1.00e+00 9.77e-04h 11\n",
      "  23  1.9363931e+04 0.00e+00 2.81e+00  -1.2 5.64e-01    -  1.00e+00 9.77e-04h 11\n",
      "  24  1.9364059e+04 0.00e+00 2.80e+00  -1.2 5.79e-01    -  1.00e+00 9.77e-04h 11\n",
      "  25  2.0253773e+04 0.00e+00 9.05e-01  -1.2 5.95e-01    -  1.00e+00 1.00e+00w  1\n",
      "  26  2.2038756e+04 0.00e+00 2.10e+00  -1.2 1.13e+00    -  1.00e+00 3.31e-01w  1\n",
      "  27  2.2950881e+04 0.00e+00 9.52e-01  -1.2 1.86e-01    -  1.00e+00 9.94e-01w  1\n",
      "  28  1.9364117e+04 0.00e+00 2.80e+00  -1.2 1.32e-01    -  1.00e+00 4.88e-04h 11\n",
      "  29  1.9364154e+04 0.00e+00 2.80e+00  -1.2 4.61e+00    -  1.00e+00 1.53e-04h 11\n",
      "iter    objective    inf_pr   inf_du lg(mu)  ||d||  lg(rg) alpha_du alpha_pr  ls\n",
      "  30  1.9364493e+04 0.00e+00 2.80e+00  -1.2 5.39e-01    -  1.00e+00 9.77e-04h 11\n",
      "  31  1.9364683e+04 0.00e+00 2.80e+00  -1.2 4.76e-01    -  1.00e+00 9.77e-04h 11\n",
      "  32  1.9364850e+04 0.00e+00 2.79e+00  -1.2 5.09e-01    -  1.00e+00 9.77e-04h 11\n",
      "  33  1.9365013e+04 0.00e+00 2.79e+00  -1.2 5.28e-01    -  1.00e+00 9.77e-04h 11\n",
      "  34  1.9365162e+04 0.00e+00 2.79e+00  -1.2 5.54e-01    -  1.00e+00 9.77e-04h 11\n",
      "  35  1.9365306e+04 0.00e+00 2.78e+00  -1.2 5.68e-01    -  1.00e+00 9.77e-04h 11\n",
      "  36  1.9365433e+04 0.00e+00 2.78e+00  -1.2 5.85e-01    -  1.00e+00 9.77e-04h 11\n",
      "  37  1.9365554e+04 0.00e+00 2.78e+00  -1.2 6.06e-01    -  1.00e+00 9.77e-04h 11\n",
      "  38  2.0260575e+04 0.00e+00 9.02e-01  -1.2 6.14e-01    -  1.00e+00 1.00e+00w  1\n",
      "  39  2.1550688e+04 0.00e+00 1.74e+00  -1.2 1.13e+00    -  1.00e+00 2.84e-01w  1\n",
      "iter    objective    inf_pr   inf_du lg(mu)  ||d||  lg(rg) alpha_du alpha_pr  ls\n",
      "  40  2.2682587e+04 0.00e+00 6.44e-01  -1.2 2.19e-01    -  1.00e+00 4.45e-01w  1\n",
      "  41  1.9365605e+04 0.00e+00 2.78e+00  -1.2 5.56e-02    -  1.00e+00 4.88e-04h 11\n",
      "  42  1.9365747e+04 0.00e+00 2.78e+00  -1.2 5.80e+00    -  1.00e+00 1.19e-04h 11\n",
      "  43  1.9365866e+04 0.00e+00 2.77e+00  -1.2 4.57e-01    -  1.00e+00 9.77e-04h 11\n",
      "  44  1.9366111e+04 0.00e+00 2.77e+00  -1.2 4.87e-01    -  1.00e+00 9.77e-04h 11\n",
      "  45  1.9366231e+04 0.00e+00 2.77e+00  -1.2 5.55e-01    -  1.00e+00 9.77e-04h 11\n",
      "  46  1.9366436e+04 0.00e+00 2.77e+00  -1.2 5.36e-01    -  1.00e+00 9.77e-04h 11\n",
      "  47  1.9366567e+04 0.00e+00 2.76e+00  -1.2 5.74e-01    -  1.00e+00 9.77e-04h 11\n",
      "  48  1.9366727e+04 0.00e+00 2.76e+00  -1.2 5.61e-01    -  1.00e+00 9.77e-04h 11\n",
      "  49  1.9366840e+04 0.00e+00 2.76e+00  -1.2 6.13e-01    -  1.00e+00 9.77e-04h 11\n",
      "iter    objective    inf_pr   inf_du lg(mu)  ||d||  lg(rg) alpha_du alpha_pr  ls\n",
      "  50  1.9366979e+04 0.00e+00 2.75e+00  -1.2 5.96e-01    -  1.00e+00 9.77e-04h 11\n",
      "  51  2.0247117e+04 0.00e+00 8.16e-01  -1.2 6.53e-01    -  1.00e+00 1.00e+00w  1\n",
      "  52  2.1405189e+04 0.00e+00 1.62e+00  -1.2 1.08e+00    -  1.00e+00 2.58e-01w  1\n",
      "  53  2.2799823e+04 0.00e+00 1.57e+00  -1.2 2.75e-01    -  1.00e+00 4.35e-01w  1\n",
      "  54  1.9367019e+04 0.00e+00 2.75e+00  -1.2 7.79e-02    -  1.00e+00 4.88e-04h 11\n",
      "  55  1.9367165e+04 0.00e+00 2.75e+00  -1.2 4.19e+00    -  1.00e+00 1.61e-04h 11\n",
      "  56  1.9367293e+04 0.00e+00 2.75e+00  -1.2 4.56e-01    -  1.00e+00 9.77e-04h 11\n",
      "  57  1.9367531e+04 0.00e+00 2.75e+00  -1.2 4.71e-01    -  1.00e+00 9.77e-04h 11\n",
      "  58  1.9367620e+04 0.00e+00 2.74e+00  -1.2 6.12e-01    -  1.00e+00 9.77e-04h 11\n",
      "  59  1.9367875e+04 0.00e+00 2.74e+00  -1.2 5.28e-01    -  1.00e+00 9.77e-04h 11\n",
      "iter    objective    inf_pr   inf_du lg(mu)  ||d||  lg(rg) alpha_du alpha_pr  ls\n",
      "  60  1.9368000e+04 0.00e+00 2.74e+00  -1.2 5.95e-01    -  1.00e+00 9.77e-04h 11\n",
      "  61  1.9368179e+04 0.00e+00 2.74e+00  -1.2 5.68e-01    -  1.00e+00 9.77e-04h 11\n",
      "  62  1.9368298e+04 0.00e+00 2.73e+00  -1.2 6.12e-01    -  1.00e+00 9.77e-04h 11\n",
      "  63  1.9368445e+04 0.00e+00 2.73e+00  -1.2 6.00e-01    -  1.00e+00 9.77e-04h 11\n",
      "  64  2.0266715e+04 0.00e+00 8.48e-01  -1.2 6.46e-01    -  1.00e+00 1.00e+00w  1\n",
      "  65  2.1373515e+04 0.00e+00 1.59e+00  -1.2 1.08e+00    -  1.00e+00 2.46e-01w  1\n",
      "  66  2.2725186e+04 0.00e+00 1.39e+00  -1.2 2.95e-01    -  1.00e+00 4.26e-01w  1\n",
      "  67  1.9368491e+04 0.00e+00 2.73e+00  -1.2 6.50e-02    -  1.00e+00 4.88e-04h 11\n",
      "  68  1.9368662e+04 0.00e+00 2.73e+00  -1.2 4.56e+00    -  1.00e+00 1.43e-04h 11\n",
      "  69  1.9368795e+04 0.00e+00 2.73e+00  -1.2 4.23e-01    -  1.00e+00 9.77e-04h 11\n",
      "iter    objective    inf_pr   inf_du lg(mu)  ||d||  lg(rg) alpha_du alpha_pr  ls\n",
      "  70  1.9369039e+04 0.00e+00 2.72e+00  -1.2 4.62e-01    -  1.00e+00 9.77e-04h 11\n",
      "  71  1.9369145e+04 0.00e+00 2.72e+00  -1.2 6.01e-01    -  1.00e+00 9.77e-04h 11\n",
      "  72  1.9369393e+04 0.00e+00 2.72e+00  -1.2 5.33e-01    -  1.00e+00 9.77e-04h 11\n",
      "  73  1.9369523e+04 0.00e+00 2.72e+00  -1.2 5.97e-01    -  1.00e+00 9.77e-04h 11\n",
      "  74  1.9369711e+04 0.00e+00 2.71e+00  -1.2 5.65e-01    -  1.00e+00 9.77e-04h 11\n",
      "  75  1.9369834e+04 0.00e+00 2.71e+00  -1.2 6.18e-01    -  1.00e+00 9.77e-04h 11\n",
      "  76  1.9369996e+04 0.00e+00 2.71e+00  -1.2 5.92e-01    -  1.00e+00 9.77e-04h 11\n",
      "  77  2.0274915e+04 0.00e+00 8.33e-01  -1.2 6.57e-01    -  1.00e+00 1.00e+00w  1\n",
      "  78  2.1386070e+04 0.00e+00 1.58e+00  -1.2 1.04e+00    -  1.00e+00 2.36e-01w  1\n",
      "  79  2.2880712e+04 0.00e+00 1.86e+00  -1.2 2.88e-01    -  1.00e+00 4.32e-01w  1\n",
      "iter    objective    inf_pr   inf_du lg(mu)  ||d||  lg(rg) alpha_du alpha_pr  ls\n",
      "  80  1.9370042e+04 0.00e+00 2.71e+00  -1.2 8.13e-02    -  1.00e+00 4.88e-04h 11\n",
      "  81  1.9370203e+04 0.00e+00 2.70e+00  -1.2 3.85e+00    -  1.00e+00 1.80e-04h 11\n",
      "  82  1.9370357e+04 0.00e+00 2.70e+00  -1.2 4.33e-01    -  1.00e+00 9.77e-04h 11\n",
      "  83  1.9370600e+04 0.00e+00 2.70e+00  -1.2 4.66e-01    -  1.00e+00 9.77e-04h 11\n",
      "  84  1.9370729e+04 0.00e+00 2.70e+00  -1.2 5.83e-01    -  1.00e+00 9.77e-04h 11\n",
      "  85  1.9370993e+04 0.00e+00 2.70e+00  -1.2 5.18e-01    -  1.00e+00 9.77e-04h 11\n",
      "  86  1.9371139e+04 0.00e+00 2.69e+00  -1.2 5.88e-01    -  1.00e+00 9.77e-04h 11\n",
      "  87  1.9371350e+04 0.00e+00 2.69e+00  -1.2 5.56e-01    -  1.00e+00 9.77e-04h 11\n",
      "  88  1.9371489e+04 0.00e+00 2.69e+00  -1.2 6.06e-01    -  1.00e+00 9.77e-04h 11\n",
      "  89  1.9371678e+04 0.00e+00 2.68e+00  -1.2 5.82e-01    -  1.00e+00 9.77e-04h 11\n",
      "iter    objective    inf_pr   inf_du lg(mu)  ||d||  lg(rg) alpha_du alpha_pr  ls\n",
      "  90  2.0331141e+04 0.00e+00 9.26e-01  -1.2 6.34e-01    -  1.00e+00 1.00e+00w  1\n",
      "  91  2.1559246e+04 0.00e+00 1.52e+00  -1.2 1.12e+00    -  1.00e+00 2.15e-01w  1\n",
      "  92  2.3076856e+04 0.00e+00 1.73e+00  -1.2 2.08e-01    -  1.00e+00 5.10e-01w  1\n",
      "  93  1.9371736e+04 0.00e+00 2.68e+00  -1.2 6.48e-02    -  1.00e+00 4.88e-04h 11\n",
      "  94  1.9371848e+04 0.00e+00 2.68e+00  -1.2 3.91e+00    -  1.00e+00 1.76e-04h 11\n",
      "  95  1.9372038e+04 0.00e+00 2.68e+00  -1.2 4.51e-01    -  1.00e+00 9.77e-04h 11\n",
      "  96  1.9372288e+04 0.00e+00 2.68e+00  -1.2 4.69e-01    -  1.00e+00 9.77e-04h 11\n",
      "  97  1.9372447e+04 0.00e+00 2.67e+00  -1.2 5.54e-01    -  1.00e+00 9.77e-04h 11\n",
      "  98  1.9372750e+04 0.00e+00 2.67e+00  -1.2 4.97e-01    -  1.00e+00 9.77e-04h 11\n",
      "  99  1.9372916e+04 0.00e+00 2.67e+00  -1.2 5.70e-01    -  1.00e+00 9.77e-04h 11\n",
      "iter    objective    inf_pr   inf_du lg(mu)  ||d||  lg(rg) alpha_du alpha_pr  ls\n",
      " 100  1.9373156e+04 0.00e+00 2.67e+00  -1.2 5.40e-01    -  1.00e+00 9.77e-04h 11\n",
      "\n",
      "Number of Iterations....: 100\n",
      "\n",
      "                                   (scaled)                 (unscaled)\n",
      "Objective...............:   1.9373155605898177e+04    1.9373155605898177e+04\n",
      "Dual infeasibility......:   2.6663022907537504e+00    2.6663022907537504e+00\n",
      "Constraint violation....:   0.0000000000000000e+00    0.0000000000000000e+00\n",
      "Complementarity.........:   1.6364689894028606e-01    1.6364689894028606e-01\n",
      "Overall NLP error.......:   2.6663022907537504e+00    2.6663022907537504e+00\n",
      "\n",
      "\n",
      "Number of objective function evaluations             = 1212\n",
      "Number of objective gradient evaluations             = 101\n",
      "Number of equality constraint evaluations            = 0\n",
      "Number of inequality constraint evaluations          = 0\n",
      "Number of equality constraint Jacobian evaluations   = 0\n",
      "Number of inequality constraint Jacobian evaluations = 0\n",
      "Number of Lagrangian Hessian evaluations             = 0\n",
      "Total CPU secs in IPOPT (w/o function evaluations)   =      0.325\n",
      "Total CPU secs in NLP function evaluations           =     27.845\n",
      "\n",
      "EXIT: Maximum Number of Iterations Exceeded.\n",
      " 28.333634 seconds (798.68 M allocations: 12.132 GiB, 1.82% gc time, 0.02% compilation time)\n",
      "qc_model.B = [-0.07113333251237915 -0.007571282396954205 0.10608741882341288; -0.03594166389116115 -0.0038255551585769246 0.0536029764908623; -0.07904114273748154 -0.008412973095792323 0.11788103435747123; 0.025117913894161483 0.002673497959457332 -0.037460562540031404; 0.08393591307573171 0.008933962162538864 -0.1251810375012972]\n",
      "qc_model.θ = [0.35630762348402195, 0.707921088470738]\n",
      "qc_model.∇vecB = [-0.8675934036354337, -0.43837044330852515, -0.9640427579104275, 0.3063561854603688, 1.0237429056174656, 0.7260549635182624, 0.3668550670050953, 0.8067696532635481, -0.25637750140328264, -0.8567303703273703, 2.2596164201604547, 1.1417203584793438, 2.5108153616466766, -0.797893879994109, -2.6663022907537504]\n",
      "qc_model.∇θ = [-0.1880275999509574, 0.36205351954664033]\n"
     ]
    },
    {
     "name": "stderr",
     "output_type": "stream",
     "text": [
      "┌ Warning: Optimization unsuccesful; got UserLimit\n",
      "└ @ QuasiCopula /Users/biona001/.julia/dev/QuasiCopula/src/gwas/multivariate.jl:155\n"
     ]
    }
   ],
   "source": [
    "@time optm = QuasiCopula.fit!(qc_model,\n",
    "    Ipopt.IpoptSolver(\n",
    "        print_level = 5, \n",
    "        tol = 10^-6, \n",
    "        max_iter = 100,\n",
    "        accept_after_max_steps = 10,\n",
    "        warm_start_init_point=\"yes\", \n",
    "        limited_memory_max_history = 6, # default value\n",
    "        hessian_approximation = \"limited-memory\",\n",
    "#         derivative_test=\"second-order\"\n",
    "    )\n",
    ");\n",
    "@show qc_model.B\n",
    "@show qc_model.θ\n",
    "@show qc_model.∇vecB\n",
    "@show qc_model.∇θ;"
   ]
  },
  {
   "cell_type": "code",
   "execution_count": 31,
   "metadata": {
    "collapsed": false
   },
   "outputs": [
    {
     "name": "stdout",
     "output_type": "stream",
     "text": [
      "θtrue = [0.4, 0.4]\n",
      "qc_model.θ = [0.35630762348402195, 0.707921088470738]\n"
     ]
    },
    {
     "data": {
      "text/plain": [
       "15×2 Matrix{Float64}:\n",
       " -0.0711333   -0.280755\n",
       " -0.0359417    0.167603\n",
       " -0.0790411   -0.330996\n",
       "  0.0251179   -0.0469412\n",
       "  0.0839359    0.483384\n",
       " -0.00757128  -0.269155\n",
       " -0.00382556   0.144784\n",
       " -0.00841297  -0.39274\n",
       "  0.0026735    0.0260867\n",
       "  0.00893396  -0.234534\n",
       "  0.106087    -0.0969734\n",
       "  0.053603     0.0955352\n",
       "  0.117881     0.0881894\n",
       " -0.0374606   -0.433561\n",
       " -0.125181     0.250369"
      ]
     },
     "execution_count": 31,
     "metadata": {},
     "output_type": "execute_result"
    }
   ],
   "source": [
    "@show θtrue\n",
    "@show qc_model.θ\n",
    "[vec(qc_model.B) vec(Btrue)]"
   ]
  },
  {
   "cell_type": "markdown",
   "metadata": {
    "collapsed": true
   },
   "source": [
    "## Score test"
   ]
  },
  {
   "cell_type": "code",
   "execution_count": null,
   "metadata": {
    "collapsed": true
   },
   "outputs": [],
   "source": []
  }
 ],
 "metadata": {
  "@webio": {
   "lastCommId": null,
   "lastKernelId": null
  },
  "kernelspec": {
   "display_name": "Julia 1.7.3",
   "language": "julia",
   "name": "julia-1.7"
  },
  "language_info": {
   "file_extension": ".jl",
   "mimetype": "application/julia",
   "name": "julia",
   "version": "1.7.3"
  },
  "toc": {
   "base_numbering": 1,
   "nav_menu": {},
   "number_sections": true,
   "sideBar": true,
   "skip_h1_title": false,
   "title_cell": "Table of Contents",
   "title_sidebar": "Contents",
   "toc_cell": false,
   "toc_position": {},
   "toc_section_display": true,
   "toc_window_display": false
  }
 },
 "nbformat": 4,
 "nbformat_minor": 2
}
