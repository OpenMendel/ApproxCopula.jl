{
 "cells": [
  {
   "cell_type": "markdown",
   "metadata": {},
   "source": [
    "# Multivariate QuasiCopula GWAS with Mixed Marginals\n",
    "\n",
    "Here we adopt the variance component model framework\n",
    "\n",
    "$$\\mathbf{\\Gamma}_i(\\mathbf{\\theta}) = \\sum_{k=1}^m \\theta_k\\mathbf{V}_{ik}, \\quad \\theta_k \\ge 0$$"
   ]
  },
  {
   "cell_type": "code",
   "execution_count": 1,
   "metadata": {
    "collapsed": false
   },
   "outputs": [
    {
     "name": "stderr",
     "output_type": "stream",
     "text": [
      "┌ Info: Precompiling QuasiCopula [c47b6ae2-b804-4668-9957-eb588c99ffbc]\n",
      "└ @ Base loading.jl:1423\n"
     ]
    },
    {
     "data": {
      "text/plain": [
       "_make_snparray (generic function with 1 method)"
      ]
     },
     "execution_count": 1,
     "metadata": {},
     "output_type": "execute_result"
    }
   ],
   "source": [
    "using Revise\n",
    "using DataFrames, Random, GLM, QuasiCopula\n",
    "using ForwardDiff, Test, LinearAlgebra\n",
    "using LinearAlgebra: BlasReal, copytri!\n",
    "using ToeplitzMatrices\n",
    "using BenchmarkTools\n",
    "using SnpArrays\n",
    "using Statistics\n",
    "using StatsBase\n",
    "\n",
    "BLAS.set_num_threads(1)\n",
    "Threads.nthreads()\n",
    "\n",
    "function simulate_random_snparray(s::Union{String, UndefInitializer}, n::Int64,\n",
    "    p::Int64; mafs::Vector{Float64}=zeros(Float64, p), min_ma::Int = 5)\n",
    "\n",
    "    #first simulate a random {0, 1, 2} matrix with each SNP drawn from Binomial(2, r[i])\n",
    "    A1 = BitArray(undef, n, p) \n",
    "    A2 = BitArray(undef, n, p) \n",
    "    for j in 1:p\n",
    "        minor_alleles = 0\n",
    "        maf = 0\n",
    "        while minor_alleles <= min_ma\n",
    "            maf = 0.5rand()\n",
    "            for i in 1:n\n",
    "                A1[i, j] = rand(Bernoulli(maf))\n",
    "                A2[i, j] = rand(Bernoulli(maf))\n",
    "            end\n",
    "            minor_alleles = sum(view(A1, :, j)) + sum(view(A2, :, j))\n",
    "        end\n",
    "        mafs[j] = maf\n",
    "    end\n",
    "\n",
    "    #fill the SnpArray with the corresponding x_tmp entry\n",
    "    return _make_snparray(s, A1, A2)\n",
    "end\n",
    "\n",
    "function _make_snparray(s::Union{String, UndefInitializer}, A1::BitArray, A2::BitArray)\n",
    "    n, p = size(A1)\n",
    "    x = SnpArray(s, n, p)\n",
    "    for i in 1:(n*p)\n",
    "        c = A1[i] + A2[i]\n",
    "        if c == 0\n",
    "            x[i] = 0x00\n",
    "        elseif c == 1\n",
    "            x[i] = 0x02\n",
    "        elseif c == 2\n",
    "            x[i] = 0x03\n",
    "        else\n",
    "            throw(MissingException(\"matrix shouldn't have missing values!\"))\n",
    "        end\n",
    "    end\n",
    "    return x\n",
    "end"
   ]
  },
  {
   "cell_type": "markdown",
   "metadata": {},
   "source": [
    "## Simulate data\n",
    "\n",
    "Given $n$ independent samples, we simulate phenotypes from \n",
    "$$\\mathbf{y}_i \\sim QC(\\mathbf{\\Gamma}, f_1, ..., f_d)$$"
   ]
  },
  {
   "cell_type": "code",
   "execution_count": 4,
   "metadata": {
    "collapsed": false
   },
   "outputs": [],
   "source": [
    "# simulate data\n",
    "p = 3    # number of fixed effects, including intercept\n",
    "m = 2    # number of variance componentsac\n",
    "n = 5000 # number of sample\n",
    "d = 4    # number of phenotypes per sample\n",
    "q = 1000 # number of SNPs\n",
    "k = 0    # number of causal SNPs\n",
    "\n",
    "# sample d marginal distributions for each phenotype within samples\n",
    "Random.seed!(1234)\n",
    "possible_distributions = [Bernoulli, Poisson, Normal]\n",
    "vecdist = rand(possible_distributions, d)\n",
    "# vecdist = [Poisson, Bernoulli, Bernoulli] # this derivative test is fine\n",
    "# vecdist = [Bernoulli, Bernoulli, Poisson] # this derivative test is wrong everywhere\n",
    "veclink = [canonicallink(vecdist[j]()) for j in 1:d]\n",
    "\n",
    "# simulate nongenetic coefficient and variance component params\n",
    "Random.seed!(2022)\n",
    "Btrue = rand(Uniform(-0.5, 0.5), p, d)\n",
    "θtrue = fill(0.4, m)\n",
    "V1 = ones(d, d)\n",
    "V2 = Matrix(I, d, d)\n",
    "Γ = m == 1 ? θtrue[1] * V1 : θtrue[1] * V1 + θtrue[2] * V2\n",
    "\n",
    "# simulate non-genetic design matrix\n",
    "Random.seed!(2022)\n",
    "X = [ones(n) randn(n, p - 1)]\n",
    "\n",
    "# simulate random SnpArray with q SNPs and randomly choose k SNPs to be causal\n",
    "Random.seed!(2022)\n",
    "G = simulate_random_snparray(undef, n, q)\n",
    "Gfloat = convert(Matrix{Float64}, G, center=true, scale=true)\n",
    "γtrue = zeros(q, d)\n",
    "causal_snps = sample(1:q, k, replace=false) |> sort\n",
    "for j in 1:d\n",
    "    γtrue[causal_snps, j] .= rand([-1, 1], k)\n",
    "end\n",
    "\n",
    "# sample phenotypes\n",
    "Y = zeros(n, d)\n",
    "y = Vector{Float64}(undef, d)\n",
    "for i in 1:n\n",
    "    Xi = X[i, :]\n",
    "    Gi = Gfloat[i, :]\n",
    "    η = Btrue' * Xi + γtrue' * Gi\n",
    "    vecd_tmp = Vector{UnivariateDistribution}(undef, d)\n",
    "    for j in 1:d\n",
    "        dist = vecdist[j]\n",
    "        μj = GLM.linkinv(canonicallink(dist()), η[j])\n",
    "        vecd_tmp[j] = dist(μj)\n",
    "    end\n",
    "    multivariate_dist = MultivariateMix(vecd_tmp, Γ)\n",
    "    res = Vector{Float64}(undef, d)\n",
    "    rand(multivariate_dist, y, res)\n",
    "    Y[i, :] .= y\n",
    "end\n",
    "\n",
    "# form model\n",
    "V = m == 1 ? [V1] : [V1, V2]\n",
    "qc_model = MultivariateCopulaVCModel(Y, X, V, vecdist, veclink);"
   ]
  },
  {
   "cell_type": "code",
   "execution_count": 5,
   "metadata": {
    "collapsed": false
   },
   "outputs": [
    {
     "data": {
      "text/plain": [
       "5000×4 Matrix{Float64}:\n",
       " 0.0  0.0  0.0  -0.80051\n",
       " 1.0  5.0  1.0  -1.02321\n",
       " 0.0  0.0  1.0  -0.433156\n",
       " 1.0  1.0  0.0  -0.624015\n",
       " 0.0  0.0  1.0   0.0960992\n",
       " 0.0  2.0  0.0   1.22445\n",
       " 0.0  2.0  1.0  -0.0417102\n",
       " 0.0  2.0  1.0   1.44549\n",
       " 0.0  0.0  0.0  -1.74432\n",
       " 1.0  1.0  0.0  -1.03616\n",
       " 1.0  2.0  1.0  -0.0715883\n",
       " 0.0  2.0  1.0  -1.30745\n",
       " 0.0  0.0  0.0  -1.03096\n",
       " ⋮              \n",
       " 0.0  0.0  0.0  -1.55683\n",
       " 0.0  0.0  0.0   0.866433\n",
       " 0.0  3.0  1.0   0.261847\n",
       " 1.0  3.0  1.0  -1.37618\n",
       " 0.0  3.0  1.0  -0.2299\n",
       " 0.0  0.0  0.0  -2.05345\n",
       " 1.0  2.0  1.0  -1.7245\n",
       " 1.0  2.0  0.0   2.02739\n",
       " 1.0  0.0  1.0   0.495043\n",
       " 0.0  1.0  1.0  -0.791913\n",
       " 0.0  0.0  1.0  -1.76057\n",
       " 0.0  1.0  0.0  -0.411001"
      ]
     },
     "execution_count": 5,
     "metadata": {},
     "output_type": "execute_result"
    }
   ],
   "source": [
    "Y"
   ]
  },
  {
   "cell_type": "code",
   "execution_count": 6,
   "metadata": {
    "collapsed": false
   },
   "outputs": [
    {
     "data": {
      "text/plain": [
       "5000×3 Matrix{Float64}:\n",
       " 1.0  -0.308648    1.70162\n",
       " 1.0   1.67671    -0.548034\n",
       " 1.0  -0.347153    0.736227\n",
       " 1.0   0.818666   -2.16009\n",
       " 1.0  -1.71753    -0.273745\n",
       " 1.0  -0.238934    0.942883\n",
       " 1.0   0.701932    1.02868\n",
       " 1.0  -0.166138   -0.278824\n",
       " 1.0  -0.609614    0.289359\n",
       " 1.0   0.68791     0.209478\n",
       " 1.0   0.0342303  -0.543192\n",
       " 1.0  -0.479078   -0.865401\n",
       " 1.0  -1.63537     0.348029\n",
       " ⋮                \n",
       " 1.0   0.200555    1.14607\n",
       " 1.0  -0.205806    1.98172\n",
       " 1.0   1.17812     0.307879\n",
       " 1.0   1.60549     0.817788\n",
       " 1.0   1.63509    -0.960082\n",
       " 1.0  -0.446096   -1.0502\n",
       " 1.0   0.632009   -0.335688\n",
       " 1.0   0.589777   -1.92135\n",
       " 1.0  -0.542628    1.68057\n",
       " 1.0  -0.779274    0.6376\n",
       " 1.0  -1.19111    -1.3064\n",
       " 1.0   0.505272    1.11117"
      ]
     },
     "execution_count": 6,
     "metadata": {},
     "output_type": "execute_result"
    }
   ],
   "source": [
    "X"
   ]
  },
  {
   "cell_type": "code",
   "execution_count": 7,
   "metadata": {
    "collapsed": false
   },
   "outputs": [
    {
     "data": {
      "text/plain": [
       "4-element Vector{UnionAll}:\n",
       " Bernoulli\n",
       " Poisson\n",
       " Bernoulli\n",
       " Normal"
      ]
     },
     "execution_count": 7,
     "metadata": {},
     "output_type": "execute_result"
    }
   ],
   "source": [
    "vecdist"
   ]
  },
  {
   "cell_type": "code",
   "execution_count": 8,
   "metadata": {
    "collapsed": false
   },
   "outputs": [
    {
     "data": {
      "text/plain": [
       "5000×4 Matrix{Float64}:\n",
       " 0.0  0.0  0.0  -0.80051\n",
       " 1.0  5.0  1.0  -1.02321\n",
       " 0.0  0.0  1.0  -0.433156\n",
       " 1.0  1.0  0.0  -0.624015\n",
       " 0.0  0.0  1.0   0.0960992\n",
       " 0.0  2.0  0.0   1.22445\n",
       " 0.0  2.0  1.0  -0.0417102\n",
       " 0.0  2.0  1.0   1.44549\n",
       " 0.0  0.0  0.0  -1.74432\n",
       " 1.0  1.0  0.0  -1.03616\n",
       " 1.0  2.0  1.0  -0.0715883\n",
       " 0.0  2.0  1.0  -1.30745\n",
       " 0.0  0.0  0.0  -1.03096\n",
       " ⋮              \n",
       " 0.0  0.0  0.0  -1.55683\n",
       " 0.0  0.0  0.0   0.866433\n",
       " 0.0  3.0  1.0   0.261847\n",
       " 1.0  3.0  1.0  -1.37618\n",
       " 0.0  3.0  1.0  -0.2299\n",
       " 0.0  0.0  0.0  -2.05345\n",
       " 1.0  2.0  1.0  -1.7245\n",
       " 1.0  2.0  0.0   2.02739\n",
       " 1.0  0.0  1.0   0.495043\n",
       " 0.0  1.0  1.0  -0.791913\n",
       " 0.0  0.0  1.0  -1.76057\n",
       " 0.0  1.0  0.0  -0.411001"
      ]
     },
     "execution_count": 8,
     "metadata": {},
     "output_type": "execute_result"
    }
   ],
   "source": [
    "Y"
   ]
  },
  {
   "cell_type": "code",
   "execution_count": 9,
   "metadata": {
    "collapsed": false
   },
   "outputs": [
    {
     "data": {
      "text/plain": [
       "4×4 Matrix{Float64}:\n",
       " 1.0    0.625  0.625  0.625\n",
       " 0.625  1.0    0.625  0.625\n",
       " 0.625  0.625  1.0    0.625\n",
       " 0.625  0.625  0.625  1.0"
      ]
     },
     "execution_count": 9,
     "metadata": {},
     "output_type": "execute_result"
    }
   ],
   "source": [
    "# true Γ scaled to correlation matrix\n",
    "cov2cor(Γ, diag(Γ))"
   ]
  },
  {
   "cell_type": "code",
   "execution_count": 10,
   "metadata": {
    "collapsed": false
   },
   "outputs": [
    {
     "data": {
      "text/plain": [
       "4×4 Matrix{Float64}:\n",
       " 1.0       0.161353   0.141082   0.129986\n",
       " 0.161353  1.0        0.0641498  0.0698481\n",
       " 0.141082  0.0641498  1.0        0.135562\n",
       " 0.129986  0.0698481  0.135562   1.0"
      ]
     },
     "execution_count": 10,
     "metadata": {},
     "output_type": "execute_result"
    }
   ],
   "source": [
    "# empirical correlation of Y\n",
    "Statistics.cor(Y)"
   ]
  },
  {
   "cell_type": "markdown",
   "metadata": {},
   "source": [
    "## Fit Null model\n",
    "\n",
    "TODO: \n",
    "\n",
    "+ Initializing model parameters"
   ]
  },
  {
   "cell_type": "code",
   "execution_count": 11,
   "metadata": {
    "collapsed": false
   },
   "outputs": [
    {
     "name": "stdout",
     "output_type": "stream",
     "text": [
      "\n",
      "******************************************************************************\n",
      "This program contains Ipopt, a library for large-scale nonlinear optimization.\n",
      " Ipopt is released as open source code under the Eclipse Public License (EPL).\n",
      "         For more information visit https://github.com/coin-or/Ipopt\n",
      "******************************************************************************\n",
      "\n",
      "This is Ipopt version 3.13.4, running with linear solver mumps.\n",
      "NOTE: Other linear solvers might be more efficient (see Ipopt documentation).\n",
      "\n",
      "Starting derivative checker for first derivatives.\n",
      "\n",
      "\n",
      "No errors detected by derivative checker.\n",
      "\n",
      "Number of nonzeros in equality constraint Jacobian...:        0\n",
      "Number of nonzeros in inequality constraint Jacobian.:        0\n",
      "Number of nonzeros in Lagrangian Hessian.............:        0\n",
      "\n",
      "Total number of variables............................:       14\n",
      "                     variables with only lower bounds:        2\n",
      "                variables with lower and upper bounds:        0\n",
      "                     variables with only upper bounds:        0\n",
      "Total number of equality constraints.................:        0\n",
      "Total number of inequality constraints...............:        0\n",
      "        inequality constraints with only lower bounds:        0\n",
      "   inequality constraints with lower and upper bounds:        0\n",
      "        inequality constraints with only upper bounds:        0\n",
      "\n",
      "iter    objective    inf_pr   inf_du lg(mu)  ||d||  lg(rg) alpha_du alpha_pr  ls\n",
      "   0  2.1910468e+04 0.00e+00 8.96e+01   0.0 0.00e+00    -  0.00e+00 0.00e+00   0\n",
      "   1  2.1772238e+04 0.00e+00 1.02e+01  -3.0 8.15e+01    -  1.23e-04 1.56e-02f  7\n",
      "   2  2.1664167e+04 0.00e+00 6.20e+00  -4.0 1.34e-01    -  1.00e+00 1.00e+00f  1\n",
      "   3  2.1565644e+04 0.00e+00 9.27e+00  -5.4 3.23e-01    -  1.00e+00 1.00e+00f  1\n",
      "   4  2.1504648e+04 0.00e+00 4.46e+00  -6.5 3.34e-01    -  1.00e+00 1.00e+00f  1\n",
      "   5  2.1494206e+04 0.00e+00 3.02e+00  -8.0 1.27e-01    -  1.00e+00 5.00e-01f  2\n",
      "   6  2.1488195e+04 0.00e+00 7.14e-01  -9.3 2.29e-02    -  1.00e+00 1.00e+00f  1\n",
      "   7  2.1487500e+04 0.00e+00 3.84e-01 -10.7 1.83e-02    -  1.00e+00 1.00e+00f  1\n",
      "   8  2.1487074e+04 0.00e+00 2.74e-01 -11.0 1.91e-02    -  1.00e+00 1.00e+00f  1\n",
      "   9  2.1486482e+04 0.00e+00 1.42e+00 -11.0 1.10e-01    -  1.00e+00 1.00e+00f  1\n",
      "iter    objective    inf_pr   inf_du lg(mu)  ||d||  lg(rg) alpha_du alpha_pr  ls\n",
      "  10  2.1484693e+04 0.00e+00 1.15e+00 -11.0 6.99e-01    -  1.00e+00 2.50e-01f  3\n",
      "  11  2.1483413e+04 0.00e+00 1.37e+00 -11.0 4.81e-01    -  1.00e+00 2.50e-01f  3\n",
      "  12  2.1478782e+04 0.00e+00 2.21e+00 -11.0 3.38e-01    -  1.00e+00 5.00e-01f  2\n",
      "  13  2.1478139e+04 0.00e+00 1.66e+00 -11.0 8.83e-01    -  1.00e+00 1.53e-01f  3\n",
      "  14  2.1477055e+04 0.00e+00 1.73e+00 -11.0 8.26e-02    -  1.00e+00 2.50e-01f  3\n",
      "  15  2.1475179e+04 0.00e+00 2.51e-01 -11.0 9.11e-02    -  1.00e+00 1.00e+00f  1\n",
      "  16  2.1474947e+04 0.00e+00 3.78e-01 -11.0 2.37e-01    -  1.00e+00 2.50e-01f  3\n",
      "  17  2.1474779e+04 0.00e+00 2.96e-01 -11.0 1.15e-01    -  1.00e+00 1.25e-01f  4\n",
      "  18  2.1474633e+04 0.00e+00 1.75e-01 -11.0 2.19e-02    -  1.00e+00 5.00e-01f  2\n",
      "  19  2.1474601e+04 0.00e+00 7.46e-02 -11.0 3.74e-03    -  1.00e+00 1.00e+00f  1\n",
      "iter    objective    inf_pr   inf_du lg(mu)  ||d||  lg(rg) alpha_du alpha_pr  ls\n",
      "  20  2.1474597e+04 0.00e+00 5.86e-02 -11.0 1.85e-03    -  1.00e+00 1.00e+00f  1\n",
      "  21  2.1474593e+04 0.00e+00 7.24e-03 -11.0 9.80e-04    -  1.00e+00 1.00e+00f  1\n",
      "  22  2.1474593e+04 0.00e+00 4.79e-03 -11.0 2.72e-04    -  1.00e+00 1.00e+00f  1\n",
      "  23  2.1474593e+04 0.00e+00 1.66e-02 -11.0 8.18e-04    -  1.00e+00 5.00e-01f  2\n",
      "  24  2.1474593e+04 0.00e+00 6.03e-03 -11.0 2.08e-04    -  1.00e+00 1.00e+00f  1\n",
      "  25  2.1474593e+04 0.00e+00 3.84e-04 -11.0 8.93e-05    -  1.00e+00 1.00e+00f  1\n",
      "  26  2.1474593e+04 0.00e+00 2.53e-04 -11.0 1.58e-05    -  1.00e+00 1.00e+00f  1\n",
      "  27  2.1474593e+04 0.00e+00 5.39e-04 -11.0 4.78e-05    -  1.00e+00 1.00e+00f  1\n",
      "  28  2.1474593e+04 0.00e+00 2.96e-04 -11.0 2.65e-05    -  1.00e+00 5.00e-01f  2\n",
      "  29  2.1474593e+04 0.00e+00 1.85e-04 -11.0 2.18e-05    -  1.00e+00 1.00e+00f  1\n",
      "iter    objective    inf_pr   inf_du lg(mu)  ||d||  lg(rg) alpha_du alpha_pr  ls\n",
      "  30  2.1474593e+04 0.00e+00 2.74e-04 -11.0 1.19e-05    -  1.00e+00 5.00e-01f  2\n",
      "  31  2.1474593e+04 0.00e+00 9.55e-05 -11.0 7.38e-06    -  1.00e+00 1.00e+00f  1\n",
      "  32  2.1474593e+04 0.00e+00 1.66e-04 -11.0 2.07e-05    -  1.00e+00 5.00e-01f  2\n",
      "  33  2.1474593e+04 0.00e+00 9.37e-05 -11.0 4.60e-05    -  1.00e+00 5.00e-01f  2\n",
      "  34  2.1474593e+04 0.00e+00 1.04e-04 -11.0 2.82e-05    -  1.00e+00 2.50e-01f  3\n",
      "  35  2.1474593e+04 0.00e+00 1.02e-04 -11.0 2.79e-06    -  1.00e+00 1.00e+00f  1\n",
      "  36  2.1474593e+04 0.00e+00 1.19e-05 -11.0 2.88e-06    -  1.00e+00 1.00e+00f  1\n",
      "  37  2.1474593e+04 0.00e+00 1.41e-05 -11.0 3.88e-07    -  1.00e+00 1.00e+00f  1\n",
      "  38  2.1474593e+04 0.00e+00 8.69e-06 -11.0 3.00e-07    -  1.00e+00 1.00e+00f  1\n",
      "  39  2.1474593e+04 0.00e+00 5.30e-06 -11.0 4.27e-07    -  1.00e+00 5.00e-01f  2\n",
      "iter    objective    inf_pr   inf_du lg(mu)  ||d||  lg(rg) alpha_du alpha_pr  ls\n",
      "  40  2.1474593e+04 0.00e+00 1.62e-06 -11.0 7.39e-08    -  1.00e+00 1.00e+00f  1\n",
      "  41  2.1474593e+04 0.00e+00 1.16e-06 -11.0 9.14e-08    -  1.00e+00 1.00e+00f  1\n",
      "  42  2.1474593e+04 0.00e+00 3.65e-06 -11.0 1.47e-07    -  1.00e+00 1.00e+00f  1\n",
      "  43  2.1474593e+04 0.00e+00 9.76e-07 -11.0 5.75e-08    -  1.00e+00 1.00e+00f  1\n",
      "\n",
      "Number of Iterations....: 43\n",
      "\n",
      "                                   (scaled)                 (unscaled)\n",
      "Objective...............:   3.7868489666954764e+02    2.1474592885968774e+04\n",
      "Dual infeasibility......:   9.7560338421275077e-07    5.5324851026272708e-05\n",
      "Constraint violation....:   0.0000000000000000e+00    0.0000000000000000e+00\n",
      "Complementarity.........:   9.9999999999999945e-12    5.6708342674432480e-10\n",
      "Overall NLP error.......:   9.7560338421275077e-07    5.5324851026272708e-05\n",
      "\n",
      "\n",
      "Number of objective function evaluations             = 142\n",
      "Number of objective gradient evaluations             = 44\n",
      "Number of equality constraint evaluations            = 0\n",
      "Number of inequality constraint evaluations          = 0\n",
      "Number of equality constraint Jacobian evaluations   = 0\n",
      "Number of inequality constraint Jacobian evaluations = 0\n",
      "Number of Lagrangian Hessian evaluations             = 0\n",
      "Total CPU secs in IPOPT (w/o function evaluations)   =      0.643\n",
      "Total CPU secs in NLP function evaluations           =      3.832\n",
      "\n",
      "EXIT: Optimal Solution Found.\n",
      " 10.597669 seconds (140.82 M allocations: 2.922 GiB, 2.53% gc time, 58.15% compilation time)\n"
     ]
    }
   ],
   "source": [
    "@time optm = QuasiCopula.fit!(qc_model,\n",
    "    Ipopt.IpoptSolver(\n",
    "        print_level = 5, \n",
    "        tol = 10^-6, \n",
    "        max_iter = 100,\n",
    "        accept_after_max_steps = 10,\n",
    "        warm_start_init_point=\"yes\", \n",
    "        limited_memory_max_history = 6, # default value\n",
    "        hessian_approximation = \"limited-memory\",\n",
    "        derivative_test=\"first-order\"\n",
    "    )\n",
    ");"
   ]
  },
  {
   "cell_type": "code",
   "execution_count": 12,
   "metadata": {
    "collapsed": false
   },
   "outputs": [
    {
     "name": "stdout",
     "output_type": "stream",
     "text": [
      "qc_model.∇vecB = [-2.555665467918189e-6, -2.666047984573039e-6, -4.23217445452706e-6, -5.6345981152006175e-6, 1.6536963753754907e-5, 1.5208381801024018e-5, 7.784947875233428e-6, 5.083556454399396e-7, 2.1021208863603036e-6, -5.5324851026272714e-5, -3.0735902118744773e-5, -1.9942155756624835e-5]\n",
      "qc_model.∇θ = [-3.8057636611577017e-6, -5.710495082411615e-6]\n"
     ]
    }
   ],
   "source": [
    "@show qc_model.∇vecB\n",
    "@show qc_model.∇θ;"
   ]
  },
  {
   "cell_type": "code",
   "execution_count": 13,
   "metadata": {
    "collapsed": false
   },
   "outputs": [
    {
     "data": {
      "text/plain": [
       "12×2 Matrix{Float64}:\n",
       " -0.276263    -0.280755\n",
       "  0.16857      0.167603\n",
       " -0.28159     -0.330996\n",
       " -0.0478524   -0.0469412\n",
       "  0.494938     0.483384\n",
       " -0.279155    -0.269155\n",
       "  0.13693      0.144784\n",
       " -0.398999    -0.39274\n",
       " -0.00312567   0.0260867\n",
       " -0.235556    -0.234534\n",
       " -0.100403    -0.0969734\n",
       "  0.08936      0.0955352"
      ]
     },
     "execution_count": 13,
     "metadata": {},
     "output_type": "execute_result"
    }
   ],
   "source": [
    "[vec(qc_model.B) vec(Btrue)]"
   ]
  },
  {
   "cell_type": "code",
   "execution_count": 14,
   "metadata": {
    "collapsed": false
   },
   "outputs": [
    {
     "data": {
      "text/plain": [
       "2×2 Matrix{Float64}:\n",
       " 0.453502  0.4\n",
       " 0.412442  0.4"
      ]
     },
     "execution_count": 14,
     "metadata": {},
     "output_type": "execute_result"
    }
   ],
   "source": [
    "[qc_model.θ θtrue]"
   ]
  },
  {
   "cell_type": "markdown",
   "metadata": {
    "collapsed": true
   },
   "source": [
    "## Score test"
   ]
  },
  {
   "cell_type": "code",
   "execution_count": null,
   "metadata": {
    "collapsed": true
   },
   "outputs": [],
   "source": []
  }
 ],
 "metadata": {
  "@webio": {
   "lastCommId": null,
   "lastKernelId": null
  },
  "kernelspec": {
   "display_name": "Julia 1.7.3",
   "language": "julia",
   "name": "julia-1.7"
  },
  "language_info": {
   "file_extension": ".jl",
   "mimetype": "application/julia",
   "name": "julia",
   "version": "1.7.3"
  },
  "toc": {
   "base_numbering": 1,
   "nav_menu": {},
   "number_sections": true,
   "sideBar": true,
   "skip_h1_title": false,
   "title_cell": "Table of Contents",
   "title_sidebar": "Contents",
   "toc_cell": false,
   "toc_position": {},
   "toc_section_display": true,
   "toc_window_display": false
  }
 },
 "nbformat": 4,
 "nbformat_minor": 2
}
