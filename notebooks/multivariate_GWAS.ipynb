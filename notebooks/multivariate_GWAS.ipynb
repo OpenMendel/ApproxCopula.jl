{
 "cells": [
  {
   "cell_type": "markdown",
   "metadata": {},
   "source": [
    "# Multivariate QuasiCopula GWAS with Mixed Marginals\n",
    "\n",
    "Here we adopt the variance component model framework\n",
    "\n",
    "$$\\mathbf{\\Gamma}_i(\\mathbf{\\theta}) = \\sum_{k=1}^m \\theta_k\\mathbf{V}_{ik}, \\quad \\theta_k \\ge 0$$"
   ]
  },
  {
   "cell_type": "code",
   "execution_count": 1,
   "metadata": {
    "collapsed": false
   },
   "outputs": [
    {
     "name": "stderr",
     "output_type": "stream",
     "text": [
      "┌ Info: Precompiling QuasiCopula [c47b6ae2-b804-4668-9957-eb588c99ffbc]\n",
      "└ @ Base loading.jl:1423\n"
     ]
    },
    {
     "data": {
      "text/plain": [
       "_make_snparray (generic function with 1 method)"
      ]
     },
     "execution_count": 1,
     "metadata": {},
     "output_type": "execute_result"
    }
   ],
   "source": [
    "using Revise\n",
    "using DataFrames, Random, GLM, QuasiCopula\n",
    "using ForwardDiff, Test, LinearAlgebra\n",
    "using LinearAlgebra: BlasReal, copytri!\n",
    "using ToeplitzMatrices\n",
    "using BenchmarkTools\n",
    "using SnpArrays\n",
    "using Statistics\n",
    "\n",
    "BLAS.set_num_threads(1)\n",
    "Threads.nthreads()\n",
    "\n",
    "function simulate_random_snparray(s::Union{String, UndefInitializer}, n::Int64,\n",
    "    p::Int64; mafs::Vector{Float64}=zeros(Float64, p), min_ma::Int = 5)\n",
    "\n",
    "    #first simulate a random {0, 1, 2} matrix with each SNP drawn from Binomial(2, r[i])\n",
    "    A1 = BitArray(undef, n, p) \n",
    "    A2 = BitArray(undef, n, p) \n",
    "    for j in 1:p\n",
    "        minor_alleles = 0\n",
    "        maf = 0\n",
    "        while minor_alleles <= min_ma\n",
    "            maf = 0.5rand()\n",
    "            for i in 1:n\n",
    "                A1[i, j] = rand(Bernoulli(maf))\n",
    "                A2[i, j] = rand(Bernoulli(maf))\n",
    "            end\n",
    "            minor_alleles = sum(view(A1, :, j)) + sum(view(A2, :, j))\n",
    "        end\n",
    "        mafs[j] = maf\n",
    "    end\n",
    "\n",
    "    #fill the SnpArray with the corresponding x_tmp entry\n",
    "    return _make_snparray(s, A1, A2)\n",
    "end\n",
    "\n",
    "function _make_snparray(s::Union{String, UndefInitializer}, A1::BitArray, A2::BitArray)\n",
    "    n, p = size(A1)\n",
    "    x = SnpArray(s, n, p)\n",
    "    for i in 1:(n*p)\n",
    "        c = A1[i] + A2[i]\n",
    "        if c == 0\n",
    "            x[i] = 0x00\n",
    "        elseif c == 1\n",
    "            x[i] = 0x02\n",
    "        elseif c == 2\n",
    "            x[i] = 0x03\n",
    "        else\n",
    "            throw(MissingException(\"matrix shouldn't have missing values!\"))\n",
    "        end\n",
    "    end\n",
    "    return x\n",
    "end\n"
   ]
  },
  {
   "cell_type": "markdown",
   "metadata": {},
   "source": [
    "## Simulate data\n",
    "\n",
    "Given $n$ independent samples, we simulate phenotypes from \n",
    "$$\\mathbf{y}_i \\sim QC(\\mathbf{\\Gamma}, f_1, ..., f_d)$$"
   ]
  },
  {
   "cell_type": "code",
   "execution_count": 153,
   "metadata": {
    "collapsed": false
   },
   "outputs": [],
   "source": [
    "# simulate data\n",
    "p = 5    # number of fixed effects, including intercept\n",
    "m = 2    # number of variance componentsac\n",
    "n = 5000 # number of sample\n",
    "d = 3    # number of phenotypes per sample\n",
    "q = 1000 # number of SNPs\n",
    "k = 0   # number of causal SNPs\n",
    "\n",
    "# sample d marginal distributions for each phenotype within samples\n",
    "Random.seed!(1234)\n",
    "possible_distributions = [Bernoulli, Poisson, Normal]\n",
    "vecdist = rand(possible_distributions, d)\n",
    "# vecdist = [Poisson, Bernoulli, Bernoulli] # this derivative test is fine\n",
    "# vecdist = [Bernoulli, Bernoulli, Poisson] # this derivative test is wrong everywhere\n",
    "veclink = [canonicallink(vecdist[j]()) for j in 1:d]\n",
    "\n",
    "# simulate nongenetic coefficient and variance component params\n",
    "Random.seed!(2022)\n",
    "Btrue = rand(Uniform(-0.5, 0.5), p, d)\n",
    "θtrue = fill(0.4, m)\n",
    "V1 = ones(d, d)\n",
    "V2 = Matrix(I, d, d)\n",
    "Γ = m == 1 ? θtrue[1] * V1 : θtrue[1] * V1 + θtrue[2] * V2\n",
    "\n",
    "# simulate non-genetic design matrix\n",
    "Random.seed!(2022)\n",
    "X = [ones(n) randn(n, p - 1)]\n",
    "\n",
    "# simulate random SnpArray with q SNPs and randomly choose k SNPs to be causal\n",
    "Random.seed!(2022)\n",
    "G = simulate_random_snparray(undef, n, q)\n",
    "Gfloat = convert(Matrix{Float64}, G, center=true, scale=true)\n",
    "γtrue = zeros(q, d)\n",
    "causal_snps = sample(1:q, k, replace=false) |> sort\n",
    "for j in 1:d\n",
    "    γtrue[causal_snps, j] .= rand([-1, 1], k)\n",
    "end\n",
    "\n",
    "# sample phenotypes\n",
    "Y = zeros(n, d)\n",
    "y = Vector{Float64}(undef, d)\n",
    "for i in 1:n\n",
    "    Xi = X[i, :]\n",
    "    Gi = Gfloat[i, :]\n",
    "    η = Btrue' * Xi + γtrue' * Gi\n",
    "    vecd_tmp = Vector{UnivariateDistribution}(undef, d)\n",
    "    for j in 1:d\n",
    "        dist = vecdist[j]\n",
    "        μj = GLM.linkinv(canonicallink(dist()), η[j])\n",
    "        vecd_tmp[j] = dist(μj)\n",
    "    end\n",
    "    multivariate_dist = MultivariateMix(vecd_tmp, Γ)\n",
    "    res = Vector{Float64}(undef, d)\n",
    "    rand(multivariate_dist, y, res)\n",
    "    Y[i, :] .= y\n",
    "end\n",
    "\n",
    "# form model\n",
    "V = m == 1 ? [V1] : [V1, V2]\n",
    "qc_model = MultivariateCopulaVCModel(Y, X, V, vecdist, veclink);"
   ]
  },
  {
   "cell_type": "code",
   "execution_count": 154,
   "metadata": {
    "collapsed": false
   },
   "outputs": [
    {
     "data": {
      "text/plain": [
       "5000×5 Matrix{Float64}:\n",
       " 1.0  -0.308648    1.70162   -0.89417      0.780388\n",
       " 1.0   1.67671    -0.548034  -1.49492      0.252805\n",
       " 1.0  -0.347153    0.736227   1.17736     -1.43366\n",
       " 1.0   0.818666   -2.16009    0.0765732   -2.35217\n",
       " 1.0  -1.71753    -0.273745  -1.47406      0.718669\n",
       " 1.0  -0.238934    0.942883   0.0937242    0.936967\n",
       " 1.0   0.701932    1.02868   -2.34081     -1.18712\n",
       " 1.0  -0.166138   -0.278824   1.23083     -0.157013\n",
       " 1.0  -0.609614    0.289359   0.86016      0.480996\n",
       " 1.0   0.68791     0.209478   0.126272     1.35729\n",
       " 1.0   0.0342303  -0.543192  -1.08445     -0.826963\n",
       " 1.0  -0.479078   -0.865401  -0.761236    -0.032467\n",
       " 1.0  -1.63537     0.348029  -0.0360208   -0.731861\n",
       " ⋮                                        \n",
       " 1.0   0.200555    1.14607   -0.504242     0.167705\n",
       " 1.0  -0.205806    1.98172    0.684624     1.33652\n",
       " 1.0   1.17812     0.307879  -0.859732     0.578845\n",
       " 1.0   1.60549     0.817788   2.07335     -1.95796\n",
       " 1.0   1.63509    -0.960082   0.722145     0.021941\n",
       " 1.0  -0.446096   -1.0502    -1.33555     -0.195678\n",
       " 1.0   0.632009   -0.335688   0.993738    -0.0534471\n",
       " 1.0   0.589777   -1.92135    2.35823      1.32438\n",
       " 1.0  -0.542628    1.68057    0.970805    -0.0112329\n",
       " 1.0  -0.779274    0.6376     0.00467221  -0.630229\n",
       " 1.0  -1.19111    -1.3064     0.220558    -1.26426\n",
       " 1.0   0.505272    1.11117   -0.35311     -1.17998"
      ]
     },
     "execution_count": 154,
     "metadata": {},
     "output_type": "execute_result"
    }
   ],
   "source": [
    "X"
   ]
  },
  {
   "cell_type": "code",
   "execution_count": 155,
   "metadata": {
    "collapsed": false
   },
   "outputs": [
    {
     "data": {
      "text/plain": [
       "3-element Vector{UnionAll}:\n",
       " Poisson\n",
       " Bernoulli\n",
       " Bernoulli"
      ]
     },
     "execution_count": 155,
     "metadata": {},
     "output_type": "execute_result"
    }
   ],
   "source": [
    "vecdist"
   ]
  },
  {
   "cell_type": "code",
   "execution_count": 156,
   "metadata": {
    "collapsed": false
   },
   "outputs": [
    {
     "data": {
      "text/plain": [
       "5000×3 Matrix{Float64}:\n",
       " 1.0  1.0  0.0\n",
       " 2.0  1.0  0.0\n",
       " 0.0  1.0  0.0\n",
       " 0.0  1.0  0.0\n",
       " 0.0  0.0  0.0\n",
       " 1.0  0.0  1.0\n",
       " 0.0  0.0  0.0\n",
       " 3.0  0.0  0.0\n",
       " 1.0  1.0  1.0\n",
       " 2.0  0.0  0.0\n",
       " 0.0  0.0  0.0\n",
       " 0.0  0.0  1.0\n",
       " 0.0  1.0  0.0\n",
       " ⋮         \n",
       " 1.0  0.0  0.0\n",
       " 2.0  1.0  0.0\n",
       " 1.0  1.0  1.0\n",
       " 1.0  0.0  1.0\n",
       " 0.0  0.0  0.0\n",
       " 1.0  0.0  0.0\n",
       " 0.0  0.0  0.0\n",
       " 3.0  0.0  1.0\n",
       " 4.0  0.0  1.0\n",
       " 0.0  0.0  1.0\n",
       " 2.0  1.0  1.0\n",
       " 0.0  0.0  0.0"
      ]
     },
     "execution_count": 156,
     "metadata": {},
     "output_type": "execute_result"
    }
   ],
   "source": [
    "Y"
   ]
  },
  {
   "cell_type": "code",
   "execution_count": 157,
   "metadata": {
    "collapsed": false
   },
   "outputs": [
    {
     "data": {
      "text/plain": [
       "3×3 Matrix{Float64}:\n",
       " 1.0       0.140945  0.12974\n",
       " 0.140945  1.0       0.143133\n",
       " 0.12974   0.143133  1.0"
      ]
     },
     "execution_count": 157,
     "metadata": {},
     "output_type": "execute_result"
    }
   ],
   "source": [
    "Statistics.cor(Y)"
   ]
  },
  {
   "cell_type": "markdown",
   "metadata": {},
   "source": [
    "## Fit Null model\n",
    "\n",
    "TODO: \n",
    "\n",
    "+ Initializing model parameters"
   ]
  },
  {
   "cell_type": "code",
   "execution_count": 158,
   "metadata": {
    "collapsed": false
   },
   "outputs": [
    {
     "name": "stdout",
     "output_type": "stream",
     "text": [
      "This is Ipopt version 3.13.4, running with linear solver mumps.\n",
      "NOTE: Other linear solvers might be more efficient (see Ipopt documentation).\n",
      "\n",
      "Starting derivative checker for first derivatives.\n",
      "\n",
      "\n",
      "No errors detected by derivative checker.\n",
      "\n",
      "Number of nonzeros in equality constraint Jacobian...:        0\n",
      "Number of nonzeros in inequality constraint Jacobian.:        0\n",
      "Number of nonzeros in Lagrangian Hessian.............:        0\n",
      "\n",
      "Total number of variables............................:       17\n",
      "                     variables with only lower bounds:        2\n",
      "                variables with lower and upper bounds:        0\n",
      "                     variables with only upper bounds:        0\n",
      "Total number of equality constraints.................:        0\n",
      "Total number of inequality constraints...............:        0\n",
      "        inequality constraints with only lower bounds:        0\n",
      "   inequality constraints with lower and upper bounds:        0\n",
      "        inequality constraints with only upper bounds:        0\n",
      "\n",
      "iter    objective    inf_pr   inf_du lg(mu)  ||d||  lg(rg) alpha_du alpha_pr  ls\n",
      "   0  1.4091408e+04 0.00e+00 1.77e+00   0.0 0.00e+00    -  0.00e+00 0.00e+00   0\n",
      "   1  1.3834145e+04 0.00e+00 5.93e-01  -2.9 1.77e+00    -  1.00e+00 2.50e-01f  3\n",
      "   2  1.3834290e+04 0.00e+00 5.95e-01  -4.5 2.40e-01    -  1.00e+00 9.77e-04h 11\n",
      "   3  1.3834442e+04 0.00e+00 5.81e-01  -3.5 2.81e+00    -  1.00e+00 1.35e-04h 11\n",
      "   4  1.3834595e+04 0.00e+00 4.93e-01  -3.5 2.56e+00    -  1.00e+00 1.48e-04h 11\n",
      "\n",
      "Number of Iterations....: 4\n",
      "\n",
      "                                   (scaled)                 (unscaled)\n",
      "Objective...............:   1.3834595433671282e+04    1.3834595433671282e+04\n",
      "Dual infeasibility......:   4.9265090247801729e-01    4.9265090247801729e-01\n",
      "Constraint violation....:   0.0000000000000000e+00    0.0000000000000000e+00\n",
      "Complementarity.........:   4.0506417025092632e-02    4.0506417025092632e-02\n",
      "Overall NLP error.......:   4.9265090247801729e-01    4.9265090247801729e-01\n",
      "\n",
      "\n",
      "Number of objective function evaluations             = 53\n",
      "Number of objective gradient evaluations             = 5\n",
      "Number of equality constraint evaluations            = 0\n",
      "Number of inequality constraint evaluations          = 0\n",
      "Number of equality constraint Jacobian evaluations   = 0\n",
      "Number of inequality constraint Jacobian evaluations = 0\n",
      "Number of Lagrangian Hessian evaluations             = 0\n",
      "Total CPU secs in IPOPT (w/o function evaluations)   =      0.526\n",
      "Total CPU secs in NLP function evaluations           =      1.187\n",
      "\n",
      "EXIT: Maximum Number of Iterations Exceeded.\n",
      "  1.742533 seconds (49.22 M allocations: 769.363 MiB, 1.74% gc time)\n"
     ]
    },
    {
     "name": "stderr",
     "output_type": "stream",
     "text": [
      "┌ Warning: Optimization unsuccesful; got UserLimit\n",
      "└ @ QuasiCopula /Users/biona001/.julia/dev/QuasiCopula/src/gwas/multivariate.jl:155\n"
     ]
    }
   ],
   "source": [
    "@time optm = QuasiCopula.fit!(qc_model,\n",
    "    Ipopt.IpoptSolver(\n",
    "        print_level = 5, \n",
    "        tol = 10^-6, \n",
    "        max_iter = 4,\n",
    "        accept_after_max_steps = 10,\n",
    "        warm_start_init_point=\"yes\", \n",
    "        limited_memory_max_history = 6, # default value\n",
    "        hessian_approximation = \"limited-memory\",\n",
    "        derivative_test=\"first-order\"\n",
    "    )\n",
    ");"
   ]
  },
  {
   "cell_type": "code",
   "execution_count": null,
   "metadata": {
    "collapsed": true
   },
   "outputs": [],
   "source": []
  },
  {
   "cell_type": "code",
   "execution_count": null,
   "metadata": {
    "collapsed": true
   },
   "outputs": [],
   "source": []
  },
  {
   "cell_type": "code",
   "execution_count": 159,
   "metadata": {
    "collapsed": false
   },
   "outputs": [
    {
     "name": "stdout",
     "output_type": "stream",
     "text": [
      "This is Ipopt version 3.13.4, running with linear solver mumps.\n",
      "NOTE: Other linear solvers might be more efficient (see Ipopt documentation).\n",
      "\n",
      "Number of nonzeros in equality constraint Jacobian...:        0\n",
      "Number of nonzeros in inequality constraint Jacobian.:        0\n",
      "Number of nonzeros in Lagrangian Hessian.............:        0\n",
      "\n",
      "Total number of variables............................:       17\n",
      "                     variables with only lower bounds:        2\n",
      "                variables with lower and upper bounds:        0\n",
      "                     variables with only upper bounds:        0\n",
      "Total number of equality constraints.................:        0\n",
      "Total number of inequality constraints...............:        0\n",
      "        inequality constraints with only lower bounds:        0\n",
      "   inequality constraints with lower and upper bounds:        0\n",
      "        inequality constraints with only upper bounds:        0\n",
      "\n",
      "iter    objective    inf_pr   inf_du lg(mu)  ||d||  lg(rg) alpha_du alpha_pr  ls\n",
      "   0  1.4091408e+04 0.00e+00 1.77e+00   0.0 0.00e+00    -  0.00e+00 0.00e+00   0\n",
      "   1  1.3834145e+04 0.00e+00 5.93e-01  -2.9 1.77e+00    -  1.00e+00 2.50e-01f  3\n",
      "   2  1.3834290e+04 0.00e+00 5.95e-01  -4.5 2.40e-01    -  1.00e+00 9.77e-04h 11\n",
      "   3  1.3834442e+04 0.00e+00 5.81e-01  -3.5 2.81e+00    -  1.00e+00 1.35e-04h 11\n",
      "   4  1.3834595e+04 0.00e+00 4.93e-01  -3.5 2.56e+00    -  1.00e+00 1.48e-04h 11\n",
      "   5  1.3834753e+04 0.00e+00 3.44e-01  -3.5 1.60e+00    -  1.00e+00 2.36e-04h 11\n",
      "   6  1.3835031e+04 0.00e+00 3.43e-01  -3.5 3.44e-01    -  1.00e+00 9.77e-04h 11\n",
      "   7  1.3835220e+04 0.00e+00 3.43e-01  -3.5 5.37e-01    -  1.00e+00 7.03e-04h 11\n",
      "   8  1.3835358e+04 0.00e+00 3.43e-01  -3.5 7.56e-01    -  1.00e+00 4.99e-04h 11\n",
      "   9  1.3835435e+04 0.00e+00 5.27e-01  -3.5 8.40e-01    -  1.00e+00 7.48e-04h 11\n",
      "iter    objective    inf_pr   inf_du lg(mu)  ||d||  lg(rg) alpha_du alpha_pr  ls\n",
      "  10  1.3835453e+04 0.00e+00 6.25e-01  -3.5 1.07e+00    -  1.00e+00 6.96e-04h 11\n",
      "  11  1.3835512e+04 0.00e+00 6.94e-01  -3.5 1.21e+00    -  1.00e+00 6.14e-04h 11\n",
      "  12  1.3813941e+04 0.00e+00 5.76e-01  -3.5 1.92e+00    -  1.00e+00 9.90e-02f  3\n",
      "  13  1.3814114e+04 0.00e+00 5.75e-01  -0.8 5.52e-01    -  1.00e+00 9.77e-04h 11\n",
      "  14  1.3814234e+04 0.00e+00 5.82e-01  -0.6 2.27e-01    -  1.00e+00 9.77e-04h 11\n",
      "  15  1.3814467e+04 0.00e+00 5.57e-01  -1.3 4.23e-01    -  1.00e+00 9.77e-04h 11\n",
      "  16  1.3814701e+04 0.00e+00 8.90e-01  -1.3 1.05e+00    -  1.00e+00 5.27e-04h 11\n",
      "  17  1.3814987e+04 0.00e+00 9.96e-01  -1.3 5.87e-01    -  1.00e+00 9.38e-04h 11\n",
      "  18  1.3815271e+04 0.00e+00 1.00e+00  -1.3 5.08e-01    -  1.00e+00 9.77e-04h 11\n",
      "  19  1.3815559e+04 0.00e+00 9.92e-01  -1.3 4.95e-01    -  1.00e+00 9.77e-04h 11\n",
      "iter    objective    inf_pr   inf_du lg(mu)  ||d||  lg(rg) alpha_du alpha_pr  ls\n",
      "  20  1.3815843e+04 0.00e+00 9.91e-01  -1.3 5.01e-01    -  1.00e+00 9.77e-04h 11\n",
      "  21  1.3816287e+04 0.00e+00 9.84e-01  -1.3 6.95e-01    -  1.00e+00 9.77e-04h 11\n",
      "  22  1.3816584e+04 0.00e+00 9.90e-01  -1.3 5.04e-01    -  1.00e+00 9.77e-04h 11\n",
      "  23  1.3816881e+04 0.00e+00 9.90e-01  -1.3 5.01e-01    -  1.00e+00 9.77e-04h 11\n",
      "  24  1.3817181e+04 0.00e+00 9.92e-01  -1.3 5.01e-01    -  1.00e+00 9.77e-04h 11\n",
      "  25  1.5631198e+04 0.00e+00 1.11e+00  -1.3 5.03e-01    -  1.00e+00 1.00e+00w  1\n",
      "  26  1.6741123e+04 0.00e+00 3.19e-01  -1.3 3.96e-01    -  1.00e+00 4.14e-01w  1\n",
      "  27  1.6741898e+04 0.00e+00 6.17e-01  -2.0 1.23e-01    -  1.00e+00 9.77e-04h 11\n",
      "  28  1.6744045e+04 0.00e+00 8.46e-01  -2.0 3.28e-01    -  1.00e+00 9.77e-04h 11\n",
      "  29  1.6746421e+04 0.00e+00 8.71e-01  -2.0 3.23e-01    -  1.00e+00 9.77e-04h 11\n",
      "iter    objective    inf_pr   inf_du lg(mu)  ||d||  lg(rg) alpha_du alpha_pr  ls\n",
      "  30  1.6748858e+04 0.00e+00 8.88e-01  -2.0 3.40e-01    -  1.00e+00 9.77e-04h 11\n",
      "  31  1.6751319e+04 0.00e+00 8.69e-01  -2.0 3.40e-01    -  1.00e+00 9.77e-04h 11\n",
      "  32  1.6753789e+04 0.00e+00 8.41e-01  -2.0 3.38e-01    -  1.00e+00 9.77e-04h 11\n",
      "  33  1.6756302e+04 0.00e+00 7.72e-01  -2.0 3.24e-01    -  1.00e+00 9.77e-04h 11\n",
      "  34  1.6758815e+04 0.00e+00 7.68e-01  -2.0 3.25e-01    -  1.00e+00 9.77e-04h 11\n",
      "  35  1.6761330e+04 0.00e+00 7.71e-01  -2.0 3.24e-01    -  1.00e+00 9.77e-04h 11\n",
      "  36  1.6763847e+04 0.00e+00 7.71e-01  -2.0 3.24e-01    -  1.00e+00 9.77e-04h 11\n",
      "  37  2.0220760e+04 0.00e+00 2.70e-01  -2.0 3.24e-01    -  1.00e+00 1.00e+00w  1\n",
      "  38  2.3085187e+04 0.00e+00 1.77e-01  -2.0 1.76e-01    -  1.00e+00 1.00e+00w  1\n",
      "  39  2.8493017e+04 0.00e+00 6.49e-02  -2.0 2.22e-01    -  1.00e+00 1.00e+00w  1\n",
      "iter    objective    inf_pr   inf_du lg(mu)  ||d||  lg(rg) alpha_du alpha_pr  ls\n",
      "  40  2.8499648e+04 0.00e+00 6.19e-02  -3.0 2.02e-01    -  1.00e+00 9.77e-04h 11\n",
      "  41  2.8509196e+04 0.00e+00 1.02e-01  -3.0 2.98e-01    -  1.00e+00 9.77e-04h 11\n",
      "  42  2.8518766e+04 0.00e+00 8.94e-02  -3.0 2.98e-01    -  1.00e+00 9.77e-04h 11\n",
      "  43  2.8528345e+04 0.00e+00 8.88e-02  -3.0 2.98e-01    -  1.00e+00 9.77e-04h 11\n",
      "  44  2.8537931e+04 0.00e+00 8.88e-02  -3.0 2.98e-01    -  1.00e+00 9.77e-04h 11\n",
      "  45  2.8547522e+04 0.00e+00 8.87e-02  -3.0 2.98e-01    -  1.00e+00 9.77e-04h 11\n",
      "  46  2.8557120e+04 0.00e+00 8.86e-02  -3.0 2.98e-01    -  1.00e+00 9.77e-04h 11\n",
      "  47  2.8566725e+04 0.00e+00 8.85e-02  -3.0 2.98e-01    -  1.00e+00 9.77e-04h 11\n",
      "  48  2.8576336e+04 0.00e+00 8.84e-02  -3.0 2.98e-01    -  1.00e+00 9.77e-04h 11\n",
      "  49  2.8585954e+04 0.00e+00 8.84e-02  -3.0 2.98e-01    -  1.00e+00 9.77e-04h 11\n",
      "iter    objective    inf_pr   inf_du lg(mu)  ||d||  lg(rg) alpha_du alpha_pr  ls\n",
      "  50  4.3676341e+04 0.00e+00 2.28e-02  -3.0 2.98e-01    -  1.00e+00 1.00e+00w  1\n",
      "  51  5.9384012e+04 0.00e+00 2.83e-02  -3.0 1.71e-01    -  1.00e+00 1.00e+00w  1\n",
      "  52  9.6104083e+04 0.00e+00 6.05e-03  -3.0 2.18e-01    -  1.00e+00 1.00e+00w  1\n",
      "  53  9.6150117e+04 0.00e+00 5.98e-03  -4.5 1.99e-01    -  1.00e+00 9.77e-04h 11\n",
      "  54  9.6218050e+04 0.00e+00 1.02e-02  -4.5 2.95e-01    -  1.00e+00 9.77e-04h 11\n",
      "  55  9.6286059e+04 0.00e+00 8.84e-03  -4.5 2.95e-01    -  1.00e+00 9.77e-04h 11\n",
      "  56  9.6354131e+04 0.00e+00 8.82e-03  -4.5 2.95e-01    -  1.00e+00 9.77e-04h 11\n",
      "  57  9.6422268e+04 0.00e+00 8.82e-03  -4.5 2.95e-01    -  1.00e+00 9.77e-04h 11\n",
      "  58  9.6490469e+04 0.00e+00 8.81e-03  -4.5 2.95e-01    -  1.00e+00 9.77e-04h 11\n",
      "  59  9.6558734e+04 0.00e+00 8.80e-03  -4.5 2.95e-01    -  1.00e+00 9.77e-04h 11\n",
      "iter    objective    inf_pr   inf_du lg(mu)  ||d||  lg(rg) alpha_du alpha_pr  ls\n",
      "  60  9.6627063e+04 0.00e+00 8.79e-03  -4.5 2.95e-01    -  1.00e+00 9.77e-04h 11\n",
      "  61  9.6695457e+04 0.00e+00 8.78e-03  -4.5 2.95e-01    -  1.00e+00 9.77e-04h 11\n",
      "  62  9.6763914e+04 0.00e+00 8.77e-03  -4.5 2.95e-01    -  1.00e+00 9.77e-04h 11\n",
      "  63  2.1693122e+05 0.00e+00 2.19e-03  -4.5 2.95e-01    -  1.00e+00 1.00e+00w  1\n",
      "  64  3.6866028e+05 0.00e+00 2.87e-03  -4.5 1.71e-01    -  1.00e+00 1.00e+00w  1\n",
      "  65  7.5825305e+05 0.00e+00 5.84e-04  -4.5 2.17e-01    -  1.00e+00 1.00e+00w  1\n",
      "  66  9.6798168e+04 0.00e+00 8.77e-03  -4.5 1.99e-01    -  1.00e+00 4.88e-04h 11\n",
      "  67  9.6974052e+04 0.00e+00 9.06e-03  -4.5 7.58e-01    -  1.00e+00 9.77e-04h 11\n",
      "  68  9.7042726e+04 0.00e+00 7.01e-03  -4.5 2.95e-01    -  1.00e+00 9.77e-04h 11\n",
      "  69  9.7111512e+04 0.00e+00 8.73e-03  -4.5 2.95e-01    -  1.00e+00 9.77e-04h 11\n",
      "iter    objective    inf_pr   inf_du lg(mu)  ||d||  lg(rg) alpha_du alpha_pr  ls\n",
      "  70  9.7180362e+04 0.00e+00 8.73e-03  -4.5 2.95e-01    -  1.00e+00 9.77e-04h 11\n",
      "  71  9.7249277e+04 0.00e+00 8.72e-03  -4.5 2.95e-01    -  1.00e+00 9.77e-04h 11\n",
      "  72  9.7318257e+04 0.00e+00 8.71e-03  -4.5 2.95e-01    -  1.00e+00 9.77e-04h 11\n",
      "  73  9.7387302e+04 0.00e+00 8.70e-03  -4.5 2.95e-01    -  1.00e+00 9.77e-04h 11\n",
      "  74  9.7456412e+04 0.00e+00 8.69e-03  -4.5 2.95e-01    -  1.00e+00 9.77e-04h 11\n",
      "  75  9.7525587e+04 0.00e+00 8.68e-03  -4.5 2.95e-01    -  1.00e+00 9.77e-04h 11\n",
      "  76  2.1899631e+05 0.00e+00 2.17e-03  -4.5 2.95e-01    -  1.00e+00 1.00e+00w  1\n",
      "  77  3.7244509e+05 0.00e+00 2.84e-03  -4.5 1.71e-01    -  1.00e+00 1.00e+00w  1\n",
      "  78  7.6656620e+05 0.00e+00 5.78e-04  -4.5 2.17e-01    -  1.00e+00 1.00e+00w  1\n",
      "  79  9.7560198e+04 0.00e+00 8.68e-03  -4.5 1.99e-01    -  1.00e+00 4.88e-04h 11\n",
      "iter    objective    inf_pr   inf_du lg(mu)  ||d||  lg(rg) alpha_du alpha_pr  ls\n",
      "  80  9.7737932e+04 0.00e+00 8.96e-03  -4.5 7.58e-01    -  1.00e+00 9.77e-04h 11\n",
      "  81  9.7807326e+04 0.00e+00 6.94e-03  -4.5 2.95e-01    -  1.00e+00 9.77e-04h 11\n",
      "  82  9.7876833e+04 0.00e+00 8.65e-03  -4.5 2.95e-01    -  1.00e+00 9.77e-04h 11\n",
      "  83  9.7946404e+04 0.00e+00 8.64e-03  -4.5 2.95e-01    -  1.00e+00 9.77e-04h 11\n",
      "  84  9.8016041e+04 0.00e+00 8.63e-03  -4.5 2.95e-01    -  1.00e+00 9.77e-04h 11\n",
      "  85  9.8085744e+04 0.00e+00 8.62e-03  -4.5 2.95e-01    -  1.00e+00 9.77e-04h 11\n",
      "  86  9.8155512e+04 0.00e+00 8.61e-03  -4.5 2.95e-01    -  1.00e+00 9.77e-04h 11\n",
      "  87  9.8225347e+04 0.00e+00 8.60e-03  -4.5 2.95e-01    -  1.00e+00 9.77e-04h 11\n",
      "  88  9.8295247e+04 0.00e+00 8.59e-03  -4.5 2.95e-01    -  1.00e+00 9.77e-04h 11\n",
      "  89  2.2108445e+05 0.00e+00 2.14e-03  -4.5 2.95e-01    -  1.00e+00 1.00e+00w  1\n",
      "iter    objective    inf_pr   inf_du lg(mu)  ||d||  lg(rg) alpha_du alpha_pr  ls\n",
      "  90  3.7627326e+05 0.00e+00 2.82e-03  -4.5 1.71e-01    -  1.00e+00 1.00e+00w  1\n",
      "  91  7.7497701e+05 0.00e+00 5.72e-04  -4.5 2.17e-01    -  1.00e+00 1.00e+00w  1\n",
      "  92  9.8330221e+04 0.00e+00 8.59e-03  -4.5 1.99e-01    -  1.00e+00 4.88e-04h 11\n",
      "  93  9.8509825e+04 0.00e+00 8.87e-03  -4.5 7.58e-01    -  1.00e+00 9.77e-04h 11\n",
      "  94  9.8579946e+04 0.00e+00 6.87e-03  -4.5 2.95e-01    -  1.00e+00 9.77e-04h 11\n",
      "  95  9.8650182e+04 0.00e+00 8.56e-03  -4.5 2.95e-01    -  1.00e+00 9.77e-04h 11\n",
      "  96  9.8720483e+04 0.00e+00 8.55e-03  -4.5 2.95e-01    -  1.00e+00 9.77e-04h 11\n",
      "  97  9.8790851e+04 0.00e+00 8.54e-03  -4.5 2.95e-01    -  1.00e+00 9.77e-04h 11\n",
      "  98  9.8861285e+04 0.00e+00 8.53e-03  -4.5 2.95e-01    -  1.00e+00 9.77e-04h 11\n",
      "  99  9.8931785e+04 0.00e+00 8.52e-03  -4.5 2.95e-01    -  1.00e+00 9.77e-04h 11\n",
      "iter    objective    inf_pr   inf_du lg(mu)  ||d||  lg(rg) alpha_du alpha_pr  ls\n",
      " 100  9.9002352e+04 0.00e+00 8.51e-03  -4.5 2.95e-01    -  1.00e+00 9.77e-04h 11\n",
      " 101  9.9072985e+04 0.00e+00 8.51e-03  -4.5 2.95e-01    -  1.00e+00 9.77e-04h 11\n",
      " 102  2.2319593e+05 0.00e+00 2.12e-03  -4.5 2.95e-01    -  1.00e+00 1.00e+00w  1\n",
      " 103  3.8014530e+05 0.00e+00 2.79e-03  -4.5 1.71e-01    -  1.00e+00 1.00e+00w  1\n",
      " 104  7.8348663e+05 0.00e+00 5.65e-04  -4.5 2.17e-01    -  1.00e+00 1.00e+00w  1\n",
      " 105  9.9108327e+04 0.00e+00 8.50e-03  -4.5 1.99e-01    -  1.00e+00 4.88e-04h 11\n",
      " 106  9.9289822e+04 0.00e+00 8.78e-03  -4.5 7.58e-01    -  1.00e+00 9.77e-04h 11\n",
      " 107  9.9360679e+04 0.00e+00 6.79e-03  -4.5 2.95e-01    -  1.00e+00 9.77e-04h 11\n",
      " 108  9.9431652e+04 0.00e+00 8.47e-03  -4.5 2.95e-01    -  1.00e+00 9.77e-04h 11\n",
      " 109  9.9502691e+04 0.00e+00 8.46e-03  -4.5 2.95e-01    -  1.00e+00 9.77e-04h 11\n",
      "iter    objective    inf_pr   inf_du lg(mu)  ||d||  lg(rg) alpha_du alpha_pr  ls\n",
      " 110  9.9573798e+04 0.00e+00 8.45e-03  -4.5 2.95e-01    -  1.00e+00 9.77e-04h 11\n",
      " 111  9.9644971e+04 0.00e+00 8.44e-03  -4.5 2.95e-01    -  1.00e+00 9.77e-04h 11\n",
      " 112  9.9716212e+04 0.00e+00 8.44e-03  -4.5 2.95e-01    -  1.00e+00 9.77e-04h 11\n",
      " 113  9.9787519e+04 0.00e+00 8.43e-03  -4.5 2.95e-01    -  1.00e+00 9.77e-04h 11\n",
      " 114  9.9858894e+04 0.00e+00 8.42e-03  -4.5 2.95e-01    -  1.00e+00 9.77e-04h 11\n",
      " 115  2.2533100e+05 0.00e+00 2.10e-03  -4.5 2.95e-01    -  1.00e+00 1.00e+00w  1\n",
      " 116  3.8406173e+05 0.00e+00 2.76e-03  -4.5 1.71e-01    -  1.00e+00 1.00e+00w  1\n",
      " 117  7.9209627e+05 0.00e+00 5.59e-04  -4.5 2.17e-01    -  1.00e+00 1.00e+00w  1\n",
      " 118  9.9894607e+04 0.00e+00 8.41e-03  -4.5 1.99e-01    -  1.00e+00 4.88e-04h 11\n",
      " 119  1.0007801e+05 0.00e+00 8.69e-03  -4.5 7.58e-01    -  1.00e+00 9.77e-04h 11\n",
      "iter    objective    inf_pr   inf_du lg(mu)  ||d||  lg(rg) alpha_du alpha_pr  ls\n",
      " 120  1.0014962e+05 0.00e+00 6.72e-03  -4.5 2.95e-01    -  1.00e+00 9.77e-04h 11\n",
      " 121  1.0022134e+05 0.00e+00 8.38e-03  -4.5 2.95e-01    -  1.00e+00 9.77e-04h 11\n",
      " 122  1.0029312e+05 0.00e+00 8.37e-03  -4.5 2.95e-01    -  1.00e+00 9.77e-04h 11\n",
      " 123  1.0036497e+05 0.00e+00 8.37e-03  -4.5 2.95e-01    -  1.00e+00 9.77e-04h 11\n",
      " 124  1.0043690e+05 0.00e+00 8.36e-03  -4.5 2.95e-01    -  1.00e+00 9.77e-04h 11\n",
      " 125  1.0050888e+05 0.00e+00 8.35e-03  -4.5 2.95e-01    -  1.00e+00 9.77e-04h 11\n",
      " 126  1.0058094e+05 0.00e+00 8.34e-03  -4.5 2.95e-01    -  1.00e+00 9.77e-04h 11\n",
      " 127  1.0065307e+05 0.00e+00 8.33e-03  -4.5 2.95e-01    -  1.00e+00 9.77e-04h 11\n",
      " 128  2.2748995e+05 0.00e+00 2.07e-03  -4.5 2.95e-01    -  1.00e+00 1.00e+00w  1\n",
      " 129  3.8802309e+05 0.00e+00 2.73e-03  -4.5 1.71e-01    -  1.00e+00 1.00e+00w  1\n",
      "iter    objective    inf_pr   inf_du lg(mu)  ||d||  lg(rg) alpha_du alpha_pr  ls\n",
      " 130  8.0080714e+05 0.00e+00 5.53e-04  -4.5 2.17e-01    -  1.00e+00 1.00e+00w  1\n",
      " 131  1.0068915e+05 0.00e+00 8.33e-03  -4.5 1.99e-01    -  1.00e+00 4.88e-04h 11\n",
      " 132  1.0087450e+05 0.00e+00 8.60e-03  -4.5 7.58e-01    -  1.00e+00 9.77e-04h 11\n",
      " 133  1.0094685e+05 0.00e+00 6.65e-03  -4.5 2.95e-01    -  1.00e+00 9.77e-04h 11\n",
      " 134  1.0101932e+05 0.00e+00 8.30e-03  -4.5 2.95e-01    -  1.00e+00 9.77e-04h 11\n",
      " 135  1.0109186e+05 0.00e+00 8.29e-03  -4.5 2.95e-01    -  1.00e+00 9.77e-04h 11\n",
      " 136  1.0116447e+05 0.00e+00 8.28e-03  -4.5 2.95e-01    -  1.00e+00 9.77e-04h 11\n",
      " 137  1.0123715e+05 0.00e+00 8.27e-03  -4.5 2.95e-01    -  1.00e+00 9.77e-04h 11\n",
      " 138  1.0130990e+05 0.00e+00 8.26e-03  -4.5 2.95e-01    -  1.00e+00 9.77e-04h 11\n",
      " 139  1.0138271e+05 0.00e+00 8.26e-03  -4.5 2.95e-01    -  1.00e+00 9.77e-04h 11\n",
      "iter    objective    inf_pr   inf_du lg(mu)  ||d||  lg(rg) alpha_du alpha_pr  ls\n",
      " 140  1.0145560e+05 0.00e+00 8.25e-03  -4.5 2.95e-01    -  1.00e+00 9.77e-04h 11\n",
      " 141  2.2967306e+05 0.00e+00 2.05e-03  -4.5 2.95e-01    -  1.00e+00 1.00e+00w  1\n",
      " 142  3.9202991e+05 0.00e+00 2.71e-03  -4.5 1.71e-01    -  1.00e+00 1.00e+00w  1\n",
      " 143  8.0962045e+05 0.00e+00 5.47e-04  -4.5 2.17e-01    -  1.00e+00 1.00e+00w  1\n",
      " 144  1.0149206e+05 0.00e+00 8.24e-03  -4.5 1.99e-01    -  1.00e+00 4.88e-04h 11\n",
      " 145  1.0167936e+05 0.00e+00 8.51e-03  -4.5 7.58e-01    -  1.00e+00 9.77e-04h 11\n",
      " 146  1.0175248e+05 0.00e+00 6.58e-03  -4.5 2.95e-01    -  1.00e+00 9.77e-04h 11\n",
      " 147  1.0182571e+05 0.00e+00 8.21e-03  -4.5 2.95e-01    -  1.00e+00 9.77e-04h 11\n",
      " 148  1.0189902e+05 0.00e+00 8.20e-03  -4.5 2.95e-01    -  1.00e+00 9.77e-04h 11\n",
      " 149  1.0197239e+05 0.00e+00 8.19e-03  -4.5 2.95e-01    -  1.00e+00 9.77e-04h 11\n",
      "iter    objective    inf_pr   inf_du lg(mu)  ||d||  lg(rg) alpha_du alpha_pr  ls\n",
      " 150  1.0204583e+05 0.00e+00 8.19e-03  -4.5 2.95e-01    -  1.00e+00 9.77e-04h 11\n",
      " 151  1.0211934e+05 0.00e+00 8.18e-03  -4.5 2.95e-01    -  1.00e+00 9.77e-04h 11\n",
      " 152  1.0219293e+05 0.00e+00 8.17e-03  -4.5 2.95e-01    -  1.00e+00 9.77e-04h 11\n",
      " 153  1.0226658e+05 0.00e+00 8.16e-03  -4.5 2.95e-01    -  1.00e+00 9.77e-04h 11\n",
      " 154  2.3188061e+05 0.00e+00 2.03e-03  -4.5 2.95e-01    -  1.00e+00 1.00e+00w  1\n",
      " 155  3.9608272e+05 0.00e+00 2.68e-03  -4.5 1.71e-01    -  1.00e+00 1.00e+00w  1\n",
      " 156  8.1853745e+05 0.00e+00 5.41e-04  -4.5 2.17e-01    -  1.00e+00 1.00e+00w  1\n",
      " 157  1.0230343e+05 0.00e+00 8.16e-03  -4.5 1.99e-01    -  1.00e+00 4.88e-04h 11\n",
      " 158  1.0249271e+05 0.00e+00 8.43e-03  -4.5 7.58e-01    -  1.00e+00 9.77e-04h 11\n",
      " 159  1.0256659e+05 0.00e+00 6.51e-03  -4.5 2.95e-01    -  1.00e+00 9.77e-04h 11\n",
      "iter    objective    inf_pr   inf_du lg(mu)  ||d||  lg(rg) alpha_du alpha_pr  ls\n",
      " 160  1.0264060e+05 0.00e+00 8.13e-03  -4.5 2.95e-01    -  1.00e+00 9.77e-04h 11\n",
      " 161  1.0271467e+05 0.00e+00 8.12e-03  -4.5 2.95e-01    -  1.00e+00 9.77e-04h 11\n",
      " 162  1.0278882e+05 0.00e+00 8.11e-03  -4.5 2.95e-01    -  1.00e+00 9.77e-04h 11\n",
      " 163  1.0286303e+05 0.00e+00 8.10e-03  -4.5 2.95e-01    -  1.00e+00 9.77e-04h 11\n",
      " 164  1.0293732e+05 0.00e+00 8.09e-03  -4.5 2.95e-01    -  1.00e+00 9.77e-04h 11\n",
      " 165  1.0301168e+05 0.00e+00 8.09e-03  -4.5 2.95e-01    -  1.00e+00 9.77e-04h 11\n",
      " 166  1.0308610e+05 0.00e+00 8.08e-03  -4.5 2.95e-01    -  1.00e+00 9.77e-04h 11\n",
      " 167  2.3411289e+05 0.00e+00 2.01e-03  -4.5 2.95e-01    -  1.00e+00 1.00e+00w  1\n",
      " 168  4.0018207e+05 0.00e+00 2.65e-03  -4.5 1.71e-01    -  1.00e+00 1.00e+00w  1\n",
      " 169  8.2755939e+05 0.00e+00 5.36e-04  -4.5 2.17e-01    -  1.00e+00 1.00e+00w  1\n",
      "iter    objective    inf_pr   inf_du lg(mu)  ||d||  lg(rg) alpha_du alpha_pr  ls\n",
      " 170  1.0312334e+05 0.00e+00 8.07e-03  -4.5 1.99e-01    -  1.00e+00 4.88e-04h 11\n",
      " 171  1.0331462e+05 0.00e+00 8.34e-03  -4.5 7.58e-01    -  1.00e+00 9.77e-04h 11\n",
      " 172  1.0338929e+05 0.00e+00 6.44e-03  -4.5 2.95e-01    -  1.00e+00 9.77e-04h 11\n",
      " 173  1.0346407e+05 0.00e+00 8.04e-03  -4.5 2.95e-01    -  1.00e+00 9.77e-04h 11\n",
      " 174  1.0353893e+05 0.00e+00 8.04e-03  -4.5 2.95e-01    -  1.00e+00 9.77e-04h 11\n",
      " 175  1.0361386e+05 0.00e+00 8.03e-03  -4.5 2.95e-01    -  1.00e+00 9.77e-04h 11\n",
      " 176  1.0368886e+05 0.00e+00 8.02e-03  -4.5 2.95e-01    -  1.00e+00 9.77e-04h 11\n",
      " 177  1.0376393e+05 0.00e+00 8.01e-03  -4.5 2.95e-01    -  1.00e+00 9.77e-04h 11\n",
      " 178  1.0383907e+05 0.00e+00 8.00e-03  -4.5 2.95e-01    -  1.00e+00 9.77e-04h 11\n",
      " 179  1.0391428e+05 0.00e+00 8.00e-03  -4.5 2.95e-01    -  1.00e+00 9.77e-04h 11\n",
      "iter    objective    inf_pr   inf_du lg(mu)  ||d||  lg(rg) alpha_du alpha_pr  ls\n",
      " 180  2.3637019e+05 0.00e+00 1.99e-03  -4.5 2.95e-01    -  1.00e+00 1.00e+00w  1\n",
      " 181  4.0432852e+05 0.00e+00 2.63e-03  -4.5 1.71e-01    -  1.00e+00 1.00e+00w  1\n",
      " 182  8.3668752e+05 0.00e+00 5.30e-04  -4.5 2.17e-01    -  1.00e+00 1.00e+00w  1\n",
      " 183  1.0395191e+05 0.00e+00 7.99e-03  -4.5 1.99e-01    -  1.00e+00 4.88e-04h 11\n",
      " 184  1.0414521e+05 0.00e+00 8.26e-03  -4.5 7.58e-01    -  1.00e+00 9.77e-04h 11\n",
      " 185  1.0422067e+05 0.00e+00 6.38e-03  -4.5 2.95e-01    -  1.00e+00 9.77e-04h 11\n",
      " 186  1.0429624e+05 0.00e+00 7.96e-03  -4.5 2.95e-01    -  1.00e+00 9.77e-04h 11\n",
      " 187  1.0437189e+05 0.00e+00 7.95e-03  -4.5 2.95e-01    -  1.00e+00 9.77e-04h 11\n",
      " 188  1.0444761e+05 0.00e+00 7.94e-03  -4.5 2.95e-01    -  1.00e+00 9.77e-04h 11\n",
      " 189  1.0452339e+05 0.00e+00 7.94e-03  -4.5 2.95e-01    -  1.00e+00 9.77e-04h 11\n",
      "iter    objective    inf_pr   inf_du lg(mu)  ||d||  lg(rg) alpha_du alpha_pr  ls\n",
      " 190  1.0459926e+05 0.00e+00 7.93e-03  -4.5 2.95e-01    -  1.00e+00 9.77e-04h 11\n",
      " 191  1.0467519e+05 0.00e+00 7.92e-03  -4.5 2.95e-01    -  1.00e+00 9.77e-04h 11\n",
      " 192  1.0475120e+05 0.00e+00 7.91e-03  -4.5 2.95e-01    -  1.00e+00 9.77e-04h 11\n",
      " 193  2.3865279e+05 0.00e+00 1.96e-03  -4.5 2.95e-01    -  1.00e+00 1.00e+00w  1\n",
      " 194  4.0852263e+05 0.00e+00 2.60e-03  -4.5 1.71e-01    -  1.00e+00 1.00e+00w  1\n",
      " 195  8.4592315e+05 0.00e+00 5.24e-04  -4.5 2.17e-01    -  1.00e+00 1.00e+00w  1\n",
      " 196  1.0478923e+05 0.00e+00 7.91e-03  -4.5 1.99e-01    -  1.00e+00 4.88e-04h 11\n",
      " 197  1.0498458e+05 0.00e+00 8.17e-03  -4.5 7.58e-01    -  1.00e+00 9.77e-04h 11\n",
      " 198  1.0506082e+05 0.00e+00 6.31e-03  -4.5 2.95e-01    -  1.00e+00 9.77e-04h 11\n",
      " 199  1.0513720e+05 0.00e+00 7.88e-03  -4.5 2.95e-01    -  1.00e+00 9.77e-04h 11\n",
      "iter    objective    inf_pr   inf_du lg(mu)  ||d||  lg(rg) alpha_du alpha_pr  ls\n",
      " 200  1.0521364e+05 0.00e+00 7.87e-03  -4.5 2.95e-01    -  1.00e+00 9.77e-04h 11\n",
      "\n",
      "Number of Iterations....: 200\n",
      "\n",
      "                                   (scaled)                 (unscaled)\n",
      "Objective...............:   1.0521364142650395e+05    1.0521364142650395e+05\n",
      "Dual infeasibility......:   7.8720858482719258e-03    7.8720858482719258e-03\n",
      "Constraint violation....:   0.0000000000000000e+00    0.0000000000000000e+00\n",
      "Complementarity.........:   8.8765161133509294e-04    8.8765161133509294e-04\n",
      "Overall NLP error.......:   7.8720858482719258e-03    7.8720858482719258e-03\n",
      "\n",
      "\n",
      "Number of objective function evaluations             = 2378\n",
      "Number of objective gradient evaluations             = 201\n",
      "Number of equality constraint evaluations            = 0\n",
      "Number of inequality constraint evaluations          = 0\n",
      "Number of equality constraint Jacobian evaluations   = 0\n",
      "Number of inequality constraint Jacobian evaluations = 0\n",
      "Number of Lagrangian Hessian evaluations             = 0\n",
      "Total CPU secs in IPOPT (w/o function evaluations)   =      0.641\n",
      "Total CPU secs in NLP function evaluations           =     53.029\n",
      "\n",
      "EXIT: Maximum Number of Iterations Exceeded.\n",
      " 53.900162 seconds (1.61 G allocations: 24.390 GiB, 1.42% gc time)\n"
     ]
    },
    {
     "name": "stderr",
     "output_type": "stream",
     "text": [
      "┌ Warning: Optimization unsuccesful; got UserLimit\n",
      "└ @ QuasiCopula /Users/biona001/.julia/dev/QuasiCopula/src/gwas/multivariate.jl:155\n"
     ]
    }
   ],
   "source": [
    "@time optm = QuasiCopula.fit!(qc_model,\n",
    "    Ipopt.IpoptSolver(\n",
    "        print_level = 5, \n",
    "        tol = 10^-6, \n",
    "        max_iter = 200,\n",
    "        accept_after_max_steps = 10,\n",
    "        warm_start_init_point=\"yes\", \n",
    "        limited_memory_max_history = 6, # default value\n",
    "        hessian_approximation = \"limited-memory\",\n",
    "#         derivative_test=\"first-order\"\n",
    "    )\n",
    ");"
   ]
  },
  {
   "cell_type": "code",
   "execution_count": 160,
   "metadata": {
    "collapsed": false
   },
   "outputs": [
    {
     "name": "stdout",
     "output_type": "stream",
     "text": [
      "qc_model.∇vecB = [-0.001397199822637195, -0.0007059656090901206, -0.0015525249093907587, 0.0004933656782029886, 0.0016486679130583365, -0.0013783118827231707, -0.0006964220665060016, -0.0015315372190629357, 0.000486696151672452, 0.0016263805208217349, -0.0008052444726535313, -0.0004068672894119861, -0.000894762568452213, 0.00028434013441259754, 0.0009501724110769414]\n",
      "qc_model.∇θ = [-2.992042077668428, -2.995547361520035]\n"
     ]
    }
   ],
   "source": [
    "@show qc_model.∇vecB\n",
    "@show qc_model.∇θ;"
   ]
  },
  {
   "cell_type": "code",
   "execution_count": 161,
   "metadata": {
    "collapsed": false
   },
   "outputs": [
    {
     "data": {
      "text/plain": [
       "15×2 Matrix{Float64}:\n",
       " -1.81328   -0.280755\n",
       " -0.916199   0.167603\n",
       " -2.01486   -0.330996\n",
       "  0.640288  -0.0469412\n",
       "  2.13963    0.483384\n",
       " -1.8165    -0.269155\n",
       " -0.917828   0.144784\n",
       " -2.01844   -0.39274\n",
       "  0.641426   0.0260867\n",
       "  2.14344   -0.234534\n",
       " -1.95067   -0.0969734\n",
       " -0.985621   0.0955352\n",
       " -2.16753    0.0881894\n",
       "  0.688803  -0.433561\n",
       "  2.30176    0.250369"
      ]
     },
     "execution_count": 161,
     "metadata": {},
     "output_type": "execute_result"
    }
   ],
   "source": [
    "[vec(qc_model.B) vec(Btrue)]"
   ]
  },
  {
   "cell_type": "code",
   "execution_count": 162,
   "metadata": {
    "collapsed": false
   },
   "outputs": [
    {
     "data": {
      "text/plain": [
       "2×2 Matrix{Float64}:\n",
       " 0.000295881  0.4\n",
       " 0.000295883  0.4"
      ]
     },
     "execution_count": 162,
     "metadata": {},
     "output_type": "execute_result"
    }
   ],
   "source": [
    "[qc_model.θ θtrue]"
   ]
  },
  {
   "cell_type": "markdown",
   "metadata": {
    "collapsed": true
   },
   "source": [
    "## Score test"
   ]
  },
  {
   "cell_type": "code",
   "execution_count": null,
   "metadata": {
    "collapsed": true
   },
   "outputs": [],
   "source": []
  }
 ],
 "metadata": {
  "@webio": {
   "lastCommId": null,
   "lastKernelId": null
  },
  "kernelspec": {
   "display_name": "Julia 1.7.3",
   "language": "julia",
   "name": "julia-1.7"
  },
  "language_info": {
   "file_extension": ".jl",
   "mimetype": "application/julia",
   "name": "julia",
   "version": "1.7.3"
  },
  "toc": {
   "base_numbering": 1,
   "nav_menu": {},
   "number_sections": true,
   "sideBar": true,
   "skip_h1_title": false,
   "title_cell": "Table of Contents",
   "title_sidebar": "Contents",
   "toc_cell": false,
   "toc_position": {},
   "toc_section_display": true,
   "toc_window_display": false
  }
 },
 "nbformat": 4,
 "nbformat_minor": 2
}
