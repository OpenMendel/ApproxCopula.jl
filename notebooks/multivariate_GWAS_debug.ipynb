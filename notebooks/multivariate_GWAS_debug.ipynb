{
 "cells": [
  {
   "cell_type": "markdown",
   "metadata": {},
   "source": [
    "# Multivariate QuasiCopula GWAS with Mixed Marginals\n",
    "\n",
    "If there is only 1 phenotype, then the result should be equivalent to longitudinal GWAS with 1 observation per sample. "
   ]
  },
  {
   "cell_type": "code",
   "execution_count": 1,
   "metadata": {
    "collapsed": false
   },
   "outputs": [
    {
     "name": "stderr",
     "output_type": "stream",
     "text": [
      "┌ Info: Precompiling QuasiCopula [c47b6ae2-b804-4668-9957-eb588c99ffbc]\n",
      "└ @ Base loading.jl:1423\n"
     ]
    },
    {
     "data": {
      "text/plain": [
       "_make_snparray (generic function with 1 method)"
      ]
     },
     "execution_count": 1,
     "metadata": {},
     "output_type": "execute_result"
    }
   ],
   "source": [
    "using Revise\n",
    "using DataFrames, Random, GLM, QuasiCopula\n",
    "using ForwardDiff, Test, LinearAlgebra\n",
    "using LinearAlgebra: BlasReal, copytri!\n",
    "using ToeplitzMatrices\n",
    "using BenchmarkTools\n",
    "using SnpArrays\n",
    "using Statistics\n",
    "using StatsBase\n",
    "\n",
    "BLAS.set_num_threads(1)\n",
    "Threads.nthreads()\n",
    "\n",
    "function simulate_random_snparray(s::Union{String, UndefInitializer}, n::Int64,\n",
    "    p::Int64; mafs::Vector{Float64}=zeros(Float64, p), min_ma::Int = 5)\n",
    "\n",
    "    #first simulate a random {0, 1, 2} matrix with each SNP drawn from Binomial(2, r[i])\n",
    "    A1 = BitArray(undef, n, p) \n",
    "    A2 = BitArray(undef, n, p) \n",
    "    for j in 1:p\n",
    "        minor_alleles = 0\n",
    "        maf = 0\n",
    "        while minor_alleles <= min_ma\n",
    "            maf = 0.5rand()\n",
    "            for i in 1:n\n",
    "                A1[i, j] = rand(Bernoulli(maf))\n",
    "                A2[i, j] = rand(Bernoulli(maf))\n",
    "            end\n",
    "            minor_alleles = sum(view(A1, :, j)) + sum(view(A2, :, j))\n",
    "        end\n",
    "        mafs[j] = maf\n",
    "    end\n",
    "\n",
    "    #fill the SnpArray with the corresponding x_tmp entry\n",
    "    return _make_snparray(s, A1, A2)\n",
    "end\n",
    "\n",
    "function _make_snparray(s::Union{String, UndefInitializer}, A1::BitArray, A2::BitArray)\n",
    "    n, p = size(A1)\n",
    "    x = SnpArray(s, n, p)\n",
    "    for i in 1:(n*p)\n",
    "        c = A1[i] + A2[i]\n",
    "        if c == 0\n",
    "            x[i] = 0x00\n",
    "        elseif c == 1\n",
    "            x[i] = 0x02\n",
    "        elseif c == 2\n",
    "            x[i] = 0x03\n",
    "        else\n",
    "            throw(MissingException(\"matrix shouldn't have missing values!\"))\n",
    "        end\n",
    "    end\n",
    "    return x\n",
    "end"
   ]
  },
  {
   "cell_type": "markdown",
   "metadata": {},
   "source": [
    "## Simulate data\n",
    "\n",
    "Given $n$ independent samples, we simulate phenotypes from \n",
    "$$\\mathbf{y}_i \\sim QC(\\mathbf{\\Gamma}, f_1, ..., f_d)$$"
   ]
  },
  {
   "cell_type": "code",
   "execution_count": 58,
   "metadata": {
    "collapsed": false
   },
   "outputs": [],
   "source": [
    "# simulate data\n",
    "p = 3    # number of fixed effects, including intercept\n",
    "m = 2    # number of variance componentsac\n",
    "n = 5000 # number of sample\n",
    "d = 3    # number of phenotypes per sample\n",
    "q = 1000 # number of SNPs\n",
    "k = 0   # number of causal SNPs\n",
    "seed = 2023\n",
    "\n",
    "# sample d marginal distributions for each phenotype within samples\n",
    "Random.seed!(seed)\n",
    "possible_distributions = [Bernoulli, Poisson, Normal]\n",
    "vecdist = rand(possible_distributions, d)\n",
    "# vecdist = [Poisson, Bernoulli, Bernoulli] # this derivative test is fine\n",
    "# vecdist = [Bernoulli, Bernoulli, Poisson] # this derivative test is wrong everywhere\n",
    "veclink = [canonicallink(vecdist[j]()) for j in 1:d]\n",
    "\n",
    "# simulate nongenetic coefficient and variance component params\n",
    "Random.seed!(seed)\n",
    "Btrue = rand(Uniform(-0.5, 0.5), p, d)\n",
    "θtrue = fill(0.4, m)\n",
    "V1 = ones(d, d)\n",
    "V2 = Matrix(I, d, d)\n",
    "Γ = m == 1 ? θtrue[1] * V1 : θtrue[1] * V1 + θtrue[2] * V2\n",
    "\n",
    "# simulate non-genetic design matrix\n",
    "Random.seed!(seed)\n",
    "X = [ones(n) randn(n, p - 1)]\n",
    "\n",
    "# simulate random SnpArray with q SNPs and randomly choose k SNPs to be causal\n",
    "Random.seed!(seed)\n",
    "G = simulate_random_snparray(undef, n, q)\n",
    "Gfloat = convert(Matrix{Float64}, G, center=true, scale=true)\n",
    "γtrue = zeros(q, d)\n",
    "causal_snps = sample(1:q, k, replace=false) |> sort\n",
    "for j in 1:d\n",
    "    γtrue[causal_snps, j] .= rand([-1, 1], k)\n",
    "end\n",
    "\n",
    "# sample phenotypes\n",
    "Y = zeros(n, d)\n",
    "y = Vector{Float64}(undef, d)\n",
    "for i in 1:n\n",
    "    Xi = X[i, :]\n",
    "    Gi = Gfloat[i, :]\n",
    "    η = Btrue' * Xi + γtrue' * Gi\n",
    "    vecd_tmp = Vector{UnivariateDistribution}(undef, d)\n",
    "    for j in 1:d\n",
    "        dist = vecdist[j]\n",
    "        μj = GLM.linkinv(canonicallink(dist()), η[j])\n",
    "        vecd_tmp[j] = dist(μj)\n",
    "    end\n",
    "    multivariate_dist = MultivariateMix(vecd_tmp, Γ)\n",
    "    res = Vector{Float64}(undef, d)\n",
    "    rand(multivariate_dist, y, res)\n",
    "    Y[i, :] .= y\n",
    "end\n",
    "\n",
    "# form model\n",
    "V = m == 1 ? [V1] : [V1, V2]\n",
    "qc_model = MultivariateCopulaVCModel(Y, X, V, vecdist, veclink);"
   ]
  },
  {
   "cell_type": "code",
   "execution_count": 51,
   "metadata": {
    "collapsed": false,
    "scrolled": false
   },
   "outputs": [
    {
     "data": {
      "text/plain": [
       "5000×3 Matrix{Float64}:\n",
       " 1.0  2.0   0.436519\n",
       " 1.0  2.0  -0.819839\n",
       " 0.0  0.0   1.5982\n",
       " 1.0  0.0  -1.20721\n",
       " 1.0  0.0   0.28193\n",
       " 1.0  2.0  -0.839879\n",
       " 1.0  4.0  -1.9317\n",
       " 1.0  3.0   1.62387\n",
       " 1.0  6.0   0.136927\n",
       " 1.0  0.0   1.20368\n",
       " 0.0  2.0  -0.691747\n",
       " 0.0  2.0  -0.31042\n",
       " 0.0  1.0  -0.228761\n",
       " ⋮         \n",
       " 0.0  3.0  -0.349699\n",
       " 0.0  2.0   1.21203\n",
       " 0.0  1.0  -0.946448\n",
       " 1.0  4.0  -0.511367\n",
       " 0.0  0.0  -1.21434\n",
       " 1.0  1.0   0.649446\n",
       " 1.0  1.0   1.05457\n",
       " 0.0  0.0  -1.84551\n",
       " 0.0  1.0  -1.21778\n",
       " 0.0  0.0   2.03475\n",
       " 1.0  6.0  -0.66195\n",
       " 1.0  2.0   0.629577"
      ]
     },
     "execution_count": 51,
     "metadata": {},
     "output_type": "execute_result"
    }
   ],
   "source": [
    "Y"
   ]
  },
  {
   "cell_type": "code",
   "execution_count": 52,
   "metadata": {
    "collapsed": false
   },
   "outputs": [
    {
     "data": {
      "text/plain": [
       "5000×3 Matrix{Float64}:\n",
       " 1.0   0.100418   -0.0470154\n",
       " 1.0   0.539314    1.34338\n",
       " 1.0   0.032493   -0.304856\n",
       " 1.0  -1.82519    -0.217143\n",
       " 1.0  -1.1939      1.15006\n",
       " 1.0  -0.205944    0.0662676\n",
       " 1.0   0.910159    1.02386\n",
       " 1.0  -0.7272     -0.164025\n",
       " 1.0  -0.211406   -1.75684\n",
       " 1.0  -0.0310205   0.83961\n",
       " 1.0   0.174579   -0.555913\n",
       " 1.0   0.599171   -0.248304\n",
       " 1.0  -0.219329   -0.910624\n",
       " ⋮                \n",
       " 1.0  -1.44813    -0.185781\n",
       " 1.0  -1.22394    -0.794701\n",
       " 1.0   1.4347      1.01114\n",
       " 1.0  -0.700221   -0.94818\n",
       " 1.0   0.286581    1.25612\n",
       " 1.0  -1.05336     1.27283\n",
       " 1.0  -0.0611384   0.794235\n",
       " 1.0  -1.53319     0.194859\n",
       " 1.0  -0.482952    0.545294\n",
       " 1.0  -0.0636979   0.346252\n",
       " 1.0  -0.661712    0.284675\n",
       " 1.0   0.256958    0.272786"
      ]
     },
     "execution_count": 52,
     "metadata": {},
     "output_type": "execute_result"
    }
   ],
   "source": [
    "X"
   ]
  },
  {
   "cell_type": "markdown",
   "metadata": {},
   "source": [
    "Make regular (longitudinal) model"
   ]
  },
  {
   "cell_type": "code",
   "execution_count": 53,
   "metadata": {
    "collapsed": false
   },
   "outputs": [
    {
     "data": {
      "text/plain": [
       "Quasi-Copula Variance Component Model\n",
       "  * base distribution: Bernoulli\n",
       "  * link function: LogitLink\n",
       "  * number of clusters: 5000\n",
       "  * cluster size min, max: 1, 1\n",
       "  * number of variance components: 1\n",
       "  * number of fixed effects: 3\n"
      ]
     },
     "execution_count": 53,
     "metadata": {},
     "output_type": "execute_result"
    }
   ],
   "source": [
    "dist = Bernoulli()\n",
    "link = canonicallink(dist)\n",
    "myDist = typeof(dist)\n",
    "myLink = typeof(link)\n",
    "\n",
    "obs = Vector{GLMCopulaVCObs{Float64, myDist, myLink}}(undef, n)\n",
    "for i in 1:n\n",
    "    obs[i] = GLMCopulaVCObs([Y[i]], Matrix(X[i, :]'), V, dist, link)\n",
    "end\n",
    "qc_longitudinal_model = GLMCopulaVCModel(obs)"
   ]
  },
  {
   "cell_type": "markdown",
   "metadata": {},
   "source": [
    "## Fit Null multivariate model"
   ]
  },
  {
   "cell_type": "code",
   "execution_count": 54,
   "metadata": {
    "collapsed": false,
    "scrolled": true
   },
   "outputs": [
    {
     "name": "stdout",
     "output_type": "stream",
     "text": [
      "This is Ipopt version 3.13.4, running with linear solver mumps.\n",
      "NOTE: Other linear solvers might be more efficient (see Ipopt documentation).\n",
      "\n",
      "Starting derivative checker for first derivatives.\n",
      "\n",
      "* grad_f[          1] = -4.4175349269337408e+02    ~  0.0000000000000000e+00  [ 4.418e+02]\n",
      "* grad_f[          2] = -1.5666791506998365e+02    ~  0.0000000000000000e+00  [ 1.567e+02]\n",
      "* grad_f[          3] =  5.6546424302037201e+02    ~  0.0000000000000000e+00  [ 5.655e+02]\n",
      "* grad_f[          7] = -3.0865523269591875e+04    ~  0.0000000000000000e+00  [ 3.087e+04]\n",
      "* grad_f[          8] =  4.9466705672967633e+04    ~  0.0000000000000000e+00  [ 4.947e+04]\n",
      "* grad_f[          9] =  2.3419343459556178e+04    ~  0.0000000000000000e+00  [ 2.342e+04]\n",
      "* grad_f[         10] = -1.7542687808452879e+02    ~  0.0000000000000000e+00  [ 1.754e+02]\n",
      "\n",
      "Derivative checker detected 7 error(s).\n",
      "\n",
      "Number of nonzeros in equality constraint Jacobian...:        0\n",
      "Number of nonzeros in inequality constraint Jacobian.:        0\n",
      "Number of nonzeros in Lagrangian Hessian.............:        0\n",
      "\n",
      "Total number of variables............................:       10\n",
      "                     variables with only lower bounds:        1\n",
      "                variables with lower and upper bounds:        0\n",
      "                     variables with only upper bounds:        0\n",
      "Total number of equality constraints.................:        0\n",
      "Total number of inequality constraints...............:        0\n",
      "        inequality constraints with only lower bounds:        0\n",
      "   inequality constraints with lower and upper bounds:        0\n",
      "        inequality constraints with only upper bounds:        0\n",
      "\n",
      "iter    objective    inf_pr   inf_du lg(mu)  ||d||  lg(rg) alpha_du alpha_pr  ls\n",
      "   0  1.8711222e+04 0.00e+00 9.34e+01   0.0 0.00e+00    -  0.00e+00 0.00e+00   0\n",
      "   1  1.8660827e+04 0.00e+00 1.53e+01  -3.0 8.50e+01    -  1.18e-04 1.56e-02f  7\n",
      "   2  1.8607564e+04 0.00e+00 9.30e+00 -10.9 1.84e-01    -  1.00e+00 1.00e+00f  1\n",
      "   3  1.8538269e+04 0.00e+00 8.05e+00 -11.0 1.24e-01    -  1.00e+00 1.00e+00f  1\n",
      "   4  1.8375636e+04 0.00e+00 1.25e+01 -11.0 6.39e-01    -  1.00e+00 1.00e+00f  1\n",
      "   5  1.8354054e+04 0.00e+00 1.24e+01 -11.0 6.00e-01    -  1.00e+00 2.05e-01f  3\n",
      "   6  1.8324843e+04 0.00e+00 3.23e+00  -8.4 9.62e-02    -  1.00e+00 1.00e+00f  1\n",
      "   7  1.8322353e+04 0.00e+00 4.48e+00 -11.0 1.13e-01    -  1.00e+00 1.00e+00f  1\n",
      "   8  1.8314840e+04 0.00e+00 9.34e-01 -11.0 5.17e-02    -  1.00e+00 1.00e+00f  1\n",
      "   9  1.8314033e+04 0.00e+00 8.40e-01 -11.0 1.11e-02    -  1.00e+00 1.00e+00f  1\n",
      "iter    objective    inf_pr   inf_du lg(mu)  ||d||  lg(rg) alpha_du alpha_pr  ls\n",
      "  10  1.8312941e+04 0.00e+00 4.40e-01 -11.0 3.64e-02    -  1.00e+00 1.00e+00f  1\n",
      "  11  1.8312662e+04 0.00e+00 5.30e-01 -11.0 3.62e-02    -  1.00e+00 5.00e-01f  2\n",
      "  12  1.8312533e+04 0.00e+00 2.55e-01 -11.0 1.83e-02    -  1.00e+00 5.00e-01f  2\n",
      "  13  1.8312512e+04 0.00e+00 1.91e-01 -11.0 5.74e-03    -  1.00e+00 5.00e-01f  2\n",
      "  14  1.8312501e+04 0.00e+00 4.19e-02 -11.0 1.38e-03    -  1.00e+00 1.00e+00f  1\n",
      "  15  1.8312499e+04 0.00e+00 3.62e-02 -11.0 4.68e-04    -  1.00e+00 1.00e+00f  1\n",
      "  16  1.8312498e+04 0.00e+00 6.13e-02 -11.0 3.03e-03    -  1.00e+00 1.00e+00f  1\n",
      "  17  1.8312497e+04 0.00e+00 1.60e-02 -11.0 1.09e-03    -  1.00e+00 5.00e-01f  2\n",
      "  18  1.8312497e+04 0.00e+00 2.76e-03 -11.0 9.07e-04    -  1.00e+00 1.00e+00f  1\n",
      "  19  1.8312497e+04 0.00e+00 2.02e-03 -11.0 1.20e-04    -  1.00e+00 5.00e-01f  2\n",
      "iter    objective    inf_pr   inf_du lg(mu)  ||d||  lg(rg) alpha_du alpha_pr  ls\n",
      "  20  1.8312497e+04 0.00e+00 5.49e-04 -11.0 4.41e-05    -  1.00e+00 1.00e+00f  1\n",
      "  21  1.8312497e+04 0.00e+00 6.87e-04 -11.0 1.19e-05    -  1.00e+00 1.00e+00f  1\n",
      "  22  1.8312497e+04 0.00e+00 8.53e-05 -11.0 6.38e-06    -  1.00e+00 1.00e+00f  1\n",
      "  23  1.8312497e+04 0.00e+00 6.83e-05 -11.0 2.52e-06    -  1.00e+00 1.00e+00f  1\n",
      "  24  1.8312497e+04 0.00e+00 7.11e-05 -11.0 1.57e-06    -  1.00e+00 1.00e+00f  1\n",
      "  25  1.8312497e+04 0.00e+00 5.48e-05 -11.0 9.81e-07    -  1.00e+00 1.00e+00f  1\n",
      "  26  1.8312497e+04 0.00e+00 1.21e-05 -11.0 4.35e-07    -  1.00e+00 1.00e+00f  1\n",
      "  27  1.8312497e+04 0.00e+00 8.37e-06 -11.0 2.63e-07    -  1.00e+00 1.00e+00f  1\n",
      "  28  1.8312497e+04 0.00e+00 1.35e-05 -11.0 8.24e-07    -  1.00e+00 5.00e-01f  2\n",
      "  29  1.8312497e+04 0.00e+00 6.47e-06 -11.0 2.78e-07    -  1.00e+00 1.00e+00f  1\n",
      "iter    objective    inf_pr   inf_du lg(mu)  ||d||  lg(rg) alpha_du alpha_pr  ls\n",
      "  30  1.8312497e+04 0.00e+00 3.51e-06 -11.0 1.36e-07    -  1.00e+00 5.00e-01f  2\n",
      "  31  1.8312497e+04 0.00e+00 1.66e-06 -11.0 8.86e-08    -  1.00e+00 5.00e-01f  2\n",
      "  32  1.8312497e+04 0.00e+00 1.46e-06 -11.0 4.69e-08    -  1.00e+00 3.12e-02f  6\n",
      "  33  1.8312497e+04 0.00e+00 7.07e-07 -11.0 2.69e-08    -  1.00e+00 5.00e-01f  2\n",
      "\n",
      "Number of Iterations....: 33\n",
      "\n",
      "                                   (scaled)                 (unscaled)\n",
      "Objective...............:   4.2674362132116579e+02    1.8312496517204756e+04\n",
      "Dual infeasibility......:   7.0710650975592902e-07    3.0343477559452433e-05\n",
      "Constraint violation....:   0.0000000000000000e+00    0.0000000000000000e+00\n",
      "Complementarity.........:   9.9999998905758676e-12    4.2912173496882639e-10\n",
      "Overall NLP error.......:   7.0710650975592902e-07    3.0343477559452433e-05\n",
      "\n",
      "\n",
      "Number of objective function evaluations             = 104\n",
      "Number of objective gradient evaluations             = 34\n",
      "Number of equality constraint evaluations            = 0\n",
      "Number of inequality constraint evaluations          = 0\n",
      "Number of equality constraint Jacobian evaluations   = 0\n",
      "Number of inequality constraint Jacobian evaluations = 0\n",
      "Number of Lagrangian Hessian evaluations             = 0\n",
      "Total CPU secs in IPOPT (w/o function evaluations)   =      0.344\n",
      "Total CPU secs in NLP function evaluations           =      2.149\n",
      "\n",
      "EXIT: Optimal Solution Found.\n",
      "  2.634384 seconds (65.71 M allocations: 1.047 GiB, 4.27% gc time)\n"
     ]
    }
   ],
   "source": [
    "@time optm = QuasiCopula.fit!(qc_model,\n",
    "    Ipopt.IpoptSolver(\n",
    "        print_level = 5, \n",
    "        tol = 10^-6, \n",
    "        max_iter = 100,\n",
    "        accept_after_max_steps = 10,\n",
    "        warm_start_init_point=\"yes\", \n",
    "        limited_memory_max_history = 6, # default value\n",
    "        hessian_approximation = \"limited-memory\",\n",
    "        derivative_test=\"first-order\"\n",
    "    )\n",
    ");"
   ]
  },
  {
   "cell_type": "code",
   "execution_count": 55,
   "metadata": {
    "collapsed": false
   },
   "outputs": [
    {
     "name": "stdout",
     "output_type": "stream",
     "text": [
      "qc_model.∇vecB = [-1.0457653854489823e-5, -7.426068464322366e-8, -8.935443147742306e-6, 2.0432625412514227e-5, -6.7775386540791516e-6, -3.0343477559452436e-5, -1.5457391627671235e-5, 1.4430696336720228e-5, -1.0774524806106411e-5]\n",
      "qc_model.∇θ = [1.430453396289444e-6]\n"
     ]
    }
   ],
   "source": [
    "@show qc_model.∇vecB\n",
    "@show qc_model.∇θ;"
   ]
  },
  {
   "cell_type": "code",
   "execution_count": 56,
   "metadata": {
    "collapsed": false
   },
   "outputs": [
    {
     "data": {
      "text/plain": [
       "9×2 Matrix{Float64}:\n",
       " -0.434256  -0.442015\n",
       "  0.020669   0.0655548\n",
       " -0.439151  -0.477028\n",
       "  0.240869   0.247196\n",
       "  0.321899   0.324582\n",
       " -0.383326  -0.361607\n",
       " -0.173956  -0.166936\n",
       " -0.192975  -0.174676\n",
       " -0.304402  -0.298439"
      ]
     },
     "execution_count": 56,
     "metadata": {},
     "output_type": "execute_result"
    }
   ],
   "source": [
    "[vec(qc_model.B) vec(Btrue)]"
   ]
  },
  {
   "cell_type": "code",
   "execution_count": 57,
   "metadata": {
    "collapsed": false
   },
   "outputs": [
    {
     "data": {
      "text/plain": [
       "1×2 Matrix{Float64}:\n",
       " 0.381813  0.4"
      ]
     },
     "execution_count": 57,
     "metadata": {},
     "output_type": "execute_result"
    }
   ],
   "source": [
    "[qc_model.θ θtrue]"
   ]
  },
  {
   "cell_type": "markdown",
   "metadata": {
    "collapsed": true
   },
   "source": [
    "## Fit Null longitudinal model"
   ]
  },
  {
   "cell_type": "code",
   "execution_count": null,
   "metadata": {
    "collapsed": true
   },
   "outputs": [],
   "source": [
    "qc_model.∇vecB = [1.3315837346569335, -0.5532699222780756, -0.8825223230877026]\n"
   ]
  },
  {
   "cell_type": "code",
   "execution_count": null,
   "metadata": {
    "collapsed": true
   },
   "outputs": [],
   "source": [
    "gcm.∇β = [1.3315837346179868, -0.5532699222930468, -0.8825223232111048]\n"
   ]
  },
  {
   "cell_type": "code",
   "execution_count": 24,
   "metadata": {
    "collapsed": false,
    "scrolled": true
   },
   "outputs": [
    {
     "name": "stdout",
     "output_type": "stream",
     "text": [
      "gcm.∇β = [1.3315837346179868, -0.5532699222930468, -0.8825223232111048]\n",
      "This is Ipopt version 3.13.4, running with linear solver mumps.\n",
      "NOTE: Other linear solvers might be more efficient (see Ipopt documentation).\n",
      "\n"
     ]
    },
    {
     "ename": "LoadError",
     "evalue": "UndefVarError: fdsa not defined",
     "output_type": "error",
     "traceback": [
      "UndefVarError: fdsa not defined",
      "",
      "Stacktrace:",
      "  [1] loglikelihood!(gcm::GLMCopulaVCModel{Float64, Bernoulli{Float64}, LogitLink}, needgrad::Bool, needhess::Bool)",
      "    @ QuasiCopula ~/.julia/dev/QuasiCopula/src/parameter_estimation/GLM_VC.jl:292",
      "  [2] eval_grad_f(gcm::GLMCopulaVCModel{Float64, Bernoulli{Float64}, LogitLink}, grad::Vector{Float64}, par::Vector{Float64})",
      "    @ QuasiCopula ~/.julia/dev/QuasiCopula/src/parameter_estimation/fit_glm_vc.jl:108",
      "  [3] (::Ipopt.var\"#eval_grad_f_cb#5\"{GLMCopulaVCModel{Float64, Bernoulli{Float64}, LogitLink}, Float64})(x::Vector{Float64}, grad_f::Vector{Float64})",
      "    @ Ipopt ~/.julia/packages/Ipopt/QF8Lc/src/MPB_wrapper.jl:78",
      "  [4] eval_grad_f_wrapper(n::Int32, x_ptr::Ptr{Float64}, new_x::Int32, grad_f_ptr::Ptr{Float64}, user_data::Ptr{Nothing})",
      "    @ Ipopt ~/.julia/packages/Ipopt/QF8Lc/src/Ipopt.jl:163",
      "  [5] solveProblem(prob::IpoptProblem)",
      "    @ Ipopt ~/.julia/packages/Ipopt/QF8Lc/src/Ipopt.jl:532",
      "  [6] optimize!(m::Ipopt.IpoptMathProgModel)",
      "    @ Ipopt ~/.julia/packages/Ipopt/QF8Lc/src/MPB_wrapper.jl:159",
      "  [7] fit!(gcm::GLMCopulaVCModel{Float64, Bernoulli{Float64}, LogitLink}, solver::IpoptSolver)",
      "    @ QuasiCopula ~/.julia/dev/QuasiCopula/src/parameter_estimation/fit_glm_vc.jl:35",
      "  [8] top-level scope",
      "    @ ./timing.jl:220 [inlined]",
      "  [9] top-level scope",
      "    @ ./In[24]:0",
      " [10] eval",
      "    @ ./boot.jl:373 [inlined]",
      " [11] include_string(mapexpr::typeof(REPL.softscope), mod::Module, code::String, filename::String)",
      "    @ Base ./loading.jl:1196"
     ]
    }
   ],
   "source": [
    "@time optm = QuasiCopula.fit!(qc_longitudinal_model,\n",
    "    Ipopt.IpoptSolver(\n",
    "        print_level = 5, \n",
    "        tol = 10^-6, \n",
    "        max_iter = 100,\n",
    "        accept_after_max_steps = 10,\n",
    "        warm_start_init_point=\"yes\", \n",
    "        limited_memory_max_history = 6, # default value\n",
    "        hessian_approximation = \"limited-memory\",\n",
    "        derivative_test=\"first-order\"\n",
    "    )\n",
    ");"
   ]
  },
  {
   "cell_type": "code",
   "execution_count": 98,
   "metadata": {
    "collapsed": false
   },
   "outputs": [
    {
     "name": "stdout",
     "output_type": "stream",
     "text": [
      "Btrue = [-0.3678580518515241; -0.12820979298252866; 0.40051323184217924;;]\n",
      "qc_longitudinal_model.β = [-0.3814378383187703, -0.15781136267580856, 0.41656677817845617]\n",
      "qc_longitudinal_model.∇β = [7.687295244807046e-12, 3.780864510360971e-12, -6.5225047585215634e-12]\n",
      "θtrue = [0.4]\n",
      "qc_longitudinal_model.θ = [0.39536351578917867]\n",
      "qc_longitudinal_model.∇θ = [-1.9557244712586908e-11]\n",
      "qc_longitudinal_model.τ = [1.0]\n",
      "qc_longitudinal_model.∇τ = [0.0]\n"
     ]
    }
   ],
   "source": [
    "@show Btrue\n",
    "@show qc_longitudinal_model.β\n",
    "@show qc_longitudinal_model.∇β\n",
    "\n",
    "@show θtrue\n",
    "@show qc_longitudinal_model.θ\n",
    "@show qc_longitudinal_model.∇θ;\n",
    "\n",
    "@show qc_longitudinal_model.τ\n",
    "@show qc_longitudinal_model.∇τ;"
   ]
  },
  {
   "cell_type": "code",
   "execution_count": null,
   "metadata": {
    "collapsed": true
   },
   "outputs": [],
   "source": []
  }
 ],
 "metadata": {
  "@webio": {
   "lastCommId": null,
   "lastKernelId": null
  },
  "kernelspec": {
   "display_name": "Julia 1.7.3",
   "language": "julia",
   "name": "julia-1.7"
  },
  "language_info": {
   "file_extension": ".jl",
   "mimetype": "application/julia",
   "name": "julia",
   "version": "1.7.3"
  },
  "toc": {
   "base_numbering": 1,
   "nav_menu": {},
   "number_sections": true,
   "sideBar": true,
   "skip_h1_title": false,
   "title_cell": "Table of Contents",
   "title_sidebar": "Contents",
   "toc_cell": false,
   "toc_position": {},
   "toc_section_display": true,
   "toc_window_display": false
  }
 },
 "nbformat": 4,
 "nbformat_minor": 2
}
