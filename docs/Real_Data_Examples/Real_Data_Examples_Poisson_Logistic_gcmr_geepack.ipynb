{
 "cells": [
  {
   "cell_type": "markdown",
   "metadata": {},
   "source": [
    "# Real Data Examples from gcmr R Package:\n",
    "In this notebook we will compare the fit of our model vs that of R packages geepack and gcmr on the two example datasets provided in the gcmr package. \n",
    "\n",
    "For these examples we will use the autoregressive AR(1) parameterization of the covariance matrix $\\Gamma,$ estimating only two additional parameters, $\\rho$ and $\\sigma^2$. \n",
    "\n",
    "For the dispersion parameter, $\\sigma^2$, we add an L2 penalty to the loglikelihood to keep the estimates from going off to infinity. \n",
    "\n",
    "\n",
    "## Ex 1: Longitudinal Poisson\n",
    "#### Betas\n",
    "\n",
    "|Beta|Estimate_ours (Penalized)|Estimate_ours (Unpenalized)|Estimate_geepack|Estimate_gcmr |\n",
    "|--|-----|-----|--|--|\n",
    "|intercept | 3.44 | 3.45 | 3.39 | 3.23 |\n",
    "|visit | -1.26 | -1.26 | -1.23 | -1.09 |\n",
    "|trt | 0.01 | -0.01 | 0.02 | -0.05 |\n",
    "|visit*trt | -0.12 | -0.11 | -0.13 | -0.52 |\n",
    "\n",
    "#### sigma2 AR dispersion\n",
    "|Estimate|Estimate_ours (Penalized)|Estimate_ours (Unpenalized)|Estimate_geepack|Estimate_gcmr |\n",
    "|--|-----|-----|--|--|\n",
    "| sigma2| 0.536 | 137262 | 19.93 | - |\n",
    "\n",
    "#### rho AR correlation\n",
    "|Estimate|Estimate_ours (Penalized)|Estimate_ours (Unpenalized)|Estimate_geepack|Estimate_gcmr |\n",
    "|--|-----|-----|--|--|\n",
    "| rho | 1.0 | 0.95 | 0.89 | 0.46 |\n",
    "\n",
    "## Ex 2: Longitudinal Logistic\n",
    "\n",
    "#### Betas\n",
    "\n",
    "|Beta|Estimate_ours (Penalized)|Estimate_ours (Unpenalized)|Estimate_geepack|Estimate_gcmr |\n",
    "|--|-----|-----|--|--|\n",
    "|intercept| -0.92 | -0.86 | -0.95 |-1.01 |\n",
    "|center| 0.83 | 0.83 | 0.76 | 0.75 |\n",
    "|age| -0.02 | -0.03 | -0.02 | -0.02 |\n",
    "|baseline| 1.97 | 2.10 | 1.61 | 1.72 |\n",
    "\n",
    "#### sigma2 AR dispersion\n",
    "|Estimate|Estimate_ours (Penalized)|Estimate_ours (Unpenalized)|Estimate_geepack|Estimate_gcmr |\n",
    "|--|-----|-----|--|--|\n",
    "| sigma2 | 0.27 |34284 | 1.04 | - |\n",
    "\n",
    "#### rho AR correlation\n",
    "|Estimate|Estimate_ours (Penalized)|Estimate_ours (Unpenalized)|Estimate_geepack|Estimate_gcmr |\n",
    "|--|-----|-----|--|--|\n",
    "| rho | 0.85 | 0.78 | 0.52 | 0.59 |"
   ]
  },
  {
   "cell_type": "markdown",
   "metadata": {},
   "source": [
    "# Example 1: Longitudinal Poisson"
   ]
  },
  {
   "cell_type": "code",
   "execution_count": 1,
   "metadata": {},
   "outputs": [
    {
     "name": "stderr",
     "output_type": "stream",
     "text": [
      "┌ Info: Precompiling GLMCopula [c47b6ae2-b804-4668-9957-eb588c99ffbc]\n",
      "└ @ Base loading.jl:1342\n"
     ]
    }
   ],
   "source": [
    "cd(\"/Users/sarahji/.julia/dev/GLMCopula.jl/R_example_datasets/\")\n",
    "using CSV, DataFrames, GLMCopula, LinearAlgebra, GLM, RCall, RData, RDatasets"
   ]
  },
  {
   "cell_type": "code",
   "execution_count": 2,
   "metadata": {},
   "outputs": [
    {
     "name": "stderr",
     "output_type": "stream",
     "text": [
      "┌ Info: Initial point:\n",
      "└ @ Main In[2]:23\n"
     ]
    },
    {
     "name": "stdout",
     "output_type": "stream",
     "text": [
      "initializing β using Newton's Algorithm under Independence Assumption\n",
      "1 0.0 -2383.6953083154885 235\n",
      "2 -2383.6953083154885 -2367.3833507578256 176\n",
      "3 -2367.3833507578256 -2332.6495007505846 176\n",
      "4 -2332.6495007505846 -2322.3539684318803 176\n",
      "5 -2322.3539684318803 -2319.5117860113937 176\n",
      "6 -2319.5117860113937 -2318.761664391745 176\n",
      "7 -2318.761664391745 -2318.5687204140713 176\n",
      "8 -2318.5687204140713 -2318.5197750083207 176\n",
      "9 -2318.5197750083207 -2318.507447809101 176\n",
      "10 -2318.507447809101 -2318.5043545133703 176\n",
      "11 -2318.5043545133703 -2318.503579743562 176\n",
      "12 -2318.503579743562 -2318.5033858698157 176\n",
      "13 -2318.5033858698157 -2318.5033373786814 176\n",
      "14 -2318.5033373786814 -2318.5033252530557 176\n",
      "  2.066830 seconds (5.98 M allocations: 335.694 MiB, 5.20% gc time, 99.67% compilation time)\n",
      "gcm.β = [3.4271102938648115, -1.2745025414594278, 0.027541807868130437, -0.10472782359332208]\n",
      "gcm.σ2 = [7.187675027177891]\n",
      "gcm.ρ = [1.0]\n",
      "loglikelihood!(gcm, true, false) = -3695.298987001914\n",
      "gcm.θ = [3.4271102938648115, -1.2745025414594278, 0.027541807868130437, -0.10472782359332208, 1.0, 7.187675027177891]\n",
      "gcm.θ = [3.4271102938648115, -1.2745025414594278, 0.027541807868130437, -0.10472782359332208, 0.9900000098999999, 7.187675027177891]\n",
      "\n",
      "******************************************************************************\n",
      "This program contains Ipopt, a library for large-scale nonlinear optimization.\n",
      " Ipopt is released as open source code under the Eclipse Public License (EPL).\n",
      "         For more information visit https://github.com/coin-or/Ipopt\n",
      "******************************************************************************\n",
      "\n",
      "This is Ipopt version 3.13.4, running with linear solver mumps.\n",
      "NOTE: Other linear solvers might be more efficient (see Ipopt documentation).\n",
      "\n",
      "Number of nonzeros in equality constraint Jacobian...:        0\n",
      "Number of nonzeros in inequality constraint Jacobian.:        0\n",
      "Number of nonzeros in Lagrangian Hessian.............:        0\n",
      "\n",
      "Total number of variables............................:        6\n",
      "                     variables with only lower bounds:        1\n",
      "                variables with lower and upper bounds:        1\n",
      "                     variables with only upper bounds:        0\n",
      "Total number of equality constraints.................:        0\n",
      "Total number of inequality constraints...............:        0\n",
      "        inequality constraints with only lower bounds:        0\n",
      "   inequality constraints with lower and upper bounds:        0\n",
      "        inequality constraints with only upper bounds:        0\n",
      "\n",
      "iter    objective    inf_pr   inf_du lg(mu)  ||d||  lg(rg) alpha_du alpha_pr  ls\n",
      "   0  3.6945581e+03 0.00e+00 9.90e+01   0.0 0.00e+00    -  0.00e+00 0.00e+00   0\n",
      "gcm.θ = [3.772456018700599, -1.0397768705705923, 0.03267963574465953, -0.09555291258639993, 0.889939802737312, 5.408725455476363]\n",
      "   1  3.5395058e+03 0.00e+00 5.38e+02   0.7 8.72e+01    -  1.00e+00 2.04e-02f  3\n",
      "gcm.θ = [3.748455202899716, -1.0447290855946638, -0.5019252750496855, -0.4322773066882056, 0.6300611938766458, 0.054087244654764]\n",
      "   2  2.5471071e+03 0.00e+00 1.49e+02   0.2 1.16e+01    -  1.00e+00 4.60e-01f  1\n",
      "gcm.θ = [3.3105510715964575, -1.4018371159212606, 0.2342580235826841, 0.012043159808234616, 0.3181808979577061, 0.7345340997533704]\n",
      "   3  2.2751517e+03 0.00e+00 3.84e+01   1.6 1.67e+00    -  5.36e-01 4.41e-01f  2\n",
      "gcm.θ = [3.4783512891468757, -1.2347175426103973, -0.09281451014774378, -0.1604594915189541, 0.4251731474718839, 1.1270309768124422]\n",
      "   4  2.2542614e+03 0.00e+00 3.48e+01   0.6 3.92e-01    -  9.36e-01 1.00e+00f  1\n",
      "gcm.θ = [3.4199845315917234, -1.2714482845211845, 0.029750583272088488, -0.07826455375836945, 0.4945178392823803, 0.8524929801203791]\n",
      "   5  2.2277564e+03 0.00e+00 1.12e+01  -1.4 2.75e-01    -  1.00e+00 1.00e+00f  1\n",
      "gcm.θ = [3.436416091461594, -1.2860762901536358, 0.05850772521014688, -0.08130257957560177, 0.7348972241956087, 0.63868745808089]\n",
      "   6  2.2103945e+03 0.00e+00 1.71e+01  -2.0 2.40e-01    -  1.00e+00 1.00e+00f  1\n",
      "gcm.θ = [3.390257725719807, -1.2111601966439922, 0.03924656415584818, -0.03506045522669491, 0.997348982141956, 0.5017897159807003]\n",
      "   7  2.2016950e+03 0.00e+00 2.30e+01  -2.2 1.32e+00    -  1.00e+00 1.99e-01f  1\n",
      "gcm.θ = [3.4395655753048175, -1.2709447638348899, 0.040134942871388156, -0.09854485152875916, 0.9999734997214195, 0.5098800725776951]\n",
      "   8  2.1955398e+03 0.00e+00 1.02e+01  -2.3 7.87e-02    -  1.00e+00 8.07e-01f  1\n",
      "gcm.θ = [3.444078074949686, -1.2665127686560698, 0.021024126183422517, -0.11206520818222916, 0.9999817629582839, 0.5372103954145567]\n",
      "   9  2.1948785e+03 0.00e+00 2.93e+00  -3.9 2.73e-02    -  1.00e+00 1.00e+00f  1\n",
      "gcm.θ = [3.4432852787248978, -1.2649965878806626, 0.015843395508816072, -0.1150052208681032, 0.9999998275295828, 0.5393282302416855]\n",
      "iter    objective    inf_pr   inf_du lg(mu)  ||d||  lg(rg) alpha_du alpha_pr  ls\n",
      "  10  2.1948287e+03 0.00e+00 4.71e-01  -5.9 5.74e-03    -  1.00e+00 9.03e-01f  1\n",
      "gcm.θ = [3.4432082185575257, -1.2645401698464744, 0.014756437778560333, -0.11563895113284982, 1.0000000081752958, 0.5382771704089129]\n",
      "  11  2.1948267e+03 0.00e+00 9.93e-02  -7.7 1.09e-03    -  1.00e+00 9.98e-01f  1\n",
      "gcm.θ = [3.4432391177905526, -1.2643368877911925, 0.014570881184554511, -0.1158476836481262, 1.0000000099686879, 0.5370925547872341]\n",
      "  12  2.1948264e+03 0.00e+00 8.17e-02  -9.6 1.18e-03    -  1.00e+00 1.00e+00f  1\n",
      "gcm.θ = [3.4431690422176047, -1.264068828385503, 0.01476934145924768, -0.11617645808838417, 1.0000000099988071, 0.5362127475662645]\n",
      "  13  2.1948263e+03 0.00e+00 1.36e-02 -11.0 8.80e-04    -  1.00e+00 1.00e+00f  1\n",
      "gcm.θ = [3.4431198820335225, -1.263995113849416, 0.014871616354091994, -0.11628803953015822, 1.0000000099988515, 0.5361771221970244]\n",
      "  14  2.1948262e+03 0.00e+00 1.25e-03 -11.0 1.12e-04    -  1.00e+00 1.00e+00f  1\n",
      "gcm.θ = [3.443107616166545, -1.263978928523758, 0.014891713553545176, -0.11631575053443696, 1.0000000099988515, 0.5361907695579111]\n",
      "  15  2.1948262e+03 0.00e+00 4.32e-04 -11.0 2.77e-05    -  1.00e+00 1.00e+00f  1\n",
      "gcm.θ = [3.4431068599593657, -1.2639780065060866, 0.014892192849048129, -0.11631774757001087, 1.0000000099988515, 0.5361926615130655]\n",
      "  16  2.1948262e+03 0.00e+00 2.60e-05 -11.0 2.00e-06    -  1.00e+00 1.00e+00f  1\n",
      "gcm.θ = [3.4431068704669063, -1.2639779859421596, 0.014892138344205698, -0.11631781868420082, 1.0000000099988515, 0.5361926759265381]\n",
      "  17  2.1948262e+03 0.00e+00 1.03e-06 -11.0 7.11e-08    -  1.00e+00 1.00e+00f  1\n",
      "\n",
      "Number of Iterations....: 17\n",
      "\n",
      "                                   (scaled)                 (unscaled)\n",
      "Objective...............:   5.1755881449856088e+02    2.1948262496262196e+03\n",
      "Dual infeasibility......:   1.0337044739967379e-06    4.3836596930191263e-06\n",
      "Constraint violation....:   0.0000000000000000e+00    0.0000000000000000e+00\n",
      "Complementarity.........:   1.0000190827049252e-11    4.2408091049022337e-11\n",
      "Overall NLP error.......:   1.0337044739967379e-06    4.3836596930191263e-06\n",
      "\n",
      "\n",
      "Number of objective function evaluations             = 29\n",
      "Number of objective gradient evaluations             = 18\n",
      "Number of equality constraint evaluations            = 0\n",
      "Number of inequality constraint evaluations          = 0\n",
      "Number of equality constraint Jacobian evaluations   = 0\n",
      "Number of inequality constraint Jacobian evaluations = 0\n",
      "Number of Lagrangian Hessian evaluations             = 0\n",
      "Total CPU secs in IPOPT (w/o function evaluations)   =      0.092\n",
      "Total CPU secs in NLP function evaluations           =      0.014\n",
      "\n",
      "EXIT: Optimal Solution Found.\n",
      "  0.613692 seconds (830.67 k allocations: 48.587 MiB, 2.96% gc time, 88.24% compilation time)\n"
     ]
    }
   ],
   "source": [
    "df = CSV.read(\"epilepsy_gcmr.csv\", DataFrame)\n",
    "groups = unique(df[!, :id])\n",
    "n, p, m = length(groups), 1, 2\n",
    "d = Poisson()\n",
    "link = LogLink()\n",
    "D = typeof(d)\n",
    "Link = typeof(link)\n",
    "T = Float64\n",
    "gcs = Vector{GLMCopulaARObs{T, D, Link}}(undef, n)\n",
    "for (i, grp) in enumerate(groups)\n",
    "    gidx = df[!, :id] .== grp\n",
    "    ni = count(gidx)\n",
    "    y = Float64.(df[gidx, :counts])\n",
    "    X1 = Float64.(df[gidx, :visit])\n",
    "    X2 = Float64.(df[gidx, :trt])\n",
    "    X3 = Float64.(df[gidx, :visit] .* df[gidx, :trt])\n",
    "    X = [ones(ni, 1) X1 X2 X3]\n",
    "    gcs[i] = GLMCopulaARObs(y, X, d, link)\n",
    "end\n",
    "gcm = GLMCopulaARModel(gcs);\n",
    "\n",
    "# initialize β and τ from least square solution\n",
    "@info \"Initial point:\"\n",
    "@time initialize_model!(gcm);\n",
    "@show gcm.β\n",
    "@show gcm.σ2\n",
    "@show gcm.ρ\n",
    "\n",
    "@show loglikelihood!(gcm, true, false)\n",
    "@time GLMCopula.fit!(gcm, IpoptSolver(print_level = 5, max_iter = 100, tol = 10^-5, limited_memory_max_history = 20, hessian_approximation = \"limited-memory\"));"
   ]
  },
  {
   "cell_type": "code",
   "execution_count": 3,
   "metadata": {},
   "outputs": [
    {
     "name": "stdout",
     "output_type": "stream",
     "text": [
      "gcm.β = [3.4431068704669063, -1.2639779859421596, 0.014892138344205698, -0.11631781868420082]\n",
      "gcm.σ2 = [0.5361926759265381]\n",
      "gcm.ρ = [1.0]\n"
     ]
    }
   ],
   "source": [
    "@show gcm.β\n",
    "@show gcm.σ2\n",
    "@show gcm.ρ;"
   ]
  },
  {
   "cell_type": "code",
   "execution_count": 4,
   "metadata": {},
   "outputs": [
    {
     "name": "stdout",
     "output_type": "stream",
     "text": [
      "loglikelihood!(gcm, false, false) = -2194.8262499954526\n"
     ]
    }
   ],
   "source": [
    "@show loglikelihood!(gcm, false, false);"
   ]
  },
  {
   "cell_type": "markdown",
   "metadata": {},
   "source": [
    "## Using geepack"
   ]
  },
  {
   "cell_type": "code",
   "execution_count": 5,
   "metadata": {},
   "outputs": [
    {
     "name": "stderr",
     "output_type": "stream",
     "text": [
      "┌ Warning: RCall.jl: Warning: package ‘gcmr’ was built under R version 4.0.2\n",
      "└ @ RCall /Users/sarahji/.julia/packages/RCall/iMDW2/src/io.jl:160\n",
      "┌ Warning: RCall.jl: Warning: package ‘geepack’ was built under R version 4.0.2\n",
      "└ @ RCall /Users/sarahji/.julia/packages/RCall/iMDW2/src/io.jl:160\n"
     ]
    },
    {
     "data": {
      "text/plain": [
       "RObject{VecSxp}\n",
       "\n",
       "Call:\n",
       "geeglm(formula = counts ~ 1 + visit + trt + visit:trt, family = poisson, \n",
       "    data = epilepsy, id = id, corstr = \"ar1\")\n",
       "\n",
       " Coefficients:\n",
       "            Estimate  Std.err    Wald Pr(>|W|)    \n",
       "(Intercept)  3.38922  0.16199 437.726   <2e-16 ***\n",
       "visit       -1.22996  0.11387 116.673   <2e-16 ***\n",
       "trt          0.01628  0.21150   0.006    0.939    \n",
       "visit:trt   -0.13162  0.26713   0.243    0.622    \n",
       "---\n",
       "Signif. codes:  0 ‘***’ 0.001 ‘**’ 0.01 ‘*’ 0.05 ‘.’ 0.1 ‘ ’ 1\n",
       "\n",
       "Correlation structure = ar1 \n",
       "Estimated Scale Parameters:\n",
       "\n",
       "            Estimate Std.err\n",
       "(Intercept)    19.93   8.939\n",
       "  Link = identity \n",
       "\n",
       "Estimated Correlation Parameters:\n",
       "      Estimate Std.err\n",
       "alpha   0.8924 0.03863\n",
       "Number of clusters:   59  Maximum cluster size: 5 \n"
      ]
     },
     "execution_count": 5,
     "metadata": {},
     "output_type": "execute_result"
    }
   ],
   "source": [
    "using RCall\n",
    "R\"\"\"\n",
    "library(\"gcmr\")\n",
    "library(\"geepack\")\n",
    "data(\"epilepsy\", package = \"gcmr\")\n",
    "gee.ar1 <- geeglm(counts ~ 1 + visit + trt + visit:trt,\n",
    "data = epilepsy, id = id, family = poisson,\n",
    "corstr = \"ar1\")\n",
    "\n",
    "summary(gee.ar1)\n",
    "\"\"\""
   ]
  },
  {
   "cell_type": "markdown",
   "metadata": {},
   "source": [
    "## Using gcmr"
   ]
  },
  {
   "cell_type": "code",
   "execution_count": 6,
   "metadata": {},
   "outputs": [
    {
     "data": {
      "text/plain": [
       "RObject{VecSxp}\n",
       "\n",
       "Call:\n",
       "gcmr(formula = counts ~ 1 + visit + trt + visit:trt, data = epilepsy, \n",
       "    marginal = poisson.marg(link = \"log\"), cormat = cluster.cormat(id, \n",
       "        \"ar1\"))\n",
       "\n",
       "\n",
       "Coefficients marginal model:\n",
       "            Estimate Std. Error z value Pr(>|z|)    \n",
       "(Intercept)   3.2260     0.0362   89.22  < 2e-16 ***\n",
       "visit        -1.0866     0.0386  -28.19  < 2e-16 ***\n",
       "trt          -0.0143     0.0515   -0.28     0.78    \n",
       "visit:trt    -0.5391     0.0682   -7.91  2.6e-15 ***\n",
       "\n",
       "Coefficients Gaussian copula:\n",
       "    Estimate Std. Error z value Pr(>|z|)    \n",
       "ar1   0.4632     0.0196    23.6   <2e-16 ***\n",
       "---\n",
       "Signif. codes:  0 '***' 0.001 '**' 0.01 '*' 0.05 '.' 0.1 ' ' 1 \n",
       "\n",
       "log likelihood = 1367.7,  AIC = 2745\n"
      ]
     },
     "execution_count": 6,
     "metadata": {},
     "output_type": "execute_result"
    }
   ],
   "source": [
    "using RCall\n",
    "\n",
    "R\"\"\"\n",
    "data(\"epilepsy\", package = \"gcmr\")\n",
    "mod.ar <- gcmr(counts ~ 1 + visit + trt + visit:trt,\n",
    " data = epilepsy, marginal = poisson.marg(link = \"log\"),\n",
    " cormat = cluster.cormat(id, \"ar1\"))\n",
    "summary(mod.ar)\n",
    "\"\"\""
   ]
  },
  {
   "cell_type": "markdown",
   "metadata": {},
   "source": [
    "# Example 2: Longitudinal Logistic "
   ]
  },
  {
   "cell_type": "code",
   "execution_count": null,
   "metadata": {},
   "outputs": [
    {
     "name": "stderr",
     "output_type": "stream",
     "text": [
      "┌ Info: Initial point:\n",
      "└ @ Main In[7]:24\n"
     ]
    },
    {
     "name": "stdout",
     "output_type": "stream",
     "text": [
      "initializing β using Newton's Algorithm under Independence Assumption\n"
     ]
    }
   ],
   "source": [
    "df = CSV.read(\"respiratory_geepack.csv\", DataFrame)\n",
    "groups = unique(df[!, :id])\n",
    "n, p, m = length(groups), 1, 2\n",
    "d = Bernoulli()\n",
    "link = LogitLink()\n",
    "D = typeof(d)\n",
    "Link = typeof(link)\n",
    "T = Float64\n",
    "gcs = Vector{GLMCopulaARObs{T, D, Link}}(undef, n)\n",
    "\n",
    "for (i, grp) in enumerate(groups)\n",
    "    gidx = df[!, :id] .== grp\n",
    "    ni = count(gidx)\n",
    "    y = Float64.(df[gidx, :outcome])\n",
    "    X1 = Float64.(df[gidx, :center])\n",
    "    X2 = Float64.(df[gidx, :age])\n",
    "    X3 = Float64.(df[gidx, :baseline])\n",
    "    X = [ones(ni, 1) X1 X2 X3]\n",
    "    gcs[i] = GLMCopulaARObs(y, X, d, link)\n",
    "end\n",
    "gcm = GLMCopulaARModel(gcs);\n",
    "\n",
    "# initialize β and τ from least square solution\n",
    "@info \"Initial point:\"\n",
    "@time initialize_model!(gcm);\n",
    "@show gcm.β\n",
    "@show gcm.σ2\n",
    "@show gcm.ρ\n",
    "\n",
    "@show loglikelihood!(gcm, true, false)\n",
    "\n",
    "@time GLMCopula.fit!(gcm, IpoptSolver(print_level = 5, max_iter = 100, tol = 10^-5, limited_memory_max_history = 20, hessian_approximation = \"limited-memory\"))"
   ]
  },
  {
   "cell_type": "code",
   "execution_count": null,
   "metadata": {},
   "outputs": [],
   "source": [
    "@show gcm.β\n",
    "@show gcm.σ2\n",
    "@show gcm.ρ;"
   ]
  },
  {
   "cell_type": "code",
   "execution_count": null,
   "metadata": {},
   "outputs": [],
   "source": [
    "@show loglikelihood!(gcm, false, false);"
   ]
  },
  {
   "cell_type": "markdown",
   "metadata": {},
   "source": [
    "## Using geepack"
   ]
  },
  {
   "cell_type": "code",
   "execution_count": null,
   "metadata": {},
   "outputs": [],
   "source": [
    "R\"\"\"\n",
    "gee.ar1 <- geeglm(outcome ~ center + age + baseline, data=respiratory, id=id,\n",
    "family=binomial(), corstr=\"ar1\")\n",
    "summary(gee.ar1)\n",
    "\"\"\""
   ]
  },
  {
   "cell_type": "markdown",
   "metadata": {},
   "source": [
    "## Using gcmr"
   ]
  },
  {
   "cell_type": "code",
   "execution_count": null,
   "metadata": {},
   "outputs": [],
   "source": [
    "R\"\"\"\n",
    "data(respiratory, package=\"geepack\")\n",
    "newdata <- respiratory[order(respiratory$id),]\n",
    "\n",
    "mod.ar <- gcmr(outcome ~ center + age + baseline,\n",
    " data = newdata, marginal = binomial.marg(link = \"logit\"),\n",
    " cormat = cluster.cormat(id, \"ar1\"))\n",
    "summary(mod.ar)\n",
    "\"\"\""
   ]
  },
  {
   "cell_type": "code",
   "execution_count": null,
   "metadata": {},
   "outputs": [],
   "source": []
  }
 ],
 "metadata": {
  "@webio": {
   "lastCommId": null,
   "lastKernelId": null
  },
  "kernelspec": {
   "display_name": "Julia 1.6.2",
   "language": "julia",
   "name": "julia-1.6"
  },
  "language_info": {
   "file_extension": ".jl",
   "mimetype": "application/julia",
   "name": "julia",
   "version": "1.6.2"
  }
 },
 "nbformat": 4,
 "nbformat_minor": 4
}
