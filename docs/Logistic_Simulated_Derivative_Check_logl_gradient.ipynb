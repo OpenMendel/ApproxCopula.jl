{
 "cells": [
  {
   "cell_type": "markdown",
   "metadata": {},
   "source": [
    "# Form the Logistic Regression Random Intercept Model: Simulated set\n",
    "\n",
    "In this notebook we will use simulated dataset using MixedModels.jl to test the fit of our copula model on the logistic regression outcome.\n",
    "\n",
    "For a single observation, $i = 1$ we will use ForwardDiff.jl to check the following calculations:\n",
    "\n",
    "    (1) Loglikelihood\n",
    "\n",
    "    (2) Gradient with respect to Beta"
   ]
  },
  {
   "cell_type": "code",
   "execution_count": 1,
   "metadata": {},
   "outputs": [
    {
     "data": {
      "text/html": [
       "<table class=\"data-frame\"><thead><tr><th></th><th>gene</th><th>normal</th><th>nresp</th><th>counts</th></tr><tr><th></th><th>Char</th><th>Float64</th><th>Float64</th><th>Bool</th></tr></thead><tbody><p>1,000 rows × 4 columns</p><tr><th>1</th><td>'A'</td><td>0.0951588</td><td>1.0</td><td>0</td></tr><tr><th>2</th><td>'B'</td><td>0.270898</td><td>1.0</td><td>0</td></tr><tr><th>3</th><td>'C'</td><td>0.906315</td><td>1.0</td><td>0</td></tr><tr><th>4</th><td>'D'</td><td>0.833585</td><td>1.0</td><td>1</td></tr><tr><th>5</th><td>'E'</td><td>0.945055</td><td>1.0</td><td>1</td></tr><tr><th>6</th><td>'F'</td><td>0.443669</td><td>1.0</td><td>1</td></tr><tr><th>7</th><td>'G'</td><td>0.904577</td><td>1.0</td><td>1</td></tr><tr><th>8</th><td>'H'</td><td>0.941598</td><td>1.0</td><td>0</td></tr><tr><th>9</th><td>'I'</td><td>0.0375897</td><td>1.0</td><td>0</td></tr><tr><th>10</th><td>'J'</td><td>0.996082</td><td>1.0</td><td>1</td></tr><tr><th>11</th><td>'A'</td><td>0.238817</td><td>1.0</td><td>0</td></tr><tr><th>12</th><td>'B'</td><td>0.180708</td><td>1.0</td><td>1</td></tr><tr><th>13</th><td>'C'</td><td>0.630896</td><td>1.0</td><td>1</td></tr><tr><th>14</th><td>'D'</td><td>0.268177</td><td>1.0</td><td>0</td></tr><tr><th>15</th><td>'E'</td><td>0.719386</td><td>1.0</td><td>1</td></tr><tr><th>16</th><td>'F'</td><td>0.923945</td><td>1.0</td><td>1</td></tr><tr><th>17</th><td>'G'</td><td>0.540168</td><td>1.0</td><td>1</td></tr><tr><th>18</th><td>'H'</td><td>0.656086</td><td>1.0</td><td>1</td></tr><tr><th>19</th><td>'I'</td><td>0.748725</td><td>1.0</td><td>1</td></tr><tr><th>20</th><td>'J'</td><td>0.542957</td><td>1.0</td><td>0</td></tr><tr><th>21</th><td>'A'</td><td>0.118967</td><td>1.0</td><td>1</td></tr><tr><th>22</th><td>'B'</td><td>0.915266</td><td>1.0</td><td>1</td></tr><tr><th>23</th><td>'C'</td><td>0.543844</td><td>1.0</td><td>1</td></tr><tr><th>24</th><td>'D'</td><td>0.371611</td><td>1.0</td><td>1</td></tr><tr><th>25</th><td>'E'</td><td>0.155375</td><td>1.0</td><td>1</td></tr><tr><th>26</th><td>'F'</td><td>0.195176</td><td>1.0</td><td>1</td></tr><tr><th>27</th><td>'G'</td><td>0.709453</td><td>1.0</td><td>1</td></tr><tr><th>28</th><td>'H'</td><td>0.191636</td><td>1.0</td><td>0</td></tr><tr><th>29</th><td>'I'</td><td>0.449893</td><td>1.0</td><td>1</td></tr><tr><th>30</th><td>'J'</td><td>0.279771</td><td>1.0</td><td>1</td></tr><tr><th>&vellip;</th><td>&vellip;</td><td>&vellip;</td><td>&vellip;</td><td>&vellip;</td></tr></tbody></table>"
      ],
      "text/latex": [
       "\\begin{tabular}{r|cccc}\n",
       "\t& gene & normal & nresp & counts\\\\\n",
       "\t\\hline\n",
       "\t& Char & Float64 & Float64 & Bool\\\\\n",
       "\t\\hline\n",
       "\t1 & 'A' & 0.0951588 & 1.0 & 0 \\\\\n",
       "\t2 & 'B' & 0.270898 & 1.0 & 0 \\\\\n",
       "\t3 & 'C' & 0.906315 & 1.0 & 0 \\\\\n",
       "\t4 & 'D' & 0.833585 & 1.0 & 1 \\\\\n",
       "\t5 & 'E' & 0.945055 & 1.0 & 1 \\\\\n",
       "\t6 & 'F' & 0.443669 & 1.0 & 1 \\\\\n",
       "\t7 & 'G' & 0.904577 & 1.0 & 1 \\\\\n",
       "\t8 & 'H' & 0.941598 & 1.0 & 0 \\\\\n",
       "\t9 & 'I' & 0.0375897 & 1.0 & 0 \\\\\n",
       "\t10 & 'J' & 0.996082 & 1.0 & 1 \\\\\n",
       "\t11 & 'A' & 0.238817 & 1.0 & 0 \\\\\n",
       "\t12 & 'B' & 0.180708 & 1.0 & 1 \\\\\n",
       "\t13 & 'C' & 0.630896 & 1.0 & 1 \\\\\n",
       "\t14 & 'D' & 0.268177 & 1.0 & 0 \\\\\n",
       "\t15 & 'E' & 0.719386 & 1.0 & 1 \\\\\n",
       "\t16 & 'F' & 0.923945 & 1.0 & 1 \\\\\n",
       "\t17 & 'G' & 0.540168 & 1.0 & 1 \\\\\n",
       "\t18 & 'H' & 0.656086 & 1.0 & 1 \\\\\n",
       "\t19 & 'I' & 0.748725 & 1.0 & 1 \\\\\n",
       "\t20 & 'J' & 0.542957 & 1.0 & 0 \\\\\n",
       "\t21 & 'A' & 0.118967 & 1.0 & 1 \\\\\n",
       "\t22 & 'B' & 0.915266 & 1.0 & 1 \\\\\n",
       "\t23 & 'C' & 0.543844 & 1.0 & 1 \\\\\n",
       "\t24 & 'D' & 0.371611 & 1.0 & 1 \\\\\n",
       "\t25 & 'E' & 0.155375 & 1.0 & 1 \\\\\n",
       "\t26 & 'F' & 0.195176 & 1.0 & 1 \\\\\n",
       "\t27 & 'G' & 0.709453 & 1.0 & 1 \\\\\n",
       "\t28 & 'H' & 0.191636 & 1.0 & 0 \\\\\n",
       "\t29 & 'I' & 0.449893 & 1.0 & 1 \\\\\n",
       "\t30 & 'J' & 0.279771 & 1.0 & 1 \\\\\n",
       "\t$\\dots$ & $\\dots$ & $\\dots$ & $\\dots$ & $\\dots$ \\\\\n",
       "\\end{tabular}\n"
      ],
      "text/plain": [
       "1000×4 DataFrame\n",
       "│ Row  │ gene │ normal    │ nresp   │ counts │\n",
       "│      │ \u001b[90mChar\u001b[39m │ \u001b[90mFloat64\u001b[39m   │ \u001b[90mFloat64\u001b[39m │ \u001b[90mBool\u001b[39m   │\n",
       "├──────┼──────┼───────────┼─────────┼────────┤\n",
       "│ 1    │ 'A'  │ 0.0951588 │ 1.0     │ 0      │\n",
       "│ 2    │ 'B'  │ 0.270898  │ 1.0     │ 0      │\n",
       "│ 3    │ 'C'  │ 0.906315  │ 1.0     │ 0      │\n",
       "│ 4    │ 'D'  │ 0.833585  │ 1.0     │ 1      │\n",
       "│ 5    │ 'E'  │ 0.945055  │ 1.0     │ 1      │\n",
       "│ 6    │ 'F'  │ 0.443669  │ 1.0     │ 1      │\n",
       "│ 7    │ 'G'  │ 0.904577  │ 1.0     │ 1      │\n",
       "│ 8    │ 'H'  │ 0.941598  │ 1.0     │ 0      │\n",
       "│ 9    │ 'I'  │ 0.0375897 │ 1.0     │ 0      │\n",
       "│ 10   │ 'J'  │ 0.996082  │ 1.0     │ 1      │\n",
       "⋮\n",
       "│ 990  │ 'J'  │ 0.536461  │ 1.0     │ 1      │\n",
       "│ 991  │ 'A'  │ 0.991685  │ 1.0     │ 0      │\n",
       "│ 992  │ 'B'  │ 0.016787  │ 1.0     │ 1      │\n",
       "│ 993  │ 'C'  │ 0.975439  │ 1.0     │ 1      │\n",
       "│ 994  │ 'D'  │ 0.358749  │ 1.0     │ 1      │\n",
       "│ 995  │ 'E'  │ 0.805589  │ 1.0     │ 1      │\n",
       "│ 996  │ 'F'  │ 0.153572  │ 1.0     │ 1      │\n",
       "│ 997  │ 'G'  │ 0.287365  │ 1.0     │ 1      │\n",
       "│ 998  │ 'H'  │ 0.445073  │ 1.0     │ 1      │\n",
       "│ 999  │ 'I'  │ 0.127871  │ 1.0     │ 1      │\n",
       "│ 1000 │ 'J'  │ 0.111286  │ 1.0     │ 1      │"
      ]
     },
     "execution_count": 1,
     "metadata": {},
     "output_type": "execute_result"
    }
   ],
   "source": [
    "using DataFrames, MixedModels, Random, GeneralizedCopula, GLM\n",
    "using ForwardDiff, Test, LinearAlgebra\n",
    "using LinearAlgebra: BlasReal, copytri!\n",
    "\n",
    "Random.seed!(1235)\n",
    "p = 10   # number of genes\n",
    "\n",
    "n = 100  # number of cells\n",
    "\n",
    "df = DataFrame(gene = repeat('A':'J', outer=n), normal = rand(n * p), nresp = ones(n * p))\n",
    "\n",
    "#lmm1 = lmm(@formula(nresp ~ 1 + (1|gene)), df);\n",
    "lmm1 = LinearMixedModel(@formula(nresp ~ 1 +  normal + (1|gene)), df);\n",
    "# simulate the linear mixed model response and fit it (as a sanity check)\n",
    "\n",
    "refit!(simulate!(lmm1, β=[0.2, 1.5], σ=0.01, θ=[5.]))\n",
    "\n",
    "#simulate the Logistic response\n",
    "df[!, :counts] = rand.(Bernoulli.(GLM.linkinv.(canonicallink(Bernoulli()), response(lmm1))))\n",
    "df"
   ]
  },
  {
   "cell_type": "code",
   "execution_count": 2,
   "metadata": {},
   "outputs": [
    {
     "data": {
      "text/plain": [
       "Generalized Linear Mixed Model fit by maximum likelihood (nAGQ = 1)\n",
       "  counts ~ 1 + normal + (1 | gene)\n",
       "  Distribution: Bernoulli{Float64}\n",
       "  Link: LogitLink()\n",
       "\n",
       "  Deviance: 1138.5538\n",
       "\n",
       "Variance components:\n",
       "        Column     Variance     Std.Dev.  \n",
       "gene (Intercept)  0.0019004487 0.043594136\n",
       "\n",
       " Number of obs: 1000; levels of grouping factors: 10\n",
       "\n",
       "Fixed-effects parameters:\n",
       "──────────────────────────────────────────────────\n",
       "             Estimate  Std.Error  z value  P(>|z|)\n",
       "──────────────────────────────────────────────────\n",
       "(Intercept)  0.240532   0.135665  1.77299   0.0762\n",
       "normal       1.52029    0.252689  6.01645   <1e-8\n",
       "──────────────────────────────────────────────────"
      ]
     },
     "execution_count": 2,
     "metadata": {},
     "output_type": "execute_result"
    }
   ],
   "source": [
    "glmm1 = MixedModels.fit!(GeneralizedLinearMixedModel(@formula(counts ~ 1 + normal + (1|gene)), df, Bernoulli()), fast=true)"
   ]
  },
  {
   "cell_type": "code",
   "execution_count": 3,
   "metadata": {},
   "outputs": [
    {
     "data": {
      "text/plain": [
       "-569.2768789333542"
      ]
     },
     "execution_count": 3,
     "metadata": {},
     "output_type": "execute_result"
    }
   ],
   "source": [
    "loglikelihood(glmm1)"
   ]
  },
  {
   "cell_type": "code",
   "execution_count": 4,
   "metadata": {},
   "outputs": [
    {
     "name": "stdout",
     "output_type": "stream",
     "text": [
      "1 0.0 -626.5957471791157 39\n",
      "2 -626.5957471791157 -571.7584788144428 9\n",
      "3 -571.7584788144428 -569.2814939049927 9\n",
      "4 -569.2814939049927 -569.2800318847973 9\n",
      "5 -569.2800318847973 -569.2800318829738 9\n",
      "gcm.β = [0.24007269498653974, 1.5211675941696152]\n"
     ]
    },
    {
     "data": {
      "text/plain": [
       "2-element Array{Float64,1}:\n",
       " 0.24007269498653974\n",
       " 1.5211675941696152"
      ]
     },
     "execution_count": 4,
     "metadata": {},
     "output_type": "execute_result"
    }
   ],
   "source": [
    "groups = unique(df[!, :gene])\n",
    "n, p, m = length(groups), 1, 1\n",
    "d = Bernoulli()\n",
    "D = typeof(d)\n",
    "gcs = Vector{GLMCopulaVCObs{Float64, D}}(undef, n)\n",
    "for (i, grp) in enumerate(groups)\n",
    "    gidx = df[!, :gene] .== grp\n",
    "    ni = count(gidx)\n",
    "    y = Float64.(df[gidx, :counts])\n",
    "    normal = Float64.(df[gidx, :normal])\n",
    "    X = [ones(ni, 1) normal]\n",
    "    V = [ones(ni, ni)]\n",
    "    gcs[i] = GLMCopulaVCObs(y, X, V, d)\n",
    "end\n",
    "gcm = GLMCopulaVCModel(gcs);\n",
    "\n",
    "initialize_model!(gcm)\n",
    "@show gcm.β"
   ]
  },
  {
   "cell_type": "markdown",
   "metadata": {},
   "source": [
    "## MM update for Sigma\n",
    "\n",
    "$$\n",
    "  \\begin{eqnarray}\n",
    "\\mathcal{L}(\\sigma) = - \\sum_i^n \\ln \\left(1 + \\sum_k^m \\sigma_k^2 t_{ik}\\right) + \\sum_i^n \\ln \\left(1 + \\frac{1}{2} \\sum_k^m \\sigma_k^2 q_{ik}\\right)\n",
    "\\end{eqnarray}\n",
    "$$\n",
    "\n",
    "where\n",
    "$$\n",
    "\\begin{eqnarray*}\n",
    "\tt_{ik} &=& \\frac 12 \\text{tr}(\\mathbf{V}_{ik}), \\quad \\mathbf{t}_i = (t_{i1}, \\ldots, t_{im})^T \\\\\n",
    "\tq_{ik} &=& \\frac{1}{2}  \\mathbf{r}_i( \\boldsymbol{\\beta})^T \\mathbf{V}_{ik}  \\mathbf{r}_i (\\boldsymbol{\\beta}), \\quad \\mathbf{q}_i = (q_{i1}, \\ldots, q_{im})^T.\n",
    "\\end{eqnarray*}\n",
    "$$\n",
    "\n",
    "where the $k^{th}$ element in the $m \\times 1$ vector of variance components above is:\n",
    "\n",
    "$$\\begin{eqnarray*}\n",
    "\\sigma_{k}^{2^{(t+1)}} & = & \\sigma_{k}^{2^{(t)}} \\left(\\frac{\\sum_{i=1}^n\n",
    "\\frac{q_{ik}}{1+ q_i^{(t)}}}{\\sum_{i=1}^n \\frac{t_{ik}}{1+ t_i^{(t)}}} \\right).\n",
    "\\end{eqnarray*}\n",
    "$$\n",
    "\n",
    "where $q_i^{(t)} = \\sum_{k=1}^m \\sigma_k^{2(t)} q_{ik}$ and $t_i^{(t)} = \\sum_{k=1}^m \\sigma_k^{2(t)} t_{ik}$. \n",
    "\n",
    "\n",
    "In this case $m = 1$ single variance component to model the random intercept. "
   ]
  },
  {
   "cell_type": "markdown",
   "metadata": {},
   "source": [
    "Initialize β and σ2, here I just copy the solution for β and σ2 from MixedModels.jl over"
   ]
  },
  {
   "cell_type": "code",
   "execution_count": 5,
   "metadata": {},
   "outputs": [
    {
     "data": {
      "text/plain": [
       "-569.178024831856"
      ]
     },
     "execution_count": 5,
     "metadata": {},
     "output_type": "execute_result"
    }
   ],
   "source": [
    "fill!(gcm.Σ, 1.0)\n",
    "update_Σ!(gcm)\n",
    "GeneralizedCopula.loglikelihood3!(gcm, true, true)"
   ]
  },
  {
   "cell_type": "markdown",
   "metadata": {},
   "source": [
    "Closer Look at Observation 1\n",
    "i =1"
   ]
  },
  {
   "cell_type": "code",
   "execution_count": 6,
   "metadata": {},
   "outputs": [
    {
     "name": "stdout",
     "output_type": "stream",
     "text": [
      "β = [0.24007269498653974, 1.5211675941696152]\n",
      "Σ = [0.002721018657053964]\n",
      "τ = [1.0]\n"
     ]
    },
    {
     "data": {
      "text/plain": [
       "100"
      ]
     },
     "execution_count": 6,
     "metadata": {},
     "output_type": "execute_result"
    }
   ],
   "source": [
    "gc = gcm.data[1]\n",
    "β  = gcm.β\n",
    "Σ  = gcm.Σ\n",
    "τ  = gcm.τ\n",
    "\n",
    "@show β\n",
    "@show Σ\n",
    "@show τ\n",
    "\n",
    "n_i  = length(gc.y)"
   ]
  },
  {
   "cell_type": "markdown",
   "metadata": {},
   "source": [
    "## Loglikelihood for observation i = 1, j in [1, n_1]\n",
    "$$\\mathcal{L}(\\mathbf{\\beta})_1 =  - \\ln \\Big[1\\! +\\! \\frac{1}{2}tr(\\mathbf{\\Gamma_{1}})\\Big] +\n",
    "\\ln \\Big\\{1\\!+\\!\\frac{1}{2}\\mathbf{r_1}(\\mathbf{\\beta})^t \\mathbf{\\Gamma_1} \\mathbf{r_1}(\\mathbf{\\beta})\\Big\\} +  \\sum_{j=1}^{n_1}y_{1j}log(\\mu_{1j}(\\mathbf{\\beta})) - \\mu_{1j}(\\mathbf{\\beta})$$"
   ]
  },
  {
   "cell_type": "markdown",
   "metadata": {},
   "source": [
    "### First I want to check if the mean and residuals are updated and standardized at this point"
   ]
  },
  {
   "cell_type": "code",
   "execution_count": 7,
   "metadata": {},
   "outputs": [
    {
     "data": {
      "text/plain": [
       "\u001b[32m\u001b[1mTest Passed\u001b[22m\u001b[39m"
      ]
     },
     "execution_count": 7,
     "metadata": {},
     "output_type": "execute_result"
    }
   ],
   "source": [
    "@test gc.η == gc.X*β                        # systematic linear component\n",
    "@test gc.μ == exp.(gc.η)./(1 .+ exp.(gc.η)) # mu = ginverse of XB = mean component for GLM = [p]\n",
    "@test gc.varμ == gc.μ .*(1 .- gc.μ)         # variance of the Bernoulli response as a function of mean mu [p(1-p)]\n",
    "@test gc.res ≈ (gc.y - gc.μ)./sqrt.(gc.varμ)# standardized residual for GLM [(y - p)/sqrt(p(1-p))]"
   ]
  },
  {
   "cell_type": "markdown",
   "metadata": {},
   "source": [
    "### Next I want to check if the hard coded terms in the loglikelihood are correct\n",
    "\n",
    "$$\\text{Term 1 }= - \\ln \\Big[1\\! +\\! \\frac{1}{2}tr(\\mathbf{\\Gamma_{1}})\\Big]$$"
   ]
  },
  {
   "cell_type": "code",
   "execution_count": 8,
   "metadata": {},
   "outputs": [
    {
     "name": "stdout",
     "output_type": "stream",
     "text": [
      "trace_gamma_half = 0.1360509328526982\n",
      "term1 = -0.12755815455154634\n"
     ]
    }
   ],
   "source": [
    "# term 1:\n",
    "trace_gamma = Σ[1]*tr(gc.V[1])\n",
    "@test trace_gamma ≈ n_i*Σ[1]\n",
    "\n",
    "trace_gamma_half = trace_gamma/2\n",
    "@show trace_gamma_half\n",
    "\n",
    "term1 = -log(1 + trace_gamma_half)\n",
    "@show term1;"
   ]
  },
  {
   "cell_type": "markdown",
   "metadata": {},
   "source": [
    "$$\\text{Term 2} = \\ln \\Big\\{1\\!+\\!\\frac{1}{2}\\mathbf{r_1}(\\mathbf{\\beta})^t \\mathbf{\\Gamma_1} \\mathbf{r_1}(\\mathbf{\\beta})\\Big\\}$$"
   ]
  },
  {
   "cell_type": "code",
   "execution_count": 9,
   "metadata": {},
   "outputs": [
    {
     "name": "stdout",
     "output_type": "stream",
     "text": [
      "quad_form_standardized_res_half = 0.10027895248141495\n",
      "term2 = 0.095563740819936\n"
     ]
    },
    {
     "data": {
      "text/plain": [
       "0.095563740819936"
      ]
     },
     "execution_count": 9,
     "metadata": {},
     "output_type": "execute_result"
    }
   ],
   "source": [
    "# term 2:\n",
    "quad_form_standardized_res_half = (Σ[1]*transpose(gc.res)*gc.V[1]*gc.res)/2\n",
    "@show quad_form_standardized_res_half\n",
    "\n",
    "term2 = log(1 + quad_form_standardized_res_half) \n",
    "@show term2"
   ]
  },
  {
   "cell_type": "markdown",
   "metadata": {},
   "source": [
    "### In the loglikelihood function I have:"
   ]
  },
  {
   "cell_type": "markdown",
   "metadata": {},
   "source": [
    "$$\\text{Term1 + Term2} =  - \\ln \\Big[1\\! +\\! \\frac{1}{2}tr(\\mathbf{\\Gamma_{1}})\\Big] +\n",
    "\\ln \\Big\\{1\\!+\\!\\frac{1}{2}\\mathbf{r_1}(\\mathbf{\\beta})^t \\mathbf{\\Gamma_1} \\mathbf{r_1}(\\mathbf{\\beta})\\Big\\}$$"
   ]
  },
  {
   "cell_type": "code",
   "execution_count": 10,
   "metadata": {},
   "outputs": [
    {
     "name": "stdout",
     "output_type": "stream",
     "text": [
      "logl_hard_coded_obs1 = -0.03199441373161034\n",
      "copula_logl_function = -0.03199441373161034\n"
     ]
    },
    {
     "data": {
      "text/plain": [
       "\u001b[32m\u001b[1mTest Passed\u001b[22m\u001b[39m"
      ]
     },
     "execution_count": 10,
     "metadata": {},
     "output_type": "execute_result"
    }
   ],
   "source": [
    "logl_hard_coded_obs1 = term1 + term2\n",
    "copula_logl_function = GeneralizedCopula.copula_loglikelihood_addendum(gc, Σ)\n",
    "@show logl_hard_coded_obs1\n",
    "@show copula_logl_function\n",
    "@test copula_logl_function ≈ logl_hard_coded_obs1"
   ]
  },
  {
   "cell_type": "markdown",
   "metadata": {},
   "source": [
    "### Part of Loglikelihood that comes from the Density using GLM.jl\n",
    "\n",
    "$$\\text{Term 3} = \\sum_{j=1}^{n_1}y_{1j}log(\\mu_{1j}(\\mathbf{\\beta})) + (1 − y_{1j})log(1 − \\mu_{1j}(\\mathbf{\\beta}))$$"
   ]
  },
  {
   "cell_type": "code",
   "execution_count": 11,
   "metadata": {},
   "outputs": [
    {
     "data": {
      "text/plain": [
       "-64.39918956480813"
      ]
     },
     "execution_count": 11,
     "metadata": {},
     "output_type": "execute_result"
    }
   ],
   "source": [
    "function logistic_density(y, μ)\n",
    "    logl = 0.0\n",
    "    for j in 1:length(y)\n",
    "        logl += y[j]*log(μ[j]) + (1 - y[j])*log(1 - μ[j])\n",
    "    end\n",
    "    logl\n",
    "end\n",
    "\n",
    "term3 = logistic_density(gc.y, gc.μ)"
   ]
  },
  {
   "cell_type": "code",
   "execution_count": 12,
   "metadata": {},
   "outputs": [
    {
     "data": {
      "text/plain": [
       "-64.39918956480813"
      ]
     },
     "execution_count": 12,
     "metadata": {},
     "output_type": "execute_result"
    }
   ],
   "source": [
    "logl_component_logistic = 0.0\n",
    "logl_component_logistic += component_loglikelihood(gc, τ[1], logl_component_logistic)"
   ]
  },
  {
   "cell_type": "code",
   "execution_count": 13,
   "metadata": {},
   "outputs": [
    {
     "data": {
      "text/plain": [
       "\u001b[32m\u001b[1mTest Passed\u001b[22m\u001b[39m"
      ]
     },
     "execution_count": 13,
     "metadata": {},
     "output_type": "execute_result"
    }
   ],
   "source": [
    "@test logl_component_logistic == term3"
   ]
  },
  {
   "cell_type": "markdown",
   "metadata": {},
   "source": [
    "$$\\mathcal{L}(\\mathbf{\\beta})_1 =  - \\ln \\Big[1\\! +\\! \\frac{1}{2}tr(\\mathbf{\\Gamma_{1}})\\Big] +\n",
    "\\ln \\Big\\{1\\!+\\!\\frac{1}{2}\\mathbf{r_1}(\\mathbf{\\beta})^t \\mathbf{\\Gamma_1} \\mathbf{r_1}(\\mathbf{\\beta})\\Big\\} +  \\sum_{j=1}^{n_1}y_{1j}log(\\mu_{1j}(\\mathbf{\\beta})) - \\mu_{1j}(\\mathbf{\\beta})$$"
   ]
  },
  {
   "cell_type": "code",
   "execution_count": 14,
   "metadata": {},
   "outputs": [
    {
     "data": {
      "text/plain": [
       "-64.43118397853974"
      ]
     },
     "execution_count": 14,
     "metadata": {},
     "output_type": "execute_result"
    }
   ],
   "source": [
    "logl_hard = term1 + term2 + term3"
   ]
  },
  {
   "cell_type": "code",
   "execution_count": 15,
   "metadata": {},
   "outputs": [
    {
     "data": {
      "text/plain": [
       "-64.43118397853974"
      ]
     },
     "execution_count": 15,
     "metadata": {},
     "output_type": "execute_result"
    }
   ],
   "source": [
    "function copula_loglikelihood(gc::Union{GLMCopulaVCObs{T, D}, GaussianCopulaVCObs{T, D}}, β::Vector{T}, τ::T,\n",
    "    Σ::Vector{T}) where {T<: BlasReal, D}\n",
    "  # first get the loglikelihood from the component density with glm.jl\n",
    "  logl = 0.0\n",
    "  update_res!(gc, β)\n",
    "  standardize_res!(gc)\n",
    "    logl += GeneralizedCopula.copula_loglikelihood_addendum(gc, Σ)\n",
    "    logl += GeneralizedCopula.component_loglikelihood(gc, τ, zero(T))\n",
    "  logl\n",
    "end\n",
    "\n",
    "logl_functions = copula_loglikelihood(gc, β, τ[1], Σ)"
   ]
  },
  {
   "cell_type": "code",
   "execution_count": 16,
   "metadata": {},
   "outputs": [
    {
     "data": {
      "text/plain": [
       "\u001b[32m\u001b[1mTest Passed\u001b[22m\u001b[39m"
      ]
     },
     "execution_count": 16,
     "metadata": {},
     "output_type": "execute_result"
    }
   ],
   "source": [
    "@test logl_hard == logl_functions"
   ]
  },
  {
   "cell_type": "markdown",
   "metadata": {},
   "source": [
    "# A Closer Look at the Gradient for observation i=1\n",
    "\n",
    "$$\\begin{eqnarray*}\n",
    "\\nabla_\\beta &=& \\sum_{i=1}^n \\sum_j \\nabla \\ln f_{ij}(y_{ij} \\mid \\mathbf{\\beta}) + \\sum_{i=1}^n\n",
    "\\frac{\\nabla \\mathbf{r_i(\\mathbf{\\beta})}\\mathbf{\\Gamma_i}\\mathbf{r_i(\\mathbf{\\beta})}}{1+\\frac{1}{2}\\mathbf{r_i}(\\mathbf{\\beta})^t \\mathbf{\\Gamma_i} \\mathbf{r_i(\\mathbf{\\beta})}}\n",
    "\\end{eqnarray*}\n",
    "$$\n",
    "\n",
    "The gradient is made of two terms. The first is from the GLM component loglikelihood that corresponds to the Logistic Regression density. The second part is specific to our copula model. We start with Term 1 for observation 1:\n",
    "\n",
    "$$\\begin{eqnarray*}\n",
    "    \\text{Term 1} &=& \\sum_{j=1}^{n_1} \\frac{(y_{1j}-\\mu_{1j}) \\mu_{1j}'(\\eta_{1j})}{\\sigma_{1j}^2} \\mathbf{x}_{1j}= \\mathbf{X_1}^T \\mathbf{W_{11}}(\\mathbf{Y_1}-\\boldsymbol{\\mu_1}) \n",
    "\\end{eqnarray*}\n",
    "$$\n",
    "\n",
    "We will check if the field $\\mu_{1j}'$ or `mueta` from the GLM.jl package matches our theoretical value"
   ]
  },
  {
   "cell_type": "code",
   "execution_count": 17,
   "metadata": {},
   "outputs": [
    {
     "data": {
      "text/plain": [
       "\u001b[32m\u001b[1mTest Passed\u001b[22m\u001b[39m"
      ]
     },
     "execution_count": 17,
     "metadata": {},
     "output_type": "execute_result"
    }
   ],
   "source": [
    "# these are slightly off by small decimals\n",
    "@test gc.dμ ≈ exp.(gc.η)./(1 .+ exp.(gc.η)).^2        # derivative of mean with respect to systematic component"
   ]
  },
  {
   "cell_type": "code",
   "execution_count": 18,
   "metadata": {},
   "outputs": [
    {
     "data": {
      "text/plain": [
       "2-element Array{Float64,1}:\n",
       " -3.1486382135439355\n",
       " -3.5362506402911693"
      ]
     },
     "execution_count": 18,
     "metadata": {},
     "output_type": "execute_result"
    }
   ],
   "source": [
    "function logistic_gradient(y, X, dμ, σ2, μ)\n",
    "    grad = zeros(size(X, 2))\n",
    "    for j in 1:length(y)\n",
    "        grad += (y[j] - μ[j])*dμ[j]/σ2[j] * X[j, :]\n",
    "    end\n",
    "    grad\n",
    "end\n",
    "\n",
    "term1_gradient = logistic_gradient(gc.y, gc.X, gc.dμ, gc.varμ, gc.μ)"
   ]
  },
  {
   "cell_type": "code",
   "execution_count": 19,
   "metadata": {},
   "outputs": [
    {
     "data": {
      "text/plain": [
       "2-element Array{Float64,1}:\n",
       " -3.1486382135439337\n",
       " -3.5362506402911693"
      ]
     },
     "execution_count": 19,
     "metadata": {},
     "output_type": "execute_result"
    }
   ],
   "source": [
    "transpose(gc.X)*(gc.y - gc.μ)"
   ]
  },
  {
   "cell_type": "code",
   "execution_count": 20,
   "metadata": {},
   "outputs": [
    {
     "data": {
      "text/plain": [
       "2-element Array{Float64,1}:\n",
       " -3.1486382135439355\n",
       " -3.53625064029117"
      ]
     },
     "execution_count": 20,
     "metadata": {},
     "output_type": "execute_result"
    }
   ],
   "source": [
    "term1_grad_fctn = GeneralizedCopula.glm_gradient(gc, β, τ) "
   ]
  },
  {
   "cell_type": "markdown",
   "metadata": {},
   "source": [
    "### Copula density specific gradient portion\n",
    "\n",
    "$$ \\text{Term 2} = \\frac{\\nabla \\mathbf{r_1(\\mathbf{\\beta})}^\\top\\mathbf{\\Gamma_1}\\mathbf{r_1(\\mathbf{\\beta})}}{1+\\frac{1}{2}\\mathbf{r_1}(\\mathbf{\\beta})^t \\mathbf{\\Gamma_i} \\mathbf{r_1(\\mathbf{\\beta})}}\n",
    "$$\n",
    "\n",
    "Notice the second term uses a critical value that will come up in the Hessian as well. For the first observation, $i = 1,$ we have $n_1 = 316$ and $p = 2$ in the VerbAgg dataset. $\\nabla \\mathbf{r_1(\\mathbf{\\beta})}$ which is an $316 \\times 2$ matrix of differentials. \n",
    "\n",
    "Each column of $\\nabla \\mathbf{r_1(\\mathbf{\\beta})}^\\top$ is a $p \\times 1$ vector $\\nabla r_{1j}(\\mathbf{\\beta})$\n",
    "\n",
    "$$\n",
    "\\begin{eqnarray*}\n",
    "\\nabla r_{1j}(\\mathbf{\\beta}) &=&  -\\frac{1}{\\sigma_{1j}(\\mathbf{\\beta})} \\nabla \\mu_{1j}(\\mathbf{\\beta})- \\frac{1}{2} \\frac{y_{1j}-\\mu_{1j}(\\mathbf{\\beta})}{\\sigma_{1j}^3(\\mathbf{\\beta})} \\nabla \\sigma_{1j}^2(\\mathbf{\\beta})\\\\\n",
    "&=&  -\\frac{1}{\\sigma_{1j}(\\mathbf{\\beta})} \\nabla \\mu_{1j}(\\mathbf{\\beta})- \\frac{1}{2\\sigma_{1j}^2(\\mathbf{\\beta})}r_{1j}(\\mathbf{\\beta}) \\nabla \\sigma_{1j}^2(\\mathbf{\\beta})\n",
    "\\end{eqnarray*}\n",
    "$$\n",
    "\n",
    "\n",
    "where \n",
    "\n",
    "$$\n",
    "\\begin{eqnarray*}\n",
    "\\nabla \\mu_{1j}(\\mathbf{\\beta}) &=& \\frac{d\\mu_{1j}(\\mathbf{\\beta})}{d\\eta_{1j}(\\mathbf{\\beta})} \\frac{d\\eta_{1j}(\\mathbf{\\beta})}{d\\mathbf{\\beta}} = \\frac{(1+e^{\\eta_{1j}(\\mathbf{\\beta})})e^{\\eta_{1j}(\\mathbf{\\beta})} -  e^{2\\eta_{1j}(\\mathbf{\\beta})}}{(1 + e^{\\eta_{1j}(\\mathbf{\\beta})})^2}* \\mathbf{x_{1j}} \\\\\n",
    "&=& \\frac{ e^{\\eta_{1j}(\\mathbf{\\beta})}}{(1 + e^{\\eta_{1j}(\\mathbf{\\beta})})^2} * \\mathbf{x_{1j}}\n",
    "\\end{eqnarray*}\n",
    "$$"
   ]
  },
  {
   "cell_type": "code",
   "execution_count": 21,
   "metadata": {},
   "outputs": [
    {
     "name": "stdout",
     "output_type": "stream",
     "text": [
      "∇μβ1 = [0.2409680921859315, 0.022930235776909426]\n",
      "∇μβ2 = [0.2285602950344211, 0.054584020645153025]\n",
      "∇μβend = [0.12625431142102753, 0.1252044789777172]\n"
     ]
    },
    {
     "data": {
      "text/plain": [
       "2-element Array{Float64,1}:\n",
       " 0.12625431142102753\n",
       " 0.1252044789777172"
      ]
     },
     "execution_count": 21,
     "metadata": {},
     "output_type": "execute_result"
    }
   ],
   "source": [
    "# for j = 1 and j = 2, ..., j = end; lets take a look at the first two columns \n",
    "∇μβ1 = exp.(gc.η[1]) / (1 + exp.(gc.η[1]))^2 .* gc.X[1, :]\n",
    "∇μβ2 = exp.(gc.η[2]) / (1 + exp.(gc.η[2]))^2 .* gc.X[2, :]\n",
    "# ...\n",
    "∇μβend = exp.(gc.η[end]) / (1 + exp.(gc.η[end]))^2 .* gc.X[end, :]\n",
    "\n",
    "@show ∇μβ1\n",
    "@show ∇μβ2\n",
    "@show ∇μβend"
   ]
  },
  {
   "cell_type": "code",
   "execution_count": 22,
   "metadata": {},
   "outputs": [
    {
     "name": "stdout",
     "output_type": "stream",
     "text": [
      "gc.varμ ≈ ∇μη = true\n"
     ]
    },
    {
     "data": {
      "text/plain": [
       "2×100 Array{Float64,2}:\n",
       " 0.240968   0.22856   0.23924    0.127628  …  0.211891   0.225209   0.126254\n",
       " 0.0229302  0.054584  0.0284615  0.125273     0.0814239  0.0609794  0.125204"
      ]
     },
     "execution_count": 22,
     "metadata": {},
     "output_type": "execute_result"
    }
   ],
   "source": [
    "∇μη = exp.(gc.η) ./ (1 .+ exp.(gc.η)).^2 \n",
    "@show gc.varμ ≈ ∇μη\n",
    "@test gc.dμ ≈ gc.varμ\n",
    "∇ηβ = gc.X\n",
    "\n",
    "∇μβ = transpose(∇ηβ)*Diagonal(∇μη)"
   ]
  },
  {
   "cell_type": "markdown",
   "metadata": {},
   "source": [
    "and  \n",
    "$$    \\begin{eqnarray*}\n",
    "    \\nabla \\sigma_{1j}^2(\\mathbf{\\beta}) &=&\n",
    "    \\frac{d\\sigma_{1j}^2(\\mathbf{\\beta})}{d\\mu_{1j}(\\mathbf{\\beta})} \\frac{d\\mu_{1j}(\\mathbf{\\beta})}{d\\eta_{1j}(\\mathbf{\\beta})} \\frac{d\\eta_{1j}(\\mathbf{\\beta})}{d\\mathbf{\\beta}} =\n",
    "    [1 - 2\\mu_{1j}(\\mathbf{\\beta})]* \\frac{ e^{\\eta_{ij}(\\mathbf{\\beta})}}{(1 + e^{\\eta_{1j}(\\mathbf{\\beta})})^2} * \\mathbf{x_{1j}}\\\\\n",
    "    &=& \\frac{1-e^{\\eta_{1j}}}{1 + e^{\\eta_{1j}}} *\\frac{ e^{\\eta_{1j}(\\mathbf{\\beta})}}{(1 + e^{\\eta_{1j}(\\mathbf{\\beta})})^2} * \\mathbf{x_{1j}}\\\\\n",
    "    &=& \\frac{e^{\\eta_{1j}(\\mathbf{\\beta})}(1 -  e^{\\eta_{1j}(\\mathbf{\\beta})})}{(1 + e^{\\eta_{1j}(\\mathbf{\\beta})})^3} * \\mathbf{x_{1j}}\n",
    "\\end{eqnarray*}$$"
   ]
  },
  {
   "cell_type": "code",
   "execution_count": 23,
   "metadata": {},
   "outputs": [
    {
     "name": "stdout",
     "output_type": "stream",
     "text": [
      "∇σ2β1 = [-0.04580145587723626, -0.004358411824003551]\n",
      "∇σ2β2 = [-0.06693298382633617, -0.015984715851317114]\n",
      "∇σ2βend = [-0.08882623442218783, -0.08808762469342755]\n"
     ]
    },
    {
     "data": {
      "text/plain": [
       "2×100 Array{Float64,2}:\n",
       " -0.0458015   -0.066933   -0.0496338   …  -0.0827287  -0.0709188  -0.0888262\n",
       " -0.00435841  -0.0159847  -0.00590476     -0.0317904  -0.0192025  -0.0880876"
      ]
     },
     "execution_count": 23,
     "metadata": {},
     "output_type": "execute_result"
    }
   ],
   "source": [
    "# for j = 1 and j = 2 ,... , j = end; lets take a look at the first two columns \n",
    "∇σ2β1 = (1 - 2*gc.μ[1]) * gc.dμ[1] .* gc.X[1, :]\n",
    "∇σ2β2 = (1 - 2*gc.μ[2]) * gc.dμ[2] .* gc.X[2, :]\n",
    "# ...\n",
    "∇σ2βend = (1 - 2*gc.μ[end]) * gc.dμ[end] .* gc.X[end, :]\n",
    "\n",
    "@show ∇σ2β1\n",
    "@show ∇σ2β2\n",
    "@show ∇σ2βend\n",
    "\n",
    "∇σ2β = transpose(gc.X)* Diagonal((1 .- 2*gc.μ) .* gc.dμ)"
   ]
  },
  {
   "cell_type": "markdown",
   "metadata": {},
   "source": [
    "$$\n",
    "\\begin{eqnarray*}\n",
    "\\nabla r_{1j}(\\mathbf{\\beta}) &=&  -\\frac{1}{\\sigma_{1j}(\\mathbf{\\beta})} \\nabla \\mu_{1j}(\\mathbf{\\beta})- \\frac{1}{2} \\frac{y_{1j}-\\mu_{1j}(\\mathbf{\\beta})}{\\sigma_{1j}^3(\\mathbf{\\beta})} \\nabla \\sigma_{1j}^2(\\mathbf{\\beta})\\\\\n",
    "&=&  -\\frac{1}{\\sigma_{1j}(\\mathbf{\\beta})} \\nabla \\mu_{1j}(\\mathbf{\\beta})- \\frac{1}{2\\sigma_{1j}^2(\\mathbf{\\beta})}r_{1j}(\\mathbf{\\beta}) \\nabla \\sigma_{1j}^2(\\mathbf{\\beta})\n",
    "\\end{eqnarray*}\n",
    "$$\n"
   ]
  },
  {
   "cell_type": "code",
   "execution_count": 24,
   "metadata": {},
   "outputs": [
    {
     "name": "stdout",
     "output_type": "stream",
     "text": [
      "∇resβ1 = [-0.6060852734326417, -0.05767435055260186]\n",
      "∇resβ2 = [-0.676061856683234, -0.16145487709070677]\n",
      "∇resβend = [-1.198593207512256, -1.1886266406567167]\n"
     ]
    },
    {
     "data": {
      "text/plain": [
       "2-element Array{Float64,1}:\n",
       " -1.198593207512256\n",
       " -1.1886266406567167"
      ]
     },
     "execution_count": 24,
     "metadata": {},
     "output_type": "execute_result"
    }
   ],
   "source": [
    "# for j =1 \n",
    "∇resβ1 = -1/(sqrt(gc.varμ[1])) .* ∇μβ1 - ((1/2gc.varμ[1]) * gc.res[1]) .* ∇σ2β1\n",
    "∇resβ2 = -1/(sqrt(gc.varμ[2])) .* ∇μβ2 - ((1/2gc.varμ[2]) * gc.res[2]) .* ∇σ2β2\n",
    "# ...\n",
    "∇resβend = -1/(sqrt(gc.varμ[end])) .* ∇μβend - ((1/2gc.varμ[end]) * gc.res[end]) .* ∇σ2βend\n",
    "\n",
    "@show ∇resβ1\n",
    "@show ∇resβ2\n",
    "@show ∇resβend\n"
   ]
  },
  {
   "cell_type": "code",
   "execution_count": 25,
   "metadata": {},
   "outputs": [],
   "source": [
    "update_res!(gc, β)\n",
    "standardize_res!(gc)\n",
    "std_res_differential!(gc)"
   ]
  },
  {
   "cell_type": "code",
   "execution_count": 26,
   "metadata": {},
   "outputs": [
    {
     "data": {
      "text/plain": [
       "\u001b[32m\u001b[1mTest Passed\u001b[22m\u001b[39m"
      ]
     },
     "execution_count": 26,
     "metadata": {},
     "output_type": "execute_result"
    }
   ],
   "source": [
    "@test gc.∇resβ[1, :] ≈ ∇resβ1"
   ]
  },
  {
   "cell_type": "markdown",
   "metadata": {},
   "source": [
    "### Gradient portion of Copula specific model\n",
    "\n",
    "$$\\begin{eqnarray*}\n",
    "\\text{Term 2} &=& \\sum_{i=1}^n\n",
    "\\frac{\\nabla \\mathbf{r_i(\\mathbf{\\beta})}\\mathbf{\\Gamma_i}\\mathbf{r_i(\\mathbf{\\beta})}}{1+\\frac{1}{2}\\mathbf{r_i}(\\mathbf{\\beta})^t \\mathbf{\\Gamma_i} \\mathbf{r_i(\\mathbf{\\beta})}}\n",
    "\\end{eqnarray*}\n",
    "$$\n",
    "\n",
    "Again for observation $ i = 1$ we have:  \n",
    "\n",
    "$$ \\text{Term 2} = \\frac{\\nabla \\mathbf{r_1(\\mathbf{\\beta})}^\\top\\mathbf{\\Gamma_1}\\mathbf{r_1(\\mathbf{\\beta})}}{1+\\frac{1}{2}\\mathbf{r_1}(\\mathbf{\\beta})^t \\mathbf{\\Gamma_i} \\mathbf{r_1(\\mathbf{\\beta})}}\n",
    "$$"
   ]
  },
  {
   "cell_type": "code",
   "execution_count": 27,
   "metadata": {},
   "outputs": [
    {
     "name": "stdout",
     "output_type": "stream",
     "text": [
      "grad_t2_numerator = [1.1124618538057356, 0.510843346495259]\n",
      "quadratic_form_half = 0.10027895248141497\n",
      "grad_t2_denominator = 0.908860428298424\n"
     ]
    },
    {
     "data": {
      "text/plain": [
       "2-element Array{Float64,1}:\n",
       " 1.0110725569155394\n",
       " 0.46428530268908125"
      ]
     },
     "execution_count": 27,
     "metadata": {},
     "output_type": "execute_result"
    }
   ],
   "source": [
    "Γ1 = Σ[1]*gc.V[1]\n",
    "\n",
    "grad_t2_numerator = transpose(gc.∇resβ) * Γ1 * gc.res       # new term ∇resβ^t * Γ * res\n",
    "@show grad_t2_numerator\n",
    "\n",
    "quadratic_form_half = (transpose(gc.res) * Γ1 * gc.res)/2\n",
    "@show quadratic_form_half \n",
    "@test quadratic_form_half ≈ quad_form_standardized_res_half # from the loglikelihood 'qsum'\n",
    "\n",
    "grad_t2_denominator = inv(1 + quadratic_form_half)\n",
    "@show grad_t2_denominator\n",
    "\n",
    "gradient_term2 = grad_t2_numerator * grad_t2_denominator"
   ]
  },
  {
   "cell_type": "code",
   "execution_count": 28,
   "metadata": {},
   "outputs": [
    {
     "data": {
      "text/plain": [
       "2-element Array{Float64,1}:\n",
       " 1.0110725569155394\n",
       " 0.46428530268908147"
      ]
     },
     "execution_count": 28,
     "metadata": {},
     "output_type": "execute_result"
    }
   ],
   "source": [
    "gradient_term2_function = GeneralizedCopula.copula_gradient_addendum(gc, β, τ[1], Σ)"
   ]
  },
  {
   "cell_type": "code",
   "execution_count": 29,
   "metadata": {},
   "outputs": [
    {
     "data": {
      "text/plain": [
       "\u001b[32m\u001b[1mTest Passed\u001b[22m\u001b[39m"
      ]
     },
     "execution_count": 29,
     "metadata": {},
     "output_type": "execute_result"
    }
   ],
   "source": [
    "@test gradient_term2 ≈ gradient_term2_function"
   ]
  },
  {
   "cell_type": "code",
   "execution_count": 30,
   "metadata": {},
   "outputs": [
    {
     "data": {
      "text/plain": [
       "2-element Array{Float64,1}:\n",
       " -2.137565656628396\n",
       " -3.071965337602088"
      ]
     },
     "execution_count": 30,
     "metadata": {},
     "output_type": "execute_result"
    }
   ],
   "source": [
    "gradient_hard_code = term1_gradient + gradient_term2"
   ]
  },
  {
   "cell_type": "code",
   "execution_count": 31,
   "metadata": {},
   "outputs": [
    {
     "data": {
      "text/plain": [
       "copula_gradient (generic function with 1 method)"
      ]
     },
     "execution_count": 31,
     "metadata": {},
     "output_type": "execute_result"
    }
   ],
   "source": [
    "function copula_gradient(gc::GLMCopulaVCObs{T, D}, β, τ, Σ)  where {T<:BlasReal, D}\n",
    "    fill!(gc.∇β, 0.0)\n",
    "    gc.∇β .= GeneralizedCopula.glm_gradient(gc, β, τ) .+ GeneralizedCopula.copula_gradient_addendum(gc, β, τ[1], Σ)\n",
    "end"
   ]
  },
  {
   "cell_type": "code",
   "execution_count": 32,
   "metadata": {},
   "outputs": [
    {
     "data": {
      "text/plain": [
       "2-element Array{Float64,1}:\n",
       " -2.137565656628396\n",
       " -3.0719653376020886"
      ]
     },
     "execution_count": 32,
     "metadata": {},
     "output_type": "execute_result"
    }
   ],
   "source": [
    "full_gradient_function = copula_gradient(gc, β, τ, Σ)"
   ]
  },
  {
   "cell_type": "code",
   "execution_count": 33,
   "metadata": {},
   "outputs": [
    {
     "data": {
      "text/plain": [
       "\u001b[32m\u001b[1mTest Passed\u001b[22m\u001b[39m"
      ]
     },
     "execution_count": 33,
     "metadata": {},
     "output_type": "execute_result"
    }
   ],
   "source": [
    "@test full_gradient_function ≈ gradient_hard_code"
   ]
  },
  {
   "cell_type": "code",
   "execution_count": 34,
   "metadata": {},
   "outputs": [
    {
     "name": "stdout",
     "output_type": "stream",
     "text": [
      "loglikelihood3!(gcm, true, true) = -569.178024831856\n"
     ]
    },
    {
     "data": {
      "text/plain": [
       "-569.178024831856"
      ]
     },
     "execution_count": 34,
     "metadata": {},
     "output_type": "execute_result"
    }
   ],
   "source": [
    "@show loglikelihood3!(gcm, true, true)"
   ]
  },
  {
   "cell_type": "code",
   "execution_count": 35,
   "metadata": {},
   "outputs": [
    {
     "name": "stdout",
     "output_type": "stream",
     "text": [
      "loglikelihood(glmm1) = -569.2768789333542\n"
     ]
    },
    {
     "data": {
      "text/plain": [
       "-569.2768789333542"
      ]
     },
     "execution_count": 35,
     "metadata": {},
     "output_type": "execute_result"
    }
   ],
   "source": [
    "@show loglikelihood(glmm1) "
   ]
  },
  {
   "cell_type": "markdown",
   "metadata": {},
   "source": [
    "## Let's now use the ForwardDiff.jl package to check if our matrix calculus is correct.\n",
    "\n",
    "I want to start by checking my calculation of the gradient. \n",
    "\n",
    "    (1) I will modify the functions that reflect parts of the loglikelihood above in section 1 to use the package properly. \n",
    "    (2) I will then compare the results to that from my gradient functions above in section 2 \n"
   ]
  },
  {
   "cell_type": "code",
   "execution_count": 36,
   "metadata": {},
   "outputs": [
    {
     "name": "stdout",
     "output_type": "stream",
     "text": [
      "β = [0.24007269498653974, 1.5211675941696152]\n",
      "Σ = [0.002721018657053964]\n",
      "τ = [1.0]\n"
     ]
    },
    {
     "data": {
      "text/plain": [
       "100-element Array{Float64,1}:\n",
       " -0.595036349961836\n",
       " -0.6464230342725452\n",
       "  0.3962676943522152\n",
       "  0.1501828652115309\n",
       " -0.7634550747052807\n",
       " -0.6948180074313923\n",
       "  0.4009137339610708\n",
       "  0.150650372983696\n",
       "  0.3359999259306664\n",
       "  0.43361527127351573\n",
       " -0.6702281848040941\n",
       " -0.6687389940639799\n",
       " -0.8176259038216608\n",
       "  ⋮\n",
       "  0.2785824293065273\n",
       "  0.38053739157712396\n",
       "  0.4201936089229257\n",
       " -0.7255552104349672\n",
       "  0.28927631401067855\n",
       "  0.32959154945645686\n",
       " -0.6233760412963762\n",
       "  0.43815890444333794\n",
       "  0.15530085275777494\n",
       " -0.6952152038815471\n",
       " -0.6574510607320434\n",
       " -0.8517750539463713"
      ]
     },
     "execution_count": 36,
     "metadata": {},
     "output_type": "execute_result"
    }
   ],
   "source": [
    "gc = gcm.data[1]\n",
    "β  = gcm.β\n",
    "Σ  = gcm.Σ\n",
    "τ  = gcm.τ\n",
    "\n",
    "@show β\n",
    "@show Σ\n",
    "@show τ\n",
    "\n",
    "n_i  = length(gc.y)\n",
    "\n",
    "update_res!(gc, β)"
   ]
  },
  {
   "cell_type": "markdown",
   "metadata": {},
   "source": [
    "###  Test if the gradient of the component loglikelihood matches our gradient function"
   ]
  },
  {
   "cell_type": "code",
   "execution_count": 37,
   "metadata": {},
   "outputs": [
    {
     "name": "stdout",
     "output_type": "stream",
     "text": [
      "logl_term3 = -64.39918956480815\n",
      "gradientmagictest = [-3.148638213543933, -3.5362506402911675]\n"
     ]
    },
    {
     "data": {
      "text/plain": [
       "\u001b[32m\u001b[1mTest Passed\u001b[22m\u001b[39m"
      ]
     },
     "execution_count": 37,
     "metadata": {},
     "output_type": "execute_result"
    }
   ],
   "source": [
    "function logistic_density2(β::Vector)\n",
    "    η = gc.X*β                        # systematic linear component\n",
    "    μ = exp.(η)./(1 .+ exp.(η)) # mu = ginverse of XB = mean component for GLM = [p]\n",
    "    dμ = exp.(η)./(1 .+ exp.(η)).^2\n",
    "    varμ = dμ\n",
    "    logl = sum(gc.y .* log.(μ) .+ (1 .- gc.y).*log.(1 .- μ))\n",
    "end\n",
    "\n",
    "logl_term3 = logistic_density2(β)\n",
    "@show logl_term3\n",
    "\n",
    "g = x -> ForwardDiff.gradient(logistic_density2, x)\n",
    "\n",
    "gradientmagictest = g(β)\n",
    "@show gradientmagictest\n",
    "\n",
    "@test term1_grad_fctn ≈ gradientmagictest"
   ]
  },
  {
   "cell_type": "markdown",
   "metadata": {},
   "source": [
    "# Now we check the gradient of the matrix of differentials residual vector\n",
    "\n",
    "Lets start with $i = 1, j = 1$ so the first observation of the $i^{th}$ group has the following gradient of the standardized residual."
   ]
  },
  {
   "cell_type": "code",
   "execution_count": 38,
   "metadata": {},
   "outputs": [
    {
     "name": "stdout",
     "output_type": "stream",
     "text": [
      "gradientmagictest2 = [-0.6060852734326414, -0.057674350552601825]\n"
     ]
    },
    {
     "data": {
      "text/plain": [
       "\u001b[32m\u001b[1mTest Passed\u001b[22m\u001b[39m"
      ]
     },
     "execution_count": 38,
     "metadata": {},
     "output_type": "execute_result"
    }
   ],
   "source": [
    "function standardized_residual_firstobs(β::Vector)\n",
    "    η = gc.X*β                        # systematic linear component\n",
    "    μ = exp.(η)./(1 .+ exp.(η)) # mu = ginverse of XB = mean component for GLM = [p]\n",
    "    varμ = exp.(η)./(1 .+ exp.(η)).^2\n",
    "    res = (gc.y[1] - μ[1]) / sqrt(varμ[1])\n",
    "end\n",
    "\n",
    "g2 = x -> ForwardDiff.gradient(standardized_residual_firstobs, x)\n",
    "gradientmagictest2 = g2(β)\n",
    "@show gradientmagictest2\n",
    "\n",
    "@test gc.∇resβ[1, :] ≈ gradientmagictest2"
   ]
  },
  {
   "cell_type": "markdown",
   "metadata": {},
   "source": [
    "## Now I will check the part of the Loglikelihood that is specific to our density"
   ]
  },
  {
   "cell_type": "code",
   "execution_count": 39,
   "metadata": {},
   "outputs": [
    {
     "name": "stdout",
     "output_type": "stream",
     "text": [
      "copula_loglikelihood_addendum1(β) = -0.03199441373161034\n",
      "gradientmagictest3 = [1.0110725569155394, 0.46428530268908125]\n"
     ]
    },
    {
     "data": {
      "text/plain": [
       "\u001b[32m\u001b[1mTest Passed\u001b[22m\u001b[39m"
      ]
     },
     "execution_count": 39,
     "metadata": {},
     "output_type": "execute_result"
    }
   ],
   "source": [
    "function copula_loglikelihood_addendum1(β::Vector)\n",
    "  m = length(gc.V)\n",
    "  η = gc.X*β                        # systematic linear component\n",
    "  μ = exp.(η)./(1 .+ exp.(η)) # mu = ginverse of XB = mean component for GLM = [p]\n",
    "  varμ = exp.(η)./(1 .+ exp.(η)).^2\n",
    "  res = (gc.y .- μ) ./ sqrt.(varμ)\n",
    "  trace_gamma = Σ[1]*tr(gc.V[1])\n",
    "  trace_gamma_half = trace_gamma/2\n",
    "\n",
    "  term1 = -log(1 + trace_gamma_half) # -1.252762968495368\n",
    "  quad_form_standardized_res_half = (Σ[1]*transpose(res)*gc.V[1]*res)/2\n",
    "  term2 = log(1 + quad_form_standardized_res_half) # 0.0381700599136237\n",
    "  logl_hard_coded_obs1 = term1 + term2\n",
    "  logl_hard_coded_obs1\n",
    "end\n",
    "\n",
    "g3 = x -> ForwardDiff.gradient(copula_loglikelihood_addendum1, x)\n",
    "\n",
    "@show copula_loglikelihood_addendum1(β) \n",
    "\n",
    "gradientmagictest3 = g3(β)\n",
    "@show gradientmagictest3\n",
    "\n",
    "@test gradient_term2_function ≈ gradientmagictest3"
   ]
  },
  {
   "cell_type": "markdown",
   "metadata": {},
   "source": [
    "## Now I will put together both the parts of the loglikelihood and both the parts of the gradient to check alltogether now"
   ]
  },
  {
   "cell_type": "code",
   "execution_count": 40,
   "metadata": {},
   "outputs": [
    {
     "name": "stdout",
     "output_type": "stream",
     "text": [
      "full_loglikelihood(β) = -64.43118397853976\n",
      "gradientmagictest4 = [-2.1375656566283934, -3.0719653376020863]\n"
     ]
    },
    {
     "data": {
      "text/plain": [
       "\u001b[32m\u001b[1mTest Passed\u001b[22m\u001b[39m"
      ]
     },
     "execution_count": 40,
     "metadata": {},
     "output_type": "execute_result"
    }
   ],
   "source": [
    "function full_loglikelihood(β::Vector)\n",
    "    logl = 0.0\n",
    "    logl = logistic_density2(β) + copula_loglikelihood_addendum1(β)\n",
    "    logl\n",
    "end\n",
    "\n",
    "@show full_loglikelihood(β)\n",
    "@test logl_functions ≈ full_loglikelihood(β)\n",
    "\n",
    "g4 = x -> ForwardDiff.gradient(full_loglikelihood, x)\n",
    "\n",
    "gradientmagictest4 = g4(β)\n",
    "@show gradientmagictest4\n",
    "\n",
    "full_gradient_function = copula_gradient(gc, β, τ, Σ)\n",
    "@test full_gradient_function ≈ gradientmagictest4"
   ]
  },
  {
   "cell_type": "code",
   "execution_count": 41,
   "metadata": {},
   "outputs": [
    {
     "name": "stdout",
     "output_type": "stream",
     "text": [
      "loglikelihood3!(gcm, true, true) = -569.178024831856\n",
      "gcm.∇β = [0.8868746581526032, 0.5097552048265013]\n"
     ]
    },
    {
     "data": {
      "text/plain": [
       "2-element Array{Float64,1}:\n",
       " 0.8868746581526032\n",
       " 0.5097552048265013"
      ]
     },
     "execution_count": 41,
     "metadata": {},
     "output_type": "execute_result"
    }
   ],
   "source": [
    "@show loglikelihood3!(gcm, true, true)\n",
    "@show gcm.∇β"
   ]
  },
  {
   "cell_type": "code",
   "execution_count": 42,
   "metadata": {},
   "outputs": [
    {
     "name": "stdout",
     "output_type": "stream",
     "text": [
      "\n",
      "******************************************************************************\n",
      "This program contains Ipopt, a library for large-scale nonlinear optimization.\n",
      " Ipopt is released as open source code under the Eclipse Public License (EPL).\n",
      "         For more information visit http://projects.coin-or.org/Ipopt\n",
      "******************************************************************************\n",
      "\n",
      "This is Ipopt version 3.13.2, running with linear solver mumps.\n",
      "NOTE: Other linear solvers might be more efficient (see Ipopt documentation).\n",
      "\n",
      "Starting derivative checker for first derivatives.\n",
      "\n",
      "* grad_f[          1] = -7.1481473871480591e+02    ~ -2.2083320040581098e+03  [ 6.763e-01]\n",
      "* grad_f[          2] = -3.8837192386906469e+02    ~ -1.5388133397209458e+04  [ 9.748e-01]\n",
      "\n",
      "Derivative checker detected 2 error(s).\n",
      "\n",
      "Number of nonzeros in equality constraint Jacobian...:        0\n",
      "Number of nonzeros in inequality constraint Jacobian.:        0\n",
      "Number of nonzeros in Lagrangian Hessian.............:        0\n",
      "\n",
      "Total number of variables............................:        2\n",
      "                     variables with only lower bounds:        0\n",
      "                variables with lower and upper bounds:        0\n",
      "                     variables with only upper bounds:        0\n",
      "Total number of equality constraints.................:        0\n",
      "Total number of inequality constraints...............:        0\n",
      "        inequality constraints with only lower bounds:        0\n",
      "   inequality constraints with lower and upper bounds:        0\n",
      "        inequality constraints with only upper bounds:        0\n",
      "\n",
      "iter    objective    inf_pr   inf_du lg(mu)  ||d||  lg(rg) alpha_du alpha_pr  ls\n",
      "   0  5.6917802e+02 0.00e+00 8.87e-01   0.0 0.00e+00    -  0.00e+00 0.00e+00   0\n",
      "   1  5.6917553e+02 0.00e+00 3.78e-01 -11.0 8.87e-01    -  1.00e+00 7.81e-03f  8\n",
      "   2  5.6917507e+02 0.00e+00 5.23e-02 -11.0 2.06e-03    -  1.00e+00 1.00e+00f  1\n",
      "   3  5.6917505e+02 0.00e+00 5.54e-02 -11.0 3.09e-04    -  1.00e+00 1.00e+00f  1\n",
      "   4  5.6917492e+02 0.00e+00 1.77e-02 -11.0 3.68e-03    -  1.00e+00 1.00e+00f  1\n",
      "   5  5.6917492e+02 0.00e+00 1.26e-03 -11.0 4.76e-04    -  1.00e+00 1.00e+00f  1\n",
      "   6  5.6917492e+02 0.00e+00 2.45e-05 -11.0 6.10e-06    -  1.00e+00 1.00e+00f  1\n",
      "   7  5.6917492e+02 0.00e+00 1.62e-06 -11.0 3.73e-07    -  1.00e+00 1.00e+00f  1\n",
      "   8  5.6917492e+02 0.00e+00 1.03e-06 -11.0 1.87e-08    -  1.00e+00 1.00e+00f  1\n",
      "   9  5.6917492e+02 0.00e+00 1.20e-06 -11.0 1.76e-08    -  1.00e+00 1.00e+00f  1\n",
      "iter    objective    inf_pr   inf_du lg(mu)  ||d||  lg(rg) alpha_du alpha_pr  ls\n",
      "  10  5.6917492e+02 0.00e+00 1.14e-06 -11.0 1.12e-08    -  1.00e+00 1.00e+00f  1\n",
      "  11  5.6917492e+02 0.00e+00 8.89e-07 -11.0 4.42e-09    -  1.00e+00 1.00e+00f  1\n",
      "  12  5.6917492e+02 0.00e+00 1.54e-06 -11.0 1.79e-08    -  1.00e+00 1.00e+00f  1\n",
      "  13  5.6917492e+02 0.00e+00 6.07e-07 -11.0 1.02e-08    -  1.00e+00 1.00e+00f  1\n",
      "  14  5.6917492e+02 0.00e+00 3.51e-07 -11.0 3.20e-09    -  1.00e+00 1.00e+00f  1\n",
      "  15  5.6917492e+02 0.00e+00 1.43e-07 -11.0 4.35e-09    -  1.00e+00 1.00e+00f  1\n",
      "  16  5.6917492e+02 0.00e+00 2.21e-07 -11.0 1.26e-09    -  1.00e+00 1.00e+00f  1\n",
      "  17  5.6917492e+02 0.00e+00 2.23e-07 -11.0 7.61e-10    -  1.00e+00 1.00e+00f  1\n",
      "  18  5.6917492e+02 0.00e+00 1.97e-07 -11.0 7.62e-10    -  1.00e+00 1.00e+00f  1\n",
      "  19  5.6917492e+02 0.00e+00 6.44e-07 -11.0 5.48e-09    -  1.00e+00 1.00e+00f  1\n",
      "iter    objective    inf_pr   inf_du lg(mu)  ||d||  lg(rg) alpha_du alpha_pr  ls\n",
      "  20  5.6917492e+02 0.00e+00 1.28e-07 -11.0 4.21e-09    -  1.00e+00 1.00e+00f  1\n",
      "  21  5.6917492e+02 0.00e+00 5.80e-08 -11.0 6.83e-10    -  1.00e+00 1.00e+00f  1\n",
      "  22  5.6917492e+02 0.00e+00 7.84e-10 -11.0 5.37e-10    -  1.00e+00 1.00e+00f  1\n",
      "\n",
      "Number of Iterations....: 22\n",
      "\n",
      "                                   (scaled)                 (unscaled)\n",
      "Objective...............:   5.6917491636357317e+02    5.6917491636357317e+02\n",
      "Dual infeasibility......:   7.8403861181186585e-10    7.8403861181186585e-10\n",
      "Constraint violation....:   0.0000000000000000e+00    0.0000000000000000e+00\n",
      "Complementarity.........:   0.0000000000000000e+00    0.0000000000000000e+00\n",
      "Overall NLP error.......:   7.8403861181186585e-10    7.8403861181186585e-10\n",
      "\n",
      "\n",
      "Number of objective function evaluations             = 34\n",
      "Number of objective gradient evaluations             = 23\n",
      "Number of equality constraint evaluations            = 0\n",
      "Number of inequality constraint evaluations          = 0\n",
      "Number of equality constraint Jacobian evaluations   = 0\n",
      "Number of inequality constraint Jacobian evaluations = 0\n",
      "Number of Lagrangian Hessian evaluations             = 0\n",
      "Total CPU secs in IPOPT (w/o function evaluations)   =      0.644\n",
      "Total CPU secs in NLP function evaluations           =      0.540\n",
      "\n",
      "EXIT: Optimal Solution Found.\n",
      "  0.932826 seconds (930.36 k allocations: 55.140 MiB, 4.30% gc time)\n"
     ]
    },
    {
     "data": {
      "text/plain": [
       "GLMCopulaVCModel{Float64,Bernoulli{Float64}}(GLMCopulaVCObs{Float64,Bernoulli{Float64}}[GLMCopulaVCObs{Float64,Bernoulli{Float64}}([0.0, 0.0, 1.0, 1.0, 0.0, 0.0, 1.0, 1.0, 1.0, 1.0  …  1.0, 0.0, 1.0, 1.0, 0.0, 1.0, 1.0, 0.0, 0.0, 0.0], [1.0 0.09515880533766441; 1.0 0.23881672289989253; … ; 1.0 0.2707677310894794; 1.0 0.9916847794622285], [[1.0 1.0 … 1.0 1.0; 1.0 1.0 … 1.0 1.0; … ; 1.0 1.0 … 1.0 1.0; 1.0 1.0 … 1.0 1.0]], [-2.180722203335005, -3.0972225588765303], [-0.6071068614699008 -0.057771563649774677; -0.6775763076804018 -0.16181655331484282; … ; -0.6943295433093811 -0.18800203507027552; -1.2047676293103786 -1.1947497207758948], [0.0], [2.5945152577e-314], [-20.819020437329797 -8.102088512052198; -8.571514640180354 -5.009603856102177], [2.579252384e-314], [-1.2142137229398013, -1.3551526153608031, 0.8087250237814103, 0.41824710029533574, -1.8031500654157, -1.5131053759632052, 0.8166403961176865, 0.4190167336104238, 0.7096237673384648, 0.8737648728273818  …  0.8500039431363726, -1.6311173719426793, 0.6360762464409327, 0.6994057101949728, -1.2890906834392637, 0.8819164825954552, 0.42664325510432893, -1.5145308917892084, -1.3886590866187623, -2.4095352586207572], [50.0], [39.42149038925413], [100.0 46.2177621584263; 46.2177621584263 29.613040936012897], [-8.879357002537304, -8.879357002537304, -8.879357002537304, -8.879357002537304, -8.879357002537304, -8.879357002537304, -8.879357002537304, -8.879357002537304, -8.879357002537304, -8.879357002537304  …  -8.879357002537304, -8.879357002537304, -8.879357002537304, -8.879357002537304, -8.879357002537304, -8.879357002537304, -8.879357002537304, -8.879357002537304, -8.879357002537304, -8.879357002537304], [NaN, 2.5797663547e-314], [0.3881934513853249, 0.60782815850365, 0.42459263227967703, 1.7433657441704722, 1.1790703434296061, 0.8283281588309626, 0.4051128652960706, 1.7396888456794857, 0.6860407091064485, 0.26988792749014684  …  0.3250285810491343, 0.9785305684545196, 0.9048736769729581, 0.7150485799334538, 0.5078741465169596, 0.25131583678734715, 1.7036141661825464, 0.8302114972577411, 0.6566771912958407, 1.7588677803204162], [0.5958477339565501, 0.647445216635264, 0.6045817024502742, 0.8511140731114216, 0.7647806078682735, 0.6960013117986324, 0.5999154587480668, 0.8506475387757996, 0.6650855847898771, 0.5670653911208203  …  0.5805492646598588, 0.7268165517217389, 0.7119500141348116, 0.6715157501904511, 0.6243079927166414, 0.5625003466246015, 0.846006176531529, 0.6963996479495876, 0.6585135710452577, 0.8530678009659117], [0.2408132118953944, 0.22825990809138008, 0.2390626675126023, 0.12671890766310728, 0.17989122969690757, 0.21158348577321526, 0.24001690110316334, 0.12704630355047414, 0.2227467496945843, 0.2455022333138114  …  0.24351181596275603, 0.19855425186505976, 0.20507719150825315, 0.2205823474366068, 0.23454752294675943, 0.24609370667180466, 0.1302797258020324, 0.21142717828527804, 0.22487344779448007, 0.12534312792109534], [0.24081321189539442, 0.22825990809138014, 0.23906266751260233, 0.12671890766310726, 0.17989122969690763, 0.21158348577321526, 0.24001690110316337, 0.12704630355047414, 0.2227467496945843, 0.24550223331381138  …  0.24351181596275603, 0.19855425186505973, 0.20507719150825315, 0.22058234743660676, 0.23454752294675943, 0.24609370667180466, 0.1302797258020324, 0.21142717828527804, 0.22487344779448007, 0.12534312792109534], Bernoulli{Float64}(p=0.5), [1.0000000000000002, 1.0000000000000002, 1.0000000000000002, 0.9999999999999998, 1.0000000000000002, 1.0, 1.0000000000000002, 1.0, 1.0, 0.9999999999999999  …  1.0, 0.9999999999999999, 1.0, 0.9999999999999999, 1.0, 1.0, 1.0, 1.0, 1.0, 1.0], [0.24081321189539445, 0.2282599080913802, 0.23906266751260236, 0.12671890766310723, 0.17989122969690768, 0.21158348577321526, 0.2400169011031634, 0.12704630355047414, 0.2227467496945843, 0.24550223331381135  …  0.24351181596275603, 0.1985542518650597, 0.20507719150825315, 0.22058234743660673, 0.23454752294675943, 0.24609370667180466, 0.1302797258020324, 0.21142717828527804, 0.22487344779448007, 0.12534312792109534]), GLMCopulaVCObs{Float64,Bernoulli{Float64}}([0.0, 1.0, 1.0, 1.0, 0.0, 0.0, 1.0, 1.0, 1.0, 1.0  …  0.0, 1.0, 1.0, 1.0, 1.0, 1.0, 0.0, 0.0, 1.0, 1.0], [1.0 0.2708978155840298; 1.0 0.1807076550615192; … ; 1.0 0.030175028506069568; 1.0 0.016786971871112], [[1.0 1.0 … 1.0 1.0; 1.0 1.0 … 1.0 1.0; … ; 1.0 1.0 … 1.0 1.0; 1.0 1.0 … 1.0 1.0]], [0.6270243764833079, 0.8634895885598293], [-0.6943985917983315 -0.18811106166279443; -0.38572115450004163 -0.06970276533732447; … ; -0.43276174872624734 -0.01305859810415103; -0.4372135120207173 -0.007339490927961869], [2.230827425e-314], [2.2308267296e-314], [-19.951336440066868 -7.973857121515232; -8.022811115711406 -4.812279488471774], [2.230826761e-314], [-1.388797183596663, 0.7714423090000834, 0.4399841741225541, 0.770869947410397, -1.1915945333390436, -1.655515937881018, 0.4320281579803592, 0.5110737102512568, 0.7901903801992067, 0.6105762797287958  …  -1.2011137366407907, 0.6028118580317074, 0.5812376566535365, 0.7836522858964817, 0.5393894992260486, 0.766886687339604, -1.2604978996145442, -1.6187799630974098, 0.8655234974524946, 0.8744270240414345], [50.0], [3.623321531123673], [100.0 45.558442015897285; 45.558442015897285 29.272386739797465], [2.6919589637004755, 2.6919589637004755, 2.6919589637004755, 2.6919589637004755, 2.6919589637004755, 2.6919589637004755, 2.6919589637004755, 2.6919589637004755, 2.6919589637004755, 2.6919589637004755  …  2.6919589637004755, 2.6919589637004755, 2.6919589637004755, 2.6919589637004755, 2.6919589637004755, 2.6919589637004755, 2.6919589637004755, 2.6919589637004755, 2.6919589637004755, 2.691958963700478], [2.2308260023e-314, 2.230842342e-314], [0.656876073963403, 0.518986775361147, 1.6420330412399538, 0.5204712000970142, 0.35058470836403727, 1.0082254103797623, 1.6785290247041864, 1.342482904228004, 0.4709627499199668, 0.986704093831611  …  0.3664984804598211, 1.0123002816756657, 1.085191116341877, 0.4875797397996003, 1.2346346719485086, 0.5308324468368992, 0.4630136026661997, 0.9633455126319367, 0.2888415114849888, 0.26837287357208905], [0.6585582930663829, 0.6269108099981731, 0.8378113838793675, 0.6272579420525186, 0.5867593619876689, 0.7326727156151157, 0.8427096514770233, 0.7928979576113477, 0.6156116010576854, 0.7284364278463954  …  0.5906126176864845, 0.7334700767014495, 0.747475096297252, 0.6195361153834743, 0.7746287206839475, 0.629677246039442, 0.6137288425160131, 0.7237911322417309, 0.5717124921363135, 0.566693404274779], [0.22485926769987502, 0.2338936463056076, 0.13588346892150663, 0.2338054161845578, 0.24247281310749264, 0.19586340740828748, 0.13255009478449725, 0.16421078642710116, 0.23663395770087858, 0.19781679843277858  …  0.24178935351600297, 0.1954917232850193, 0.18875607671266587, 0.23571111711902873, 0.17457906577549834, 0.23318381185962603, 0.23706575037996788, 0.19991752912996413, 0.24485731847159917, 0.24555198982624088], [0.22485926769987505, 0.23389364630560758, 0.1358834689215066, 0.2338054161845578, 0.2424728131074926, 0.19586340740828753, 0.13255009478449722, 0.16421078642710105, 0.23663395770087856, 0.19781679843277855  …  0.24178935351600295, 0.1954917232850193, 0.18875607671266587, 0.23571111711902876, 0.1745790657754984, 0.23318381185962603, 0.2370657503799679, 0.19991752912996413, 0.24485731847159922, 0.24555198982624088], Bernoulli{Float64}(p=0.5), [1.0000000000000002, 0.9999999999999999, 0.9999999999999998, 1.0, 0.9999999999999999, 1.0000000000000002, 0.9999999999999998, 0.9999999999999993, 0.9999999999999999, 0.9999999999999999  …  0.9999999999999999, 1.0, 1.0, 1.0000000000000002, 1.0000000000000002, 1.0, 1.0000000000000002, 1.0, 1.0000000000000002, 1.0], [0.22485926769987508, 0.23389364630560755, 0.13588346892150657, 0.2338054161845578, 0.24247281310749258, 0.1958634074082876, 0.1325500947844972, 0.16421078642710094, 0.2366339577008785, 0.1978167984327785  …  0.24178935351600292, 0.1954917232850193, 0.18875607671266587, 0.23571111711902878, 0.17457906577549845, 0.23318381185962603, 0.23706575037996794, 0.19991752912996413, 0.24485731847159928, 0.24555198982624088]), GLMCopulaVCObs{Float64,Bernoulli{Float64}}([0.0, 1.0, 1.0, 1.0, 1.0, 1.0, 1.0, 1.0, 1.0, 1.0  …  1.0, 0.0, 1.0, 1.0, 1.0, 1.0, 1.0, 1.0, 1.0, 1.0], [1.0 0.9063154415086963; 1.0 0.6308958141445524; … ; 1.0 0.5700737454482223; 1.0 0.9754391815720524], [[1.0 1.0 … 1.0 1.0; 1.0 1.0 … 1.0 1.0; … ; 1.0 1.0 … 1.0 1.0; 1.0 1.0 … 1.0 1.0]], [4.542387194484644, 2.6326853591346007], [-1.128655693728157 -1.0229180833725384; -0.2734105349844289 -0.17249356206469896; … ; -0.2864228069686274 -0.16328212235039857; -0.21010195985569738 -0.2049416837683257], [2.2308426266e-314], [2.2308264766e-314], [-19.889735290085895 -9.422095262592718; -10.14294858235826 -6.576692871897164], [2.230842848e-314], [-2.257311387456314, 0.5468210699688578, 0.5844474392275022, 0.5362084486671458, 0.4268236165554262, 0.5933187113573644, 0.6699502326505594, 0.5825850090243972, 0.49072735414342267, 0.6330875071357602  …  0.4205974725787673, -1.28240842233354, 0.6584643939837035, 0.5361162619107003, 0.4911661404180439, 0.7321144180183227, 0.47135139228564965, 0.49220782641106725, 0.5728456139372547, 0.4202039197113946], [50.0], [89.6928620403833], [100.0 56.16530420991891; 56.16530420991891 39.09939750895404], [13.393495588559643, 13.393495588559643, 13.393495588559643, 13.393495588559643, 13.393495588559643, 13.393495588559643, 13.393495588559643, 13.393495588559643, 13.393495588559643, 13.393495588559643  …  13.393495588559643, 13.393495588559643, 13.393495588559643, 13.393495588559643, 13.393495588559643, 13.393495588559643, 13.393495588559643, 13.393495588559643, 13.393495588559643, 13.393495588559643], [2.230826856e-314, 2.2308439863e-314], [1.6283489070380757, 1.2072672832942342, 1.0741768528924172, 1.2464645934900402, 1.7027688541510133, 1.0440471368950035, 0.8011036979640481, 1.0805603319018435, 1.4237331845868217, 0.9142932489437245  …  1.732158049633573, 0.4974797798508079, 0.8356896613195915, 1.2468084697646908, 1.4219456737976772, 0.6236369369351354, 1.5043028146376796, 1.4177084805516045, 1.11427806647183, 1.7340303248211373], [0.8359433300341234, 0.769815069194536, 0.7453904259129689, 0.776687265452847, 0.84589601729868, 0.7396301486818551, 0.6902105233081769, 0.746600006301564, 0.8059229949440978, 0.7138778902819277  …  0.8496882503591894, 0.6218668875822047, 0.6975566330147009, 0.77674690310858, 0.8056432554790474, 0.6510452605253846, 0.8182153490122964, 0.8049789270796031, 0.7529258147106973, 0.8499272173159312], [0.13714207900558406, 0.17719982843554774, 0.18978353887025173, 0.17344415713622574, 0.13035594521691124, 0.19257739184271203, 0.2138199568228295, 0.1891884368920686, 0.1564111211644335, 0.2042562480485517  …  0.1277181275607289, 0.2351484617110263, 0.21097137675189478, 0.17341115161981024, 0.1565822003801698, 0.2271853292728187, 0.14873899165298238, 0.15698785403737417, 0.18602853225293, 0.12755094258152902], [0.13714207900558406, 0.17719982843554774, 0.18978353887025168, 0.17344415713622569, 0.1303559452169112, 0.19257739184271203, 0.21381995682282945, 0.18918843689206866, 0.15641112116443348, 0.2042562480485517  …  0.1277181275607289, 0.2351484617110263, 0.21097137675189476, 0.17341115161981027, 0.1565822003801698, 0.22718532927281865, 0.14873899165298238, 0.1569878540373742, 0.18602853225293, 0.12755094258152908], Bernoulli{Float64}(p=0.5), [1.0, 1.0, 0.9999999999999997, 0.9999999999999997, 0.9999999999999998, 1.0, 0.9999999999999998, 1.0000000000000002, 0.9999999999999998, 1.0  …  1.0, 1.0, 0.9999999999999999, 1.0000000000000002, 1.0, 0.9999999999999998, 1.0, 1.0000000000000002, 1.0, 1.0000000000000004], [0.13714207900558406, 0.17719982843554774, 0.18978353887025165, 0.17344415713622563, 0.13035594521691118, 0.19257739184271203, 0.21381995682282942, 0.1891884368920687, 0.15641112116443345, 0.20425624804855166  …  0.1277181275607289, 0.2351484617110263, 0.21097137675189473, 0.1734111516198103, 0.1565822003801698, 0.2271853292728186, 0.14873899165298238, 0.15698785403737422, 0.18602853225293, 0.12755094258152913]), GLMCopulaVCObs{Float64,Bernoulli{Float64}}([1.0, 0.0, 1.0, 1.0, 0.0, 1.0, 1.0, 1.0, 1.0, 1.0  …  1.0, 0.0, 1.0, 1.0, 1.0, 0.0, 1.0, 1.0, 1.0, 1.0], [1.0 0.8335845191879703; 1.0 0.2681774059902964; … ; 1.0 0.8634840446062473; 1.0 0.358749234938734], [[1.0 1.0 … 1.0 1.0; 1.0 1.0 … 1.0 1.0; … ; 1.0 1.0 … 1.0 1.0; 1.0 1.0 … 1.0 1.0]], [-1.7261232474543715, -0.3170804911277895], [-0.2341663629482151 -0.19519745506818365; -0.6929560346098974 -0.18583515182700436; … ; -0.22887489114909923 -0.19762981671823884; -0.33663970412991595 -0.12076923630660914], [2.230827204e-314], [2.2308434487e-314], [-19.117513353967748 -8.9042227556347; -9.04964850956846 -5.955525162037408], [2.230843512e-314], [0.4683327258964301, -1.3859120692197946, 0.6666921932470142, 0.44220933250906375, -1.924110950004479, 0.48624685245977617, 0.5680050740177645, 0.8141647366511213, 0.5724039963863746, 0.4579334644443771  …  0.7673780164634026, -1.9489179612725573, 0.4690858144308141, 0.5006959789342227, 0.5509944393337616, -1.697194834504317, 0.7162019498660513, 0.8785652593779464, 0.45774978229819857, 0.6732794082598319], [50.0], [12.186072872958267], [100.0 53.37539266849166; 53.37539266849166 37.456354833697176], [-4.936815344522879, -4.936815344522879, -4.936815344522879, -4.936815344522879, -4.936815344522879, -4.936815344522879, -4.936815344522879, -4.936815344522879, -4.936815344522879, -4.936815344522879  …  -4.936815344522879, -4.936815344522879, -4.936815344522879, -4.936815344522879, -4.936815344522879, -4.936815344522879, -4.936815344522879, -4.936815344522879, -4.936815344522879, -4.9368153445228815], [2.2308437333e-314, 2.593414922e-314], [1.5171525658030807, 0.6527169132676292, 0.8108536379413631, 1.6319438121144834, 1.3089280338067408, 1.4420777143217323, 1.131249854342038, 0.4111851085544367, 1.11582049903426, 1.5620627591203524  …  0.5295514967130344, 1.3345486538224147, 1.5139391081467641, 1.3835123811335932, 1.1920611236667848, 1.0579535816032792, 0.667586197810764, 0.25893017821556047, 1.562865142037353, 0.7911897344098696], [0.8201187986699452, 0.6576224514282059, 0.6922913795355233, 0.8364357475748495, 0.7873337218588518, 0.8087761912181196, 0.7560694815249056, 0.6013720115755891, 0.7532126392232509, 0.8266491462546668  …  0.6293784996228141, 0.7915920401081096, 0.819644248932747, 0.7995545116876398, 0.7671094918701334, 0.7422992779033261, 0.6609624579882802, 0.5643732877506294, 0.8267640978609543, 0.688086732526434], [0.14752395473811108, 0.2251551628057629, 0.2130240253563253, 0.13681098775375214, 0.16743933228274002, 0.15465726373683122, 0.18442842063156603, 0.23972371526911865, 0.18588335933759578, 0.1433003352510973  …  0.23326120383534948, 0.16497408214559062, 0.14782755412422005, 0.16026709452757967, 0.17865251935287912, 0.19129105992752676, 0.2240910871183711, 0.24585607982417465, 0.1432252243491167, 0.21462338104752965], [0.14752395473811114, 0.22515516280576292, 0.2130240253563253, 0.1368109877537522, 0.16743933228274008, 0.15465726373683125, 0.18442842063156598, 0.23972371526911862, 0.18588335933759584, 0.14330033525109734  …  0.2332612038353495, 0.1649740821455906, 0.14782755412422002, 0.16026709452757967, 0.17865251935287912, 0.19129105992752682, 0.22409108711837117, 0.24585607982417465, 0.14322522434911666, 0.21462338104752968], Bernoulli{Float64}(p=0.5), [1.0000000000000004, 1.0000000000000002, 1.0, 1.0000000000000004, 1.0000000000000002, 1.0000000000000002, 0.9999999999999997, 0.9999999999999999, 1.0000000000000002, 1.0000000000000002  …  1.0000000000000002, 0.9999999999999998, 0.9999999999999998, 1.0, 1.0, 1.0000000000000002, 1.0000000000000002, 1.0, 0.9999999999999998, 1.0000000000000002], [0.1475239547381112, 0.22515516280576295, 0.2130240253563253, 0.13681098775375225, 0.16743933228274013, 0.15465726373683128, 0.18442842063156592, 0.2397237152691186, 0.1858833593375959, 0.14330033525109737  …  0.23326120383534954, 0.16497408214559056, 0.14782755412422, 0.16026709452757967, 0.1786525193528791, 0.19129105992752687, 0.22409108711837122, 0.24585607982417462, 0.14322522434911664, 0.2146233810475297]), GLMCopulaVCObs{Float64,Bernoulli{Float64}}([1.0, 1.0, 1.0, 1.0, 1.0, 0.0, 1.0, 1.0, 1.0, 1.0  …  1.0, 1.0, 1.0, 1.0, 1.0, 0.0, 1.0, 1.0, 1.0, 1.0], [1.0 0.945054746612265; 1.0 0.7193860407169732; … ; 1.0 0.6660803560893436; 1.0 0.8055893255721818], [[1.0 1.0 … 1.0 1.0; 1.0 1.0 … 1.0 1.0; … ; 1.0 1.0 … 1.0 1.0; 1.0 1.0 … 1.0 1.0]], [-0.6035799508879915, 0.8094555135238559], [-0.2150391074438146 -0.20322372919704185; -0.2555273116921176 -0.18382278105324443; … ; -0.26615480393957913 -0.17728048658296425; -0.23923165802651458 -0.19272247004509468], [2.3977e-320], [NaN], [-19.14489942567843 -8.6209773697875; -8.620986940224636 -5.520118993445483], [2.470780248e-314], [0.4300782148876291, 0.5110546233842351, 0.7865270407891669, 0.8639689579849108, 0.6614817013970379, -1.8286491107173979, 0.5371225686980998, 0.8064301941846925, 0.6502507211025529, 0.6204735628540451  …  0.5391277204531347, 0.4879730377930849, 0.5095437878147367, 0.7779912975307685, 0.6323541240466787, -1.834148111112517, 0.7141410689997695, 0.4483255110819745, 0.532309607879158, 0.4784633160530293], [50.0], [0.024972027736421376], [100.0 51.02755897559135; 51.02755897559135 35.02363346478304], [-0.22348166697259098, -0.22348166697259098, -0.22348166697259098, -0.22348166697259098, -0.22348166697259098, -0.22348166697259098, -0.22348166697259098, -0.22348166697259098, -0.22348166697259098, -0.22348166697259098  …  -0.22348166697259098, -0.22348166697259098, -0.22348166697259098, -0.22348166697259098, -0.22348166697259098, -0.22348166697259098, -0.22348166697259098, -0.22348166697259098, -0.22348166697259098, -0.22348166697259375], [2.4707806273e-314, 2.59071881e-314], [1.6875763834958497, 1.3425575988290461, 0.48025635181228643, 0.2924368781634439, 0.8265459161938075, 1.2071550067829653, 1.243057926815251, 0.4302758783612577, 0.8607945313839441, 0.9545445628865994  …  1.2356055559484234, 1.4349902501587142, 1.3484789745887737, 0.5020798811188109, 0.9166114377976967, 1.2131602581726062, 0.6733495210562356, 1.6044714463346303, 1.2610599784430359, 1.4743514709879544], [0.843905164758536, 0.7929102230021802, 0.6178084066892418, 0.5725926161072897, 0.6956240870159447, 0.7697951732132959, 0.7760958421302121, 0.6059395437125402, 0.702826627987607, 0.7220282072817683  …  0.7747981715111985, 0.8076776639410367, 0.7938808479078819, 0.6229479863486751, 0.7143511599760268, 0.7708576426091011, 0.6622527667962447, 0.8326424039695118, 0.7792085231973828, 0.8137178873657793], [0.13172923765240419, 0.16420360126081307, 0.23612117931334223, 0.24473031208669965, 0.2117312165791781, 0.17721056451080763, 0.173771085958409, 0.23877681307797877, 0.20886135897917688, 0.20070347517124412  …  0.17448596493410196, 0.1553344551117865, 0.16363404723294436, 0.234883792652806, 0.20405358021693176, 0.17663613744024048, 0.22367403966696345, 0.1393490310813841, 0.17204260057393658, 0.1515810871467522], [0.13172923765240419, 0.16420360126081307, 0.23612117931334217, 0.24473031208669965, 0.21173121657917812, 0.17721056451080766, 0.173771085958409, 0.23877681307797877, 0.20886135897917685, 0.2007034751712441  …  0.17448596493410196, 0.1553344551117865, 0.16363404723294434, 0.23488379265280596, 0.20405358021693176, 0.17663613744024043, 0.22367403966696342, 0.1393490310813841, 0.17204260057393664, 0.15158108714675217], Bernoulli{Float64}(p=0.5), [1.0, 1.0, 0.9999999999999998, 1.0, 1.0000000000000002, 1.0000000000000002, 1.0, 1.0, 0.9999999999999999, 0.9999999999999999  …  1.0, 1.0, 0.9999999999999998, 0.9999999999999998, 1.0, 0.9999999999999997, 0.9999999999999999, 1.0, 1.0000000000000002, 0.9999999999999998], [0.13172923765240419, 0.16420360126081307, 0.23612117931334212, 0.24473031208669965, 0.21173121657917815, 0.1772105645108077, 0.173771085958409, 0.23877681307797877, 0.20886135897917682, 0.20070347517124407  …  0.17448596493410196, 0.1553344551117865, 0.1636340472329443, 0.2348837926528059, 0.20405358021693176, 0.17663613744024037, 0.2236740396669634, 0.1393490310813841, 0.1720426005739367, 0.15158108714675214]), GLMCopulaVCObs{Float64,Bernoulli{Float64}}([1.0, 1.0, 1.0, 0.0, 1.0, 1.0, 1.0, 1.0, 1.0, 1.0  …  1.0, 1.0, 0.0, 1.0, 1.0, 1.0, 1.0, 0.0, 0.0, 1.0], [1.0 0.4436689185962792; 1.0 0.9239451731818169; … ; 1.0 0.14604080828007016; 1.0 0.1535718046929897], [[1.0 1.0 … 1.0 1.0; 1.0 1.0 … 1.0 1.0; … ; 1.0 1.0 … 1.0 1.0; 1.0 1.0 … 1.0 1.0]], [-1.7423414618436115, -2.1721133367405954], [-0.31548070610681206 -0.13996898371639988; -0.2185373274135292 -0.20191650882378462; … ; -0.6311861857507158 -0.09217894074224904; -0.3938059773830534 -0.0604774946456022], [2.472344357e-314], [2.472344357e-314], [-19.8332363711416 -8.6822035580759; -8.980086136714553 -5.574862198165687], [2.128e-320], [0.6309614122136241, 0.43707465482705843, 0.762957220624091, -1.7747383148360505, 0.8139222452122093, 0.5683067627748525, 0.4306341369782784, 0.5748029718356825, 0.6103045007025466, 0.6247734429353218  …  0.5796638428274423, 0.6390326513820382, -1.8797853134692206, 0.5314957448533543, 0.46286189086612645, 0.6539577580574976, 0.722798779204703, -1.2035918599484206, -1.2623723715014317, 0.7876119547661067], [50.0], [23.540046687007735], [100.0 50.59732628729702; 50.59732628729702 33.78672647681805], [-6.861493523571632, -6.861493523571632, -6.861493523571632, -6.861493523571632, -6.861493523571632, -6.861493523571632, -6.861493523571632, -6.861493523571632, -6.861493523571632, -6.861493523571632  …  -6.861493523571632, -6.861493523571632, -6.861493523571632, -6.861493523571632, -6.861493523571632, -6.861493523571632, -6.861493523571632, -6.861493523571632, -6.861493523571632, -6.8614935235716334], [2.4723980323e-314, 2.579652269e-314], [0.9210211433931342, 1.6553025272652602, 0.5411066332071994, 1.147305967594769, 0.4117808787888443, 1.130187861482654, 1.6849928389853126, 1.1074559091648326, 0.9875945297696471, 0.9407323725301495  …  1.0906138495917066, 0.8955994565711369, 1.2623151507158719, 1.264120174304988, 1.5406531225191769, 0.8494250394742415, 0.6492488184925103, 0.3706206053276565, 0.46598557035439037, 0.4774995072088923], [0.7152501250090619, 0.8396064149558171, 0.6320698112525923, 0.7590184969597432, 0.6015148232003775, 0.75587356659966, 0.8435645339506579, 0.7516545100950849, 0.7286125351995859, 0.7192475695137394  …  0.7484972958625875, 0.7100443508129805, 0.7794243906192555, 0.7797345573803789, 0.823559649957407, 0.7004465174753807, 0.6568411656780329, 0.5916089300434909, 0.6144331556909519, 0.6171572462191642], [0.2036673836835832, 0.13466748292085737, 0.23255756495570465, 0.1829094182327155, 0.2396947406705961, 0.18452871791556938, 0.13196341101126724, 0.1866700075488028, 0.1977363087496181, 0.20193050326231804  …  0.18824909394898165, 0.2058813706915536, 0.17192200992705772, 0.1717485774072035, 0.14530915291944022, 0.20982119363199192, 0.22540084874875585, 0.24160780393628678, 0.23690505287861036, 0.23627417965834213], [0.20366738368358323, 0.13466748292085734, 0.23255756495570462, 0.18290941823271553, 0.23969474067059607, 0.18452871791556943, 0.1319634110112672, 0.18667000754880295, 0.19773630874961806, 0.20193050326231804  …  0.18824909394898165, 0.2058813706915536, 0.17192200992705778, 0.17174857740720353, 0.1453091529194402, 0.20982119363199192, 0.22540084874875588, 0.24160780393628678, 0.23690505287861036, 0.23627417965834213], Bernoulli{Float64}(p=0.5), [1.0000000000000002, 0.9999999999999998, 0.9999999999999999, 1.0000000000000002, 0.9999999999999999, 1.0000000000000002, 0.9999999999999998, 1.0000000000000007, 0.9999999999999999, 1.0  …  1.0, 1.0, 1.0000000000000002, 1.0000000000000002, 0.9999999999999998, 1.0, 1.0000000000000002, 1.0, 1.0, 1.0], [0.20366738368358325, 0.1346674829208573, 0.2325575649557046, 0.1829094182327156, 0.23969474067059604, 0.18452871791556946, 0.13196341101126718, 0.18667000754880309, 0.19773630874961806, 0.20193050326231807  …  0.18824909394898168, 0.20588137069155363, 0.17192200992705783, 0.17174857740720356, 0.14530915291944016, 0.20982119363199192, 0.2254008487487559, 0.24160780393628678, 0.23690505287861033, 0.23627417965834213]), GLMCopulaVCObs{Float64,Bernoulli{Float64}}([1.0, 1.0, 1.0, 1.0, 1.0, 0.0, 1.0, 1.0, 1.0, 1.0  …  1.0, 0.0, 1.0, 0.0, 1.0, 1.0, 1.0, 1.0, 1.0, 1.0], [1.0 0.9045770192354754; 1.0 0.5401677553739683; … ; 1.0 0.1764649238688467; 1.0 0.2873649576248365], [[1.0 1.0 … 1.0 1.0; 1.0 1.0 … 1.0 1.0; … ; 1.0 1.0 … 1.0 1.0; 1.0 1.0 … 1.0 1.0]], [-1.2289808501939103, -1.846513151901395], [-0.22179700203817293 -0.20063247097905512; -0.29304620567173534 -0.15829411113855957; … ; -0.3869741942422138 -0.06828737172616056; -0.35552016738162184 -0.10216403783439454], [2.579652585e-314], [2.253876987e-314], [-19.896616055270247 -8.368770589730799; -8.568157252637857 -5.245903602681426], [2.253877042e-314], [0.4435940040763457, 0.5860924113434706, 0.5149501152502333, 0.8323644033202647, 0.7852372193503981, -1.4956448821666175, 0.6372308863494077, 0.8061562488627951, 0.8423728011342292, 0.4789706925036953  …  0.5539652453864878, -1.3782984597106178, 0.4844205267386061, -1.2078189260647476, 0.7585703686443892, 0.8585045315711943, 0.8274971928367936, 0.8461205721739402, 0.7739483884844275, 0.7110403347632437], [50.0], [15.895286346755906], [100.0 48.53586752085827; 48.53586752085827 32.10831809284367], [-5.63831292972568, -5.63831292972568, -5.63831292972568, -5.63831292972568, -5.63831292972568, -5.63831292972568, -5.63831292972568, -5.63831292972568, -5.63831292972568, -5.63831292972568  …  -5.63831292972568, -5.63831292972568, -5.63831292972568, -5.63831292972568, -5.63831292972568, -5.63831292972568, -5.63831292972568, -5.63831292972568, -5.63831292972568, -5.63831292972568], [2.230826453e-314, 2.593981319e-314], [1.6256910802137279, 1.0685556065997723, 1.327370493203523, 0.3669698985766455, 0.4835388331894458, 0.8051149462854866, 0.9012464602701693, 0.43095539622701634, 0.3430652120722974, 1.4722317363905741  …  1.181306656324237, 0.6416994763784798, 1.4496037852104382, 0.37763238527076715, 0.5526394221394505, 0.30512664036612824, 0.3786991281578329, 0.33418681846160186, 0.5125001783207803, 0.6820522423262902], [0.8355785046075246, 0.7443221351113571, 0.7904053508912828, 0.5907265966973, 0.6185831697635354, 0.6910675532038532, 0.7112055832265805, 0.6061017851373074, 0.5849349069150793, 0.8133963619974988  …  0.7651826627076644, 0.6551375284616627, 0.8099374486540936, 0.5933019363723471, 0.634747740039951, 0.5756952858096155, 0.5935593101885658, 0.5827777441819042, 0.6253923914969647, 0.6641965826036913], [0.1373870672453776, 0.19030669429462774, 0.1656647321737109, 0.24176868465172546, 0.23593803184883252, 0.21349319011269274, 0.20539220161392, 0.23874241119067666, 0.24278606158732682, 0.1517827202867327  …  0.17967815539927307, 0.22593234726280678, 0.15393877792179111, 0.2412947486691705, 0.23184304655412577, 0.24427022370620063, 0.24124665547703972, 0.24314784506815523, 0.23427674815467195, 0.22303948226126918], [0.13738706724537764, 0.19030669429462777, 0.1656647321737109, 0.24176868465172546, 0.23593803184883255, 0.21349319011269272, 0.20539220161392002, 0.23874241119067666, 0.2427860615873268, 0.15178272028673273  …  0.17967815539927315, 0.22593234726280678, 0.15393877792179106, 0.2412947486691705, 0.23184304655412583, 0.2442702237062006, 0.24124665547703977, 0.24314784506815523, 0.23427674815467198, 0.22303948226126918], Bernoulli{Float64}(p=0.5), [1.0000000000000002, 1.0000000000000002, 1.0, 1.0, 1.0000000000000002, 0.9999999999999999, 1.0000000000000002, 1.0, 0.9999999999999999, 1.0000000000000002  …  1.0000000000000004, 1.0, 0.9999999999999997, 1.0, 1.0000000000000002, 0.9999999999999999, 1.0000000000000002, 1.0, 1.0000000000000002, 1.0], [0.13738706724537766, 0.19030669429462777, 0.1656647321737109, 0.24176868465172546, 0.23593803184883258, 0.2134931901126927, 0.20539220161392008, 0.23874241119067666, 0.24278606158732677, 0.15178272028673276  …  0.17967815539927326, 0.22593234726280678, 0.153938777921791, 0.2412947486691705, 0.2318430465541259, 0.24427022370620058, 0.24124665547703983, 0.24314784506815526, 0.234276748154672, 0.22303948226126918]), GLMCopulaVCObs{Float64,Bernoulli{Float64}}([0.0, 1.0, 0.0, 0.0, 1.0, 1.0, 1.0, 1.0, 1.0, 1.0  …  0.0, 1.0, 0.0, 0.0, 1.0, 0.0, 0.0, 1.0, 1.0, 1.0], [1.0 0.941598476073878; 1.0 0.6560863837283644; … ; 1.0 0.6782831369408902; 1.0 0.4450729169022576], [[1.0 1.0 … 1.0 1.0; 1.0 1.0 … 1.0 1.0; … ; 1.0 1.0 … 1.0 1.0; 1.0 1.0 … 1.0 1.0]], [-6.557858412122895, -3.480153656151066], [-1.159511634681484 -1.0917943882060164; -0.26819594899215815 -0.1759597103048619; … ; -0.2636835891250161 -0.17885213199154865; -0.31514229254519727 -0.14026129938235554], [2.230826295e-314], [2.23082635e-314], [-21.723210272121275 -8.980600971120422; -10.451858580040366 -6.535717734038911], [2.2308263264e-314], [-2.3190232693629675, 0.5363918979843162, -1.307148079363311, -1.7860887593368444, 0.473822439095678, 0.6233596910584718, 0.4603765404317651, 0.7101615430134327, 0.7870596504997834, 0.46086554065829405  …  -1.1947326754928036, 0.8701837541294287, -1.2491718869435648, -1.4058314383236383, 0.8568529707832239, -1.2312575955746905, -1.3304537354418768, 0.48239998207536133, 0.5273671782500324, 0.6302845850903945], [50.0], [194.12335861317828], [100.0 52.97932322295815; 52.97932322295815 36.172368719779705], [-19.703977193103846, -19.703977193103846, -19.703977193103846, -19.703977193103846, -19.703977193103846, -19.703977193103846, -19.703977193103846, -19.703977193103846, -19.703977193103846, -19.703977193103846  …  -19.703977193103846, -19.703977193103846, -19.703977193103846, -19.703977193103846, -19.703977193103846, -19.703977193103846, -19.703977193103846, -19.703977193103846, -19.703977193103846, -19.70397719310385], [2.254133964e-314, 2.4667873674e-314], [1.682292184891958, 1.2457804642352546, 0.535695450730934, 1.1600563569930147, 1.493845257063073, 0.9452631471501237, 1.5514211163710931, 0.6845256189114317, 0.4789024772938918, 1.549297894766295  …  0.35584491568370347, 0.2781017559850502, 0.44496168265059466, 0.6812577976142445, 0.30897787556587214, 0.41607216495961197, 0.5710400770425708, 1.4579633414527464, 1.2797164802484278, 0.9231676784533728], [0.8432078156606525, 0.7765685847704586, 0.630810502935651, 0.7613429550514627, 0.8166547232854534, 0.7201615616249766, 0.8251188904250751, 0.6647480190062142, 0.6174886772940191, 0.824812302893833  …  0.5880342344979663, 0.5690807828233858, 0.6094406632660305, 0.6640193669588383, 0.5766357525657875, 0.6025429724566373, 0.6390031328451045, 0.811220975510898, 0.7824015112241027, 0.7156871021192289], [0.13220839526944356, 0.17350981791806563, 0.23288861232172203, 0.18169985984496917, 0.14972978622101293, 0.20152888678285164, 0.144297707088768, 0.2228580902335281, 0.23619641070770184, 0.1444969678888049  …  0.24224997355635708, 0.2452278454445082, 0.2380227412238913, 0.22309764726242193, 0.2441269614286754, 0.23948493879975732, 0.23067812905924623, 0.15314150440204502, 0.17024938645834298, 0.20347907397940931], [0.13220839526944358, 0.17350981791806566, 0.23288861232172206, 0.18169985984496914, 0.14972978622101293, 0.20152888678285166, 0.144297707088768, 0.2228580902335281, 0.23619641070770186, 0.1444969678888048  …  0.2422499735563571, 0.2452278454445082, 0.23802274122389136, 0.22309764726242193, 0.2441269614286754, 0.2394849387997573, 0.23067812905924628, 0.15314150440204505, 0.1702493864583429, 0.20347907397940934], Bernoulli{Float64}(p=0.5), [1.0000000000000002, 1.0000000000000002, 1.0000000000000002, 0.9999999999999999, 1.0, 1.0000000000000002, 1.0, 1.0, 1.0000000000000002, 0.9999999999999994  …  1.0000000000000002, 1.0, 1.0000000000000002, 1.0, 1.0, 0.9999999999999999, 1.0000000000000002, 1.0000000000000002, 0.9999999999999996, 1.0000000000000002], [0.1322083952694436, 0.1735098179180657, 0.2328886123217221, 0.1816998598449691, 0.14972978622101293, 0.2015288867828517, 0.144297707088768, 0.2228580902335281, 0.2361964107077019, 0.14449696788880473  …  0.24224997355635713, 0.2452278454445082, 0.23802274122389142, 0.22309764726242193, 0.2441269614286754, 0.23948493879975727, 0.23067812905924634, 0.15314150440204508, 0.1702493864583428, 0.20347907397940937]), GLMCopulaVCObs{Float64,Bernoulli{Float64}}([0.0, 1.0, 1.0, 0.0, 1.0, 0.0, 1.0, 0.0, 1.0, 1.0  …  1.0, 1.0, 0.0, 0.0, 1.0, 1.0, 1.0, 1.0, 1.0, 1.0], [1.0 0.037589749645796866; 1.0 0.7487247425366441; … ; 1.0 0.4990998506448563; 1.0 0.12787095986330188], [[1.0 1.0 … 1.0 1.0; 1.0 1.0 … 1.0 1.0; … ; 1.0 1.0 … 1.0 1.0; 1.0 1.0 … 1.0 1.0]], [2.762509894735519, 2.309440886110337], [-0.5809687318158541 -0.021838469180994056; -0.24986024084200237 -0.1870765444945721; … ; -0.3023919730675133 -0.15092378859419928; -0.4016194539455044 -0.05135546507578681], [2.230826516e-314], [2.281577208e-314], [-20.160701517984894 -8.485391939382291; -8.877989379262981 -5.532079464143296], [2.230826516e-314], [-1.1619374636317081, 0.49972048168400457, 0.627966407430402, -2.296979540896173, 0.700358873553117, -1.1369600281856462, 0.5721287648678867, -1.5404117303911793, 0.43205567367043707, 0.5473793159604045  …  0.438871885052414, 0.7590518383061011, -1.1399338701000907, -2.0633852682206997, 0.4634300024764752, 0.47206260645427517, 0.4777033775449677, 0.5467508672513322, 0.6047839461350264, 0.8032389078910088], [50.0], [41.16901440966408], [100.0 49.85428806082757; 49.85428806082757 33.76434258022087], [9.074030461670722, 9.074030461670722, 9.074030461670722, 9.074030461670722, 9.074030461670722, 9.074030461670722, 9.074030461670722, 9.074030461670722, 9.074030461670722, 9.074030461670722  …  9.074030461670722, 9.074030461670722, 9.074030461670722, 9.074030461670722, 9.074030461670722, 9.074030461670722, 9.074030461670722, 9.074030461670722, 9.074030461670722, 9.07403046167072], [2.230826263e-314, 2.2308266663e-314], [0.30017767821720276, 1.387412747022351, 0.9305372105950297, 1.6631900335741832, 0.7123247976159585, 0.2567161172817672, 1.1167823990623265, 0.8640994761775753, 1.6784016496089498, 1.2052265381175347  …  1.647095484184531, 0.551370411510429, 0.26194050407940883, 1.4486959361864513, 1.5381998496980915, 1.5012873227992762, 1.477530576360102, 1.2075240664659037, 1.0057679971160511, 0.43820618023708197], [0.5744859511540483, 0.8001788817081142, 0.7171842611653739, 0.8406657624660757, 0.6709146514483388, 0.5638288700374662, 0.7533913968788797, 0.703516440218284, 0.8426927671590537, 0.769453250398874  …  0.8384981103154538, 0.634453478471455, 0.5651132507143025, 0.8097976561600947, 0.8232028839470716, 0.8177663973339543, 0.8141992990765613, 0.7698605679759148, 0.7321911231606606, 0.6078315164977977], [0.24445184308067672, 0.15989263897646597, 0.20283099670205065, 0.13394683828340728, 0.22078818192029284, 0.24592587534974025, 0.1857927999877701, 0.20858105856087764, 0.13256166733687058, 0.1773949458494817  …  0.13541902931286684, 0.231922262126926, 0.2457602645814164, 0.15402541223771174, 0.14553989580829574, 0.1490245167253995, 0.15127880045979758, 0.17717527385171664, 0.19608728232539094, 0.23837236404978518], [0.24445184308067672, 0.15989263897646597, 0.2028309967020507, 0.13394683828340728, 0.2207881819202929, 0.24592587534974023, 0.18579279998777018, 0.20858105856087764, 0.13256166733687058, 0.1773949458494817  …  0.1354190293128669, 0.23192226212692596, 0.2457602645814164, 0.15402541223771177, 0.14553989580829574, 0.14902451672539951, 0.15127880045979755, 0.17717527385171666, 0.196087282325391, 0.23837236404978518], Bernoulli{Float64}(p=0.5), [1.0, 1.0, 1.0000000000000002, 1.0, 1.0000000000000002, 0.9999999999999999, 1.0000000000000004, 1.0, 1.0, 1.0  …  1.0000000000000004, 0.9999999999999999, 1.0, 1.0000000000000002, 1.0, 1.0000000000000002, 0.9999999999999998, 1.0000000000000002, 1.0000000000000002, 1.0], [0.24445184308067672, 0.15989263897646597, 0.20283099670205076, 0.13394683828340728, 0.22078818192029293, 0.2459258753497402, 0.18579279998777026, 0.20858105856087764, 0.13256166733687058, 0.17739494584948173  …  0.13541902931286695, 0.23192226212692593, 0.2457602645814164, 0.1540254122377118, 0.14553989580829574, 0.14902451672539954, 0.15127880045979752, 0.17717527385171666, 0.19608728232539102, 0.23837236404978518]), GLMCopulaVCObs{Float64,Bernoulli{Float64}}([1.0, 0.0, 1.0, 1.0, 1.0, 1.0, 0.0, 1.0, 1.0, 0.0  …  0.0, 1.0, 1.0, 1.0, 0.0, 1.0, 1.0, 0.0, 1.0, 1.0], [1.0 0.9960820578809302; 1.0 0.5429568896955266; … ; 1.0 0.5364609684263; 1.0 0.1112859163173312], [[1.0 1.0 … 1.0 1.0; 1.0 1.0 … 1.0 1.0; … ; 1.0 1.0 … 1.0 1.0; 1.0 1.0 … 1.0 1.0]], [6.107684659712719, 4.298011848252792], [-0.2068125377477768 -0.20600225819538306; -0.8549286522203781 -0.464189401921165; … ; -0.29387775992456183 -0.15765394768808216; -0.4067436850918157 -0.04526484370173072], [2.2308264845e-314], [2.593980339e-314], [-20.542690390084303 -9.077182321777887; -9.880665216495318 -6.23405107487941], [1.0e-323], [0.41362507549555344, -1.7098573044407561, 0.7151799006068066, 0.6830497955751547, 0.452402868963012, 0.5372147711412033, -1.6371770567010264, 0.43990252622538467, 0.8215494670954281, -1.5533883431060558  …  -1.1627911648156661, 0.7710342269683986, 0.4344118509931459, 0.5562946970363181, -1.760964438990908, 0.689029632550155, 0.5212228669372391, -1.29921890656369, 0.5877555198491236, 0.8134873701836315], [50.0], [173.7330013322831], [100.0 53.90354977958781; 53.90354977958781 37.23449819478767], [18.64043998044483, 18.64043998044483, 18.64043998044483, 18.64043998044483, 18.64043998044483, 18.64043998044483, 18.64043998044483, 18.64043998044483, 18.64043998044483, 18.64043998044483  …  18.64043998044483, 18.64043998044483, 18.64043998044483, 18.64043998044483, 18.64043998044483, 18.64043998044483, 18.64043998044483, 18.64043998044483, 18.64043998044483, 18.640439980444842], [4.0e-323, 2.5939618093e-314], [1.7655906604372809, 1.0728198386743029, 0.670442317392274, 0.7623750298621772, 1.5863643862181194, 1.2427146363424701, 0.9859469035911373, 1.642404215834917, 0.39312625548402164, 0.8808771457183148  …  0.3016465829519516, 0.520045026898048, 1.6675244588855334, 1.1729141890146408, 1.1317232713300693, 0.7449420016758422, 1.30315512212281, 0.5235264855705695, 1.0628884002291348, 0.41284975544980174], [0.8539084691846806, 0.7451328012033028, 0.6616021943906029, 0.6818691562323131, 0.8301039826830694, 0.7760361825179417, 0.7282866169916193, 0.8378618140470401, 0.5970350545847324, 0.7070039542564233  …  0.5748449882759656, 0.6271582950476279, 0.8412454881074257, 0.7636713650841975, 0.7561567824873879, 0.6780755892813043, 0.7863655060399837, 0.6279720061539641, 0.7432421352980051, 0.6017709994931684], [0.12474879543935602, 0.189909909774222, 0.2238847307681418, 0.21692361001134647, 0.14103136061677582, 0.17380402594092156, 0.1978852205025217, 0.13584939460884332, 0.240584198181738, 0.20714936292220462  …  0.24439822772997058, 0.23383076800058042, 0.13355151684632477, 0.18047741123463582, 0.18438370278570904, 0.21828908450211623, 0.16799479695046407, 0.23362316564092978, 0.190833263615667, 0.23964266366216153], [0.12474879543935606, 0.18990990977422198, 0.22388473076814178, 0.21692361001134644, 0.14103136061677582, 0.1738040259409216, 0.1978852205025217, 0.13584939460884335, 0.24058419818173798, 0.20714936292220462  …  0.24439822772997052, 0.2338307680005804, 0.13355151684632477, 0.18047741123463582, 0.184383702785709, 0.2182890845021162, 0.1679947969504641, 0.23362316564092975, 0.190833263615667, 0.2396426636621615], Bernoulli{Float64}(p=0.5), [1.0000000000000004, 0.9999999999999999, 0.9999999999999999, 0.9999999999999999, 1.0, 1.0000000000000002, 1.0, 1.0000000000000002, 0.9999999999999999, 1.0  …  0.9999999999999998, 0.9999999999999999, 1.0, 1.0, 0.9999999999999999, 0.9999999999999999, 1.0000000000000002, 0.9999999999999999, 1.0, 0.9999999999999999], [0.1247487954393561, 0.18990990977422195, 0.22388473076814175, 0.21692361001134644, 0.14103136061677582, 0.17380402594092162, 0.19788522050252172, 0.13584939460884338, 0.24058419818173796, 0.20714936292220462  …  0.24439822772997047, 0.23383076800058036, 0.13355151684632477, 0.18047741123463582, 0.18438370278570898, 0.21828908450211618, 0.16799479695046413, 0.23362316564092972, 0.190833263615667, 0.23964266366216147])], 725.0, 1000, 2, 1, [0.24270772602657942, 1.5288729702154156], [1.0], [0.002845355678365047], [-4.2159520319273724e-10, 7.840386118118658e-10], [NaN], [0.0], [1000.0 508.21481489985433; 508.21481489985433 343.53106754769453], [-201.07895955373107 -86.61739040166965; -91.16666635319419 -56.99683444586273], [1.34164e-319], [50.0; 50.0; … ; 50.0; 50.0], [39.42149038925413; 3.623321531123673; … ; 41.16901440966408; 173.7330013322831], [0.8754514590497237, 0.8754514590497237, 0.8754514590497237, 0.8754514590497237, 0.8754514590497237, 0.8754514590497237, 0.8754514590497237, 0.8754514590497237, 0.8754514590497237, 0.8754514590497237], [-4.439473094697277e-11], [0.0028453557227597777], Bernoulli{Float64}(p=0.5))"
      ]
     },
     "execution_count": 42,
     "metadata": {},
     "output_type": "execute_result"
    }
   ],
   "source": [
    "@time fit2!(gcm, IpoptSolver(print_level = 5, max_iter = 25, derivative_test = \"first-order\", hessian_approximation = \"limited-memory\"))"
   ]
  },
  {
   "cell_type": "code",
   "execution_count": 43,
   "metadata": {},
   "outputs": [
    {
     "name": "stdout",
     "output_type": "stream",
     "text": [
      "loglikelihood3!(gcm, true, true) = -569.1749163635732\n",
      "gcm.∇β = [-4.2159520319273724e-10, 7.840386118118658e-10]\n"
     ]
    },
    {
     "data": {
      "text/plain": [
       "2-element Array{Float64,1}:\n",
       " -4.2159520319273724e-10\n",
       "  7.840386118118658e-10"
      ]
     },
     "execution_count": 43,
     "metadata": {},
     "output_type": "execute_result"
    }
   ],
   "source": [
    "@show loglikelihood3!(gcm, true, true)\n",
    "@show gcm.∇β"
   ]
  },
  {
   "cell_type": "code",
   "execution_count": 44,
   "metadata": {},
   "outputs": [
    {
     "data": {
      "text/plain": [
       "-569.2768789333542"
      ]
     },
     "execution_count": 44,
     "metadata": {},
     "output_type": "execute_result"
    }
   ],
   "source": [
    "loglikelihood(glmm1)"
   ]
  },
  {
   "cell_type": "code",
   "execution_count": 45,
   "metadata": {},
   "outputs": [
    {
     "name": "stdout",
     "output_type": "stream",
     "text": [
      "1 0.0 -626.5957471791157 39\n",
      "2 -626.5957471791157 -571.7584788144428 9\n",
      "3 -571.7584788144428 -569.2814939049927 9\n",
      "4 -569.2814939049927 -569.2800318847973 9\n",
      "5 -569.2800318847973 -569.2800318829738 9\n",
      "gcm.β = [0.24007269498653974, 1.5211675941696152]\n",
      "This is Ipopt version 3.13.2, running with linear solver mumps.\n",
      "NOTE: Other linear solvers might be more efficient (see Ipopt documentation).\n",
      "\n",
      "Starting derivative checker for first derivatives.\n",
      "\n",
      "* grad_f[          1] = -7.1481473871480591e+02    ~ -2.2083320040581098e+03  [ 6.763e-01]\n",
      "* grad_f[          2] = -3.8837192386906469e+02    ~ -1.5388133397209458e+04  [ 9.748e-01]\n",
      "\n",
      "Derivative checker detected 2 error(s).\n",
      "\n",
      "Number of nonzeros in equality constraint Jacobian...:        0\n",
      "Number of nonzeros in inequality constraint Jacobian.:        0\n",
      "Number of nonzeros in Lagrangian Hessian.............:        0\n",
      "\n",
      "Total number of variables............................:        2\n",
      "                     variables with only lower bounds:        0\n",
      "                variables with lower and upper bounds:        0\n",
      "                     variables with only upper bounds:        0\n",
      "Total number of equality constraints.................:        0\n",
      "Total number of inequality constraints...............:        0\n",
      "        inequality constraints with only lower bounds:        0\n",
      "   inequality constraints with lower and upper bounds:        0\n",
      "        inequality constraints with only upper bounds:        0\n",
      "\n",
      "iter    objective    inf_pr   inf_du lg(mu)  ||d||  lg(rg) alpha_du alpha_pr  ls\n",
      "   0  5.6917802e+02 0.00e+00 8.87e-01   0.0 0.00e+00    -  0.00e+00 0.00e+00   0\n",
      "   1  5.6917553e+02 0.00e+00 3.78e-01 -11.0 8.87e-01    -  1.00e+00 7.81e-03f  8\n",
      "   2  5.6917507e+02 0.00e+00 5.23e-02 -11.0 2.06e-03    -  1.00e+00 1.00e+00f  1\n",
      "   3  5.6917505e+02 0.00e+00 5.54e-02 -11.0 3.09e-04    -  1.00e+00 1.00e+00f  1\n",
      "   4  5.6917492e+02 0.00e+00 1.77e-02 -11.0 3.68e-03    -  1.00e+00 1.00e+00f  1\n",
      "   5  5.6917492e+02 0.00e+00 1.26e-03 -11.0 4.76e-04    -  1.00e+00 1.00e+00f  1\n",
      "   6  5.6917492e+02 0.00e+00 2.45e-05 -11.0 6.10e-06    -  1.00e+00 1.00e+00f  1\n",
      "   7  5.6917492e+02 0.00e+00 1.62e-06 -11.0 3.73e-07    -  1.00e+00 1.00e+00f  1\n",
      "   8  5.6917492e+02 0.00e+00 1.03e-06 -11.0 1.87e-08    -  1.00e+00 1.00e+00f  1\n",
      "   9  5.6917492e+02 0.00e+00 1.20e-06 -11.0 1.76e-08    -  1.00e+00 1.00e+00f  1\n",
      "iter    objective    inf_pr   inf_du lg(mu)  ||d||  lg(rg) alpha_du alpha_pr  ls\n",
      "  10  5.6917492e+02 0.00e+00 1.14e-06 -11.0 1.12e-08    -  1.00e+00 1.00e+00f  1\n",
      "  11  5.6917492e+02 0.00e+00 8.89e-07 -11.0 4.42e-09    -  1.00e+00 1.00e+00f  1\n",
      "  12  5.6917492e+02 0.00e+00 1.54e-06 -11.0 1.79e-08    -  1.00e+00 1.00e+00f  1\n",
      "  13  5.6917492e+02 0.00e+00 6.07e-07 -11.0 1.02e-08    -  1.00e+00 1.00e+00f  1\n",
      "  14  5.6917492e+02 0.00e+00 3.51e-07 -11.0 3.20e-09    -  1.00e+00 1.00e+00f  1\n",
      "  15  5.6917492e+02 0.00e+00 1.43e-07 -11.0 4.35e-09    -  1.00e+00 1.00e+00f  1\n",
      "  16  5.6917492e+02 0.00e+00 2.21e-07 -11.0 1.26e-09    -  1.00e+00 1.00e+00f  1\n",
      "  17  5.6917492e+02 0.00e+00 2.23e-07 -11.0 7.61e-10    -  1.00e+00 1.00e+00f  1\n",
      "  18  5.6917492e+02 0.00e+00 1.97e-07 -11.0 7.62e-10    -  1.00e+00 1.00e+00f  1\n",
      "  19  5.6917492e+02 0.00e+00 6.44e-07 -11.0 5.48e-09    -  1.00e+00 1.00e+00f  1\n",
      "iter    objective    inf_pr   inf_du lg(mu)  ||d||  lg(rg) alpha_du alpha_pr  ls\n",
      "  20  5.6917492e+02 0.00e+00 1.28e-07 -11.0 4.21e-09    -  1.00e+00 1.00e+00f  1\n",
      "  21  5.6917492e+02 0.00e+00 5.80e-08 -11.0 6.83e-10    -  1.00e+00 1.00e+00f  1\n",
      "  22  5.6917492e+02 0.00e+00 7.84e-10 -11.0 5.37e-10    -  1.00e+00 1.00e+00f  1\n",
      "\n",
      "Number of Iterations....: 22\n",
      "\n",
      "                                   (scaled)                 (unscaled)\n",
      "Objective...............:   5.6917491636357317e+02    5.6917491636357317e+02\n",
      "Dual infeasibility......:   7.8403861181186585e-10    7.8403861181186585e-10\n",
      "Constraint violation....:   0.0000000000000000e+00    0.0000000000000000e+00\n",
      "Complementarity.........:   0.0000000000000000e+00    0.0000000000000000e+00\n",
      "Overall NLP error.......:   7.8403861181186585e-10    7.8403861181186585e-10\n",
      "\n",
      "\n",
      "Number of objective function evaluations             = 34\n",
      "Number of objective gradient evaluations             = 23\n",
      "Number of equality constraint evaluations            = 0\n",
      "Number of inequality constraint evaluations          = 0\n",
      "Number of equality constraint Jacobian evaluations   = 0\n",
      "Number of inequality constraint Jacobian evaluations = 0\n",
      "Number of Lagrangian Hessian evaluations             = 0\n",
      "Total CPU secs in IPOPT (w/o function evaluations)   =      0.547\n",
      "Total CPU secs in NLP function evaluations           =      0.537\n",
      "\n",
      "EXIT: Optimal Solution Found.\n",
      "  0.345908 seconds (211.50 k allocations: 19.408 MiB)\n"
     ]
    },
    {
     "data": {
      "text/plain": [
       "GLMCopulaVCModel{Float64,Bernoulli{Float64}}(GLMCopulaVCObs{Float64,Bernoulli{Float64}}[GLMCopulaVCObs{Float64,Bernoulli{Float64}}([0.0, 0.0, 1.0, 1.0, 0.0, 0.0, 1.0, 1.0, 1.0, 1.0  …  1.0, 0.0, 1.0, 1.0, 0.0, 1.0, 1.0, 0.0, 0.0, 0.0], [1.0 0.09515880533766441; 1.0 0.23881672289989253; … ; 1.0 0.2707677310894794; 1.0 0.9916847794622285], [[1.0 1.0 … 1.0 1.0; 1.0 1.0 … 1.0 1.0; … ; 1.0 1.0 … 1.0 1.0; 1.0 1.0 … 1.0 1.0]], [-2.180722203335005, -3.0972225588765303], [-0.6071068614699008 -0.057771563649774677; -0.6775763076804018 -0.16181655331484282; … ; -0.6943295433093811 -0.18800203507027552; -1.2047676293103786 -1.1947497207758948], [0.0], [2.5945152577e-314], [-20.819020437329797 -8.102088512052198; -8.571514640180354 -5.009603856102177], [2.579252384e-314], [-1.2142137229398013, -1.3551526153608031, 0.8087250237814103, 0.41824710029533574, -1.8031500654157, -1.5131053759632052, 0.8166403961176865, 0.4190167336104238, 0.7096237673384648, 0.8737648728273818  …  0.8500039431363726, -1.6311173719426793, 0.6360762464409327, 0.6994057101949728, -1.2890906834392637, 0.8819164825954552, 0.42664325510432893, -1.5145308917892084, -1.3886590866187623, -2.4095352586207572], [50.0], [39.42149038925413], [100.0 46.2177621584263; 46.2177621584263 29.613040936012897], [-8.879357002537304, -8.879357002537304, -8.879357002537304, -8.879357002537304, -8.879357002537304, -8.879357002537304, -8.879357002537304, -8.879357002537304, -8.879357002537304, -8.879357002537304  …  -8.879357002537304, -8.879357002537304, -8.879357002537304, -8.879357002537304, -8.879357002537304, -8.879357002537304, -8.879357002537304, -8.879357002537304, -8.879357002537304, -8.879357002537304], [NaN, 2.5797663547e-314], [0.3881934513853249, 0.60782815850365, 0.42459263227967703, 1.7433657441704722, 1.1790703434296061, 0.8283281588309626, 0.4051128652960706, 1.7396888456794857, 0.6860407091064485, 0.26988792749014684  …  0.3250285810491343, 0.9785305684545196, 0.9048736769729581, 0.7150485799334538, 0.5078741465169596, 0.25131583678734715, 1.7036141661825464, 0.8302114972577411, 0.6566771912958407, 1.7588677803204162], [0.5958477339565501, 0.647445216635264, 0.6045817024502742, 0.8511140731114216, 0.7647806078682735, 0.6960013117986324, 0.5999154587480668, 0.8506475387757996, 0.6650855847898771, 0.5670653911208203  …  0.5805492646598588, 0.7268165517217389, 0.7119500141348116, 0.6715157501904511, 0.6243079927166414, 0.5625003466246015, 0.846006176531529, 0.6963996479495876, 0.6585135710452577, 0.8530678009659117], [0.2408132118953944, 0.22825990809138008, 0.2390626675126023, 0.12671890766310728, 0.17989122969690757, 0.21158348577321526, 0.24001690110316334, 0.12704630355047414, 0.2227467496945843, 0.2455022333138114  …  0.24351181596275603, 0.19855425186505976, 0.20507719150825315, 0.2205823474366068, 0.23454752294675943, 0.24609370667180466, 0.1302797258020324, 0.21142717828527804, 0.22487344779448007, 0.12534312792109534], [0.24081321189539442, 0.22825990809138014, 0.23906266751260233, 0.12671890766310726, 0.17989122969690763, 0.21158348577321526, 0.24001690110316337, 0.12704630355047414, 0.2227467496945843, 0.24550223331381138  …  0.24351181596275603, 0.19855425186505973, 0.20507719150825315, 0.22058234743660676, 0.23454752294675943, 0.24609370667180466, 0.1302797258020324, 0.21142717828527804, 0.22487344779448007, 0.12534312792109534], Bernoulli{Float64}(p=0.5), [1.0000000000000002, 1.0000000000000002, 1.0000000000000002, 0.9999999999999998, 1.0000000000000002, 1.0, 1.0000000000000002, 1.0, 1.0, 0.9999999999999999  …  1.0, 0.9999999999999999, 1.0, 0.9999999999999999, 1.0, 1.0, 1.0, 1.0, 1.0, 1.0], [0.24081321189539445, 0.2282599080913802, 0.23906266751260236, 0.12671890766310723, 0.17989122969690768, 0.21158348577321526, 0.2400169011031634, 0.12704630355047414, 0.2227467496945843, 0.24550223331381135  …  0.24351181596275603, 0.1985542518650597, 0.20507719150825315, 0.22058234743660673, 0.23454752294675943, 0.24609370667180466, 0.1302797258020324, 0.21142717828527804, 0.22487344779448007, 0.12534312792109534]), GLMCopulaVCObs{Float64,Bernoulli{Float64}}([0.0, 1.0, 1.0, 1.0, 0.0, 0.0, 1.0, 1.0, 1.0, 1.0  …  0.0, 1.0, 1.0, 1.0, 1.0, 1.0, 0.0, 0.0, 1.0, 1.0], [1.0 0.2708978155840298; 1.0 0.1807076550615192; … ; 1.0 0.030175028506069568; 1.0 0.016786971871112], [[1.0 1.0 … 1.0 1.0; 1.0 1.0 … 1.0 1.0; … ; 1.0 1.0 … 1.0 1.0; 1.0 1.0 … 1.0 1.0]], [0.6270243764833079, 0.8634895885598293], [-0.6943985917983315 -0.18811106166279443; -0.38572115450004163 -0.06970276533732447; … ; -0.43276174872624734 -0.01305859810415103; -0.4372135120207173 -0.007339490927961869], [2.230827425e-314], [2.2308267296e-314], [-19.951336440066868 -7.973857121515232; -8.022811115711406 -4.812279488471774], [2.230826761e-314], [-1.388797183596663, 0.7714423090000834, 0.4399841741225541, 0.770869947410397, -1.1915945333390436, -1.655515937881018, 0.4320281579803592, 0.5110737102512568, 0.7901903801992067, 0.6105762797287958  …  -1.2011137366407907, 0.6028118580317074, 0.5812376566535365, 0.7836522858964817, 0.5393894992260486, 0.766886687339604, -1.2604978996145442, -1.6187799630974098, 0.8655234974524946, 0.8744270240414345], [50.0], [3.623321531123673], [100.0 45.558442015897285; 45.558442015897285 29.272386739797465], [2.6919589637004755, 2.6919589637004755, 2.6919589637004755, 2.6919589637004755, 2.6919589637004755, 2.6919589637004755, 2.6919589637004755, 2.6919589637004755, 2.6919589637004755, 2.6919589637004755  …  2.6919589637004755, 2.6919589637004755, 2.6919589637004755, 2.6919589637004755, 2.6919589637004755, 2.6919589637004755, 2.6919589637004755, 2.6919589637004755, 2.6919589637004755, 2.691958963700478], [2.2308260023e-314, 2.230842342e-314], [0.656876073963403, 0.518986775361147, 1.6420330412399538, 0.5204712000970142, 0.35058470836403727, 1.0082254103797623, 1.6785290247041864, 1.342482904228004, 0.4709627499199668, 0.986704093831611  …  0.3664984804598211, 1.0123002816756657, 1.085191116341877, 0.4875797397996003, 1.2346346719485086, 0.5308324468368992, 0.4630136026661997, 0.9633455126319367, 0.2888415114849888, 0.26837287357208905], [0.6585582930663829, 0.6269108099981731, 0.8378113838793675, 0.6272579420525186, 0.5867593619876689, 0.7326727156151157, 0.8427096514770233, 0.7928979576113477, 0.6156116010576854, 0.7284364278463954  …  0.5906126176864845, 0.7334700767014495, 0.747475096297252, 0.6195361153834743, 0.7746287206839475, 0.629677246039442, 0.6137288425160131, 0.7237911322417309, 0.5717124921363135, 0.566693404274779], [0.22485926769987502, 0.2338936463056076, 0.13588346892150663, 0.2338054161845578, 0.24247281310749264, 0.19586340740828748, 0.13255009478449725, 0.16421078642710116, 0.23663395770087858, 0.19781679843277858  …  0.24178935351600297, 0.1954917232850193, 0.18875607671266587, 0.23571111711902873, 0.17457906577549834, 0.23318381185962603, 0.23706575037996788, 0.19991752912996413, 0.24485731847159917, 0.24555198982624088], [0.22485926769987505, 0.23389364630560758, 0.1358834689215066, 0.2338054161845578, 0.2424728131074926, 0.19586340740828753, 0.13255009478449722, 0.16421078642710105, 0.23663395770087856, 0.19781679843277855  …  0.24178935351600295, 0.1954917232850193, 0.18875607671266587, 0.23571111711902876, 0.1745790657754984, 0.23318381185962603, 0.2370657503799679, 0.19991752912996413, 0.24485731847159922, 0.24555198982624088], Bernoulli{Float64}(p=0.5), [1.0000000000000002, 0.9999999999999999, 0.9999999999999998, 1.0, 0.9999999999999999, 1.0000000000000002, 0.9999999999999998, 0.9999999999999993, 0.9999999999999999, 0.9999999999999999  …  0.9999999999999999, 1.0, 1.0, 1.0000000000000002, 1.0000000000000002, 1.0, 1.0000000000000002, 1.0, 1.0000000000000002, 1.0], [0.22485926769987508, 0.23389364630560755, 0.13588346892150657, 0.2338054161845578, 0.24247281310749258, 0.1958634074082876, 0.1325500947844972, 0.16421078642710094, 0.2366339577008785, 0.1978167984327785  …  0.24178935351600292, 0.1954917232850193, 0.18875607671266587, 0.23571111711902878, 0.17457906577549845, 0.23318381185962603, 0.23706575037996794, 0.19991752912996413, 0.24485731847159928, 0.24555198982624088]), GLMCopulaVCObs{Float64,Bernoulli{Float64}}([0.0, 1.0, 1.0, 1.0, 1.0, 1.0, 1.0, 1.0, 1.0, 1.0  …  1.0, 0.0, 1.0, 1.0, 1.0, 1.0, 1.0, 1.0, 1.0, 1.0], [1.0 0.9063154415086963; 1.0 0.6308958141445524; … ; 1.0 0.5700737454482223; 1.0 0.9754391815720524], [[1.0 1.0 … 1.0 1.0; 1.0 1.0 … 1.0 1.0; … ; 1.0 1.0 … 1.0 1.0; 1.0 1.0 … 1.0 1.0]], [4.542387194484644, 2.6326853591346007], [-1.128655693728157 -1.0229180833725384; -0.2734105349844289 -0.17249356206469896; … ; -0.2864228069686274 -0.16328212235039857; -0.21010195985569738 -0.2049416837683257], [2.2308426266e-314], [2.2308264766e-314], [-19.889735290085895 -9.422095262592718; -10.14294858235826 -6.576692871897164], [2.230842848e-314], [-2.257311387456314, 0.5468210699688578, 0.5844474392275022, 0.5362084486671458, 0.4268236165554262, 0.5933187113573644, 0.6699502326505594, 0.5825850090243972, 0.49072735414342267, 0.6330875071357602  …  0.4205974725787673, -1.28240842233354, 0.6584643939837035, 0.5361162619107003, 0.4911661404180439, 0.7321144180183227, 0.47135139228564965, 0.49220782641106725, 0.5728456139372547, 0.4202039197113946], [50.0], [89.6928620403833], [100.0 56.16530420991891; 56.16530420991891 39.09939750895404], [13.393495588559643, 13.393495588559643, 13.393495588559643, 13.393495588559643, 13.393495588559643, 13.393495588559643, 13.393495588559643, 13.393495588559643, 13.393495588559643, 13.393495588559643  …  13.393495588559643, 13.393495588559643, 13.393495588559643, 13.393495588559643, 13.393495588559643, 13.393495588559643, 13.393495588559643, 13.393495588559643, 13.393495588559643, 13.393495588559643], [2.230826856e-314, 2.2308439863e-314], [1.6283489070380757, 1.2072672832942342, 1.0741768528924172, 1.2464645934900402, 1.7027688541510133, 1.0440471368950035, 0.8011036979640481, 1.0805603319018435, 1.4237331845868217, 0.9142932489437245  …  1.732158049633573, 0.4974797798508079, 0.8356896613195915, 1.2468084697646908, 1.4219456737976772, 0.6236369369351354, 1.5043028146376796, 1.4177084805516045, 1.11427806647183, 1.7340303248211373], [0.8359433300341234, 0.769815069194536, 0.7453904259129689, 0.776687265452847, 0.84589601729868, 0.7396301486818551, 0.6902105233081769, 0.746600006301564, 0.8059229949440978, 0.7138778902819277  …  0.8496882503591894, 0.6218668875822047, 0.6975566330147009, 0.77674690310858, 0.8056432554790474, 0.6510452605253846, 0.8182153490122964, 0.8049789270796031, 0.7529258147106973, 0.8499272173159312], [0.13714207900558406, 0.17719982843554774, 0.18978353887025173, 0.17344415713622574, 0.13035594521691124, 0.19257739184271203, 0.2138199568228295, 0.1891884368920686, 0.1564111211644335, 0.2042562480485517  …  0.1277181275607289, 0.2351484617110263, 0.21097137675189478, 0.17341115161981024, 0.1565822003801698, 0.2271853292728187, 0.14873899165298238, 0.15698785403737417, 0.18602853225293, 0.12755094258152902], [0.13714207900558406, 0.17719982843554774, 0.18978353887025168, 0.17344415713622569, 0.1303559452169112, 0.19257739184271203, 0.21381995682282945, 0.18918843689206866, 0.15641112116443348, 0.2042562480485517  …  0.1277181275607289, 0.2351484617110263, 0.21097137675189476, 0.17341115161981027, 0.1565822003801698, 0.22718532927281865, 0.14873899165298238, 0.1569878540373742, 0.18602853225293, 0.12755094258152908], Bernoulli{Float64}(p=0.5), [1.0, 1.0, 0.9999999999999997, 0.9999999999999997, 0.9999999999999998, 1.0, 0.9999999999999998, 1.0000000000000002, 0.9999999999999998, 1.0  …  1.0, 1.0, 0.9999999999999999, 1.0000000000000002, 1.0, 0.9999999999999998, 1.0, 1.0000000000000002, 1.0, 1.0000000000000004], [0.13714207900558406, 0.17719982843554774, 0.18978353887025165, 0.17344415713622563, 0.13035594521691118, 0.19257739184271203, 0.21381995682282942, 0.1891884368920687, 0.15641112116443345, 0.20425624804855166  …  0.1277181275607289, 0.2351484617110263, 0.21097137675189473, 0.1734111516198103, 0.1565822003801698, 0.2271853292728186, 0.14873899165298238, 0.15698785403737422, 0.18602853225293, 0.12755094258152913]), GLMCopulaVCObs{Float64,Bernoulli{Float64}}([1.0, 0.0, 1.0, 1.0, 0.0, 1.0, 1.0, 1.0, 1.0, 1.0  …  1.0, 0.0, 1.0, 1.0, 1.0, 0.0, 1.0, 1.0, 1.0, 1.0], [1.0 0.8335845191879703; 1.0 0.2681774059902964; … ; 1.0 0.8634840446062473; 1.0 0.358749234938734], [[1.0 1.0 … 1.0 1.0; 1.0 1.0 … 1.0 1.0; … ; 1.0 1.0 … 1.0 1.0; 1.0 1.0 … 1.0 1.0]], [-1.7261232474543715, -0.3170804911277895], [-0.2341663629482151 -0.19519745506818365; -0.6929560346098974 -0.18583515182700436; … ; -0.22887489114909923 -0.19762981671823884; -0.33663970412991595 -0.12076923630660914], [2.230827204e-314], [2.2308434487e-314], [-19.117513353967748 -8.9042227556347; -9.04964850956846 -5.955525162037408], [2.230843512e-314], [0.4683327258964301, -1.3859120692197946, 0.6666921932470142, 0.44220933250906375, -1.924110950004479, 0.48624685245977617, 0.5680050740177645, 0.8141647366511213, 0.5724039963863746, 0.4579334644443771  …  0.7673780164634026, -1.9489179612725573, 0.4690858144308141, 0.5006959789342227, 0.5509944393337616, -1.697194834504317, 0.7162019498660513, 0.8785652593779464, 0.45774978229819857, 0.6732794082598319], [50.0], [12.186072872958267], [100.0 53.37539266849166; 53.37539266849166 37.456354833697176], [-4.936815344522879, -4.936815344522879, -4.936815344522879, -4.936815344522879, -4.936815344522879, -4.936815344522879, -4.936815344522879, -4.936815344522879, -4.936815344522879, -4.936815344522879  …  -4.936815344522879, -4.936815344522879, -4.936815344522879, -4.936815344522879, -4.936815344522879, -4.936815344522879, -4.936815344522879, -4.936815344522879, -4.936815344522879, -4.9368153445228815], [2.2308437333e-314, 2.593414922e-314], [1.5171525658030807, 0.6527169132676292, 0.8108536379413631, 1.6319438121144834, 1.3089280338067408, 1.4420777143217323, 1.131249854342038, 0.4111851085544367, 1.11582049903426, 1.5620627591203524  …  0.5295514967130344, 1.3345486538224147, 1.5139391081467641, 1.3835123811335932, 1.1920611236667848, 1.0579535816032792, 0.667586197810764, 0.25893017821556047, 1.562865142037353, 0.7911897344098696], [0.8201187986699452, 0.6576224514282059, 0.6922913795355233, 0.8364357475748495, 0.7873337218588518, 0.8087761912181196, 0.7560694815249056, 0.6013720115755891, 0.7532126392232509, 0.8266491462546668  …  0.6293784996228141, 0.7915920401081096, 0.819644248932747, 0.7995545116876398, 0.7671094918701334, 0.7422992779033261, 0.6609624579882802, 0.5643732877506294, 0.8267640978609543, 0.688086732526434], [0.14752395473811108, 0.2251551628057629, 0.2130240253563253, 0.13681098775375214, 0.16743933228274002, 0.15465726373683122, 0.18442842063156603, 0.23972371526911865, 0.18588335933759578, 0.1433003352510973  …  0.23326120383534948, 0.16497408214559062, 0.14782755412422005, 0.16026709452757967, 0.17865251935287912, 0.19129105992752676, 0.2240910871183711, 0.24585607982417465, 0.1432252243491167, 0.21462338104752965], [0.14752395473811114, 0.22515516280576292, 0.2130240253563253, 0.1368109877537522, 0.16743933228274008, 0.15465726373683125, 0.18442842063156598, 0.23972371526911862, 0.18588335933759584, 0.14330033525109734  …  0.2332612038353495, 0.1649740821455906, 0.14782755412422002, 0.16026709452757967, 0.17865251935287912, 0.19129105992752682, 0.22409108711837117, 0.24585607982417465, 0.14322522434911666, 0.21462338104752968], Bernoulli{Float64}(p=0.5), [1.0000000000000004, 1.0000000000000002, 1.0, 1.0000000000000004, 1.0000000000000002, 1.0000000000000002, 0.9999999999999997, 0.9999999999999999, 1.0000000000000002, 1.0000000000000002  …  1.0000000000000002, 0.9999999999999998, 0.9999999999999998, 1.0, 1.0, 1.0000000000000002, 1.0000000000000002, 1.0, 0.9999999999999998, 1.0000000000000002], [0.1475239547381112, 0.22515516280576295, 0.2130240253563253, 0.13681098775375225, 0.16743933228274013, 0.15465726373683128, 0.18442842063156592, 0.2397237152691186, 0.1858833593375959, 0.14330033525109737  …  0.23326120383534954, 0.16497408214559056, 0.14782755412422, 0.16026709452757967, 0.1786525193528791, 0.19129105992752687, 0.22409108711837122, 0.24585607982417462, 0.14322522434911664, 0.2146233810475297]), GLMCopulaVCObs{Float64,Bernoulli{Float64}}([1.0, 1.0, 1.0, 1.0, 1.0, 0.0, 1.0, 1.0, 1.0, 1.0  …  1.0, 1.0, 1.0, 1.0, 1.0, 0.0, 1.0, 1.0, 1.0, 1.0], [1.0 0.945054746612265; 1.0 0.7193860407169732; … ; 1.0 0.6660803560893436; 1.0 0.8055893255721818], [[1.0 1.0 … 1.0 1.0; 1.0 1.0 … 1.0 1.0; … ; 1.0 1.0 … 1.0 1.0; 1.0 1.0 … 1.0 1.0]], [-0.6035799508879915, 0.8094555135238559], [-0.2150391074438146 -0.20322372919704185; -0.2555273116921176 -0.18382278105324443; … ; -0.26615480393957913 -0.17728048658296425; -0.23923165802651458 -0.19272247004509468], [2.3977e-320], [NaN], [-19.14489942567843 -8.6209773697875; -8.620986940224636 -5.520118993445483], [2.470780248e-314], [0.4300782148876291, 0.5110546233842351, 0.7865270407891669, 0.8639689579849108, 0.6614817013970379, -1.8286491107173979, 0.5371225686980998, 0.8064301941846925, 0.6502507211025529, 0.6204735628540451  …  0.5391277204531347, 0.4879730377930849, 0.5095437878147367, 0.7779912975307685, 0.6323541240466787, -1.834148111112517, 0.7141410689997695, 0.4483255110819745, 0.532309607879158, 0.4784633160530293], [50.0], [0.024972027736421376], [100.0 51.02755897559135; 51.02755897559135 35.02363346478304], [-0.22348166697259098, -0.22348166697259098, -0.22348166697259098, -0.22348166697259098, -0.22348166697259098, -0.22348166697259098, -0.22348166697259098, -0.22348166697259098, -0.22348166697259098, -0.22348166697259098  …  -0.22348166697259098, -0.22348166697259098, -0.22348166697259098, -0.22348166697259098, -0.22348166697259098, -0.22348166697259098, -0.22348166697259098, -0.22348166697259098, -0.22348166697259098, -0.22348166697259375], [2.4707806273e-314, 2.59071881e-314], [1.6875763834958497, 1.3425575988290461, 0.48025635181228643, 0.2924368781634439, 0.8265459161938075, 1.2071550067829653, 1.243057926815251, 0.4302758783612577, 0.8607945313839441, 0.9545445628865994  …  1.2356055559484234, 1.4349902501587142, 1.3484789745887737, 0.5020798811188109, 0.9166114377976967, 1.2131602581726062, 0.6733495210562356, 1.6044714463346303, 1.2610599784430359, 1.4743514709879544], [0.843905164758536, 0.7929102230021802, 0.6178084066892418, 0.5725926161072897, 0.6956240870159447, 0.7697951732132959, 0.7760958421302121, 0.6059395437125402, 0.702826627987607, 0.7220282072817683  …  0.7747981715111985, 0.8076776639410367, 0.7938808479078819, 0.6229479863486751, 0.7143511599760268, 0.7708576426091011, 0.6622527667962447, 0.8326424039695118, 0.7792085231973828, 0.8137178873657793], [0.13172923765240419, 0.16420360126081307, 0.23612117931334223, 0.24473031208669965, 0.2117312165791781, 0.17721056451080763, 0.173771085958409, 0.23877681307797877, 0.20886135897917688, 0.20070347517124412  …  0.17448596493410196, 0.1553344551117865, 0.16363404723294436, 0.234883792652806, 0.20405358021693176, 0.17663613744024048, 0.22367403966696345, 0.1393490310813841, 0.17204260057393658, 0.1515810871467522], [0.13172923765240419, 0.16420360126081307, 0.23612117931334217, 0.24473031208669965, 0.21173121657917812, 0.17721056451080766, 0.173771085958409, 0.23877681307797877, 0.20886135897917685, 0.2007034751712441  …  0.17448596493410196, 0.1553344551117865, 0.16363404723294434, 0.23488379265280596, 0.20405358021693176, 0.17663613744024043, 0.22367403966696342, 0.1393490310813841, 0.17204260057393664, 0.15158108714675217], Bernoulli{Float64}(p=0.5), [1.0, 1.0, 0.9999999999999998, 1.0, 1.0000000000000002, 1.0000000000000002, 1.0, 1.0, 0.9999999999999999, 0.9999999999999999  …  1.0, 1.0, 0.9999999999999998, 0.9999999999999998, 1.0, 0.9999999999999997, 0.9999999999999999, 1.0, 1.0000000000000002, 0.9999999999999998], [0.13172923765240419, 0.16420360126081307, 0.23612117931334212, 0.24473031208669965, 0.21173121657917815, 0.1772105645108077, 0.173771085958409, 0.23877681307797877, 0.20886135897917682, 0.20070347517124407  …  0.17448596493410196, 0.1553344551117865, 0.1636340472329443, 0.2348837926528059, 0.20405358021693176, 0.17663613744024037, 0.2236740396669634, 0.1393490310813841, 0.1720426005739367, 0.15158108714675214]), GLMCopulaVCObs{Float64,Bernoulli{Float64}}([1.0, 1.0, 1.0, 0.0, 1.0, 1.0, 1.0, 1.0, 1.0, 1.0  …  1.0, 1.0, 0.0, 1.0, 1.0, 1.0, 1.0, 0.0, 0.0, 1.0], [1.0 0.4436689185962792; 1.0 0.9239451731818169; … ; 1.0 0.14604080828007016; 1.0 0.1535718046929897], [[1.0 1.0 … 1.0 1.0; 1.0 1.0 … 1.0 1.0; … ; 1.0 1.0 … 1.0 1.0; 1.0 1.0 … 1.0 1.0]], [-1.7423414618436115, -2.1721133367405954], [-0.31548070610681206 -0.13996898371639988; -0.2185373274135292 -0.20191650882378462; … ; -0.6311861857507158 -0.09217894074224904; -0.3938059773830534 -0.0604774946456022], [2.472344357e-314], [2.472344357e-314], [-19.8332363711416 -8.6822035580759; -8.980086136714553 -5.574862198165687], [2.128e-320], [0.6309614122136241, 0.43707465482705843, 0.762957220624091, -1.7747383148360505, 0.8139222452122093, 0.5683067627748525, 0.4306341369782784, 0.5748029718356825, 0.6103045007025466, 0.6247734429353218  …  0.5796638428274423, 0.6390326513820382, -1.8797853134692206, 0.5314957448533543, 0.46286189086612645, 0.6539577580574976, 0.722798779204703, -1.2035918599484206, -1.2623723715014317, 0.7876119547661067], [50.0], [23.540046687007735], [100.0 50.59732628729702; 50.59732628729702 33.78672647681805], [-6.861493523571632, -6.861493523571632, -6.861493523571632, -6.861493523571632, -6.861493523571632, -6.861493523571632, -6.861493523571632, -6.861493523571632, -6.861493523571632, -6.861493523571632  …  -6.861493523571632, -6.861493523571632, -6.861493523571632, -6.861493523571632, -6.861493523571632, -6.861493523571632, -6.861493523571632, -6.861493523571632, -6.861493523571632, -6.8614935235716334], [2.4723980323e-314, 2.579652269e-314], [0.9210211433931342, 1.6553025272652602, 0.5411066332071994, 1.147305967594769, 0.4117808787888443, 1.130187861482654, 1.6849928389853126, 1.1074559091648326, 0.9875945297696471, 0.9407323725301495  …  1.0906138495917066, 0.8955994565711369, 1.2623151507158719, 1.264120174304988, 1.5406531225191769, 0.8494250394742415, 0.6492488184925103, 0.3706206053276565, 0.46598557035439037, 0.4774995072088923], [0.7152501250090619, 0.8396064149558171, 0.6320698112525923, 0.7590184969597432, 0.6015148232003775, 0.75587356659966, 0.8435645339506579, 0.7516545100950849, 0.7286125351995859, 0.7192475695137394  …  0.7484972958625875, 0.7100443508129805, 0.7794243906192555, 0.7797345573803789, 0.823559649957407, 0.7004465174753807, 0.6568411656780329, 0.5916089300434909, 0.6144331556909519, 0.6171572462191642], [0.2036673836835832, 0.13466748292085737, 0.23255756495570465, 0.1829094182327155, 0.2396947406705961, 0.18452871791556938, 0.13196341101126724, 0.1866700075488028, 0.1977363087496181, 0.20193050326231804  …  0.18824909394898165, 0.2058813706915536, 0.17192200992705772, 0.1717485774072035, 0.14530915291944022, 0.20982119363199192, 0.22540084874875585, 0.24160780393628678, 0.23690505287861036, 0.23627417965834213], [0.20366738368358323, 0.13466748292085734, 0.23255756495570462, 0.18290941823271553, 0.23969474067059607, 0.18452871791556943, 0.1319634110112672, 0.18667000754880295, 0.19773630874961806, 0.20193050326231804  …  0.18824909394898165, 0.2058813706915536, 0.17192200992705778, 0.17174857740720353, 0.1453091529194402, 0.20982119363199192, 0.22540084874875588, 0.24160780393628678, 0.23690505287861036, 0.23627417965834213], Bernoulli{Float64}(p=0.5), [1.0000000000000002, 0.9999999999999998, 0.9999999999999999, 1.0000000000000002, 0.9999999999999999, 1.0000000000000002, 0.9999999999999998, 1.0000000000000007, 0.9999999999999999, 1.0  …  1.0, 1.0, 1.0000000000000002, 1.0000000000000002, 0.9999999999999998, 1.0, 1.0000000000000002, 1.0, 1.0, 1.0], [0.20366738368358325, 0.1346674829208573, 0.2325575649557046, 0.1829094182327156, 0.23969474067059604, 0.18452871791556946, 0.13196341101126718, 0.18667000754880309, 0.19773630874961806, 0.20193050326231807  …  0.18824909394898168, 0.20588137069155363, 0.17192200992705783, 0.17174857740720356, 0.14530915291944016, 0.20982119363199192, 0.2254008487487559, 0.24160780393628678, 0.23690505287861033, 0.23627417965834213]), GLMCopulaVCObs{Float64,Bernoulli{Float64}}([1.0, 1.0, 1.0, 1.0, 1.0, 0.0, 1.0, 1.0, 1.0, 1.0  …  1.0, 0.0, 1.0, 0.0, 1.0, 1.0, 1.0, 1.0, 1.0, 1.0], [1.0 0.9045770192354754; 1.0 0.5401677553739683; … ; 1.0 0.1764649238688467; 1.0 0.2873649576248365], [[1.0 1.0 … 1.0 1.0; 1.0 1.0 … 1.0 1.0; … ; 1.0 1.0 … 1.0 1.0; 1.0 1.0 … 1.0 1.0]], [-1.2289808501939103, -1.846513151901395], [-0.22179700203817293 -0.20063247097905512; -0.29304620567173534 -0.15829411113855957; … ; -0.3869741942422138 -0.06828737172616056; -0.35552016738162184 -0.10216403783439454], [2.579652585e-314], [2.253876987e-314], [-19.896616055270247 -8.368770589730799; -8.568157252637857 -5.245903602681426], [2.253877042e-314], [0.4435940040763457, 0.5860924113434706, 0.5149501152502333, 0.8323644033202647, 0.7852372193503981, -1.4956448821666175, 0.6372308863494077, 0.8061562488627951, 0.8423728011342292, 0.4789706925036953  …  0.5539652453864878, -1.3782984597106178, 0.4844205267386061, -1.2078189260647476, 0.7585703686443892, 0.8585045315711943, 0.8274971928367936, 0.8461205721739402, 0.7739483884844275, 0.7110403347632437], [50.0], [15.895286346755906], [100.0 48.53586752085827; 48.53586752085827 32.10831809284367], [-5.63831292972568, -5.63831292972568, -5.63831292972568, -5.63831292972568, -5.63831292972568, -5.63831292972568, -5.63831292972568, -5.63831292972568, -5.63831292972568, -5.63831292972568  …  -5.63831292972568, -5.63831292972568, -5.63831292972568, -5.63831292972568, -5.63831292972568, -5.63831292972568, -5.63831292972568, -5.63831292972568, -5.63831292972568, -5.63831292972568], [2.230826453e-314, 2.593981319e-314], [1.6256910802137279, 1.0685556065997723, 1.327370493203523, 0.3669698985766455, 0.4835388331894458, 0.8051149462854866, 0.9012464602701693, 0.43095539622701634, 0.3430652120722974, 1.4722317363905741  …  1.181306656324237, 0.6416994763784798, 1.4496037852104382, 0.37763238527076715, 0.5526394221394505, 0.30512664036612824, 0.3786991281578329, 0.33418681846160186, 0.5125001783207803, 0.6820522423262902], [0.8355785046075246, 0.7443221351113571, 0.7904053508912828, 0.5907265966973, 0.6185831697635354, 0.6910675532038532, 0.7112055832265805, 0.6061017851373074, 0.5849349069150793, 0.8133963619974988  …  0.7651826627076644, 0.6551375284616627, 0.8099374486540936, 0.5933019363723471, 0.634747740039951, 0.5756952858096155, 0.5935593101885658, 0.5827777441819042, 0.6253923914969647, 0.6641965826036913], [0.1373870672453776, 0.19030669429462774, 0.1656647321737109, 0.24176868465172546, 0.23593803184883252, 0.21349319011269274, 0.20539220161392, 0.23874241119067666, 0.24278606158732682, 0.1517827202867327  …  0.17967815539927307, 0.22593234726280678, 0.15393877792179111, 0.2412947486691705, 0.23184304655412577, 0.24427022370620063, 0.24124665547703972, 0.24314784506815523, 0.23427674815467195, 0.22303948226126918], [0.13738706724537764, 0.19030669429462777, 0.1656647321737109, 0.24176868465172546, 0.23593803184883255, 0.21349319011269272, 0.20539220161392002, 0.23874241119067666, 0.2427860615873268, 0.15178272028673273  …  0.17967815539927315, 0.22593234726280678, 0.15393877792179106, 0.2412947486691705, 0.23184304655412583, 0.2442702237062006, 0.24124665547703977, 0.24314784506815523, 0.23427674815467198, 0.22303948226126918], Bernoulli{Float64}(p=0.5), [1.0000000000000002, 1.0000000000000002, 1.0, 1.0, 1.0000000000000002, 0.9999999999999999, 1.0000000000000002, 1.0, 0.9999999999999999, 1.0000000000000002  …  1.0000000000000004, 1.0, 0.9999999999999997, 1.0, 1.0000000000000002, 0.9999999999999999, 1.0000000000000002, 1.0, 1.0000000000000002, 1.0], [0.13738706724537766, 0.19030669429462777, 0.1656647321737109, 0.24176868465172546, 0.23593803184883258, 0.2134931901126927, 0.20539220161392008, 0.23874241119067666, 0.24278606158732677, 0.15178272028673276  …  0.17967815539927326, 0.22593234726280678, 0.153938777921791, 0.2412947486691705, 0.2318430465541259, 0.24427022370620058, 0.24124665547703983, 0.24314784506815526, 0.234276748154672, 0.22303948226126918]), GLMCopulaVCObs{Float64,Bernoulli{Float64}}([0.0, 1.0, 0.0, 0.0, 1.0, 1.0, 1.0, 1.0, 1.0, 1.0  …  0.0, 1.0, 0.0, 0.0, 1.0, 0.0, 0.0, 1.0, 1.0, 1.0], [1.0 0.941598476073878; 1.0 0.6560863837283644; … ; 1.0 0.6782831369408902; 1.0 0.4450729169022576], [[1.0 1.0 … 1.0 1.0; 1.0 1.0 … 1.0 1.0; … ; 1.0 1.0 … 1.0 1.0; 1.0 1.0 … 1.0 1.0]], [-6.557858412122895, -3.480153656151066], [-1.159511634681484 -1.0917943882060164; -0.26819594899215815 -0.1759597103048619; … ; -0.2636835891250161 -0.17885213199154865; -0.31514229254519727 -0.14026129938235554], [2.230826295e-314], [2.23082635e-314], [-21.723210272121275 -8.980600971120422; -10.451858580040366 -6.535717734038911], [2.2308263264e-314], [-2.3190232693629675, 0.5363918979843162, -1.307148079363311, -1.7860887593368444, 0.473822439095678, 0.6233596910584718, 0.4603765404317651, 0.7101615430134327, 0.7870596504997834, 0.46086554065829405  …  -1.1947326754928036, 0.8701837541294287, -1.2491718869435648, -1.4058314383236383, 0.8568529707832239, -1.2312575955746905, -1.3304537354418768, 0.48239998207536133, 0.5273671782500324, 0.6302845850903945], [50.0], [194.12335861317828], [100.0 52.97932322295815; 52.97932322295815 36.172368719779705], [-19.703977193103846, -19.703977193103846, -19.703977193103846, -19.703977193103846, -19.703977193103846, -19.703977193103846, -19.703977193103846, -19.703977193103846, -19.703977193103846, -19.703977193103846  …  -19.703977193103846, -19.703977193103846, -19.703977193103846, -19.703977193103846, -19.703977193103846, -19.703977193103846, -19.703977193103846, -19.703977193103846, -19.703977193103846, -19.70397719310385], [2.254133964e-314, 2.4667873674e-314], [1.682292184891958, 1.2457804642352546, 0.535695450730934, 1.1600563569930147, 1.493845257063073, 0.9452631471501237, 1.5514211163710931, 0.6845256189114317, 0.4789024772938918, 1.549297894766295  …  0.35584491568370347, 0.2781017559850502, 0.44496168265059466, 0.6812577976142445, 0.30897787556587214, 0.41607216495961197, 0.5710400770425708, 1.4579633414527464, 1.2797164802484278, 0.9231676784533728], [0.8432078156606525, 0.7765685847704586, 0.630810502935651, 0.7613429550514627, 0.8166547232854534, 0.7201615616249766, 0.8251188904250751, 0.6647480190062142, 0.6174886772940191, 0.824812302893833  …  0.5880342344979663, 0.5690807828233858, 0.6094406632660305, 0.6640193669588383, 0.5766357525657875, 0.6025429724566373, 0.6390031328451045, 0.811220975510898, 0.7824015112241027, 0.7156871021192289], [0.13220839526944356, 0.17350981791806563, 0.23288861232172203, 0.18169985984496917, 0.14972978622101293, 0.20152888678285164, 0.144297707088768, 0.2228580902335281, 0.23619641070770184, 0.1444969678888049  …  0.24224997355635708, 0.2452278454445082, 0.2380227412238913, 0.22309764726242193, 0.2441269614286754, 0.23948493879975732, 0.23067812905924623, 0.15314150440204502, 0.17024938645834298, 0.20347907397940931], [0.13220839526944358, 0.17350981791806566, 0.23288861232172206, 0.18169985984496914, 0.14972978622101293, 0.20152888678285166, 0.144297707088768, 0.2228580902335281, 0.23619641070770186, 0.1444969678888048  …  0.2422499735563571, 0.2452278454445082, 0.23802274122389136, 0.22309764726242193, 0.2441269614286754, 0.2394849387997573, 0.23067812905924628, 0.15314150440204505, 0.1702493864583429, 0.20347907397940934], Bernoulli{Float64}(p=0.5), [1.0000000000000002, 1.0000000000000002, 1.0000000000000002, 0.9999999999999999, 1.0, 1.0000000000000002, 1.0, 1.0, 1.0000000000000002, 0.9999999999999994  …  1.0000000000000002, 1.0, 1.0000000000000002, 1.0, 1.0, 0.9999999999999999, 1.0000000000000002, 1.0000000000000002, 0.9999999999999996, 1.0000000000000002], [0.1322083952694436, 0.1735098179180657, 0.2328886123217221, 0.1816998598449691, 0.14972978622101293, 0.2015288867828517, 0.144297707088768, 0.2228580902335281, 0.2361964107077019, 0.14449696788880473  …  0.24224997355635713, 0.2452278454445082, 0.23802274122389142, 0.22309764726242193, 0.2441269614286754, 0.23948493879975727, 0.23067812905924634, 0.15314150440204508, 0.1702493864583428, 0.20347907397940937]), GLMCopulaVCObs{Float64,Bernoulli{Float64}}([0.0, 1.0, 1.0, 0.0, 1.0, 0.0, 1.0, 0.0, 1.0, 1.0  …  1.0, 1.0, 0.0, 0.0, 1.0, 1.0, 1.0, 1.0, 1.0, 1.0], [1.0 0.037589749645796866; 1.0 0.7487247425366441; … ; 1.0 0.4990998506448563; 1.0 0.12787095986330188], [[1.0 1.0 … 1.0 1.0; 1.0 1.0 … 1.0 1.0; … ; 1.0 1.0 … 1.0 1.0; 1.0 1.0 … 1.0 1.0]], [2.762509894735519, 2.309440886110337], [-0.5809687318158541 -0.021838469180994056; -0.24986024084200237 -0.1870765444945721; … ; -0.3023919730675133 -0.15092378859419928; -0.4016194539455044 -0.05135546507578681], [2.230826516e-314], [2.281577208e-314], [-20.160701517984894 -8.485391939382291; -8.877989379262981 -5.532079464143296], [2.230826516e-314], [-1.1619374636317081, 0.49972048168400457, 0.627966407430402, -2.296979540896173, 0.700358873553117, -1.1369600281856462, 0.5721287648678867, -1.5404117303911793, 0.43205567367043707, 0.5473793159604045  …  0.438871885052414, 0.7590518383061011, -1.1399338701000907, -2.0633852682206997, 0.4634300024764752, 0.47206260645427517, 0.4777033775449677, 0.5467508672513322, 0.6047839461350264, 0.8032389078910088], [50.0], [41.16901440966408], [100.0 49.85428806082757; 49.85428806082757 33.76434258022087], [9.074030461670722, 9.074030461670722, 9.074030461670722, 9.074030461670722, 9.074030461670722, 9.074030461670722, 9.074030461670722, 9.074030461670722, 9.074030461670722, 9.074030461670722  …  9.074030461670722, 9.074030461670722, 9.074030461670722, 9.074030461670722, 9.074030461670722, 9.074030461670722, 9.074030461670722, 9.074030461670722, 9.074030461670722, 9.07403046167072], [2.230826263e-314, 2.2308266663e-314], [0.30017767821720276, 1.387412747022351, 0.9305372105950297, 1.6631900335741832, 0.7123247976159585, 0.2567161172817672, 1.1167823990623265, 0.8640994761775753, 1.6784016496089498, 1.2052265381175347  …  1.647095484184531, 0.551370411510429, 0.26194050407940883, 1.4486959361864513, 1.5381998496980915, 1.5012873227992762, 1.477530576360102, 1.2075240664659037, 1.0057679971160511, 0.43820618023708197], [0.5744859511540483, 0.8001788817081142, 0.7171842611653739, 0.8406657624660757, 0.6709146514483388, 0.5638288700374662, 0.7533913968788797, 0.703516440218284, 0.8426927671590537, 0.769453250398874  …  0.8384981103154538, 0.634453478471455, 0.5651132507143025, 0.8097976561600947, 0.8232028839470716, 0.8177663973339543, 0.8141992990765613, 0.7698605679759148, 0.7321911231606606, 0.6078315164977977], [0.24445184308067672, 0.15989263897646597, 0.20283099670205065, 0.13394683828340728, 0.22078818192029284, 0.24592587534974025, 0.1857927999877701, 0.20858105856087764, 0.13256166733687058, 0.1773949458494817  …  0.13541902931286684, 0.231922262126926, 0.2457602645814164, 0.15402541223771174, 0.14553989580829574, 0.1490245167253995, 0.15127880045979758, 0.17717527385171664, 0.19608728232539094, 0.23837236404978518], [0.24445184308067672, 0.15989263897646597, 0.2028309967020507, 0.13394683828340728, 0.2207881819202929, 0.24592587534974023, 0.18579279998777018, 0.20858105856087764, 0.13256166733687058, 0.1773949458494817  …  0.1354190293128669, 0.23192226212692596, 0.2457602645814164, 0.15402541223771177, 0.14553989580829574, 0.14902451672539951, 0.15127880045979755, 0.17717527385171666, 0.196087282325391, 0.23837236404978518], Bernoulli{Float64}(p=0.5), [1.0, 1.0, 1.0000000000000002, 1.0, 1.0000000000000002, 0.9999999999999999, 1.0000000000000004, 1.0, 1.0, 1.0  …  1.0000000000000004, 0.9999999999999999, 1.0, 1.0000000000000002, 1.0, 1.0000000000000002, 0.9999999999999998, 1.0000000000000002, 1.0000000000000002, 1.0], [0.24445184308067672, 0.15989263897646597, 0.20283099670205076, 0.13394683828340728, 0.22078818192029293, 0.2459258753497402, 0.18579279998777026, 0.20858105856087764, 0.13256166733687058, 0.17739494584948173  …  0.13541902931286695, 0.23192226212692593, 0.2457602645814164, 0.1540254122377118, 0.14553989580829574, 0.14902451672539954, 0.15127880045979752, 0.17717527385171666, 0.19608728232539102, 0.23837236404978518]), GLMCopulaVCObs{Float64,Bernoulli{Float64}}([1.0, 0.0, 1.0, 1.0, 1.0, 1.0, 0.0, 1.0, 1.0, 0.0  …  0.0, 1.0, 1.0, 1.0, 0.0, 1.0, 1.0, 0.0, 1.0, 1.0], [1.0 0.9960820578809302; 1.0 0.5429568896955266; … ; 1.0 0.5364609684263; 1.0 0.1112859163173312], [[1.0 1.0 … 1.0 1.0; 1.0 1.0 … 1.0 1.0; … ; 1.0 1.0 … 1.0 1.0; 1.0 1.0 … 1.0 1.0]], [6.107684659712719, 4.298011848252792], [-0.2068125377477768 -0.20600225819538306; -0.8549286522203781 -0.464189401921165; … ; -0.29387775992456183 -0.15765394768808216; -0.4067436850918157 -0.04526484370173072], [2.2308264845e-314], [2.593980339e-314], [-20.542690390084303 -9.077182321777887; -9.880665216495318 -6.23405107487941], [1.0e-323], [0.41362507549555344, -1.7098573044407561, 0.7151799006068066, 0.6830497955751547, 0.452402868963012, 0.5372147711412033, -1.6371770567010264, 0.43990252622538467, 0.8215494670954281, -1.5533883431060558  …  -1.1627911648156661, 0.7710342269683986, 0.4344118509931459, 0.5562946970363181, -1.760964438990908, 0.689029632550155, 0.5212228669372391, -1.29921890656369, 0.5877555198491236, 0.8134873701836315], [50.0], [173.7330013322831], [100.0 53.90354977958781; 53.90354977958781 37.23449819478767], [18.64043998044483, 18.64043998044483, 18.64043998044483, 18.64043998044483, 18.64043998044483, 18.64043998044483, 18.64043998044483, 18.64043998044483, 18.64043998044483, 18.64043998044483  …  18.64043998044483, 18.64043998044483, 18.64043998044483, 18.64043998044483, 18.64043998044483, 18.64043998044483, 18.64043998044483, 18.64043998044483, 18.64043998044483, 18.640439980444842], [4.0e-323, 2.5939618093e-314], [1.7655906604372809, 1.0728198386743029, 0.670442317392274, 0.7623750298621772, 1.5863643862181194, 1.2427146363424701, 0.9859469035911373, 1.642404215834917, 0.39312625548402164, 0.8808771457183148  …  0.3016465829519516, 0.520045026898048, 1.6675244588855334, 1.1729141890146408, 1.1317232713300693, 0.7449420016758422, 1.30315512212281, 0.5235264855705695, 1.0628884002291348, 0.41284975544980174], [0.8539084691846806, 0.7451328012033028, 0.6616021943906029, 0.6818691562323131, 0.8301039826830694, 0.7760361825179417, 0.7282866169916193, 0.8378618140470401, 0.5970350545847324, 0.7070039542564233  …  0.5748449882759656, 0.6271582950476279, 0.8412454881074257, 0.7636713650841975, 0.7561567824873879, 0.6780755892813043, 0.7863655060399837, 0.6279720061539641, 0.7432421352980051, 0.6017709994931684], [0.12474879543935602, 0.189909909774222, 0.2238847307681418, 0.21692361001134647, 0.14103136061677582, 0.17380402594092156, 0.1978852205025217, 0.13584939460884332, 0.240584198181738, 0.20714936292220462  …  0.24439822772997058, 0.23383076800058042, 0.13355151684632477, 0.18047741123463582, 0.18438370278570904, 0.21828908450211623, 0.16799479695046407, 0.23362316564092978, 0.190833263615667, 0.23964266366216153], [0.12474879543935606, 0.18990990977422198, 0.22388473076814178, 0.21692361001134644, 0.14103136061677582, 0.1738040259409216, 0.1978852205025217, 0.13584939460884335, 0.24058419818173798, 0.20714936292220462  …  0.24439822772997052, 0.2338307680005804, 0.13355151684632477, 0.18047741123463582, 0.184383702785709, 0.2182890845021162, 0.1679947969504641, 0.23362316564092975, 0.190833263615667, 0.2396426636621615], Bernoulli{Float64}(p=0.5), [1.0000000000000004, 0.9999999999999999, 0.9999999999999999, 0.9999999999999999, 1.0, 1.0000000000000002, 1.0, 1.0000000000000002, 0.9999999999999999, 1.0  …  0.9999999999999998, 0.9999999999999999, 1.0, 1.0, 0.9999999999999999, 0.9999999999999999, 1.0000000000000002, 0.9999999999999999, 1.0, 0.9999999999999999], [0.1247487954393561, 0.18990990977422195, 0.22388473076814175, 0.21692361001134644, 0.14103136061677582, 0.17380402594092162, 0.19788522050252172, 0.13584939460884338, 0.24058419818173796, 0.20714936292220462  …  0.24439822772997047, 0.23383076800058036, 0.13355151684632477, 0.18047741123463582, 0.18438370278570898, 0.21828908450211618, 0.16799479695046413, 0.23362316564092972, 0.190833263615667, 0.23964266366216147])], 725.0, 1000, 2, 1, [0.24270772602657942, 1.5288729702154156], [1.0], [0.002845355678365047], [-4.2159520319273724e-10, 7.840386118118658e-10], [2.4633716505e-314], [0.0], [1000.0 508.21481489985433; 508.21481489985433 343.53106754769453], [-201.07895955373107 -86.61739040166965; -91.16666635319419 -56.99683444586273], [2.1219957915e-314], [50.0; 50.0; … ; 50.0; 50.0], [39.42149038925413; 3.623321531123673; … ; 41.16901440966408; 173.7330013322831], [0.8754514590497237, 0.8754514590497237, 0.8754514590497237, 0.8754514590497237, 0.8754514590497237, 0.8754514590497237, 0.8754514590497237, 0.8754514590497237, 0.8754514590497237, 0.8754514590497237], [-4.439473094697277e-11], [0.0028453557227597777], Bernoulli{Float64}(p=0.5))"
      ]
     },
     "execution_count": 45,
     "metadata": {},
     "output_type": "execute_result"
    }
   ],
   "source": [
    "gcm = GLMCopulaVCModel(gcs);\n",
    "\n",
    "initialize_model!(gcm)\n",
    "@show gcm.β\n",
    "fill!(gcm.Σ, 1.0)\n",
    "update_Σ!(gcm)\n",
    "GeneralizedCopula.loglikelihood3!(gcm, true, true)\n",
    "@time fit2!(gcm, IpoptSolver(print_level = 5, max_iter = 25, derivative_test = \"first-order\"))"
   ]
  },
  {
   "cell_type": "code",
   "execution_count": 46,
   "metadata": {},
   "outputs": [
    {
     "name": "stdout",
     "output_type": "stream",
     "text": [
      "loglikelihood3!(gcm, true, true) = -569.1749163635732\n",
      "gcm.∇β = [-4.2159520319273724e-10, 7.840386118118658e-10]\n"
     ]
    },
    {
     "data": {
      "text/plain": [
       "2-element Array{Float64,1}:\n",
       " -4.2159520319273724e-10\n",
       "  7.840386118118658e-10"
      ]
     },
     "execution_count": 46,
     "metadata": {},
     "output_type": "execute_result"
    }
   ],
   "source": [
    "@show loglikelihood3!(gcm, true, true)\n",
    "@show gcm.∇β"
   ]
  },
  {
   "cell_type": "code",
   "execution_count": null,
   "metadata": {},
   "outputs": [],
   "source": []
  }
 ],
 "metadata": {
  "kernelspec": {
   "display_name": "Julia 1.4.0",
   "language": "julia",
   "name": "julia-1.4"
  },
  "language_info": {
   "file_extension": ".jl",
   "mimetype": "application/julia",
   "name": "julia",
   "version": "1.4.0"
  },
  "toc": {
   "base_numbering": 1,
   "nav_menu": {},
   "number_sections": true,
   "sideBar": true,
   "skip_h1_title": false,
   "title_cell": "Table of Contents",
   "title_sidebar": "Contents",
   "toc_cell": false,
   "toc_position": {},
   "toc_section_display": true,
   "toc_window_display": false
  }
 },
 "nbformat": 4,
 "nbformat_minor": 2
}
