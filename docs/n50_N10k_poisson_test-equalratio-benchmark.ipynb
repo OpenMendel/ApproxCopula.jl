{
 "cells": [
  {
   "cell_type": "markdown",
   "metadata": {},
   "source": [
    "# Multivariate Poisson using hybrid MM-initial + Newton's for joint estimation\n",
    "\n",
    "Now, Instead of doing block update iterating between Newton and MM-Algorithm, we will try initializing variance components using the MM-algorithm conditional on the independent mean effects and then run Newton's method jointly.\n",
    "    \n",
    "   ### Simulation Parameters (Truth):\n",
    "   $$\\mu = 5.000, vc_1 = 0.100, vc_2 = 0.100$$\n",
    "   \n",
    "   ### Using initial MM + Newton + mehrotra: (21 iterations, 22.5 seconds)\n",
    "   $$\\mu = 5.004, vc_1 = 0.110, vc_2 = 0.115$$\n",
    "    "
   ]
  },
  {
   "cell_type": "code",
   "execution_count": 1,
   "metadata": {},
   "outputs": [],
   "source": [
    "using GLMCopula, Random, Statistics, Test, LinearAlgebra, StatsFuns, GLM, Revise"
   ]
  },
  {
   "cell_type": "code",
   "execution_count": 2,
   "metadata": {},
   "outputs": [
    {
     "data": {
      "text/plain": [
       "NonMixedMultivariateDistribution{Discrete,Poisson{Float64},Array{Poisson{Float64},1}}(Poisson{Float64}[Poisson{Float64}(λ=5.0), Poisson{Float64}(λ=5.0), Poisson{Float64}(λ=5.0), Poisson{Float64}(λ=5.0), Poisson{Float64}(λ=5.0), Poisson{Float64}(λ=5.0), Poisson{Float64}(λ=5.0), Poisson{Float64}(λ=5.0), Poisson{Float64}(λ=5.0), Poisson{Float64}(λ=5.0)  …  Poisson{Float64}(λ=5.0), Poisson{Float64}(λ=5.0), Poisson{Float64}(λ=5.0), Poisson{Float64}(λ=5.0), Poisson{Float64}(λ=5.0), Poisson{Float64}(λ=5.0), Poisson{Float64}(λ=5.0), Poisson{Float64}(λ=5.0), Poisson{Float64}(λ=5.0), Poisson{Float64}(λ=5.0)], [0.2 0.1 … 0.1 0.1; 0.1 0.2 … 0.1 0.1; … ; 0.1 0.1 … 0.2 0.1; 0.1 0.1 … 0.1 0.2], 9.999999999999996, Union{ContinuousUnivariateCopula, DiscreteUnivariateCopula}[#undef, #undef, #undef, #undef, #undef, #undef, #undef, #undef, #undef, #undef  …  #undef, #undef, #undef, #undef, #undef, #undef, #undef, #undef, #undef, #undef])"
      ]
     },
     "execution_count": 2,
     "metadata": {},
     "output_type": "execute_result"
    }
   ],
   "source": [
    "Random.seed!(1234)\n",
    "n = 50\n",
    "variance_component_1 = 0.1\n",
    "variance_component_2 = 0.1\n",
    "Γ = variance_component_1 * ones(n, n) + variance_component_2 * Matrix(I, n, n)\n",
    "\n",
    "mean = 5\n",
    "dist = Poisson\n",
    "vecd = [dist(mean) for i in 1:n]\n",
    "    \n",
    "nonmixed_multivariate_dist = NonMixedMultivariateDistribution(vecd, Γ)"
   ]
  },
  {
   "cell_type": "code",
   "execution_count": 3,
   "metadata": {},
   "outputs": [
    {
     "name": "stdout",
     "output_type": "stream",
     "text": [
      "  4.231337 seconds (10.14 M allocations: 7.823 GiB, 18.13% gc time)\n"
     ]
    },
    {
     "data": {
      "text/plain": [
       "10000-element Array{Array{Float64,1},1}:\n",
       " [7.0, 8.0, 7.0, 4.0, 8.0, 2.0, 6.0, 6.0, 6.0, 7.0  …  5.0, 3.0, 4.0, 6.0, 4.0, 5.0, 5.0, 6.0, 4.0, 7.0]\n",
       " [3.0, 7.0, 6.0, 3.0, 6.0, 6.0, 3.0, 3.0, 8.0, 5.0  …  3.0, 4.0, 5.0, 8.0, 2.0, 5.0, 4.0, 4.0, 8.0, 6.0]\n",
       " [6.0, 3.0, 3.0, 7.0, 4.0, 3.0, 6.0, 2.0, 1.0, 8.0  …  2.0, 4.0, 3.0, 4.0, 6.0, 3.0, 4.0, 4.0, 3.0, 5.0]\n",
       " [9.0, 4.0, 5.0, 3.0, 5.0, 5.0, 4.0, 12.0, 4.0, 5.0  …  4.0, 8.0, 7.0, 9.0, 5.0, 3.0, 8.0, 5.0, 4.0, 4.0]\n",
       " [5.0, 7.0, 4.0, 7.0, 4.0, 1.0, 7.0, 3.0, 5.0, 4.0  …  9.0, 7.0, 3.0, 1.0, 3.0, 5.0, 3.0, 6.0, 5.0, 5.0]\n",
       " [6.0, 6.0, 10.0, 2.0, 4.0, 2.0, 6.0, 7.0, 1.0, 5.0  …  2.0, 6.0, 3.0, 6.0, 3.0, 6.0, 4.0, 4.0, 4.0, 5.0]\n",
       " [5.0, 4.0, 6.0, 3.0, 4.0, 6.0, 0.0, 3.0, 3.0, 3.0  …  4.0, 6.0, 3.0, 3.0, 5.0, 1.0, 4.0, 1.0, 5.0, 10.0]\n",
       " [6.0, 4.0, 5.0, 7.0, 5.0, 8.0, 5.0, 3.0, 10.0, 1.0  …  5.0, 4.0, 5.0, 3.0, 4.0, 6.0, 5.0, 4.0, 7.0, 2.0]\n",
       " [4.0, 5.0, 8.0, 5.0, 5.0, 4.0, 7.0, 3.0, 3.0, 6.0  …  5.0, 2.0, 4.0, 7.0, 6.0, 5.0, 6.0, 5.0, 7.0, 4.0]\n",
       " [4.0, 6.0, 5.0, 5.0, 2.0, 4.0, 2.0, 10.0, 7.0, 5.0  …  3.0, 4.0, 6.0, 5.0, 2.0, 7.0, 9.0, 5.0, 9.0, 4.0]\n",
       " [5.0, 4.0, 7.0, 5.0, 5.0, 2.0, 5.0, 9.0, 8.0, 14.0  …  2.0, 5.0, 6.0, 8.0, 8.0, 2.0, 6.0, 5.0, 8.0, 5.0]\n",
       " [3.0, 2.0, 6.0, 5.0, 5.0, 5.0, 4.0, 2.0, 6.0, 3.0  …  8.0, 4.0, 6.0, 5.0, 7.0, 7.0, 7.0, 7.0, 6.0, 6.0]\n",
       " [3.0, 3.0, 7.0, 6.0, 5.0, 5.0, 6.0, 7.0, 7.0, 5.0  …  3.0, 9.0, 3.0, 8.0, 3.0, 6.0, 3.0, 5.0, 2.0, 6.0]\n",
       " ⋮\n",
       " [6.0, 3.0, 7.0, 5.0, 7.0, 6.0, 3.0, 2.0, 4.0, 4.0  …  5.0, 3.0, 4.0, 1.0, 3.0, 5.0, 5.0, 3.0, 4.0, 1.0]\n",
       " [7.0, 5.0, 4.0, 5.0, 7.0, 9.0, 1.0, 7.0, 4.0, 6.0  …  4.0, 4.0, 2.0, 3.0, 6.0, 4.0, 8.0, 4.0, 4.0, 5.0]\n",
       " [7.0, 6.0, 10.0, 5.0, 2.0, 5.0, 5.0, 6.0, 4.0, 3.0  …  9.0, 1.0, 6.0, 4.0, 4.0, 5.0, 5.0, 2.0, 4.0, 3.0]\n",
       " [8.0, 10.0, 9.0, 5.0, 6.0, 4.0, 8.0, 3.0, 7.0, 5.0  …  5.0, 6.0, 5.0, 7.0, 2.0, 4.0, 4.0, 5.0, 6.0, 3.0]\n",
       " [1.0, 3.0, 4.0, 5.0, 4.0, 3.0, 5.0, 6.0, 3.0, 6.0  …  7.0, 3.0, 7.0, 7.0, 7.0, 7.0, 4.0, 3.0, 3.0, 7.0]\n",
       " [3.0, 2.0, 5.0, 8.0, 1.0, 6.0, 8.0, 7.0, 2.0, 5.0  …  6.0, 7.0, 9.0, 9.0, 5.0, 9.0, 4.0, 5.0, 3.0, 3.0]\n",
       " [3.0, 2.0, 3.0, 6.0, 2.0, 5.0, 2.0, 1.0, 2.0, 1.0  …  6.0, 3.0, 4.0, 8.0, 1.0, 8.0, 6.0, 3.0, 4.0, 3.0]\n",
       " [6.0, 6.0, 5.0, 3.0, 2.0, 6.0, 6.0, 7.0, 6.0, 6.0  …  6.0, 5.0, 3.0, 6.0, 6.0, 5.0, 7.0, 9.0, 7.0, 2.0]\n",
       " [3.0, 7.0, 4.0, 3.0, 6.0, 5.0, 6.0, 6.0, 3.0, 7.0  …  7.0, 7.0, 0.0, 10.0, 7.0, 7.0, 2.0, 7.0, 7.0, 3.0]\n",
       " [1.0, 3.0, 2.0, 2.0, 6.0, 6.0, 8.0, 3.0, 5.0, 0.0  …  6.0, 5.0, 3.0, 1.0, 6.0, 8.0, 4.0, 5.0, 7.0, 5.0]\n",
       " [10.0, 15.0, 5.0, 5.0, 3.0, 2.0, 10.0, 8.0, 7.0, 7.0  …  8.0, 6.0, 2.0, 3.0, 6.0, 11.0, 7.0, 5.0, 6.0, 2.0]\n",
       " [5.0, 2.0, 3.0, 6.0, 2.0, 3.0, 4.0, 3.0, 6.0, 2.0  …  6.0, 3.0, 3.0, 2.0, 6.0, 9.0, 5.0, 6.0, 8.0, 5.0]"
      ]
     },
     "execution_count": 3,
     "metadata": {},
     "output_type": "execute_result"
    }
   ],
   "source": [
    "nsample = 10_000\n",
    "Random.seed!(1234)\n",
    "@time Y_nsample = simulate_nobs_independent_vectors(nonmixed_multivariate_dist, nsample)"
   ]
  },
  {
   "cell_type": "code",
   "execution_count": 4,
   "metadata": {},
   "outputs": [
    {
     "name": "stdout",
     "output_type": "stream",
     "text": [
      "initializing β using Newton's Algorithm under Independence Assumption\n",
      "1 0.0 -1.1106679665667238e6 39999\n",
      "2 -1.1106679665667238e6 -1.1106679665667238e6 39999\n",
      "initializing variance components using MM-Algorithm\n",
      "gcm.β = [1.6140126324276531]\n",
      "gcm.Σ = [0.09215963543599975, 0.09063686128269058]\n"
     ]
    },
    {
     "data": {
      "text/plain": [
       "2-element Array{Float64,1}:\n",
       " 0.09215963543599975\n",
       " 0.09063686128269058"
      ]
     },
     "execution_count": 4,
     "metadata": {},
     "output_type": "execute_result"
    }
   ],
   "source": [
    "d = Poisson()\n",
    "link = LogLink()\n",
    "D = typeof(d)\n",
    "Link = typeof(link)\n",
    "T = Float64\n",
    "gcs = Vector{GLMCopulaVCObs{T, D, Link}}(undef, nsample)\n",
    "for i in 1:nsample\n",
    "    y = Float64.(Y_nsample[i])\n",
    "    X = ones(n, 1)\n",
    "    V = [ones(n, n), Matrix(I, n, n)]\n",
    "    gcs[i] = GLMCopulaVCObs(y, X, V, d, link)\n",
    "end\n",
    "gcm = GLMCopulaVCModel(gcs);\n",
    "\n",
    "initialize_model!(gcm)\n",
    "@show gcm.β\n",
    "@show gcm.Σ"
   ]
  },
  {
   "cell_type": "code",
   "execution_count": 5,
   "metadata": {},
   "outputs": [
    {
     "data": {
      "text/plain": [
       "\u001b[32m\u001b[1mTest Passed\u001b[22m\u001b[39m"
      ]
     },
     "execution_count": 5,
     "metadata": {},
     "output_type": "execute_result"
    }
   ],
   "source": [
    "@test loglikelihood!(gcm, true, true) ≈ -1.1093040785410171e6"
   ]
  },
  {
   "cell_type": "markdown",
   "metadata": {},
   "source": [
    "## Newton using Hessian + merotra"
   ]
  },
  {
   "cell_type": "code",
   "execution_count": 6,
   "metadata": {
    "scrolled": true
   },
   "outputs": [
    {
     "name": "stdout",
     "output_type": "stream",
     "text": [
      "\n",
      "******************************************************************************\n",
      "This program contains Ipopt, a library for large-scale nonlinear optimization.\n",
      " Ipopt is released as open source code under the Eclipse Public License (EPL).\n",
      "         For more information visit https://github.com/coin-or/Ipopt\n",
      "******************************************************************************\n",
      "\n",
      "This is Ipopt version 3.13.4, running with linear solver mumps.\n",
      "NOTE: Other linear solvers might be more efficient (see Ipopt documentation).\n",
      "\n",
      "Number of nonzeros in equality constraint Jacobian...:        0\n",
      "Number of nonzeros in inequality constraint Jacobian.:        0\n",
      "Number of nonzeros in Lagrangian Hessian.............:        4\n",
      "\n",
      "Total number of variables............................:        3\n",
      "                     variables with only lower bounds:        2\n",
      "                variables with lower and upper bounds:        0\n",
      "                     variables with only upper bounds:        0\n",
      "Total number of equality constraints.................:        0\n",
      "Total number of inequality constraints...............:        0\n",
      "        inequality constraints with only lower bounds:        0\n",
      "   inequality constraints with lower and upper bounds:        0\n",
      "        inequality constraints with only upper bounds:        0\n",
      "\n",
      "iter    objective    inf_pr   inf_du lg(mu)  ||d||  lg(rg) alpha_du alpha_pr  ls\n",
      "   0  1.1093558e+06 0.00e+00 1.15e+02   0.0 0.00e+00    -  0.00e+00 0.00e+00   0\n",
      "   1  1.1103796e+06 0.00e+00 7.04e+01  -3.6 2.32e+01  -2.0 1.00e+00 4.28e-01h  1\n",
      "   2  1.1117161e+06 0.00e+00 2.41e+02 -11.0 4.79e+00   0.2 1.00e+00 8.09e-01h  1\n",
      "   3  1.1101403e+06 0.00e+00 5.55e+02 -11.0 1.70e+00   1.6 1.00e+00 5.65e-01f  1\n",
      "   4  1.1093528e+06 0.00e+00 1.63e+02 -11.0 4.58e-01   2.9 1.00e+00 2.27e-01f  1\n",
      "   5  1.1093603e+06 0.00e+00 2.27e+02   0.1 2.38e-01    -  2.41e-01 1.00e+00f  1\n",
      "   6  1.1092969e+06 0.00e+00 1.06e+01  -0.2 4.91e-02    -  1.00e+00 1.00e+00f  1\n",
      "   7  1.1092935e+06 0.00e+00 1.68e+00  -3.6 4.54e-02    -  1.00e+00 1.00e+00f  1\n",
      "   8  1.1092942e+06 0.00e+00 8.39e+00  -3.1 1.08e-01    -  1.00e+00 1.00e+00h  1\n",
      "   9  1.1092929e+06 0.00e+00 2.39e+00  -9.6 1.31e-02    -  1.00e+00 1.00e+00f  1\n",
      "iter    objective    inf_pr   inf_du lg(mu)  ||d||  lg(rg) alpha_du alpha_pr  ls\n",
      "  10  1.1092927e+06 0.00e+00 1.42e+00  -9.4 1.43e-02    -  1.00e+00 1.00e+00f  1\n",
      "  11  1.1092927e+06 0.00e+00 5.87e-01 -11.0 7.46e-03    -  9.93e-01 1.00e+00f  1\n",
      "  12  1.1092927e+06 0.00e+00 1.27e-01 -11.0 1.76e-03    -  9.90e-01 1.00e+00f  1\n",
      "  13  1.1092927e+06 0.00e+00 1.68e-02 -11.0 2.31e-04    -  1.00e+00 1.00e+00f  1\n",
      "  14  1.1092927e+06 0.00e+00 2.73e-03 -11.0 3.73e-05    -  1.00e+00 1.00e+00f  1\n",
      "  15  1.1092927e+06 0.00e+00 3.54e-04 -11.0 4.81e-06    -  1.00e+00 1.00e+00f  1\n",
      "  16  1.1092927e+06 0.00e+00 5.71e-05 -11.0 7.79e-07    -  1.00e+00 1.00e+00f  1\n",
      "  17  1.1092927e+06 0.00e+00 7.43e-06 -11.0 1.01e-07    -  1.00e+00 1.00e+00f  1\n",
      "  18  1.1092927e+06 0.00e+00 1.19e-06 -11.0 1.63e-08    -  1.00e+00 1.00e+00f  1\n",
      "  19  1.1092927e+06 0.00e+00 1.56e-07 -11.0 2.12e-09    -  1.00e+00 1.00e+00f  1\n",
      "iter    objective    inf_pr   inf_du lg(mu)  ||d||  lg(rg) alpha_du alpha_pr  ls\n",
      "  20  1.1092927e+06 0.00e+00 2.50e-08 -11.0 3.42e-10    -  1.00e+00 1.00e+00f  1\n",
      "  21  1.1092927e+06 0.00e+00 3.26e-09 -11.0 4.43e-11    -  1.00e+00 1.00e+00f  1\n",
      "\n",
      "Number of Iterations....: 21\n",
      "\n",
      "                                   (scaled)                 (unscaled)\n",
      "Objective...............:   1.8198181500968880e+04    1.1092926528694876e+06\n",
      "Dual infeasibility......:   3.2602467713273160e-09    1.9873237278034139e-07\n",
      "Constraint violation....:   0.0000000000000000e+00    0.0000000000000000e+00\n",
      "Complementarity.........:   1.0000000002262842e-11    6.0956236372378398e-10\n",
      "Overall NLP error.......:   3.2602467713273160e-09    1.9873237278034139e-07\n",
      "\n",
      "\n",
      "Number of objective function evaluations             = 22\n",
      "Number of objective gradient evaluations             = 22\n",
      "Number of equality constraint evaluations            = 0\n",
      "Number of inequality constraint evaluations          = 0\n",
      "Number of equality constraint Jacobian evaluations   = 0\n",
      "Number of inequality constraint Jacobian evaluations = 0\n",
      "Number of Lagrangian Hessian evaluations             = 21\n",
      "Total CPU secs in IPOPT (w/o function evaluations)   =      0.520\n",
      "Total CPU secs in NLP function evaluations           =    107.864\n",
      "\n",
      "EXIT: Optimal Solution Found.\n",
      " 22.548568 seconds (868.13 k allocations: 43.899 MiB)\n"
     ]
    },
    {
     "data": {
      "text/plain": [
       "-1.1092926528694876e6"
      ]
     },
     "execution_count": 6,
     "metadata": {},
     "output_type": "execute_result"
    }
   ],
   "source": [
    "@time GLMCopula.fit!(gcm, IpoptSolver(print_level = 5, max_iter = 100, mehrotra_algorithm = \"yes\", warm_start_init_point = \"yes\", hessian_approximation = \"exact\"))"
   ]
  },
  {
   "cell_type": "code",
   "execution_count": 7,
   "metadata": {},
   "outputs": [
    {
     "name": "stdout",
     "output_type": "stream",
     "text": [
      "GLMCopula.loglikelihood!(gcm, true, true) = -1.1092926528694876e6\n"
     ]
    }
   ],
   "source": [
    "@show GLMCopula.loglikelihood!(gcm, true, true);"
   ]
  },
  {
   "cell_type": "code",
   "execution_count": 8,
   "metadata": {},
   "outputs": [
    {
     "name": "stdout",
     "output_type": "stream",
     "text": [
      "gcm.θ = [1.6102599493811351, 0.10979563246169695, 0.11466180111296703]\n"
     ]
    }
   ],
   "source": [
    "@show gcm.θ;"
   ]
  },
  {
   "cell_type": "code",
   "execution_count": 9,
   "metadata": {},
   "outputs": [
    {
     "name": "stdout",
     "output_type": "stream",
     "text": [
      "gcm.∇θ = [-1.987323727803414e-7, 8.147253538481891e-9, -1.0995790944434702e-8]\n"
     ]
    }
   ],
   "source": [
    "@show gcm.∇θ;"
   ]
  },
  {
   "cell_type": "code",
   "execution_count": 10,
   "metadata": {},
   "outputs": [
    {
     "name": "stdout",
     "output_type": "stream",
     "text": [
      "estimated mean = 5.004111874560031; true mean value= 5\n",
      "estimated variance component 1 = 0.10979563246169695; true variance component 1 = 0.1\n",
      "estimated variance component 2 = 0.11466180111296703; true variance component 2 = 0.1\n"
     ]
    }
   ],
   "source": [
    "println(\"estimated mean = $(exp(gcm.β[1])); true mean value= $mean\")\n",
    "println(\"estimated variance component 1 = $(gcm.Σ[1]); true variance component 1 = $variance_component_1\")\n",
    "println(\"estimated variance component 2 = $(gcm.Σ[2]); true variance component 2 = $variance_component_2\");"
   ]
  },
  {
   "cell_type": "code",
   "execution_count": 11,
   "metadata": {},
   "outputs": [
    {
     "data": {
      "text/plain": [
       "BenchmarkTools.Trial: \n",
       "  memory estimate:  0 bytes\n",
       "  allocs estimate:  0\n",
       "  --------------\n",
       "  minimum time:     722.928 ms (0.00% GC)\n",
       "  median time:      724.976 ms (0.00% GC)\n",
       "  mean time:        726.487 ms (0.00% GC)\n",
       "  maximum time:     733.462 ms (0.00% GC)\n",
       "  --------------\n",
       "  samples:          7\n",
       "  evals/sample:     1"
      ]
     },
     "execution_count": 11,
     "metadata": {},
     "output_type": "execute_result"
    }
   ],
   "source": [
    "using BenchmarkTools\n",
    "\n",
    "@benchmark loglikelihood!($gcm, true, true)"
   ]
  },
  {
   "cell_type": "code",
   "execution_count": null,
   "metadata": {},
   "outputs": [],
   "source": []
  }
 ],
 "metadata": {
  "@webio": {
   "lastCommId": null,
   "lastKernelId": null
  },
  "kernelspec": {
   "display_name": "Julia 1.5.2",
   "language": "julia",
   "name": "julia-1.5"
  },
  "language_info": {
   "file_extension": ".jl",
   "mimetype": "application/julia",
   "name": "julia",
   "version": "1.5.2"
  }
 },
 "nbformat": 4,
 "nbformat_minor": 4
}
