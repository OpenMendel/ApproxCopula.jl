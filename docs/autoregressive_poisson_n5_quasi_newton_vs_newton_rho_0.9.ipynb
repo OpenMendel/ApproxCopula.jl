{
 "cells": [
  {
   "cell_type": "markdown",
   "metadata": {},
   "source": [
    "# n = 5: Autoregressive covariance structure \n",
    "\n",
    "We try to parameterize covariance Gamma only using two parameters rho and sigma2 as in the AR(1) structure.\n",
    "\n",
    "For n = 5 this autoregressive model converges in 15 iterations using Quasi-Newton, 13 with Newton. \n",
    "\n",
    "Here we just initialize beta under independent GLM assumptions, sigma2 using MM-Algorithm letting rho = 0, then MOM using the empirical covariance between Y_1 and Y_2.\n",
    "\n",
    "We set IPOPT convergence tolerance to 10^-6, with the adaptive mean option turned on. \n",
    "\n",
    "$$\\mu_i = 5, \\rho = 0.9, \\sigma^2 = 0.1, n_i = 5$$\n",
    "\n",
    "$$\\Gamma_i = \\sigma^2 * \\begin{pmatrix} 1 & \\rho & \\rho^2 & \\rho^3 & \\rho^4\\\\ \\rho & 1 & \\rho & \\rho^2 & \\rho^3 \\\\ \\rho^2 & \\rho & 1 & \\rho & \\rho^2 \\\\ \\rho^3 & \\rho^2 & \\rho & 1 & \\rho \\\\ \\rho^4 & \\rho^3 & \\rho^2 & \\rho & 1\\end{pmatrix} \\forall i \\in [1, N = 10,000]$$ "
   ]
  },
  {
   "cell_type": "code",
   "execution_count": 1,
   "metadata": {},
   "outputs": [
    {
     "data": {
      "text/plain": [
       "5×5 Array{Float64,2}:\n",
       " 0.1      0.09    0.081  0.0729  0.06561\n",
       " 0.09     0.1     0.09   0.081   0.0729\n",
       " 0.081    0.09    0.1    0.09    0.081\n",
       " 0.0729   0.081   0.09   0.1     0.09\n",
       " 0.06561  0.0729  0.081  0.09    0.1"
      ]
     },
     "execution_count": 1,
     "metadata": {},
     "output_type": "execute_result"
    }
   ],
   "source": [
    "using DataFrames, Random, GLM, GLMCopula, Test\n",
    "using LinearAlgebra, BenchmarkTools, Revise\n",
    "\n",
    "Random.seed!(1234)\n",
    "\n",
    "# sample size\n",
    "N = 10000\n",
    "# observations per subject\n",
    "n = 5\n",
    "ρ = 0.9\n",
    "σ2 = 0.1\n",
    "\n",
    "V = zeros(n, n) # will store the AR(1) structure without sigma2\n",
    "\n",
    "mean = 5\n",
    "\n",
    "dist = Poisson\n",
    "\n",
    "V = get_AR_cov(n, ρ, σ2, V)\n",
    "\n",
    "# true Gamma\n",
    "Γ = σ2 * V"
   ]
  },
  {
   "cell_type": "code",
   "execution_count": 2,
   "metadata": {},
   "outputs": [
    {
     "data": {
      "text/plain": [
       "10000-element Array{Array{Float64,1},1}:\n",
       " [3.0, 8.0, 7.0, 4.0, 2.0]\n",
       " [2.0, 6.0, 6.0, 6.0, 7.0]\n",
       " [3.0, 5.0, 5.0, 10.0, 3.0]\n",
       " [5.0, 6.0, 3.0, 5.0, 2.0]\n",
       " [1.0, 10.0, 1.0, 2.0, 2.0]\n",
       " [5.0, 5.0, 4.0, 5.0, 4.0]\n",
       " [1.0, 4.0, 6.0, 5.0, 5.0]\n",
       " [7.0, 8.0, 6.0, 4.0, 9.0]\n",
       " [5.0, 3.0, 4.0, 6.0, 4.0]\n",
       " [5.0, 5.0, 6.0, 4.0, 7.0]\n",
       " [3.0, 7.0, 6.0, 3.0, 6.0]\n",
       " [6.0, 3.0, 3.0, 8.0, 5.0]\n",
       " [3.0, 4.0, 7.0, 3.0, 4.0]\n",
       " ⋮\n",
       " [7.0, 4.0, 8.0, 5.0, 3.0]\n",
       " [2.0, 4.0, 4.0, 7.0, 7.0]\n",
       " [7.0, 2.0, 4.0, 6.0, 8.0]\n",
       " [7.0, 4.0, 8.0, 2.0, 6.0]\n",
       " [3.0, 6.0, 5.0, 5.0, 1.0]\n",
       " [3.0, 4.0, 4.0, 7.0, 7.0]\n",
       " [3.0, 4.0, 8.0, 2.0, 3.0]\n",
       " [2.0, 9.0, 7.0, 6.0, 6.0]\n",
       " [6.0, 4.0, 3.0, 4.0, 7.0]\n",
       " [6.0, 4.0, 4.0, 9.0, 6.0]\n",
       " [2.0, 3.0, 2.0, 5.0, 4.0]\n",
       " [4.0, 4.0, 2.0, 4.0, 4.0]"
      ]
     },
     "execution_count": 2,
     "metadata": {},
     "output_type": "execute_result"
    }
   ],
   "source": [
    "vecd = [dist(mean) for i in 1:n]\n",
    "nonmixed_multivariate_dist = NonMixedMultivariateDistribution(vecd, Γ)\n",
    "\n",
    "Y_Nsample = simulate_nobs_independent_vectors(nonmixed_multivariate_dist, N)"
   ]
  },
  {
   "cell_type": "code",
   "execution_count": 3,
   "metadata": {},
   "outputs": [],
   "source": [
    "d = Poisson()\n",
    "link = LogLink()\n",
    "D = typeof(d)\n",
    "Link = typeof(link)\n",
    "T = Float64\n",
    "gcs = Vector{GLMCopulaARObs{T, D, Link}}(undef, N)\n",
    "\n",
    "for i in 1:N\n",
    "    y = Float64.(Y_Nsample[i])\n",
    "    X = ones(n, 1)\n",
    "    gcs[i] = GLMCopulaARObs(y, X, d, link)\n",
    "end\n",
    "\n",
    "gcm = GLMCopulaARModel(gcs);"
   ]
  },
  {
   "cell_type": "code",
   "execution_count": 4,
   "metadata": {},
   "outputs": [
    {
     "name": "stdout",
     "output_type": "stream",
     "text": [
      "initializing β using Newton's Algorithm under Independence Assumption\n",
      "1 0.0 -112233.55795434186 39999\n",
      "2 -112233.55795434186 -112233.55795434186 39999\n",
      "gcm.β = [1.620377852472435]\n",
      "exp.(gcm.β) = [5.0550000000000015]\n",
      "gcm.ρ = [1.0]\n",
      "gcm.σ2 = [0.08634406601451637]\n"
     ]
    }
   ],
   "source": [
    "initialize_model!(gcm)\n",
    "@show gcm.β\n",
    "@show exp.(gcm.β)\n",
    "@show gcm.ρ\n",
    "@show gcm.σ2;"
   ]
  },
  {
   "cell_type": "code",
   "execution_count": 5,
   "metadata": {},
   "outputs": [
    {
     "name": "stdout",
     "output_type": "stream",
     "text": [
      "exp.(gcm.β) = [5.0550000000000015]\n",
      "gcm.ρ = [0.9330886394490602]\n",
      "gcm.σ2 = [0.08634406601451637]\n"
     ]
    }
   ],
   "source": [
    "Y_1 = [Y_Nsample[i][1] for i in 1:N]\n",
    "Y_2 = [Y_Nsample[i][2] for i in 1:N]\n",
    "\n",
    "update_rho!(gcm, Y_1, Y_2)\n",
    "@show exp.(gcm.β)\n",
    "@show gcm.ρ\n",
    "@show gcm.σ2;"
   ]
  },
  {
   "cell_type": "code",
   "execution_count": 6,
   "metadata": {},
   "outputs": [],
   "source": [
    "loglikelihood!(gcm, true, true)\n",
    "\n",
    "gcm1 = deepcopy(gcm)\n",
    "gcm2 = deepcopy(gcm);"
   ]
  },
  {
   "cell_type": "markdown",
   "metadata": {},
   "source": [
    "## Quasi Newton\n",
    "## Number of Iterations....: 12\n",
    "## 0.92 seconds "
   ]
  },
  {
   "cell_type": "code",
   "execution_count": 7,
   "metadata": {},
   "outputs": [
    {
     "name": "stdout",
     "output_type": "stream",
     "text": [
      "\n",
      "******************************************************************************\n",
      "This program contains Ipopt, a library for large-scale nonlinear optimization.\n",
      " Ipopt is released as open source code under the Eclipse Public License (EPL).\n",
      "         For more information visit https://github.com/coin-or/Ipopt\n",
      "******************************************************************************\n",
      "\n",
      "This is Ipopt version 3.13.4, running with linear solver mumps.\n",
      "NOTE: Other linear solvers might be more efficient (see Ipopt documentation).\n",
      "\n",
      "Number of nonzeros in equality constraint Jacobian...:        0\n",
      "Number of nonzeros in inequality constraint Jacobian.:        0\n",
      "Number of nonzeros in Lagrangian Hessian.............:        0\n",
      "\n",
      "Total number of variables............................:        3\n",
      "                     variables with only lower bounds:        1\n",
      "                variables with lower and upper bounds:        1\n",
      "                     variables with only upper bounds:        0\n",
      "Total number of equality constraints.................:        0\n",
      "Total number of inequality constraints...............:        0\n",
      "        inequality constraints with only lower bounds:        0\n",
      "   inequality constraints with lower and upper bounds:        0\n",
      "        inequality constraints with only upper bounds:        0\n",
      "\n",
      "iter    objective    inf_pr   inf_du lg(mu)  ||d||  lg(rg) alpha_du alpha_pr  ls\n",
      "   0  1.1201967e+05 0.00e+00 1.00e+02   0.0 0.00e+00    -  0.00e+00 0.00e+00   0\n",
      "   1  1.1201830e+05 0.00e+00 8.53e+01  -3.4 1.00e+02    -  2.79e-01 1.36e-04f 12\n",
      "   2  1.1201449e+05 0.00e+00 6.34e+00  -0.6 6.26e-03    -  1.00e+00 1.00e+00f  1\n",
      "   3  1.1201447e+05 0.00e+00 3.16e+00 -11.0 2.35e-04    -  9.87e-01 1.00e+00f  1\n",
      "   4  1.1201393e+05 0.00e+00 1.65e+01  -9.6 1.82e-02    -  7.80e-01 1.00e+00f  1\n",
      "   5  1.1201364e+05 0.00e+00 1.75e+01  -4.8 1.09e-01    -  5.81e-01 1.25e-01f  4\n",
      "   6  1.1201313e+05 0.00e+00 1.18e+01  -4.0 2.14e-02    -  1.00e+00 1.00e+00f  1\n",
      "   7  1.1201301e+05 0.00e+00 5.24e-01 -11.0 9.36e-03    -  9.19e-01 1.00e+00f  1\n",
      "   8  1.1201301e+05 0.00e+00 3.50e-03  -8.4 2.18e-04    -  9.91e-01 1.00e+00f  1\n",
      "   9  1.1201301e+05 0.00e+00 8.86e-05 -10.5 2.01e-06    -  9.97e-01 1.00e+00f  1\n",
      "iter    objective    inf_pr   inf_du lg(mu)  ||d||  lg(rg) alpha_du alpha_pr  ls\n",
      "  10  1.1201301e+05 0.00e+00 1.08e-04 -11.0 7.69e-07    -  1.00e+00 1.00e+00f  1\n",
      "  11  1.1201301e+05 0.00e+00 5.53e-04 -11.0 2.08e-07    -  1.00e+00 5.00e-01f  2\n",
      "  12  1.1201301e+05 0.00e+00 1.09e-07 -11.0 1.25e-07    -  1.00e+00 1.00e+00f  1\n",
      "\n",
      "Number of Iterations....: 12\n",
      "\n",
      "                                   (scaled)                 (unscaled)\n",
      "Objective...............:   7.9672605511958045e+03    1.1201300953147069e+05\n",
      "Dual infeasibility......:   1.0912311394386267e-07    1.5341795744916453e-06\n",
      "Constraint violation....:   0.0000000000000000e+00    0.0000000000000000e+00\n",
      "Complementarity.........:   9.9999999999998685e-12    1.4059162344660261e-10\n",
      "Overall NLP error.......:   1.0912311394386267e-07    1.5341795744916453e-06\n",
      "\n",
      "\n",
      "Number of objective function evaluations             = 40\n",
      "Number of objective gradient evaluations             = 13\n",
      "Number of equality constraint evaluations            = 0\n",
      "Number of inequality constraint evaluations          = 0\n",
      "Number of equality constraint Jacobian evaluations   = 0\n",
      "Number of inequality constraint Jacobian evaluations = 0\n",
      "Number of Lagrangian Hessian evaluations             = 0\n",
      "Total CPU secs in IPOPT (w/o function evaluations)   =      0.058\n",
      "Total CPU secs in NLP function evaluations           =      0.490\n",
      "\n",
      "EXIT: Optimal Solution Found.\n",
      "  0.919317 seconds (813.03 k allocations: 41.057 MiB)\n"
     ]
    },
    {
     "data": {
      "text/plain": [
       "-112013.00953147069"
      ]
     },
     "execution_count": 7,
     "metadata": {},
     "output_type": "execute_result"
    }
   ],
   "source": [
    "@time GLMCopula.fit!(gcm1, IpoptSolver(print_level = 5, max_iter = 100, tol = 10^-6, mu_strategy = \"adaptive\", mu_oracle = \"loqo\", hessian_approximation = \"limited-memory\"))"
   ]
  },
  {
   "cell_type": "markdown",
   "metadata": {},
   "source": [
    "# Newton\n",
    "## Number of Iterations....: 14\n",
    "## 0.84 seconds "
   ]
  },
  {
   "cell_type": "code",
   "execution_count": 8,
   "metadata": {},
   "outputs": [
    {
     "name": "stdout",
     "output_type": "stream",
     "text": [
      "This is Ipopt version 3.13.4, running with linear solver mumps.\n",
      "NOTE: Other linear solvers might be more efficient (see Ipopt documentation).\n",
      "\n",
      "Number of nonzeros in equality constraint Jacobian...:        0\n",
      "Number of nonzeros in inequality constraint Jacobian.:        0\n",
      "Number of nonzeros in Lagrangian Hessian.............:        5\n",
      "\n",
      "Total number of variables............................:        3\n",
      "                     variables with only lower bounds:        1\n",
      "                variables with lower and upper bounds:        1\n",
      "                     variables with only upper bounds:        0\n",
      "Total number of equality constraints.................:        0\n",
      "Total number of inequality constraints...............:        0\n",
      "        inequality constraints with only lower bounds:        0\n",
      "   inequality constraints with lower and upper bounds:        0\n",
      "        inequality constraints with only upper bounds:        0\n",
      "\n",
      "iter    objective    inf_pr   inf_du lg(mu)  ||d||  lg(rg) alpha_du alpha_pr  ls\n",
      "   0  1.1201967e+05 0.00e+00 1.00e+02   0.0 0.00e+00    -  0.00e+00 0.00e+00   0\n",
      "   1  1.1201342e+05 0.00e+00 4.89e+00  -3.4 3.40e-02    -  6.59e-01 1.00e+00f  1\n",
      "   2  1.1201314e+05 0.00e+00 7.44e+00  -1.0 4.58e-02    -  1.00e+00 1.00e+00f  1\n",
      "   3  1.1201301e+05 0.00e+00 1.72e+00  -8.5 1.54e-02    -  9.72e-01 1.00e+00f  1\n",
      "   4  1.1201301e+05 0.00e+00 9.55e-02  -4.7 7.36e-04    -  9.93e-01 1.00e+00f  1\n",
      "   5  1.1201301e+05 0.00e+00 7.41e-02  -7.5 2.85e-04    -  9.91e-01 1.00e+00f  1\n",
      "   6  1.1201301e+05 0.00e+00 4.10e-03  -9.3 5.42e-06    -  9.90e-01 1.00e+00f  1\n",
      "   7  1.1201301e+05 0.00e+00 3.12e-03 -11.0 1.18e-05    -  9.96e-01 1.00e+00f  1\n",
      "   8  1.1201301e+05 0.00e+00 1.73e-04 -10.4 2.29e-07    -  1.00e+00 1.00e+00f  1\n",
      "   9  1.1201301e+05 0.00e+00 1.32e-04 -11.0 4.99e-07    -  1.00e+00 1.00e+00f  1\n",
      "iter    objective    inf_pr   inf_du lg(mu)  ||d||  lg(rg) alpha_du alpha_pr  ls\n",
      "  10  1.1201301e+05 0.00e+00 6.74e-05 -11.0 9.73e-09    -  1.00e+00 5.00e-01f  2\n",
      "  11  1.1201301e+05 0.00e+00 3.99e-06 -11.0 1.38e-08    -  1.00e+00 1.00e+00f  1\n",
      "  12  1.1201301e+05 0.00e+00 3.93e-06 -11.0 1.09e-08    -  1.00e+00 6.25e-02f  5\n",
      "  13  1.1201301e+05 0.00e+00 2.74e-06 -11.0 1.03e-08    -  1.00e+00 1.00e+00f  1\n",
      "  14  1.1201301e+05 0.00e+00 2.06e-07 -11.0 7.23e-10    -  1.00e+00 1.00e+00f  1\n",
      "\n",
      "Number of Iterations....: 14\n",
      "\n",
      "                                   (scaled)                 (unscaled)\n",
      "Objective...............:   7.9672605511958209e+03    1.1201300953147092e+05\n",
      "Dual infeasibility......:   2.0579334481249904e-07    2.8932820441696099e-06\n",
      "Constraint violation....:   0.0000000000000000e+00    0.0000000000000000e+00\n",
      "Complementarity.........:   1.0000000000000003e-11    1.4059162344660450e-10\n",
      "Overall NLP error.......:   2.0579334481249904e-07    2.8932820441696099e-06\n",
      "\n",
      "\n",
      "Number of objective function evaluations             = 28\n",
      "Number of objective gradient evaluations             = 15\n",
      "Number of equality constraint evaluations            = 0\n",
      "Number of inequality constraint evaluations          = 0\n",
      "Number of equality constraint Jacobian evaluations   = 0\n",
      "Number of inequality constraint Jacobian evaluations = 0\n",
      "Number of Lagrangian Hessian evaluations             = 14\n",
      "Total CPU secs in IPOPT (w/o function evaluations)   =      0.066\n",
      "Total CPU secs in NLP function evaluations           =      0.754\n",
      "\n",
      "EXIT: Optimal Solution Found.\n",
      "  0.841799 seconds (474.82 k allocations: 41.229 MiB, 2.84% gc time)\n"
     ]
    },
    {
     "data": {
      "text/plain": [
       "-112013.00953147092"
      ]
     },
     "execution_count": 8,
     "metadata": {},
     "output_type": "execute_result"
    }
   ],
   "source": [
    "@time GLMCopula.fit!(gcm2, IpoptSolver(print_level = 5, max_iter = 100, tol = 10^-6, mu_strategy = \"adaptive\", mu_oracle = \"loqo\",  hessian_approximation = \"exact\"))"
   ]
  },
  {
   "cell_type": "code",
   "execution_count": 9,
   "metadata": {},
   "outputs": [
    {
     "name": "stdout",
     "output_type": "stream",
     "text": [
      "gcm1.∇θ = [1.5341795744916453e-6, 3.711056965616244e-7, 7.182926786697408e-7]\n",
      "gcm2.∇θ = [2.8932820441696094e-6, -8.06504879546921e-9, -2.157918120637703e-6]\n"
     ]
    }
   ],
   "source": [
    "@show gcm1.∇θ\n",
    "@show gcm2.∇θ;"
   ]
  },
  {
   "cell_type": "code",
   "execution_count": 10,
   "metadata": {},
   "outputs": [
    {
     "name": "stdout",
     "output_type": "stream",
     "text": [
      "gcm1.θ = [1.6123212633809156, 0.8695969631187371, 0.09778052310458214]\n",
      "gcm2.θ = [1.612321263364836, 0.8695969629750789, 0.0977805232498743]\n"
     ]
    }
   ],
   "source": [
    "@show gcm1.θ\n",
    "@show gcm2.θ;"
   ]
  },
  {
   "cell_type": "code",
   "execution_count": 11,
   "metadata": {},
   "outputs": [
    {
     "name": "stdout",
     "output_type": "stream",
     "text": [
      "loglikelihood!(gcm1, true, true) = -112013.00953147069\n",
      "loglikelihood!(gcm2, true, true) = -112013.00953147092\n"
     ]
    }
   ],
   "source": [
    "@show loglikelihood!(gcm1, true, true)\n",
    "@show loglikelihood!(gcm2, true, true);"
   ]
  },
  {
   "cell_type": "code",
   "execution_count": null,
   "metadata": {},
   "outputs": [],
   "source": []
  }
 ],
 "metadata": {
  "@webio": {
   "lastCommId": null,
   "lastKernelId": null
  },
  "kernelspec": {
   "display_name": "Julia 1.5.2",
   "language": "julia",
   "name": "julia-1.5"
  },
  "language_info": {
   "file_extension": ".jl",
   "mimetype": "application/julia",
   "name": "julia",
   "version": "1.5.2"
  }
 },
 "nbformat": 4,
 "nbformat_minor": 4
}
