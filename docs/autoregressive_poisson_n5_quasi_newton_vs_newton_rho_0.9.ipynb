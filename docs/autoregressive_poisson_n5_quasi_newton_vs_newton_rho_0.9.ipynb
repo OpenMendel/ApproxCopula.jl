{
 "cells": [
  {
   "cell_type": "markdown",
   "metadata": {},
   "source": [
    "# n = 5: Autoregressive covariance structure \n",
    "\n",
    "We try to parameterize covariance Gamma only using two parameters rho and sigma2 as in the AR(1) structure.\n",
    "\n",
    "For n = 5 this autoregressive model converges in 15 iterations using Quasi-Newton, 13 with Newton. \n",
    "\n",
    "Here we just initialize beta under independent GLM assumptions, sigma2 using MM-Algorithm letting rho = 0, then MOM using the empirical covariance between Y_1 and Y_2.\n",
    "\n",
    "We set IPOPT convergence tolerance to 10^-6, with the adaptive mean option turned on. \n",
    "\n",
    "$$\\mu_i = 5, \\rho = 0.9, \\sigma^2 = 0.1, n_i = 5$$\n",
    "\n",
    "$$\\Gamma_i = \\sigma^2 * \\begin{pmatrix} 1 & \\rho & \\rho^2 & \\rho^3 & \\rho^4\\\\ \\rho & 1 & \\rho & \\rho^2 & \\rho^3 \\\\ \\rho^2 & \\rho & 1 & \\rho & \\rho^2 \\\\ \\rho^3 & \\rho^2 & \\rho & 1 & \\rho \\\\ \\rho^4 & \\rho^3 & \\rho^2 & \\rho & 1\\end{pmatrix} \\forall i \\in [1, N = 10,000]$$ "
   ]
  },
  {
   "cell_type": "code",
   "execution_count": 1,
   "metadata": {},
   "outputs": [
    {
     "data": {
      "text/plain": [
       "5×5 Array{Float64,2}:\n",
       " 0.1     0.01    0.001  0.0001  1.0e-5\n",
       " 0.01    0.1     0.01   0.001   0.0001\n",
       " 0.001   0.01    0.1    0.01    0.001\n",
       " 0.0001  0.001   0.01   0.1     0.01\n",
       " 1.0e-5  0.0001  0.001  0.01    0.1"
      ]
     },
     "execution_count": 1,
     "metadata": {},
     "output_type": "execute_result"
    }
   ],
   "source": [
    "using DataFrames, Random, GLM, GLMCopula, Test\n",
    "using LinearAlgebra, BenchmarkTools, Revise\n",
    "\n",
    "Random.seed!(1234)\n",
    "\n",
    "# sample size\n",
    "N = 10_000\n",
    "# observations per subject\n",
    "n = 5\n",
    "ρ = 0.1\n",
    "σ2 = 0.1\n",
    "\n",
    "V = zeros(n, n) # will store the AR(1) structure without sigma2\n",
    "\n",
    "mean = 5\n",
    "\n",
    "dist = Poisson\n",
    "\n",
    "\"\"\"\n",
    "    get_AR_cov(n, ρ, σ2, V)\n",
    "Forms the AR(1) covariance structure given n (size of cluster), ρ (correlation parameter), σ2 (noise parameter)\n",
    "\"\"\"\n",
    "function get_AR_cov(n, ρ, σ2, V)\n",
    "    @inbounds for i in 1:n\n",
    "        V[i, i] = 1.0\n",
    "        @inbounds for j in i+1:n\n",
    "            V[i, j] = ρ^(j-i)\n",
    "            V[j, i] = V[i, j]\n",
    "        end\n",
    "    end\n",
    "    V\n",
    "end\n",
    "\n",
    "V = get_AR_cov(n, ρ, σ2, V)\n",
    "\n",
    "# true Gamma\n",
    "Γ = σ2 * V"
   ]
  },
  {
   "cell_type": "code",
   "execution_count": 2,
   "metadata": {},
   "outputs": [
    {
     "data": {
      "text/plain": [
       "10000-element Array{Array{Float64,1},1}:\n",
       " [3.0, 8.0, 7.0, 4.0, 2.0]\n",
       " [2.0, 6.0, 6.0, 6.0, 7.0]\n",
       " [3.0, 5.0, 5.0, 10.0, 3.0]\n",
       " [5.0, 6.0, 3.0, 5.0, 2.0]\n",
       " [1.0, 10.0, 1.0, 8.0, 2.0]\n",
       " [5.0, 5.0, 4.0, 5.0, 4.0]\n",
       " [1.0, 4.0, 6.0, 5.0, 5.0]\n",
       " [7.0, 8.0, 6.0, 4.0, 2.0]\n",
       " [5.0, 3.0, 4.0, 6.0, 4.0]\n",
       " [5.0, 5.0, 6.0, 4.0, 7.0]\n",
       " [3.0, 7.0, 6.0, 3.0, 6.0]\n",
       " [6.0, 3.0, 3.0, 8.0, 5.0]\n",
       " [3.0, 4.0, 7.0, 3.0, 4.0]\n",
       " ⋮\n",
       " [7.0, 4.0, 8.0, 5.0, 3.0]\n",
       " [2.0, 4.0, 4.0, 7.0, 7.0]\n",
       " [7.0, 2.0, 4.0, 6.0, 8.0]\n",
       " [7.0, 4.0, 8.0, 2.0, 6.0]\n",
       " [3.0, 6.0, 5.0, 5.0, 1.0]\n",
       " [3.0, 4.0, 4.0, 7.0, 7.0]\n",
       " [3.0, 4.0, 8.0, 2.0, 3.0]\n",
       " [2.0, 9.0, 7.0, 4.0, 6.0]\n",
       " [6.0, 4.0, 3.0, 4.0, 7.0]\n",
       " [6.0, 4.0, 4.0, 9.0, 6.0]\n",
       " [2.0, 3.0, 2.0, 5.0, 4.0]\n",
       " [4.0, 4.0, 2.0, 4.0, 4.0]"
      ]
     },
     "execution_count": 2,
     "metadata": {},
     "output_type": "execute_result"
    }
   ],
   "source": [
    "vecd = [dist(mean) for i in 1:n]\n",
    "nonmixed_multivariate_dist = NonMixedMultivariateDistribution(vecd, Γ)\n",
    "\n",
    "Y_Nsample = simulate_nobs_independent_vectors(nonmixed_multivariate_dist, N)"
   ]
  },
  {
   "cell_type": "code",
   "execution_count": 3,
   "metadata": {},
   "outputs": [],
   "source": [
    "d = Poisson()\n",
    "link = LogLink()\n",
    "D = typeof(d)\n",
    "Link = typeof(link)\n",
    "T = Float64\n",
    "gcs = Vector{GLMCopulaARObs{T, D, Link}}(undef, N)\n",
    "\n",
    "for i in 1:N\n",
    "    y = Float64.(Y_Nsample[i])\n",
    "    X = ones(n, 1)\n",
    "    gcs[i] = GLMCopulaARObs(y, X, d, link)\n",
    "end\n",
    "\n",
    "gcm = GLMCopulaARModel(gcs);"
   ]
  },
  {
   "cell_type": "code",
   "execution_count": 4,
   "metadata": {},
   "outputs": [
    {
     "name": "stdout",
     "output_type": "stream",
     "text": [
      "initializing β using Newton's Algorithm under Independence Assumption\n",
      "1 0.0 -112258.32152308253 39999\n",
      "2 -112258.32152308253 -112258.32152308253 39999\n",
      "gcm.β = [1.6199900423678915]\n",
      "exp.(gcm.β) = [5.053040000000001]\n",
      "gcm.ρ = [1.0]\n",
      "gcm.σ2 = [0.08786419763584018]\n"
     ]
    }
   ],
   "source": [
    "initialize_model!(gcm)\n",
    "@show gcm.β\n",
    "@show exp.(gcm.β)\n",
    "@show gcm.ρ\n",
    "@show gcm.σ2;"
   ]
  },
  {
   "cell_type": "code",
   "execution_count": 5,
   "metadata": {},
   "outputs": [
    {
     "name": "stdout",
     "output_type": "stream",
     "text": [
      "exp.(gcm.β) = [5.053040000000001]\n",
      "gcm.ρ = [0.0022407940422173524]\n",
      "gcm.σ2 = [0.08786419763584018]\n"
     ]
    }
   ],
   "source": [
    "Y_1 = [Y_Nsample[i][1] for i in 1:N]\n",
    "Y_2 = [Y_Nsample[i][2] for i in 1:N]\n",
    "\n",
    "update_rho!(gcm, Y_1, Y_2)\n",
    "@show exp.(gcm.β)\n",
    "@show gcm.ρ\n",
    "@show gcm.σ2;"
   ]
  },
  {
   "cell_type": "code",
   "execution_count": 6,
   "metadata": {},
   "outputs": [],
   "source": [
    "loglikelihood!(gcm, true, true)\n",
    "\n",
    "gcm1 = deepcopy(gcm)\n",
    "gcm2 = deepcopy(gcm);"
   ]
  },
  {
   "cell_type": "markdown",
   "metadata": {},
   "source": [
    "## Quasi Newton\n",
    "## Number of Iterations....: 12\n",
    "## 0.92 seconds "
   ]
  },
  {
   "cell_type": "code",
   "execution_count": 7,
   "metadata": {},
   "outputs": [
    {
     "name": "stdout",
     "output_type": "stream",
     "text": [
      "gcm.θ = [1.6199900423678915, 0.0022407940422173524, 0.08786419763584018]\n",
      "gcm.θ = [1.6199900423678915, 0.00999999, 0.08786419763584018]\n",
      "\n",
      "******************************************************************************\n",
      "This program contains Ipopt, a library for large-scale nonlinear optimization.\n",
      " Ipopt is released as open source code under the Eclipse Public License (EPL).\n",
      "         For more information visit https://github.com/coin-or/Ipopt\n",
      "******************************************************************************\n",
      "\n",
      "This is Ipopt version 3.13.4, running with linear solver mumps.\n",
      "NOTE: Other linear solvers might be more efficient (see Ipopt documentation).\n",
      "\n",
      "Number of nonzeros in equality constraint Jacobian...:        0\n",
      "Number of nonzeros in inequality constraint Jacobian.:        0\n",
      "Number of nonzeros in Lagrangian Hessian.............:        0\n",
      "\n",
      "Total number of variables............................:        3\n",
      "                     variables with only lower bounds:        1\n",
      "                variables with lower and upper bounds:        1\n",
      "                     variables with only upper bounds:        0\n",
      "Total number of equality constraints.................:        0\n",
      "Total number of inequality constraints...............:        0\n",
      "        inequality constraints with only lower bounds:        0\n",
      "   inequality constraints with lower and upper bounds:        0\n",
      "        inequality constraints with only upper bounds:        0\n",
      "\n",
      "iter    objective    inf_pr   inf_du lg(mu)  ||d||  lg(rg) alpha_du alpha_pr  ls\n",
      "   0  1.1219149e+05 0.00e+00 9.99e+01   0.0 0.00e+00    -  0.00e+00 0.00e+00   0\n",
      "gcm.θ = [1.6077915690766376, 0.010024814173825348, 0.08788744570731553]\n",
      "   1  1.1218832e+05 0.00e+00 6.87e+01  -0.7 9.99e+01    -  6.77e-01 1.22e-04f 14\n",
      "gcm.θ = [1.6127180881321865, 0.011284706455151675, 0.08848249830272319]\n",
      "   2  1.1218535e+05 0.00e+00 1.75e+01  -0.8 4.93e-03    -  1.00e+00 1.00e+00f  1\n",
      "gcm.θ = [1.6127734171154082, 0.011391361087089786, 0.08895548485408891]\n",
      "   3  1.1218530e+05 0.00e+00 5.59e+00  -9.8 4.73e-04    -  9.81e-01 1.00e+00f  1\n",
      "gcm.θ = [1.6123567758142543, 0.013634545754650193, 0.09771529781702175]\n",
      "   4  1.1218481e+05 0.00e+00 2.73e+00  -9.0 8.76e-03    -  8.27e-01 1.00e+00f  1\n",
      "gcm.θ = [1.6121166195430885, 0.015992620661207425, 0.09926160911452826]\n",
      "   5  1.1218476e+05 0.00e+00 1.05e+00  -5.3 2.36e-03    -  9.94e-01 1.00e+00f  1\n",
      "gcm.θ = [1.611966107425669, 0.02798466276679175, 0.10171492013780203]\n",
      "   6  1.1218460e+05 0.00e+00 1.46e+00  -8.9 1.20e-02    -  5.66e-01 1.00e+00f  1\n",
      "gcm.θ = [1.611067733934827, 0.06882669267262478, 0.10163784859342827]\n",
      "   7  1.1218430e+05 0.00e+00 1.14e+01  -5.9 4.08e-02    -  1.00e+00 1.00e+00f  1\n",
      "gcm.θ = [1.6126326404911924, 0.0957637495788175, 0.10127134932380936]\n",
      "   8  1.1218428e+05 0.00e+00 9.52e+00 -11.0 5.39e-02    -  5.55e-01 5.00e-01f  2\n",
      "gcm.θ = [1.612258274619636, 0.08006604194391437, 0.09672165036454117]\n",
      "   9  1.1218419e+05 0.00e+00 1.20e+00  -8.4 1.57e-02    -  9.78e-01 1.00e+00f  1\n",
      "gcm.θ = [1.6118145707734597, 0.07995007382001165, 0.09994082690195175]\n",
      "iter    objective    inf_pr   inf_du lg(mu)  ||d||  lg(rg) alpha_du alpha_pr  ls\n",
      "  10  1.1218418e+05 0.00e+00 2.68e+00 -11.0 3.22e-03    -  9.58e-01 1.00e+00f  1\n",
      "gcm.θ = [1.6120745562893648, 0.08229730834710544, 0.0989921225993855]\n",
      "  11  1.1218417e+05 0.00e+00 6.20e-02 -11.0 2.35e-03    -  9.83e-01 1.00e+00f  1\n",
      "gcm.θ = [1.6120713898053811, 0.08241574549203264, 0.09896744748323086]\n",
      "  12  1.1218417e+05 0.00e+00 1.43e-03 -11.0 1.18e-04    -  1.00e+00 1.00e+00f  1\n",
      "gcm.θ = [1.6120714467929318, 0.08242411749012322, 0.09896875323469587]\n",
      "  13  1.1218417e+05 0.00e+00 4.45e-04 -11.0 8.37e-06    -  1.00e+00 1.00e+00f  1\n",
      "gcm.θ = [1.6120715281472078, 0.08241861721328363, 0.09896826242702515]\n",
      "  14  1.1218417e+05 0.00e+00 1.13e-03 -11.0 5.50e-06    -  1.00e+00 1.00e+00f  1\n",
      "gcm.θ = [1.6120713571268226, 0.08241829917394168, 0.09896851884075701]\n",
      "  15  1.1218417e+05 0.00e+00 9.76e-04 -11.0 3.18e-07    -  1.00e+00 1.00e+00f  1\n",
      "gcm.θ = [1.6120714433334757, 0.08241962936320475, 0.0989682774346795]\n",
      "  16  1.1218417e+05 0.00e+00 5.99e-06 -11.0 1.33e-06    -  1.00e+00 1.00e+00f  1\n",
      "gcm.θ = [1.612071443611035, 0.0824196070382652, 0.0989682820323802]\n",
      "  17  1.1218417e+05 0.00e+00 1.59e-06 -11.0 4.46e-08    -  1.00e+00 5.00e-01f  2\n",
      "gcm.θ = [1.6120714426575689, 0.08241960878671233, 0.09896828673680268]\n",
      "  18  1.1218417e+05 0.00e+00 7.41e-06 -11.0 4.70e-09    -  1.00e+00 1.00e+00f  1\n",
      "gcm.θ = [1.6120714428216738, 0.08241960461513184, 0.0989682858631572]\n",
      "  19  1.1218417e+05 0.00e+00 5.92e-06 -11.0 1.67e-08    -  1.00e+00 2.50e-01f  3\n",
      "gcm.θ = [1.612071444961507, 0.08241964781130645, 0.09896828315747667]\n",
      "iter    objective    inf_pr   inf_du lg(mu)  ||d||  lg(rg) alpha_du alpha_pr  ls\n",
      "  20  1.1218417e+05 0.00e+00 2.09e-05 -11.0 8.64e-08    -  1.00e+00 5.00e-01f  2\n",
      "gcm.θ = [1.6120714434417753, 0.08241959732189377, 0.09896828294189804]\n",
      "  21  1.1218417e+05 0.00e+00 2.92e-07 -11.0 5.05e-08    -  1.00e+00 1.00e+00f  1\n",
      "\n",
      "Number of Iterations....: 21\n",
      "\n",
      "                                   (scaled)                 (unscaled)\n",
      "Objective...............:   6.6616767525360456e+03    1.1218416665820028e+05\n",
      "Dual infeasibility......:   2.9156645320252945e-07    4.9100460429216730e-06\n",
      "Constraint violation....:   0.0000000000000000e+00    0.0000000000000000e+00\n",
      "Complementarity.........:   1.0000000000000001e-11    1.6840229693746802e-10\n",
      "Overall NLP error.......:   2.9156645320252945e-07    4.9100460429216730e-06\n",
      "\n",
      "\n",
      "Number of objective function evaluations             = 60\n",
      "Number of objective gradient evaluations             = 22\n",
      "Number of equality constraint evaluations            = 0\n",
      "Number of inequality constraint evaluations          = 0\n",
      "Number of equality constraint Jacobian evaluations   = 0\n",
      "Number of inequality constraint Jacobian evaluations = 0\n",
      "Number of Lagrangian Hessian evaluations             = 0\n",
      "Total CPU secs in IPOPT (w/o function evaluations)   =      0.086\n",
      "Total CPU secs in NLP function evaluations           =      0.774\n",
      "\n",
      "EXIT: Optimal Solution Found.\n",
      "  1.260139 seconds (817.56 k allocations: 41.327 MiB)\n"
     ]
    },
    {
     "data": {
      "text/plain": [
       "-112184.16665820027"
      ]
     },
     "execution_count": 7,
     "metadata": {},
     "output_type": "execute_result"
    }
   ],
   "source": [
    "@time GLMCopula.fit!(gcm1, IpoptSolver(print_level = 5, max_iter = 100, tol = 10^-6, mu_strategy = \"adaptive\", mu_oracle = \"loqo\", hessian_approximation = \"limited-memory\"))"
   ]
  },
  {
   "cell_type": "markdown",
   "metadata": {},
   "source": [
    "# Newton\n",
    "## Number of Iterations....: 14\n",
    "## 0.84 seconds "
   ]
  },
  {
   "cell_type": "code",
   "execution_count": 8,
   "metadata": {},
   "outputs": [
    {
     "name": "stdout",
     "output_type": "stream",
     "text": [
      "gcm.θ = [1.6199900423678915, 0.0022407940422173524, 0.08786419763584018]\n",
      "gcm.θ = [1.6199900423678915, 0.00999999, 0.08786419763584018]\n",
      "This is Ipopt version 3.13.4, running with linear solver mumps.\n",
      "NOTE: Other linear solvers might be more efficient (see Ipopt documentation).\n",
      "\n",
      "Number of nonzeros in equality constraint Jacobian...:        0\n",
      "Number of nonzeros in inequality constraint Jacobian.:        0\n",
      "Number of nonzeros in Lagrangian Hessian.............:        5\n",
      "\n",
      "Total number of variables............................:        3\n",
      "                     variables with only lower bounds:        1\n",
      "                variables with lower and upper bounds:        1\n",
      "                     variables with only upper bounds:        0\n",
      "Total number of equality constraints.................:        0\n",
      "Total number of inequality constraints...............:        0\n",
      "        inequality constraints with only lower bounds:        0\n",
      "   inequality constraints with lower and upper bounds:        0\n",
      "        inequality constraints with only upper bounds:        0\n",
      "\n",
      "iter    objective    inf_pr   inf_du lg(mu)  ||d||  lg(rg) alpha_du alpha_pr  ls\n",
      "   0  1.1219149e+05 0.00e+00 9.99e+01   0.0 0.00e+00    -  0.00e+00 0.00e+00   0\n",
      "gcm.θ = [1.6127966776952964, 0.1923105774455695, 0.09509667728445699]\n",
      "   1  1.1218583e+05 0.00e+00 6.57e+00  -0.7 1.82e-01    -  1.00e+00 1.00e+00f  1\n",
      "gcm.θ = [1.612291382709857, 0.12202680983168353, 0.09805943581894813]\n",
      "   2  1.1218438e+05 0.00e+00 2.26e+00  -6.9 7.03e-02    -  9.11e-01 1.00e+00f  1\n",
      "gcm.θ = [1.6121212316115487, 0.09299177451823994, 0.09870065954493216]\n",
      "   3  1.1218418e+05 0.00e+00 4.65e-01  -3.5 2.90e-02    -  1.00e+00 1.00e+00f  1\n",
      "gcm.θ = [1.612085796672895, 0.08412457716355567, 0.09891746323419703]\n",
      "   4  1.1218417e+05 0.00e+00 1.55e-01  -2.9 8.87e-03    -  1.00e+00 1.00e+00f  1\n",
      "gcm.θ = [1.6120742651837268, 0.08246104719551672, 0.09894953332834598]\n",
      "   5  1.1218417e+05 0.00e+00 2.27e-02  -9.1 1.66e-03    -  9.88e-01 1.00e+00f  1\n",
      "gcm.θ = [1.612072511696162, 0.08242085764352353, 0.09896450321864624]\n",
      "   6  1.1218417e+05 0.00e+00 1.13e-02  -8.6 4.02e-05    -  9.90e-01 1.00e+00f  1\n",
      "gcm.θ = [1.6120716655334564, 0.08242005658071695, 0.098966878600379]\n",
      "   7  1.1218417e+05 0.00e+00 1.84e-03 -10.6 2.38e-06    -  9.90e-01 1.00e+00f  1\n",
      "gcm.θ = [1.6120715238327226, 0.0824196973836195, 0.09896798655074007]\n",
      "   8  1.1218417e+05 0.00e+00 8.43e-04  -8.6 1.11e-06    -  1.00e+00 1.00e+00f  1\n",
      "gcm.θ = [1.6120714608102518, 0.08241963291288522, 0.09896817761591731]\n",
      "   9  1.1218417e+05 0.00e+00 1.48e-04 -11.0 1.91e-07    -  1.00e+00 1.00e+00f  1\n",
      "gcm.θ = [1.6120714494738506, 0.08241960598361195, 0.0989682602433927]\n",
      "iter    objective    inf_pr   inf_du lg(mu)  ||d||  lg(rg) alpha_du alpha_pr  ls\n",
      "  10  1.1218417e+05 0.00e+00 6.29e-05 -11.0 8.26e-08    -  1.00e+00 1.00e+00f  1\n",
      "gcm.θ = [1.6120714482965188, 0.08241960473593166, 0.09896826405345853]\n",
      "  11  1.1218417e+05 0.00e+00 5.01e-05 -11.0 1.52e-08    -  1.00e+00 2.50e-01f  3\n",
      "gcm.θ = [1.612071444539423, 0.08241960048909423, 0.09896827702911175]\n",
      "  12  1.1218417e+05 0.00e+00 1.00e-05 -11.0 1.30e-08    -  1.00e+00 1.00e+00f  1\n",
      "gcm.θ = [1.6120714441576516, 0.0824195996839958, 0.098968279498231]\n",
      "  13  1.1218417e+05 0.00e+00 6.88e-06 -11.0 4.94e-09    -  1.00e+00 5.00e-01f  2\n",
      "gcm.θ = [1.6120714436346313, 0.08241959871178049, 0.09896828247813845]\n",
      "  14  1.1218417e+05 0.00e+00 2.28e-06 -11.0 2.98e-09    -  1.00e+00 1.00e+00f  1\n",
      "gcm.θ = [1.6120714434634063, 0.08241959848405851, 0.09896828317475964]\n",
      "  15  1.1218417e+05 0.00e+00 5.35e-07 -11.0 6.97e-10    -  1.00e+00 1.00e+00f  1\n",
      "\n",
      "Number of Iterations....: 15\n",
      "\n",
      "                                   (scaled)                 (unscaled)\n",
      "Objective...............:   6.6616767525360910e+03    1.1218416665820104e+05\n",
      "Dual infeasibility......:   5.3506638366892298e-07    9.0106408023871137e-06\n",
      "Constraint violation....:   0.0000000000000000e+00    0.0000000000000000e+00\n",
      "Complementarity.........:   1.0000000000000001e-11    1.6840229693746802e-10\n",
      "Overall NLP error.......:   5.3506638366892298e-07    9.0106408023871137e-06\n",
      "\n",
      "\n",
      "Number of objective function evaluations             = 27\n",
      "Number of objective gradient evaluations             = 16\n",
      "Number of equality constraint evaluations            = 0\n",
      "Number of inequality constraint evaluations          = 0\n",
      "Number of equality constraint Jacobian evaluations   = 0\n",
      "Number of inequality constraint Jacobian evaluations = 0\n",
      "Number of Lagrangian Hessian evaluations             = 15\n",
      "Total CPU secs in IPOPT (w/o function evaluations)   =      0.073\n",
      "Total CPU secs in NLP function evaluations           =      0.754\n",
      "\n",
      "EXIT: Optimal Solution Found.\n",
      "  0.856494 seconds (501.84 k allocations: 43.842 MiB)\n"
     ]
    },
    {
     "data": {
      "text/plain": [
       "-112184.16665820104"
      ]
     },
     "execution_count": 8,
     "metadata": {},
     "output_type": "execute_result"
    }
   ],
   "source": [
    "@time GLMCopula.fit!(gcm2, IpoptSolver(print_level = 5, max_iter = 100, tol = 10^-6, mu_strategy = \"adaptive\", mu_oracle = \"loqo\",  hessian_approximation = \"exact\"))"
   ]
  },
  {
   "cell_type": "code",
   "execution_count": 9,
   "metadata": {},
   "outputs": [
    {
     "name": "stdout",
     "output_type": "stream",
     "text": [
      "gcm1.∇θ = [-7.583713719228058e-7, 3.432596518970765e-7, 4.908344464649161e-6]\n",
      "gcm2.∇θ = [-9.010640802387115e-6, 1.9901345849060448e-9, 2.172579256498608e-6]\n"
     ]
    }
   ],
   "source": [
    "@show gcm1.∇θ\n",
    "@show gcm2.∇θ;"
   ]
  },
  {
   "cell_type": "code",
   "execution_count": 10,
   "metadata": {},
   "outputs": [
    {
     "name": "stdout",
     "output_type": "stream",
     "text": [
      "gcm1.θ = [1.6120714434417753, 0.08241959732189377, 0.09896828294189804]\n",
      "gcm2.θ = [1.6120714434634063, 0.08241959848405851, 0.09896828317475964]\n"
     ]
    }
   ],
   "source": [
    "@show gcm1.θ\n",
    "@show gcm2.θ;"
   ]
  },
  {
   "cell_type": "code",
   "execution_count": 11,
   "metadata": {},
   "outputs": [
    {
     "name": "stdout",
     "output_type": "stream",
     "text": [
      "loglikelihood!(gcm1, true, true) = -112184.16665820027\n",
      "loglikelihood!(gcm2, true, true) = -112184.16665820104\n"
     ]
    }
   ],
   "source": [
    "@show loglikelihood!(gcm1, true, true)\n",
    "@show loglikelihood!(gcm2, true, true);"
   ]
  }
 ],
 "metadata": {
  "@webio": {
   "lastCommId": null,
   "lastKernelId": null
  },
  "kernelspec": {
   "display_name": "Julia 1.5.2",
   "language": "julia",
   "name": "julia-1.5"
  },
  "language_info": {
   "file_extension": ".jl",
   "mimetype": "application/julia",
   "name": "julia",
   "version": "1.5.2"
  }
 },
 "nbformat": 4,
 "nbformat_minor": 4
}
