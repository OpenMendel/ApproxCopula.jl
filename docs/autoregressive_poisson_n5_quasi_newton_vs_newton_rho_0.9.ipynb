{
 "cells": [
  {
   "cell_type": "markdown",
   "metadata": {},
   "source": [
    "# n = 5: Autoregressive covariance structure \n",
    "\n",
    "We try to parameterize covariance Gamma only using two parameters rho and sigma2 as in the AR(1) structure.\n"
   ]
  },
  {
   "cell_type": "code",
   "execution_count": 1,
   "metadata": {},
   "outputs": [
    {
     "data": {
      "text/plain": [
       "5×5 Array{Float64,2}:\n",
       " 0.1      0.09    0.081  0.0729  0.06561\n",
       " 0.09     0.1     0.09   0.081   0.0729\n",
       " 0.081    0.09    0.1    0.09    0.081\n",
       " 0.0729   0.081   0.09   0.1     0.09\n",
       " 0.06561  0.0729  0.081  0.09    0.1"
      ]
     },
     "execution_count": 1,
     "metadata": {},
     "output_type": "execute_result"
    }
   ],
   "source": [
    "using DataFrames, Random, GLM, GLMCopula, Test\n",
    "using LinearAlgebra, BenchmarkTools, Revise\n",
    "\n",
    "Random.seed!(1234)\n",
    "\n",
    "# sample size\n",
    "N = 10000\n",
    "# observations per subject\n",
    "n = 5\n",
    "ρ = 0.9\n",
    "σ2 = 0.1\n",
    "\n",
    "V = zeros(n, n) # will store the AR(1) structure without sigma2\n",
    "\n",
    "mean = 5\n",
    "\n",
    "dist = Poisson\n",
    "\n",
    "V = get_AR_cov(n, ρ, σ2, V)\n",
    "\n",
    "# true Gamma\n",
    "Γ = σ2 * V"
   ]
  },
  {
   "cell_type": "code",
   "execution_count": 2,
   "metadata": {},
   "outputs": [
    {
     "data": {
      "text/plain": [
       "10000-element Array{Array{Float64,1},1}:\n",
       " [3.0, 8.0, 7.0, 4.0, 2.0]\n",
       " [2.0, 6.0, 6.0, 6.0, 7.0]\n",
       " [3.0, 5.0, 5.0, 10.0, 3.0]\n",
       " [5.0, 6.0, 3.0, 5.0, 2.0]\n",
       " [1.0, 10.0, 1.0, 2.0, 2.0]\n",
       " [5.0, 5.0, 4.0, 5.0, 4.0]\n",
       " [1.0, 4.0, 6.0, 5.0, 5.0]\n",
       " [7.0, 8.0, 6.0, 4.0, 9.0]\n",
       " [5.0, 3.0, 4.0, 6.0, 4.0]\n",
       " [5.0, 5.0, 6.0, 4.0, 7.0]\n",
       " [3.0, 7.0, 6.0, 3.0, 6.0]\n",
       " [6.0, 3.0, 3.0, 8.0, 5.0]\n",
       " [3.0, 4.0, 7.0, 3.0, 4.0]\n",
       " ⋮\n",
       " [7.0, 4.0, 8.0, 5.0, 3.0]\n",
       " [2.0, 4.0, 4.0, 7.0, 7.0]\n",
       " [7.0, 2.0, 4.0, 6.0, 8.0]\n",
       " [7.0, 4.0, 8.0, 2.0, 6.0]\n",
       " [3.0, 6.0, 5.0, 5.0, 1.0]\n",
       " [3.0, 4.0, 4.0, 7.0, 7.0]\n",
       " [3.0, 4.0, 8.0, 2.0, 3.0]\n",
       " [2.0, 9.0, 7.0, 6.0, 6.0]\n",
       " [6.0, 4.0, 3.0, 4.0, 7.0]\n",
       " [6.0, 4.0, 4.0, 9.0, 6.0]\n",
       " [2.0, 3.0, 2.0, 5.0, 4.0]\n",
       " [4.0, 4.0, 2.0, 4.0, 4.0]"
      ]
     },
     "execution_count": 2,
     "metadata": {},
     "output_type": "execute_result"
    }
   ],
   "source": [
    "vecd = [dist(mean) for i in 1:n]\n",
    "nonmixed_multivariate_dist = NonMixedMultivariateDistribution(vecd, Γ)\n",
    "\n",
    "Y_Nsample = simulate_nobs_independent_vectors(nonmixed_multivariate_dist, N)"
   ]
  },
  {
   "cell_type": "code",
   "execution_count": 3,
   "metadata": {},
   "outputs": [],
   "source": [
    "Random.seed!(1234)\n",
    "\n",
    "d = Poisson()\n",
    "link = LogLink()\n",
    "D = typeof(d)\n",
    "Link = typeof(link)\n",
    "T = Float64\n",
    "gcs = Vector{GLMCopulaARObs{T, D, Link}}(undef, N)\n",
    "\n",
    "for i in 1:N\n",
    "    y = Float64.(Y_Nsample[i])\n",
    "    X = ones(n, 1)\n",
    "    gcs[i] = GLMCopulaARObs(y, X, d, link)\n",
    "end\n",
    "\n",
    "gcm = GLMCopulaARModel(gcs);"
   ]
  },
  {
   "cell_type": "code",
   "execution_count": 4,
   "metadata": {},
   "outputs": [
    {
     "name": "stdout",
     "output_type": "stream",
     "text": [
      "initializing β using Newton's Algorithm under Independence Assumption\n",
      "1 0.0 -112233.55795434186 39999\n",
      "2 -112233.55795434186 -112233.55795434186 39999\n",
      "gcm.β = [1.620377852472435]\n",
      "exp.(gcm.β) = [5.0550000000000015]\n"
     ]
    }
   ],
   "source": [
    "initialize_model!(gcm)\n",
    "@show gcm.β\n",
    "@show exp.(gcm.β);\n",
    "fill!(gcm.ρ, 0.0)\n",
    "fill!(gcm.σ2, 0.0)\n",
    "\n",
    "loglikelihood!(gcm, true, true)\n",
    "\n",
    "gcm1 = deepcopy(gcm)\n",
    "gcm2 = deepcopy(gcm)\n",
    "gcm3 = deepcopy(gcm);"
   ]
  },
  {
   "cell_type": "markdown",
   "metadata": {},
   "source": [
    "# Quasi Newton\n",
    "## Number of Iterations....: 19\n",
    "## 1.2 seconds "
   ]
  },
  {
   "cell_type": "code",
   "execution_count": 5,
   "metadata": {},
   "outputs": [
    {
     "name": "stdout",
     "output_type": "stream",
     "text": [
      "gcm.θ = [1.620377852472435, 0.0, 0.0]\n",
      "gcm.∇θ = [-1.6888890286281821e-10, 0.0, 1942.1117705242389]\n",
      "gcm.θ = [1.620377852472435, 0.00999999, 0.00999999]\n",
      "gcm.∇θ = [-256.4258556825465, 26.074233261376982, 1578.4451108237101]\n",
      "\n",
      "******************************************************************************\n",
      "This program contains Ipopt, a library for large-scale nonlinear optimization.\n",
      " Ipopt is released as open source code under the Eclipse Public License (EPL).\n",
      "         For more information visit https://github.com/coin-or/Ipopt\n",
      "******************************************************************************\n",
      "\n",
      "This is Ipopt version 3.13.4, running with linear solver mumps.\n",
      "NOTE: Other linear solvers might be more efficient (see Ipopt documentation).\n",
      "\n",
      "Number of nonzeros in equality constraint Jacobian...:        0\n",
      "Number of nonzeros in inequality constraint Jacobian.:        0\n",
      "Number of nonzeros in Lagrangian Hessian.............:        0\n",
      "\n",
      "Total number of variables............................:        3\n",
      "                     variables with only lower bounds:        1\n",
      "                variables with lower and upper bounds:        1\n",
      "                     variables with only upper bounds:        0\n",
      "Total number of equality constraints.................:        0\n",
      "Total number of inequality constraints...............:        0\n",
      "        inequality constraints with only lower bounds:        0\n",
      "   inequality constraints with lower and upper bounds:        0\n",
      "        inequality constraints with only upper bounds:        0\n",
      "\n",
      "iter    objective    inf_pr   inf_du lg(mu)  ||d||  lg(rg) alpha_du alpha_pr  ls\n",
      "   0  1.1221588e+05 0.00e+00 8.13e+01   0.0 0.00e+00    -  0.00e+00 0.00e+00   0\n",
      "gcm.θ = [1.5965691223381906, 0.0176570214046875, 0.14875175399186108]\n",
      "gcm.∇θ = [2974.6341818143883, 257.28667594787316, -180.44598742966505]\n",
      "   1  1.1218781e+05 0.00e+00 1.53e+02  -1.5 7.69e+01    -  2.29e-04 1.80e-03f  8\n",
      "gcm.θ = [1.6097226709999946, 0.01996763377138742, 0.16654594535202882]\n",
      "gcm.∇θ = [-135.98613333072652, 270.6189888387163, -415.12410005852155]\n",
      "   2  1.1217396e+05 0.00e+00 2.14e+01  -4.5 1.42e-01    -  1.00e+00 1.25e-01f  4\n",
      "gcm.θ = [1.6094611701549324, 0.020299679154036993, 0.13359728953385094]\n",
      "gcm.∇θ = [277.58862148748204, 235.6418649671798, -237.04254374700884]\n",
      "   3  1.1216295e+05 0.00e+00 1.43e+01  -6.2 3.29e-02    -  1.00e+00 1.00e+00f  1\n",
      "gcm.θ = [1.6126631871100563, 0.05586172159711265, 0.08925643793714916]\n",
      "gcm.∇θ = [118.41494447896304, 178.9532479595777, 156.97726199353767]\n",
      "   4  1.1215233e+05 0.00e+00 9.21e+00  -6.0 4.43e-02    -  1.00e+00 1.00e+00f  1\n",
      "gcm.θ = [1.6138751807480736, 0.11242935531196718, 0.09843631251665295]\n",
      "gcm.∇θ = [-293.3018593071799, 192.76967335036701, 112.26861776813692]\n",
      "   5  1.1214068e+05 0.00e+00 1.51e+01  -6.6 5.66e-02    -  1.00e+00 1.00e+00f  1\n",
      "gcm.θ = [1.6211192498214242, 0.5517768293825434, 0.167957761482258]\n",
      "gcm.∇θ = [-2422.7523567162098, 163.58008526431996, -372.8877972095917]\n",
      "   6  1.1206546e+05 0.00e+00 1.25e+02  -4.6 2.48e+02    -  4.62e-04 1.77e-03f  2\n",
      "gcm.θ = [1.6237604378697548, 0.6977520525656662, 0.1768453466885585]\n",
      "gcm.∇θ = [-2845.433296717198, 19.019363798443113, -646.4694570323518]\n",
      "   7  1.1206195e+05 0.00e+00 1.47e+02  -8.0 2.92e-01    -  1.00e+00 5.00e-01f  2\n",
      "gcm.θ = [1.6241508582205288, 0.6792924770857595, 0.14767301621052356]\n",
      "gcm.∇θ = [-2774.0059364227036, 95.53776315791623, -379.7170382728016]\n",
      "   8  1.1204899e+05 0.00e+00 1.43e+02  -8.2 2.92e-02    -  1.00e+00 1.00e+00f  1\n",
      "gcm.θ = [1.623982768031835, 0.7412919097679915, 0.09907849110306327]\n",
      "gcm.∇θ = [-2344.8194075332576, 126.91587990513604, 199.71479046737272]\n",
      "   9  1.1203534e+05 0.00e+00 1.21e+02  -9.2 6.20e-02    -  1.00e+00 1.00e+00f  1\n",
      "gcm.θ = [1.6179103959256629, 0.7653294229417799, 0.10476357769936054]\n",
      "gcm.∇θ = [-1173.252948545686, 95.15841892795824, 97.4089147391042]\n",
      "iter    objective    inf_pr   inf_du lg(mu)  ||d||  lg(rg) alpha_du alpha_pr  ls\n",
      "  10  1.1202116e+05 0.00e+00 6.04e+01 -10.0 2.40e-02    -  1.00e+00 1.00e+00f  1\n",
      "gcm.θ = [1.6115808982125488, 0.8624000563099162, 0.09955795555756126]\n",
      "gcm.∇θ = [120.47367801028348, 3.060822113825704, -6.65271276780865]\n",
      "  11  1.1201307e+05 0.00e+00 6.20e+00 -10.8 9.71e-02    -  1.00e+00 1.00e+00f  1\n",
      "gcm.θ = [1.6122106106570735, 0.8705548250638977, 0.0996520570001428]\n",
      "gcm.∇θ = [-0.9305665724233858, -8.921012439200082, -48.83662597006645]\n",
      "  12  1.1201306e+05 0.00e+00 2.51e+00 -11.0 6.52e-02    -  1.00e+00 1.25e-01f  4\n",
      "gcm.θ = [1.6124426399468157, 0.870820092478657, 0.09706154079546299]\n",
      "gcm.∇θ = [-14.722388635230963, 1.165897545730316, 11.798397924027547]\n",
      "  13  1.1201301e+05 0.00e+00 7.58e-01 -11.0 2.59e-03    -  1.00e+00 1.00e+00f  1\n",
      "gcm.θ = [1.6123173158571642, 0.869506156783955, 0.09780691520778567]\n",
      "gcm.∇θ = [0.44550706788974814, 0.021637969204724716, -0.25161649728070445]\n",
      "  14  1.1201301e+05 0.00e+00 2.29e-02 -11.0 1.31e-03    -  1.00e+00 1.00e+00f  1\n",
      "gcm.θ = [1.6123212011731978, 0.8695977396335838, 0.0977805521980233]\n",
      "gcm.∇θ = [0.011484924805251318, -0.0011985648117411318, -0.003098177083102893]\n",
      "  15  1.1201301e+05 0.00e+00 5.91e-04 -11.0 9.16e-05    -  1.00e+00 1.00e+00f  1\n",
      "gcm.θ = [1.6123212526017046, 0.8695961204243303, 0.0977804599639402]\n",
      "gcm.∇θ = [0.002838563001151151, 0.0014311155913561135, 0.005077636918509931]\n",
      "  16  1.1201301e+05 0.00e+00 2.61e-04 -11.0 3.24e-06    -  1.00e+00 5.00e-01f  2\n",
      "gcm.θ = [1.6123212661954114, 0.8695969595549218, 0.09778052729823947]\n",
      "gcm.∇θ = [-0.0005843798508404774, -1.153286615440674e-5, -0.00012328539967976226]\n",
      "  17  1.1201301e+05 0.00e+00 3.01e-05 -11.0 8.39e-07    -  1.00e+00 1.00e+00f  1\n",
      "gcm.θ = [1.6123212142567735, 0.8695973310183273, 0.09778045345905667]\n",
      "gcm.∇θ = [0.010172657084182468, -0.0002333499679089135, 0.000854350702018003]\n",
      "  18  1.1201301e+05 0.00e+00 5.24e-04 -11.0 3.71e-07    -  1.00e+00 1.00e+00f  1\n",
      "gcm.θ = [1.6123212633970279, 0.8695969634581063, 0.09778052299968304]\n",
      "gcm.∇θ = [-3.1603100048016586e-7, 3.1527177740686696e-7, 1.799963521786907e-6]\n",
      "  19  1.1201301e+05 0.00e+00 9.28e-08 -11.0 3.68e-07    -  1.00e+00 1.00e+00f  1\n",
      "\n",
      "Number of Iterations....: 19\n",
      "\n",
      "                                   (scaled)                 (unscaled)\n",
      "Objective...............:   5.7675882115288632e+03    1.1201300953147048e+05\n",
      "Dual infeasibility......:   9.2783007849599752e-08    1.8019497164935051e-06\n",
      "Constraint violation....:   0.0000000000000000e+00    0.0000000000000000e+00\n",
      "Complementarity.........:   9.9999999999982126e-12    1.9421117705238917e-10\n",
      "Overall NLP error.......:   9.2783007849599752e-08    1.8019497164935051e-06\n",
      "\n",
      "\n",
      "Number of objective function evaluations             = 60\n",
      "Number of objective gradient evaluations             = 20\n",
      "Number of equality constraint evaluations            = 0\n",
      "Number of inequality constraint evaluations          = 0\n",
      "Number of equality constraint Jacobian evaluations   = 0\n",
      "Number of inequality constraint Jacobian evaluations = 0\n",
      "Number of Lagrangian Hessian evaluations             = 0\n",
      "Total CPU secs in IPOPT (w/o function evaluations)   =      0.087\n",
      "Total CPU secs in NLP function evaluations           =      0.774\n",
      "\n",
      "EXIT: Optimal Solution Found.\n",
      "  1.235659 seconds (841.96 k allocations: 42.585 MiB)\n"
     ]
    },
    {
     "data": {
      "text/plain": [
       "-112013.00953147048"
      ]
     },
     "execution_count": 5,
     "metadata": {},
     "output_type": "execute_result"
    }
   ],
   "source": [
    "@time GLMCopula.fit!(gcm, IpoptSolver(print_level = 5, max_iter = 100, tol = 10^-5, warm_start_init_point=\"yes\", hessian_approximation = \"limited-memory\"))"
   ]
  },
  {
   "cell_type": "markdown",
   "metadata": {},
   "source": [
    "# Newton with mehrotra\n",
    "## Number of Iterations....: 13\n",
    "## 0.7 seconds "
   ]
  },
  {
   "cell_type": "code",
   "execution_count": 6,
   "metadata": {},
   "outputs": [
    {
     "name": "stdout",
     "output_type": "stream",
     "text": [
      "gcm.θ = [1.620377852472435, 0.0, 0.0]\n",
      "gcm.∇θ = [-1.6888890286281821e-10, 0.0, 1942.1117705242389]\n",
      "gcm.θ = [1.620377852472435, 0.199999994, 9.99999999]\n",
      "gcm.∇θ = [-6002.154868176945, 139.30358328252711, -16.916293906259906]\n",
      "This is Ipopt version 3.13.4, running with linear solver mumps.\n",
      "NOTE: Other linear solvers might be more efficient (see Ipopt documentation).\n",
      "\n",
      "Number of nonzeros in equality constraint Jacobian...:        0\n",
      "Number of nonzeros in inequality constraint Jacobian.:        0\n",
      "Number of nonzeros in Lagrangian Hessian.............:        5\n",
      "\n",
      "Total number of variables............................:        3\n",
      "                     variables with only lower bounds:        1\n",
      "                variables with lower and upper bounds:        1\n",
      "                     variables with only upper bounds:        0\n",
      "Total number of equality constraints.................:        0\n",
      "Total number of inequality constraints...............:        0\n",
      "        inequality constraints with only lower bounds:        0\n",
      "   inequality constraints with lower and upper bounds:        0\n",
      "        inequality constraints with only upper bounds:        0\n",
      "\n",
      "iter    objective    inf_pr   inf_du lg(mu)  ||d||  lg(rg) alpha_du alpha_pr  ls\n",
      "   0  1.1338969e+05 0.00e+00 3.09e+02   0.0 0.00e+00    -  0.00e+00 0.00e+00   0\n",
      "gcm.θ = [1.5819552862740778, 0.2382147785368691, 9.380462684219577]\n",
      "gcm.∇θ = [-367.4565437630323, -19.51113851734554, -17.987539571288185]\n",
      "   1  1.1325577e+05 0.00e+00 1.89e+01  -4.6 6.20e-01   0.0 9.97e-01 1.00e+00f  1\n",
      "gcm.θ = [1.6156957541227717, 0.2530702010753182, 0.09380461694219555]\n",
      "gcm.∇θ = [-648.0977349637801, 193.32487256985902, 303.45516975776627]\n",
      "   2  1.1211540e+05 0.00e+00 3.34e+01  -9.2 1.64e+01  -0.5 9.91e-01 5.65e-01f  1\n",
      "gcm.θ = [1.6151827363225453, 0.9925307119107531, 0.15451865077023794]\n",
      "gcm.∇θ = [-974.1561665084944, -783.2444995739502, -1886.113850121101]\n",
      "   3  1.1210689e+05 0.00e+00 9.70e+01  -6.0 6.90e+01   0.9 1.00e+00 1.07e-02f  1\n",
      "gcm.θ = [1.615107555449139, 0.9999253170191075, 0.14471662641505004]\n",
      "gcm.∇θ = [-891.2702184383701, -725.1993314870318, -1828.3753323543385]\n",
      "   4  1.1209418e+05 0.00e+00 9.39e+01  -4.2 2.39e-01   2.2 1.00e+00 4.09e-02f  1\n",
      "gcm.θ = [1.6123441128252525, 0.9886756583935428, 0.0295472064396861]\n",
      "gcm.∇θ = [1093.0722929121878, 123.53699588123382, 3251.5766197191097]\n",
      "   5  1.1208489e+05 0.00e+00 1.68e+02  -2.5 1.15e-01    -  1.00e+00 1.00e+00f  1\n",
      "gcm.θ = [1.6166551013818156, 0.9922083615165695, 0.06006951040063481]\n",
      "gcm.∇θ = [-364.7877986817282, 18.890137425655357, 787.7028734946117]\n",
      "   6  1.1202538e+05 0.00e+00 4.12e+01  -1.9 3.05e-02    -  1.00e+00 1.00e+00f  1\n",
      "gcm.θ = [1.6144449665020868, 0.9818888017296675, 0.07524328941983557]\n",
      "gcm.∇θ = [-129.18077052791276, -57.99773328532491, 133.7415663527058]\n",
      "   7  1.1201793e+05 0.00e+00 7.12e+00  -4.1 1.52e-02    -  6.59e-01 1.00e+00f  1\n",
      "gcm.θ = [1.612831811437612, 0.8122768212957436, 0.10440073075098597]\n",
      "gcm.∇θ = [-172.607668539661, 49.176578503951134, 39.51884125329881]\n",
      "   8  1.1201436e+05 0.00e+00 8.89e+00  -2.2 1.70e-01    -  1.00e+00 1.00e+00f  1\n",
      "gcm.θ = [1.6121524887941103, 0.8669360430725755, 0.09889112626360926]\n",
      "gcm.∇θ = [19.20816090115811, -0.6871941228862519, -14.964659013572426]\n",
      "   9  1.1201302e+05 0.00e+00 9.89e-01  -2.9 5.47e-02    -  1.00e+00 1.00e+00f  1\n",
      "gcm.θ = [1.6123010639532904, 0.8694707254880394, 0.09782020188279772]\n",
      "gcm.∇θ = [3.3889747611367085, 0.018813227238612118, -0.2510735540754445]\n",
      "iter    objective    inf_pr   inf_du lg(mu)  ||d||  lg(rg) alpha_du alpha_pr  ls\n",
      "  10  1.1201301e+05 0.00e+00 1.74e-01  -7.1 2.53e-03    -  9.90e-01 1.00e+00f  1\n",
      "gcm.θ = [1.6123206045806668, 0.8695882426842423, 0.09778379375315406]\n",
      "gcm.∇θ = [0.08743466983603021, -0.0008525813877800492, -0.03931509940016431]\n",
      "  11  1.1201301e+05 0.00e+00 4.50e-03 -11.0 1.18e-04    -  9.90e-01 1.00e+00f  1\n",
      "gcm.θ = [1.6123212443358412, 0.869596838497473, 0.09778057403522282]\n",
      "gcm.∇θ = [0.0030377747308989456, -2.814384458804664e-5, -0.0005526005772451548]\n",
      "  12  1.1201301e+05 0.00e+00 1.56e-04 -11.0 8.60e-06    -  9.96e-01 1.00e+00f  1\n",
      "gcm.θ = [1.612321263437247, 0.8695969658505522, 0.09778052245281174]\n",
      "gcm.∇θ = [-1.642425324632768e-6, -8.449901388041248e-7, 5.464445398839501e-6]\n",
      "  13  1.1201301e+05 0.00e+00 2.81e-07 -11.0 1.27e-07    -  1.00e+00 1.00e+00f  1\n",
      "\n",
      "Number of Iterations....: 13\n",
      "\n",
      "                                   (scaled)                 (unscaled)\n",
      "Objective...............:   5.7675882115288941e+03    1.1201300953147109e+05\n",
      "Dual infeasibility......:   2.8146843428240897e-07    5.4664315925089466e-06\n",
      "Constraint violation....:   0.0000000000000000e+00    0.0000000000000000e+00\n",
      "Complementarity.........:   1.0000001465961726e-11    1.9421120552303913e-10\n",
      "Overall NLP error.......:   2.8146843428240897e-07    5.4664315925089466e-06\n",
      "\n",
      "\n",
      "Number of objective function evaluations             = 14\n",
      "Number of objective gradient evaluations             = 14\n",
      "Number of equality constraint evaluations            = 0\n",
      "Number of inequality constraint evaluations          = 0\n",
      "Number of equality constraint Jacobian evaluations   = 0\n",
      "Number of inequality constraint Jacobian evaluations = 0\n",
      "Number of Lagrangian Hessian evaluations             = 13\n",
      "Total CPU secs in IPOPT (w/o function evaluations)   =      0.061\n",
      "Total CPU secs in NLP function evaluations           =      0.598\n",
      "\n",
      "EXIT: Optimal Solution Found.\n",
      "  0.702775 seconds (456.37 k allocations: 39.166 MiB, 4.51% gc time)\n"
     ]
    },
    {
     "data": {
      "text/plain": [
       "-112013.00953147109"
      ]
     },
     "execution_count": 6,
     "metadata": {},
     "output_type": "execute_result"
    }
   ],
   "source": [
    "@time GLMCopula.fit!(gcm2, IpoptSolver(print_level = 5, max_iter = 100, mehrotra_algorithm=\"yes\", tol = 10^-5, warm_start_init_point=\"yes\", hessian_approximation = \"exact\"))"
   ]
  },
  {
   "cell_type": "code",
   "execution_count": 7,
   "metadata": {},
   "outputs": [
    {
     "name": "stdout",
     "output_type": "stream",
     "text": [
      "gcm.∇θ = [-3.1603100048016586e-7, 3.1527177740686696e-7, 1.799963521786907e-6]\n",
      "gcm2.∇θ = [-1.642425324632768e-6, -8.449901388041248e-7, 5.464445398839501e-6]\n"
     ]
    }
   ],
   "source": [
    "@show gcm.∇θ\n",
    "@show gcm2.∇θ;"
   ]
  },
  {
   "cell_type": "code",
   "execution_count": 8,
   "metadata": {},
   "outputs": [
    {
     "name": "stdout",
     "output_type": "stream",
     "text": [
      "gcm.θ = [1.6123212633970279, 0.8695969634581063, 0.09778052299968304]\n",
      "gcm2.θ = [1.612321263437247, 0.8695969658505522, 0.09778052245281174]\n"
     ]
    }
   ],
   "source": [
    "@show gcm.θ\n",
    "@show gcm2.θ;"
   ]
  },
  {
   "cell_type": "code",
   "execution_count": 9,
   "metadata": {},
   "outputs": [
    {
     "name": "stdout",
     "output_type": "stream",
     "text": [
      "loglikelihood!(gcm, true, true) = -112013.00953147048\n",
      "loglikelihood!(gcm2, true, true) = -112013.00953147109\n"
     ]
    }
   ],
   "source": [
    "@show loglikelihood!(gcm, true, true)\n",
    "@show loglikelihood!(gcm2, true, true);"
   ]
  }
 ],
 "metadata": {
  "@webio": {
   "lastCommId": null,
   "lastKernelId": null
  },
  "kernelspec": {
   "display_name": "Julia 1.5.2",
   "language": "julia",
   "name": "julia-1.5"
  },
  "language_info": {
   "file_extension": ".jl",
   "mimetype": "application/julia",
   "name": "julia",
   "version": "1.5.2"
  }
 },
 "nbformat": 4,
 "nbformat_minor": 4
}
