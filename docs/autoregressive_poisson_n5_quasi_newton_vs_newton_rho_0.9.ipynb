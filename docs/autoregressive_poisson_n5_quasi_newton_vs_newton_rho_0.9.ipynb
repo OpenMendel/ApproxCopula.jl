{
 "cells": [
  {
   "cell_type": "markdown",
   "metadata": {},
   "source": [
    "# n = 5: Autoregressive covariance structure \n",
    "\n",
    "We try to parameterize covariance Gamma only using two parameters rho and sigma2 as in the AR(1) structure.\n",
    "\n",
    "For n = 5 this autoregressive model converges in 25 iterations using Quasi-Newton, 14 with Newton. Here we just initialize both paramters at 0.0, and set convergence tolerance to 10^-6, with the adaptive mean option turned on. \n",
    "\n",
    "$$\\mu_i = 5, \\rho = 0.9, \\sigma^2 = 0.1, n_i = 5$$\n",
    "\n",
    "$$\\Gamma_i = \\sigma^2 * \\begin{pmatrix} 1 & \\rho & \\rho^2 & \\rho^3 & \\rho^4\\\\ \\rho & 1 & \\rho & \\rho^2 & \\rho^3 \\\\ \\rho^2 & \\rho & 1 & \\rho & \\rho^2 \\\\ \\rho^3 & \\rho^2 & \\rho & 1 & \\rho \\\\ \\rho^4 & \\rho^3 & \\rho^2 & \\rho & 1\\end{pmatrix} \\forall i \\in [1, N = 10,000]$$ "
   ]
  },
  {
   "cell_type": "code",
   "execution_count": 1,
   "metadata": {},
   "outputs": [
    {
     "data": {
      "text/plain": [
       "5×5 Array{Float64,2}:\n",
       " 0.1      0.09    0.081  0.0729  0.06561\n",
       " 0.09     0.1     0.09   0.081   0.0729\n",
       " 0.081    0.09    0.1    0.09    0.081\n",
       " 0.0729   0.081   0.09   0.1     0.09\n",
       " 0.06561  0.0729  0.081  0.09    0.1"
      ]
     },
     "execution_count": 1,
     "metadata": {},
     "output_type": "execute_result"
    }
   ],
   "source": [
    "using DataFrames, Random, GLM, GLMCopula, Test\n",
    "using LinearAlgebra, BenchmarkTools, Revise\n",
    "\n",
    "Random.seed!(1234)\n",
    "\n",
    "# sample size\n",
    "N = 10000\n",
    "# observations per subject\n",
    "n = 5\n",
    "ρ = 0.9\n",
    "σ2 = 0.1\n",
    "\n",
    "V = zeros(n, n) # will store the AR(1) structure without sigma2\n",
    "\n",
    "mean = 5\n",
    "\n",
    "dist = Poisson\n",
    "\n",
    "V = get_AR_cov(n, ρ, σ2, V)\n",
    "\n",
    "# true Gamma\n",
    "Γ = σ2 * V"
   ]
  },
  {
   "cell_type": "code",
   "execution_count": 2,
   "metadata": {},
   "outputs": [
    {
     "data": {
      "text/plain": [
       "10000-element Array{Array{Float64,1},1}:\n",
       " [3.0, 8.0, 7.0, 4.0, 2.0]\n",
       " [2.0, 6.0, 6.0, 6.0, 7.0]\n",
       " [3.0, 5.0, 5.0, 10.0, 3.0]\n",
       " [5.0, 6.0, 3.0, 5.0, 2.0]\n",
       " [1.0, 10.0, 1.0, 2.0, 2.0]\n",
       " [5.0, 5.0, 4.0, 5.0, 4.0]\n",
       " [1.0, 4.0, 6.0, 5.0, 5.0]\n",
       " [7.0, 8.0, 6.0, 4.0, 9.0]\n",
       " [5.0, 3.0, 4.0, 6.0, 4.0]\n",
       " [5.0, 5.0, 6.0, 4.0, 7.0]\n",
       " [3.0, 7.0, 6.0, 3.0, 6.0]\n",
       " [6.0, 3.0, 3.0, 8.0, 5.0]\n",
       " [3.0, 4.0, 7.0, 3.0, 4.0]\n",
       " ⋮\n",
       " [7.0, 4.0, 8.0, 5.0, 3.0]\n",
       " [2.0, 4.0, 4.0, 7.0, 7.0]\n",
       " [7.0, 2.0, 4.0, 6.0, 8.0]\n",
       " [7.0, 4.0, 8.0, 2.0, 6.0]\n",
       " [3.0, 6.0, 5.0, 5.0, 1.0]\n",
       " [3.0, 4.0, 4.0, 7.0, 7.0]\n",
       " [3.0, 4.0, 8.0, 2.0, 3.0]\n",
       " [2.0, 9.0, 7.0, 6.0, 6.0]\n",
       " [6.0, 4.0, 3.0, 4.0, 7.0]\n",
       " [6.0, 4.0, 4.0, 9.0, 6.0]\n",
       " [2.0, 3.0, 2.0, 5.0, 4.0]\n",
       " [4.0, 4.0, 2.0, 4.0, 4.0]"
      ]
     },
     "execution_count": 2,
     "metadata": {},
     "output_type": "execute_result"
    }
   ],
   "source": [
    "vecd = [dist(mean) for i in 1:n]\n",
    "nonmixed_multivariate_dist = NonMixedMultivariateDistribution(vecd, Γ)\n",
    "\n",
    "Y_Nsample = simulate_nobs_independent_vectors(nonmixed_multivariate_dist, N)"
   ]
  },
  {
   "cell_type": "code",
   "execution_count": 3,
   "metadata": {},
   "outputs": [],
   "source": [
    "d = Poisson()\n",
    "link = LogLink()\n",
    "D = typeof(d)\n",
    "Link = typeof(link)\n",
    "T = Float64\n",
    "gcs = Vector{GLMCopulaARObs{T, D, Link}}(undef, N)\n",
    "\n",
    "for i in 1:N\n",
    "    y = Float64.(Y_Nsample[i])\n",
    "    X = ones(n, 1)\n",
    "    gcs[i] = GLMCopulaARObs(y, X, d, link)\n",
    "end\n",
    "\n",
    "gcm = GLMCopulaARModel(gcs);"
   ]
  },
  {
   "cell_type": "code",
   "execution_count": 4,
   "metadata": {},
   "outputs": [
    {
     "name": "stdout",
     "output_type": "stream",
     "text": [
      "initializing β using Newton's Algorithm under Independence Assumption\n",
      "1 0.0 -112233.55795434186 39999\n",
      "2 -112233.55795434186 -112233.55795434186 39999\n",
      "gcm.β = [1.620377852472435]\n",
      "exp.(gcm.β) = [5.0550000000000015]\n"
     ]
    }
   ],
   "source": [
    "initialize_model!(gcm)\n",
    "@show gcm.β\n",
    "@show exp.(gcm.β);\n",
    "fill!(gcm.ρ, 0.0)\n",
    "fill!(gcm.σ2, 0.0)\n",
    "\n",
    "loglikelihood!(gcm, true, true)\n",
    "\n",
    "gcm1 = deepcopy(gcm)\n",
    "gcm2 = deepcopy(gcm);"
   ]
  },
  {
   "cell_type": "markdown",
   "metadata": {},
   "source": [
    "## Quasi Newton\n",
    "## Number of Iterations....: 25\n",
    "## 1.2 seconds "
   ]
  },
  {
   "cell_type": "code",
   "execution_count": 5,
   "metadata": {},
   "outputs": [
    {
     "name": "stdout",
     "output_type": "stream",
     "text": [
      "gcm.θ = [1.620377852472435, 0.0, 0.0]\n",
      "gcm.∇θ = [-1.6888890286281821e-10, 0.0, 1942.1117705242389]\n",
      "gcm.θ = [1.620377852472435, 0.00999999, 0.00999999]\n",
      "gcm.∇θ = [-256.4258556825465, 26.074233261376982, 1578.4451108237101]\n",
      "\n",
      "******************************************************************************\n",
      "This program contains Ipopt, a library for large-scale nonlinear optimization.\n",
      " Ipopt is released as open source code under the Eclipse Public License (EPL).\n",
      "         For more information visit https://github.com/coin-or/Ipopt\n",
      "******************************************************************************\n",
      "\n",
      "This is Ipopt version 3.13.4, running with linear solver mumps.\n",
      "NOTE: Other linear solvers might be more efficient (see Ipopt documentation).\n",
      "\n",
      "Number of nonzeros in equality constraint Jacobian...:        0\n",
      "Number of nonzeros in inequality constraint Jacobian.:        0\n",
      "Number of nonzeros in Lagrangian Hessian.............:        0\n",
      "\n",
      "Total number of variables............................:        3\n",
      "                     variables with only lower bounds:        1\n",
      "                variables with lower and upper bounds:        1\n",
      "                     variables with only upper bounds:        0\n",
      "Total number of equality constraints.................:        0\n",
      "Total number of inequality constraints...............:        0\n",
      "        inequality constraints with only lower bounds:        0\n",
      "   inequality constraints with lower and upper bounds:        0\n",
      "        inequality constraints with only upper bounds:        0\n",
      "\n",
      "iter    objective    inf_pr   inf_du lg(mu)  ||d||  lg(rg) alpha_du alpha_pr  ls\n",
      "   0  1.1221588e+05 0.00e+00 8.23e+01   0.0 0.00e+00    -  0.00e+00 0.00e+00   0\n",
      "gcm.θ = [1.4224051814746366, 0.5000499999, 0.5218657871379075]\n",
      "gcm.∇θ = [27589.682473570665, 1305.664718107928, 598.8925108254851]\n",
      "   1  1.1471533e+05 0.00e+00 1.42e+03   1.5 3.41e+01    -  2.06e-02 1.50e-02f  2\n",
      "gcm.θ = [1.5567193823773668, 0.995000509899, 1.1508930874049588]\n",
      "gcm.∇θ = [868.5685618744401, -10837.560130566155, -1424.43120657741]\n",
      "   2  1.1418217e+05 0.00e+00 5.61e+02  -0.1 7.64e-01    -  5.74e-01 8.23e-01f  1\n",
      "gcm.θ = [1.6760577469900373, 0.6533804997716108, 0.892575387296654]\n",
      "gcm.∇θ = [-11149.527033539394, -709.9226529074979, -682.3557795491287]\n",
      "   3  1.1308423e+05 0.00e+00 5.74e+02  -0.1 6.83e-01    -  1.03e-02 5.00e-01f  2\n",
      "gcm.θ = [1.581442432592415, 0.6399487012209066, 0.769757750782015]\n",
      "gcm.∇θ = [1488.5675323020043, -819.7115514026833, -683.9832540995211]\n",
      "   4  1.1252537e+05 0.00e+00 7.66e+01  -0.1 1.23e-01    -  1.00e+00 1.00e+00f  1\n",
      "gcm.θ = [1.5848644656706499, 0.5968314439729142, 0.7026350206463535]\n",
      "gcm.∇θ = [1308.013720471426, -550.6108861050617, -676.3087853738976]\n",
      "   5  1.1244562e+05 0.00e+00 6.74e+01  -0.1 6.71e-02    -  1.00e+00 1.00e+00f  1\n",
      "gcm.θ = [1.5987940850934819, 0.43940497633521824, 0.00702634030646343]\n",
      "gcm.∇θ = [5127.991746531173, 33.88087644042198, 3776.866483217547]\n",
      "   6  1.1226370e+05 0.00e+00 2.64e+02  -0.1 9.67e-01    -  1.00e+00 7.19e-01f  1\n",
      "gcm.θ = [1.614023050332607, 0.49538509030853234, 0.430548296803445]\n",
      "gcm.∇θ = [-2347.893323926788, -15.594712263314468, -762.9533759672813]\n",
      "   7  1.1223417e+05 0.00e+00 1.21e+02  -0.1 4.24e-01    -  5.22e-02 1.00e+00f  1\n",
      "gcm.θ = [1.6019543143098491, 0.4929254731868386, 0.37423283132752827]\n",
      "gcm.∇θ = [-72.24941315149282, 33.944457306470085, -707.9016008672237]\n",
      "   8  1.1217781e+05 0.00e+00 3.48e+01  -0.1 5.63e-02    -  1.00e+00 1.00e+00f  1\n",
      "gcm.θ = [1.5920982394376906, 0.469277906376034, 0.09185535832546121]\n",
      "gcm.∇θ = [4446.237452089139, 208.713671412444, 881.7587136843489]\n",
      "   9  1.1211917e+05 0.00e+00 2.29e+02  -1.4 2.82e-01    -  1.00e+00 1.00e+00f  1\n",
      "gcm.θ = [1.6049355835449441, 0.4871552143868104, 0.24120294775568754]\n",
      "gcm.∇θ = [151.27537040719875, 148.07555542355726, -536.6035057546088]\n",
      "iter    objective    inf_pr   inf_du lg(mu)  ||d||  lg(rg) alpha_du alpha_pr  ls\n",
      "  10  1.1209208e+05 0.00e+00 2.75e+01  -0.7 1.49e-01    -  1.00e+00 1.00e+00f  1\n",
      "gcm.θ = [1.6205047735355824, 0.5049949685803212, 0.14023206338843242]\n",
      "gcm.∇θ = [-2121.288251588082, 197.5105058296558, -130.55238363524697]\n",
      "  11  1.1206554e+05 0.00e+00 1.09e+02  -2.0 1.01e-01    -  1.00e+00 1.00e+00f  1\n",
      "gcm.θ = [1.6089373068812864, 0.5472527195906607, 0.11065852386144108]\n",
      "gcm.∇θ = [570.7054149741704, 192.59042186815128, 317.88394874618314]\n",
      "  12  1.1205047e+05 0.00e+00 2.94e+01  -3.6 4.23e-02    -  1.00e+00 1.00e+00f  1\n",
      "gcm.θ = [1.6059739883281718, 0.5622945440179726, 0.14615057571846185]\n",
      "gcm.∇θ = [751.5409019789921, 171.93445003952192, -75.30561725722201]\n",
      "  13  1.1204583e+05 0.00e+00 3.87e+01  -3.1 3.55e-02    -  1.00e+00 1.00e+00f  1\n",
      "gcm.θ = [1.608372780447008, 0.5961612336580411, 0.139591100104672]\n",
      "gcm.∇θ = [338.1587142832951, 159.6824634935666, -61.909652403474695]\n",
      "  14  1.1203846e+05 0.00e+00 1.74e+01  -4.2 3.39e-02    -  1.00e+00 1.00e+00f  1\n",
      "gcm.θ = [1.6130494937898463, 0.9346345760376438, 0.09892717304006354]\n",
      "gcm.∇θ = [-149.58705708662717, -117.04507587599872, -358.5111872142357]\n",
      "  15  1.1201682e+05 0.00e+00 1.85e+01  -5.1 3.38e-01    -  1.00e+00 1.00e+00f  1\n",
      "gcm.θ = [1.6133503749136746, 0.8986871532655397, 0.08858279338651734]\n",
      "gcm.∇θ = [-87.55878999895938, -1.9844357778784596, 117.69992914360608]\n",
      "  16  1.1201361e+05 0.00e+00 6.06e+00  -4.6 7.19e-02    -  1.00e+00 5.00e-01f  2\n",
      "gcm.θ = [1.6121020693266623, 0.8553147669317036, 0.1016871033246924]\n",
      "gcm.∇θ = [-3.2079734882892357, 4.652447721174703, -36.11876544512516]\n",
      "  17  1.1201311e+05 0.00e+00 1.86e+00  -5.4 4.34e-02    -  1.00e+00 1.00e+00f  1\n",
      "gcm.θ = [1.6123089085437725, 0.8692511814955046, 0.09803897347574728]\n",
      "gcm.∇θ = [-0.6745129430856363, -0.548451396651805, -4.933219822202294]\n",
      "  18  1.1201301e+05 0.00e+00 2.54e-01  -6.8 1.39e-02    -  1.00e+00 1.00e+00f  1\n",
      "gcm.θ = [1.6123430752819263, 0.8692786133458621, 0.09799983206081413]\n",
      "gcm.∇θ = [-6.727202855834891, -0.4319328683058605, -4.468340713043496]\n",
      "  19  1.1201301e+05 0.00e+00 3.46e-01  -8.4 3.13e-04    -  1.00e+00 1.25e-01f  4\n",
      "gcm.θ = [1.6123231212941698, 0.8696953973238408, 0.09777925816373453]\n",
      "gcm.∇θ = [-0.3436693993636428, -0.1326535022718105, -0.3837417177628426]\n",
      "iter    objective    inf_pr   inf_du lg(mu)  ||d||  lg(rg) alpha_du alpha_pr  ls\n",
      "  20  1.1201301e+05 0.00e+00 1.98e-02  -8.4 4.17e-04    -  1.00e+00 1.00e+00f  1\n",
      "gcm.θ = [1.612322152255413, 0.8695837415168745, 0.09778008787774431]\n",
      "gcm.∇θ = [-0.16375928828923847, 0.02018076610300351, 0.053264290206650244]\n",
      "  21  1.1201301e+05 0.00e+00 8.43e-03 -10.2 1.12e-04    -  1.00e+00 1.00e+00f  1\n",
      "gcm.θ = [1.6123210357913016, 0.8695977219463767, 0.09778035009570482]\n",
      "gcm.∇θ = [0.04540117385785525, -0.0003587675290561698, 0.003985708113814379]\n",
      "  22  1.1201301e+05 0.00e+00 2.34e-03 -11.0 1.40e-05    -  1.00e+00 1.00e+00f  1\n",
      "gcm.θ = [1.6123212720183766, 0.8695967514349082, 0.0977806480713811]\n",
      "gcm.∇θ = [-0.003109395703444484, -0.00020357420958294625, -0.0023858344096989725]\n",
      "  23  1.1201301e+05 0.00e+00 1.60e-04 -11.0 9.71e-07    -  1.00e+00 1.00e+00f  1\n",
      "gcm.θ = [1.6123212637815385, 0.8695969683629718, 0.09778052021668145]\n",
      "gcm.∇θ = [-4.103245892217444e-5, 4.56503109397266e-6, 4.738462815634392e-5]\n",
      "  24  1.1201301e+05 0.00e+00 2.44e-06 -11.0 2.17e-07    -  1.00e+00 1.00e+00f  1\n",
      "gcm.θ = [1.6123212634033952, 0.8695969637523606, 0.09778052303210624]\n",
      "gcm.∇θ = [-1.9254077319175167e-6, -2.2590426579371936e-7, -2.63449664750226e-7]\n",
      "  25  1.1201301e+05 0.00e+00 9.91e-08 -11.0 4.61e-09    -  1.00e+00 1.00e+00f  1\n",
      "\n",
      "Number of Iterations....: 25\n",
      "\n",
      "                                   (scaled)                 (unscaled)\n",
      "Objective...............:   5.7675882115288996e+03    1.1201300953147119e+05\n",
      "Dual infeasibility......:   9.9139903333050025e-08    1.9254077319175167e-06\n",
      "Constraint violation....:   0.0000000000000000e+00    0.0000000000000000e+00\n",
      "Complementarity.........:   9.9999999999999994e-12    1.9421117705242386e-10\n",
      "Overall NLP error.......:   9.9139903333050025e-08    1.9254077319175167e-06\n",
      "\n",
      "\n",
      "Number of objective function evaluations             = 48\n",
      "Number of objective gradient evaluations             = 26\n",
      "Number of equality constraint evaluations            = 0\n",
      "Number of inequality constraint evaluations          = 0\n",
      "Number of equality constraint Jacobian evaluations   = 0\n",
      "Number of inequality constraint Jacobian evaluations = 0\n",
      "Number of Lagrangian Hessian evaluations             = 0\n",
      "Total CPU secs in IPOPT (w/o function evaluations)   =      0.100\n",
      "Total CPU secs in NLP function evaluations           =      0.758\n",
      "\n",
      "EXIT: Optimal Solution Found.\n",
      "  1.227023 seconds (842.81 k allocations: 42.643 MiB)\n"
     ]
    },
    {
     "data": {
      "text/plain": [
       "-112013.0095314712"
      ]
     },
     "execution_count": 5,
     "metadata": {},
     "output_type": "execute_result"
    }
   ],
   "source": [
    "@time GLMCopula.fit!(gcm1, IpoptSolver(print_level = 5, max_iter = 100, tol = 10^-6, mu_strategy = \"adaptive\", hessian_approximation = \"limited-memory\"))"
   ]
  },
  {
   "cell_type": "markdown",
   "metadata": {},
   "source": [
    "# Newton\n",
    "## Number of Iterations....: 14\n",
    "## 0.72 seconds "
   ]
  },
  {
   "cell_type": "code",
   "execution_count": 6,
   "metadata": {},
   "outputs": [
    {
     "name": "stdout",
     "output_type": "stream",
     "text": [
      "gcm.θ = [1.620377852472435, 0.0, 0.0]\n",
      "gcm.∇θ = [-1.6888890286281821e-10, 0.0, 1942.1117705242389]\n",
      "gcm.θ = [1.620377852472435, 0.00999999, 0.00999999]\n",
      "gcm.∇θ = [-256.4258556825465, 26.074233261376982, 1578.4451108237101]\n",
      "This is Ipopt version 3.13.4, running with linear solver mumps.\n",
      "NOTE: Other linear solvers might be more efficient (see Ipopt documentation).\n",
      "\n",
      "Number of nonzeros in equality constraint Jacobian...:        0\n",
      "Number of nonzeros in inequality constraint Jacobian.:        0\n",
      "Number of nonzeros in Lagrangian Hessian.............:        5\n",
      "\n",
      "Total number of variables............................:        3\n",
      "                     variables with only lower bounds:        1\n",
      "                variables with lower and upper bounds:        1\n",
      "                     variables with only upper bounds:        0\n",
      "Total number of equality constraints.................:        0\n",
      "Total number of inequality constraints...............:        0\n",
      "        inequality constraints with only lower bounds:        0\n",
      "   inequality constraints with lower and upper bounds:        0\n",
      "        inequality constraints with only upper bounds:        0\n",
      "\n",
      "iter    objective    inf_pr   inf_du lg(mu)  ||d||  lg(rg) alpha_du alpha_pr  ls\n",
      "   0  1.1221588e+05 0.00e+00 8.23e+01   0.0 0.00e+00    -  0.00e+00 0.00e+00   0\n",
      "gcm.θ = [1.6193070448346927, 0.08418004193532082, 0.05696096855726861]\n",
      "gcm.∇θ = [-941.2153715139576, 129.7948005637993, 565.7047845988786]\n",
      "   1  1.1216184e+05 0.00e+00 4.85e+01  -6.5 7.42e-02    -  1.18e-01 1.00e+00f  1\n",
      "gcm.θ = [1.6152477987321137, 0.18943672422329233, 0.09506554039870474]\n",
      "gcm.∇θ = [-563.5587875172635, 191.68118311758107, 223.6961711219099]\n",
      "   2  1.1212705e+05 0.00e+00 2.90e+01  -1.9 1.05e-01   2.0 1.00e+00 1.00e+00f  1\n",
      "gcm.θ = [1.6124598272418005, 0.6170753125935519, 0.1536922370653233]\n",
      "gcm.∇θ = [-597.8719749935206, 131.99531907718057, -259.37538412009076]\n",
      "   3  1.1203824e+05 0.00e+00 3.08e+01  -1.1 4.28e-01   1.5 1.00e+00 1.00e+00f  1\n",
      "gcm.θ = [1.6098532069573306, 0.9080480693045289, 0.0870616174867036]\n",
      "gcm.∇θ = [602.7347274194593, -7.867196226128972, 167.5511216866638]\n",
      "   4  1.1201477e+05 0.00e+00 3.10e+01  -1.7 2.91e-01    -  1.00e+00 1.00e+00f  1\n",
      "gcm.θ = [1.6129110898321906, 0.8655019444386293, 0.09850449613864866]\n",
      "gcm.∇θ = [-120.84865428773473, 2.8150366681069965, -8.637995981723721]\n",
      "   5  1.1201305e+05 0.00e+00 6.22e+00  -2.1 4.25e-02    -  1.00e+00 1.00e+00f  1\n",
      "gcm.θ = [1.6122879371344108, 0.8708483773059208, 0.09733151892007157]\n",
      "gcm.∇θ = [11.602853516553584, 0.05114113526214398, 6.679665923588721]\n",
      "   6  1.1201301e+05 0.00e+00 5.97e-01  -3.9 5.35e-03    -  1.00e+00 1.00e+00f  1\n",
      "gcm.θ = [1.6123456283292246, 0.8695325314065661, 0.0978021927292417]\n",
      "gcm.∇θ = [-4.898139797800387, 0.0024104338826201888, -0.5724043195585575]\n",
      "   7  1.1201301e+05 0.00e+00 2.52e-01  -5.4 1.32e-03    -  1.00e+00 1.00e+00f  1\n",
      "gcm.θ = [1.6123203132182005, 0.8696497259324502, 0.0977617969623909]\n",
      "gcm.∇θ = [0.39963729083854727, 0.0011408822298655807, 0.2695336286692349]\n",
      "   8  1.1201301e+05 0.00e+00 2.06e-02  -7.4 1.17e-04    -  1.00e+00 1.00e+00f  1\n",
      "gcm.θ = [1.6123222819458818, 0.8695951482458081, 0.09778116646333243]\n",
      "gcm.∇θ = [-0.2017083287923631, -7.918894779224139e-5, -0.02087291311362094]\n",
      "   9  1.1201301e+05 0.00e+00 1.04e-02  -9.3 5.46e-05    -  1.00e+00 1.00e+00f  1\n",
      "gcm.θ = [1.6123212380321477, 0.8695991718498638, 0.09777973942893003]\n",
      "gcm.∇θ = [0.013976922894782362, 4.6258587299896625e-5, 0.011105244508089473]\n",
      "iter    objective    inf_pr   inf_du lg(mu)  ||d||  lg(rg) alpha_du alpha_pr  ls\n",
      "  10  1.1201301e+05 0.00e+00 7.20e-04 -11.0 4.02e-06    -  1.00e+00 1.00e+00f  1\n",
      "gcm.θ = [1.612321306152538, 0.8695969186982554, 0.09778053901029445]\n",
      "gcm.∇θ = [-0.008339086864155298, -3.0032261707502172e-6, -0.0007245346216899762]\n",
      "  11  1.1201301e+05 0.00e+00 4.29e-04 -11.0 2.25e-06    -  1.00e+00 1.00e+00f  1\n",
      "gcm.θ = [1.612321262933927, 0.8695970563367389, 0.09778049012104716]\n",
      "gcm.∇θ = [0.0004715288594843159, 1.9160700751030824e-6, 0.0004597499437513086]\n",
      "  12  1.1201301e+05 0.00e+00 2.43e-05 -11.0 1.38e-07    -  1.00e+00 1.00e+00f  1\n",
      "gcm.θ = [1.6123212651949055, 0.8695969629211748, 0.09778052327116299]\n",
      "gcm.∇θ = [-0.0003462854280238403, -9.888434077121033e-8, -2.4053652570188433e-5]\n",
      "  13  1.1201301e+05 0.00e+00 1.78e-05 -11.0 9.34e-08    -  1.00e+00 1.00e+00f  1\n",
      "gcm.θ = [1.6123212633975927, 0.8695969674019582, 0.09778052167900168]\n",
      "gcm.∇θ = [1.4973288938513463e-5, 8.089675895828208e-8, 1.9117495686504782e-5]\n",
      "  14  1.1201301e+05 0.00e+00 9.84e-07 -11.0 4.48e-09    -  1.00e+00 1.00e+00f  1\n",
      "\n",
      "Number of Iterations....: 14\n",
      "\n",
      "                                   (scaled)                 (unscaled)\n",
      "Objective...............:   5.7675882115289005e+03    1.1201300953147121e+05\n",
      "Dual infeasibility......:   9.8446866814865355e-07    1.9119481881238208e-05\n",
      "Constraint violation....:   0.0000000000000000e+00    0.0000000000000000e+00\n",
      "Complementarity.........:   9.9999999999999994e-12    1.9421117705242386e-10\n",
      "Overall NLP error.......:   9.8446866814865355e-07    1.9119481881238208e-05\n",
      "\n",
      "\n",
      "Number of objective function evaluations             = 15\n",
      "Number of objective gradient evaluations             = 15\n",
      "Number of equality constraint evaluations            = 0\n",
      "Number of inequality constraint evaluations          = 0\n",
      "Number of equality constraint Jacobian evaluations   = 0\n",
      "Number of inequality constraint Jacobian evaluations = 0\n",
      "Number of Lagrangian Hessian evaluations             = 14\n",
      "Total CPU secs in IPOPT (w/o function evaluations)   =      0.065\n",
      "Total CPU secs in NLP function evaluations           =      0.632\n",
      "\n",
      "EXIT: Optimal Solution Found.\n",
      "  0.724408 seconds (472.57 k allocations: 41.131 MiB)\n"
     ]
    },
    {
     "data": {
      "text/plain": [
       "-112013.00953147121"
      ]
     },
     "execution_count": 6,
     "metadata": {},
     "output_type": "execute_result"
    }
   ],
   "source": [
    "@time GLMCopula.fit!(gcm2, IpoptSolver(print_level = 5, max_iter = 100, tol = 10^-6, mu_strategy = \"adaptive\", hessian_approximation = \"exact\"))"
   ]
  },
  {
   "cell_type": "code",
   "execution_count": 7,
   "metadata": {},
   "outputs": [
    {
     "name": "stdout",
     "output_type": "stream",
     "text": [
      "gcm1.∇θ = [-1.9254077319175167e-6, -2.2590426579371936e-7, -2.63449664750226e-7]\n",
      "gcm2.∇θ = [1.4973288938513463e-5, 8.089675895828208e-8, 1.9117495686504782e-5]\n"
     ]
    }
   ],
   "source": [
    "@show gcm1.∇θ\n",
    "@show gcm2.∇θ;"
   ]
  },
  {
   "cell_type": "code",
   "execution_count": 8,
   "metadata": {},
   "outputs": [
    {
     "name": "stdout",
     "output_type": "stream",
     "text": [
      "gcm1.θ = [1.6123212634033952, 0.8695969637523606, 0.09778052303210624]\n",
      "gcm2.θ = [1.6123212633975927, 0.8695969674019582, 0.09778052167900168]\n"
     ]
    }
   ],
   "source": [
    "@show gcm1.θ\n",
    "@show gcm2.θ;"
   ]
  },
  {
   "cell_type": "code",
   "execution_count": 9,
   "metadata": {},
   "outputs": [
    {
     "name": "stdout",
     "output_type": "stream",
     "text": [
      "loglikelihood!(gcm1, true, true) = -112013.0095314712\n",
      "loglikelihood!(gcm2, true, true) = -112013.00953147121\n"
     ]
    }
   ],
   "source": [
    "@show loglikelihood!(gcm1, true, true)\n",
    "@show loglikelihood!(gcm2, true, true);"
   ]
  },
  {
   "cell_type": "code",
   "execution_count": null,
   "metadata": {},
   "outputs": [],
   "source": []
  }
 ],
 "metadata": {
  "@webio": {
   "lastCommId": null,
   "lastKernelId": null
  },
  "kernelspec": {
   "display_name": "Julia 1.5.2",
   "language": "julia",
   "name": "julia-1.5"
  },
  "language_info": {
   "file_extension": ".jl",
   "mimetype": "application/julia",
   "name": "julia",
   "version": "1.5.2"
  }
 },
 "nbformat": 4,
 "nbformat_minor": 4
}
