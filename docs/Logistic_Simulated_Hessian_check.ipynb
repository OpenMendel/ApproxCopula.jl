{
 "cells": [
  {
   "cell_type": "markdown",
   "metadata": {},
   "source": [
    "# Form the Logistic Regression Random Intercept Model: Simulated set\n",
    "\n",
    "In this notebook we will use simulated dataset using MixedModels.jl to test the fit of our copula model on the logistic regression outcome.\n",
    "\n",
    "For a single observation, $i = 1$ we will use ForwardDiff.jl to check the following calculations:\n",
    "\n",
    "    (1) Approximate Hessian\n",
    "\n",
    "The second differential (Hessian) is\n",
    "\\begin{eqnarray*}\n",
    "&  & \\sum_{i=1}^n \\sum_j d^2 \\ln f_{ij}(y_{ij} \\mid \\mathbf{\\beta}) \n",
    "+ \\sum_{i=1}^n\\frac{\\nabla \\mathbf{r_i}(\\mathbf{\\beta})\\mathbf{\\Gamma_i} d\\mathbf{r_i}(\\mathbf{\\beta})}{1+\\frac{1}{2}\\mathbf{r_i}(\\mathbf{\\beta})^t \\mathbf{\\Gamma_i} \\mathbf{r_i}(\\mathbf{\\beta})} \\\\\n",
    "&  &  +\\sum_{i=1}^n\n",
    "\\frac{d^2 \\mathbf{r_i}(\\mathbf{\\beta})\\mathbf{\\Gamma_i} \\mathbf{r_i}(\\mathbf{\\beta})}{1+\\frac{1}{2}\\mathbf{r_i}(\\mathbf{\\beta})^t \\mathbf{\\Gamma_i} \\mathbf{r_i}(\\mathbf{\\beta})} -\\sum_{i=1}^n\\frac{[\\nabla \\mathbf{r_i}(\\mathbf{\\beta})\\mathbf{\\Gamma_i} \\mathbf{r_i}(\\mathbf{\\beta})]\n",
    "[\\nabla \\mathbf{r_i}(\\mathbf{\\beta})\\mathbf{\\Gamma_i} \\mathbf{r_i}(\\mathbf{\\beta})]^t}\n",
    "{\\Big[1+\\frac{1}{2}\\mathbf{r_i}(\\mathbf{\\beta})^t \\mathbf{\\Gamma_i} \\mathbf{r_i}(\\mathbf{\\beta})\\Big]^2}.\n",
    "\\end{eqnarray*}\n",
    "In searching the likelihood surface, we want to avoid second\n",
    "derivatives. We also want an approximate Hessian that is\n",
    "negative definite.  This suggests replacing $d^2 \\ln f_{ij}(y_{ij} \\mid \\mathbf{\\beta})$ by the negative information matrix $-\\mathbf{J_{ij}}(\\mathbf{\\beta})$\n",
    "under the independence model and dropping the second two sums\n",
    "in the Hessians. \n",
    "\n",
    "In the paper, we want to avoid computationally burdensome second derivatives and ensure negative semi-definiteness, which gives the approximate Hessian:\n",
    "\n",
    " \\begin{eqnarray*}\n",
    "& = &- \\sum_{i=1}^n \\sum_j \\mathbf{J}_{ij}(\\mathbf{\\beta})\n",
    " -\\sum_{i=1}^n\\frac{[\\nabla \\mathbf{r_i}(\\mathbf{\\beta})^t\\mathbf{\\Gamma_i} \\mathbf{r_i}(\\mathbf{\\beta})]\n",
    "[\\nabla \\mathbf{r_i}(\\mathbf{\\beta})^t\\mathbf{\\Gamma}_i \\mathbf{r}_i(\\mathbf{\\beta})]^t}\n",
    "{\\Big[1+\\frac{1}{2}r_i(\\mathbf{\\beta})^t \\mathbf{\\Gamma}_i r_i(\\mathbf{\\beta})\\Big]^2}\\\\\n",
    "&=& - \\sum_{i=1}^n \\mathbf{X_i}^T \\mathbf{W_{2i}} \\mathbf{X_i} -\\sum_{i=1}^n\\frac{[\\nabla \\mathbf{r_i}(\\mathbf{\\beta})^t\\mathbf{\\Gamma_i} \\mathbf{r_i}(\\mathbf{\\beta})]\n",
    "[\\nabla \\mathbf{r_i}(\\mathbf{\\beta})^t\\mathbf{\\Gamma_i} \\mathbf{r_i}(\\mathbf{\\beta})]^t}\n",
    "{\\Big[1+\\frac{1}{2}\\mathbf{r_i}(\\mathbf{\\beta})^t \\mathbf{\\Gamma_i} \\mathbf{r_i}(\\mathbf{\\beta})\\Big]^2}\n",
    "\\end{eqnarray*}\n",
    "\n",
    "\n",
    "From implementing just the above as the approximate Hessian we see that the Ipopt solver takes ~40 iterations to converge, while the hessian_approximation option uses the exact hessian (with second order term) and converges after 22 iterations. To get a closer approximate Hessian, we will try adding the second sum (all but the second derivative term).\n",
    "\n",
    " \\begin{eqnarray*}\n",
    "& = &- \\sum_{i=1}^n \\sum_j \\mathbf{J}_{ij}(\\mathbf{\\beta}) + \\sum_{i=1}^n\\frac{\\nabla \\mathbf{r_i}(\\mathbf{\\beta})^t\\mathbf{\\Gamma_i}\\nabla \\mathbf{r_i}(\\mathbf{\\beta})}{1+\\frac{1}{2}\\mathbf{r_i}(\\mathbf{\\beta})^t \\mathbf{\\Gamma_i} \\mathbf{r_i}(\\mathbf{\\beta})} \n",
    " -\\sum_{i=1}^n\\frac{[\\nabla \\mathbf{r_i}(\\mathbf{\\beta})^t\\mathbf{\\Gamma_i} \\mathbf{r_i}(\\mathbf{\\beta})]\n",
    "[\\nabla \\mathbf{r_i}(\\mathbf{\\beta})^t\\mathbf{\\Gamma}_i \\mathbf{r}_i(\\mathbf{\\beta})]^t}\n",
    "{\\Big[1+\\frac{1}{2}r_i(\\mathbf{\\beta})^t \\mathbf{\\Gamma}_i r_i(\\mathbf{\\beta})\\Big]^2}\\\\\n",
    "&=& - \\sum_{i=1}^n \\mathbf{X_i}^T \\mathbf{W_{2i}} \\mathbf{X_i} + \\sum_{i=1}^n\\frac{\\nabla \\mathbf{r_i}(\\mathbf{\\beta})^t\\mathbf{\\Gamma_i} \\nabla \\mathbf{r_i}(\\mathbf{\\beta})}{1+\\frac{1}{2}\\mathbf{r_i}(\\mathbf{\\beta})^t \\mathbf{\\Gamma_i} \\mathbf{r_i}(\\mathbf{\\beta})} -\\sum_{i=1}^n\\frac{[\\nabla \\mathbf{r_i}(\\mathbf{\\beta})^t\\mathbf{\\Gamma_i} \\mathbf{r_i}(\\mathbf{\\beta})]\n",
    "[\\nabla \\mathbf{r_i}(\\mathbf{\\beta})^t\\mathbf{\\Gamma_i} \\mathbf{r_i}(\\mathbf{\\beta})]^t}\n",
    "{\\Big[1+\\frac{1}{2}\\mathbf{r_i}(\\mathbf{\\beta})^t \\mathbf{\\Gamma_i} \\mathbf{r_i}(\\mathbf{\\beta})\\Big]^2}\n",
    "\\end{eqnarray*}\n"
   ]
  },
  {
   "cell_type": "code",
   "execution_count": 43,
   "metadata": {},
   "outputs": [
    {
     "data": {
      "text/html": [
       "<table class=\"data-frame\"><thead><tr><th></th><th>gene</th><th>normal</th><th>nresp</th><th>counts</th></tr><tr><th></th><th>Char</th><th>Float64</th><th>Float64</th><th>Bool</th></tr></thead><tbody><p>1,000 rows × 4 columns</p><tr><th>1</th><td>'A'</td><td>0.0951588</td><td>1.0</td><td>0</td></tr><tr><th>2</th><td>'B'</td><td>0.270898</td><td>1.0</td><td>0</td></tr><tr><th>3</th><td>'C'</td><td>0.906315</td><td>1.0</td><td>0</td></tr><tr><th>4</th><td>'D'</td><td>0.833585</td><td>1.0</td><td>1</td></tr><tr><th>5</th><td>'E'</td><td>0.945055</td><td>1.0</td><td>1</td></tr><tr><th>6</th><td>'F'</td><td>0.443669</td><td>1.0</td><td>1</td></tr><tr><th>7</th><td>'G'</td><td>0.904577</td><td>1.0</td><td>1</td></tr><tr><th>8</th><td>'H'</td><td>0.941598</td><td>1.0</td><td>0</td></tr><tr><th>9</th><td>'I'</td><td>0.0375897</td><td>1.0</td><td>0</td></tr><tr><th>10</th><td>'J'</td><td>0.996082</td><td>1.0</td><td>1</td></tr><tr><th>11</th><td>'A'</td><td>0.238817</td><td>1.0</td><td>0</td></tr><tr><th>12</th><td>'B'</td><td>0.180708</td><td>1.0</td><td>1</td></tr><tr><th>13</th><td>'C'</td><td>0.630896</td><td>1.0</td><td>1</td></tr><tr><th>14</th><td>'D'</td><td>0.268177</td><td>1.0</td><td>0</td></tr><tr><th>15</th><td>'E'</td><td>0.719386</td><td>1.0</td><td>1</td></tr><tr><th>16</th><td>'F'</td><td>0.923945</td><td>1.0</td><td>1</td></tr><tr><th>17</th><td>'G'</td><td>0.540168</td><td>1.0</td><td>1</td></tr><tr><th>18</th><td>'H'</td><td>0.656086</td><td>1.0</td><td>1</td></tr><tr><th>19</th><td>'I'</td><td>0.748725</td><td>1.0</td><td>1</td></tr><tr><th>20</th><td>'J'</td><td>0.542957</td><td>1.0</td><td>0</td></tr><tr><th>21</th><td>'A'</td><td>0.118967</td><td>1.0</td><td>1</td></tr><tr><th>22</th><td>'B'</td><td>0.915266</td><td>1.0</td><td>1</td></tr><tr><th>23</th><td>'C'</td><td>0.543844</td><td>1.0</td><td>1</td></tr><tr><th>24</th><td>'D'</td><td>0.371611</td><td>1.0</td><td>1</td></tr><tr><th>25</th><td>'E'</td><td>0.155375</td><td>1.0</td><td>1</td></tr><tr><th>26</th><td>'F'</td><td>0.195176</td><td>1.0</td><td>1</td></tr><tr><th>27</th><td>'G'</td><td>0.709453</td><td>1.0</td><td>1</td></tr><tr><th>28</th><td>'H'</td><td>0.191636</td><td>1.0</td><td>0</td></tr><tr><th>29</th><td>'I'</td><td>0.449893</td><td>1.0</td><td>1</td></tr><tr><th>30</th><td>'J'</td><td>0.279771</td><td>1.0</td><td>1</td></tr><tr><th>&vellip;</th><td>&vellip;</td><td>&vellip;</td><td>&vellip;</td><td>&vellip;</td></tr></tbody></table>"
      ],
      "text/latex": [
       "\\begin{tabular}{r|cccc}\n",
       "\t& gene & normal & nresp & counts\\\\\n",
       "\t\\hline\n",
       "\t& Char & Float64 & Float64 & Bool\\\\\n",
       "\t\\hline\n",
       "\t1 & 'A' & 0.0951588 & 1.0 & 0 \\\\\n",
       "\t2 & 'B' & 0.270898 & 1.0 & 0 \\\\\n",
       "\t3 & 'C' & 0.906315 & 1.0 & 0 \\\\\n",
       "\t4 & 'D' & 0.833585 & 1.0 & 1 \\\\\n",
       "\t5 & 'E' & 0.945055 & 1.0 & 1 \\\\\n",
       "\t6 & 'F' & 0.443669 & 1.0 & 1 \\\\\n",
       "\t7 & 'G' & 0.904577 & 1.0 & 1 \\\\\n",
       "\t8 & 'H' & 0.941598 & 1.0 & 0 \\\\\n",
       "\t9 & 'I' & 0.0375897 & 1.0 & 0 \\\\\n",
       "\t10 & 'J' & 0.996082 & 1.0 & 1 \\\\\n",
       "\t11 & 'A' & 0.238817 & 1.0 & 0 \\\\\n",
       "\t12 & 'B' & 0.180708 & 1.0 & 1 \\\\\n",
       "\t13 & 'C' & 0.630896 & 1.0 & 1 \\\\\n",
       "\t14 & 'D' & 0.268177 & 1.0 & 0 \\\\\n",
       "\t15 & 'E' & 0.719386 & 1.0 & 1 \\\\\n",
       "\t16 & 'F' & 0.923945 & 1.0 & 1 \\\\\n",
       "\t17 & 'G' & 0.540168 & 1.0 & 1 \\\\\n",
       "\t18 & 'H' & 0.656086 & 1.0 & 1 \\\\\n",
       "\t19 & 'I' & 0.748725 & 1.0 & 1 \\\\\n",
       "\t20 & 'J' & 0.542957 & 1.0 & 0 \\\\\n",
       "\t21 & 'A' & 0.118967 & 1.0 & 1 \\\\\n",
       "\t22 & 'B' & 0.915266 & 1.0 & 1 \\\\\n",
       "\t23 & 'C' & 0.543844 & 1.0 & 1 \\\\\n",
       "\t24 & 'D' & 0.371611 & 1.0 & 1 \\\\\n",
       "\t25 & 'E' & 0.155375 & 1.0 & 1 \\\\\n",
       "\t26 & 'F' & 0.195176 & 1.0 & 1 \\\\\n",
       "\t27 & 'G' & 0.709453 & 1.0 & 1 \\\\\n",
       "\t28 & 'H' & 0.191636 & 1.0 & 0 \\\\\n",
       "\t29 & 'I' & 0.449893 & 1.0 & 1 \\\\\n",
       "\t30 & 'J' & 0.279771 & 1.0 & 1 \\\\\n",
       "\t$\\dots$ & $\\dots$ & $\\dots$ & $\\dots$ & $\\dots$ \\\\\n",
       "\\end{tabular}\n"
      ],
      "text/plain": [
       "1000×4 DataFrame\n",
       "│ Row  │ gene │ normal    │ nresp   │ counts │\n",
       "│      │ \u001b[90mChar\u001b[39m │ \u001b[90mFloat64\u001b[39m   │ \u001b[90mFloat64\u001b[39m │ \u001b[90mBool\u001b[39m   │\n",
       "├──────┼──────┼───────────┼─────────┼────────┤\n",
       "│ 1    │ 'A'  │ 0.0951588 │ 1.0     │ 0      │\n",
       "│ 2    │ 'B'  │ 0.270898  │ 1.0     │ 0      │\n",
       "│ 3    │ 'C'  │ 0.906315  │ 1.0     │ 0      │\n",
       "│ 4    │ 'D'  │ 0.833585  │ 1.0     │ 1      │\n",
       "│ 5    │ 'E'  │ 0.945055  │ 1.0     │ 1      │\n",
       "│ 6    │ 'F'  │ 0.443669  │ 1.0     │ 1      │\n",
       "│ 7    │ 'G'  │ 0.904577  │ 1.0     │ 1      │\n",
       "│ 8    │ 'H'  │ 0.941598  │ 1.0     │ 0      │\n",
       "│ 9    │ 'I'  │ 0.0375897 │ 1.0     │ 0      │\n",
       "│ 10   │ 'J'  │ 0.996082  │ 1.0     │ 1      │\n",
       "⋮\n",
       "│ 990  │ 'J'  │ 0.536461  │ 1.0     │ 1      │\n",
       "│ 991  │ 'A'  │ 0.991685  │ 1.0     │ 1      │\n",
       "│ 992  │ 'B'  │ 0.016787  │ 1.0     │ 1      │\n",
       "│ 993  │ 'C'  │ 0.975439  │ 1.0     │ 1      │\n",
       "│ 994  │ 'D'  │ 0.358749  │ 1.0     │ 1      │\n",
       "│ 995  │ 'E'  │ 0.805589  │ 1.0     │ 1      │\n",
       "│ 996  │ 'F'  │ 0.153572  │ 1.0     │ 1      │\n",
       "│ 997  │ 'G'  │ 0.287365  │ 1.0     │ 1      │\n",
       "│ 998  │ 'H'  │ 0.445073  │ 1.0     │ 1      │\n",
       "│ 999  │ 'I'  │ 0.127871  │ 1.0     │ 1      │\n",
       "│ 1000 │ 'J'  │ 0.111286  │ 1.0     │ 1      │"
      ]
     },
     "execution_count": 43,
     "metadata": {},
     "output_type": "execute_result"
    }
   ],
   "source": [
    "using DataFrames, MixedModels, Random, GeneralizedCopula, GLM\n",
    "using ForwardDiff, Test, LinearAlgebra\n",
    "using LinearAlgebra: BlasReal, copytri!\n",
    "\n",
    "Random.seed!(1235)\n",
    "p = 10   # number of genes\n",
    "\n",
    "n = 100  # number of cells\n",
    "\n",
    "df = DataFrame(gene = repeat('A':'J', outer=n), normal = rand(n * p), nresp = ones(n * p))\n",
    "\n",
    "#lmm1 = lmm(@formula(nresp ~ 1 + (1|gene)), df);\n",
    "lmm1 = LinearMixedModel(@formula(nresp ~ 1 +  normal + (1|gene)), df);\n",
    "# simulate the linear mixed model response and fit it (as a sanity check)\n",
    "refit!(simulate!(lmm1, β=[0.2, 1.5], σ=0.2, θ = [1.]))\n",
    "\n",
    "# # #simulate the Logistic response\n",
    "df[!, :counts] = rand.(Bernoulli.(GLM.linkinv.(canonicallink(Bernoulli()), response(lmm1))))\n",
    "df"
   ]
  },
  {
   "cell_type": "code",
   "execution_count": 44,
   "metadata": {},
   "outputs": [
    {
     "name": "stdout",
     "output_type": "stream",
     "text": [
      "1 0.0 -641.333341152059 39\n",
      "2 -641.333341152059 -572.8863440551082 9\n",
      "3 -572.8863440551082 -569.0832094974016 9\n",
      "4 -569.0832094974016 -569.080574334758 9\n",
      "5 -569.080574334758 -569.0805743267674 9\n",
      "gcm.β = [0.12924041019880786, 1.7101020114656673]\n"
     ]
    },
    {
     "data": {
      "text/plain": [
       "2-element Array{Float64,1}:\n",
       " 0.12924041019880786\n",
       " 1.7101020114656673"
      ]
     },
     "execution_count": 44,
     "metadata": {},
     "output_type": "execute_result"
    }
   ],
   "source": [
    "groups = unique(df[!, :gene])\n",
    "n, p, m = length(groups), 1, 1\n",
    "d = Bernoulli()\n",
    "D = typeof(d)\n",
    "gcs = Vector{GLMCopulaVCObs{Float64, D}}(undef, n)\n",
    "for (i, grp) in enumerate(groups)\n",
    "    gidx = df[!, :gene] .== grp\n",
    "    ni = count(gidx)\n",
    "    y = Float64.(df[gidx, :counts])\n",
    "    normal = Float64.(df[gidx, :normal])\n",
    "    X = [ones(ni, 1) normal]\n",
    "    V = [ones(ni, ni)]\n",
    "    gcs[i] = GLMCopulaVCObs(y, X, V, d)\n",
    "end\n",
    "gcm = GLMCopulaVCModel(gcs);\n",
    "\n",
    "initialize_model!(gcm)\n",
    "# gcm.β .= [0.5, 2]\n",
    "@show gcm.β"
   ]
  },
  {
   "cell_type": "markdown",
   "metadata": {},
   "source": [
    "## MM update for Sigma\n",
    "\n",
    "$$\n",
    "  \\begin{eqnarray}\n",
    "\\mathcal{L}(\\sigma) = - \\sum_i^n \\ln \\left(1 + \\sum_k^m \\sigma_k^2 t_{ik}\\right) + \\sum_i^n \\ln \\left(1 + \\frac{1}{2} \\sum_k^m \\sigma_k^2 q_{ik}\\right)\n",
    "\\end{eqnarray}\n",
    "$$\n",
    "\n",
    "where\n",
    "$$\n",
    "\\begin{eqnarray*}\n",
    "\tt_{ik} &=& \\frac 12 \\text{tr}(\\mathbf{V}_{ik}), \\quad \\mathbf{t}_i = (t_{i1}, \\ldots, t_{im})^T \\\\\n",
    "\tq_{ik} &=& \\frac{1}{2}  \\mathbf{r}_i( \\boldsymbol{\\beta})^T \\mathbf{V}_{ik}  \\mathbf{r}_i (\\boldsymbol{\\beta}), \\quad \\mathbf{q}_i = (q_{i1}, \\ldots, q_{im})^T.\n",
    "\\end{eqnarray*}\n",
    "$$\n",
    "\n",
    "where the $k^{th}$ element in the $m \\times 1$ vector of variance components above is:\n",
    "\n",
    "$$\\begin{eqnarray*}\n",
    "\\sigma_{k}^{2^{(t+1)}} & = & \\sigma_{k}^{2^{(t)}} \\left(\\frac{\\sum_{i=1}^n\n",
    "\\frac{q_{ik}}{1+ q_i^{(t)}}}{\\sum_{i=1}^n \\frac{t_{ik}}{1+ t_i^{(t)}}} \\right).\n",
    "\\end{eqnarray*}\n",
    "$$\n",
    "\n",
    "where $q_i^{(t)} = \\sum_{k=1}^m \\sigma_k^{2(t)} q_{ik}$ and $t_i^{(t)} = \\sum_{k=1}^m \\sigma_k^{2(t)} t_{ik}$. \n",
    "\n",
    "\n",
    "In this case $m = 1$ single variance component to model the random intercept. "
   ]
  },
  {
   "cell_type": "markdown",
   "metadata": {},
   "source": [
    "Initialize β and σ2, here I just copy the solution for β and σ2 from MixedModels.jl over"
   ]
  },
  {
   "cell_type": "code",
   "execution_count": 28,
   "metadata": {},
   "outputs": [
    {
     "data": {
      "text/plain": [
       "-590.449886072176"
      ]
     },
     "execution_count": 28,
     "metadata": {},
     "output_type": "execute_result"
    }
   ],
   "source": [
    "fill!(gcm.Σ, 1.0)\n",
    "update_Σ!(gcm)\n",
    "GeneralizedCopula.loglikelihood3!(gcm, true, true)"
   ]
  },
  {
   "cell_type": "markdown",
   "metadata": {},
   "source": [
    "Closer Look at Observation 1\n",
    "i =1"
   ]
  },
  {
   "cell_type": "code",
   "execution_count": 4,
   "metadata": {},
   "outputs": [
    {
     "name": "stdout",
     "output_type": "stream",
     "text": [
      "β = [0.5, 2.0]\n",
      "Σ = [0.10367203044619394]\n",
      "τ = [1.0]\n"
     ]
    },
    {
     "data": {
      "text/plain": [
       "100"
      ]
     },
     "execution_count": 4,
     "metadata": {},
     "output_type": "execute_result"
    }
   ],
   "source": [
    "gc = gcm.data[1]\n",
    "β  = gcm.β\n",
    "Σ  = gcm.Σ\n",
    "τ  = gcm.τ\n",
    "\n",
    "@show β\n",
    "@show Σ\n",
    "@show τ\n",
    "\n",
    "n_i  = length(gc.y)"
   ]
  },
  {
   "cell_type": "markdown",
   "metadata": {},
   "source": [
    "## Term 1: Fisher's Expected Information\n",
    "\n",
    "\n",
    "\\begin{eqnarray*}\n",
    "& = & \\mathbf{FIM}_n(\\beta) = \\mathbf{E} [- \\nabla^2 L_n(\\beta)]\\\\ &=& - \\sum_{i=1}^n \\sum_j \\mathbf{J}_{ij}(\\mathbf{\\beta}) = - \\sum_{i=1}^n \\sum_{j=1}^{n_i} \\frac{[\\mu_{ij}'(\\eta_{ij})]^2}{\\sigma_{ij}^2} \\mathbf{x}_{ij} \\mathbf{x}_{ij}^T = - \\sum_{i=1}^n \\mathbf{X_i}^T \\mathbf{W_{2i}} \\mathbf{X_i}.\n",
    "\\end{eqnarray*}"
   ]
  },
  {
   "cell_type": "markdown",
   "metadata": {},
   "source": [
    "### First I want to check if the mean and residuals are updated and standardized at this point"
   ]
  },
  {
   "cell_type": "code",
   "execution_count": 5,
   "metadata": {},
   "outputs": [
    {
     "data": {
      "text/plain": [
       "\u001b[32m\u001b[1mTest Passed\u001b[22m\u001b[39m"
      ]
     },
     "execution_count": 5,
     "metadata": {},
     "output_type": "execute_result"
    }
   ],
   "source": [
    "@test gc.η == gc.X*β                        # systematic linear component\n",
    "@test gc.μ == exp.(gc.η)./(1 .+ exp.(gc.η)) # mu = ginverse of XB = mean component for GLM = [p]\n",
    "@test gc.varμ == gc.μ .*(1 .- gc.μ)         # variance of the Bernoulli response as a function of mean mu [p(1-p)]\n",
    "@test gc.res ≈ (gc.y - gc.μ)./sqrt.(gc.varμ)# standardized residual for GLM [(y - p)/sqrt(p(1-p))]"
   ]
  },
  {
   "cell_type": "markdown",
   "metadata": {},
   "source": [
    "## Group i = 1, j in [1, n_1]\n",
    "\n",
    "\n",
    "$$\\text{Term 1 }= - \\sum_{j=1}^{n_1} \\frac{[\\mu_{1j}'(\\eta_{1j})]^2}{\\sigma_{1j}^2} \\mathbf{x}_{1j} \\mathbf{x}_{1j}^T = - \\mathbf{X_1}^T \\mathbf{W_{21}} \\mathbf{X_1}. $$"
   ]
  },
  {
   "cell_type": "code",
   "execution_count": 6,
   "metadata": {},
   "outputs": [
    {
     "data": {
      "text/plain": [
       "2×2 Array{Float64,2}:\n",
       " -15.7599   -5.84941\n",
       "  -5.84941  -3.25041"
      ]
     },
     "execution_count": 6,
     "metadata": {},
     "output_type": "execute_result"
    }
   ],
   "source": [
    "# these are slightly off by small decimals\n",
    "@test gc.dμ ≈ exp.(gc.η)./(1 .+ exp.(gc.η)).^2        # derivative of mean with respect to systematic component\n",
    "\n",
    "# First check if the diagonal elements of the W21 matrix is equal to the theoretical weights\n",
    "@test gc.w2 == (gc.dμ).^2 ./ gc.varμ\n",
    "\n",
    "term1_hard_code = -transpose(gc.X)*Diagonal(gc.w2)*gc.X"
   ]
  },
  {
   "cell_type": "code",
   "execution_count": 7,
   "metadata": {},
   "outputs": [
    {
     "data": {
      "text/plain": [
       "2×2 Array{Float64,2}:\n",
       " -15.7599   -5.84941\n",
       "  -5.84941  -3.25041"
      ]
     },
     "execution_count": 7,
     "metadata": {},
     "output_type": "execute_result"
    }
   ],
   "source": [
    "# term 1:\n",
    "\"\"\"\n",
    "glm_hessian(gc)\n",
    "Compute the part of the hessian relevant to the glm density with respect to beta for a single obs\n",
    "\"\"\"\n",
    "function hessian_glm(\n",
    "    gc::Union{GLMCopulaVCObs{T, D}, GaussianCopulaVCObs{T, D}},\n",
    "    β) where {T <: BlasReal, D}\n",
    "    score = zeros(size(gc.∇β))\n",
    "    inform = zeros(size(gc.∇β, 1), size(gc.∇β, 1))\n",
    "    update_res!(gc, β)\n",
    "        for j in 1:length(gc.y)\n",
    "              c = gc.dμ[j]^2 / gc.varμ[j]\n",
    "              BLAS.ger!(-c, gc.X[j, :], gc.X[j, :], inform) # inform = inform + c * x * x'\n",
    "        end\n",
    "   inform\n",
    "end\n",
    "\n",
    "term1 = hessian_glm(gc, β)"
   ]
  },
  {
   "cell_type": "markdown",
   "metadata": {},
   "source": [
    "###  Test if the hessian of the component loglikelihood matches our hessian function"
   ]
  },
  {
   "cell_type": "code",
   "execution_count": 8,
   "metadata": {},
   "outputs": [
    {
     "name": "stdout",
     "output_type": "stream",
     "text": [
      "hessian1magictest = [-15.759940823284133 -5.8494097196481745; -5.8494097196481745 -3.2504102210573786]\n"
     ]
    },
    {
     "data": {
      "text/plain": [
       "2×2 Array{Float64,2}:\n",
       " -15.7599   -5.84941\n",
       "  -5.84941  -3.25041"
      ]
     },
     "execution_count": 8,
     "metadata": {},
     "output_type": "execute_result"
    }
   ],
   "source": [
    "function logistic_density2(β::Vector)\n",
    "    η = gc.X*β                        # systematic linear component\n",
    "    μ = exp.(η)./(1 .+ exp.(η)) # mu = ginverse of XB = mean component for GLM = [p]\n",
    "    dμ = exp.(η)./(1 .+ exp.(η)).^2\n",
    "    varμ = dμ\n",
    "    logl = sum(gc.y .* log.(μ) .+ (1 .- gc.y).*log.(1 .- μ))\n",
    "end\n",
    "\n",
    "h1 = x -> ForwardDiff.hessian(logistic_density2, x)\n",
    "\n",
    "hessian1magictest = h1(β)\n",
    "@show hessian1magictest"
   ]
  },
  {
   "cell_type": "markdown",
   "metadata": {},
   "source": [
    "## Term 2: Copula Model Specific\n",
    "\n",
    "The hessian of our model specific component is the partial of this second term in the gradient:\n",
    "\n",
    "\n",
    "$$\\begin{eqnarray*}\n",
    "\\nabla_\\beta \\text{Term 2} &=& \\sum_{i=1}^n\n",
    "\\frac{\\nabla \\mathbf{r_i(\\mathbf{\\beta})}\\mathbf{\\Gamma_i}\\mathbf{r_i(\\mathbf{\\beta})}}{1+\\frac{1}{2}\\mathbf{r_i}(\\mathbf{\\beta})^t \\mathbf{\\Gamma_i} \\mathbf{r_i(\\mathbf{\\beta})}}\n",
    "\\end{eqnarray*}\n",
    "$$\n",
    "\n",
    "$$ H_\\beta \\text{Term 2} = - \\frac{[\\nabla \\mathbf{r_1}(\\mathbf{\\beta})^t\\mathbf{\\Gamma_1} \\mathbf{r_1}(\\mathbf{\\beta})]\n",
    "[\\nabla \\mathbf{r_1}(\\mathbf{\\beta})^t\\mathbf{\\Gamma_1} \\mathbf{r_1}(\\mathbf{\\beta})]^t}\n",
    "{\\Big[1+\\frac{1}{2}\\mathbf{r_1}(\\mathbf{\\beta})^t \\mathbf{\\Gamma_1} \\mathbf{r_1}(\\mathbf{\\beta})\\Big]^2}$$\n",
    "\n",
    "We notice the quantity we need to first form this matrix: \n",
    "\n",
    "\\begin{eqnarray*}\n",
    "&  & \\nabla \\mathbf{r_1}(\\mathbf{\\beta})^t\\mathbf{\\Gamma_1} \\mathbf{r_1}(\\mathbf{\\beta}) =\n",
    "\\sum_{k=1}^m \\mathbf\\Sigma[k] * \\nabla \\mathbf{r_1}(\\mathbf{\\beta})^t * \\mathbf{V_1}[k] * \\mathbf{r_1}(\\mathbf{\\beta})\n",
    "\\end{eqnarray*}"
   ]
  },
  {
   "cell_type": "code",
   "execution_count": 9,
   "metadata": {},
   "outputs": [
    {
     "name": "stdout",
     "output_type": "stream",
     "text": [
      "hess_t2_numerator = [58.40098289607255, 27.812298858051147]\n",
      "quadratic_form_half = 6.385220974458291\n",
      "hess_t2_denominator = 54.541488841578676\n"
     ]
    },
    {
     "data": {
      "text/plain": [
       "2×2 Array{Float64,2}:\n",
       " -62.5336  -29.7804\n",
       " -29.7804  -14.1823"
      ]
     },
     "execution_count": 9,
     "metadata": {},
     "output_type": "execute_result"
    }
   ],
   "source": [
    "Γ1 = Σ[1]*gc.V[1]\n",
    "\n",
    "hess_t2_numerator = transpose(gc.∇resβ) * Γ1 * gc.res       # new term ∇resβ^t * Γ * res\n",
    "@show hess_t2_numerator\n",
    "\n",
    "quadratic_form_half = (transpose(gc.res) * Γ1 * gc.res)/2\n",
    "@show quadratic_form_half \n",
    "\n",
    "hess_t2_denominator = (1 + quadratic_form_half)^2\n",
    "@show hess_t2_denominator\n",
    "\n",
    "term2_hard_code = -(hess_t2_numerator * transpose(hess_t2_numerator)) / hess_t2_denominator"
   ]
  },
  {
   "cell_type": "code",
   "execution_count": 10,
   "metadata": {},
   "outputs": [
    {
     "name": "stdout",
     "output_type": "stream",
     "text": [
      "gc.q = [520.0359251065521]\n",
      "qsum = 53.9131802607611\n",
      "inv1pq = 0.018210564298978736\n",
      "added_term2 = [267.0757062966572 127.18945800049637; 127.18945800049627 60.571432912325875]\n",
      "added_term2 = [4.863599322210436 2.3161918030702946; 2.316191803070293 1.1030399737311871]\n",
      "gc.Hβ = [-4.686461545847272 2.3161918030702946; -2.231833483553137 -1.062866012999236]\n"
     ]
    },
    {
     "data": {
      "text/plain": [
       "2×2 Array{Float64,2}:\n",
       " -4.68646   2.31619\n",
       " -2.23183  -1.06287"
      ]
     },
     "execution_count": 10,
     "metadata": {},
     "output_type": "execute_result"
    }
   ],
   "source": [
    "function hessian_copula_addendum(\n",
    "    gc::Union{GLMCopulaVCObs{T, D}, GaussianCopulaVCObs{T, D}},\n",
    "    β::Vector{T},\n",
    "    τ::T,\n",
    "    Σ::Vector{T}\n",
    "    ) where {T <: BlasReal, D}\n",
    "    n, p, m = size(gc.X, 1), size(gc.X, 2), length(gc.V)\n",
    "    update_res!(gc, β)\n",
    "    if gc.d  ==  Normal()\n",
    "        sqrtτ = sqrt.(τ[1])\n",
    "        standardize_res!(gc, sqrtτ)\n",
    "    else\n",
    "        sqrtτ = 1.0\n",
    "        standardize_res!(gc)\n",
    "    end\n",
    "    fill!(gc.∇β, 0.0) # fill gradient with 0\n",
    "    fill!(gc.Hβ, 0) # fill hessian with 0\n",
    "    fill!(gc.∇resβ, 0.0) # fill gradient of residual vector with 0\n",
    "    std_res_differential!(gc) # this will compute ∇resβ\n",
    "    tsum = dot(Σ, gc.t)\n",
    "    for k in 1:m\n",
    "        mul!(gc.storage_n, gc.V[k], gc.res) # storage_n = V[k] * res\n",
    "        BLAS.gemv!('T', Σ[k], gc.∇resβ, gc.storage_n, 1.0, gc.∇β) # stores ∇resβ*Γ*res (standardized residual)\n",
    "        gc.q[k] = dot(gc.res, gc.storage_n) / 2\n",
    "    end\n",
    "    #@show gc.∇β\n",
    "    @show gc.q\n",
    "    qsum  = dot(Σ, gc.q)\n",
    "    @show qsum\n",
    "        inv1pq = inv(1 + qsum)\n",
    "    @show inv1pq\n",
    "        BLAS.syrk!('L', 'N', -abs2(inv1pq), gc.∇β, 1.0, gc.Hβ) # only lower triangular\n",
    "    \n",
    "    added_term_numerator = zeros(n, p)\n",
    "    added_term2 = zeros(p, p)\n",
    "    for k in 1:m\n",
    "        mul!(added_term_numerator, gc.V[k], gc.∇resβ) # storage_n = V[k] * res\n",
    "        BLAS.gemm!('T', 'N', Σ[k], gc.∇resβ, added_term_numerator, 1.0, added_term2)\n",
    "    end\n",
    "    @show added_term2\n",
    "    added_term2 .*= inv1pq\n",
    "    @show added_term2\n",
    "    gc.Hβ .+= added_term2\n",
    "    @show gc.Hβ\n",
    "end\n",
    "\n",
    "hess_term2 = hessian_copula_addendum(gc, β, τ[1], Σ)"
   ]
  },
  {
   "cell_type": "markdown",
   "metadata": {},
   "source": [
    "## Now I will check the part of the Loglikelihood that is specific to our density\n",
    "\n",
    "I note that this portion given by ForwardDiff will be the exact hessian while I am using the Expected Information matrix to approximate it"
   ]
  },
  {
   "cell_type": "code",
   "execution_count": 11,
   "metadata": {},
   "outputs": [
    {
     "name": "stdout",
     "output_type": "stream",
     "text": [
      "hessian2magictest = [-4.195566827996745 -1.9002608288531575; -1.9002608288531584 -0.8257624141594377]\n"
     ]
    },
    {
     "data": {
      "text/plain": [
       "2×2 Array{Float64,2}:\n",
       " -4.19557  -1.90026\n",
       " -1.90026  -0.825762"
      ]
     },
     "execution_count": 11,
     "metadata": {},
     "output_type": "execute_result"
    }
   ],
   "source": [
    "function copula_loglikelihood_addendum1(β::Vector)\n",
    "  m = length(gc.V)\n",
    "  η = gc.X*β                        # systematic linear component\n",
    "  μ = exp.(η)./(1 .+ exp.(η)) # mu = ginverse of XB = mean component for GLM = [p]\n",
    "  varμ = exp.(η)./(1 .+ exp.(η)).^2\n",
    "  res = (gc.y .- μ) ./ sqrt.(varμ)\n",
    "  trace_gamma = Σ[1]*tr(gc.V[1])\n",
    "  trace_gamma_half = trace_gamma/2\n",
    "\n",
    "  term1 = -log(1 + trace_gamma_half) # -1.252762968495368\n",
    "  quad_form_standardized_res_half = (Σ[1]*transpose(res)*gc.V[1]*res)/2\n",
    "  term2 = log(1 + quad_form_standardized_res_half) # 0.0381700599136237\n",
    "  logl_hard_coded_obs1 = term1 + term2\n",
    "  logl_hard_coded_obs1\n",
    "end\n",
    "\n",
    "h2 = x -> ForwardDiff.hessian(copula_loglikelihood_addendum1, x)\n",
    "hessian2magictest = h2(β)\n",
    "@show hessian2magictest"
   ]
  },
  {
   "cell_type": "markdown",
   "metadata": {},
   "source": [
    "## Added term to see if we can improve Hessian Approximation\n",
    "\n",
    "$$\n",
    "\\sum_{i=1}^n\\frac{\\nabla \\mathbf{r_i}(\\mathbf{\\beta})^t\\mathbf{\\Gamma_i}\\nabla \\mathbf{r_i}(\\mathbf{\\beta})}{1+\\frac{1}{2}\\mathbf{r_i}(\\mathbf{\\beta})^t \\mathbf{\\Gamma_i} \\mathbf{r_i}(\\mathbf{\\beta})} \n",
    "$$\n",
    "\n",
    "$i = 1$\n",
    "\n",
    "$$\n",
    "\\text{Term Added: }\\frac{\\nabla \\mathbf{r_1}(\\mathbf{\\beta})^t\\mathbf{\\Gamma_1}\\nabla \\mathbf{r_1}(\\mathbf{\\beta})}{1+\\frac{1}{2}\\mathbf{r_1}(\\mathbf{\\beta})^t \\mathbf{\\Gamma_1} \\mathbf{r_1}(\\mathbf{\\beta})} \n",
    "$$\n",
    "\n",
    "\n"
   ]
  },
  {
   "cell_type": "code",
   "execution_count": 12,
   "metadata": {},
   "outputs": [
    {
     "name": "stdout",
     "output_type": "stream",
     "text": [
      "added_term_numerator = [267.07570629665724 127.18945800049639; 127.18945800049637 60.571432912325896]\n",
      "quadratic_form_half = 53.91318026076111\n",
      "added_term_denominator = 0.018210564298978733\n"
     ]
    },
    {
     "data": {
      "text/plain": [
       "2×2 Array{Float64,2}:\n",
       " 4.8636   2.31619\n",
       " 2.31619  1.10304"
      ]
     },
     "execution_count": 12,
     "metadata": {},
     "output_type": "execute_result"
    }
   ],
   "source": [
    "Γ1 = Σ[1]*gc.V[1]\n",
    "\n",
    "added_term_numerator =  transpose(gc.∇resβ) * Γ1 * gc.∇resβ\n",
    "@show added_term_numerator\n",
    "\n",
    "quadratic_form_half = (transpose(gc.res) * Γ1 * gc.res)/2\n",
    "@show quadratic_form_half \n",
    "\n",
    "added_term_denominator = inv(1 + quadratic_form_half)\n",
    "@show added_term_denominator\n",
    "\n",
    "added_term_hard_code = added_term_numerator * added_term_denominator"
   ]
  },
  {
   "cell_type": "code",
   "execution_count": 13,
   "metadata": {},
   "outputs": [
    {
     "data": {
      "text/plain": [
       "2×2 Array{Float64,2}:\n",
       " -73.4299  -33.3136\n",
       " -33.3136  -16.3297"
      ]
     },
     "execution_count": 13,
     "metadata": {},
     "output_type": "execute_result"
    }
   ],
   "source": [
    "hessian_approximation_closer = term1_hard_code + term2_hard_code + added_term_hard_code"
   ]
  },
  {
   "cell_type": "markdown",
   "metadata": {},
   "source": [
    "## Now I will put together both the parts of the loglikelihood and both the parts of the gradient to check alltogether now"
   ]
  },
  {
   "cell_type": "code",
   "execution_count": 14,
   "metadata": {},
   "outputs": [
    {
     "name": "stdout",
     "output_type": "stream",
     "text": [
      "hessianmagictest = [-19.95550765128088 -7.7496705485013315; -7.749670548501333 -4.076172635216817]\n"
     ]
    },
    {
     "data": {
      "text/plain": [
       "2×2 Array{Float64,2}:\n",
       " -19.9555   -7.74967\n",
       "  -7.74967  -4.07617"
      ]
     },
     "execution_count": 14,
     "metadata": {},
     "output_type": "execute_result"
    }
   ],
   "source": [
    "function full_loglikelihood(β::Vector)\n",
    "    logl = 0.0\n",
    "    logl = logistic_density2(β) + copula_loglikelihood_addendum1(β)\n",
    "    logl\n",
    "end\n",
    "\n",
    "h = x -> ForwardDiff.hessian(full_loglikelihood, x)\n",
    "hessianmagictest = h(β)\n",
    "@show hessianmagictest"
   ]
  },
  {
   "cell_type": "code",
   "execution_count": 46,
   "metadata": {},
   "outputs": [
    {
     "name": "stdout",
     "output_type": "stream",
     "text": [
      "1 0.0 -641.333341152059 39\n",
      "2 -641.333341152059 -572.8863440551082 9\n",
      "3 -572.8863440551082 -569.0832094974016 9\n",
      "4 -569.0832094974016 -569.080574334758 9\n",
      "5 -569.080574334758 -569.0805743267674 9\n",
      "gcm.β = [0.12924041019880786, 1.7101020114656673]\n",
      "This is Ipopt version 3.13.2, running with linear solver mumps.\n",
      "NOTE: Other linear solvers might be more efficient (see Ipopt documentation).\n",
      "\n",
      "Starting derivative checker for first derivatives.\n",
      "\n",
      "* grad_f[          1] = -7.0981539601041595e+02    ~ -2.1850205635478569e+03  [ 6.751e-01]\n",
      "* grad_f[          2] = -3.8909486350194783e+02    ~ -1.5388880092359614e+04  [ 9.747e-01]\n",
      "\n",
      "Derivative checker detected 2 error(s).\n",
      "\n",
      "Number of nonzeros in equality constraint Jacobian...:        0\n",
      "Number of nonzeros in inequality constraint Jacobian.:        0\n",
      "Number of nonzeros in Lagrangian Hessian.............:        0\n",
      "\n",
      "Total number of variables............................:        2\n",
      "                     variables with only lower bounds:        0\n",
      "                variables with lower and upper bounds:        0\n",
      "                     variables with only upper bounds:        0\n",
      "Total number of equality constraints.................:        0\n",
      "Total number of inequality constraints...............:        0\n",
      "        inequality constraints with only lower bounds:        0\n",
      "   inequality constraints with lower and upper bounds:        0\n",
      "        inequality constraints with only upper bounds:        0\n",
      "\n",
      "iter    objective    inf_pr   inf_du lg(mu)  ||d||  lg(rg) alpha_du alpha_pr  ls\n",
      "   0  5.6903118e+02 0.00e+00 1.20e-01   0.0 0.00e+00    -  0.00e+00 0.00e+00   0\n",
      "   1  5.6903114e+02 0.00e+00 9.48e-02 -11.0 1.20e-01    -  1.00e+00 7.81e-03f  8\n",
      "   2  5.6903111e+02 0.00e+00 2.44e-02 -11.0 4.01e-04    -  1.00e+00 1.00e+00f  1\n",
      "   3  5.6903111e+02 0.00e+00 2.76e-02 -11.0 1.54e-04    -  1.00e+00 1.00e+00f  1\n",
      "   4  5.6903108e+02 0.00e+00 1.54e-02 -11.0 1.50e-03    -  1.00e+00 1.00e+00f  1\n",
      "   5  5.6903108e+02 0.00e+00 1.63e-04 -11.0 4.90e-04    -  1.00e+00 1.00e+00f  1\n",
      "   6  5.6903108e+02 0.00e+00 4.35e-06 -11.0 1.18e-06    -  1.00e+00 1.00e+00f  1\n",
      "   7  5.6903108e+02 0.00e+00 8.04e-06 -11.0 1.17e-07    -  1.00e+00 1.00e+00f  1\n",
      "   8  5.6903108e+02 0.00e+00 6.86e-06 -11.0 1.42e-07    -  1.00e+00 1.00e+00f  1\n",
      "   9  5.6903108e+02 0.00e+00 2.68e-05 -11.0 7.70e-07    -  1.00e+00 1.00e+00f  1\n",
      "iter    objective    inf_pr   inf_du lg(mu)  ||d||  lg(rg) alpha_du alpha_pr  ls\n",
      "  10  5.6903108e+02 0.00e+00 7.05e-06 -11.0 6.19e-07    -  1.00e+00 1.00e+00f  1\n",
      "  11  5.6903108e+02 0.00e+00 3.48e-06 -11.0 1.30e-07    -  1.00e+00 1.00e+00f  1\n",
      "  12  5.6903108e+02 0.00e+00 5.62e-07 -11.0 1.24e-07    -  1.00e+00 1.00e+00f  1\n",
      "  13  5.6903108e+02 0.00e+00 1.97e-06 -11.0 1.43e-08    -  1.00e+00 1.00e+00f  1\n",
      "  14  5.6903108e+02 0.00e+00 2.71e-06 -11.0 1.32e-08    -  1.00e+00 1.00e+00f  1\n",
      "  15  5.6903108e+02 0.00e+00 2.90e-06 -11.0 1.68e-08    -  1.00e+00 1.00e+00f  1\n",
      "  16  5.6903108e+02 0.00e+00 2.83e-06 -11.0 1.87e-08    -  1.00e+00 1.00e+00f  1\n",
      "  17  5.6903108e+02 0.00e+00 1.23e-04 -11.0 2.83e-06    -  1.00e+00 2.50e-01f  3\n",
      "  18  5.6903108e+02 0.00e+00 2.20e-06 -11.0 6.91e-07    -  1.00e+00 1.00e+00f  1\n",
      "  19  5.6903108e+02 0.00e+00 1.30e-06 -11.0 1.43e-08    -  1.00e+00 1.00e+00f  1\n",
      "iter    objective    inf_pr   inf_du lg(mu)  ||d||  lg(rg) alpha_du alpha_pr  ls\n",
      "  20  5.6903108e+02 0.00e+00 1.46e-06 -11.0 2.05e-08    -  1.00e+00 1.00e+00f  1\n",
      "  21  5.6903108e+02 0.00e+00 5.46e-07 -11.0 7.42e-08    -  1.00e+00 1.00e+00f  1\n",
      "  22  5.6903108e+02 0.00e+00 1.23e-07 -11.0 5.42e-09    -  1.00e+00 1.00e+00f  1\n",
      "  23  5.6903108e+02 0.00e+00 9.63e-08 -11.0 1.98e-09    -  1.00e+00 1.00e+00f  1\n",
      "  24  5.6903108e+02 0.00e+00 1.45e-07 -11.0 5.32e-09    -  1.00e+00 1.00e+00f  1\n",
      "  25  5.6903108e+02 0.00e+00 7.50e-08 -11.0 3.61e-09    -  1.00e+00 1.00e+00f  1\n",
      "  26  5.6903108e+02 0.00e+00 4.74e-08 -11.0 1.28e-09    -  1.00e+00 1.00e+00f  1\n",
      "  27  5.6903108e+02 0.00e+00 3.05e-08 -11.0 2.02e-09    -  1.00e+00 1.00e+00f  1\n",
      "  28  5.6903108e+02 0.00e+00 3.02e-08 -11.0 7.19e-10    -  1.00e+00 1.00e+00f  1\n",
      "  29  5.6903108e+02 0.00e+00 2.91e-08 -11.0 4.49e-10    -  1.00e+00 1.00e+00f  1\n",
      "iter    objective    inf_pr   inf_du lg(mu)  ||d||  lg(rg) alpha_du alpha_pr  ls\n",
      "  30  5.6903108e+02 0.00e+00 1.14e-06 -11.0 6.61e-09    -  1.00e+00 1.00e+00f  1\n",
      "  31  5.6903108e+02 0.00e+00 1.95e-08 -11.0 5.69e-09    -  1.00e+00 1.00e+00f  1\n",
      "  32  5.6903108e+02 0.00e+00 2.01e-08 -11.0 2.32e-09    -  1.00e+00 1.00e+00f  1\n",
      "  33  5.6903108e+02 0.00e+00 9.71e-09 -11.0 1.62e-09    -  1.00e+00 1.00e+00f  1\n",
      "\n",
      "Number of Iterations....: 33\n",
      "\n",
      "                                   (scaled)                 (unscaled)\n",
      "Objective...............:   5.6903107822577385e+02    5.6903107822577385e+02\n",
      "Dual infeasibility......:   9.7086232386800475e-09    9.7086232386800475e-09\n",
      "Constraint violation....:   0.0000000000000000e+00    0.0000000000000000e+00\n",
      "Complementarity.........:   0.0000000000000000e+00    0.0000000000000000e+00\n",
      "Overall NLP error.......:   9.7086232386800475e-09    9.7086232386800475e-09\n",
      "\n",
      "\n",
      "Number of objective function evaluations             = 51\n",
      "Number of objective gradient evaluations             = 34\n",
      "Number of equality constraint evaluations            = 0\n",
      "Number of inequality constraint evaluations          = 0\n",
      "Number of equality constraint Jacobian evaluations   = 0\n",
      "Number of inequality constraint Jacobian evaluations = 0\n",
      "Number of Lagrangian Hessian evaluations             = 0\n",
      "Total CPU secs in IPOPT (w/o function evaluations)   =      0.780\n",
      "Total CPU secs in NLP function evaluations           =      0.208\n",
      "\n",
      "EXIT: Optimal Solution Found.\n",
      "  0.318280 seconds (289.70 k allocations: 27.102 MiB)\n"
     ]
    },
    {
     "data": {
      "text/plain": [
       "GLMCopulaVCModel{Float64,Bernoulli{Float64}}(GLMCopulaVCObs{Float64,Bernoulli{Float64}}[GLMCopulaVCObs{Float64,Bernoulli{Float64}}([0.0, 0.0, 1.0, 1.0, 0.0, 0.0, 1.0, 1.0, 0.0, 1.0  …  1.0, 0.0, 1.0, 1.0, 0.0, 1.0, 1.0, 0.0, 0.0, 1.0], [1.0 0.09515880533766441; 1.0 0.23881672289989253; … ; 1.0 0.2707677310894794; 1.0 0.9916847794622285], [[1.0 1.0 … 1.0 1.0; 1.0 1.0 … 1.0 1.0; … ; 1.0 1.0 … 1.0 1.0; 1.0 1.0 … 1.0 1.0]], [-2.9072210102233673, -3.05711160153184], [-0.5785149551503376 -0.05505079200207863; -0.6542570098779004 -0.1562475150333228; … ; -0.6724076000387136 -0.1820662802298046; -0.2005215884796763 -0.1988542072488835], [1.5e-323], [2.2104556125e-314], [-20.212526732386472 -8.043109601563785; -8.193503370590694 -4.780236515971943], [4.243991583e-314], [-1.1570299103006751, -1.3085140197558007, 0.8468374293820895, 0.40454099875314353, -1.8019923483346916, -1.4805486648578887, 0.8561289384644659, 0.4053751066993921, -1.3671189645669357, 0.9235009662956577  …  0.8954110905167303, -1.6105145615786054, 0.6470754887392725, 0.7196751665954135, -1.2372603188094362, 0.933159028432419, 0.4136504475485077, -1.4821114918407716, -1.3448152000774272, 0.4010431769593527], [50.0], [39.57270195648326], [100.0 46.2177621584263; 46.2177621584263 29.613040936012897], [-8.896370266179712, -8.896370266179712, -8.896370266179712, -8.896370266179712, -8.896370266179712, -8.896370266179712, -8.896370266179712, -8.896370266179712, -8.896370266179712, -8.896370266179712  …  -8.896370266179712, -8.896370266179712, -8.896370266179712, -8.896370266179712, -8.896370266179712, -8.896370266179712, -8.896370266179712, -8.896370266179712, -8.896370266179712, -8.896370266179712], [2.5062682323e-314, 2.5062681927e-314], [0.29171259895387824, 0.53778431460539, 0.33249307945488393, 1.8100043819979037, 1.1777858259399352, 0.784825477150204, 0.3106685702730754, 1.8058849022862296, 0.6254111599470186, 0.15916686600533322  …  0.22094469429772523, 0.9531074627980727, 0.8705846325303566, 0.6579106525611487, 0.42579902986363916, 0.13835928835772876, 1.765467982793592, 0.7869355094120002, 0.5925132118038439, 1.827372368513138], [0.5724153537180621, 0.6312968424778521, 0.5823658575426687, 0.8593624038691063, 0.7645494558509297, 0.6867191817288699, 0.5770484431577011, 0.8588637916266701, 0.651448229867896, 0.539707921533851  …  0.5550125617845186, 0.7217396842885074, 0.7048673333034737, 0.6587908894761517, 0.6048700706572185, 0.5345347472610668, 0.8538931646319496, 0.6871729465738639, 0.6439415851846134, 0.8614484034958945], [0.24475601654588797, 0.23276113915534608, 0.24321586551126081, 0.12085866268541731, 0.180013585408977, 0.21513594717450124, 0.2440635374069745, 0.12121677905932987, 0.22706343366988094, 0.24842328096746152  …  0.2469736180459045, 0.20083151241163305, 0.2080293757451234, 0.22478545341937256, 0.23900226828034998, 0.24880735123161424, 0.12475962802678378, 0.21496628807085752, 0.22928082005454067, 0.11935505161026906], [0.24475601654588797, 0.23276113915534608, 0.24321586551126081, 0.12085866268541731, 0.18001358540897697, 0.21513594717450127, 0.24406353740697448, 0.12121677905932993, 0.2270634336698809, 0.24842328096746152  …  0.2469736180459045, 0.20083151241163305, 0.20802937574512337, 0.22478545341937256, 0.23900226828034996, 0.24880735123161424, 0.12475962802678378, 0.21496628807085752, 0.22928082005454067, 0.11935505161026903], Bernoulli{Float64}(p=0.5), [1.0, 1.0, 1.0, 1.0, 0.9999999999999999, 1.0000000000000002, 0.9999999999999999, 1.0000000000000004, 0.9999999999999999, 1.0  …  1.0, 1.0, 0.9999999999999999, 1.0, 0.9999999999999999, 1.0, 1.0, 1.0, 1.0, 0.9999999999999998], [0.24475601654588797, 0.23276113915534608, 0.24321586551126081, 0.12085866268541731, 0.1800135854089769, 0.2151359471745013, 0.24406353740697445, 0.12121677905932998, 0.22706343366988088, 0.24842328096746152  …  0.2469736180459045, 0.20083151241163305, 0.20802937574512334, 0.22478545341937256, 0.23900226828034993, 0.24880735123161424, 0.12475962802678378, 0.21496628807085752, 0.22928082005454067, 0.119355051610269]), GLMCopulaVCObs{Float64,Bernoulli{Float64}}([0.0, 1.0, 1.0, 1.0, 0.0, 0.0, 1.0, 1.0, 1.0, 1.0  …  0.0, 1.0, 1.0, 1.0, 1.0, 1.0, 0.0, 0.0, 1.0, 1.0], [1.0 0.2708978155840298; 1.0 0.1807076550615192; … ; 1.0 0.030175028506069568; 1.0 0.016786971871112], [[1.0 1.0 … 1.0 1.0; 1.0 1.0 … 1.0 1.0; … ; 1.0 1.0 … 1.0 1.0; 1.0 1.0 … 1.0 1.0]], [1.4870131102229445, 1.0672430005111768], [-0.6724825177454565 -0.18217404507569274; -0.40161080229305784 -0.07257414632975388; … ; -0.456873784548566 -0.013786179472428866; -0.46214254129897225 -0.0077579738412300635], [NaN], [2.303857063e-314], [-19.977575454374048 -7.912824886345908; -7.944071641681804 -4.730106590282709], [2.2347372315e-314], [-1.3449650354909128, 0.8032216045861158, 0.42816903149624447, 0.8025539624472389, -1.132908796921942, -1.637528852062359, 0.41950421918693764, 0.5063971573255105, 0.8251233904749269, 0.6180830719816648  …  -1.1430534229848188, 0.6092838756406314, 0.5849065031765098, 0.8174783071470659, 0.5379341290279462, 0.7979092670904695, -1.2065551963490846, -1.596872941712897, 0.913747569097132, 0.9242850825979446], [50.0], [9.712118816927457], [100.0 45.558442015897285; 45.558442015897285 29.272386739797465], [4.407293685909179, 4.407293685909179, 4.407293685909179, 4.407293685909179, 4.407293685909179, 4.407293685909179, 4.407293685909179, 4.407293685909179, 4.407293685909179, 4.407293685909179  …  4.407293685909179, 4.407293685909179, 4.407293685909179, 4.407293685909179, 4.407293685909179, 4.407293685909179, 4.407293685909179, 4.407293685909179, 4.407293685909179, 4.407293685909178], [2.3038571576e-314, 2.3083747753e-314], [0.5927360335967312, 0.4382492645326731, 1.6964744559271383, 0.43991236662752364, 0.24957696365212523, 0.9863766159042271, 1.7373633909377364, 1.3608680433283076, 0.38444467923807013, 0.9622648197515823  …  0.26740624597947177, 0.9909419716442095, 1.0726065363066712, 0.40306182432544624, 1.2400383261347452, 0.45152077676918023, 0.37553870837233083, 0.9360946109243754, 0.18040185656100702, 0.15746944795236506], [0.6439926723092675, 0.6078417865554764, 0.8450737174663769, 0.6082381492699839, 0.5620723744850737, 0.7283716423653569, 0.8503518573769914, 0.7959007412812553, 0.5949446566668173, 0.7235750305482912  …  0.5664560316616108, 0.7292739392312159, 0.7450922908518836, 0.5994230735180248, 0.7755706854171031, 0.6110007513544015, 0.5927966446101537, 0.7183101124357811, 0.5449785453299423, 0.5392862150497972], [0.22926611032123592, 0.23837014907252307, 0.13092412951393506, 0.2382845030426087, 0.24614702032578475, 0.19784639296334952, 0.1272535760324923, 0.1624427513092036, 0.2409855121704202, 0.20001420571533066  …  0.24558359585579098, 0.19743346078940074, 0.1899297689649757, 0.24011505245222944, 0.17406079733874802, 0.23767883319875835, 0.24138878274909684, 0.2023406948082766, 0.24797693046000233, 0.24845659330706107], [0.22926611032123595, 0.23837014907252307, 0.13092412951393512, 0.2382845030426087, 0.24614702032578475, 0.19784639296334952, 0.12725357603249238, 0.16244275130920355, 0.24098551217042016, 0.20001420571533068  …  0.24558359585579098, 0.19743346078940072, 0.18992976896497568, 0.24011505245222942, 0.17406079733874802, 0.23767883319875832, 0.24138878274909686, 0.20234069480827663, 0.24797693046000235, 0.24845659330706107], Bernoulli{Float64}(p=0.5), [1.0000000000000002, 1.0, 1.0000000000000004, 1.0, 1.0, 1.0, 1.0000000000000007, 0.9999999999999997, 0.9999999999999999, 1.0000000000000002  …  1.0, 0.9999999999999999, 0.9999999999999999, 0.9999999999999999, 1.0, 0.9999999999999999, 1.0000000000000002, 1.0000000000000002, 1.0000000000000002, 1.0], [0.22926611032123598, 0.23837014907252307, 0.13092412951393517, 0.2382845030426087, 0.24614702032578475, 0.1978463929633495, 0.12725357603249246, 0.1624427513092035, 0.24098551217042014, 0.2000142057153307  …  0.24558359585579098, 0.1974334607894007, 0.18992976896497565, 0.2401150524522294, 0.17406079733874802, 0.2376788331987583, 0.2413887827490969, 0.20234069480827666, 0.24797693046000238, 0.24845659330706107]), GLMCopulaVCObs{Float64,Bernoulli{Float64}}([0.0, 1.0, 1.0, 1.0, 1.0, 1.0, 1.0, 1.0, 1.0, 1.0  …  1.0, 0.0, 1.0, 1.0, 1.0, 1.0, 1.0, 1.0, 1.0, 1.0], [1.0 0.9063154415086963; 1.0 0.6308958141445524; … ; 1.0 0.5700737454482223; 1.0 0.9754391815720524], [[1.0 1.0 … 1.0 1.0; 1.0 1.0 … 1.0 1.0; … ; 1.0 1.0 … 1.0 1.0; 1.0 1.0 … 1.0 1.0]], [3.60943368929886, 1.9740779551049117], [-1.1588456887840057 -1.0502797420707255; -0.2731223080602069 -0.1723117209046835; … ; -0.2877266176358533 -0.1640253905808194; -0.20333105435796117 -0.19833707725111216], [2.1989185947e-314], [2.210309527e-314], [-18.7553401410851 -9.303443319927341; -9.4476743193739 -6.150147248256716], [0.0], [-2.317691377568011, 0.5462446161204139, 0.5885265412061798, 0.5343810614325213, 0.4138463699570707, 0.5985441030006365, 0.6858049438723078, 0.5864257739007461, 0.48386509905999603, 0.643670062058101  …  0.4070888472789056, -1.2300769846928084, 0.672645701283787, 0.5342781313847166, 0.4843498527874105, 0.7574876974722694, 0.462511918317135, 0.4855008749875954, 0.5754532352717062, 0.4066621087159223], [50.0], [43.767601067709386], [100.0 56.16530420991891; 56.16530420991891 39.09939750895404], [9.356024911008884, 9.356024911008884, 9.356024911008884, 9.356024911008884, 9.356024911008884, 9.356024911008884, 9.356024911008884, 9.356024911008884, 9.356024911008884, 9.356024911008884  …  9.356024911008884, 9.356024911008884, 9.356024911008884, 9.356024911008884, 9.356024911008884, 9.356024911008884, 9.356024911008884, 9.356024911008884, 9.356024911008884, 9.356024911008882], [2.1989187844e-314, 2.4879702067e-314], [1.6811431887315234, 1.209376777386755, 1.0602665070863069, 1.2532921926476512, 1.7645209221737599, 1.0265101349498114, 0.7543240601332659, 1.0674183532233963, 1.4518982641316598, 0.8811380203166534  …  1.7974476387610208, 0.41415351321370064, 0.7930730695772693, 1.2536774606500778, 1.4498955940964844, 0.5554959653823982, 1.5421659060546697, 1.4451483780244523, 1.1051946268478055, 1.7995452761227126], [0.843055848811544, 0.7701886584102735, 0.7427414718589631, 0.777869235171928, 0.8537749700962576, 0.7362387535237237, 0.6801201593402374, 0.7441056480517904, 0.8102904067759608, 0.7070579913448504  …  0.8578379537425663, 0.6020833939822503, 0.6884907970363581, 0.777935797998003, 0.8099823652947061, 0.6354097544600601, 0.8237793636650752, 0.8092506414424834, 0.751232156342441, 0.8580935728466371], [0.13231268459619103, 0.17699808886645654, 0.19107657783974422, 0.17278868814496778, 0.12484327053339206, 0.19419125133355733, 0.21755672819924748, 0.19041243258921545, 0.1537198634628088, 0.20712698822023587  …  0.12195199886133296, 0.23957898067306466, 0.21447121943259848, 0.17275169219121325, 0.15391093320629937, 0.23166419839706623, 0.14516692366463899, 0.15436404076741259, 0.1868824036195273, 0.1217689930859302], [0.13231268459619105, 0.1769980888664565, 0.19107657783974422, 0.17278868814496778, 0.12484327053339202, 0.19419125133355727, 0.21755672819924748, 0.19041243258921547, 0.15371986346280878, 0.20712698822023584  …  0.121951998861333, 0.23957898067306466, 0.21447121943259848, 0.17275169219121322, 0.1539109332062993, 0.2316641983970662, 0.14516692366463899, 0.15436404076741256, 0.18688240361952735, 0.12176899308593019], Bernoulli{Float64}(p=0.5), [1.0000000000000002, 0.9999999999999997, 1.0, 1.0, 0.9999999999999997, 0.9999999999999997, 1.0, 1.0000000000000002, 0.9999999999999998, 0.9999999999999999  …  1.0000000000000004, 1.0, 1.0, 0.9999999999999999, 0.9999999999999997, 0.9999999999999999, 1.0, 0.9999999999999998, 1.0000000000000002, 0.9999999999999999], [0.13231268459619108, 0.17699808886645643, 0.19107657783974422, 0.17278868814496778, 0.12484327053339198, 0.19419125133355722, 0.21755672819924748, 0.1904124325892155, 0.15371986346280875, 0.2071269882202358  …  0.12195199886133304, 0.23957898067306466, 0.21447121943259848, 0.1727516921912132, 0.15391093320629926, 0.23166419839706617, 0.14516692366463899, 0.15436404076741253, 0.1868824036195274, 0.12176899308593017]), GLMCopulaVCObs{Float64,Bernoulli{Float64}}([1.0, 0.0, 1.0, 1.0, 0.0, 1.0, 1.0, 1.0, 1.0, 1.0  …  1.0, 1.0, 1.0, 1.0, 1.0, 0.0, 1.0, 1.0, 1.0, 1.0], [1.0 0.8335845191879703; 1.0 0.2681774059902964; … ; 1.0 0.8634840446062473; 1.0 0.358749234938734], [[1.0 1.0 … 1.0 1.0; 1.0 1.0 … 1.0 1.0; … ; 1.0 1.0 … 1.0 1.0; 1.0 1.0 … 1.0 1.0]], [1.9113840956298263, 0.5908497999484095], [-0.22959730345864535 -0.1913887578104294; -0.6709175276290384 -0.17992492219297854; … ; -0.2237925404878508 -0.19324128801315674; -0.34481212811688444 -0.12370108715952904], [2.198919227e-314], [0.0], [-18.882890546802493 -8.784057972554114; -8.82571770776751 -5.780028886563883], [2.1989187844e-314], [0.45919460691729075, -1.341835055258077, 0.6820694517965251, 0.4305958194250549, -1.9379624133978623, 0.4789182113647618, 0.5700081396659681, 0.853221700121653, 0.5749562318923472, 0.44778630768060174  …  0.7984820265737199, 0.5086529199312452, 0.4600219602945979, 0.4948908331403002, 0.5509175374984242, -1.6837866844766556, 0.7390662918472155, 0.9291871783870916, 0.4475850809757017, 0.689624256233769], [50.0], [11.155164567216291], [100.0 53.37539266849166; 53.37539266849166 37.456354833697176], [4.723381112554075, 4.723381112554075, 4.723381112554075, 4.723381112554075, 4.723381112554075, 4.723381112554075, 4.723381112554075, 4.723381112554075, 4.723381112554075, 4.723381112554075  …  4.723381112554075, 4.723381112554075, 4.723381112554075, 4.723381112554075, 4.723381112554075, 4.723381112554075, 4.723381112554075, 4.723381112554075, 4.723381112554075, 4.723381112554074], [2.198918816e-314, 2.198918911e-314], [1.556562357127686, 0.5880762427034458, 0.7652475816895591, 1.6851708056385337, 1.3232742374979019, 1.4724508897340318, 1.1242092762795355, 0.31747171780856254, 1.1069227190600688, 1.6068783042965846  …  0.4500856411352041, 1.3519787624157962, 1.5529621017352755, 1.4068361596925545, 1.1923402814836674, 1.0420904717411854, 0.6047353145142982, 0.14689015346270248, 1.6077772685066876, 0.7432167717966871], [0.8258595200732725, 0.6429236248057202, 0.6824919547486562, 0.8435880176013397, 0.7897259385252249, 0.8134296234035403, 0.7547686589826845, 0.578707967134219, 0.7515549661397843, 0.8329775288240076  …  0.6106595957035081, 0.7944529433585668, 0.825341139688156, 0.8032664433256511, 0.7671593603986108, 0.7392531625703731, 0.6467389228258575, 0.5366566512061683, 0.8331025606526988, 0.6776988747891398], [0.14381557317761653, 0.22957283747239374, 0.21669668645201443, 0.13194727416078147, 0.1660588805456776, 0.1517618711731149, 0.1850929304001646, 0.2438050559095987, 0.18672009901041195, 0.13912596529825721  …  0.23775445387873612, 0.16329746414747667, 0.14415314282641176, 0.15802946435260964, 0.1786258761514052, 0.19275792420007462, 0.22846768852790703, 0.2486562899223493, 0.1390426840866151, 0.2184231098986736], [0.14381557317761653, 0.22957283747239374, 0.21669668645201443, 0.13194727416078145, 0.16605888054567772, 0.1517618711731149, 0.18509293040016458, 0.2438050559095987, 0.18672009901041192, 0.13912596529825721  …  0.23775445387873612, 0.16329746414747667, 0.14415314282641178, 0.15802946435260962, 0.17862587615140513, 0.1927579242000746, 0.22846768852790703, 0.24865628992234934, 0.13904268408661508, 0.21842310989867358], Bernoulli{Float64}(p=0.5), [1.0, 1.0, 1.0, 0.9999999999999998, 1.0000000000000007, 1.0, 0.9999999999999999, 1.0, 0.9999999999999999, 1.0  …  1.0, 1.0, 1.0000000000000002, 0.9999999999999998, 0.9999999999999996, 0.9999999999999999, 1.0, 1.0000000000000002, 0.9999999999999998, 0.9999999999999999], [0.14381557317761653, 0.22957283747239374, 0.21669668645201443, 0.13194727416078142, 0.16605888054567783, 0.1517618711731149, 0.18509293040016456, 0.2438050559095987, 0.1867200990104119, 0.13912596529825721  …  0.23775445387873612, 0.16329746414747667, 0.1441531428264118, 0.1580294643526096, 0.17862587615140504, 0.19275792420007457, 0.22846768852790703, 0.24865628992234937, 0.13904268408661505, 0.21842310989867356]), GLMCopulaVCObs{Float64,Bernoulli{Float64}}([1.0, 1.0, 1.0, 1.0, 1.0, 0.0, 1.0, 1.0, 1.0, 1.0  …  1.0, 1.0, 1.0, 1.0, 1.0, 0.0, 1.0, 1.0, 1.0, 1.0], [1.0 0.945054746612265; 1.0 0.7193860407169732; … ; 1.0 0.6660803560893436; 1.0 0.8055893255721818], [[1.0 1.0 … 1.0 1.0; 1.0 1.0 … 1.0 1.0; … ; 1.0 1.0 … 1.0 1.0; 1.0 1.0 … 1.0 1.0]], [-0.09030778942355958, 0.7391840238817308], [-0.20869173624046977 -0.19722511591281078; -0.2531879843662941 -0.18213990163037921; … ; -0.2650148601289252 -0.1765211924036421; -0.2351687661254613 -0.18944944769865252], [2.4879105473e-314], [2.1989185947e-314], [-19.157668302334766 -8.518737530602301; -8.520847301280899 -5.407902998824415], [2.1989185947e-314], [0.41738347248093954, 0.5063759687325883, 0.8208388555241128, 0.9119090722887405, 0.6760999528037047, -1.8305665208563606, 0.5354018267220798, 0.8441456708505158, 0.6632522574473096, 0.6293189010462813  …  0.5376416403363298, 0.4808234324604208, 0.5046990718805826, 0.8108650323995722, 0.642834726639521, -1.8367350005312972, 0.7366840479138113, 0.43727376218737385, 0.5300297202578506, 0.4703375322509227], [50.0], [0.5685168958005447], [100.0 51.02755897559135; 51.02755897559135 35.02363346478304], [1.0663178661173682, 1.0663178661173682, 1.0663178661173682, 1.0663178661173682, 1.0663178661173682, 1.0663178661173682, 1.0663178661173682, 1.0663178661173682, 1.0663178661173682, 1.0663178661173682  …  1.0663178661173682, 1.0663178661173682, 1.0663178661173682, 1.0663178661173682, 1.0663178661173682, 1.0663178661173682, 1.0663178661173682, 1.0663178661173682, 1.0663178661173682, 1.066317866117364], [2.1989185947e-314, 2.1989191006e-314], [1.7474997629583027, 1.360951728775246, 0.3948569341691325, 0.18442999063221777, 0.782828709384371, 1.2092509863671217, 1.2494754720377041, 0.3388604069693412, 0.8211997647111828, 0.9262343077345376  …  1.2411260735800016, 1.4645103211003465, 1.3675858491805812, 0.4193073198503646, 0.8837352451177128, 1.2159790783511062, 0.6111923579273112, 1.6543916438696589, 1.2696443960999177, 1.5086093766033144], [0.8516371714279154, 0.795914335038876, 0.5974513585119642, 0.5459772473575578, 0.6862894451262839, 0.7701663928834859, 0.7772090496669155, 0.5839136756318782, 0.6944909574897193, 0.7163106840596183  …  0.7757599628499067, 0.8122215475265612, 0.796989831153963, 0.6033174857132522, 0.7075956572494856, 0.771355167928058, 0.6482127470405801, 0.8394837106325995, 0.7806818683113573, 0.8188550250867875], [0.12635129967017483, 0.16243470631849985, 0.24050323272417262, 0.24788609272542195, 0.21529624263454128, 0.17701012015632595, 0.17315514278276556, 0.24295849504194791, 0.2121732674547322, 0.20320968796166  …  0.1739564428890181, 0.1525177052601193, 0.16179704019114052, 0.23932549714589194, 0.2069040430911541, 0.17636637283873544, 0.22803298161468502, 0.13475081021512145, 0.17121768880124585, 0.14833147297690408], [0.12635129967017486, 0.1624347063184998, 0.24050323272417268, 0.24788609272542197, 0.21529624263454128, 0.17701012015632592, 0.17315514278276556, 0.2429584950419479, 0.21217326745473222, 0.20320968796166003  …  0.1739564428890181, 0.1525177052601193, 0.16179704019114055, 0.23932549714589194, 0.20690404309115412, 0.17636637283873538, 0.22803298161468502, 0.13475081021512145, 0.17121768880124583, 0.14833147297690408], Bernoulli{Float64}(p=0.5), [1.0000000000000002, 0.9999999999999997, 1.0000000000000002, 1.0000000000000002, 1.0, 0.9999999999999999, 1.0, 0.9999999999999999, 1.0000000000000002, 1.0000000000000002  …  1.0, 1.0, 1.0000000000000002, 1.0, 1.0000000000000002, 0.9999999999999997, 1.0, 1.0, 0.9999999999999999, 1.0], [0.1263512996701749, 0.16243470631849974, 0.24050323272417273, 0.247886092725422, 0.21529624263454128, 0.17701012015632592, 0.17315514278276556, 0.24295849504194786, 0.21217326745473228, 0.20320968796166008  …  0.1739564428890181, 0.1525177052601193, 0.16179704019114058, 0.2393254971458919, 0.20690404309115415, 0.17636637283873532, 0.22803298161468502, 0.13475081021512145, 0.1712176888012458, 0.14833147297690408]), GLMCopulaVCObs{Float64,Bernoulli{Float64}}([1.0, 1.0, 1.0, 1.0, 1.0, 1.0, 1.0, 1.0, 1.0, 1.0  …  1.0, 1.0, 0.0, 1.0, 1.0, 1.0, 1.0, 0.0, 0.0, 1.0], [1.0 0.4436689185962792; 1.0 0.9239451731818169; … ; 1.0 0.14604080828007016; 1.0 0.1535718046929897], [[1.0 1.0 … 1.0 1.0; 1.0 1.0 … 1.0 1.0; … ; 1.0 1.0 … 1.0 1.0; 1.0 1.0 … 1.0 1.0]], [1.7502731085406393, 0.2611823245069206], [-0.32062436299482855 -0.14225106440553648; -0.21249904965698582 -0.19633747123629527; … ; -0.6042828007251141 -0.08824994864764023; -0.4110537447197278 -0.06312626540242008], [2.198919227e-314], [2.1989345866e-314], [-19.32639421078429 -8.596118059101737; -8.63105036291652 -5.346923337515427], [2.1989197646e-314], [0.6412487259896571, 0.4249980993139717, 0.7933301420445367, 0.5649042582904055, 0.852936992589316, 0.5703473449243692, 0.4179879723830625, 0.5776566316213927, 0.6177748440789886, 0.6342070597143459  …  0.5831324119162222, 0.6504459684799762, -1.8880137027815536, 0.5291218830429201, 0.4531890936159511, 0.6674899971046734, 0.7466973349840837, -1.145695952981346, -1.208565601450228, 0.8221074894394558], [50.0], [9.498251121274901], [100.0 50.59732628729702; 50.59732628729702 33.78672647681805], [4.358497704777388, 4.358497704777388, 4.358497704777388, 4.358497704777388, 4.358497704777388, 4.358497704777388, 4.358497704777388, 4.358497704777388, 4.358497704777388, 4.358497704777388  …  4.358497704777388, 4.358497704777388, 4.358497704777388, 4.358497704777388, 4.358497704777388, 4.358497704777388, 4.358497704777388, 4.358497704777388, 4.358497704777388, 4.358497704777394], [2.210560821e-314, 2.1989211875e-314], [0.8886757385197998, 1.7113411645402805, 0.4630316472515086, 1.1421980330959431, 0.3181391997636608, 1.123019453376102, 1.7446052421491323, 1.0975512995476584, 0.9632624357560159, 0.9107595705105805  …  1.0786819935593688, 0.8601940920026389, 1.2710506510523674, 1.2730729418696651, 1.5828916307919803, 0.808461748861988, 0.5841907000105243, 0.2720245431132283, 0.3788684061122237, 0.39176825346724176], [0.7086168159063444, 0.847010158528117, 0.6137331202603907, 0.7580829719203052, 0.5788706940545132, 0.7545483644230211, 0.8512710725942386, 0.7498010117774973, 0.7237745234091892, 0.7131555692222957  …  0.7462444818328148, 0.7027012041314549, 0.7809225489953807, 0.7812683310484608, 0.8296136536543302, 0.6917816154779621, 0.6420311152249069, 0.567589859675845, 0.5936001472820525, 0.596708297750623], [0.20647902412109842, 0.1295839498782911, 0.2370647773558355, 0.183393179604783, 0.24377941361935937, 0.18520513016956486, 0.12660863355849314, 0.18759945451493867, 0.1999249626729902, 0.2045647033095191  …  0.18936365516688855, 0.20891222184365826, 0.17108252146593791, 0.17088812594921346, 0.1413548393246433, 0.21321981196466308, 0.22982716230796923, 0.2454316108689996, 0.2412390124287781, 0.24064750514617686], [0.20647902412109842, 0.12958394987829108, 0.23706477735583548, 0.18339317960478302, 0.24377941361935937, 0.18520513016956486, 0.12660863355849308, 0.18759945451493865, 0.19992496267299023, 0.20456470330951906  …  0.18936365516688855, 0.20891222184365826, 0.17108252146593786, 0.17088812594921346, 0.14135483932464324, 0.21321981196466308, 0.2298271623079692, 0.24543161086899962, 0.24123901242877813, 0.24064750514617683], Bernoulli{Float64}(p=0.5), [1.0, 0.9999999999999998, 0.9999999999999999, 1.0000000000000002, 1.0, 1.0, 0.9999999999999996, 0.9999999999999999, 1.0000000000000002, 0.9999999999999999  …  1.0, 1.0, 0.9999999999999997, 1.0, 0.9999999999999996, 1.0, 0.9999999999999999, 1.0000000000000002, 1.0000000000000002, 0.9999999999999999], [0.20647902412109842, 0.12958394987829105, 0.23706477735583545, 0.18339317960478305, 0.24377941361935937, 0.18520513016956486, 0.12660863355849303, 0.18759945451493862, 0.19992496267299026, 0.20456470330951904  …  0.18936365516688858, 0.20891222184365826, 0.1710825214659378, 0.17088812594921346, 0.14135483932464318, 0.21321981196466308, 0.22982716230796918, 0.24543161086899964, 0.24123901242877815, 0.2406475051461768]), GLMCopulaVCObs{Float64,Bernoulli{Float64}}([1.0, 1.0, 1.0, 1.0, 1.0, 0.0, 1.0, 1.0, 1.0, 1.0  …  1.0, 0.0, 1.0, 0.0, 1.0, 1.0, 1.0, 1.0, 1.0, 1.0], [1.0 0.9045770192354754; 1.0 0.5401677553739683; … ; 1.0 0.1764649238688467; 1.0 0.2873649576248365], [[1.0 1.0 … 1.0 1.0; 1.0 1.0 … 1.0 1.0; … ; 1.0 1.0 … 1.0 1.0; 1.0 1.0 … 1.0 1.0]], [-2.687391609533721, -2.3905709171704657], [-0.2160533517932519 -0.1954368969609734; -0.29519134622596904 -0.15945284689670164; … ; -0.4030727852902994 -0.07112820836985667; -0.3665506803974377 -0.10533382073976466], [2.1989185e-314], [2.5062886036e-314], [-19.83647700120178 -8.290827653348687; -8.440020377030914 -5.128331735840914], [2.198918563e-314], [0.43210670358650394, 0.590382692451938, 0.510702377387911, 0.8746187482208204, 0.8193308890662311, -1.4614207330094233, 0.6483916238714279, 0.8438244036759176, 0.8864095580882859, 0.470896362275784  …  0.5542465474328686, -1.3335790314077016, 0.4769033497602246, -1.1502049671307644, 0.7882213654633037, 0.9054496592845294, 0.868890880085856, 0.8908291278598572, 0.8061455705805988, 0.7331013607948754], [50.0], [37.687816172415026], [100.0 48.53586752085827; 48.53586752085827 32.10831809284367], [-8.681914094531805, -8.681914094531805, -8.681914094531805, -8.681914094531805, -8.681914094531805, -8.681914094531805, -8.681914094531805, -8.681914094531805, -8.681914094531805, -8.681914094531805  …  -8.681914094531805, -8.681914094531805, -8.681914094531805, -8.681914094531805, -8.681914094531805, -8.681914094531805, -8.681914094531805, -8.681914094531805, -8.681914094531805, -8.681914094531805], [2.1989189425e-314, 2.198936452e-314], [1.6781654443888703, 1.0539686421564913, 1.3439365803677594, 0.26793440779104594, 0.3985345215353069, 0.7588181347233482, 0.8665208147084574, 0.33962171709758526, 0.24115236001083107, 1.5062344936171648  …  1.1802913195294293, 0.5757326580625417, 1.4808828593439216, 0.27988031756258513, 0.4759526158727243, 0.19864719517786358, 0.2810754622454239, 0.23120529118606525, 0.43098188824499395, 0.6209426090686554], [0.8426614528666307, 0.7415362588910713, 0.79313656527737, 0.5665857349829492, 0.598335512297429, 0.6810970830663189, 0.7040212365709032, 0.5840986305702408, 0.5599976107055975, 0.818502488404932  …  0.7650001797474563, 0.6400849010506665, 0.814705894361541, 0.5695168819510075, 0.6167916895609237, 0.5494991331753329, 0.5698098680922928, 0.5575452067205577, 0.6061081098877784, 0.650432899922706], [0.13258312871932978, 0.19166023564090537, 0.1640709540973862, 0.24556633989678045, 0.24033012702120218, 0.2172038465048708, 0.20837533502807953, 0.24292742033621015, 0.24640028670961958, 0.14855616487986614  …  0.17977490473381588, 0.23037622049762496, 0.15096020005410263, 0.2451674031238097, 0.23635970124950484, 0.24754983581489065, 0.24512658231693668, 0.2466885491834883, 0.23874106901604314, 0.22736994262084512], [0.13258312871932978, 0.1916602356409054, 0.16407095409738617, 0.24556633989678048, 0.2403301270212022, 0.21720384650487082, 0.20837533502807953, 0.24292742033621015, 0.24640028670961955, 0.14855616487986617  …  0.17977490473381588, 0.23037622049762493, 0.15096020005410263, 0.24516740312380975, 0.2363597012495048, 0.24754983581489068, 0.24512658231693668, 0.24668854918348826, 0.23874106901604317, 0.2273699426208451], Bernoulli{Float64}(p=0.5), [1.0, 1.0000000000000002, 0.9999999999999998, 1.0000000000000002, 1.0000000000000002, 1.0000000000000002, 1.0, 1.0, 0.9999999999999999, 1.0000000000000002  …  1.0, 0.9999999999999999, 1.0, 1.0000000000000002, 0.9999999999999999, 1.0000000000000002, 1.0, 0.9999999999999999, 1.0000000000000002, 0.9999999999999999], [0.13258312871932978, 0.19166023564090542, 0.16407095409738615, 0.2455663398967805, 0.24033012702120224, 0.21720384650487085, 0.20837533502807953, 0.24292742033621015, 0.24640028670961953, 0.1485561648798662  …  0.17977490473381588, 0.2303762204976249, 0.15096020005410263, 0.2451674031238098, 0.23635970124950478, 0.2475498358148907, 0.24512658231693668, 0.24668854918348823, 0.2387410690160432, 0.22736994262084506]), GLMCopulaVCObs{Float64,Bernoulli{Float64}}([0.0, 1.0, 0.0, 0.0, 1.0, 1.0, 0.0, 1.0, 1.0, 1.0  …  0.0, 1.0, 0.0, 0.0, 1.0, 0.0, 0.0, 1.0, 1.0, 1.0], [1.0 0.941598476073878; 1.0 0.6560863837283644; … ; 1.0 0.6782831369408902; 1.0 0.4450729169022576], [[1.0 1.0 … 1.0 1.0; 1.0 1.0 … 1.0 1.0; … ; 1.0 1.0 … 1.0 1.0; 1.0 1.0 … 1.0 1.0]], [-8.59503239362707, -4.611882107741562], [-1.194398339722836 -1.1246436565081925; -0.26729294798238895 -0.17536726363785937; … ; -0.2622595928921717 -0.17788625935974303; -0.32023905842959327 -0.14252973184129158], [2.1989356933e-314], [2.1989199543e-314], [-20.32052397707749 -8.87794844601101; -9.61653126150032 -6.040983109258291], [2.1989364206e-314], [-2.388796679445671, 0.5345858959647782, -1.256694128610099, -1.7829005868409615, 0.46522933744825046, 0.6325994402876753, -2.2199349057227553, 0.7320863184265526, 0.8214616313578211, 0.4509997567444888  …  -1.1362520446956428, 0.9192614632641465, -1.1944155146845508, -1.3634609308055248, 0.9034983473762682, -1.1752413254987184, -1.2818239968961236, 0.47467528479657645, 0.524519185784343, 0.6404781168591865], [50.0], [270.27569447016475], [100.0 52.97932322295815; 52.97932322295815 36.172368719779705], [-23.249761051252328, -23.249761051252328, -23.249761051252328, -23.249761051252328, -23.249761051252328, -23.249761051252328, -23.249761051252328, -23.249761051252328, -23.249761051252328, -23.249761051252328  …  -23.249761051252328, -23.249761051252328, -23.249761051252328, -23.249761051252328, -23.249761051252328, -23.249761051252328, -23.249761051252328, -23.249761051252328, -23.249761051252328, -23.249761051252335], [2.1989206184e-314, 2.1989369265e-314], [1.7415795155012264, 1.2525257160663257, 0.45696913111684023, 1.156483162416424, 1.5304495923277979, 0.9158357057835305, 1.5949557474155815, 0.6237137012505034, 0.3933400963710938, 1.5925769576976176  …  0.2554703320400985, 0.16836937728566229, 0.3553139133600804, 0.6200525385700159, 0.20296199617362753, 0.3229470198220067, 0.49656812232218017, 1.490248639341169, 1.29054654525267, 0.8910806478891303], [0.8508875821775144, 0.777736768482642, 0.6122949239785719, 0.7606930999354254, 0.8220720854136606, 0.7141928427643497, 0.8313122000547402, 0.65106270004943, 0.5970865002553902, 0.830978354123263  …  0.5635224748873948, 0.5419931883864306, 0.587905593188617, 0.65023049755702, 0.5505670317160025, 0.5800422950857679, 0.6216524889117119, 0.8161155890515798, 0.7842396832652735, 0.7091131300037835], [0.1268779046736181, 0.17286228743281934, 0.23738985004864677, 0.1820391076460583, 0.1462695717972957, 0.20412142610852657, 0.14023222609488784, 0.22718006065377594, 0.2405742114681601, 0.1404533291018559  …  0.2459648951841803, 0.24823657212914174, 0.24227260668615738, 0.22743079760377022, 0.2474429753034328, 0.24359323099740285, 0.2352006719415858, 0.15007093435857274, 0.169207802457257, 0.20627169886002072], [0.12687790467361815, 0.17286228743281926, 0.23738985004864677, 0.18203910764605824, 0.1462695717972957, 0.20412142610852654, 0.1402322260948878, 0.22718006065377588, 0.24057421146816013, 0.14045332910185584  …  0.2459648951841803, 0.24823657212914177, 0.24227260668615738, 0.22743079760377025, 0.2474429753034328, 0.24359323099740285, 0.23520067194158578, 0.15007093435857274, 0.1692078024572571, 0.20627169886002075], Bernoulli{Float64}(p=0.5), [1.0000000000000004, 0.9999999999999996, 1.0, 0.9999999999999997, 1.0, 0.9999999999999999, 0.9999999999999998, 0.9999999999999998, 1.0000000000000002, 0.9999999999999996  …  1.0, 1.0000000000000002, 1.0, 1.0000000000000002, 1.0, 1.0, 0.9999999999999999, 1.0, 1.0000000000000007, 1.0000000000000002], [0.1268779046736182, 0.17286228743281917, 0.23738985004864677, 0.1820391076460582, 0.1462695717972957, 0.20412142610852652, 0.14023222609488778, 0.22718006065377583, 0.24057421146816016, 0.1404533291018558  …  0.2459648951841803, 0.2482365721291418, 0.24227260668615738, 0.22743079760377027, 0.2474429753034328, 0.24359323099740285, 0.23520067194158575, 0.15007093435857274, 0.16920780245725722, 0.20627169886002078]), GLMCopulaVCObs{Float64,Bernoulli{Float64}}([0.0, 1.0, 1.0, 0.0, 1.0, 0.0, 1.0, 0.0, 1.0, 1.0  …  1.0, 1.0, 0.0, 0.0, 1.0, 1.0, 1.0, 1.0, 1.0, 1.0], [1.0 0.037589749645796866; 1.0 0.7487247425366441; … ; 1.0 0.4990998506448563; 1.0 0.12787095986330188], [[1.0 1.0 … 1.0 1.0; 1.0 1.0 … 1.0 1.0; … ; 1.0 1.0 … 1.0 1.0; 1.0 1.0 … 1.0 1.0]], [-0.6199231194458545, 1.2054780637182738], [-0.550683022250242 -0.020700036940577385; -0.24690535766442706 -0.18486415034821618; … ; -0.30575875056663726 -0.1526041467411665; -0.42020196568915724 -0.053731628689118786], [2.198937053e-314], [2.198937464e-314], [-19.32155203587407 -8.392419578033381; -8.392627911516865 -5.247958284217898], [2.198921377e-314], [-1.101366044500484, 0.4938107153288541, 0.6378394849739505, -2.3633711128267247, 0.7207740990892881, -1.0748754507822769, 0.5746465053297274, -1.5105159174934655, 0.41953415334733674, 0.5468694361532608  …  0.42695650715944766, 0.7887818950863618, -1.0780258084399645, -2.0957948130652717, 0.4538123324201501, 0.46329386777236514, 0.4695006610270408, 0.5461660467586635, 0.6115175011332746, 0.8404039313783146], [50.0], [0.07125604149026471], [100.0 49.85428806082757; 49.85428806082757 33.76434258022087], [-0.3775077257229711, -0.3775077257229711, -0.3775077257229711, -0.3775077257229711, -0.3775077257229711, -0.3775077257229711, -0.3775077257229711, -0.3775077257229711, -0.3775077257229711, -0.3775077257229711  …  -0.3775077257229711, -0.3775077257229711, -0.3775077257229711, -0.3775077257229711, -0.3775077257229711, -0.3775077257229711, -0.3775077257229711, -0.3775077257229711, -0.3775077257229711, -0.37750772572297076], [2.198921978e-314, 2.1989382545e-314], [0.1931025359450019, 1.4112060051441577, 0.8993372364831611, 1.7201780748588449, 0.6548590137891113, 0.14440959025990235, 1.108000401150013, 0.8249025193721947, 1.7372206839465356, 1.2070903916263866  …  1.702146255421418, 0.4745308568676909, 0.15026282647830294, 1.4798657342737722, 1.580143062225718, 1.5387874452460635, 1.512171144792983, 1.2096644690564016, 0.9836234085181994, 0.3477452640751318], [0.5481261803951164, 0.8039560926220314, 0.7108132854791152, 0.848151772087485, 0.6581045934435619, 0.5360397877886888, 0.7517561364903166, 0.6952760167855168, 0.8503336964940653, 0.7697837225253084  …  0.8458148403736053, 0.6164555872741991, 0.5374951831020444, 0.8145522998058243, 0.8292247781231875, 0.8232883863014684, 0.8193827475229923, 0.7702395753278083, 0.727826587853778, 0.5860707047563745], [0.2476838707605767, 0.1576106937579471, 0.2055577586655011, 0.12879034359234387, 0.225002937532046, 0.24870113369614627, 0.18661884773946907, 0.2118672772683826, 0.1272663011008041, 0.17721674306038743  …  0.13041209617737787, 0.23643809619262138, 0.24859411124414416, 0.1510568506868668, 0.14161104546973796, 0.14548461928259254, 0.14799466058466454, 0.17697057192664584, 0.1980950458669048, 0.24259183378274102], [0.2476838707605767, 0.1576106937579471, 0.20555775866550108, 0.1287903435923439, 0.22500293753204603, 0.2487011336961463, 0.1866188477394691, 0.21186727726838261, 0.1272663011008041, 0.17721674306038734  …  0.13041209617737784, 0.23643809619262138, 0.24859411124414416, 0.15105685068686678, 0.14161104546973796, 0.14548461928259251, 0.14799466058466454, 0.1769705719266458, 0.19809504586690477, 0.242591833782741], Bernoulli{Float64}(p=0.5), [1.0, 1.0, 0.9999999999999999, 1.0000000000000002, 1.0000000000000002, 1.0000000000000002, 1.0000000000000002, 1.0000000000000002, 1.0, 0.9999999999999996  …  0.9999999999999998, 1.0, 1.0, 0.9999999999999998, 1.0, 0.9999999999999998, 1.0, 0.9999999999999999, 0.9999999999999999, 0.9999999999999999], [0.2476838707605767, 0.1576106937579471, 0.20555775866550105, 0.12879034359234393, 0.22500293753204606, 0.24870113369614633, 0.18661884773946913, 0.21186727726838264, 0.1272663011008041, 0.17721674306038726  …  0.1304120961773778, 0.23643809619262138, 0.24859411124414416, 0.15105685068686675, 0.14161104546973796, 0.1454846192825925, 0.14799466058466454, 0.17697057192664578, 0.19809504586690474, 0.24259183378274096]), GLMCopulaVCObs{Float64,Bernoulli{Float64}}([1.0, 0.0, 1.0, 1.0, 1.0, 1.0, 0.0, 1.0, 1.0, 0.0  …  0.0, 1.0, 1.0, 1.0, 0.0, 1.0, 1.0, 0.0, 1.0, 1.0], [1.0 0.9960820578809302; 1.0 0.5429568896955266; … ; 1.0 0.5364609684263; 1.0 0.1112859163173312], [[1.0 1.0 … 1.0 1.0; 1.0 1.0 … 1.0 1.0; … ; 1.0 1.0 … 1.0 1.0; 1.0 1.0 … 1.0 1.0]], [6.141771928269927, 4.221549459186488], [-0.19976783434961315 -0.19898515553737944; -0.8489337703489499 -0.46093443950616225; … ; -0.2961299729968459 -0.15886217209394204; -0.4262132171904597 -0.047431528421598], [2.1989185947e-314], [2.198918816e-314], [-19.44722676904802 -8.96665931881038; -9.26173311685876 -5.874154395916416], [2.1989185947e-314], [0.39953566869922635, -1.6978675406978998, 0.7378847662495965, 0.7008461780054173, 0.44173172604551, 0.5355047975230625, -1.617219382585524, 0.4280800132409059, 0.8618969374310724, -1.524779550272607  …  -1.1022726842155346, 0.8027455833808765, 0.4220982748288997, 0.5568583759955567, -1.7548262317736458, 0.7077239630019119, 0.5176772886482061, -1.2481565533601404, 0.5922599459936918, 0.8524264343809193], [50.0], [155.8086941285745], [100.0 53.90354977958781; 53.90354977958781 37.23449819478767], [17.652687847949643, 17.652687847949643, 17.652687847949643, 17.652687847949643, 17.652687847949643, 17.652687847949643, 17.652687847949643, 17.652687847949643, 17.652687847949643, 17.652687847949643  …  17.652687847949643, 17.652687847949643, 17.652687847949643, 17.652687847949643, 17.652687847949643, 17.652687847949643, 17.652687847949643, 17.652687847949643, 17.652687847949643, 17.65268784794964], [2.198934871e-314, 2.1989354087e-314], [1.834904468818146, 1.0587461516689138, 0.607935219733055, 0.710933696516503, 1.634105071648291, 1.2490908603489945, 0.9614164879738203, 1.696890308096348, 0.29723915522298905, 0.8436996848233713  …  0.19474824992596013, 0.4394348957778105, 1.7250342266334031, 1.1708886670228336, 1.1247396775626108, 0.6914022881562498, 1.3168064515044784, 0.44333541095483875, 1.0476192850222263, 0.319336735058663], [0.8623449526536431, 0.7424508603535476, 0.647469654035864, 0.6706074397727521, 0.8367312166684946, 0.7771424450746244, 0.7234053199634626, 0.8451281547371231, 0.5737674670483293, 0.6992438397879811  …  0.5485337648306209, 0.6081243694878012, 0.8487761407098706, 0.7633056089035783, 0.7548668192437966, 0.6662788001000176, 0.7886498925879281, 0.6090535047977981, 0.7403174745734961, 0.5791626009009022], [0.11870613528642915, 0.19121758031382458, 0.2282527011385426, 0.22089310149418678, 0.13661208772095534, 0.17319206513805882, 0.2000900630120229, 0.1308865568077484, 0.24455836080527366, 0.2103018923065413  …  0.247644473671366, 0.23830912072286545, 0.12835520367152853, 0.18067015631991584, 0.1850429044485499, 0.22235136063729838, 0.1666812395089776, 0.23810733309131663, 0.19224751141461707, 0.24373328261860447], [0.11870613528642913, 0.19121758031382458, 0.22825270113854257, 0.2208931014941868, 0.13661208772095537, 0.17319206513805882, 0.20009006301202292, 0.13088655680774838, 0.24455836080527368, 0.2103018923065413  …  0.24764447367136597, 0.23830912072286545, 0.12835520367152853, 0.1806701563199159, 0.1850429044485499, 0.2223513606372984, 0.1666812395089776, 0.23810733309131663, 0.19224751141461707, 0.24373328261860452], Bernoulli{Float64}(p=0.5), [0.9999999999999999, 1.0, 0.9999999999999999, 1.0000000000000002, 1.0000000000000002, 1.0, 1.0000000000000002, 0.9999999999999998, 1.0000000000000002, 1.0  …  0.9999999999999999, 1.0, 1.0, 1.0000000000000002, 1.0, 1.0000000000000002, 1.0, 1.0, 1.0, 1.0000000000000002], [0.11870613528642912, 0.19121758031382458, 0.2282527011385425, 0.22089310149418684, 0.1366120877209554, 0.17319206513805882, 0.20009006301202295, 0.13088655680774836, 0.2445583608052737, 0.2103018923065413  …  0.24764447367136594, 0.23830912072286545, 0.12835520367152853, 0.18067015631991593, 0.1850429044485499, 0.22235136063729843, 0.1666812395089776, 0.23810733309131663, 0.19224751141461707, 0.24373328261860458])], 720.0, 1000, 2, 1, [0.12871503581125307, 1.71290047793517], [1.0], [0.0014486815656046881], [9.708623238680048e-9, 4.140439102684468e-10], [-0.04925875661503706], [0.0], [1000.0 508.21481489985433; 508.21481489985433 343.53106754769453], [-195.23817517096856 -85.68614636629864; -87.27377737051819 -54.486773102648606], [1.0], [50.0; 50.0; … ; 50.0; 50.0], [39.57270195648326; 9.712118816927457; … ; 0.07125604149026471; 155.8086941285745], [0.9324582436444921, 0.9324582436444921, 0.9324582436444921, 0.9324582436444921, 0.9324582436444921, 0.9324582436444921, 0.9324582436444921, 0.9324582436444921, 0.9324582436444921, 0.9324582436444921], [-6.310873048101517e-11], [0.0014486816287134186], Bernoulli{Float64}(p=0.5))"
      ]
     },
     "execution_count": 46,
     "metadata": {},
     "output_type": "execute_result"
    }
   ],
   "source": [
    "gcm = GLMCopulaVCModel(gcs);\n",
    "\n",
    "initialize_model!(gcm)\n",
    "#gcm.β .= [0.5, 2]\n",
    "@show gcm.β\n",
    "fill!(gcm.Σ, 1.0)\n",
    "update_Σ!(gcm)\n",
    "GeneralizedCopula.loglikelihood3!(gcm, true, true)\n",
    "@time fit2!(gcm, IpoptSolver(print_level = 5, max_iter = 100, derivative_test = \"first-order\", hessian_approximation = \"limited-memory\"))"
   ]
  },
  {
   "cell_type": "code",
   "execution_count": 30,
   "metadata": {},
   "outputs": [
    {
     "name": "stdout",
     "output_type": "stream",
     "text": [
      "loglikelihood3!(gcm, true, true) = -589.5715418459318\n",
      "gcm.β = [0.030901807865707533, 1.4217389732846137]\n",
      "gcm.∇β = [-1.5974777056726452e-9, -7.889777720038182e-10]\n"
     ]
    },
    {
     "data": {
      "text/plain": [
       "2-element Array{Float64,1}:\n",
       " -1.5974777056726452e-9\n",
       " -7.889777720038182e-10"
      ]
     },
     "execution_count": 30,
     "metadata": {},
     "output_type": "execute_result"
    }
   ],
   "source": [
    "@show loglikelihood3!(gcm, true, true)\n",
    "@show gcm.β\n",
    "@show gcm.∇β"
   ]
  },
  {
   "cell_type": "code",
   "execution_count": 45,
   "metadata": {},
   "outputs": [
    {
     "name": "stdout",
     "output_type": "stream",
     "text": [
      "1 0.0 -641.333341152059 39\n",
      "2 -641.333341152059 -572.8863440551082 9\n",
      "3 -572.8863440551082 -569.0832094974016 9\n",
      "4 -569.0832094974016 -569.080574334758 9\n",
      "5 -569.080574334758 -569.0805743267674 9\n",
      "gcm.β = [0.12924041019880786, 1.7101020114656673]\n",
      "This is Ipopt version 3.13.2, running with linear solver mumps.\n",
      "NOTE: Other linear solvers might be more efficient (see Ipopt documentation).\n",
      "\n",
      "Number of nonzeros in equality constraint Jacobian...:        0\n",
      "Number of nonzeros in inequality constraint Jacobian.:        0\n",
      "Number of nonzeros in Lagrangian Hessian.............:        3\n",
      "\n",
      "Total number of variables............................:        2\n",
      "                     variables with only lower bounds:        0\n",
      "                variables with lower and upper bounds:        0\n",
      "                     variables with only upper bounds:        0\n",
      "Total number of equality constraints.................:        0\n",
      "Total number of inequality constraints...............:        0\n",
      "        inequality constraints with only lower bounds:        0\n",
      "   inequality constraints with lower and upper bounds:        0\n",
      "        inequality constraints with only upper bounds:        0\n",
      "\n",
      "iter    objective    inf_pr   inf_du lg(mu)  ||d||  lg(rg) alpha_du alpha_pr  ls\n",
      "   0  5.6903118e+02 0.00e+00 1.20e-01  -1.0 0.00e+00    -  0.00e+00 0.00e+00   0\n",
      "   1  5.6903108e+02 0.00e+00 1.83e-02  -2.5 2.75e-03    -  1.00e+00 1.00e+00f  1\n",
      "   2  5.6903108e+02 0.00e+00 2.52e-03  -3.8 7.32e-05    -  1.00e+00 1.00e+00f  1\n",
      "   3  5.6903108e+02 0.00e+00 3.72e-04  -3.8 1.12e-05    -  1.00e+00 1.00e+00f  1\n",
      "   4  5.6903108e+02 0.00e+00 7.24e-05  -5.7 1.92e-06    -  1.00e+00 1.00e+00f  1\n",
      "   5  5.6903108e+02 0.00e+00 2.53e-05  -5.7 5.40e-07    -  1.00e+00 1.00e+00f  1\n",
      "   6  5.6903108e+02 0.00e+00 1.42e-05  -5.7 3.11e-07    -  1.00e+00 1.00e+00f  1\n",
      "   7  5.6903108e+02 0.00e+00 9.37e-06  -8.6 2.22e-07    -  1.00e+00 1.00e+00f  1\n",
      "   8  5.6903108e+02 0.00e+00 6.45e-06  -8.6 1.55e-07    -  1.00e+00 1.00e+00f  1\n",
      "   9  5.6903108e+02 0.00e+00 4.47e-06  -8.6 1.08e-07    -  1.00e+00 1.00e+00f  1\n",
      "iter    objective    inf_pr   inf_du lg(mu)  ||d||  lg(rg) alpha_du alpha_pr  ls\n",
      "  10  5.6903108e+02 0.00e+00 3.10e-06  -8.6 7.51e-08    -  1.00e+00 1.00e+00f  1\n",
      "  11  5.6903108e+02 0.00e+00 2.16e-06  -8.6 5.21e-08    -  1.00e+00 1.00e+00f  1\n",
      "  12  5.6903108e+02 0.00e+00 1.50e-06  -8.6 3.62e-08    -  1.00e+00 1.00e+00f  1\n",
      "  13  5.6903108e+02 0.00e+00 1.04e-06  -8.6 2.52e-08    -  1.00e+00 1.00e+00f  1\n",
      "  14  5.6903108e+02 0.00e+00 7.23e-07  -8.6 1.75e-08    -  1.00e+00 1.00e+00f  1\n",
      "  15  5.6903108e+02 0.00e+00 5.02e-07  -8.6 1.22e-08    -  1.00e+00 1.00e+00f  1\n",
      "  16  5.6903108e+02 0.00e+00 3.49e-07  -8.6 8.44e-09    -  1.00e+00 1.00e+00f  1\n",
      "  17  5.6903108e+02 0.00e+00 2.42e-07  -8.6 5.87e-09    -  1.00e+00 1.00e+00f  1\n",
      "  18  5.6903108e+02 0.00e+00 1.68e-07  -8.6 4.08e-09    -  1.00e+00 1.00e+00f  1\n",
      "  19  5.6903108e+02 0.00e+00 1.17e-07  -8.6 2.83e-09    -  1.00e+00 1.00e+00f  1\n",
      "iter    objective    inf_pr   inf_du lg(mu)  ||d||  lg(rg) alpha_du alpha_pr  ls\n",
      "  20  5.6903108e+02 0.00e+00 8.13e-08  -8.6 1.97e-09    -  1.00e+00 1.00e+00f  1\n",
      "  21  5.6903108e+02 0.00e+00 5.65e-08  -8.6 1.37e-09    -  1.00e+00 1.00e+00f  1\n",
      "  22  5.6903108e+02 0.00e+00 3.92e-08  -8.6 9.50e-10    -  1.00e+00 1.00e+00f  1\n",
      "  23  5.6903108e+02 0.00e+00 2.73e-08  -8.6 6.60e-10    -  1.00e+00 1.00e+00f  1\n",
      "  24  5.6903108e+02 0.00e+00 1.89e-08  -8.6 4.59e-10    -  1.00e+00 1.00e+00f  1\n",
      "  25  5.6903108e+02 0.00e+00 1.32e-08  -9.0 3.19e-10    -  1.00e+00 1.00e+00f  1\n",
      "  26  5.6903108e+02 0.00e+00 9.14e-09  -9.0 2.21e-10    -  1.00e+00 1.00e+00f  1\n",
      "\n",
      "Number of Iterations....: 26\n",
      "\n",
      "                                   (scaled)                 (unscaled)\n",
      "Objective...............:   5.6903107822577385e+02    5.6903107822577385e+02\n",
      "Dual infeasibility......:   9.1426102244440699e-09    9.1426102244440699e-09\n",
      "Constraint violation....:   0.0000000000000000e+00    0.0000000000000000e+00\n",
      "Complementarity.........:   0.0000000000000000e+00    0.0000000000000000e+00\n",
      "Overall NLP error.......:   9.1426102244440699e-09    9.1426102244440699e-09\n",
      "\n",
      "\n",
      "Number of objective function evaluations             = 27\n",
      "Number of objective gradient evaluations             = 27\n",
      "Number of equality constraint evaluations            = 0\n",
      "Number of inequality constraint evaluations          = 0\n",
      "Number of equality constraint Jacobian evaluations   = 0\n",
      "Number of inequality constraint Jacobian evaluations = 0\n",
      "Number of Lagrangian Hessian evaluations             = 26\n",
      "Total CPU secs in IPOPT (w/o function evaluations)   =      0.114\n",
      "Total CPU secs in NLP function evaluations           =      0.519\n",
      "\n",
      "EXIT: Optimal Solution Found.\n",
      "  0.252360 seconds (669.29 k allocations: 62.575 MiB, 19.55% gc time)\n"
     ]
    },
    {
     "data": {
      "text/plain": [
       "GLMCopulaVCModel{Float64,Bernoulli{Float64}}(GLMCopulaVCObs{Float64,Bernoulli{Float64}}[GLMCopulaVCObs{Float64,Bernoulli{Float64}}([0.0, 0.0, 1.0, 1.0, 0.0, 0.0, 1.0, 1.0, 0.0, 1.0  …  1.0, 0.0, 1.0, 1.0, 0.0, 1.0, 1.0, 0.0, 0.0, 1.0], [1.0 0.09515880533766441; 1.0 0.23881672289989253; … ; 1.0 0.2707677310894794; 1.0 0.9916847794622285], [[1.0 1.0 … 1.0 1.0; 1.0 1.0 … 1.0 1.0; … ; 1.0 1.0 … 1.0 1.0; 1.0 1.0 … 1.0 1.0]], [-2.9072210496111675, -3.0571116187894845], [-0.5785149551785187 -0.05505079200476031; -0.6542570099006798 -0.15624751503876289; … ; -0.6724076000600465 -0.18206628023558086; -0.20052158848729773 -0.1988542072564416], [1.5e-323], [2.2104556125e-314], [-20.204497944536577 -8.037777246526328; -8.18783589645397 -4.775935948564466], [4.243991583e-314], [-1.1570299103570372, -1.3085140198013594, 0.8468374293427882, 0.4045409987681225, -1.8019923483323046, -1.480548664888782, 0.8561289384236779, 0.40537510671430765, -1.3671189646077688, 0.9235009662437592  …  0.8954110904695342, -1.610514561596906, 0.6470754887289041, 0.7196751665752387, -1.2372603188603382, 0.9331590283788814, 0.41365044756278346, -1.4821114918715206, -1.344815200120093, 0.40104317697459535], [50.0], [39.57270196898397], [100.0 46.2177621584263; 46.2177621584263 29.613040936012897], [-8.896370267584862, -8.896370267584862, -8.896370267584862, -8.896370267584862, -8.896370267584862, -8.896370267584862, -8.896370267584862, -8.896370267584862, -8.896370267584862, -8.896370267584862  …  -8.896370267584862, -8.896370267584862, -8.896370267584862, -8.896370267584862, -8.896370267584862, -8.896370267584862, -8.896370267584862, -8.896370267584862, -8.896370267584862, -8.89637026758486], [2.5062682323e-314, 2.5062681927e-314], [0.2917125990513036, 0.5377843146750235, 0.33249307954770346, 1.8100043819238503, 1.1777858259372858, 0.7848254771919361, 0.3106685703683598, 1.8058849022126413, 0.6254111600067553, 0.15916686611772857  …  0.22094469440314324, 0.9531074628207987, 0.8705846325624029, 0.6579106526172148, 0.42579902994592056, 0.13835928847247414, 1.7654679827245685, 0.786935509453494, 0.5925132118672962, 1.8273723684371228], [0.5724153537419076, 0.6312968424940602, 0.5823658575652438, 0.8593624038601563, 0.7645494558504529, 0.686719181737848, 0.5770484431809566, 0.85886379161775, 0.6514482298814599, 0.5397079215617726  …  0.555012561810554, 0.7217396842930716, 0.7048673333101403, 0.6587908894887546, 0.604870070676884, 0.5345347472896161, 0.8538931646233383, 0.6871729465827836, 0.6439415851991618, 0.8614484034868217], [0.2447560165424344, 0.23276113915108995, 0.24321586550754196, 0.12085866269184994, 0.1800135854092293, 0.2151359471711485, 0.2440635374033909, 0.12121677906573214, 0.22706343366577247, 0.2484232809652441  …  0.24697361804303997, 0.20083151240960895, 0.2080293757423919, 0.22478545341537012, 0.23900226827622534, 0.24880735122964234, 0.12475962803287877, 0.21496628806751844, 0.22928082005035244, 0.11935505161682772], [0.24475601654243442, 0.23276113915109, 0.24321586550754196, 0.12085866269184989, 0.18001358540922932, 0.21513594717114848, 0.2440635374033909, 0.12121677906573212, 0.22706343366577247, 0.24842328096524413  …  0.24697361804303997, 0.20083151240960895, 0.20802937574239183, 0.2247854534153701, 0.23900226827622534, 0.24880735122964234, 0.12475962803287874, 0.2149662880675184, 0.22928082005035244, 0.11935505161682777], Bernoulli{Float64}(p=0.5), [1.0000000000000002, 1.0000000000000002, 1.0, 0.9999999999999996, 1.0000000000000002, 0.9999999999999999, 1.0, 0.9999999999999999, 1.0, 1.0000000000000002  …  1.0, 1.0, 0.9999999999999998, 0.9999999999999999, 1.0, 1.0, 0.9999999999999998, 0.9999999999999999, 1.0, 1.0000000000000004], [0.24475601654243445, 0.23276113915109006, 0.24321586550754196, 0.12085866269184983, 0.18001358540922935, 0.21513594717114845, 0.2440635374033909, 0.12121677906573211, 0.22706343366577247, 0.24842328096524416  …  0.24697361804303997, 0.20083151240960895, 0.20802937574239178, 0.2247854534153701, 0.23900226827622534, 0.24880735122964234, 0.12475962803287871, 0.21496628806751839, 0.22928082005035244, 0.11935505161682783]), GLMCopulaVCObs{Float64,Bernoulli{Float64}}([0.0, 1.0, 1.0, 1.0, 0.0, 0.0, 1.0, 1.0, 1.0, 1.0  …  0.0, 1.0, 1.0, 1.0, 1.0, 1.0, 0.0, 0.0, 1.0, 1.0], [1.0 0.2708978155840298; 1.0 0.1807076550615192; … ; 1.0 0.030175028506069568; 1.0 0.016786971871112], [[1.0 1.0 … 1.0 1.0; 1.0 1.0 … 1.0 1.0; … ; 1.0 1.0 … 1.0 1.0; 1.0 1.0 … 1.0 1.0]], [1.4870131284410915, 1.0672430083823887], [-0.6724825177667832 -0.1821740450814701; -0.40161080227681767 -0.07257414632681916; … ; -0.4568737845234386 -0.013786179471670646; -0.46214254127295656 -0.007757973840793339], [NaN], [2.303857063e-314], [-19.96861841657853 -7.9074596447633; -7.9380295917726515 -4.725747279613541], [2.2347372315e-314], [-1.3449650355335665, 0.8032216045536353, 0.42816903150935315, 0.8025539624148611, -1.1329087969798253, -1.6375288520778901, 0.4195042192007499, 0.5063971573314169, 0.8251233904390537, 0.6180830719749613  …  -1.143053423042069, 0.6092838756350096, 0.5849065031738105, 0.8174783071123848, 0.5379341290305499, 0.797909267058802, -1.2065551964021477, -1.5968729417325764, 0.913747569046877, 0.9242850825459132], [50.0], [9.712118810158243], [100.0 45.558442015897285; 45.558442015897285 29.272386739797465], [4.4072936843732675, 4.4072936843732675, 4.4072936843732675, 4.4072936843732675, 4.4072936843732675, 4.4072936843732675, 4.4072936843732675, 4.4072936843732675, 4.4072936843732675, 4.4072936843732675  …  4.4072936843732675, 4.4072936843732675, 4.4072936843732675, 4.4072936843732675, 4.4072936843732675, 4.4072936843732675, 4.4072936843732675, 4.4072936843732675, 4.4072936843732675, 4.407293684373265], [2.3038571576e-314, 2.3083747753e-314], [0.5927360336601585, 0.4382492646135484, 1.6964744558659073, 0.4399123667082111, 0.2495769637543095, 0.9863766159231957, 1.737363390871887, 1.3608680433049805, 0.38444467932502213, 0.9622648197732742  …  0.2674062460796423, 0.9909419716626624, 1.072606536315901, 0.4030618244102956, 1.2400383261250647, 0.4515207768485565, 0.3755387084602887, 0.9360946109490229, 0.180401856671004, 0.1574694480649521], [0.6439926723238092, 0.6078417865747547, 0.8450737174583602, 0.6082381492892104, 0.5620723745102262, 0.7283716423691098, 0.8503518573686117, 0.795900741277466, 0.5949446566877715, 0.7235750305526298  …  0.5664560316862111, 0.7292739392348592, 0.7450922908536366, 0.5994230735383984, 0.7755706854154181, 0.6110007513732675, 0.5927966446313857, 0.7183101124407683, 0.544978545357219, 0.5392862150777703], [0.2292661103170481, 0.23837014906836504, 0.13092412951946777, 0.23828450303844662, 0.24614702032266222, 0.19784639296163542, 0.12725357603836393, 0.16244275131144612, 0.2409855121664412, 0.20001420571339062  …  0.24558359585252132, 0.1974334607877301, 0.1899297689641164, 0.2401150524481782, 0.1740607973396767, 0.23767883319457006, 0.24138878274515632, 0.20234069480609912, 0.2479769304575486, 0.24845659330486317], [0.2292661103170481, 0.23837014906836504, 0.13092412951946775, 0.23828450303844656, 0.2461470203226622, 0.1978463929616354, 0.12725357603836393, 0.16244275131144606, 0.2409855121664412, 0.20001420571339065  …  0.24558359585252132, 0.1974334607877301, 0.1899297689641164, 0.2401150524481782, 0.17406079733967675, 0.23767883319457006, 0.24138878274515635, 0.2023406948060991, 0.24797693045754862, 0.24845659330486314], Bernoulli{Float64}(p=0.5), [1.0, 1.0, 0.9999999999999998, 0.9999999999999998, 0.9999999999999999, 0.9999999999999999, 1.0, 0.9999999999999997, 1.0, 1.0000000000000002  …  1.0, 1.0, 1.0, 1.0, 1.0000000000000002, 1.0, 1.0000000000000002, 0.9999999999999999, 1.0000000000000002, 0.9999999999999999], [0.2292661103170481, 0.23837014906836504, 0.13092412951946772, 0.2382845030384465, 0.24614702032266217, 0.19784639296163536, 0.12725357603836393, 0.162442751311446, 0.2409855121664412, 0.2000142057133907  …  0.24558359585252132, 0.1974334607877301, 0.1899297689641164, 0.2401150524481782, 0.1740607973396768, 0.23767883319457006, 0.24138878274515638, 0.20234069480609906, 0.24797693045754865, 0.2484565933048631]), GLMCopulaVCObs{Float64,Bernoulli{Float64}}([0.0, 1.0, 1.0, 1.0, 1.0, 1.0, 1.0, 1.0, 1.0, 1.0  …  1.0, 0.0, 1.0, 1.0, 1.0, 1.0, 1.0, 1.0, 1.0, 1.0], [1.0 0.9063154415086963; 1.0 0.6308958141445524; … ; 1.0 0.5700737454482223; 1.0 0.9754391815720524], [[1.0 1.0 … 1.0 1.0; 1.0 1.0 … 1.0 1.0; … ; 1.0 1.0 … 1.0 1.0; 1.0 1.0 … 1.0 1.0]], [3.6094337232028284, 1.9740779734796579], [-1.1588456887495295 -1.050279742039479; -0.273122308061056 -0.17231172090521915; … ; -0.28772661763505486 -0.16402539058036425; -0.2033310543653697 -0.1983370772583387], [2.1989185947e-314], [2.210309527e-314], [-18.74107732562114 -9.296085239315667; -9.437921094902498 -6.143080227473291], [0.0], [-2.31769137749906, 0.546244616122112, 0.5885265412030536, 0.5343810614355075, 0.41384636997133123, 0.598544102996316, 0.6858049438568166, 0.586425773897868, 0.48386509906812686, 0.6436700620481708  …  0.4070888472936903, -1.230076984744224, 0.6726457012700647, 0.5342781313877141, 0.48434985279549464, 0.7574876974466537, 0.46251191832726485, 0.4855008749955687, 0.57545323527011, 0.4066621087307395], [50.0], [43.767601062948344], [100.0 56.16530420991891; 56.16530420991891 39.09939750895404], [9.356024910500008, 9.356024910500008, 9.356024910500008, 9.356024910500008, 9.356024910500008, 9.356024910500008, 9.356024910500008, 9.356024910500008, 9.356024910500008, 9.356024910500008  …  9.356024910500008, 9.356024910500008, 9.356024910500008, 9.356024910500008, 9.356024910500008, 9.356024910500008, 9.356024910500008, 9.356024910500008, 9.356024910500008, 9.35602491050001], [2.1989187844e-314, 2.4879702067e-314], [1.6811431886720238, 1.2093767773805375, 1.0602665070969304, 1.253292192636474, 1.7645209221048432, 1.0265101349642474, 0.754324060178443, 1.067418353233212, 1.4518982640980516, 0.8811380203475079  …  1.7974476386883853, 0.4141535132972973, 0.7930730696180699, 1.253677460638857, 1.4498955940631024, 0.5554959654500314, 1.5421659060108666, 1.4451483779916063, 1.1051946268533546, 1.7995452760498405], [0.8430558488036715, 0.770188658409173, 0.742741471860993, 0.7778692351699967, 0.8537749700876538, 0.7362387535265271, 0.680120159350066, 0.7441056480536594, 0.8102904067707946, 0.7070579913512411  …  0.8578379537337082, 0.6020833940022784, 0.6884907970451086, 0.7779357979960647, 0.8099823652895684, 0.6354097544757283, 0.8237793636587164, 0.8092506414374132, 0.7512321563434778, 0.8580935728377636], [0.1323126846015925, 0.1769980888670512, 0.19107657783875873, 0.17278868814604106, 0.12484327053947966, 0.19419125133223278, 0.21755672819570684, 0.19041243258830295, 0.15371986346601485, 0.20712698821758935  …  0.12195199886767251, 0.2395789806689756, 0.21447121942929967, 0.1727516921922907, 0.15391093320948462, 0.23166419839282296, 0.14516692366875666, 0.1543640407705485, 0.1868824036190063, 0.12176899309228532], [0.13231268460159246, 0.17699808886705123, 0.1910765778387587, 0.17278868814604104, 0.12484327053947962, 0.19419125133223278, 0.21755672819570682, 0.19041243258830295, 0.1537198634660149, 0.20712698821758932  …  0.12195199886767247, 0.23957898066897557, 0.2144712194292997, 0.17275169219229072, 0.15391093320948462, 0.23166419839282293, 0.14516692366875666, 0.15436404077054855, 0.18688240361900624, 0.12176899309228531], Bernoulli{Float64}(p=0.5), [0.9999999999999996, 1.0000000000000002, 0.9999999999999999, 0.9999999999999999, 0.9999999999999997, 1.0, 0.9999999999999999, 1.0, 1.0000000000000004, 0.9999999999999999  …  0.9999999999999997, 0.9999999999999999, 1.0000000000000002, 1.0000000000000002, 1.0, 0.9999999999999999, 1.0, 1.0000000000000004, 0.9999999999999997, 0.9999999999999999], [0.1323126846015924, 0.17699808886705123, 0.19107657783875867, 0.172788688146041, 0.12484327053947958, 0.19419125133223278, 0.2175567281957068, 0.19041243258830295, 0.15371986346601496, 0.2071269882175893  …  0.12195199886767243, 0.23957898066897554, 0.21447121942929973, 0.17275169219229075, 0.15391093320948462, 0.2316641983928229, 0.14516692366875666, 0.1543640407705486, 0.18688240361900618, 0.1217689930922853]), GLMCopulaVCObs{Float64,Bernoulli{Float64}}([1.0, 0.0, 1.0, 1.0, 0.0, 1.0, 1.0, 1.0, 1.0, 1.0  …  1.0, 1.0, 1.0, 1.0, 1.0, 0.0, 1.0, 1.0, 1.0, 1.0], [1.0 0.8335845191879703; 1.0 0.2681774059902964; … ; 1.0 0.8634840446062473; 1.0 0.358749234938734], [[1.0 1.0 … 1.0 1.0; 1.0 1.0 … 1.0 1.0; … ; 1.0 1.0 … 1.0 1.0; 1.0 1.0 … 1.0 1.0]], [1.911384114972728, 0.5908498099849737], [-0.2295973034638606 -0.19138875781477677; -0.6709175276504922 -0.17992492219873193; … ; -0.22379254049358144 -0.19324128801810508; -0.34481212810887935 -0.1237010871566572], [2.198919227e-314], [0.0], [-18.871648928400028 -8.776983422192663; -8.817618817403812 -5.773880547441557], [2.1989187844e-314], [0.45919460692772096, -1.3418350553009846, 0.6820694517815389, 0.43059581943796305, -1.9379624133793723, 0.4789182113733655, 0.5700081396649984, 0.8532217000813315, 0.5749562318908079, 0.4477863076920453  …  0.7984820265419651, 0.5086529199369226, 0.4600219603049538, 0.4948908331473571, 0.5509175374996067, -1.6837866844873277, 0.7390662918242781, 0.9291871783342291, 0.4475850809871628, 0.6896242562177589], [50.0], [11.155164563459055], [100.0 53.37539266849166; 53.37539266849166 37.456354833697176], [4.723381111758622, 4.723381111758622, 4.723381111758622, 4.723381111758622, 4.723381111758622, 4.723381111758622, 4.723381111758622, 4.723381111758622, 4.723381111758622, 4.723381111758622  …  4.723381111758622, 4.723381111758622, 4.723381111758622, 4.723381111758622, 4.723381111758622, 4.723381111758622, 4.723381111758622, 4.723381111758622, 4.723381111758622, 4.723381111758621], [2.198918816e-314, 2.198918911e-314], [1.5565623570822569, 0.5880762427673993, 0.7652475817335025, 1.6851708055785792, 1.3232742374788207, 1.4724508896981023, 1.124209276282937, 0.3174717179030786, 1.1069227190654227, 1.6068783042454728  …  0.4500856412147425, 1.351978762393473, 1.5529621016902528, 1.4068361596640355, 1.1923402814793742, 1.0420904717538615, 0.6047353145763701, 0.14689015357648438, 1.607777268455474, 0.7432167718431186], [0.8258595200667391, 0.6429236248204021, 0.6824919547581786, 0.8435880175934288, 0.7897259385220562, 0.8134296233980876, 0.7547686589833142, 0.5787079671572626, 0.7515549661407841, 0.8329775288168966  …  0.6106595957224187, 0.7944529433549213, 0.8253411396816658, 0.8032664433211443, 0.7671593603978439, 0.7392531625728166, 0.646738922840039, 0.5366566512344609, 0.833102560645578, 0.6776988747992816], [0.14381557318187443, 0.22957283746819693, 0.2166966864485389, 0.13194727416621765, 0.16605888054751372, 0.151761871176533, 0.18509293039984373, 0.24380505590597126, 0.18672009900990896, 0.13912596530299282  …  0.23775445387455085, 0.16329746414962348, 0.14415314283063482, 0.15802946435534318, 0.17862587615181494, 0.1927579241989054, 0.22846768852374508, 0.24865628992027508, 0.13904268409135906, 0.21842310989506925], [0.1438155731818745, 0.2295728374681969, 0.2166966864485389, 0.13194727416621763, 0.16605888054751375, 0.15176187117653298, 0.1850929303998438, 0.2438050559059713, 0.186720099009909, 0.13912596530299282  …  0.23775445387455083, 0.1632974641496234, 0.1441531428306348, 0.15802946435534318, 0.17862587615181494, 0.19275792419890542, 0.22846768852374508, 0.24865628992027505, 0.13904268409135906, 0.21842310989506922], Bernoulli{Float64}(p=0.5), [1.0000000000000004, 0.9999999999999999, 1.0, 0.9999999999999998, 1.0000000000000002, 0.9999999999999998, 1.0000000000000004, 1.0000000000000002, 1.0000000000000002, 1.0  …  0.9999999999999999, 0.9999999999999994, 0.9999999999999998, 1.0, 1.0, 1.0000000000000002, 1.0, 0.9999999999999999, 1.0, 0.9999999999999999], [0.14381557318187455, 0.22957283746819687, 0.21669668644853893, 0.1319472741662176, 0.16605888054751378, 0.15176187117653295, 0.1850929303998439, 0.24380505590597132, 0.18672009900990902, 0.13912596530299282  …  0.2377544538745508, 0.16329746414962332, 0.14415314283063477, 0.15802946435534318, 0.17862587615181494, 0.19275792419890544, 0.22846768852374508, 0.24865628992027503, 0.13904268409135906, 0.2184231098950692]), GLMCopulaVCObs{Float64,Bernoulli{Float64}}([1.0, 1.0, 1.0, 1.0, 1.0, 0.0, 1.0, 1.0, 1.0, 1.0  …  1.0, 1.0, 1.0, 1.0, 1.0, 0.0, 1.0, 1.0, 1.0, 1.0], [1.0 0.945054746612265; 1.0 0.7193860407169732; … ; 1.0 0.6660803560893436; 1.0 0.8055893255721818], [[1.0 1.0 … 1.0 1.0; 1.0 1.0 … 1.0 1.0; … ; 1.0 1.0 … 1.0 1.0; 1.0 1.0 … 1.0 1.0]], [-0.09030778527936471, 0.739184026084625], [-0.20869173624746037 -0.1972251159194173; -0.2531879843692484 -0.1821399016325045; … ; -0.265014860130651 -0.17652119240479158; -0.23516876613016627 -0.18944944770244276], [2.4879105473e-314], [2.1989185947e-314], [-19.14882183593258 -8.5122188839027; -8.514188370955257 -5.4026360808279295], [2.1989185947e-314], [0.41738347249492064, 0.5063759687384969, 0.8208388554889089, 0.9119090722387941, 0.6760999527895211, -1.8305665208506836, 0.5354018267249564, 0.8441456708116426, 0.6632522574348326, 0.6293189010381752  …  0.5376416403389651, 0.480823432468843, 0.5046990718866607, 0.8108650323659153, 0.6428347266296982, -1.836735000524903, 0.736684047891216, 0.437273762199722, 0.530029720261302, 0.47033753226033265], [50.0], [0.5685168945335323], [100.0 51.02755897559135; 51.02755897559135 35.02363346478304], [1.0663178649291496, 1.0663178649291496, 1.0663178649291496, 1.0663178649291496, 1.0663178649291496, 1.0663178649291496, 1.0663178649291496, 1.0663178649291496, 1.0663178649291496, 1.0663178649291496  …  1.0663178649291496, 1.0663178649291496, 1.0663178649291496, 1.0663178649291496, 1.0663178649291496, 1.0663178649291496, 1.0663178649291496, 1.0663178649291496, 1.0663178649291496, 1.0663178649291514], [2.1989185947e-314, 2.1989191006e-314], [1.7474997628913085, 1.3609517287519095, 0.39485693425490853, 0.1844299907417598, 0.7828287094263287, 1.2092509863609187, 1.2494754720269579, 0.3388604070614416, 0.8211997647488068, 0.9262343077602988  …  1.2411260735701983, 1.4645103210653139, 1.3675858491564954, 0.4193073199333792, 0.883735245148274, 1.215979078344143, 0.6111923579886538, 1.6543916438131805, 1.2696443960868937, 1.508609376563301], [0.8516371714194506, 0.7959143350350854, 0.5974513585325935, 0.5459772473847118, 0.6862894451353172, 0.770166392882388, 0.7772090496650548, 0.5839136756542549, 0.6944909574977021, 0.7163106840648532  …  0.7757599628482013, 0.8122215475212181, 0.7969898311500659, 0.6033174857331197, 0.7075956572558088, 0.77135516792683, 0.6482127470545683, 0.839483710624989, 0.7806818683091274, 0.8188550250808523], [0.1263512996761279, 0.16243470632074325, 0.24050323272015192, 0.24788609272292503, 0.21529624263117564, 0.1770101201569192, 0.1731551427837972, 0.2429584950381925, 0.21217326745162704, 0.20320968795939526  …  0.17395644288995865, 0.15251770526345573, 0.1617970401934553, 0.2393254971417866, 0.20690404308852878, 0.17636637283940187, 0.22803298161053856, 0.1347508102202887, 0.17121768880249763, 0.14833147298068905], [0.12635129967612793, 0.16243470632074322, 0.2405032327201519, 0.247886092722925, 0.21529624263117567, 0.1770101201569192, 0.1731551427837972, 0.24295849503819256, 0.21217326745162707, 0.20320968795939526  …  0.17395644288995862, 0.15251770526345573, 0.16179704019345537, 0.23932549714178666, 0.20690404308852878, 0.1763663728394019, 0.22803298161053853, 0.13475081022028873, 0.17121768880249763, 0.14833147298068902], Bernoulli{Float64}(p=0.5), [1.0000000000000002, 0.9999999999999998, 0.9999999999999999, 0.9999999999999999, 1.0000000000000002, 1.0, 1.0, 1.0000000000000002, 1.0000000000000002, 1.0  …  0.9999999999999999, 1.0, 1.0000000000000004, 1.0000000000000002, 1.0, 1.0000000000000002, 0.9999999999999999, 1.0000000000000002, 1.0, 0.9999999999999998], [0.12635129967612796, 0.1624347063207432, 0.24050323272015187, 0.24788609272292497, 0.2152962426311757, 0.1770101201569192, 0.1731551427837972, 0.2429584950381926, 0.21217326745162707, 0.20320968795939526  …  0.1739564428899586, 0.15251770526345573, 0.16179704019345542, 0.23932549714178672, 0.20690404308852878, 0.17636637283940193, 0.2280329816105385, 0.13475081022028876, 0.17121768880249763, 0.148331472980689]), GLMCopulaVCObs{Float64,Bernoulli{Float64}}([1.0, 1.0, 1.0, 1.0, 1.0, 1.0, 1.0, 1.0, 1.0, 1.0  …  1.0, 1.0, 0.0, 1.0, 1.0, 1.0, 1.0, 0.0, 0.0, 1.0], [1.0 0.4436689185962792; 1.0 0.9239451731818169; … ; 1.0 0.14604080828007016; 1.0 0.1535718046929897], [[1.0 1.0 … 1.0 1.0; 1.0 1.0 … 1.0 1.0; … ; 1.0 1.0 … 1.0 1.0; 1.0 1.0 … 1.0 1.0]], [1.7502731267313978, 0.26118233340800034], [-0.3206243629900187 -0.1422510644034025; -0.21249904966367003 -0.1963374712424711; … ; -0.6042828007515759 -0.08824994865150473; -0.41105374470202694 -0.06312626539970173], [2.198919227e-314], [2.1989345866e-314], [-19.31614918460625 -8.589862987487919; -8.62393102302956 -5.341651276903038], [2.1989197646e-314], [0.6412487259800375, 0.42499809932733995, 0.7933301420135662, 0.5649042582900187, 0.8529369925490401, 0.5703473449233607, 0.4179879723969954, 0.5776566316195407, 0.6177748440723232, 0.6342070597056226  …  0.5831324119137312, 0.6504459684691721, -1.888013702769109, 0.5291218830464685, 0.45318909362691895, 0.6674899970916365, 0.746697334960043, -1.1456959530384299, -1.2085656015031518, 0.8221074894040539], [50.0], [9.49825111669169], [100.0 50.59732628729702; 50.59732628729702 33.78672647681805], [4.3584977037258374, 4.3584977037258374, 4.3584977037258374, 4.3584977037258374, 4.3584977037258374, 4.3584977037258374, 4.3584977037258374, 4.3584977037258374, 4.3584977037258374, 4.3584977037258374  …  4.3584977037258374, 4.3584977037258374, 4.3584977037258374, 4.3584977037258374, 4.3584977037258374, 4.3584977037258374, 4.3584977037258374, 4.3584977037258374, 4.3584977037258374, 4.358497703725836], [2.210560821e-314, 2.1989211875e-314], [0.8886757385498029, 1.7113411644773704, 0.4630316473295848, 1.1421980330973132, 0.31813919985810146, 1.123019453379638, 1.7446052420824651, 1.0975512995540706, 0.963262435777595, 0.9107595705380894  …  1.0786819935679124, 0.8601940920358587, 1.2710506510391844, 1.2730729418562536, 1.5828916307435774, 0.8084617489010506, 0.5841907000749166, 0.2720245432128773, 0.37886840619980555, 0.39176825355336653], [0.7086168159125393, 0.8470101585199649, 0.6137331202789, 0.7580829719205563, 0.5788706940775359, 0.754548364423676, 0.851271072585798, 0.7498010117787002, 0.7237745234135035, 0.7131555692279231  …  0.7462444818344326, 0.702701204138395, 0.7809225489931254, 0.7812683310461689, 0.8296136536474882, 0.691781615486291, 0.642031115239706, 0.567589859700302, 0.5936001473031806, 0.5967082977713486], [0.20647902411851368, 0.12958394988394886, 0.23706477735162526, 0.18339317960465334, 0.24377941361572775, 0.18520513016923143, 0.126608633564423, 0.18759945451433768, 0.1999249626710594, 0.20456470330712007  …  0.1893636551660918, 0.20891222184084474, 0.17108252146720507, 0.17088812595050276, 0.14135483932915371, 0.21321981196146841, 0.22982716230376535, 0.24543161086569348, 0.2412390124248229, 0.24064750514216818], [0.20647902411851363, 0.12958394988394886, 0.23706477735162532, 0.18339317960465334, 0.24377941361572775, 0.1852051301692314, 0.126608633564423, 0.18759945451433765, 0.1999249626710594, 0.2045647033071201  …  0.18936365516609177, 0.20891222184084474, 0.1710825214672051, 0.17088812595050268, 0.1413548393291537, 0.2132198119614684, 0.22982716230376535, 0.24543161086569354, 0.2412390124248229, 0.24064750514216818], Bernoulli{Float64}(p=0.5), [0.9999999999999998, 1.0, 1.0000000000000002, 1.0, 1.0, 0.9999999999999999, 1.0, 0.9999999999999999, 1.0, 1.0000000000000002  …  0.9999999999999999, 1.0, 1.0000000000000002, 0.9999999999999996, 0.9999999999999998, 0.9999999999999999, 1.0, 1.0000000000000002, 1.0, 1.0], [0.20647902411851357, 0.12958394988394886, 0.23706477735162537, 0.18339317960465334, 0.24377941361572775, 0.18520513016923137, 0.126608633564423, 0.18759945451433763, 0.1999249626710594, 0.20456470330712012  …  0.18936365516609174, 0.20891222184084474, 0.17108252146720512, 0.1708881259505026, 0.14135483932915366, 0.21321981196146833, 0.22982716230376535, 0.2454316108656936, 0.2412390124248229, 0.24064750514216818]), GLMCopulaVCObs{Float64,Bernoulli{Float64}}([1.0, 1.0, 1.0, 1.0, 1.0, 0.0, 1.0, 1.0, 1.0, 1.0  …  1.0, 0.0, 1.0, 0.0, 1.0, 1.0, 1.0, 1.0, 1.0, 1.0], [1.0 0.9045770192354754; 1.0 0.5401677553739683; … ; 1.0 0.1764649238688467; 1.0 0.2873649576248365], [[1.0 1.0 … 1.0 1.0; 1.0 1.0 … 1.0 1.0; … ; 1.0 1.0 … 1.0 1.0; 1.0 1.0 … 1.0 1.0]], [-2.6873916474116175, -2.3905709350337347], [-0.21605335179964313 -0.19543689696675473; -0.29519134622429594 -0.15945284689579786; … ; -0.4030727852738346 -0.07112820836695122; -0.366550680386397 -0.10533382073659195], [2.1989185e-314], [2.5062886036e-314], [-19.828169915114877 -8.284936686138053; -8.433949970064393 -5.123639432797607], [2.198918563e-314], [0.4321067035992864, 0.5903826924485919, 0.5107023773933794, 0.8746187481770408, 0.8193308890312617, -1.4614207330420639, 0.64839162386089, 0.8438244036370957, 0.8864095580425755, 0.47089636228514187  …  0.5542465474336813, -1.3335790314512743, 0.4769033497690191, -1.1502049671875623, 0.7882213654331082, 0.9054496592356639, 0.8688908800430083, 0.890829127813419, 0.8061455705476691, 0.7331013607727941], [50.0], [37.68781618169882], [100.0 48.53586752085827; 48.53586752085827 32.10831809284367], [-8.681914095601133, -8.681914095601133, -8.681914095601133, -8.681914095601133, -8.681914095601133, -8.681914095601133, -8.681914095601133, -8.681914095601133, -8.681914095601133, -8.681914095601133  …  -8.681914095601133, -8.681914095601133, -8.681914095601133, -8.681914095601133, -8.681914095601133, -8.681914095601133, -8.681914095601133, -8.681914095601133, -8.681914095601133, -8.68191409560113], [2.1989189425e-314, 2.198936452e-314], [1.678165444329707, 1.053968642167826, 1.3439365803463446, 0.26793440789115686, 0.3985345216206675, 0.7588181347680177, 0.8665208147409628, 0.33962171718959966, 0.2411523601139668, 1.5062344935774197  …  1.180291319526497, 0.5757326581278892, 1.4808828593070398, 0.2798803176613468, 0.47595261594934124, 0.19864719528579994, 0.28107546234405056, 0.2312052912903244, 0.43098188832669004, 0.6209426091288969], [0.8426614528587867, 0.7415362588932438, 0.7931365652738563, 0.5665857350075331, 0.5983355123179437, 0.6810970830760213, 0.7040212365776765, 0.5840986305925936, 0.5599976107310102, 0.8185024883990276  …  0.765000179746929, 0.640084901065721, 0.8147058943559733, 0.5695168819752205, 0.6167916895790329, 0.5494991332020526, 0.5698098681164687, 0.5575452067462772, 0.6061081099072827, 0.6504328999364031], [0.1325831287247055, 0.1916602356398559, 0.16407095409944616, 0.2455663398935066, 0.24033012701716755, 0.21720384650135663, 0.20837533502531577, 0.2429274203324505, 0.24640028670657016, 0.14855616488362727  …  0.1797749047340953, 0.23037622049340714, 0.15096020005760696, 0.24516740312044324, 0.23635970124527483, 0.24754983581224546, 0.24512658231356124, 0.2466885491805282, 0.238741069011904, 0.22736994261672414], [0.13258312872470548, 0.19166023563985587, 0.16407095409944608, 0.24556633989350657, 0.24033012701716752, 0.21720384650135663, 0.2083753350253158, 0.2429274203324505, 0.24640028670657013, 0.1485561648836273  …  0.17977490473409527, 0.2303762204934071, 0.150960200057607, 0.2451674031204433, 0.23635970124527483, 0.24754983581224546, 0.24512658231356124, 0.24668854918052824, 0.23874106901190403, 0.2273699426167241], Bernoulli{Float64}(p=0.5), [0.9999999999999998, 0.9999999999999999, 0.9999999999999994, 0.9999999999999999, 0.9999999999999999, 1.0, 1.0000000000000002, 1.0, 0.9999999999999999, 1.0000000000000002  …  0.9999999999999999, 0.9999999999999999, 1.0000000000000002, 1.0000000000000002, 1.0, 1.0, 1.0, 1.0000000000000002, 1.0000000000000002, 0.9999999999999999], [0.13258312872470546, 0.19166023563985585, 0.164070954099446, 0.24556633989350654, 0.2403301270171675, 0.21720384650135663, 0.20837533502531583, 0.2429274203324505, 0.2464002867065701, 0.14855616488362733  …  0.17977490473409524, 0.23037622049340706, 0.15096020005760702, 0.24516740312044336, 0.23635970124527483, 0.24754983581224546, 0.24512658231356124, 0.24668854918052827, 0.23874106901190406, 0.22736994261672408]), GLMCopulaVCObs{Float64,Bernoulli{Float64}}([0.0, 1.0, 0.0, 0.0, 1.0, 1.0, 0.0, 1.0, 1.0, 1.0  …  0.0, 1.0, 0.0, 0.0, 1.0, 0.0, 0.0, 1.0, 1.0, 1.0], [1.0 0.941598476073878; 1.0 0.6560863837283644; … ; 1.0 0.6782831369408902; 1.0 0.4450729169022576], [[1.0 1.0 … 1.0 1.0; 1.0 1.0 … 1.0 1.0; … ; 1.0 1.0 … 1.0 1.0; 1.0 1.0 … 1.0 1.0]], [-8.595032454020975, -4.611882139225565], [-1.1943983396832258 -1.1246436564708957; -0.26729294798387127 -0.17536726363883193; … ; -0.262259592894189 -0.17788625936111133; -0.32023905842483275 -0.14252973183917278], [2.1989356933e-314], [2.1989199543e-314], [-20.30439811647272 -8.87118503475808; -9.60608251614199 -6.033770581923452], [2.1989364206e-314], [-2.3887966793664517, 0.5345858959677426, -1.256694128659588, -1.7829005868407455, 0.46522933745813205, 0.6325994402791555, -2.219934905667518, 0.732086318404616, 0.82146163132252, 0.4509997567556501  …  -1.1362520447533182, 0.9192614632129636, -1.1944155147384445, -1.3634609308466623, 0.9034983473277283, -1.175241325553895, -1.2818239969437357, 0.47467528480558074, 0.5245191857883781, 0.6404781168496656], [50.0], [270.275694486037], [100.0 52.97932322295815; 52.97932322295815 36.172368719779705], [-23.249761051935007, -23.249761051935007, -23.249761051935007, -23.249761051935007, -23.249761051935007, -23.249761051935007, -23.249761051935007, -23.249761051935007, -23.249761051935007, -23.249761051935007  …  -23.249761051935007, -23.249761051935007, -23.249761051935007, -23.249761051935007, -23.249761051935007, -23.249761051935007, -23.249761051935007, -23.249761051935007, -23.249761051935007, -23.24976105193501], [2.1989206184e-314, 2.1989369265e-314], [1.741579515434901, 1.252525716055235, 0.4569691311956011, 1.1564831624161804, 1.5304495922853179, 0.915835705810466, 1.5949557473658162, 0.6237137013104318, 0.39334009645704116, 1.592576957648121  …  0.25547033214161713, 0.16836937739701827, 0.3553139134503225, 0.6200525386303578, 0.20296199628107653, 0.32294701991590435, 0.49656812239646875, 1.4902486393032293, 1.2905465452372853, 0.8910806479188618], [0.8508875821690991, 0.7777367684807248, 0.6122949239972689, 0.7606930999353813, 0.822072085407447, 0.7141928427698478, 0.8313122000477615, 0.6510627000630446, 0.5970865002760669, 0.8309783541163112  …  0.5635224749123647, 0.5419931884140733, 0.5879055932104803, 0.6502304975707437, 0.55056703174259, 0.5800422951086408, 0.6216524889291846, 0.8161155890458862, 0.7842396832626701, 0.7091131300099162], [0.12687790467952373, 0.17286228743388427, 0.2373898500444476, 0.18203910764608133, 0.14626957180129815, 0.20412142610617123, 0.14023222609951205, 0.22718006064966265, 0.24057421146414526, 0.14045332910645772  …  0.245964895181008, 0.24823657212682015, 0.24227260668231357, 0.22743079759964677, 0.24744297530074388, 0.24359323099374125, 0.23520067193733463, 0.1500709343621724, 0.16920780245873696, 0.20627169885745592], [0.12687790467952373, 0.17286228743388424, 0.2373898500444476, 0.1820391076460814, 0.14626957180129815, 0.20412142610617123, 0.14023222609951205, 0.22718006064966262, 0.24057421146414526, 0.14045332910645772  …  0.245964895181008, 0.24823657212682013, 0.24227260668231354, 0.22743079759964682, 0.24744297530074388, 0.24359323099374125, 0.2352006719373346, 0.1500709343621724, 0.16920780245873693, 0.2062716988574559], Bernoulli{Float64}(p=0.5), [1.0, 0.9999999999999999, 1.0, 1.0000000000000002, 1.0, 1.0, 1.0, 0.9999999999999999, 1.0, 1.0  …  1.0, 0.9999999999999999, 0.9999999999999999, 1.0000000000000002, 1.0, 1.0, 0.9999999999999999, 1.0, 0.9999999999999999, 0.9999999999999999], [0.12687790467952373, 0.1728622874338842, 0.2373898500444476, 0.18203910764608144, 0.14626957180129815, 0.20412142610617123, 0.14023222609951205, 0.2271800606496626, 0.24057421146414526, 0.14045332910645772  …  0.245964895181008, 0.2482365721268201, 0.2422726066823135, 0.22743079759964688, 0.24744297530074388, 0.24359323099374125, 0.23520067193733457, 0.1500709343621724, 0.1692078024587369, 0.20627169885745586]), GLMCopulaVCObs{Float64,Bernoulli{Float64}}([0.0, 1.0, 1.0, 0.0, 1.0, 0.0, 1.0, 0.0, 1.0, 1.0  …  1.0, 1.0, 0.0, 0.0, 1.0, 1.0, 1.0, 1.0, 1.0, 1.0], [1.0 0.037589749645796866; 1.0 0.7487247425366441; … ; 1.0 0.4990998506448563; 1.0 0.12787095986330188], [[1.0 1.0 … 1.0 1.0; 1.0 1.0 … 1.0 1.0; … ; 1.0 1.0 … 1.0 1.0; 1.0 1.0 … 1.0 1.0]], [-0.6199231216299752, 1.2054780630497193], [-0.5506830222801339 -0.02070003694170101; -0.24690535766800872 -0.18486415035089787; … ; -0.30575875056368984 -0.15260414673969547; -0.4202019656700177 -0.05373162868667139], [2.198937053e-314], [2.198937464e-314], [-19.313382977358426 -8.38616442685809; -8.386410146953542 -5.243012552877642], [2.198921377e-314], [-1.1013660445602675, 0.4938107153360174, 0.6378394849647658, -2.363371112751205, 0.7207740990689584, -1.0748754508435778, 0.5746465053282243, -1.5105159175215654, 0.4195341533611463, 0.5468694361548899  …  0.4269565071726558, 0.7887818950560813, -1.0780258085010892, -2.095794813026744, 0.4538123324310626, 0.4632938677824236, 0.4695006610365285, 0.5461660467603701, 0.6115175011273796, 0.8404039313400354], [50.0], [0.07125604194256119], [100.0 49.85428806082757; 49.85428806082757 33.76434258022087], [-0.37750772692108514, -0.37750772692108514, -0.37750772692108514, -0.37750772692108514, -0.37750772692108514, -0.37750772692108514, -0.37750772692108514, -0.37750772692108514, -0.37750772692108514, -0.37750772692108514  …  -0.37750772692108514, -0.37750772692108514, -0.37750772692108514, -0.37750772692108514, -0.37750772692108514, -0.37750772692108514, -0.37750772692108514, -0.37750772692108514, -0.37750772692108514, -0.3775077269210866], [2.198921978e-314, 2.1989382545e-314], [0.19310253605356448, 1.4112060051151454, 0.8993372365119601, 1.7201780747949367, 0.6548590138455221, 0.1444095903739644, 1.1080004011552453, 0.8249025194094005, 1.7372206838807025, 1.2070903916204274  …  1.7021462553595463, 0.4745308569444685, 0.15026282659170392, 1.4798657342370052, 1.5801430621776256, 1.5387874452026418, 1.5121711447525676, 1.2096644690501517, 0.9836234085374789, 0.34774526416622875], [0.5481261804220056, 0.8039560926174587, 0.7108132854850351, 0.8481517720792543, 0.6581045934562544, 0.5360397878170561, 0.7517561364912929, 0.6952760167933995, 0.850333696485687, 0.7697837225242524  …  0.8458148403655366, 0.6164555872923523, 0.5374951831302351, 0.8145522998002704, 0.8292247781163771, 0.8232883862951512, 0.819382747517011, 0.7702395753267024, 0.7278265878575972, 0.5860707047784739], [0.24768387075798856, 0.15761069376072687, 0.2055577586630051, 0.12879034359807498, 0.22500293752803252, 0.24870113369410157, 0.1866188477389775, 0.21186727726530397, 0.12726630110667453, 0.17721674306095717  …  0.13041209618295846, 0.23643809618839332, 0.24859411124203012, 0.1510568506903608, 0.1416110454742223, 0.14548461928667708, 0.1479946605884852, 0.17697057192724355, 0.19809504586516452, 0.24259183377893678], [0.2476838707579886, 0.15761069376072687, 0.20555775866300513, 0.128790343598075, 0.2250029375280325, 0.2487011336941016, 0.18661884773897747, 0.211867277265304, 0.12726630110667453, 0.1772167430609572  …  0.13041209618295851, 0.2364380961883933, 0.24859411124203012, 0.15105685069036076, 0.14161104547422232, 0.14548461928667708, 0.14799466058848518, 0.1769705719272436, 0.19809504586516455, 0.24259183377893678], Bernoulli{Float64}(p=0.5), [1.0000000000000002, 1.0, 1.0000000000000002, 1.0000000000000002, 0.9999999999999999, 1.0000000000000002, 0.9999999999999999, 1.0000000000000002, 1.0, 1.0000000000000002  …  1.0000000000000004, 0.9999999999999999, 1.0, 0.9999999999999998, 1.0000000000000002, 1.0, 0.9999999999999998, 1.0000000000000002, 1.0000000000000002, 1.0], [0.24768387075798862, 0.15761069376072687, 0.20555775866300516, 0.12879034359807504, 0.22500293752803247, 0.24870113369410163, 0.18661884773897744, 0.21186727726530402, 0.12726630110667453, 0.17721674306095722  …  0.13041209618295857, 0.23643809618839326, 0.24859411124203012, 0.15105685069036073, 0.14161104547422235, 0.14548461928667708, 0.14799466058848515, 0.17697057192724366, 0.19809504586516458, 0.24259183377893678]), GLMCopulaVCObs{Float64,Bernoulli{Float64}}([1.0, 0.0, 1.0, 1.0, 1.0, 1.0, 0.0, 1.0, 1.0, 0.0  …  0.0, 1.0, 1.0, 1.0, 0.0, 1.0, 1.0, 0.0, 1.0, 1.0], [1.0 0.9960820578809302; 1.0 0.5429568896955266; … ; 1.0 0.5364609684263; 1.0 0.1112859163173312], [[1.0 1.0 … 1.0 1.0; 1.0 1.0 … 1.0 1.0; … ; 1.0 1.0 … 1.0 1.0; 1.0 1.0 … 1.0 1.0]], [6.141771973747664, 4.2215494803666385], [-0.19976783435729084 -0.19898515554502702; -0.8489337703535322 -0.46093443950865026; … ; -0.2961299729950615 -0.15886217209298473; -0.4262132171703624 -0.04743152841936146], [2.1989185947e-314], [2.198918816e-314], [-19.43141872291004 -8.959722034178098; -9.251669317364755 -5.867144431687631], [2.1989185947e-314], [0.39953566871458146, -1.6978675407070642, 0.7378847662268287, 0.7008461779878689, 0.44173172605747807, 0.5355047975259283, -1.6172193826031416, 0.4280800132540218, 0.8618969373893561, -1.524779550299354  …  -1.1022726842752648, 0.8027455833484692, 0.42209827484250334, 0.5568583759960776, -1.7548262317765777, 0.7077239629834108, 0.5176772886529558, -1.2481565534102546, 0.5922599459901229, 0.852426434340725], [50.0], [155.8086941104407], [100.0 53.90354977958781; 53.90354977958781 37.23449819478767], [17.65268784692239, 17.65268784692239, 17.65268784692239, 17.65268784692239, 17.65268784692239, 17.65268784692239, 17.65268784692239, 17.65268784692239, 17.65268784692239, 17.65268784692239  …  17.65268784692239, 17.65268784692239, 17.65268784692239, 17.65268784692239, 17.65268784692239, 17.65268784692239, 17.65268784692239, 17.65268784692239, 17.65268784692239, 17.652687846922383], [2.198934871e-314, 2.1989354087e-314], [1.83490446874128, 1.058746151679709, 0.6079352197947655, 0.7109336965665806, 1.634105071594104, 1.2490908603382918, 0.9614164879956079, 1.69689030803507, 0.2972391553197903, 0.843699684858454  …  0.19474825003433682, 0.4394348958585518, 1.7250342265689462, 1.170888667020963, 1.1247396775659526, 0.6914022882085334, 1.3168064514861277, 0.4433354110351395, 1.0476192850342783, 0.31933673515296845], [0.8623449526445187, 0.7424508603556118, 0.6474696540499497, 0.6706074397838139, 0.836731216661092, 0.7771424450727707, 0.7234053199678221, 0.8451281547291026, 0.5737674670720028, 0.6992438397953591  …  0.5485337648574597, 0.6081243695070426, 0.8487761407015972, 0.7633056089032403, 0.7548668192444149, 0.6662788001116429, 0.7886498925848694, 0.6090535048169182, 0.740317474575813, 0.5791626009238876], [0.11870613529304148, 0.19121758031282363, 0.22825270113438814, 0.22089310149041233, 0.13661208772594075, 0.17319206513908625, 0.20009006301007504, 0.1308865568132846, 0.24455836080178098, 0.21030189230360127  …  0.2476444736687608, 0.2383091207187045, 0.12835520367729963, 0.18067015632009387, 0.18504290444823474, 0.2223513606334323, 0.16668123951074337, 0.2381073330871464, 0.1922475114135035, 0.2437332826149653], [0.11870613529304154, 0.19121758031282363, 0.2282527011343882, 0.2208931014904123, 0.13661208772594075, 0.17319206513908628, 0.20009006301007504, 0.13088655681328457, 0.24455836080178098, 0.21030189230360133  …  0.2476444736687608, 0.2383091207187045, 0.12835520367729966, 0.1806701563200939, 0.18504290444823468, 0.2223513606334323, 0.16668123951074337, 0.23810733308714638, 0.1922475114135035, 0.2437332826149653], Bernoulli{Float64}(p=0.5), [1.0000000000000004, 1.0, 1.0000000000000002, 0.9999999999999999, 1.0, 1.0000000000000002, 1.0, 0.9999999999999998, 1.0, 1.0000000000000002  …  1.0, 1.0, 1.0000000000000002, 1.0000000000000002, 0.9999999999999997, 1.0, 1.0, 0.9999999999999999, 1.0, 1.0], [0.1187061352930416, 0.19121758031282363, 0.22825270113438825, 0.22089310149041227, 0.13661208772594075, 0.1731920651390863, 0.20009006301007504, 0.13088655681328454, 0.24455836080178098, 0.21030189230360138  …  0.2476444736687608, 0.2383091207187045, 0.1283552036772997, 0.18067015632009395, 0.18504290444823462, 0.22235136063343228, 0.16668123951074337, 0.23810733308714635, 0.19224751141350352, 0.2437332826149653])], 720.0, 1000, 2, 1, [0.1287150359270877, 1.7129004777417116], [1.0], [0.001448681463340343], [9.14261022444407e-9, 1.7072192548539533e-9], [2.2449664536e-314], [0.0], [1000.0 508.21481489985433; 508.21481489985433 343.53106754769453], [-195.12818336753116 -85.6223956061209; -87.19763674504243 -54.430498360110164], [2.24477693e-314], [50.0; 50.0; … ; 50.0; 50.0], [39.57270196898397; 9.712118810158243; … ; 0.07125604194256119; 155.8086941104407], [0.9324582486640229, 0.9324582486640229, 0.9324582486640229, 0.9324582486640229, 0.9324582486640229, 0.9324582486640229, 0.9324582486640229, 0.9324582486640229, 0.9324582486640229, 0.9324582486640229], [-4.991233598303224e-11], [0.001448681513252679], Bernoulli{Float64}(p=0.5))"
      ]
     },
     "execution_count": 45,
     "metadata": {},
     "output_type": "execute_result"
    }
   ],
   "source": [
    "gcm = GLMCopulaVCModel(gcs);\n",
    "\n",
    "initialize_model!(gcm)\n",
    "#gcm.β .= [0.5, 2]\n",
    "@show gcm.β\n",
    "fill!(gcm.Σ, 1.0)\n",
    "update_Σ!(gcm)\n",
    "GeneralizedCopula.loglikelihood3!(gcm, true, true)\n",
    "@time fit2!(gcm, IpoptSolver(print_level = 5, max_iter = 100, hessian_approximation = \"exact\"))"
   ]
  },
  {
   "cell_type": "code",
   "execution_count": 32,
   "metadata": {},
   "outputs": [
    {
     "name": "stdout",
     "output_type": "stream",
     "text": [
      "loglikelihood3!(gcm, true, true) = -589.5715418457637\n",
      "gcm.β = [0.030901807876090592, 1.4217389732904058]\n",
      "gcm.∇β = [-7.2586647803518645e-9, -3.6487692867126498e-9]\n"
     ]
    },
    {
     "data": {
      "text/plain": [
       "2-element Array{Float64,1}:\n",
       " -7.2586647803518645e-9\n",
       " -3.6487692867126498e-9"
      ]
     },
     "execution_count": 32,
     "metadata": {},
     "output_type": "execute_result"
    }
   ],
   "source": [
    "@show loglikelihood3!(gcm, true, true)\n",
    "@show gcm.β\n",
    "@show gcm.∇β"
   ]
  },
  {
   "cell_type": "code",
   "execution_count": null,
   "metadata": {},
   "outputs": [],
   "source": []
  }
 ],
 "metadata": {
  "kernelspec": {
   "display_name": "Julia 1.4.0",
   "language": "julia",
   "name": "julia-1.4"
  },
  "language_info": {
   "file_extension": ".jl",
   "mimetype": "application/julia",
   "name": "julia",
   "version": "1.4.0"
  },
  "toc": {
   "base_numbering": 1,
   "nav_menu": {},
   "number_sections": true,
   "sideBar": true,
   "skip_h1_title": false,
   "title_cell": "Table of Contents",
   "title_sidebar": "Contents",
   "toc_cell": false,
   "toc_position": {},
   "toc_section_display": true,
   "toc_window_display": false
  }
 },
 "nbformat": 4,
 "nbformat_minor": 2
}
