{
 "cells": [
  {
   "cell_type": "markdown",
   "metadata": {},
   "source": [
    "# n = 50 Autoregressive covariance structure \n",
    "\n",
    "We try to parameterize covariance Gamma only using two parameters rho and sigma2 as in the AR(1) structure.\n",
    "\n",
    "For n = 50 this autoregressive model converges in 26 iterations using Quasi-Newton, 28 with Newton.\n",
    "\n",
    "1. First we need to modify the structure itself\n",
    "2. Second modify the loglikelihood function \n",
    "3. Third modify gradient and hessian with respect to beta\n",
    "4. ADD gradient and hessian with respect to AR(1) parameterization\n",
    "5. Quasi-Newton works\n",
    "6. Newton with mehrotra works with cross terms for: rho and sigma2 and beta and sigma2\n",
    "7. Seems cross terms with beta and rho doesnt really help (expectation is 0)\n"
   ]
  },
  {
   "cell_type": "code",
   "execution_count": 1,
   "metadata": {},
   "outputs": [
    {
     "data": {
      "text/plain": [
       "50×50 Array{Float64,2}:\n",
       " 0.1      0.01     0.001    0.0001   …  1.0e-47  1.0e-48  1.0e-49  1.0e-50\n",
       " 0.01     0.1      0.01     0.001       1.0e-46  1.0e-47  1.0e-48  1.0e-49\n",
       " 0.001    0.01     0.1      0.01        1.0e-45  1.0e-46  1.0e-47  1.0e-48\n",
       " 0.0001   0.001    0.01     0.1         1.0e-44  1.0e-45  1.0e-46  1.0e-47\n",
       " 1.0e-5   0.0001   0.001    0.01        1.0e-43  1.0e-44  1.0e-45  1.0e-46\n",
       " 1.0e-6   1.0e-5   0.0001   0.001    …  1.0e-42  1.0e-43  1.0e-44  1.0e-45\n",
       " 1.0e-7   1.0e-6   1.0e-5   0.0001      1.0e-41  1.0e-42  1.0e-43  1.0e-44\n",
       " 1.0e-8   1.0e-7   1.0e-6   1.0e-5      1.0e-40  1.0e-41  1.0e-42  1.0e-43\n",
       " 1.0e-9   1.0e-8   1.0e-7   1.0e-6      1.0e-39  1.0e-40  1.0e-41  1.0e-42\n",
       " 1.0e-10  1.0e-9   1.0e-8   1.0e-7      1.0e-38  1.0e-39  1.0e-40  1.0e-41\n",
       " 1.0e-11  1.0e-10  1.0e-9   1.0e-8   …  1.0e-37  1.0e-38  1.0e-39  1.0e-40\n",
       " 1.0e-12  1.0e-11  1.0e-10  1.0e-9      1.0e-36  1.0e-37  1.0e-38  1.0e-39\n",
       " 1.0e-13  1.0e-12  1.0e-11  1.0e-10     1.0e-35  1.0e-36  1.0e-37  1.0e-38\n",
       " ⋮                                   ⋱                             \n",
       " 1.0e-39  1.0e-38  1.0e-37  1.0e-36     1.0e-9   1.0e-10  1.0e-11  1.0e-12\n",
       " 1.0e-40  1.0e-39  1.0e-38  1.0e-37     1.0e-8   1.0e-9   1.0e-10  1.0e-11\n",
       " 1.0e-41  1.0e-40  1.0e-39  1.0e-38  …  1.0e-7   1.0e-8   1.0e-9   1.0e-10\n",
       " 1.0e-42  1.0e-41  1.0e-40  1.0e-39     1.0e-6   1.0e-7   1.0e-8   1.0e-9\n",
       " 1.0e-43  1.0e-42  1.0e-41  1.0e-40     1.0e-5   1.0e-6   1.0e-7   1.0e-8\n",
       " 1.0e-44  1.0e-43  1.0e-42  1.0e-41     0.0001   1.0e-5   1.0e-6   1.0e-7\n",
       " 1.0e-45  1.0e-44  1.0e-43  1.0e-42     0.001    0.0001   1.0e-5   1.0e-6\n",
       " 1.0e-46  1.0e-45  1.0e-44  1.0e-43  …  0.01     0.001    0.0001   1.0e-5\n",
       " 1.0e-47  1.0e-46  1.0e-45  1.0e-44     0.1      0.01     0.001    0.0001\n",
       " 1.0e-48  1.0e-47  1.0e-46  1.0e-45     0.01     0.1      0.01     0.001\n",
       " 1.0e-49  1.0e-48  1.0e-47  1.0e-46     0.001    0.01     0.1      0.01\n",
       " 1.0e-50  1.0e-49  1.0e-48  1.0e-47     0.0001   0.001    0.01     0.1"
      ]
     },
     "execution_count": 1,
     "metadata": {},
     "output_type": "execute_result"
    }
   ],
   "source": [
    "using DataFrames, Random, GLM, GLMCopula, Test\n",
    "using LinearAlgebra, BenchmarkTools, Revise\n",
    "\n",
    "Random.seed!(1234)\n",
    "\n",
    "# sample size\n",
    "N = 10000\n",
    "# observations per subject\n",
    "n = 50\n",
    "ρ = 0.1\n",
    "σ2 = 0.1\n",
    "\n",
    "V = zeros(n, n) # will store the AR(1) structure without sigma2\n",
    "\n",
    "mean = 5\n",
    "\n",
    "dist = Poisson\n",
    "\n",
    "V = get_AR_cov(n, ρ, σ2, V)\n",
    "\n",
    "# true Gamma\n",
    "Γ = σ2 * V"
   ]
  },
  {
   "cell_type": "code",
   "execution_count": 2,
   "metadata": {},
   "outputs": [
    {
     "data": {
      "text/plain": [
       "10000-element Array{Array{Float64,1},1}:\n",
       " [7.0, 8.0, 7.0, 4.0, 8.0, 2.0, 6.0, 6.0, 6.0, 7.0  …  5.0, 3.0, 4.0, 6.0, 4.0, 5.0, 5.0, 6.0, 4.0, 7.0]\n",
       " [3.0, 7.0, 6.0, 3.0, 6.0, 6.0, 3.0, 3.0, 8.0, 5.0  …  3.0, 4.0, 5.0, 8.0, 2.0, 5.0, 4.0, 4.0, 8.0, 6.0]\n",
       " [6.0, 3.0, 3.0, 7.0, 4.0, 3.0, 6.0, 2.0, 1.0, 8.0  …  2.0, 4.0, 3.0, 4.0, 6.0, 3.0, 4.0, 4.0, 3.0, 5.0]\n",
       " [9.0, 4.0, 5.0, 3.0, 5.0, 5.0, 4.0, 12.0, 4.0, 5.0  …  4.0, 8.0, 7.0, 9.0, 5.0, 3.0, 8.0, 5.0, 4.0, 4.0]\n",
       " [5.0, 7.0, 4.0, 7.0, 4.0, 1.0, 7.0, 3.0, 5.0, 4.0  …  9.0, 7.0, 3.0, 1.0, 3.0, 5.0, 3.0, 6.0, 5.0, 5.0]\n",
       " [6.0, 6.0, 10.0, 2.0, 4.0, 2.0, 6.0, 7.0, 1.0, 5.0  …  2.0, 6.0, 3.0, 6.0, 3.0, 6.0, 4.0, 4.0, 4.0, 5.0]\n",
       " [5.0, 4.0, 6.0, 3.0, 4.0, 6.0, 0.0, 3.0, 3.0, 3.0  …  4.0, 6.0, 3.0, 3.0, 5.0, 1.0, 4.0, 1.0, 5.0, 10.0]\n",
       " [6.0, 4.0, 5.0, 7.0, 5.0, 8.0, 5.0, 3.0, 10.0, 1.0  …  5.0, 4.0, 5.0, 3.0, 4.0, 6.0, 5.0, 4.0, 7.0, 2.0]\n",
       " [4.0, 5.0, 8.0, 5.0, 5.0, 4.0, 7.0, 3.0, 3.0, 6.0  …  5.0, 2.0, 4.0, 7.0, 6.0, 5.0, 6.0, 5.0, 7.0, 4.0]\n",
       " [4.0, 6.0, 5.0, 5.0, 2.0, 4.0, 2.0, 10.0, 7.0, 5.0  …  3.0, 4.0, 6.0, 5.0, 2.0, 7.0, 9.0, 5.0, 9.0, 4.0]\n",
       " [5.0, 4.0, 7.0, 5.0, 5.0, 2.0, 5.0, 9.0, 8.0, 14.0  …  2.0, 5.0, 6.0, 8.0, 8.0, 2.0, 6.0, 5.0, 8.0, 5.0]\n",
       " [3.0, 2.0, 6.0, 5.0, 5.0, 5.0, 4.0, 2.0, 6.0, 3.0  …  8.0, 4.0, 6.0, 5.0, 7.0, 7.0, 7.0, 7.0, 6.0, 6.0]\n",
       " [3.0, 3.0, 7.0, 6.0, 5.0, 5.0, 6.0, 7.0, 7.0, 5.0  …  3.0, 9.0, 3.0, 8.0, 3.0, 6.0, 3.0, 5.0, 2.0, 6.0]\n",
       " ⋮\n",
       " [6.0, 3.0, 7.0, 5.0, 7.0, 6.0, 3.0, 2.0, 4.0, 4.0  …  5.0, 3.0, 4.0, 1.0, 3.0, 5.0, 5.0, 3.0, 4.0, 1.0]\n",
       " [7.0, 5.0, 4.0, 5.0, 7.0, 9.0, 1.0, 7.0, 4.0, 6.0  …  4.0, 6.0, 2.0, 3.0, 6.0, 4.0, 8.0, 4.0, 4.0, 5.0]\n",
       " [7.0, 6.0, 10.0, 5.0, 2.0, 5.0, 5.0, 6.0, 4.0, 3.0  …  9.0, 1.0, 6.0, 4.0, 4.0, 5.0, 5.0, 2.0, 4.0, 3.0]\n",
       " [8.0, 10.0, 9.0, 5.0, 6.0, 4.0, 8.0, 3.0, 7.0, 5.0  …  5.0, 6.0, 5.0, 7.0, 8.0, 4.0, 4.0, 5.0, 6.0, 3.0]\n",
       " [1.0, 3.0, 4.0, 5.0, 4.0, 3.0, 5.0, 6.0, 3.0, 6.0  …  7.0, 3.0, 7.0, 4.0, 7.0, 7.0, 4.0, 3.0, 3.0, 7.0]\n",
       " [3.0, 2.0, 5.0, 8.0, 1.0, 6.0, 8.0, 7.0, 2.0, 5.0  …  6.0, 7.0, 9.0, 9.0, 5.0, 9.0, 4.0, 5.0, 3.0, 3.0]\n",
       " [3.0, 2.0, 3.0, 6.0, 2.0, 5.0, 2.0, 1.0, 2.0, 1.0  …  6.0, 3.0, 4.0, 8.0, 1.0, 8.0, 6.0, 3.0, 4.0, 3.0]\n",
       " [6.0, 6.0, 5.0, 3.0, 2.0, 6.0, 6.0, 7.0, 6.0, 6.0  …  6.0, 5.0, 3.0, 6.0, 6.0, 5.0, 7.0, 9.0, 7.0, 2.0]\n",
       " [3.0, 7.0, 4.0, 3.0, 6.0, 5.0, 6.0, 6.0, 3.0, 7.0  …  7.0, 7.0, 0.0, 10.0, 7.0, 7.0, 2.0, 7.0, 7.0, 3.0]\n",
       " [1.0, 3.0, 2.0, 2.0, 6.0, 6.0, 8.0, 3.0, 5.0, 0.0  …  6.0, 5.0, 3.0, 1.0, 6.0, 8.0, 4.0, 5.0, 7.0, 5.0]\n",
       " [10.0, 14.0, 5.0, 5.0, 3.0, 2.0, 10.0, 8.0, 7.0, 7.0  …  8.0, 6.0, 2.0, 3.0, 6.0, 11.0, 7.0, 5.0, 6.0, 2.0]\n",
       " [5.0, 2.0, 3.0, 6.0, 2.0, 3.0, 4.0, 3.0, 6.0, 2.0  …  6.0, 3.0, 3.0, 2.0, 6.0, 9.0, 5.0, 6.0, 8.0, 5.0]"
      ]
     },
     "execution_count": 2,
     "metadata": {},
     "output_type": "execute_result"
    }
   ],
   "source": [
    "vecd = [dist(mean) for i in 1:n]\n",
    "nonmixed_multivariate_dist = NonMixedMultivariateDistribution(vecd, Γ)\n",
    "\n",
    "Y_Nsample = simulate_nobs_independent_vectors(nonmixed_multivariate_dist, N)"
   ]
  },
  {
   "cell_type": "code",
   "execution_count": 3,
   "metadata": {},
   "outputs": [],
   "source": [
    "Random.seed!(1234)\n",
    "\n",
    "d = Poisson()\n",
    "link = LogLink()\n",
    "D = typeof(d)\n",
    "Link = typeof(link)\n",
    "T = Float64\n",
    "gcs = Vector{GLMCopulaARObs{T, D, Link}}(undef, N)\n",
    "\n",
    "for i in 1:N\n",
    "    y = Float64.(Y_Nsample[i])\n",
    "    X = ones(n, 1)\n",
    "    gcs[i] = GLMCopulaARObs(y, X, d, link)\n",
    "end\n",
    "\n",
    "gcm = GLMCopulaARModel(gcs);"
   ]
  },
  {
   "cell_type": "code",
   "execution_count": 4,
   "metadata": {},
   "outputs": [
    {
     "name": "stdout",
     "output_type": "stream",
     "text": [
      "initializing β using Newton's Algorithm under Independence Assumption\n",
      "1 0.0 -1.1093585944799678e6 39999\n",
      "2 -1.1093585944799678e6 -1.1093585944799678e6 39999\n",
      "gcm.β = [1.613054963012508]\n",
      "exp.(gcm.β) = [5.018117999999999]\n"
     ]
    }
   ],
   "source": [
    "initialize_model!(gcm)\n",
    "@show gcm.β\n",
    "@show exp.(gcm.β);\n",
    "fill!(gcm.ρ, 0.0)\n",
    "fill!(gcm.σ2, 0.0)\n",
    "\n",
    "loglikelihood!(gcm, true, true)\n",
    "\n",
    "gcm2 = deepcopy(gcm)\n",
    "gcm3 = deepcopy(gcm);"
   ]
  },
  {
   "cell_type": "markdown",
   "metadata": {},
   "source": [
    "# Quasi-Newton\n",
    "## Number of Iterations....: 21\n",
    "## 15 seconds"
   ]
  },
  {
   "cell_type": "code",
   "execution_count": 5,
   "metadata": {},
   "outputs": [
    {
     "name": "stdout",
     "output_type": "stream",
     "text": [
      "gcm.θ = [1.613054963012508, 0.0, 0.0]\n",
      "gcm.∇θ = [2.5979574047596543e-10, 0.0, 7034.695979448923]\n",
      "gcm.θ = [1.613054963012508, 0.00999999, 0.00999999]\n",
      "gcm.∇θ = [-2013.5757220422408, 10.383726613141, 3052.1035044366386]\n",
      "\n",
      "******************************************************************************\n",
      "This program contains Ipopt, a library for large-scale nonlinear optimization.\n",
      " Ipopt is released as open source code under the Eclipse Public License (EPL).\n",
      "         For more information visit https://github.com/coin-or/Ipopt\n",
      "******************************************************************************\n",
      "\n",
      "This is Ipopt version 3.13.4, running with linear solver mumps.\n",
      "NOTE: Other linear solvers might be more efficient (see Ipopt documentation).\n",
      "\n",
      "Number of nonzeros in equality constraint Jacobian...:        0\n",
      "Number of nonzeros in inequality constraint Jacobian.:        0\n",
      "Number of nonzeros in Lagrangian Hessian.............:        0\n",
      "\n",
      "Total number of variables............................:        3\n",
      "                     variables with only lower bounds:        1\n",
      "                variables with lower and upper bounds:        1\n",
      "                     variables with only upper bounds:        0\n",
      "Total number of equality constraints.................:        0\n",
      "Total number of inequality constraints...............:        0\n",
      "        inequality constraints with only lower bounds:        0\n",
      "   inequality constraints with lower and upper bounds:        0\n",
      "        inequality constraints with only upper bounds:        0\n",
      "\n",
      "iter    objective    inf_pr   inf_du lg(mu)  ||d||  lg(rg) alpha_du alpha_pr  ls\n",
      "   0  1.1093114e+06 0.00e+00 4.34e+01   0.0 0.00e+00    -  0.00e+00 0.00e+00   0\n",
      "gcm.θ = [1.6087214333064446, 0.01047855446279297, 0.01643481656799263]\n",
      "gcm.∇θ = [7806.146108235591, 15.05353252246098, 2434.6109535796113]\n",
      "   1  1.1093065e+06 0.00e+00 1.11e+02  -1.5 4.25e+01    -  1.12e-03 1.51e-04f 12\n",
      "gcm.θ = [1.6110527448622092, 0.010808307861641641, 0.02411105858034682]\n",
      "gcm.∇θ = [1209.5333805488315, 18.65281408789743, 1298.044064426866]\n",
      "   2  1.1092821e+06 0.00e+00 1.85e+01  -5.0 7.68e-03    -  1.00e+00 1.00e+00f  1\n",
      "gcm.θ = [1.611240058940874, 0.011390819437370366, 0.03427898332217215]\n",
      "gcm.∇θ = [-85.32959227355498, 22.332618929776068, 685.9586119107252]\n",
      "   3  1.1092722e+06 0.00e+00 9.75e+00  -5.2 1.02e-02    -  1.00e+00 1.00e+00f  1\n",
      "gcm.θ = [1.6103921971453607, 0.01257695394315755, 0.04747002353445319]\n",
      "gcm.∇θ = [1203.9214135000923, 25.508629927067247, 354.5304963368913]\n",
      "   4  1.1092661e+06 0.00e+00 1.71e+01  -6.1 1.32e-02    -  1.00e+00 1.00e+00f  1\n",
      "gcm.θ = [1.6113099446077903, 0.014872008088407138, 0.06218398842900033]\n",
      "gcm.∇θ = [-1673.8205965928037, 27.48318629816885, 116.96057760766003]\n",
      "   5  1.1092630e+06 0.00e+00 2.38e+01  -6.6 1.47e-02    -  1.00e+00 1.00e+00f  1\n",
      "gcm.θ = [1.6104668320431452, 0.017391576634630628, 0.07346117811195031]\n",
      "gcm.∇θ = [8.357699186563252, 28.054611594786497, 67.72672898540405]\n",
      "   6  1.1092612e+06 0.00e+00 9.63e-01  -7.2 1.13e-02    -  1.00e+00 1.00e+00f  1\n",
      "gcm.θ = [1.6102444232569169, 0.021226674464934186, 0.08271226331253789]\n",
      "gcm.∇θ = [293.48472747499574, 27.580798248896436, 33.06229587170542]\n",
      "   7  1.1092607e+06 0.00e+00 4.17e+00  -8.1 9.25e-03    -  1.00e+00 1.00e+00f  1\n",
      "gcm.θ = [1.6102070104469062, 0.03242118754055906, 0.09224341932049136]\n",
      "gcm.∇θ = [158.0659045663891, 24.009079039040223, 6.29828553589865]\n",
      "   8  1.1092602e+06 0.00e+00 2.25e+00  -8.3 1.12e-02    -  1.00e+00 1.00e+00f  1\n",
      "gcm.θ = [1.610219830771484, 0.06020900553719638, 0.1005343970828039]\n",
      "gcm.∇θ = [-44.28965870606581, 13.209835247714604, -10.558369193000615]\n",
      "   9  1.1092597e+06 0.00e+00 6.30e-01  -9.3 2.78e-02    -  1.00e+00 1.00e+00f  1\n",
      "gcm.θ = [1.610170977001855, 0.08761930111773714, 0.10010968973642903]\n",
      "gcm.∇θ = [82.68967342812985, 2.2182442499149047, -10.538662852191447]\n",
      "iter    objective    inf_pr   inf_du lg(mu)  ||d||  lg(rg) alpha_du alpha_pr  ls\n",
      "  10  1.1092595e+06 0.00e+00 1.18e+00  -9.5 2.74e-02    -  1.00e+00 1.00e+00f  1\n",
      "gcm.θ = [1.6103335282516413, 0.09227639241877274, 0.09649439103561613]\n",
      "gcm.∇θ = [-237.8221736440879, 0.7106275388682204, -7.672873105738988]\n",
      "  11  1.1092595e+06 0.00e+00 3.38e+00 -11.0 9.31e-03    -  1.00e+00 5.00e-01f  2\n",
      "gcm.θ = [1.6102563238649523, 0.09720172131668883, 0.09052379997153738]\n",
      "gcm.∇θ = [77.4074154551286, -0.5364322762108578, 6.794605201719888]\n",
      "  12  1.1092595e+06 0.00e+00 1.10e+00 -10.8 2.17e-01    -  1.00e+00 2.75e-02f  5\n",
      "gcm.θ = [1.610259068021491, 0.09499191534998119, 0.09367329886846244]\n",
      "gcm.∇θ = [1.5468344489064751, -0.053234948027537476, -0.5325272623000243]\n",
      "  13  1.1092595e+06 0.00e+00 2.20e-02 -11.0 3.15e-03    -  1.00e+00 1.00e+00f  1\n",
      "gcm.θ = [1.6102629038201006, 0.09466781580357332, 0.0933999449594928]\n",
      "gcm.∇θ = [-1.8642288374315035, 0.10449126494898153, 0.03423653062078813]\n",
      "  14  1.1092595e+06 0.00e+00 2.65e-02 -11.0 3.24e-04    -  1.00e+00 1.00e+00f  1\n",
      "gcm.θ = [1.6102620219299117, 0.0949377946599563, 0.09340838612290592]\n",
      "gcm.∇θ = [0.0934250188082606, -0.0018243874574047636, 0.0034975572471740435]\n",
      "  15  1.1092595e+06 0.00e+00 1.33e-03 -11.0 2.70e-04    -  1.00e+00 1.00e+00f  1\n",
      "gcm.θ = [1.6102620165746608, 0.09493127316792425, 0.0934128573721801]\n",
      "gcm.∇θ = [0.009964385433717027, 0.00021021350640224035, -0.005713745820365546]\n",
      "  16  1.1092595e+06 0.00e+00 1.42e-04 -11.0 6.52e-06    -  1.00e+00 1.00e+00f  1\n",
      "gcm.θ = [1.6102620876099063, 0.09493087608781152, 0.0934091979110988]\n",
      "gcm.∇θ = [-0.08306506186439488, 0.0007842510061995822, 0.0010442534133030534]\n",
      "  17  1.1092595e+06 0.00e+00 1.18e-03 -11.0 3.66e-06    -  1.00e+00 1.00e+00f  1\n",
      "gcm.θ = [1.610262042399368, 0.09492943622876981, 0.09340870945404121]\n",
      "gcm.∇θ = [0.036757289406116556, 0.001400707517225347, 0.003281984429661655]\n",
      "  18  1.1092595e+06 0.00e+00 5.23e-04 -11.0 1.84e-04    -  1.00e+00 7.81e-03f  8\n",
      "gcm.θ = [1.6102620454679324, 0.09493277403106934, 0.09340998595569759]\n",
      "gcm.∇θ = [0.001936072659888488, -4.723527338043598e-5, -3.995589567207247e-5]\n",
      "  19  1.1092595e+06 0.00e+00 2.75e-05 -11.0 3.34e-06    -  1.00e+00 1.00e+00f  1\n",
      "gcm.θ = [1.6102620484926127, 0.09493233956592693, 0.09341008260540773]\n",
      "gcm.∇θ = [-0.007470238390301809, 0.00011134479208022019, -0.00027320162191735164]\n",
      "iter    objective    inf_pr   inf_du lg(mu)  ||d||  lg(rg) alpha_du alpha_pr  ls\n",
      "  20  1.1092595e+06 0.00e+00 1.06e-04 -11.0 4.34e-07    -  1.00e+00 1.00e+00f  1\n",
      "gcm.θ = [1.6102620464558202, 0.09493265837438707, 0.09340996400878926]\n",
      "gcm.∇θ = [1.654538718653953e-5, 4.2174424280672085e-7, 1.4005114925552675e-6]\n",
      "  21  1.1092595e+06 0.00e+00 2.35e-07 -11.0 3.19e-07    -  1.00e+00 1.00e+00f  1\n",
      "\n",
      "Number of Iterations....: 21\n",
      "\n",
      "                                   (scaled)                 (unscaled)\n",
      "Objective...............:   1.5768406635381545e+04    1.1092594676023428e+06\n",
      "Dual infeasibility......:   2.3519690452686263e-07    1.6545387186539529e-05\n",
      "Constraint violation....:   0.0000000000000000e+00    0.0000000000000000e+00\n",
      "Complementarity.........:   9.9999999999987602e-12    7.0346959794480507e-10\n",
      "Overall NLP error.......:   2.3519690452686263e-07    1.6545387186539529e-05\n",
      "\n",
      "\n",
      "Number of objective function evaluations             = 61\n",
      "Number of objective gradient evaluations             = 22\n",
      "Number of equality constraint evaluations            = 0\n",
      "Number of inequality constraint evaluations          = 0\n",
      "Number of equality constraint Jacobian evaluations   = 0\n",
      "Number of inequality constraint Jacobian evaluations = 0\n",
      "Number of Lagrangian Hessian evaluations             = 0\n",
      "Total CPU secs in IPOPT (w/o function evaluations)   =      0.383\n",
      "Total CPU secs in NLP function evaluations           =     16.629\n",
      "\n",
      "EXIT: Optimal Solution Found.\n",
      " 17.732268 seconds (844.06 k allocations: 42.744 MiB)\n"
     ]
    },
    {
     "data": {
      "text/plain": [
       "-1.1092594676023428e6"
      ]
     },
     "execution_count": 5,
     "metadata": {},
     "output_type": "execute_result"
    }
   ],
   "source": [
    "@time GLMCopula.fit!(gcm, IpoptSolver(print_level = 5, max_iter = 100, tol = 10^-6, warm_start_init_point=\"yes\", hessian_approximation = \"limited-memory\"))"
   ]
  },
  {
   "cell_type": "markdown",
   "metadata": {},
   "source": [
    "# Newton with mehrotra\n",
    "## Number of Iterations....: 12\n",
    "## 10 seconds "
   ]
  },
  {
   "cell_type": "code",
   "execution_count": 6,
   "metadata": {},
   "outputs": [
    {
     "name": "stdout",
     "output_type": "stream",
     "text": [
      "gcm.θ = [1.613054963012508, 0.0, 0.0]\n",
      "gcm.∇θ = [2.5979574047596543e-10, 0.0, 7034.695979448923]\n",
      "gcm.θ = [1.613054963012508, 0.199999994, 9.99999999]\n",
      "gcm.∇θ = [-9386.860880070397, -107.66898664947571, -0.07224384799637316]\n",
      "This is Ipopt version 3.13.4, running with linear solver mumps.\n",
      "NOTE: Other linear solvers might be more efficient (see Ipopt documentation).\n",
      "\n",
      "Number of nonzeros in equality constraint Jacobian...:        0\n",
      "Number of nonzeros in inequality constraint Jacobian.:        0\n",
      "Number of nonzeros in Lagrangian Hessian.............:        5\n",
      "\n",
      "Total number of variables............................:        3\n",
      "                     variables with only lower bounds:        1\n",
      "                variables with lower and upper bounds:        1\n",
      "                     variables with only upper bounds:        0\n",
      "Total number of equality constraints.................:        0\n",
      "Total number of inequality constraints...............:        0\n",
      "        inequality constraints with only lower bounds:        0\n",
      "   inequality constraints with lower and upper bounds:        0\n",
      "        inequality constraints with only upper bounds:        0\n",
      "\n",
      "iter    objective    inf_pr   inf_du lg(mu)  ||d||  lg(rg) alpha_du alpha_pr  ls\n",
      "   0  1.1093032e+06 0.00e+00 1.33e+02   0.0 0.00e+00    -  0.00e+00 0.00e+00   0\n",
      "gcm.θ = [1.6090940849289839, 0.08140762208991714, 10.119701980697391]\n",
      "gcm.∇θ = [-34.72031123215946, -11.09913224448494, -0.048302446834400894]\n",
      "   1  1.1092775e+06 0.00e+00 4.94e-01  -5.3 1.20e-01  -2.0 9.91e-01 1.00e+00f  1\n",
      "gcm.θ = [1.6090860400746962, 0.06719068446062543, 9.90955817433589]\n",
      "gcm.∇θ = [-14.910400370480765, -0.053646007593177614, -0.049947754705773464]\n",
      "   2  1.1092775e+06 0.00e+00 2.12e-01  -8.2 2.10e-01  -2.5 9.90e-01 1.00e+00f  1\n",
      "gcm.θ = [1.6091165448547107, 0.06714301657544323, 9.126958845082708]\n",
      "gcm.∇θ = [-84.48242165770715, 0.0018830836475490498, -0.05890023431653099]\n",
      "   3  1.1092774e+06 0.00e+00 1.20e+00 -10.6 7.83e-01  -3.0 9.90e-01 1.00e+00f  1\n",
      "gcm.θ = [1.609679005506843, 0.06743880973640957, 0.09126957855082551]\n",
      "gcm.∇θ = [1458.7755224085831, 10.761771829037494, 20.336855678895056]\n",
      "   4  1.1092601e+06 0.00e+00 2.07e+01 -11.0 1.59e+01  -3.4 9.91e-01 5.68e-01f  1\n",
      "gcm.θ = [1.6102745269851142, 0.09496520322587593, 0.09783873072172018]\n",
      "gcm.∇θ = [-122.42149940642496, -0.5082168586635273, -9.306331703245593]\n",
      "   5  1.1092595e+06 0.00e+00 1.74e+00 -11.0 2.75e-02    -  1.00e+00 1.00e+00f  1\n",
      "gcm.θ = [1.6102325012301826, 0.09505490833847545, 0.09288332058925781]\n",
      "gcm.∇θ = [82.84301182930896, 0.012037261406650124, 1.8274377469544367]\n",
      "   6  1.1092595e+06 0.00e+00 1.18e+00 -11.0 4.96e-03    -  1.00e+00 1.00e+00f  1\n",
      "gcm.θ = [1.610264886882556, 0.09487560347142471, 0.09359488062610301]\n",
      "gcm.∇θ = [-10.846117042357474, 0.0012843258697697035, -0.46926142735262566]\n",
      "   7  1.1092595e+06 0.00e+00 1.54e-01 -11.0 7.12e-04    -  1.00e+00 1.00e+00f  1\n",
      "gcm.θ = [1.6102610833077784, 0.094936918806535, 0.09339556982019824]\n",
      "gcm.∇θ = [2.6393993315703934, -4.312654948968042e-5, 0.05268523571968586]\n",
      "   8  1.1092595e+06 0.00e+00 3.75e-02 -11.0 1.99e-04    -  1.00e+00 1.00e+00f  1\n",
      "gcm.θ = [1.6102620926005975, 0.09493122637262175, 0.09341465988250099]\n",
      "gcm.∇θ = [-0.21270689794134068, 2.4727979505756448e-5, -0.011404135385626013]\n",
      "   9  1.1092595e+06 0.00e+00 3.02e-03 -11.0 1.91e-05    -  1.00e+00 1.00e+00f  1\n",
      "gcm.θ = [1.6102620289613219, 0.09493269069390539, 0.09340986671358731]\n",
      "gcm.∇θ = [0.044422257711678625, -1.514199449992315e-6, 0.0005934728009640011]\n",
      "iter    objective    inf_pr   inf_du lg(mu)  ||d||  lg(rg) alpha_du alpha_pr  ls\n",
      "  10  1.1092595e+06 0.00e+00 6.31e-04 -11.0 4.79e-06    -  1.00e+00 1.00e+00f  1\n",
      "gcm.θ = [1.6102620463864588, 0.09493264125938056, 0.09341002261452468]\n",
      "gcm.∇θ = [-0.0010777653927318553, 4.138911565976233e-7, -0.00012715331486123915]\n",
      "  11  1.1092595e+06 0.00e+00 1.53e-05 -11.0 1.56e-07    -  1.00e+00 1.00e+00f  1\n",
      "gcm.θ = [1.6102620463229707, 0.09493265896634817, 0.09340996572466792]\n",
      "gcm.∇θ = [0.00030091684207711467, -8.16113154833431e-9, 3.282322049713571e-7]\n",
      "  12  1.1092595e+06 0.00e+00 4.28e-06 -11.0 5.69e-08    -  1.00e+00 1.00e+00f  1\n",
      "gcm.θ = [1.6102620464542075, 0.0949326592336934, 0.09340996479666476]\n",
      "gcm.∇θ = [3.505175486751e-6, -3.4659658754154776e-9, -4.3733989141259144e-7]\n",
      "  13  1.1092595e+06 0.00e+00 4.98e-08 -11.0 9.28e-10    -  1.00e+00 1.00e+00h  1\n",
      "\n",
      "Number of Iterations....: 13\n",
      "\n",
      "                                   (scaled)                 (unscaled)\n",
      "Objective...............:   1.5768406635381529e+04    1.1092594676023417e+06\n",
      "Dual infeasibility......:   4.9826964761390937e-08    3.5051754867510003e-06\n",
      "Constraint violation....:   0.0000000000000000e+00    0.0000000000000000e+00\n",
      "Complementarity.........:   1.0000000026453694e-11    7.0346959980582931e-10\n",
      "Overall NLP error.......:   4.9826964761390937e-08    3.5051754867510003e-06\n",
      "\n",
      "\n",
      "Number of objective function evaluations             = 14\n",
      "Number of objective gradient evaluations             = 14\n",
      "Number of equality constraint evaluations            = 0\n",
      "Number of inequality constraint evaluations          = 0\n",
      "Number of equality constraint Jacobian evaluations   = 0\n",
      "Number of inequality constraint Jacobian evaluations = 0\n",
      "Number of Lagrangian Hessian evaluations             = 13\n",
      "Total CPU secs in IPOPT (w/o function evaluations)   =      0.339\n",
      "Total CPU secs in NLP function evaluations           =     11.475\n",
      "\n",
      "EXIT: Optimal Solution Found.\n",
      " 12.150582 seconds (452.63 k allocations: 38.986 MiB)\n"
     ]
    },
    {
     "data": {
      "text/plain": [
       "-1.1092594676023417e6"
      ]
     },
     "execution_count": 6,
     "metadata": {},
     "output_type": "execute_result"
    }
   ],
   "source": [
    "@time GLMCopula.fit!(gcm2, IpoptSolver(print_level = 5, max_iter = 100, tol = 10^-6, mehrotra_algorithm=\"yes\", warm_start_init_point=\"yes\", hessian_approximation = \"exact\"))"
   ]
  },
  {
   "cell_type": "code",
   "execution_count": 7,
   "metadata": {},
   "outputs": [
    {
     "name": "stdout",
     "output_type": "stream",
     "text": [
      "gcm.∇θ = [1.654538718653953e-5, 4.2174424280672085e-7, 1.4005114925552675e-6]\n",
      "gcm2.∇θ = [3.505175486751e-6, -3.4659658754154776e-9, -4.3733989141259144e-7]\n"
     ]
    }
   ],
   "source": [
    "@show gcm.∇θ\n",
    "@show gcm2.∇θ;"
   ]
  },
  {
   "cell_type": "code",
   "execution_count": 8,
   "metadata": {},
   "outputs": [
    {
     "name": "stdout",
     "output_type": "stream",
     "text": [
      "gcm.θ = [1.6102620464558202, 0.09493265837438707, 0.09340996400878926]\n",
      "gcm2.θ = [1.6102620464542075, 0.0949326592336934, 0.09340996479666476]\n"
     ]
    }
   ],
   "source": [
    "@show gcm.θ\n",
    "@show gcm2.θ;"
   ]
  },
  {
   "cell_type": "code",
   "execution_count": 9,
   "metadata": {},
   "outputs": [
    {
     "name": "stdout",
     "output_type": "stream",
     "text": [
      "loglikelihood!(gcm, true, true) = -1.1092594676023428e6\n",
      "loglikelihood!(gcm2, true, true) = -1.1092594676023417e6\n"
     ]
    }
   ],
   "source": [
    "@show loglikelihood!(gcm, true, true)\n",
    "@show loglikelihood!(gcm2, true, true);"
   ]
  },
  {
   "cell_type": "code",
   "execution_count": null,
   "metadata": {},
   "outputs": [],
   "source": []
  }
 ],
 "metadata": {
  "@webio": {
   "lastCommId": null,
   "lastKernelId": null
  },
  "kernelspec": {
   "display_name": "Julia 1.5.2",
   "language": "julia",
   "name": "julia-1.5"
  },
  "language_info": {
   "file_extension": ".jl",
   "mimetype": "application/julia",
   "name": "julia",
   "version": "1.5.2"
  }
 },
 "nbformat": 4,
 "nbformat_minor": 4
}
