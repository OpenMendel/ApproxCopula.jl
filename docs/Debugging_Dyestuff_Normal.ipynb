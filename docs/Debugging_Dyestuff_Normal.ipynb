{
 "cells": [
  {
   "cell_type": "markdown",
   "metadata": {},
   "source": [
    "# Form the Normal Regression Random Intercept Model\n",
    "\n",
    "\n",
    "In this notebook we will use the dyestuff dataset from MixedModels to test the fit of our copula model\n",
    "\n",
    "For a single observation, $i = 1$ we will check the following quantities:\n",
    "\n",
    "    (1) Loglikelihood\n",
    "\n",
    "    (2) Gradient with respect to Beta"
   ]
  },
  {
   "cell_type": "code",
   "execution_count": 29,
   "metadata": {},
   "outputs": [],
   "source": [
    "using RDatasets, Test, GLM, LinearAlgebra, GeneralizedCopula\n",
    "using LinearAlgebra: BlasReal, copytri!\n",
    "# Dataframe with columns: Batch (Categorical), Yield (Int32)\n",
    "dyestuff = dataset(\"lme4\", \"Dyestuff\")\n",
    "groups = unique(dyestuff[!, :Batch])\n",
    "n, p, m = length(groups), 1, 1\n",
    "d = Normal()\n",
    "D = typeof(d)\n",
    "gcs = Vector{GLMCopulaVCObs{Float64, D}}(undef, n)\n",
    "for (i, grp) in enumerate(groups)\n",
    "    gidx = dyestuff[!, :Batch] .== grp\n",
    "    ni = count(gidx)\n",
    "    y = Float64.(dyestuff[gidx, :Yield])\n",
    "    X = ones(ni, 1)\n",
    "    V = [ones(ni, ni)]\n",
    "    gcs[i] = GLMCopulaVCObs(y, X, V, d)\n",
    "end\n",
    "gcm = GLMCopulaVCModel(gcs);"
   ]
  },
  {
   "cell_type": "markdown",
   "metadata": {},
   "source": [
    "Initialize β and σ2, here I just copy the solution for β and σ2 from MixedModels.jl over"
   ]
  },
  {
   "cell_type": "code",
   "execution_count": 30,
   "metadata": {},
   "outputs": [
    {
     "name": "stdout",
     "output_type": "stream",
     "text": [
      "gcm.β = [1527.4999999999998]\n",
      "gcm.τ = [0.00033164503710934656]\n",
      "gcm.Σ = [0.8636149140056555]\n"
     ]
    },
    {
     "name": "stderr",
     "output_type": "stream",
     "text": [
      "┌ Info: Initial point:\n",
      "└ @ Main In[30]:2\n"
     ]
    }
   ],
   "source": [
    "# initialize β and τ from least square solution\n",
    "@info \"Initial point:\"\n",
    "initialize_model!(gcm);\n",
    "#gcm.β .= [1527.4999999999998]\n",
    "@show gcm.β\n",
    "# update σ2 and τ from β using the MM algorithm\n",
    "fill!(gcm.Σ, 1)\n",
    "# update_Σ!(gcm, 500, 1e-6, GurobiSolver(OutputFlag=0), true)\n",
    "update_Σ_jensen!(gcm)\n",
    "@show gcm.τ\n",
    "@show gcm.Σ;"
   ]
  },
  {
   "cell_type": "markdown",
   "metadata": {},
   "source": [
    "Closer Look at Observation 1\n",
    "i =1"
   ]
  },
  {
   "cell_type": "code",
   "execution_count": 31,
   "metadata": {},
   "outputs": [
    {
     "data": {
      "text/plain": [
       "5"
      ]
     },
     "execution_count": 31,
     "metadata": {},
     "output_type": "execute_result"
    }
   ],
   "source": [
    "gc = gcm.data[1]\n",
    "β  = gcm.β\n",
    "Σ  = gcm.Σ\n",
    "τ  = gcm.τ\n",
    "\n",
    "n_i  = length(gc.y)"
   ]
  },
  {
   "cell_type": "code",
   "execution_count": 32,
   "metadata": {},
   "outputs": [
    {
     "data": {
      "text/plain": [
       "-164.00082379403617"
      ]
     },
     "execution_count": 32,
     "metadata": {},
     "output_type": "execute_result"
    }
   ],
   "source": [
    "loglikelihood2!(gcm, true, true)"
   ]
  },
  {
   "cell_type": "markdown",
   "metadata": {},
   "source": [
    "## Loglikelihood for observation i = 1, j in [1, n_1]\n",
    "$$\\mathcal{L}(\\mathbf{beta})_1 =  - \\ln \\Big[1\\! +\\! \\frac{1}{2}tr(\\mathbf{\\Gamma_{1}})\\Big] +\n",
    "    \\ln \\Big\\{1\\!+\\!\\frac{1}{2}\\mathbf{r_1}(\\mathbf{\\beta})^t \\mathbf{\\Gamma_1} \\mathbf{r_1}(\\mathbf{\\beta})\\Big\\} +  \\sum_{j=1}^{n_1} N(\\mu_j , \\sigma_j ^ 2)$$"
   ]
  },
  {
   "cell_type": "markdown",
   "metadata": {},
   "source": [
    "### First I want to check if the mean and residuals are updated and standardized at this point"
   ]
  },
  {
   "cell_type": "code",
   "execution_count": 33,
   "metadata": {},
   "outputs": [
    {
     "name": "stdout",
     "output_type": "stream",
     "text": [
      "gc.varμ = [1.0, 1.0, 1.0, 1.0, 1.0]\n",
      "gc.dμ = [1.0, 1.0, 1.0, 1.0, 1.0]\n",
      "gc.res = [0.31869466988755873, -1.5934733494377689, -1.5934733494377689, -0.13658342995180497, 0.9560840096626679]\n"
     ]
    },
    {
     "data": {
      "text/plain": [
       "5-element Array{Float64,1}:\n",
       "  0.31869466988755873\n",
       " -1.5934733494377689\n",
       " -1.5934733494377689\n",
       " -0.13658342995180497\n",
       "  0.9560840096626679"
      ]
     },
     "execution_count": 33,
     "metadata": {},
     "output_type": "execute_result"
    }
   ],
   "source": [
    "@test gc.η == gc.X*β                        # systematic linear component\n",
    "@test gc.μ == gc.η                          # mu = ginverse of XB = mean component for GLM = [p]\n",
    "@show gc.varμ\n",
    "@show gc.dμ\n",
    "@test gc.res ≈ (gc.y - gc.μ)                # not standardized for normal\n",
    "\n",
    "gc.res .*= sqrt(τ[1])                       # standardized residual for GLM\n",
    "@show gc.res "
   ]
  },
  {
   "cell_type": "markdown",
   "metadata": {},
   "source": [
    "### Next I want to check if the hard coded terms in the loglikelihood are correct\n",
    "\n",
    "$$\\text{Term 1 }= - \\ln \\Big[1\\! +\\! \\frac{1}{2}tr(\\mathbf{\\Gamma_{1}})\\Big]$$"
   ]
  },
  {
   "cell_type": "code",
   "execution_count": 34,
   "metadata": {},
   "outputs": [
    {
     "name": "stdout",
     "output_type": "stream",
     "text": [
      "trace_gamma_half = 2.1590372850141386\n",
      "term1 = -1.150267324540463\n"
     ]
    }
   ],
   "source": [
    "# term 1:\n",
    "trace_gamma = Σ[1]*tr(gc.V[1])\n",
    "@test trace_gamma ≈ n_i*Σ[1]\n",
    "\n",
    "trace_gamma_half = trace_gamma/2\n",
    "@show trace_gamma_half\n",
    "\n",
    "term1 = -log(1 + trace_gamma_half)\n",
    "@show term1;"
   ]
  },
  {
   "cell_type": "markdown",
   "metadata": {},
   "source": [
    "$$\\text{Term 2} = \\ln \\Big\\{1\\!+\\!\\frac{1}{2}\\mathbf{r_1}(\\mathbf{\\beta})^t \\mathbf{\\Gamma_1} \\mathbf{r_1}(\\mathbf{\\beta})\\Big\\}$$"
   ]
  },
  {
   "cell_type": "code",
   "execution_count": 35,
   "metadata": {},
   "outputs": [
    {
     "name": "stdout",
     "output_type": "stream",
     "text": [
      "quad_form_standardized_res_half = 1.812461063788311\n",
      "term2 = 1.0340599234483314\n"
     ]
    },
    {
     "data": {
      "text/plain": [
       "1.0340599234483314"
      ]
     },
     "execution_count": 35,
     "metadata": {},
     "output_type": "execute_result"
    }
   ],
   "source": [
    "# term 2:\n",
    "quad_form_standardized_res_half = (Σ[1]*transpose(gc.res)*gc.V[1]*gc.res)/2\n",
    "@show quad_form_standardized_res_half\n",
    "\n",
    "term2 = log(1 + quad_form_standardized_res_half) \n",
    "@show term2"
   ]
  },
  {
   "cell_type": "markdown",
   "metadata": {},
   "source": [
    "### In the loglikelihood function I have:"
   ]
  },
  {
   "cell_type": "markdown",
   "metadata": {},
   "source": [
    "$$\\text{Term1 + Term2} =  - \\ln \\Big[1\\! +\\! \\frac{1}{2}tr(\\mathbf{\\Gamma_{1}})\\Big] +\n",
    "\\ln \\Big\\{1\\!+\\!\\frac{1}{2}\\mathbf{r_1}(\\mathbf{\\beta})^t \\mathbf{\\Gamma_1} \\mathbf{r_1}(\\mathbf{\\beta})\\Big\\}$$"
   ]
  },
  {
   "cell_type": "code",
   "execution_count": 36,
   "metadata": {},
   "outputs": [
    {
     "name": "stdout",
     "output_type": "stream",
     "text": [
      "logl_hard_coded_obs1 = -0.11620740109213168\n",
      "copula_logl_function = -0.11620740109213168\n"
     ]
    },
    {
     "data": {
      "text/plain": [
       "\u001b[32m\u001b[1mTest Passed\u001b[22m\u001b[39m"
      ]
     },
     "execution_count": 36,
     "metadata": {},
     "output_type": "execute_result"
    }
   ],
   "source": [
    "logl_hard_coded_obs1 = term1 + term2\n",
    "copula_logl_function = GeneralizedCopula.copula_loglikelihood_addendum(gc, Σ)\n",
    "\n",
    "@show logl_hard_coded_obs1\n",
    "@show copula_logl_function\n",
    "\n",
    "@test copula_logl_function == logl_hard_coded_obs1"
   ]
  },
  {
   "cell_type": "markdown",
   "metadata": {},
   "source": [
    "### Part of Loglikelihood that comes from the Density using GLM.jl\n",
    "\n",
    "$$\\text{Term 3}$$"
   ]
  },
  {
   "cell_type": "code",
   "execution_count": 37,
   "metadata": {},
   "outputs": [
    {
     "data": {
      "text/plain": [
       "-27.67962227699931"
      ]
     },
     "execution_count": 37,
     "metadata": {},
     "output_type": "execute_result"
    }
   ],
   "source": [
    "logl_component_normal = 0.0\n",
    "logl_component_normal += component_loglikelihood(gc, τ[1], 0.0)"
   ]
  },
  {
   "cell_type": "code",
   "execution_count": 38,
   "metadata": {},
   "outputs": [
    {
     "data": {
      "text/plain": [
       "\u001b[32m\u001b[1mTest Passed\u001b[22m\u001b[39m"
      ]
     },
     "execution_count": 38,
     "metadata": {},
     "output_type": "execute_result"
    }
   ],
   "source": [
    "function copula_loglikelihoods(gc::Union{GLMCopulaVCObs{T, D}, GaussianCopulaVCObs{T, D}}, β::Vector{T}, τ::T,\n",
    "    Σ::Vector{T}) where {T<: Real, D}\n",
    "  # first get the loglikelihood from the component density with glm.jl\n",
    "  logl = 0.0\n",
    "  update_res!(gc, β)\n",
    "    if GLM.dispersion_parameter(gc.d)\n",
    "        fill!(gc.varμ, inv(τ))\n",
    "    end\n",
    "    standardize_res!(gc)\n",
    "    logl += GeneralizedCopula.copula_loglikelihood_addendum(gc, Σ)\n",
    "    logl += GeneralizedCopula.component_loglikelihood(gc, τ, zero(T))\n",
    "  logl\n",
    "end\n",
    "\n",
    "logl_functions = copula_loglikelihoods(gc, β, τ[1], Σ)\n",
    "\n",
    "@test logl_functions == -27.795829678091444"
   ]
  },
  {
   "cell_type": "markdown",
   "metadata": {},
   "source": [
    "# A Closer Look at the Gradient for observation i=1\n",
    "\n",
    "$$\\begin{eqnarray*}\n",
    "\\nabla_\\beta &=& \\sum_{i=1}^n \\sum_j \\nabla \\ln f_{ij}(y_{ij} \\mid \\mathbf{\\beta}) + \\sum_{i=1}^n\n",
    "\\frac{\\nabla \\mathbf{r_i(\\mathbf{\\beta})}\\mathbf{\\Gamma_i}\\mathbf{r_i(\\mathbf{\\beta})}}{1+\\frac{1}{2}\\mathbf{r_i}(\\mathbf{\\beta})^t \\mathbf{\\Gamma_i} \\mathbf{r_i(\\mathbf{\\beta})}}\n",
    "\\end{eqnarray*}\n",
    "$$\n",
    "\n",
    "The gradient is made of two terms. The first is from the GLM component loglikelihood that corresponds to the Logistic Regression density. The second part is specific to our copula model. We start with Term 1 for observation 1:\n",
    "\n",
    "$$\\begin{eqnarray*}\n",
    "    \\text{Term 1} &=& \\sum_{j=1}^{n_1} \\frac{(y_{1j}-\\mu_{1j}) \\mu_{1j}'(\\eta_{1j})}{\\sigma_{1j}^2} \\mathbf{x}_{1j}= \\mathbf{X_1}^T \\mathbf{W_{11}}(\\mathbf{Y_1}-\\boldsymbol{\\mu_1}) \n",
    "\\end{eqnarray*}\n",
    "$$\n",
    "\n",
    "We will check if the field $\\mu_{1j}'$ or `mueta` from the GLM.jl package matches our theoretical value"
   ]
  },
  {
   "cell_type": "code",
   "execution_count": 39,
   "metadata": {},
   "outputs": [
    {
     "data": {
      "text/plain": [
       "1-element Array{Float64,1}:\n",
       " -0.037310066674801114"
      ]
     },
     "execution_count": 39,
     "metadata": {},
     "output_type": "execute_result"
    }
   ],
   "source": [
    "term1_grad_fctn = GeneralizedCopula.glm_gradient(gc, β, τ) "
   ]
  },
  {
   "cell_type": "code",
   "execution_count": 40,
   "metadata": {},
   "outputs": [
    {
     "name": "stdout",
     "output_type": "stream",
     "text": [
      "score = [-112.49999999999886]\n",
      "score * τ[1] = [-0.037310066674801114]\n"
     ]
    },
    {
     "data": {
      "text/plain": [
       "1-element Array{Float64,1}:\n",
       " -0.037310066674801114"
      ]
     },
     "execution_count": 40,
     "metadata": {},
     "output_type": "execute_result"
    }
   ],
   "source": [
    "score = transpose(gc.X)*(gc.y - gc.μ)\n",
    "@show score\n",
    "@show score * τ[1]"
   ]
  },
  {
   "cell_type": "markdown",
   "metadata": {},
   "source": [
    "### Copula density specific gradient portion\n",
    "\n",
    "$$ \\text{Term 2} = \\frac{\\nabla \\mathbf{r_1(\\mathbf{\\beta})}^\\top\\mathbf{\\Gamma_1}\\mathbf{r_1(\\mathbf{\\beta})}}{1+\\frac{1}{2}\\mathbf{r_1}(\\mathbf{\\beta})^t \\mathbf{\\Gamma_i} \\mathbf{r_1(\\mathbf{\\beta})}}\n",
    "$$\n",
    "\n",
    "Notice the second term uses a critical value that will come up in the Hessian as well. For the first observation, $i = 1,$ we have $n_1 = 316$ and $p = 2$ in the VerbAgg dataset. $\\nabla \\mathbf{r_1(\\mathbf{\\beta})}$ which is an $316 \\times 2$ matrix of differentials. \n",
    "\n",
    "Each column of $\\nabla \\mathbf{r_1(\\mathbf{\\beta})}^\\top$ is a $p \\times 1$ vector $\\nabla r_{1j}(\\mathbf{\\beta})$\n",
    "\n",
    "$$\n",
    "\\begin{eqnarray*}\n",
    "\\nabla r_{1j}(\\mathbf{\\beta}) &=&  -\\frac{1}{\\sigma_{1j}(\\mathbf{\\beta})} \\nabla \\mu_{1j}(\\mathbf{\\beta})- \\frac{1}{2} \\frac{y_{1j}-\\mu_{1j}(\\mathbf{\\beta})}{\\sigma_{1j}^3(\\mathbf{\\beta})} \\nabla \\sigma_{1j}^2(\\mathbf{\\beta})\\\\\n",
    "&=&  -\\frac{1}{\\sigma_{1j}(\\mathbf{\\beta})} \\nabla \\mu_{1j}(\\mathbf{\\beta})- \\frac{1}{2\\sigma_{1j}^2(\\mathbf{\\beta})}r_{1j}(\\mathbf{\\beta}) \\nabla \\sigma_{1j}^2(\\mathbf{\\beta})\n",
    "\\end{eqnarray*}\n",
    "$$\n",
    "\n",
    "\n",
    "where \n",
    "$$    \\begin{eqnarray*}\n",
    "    \\nabla \\mu_{1j}(\\mathbf{\\beta}) &=& \\frac{d\\mu_{1j}(\\mathbf{\\beta})}{d\\eta_{1j}(\\mathbf{\\beta})} \\frac{d\\eta_{1j}(\\mathbf{\\beta})}{d\\mathbf{\\beta}} = -1 * \\mathbf{x_{1j}} \\\\\n",
    "    &=& - \\mathbf{x_{1j}}\n",
    "\\end{eqnarray*}$$"
   ]
  },
  {
   "cell_type": "code",
   "execution_count": 41,
   "metadata": {},
   "outputs": [
    {
     "name": "stdout",
     "output_type": "stream",
     "text": [
      "∇μβ1 = [1.0]\n",
      "∇μβ2 = [1.0]\n",
      "∇μβend = [1.0]\n"
     ]
    },
    {
     "data": {
      "text/plain": [
       "1-element Array{Float64,1}:\n",
       " 1.0"
      ]
     },
     "execution_count": 41,
     "metadata": {},
     "output_type": "execute_result"
    }
   ],
   "source": [
    "# for j = 1 and j = 2, ..., j = end; lets take a look at the first two columns \n",
    "∇μβ1 = gc.X[1, :]\n",
    "∇μβ2 = gc.X[2, :]\n",
    "# ...\n",
    "∇μβend = gc.X[end, :]\n",
    "\n",
    "@show ∇μβ1\n",
    "@show ∇μβ2\n",
    "@show ∇μβend"
   ]
  },
  {
   "cell_type": "code",
   "execution_count": 42,
   "metadata": {},
   "outputs": [
    {
     "data": {
      "text/plain": [
       "1×5 Array{Float64,2}:\n",
       " 1.0  1.0  1.0  1.0  1.0"
      ]
     },
     "execution_count": 42,
     "metadata": {},
     "output_type": "execute_result"
    }
   ],
   "source": [
    "∇μη = ones(n_i)\n",
    "∇ηβ = gc.X\n",
    "\n",
    "∇μβ = transpose(∇ηβ)*Diagonal(∇μη)"
   ]
  },
  {
   "cell_type": "markdown",
   "metadata": {},
   "source": [
    "and  \n",
    "$$    \\begin{eqnarray*}\n",
    "    \\nabla \\sigma_{1j}^2(\\mathbf{\\beta}) &=&\n",
    "    \\frac{d\\sigma_{1j}^2(\\mathbf{\\beta})}{d\\mu_{1j}(\\mathbf{\\beta})} \\frac{d\\mu_{1j}(\\mathbf{\\beta})}{d\\eta_{1j}(\\mathbf{\\beta})} \\frac{d\\eta_{1j}(\\mathbf{\\beta})}{d\\mathbf{\\beta}} =\n",
    "    0 * - \\mathbf{x_{1j}}\\\\\n",
    "\\end{eqnarray*}$$"
   ]
  },
  {
   "cell_type": "code",
   "execution_count": 43,
   "metadata": {},
   "outputs": [
    {
     "name": "stdout",
     "output_type": "stream",
     "text": [
      "∇σ2β1 = [0.0]\n",
      "∇σ2β2 = [0.0]\n",
      "∇σ2βend = [0.0]\n"
     ]
    },
    {
     "data": {
      "text/plain": [
       "1×5 Array{Float64,2}:\n",
       " 0.0  0.0  0.0  0.0  0.0"
      ]
     },
     "execution_count": 43,
     "metadata": {},
     "output_type": "execute_result"
    }
   ],
   "source": [
    "# for j = 1 and j = 2 ,... , j = end; lets take a look at the first two columns \n",
    "∇σ2β1 = 0 .* gc.X[1, :]\n",
    "∇σ2β2 = 0 .* gc.X[2, :]\n",
    "# ...\n",
    "∇σ2βend = 0 .* gc.X[end, :]\n",
    "\n",
    "@show ∇σ2β1\n",
    "@show ∇σ2β2\n",
    "@show ∇σ2βend\n",
    "\n",
    "∇σ2β = transpose(gc.X)* Diagonal(zeros(n_i))"
   ]
  },
  {
   "cell_type": "code",
   "execution_count": 44,
   "metadata": {},
   "outputs": [
    {
     "data": {
      "text/plain": [
       "5×1 Array{Float64,2}:\n",
       " -1.0\n",
       " -1.0\n",
       " -1.0\n",
       " -1.0\n",
       " -1.0"
      ]
     },
     "execution_count": 44,
     "metadata": {},
     "output_type": "execute_result"
    }
   ],
   "source": [
    "gc = std_res_differential!(gc)\n",
    "gc.∇resβ"
   ]
  },
  {
   "cell_type": "markdown",
   "metadata": {},
   "source": [
    "### Gradient portion of Copula specific model\n",
    "\n",
    "$$\\begin{eqnarray*}\n",
    "\\text{Term 2} &=& \\sum_{i=1}^n\n",
    "\\frac{\\nabla \\mathbf{r_i(\\mathbf{\\beta})}\\mathbf{\\Gamma_i}\\mathbf{r_i(\\mathbf{\\beta})}}{1+\\frac{1}{2}\\mathbf{r_i}(\\mathbf{\\beta})^t \\mathbf{\\Gamma_i} \\mathbf{r_i(\\mathbf{\\beta})}}\n",
    "\\end{eqnarray*}\n",
    "$$\n",
    "\n",
    "Again for observation $ i = 1$ we have:  \n",
    "\n",
    "$$ \\text{Term 2} = \\frac{\\nabla \\mathbf{r_1(\\mathbf{\\beta})}^\\top\\mathbf{\\Gamma_1}\\mathbf{r_1(\\mathbf{\\beta})}}{1+\\frac{1}{2}\\mathbf{r_1}(\\mathbf{\\beta})^t \\mathbf{\\Gamma_i} \\mathbf{r_1(\\mathbf{\\beta})}}\n",
    "$$"
   ]
  },
  {
   "cell_type": "code",
   "execution_count": 45,
   "metadata": {},
   "outputs": [
    {
     "name": "stdout",
     "output_type": "stream",
     "text": [
      "grad_t2_numerator = [8.846661533432094]\n",
      "quadratic_form_half = 1.812461063788311\n",
      "grad_t2_denominator = 0.3555604779299687\n"
     ]
    },
    {
     "data": {
      "text/plain": [
       "1-element Array{Float64,1}:\n",
       " 0.05728351307289227"
      ]
     },
     "execution_count": 45,
     "metadata": {},
     "output_type": "execute_result"
    }
   ],
   "source": [
    "Γ1 = Σ[1]*gc.V[1]\n",
    "\n",
    "grad_t2_numerator = transpose(gc.∇resβ) * Γ1 * gc.res       # new term ∇resβ^t * Γ * res\n",
    "@show grad_t2_numerator\n",
    "\n",
    "quadratic_form_half = (transpose(gc.res) * Γ1 * gc.res)/2\n",
    "@show quadratic_form_half \n",
    "@test quadratic_form_half ≈ quad_form_standardized_res_half # from the loglikelihood 'qsum'\n",
    "\n",
    "grad_t2_denominator = inv(1 + quadratic_form_half)\n",
    "@show grad_t2_denominator\n",
    "\n",
    "gradient_term2 = grad_t2_numerator * grad_t2_denominator * sqrt(τ[1])"
   ]
  },
  {
   "cell_type": "code",
   "execution_count": 46,
   "metadata": {},
   "outputs": [
    {
     "data": {
      "text/plain": [
       "1-element Array{Float64,1}:\n",
       " 0.05728351307289226"
      ]
     },
     "execution_count": 46,
     "metadata": {},
     "output_type": "execute_result"
    }
   ],
   "source": [
    "gradient_term2_function = GeneralizedCopula.copula_gradient_addendum(gc, β, τ[1], Σ)"
   ]
  },
  {
   "cell_type": "code",
   "execution_count": 47,
   "metadata": {},
   "outputs": [
    {
     "data": {
      "text/plain": [
       "1-element Array{Float64,1}:\n",
       " 0.019973446398091156"
      ]
     },
     "execution_count": 47,
     "metadata": {},
     "output_type": "execute_result"
    }
   ],
   "source": [
    "gradient_hard_code = term1_grad_fctn + gradient_term2"
   ]
  },
  {
   "cell_type": "code",
   "execution_count": 48,
   "metadata": {},
   "outputs": [
    {
     "data": {
      "text/plain": [
       "1-element Array{Float64,1}:\n",
       " 0.01997344639809115"
      ]
     },
     "execution_count": 48,
     "metadata": {},
     "output_type": "execute_result"
    }
   ],
   "source": [
    "function copula_gradient(gc::GLMCopulaVCObs{T, D}, β, τ, Σ)  where {T<:BlasReal, D}\n",
    "    fill!(gc.∇β, 0.0)\n",
    "    gc.∇β .= GeneralizedCopula.glm_gradient(gc, β, τ) .+ GeneralizedCopula.copula_gradient_addendum(gc, β, τ[1], Σ)\n",
    "end\n",
    "\n",
    "full_gradient_function = copula_gradient(gc, β, τ, Σ)"
   ]
  },
  {
   "cell_type": "code",
   "execution_count": 49,
   "metadata": {},
   "outputs": [
    {
     "name": "stdout",
     "output_type": "stream",
     "text": [
      "loglikelihood2!(gcm, true, true) = -164.00082379403617\n"
     ]
    },
    {
     "data": {
      "text/plain": [
       "-164.00082379403617"
      ]
     },
     "execution_count": 49,
     "metadata": {},
     "output_type": "execute_result"
    }
   ],
   "source": [
    "@show loglikelihood2!(gcm, true, true)"
   ]
  },
  {
   "cell_type": "code",
   "execution_count": 50,
   "metadata": {},
   "outputs": [
    {
     "name": "stdout",
     "output_type": "stream",
     "text": [
      "This is Ipopt version 3.13.2, running with linear solver mumps.\n",
      "NOTE: Other linear solvers might be more efficient (see Ipopt documentation).\n",
      "\n",
      "Starting derivative checker for first derivatives.\n",
      "\n",
      "\n",
      "No errors detected by derivative checker.\n",
      "\n",
      "Number of nonzeros in equality constraint Jacobian...:        0\n",
      "Number of nonzeros in inequality constraint Jacobian.:        0\n",
      "Number of nonzeros in Lagrangian Hessian.............:        0\n",
      "\n",
      "Total number of variables............................:        1\n",
      "                     variables with only lower bounds:        0\n",
      "                variables with lower and upper bounds:        0\n",
      "                     variables with only upper bounds:        0\n",
      "Total number of equality constraints.................:        0\n",
      "Total number of inequality constraints...............:        0\n",
      "        inequality constraints with only lower bounds:        0\n",
      "   inequality constraints with lower and upper bounds:        0\n",
      "        inequality constraints with only upper bounds:        0\n",
      "\n",
      "iter    objective    inf_pr   inf_du lg(mu)  ||d||  lg(rg) alpha_du alpha_pr  ls\n",
      "   0  1.6400082e+02 0.00e+00 6.56e-02   0.0 0.00e+00    -  0.00e+00 0.00e+00   0\n",
      "   1  1.6399653e+02 0.00e+00 6.53e-02 -11.0 6.56e-02    -  1.00e+00 1.00e+00f  1\n",
      "   2  1.6338270e+02 0.00e+00 3.95e-02 -11.0 1.28e+01    -  1.00e+00 1.00e+00f  1\n",
      "   3  1.6337100e+02 0.00e+00 2.87e-02 -11.0 1.97e+01    -  1.00e+00 1.25e-01f  4\n",
      "   4  1.6335549e+02 0.00e+00 1.07e-03 -11.0 1.03e+00    -  1.00e+00 1.00e+00f  1\n",
      "   5  1.6335546e+02 0.00e+00 3.06e-05 -11.0 4.02e-02    -  1.00e+00 1.00e+00f  1\n",
      "   6  1.6335546e+02 0.00e+00 9.79e-07 -11.0 1.12e-03    -  1.00e+00 1.00e+00f  1\n",
      "   7  1.6335546e+02 0.00e+00 6.46e-07 -11.0 3.69e-05    -  1.00e+00 1.00e+00f  1\n",
      "   8  1.6335546e+02 0.00e+00 8.17e-07 -11.0 7.17e-05    -  1.00e+00 1.00e+00f  1\n",
      "   9  1.6335546e+02 0.00e+00 6.65e-07 -11.0 4.00e-05    -  1.00e+00 1.00e+00f  1\n",
      "iter    objective    inf_pr   inf_du lg(mu)  ||d||  lg(rg) alpha_du alpha_pr  ls\n",
      "  10  1.6335545e+02 0.00e+00 4.78e-07 -11.0 1.80e-05    -  1.00e+00 1.00e+00f  1\n",
      "  11  1.6335545e+02 0.00e+00 6.89e-07 -11.0 4.60e-05    -  1.00e+00 1.00e+00f  1\n",
      "  12  1.6335545e+02 0.00e+00 5.45e-08 -11.0 2.71e-05    -  1.00e+00 1.00e+00f  1\n",
      "  13  1.6335545e+02 0.00e+00 5.43e-12 -11.0 1.99e-06    -  1.00e+00 1.00e+00f  1\n",
      "\n",
      "Number of Iterations....: 13\n",
      "\n",
      "                                   (scaled)                 (unscaled)\n",
      "Objective...............:   1.6335545423302071e+02    1.6335545423302071e+02\n",
      "Dual infeasibility......:   5.4336118937570177e-12    5.4336118937570177e-12\n",
      "Constraint violation....:   0.0000000000000000e+00    0.0000000000000000e+00\n",
      "Complementarity.........:   0.0000000000000000e+00    0.0000000000000000e+00\n",
      "Overall NLP error.......:   5.4336118937570177e-12    5.4336118937570177e-12\n",
      "\n",
      "\n",
      "Number of objective function evaluations             = 21\n",
      "Number of objective gradient evaluations             = 14\n",
      "Number of equality constraint evaluations            = 0\n",
      "Number of inequality constraint evaluations          = 0\n",
      "Number of equality constraint Jacobian evaluations   = 0\n",
      "Number of inequality constraint Jacobian evaluations = 0\n",
      "Number of Lagrangian Hessian evaluations             = 0\n",
      "Total CPU secs in IPOPT (w/o function evaluations)   =      0.029\n",
      "Total CPU secs in NLP function evaluations           =      0.335\n",
      "\n",
      "EXIT: Optimal Solution Found.\n",
      "  0.368727 seconds (1.01 k allocations: 92.656 KiB)\n"
     ]
    },
    {
     "data": {
      "text/plain": [
       "GLMCopulaVCModel{Float64,Normal{Float64}}(GLMCopulaVCObs{Float64,Normal{Float64}}[GLMCopulaVCObs{Float64,Normal{Float64}}([1545.0, 1440.0, 1440.0, 1520.0, 1580.0], [1.0; 1.0; … ; 1.0; 1.0], [[1.0 1.0 … 1.0 1.0; 1.0 1.0 … 1.0 1.0; … ; 1.0 1.0 … 1.0 1.0; 1.0 1.0 … 1.0 1.0]], [-0.009332475479925655], [-1.0; -1.0; … ; -1.0; -1.0], [2.2470135217e-314], [1.5e-323], [-14.894316220056414], [2.1219957924e-314], [0.05966153756787458, -1.894018152216939, -1.894018152216939, -0.40550029333327153, 0.7108881008294792], [2.5], [5.858419862007839], [5.0], [-3.4229869593697955, -3.4229869593697955, -3.4229869593697955, -3.4229869593697955, -3.4229869593697955], [NaN], [1541.7935063882878, 1541.7935063882878, 1541.7935063882878, 1541.7935063882878, 1541.7935063882878], [1541.7935063882878, 1541.7935063882878, 1541.7935063882878, 1541.7935063882878, 1541.7935063882878], [1.0, 1.0, 1.0, 1.0, 1.0], [1.0, 1.0, 1.0, 1.0, 1.0], Normal{Float64}(μ=0.0, σ=1.0), [1.0, 1.0, 1.0, 1.0, 1.0], [1.0, 1.0, 1.0, 1.0, 1.0]), GLMCopulaVCObs{Float64,Normal{Float64}}([1540.0, 1555.0, 1490.0, 1560.0, 1495.0], [1.0; 1.0; … ; 1.0; 1.0], [[1.0 1.0 … 1.0 1.0; 1.0 1.0 … 1.0 1.0; … ; 1.0 1.0 … 1.0 1.0; 1.0 1.0 … 1.0 1.0]], [0.12111576686769117], [-1.0; -1.0; … ; -1.0; -1.0], [2.2470136165e-314], [3.0e-323], [-5.0385795111006875], [2.2224270444e-314], [-0.033370828612354644, 0.24572626992833302, -0.9636944904146468, 0.33875863610856227, -0.8706621242344177], [2.5], [0.8233557046712168], [5.0], [-1.283242537224524, -1.283242537224524, -1.283242537224524, -1.283242537224524, -1.283242537224524], [2.301273977e-314], [1541.7935063882878, 1541.7935063882878, 1541.7935063882878, 1541.7935063882878, 1541.7935063882878], [1541.7935063882878, 1541.7935063882878, 1541.7935063882878, 1541.7935063882878, 1541.7935063882878], [1.0, 1.0, 1.0, 1.0, 1.0], [1.0, 1.0, 1.0, 1.0, 1.0], Normal{Float64}(μ=0.0, σ=1.0), [1.0, 1.0, 1.0, 1.0, 1.0], [1.0, 1.0, 1.0, 1.0, 1.0]), GLMCopulaVCObs{Float64,Normal{Float64}}([1595.0, 1550.0, 1605.0, 1510.0, 1560.0], [1.0; 1.0; … ; 1.0; 1.0], [[1.0 1.0 … 1.0 1.0; 1.0 1.0 … 1.0 1.0; … ; 1.0 1.0 … 1.0 1.0; 1.0 1.0 … 1.0 1.0]], [-0.0516234016811736], [-1.0; -1.0; … ; -1.0; -1.0], [2.247013585e-314], [2.24701368e-314], [-11.186939068869656], [2.2470299563e-314], [0.9899851993701668, 0.1526939037481038, 1.1760499317306252, -0.5915650256937299, 0.33875863610856227], [2.5], [2.1340181881067397], [5.0], [2.065922645263728, 2.065922645263728, 2.065922645263728, 2.065922645263728, 2.065922645263728], [0.0], [1541.7935063882878, 1541.7935063882878, 1541.7935063882878, 1541.7935063882878, 1541.7935063882878], [1541.7935063882878, 1541.7935063882878, 1541.7935063882878, 1541.7935063882878, 1541.7935063882878], [1.0, 1.0, 1.0, 1.0, 1.0], [1.0, 1.0, 1.0, 1.0, 1.0], Normal{Float64}(μ=0.0, σ=1.0), [1.0, 1.0, 1.0, 1.0, 1.0], [1.0, 1.0, 1.0, 1.0, 1.0]), GLMCopulaVCObs{Float64,Normal{Float64}}([1445.0, 1440.0, 1595.0, 1465.0, 1545.0], [1.0; 1.0; … ; 1.0; 1.0], [[1.0 1.0 … 1.0 1.0; 1.0 1.0 … 1.0 1.0; … ; 1.0 1.0 … 1.0 1.0; 1.0 1.0 … 1.0 1.0]], [-0.030137979322970528], [-1.0; -1.0; … ; -1.0; -1.0], [2.691e-320], [NaN], [-12.942595381453065], [2.5217910713e-314], [-1.8009857860367098, -1.894018152216939, 0.9899851993701668, -1.428856321315793, 0.05966153756787458], [2.5], [8.299607913996281], [5.0], [-4.0742135226314, -4.0742135226314, -4.0742135226314, -4.0742135226314, -4.0742135226314], [2.2470135217e-314], [1541.7935063882878, 1541.7935063882878, 1541.7935063882878, 1541.7935063882878, 1541.7935063882878], [1541.7935063882878, 1541.7935063882878, 1541.7935063882878, 1541.7935063882878, 1541.7935063882878], [1.0, 1.0, 1.0, 1.0, 1.0], [1.0, 1.0, 1.0, 1.0, 1.0], Normal{Float64}(μ=0.0, σ=1.0), [1.0, 1.0, 1.0, 1.0, 1.0], [1.0, 1.0, 1.0, 1.0, 1.0]), GLMCopulaVCObs{Float64,Normal{Float64}}([1595.0, 1630.0, 1515.0, 1635.0, 1625.0], [1.0; 1.0; … ; 1.0; 1.0], [[1.0 1.0 … 1.0 1.0; 1.0 1.0 … 1.0 1.0; … ; 1.0 1.0 … 1.0 1.0; 1.0 1.0 … 1.0 1.0]], [0.0663953042768099], [-1.0; -1.0; … ; -1.0; -1.0], [2.2473834543e-314], [2.1219957915e-314], [-7.0688946723585975], [2.2206735303e-314], [0.9899851993701668, 1.6412117626317713, -0.49853265951350073, 1.7342441288120005, 1.5481793964515422], [2.5], [14.66158809113383], [5.0], [5.4150878277519805, 5.4150878277519805, 5.4150878277519805, 5.4150878277519805, 5.4150878277519805], [2.2470135217e-314], [1541.7935063882878, 1541.7935063882878, 1541.7935063882878, 1541.7935063882878, 1541.7935063882878], [1541.7935063882878, 1541.7935063882878, 1541.7935063882878, 1541.7935063882878, 1541.7935063882878], [1.0, 1.0, 1.0, 1.0, 1.0], [1.0, 1.0, 1.0, 1.0, 1.0], Normal{Float64}(μ=0.0, σ=1.0), [1.0, 1.0, 1.0, 1.0, 1.0], [1.0, 1.0, 1.0, 1.0, 1.0]), GLMCopulaVCObs{Float64,Normal{Float64}}([1520.0, 1455.0, 1450.0, 1480.0, 1445.0], [1.0; 1.0; … ; 1.0; 1.0], [[1.0 1.0 … 1.0 1.0; 1.0 1.0 … 1.0 1.0; … ; 1.0 1.0 … 1.0 1.0; 1.0 1.0 … 1.0 1.0]], [-0.09641721465499768], [-1.0; -1.0; … ; -1.0; -1.0], [2.279487666e-314], [2.4497881575e-314], [-8.101749010461262], [2.4497881575e-314], [-0.40550029333327153, -1.6149210536762515, -1.7079534198564807, -1.1497592227751052, -1.8009857860367098], [2.5], [22.305320488925258], [5.0], [-6.679119775677819, -6.679119775677819, -6.679119775677819, -6.679119775677819, -6.679119775677819], [2.2870214083e-314], [1541.7935063882878, 1541.7935063882878, 1541.7935063882878, 1541.7935063882878, 1541.7935063882878], [1541.7935063882878, 1541.7935063882878, 1541.7935063882878, 1541.7935063882878, 1541.7935063882878], [1.0, 1.0, 1.0, 1.0, 1.0], [1.0, 1.0, 1.0, 1.0, 1.0], Normal{Float64}(μ=0.0, σ=1.0), [1.0, 1.0, 1.0, 1.0, 1.0], [1.0, 1.0, 1.0, 1.0, 1.0])], 45825.0, 30, 1, 1, [1541.7935063882878], [0.0003462008462836904], [52109.25787010273], [5.433611893757018e-12], [2.279980277e-314], [0.0], [30.0], [-0.019644354979826334], [2.2206779097e-314], [2.5; 2.5; … ; 2.5; 2.5], [16922.026404312208; 2378.2602310467123; … ; 42349.94873212863; 64428.844494064055], [7.676127926135004e-6, 7.676127926135004e-6, 7.676127926135004e-6, 7.676127926135004e-6, 7.676127926135004e-6, 7.676127926135004e-6], [0.05210934993374394], [52109.2057607528], Normal{Float64}(μ=0.0, σ=1.0))"
      ]
     },
     "execution_count": 50,
     "metadata": {},
     "output_type": "execute_result"
    }
   ],
   "source": [
    "@time GeneralizedCopula.fit2!(gcm, IpoptSolver(print_level = 5, derivative_test = \"first-order\"))"
   ]
  },
  {
   "cell_type": "code",
   "execution_count": 51,
   "metadata": {},
   "outputs": [
    {
     "name": "stdout",
     "output_type": "stream",
     "text": [
      "loglikelihood2!(gcm, true, true) = -163.3554542330147\n",
      "gcm.∇β = [5.433611893757018e-12]\n",
      "gcm.∇τ = [2.279980277e-314]\n",
      "gcm.∇Σ = [0.0]\n"
     ]
    }
   ],
   "source": [
    "@show loglikelihood2!(gcm, true, true)\n",
    "@show gcm.∇β\n",
    "@show gcm.∇τ\n",
    "@show gcm.∇Σ;"
   ]
  },
  {
   "cell_type": "code",
   "execution_count": 52,
   "metadata": {},
   "outputs": [
    {
     "name": "stdout",
     "output_type": "stream",
     "text": [
      "gcm.β = [1541.7935063882878]\n",
      "gcm.τ = [0.0003462008462836904]\n",
      "gcm.Σ = [52109.25787010273]\n"
     ]
    }
   ],
   "source": [
    "@show gcm.β\n",
    "@show gcm.τ\n",
    "@show gcm.Σ;"
   ]
  },
  {
   "cell_type": "code",
   "execution_count": null,
   "metadata": {},
   "outputs": [],
   "source": []
  }
 ],
 "metadata": {
  "kernelspec": {
   "display_name": "Julia 1.4.0",
   "language": "julia",
   "name": "julia-1.4"
  },
  "language_info": {
   "file_extension": ".jl",
   "mimetype": "application/julia",
   "name": "julia",
   "version": "1.4.0"
  },
  "toc": {
   "base_numbering": 1,
   "nav_menu": {},
   "number_sections": true,
   "sideBar": true,
   "skip_h1_title": false,
   "title_cell": "Table of Contents",
   "title_sidebar": "Contents",
   "toc_cell": false,
   "toc_position": {},
   "toc_section_display": true,
   "toc_window_display": false
  }
 },
 "nbformat": 4,
 "nbformat_minor": 2
}
