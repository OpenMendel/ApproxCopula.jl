{
 "cells": [
  {
   "cell_type": "markdown",
   "metadata": {
    "toc": true
   },
   "source": [
    "<h1>Table of Contents<span class=\"tocSkip\"></span></h1>\n",
    "<div class=\"toc\"><ul class=\"toc-item\"><li><span><a href=\"#Dyestuff-Data\" data-toc-modified-id=\"Dyestuff-Data-1\"><span class=\"toc-item-num\">1&nbsp;&nbsp;</span>Dyestuff Data</a></span></li><li><span><a href=\"#Dyestuff2-data\" data-toc-modified-id=\"Dyestuff2-data-2\"><span class=\"toc-item-num\">2&nbsp;&nbsp;</span>Dyestuff2 data</a></span></li><li><span><a href=\"#Sleepstudy-Data\" data-toc-modified-id=\"Sleepstudy-Data-3\"><span class=\"toc-item-num\">3&nbsp;&nbsp;</span>Sleepstudy Data</a></span></li></ul></div>"
   ]
  },
  {
   "cell_type": "markdown",
   "metadata": {},
   "source": [
    "# Model Fit Comparison: LMM vs GLMCopula"
   ]
  },
  {
   "cell_type": "code",
   "execution_count": 1,
   "metadata": {},
   "outputs": [
    {
     "name": "stdout",
     "output_type": "stream",
     "text": [
      "Julia Version 1.2.0\n",
      "Commit c6da87ff4b (2019-08-20 00:03 UTC)\n",
      "Platform Info:\n",
      "  OS: macOS (x86_64-apple-darwin18.6.0)\n",
      "  CPU: Intel(R) Core(TM) i7-7700HQ CPU @ 2.80GHz\n",
      "  WORD_SIZE: 64\n",
      "  LIBM: libopenlibm\n",
      "  LLVM: libLLVM-6.0.1 (ORCJIT, skylake)\n"
     ]
    }
   ],
   "source": [
    "versioninfo()"
   ]
  },
  {
   "cell_type": "code",
   "execution_count": 2,
   "metadata": {},
   "outputs": [],
   "source": [
    "#include(\"../src/GLMCopula.jl\")"
   ]
  },
  {
   "cell_type": "code",
   "execution_count": 3,
   "metadata": {},
   "outputs": [],
   "source": [
    "using GLMCopula, RData, MixedModels, GLM\n",
    "using LinearAlgebra, Random"
   ]
  },
  {
   "cell_type": "markdown",
   "metadata": {},
   "source": [
    "## Dyestuff Data\n",
    "\n",
    "This is a random intercept model `Y ~ 1 + (1|G)` for a data set in R. The fitted model by the [MixedModels.jl package](https://dmbates.github.io/MixedModels.jl/stable/constructors/#Models-with-simple,-scalar-random-effects-1) yields a loglikelihood of **-163.66353**. We will see the copula model has a slightly better fit with loglikelihood **-160.8891169** it used to be -163.35545."
   ]
  },
  {
   "cell_type": "code",
   "execution_count": 4,
   "metadata": {},
   "outputs": [
    {
     "data": {
      "text/html": [
       "<table class=\"data-frame\"><thead><tr><th></th><th>G</th><th>Y</th></tr><tr><th></th><th>Categorical…</th><th>Float64</th></tr></thead><tbody><p>30 rows × 2 columns</p><tr><th>1</th><td>A</td><td>1545.0</td></tr><tr><th>2</th><td>A</td><td>1440.0</td></tr><tr><th>3</th><td>A</td><td>1440.0</td></tr><tr><th>4</th><td>A</td><td>1520.0</td></tr><tr><th>5</th><td>A</td><td>1580.0</td></tr><tr><th>6</th><td>B</td><td>1540.0</td></tr><tr><th>7</th><td>B</td><td>1555.0</td></tr><tr><th>8</th><td>B</td><td>1490.0</td></tr><tr><th>9</th><td>B</td><td>1560.0</td></tr><tr><th>10</th><td>B</td><td>1495.0</td></tr><tr><th>11</th><td>C</td><td>1595.0</td></tr><tr><th>12</th><td>C</td><td>1550.0</td></tr><tr><th>13</th><td>C</td><td>1605.0</td></tr><tr><th>14</th><td>C</td><td>1510.0</td></tr><tr><th>15</th><td>C</td><td>1560.0</td></tr><tr><th>16</th><td>D</td><td>1445.0</td></tr><tr><th>17</th><td>D</td><td>1440.0</td></tr><tr><th>18</th><td>D</td><td>1595.0</td></tr><tr><th>19</th><td>D</td><td>1465.0</td></tr><tr><th>20</th><td>D</td><td>1545.0</td></tr><tr><th>21</th><td>E</td><td>1595.0</td></tr><tr><th>22</th><td>E</td><td>1630.0</td></tr><tr><th>23</th><td>E</td><td>1515.0</td></tr><tr><th>24</th><td>E</td><td>1635.0</td></tr><tr><th>25</th><td>E</td><td>1625.0</td></tr><tr><th>26</th><td>F</td><td>1520.0</td></tr><tr><th>27</th><td>F</td><td>1455.0</td></tr><tr><th>28</th><td>F</td><td>1450.0</td></tr><tr><th>29</th><td>F</td><td>1480.0</td></tr><tr><th>30</th><td>F</td><td>1445.0</td></tr></tbody></table>"
      ],
      "text/latex": [
       "\\begin{tabular}{r|cc}\n",
       "\t& G & Y\\\\\n",
       "\t\\hline\n",
       "\t& Categorical… & Float64\\\\\n",
       "\t\\hline\n",
       "\t1 & A & 1545.0 \\\\\n",
       "\t2 & A & 1440.0 \\\\\n",
       "\t3 & A & 1440.0 \\\\\n",
       "\t4 & A & 1520.0 \\\\\n",
       "\t5 & A & 1580.0 \\\\\n",
       "\t6 & B & 1540.0 \\\\\n",
       "\t7 & B & 1555.0 \\\\\n",
       "\t8 & B & 1490.0 \\\\\n",
       "\t9 & B & 1560.0 \\\\\n",
       "\t10 & B & 1495.0 \\\\\n",
       "\t11 & C & 1595.0 \\\\\n",
       "\t12 & C & 1550.0 \\\\\n",
       "\t13 & C & 1605.0 \\\\\n",
       "\t14 & C & 1510.0 \\\\\n",
       "\t15 & C & 1560.0 \\\\\n",
       "\t16 & D & 1445.0 \\\\\n",
       "\t17 & D & 1440.0 \\\\\n",
       "\t18 & D & 1595.0 \\\\\n",
       "\t19 & D & 1465.0 \\\\\n",
       "\t20 & D & 1545.0 \\\\\n",
       "\t21 & E & 1595.0 \\\\\n",
       "\t22 & E & 1630.0 \\\\\n",
       "\t23 & E & 1515.0 \\\\\n",
       "\t24 & E & 1635.0 \\\\\n",
       "\t25 & E & 1625.0 \\\\\n",
       "\t26 & F & 1520.0 \\\\\n",
       "\t27 & F & 1455.0 \\\\\n",
       "\t28 & F & 1450.0 \\\\\n",
       "\t29 & F & 1480.0 \\\\\n",
       "\t30 & F & 1445.0 \\\\\n",
       "\\end{tabular}\n"
      ],
      "text/plain": [
       "30×2 DataFrames.DataFrame\n",
       "│ Row │ G            │ Y       │\n",
       "│     │ \u001b[90mCategorical…\u001b[39m │ \u001b[90mFloat64\u001b[39m │\n",
       "├─────┼──────────────┼─────────┤\n",
       "│ 1   │ A            │ 1545.0  │\n",
       "│ 2   │ A            │ 1440.0  │\n",
       "│ 3   │ A            │ 1440.0  │\n",
       "│ 4   │ A            │ 1520.0  │\n",
       "│ 5   │ A            │ 1580.0  │\n",
       "│ 6   │ B            │ 1540.0  │\n",
       "│ 7   │ B            │ 1555.0  │\n",
       "│ 8   │ B            │ 1490.0  │\n",
       "│ 9   │ B            │ 1560.0  │\n",
       "│ 10  │ B            │ 1495.0  │\n",
       "⋮\n",
       "│ 20  │ D            │ 1545.0  │\n",
       "│ 21  │ E            │ 1595.0  │\n",
       "│ 22  │ E            │ 1630.0  │\n",
       "│ 23  │ E            │ 1515.0  │\n",
       "│ 24  │ E            │ 1635.0  │\n",
       "│ 25  │ E            │ 1625.0  │\n",
       "│ 26  │ F            │ 1520.0  │\n",
       "│ 27  │ F            │ 1455.0  │\n",
       "│ 28  │ F            │ 1450.0  │\n",
       "│ 29  │ F            │ 1480.0  │\n",
       "│ 30  │ F            │ 1445.0  │"
      ]
     },
     "execution_count": 4,
     "metadata": {},
     "output_type": "execute_result"
    }
   ],
   "source": [
    "dat = Dict(Symbol(k)=>v for (k,v) in \n",
    "    load(joinpath(dirname(pathof(MixedModels)), \"..\", \"test\", \"dat.rda\")))\n",
    "dyestuff = dat[:Dyestuff]"
   ]
  },
  {
   "cell_type": "code",
   "execution_count": 5,
   "metadata": {},
   "outputs": [],
   "source": [
    "function create_gcm1(data)\n",
    "    groups = unique(data[!, :G])\n",
    "    n, p, m = length(groups), 1, 1\n",
    "    d = Normal()\n",
    "    D = typeof(d)\n",
    "    gcs = Vector{GaussianCopulaVCObs{Float64, D}}(undef, n)\n",
    "    #quantity = zeros(n)\n",
    "    for (i, grp) in enumerate(groups)\n",
    "        gidx = data[!, :G] .== grp\n",
    "        ni = count(gidx)\n",
    "        y = Float64.(data[gidx, :Y])\n",
    "        X = ones(ni, 1)\n",
    "        V = [ones(ni, ni)]\n",
    "        gcs[i] = GaussianCopulaVCObs(y, X, V, d)\n",
    "    end\n",
    "    gcm = GaussianCopulaVCModel(gcs)\n",
    "    return gcm\n",
    "end\n",
    "\n",
    "gcm = create_gcm1(dyestuff);"
   ]
  },
  {
   "cell_type": "code",
   "execution_count": 6,
   "metadata": {},
   "outputs": [
    {
     "name": "stdout",
     "output_type": "stream",
     "text": [
      "gcm.β = [1527.4999999999998]\n",
      "gcm.τ = [0.0002604449267498643]\n",
      "gcm.Σ = [0.8636149140056555]\n"
     ]
    }
   ],
   "source": [
    "# initialize β and τ from least square solution\n",
    "init_β!(gcm)\n",
    "@show gcm.β\n",
    "# update σ2 and τ from β using MM algorithm\n",
    "@show gcm.τ\n",
    "fill!(gcm.Σ, 1)\n",
    "update_Σ!(gcm)\n",
    "@show gcm.Σ;"
   ]
  },
  {
   "cell_type": "code",
   "execution_count": 7,
   "metadata": {},
   "outputs": [
    {
     "name": "stdout",
     "output_type": "stream",
     "text": [
      "loglikelihood!(gcm, true, false) = -160.88911694859192\n",
      "gcm.∇β = [0.0]\n",
      "gcm.∇τ = [-0.004475727521338513]\n",
      "gcm.∇Σ = [-8.467730615246971e-6]\n"
     ]
    }
   ],
   "source": [
    "@show loglikelihood!(gcm, true, false)\n",
    "@show gcm.∇β\n",
    "@show gcm.∇τ\n",
    "@show gcm.∇Σ;"
   ]
  },
  {
   "cell_type": "code",
   "execution_count": 8,
   "metadata": {},
   "outputs": [
    {
     "name": "stdout",
     "output_type": "stream",
     "text": [
      "\n",
      "******************************************************************************\n",
      "This program contains Ipopt, a library for large-scale nonlinear optimization.\n",
      " Ipopt is released as open source code under the Eclipse Public License (EPL).\n",
      "         For more information visit http://projects.coin-or.org/Ipopt\n",
      "******************************************************************************\n",
      "\n",
      "This is Ipopt version 3.12.10, running with linear solver mumps.\n",
      "NOTE: Other linear solvers might be more efficient (see Ipopt documentation).\n",
      "\n",
      "Number of nonzeros in equality constraint Jacobian...:        0\n",
      "Number of nonzeros in inequality constraint Jacobian.:        0\n",
      "Number of nonzeros in Lagrangian Hessian.............:        0\n",
      "\n",
      "Total number of variables............................:        1\n",
      "                     variables with only lower bounds:        0\n",
      "                variables with lower and upper bounds:        0\n",
      "                     variables with only upper bounds:        0\n",
      "Total number of equality constraints.................:        0\n",
      "Total number of inequality constraints...............:        0\n",
      "        inequality constraints with only lower bounds:        0\n",
      "   inequality constraints with lower and upper bounds:        0\n",
      "        inequality constraints with only upper bounds:        0\n",
      "\n",
      "iter    objective    inf_pr   inf_du lg(mu)  ||d||  lg(rg) alpha_du alpha_pr  ls\n",
      "   0  1.6088912e+02 0.00e+00 0.00e+00   0.0 0.00e+00    -  0.00e+00 0.00e+00   0\n",
      "\n",
      "Number of Iterations....: 0\n",
      "\n",
      "                                   (scaled)                 (unscaled)\n",
      "Objective...............:   1.6088911777235296e+02    1.6088911777235296e+02\n",
      "Dual infeasibility......:   0.0000000000000000e+00    0.0000000000000000e+00\n",
      "Constraint violation....:   0.0000000000000000e+00    0.0000000000000000e+00\n",
      "Complementarity.........:   0.0000000000000000e+00    0.0000000000000000e+00\n",
      "Overall NLP error.......:   0.0000000000000000e+00    0.0000000000000000e+00\n",
      "\n",
      "\n",
      "Number of objective function evaluations             = 1\n",
      "Number of objective gradient evaluations             = 1\n",
      "Number of equality constraint evaluations            = 0\n",
      "Number of inequality constraint evaluations          = 0\n",
      "Number of equality constraint Jacobian evaluations   = 0\n",
      "Number of inequality constraint Jacobian evaluations = 0\n",
      "Number of Lagrangian Hessian evaluations             = 0\n",
      "Total CPU secs in IPOPT (w/o function evaluations)   =      0.024\n",
      "Total CPU secs in NLP function evaluations           =      0.005\n",
      "\n",
      "EXIT: Optimal Solution Found.\n",
      "  0.380292 seconds (718.47 k allocations: 37.238 MiB, 5.04% gc time)\n",
      "gcm.β = [1527.4999999999998]\n",
      "gcm.τ = [0.0003316449704849073]\n",
      "gcm.Σ = [0.8636109040962523]\n"
     ]
    }
   ],
   "source": [
    "# @time GLMCopula.fit!(gcm, NLopt.NLoptSolver(algorithm=:LD_SLSQP, maxeval=4000))\n",
    "@time GLMCopula.fit!(gcm, IpoptSolver(print_level=5))\n",
    "@show gcm.β\n",
    "@show gcm.τ\n",
    "@show gcm.Σ;"
   ]
  },
  {
   "cell_type": "code",
   "execution_count": 9,
   "metadata": {},
   "outputs": [
    {
     "name": "stdout",
     "output_type": "stream",
     "text": [
      "loglikelihood!(gcm, true, false) = -160.88911777235296\n",
      "gcm.∇β = [0.0]\n",
      "gcm.∇τ = [-0.002793976958869848]\n",
      "gcm.∇Σ = [-5.28598734006458e-6]\n"
     ]
    }
   ],
   "source": [
    "@show loglikelihood!(gcm, true, false)\n",
    "@show gcm.∇β\n",
    "@show gcm.∇τ\n",
    "@show gcm.∇Σ;"
   ]
  },
  {
   "cell_type": "markdown",
   "metadata": {},
   "source": [
    "## Dyestuff2 data\n",
    "\n",
    "`Dyestuff2` is a data set simulated from LMM. [The fitted model by MixedModels.jl package](https://github.com/dmbates/MixedModelsinJulia/blob/master/SimpleLMM.ipynb) has a log-likelihood of **-81.436518**, while copula model yields **-79.39763458163671** used to be -81.436519."
   ]
  },
  {
   "cell_type": "code",
   "execution_count": 10,
   "metadata": {},
   "outputs": [
    {
     "data": {
      "text/html": [
       "<table class=\"data-frame\"><thead><tr><th></th><th>G</th><th>Y</th></tr><tr><th></th><th>Categorical…</th><th>Float64</th></tr></thead><tbody><p>30 rows × 2 columns</p><tr><th>1</th><td>A</td><td>7.298</td></tr><tr><th>2</th><td>A</td><td>3.846</td></tr><tr><th>3</th><td>A</td><td>2.434</td></tr><tr><th>4</th><td>A</td><td>9.566</td></tr><tr><th>5</th><td>A</td><td>7.99</td></tr><tr><th>6</th><td>B</td><td>5.22</td></tr><tr><th>7</th><td>B</td><td>6.556</td></tr><tr><th>8</th><td>B</td><td>0.608</td></tr><tr><th>9</th><td>B</td><td>11.788</td></tr><tr><th>10</th><td>B</td><td>-0.892</td></tr><tr><th>11</th><td>C</td><td>0.11</td></tr><tr><th>12</th><td>C</td><td>10.386</td></tr><tr><th>13</th><td>C</td><td>13.434</td></tr><tr><th>14</th><td>C</td><td>5.51</td></tr><tr><th>15</th><td>C</td><td>8.166</td></tr><tr><th>16</th><td>D</td><td>2.212</td></tr><tr><th>17</th><td>D</td><td>4.852</td></tr><tr><th>18</th><td>D</td><td>7.092</td></tr><tr><th>19</th><td>D</td><td>9.288</td></tr><tr><th>20</th><td>D</td><td>4.98</td></tr><tr><th>21</th><td>E</td><td>0.282</td></tr><tr><th>22</th><td>E</td><td>9.014</td></tr><tr><th>23</th><td>E</td><td>4.458</td></tr><tr><th>24</th><td>E</td><td>9.446</td></tr><tr><th>25</th><td>E</td><td>7.198</td></tr><tr><th>26</th><td>F</td><td>1.722</td></tr><tr><th>27</th><td>F</td><td>4.782</td></tr><tr><th>28</th><td>F</td><td>8.106</td></tr><tr><th>29</th><td>F</td><td>0.758</td></tr><tr><th>30</th><td>F</td><td>3.758</td></tr></tbody></table>"
      ],
      "text/latex": [
       "\\begin{tabular}{r|cc}\n",
       "\t& G & Y\\\\\n",
       "\t\\hline\n",
       "\t& Categorical… & Float64\\\\\n",
       "\t\\hline\n",
       "\t1 & A & 7.298 \\\\\n",
       "\t2 & A & 3.846 \\\\\n",
       "\t3 & A & 2.434 \\\\\n",
       "\t4 & A & 9.566 \\\\\n",
       "\t5 & A & 7.99 \\\\\n",
       "\t6 & B & 5.22 \\\\\n",
       "\t7 & B & 6.556 \\\\\n",
       "\t8 & B & 0.608 \\\\\n",
       "\t9 & B & 11.788 \\\\\n",
       "\t10 & B & -0.892 \\\\\n",
       "\t11 & C & 0.11 \\\\\n",
       "\t12 & C & 10.386 \\\\\n",
       "\t13 & C & 13.434 \\\\\n",
       "\t14 & C & 5.51 \\\\\n",
       "\t15 & C & 8.166 \\\\\n",
       "\t16 & D & 2.212 \\\\\n",
       "\t17 & D & 4.852 \\\\\n",
       "\t18 & D & 7.092 \\\\\n",
       "\t19 & D & 9.288 \\\\\n",
       "\t20 & D & 4.98 \\\\\n",
       "\t21 & E & 0.282 \\\\\n",
       "\t22 & E & 9.014 \\\\\n",
       "\t23 & E & 4.458 \\\\\n",
       "\t24 & E & 9.446 \\\\\n",
       "\t25 & E & 7.198 \\\\\n",
       "\t26 & F & 1.722 \\\\\n",
       "\t27 & F & 4.782 \\\\\n",
       "\t28 & F & 8.106 \\\\\n",
       "\t29 & F & 0.758 \\\\\n",
       "\t30 & F & 3.758 \\\\\n",
       "\\end{tabular}\n"
      ],
      "text/plain": [
       "30×2 DataFrames.DataFrame\n",
       "│ Row │ G            │ Y       │\n",
       "│     │ \u001b[90mCategorical…\u001b[39m │ \u001b[90mFloat64\u001b[39m │\n",
       "├─────┼──────────────┼─────────┤\n",
       "│ 1   │ A            │ 7.298   │\n",
       "│ 2   │ A            │ 3.846   │\n",
       "│ 3   │ A            │ 2.434   │\n",
       "│ 4   │ A            │ 9.566   │\n",
       "│ 5   │ A            │ 7.99    │\n",
       "│ 6   │ B            │ 5.22    │\n",
       "│ 7   │ B            │ 6.556   │\n",
       "│ 8   │ B            │ 0.608   │\n",
       "│ 9   │ B            │ 11.788  │\n",
       "│ 10  │ B            │ -0.892  │\n",
       "⋮\n",
       "│ 20  │ D            │ 4.98    │\n",
       "│ 21  │ E            │ 0.282   │\n",
       "│ 22  │ E            │ 9.014   │\n",
       "│ 23  │ E            │ 4.458   │\n",
       "│ 24  │ E            │ 9.446   │\n",
       "│ 25  │ E            │ 7.198   │\n",
       "│ 26  │ F            │ 1.722   │\n",
       "│ 27  │ F            │ 4.782   │\n",
       "│ 28  │ F            │ 8.106   │\n",
       "│ 29  │ F            │ 0.758   │\n",
       "│ 30  │ F            │ 3.758   │"
      ]
     },
     "execution_count": 10,
     "metadata": {},
     "output_type": "execute_result"
    }
   ],
   "source": [
    "dyestuff2 = dat[:Dyestuff2]"
   ]
  },
  {
   "cell_type": "code",
   "execution_count": 11,
   "metadata": {},
   "outputs": [],
   "source": [
    "gcm2 = create_gcm1(dyestuff2);"
   ]
  },
  {
   "cell_type": "code",
   "execution_count": 12,
   "metadata": {},
   "outputs": [
    {
     "name": "stdout",
     "output_type": "stream",
     "text": [
      "gcm2.β = [5.6655999999999995]\n",
      "gcm2.τ = [0.07492826008723599]\n",
      "gcm2.Σ = [8.002522079028351e-7]\n"
     ]
    }
   ],
   "source": [
    "# initialize β and τ from least square solution\n",
    "init_β!(gcm2)\n",
    "@show gcm2.β\n",
    "@show gcm2.τ\n",
    "# update σ2 and τ from β using MM algorithm\n",
    "fill!(gcm2.Σ, 1)\n",
    "update_Σ!(gcm2)\n",
    "@show gcm2.Σ;"
   ]
  },
  {
   "cell_type": "code",
   "execution_count": 13,
   "metadata": {},
   "outputs": [
    {
     "name": "stdout",
     "output_type": "stream",
     "text": [
      "loglikelihood!(gcm2, true, false) = -79.3976395254606\n",
      "gcm2.∇β = [0.0]\n",
      "gcm2.∇τ = [-7.681370063394866e-5]\n",
      "gcm2.∇Σ = [-7.192151129476404]\n"
     ]
    }
   ],
   "source": [
    "@show loglikelihood!(gcm2, true, false)\n",
    "@show gcm2.∇β\n",
    "@show gcm2.∇τ\n",
    "@show gcm2.∇Σ;"
   ]
  },
  {
   "cell_type": "code",
   "execution_count": 14,
   "metadata": {},
   "outputs": [
    {
     "name": "stdout",
     "output_type": "stream",
     "text": [
      "This is Ipopt version 3.12.10, running with linear solver mumps.\n",
      "NOTE: Other linear solvers might be more efficient (see Ipopt documentation).\n",
      "\n",
      "Number of nonzeros in equality constraint Jacobian...:        0\n",
      "Number of nonzeros in inequality constraint Jacobian.:        0\n",
      "Number of nonzeros in Lagrangian Hessian.............:        0\n",
      "\n",
      "Total number of variables............................:        1\n",
      "                     variables with only lower bounds:        0\n",
      "                variables with lower and upper bounds:        0\n",
      "                     variables with only upper bounds:        0\n",
      "Total number of equality constraints.................:        0\n",
      "Total number of inequality constraints...............:        0\n",
      "        inequality constraints with only lower bounds:        0\n",
      "   inequality constraints with lower and upper bounds:        0\n",
      "        inequality constraints with only upper bounds:        0\n",
      "\n",
      "iter    objective    inf_pr   inf_du lg(mu)  ||d||  lg(rg) alpha_du alpha_pr  ls\n",
      "   0  7.9397635e+01 0.00e+00 0.00e+00   0.0 0.00e+00    -  0.00e+00 0.00e+00   0\n",
      "\n",
      "Number of Iterations....: 0\n",
      "\n",
      "                                   (scaled)                 (unscaled)\n",
      "Objective...............:   7.9397634581636709e+01    7.9397634581636709e+01\n",
      "Dual infeasibility......:   0.0000000000000000e+00    0.0000000000000000e+00\n",
      "Constraint violation....:   0.0000000000000000e+00    0.0000000000000000e+00\n",
      "Complementarity.........:   0.0000000000000000e+00    0.0000000000000000e+00\n",
      "Overall NLP error.......:   0.0000000000000000e+00    0.0000000000000000e+00\n",
      "\n",
      "\n",
      "Number of objective function evaluations             = 1\n",
      "Number of objective gradient evaluations             = 1\n",
      "Number of equality constraint evaluations            = 0\n",
      "Number of inequality constraint evaluations          = 0\n",
      "Number of equality constraint Jacobian evaluations   = 0\n",
      "Number of inequality constraint Jacobian evaluations = 0\n",
      "Number of Lagrangian Hessian evaluations             = 0\n",
      "Total CPU secs in IPOPT (w/o function evaluations)   =      0.000\n",
      "Total CPU secs in NLP function evaluations           =      0.000\n",
      "\n",
      "EXIT: Optimal Solution Found.\n",
      "  0.001101 seconds (248 allocations: 22.938 KiB)\n",
      "gcm2.β = [5.6655999999999995]\n",
      "gcm2.τ = [0.07492826854371827]\n",
      "gcm2.Σ = [1.1286110178501942e-7]\n"
     ]
    }
   ],
   "source": [
    "@time GLMCopula.fit!(gcm2, IpoptSolver(print_level=5))\n",
    "@show gcm2.β\n",
    "@show gcm2.τ\n",
    "@show gcm2.Σ;"
   ]
  },
  {
   "cell_type": "code",
   "execution_count": 15,
   "metadata": {},
   "outputs": [
    {
     "name": "stdout",
     "output_type": "stream",
     "text": [
      "loglikelihood!(gcm2, true, false) = -79.39763458163671\n",
      "gcm2.∇β = [0.0]\n",
      "gcm2.∇τ = [-1.0833236917306976e-5]\n",
      "gcm2.∇Σ = [-7.192167502739009]\n"
     ]
    }
   ],
   "source": [
    "@show loglikelihood!(gcm2, true, false)\n",
    "@show gcm2.∇β\n",
    "@show gcm2.∇τ\n",
    "@show gcm2.∇Σ;"
   ]
  },
  {
   "cell_type": "markdown",
   "metadata": {},
   "source": [
    "## Sleepstudy Data\n",
    "\n",
    "Sleepstudy data has random intercept and slope within each group (individual) `Y ~ 1 + U + (1+U|G)`. The LMM model fit by [MixedModels.jl package](https://dmbates.github.io/MixedModels.jl/stable/constructors/#Models-with-vector-valued-random-effects-1) has a loglikelihood **-875.96967**."
   ]
  },
  {
   "cell_type": "code",
   "execution_count": 16,
   "metadata": {},
   "outputs": [
    {
     "data": {
      "text/html": [
       "<table class=\"data-frame\"><thead><tr><th></th><th>Y</th><th>U</th><th>G</th></tr><tr><th></th><th>Float64</th><th>Float64</th><th>Categorical…</th></tr></thead><tbody><p>180 rows × 3 columns</p><tr><th>1</th><td>249.56</td><td>0.0</td><td>308</td></tr><tr><th>2</th><td>258.705</td><td>1.0</td><td>308</td></tr><tr><th>3</th><td>250.801</td><td>2.0</td><td>308</td></tr><tr><th>4</th><td>321.44</td><td>3.0</td><td>308</td></tr><tr><th>5</th><td>356.852</td><td>4.0</td><td>308</td></tr><tr><th>6</th><td>414.69</td><td>5.0</td><td>308</td></tr><tr><th>7</th><td>382.204</td><td>6.0</td><td>308</td></tr><tr><th>8</th><td>290.149</td><td>7.0</td><td>308</td></tr><tr><th>9</th><td>430.585</td><td>8.0</td><td>308</td></tr><tr><th>10</th><td>466.353</td><td>9.0</td><td>308</td></tr><tr><th>11</th><td>222.734</td><td>0.0</td><td>309</td></tr><tr><th>12</th><td>205.266</td><td>1.0</td><td>309</td></tr><tr><th>13</th><td>202.978</td><td>2.0</td><td>309</td></tr><tr><th>14</th><td>204.707</td><td>3.0</td><td>309</td></tr><tr><th>15</th><td>207.716</td><td>4.0</td><td>309</td></tr><tr><th>16</th><td>215.962</td><td>5.0</td><td>309</td></tr><tr><th>17</th><td>213.63</td><td>6.0</td><td>309</td></tr><tr><th>18</th><td>217.727</td><td>7.0</td><td>309</td></tr><tr><th>19</th><td>224.296</td><td>8.0</td><td>309</td></tr><tr><th>20</th><td>237.314</td><td>9.0</td><td>309</td></tr><tr><th>21</th><td>199.054</td><td>0.0</td><td>310</td></tr><tr><th>22</th><td>194.332</td><td>1.0</td><td>310</td></tr><tr><th>23</th><td>234.32</td><td>2.0</td><td>310</td></tr><tr><th>24</th><td>232.842</td><td>3.0</td><td>310</td></tr><tr><th>25</th><td>229.307</td><td>4.0</td><td>310</td></tr><tr><th>26</th><td>220.458</td><td>5.0</td><td>310</td></tr><tr><th>27</th><td>235.421</td><td>6.0</td><td>310</td></tr><tr><th>28</th><td>255.751</td><td>7.0</td><td>310</td></tr><tr><th>29</th><td>261.012</td><td>8.0</td><td>310</td></tr><tr><th>30</th><td>247.515</td><td>9.0</td><td>310</td></tr><tr><th>&vellip;</th><td>&vellip;</td><td>&vellip;</td><td>&vellip;</td></tr></tbody></table>"
      ],
      "text/latex": [
       "\\begin{tabular}{r|ccc}\n",
       "\t& Y & U & G\\\\\n",
       "\t\\hline\n",
       "\t& Float64 & Float64 & Categorical…\\\\\n",
       "\t\\hline\n",
       "\t1 & 249.56 & 0.0 & 308 \\\\\n",
       "\t2 & 258.705 & 1.0 & 308 \\\\\n",
       "\t3 & 250.801 & 2.0 & 308 \\\\\n",
       "\t4 & 321.44 & 3.0 & 308 \\\\\n",
       "\t5 & 356.852 & 4.0 & 308 \\\\\n",
       "\t6 & 414.69 & 5.0 & 308 \\\\\n",
       "\t7 & 382.204 & 6.0 & 308 \\\\\n",
       "\t8 & 290.149 & 7.0 & 308 \\\\\n",
       "\t9 & 430.585 & 8.0 & 308 \\\\\n",
       "\t10 & 466.353 & 9.0 & 308 \\\\\n",
       "\t11 & 222.734 & 0.0 & 309 \\\\\n",
       "\t12 & 205.266 & 1.0 & 309 \\\\\n",
       "\t13 & 202.978 & 2.0 & 309 \\\\\n",
       "\t14 & 204.707 & 3.0 & 309 \\\\\n",
       "\t15 & 207.716 & 4.0 & 309 \\\\\n",
       "\t16 & 215.962 & 5.0 & 309 \\\\\n",
       "\t17 & 213.63 & 6.0 & 309 \\\\\n",
       "\t18 & 217.727 & 7.0 & 309 \\\\\n",
       "\t19 & 224.296 & 8.0 & 309 \\\\\n",
       "\t20 & 237.314 & 9.0 & 309 \\\\\n",
       "\t21 & 199.054 & 0.0 & 310 \\\\\n",
       "\t22 & 194.332 & 1.0 & 310 \\\\\n",
       "\t23 & 234.32 & 2.0 & 310 \\\\\n",
       "\t24 & 232.842 & 3.0 & 310 \\\\\n",
       "\t25 & 229.307 & 4.0 & 310 \\\\\n",
       "\t26 & 220.458 & 5.0 & 310 \\\\\n",
       "\t27 & 235.421 & 6.0 & 310 \\\\\n",
       "\t28 & 255.751 & 7.0 & 310 \\\\\n",
       "\t29 & 261.012 & 8.0 & 310 \\\\\n",
       "\t30 & 247.515 & 9.0 & 310 \\\\\n",
       "\t$\\dots$ & $\\dots$ & $\\dots$ & $\\dots$ \\\\\n",
       "\\end{tabular}\n"
      ],
      "text/plain": [
       "180×3 DataFrames.DataFrame\n",
       "│ Row │ Y       │ U       │ G            │\n",
       "│     │ \u001b[90mFloat64\u001b[39m │ \u001b[90mFloat64\u001b[39m │ \u001b[90mCategorical…\u001b[39m │\n",
       "├─────┼─────────┼─────────┼──────────────┤\n",
       "│ 1   │ 249.56  │ 0.0     │ 308          │\n",
       "│ 2   │ 258.705 │ 1.0     │ 308          │\n",
       "│ 3   │ 250.801 │ 2.0     │ 308          │\n",
       "│ 4   │ 321.44  │ 3.0     │ 308          │\n",
       "│ 5   │ 356.852 │ 4.0     │ 308          │\n",
       "│ 6   │ 414.69  │ 5.0     │ 308          │\n",
       "│ 7   │ 382.204 │ 6.0     │ 308          │\n",
       "│ 8   │ 290.149 │ 7.0     │ 308          │\n",
       "│ 9   │ 430.585 │ 8.0     │ 308          │\n",
       "│ 10  │ 466.353 │ 9.0     │ 308          │\n",
       "⋮\n",
       "│ 170 │ 369.469 │ 9.0     │ 371          │\n",
       "│ 171 │ 269.412 │ 0.0     │ 372          │\n",
       "│ 172 │ 273.474 │ 1.0     │ 372          │\n",
       "│ 173 │ 297.597 │ 2.0     │ 372          │\n",
       "│ 174 │ 310.632 │ 3.0     │ 372          │\n",
       "│ 175 │ 287.173 │ 4.0     │ 372          │\n",
       "│ 176 │ 329.608 │ 5.0     │ 372          │\n",
       "│ 177 │ 334.482 │ 6.0     │ 372          │\n",
       "│ 178 │ 343.22  │ 7.0     │ 372          │\n",
       "│ 179 │ 369.142 │ 8.0     │ 372          │\n",
       "│ 180 │ 364.124 │ 9.0     │ 372          │"
      ]
     },
     "execution_count": 16,
     "metadata": {},
     "output_type": "execute_result"
    }
   ],
   "source": [
    "sleepstudy = dat[:sleepstudy]"
   ]
  },
  {
   "cell_type": "code",
   "execution_count": 17,
   "metadata": {},
   "outputs": [],
   "source": [
    "function create_gcmLMM(data)\n",
    "    groups = unique(data[!, :G])\n",
    "    n, p, m = length(groups), 2, 2\n",
    "    gcs = Vector{GaussianCopulaLMMObs{Float64}}(undef, n)\n",
    "    #quantity = zeros(n)\n",
    "    for (i, grp) in enumerate(groups)\n",
    "        gidx = data[!, :G] .== grp\n",
    "        ni = count(gidx)\n",
    "        yi = Float64.(data[gidx, :Y])\n",
    "        Ui = Float64.(data[gidx, :U])\n",
    "        Xi = [ones(ni, 1) Ui]\n",
    "        gcs[i] = GaussianCopulaLMMObs(yi, Xi, Xi)\n",
    "    end\n",
    "    gcm = GaussianCopulaLMMModel(gcs)\n",
    "    return gcm\n",
    "end\n",
    "\n",
    "gcm3 = create_gcmLMM(sleepstudy);"
   ]
  },
  {
   "cell_type": "code",
   "execution_count": 18,
   "metadata": {},
   "outputs": [
    {
     "name": "stdout",
     "output_type": "stream",
     "text": [
      "gcm3.β = [251.40510484848488, 10.46728595959596]\n",
      "gcm3.τ[1] = 0.0004441684924519196\n",
      "gcm3.Σ = [1.0 0.0; 0.0 1.0]\n",
      "loglikelihood!(gcm3, true, false) = -949.1827705115786\n",
      "gcm3.∇β = [-0.582840426898384, -3.686754757369668]\n",
      "gcm3.∇τ = [37690.66749687556]\n",
      "gcm3.∇Σ = [0.7263046709981121 -0.22102101114869332; -0.22102101114869332 -1.86408558819219]\n"
     ]
    }
   ],
   "source": [
    "# initialize β and τ from least square solution\n",
    "init_β!(gcm3)\n",
    "@show gcm3.β\n",
    "@show gcm3.τ[1]\n",
    "gcm3.Σ .= diagm(ones(2))\n",
    "@show gcm3.Σ\n",
    "@show loglikelihood!(gcm3, true, false)\n",
    "@show gcm3.∇β\n",
    "@show gcm3.∇τ\n",
    "@show gcm3.∇Σ;"
   ]
  },
  {
   "cell_type": "code",
   "execution_count": 19,
   "metadata": {},
   "outputs": [
    {
     "name": "stdout",
     "output_type": "stream",
     "text": [
      "loglikelihood!(gcm3, true, false) = -949.1827705115786\n",
      "gcm3.∇β = [-0.582840426898384, -3.686754757369668]\n",
      "gcm3.∇τ = [37690.66749687556]\n",
      "gcm3.∇Σ = [0.7263046709981121 -0.22102101114869332; -0.22102101114869332 -1.86408558819219]\n"
     ]
    }
   ],
   "source": [
    "@show loglikelihood!(gcm3, true, false)\n",
    "@show gcm3.∇β\n",
    "@show gcm3.∇τ\n",
    "@show gcm3.∇Σ;"
   ]
  },
  {
   "cell_type": "code",
   "execution_count": 20,
   "metadata": {},
   "outputs": [
    {
     "name": "stdout",
     "output_type": "stream",
     "text": [
      "This is Ipopt version 3.12.10, running with linear solver mumps.\n",
      "NOTE: Other linear solvers might be more efficient (see Ipopt documentation).\n",
      "\n",
      "Number of nonzeros in equality constraint Jacobian...:        0\n",
      "Number of nonzeros in inequality constraint Jacobian.:        0\n",
      "Number of nonzeros in Lagrangian Hessian.............:        0\n",
      "\n",
      "Total number of variables............................:        6\n",
      "                     variables with only lower bounds:        0\n",
      "                variables with lower and upper bounds:        0\n",
      "                     variables with only upper bounds:        0\n",
      "Total number of equality constraints.................:        0\n",
      "Total number of inequality constraints...............:        0\n",
      "        inequality constraints with only lower bounds:        0\n",
      "   inequality constraints with lower and upper bounds:        0\n",
      "        inequality constraints with only upper bounds:        0\n",
      "\n",
      "iter    objective    inf_pr   inf_du lg(mu)  ||d||  lg(rg) alpha_du alpha_pr  ls\n",
      "   0  9.4918277e+02 0.00e+00 1.67e+01   0.0 0.00e+00    -  0.00e+00 0.00e+00   0\n",
      "   1  9.4765086e+02 0.00e+00 1.00e+01 -11.0 1.67e+01    -  1.00e+00 1.56e-02f  7\n",
      "   2  9.4692501e+02 0.00e+00 5.17e+00 -11.0 7.69e-02    -  1.00e+00 1.00e+00f  1\n",
      "   3  9.4593747e+02 0.00e+00 4.57e+00 -11.0 1.41e-01    -  1.00e+00 1.00e+00f  1\n",
      "   4  9.4385781e+02 0.00e+00 4.81e+00 -11.0 6.03e-01    -  1.00e+00 1.00e+00f  1\n",
      "   5  9.4295580e+02 0.00e+00 1.48e+01 -11.0 2.57e+00    -  1.00e+00 5.00e-01f  2\n",
      "   6  9.4266928e+02 0.00e+00 8.97e+00 -11.0 1.02e+00    -  1.00e+00 1.00e+00f  1\n",
      "   7  9.4179667e+02 0.00e+00 3.88e+00 -11.0 6.96e-01    -  1.00e+00 5.00e-01f  2\n",
      "   8  9.4163920e+02 0.00e+00 6.91e-01 -11.0 6.42e-02    -  1.00e+00 1.00e+00f  1\n",
      "   9  9.4157540e+02 0.00e+00 8.55e-01 -11.0 1.00e-01    -  1.00e+00 1.00e+00f  1\n",
      "iter    objective    inf_pr   inf_du lg(mu)  ||d||  lg(rg) alpha_du alpha_pr  ls\n",
      "  10  9.4107484e+02 0.00e+00 8.74e+00 -11.0 2.81e+00    -  1.00e+00 2.50e-01f  3\n",
      "  11  9.4066555e+02 0.00e+00 1.96e+00 -11.0 6.47e-01    -  1.00e+00 2.50e-01f  3\n",
      "  12  9.4040520e+02 0.00e+00 1.05e+00 -11.0 1.50e-01    -  1.00e+00 1.00e+00f  1\n",
      "  13  9.4012792e+02 0.00e+00 9.14e-01 -11.0 2.97e-01    -  1.00e+00 1.00e+00f  1\n",
      "  14  9.3995064e+02 0.00e+00 5.32e+00 -11.0 2.49e+00    -  1.00e+00 1.25e-01f  4\n",
      "  15  9.3992314e+02 0.00e+00 2.10e+01 -11.0 1.79e+00    -  1.00e+00 5.00e-01f  2\n",
      "  16  9.3941058e+02 0.00e+00 7.20e+00 -11.0 5.44e+00    -  1.00e+00 1.25e-01f  4\n",
      "  17  9.3934529e+02 0.00e+00 5.36e+00 -11.0 7.29e-01    -  1.00e+00 5.00e-01f  2\n",
      "  18  9.3932355e+02 0.00e+00 2.60e+00 -11.0 1.95e-01    -  1.00e+00 1.00e+00f  1\n",
      "  19  9.3930043e+02 0.00e+00 2.88e+00 -11.0 2.01e-01    -  1.00e+00 1.00e+00f  1\n",
      "iter    objective    inf_pr   inf_du lg(mu)  ||d||  lg(rg) alpha_du alpha_pr  ls\n",
      "  20  9.3926524e+02 0.00e+00 1.14e+00 -11.0 2.20e-01    -  1.00e+00 1.00e+00f  1\n",
      "  21  9.3926298e+02 0.00e+00 1.61e+00 -11.0 2.83e+00    -  1.00e+00 1.56e-02f  7\n",
      "  22  9.3925203e+02 0.00e+00 2.41e+00 -11.0 1.19e+00    -  1.00e+00 2.50e-01f  3\n",
      "  23  9.3924971e+02 0.00e+00 2.55e+00 -11.0 8.23e-01    -  1.00e+00 5.00e-01f  2\n",
      "  24  9.3922159e+02 0.00e+00 4.24e+00 -11.0 5.95e+00    -  1.00e+00 1.25e-01f  4\n",
      "  25  9.3922142e+02 0.00e+00 3.71e+00 -11.0 4.81e+00    -  1.00e+00 3.91e-03f  9\n",
      "  26  9.3918728e+02 0.00e+00 3.90e+00 -11.0 7.42e-01    -  1.00e+00 5.00e-01f  2\n",
      "  27  9.3915924e+02 0.00e+00 1.92e+00 -11.0 1.31e+01    -  1.00e+00 1.25e-01f  4\n",
      "  28  9.3914987e+02 0.00e+00 1.40e+00 -11.0 1.47e+03    -  1.00e+00 4.88e-04f 12\n",
      "  29  9.3914940e+02 0.00e+00 1.56e+00 -11.0 1.02e+01    -  1.00e+00 3.12e-02f  6\n",
      "iter    objective    inf_pr   inf_du lg(mu)  ||d||  lg(rg) alpha_du alpha_pr  ls\n",
      "  30  9.3914294e+02 0.00e+00 9.79e-01 -11.0 5.38e+02    -  1.00e+00 4.88e-04f 12\n",
      "  31  9.3913252e+02 0.00e+00 2.51e-01 -11.0 5.59e-01    -  1.00e+00 1.00e+00f  1\n",
      "  32  9.3913249e+02 0.00e+00 1.47e-01 -11.0 7.35e+01    -  1.00e+00 4.88e-04f 12\n",
      "  33  9.3913249e+02 0.00e+00 6.71e-02 -11.0 4.13e+01    -  1.00e+00 4.88e-04f 12\n",
      "  34  9.3913249e+02 0.00e+00 6.73e-02 -11.0 1.89e+00    -  1.00e+00 7.81e-03f  8\n",
      "  35  9.3913201e+02 0.00e+00 7.54e-02 -11.0 2.20e+01    -  1.00e+00 7.81e-03f  8\n",
      "  36  9.3913042e+02 0.00e+00 8.12e-01 -11.0 9.03e+00    -  1.00e+00 6.25e-02f  5\n",
      "  37  9.3912983e+02 0.00e+00 1.75e-01 -11.0 1.69e-02    -  1.00e+00 1.00e+00f  1\n",
      "  38  9.3912981e+02 0.00e+00 1.14e-01 -11.0 6.10e-01    -  1.00e+00 6.25e-02f  5\n",
      "  39  9.3912980e+02 0.00e+00 1.08e-01 -11.0 4.79e+01    -  1.00e+00 4.88e-04f 12\n",
      "iter    objective    inf_pr   inf_du lg(mu)  ||d||  lg(rg) alpha_du alpha_pr  ls\n",
      "  40  9.3912975e+02 0.00e+00 1.13e-01 -11.0 2.38e+02    -  1.00e+00 4.88e-04f 12\n",
      "  41  9.3912973e+02 0.00e+00 1.86e-01 -11.0 3.80e+02    -  1.00e+00 2.44e-04f 13\n",
      "  42  9.3912940e+02 0.00e+00 4.27e-01 -11.0 1.71e+02    -  1.00e+00 3.91e-03f  9\n",
      "  43  9.3912932e+02 0.00e+00 2.46e-01 -11.0 1.83e-01    -  1.00e+00 5.00e-01f  2\n",
      "  44  9.3912926e+02 0.00e+00 2.88e-01 -11.0 2.12e+01    -  1.00e+00 3.91e-03f  9\n",
      "  45  9.3912926e+02 0.00e+00 3.01e-01 -11.0 6.71e+01    -  1.00e+00 4.88e-04f 12\n",
      "  46  9.3912926e+02 0.00e+00 3.05e-01 -11.0 3.93e+00    -  1.00e+00 3.91e-03f  9\n",
      "  47  9.3912918e+02 0.00e+00 1.03e-01 -11.0 4.72e+01    -  1.00e+00 6.25e-02f  5\n",
      "Warning: Cutting back alpha due to evaluation error\n",
      "Warning: Cutting back alpha due to evaluation error\n",
      "  48  9.3912918e+02 0.00e+00 1.03e-01 -11.0 1.64e+03    -  1.00e+00 3.81e-06f 18\n",
      "  49  9.3912907e+02 0.00e+00 5.00e-02 -11.0 3.80e-01    -  1.00e+00 1.00e+00f  1\n",
      "iter    objective    inf_pr   inf_du lg(mu)  ||d||  lg(rg) alpha_du alpha_pr  ls\n",
      "  50  9.3912907e+02 0.00e+00 7.47e-03 -11.0 2.50e+04    -  1.00e+00 3.81e-06f 19\n",
      "  51  9.3912907e+02 0.00e+00 6.96e-03 -11.0 1.17e+02    -  1.00e+00 3.05e-05f 16\n",
      "  52  9.3912907e+02 0.00e+00 6.85e-03 -11.0 1.12e+02    -  1.00e+00 4.88e-04f 12\n",
      "  53  9.3912907e+02 0.00e+00 1.44e-02 -11.0 6.19e+03    -  1.00e+00 2.44e-04f 13\n",
      "  54  9.3912907e+02 0.00e+00 4.43e-03 -11.0 5.39e+05    -  1.00e+00 1.91e-06f 20\n",
      "  55  9.3912907e+02 0.00e+00 7.69e-03 -11.0 2.28e+02    -  1.00e+00 1.95e-03f 10\n",
      "  56  9.3912907e+02 0.00e+00 7.42e-03 -11.0 7.12e+02    -  1.00e+00 6.10e-05f 15\n",
      "  57  9.3912907e+02 0.00e+00 7.92e-03 -11.0 3.06e+02    -  1.00e+00 1.95e-03f 10\n",
      "Warning: Cutting back alpha due to evaluation error\n",
      "Warning: Cutting back alpha due to evaluation error\n",
      "  58  9.3912907e+02 0.00e+00 8.46e-03 -11.0 1.22e+05    -  1.00e+00 1.19e-07f 24\n",
      "  59  9.3912907e+02 0.00e+00 1.13e-02 -11.0 6.24e+00    -  1.00e+00 2.50e-01f  3\n",
      "iter    objective    inf_pr   inf_du lg(mu)  ||d||  lg(rg) alpha_du alpha_pr  ls\n",
      "  60  1.0543265e+43 0.00e+00 1.05e+43 -11.0 1.94e+07    -  1.00e+00 1.00e+00w  1\n",
      "Warning: Cutting back alpha due to evaluation error\n",
      "  61  9.3912907e+02 0.00e+00 4.11e-03 -11.0 3.64e+62  -4.5 1.00e+00 1.91e-06f 19\n",
      "Warning: Cutting back alpha due to evaluation error\n",
      "Warning: Cutting back alpha due to evaluation error\n",
      "Warning: Cutting back alpha due to evaluation error\n",
      "Warning: Cutting back alpha due to evaluation error\n",
      "Warning: Cutting back alpha due to evaluation error\n",
      "Warning: Cutting back alpha due to evaluation error\n",
      "Warning: Cutting back alpha due to evaluation error\n",
      "Warning: Cutting back alpha due to evaluation error\n",
      "Warning: Cutting back alpha due to evaluation error\n",
      "Warning: Cutting back alpha due to evaluation error\n",
      "Warning: Cutting back alpha due to evaluation error\n",
      "Warning: Cutting back alpha due to evaluation error\n",
      "Warning: Cutting back alpha due to evaluation error\n",
      "Warning: Cutting back alpha due to evaluation error\n",
      "Warning: Cutting back alpha due to evaluation error\n",
      "Warning: Cutting back alpha due to evaluation error\n",
      "Warning: Cutting back alpha due to evaluation error\n",
      "Warning: Cutting back alpha due to evaluation error\n",
      "Warning: Cutting back alpha due to evaluation error\n",
      "Warning: Cutting back alpha due to evaluation error\n",
      "Warning: Cutting back alpha due to evaluation error\n",
      "Warning: Cutting back alpha due to evaluation error\n",
      "Warning: Cutting back alpha due to evaluation error\n",
      "Warning: Cutting back alpha due to evaluation error\n",
      "Warning: Cutting back alpha due to evaluation error\n",
      "Warning: Cutting back alpha due to evaluation error\n",
      "Warning: Cutting back alpha due to evaluation error\n",
      "Warning: Cutting back alpha due to evaluation error\n",
      "Warning: Cutting back alpha due to evaluation error\n",
      "Warning: Cutting back alpha due to evaluation error\n",
      "Warning: Cutting back alpha due to evaluation error\n",
      "Warning: Cutting back alpha due to evaluation error\n",
      "Warning: Cutting back alpha due to evaluation error\n",
      "Warning: Cutting back alpha due to evaluation error\n",
      "Warning: Cutting back alpha due to evaluation error\n",
      "Warning: Cutting back alpha due to evaluation error\n",
      "Warning: Cutting back alpha due to evaluation error\n",
      "Warning: Cutting back alpha due to evaluation error\n",
      "Warning: Cutting back alpha due to evaluation error\n",
      "Warning: Cutting back alpha due to evaluation error\n",
      "Warning: Cutting back alpha due to evaluation error\n",
      "Warning: Cutting back alpha due to evaluation error\n",
      "Warning: Cutting back alpha due to evaluation error\n",
      "Warning: Cutting back alpha due to evaluation error\n",
      "Warning: Cutting back alpha due to evaluation error\n",
      "Warning: Cutting back alpha due to evaluation error\n",
      "Warning: Cutting back alpha due to evaluation error\n",
      "Warning: Cutting back alpha due to evaluation error\n",
      "Warning: Cutting back alpha due to evaluation error\n",
      "Warning: Cutting back alpha due to evaluation error\n",
      "Warning: Cutting back alpha due to evaluation error\n",
      "Warning: Cutting back alpha due to evaluation error\n",
      "Warning: Cutting back alpha due to evaluation error\n",
      "Warning: Cutting back alpha due to evaluation error\n",
      "Warning: Cutting back alpha due to evaluation error\n",
      "  62  9.3912907e+02 0.00e+00 4.05e-03 -11.0 1.06e+19  -0.0 1.00e+00 1.32e-23f 77\n",
      "  63  9.3912907e+02 0.00e+00 4.05e-03 -11.0 3.70e-23  20.0 1.00e+00 1.00e+00   0\n",
      "Cholesky factorization failed for LBFGS update! Skipping update.\n",
      "  64  9.3912907e+02 0.00e+00 4.92e-03 -11.0 8.71e-06  20.0 1.00e+00 1.00e+00h  1\n",
      "  65  9.3912907e+02 0.00e+00 5.79e-03 -11.0 8.70e-06  20.0 1.00e+00 1.00e+00h  1\n",
      "  66  9.3912907e+02 0.00e+00 1.01e-02 -11.0 5.79e-03    -  1.00e+00 7.81e-03f  8\n",
      "  67  9.3912907e+02 0.00e+00 4.05e-03 -11.0 3.62e-05    -  1.00e+00 1.00e+00f  1\n",
      "  68  9.3912907e+02 0.00e+00 3.18e-04 -11.0 2.06e-05    -  1.00e+00 1.00e+00f  1\n",
      "  69  9.3912907e+02 0.00e+00 3.13e-04 -11.0 2.12e-06    -  1.00e+00 1.00e+00f  1\n",
      "iter    objective    inf_pr   inf_du lg(mu)  ||d||  lg(rg) alpha_du alpha_pr  ls\n",
      "  70  9.3912907e+02 0.00e+00 3.96e-03 -11.0 4.85e-04    -  1.00e+00 2.50e-01f  3\n",
      "  71  9.3912907e+02 0.00e+00 9.39e-04 -11.0 1.53e-04    -  1.00e+00 1.00e+00f  1\n",
      "  72  9.3912907e+02 0.00e+00 2.11e-04 -11.0 3.79e-05    -  1.00e+00 1.00e+00f  1\n",
      "  73  9.3912907e+02 0.00e+00 2.90e-04 -11.0 4.56e-05    -  1.00e+00 1.00e+00f  1\n",
      "  74  9.3912907e+02 0.00e+00 2.38e-04 -11.0 4.78e-05    -  1.00e+00 1.00e+00f  1\n",
      "  75  9.3912907e+02 0.00e+00 1.44e-04 -11.0 3.90e-04    -  1.00e+00 7.81e-03f  8\n",
      "  76  9.3912907e+02 0.00e+00 1.10e-04 -11.0 3.23e-05    -  1.00e+00 5.00e-01f  2\n",
      "  77  9.3912907e+02 0.00e+00 4.12e-05 -11.0 9.68e-06    -  1.00e+00 1.00e+00f  1\n",
      "  78  9.3912907e+02 0.00e+00 2.23e-04 -11.0 1.23e-04    -  1.00e+00 2.50e-01f  3\n",
      "  79  9.3912907e+02 0.00e+00 7.48e-04 -11.0 4.28e-03    -  1.00e+00 6.25e-02f  5\n",
      "iter    objective    inf_pr   inf_du lg(mu)  ||d||  lg(rg) alpha_du alpha_pr  ls\n",
      "  80  9.3912907e+02 0.00e+00 1.71e-04 -11.0 5.75e-04    -  1.00e+00 1.00e+00f  1\n",
      "  81  9.3912907e+02 0.00e+00 9.29e-05 -11.0 2.96e-03    -  1.00e+00 9.77e-04f 11\n",
      "  82  9.3912907e+02 0.00e+00 1.06e-04 -11.0 2.09e-04    -  1.00e+00 6.25e-02f  5\n",
      "  83  9.3912907e+02 0.00e+00 4.50e-05 -11.0 9.27e-05    -  1.00e+00 1.00e+00f  1\n",
      "  84  9.3912907e+02 0.00e+00 2.89e-05 -11.0 5.64e-04    -  1.00e+00 1.56e-02f  7\n",
      "  85  9.3912907e+02 0.00e+00 9.64e-06 -11.0 2.26e-05    -  1.00e+00 1.00e+00f  1\n",
      "  86  9.3912907e+02 0.00e+00 6.04e-06 -11.0 1.08e-02    -  1.00e+00 9.77e-04f 11\n",
      "  87  9.3912907e+02 0.00e+00 2.12e-05 -11.0 6.61e-05    -  1.00e+00 6.25e-02f  5\n",
      "  88  9.3912907e+02 0.00e+00 6.11e-06 -11.0 1.07e-04    -  1.00e+00 7.81e-03f  8\n",
      "  89  9.3912907e+02 0.00e+00 8.63e-07 -11.0 1.27e-05    -  1.00e+00 1.00e+00f  1\n",
      "iter    objective    inf_pr   inf_du lg(mu)  ||d||  lg(rg) alpha_du alpha_pr  ls\n",
      "  90  9.3912907e+02 0.00e+00 1.06e-05 -11.0 1.46e-05    -  1.00e+00 2.50e-01f  3\n",
      "  91  9.3912907e+02 0.00e+00 7.05e-06 -11.0 1.31e-05    -  1.00e+00 5.00e-01f  2\n",
      "  92  9.3912907e+02 0.00e+00 1.16e-05 -11.0 1.91e-04    -  1.00e+00 3.12e-02f  6\n",
      "  93  9.3912907e+02 0.00e+00 2.70e-05 -11.0 2.63e-04    -  1.00e+00 3.12e-02f  6\n",
      "  94  9.3912907e+02 0.00e+00 2.70e-05 -11.0 6.14e-04    -  1.00e+00 1.56e-02f  7\n",
      "  95  9.3912907e+02 0.00e+00 3.08e-05 -11.0 3.19e-04    -  1.00e+00 3.12e-02f  6\n",
      "  96  9.3912907e+02 0.00e+00 2.70e-05 -11.0 3.92e-05    -  1.00e+00 6.25e-02f  5\n",
      "  97  9.3912907e+02 0.00e+00 2.53e-06 -11.0 4.58e-06    -  1.00e+00 1.00e+00f  1\n",
      "  98  9.3912907e+02 0.00e+00 4.67e-06 -11.0 7.12e-07    -  1.00e+00 1.00e+00f  1\n",
      "  99  9.3912907e+02 0.00e+00 2.21e-05 -11.0 7.20e-06    -  1.00e+00 1.00e+00f  1\n",
      "iter    objective    inf_pr   inf_du lg(mu)  ||d||  lg(rg) alpha_du alpha_pr  ls\n",
      " 100  9.3912907e+02 0.00e+00 3.46e-05 -11.0 1.18e-04    -  1.00e+00 6.25e-02f  5\n",
      " 101  9.3912907e+02 0.00e+00 4.68e-05 -11.0 3.57e-04    -  1.00e+00 1.56e-02f  7\n",
      " 102  9.3912907e+02 0.00e+00 6.28e-05 -11.0 8.18e-05    -  1.00e+00 1.25e-01f  4\n",
      " 103  9.3912907e+02 0.00e+00 2.68e-05 -11.0 1.59e-04    -  1.00e+00 3.12e-02f  6\n",
      " 104  9.3912907e+02 0.00e+00 1.91e-05 -11.0 4.36e-04    -  1.00e+00 1.56e-02f  7\n",
      " 105  9.3912907e+02 0.00e+00 1.23e-05 -11.0 3.34e-05    -  1.00e+00 2.50e-01f  3\n",
      " 106  9.3912907e+02 0.00e+00 2.28e-05 -11.0 2.63e-04    -  1.00e+00 7.81e-03f  8\n",
      " 107  9.3912907e+02 0.00e+00 9.75e-06 -11.0 1.93e-05    -  1.00e+00 5.00e-01f  2\n",
      " 108  9.3912907e+02 0.00e+00 1.57e-05 -11.0 1.05e-03    -  1.00e+00 1.56e-02f  7\n",
      " 109  9.3912907e+02 0.00e+00 2.85e-05 -11.0 1.68e-04    -  1.00e+00 1.56e-02f  7\n",
      "iter    objective    inf_pr   inf_du lg(mu)  ||d||  lg(rg) alpha_du alpha_pr  ls\n",
      " 110  9.3912907e+02 0.00e+00 7.69e-05 -11.0 7.16e-05    -  1.00e+00 1.00e+00w  1\n",
      " 111  9.3912907e+02 0.00e+00 1.21e-04 -11.0 9.71e-05    -  1.00e+00 1.00e+00w  1\n",
      " 112  9.3912907e+02 0.00e+00 4.96e-03 -11.0 4.14e-03    -  1.00e+00 1.00e+00w  1\n",
      " 113  9.3912907e+02 0.00e+00 3.15e-05 -11.0 4.14e-03    -  1.00e+00 6.25e-02f  4\n",
      " 114  9.3912907e+02 0.00e+00 3.87e-05 -11.0 1.36e-03    -  1.00e+00 7.81e-03f  8\n",
      " 115  9.3912907e+02 0.00e+00 4.05e-05 -11.0 2.10e-03    -  1.00e+00 3.91e-03f  9\n",
      " 116  9.3912907e+02 0.00e+00 2.99e-05 -11.0 1.51e-02    -  1.00e+00 4.88e-04f 12\n",
      " 117  9.3912907e+02 0.00e+00 1.05e-07 -11.0 1.44e-05    -  1.00e+00 1.00e+00f  1\n",
      " 118  9.3912907e+02 0.00e+00 1.78e-05 -11.0 1.21e-05    -  1.00e+00 2.50e-01f  3\n",
      " 119  9.3912907e+02 0.00e+00 6.25e-11 -11.0 2.95e-06    -  1.00e+00 1.00e+00f  1\n",
      "\n",
      "Number of Iterations....: 119\n",
      "\n",
      "                                   (scaled)                 (unscaled)\n",
      "Objective...............:   9.3912907059734130e+02    9.3912907059734130e+02\n",
      "Dual infeasibility......:   6.2518202495093682e-11    6.2518202495093682e-11\n",
      "Constraint violation....:   0.0000000000000000e+00    0.0000000000000000e+00\n",
      "Complementarity.........:   0.0000000000000000e+00    0.0000000000000000e+00\n",
      "Overall NLP error.......:   6.2518202495093682e-11    6.2518202495093682e-11\n",
      "\n",
      "\n",
      "Number of objective function evaluations             = 1028\n",
      "Number of objective gradient evaluations             = 120\n",
      "Number of equality constraint evaluations            = 0\n",
      "Number of inequality constraint evaluations          = 0\n",
      "Number of equality constraint Jacobian evaluations   = 0\n",
      "Number of inequality constraint Jacobian evaluations = 0\n",
      "Number of Lagrangian Hessian evaluations             = 0\n",
      "Total CPU secs in IPOPT (w/o function evaluations)   =      0.202\n",
      "Total CPU secs in NLP function evaluations           =      0.013\n",
      "\n",
      "EXIT: Optimal Solution Found.\n"
     ]
    },
    {
     "name": "stdout",
     "output_type": "stream",
     "text": [
      "  0.556289 seconds (798.43 k allocations: 40.058 MiB, 1.60% gc time)\n",
      "gcm3.β = [247.0451407227185, 9.869278163305301]\n",
      "gcm3.τ = [0.0004927738670992512]\n",
      "gcm3.Σ = [0.15124273159977 0.020744283673140098; 0.020744283673140098 0.0028452627148421675]\n"
     ]
    }
   ],
   "source": [
    "# @time GLMCopula.fit!(gcm, NLopt.NLoptSolver(algorithm=:LD_SLSQP, maxeval=4000))\n",
    "@time GLMCopula.fit!(gcm3, IpoptSolver(print_level=5))\n",
    "@show gcm3.β\n",
    "@show gcm3.τ\n",
    "@show gcm3.Σ;"
   ]
  },
  {
   "cell_type": "code",
   "execution_count": 21,
   "metadata": {},
   "outputs": [
    {
     "name": "stdout",
     "output_type": "stream",
     "text": [
      "loglikelihood!(gcm3, true, false) = -939.1290705973413\n",
      "gcm3.∇β = [2.403771626191542e-13, -7.078226893497686e-13]\n",
      "gcm3.∇τ = [1.2686996342381462e-7]\n",
      "gcm3.∇Σ = [-0.12152695487578713 0.8860305279188898; 0.8860305279188898 -6.459884536401226]\n"
     ]
    }
   ],
   "source": [
    "@show loglikelihood!(gcm3, true, false)\n",
    "@show gcm3.∇β\n",
    "@show gcm3.∇τ\n",
    "@show gcm3.∇Σ;"
   ]
  },
  {
   "cell_type": "code",
   "execution_count": null,
   "metadata": {},
   "outputs": [],
   "source": []
  }
 ],
 "metadata": {
  "@webio": {
   "lastCommId": null,
   "lastKernelId": null
  },
  "kernelspec": {
   "display_name": "Julia 1.2.0",
   "language": "julia",
   "name": "julia-1.2"
  },
  "language_info": {
   "file_extension": ".jl",
   "mimetype": "application/julia",
   "name": "julia",
   "version": "1.2.0"
  },
  "toc": {
   "base_numbering": 1,
   "nav_menu": {
    "height": "66.52174377441406px",
    "width": "251.7391357421875px"
   },
   "number_sections": true,
   "sideBar": false,
   "skip_h1_title": true,
   "title_cell": "Table of Contents",
   "title_sidebar": "Contents",
   "toc_cell": true,
   "toc_position": {
    "height": "100px",
    "left": "1px",
    "right": "20px",
    "top": "110.579px",
    "width": "165px"
   },
   "toc_section_display": true,
   "toc_window_display": true
  },
  "toc-autonumbering": true,
  "toc-showcode": false,
  "toc-showmarkdowntxt": false,
  "toc-showtags": false
 },
 "nbformat": 4,
 "nbformat_minor": 2
}
