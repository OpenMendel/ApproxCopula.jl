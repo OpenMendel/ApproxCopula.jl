{
 "cells": [
  {
   "cell_type": "markdown",
   "metadata": {},
   "source": [
    "# n = 50 Autoregressive covariance structure \n",
    "\n",
    "We try to parameterize covariance Gamma only using two parameters rho and sigma2 as in the AR(1) structure.\n",
    "\n",
    "For n = 50 this autoregressive model converges in 35 iterations using Quasi-Newton, 15 with Newton. \n",
    "\n",
    "Here we just initialize beta under independent GLM assumptions, sigma2 using MM-Algorithm letting rho = 0, then MOM using the empirical covariance between Y_1 and Y_2.\n",
    "\n",
    "We set IPOPT convergence tolerance to 10^-6, with the adaptive mean option turned on. \n",
    "\n",
    "$$\\mu_i= 5, \\rho = 0.9, \\sigma^2 = 0.1, n_i = 50$$\n",
    "\n",
    "$$\\Gamma_i = \\sigma^2 * \\begin{pmatrix} 1 & \\rho & \\rho^2 & \\rho^3 & ...  &\\rho^{n_i - 1}\\\\ \\rho & 1 & \\rho & \\rho^2 & ... \\\\ & & ... & & \\\\ & &...& \\rho & 1 & \\rho \\\\ \\rho^{n_i - 1} & \\rho^{n_i - 2} & ...& \\rho^2 & \\rho & 1\\end{pmatrix} \\forall i \\in [1, N = 10,000]$$ \n",
    "\n",
    "1. Create a new structure\n",
    "2. Modify the loglikelihood function and related functions for this structure\n",
    "3. Add gradient and hessian with respect to AR(1) parameterization\n",
    "5. Quasi-Newton works\n",
    "6. Newton works with cross terms for: rho and sigma2 and beta and sigma2"
   ]
  },
  {
   "cell_type": "code",
   "execution_count": 1,
   "metadata": {},
   "outputs": [
    {
     "data": {
      "text/plain": [
       "50×50 Array{Float64,2}:\n",
       " 0.1          0.09         0.081        …  0.000636269  0.000572642\n",
       " 0.09         0.1          0.09            0.000706965  0.000636269\n",
       " 0.081        0.09         0.1             0.000785517  0.000706965\n",
       " 0.0729       0.081        0.09            0.000872796  0.000785517\n",
       " 0.06561      0.0729       0.081           0.000969774  0.000872796\n",
       " 0.059049     0.06561      0.0729       …  0.00107753   0.000969774\n",
       " 0.0531441    0.059049     0.06561         0.00119725   0.00107753\n",
       " 0.0478297    0.0531441    0.059049        0.00133028   0.00119725\n",
       " 0.0430467    0.0478297    0.0531441       0.00147809   0.00133028\n",
       " 0.038742     0.0430467    0.0478297       0.00164232   0.00147809\n",
       " 0.0348678    0.038742     0.0430467    …  0.0018248    0.00164232\n",
       " 0.0313811    0.0348678    0.038742        0.00202756   0.0018248\n",
       " 0.028243     0.0313811    0.0348678       0.00225284   0.00202756\n",
       " ⋮                                      ⋱               \n",
       " 0.0018248    0.00202756   0.00225284      0.0348678    0.0313811\n",
       " 0.00164232   0.0018248    0.00202756      0.038742     0.0348678\n",
       " 0.00147809   0.00164232   0.0018248    …  0.0430467    0.038742\n",
       " 0.00133028   0.00147809   0.00164232      0.0478297    0.0430467\n",
       " 0.00119725   0.00133028   0.00147809      0.0531441    0.0478297\n",
       " 0.00107753   0.00119725   0.00133028      0.059049     0.0531441\n",
       " 0.000969774  0.00107753   0.00119725      0.06561      0.059049\n",
       " 0.000872796  0.000969774  0.00107753   …  0.0729       0.06561\n",
       " 0.000785517  0.000872796  0.000969774     0.081        0.0729\n",
       " 0.000706965  0.000785517  0.000872796     0.09         0.081\n",
       " 0.000636269  0.000706965  0.000785517     0.1          0.09\n",
       " 0.000572642  0.000636269  0.000706965     0.09         0.1"
      ]
     },
     "execution_count": 1,
     "metadata": {},
     "output_type": "execute_result"
    }
   ],
   "source": [
    "using DataFrames, Random, GLM, GLMCopula, Test\n",
    "using LinearAlgebra, BenchmarkTools, Revise\n",
    "\n",
    "Random.seed!(1234)\n",
    "\n",
    "# sample size\n",
    "N = 10000\n",
    "# observations per subject\n",
    "n = 50\n",
    "ρ = 0.9\n",
    "σ2 = 0.1\n",
    "\n",
    "V = zeros(n, n) # will store the AR(1) structure without sigma2\n",
    "\n",
    "mean = 5\n",
    "\n",
    "dist = Poisson\n",
    "\n",
    "\"\"\"\n",
    "    get_AR_cov(n, ρ, σ2, V)\n",
    "Forms the AR(1) covariance structure given n (size of cluster), ρ (correlation parameter), σ2 (noise parameter)\n",
    "\"\"\"\n",
    "function get_AR_cov(n, ρ, σ2, V)\n",
    "    @inbounds for i in 1:n\n",
    "        V[i, i] = 1.0\n",
    "        @inbounds for j in i+1:n\n",
    "            V[i, j] = ρ^(j-i)\n",
    "            V[j, i] = V[i, j]\n",
    "        end\n",
    "    end\n",
    "    V\n",
    "end\n",
    "\n",
    "V = get_AR_cov(n, ρ, σ2, V)\n",
    "\n",
    "# true Gamma\n",
    "Γ = σ2 * V"
   ]
  },
  {
   "cell_type": "code",
   "execution_count": 2,
   "metadata": {},
   "outputs": [
    {
     "data": {
      "text/plain": [
       "10000-element Array{Array{Float64,1},1}:\n",
       " [7.0, 8.0, 7.0, 4.0, 8.0, 2.0, 6.0, 6.0, 6.0, 7.0  …  5.0, 3.0, 4.0, 6.0, 4.0, 5.0, 5.0, 6.0, 4.0, 7.0]\n",
       " [3.0, 7.0, 6.0, 7.0, 6.0, 6.0, 3.0, 3.0, 8.0, 5.0  …  3.0, 4.0, 5.0, 8.0, 2.0, 5.0, 4.0, 4.0, 8.0, 6.0]\n",
       " [6.0, 3.0, 3.0, 7.0, 4.0, 3.0, 6.0, 2.0, 1.0, 8.0  …  2.0, 4.0, 3.0, 4.0, 6.0, 3.0, 4.0, 4.0, 3.0, 5.0]\n",
       " [9.0, 4.0, 5.0, 3.0, 5.0, 5.0, 4.0, 12.0, 4.0, 5.0  …  4.0, 8.0, 7.0, 9.0, 5.0, 3.0, 8.0, 5.0, 4.0, 4.0]\n",
       " [5.0, 7.0, 4.0, 7.0, 4.0, 1.0, 7.0, 3.0, 5.0, 4.0  …  9.0, 7.0, 3.0, 1.0, 3.0, 5.0, 3.0, 6.0, 5.0, 5.0]\n",
       " [6.0, 6.0, 10.0, 2.0, 4.0, 2.0, 6.0, 7.0, 1.0, 5.0  …  2.0, 6.0, 3.0, 6.0, 3.0, 6.0, 4.0, 4.0, 4.0, 5.0]\n",
       " [5.0, 4.0, 6.0, 3.0, 4.0, 6.0, 0.0, 3.0, 3.0, 3.0  …  4.0, 6.0, 3.0, 3.0, 5.0, 1.0, 4.0, 1.0, 5.0, 10.0]\n",
       " [6.0, 4.0, 5.0, 7.0, 5.0, 8.0, 5.0, 3.0, 10.0, 1.0  …  5.0, 4.0, 5.0, 3.0, 4.0, 6.0, 5.0, 4.0, 7.0, 2.0]\n",
       " [4.0, 5.0, 8.0, 5.0, 5.0, 4.0, 7.0, 3.0, 3.0, 6.0  …  5.0, 2.0, 4.0, 7.0, 6.0, 5.0, 6.0, 5.0, 7.0, 4.0]\n",
       " [4.0, 6.0, 5.0, 5.0, 2.0, 4.0, 2.0, 10.0, 7.0, 5.0  …  3.0, 4.0, 6.0, 5.0, 2.0, 7.0, 9.0, 5.0, 9.0, 4.0]\n",
       " [5.0, 4.0, 7.0, 5.0, 5.0, 2.0, 5.0, 9.0, 8.0, 14.0  …  2.0, 5.0, 6.0, 8.0, 8.0, 2.0, 6.0, 5.0, 8.0, 5.0]\n",
       " [3.0, 2.0, 6.0, 5.0, 5.0, 5.0, 4.0, 2.0, 6.0, 3.0  …  8.0, 4.0, 6.0, 5.0, 7.0, 7.0, 7.0, 7.0, 6.0, 6.0]\n",
       " [3.0, 3.0, 7.0, 6.0, 5.0, 5.0, 6.0, 7.0, 7.0, 5.0  …  3.0, 9.0, 3.0, 8.0, 3.0, 6.0, 3.0, 5.0, 2.0, 6.0]\n",
       " ⋮\n",
       " [6.0, 3.0, 7.0, 5.0, 7.0, 6.0, 3.0, 2.0, 4.0, 4.0  …  5.0, 3.0, 4.0, 1.0, 3.0, 5.0, 5.0, 3.0, 4.0, 1.0]\n",
       " [7.0, 5.0, 4.0, 5.0, 7.0, 9.0, 1.0, 7.0, 4.0, 6.0  …  4.0, 6.0, 2.0, 3.0, 6.0, 4.0, 8.0, 4.0, 4.0, 5.0]\n",
       " [7.0, 6.0, 10.0, 5.0, 2.0, 5.0, 5.0, 6.0, 4.0, 3.0  …  9.0, 1.0, 6.0, 4.0, 4.0, 5.0, 5.0, 2.0, 4.0, 3.0]\n",
       " [8.0, 10.0, 9.0, 5.0, 6.0, 4.0, 8.0, 3.0, 7.0, 5.0  …  5.0, 6.0, 5.0, 7.0, 8.0, 4.0, 4.0, 5.0, 6.0, 3.0]\n",
       " [1.0, 3.0, 4.0, 5.0, 4.0, 3.0, 5.0, 6.0, 3.0, 6.0  …  7.0, 3.0, 7.0, 7.0, 7.0, 7.0, 4.0, 3.0, 3.0, 7.0]\n",
       " [3.0, 2.0, 5.0, 8.0, 1.0, 6.0, 8.0, 7.0, 2.0, 5.0  …  6.0, 7.0, 9.0, 9.0, 5.0, 9.0, 4.0, 5.0, 3.0, 3.0]\n",
       " [3.0, 2.0, 3.0, 6.0, 2.0, 5.0, 2.0, 1.0, 2.0, 1.0  …  6.0, 3.0, 4.0, 8.0, 1.0, 8.0, 6.0, 3.0, 4.0, 7.0]\n",
       " [6.0, 6.0, 5.0, 3.0, 2.0, 6.0, 6.0, 7.0, 6.0, 6.0  …  6.0, 5.0, 3.0, 6.0, 6.0, 5.0, 7.0, 9.0, 7.0, 2.0]\n",
       " [3.0, 7.0, 4.0, 3.0, 6.0, 5.0, 6.0, 6.0, 3.0, 7.0  …  7.0, 7.0, 0.0, 10.0, 7.0, 7.0, 2.0, 7.0, 7.0, 3.0]\n",
       " [1.0, 3.0, 2.0, 2.0, 6.0, 6.0, 8.0, 3.0, 5.0, 0.0  …  6.0, 5.0, 3.0, 1.0, 6.0, 8.0, 4.0, 5.0, 7.0, 5.0]\n",
       " [10.0, 15.0, 5.0, 5.0, 3.0, 2.0, 10.0, 8.0, 7.0, 7.0  …  8.0, 6.0, 2.0, 3.0, 6.0, 11.0, 7.0, 5.0, 6.0, 2.0]\n",
       " [5.0, 2.0, 3.0, 6.0, 2.0, 3.0, 4.0, 3.0, 6.0, 2.0  …  6.0, 3.0, 3.0, 2.0, 6.0, 9.0, 5.0, 6.0, 8.0, 5.0]"
      ]
     },
     "execution_count": 2,
     "metadata": {},
     "output_type": "execute_result"
    }
   ],
   "source": [
    "vecd = [dist(mean) for i in 1:n]\n",
    "nonmixed_multivariate_dist = NonMixedMultivariateDistribution(vecd, Γ)\n",
    "\n",
    "Y_Nsample = simulate_nobs_independent_vectors(nonmixed_multivariate_dist, N)"
   ]
  },
  {
   "cell_type": "code",
   "execution_count": 3,
   "metadata": {},
   "outputs": [],
   "source": [
    "Random.seed!(1234)\n",
    "\n",
    "d = Poisson()\n",
    "link = LogLink()\n",
    "D = typeof(d)\n",
    "Link = typeof(link)\n",
    "T = Float64\n",
    "gcs = Vector{GLMCopulaARObs{T, D, Link}}(undef, N)\n",
    "\n",
    "for i in 1:N\n",
    "    y = Float64.(Y_Nsample[i])\n",
    "    X = ones(n, 1)\n",
    "    gcs[i] = GLMCopulaARObs(y, X, d, link)\n",
    "end\n",
    "\n",
    "gcm = GLMCopulaARModel(gcs);"
   ]
  },
  {
   "cell_type": "code",
   "execution_count": 4,
   "metadata": {},
   "outputs": [
    {
     "name": "stdout",
     "output_type": "stream",
     "text": [
      "initializing β using Newton's Algorithm under Independence Assumption\n",
      "1 0.0 -1.1094692620433543e6 39999\n",
      "2 -1.1094692620433543e6 -1.1094692620433543e6 39999\n",
      "gcm.β = [1.6135629925799966]\n",
      "exp.(gcm.β) = [5.020668000000001]\n",
      "gcm.ρ = [1.0]\n",
      "gcm.σ2 = [0.06614485202244537]\n"
     ]
    }
   ],
   "source": [
    "initialize_model!(gcm)\n",
    "@show gcm.β\n",
    "@show exp.(gcm.β)\n",
    "@show gcm.ρ\n",
    "@show gcm.σ2;"
   ]
  },
  {
   "cell_type": "code",
   "execution_count": 5,
   "metadata": {},
   "outputs": [
    {
     "name": "stdout",
     "output_type": "stream",
     "text": [
      "exp.(gcm.β) = [5.020668000000001]\n",
      "gcm.ρ = [0.6837238623452251]\n",
      "gcm.σ2 = [0.06614485202244537]\n"
     ]
    }
   ],
   "source": [
    "Y_1 = [Y_Nsample[i][1] for i in 1:N]\n",
    "Y_2 = [Y_Nsample[i][2] for i in 1:N]\n",
    "\n",
    "update_rho!(gcm, Y_1, Y_2)\n",
    "@show exp.(gcm.β)\n",
    "@show gcm.ρ\n",
    "@show gcm.σ2;"
   ]
  },
  {
   "cell_type": "code",
   "execution_count": 6,
   "metadata": {},
   "outputs": [],
   "source": [
    "loglikelihood!(gcm, true, true)\n",
    "\n",
    "gcm1 = deepcopy(gcm);\n",
    "gcm2 = deepcopy(gcm);"
   ]
  },
  {
   "cell_type": "markdown",
   "metadata": {},
   "source": [
    "# Quasi-Newton w/ adaptive mu\n",
    "\n",
    "## Number of Iterations....: 20\n",
    "\n",
    "## 7.8 seconds"
   ]
  },
  {
   "cell_type": "code",
   "execution_count": 7,
   "metadata": {},
   "outputs": [
    {
     "name": "stdout",
     "output_type": "stream",
     "text": [
      "gcm.θ = [1.6135629925799966, 0.6837238623452251, 0.06614485202244537]\n",
      "gcm.θ = [1.6135629925799966, 0.6837238623452251, 0.06614485202244537]\n",
      "\n",
      "******************************************************************************\n",
      "This program contains Ipopt, a library for large-scale nonlinear optimization.\n",
      " Ipopt is released as open source code under the Eclipse Public License (EPL).\n",
      "         For more information visit https://github.com/coin-or/Ipopt\n",
      "******************************************************************************\n",
      "\n",
      "This is Ipopt version 3.13.4, running with linear solver mumps.\n",
      "NOTE: Other linear solvers might be more efficient (see Ipopt documentation).\n",
      "\n",
      "Number of nonzeros in equality constraint Jacobian...:        0\n",
      "Number of nonzeros in inequality constraint Jacobian.:        0\n",
      "Number of nonzeros in Lagrangian Hessian.............:        0\n",
      "\n",
      "Total number of variables............................:        3\n",
      "                     variables with only lower bounds:        1\n",
      "                variables with lower and upper bounds:        1\n",
      "                     variables with only upper bounds:        0\n",
      "Total number of equality constraints.................:        0\n",
      "Total number of inequality constraints...............:        0\n",
      "        inequality constraints with only lower bounds:        0\n",
      "   inequality constraints with lower and upper bounds:        0\n",
      "        inequality constraints with only upper bounds:        0\n",
      "\n",
      "iter    objective    inf_pr   inf_du lg(mu)  ||d||  lg(rg) alpha_du alpha_pr  ls\n",
      "   0  1.1090188e+06 0.00e+00 1.00e+02   0.0 0.00e+00    -  0.00e+00 0.00e+00   0\n",
      "gcm.θ = [1.6092431401666405, 0.6838767497408199, 0.06620985446322898]\n",
      "   1  1.1090159e+06 0.00e+00 7.75e+01  -3.4 1.00e+02    -  4.17e-02 4.32e-05f 12\n",
      "gcm.θ = [1.6110924495870926, 0.6842865793894022, 0.06689839374860689]\n",
      "   2  1.1090106e+06 0.00e+00 2.88e+01  -0.6 1.85e-03    -  1.00e+00 1.00e+00f  1\n",
      "gcm.θ = [1.6114349303453916, 0.6850270715148253, 0.06787714409587854]\n",
      "   3  1.1090086e+06 0.00e+00 2.42e+01 -11.0 9.79e-04    -  9.76e-01 1.00e+00f  1\n",
      "gcm.θ = [1.6129369486681098, 0.6985076651103866, 0.08385924807848391]\n",
      "   4  1.1089803e+06 0.00e+00 8.09e+01  -7.3 1.60e-02    -  8.01e-01 1.00e+00f  1\n",
      "gcm.θ = [1.6133043753065253, 0.7788903565575825, 0.14173976161533197]\n",
      "   5  1.1088518e+06 0.00e+00 1.03e+02  -3.7 8.04e-02    -  1.00e+00 1.00e+00f  1\n",
      "gcm.θ = [1.6159023256371, 0.8883396350115792, 0.17550663344823586]\n",
      "   6  1.1087675e+06 0.00e+00 1.77e+02  -7.3 3.20e+00    -  1.24e-01 3.42e-02f  2\n",
      "gcm.θ = [1.6100225377410053, 0.8563736932166238, 0.18978904777062142]\n",
      "   7  1.1087500e+06 0.00e+00 1.47e+01  -3.8 3.20e-02    -  9.87e-01 1.00e+00f  1\n",
      "gcm.θ = [1.6102629598087348, 0.8791614471193075, 0.19396224737528675]\n",
      "   8  1.1087424e+06 0.00e+00 5.58e+00  -5.4 2.28e-02    -  9.89e-01 1.00e+00f  1\n",
      "gcm.θ = [1.6111156109185745, 0.8769708039922366, 0.18512681115326468]\n",
      "   9  1.1087416e+06 0.00e+00 2.19e+01 -10.9 8.84e-03    -  9.72e-01 1.00e+00f  1\n",
      "gcm.θ = [1.610426483152259, 0.8721977694233527, 0.15470856094899216]\n",
      "iter    objective    inf_pr   inf_du lg(mu)  ||d||  lg(rg) alpha_du alpha_pr  ls\n",
      "  10  1.1087393e+06 0.00e+00 7.66e+00 -11.0 3.04e-02    -  9.53e-01 1.00e+00f  1\n",
      "gcm.θ = [1.6106890306820738, 0.8794831786228898, 0.11609270103466506]\n",
      "  11  1.1087352e+06 0.00e+00 8.69e+00  -9.1 3.86e-02    -  1.00e+00 1.00e+00f  1\n",
      "gcm.θ = [1.6109924935350788, 0.900778879282559, 0.08749665087270096]\n",
      "  12  1.1087320e+06 0.00e+00 2.32e+00 -11.0 2.86e-02    -  9.78e-01 1.00e+00f  1\n",
      "gcm.θ = [1.610916442192748, 0.8985303216953581, 0.1001932467421453]\n",
      "  13  1.1087316e+06 0.00e+00 3.06e+00  -9.5 2.54e-02    -  1.00e+00 5.00e-01f  2\n",
      "gcm.θ = [1.6107875590405716, 0.893812262011588, 0.10117956399306566]\n",
      "  14  1.1087315e+06 0.00e+00 1.44e+00 -11.0 4.72e-03    -  9.74e-01 1.00e+00f  1\n",
      "gcm.θ = [1.6108315841313747, 0.8959269037617558, 0.09926412202753994]\n",
      "  15  1.1087314e+06 0.00e+00 6.46e-02 -11.0 2.11e-03    -  1.00e+00 1.00e+00f  1\n",
      "gcm.θ = [1.61081989052195, 0.8959828256286814, 0.09917629998720195]\n",
      "  16  1.1087314e+06 0.00e+00 4.36e-01 -11.0 3.51e-04    -  1.00e+00 2.50e-01f  3\n",
      "gcm.θ = [1.6108394282599854, 0.8961840536178036, 0.09875514066252963]\n",
      "  17  1.1087314e+06 0.00e+00 1.16e-01 -11.0 3.37e-03    -  1.00e+00 1.25e-01f  4\n",
      "gcm.θ = [1.6108349817971523, 0.8961113992913933, 0.09889486990034195]\n",
      "  18  1.1087314e+06 0.00e+00 4.91e-04 -11.0 1.40e-04    -  1.00e+00 1.00e+00f  1\n",
      "gcm.θ = [1.6108349774837116, 0.8961114693986066, 0.09889439544631393]\n",
      "  19  1.1087314e+06 0.00e+00 2.34e-04 -11.0 9.49e-07    -  1.00e+00 5.00e-01f  2\n",
      "gcm.θ = [1.610834973594887, 0.8961115503514183, 0.09889395343093092]\n",
      "iter    objective    inf_pr   inf_du lg(mu)  ||d||  lg(rg) alpha_du alpha_pr  ls\n",
      "  20  1.1087314e+06 0.00e+00 5.86e-07 -11.0 4.42e-07    -  1.00e+00 1.00e+00f  1\n",
      "\n",
      "Number of Iterations....: 20\n",
      "\n",
      "                                   (scaled)                 (unscaled)\n",
      "Objective...............:   2.0338424751221839e+04    1.1087314092415082e+06\n",
      "Dual infeasibility......:   5.8592874691156739e-07    3.1941392375500754e-05\n",
      "Constraint violation....:   0.0000000000000000e+00    0.0000000000000000e+00\n",
      "Complementarity.........:   1.0000000000014637e-11    5.4514124019192956e-10\n",
      "Overall NLP error.......:   5.8592874691156739e-07    3.1941392375500754e-05\n",
      "\n",
      "\n",
      "Number of objective function evaluations             = 64\n",
      "Number of objective gradient evaluations             = 21\n",
      "Number of equality constraint evaluations            = 0\n",
      "Number of inequality constraint evaluations          = 0\n",
      "Number of equality constraint Jacobian evaluations   = 0\n",
      "Number of inequality constraint Jacobian evaluations = 0\n",
      "Number of Lagrangian Hessian evaluations             = 0\n",
      "Total CPU secs in IPOPT (w/o function evaluations)   =      0.194\n",
      "Total CPU secs in NLP function evaluations           =      7.116\n",
      "\n",
      "EXIT: Optimal Solution Found.\n",
      "  7.800610 seconds (819.22 k allocations: 41.461 MiB)\n"
     ]
    },
    {
     "data": {
      "text/plain": [
       "-1.1087314092415082e6"
      ]
     },
     "execution_count": 7,
     "metadata": {},
     "output_type": "execute_result"
    }
   ],
   "source": [
    "@time GLMCopula.fit!(gcm1, IpoptSolver(print_level = 5, max_iter = 100, tol = 10^-6, mu_strategy = \"adaptive\", mu_oracle = \"loqo\", hessian_approximation = \"limited-memory\"))"
   ]
  },
  {
   "cell_type": "markdown",
   "metadata": {},
   "source": [
    "# Newton w/ adaptive mu\n",
    "## Number of Iterations....: 12\n",
    "\n",
    "## 7.38 seconds"
   ]
  },
  {
   "cell_type": "code",
   "execution_count": 8,
   "metadata": {},
   "outputs": [
    {
     "name": "stdout",
     "output_type": "stream",
     "text": [
      "gcm.θ = [1.6135629925799966, 0.6837238623452251, 0.06614485202244537]\n",
      "gcm.θ = [1.6135629925799966, 0.6837238623452251, 0.06614485202244537]\n",
      "This is Ipopt version 3.13.4, running with linear solver mumps.\n",
      "NOTE: Other linear solvers might be more efficient (see Ipopt documentation).\n",
      "\n",
      "Number of nonzeros in equality constraint Jacobian...:        0\n",
      "Number of nonzeros in inequality constraint Jacobian.:        0\n",
      "Number of nonzeros in Lagrangian Hessian.............:        5\n",
      "\n",
      "Total number of variables............................:        3\n",
      "                     variables with only lower bounds:        1\n",
      "                variables with lower and upper bounds:        1\n",
      "                     variables with only upper bounds:        0\n",
      "Total number of equality constraints.................:        0\n",
      "Total number of inequality constraints...............:        0\n",
      "        inequality constraints with only lower bounds:        0\n",
      "   inequality constraints with lower and upper bounds:        0\n",
      "        inequality constraints with only upper bounds:        0\n",
      "\n",
      "iter    objective    inf_pr   inf_du lg(mu)  ||d||  lg(rg) alpha_du alpha_pr  ls\n",
      "   0  1.1090188e+06 0.00e+00 1.00e+02   0.0 0.00e+00    -  0.00e+00 0.00e+00   0\n",
      "gcm.θ = [1.6127303044616557, 0.8402805554343387, 0.08438656906313552]\n",
      "   1  1.1087900e+06 0.00e+00 6.51e+01  -3.4 4.62e-01   2.0 5.47e-01 3.39e-01f  2\n",
      "gcm.θ = [1.61212473108702, 0.919341685444341, 0.08101800438507262]\n",
      "   2  1.1087436e+06 0.00e+00 3.71e+01  -1.1 2.30e-01    -  1.00e+00 3.44e-01f  2\n",
      "gcm.θ = [1.6109582049703868, 0.902218702670203, 0.09487724545585878]\n",
      "   3  1.1087321e+06 0.00e+00 4.94e+00  -6.2 1.71e-02    -  8.17e-01 1.00e+00f  1\n",
      "gcm.θ = [1.610858434498442, 0.8965915052591886, 0.09862971582022588]\n",
      "   4  1.1087314e+06 0.00e+00 7.25e-01  -6.5 5.63e-03    -  9.36e-01 1.00e+00f  1\n",
      "gcm.θ = [1.610836482578958, 0.8961254706587073, 0.09885642053458052]\n",
      "   5  1.1087314e+06 0.00e+00 4.14e-02  -5.2 4.66e-04    -  9.99e-01 1.00e+00f  1\n",
      "gcm.θ = [1.610835216065193, 0.8961122870477092, 0.09889147113290489]\n",
      "   6  1.1087314e+06 0.00e+00 7.48e-03 -11.0 3.51e-05    -  9.90e-01 1.00e+00f  1\n",
      "gcm.θ = [1.6108349902006667, 0.8961116662672269, 0.09889356287281376]\n",
      "   7  1.1087314e+06 0.00e+00 4.59e-04 -11.0 2.09e-06    -  9.93e-01 1.00e+00f  1\n",
      "gcm.θ = [1.6108349761551461, 0.8961115580835345, 0.0988939266771629]\n",
      "   8  1.1087314e+06 0.00e+00 7.82e-05  -9.4 3.64e-07    -  1.00e+00 1.00e+00f  1\n",
      "gcm.θ = [1.6108349737910599, 0.8961115512900072, 0.09889394952521711]\n",
      "   9  1.1087314e+06 0.00e+00 5.01e-06 -11.0 2.28e-08    -  1.00e+00 1.00e+00f  1\n",
      "gcm.θ = [1.6108349737907608, 0.8961115512877957, 0.09889394953265375]\n",
      "iter    objective    inf_pr   inf_du lg(mu)  ||d||  lg(rg) alpha_du alpha_pr  ls\n",
      "  10  1.1087314e+06 0.00e+00 5.00e-06 -11.0 3.81e-09    -  1.00e+00 1.95e-03f 10\n",
      "gcm.θ = [1.6108349737906116, 0.8961115512866921, 0.09889394953636528]\n",
      "  11  1.1087314e+06 0.00e+00 5.00e-06 -11.0 3.80e-09    -  1.00e+00 9.77e-04f 11\n",
      "gcm.θ = [1.6108349736379017, 0.8961115501575265, 0.09889395333350837]\n",
      "  12  1.1087314e+06 0.00e+00 8.17e-07 -11.0 3.80e-09    -  1.00e+00 1.00e+00f  1\n",
      "\n",
      "Number of Iterations....: 12\n",
      "\n",
      "                                   (scaled)                 (unscaled)\n",
      "Objective...............:   2.0338424751221752e+04    1.1087314092415036e+06\n",
      "Dual infeasibility......:   8.1683124978486541e-07    4.4528840053459362e-05\n",
      "Constraint violation....:   0.0000000000000000e+00    0.0000000000000000e+00\n",
      "Complementarity.........:   9.9999999999999994e-12    5.4514124019113164e-10\n",
      "Overall NLP error.......:   8.1683124978486541e-07    4.4528840053459362e-05\n",
      "\n",
      "\n",
      "Number of objective function evaluations             = 50\n",
      "Number of objective gradient evaluations             = 13\n",
      "Number of equality constraint evaluations            = 0\n",
      "Number of inequality constraint evaluations          = 0\n",
      "Number of equality constraint Jacobian evaluations   = 0\n",
      "Number of inequality constraint Jacobian evaluations = 0\n",
      "Number of Lagrangian Hessian evaluations             = 12\n",
      "Total CPU secs in IPOPT (w/o function evaluations)   =      0.177\n",
      "Total CPU secs in NLP function evaluations           =      7.073\n",
      "\n",
      "EXIT: Optimal Solution Found.\n",
      "  7.386350 seconds (412.47 k allocations: 35.656 MiB)\n"
     ]
    },
    {
     "data": {
      "text/plain": [
       "-1.1087314092415036e6"
      ]
     },
     "execution_count": 8,
     "metadata": {},
     "output_type": "execute_result"
    }
   ],
   "source": [
    "@time GLMCopula.fit!(gcm2, IpoptSolver(print_level = 5, max_iter = 100, tol = 10^-6, mu_strategy = \"adaptive\", mu_oracle = \"loqo\", hessian_approximation = \"exact\"))"
   ]
  },
  {
   "cell_type": "code",
   "execution_count": 9,
   "metadata": {},
   "outputs": [
    {
     "name": "stdout",
     "output_type": "stream",
     "text": [
      "gcm1.∇θ = [3.1941392375500754e-5, -1.1120928782304418e-5, -1.853362216586163e-6]\n",
      "gcm2.∇θ = [-4.452884005345936e-5, 1.7802322949123095e-7, 1.8150069429623272e-6]\n"
     ]
    }
   ],
   "source": [
    "@show gcm1.∇θ   # default quasi newton\n",
    "@show gcm2.∇θ;  # newton default adaptive"
   ]
  },
  {
   "cell_type": "code",
   "execution_count": 10,
   "metadata": {},
   "outputs": [
    {
     "name": "stdout",
     "output_type": "stream",
     "text": [
      "gcm1.θ = [1.610834973594887, 0.8961115503514183, 0.09889395343093092]\n",
      "gcm2.θ = [1.6108349736379017, 0.8961115501575265, 0.09889395333350837]\n"
     ]
    }
   ],
   "source": [
    "@show gcm1.θ  # default quasi newton\n",
    "@show gcm2.θ; # newton default adaptive"
   ]
  },
  {
   "cell_type": "code",
   "execution_count": 11,
   "metadata": {},
   "outputs": [
    {
     "name": "stdout",
     "output_type": "stream",
     "text": [
      "loglikelihood!(gcm1, true, true) = -1.1087314092415082e6\n",
      "loglikelihood!(gcm2, true, true) = -1.1087314092415036e6\n"
     ]
    }
   ],
   "source": [
    "@show loglikelihood!(gcm1, true, true)  # default quasi newton\n",
    "@show loglikelihood!(gcm2, true, true); # newton default adaptive"
   ]
  },
  {
   "cell_type": "code",
   "execution_count": null,
   "metadata": {},
   "outputs": [],
   "source": []
  }
 ],
 "metadata": {
  "@webio": {
   "lastCommId": null,
   "lastKernelId": null
  },
  "kernelspec": {
   "display_name": "Julia 1.5.2",
   "language": "julia",
   "name": "julia-1.5"
  },
  "language_info": {
   "file_extension": ".jl",
   "mimetype": "application/julia",
   "name": "julia",
   "version": "1.5.2"
  }
 },
 "nbformat": 4,
 "nbformat_minor": 4
}
