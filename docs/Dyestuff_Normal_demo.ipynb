{
 "cells": [
  {
   "cell_type": "markdown",
   "metadata": {},
   "source": [
    "### Model Fit Comparison: LMM vs GLMCopula"
   ]
  },
  {
   "cell_type": "markdown",
   "metadata": {},
   "source": [
    "# Dyestuff Data\n",
    "\n",
    "This is a random intercept model Y ~ 1 + (1|G) for a data set in R. The fitted model by the MixedModels.jl package yields a loglikelihood of -163.66353. We will see the copula model has a slightly better fit with loglikelihood -163.35545."
   ]
  },
  {
   "cell_type": "code",
   "execution_count": null,
   "metadata": {},
   "outputs": [],
   "source": [
    "using RDatasets, Test, GLM, LinearAlgebra, GLMCopula\n",
    "using LinearAlgebra: BlasReal, copytri!\n",
    "# Dataframe with columns: Batch (Categorical), Yield (Int32)\n",
    "dyestuff = dataset(\"lme4\", \"Dyestuff\")\n",
    "groups = unique(dyestuff[!, :Batch])\n",
    "n, p, m = length(groups), 1, 2\n",
    "d = Normal()\n",
    "link = IdentityLink()\n",
    "D = typeof(d)\n",
    "Link = typeof(link)\n",
    "T = Float64\n",
    "gcs = Vector{GLMCopulaVCObs{T, D, Link}}(undef, n)\n",
    "for (i, grp) in enumerate(groups)\n",
    "    gidx = dyestuff[!, :Batch] .== grp\n",
    "    ni = count(gidx)\n",
    "    y = Float64.(dyestuff[gidx, :Yield])\n",
    "    X = ones(ni, 1)\n",
    "    V = [ones(ni, ni), Matrix(I, ni, ni)]\n",
    "    gcs[i] = GLMCopulaVCObs(y, X, V, d, link)\n",
    "end\n",
    "gcm = GLMCopulaVCModel(gcs);"
   ]
  },
  {
   "cell_type": "code",
   "execution_count": null,
   "metadata": {},
   "outputs": [],
   "source": [
    "# initialize β and τ from least square solution\n",
    "@info \"Initial point:\"\n",
    "initialize_model!(gcm);\n",
    "#gcm.β .= [1527.4999999999998]\n",
    "@show gcm.β\n",
    "# update σ2 and τ from β using the MM algorithm\n",
    "fill!(gcm.Σ, 1)\n",
    "# update_Σ!(gcm, 500, 1e-6, GurobiSolver(OutputFlag=0), true)\n",
    "update_Σ!(gcm)\n",
    "@show gcm.τ\n",
    "@show gcm.Σ;"
   ]
  },
  {
   "cell_type": "code",
   "execution_count": null,
   "metadata": {},
   "outputs": [],
   "source": [
    "@show loglikelihood!(gcm, true, true)\n",
    "@test loglikelihood!(gcm, true, true) ≈ -164.0008237940362"
   ]
  },
  {
   "cell_type": "code",
   "execution_count": null,
   "metadata": {},
   "outputs": [],
   "source": [
    "# fit model using NLP on profiled loglikelihood\n",
    "@info \"MLE:\"\n",
    "# @time GeneralizedCopula.fit!(gcm, IpoptSolver(print_level=5))\n",
    "@time fit2!(gcm, IpoptSolver(print_level = 5, derivative_test = \"first-order\"))"
   ]
  },
  {
   "cell_type": "code",
   "execution_count": null,
   "metadata": {},
   "outputs": [],
   "source": [
    "@show gcm.β\n",
    "@show gcm.τ\n",
    "@show gcm.Σ\n",
    "@show loglikelihood!(gcm, true, true)\n",
    "@test loglikelihood!(gcm, true, false) ≈ -163.35545423301846\n",
    "@show gcm.∇β\n",
    "@show gcm.Hβ"
   ]
  },
  {
   "cell_type": "code",
   "execution_count": null,
   "metadata": {},
   "outputs": [],
   "source": []
  }
 ],
 "metadata": {
  "@webio": {
   "lastCommId": null,
   "lastKernelId": null
  },
  "kernelspec": {
   "display_name": "Julia 1.5.2",
   "language": "julia",
   "name": "julia-1.5"
  },
  "language_info": {
   "file_extension": ".jl",
   "mimetype": "application/julia",
   "name": "julia",
   "version": "1.5.2"
  },
  "toc": {
   "base_numbering": 1,
   "nav_menu": {},
   "number_sections": true,
   "sideBar": true,
   "skip_h1_title": false,
   "title_cell": "Table of Contents",
   "title_sidebar": "Contents",
   "toc_cell": false,
   "toc_position": {},
   "toc_section_display": true,
   "toc_window_display": false
  }
 },
 "nbformat": 4,
 "nbformat_minor": 2
}
