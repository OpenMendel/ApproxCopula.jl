{
 "cells": [
  {
   "cell_type": "markdown",
   "metadata": {},
   "source": [
    "# VC Covariance\n",
    "\n",
    "In this notebook we will demonstrate how to fit a variance component model (VCM) with Poisson base on an example dataset, \"Mmmec\", from the `mlmRev` R package. We will access the data using the `RDatasets` Julia package. \n",
    "\n",
    "For these examples, we have $n$ independent clusters indexed by $i$. \n",
    "\n",
    "Under the VC parameterization of the covariance matrix, the $i^{th}$ cluster with cluster size $d_i$, has covariance matrix $\\mathbf{\\Gamma_i}$ that takes the form: \n",
    "\n",
    "$$\\mathbf{\\Gamma_i}(\\boldsymbol{\\theta}) = \\sum_{k = 1}^m \\theta_k * \\mathbf{V_{ik}}$$ \n",
    "\n",
    "* where $m$ is the number of variance components, which are arranged in a vector $\\boldsymbol{\\theta} = \\{\\theta_1, ..., \\theta_m \\}$ for estimation\n",
    "\n",
    "* and $\\mathbf{V_{ik}}, k \\in [1, m]$ are symmetric, positive semi-definite matrices of dimension $d_i \\times d_i$ provided by the user.\n",
    "\n",
    "### Table of Contents:\n",
    "* [Example 1: Single VCM (mlmRev:Mmmec)](#Example-1:-Single-VCM-(Random-Intercept-Model))\n",
    "* [Example 2: Multiple VCM (mlmRev:Mmmec)](#Example-2:-Multiple-VCM)\n"
   ]
  },
  {
   "cell_type": "code",
   "execution_count": 1,
   "metadata": {},
   "outputs": [
    {
     "name": "stdout",
     "output_type": "stream",
     "text": [
      "Julia Version 1.6.2\n",
      "Commit 1b93d53fc4 (2021-07-14 15:36 UTC)\n",
      "Platform Info:\n",
      "  OS: macOS (x86_64-apple-darwin18.7.0)\n",
      "  CPU: Intel(R) Core(TM) i9-9880H CPU @ 2.30GHz\n",
      "  WORD_SIZE: 64\n",
      "  LIBM: libopenlibm\n",
      "  LLVM: libLLVM-11.0.1 (ORCJIT, skylake)\n"
     ]
    }
   ],
   "source": [
    "versioninfo()"
   ]
  },
  {
   "cell_type": "code",
   "execution_count": 2,
   "metadata": {
    "scrolled": true
   },
   "outputs": [],
   "source": [
    "using CSV, DataFrames, GLMCopula, LinearAlgebra, GLM, RCall, RData, RDatasets"
   ]
  },
  {
   "cell_type": "markdown",
   "metadata": {},
   "source": [
    "## Example 1: Single VCM (Random Intercept Model)"
   ]
  },
  {
   "cell_type": "markdown",
   "metadata": {},
   "source": [
    "We first demonstrate how to fit the model with Poisson base and a single variance component using the \"Mmmec\" dataset from the \"mlmRev\" package in R. \n",
    "\n",
    "By default, the `VC_model` function will construct a random intercept model using a single variance component. That is, it will parameterize $\\boldsymbol{\\Gamma_i}(\\boldsymbol{\\theta})$ for each cluster $i$ with cluster size ${d_i}$ as follows:\n",
    "\n",
    "$$\\mathbf{\\Gamma_i}(\\boldsymbol{\\theta}) = \\theta_1 * \\mathbf{1_{d_i}} \\mathbf{1_{d_i}}^t$$\n"
   ]
  },
  {
   "cell_type": "code",
   "execution_count": 3,
   "metadata": {},
   "outputs": [],
   "source": [
    "Mmmec = dataset(\"mlmRev\", \"Mmmec\");"
   ]
  },
  {
   "cell_type": "markdown",
   "metadata": {},
   "source": [
    "Let's take a preview of the first 20 lines of the Mmmec dataset."
   ]
  },
  {
   "cell_type": "code",
   "execution_count": 4,
   "metadata": {},
   "outputs": [
    {
     "name": "stdout",
     "output_type": "stream",
     "text": [
      "Mmmec[1:20, :] = 20×6 DataFrame\n",
      " Row │ Nation     Region  County  Deaths  Expected  UVB\n",
      "     │ Cat…       Cat…    Cat…    Int32   Float64   Float64\n",
      "─────┼──────────────────────────────────────────────────────\n",
      "   1 │ Belgium    1       1           79   51.222   -2.9057\n",
      "   2 │ Belgium    2       2           80   79.956   -3.2075\n",
      "   3 │ Belgium    2       3           51   46.5169  -2.8038\n",
      "   4 │ Belgium    2       4           43   55.053   -3.0069\n",
      "   5 │ Belgium    2       5           89   67.758   -3.0069\n",
      "   6 │ Belgium    2       6           19   35.976   -3.4175\n",
      "   7 │ Belgium    3       7           19   13.28    -2.6671\n",
      "   8 │ Belgium    3       8           15   66.5579  -2.6671\n",
      "   9 │ Belgium    3       9           33   50.969   -3.1222\n",
      "  10 │ Belgium    3       10           9   11.171   -2.4852\n",
      "  11 │ Belgium    3       11          12   19.683   -2.5293\n",
      "  12 │ W.Germany  4       12         156  108.04    -1.1375\n",
      "  13 │ W.Germany  4       13         110   73.692   -1.3977\n",
      "  14 │ W.Germany  4       14          77   57.098   -0.4386\n",
      "  15 │ W.Germany  4       15          56   46.622   -1.0249\n",
      "  16 │ W.Germany  5       16         220  112.61    -0.5033\n",
      "  17 │ W.Germany  5       17          46   30.334   -1.4609\n",
      "  18 │ W.Germany  5       18          47   29.973   -1.8956\n",
      "  19 │ W.Germany  5       19          50   32.027   -2.5541\n",
      "  20 │ W.Germany  5       20          90   46.521   -1.9671\n"
     ]
    }
   ],
   "source": [
    "@show Mmmec[1:20, :];"
   ]
  },
  {
   "cell_type": "markdown",
   "metadata": {},
   "source": [
    "#### Forming the Model\n",
    "\n",
    "To form the model, we give it the following arguments:\n",
    "\n",
    "- named dataframe\n",
    "- outcome variable name of interest as a symbol\n",
    "- grouping variable name of interest as a symbol\n",
    "- covariate names of interest as a vector of symbols\n",
    "- base distribution\n",
    "- link function\n"
   ]
  },
  {
   "cell_type": "code",
   "execution_count": 5,
   "metadata": {},
   "outputs": [],
   "source": [
    "df = Mmmec\n",
    "y = :Deaths\n",
    "grouping = :Region\n",
    "covariates = [:UVB]\n",
    "d = Poisson()\n",
    "link = LogLink()\n",
    "\n",
    "Poisson_VC_model = VC_model(df, y, grouping, covariates, d, link);"
   ]
  },
  {
   "cell_type": "markdown",
   "metadata": {},
   "source": [
    "Fit the model. By default, we limit the maximum number of Quasi-Newton iterations to 100, and set the convergence tolerance to $10^{-6}.$ "
   ]
  },
  {
   "cell_type": "code",
   "execution_count": 6,
   "metadata": {},
   "outputs": [
    {
     "name": "stdout",
     "output_type": "stream",
     "text": [
      "initializing β using Newton's Algorithm under Independence Assumption\n",
      "gcm.β = [3.25512456536309, -0.07968965522100831]\n",
      "initializing variance components using MM-Algorithm\n",
      "gcm.θ = [1.0]\n",
      "\n",
      "******************************************************************************\n",
      "This program contains Ipopt, a library for large-scale nonlinear optimization.\n",
      " Ipopt is released as open source code under the Eclipse Public License (EPL).\n",
      "         For more information visit https://github.com/coin-or/Ipopt\n",
      "******************************************************************************\n",
      "\n",
      "Total number of variables............................:        3\n",
      "                     variables with only lower bounds:        1\n",
      "                variables with lower and upper bounds:        0\n",
      "                     variables with only upper bounds:        0\n",
      "Total number of equality constraints.................:        0\n",
      "Total number of inequality constraints...............:        0\n",
      "        inequality constraints with only lower bounds:        0\n",
      "   inequality constraints with lower and upper bounds:        0\n",
      "        inequality constraints with only upper bounds:        0\n",
      "\n",
      "\n",
      "Number of Iterations....: 56\n",
      "\n",
      "                                   (scaled)                 (unscaled)\n",
      "Objective...............:   1.5124244154849350e+03    5.8200416853931556e+03\n",
      "Dual infeasibility......:   4.3338249104395330e-07    1.6677224579098036e-06\n",
      "Constraint violation....:   0.0000000000000000e+00    0.0000000000000000e+00\n",
      "Complementarity.........:   9.0909090909090901e-08    3.4983215905203376e-07\n",
      "Overall NLP error.......:   4.3338249104395330e-07    1.6677224579098036e-06\n",
      "\n",
      "\n",
      "Number of objective function evaluations             = 77\n",
      "Number of objective gradient evaluations             = 57\n",
      "Number of equality constraint evaluations            = 0\n",
      "Number of inequality constraint evaluations          = 0\n",
      "Number of equality constraint Jacobian evaluations   = 0\n",
      "Number of inequality constraint Jacobian evaluations = 0\n",
      "Number of Lagrangian Hessian evaluations             = 56\n",
      "Total CPU secs in IPOPT (w/o function evaluations)   =      0.078\n",
      "Total CPU secs in NLP function evaluations           =      0.041\n",
      "\n",
      "EXIT: Optimal Solution Found.\n"
     ]
    }
   ],
   "source": [
    "GLMCopula.fit!(Poisson_VC_model);"
   ]
  },
  {
   "cell_type": "markdown",
   "metadata": {},
   "source": [
    "We can take a look at the MLE's"
   ]
  },
  {
   "cell_type": "code",
   "execution_count": 7,
   "metadata": {},
   "outputs": [
    {
     "name": "stdout",
     "output_type": "stream",
     "text": [
      "Poisson_VC_model.β = [3.2954590224335103, -0.07184274041348349]\n",
      "Poisson_VC_model.θ = [50.20211632159837]\n"
     ]
    }
   ],
   "source": [
    "@show Poisson_VC_model.β\n",
    "@show Poisson_VC_model.θ;"
   ]
  },
  {
   "cell_type": "markdown",
   "metadata": {},
   "source": [
    "Calculate the loglikelihood at the maximum"
   ]
  },
  {
   "cell_type": "code",
   "execution_count": 8,
   "metadata": {},
   "outputs": [
    {
     "name": "stdout",
     "output_type": "stream",
     "text": [
      "loglikelihood!(Poisson_VC_model, false, false) = -5820.041685393156\n"
     ]
    }
   ],
   "source": [
    "@show loglikelihood!(Poisson_VC_model, false, false);"
   ]
  },
  {
   "cell_type": "markdown",
   "metadata": {},
   "source": [
    "## Example 2: Multiple VCM\n",
    "\n",
    "Next we demonstrate how to fit the model with Poisson base and two variance components using the \"Mmmec\" dataset from the \"mlmRev\" package in R. \n",
    "\n",
    "To specify our own positive semi-definite covariance matrices, we need to make sure the dimensions match that of each cluster size $d_i$, for each independent cluster $i \\in [1, n]$. \n",
    "\n",
    "To illustrate, we will add an additional variance component proportional to the Identity matrix to the random intercept model above to help capture overdispersion. More explicitly, I will make $\\mathbf{V_{i1}} = \\mathbf{1_{d_i}} \\mathbf{1_{d_i}}^t$ and $\\mathbf{V_{i2}} = \\mathbf{I_{d_i}}$ to parameterize $\\mathbf{\\Gamma_i}(\\boldsymbol{\\theta})$ follows:\n",
    "\n",
    "$$\\mathbf{\\Gamma_i}(\\boldsymbol{\\theta}) = \\theta_1 * \\mathbf{1_{d_i}} \\mathbf{1_{d_i}}^t + \\theta_2 * \\mathbf{I_{d_i}}$$"
   ]
  },
  {
   "cell_type": "code",
   "execution_count": 9,
   "metadata": {},
   "outputs": [
    {
     "data": {
      "text/plain": [
       "make_Vs (generic function with 1 method)"
      ]
     },
     "execution_count": 9,
     "metadata": {},
     "output_type": "execute_result"
    }
   ],
   "source": [
    "function make_Vs(\n",
    "    df::DataFrame,\n",
    "    y::Symbol,\n",
    "    grouping::Symbol)\n",
    "    groups = unique(df[!, grouping])\n",
    "    n = length(groups)\n",
    "    V = Vector{Vector{Matrix{Float64}}}(undef, n)\n",
    "    for (i, grp) in enumerate(groups)\n",
    "        gidx = df[!, grouping] .== grp\n",
    "        ni = count(gidx)\n",
    "        V[i] = [ones(ni, ni), Matrix(I, ni, ni)]\n",
    "    end\n",
    "    V\n",
    "end"
   ]
  },
  {
   "cell_type": "code",
   "execution_count": 10,
   "metadata": {},
   "outputs": [],
   "source": [
    "V = make_Vs(df, y, grouping);"
   ]
  },
  {
   "cell_type": "markdown",
   "metadata": {},
   "source": [
    "#### Forming the Model\n",
    "\n",
    "To form the model, we give it the following arguments:\n",
    "\n",
    "- named dataframe\n",
    "- outcome variable name of interest as a symbol\n",
    "- grouping variable name of interest as a symbol\n",
    "- covariate names of interest as a vector of symbols\n",
    "- Vector of length 'n' of Vectors of length 'm' of 'di x di' PSD Covariance Matrices\n",
    "- base distribution\n",
    "- link function\n"
   ]
  },
  {
   "cell_type": "code",
   "execution_count": 11,
   "metadata": {},
   "outputs": [],
   "source": [
    "Poisson_2VC_model = VC_model(df, y, grouping, covariates, V, d, link);"
   ]
  },
  {
   "cell_type": "markdown",
   "metadata": {},
   "source": [
    "Fit the model. By default, we limit the maximum number of Quasi-Newton iterations to 100, and set the convergence tolerance to $10^{-6}.$ "
   ]
  },
  {
   "cell_type": "code",
   "execution_count": 12,
   "metadata": {},
   "outputs": [
    {
     "name": "stdout",
     "output_type": "stream",
     "text": [
      "initializing β using Newton's Algorithm under Independence Assumption\n",
      "gcm.β = [3.25512456536309, -0.07968965522100831]\n",
      "initializing variance components using MM-Algorithm\n",
      "gcm.θ = [1.0, 1.0]\n",
      "Total number of variables............................:        4\n",
      "                     variables with only lower bounds:        2\n",
      "                variables with lower and upper bounds:        0\n",
      "                     variables with only upper bounds:        0\n",
      "Total number of equality constraints.................:        0\n",
      "Total number of inequality constraints...............:        0\n",
      "        inequality constraints with only lower bounds:        0\n",
      "   inequality constraints with lower and upper bounds:        0\n",
      "        inequality constraints with only upper bounds:        0\n",
      "\n",
      "\n",
      "Number of Iterations....: 47\n",
      "\n",
      "                                   (scaled)                 (unscaled)\n",
      "Objective...............:   1.8794436243388843e+03    5.8110834414104884e+03\n",
      "Dual infeasibility......:   4.8397116120453827e-07    1.4963985961458093e-06\n",
      "Constraint violation....:   0.0000000000000000e+00    0.0000000000000000e+00\n",
      "Complementarity.........:   9.0909090909090531e-08    2.8108335148457850e-07\n",
      "Overall NLP error.......:   4.8397116120453827e-07    1.4963985961458093e-06\n",
      "\n",
      "\n",
      "Number of objective function evaluations             = 48\n",
      "Number of objective gradient evaluations             = 48\n",
      "Number of equality constraint evaluations            = 0\n",
      "Number of inequality constraint evaluations          = 0\n",
      "Number of equality constraint Jacobian evaluations   = 0\n",
      "Number of inequality constraint Jacobian evaluations = 0\n",
      "Number of Lagrangian Hessian evaluations             = 47\n",
      "Total CPU secs in IPOPT (w/o function evaluations)   =      0.021\n",
      "Total CPU secs in NLP function evaluations           =      0.011\n",
      "\n",
      "EXIT: Optimal Solution Found.\n"
     ]
    }
   ],
   "source": [
    "GLMCopula.fit!(Poisson_2VC_model);"
   ]
  },
  {
   "cell_type": "markdown",
   "metadata": {},
   "source": [
    "We can take a look at the MLE's"
   ]
  },
  {
   "cell_type": "code",
   "execution_count": 13,
   "metadata": {},
   "outputs": [
    {
     "name": "stdout",
     "output_type": "stream",
     "text": [
      "Poisson_2VC_model.β = [3.2673642555712115, -0.07503633126910883]\n",
      "Poisson_2VC_model.θ = [441832.1877029869, 160836.08322258486]\n"
     ]
    }
   ],
   "source": [
    "@show Poisson_2VC_model.β\n",
    "@show Poisson_2VC_model.θ;"
   ]
  },
  {
   "cell_type": "markdown",
   "metadata": {},
   "source": [
    "Calculate the loglikelihood at the maximum"
   ]
  },
  {
   "cell_type": "code",
   "execution_count": 14,
   "metadata": {},
   "outputs": [
    {
     "name": "stdout",
     "output_type": "stream",
     "text": [
      "loglikelihood!(Poisson_2VC_model, false, false) = -5811.083441410488\n"
     ]
    }
   ],
   "source": [
    "@show loglikelihood!(Poisson_2VC_model, false, false);"
   ]
  }
 ],
 "metadata": {
  "@webio": {
   "lastCommId": null,
   "lastKernelId": null
  },
  "kernelspec": {
   "display_name": "Julia 1.6.2",
   "language": "julia",
   "name": "julia-1.6"
  },
  "language_info": {
   "file_extension": ".jl",
   "mimetype": "application/julia",
   "name": "julia",
   "version": "1.6.2"
  }
 },
 "nbformat": 4,
 "nbformat_minor": 4
}
