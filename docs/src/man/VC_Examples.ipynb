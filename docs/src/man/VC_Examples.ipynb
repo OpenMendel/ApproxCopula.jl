{
 "cells": [
  {
   "cell_type": "markdown",
   "metadata": {},
   "source": [
    "# VC Covariance\n",
    "\n",
    "In this notebook we will demonstrate how to fit a variance component model (VCM) with Poisson base on the `Mmmec` dataset from the `mlmRev` R package. We will access the data using the `RDatasets` Julia package. \n",
    "\n",
    "### Table of Contents:\n",
    "* [Example 1: Intercept Only Random Intercept Model](#Example-1:-Intercept-Only-Random-Intercept-Model)\n",
    "* [Example 2: Random Intercept Model with Covariates](#Example-2:-Random-Intercept-Model-with-Covariates)\n",
    "* [Example 2: Multiple VC Model with Covariates](#Example-3:-Multiple-VC-Model-with-Covariates)\n",
    "\n",
    "For these examples, we have $n$ independent clusters indexed by $i$. \n",
    "\n",
    "Under the VC parameterization of the covariance matrix, the $i^{th}$ cluster with cluster size $d_i$, has covariance matrix $\\mathbf{\\Gamma_i}$ that takes the form: \n",
    "\n",
    "$$\\mathbf{\\Gamma_i}(\\boldsymbol{\\theta}) = \\sum_{k = 1}^m \\theta_k * \\mathbf{V_{ik}}$$ \n",
    "\n",
    "* where $m$ is the number of variance components, which are arranged in a vector $\\boldsymbol{\\theta} = \\{\\theta_1, ..., \\theta_m \\}$ for estimation\n",
    "\n",
    "* and $\\mathbf{V_{ik}}, k \\in [1, m]$ are symmetric, positive semi-definite matrices of dimension $d_i \\times d_i$ provided by the user."
   ]
  },
  {
   "cell_type": "code",
   "execution_count": 1,
   "metadata": {},
   "outputs": [
    {
     "name": "stdout",
     "output_type": "stream",
     "text": [
      "Julia Version 1.6.2\n",
      "Commit 1b93d53fc4 (2021-07-14 15:36 UTC)\n",
      "Platform Info:\n",
      "  OS: macOS (x86_64-apple-darwin18.7.0)\n",
      "  CPU: Intel(R) Core(TM) i9-9880H CPU @ 2.30GHz\n",
      "  WORD_SIZE: 64\n",
      "  LIBM: libopenlibm\n",
      "  LLVM: libLLVM-11.0.1 (ORCJIT, skylake)\n"
     ]
    }
   ],
   "source": [
    "versioninfo()"
   ]
  },
  {
   "cell_type": "code",
   "execution_count": 2,
   "metadata": {
    "scrolled": true
   },
   "outputs": [],
   "source": [
    "using CSV, DataFrames, GLMCopula, LinearAlgebra, GLM, RDatasets"
   ]
  },
  {
   "cell_type": "code",
   "execution_count": 3,
   "metadata": {},
   "outputs": [],
   "source": [
    "Mmmec = dataset(\"mlmRev\", \"Mmmec\");"
   ]
  },
  {
   "cell_type": "markdown",
   "metadata": {},
   "source": [
    "Let's take a preview of the first 20 lines of the Mmmec dataset."
   ]
  },
  {
   "cell_type": "code",
   "execution_count": 4,
   "metadata": {},
   "outputs": [
    {
     "name": "stdout",
     "output_type": "stream",
     "text": [
      "Mmmec[1:20, :] = 20×6 DataFrame\n",
      " Row │ Nation     Region  County  Deaths  Expected  UVB\n",
      "     │ Cat…       Cat…    Cat…    Int32   Float64   Float64\n",
      "─────┼──────────────────────────────────────────────────────\n",
      "   1 │ Belgium    1       1           79   51.222   -2.9057\n",
      "   2 │ Belgium    2       2           80   79.956   -3.2075\n",
      "   3 │ Belgium    2       3           51   46.5169  -2.8038\n",
      "   4 │ Belgium    2       4           43   55.053   -3.0069\n",
      "   5 │ Belgium    2       5           89   67.758   -3.0069\n",
      "   6 │ Belgium    2       6           19   35.976   -3.4175\n",
      "   7 │ Belgium    3       7           19   13.28    -2.6671\n",
      "   8 │ Belgium    3       8           15   66.5579  -2.6671\n",
      "   9 │ Belgium    3       9           33   50.969   -3.1222\n",
      "  10 │ Belgium    3       10           9   11.171   -2.4852\n",
      "  11 │ Belgium    3       11          12   19.683   -2.5293\n",
      "  12 │ W.Germany  4       12         156  108.04    -1.1375\n",
      "  13 │ W.Germany  4       13         110   73.692   -1.3977\n",
      "  14 │ W.Germany  4       14          77   57.098   -0.4386\n",
      "  15 │ W.Germany  4       15          56   46.622   -1.0249\n",
      "  16 │ W.Germany  5       16         220  112.61    -0.5033\n",
      "  17 │ W.Germany  5       17          46   30.334   -1.4609\n",
      "  18 │ W.Germany  5       18          47   29.973   -1.8956\n",
      "  19 │ W.Germany  5       19          50   32.027   -2.5541\n",
      "  20 │ W.Germany  5       20          90   46.521   -1.9671\n"
     ]
    }
   ],
   "source": [
    "@show Mmmec[1:20, :];"
   ]
  },
  {
   "cell_type": "markdown",
   "metadata": {},
   "source": [
    "## Forming the Models\n",
    "\n",
    "We can form the VC models for regression with following arguments:\n",
    "\n",
    "##### Arguments\n",
    "- `df`: A named `DataFrame`\n",
    "- `y`: Ouctcome variable name of interest, specified as a `Symbol`.\n",
    "    This variable name must be present in `df`.\n",
    "- `grouping`: Grouping or Clustering variable name of interest, specified as a `Symbol`.\n",
    "    This variable name must be present in `df`.\n",
    "- `covariates`: Covariate names of interest as a vector of `Symbol`s.\n",
    "    Each variable name must be present in `df`.\n",
    "- `V`: Vector of Vector of Positive Semi-Definite (PSD) Covariance Matrices. `V` is of length n, where n is the number of groups/clusters.\n",
    "    Each element of `V` is also a `Vector`, but of length m. Here m is the number of variance components.\n",
    "    Each element of `V` is a `Vector` of d_i x d_i PSD covariance matrices under the VCM framework,\n",
    "    where d_i is the cluster size of the ith cluster, which may vary for each cluster of observations i in [1, n].\n",
    "    Each of these dimensions must match that specified in `df`.\n",
    "- `d`: Base `Distribution` of outcome from `Distributions.jl`."
   ]
  },
  {
   "cell_type": "markdown",
   "metadata": {},
   "source": [
    "### Example 1: Intercept Only Random Intercept Model\n",
    "\n",
    "We first demonstrate how to form the intercept only random intercept model with Poisson base. \n",
    "\n",
    "We can form the random intercept VC model with intercept only by excluding the `covariates` and `V` arguments. \n",
    "\n",
    "By default, the `VC_model` function will construct a random intercept model using a single variance component. That is, it will parameterize $\\boldsymbol{\\Gamma_i}(\\boldsymbol{\\theta})$ for each cluster $i$ with cluster size ${d_i}$ as follows:\n",
    "\n",
    "$$\\mathbf{\\Gamma_i}(\\boldsymbol{\\theta}) = \\theta_1 * \\mathbf{1_{d_i}} \\mathbf{1_{d_i}}^t$$"
   ]
  },
  {
   "cell_type": "code",
   "execution_count": 5,
   "metadata": {},
   "outputs": [
    {
     "data": {
      "text/plain": [
       "Quasi-Copula Variance Component Model\n",
       "  * base distribution: Poisson\n",
       "  * link function: LogLink\n",
       "  * number of clusters: 78\n",
       "  * cluster size min, max: 1, 13\n",
       "  * number of variance components: 1\n",
       "  * number of fixed effects: 1"
      ]
     },
     "execution_count": 5,
     "metadata": {},
     "output_type": "execute_result"
    }
   ],
   "source": [
    "df = Mmmec\n",
    "y = :Deaths\n",
    "grouping = :Region\n",
    "d = Poisson()\n",
    "link = LogLink()\n",
    "\n",
    "Poisson_VC_model = VC_model(df, y, grouping, d, link)"
   ]
  },
  {
   "cell_type": "markdown",
   "metadata": {},
   "source": [
    "### Example 2: Random Intercept Model with Covariates\n",
    "\n",
    "We can form the random intercept model with covariates by including the `covariates` argument to the model in Example 1."
   ]
  },
  {
   "cell_type": "code",
   "execution_count": 6,
   "metadata": {},
   "outputs": [
    {
     "data": {
      "text/plain": [
       "Quasi-Copula Variance Component Model\n",
       "  * base distribution: Poisson\n",
       "  * link function: LogLink\n",
       "  * number of clusters: 78\n",
       "  * cluster size min, max: 1, 13\n",
       "  * number of variance components: 1\n",
       "  * number of fixed effects: 2"
      ]
     },
     "execution_count": 6,
     "metadata": {},
     "output_type": "execute_result"
    }
   ],
   "source": [
    "covariates = [:UVB]\n",
    "\n",
    "Poisson_VC_model = VC_model(df, y, grouping, covariates, d, link)"
   ]
  },
  {
   "cell_type": "markdown",
   "metadata": {},
   "source": [
    "### Example 3: Multiple VC Model with Covariates\n",
    "\n",
    "Next we demonstrate how to form the model with Poisson base and two variance components.\n",
    "\n",
    "To specify our own positive semi-definite covariance matrices, `V_i = [V_i1, V_i2]`, we need to make sure the dimensions match that of each cluster size $d_i$, for each independent cluster $i \\in [1, n]$. \n",
    "\n",
    "To illustrate, we will add an additional variance component proportional to the Identity matrix to the random intercept model above to help capture overdispersion. More explicitly, I will make $\\mathbf{V_{i1}} = \\mathbf{1_{d_i}} \\mathbf{1_{d_i}}^t$ and $\\mathbf{V_{i2}} = \\mathbf{I_{d_i}}$ to parameterize $\\mathbf{\\Gamma_i}(\\boldsymbol{\\theta})$ follows:\n",
    "\n",
    "$$\\mathbf{\\Gamma_i}(\\boldsymbol{\\theta}) = \\theta_1 * \\mathbf{1_{d_i}} \\mathbf{1_{d_i}}^t + \\theta_2 * \\mathbf{I_{d_i}}$$"
   ]
  },
  {
   "cell_type": "code",
   "execution_count": 7,
   "metadata": {},
   "outputs": [],
   "source": [
    "function make_Vs(\n",
    "    df::DataFrame,\n",
    "    y::Symbol,\n",
    "    grouping::Symbol)\n",
    "    groups = unique(df[!, grouping])\n",
    "    n = length(groups)\n",
    "    V = Vector{Vector{Matrix{Float64}}}(undef, n)\n",
    "    for (i, grp) in enumerate(groups)\n",
    "        gidx = df[!, grouping] .== grp\n",
    "        ni = count(gidx)\n",
    "        V[i] = [ones(ni, ni), Matrix(I, ni, ni)]\n",
    "    end\n",
    "    V\n",
    "end\n",
    "\n",
    "V = make_Vs(df, y, grouping);"
   ]
  },
  {
   "cell_type": "code",
   "execution_count": 8,
   "metadata": {},
   "outputs": [
    {
     "data": {
      "text/plain": [
       "Quasi-Copula Variance Component Model\n",
       "  * base distribution: Poisson\n",
       "  * link function: LogLink\n",
       "  * number of clusters: 78\n",
       "  * cluster size min, max: 1, 13\n",
       "  * number of variance components: 2\n",
       "  * number of fixed effects: 2"
      ]
     },
     "execution_count": 8,
     "metadata": {},
     "output_type": "execute_result"
    }
   ],
   "source": [
    "Poisson_VC_model = VC_model(df, y, grouping, covariates, V, d, link)"
   ]
  },
  {
   "cell_type": "markdown",
   "metadata": {},
   "source": [
    "## Fitting the model\n",
    "\n",
    "By default, we limit the maximum number of Quasi-Newton iterations to 100, and set the convergence tolerance to $10^{-6}.$ "
   ]
  },
  {
   "cell_type": "code",
   "execution_count": 9,
   "metadata": {},
   "outputs": [
    {
     "name": "stdout",
     "output_type": "stream",
     "text": [
      "initializing β using Newton's Algorithm under Independence Assumption\n",
      "gcm.β = [3.25512456536309, -0.07968965522100831]\n",
      "initializing variance components using MM-Algorithm\n",
      "gcm.θ = [1.0, 1.0]\n",
      "\n",
      "******************************************************************************\n",
      "This program contains Ipopt, a library for large-scale nonlinear optimization.\n",
      " Ipopt is released as open source code under the Eclipse Public License (EPL).\n",
      "         For more information visit https://github.com/coin-or/Ipopt\n",
      "******************************************************************************\n",
      "\n",
      "Total number of variables............................:        4\n",
      "                     variables with only lower bounds:        2\n",
      "                variables with lower and upper bounds:        0\n",
      "                     variables with only upper bounds:        0\n",
      "Total number of equality constraints.................:        0\n",
      "Total number of inequality constraints...............:        0\n",
      "        inequality constraints with only lower bounds:        0\n",
      "   inequality constraints with lower and upper bounds:        0\n",
      "        inequality constraints with only upper bounds:        0\n",
      "\n",
      "\n",
      "Number of Iterations....: 73\n",
      "\n",
      "                                   (scaled)                 (unscaled)\n",
      "Objective...............:   1.8794436356381009e+03    5.8110834763467265e+03\n",
      "Dual infeasibility......:   2.0173863100686985e-07    6.2375907580054106e-07\n",
      "Constraint violation....:   0.0000000000000000e+00    0.0000000000000000e+00\n",
      "Complementarity.........:   9.9999999999999978e-12    3.0919168663303757e-11\n",
      "Overall NLP error.......:   2.0173863100686985e-07    6.2375907580054106e-07\n",
      "\n",
      "\n",
      "Number of objective function evaluations             = 274\n",
      "Number of objective gradient evaluations             = 74\n",
      "Number of equality constraint evaluations            = 0\n",
      "Number of inequality constraint evaluations          = 0\n",
      "Number of equality constraint Jacobian evaluations   = 0\n",
      "Number of inequality constraint Jacobian evaluations = 0\n",
      "Number of Lagrangian Hessian evaluations             = 0\n",
      "Total CPU secs in IPOPT (w/o function evaluations)   =      3.030\n",
      "Total CPU secs in NLP function evaluations           =      0.038\n",
      "\n",
      "EXIT: Optimal Solution Found.\n"
     ]
    }
   ],
   "source": [
    "GLMCopula.fit!(Poisson_VC_model);"
   ]
  },
  {
   "cell_type": "markdown",
   "metadata": {},
   "source": [
    "We can take a look at the MLE's"
   ]
  },
  {
   "cell_type": "code",
   "execution_count": 10,
   "metadata": {},
   "outputs": [
    {
     "name": "stdout",
     "output_type": "stream",
     "text": [
      "Poisson_VC_model.β = [3.267366389079128, -0.07503868222380021]\n",
      "Poisson_VC_model.θ = [14855.181986628666, 5411.298363976766]\n"
     ]
    }
   ],
   "source": [
    "@show Poisson_VC_model.β\n",
    "@show Poisson_VC_model.θ;"
   ]
  },
  {
   "cell_type": "markdown",
   "metadata": {},
   "source": [
    "Calculate the loglikelihood at the maximum"
   ]
  },
  {
   "cell_type": "code",
   "execution_count": 11,
   "metadata": {},
   "outputs": [
    {
     "data": {
      "text/plain": [
       "-5811.0834763467265"
      ]
     },
     "execution_count": 11,
     "metadata": {},
     "output_type": "execute_result"
    }
   ],
   "source": [
    "logl(Poisson_VC_model)"
   ]
  },
  {
   "cell_type": "markdown",
   "metadata": {},
   "source": [
    "Get asymptotic confidence intervals at the MLE's"
   ]
  },
  {
   "cell_type": "code",
   "execution_count": 12,
   "metadata": {},
   "outputs": [
    {
     "data": {
      "text/plain": [
       "4×2 Matrix{Float64}:\n",
       "  3.09211     3.44262\n",
       " -0.111956   -0.0381218\n",
       " -9.59795e5   9.89505e5\n",
       " -3.52785e5   3.63607e5"
      ]
     },
     "execution_count": 12,
     "metadata": {},
     "output_type": "execute_result"
    }
   ],
   "source": [
    "get_CI(Poisson_VC_model)"
   ]
  }
 ],
 "metadata": {
  "@webio": {
   "lastCommId": null,
   "lastKernelId": null
  },
  "kernelspec": {
   "display_name": "Julia 1.6.2",
   "language": "julia",
   "name": "julia-1.6"
  },
  "language_info": {
   "file_extension": ".jl",
   "mimetype": "application/julia",
   "name": "julia",
   "version": "1.6.2"
  }
 },
 "nbformat": 4,
 "nbformat_minor": 4
}
