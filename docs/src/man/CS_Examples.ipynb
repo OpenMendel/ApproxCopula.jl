{
 "cells": [
  {
   "cell_type": "markdown",
   "metadata": {},
   "source": [
    "# Compound Symmetric (CS) Covariance \n",
    "\n",
    "In this notebook we will fit our model on the two example datasets provided in the geepack ang gcmr R packages. For these examples we will use the compound symmetry (CS) parameterization of the covariance matrix $\\Gamma,$ estimating correlation parameter $\\rho$ and dispersion parameter $\\sigma^2$. \n",
    "\n",
    "### Table of Contents:\n",
    "* [Example 1: Poisson CS (gcmr:Epilepsy)](#Example-1:-Poisson-CS)\n",
    "* [Example 2: Bernoulli CS (geepack:Respiratory)](#Example-2:-Bernoulli-CS)\n",
    "\n",
    "    note: For the dispersion parameter, we can an L2 penalty to the loglikelihood to keep the estimates from going off to infinity. This notebook presents results with the unpenalized fit."
   ]
  },
  {
   "cell_type": "code",
   "execution_count": 1,
   "metadata": {},
   "outputs": [
    {
     "name": "stdout",
     "output_type": "stream",
     "text": [
      "Julia Version 1.6.2\n",
      "Commit 1b93d53fc4 (2021-07-14 15:36 UTC)\n",
      "Platform Info:\n",
      "  OS: macOS (x86_64-apple-darwin18.7.0)\n",
      "  CPU: Intel(R) Core(TM) i9-9880H CPU @ 2.30GHz\n",
      "  WORD_SIZE: 64\n",
      "  LIBM: libopenlibm\n",
      "  LLVM: libLLVM-11.0.1 (ORCJIT, skylake)\n"
     ]
    }
   ],
   "source": [
    "versioninfo()"
   ]
  },
  {
   "cell_type": "code",
   "execution_count": 2,
   "metadata": {
    "scrolled": true
   },
   "outputs": [],
   "source": [
    "using CSV, DataFrames, GLMCopula, LinearAlgebra, GLM, RCall, RData, RDatasets"
   ]
  },
  {
   "cell_type": "markdown",
   "metadata": {},
   "source": [
    "## Example 1: Poisson CS"
   ]
  },
  {
   "cell_type": "markdown",
   "metadata": {},
   "source": [
    "We first demonstrate how to fit the model with Poisson base and CS covariance on the \"epilepsy\" dataset from the \"gcmr\" package in R."
   ]
  },
  {
   "cell_type": "code",
   "execution_count": 3,
   "metadata": {
    "scrolled": true
   },
   "outputs": [
    {
     "name": "stderr",
     "output_type": "stream",
     "text": [
      "┌ Warning: RCall.jl: Warning: package ‘gcmr’ was built under R version 4.0.2\n",
      "└ @ RCall /Users/sarahji/.julia/packages/RCall/6kphM/src/io.jl:172\n"
     ]
    }
   ],
   "source": [
    "R\"\"\"\n",
    "    library(\"gcmr\")\n",
    "    data(\"epilepsy\", package = \"gcmr\")\n",
    "\"\"\"\n",
    "@rget epilepsy;"
   ]
  },
  {
   "cell_type": "markdown",
   "metadata": {},
   "source": [
    "Let's take a preview of the first 10 lines of the epilepsy dataset."
   ]
  },
  {
   "cell_type": "code",
   "execution_count": 4,
   "metadata": {},
   "outputs": [
    {
     "name": "stdout",
     "output_type": "stream",
     "text": [
      "epilepsy[1:10, :] = 10×6 DataFrame\n",
      " Row │ id     age    trt    counts  time     visit\n",
      "     │ Int64  Int64  Int64  Int64   Float64  Float64\n",
      "─────┼───────────────────────────────────────────────\n",
      "   1 │     1     31      0      11      8.0      0.0\n",
      "   2 │     1     31      0       5      2.0      1.0\n",
      "   3 │     1     31      0       3      2.0      1.0\n",
      "   4 │     1     31      0       3      2.0      1.0\n",
      "   5 │     1     31      0       3      2.0      1.0\n",
      "   6 │     2     30      0      11      8.0      0.0\n",
      "   7 │     2     30      0       3      2.0      1.0\n",
      "   8 │     2     30      0       5      2.0      1.0\n",
      "   9 │     2     30      0       3      2.0      1.0\n",
      "  10 │     2     30      0       3      2.0      1.0\n"
     ]
    }
   ],
   "source": [
    "@show epilepsy[1:10, :];"
   ]
  },
  {
   "cell_type": "markdown",
   "metadata": {},
   "source": [
    "To form the model, we give it the following arguments:\n",
    "\n",
    "- named dataframe\n",
    "- outcome variable name of interest as a symbol\n",
    "- grouping variable name of interest as a symbol\n",
    "- covariate names of interest as a vector of symbols\n",
    "- base distribution\n",
    "- link function\n"
   ]
  },
  {
   "cell_type": "code",
   "execution_count": 5,
   "metadata": {},
   "outputs": [],
   "source": [
    "df = epilepsy\n",
    "y = :counts\n",
    "grouping = :id\n",
    "covariates = [:visit, :trt]\n",
    "d = Poisson()\n",
    "link = LogLink()\n",
    "\n",
    "Poisson_CS_model = CS_model(df, y, grouping, covariates, d, link);"
   ]
  },
  {
   "cell_type": "markdown",
   "metadata": {},
   "source": [
    "Fit the model"
   ]
  },
  {
   "cell_type": "code",
   "execution_count": 6,
   "metadata": {},
   "outputs": [
    {
     "name": "stdout",
     "output_type": "stream",
     "text": [
      "initializing β using Newton's Algorithm under Independence Assumption\n",
      "initializing σ2 and ρ using method of moments\n",
      "par0 = [3.4553888182001127, -1.3288345481797776, -0.026384675366883565, 0.2, 1.0]\n",
      "\n",
      "******************************************************************************\n",
      "This program contains Ipopt, a library for large-scale nonlinear optimization.\n",
      " Ipopt is released as open source code under the Eclipse Public License (EPL).\n",
      "         For more information visit https://github.com/coin-or/Ipopt\n",
      "******************************************************************************\n",
      "\n",
      "Total number of variables............................:        5\n",
      "                     variables with only lower bounds:        1\n",
      "                variables with lower and upper bounds:        1\n",
      "                     variables with only upper bounds:        0\n",
      "Total number of equality constraints.................:        0\n",
      "Total number of inequality constraints...............:        0\n",
      "        inequality constraints with only lower bounds:        0\n",
      "   inequality constraints with lower and upper bounds:        0\n",
      "        inequality constraints with only upper bounds:        0\n",
      "\n",
      "\n",
      "Number of Iterations....: 92\n",
      "\n",
      "                                   (scaled)                 (unscaled)\n",
      "Objective...............:   2.1695813266189330e+03    2.1695813266189330e+03\n",
      "Dual infeasibility......:   9.1969454274476448e-09    9.1969454274476448e-09\n",
      "Constraint violation....:   0.0000000000000000e+00    0.0000000000000000e+00\n",
      "Complementarity.........:   9.9999999999999994e-12    9.9999999999999994e-12\n",
      "Overall NLP error.......:   9.1969454274476448e-09    9.1969454274476448e-09\n",
      "\n",
      "\n",
      "Number of objective function evaluations             = 379\n",
      "Number of objective gradient evaluations             = 93\n",
      "Number of equality constraint evaluations            = 0\n",
      "Number of inequality constraint evaluations          = 0\n",
      "Number of equality constraint Jacobian evaluations   = 0\n",
      "Number of inequality constraint Jacobian evaluations = 0\n",
      "Number of Lagrangian Hessian evaluations             = 0\n",
      "Total CPU secs in IPOPT (w/o function evaluations)   =      0.589\n",
      "Total CPU secs in NLP function evaluations           =      0.024\n",
      "\n",
      "EXIT: Optimal Solution Found.\n"
     ]
    }
   ],
   "source": [
    "GLMCopula.fit!(Poisson_CS_model, IpoptSolver(print_level = 3, max_iter = 100, tol = 10^-8, limited_memory_max_history = 20, hessian_approximation = \"limited-memory\"));"
   ]
  },
  {
   "cell_type": "markdown",
   "metadata": {},
   "source": [
    "We can take a look at the MLE's"
   ]
  },
  {
   "cell_type": "code",
   "execution_count": 7,
   "metadata": {},
   "outputs": [
    {
     "name": "stdout",
     "output_type": "stream",
     "text": [
      "Poisson_CS_model.β = [3.479229893235856, -1.3137359424301136, -0.05223916238672295]\n",
      "Poisson_CS_model.σ2 = [133560.55732336888]\n",
      "Poisson_CS_model.ρ = [0.9101785804195232]\n"
     ]
    }
   ],
   "source": [
    "@show Poisson_CS_model.β\n",
    "@show Poisson_CS_model.σ2\n",
    "@show Poisson_CS_model.ρ;"
   ]
  },
  {
   "cell_type": "markdown",
   "metadata": {},
   "source": [
    "Calculate the loglikelihood at the maximum"
   ]
  },
  {
   "cell_type": "code",
   "execution_count": 8,
   "metadata": {},
   "outputs": [
    {
     "name": "stdout",
     "output_type": "stream",
     "text": [
      "loglikelihood!(Poisson_CS_model, true, true) = -2169.581326618933\n"
     ]
    }
   ],
   "source": [
    "@show loglikelihood!(Poisson_CS_model, true, true);"
   ]
  },
  {
   "cell_type": "markdown",
   "metadata": {},
   "source": [
    "## Example 2: Bernoulli CS"
   ]
  },
  {
   "cell_type": "markdown",
   "metadata": {},
   "source": [
    "We will next demo how to fit the model with Bernoulli base and CS covariance on the \"respiratory\" dataset from the \"geepack\" package. "
   ]
  },
  {
   "cell_type": "code",
   "execution_count": 9,
   "metadata": {},
   "outputs": [],
   "source": [
    "R\"\"\"\n",
    "    data(respiratory, package=\"geepack\")\n",
    "    respiratory_df <- respiratory[order(respiratory$id),]\n",
    "\"\"\"\n",
    "\n",
    "@rget respiratory_df;"
   ]
  },
  {
   "cell_type": "markdown",
   "metadata": {},
   "source": [
    "Let's take a preview of the first 10 lines of the respiratory dataset in long format."
   ]
  },
  {
   "cell_type": "code",
   "execution_count": 10,
   "metadata": {},
   "outputs": [
    {
     "name": "stdout",
     "output_type": "stream",
     "text": [
      "respiratory_df[1:10, :] = 10×8 DataFrame\n",
      " Row │ center  id     treat  sex   age    baseline  visit  outcome\n",
      "     │ Int64   Int64  Cat…   Cat…  Int64  Int64     Int64  Int64\n",
      "─────┼─────────────────────────────────────────────────────────────\n",
      "   1 │      1      1  P      M        46         0      1        0\n",
      "   2 │      1      1  P      M        46         0      2        0\n",
      "   3 │      1      1  P      M        46         0      3        0\n",
      "   4 │      1      1  P      M        46         0      4        0\n",
      "   5 │      2      1  P      F        39         0      1        0\n",
      "   6 │      2      1  P      F        39         0      2        0\n",
      "   7 │      2      1  P      F        39         0      3        0\n",
      "   8 │      2      1  P      F        39         0      4        0\n",
      "   9 │      1      2  P      M        28         0      1        0\n",
      "  10 │      1      2  P      M        28         0      2        0\n"
     ]
    }
   ],
   "source": [
    "@show respiratory_df[1:10, :];"
   ]
  },
  {
   "cell_type": "markdown",
   "metadata": {},
   "source": [
    "To form the model, we give it the following arguments:\n",
    "\n",
    "- named dataframe\n",
    "- outcome variable name of interest as a symbol\n",
    "- grouping variable name of interest as a symbol\n",
    "- covariate names of interest as a vector of symbols\n",
    "- base distribution\n",
    "- link function"
   ]
  },
  {
   "cell_type": "code",
   "execution_count": 11,
   "metadata": {},
   "outputs": [],
   "source": [
    "df = respiratory_df\n",
    "y = :outcome\n",
    "grouping = :id\n",
    "covariates = [:center, :age, :baseline]\n",
    "d = Bernoulli()\n",
    "link = LogitLink()\n",
    "\n",
    "Bernoulli_CS_model = CS_model(df, y, grouping, covariates, d, link);"
   ]
  },
  {
   "cell_type": "markdown",
   "metadata": {},
   "source": [
    "Fit the model"
   ]
  },
  {
   "cell_type": "code",
   "execution_count": 12,
   "metadata": {},
   "outputs": [
    {
     "name": "stdout",
     "output_type": "stream",
     "text": [
      "initializing β using Newton's Algorithm under Independence Assumption\n",
      "initializing σ2 and ρ using method of moments\n",
      "par0 = [-0.7993115972643741, 0.6513519744878128, -0.018744798735221512, 1.6766993967179145, 0.2, 1.0]\n",
      "Total number of variables............................:        6\n",
      "                     variables with only lower bounds:        1\n",
      "                variables with lower and upper bounds:        1\n",
      "                     variables with only upper bounds:        0\n",
      "Total number of equality constraints.................:        0\n",
      "Total number of inequality constraints...............:        0\n",
      "        inequality constraints with only lower bounds:        0\n",
      "   inequality constraints with lower and upper bounds:        0\n",
      "        inequality constraints with only upper bounds:        0\n",
      "\n",
      "\n",
      "Number of Iterations....: 27\n",
      "\n",
      "                                   (scaled)                 (unscaled)\n",
      "Objective...............:   2.4900152024121175e+02    2.4900152024121175e+02\n",
      "Dual infeasibility......:   8.5782119185751071e-09    8.5782119185751071e-09\n",
      "Constraint violation....:   0.0000000000000000e+00    0.0000000000000000e+00\n",
      "Complementarity.........:   1.0000000000000003e-11    1.0000000000000003e-11\n",
      "Overall NLP error.......:   8.5782119185751071e-09    8.5782119185751071e-09\n",
      "\n",
      "\n",
      "Number of objective function evaluations             = 46\n",
      "Number of objective gradient evaluations             = 28\n",
      "Number of equality constraint evaluations            = 0\n",
      "Number of inequality constraint evaluations          = 0\n",
      "Number of equality constraint Jacobian evaluations   = 0\n",
      "Number of inequality constraint Jacobian evaluations = 0\n",
      "Number of Lagrangian Hessian evaluations             = 0\n",
      "Total CPU secs in IPOPT (w/o function evaluations)   =      0.134\n",
      "Total CPU secs in NLP function evaluations           =      0.010\n",
      "\n",
      "EXIT: Optimal Solution Found.\n"
     ]
    }
   ],
   "source": [
    "GLMCopula.fit!(Bernoulli_CS_model, IpoptSolver(print_level = 3, max_iter = 100, tol = 10^-8, limited_memory_max_history = 20, hessian_approximation = \"limited-memory\"));"
   ]
  },
  {
   "cell_type": "markdown",
   "metadata": {},
   "source": [
    "We can take a look at the MLE's"
   ]
  },
  {
   "cell_type": "code",
   "execution_count": 13,
   "metadata": {},
   "outputs": [
    {
     "name": "stdout",
     "output_type": "stream",
     "text": [
      "Bernoulli_CS_model.β = [-0.8073560280686407, 0.8553513879813671, -0.027821756706670475, 2.0702779503223048]\n",
      "Bernoulli_CS_model.σ2 = [0.35242279695900536]\n",
      "Bernoulli_CS_model.ρ = [0.8734724569746284]\n"
     ]
    }
   ],
   "source": [
    "@show Bernoulli_CS_model.β\n",
    "@show Bernoulli_CS_model.σ2\n",
    "@show Bernoulli_CS_model.ρ;"
   ]
  },
  {
   "cell_type": "markdown",
   "metadata": {},
   "source": [
    "Calculate the loglikelihood at the maximum"
   ]
  },
  {
   "cell_type": "code",
   "execution_count": 14,
   "metadata": {},
   "outputs": [
    {
     "name": "stdout",
     "output_type": "stream",
     "text": [
      "loglikelihood!(Bernoulli_CS_model, true, true) = -249.00152024121175\n"
     ]
    }
   ],
   "source": [
    "@show loglikelihood!(Bernoulli_CS_model, true, true);"
   ]
  }
 ],
 "metadata": {
  "@webio": {
   "lastCommId": null,
   "lastKernelId": null
  },
  "kernelspec": {
   "display_name": "Julia 1.6.2",
   "language": "julia",
   "name": "julia-1.6"
  },
  "language_info": {
   "file_extension": ".jl",
   "mimetype": "application/julia",
   "name": "julia",
   "version": "1.6.2"
  }
 },
 "nbformat": 4,
 "nbformat_minor": 4
}
