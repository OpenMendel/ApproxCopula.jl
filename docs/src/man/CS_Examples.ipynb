{
 "cells": [
  {
   "cell_type": "markdown",
   "metadata": {},
   "source": [
    "# Compound Symmetric (CS) Covariance\n",
    "\n",
    "In this notebook we will show how to form the quasi-copula model with Bernoulli base distribution, Logit Link function and compound symmetric (CS) structured covariance on the `respiratory` dataset provided in the `geepack` R package. \n",
    "\n",
    "### Table of Contents:\n",
    "* [Example 1: Intercept Only CS Model](#Example-1:-Intercept-Only-CS-Model)\n",
    "* [Example 2: CS Model with Covariates](#Example-2:-CS-Model-with-Covariates)\n",
    "* [Example 3: CS Model with Covariates + L2 Penalty (optional)](#Example-3:-CS-Model-with-Covariates-L2-penalty-(optional))\n",
    "\n",
    "For these examples, we have $n$ independent clusters indexed by $i$. \n",
    "\n",
    "Under the CS parameterization of the covariance matrix, the $i^{th}$ cluster with cluster size $d_i$, has covariance matrix $\\mathbf{\\Gamma_i}$ that takes the form: \n",
    "\n",
    "$$\\mathbf{\\Gamma_i}(\\rho, \\sigma^2) =  \\sigma^2 * \\Big[ \\rho * \\mathbf{1_{d_i}} \\mathbf{1_{d_i}}^t + (1 - \\rho) * \\mathbf{I_{d_i}} \\Big]$$"
   ]
  },
  {
   "cell_type": "code",
   "execution_count": 1,
   "metadata": {},
   "outputs": [
    {
     "name": "stdout",
     "output_type": "stream",
     "text": [
      "Julia Version 1.6.2\n",
      "Commit 1b93d53fc4 (2021-07-14 15:36 UTC)\n",
      "Platform Info:\n",
      "  OS: macOS (x86_64-apple-darwin18.7.0)\n",
      "  CPU: Intel(R) Core(TM) i9-9880H CPU @ 2.30GHz\n",
      "  WORD_SIZE: 64\n",
      "  LIBM: libopenlibm\n",
      "  LLVM: libLLVM-11.0.1 (ORCJIT, skylake)\n"
     ]
    }
   ],
   "source": [
    "versioninfo()"
   ]
  },
  {
   "cell_type": "code",
   "execution_count": 2,
   "metadata": {
    "scrolled": true
   },
   "outputs": [],
   "source": [
    "using CSV, DataFrames, GLMCopula, LinearAlgebra, GLM, RCall"
   ]
  },
  {
   "cell_type": "code",
   "execution_count": 3,
   "metadata": {
    "scrolled": true
   },
   "outputs": [],
   "source": [
    "R\"\"\"\n",
    "    data(respiratory, package=\"geepack\")\n",
    "    respiratory_df <- respiratory[order(respiratory$id),]\n",
    "\"\"\"\n",
    "\n",
    "@rget respiratory_df;"
   ]
  },
  {
   "cell_type": "markdown",
   "metadata": {},
   "source": [
    "Let's take a preview of the first 10 lines of the respiratory dataset in long format."
   ]
  },
  {
   "cell_type": "code",
   "execution_count": 4,
   "metadata": {},
   "outputs": [
    {
     "name": "stdout",
     "output_type": "stream",
     "text": [
      "respiratory_df[1:10, :] = 10×8 DataFrame\n",
      " Row │ center  id     treat  sex   age    baseline  visit  outcome\n",
      "     │ Int64   Int64  Cat…   Cat…  Int64  Int64     Int64  Int64\n",
      "─────┼─────────────────────────────────────────────────────────────\n",
      "   1 │      1      1  P      M        46         0      1        0\n",
      "   2 │      1      1  P      M        46         0      2        0\n",
      "   3 │      1      1  P      M        46         0      3        0\n",
      "   4 │      1      1  P      M        46         0      4        0\n",
      "   5 │      2      1  P      F        39         0      1        0\n",
      "   6 │      2      1  P      F        39         0      2        0\n",
      "   7 │      2      1  P      F        39         0      3        0\n",
      "   8 │      2      1  P      F        39         0      4        0\n",
      "   9 │      1      2  P      M        28         0      1        0\n",
      "  10 │      1      2  P      M        28         0      2        0\n"
     ]
    }
   ],
   "source": [
    "@show respiratory_df[1:10, :];"
   ]
  },
  {
   "cell_type": "markdown",
   "metadata": {},
   "source": [
    "## Forming the Models\n",
    "\n",
    "We can form the CS model for regression with following arguments:\n",
    "\n",
    "##### Arguments\n",
    "- `df`: A named `DataFrame`\n",
    "- `y`: Ouctcome variable name of interest, specified as a `Symbol`.\n",
    "    This variable name must be present in `df`.\n",
    "- `grouping`: Grouping or Clustering variable name of interest, specified as a `Symbol`.\n",
    "    This variable name must be present in `df`.\n",
    "- `covariates`: Covariate names of interest as a vector of `Symbol`s.\n",
    "    Each variable name must be present in `df`.\n",
    "- `d`: Base `Distribution` of outcome from `Distributions.jl`.\n",
    "- `link`: Canonical `Link` function of the base distribution specified in `d`, from `GLM.jl`.\n",
    "\n",
    "##### Optional Arguments\n",
    "- `penalized`: Boolean to specify whether or not to add an L2 Ridge penalty on the variance parameter for the AR(1) structured covariance.\n",
    "    One can put true (e.g. `penalized = true`) to add this penalty for numerical stability (default `penalized = false`)."
   ]
  },
  {
   "cell_type": "markdown",
   "metadata": {},
   "source": [
    "### Example 1: Intercept Only CS Model\n",
    "\n",
    "We can form the CS model with intercept only by excluding the `covariates` argument."
   ]
  },
  {
   "cell_type": "code",
   "execution_count": 5,
   "metadata": {},
   "outputs": [
    {
     "data": {
      "text/plain": [
       "Quasi-Copula Compound Symmetric CS Model\n",
       "  * base distribution: Bernoulli\n",
       "  * link function: LogitLink\n",
       "  * number of clusters: 56\n",
       "  * cluster size min, max: 4, 8\n",
       "  * number of fixed effects: 1\n"
      ]
     },
     "execution_count": 5,
     "metadata": {},
     "output_type": "execute_result"
    }
   ],
   "source": [
    "df = respiratory_df\n",
    "y = :outcome\n",
    "grouping = :id\n",
    "d = Bernoulli()\n",
    "link = LogitLink()\n",
    "\n",
    "Bernoulli_CS_model = CS_model(df, y, grouping, d, link)"
   ]
  },
  {
   "cell_type": "markdown",
   "metadata": {},
   "source": [
    "### Example 2: CS Model with Covariates\n",
    "\n",
    "We can form the CS model with covariates by including the `covariates` argument."
   ]
  },
  {
   "cell_type": "code",
   "execution_count": 6,
   "metadata": {},
   "outputs": [
    {
     "data": {
      "text/plain": [
       "Quasi-Copula Compound Symmetric CS Model\n",
       "  * base distribution: Bernoulli\n",
       "  * link function: LogitLink\n",
       "  * number of clusters: 56\n",
       "  * cluster size min, max: 4, 8\n",
       "  * number of fixed effects: 4\n"
      ]
     },
     "execution_count": 6,
     "metadata": {},
     "output_type": "execute_result"
    }
   ],
   "source": [
    "covariates = [:center, :age, :baseline]\n",
    "\n",
    "Bernoulli_CS_model = CS_model(df, y, grouping, covariates, d, link)"
   ]
  },
  {
   "cell_type": "markdown",
   "metadata": {},
   "source": [
    "### Example 3: CS Model with Covariates + L2 penalty (optional)\n",
    "\n",
    "We can form the same CS model from Example 2 with the optional argument for adding the L2 penalty on the variance parameter in the CS parameterization of Gamma."
   ]
  },
  {
   "cell_type": "code",
   "execution_count": 7,
   "metadata": {},
   "outputs": [
    {
     "data": {
      "text/plain": [
       "Quasi-Copula Compound Symmetric CS Model\n",
       "  * base distribution: Bernoulli\n",
       "  * link function: LogitLink\n",
       "  * number of clusters: 56\n",
       "  * cluster size min, max: 4, 8\n",
       "  * number of fixed effects: 4\n",
       "  * L2 ridge penalty on CS variance parameter: true"
      ]
     },
     "execution_count": 7,
     "metadata": {},
     "output_type": "execute_result"
    }
   ],
   "source": [
    "Bernoulli_CS_model = CS_model(df, y, grouping, covariates, d, link; penalized = true)"
   ]
  },
  {
   "cell_type": "markdown",
   "metadata": {},
   "source": [
    "## Fitting the model\n",
    "\n",
    "Let's show how to fit the model on the model from example 3. By default, we limit the maximum number of Quasi-Newton iterations to 100, and set the convergence tolerance to $10^{-6}.$ "
   ]
  },
  {
   "cell_type": "code",
   "execution_count": 8,
   "metadata": {},
   "outputs": [
    {
     "name": "stdout",
     "output_type": "stream",
     "text": [
      "initializing β using Newton's Algorithm under Independence Assumption\n",
      "\n",
      "******************************************************************************\n",
      "This program contains Ipopt, a library for large-scale nonlinear optimization.\n",
      " Ipopt is released as open source code under the Eclipse Public License (EPL).\n",
      "         For more information visit https://github.com/coin-or/Ipopt\n",
      "******************************************************************************\n",
      "\n",
      "Total number of variables............................:        6\n",
      "                     variables with only lower bounds:        1\n",
      "                variables with lower and upper bounds:        1\n",
      "                     variables with only upper bounds:        0\n",
      "Total number of equality constraints.................:        0\n",
      "Total number of inequality constraints...............:        0\n",
      "        inequality constraints with only lower bounds:        0\n",
      "   inequality constraints with lower and upper bounds:        0\n",
      "        inequality constraints with only upper bounds:        0\n",
      "\n",
      "\n",
      "Number of Iterations....: 23\n",
      "\n",
      "                                   (scaled)                 (unscaled)\n",
      "Objective...............:   2.5027875108223640e+02    2.5027875108223640e+02\n",
      "Dual infeasibility......:   4.5418531868790524e-07    4.5418531868790524e-07\n",
      "Constraint violation....:   0.0000000000000000e+00    0.0000000000000000e+00\n",
      "Complementarity.........:   1.0000038536138807e-11    1.0000038536138807e-11\n",
      "Overall NLP error.......:   4.5418531868790524e-07    4.5418531868790524e-07\n",
      "\n",
      "\n",
      "Number of objective function evaluations             = 39\n",
      "Number of objective gradient evaluations             = 24\n",
      "Number of equality constraint evaluations            = 0\n",
      "Number of inequality constraint evaluations          = 0\n",
      "Number of equality constraint Jacobian evaluations   = 0\n",
      "Number of inequality constraint Jacobian evaluations = 0\n",
      "Number of Lagrangian Hessian evaluations             = 0\n",
      "Total CPU secs in IPOPT (w/o function evaluations)   =     11.928\n",
      "Total CPU secs in NLP function evaluations           =      0.009\n",
      "\n",
      "EXIT: Optimal Solution Found.\n"
     ]
    }
   ],
   "source": [
    "GLMCopula.fit!(Bernoulli_CS_model);"
   ]
  },
  {
   "cell_type": "markdown",
   "metadata": {},
   "source": [
    "We can take a look at the MLE's"
   ]
  },
  {
   "cell_type": "code",
   "execution_count": 9,
   "metadata": {},
   "outputs": [
    {
     "name": "stdout",
     "output_type": "stream",
     "text": [
      "Bernoulli_CS_model.β = [-0.834645421736292, 0.8091668556560436, -0.024759691500116324, 1.9286662077720407]\n",
      "Bernoulli_CS_model.σ2 = [0.1703805055662562]\n",
      "Bernoulli_CS_model.ρ = [1.0]\n"
     ]
    }
   ],
   "source": [
    "@show Bernoulli_CS_model.β\n",
    "@show Bernoulli_CS_model.σ2\n",
    "@show Bernoulli_CS_model.ρ;"
   ]
  },
  {
   "cell_type": "markdown",
   "metadata": {},
   "source": [
    "Calculate the loglikelihood at the maximum"
   ]
  },
  {
   "cell_type": "code",
   "execution_count": 10,
   "metadata": {},
   "outputs": [
    {
     "data": {
      "text/plain": [
       "-250.2787511004698"
      ]
     },
     "execution_count": 10,
     "metadata": {},
     "output_type": "execute_result"
    }
   ],
   "source": [
    "logl(Bernoulli_CS_model)"
   ]
  },
  {
   "cell_type": "markdown",
   "metadata": {},
   "source": [
    "Get asymptotic confidence intervals at the MLE's"
   ]
  },
  {
   "cell_type": "code",
   "execution_count": 11,
   "metadata": {},
   "outputs": [
    {
     "data": {
      "text/plain": [
       "6×2 Matrix{Float64}:\n",
       " -1.07019    -0.599097\n",
       "  0.771294    0.847039\n",
       " -0.0339459  -0.0155735\n",
       "  1.81842     2.03892\n",
       "  0.46641     1.53359\n",
       " -0.743613    1.08437"
      ]
     },
     "execution_count": 11,
     "metadata": {},
     "output_type": "execute_result"
    }
   ],
   "source": [
    "get_CI(Bernoulli_CS_model)"
   ]
  }
 ],
 "metadata": {
  "@webio": {
   "lastCommId": null,
   "lastKernelId": null
  },
  "kernelspec": {
   "display_name": "Julia 1.6.2",
   "language": "julia",
   "name": "julia-1.6"
  },
  "language_info": {
   "file_extension": ".jl",
   "mimetype": "application/julia",
   "name": "julia",
   "version": "1.6.2"
  }
 },
 "nbformat": 4,
 "nbformat_minor": 4
}
