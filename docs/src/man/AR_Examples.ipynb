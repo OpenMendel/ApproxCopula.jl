{
 "cells": [
  {
   "cell_type": "markdown",
   "metadata": {},
   "source": [
    "# Autoregressive AR(1) Covariance\n",
    "\n",
    "In this notebook we will fit our model with autoregressive AR(1) structured covariance on two example datasets provided in the gcmr and geepack R packages. For these examples we will use the AR(1) parameterization of the covariance matrix $\\mathbf{\\Gamma},$ and estimate correlation parameter $\\rho$ and dispersion parameter $\\sigma^2$. \n",
    "\n",
    "For the $i^{th}$ cluster with cluster size $d_i$, $\\mathbf{\\Gamma_i}$ is given by \n",
    "\n",
    "$$\\mathbf{\\Gamma_i}(\\rho, \\sigma^2) = \\sigma^2 \\times \\left[\\begin{array}{ccccccc}\n",
    "1 & \\rho & \\rho^2 & \\rho^3 & ...  &\\rho^{d_i - 1}\\\\\n",
    " \\rho & 1 & \\rho & \\rho^2 & ... \\\\\n",
    " & & ... & & \\\\ & &...& \\rho & 1 & \\rho \\\\\n",
    " \\rho^{d_i - 1} & \\rho^{d_i - 2} & ...& \\rho^2 & \\rho & 1\n",
    "\\end{array}\\right]$$\n",
    "\n",
    "### Table of Contents:\n",
    "* [Example 1: Poisson AR(1) (gcmr:Epilepsy)](#Example-1:-Poisson-AR(1))\n",
    "* [Example 2: Bernoulli AR(1) (geepack:Respiratory)](#Example-2:-Bernoulli-AR(1))\n",
    "\n",
    "    note: For the dispersion parameter, we can an L2 penalty to the loglikelihood to keep the estimates from going off to infinity. This notebook presents results with the unpenalized fit."
   ]
  },
  {
   "cell_type": "code",
   "execution_count": 1,
   "metadata": {},
   "outputs": [
    {
     "name": "stdout",
     "output_type": "stream",
     "text": [
      "Julia Version 1.6.2\n",
      "Commit 1b93d53fc4 (2021-07-14 15:36 UTC)\n",
      "Platform Info:\n",
      "  OS: macOS (x86_64-apple-darwin18.7.0)\n",
      "  CPU: Intel(R) Core(TM) i9-9880H CPU @ 2.30GHz\n",
      "  WORD_SIZE: 64\n",
      "  LIBM: libopenlibm\n",
      "  LLVM: libLLVM-11.0.1 (ORCJIT, skylake)\n"
     ]
    }
   ],
   "source": [
    "versioninfo()"
   ]
  },
  {
   "cell_type": "code",
   "execution_count": 2,
   "metadata": {
    "scrolled": true
   },
   "outputs": [],
   "source": [
    "using CSV, DataFrames, GLMCopula, LinearAlgebra, GLM, RCall, RData, RDatasets"
   ]
  },
  {
   "cell_type": "markdown",
   "metadata": {},
   "source": [
    "## Example 1: Poisson AR(1) "
   ]
  },
  {
   "cell_type": "markdown",
   "metadata": {},
   "source": [
    "We first demonstrate how to fit the model with Poisson base and AR(1) covariance on the \"epilepsy\" dataset from the \"gcmr\" package in R."
   ]
  },
  {
   "cell_type": "code",
   "execution_count": 3,
   "metadata": {
    "scrolled": true
   },
   "outputs": [
    {
     "name": "stderr",
     "output_type": "stream",
     "text": [
      "┌ Warning: RCall.jl: Warning: package ‘gcmr’ was built under R version 4.0.2\n",
      "└ @ RCall /Users/sarahji/.julia/packages/RCall/6kphM/src/io.jl:172\n"
     ]
    }
   ],
   "source": [
    "R\"\"\"\n",
    "    library(\"gcmr\")\n",
    "    data(\"epilepsy\", package = \"gcmr\")\n",
    "\"\"\"\n",
    "@rget epilepsy;"
   ]
  },
  {
   "cell_type": "markdown",
   "metadata": {},
   "source": [
    "Let's take a preview of the first 10 lines of the epilepsy dataset."
   ]
  },
  {
   "cell_type": "code",
   "execution_count": 4,
   "metadata": {},
   "outputs": [
    {
     "name": "stdout",
     "output_type": "stream",
     "text": [
      "epilepsy[1:10, :] = 10×6 DataFrame\n",
      " Row │ id     age    trt    counts  time     visit\n",
      "     │ Int64  Int64  Int64  Int64   Float64  Float64\n",
      "─────┼───────────────────────────────────────────────\n",
      "   1 │     1     31      0      11      8.0      0.0\n",
      "   2 │     1     31      0       5      2.0      1.0\n",
      "   3 │     1     31      0       3      2.0      1.0\n",
      "   4 │     1     31      0       3      2.0      1.0\n",
      "   5 │     1     31      0       3      2.0      1.0\n",
      "   6 │     2     30      0      11      8.0      0.0\n",
      "   7 │     2     30      0       3      2.0      1.0\n",
      "   8 │     2     30      0       5      2.0      1.0\n",
      "   9 │     2     30      0       3      2.0      1.0\n",
      "  10 │     2     30      0       3      2.0      1.0\n"
     ]
    }
   ],
   "source": [
    "@show epilepsy[1:10, :];"
   ]
  },
  {
   "cell_type": "markdown",
   "metadata": {},
   "source": [
    "#### Forming the Model\n",
    "\n",
    "To form the model, we give it the following arguments:\n",
    "\n",
    "- named dataframe\n",
    "- outcome variable name of interest as a symbol\n",
    "- grouping variable name of interest as a symbol\n",
    "- covariate names of interest as a vector of symbols\n",
    "- base distribution\n",
    "- link function\n"
   ]
  },
  {
   "cell_type": "code",
   "execution_count": 5,
   "metadata": {},
   "outputs": [],
   "source": [
    "df = epilepsy\n",
    "y = :counts\n",
    "grouping = :id\n",
    "covariates = [:visit, :trt]\n",
    "d = Poisson()\n",
    "link = LogLink()\n",
    "\n",
    "Poisson_AR_model = AR_model(df, y, grouping, covariates, d, link);"
   ]
  },
  {
   "cell_type": "markdown",
   "metadata": {},
   "source": [
    "Fit the model. By default, we limit the maximum number of Quasi-Newton iterations to 100, and set the convergence tolerance to $10^{-6}.$ "
   ]
  },
  {
   "cell_type": "code",
   "execution_count": 6,
   "metadata": {},
   "outputs": [
    {
     "name": "stdout",
     "output_type": "stream",
     "text": [
      "initializing β using Newton's Algorithm under Independence Assumption\n",
      "initializing variance components using MM-Algorithm\n",
      "\n",
      "******************************************************************************\n",
      "This program contains Ipopt, a library for large-scale nonlinear optimization.\n",
      " Ipopt is released as open source code under the Eclipse Public License (EPL).\n",
      "         For more information visit https://github.com/coin-or/Ipopt\n",
      "******************************************************************************\n",
      "\n",
      "Total number of variables............................:        5\n",
      "                     variables with only lower bounds:        1\n",
      "                variables with lower and upper bounds:        1\n",
      "                     variables with only upper bounds:        0\n",
      "Total number of equality constraints.................:        0\n",
      "Total number of inequality constraints...............:        0\n",
      "        inequality constraints with only lower bounds:        0\n",
      "   inequality constraints with lower and upper bounds:        0\n",
      "        inequality constraints with only upper bounds:        0\n",
      "\n",
      "\n",
      "Number of Iterations....: 89\n",
      "\n",
      "                                   (scaled)                 (unscaled)\n",
      "Objective...............:   2.1688986516850264e+03    2.1688986516850264e+03\n",
      "Dual infeasibility......:   5.9531302554205467e-08    5.9531302554205467e-08\n",
      "Constraint violation....:   0.0000000000000000e+00    0.0000000000000000e+00\n",
      "Complementarity.........:   9.9999999999999994e-12    9.9999999999999994e-12\n",
      "Overall NLP error.......:   5.9531302554205467e-08    5.9531302554205467e-08\n",
      "\n",
      "\n",
      "Number of objective function evaluations             = 380\n",
      "Number of objective gradient evaluations             = 90\n",
      "Number of equality constraint evaluations            = 0\n",
      "Number of inequality constraint evaluations          = 0\n",
      "Number of equality constraint Jacobian evaluations   = 0\n",
      "Number of inequality constraint Jacobian evaluations = 0\n",
      "Number of Lagrangian Hessian evaluations             = 0\n",
      "Total CPU secs in IPOPT (w/o function evaluations)   =      0.600\n",
      "Total CPU secs in NLP function evaluations           =      0.023\n",
      "\n",
      "EXIT: Optimal Solution Found.\n"
     ]
    }
   ],
   "source": [
    "GLMCopula.fit!(Poisson_AR_model);"
   ]
  },
  {
   "cell_type": "markdown",
   "metadata": {},
   "source": [
    "We can take a look at the MLE's"
   ]
  },
  {
   "cell_type": "code",
   "execution_count": 7,
   "metadata": {},
   "outputs": [
    {
     "name": "stdout",
     "output_type": "stream",
     "text": [
      "Poisson_AR_model.β = [3.477001434202149, -1.3123828083769642, -0.06552858739753331]\n",
      "Poisson_AR_model.σ2 = [96534.17924265226]\n",
      "Poisson_AR_model.ρ = [0.949948537714978]\n"
     ]
    }
   ],
   "source": [
    "@show Poisson_AR_model.β\n",
    "@show Poisson_AR_model.σ2\n",
    "@show Poisson_AR_model.ρ;"
   ]
  },
  {
   "cell_type": "markdown",
   "metadata": {},
   "source": [
    "Calculate the loglikelihood at the maximum"
   ]
  },
  {
   "cell_type": "code",
   "execution_count": 8,
   "metadata": {},
   "outputs": [
    {
     "name": "stdout",
     "output_type": "stream",
     "text": [
      "loglikelihood!(Poisson_AR_model, false, false) = -2168.8986516850264\n"
     ]
    }
   ],
   "source": [
    "@show loglikelihood!(Poisson_AR_model, false, false);"
   ]
  },
  {
   "cell_type": "markdown",
   "metadata": {},
   "source": [
    "## Example 2: Bernoulli AR(1)\n",
    "\n",
    "We will next demo how to fit the model with Bernoulli base and AR(1) covariance on the \"respiratory\" dataset from the \"geepack\" package. "
   ]
  },
  {
   "cell_type": "code",
   "execution_count": 9,
   "metadata": {},
   "outputs": [],
   "source": [
    "R\"\"\"\n",
    "    data(respiratory, package=\"geepack\")\n",
    "    respiratory_df <- respiratory[order(respiratory$id),]\n",
    "\"\"\"\n",
    "\n",
    "@rget respiratory_df;"
   ]
  },
  {
   "cell_type": "markdown",
   "metadata": {},
   "source": [
    "Let's take a preview of the first 10 lines of the respiratory dataset in long format."
   ]
  },
  {
   "cell_type": "code",
   "execution_count": 10,
   "metadata": {},
   "outputs": [
    {
     "name": "stdout",
     "output_type": "stream",
     "text": [
      "respiratory_df[1:10, :] = 10×8 DataFrame\n",
      " Row │ center  id     treat  sex   age    baseline  visit  outcome\n",
      "     │ Int64   Int64  Cat…   Cat…  Int64  Int64     Int64  Int64\n",
      "─────┼─────────────────────────────────────────────────────────────\n",
      "   1 │      1      1  P      M        46         0      1        0\n",
      "   2 │      1      1  P      M        46         0      2        0\n",
      "   3 │      1      1  P      M        46         0      3        0\n",
      "   4 │      1      1  P      M        46         0      4        0\n",
      "   5 │      2      1  P      F        39         0      1        0\n",
      "   6 │      2      1  P      F        39         0      2        0\n",
      "   7 │      2      1  P      F        39         0      3        0\n",
      "   8 │      2      1  P      F        39         0      4        0\n",
      "   9 │      1      2  P      M        28         0      1        0\n",
      "  10 │      1      2  P      M        28         0      2        0\n"
     ]
    }
   ],
   "source": [
    "@show respiratory_df[1:10, :];"
   ]
  },
  {
   "cell_type": "markdown",
   "metadata": {},
   "source": [
    "#### Forming the Model\n",
    "\n",
    "To form the model, we give it the following arguments:\n",
    "\n",
    "- named dataframe\n",
    "- outcome variable name of interest as a symbol\n",
    "- grouping variable name of interest as a symbol\n",
    "- covariate names of interest as a vector of symbols\n",
    "- base distribution\n",
    "- link function"
   ]
  },
  {
   "cell_type": "code",
   "execution_count": 11,
   "metadata": {},
   "outputs": [],
   "source": [
    "df = respiratory_df\n",
    "y = :outcome\n",
    "grouping = :id\n",
    "covariates = [:center, :age, :baseline]\n",
    "d = Bernoulli()\n",
    "link = LogitLink()\n",
    "\n",
    "Bernoulli_AR_model = AR_model(df, y, grouping, covariates, d, link);"
   ]
  },
  {
   "cell_type": "markdown",
   "metadata": {},
   "source": [
    "Fit the model. By default, we limit the maximum number of Quasi-Newton iterations to 100, and set the convergence tolerance to $10^{-6}.$ "
   ]
  },
  {
   "cell_type": "code",
   "execution_count": 12,
   "metadata": {},
   "outputs": [
    {
     "name": "stdout",
     "output_type": "stream",
     "text": [
      "initializing β using Newton's Algorithm under Independence Assumption\n",
      "initializing variance components using MM-Algorithm\n",
      "Total number of variables............................:        6\n",
      "                     variables with only lower bounds:        1\n",
      "                variables with lower and upper bounds:        1\n",
      "                     variables with only upper bounds:        0\n",
      "Total number of equality constraints.................:        0\n",
      "Total number of inequality constraints...............:        0\n",
      "        inequality constraints with only lower bounds:        0\n",
      "   inequality constraints with lower and upper bounds:        0\n",
      "        inequality constraints with only upper bounds:        0\n",
      "\n",
      "\n",
      "Number of Iterations....: 93\n",
      "\n",
      "                                   (scaled)                 (unscaled)\n",
      "Objective...............:   2.4055710825065918e+02    2.4055710825065918e+02\n",
      "Dual infeasibility......:   1.9741609591505949e-07    1.9741609591505949e-07\n",
      "Constraint violation....:   0.0000000000000000e+00    0.0000000000000000e+00\n",
      "Complementarity.........:   9.9999999999999994e-12    9.9999999999999994e-12\n",
      "Overall NLP error.......:   1.9741609591505949e-07    1.9741609591505949e-07\n",
      "\n",
      "\n",
      "Number of objective function evaluations             = 420\n",
      "Number of objective gradient evaluations             = 94\n",
      "Number of equality constraint evaluations            = 0\n",
      "Number of inequality constraint evaluations          = 0\n",
      "Number of equality constraint Jacobian evaluations   = 0\n",
      "Number of inequality constraint Jacobian evaluations = 0\n",
      "Number of Lagrangian Hessian evaluations             = 0\n",
      "Total CPU secs in IPOPT (w/o function evaluations)   =      0.661\n",
      "Total CPU secs in NLP function evaluations           =      0.021\n",
      "\n",
      "EXIT: Optimal Solution Found.\n"
     ]
    }
   ],
   "source": [
    "GLMCopula.fit!(Bernoulli_AR_model);"
   ]
  },
  {
   "cell_type": "markdown",
   "metadata": {},
   "source": [
    "We can take a look at the MLE's"
   ]
  },
  {
   "cell_type": "code",
   "execution_count": 13,
   "metadata": {},
   "outputs": [
    {
     "name": "stdout",
     "output_type": "stream",
     "text": [
      "Bernoulli_AR_model.β = [-0.8586644089629349, 0.8334076580604213, -0.02695312973934001, 2.1032676612358934]\n",
      "Bernoulli_AR_model.σ2 = [306890.7562627383]\n",
      "Bernoulli_AR_model.ρ = [0.7813892966698839]\n"
     ]
    }
   ],
   "source": [
    "@show Bernoulli_AR_model.β\n",
    "@show Bernoulli_AR_model.σ2\n",
    "@show Bernoulli_AR_model.ρ;"
   ]
  },
  {
   "cell_type": "markdown",
   "metadata": {},
   "source": [
    "Calculate the loglikelihood at the maximum"
   ]
  },
  {
   "cell_type": "code",
   "execution_count": 14,
   "metadata": {},
   "outputs": [
    {
     "name": "stdout",
     "output_type": "stream",
     "text": [
      "loglikelihood!(Bernoulli_AR_model, false, false) = -240.55710825065918\n"
     ]
    }
   ],
   "source": [
    "@show loglikelihood!(Bernoulli_AR_model, false, false);"
   ]
  }
 ],
 "metadata": {
  "@webio": {
   "lastCommId": null,
   "lastKernelId": null
  },
  "kernelspec": {
   "display_name": "Julia 1.6.2",
   "language": "julia",
   "name": "julia-1.6"
  },
  "language_info": {
   "file_extension": ".jl",
   "mimetype": "application/julia",
   "name": "julia",
   "version": "1.6.2"
  }
 },
 "nbformat": 4,
 "nbformat_minor": 4
}
