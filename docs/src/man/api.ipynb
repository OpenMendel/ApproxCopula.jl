{
 "cells": [
  {
   "cell_type": "markdown",
   "metadata": {},
   "source": [
    "# API\n",
    "\n",
    "Documentation for `GLMCopua.jl`'s functions.\n",
    "\n",
    "## Index\n",
    "\n",
    "```@index\n",
    "Pages = [\"api.md\"]\n",
    "```\n",
    "\n",
    "## Functions\n",
    "\n",
    "```@docs\n",
    "fit!\n",
    "```\n",
    "\n",
    "## Models\n",
    "\n",
    "```@docs\n",
    "AR_model\n",
    "CS_model\n",
    "VC_model\n",
    "```"
   ]
  }
 ],
 "metadata": {
  "kernelspec": {
   "display_name": "Julia 1.6.2",
   "language": "julia",
   "name": "julia-1.6"
  },
  "language_info": {
   "file_extension": ".jl",
   "mimetype": "application/julia",
   "name": "julia",
   "version": "1.6.2"
  }
 },
 "nbformat": 4,
 "nbformat_minor": 2
}
