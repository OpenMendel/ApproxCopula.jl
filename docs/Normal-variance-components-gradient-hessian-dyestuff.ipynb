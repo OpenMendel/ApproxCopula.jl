{
 "cells": [
  {
   "cell_type": "markdown",
   "metadata": {},
   "source": [
    "# Implementing Gradient and Hessian of Variance Components Vector\n",
    "\n",
    "In this notebook we will use the dyestuff dataset from MixedModels to code the gradient and hessian of the variance component vector derived on paper."
   ]
  },
  {
   "cell_type": "code",
   "execution_count": 1,
   "metadata": {},
   "outputs": [],
   "source": [
    "using RDatasets, Test, GLM, LinearAlgebra, GLMCopula, BenchmarkTools, Revise\n",
    "using LinearAlgebra: BlasReal, copytri!\n",
    "# Dataframe with columns: Batch (Categorical), Yield (Int32)\n",
    "dyestuff = dataset(\"lme4\", \"Dyestuff\")\n",
    "groups = unique(dyestuff[!, :Batch])\n",
    "n, p, m = length(groups), 1, 2\n",
    "d = Normal()\n",
    "link = IdentityLink()\n",
    "D = typeof(d)\n",
    "Link = typeof(link)\n",
    "T = Float64\n",
    "gcs = Vector{GLMCopulaVCObs{T, D, Link}}(undef, n)\n",
    "for (i, grp) in enumerate(groups)\n",
    "    gidx = dyestuff[!, :Batch] .== grp\n",
    "    ni = count(gidx)\n",
    "    y = Float64.(dyestuff[gidx, :Yield])\n",
    "    X = ones(ni, 1)\n",
    "    V = [ones(ni, ni), Matrix(I, ni, ni)]\n",
    "    gcs[i] = GLMCopulaVCObs(y, X, V, d, link)\n",
    "end\n",
    "gcm = GLMCopulaVCModel(gcs);"
   ]
  },
  {
   "cell_type": "markdown",
   "metadata": {},
   "source": [
    "Initialize β and σ2, here I just copy the solution for β and σ2 from MixedModels.jl over"
   ]
  },
  {
   "cell_type": "code",
   "execution_count": 2,
   "metadata": {},
   "outputs": [
    {
     "name": "stdout",
     "output_type": "stream",
     "text": [
      "gcm.β = [1527.4999999999998]\n",
      "gcm.τ = [0.000331645019946949]\n",
      "gcm.Σ = [0.8636138778492553, 1.842649569420672e-9]\n"
     ]
    }
   ],
   "source": [
    "# initialize β and τ from least square solution\n",
    "initialize_model!(gcm);\n",
    "#gcm.β .= [1527.4999999999998]\n",
    "@show gcm.β\n",
    "# update σ2 and τ from β using the MM algorithm\n",
    "fill!(gcm.Σ, 1)\n",
    "# update_Σ!(gcm, 500, 1e-6, GurobiSolver(OutputFlag=0), true)\n",
    "update_Σ!(gcm)\n",
    "@show gcm.τ\n",
    "@show gcm.Σ;"
   ]
  },
  {
   "cell_type": "markdown",
   "metadata": {},
   "source": [
    "### Now lets look at pieces we need for gradient with respect to variance component vector\n",
    "\n",
    "we need to form $b_i$ and $c_i$ vectors for each observation $i$. \n"
   ]
  },
  {
   "cell_type": "code",
   "execution_count": 3,
   "metadata": {},
   "outputs": [
    {
     "data": {
      "text/plain": [
       "2-element Array{Float64,1}:\n",
       " 6328.124999999874\n",
       " 9215.624999999975"
      ]
     },
     "execution_count": 3,
     "metadata": {},
     "output_type": "execute_result"
    }
   ],
   "source": [
    "# hard coded should be of length m with elements r^t V[k] r / 2 k in [1, m]\n",
    "b_i = zeros(m)\n",
    "i = 1\n",
    "for k in 1:m\n",
    "    b_i[k] = 0.5 * transpose(gcm.data[i].res) * gcm.data[i].V[k] * gcm.data[i].res\n",
    "end\n",
    "b_i"
   ]
  },
  {
   "cell_type": "code",
   "execution_count": 4,
   "metadata": {},
   "outputs": [
    {
     "name": "stdout",
     "output_type": "stream",
     "text": [
      "(gcm.data[1]).q = [6328.124999999874, 9215.624999999975]\n"
     ]
    },
    {
     "data": {
      "text/plain": [
       "2-element Array{Float64,1}:\n",
       " 6328.124999999874\n",
       " 9215.624999999975"
      ]
     },
     "execution_count": 4,
     "metadata": {},
     "output_type": "execute_result"
    }
   ],
   "source": [
    "# using function show what we are storing\n",
    "rsstotal = 0.0\n",
    "for i in eachindex(gcm.data)\n",
    "    update_res!(gcm.data[i], gcm.β)\n",
    "    rsstotal += abs2(norm(gcm.data[i].res))  # needed for updating τ in normal case\n",
    "    standardize_res!(gcm.data[i])            # standardize the residuals GLM variance(μ)\n",
    "    GLMCopula.update_quadform!(gcm.data[i]) # with standardized residuals\n",
    "    gcm.QF[i, :] = gcm.data[i].q\n",
    "end\n",
    "\n",
    "@show gcm.data[1].q"
   ]
  },
  {
   "cell_type": "code",
   "execution_count": 5,
   "metadata": {},
   "outputs": [
    {
     "data": {
      "text/plain": [
       "6×2 Array{Float64,2}:\n",
       "  6328.12    9215.62\n",
       "     3.125   2215.63\n",
       " 16653.1     6215.63\n",
       " 10878.1    11615.6\n",
       " 65703.1    18140.6\n",
       " 41328.1    10190.6"
      ]
     },
     "execution_count": 5,
     "metadata": {},
     "output_type": "execute_result"
    }
   ],
   "source": [
    "# # each row is an independent cluster i\n",
    "gcm.QF"
   ]
  },
  {
   "cell_type": "markdown",
   "metadata": {},
   "source": [
    "## we need $1 + a^t * b_i$ and $1 + a^t * c_i$ for the denominator"
   ]
  },
  {
   "cell_type": "code",
   "execution_count": 6,
   "metadata": {},
   "outputs": [
    {
     "data": {
      "text/plain": [
       "5465.056587745877"
      ]
     },
     "execution_count": 6,
     "metadata": {},
     "output_type": "execute_result"
    }
   ],
   "source": [
    "dot(gcm.Σ, b_i)"
   ]
  },
  {
   "cell_type": "code",
   "execution_count": 7,
   "metadata": {},
   "outputs": [
    {
     "data": {
      "text/plain": [
       "5465.056587745877"
      ]
     },
     "execution_count": 7,
     "metadata": {},
     "output_type": "execute_result"
    }
   ],
   "source": [
    "gcm.Σ[1] * b_i[1] + gcm.Σ[2] * b_i[2]"
   ]
  },
  {
   "cell_type": "code",
   "execution_count": 8,
   "metadata": {},
   "outputs": [
    {
     "data": {
      "text/plain": [
       "2-element Array{Float64,1}:\n",
       " 1.1577130420103283\n",
       " 1.6859732152535885"
      ]
     },
     "execution_count": 8,
     "metadata": {},
     "output_type": "execute_result"
    }
   ],
   "source": [
    "# first term of gradient with respect to a for i = 1 first observation\n",
    "# need to sum over i at the end\n",
    "gradient_term1 = inv(1 + dot(gcm.Σ, b_i)) * b_i"
   ]
  },
  {
   "cell_type": "markdown",
   "metadata": {},
   "source": [
    "# c_i"
   ]
  },
  {
   "cell_type": "code",
   "execution_count": 9,
   "metadata": {},
   "outputs": [
    {
     "data": {
      "text/plain": [
       "2-element Array{Float64,1}:\n",
       " 2.5\n",
       " 2.5"
      ]
     },
     "execution_count": 9,
     "metadata": {},
     "output_type": "execute_result"
    }
   ],
   "source": [
    "# should be of length m with elements tr(V[k])/ 2 k in [1, m]\n",
    "c_i = zeros(m)\n",
    "i = 1\n",
    "for k in 1:m\n",
    "    c_i[k] = 0.5 * tr(gcm.data[i].V[k])\n",
    "end\n",
    "c_i"
   ]
  },
  {
   "cell_type": "code",
   "execution_count": 10,
   "metadata": {},
   "outputs": [
    {
     "data": {
      "text/plain": [
       "2-element Array{Float64,1}:\n",
       " -0.7913809875559619\n",
       " -0.7913809875559619"
      ]
     },
     "execution_count": 10,
     "metadata": {},
     "output_type": "execute_result"
    }
   ],
   "source": [
    "# second term of gradient with respect to a for i = 1\n",
    "# need to sum over i at the end\n",
    "gradient_term2 = -inv(1 + dot(gcm.Σ, c_i)) * c_i"
   ]
  },
  {
   "cell_type": "code",
   "execution_count": 11,
   "metadata": {},
   "outputs": [
    {
     "data": {
      "text/plain": [
       "2-element Array{Float64,1}:\n",
       " 2.5\n",
       " 2.5"
      ]
     },
     "execution_count": 11,
     "metadata": {},
     "output_type": "execute_result"
    }
   ],
   "source": [
    "gcm.TR[i, :]"
   ]
  },
  {
   "cell_type": "code",
   "execution_count": 12,
   "metadata": {},
   "outputs": [
    {
     "data": {
      "text/plain": [
       "2-element Array{Float64,1}:\n",
       " 0.36633205445436645\n",
       " 0.8945922276976266"
      ]
     },
     "execution_count": 12,
     "metadata": {},
     "output_type": "execute_result"
    }
   ],
   "source": [
    "gradient = gradient_term1 + gradient_term2"
   ]
  },
  {
   "cell_type": "code",
   "execution_count": 13,
   "metadata": {},
   "outputs": [
    {
     "name": "stdout",
     "output_type": "stream",
     "text": [
      "gcm.β = [1527.4999999999998]\n",
      "gcm.τ = [0.000331645019946949]\n",
      "gcm.Σ = [0.8636138778492553, 1.842649569420672e-9]\n"
     ]
    },
    {
     "data": {
      "text/plain": [
       "2-element Array{Float64,1}:\n",
       "   1.8857392414196066\n",
       " 598.2236017801591"
      ]
     },
     "execution_count": 13,
     "metadata": {},
     "output_type": "execute_result"
    }
   ],
   "source": [
    "gcm = GLMCopulaVCModel(gcs);\n",
    "# initialize β and τ from least square solution\n",
    "initialize_model!(gcm);\n",
    "#gcm.β .= [1527.4999999999998]\n",
    "@show gcm.β\n",
    "# update σ2 and τ from β using the MM algorithm\n",
    "fill!(gcm.Σ, 1)\n",
    "# update_Σ!(gcm, 500, 1e-6, GurobiSolver(OutputFlag=0), true)\n",
    "update_Σ!(gcm)\n",
    "@show gcm.τ\n",
    "@show gcm.Σ;\n",
    "\n",
    "\n",
    "# not as computationally efficient just thinking\n",
    "\"\"\"\n",
    "update_Σ_newton1!(gcm)\n",
    "\n",
    "Update Σ gradient and Hessian for Newton's Algorithm, given β.\n",
    "\"\"\"\n",
    "function update_Σ_newton1!(\n",
    "    gcm::GLMCopulaVCModel{T, D, Link}) where {T <: BlasReal, D, Link}\n",
    "    rsstotal = zero(T)\n",
    "    fill!(gcm.∇Σ, 0.0)\n",
    "    @inbounds for i in eachindex(gcm.data)\n",
    "        update_res!(gcm.data[i], gcm.β)\n",
    "        rsstotal += abs2(norm(gcm.data[i].res))  # needed for updating τ in normal case\n",
    "        standardize_res!(gcm.data[i])            # standardize the residuals GLM variance(μ)\n",
    "        GLMCopula.update_quadform!(gcm.data[i]) # with standardized residuals\n",
    "        gcm.QF[i, :] = gcm.data[i].q\n",
    "    end\n",
    "    mul!(gcm.storage_n, gcm.QF, gcm.Σ)\n",
    "    gcm.storage_n .= inv.(1 .+ gcm.storage_n)\n",
    "    \n",
    "    mul!(gcm.storage_n2, gcm.TR, gcm.Σ)\n",
    "    gcm.storage_n2 .= inv.(1 .+ gcm.storage_n2) \n",
    "\n",
    "    @inbounds for i in eachindex(gcm.data)\n",
    "        mul!(gcm.data[i].∇Σ1, gcm.storage_n[i], gcm.QF[i, :])\n",
    "        mul!(gcm.data[i].∇Σ2, gcm.storage_n2[i], gcm.TR[i, :])\n",
    "        gcm.data[i].∇Σ2 .*= -one(T)\n",
    "        gcm.data[i].∇Σ .= gcm.data[i].∇Σ1 .+ gcm.data[i].∇Σ2\n",
    "        gcm.∇Σ .+= gcm.data[i].∇Σ\n",
    "    end\n",
    "    return gcm.∇Σ\n",
    "end\n",
    "\n",
    "totalgradientΣ = update_Σ_newton1!(gcm)"
   ]
  },
  {
   "cell_type": "markdown",
   "metadata": {},
   "source": [
    "## First check if the gradient matches my hardcoded gradient"
   ]
  },
  {
   "cell_type": "code",
   "execution_count": 14,
   "metadata": {},
   "outputs": [
    {
     "data": {
      "text/plain": [
       "\u001b[32m\u001b[1mTest Passed\u001b[22m\u001b[39m"
      ]
     },
     "execution_count": 14,
     "metadata": {},
     "output_type": "execute_result"
    }
   ],
   "source": [
    "@test gcm.data[i].∇Σ1 == gradient_term1"
   ]
  },
  {
   "cell_type": "code",
   "execution_count": 15,
   "metadata": {},
   "outputs": [
    {
     "data": {
      "text/plain": [
       "\u001b[32m\u001b[1mTest Passed\u001b[22m\u001b[39m"
      ]
     },
     "execution_count": 15,
     "metadata": {},
     "output_type": "execute_result"
    }
   ],
   "source": [
    "@test gcm.data[i].∇Σ2 == gradient_term2"
   ]
  },
  {
   "cell_type": "code",
   "execution_count": 16,
   "metadata": {},
   "outputs": [
    {
     "data": {
      "text/plain": [
       "\u001b[32m\u001b[1mTest Passed\u001b[22m\u001b[39m"
      ]
     },
     "execution_count": 16,
     "metadata": {},
     "output_type": "execute_result"
    }
   ],
   "source": [
    "@test gcm.data[i].∇Σ == gradient"
   ]
  },
  {
   "cell_type": "code",
   "execution_count": 17,
   "metadata": {},
   "outputs": [
    {
     "data": {
      "text/plain": [
       "2-element Array{Float64,1}:\n",
       "   6.634025166755378\n",
       " 602.971887705495"
      ]
     },
     "execution_count": 17,
     "metadata": {},
     "output_type": "execute_result"
    }
   ],
   "source": [
    "# we need to sum over i for the first gradient term\n",
    "\n",
    "term1_n = zeros(m)\n",
    "for i in 1:length(gcm.data)\n",
    "    term1_n += gcm.storage_n[i] * gcm.QF[i, :]\n",
    "end\n",
    "\n",
    "term1_n"
   ]
  },
  {
   "cell_type": "code",
   "execution_count": 18,
   "metadata": {},
   "outputs": [
    {
     "data": {
      "text/plain": [
       "2-element Array{Float64,1}:\n",
       " -4.748285925335771\n",
       " -4.748285925335771"
      ]
     },
     "execution_count": 18,
     "metadata": {},
     "output_type": "execute_result"
    }
   ],
   "source": [
    "# we need to sum over i for the second gradient term\n",
    "\n",
    "term2_n = zeros(m)\n",
    "for i in 1:length(gcm.data)\n",
    "    term2_n += -gcm.storage_n2[i] * gcm.TR[i, :]\n",
    "end\n",
    "\n",
    "term2_n"
   ]
  },
  {
   "cell_type": "code",
   "execution_count": 19,
   "metadata": {},
   "outputs": [
    {
     "data": {
      "text/plain": [
       "\u001b[32m\u001b[1mTest Passed\u001b[22m\u001b[39m"
      ]
     },
     "execution_count": 19,
     "metadata": {},
     "output_type": "execute_result"
    }
   ],
   "source": [
    "@test gcm.∇Σ ≈ term1_n + term2_n"
   ]
  },
  {
   "cell_type": "code",
   "execution_count": 20,
   "metadata": {},
   "outputs": [
    {
     "name": "stdout",
     "output_type": "stream",
     "text": [
      "gcm.β = [1527.4999999999998]\n",
      "gcm.τ = [0.000331645019946949]\n",
      "gcm.Σ = [0.8636138778492553, 1.842649569420672e-9]\n"
     ]
    },
    {
     "data": {
      "text/plain": [
       "\u001b[32m\u001b[1mTest Passed\u001b[22m\u001b[39m"
      ]
     },
     "execution_count": 20,
     "metadata": {},
     "output_type": "execute_result"
    }
   ],
   "source": [
    "gcm = GLMCopulaVCModel(gcs);\n",
    "# initialize β and τ from least square solution\n",
    "initialize_model!(gcm);\n",
    "#gcm.β .= [1527.4999999999998]\n",
    "@show gcm.β\n",
    "# update σ2 and τ from β using the MM algorithm\n",
    "fill!(gcm.Σ, 1)\n",
    "# update_Σ!(gcm, 500, 1e-6, GurobiSolver(OutputFlag=0), true)\n",
    "update_Σ!(gcm)\n",
    "@show gcm.τ\n",
    "@show gcm.Σ;\n",
    "\n",
    "\"\"\"\n",
    "update_Σ_newton!(gcm)\n",
    "\n",
    "Update Σ gradient and Hessian for Newton's Algorithm, given β.\n",
    "\"\"\"\n",
    "function update_Σ_newton!(\n",
    "    gcm::GLMCopulaVCModel{T, D, Link}) where {T <: BlasReal, D, Link}\n",
    "    rsstotal = zero(T)\n",
    "    fill!(gcm.∇Σ, 0.0)\n",
    "    @inbounds for i in eachindex(gcm.data)\n",
    "        update_res!(gcm.data[i], gcm.β)\n",
    "        rsstotal += abs2(norm(gcm.data[i].res))  # needed for updating τ in normal case\n",
    "        standardize_res!(gcm.data[i])            # standardize the residuals GLM variance(μ)\n",
    "        GLMCopula.update_quadform!(gcm.data[i]) # with standardized residuals\n",
    "        gcm.QF[i, :] = gcm.data[i].q\n",
    "    end\n",
    "    mul!(gcm.storage_n, gcm.QF, gcm.Σ)\n",
    "    gcm.storage_n .= inv.(1 .+ gcm.storage_n)\n",
    "    \n",
    "    mul!(gcm.storage_n2, gcm.TR, gcm.Σ)\n",
    "    gcm.storage_n2 .= inv.(1 .+ gcm.storage_n2)\n",
    "    gcm.storage_n2 .*= -one(T)\n",
    "    \n",
    "    mul!(gcm.∇Σ1, transpose(gcm.QF), gcm.storage_n)\n",
    "    mul!(gcm.∇Σ2, transpose(gcm.TR), gcm.storage_n2)\n",
    "    gcm.∇Σ .+= gcm.∇Σ1\n",
    "    gcm.∇Σ .+= gcm.∇Σ2\n",
    "end\n",
    "\n",
    "update_Σ_newton!(gcm)\n",
    "\n",
    "@test gcm.∇Σ1 == term1_n\n",
    "@test gcm.∇Σ2 ≈ term2_n\n",
    "@test gcm.∇Σ ≈ term1_n + term2_n"
   ]
  },
  {
   "cell_type": "markdown",
   "metadata": {},
   "source": [
    "### Now Benchmark the Gradient"
   ]
  },
  {
   "cell_type": "code",
   "execution_count": 21,
   "metadata": {},
   "outputs": [
    {
     "data": {
      "text/plain": [
       "BenchmarkTools.Trial: \n",
       "  memory estimate:  0 bytes\n",
       "  allocs estimate:  0\n",
       "  --------------\n",
       "  minimum time:     1.618 μs (0.00% GC)\n",
       "  median time:      1.804 μs (0.00% GC)\n",
       "  mean time:        1.886 μs (0.00% GC)\n",
       "  maximum time:     15.617 μs (0.00% GC)\n",
       "  --------------\n",
       "  samples:          10000\n",
       "  evals/sample:     10"
      ]
     },
     "execution_count": 21,
     "metadata": {},
     "output_type": "execute_result"
    }
   ],
   "source": [
    "@benchmark update_Σ_newton!($gcm)"
   ]
  },
  {
   "cell_type": "markdown",
   "metadata": {},
   "source": [
    "## Next we can work on the Hessian"
   ]
  },
  {
   "cell_type": "code",
   "execution_count": 22,
   "metadata": {},
   "outputs": [
    {
     "data": {
      "text/plain": [
       "2×2 Array{Float64,2}:\n",
       " -1.3403   -1.95187\n",
       " -1.95187  -2.84251"
      ]
     },
     "execution_count": 22,
     "metadata": {},
     "output_type": "execute_result"
    }
   ],
   "source": [
    "hessian_term1 = -inv((1 + dot(gcm.Σ, b_i))^2) * b_i * transpose(b_i)"
   ]
  },
  {
   "cell_type": "code",
   "execution_count": 23,
   "metadata": {},
   "outputs": [
    {
     "data": {
      "text/plain": [
       "2×2 Array{Float64,2}:\n",
       " 0.626284  0.626284\n",
       " 0.626284  0.626284"
      ]
     },
     "execution_count": 23,
     "metadata": {},
     "output_type": "execute_result"
    }
   ],
   "source": [
    "hessian_term2 = inv((1 + dot(gcm.Σ, c_i))^2) * c_i * transpose(c_i)"
   ]
  },
  {
   "cell_type": "code",
   "execution_count": 24,
   "metadata": {},
   "outputs": [
    {
     "data": {
      "text/plain": [
       "2×2 Array{Float64,2}:\n",
       " -0.714016  -1.32559\n",
       " -1.32559   -2.21622"
      ]
     },
     "execution_count": 24,
     "metadata": {},
     "output_type": "execute_result"
    }
   ],
   "source": [
    "hessian = hessian_term1 + hessian_term2"
   ]
  },
  {
   "cell_type": "markdown",
   "metadata": {},
   "source": [
    "### Not as computationally efficient just thinking in a draft"
   ]
  },
  {
   "cell_type": "code",
   "execution_count": 25,
   "metadata": {},
   "outputs": [
    {
     "name": "stdout",
     "output_type": "stream",
     "text": [
      "gcm.β = [1527.4999999999998]\n",
      "gcm.τ = [0.000331645019946949]\n",
      "gcm.Σ = [0.8636138778492553, 1.842649569420672e-9]\n",
      "totalhessian = [-3.658966153259061 -506.9136917480972; -506.9136917480972 -358816.664752713]\n",
      "(gcm.data[1]).HΣ1 = [-1.340299487640808 -1.951873179779166; -1.9518731797791657 -2.842505682552523]\n",
      "(gcm.data[1]).HΣ2 = [0.6262838674650495 0.6262838674650495; 0.6262838674650495 0.6262838674650495]\n",
      "(gcm.data[1]).HΣ = [-0.7140156201757586 -1.3255893123141165; -1.3255893123141163 -2.2162218150874735]\n"
     ]
    }
   ],
   "source": [
    "gcm = GLMCopulaVCModel(gcs);\n",
    "# initialize β and τ from least square solution\n",
    "initialize_model!(gcm);\n",
    "#gcm.β .= [1527.4999999999998]\n",
    "@show gcm.β\n",
    "# update σ2 and τ from β using the MM algorithm\n",
    "fill!(gcm.Σ, 1)\n",
    "# update_Σ!(gcm, 500, 1e-6, GurobiSolver(OutputFlag=0), true)\n",
    "update_Σ!(gcm)\n",
    "@show gcm.τ\n",
    "@show gcm.Σ;\n",
    "\n",
    "\n",
    "\"\"\"\n",
    "update_Σ_newton1!(gcm)\n",
    "\n",
    "Update Σ gradient and Hessian for Newton's Algorithm, given β.\n",
    "\"\"\"\n",
    "function update_Σ_newton2!(\n",
    "    gcm::GLMCopulaVCModel{T, D, Link}) where {T <: BlasReal, D, Link}\n",
    "    rsstotal = zero(T)\n",
    "    rsstotal = 0.0\n",
    "    fill!(gcm.∇Σ, 0.0)\n",
    "    @inbounds for i in eachindex(gcm.data)\n",
    "        update_res!(gcm.data[i], gcm.β)\n",
    "        rsstotal += abs2(norm(gcm.data[i].res))  # needed for updating τ in normal case\n",
    "        standardize_res!(gcm.data[i])            # standardize the residuals GLM variance(μ)\n",
    "        GLMCopula.update_quadform!(gcm.data[i]) # with standardized residuals\n",
    "        gcm.QF[i, :] = gcm.data[i].q\n",
    "    end\n",
    "    mul!(gcm.storage_n, gcm.QF, gcm.Σ)\n",
    "    gcm.storage_n .= inv.(1 .+ gcm.storage_n)\n",
    "    \n",
    "    mul!(gcm.storage_n2, gcm.TR, gcm.Σ)\n",
    "    gcm.storage_n2 .= inv.(1 .+ gcm.storage_n2) \n",
    "\n",
    "    @inbounds for i in eachindex(gcm.data)\n",
    "        mul!(gcm.data[i].∇Σ1, gcm.storage_n[i], gcm.QF[i, :])\n",
    "        mul!(gcm.data[i].∇Σ2, gcm.storage_n2[i], gcm.TR[i, :])\n",
    "        gcm.data[i].∇Σ2 .*= -one(T)\n",
    "        gcm.data[i].∇Σ .= gcm.data[i].∇Σ1 .+ gcm.data[i].∇Σ2\n",
    "        gcm.∇Σ .+= gcm.data[i].∇Σ\n",
    "        \n",
    "        # hessian\n",
    "        gcm.data[i].HΣ1 .= -gcm.data[i].∇Σ1 * gcm.storage_n[i] * transpose(gcm.QF[i, :])\n",
    "        gcm.data[i].HΣ2 .= -gcm.data[i].∇Σ2 * gcm.storage_n2[i] * transpose(gcm.TR[i, :])\n",
    "        gcm.data[i].HΣ .= gcm.data[i].HΣ1 .+ gcm.data[i].HΣ2\n",
    "        gcm.HΣ1 .+= gcm.data[i].HΣ1\n",
    "        gcm.HΣ2 .+= gcm.data[i].HΣ2\n",
    "        gcm.HΣ .+= gcm.data[i].HΣ\n",
    "    end\n",
    "    return gcm.HΣ\n",
    "end\n",
    "\n",
    "totalhessian = update_Σ_newton2!(gcm) \n",
    "@show totalhessian\n",
    "@show gcm.data[1].HΣ1\n",
    "@show gcm.data[1].HΣ2\n",
    "@show gcm.data[1].HΣ;"
   ]
  },
  {
   "cell_type": "code",
   "execution_count": 26,
   "metadata": {},
   "outputs": [
    {
     "data": {
      "text/plain": [
       "\u001b[32m\u001b[1mTest Passed\u001b[22m\u001b[39m"
      ]
     },
     "execution_count": 26,
     "metadata": {},
     "output_type": "execute_result"
    }
   ],
   "source": [
    "@test gcm.data[1].HΣ1 == hessian_term1"
   ]
  },
  {
   "cell_type": "code",
   "execution_count": 27,
   "metadata": {},
   "outputs": [
    {
     "data": {
      "text/plain": [
       "\u001b[32m\u001b[1mTest Passed\u001b[22m\u001b[39m"
      ]
     },
     "execution_count": 27,
     "metadata": {},
     "output_type": "execute_result"
    }
   ],
   "source": [
    "@test gcm.data[1].HΣ2 ≈ hessian_term2"
   ]
  },
  {
   "cell_type": "code",
   "execution_count": 28,
   "metadata": {},
   "outputs": [
    {
     "data": {
      "text/plain": [
       "\u001b[32m\u001b[1mTest Passed\u001b[22m\u001b[39m"
      ]
     },
     "execution_count": 28,
     "metadata": {},
     "output_type": "execute_result"
    }
   ],
   "source": [
    "@test gcm.data[1].HΣ ≈ hessian"
   ]
  },
  {
   "cell_type": "code",
   "execution_count": 29,
   "metadata": {},
   "outputs": [
    {
     "data": {
      "text/plain": [
       "2×2 Array{Float64,2}:\n",
       "   -7.41667  -510.671\n",
       " -510.671      -3.5882e5"
      ]
     },
     "execution_count": 29,
     "metadata": {},
     "output_type": "execute_result"
    }
   ],
   "source": [
    "# we need to sum over i for the first gradient term\n",
    "\n",
    "hterm1_n = zeros(m, m)\n",
    "for i in 1:length(gcm.data)\n",
    "    hterm1_n += -gcm.data[i].∇Σ1 * gcm.storage_n[i] * transpose(gcm.QF[i, :])\n",
    "end\n",
    "\n",
    "hterm1_n"
   ]
  },
  {
   "cell_type": "code",
   "execution_count": 30,
   "metadata": {},
   "outputs": [
    {
     "data": {
      "text/plain": [
       "2×2 Array{Float64,2}:\n",
       " 3.7577  3.7577\n",
       " 3.7577  3.7577"
      ]
     },
     "execution_count": 30,
     "metadata": {},
     "output_type": "execute_result"
    }
   ],
   "source": [
    "# we need to sum over i for the second gradient term\n",
    "\n",
    "hterm2_n = zeros(m, m)\n",
    "for i in 1:length(gcm.data)\n",
    "    hterm2_n += -gcm.data[i].∇Σ2 * gcm.storage_n2[i] * transpose(gcm.TR[i, :])\n",
    "end\n",
    "\n",
    "hterm2_n"
   ]
  },
  {
   "cell_type": "code",
   "execution_count": 31,
   "metadata": {},
   "outputs": [
    {
     "data": {
      "text/plain": [
       "\u001b[32m\u001b[1mTest Passed\u001b[22m\u001b[39m"
      ]
     },
     "execution_count": 31,
     "metadata": {},
     "output_type": "execute_result"
    }
   ],
   "source": [
    "@test gcm.HΣ1 == hterm1_n\n",
    "@test gcm.HΣ2 == hterm2_n\n",
    "@test gcm.HΣ ≈ hterm1_n + hterm2_n"
   ]
  },
  {
   "cell_type": "code",
   "execution_count": 32,
   "metadata": {},
   "outputs": [
    {
     "name": "stdout",
     "output_type": "stream",
     "text": [
      "gcm.β = [1527.4999999999998]\n",
      "gcm.τ = [0.000331645019946949]\n",
      "gcm.Σ = [0.8636138778492553, 1.842649569420672e-9]\n"
     ]
    },
    {
     "data": {
      "text/plain": [
       "2×2 Array{Float64,2}:\n",
       "   -3.65897  -506.914\n",
       " -506.914      -3.58817e5"
      ]
     },
     "execution_count": 32,
     "metadata": {},
     "output_type": "execute_result"
    }
   ],
   "source": [
    "gcm = GLMCopulaVCModel(gcs);\n",
    "# initialize β and τ from least square solution\n",
    "initialize_model!(gcm);\n",
    "#gcm.β .= [1527.4999999999998]\n",
    "@show gcm.β\n",
    "# update σ2 and τ from β using the MM algorithm\n",
    "fill!(gcm.Σ, 1)\n",
    "# update_Σ!(gcm, 500, 1e-6, GurobiSolver(OutputFlag=0), true)\n",
    "update_Σ!(gcm)\n",
    "@show gcm.τ\n",
    "@show gcm.Σ;\n",
    "\n",
    "\"\"\"\n",
    "update_∇Σ_HΣ!(gcm)\n",
    "\n",
    "Update Σ gradient and Hessian for Newton's Algorithm, given β.\n",
    "\"\"\"\n",
    "function update_∇Σ_HΣ!(\n",
    "    gcm::GLMCopulaVCModel{T, D, Link}) where {T <: BlasReal, D, Link}\n",
    "    rsstotal = zero(T)\n",
    "    fill!(gcm.∇Σ, 0.0)\n",
    "    fill!(gcm.HΣ, 0.0)\n",
    "    @inbounds for i in eachindex(gcm.data)\n",
    "        update_res!(gcm.data[i], gcm.β)\n",
    "        rsstotal += abs2(norm(gcm.data[i].res))  # needed for updating τ in normal case\n",
    "        standardize_res!(gcm.data[i])            # standardize the residuals GLM variance(μ)\n",
    "        GLMCopula.update_quadform!(gcm.data[i]) # with standardized residuals\n",
    "        gcm.QF[i, :] = gcm.data[i].q\n",
    "    end\n",
    "    mul!(gcm.storage_n, gcm.QF, gcm.Σ)\n",
    "    gcm.storage_n .= inv.(1 .+ gcm.storage_n)\n",
    "    \n",
    "    mul!(gcm.storage_n2, gcm.TR, gcm.Σ)\n",
    "    gcm.storage_n2 .= inv.(1 .+ gcm.storage_n2)\n",
    "    \n",
    "    mul!(gcm.∇Σ1, transpose(gcm.QF), gcm.storage_n)\n",
    "    mul!(gcm.∇Σ2, transpose(gcm.TR), gcm.storage_n2)\n",
    "    gcm.∇Σ2 .*= -one(T)\n",
    "    \n",
    "    gcm.∇Σ .+= gcm.∇Σ1\n",
    "    gcm.∇Σ .+= gcm.∇Σ2\n",
    "    \n",
    "    # hessian\n",
    "    gcm.diagonal_n .= Diagonal(gcm.storage_n)\n",
    "    mul!(gcm.hess1, transpose(gcm.QF), gcm.diagonal_n)\n",
    "    \n",
    "    mul!(gcm.HΣ1, gcm.hess1, transpose(gcm.hess1))\n",
    "    gcm.HΣ1 .*= -one(T)\n",
    "    \n",
    "    gcm.diagonal_n .= Diagonal(gcm.storage_n2)\n",
    "    mul!(gcm.hess2, transpose(gcm.TR), gcm.diagonal_n)\n",
    "    mul!(gcm.HΣ2, gcm.hess2, transpose(gcm.hess2))\n",
    "    gcm.HΣ .+= gcm.HΣ1\n",
    "    gcm.HΣ .+= gcm.HΣ2\n",
    "end\n",
    "\n",
    "update_∇Σ_HΣ!(gcm)"
   ]
  },
  {
   "cell_type": "code",
   "execution_count": 33,
   "metadata": {},
   "outputs": [
    {
     "data": {
      "text/plain": [
       "\u001b[32m\u001b[1mTest Passed\u001b[22m\u001b[39m"
      ]
     },
     "execution_count": 33,
     "metadata": {},
     "output_type": "execute_result"
    }
   ],
   "source": [
    "# make sure gradient is still right\n",
    "@test gcm.∇Σ1 == term1_n\n",
    "@test gcm.∇Σ2 ≈ term2_n\n",
    "@test gcm.∇Σ ≈ term1_n + term2_n"
   ]
  },
  {
   "cell_type": "code",
   "execution_count": 34,
   "metadata": {},
   "outputs": [
    {
     "data": {
      "text/plain": [
       "\u001b[32m\u001b[1mTest Passed\u001b[22m\u001b[39m"
      ]
     },
     "execution_count": 34,
     "metadata": {},
     "output_type": "execute_result"
    }
   ],
   "source": [
    "@test gcm.HΣ1 == hterm1_n"
   ]
  },
  {
   "cell_type": "code",
   "execution_count": 35,
   "metadata": {},
   "outputs": [
    {
     "data": {
      "text/plain": [
       "\u001b[32m\u001b[1mTest Passed\u001b[22m\u001b[39m"
      ]
     },
     "execution_count": 35,
     "metadata": {},
     "output_type": "execute_result"
    }
   ],
   "source": [
    "@test gcm.HΣ2 == hterm2_n"
   ]
  },
  {
   "cell_type": "code",
   "execution_count": 36,
   "metadata": {},
   "outputs": [
    {
     "data": {
      "text/plain": [
       "\u001b[32m\u001b[1mTest Passed\u001b[22m\u001b[39m"
      ]
     },
     "execution_count": 36,
     "metadata": {},
     "output_type": "execute_result"
    }
   ],
   "source": [
    "@test gcm.HΣ ≈ hterm1_n + hterm2_n"
   ]
  },
  {
   "cell_type": "markdown",
   "metadata": {},
   "source": [
    "# benchmark the function with gradient and hessian"
   ]
  },
  {
   "cell_type": "code",
   "execution_count": 37,
   "metadata": {},
   "outputs": [
    {
     "data": {
      "text/plain": [
       "BenchmarkTools.Trial: \n",
       "  memory estimate:  0 bytes\n",
       "  allocs estimate:  0\n",
       "  --------------\n",
       "  minimum time:     2.433 μs (0.00% GC)\n",
       "  median time:      2.579 μs (0.00% GC)\n",
       "  mean time:        2.832 μs (0.00% GC)\n",
       "  maximum time:     16.330 μs (0.00% GC)\n",
       "  --------------\n",
       "  samples:          10000\n",
       "  evals/sample:     9"
      ]
     },
     "execution_count": 37,
     "metadata": {},
     "output_type": "execute_result"
    }
   ],
   "source": [
    "@benchmark update_∇Σ_HΣ!($gcm)"
   ]
  },
  {
   "cell_type": "code",
   "execution_count": null,
   "metadata": {},
   "outputs": [],
   "source": []
  }
 ],
 "metadata": {
  "@webio": {
   "lastCommId": null,
   "lastKernelId": null
  },
  "kernelspec": {
   "display_name": "Julia 1.5.2",
   "language": "julia",
   "name": "julia-1.5"
  },
  "language_info": {
   "file_extension": ".jl",
   "mimetype": "application/julia",
   "name": "julia",
   "version": "1.5.2"
  },
  "toc": {
   "base_numbering": 1,
   "nav_menu": {},
   "number_sections": true,
   "sideBar": true,
   "skip_h1_title": false,
   "title_cell": "Table of Contents",
   "title_sidebar": "Contents",
   "toc_cell": false,
   "toc_position": {},
   "toc_section_display": true,
   "toc_window_display": false
  }
 },
 "nbformat": 4,
 "nbformat_minor": 2
}
