{
 "cells": [
  {
   "cell_type": "markdown",
   "metadata": {},
   "source": [
    "# Bernoulli(p = 0.5) with CS rho = 0.9, sigma2 = 1.0\n",
    "\n",
    "For Bernoulli Base with $p = 0.5$, with the correlation $\\rho = 0.9, \\sigma^2 = 1.0,$  \n",
    "\n",
    "The theoretical correlation is a function of $d_i, \\rho, \\sigma^2, kt$\n",
    "\n",
    "$$Corr(Y_k, Y_l)\n",
    " = \\frac{\\rho * \\sigma^2}{1 + \\frac{1}{2} * \\sigma^2 * kt + \\frac{1}{2} * \\sigma^2 (d_i - 1)}$$\n",
    "\n",
    "We have $p = 0.5,$ thus we have kurtosis $kt = kt(p) = 1.$\n",
    "\n",
    "Let's see what happens to the theoretical/empirical correlation when we fix $\\rho = 0.9, \\sigma^2 = 1.0$ and range cluster sizes $d_i$\n",
    "\n",
    "$$Corr(Y_k, Y_l)\n",
    " = \\frac{0.9}{1 + \\frac{1}{2} * 1 + \\frac{1}{2} * (d_i - 1)} = \\frac{0.9}{1 + \\frac{d_i}{2}}$$\n",
    "\n",
    "\n",
    "# We will show: \n",
    "    1) Simulating under QC model, the theoretical and empirical correlation IS a function of cluster sizes di\n",
    "\n",
    "    2) Simulating under GLMM, the theoretical and empirical correlation is NOT function of cluster sizes di\n",
    "\n",
    "\n",
    "\n",
    "\n",
    "## TOC:\n",
    "\n",
    "# di = 2\n",
    "* [CS di = 2](#ex0)\n",
    "* [simulate under GLMM CS di = 2](#ex0g)\n",
    "\n",
    "# di = 5\n",
    "* [CS di = 5](#ex1)\n",
    "* [simulate under GLMM CS di = 5](#ex1g)\n",
    "\n",
    "# di = 10 \n",
    "* [CS di = 10](#ex2)\n",
    "* [simulate under GLMM CS di = 10](#ex2g)\n",
    "\n",
    "# di = 25\n",
    "* [CS di = 25](#ex3)\n",
    "* [simulate under GLMM CS di = 25](#ex3g)\n",
    "\n",
    "# Comparisons\n",
    "* [Theoretical vs. Empirical Correlation Simulated under QC](#ex4)\n",
    "* [Empirical Correlation Simulated under GLMM](#ex4g)"
   ]
  },
  {
   "cell_type": "code",
   "execution_count": 1,
   "metadata": {},
   "outputs": [],
   "source": [
    "using GLMCopula, DelimitedFiles, LinearAlgebra, Random, GLM, MixedModels, CategoricalArrays\n",
    "using Random, Roots, SpecialFunctions, StatsBase\n",
    "using DataFrames, DelimitedFiles, Statistics, ToeplitzMatrices\n",
    "import StatsBase: sem"
   ]
  },
  {
   "cell_type": "code",
   "execution_count": 2,
   "metadata": {},
   "outputs": [
    {
     "data": {
      "text/plain": [
       "get_V_CS (generic function with 1 method)"
      ]
     },
     "execution_count": 2,
     "metadata": {},
     "output_type": "execute_result"
    }
   ],
   "source": [
    "function get_V_CS(ρ, n)\n",
    "    vec = zeros(n)\n",
    "    vec[1] = 1.0\n",
    "    for i in 2:n\n",
    "        vec[i] = ρ\n",
    "    end\n",
    "    V = ToeplitzMatrices.SymmetricToeplitz(vec)\n",
    "    V\n",
    "end"
   ]
  },
  {
   "cell_type": "code",
   "execution_count": 3,
   "metadata": {},
   "outputs": [
    {
     "data": {
      "text/plain": [
       "Float64"
      ]
     },
     "execution_count": 3,
     "metadata": {},
     "output_type": "execute_result"
    }
   ],
   "source": [
    "# true parameter values\n",
    "p = [0.5]\n",
    "βtrue = [log(1.0)]\n",
    "σ2true = [1.0]\n",
    "ρtrue = [0.9]\n",
    "\n",
    "samplesize = 100000 # number of sampling units\n",
    "\n",
    "d = Bernoulli()\n",
    "link = LogitLink()\n",
    "D = typeof(d)\n",
    "Link = typeof(link)\n",
    "T = Float64"
   ]
  },
  {
   "cell_type": "markdown",
   "metadata": {},
   "source": [
    "# Kurtosis of each Bernoulli(0.5) base distribution is 1.0\n",
    "\n",
    "We have $p = 0.5,$ thus we have kurtosis $kt = kt(p) = 1.0.$\n",
    "\n",
    "Let's see what happens to the theoretical/empirical correlations when we fix $\\rho = 0.9, \\sigma^2 = 1.0, kt = 1.0$ and range cluster sizes $d_i$"
   ]
  },
  {
   "cell_type": "code",
   "execution_count": 4,
   "metadata": {},
   "outputs": [
    {
     "data": {
      "text/plain": [
       "(0.5, 0.25, 0.0, 1.0)"
      ]
     },
     "execution_count": 4,
     "metadata": {},
     "output_type": "execute_result"
    }
   ],
   "source": [
    "d = Bernoulli(p[1])\n",
    "μ, σ², sk, kt = mean(d), var(d), skewness(d), kurtosis(d, false)"
   ]
  },
  {
   "cell_type": "markdown",
   "metadata": {},
   "source": [
    "## CS di = 2 <a class=\"anchor\" id=\"ex0\"></a>\n",
    "\n",
    "$d_i = 2$\n",
    "\n",
    "$p = 0.5, \\rho = 0.9, \\sigma^2 = 1.0$"
   ]
  },
  {
   "cell_type": "code",
   "execution_count": 5,
   "metadata": {},
   "outputs": [
    {
     "data": {
      "text/plain": [
       "2×2 Matrix{Float64}:\n",
       " 1.0  0.9\n",
       " 0.9  1.0"
      ]
     },
     "execution_count": 5,
     "metadata": {},
     "output_type": "execute_result"
    }
   ],
   "source": [
    "di = 2 # number of observations per cluster\n",
    "V_CS = get_V_CS(ρtrue[1], di)\n",
    "\n",
    "# true Gamma\n",
    "Γ_CS = σ2true[1] * V_CS"
   ]
  },
  {
   "cell_type": "code",
   "execution_count": 6,
   "metadata": {},
   "outputs": [
    {
     "name": "stdout",
     "output_type": "stream",
     "text": [
      "  0.837941 seconds (5.52 M allocations: 360.511 MiB, 10.08% gc time, 66.66% compilation time)\n"
     ]
    },
    {
     "data": {
      "text/plain": [
       "2×2 Matrix{Float64}:\n",
       " 1.0       0.446784\n",
       " 0.446784  1.0"
      ]
     },
     "execution_count": 6,
     "metadata": {},
     "output_type": "execute_result"
    }
   ],
   "source": [
    "vecd = Vector{DiscreteUnivariateDistribution}(undef, di)\n",
    "for i in 1:di\n",
    "    vecd[i] = Bernoulli(p[1])\n",
    "end\n",
    "nonmixed_multivariate_dist = NonMixedMultivariateDistribution(vecd, Γ_CS)\n",
    "\n",
    "Random.seed!(12345)\n",
    "@time Y_nsample = simulate_nobs_independent_vectors(nonmixed_multivariate_dist, samplesize)\n",
    "\n",
    "gcs = Vector{GLMCopulaCSObs{T, D, Link}}(undef, samplesize)\n",
    "for i in 1:samplesize\n",
    "    X = ones(di, 1)\n",
    "    y = Float64.(Y_nsample[i])\n",
    "    V = [Float64.(Matrix(I, di, di))]\n",
    "    gcs[i] = GLMCopulaCSObs(y, X, d, link)\n",
    "end\n",
    "\n",
    "# form model\n",
    "gcm = GLMCopulaCSModel(gcs);\n",
    "\n",
    "N = length(gcm.data)\n",
    "di = length(gcm.data[1].y)\n",
    "Y_CS = zeros(N, di)\n",
    "for j in 1:di\n",
    "    Y_CS[:, j] = [gcm.data[i].y[j] for i in 1:N]\n",
    "end\n",
    "empirical_cor_2 = StatsBase.cor(Y_CS)"
   ]
  },
  {
   "cell_type": "code",
   "execution_count": 7,
   "metadata": {},
   "outputs": [
    {
     "data": {
      "text/plain": [
       "0.45"
      ]
     },
     "execution_count": 7,
     "metadata": {},
     "output_type": "execute_result"
    }
   ],
   "source": [
    "theoretical_rho_2_kurtosis = (ρtrue[1] * σ2true[1]) / (1 + ((di/2) * σ2true[1]) + (0.5 * (kt - 1) * σ2true[1]))"
   ]
  },
  {
   "cell_type": "code",
   "execution_count": 8,
   "metadata": {},
   "outputs": [
    {
     "data": {
      "text/plain": [
       "0.4467842937984511"
      ]
     },
     "execution_count": 8,
     "metadata": {},
     "output_type": "execute_result"
    }
   ],
   "source": [
    "mean_empirical_cor_2 = mean(GLMCopula.offdiag(empirical_cor_2))"
   ]
  },
  {
   "cell_type": "markdown",
   "metadata": {},
   "source": [
    "## simulate under GLMM CS di = 2 <a class=\"anchor\" id=\"ex0g\"></a>\n",
    "\n",
    "$d_i = 2$\n",
    "\n",
    "$\\lambda = 5, \\rho = 0.9, \\sigma^2 = 1.0$"
   ]
  },
  {
   "cell_type": "code",
   "execution_count": 9,
   "metadata": {},
   "outputs": [
    {
     "data": {
      "text/plain": [
       "2×2 Matrix{Float64}:\n",
       " 1.0       0.163437\n",
       " 0.163437  1.0"
      ]
     },
     "execution_count": 9,
     "metadata": {},
     "output_type": "execute_result"
    }
   ],
   "source": [
    "function __get_distribution(dist::Type{D}, μ) where D <: UnivariateDistribution\n",
    "    return dist(μ)\n",
    "end\n",
    "\n",
    "for i in 1:samplesize\n",
    "    X = ones(di, 1)\n",
    "    η = X * βtrue\n",
    "    # generate mvn response\n",
    "    mvn_d = MvNormal(η, Γ_CS)\n",
    "    mvn_η = rand(mvn_d)\n",
    "    μ = GLM.linkinv.(link, mvn_η)\n",
    "    y = Float64.(rand.(__get_distribution.(D, μ)))\n",
    "    gcs[i] = GLMCopulaCSObs(y, X, d, link)\n",
    "end\n",
    "\n",
    "# form model\n",
    "gcm = GLMCopulaCSModel(gcs);\n",
    "\n",
    "N = length(gcm.data)\n",
    "Y_CS = zeros(N, di)\n",
    "for j in 1:di\n",
    "    Y_CS[:, j] = [gcm.data[i].y[j] for i in 1:N]\n",
    "end\n",
    "empirical_cor_2_GLMM = StatsBase.cor(Y_CS)"
   ]
  },
  {
   "cell_type": "code",
   "execution_count": 10,
   "metadata": {},
   "outputs": [
    {
     "data": {
      "text/plain": [
       "0.16343678921893148"
      ]
     },
     "execution_count": 10,
     "metadata": {},
     "output_type": "execute_result"
    }
   ],
   "source": [
    "mean_empirical_cor_2_GLMM = mean(GLMCopula.offdiag(empirical_cor_2_GLMM))"
   ]
  },
  {
   "cell_type": "markdown",
   "metadata": {},
   "source": [
    "## CS di = 5 <a class=\"anchor\" id=\"ex1\"></a>\n",
    "\n",
    "$d_i = 5$\n",
    "\n",
    "$p = 0.5, \\rho = 0.9, \\sigma^2 = 1.0$"
   ]
  },
  {
   "cell_type": "code",
   "execution_count": 11,
   "metadata": {},
   "outputs": [
    {
     "data": {
      "text/plain": [
       "5×5 Matrix{Float64}:\n",
       " 1.0  0.9  0.9  0.9  0.9\n",
       " 0.9  1.0  0.9  0.9  0.9\n",
       " 0.9  0.9  1.0  0.9  0.9\n",
       " 0.9  0.9  0.9  1.0  0.9\n",
       " 0.9  0.9  0.9  0.9  1.0"
      ]
     },
     "execution_count": 11,
     "metadata": {},
     "output_type": "execute_result"
    }
   ],
   "source": [
    "di = 5 # number of observations per cluster\n",
    "V_CS = get_V_CS(ρtrue[1], di)\n",
    "\n",
    "# true Gamma\n",
    "Γ_CS = σ2true[1] * V_CS"
   ]
  },
  {
   "cell_type": "code",
   "execution_count": 12,
   "metadata": {},
   "outputs": [
    {
     "name": "stdout",
     "output_type": "stream",
     "text": [
      "  0.934538 seconds (8.50 M allocations: 651.550 MiB, 31.05% gc time)\n"
     ]
    },
    {
     "data": {
      "text/plain": [
       "5×5 Matrix{Float64}:\n",
       " 1.0       0.258186  0.254597  0.258721  0.250135\n",
       " 0.258186  1.0       0.256919  0.2537    0.257459\n",
       " 0.254597  0.256919  1.0       0.254902  0.256095\n",
       " 0.258721  0.2537    0.254902  1.0       0.257842\n",
       " 0.250135  0.257459  0.256095  0.257842  1.0"
      ]
     },
     "execution_count": 12,
     "metadata": {},
     "output_type": "execute_result"
    }
   ],
   "source": [
    "vecd = Vector{DiscreteUnivariateDistribution}(undef, di)\n",
    "for i in 1:di\n",
    "    vecd[i] = Bernoulli(p[1])\n",
    "end\n",
    "nonmixed_multivariate_dist = NonMixedMultivariateDistribution(vecd, Γ_CS)\n",
    "\n",
    "Random.seed!(12345)\n",
    "@time Y_nsample = simulate_nobs_independent_vectors(nonmixed_multivariate_dist, samplesize)\n",
    "\n",
    "gcs = Vector{GLMCopulaCSObs{T, D, Link}}(undef, samplesize)\n",
    "for i in 1:samplesize\n",
    "    X = ones(di, 1)\n",
    "    y = Float64.(Y_nsample[i])\n",
    "    V = [Float64.(Matrix(I, di, di))]\n",
    "    gcs[i] = GLMCopulaCSObs(y, X, d, link)\n",
    "end\n",
    "\n",
    "# form model\n",
    "gcm = GLMCopulaCSModel(gcs);\n",
    "\n",
    "N = length(gcm.data)\n",
    "di = length(gcm.data[1].y)\n",
    "Y_CS = zeros(N, di)\n",
    "for j in 1:di\n",
    "    Y_CS[:, j] = [gcm.data[i].y[j] for i in 1:N]\n",
    "end\n",
    "empirical_cor_5 = StatsBase.cor(Y_CS)"
   ]
  },
  {
   "cell_type": "code",
   "execution_count": 13,
   "metadata": {},
   "outputs": [
    {
     "data": {
      "text/plain": [
       "0.2571428571428572"
      ]
     },
     "execution_count": 13,
     "metadata": {},
     "output_type": "execute_result"
    }
   ],
   "source": [
    "theoretical_rho_5_kurtosis = (ρtrue[1] * σ2true[1]) / (1 + ((di/2) * σ2true[1]) + (0.5 * (kt - 1) * σ2true[1]))"
   ]
  },
  {
   "cell_type": "code",
   "execution_count": 14,
   "metadata": {},
   "outputs": [
    {
     "data": {
      "text/plain": [
       "0.25585568847847295"
      ]
     },
     "execution_count": 14,
     "metadata": {},
     "output_type": "execute_result"
    }
   ],
   "source": [
    "mean_empirical_cor_5 = mean(GLMCopula.offdiag(empirical_cor_5))"
   ]
  },
  {
   "cell_type": "markdown",
   "metadata": {},
   "source": [
    "## simulate under GLMM CS di = 5 <a class=\"anchor\" id=\"ex1g\"></a>\n",
    "\n",
    "$d_i = 5$\n",
    "\n",
    "$\\lambda = 5, \\rho = 0.9, \\sigma^2 = 1.0$"
   ]
  },
  {
   "cell_type": "code",
   "execution_count": 15,
   "metadata": {},
   "outputs": [
    {
     "data": {
      "text/plain": [
       "5×5 Matrix{Float64}:\n",
       " 1.0      0.15434   0.1588    0.14886   0.15482\n",
       " 0.15434  1.0       0.155104  0.153285  0.158922\n",
       " 0.1588   0.155104  1.0       0.15193   0.151655\n",
       " 0.14886  0.153285  0.15193   1.0       0.151914\n",
       " 0.15482  0.158922  0.151655  0.151914  1.0"
      ]
     },
     "execution_count": 15,
     "metadata": {},
     "output_type": "execute_result"
    }
   ],
   "source": [
    "for i in 1:samplesize\n",
    "    X = ones(di, 1)\n",
    "    η = X * βtrue\n",
    "    # generate mvn response\n",
    "    mvn_d = MvNormal(η, Γ_CS)\n",
    "    mvn_η = rand(mvn_d)\n",
    "    μ = GLM.linkinv.(link, mvn_η)\n",
    "    y = Float64.(rand.(__get_distribution.(D, μ)))\n",
    "    gcs[i] = GLMCopulaCSObs(y, X, d, link)\n",
    "end\n",
    "\n",
    "# form model\n",
    "gcm = GLMCopulaCSModel(gcs);\n",
    "\n",
    "N = length(gcm.data)\n",
    "Y_CS = zeros(N, di)\n",
    "for j in 1:di\n",
    "    Y_CS[:, j] = [gcm.data[i].y[j] for i in 1:N]\n",
    "end\n",
    "empirical_cor_5_GLMM = StatsBase.cor(Y_CS)"
   ]
  },
  {
   "cell_type": "code",
   "execution_count": 16,
   "metadata": {},
   "outputs": [
    {
     "data": {
      "text/plain": [
       "0.15396313253845206"
      ]
     },
     "execution_count": 16,
     "metadata": {},
     "output_type": "execute_result"
    }
   ],
   "source": [
    "mean_empirical_cor_5_GLMM = mean(GLMCopula.offdiag(empirical_cor_5_GLMM))"
   ]
  },
  {
   "cell_type": "markdown",
   "metadata": {},
   "source": [
    "## CS di = 10 <a class=\"anchor\" id=\"ex2\"></a>\n",
    "\n",
    "$d_i = 10$\n",
    "\n",
    "$p = 0.5, \\rho = 0.9, \\sigma^2 = 1.0$"
   ]
  },
  {
   "cell_type": "code",
   "execution_count": 17,
   "metadata": {},
   "outputs": [
    {
     "data": {
      "text/plain": [
       "10×10 Matrix{Float64}:\n",
       " 1.0  0.9  0.9  0.9  0.9  0.9  0.9  0.9  0.9  0.9\n",
       " 0.9  1.0  0.9  0.9  0.9  0.9  0.9  0.9  0.9  0.9\n",
       " 0.9  0.9  1.0  0.9  0.9  0.9  0.9  0.9  0.9  0.9\n",
       " 0.9  0.9  0.9  1.0  0.9  0.9  0.9  0.9  0.9  0.9\n",
       " 0.9  0.9  0.9  0.9  1.0  0.9  0.9  0.9  0.9  0.9\n",
       " 0.9  0.9  0.9  0.9  0.9  1.0  0.9  0.9  0.9  0.9\n",
       " 0.9  0.9  0.9  0.9  0.9  0.9  1.0  0.9  0.9  0.9\n",
       " 0.9  0.9  0.9  0.9  0.9  0.9  0.9  1.0  0.9  0.9\n",
       " 0.9  0.9  0.9  0.9  0.9  0.9  0.9  0.9  1.0  0.9\n",
       " 0.9  0.9  0.9  0.9  0.9  0.9  0.9  0.9  0.9  1.0"
      ]
     },
     "execution_count": 17,
     "metadata": {},
     "output_type": "execute_result"
    }
   ],
   "source": [
    "di = 10 # number of observations per cluster\n",
    "V_CS = get_V_CS(ρtrue[1], di)\n",
    "\n",
    "# true Gamma\n",
    "Γ_CS = σ2true[1] * V_CS"
   ]
  },
  {
   "cell_type": "code",
   "execution_count": 18,
   "metadata": {},
   "outputs": [
    {
     "name": "stdout",
     "output_type": "stream",
     "text": [
      "  2.550523 seconds (16.50 M allocations: 1.691 GiB, 44.33% gc time)\n"
     ]
    },
    {
     "data": {
      "text/plain": [
       "10×10 Matrix{Float64}:\n",
       " 1.0       0.149147  0.147695  0.150449  …  0.152096  0.145724  0.153344\n",
       " 0.149147  1.0       0.155174  0.149649     0.148683  0.145699  0.148599\n",
       " 0.147695  0.155174  1.0       0.152998     0.149787  0.151998  0.154418\n",
       " 0.150449  0.149649  0.152998  1.0          0.147116  0.150745  0.154045\n",
       " 0.144407  0.154657  0.147994  0.149709     0.144703  0.146199  0.149659\n",
       " 0.143604  0.147694  0.146687  0.14942   …  0.146474  0.149268  0.152408\n",
       " 0.147018  0.153922  0.158544  0.153598     0.152639  0.151621  0.156001\n",
       " 0.152096  0.148683  0.149787  0.147116     1.0       0.145982  0.147921\n",
       " 0.145724  0.145699  0.151998  0.150745     0.145982  1.0       0.148779\n",
       " 0.153344  0.148599  0.154418  0.154045     0.147921  0.148779  1.0"
      ]
     },
     "execution_count": 18,
     "metadata": {},
     "output_type": "execute_result"
    }
   ],
   "source": [
    "vecd = Vector{DiscreteUnivariateDistribution}(undef, di)\n",
    "for i in 1:di\n",
    "    vecd[i] = Bernoulli(p[1])\n",
    "end\n",
    "nonmixed_multivariate_dist = NonMixedMultivariateDistribution(vecd, Γ_CS)\n",
    "\n",
    "Random.seed!(1234)\n",
    "@time Y_nsample = simulate_nobs_independent_vectors(nonmixed_multivariate_dist, samplesize)\n",
    "\n",
    "gcs = Vector{GLMCopulaCSObs{T, D, Link}}(undef, samplesize)\n",
    "for i in 1:samplesize\n",
    "    X = ones(di, 1)\n",
    "    y = Float64.(Y_nsample[i])\n",
    "    V = [Float64.(Matrix(I, di, di))]\n",
    "    gcs[i] = GLMCopulaCSObs(y, X, d, link)\n",
    "end\n",
    "\n",
    "# form model\n",
    "gcm = GLMCopulaCSModel(gcs);\n",
    "\n",
    "N = length(gcm.data)\n",
    "di = length(gcm.data[1].y)\n",
    "Y_CS = zeros(N, di)\n",
    "for j in 1:di\n",
    "    Y_CS[:, j] = [gcm.data[i].y[j] for i in 1:N]\n",
    "end\n",
    "empirical_cor_10 = StatsBase.cor(Y_CS)"
   ]
  },
  {
   "cell_type": "code",
   "execution_count": 19,
   "metadata": {},
   "outputs": [
    {
     "data": {
      "text/plain": [
       "0.15"
      ]
     },
     "execution_count": 19,
     "metadata": {},
     "output_type": "execute_result"
    }
   ],
   "source": [
    "theoretical_rho_10_kurtosis = (ρtrue[1] * σ2true[1]) / (1 + ((di/2) * σ2true[1]) + (0.5 * (kt - 1) * σ2true[1]))"
   ]
  },
  {
   "cell_type": "code",
   "execution_count": 20,
   "metadata": {},
   "outputs": [
    {
     "data": {
      "text/plain": [
       "0.1500729994570417"
      ]
     },
     "execution_count": 20,
     "metadata": {},
     "output_type": "execute_result"
    }
   ],
   "source": [
    "mean_empirical_cor_10 = mean(GLMCopula.offdiag(empirical_cor_10))"
   ]
  },
  {
   "cell_type": "markdown",
   "metadata": {},
   "source": [
    "## simulate under GLMM CS di = 10 <a class=\"anchor\" id=\"ex2g\"></a>\n",
    "\n",
    "$d_i = 10$\n",
    "\n",
    "$\\lambda = 5, \\rho = 0.9, \\sigma^2 = 1.0$"
   ]
  },
  {
   "cell_type": "code",
   "execution_count": 21,
   "metadata": {},
   "outputs": [
    {
     "data": {
      "text/plain": [
       "10×10 Matrix{Float64}:\n",
       " 1.0       0.149764  0.150673  0.154224  …  0.155914  0.154378  0.158806\n",
       " 0.149764  1.0       0.151921  0.149119     0.152386  0.15302   0.15918\n",
       " 0.150673  0.151921  1.0       0.15209      0.154892  0.154996  0.15611\n",
       " 0.154224  0.149119  0.15209   1.0          0.155853  0.151676  0.152803\n",
       " 0.152452  0.159039  0.153844  0.153233     0.152477  0.15257   0.157533\n",
       " 0.157994  0.155321  0.155877  0.158489  …  0.152812  0.150516  0.14927\n",
       " 0.157974  0.150719  0.156005  0.153472     0.159119  0.152728  0.152051\n",
       " 0.155914  0.152386  0.154892  0.155853     1.0       0.151371  0.153356\n",
       " 0.154378  0.15302   0.154996  0.151676     0.151371  1.0       0.154374\n",
       " 0.158806  0.15918   0.15611   0.152803     0.153356  0.154374  1.0"
      ]
     },
     "execution_count": 21,
     "metadata": {},
     "output_type": "execute_result"
    }
   ],
   "source": [
    "for i in 1:samplesize\n",
    "    X = ones(di, 1)\n",
    "    η = X * βtrue\n",
    "    # generate mvn response\n",
    "    mvn_d = MvNormal(η, Γ_CS)\n",
    "    mvn_η = rand(mvn_d)\n",
    "    μ = GLM.linkinv.(link, mvn_η)\n",
    "    y = Float64.(rand.(__get_distribution.(D, μ)))\n",
    "    gcs[i] = GLMCopulaCSObs(y, X, d, link)\n",
    "end\n",
    "\n",
    "# form model\n",
    "gcm = GLMCopulaCSModel(gcs);\n",
    "\n",
    "N = length(gcm.data)\n",
    "Y_CS = zeros(N, di)\n",
    "for j in 1:di\n",
    "    Y_CS[:, j] = [gcm.data[i].y[j] for i in 1:N]\n",
    "end\n",
    "empirical_cor_10_GLMM = StatsBase.cor(Y_CS)"
   ]
  },
  {
   "cell_type": "code",
   "execution_count": 22,
   "metadata": {},
   "outputs": [
    {
     "data": {
      "text/plain": [
       "0.15404187675007466"
      ]
     },
     "execution_count": 22,
     "metadata": {},
     "output_type": "execute_result"
    }
   ],
   "source": [
    "mean_empirical_cor_10_GLMM = mean(GLMCopula.offdiag(empirical_cor_10_GLMM))"
   ]
  },
  {
   "cell_type": "markdown",
   "metadata": {},
   "source": [
    "## CS di = 25 <a class=\"anchor\" id=\"ex3\"></a>\n",
    "\n",
    "$d_i = 25$\n",
    "\n",
    "$p = 0.5, \\rho = 0.9, \\sigma^2 = 1.0$"
   ]
  },
  {
   "cell_type": "code",
   "execution_count": 23,
   "metadata": {},
   "outputs": [
    {
     "data": {
      "text/plain": [
       "25×25 Matrix{Float64}:\n",
       " 1.0  0.9  0.9  0.9  0.9  0.9  0.9  0.9  …  0.9  0.9  0.9  0.9  0.9  0.9  0.9\n",
       " 0.9  1.0  0.9  0.9  0.9  0.9  0.9  0.9     0.9  0.9  0.9  0.9  0.9  0.9  0.9\n",
       " 0.9  0.9  1.0  0.9  0.9  0.9  0.9  0.9     0.9  0.9  0.9  0.9  0.9  0.9  0.9\n",
       " 0.9  0.9  0.9  1.0  0.9  0.9  0.9  0.9     0.9  0.9  0.9  0.9  0.9  0.9  0.9\n",
       " 0.9  0.9  0.9  0.9  1.0  0.9  0.9  0.9     0.9  0.9  0.9  0.9  0.9  0.9  0.9\n",
       " 0.9  0.9  0.9  0.9  0.9  1.0  0.9  0.9  …  0.9  0.9  0.9  0.9  0.9  0.9  0.9\n",
       " 0.9  0.9  0.9  0.9  0.9  0.9  1.0  0.9     0.9  0.9  0.9  0.9  0.9  0.9  0.9\n",
       " 0.9  0.9  0.9  0.9  0.9  0.9  0.9  1.0     0.9  0.9  0.9  0.9  0.9  0.9  0.9\n",
       " 0.9  0.9  0.9  0.9  0.9  0.9  0.9  0.9     0.9  0.9  0.9  0.9  0.9  0.9  0.9\n",
       " 0.9  0.9  0.9  0.9  0.9  0.9  0.9  0.9     0.9  0.9  0.9  0.9  0.9  0.9  0.9\n",
       " 0.9  0.9  0.9  0.9  0.9  0.9  0.9  0.9  …  0.9  0.9  0.9  0.9  0.9  0.9  0.9\n",
       " 0.9  0.9  0.9  0.9  0.9  0.9  0.9  0.9     0.9  0.9  0.9  0.9  0.9  0.9  0.9\n",
       " 0.9  0.9  0.9  0.9  0.9  0.9  0.9  0.9     0.9  0.9  0.9  0.9  0.9  0.9  0.9\n",
       " 0.9  0.9  0.9  0.9  0.9  0.9  0.9  0.9     0.9  0.9  0.9  0.9  0.9  0.9  0.9\n",
       " 0.9  0.9  0.9  0.9  0.9  0.9  0.9  0.9     0.9  0.9  0.9  0.9  0.9  0.9  0.9\n",
       " 0.9  0.9  0.9  0.9  0.9  0.9  0.9  0.9  …  0.9  0.9  0.9  0.9  0.9  0.9  0.9\n",
       " 0.9  0.9  0.9  0.9  0.9  0.9  0.9  0.9     0.9  0.9  0.9  0.9  0.9  0.9  0.9\n",
       " 0.9  0.9  0.9  0.9  0.9  0.9  0.9  0.9     0.9  0.9  0.9  0.9  0.9  0.9  0.9\n",
       " 0.9  0.9  0.9  0.9  0.9  0.9  0.9  0.9     1.0  0.9  0.9  0.9  0.9  0.9  0.9\n",
       " 0.9  0.9  0.9  0.9  0.9  0.9  0.9  0.9     0.9  1.0  0.9  0.9  0.9  0.9  0.9\n",
       " 0.9  0.9  0.9  0.9  0.9  0.9  0.9  0.9  …  0.9  0.9  1.0  0.9  0.9  0.9  0.9\n",
       " 0.9  0.9  0.9  0.9  0.9  0.9  0.9  0.9     0.9  0.9  0.9  1.0  0.9  0.9  0.9\n",
       " 0.9  0.9  0.9  0.9  0.9  0.9  0.9  0.9     0.9  0.9  0.9  0.9  1.0  0.9  0.9\n",
       " 0.9  0.9  0.9  0.9  0.9  0.9  0.9  0.9     0.9  0.9  0.9  0.9  0.9  1.0  0.9\n",
       " 0.9  0.9  0.9  0.9  0.9  0.9  0.9  0.9     0.9  0.9  0.9  0.9  0.9  0.9  1.0"
      ]
     },
     "execution_count": 23,
     "metadata": {},
     "output_type": "execute_result"
    }
   ],
   "source": [
    "di = 25 # number of observations per cluster\n",
    "V_CS = get_V_CS(ρtrue[1], di)\n",
    "\n",
    "# true Gamma\n",
    "Γ_CS = σ2true[1] * V_CS"
   ]
  },
  {
   "cell_type": "code",
   "execution_count": 24,
   "metadata": {},
   "outputs": [
    {
     "name": "stdout",
     "output_type": "stream",
     "text": [
      "  8.440451 seconds (40.50 M allocations: 11.326 GiB, 28.20% gc time)\n"
     ]
    },
    {
     "data": {
      "text/plain": [
       "25×25 Matrix{Float64}:\n",
       " 1.0        0.0641161  0.0624908  …  0.0686719  0.0621779  0.0646885\n",
       " 0.0641161  1.0        0.0712733     0.0722922  0.0660648  0.0632414\n",
       " 0.0624908  0.0712733  1.0           0.066537   0.0657191  0.0622896\n",
       " 0.0658242  0.0675776  0.0716813     0.0689011  0.0645604  0.065305\n",
       " 0.068169   0.0700323  0.0714229     0.0629226  0.0655409  0.0629704\n",
       " 0.0667056  0.0635742  0.062509   …  0.0655682  0.0696232  0.0649494\n",
       " 0.0612348  0.0690485  0.063898      0.0692782  0.0659394  0.0620341\n",
       " 0.0691603  0.0684422  0.0620998     0.0678799  0.0680999  0.0613603\n",
       " 0.0679979  0.069205   0.067979      0.0693591  0.0659797  0.0689977\n",
       " 0.0739359  0.0678674  0.0703984     0.0704985  0.0715595  0.0724955\n",
       " 0.0720895  0.0678318  0.0701831  …  0.0676028  0.067061   0.0635309\n",
       " 0.0629031  0.0698589  0.0616009     0.0665408  0.0679202  0.0706639\n",
       " 0.0690699  0.0654998  0.0698302     0.0678112  0.0632378  0.0699455\n",
       " 0.0670348  0.0717286  0.069498      0.0667182  0.0639794  0.0656742\n",
       " 0.0638035  0.0664022  0.0711143     0.0696549  0.0665185  0.0635212\n",
       " 0.0674362  0.0646442  0.0701656  …  0.068065   0.0696018  0.0686388\n",
       " 0.0697964  0.0736515  0.0703521     0.0702529  0.0642381  0.0641128\n",
       " 0.0657975  0.0717229  0.060006      0.0688255  0.069482   0.0605601\n",
       " 0.0658932  0.0656754  0.0653311     0.066112   0.068618   0.0647692\n",
       " 0.0654022  0.07088    0.0696605     0.0738005  0.0622201  0.0644426\n",
       " 0.0620294  0.0687703  0.0611505  …  0.0636496  0.0669837  0.0735941\n",
       " 0.0612047  0.0670769  0.0677815     0.0650813  0.0659804  0.0686857\n",
       " 0.0686719  0.0722922  0.066537      1.0        0.0647392  0.0629907\n",
       " 0.0621779  0.0660648  0.0657191     0.0647392  1.0        0.0625377\n",
       " 0.0646885  0.0632414  0.0622896     0.0629907  0.0625377  1.0"
      ]
     },
     "execution_count": 24,
     "metadata": {},
     "output_type": "execute_result"
    }
   ],
   "source": [
    "vecd = Vector{DiscreteUnivariateDistribution}(undef, di)\n",
    "for i in 1:di\n",
    "    vecd[i] = Bernoulli(p[1])\n",
    "end\n",
    "nonmixed_multivariate_dist = NonMixedMultivariateDistribution(vecd, Γ_CS)\n",
    "\n",
    "Random.seed!(1234)\n",
    "@time Y_nsample = simulate_nobs_independent_vectors(nonmixed_multivariate_dist, samplesize)\n",
    "\n",
    "gcs = Vector{GLMCopulaCSObs{T, D, Link}}(undef, samplesize)\n",
    "for i in 1:samplesize\n",
    "    X = ones(di, 1)\n",
    "    y = Float64.(Y_nsample[i])\n",
    "    V = [Float64.(Matrix(I, di, di))]\n",
    "    gcs[i] = GLMCopulaCSObs(y, X, d, link)\n",
    "end\n",
    "\n",
    "# form model\n",
    "gcm = GLMCopulaCSModel(gcs);\n",
    "\n",
    "N = length(gcm.data)\n",
    "di = length(gcm.data[1].y)\n",
    "Y_CS = zeros(N, di)\n",
    "for j in 1:di\n",
    "    Y_CS[:, j] = [gcm.data[i].y[j] for i in 1:N]\n",
    "end\n",
    "empirical_cor_25 = StatsBase.cor(Y_CS)"
   ]
  },
  {
   "cell_type": "code",
   "execution_count": 25,
   "metadata": {},
   "outputs": [
    {
     "data": {
      "text/plain": [
       "0.06666666666666667"
      ]
     },
     "execution_count": 25,
     "metadata": {},
     "output_type": "execute_result"
    }
   ],
   "source": [
    "theoretical_rho_25_kurtosis = (ρtrue[1] * σ2true[1]) / (1 + ((di/2) * σ2true[1]) + (0.5 * (kt - 1) * σ2true[1]))"
   ]
  },
  {
   "cell_type": "code",
   "execution_count": 26,
   "metadata": {},
   "outputs": [
    {
     "data": {
      "text/plain": [
       "0.06726269843459454"
      ]
     },
     "execution_count": 26,
     "metadata": {},
     "output_type": "execute_result"
    }
   ],
   "source": [
    "mean_empirical_cor_25 = mean(GLMCopula.offdiag(empirical_cor_25))"
   ]
  },
  {
   "cell_type": "markdown",
   "metadata": {},
   "source": [
    "## simulate under GLMM CS di = 25 <a class=\"anchor\" id=\"ex3g\"></a>\n",
    "\n",
    "$d_i = 25$\n",
    "\n",
    "$p = 0.5, \\rho = 0.9, \\sigma^2 = 1.0$"
   ]
  },
  {
   "cell_type": "code",
   "execution_count": 27,
   "metadata": {},
   "outputs": [
    {
     "data": {
      "text/plain": [
       "25×25 Matrix{Float64}:\n",
       " 1.0       0.15568   0.1569    0.153718  …  0.153319  0.156479  0.155419\n",
       " 0.15568   1.0       0.15846   0.156402     0.156321  0.156241  0.156621\n",
       " 0.1569    0.15846   1.0       0.160542     0.1529    0.15562   0.15628\n",
       " 0.153718  0.156402  0.160542  1.0          0.157031  0.160671  0.158372\n",
       " 0.153802  0.15924   0.15654   0.155891     0.153685  0.159725  0.159705\n",
       " 0.150098  0.154901  0.159521  0.155528  …  0.151934  0.154694  0.154115\n",
       " 0.152159  0.15048   0.15658   0.154595     0.151477  0.158597  0.156018\n",
       " 0.161759  0.1566    0.1557    0.160274     0.155837  0.156077  0.156337\n",
       " 0.156741  0.15458   0.15892   0.159626     0.156663  0.152863  0.152322\n",
       " 0.153539  0.1513    0.15628   0.158098     0.153619  0.146619  0.153439\n",
       " 0.157181  0.16022   0.1566    0.154028  …  0.152663  0.154703  0.157203\n",
       " 0.158119  0.149204  0.156424  0.155971     0.152987  0.158027  0.156129\n",
       " 0.158399  0.15984   0.15698   0.166353     0.157836  0.156236  0.157696\n",
       " 0.152761  0.15016   0.15586   0.156725     0.149602  0.154362  0.157782\n",
       " 0.150478  0.152042  0.151382  0.159499     0.149311  0.15075   0.155852\n",
       " 0.156919  0.162285  0.158584  0.15629   …  0.154267  0.156467  0.161689\n",
       " 0.154539  0.1557    0.15924   0.155493     0.155536  0.150736  0.153157\n",
       " 0.15682   0.1537    0.15332   0.162263     0.155341  0.156541  0.153201\n",
       " 0.159618  0.149942  0.159601  0.158522     0.151132  0.154852  0.153313\n",
       " 0.157983  0.15426   0.156761  0.156077     0.152348  0.153548  0.153847\n",
       " 0.156179  0.15978   0.15464   0.158853  …  0.154096  0.153136  0.157797\n",
       " 0.158239  0.159001  0.15634   0.15579      0.156555  0.156035  0.153735\n",
       " 0.153319  0.156321  0.1529    0.157031     1.0       0.149675  0.156616\n",
       " 0.156479  0.156241  0.15562   0.160671     0.149675  1.0       0.151696\n",
       " 0.155419  0.156621  0.15628   0.158372     0.156616  0.151696  1.0"
      ]
     },
     "execution_count": 27,
     "metadata": {},
     "output_type": "execute_result"
    }
   ],
   "source": [
    "for i in 1:samplesize\n",
    "    X = ones(di, 1)\n",
    "    η = X * βtrue\n",
    "    # generate mvn response\n",
    "    mvn_d = MvNormal(η, Γ_CS)\n",
    "    mvn_η = rand(mvn_d)\n",
    "    μ = GLM.linkinv.(link, mvn_η)\n",
    "    y = Float64.(rand.(__get_distribution.(D, μ)))\n",
    "    gcs[i] = GLMCopulaCSObs(y, X, d, link)\n",
    "end\n",
    "\n",
    "# form model\n",
    "gcm = GLMCopulaCSModel(gcs);\n",
    "\n",
    "N = length(gcm.data)\n",
    "Y_CS = zeros(N, di)\n",
    "for j in 1:di\n",
    "    Y_CS[:, j] = [gcm.data[i].y[j] for i in 1:N]\n",
    "end\n",
    "empirical_cor_25_GLMM = StatsBase.cor(Y_CS)"
   ]
  },
  {
   "cell_type": "code",
   "execution_count": 28,
   "metadata": {},
   "outputs": [
    {
     "data": {
      "text/plain": [
       "0.15515390099002302"
      ]
     },
     "execution_count": 28,
     "metadata": {},
     "output_type": "execute_result"
    }
   ],
   "source": [
    "mean_empirical_cor_25_GLMM = mean(GLMCopula.offdiag(empirical_cor_25_GLMM))"
   ]
  },
  {
   "cell_type": "markdown",
   "metadata": {},
   "source": [
    "## Comparisons \n",
    "\n",
    "##  1. Theoretical vs. Empirical Correlation simulated under QC <a class=\"anchor\" id=\"ex4\"></a>\n",
    "\n",
    "### Takeaway: Quasi-Copula correlation IS a function of the di, kt, $\\rho$ and $\\sigma^2$\n",
    "\n",
    "The theoretical correlation is a function of $d_i, \\rho, \\sigma^2, kt(p)$\n",
    "\n",
    "$$Corr(Y_k, Y_l)\n",
    " = \\frac{\\rho * \\sigma^2}{1 + \\frac{1}{2} * \\sigma^2 * kt + \\frac{1}{2} * \\sigma^2 (d_i - 1)}$$\n",
    "\n",
    "We have $p = 0.5,$ thus we have kurtosis $kt = kt(p) = 1.$\n",
    "\n",
    "Let's see what happens to the theoretical/empirical correlation when we fix $\\rho = 0.9, \\sigma^2 = 1.0$ and range cluster sizes $d_i$\n",
    "\n",
    "$$Corr(Y_k, Y_l)\n",
    " = \\frac{0.9}{1 + \\frac{1}{2} * 1 + \\frac{1}{2} * (d_i - 1)} = \\frac{0.9}{1 + \\frac{d_i}{2}}$$\n"
   ]
  },
  {
   "cell_type": "code",
   "execution_count": 29,
   "metadata": {},
   "outputs": [
    {
     "data": {
      "text/plain": [
       "1×2 Matrix{Float64}:\n",
       " 0.45  0.446784"
      ]
     },
     "execution_count": 29,
     "metadata": {},
     "output_type": "execute_result"
    }
   ],
   "source": [
    "# di = 2\n",
    "[theoretical_rho_2_kurtosis mean_empirical_cor_2]"
   ]
  },
  {
   "cell_type": "code",
   "execution_count": 30,
   "metadata": {},
   "outputs": [
    {
     "data": {
      "text/plain": [
       "1×2 Matrix{Float64}:\n",
       " 0.257143  0.255856"
      ]
     },
     "execution_count": 30,
     "metadata": {},
     "output_type": "execute_result"
    }
   ],
   "source": [
    "# di = 5\n",
    "[theoretical_rho_5_kurtosis mean_empirical_cor_5]"
   ]
  },
  {
   "cell_type": "code",
   "execution_count": 31,
   "metadata": {},
   "outputs": [
    {
     "data": {
      "text/plain": [
       "1×2 Matrix{Float64}:\n",
       " 0.15  0.150073"
      ]
     },
     "execution_count": 31,
     "metadata": {},
     "output_type": "execute_result"
    }
   ],
   "source": [
    "# di = 10\n",
    "[theoretical_rho_10_kurtosis mean_empirical_cor_10]"
   ]
  },
  {
   "cell_type": "code",
   "execution_count": 32,
   "metadata": {},
   "outputs": [
    {
     "data": {
      "text/plain": [
       "1×2 Matrix{Float64}:\n",
       " 0.0666667  0.0672627"
      ]
     },
     "execution_count": 32,
     "metadata": {},
     "output_type": "execute_result"
    }
   ],
   "source": [
    "# di = 25\n",
    "[theoretical_rho_25_kurtosis mean_empirical_cor_25]"
   ]
  },
  {
   "cell_type": "markdown",
   "metadata": {},
   "source": [
    "##  2. Empirical Correlation simulated under GLMM<a class=\"anchor\" id=\"ex4g\"></a>\n",
    "\n",
    "### Takeaway: GLMM correlation is NOT a function of the cluster size (Only a function of $\\rho$ and $\\sigma^2)$"
   ]
  },
  {
   "cell_type": "code",
   "execution_count": 33,
   "metadata": {},
   "outputs": [
    {
     "data": {
      "text/plain": [
       "0.16343678921893148"
      ]
     },
     "execution_count": 33,
     "metadata": {},
     "output_type": "execute_result"
    }
   ],
   "source": [
    "# glmm correlation di = 2 \n",
    "mean_empirical_cor_2_GLMM"
   ]
  },
  {
   "cell_type": "code",
   "execution_count": 34,
   "metadata": {},
   "outputs": [
    {
     "data": {
      "text/plain": [
       "0.15396313253845206"
      ]
     },
     "execution_count": 34,
     "metadata": {},
     "output_type": "execute_result"
    }
   ],
   "source": [
    "# glmm correlation di = 5 \n",
    "mean_empirical_cor_5_GLMM"
   ]
  },
  {
   "cell_type": "code",
   "execution_count": 35,
   "metadata": {},
   "outputs": [
    {
     "data": {
      "text/plain": [
       "0.15404187675007466"
      ]
     },
     "execution_count": 35,
     "metadata": {},
     "output_type": "execute_result"
    }
   ],
   "source": [
    "# glmm correlation di = 10\n",
    "mean_empirical_cor_10_GLMM"
   ]
  },
  {
   "cell_type": "code",
   "execution_count": 36,
   "metadata": {},
   "outputs": [
    {
     "data": {
      "text/plain": [
       "0.15515390099002302"
      ]
     },
     "execution_count": 36,
     "metadata": {},
     "output_type": "execute_result"
    }
   ],
   "source": [
    "# glmm correlation di = 25\n",
    "mean_empirical_cor_25_GLMM"
   ]
  }
 ],
 "metadata": {
  "@webio": {
   "lastCommId": null,
   "lastKernelId": null
  },
  "kernelspec": {
   "display_name": "Julia 1.6.2",
   "language": "julia",
   "name": "julia-1.6"
  },
  "language_info": {
   "file_extension": ".jl",
   "mimetype": "application/julia",
   "name": "julia",
   "version": "1.6.2"
  }
 },
 "nbformat": 4,
 "nbformat_minor": 4
}
