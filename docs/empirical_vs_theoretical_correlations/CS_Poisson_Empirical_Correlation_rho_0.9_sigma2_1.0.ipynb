{
 "cells": [
  {
   "cell_type": "markdown",
   "metadata": {},
   "source": [
    "# Poisson(5) with CS rho = 0.9, sigma2 = 1.0\n",
    "\n",
    "For Poisson Base with $\\lambda = 5$, with the correlation $\\rho = 0.9, \\sigma^2 = 1.0,$\n",
    "\n",
    "The theoretical correlation is a function of $d_i, \\rho, \\sigma^2, kt$\n",
    "\n",
    "$$Corr(Y_k, Y_l)\n",
    " = \\frac{\\rho * \\sigma^2}{1 + \\frac{1}{2} * \\sigma^2 * kt + \\frac{1}{2} * \\sigma^2 (d_i - 1)}$$\n",
    "\n",
    "We have $\\lambda = 5,$ thus we have kurtosis $kt = kt(\\lambda) = 3.2.$\n",
    "\n",
    "Let's see what happens to the theoretical/empirical correlation when we fix $\\rho = 0.9, \\sigma^2 = 1.0$ and range cluster sizes $d_i$\n",
    "\n",
    "$$Corr(Y_k, Y_l)\n",
    " = \\frac{0.9}{1 + \\frac{1}{2} * 3.2 + \\frac{1}{2} * (d_i - 1)} =  \\frac{0.9}{1 + \\frac{1}{2} * (d_i + 2.2)} $$\n",
    "\n",
    "# We will show:\n",
    "    1) Simulating under QC model, the theoretical and empirical correlation IS a function of cluster sizes di\n",
    "\n",
    "    2) Simulating under GLMM, the theoretical and empirical correlation is NOT function of cluster sizes di\n",
    "    \n",
    "\n",
    "## TOC:\n",
    "\n",
    "# di = 2\n",
    "* [CS di = 2](#ex0)\n",
    "* [simulate under GLMM CS di = 2](#ex0g)\n",
    "\n",
    "# di = 5\n",
    "* [CS di = 5](#ex1)\n",
    "* [simulate under GLMM CS di = 5](#ex1g)\n",
    "\n",
    "# di = 10 \n",
    "* [CS di = 10](#ex2)\n",
    "* [simulate under GLMM CS di = 10](#ex2g)\n",
    "\n",
    "# di = 25\n",
    "* [CS di = 25](#ex3)\n",
    "* [simulate under GLMM CS di = 25](#ex3g)\n",
    "\n",
    "# Comparisons\n",
    "* [Theoretical vs. Empirical Correlation Simulated under QC](#ex4)\n",
    "* [Empirical Correlation Simulated under GLMM](#ex4g)"
   ]
  },
  {
   "cell_type": "code",
   "execution_count": 1,
   "metadata": {},
   "outputs": [],
   "source": [
    "using GLMCopula, DelimitedFiles, LinearAlgebra, Random, GLM, MixedModels, CategoricalArrays\n",
    "using Random, Roots, SpecialFunctions, StatsBase\n",
    "using DataFrames, DelimitedFiles, Statistics, ToeplitzMatrices\n",
    "import StatsBase: sem"
   ]
  },
  {
   "cell_type": "code",
   "execution_count": 2,
   "metadata": {},
   "outputs": [
    {
     "data": {
      "text/plain": [
       "get_V_CS (generic function with 1 method)"
      ]
     },
     "execution_count": 2,
     "metadata": {},
     "output_type": "execute_result"
    }
   ],
   "source": [
    "function get_V_CS(ρ, n)\n",
    "    vec = zeros(n)\n",
    "    vec[1] = 1.0\n",
    "    for i in 2:n\n",
    "        vec[i] = ρ\n",
    "    end\n",
    "    V = ToeplitzMatrices.SymmetricToeplitz(vec)\n",
    "    V\n",
    "end"
   ]
  },
  {
   "cell_type": "code",
   "execution_count": 3,
   "metadata": {},
   "outputs": [
    {
     "data": {
      "text/plain": [
       "Float64"
      ]
     },
     "execution_count": 3,
     "metadata": {},
     "output_type": "execute_result"
    }
   ],
   "source": [
    "# true parameter values\n",
    "βtrue = [log(5.0)]\n",
    "σ2true = [1.0]\n",
    "ρtrue = [0.9]\n",
    "lambda = [5]\n",
    "\n",
    "samplesize = 100000 # number of sampling units\n",
    "\n",
    "d = Poisson()\n",
    "link = LogLink()\n",
    "D = typeof(d)\n",
    "Link = typeof(link)\n",
    "T = Float64"
   ]
  },
  {
   "cell_type": "markdown",
   "metadata": {},
   "source": [
    "# Kurtosis of each Poisson(5) base distribution is 3.2 \n",
    "\n",
    "We have $\\lambda = 5,$ thus we have kurtosis $kt = kt(\\lambda) = 3.2.$\n",
    "\n",
    "Let's see what happens when we fix $\\rho = 0.9, \\sigma^2 = 1.0, kt = 3.2$ and range cluster sizes $d_i$"
   ]
  },
  {
   "cell_type": "code",
   "execution_count": 4,
   "metadata": {},
   "outputs": [
    {
     "data": {
      "text/plain": [
       "(5.0, 5.0, 0.4472135954999579, 3.2)"
      ]
     },
     "execution_count": 4,
     "metadata": {},
     "output_type": "execute_result"
    }
   ],
   "source": [
    "d = Poisson(lambda[1])\n",
    "μ, σ², sk, kt = mean(d), var(d), skewness(d), kurtosis(d, false)"
   ]
  },
  {
   "cell_type": "markdown",
   "metadata": {},
   "source": [
    "## CS di = 2 <a class=\"anchor\" id=\"ex0\"></a>\n",
    "\n",
    "$d_i = 2$\n",
    "\n",
    "$\\lambda = 5, \\rho = 0.9, \\sigma^2 = 1.0$"
   ]
  },
  {
   "cell_type": "code",
   "execution_count": 5,
   "metadata": {},
   "outputs": [
    {
     "data": {
      "text/plain": [
       "2×2 Matrix{Float64}:\n",
       " 1.0  0.9\n",
       " 0.9  1.0"
      ]
     },
     "execution_count": 5,
     "metadata": {},
     "output_type": "execute_result"
    }
   ],
   "source": [
    "di = 2 # number of observations per cluster\n",
    "V_CS = get_V_CS(ρtrue[1], di)\n",
    "\n",
    "# true Gamma\n",
    "Γ_CS = σ2true[1] * V_CS"
   ]
  },
  {
   "cell_type": "code",
   "execution_count": 6,
   "metadata": {},
   "outputs": [
    {
     "name": "stdout",
     "output_type": "stream",
     "text": [
      "  1.155270 seconds (5.64 M allocations: 627.854 MiB, 8.34% gc time, 47.19% compilation time)\n"
     ]
    },
    {
     "data": {
      "text/plain": [
       "2×2 Matrix{Float64}:\n",
       " 1.0       0.285195\n",
       " 0.285195  1.0"
      ]
     },
     "execution_count": 6,
     "metadata": {},
     "output_type": "execute_result"
    }
   ],
   "source": [
    "vecd = Vector{DiscreteUnivariateDistribution}(undef, di)\n",
    "for i in 1:di\n",
    "    vecd[i] = Poisson(5.0)\n",
    "end\n",
    "nonmixed_multivariate_dist = NonMixedMultivariateDistribution(vecd, Γ_CS)\n",
    "\n",
    "Random.seed!(12345)\n",
    "@time Y_nsample = simulate_nobs_independent_vectors(nonmixed_multivariate_dist, samplesize)\n",
    "\n",
    "gcs = Vector{GLMCopulaCSObs{T, D, Link}}(undef, samplesize)\n",
    "for i in 1:samplesize\n",
    "    X = ones(di, 1)\n",
    "    y = Float64.(Y_nsample[i])\n",
    "    V = [Float64.(Matrix(I, di, di))]\n",
    "    gcs[i] = GLMCopulaCSObs(y, X, d, link)\n",
    "end\n",
    "\n",
    "# form model\n",
    "gcm = GLMCopulaCSModel(gcs);\n",
    "\n",
    "N = length(gcm.data)\n",
    "di = length(gcm.data[1].y)\n",
    "Y_CS = zeros(N, di)\n",
    "for j in 1:di\n",
    "    Y_CS[:, j] = [gcm.data[i].y[j] for i in 1:N]\n",
    "end\n",
    "empirical_cor_2 = StatsBase.cor(Y_CS)"
   ]
  },
  {
   "cell_type": "code",
   "execution_count": 7,
   "metadata": {},
   "outputs": [
    {
     "data": {
      "text/plain": [
       "0.2903225806451613"
      ]
     },
     "execution_count": 7,
     "metadata": {},
     "output_type": "execute_result"
    }
   ],
   "source": [
    "theoretical_rho_2_kurtosis = (ρtrue[1] * σ2true[1]) / (1 + ((di/2) * σ2true[1]) + (0.5 * (kt - 1) * σ2true[1]))"
   ]
  },
  {
   "cell_type": "code",
   "execution_count": 8,
   "metadata": {},
   "outputs": [
    {
     "data": {
      "text/plain": [
       "0.2851948656513909"
      ]
     },
     "execution_count": 8,
     "metadata": {},
     "output_type": "execute_result"
    }
   ],
   "source": [
    "mean_empirical_cor_2 = mean(GLMCopula.offdiag(empirical_cor_2))"
   ]
  },
  {
   "cell_type": "markdown",
   "metadata": {},
   "source": [
    "## simulate under GLMM CS di = 2 <a class=\"anchor\" id=\"ex0g\"></a>\n",
    "\n",
    "$d_i = 2$\n",
    "\n",
    "$\\lambda = 5, \\rho = 0.9, \\sigma^2 = 1.0$"
   ]
  },
  {
   "cell_type": "code",
   "execution_count": 9,
   "metadata": {},
   "outputs": [
    {
     "data": {
      "text/plain": [
       "2×2 Matrix{Float64}:\n",
       " 1.0       0.798455\n",
       " 0.798455  1.0"
      ]
     },
     "execution_count": 9,
     "metadata": {},
     "output_type": "execute_result"
    }
   ],
   "source": [
    "function __get_distribution(dist::Type{D}, μ) where D <: UnivariateDistribution\n",
    "    return dist(μ)\n",
    "end\n",
    "\n",
    "for i in 1:samplesize\n",
    "    X = ones(di, 1)\n",
    "    η = X * βtrue\n",
    "    # generate mvn response\n",
    "    mvn_d = MvNormal(η, Γ_CS)\n",
    "    mvn_η = rand(mvn_d)\n",
    "    μ = GLM.linkinv.(link, mvn_η)\n",
    "    y = Float64.(rand.(__get_distribution.(D, μ)))\n",
    "    gcs[i] = GLMCopulaCSObs(y, X, d, link)\n",
    "end\n",
    "\n",
    "# form model\n",
    "gcm = GLMCopulaCSModel(gcs);\n",
    "\n",
    "N = length(gcm.data)\n",
    "Y_CS = zeros(N, di)\n",
    "for j in 1:di\n",
    "    Y_CS[:, j] = [gcm.data[i].y[j] for i in 1:N]\n",
    "end\n",
    "empirical_cor_2_GLMM = StatsBase.cor(Y_CS)"
   ]
  },
  {
   "cell_type": "code",
   "execution_count": 10,
   "metadata": {},
   "outputs": [
    {
     "data": {
      "text/plain": [
       "0.7984547527377245"
      ]
     },
     "execution_count": 10,
     "metadata": {},
     "output_type": "execute_result"
    }
   ],
   "source": [
    "mean_empirical_cor_2_GLMM = mean(GLMCopula.offdiag(empirical_cor_2_GLMM))"
   ]
  },
  {
   "cell_type": "markdown",
   "metadata": {},
   "source": [
    "## CS di = 5 <a class=\"anchor\" id=\"ex1\"></a>\n",
    "\n",
    "$d_i = 5$\n",
    "\n",
    "$\\lambda = 5, \\rho = 0.9, \\sigma^2 = 1.0$"
   ]
  },
  {
   "cell_type": "code",
   "execution_count": 11,
   "metadata": {},
   "outputs": [
    {
     "data": {
      "text/plain": [
       "5×5 Matrix{Float64}:\n",
       " 1.0  0.9  0.9  0.9  0.9\n",
       " 0.9  1.0  0.9  0.9  0.9\n",
       " 0.9  0.9  1.0  0.9  0.9\n",
       " 0.9  0.9  0.9  1.0  0.9\n",
       " 0.9  0.9  0.9  0.9  1.0"
      ]
     },
     "execution_count": 11,
     "metadata": {},
     "output_type": "execute_result"
    }
   ],
   "source": [
    "di = 5 # number of observations per cluster\n",
    "V_CS = get_V_CS(ρtrue[1], di)\n",
    "\n",
    "# true Gamma\n",
    "Γ_CS = σ2true[1] * V_CS"
   ]
  },
  {
   "cell_type": "code",
   "execution_count": 12,
   "metadata": {},
   "outputs": [
    {
     "name": "stdout",
     "output_type": "stream",
     "text": [
      "  2.099954 seconds (9.00 M allocations: 1.299 GiB, 31.70% gc time)\n"
     ]
    },
    {
     "data": {
      "text/plain": [
       "5×5 Matrix{Float64}:\n",
       " 1.0       0.196943  0.197756  0.195678  0.193317\n",
       " 0.196943  1.0       0.194243  0.19766   0.192144\n",
       " 0.197756  0.194243  1.0       0.190767  0.196116\n",
       " 0.195678  0.19766   0.190767  1.0       0.195628\n",
       " 0.193317  0.192144  0.196116  0.195628  1.0"
      ]
     },
     "execution_count": 12,
     "metadata": {},
     "output_type": "execute_result"
    }
   ],
   "source": [
    "vecd = Vector{DiscreteUnivariateDistribution}(undef, di)\n",
    "for i in 1:di\n",
    "    vecd[i] = Poisson(5.0)\n",
    "end\n",
    "nonmixed_multivariate_dist = NonMixedMultivariateDistribution(vecd, Γ_CS)\n",
    "\n",
    "Random.seed!(12345)\n",
    "@time Y_nsample = simulate_nobs_independent_vectors(nonmixed_multivariate_dist, samplesize)\n",
    "\n",
    "gcs = Vector{GLMCopulaCSObs{T, D, Link}}(undef, samplesize)\n",
    "for i in 1:samplesize\n",
    "    X = ones(di, 1)\n",
    "    y = Float64.(Y_nsample[i])\n",
    "    V = [Float64.(Matrix(I, di, di))]\n",
    "    gcs[i] = GLMCopulaCSObs(y, X, d, link)\n",
    "end\n",
    "\n",
    "# form model\n",
    "gcm = GLMCopulaCSModel(gcs);\n",
    "\n",
    "N = length(gcm.data)\n",
    "di = length(gcm.data[1].y)\n",
    "Y_CS = zeros(N, di)\n",
    "for j in 1:di\n",
    "    Y_CS[:, j] = [gcm.data[i].y[j] for i in 1:N]\n",
    "end\n",
    "empirical_cor_5 = StatsBase.cor(Y_CS)"
   ]
  },
  {
   "cell_type": "code",
   "execution_count": 13,
   "metadata": {},
   "outputs": [
    {
     "data": {
      "text/plain": [
       "0.1956521739130435"
      ]
     },
     "execution_count": 13,
     "metadata": {},
     "output_type": "execute_result"
    }
   ],
   "source": [
    "theoretical_rho_5_kurtosis = (ρtrue[1] * σ2true[1]) / (1 + ((di/2) * σ2true[1]) + (0.5 * (kt - 1) * σ2true[1]))"
   ]
  },
  {
   "cell_type": "code",
   "execution_count": 14,
   "metadata": {},
   "outputs": [
    {
     "data": {
      "text/plain": [
       "0.19502545069070262"
      ]
     },
     "execution_count": 14,
     "metadata": {},
     "output_type": "execute_result"
    }
   ],
   "source": [
    "mean_empirical_cor_5 = mean(GLMCopula.offdiag(empirical_cor_5))"
   ]
  },
  {
   "cell_type": "markdown",
   "metadata": {},
   "source": [
    "## simulate under GLMM CS di = 5 <a class=\"anchor\" id=\"ex1g\"></a>\n",
    "\n",
    "$d_i = 5$\n",
    "\n",
    "$\\lambda = 5, \\rho = 0.9, \\sigma^2 = 1.0$"
   ]
  },
  {
   "cell_type": "code",
   "execution_count": 15,
   "metadata": {},
   "outputs": [
    {
     "data": {
      "text/plain": [
       "5×5 Matrix{Float64}:\n",
       " 1.0       0.792778  0.796232  0.797336  0.787295\n",
       " 0.792778  1.0       0.787723  0.791998  0.788881\n",
       " 0.796232  0.787723  1.0       0.796937  0.787417\n",
       " 0.797336  0.791998  0.796937  1.0       0.782993\n",
       " 0.787295  0.788881  0.787417  0.782993  1.0"
      ]
     },
     "execution_count": 15,
     "metadata": {},
     "output_type": "execute_result"
    }
   ],
   "source": [
    "for i in 1:samplesize\n",
    "    X = ones(di, 1)\n",
    "    η = X * βtrue\n",
    "    # generate mvn response\n",
    "    mvn_d = MvNormal(η, Γ_CS)\n",
    "    mvn_η = rand(mvn_d)\n",
    "    μ = GLM.linkinv.(link, mvn_η)\n",
    "    y = Float64.(rand.(__get_distribution.(D, μ)))\n",
    "    gcs[i] = GLMCopulaCSObs(y, X, d, link)\n",
    "end\n",
    "\n",
    "# form model\n",
    "gcm = GLMCopulaCSModel(gcs);\n",
    "\n",
    "N = length(gcm.data)\n",
    "Y_CS = zeros(N, di)\n",
    "for j in 1:di\n",
    "    Y_CS[:, j] = [gcm.data[i].y[j] for i in 1:N]\n",
    "end\n",
    "empirical_cor_5_GLMM = StatsBase.cor(Y_CS)"
   ]
  },
  {
   "cell_type": "code",
   "execution_count": 16,
   "metadata": {},
   "outputs": [
    {
     "data": {
      "text/plain": [
       "0.7909588752324979"
      ]
     },
     "execution_count": 16,
     "metadata": {},
     "output_type": "execute_result"
    }
   ],
   "source": [
    "mean_empirical_cor_5_GLMM = mean(GLMCopula.offdiag(empirical_cor_5_GLMM))"
   ]
  },
  {
   "cell_type": "markdown",
   "metadata": {},
   "source": [
    "## CS di = 10 <a class=\"anchor\" id=\"ex2\"></a>\n",
    "\n",
    "$d_i = 10$\n",
    "\n",
    "$\\lambda = 5, \\rho = 0.9, \\sigma^2 = 1.0$"
   ]
  },
  {
   "cell_type": "code",
   "execution_count": 17,
   "metadata": {},
   "outputs": [
    {
     "data": {
      "text/plain": [
       "10×10 Matrix{Float64}:\n",
       " 1.0  0.9  0.9  0.9  0.9  0.9  0.9  0.9  0.9  0.9\n",
       " 0.9  1.0  0.9  0.9  0.9  0.9  0.9  0.9  0.9  0.9\n",
       " 0.9  0.9  1.0  0.9  0.9  0.9  0.9  0.9  0.9  0.9\n",
       " 0.9  0.9  0.9  1.0  0.9  0.9  0.9  0.9  0.9  0.9\n",
       " 0.9  0.9  0.9  0.9  1.0  0.9  0.9  0.9  0.9  0.9\n",
       " 0.9  0.9  0.9  0.9  0.9  1.0  0.9  0.9  0.9  0.9\n",
       " 0.9  0.9  0.9  0.9  0.9  0.9  1.0  0.9  0.9  0.9\n",
       " 0.9  0.9  0.9  0.9  0.9  0.9  0.9  1.0  0.9  0.9\n",
       " 0.9  0.9  0.9  0.9  0.9  0.9  0.9  0.9  1.0  0.9\n",
       " 0.9  0.9  0.9  0.9  0.9  0.9  0.9  0.9  0.9  1.0"
      ]
     },
     "execution_count": 17,
     "metadata": {},
     "output_type": "execute_result"
    }
   ],
   "source": [
    "di = 10 # number of observations per cluster\n",
    "V_CS = get_V_CS(ρtrue[1], di)\n",
    "\n",
    "# true Gamma\n",
    "Γ_CS = σ2true[1] * V_CS"
   ]
  },
  {
   "cell_type": "code",
   "execution_count": 18,
   "metadata": {},
   "outputs": [
    {
     "name": "stdout",
     "output_type": "stream",
     "text": [
      "  4.228739 seconds (17.50 M allocations: 3.017 GiB, 24.10% gc time)\n"
     ]
    },
    {
     "data": {
      "text/plain": [
       "10×10 Matrix{Float64}:\n",
       " 1.0       0.128016  0.130614  0.129047  …  0.128288  0.125534  0.133939\n",
       " 0.128016  1.0       0.120538  0.125782     0.127935  0.127707  0.130416\n",
       " 0.130614  0.120538  1.0       0.125045     0.128896  0.126352  0.123502\n",
       " 0.129047  0.125782  0.125045  1.0          0.122533  0.128499  0.129321\n",
       " 0.123802  0.121636  0.125933  0.12542      0.123983  0.127865  0.129307\n",
       " 0.126466  0.123785  0.127689  0.123933  …  0.122117  0.128876  0.125273\n",
       " 0.124606  0.124493  0.129822  0.12864      0.12297   0.127572  0.127659\n",
       " 0.128288  0.127935  0.128896  0.122533     1.0       0.122736  0.128858\n",
       " 0.125534  0.127707  0.126352  0.128499     0.122736  1.0       0.12844\n",
       " 0.133939  0.130416  0.123502  0.129321     0.128858  0.12844   1.0"
      ]
     },
     "execution_count": 18,
     "metadata": {},
     "output_type": "execute_result"
    }
   ],
   "source": [
    "vecd = Vector{DiscreteUnivariateDistribution}(undef, di)\n",
    "for i in 1:di\n",
    "    vecd[i] = Poisson(5.0)\n",
    "end\n",
    "nonmixed_multivariate_dist = NonMixedMultivariateDistribution(vecd, Γ_CS)\n",
    "\n",
    "Random.seed!(1234)\n",
    "@time Y_nsample = simulate_nobs_independent_vectors(nonmixed_multivariate_dist, samplesize)\n",
    "\n",
    "gcs = Vector{GLMCopulaCSObs{T, D, Link}}(undef, samplesize)\n",
    "for i in 1:samplesize\n",
    "    X = ones(di, 1)\n",
    "    y = Float64.(Y_nsample[i])\n",
    "    V = [Float64.(Matrix(I, di, di))]\n",
    "    gcs[i] = GLMCopulaCSObs(y, X, d, link)\n",
    "end\n",
    "\n",
    "# form model\n",
    "gcm = GLMCopulaCSModel(gcs);\n",
    "\n",
    "N = length(gcm.data)\n",
    "di = length(gcm.data[1].y)\n",
    "Y_CS = zeros(N, di)\n",
    "for j in 1:di\n",
    "    Y_CS[:, j] = [gcm.data[i].y[j] for i in 1:N]\n",
    "end\n",
    "empirical_cor_10 = StatsBase.cor(Y_CS)"
   ]
  },
  {
   "cell_type": "code",
   "execution_count": 19,
   "metadata": {},
   "outputs": [
    {
     "data": {
      "text/plain": [
       "0.1267605633802817"
      ]
     },
     "execution_count": 19,
     "metadata": {},
     "output_type": "execute_result"
    }
   ],
   "source": [
    "theoretical_rho_10_kurtosis = (ρtrue[1] * σ2true[1]) / (1 + ((di/2) * σ2true[1]) + (0.5 * (kt - 1) * σ2true[1]))"
   ]
  },
  {
   "cell_type": "code",
   "execution_count": 20,
   "metadata": {},
   "outputs": [
    {
     "data": {
      "text/plain": [
       "0.12640711338368954"
      ]
     },
     "execution_count": 20,
     "metadata": {},
     "output_type": "execute_result"
    }
   ],
   "source": [
    "mean_empirical_cor_10 = mean(GLMCopula.offdiag(empirical_cor_10))"
   ]
  },
  {
   "cell_type": "markdown",
   "metadata": {},
   "source": [
    "## simulate under GLMM CS di = 10 <a class=\"anchor\" id=\"ex2g\"></a>\n",
    "\n",
    "$d_i = 10$\n",
    "\n",
    "$\\lambda = 5, \\rho = 0.9, \\sigma^2 = 1.0$"
   ]
  },
  {
   "cell_type": "code",
   "execution_count": 21,
   "metadata": {},
   "outputs": [
    {
     "data": {
      "text/plain": [
       "10×10 Matrix{Float64}:\n",
       " 1.0       0.795277  0.788873  0.797751  …  0.797274  0.791648  0.78627\n",
       " 0.795277  1.0       0.790251  0.797387     0.794843  0.792892  0.787881\n",
       " 0.788873  0.790251  1.0       0.788445     0.801963  0.794749  0.789376\n",
       " 0.797751  0.797387  0.788445  1.0          0.800243  0.794788  0.793074\n",
       " 0.79228   0.793276  0.794363  0.793684     0.79594   0.797735  0.792796\n",
       " 0.79759   0.797007  0.790109  0.79892   …  0.799824  0.794066  0.788899\n",
       " 0.792135  0.793612  0.783496  0.794305     0.790397  0.784503  0.788064\n",
       " 0.797274  0.794843  0.801963  0.800243     1.0       0.797156  0.793496\n",
       " 0.791648  0.792892  0.794749  0.794788     0.797156  1.0       0.788979\n",
       " 0.78627   0.787881  0.789376  0.793074     0.793496  0.788979  1.0"
      ]
     },
     "execution_count": 21,
     "metadata": {},
     "output_type": "execute_result"
    }
   ],
   "source": [
    "for i in 1:samplesize\n",
    "    X = ones(di, 1)\n",
    "    η = X * βtrue\n",
    "    # generate mvn response\n",
    "    mvn_d = MvNormal(η, Γ_CS)\n",
    "    mvn_η = rand(mvn_d)\n",
    "    μ = GLM.linkinv.(link, mvn_η)\n",
    "    y = Float64.(rand.(__get_distribution.(D, μ)))\n",
    "    gcs[i] = GLMCopulaCSObs(y, X, d, link)\n",
    "end\n",
    "\n",
    "# form model\n",
    "gcm = GLMCopulaCSModel(gcs);\n",
    "\n",
    "N = length(gcm.data)\n",
    "Y_CS = zeros(N, di)\n",
    "for j in 1:di\n",
    "    Y_CS[:, j] = [gcm.data[i].y[j] for i in 1:N]\n",
    "end\n",
    "empirical_cor_10_GLMM = StatsBase.cor(Y_CS)"
   ]
  },
  {
   "cell_type": "code",
   "execution_count": 22,
   "metadata": {},
   "outputs": [
    {
     "data": {
      "text/plain": [
       "0.7931953599572975"
      ]
     },
     "execution_count": 22,
     "metadata": {},
     "output_type": "execute_result"
    }
   ],
   "source": [
    "mean_empirical_cor_10_GLMM = mean(GLMCopula.offdiag(empirical_cor_10_GLMM))"
   ]
  },
  {
   "cell_type": "markdown",
   "metadata": {},
   "source": [
    "## CS di = 25 <a class=\"anchor\" id=\"ex3\"></a>\n",
    "\n",
    "$d_i = 25$\n",
    "\n",
    "$\\lambda = 5, \\rho = 0.9, \\sigma^2 = 1.0$"
   ]
  },
  {
   "cell_type": "code",
   "execution_count": 23,
   "metadata": {},
   "outputs": [
    {
     "data": {
      "text/plain": [
       "25×25 Matrix{Float64}:\n",
       " 1.0  0.9  0.9  0.9  0.9  0.9  0.9  0.9  …  0.9  0.9  0.9  0.9  0.9  0.9  0.9\n",
       " 0.9  1.0  0.9  0.9  0.9  0.9  0.9  0.9     0.9  0.9  0.9  0.9  0.9  0.9  0.9\n",
       " 0.9  0.9  1.0  0.9  0.9  0.9  0.9  0.9     0.9  0.9  0.9  0.9  0.9  0.9  0.9\n",
       " 0.9  0.9  0.9  1.0  0.9  0.9  0.9  0.9     0.9  0.9  0.9  0.9  0.9  0.9  0.9\n",
       " 0.9  0.9  0.9  0.9  1.0  0.9  0.9  0.9     0.9  0.9  0.9  0.9  0.9  0.9  0.9\n",
       " 0.9  0.9  0.9  0.9  0.9  1.0  0.9  0.9  …  0.9  0.9  0.9  0.9  0.9  0.9  0.9\n",
       " 0.9  0.9  0.9  0.9  0.9  0.9  1.0  0.9     0.9  0.9  0.9  0.9  0.9  0.9  0.9\n",
       " 0.9  0.9  0.9  0.9  0.9  0.9  0.9  1.0     0.9  0.9  0.9  0.9  0.9  0.9  0.9\n",
       " 0.9  0.9  0.9  0.9  0.9  0.9  0.9  0.9     0.9  0.9  0.9  0.9  0.9  0.9  0.9\n",
       " 0.9  0.9  0.9  0.9  0.9  0.9  0.9  0.9     0.9  0.9  0.9  0.9  0.9  0.9  0.9\n",
       " 0.9  0.9  0.9  0.9  0.9  0.9  0.9  0.9  …  0.9  0.9  0.9  0.9  0.9  0.9  0.9\n",
       " 0.9  0.9  0.9  0.9  0.9  0.9  0.9  0.9     0.9  0.9  0.9  0.9  0.9  0.9  0.9\n",
       " 0.9  0.9  0.9  0.9  0.9  0.9  0.9  0.9     0.9  0.9  0.9  0.9  0.9  0.9  0.9\n",
       " 0.9  0.9  0.9  0.9  0.9  0.9  0.9  0.9     0.9  0.9  0.9  0.9  0.9  0.9  0.9\n",
       " 0.9  0.9  0.9  0.9  0.9  0.9  0.9  0.9     0.9  0.9  0.9  0.9  0.9  0.9  0.9\n",
       " 0.9  0.9  0.9  0.9  0.9  0.9  0.9  0.9  …  0.9  0.9  0.9  0.9  0.9  0.9  0.9\n",
       " 0.9  0.9  0.9  0.9  0.9  0.9  0.9  0.9     0.9  0.9  0.9  0.9  0.9  0.9  0.9\n",
       " 0.9  0.9  0.9  0.9  0.9  0.9  0.9  0.9     0.9  0.9  0.9  0.9  0.9  0.9  0.9\n",
       " 0.9  0.9  0.9  0.9  0.9  0.9  0.9  0.9     1.0  0.9  0.9  0.9  0.9  0.9  0.9\n",
       " 0.9  0.9  0.9  0.9  0.9  0.9  0.9  0.9     0.9  1.0  0.9  0.9  0.9  0.9  0.9\n",
       " 0.9  0.9  0.9  0.9  0.9  0.9  0.9  0.9  …  0.9  0.9  1.0  0.9  0.9  0.9  0.9\n",
       " 0.9  0.9  0.9  0.9  0.9  0.9  0.9  0.9     0.9  0.9  0.9  1.0  0.9  0.9  0.9\n",
       " 0.9  0.9  0.9  0.9  0.9  0.9  0.9  0.9     0.9  0.9  0.9  0.9  1.0  0.9  0.9\n",
       " 0.9  0.9  0.9  0.9  0.9  0.9  0.9  0.9     0.9  0.9  0.9  0.9  0.9  1.0  0.9\n",
       " 0.9  0.9  0.9  0.9  0.9  0.9  0.9  0.9     0.9  0.9  0.9  0.9  0.9  0.9  1.0"
      ]
     },
     "execution_count": 23,
     "metadata": {},
     "output_type": "execute_result"
    }
   ],
   "source": [
    "di = 25 # number of observations per cluster\n",
    "V_CS = get_V_CS(ρtrue[1], di)\n",
    "\n",
    "# true Gamma\n",
    "Γ_CS = σ2true[1] * V_CS"
   ]
  },
  {
   "cell_type": "code",
   "execution_count": 24,
   "metadata": {},
   "outputs": [
    {
     "name": "stdout",
     "output_type": "stream",
     "text": [
      " 12.662374 seconds (43.00 M allocations: 14.642 GiB, 20.92% gc time)\n"
     ]
    },
    {
     "data": {
      "text/plain": [
       "25×25 Matrix{Float64}:\n",
       " 1.0        0.0577683  0.0610863  …  0.0554469  0.0615061  0.0568422\n",
       " 0.0577683  1.0        0.0594631     0.0591781  0.0682081  0.0606417\n",
       " 0.0610863  0.0594631  1.0           0.0589024  0.0581182  0.0614743\n",
       " 0.0605585  0.0658646  0.0611926     0.0641798  0.0639662  0.0669419\n",
       " 0.0623432  0.0616572  0.0626698     0.0589285  0.0640179  0.0662437\n",
       " 0.0636397  0.062638   0.0620784  …  0.0582243  0.0684209  0.0614459\n",
       " 0.0623193  0.0625838  0.0600198     0.0610188  0.0588353  0.0650894\n",
       " 0.0610067  0.0580055  0.0530576     0.0618378  0.0560169  0.0627076\n",
       " 0.0575952  0.0655842  0.0618869     0.0573538  0.0638674  0.0608164\n",
       " 0.0617213  0.0644334  0.0617497     0.0571646  0.0650496  0.0655976\n",
       " 0.0617591  0.0635662  0.0651132  …  0.0615142  0.0607624  0.0617458\n",
       " 0.0550982  0.0636181  0.0583746     0.0595954  0.0552984  0.0617601\n",
       " 0.062011   0.064116   0.0638051     0.0607127  0.0550305  0.0633031\n",
       " 0.0558988  0.0612153  0.0646206     0.0580648  0.0597249  0.0656671\n",
       " 0.0602253  0.0667932  0.0605734     0.0579191  0.0599305  0.0598734\n",
       " 0.0639618  0.0660766  0.0601025  …  0.0567889  0.0649029  0.0650915\n",
       " 0.0567868  0.0581437  0.0651401     0.0586764  0.0594156  0.0612243\n",
       " 0.059051   0.0606247  0.0586552     0.0595772  0.0598184  0.0620313\n",
       " 0.0603934  0.0626254  0.064391      0.0563469  0.0597493  0.057657\n",
       " 0.0639277  0.0611612  0.056893      0.0576576  0.0585473  0.0604674\n",
       " 0.0602882  0.0617397  0.0584793  …  0.0628058  0.0564706  0.0634308\n",
       " 0.0641743  0.0622023  0.0633685     0.059619   0.0616409  0.0613314\n",
       " 0.0554469  0.0591781  0.0589024     1.0        0.059578   0.0618019\n",
       " 0.0615061  0.0682081  0.0581182     0.059578   1.0        0.060817\n",
       " 0.0568422  0.0606417  0.0614743     0.0618019  0.060817   1.0"
      ]
     },
     "execution_count": 24,
     "metadata": {},
     "output_type": "execute_result"
    }
   ],
   "source": [
    "vecd = Vector{DiscreteUnivariateDistribution}(undef, di)\n",
    "for i in 1:di\n",
    "    vecd[i] = Poisson(5.0)\n",
    "end\n",
    "nonmixed_multivariate_dist = NonMixedMultivariateDistribution(vecd, Γ_CS)\n",
    "\n",
    "Random.seed!(1234)\n",
    "@time Y_nsample = simulate_nobs_independent_vectors(nonmixed_multivariate_dist, samplesize)\n",
    "\n",
    "gcs = Vector{GLMCopulaCSObs{T, D, Link}}(undef, samplesize)\n",
    "for i in 1:samplesize\n",
    "    X = ones(di, 1)\n",
    "    y = Float64.(Y_nsample[i])\n",
    "    V = [Float64.(Matrix(I, di, di))]\n",
    "    gcs[i] = GLMCopulaCSObs(y, X, d, link)\n",
    "end\n",
    "\n",
    "# form model\n",
    "gcm = GLMCopulaCSModel(gcs);\n",
    "\n",
    "N = length(gcm.data)\n",
    "di = length(gcm.data[1].y)\n",
    "Y_CS = zeros(N, di)\n",
    "for j in 1:di\n",
    "    Y_CS[:, j] = [gcm.data[i].y[j] for i in 1:N]\n",
    "end\n",
    "empirical_cor_25 = StatsBase.cor(Y_CS)"
   ]
  },
  {
   "cell_type": "code",
   "execution_count": 25,
   "metadata": {},
   "outputs": [
    {
     "data": {
      "text/plain": [
       "0.06164383561643836"
      ]
     },
     "execution_count": 25,
     "metadata": {},
     "output_type": "execute_result"
    }
   ],
   "source": [
    "theoretical_rho_25_kurtosis = (ρtrue[1] * σ2true[1]) / (1 + ((di/2) * σ2true[1]) + (0.5 * (kt - 1) * σ2true[1]))"
   ]
  },
  {
   "cell_type": "code",
   "execution_count": 26,
   "metadata": {},
   "outputs": [
    {
     "data": {
      "text/plain": [
       "0.06127455295234851"
      ]
     },
     "execution_count": 26,
     "metadata": {},
     "output_type": "execute_result"
    }
   ],
   "source": [
    "mean_empirical_cor_25 = mean(GLMCopula.offdiag(empirical_cor_25))"
   ]
  },
  {
   "cell_type": "markdown",
   "metadata": {},
   "source": [
    "## simulate under GLMM CS di = 25 <a class=\"anchor\" id=\"ex3g\"></a>\n",
    "\n",
    "$d_i = 25$\n",
    "\n",
    "$\\lambda = 5, \\rho = 0.9, \\sigma^2 = 1.0$"
   ]
  },
  {
   "cell_type": "code",
   "execution_count": 27,
   "metadata": {},
   "outputs": [
    {
     "data": {
      "text/plain": [
       "25×25 Matrix{Float64}:\n",
       " 1.0       0.794896  0.79396   0.791151  …  0.7956    0.791991  0.79801\n",
       " 0.794896  1.0       0.795116  0.797399     0.803492  0.797091  0.790531\n",
       " 0.79396   0.795116  1.0       0.793622     0.799789  0.795092  0.794984\n",
       " 0.791151  0.797399  0.793622  1.0          0.798121  0.796452  0.794455\n",
       " 0.79591   0.798614  0.79625   0.797645     0.801769  0.793705  0.792677\n",
       " 0.796883  0.794082  0.79092   0.792924  …  0.797837  0.796791  0.79716\n",
       " 0.791098  0.790016  0.790738  0.790949     0.795933  0.79284   0.791257\n",
       " 0.793473  0.794692  0.796365  0.797031     0.793969  0.792996  0.794117\n",
       " 0.792762  0.796588  0.795166  0.793261     0.793599  0.788243  0.789603\n",
       " 0.791031  0.796464  0.793903  0.796603     0.795217  0.79615   0.795594\n",
       " 0.799324  0.796172  0.790406  0.79471   …  0.794893  0.793752  0.795172\n",
       " 0.791673  0.794959  0.793313  0.788509     0.795889  0.794092  0.791398\n",
       " 0.796811  0.79305   0.794413  0.796343     0.800754  0.797063  0.79923\n",
       " 0.790201  0.793111  0.790488  0.789311     0.798453  0.787848  0.79901\n",
       " 0.79035   0.795417  0.790664  0.793085     0.796242  0.797114  0.797443\n",
       " 0.793153  0.797528  0.791849  0.794972  …  0.795999  0.798829  0.793064\n",
       " 0.796958  0.793126  0.79655   0.794483     0.798659  0.798469  0.795688\n",
       " 0.797619  0.796191  0.796982  0.797639     0.799219  0.796731  0.801096\n",
       " 0.790084  0.797352  0.792283  0.796207     0.795451  0.790531  0.797288\n",
       " 0.791107  0.797203  0.79357   0.790092     0.799726  0.794676  0.791192\n",
       " 0.798957  0.802596  0.799465  0.794943  …  0.802966  0.797411  0.7979\n",
       " 0.787482  0.793214  0.793396  0.791405     0.793565  0.790342  0.791495\n",
       " 0.7956    0.803492  0.799789  0.798121     1.0       0.797744  0.800191\n",
       " 0.791991  0.797091  0.795092  0.796452     0.797744  1.0       0.796677\n",
       " 0.79801   0.790531  0.794984  0.794455     0.800191  0.796677  1.0"
      ]
     },
     "execution_count": 27,
     "metadata": {},
     "output_type": "execute_result"
    }
   ],
   "source": [
    "for i in 1:samplesize\n",
    "    X = ones(di, 1)\n",
    "    η = X * βtrue\n",
    "    # generate mvn response\n",
    "    mvn_d = MvNormal(η, Γ_CS)\n",
    "    mvn_η = rand(mvn_d)\n",
    "    μ = GLM.linkinv.(link, mvn_η)\n",
    "    y = Float64.(rand.(__get_distribution.(D, μ)))\n",
    "    gcs[i] = GLMCopulaCSObs(y, X, d, link)\n",
    "end\n",
    "\n",
    "# form model\n",
    "gcm = GLMCopulaCSModel(gcs);\n",
    "\n",
    "N = length(gcm.data)\n",
    "Y_CS = zeros(N, di)\n",
    "for j in 1:di\n",
    "    Y_CS[:, j] = [gcm.data[i].y[j] for i in 1:N]\n",
    "end\n",
    "empirical_cor_25_GLMM = StatsBase.cor(Y_CS)"
   ]
  },
  {
   "cell_type": "code",
   "execution_count": 28,
   "metadata": {},
   "outputs": [
    {
     "data": {
      "text/plain": [
       "0.7939346055300571"
      ]
     },
     "execution_count": 28,
     "metadata": {},
     "output_type": "execute_result"
    }
   ],
   "source": [
    "mean_empirical_cor_25_GLMM = mean(GLMCopula.offdiag(empirical_cor_25_GLMM))"
   ]
  },
  {
   "cell_type": "markdown",
   "metadata": {},
   "source": [
    "## Comparisons \n",
    "\n",
    "##  1. Theoretical vs. Empirical Correlation simulated under QC <a class=\"anchor\" id=\"ex4\"></a>\n",
    "\n",
    "### Takeaway: Quasi-Copula correlation IS a function of the di, kt, $\\rho$ and $\\sigma^2$\n",
    "\n",
    "The theoretical correlation is a function of $d_i, \\rho, \\sigma^2, kt(\\lambda)$\n",
    "\n",
    "$$Corr(Y_k, Y_l)\n",
    " = \\frac{\\rho * \\sigma^2}{1 + \\frac{1}{2} * \\sigma^2 * kt + \\frac{1}{2} * \\sigma^2 (d_i - 1)}$$\n",
    "\n",
    "We have $\\lambda = 5,$ thus we have kurtosis $kt = kt(\\lambda) = 3.2.$\n",
    "\n",
    "Let's see what happens to the theoretical/empirical correlation when we fix $\\rho = 0.9, \\sigma^2 = 1.0$ and range cluster sizes $d_i$\n",
    "\n",
    "$$Corr(Y_k, Y_l)\n",
    " = \\frac{0.9}{1 + \\frac{1}{2} * 3.2 + \\frac{1}{2} * (d_i - 1)} =  \\frac{0.9}{1 + \\frac{1}{2} * (d_i + 2.2)} $$\n"
   ]
  },
  {
   "cell_type": "code",
   "execution_count": 29,
   "metadata": {},
   "outputs": [
    {
     "data": {
      "text/plain": [
       "1×2 Matrix{Float64}:\n",
       " 0.290323  0.285195"
      ]
     },
     "execution_count": 29,
     "metadata": {},
     "output_type": "execute_result"
    }
   ],
   "source": [
    "# di = 2\n",
    "[theoretical_rho_2_kurtosis mean_empirical_cor_2]"
   ]
  },
  {
   "cell_type": "code",
   "execution_count": 30,
   "metadata": {},
   "outputs": [
    {
     "data": {
      "text/plain": [
       "1×2 Matrix{Float64}:\n",
       " 0.195652  0.195025"
      ]
     },
     "execution_count": 30,
     "metadata": {},
     "output_type": "execute_result"
    }
   ],
   "source": [
    "# di = 5\n",
    "[theoretical_rho_5_kurtosis mean_empirical_cor_5]"
   ]
  },
  {
   "cell_type": "code",
   "execution_count": 31,
   "metadata": {},
   "outputs": [
    {
     "data": {
      "text/plain": [
       "1×2 Matrix{Float64}:\n",
       " 0.126761  0.126407"
      ]
     },
     "execution_count": 31,
     "metadata": {},
     "output_type": "execute_result"
    }
   ],
   "source": [
    "# di = 10\n",
    "[theoretical_rho_10_kurtosis mean_empirical_cor_10]"
   ]
  },
  {
   "cell_type": "code",
   "execution_count": 32,
   "metadata": {},
   "outputs": [
    {
     "data": {
      "text/plain": [
       "1×2 Matrix{Float64}:\n",
       " 0.0616438  0.0612746"
      ]
     },
     "execution_count": 32,
     "metadata": {},
     "output_type": "execute_result"
    }
   ],
   "source": [
    "# di = 25\n",
    "[theoretical_rho_25_kurtosis mean_empirical_cor_25]"
   ]
  },
  {
   "cell_type": "markdown",
   "metadata": {},
   "source": [
    "##  2. Empirical Correlation simulated under GLMM<a class=\"anchor\" id=\"ex4g\"></a>\n",
    "\n",
    "### Takeaway: GLMM correlation is NOT a function of the cluster size (Only a function of $\\rho$ and $\\sigma^2)$"
   ]
  },
  {
   "cell_type": "code",
   "execution_count": 33,
   "metadata": {},
   "outputs": [
    {
     "data": {
      "text/plain": [
       "0.7984547527377245"
      ]
     },
     "execution_count": 33,
     "metadata": {},
     "output_type": "execute_result"
    }
   ],
   "source": [
    "# glmm correlation di = 2 \n",
    "mean_empirical_cor_2_GLMM"
   ]
  },
  {
   "cell_type": "code",
   "execution_count": 34,
   "metadata": {},
   "outputs": [
    {
     "data": {
      "text/plain": [
       "0.7909588752324979"
      ]
     },
     "execution_count": 34,
     "metadata": {},
     "output_type": "execute_result"
    }
   ],
   "source": [
    "# glmm correlation di = 5 \n",
    "mean_empirical_cor_5_GLMM"
   ]
  },
  {
   "cell_type": "code",
   "execution_count": 35,
   "metadata": {},
   "outputs": [
    {
     "data": {
      "text/plain": [
       "0.7931953599572975"
      ]
     },
     "execution_count": 35,
     "metadata": {},
     "output_type": "execute_result"
    }
   ],
   "source": [
    "# glmm correlation di = 10\n",
    "mean_empirical_cor_10_GLMM"
   ]
  },
  {
   "cell_type": "code",
   "execution_count": 36,
   "metadata": {},
   "outputs": [
    {
     "data": {
      "text/plain": [
       "0.7939346055300571"
      ]
     },
     "execution_count": 36,
     "metadata": {},
     "output_type": "execute_result"
    }
   ],
   "source": [
    "# glmm correlation di = 25\n",
    "mean_empirical_cor_25_GLMM"
   ]
  }
 ],
 "metadata": {
  "@webio": {
   "lastCommId": null,
   "lastKernelId": null
  },
  "kernelspec": {
   "display_name": "Julia 1.6.2",
   "language": "julia",
   "name": "julia-1.6"
  },
  "language_info": {
   "file_extension": ".jl",
   "mimetype": "application/julia",
   "name": "julia",
   "version": "1.6.2"
  }
 },
 "nbformat": 4,
 "nbformat_minor": 4
}
