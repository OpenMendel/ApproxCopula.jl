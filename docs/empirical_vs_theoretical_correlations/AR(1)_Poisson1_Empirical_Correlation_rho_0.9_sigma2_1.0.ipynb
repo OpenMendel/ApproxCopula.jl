{
 "cells": [
  {
   "cell_type": "markdown",
   "metadata": {},
   "source": [
    "# Poisson(1) with AR(1) rho = 0.9, sigma2 = 1.0\n",
    "\n",
    "For Poisson Base with $\\lambda = 1$, with the correlation $\\rho = 0.9, \\sigma^2 = 1.0,$\n",
    "\n",
    "The theoretical correlation is a function of $d_i, \\rho, \\sigma^2, kt$\n",
    "\n",
    "$$Corr(Y_1, Y_2)\n",
    " = \\frac{\\rho * \\sigma^2}{1 + \\frac{1}{2} * \\sigma^2 * kt + \\frac{1}{2} * \\sigma^2 (d_i - 1)}$$\n",
    "\n",
    "We have $\\lambda = 1,$ thus we have kurtosis $kt = kt(\\lambda) = 4.0.$\n",
    "\n",
    "Let's see what happens to the theoretical/empirical correlation when we fix $\\rho = 0.9, \\sigma^2 = 1.0$ and range cluster sizes $d_i$\n",
    "\n",
    "$$Corr(Y_1, Y_2)\n",
    " = \\frac{0.9}{1 + \\frac{1}{2} * 4.0 + \\frac{1}{2} * (d_i - 1)} =  \\frac{0.9}{1 + \\frac{1}{2} * (d_i + 3)} $$\n",
    "\n",
    "# We will show:\n",
    "    1) Simulating under QC model, the theoretical and empirical correlation IS a function of cluster sizes di\n",
    "\n",
    "    2) Simulating under GLMM, the theoretical and empirical correlation is NOT function of cluster sizes di\n",
    "    \n",
    "\n",
    "## TOC:\n",
    "\n",
    "# di = 2\n",
    "* [AR(1) di = 2](#ex0)\n",
    "* [simulate under GLMM AR(1) di = 2](#ex0g)\n",
    "\n",
    "# di = 5\n",
    "* [AR(1) di = 5](#ex1)\n",
    "* [simulate under GLMM AR(1) di = 5](#ex1g)\n",
    "\n",
    "# di = 10 \n",
    "* [AR(1) di = 10](#ex2)\n",
    "* [simulate under GLMM AR(1) di = 10](#ex2g)\n",
    "\n",
    "# di = 25\n",
    "* [AR(1) di = 25](#ex3)\n",
    "* [simulate under GLMM AR(1) di = 25](#ex3g)\n",
    "\n",
    "# Comparisons\n",
    "* [Theoretical vs. Empirical Correlation Simulated under QC](#ex4)\n",
    "* [Empirical Correlation Simulated under GLMM](#ex4g)"
   ]
  },
  {
   "cell_type": "code",
   "execution_count": 1,
   "metadata": {},
   "outputs": [],
   "source": [
    "using GLMCopula, DelimitedFiles, LinearAlgebra, Random, GLM, MixedModels, CategoricalArrays\n",
    "using Random, Roots, SpecialFunctions, StatsBase\n",
    "using DataFrames, DelimitedFiles, Statistics, ToeplitzMatrices\n",
    "import StatsBase: sem"
   ]
  },
  {
   "cell_type": "code",
   "execution_count": 2,
   "metadata": {},
   "outputs": [
    {
     "data": {
      "text/plain": [
       "get_V_AR (generic function with 1 method)"
      ]
     },
     "execution_count": 2,
     "metadata": {},
     "output_type": "execute_result"
    }
   ],
   "source": [
    "function get_V_AR(ρ, n)\n",
    "    vec = zeros(n)\n",
    "    vec[1] = 1.0\n",
    "    for i in 2:n\n",
    "        vec[i] = vec[i - 1] * ρ\n",
    "    end\n",
    "    V = ToeplitzMatrices.SymmetricToeplitz(vec)\n",
    "    V\n",
    "end"
   ]
  },
  {
   "cell_type": "code",
   "execution_count": 3,
   "metadata": {},
   "outputs": [
    {
     "data": {
      "text/plain": [
       "Float64"
      ]
     },
     "execution_count": 3,
     "metadata": {},
     "output_type": "execute_result"
    }
   ],
   "source": [
    "# true parameter values\n",
    "lambda = [1.0]\n",
    "βtrue = [log(lambda[1])]\n",
    "σ2true = [1.0]\n",
    "ρtrue = [0.9]\n",
    "\n",
    "samplesize = 100000 # number of sampling units\n",
    "\n",
    "d = Poisson()\n",
    "link = LogLink()\n",
    "D = typeof(d)\n",
    "Link = typeof(link)\n",
    "T = Float64"
   ]
  },
  {
   "cell_type": "markdown",
   "metadata": {},
   "source": [
    "# Kurtosis of each Poisson(1) base distribution is 4.0\n",
    "\n",
    "We have $\\lambda = 1,$ thus we have kurtosis $kt = kt(\\lambda) = 4.0.$\n",
    "\n",
    "Let's see what happens to the theoretical/empirical correlations when we fix $\\rho = 0.9, \\sigma^2 = 1.0, kt = 4.0$ and range cluster sizes $d_i$"
   ]
  },
  {
   "cell_type": "code",
   "execution_count": 4,
   "metadata": {},
   "outputs": [
    {
     "data": {
      "text/plain": [
       "(1.0, 1.0, 1.0, 4.0)"
      ]
     },
     "execution_count": 4,
     "metadata": {},
     "output_type": "execute_result"
    }
   ],
   "source": [
    "d = Poisson(lambda[1])\n",
    "μ, σ², sk, kt = mean(d), var(d), skewness(d), kurtosis(d, false)"
   ]
  },
  {
   "cell_type": "markdown",
   "metadata": {},
   "source": [
    "## AR(1) di = 2 <a class=\"anchor\" id=\"ex0\"></a>\n",
    "\n",
    "$d_i = 2$\n",
    "\n",
    "$\\lambda = 1, \\rho = 0.9, \\sigma^2 = 1.0$"
   ]
  },
  {
   "cell_type": "code",
   "execution_count": 5,
   "metadata": {},
   "outputs": [
    {
     "data": {
      "text/plain": [
       "2×2 Matrix{Float64}:\n",
       " 1.0  0.9\n",
       " 0.9  1.0"
      ]
     },
     "execution_count": 5,
     "metadata": {},
     "output_type": "execute_result"
    }
   ],
   "source": [
    "di = 2 # number of observations per cluster\n",
    "V_AR = get_V_AR(ρtrue[1], di)\n",
    "\n",
    "# true Gamma\n",
    "Γ_AR = σ2true[1] * V_AR"
   ]
  },
  {
   "cell_type": "code",
   "execution_count": 6,
   "metadata": {},
   "outputs": [
    {
     "name": "stdout",
     "output_type": "stream",
     "text": [
      "  1.227417 seconds (5.64 M allocations: 517.991 MiB, 11.89% gc time, 53.20% compilation time)\n"
     ]
    },
    {
     "data": {
      "text/plain": [
       "2×2 Matrix{Float64}:\n",
       " 1.0       0.230281\n",
       " 0.230281  1.0"
      ]
     },
     "execution_count": 6,
     "metadata": {},
     "output_type": "execute_result"
    }
   ],
   "source": [
    "vecd = Vector{DiscreteUnivariateDistribution}(undef, di)\n",
    "for i in 1:di\n",
    "    vecd[i] = Poisson(lambda[1])\n",
    "end\n",
    "nonmixed_multivariate_dist = NonMixedMultivariateDistribution(vecd, Γ_AR)\n",
    "\n",
    "Random.seed!(12345)\n",
    "@time Y_nsample = simulate_nobs_independent_vectors(nonmixed_multivariate_dist, samplesize)\n",
    "\n",
    "gcs = Vector{GLMCopulaARObs{T, D, Link}}(undef, samplesize)\n",
    "for i in 1:samplesize\n",
    "    X = ones(di, 1)\n",
    "    y = Float64.(Y_nsample[i])\n",
    "    V = [ones(di, di)]\n",
    "    gcs[i] = GLMCopulaARObs(y, X, d, link)\n",
    "end\n",
    "\n",
    "# form model\n",
    "gcm = GLMCopulaARModel(gcs);\n",
    "\n",
    "N = length(gcm.data)\n",
    "Y_AR = zeros(N, di)\n",
    "for j in 1:di\n",
    "    Y_AR[:, j] = [gcm.data[i].y[j] for i in 1:N]\n",
    "end\n",
    "empirical_cor_2 = StatsBase.cor(Y_AR)"
   ]
  },
  {
   "cell_type": "code",
   "execution_count": 7,
   "metadata": {},
   "outputs": [
    {
     "data": {
      "text/plain": [
       "0.23028050600548225"
      ]
     },
     "execution_count": 7,
     "metadata": {},
     "output_type": "execute_result"
    }
   ],
   "source": [
    "empirical_cor_2[1, 2]"
   ]
  },
  {
   "cell_type": "code",
   "execution_count": 8,
   "metadata": {},
   "outputs": [
    {
     "data": {
      "text/plain": [
       "0.2571428571428572"
      ]
     },
     "execution_count": 8,
     "metadata": {},
     "output_type": "execute_result"
    }
   ],
   "source": [
    "theoretical_rho_2_kurtosis = (ρtrue[1] * σ2true[1]) / (1 + ((di/2) * σ2true[1]) + (0.5 * (kt - 1) * σ2true[1]))"
   ]
  },
  {
   "cell_type": "markdown",
   "metadata": {},
   "source": [
    "## simulate under GLMM AR(1) di = 2 <a class=\"anchor\" id=\"ex0g\"></a>\n",
    "\n",
    "$d_i = 2$\n",
    "\n",
    "$\\lambda = 1, \\rho = 0.9, \\sigma^2 = 1.0$"
   ]
  },
  {
   "cell_type": "code",
   "execution_count": 9,
   "metadata": {},
   "outputs": [
    {
     "data": {
      "text/plain": [
       "2×2 Matrix{Float64}:\n",
       " 1.0       0.631196\n",
       " 0.631196  1.0"
      ]
     },
     "execution_count": 9,
     "metadata": {},
     "output_type": "execute_result"
    }
   ],
   "source": [
    "function __get_distribution(dist::Type{D}, μ) where D <: UnivariateDistribution\n",
    "    return dist(μ)\n",
    "end\n",
    "\n",
    "for i in 1:samplesize\n",
    "    X = ones(di, 1)\n",
    "    η = X * βtrue\n",
    "    # generate mvn response\n",
    "    mvn_d = MvNormal(η, Γ_AR)\n",
    "    mvn_η = rand(mvn_d)\n",
    "    μ = GLM.linkinv.(link, mvn_η)\n",
    "    y = Float64.(rand.(__get_distribution.(D, μ)))\n",
    "    gcs[i] = GLMCopulaARObs(y, X, d, link)\n",
    "end\n",
    "\n",
    "# form model\n",
    "gcm = GLMCopulaARModel(gcs);\n",
    "\n",
    "N = length(gcm.data)\n",
    "Y_AR = zeros(N, di)\n",
    "for j in 1:di\n",
    "    Y_AR[:, j] = [gcm.data[i].y[j] for i in 1:N]\n",
    "end\n",
    "empirical_cor_2_GLMM = StatsBase.cor(Y_AR)"
   ]
  },
  {
   "cell_type": "markdown",
   "metadata": {},
   "source": [
    "## AR(1) di = 5 <a class=\"anchor\" id=\"ex1\"></a>\n",
    "\n",
    "$d_i = 5$\n",
    "\n",
    "$\\lambda = 1, \\rho = 0.9, \\sigma^2 = 1.0$"
   ]
  },
  {
   "cell_type": "code",
   "execution_count": 10,
   "metadata": {},
   "outputs": [
    {
     "data": {
      "text/plain": [
       "5×5 Matrix{Float64}:\n",
       " 1.0     0.9    0.81  0.729  0.6561\n",
       " 0.9     1.0    0.9   0.81   0.729\n",
       " 0.81    0.9    1.0   0.9    0.81\n",
       " 0.729   0.81   0.9   1.0    0.9\n",
       " 0.6561  0.729  0.81  0.9    1.0"
      ]
     },
     "execution_count": 10,
     "metadata": {},
     "output_type": "execute_result"
    }
   ],
   "source": [
    "di = 5 # number of observations per cluster\n",
    "V_AR = get_V_AR(ρtrue[1], di)\n",
    "\n",
    "# true Gamma\n",
    "Γ_AR = σ2true[1] * V_AR"
   ]
  },
  {
   "cell_type": "code",
   "execution_count": 11,
   "metadata": {},
   "outputs": [
    {
     "name": "stdout",
     "output_type": "stream",
     "text": [
      "  2.079530 seconds (9.00 M allocations: 1.031 GiB, 29.32% gc time)\n"
     ]
    },
    {
     "data": {
      "text/plain": [
       "5×5 Matrix{Float64}:\n",
       " 1.0       0.167854  0.14656   0.134947  0.116821\n",
       " 0.167854  1.0       0.15873   0.148804  0.134362\n",
       " 0.14656   0.15873   1.0       0.167016  0.154419\n",
       " 0.134947  0.148804  0.167016  1.0       0.16876\n",
       " 0.116821  0.134362  0.154419  0.16876   1.0"
      ]
     },
     "execution_count": 11,
     "metadata": {},
     "output_type": "execute_result"
    }
   ],
   "source": [
    "vecd = Vector{DiscreteUnivariateDistribution}(undef, di)\n",
    "for i in 1:di\n",
    "    vecd[i] = Poisson(lambda[1])\n",
    "end\n",
    "nonmixed_multivariate_dist = NonMixedMultivariateDistribution(vecd, Γ_AR)\n",
    "\n",
    "Random.seed!(12345)\n",
    "@time Y_nsample = simulate_nobs_independent_vectors(nonmixed_multivariate_dist, samplesize)\n",
    "\n",
    "gcs = Vector{GLMCopulaARObs{T, D, Link}}(undef, samplesize)\n",
    "for i in 1:samplesize\n",
    "    X = ones(di, 1)\n",
    "    y = Float64.(Y_nsample[i])\n",
    "    V = [ones(di, di)]\n",
    "    gcs[i] = GLMCopulaARObs(y, X, d, link)\n",
    "end\n",
    "\n",
    "# form model\n",
    "gcm = GLMCopulaARModel(gcs);\n",
    "\n",
    "N = length(gcm.data)\n",
    "Y_AR = zeros(N, di)\n",
    "for j in 1:di\n",
    "    Y_AR[:, j] = [gcm.data[i].y[j] for i in 1:N]\n",
    "end\n",
    "empirical_cor_5 = StatsBase.cor(Y_AR)"
   ]
  },
  {
   "cell_type": "code",
   "execution_count": 12,
   "metadata": {},
   "outputs": [
    {
     "data": {
      "text/plain": [
       "0.16785355920857664"
      ]
     },
     "execution_count": 12,
     "metadata": {},
     "output_type": "execute_result"
    }
   ],
   "source": [
    "empirical_cor_5[1, 2]"
   ]
  },
  {
   "cell_type": "code",
   "execution_count": 13,
   "metadata": {},
   "outputs": [
    {
     "data": {
      "text/plain": [
       "0.18"
      ]
     },
     "execution_count": 13,
     "metadata": {},
     "output_type": "execute_result"
    }
   ],
   "source": [
    "theoretical_rho_5_kurtosis = (ρtrue[1] * σ2true[1]) / (1 + ((di/2) * σ2true[1]) + (0.5 * (kt - 1) * σ2true[1]))"
   ]
  },
  {
   "cell_type": "markdown",
   "metadata": {},
   "source": [
    "## simulate under GLMM AR(1) di = 5 <a class=\"anchor\" id=\"ex1g\"></a>\n",
    "\n",
    "$d_i = 5$\n",
    "\n",
    "$\\lambda = 1, \\rho = 0.9, \\sigma^2 = 1.0$"
   ]
  },
  {
   "cell_type": "code",
   "execution_count": 14,
   "metadata": {},
   "outputs": [
    {
     "data": {
      "text/plain": [
       "5×5 Matrix{Float64}:\n",
       " 1.0       0.62035   0.541901  0.466411  0.407169\n",
       " 0.62035   1.0       0.641879  0.543301  0.483319\n",
       " 0.541901  0.641879  1.0       0.63027   0.546723\n",
       " 0.466411  0.543301  0.63027   1.0       0.63731\n",
       " 0.407169  0.483319  0.546723  0.63731   1.0"
      ]
     },
     "execution_count": 14,
     "metadata": {},
     "output_type": "execute_result"
    }
   ],
   "source": [
    "for i in 1:samplesize\n",
    "    X = ones(di, 1)\n",
    "    η = X * βtrue\n",
    "    # generate mvn response\n",
    "    mvn_d = MvNormal(η, Γ_AR)\n",
    "    mvn_η = rand(mvn_d)\n",
    "    μ = GLM.linkinv.(link, mvn_η)\n",
    "    y = Float64.(rand.(__get_distribution.(D, μ)))\n",
    "    gcs[i] = GLMCopulaARObs(y, X, d, link)\n",
    "end\n",
    "\n",
    "# form model\n",
    "gcm = GLMCopulaARModel(gcs);\n",
    "\n",
    "N = length(gcm.data)\n",
    "Y_AR = zeros(N, di)\n",
    "for j in 1:di\n",
    "    Y_AR[:, j] = [gcm.data[i].y[j] for i in 1:N]\n",
    "end\n",
    "empirical_cor_5_GLMM = StatsBase.cor(Y_AR)"
   ]
  },
  {
   "cell_type": "markdown",
   "metadata": {},
   "source": [
    "## AR(1) di = 10 <a class=\"anchor\" id=\"ex2\"></a>\n",
    "\n",
    "$d_i = 10$\n",
    "\n",
    "$\\lambda = 1, \\rho = 0.9, \\sigma^2 = 1.0$"
   ]
  },
  {
   "cell_type": "code",
   "execution_count": 15,
   "metadata": {},
   "outputs": [
    {
     "data": {
      "text/plain": [
       "10×10 Matrix{Float64}:\n",
       " 1.0       0.9       0.81      0.729     …  0.478297  0.430467  0.38742\n",
       " 0.9       1.0       0.9       0.81         0.531441  0.478297  0.430467\n",
       " 0.81      0.9       1.0       0.9          0.59049   0.531441  0.478297\n",
       " 0.729     0.81      0.9       1.0          0.6561    0.59049   0.531441\n",
       " 0.6561    0.729     0.81      0.9          0.729     0.6561    0.59049\n",
       " 0.59049   0.6561    0.729     0.81      …  0.81      0.729     0.6561\n",
       " 0.531441  0.59049   0.6561    0.729        0.9       0.81      0.729\n",
       " 0.478297  0.531441  0.59049   0.6561       1.0       0.9       0.81\n",
       " 0.430467  0.478297  0.531441  0.59049      0.9       1.0       0.9\n",
       " 0.38742   0.430467  0.478297  0.531441     0.81      0.9       1.0"
      ]
     },
     "execution_count": 15,
     "metadata": {},
     "output_type": "execute_result"
    }
   ],
   "source": [
    "di = 10 # number of observations per cluster\n",
    "V_AR = get_V_AR(ρtrue[1], di)\n",
    "\n",
    "# true Gamma\n",
    "Γ_AR = σ2true[1] * V_AR"
   ]
  },
  {
   "cell_type": "code",
   "execution_count": 16,
   "metadata": {},
   "outputs": [
    {
     "name": "stdout",
     "output_type": "stream",
     "text": [
      "  3.940578 seconds (17.50 M allocations: 2.481 GiB, 26.05% gc time)\n"
     ]
    },
    {
     "data": {
      "text/plain": [
       "10×10 Matrix{Float64}:\n",
       " 1.0        0.119132   0.0978651  …  0.0552739  0.0560218  0.0372989\n",
       " 0.119132   1.0        0.109722      0.0622919  0.0526199  0.0504044\n",
       " 0.0978651  0.109722   1.0           0.071372   0.0659333  0.0612759\n",
       " 0.0970557  0.100328   0.11962       0.080774   0.0718045  0.0615755\n",
       " 0.0822284  0.091394   0.10549       0.0909923  0.0845213  0.0754962\n",
       " 0.0712477  0.0811701  0.0937914  …  0.104688   0.0905186  0.0814601\n",
       " 0.0615431  0.0723195  0.0827933     0.106277   0.103138   0.0987854\n",
       " 0.0552739  0.0622919  0.071372      1.0        0.111207   0.105609\n",
       " 0.0560218  0.0526199  0.0659333     0.111207   1.0        0.113012\n",
       " 0.0372989  0.0504044  0.0612759     0.105609   0.113012   1.0"
      ]
     },
     "execution_count": 16,
     "metadata": {},
     "output_type": "execute_result"
    }
   ],
   "source": [
    "vecd = Vector{DiscreteUnivariateDistribution}(undef, di)\n",
    "for i in 1:di\n",
    "    vecd[i] = Poisson(lambda[1])\n",
    "end\n",
    "nonmixed_multivariate_dist = NonMixedMultivariateDistribution(vecd, Γ_AR)\n",
    "\n",
    "Random.seed!(12345)\n",
    "@time Y_nsample = simulate_nobs_independent_vectors(nonmixed_multivariate_dist, samplesize)\n",
    "\n",
    "gcs = Vector{GLMCopulaARObs{T, D, Link}}(undef, samplesize)\n",
    "for i in 1:samplesize\n",
    "    X = ones(di, 1)\n",
    "    y = Float64.(Y_nsample[i])\n",
    "    V = [ones(di, di)]\n",
    "    gcs[i] = GLMCopulaARObs(y, X, d, link)\n",
    "end\n",
    "\n",
    "# form model\n",
    "gcm = GLMCopulaARModel(gcs);\n",
    "\n",
    "N = length(gcm.data)\n",
    "Y_AR = zeros(N, di)\n",
    "for j in 1:di\n",
    "    Y_AR[:, j] = [gcm.data[i].y[j] for i in 1:N]\n",
    "end\n",
    "empirical_cor_10 = StatsBase.cor(Y_AR)"
   ]
  },
  {
   "cell_type": "code",
   "execution_count": 17,
   "metadata": {},
   "outputs": [
    {
     "data": {
      "text/plain": [
       "0.11913180856400937"
      ]
     },
     "execution_count": 17,
     "metadata": {},
     "output_type": "execute_result"
    }
   ],
   "source": [
    "empirical_cor_10[1, 2]"
   ]
  },
  {
   "cell_type": "code",
   "execution_count": 18,
   "metadata": {},
   "outputs": [
    {
     "data": {
      "text/plain": [
       "0.12000000000000001"
      ]
     },
     "execution_count": 18,
     "metadata": {},
     "output_type": "execute_result"
    }
   ],
   "source": [
    "theoretical_rho_10_kurtosis = (ρtrue[1] * σ2true[1]) / (1 + ((di/2) * σ2true[1]) + (0.5 * (kt - 1) * σ2true[1]))"
   ]
  },
  {
   "cell_type": "markdown",
   "metadata": {},
   "source": [
    "## simulate under GLMM AR(1) di = 10 <a class=\"anchor\" id=\"ex2g\"></a>\n",
    "\n",
    "$d_i = 10$\n",
    "\n",
    "$\\lambda = 1, \\rho = 0.9, \\sigma^2 = 1.0$"
   ]
  },
  {
   "cell_type": "code",
   "execution_count": 19,
   "metadata": {},
   "outputs": [
    {
     "data": {
      "text/plain": [
       "10×10 Matrix{Float64}:\n",
       " 1.0       0.614001  0.531542  0.453661  …  0.271462  0.235331  0.201705\n",
       " 0.614001  1.0       0.613227  0.525969     0.306441  0.269341  0.228206\n",
       " 0.531542  0.613227  1.0       0.626663     0.349248  0.303113  0.259055\n",
       " 0.453661  0.525969  0.626663  1.0          0.402216  0.349634  0.303411\n",
       " 0.391184  0.447306  0.527552  0.616197     0.464395  0.401158  0.344439\n",
       " 0.339693  0.38934   0.447763  0.525772  …  0.532263  0.457397  0.394042\n",
       " 0.301549  0.340743  0.394943  0.456062     0.62656   0.53093   0.457262\n",
       " 0.271462  0.306441  0.349248  0.402216     1.0       0.622138  0.537588\n",
       " 0.235331  0.269341  0.303113  0.349634     0.622138  1.0       0.623448\n",
       " 0.201705  0.228206  0.259055  0.303411     0.537588  0.623448  1.0"
      ]
     },
     "execution_count": 19,
     "metadata": {},
     "output_type": "execute_result"
    }
   ],
   "source": [
    "for i in 1:samplesize\n",
    "    X = ones(di, 1)\n",
    "    η = X * βtrue\n",
    "    # generate mvn response\n",
    "    mvn_d = MvNormal(η, Γ_AR)\n",
    "    mvn_η = rand(mvn_d)\n",
    "    μ = GLM.linkinv.(link, mvn_η)\n",
    "    y = Float64.(rand.(__get_distribution.(D, μ)))\n",
    "    gcs[i] = GLMCopulaARObs(y, X, d, link)\n",
    "end\n",
    "\n",
    "# form model\n",
    "gcm = GLMCopulaARModel(gcs);\n",
    "\n",
    "N = length(gcm.data)\n",
    "Y_AR = zeros(N, di)\n",
    "for j in 1:di\n",
    "    Y_AR[:, j] = [gcm.data[i].y[j] for i in 1:N]\n",
    "end\n",
    "empirical_cor_10_GLMM = StatsBase.cor(Y_AR)"
   ]
  },
  {
   "cell_type": "markdown",
   "metadata": {},
   "source": [
    "## AR(1) di = 25 <a class=\"anchor\" id=\"ex3\"></a>\n",
    "\n",
    "$d_i = 25$\n",
    "\n",
    "$\\lambda = 1, \\rho = 1.0, \\sigma^2 = 1.0$"
   ]
  },
  {
   "cell_type": "code",
   "execution_count": 20,
   "metadata": {},
   "outputs": [
    {
     "data": {
      "text/plain": [
       "25×25 Matrix{Float64}:\n",
       " 1.0        0.9        0.81       …  0.0984771  0.0886294  0.0797664\n",
       " 0.9        1.0        0.9           0.109419   0.0984771  0.0886294\n",
       " 0.81       0.9        1.0           0.121577   0.109419   0.0984771\n",
       " 0.729      0.81       0.9           0.135085   0.121577   0.109419\n",
       " 0.6561     0.729      0.81          0.150095   0.135085   0.121577\n",
       " 0.59049    0.6561     0.729      …  0.166772   0.150095   0.135085\n",
       " 0.531441   0.59049    0.6561        0.185302   0.166772   0.150095\n",
       " 0.478297   0.531441   0.59049       0.205891   0.185302   0.166772\n",
       " 0.430467   0.478297   0.531441      0.228768   0.205891   0.185302\n",
       " 0.38742    0.430467   0.478297      0.254187   0.228768   0.205891\n",
       " 0.348678   0.38742    0.430467   …  0.28243    0.254187   0.228768\n",
       " 0.313811   0.348678   0.38742       0.313811   0.28243    0.254187\n",
       " 0.28243    0.313811   0.348678      0.348678   0.313811   0.28243\n",
       " 0.254187   0.28243    0.313811      0.38742    0.348678   0.313811\n",
       " 0.228768   0.254187   0.28243       0.430467   0.38742    0.348678\n",
       " 0.205891   0.228768   0.254187   …  0.478297   0.430467   0.38742\n",
       " 0.185302   0.205891   0.228768      0.531441   0.478297   0.430467\n",
       " 0.166772   0.185302   0.205891      0.59049    0.531441   0.478297\n",
       " 0.150095   0.166772   0.185302      0.6561     0.59049    0.531441\n",
       " 0.135085   0.150095   0.166772      0.729      0.6561     0.59049\n",
       " 0.121577   0.135085   0.150095   …  0.81       0.729      0.6561\n",
       " 0.109419   0.121577   0.135085      0.9        0.81       0.729\n",
       " 0.0984771  0.109419   0.121577      1.0        0.9        0.81\n",
       " 0.0886294  0.0984771  0.109419      0.9        1.0        0.9\n",
       " 0.0797664  0.0886294  0.0984771     0.81       0.9        1.0"
      ]
     },
     "execution_count": 20,
     "metadata": {},
     "output_type": "execute_result"
    }
   ],
   "source": [
    "di = 25 # number of observations per cluster\n",
    "V_AR = get_V_AR(ρtrue[1], di)\n",
    "\n",
    "# true Gamma\n",
    "Γ_AR = σ2true[1] * V_AR"
   ]
  },
  {
   "cell_type": "code",
   "execution_count": 21,
   "metadata": {},
   "outputs": [
    {
     "name": "stdout",
     "output_type": "stream",
     "text": [
      " 13.100701 seconds (43.00 M allocations: 13.301 GiB, 24.14% gc time)\n"
     ]
    },
    {
     "data": {
      "text/plain": [
       "25×25 Matrix{Float64}:\n",
       " 1.0          0.0580281    0.0501365   …  0.00543746  0.00723569  0.0104024\n",
       " 0.0580281    1.0          0.0553744      0.00630731  0.00103864  0.00665421\n",
       " 0.0501365    0.0553744    1.0            0.00505777  0.00390679  0.00933252\n",
       " 0.0441159    0.0544735    0.0542332      0.00410151  0.00604732  0.00673261\n",
       " 0.0473615    0.0496608    0.0489248      0.0113963   0.00795998  0.00666845\n",
       " 0.0398135    0.041681     0.0484749   …  0.00973893  0.00841461  0.00594014\n",
       " 0.0308896    0.0399504    0.04008        0.00965495  0.00858988  0.00764117\n",
       " 0.0300046    0.0337341    0.0368247      0.0149883   0.0111576   0.00766259\n",
       " 0.0283822    0.0328022    0.0269309      0.0145076   0.0130394   0.00920751\n",
       " 0.022914     0.0238827    0.0274403      0.0116083   0.0128386   0.00755216\n",
       " 0.0199885    0.0241264    0.0271682   …  0.0175401   0.0172671   0.00995768\n",
       " 0.0239559    0.021748     0.026265       0.0201211   0.0187431   0.0128662\n",
       " 0.0158394    0.0210431    0.0198442      0.021745    0.0225802   0.0234927\n",
       " 0.0196481    0.0215359    0.0225733      0.0307834   0.0218422   0.0181096\n",
       " 0.00898976   0.0128196    0.0148547      0.0310092   0.0222733   0.019893\n",
       " 0.0135906    0.0123666    0.0124043   …  0.0309609   0.0256593   0.0238091\n",
       " 0.00986138   0.0156373    0.0115086      0.0360201   0.030177    0.0219431\n",
       " 0.00847416   0.0152468    0.0134129      0.0360491   0.0311209   0.0305692\n",
       " 0.00891564   0.0156229    0.0126942      0.0393012   0.0358683   0.0295982\n",
       " 0.0109465    0.00841108   0.010988       0.0493739   0.0393587   0.038406\n",
       " 0.00409312   0.00572427   0.0026071   …  0.054931    0.0436248   0.0419327\n",
       " 0.00831773  -0.000494153  0.00574546     0.0512207   0.0539864   0.0517932\n",
       " 0.00543746   0.00630731   0.00505777     1.0         0.0602595   0.0543654\n",
       " 0.00723569   0.00103864   0.00390679     0.0602595   1.0         0.0595222\n",
       " 0.0104024    0.00665421   0.00933252     0.0543654   0.0595222   1.0"
      ]
     },
     "execution_count": 21,
     "metadata": {},
     "output_type": "execute_result"
    }
   ],
   "source": [
    "vecd = Vector{DiscreteUnivariateDistribution}(undef, di)\n",
    "for i in 1:di\n",
    "    vecd[i] = Poisson(lambda[1])\n",
    "end\n",
    "nonmixed_multivariate_dist = NonMixedMultivariateDistribution(vecd, Γ_AR)\n",
    "\n",
    "Random.seed!(12345)\n",
    "@time Y_nsample = simulate_nobs_independent_vectors(nonmixed_multivariate_dist, samplesize)\n",
    "\n",
    "gcs = Vector{GLMCopulaARObs{T, D, Link}}(undef, samplesize)\n",
    "for i in 1:samplesize\n",
    "    X = ones(di, 1)\n",
    "    y = Float64.(Y_nsample[i])\n",
    "    V = [ones(di, di)]\n",
    "    gcs[i] = GLMCopulaARObs(y, X, d, link)\n",
    "end\n",
    "\n",
    "# form model\n",
    "gcm = GLMCopulaARModel(gcs);\n",
    "\n",
    "N = length(gcm.data)\n",
    "Y_AR = zeros(N, di)\n",
    "for j in 1:di\n",
    "    Y_AR[:, j] = [gcm.data[i].y[j] for i in 1:N]\n",
    "end\n",
    "empirical_cor_25 = StatsBase.cor(Y_AR)"
   ]
  },
  {
   "cell_type": "code",
   "execution_count": 22,
   "metadata": {},
   "outputs": [
    {
     "data": {
      "text/plain": [
       "0.05802805633381166"
      ]
     },
     "execution_count": 22,
     "metadata": {},
     "output_type": "execute_result"
    }
   ],
   "source": [
    "empirical_cor_25[1, 2]"
   ]
  },
  {
   "cell_type": "code",
   "execution_count": 23,
   "metadata": {},
   "outputs": [
    {
     "data": {
      "text/plain": [
       "0.060000000000000005"
      ]
     },
     "execution_count": 23,
     "metadata": {},
     "output_type": "execute_result"
    }
   ],
   "source": [
    "theoretical_rho_25_kurtosis = (ρtrue[1] * σ2true[1]) / (1 + ((di/2) * σ2true[1]) + (0.5 * (kt - 1) * σ2true[1]))"
   ]
  },
  {
   "cell_type": "markdown",
   "metadata": {},
   "source": [
    "## simulate under GLMM AR(1) di = 25 <a class=\"anchor\" id=\"ex3g\"></a>\n",
    "\n",
    "$d_i = 25$\n",
    "\n",
    "$\\lambda = 1, \\rho = 0.9, \\sigma^2 = 1.0$"
   ]
  },
  {
   "cell_type": "code",
   "execution_count": 24,
   "metadata": {},
   "outputs": [
    {
     "data": {
      "text/plain": [
       "25×25 Matrix{Float64}:\n",
       " 1.0        0.638996   0.541917   …  0.0447875  0.0366016  0.0314837\n",
       " 0.638996   1.0        0.624209      0.0549801  0.0464837  0.0424987\n",
       " 0.541917   0.624209   1.0           0.0548328  0.0493031  0.0471143\n",
       " 0.464366   0.536523   0.632274      0.068452   0.0573659  0.0540509\n",
       " 0.401577   0.455418   0.533145      0.0701412  0.063146   0.0590902\n",
       " 0.349568   0.404708   0.461767   …  0.0809532  0.0762609  0.0687859\n",
       " 0.303511   0.357182   0.399666      0.085409   0.0795987  0.0761418\n",
       " 0.274626   0.312835   0.349394      0.0934925  0.085116   0.0801193\n",
       " 0.226635   0.26972    0.296422      0.104672   0.0958599  0.0849924\n",
       " 0.196293   0.232976   0.259376      0.119929   0.10745    0.098592\n",
       " 0.178106   0.206731   0.227978   …  0.133437   0.121569   0.110863\n",
       " 0.155319   0.182124   0.200935      0.150629   0.134537   0.124199\n",
       " 0.142219   0.166962   0.182324      0.174125   0.152411   0.138409\n",
       " 0.117149   0.140712   0.15339       0.197999   0.178251   0.163024\n",
       " 0.10154    0.123541   0.132413      0.228457   0.207402   0.182527\n",
       " 0.0911559  0.110555   0.118773   …  0.254352   0.227831   0.202163\n",
       " 0.0853892  0.100633   0.107633      0.287065   0.256318   0.229649\n",
       " 0.0734652  0.0922404  0.0998134     0.334644   0.296152   0.26405\n",
       " 0.0668826  0.0814823  0.0858321     0.382629   0.342775   0.297975\n",
       " 0.0560214  0.0680223  0.0722854     0.455212   0.397097   0.335915\n",
       " 0.0522711  0.064259   0.0667283  …  0.530084   0.456005   0.397265\n",
       " 0.0462949  0.0559864  0.0602031     0.618796   0.529915   0.454201\n",
       " 0.0447875  0.0549801  0.0548328     1.0        0.617975   0.531241\n",
       " 0.0366016  0.0464837  0.0493031     0.617975   1.0        0.617546\n",
       " 0.0314837  0.0424987  0.0471143     0.531241   0.617546   1.0"
      ]
     },
     "execution_count": 24,
     "metadata": {},
     "output_type": "execute_result"
    }
   ],
   "source": [
    "for i in 1:samplesize\n",
    "    X = ones(di, 1)\n",
    "    η = X * βtrue\n",
    "    # generate mvn response\n",
    "    mvn_d = MvNormal(η, Γ_AR)\n",
    "    mvn_η = rand(mvn_d)\n",
    "    μ = GLM.linkinv.(link, mvn_η)\n",
    "    y = Float64.(rand.(__get_distribution.(D, μ)))\n",
    "    gcs[i] = GLMCopulaARObs(y, X, d, link)\n",
    "end\n",
    "\n",
    "# form model\n",
    "gcm = GLMCopulaARModel(gcs);\n",
    "\n",
    "N = length(gcm.data)\n",
    "Y_AR = zeros(N, di)\n",
    "for j in 1:di\n",
    "    Y_AR[:, j] = [gcm.data[i].y[j] for i in 1:N]\n",
    "end\n",
    "empirical_cor_25_GLMM = StatsBase.cor(Y_AR)"
   ]
  },
  {
   "cell_type": "markdown",
   "metadata": {},
   "source": [
    "## Comparisons \n",
    "\n",
    "##  1. Theoretical vs. Empirical Correlation simulated under QC <a class=\"anchor\" id=\"ex4\"></a>\n",
    "\n",
    "### Takeaway: Quasi-Copula correlation IS a function of the di, kt, $\\rho$ and $\\sigma^2$\n",
    "\n",
    "The theoretical correlation is a function of $d_i, \\rho, \\sigma^2, kt(\\lambda)$\n",
    "\n",
    "$$Corr(Y_1, Y_2)\n",
    " = \\frac{\\rho * \\sigma^2}{1 + \\frac{1}{2} * \\sigma^2 * kt + \\frac{1}{2} * \\sigma^2 (d_i - 1)}$$\n",
    "\n",
    "We have $\\lambda = 1,$ thus we have kurtosis $kt = kt(\\lambda) = 4.0.$\n",
    "\n",
    "Let's see what happens to the theoretical/empirical correlation when we fix $\\rho = 0.9, \\sigma^2 = 1.0$ and range cluster sizes $d_i$\n",
    "\n",
    "$$Corr(Y_1, Y_2)\n",
    " = \\frac{0.9}{1 + \\frac{1}{2} * 4.0 + \\frac{1}{2} * (d_i - 1)} =  \\frac{0.9}{1 + \\frac{1}{2} * (d_i + 3)} $$\n"
   ]
  },
  {
   "cell_type": "code",
   "execution_count": 25,
   "metadata": {},
   "outputs": [
    {
     "data": {
      "text/plain": [
       "1×2 Matrix{Float64}:\n",
       " 0.257143  0.230281"
      ]
     },
     "execution_count": 25,
     "metadata": {},
     "output_type": "execute_result"
    }
   ],
   "source": [
    "# di = 2\n",
    "[theoretical_rho_2_kurtosis empirical_cor_2[1, 2]]"
   ]
  },
  {
   "cell_type": "code",
   "execution_count": 26,
   "metadata": {},
   "outputs": [
    {
     "data": {
      "text/plain": [
       "1×2 Matrix{Float64}:\n",
       " 0.18  0.167854"
      ]
     },
     "execution_count": 26,
     "metadata": {},
     "output_type": "execute_result"
    }
   ],
   "source": [
    "# di = 5\n",
    "[theoretical_rho_5_kurtosis empirical_cor_5[1, 2]]"
   ]
  },
  {
   "cell_type": "code",
   "execution_count": 27,
   "metadata": {},
   "outputs": [
    {
     "data": {
      "text/plain": [
       "1×2 Matrix{Float64}:\n",
       " 0.12  0.119132"
      ]
     },
     "execution_count": 27,
     "metadata": {},
     "output_type": "execute_result"
    }
   ],
   "source": [
    "# di = 10\n",
    "[theoretical_rho_10_kurtosis empirical_cor_10[1, 2]]"
   ]
  },
  {
   "cell_type": "code",
   "execution_count": 28,
   "metadata": {},
   "outputs": [
    {
     "data": {
      "text/plain": [
       "1×2 Matrix{Float64}:\n",
       " 0.06  0.0580281"
      ]
     },
     "execution_count": 28,
     "metadata": {},
     "output_type": "execute_result"
    }
   ],
   "source": [
    "# di = 25\n",
    "[theoretical_rho_25_kurtosis empirical_cor_25[1, 2]]"
   ]
  },
  {
   "cell_type": "markdown",
   "metadata": {},
   "source": [
    "##  2. Empirical Correlation simulated under GLMM<a class=\"anchor\" id=\"ex4g\"></a>\n",
    "\n",
    "### Takeaway: GLMM correlation is NOT a function of the di"
   ]
  },
  {
   "cell_type": "code",
   "execution_count": 29,
   "metadata": {},
   "outputs": [
    {
     "data": {
      "text/plain": [
       "0.631196434845501"
      ]
     },
     "execution_count": 29,
     "metadata": {},
     "output_type": "execute_result"
    }
   ],
   "source": [
    "# glmm correlation di = 2 \n",
    "empirical_cor_2_GLMM[1, 2]"
   ]
  },
  {
   "cell_type": "code",
   "execution_count": 30,
   "metadata": {},
   "outputs": [
    {
     "data": {
      "text/plain": [
       "0.6203499764734532"
      ]
     },
     "execution_count": 30,
     "metadata": {},
     "output_type": "execute_result"
    }
   ],
   "source": [
    "# glmm correlation di = 5\n",
    "empirical_cor_5_GLMM[1, 2]"
   ]
  },
  {
   "cell_type": "code",
   "execution_count": 31,
   "metadata": {},
   "outputs": [
    {
     "data": {
      "text/plain": [
       "0.6140014172969105"
      ]
     },
     "execution_count": 31,
     "metadata": {},
     "output_type": "execute_result"
    }
   ],
   "source": [
    "# glmm correlation di = 10\n",
    "empirical_cor_10_GLMM[1, 2]"
   ]
  },
  {
   "cell_type": "code",
   "execution_count": 32,
   "metadata": {},
   "outputs": [
    {
     "data": {
      "text/plain": [
       "0.6389964225572923"
      ]
     },
     "execution_count": 32,
     "metadata": {},
     "output_type": "execute_result"
    }
   ],
   "source": [
    "# glmm correlation di = 25\n",
    "empirical_cor_25_GLMM[1, 2]"
   ]
  },
  {
   "cell_type": "code",
   "execution_count": null,
   "metadata": {},
   "outputs": [],
   "source": []
  }
 ],
 "metadata": {
  "@webio": {
   "lastCommId": null,
   "lastKernelId": null
  },
  "kernelspec": {
   "display_name": "Julia 1.6.2",
   "language": "julia",
   "name": "julia-1.6"
  },
  "language_info": {
   "file_extension": ".jl",
   "mimetype": "application/julia",
   "name": "julia",
   "version": "1.6.2"
  }
 },
 "nbformat": 4,
 "nbformat_minor": 4
}
