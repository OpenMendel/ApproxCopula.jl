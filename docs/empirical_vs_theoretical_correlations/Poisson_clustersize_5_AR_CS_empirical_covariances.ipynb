{
 "cells": [
  {
   "cell_type": "markdown",
   "metadata": {},
   "source": [
    "## TOC:\n",
    "* [AR(1)](#ex1)\n",
    "* [CS positive rho](#ex2)\n",
    "* [CS negative rho](#ex3)"
   ]
  },
  {
   "cell_type": "code",
   "execution_count": 1,
   "metadata": {},
   "outputs": [],
   "source": [
    "using GLMCopula, DelimitedFiles, LinearAlgebra, Random, GLM, MixedModels, CategoricalArrays\n",
    "using Random, Roots, SpecialFunctions, StatsBase\n",
    "using DataFrames, DelimitedFiles, Statistics, ToeplitzMatrices\n",
    "import StatsBase: sem"
   ]
  },
  {
   "cell_type": "code",
   "execution_count": 20,
   "metadata": {},
   "outputs": [
    {
     "data": {
      "text/plain": [
       "Float64"
      ]
     },
     "execution_count": 20,
     "metadata": {},
     "output_type": "execute_result"
    }
   ],
   "source": [
    "p = 1   # number of fixed effects, including intercept\n",
    "\n",
    "# true parameter values\n",
    "βtrue = [log(5.0)]\n",
    "σ2true = [1.0]\n",
    "ρtrue = [0.9]\n",
    "\n",
    "ni = 5 # number of observations per cluster\n",
    "samplesize = 100000 # number of sampling units\n",
    "\n",
    "d = Poisson()\n",
    "link = LogLink()\n",
    "D = typeof(d)\n",
    "Link = typeof(link)\n",
    "T = Float64"
   ]
  },
  {
   "cell_type": "markdown",
   "metadata": {},
   "source": [
    "## AR(1) <a class=\"anchor\" id=\"ex1\"></a>\n",
    "\n",
    "\n",
    "$\\rho = 0.9, \\sigma^2 = 0.5$\n"
   ]
  },
  {
   "cell_type": "code",
   "execution_count": 13,
   "metadata": {},
   "outputs": [
    {
     "data": {
      "text/plain": [
       "5×5 Matrix{Float64}:\n",
       " 1.0     0.9    0.81  0.729  0.6561\n",
       " 0.9     1.0    0.9   0.81   0.729\n",
       " 0.81    0.9    1.0   0.9    0.81\n",
       " 0.729   0.81   0.9   1.0    0.9\n",
       " 0.6561  0.729  0.81  0.9    1.0"
      ]
     },
     "execution_count": 13,
     "metadata": {},
     "output_type": "execute_result"
    }
   ],
   "source": [
    "function get_V_AR(ρ, n)\n",
    "    vec = zeros(n)\n",
    "    vec[1] = 1.0\n",
    "    for i in 2:n\n",
    "        vec[i] = vec[i - 1] * ρ\n",
    "    end\n",
    "    V = ToeplitzMatrices.SymmetricToeplitz(vec)\n",
    "    V\n",
    "end\n",
    "\n",
    "V_AR = get_V_AR(ρtrue[1], ni)\n",
    "\n",
    "# true Gamma\n",
    "Γ_AR = σ2true[1] * V_AR"
   ]
  },
  {
   "cell_type": "code",
   "execution_count": 21,
   "metadata": {},
   "outputs": [
    {
     "name": "stdout",
     "output_type": "stream",
     "text": [
      "  1.811635 seconds (9.00 M allocations: 1.299 GiB, 21.76% gc time)\n"
     ]
    },
    {
     "data": {
      "text/plain": [
       "5×5 Matrix{Float64}:\n",
       " 6.5928    1.21602   1.16472  1.0455   0.938284\n",
       " 1.21602   6.57575   1.24751  1.14854  0.979648\n",
       " 1.16472   1.24751   6.5259   1.21906  1.14271\n",
       " 1.0455    1.14854   1.21906  6.52164  1.21833\n",
       " 0.938284  0.979648  1.14271  1.21833  6.57649"
      ]
     },
     "execution_count": 21,
     "metadata": {},
     "output_type": "execute_result"
    }
   ],
   "source": [
    "vecd = Vector{DiscreteUnivariateDistribution}(undef, ni)\n",
    "for i in 1:ni\n",
    "    vecd[i] = Poisson(5.0)\n",
    "end\n",
    "nonmixed_multivariate_dist = NonMixedMultivariateDistribution(vecd, Γ_AR)\n",
    "\n",
    "Random.seed!(1234)\n",
    "@time Y_nsample = simulate_nobs_independent_vectors(nonmixed_multivariate_dist, samplesize)\n",
    "\n",
    "gcs = Vector{GLMCopulaARObs{T, D, Link}}(undef, samplesize)\n",
    "for i in 1:samplesize\n",
    "    X = ones(ni, 1)\n",
    "    y = Float64.(Y_nsample[i])\n",
    "    V = [ones(ni, ni)]\n",
    "    gcs[i] = GLMCopulaARObs(y, X, d, link)\n",
    "end\n",
    "\n",
    "# form model\n",
    "gcm = GLMCopulaARModel(gcs);\n",
    "\n",
    "N = length(gcm.data)\n",
    "di = length(gcm.data[1].y)\n",
    "Y_AR = zeros(N, di)\n",
    "for j in 1:di\n",
    "    Y_AR[:, j] = [gcm.data[i].y[j] for i in 1:N]\n",
    "end\n",
    "empirical_covariance_AR = scattermat(Y_AR) ./ N"
   ]
  },
  {
   "cell_type": "code",
   "execution_count": 22,
   "metadata": {},
   "outputs": [
    {
     "data": {
      "text/plain": [
       "5×5 Matrix{Float64}:\n",
       " 1.0       0.184686  0.177569  0.159445  0.142496\n",
       " 0.184686  1.0       0.190436  0.175386  0.148971\n",
       " 0.177569  0.190436  1.0       0.186865  0.174429\n",
       " 0.159445  0.175386  0.186865  1.0       0.186033\n",
       " 0.142496  0.148971  0.174429  0.186033  1.0"
      ]
     },
     "execution_count": 22,
     "metadata": {},
     "output_type": "execute_result"
    }
   ],
   "source": [
    "StatsBase.cor(Y_AR)"
   ]
  },
  {
   "cell_type": "code",
   "execution_count": null,
   "metadata": {},
   "outputs": [],
   "source": []
  },
  {
   "cell_type": "markdown",
   "metadata": {},
   "source": [
    "## CS positive rho <a class=\"anchor\" id=\"ex2\"></a>\n",
    "\n",
    "\n",
    "$\\rho = 0.9, \\sigma^2 = 1.0$\n",
    "\n"
   ]
  },
  {
   "cell_type": "code",
   "execution_count": 36,
   "metadata": {},
   "outputs": [
    {
     "data": {
      "text/plain": [
       "10×10 Matrix{Float64}:\n",
       " 0.1   0.01  0.01  0.01  0.01  0.01  0.01  0.01  0.01  0.01\n",
       " 0.01  0.1   0.01  0.01  0.01  0.01  0.01  0.01  0.01  0.01\n",
       " 0.01  0.01  0.1   0.01  0.01  0.01  0.01  0.01  0.01  0.01\n",
       " 0.01  0.01  0.01  0.1   0.01  0.01  0.01  0.01  0.01  0.01\n",
       " 0.01  0.01  0.01  0.01  0.1   0.01  0.01  0.01  0.01  0.01\n",
       " 0.01  0.01  0.01  0.01  0.01  0.1   0.01  0.01  0.01  0.01\n",
       " 0.01  0.01  0.01  0.01  0.01  0.01  0.1   0.01  0.01  0.01\n",
       " 0.01  0.01  0.01  0.01  0.01  0.01  0.01  0.1   0.01  0.01\n",
       " 0.01  0.01  0.01  0.01  0.01  0.01  0.01  0.01  0.1   0.01\n",
       " 0.01  0.01  0.01  0.01  0.01  0.01  0.01  0.01  0.01  0.1"
      ]
     },
     "execution_count": 36,
     "metadata": {},
     "output_type": "execute_result"
    }
   ],
   "source": [
    "ni = 10\n",
    "σ2true = [0.1]\n",
    "function get_V_CS(ρ, n)\n",
    "    vec = zeros(n)\n",
    "    vec[1] = 1.0\n",
    "    for i in 2:n\n",
    "        vec[i] = ρ\n",
    "    end\n",
    "    V = ToeplitzMatrices.SymmetricToeplitz(vec)\n",
    "    V\n",
    "end\n",
    "\n",
    "V_CS = get_V_CS(σ2true[1], ni)\n",
    "\n",
    "# true Gamma\n",
    "Γ_CS = σ2true[1] * V_CS"
   ]
  },
  {
   "cell_type": "code",
   "execution_count": 37,
   "metadata": {},
   "outputs": [
    {
     "name": "stdout",
     "output_type": "stream",
     "text": [
      "  3.619145 seconds (17.50 M allocations: 3.017 GiB, 22.11% gc time)\n"
     ]
    },
    {
     "data": {
      "text/plain": [
       "10×10 Matrix{Float64}:\n",
       " 5.41747     0.0212904   0.0417304   …  0.00955482   0.0532355   0.0387852\n",
       " 0.0212904   5.34812     0.00246353     0.0186979    0.0236595   0.0646903\n",
       " 0.0417304   0.00246353  5.35091        0.0359896    0.0107176   0.0129346\n",
       " 0.0607543   0.0319978   0.0245863      0.0271806    0.0502456   0.0389715\n",
       " 0.0517526   0.00251236  0.0220527      0.0245259   -0.00664124  0.025755\n",
       " 0.0242266   0.0235919   0.0467988   …  0.0221041    0.0264465   0.0523994\n",
       " 0.0160578   0.00436615  0.0474033      0.0546825    0.00829739  0.0278084\n",
       " 0.00955482  0.0186979   0.0359896      5.33645      0.0214395   0.0273709\n",
       " 0.0532355   0.0236595   0.0107176      0.0214395    5.36208     0.0232895\n",
       " 0.0387852   0.0646903   0.0129346      0.0273709    0.0232895   5.4024"
      ]
     },
     "execution_count": 37,
     "metadata": {},
     "output_type": "execute_result"
    }
   ],
   "source": [
    "vecd = Vector{DiscreteUnivariateDistribution}(undef, ni)\n",
    "for i in 1:ni\n",
    "    vecd[i] = Poisson(5.0)\n",
    "end\n",
    "nonmixed_multivariate_dist = NonMixedMultivariateDistribution(vecd, Γ_CS)\n",
    "\n",
    "Random.seed!(1234)\n",
    "@time Y_nsample = simulate_nobs_independent_vectors(nonmixed_multivariate_dist, samplesize)\n",
    "\n",
    "gcs = Vector{GLMCopulaCSObs{T, D, Link}}(undef, samplesize)\n",
    "for i in 1:samplesize\n",
    "    X = ones(ni, 1)\n",
    "    y = Float64.(Y_nsample[i])\n",
    "    V = [Float64.(Matrix(I, ni, ni))]\n",
    "    gcs[i] = GLMCopulaCSObs(y, X, d, link)\n",
    "end\n",
    "\n",
    "# form model\n",
    "gcm = GLMCopulaCSModel(gcs);\n",
    "\n",
    "N = length(gcm.data)\n",
    "di = length(gcm.data[1].y)\n",
    "Y_CS = zeros(N, di)\n",
    "for j in 1:di\n",
    "    Y_CS[:, j] = [gcm.data[i].y[j] for i in 1:N]\n",
    "end\n",
    "empirical_covariance_CS = scattermat(Y_CS) ./ N"
   ]
  },
  {
   "cell_type": "code",
   "execution_count": 38,
   "metadata": {},
   "outputs": [
    {
     "data": {
      "text/plain": [
       "10×10 Matrix{Float64}:\n",
       " 1.0         0.00395536   0.0077507    …  0.00177704   0.00987727  0.00716926\n",
       " 0.00395536  1.0          0.000460514     0.00349999   0.00441812  0.012035\n",
       " 0.0077507   0.000460514  1.0             0.00673499   0.00200086  0.00240572\n",
       " 0.0112594   0.00596835   0.00458473      0.00507537   0.00935981  0.00723251\n",
       " 0.00960116  0.000469106  0.00411658      0.00458447  -0.00123843  0.00478473\n",
       " 0.00448988  0.0044005    0.00872693   …  0.0041275    0.00492654  0.00972463\n",
       " 0.00298498  0.000816867  0.00886642      0.0102418    0.00155034  0.00517649\n",
       " 0.00177704  0.00349999   0.00673499      1.0          0.00400794  0.00509764\n",
       " 0.00987727  0.00441812   0.00200086      0.00400794   1.0         0.00432714\n",
       " 0.00716926  0.012035     0.00240572      0.00509764   0.00432714  1.0"
      ]
     },
     "execution_count": 38,
     "metadata": {},
     "output_type": "execute_result"
    }
   ],
   "source": [
    "StatsBase.cor(Y_CS)"
   ]
  },
  {
   "cell_type": "code",
   "execution_count": null,
   "metadata": {},
   "outputs": [],
   "source": []
  },
  {
   "cell_type": "markdown",
   "metadata": {},
   "source": [
    "## CS positive rho <a class=\"anchor\" id=\"ex3\"></a>\n",
    "\n",
    "$\\rho = 0.9, \\sigma^2 = 10.0 $"
   ]
  },
  {
   "cell_type": "code",
   "execution_count": 26,
   "metadata": {},
   "outputs": [
    {
     "data": {
      "text/plain": [
       "5×5 Matrix{Float64}:\n",
       " 10.0   9.0   9.0   9.0   9.0\n",
       "  9.0  10.0   9.0   9.0   9.0\n",
       "  9.0   9.0  10.0   9.0   9.0\n",
       "  9.0   9.0   9.0  10.0   9.0\n",
       "  9.0   9.0   9.0   9.0  10.0"
      ]
     },
     "execution_count": 26,
     "metadata": {},
     "output_type": "execute_result"
    }
   ],
   "source": [
    "V_CS_negative = get_V_CS(ρtrue[1], ni)\n",
    "\n",
    "# true Gamma\n",
    "Γ_CS_negative = 10.0 * V_CS_negative"
   ]
  },
  {
   "cell_type": "code",
   "execution_count": 27,
   "metadata": {},
   "outputs": [
    {
     "name": "stdout",
     "output_type": "stream",
     "text": [
      "  1.846527 seconds (9.00 M allocations: 1.299 GiB, 22.47% gc time)\n"
     ]
    },
    {
     "data": {
      "text/plain": [
       "5×5 Matrix{Float64}:\n",
       " 7.12912  1.66062  1.69437  1.71988  1.69704\n",
       " 1.66062  7.10645  1.72291  1.68898  1.71246\n",
       " 1.69437  1.72291  7.0468   1.66485  1.69184\n",
       " 1.71988  1.68898  1.66485  7.04307  1.67287\n",
       " 1.69704  1.71246  1.69184  1.67287  7.10509"
      ]
     },
     "execution_count": 27,
     "metadata": {},
     "output_type": "execute_result"
    }
   ],
   "source": [
    "vecd = Vector{DiscreteUnivariateDistribution}(undef, ni)\n",
    "for i in 1:ni\n",
    "    vecd[i] = Poisson(5.0)\n",
    "end\n",
    "nonmixed_multivariate_dist = NonMixedMultivariateDistribution(vecd, Γ_CS_negative)\n",
    "\n",
    "Random.seed!(1234)\n",
    "@time Y_nsample = simulate_nobs_independent_vectors(nonmixed_multivariate_dist, samplesize)\n",
    "\n",
    "gcs = Vector{GLMCopulaCSObs{T, D, Link}}(undef, samplesize)\n",
    "for i in 1:samplesize\n",
    "    X = ones(ni, 1)\n",
    "    y = Float64.(Y_nsample[i])\n",
    "    V = [Float64.(Matrix(I, ni, ni))]\n",
    "    gcs[i] = GLMCopulaCSObs(y, X, d, link)\n",
    "end\n",
    "\n",
    "# form model\n",
    "gcm = GLMCopulaCSModel(gcs);\n",
    "\n",
    "N = length(gcm.data)\n",
    "di = length(gcm.data[1].y)\n",
    "Y_CS_2 = zeros(N, di)\n",
    "for j in 1:di\n",
    "    Y_CS_2[:, j] = [gcm.data[i].y[j] for i in 1:N]\n",
    "end\n",
    "empirical_covariance_CS_negative = scattermat(Y_CS_2) ./ N"
   ]
  },
  {
   "cell_type": "code",
   "execution_count": 28,
   "metadata": {},
   "outputs": [
    {
     "data": {
      "text/plain": [
       "5×5 Matrix{Float64}:\n",
       " 1.0       0.233306  0.239053  0.242717  0.238446\n",
       " 0.233306  1.0       0.243468  0.238736  0.240995\n",
       " 0.239053  0.243468  1.0       0.236318  0.2391\n",
       " 0.242717  0.238736  0.236318  1.0       0.236481\n",
       " 0.238446  0.240995  0.2391    0.236481  1.0"
      ]
     },
     "execution_count": 28,
     "metadata": {},
     "output_type": "execute_result"
    }
   ],
   "source": [
    "StatsBase.cor(Y_CS_2)"
   ]
  },
  {
   "cell_type": "markdown",
   "metadata": {},
   "source": [
    "## Comparing <a class=\"anchor\" id=\"ex3\"></a>\n",
    "\n",
    "$\\rho = 0.6, \\sigma^2 = 0.1$"
   ]
  },
  {
   "cell_type": "code",
   "execution_count": 15,
   "metadata": {},
   "outputs": [
    {
     "data": {
      "text/plain": [
       "5×5 Matrix{Float64}:\n",
       " 5.4753     0.239691  0.155916  0.103735  0.0684627\n",
       " 0.239691   5.46275   0.237582  0.124543  0.071047\n",
       " 0.155916   0.237582  5.40272   0.221336  0.14614\n",
       " 0.103735   0.124543  0.221336  5.40579   0.241656\n",
       " 0.0684627  0.071047  0.14614   0.241656  5.46087"
      ]
     },
     "execution_count": 15,
     "metadata": {},
     "output_type": "execute_result"
    }
   ],
   "source": [
    "empirical_covariance_AR"
   ]
  },
  {
   "cell_type": "code",
   "execution_count": 16,
   "metadata": {},
   "outputs": [
    {
     "data": {
      "text/plain": [
       "5×5 Matrix{Float64}:\n",
       " 5.4753    0.239691  0.253737  0.256011  0.251832\n",
       " 0.239691  5.46275   0.239646  0.228651  0.229315\n",
       " 0.253737  0.239646  5.40309   0.220851  0.240448\n",
       " 0.256011  0.228651  0.220851  5.40391   0.243061\n",
       " 0.251832  0.229315  0.240448  0.243061  5.46092"
      ]
     },
     "execution_count": 16,
     "metadata": {},
     "output_type": "execute_result"
    }
   ],
   "source": [
    "empirical_covariance_CS"
   ]
  },
  {
   "cell_type": "markdown",
   "metadata": {},
   "source": [
    "$\\rho = -0.6, \\sigma^2 = 0.1$"
   ]
  },
  {
   "cell_type": "code",
   "execution_count": 17,
   "metadata": {},
   "outputs": [
    {
     "data": {
      "text/plain": [
       "5×5 Matrix{Float64}:\n",
       "  5.4753    -0.247838  -0.231306  -0.225734  -0.224622\n",
       " -0.247838   5.46342   -0.275844  -0.265809  -0.259551\n",
       " -0.231306  -0.275844   5.4141    -0.234971  -0.266396\n",
       " -0.225734  -0.265809  -0.234971   5.40746   -0.229744\n",
       " -0.224622  -0.259551  -0.266396  -0.229744   5.46245"
      ]
     },
     "execution_count": 17,
     "metadata": {},
     "output_type": "execute_result"
    }
   ],
   "source": [
    "empirical_covariance_CS_negative"
   ]
  },
  {
   "cell_type": "code",
   "execution_count": null,
   "metadata": {},
   "outputs": [],
   "source": []
  }
 ],
 "metadata": {
  "@webio": {
   "lastCommId": null,
   "lastKernelId": null
  },
  "kernelspec": {
   "display_name": "Julia 1.6.2",
   "language": "julia",
   "name": "julia-1.6"
  },
  "language_info": {
   "file_extension": ".jl",
   "mimetype": "application/julia",
   "name": "julia",
   "version": "1.6.2"
  }
 },
 "nbformat": 4,
 "nbformat_minor": 4
}
