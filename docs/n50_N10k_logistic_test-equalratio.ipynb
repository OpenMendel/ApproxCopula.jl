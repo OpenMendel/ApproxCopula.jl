{
 "cells": [
  {
   "cell_type": "markdown",
   "metadata": {},
   "source": [
    "# Multivariate Logistic Regression using hybrid MM-initial + Newton's for joint estimation\n",
    "    \n",
    "   ### Simulation Parameters (Truth):\n",
    "   $$p = 0.300, vc_1 = 0.100, vc_2 = 0.100$$\n",
    "    \n",
    "    \n",
    "       1. Using initial MM + Newton + mehrotra: (59 iterations, 35.8 seconds)\n",
    "   $$\\hat p = 0.301, \\hat vc_1 = 0.082, \\hat vc_2 = 0.080$$\n",
    "    "
   ]
  },
  {
   "cell_type": "code",
   "execution_count": 1,
   "metadata": {},
   "outputs": [],
   "source": [
    "using GLMCopula, Random, Statistics, Test, LinearAlgebra, StatsFuns, GLM, Revise"
   ]
  },
  {
   "cell_type": "code",
   "execution_count": 2,
   "metadata": {},
   "outputs": [
    {
     "data": {
      "text/plain": [
       "NonMixedMultivariateDistribution{Discrete,Bernoulli{Float64},Array{Bernoulli{Float64},1}}(Bernoulli{Float64}[Bernoulli{Float64}(p=0.3), Bernoulli{Float64}(p=0.3), Bernoulli{Float64}(p=0.3), Bernoulli{Float64}(p=0.3), Bernoulli{Float64}(p=0.3), Bernoulli{Float64}(p=0.3), Bernoulli{Float64}(p=0.3), Bernoulli{Float64}(p=0.3), Bernoulli{Float64}(p=0.3), Bernoulli{Float64}(p=0.3)  …  Bernoulli{Float64}(p=0.3), Bernoulli{Float64}(p=0.3), Bernoulli{Float64}(p=0.3), Bernoulli{Float64}(p=0.3), Bernoulli{Float64}(p=0.3), Bernoulli{Float64}(p=0.3), Bernoulli{Float64}(p=0.3), Bernoulli{Float64}(p=0.3), Bernoulli{Float64}(p=0.3), Bernoulli{Float64}(p=0.3)], [0.2 0.1 … 0.1 0.1; 0.1 0.2 … 0.1 0.1; … ; 0.1 0.1 … 0.2 0.1; 0.1 0.1 … 0.1 0.2], 9.999999999999996, Union{ContinuousUnivariateCopula, DiscreteUnivariateCopula}[#undef, #undef, #undef, #undef, #undef, #undef, #undef, #undef, #undef, #undef  …  #undef, #undef, #undef, #undef, #undef, #undef, #undef, #undef, #undef, #undef])"
      ]
     },
     "execution_count": 2,
     "metadata": {},
     "output_type": "execute_result"
    }
   ],
   "source": [
    "Random.seed!(1234)\n",
    "n = 50\n",
    "variance_component_1 = 0.1\n",
    "variance_component_2 = 0.1\n",
    "Γ = variance_component_1 * ones(n, n) + variance_component_2 * Matrix(I, n, n)\n",
    "\n",
    "mean = 0.3\n",
    "dist = Bernoulli\n",
    "vecd = [dist(mean) for i in 1:n]\n",
    "    \n",
    "nonmixed_multivariate_dist = NonMixedMultivariateDistribution(vecd, Γ)"
   ]
  },
  {
   "cell_type": "code",
   "execution_count": 3,
   "metadata": {},
   "outputs": [
    {
     "name": "stdout",
     "output_type": "stream",
     "text": [
      "  3.285754 seconds (9.72 M allocations: 7.164 GiB, 23.00% gc time)\n"
     ]
    },
    {
     "data": {
      "text/plain": [
       "10000-element Array{Array{Float64,1},1}:\n",
       " [0.0, 0.0, 0.0, 0.0, 0.0, 0.0, 1.0, 0.0, 1.0, 0.0  …  1.0, 0.0, 0.0, 1.0, 0.0, 1.0, 1.0, 1.0, 0.0, 0.0]\n",
       " [0.0, 0.0, 1.0, 0.0, 1.0, 1.0, 0.0, 0.0, 0.0, 1.0  …  0.0, 1.0, 1.0, 0.0, 0.0, 1.0, 0.0, 1.0, 0.0, 1.0]\n",
       " [1.0, 0.0, 0.0, 0.0, 0.0, 0.0, 1.0, 0.0, 0.0, 0.0  …  0.0, 0.0, 0.0, 0.0, 0.0, 0.0, 0.0, 0.0, 0.0, 1.0]\n",
       " [0.0, 0.0, 1.0, 0.0, 1.0, 1.0, 0.0, 0.0, 0.0, 1.0  …  0.0, 0.0, 0.0, 0.0, 1.0, 0.0, 0.0, 1.0, 0.0, 0.0]\n",
       " [1.0, 0.0, 0.0, 0.0, 0.0, 0.0, 0.0, 0.0, 1.0, 0.0  …  0.0, 0.0, 0.0, 0.0, 0.0, 1.0, 0.0, 1.0, 1.0, 1.0]\n",
       " [0.0, 0.0, 0.0, 0.0, 0.0, 0.0, 1.0, 0.0, 0.0, 1.0  …  0.0, 1.0, 0.0, 0.0, 0.0, 0.0, 0.0, 0.0, 0.0, 1.0]\n",
       " [1.0, 0.0, 1.0, 0.0, 0.0, 1.0, 0.0, 0.0, 0.0, 0.0  …  0.0, 1.0, 0.0, 0.0, 1.0, 0.0, 0.0, 0.0, 1.0, 0.0]\n",
       " [1.0, 0.0, 1.0, 0.0, 1.0, 0.0, 1.0, 0.0, 0.0, 0.0  …  1.0, 0.0, 1.0, 0.0, 1.0, 1.0, 1.0, 0.0, 0.0, 0.0]\n",
       " [0.0, 1.0, 0.0, 1.0, 1.0, 1.0, 0.0, 0.0, 0.0, 1.0  …  1.0, 0.0, 0.0, 0.0, 1.0, 1.0, 1.0, 1.0, 0.0, 0.0]\n",
       " [0.0, 0.0, 1.0, 1.0, 0.0, 0.0, 0.0, 0.0, 0.0, 1.0  …  0.0, 0.0, 1.0, 1.0, 0.0, 0.0, 0.0, 1.0, 0.0, 0.0]\n",
       " [1.0, 0.0, 0.0, 1.0, 1.0, 0.0, 1.0, 0.0, 0.0, 0.0  …  0.0, 1.0, 1.0, 0.0, 0.0, 0.0, 1.0, 1.0, 0.0, 1.0]\n",
       " [0.0, 0.0, 1.0, 1.0, 1.0, 1.0, 0.0, 0.0, 1.0, 0.0  …  0.0, 1.0, 1.0, 1.0, 0.0, 0.0, 0.0, 0.0, 1.0, 1.0]\n",
       " [0.0, 0.0, 0.0, 1.0, 1.0, 1.0, 1.0, 0.0, 0.0, 1.0  …  0.0, 0.0, 0.0, 0.0, 0.0, 1.0, 0.0, 1.0, 0.0, 0.0]\n",
       " ⋮\n",
       " [1.0, 0.0, 0.0, 1.0, 0.0, 1.0, 0.0, 0.0, 0.0, 0.0  …  1.0, 0.0, 0.0, 0.0, 0.0, 1.0, 1.0, 0.0, 0.0, 0.0]\n",
       " [0.0, 1.0, 0.0, 1.0, 0.0, 0.0, 0.0, 0.0, 0.0, 1.0  …  1.0, 1.0, 0.0, 0.0, 1.0, 0.0, 0.0, 1.0, 0.0, 1.0]\n",
       " [0.0, 1.0, 0.0, 1.0, 0.0, 1.0, 1.0, 1.0, 0.0, 0.0  …  0.0, 0.0, 1.0, 0.0, 1.0, 1.0, 1.0, 0.0, 0.0, 0.0]\n",
       " [0.0, 0.0, 0.0, 1.0, 1.0, 0.0, 0.0, 0.0, 0.0, 1.0  …  1.0, 0.0, 1.0, 0.0, 0.0, 0.0, 0.0, 1.0, 1.0, 0.0]\n",
       " [0.0, 0.0, 0.0, 1.0, 0.0, 0.0, 1.0, 1.0, 0.0, 1.0  …  0.0, 0.0, 0.0, 0.0, 0.0, 0.0, 0.0, 0.0, 0.0, 0.0]\n",
       " [0.0, 0.0, 1.0, 0.0, 0.0, 1.0, 0.0, 0.0, 0.0, 1.0  …  1.0, 0.0, 0.0, 0.0, 1.0, 0.0, 0.0, 1.0, 0.0, 0.0]\n",
       " [0.0, 0.0, 0.0, 1.0, 0.0, 1.0, 0.0, 0.0, 0.0, 0.0  …  1.0, 0.0, 0.0, 0.0, 0.0, 0.0, 1.0, 0.0, 0.0, 0.0]\n",
       " [0.0, 1.0, 1.0, 0.0, 0.0, 1.0, 1.0, 0.0, 1.0, 1.0  …  1.0, 1.0, 0.0, 1.0, 1.0, 1.0, 0.0, 0.0, 0.0, 0.0]\n",
       " [0.0, 0.0, 0.0, 0.0, 1.0, 1.0, 1.0, 1.0, 0.0, 0.0  …  0.0, 0.0, 0.0, 0.0, 0.0, 0.0, 0.0, 0.0, 0.0, 0.0]\n",
       " [0.0, 0.0, 0.0, 0.0, 1.0, 0.0, 0.0, 0.0, 1.0, 0.0  …  1.0, 1.0, 0.0, 0.0, 1.0, 0.0, 0.0, 1.0, 0.0, 1.0]\n",
       " [0.0, 0.0, 1.0, 1.0, 0.0, 0.0, 0.0, 0.0, 0.0, 0.0  …  0.0, 1.0, 0.0, 0.0, 1.0, 0.0, 0.0, 1.0, 1.0, 0.0]\n",
       " [1.0, 0.0, 0.0, 1.0, 0.0, 0.0, 0.0, 0.0, 1.0, 0.0  …  1.0, 0.0, 0.0, 0.0, 1.0, 0.0, 1.0, 1.0, 0.0, 1.0]"
      ]
     },
     "execution_count": 3,
     "metadata": {},
     "output_type": "execute_result"
    }
   ],
   "source": [
    "nsample = 10_000\n",
    "Random.seed!(1234)\n",
    "@time Y_nsample = simulate_nobs_independent_vectors(nonmixed_multivariate_dist, nsample)"
   ]
  },
  {
   "cell_type": "code",
   "execution_count": 4,
   "metadata": {},
   "outputs": [
    {
     "name": "stdout",
     "output_type": "stream",
     "text": [
      "initializing β using Newton's Algorithm under Independence Assumption\n",
      "1 0.0 -308675.8817541355 39999\n",
      "2 -308675.8817541355 -308675.8817541355 39999\n",
      "initializing variance components using MM-Algorithm\n",
      "gcm.β = [-0.8102932942177389]\n"
     ]
    },
    {
     "data": {
      "text/plain": [
       "1-element Array{Float64,1}:\n",
       " -0.8102932942177389"
      ]
     },
     "execution_count": 4,
     "metadata": {},
     "output_type": "execute_result"
    }
   ],
   "source": [
    "d = Bernoulli()\n",
    "link = LogitLink()\n",
    "D = typeof(d)\n",
    "Link = typeof(link)\n",
    "T = Float64\n",
    "gcs = Vector{GLMCopulaVCObs{T, D, Link}}(undef, nsample)\n",
    "for i in 1:nsample\n",
    "    y = Float64.(Y_nsample[i])\n",
    "    X = ones(n, 1)\n",
    "    V = [ones(n, n), Matrix(I, n, n)]\n",
    "    gcs[i] = GLMCopulaVCObs(y, X, V, d, link)\n",
    "end\n",
    "gcm = GLMCopulaVCModel(gcs);\n",
    "\n",
    "initialize_model!(gcm)\n",
    "@show gcm.β"
   ]
  },
  {
   "cell_type": "code",
   "execution_count": 5,
   "metadata": {},
   "outputs": [
    {
     "data": {
      "text/plain": [
       "-307479.5042351658"
      ]
     },
     "execution_count": 5,
     "metadata": {},
     "output_type": "execute_result"
    }
   ],
   "source": [
    "loglikelihood!(gcm, true, true)"
   ]
  },
  {
   "cell_type": "markdown",
   "metadata": {},
   "source": [
    "## Newton using Hessian + mehrotra"
   ]
  },
  {
   "cell_type": "code",
   "execution_count": 6,
   "metadata": {},
   "outputs": [
    {
     "name": "stdout",
     "output_type": "stream",
     "text": [
      "\n",
      "******************************************************************************\n",
      "This program contains Ipopt, a library for large-scale nonlinear optimization.\n",
      " Ipopt is released as open source code under the Eclipse Public License (EPL).\n",
      "         For more information visit https://github.com/coin-or/Ipopt\n",
      "******************************************************************************\n",
      "\n",
      "This is Ipopt version 3.13.4, running with linear solver mumps.\n",
      "NOTE: Other linear solvers might be more efficient (see Ipopt documentation).\n",
      "\n",
      "Number of nonzeros in equality constraint Jacobian...:        0\n",
      "Number of nonzeros in inequality constraint Jacobian.:        0\n",
      "Number of nonzeros in Lagrangian Hessian.............:        4\n",
      "\n",
      "Total number of variables............................:        3\n",
      "                     variables with only lower bounds:        2\n",
      "                variables with lower and upper bounds:        0\n",
      "                     variables with only upper bounds:        0\n",
      "Total number of equality constraints.................:        0\n",
      "Total number of inequality constraints...............:        0\n",
      "        inequality constraints with only lower bounds:        0\n",
      "   inequality constraints with lower and upper bounds:        0\n",
      "        inequality constraints with only upper bounds:        0\n",
      "\n",
      "iter    objective    inf_pr   inf_du lg(mu)  ||d||  lg(rg) alpha_du alpha_pr  ls\n",
      "   0  3.0755487e+05 0.00e+00 1.69e+02   0.0 0.00e+00    -  0.00e+00 0.00e+00   0\n",
      "   1  3.0747206e+05 0.00e+00 6.86e+00  -5.3 1.20e+00   0.0 9.97e-01 1.00e+00f  1\n",
      "   2  3.0746256e+05 0.00e+00 2.88e+00  -7.4 8.42e-01  -0.5 9.92e-01 1.00e+00f  1\n",
      "   3  3.0746224e+05 0.00e+00 8.41e-01 -10.9 1.60e-01  -1.0 9.90e-01 1.00e+00f  1\n",
      "   4  3.0746224e+05 0.00e+00 1.13e-01 -11.0 1.47e-02  -1.4 9.90e-01 1.00e+00f  1\n",
      "   5  3.0746224e+05 0.00e+00 1.13e-02 -11.0 9.30e-03  -1.9 1.00e+00 1.00e+00f  1\n",
      "   6  3.0746224e+05 0.00e+00 1.69e-03 -11.0 2.96e-02  -2.4 1.00e+00 1.00e+00f  1\n",
      "   7  3.0746224e+05 0.00e+00 2.15e-03 -11.0 9.02e-02  -2.9 1.00e+00 1.00e+00f  1\n",
      "   8  3.0746223e+05 0.00e+00 6.70e-03 -11.0 2.84e-01  -3.3 1.00e+00 1.00e+00f  1\n",
      "   9  3.0746223e+05 0.00e+00 2.69e-02 -11.0 1.01e+00  -3.8 1.00e+00 1.00e+00f  1\n",
      "iter    objective    inf_pr   inf_du lg(mu)  ||d||  lg(rg) alpha_du alpha_pr  ls\n",
      "  10  3.0746207e+05 0.00e+00 1.59e+00 -11.0 8.35e+00  -4.3 1.00e+00 1.00e+00f  1\n",
      "  11  3.0746663e+05 0.00e+00 5.26e+01 -11.0 6.32e+00  -2.1 1.00e+00 2.27e-01h  1\n",
      "  12  3.0746173e+05 0.00e+00 1.01e+01 -11.0 1.59e-02    -  1.00e+00 1.00e+00f  1\n",
      "  13  3.0746134e+05 0.00e+00 4.71e+00 -11.0 8.38e-03    -  1.00e+00 1.00e+00f  1\n",
      "  14  3.0746115e+05 0.00e+00 4.18e+00 -11.0 9.46e-03    -  1.00e+00 1.00e+00f  1\n",
      "  15  3.0746105e+05 0.00e+00 2.94e+00 -11.0 7.96e-03    -  1.00e+00 1.00e+00f  1\n",
      "  16  3.0746100e+05 0.00e+00 2.13e+00 -11.0 6.71e-03    -  1.00e+00 1.00e+00f  1\n",
      "  17  3.0746098e+05 0.00e+00 1.46e+00 -11.0 5.15e-03    -  1.00e+00 1.00e+00f  1\n",
      "  18  3.0746097e+05 0.00e+00 9.86e-01 -11.0 3.77e-03    -  1.00e+00 1.00e+00f  1\n",
      "  19  3.0746097e+05 0.00e+00 6.49e-01 -11.0 2.62e-03    -  1.00e+00 1.00e+00f  1\n",
      "iter    objective    inf_pr   inf_du lg(mu)  ||d||  lg(rg) alpha_du alpha_pr  ls\n",
      "  20  3.0746096e+05 0.00e+00 4.23e-01 -11.0 1.78e-03    -  1.00e+00 1.00e+00f  1\n",
      "  21  3.0746096e+05 0.00e+00 2.72e-01 -11.0 1.17e-03    -  1.00e+00 1.00e+00f  1\n",
      "  22  3.0746096e+05 0.00e+00 1.75e-01 -11.0 7.65e-04    -  1.00e+00 1.00e+00f  1\n",
      "  23  3.0746096e+05 0.00e+00 1.11e-01 -11.0 4.93e-04    -  1.00e+00 1.00e+00f  1\n",
      "  24  3.0746096e+05 0.00e+00 7.10e-02 -11.0 3.16e-04    -  1.00e+00 1.00e+00f  1\n",
      "  25  3.0746096e+05 0.00e+00 4.51e-02 -11.0 2.02e-04    -  1.00e+00 1.00e+00f  1\n",
      "  26  3.0746096e+05 0.00e+00 2.87e-02 -11.0 1.28e-04    -  1.00e+00 1.00e+00f  1\n",
      "  27  3.0746096e+05 0.00e+00 1.82e-02 -11.0 8.15e-05    -  1.00e+00 1.00e+00f  1\n",
      "  28  3.0746096e+05 0.00e+00 1.15e-02 -11.0 5.18e-05    -  1.00e+00 1.00e+00f  1\n",
      "  29  3.0746096e+05 0.00e+00 7.31e-03 -11.0 3.29e-05    -  1.00e+00 1.00e+00f  1\n",
      "iter    objective    inf_pr   inf_du lg(mu)  ||d||  lg(rg) alpha_du alpha_pr  ls\n",
      "  30  3.0746096e+05 0.00e+00 4.64e-03 -11.0 2.08e-05    -  1.00e+00 1.00e+00f  1\n",
      "  31  3.0746096e+05 0.00e+00 2.94e-03 -11.0 1.32e-05    -  1.00e+00 1.00e+00f  1\n",
      "  32  3.0746096e+05 0.00e+00 1.86e-03 -11.0 8.38e-06    -  1.00e+00 1.00e+00f  1\n",
      "  33  3.0746096e+05 0.00e+00 1.18e-03 -11.0 5.31e-06    -  1.00e+00 1.00e+00f  1\n",
      "  34  3.0746096e+05 0.00e+00 7.48e-04 -11.0 3.37e-06    -  1.00e+00 1.00e+00f  1\n",
      "  35  3.0746096e+05 0.00e+00 4.74e-04 -11.0 2.13e-06    -  1.00e+00 1.00e+00h  1\n",
      "  36  3.0746096e+05 0.00e+00 3.01e-04 -11.0 1.35e-06    -  1.00e+00 1.00e+00f  1\n",
      "  37  3.0746096e+05 0.00e+00 1.90e-04 -11.0 8.57e-07    -  1.00e+00 1.00e+00f  1\n",
      "  38  3.0746096e+05 0.00e+00 1.21e-04 -11.0 5.43e-07    -  1.00e+00 1.00e+00f  1\n",
      "  39  3.0746096e+05 0.00e+00 7.65e-05 -11.0 3.44e-07    -  1.00e+00 1.00e+00h  1\n",
      "iter    objective    inf_pr   inf_du lg(mu)  ||d||  lg(rg) alpha_du alpha_pr  ls\n",
      "  40  3.0746096e+05 0.00e+00 4.85e-05 -11.0 2.18e-07    -  1.00e+00 1.00e+00f  1\n",
      "  41  3.0746096e+05 0.00e+00 3.07e-05 -11.0 1.38e-07    -  1.00e+00 1.00e+00f  1\n",
      "  42  3.0746096e+05 0.00e+00 1.95e-05 -11.0 8.76e-08    -  1.00e+00 1.00e+00h  1\n",
      "  43  3.0746096e+05 0.00e+00 1.23e-05 -11.0 5.55e-08    -  1.00e+00 1.00e+00f  1\n",
      "  44  3.0746096e+05 0.00e+00 7.82e-06 -11.0 3.52e-08    -  1.00e+00 1.00e+00h  1\n",
      "  45  3.0746096e+05 0.00e+00 4.96e-06 -11.0 2.23e-08    -  1.00e+00 1.00e+00f  1\n",
      "  46  3.0746096e+05 0.00e+00 3.14e-06 -11.0 1.41e-08    -  1.00e+00 1.00e+00f  1\n",
      "  47  3.0746096e+05 0.00e+00 1.99e-06 -11.0 8.96e-09    -  1.00e+00 1.00e+00h  1\n",
      "  48  3.0746096e+05 0.00e+00 1.26e-06 -11.0 5.67e-09    -  1.00e+00 1.00e+00f  1\n",
      "  49  3.0746096e+05 0.00e+00 8.00e-07 -11.0 3.60e-09    -  1.00e+00 1.00e+00f  1\n",
      "iter    objective    inf_pr   inf_du lg(mu)  ||d||  lg(rg) alpha_du alpha_pr  ls\n",
      "  50  3.0746096e+05 0.00e+00 5.08e-07 -11.0 2.28e-09    -  1.00e+00 1.00e+00h  1\n",
      "  51  3.0746096e+05 0.00e+00 3.22e-07 -11.0 1.45e-09    -  1.00e+00 1.00e+00f  1\n",
      "  52  3.0746096e+05 0.00e+00 2.04e-07 -11.0 9.18e-10    -  1.00e+00 1.00e+00f  1\n",
      "  53  3.0746096e+05 0.00e+00 1.28e-07 -11.0 5.76e-10    -  1.00e+00 1.00e+00h  1\n",
      "  54  3.0746096e+05 0.00e+00 8.19e-08 -11.0 3.69e-10    -  1.00e+00 1.00e+00h  1\n",
      "  55  3.0746096e+05 0.00e+00 5.28e-08 -11.0 2.38e-10    -  1.00e+00 1.00e+00f  1\n",
      "  56  3.0746096e+05 0.00e+00 3.20e-08 -11.0 1.43e-10    -  1.00e+00 1.00e+00h  1\n",
      "  57  3.0746096e+05 0.00e+00 2.12e-08 -11.0 9.57e-11    -  1.00e+00 1.00e+00f  1\n",
      "  58  3.0746096e+05 0.00e+00 1.38e-08 -11.0 6.21e-11    -  1.00e+00 1.00e+00f  1\n",
      "  59  3.0746096e+05 0.00e+00 8.24e-09 -11.0 3.69e-11    -  1.00e+00 1.00e+00h  1\n",
      "\n",
      "Number of Iterations....: 59\n",
      "\n",
      "                                   (scaled)                 (unscaled)\n",
      "Objective...............:   2.2560147350375093e+04    3.0746096198613988e+05\n",
      "Dual infeasibility......:   8.2421746830056667e-09    1.1232847541009505e-07\n",
      "Constraint violation....:   0.0000000000000000e+00    0.0000000000000000e+00\n",
      "Complementarity.........:   1.0000000003410767e-11    1.3628499730782818e-10\n",
      "Overall NLP error.......:   8.2421746830056667e-09    1.1232847541009505e-07\n",
      "\n",
      "\n",
      "Number of objective function evaluations             = 60\n",
      "Number of objective gradient evaluations             = 60\n",
      "Number of equality constraint evaluations            = 0\n",
      "Number of inequality constraint evaluations          = 0\n",
      "Number of equality constraint Jacobian evaluations   = 0\n",
      "Number of inequality constraint Jacobian evaluations = 0\n",
      "Number of Lagrangian Hessian evaluations             = 59\n",
      "Total CPU secs in IPOPT (w/o function evaluations)   =      0.748\n",
      "Total CPU secs in NLP function evaluations           =    114.711\n",
      "\n",
      "EXIT: Optimal Solution Found.\n",
      " 35.988688 seconds (272.37 M allocations: 24.317 GiB, 11.10% gc time)\n"
     ]
    },
    {
     "data": {
      "text/plain": [
       "-307460.9619861399"
      ]
     },
     "execution_count": 6,
     "metadata": {},
     "output_type": "execute_result"
    }
   ],
   "source": [
    "@time GLMCopula.fit!(gcm, IpoptSolver(print_level = 5, max_iter = 100, mehrotra_algorithm=\"yes\", warm_start_init_point=\"yes\", hessian_approximation = \"exact\"))"
   ]
  },
  {
   "cell_type": "code",
   "execution_count": 7,
   "metadata": {},
   "outputs": [
    {
     "name": "stdout",
     "output_type": "stream",
     "text": [
      "GLMCopula.loglikelihood!(gcm, true, true) = -307460.9619861399\n"
     ]
    }
   ],
   "source": [
    "@show GLMCopula.loglikelihood!(gcm, true, true);"
   ]
  },
  {
   "cell_type": "code",
   "execution_count": 8,
   "metadata": {},
   "outputs": [
    {
     "name": "stdout",
     "output_type": "stream",
     "text": [
      "gcm.θ = [-0.8403375636367664, 0.08190263795756803, 0.07951057908946718]\n"
     ]
    }
   ],
   "source": [
    "@show gcm.θ;"
   ]
  },
  {
   "cell_type": "code",
   "execution_count": 9,
   "metadata": {},
   "outputs": [
    {
     "name": "stdout",
     "output_type": "stream",
     "text": [
      "gcm.∇θ = [-1.1232847541009505e-7, 1.2900272849947214e-8, -6.235495675355196e-9]\n"
     ]
    }
   ],
   "source": [
    "@show gcm.∇θ;"
   ]
  },
  {
   "cell_type": "code",
   "execution_count": 10,
   "metadata": {},
   "outputs": [
    {
     "name": "stdout",
     "output_type": "stream",
     "text": [
      "estimated mean = 0.3014636939573119; true mean value= 0.3\n",
      "estimated variance component 1 = 0.08190263795756803; true variance component 1 = 0.1\n",
      "estimated variance component 2 = 0.07951057908946718; true variance component 2 = 0.1\n"
     ]
    }
   ],
   "source": [
    "println(\"estimated mean = $(exp(gcm.β[1]) / (1 + exp(gcm.β[1]))); true mean value= $mean\")\n",
    "println(\"estimated variance component 1 = $(gcm.Σ[1]); true variance component 1 = $variance_component_1\")\n",
    "println(\"estimated variance component 2 = $(gcm.Σ[2]); true variance component 2 = $variance_component_2\");"
   ]
  },
  {
   "cell_type": "code",
   "execution_count": 11,
   "metadata": {},
   "outputs": [
    {
     "data": {
      "text/plain": [
       "BenchmarkTools.Trial: \n",
       "  memory estimate:  137.33 MiB\n",
       "  allocs estimate:  1500000\n",
       "  --------------\n",
       "  minimum time:     204.282 ms (0.00% GC)\n",
       "  median time:      216.192 ms (0.00% GC)\n",
       "  mean time:        225.177 ms (6.33% GC)\n",
       "  maximum time:     246.732 ms (13.47% GC)\n",
       "  --------------\n",
       "  samples:          23\n",
       "  evals/sample:     1"
      ]
     },
     "execution_count": 11,
     "metadata": {},
     "output_type": "execute_result"
    }
   ],
   "source": [
    "using BenchmarkTools\n",
    "\n",
    "@benchmark loglikelihood!($gcm, true, true)"
   ]
  },
  {
   "cell_type": "code",
   "execution_count": 12,
   "metadata": {},
   "outputs": [
    {
     "data": {
      "text/plain": [
       "BenchmarkTools.Trial: \n",
       "  memory estimate:  0 bytes\n",
       "  allocs estimate:  0\n",
       "  --------------\n",
       "  minimum time:     28.108 ms (0.00% GC)\n",
       "  median time:      29.664 ms (0.00% GC)\n",
       "  mean time:        30.138 ms (0.00% GC)\n",
       "  maximum time:     36.814 ms (0.00% GC)\n",
       "  --------------\n",
       "  samples:          166\n",
       "  evals/sample:     1"
      ]
     },
     "execution_count": 12,
     "metadata": {},
     "output_type": "execute_result"
    }
   ],
   "source": [
    "@benchmark update_∇Σ!($gcm)"
   ]
  },
  {
   "cell_type": "code",
   "execution_count": 13,
   "metadata": {},
   "outputs": [
    {
     "data": {
      "text/plain": [
       "BenchmarkTools.Trial: \n",
       "  memory estimate:  0 bytes\n",
       "  allocs estimate:  0\n",
       "  --------------\n",
       "  minimum time:     68.047 μs (0.00% GC)\n",
       "  median time:      69.235 μs (0.00% GC)\n",
       "  mean time:        72.065 μs (0.00% GC)\n",
       "  maximum time:     360.865 μs (0.00% GC)\n",
       "  --------------\n",
       "  samples:          10000\n",
       "  evals/sample:     1"
      ]
     },
     "execution_count": 13,
     "metadata": {},
     "output_type": "execute_result"
    }
   ],
   "source": [
    "@benchmark update_HΣ!($gcm)"
   ]
  }
 ],
 "metadata": {
  "@webio": {
   "lastCommId": null,
   "lastKernelId": null
  },
  "kernelspec": {
   "display_name": "Julia 1.5.2",
   "language": "julia",
   "name": "julia-1.5"
  },
  "language_info": {
   "file_extension": ".jl",
   "mimetype": "application/julia",
   "name": "julia",
   "version": "1.5.2"
  }
 },
 "nbformat": 4,
 "nbformat_minor": 4
}
