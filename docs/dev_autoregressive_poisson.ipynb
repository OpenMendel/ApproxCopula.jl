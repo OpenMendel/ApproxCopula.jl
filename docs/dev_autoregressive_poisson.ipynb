{
 "cells": [
  {
   "cell_type": "markdown",
   "metadata": {},
   "source": [
    "# Autoregressive covariance structure \n",
    "\n",
    "Next we try to parameterize covariance Gamma only using two parameters rho and sigma2 as in the AR(1) structure.\n",
    "\n",
    "1. First we need to modify the structure itself\n",
    "2. Second modify the loglikelihood function \n",
    "3. Third modify gradient and hessian with respect to beta\n",
    "4. To-do: ADD gradient and hessian with respect to AR(1) parameterization"
   ]
  },
  {
   "cell_type": "code",
   "execution_count": 1,
   "metadata": {},
   "outputs": [
    {
     "data": {
      "text/plain": [
       "5×5 Array{Float64,2}:\n",
       " 0.2     0.02    0.002  0.0002  2.0e-5\n",
       " 0.02    0.2     0.02   0.002   0.0002\n",
       " 0.002   0.02    0.2    0.02    0.002\n",
       " 0.0002  0.002   0.02   0.2     0.02\n",
       " 2.0e-5  0.0002  0.002  0.02    0.2"
      ]
     },
     "execution_count": 1,
     "metadata": {},
     "output_type": "execute_result"
    }
   ],
   "source": [
    "using DataFrames, Random, GLM, GLMCopula, Test\n",
    "using LinearAlgebra, BenchmarkTools\n",
    "\n",
    "Random.seed!(1234)\n",
    "\n",
    "# sample size\n",
    "N = 1000\n",
    "# observations per subject\n",
    "n = 5\n",
    "ρ = 0.1\n",
    "σ2 = 0.2\n",
    "\n",
    "V = zeros(n, n) # will store the AR(1) structure without sigma2\n",
    "\n",
    "mean = 5\n",
    "\n",
    "dist = Poisson\n",
    "\n",
    "V = get_AR_cov(n, ρ, σ2, V)\n",
    "\n",
    "# true Gamma\n",
    "Γ = σ2 * V"
   ]
  },
  {
   "cell_type": "code",
   "execution_count": 2,
   "metadata": {},
   "outputs": [
    {
     "data": {
      "text/plain": [
       "1000-element Array{Array{Float64,1},1}:\n",
       " [3.0, 8.0, 7.0, 4.0, 2.0]\n",
       " [2.0, 6.0, 6.0, 6.0, 3.0]\n",
       " [3.0, 5.0, 5.0, 10.0, 3.0]\n",
       " [5.0, 6.0, 3.0, 5.0, 2.0]\n",
       " [10.0, 10.0, 1.0, 2.0, 2.0]\n",
       " [5.0, 5.0, 4.0, 5.0, 4.0]\n",
       " [1.0, 4.0, 6.0, 5.0, 5.0]\n",
       " [7.0, 8.0, 6.0, 4.0, 9.0]\n",
       " [5.0, 3.0, 4.0, 4.0, 4.0]\n",
       " [5.0, 5.0, 6.0, 4.0, 7.0]\n",
       " [3.0, 7.0, 6.0, 3.0, 6.0]\n",
       " [6.0, 3.0, 3.0, 8.0, 5.0]\n",
       " [3.0, 4.0, 7.0, 3.0, 4.0]\n",
       " ⋮\n",
       " [1.0, 6.0, 1.0, 0.0, 5.0]\n",
       " [7.0, 7.0, 7.0, 4.0, 8.0]\n",
       " [7.0, 1.0, 4.0, 8.0, 7.0]\n",
       " [2.0, 6.0, 7.0, 1.0, 7.0]\n",
       " [3.0, 6.0, 6.0, 2.0, 6.0]\n",
       " [4.0, 6.0, 15.0, 3.0, 8.0]\n",
       " [4.0, 9.0, 5.0, 1.0, 4.0]\n",
       " [6.0, 5.0, 2.0, 4.0, 3.0]\n",
       " [7.0, 7.0, 10.0, 3.0, 5.0]\n",
       " [2.0, 5.0, 2.0, 7.0, 1.0]\n",
       " [4.0, 2.0, 5.0, 4.0, 12.0]\n",
       " [3.0, 3.0, 5.0, 9.0, 4.0]"
      ]
     },
     "execution_count": 2,
     "metadata": {},
     "output_type": "execute_result"
    }
   ],
   "source": [
    "vecd = [dist(mean) for i in 1:n]\n",
    "nonmixed_multivariate_dist = NonMixedMultivariateDistribution(vecd, Γ)\n",
    "\n",
    "Y_Nsample = simulate_nobs_independent_vectors(nonmixed_multivariate_dist, N)"
   ]
  },
  {
   "cell_type": "code",
   "execution_count": 3,
   "metadata": {},
   "outputs": [],
   "source": [
    "Random.seed!(1234)\n",
    "\n",
    "d = Poisson()\n",
    "link = LogLink()\n",
    "D = typeof(d)\n",
    "Link = typeof(link)\n",
    "T = Float64\n",
    "gcs = Vector{GLMCopulaARObs{T, D, Link}}(undef, N)\n",
    "\n",
    "for i in 1:N\n",
    "    y = Float64.(Y_Nsample[i])\n",
    "    X = ones(n, 1)\n",
    "    gcs[i] = GLMCopulaARObs(y, X, d, link)\n",
    "end\n",
    "\n",
    "gcm = GLMCopulaARModel(gcs);"
   ]
  },
  {
   "cell_type": "code",
   "execution_count": 4,
   "metadata": {
    "scrolled": true
   },
   "outputs": [
    {
     "name": "stdout",
     "output_type": "stream",
     "text": [
      "initializing β using Newton's Algorithm under Independence Assumption\n",
      "1 0.0 -11363.432404320156 3999\n",
      "2 -11363.432404320156 -11363.432404320156 3999\n",
      "gcm.β = [1.6278670479024675]\n",
      "exp.(gcm.β) = [5.093]\n"
     ]
    }
   ],
   "source": [
    "initialize_model!(gcm)\n",
    "@show gcm.β\n",
    "@show exp.(gcm.β);"
   ]
  },
  {
   "cell_type": "code",
   "execution_count": 5,
   "metadata": {},
   "outputs": [
    {
     "data": {
      "text/plain": [
       "5"
      ]
     },
     "execution_count": 5,
     "metadata": {},
     "output_type": "execute_result"
    }
   ],
   "source": [
    "gc = gcm.data[1]\n",
    "β  = gcm.β\n",
    "\n",
    "n_i  = length(gc.y)"
   ]
  },
  {
   "cell_type": "code",
   "execution_count": 6,
   "metadata": {},
   "outputs": [],
   "source": [
    "update_res!(gc, β)\n",
    "standardize_res!(gc)"
   ]
  },
  {
   "cell_type": "code",
   "execution_count": 7,
   "metadata": {},
   "outputs": [
    {
     "data": {
      "text/plain": [
       "\u001b[32m\u001b[1mTest Passed\u001b[22m\u001b[39m"
      ]
     },
     "execution_count": 7,
     "metadata": {},
     "output_type": "execute_result"
    }
   ],
   "source": [
    "@test gc.η == gc.X*β                         # systematic linear component\n",
    "@test gc.μ == exp.(gc.η)                     # mu = ginverse of XB = mean component for GLM\n",
    "@test gc.varμ == exp.(gc.η)                  # variance of the GLM response as a function of mean mu\n",
    "@test gc.res ≈ (gc.y - gc.μ)./sqrt.(gc.varμ) # standardized residual for GLM outcome"
   ]
  },
  {
   "cell_type": "markdown",
   "metadata": {},
   "source": [
    "# loglikelihood \n",
    "\n",
    "## Loglikelihood for observation i = 1, j in [1, n_1]\n",
    "$$\\mathcal{L}(\\mathbf{\\beta})_1 =  - \\ln \\Big[1\\! +\\! \\frac{1}{2}tr(\\mathbf{\\Gamma_{1}})\\Big] +\n",
    "\\ln \\Big\\{1\\!+\\!\\frac{1}{2}\\mathbf{r_1}(\\mathbf{\\beta})^t \\mathbf{\\Gamma_1} \\mathbf{r_1}(\\mathbf{\\beta})\\Big\\} +  \\sum_{j=1}^{n_1}y_{1j}log(\\mu_{1j}(\\mathbf{\\beta})) - \\mu_{1j}(\\mathbf{\\beta})$$"
   ]
  },
  {
   "cell_type": "code",
   "execution_count": 8,
   "metadata": {},
   "outputs": [
    {
     "name": "stdout",
     "output_type": "stream",
     "text": [
      "term1 = -0.4054651081081644\n"
     ]
    }
   ],
   "source": [
    "Γ_est = σ2 * V\n",
    "trace_gamma = tr(Γ_est)\n",
    "\n",
    "term1 = -log(1 + 0.5 * trace_gamma)\n",
    "@show term1;"
   ]
  },
  {
   "cell_type": "code",
   "execution_count": 9,
   "metadata": {},
   "outputs": [
    {
     "data": {
      "text/plain": [
       "-0.4054651081081644"
      ]
     },
     "execution_count": 9,
     "metadata": {},
     "output_type": "execute_result"
    }
   ],
   "source": [
    "term1 = -log(1 + 0.5 * n_i * σ2)"
   ]
  },
  {
   "cell_type": "code",
   "execution_count": 10,
   "metadata": {},
   "outputs": [
    {
     "data": {
      "text/plain": [
       "0.4267297849640152"
      ]
     },
     "execution_count": 10,
     "metadata": {},
     "output_type": "execute_result"
    }
   ],
   "source": [
    "term2 = log(1 + σ2 * 0.5 * transpose(gc.res) * V * gc.res)"
   ]
  },
  {
   "cell_type": "code",
   "execution_count": 11,
   "metadata": {},
   "outputs": [
    {
     "data": {
      "text/plain": [
       "-11.18891559428739"
      ]
     },
     "execution_count": 11,
     "metadata": {},
     "output_type": "execute_result"
    }
   ],
   "source": [
    "function poisson_density(y, μ)\n",
    "    logl = 0.0\n",
    "    for j in 1:length(y)\n",
    "        logl += y[j] * log(μ[j]) - μ[j] - log(factorial(y[j]))\n",
    "    end\n",
    "    logl\n",
    "end\n",
    "\n",
    "term3 = poisson_density(gc.y, gc.μ)"
   ]
  },
  {
   "cell_type": "code",
   "execution_count": 12,
   "metadata": {},
   "outputs": [
    {
     "data": {
      "text/plain": [
       "-11.16765091743154"
      ]
     },
     "execution_count": 12,
     "metadata": {},
     "output_type": "execute_result"
    }
   ],
   "source": [
    "logl_gc1 = term1 + term2 + term3"
   ]
  },
  {
   "cell_type": "code",
   "execution_count": 13,
   "metadata": {},
   "outputs": [
    {
     "data": {
      "text/plain": [
       "\u001b[32m\u001b[1mTest Passed\u001b[22m\u001b[39m"
      ]
     },
     "execution_count": 13,
     "metadata": {},
     "output_type": "execute_result"
    }
   ],
   "source": [
    "@test loglikelihood!(gc, β, ρ, σ2, true, true) ≈ -11.16765091743154\n",
    "@test gc.∇β ≈ [-1.6506528461688563] # i get this value hard coded below\n",
    "@test gc.Hβ ≈ [-21.589097278447113] # i get this value hard coded below"
   ]
  },
  {
   "cell_type": "markdown",
   "metadata": {},
   "source": [
    "# A Closer Look at the Gradient for observation i=1\n",
    "\n",
    "$$\\begin{eqnarray*}\n",
    "\\nabla_\\beta &=& \\sum_{i=1}^n \\sum_j \\nabla \\ln f_{ij}(y_{ij} \\mid \\mathbf{\\beta}) + \\sum_{i=1}^n\n",
    "\\frac{\\nabla \\mathbf{r_i(\\mathbf{\\beta})}\\mathbf{\\Gamma_i}\\mathbf{r_i(\\mathbf{\\beta})}}{1+\\frac{1}{2}\\mathbf{r_i}(\\mathbf{\\beta})^t \\mathbf{\\Gamma_i} \\mathbf{r_i(\\mathbf{\\beta})}}\n",
    "\\end{eqnarray*}\n",
    "$$\n",
    "\n",
    "The gradient is made of two terms. The first is from the GLM component loglikelihood that corresponds to the Logistic Regression density. The second part is specific to our copula model. We start with Term 1 for observation 1:\n",
    "\n",
    "$$\\begin{eqnarray*}\n",
    "    \\text{Term 1} &=& \\sum_{j=1}^{n_1} \\frac{(y_{1j}-\\mu_{1j}) \\mu_{1j}'(\\eta_{1j})}{\\sigma_{1j}^2} \\mathbf{x}_{1j}\n",
    "\\end{eqnarray*}\n",
    "$$\n",
    "\n",
    "We will check if the field $\\mu_{1j}'$ or `mueta` from the GLM.jl package matches our theoretical value"
   ]
  },
  {
   "cell_type": "code",
   "execution_count": 14,
   "metadata": {},
   "outputs": [
    {
     "data": {
      "text/plain": [
       "1-element Array{Float64,1}:\n",
       " -1.4649999999999999"
      ]
     },
     "execution_count": 14,
     "metadata": {},
     "output_type": "execute_result"
    }
   ],
   "source": [
    "function poisson_gradient(y, X, dμ, σ2, μ)\n",
    "    grad = zeros(size(X, 2))\n",
    "    for j in 1:length(y)\n",
    "        grad += (y[j] - μ[j]) * dμ[j]/σ2[j] * X[j, :]\n",
    "    end\n",
    "    grad\n",
    "end\n",
    "\n",
    "# check if glm gradient is right\n",
    "term1_gradient = poisson_gradient(gc.y, gc.X, gc.dμ, gc.varμ, gc.μ)"
   ]
  },
  {
   "cell_type": "code",
   "execution_count": 15,
   "metadata": {},
   "outputs": [
    {
     "data": {
      "text/plain": [
       "\u001b[32m\u001b[1mTest Passed\u001b[22m\u001b[39m"
      ]
     },
     "execution_count": 15,
     "metadata": {},
     "output_type": "execute_result"
    }
   ],
   "source": [
    "term1_grad_fctn = GLMCopula.glm_gradient(gc, β, 1.0)\n",
    "@test term1_gradient == term1_grad_fctn"
   ]
  },
  {
   "cell_type": "code",
   "execution_count": 16,
   "metadata": {},
   "outputs": [],
   "source": [
    "update_res!(gc, β)\n",
    "standardize_res!(gc)\n",
    "std_res_differential!(gc)"
   ]
  },
  {
   "cell_type": "markdown",
   "metadata": {},
   "source": [
    "\n",
    "$$\\begin{eqnarray*}\n",
    "\\text{Term 2} &=& \\sum_{i=1}^n\n",
    "\\frac{\\nabla \\mathbf{r_i(\\mathbf{\\beta})}\\mathbf{\\Gamma_i}\\mathbf{r_i(\\mathbf{\\beta})}}{1+\\frac{1}{2}\\mathbf{r_i}(\\mathbf{\\beta})^t \\mathbf{\\Gamma_i} \\mathbf{r_i(\\mathbf{\\beta})}}\n",
    "\\end{eqnarray*}\n",
    "$$"
   ]
  },
  {
   "cell_type": "code",
   "execution_count": 17,
   "metadata": {},
   "outputs": [
    {
     "name": "stdout",
     "output_type": "stream",
     "text": [
      "grad_t2_numerator = [-0.2844644518790497]\n",
      "quadratic_form = 1.0644771437580993\n",
      "grad_t2_denominator = 0.6526398815124835\n"
     ]
    },
    {
     "data": {
      "text/plain": [
       "1-element Array{Float64,1}:\n",
       " -0.18565284616885655"
      ]
     },
     "execution_count": 17,
     "metadata": {},
     "output_type": "execute_result"
    }
   ],
   "source": [
    "grad_t2_numerator = transpose(gc.∇resβ) * Γ_est * gc.res       # new term ∇resβ^t * Γ * res\n",
    "@show grad_t2_numerator\n",
    "\n",
    "quadratic_form = transpose(gc.res) * Γ_est * gc.res\n",
    "@show quadratic_form \n",
    "\n",
    "grad_t2_denominator = inv(1 + 0.5 * quadratic_form)\n",
    "@show grad_t2_denominator\n",
    "\n",
    "gradient_term2 = grad_t2_numerator * grad_t2_denominator"
   ]
  },
  {
   "cell_type": "code",
   "execution_count": 18,
   "metadata": {},
   "outputs": [
    {
     "data": {
      "text/plain": [
       "1-element Array{Float64,1}:\n",
       " -1.6506528461688563"
      ]
     },
     "execution_count": 18,
     "metadata": {},
     "output_type": "execute_result"
    }
   ],
   "source": [
    "gradient_hard_code = term1_gradient + gradient_term2"
   ]
  },
  {
   "cell_type": "markdown",
   "metadata": {},
   "source": [
    "## Hessian\n",
    "\n",
    "$$\\text{Term 1 }= - \\sum_{j=1}^{n_1} \\frac{[\\mu_{1j}'(\\eta_{1j})]^2}{\\sigma_{1j}^2} \\mathbf{x}_{1j} \\mathbf{x}_{1j}^T = - \\mathbf{X_1}^T \\mathbf{W_{21}} \\mathbf{X_1}. $$"
   ]
  },
  {
   "cell_type": "code",
   "execution_count": 19,
   "metadata": {},
   "outputs": [
    {
     "data": {
      "text/plain": [
       "1×1 Array{Float64,2}:\n",
       " -25.465"
      ]
     },
     "execution_count": 19,
     "metadata": {},
     "output_type": "execute_result"
    }
   ],
   "source": [
    "hess_term1 = -transpose(gc.X) * Diagonal(gc.w2) * gc.X"
   ]
  },
  {
   "cell_type": "markdown",
   "metadata": {},
   "source": [
    "## Term 2: Copula Model Specific\n",
    "\n",
    "The hessian of our model specific component is the partial of this second term in the gradient:\n",
    "\n",
    "\n",
    "$$\\begin{eqnarray*}\n",
    "\\nabla_\\beta \\text{Term 2} &=& \\sum_{i=1}^n\n",
    "\\frac{\\nabla \\mathbf{r_i(\\mathbf{\\beta})}\\mathbf{\\Gamma_i}\\mathbf{r_i(\\mathbf{\\beta})}}{1+\\frac{1}{2}\\mathbf{r_i}(\\mathbf{\\beta})^t \\mathbf{\\Gamma_i} \\mathbf{r_i(\\mathbf{\\beta})}}\n",
    "\\end{eqnarray*}\n",
    "$$\n",
    "\n",
    "$$ H_\\beta \\text{Term 2} = - \\frac{[\\nabla \\mathbf{r_1}(\\mathbf{\\beta})^t\\mathbf{\\Gamma_1} \\mathbf{r_1}(\\mathbf{\\beta})]\n",
    "[\\nabla \\mathbf{r_1}(\\mathbf{\\beta})^t\\mathbf{\\Gamma_1} \\mathbf{r_1}(\\mathbf{\\beta})]^t}\n",
    "{\\Big[1+\\frac{1}{2}\\mathbf{r_1}(\\mathbf{\\beta})^t \\mathbf{\\Gamma_1} \\mathbf{r_1}(\\mathbf{\\beta})\\Big]^2}$$\n",
    "\n",
    "We notice the quantity we need to first form this matrix: \n",
    "\n",
    "\\begin{eqnarray*}\n",
    "&  & \\nabla \\mathbf{r_1}(\\mathbf{\\beta})^t\\mathbf{\\Gamma_1} \\mathbf{r_1}(\\mathbf{\\beta}) =\n",
    "\\sum_{k=1}^m \\mathbf\\Sigma[k] * \\nabla \\mathbf{r_1}(\\mathbf{\\beta})^t * \\mathbf{V_1}[k] * \\mathbf{r_1}(\\mathbf{\\beta})\n",
    "\\end{eqnarray*}"
   ]
  },
  {
   "cell_type": "code",
   "execution_count": 20,
   "metadata": {},
   "outputs": [],
   "source": [
    "update_res!(gc, β)\n",
    "standardize_res!(gc)"
   ]
  },
  {
   "cell_type": "code",
   "execution_count": 21,
   "metadata": {},
   "outputs": [
    {
     "data": {
      "text/plain": [
       "1×1 Array{Float64,2}:\n",
       " -0.03446697929059711"
      ]
     },
     "execution_count": 21,
     "metadata": {},
     "output_type": "execute_result"
    }
   ],
   "source": [
    "hess_term2 = -inv(1 + 0.5 * quadratic_form)^2 * (transpose(gc.∇resβ) * Γ_est * gc.res) * transpose(transpose(gc.∇resβ) * Γ_est * gc.res)"
   ]
  },
  {
   "cell_type": "markdown",
   "metadata": {},
   "source": [
    "We will add the additional term in the approximate hessian that is not the second derivative. \n",
    "\n",
    "\\begin{eqnarray*}\n",
    "&=& - \\sum_{i=1}^n \\mathbf{X_i}^T \\mathbf{W_{2i}} \\mathbf{X_i} -\\sum_{i=1}^n\\frac{[\\nabla \\mathbf{r_i}(\\mathbf{\\beta})^t\\mathbf{\\Gamma_i} \\mathbf{r_i}(\\mathbf{\\beta})]\n",
    "[\\nabla \\mathbf{r_i}(\\mathbf{\\beta})^t\\mathbf{\\Gamma_i} \\mathbf{r_i}(\\mathbf{\\beta})]^t}\n",
    "{\\Big[1+\\frac{1}{2}\\mathbf{r_i}(\\mathbf{\\beta})^t \\mathbf{\\Gamma_i} \\mathbf{r_i}(\\mathbf{\\beta})\\Big]^2} +  \\sum_{i=1}^n\\frac{\\nabla \\mathbf{r_i}(\\mathbf{\\beta})^t\\mathbf{\\Gamma_i} \\nabla \\mathbf{r_i}(\\mathbf{\\beta})}{1+\\frac{1}{2}\\mathbf{r_i}(\\mathbf{\\beta})^t \\mathbf{\\Gamma_i} \\mathbf{r_i}(\\mathbf{\\beta})}\n",
    "\\end{eqnarray*}\n"
   ]
  },
  {
   "cell_type": "code",
   "execution_count": 22,
   "metadata": {},
   "outputs": [
    {
     "data": {
      "text/plain": [
       "1×1 Array{Float64,2}:\n",
       " 3.910369700843483"
      ]
     },
     "execution_count": 22,
     "metadata": {},
     "output_type": "execute_result"
    }
   ],
   "source": [
    "## additional hessian term\n",
    "\n",
    "hess_term3 = inv(1 + 0.5 * quadratic_form) * transpose(gc.∇resβ) * Γ_est * gc.∇resβ"
   ]
  },
  {
   "cell_type": "code",
   "execution_count": 23,
   "metadata": {},
   "outputs": [
    {
     "data": {
      "text/plain": [
       "1×1 Array{Float64,2}:\n",
       " -21.589097278447113"
      ]
     },
     "execution_count": 23,
     "metadata": {},
     "output_type": "execute_result"
    }
   ],
   "source": [
    "hessian_gc1 = hess_term1 + hess_term2 + hess_term3"
   ]
  },
  {
   "cell_type": "markdown",
   "metadata": {},
   "source": [
    "## TO DO: check hessian term2 \n",
    "\n",
    "1. loglikelihood gradient and hessian is ok \n",
    "2. add gradient and hessian wrt to AR(1)\n",
    "\n",
    "\n",
    "## scratch work below is for first observation gradient hessian wrt rho and sigma2 forAR1"
   ]
  },
  {
   "cell_type": "code",
   "execution_count": 24,
   "metadata": {},
   "outputs": [
    {
     "data": {
      "text/plain": [
       "1-element Array{Float64,1}:\n",
       " 1.0"
      ]
     },
     "execution_count": 24,
     "metadata": {},
     "output_type": "execute_result"
    }
   ],
   "source": [
    "fill!(gcm.ρ, 1.0)\n",
    "fill!(gcm.σ2, 1.0)"
   ]
  },
  {
   "cell_type": "code",
   "execution_count": 25,
   "metadata": {},
   "outputs": [],
   "source": [
    "gc = gcm.data[1]\n",
    "gc2 = deepcopy(gc)\n",
    "gc3 = deepcopy(gc)\n",
    "gc4 = deepcopy(gc);"
   ]
  },
  {
   "cell_type": "code",
   "execution_count": 26,
   "metadata": {},
   "outputs": [
    {
     "data": {
      "text/plain": [
       "BenchmarkTools.Trial: \n",
       "  memory estimate:  0 bytes\n",
       "  allocs estimate:  0\n",
       "  --------------\n",
       "  minimum time:     40.348 ns (0.00% GC)\n",
       "  median time:      41.330 ns (0.00% GC)\n",
       "  mean time:        43.900 ns (0.00% GC)\n",
       "  maximum time:     173.709 ns (0.00% GC)\n",
       "  --------------\n",
       "  samples:          10000\n",
       "  evals/sample:     987"
      ]
     },
     "execution_count": 26,
     "metadata": {},
     "output_type": "execute_result"
    }
   ],
   "source": [
    "n = 5\n",
    "ρ = 0.1\n",
    "σ2 = 0.2\n",
    "V = zeros(n, n)\n",
    "@benchmark GLMCopula.get_AR_cov($n, $ρ, $σ2, $V)"
   ]
  },
  {
   "cell_type": "code",
   "execution_count": 27,
   "metadata": {},
   "outputs": [
    {
     "data": {
      "text/plain": [
       "5×5 Array{Float64,2}:\n",
       " 1.0     0.1    0.01  0.001  0.0001\n",
       " 0.1     1.0    0.1   0.01   0.001\n",
       " 0.01    0.1    1.0   0.1    0.01\n",
       " 0.001   0.01   0.1   1.0    0.1\n",
       " 0.0001  0.001  0.01  0.1    1.0"
      ]
     },
     "execution_count": 27,
     "metadata": {},
     "output_type": "execute_result"
    }
   ],
   "source": [
    "## gradient wrt rho \n",
    "n = length(gc.y)\n",
    "storage_n = zeros(n)\n",
    "\n",
    "Vi = get_AR_cov(n, ρ, σ2, V)"
   ]
  },
  {
   "cell_type": "code",
   "execution_count": 28,
   "metadata": {},
   "outputs": [
    {
     "data": {
      "text/plain": [
       "5×5 Array{Float64,2}:\n",
       " 0.0    1.0   0.2  0.03  0.004\n",
       " 1.0    0.0   1.0  0.2   0.03\n",
       " 0.2    1.0   0.0  1.0   0.2\n",
       " 0.03   0.2   1.0  0.0   1.0\n",
       " 0.004  0.03  0.2  1.0   0.0"
      ]
     },
     "execution_count": 28,
     "metadata": {},
     "output_type": "execute_result"
    }
   ],
   "source": [
    "function get_∇ARV(n, ρ, σ2, ∇ARV)\n",
    "    @inbounds for i in 1:n\n",
    "        ∇ARV[i, i] = 0.0\n",
    "        @inbounds for j in i+1:n\n",
    "            ∇ARV[i, j] = (j-i)* ρ^(j-i-1)\n",
    "            ∇ARV[j, i] = ∇ARV[i, j]\n",
    "        end\n",
    "    end\n",
    "    ∇ARV\n",
    "end\n",
    "\n",
    "∇ARV = zeros(n, n)\n",
    "\n",
    "∇ARVi = get_∇ARV(n, ρ, σ2, ∇ARV)"
   ]
  },
  {
   "cell_type": "code",
   "execution_count": 29,
   "metadata": {},
   "outputs": [],
   "source": [
    "update_res!(gc, gcm.β)\n",
    "\n",
    "standardize_res!(gc)"
   ]
  },
  {
   "cell_type": "markdown",
   "metadata": {},
   "source": [
    "## gradient wrt to rho"
   ]
  },
  {
   "cell_type": "code",
   "execution_count": 30,
   "metadata": {},
   "outputs": [
    {
     "data": {
      "text/plain": [
       "-0.05210434528647787"
      ]
     },
     "execution_count": 30,
     "metadata": {},
     "output_type": "execute_result"
    }
   ],
   "source": [
    "grad_rho_gc1 = inv(1 + 0.5 * σ2 * transpose(gc.res) * Vi * gc.res) * 0.5 * σ2 * transpose(gc.res) * ∇ARVi * gc.res"
   ]
  },
  {
   "cell_type": "code",
   "execution_count": 31,
   "metadata": {},
   "outputs": [
    {
     "data": {
      "text/plain": [
       "5×5 Array{Float64,2}:\n",
       " 0.0   0.0  2.0  0.6  0.12\n",
       " 0.0   0.0  0.0  2.0  0.6\n",
       " 2.0   0.0  0.0  0.0  2.0\n",
       " 0.6   2.0  0.0  0.0  0.0\n",
       " 0.12  0.6  2.0  0.0  0.0"
      ]
     },
     "execution_count": 31,
     "metadata": {},
     "output_type": "execute_result"
    }
   ],
   "source": [
    "function get_∇2ARV(n, ρ, σ2, ∇ARV)\n",
    "    @inbounds for i in 1:n\n",
    "        ∇ARV[i, i] = 0.0\n",
    "        @inbounds for j in i+1:n\n",
    "            ∇ARV[i, j] = (j-i)*(j-i-1)* ρ^(j-i-2)\n",
    "            ∇ARV[j, i] = ∇ARV[i, j]\n",
    "        end\n",
    "    end\n",
    "    ∇ARV\n",
    "end\n",
    "\n",
    "∇2ARV = zeros(n, n)\n",
    "\n",
    "∇2ARVi = get_∇2ARV(n, ρ, σ2, ∇2ARV)"
   ]
  },
  {
   "cell_type": "markdown",
   "metadata": {},
   "source": [
    "##  hessian wrt to rho"
   ]
  },
  {
   "cell_type": "code",
   "execution_count": 32,
   "metadata": {},
   "outputs": [
    {
     "data": {
      "text/plain": [
       "-0.7529639280856892"
      ]
     },
     "execution_count": 32,
     "metadata": {},
     "output_type": "execute_result"
    }
   ],
   "source": [
    "hess_rho_gc1_t1 = inv(1 + 0.5 * σ2 * transpose(gc.res) * Vi * gc.res) * 0.5 * σ2 * transpose(gc.res) * ∇2ARVi * gc.res"
   ]
  },
  {
   "cell_type": "code",
   "execution_count": 33,
   "metadata": {},
   "outputs": [
    {
     "data": {
      "text/plain": [
       "0.03400537373405244"
      ]
     },
     "execution_count": 33,
     "metadata": {},
     "output_type": "execute_result"
    }
   ],
   "source": [
    "hess_rho_gc1_t2 = -inv(1 + 0.5 * σ2 * transpose(gc.res) * Vi * gc.res)^2 * 0.5 * σ2 * transpose(gc.res) * ∇ARVi * gc.res"
   ]
  },
  {
   "cell_type": "code",
   "execution_count": 34,
   "metadata": {},
   "outputs": [
    {
     "data": {
      "text/plain": [
       "-0.7189585543516368"
      ]
     },
     "execution_count": 34,
     "metadata": {},
     "output_type": "execute_result"
    }
   ],
   "source": [
    "hessian_rho_gc1 = hess_rho_gc1_t1 + hess_rho_gc1_t2"
   ]
  },
  {
   "cell_type": "markdown",
   "metadata": {},
   "source": [
    "## gradient wrt to sigma2"
   ]
  },
  {
   "cell_type": "code",
   "execution_count": 35,
   "metadata": {},
   "outputs": [
    {
     "data": {
      "text/plain": [
       "-1.6666666666666665"
      ]
     },
     "execution_count": 35,
     "metadata": {},
     "output_type": "execute_result"
    }
   ],
   "source": [
    "grad_sigma2_gc1_t1 = -0.5 * n * inv(1 + 0.5 * n * σ2) "
   ]
  },
  {
   "cell_type": "code",
   "execution_count": 36,
   "metadata": {},
   "outputs": [
    {
     "data": {
      "text/plain": [
       "1.736800592437582"
      ]
     },
     "execution_count": 36,
     "metadata": {},
     "output_type": "execute_result"
    }
   ],
   "source": [
    "grad_sigma2_gc1_t2 = inv(1 + 0.5 * σ2 * transpose(gc.res) * Vi * gc.res) * 0.5 * transpose(gc.res) * Vi * gc.res"
   ]
  },
  {
   "cell_type": "code",
   "execution_count": 37,
   "metadata": {},
   "outputs": [
    {
     "data": {
      "text/plain": [
       "0.07013392577091548"
      ]
     },
     "execution_count": 37,
     "metadata": {},
     "output_type": "execute_result"
    }
   ],
   "source": [
    "grad_sigma2_gc1 = grad_sigma2_gc1_t1 + grad_sigma2_gc1_t2"
   ]
  },
  {
   "cell_type": "markdown",
   "metadata": {},
   "source": [
    "## hessian wrt to sigma2"
   ]
  },
  {
   "cell_type": "code",
   "execution_count": 38,
   "metadata": {},
   "outputs": [
    {
     "data": {
      "text/plain": [
       "2.7777777777777777"
      ]
     },
     "execution_count": 38,
     "metadata": {},
     "output_type": "execute_result"
    }
   ],
   "source": [
    "hess_sigma2_gc1_t1 = 0.25 * n^2 * inv(1 + 0.5 * n * σ2)^2"
   ]
  },
  {
   "cell_type": "code",
   "execution_count": 39,
   "metadata": {},
   "outputs": [
    {
     "data": {
      "text/plain": [
       "-3.0164762978915354"
      ]
     },
     "execution_count": 39,
     "metadata": {},
     "output_type": "execute_result"
    }
   ],
   "source": [
    "hess_sigma2_gc1_t2 = -inv(1 + 0.5 * σ2 * transpose(gc.res) * Vi * gc.res)^2 * (0.5 * transpose(gc.res) * Vi * gc.res)^2"
   ]
  },
  {
   "cell_type": "code",
   "execution_count": 40,
   "metadata": {},
   "outputs": [
    {
     "data": {
      "text/plain": [
       "-0.2386985201137577"
      ]
     },
     "execution_count": 40,
     "metadata": {},
     "output_type": "execute_result"
    }
   ],
   "source": [
    "hess_sigma2_gc1 = hess_sigma2_gc1_t1 + hess_sigma2_gc1_t2"
   ]
  },
  {
   "cell_type": "code",
   "execution_count": null,
   "metadata": {},
   "outputs": [],
   "source": []
  }
 ],
 "metadata": {
  "@webio": {
   "lastCommId": null,
   "lastKernelId": null
  },
  "kernelspec": {
   "display_name": "Julia 1.5.2",
   "language": "julia",
   "name": "julia-1.5"
  },
  "language_info": {
   "file_extension": ".jl",
   "mimetype": "application/julia",
   "name": "julia",
   "version": "1.5.2"
  }
 },
 "nbformat": 4,
 "nbformat_minor": 4
}
