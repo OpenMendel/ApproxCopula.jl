{
 "cells": [
  {
   "cell_type": "markdown",
   "metadata": {},
   "source": [
    "## TOC:\n",
    "* [AR(1)](#ex1)\n",
    "* [CS positive rho](#ex2)\n",
    "* [CS negative rho](#ex3)"
   ]
  },
  {
   "cell_type": "code",
   "execution_count": 1,
   "metadata": {},
   "outputs": [],
   "source": [
    "using GLMCopula, DelimitedFiles, LinearAlgebra, Random, GLM, MixedModels, CategoricalArrays\n",
    "using Random, Roots, SpecialFunctions, StatsBase\n",
    "using DataFrames, DelimitedFiles, Statistics, ToeplitzMatrices\n",
    "import StatsBase: sem"
   ]
  },
  {
   "cell_type": "code",
   "execution_count": 2,
   "metadata": {},
   "outputs": [
    {
     "data": {
      "text/plain": [
       "Float64"
      ]
     },
     "execution_count": 2,
     "metadata": {},
     "output_type": "execute_result"
    }
   ],
   "source": [
    "p = 1   # number of fixed effects, including intercept\n",
    "\n",
    "# true parameter values\n",
    "βtrue = [log(5.0)]\n",
    "σ2true = [0.1]\n",
    "ρtrue = [0.6]\n",
    "\n",
    "ni = 5 # number of observations per cluster\n",
    "samplesize = 100000 # number of sampling units\n",
    "\n",
    "d = Poisson()\n",
    "link = LogLink()\n",
    "D = typeof(d)\n",
    "Link = typeof(link)\n",
    "T = Float64"
   ]
  },
  {
   "cell_type": "markdown",
   "metadata": {},
   "source": [
    "## AR(1) <a class=\"anchor\" id=\"ex1\"></a>\n",
    "\n",
    "\n",
    "$\\rho = 0.6, \\sigma^2 = 0.1$\n"
   ]
  },
  {
   "cell_type": "code",
   "execution_count": 3,
   "metadata": {},
   "outputs": [
    {
     "data": {
      "text/plain": [
       "5×5 Matrix{Float64}:\n",
       " 0.1      0.06    0.036  0.0216  0.01296\n",
       " 0.06     0.1     0.06   0.036   0.0216\n",
       " 0.036    0.06    0.1    0.06    0.036\n",
       " 0.0216   0.036   0.06   0.1     0.06\n",
       " 0.01296  0.0216  0.036  0.06    0.1"
      ]
     },
     "execution_count": 3,
     "metadata": {},
     "output_type": "execute_result"
    }
   ],
   "source": [
    "function get_V_AR(ρ, n)\n",
    "    vec = zeros(n)\n",
    "    vec[1] = 1.0\n",
    "    for i in 2:n\n",
    "        vec[i] = vec[i - 1] * ρ\n",
    "    end\n",
    "    V = ToeplitzMatrices.SymmetricToeplitz(vec)\n",
    "    V\n",
    "end\n",
    "\n",
    "V_AR = get_V_AR(ρtrue[1], ni)\n",
    "\n",
    "# true Gamma\n",
    "Γ_AR = σ2true[1] * V_AR"
   ]
  },
  {
   "cell_type": "code",
   "execution_count": 4,
   "metadata": {},
   "outputs": [
    {
     "name": "stdout",
     "output_type": "stream",
     "text": [
      "  1.993135 seconds (10.74 M allocations: 1.408 GiB, 8.34% gc time, 27.27% compilation time)\n"
     ]
    },
    {
     "data": {
      "text/plain": [
       "5×5 Matrix{Float64}:\n",
       " 5.4753     0.239691  0.155916  0.103735  0.0684627\n",
       " 0.239691   5.46275   0.237582  0.124543  0.071047\n",
       " 0.155916   0.237582  5.40272   0.221336  0.14614\n",
       " 0.103735   0.124543  0.221336  5.40579   0.241656\n",
       " 0.0684627  0.071047  0.14614   0.241656  5.46087"
      ]
     },
     "execution_count": 4,
     "metadata": {},
     "output_type": "execute_result"
    }
   ],
   "source": [
    "vecd = Vector{DiscreteUnivariateDistribution}(undef, ni)\n",
    "for i in 1:ni\n",
    "    vecd[i] = Poisson(5.0)\n",
    "end\n",
    "nonmixed_multivariate_dist = NonMixedMultivariateDistribution(vecd, Γ_AR)\n",
    "\n",
    "Random.seed!(1234)\n",
    "@time Y_nsample = simulate_nobs_independent_vectors(nonmixed_multivariate_dist, samplesize)\n",
    "\n",
    "gcs = Vector{GLMCopulaARObs{T, D, Link}}(undef, samplesize)\n",
    "for i in 1:samplesize\n",
    "    X = ones(ni, 1)\n",
    "    y = Float64.(Y_nsample[i])\n",
    "    V = [ones(ni, ni)]\n",
    "    gcs[i] = GLMCopulaARObs(y, X, d, link)\n",
    "end\n",
    "\n",
    "# form model\n",
    "gcm = GLMCopulaARModel(gcs);\n",
    "\n",
    "N = length(gcm.data)\n",
    "di = length(gcm.data[1].y)\n",
    "Y_AR = zeros(N, di)\n",
    "for j in 1:di\n",
    "    Y_AR[:, j] = [gcm.data[i].y[j] for i in 1:N]\n",
    "end\n",
    "empirical_covariance_AR = scattermat(Y_AR) ./ N"
   ]
  },
  {
   "cell_type": "code",
   "execution_count": 5,
   "metadata": {},
   "outputs": [
    {
     "data": {
      "text/plain": [
       "5×5 Matrix{Float64}:\n",
       " 1.0        0.043827   0.0286668  0.0190674  0.0125204\n",
       " 0.043827   1.0        0.0437322  0.0229184  0.013008\n",
       " 0.0286668  0.0437322  1.0        0.0409559  0.0269049\n",
       " 0.0190674  0.0229184  0.0409559  1.0        0.0444772\n",
       " 0.0125204  0.013008   0.0269049  0.0444772  1.0"
      ]
     },
     "execution_count": 5,
     "metadata": {},
     "output_type": "execute_result"
    }
   ],
   "source": [
    "StatsBase.cor(Y_AR)"
   ]
  },
  {
   "cell_type": "code",
   "execution_count": 6,
   "metadata": {},
   "outputs": [
    {
     "data": {
      "text/plain": [
       "5×5 Matrix{Float64}:\n",
       " 0.1      0.06    0.036  0.0216  0.01296\n",
       " 0.06     0.1     0.06   0.036   0.0216\n",
       " 0.036    0.06    0.1    0.06    0.036\n",
       " 0.0216   0.036   0.06   0.1     0.06\n",
       " 0.01296  0.0216  0.036  0.06    0.1"
      ]
     },
     "execution_count": 6,
     "metadata": {},
     "output_type": "execute_result"
    }
   ],
   "source": [
    "Γ_AR"
   ]
  },
  {
   "cell_type": "markdown",
   "metadata": {},
   "source": [
    "## CS positive rho <a class=\"anchor\" id=\"ex2\"></a>\n",
    "\n",
    "\n",
    "$\\rho = 0.6, \\sigma^2 = 0.1$\n",
    "\n"
   ]
  },
  {
   "cell_type": "code",
   "execution_count": 7,
   "metadata": {},
   "outputs": [
    {
     "data": {
      "text/plain": [
       "5×5 Matrix{Float64}:\n",
       " 0.1   0.06  0.06  0.06  0.06\n",
       " 0.06  0.1   0.06  0.06  0.06\n",
       " 0.06  0.06  0.1   0.06  0.06\n",
       " 0.06  0.06  0.06  0.1   0.06\n",
       " 0.06  0.06  0.06  0.06  0.1"
      ]
     },
     "execution_count": 7,
     "metadata": {},
     "output_type": "execute_result"
    }
   ],
   "source": [
    "function get_V_CS(ρ, n)\n",
    "    vec = zeros(n)\n",
    "    vec[1] = 1.0\n",
    "    for i in 2:n\n",
    "        vec[i] = ρ\n",
    "    end\n",
    "    V = ToeplitzMatrices.SymmetricToeplitz(vec)\n",
    "    V\n",
    "end\n",
    "\n",
    "V_CS = get_V_CS(ρtrue[1], ni)\n",
    "\n",
    "# true Gamma\n",
    "Γ_CS = σ2true[1] * V_CS"
   ]
  },
  {
   "cell_type": "code",
   "execution_count": 8,
   "metadata": {},
   "outputs": [
    {
     "name": "stdout",
     "output_type": "stream",
     "text": [
      "  1.971711 seconds (9.00 M allocations: 1.299 GiB, 27.56% gc time)\n"
     ]
    },
    {
     "data": {
      "text/plain": [
       "5×5 Matrix{Float64}:\n",
       " 5.4753    0.239691  0.253737  0.256011  0.251832\n",
       " 0.239691  5.46275   0.239646  0.228651  0.229315\n",
       " 0.253737  0.239646  5.40309   0.220851  0.240448\n",
       " 0.256011  0.228651  0.220851  5.40391   0.243061\n",
       " 0.251832  0.229315  0.240448  0.243061  5.46092"
      ]
     },
     "execution_count": 8,
     "metadata": {},
     "output_type": "execute_result"
    }
   ],
   "source": [
    "vecd = Vector{DiscreteUnivariateDistribution}(undef, ni)\n",
    "for i in 1:ni\n",
    "    vecd[i] = Poisson(5.0)\n",
    "end\n",
    "nonmixed_multivariate_dist = NonMixedMultivariateDistribution(vecd, Γ_CS)\n",
    "\n",
    "Random.seed!(1234)\n",
    "@time Y_nsample = simulate_nobs_independent_vectors(nonmixed_multivariate_dist, samplesize)\n",
    "\n",
    "gcs = Vector{GLMCopulaCSObs{T, D, Link}}(undef, samplesize)\n",
    "for i in 1:samplesize\n",
    "    X = ones(ni, 1)\n",
    "    y = Float64.(Y_nsample[i])\n",
    "    V = [Float64.(Matrix(I, ni, ni))]\n",
    "    gcs[i] = GLMCopulaCSObs(y, X, d, link)\n",
    "end\n",
    "\n",
    "# form model\n",
    "gcm = GLMCopulaCSModel(gcs);\n",
    "\n",
    "N = length(gcm.data)\n",
    "di = length(gcm.data[1].y)\n",
    "Y_CS = zeros(N, di)\n",
    "for j in 1:di\n",
    "    Y_CS[:, j] = [gcm.data[i].y[j] for i in 1:N]\n",
    "end\n",
    "empirical_covariance_CS = scattermat(Y_CS) ./ N"
   ]
  },
  {
   "cell_type": "code",
   "execution_count": 9,
   "metadata": {},
   "outputs": [
    {
     "data": {
      "text/plain": [
       "5×5 Matrix{Float64}:\n",
       " 1.0        0.043827   0.0466507  0.0470653  0.0460547\n",
       " 0.043827   1.0        0.0441106  0.0420836  0.041985\n",
       " 0.0466507  0.0441106  1.0        0.0408719  0.0442656\n",
       " 0.0470653  0.0420836  0.0408719  1.0        0.0447434\n",
       " 0.0460547  0.041985   0.0442656  0.0447434  1.0"
      ]
     },
     "execution_count": 9,
     "metadata": {},
     "output_type": "execute_result"
    }
   ],
   "source": [
    "StatsBase.cor(Y_CS)"
   ]
  },
  {
   "cell_type": "code",
   "execution_count": 10,
   "metadata": {},
   "outputs": [
    {
     "data": {
      "text/plain": [
       "5×5 Matrix{Float64}:\n",
       " 0.1   0.06  0.06  0.06  0.06\n",
       " 0.06  0.1   0.06  0.06  0.06\n",
       " 0.06  0.06  0.1   0.06  0.06\n",
       " 0.06  0.06  0.06  0.1   0.06\n",
       " 0.06  0.06  0.06  0.06  0.1"
      ]
     },
     "execution_count": 10,
     "metadata": {},
     "output_type": "execute_result"
    }
   ],
   "source": [
    "Γ_CS"
   ]
  },
  {
   "cell_type": "markdown",
   "metadata": {},
   "source": [
    "## CS negative rho <a class=\"anchor\" id=\"ex3\"></a>\n",
    "\n",
    "$\\rho = -0.6, \\sigma^2 = 0.1$"
   ]
  },
  {
   "cell_type": "code",
   "execution_count": 11,
   "metadata": {},
   "outputs": [
    {
     "data": {
      "text/plain": [
       "5×5 Matrix{Float64}:\n",
       "  0.1   -0.06  -0.06  -0.06  -0.06\n",
       " -0.06   0.1   -0.06  -0.06  -0.06\n",
       " -0.06  -0.06   0.1   -0.06  -0.06\n",
       " -0.06  -0.06  -0.06   0.1   -0.06\n",
       " -0.06  -0.06  -0.06  -0.06   0.1"
      ]
     },
     "execution_count": 11,
     "metadata": {},
     "output_type": "execute_result"
    }
   ],
   "source": [
    "V_CS_negative = get_V_CS(-ρtrue[1], ni)\n",
    "\n",
    "# true Gamma\n",
    "Γ_CS_negative = σ2true[1] * V_CS_negative"
   ]
  },
  {
   "cell_type": "code",
   "execution_count": 12,
   "metadata": {},
   "outputs": [
    {
     "name": "stdout",
     "output_type": "stream",
     "text": [
      "  2.052073 seconds (9.00 M allocations: 1.299 GiB, 32.72% gc time)\n"
     ]
    },
    {
     "data": {
      "text/plain": [
       "5×5 Matrix{Float64}:\n",
       "  5.4753    -0.247838  -0.231306  -0.225734  -0.224622\n",
       " -0.247838   5.46342   -0.275844  -0.265809  -0.259551\n",
       " -0.231306  -0.275844   5.4141    -0.234971  -0.266396\n",
       " -0.225734  -0.265809  -0.234971   5.40746   -0.229744\n",
       " -0.224622  -0.259551  -0.266396  -0.229744   5.46245"
      ]
     },
     "execution_count": 12,
     "metadata": {},
     "output_type": "execute_result"
    }
   ],
   "source": [
    "vecd = Vector{DiscreteUnivariateDistribution}(undef, ni)\n",
    "for i in 1:ni\n",
    "    vecd[i] = Poisson(5.0)\n",
    "end\n",
    "nonmixed_multivariate_dist = NonMixedMultivariateDistribution(vecd, Γ_CS_negative)\n",
    "\n",
    "Random.seed!(1234)\n",
    "@time Y_nsample = simulate_nobs_independent_vectors(nonmixed_multivariate_dist, samplesize)\n",
    "\n",
    "gcs = Vector{GLMCopulaCSObs{T, D, Link}}(undef, samplesize)\n",
    "for i in 1:samplesize\n",
    "    X = ones(ni, 1)\n",
    "    y = Float64.(Y_nsample[i])\n",
    "    V = [Float64.(Matrix(I, ni, ni))]\n",
    "    gcs[i] = GLMCopulaCSObs(y, X, d, link)\n",
    "end\n",
    "\n",
    "# form model\n",
    "gcm = GLMCopulaCSModel(gcs);\n",
    "\n",
    "N = length(gcm.data)\n",
    "di = length(gcm.data[1].y)\n",
    "Y_CS_2 = zeros(N, di)\n",
    "for j in 1:di\n",
    "    Y_CS_2[:, j] = [gcm.data[i].y[j] for i in 1:N]\n",
    "end\n",
    "empirical_covariance_CS_negative = scattermat(Y_CS_2) ./ N"
   ]
  },
  {
   "cell_type": "code",
   "execution_count": 13,
   "metadata": {},
   "outputs": [
    {
     "data": {
      "text/plain": [
       "5×5 Matrix{Float64}:\n",
       "  1.0        -0.045314   -0.0424834  -0.0414856  -0.0410728\n",
       " -0.045314    1.0        -0.0507187  -0.0489036  -0.0475113\n",
       " -0.0424834  -0.0507187   1.0        -0.0434265  -0.0489859\n",
       " -0.0414856  -0.0489036  -0.0434265   1.0        -0.0422721\n",
       " -0.0410728  -0.0475113  -0.0489859  -0.0422721   1.0"
      ]
     },
     "execution_count": 13,
     "metadata": {},
     "output_type": "execute_result"
    }
   ],
   "source": [
    "StatsBase.cor(Y_CS_2)"
   ]
  },
  {
   "cell_type": "code",
   "execution_count": 14,
   "metadata": {},
   "outputs": [
    {
     "data": {
      "text/plain": [
       "5×5 Matrix{Float64}:\n",
       "  0.1   -0.06  -0.06  -0.06  -0.06\n",
       " -0.06   0.1   -0.06  -0.06  -0.06\n",
       " -0.06  -0.06   0.1   -0.06  -0.06\n",
       " -0.06  -0.06  -0.06   0.1   -0.06\n",
       " -0.06  -0.06  -0.06  -0.06   0.1"
      ]
     },
     "execution_count": 14,
     "metadata": {},
     "output_type": "execute_result"
    }
   ],
   "source": [
    "Γ_CS_negative"
   ]
  },
  {
   "cell_type": "markdown",
   "metadata": {},
   "source": [
    "## Comparing <a class=\"anchor\" id=\"ex3\"></a>\n",
    "\n",
    "$\\rho = 0.6, \\sigma^2 = 0.1$"
   ]
  },
  {
   "cell_type": "code",
   "execution_count": 15,
   "metadata": {},
   "outputs": [
    {
     "data": {
      "text/plain": [
       "5×5 Matrix{Float64}:\n",
       " 5.4753     0.239691  0.155916  0.103735  0.0684627\n",
       " 0.239691   5.46275   0.237582  0.124543  0.071047\n",
       " 0.155916   0.237582  5.40272   0.221336  0.14614\n",
       " 0.103735   0.124543  0.221336  5.40579   0.241656\n",
       " 0.0684627  0.071047  0.14614   0.241656  5.46087"
      ]
     },
     "execution_count": 15,
     "metadata": {},
     "output_type": "execute_result"
    }
   ],
   "source": [
    "empirical_covariance_AR"
   ]
  },
  {
   "cell_type": "code",
   "execution_count": 16,
   "metadata": {},
   "outputs": [
    {
     "data": {
      "text/plain": [
       "5×5 Matrix{Float64}:\n",
       " 5.4753    0.239691  0.253737  0.256011  0.251832\n",
       " 0.239691  5.46275   0.239646  0.228651  0.229315\n",
       " 0.253737  0.239646  5.40309   0.220851  0.240448\n",
       " 0.256011  0.228651  0.220851  5.40391   0.243061\n",
       " 0.251832  0.229315  0.240448  0.243061  5.46092"
      ]
     },
     "execution_count": 16,
     "metadata": {},
     "output_type": "execute_result"
    }
   ],
   "source": [
    "empirical_covariance_CS"
   ]
  },
  {
   "cell_type": "markdown",
   "metadata": {},
   "source": [
    "$\\rho = -0.6, \\sigma^2 = 0.1$"
   ]
  },
  {
   "cell_type": "code",
   "execution_count": 17,
   "metadata": {},
   "outputs": [
    {
     "data": {
      "text/plain": [
       "5×5 Matrix{Float64}:\n",
       "  5.4753    -0.247838  -0.231306  -0.225734  -0.224622\n",
       " -0.247838   5.46342   -0.275844  -0.265809  -0.259551\n",
       " -0.231306  -0.275844   5.4141    -0.234971  -0.266396\n",
       " -0.225734  -0.265809  -0.234971   5.40746   -0.229744\n",
       " -0.224622  -0.259551  -0.266396  -0.229744   5.46245"
      ]
     },
     "execution_count": 17,
     "metadata": {},
     "output_type": "execute_result"
    }
   ],
   "source": [
    "empirical_covariance_CS_negative"
   ]
  },
  {
   "cell_type": "code",
   "execution_count": null,
   "metadata": {},
   "outputs": [],
   "source": []
  }
 ],
 "metadata": {
  "@webio": {
   "lastCommId": null,
   "lastKernelId": null
  },
  "kernelspec": {
   "display_name": "Julia 1.6.2",
   "language": "julia",
   "name": "julia-1.6"
  },
  "language_info": {
   "file_extension": ".jl",
   "mimetype": "application/julia",
   "name": "julia",
   "version": "1.6.2"
  }
 },
 "nbformat": 4,
 "nbformat_minor": 4
}
