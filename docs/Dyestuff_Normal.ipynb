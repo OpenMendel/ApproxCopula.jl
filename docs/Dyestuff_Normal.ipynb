{
 "cells": [
  {
   "cell_type": "code",
   "execution_count": 1,
   "metadata": {},
   "outputs": [],
   "source": [
    "using RDatasets, Test, GLM, LinearAlgebra, GeneralizedCopula\n",
    "using LinearAlgebra: BlasReal, copytri!\n",
    "\n",
    "# Dataframe with columns: Batch (Categorical), Yield (Int32)\n",
    "dyestuff = dataset(\"lme4\", \"Dyestuff\")\n",
    "groups = unique(dyestuff[!, :Batch])\n",
    "n, p, m = length(groups), 1, 1\n",
    "d = Normal()\n",
    "D = typeof(d)\n",
    "gcs = Vector{GaussianCopulaVCObs{Float64, D}}(undef, n)\n",
    "for (i, grp) in enumerate(groups)\n",
    "    gidx = dyestuff[!, :Batch] .== grp\n",
    "    ni = count(gidx)\n",
    "    y = Float64.(dyestuff[gidx, :Yield])\n",
    "    X = ones(ni, 1)\n",
    "    V = [ones(ni, ni)]\n",
    "    gcs[i] = GaussianCopulaVCObs(y, X, V, d)\n",
    "end\n",
    "gcm = GaussianCopulaVCModel(gcs);"
   ]
  },
  {
   "cell_type": "code",
   "execution_count": 2,
   "metadata": {},
   "outputs": [
    {
     "name": "stderr",
     "output_type": "stream",
     "text": [
      "┌ Info: Initial point:\n",
      "└ @ Main In[2]:2\n"
     ]
    },
    {
     "name": "stdout",
     "output_type": "stream",
     "text": [
      "gcm.β = [1527.4999999999998]\n",
      "gcm.τ = [0.00033164503710934656]\n",
      "gcm.Σ = [0.8636149140056555]\n"
     ]
    }
   ],
   "source": [
    "# initialize β and τ from least square solution\n",
    "@info \"Initial point:\"\n",
    "initialize_model!(gcm);\n",
    "#gcm.β .= [1527.4999999999998]\n",
    "@show gcm.β\n",
    "# update σ2 and τ from β using the MM algorithm\n",
    "fill!(gcm.Σ, 1)\n",
    "# update_Σ!(gcm, 500, 1e-6, GurobiSolver(OutputFlag=0), true)\n",
    "update_Σ!(gcm)\n",
    "@show gcm.τ\n",
    "@show gcm.Σ;"
   ]
  },
  {
   "cell_type": "code",
   "execution_count": 3,
   "metadata": {},
   "outputs": [
    {
     "name": "stdout",
     "output_type": "stream",
     "text": [
      "loglikelihood!(gcm, true, true) = -164.0008237940362\n"
     ]
    },
    {
     "data": {
      "text/plain": [
       "\u001b[32m\u001b[1mTest Passed\u001b[22m\u001b[39m"
      ]
     },
     "execution_count": 3,
     "metadata": {},
     "output_type": "execute_result"
    }
   ],
   "source": [
    "# gc = gcm.data[1]\n",
    "@test copula_gradient(gcm) ≈ [0.06561148856048]\n",
    "@test copula_hessian(gcm) ≈ [-0.01964435497982633]\n",
    "\n",
    "@show loglikelihood!(gcm, true, true)\n",
    "@test loglikelihood!(gcm, true, true) ≈ loglikelihood2!(gcm, true, true)"
   ]
  },
  {
   "cell_type": "code",
   "execution_count": 4,
   "metadata": {},
   "outputs": [
    {
     "name": "stderr",
     "output_type": "stream",
     "text": [
      "┌ Info: MLE:\n",
      "└ @ Main In[4]:2\n"
     ]
    },
    {
     "name": "stdout",
     "output_type": "stream",
     "text": [
      "\n",
      "******************************************************************************\n",
      "This program contains Ipopt, a library for large-scale nonlinear optimization.\n",
      " Ipopt is released as open source code under the Eclipse Public License (EPL).\n",
      "         For more information visit http://projects.coin-or.org/Ipopt\n",
      "******************************************************************************\n",
      "\n",
      "This is Ipopt version 3.13.2, running with linear solver mumps.\n",
      "NOTE: Other linear solvers might be more efficient (see Ipopt documentation).\n",
      "\n",
      "Starting derivative checker for first derivatives.\n",
      "\n",
      "\n",
      "No errors detected by derivative checker.\n",
      "\n",
      "Number of nonzeros in equality constraint Jacobian...:        0\n",
      "Number of nonzeros in inequality constraint Jacobian.:        0\n",
      "Number of nonzeros in Lagrangian Hessian.............:        0\n",
      "\n",
      "Total number of variables............................:        1\n",
      "                     variables with only lower bounds:        0\n",
      "                variables with lower and upper bounds:        0\n",
      "                     variables with only upper bounds:        0\n",
      "Total number of equality constraints.................:        0\n",
      "Total number of inequality constraints...............:        0\n",
      "        inequality constraints with only lower bounds:        0\n",
      "   inequality constraints with lower and upper bounds:        0\n",
      "        inequality constraints with only upper bounds:        0\n",
      "\n",
      "iter    objective    inf_pr   inf_du lg(mu)  ||d||  lg(rg) alpha_du alpha_pr  ls\n",
      "   0  1.6400082e+02 0.00e+00 6.56e-02   0.0 0.00e+00    -  0.00e+00 0.00e+00   0\n",
      "   1  1.6399653e+02 0.00e+00 6.53e-02 -11.0 6.56e-02    -  1.00e+00 1.00e+00f  1\n",
      "   2  1.6338270e+02 0.00e+00 3.95e-02 -11.0 1.28e+01    -  1.00e+00 1.00e+00f  1\n",
      "   3  1.6337100e+02 0.00e+00 2.87e-02 -11.0 1.97e+01    -  1.00e+00 1.25e-01f  4\n",
      "   4  1.6335549e+02 0.00e+00 1.07e-03 -11.0 1.03e+00    -  1.00e+00 1.00e+00f  1\n",
      "   5  1.6335546e+02 0.00e+00 3.06e-05 -11.0 4.02e-02    -  1.00e+00 1.00e+00f  1\n",
      "   6  1.6335546e+02 0.00e+00 9.79e-07 -11.0 1.12e-03    -  1.00e+00 1.00e+00f  1\n",
      "   7  1.6335546e+02 0.00e+00 6.46e-07 -11.0 3.69e-05    -  1.00e+00 1.00e+00f  1\n",
      "   8  1.6335546e+02 0.00e+00 8.17e-07 -11.0 7.17e-05    -  1.00e+00 1.00e+00f  1\n",
      "   9  1.6335546e+02 0.00e+00 6.65e-07 -11.0 4.00e-05    -  1.00e+00 1.00e+00f  1\n",
      "iter    objective    inf_pr   inf_du lg(mu)  ||d||  lg(rg) alpha_du alpha_pr  ls\n",
      "  10  1.6335545e+02 0.00e+00 4.78e-07 -11.0 1.80e-05    -  1.00e+00 1.00e+00f  1\n",
      "  11  1.6335545e+02 0.00e+00 6.89e-07 -11.0 4.60e-05    -  1.00e+00 1.00e+00f  1\n",
      "  12  1.6335545e+02 0.00e+00 5.45e-08 -11.0 2.71e-05    -  1.00e+00 1.00e+00f  1\n",
      "  13  1.6335545e+02 0.00e+00 5.43e-12 -11.0 1.99e-06    -  1.00e+00 1.00e+00f  1\n",
      "\n",
      "Number of Iterations....: 13\n",
      "\n",
      "                                   (scaled)                 (unscaled)\n",
      "Objective...............:   1.6335545423302074e+02    1.6335545423302074e+02\n",
      "Dual infeasibility......:   5.4336674049082490e-12    5.4336674049082490e-12\n",
      "Constraint violation....:   0.0000000000000000e+00    0.0000000000000000e+00\n",
      "Complementarity.........:   0.0000000000000000e+00    0.0000000000000000e+00\n",
      "Overall NLP error.......:   5.4336674049082490e-12    5.4336674049082490e-12\n",
      "\n",
      "\n",
      "Number of objective function evaluations             = 21\n",
      "Number of objective gradient evaluations             = 14\n",
      "Number of equality constraint evaluations            = 0\n",
      "Number of inequality constraint evaluations          = 0\n",
      "Number of equality constraint Jacobian evaluations   = 0\n",
      "Number of inequality constraint Jacobian evaluations = 0\n",
      "Number of Lagrangian Hessian evaluations             = 0\n",
      "Total CPU secs in IPOPT (w/o function evaluations)   =      0.061\n",
      "Total CPU secs in NLP function evaluations           =      0.339\n",
      "\n",
      "EXIT: Optimal Solution Found.\n",
      "  0.800910 seconds (767.21 k allocations: 37.992 MiB, 2.70% gc time)\n"
     ]
    },
    {
     "data": {
      "text/plain": [
       "GaussianCopulaVCModel{Float64,Normal{Float64}}(GaussianCopulaVCObs{Float64,Normal{Float64}}[GaussianCopulaVCObs{Float64,Normal{Float64}}([1545.0, 1440.0, 1440.0, 1520.0, 1580.0], [1.0; 1.0; … ; 1.0; 1.0], [[1.0 1.0 … 1.0 1.0; 1.0 1.0 … 1.0 1.0; … ; 1.0 1.0 … 1.0 1.0; 1.0 1.0 … 1.0 1.0]], [-0.009332475479925616], [-1.0; -1.0; … ; -1.0; -1.0], [-1224.6763131898897], [8.444616957336811e-11], [65.10568377994359], [2.3824856577e-314], [0.05966153756787458, -1.894018152216939, -1.894018152216939, -0.40550029333327153, 0.7108881008294792], [5.0], [2.2747256954e-314 2.274716976e-314 … 2.2747256954e-314 5.0e-324], [2.5], [5.858419862007839], [-3.4229869593697955, -3.4229869593697955, -3.4229869593697955, -3.4229869593697955, -3.4229869593697955], [2.5063658596e-314], [1541.7935063882878, 1541.7935063882878, 1541.7935063882878, 1541.7935063882878, 1541.7935063882878], [1541.7935063882878, 1541.7935063882878, 1541.7935063882878, 1541.7935063882878, 1541.7935063882878], [1.0, 1.0, 1.0, 1.0, 1.0], [1.0, 1.0, 1.0, 1.0, 1.0], Normal{Float64}(μ=0.0, σ=1.0), [1.0, 1.0, 1.0, 1.0, 1.0], [1.0, 1.0, 1.0, 1.0, 1.0]), GaussianCopulaVCObs{Float64,Normal{Float64}}([1540.0, 1555.0, 1490.0, 1560.0, 1495.0], [1.0; 1.0; … ; 1.0; 1.0], [[1.0 1.0 … 1.0 1.0; 1.0 1.0 … 1.0 1.0; … ; 1.0 1.0 … 1.0 1.0; 1.0 1.0 … 1.0 1.0]], [0.12111576686769117], [-1.0; -1.0; … ; -1.0; -1.0], [7419.019060926443], [-2.999647319305908e-10], [74.96142048889931], [2.506661145e-314], [-0.033370828612354644, 0.24572626992833302, -0.9636944904146468, 0.33875863610856227, -0.8706621242344177], [5.0], [0.0 5.0e-324 … 5.0e-324 5.0e-324], [2.5], [0.8233557046712168], [-1.283242537224524, -1.283242537224524, -1.283242537224524, -1.283242537224524, -1.283242537224524], [2.274724747e-314], [1541.7935063882878, 1541.7935063882878, 1541.7935063882878, 1541.7935063882878, 1541.7935063882878], [1541.7935063882878, 1541.7935063882878, 1541.7935063882878, 1541.7935063882878, 1541.7935063882878], [1.0, 1.0, 1.0, 1.0, 1.0], [1.0, 1.0, 1.0, 1.0, 1.0], Normal{Float64}(μ=0.0, σ=1.0), [1.0, 1.0, 1.0, 1.0, 1.0], [1.0, 1.0, 1.0, 1.0, 1.0]), GaussianCopulaVCObs{Float64,Normal{Float64}}([1595.0, 1550.0, 1605.0, 1510.0, 1560.0], [1.0; 1.0; … ; 1.0; 1.0], [[1.0 1.0 … 1.0 1.0; 1.0 1.0 … 1.0 1.0; … ; 1.0 1.0 … 1.0 1.0; 1.0 1.0 … 1.0 1.0]], [-0.051623401681173624], [-1.0; -1.0; … ; -1.0; -1.0], [5991.891558218861], [-2.5262967441591752e-11], [68.81306093113034], [NaN], [0.9899851993701668, 0.1526939037481038, 1.1760499317306252, -0.5915650256937299, 0.33875863610856227], [5.0], [2.2747256954e-314 2.4975134206e-314 … 2.4975134997e-314 2.4975135155e-314], [2.5], [2.1340181881067397], [2.065922645263728, 2.065922645263728, 2.065922645263728, 2.065922645263728, 2.065922645263728], [2.3824920766e-314], [1541.7935063882878, 1541.7935063882878, 1541.7935063882878, 1541.7935063882878, 1541.7935063882878], [1541.7935063882878, 1541.7935063882878, 1541.7935063882878, 1541.7935063882878, 1541.7935063882878], [1.0, 1.0, 1.0, 1.0, 1.0], [1.0, 1.0, 1.0, 1.0, 1.0], Normal{Float64}(μ=0.0, σ=1.0), [1.0, 1.0, 1.0, 1.0, 1.0], [1.0, 1.0, 1.0, 1.0, 1.0]), GaussianCopulaVCObs{Float64,Normal{Float64}}([1445.0, 1440.0, 1595.0, 1465.0, 1545.0], [1.0; 1.0; … ; 1.0; 1.0], [[1.0 1.0 … 1.0 1.0; 1.0 1.0 … 1.0 1.0; … ; 1.0 1.0 … 1.0 1.0; 1.0 1.0 … 1.0 1.0]], [-0.030137979322970503], [-1.0; -1.0; … ; -1.0; -1.0], [-4124.946253751], [1.029359163418021e-10], [67.05740461854694], [2.506661453e-314], [-1.8009857860367098, -1.894018152216939, 0.9899851993701668, -1.428856321315793, 0.05966153756787458], [5.0], [2.4975164404e-314 2.497516456e-314 … 2.497516488e-314 2.4975165036e-314], [2.5], [8.299607913996281], [-4.0742135226314, -4.0742135226314, -4.0742135226314, -4.0742135226314, -4.0742135226314], [2.2164e-320], [1541.7935063882878, 1541.7935063882878, 1541.7935063882878, 1541.7935063882878, 1541.7935063882878], [1541.7935063882878, 1541.7935063882878, 1541.7935063882878, 1541.7935063882878, 1541.7935063882878], [1.0, 1.0, 1.0, 1.0, 1.0], [1.0, 1.0, 1.0, 1.0, 1.0], Normal{Float64}(μ=0.0, σ=1.0), [1.0, 1.0, 1.0, 1.0, 1.0], [1.0, 1.0, 1.0, 1.0, 1.0]), GaussianCopulaVCObs{Float64,Normal{Float64}}([1595.0, 1630.0, 1515.0, 1635.0, 1625.0], [1.0; 1.0; … ; 1.0; 1.0], [[1.0 1.0 … 1.0 1.0; 1.0 1.0 … 1.0 1.0; … ; 1.0 1.0 … 1.0 1.0; 1.0 1.0 … 1.0 1.0]], [0.06639530427680988], [-1.0; -1.0; … ; -1.0; -1.0], [-3360.2550976524462], [1.2218997863489792e-10], [72.9311053276414], [2.506662402e-314], [0.9899851993701668, 1.6412117626317713, -0.49853265951350073, 1.7342441288120005, 1.5481793964515422], [5.0], [2.4975176894e-314 2.4975172783e-314 … 2.49751731e-314 2.4975173415e-314], [2.5], [14.66158809113383], [5.4150878277519805, 5.4150878277519805, 5.4150878277519805, 5.4150878277519805, 5.4150878277519805], [2.278e-320], [1541.7935063882878, 1541.7935063882878, 1541.7935063882878, 1541.7935063882878, 1541.7935063882878], [1541.7935063882878, 1541.7935063882878, 1541.7935063882878, 1541.7935063882878, 1541.7935063882878], [1.0, 1.0, 1.0, 1.0, 1.0], [1.0, 1.0, 1.0, 1.0, 1.0], Normal{Float64}(μ=0.0, σ=1.0), [1.0, 1.0, 1.0, 1.0, 1.0], [1.0, 1.0, 1.0, 1.0, 1.0]), GaussianCopulaVCObs{Float64,Normal{Float64}}([1520.0, 1455.0, 1450.0, 1480.0, 1445.0], [1.0; 1.0; … ; 1.0; 1.0], [[1.0 1.0 … 1.0 1.0; 1.0 1.0 … 1.0 1.0; … ; 1.0 1.0 … 1.0 1.0; 1.0 1.0 … 1.0 1.0]], [-0.09641721465499764], [-1.0; -1.0; … ; -1.0; -1.0], [-4701.032954436258], [1.3079764200440817e-10], [71.89825098953874], [2.274724747e-314], [-0.40550029333327153, -1.6149210536762515, -1.7079534198564807, -1.1497592227751052, -1.8009857860367098], [5.0], [2.497519792e-314 2.497519871e-314 … 2.497519982e-314 2.497520045e-314], [2.5], [22.305320488925258], [-6.679119775677819, -6.679119775677819, -6.679119775677819, -6.679119775677819, -6.679119775677819], [NaN], [1541.7935063882878, 1541.7935063882878, 1541.7935063882878, 1541.7935063882878, 1541.7935063882878], [1541.7935063882878, 1541.7935063882878, 1541.7935063882878, 1541.7935063882878, 1541.7935063882878], [1.0, 1.0, 1.0, 1.0, 1.0], [1.0, 1.0, 1.0, 1.0, 1.0], Normal{Float64}(μ=0.0, σ=1.0), [1.0, 1.0, 1.0, 1.0, 1.0], [1.0, 1.0, 1.0, 1.0, 1.0])], 45825.0, 30, 1, 1, [1541.7935063882878], [0.0003462008462836904], [52109.25787010273], [5.433667404908249e-12], [1.1571137292776257e-7], [1.1514200718229376e-10], [-0.019644354979826334], [-1.3637798005498424e8], [30.0], [0.0], [2.5; 2.5; … ; 2.5; 2.5], [16922.026404312208; 2378.2602310467123; … ; 42349.94873212863; 64428.844494064055], [7.676127926135004e-6, 7.676127926135004e-6, 7.676127926135004e-6, 7.676127926135004e-6, 7.676127926135004e-6, 7.676127926135004e-6], [0.05210934993374394], [52109.2057607528], Normal{Float64}(μ=0.0, σ=1.0))"
      ]
     },
     "execution_count": 4,
     "metadata": {},
     "output_type": "execute_result"
    }
   ],
   "source": [
    "# fit model using NLP on profiled loglikelihood\n",
    "@info \"MLE:\"\n",
    "# @time GeneralizedCopula.fit!(gcm, IpoptSolver(print_level=5))\n",
    "@time GeneralizedCopula.fit!(gcm, IpoptSolver(print_level = 5, derivative_test = \"first-order\"))"
   ]
  },
  {
   "cell_type": "code",
   "execution_count": 5,
   "metadata": {},
   "outputs": [
    {
     "name": "stdout",
     "output_type": "stream",
     "text": [
      "gcm.β = [1541.7935063882878]\n",
      "gcm.τ = [0.0003462008462836904]\n",
      "gcm.Σ = [52109.25787010273]\n",
      "loglikelihood2!(gcm, true, true) = -163.3554542330147\n",
      "gcm.∇β = [0.2969054404846284]\n",
      "gcm.∇τ = [1.1571137292776257e-7]\n",
      "gcm.∇Σ = [0.0]\n"
     ]
    },
    {
     "data": {
      "text/plain": [
       "1-element Array{Float64,1}:\n",
       " 0.0"
      ]
     },
     "execution_count": 5,
     "metadata": {},
     "output_type": "execute_result"
    }
   ],
   "source": [
    "@show gcm.β\n",
    "@show gcm.τ\n",
    "@show gcm.Σ\n",
    "@test copula_loglikelihood(gcm)[1] ≈ -163.35545423301846\n",
    "@show loglikelihood2!(gcm, true, true)\n",
    "@test loglikelihood2!(gcm, true, false) ≈ -163.35545423301846\n",
    "@show gcm.∇β\n",
    "@show gcm.∇τ\n",
    "@show gcm.∇Σ"
   ]
  }
 ],
 "metadata": {
  "kernelspec": {
   "display_name": "Julia 1.4.0",
   "language": "julia",
   "name": "julia-1.4"
  },
  "language_info": {
   "file_extension": ".jl",
   "mimetype": "application/julia",
   "name": "julia",
   "version": "1.4.0"
  },
  "toc": {
   "base_numbering": 1,
   "nav_menu": {},
   "number_sections": true,
   "sideBar": true,
   "skip_h1_title": false,
   "title_cell": "Table of Contents",
   "title_sidebar": "Contents",
   "toc_cell": false,
   "toc_position": {},
   "toc_section_display": true,
   "toc_window_display": false
  }
 },
 "nbformat": 4,
 "nbformat_minor": 2
}
