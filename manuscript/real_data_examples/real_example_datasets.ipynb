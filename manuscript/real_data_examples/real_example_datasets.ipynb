{
 "cells": [
  {
   "cell_type": "markdown",
   "metadata": {},
   "source": [
    "# Real Example Datasets\n",
    "In this notebook we compare the loglikelihoods of the quasi-copula intercept only random intercept model with that of GLM and GLMM fit using `GLM.jl` and `MixedModels.jl` respectively.\n",
    "\n",
    "We use the example datasets from various R packages using the `RCall` and `RDatasets` packages."
   ]
  },
  {
   "cell_type": "code",
   "execution_count": 1,
   "metadata": {},
   "outputs": [],
   "source": [
    "using QuasiCopula, DataFrames, LinearAlgebra, RCall, RDatasets\n",
    "using GLM, MixedModels"
   ]
  },
  {
   "cell_type": "markdown",
   "metadata": {},
   "source": [
    "# dyestuff data: lme4 (Gaussian)"
   ]
  },
  {
   "cell_type": "code",
   "execution_count": 2,
   "metadata": {},
   "outputs": [
    {
     "data": {
      "text/plain": [
       "Quasi-Copula Variance Component Model\n",
       "  * base distribution: Normal\n",
       "  * link function: IdentityLink\n",
       "  * number of clusters: 6\n",
       "  * cluster size min, max: 5, 5\n",
       "  * number of variance components: 1\n",
       "  * number of fixed effects: 1"
      ]
     },
     "execution_count": 2,
     "metadata": {},
     "output_type": "execute_result"
    }
   ],
   "source": [
    "df = dataset(\"lme4\", \"Dyestuff\")\n",
    "y = :Yield\n",
    "grouping = :Batch\n",
    "\n",
    "d = Normal()\n",
    "link = IdentityLink()\n",
    "Gaussian_VC_model = VC_model(df, y, grouping, d, link)"
   ]
  },
  {
   "cell_type": "code",
   "execution_count": 3,
   "metadata": {},
   "outputs": [
    {
     "name": "stdout",
     "output_type": "stream",
     "text": [
      "gcm.β = [1527.4999999999998]\n",
      "initializing dispersion using residual sum of squares\n",
      "gcm.τ = [0.0002604449267498643]\n",
      "initializing variance components using MM-Algorithm\n",
      "gcm.θ = [0.8636149140056555]\n",
      "\n",
      "******************************************************************************\n",
      "This program contains Ipopt, a library for large-scale nonlinear optimization.\n",
      " Ipopt is released as open source code under the Eclipse Public License (EPL).\n",
      "         For more information visit https://github.com/coin-or/Ipopt\n",
      "******************************************************************************\n",
      "\n",
      "Total number of variables............................:        3\n",
      "                     variables with only lower bounds:        2\n",
      "                variables with lower and upper bounds:        0\n",
      "                     variables with only upper bounds:        0\n",
      "Total number of equality constraints.................:        0\n",
      "Total number of inequality constraints...............:        0\n",
      "        inequality constraints with only lower bounds:        0\n",
      "   inequality constraints with lower and upper bounds:        0\n",
      "        inequality constraints with only upper bounds:        0\n",
      "\n",
      "\n",
      "Number of Iterations....: 83\n",
      "\n",
      "                                   (scaled)                 (unscaled)\n",
      "Objective...............:   1.6335547256352643e+02    1.6335547256352643e+02\n",
      "Dual infeasibility......:   5.5436379493411375e-08    5.5436379493411375e-08\n",
      "Constraint violation....:   0.0000000000000000e+00    0.0000000000000000e+00\n",
      "Complementarity.........:   9.0909090909090928e-08    9.0909090909090928e-08\n",
      "Overall NLP error.......:   9.0909090909090928e-08    9.0909090909090928e-08\n",
      "\n",
      "\n",
      "Number of objective function evaluations             = 212\n",
      "Number of objective gradient evaluations             = 84\n",
      "Number of equality constraint evaluations            = 0\n",
      "Number of inequality constraint evaluations          = 0\n",
      "Number of equality constraint Jacobian evaluations   = 0\n",
      "Number of inequality constraint Jacobian evaluations = 0\n",
      "Number of Lagrangian Hessian evaluations             = 0\n",
      "Total CPU secs in IPOPT (w/o function evaluations)   =      4.446\n",
      "Total CPU secs in NLP function evaluations           =      0.080\n",
      "\n",
      "EXIT: Optimal Solution Found.\n"
     ]
    }
   ],
   "source": [
    "# fit using QuasiCopula\n",
    "QuasiCopula.fit!(Gaussian_VC_model);"
   ]
  },
  {
   "cell_type": "code",
   "execution_count": 4,
   "metadata": {},
   "outputs": [
    {
     "name": "stderr",
     "output_type": "stream",
     "text": [
      "┌ Warning: ProgressMeter by default refresh meters with additional information in IJulia via `IJulia.clear_output`, which clears all outputs in the cell. \n",
      "│  - To prevent this behaviour, do `ProgressMeter.ijulia_behavior(:append)`. \n",
      "│  - To disable this warning message, do `ProgressMeter.ijulia_behavior(:clear)`.\n",
      "└ @ ProgressMeter /Users/sarahji/.julia/packages/ProgressMeter/Vf8un/src/ProgressMeter.jl:620\n",
      "\r",
      "\u001b[32mMinimizing 19 \t Time: 0:00:00 (19.17 ms/it)\u001b[39m\n"
     ]
    }
   ],
   "source": [
    "# qc logl\n",
    "logl_dyestuff_QC = logl(Gaussian_VC_model)\n",
    "\n",
    "# fit with glm: GLM.jl\n",
    "dyestuff_lm = lm(@formula(Yield ~ 1), df);\n",
    "logl_dyestuff_LM = loglikelihood(dyestuff_lm)\n",
    "\n",
    "# fit with lmm: MixedModels.jl\n",
    "dyestuff_formula = @formula(Yield ~ 1 + (1|Batch));\n",
    "mdl = LinearMixedModel(dyestuff_formula, df)\n",
    "MixedModels.fit!(mdl);\n",
    "logl_dyestuff_LMM = loglikelihood(mdl);"
   ]
  },
  {
   "cell_type": "code",
   "execution_count": 5,
   "metadata": {},
   "outputs": [
    {
     "name": "stdout",
     "output_type": "stream",
     "text": [
      "logl_dyestuff_QC = -163.35547256352643\n",
      "logl_dyestuff_LM = -166.36494298739052\n",
      "logl_dyestuff_LMM = -163.6635299405715\n"
     ]
    }
   ],
   "source": [
    "@show logl_dyestuff_QC\n",
    "@show logl_dyestuff_LM\n",
    "@show logl_dyestuff_LMM;"
   ]
  },
  {
   "cell_type": "markdown",
   "metadata": {},
   "source": [
    "# Oxboys data: mlmRev (Gaussian)"
   ]
  },
  {
   "cell_type": "code",
   "execution_count": 6,
   "metadata": {},
   "outputs": [
    {
     "data": {
      "text/plain": [
       "Quasi-Copula Variance Component Model\n",
       "  * base distribution: Normal\n",
       "  * link function: IdentityLink\n",
       "  * number of clusters: 26\n",
       "  * cluster size min, max: 9, 9\n",
       "  * number of variance components: 1\n",
       "  * number of fixed effects: 1"
      ]
     },
     "execution_count": 6,
     "metadata": {},
     "output_type": "execute_result"
    }
   ],
   "source": [
    "df = dataset(\"mlmRev\", \"Oxboys\")\n",
    "y = :Height\n",
    "grouping = :Subject\n",
    "\n",
    "Gaussian_VC_model2 = VC_model(df, y, grouping, d, link)"
   ]
  },
  {
   "cell_type": "code",
   "execution_count": 7,
   "metadata": {},
   "outputs": [
    {
     "name": "stdout",
     "output_type": "stream",
     "text": [
      "gcm.β = [149.51940170940168]\n",
      "initializing dispersion using residual sum of squares\n",
      "gcm.τ = [0.012119112908652608]\n",
      "initializing variance components using MM-Algorithm\n",
      "gcm.θ = [0.8429685809722144]\n",
      "Total number of variables............................:        3\n",
      "                     variables with only lower bounds:        2\n",
      "                variables with lower and upper bounds:        0\n",
      "                     variables with only upper bounds:        0\n",
      "Total number of equality constraints.................:        0\n",
      "Total number of inequality constraints...............:        0\n",
      "        inequality constraints with only lower bounds:        0\n",
      "   inequality constraints with lower and upper bounds:        0\n",
      "        inequality constraints with only upper bounds:        0\n",
      "\n",
      "\n",
      "Number of Iterations....: 10\n",
      "\n",
      "                                   (scaled)                 (unscaled)\n",
      "Objective...............:   8.2657948607668027e+02    8.2657948607668027e+02\n",
      "Dual infeasibility......:   2.3491180187725940e-07    2.3491180187725940e-07\n",
      "Constraint violation....:   0.0000000000000000e+00    0.0000000000000000e+00\n",
      "Complementarity.........:   1.0000000000000001e-11    1.0000000000000001e-11\n",
      "Overall NLP error.......:   2.3491180187725940e-07    2.3491180187725940e-07\n",
      "\n",
      "\n",
      "Number of objective function evaluations             = 27\n",
      "Number of objective gradient evaluations             = 11\n",
      "Number of equality constraint evaluations            = 0\n",
      "Number of inequality constraint evaluations          = 0\n",
      "Number of equality constraint Jacobian evaluations   = 0\n",
      "Number of inequality constraint Jacobian evaluations = 0\n",
      "Number of Lagrangian Hessian evaluations             = 0\n",
      "Total CPU secs in IPOPT (w/o function evaluations)   =      0.026\n",
      "Total CPU secs in NLP function evaluations           =      0.006\n",
      "\n",
      "EXIT: Optimal Solution Found.\n"
     ]
    }
   ],
   "source": [
    "# fit using QuasiCopula\n",
    "QuasiCopula.fit!(Gaussian_VC_model2);"
   ]
  },
  {
   "cell_type": "code",
   "execution_count": 8,
   "metadata": {},
   "outputs": [],
   "source": [
    "# qc logl\n",
    "logl_Oxboys_QC = logl(Gaussian_VC_model2)\n",
    "# -826.5794860766803\n",
    "\n",
    "# fit with glm: GLM.jl\n",
    "Oxboys_lm = lm(@formula(Height ~ 1), df);\n",
    "logl_Oxboys_LM = loglikelihood(Oxboys_lm)\n",
    "# -848.3492814947749\n",
    "\n",
    "# fit with lmm: MixedModels.jl\n",
    "Oxboys_formula = @formula(Height ~ 1 + (1|Subject));\n",
    "mdl = LinearMixedModel(Oxboys_formula, df)\n",
    "MixedModels.fit!(mdl);\n",
    "logl_Oxboys_LMM = loglikelihood(mdl);"
   ]
  },
  {
   "cell_type": "code",
   "execution_count": 9,
   "metadata": {},
   "outputs": [
    {
     "name": "stdout",
     "output_type": "stream",
     "text": [
      "logl_Oxboys_QC = -826.5794860766803\n",
      "logl_Oxboys_LM = -848.3492814947749\n",
      "logl_Oxboys_LMM = -734.6676665245718\n"
     ]
    }
   ],
   "source": [
    "@show logl_Oxboys_QC\n",
    "@show logl_Oxboys_LM\n",
    "@show logl_Oxboys_LMM;"
   ]
  },
  {
   "cell_type": "markdown",
   "metadata": {},
   "source": [
    "# Sleepstudy data: lme4 (Gaussian)"
   ]
  },
  {
   "cell_type": "code",
   "execution_count": 10,
   "metadata": {},
   "outputs": [
    {
     "data": {
      "text/plain": [
       "Quasi-Copula Variance Component Model\n",
       "  * base distribution: Normal\n",
       "  * link function: IdentityLink\n",
       "  * number of clusters: 18\n",
       "  * cluster size min, max: 10, 10\n",
       "  * number of variance components: 1\n",
       "  * number of fixed effects: 1"
      ]
     },
     "execution_count": 10,
     "metadata": {},
     "output_type": "execute_result"
    }
   ],
   "source": [
    "df = dataset(\"lme4\", \"sleepstudy\")\n",
    "y = :Reaction\n",
    "grouping = :Subject\n",
    "\n",
    "Gaussian_VC_model3 = VC_model(df, y, grouping, d, link)"
   ]
  },
  {
   "cell_type": "code",
   "execution_count": 11,
   "metadata": {},
   "outputs": [
    {
     "name": "stdout",
     "output_type": "stream",
     "text": [
      "gcm.β = [298.5078916666667]\n",
      "initializing dispersion using residual sum of squares\n",
      "gcm.τ = [0.00031692692475632976]\n",
      "initializing variance components using MM-Algorithm\n",
      "gcm.θ = [0.17963770582374433]\n",
      "Total number of variables............................:        3\n",
      "                     variables with only lower bounds:        2\n",
      "                variables with lower and upper bounds:        0\n",
      "                     variables with only upper bounds:        0\n",
      "Total number of equality constraints.................:        0\n",
      "Total number of inequality constraints...............:        0\n",
      "        inequality constraints with only lower bounds:        0\n",
      "   inequality constraints with lower and upper bounds:        0\n",
      "        inequality constraints with only upper bounds:        0\n",
      "\n",
      "\n",
      "Number of Iterations....: 35\n",
      "\n",
      "                                   (scaled)                 (unscaled)\n",
      "Objective...............:   9.7311733466615874e+02    9.7311733466615874e+02\n",
      "Dual infeasibility......:   1.4739948630225240e-07    1.4739948630225240e-07\n",
      "Constraint violation....:   0.0000000000000000e+00    0.0000000000000000e+00\n",
      "Complementarity.........:   9.9999999999999994e-12    9.9999999999999994e-12\n",
      "Overall NLP error.......:   1.4739948630225240e-07    1.4739948630225240e-07\n",
      "\n",
      "\n",
      "Number of objective function evaluations             = 55\n",
      "Number of objective gradient evaluations             = 36\n",
      "Number of equality constraint evaluations            = 0\n",
      "Number of inequality constraint evaluations          = 0\n",
      "Number of equality constraint Jacobian evaluations   = 0\n",
      "Number of inequality constraint Jacobian evaluations = 0\n",
      "Number of Lagrangian Hessian evaluations             = 0\n",
      "Total CPU secs in IPOPT (w/o function evaluations)   =      0.195\n",
      "Total CPU secs in NLP function evaluations           =      0.015\n",
      "\n",
      "EXIT: Optimal Solution Found.\n"
     ]
    }
   ],
   "source": [
    "# fit using QuasiCopula\n",
    "QuasiCopula.fit!(Gaussian_VC_model3);"
   ]
  },
  {
   "cell_type": "code",
   "execution_count": 12,
   "metadata": {},
   "outputs": [],
   "source": [
    "# qc logl\n",
    "logl_sleepstudy_QC = logl(Gaussian_VC_model3)\n",
    "\n",
    "# fit with glm: GLM.jl\n",
    "sleepstudy_lm = lm(@formula(Reaction ~ 1), df);\n",
    "logl_sleepstudy_LM = loglikelihood(sleepstudy_lm)\n",
    "\n",
    "# fit with lmm: MixedModels.jl\n",
    "sleepstudy_formula = @formula(Reaction ~ 1 + (1|Subject));\n",
    "mdl = LinearMixedModel(sleepstudy_formula, df)\n",
    "MixedModels.fit!(mdl)\n",
    "logl_sleepstudy_LMM = loglikelihood(mdl);"
   ]
  },
  {
   "cell_type": "code",
   "execution_count": 13,
   "metadata": {},
   "outputs": [
    {
     "name": "stdout",
     "output_type": "stream",
     "text": [
      "logl_sleepstudy_QC = -973.1173346661587\n",
      "logl_sleepstudy_LM = -980.5244758509474\n",
      "logl_sleepstudy_LMM = -955.270529036532\n"
     ]
    }
   ],
   "source": [
    "@show logl_sleepstudy_QC\n",
    "@show logl_sleepstudy_LM\n",
    "@show logl_sleepstudy_LMM;"
   ]
  },
  {
   "cell_type": "markdown",
   "metadata": {},
   "source": [
    "# Gcsemv data: mlmRev (Gaussian)"
   ]
  },
  {
   "cell_type": "code",
   "execution_count": 14,
   "metadata": {},
   "outputs": [
    {
     "data": {
      "text/plain": [
       "Quasi-Copula Variance Component Model\n",
       "  * base distribution: Normal\n",
       "  * link function: IdentityLink\n",
       "  * number of clusters: 73\n",
       "  * cluster size min, max: 1, 83\n",
       "  * number of variance components: 1\n",
       "  * number of fixed effects: 1"
      ]
     },
     "execution_count": 14,
     "metadata": {},
     "output_type": "execute_result"
    }
   ],
   "source": [
    "df = dataset(\"mlmRev\", \"Gcsemv\")\n",
    "df = df[completecases(df), :]\n",
    "y = :Course\n",
    "grouping = :School\n",
    "\n",
    "Gaussian_VC_model4 = VC_model(df, y, grouping, d, link)"
   ]
  },
  {
   "cell_type": "code",
   "execution_count": 15,
   "metadata": {},
   "outputs": [
    {
     "name": "stdout",
     "output_type": "stream",
     "text": [
      "gcm.β = [73.38138542350625]\n",
      "initializing dispersion using residual sum of squares\n",
      "gcm.τ = [0.003703899254589357]\n",
      "initializing variance components using MM-Algorithm\n",
      "gcm.θ = [0.5145178403876451]\n",
      "Total number of variables............................:        3\n",
      "                     variables with only lower bounds:        2\n",
      "                variables with lower and upper bounds:        0\n",
      "                     variables with only upper bounds:        0\n",
      "Total number of equality constraints.................:        0\n",
      "Total number of inequality constraints...............:        0\n",
      "        inequality constraints with only lower bounds:        0\n",
      "   inequality constraints with lower and upper bounds:        0\n",
      "        inequality constraints with only upper bounds:        0\n",
      "\n",
      "\n",
      "Number of Iterations....: 20\n",
      "\n",
      "                                   (scaled)                 (unscaled)\n",
      "Objective...............:   6.3611970355006688e+03    6.3611970355006688e+03\n",
      "Dual infeasibility......:   6.7714640667166823e-08    6.7714640667166823e-08\n",
      "Constraint violation....:   0.0000000000000000e+00    0.0000000000000000e+00\n",
      "Complementarity.........:   9.9999999999999978e-12    9.9999999999999978e-12\n",
      "Overall NLP error.......:   6.7714640667166823e-08    6.7714640667166823e-08\n",
      "\n",
      "\n",
      "Number of objective function evaluations             = 31\n",
      "Number of objective gradient evaluations             = 21\n",
      "Number of equality constraint evaluations            = 0\n",
      "Number of inequality constraint evaluations          = 0\n",
      "Number of equality constraint Jacobian evaluations   = 0\n",
      "Number of inequality constraint Jacobian evaluations = 0\n",
      "Number of Lagrangian Hessian evaluations             = 0\n",
      "Total CPU secs in IPOPT (w/o function evaluations)   =      0.089\n",
      "Total CPU secs in NLP function evaluations           =      0.015\n",
      "\n",
      "EXIT: Optimal Solution Found.\n"
     ]
    }
   ],
   "source": [
    "# fit using QuasiCopula\n",
    "QuasiCopula.fit!(Gaussian_VC_model4);"
   ]
  },
  {
   "cell_type": "code",
   "execution_count": 16,
   "metadata": {},
   "outputs": [],
   "source": [
    "# qc logl\n",
    "logl_Gcsemv_QC = logl(Gaussian_VC_model4)\n",
    "\n",
    "# fit with glm: GLM.jl\n",
    "Gcsemv_lm = lm(@formula(Course ~ 1), df);\n",
    "logl_Gcsemv_LM = loglikelihood(Gcsemv_lm)\n",
    "\n",
    "# fit with lmm: MixedModels.jl\n",
    "Gcsemv_formula = @formula(Course ~ 1 + (1|School));\n",
    "mdl = LinearMixedModel(Gcsemv_formula, df)\n",
    "MixedModels.fit!(mdl);\n",
    "logl_Gcsemv_LMM = loglikelihood(mdl);"
   ]
  },
  {
   "cell_type": "code",
   "execution_count": 17,
   "metadata": {},
   "outputs": [
    {
     "name": "stdout",
     "output_type": "stream",
     "text": [
      "logl_Gcsemv_QC = -6361.197035500669\n",
      "logl_Gcsemv_LM = -6424.201502669516\n",
      "logl_Gcsemv_LMM = -6247.905067227811\n"
     ]
    }
   ],
   "source": [
    "@show logl_Gcsemv_QC\n",
    "@show logl_Gcsemv_LM\n",
    "@show logl_Gcsemv_LMM;"
   ]
  },
  {
   "cell_type": "markdown",
   "metadata": {},
   "source": [
    "# respiratory data: geepack (Bernoulli)"
   ]
  },
  {
   "cell_type": "code",
   "execution_count": 18,
   "metadata": {},
   "outputs": [
    {
     "data": {
      "text/plain": [
       "Quasi-Copula Variance Component Model\n",
       "  * base distribution: Bernoulli\n",
       "  * link function: LogitLink\n",
       "  * number of clusters: 56\n",
       "  * cluster size min, max: 4, 8\n",
       "  * number of variance components: 1\n",
       "  * number of fixed effects: 1"
      ]
     },
     "execution_count": 18,
     "metadata": {},
     "output_type": "execute_result"
    }
   ],
   "source": [
    "R\"\"\"\n",
    "    data(respiratory, package=\"geepack\")\n",
    "    respiratory_df <- respiratory[order(respiratory$id),]\n",
    "\"\"\"\n",
    "@rget respiratory_df;\n",
    "\n",
    "df = respiratory_df\n",
    "df[!, :id] = string.(df[!, :id])\n",
    "y = :outcome\n",
    "grouping = :id\n",
    "\n",
    "# Bernoulli\n",
    "d = Bernoulli()\n",
    "link = LogitLink()\n",
    "\n",
    "Bernoulli_VC_model = VC_model(df, y, grouping, d, link)"
   ]
  },
  {
   "cell_type": "code",
   "execution_count": 19,
   "metadata": {},
   "outputs": [
    {
     "name": "stdout",
     "output_type": "stream",
     "text": [
      "initializing β using Newton's Algorithm under Independence Assumption\n",
      "gcm.β = [0.23531408536427043]\n",
      "initializing variance components using MM-Algorithm\n",
      "gcm.θ = [0.2643698235606835]\n",
      "Total number of variables............................:        2\n",
      "                     variables with only lower bounds:        1\n",
      "                variables with lower and upper bounds:        0\n",
      "                     variables with only upper bounds:        0\n",
      "Total number of equality constraints.................:        0\n",
      "Total number of inequality constraints...............:        0\n",
      "        inequality constraints with only lower bounds:        0\n",
      "   inequality constraints with lower and upper bounds:        0\n",
      "        inequality constraints with only upper bounds:        0\n",
      "\n",
      "\n",
      "Number of Iterations....: 6\n",
      "\n",
      "                                   (scaled)                 (unscaled)\n",
      "Objective...............:   2.8889498858347241e+02    2.8889498858347241e+02\n",
      "Dual infeasibility......:   6.4801335408759542e-09    6.4801335408759542e-09\n",
      "Constraint violation....:   0.0000000000000000e+00    0.0000000000000000e+00\n",
      "Complementarity.........:   1.0000090958548109e-11    1.0000090958548109e-11\n",
      "Overall NLP error.......:   6.4801335408759542e-09    6.4801335408759542e-09\n",
      "\n",
      "\n",
      "Number of objective function evaluations             = 16\n",
      "Number of objective gradient evaluations             = 7\n",
      "Number of equality constraint evaluations            = 0\n",
      "Number of inequality constraint evaluations          = 0\n",
      "Number of equality constraint Jacobian evaluations   = 0\n",
      "Number of inequality constraint Jacobian evaluations = 0\n",
      "Number of Lagrangian Hessian evaluations             = 0\n",
      "Total CPU secs in IPOPT (w/o function evaluations)   =     21.047\n",
      "Total CPU secs in NLP function evaluations           =      0.024\n",
      "\n",
      "EXIT: Optimal Solution Found.\n"
     ]
    }
   ],
   "source": [
    "# fit using QuasiCopula\n",
    "QuasiCopula.fit!(Bernoulli_VC_model);"
   ]
  },
  {
   "cell_type": "code",
   "execution_count": 20,
   "metadata": {},
   "outputs": [
    {
     "name": "stderr",
     "output_type": "stream",
     "text": [
      "┌ Warning: ProgressMeter by default refresh meters with additional information in IJulia via `IJulia.clear_output`, which clears all outputs in the cell. \n",
      "│  - To prevent this behaviour, do `ProgressMeter.ijulia_behavior(:append)`. \n",
      "│  - To disable this warning message, do `ProgressMeter.ijulia_behavior(:clear)`.\n",
      "└ @ ProgressMeter /Users/sarahji/.julia/packages/ProgressMeter/Vf8un/src/ProgressMeter.jl:620\n",
      "\r",
      "\u001b[32mMinimizing 15 \t Time: 0:00:00 (23.63 ms/it)\u001b[39m\n"
     ]
    }
   ],
   "source": [
    "# qc logl\n",
    "logl_respiratory_QC = logl(Bernoulli_VC_model)\n",
    "\n",
    "# fit with glm: GLM.jl\n",
    "respiratory_glm = glm(@formula(outcome ~ 1), df, d, link);\n",
    "logl_respiratory_GLM = loglikelihood(respiratory_glm)\n",
    "\n",
    "# fit with glmm: MixedModels.jl\n",
    "respiratory_formula = @formula(outcome ~ 1 + (1|id));\n",
    "mdl = GeneralizedLinearMixedModel(respiratory_formula, df, d, link)\n",
    "MixedModels.fit!(mdl, fast=true);\n",
    "logl_respiratory_GLMM = loglikelihood(mdl);"
   ]
  },
  {
   "cell_type": "code",
   "execution_count": 21,
   "metadata": {},
   "outputs": [
    {
     "name": "stdout",
     "output_type": "stream",
     "text": [
      "logl_respiratory_QC = -288.8949885834724\n",
      "logl_respiratory_GLM = -304.70530346181135\n",
      "logl_respiratory_GLMM = -280.997334355401\n"
     ]
    }
   ],
   "source": [
    "@show logl_respiratory_QC\n",
    "@show logl_respiratory_GLM\n",
    "@show logl_respiratory_GLMM;"
   ]
  },
  {
   "cell_type": "markdown",
   "metadata": {},
   "source": [
    "# Contraception data: mlmRev  (Bernoulli)"
   ]
  },
  {
   "cell_type": "code",
   "execution_count": 22,
   "metadata": {},
   "outputs": [
    {
     "data": {
      "text/plain": [
       "Quasi-Copula Variance Component Model\n",
       "  * base distribution: Bernoulli\n",
       "  * link function: LogitLink\n",
       "  * number of clusters: 60\n",
       "  * cluster size min, max: 2, 118\n",
       "  * number of variance components: 1\n",
       "  * number of fixed effects: 1"
      ]
     },
     "execution_count": 22,
     "metadata": {},
     "output_type": "execute_result"
    }
   ],
   "source": [
    "df = dataset(\"mlmRev\", \"Contraception\")\n",
    "binary_use = map(x -> string.(x) == \"N\" ? 0.0 : 1.0, df[!, :Use])\n",
    "df[!, :outcome] = binary_use\n",
    "y = :outcome\n",
    "grouping = :District\n",
    "\n",
    "# # Bernoulli\n",
    "# d = Bernoulli()\n",
    "# link = LogitLink()\n",
    "Bernoulli_VC_model = VC_model(df, y, grouping, d, link)"
   ]
  },
  {
   "cell_type": "code",
   "execution_count": 23,
   "metadata": {},
   "outputs": [
    {
     "name": "stdout",
     "output_type": "stream",
     "text": [
      "initializing β using Newton's Algorithm under Independence Assumption\n",
      "gcm.β = [-0.43702156143913895]\n",
      "initializing variance components using MM-Algorithm\n",
      "gcm.θ = [0.08460354610678963]\n",
      "Total number of variables............................:        2\n",
      "                     variables with only lower bounds:        1\n",
      "                variables with lower and upper bounds:        0\n",
      "                     variables with only upper bounds:        0\n",
      "Total number of equality constraints.................:        0\n",
      "Total number of inequality constraints...............:        0\n",
      "        inequality constraints with only lower bounds:        0\n",
      "   inequality constraints with lower and upper bounds:        0\n",
      "        inequality constraints with only upper bounds:        0\n",
      "\n",
      "\n",
      "Number of Iterations....: 6\n",
      "\n",
      "                                   (scaled)                 (unscaled)\n",
      "Objective...............:   1.2764000166885739e+03    1.2764000166885739e+03\n",
      "Dual infeasibility......:   3.4385887690431207e-09    3.4385887690431207e-09\n",
      "Constraint violation....:   0.0000000000000000e+00    0.0000000000000000e+00\n",
      "Complementarity.........:   9.9999999854552206e-12    9.9999999854552206e-12\n",
      "Overall NLP error.......:   3.4385887690431207e-09    3.4385887690431207e-09\n",
      "\n",
      "\n",
      "Number of objective function evaluations             = 19\n",
      "Number of objective gradient evaluations             = 7\n",
      "Number of equality constraint evaluations            = 0\n",
      "Number of inequality constraint evaluations          = 0\n",
      "Number of equality constraint Jacobian evaluations   = 0\n",
      "Number of inequality constraint Jacobian evaluations = 0\n",
      "Number of Lagrangian Hessian evaluations             = 0\n",
      "Total CPU secs in IPOPT (w/o function evaluations)   =      0.078\n",
      "Total CPU secs in NLP function evaluations           =      0.013\n",
      "\n",
      "EXIT: Optimal Solution Found.\n"
     ]
    }
   ],
   "source": [
    "# fit using QuasiCopula\n",
    "QuasiCopula.fit!(Bernoulli_VC_model);"
   ]
  },
  {
   "cell_type": "code",
   "execution_count": 24,
   "metadata": {},
   "outputs": [],
   "source": [
    "# qc logl\n",
    "logl_Contraception_QC = logl(Bernoulli_VC_model)\n",
    "\n",
    "# fit with glm: GLM.jl\n",
    "Contraception_glm = glm(@formula(outcome ~ 1), df, d, link);\n",
    "logl_Contraception_GLM = loglikelihood(Contraception_glm)\n",
    "\n",
    "# fit with glmm: MixedModels.jl\n",
    "Contraception_formula = @formula(outcome ~ 1 + (1|District));\n",
    "mdl = GeneralizedLinearMixedModel(Contraception_formula, df, d, link)\n",
    "MixedModels.fit!(mdl, fast=true);\n",
    "logl_Contraception_GLMM = loglikelihood(mdl);"
   ]
  },
  {
   "cell_type": "code",
   "execution_count": 25,
   "metadata": {},
   "outputs": [
    {
     "name": "stdout",
     "output_type": "stream",
     "text": [
      "logl_Contraception_QC = -1276.400016688574\n",
      "logl_Contraception_GLM = -1295.4546621368916\n",
      "logl_Contraception_GLMM = -1267.2367038450316\n"
     ]
    }
   ],
   "source": [
    "@show logl_Contraception_QC\n",
    "@show logl_Contraception_GLM\n",
    "@show logl_Contraception_GLMM;"
   ]
  },
  {
   "cell_type": "markdown",
   "metadata": {},
   "source": [
    "# epilepsy data: gcmr (Poisson)"
   ]
  },
  {
   "cell_type": "code",
   "execution_count": 26,
   "metadata": {},
   "outputs": [
    {
     "name": "stderr",
     "output_type": "stream",
     "text": [
      "┌ Warning: RCall.jl: Warning: package ‘gcmr’ was built under R version 4.0.2\n",
      "└ @ RCall /Users/sarahji/.julia/packages/RCall/6kphM/src/io.jl:172\n"
     ]
    },
    {
     "data": {
      "text/plain": [
       "Quasi-Copula Variance Component Model\n",
       "  * base distribution: Poisson\n",
       "  * link function: LogLink\n",
       "  * number of clusters: 59\n",
       "  * cluster size min, max: 5, 5\n",
       "  * number of variance components: 1\n",
       "  * number of fixed effects: 1"
      ]
     },
     "execution_count": 26,
     "metadata": {},
     "output_type": "execute_result"
    }
   ],
   "source": [
    "R\"\"\"\n",
    "    library(\"gcmr\")\n",
    "    data(\"epilepsy\", package = \"gcmr\")\n",
    "\"\"\"\n",
    "@rget epilepsy;\n",
    "\n",
    "df = epilepsy\n",
    "y = :counts\n",
    "grouping = :id\n",
    "\n",
    "# Poisson\n",
    "d = Poisson()\n",
    "link = LogLink()\n",
    "Poisson_VC_model = VC_model(df, y, grouping, d, link)"
   ]
  },
  {
   "cell_type": "code",
   "execution_count": 27,
   "metadata": {},
   "outputs": [
    {
     "name": "stdout",
     "output_type": "stream",
     "text": [
      "initializing β using Newton's Algorithm under Independence Assumption\n",
      "gcm.β = [2.5544643397090105]\n",
      "initializing variance components using MM-Algorithm\n",
      "gcm.θ = [6.362206769115058]\n",
      "Total number of variables............................:        2\n",
      "                     variables with only lower bounds:        1\n",
      "                variables with lower and upper bounds:        0\n",
      "                     variables with only upper bounds:        0\n",
      "Total number of equality constraints.................:        0\n",
      "Total number of inequality constraints...............:        0\n",
      "        inequality constraints with only lower bounds:        0\n",
      "   inequality constraints with lower and upper bounds:        0\n",
      "        inequality constraints with only upper bounds:        0\n",
      "\n",
      "\n",
      "Number of Iterations....: 14\n",
      "\n",
      "                                   (scaled)                 (unscaled)\n",
      "Objective...............:   2.9453773284413337e+03    2.9453773284413337e+03\n",
      "Dual infeasibility......:   4.3645371761158458e-09    4.3645371761158458e-09\n",
      "Constraint violation....:   0.0000000000000000e+00    0.0000000000000000e+00\n",
      "Complementarity.........:   9.9999999999997797e-12    9.9999999999997797e-12\n",
      "Overall NLP error.......:   4.3645371761158458e-09    4.3645371761158458e-09\n",
      "\n",
      "\n",
      "Number of objective function evaluations             = 30\n",
      "Number of objective gradient evaluations             = 15\n",
      "Number of equality constraint evaluations            = 0\n",
      "Number of inequality constraint evaluations          = 0\n",
      "Number of equality constraint Jacobian evaluations   = 0\n",
      "Number of inequality constraint Jacobian evaluations = 0\n",
      "Number of Lagrangian Hessian evaluations             = 0\n",
      "Total CPU secs in IPOPT (w/o function evaluations)   =      6.483\n",
      "Total CPU secs in NLP function evaluations           =      0.025\n",
      "\n",
      "EXIT: Optimal Solution Found.\n"
     ]
    }
   ],
   "source": [
    "# fit using QuasiCopula\n",
    "QuasiCopula.fit!(Poisson_VC_model);"
   ]
  },
  {
   "cell_type": "code",
   "execution_count": 28,
   "metadata": {},
   "outputs": [],
   "source": [
    "# qc logl\n",
    "logl_epilepsy_QC = logl(Poisson_VC_model)\n",
    "\n",
    "# fit with glm: GLM.jl\n",
    "epilepsy_glm = glm(@formula(counts ~ 1), df, Poisson(), LogLink());\n",
    "logl_epilepsy_GLM = loglikelihood(epilepsy_glm)\n",
    "\n",
    "# fit with glmm: MixedModels.jl\n",
    "df[!, :id] = string.(df[!, :id])\n",
    "epilepsy_formula = @formula(counts ~ 1 + (1|id));\n",
    "mdl = GeneralizedLinearMixedModel(epilepsy_formula, df, Poisson(), LogLink())\n",
    "MixedModels.fit!(mdl, fast=true);\n",
    "logl_epilepsy_GLMM = loglikelihood(mdl);"
   ]
  },
  {
   "cell_type": "code",
   "execution_count": 29,
   "metadata": {},
   "outputs": [
    {
     "name": "stdout",
     "output_type": "stream",
     "text": [
      "logl_epilepsy_QC = -2945.3773284413337\n",
      "logl_epilepsy_GLM = -3092.972481024413\n",
      "logl_epilepsy_GLMM = -1785.335988439955\n"
     ]
    }
   ],
   "source": [
    "@show logl_epilepsy_QC\n",
    "@show logl_epilepsy_GLM\n",
    "@show logl_epilepsy_GLMM;"
   ]
  },
  {
   "cell_type": "markdown",
   "metadata": {},
   "source": [
    "# Mmmec data: mlmRev (Poisson)"
   ]
  },
  {
   "cell_type": "code",
   "execution_count": 30,
   "metadata": {},
   "outputs": [
    {
     "data": {
      "text/plain": [
       "Quasi-Copula Variance Component Model\n",
       "  * base distribution: Poisson\n",
       "  * link function: LogLink\n",
       "  * number of clusters: 9\n",
       "  * cluster size min, max: 3, 95\n",
       "  * number of variance components: 1\n",
       "  * number of fixed effects: 1"
      ]
     },
     "execution_count": 30,
     "metadata": {},
     "output_type": "execute_result"
    }
   ],
   "source": [
    "Mmmec = dataset(\"mlmRev\", \"Mmmec\");\n",
    "\n",
    "df = Mmmec\n",
    "y = :Deaths\n",
    "grouping = :Nation\n",
    "# d = Poisson()\n",
    "# link = LogLink()\n",
    "\n",
    "Poisson_VC_model = VC_model(df, y, grouping, d, link)"
   ]
  },
  {
   "cell_type": "code",
   "execution_count": 31,
   "metadata": {},
   "outputs": [
    {
     "name": "stdout",
     "output_type": "stream",
     "text": [
      "initializing β using Newton's Algorithm under Independence Assumption\n",
      "gcm.β = [3.326031339981156]\n",
      "initializing variance components using MM-Algorithm\n",
      "gcm.θ = [1.0]\n",
      "Total number of variables............................:        2\n",
      "                     variables with only lower bounds:        1\n",
      "                variables with lower and upper bounds:        0\n",
      "                     variables with only upper bounds:        0\n",
      "Total number of equality constraints.................:        0\n",
      "Total number of inequality constraints...............:        0\n",
      "        inequality constraints with only lower bounds:        0\n",
      "   inequality constraints with lower and upper bounds:        0\n",
      "        inequality constraints with only upper bounds:        0\n",
      "\n",
      "\n",
      "Number of Iterations....: 57\n",
      "\n",
      "                                   (scaled)                 (unscaled)\n",
      "Objective...............:   6.6230027620134115e+03    6.6230027620134115e+03\n",
      "Dual infeasibility......:   1.1068841262247114e-11    1.1068841262247114e-11\n",
      "Constraint violation....:   0.0000000000000000e+00    0.0000000000000000e+00\n",
      "Complementarity.........:   9.9999999999999994e-12    9.9999999999999994e-12\n",
      "Overall NLP error.......:   1.1068841262247114e-11    1.1068841262247114e-11\n",
      "\n",
      "\n",
      "Number of objective function evaluations             = 92\n",
      "Number of objective gradient evaluations             = 58\n",
      "Number of equality constraint evaluations            = 0\n",
      "Number of inequality constraint evaluations          = 0\n",
      "Number of equality constraint Jacobian evaluations   = 0\n",
      "Number of inequality constraint Jacobian evaluations = 0\n",
      "Number of Lagrangian Hessian evaluations             = 0\n",
      "Total CPU secs in IPOPT (w/o function evaluations)   =      0.482\n",
      "Total CPU secs in NLP function evaluations           =      0.036\n",
      "\n",
      "EXIT: Optimal Solution Found.\n"
     ]
    }
   ],
   "source": [
    "# fit using QuasiCopula\n",
    "QuasiCopula.fit!(Poisson_VC_model);"
   ]
  },
  {
   "cell_type": "code",
   "execution_count": 32,
   "metadata": {},
   "outputs": [],
   "source": [
    "# qc logl\n",
    "logl_Mmmec_QC = logl(Poisson_VC_model)\n",
    "\n",
    "# fit with glm: GLM.jl\n",
    "Mmmec_glm = glm(@formula(Deaths ~ 1), df, Poisson(), LogLink());\n",
    "logl_Mmmec_GLM = loglikelihood(Mmmec_glm)\n",
    "\n",
    "# fit with glmm: MixedModels.jl\n",
    "Mmmec_formula = @formula(Deaths ~ 1 + (1|Nation));\n",
    "mdl = GeneralizedLinearMixedModel(Mmmec_formula, df, Poisson(), LogLink())\n",
    "MixedModels.fit!(mdl, fast=true);\n",
    "logl_Mmmec_GLMM = loglikelihood(mdl);"
   ]
  },
  {
   "cell_type": "code",
   "execution_count": 33,
   "metadata": {},
   "outputs": [
    {
     "name": "stdout",
     "output_type": "stream",
     "text": [
      "logl_Mmmec_QC = -6623.0027620134115\n",
      "logl_Mmmec_GLM = -6672.358128381808\n",
      "logl_Mmmec_GLMM = -3762.8923979880137\n"
     ]
    }
   ],
   "source": [
    "@show logl_Mmmec_QC\n",
    "@show logl_Mmmec_GLM\n",
    "@show logl_Mmmec_GLMM;"
   ]
  },
  {
   "cell_type": "markdown",
   "metadata": {},
   "source": [
    "# epilepsy data: gcmr (NB)"
   ]
  },
  {
   "cell_type": "code",
   "execution_count": 34,
   "metadata": {},
   "outputs": [
    {
     "data": {
      "text/plain": [
       "Quasi-Copula Variance Component Model\n",
       "  * base distribution: NegativeBinomial\n",
       "  * link function: LogLink\n",
       "  * number of clusters: 59\n",
       "  * cluster size min, max: 5, 5\n",
       "  * number of variance components: 1\n",
       "  * number of fixed effects: 1"
      ]
     },
     "execution_count": 34,
     "metadata": {},
     "output_type": "execute_result"
    }
   ],
   "source": [
    "R\"\"\"\n",
    "    library(\"gcmr\")\n",
    "    data(\"epilepsy\", package = \"gcmr\")\n",
    "\"\"\"\n",
    "@rget epilepsy;\n",
    "\n",
    "df = epilepsy\n",
    "y = :counts\n",
    "grouping = :id\n",
    "\n",
    "# negative Binomial\n",
    "d = NegativeBinomial()\n",
    "link = LogLink()\n",
    "NB_VC_model = VC_model(df, y, grouping, d, link)"
   ]
  },
  {
   "cell_type": "code",
   "execution_count": 35,
   "metadata": {},
   "outputs": [
    {
     "name": "stdout",
     "output_type": "stream",
     "text": [
      "initializing β using GLM.jl\n",
      "gcm.β = [2.5544643337320343]\n",
      "initializing variance components using MM-Algorithm\n",
      "gcm.θ = [0.5657670131706649]\n",
      "initializing r using Newton update\n",
      "Converging when tol ≤ 1.0e-6 (max block iter = 10)\n",
      "Block iter 1 r = 0.95, logl = -1041.21, tol = 1041.2064746554058\n",
      "Block iter 2 r = 0.95, logl = -1041.2, tol = 9.169060760388625e-6\n"
     ]
    }
   ],
   "source": [
    "# fit using QuasiCopula\n",
    "QuasiCopula.fit!(NB_VC_model);"
   ]
  },
  {
   "cell_type": "code",
   "execution_count": 36,
   "metadata": {},
   "outputs": [
    {
     "name": "stderr",
     "output_type": "stream",
     "text": [
      "┌ Warning: Results for families with a dispersion parameter are not reliable.\n",
      "│ It is best to avoid trying to fit such models in MixedModels until\n",
      "│ the authors gain a better understanding of those cases.\n",
      "└ @ MixedModels /Users/sarahji/.julia/packages/MixedModels/mag0C/src/generalizedlinearmixedmodel.jl:374\n"
     ]
    }
   ],
   "source": [
    "# qc logl\n",
    "logl_epilepsy_QC_nb = logl(NB_VC_model)\n",
    "\n",
    "# fit with glm: GLM.jl\n",
    "epilepsy_glm = glm(@formula(counts ~ 1), df, d, link);\n",
    "logl_epilepsy_GLM_nb = loglikelihood(epilepsy_glm)\n",
    "\n",
    "# fit with glmm: MixedModels.jl\n",
    "df[!, :id] = string.(df[!, :id])\n",
    "epilepsy_formula = @formula(counts ~ 1 + (1|id));\n",
    "mdl = GeneralizedLinearMixedModel(epilepsy_formula, df, d, link)\n",
    "MixedModels.fit!(mdl, fast=true);\n",
    "logl_epilepsy_GLMM_nb = loglikelihood(mdl);"
   ]
  },
  {
   "cell_type": "code",
   "execution_count": 37,
   "metadata": {},
   "outputs": [
    {
     "name": "stdout",
     "output_type": "stream",
     "text": [
      "logl_epilepsy_QC_nb = -1041.1965870627232\n",
      "logl_epilepsy_GLM_nb = -1059.746665536632\n",
      "logl_epilepsy_GLMM_nb = -1025.4137630663238\n"
     ]
    }
   ],
   "source": [
    "@show logl_epilepsy_QC_nb\n",
    "@show logl_epilepsy_GLM_nb\n",
    "@show logl_epilepsy_GLMM_nb;"
   ]
  },
  {
   "cell_type": "markdown",
   "metadata": {},
   "source": [
    "# Mmmec data: mlmRev (NB)"
   ]
  },
  {
   "cell_type": "code",
   "execution_count": 38,
   "metadata": {},
   "outputs": [
    {
     "data": {
      "text/plain": [
       "Quasi-Copula Variance Component Model\n",
       "  * base distribution: NegativeBinomial\n",
       "  * link function: LogLink\n",
       "  * number of clusters: 9\n",
       "  * cluster size min, max: 3, 95\n",
       "  * number of variance components: 1\n",
       "  * number of fixed effects: 1"
      ]
     },
     "execution_count": 38,
     "metadata": {},
     "output_type": "execute_result"
    }
   ],
   "source": [
    "Mmmec = dataset(\"mlmRev\", \"Mmmec\");\n",
    "\n",
    "df = Mmmec\n",
    "y = :Deaths\n",
    "grouping = :Nation\n",
    "# d = NegativeBinomial()\n",
    "# link = LogLink()\n",
    "\n",
    "NB_VC_model = VC_model(df, y, grouping, d, link)"
   ]
  },
  {
   "cell_type": "code",
   "execution_count": 39,
   "metadata": {},
   "outputs": [
    {
     "name": "stdout",
     "output_type": "stream",
     "text": [
      "initializing β using GLM.jl\n",
      "gcm.β = [3.3260313399805215]\n",
      "initializing variance components using MM-Algorithm\n",
      "gcm.θ = [1.0]\n",
      "initializing r using Newton update\n",
      "Converging when tol ≤ 1.0e-6 (max block iter = 10)\n",
      "Block iter 1 r = 0.95, logl = -1517.43, tol = 1517.4256786488381\n"
     ]
    }
   ],
   "source": [
    "# fit using QuasiCopula\n",
    "QuasiCopula.fit!(NB_VC_model);"
   ]
  },
  {
   "cell_type": "code",
   "execution_count": 40,
   "metadata": {},
   "outputs": [
    {
     "name": "stderr",
     "output_type": "stream",
     "text": [
      "┌ Warning: Results for families with a dispersion parameter are not reliable.\n",
      "│ It is best to avoid trying to fit such models in MixedModels until\n",
      "│ the authors gain a better understanding of those cases.\n",
      "└ @ MixedModels /Users/sarahji/.julia/packages/MixedModels/mag0C/src/generalizedlinearmixedmodel.jl:374\n"
     ]
    }
   ],
   "source": [
    "# qc logl\n",
    "logl_Mmmec_QC_nb = logl(NB_VC_model)\n",
    "\n",
    "# fit with glm: GLM.jl\n",
    "Mmmec_glm = glm(@formula(Deaths ~ 1), df, d, link);\n",
    "logl_Mmmec_GLM_nb = loglikelihood(Mmmec_glm)\n",
    "\n",
    "# fit with glmm: MixedModels.jl\n",
    "Mmmec_formula = @formula(Deaths ~ 1 + (1|Nation));\n",
    "mdl = GeneralizedLinearMixedModel(Mmmec_formula, df, d, link);\n",
    "MixedModels.fit!(mdl, fast=true);\n",
    "logl_Mmmec_GLMM_nb = loglikelihood(mdl);"
   ]
  },
  {
   "cell_type": "code",
   "execution_count": 41,
   "metadata": {},
   "outputs": [
    {
     "name": "stdout",
     "output_type": "stream",
     "text": [
      "logl_Mmmec_QC_nb = -1517.4254928293658\n",
      "logl_Mmmec_GLM_nb = -1537.7008165848106\n",
      "logl_Mmmec_GLMM_nb = -1452.072432624533\n"
     ]
    }
   ],
   "source": [
    "@show logl_Mmmec_QC_nb\n",
    "@show logl_Mmmec_GLM_nb\n",
    "@show logl_Mmmec_GLMM_nb;"
   ]
  }
 ],
 "metadata": {
  "@webio": {
   "lastCommId": null,
   "lastKernelId": null
  },
  "kernelspec": {
   "display_name": "Julia 1.6.2",
   "language": "julia",
   "name": "julia-1.6"
  },
  "language_info": {
   "file_extension": ".jl",
   "mimetype": "application/julia",
   "name": "julia",
   "version": "1.6.2"
  }
 },
 "nbformat": 4,
 "nbformat_minor": 4
}
