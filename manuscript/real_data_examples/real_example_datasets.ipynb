{
 "cells": [
  {
   "cell_type": "markdown",
   "metadata": {},
   "source": [
    "# Real Example Datasets: Intercept Only Random Intercept Model\n",
    "\n",
    "In this notebook we compare the MLEs and loglikelihoods of the quasi-copula intercept only random intercept model with that of GLM and GLMM fit using `GLM.jl` and `MixedModels.jl` respectively.\n",
    "\n",
    "We use the example datasets from various R packages using the `RCall` and `RDatasets` packages."
   ]
  },
  {
   "cell_type": "code",
   "execution_count": 1,
   "metadata": {},
   "outputs": [],
   "source": [
    "using QuasiCopula, DataFrames, LinearAlgebra, RCall, RDatasets\n",
    "using GLM, MixedModels"
   ]
  },
  {
   "cell_type": "markdown",
   "metadata": {},
   "source": [
    "# dyestuff data: lme4 (Gaussian)"
   ]
  },
  {
   "cell_type": "code",
   "execution_count": 2,
   "metadata": {},
   "outputs": [
    {
     "data": {
      "text/plain": [
       "Quasi-Copula Variance Component Model\n",
       "  * base distribution: Normal\n",
       "  * link function: IdentityLink\n",
       "  * number of clusters: 6\n",
       "  * cluster size min, max: 5, 5\n",
       "  * number of variance components: 1\n",
       "  * number of fixed effects: 1"
      ]
     },
     "execution_count": 2,
     "metadata": {},
     "output_type": "execute_result"
    }
   ],
   "source": [
    "df = dataset(\"lme4\", \"Dyestuff\")\n",
    "y = :Yield\n",
    "grouping = :Batch\n",
    "\n",
    "d = Normal()\n",
    "link = IdentityLink()\n",
    "Gaussian_VC_model = VC_model(df, y, grouping, d, link)"
   ]
  },
  {
   "cell_type": "code",
   "execution_count": 3,
   "metadata": {},
   "outputs": [
    {
     "name": "stdout",
     "output_type": "stream",
     "text": [
      "gcm.β = [1527.4999999999998]\n",
      "initializing dispersion using residual sum of squares\n",
      "gcm.τ = [0.0002604449267498643]\n",
      "initializing variance components using MM-Algorithm\n",
      "gcm.θ = [0.8636149140056555]\n",
      "\n",
      "******************************************************************************\n",
      "This program contains Ipopt, a library for large-scale nonlinear optimization.\n",
      " Ipopt is released as open source code under the Eclipse Public License (EPL).\n",
      "         For more information visit https://github.com/coin-or/Ipopt\n",
      "******************************************************************************\n",
      "\n",
      "Total number of variables............................:        3\n",
      "                     variables with only lower bounds:        2\n",
      "                variables with lower and upper bounds:        0\n",
      "                     variables with only upper bounds:        0\n",
      "Total number of equality constraints.................:        0\n",
      "Total number of inequality constraints...............:        0\n",
      "        inequality constraints with only lower bounds:        0\n",
      "   inequality constraints with lower and upper bounds:        0\n",
      "        inequality constraints with only upper bounds:        0\n",
      "\n",
      "\n",
      "Number of Iterations....: 83\n",
      "\n",
      "                                   (scaled)                 (unscaled)\n",
      "Objective...............:   1.6335547256352643e+02    1.6335547256352643e+02\n",
      "Dual infeasibility......:   5.5436379493411375e-08    5.5436379493411375e-08\n",
      "Constraint violation....:   0.0000000000000000e+00    0.0000000000000000e+00\n",
      "Complementarity.........:   9.0909090909090928e-08    9.0909090909090928e-08\n",
      "Overall NLP error.......:   9.0909090909090928e-08    9.0909090909090928e-08\n",
      "\n",
      "\n",
      "Number of objective function evaluations             = 212\n",
      "Number of objective gradient evaluations             = 84\n",
      "Number of equality constraint evaluations            = 0\n",
      "Number of inequality constraint evaluations          = 0\n",
      "Number of equality constraint Jacobian evaluations   = 0\n",
      "Number of inequality constraint Jacobian evaluations = 0\n",
      "Number of Lagrangian Hessian evaluations             = 0\n",
      "Total CPU secs in IPOPT (w/o function evaluations)   =      1.058\n",
      "Total CPU secs in NLP function evaluations           =      0.016\n",
      "\n",
      "EXIT: Optimal Solution Found.\n"
     ]
    }
   ],
   "source": [
    "# fit using QuasiCopula\n",
    "QuasiCopula.fit!(Gaussian_VC_model);"
   ]
  },
  {
   "cell_type": "markdown",
   "metadata": {},
   "source": [
    "### fit dyestuff with QC:"
   ]
  },
  {
   "cell_type": "code",
   "execution_count": 4,
   "metadata": {},
   "outputs": [
    {
     "name": "stdout",
     "output_type": "stream",
     "text": [
      "Gaussian_VC_model.β = [1541.7932221729745]\n",
      "Gaussian_VC_model.θ = [12850.230761962066]\n",
      "Gaussian_VC_model.τ = [0.0003461995259151126]\n"
     ]
    }
   ],
   "source": [
    "# qc estimates\n",
    "@show Gaussian_VC_model.β\n",
    "@show Gaussian_VC_model.θ\n",
    "@show Gaussian_VC_model.τ;"
   ]
  },
  {
   "cell_type": "markdown",
   "metadata": {},
   "source": [
    "### fit dyestuff with GLM:"
   ]
  },
  {
   "cell_type": "code",
   "execution_count": 5,
   "metadata": {},
   "outputs": [
    {
     "name": "stdout",
     "output_type": "stream",
     "text": [
      "dyestuff_lm_β = [1527.4999999999998]\n",
      "dyestuff_lm_θ = 0.0\n",
      "dyestuff_lm_τ = 0.0002517634291915355\n"
     ]
    }
   ],
   "source": [
    "# fit with glm: GLM.jl\n",
    "dyestuff_lm = lm(@formula(Yield ~ 1), df)\n",
    "\n",
    "dyestuff_lm_β = GLM.coef(dyestuff_lm)\n",
    "dyestuff_lm_θ = 0.0\n",
    "dyestuff_lm_τ = inv(deviance(dyestuff_lm)/dof_residual(dyestuff_lm))\n",
    "@show dyestuff_lm_β\n",
    "@show dyestuff_lm_θ\n",
    "@show dyestuff_lm_τ;"
   ]
  },
  {
   "cell_type": "markdown",
   "metadata": {},
   "source": [
    "### fit dyestuff with GLMM:"
   ]
  },
  {
   "cell_type": "code",
   "execution_count": 6,
   "metadata": {},
   "outputs": [
    {
     "name": "stderr",
     "output_type": "stream",
     "text": [
      "┌ Warning: ProgressMeter by default refresh meters with additional information in IJulia via `IJulia.clear_output`, which clears all outputs in the cell. \n",
      "│  - To prevent this behaviour, do `ProgressMeter.ijulia_behavior(:append)`. \n",
      "│  - To disable this warning message, do `ProgressMeter.ijulia_behavior(:clear)`.\n",
      "└ @ ProgressMeter /Users/sarahji/.julia/packages/ProgressMeter/Vf8un/src/ProgressMeter.jl:620\n",
      "\r",
      "\u001b[32mMinimizing 19 \t Time: 0:00:00 (17.69 ms/it)\u001b[39m\n"
     ]
    },
    {
     "name": "stdout",
     "output_type": "stream",
     "text": [
      "dyestuff_LMM_β = [1527.4999999999989]\n",
      "dyestuff_LMM_θ = 1388.3331672465852\n",
      "dyestuff_LMM_τ = 0.00040795511647148805\n"
     ]
    }
   ],
   "source": [
    "# fit with lmm: MixedModels.jl\n",
    "dyestuff_formula = @formula(Yield ~ 1 + (1|Batch));\n",
    "mdl = LinearMixedModel(dyestuff_formula, df)\n",
    "MixedModels.fit!(mdl)\n",
    "\n",
    "dyestuff_LMM_β = mdl.beta\n",
    "dyestuff_LMM_θ = mdl.σs[1][1]^2\n",
    "dyestuff_LMM_τ = inv(mdl.σ^2)\n",
    "@show dyestuff_LMM_β\n",
    "@show dyestuff_LMM_θ\n",
    "@show dyestuff_LMM_τ;"
   ]
  },
  {
   "cell_type": "markdown",
   "metadata": {},
   "source": [
    "### dyestuff: compare loglikelihoods"
   ]
  },
  {
   "cell_type": "code",
   "execution_count": 7,
   "metadata": {},
   "outputs": [
    {
     "name": "stdout",
     "output_type": "stream",
     "text": [
      "logl_dyestuff_QC = -163.35547256352643\n",
      "logl_dyestuff_LM = -166.36494298739052\n",
      "logl_dyestuff_LMM = -163.6635299405715\n"
     ]
    }
   ],
   "source": [
    "# qc logl\n",
    "logl_dyestuff_QC = logl(Gaussian_VC_model)\n",
    "\n",
    "# fit with glm: GLM.jl\n",
    "logl_dyestuff_LM = loglikelihood(dyestuff_lm)\n",
    "\n",
    "# fit with lmm: MixedModels.jl\n",
    "logl_dyestuff_LMM = loglikelihood(mdl)\n",
    "\n",
    "@show logl_dyestuff_QC\n",
    "@show logl_dyestuff_LM\n",
    "@show logl_dyestuff_LMM;"
   ]
  },
  {
   "cell_type": "markdown",
   "metadata": {},
   "source": [
    "# Oxboys data: mlmRev (Gaussian)"
   ]
  },
  {
   "cell_type": "code",
   "execution_count": 8,
   "metadata": {},
   "outputs": [
    {
     "data": {
      "text/plain": [
       "Quasi-Copula Variance Component Model\n",
       "  * base distribution: Normal\n",
       "  * link function: IdentityLink\n",
       "  * number of clusters: 26\n",
       "  * cluster size min, max: 9, 9\n",
       "  * number of variance components: 1\n",
       "  * number of fixed effects: 1"
      ]
     },
     "execution_count": 8,
     "metadata": {},
     "output_type": "execute_result"
    }
   ],
   "source": [
    "df = dataset(\"mlmRev\", \"Oxboys\")\n",
    "y = :Height\n",
    "grouping = :Subject\n",
    "\n",
    "Gaussian_VC_model2 = VC_model(df, y, grouping, d, link)"
   ]
  },
  {
   "cell_type": "code",
   "execution_count": 9,
   "metadata": {},
   "outputs": [
    {
     "name": "stdout",
     "output_type": "stream",
     "text": [
      "gcm.β = [149.51940170940168]\n",
      "initializing dispersion using residual sum of squares\n",
      "gcm.τ = [0.012119112908652608]\n",
      "initializing variance components using MM-Algorithm\n",
      "gcm.θ = [0.8429685809722144]\n",
      "Total number of variables............................:        3\n",
      "                     variables with only lower bounds:        2\n",
      "                variables with lower and upper bounds:        0\n",
      "                     variables with only upper bounds:        0\n",
      "Total number of equality constraints.................:        0\n",
      "Total number of inequality constraints...............:        0\n",
      "        inequality constraints with only lower bounds:        0\n",
      "   inequality constraints with lower and upper bounds:        0\n",
      "        inequality constraints with only upper bounds:        0\n",
      "\n",
      "\n",
      "Number of Iterations....: 10\n",
      "\n",
      "                                   (scaled)                 (unscaled)\n",
      "Objective...............:   8.2657948607667993e+02    8.2657948607667993e+02\n",
      "Dual infeasibility......:   2.3491180187725940e-07    2.3491180187725940e-07\n",
      "Constraint violation....:   0.0000000000000000e+00    0.0000000000000000e+00\n",
      "Complementarity.........:   1.0000000000000001e-11    1.0000000000000001e-11\n",
      "Overall NLP error.......:   2.3491180187725940e-07    2.3491180187725940e-07\n",
      "\n",
      "\n",
      "Number of objective function evaluations             = 27\n",
      "Number of objective gradient evaluations             = 11\n",
      "Number of equality constraint evaluations            = 0\n",
      "Number of inequality constraint evaluations          = 0\n",
      "Number of equality constraint Jacobian evaluations   = 0\n",
      "Number of inequality constraint Jacobian evaluations = 0\n",
      "Number of Lagrangian Hessian evaluations             = 0\n",
      "Total CPU secs in IPOPT (w/o function evaluations)   =      0.022\n",
      "Total CPU secs in NLP function evaluations           =      0.001\n",
      "\n",
      "EXIT: Optimal Solution Found.\n"
     ]
    }
   ],
   "source": [
    "# fit using QuasiCopula\n",
    "QuasiCopula.fit!(Gaussian_VC_model2);"
   ]
  },
  {
   "cell_type": "markdown",
   "metadata": {},
   "source": [
    "### fit Oxboys with QC:"
   ]
  },
  {
   "cell_type": "code",
   "execution_count": 10,
   "metadata": {},
   "outputs": [
    {
     "name": "stdout",
     "output_type": "stream",
     "text": [
      "Gaussian_VC_model2.β = [149.16733835278978]\n",
      "Gaussian_VC_model2.θ = [0.910413443061632]\n",
      "Gaussian_VC_model2.τ = [0.014262433641989388]\n"
     ]
    }
   ],
   "source": [
    "# qc estimates\n",
    "@show Gaussian_VC_model2.β\n",
    "@show Gaussian_VC_model2.θ\n",
    "@show Gaussian_VC_model2.τ;"
   ]
  },
  {
   "cell_type": "markdown",
   "metadata": {},
   "source": [
    "### fit Oxboys with GLM:"
   ]
  },
  {
   "cell_type": "code",
   "execution_count": 11,
   "metadata": {},
   "outputs": [
    {
     "name": "stdout",
     "output_type": "stream",
     "text": [
      "Oxboys_lm_β = [149.51940170940168]\n",
      "Oxboys_lm_θ = 0.0\n",
      "Oxboys_lm_τ = 0.012067321827846403\n"
     ]
    }
   ],
   "source": [
    "# fit Oxboys with glm: GLM.jl\n",
    "Oxboys_lm = lm(@formula(Height ~ 1), df);\n",
    "Oxboys_lm_β = GLM.coef(Oxboys_lm)\n",
    "Oxboys_lm_θ = 0.0\n",
    "Oxboys_lm_τ = inv(deviance(Oxboys_lm)/dof_residual(Oxboys_lm))\n",
    "@show Oxboys_lm_β\n",
    "@show Oxboys_lm_θ\n",
    "@show Oxboys_lm_τ;"
   ]
  },
  {
   "cell_type": "markdown",
   "metadata": {},
   "source": [
    "### fit Oxboys with QC:"
   ]
  },
  {
   "cell_type": "code",
   "execution_count": 12,
   "metadata": {},
   "outputs": [
    {
     "name": "stdout",
     "output_type": "stream",
     "text": [
      "Oxboys_LMM_β = [149.51940170940276]\n",
      "Oxboys_LMM_θ = 60.78727660622461\n",
      "Oxboys_LMM_τ = 0.046025641233561725\n"
     ]
    }
   ],
   "source": [
    "# fit with lmm: MixedModels.jl\n",
    "Oxboys_formula = @formula(Height ~ 1 + (1|Subject));\n",
    "mdl = LinearMixedModel(Oxboys_formula, df)\n",
    "MixedModels.fit!(mdl);\n",
    "\n",
    "Oxboys_LMM_β = mdl.beta\n",
    "Oxboys_LMM_θ = mdl.σs[1][1]^2\n",
    "Oxboys_LMM_τ = inv(mdl.σ^2)\n",
    "@show Oxboys_LMM_β\n",
    "@show Oxboys_LMM_θ\n",
    "@show Oxboys_LMM_τ;"
   ]
  },
  {
   "cell_type": "markdown",
   "metadata": {},
   "source": [
    "### Oxboys: compare loglikelihoods"
   ]
  },
  {
   "cell_type": "code",
   "execution_count": 13,
   "metadata": {},
   "outputs": [],
   "source": [
    "# qc logl\n",
    "logl_Oxboys_QC = logl(Gaussian_VC_model2)\n",
    "\n",
    "# fit with glm: GLM.jl\n",
    "logl_Oxboys_LM = loglikelihood(Oxboys_lm)\n",
    "\n",
    "# fit with lmm: MixedModels.jl\n",
    "logl_Oxboys_LMM = loglikelihood(mdl);"
   ]
  },
  {
   "cell_type": "code",
   "execution_count": 14,
   "metadata": {},
   "outputs": [
    {
     "name": "stdout",
     "output_type": "stream",
     "text": [
      "logl_Oxboys_QC = -826.5794860766799\n",
      "logl_Oxboys_LM = -848.3492814947749\n",
      "logl_Oxboys_LMM = -734.6676665245718\n"
     ]
    }
   ],
   "source": [
    "@show logl_Oxboys_QC\n",
    "@show logl_Oxboys_LM\n",
    "@show logl_Oxboys_LMM;"
   ]
  },
  {
   "cell_type": "markdown",
   "metadata": {},
   "source": [
    "# Sleepstudy data: lme4 (Gaussian)"
   ]
  },
  {
   "cell_type": "code",
   "execution_count": 15,
   "metadata": {},
   "outputs": [
    {
     "data": {
      "text/plain": [
       "Quasi-Copula Variance Component Model\n",
       "  * base distribution: Normal\n",
       "  * link function: IdentityLink\n",
       "  * number of clusters: 18\n",
       "  * cluster size min, max: 10, 10\n",
       "  * number of variance components: 1\n",
       "  * number of fixed effects: 1"
      ]
     },
     "execution_count": 15,
     "metadata": {},
     "output_type": "execute_result"
    }
   ],
   "source": [
    "df = dataset(\"lme4\", \"sleepstudy\")\n",
    "y = :Reaction\n",
    "grouping = :Subject\n",
    "\n",
    "Gaussian_VC_model3 = VC_model(df, y, grouping, d, link)"
   ]
  },
  {
   "cell_type": "code",
   "execution_count": 16,
   "metadata": {},
   "outputs": [
    {
     "name": "stdout",
     "output_type": "stream",
     "text": [
      "gcm.β = [298.5078916666667]\n",
      "initializing dispersion using residual sum of squares\n",
      "gcm.τ = [0.00031692692475632976]\n",
      "initializing variance components using MM-Algorithm\n",
      "gcm.θ = [0.17963770582374433]\n",
      "Total number of variables............................:        3\n",
      "                     variables with only lower bounds:        2\n",
      "                variables with lower and upper bounds:        0\n",
      "                     variables with only upper bounds:        0\n",
      "Total number of equality constraints.................:        0\n",
      "Total number of inequality constraints...............:        0\n",
      "        inequality constraints with only lower bounds:        0\n",
      "   inequality constraints with lower and upper bounds:        0\n",
      "        inequality constraints with only upper bounds:        0\n",
      "\n",
      "\n",
      "Number of Iterations....: 35\n",
      "\n",
      "                                   (scaled)                 (unscaled)\n",
      "Objective...............:   9.7311733466615851e+02    9.7311733466615851e+02\n",
      "Dual infeasibility......:   1.4739948630225240e-07    1.4739948630225240e-07\n",
      "Constraint violation....:   0.0000000000000000e+00    0.0000000000000000e+00\n",
      "Complementarity.........:   9.9999999999999994e-12    9.9999999999999994e-12\n",
      "Overall NLP error.......:   1.4739948630225240e-07    1.4739948630225240e-07\n",
      "\n",
      "\n",
      "Number of objective function evaluations             = 55\n",
      "Number of objective gradient evaluations             = 36\n",
      "Number of equality constraint evaluations            = 0\n",
      "Number of inequality constraint evaluations          = 0\n",
      "Number of equality constraint Jacobian evaluations   = 0\n",
      "Number of inequality constraint Jacobian evaluations = 0\n",
      "Number of Lagrangian Hessian evaluations             = 0\n",
      "Total CPU secs in IPOPT (w/o function evaluations)   =      0.167\n",
      "Total CPU secs in NLP function evaluations           =      0.002\n",
      "\n",
      "EXIT: Optimal Solution Found.\n"
     ]
    }
   ],
   "source": [
    "# fit using QuasiCopula\n",
    "QuasiCopula.fit!(Gaussian_VC_model3);"
   ]
  },
  {
   "cell_type": "markdown",
   "metadata": {},
   "source": [
    "### fit sleepstudy with QC:"
   ]
  },
  {
   "cell_type": "code",
   "execution_count": 17,
   "metadata": {},
   "outputs": [
    {
     "name": "stdout",
     "output_type": "stream",
     "text": [
      "Gaussian_VC_model3.β = [290.5454941370383]\n",
      "Gaussian_VC_model3.θ = [0.32200488770275487]\n",
      "Gaussian_VC_model3.τ = [0.00034901417385826684]\n"
     ]
    }
   ],
   "source": [
    "# qc estimates\n",
    "@show Gaussian_VC_model3.β\n",
    "@show Gaussian_VC_model3.θ\n",
    "@show Gaussian_VC_model3.τ;"
   ]
  },
  {
   "cell_type": "markdown",
   "metadata": {},
   "source": [
    "### fit sleepstudy with GLM:"
   ]
  },
  {
   "cell_type": "code",
   "execution_count": 18,
   "metadata": {},
   "outputs": [
    {
     "name": "stdout",
     "output_type": "stream",
     "text": [
      "sleepstudy_lm_β = [298.5078916666667]\n",
      "sleepstudy_lm_θ = 0.0\n",
      "sleepstudy_lm_τ = 0.00031516621961879464\n"
     ]
    }
   ],
   "source": [
    "# fit with glm: GLM.jl\n",
    "sleepstudy_lm = lm(@formula(Reaction ~ 1), df)\n",
    "sleepstudy_lm_β = GLM.coef(sleepstudy_lm)\n",
    "sleepstudy_lm_θ = 0.0\n",
    "sleepstudy_lm_τ = inv(deviance(sleepstudy_lm)/dof_residual(sleepstudy_lm))\n",
    "@show sleepstudy_lm_β\n",
    "@show sleepstudy_lm_θ\n",
    "@show sleepstudy_lm_τ;"
   ]
  },
  {
   "cell_type": "markdown",
   "metadata": {},
   "source": [
    "### fit sleepstudy with GLMM:"
   ]
  },
  {
   "cell_type": "code",
   "execution_count": 19,
   "metadata": {},
   "outputs": [
    {
     "name": "stdout",
     "output_type": "stream",
     "text": [
      "sleepstudy_LMM_β = [298.5078916666664]\n",
      "sleepstudy_LMM_θ = 1196.4362986993276\n",
      "sleepstudy_LMM_τ = 0.0005104996523418869\n"
     ]
    }
   ],
   "source": [
    "# fit with lmm: MixedModels.jl\n",
    "sleepstudy_formula = @formula(Reaction ~ 1 + (1|Subject));\n",
    "mdl = LinearMixedModel(sleepstudy_formula, df)\n",
    "MixedModels.fit!(mdl)\n",
    "\n",
    "sleepstudy_LMM_β = mdl.beta\n",
    "sleepstudy_LMM_θ = mdl.σs[1][1]^2\n",
    "sleepstudy_LMM_τ = inv(mdl.σ^2)\n",
    "@show sleepstudy_LMM_β\n",
    "@show sleepstudy_LMM_θ\n",
    "@show sleepstudy_LMM_τ;"
   ]
  },
  {
   "cell_type": "markdown",
   "metadata": {},
   "source": [
    "### sleepstudy: compare loglikelihoods"
   ]
  },
  {
   "cell_type": "code",
   "execution_count": 20,
   "metadata": {},
   "outputs": [],
   "source": [
    "# qc logl\n",
    "logl_sleepstudy_QC = logl(Gaussian_VC_model3)\n",
    "\n",
    "# fit with glm: GLM.jl\n",
    "logl_sleepstudy_LM = loglikelihood(sleepstudy_lm)\n",
    "\n",
    "# fit with lmm: MixedModels.jl\n",
    "logl_sleepstudy_LMM = loglikelihood(mdl);"
   ]
  },
  {
   "cell_type": "code",
   "execution_count": 21,
   "metadata": {},
   "outputs": [
    {
     "name": "stdout",
     "output_type": "stream",
     "text": [
      "logl_sleepstudy_QC = -973.1173346661585\n",
      "logl_sleepstudy_LM = -980.5244758509474\n",
      "logl_sleepstudy_LMM = -955.270529036532\n"
     ]
    }
   ],
   "source": [
    "@show logl_sleepstudy_QC\n",
    "@show logl_sleepstudy_LM\n",
    "@show logl_sleepstudy_LMM;"
   ]
  },
  {
   "cell_type": "markdown",
   "metadata": {},
   "source": [
    "# Gcsemv data: mlmRev (Gaussian)"
   ]
  },
  {
   "cell_type": "code",
   "execution_count": 22,
   "metadata": {},
   "outputs": [
    {
     "data": {
      "text/plain": [
       "Quasi-Copula Variance Component Model\n",
       "  * base distribution: Normal\n",
       "  * link function: IdentityLink\n",
       "  * number of clusters: 73\n",
       "  * cluster size min, max: 1, 83\n",
       "  * number of variance components: 1\n",
       "  * number of fixed effects: 1"
      ]
     },
     "execution_count": 22,
     "metadata": {},
     "output_type": "execute_result"
    }
   ],
   "source": [
    "df = dataset(\"mlmRev\", \"Gcsemv\")\n",
    "df = df[completecases(df), :]\n",
    "y = :Course\n",
    "grouping = :School\n",
    "\n",
    "Gaussian_VC_model4 = VC_model(df, y, grouping, d, link)"
   ]
  },
  {
   "cell_type": "code",
   "execution_count": 23,
   "metadata": {},
   "outputs": [
    {
     "name": "stdout",
     "output_type": "stream",
     "text": [
      "gcm.β = [73.38138542350625]\n",
      "initializing dispersion using residual sum of squares\n",
      "gcm.τ = [0.003703899254589357]\n",
      "initializing variance components using MM-Algorithm\n",
      "gcm.θ = [0.5145178403876451]\n",
      "Total number of variables............................:        3\n",
      "                     variables with only lower bounds:        2\n",
      "                variables with lower and upper bounds:        0\n",
      "                     variables with only upper bounds:        0\n",
      "Total number of equality constraints.................:        0\n",
      "Total number of inequality constraints...............:        0\n",
      "        inequality constraints with only lower bounds:        0\n",
      "   inequality constraints with lower and upper bounds:        0\n",
      "        inequality constraints with only upper bounds:        0\n",
      "\n",
      "\n",
      "Number of Iterations....: 20\n",
      "\n",
      "                                   (scaled)                 (unscaled)\n",
      "Objective...............:   6.3611970355006670e+03    6.3611970355006670e+03\n",
      "Dual infeasibility......:   6.7714640667166823e-08    6.7714640667166823e-08\n",
      "Constraint violation....:   0.0000000000000000e+00    0.0000000000000000e+00\n",
      "Complementarity.........:   9.9999999999999978e-12    9.9999999999999978e-12\n",
      "Overall NLP error.......:   6.7714640667166823e-08    6.7714640667166823e-08\n",
      "\n",
      "\n",
      "Number of objective function evaluations             = 31\n",
      "Number of objective gradient evaluations             = 21\n",
      "Number of equality constraint evaluations            = 0\n",
      "Number of inequality constraint evaluations          = 0\n",
      "Number of equality constraint Jacobian evaluations   = 0\n",
      "Number of inequality constraint Jacobian evaluations = 0\n",
      "Number of Lagrangian Hessian evaluations             = 0\n",
      "Total CPU secs in IPOPT (w/o function evaluations)   =      0.071\n",
      "Total CPU secs in NLP function evaluations           =      0.004\n",
      "\n",
      "EXIT: Optimal Solution Found.\n"
     ]
    }
   ],
   "source": [
    "# fit using QuasiCopula\n",
    "QuasiCopula.fit!(Gaussian_VC_model4);"
   ]
  },
  {
   "cell_type": "markdown",
   "metadata": {},
   "source": [
    "### fit Gcsemv with QC:"
   ]
  },
  {
   "cell_type": "code",
   "execution_count": 24,
   "metadata": {},
   "outputs": [
    {
     "name": "stdout",
     "output_type": "stream",
     "text": [
      "Gaussian_VC_model4.β = [72.56416347963582]\n",
      "Gaussian_VC_model4.θ = [0.5484470406404645]\n",
      "Gaussian_VC_model4.τ = [0.003967426482597063]\n"
     ]
    }
   ],
   "source": [
    "# qc estimates\n",
    "@show Gaussian_VC_model4.β\n",
    "@show Gaussian_VC_model4.θ\n",
    "@show Gaussian_VC_model4.τ;"
   ]
  },
  {
   "cell_type": "markdown",
   "metadata": {},
   "source": [
    "### fit Gcsemv with GLM:"
   ]
  },
  {
   "cell_type": "code",
   "execution_count": 25,
   "metadata": {},
   "outputs": [
    {
     "name": "stdout",
     "output_type": "stream",
     "text": [
      "Gcsemv_lm_β = [73.38138542350625]\n",
      "Gcsemv_lm_θ = 0.0\n",
      "Gcsemv_lm_τ = 0.0037014672787163494\n"
     ]
    }
   ],
   "source": [
    "# fit with glm: GLM.jl\n",
    "Gcsemv_lm = lm(@formula(Course ~ 1), df);\n",
    "Gcsemv_lm_β = GLM.coef(Gcsemv_lm)\n",
    "Gcsemv_lm_θ = 0.0\n",
    "Gcsemv_lm_τ = inv(deviance(Gcsemv_lm)/dof_residual(Gcsemv_lm))\n",
    "@show Gcsemv_lm_β\n",
    "@show Gcsemv_lm_θ\n",
    "@show Gcsemv_lm_τ;"
   ]
  },
  {
   "cell_type": "markdown",
   "metadata": {},
   "source": [
    "### fit Gcsemv with GLMM:"
   ]
  },
  {
   "cell_type": "code",
   "execution_count": 26,
   "metadata": {},
   "outputs": [
    {
     "name": "stdout",
     "output_type": "stream",
     "text": [
      "Gcsemv_LMM_β = [73.81102130954413]\n",
      "Gcsemv_LMM_θ = 73.28906077041454\n",
      "Gcsemv_LMM_τ = 0.005123038781782747\n"
     ]
    }
   ],
   "source": [
    "# fit with lmm: MixedModels.jl\n",
    "Gcsemv_formula = @formula(Course ~ 1 + (1|School));\n",
    "mdl = LinearMixedModel(Gcsemv_formula, df)\n",
    "MixedModels.fit!(mdl);\n",
    "\n",
    "Gcsemv_LMM_β = mdl.beta\n",
    "Gcsemv_LMM_θ = mdl.σs[1][1]^2\n",
    "Gcsemv_LMM_τ = inv(mdl.σ^2)\n",
    "@show Gcsemv_LMM_β\n",
    "@show Gcsemv_LMM_θ\n",
    "@show Gcsemv_LMM_τ;"
   ]
  },
  {
   "cell_type": "markdown",
   "metadata": {},
   "source": [
    "### Gcsemv: compare loglikelihoods"
   ]
  },
  {
   "cell_type": "code",
   "execution_count": 27,
   "metadata": {},
   "outputs": [],
   "source": [
    "# qc logl\n",
    "logl_Gcsemv_QC = logl(Gaussian_VC_model4)\n",
    "\n",
    "# fit with glm: GLM.jl\n",
    "logl_Gcsemv_LM = loglikelihood(Gcsemv_lm)\n",
    "\n",
    "# fit with lmm: MixedModels.jl\n",
    "logl_Gcsemv_LMM = loglikelihood(mdl);"
   ]
  },
  {
   "cell_type": "code",
   "execution_count": 28,
   "metadata": {},
   "outputs": [
    {
     "name": "stdout",
     "output_type": "stream",
     "text": [
      "logl_Gcsemv_QC = -6361.197035500667\n",
      "logl_Gcsemv_LM = -6424.201502669516\n",
      "logl_Gcsemv_LMM = -6247.905067227811\n"
     ]
    }
   ],
   "source": [
    "@show logl_Gcsemv_QC\n",
    "@show logl_Gcsemv_LM\n",
    "@show logl_Gcsemv_LMM;"
   ]
  },
  {
   "cell_type": "markdown",
   "metadata": {},
   "source": [
    "# respiratory data: geepack (Bernoulli)"
   ]
  },
  {
   "cell_type": "code",
   "execution_count": 29,
   "metadata": {},
   "outputs": [
    {
     "data": {
      "text/plain": [
       "Quasi-Copula Variance Component Model\n",
       "  * base distribution: Bernoulli\n",
       "  * link function: LogitLink\n",
       "  * number of clusters: 56\n",
       "  * cluster size min, max: 4, 8\n",
       "  * number of variance components: 1\n",
       "  * number of fixed effects: 1"
      ]
     },
     "execution_count": 29,
     "metadata": {},
     "output_type": "execute_result"
    }
   ],
   "source": [
    "R\"\"\"\n",
    "    data(respiratory, package=\"geepack\")\n",
    "    respiratory_df <- respiratory[order(respiratory$id),]\n",
    "\"\"\"\n",
    "@rget respiratory_df;\n",
    "\n",
    "df = respiratory_df\n",
    "df[!, :id] = string.(df[!, :id])\n",
    "y = :outcome\n",
    "grouping = :id\n",
    "\n",
    "# Bernoulli\n",
    "d = Bernoulli()\n",
    "link = LogitLink()\n",
    "\n",
    "Bernoulli_VC_model = VC_model(df, y, grouping, d, link)"
   ]
  },
  {
   "cell_type": "code",
   "execution_count": 30,
   "metadata": {},
   "outputs": [
    {
     "name": "stdout",
     "output_type": "stream",
     "text": [
      "initializing β using Newton's Algorithm under Independence Assumption\n",
      "gcm.β = [0.23531408536427043]\n",
      "initializing variance components using MM-Algorithm\n",
      "gcm.θ = [0.2643698235606835]\n",
      "Total number of variables............................:        2\n",
      "                     variables with only lower bounds:        1\n",
      "                variables with lower and upper bounds:        0\n",
      "                     variables with only upper bounds:        0\n",
      "Total number of equality constraints.................:        0\n",
      "Total number of inequality constraints...............:        0\n",
      "        inequality constraints with only lower bounds:        0\n",
      "   inequality constraints with lower and upper bounds:        0\n",
      "        inequality constraints with only upper bounds:        0\n",
      "\n",
      "\n",
      "Number of Iterations....: 6\n",
      "\n",
      "                                   (scaled)                 (unscaled)\n",
      "Objective...............:   2.8889498858347241e+02    2.8889498858347241e+02\n",
      "Dual infeasibility......:   6.4801335408759542e-09    6.4801335408759542e-09\n",
      "Constraint violation....:   0.0000000000000000e+00    0.0000000000000000e+00\n",
      "Complementarity.........:   1.0000090958548109e-11    1.0000090958548109e-11\n",
      "Overall NLP error.......:   6.4801335408759542e-09    6.4801335408759542e-09\n",
      "\n",
      "\n",
      "Number of objective function evaluations             = 16\n",
      "Number of objective gradient evaluations             = 7\n",
      "Number of equality constraint evaluations            = 0\n",
      "Number of inequality constraint evaluations          = 0\n",
      "Number of equality constraint Jacobian evaluations   = 0\n",
      "Number of inequality constraint Jacobian evaluations = 0\n",
      "Number of Lagrangian Hessian evaluations             = 0\n",
      "Total CPU secs in IPOPT (w/o function evaluations)   =      2.170\n",
      "Total CPU secs in NLP function evaluations           =      0.013\n",
      "\n",
      "EXIT: Optimal Solution Found.\n"
     ]
    }
   ],
   "source": [
    "# fit using QuasiCopula\n",
    "QuasiCopula.fit!(Bernoulli_VC_model);"
   ]
  },
  {
   "cell_type": "markdown",
   "metadata": {},
   "source": [
    "### fit respiratory with QC:"
   ]
  },
  {
   "cell_type": "code",
   "execution_count": 31,
   "metadata": {},
   "outputs": [
    {
     "name": "stdout",
     "output_type": "stream",
     "text": [
      "Bernoulli_VC_model.β = [0.1469681313371347]\n",
      "Bernoulli_VC_model.θ = [0.2790494318995162]\n"
     ]
    }
   ],
   "source": [
    "# qc estimates\n",
    "@show Bernoulli_VC_model.β\n",
    "@show Bernoulli_VC_model.θ;"
   ]
  },
  {
   "cell_type": "markdown",
   "metadata": {},
   "source": [
    "### fit respiratory with GLM:"
   ]
  },
  {
   "cell_type": "code",
   "execution_count": 32,
   "metadata": {},
   "outputs": [
    {
     "name": "stdout",
     "output_type": "stream",
     "text": [
      "respiratory_glm_β = [0.23531408536427043]\n",
      "respiratory_glm_θ = 0.0\n"
     ]
    }
   ],
   "source": [
    "# fit with glm: GLM.jl\n",
    "respiratory_glm = glm(@formula(outcome ~ 1), df, d, link)\n",
    "\n",
    "respiratory_glm_β = GLM.coef(respiratory_glm)\n",
    "respiratory_glm_θ = 0.0\n",
    "@show respiratory_glm_β\n",
    "@show respiratory_glm_θ;"
   ]
  },
  {
   "cell_type": "markdown",
   "metadata": {},
   "source": [
    "### fit respiratory with GLMM:"
   ]
  },
  {
   "cell_type": "code",
   "execution_count": 33,
   "metadata": {},
   "outputs": [
    {
     "name": "stderr",
     "output_type": "stream",
     "text": [
      "┌ Warning: ProgressMeter by default refresh meters with additional information in IJulia via `IJulia.clear_output`, which clears all outputs in the cell. \n",
      "│  - To prevent this behaviour, do `ProgressMeter.ijulia_behavior(:append)`. \n",
      "│  - To disable this warning message, do `ProgressMeter.ijulia_behavior(:clear)`.\n",
      "└ @ ProgressMeter /Users/sarahji/.julia/packages/ProgressMeter/Vf8un/src/ProgressMeter.jl:620\n",
      "\r",
      "\u001b[32mMinimizing 15 \t Time: 0:00:00 (16.30 ms/it)\u001b[39m\n"
     ]
    },
    {
     "name": "stdout",
     "output_type": "stream",
     "text": [
      "respiratory_GLMM_β = [0.2739692386302114]\n",
      "respiratory_GLMM_θ = 1.5273309064378675\n"
     ]
    }
   ],
   "source": [
    "# fit with glmm: MixedModels.jl\n",
    "respiratory_formula = @formula(outcome ~ 1 + (1|id));\n",
    "mdl = GeneralizedLinearMixedModel(respiratory_formula, df, d, link)\n",
    "MixedModels.fit!(mdl, fast=true)\n",
    "\n",
    "respiratory_GLMM_β = mdl.beta\n",
    "respiratory_GLMM_θ = mdl.σs[1][1]^2\n",
    "@show respiratory_GLMM_β\n",
    "@show respiratory_GLMM_θ;"
   ]
  },
  {
   "cell_type": "markdown",
   "metadata": {},
   "source": [
    "### respiratory: compare loglikelihoods"
   ]
  },
  {
   "cell_type": "code",
   "execution_count": 34,
   "metadata": {},
   "outputs": [],
   "source": [
    "# qc logl\n",
    "logl_respiratory_QC = logl(Bernoulli_VC_model)\n",
    "\n",
    "# fit with glm: GLM.jl\n",
    "logl_respiratory_GLM = loglikelihood(respiratory_glm)\n",
    "\n",
    "# fit with glmm: MixedModels.jl\n",
    "logl_respiratory_GLMM = loglikelihood(mdl);"
   ]
  },
  {
   "cell_type": "code",
   "execution_count": 35,
   "metadata": {},
   "outputs": [
    {
     "name": "stdout",
     "output_type": "stream",
     "text": [
      "logl_respiratory_QC = -288.8949885834724\n",
      "logl_respiratory_GLM = -304.70530346181135\n",
      "logl_respiratory_GLMM = -280.997334355401\n"
     ]
    }
   ],
   "source": [
    "@show logl_respiratory_QC\n",
    "@show logl_respiratory_GLM\n",
    "@show logl_respiratory_GLMM;"
   ]
  },
  {
   "cell_type": "markdown",
   "metadata": {},
   "source": [
    "# Contraception data: mlmRev  (Bernoulli)"
   ]
  },
  {
   "cell_type": "code",
   "execution_count": 36,
   "metadata": {},
   "outputs": [
    {
     "data": {
      "text/plain": [
       "Quasi-Copula Variance Component Model\n",
       "  * base distribution: Bernoulli\n",
       "  * link function: LogitLink\n",
       "  * number of clusters: 60\n",
       "  * cluster size min, max: 2, 118\n",
       "  * number of variance components: 1\n",
       "  * number of fixed effects: 1"
      ]
     },
     "execution_count": 36,
     "metadata": {},
     "output_type": "execute_result"
    }
   ],
   "source": [
    "df = dataset(\"mlmRev\", \"Contraception\")\n",
    "binary_use = map(x -> string.(x) == \"N\" ? 0.0 : 1.0, df[!, :Use])\n",
    "df[!, :outcome] = binary_use\n",
    "y = :outcome\n",
    "grouping = :District\n",
    "\n",
    "Bernoulli_VC_model = VC_model(df, y, grouping, d, link)"
   ]
  },
  {
   "cell_type": "code",
   "execution_count": 37,
   "metadata": {},
   "outputs": [
    {
     "name": "stdout",
     "output_type": "stream",
     "text": [
      "initializing β using Newton's Algorithm under Independence Assumption\n",
      "gcm.β = [-0.43702156143913895]\n",
      "initializing variance components using MM-Algorithm\n",
      "gcm.θ = [0.08460354610678963]\n",
      "Total number of variables............................:        2\n",
      "                     variables with only lower bounds:        1\n",
      "                variables with lower and upper bounds:        0\n",
      "                     variables with only upper bounds:        0\n",
      "Total number of equality constraints.................:        0\n",
      "Total number of inequality constraints...............:        0\n",
      "        inequality constraints with only lower bounds:        0\n",
      "   inequality constraints with lower and upper bounds:        0\n",
      "        inequality constraints with only upper bounds:        0\n",
      "\n",
      "\n",
      "Number of Iterations....: 6\n",
      "\n",
      "                                   (scaled)                 (unscaled)\n",
      "Objective...............:   1.2764000166885739e+03    1.2764000166885739e+03\n",
      "Dual infeasibility......:   3.4385887690431207e-09    3.4385887690431207e-09\n",
      "Constraint violation....:   0.0000000000000000e+00    0.0000000000000000e+00\n",
      "Complementarity.........:   9.9999999854552206e-12    9.9999999854552206e-12\n",
      "Overall NLP error.......:   3.4385887690431207e-09    3.4385887690431207e-09\n",
      "\n",
      "\n",
      "Number of objective function evaluations             = 19\n",
      "Number of objective gradient evaluations             = 7\n",
      "Number of equality constraint evaluations            = 0\n",
      "Number of inequality constraint evaluations          = 0\n",
      "Number of equality constraint Jacobian evaluations   = 0\n",
      "Number of inequality constraint Jacobian evaluations = 0\n",
      "Number of Lagrangian Hessian evaluations             = 0\n",
      "Total CPU secs in IPOPT (w/o function evaluations)   =      0.080\n",
      "Total CPU secs in NLP function evaluations           =      0.019\n",
      "\n",
      "EXIT: Optimal Solution Found.\n"
     ]
    }
   ],
   "source": [
    "# fit using QuasiCopula\n",
    "QuasiCopula.fit!(Bernoulli_VC_model);"
   ]
  },
  {
   "cell_type": "markdown",
   "metadata": {},
   "source": [
    "### fit Contraception with QC:"
   ]
  },
  {
   "cell_type": "code",
   "execution_count": 38,
   "metadata": {},
   "outputs": [
    {
     "name": "stdout",
     "output_type": "stream",
     "text": [
      "Bernoulli_VC_model.β = [-0.4652690484907957]\n",
      "Bernoulli_VC_model.θ = [0.08470619962374443]\n"
     ]
    }
   ],
   "source": [
    "# qc estimates\n",
    "@show Bernoulli_VC_model.β\n",
    "@show Bernoulli_VC_model.θ;"
   ]
  },
  {
   "cell_type": "markdown",
   "metadata": {},
   "source": [
    "### fit Contraception with GLM:"
   ]
  },
  {
   "cell_type": "code",
   "execution_count": 39,
   "metadata": {},
   "outputs": [
    {
     "name": "stdout",
     "output_type": "stream",
     "text": [
      "Contraception_glm_β = [-0.43702156143913895]\n",
      "Contraception_glm_θ = 0.0\n"
     ]
    }
   ],
   "source": [
    "# fit with glm: GLM.jl\n",
    "Contraception_glm = glm(@formula(outcome ~ 1), df, d, link);\n",
    "Contraception_glm_β = GLM.coef(Contraception_glm)\n",
    "Contraception_glm_θ = 0.0\n",
    "@show Contraception_glm_β\n",
    "@show Contraception_glm_θ;"
   ]
  },
  {
   "cell_type": "markdown",
   "metadata": {},
   "source": [
    "### fit Contraception with GLMM:"
   ]
  },
  {
   "cell_type": "code",
   "execution_count": 40,
   "metadata": {},
   "outputs": [
    {
     "name": "stdout",
     "output_type": "stream",
     "text": [
      "Contraception_GLMM_β = [-0.5257726102897046]\n",
      "Contraception_GLMM_θ = 0.24556070264990815\n"
     ]
    }
   ],
   "source": [
    "# fit with glmm: MixedModels.jl\n",
    "Contraception_formula = @formula(outcome ~ 1 + (1|District));\n",
    "mdl = GeneralizedLinearMixedModel(Contraception_formula, df, d, link)\n",
    "MixedModels.fit!(mdl, fast=true);\n",
    "\n",
    "Contraception_GLMM_β = mdl.beta\n",
    "Contraception_GLMM_θ = mdl.σs[1][1]^2\n",
    "@show Contraception_GLMM_β\n",
    "@show Contraception_GLMM_θ;"
   ]
  },
  {
   "cell_type": "markdown",
   "metadata": {},
   "source": [
    "### Contraception: compare loglikelihoods"
   ]
  },
  {
   "cell_type": "code",
   "execution_count": 41,
   "metadata": {},
   "outputs": [],
   "source": [
    "# qc logl\n",
    "logl_Contraception_QC = logl(Bernoulli_VC_model)\n",
    "\n",
    "# fit with glm: GLM.jl\n",
    "logl_Contraception_GLM = loglikelihood(Contraception_glm)\n",
    "\n",
    "# fit with glmm: MixedModels.jl\n",
    "logl_Contraception_GLMM = loglikelihood(mdl);"
   ]
  },
  {
   "cell_type": "code",
   "execution_count": 42,
   "metadata": {},
   "outputs": [
    {
     "name": "stdout",
     "output_type": "stream",
     "text": [
      "logl_Contraception_QC = -1276.400016688574\n",
      "logl_Contraception_GLM = -1295.4546621368916\n",
      "logl_Contraception_GLMM = -1267.2367038450316\n"
     ]
    }
   ],
   "source": [
    "@show logl_Contraception_QC\n",
    "@show logl_Contraception_GLM\n",
    "@show logl_Contraception_GLMM;"
   ]
  },
  {
   "cell_type": "markdown",
   "metadata": {},
   "source": [
    "# epilepsy data: gcmr (Poisson)"
   ]
  },
  {
   "cell_type": "code",
   "execution_count": 43,
   "metadata": {},
   "outputs": [
    {
     "name": "stderr",
     "output_type": "stream",
     "text": [
      "┌ Warning: RCall.jl: Warning: package ‘gcmr’ was built under R version 4.0.2\n",
      "└ @ RCall /Users/sarahji/.julia/packages/RCall/6kphM/src/io.jl:172\n"
     ]
    },
    {
     "data": {
      "text/plain": [
       "Quasi-Copula Variance Component Model\n",
       "  * base distribution: Poisson\n",
       "  * link function: LogLink\n",
       "  * number of clusters: 59\n",
       "  * cluster size min, max: 5, 5\n",
       "  * number of variance components: 1\n",
       "  * number of fixed effects: 1"
      ]
     },
     "execution_count": 43,
     "metadata": {},
     "output_type": "execute_result"
    }
   ],
   "source": [
    "R\"\"\"\n",
    "    library(\"gcmr\")\n",
    "    data(\"epilepsy\", package = \"gcmr\")\n",
    "\"\"\"\n",
    "@rget epilepsy;\n",
    "\n",
    "df = epilepsy\n",
    "y = :counts\n",
    "grouping = :id\n",
    "\n",
    "# Poisson\n",
    "d = Poisson()\n",
    "link = LogLink()\n",
    "Poisson_VC_model = VC_model(df, y, grouping, d, link)"
   ]
  },
  {
   "cell_type": "code",
   "execution_count": 44,
   "metadata": {
    "scrolled": true
   },
   "outputs": [
    {
     "name": "stdout",
     "output_type": "stream",
     "text": [
      "initializing β using Newton's Algorithm under Independence Assumption\n",
      "gcm.β = [2.5544643397090105]\n",
      "initializing variance components using MM-Algorithm\n",
      "gcm.θ = [6.362206769115058]\n",
      "Total number of variables............................:        2\n",
      "                     variables with only lower bounds:        1\n",
      "                variables with lower and upper bounds:        0\n",
      "                     variables with only upper bounds:        0\n",
      "Total number of equality constraints.................:        0\n",
      "Total number of inequality constraints...............:        0\n",
      "        inequality constraints with only lower bounds:        0\n",
      "   inequality constraints with lower and upper bounds:        0\n",
      "        inequality constraints with only upper bounds:        0\n",
      "\n",
      "\n",
      "Number of Iterations....: 14\n",
      "\n",
      "                                   (scaled)                 (unscaled)\n",
      "Objective...............:   2.9453773284413332e+03    2.9453773284413332e+03\n",
      "Dual infeasibility......:   4.3645371761158458e-09    4.3645371761158458e-09\n",
      "Constraint violation....:   0.0000000000000000e+00    0.0000000000000000e+00\n",
      "Complementarity.........:   9.9999999999997797e-12    9.9999999999997797e-12\n",
      "Overall NLP error.......:   4.3645371761158458e-09    4.3645371761158458e-09\n",
      "\n",
      "\n",
      "Number of objective function evaluations             = 30\n",
      "Number of objective gradient evaluations             = 15\n",
      "Number of equality constraint evaluations            = 0\n",
      "Number of inequality constraint evaluations          = 0\n",
      "Number of equality constraint Jacobian evaluations   = 0\n",
      "Number of inequality constraint Jacobian evaluations = 0\n",
      "Number of Lagrangian Hessian evaluations             = 0\n",
      "Total CPU secs in IPOPT (w/o function evaluations)   =      0.894\n",
      "Total CPU secs in NLP function evaluations           =      0.014\n",
      "\n",
      "EXIT: Optimal Solution Found.\n"
     ]
    }
   ],
   "source": [
    "# fit using QuasiCopula\n",
    "QuasiCopula.fit!(Poisson_VC_model);"
   ]
  },
  {
   "cell_type": "markdown",
   "metadata": {},
   "source": [
    "### fit epilepsy (Poisson)  with QC:"
   ]
  },
  {
   "cell_type": "code",
   "execution_count": 45,
   "metadata": {},
   "outputs": [
    {
     "name": "stdout",
     "output_type": "stream",
     "text": [
      "Poisson_VC_model.β = [2.5334666652093887]\n",
      "Poisson_VC_model.θ = [9.357653001537265]\n"
     ]
    }
   ],
   "source": [
    "# qc estimates\n",
    "@show Poisson_VC_model.β\n",
    "@show Poisson_VC_model.θ;"
   ]
  },
  {
   "cell_type": "markdown",
   "metadata": {},
   "source": [
    "### fit epilepsy (Poisson) with GLM:"
   ]
  },
  {
   "cell_type": "code",
   "execution_count": 46,
   "metadata": {},
   "outputs": [
    {
     "name": "stdout",
     "output_type": "stream",
     "text": [
      "epilepsy_glm_β = [2.5544643397090105]\n",
      "epilepsy_glm_θ = 0.0\n"
     ]
    }
   ],
   "source": [
    "# fit with glm: GLM.jl\n",
    "epilepsy_glm = glm(@formula(counts ~ 1), df, Poisson(), LogLink());\n",
    "epilepsy_glm_β = GLM.coef(epilepsy_glm)\n",
    "epilepsy_glm_θ = 0.0\n",
    "@show epilepsy_glm_β\n",
    "@show epilepsy_glm_θ;"
   ]
  },
  {
   "cell_type": "markdown",
   "metadata": {},
   "source": [
    "### fit epilepsy (Poisson) with GLMM:"
   ]
  },
  {
   "cell_type": "code",
   "execution_count": 47,
   "metadata": {},
   "outputs": [
    {
     "name": "stdout",
     "output_type": "stream",
     "text": [
      "epilepsy_GLMM_β = [2.226516544978358]\n",
      "epilepsy_GLMM_θ = 0.6078216515856457\n"
     ]
    }
   ],
   "source": [
    "# fit with glmm: MixedModels.jl\n",
    "df[!, :id] = string.(df[!, :id])\n",
    "epilepsy_formula = @formula(counts ~ 1 + (1|id));\n",
    "mdl = GeneralizedLinearMixedModel(epilepsy_formula, df, Poisson(), LogLink())\n",
    "MixedModels.fit!(mdl, fast=true);\n",
    "\n",
    "epilepsy_GLMM_β = mdl.beta\n",
    "epilepsy_GLMM_θ = mdl.σs[1][1]^2\n",
    "@show epilepsy_GLMM_β\n",
    "@show epilepsy_GLMM_θ;"
   ]
  },
  {
   "cell_type": "markdown",
   "metadata": {},
   "source": [
    "### epilepsy (Poisson) : compare loglikelihoods"
   ]
  },
  {
   "cell_type": "code",
   "execution_count": 48,
   "metadata": {},
   "outputs": [],
   "source": [
    "# qc logl\n",
    "logl_epilepsy_QC = logl(Poisson_VC_model)\n",
    "\n",
    "# fit with glm: GLM.jl\n",
    "logl_epilepsy_GLM = loglikelihood(epilepsy_glm)\n",
    "\n",
    "# fit with glmm: MixedModels.jl\n",
    "logl_epilepsy_GLMM = loglikelihood(mdl);"
   ]
  },
  {
   "cell_type": "code",
   "execution_count": 49,
   "metadata": {},
   "outputs": [
    {
     "name": "stdout",
     "output_type": "stream",
     "text": [
      "logl_epilepsy_QC = -2945.3773284413332\n",
      "logl_epilepsy_GLM = -3092.972481024413\n",
      "logl_epilepsy_GLMM = -1785.335988439955\n"
     ]
    }
   ],
   "source": [
    "@show logl_epilepsy_QC\n",
    "@show logl_epilepsy_GLM\n",
    "@show logl_epilepsy_GLMM;"
   ]
  },
  {
   "cell_type": "markdown",
   "metadata": {},
   "source": [
    "# Mmmec data: mlmRev (Poisson)"
   ]
  },
  {
   "cell_type": "code",
   "execution_count": 50,
   "metadata": {},
   "outputs": [
    {
     "data": {
      "text/plain": [
       "Quasi-Copula Variance Component Model\n",
       "  * base distribution: Poisson\n",
       "  * link function: LogLink\n",
       "  * number of clusters: 9\n",
       "  * cluster size min, max: 3, 95\n",
       "  * number of variance components: 1\n",
       "  * number of fixed effects: 1"
      ]
     },
     "execution_count": 50,
     "metadata": {},
     "output_type": "execute_result"
    }
   ],
   "source": [
    "Mmmec = dataset(\"mlmRev\", \"Mmmec\");\n",
    "\n",
    "df = Mmmec\n",
    "y = :Deaths\n",
    "grouping = :Nation\n",
    "\n",
    "Poisson_VC_model = VC_model(df, y, grouping, d, link)"
   ]
  },
  {
   "cell_type": "code",
   "execution_count": 51,
   "metadata": {},
   "outputs": [
    {
     "name": "stdout",
     "output_type": "stream",
     "text": [
      "initializing β using Newton's Algorithm under Independence Assumption\n",
      "gcm.β = [3.326031339981156]\n",
      "initializing variance components using MM-Algorithm\n",
      "gcm.θ = [1.0]\n",
      "Total number of variables............................:        2\n",
      "                     variables with only lower bounds:        1\n",
      "                variables with lower and upper bounds:        0\n",
      "                     variables with only upper bounds:        0\n",
      "Total number of equality constraints.................:        0\n",
      "Total number of inequality constraints...............:        0\n",
      "        inequality constraints with only lower bounds:        0\n",
      "   inequality constraints with lower and upper bounds:        0\n",
      "        inequality constraints with only upper bounds:        0\n",
      "\n",
      "\n",
      "Number of Iterations....: 57\n",
      "\n",
      "                                   (scaled)                 (unscaled)\n",
      "Objective...............:   6.6230027620134115e+03    6.6230027620134115e+03\n",
      "Dual infeasibility......:   1.1068841262247114e-11    1.1068841262247114e-11\n",
      "Constraint violation....:   0.0000000000000000e+00    0.0000000000000000e+00\n",
      "Complementarity.........:   9.9999999999999994e-12    9.9999999999999994e-12\n",
      "Overall NLP error.......:   1.1068841262247114e-11    1.1068841262247114e-11\n",
      "\n",
      "\n",
      "Number of objective function evaluations             = 92\n",
      "Number of objective gradient evaluations             = 58\n",
      "Number of equality constraint evaluations            = 0\n",
      "Number of inequality constraint evaluations          = 0\n",
      "Number of equality constraint Jacobian evaluations   = 0\n",
      "Number of inequality constraint Jacobian evaluations = 0\n",
      "Number of Lagrangian Hessian evaluations             = 0\n",
      "Total CPU secs in IPOPT (w/o function evaluations)   =      0.450\n",
      "Total CPU secs in NLP function evaluations           =      0.007\n",
      "\n",
      "EXIT: Optimal Solution Found.\n"
     ]
    }
   ],
   "source": [
    "# fit using QuasiCopula\n",
    "QuasiCopula.fit!(Poisson_VC_model);"
   ]
  },
  {
   "cell_type": "markdown",
   "metadata": {},
   "source": [
    "### fit Mmmec (Poisson) with QC:"
   ]
  },
  {
   "cell_type": "code",
   "execution_count": 52,
   "metadata": {},
   "outputs": [
    {
     "name": "stdout",
     "output_type": "stream",
     "text": [
      "Poisson_VC_model.β = [3.323833822069927]\n",
      "Poisson_VC_model.θ = [351405.66779142304]\n"
     ]
    }
   ],
   "source": [
    "# qc estimates\n",
    "@show Poisson_VC_model.β\n",
    "@show Poisson_VC_model.θ;"
   ]
  },
  {
   "cell_type": "markdown",
   "metadata": {},
   "source": [
    "### fit Mmmec (Poisson)  with GLM:"
   ]
  },
  {
   "cell_type": "code",
   "execution_count": 53,
   "metadata": {},
   "outputs": [
    {
     "name": "stdout",
     "output_type": "stream",
     "text": [
      "Mmmec_glm_β = [3.326031339981156]\n",
      "Mmmec_glm_θ = 0.0\n"
     ]
    }
   ],
   "source": [
    "# fit with glm: GLM.jl\n",
    "Mmmec_glm = glm(@formula(Deaths ~ 1), df, Poisson(), LogLink());\n",
    "Mmmec_glm_β = GLM.coef(Mmmec_glm)\n",
    "Mmmec_glm_θ = 0.0\n",
    "@show Mmmec_glm_β\n",
    "@show Mmmec_glm_θ;"
   ]
  },
  {
   "cell_type": "markdown",
   "metadata": {},
   "source": [
    "### fit Mmmec (Poisson) with GLMM:"
   ]
  },
  {
   "cell_type": "code",
   "execution_count": 54,
   "metadata": {},
   "outputs": [
    {
     "name": "stdout",
     "output_type": "stream",
     "text": [
      "Mmmec_GLMM_β = [3.1193025178733476]\n",
      "Mmmec_GLMM_θ = 1.0985820979715717\n"
     ]
    }
   ],
   "source": [
    "# fit with glmm: MixedModels.jl\n",
    "Mmmec_formula = @formula(Deaths ~ 1 + (1|Nation));\n",
    "mdl = GeneralizedLinearMixedModel(Mmmec_formula, df, Poisson(), LogLink())\n",
    "MixedModels.fit!(mdl, fast=true);\n",
    "\n",
    "Mmmec_GLMM_β = mdl.beta\n",
    "Mmmec_GLMM_θ = mdl.σs[1][1]^2\n",
    "@show Mmmec_GLMM_β\n",
    "@show Mmmec_GLMM_θ;"
   ]
  },
  {
   "cell_type": "markdown",
   "metadata": {},
   "source": [
    "### Mmmec (Poisson): compare loglikelihoods"
   ]
  },
  {
   "cell_type": "code",
   "execution_count": 55,
   "metadata": {},
   "outputs": [],
   "source": [
    "# qc logl\n",
    "logl_Mmmec_QC = logl(Poisson_VC_model)\n",
    "\n",
    "# fit with glm: GLM.jl\n",
    "logl_Mmmec_GLM = loglikelihood(Mmmec_glm)\n",
    "\n",
    "# fit with glmm: MixedModels.jl\n",
    "logl_Mmmec_GLMM = loglikelihood(mdl);"
   ]
  },
  {
   "cell_type": "code",
   "execution_count": 56,
   "metadata": {},
   "outputs": [
    {
     "name": "stdout",
     "output_type": "stream",
     "text": [
      "logl_Mmmec_QC = -6623.0027620134115\n",
      "logl_Mmmec_GLM = -6672.358128381808\n",
      "logl_Mmmec_GLMM = -3762.8923979880137\n"
     ]
    }
   ],
   "source": [
    "@show logl_Mmmec_QC\n",
    "@show logl_Mmmec_GLM\n",
    "@show logl_Mmmec_GLMM;"
   ]
  },
  {
   "cell_type": "markdown",
   "metadata": {},
   "source": [
    "# epilepsy data: gcmr (NB)"
   ]
  },
  {
   "cell_type": "code",
   "execution_count": 57,
   "metadata": {},
   "outputs": [
    {
     "data": {
      "text/plain": [
       "Quasi-Copula Variance Component Model\n",
       "  * base distribution: NegativeBinomial\n",
       "  * link function: LogLink\n",
       "  * number of clusters: 59\n",
       "  * cluster size min, max: 5, 5\n",
       "  * number of variance components: 1\n",
       "  * number of fixed effects: 1"
      ]
     },
     "execution_count": 57,
     "metadata": {},
     "output_type": "execute_result"
    }
   ],
   "source": [
    "R\"\"\"\n",
    "    library(\"gcmr\")\n",
    "    data(\"epilepsy\", package = \"gcmr\")\n",
    "\"\"\"\n",
    "@rget epilepsy;\n",
    "\n",
    "df = epilepsy\n",
    "y = :counts\n",
    "grouping = :id\n",
    "\n",
    "# negative Binomial\n",
    "d = NegativeBinomial()\n",
    "link = LogLink()\n",
    "NB_VC_model = VC_model(df, y, grouping, d, link)"
   ]
  },
  {
   "cell_type": "code",
   "execution_count": 58,
   "metadata": {},
   "outputs": [
    {
     "name": "stdout",
     "output_type": "stream",
     "text": [
      "initializing β using GLM.jl\n",
      "gcm.β = [2.5544643337320343]\n",
      "initializing variance components using MM-Algorithm\n",
      "gcm.θ = [0.5657670131706649]\n",
      "initializing r using Newton update\n",
      "Converging when tol ≤ 1.0e-6 (max block iter = 10)\n",
      "Block iter 1 r = 0.95, logl = -1041.21, tol = 1041.2064746554054\n",
      "Block iter 2 r = 0.95, logl = -1041.2, tol = 9.169060760170463e-6\n"
     ]
    }
   ],
   "source": [
    "# fit using QuasiCopula\n",
    "QuasiCopula.fit!(NB_VC_model);"
   ]
  },
  {
   "cell_type": "markdown",
   "metadata": {},
   "source": [
    "### fit epilepsy (NB) with QC:"
   ]
  },
  {
   "cell_type": "code",
   "execution_count": 59,
   "metadata": {},
   "outputs": [
    {
     "name": "stdout",
     "output_type": "stream",
     "text": [
      "NB_VC_model.β = [2.4792606205031866]\n",
      "NB_VC_model.θ = [0.5209466565320946]\n",
      "NB_VC_model.r = [0.9466528028104012]\n"
     ]
    }
   ],
   "source": [
    "# qc estimates\n",
    "@show NB_VC_model.β\n",
    "@show NB_VC_model.θ\n",
    "@show NB_VC_model.r;"
   ]
  },
  {
   "cell_type": "markdown",
   "metadata": {},
   "source": [
    "### fit epilepsy (NB) with GLM:"
   ]
  },
  {
   "cell_type": "code",
   "execution_count": 60,
   "metadata": {},
   "outputs": [
    {
     "name": "stdout",
     "output_type": "stream",
     "text": [
      "epilepsy_glm_β = [2.5544643337320343]\n",
      "epilepsy_glm_θ = 0.0\n",
      "epilepsy_glm_r = 0.7015333873207771\n"
     ]
    }
   ],
   "source": [
    "# fit with glm: GLM.jl\n",
    "epilepsy_glm = glm(@formula(counts ~ 1), df, d, link);\n",
    "epilepsy_glm_β = GLM.coef(epilepsy_glm)\n",
    "epilepsy_glm_θ = 0.0\n",
    "epilepsy_glm_r = inv(deviance(epilepsy_glm)/dof_residual(epilepsy_glm))\n",
    "@show epilepsy_glm_β\n",
    "@show epilepsy_glm_θ\n",
    "@show epilepsy_glm_r;"
   ]
  },
  {
   "cell_type": "markdown",
   "metadata": {},
   "source": [
    "### fit epilepsy (NB) with GLMM:"
   ]
  },
  {
   "cell_type": "code",
   "execution_count": 61,
   "metadata": {},
   "outputs": [
    {
     "name": "stderr",
     "output_type": "stream",
     "text": [
      "┌ Warning: Results for families with a dispersion parameter are not reliable.\n",
      "│ It is best to avoid trying to fit such models in MixedModels until\n",
      "│ the authors gain a better understanding of those cases.\n",
      "└ @ MixedModels /Users/sarahji/.julia/packages/MixedModels/mag0C/src/generalizedlinearmixedmodel.jl:374\n"
     ]
    },
    {
     "name": "stdout",
     "output_type": "stream",
     "text": [
      "epilepsy_GLMM_β = [2.255186388238702]\n",
      "epilepsy_GLMM_θ = 0.3446862449721136\n",
      "epilepsy_GLMM_r = 1.2158558474684866\n"
     ]
    }
   ],
   "source": [
    "# fit with glmm: MixedModels.jl\n",
    "df[!, :id] = string.(df[!, :id])\n",
    "epilepsy_formula = @formula(counts ~ 1 + (1|id));\n",
    "mdl = GeneralizedLinearMixedModel(epilepsy_formula, df, d, link)\n",
    "MixedModels.fit!(mdl, fast=true)\n",
    "\n",
    "epilepsy_GLMM_β = mdl.beta\n",
    "epilepsy_GLMM_θ = mdl.σs[1][1]^2\n",
    "epilepsy_GLMM_r = inv(mdl.σ^2)\n",
    "@show epilepsy_GLMM_β\n",
    "@show epilepsy_GLMM_θ\n",
    "@show epilepsy_GLMM_r;"
   ]
  },
  {
   "cell_type": "markdown",
   "metadata": {},
   "source": [
    "### epilepsy (NB): compare loglikelihoods"
   ]
  },
  {
   "cell_type": "code",
   "execution_count": 62,
   "metadata": {},
   "outputs": [],
   "source": [
    "# qc logl\n",
    "logl_epilepsy_QC_nb = logl(NB_VC_model)\n",
    "\n",
    "# fit with glm: GLM.jl\n",
    "logl_epilepsy_GLM_nb = loglikelihood(epilepsy_glm)\n",
    "\n",
    "# fit with glmm: MixedModels.jl\n",
    "logl_epilepsy_GLMM_nb = loglikelihood(mdl);"
   ]
  },
  {
   "cell_type": "code",
   "execution_count": 63,
   "metadata": {},
   "outputs": [
    {
     "name": "stdout",
     "output_type": "stream",
     "text": [
      "logl_epilepsy_QC_nb = -1041.196587062723\n",
      "logl_epilepsy_GLM_nb = -1059.746665536632\n",
      "logl_epilepsy_GLMM_nb = -1025.4137630663238\n"
     ]
    }
   ],
   "source": [
    "@show logl_epilepsy_QC_nb\n",
    "@show logl_epilepsy_GLM_nb\n",
    "@show logl_epilepsy_GLMM_nb;"
   ]
  },
  {
   "cell_type": "markdown",
   "metadata": {},
   "source": [
    "# Mmmec data: mlmRev (NB)"
   ]
  },
  {
   "cell_type": "code",
   "execution_count": 64,
   "metadata": {},
   "outputs": [
    {
     "data": {
      "text/plain": [
       "Quasi-Copula Variance Component Model\n",
       "  * base distribution: NegativeBinomial\n",
       "  * link function: LogLink\n",
       "  * number of clusters: 9\n",
       "  * cluster size min, max: 3, 95\n",
       "  * number of variance components: 1\n",
       "  * number of fixed effects: 1"
      ]
     },
     "execution_count": 64,
     "metadata": {},
     "output_type": "execute_result"
    }
   ],
   "source": [
    "Mmmec = dataset(\"mlmRev\", \"Mmmec\");\n",
    "\n",
    "df = Mmmec\n",
    "y = :Deaths\n",
    "grouping = :Nation\n",
    "# d = NegativeBinomial()\n",
    "# link = LogLink()\n",
    "\n",
    "NB_VC_model = VC_model(df, y, grouping, d, link)"
   ]
  },
  {
   "cell_type": "code",
   "execution_count": 65,
   "metadata": {},
   "outputs": [
    {
     "name": "stdout",
     "output_type": "stream",
     "text": [
      "initializing β using GLM.jl\n",
      "gcm.β = [3.3260313399805215]\n",
      "initializing variance components using MM-Algorithm\n",
      "gcm.θ = [1.0]\n",
      "initializing r using Newton update\n",
      "Converging when tol ≤ 1.0e-6 (max block iter = 10)\n",
      "Block iter 1 r = 0.95, logl = -1517.43, tol = 1517.4256786488381\n"
     ]
    }
   ],
   "source": [
    "# fit using QuasiCopula\n",
    "QuasiCopula.fit!(NB_VC_model);"
   ]
  },
  {
   "cell_type": "markdown",
   "metadata": {},
   "source": [
    "### fit Mmmec (NB) with QC:"
   ]
  },
  {
   "cell_type": "code",
   "execution_count": 66,
   "metadata": {},
   "outputs": [
    {
     "name": "stdout",
     "output_type": "stream",
     "text": [
      "NB_VC_model.β = [3.261185431678419]\n",
      "NB_VC_model.θ = [19.40906970423017]\n",
      "NB_VC_model.r = [0.947526017253861]\n"
     ]
    }
   ],
   "source": [
    "@show NB_VC_model.β\n",
    "@show NB_VC_model.θ\n",
    "@show NB_VC_model.r;"
   ]
  },
  {
   "cell_type": "markdown",
   "metadata": {},
   "source": [
    "### fit Mmmec (NB) with GLM:"
   ]
  },
  {
   "cell_type": "code",
   "execution_count": 67,
   "metadata": {},
   "outputs": [
    {
     "name": "stdout",
     "output_type": "stream",
     "text": [
      "Mmmec_glm_β = [3.3260313399805215]\n",
      "Mmmec_glm_θ = 0.0\n",
      "Mmmec_glm_r = 0.7981758693672868\n"
     ]
    }
   ],
   "source": [
    "# fit with glm: GLM.jl\n",
    "Mmmec_glm = glm(@formula(Deaths ~ 1), df, d, link);\n",
    "Mmmec_glm_β = GLM.coef(Mmmec_glm)\n",
    "Mmmec_glm_θ = 0.0\n",
    "Mmmec_glm_r = inv(deviance(Mmmec_glm)/dof_residual(Mmmec_glm))\n",
    "@show Mmmec_glm_β\n",
    "@show Mmmec_glm_θ\n",
    "@show Mmmec_glm_r;"
   ]
  },
  {
   "cell_type": "markdown",
   "metadata": {},
   "source": [
    "### fit Mmmec (NB) with GLMM:"
   ]
  },
  {
   "cell_type": "code",
   "execution_count": 68,
   "metadata": {},
   "outputs": [
    {
     "name": "stdout",
     "output_type": "stream",
     "text": [
      "Mmmec_GLMM_β = [3.1384199624537628]\n",
      "Mmmec_GLMM_θ = 1.1046946523166352\n",
      "Mmmec_GLMM_r = 0.9266658961422913\n"
     ]
    },
    {
     "name": "stderr",
     "output_type": "stream",
     "text": [
      "┌ Warning: Results for families with a dispersion parameter are not reliable.\n",
      "│ It is best to avoid trying to fit such models in MixedModels until\n",
      "│ the authors gain a better understanding of those cases.\n",
      "└ @ MixedModels /Users/sarahji/.julia/packages/MixedModels/mag0C/src/generalizedlinearmixedmodel.jl:374\n"
     ]
    }
   ],
   "source": [
    "# fit with glmm: MixedModels.jl\n",
    "Mmmec_formula = @formula(Deaths ~ 1 + (1|Nation));\n",
    "mdl = GeneralizedLinearMixedModel(Mmmec_formula, df, d, link);\n",
    "MixedModels.fit!(mdl, fast=true);\n",
    "\n",
    "Mmmec_GLMM_β = mdl.beta\n",
    "Mmmec_GLMM_θ = mdl.σs[1][1]^2\n",
    "Mmmec_GLMM_r = inv(mdl.σ^2)\n",
    "@show Mmmec_GLMM_β\n",
    "@show Mmmec_GLMM_θ\n",
    "@show Mmmec_GLMM_r;"
   ]
  },
  {
   "cell_type": "markdown",
   "metadata": {},
   "source": [
    "### Mmmec (NB): compare loglikelihoods"
   ]
  },
  {
   "cell_type": "code",
   "execution_count": 69,
   "metadata": {},
   "outputs": [],
   "source": [
    "# qc logl\n",
    "logl_Mmmec_QC_nb = logl(NB_VC_model)\n",
    "\n",
    "# fit with glm: GLM.jl\n",
    "\n",
    "logl_Mmmec_GLM_nb = loglikelihood(Mmmec_glm)\n",
    "\n",
    "# fit with glmm: MixedModels.jl\n",
    "logl_Mmmec_GLMM_nb = loglikelihood(mdl);"
   ]
  },
  {
   "cell_type": "code",
   "execution_count": 70,
   "metadata": {},
   "outputs": [
    {
     "name": "stdout",
     "output_type": "stream",
     "text": [
      "logl_Mmmec_QC_nb = -1517.4254928293658\n",
      "logl_Mmmec_GLM_nb = -1537.7008165848106\n",
      "logl_Mmmec_GLMM_nb = -1452.072432624533\n"
     ]
    }
   ],
   "source": [
    "@show logl_Mmmec_QC_nb\n",
    "@show logl_Mmmec_GLM_nb\n",
    "@show logl_Mmmec_GLMM_nb;"
   ]
  }
 ],
 "metadata": {
  "@webio": {
   "lastCommId": null,
   "lastKernelId": null
  },
  "kernelspec": {
   "display_name": "Julia 1.6.2",
   "language": "julia",
   "name": "julia-1.6"
  },
  "language_info": {
   "file_extension": ".jl",
   "mimetype": "application/julia",
   "name": "julia",
   "version": "1.6.2"
  }
 },
 "nbformat": 4,
 "nbformat_minor": 4
}
