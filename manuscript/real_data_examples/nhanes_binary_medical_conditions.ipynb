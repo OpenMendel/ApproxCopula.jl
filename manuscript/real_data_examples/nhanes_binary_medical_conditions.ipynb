{
 "cells": [
  {
   "cell_type": "markdown",
   "metadata": {},
   "source": [
    "# NHANES: Medical Conditions Real Data Example:\n",
    "\n",
    "In this notebook I use the \"Questionnaire data\" from [NHANES 2017-2018 Medical Conditions](https://wwwn.cdc.gov/nchs/nhanes/search/datapage.aspx?Component=Questionnaire&Cycle=2017-2020). The data dictionary can be found [here](https://wwwn.cdc.gov/Nchs/Nhanes/2017-2018/P_MCQ.htm#).\n",
    "    \n",
    "The data can be found in the [R package: nhanesA](https://cran.r-project.org/web/packages/nhanesA/index.html), we will use the `RCall` package to access it and transform it from wide to long format for analysis.\n",
    "\n",
    "We will compare the estimates from the random intercept model with Bernoulli Base using QuasiCopula.jl vs. MixedModels.jl.\n",
    "\n",
    "    - GROUPING: We will cluster by ID variable (SEQN)\n",
    "    - COVARIATES: Body weight in kg (weight)\n",
    "    \n",
    "    - OUTCOMES: Each outcome vector is a vector of length 5 of the following indicators:\n",
    "    (1) \"MCQ010\": Ever been told you have asthma {1 = Yes, 0 = No}\n",
    "    (2) \"MCQ080\": Doctor ever said you were overweight {1 = Yes, 0 = No}\n",
    "    (3) \"MCQ160A\": Doctor ever said you had arthritis {1 = Yes, 0 = No}\n",
    "    (4) \"MCQ371B\": Are you now increasing exercise {1 = Yes, 0 = No}\n",
    "    (5) \"MCQ371C\": Are you now reducing salt in diet {1 = Yes, 0 = No}"
   ]
  },
  {
   "cell_type": "code",
   "execution_count": 1,
   "metadata": {},
   "outputs": [
    {
     "name": "stdout",
     "output_type": "stream",
     "text": [
      "Julia Version 1.6.2\n",
      "Commit 1b93d53fc4 (2021-07-14 15:36 UTC)\n",
      "Platform Info:\n",
      "  OS: macOS (x86_64-apple-darwin18.7.0)\n",
      "  CPU: Intel(R) Core(TM) i9-9880H CPU @ 2.30GHz\n",
      "  WORD_SIZE: 64\n",
      "  LIBM: libopenlibm\n",
      "  LLVM: libLLVM-11.0.1 (ORCJIT, skylake)\n",
      "Environment:\n",
      "  JULIA_NUM_THREADS = 8\n"
     ]
    }
   ],
   "source": [
    "versioninfo()"
   ]
  },
  {
   "cell_type": "code",
   "execution_count": 2,
   "metadata": {},
   "outputs": [],
   "source": [
    "using QuasiCopula, LinearAlgebra, DataFrames, GLM\n",
    "using RCall, MixedModels, ProgressMeter, Suppressor\n",
    "ProgressMeter.ijulia_behavior(:clear);"
   ]
  },
  {
   "cell_type": "code",
   "execution_count": 3,
   "metadata": {},
   "outputs": [
    {
     "data": {
      "text/plain": [
       "8"
      ]
     },
     "execution_count": 3,
     "metadata": {},
     "output_type": "execute_result"
    }
   ],
   "source": [
    "BLAS.set_num_threads(1)\n",
    "Threads.nthreads()"
   ]
  },
  {
   "cell_type": "markdown",
   "metadata": {},
   "source": [
    "# Read in the dataset"
   ]
  },
  {
   "cell_type": "code",
   "execution_count": 4,
   "metadata": {},
   "outputs": [
    {
     "data": {
      "text/html": [
       "<div class=\"data-frame\"><p>25,925 rows × 4 columns</p><table class=\"data-frame\"><thead><tr><th></th><th>SEQN</th><th>Condition</th><th>Outcome</th><th>BMXWT</th></tr><tr><th></th><th title=\"String\">String</th><th title=\"String\">String</th><th title=\"Float64\">Float64</th><th title=\"Float64\">Float64</th></tr></thead><tbody><tr><th>1</th><td>93705</td><td>MCQ010</td><td>1.0</td><td>79.5</td></tr><tr><th>2</th><td>93705</td><td>MCQ080</td><td>0.0</td><td>79.5</td></tr><tr><th>3</th><td>93705</td><td>MCQ160A</td><td>1.0</td><td>79.5</td></tr><tr><th>4</th><td>93705</td><td>MCQ371A</td><td>1.0</td><td>79.5</td></tr><tr><th>5</th><td>93705</td><td>MCQ371B</td><td>1.0</td><td>79.5</td></tr><tr><th>6</th><td>93708</td><td>MCQ010</td><td>0.0</td><td>53.5</td></tr><tr><th>7</th><td>93708</td><td>MCQ080</td><td>0.0</td><td>53.5</td></tr><tr><th>8</th><td>93708</td><td>MCQ160A</td><td>1.0</td><td>53.5</td></tr><tr><th>9</th><td>93708</td><td>MCQ371A</td><td>1.0</td><td>53.5</td></tr><tr><th>10</th><td>93708</td><td>MCQ371B</td><td>0.0</td><td>53.5</td></tr><tr><th>11</th><td>93709</td><td>MCQ010</td><td>0.0</td><td>88.8</td></tr><tr><th>12</th><td>93709</td><td>MCQ080</td><td>1.0</td><td>88.8</td></tr><tr><th>13</th><td>93709</td><td>MCQ160A</td><td>1.0</td><td>88.8</td></tr><tr><th>14</th><td>93709</td><td>MCQ371A</td><td>1.0</td><td>88.8</td></tr><tr><th>15</th><td>93709</td><td>MCQ371B</td><td>1.0</td><td>88.8</td></tr><tr><th>16</th><td>93711</td><td>MCQ010</td><td>0.0</td><td>62.1</td></tr><tr><th>17</th><td>93711</td><td>MCQ080</td><td>0.0</td><td>62.1</td></tr><tr><th>18</th><td>93711</td><td>MCQ160A</td><td>0.0</td><td>62.1</td></tr><tr><th>19</th><td>93711</td><td>MCQ371A</td><td>1.0</td><td>62.1</td></tr><tr><th>20</th><td>93711</td><td>MCQ371B</td><td>0.0</td><td>62.1</td></tr><tr><th>21</th><td>93713</td><td>MCQ010</td><td>0.0</td><td>74.9</td></tr><tr><th>22</th><td>93713</td><td>MCQ080</td><td>0.0</td><td>74.9</td></tr><tr><th>23</th><td>93713</td><td>MCQ160A</td><td>1.0</td><td>74.9</td></tr><tr><th>24</th><td>93713</td><td>MCQ371A</td><td>0.0</td><td>74.9</td></tr><tr><th>25</th><td>93713</td><td>MCQ371B</td><td>0.0</td><td>74.9</td></tr><tr><th>26</th><td>93714</td><td>MCQ010</td><td>0.0</td><td>87.1</td></tr><tr><th>27</th><td>93714</td><td>MCQ080</td><td>1.0</td><td>87.1</td></tr><tr><th>28</th><td>93714</td><td>MCQ160A</td><td>0.0</td><td>87.1</td></tr><tr><th>29</th><td>93714</td><td>MCQ371A</td><td>0.0</td><td>87.1</td></tr><tr><th>30</th><td>93714</td><td>MCQ371B</td><td>0.0</td><td>87.1</td></tr><tr><th>&vellip;</th><td>&vellip;</td><td>&vellip;</td><td>&vellip;</td><td>&vellip;</td></tr></tbody></table></div>"
      ],
      "text/latex": [
       "\\begin{tabular}{r|cccc}\n",
       "\t& SEQN & Condition & Outcome & BMXWT\\\\\n",
       "\t\\hline\n",
       "\t& String & String & Float64 & Float64\\\\\n",
       "\t\\hline\n",
       "\t1 & 93705 & MCQ010 & 1.0 & 79.5 \\\\\n",
       "\t2 & 93705 & MCQ080 & 0.0 & 79.5 \\\\\n",
       "\t3 & 93705 & MCQ160A & 1.0 & 79.5 \\\\\n",
       "\t4 & 93705 & MCQ371A & 1.0 & 79.5 \\\\\n",
       "\t5 & 93705 & MCQ371B & 1.0 & 79.5 \\\\\n",
       "\t6 & 93708 & MCQ010 & 0.0 & 53.5 \\\\\n",
       "\t7 & 93708 & MCQ080 & 0.0 & 53.5 \\\\\n",
       "\t8 & 93708 & MCQ160A & 1.0 & 53.5 \\\\\n",
       "\t9 & 93708 & MCQ371A & 1.0 & 53.5 \\\\\n",
       "\t10 & 93708 & MCQ371B & 0.0 & 53.5 \\\\\n",
       "\t11 & 93709 & MCQ010 & 0.0 & 88.8 \\\\\n",
       "\t12 & 93709 & MCQ080 & 1.0 & 88.8 \\\\\n",
       "\t13 & 93709 & MCQ160A & 1.0 & 88.8 \\\\\n",
       "\t14 & 93709 & MCQ371A & 1.0 & 88.8 \\\\\n",
       "\t15 & 93709 & MCQ371B & 1.0 & 88.8 \\\\\n",
       "\t16 & 93711 & MCQ010 & 0.0 & 62.1 \\\\\n",
       "\t17 & 93711 & MCQ080 & 0.0 & 62.1 \\\\\n",
       "\t18 & 93711 & MCQ160A & 0.0 & 62.1 \\\\\n",
       "\t19 & 93711 & MCQ371A & 1.0 & 62.1 \\\\\n",
       "\t20 & 93711 & MCQ371B & 0.0 & 62.1 \\\\\n",
       "\t21 & 93713 & MCQ010 & 0.0 & 74.9 \\\\\n",
       "\t22 & 93713 & MCQ080 & 0.0 & 74.9 \\\\\n",
       "\t23 & 93713 & MCQ160A & 1.0 & 74.9 \\\\\n",
       "\t24 & 93713 & MCQ371A & 0.0 & 74.9 \\\\\n",
       "\t25 & 93713 & MCQ371B & 0.0 & 74.9 \\\\\n",
       "\t26 & 93714 & MCQ010 & 0.0 & 87.1 \\\\\n",
       "\t27 & 93714 & MCQ080 & 1.0 & 87.1 \\\\\n",
       "\t28 & 93714 & MCQ160A & 0.0 & 87.1 \\\\\n",
       "\t29 & 93714 & MCQ371A & 0.0 & 87.1 \\\\\n",
       "\t30 & 93714 & MCQ371B & 0.0 & 87.1 \\\\\n",
       "\t$\\dots$ & $\\dots$ & $\\dots$ & $\\dots$ & $\\dots$ \\\\\n",
       "\\end{tabular}\n"
      ],
      "text/plain": [
       "\u001b[1m25925×4 DataFrame\u001b[0m\n",
       "\u001b[1m   Row \u001b[0m│\u001b[1m SEQN   \u001b[0m\u001b[1m Condition \u001b[0m\u001b[1m Outcome \u001b[0m\u001b[1m BMXWT   \u001b[0m\n",
       "\u001b[1m       \u001b[0m│\u001b[90m String \u001b[0m\u001b[90m String    \u001b[0m\u001b[90m Float64 \u001b[0m\u001b[90m Float64 \u001b[0m\n",
       "───────┼─────────────────────────────────────\n",
       "     1 │ 93705   MCQ010         1.0     79.5\n",
       "     2 │ 93705   MCQ080         0.0     79.5\n",
       "     3 │ 93705   MCQ160A        1.0     79.5\n",
       "     4 │ 93705   MCQ371A        1.0     79.5\n",
       "     5 │ 93705   MCQ371B        1.0     79.5\n",
       "     6 │ 93708   MCQ010         0.0     53.5\n",
       "     7 │ 93708   MCQ080         0.0     53.5\n",
       "     8 │ 93708   MCQ160A        1.0     53.5\n",
       "     9 │ 93708   MCQ371A        1.0     53.5\n",
       "    10 │ 93708   MCQ371B        0.0     53.5\n",
       "    11 │ 93709   MCQ010         0.0     88.8\n",
       "   ⋮   │   ⋮         ⋮         ⋮        ⋮\n",
       " 25916 │ 102954  MCQ010         0.0     69.1\n",
       " 25917 │ 102954  MCQ080         1.0     69.1\n",
       " 25918 │ 102954  MCQ160A        0.0     69.1\n",
       " 25919 │ 102954  MCQ371A        1.0     69.1\n",
       " 25920 │ 102954  MCQ371B        1.0     69.1\n",
       " 25921 │ 102956  MCQ010         0.0    111.5\n",
       " 25922 │ 102956  MCQ080         1.0    111.5\n",
       " 25923 │ 102956  MCQ160A        1.0    111.5\n",
       " 25924 │ 102956  MCQ371A        0.0    111.5\n",
       " 25925 │ 102956  MCQ371B        0.0    111.5\n",
       "\u001b[36m                           25904 rows omitted\u001b[0m"
      ]
     },
     "execution_count": 4,
     "metadata": {},
     "output_type": "execute_result"
    }
   ],
   "source": [
    "@suppress begin\n",
    "R\"\"\"\n",
    "    suppressWarnings(library(nhanesA, warn.conflicts=FALSE))\n",
    "    suppressWarnings(library(tidyverse, warn.conflicts=FALSE))\n",
    "    \n",
    "    # get the questionnaire data from 2017 NHANES\n",
    "    q <- nhanesTables('Q', 2017)\n",
    "    # get the medical conditions questionnaire from 2017 NHANES\n",
    "    qt <- suppressMessages(lapply(\"MCQ_J\", nhanes))\n",
    "    df = qt[[1]]\n",
    "\n",
    "    # select the five outcomes of interest per subject\n",
    "    MC_2017 = df %>% select(SEQN, MCQ010, MCQ080, MCQ160A, MCQ371A, MCQ371B)\n",
    "    MC_2017 = MC_2017[complete.cases(MC_2017),]\n",
    "\n",
    "    MC_2017$MCQ010 <-ifelse(MC_2017$MCQ010 == 2, 0, 1)\n",
    "    MC_2017$MCQ080 <-ifelse(MC_2017$MCQ080 == 2, 0, 1)\n",
    "    MC_2017$MCQ160A <-ifelse(MC_2017$MCQ160A == 2, 0, 1)\n",
    "    MC_2017$MCQ371A <-ifelse(MC_2017$MCQ371A == 2, 0, 1)\n",
    "    MC_2017$MCQ371B <-ifelse(MC_2017$MCQ371B == 2, 0, 1)\n",
    "\n",
    "    MC_2017_long = pivot_longer(MC_2017, -c(SEQN), values_to = \"Outcome\", names_to = \"Condition\")\n",
    "\n",
    "    # get the weight in kg from the examination data from NHANES 2017\n",
    "    e = nhanesTables('EXAM', 2017)\n",
    "    et <- suppressMessages(lapply(\"BMX_J\", nhanes))\n",
    "    df_exam = et[[1]]\n",
    "\n",
    "    BW_2017 = df_exam %>% select(SEQN, BMXWT)\n",
    "    BW_2017 = BW_2017[complete.cases(BW_2017),]\n",
    "\n",
    "    NHANES_2017_long <- inner_join(MC_2017_long, BW_2017, by=\"SEQN\")\n",
    "    df = as.data.frame(NHANES_2017_long)\n",
    "\"\"\"\n",
    "end\n",
    "\n",
    "@rget df\n",
    "df[!, :SEQN] .= string.(df[!, :SEQN])\n",
    "df"
   ]
  },
  {
   "cell_type": "markdown",
   "metadata": {},
   "source": [
    "### Form the random intercept model at fit using QuasiCopula.jl"
   ]
  },
  {
   "cell_type": "code",
   "execution_count": 9,
   "metadata": {},
   "outputs": [
    {
     "data": {
      "text/plain": [
       "Quasi-Copula Variance Component Model\n",
       "  * base distribution: Bernoulli\n",
       "  * link function: LogitLink\n",
       "  * number of clusters: 5185\n",
       "  * cluster size min, max: 5, 5\n",
       "  * number of variance components: 1\n",
       "  * number of fixed effects: 2\n"
      ]
     },
     "execution_count": 9,
     "metadata": {},
     "output_type": "execute_result"
    }
   ],
   "source": [
    "y = :Outcome\n",
    "grouping = :SEQN\n",
    "covariates = [:BMXWT]\n",
    "\n",
    "d = Bernoulli()\n",
    "link = LogitLink()\n",
    "model = VC_model(df, y, grouping, covariates, d, link)"
   ]
  },
  {
   "cell_type": "code",
   "execution_count": 10,
   "metadata": {},
   "outputs": [
    {
     "name": "stdout",
     "output_type": "stream",
     "text": [
      "initializing β using Newton's Algorithm under Independence Assumption\n",
      "gcm.β = [-1.7982115203934443, 0.017514205319296185]\n",
      "initializing variance components using MM-Algorithm\n",
      "gcm.θ = [0.05965457936271671]\n",
      "  0.107321 seconds (765.16 k allocations: 14.945 MiB)\n"
     ]
    },
    {
     "data": {
      "text/plain": [
       "-17046.98900846835"
      ]
     },
     "execution_count": 10,
     "metadata": {},
     "output_type": "execute_result"
    }
   ],
   "source": [
    "@time QuasiCopula.fit!(model)"
   ]
  },
  {
   "cell_type": "code",
   "execution_count": 11,
   "metadata": {},
   "outputs": [
    {
     "name": "stdout",
     "output_type": "stream",
     "text": [
      "model.β = [-1.9161185003275032, 0.018614705169489668]\n",
      "model.θ = [0.06253219172041159]\n"
     ]
    }
   ],
   "source": [
    "@show model.β\n",
    "@show model.θ;"
   ]
  },
  {
   "cell_type": "markdown",
   "metadata": {},
   "source": [
    "### Fit using MixedModels.jl\n",
    "\n",
    "Now we fit the same model using MixedModels.jl with 25 Gaussian quadrature points. "
   ]
  },
  {
   "cell_type": "code",
   "execution_count": 12,
   "metadata": {},
   "outputs": [
    {
     "name": "stderr",
     "output_type": "stream",
     "text": [
      "\r",
      "\u001b[32mMinimizing 84 \t Time: 0:00:02 (26.07 ms/it)\u001b[39m\n"
     ]
    },
    {
     "name": "stdout",
     "output_type": "stream",
     "text": [
      "  2.197379 seconds (31.10 k allocations: 1.373 MiB)\n",
      "GLMM_β = [-1.9006462097030323, 0.01847894081758789]\n",
      "GLMM_θ = 0.2647153136431501\n"
     ]
    }
   ],
   "source": [
    "glmm_formula = @formula(Outcome ~ 1 + BMXWT + (1|SEQN));\n",
    "mdl = GeneralizedLinearMixedModel(glmm_formula, df, d, link)\n",
    "@time MixedModels.fit!(mdl; nAGQ = 25);\n",
    "GLMM_β = mdl.beta\n",
    "GLMM_θ = mdl.σs[1][1]^2\n",
    "@show GLMM_β\n",
    "@show GLMM_θ;"
   ]
  }
 ],
 "metadata": {
  "@webio": {
   "lastCommId": null,
   "lastKernelId": null
  },
  "kernelspec": {
   "display_name": "Julia 1.6.2",
   "language": "julia",
   "name": "julia-1.6"
  },
  "language_info": {
   "file_extension": ".jl",
   "mimetype": "application/julia",
   "name": "julia",
   "version": "1.6.2"
  }
 },
 "nbformat": 4,
 "nbformat_minor": 4
}
