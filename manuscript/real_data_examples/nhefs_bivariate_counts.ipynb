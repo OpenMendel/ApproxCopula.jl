{
 "cells": [
  {
   "cell_type": "markdown",
   "metadata": {},
   "source": [
    "# nhefs: Bivariate Count Real Data Example:\n",
    "\n",
    "In this notebook I use the [National Health and Nutrition Examination Survey Data I (NHANES 1) Epidemiologic Follow-up Study (NHEFS)](https://wwwn.cdc.gov/nchs/nhanes/nhefs/).\n",
    "\n",
    "The data can be found in the [R package: causaldata](https://cran.r-project.org/web/packages/causaldata/causaldata.pdf).\n",
    "\n",
    "We will compare the estimates from the random intercept model with Poisson Base using QuasiCopula.jl vs. MixedModels.jl\n",
    "    \n",
    "    - GROUPING: We will cluster by ID variable (seqn)\n",
    "    - COVARIATES: Average price of tobacco in the state of residence (price)\n",
    "    \n",
    "    - OUTCOMES: Each outcome vector is a bivariate vector of the following counts:\n",
    "    (1) NUMBER OF CIGARETTES SMOKED PER DAY IN 1971\n",
    "    (2) NUMBER OF CIGARETTES SMOKED PER DAY IN 1982"
   ]
  },
  {
   "cell_type": "code",
   "execution_count": 1,
   "metadata": {},
   "outputs": [
    {
     "name": "stdout",
     "output_type": "stream",
     "text": [
      "Julia Version 1.6.2\n",
      "Commit 1b93d53fc4 (2021-07-14 15:36 UTC)\n",
      "Platform Info:\n",
      "  OS: macOS (x86_64-apple-darwin18.7.0)\n",
      "  CPU: Intel(R) Core(TM) i9-9880H CPU @ 2.30GHz\n",
      "  WORD_SIZE: 64\n",
      "  LIBM: libopenlibm\n",
      "  LLVM: libLLVM-11.0.1 (ORCJIT, skylake)\n",
      "Environment:\n",
      "  JULIA_NUM_THREADS = 8\n"
     ]
    }
   ],
   "source": [
    "versioninfo()"
   ]
  },
  {
   "cell_type": "code",
   "execution_count": 2,
   "metadata": {},
   "outputs": [
    {
     "name": "stderr",
     "output_type": "stream",
     "text": [
      "┌ Info: Precompiling QuasiCopula [c47b6ae2-b804-4668-9957-eb588c99ffbc]\n",
      "└ @ Base loading.jl:1342\n"
     ]
    }
   ],
   "source": [
    "using QuasiCopula, CSV, LinearAlgebra, DataFrames, GLM, MixedModels"
   ]
  },
  {
   "cell_type": "code",
   "execution_count": 3,
   "metadata": {},
   "outputs": [
    {
     "data": {
      "text/plain": [
       "8"
      ]
     },
     "execution_count": 3,
     "metadata": {},
     "output_type": "execute_result"
    }
   ],
   "source": [
    "BLAS.set_num_threads(1)\n",
    "Threads.nthreads()"
   ]
  },
  {
   "cell_type": "markdown",
   "metadata": {},
   "source": [
    "# Read in the dataset"
   ]
  },
  {
   "cell_type": "code",
   "execution_count": 4,
   "metadata": {},
   "outputs": [
    {
     "data": {
      "text/html": [
       "<div class=\"data-frame\"><p>3,074 rows × 4 columns</p><table class=\"data-frame\"><thead><tr><th></th><th>Column1</th><th>seqn</th><th>count</th><th>price</th></tr><tr><th></th><th title=\"Int64\">Int64</th><th title=\"String\">String</th><th title=\"Int64\">Int64</th><th title=\"Float64\">Float64</th></tr></thead><tbody><tr><th>1</th><td>1</td><td>233</td><td>30</td><td>2.18359</td></tr><tr><th>2</th><td>2</td><td>233</td><td>20</td><td>1.73999</td></tr><tr><th>3</th><td>3</td><td>235</td><td>20</td><td>2.34668</td></tr><tr><th>4</th><td>4</td><td>235</td><td>10</td><td>1.79736</td></tr><tr><th>5</th><td>5</td><td>244</td><td>20</td><td>1.56958</td></tr><tr><th>6</th><td>6</td><td>244</td><td>6</td><td>1.51343</td></tr><tr><th>7</th><td>7</td><td>245</td><td>3</td><td>1.50659</td></tr><tr><th>8</th><td>8</td><td>245</td><td>7</td><td>1.4519</td></tr><tr><th>9</th><td>9</td><td>252</td><td>20</td><td>2.34668</td></tr><tr><th>10</th><td>10</td><td>252</td><td>20</td><td>1.79736</td></tr><tr><th>11</th><td>11</td><td>257</td><td>10</td><td>2.20996</td></tr><tr><th>12</th><td>12</td><td>257</td><td>20</td><td>2.02588</td></tr><tr><th>13</th><td>17</td><td>419</td><td>25</td><td>2.34668</td></tr><tr><th>14</th><td>18</td><td>419</td><td>15</td><td>1.79736</td></tr><tr><th>15</th><td>19</td><td>420</td><td>20</td><td>2.34668</td></tr><tr><th>16</th><td>20</td><td>420</td><td>0</td><td>1.79736</td></tr><tr><th>17</th><td>21</td><td>428</td><td>30</td><td>2.34668</td></tr><tr><th>18</th><td>22</td><td>428</td><td>0</td><td>1.79736</td></tr><tr><th>19</th><td>23</td><td>431</td><td>40</td><td>2.34668</td></tr><tr><th>20</th><td>24</td><td>431</td><td>30</td><td>1.79736</td></tr><tr><th>21</th><td>27</td><td>443</td><td>10</td><td>2.34668</td></tr><tr><th>22</th><td>28</td><td>443</td><td>10</td><td>1.79736</td></tr><tr><th>23</th><td>31</td><td>455</td><td>10</td><td>2.34668</td></tr><tr><th>24</th><td>32</td><td>455</td><td>10</td><td>1.79736</td></tr><tr><th>25</th><td>33</td><td>457</td><td>20</td><td>2.31494</td></tr><tr><th>26</th><td>34</td><td>457</td><td>20</td><td>1.80396</td></tr><tr><th>27</th><td>35</td><td>596</td><td>2</td><td>2.2417</td></tr><tr><th>28</th><td>36</td><td>596</td><td>0</td><td>1.82812</td></tr><tr><th>29</th><td>37</td><td>603</td><td>20</td><td>2.2417</td></tr><tr><th>30</th><td>38</td><td>603</td><td>20</td><td>1.82812</td></tr><tr><th>&vellip;</th><td>&vellip;</td><td>&vellip;</td><td>&vellip;</td><td>&vellip;</td></tr></tbody></table></div>"
      ],
      "text/latex": [
       "\\begin{tabular}{r|cccc}\n",
       "\t& Column1 & seqn & count & price\\\\\n",
       "\t\\hline\n",
       "\t& Int64 & String & Int64 & Float64\\\\\n",
       "\t\\hline\n",
       "\t1 & 1 & 233 & 30 & 2.18359 \\\\\n",
       "\t2 & 2 & 233 & 20 & 1.73999 \\\\\n",
       "\t3 & 3 & 235 & 20 & 2.34668 \\\\\n",
       "\t4 & 4 & 235 & 10 & 1.79736 \\\\\n",
       "\t5 & 5 & 244 & 20 & 1.56958 \\\\\n",
       "\t6 & 6 & 244 & 6 & 1.51343 \\\\\n",
       "\t7 & 7 & 245 & 3 & 1.50659 \\\\\n",
       "\t8 & 8 & 245 & 7 & 1.4519 \\\\\n",
       "\t9 & 9 & 252 & 20 & 2.34668 \\\\\n",
       "\t10 & 10 & 252 & 20 & 1.79736 \\\\\n",
       "\t11 & 11 & 257 & 10 & 2.20996 \\\\\n",
       "\t12 & 12 & 257 & 20 & 2.02588 \\\\\n",
       "\t13 & 17 & 419 & 25 & 2.34668 \\\\\n",
       "\t14 & 18 & 419 & 15 & 1.79736 \\\\\n",
       "\t15 & 19 & 420 & 20 & 2.34668 \\\\\n",
       "\t16 & 20 & 420 & 0 & 1.79736 \\\\\n",
       "\t17 & 21 & 428 & 30 & 2.34668 \\\\\n",
       "\t18 & 22 & 428 & 0 & 1.79736 \\\\\n",
       "\t19 & 23 & 431 & 40 & 2.34668 \\\\\n",
       "\t20 & 24 & 431 & 30 & 1.79736 \\\\\n",
       "\t21 & 27 & 443 & 10 & 2.34668 \\\\\n",
       "\t22 & 28 & 443 & 10 & 1.79736 \\\\\n",
       "\t23 & 31 & 455 & 10 & 2.34668 \\\\\n",
       "\t24 & 32 & 455 & 10 & 1.79736 \\\\\n",
       "\t25 & 33 & 457 & 20 & 2.31494 \\\\\n",
       "\t26 & 34 & 457 & 20 & 1.80396 \\\\\n",
       "\t27 & 35 & 596 & 2 & 2.2417 \\\\\n",
       "\t28 & 36 & 596 & 0 & 1.82812 \\\\\n",
       "\t29 & 37 & 603 & 20 & 2.2417 \\\\\n",
       "\t30 & 38 & 603 & 20 & 1.82812 \\\\\n",
       "\t$\\dots$ & $\\dots$ & $\\dots$ & $\\dots$ & $\\dots$ \\\\\n",
       "\\end{tabular}\n"
      ],
      "text/plain": [
       "\u001b[1m3074×4 DataFrame\u001b[0m\n",
       "\u001b[1m  Row \u001b[0m│\u001b[1m Column1 \u001b[0m\u001b[1m seqn   \u001b[0m\u001b[1m count \u001b[0m\u001b[1m price   \u001b[0m\n",
       "\u001b[1m      \u001b[0m│\u001b[90m Int64   \u001b[0m\u001b[90m String \u001b[0m\u001b[90m Int64 \u001b[0m\u001b[90m Float64 \u001b[0m\n",
       "──────┼─────────────────────────────────\n",
       "    1 │       1  233        30  2.18359\n",
       "    2 │       2  233        20  1.73999\n",
       "    3 │       3  235        20  2.34668\n",
       "    4 │       4  235        10  1.79736\n",
       "    5 │       5  244        20  1.56958\n",
       "    6 │       6  244         6  1.51343\n",
       "    7 │       7  245         3  1.50659\n",
       "    8 │       8  245         7  1.4519\n",
       "    9 │       9  252        20  2.34668\n",
       "   10 │      10  252        20  1.79736\n",
       "   11 │      11  257        10  2.20996\n",
       "  ⋮   │    ⋮       ⋮       ⋮       ⋮\n",
       " 3065 │    3249  25014      40  2.16797\n",
       " 3066 │    3250  25014      40  1.94019\n",
       " 3067 │    3251  25016      20  2.16797\n",
       " 3068 │    3252  25016      20  1.94019\n",
       " 3069 │    3253  25024      40  1.80078\n",
       " 3070 │    3254  25024      80  1.64771\n",
       " 3071 │    3255  25032      15  2.16797\n",
       " 3072 │    3256  25032      20  1.94019\n",
       " 3073 │    3257  25061      30  2.16797\n",
       " 3074 │    3258  25061       0  1.94019\n",
       "\u001b[36m                       3053 rows omitted\u001b[0m"
      ]
     },
     "execution_count": 4,
     "metadata": {},
     "output_type": "execute_result"
    }
   ],
   "source": [
    "df = CSV.read(\"nhefs_bivariate_count.csv\", DataFrame)\n",
    "df[!, :seqn] .= string.(df[!, :seqn])\n",
    "df"
   ]
  },
  {
   "cell_type": "markdown",
   "metadata": {},
   "source": [
    "### Form the random intercept model at fit using QuasiCopula.jl"
   ]
  },
  {
   "cell_type": "code",
   "execution_count": 9,
   "metadata": {},
   "outputs": [
    {
     "data": {
      "text/plain": [
       "Quasi-Copula Variance Component Model\n",
       "  * base distribution: Poisson\n",
       "  * link function: LogLink\n",
       "  * number of clusters: 1537\n",
       "  * cluster size min, max: 2, 2\n",
       "  * number of variance components: 1\n",
       "  * number of fixed effects: 2\n",
       "  * L2 ridge penalty on variance components: true"
      ]
     },
     "execution_count": 9,
     "metadata": {},
     "output_type": "execute_result"
    }
   ],
   "source": [
    "y = :count\n",
    "grouping = :seqn\n",
    "covariates = [:price]\n",
    "\n",
    "d = Poisson()\n",
    "link = LogLink()\n",
    "model = VC_model(df, y, grouping, covariates, d, link; penalized = true)"
   ]
  },
  {
   "cell_type": "code",
   "execution_count": 10,
   "metadata": {},
   "outputs": [
    {
     "name": "stdout",
     "output_type": "stream",
     "text": [
      "initializing β using Newton's Algorithm under Independence Assumption\n",
      "gcm.β = [2.1159279480362807, 0.39787703892248655]\n",
      "initializing variance components using MM-Algorithm\n",
      "gcm.θ = [5.569804005046703]\n",
      "Total number of variables............................:        3\n",
      "                     variables with only lower bounds:        1\n",
      "                variables with lower and upper bounds:        0\n",
      "                     variables with only upper bounds:        0\n",
      "Total number of equality constraints.................:        0\n",
      "Total number of inequality constraints...............:        0\n",
      "        inequality constraints with only lower bounds:        0\n",
      "   inequality constraints with lower and upper bounds:        0\n",
      "        inequality constraints with only upper bounds:        0\n",
      "\n",
      "\n",
      "Number of Iterations....: 18\n",
      "\n",
      "                                   (scaled)                 (unscaled)\n",
      "Objective...............:   2.5561938641713874e+02    2.1883035067236062e+04\n",
      "Dual infeasibility......:   1.0287922697417820e-09    8.8072730441979274e-08\n",
      "Constraint violation....:   0.0000000000000000e+00    0.0000000000000000e+00\n",
      "Complementarity.........:   9.9999999999995761e-12    8.5607885121532876e-10\n",
      "Overall NLP error.......:   1.0287922697417820e-09    8.8072730441979274e-08\n",
      "\n",
      "\n",
      "Number of objective function evaluations             = 32\n",
      "Number of objective gradient evaluations             = 19\n",
      "Number of equality constraint evaluations            = 0\n",
      "Number of inequality constraint evaluations          = 0\n",
      "Number of equality constraint Jacobian evaluations   = 0\n",
      "Number of inequality constraint Jacobian evaluations = 0\n",
      "Number of Lagrangian Hessian evaluations             = 0\n",
      "Total CPU secs in IPOPT (w/o function evaluations)   =      0.071\n",
      "Total CPU secs in NLP function evaluations           =      0.061\n",
      "\n",
      "EXIT: Optimal Solution Found.\n",
      "  0.085730 seconds (247.51 k allocations: 4.416 MiB)\n"
     ]
    },
    {
     "data": {
      "text/plain": [
       "-21883.035067236062"
      ]
     },
     "execution_count": 10,
     "metadata": {},
     "output_type": "execute_result"
    }
   ],
   "source": [
    "@time QuasiCopula.fit!(model)"
   ]
  },
  {
   "cell_type": "code",
   "execution_count": 11,
   "metadata": {},
   "outputs": [
    {
     "name": "stdout",
     "output_type": "stream",
     "text": [
      "model.β = [2.0440750847817437, 0.4299903917427388]\n",
      "model.θ = [0.5299623044726194]\n"
     ]
    }
   ],
   "source": [
    "@show model.β\n",
    "@show model.θ;"
   ]
  },
  {
   "cell_type": "markdown",
   "metadata": {},
   "source": [
    "### Fit using MixedModels.jl\n",
    "\n",
    "Now we fit the same model using MixedModels.jl with 25 Gaussian quadrature points. "
   ]
  },
  {
   "cell_type": "code",
   "execution_count": 12,
   "metadata": {},
   "outputs": [
    {
     "name": "stderr",
     "output_type": "stream",
     "text": [
      "┌ Warning: ProgressMeter by default refresh meters with additional information in IJulia via `IJulia.clear_output`, which clears all outputs in the cell. \n",
      "│  - To prevent this behaviour, do `ProgressMeter.ijulia_behavior(:append)`. \n",
      "│  - To disable this warning message, do `ProgressMeter.ijulia_behavior(:clear)`.\n",
      "└ @ ProgressMeter /Users/sarahji/.julia/packages/ProgressMeter/Vf8un/src/ProgressMeter.jl:620\n",
      "\r",
      "\u001b[32mMinimizing 76 \t Time: 0:00:00 ( 3.53 ms/it)\u001b[39m\n"
     ]
    },
    {
     "name": "stdout",
     "output_type": "stream",
     "text": [
      "  0.270687 seconds (33.05 k allocations: 1.257 MiB)\n",
      "GLMM_β = [1.5148402125927902, 0.5984329913583817]\n",
      "GLMM_θ = 0.4823489292459855\n"
     ]
    }
   ],
   "source": [
    "glmm_formula = @formula(count ~ 1 + price + (1|seqn));\n",
    "mdl = GeneralizedLinearMixedModel(glmm_formula, df, d, link)\n",
    "@time MixedModels.fit!(mdl; nAGQ = 25);\n",
    "GLMM_β = mdl.beta\n",
    "GLMM_θ = mdl.σs[1][1]^2\n",
    "@show GLMM_β\n",
    "@show GLMM_θ;"
   ]
  }
 ],
 "metadata": {
  "@webio": {
   "lastCommId": null,
   "lastKernelId": null
  },
  "kernelspec": {
   "display_name": "Julia 1.6.2",
   "language": "julia",
   "name": "julia-1.6"
  },
  "language_info": {
   "file_extension": ".jl",
   "mimetype": "application/julia",
   "name": "julia",
   "version": "1.6.2"
  }
 },
 "nbformat": 4,
 "nbformat_minor": 4
}
