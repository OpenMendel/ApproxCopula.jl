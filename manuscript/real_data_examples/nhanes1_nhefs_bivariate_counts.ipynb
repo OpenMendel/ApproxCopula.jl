{
 "cells": [
  {
   "cell_type": "markdown",
   "metadata": {},
   "source": [
    "# NHANES I (NHEFS): Bivariate Count Real Data Example:\n",
    "\n",
    "In this notebook I use the [National Health and Nutrition Examination Survey Data I (NHANES 1) Epidemiologic Follow-up Study (NHEFS)](https://wwwn.cdc.gov/nchs/nhanes/nhefs/).\n",
    "\n",
    "The data can be found in the [R package: causaldata](https://cran.r-project.org/web/packages/causaldata/causaldata.pdf), we will use the `RCall` package to access it and transform it from wide to long format for analysis.\n",
    "\n",
    "We will compare the estimates from the random intercept model with Poisson Base using QuasiCopula.jl vs. MixedModels.jl\n",
    "    \n",
    "    - GROUPING: We will cluster by ID variable (seqn)\n",
    "    - COVARIATES: Average price of tobacco in the state of residence (price)\n",
    "    \n",
    "    - OUTCOMES: Each outcome vector is a bivariate vector of the following counts:\n",
    "    (1) NUMBER OF CIGARETTES SMOKED PER DAY IN 1971\n",
    "    (2) NUMBER OF CIGARETTES SMOKED PER DAY IN 1982"
   ]
  },
  {
   "cell_type": "code",
   "execution_count": 1,
   "metadata": {},
   "outputs": [
    {
     "name": "stdout",
     "output_type": "stream",
     "text": [
      "Julia Version 1.6.2\n",
      "Commit 1b93d53fc4 (2021-07-14 15:36 UTC)\n",
      "Platform Info:\n",
      "  OS: macOS (x86_64-apple-darwin18.7.0)\n",
      "  CPU: Intel(R) Core(TM) i9-9880H CPU @ 2.30GHz\n",
      "  WORD_SIZE: 64\n",
      "  LIBM: libopenlibm\n",
      "  LLVM: libLLVM-11.0.1 (ORCJIT, skylake)\n",
      "Environment:\n",
      "  JULIA_NUM_THREADS = 8\n"
     ]
    }
   ],
   "source": [
    "versioninfo()"
   ]
  },
  {
   "cell_type": "code",
   "execution_count": 2,
   "metadata": {},
   "outputs": [],
   "source": [
    "using QuasiCopula, LinearAlgebra, DataFrames, GLM\n",
    "using RCall, MixedModels, ProgressMeter\n",
    "ProgressMeter.ijulia_behavior(:clear);"
   ]
  },
  {
   "cell_type": "code",
   "execution_count": 3,
   "metadata": {},
   "outputs": [
    {
     "data": {
      "text/plain": [
       "8"
      ]
     },
     "execution_count": 3,
     "metadata": {},
     "output_type": "execute_result"
    }
   ],
   "source": [
    "BLAS.set_num_threads(1)\n",
    "Threads.nthreads()"
   ]
  },
  {
   "cell_type": "markdown",
   "metadata": {},
   "source": [
    "# Read in the dataset"
   ]
  },
  {
   "cell_type": "code",
   "execution_count": 4,
   "metadata": {},
   "outputs": [
    {
     "data": {
      "text/html": [
       "<div class=\"data-frame\"><p>3,074 rows × 5 columns</p><table class=\"data-frame\"><thead><tr><th></th><th>seqn</th><th>time</th><th>smoke</th><th>price</th><th>id</th></tr><tr><th></th><th title=\"String\">String</th><th title=\"Int64\">Int64</th><th title=\"Float64\">Float64</th><th title=\"Float64\">Float64</th><th title=\"Int64\">Int64</th></tr></thead><tbody><tr><th>1</th><td>233.0</td><td>1</td><td>30.0</td><td>2.18359</td><td>1</td></tr><tr><th>2</th><td>233.0</td><td>2</td><td>20.0</td><td>1.73999</td><td>1</td></tr><tr><th>3</th><td>235.0</td><td>1</td><td>20.0</td><td>2.34668</td><td>2</td></tr><tr><th>4</th><td>235.0</td><td>2</td><td>10.0</td><td>1.79736</td><td>2</td></tr><tr><th>5</th><td>244.0</td><td>1</td><td>20.0</td><td>1.56958</td><td>3</td></tr><tr><th>6</th><td>244.0</td><td>2</td><td>6.0</td><td>1.51343</td><td>3</td></tr><tr><th>7</th><td>245.0</td><td>1</td><td>3.0</td><td>1.50659</td><td>4</td></tr><tr><th>8</th><td>245.0</td><td>2</td><td>7.0</td><td>1.4519</td><td>4</td></tr><tr><th>9</th><td>252.0</td><td>1</td><td>20.0</td><td>2.34668</td><td>5</td></tr><tr><th>10</th><td>252.0</td><td>2</td><td>20.0</td><td>1.79736</td><td>5</td></tr><tr><th>11</th><td>257.0</td><td>1</td><td>10.0</td><td>2.20996</td><td>6</td></tr><tr><th>12</th><td>257.0</td><td>2</td><td>20.0</td><td>2.02588</td><td>6</td></tr><tr><th>13</th><td>419.0</td><td>1</td><td>25.0</td><td>2.34668</td><td>9</td></tr><tr><th>14</th><td>419.0</td><td>2</td><td>15.0</td><td>1.79736</td><td>9</td></tr><tr><th>15</th><td>420.0</td><td>1</td><td>20.0</td><td>2.34668</td><td>10</td></tr><tr><th>16</th><td>420.0</td><td>2</td><td>0.0</td><td>1.79736</td><td>10</td></tr><tr><th>17</th><td>428.0</td><td>1</td><td>30.0</td><td>2.34668</td><td>11</td></tr><tr><th>18</th><td>428.0</td><td>2</td><td>0.0</td><td>1.79736</td><td>11</td></tr><tr><th>19</th><td>431.0</td><td>1</td><td>40.0</td><td>2.34668</td><td>12</td></tr><tr><th>20</th><td>431.0</td><td>2</td><td>30.0</td><td>1.79736</td><td>12</td></tr><tr><th>21</th><td>443.0</td><td>1</td><td>10.0</td><td>2.34668</td><td>14</td></tr><tr><th>22</th><td>443.0</td><td>2</td><td>10.0</td><td>1.79736</td><td>14</td></tr><tr><th>23</th><td>455.0</td><td>1</td><td>10.0</td><td>2.34668</td><td>16</td></tr><tr><th>24</th><td>455.0</td><td>2</td><td>10.0</td><td>1.79736</td><td>16</td></tr><tr><th>25</th><td>457.0</td><td>1</td><td>20.0</td><td>2.31494</td><td>17</td></tr><tr><th>26</th><td>457.0</td><td>2</td><td>20.0</td><td>1.80396</td><td>17</td></tr><tr><th>27</th><td>596.0</td><td>1</td><td>2.0</td><td>2.2417</td><td>18</td></tr><tr><th>28</th><td>596.0</td><td>2</td><td>0.0</td><td>1.82812</td><td>18</td></tr><tr><th>29</th><td>603.0</td><td>1</td><td>20.0</td><td>2.2417</td><td>19</td></tr><tr><th>30</th><td>603.0</td><td>2</td><td>20.0</td><td>1.82812</td><td>19</td></tr><tr><th>&vellip;</th><td>&vellip;</td><td>&vellip;</td><td>&vellip;</td><td>&vellip;</td><td>&vellip;</td></tr></tbody></table></div>"
      ],
      "text/latex": [
       "\\begin{tabular}{r|ccccc}\n",
       "\t& seqn & time & smoke & price & id\\\\\n",
       "\t\\hline\n",
       "\t& String & Int64 & Float64 & Float64 & Int64\\\\\n",
       "\t\\hline\n",
       "\t1 & 233.0 & 1 & 30.0 & 2.18359 & 1 \\\\\n",
       "\t2 & 233.0 & 2 & 20.0 & 1.73999 & 1 \\\\\n",
       "\t3 & 235.0 & 1 & 20.0 & 2.34668 & 2 \\\\\n",
       "\t4 & 235.0 & 2 & 10.0 & 1.79736 & 2 \\\\\n",
       "\t5 & 244.0 & 1 & 20.0 & 1.56958 & 3 \\\\\n",
       "\t6 & 244.0 & 2 & 6.0 & 1.51343 & 3 \\\\\n",
       "\t7 & 245.0 & 1 & 3.0 & 1.50659 & 4 \\\\\n",
       "\t8 & 245.0 & 2 & 7.0 & 1.4519 & 4 \\\\\n",
       "\t9 & 252.0 & 1 & 20.0 & 2.34668 & 5 \\\\\n",
       "\t10 & 252.0 & 2 & 20.0 & 1.79736 & 5 \\\\\n",
       "\t11 & 257.0 & 1 & 10.0 & 2.20996 & 6 \\\\\n",
       "\t12 & 257.0 & 2 & 20.0 & 2.02588 & 6 \\\\\n",
       "\t13 & 419.0 & 1 & 25.0 & 2.34668 & 9 \\\\\n",
       "\t14 & 419.0 & 2 & 15.0 & 1.79736 & 9 \\\\\n",
       "\t15 & 420.0 & 1 & 20.0 & 2.34668 & 10 \\\\\n",
       "\t16 & 420.0 & 2 & 0.0 & 1.79736 & 10 \\\\\n",
       "\t17 & 428.0 & 1 & 30.0 & 2.34668 & 11 \\\\\n",
       "\t18 & 428.0 & 2 & 0.0 & 1.79736 & 11 \\\\\n",
       "\t19 & 431.0 & 1 & 40.0 & 2.34668 & 12 \\\\\n",
       "\t20 & 431.0 & 2 & 30.0 & 1.79736 & 12 \\\\\n",
       "\t21 & 443.0 & 1 & 10.0 & 2.34668 & 14 \\\\\n",
       "\t22 & 443.0 & 2 & 10.0 & 1.79736 & 14 \\\\\n",
       "\t23 & 455.0 & 1 & 10.0 & 2.34668 & 16 \\\\\n",
       "\t24 & 455.0 & 2 & 10.0 & 1.79736 & 16 \\\\\n",
       "\t25 & 457.0 & 1 & 20.0 & 2.31494 & 17 \\\\\n",
       "\t26 & 457.0 & 2 & 20.0 & 1.80396 & 17 \\\\\n",
       "\t27 & 596.0 & 1 & 2.0 & 2.2417 & 18 \\\\\n",
       "\t28 & 596.0 & 2 & 0.0 & 1.82812 & 18 \\\\\n",
       "\t29 & 603.0 & 1 & 20.0 & 2.2417 & 19 \\\\\n",
       "\t30 & 603.0 & 2 & 20.0 & 1.82812 & 19 \\\\\n",
       "\t$\\dots$ & $\\dots$ & $\\dots$ & $\\dots$ & $\\dots$ & $\\dots$ \\\\\n",
       "\\end{tabular}\n"
      ],
      "text/plain": [
       "\u001b[1m3074×5 DataFrame\u001b[0m\n",
       "\u001b[1m  Row \u001b[0m│\u001b[1m seqn    \u001b[0m\u001b[1m time  \u001b[0m\u001b[1m smoke   \u001b[0m\u001b[1m price   \u001b[0m\u001b[1m id    \u001b[0m\n",
       "\u001b[1m      \u001b[0m│\u001b[90m String  \u001b[0m\u001b[90m Int64 \u001b[0m\u001b[90m Float64 \u001b[0m\u001b[90m Float64 \u001b[0m\u001b[90m Int64 \u001b[0m\n",
       "──────┼─────────────────────────────────────────\n",
       "    1 │ 233.0        1     30.0  2.18359      1\n",
       "    2 │ 233.0        2     20.0  1.73999      1\n",
       "    3 │ 235.0        1     20.0  2.34668      2\n",
       "    4 │ 235.0        2     10.0  1.79736      2\n",
       "    5 │ 244.0        1     20.0  1.56958      3\n",
       "    6 │ 244.0        2      6.0  1.51343      3\n",
       "    7 │ 245.0        1      3.0  1.50659      4\n",
       "    8 │ 245.0        2      7.0  1.4519       4\n",
       "    9 │ 252.0        1     20.0  2.34668      5\n",
       "   10 │ 252.0        2     20.0  1.79736      5\n",
       "   11 │ 257.0        1     10.0  2.20996      6\n",
       "  ⋮   │    ⋮       ⋮       ⋮        ⋮       ⋮\n",
       " 3065 │ 25014.0      1     40.0  2.16797   1625\n",
       " 3066 │ 25014.0      2     40.0  1.94019   1625\n",
       " 3067 │ 25016.0      1     20.0  2.16797   1626\n",
       " 3068 │ 25016.0      2     20.0  1.94019   1626\n",
       " 3069 │ 25024.0      1     40.0  1.80078   1627\n",
       " 3070 │ 25024.0      2     80.0  1.64771   1627\n",
       " 3071 │ 25032.0      1     15.0  2.16797   1628\n",
       " 3072 │ 25032.0      2     20.0  1.94019   1628\n",
       " 3073 │ 25061.0      1     30.0  2.16797   1629\n",
       " 3074 │ 25061.0      2      0.0  1.94019   1629\n",
       "\u001b[36m                               3053 rows omitted\u001b[0m"
      ]
     },
     "execution_count": 4,
     "metadata": {},
     "output_type": "execute_result"
    }
   ],
   "source": [
    "R\"\"\"\n",
    "    # load NHEFS data\n",
    "    suppressWarnings(library(causaldata, warn.conflicts=FALSE))\n",
    "    data(nhefs, package = \"causaldata\")\n",
    "    \n",
    "    # keep both count outcomes from 1971 and 1982\n",
    "    nhefs$smokeintensity71 = nhefs$smokeintensity\n",
    "    nhefs$smokeintensity82 = nhefs$smokeintensity + nhefs$smkintensity82_71\n",
    "    \n",
    "    # transform data from wide format to long format\n",
    "    suppressWarnings(library(dplyr, warn.conflicts=FALSE))\n",
    "    nhefs = nhefs %>% select(seqn, smokeintensity71, smokeintensity82, price71, price82)\n",
    "    nhefs = as.data.frame(nhefs)\n",
    "    nhefs_long = reshape(nhefs, direction=\"long\",\n",
    "    varying=list(c(\"smokeintensity71\",\"smokeintensity82\"), c(\"price71\",\"price82\")), \n",
    "    v.names=c(\"smoke\",\"price\"))\n",
    "    df = nhefs_long[order(nhefs_long$seqn),]\n",
    "    df = df[complete.cases(df),]\n",
    "\"\"\"\n",
    "@rget df\n",
    "df[!, :seqn] .= string.(df[!, :seqn])\n",
    "df"
   ]
  },
  {
   "cell_type": "markdown",
   "metadata": {},
   "source": [
    "### Form the random intercept model at fit using QuasiCopula.jl"
   ]
  },
  {
   "cell_type": "code",
   "execution_count": 9,
   "metadata": {},
   "outputs": [
    {
     "data": {
      "text/plain": [
       "Quasi-Copula Variance Component Model\n",
       "  * base distribution: Poisson\n",
       "  * link function: LogLink\n",
       "  * number of clusters: 1537\n",
       "  * cluster size min, max: 2, 2\n",
       "  * number of variance components: 1\n",
       "  * number of fixed effects: 2\n",
       "  * L2 ridge penalty on variance components: true"
      ]
     },
     "execution_count": 9,
     "metadata": {},
     "output_type": "execute_result"
    }
   ],
   "source": [
    "y = :smoke\n",
    "grouping = :seqn\n",
    "covariates = [:price]\n",
    "\n",
    "d = Poisson()\n",
    "link = LogLink()\n",
    "model = VC_model(df, y, grouping, covariates, d, link; penalized = true)"
   ]
  },
  {
   "cell_type": "code",
   "execution_count": 10,
   "metadata": {},
   "outputs": [
    {
     "name": "stdout",
     "output_type": "stream",
     "text": [
      "initializing β using Newton's Algorithm under Independence Assumption\n",
      "gcm.β = [2.1159279480362807, 0.39787703892248655]\n",
      "initializing variance components using MM-Algorithm\n",
      "gcm.θ = [5.569804005046703]\n",
      "Total number of variables............................:        3\n",
      "                     variables with only lower bounds:        1\n",
      "                variables with lower and upper bounds:        0\n",
      "                     variables with only upper bounds:        0\n",
      "Total number of equality constraints.................:        0\n",
      "Total number of inequality constraints...............:        0\n",
      "        inequality constraints with only lower bounds:        0\n",
      "   inequality constraints with lower and upper bounds:        0\n",
      "        inequality constraints with only upper bounds:        0\n",
      "\n",
      "\n",
      "Number of Iterations....: 18\n",
      "\n",
      "                                   (scaled)                 (unscaled)\n",
      "Objective...............:   2.5561938641713874e+02    2.1883035067236062e+04\n",
      "Dual infeasibility......:   1.0287922697417820e-09    8.8072730441979274e-08\n",
      "Constraint violation....:   0.0000000000000000e+00    0.0000000000000000e+00\n",
      "Complementarity.........:   9.9999999999995761e-12    8.5607885121532876e-10\n",
      "Overall NLP error.......:   1.0287922697417820e-09    8.8072730441979274e-08\n",
      "\n",
      "\n",
      "Number of objective function evaluations             = 32\n",
      "Number of objective gradient evaluations             = 19\n",
      "Number of equality constraint evaluations            = 0\n",
      "Number of inequality constraint evaluations          = 0\n",
      "Number of equality constraint Jacobian evaluations   = 0\n",
      "Number of inequality constraint Jacobian evaluations = 0\n",
      "Number of Lagrangian Hessian evaluations             = 0\n",
      "Total CPU secs in IPOPT (w/o function evaluations)   =      0.074\n",
      "Total CPU secs in NLP function evaluations           =      0.067\n",
      "\n",
      "EXIT: Optimal Solution Found.\n",
      "  0.088162 seconds (247.40 k allocations: 4.405 MiB)\n"
     ]
    },
    {
     "data": {
      "text/plain": [
       "-21883.035067236062"
      ]
     },
     "execution_count": 10,
     "metadata": {},
     "output_type": "execute_result"
    }
   ],
   "source": [
    "@time QuasiCopula.fit!(model)"
   ]
  },
  {
   "cell_type": "code",
   "execution_count": 11,
   "metadata": {},
   "outputs": [
    {
     "name": "stdout",
     "output_type": "stream",
     "text": [
      "model.β = [2.0440750847817437, 0.4299903917427388]\n",
      "model.θ = [0.5299623044726194]\n"
     ]
    }
   ],
   "source": [
    "@show model.β\n",
    "@show model.θ;"
   ]
  },
  {
   "cell_type": "markdown",
   "metadata": {},
   "source": [
    "### Fit using MixedModels.jl\n",
    "\n",
    "Now we fit the same model using MixedModels.jl with 25 Gaussian quadrature points. "
   ]
  },
  {
   "cell_type": "code",
   "execution_count": 12,
   "metadata": {},
   "outputs": [
    {
     "name": "stderr",
     "output_type": "stream",
     "text": [
      "\r",
      "\u001b[32mMinimizing 76 \t Time: 0:00:00 ( 3.41 ms/it)\u001b[39m\n"
     ]
    },
    {
     "name": "stdout",
     "output_type": "stream",
     "text": [
      "  0.261816 seconds (34.23 k allocations: 1.293 MiB)\n",
      "GLMM_β = [1.5148402125927902, 0.5984329913583817]\n",
      "GLMM_θ = 0.4823489292459855\n"
     ]
    }
   ],
   "source": [
    "glmm_formula = @formula(smoke ~ 1 + price + (1|seqn));\n",
    "mdl = GeneralizedLinearMixedModel(glmm_formula, df, d, link)\n",
    "@time MixedModels.fit!(mdl; nAGQ = 25);\n",
    "GLMM_β = mdl.beta\n",
    "GLMM_θ = mdl.σs[1][1]^2\n",
    "@show GLMM_β\n",
    "@show GLMM_θ;"
   ]
  }
 ],
 "metadata": {
  "@webio": {
   "lastCommId": null,
   "lastKernelId": null
  },
  "kernelspec": {
   "display_name": "Julia 1.6.2",
   "language": "julia",
   "name": "julia-1.6"
  },
  "language_info": {
   "file_extension": ".jl",
   "mimetype": "application/julia",
   "name": "julia",
   "version": "1.6.2"
  }
 },
 "nbformat": 4,
 "nbformat_minor": 4
}
