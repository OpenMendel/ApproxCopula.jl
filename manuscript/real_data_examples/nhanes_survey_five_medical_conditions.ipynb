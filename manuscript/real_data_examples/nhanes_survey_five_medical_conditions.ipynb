{
 "cells": [
  {
   "cell_type": "markdown",
   "metadata": {},
   "source": [
    "# NHANES: Medical Conditions Real Data Example:\n",
    "\n",
    "In this notebook I use the \"Questionnaire data\" from [NHANES 2017-2020 datasets](https://wwwn.cdc.gov/nchs/nhanes/search/datapage.aspx?Component=Questionnaire&Cycle=2017-2020).\n",
    "\n",
    "We will compare the estimates from the random intercept model with Bernoulli Base using QuasiCopula.jl vs. MixedModels.jl using \"Medical Conditions\" Questionnaire data, the data dictionary can be found [here](https://wwwn.cdc.gov/Nchs/Nhanes/2017-2018/P_MCQ.htm#).\n",
    "    \n",
    "    - We will cluster by ID variable SEQN and control for weight in kg\n",
    "    \n",
    "    - Each outcome vector is a vector of length 5 of the following indicators:\n",
    "    (1) \"MCQ010\": Ever been told you have asthma {1 = Yes, 0 = No}\n",
    "    (2) \"MCQ080\": Doctor ever said you were overweight {1 = Yes, 0 = No}\n",
    "    (3) \"MCQ160A\": Doctor ever said you had arthritis {1 = Yes, 0 = No}\n",
    "    (4) \"MCQ160P\": Ever told you had COPD, emphysema, ChB {1 = Yes, 0 = No}\n",
    "    (5) \"MCQ371B\": Are you now increasing exercise {1 = Yes, 0 = No}"
   ]
  },
  {
   "cell_type": "code",
   "execution_count": 1,
   "metadata": {},
   "outputs": [
    {
     "name": "stdout",
     "output_type": "stream",
     "text": [
      "Julia Version 1.6.2\n",
      "Commit 1b93d53fc4 (2021-07-14 15:36 UTC)\n",
      "Platform Info:\n",
      "  OS: macOS (x86_64-apple-darwin18.7.0)\n",
      "  CPU: Intel(R) Core(TM) i9-9880H CPU @ 2.30GHz\n",
      "  WORD_SIZE: 64\n",
      "  LIBM: libopenlibm\n",
      "  LLVM: libLLVM-11.0.1 (ORCJIT, skylake)\n",
      "Environment:\n",
      "  JULIA_NUM_THREADS = 8\n"
     ]
    }
   ],
   "source": [
    "versioninfo()"
   ]
  },
  {
   "cell_type": "code",
   "execution_count": 2,
   "metadata": {},
   "outputs": [],
   "source": [
    "using QuasiCopula, CSV, LinearAlgebra, DataFrames, GLM, MixedModels"
   ]
  },
  {
   "cell_type": "code",
   "execution_count": 3,
   "metadata": {},
   "outputs": [
    {
     "data": {
      "text/plain": [
       "8"
      ]
     },
     "execution_count": 3,
     "metadata": {},
     "output_type": "execute_result"
    }
   ],
   "source": [
    "BLAS.set_num_threads(1)\n",
    "Threads.nthreads()"
   ]
  },
  {
   "cell_type": "markdown",
   "metadata": {},
   "source": [
    "# Read in the dataset"
   ]
  },
  {
   "cell_type": "code",
   "execution_count": 4,
   "metadata": {},
   "outputs": [
    {
     "data": {
      "text/html": [
       "<div class=\"data-frame\"><p>42,010 rows × 6 columns</p><table class=\"data-frame\"><thead><tr><th></th><th>Column1</th><th>SEQN</th><th>Condition</th><th>Value</th><th>value</th><th>weight</th></tr><tr><th></th><th title=\"Int64\">Int64</th><th title=\"String\">String</th><th title=\"String\">String</th><th title=\"Int64\">Int64</th><th title=\"String\">String</th><th title=\"Float64\">Float64</th></tr></thead><tbody><tr><th>1</th><td>1</td><td>109266</td><td>MCQ010</td><td>0</td><td>BMXWT</td><td>97.1</td></tr><tr><th>2</th><td>2</td><td>109266</td><td>MCQ080</td><td>1</td><td>BMXWT</td><td>97.1</td></tr><tr><th>3</th><td>3</td><td>109266</td><td>MCQ160A</td><td>0</td><td>BMXWT</td><td>97.1</td></tr><tr><th>4</th><td>4</td><td>109266</td><td>MCQ160P</td><td>0</td><td>BMXWT</td><td>97.1</td></tr><tr><th>5</th><td>5</td><td>109266</td><td>MCQ371B</td><td>1</td><td>BMXWT</td><td>97.1</td></tr><tr><th>6</th><td>6</td><td>109271</td><td>MCQ010</td><td>1</td><td>BMXWT</td><td>98.8</td></tr><tr><th>7</th><td>7</td><td>109271</td><td>MCQ080</td><td>0</td><td>BMXWT</td><td>98.8</td></tr><tr><th>8</th><td>8</td><td>109271</td><td>MCQ160A</td><td>1</td><td>BMXWT</td><td>98.8</td></tr><tr><th>9</th><td>9</td><td>109271</td><td>MCQ160P</td><td>1</td><td>BMXWT</td><td>98.8</td></tr><tr><th>10</th><td>10</td><td>109271</td><td>MCQ371B</td><td>1</td><td>BMXWT</td><td>98.8</td></tr><tr><th>11</th><td>11</td><td>109273</td><td>MCQ010</td><td>0</td><td>BMXWT</td><td>74.3</td></tr><tr><th>12</th><td>12</td><td>109273</td><td>MCQ080</td><td>1</td><td>BMXWT</td><td>74.3</td></tr><tr><th>13</th><td>13</td><td>109273</td><td>MCQ160A</td><td>0</td><td>BMXWT</td><td>74.3</td></tr><tr><th>14</th><td>14</td><td>109273</td><td>MCQ160P</td><td>0</td><td>BMXWT</td><td>74.3</td></tr><tr><th>15</th><td>15</td><td>109273</td><td>MCQ371B</td><td>0</td><td>BMXWT</td><td>74.3</td></tr><tr><th>16</th><td>16</td><td>109274</td><td>MCQ010</td><td>0</td><td>BMXWT</td><td>103.7</td></tr><tr><th>17</th><td>17</td><td>109274</td><td>MCQ080</td><td>1</td><td>BMXWT</td><td>103.7</td></tr><tr><th>18</th><td>18</td><td>109274</td><td>MCQ160A</td><td>1</td><td>BMXWT</td><td>103.7</td></tr><tr><th>19</th><td>19</td><td>109274</td><td>MCQ160P</td><td>0</td><td>BMXWT</td><td>103.7</td></tr><tr><th>20</th><td>20</td><td>109274</td><td>MCQ371B</td><td>1</td><td>BMXWT</td><td>103.7</td></tr><tr><th>21</th><td>21</td><td>109282</td><td>MCQ010</td><td>0</td><td>BMXWT</td><td>83.3</td></tr><tr><th>22</th><td>22</td><td>109282</td><td>MCQ080</td><td>0</td><td>BMXWT</td><td>83.3</td></tr><tr><th>23</th><td>23</td><td>109282</td><td>MCQ160A</td><td>0</td><td>BMXWT</td><td>83.3</td></tr><tr><th>24</th><td>24</td><td>109282</td><td>MCQ160P</td><td>0</td><td>BMXWT</td><td>83.3</td></tr><tr><th>25</th><td>25</td><td>109282</td><td>MCQ371B</td><td>0</td><td>BMXWT</td><td>83.3</td></tr><tr><th>26</th><td>26</td><td>109284</td><td>MCQ010</td><td>0</td><td>BMXWT</td><td>91.1</td></tr><tr><th>27</th><td>27</td><td>109284</td><td>MCQ080</td><td>1</td><td>BMXWT</td><td>91.1</td></tr><tr><th>28</th><td>28</td><td>109284</td><td>MCQ160A</td><td>0</td><td>BMXWT</td><td>91.1</td></tr><tr><th>29</th><td>29</td><td>109284</td><td>MCQ160P</td><td>0</td><td>BMXWT</td><td>91.1</td></tr><tr><th>30</th><td>30</td><td>109284</td><td>MCQ371B</td><td>1</td><td>BMXWT</td><td>91.1</td></tr><tr><th>&vellip;</th><td>&vellip;</td><td>&vellip;</td><td>&vellip;</td><td>&vellip;</td><td>&vellip;</td><td>&vellip;</td></tr></tbody></table></div>"
      ],
      "text/latex": [
       "\\begin{tabular}{r|cccccc}\n",
       "\t& Column1 & SEQN & Condition & Value & value & weight\\\\\n",
       "\t\\hline\n",
       "\t& Int64 & String & String & Int64 & String & Float64\\\\\n",
       "\t\\hline\n",
       "\t1 & 1 & 109266 & MCQ010 & 0 & BMXWT & 97.1 \\\\\n",
       "\t2 & 2 & 109266 & MCQ080 & 1 & BMXWT & 97.1 \\\\\n",
       "\t3 & 3 & 109266 & MCQ160A & 0 & BMXWT & 97.1 \\\\\n",
       "\t4 & 4 & 109266 & MCQ160P & 0 & BMXWT & 97.1 \\\\\n",
       "\t5 & 5 & 109266 & MCQ371B & 1 & BMXWT & 97.1 \\\\\n",
       "\t6 & 6 & 109271 & MCQ010 & 1 & BMXWT & 98.8 \\\\\n",
       "\t7 & 7 & 109271 & MCQ080 & 0 & BMXWT & 98.8 \\\\\n",
       "\t8 & 8 & 109271 & MCQ160A & 1 & BMXWT & 98.8 \\\\\n",
       "\t9 & 9 & 109271 & MCQ160P & 1 & BMXWT & 98.8 \\\\\n",
       "\t10 & 10 & 109271 & MCQ371B & 1 & BMXWT & 98.8 \\\\\n",
       "\t11 & 11 & 109273 & MCQ010 & 0 & BMXWT & 74.3 \\\\\n",
       "\t12 & 12 & 109273 & MCQ080 & 1 & BMXWT & 74.3 \\\\\n",
       "\t13 & 13 & 109273 & MCQ160A & 0 & BMXWT & 74.3 \\\\\n",
       "\t14 & 14 & 109273 & MCQ160P & 0 & BMXWT & 74.3 \\\\\n",
       "\t15 & 15 & 109273 & MCQ371B & 0 & BMXWT & 74.3 \\\\\n",
       "\t16 & 16 & 109274 & MCQ010 & 0 & BMXWT & 103.7 \\\\\n",
       "\t17 & 17 & 109274 & MCQ080 & 1 & BMXWT & 103.7 \\\\\n",
       "\t18 & 18 & 109274 & MCQ160A & 1 & BMXWT & 103.7 \\\\\n",
       "\t19 & 19 & 109274 & MCQ160P & 0 & BMXWT & 103.7 \\\\\n",
       "\t20 & 20 & 109274 & MCQ371B & 1 & BMXWT & 103.7 \\\\\n",
       "\t21 & 21 & 109282 & MCQ010 & 0 & BMXWT & 83.3 \\\\\n",
       "\t22 & 22 & 109282 & MCQ080 & 0 & BMXWT & 83.3 \\\\\n",
       "\t23 & 23 & 109282 & MCQ160A & 0 & BMXWT & 83.3 \\\\\n",
       "\t24 & 24 & 109282 & MCQ160P & 0 & BMXWT & 83.3 \\\\\n",
       "\t25 & 25 & 109282 & MCQ371B & 0 & BMXWT & 83.3 \\\\\n",
       "\t26 & 26 & 109284 & MCQ010 & 0 & BMXWT & 91.1 \\\\\n",
       "\t27 & 27 & 109284 & MCQ080 & 1 & BMXWT & 91.1 \\\\\n",
       "\t28 & 28 & 109284 & MCQ160A & 0 & BMXWT & 91.1 \\\\\n",
       "\t29 & 29 & 109284 & MCQ160P & 0 & BMXWT & 91.1 \\\\\n",
       "\t30 & 30 & 109284 & MCQ371B & 1 & BMXWT & 91.1 \\\\\n",
       "\t$\\dots$ & $\\dots$ & $\\dots$ & $\\dots$ & $\\dots$ & $\\dots$ & $\\dots$ \\\\\n",
       "\\end{tabular}\n"
      ],
      "text/plain": [
       "\u001b[1m42010×6 DataFrame\u001b[0m\n",
       "\u001b[1m   Row \u001b[0m│\u001b[1m Column1 \u001b[0m\u001b[1m SEQN   \u001b[0m\u001b[1m Condition \u001b[0m\u001b[1m Value \u001b[0m\u001b[1m value  \u001b[0m\u001b[1m weight  \u001b[0m\n",
       "\u001b[1m       \u001b[0m│\u001b[90m Int64   \u001b[0m\u001b[90m String \u001b[0m\u001b[90m String    \u001b[0m\u001b[90m Int64 \u001b[0m\u001b[90m String \u001b[0m\u001b[90m Float64 \u001b[0m\n",
       "───────┼────────────────────────────────────────────────────\n",
       "     1 │       1  109266  MCQ010         0  BMXWT      97.1\n",
       "     2 │       2  109266  MCQ080         1  BMXWT      97.1\n",
       "     3 │       3  109266  MCQ160A        0  BMXWT      97.1\n",
       "     4 │       4  109266  MCQ160P        0  BMXWT      97.1\n",
       "     5 │       5  109266  MCQ371B        1  BMXWT      97.1\n",
       "     6 │       6  109271  MCQ010         1  BMXWT      98.8\n",
       "     7 │       7  109271  MCQ080         0  BMXWT      98.8\n",
       "     8 │       8  109271  MCQ160A        1  BMXWT      98.8\n",
       "     9 │       9  109271  MCQ160P        1  BMXWT      98.8\n",
       "    10 │      10  109271  MCQ371B        1  BMXWT      98.8\n",
       "    11 │      11  109273  MCQ010         0  BMXWT      74.3\n",
       "   ⋮   │    ⋮       ⋮         ⋮        ⋮      ⋮        ⋮\n",
       " 42001 │   42001  124821  MCQ010         1  BMXWT      79.5\n",
       " 42002 │   42002  124821  MCQ080         0  BMXWT      79.5\n",
       " 42003 │   42003  124821  MCQ160A        1  BMXWT      79.5\n",
       " 42004 │   42004  124821  MCQ160P        0  BMXWT      79.5\n",
       " 42005 │   42005  124821  MCQ371B        1  BMXWT      79.5\n",
       " 42006 │   42006  124822  MCQ010         0  BMXWT      59.7\n",
       " 42007 │   42007  124822  MCQ080         0  BMXWT      59.7\n",
       " 42008 │   42008  124822  MCQ160A        0  BMXWT      59.7\n",
       " 42009 │   42009  124822  MCQ160P        0  BMXWT      59.7\n",
       " 42010 │   42010  124822  MCQ371B        1  BMXWT      59.7\n",
       "\u001b[36m                                          41989 rows omitted\u001b[0m"
      ]
     },
     "execution_count": 4,
     "metadata": {},
     "output_type": "execute_result"
    }
   ],
   "source": [
    "df = CSV.read(\"nhanes_medicalconditions_random_5.csv\", DataFrame)\n",
    "df[!, :SEQN] .= string.(df[!, :SEQN])\n",
    "df"
   ]
  },
  {
   "cell_type": "code",
   "execution_count": 9,
   "metadata": {},
   "outputs": [
    {
     "data": {
      "text/plain": [
       "Quasi-Copula Variance Component Model\n",
       "  * base distribution: Bernoulli\n",
       "  * link function: LogitLink\n",
       "  * number of clusters: 8402\n",
       "  * cluster size min, max: 5, 5\n",
       "  * number of variance components: 1\n",
       "  * number of fixed effects: 2"
      ]
     },
     "execution_count": 9,
     "metadata": {},
     "output_type": "execute_result"
    }
   ],
   "source": [
    "y = :Value\n",
    "grouping = :SEQN\n",
    "covariates = [:weight]\n",
    "\n",
    "d = Bernoulli()\n",
    "link = LogitLink()\n",
    "model = VC_model(df, y, grouping, covariates, d, link)"
   ]
  },
  {
   "cell_type": "code",
   "execution_count": 10,
   "metadata": {},
   "outputs": [
    {
     "name": "stdout",
     "output_type": "stream",
     "text": [
      "initializing β using Newton's Algorithm under Independence Assumption\n",
      "gcm.β = [-2.116541325648103, 0.015478924283567065]\n",
      "initializing variance components using MM-Algorithm\n",
      "gcm.θ = [0.01141672501325964]\n",
      "Total number of variables............................:        3\n",
      "                     variables with only lower bounds:        1\n",
      "                variables with lower and upper bounds:        0\n",
      "                     variables with only upper bounds:        0\n",
      "Total number of equality constraints.................:        0\n",
      "Total number of inequality constraints...............:        0\n",
      "        inequality constraints with only lower bounds:        0\n",
      "   inequality constraints with lower and upper bounds:        0\n",
      "        inequality constraints with only upper bounds:        0\n",
      "\n",
      "\n",
      "Number of Iterations....: 16\n",
      "\n",
      "                                   (scaled)                 (unscaled)\n",
      "Objective...............:   4.1507467478198083e+02    2.5408247200435046e+04\n",
      "Dual infeasibility......:   2.6581628141886092e-08    1.6271592073735519e-06\n",
      "Constraint violation....:   0.0000000000000000e+00    0.0000000000000000e+00\n",
      "Complementarity.........:   9.9999999999999962e-12    6.1213677307055151e-10\n",
      "Overall NLP error.......:   2.6581628141886092e-08    1.6271592073735519e-06\n",
      "\n",
      "\n",
      "Number of objective function evaluations             = 44\n",
      "Number of objective gradient evaluations             = 17\n",
      "Number of equality constraint evaluations            = 0\n",
      "Number of inequality constraint evaluations          = 0\n",
      "Number of equality constraint Jacobian evaluations   = 0\n",
      "Number of inequality constraint Jacobian evaluations = 0\n",
      "Number of Lagrangian Hessian evaluations             = 0\n",
      "Total CPU secs in IPOPT (w/o function evaluations)   =      0.080\n",
      "Total CPU secs in NLP function evaluations           =      0.713\n",
      "\n",
      "EXIT: Optimal Solution Found.\n",
      "  0.205374 seconds (1.59 M allocations: 29.556 MiB)\n"
     ]
    },
    {
     "data": {
      "text/plain": [
       "-25408.247200435046"
      ]
     },
     "execution_count": 10,
     "metadata": {},
     "output_type": "execute_result"
    }
   ],
   "source": [
    "@time QuasiCopula.fit!(model)"
   ]
  },
  {
   "cell_type": "code",
   "execution_count": 11,
   "metadata": {},
   "outputs": [
    {
     "name": "stdout",
     "output_type": "stream",
     "text": [
      "model.β = [-2.1498197674367825, 0.01573587485174485]\n",
      "model.θ = [0.012480931117962406]\n"
     ]
    }
   ],
   "source": [
    "@show model.β\n",
    "@show model.θ;"
   ]
  },
  {
   "cell_type": "markdown",
   "metadata": {},
   "source": [
    "### Fit using MixedModels.jl\n",
    "\n",
    "Now we fit the same model using MixedModels.jl with 25 Gaussian quadrature points. "
   ]
  },
  {
   "cell_type": "code",
   "execution_count": 12,
   "metadata": {},
   "outputs": [
    {
     "name": "stderr",
     "output_type": "stream",
     "text": [
      "┌ Warning: ProgressMeter by default refresh meters with additional information in IJulia via `IJulia.clear_output`, which clears all outputs in the cell. \n",
      "│  - To prevent this behaviour, do `ProgressMeter.ijulia_behavior(:append)`. \n",
      "│  - To disable this warning message, do `ProgressMeter.ijulia_behavior(:clear)`.\n",
      "└ @ ProgressMeter /Users/sarahji/.julia/packages/ProgressMeter/Vf8un/src/ProgressMeter.jl:620\n",
      "\r",
      "\u001b[32mMinimizing 94 \t Time: 0:00:03 (42.18 ms/it)\u001b[39m\n"
     ]
    },
    {
     "name": "stdout",
     "output_type": "stream",
     "text": [
      "  3.976660 seconds (35.06 k allocations: 1.790 MiB)\n",
      "GLMM_β = [-2.147465147943177, 0.01570120614446389]\n",
      "GLMM_θ = 0.06418738295383387\n"
     ]
    }
   ],
   "source": [
    "glmm_formula = @formula(Value ~ 1 + weight + (1|SEQN));\n",
    "mdl = GeneralizedLinearMixedModel(glmm_formula, df, d, link)\n",
    "@time MixedModels.fit!(mdl; nAGQ = 25);\n",
    "GLMM_β = mdl.beta\n",
    "GLMM_θ = mdl.σs[1][1]^2\n",
    "@show GLMM_β\n",
    "@show GLMM_θ;"
   ]
  },
  {
   "cell_type": "markdown",
   "metadata": {},
   "source": [
    "# Takeaways:\n",
    "\n",
    " - Estimates are similar\n",
    " - Ours is faster"
   ]
  }
 ],
 "metadata": {
  "@webio": {
   "lastCommId": null,
   "lastKernelId": null
  },
  "kernelspec": {
   "display_name": "Julia 1.6.2",
   "language": "julia",
   "name": "julia-1.6"
  },
  "language_info": {
   "file_extension": ".jl",
   "mimetype": "application/julia",
   "name": "julia",
   "version": "1.6.2"
  }
 },
 "nbformat": 4,
 "nbformat_minor": 4
}
