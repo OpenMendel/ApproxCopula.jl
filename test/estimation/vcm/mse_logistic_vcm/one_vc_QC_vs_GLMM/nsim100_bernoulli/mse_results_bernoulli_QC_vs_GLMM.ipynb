{
 "cells": [
  {
   "cell_type": "markdown",
   "metadata": {},
   "source": [
    "## Bernoulli VCM Results \n",
    "\n",
    "This notebook goes over the code needed to reproduce the results from the MSE and time figures for the Bernoulli base distribution with Logit Link and covariance matrix $\\Gamma$ structured under variance component model framework as follows:\n",
    "\n",
    "$$\n",
    "\\Gamma = \\sigma_1 * \\mathbf{1_{n} 1_{n}^\\top}\n",
    "$$\n",
    "\n",
    "We run each scenario 100 times and compare the fit with that of GLMM's random intercept model from MixedModels.jl. "
   ]
  },
  {
   "cell_type": "code",
   "execution_count": 1,
   "metadata": {},
   "outputs": [
    {
     "name": "stdout",
     "output_type": "stream",
     "text": [
      "Julia Version 1.6.2\n",
      "Commit 1b93d53fc4 (2021-07-14 15:36 UTC)\n",
      "Platform Info:\n",
      "  OS: macOS (x86_64-apple-darwin18.7.0)\n",
      "  CPU: Intel(R) Core(TM) i9-9880H CPU @ 2.30GHz\n",
      "  WORD_SIZE: 64\n",
      "  LIBM: libopenlibm\n",
      "  LLVM: libLLVM-11.0.1 (ORCJIT, skylake)\n"
     ]
    }
   ],
   "source": [
    "versioninfo()"
   ]
  },
  {
   "cell_type": "code",
   "execution_count": 2,
   "metadata": {},
   "outputs": [],
   "source": [
    "using GLMCopula, DelimitedFiles, LinearAlgebra, Random, GLM\n",
    "using Random, Roots, SpecialFunctions, DataFrames"
   ]
  },
  {
   "cell_type": "code",
   "execution_count": 3,
   "metadata": {},
   "outputs": [
    {
     "data": {
      "text/plain": [
       "100"
      ]
     },
     "execution_count": 3,
     "metadata": {},
     "output_type": "execute_result"
    }
   ],
   "source": [
    "p = 3    # number of fixed effects, including intercept\n",
    "m = 1    # number of variance components\n",
    "# true parameter values\n",
    "βtrue = ones(p)\n",
    "Σtrue = [0.1]\n",
    "\n",
    "# generate data\n",
    "intervals = zeros(p + m, 2) #hold intervals\n",
    "curcoverage = zeros(p + m) #hold current coverage resutls\n",
    "trueparams = [βtrue; Σtrue] #hold true parameters\n",
    "\n",
    "#simulation parameters\n",
    "samplesizes = [100; 1000; 10000]\n",
    "ns = [2; 5; 10; 15; 20; 25]\n",
    "nsims = 100"
   ]
  },
  {
   "cell_type": "code",
   "execution_count": 4,
   "metadata": {},
   "outputs": [
    {
     "name": "stderr",
     "output_type": "stream",
     "text": [
      "┌ Info: reading in the files with results\n",
      "└ @ Main In[4]:1\n"
     ]
    },
    {
     "data": {
      "text/plain": [
       "1800-element Vector{Float64}:\n",
       " 0.089504658\n",
       " 0.090575198\n",
       " 0.104667413\n",
       " 0.130849897\n",
       " 0.119530977\n",
       " 0.119245044\n",
       " 0.174908457\n",
       " 0.149012324\n",
       " 0.173845657\n",
       " 0.102049783\n",
       " 0.094210366\n",
       " 0.184713357\n",
       " 0.157191159\n",
       " ⋮\n",
       " 7.066568967\n",
       " 8.89619971\n",
       " 8.929004183\n",
       " 8.355083312\n",
       " 8.313687096\n",
       " 8.170997987\n",
       " 6.776775029\n",
       " 8.156323865\n",
       " 7.42781396\n",
       " 7.049692122\n",
       " 8.819699854\n",
       " 6.263928285"
      ]
     },
     "execution_count": 4,
     "metadata": {},
     "output_type": "execute_result"
    }
   ],
   "source": [
    "@info \"reading in the files with results\"\n",
    "βMseresult = vec(readdlm(\"mse_beta_multivariate_logistic_vcm$(nsims)reps_sim.csv\", ','))\n",
    "ΣMseresult = vec(readdlm(\"mse_Sigma_multivariate_logistic_vcm$(nsims)reps_sim.csv\", ','))\n",
    "fittimes_QC = vec(readdlm(\"fittimes_multivariate_logistic_vcm$(nsims)reps_sim.csv\", ','))"
   ]
  },
  {
   "cell_type": "code",
   "execution_count": 5,
   "metadata": {},
   "outputs": [
    {
     "data": {
      "text/plain": [
       "1800-element Vector{Float64}:\n",
       "  1.331191769\n",
       "  0.019016142\n",
       "  0.019641954\n",
       "  0.016183717\n",
       "  0.014963535\n",
       "  0.015947859\n",
       "  0.013046647\n",
       "  0.018384432\n",
       "  0.019989725\n",
       "  0.016649082\n",
       "  0.015243163\n",
       "  0.015576509\n",
       "  0.015094806\n",
       "  ⋮\n",
       " 16.921534472\n",
       " 16.419947767\n",
       " 14.445486372\n",
       " 14.95120825\n",
       " 14.462124505\n",
       " 15.705583124\n",
       " 14.954172799\n",
       " 15.47089841\n",
       " 15.210482544\n",
       " 16.160363916\n",
       " 16.467763369\n",
       " 16.188561692"
      ]
     },
     "execution_count": 5,
     "metadata": {},
     "output_type": "execute_result"
    }
   ],
   "source": [
    "fittimes_GLMM = vec(readdlm(\"fittimes_GLMM_multivariate_logistic_vcm$(nsims)reps_sim.csv\", ','))"
   ]
  },
  {
   "cell_type": "code",
   "execution_count": 6,
   "metadata": {},
   "outputs": [
    {
     "name": "stderr",
     "output_type": "stream",
     "text": [
      "┌ Info: making results table Quasi-Copula\n",
      "└ @ Main In[6]:2\n"
     ]
    },
    {
     "data": {
      "text/html": [
       "<div class=\"data-frame\"><p>18 rows × 8 columns</p><table class=\"data-frame\"><thead><tr><th></th><th>samplesize</th><th>obssize</th><th>fittime</th><th>se</th><th>nobs</th><th>fitmin</th><th>fitmax</th><th>perobsratio</th></tr><tr><th></th><th title=\"String\">String</th><th title=\"String\">String</th><th title=\"Float64\">Float64</th><th title=\"Float64\">Float64</th><th title=\"Int64\">Int64</th><th title=\"Float64\">Float64</th><th title=\"Float64\">Float64</th><th title=\"Float64\">Float64</th></tr></thead><tbody><tr><th>1</th><td>100</td><td>2</td><td>0.130626</td><td>0.00308919</td><td>200</td><td>0.127537</td><td>0.136805</td><td>0.000653132</td></tr><tr><th>2</th><td>100</td><td>5</td><td>0.204913</td><td>0.0159226</td><td>500</td><td>0.188991</td><td>0.236758</td><td>0.000409826</td></tr><tr><th>3</th><td>100</td><td>10</td><td>0.133971</td><td>0.00588678</td><td>1000</td><td>0.128084</td><td>0.145744</td><td>0.000133971</td></tr><tr><th>4</th><td>100</td><td>15</td><td>0.161838</td><td>0.0124331</td><td>1500</td><td>0.149405</td><td>0.186704</td><td>0.000107892</td></tr><tr><th>5</th><td>100</td><td>20</td><td>0.154424</td><td>0.00754533</td><td>2000</td><td>0.146879</td><td>0.169515</td><td>7.72121e-5</td></tr><tr><th>6</th><td>100</td><td>25</td><td>0.154979</td><td>0.00418604</td><td>2500</td><td>0.150793</td><td>0.163351</td><td>6.19915e-5</td></tr><tr><th>7</th><td>1000</td><td>2</td><td>0.255017</td><td>0.00490087</td><td>2000</td><td>0.250116</td><td>0.264819</td><td>0.000127509</td></tr><tr><th>8</th><td>1000</td><td>5</td><td>0.329882</td><td>0.0110095</td><td>5000</td><td>0.318872</td><td>0.351901</td><td>6.59763e-5</td></tr><tr><th>9</th><td>1000</td><td>10</td><td>0.367006</td><td>0.00598368</td><td>10000</td><td>0.361023</td><td>0.378974</td><td>3.67006e-5</td></tr><tr><th>10</th><td>1000</td><td>15</td><td>0.428751</td><td>0.00874291</td><td>15000</td><td>0.420008</td><td>0.446236</td><td>2.85834e-5</td></tr><tr><th>11</th><td>1000</td><td>20</td><td>0.53699</td><td>0.00799572</td><td>20000</td><td>0.528994</td><td>0.552981</td><td>2.68495e-5</td></tr><tr><th>12</th><td>1000</td><td>25</td><td>0.70421</td><td>0.0106751</td><td>25000</td><td>0.693534</td><td>0.72556</td><td>2.81684e-5</td></tr><tr><th>13</th><td>10000</td><td>2</td><td>2.06841</td><td>0.047429</td><td>20000</td><td>2.02098</td><td>2.16327</td><td>0.00010342</td></tr><tr><th>14</th><td>10000</td><td>5</td><td>2.99284</td><td>0.0494078</td><td>50000</td><td>2.94343</td><td>3.09166</td><td>5.98568e-5</td></tr><tr><th>15</th><td>10000</td><td>10</td><td>3.59869</td><td>0.0593534</td><td>100000</td><td>3.53934</td><td>3.7174</td><td>3.59869e-5</td></tr><tr><th>16</th><td>10000</td><td>15</td><td>4.64892</td><td>0.0494359</td><td>150000</td><td>4.59949</td><td>4.74779</td><td>3.09928e-5</td></tr><tr><th>17</th><td>10000</td><td>20</td><td>6.37512</td><td>0.0827735</td><td>200000</td><td>6.29235</td><td>6.54067</td><td>3.18756e-5</td></tr><tr><th>18</th><td>10000</td><td>25</td><td>7.98314</td><td>0.0982231</td><td>250000</td><td>7.88491</td><td>8.17958</td><td>3.19325e-5</td></tr></tbody></table></div>"
      ],
      "text/latex": [
       "\\begin{tabular}{r|cccccccc}\n",
       "\t& samplesize & obssize & fittime & se & nobs & fitmin & fitmax & perobsratio\\\\\n",
       "\t\\hline\n",
       "\t& String & String & Float64 & Float64 & Int64 & Float64 & Float64 & Float64\\\\\n",
       "\t\\hline\n",
       "\t1 & 100 & 2 & 0.130626 & 0.00308919 & 200 & 0.127537 & 0.136805 & 0.000653132 \\\\\n",
       "\t2 & 100 & 5 & 0.204913 & 0.0159226 & 500 & 0.188991 & 0.236758 & 0.000409826 \\\\\n",
       "\t3 & 100 & 10 & 0.133971 & 0.00588678 & 1000 & 0.128084 & 0.145744 & 0.000133971 \\\\\n",
       "\t4 & 100 & 15 & 0.161838 & 0.0124331 & 1500 & 0.149405 & 0.186704 & 0.000107892 \\\\\n",
       "\t5 & 100 & 20 & 0.154424 & 0.00754533 & 2000 & 0.146879 & 0.169515 & 7.72121e-5 \\\\\n",
       "\t6 & 100 & 25 & 0.154979 & 0.00418604 & 2500 & 0.150793 & 0.163351 & 6.19915e-5 \\\\\n",
       "\t7 & 1000 & 2 & 0.255017 & 0.00490087 & 2000 & 0.250116 & 0.264819 & 0.000127509 \\\\\n",
       "\t8 & 1000 & 5 & 0.329882 & 0.0110095 & 5000 & 0.318872 & 0.351901 & 6.59763e-5 \\\\\n",
       "\t9 & 1000 & 10 & 0.367006 & 0.00598368 & 10000 & 0.361023 & 0.378974 & 3.67006e-5 \\\\\n",
       "\t10 & 1000 & 15 & 0.428751 & 0.00874291 & 15000 & 0.420008 & 0.446236 & 2.85834e-5 \\\\\n",
       "\t11 & 1000 & 20 & 0.53699 & 0.00799572 & 20000 & 0.528994 & 0.552981 & 2.68495e-5 \\\\\n",
       "\t12 & 1000 & 25 & 0.70421 & 0.0106751 & 25000 & 0.693534 & 0.72556 & 2.81684e-5 \\\\\n",
       "\t13 & 10000 & 2 & 2.06841 & 0.047429 & 20000 & 2.02098 & 2.16327 & 0.00010342 \\\\\n",
       "\t14 & 10000 & 5 & 2.99284 & 0.0494078 & 50000 & 2.94343 & 3.09166 & 5.98568e-5 \\\\\n",
       "\t15 & 10000 & 10 & 3.59869 & 0.0593534 & 100000 & 3.53934 & 3.7174 & 3.59869e-5 \\\\\n",
       "\t16 & 10000 & 15 & 4.64892 & 0.0494359 & 150000 & 4.59949 & 4.74779 & 3.09928e-5 \\\\\n",
       "\t17 & 10000 & 20 & 6.37512 & 0.0827735 & 200000 & 6.29235 & 6.54067 & 3.18756e-5 \\\\\n",
       "\t18 & 10000 & 25 & 7.98314 & 0.0982231 & 250000 & 7.88491 & 8.17958 & 3.19325e-5 \\\\\n",
       "\\end{tabular}\n"
      ],
      "text/plain": [
       "\u001b[1m18×8 DataFrame\u001b[0m\n",
       "\u001b[1m Row \u001b[0m│\u001b[1m samplesize \u001b[0m\u001b[1m obssize \u001b[0m\u001b[1m fittime  \u001b[0m\u001b[1m se         \u001b[0m\u001b[1m nobs   \u001b[0m\u001b[1m fitmin   \u001b[0m\u001b[1m fitmax   \u001b[0m\u001b[1m \u001b[0m ⋯\n",
       "\u001b[1m     \u001b[0m│\u001b[90m String     \u001b[0m\u001b[90m String  \u001b[0m\u001b[90m Float64  \u001b[0m\u001b[90m Float64    \u001b[0m\u001b[90m Int64  \u001b[0m\u001b[90m Float64  \u001b[0m\u001b[90m Float64  \u001b[0m\u001b[90m \u001b[0m ⋯\n",
       "─────┼──────────────────────────────────────────────────────────────────────────\n",
       "   1 │ 100         2        0.130626  0.00308919     200  0.127537  0.136805   ⋯\n",
       "   2 │ 100         5        0.204913  0.0159226      500  0.188991  0.236758\n",
       "   3 │ 100         10       0.133971  0.00588678    1000  0.128084  0.145744\n",
       "   4 │ 100         15       0.161838  0.0124331     1500  0.149405  0.186704\n",
       "   5 │ 100         20       0.154424  0.00754533    2000  0.146879  0.169515   ⋯\n",
       "   6 │ 100         25       0.154979  0.00418604    2500  0.150793  0.163351\n",
       "   7 │ 1000        2        0.255017  0.00490087    2000  0.250116  0.264819\n",
       "   8 │ 1000        5        0.329882  0.0110095     5000  0.318872  0.351901\n",
       "   9 │ 1000        10       0.367006  0.00598368   10000  0.361023  0.378974   ⋯\n",
       "  10 │ 1000        15       0.428751  0.00874291   15000  0.420008  0.446236\n",
       "  11 │ 1000        20       0.53699   0.00799572   20000  0.528994  0.552981\n",
       "  12 │ 1000        25       0.70421   0.0106751    25000  0.693534  0.72556\n",
       "  13 │ 10000       2        2.06841   0.047429     20000  2.02098   2.16327    ⋯\n",
       "  14 │ 10000       5        2.99284   0.0494078    50000  2.94343   3.09166\n",
       "  15 │ 10000       10       3.59869   0.0593534   100000  3.53934   3.7174\n",
       "  16 │ 10000       15       4.64892   0.0494359   150000  4.59949   4.74779\n",
       "  17 │ 10000       20       6.37512   0.0827735   200000  6.29235   6.54067    ⋯\n",
       "  18 │ 10000       25       7.98314   0.0982231   250000  7.88491   8.17958\n",
       "\u001b[36m                                                                1 column omitted\u001b[0m"
      ]
     },
     "execution_count": 6,
     "metadata": {},
     "output_type": "execute_result"
    }
   ],
   "source": [
    "#simulation parameters\n",
    "@info \"making results table Quasi-Copula\"\n",
    "sample_sizes = repeat(string.(samplesizes), inner = nsims * length(ns))\n",
    "obs_sizes = repeat(string.(ns), inner = nsims, outer = length(samplesizes))\n",
    "\n",
    "msedf = DataFrame(βmse = βMseresult, Σmse = ΣMseresult, \n",
    "    samplesize = sample_sizes, obssize = obs_sizes, fittimes = fittimes_QC)\n",
    "timedf1 = combine(groupby(msedf, [:samplesize, :obssize]), :fittimes => mean => :fittime,\n",
    "    :fittimes => x -> (std(x)/sqrt(length(x))))\n",
    "rename!(timedf1, Dict(:fittimes_function => \"se\"))\n",
    "timedf1[!, :nobs] = Meta.parse.(timedf1[!, :samplesize]) .* Meta.parse.(timedf1[!, :obssize])\n",
    "timedf1[!, :fitmin] = timedf1[!, :fittime] - timedf1[!, :se]\n",
    "timedf1[!, :fitmax] = timedf1[!, :fittime] + 2 * timedf1[!, :se]\n",
    "timedf1[!, :perobsratio] = timedf1[!, :fittime] ./ timedf1[!, :nobs]\n",
    "timedf1"
   ]
  },
  {
   "cell_type": "code",
   "execution_count": 7,
   "metadata": {},
   "outputs": [
    {
     "name": "stderr",
     "output_type": "stream",
     "text": [
      "┌ Info: making results table GLMM\n",
      "└ @ Main In[7]:2\n"
     ]
    },
    {
     "data": {
      "text/html": [
       "<div class=\"data-frame\"><p>18 rows × 8 columns</p><table class=\"data-frame\"><thead><tr><th></th><th>samplesize</th><th>obssize</th><th>fittime</th><th>se</th><th>nobs</th><th>fitmin</th><th>fitmax</th><th>perobsratio</th></tr><tr><th></th><th title=\"String\">String</th><th title=\"String\">String</th><th title=\"Float64\">Float64</th><th title=\"Float64\">Float64</th><th title=\"Int64\">Int64</th><th title=\"Float64\">Float64</th><th title=\"Float64\">Float64</th><th title=\"Float64\">Float64</th></tr></thead><tbody><tr><th>1</th><td>100</td><td>2</td><td>0.0305513</td><td>0.0131837</td><td>200</td><td>0.0173676</td><td>0.043735</td><td>0.000152756</td></tr><tr><th>2</th><td>100</td><td>5</td><td>0.0596983</td><td>0.0058009</td><td>500</td><td>0.0538974</td><td>0.0654992</td><td>0.000119397</td></tr><tr><th>3</th><td>100</td><td>10</td><td>0.0610629</td><td>0.00325953</td><td>1000</td><td>0.0578034</td><td>0.0643224</td><td>6.10629e-5</td></tr><tr><th>4</th><td>100</td><td>15</td><td>0.109523</td><td>0.0098798</td><td>1500</td><td>0.099643</td><td>0.119403</td><td>7.30152e-5</td></tr><tr><th>5</th><td>100</td><td>20</td><td>0.122802</td><td>0.00603475</td><td>2000</td><td>0.116767</td><td>0.128837</td><td>6.14009e-5</td></tr><tr><th>6</th><td>100</td><td>25</td><td>0.151673</td><td>0.00412923</td><td>2500</td><td>0.147544</td><td>0.155802</td><td>6.06692e-5</td></tr><tr><th>7</th><td>1000</td><td>2</td><td>0.166529</td><td>0.00291205</td><td>2000</td><td>0.163617</td><td>0.169441</td><td>8.32645e-5</td></tr><tr><th>8</th><td>1000</td><td>5</td><td>0.356314</td><td>0.010374</td><td>5000</td><td>0.34594</td><td>0.366689</td><td>7.12629e-5</td></tr><tr><th>9</th><td>1000</td><td>10</td><td>0.670367</td><td>0.0103249</td><td>10000</td><td>0.660042</td><td>0.680692</td><td>6.70367e-5</td></tr><tr><th>10</th><td>1000</td><td>15</td><td>0.958705</td><td>0.009057</td><td>15000</td><td>0.949648</td><td>0.967762</td><td>6.39137e-5</td></tr><tr><th>11</th><td>1000</td><td>20</td><td>1.19368</td><td>0.00854655</td><td>20000</td><td>1.18513</td><td>1.20223</td><td>5.9684e-5</td></tr><tr><th>12</th><td>1000</td><td>25</td><td>1.66229</td><td>0.0148004</td><td>25000</td><td>1.64749</td><td>1.67709</td><td>6.64918e-5</td></tr><tr><th>13</th><td>10000</td><td>2</td><td>1.99687</td><td>0.0355677</td><td>20000</td><td>1.9613</td><td>2.03244</td><td>9.98435e-5</td></tr><tr><th>14</th><td>10000</td><td>5</td><td>3.10889</td><td>0.0277013</td><td>50000</td><td>3.08119</td><td>3.13659</td><td>6.21778e-5</td></tr><tr><th>15</th><td>10000</td><td>10</td><td>5.58523</td><td>0.042608</td><td>100000</td><td>5.54262</td><td>5.62784</td><td>5.58523e-5</td></tr><tr><th>16</th><td>10000</td><td>15</td><td>8.44566</td><td>0.0706112</td><td>150000</td><td>8.37504</td><td>8.51627</td><td>5.63044e-5</td></tr><tr><th>17</th><td>10000</td><td>20</td><td>11.4191</td><td>0.0839578</td><td>200000</td><td>11.3351</td><td>11.503</td><td>5.70953e-5</td></tr><tr><th>18</th><td>10000</td><td>25</td><td>15.179</td><td>0.125793</td><td>250000</td><td>15.0532</td><td>15.3048</td><td>6.07161e-5</td></tr></tbody></table></div>"
      ],
      "text/latex": [
       "\\begin{tabular}{r|cccccccc}\n",
       "\t& samplesize & obssize & fittime & se & nobs & fitmin & fitmax & perobsratio\\\\\n",
       "\t\\hline\n",
       "\t& String & String & Float64 & Float64 & Int64 & Float64 & Float64 & Float64\\\\\n",
       "\t\\hline\n",
       "\t1 & 100 & 2 & 0.0305513 & 0.0131837 & 200 & 0.0173676 & 0.043735 & 0.000152756 \\\\\n",
       "\t2 & 100 & 5 & 0.0596983 & 0.0058009 & 500 & 0.0538974 & 0.0654992 & 0.000119397 \\\\\n",
       "\t3 & 100 & 10 & 0.0610629 & 0.00325953 & 1000 & 0.0578034 & 0.0643224 & 6.10629e-5 \\\\\n",
       "\t4 & 100 & 15 & 0.109523 & 0.0098798 & 1500 & 0.099643 & 0.119403 & 7.30152e-5 \\\\\n",
       "\t5 & 100 & 20 & 0.122802 & 0.00603475 & 2000 & 0.116767 & 0.128837 & 6.14009e-5 \\\\\n",
       "\t6 & 100 & 25 & 0.151673 & 0.00412923 & 2500 & 0.147544 & 0.155802 & 6.06692e-5 \\\\\n",
       "\t7 & 1000 & 2 & 0.166529 & 0.00291205 & 2000 & 0.163617 & 0.169441 & 8.32645e-5 \\\\\n",
       "\t8 & 1000 & 5 & 0.356314 & 0.010374 & 5000 & 0.34594 & 0.366689 & 7.12629e-5 \\\\\n",
       "\t9 & 1000 & 10 & 0.670367 & 0.0103249 & 10000 & 0.660042 & 0.680692 & 6.70367e-5 \\\\\n",
       "\t10 & 1000 & 15 & 0.958705 & 0.009057 & 15000 & 0.949648 & 0.967762 & 6.39137e-5 \\\\\n",
       "\t11 & 1000 & 20 & 1.19368 & 0.00854655 & 20000 & 1.18513 & 1.20223 & 5.9684e-5 \\\\\n",
       "\t12 & 1000 & 25 & 1.66229 & 0.0148004 & 25000 & 1.64749 & 1.67709 & 6.64918e-5 \\\\\n",
       "\t13 & 10000 & 2 & 1.99687 & 0.0355677 & 20000 & 1.9613 & 2.03244 & 9.98435e-5 \\\\\n",
       "\t14 & 10000 & 5 & 3.10889 & 0.0277013 & 50000 & 3.08119 & 3.13659 & 6.21778e-5 \\\\\n",
       "\t15 & 10000 & 10 & 5.58523 & 0.042608 & 100000 & 5.54262 & 5.62784 & 5.58523e-5 \\\\\n",
       "\t16 & 10000 & 15 & 8.44566 & 0.0706112 & 150000 & 8.37504 & 8.51627 & 5.63044e-5 \\\\\n",
       "\t17 & 10000 & 20 & 11.4191 & 0.0839578 & 200000 & 11.3351 & 11.503 & 5.70953e-5 \\\\\n",
       "\t18 & 10000 & 25 & 15.179 & 0.125793 & 250000 & 15.0532 & 15.3048 & 6.07161e-5 \\\\\n",
       "\\end{tabular}\n"
      ],
      "text/plain": [
       "\u001b[1m18×8 DataFrame\u001b[0m\n",
       "\u001b[1m Row \u001b[0m│\u001b[1m samplesize \u001b[0m\u001b[1m obssize \u001b[0m\u001b[1m fittime    \u001b[0m\u001b[1m se         \u001b[0m\u001b[1m nobs   \u001b[0m\u001b[1m fitmin     \u001b[0m\u001b[1m fitmax\u001b[0m ⋯\n",
       "\u001b[1m     \u001b[0m│\u001b[90m String     \u001b[0m\u001b[90m String  \u001b[0m\u001b[90m Float64    \u001b[0m\u001b[90m Float64    \u001b[0m\u001b[90m Int64  \u001b[0m\u001b[90m Float64    \u001b[0m\u001b[90m Float6\u001b[0m ⋯\n",
       "─────┼──────────────────────────────────────────────────────────────────────────\n",
       "   1 │ 100         2         0.0305513  0.0131837      200   0.0173676   0.043 ⋯\n",
       "   2 │ 100         5         0.0596983  0.0058009      500   0.0538974   0.065\n",
       "   3 │ 100         10        0.0610629  0.00325953    1000   0.0578034   0.064\n",
       "   4 │ 100         15        0.109523   0.0098798     1500   0.099643    0.119\n",
       "   5 │ 100         20        0.122802   0.00603475    2000   0.116767    0.128 ⋯\n",
       "   6 │ 100         25        0.151673   0.00412923    2500   0.147544    0.155\n",
       "   7 │ 1000        2         0.166529   0.00291205    2000   0.163617    0.169\n",
       "   8 │ 1000        5         0.356314   0.010374      5000   0.34594     0.366\n",
       "   9 │ 1000        10        0.670367   0.0103249    10000   0.660042    0.680 ⋯\n",
       "  10 │ 1000        15        0.958705   0.009057     15000   0.949648    0.967\n",
       "  11 │ 1000        20        1.19368    0.00854655   20000   1.18513     1.202\n",
       "  12 │ 1000        25        1.66229    0.0148004    25000   1.64749     1.677\n",
       "  13 │ 10000       2         1.99687    0.0355677    20000   1.9613      2.032 ⋯\n",
       "  14 │ 10000       5         3.10889    0.0277013    50000   3.08119     3.136\n",
       "  15 │ 10000       10        5.58523    0.042608    100000   5.54262     5.627\n",
       "  16 │ 10000       15        8.44566    0.0706112   150000   8.37504     8.516\n",
       "  17 │ 10000       20       11.4191     0.0839578   200000  11.3351     11.503 ⋯\n",
       "  18 │ 10000       25       15.179      0.125793    250000  15.0532     15.304\n",
       "\u001b[36m                                                               2 columns omitted\u001b[0m"
      ]
     },
     "execution_count": 7,
     "metadata": {},
     "output_type": "execute_result"
    }
   ],
   "source": [
    "#simulation parameters\n",
    "@info \"making results table GLMM\"\n",
    "sample_sizes = repeat(string.(samplesizes), inner = nsims * length(ns))\n",
    "obs_sizes = repeat(string.(ns), inner = nsims, outer = length(samplesizes))\n",
    "\n",
    "msedf = DataFrame(βmse = βMseresult, Σmse = ΣMseresult, \n",
    "    samplesize = sample_sizes, obssize = obs_sizes, fittimes = fittimes_GLMM)\n",
    "timedf2 = combine(groupby(msedf, [:samplesize, :obssize]), :fittimes => mean => :fittime,\n",
    "    :fittimes => x -> (std(x)/sqrt(length(x))))\n",
    "rename!(timedf2, Dict(:fittimes_function => \"se\"))\n",
    "timedf2[!, :nobs] = Meta.parse.(timedf2[!, :samplesize]) .* Meta.parse.(timedf2[!, :obssize])\n",
    "timedf2[!, :fitmin] = timedf2[!, :fittime] - timedf2[!, :se]\n",
    "timedf2[!, :fitmax] = timedf2[!, :fittime] + timedf2[!, :se]\n",
    "timedf2[!, :perobsratio] = timedf2[!, :fittime] ./ timedf2[!, :nobs]\n",
    "timedf2"
   ]
  },
  {
   "cell_type": "code",
   "execution_count": 8,
   "metadata": {},
   "outputs": [
    {
     "name": "stderr",
     "output_type": "stream",
     "text": [
      "┌ Warning: RCall.jl: Warning: package ‘ggplot2’ was built under R version 4.0.2\n",
      "└ @ RCall /Users/sarahji/.julia/packages/RCall/iMDW2/src/io.jl:160\n",
      "┌ Warning: RCall.jl: Warning: package ‘cowplot’ was built under R version 4.0.2\n",
      "└ @ RCall /Users/sarahji/.julia/packages/RCall/iMDW2/src/io.jl:160\n"
     ]
    },
    {
     "data": {
      "image/png": "[encoded data removed]"
     },
     "metadata": {},
     "output_type": "display_data"
    },
    {
     "data": {
      "text/plain": [
       "RObject{VecSxp}\n"
      ]
     },
     "execution_count": 8,
     "metadata": {},
     "output_type": "execute_result"
    }
   ],
   "source": [
    "########### plot the runtimes\n",
    "using RCall\n",
    "@rput timedf1\n",
    "@rput timedf2\n",
    "R\"\"\"\n",
    "library(ggplot2)\n",
    "library(cowplot)\n",
    "timedf1$obssize = factor(timedf1$obssize, levels = c('2', '5', '10', '15', '20', '25'))\n",
    "timedf1$samplesize = factor(timedf1$samplesize, levels = c('100', '1000', '10000'))\n",
    "\n",
    "fittime_1 = ggplot(timedf1, aes(x = samplesize, y = fittime, group = obssize, color = obssize)) + \n",
    "  geom_line() +\n",
    "  geom_point()+\n",
    "  geom_errorbar(aes(ymin=fitmin, ymax=fitmax), width=0.5, alpha = 0.8, position=position_dodge(0.005)) + \n",
    "  theme(legend.position=c(0.3,0.85), legend.key = element_blank(), axis.text.x = element_text(angle=0, size=13),\n",
    "        axis.text.y = element_text(angle=0, size=13), axis.title.x = element_text(size = 17), \n",
    "        axis.title.y = element_text(size = 17), legend.title = element_text(size = 14),\n",
    "        #axis.ticks = element_blank(),\n",
    "        panel.grid.major = element_blank(), legend.text=element_text(size=13),\n",
    "        panel.border = element_blank(), panel.grid.minor = element_blank(), panel.background = element_blank(), \n",
    "        axis.line = element_line(color = 'black',size=0.3), plot.title = element_text(hjust = 0.5)) + \n",
    "   scale_color_manual(values = c(\"#c85f55\",\n",
    "\"#a964bf\",\n",
    "\"#8db352\",\n",
    "\"#fa7300\",\n",
    "\"#05aec0\",\n",
    "\"#ff1493\")) +\n",
    "  labs(x = \"Number of Individuals\", y = \"Fit time (seconds)\", color = \"Obs per Individual\")\n",
    "\n",
    "timedf2$obssize = factor(timedf2$obssize, levels = c('2', '5', '10', '15', '20', '25'))\n",
    "timedf2$samplesize = factor(timedf2$samplesize, levels = c('100', '1000', '10000'))\n",
    "\n",
    "fittime_2 = ggplot(timedf2, aes(x = samplesize, y = fittime, group = obssize, color = obssize)) + \n",
    "  geom_line() +\n",
    "  geom_point()+\n",
    "  geom_errorbar(aes(ymin=fitmin, ymax=fitmax), width=0.5, alpha = 0.8, position=position_dodge(0.005)) + \n",
    "  theme(legend.position=c(0.3,0.85), legend.key = element_blank(), axis.text.x = element_text(angle=0, size=13),\n",
    "        axis.text.y = element_text(angle=0, size=13), axis.title.x = element_text(size = 17), \n",
    "        axis.title.y = element_text(size = 17), legend.title = element_text(size = 14),\n",
    "        #axis.ticks = element_blank(),\n",
    "        panel.grid.major = element_blank(), legend.text=element_text(size=13),\n",
    "        panel.border = element_blank(), panel.grid.minor = element_blank(), panel.background = element_blank(), \n",
    "        axis.line = element_line(color = 'black',size=0.3), plot.title = element_text(hjust = 0.5)) + \n",
    "   scale_color_manual(values = c(\"#c85f55\",\n",
    "\"#a964bf\",\n",
    "\"#8db352\",\n",
    "\"#fa7300\",\n",
    "\"#05aec0\",\n",
    "\"#ff1493\")) +\n",
    "  labs(x = \"Number of Individuals\", y = \"Fit time (seconds)\", color = \"Obs per Individual\")\n",
    "\n",
    "fittime_nsamples = plot_grid(fittime_1, fittime_2, labels = c(\"Quasi-Copula\", \"GLMM\"))\n",
    "\"\"\""
   ]
  },
  {
   "cell_type": "code",
   "execution_count": 9,
   "metadata": {},
   "outputs": [
    {
     "data": {
      "text/plain": [
       "RObject{StrSxp}\n",
       "[1] \"fittime_nsamples_logistic_vs_glmm.png\"\n"
      ]
     },
     "execution_count": 9,
     "metadata": {},
     "output_type": "execute_result"
    }
   ],
   "source": [
    "R\"\"\"\n",
    "ggsave('fittime_nsamples_logistic_vs_glmm.png', fittime_nsamples, width = 15, height = 17, units = 'in', dpi = 450)\n",
    "\"\"\""
   ]
  },
  {
   "cell_type": "code",
   "execution_count": 9,
   "metadata": {},
   "outputs": [],
   "source": [
    "# using RCall\n",
    "# @rput timedf1\n",
    "# @rput timedf2\n",
    "\n",
    "# R\"\"\"\n",
    "# library(scales)\n",
    "# library(ggplot2)\n",
    "# timedf1$obssize <- factor(timedf1$obssize, levels = c('2', '5', '10', '20', '50'))\n",
    "# timedf1$samplesize <- factor(timedf1$samplesize, levels = c('1000', '10000', '100000'))\n",
    "\n",
    "# fancy_scientific <- function(l) {\n",
    "#      # turn in to character string in scientific notation\n",
    "#      l <- format(l, scientific = TRUE)\n",
    "#      # quote the part before the exponent to keep all the digits\n",
    "#      l <- gsub(\"^(.*)e\", \"'\\\\1'e\", l)\n",
    "#      # turn the 'e+' into plotmath format\n",
    "#      l <- gsub(\"e\", \"%*%10^\", l)\n",
    "#      # return this as an expression\n",
    "#      parse(text=l)\n",
    "# }\n",
    "\n",
    "# fittimeperobs1 = ggplot(timedf1, aes(x=nobs, y=perobsratio)) + \n",
    "#   geom_line() +\n",
    "#   geom_point()+\n",
    "# #  geom_errorbar(aes(ymin=fitmin, ymax=fitmax), width=0.5, alpha = 0.8, position=position_dodge(0.005)) + \n",
    "#   theme(legend.position=c(0.15,0.8), legend.key = element_blank(), axis.text.x = element_text(angle=0, size=13),\n",
    "#         axis.text.y = element_text(angle=0, size=13), axis.title.x = element_text(size = 17), \n",
    "#         axis.title.y = element_text(size = 17), legend.title = element_text(size = 14),\n",
    "#         #axis.ticks = element_blank(),\n",
    "#         panel.grid.major = element_blank(), legend.text=element_text(size=11),\n",
    "#         panel.border = element_blank(), panel.grid.minor = element_blank(), panel.background = element_blank(), \n",
    "#         axis.line = element_line(color = 'black',size=0.3), plot.title = element_text(hjust = 0.5)) + \n",
    "#   labs(x = \"Total Number of Observations\", y = \"Fit time per observation (seconds)\", color = \"Obs per Individual\") +\n",
    "# #scale_x_log10(breaks = 10^seq(0, 7, 1), labels=trans_format(\"log10\", math_format(10^.x)))# + #, limit=c(10^0, 10^7))\n",
    "# scale_x_continuous(breaks = seq(0, 6000000, 1000000), labels= fancy_scientific) +\n",
    "# scale_y_continuous(breaks = c(10^-5, 2 * 10^-5, 3 * 10^-5, 4 * 10^-5, 5 * 10^-5, 6 * 10^-5, 7  * 10^-5, 8  * 10^-5 , 9  * 10^-5, 10^-4), labels= fancy_scientific)\n",
    "\n",
    "# # glmm fit times\n",
    "# timedf2$obssize <- factor(timedf2$obssize, levels = c('2', '5', '10', '20', '50'))\n",
    "# timedf2$samplesize <- factor(timedf2$samplesize, levels = c('1000', '10000', '100000'))\n",
    "\n",
    "# fancy_scientific <- function(l) {\n",
    "#      # turn in to character string in scientific notation\n",
    "#      l <- format(l, scientific = TRUE)\n",
    "#      # quote the part before the exponent to keep all the digits\n",
    "#      l <- gsub(\"^(.*)e\", \"'\\\\1'e\", l)\n",
    "#      # turn the 'e+' into plotmath format\n",
    "#      l <- gsub(\"e\", \"%*%10^\", l)\n",
    "#      # return this as an expression\n",
    "#      parse(text=l)\n",
    "# }\n",
    "\n",
    "# fittimeperobs2 = ggplot(timedf2, aes(x=nobs, y=perobsratio)) + \n",
    "#   geom_line() +\n",
    "#   geom_point()+\n",
    "# #  geom_errorbar(aes(ymin=fitmin, ymax=fitmax), width=0.5, alpha = 0.8, position=position_dodge(0.005)) + \n",
    "#   theme(legend.position=c(0.15,0.8), legend.key = element_blank(), axis.text.x = element_text(angle=0, size=13),\n",
    "#         axis.text.y = element_text(angle=0, size=13), axis.title.x = element_text(size = 17), \n",
    "#         axis.title.y = element_text(size = 17), legend.title = element_text(size = 14),\n",
    "#         #axis.ticks = element_blank(),\n",
    "#         panel.grid.major = element_blank(), legend.text=element_text(size=11),\n",
    "#         panel.border = element_blank(), panel.grid.minor = element_blank(), panel.background = element_blank(), \n",
    "#         axis.line = element_line(color = 'black',size=0.3), plot.title = element_text(hjust = 0.5)) + \n",
    "#   labs(x = \"Total Number of Observations\", y = \"Fit time per observation (seconds)\", color = \"Obs per Individual\") +\n",
    "# #scale_x_log10(breaks = 10^seq(0, 7, 1), labels=trans_format(\"log10\", math_format(10^.x)))# + #, limit=c(10^0, 10^7))\n",
    "# scale_x_continuous(breaks = seq(0, 6000000, 1000000), labels= fancy_scientific) +\n",
    "# scale_y_continuous(breaks = c(10^-5, 2 * 10^-5, 3 * 10^-5, 4 * 10^-5, 5 * 10^-5, 6 * 10^-5, 7  * 10^-5, 8  * 10^-5 , 9  * 10^-5, 10^-4), labels= fancy_scientific)\n",
    "\n",
    "# fittime_perobs = plot_grid(fittimeperobs1, fittimeperobs2, labels = c(\"Quasi-Copula\", \"GLMM\"))\n",
    "\n",
    "# \"\"\"\n",
    "\n",
    "# R\"\"\"\n",
    "# ggsave('fittime_perobs_poisson_vs_glmm.png', fittime_perobs, width = 12.5, height = 15, units = 'in', dpi = 450)\n",
    "# \"\"\""
   ]
  },
  {
   "cell_type": "code",
   "execution_count": 10,
   "metadata": {},
   "outputs": [
    {
     "data": {
      "text/html": [
       "<div class=\"data-frame\"><p>18 rows × 5 columns</p><table class=\"data-frame\"><thead><tr><th></th><th>people_obs</th><th>β1</th><th>β2</th><th>β3</th><th>Σ1</th></tr><tr><th></th><th title=\"String\">String</th><th title=\"Tuple{Float64, Float64}\">Tuple…</th><th title=\"Tuple{Float64, Float64}\">Tuple…</th><th title=\"Tuple{Float64, Float64}\">Tuple…</th><th title=\"Tuple{Float64, Float64}\">Tuple…</th></tr></thead><tbody><tr><th>1</th><td>N: 100  ni: 2</td><td>(0.87, 0.0337998)</td><td>(0.59, 0.0494311)</td><td>(0.66, 0.0476095)</td><td>(0.91, 0.0287623)</td></tr><tr><th>2</th><td>N: 100  ni: 5</td><td>(0.73, 0.0446196)</td><td>(0.41, 0.0494311)</td><td>(0.61, 0.0490207)</td><td>(0.9, 0.0301511)</td></tr><tr><th>3</th><td>N: 100  ni: 10</td><td>(0.57, 0.049757)</td><td>(0.24, 0.0429235)</td><td>(0.45, 0.05)</td><td>(0.92, 0.027266)</td></tr><tr><th>4</th><td>N: 100  ni: 15</td><td>(0.36, 0.0482418)</td><td>(0.05, 0.0219043)</td><td>(0.39, 0.0490207)</td><td>(0.92, 0.027266)</td></tr><tr><th>5</th><td>N: 100  ni: 20</td><td>(0.22, 0.0416333)</td><td>(0.03, 0.0171447)</td><td>(0.3, 0.0460566)</td><td>(0.89, 0.0314466)</td></tr><tr><th>6</th><td>N: 100  ni: 25</td><td>(0.15, 0.035887)</td><td>(0.0, 0.0)</td><td>(0.45, 0.05)</td><td>(0.94, 0.0238683)</td></tr><tr><th>7</th><td>N: 1000  ni: 2</td><td>(0.61, 0.0490207)</td><td>(0.29, 0.0456048)</td><td>(0.21, 0.040936)</td><td>(0.93, 0.0256432)</td></tr><tr><th>8</th><td>N: 1000  ni: 5</td><td>(0.38, 0.0487832)</td><td>(0.01, 0.01)</td><td>(0.04, 0.0196946)</td><td>(0.98, 0.0140705)</td></tr><tr><th>9</th><td>N: 1000  ni: 10</td><td>(0.02, 0.0140705)</td><td>(0.0, 0.0)</td><td>(0.0, 0.0)</td><td>(0.89, 0.0314466)</td></tr><tr><th>10</th><td>N: 1000  ni: 15</td><td>(0.0, 0.0)</td><td>(0.0, 0.0)</td><td>(0.0, 0.0)</td><td>(0.69, 0.0464823)</td></tr><tr><th>11</th><td>N: 1000  ni: 20</td><td>(0.0, 0.0)</td><td>(0.0, 0.0)</td><td>(0.0, 0.0)</td><td>(0.55, 0.05)</td></tr><tr><th>12</th><td>N: 1000  ni: 25</td><td>(0.0, 0.0)</td><td>(0.0, 0.0)</td><td>(0.0, 0.0)</td><td>(0.72, 0.0451261)</td></tr><tr><th>13</th><td>N: 10000  ni: 2</td><td>(0.07, 0.0256432)</td><td>(0.0, 0.0)</td><td>(0.0, 0.0)</td><td>(0.89, 0.0314466)</td></tr><tr><th>14</th><td>N: 10000  ni: 5</td><td>(0.0, 0.0)</td><td>(0.0, 0.0)</td><td>(0.0, 0.0)</td><td>(1.0, 0.0)</td></tr><tr><th>15</th><td>N: 10000  ni: 10</td><td>(0.0, 0.0)</td><td>(0.0, 0.0)</td><td>(0.0, 0.0)</td><td>(0.17, 0.0377525)</td></tr><tr><th>16</th><td>N: 10000  ni: 15</td><td>(0.0, 0.0)</td><td>(0.0, 0.0)</td><td>(0.0, 0.0)</td><td>(0.03, 0.0171447)</td></tr><tr><th>17</th><td>N: 10000  ni: 20</td><td>(0.0, 0.0)</td><td>(0.0, 0.0)</td><td>(0.0, 0.0)</td><td>(0.01, 0.01)</td></tr><tr><th>18</th><td>N: 10000  ni: 25</td><td>(0.0, 0.0)</td><td>(0.0, 0.0)</td><td>(0.0, 0.0)</td><td>(0.08, 0.027266)</td></tr></tbody></table></div>"
      ],
      "text/latex": [
       "\\begin{tabular}{r|ccccc}\n",
       "\t& people\\_obs & β1 & β2 & β3 & Σ1\\\\\n",
       "\t\\hline\n",
       "\t& String & Tuple… & Tuple… & Tuple… & Tuple…\\\\\n",
       "\t\\hline\n",
       "\t1 & N: 100  ni: 2 & (0.87, 0.0337998) & (0.59, 0.0494311) & (0.66, 0.0476095) & (0.91, 0.0287623) \\\\\n",
       "\t2 & N: 100  ni: 5 & (0.73, 0.0446196) & (0.41, 0.0494311) & (0.61, 0.0490207) & (0.9, 0.0301511) \\\\\n",
       "\t3 & N: 100  ni: 10 & (0.57, 0.049757) & (0.24, 0.0429235) & (0.45, 0.05) & (0.92, 0.027266) \\\\\n",
       "\t4 & N: 100  ni: 15 & (0.36, 0.0482418) & (0.05, 0.0219043) & (0.39, 0.0490207) & (0.92, 0.027266) \\\\\n",
       "\t5 & N: 100  ni: 20 & (0.22, 0.0416333) & (0.03, 0.0171447) & (0.3, 0.0460566) & (0.89, 0.0314466) \\\\\n",
       "\t6 & N: 100  ni: 25 & (0.15, 0.035887) & (0.0, 0.0) & (0.45, 0.05) & (0.94, 0.0238683) \\\\\n",
       "\t7 & N: 1000  ni: 2 & (0.61, 0.0490207) & (0.29, 0.0456048) & (0.21, 0.040936) & (0.93, 0.0256432) \\\\\n",
       "\t8 & N: 1000  ni: 5 & (0.38, 0.0487832) & (0.01, 0.01) & (0.04, 0.0196946) & (0.98, 0.0140705) \\\\\n",
       "\t9 & N: 1000  ni: 10 & (0.02, 0.0140705) & (0.0, 0.0) & (0.0, 0.0) & (0.89, 0.0314466) \\\\\n",
       "\t10 & N: 1000  ni: 15 & (0.0, 0.0) & (0.0, 0.0) & (0.0, 0.0) & (0.69, 0.0464823) \\\\\n",
       "\t11 & N: 1000  ni: 20 & (0.0, 0.0) & (0.0, 0.0) & (0.0, 0.0) & (0.55, 0.05) \\\\\n",
       "\t12 & N: 1000  ni: 25 & (0.0, 0.0) & (0.0, 0.0) & (0.0, 0.0) & (0.72, 0.0451261) \\\\\n",
       "\t13 & N: 10000  ni: 2 & (0.07, 0.0256432) & (0.0, 0.0) & (0.0, 0.0) & (0.89, 0.0314466) \\\\\n",
       "\t14 & N: 10000  ni: 5 & (0.0, 0.0) & (0.0, 0.0) & (0.0, 0.0) & (1.0, 0.0) \\\\\n",
       "\t15 & N: 10000  ni: 10 & (0.0, 0.0) & (0.0, 0.0) & (0.0, 0.0) & (0.17, 0.0377525) \\\\\n",
       "\t16 & N: 10000  ni: 15 & (0.0, 0.0) & (0.0, 0.0) & (0.0, 0.0) & (0.03, 0.0171447) \\\\\n",
       "\t17 & N: 10000  ni: 20 & (0.0, 0.0) & (0.0, 0.0) & (0.0, 0.0) & (0.01, 0.01) \\\\\n",
       "\t18 & N: 10000  ni: 25 & (0.0, 0.0) & (0.0, 0.0) & (0.0, 0.0) & (0.08, 0.027266) \\\\\n",
       "\\end{tabular}\n"
      ],
      "text/plain": [
       "\u001b[1m18×5 DataFrame\u001b[0m\n",
       "\u001b[1m Row \u001b[0m│\u001b[1m people_obs       \u001b[0m\u001b[1m β1                \u001b[0m\u001b[1m β2                \u001b[0m\u001b[1m β3             \u001b[0m ⋯\n",
       "\u001b[1m     \u001b[0m│\u001b[90m String           \u001b[0m\u001b[90m Tuple…            \u001b[0m\u001b[90m Tuple…            \u001b[0m\u001b[90m Tuple…         \u001b[0m ⋯\n",
       "─────┼──────────────────────────────────────────────────────────────────────────\n",
       "   1 │ N: 100  ni: 2     (0.87, 0.0337998)  (0.59, 0.0494311)  (0.66, 0.047609 ⋯\n",
       "   2 │ N: 100  ni: 5     (0.73, 0.0446196)  (0.41, 0.0494311)  (0.61, 0.049020\n",
       "   3 │ N: 100  ni: 10    (0.57, 0.049757)   (0.24, 0.0429235)  (0.45, 0.05)\n",
       "   4 │ N: 100  ni: 15    (0.36, 0.0482418)  (0.05, 0.0219043)  (0.39, 0.049020\n",
       "   5 │ N: 100  ni: 20    (0.22, 0.0416333)  (0.03, 0.0171447)  (0.3, 0.0460566 ⋯\n",
       "   6 │ N: 100  ni: 25    (0.15, 0.035887)   (0.0, 0.0)         (0.45, 0.05)\n",
       "   7 │ N: 1000  ni: 2    (0.61, 0.0490207)  (0.29, 0.0456048)  (0.21, 0.040936\n",
       "   8 │ N: 1000  ni: 5    (0.38, 0.0487832)  (0.01, 0.01)       (0.04, 0.019694\n",
       "   9 │ N: 1000  ni: 10   (0.02, 0.0140705)  (0.0, 0.0)         (0.0, 0.0)      ⋯\n",
       "  10 │ N: 1000  ni: 15   (0.0, 0.0)         (0.0, 0.0)         (0.0, 0.0)\n",
       "  11 │ N: 1000  ni: 20   (0.0, 0.0)         (0.0, 0.0)         (0.0, 0.0)\n",
       "  12 │ N: 1000  ni: 25   (0.0, 0.0)         (0.0, 0.0)         (0.0, 0.0)\n",
       "  13 │ N: 10000  ni: 2   (0.07, 0.0256432)  (0.0, 0.0)         (0.0, 0.0)      ⋯\n",
       "  14 │ N: 10000  ni: 5   (0.0, 0.0)         (0.0, 0.0)         (0.0, 0.0)\n",
       "  15 │ N: 10000  ni: 10  (0.0, 0.0)         (0.0, 0.0)         (0.0, 0.0)\n",
       "  16 │ N: 10000  ni: 15  (0.0, 0.0)         (0.0, 0.0)         (0.0, 0.0)\n",
       "  17 │ N: 10000  ni: 20  (0.0, 0.0)         (0.0, 0.0)         (0.0, 0.0)      ⋯\n",
       "  18 │ N: 10000  ni: 25  (0.0, 0.0)         (0.0, 0.0)         (0.0, 0.0)\n",
       "\u001b[36m                                                               2 columns omitted\u001b[0m"
      ]
     },
     "execution_count": 10,
     "metadata": {},
     "output_type": "execute_result"
    }
   ],
   "source": [
    "######  supplementary table s1\n",
    "using Random, DataFrames, DelimitedFiles, Statistics\n",
    "import StatsBase: sem\n",
    "\n",
    "βΣcoverage = readdlm(\"beta_sigma_coverage_multivariate_logistic_vcm$(nsims)reps_sim.csv\", ',')\n",
    "\n",
    "m  = 1\n",
    "\n",
    "covdf = DataFrame(Matrix(transpose(βΣcoverage)), :auto)\n",
    "rename!(covdf, Symbol.([[\"β$i\" for i in 1:p]; [\"Σ$i\" for i in 1:m]]))\n",
    "covdf[!, :samplesize] = sample_sizes\n",
    "covdf[!, :obssize] = obs_sizes\n",
    "first(covdf, 10)\n",
    "\n",
    "row_stats = [[(mean(col), sem(col)) for col = eachcol(d[!, 1:end-2])] for d = groupby(covdf, [:samplesize; :obssize])]\n",
    "df = DataFrame(row_stats, :auto)\n",
    "ss_obs = unique(\"N: \" .* sample_sizes .* \"  ni: \" .* obs_sizes)\n",
    "rename!(df, Symbol.(ss_obs))\n",
    "covdfdisplay = DataFrame([[names(df)]; collect.(eachrow(df))], \n",
    "    [:people_obs; Symbol.([[\"β$i\" for i in 1:p]; [\"Σ$i\" for i in 1:m]])])\n",
    "# deletecols!(covdfdisplay, p + 2)\n",
    "covdfdisplay\n"
   ]
  },
  {
   "cell_type": "code",
   "execution_count": 13,
   "metadata": {},
   "outputs": [
    {
     "data": {
      "text/html": [
       "<div class=\"data-frame\"><p>7,200 rows × 5 columns</p><table class=\"data-frame\"><thead><tr><th></th><th>mse</th><th>obssize</th><th>samplesize</th><th>parameters</th><th>robust</th></tr><tr><th></th><th title=\"Float64\">Float64</th><th title=\"String\">String</th><th title=\"String\">String</th><th title=\"String\">String</th><th title=\"String\">String</th></tr></thead><tbody><tr><th>1</th><td>0.269507</td><td>2</td><td>100</td><td>beta</td><td>Bernoulli Quasi-Copula</td></tr><tr><th>2</th><td>0.132675</td><td>2</td><td>100</td><td>beta</td><td>Bernoulli Quasi-Copula</td></tr><tr><th>3</th><td>0.14261</td><td>2</td><td>100</td><td>beta</td><td>Bernoulli Quasi-Copula</td></tr><tr><th>4</th><td>0.0989447</td><td>2</td><td>100</td><td>beta</td><td>Bernoulli Quasi-Copula</td></tr><tr><th>5</th><td>0.00854191</td><td>2</td><td>100</td><td>beta</td><td>Bernoulli Quasi-Copula</td></tr><tr><th>6</th><td>0.238617</td><td>2</td><td>100</td><td>beta</td><td>Bernoulli Quasi-Copula</td></tr><tr><th>7</th><td>0.0137437</td><td>2</td><td>100</td><td>beta</td><td>Bernoulli Quasi-Copula</td></tr><tr><th>8</th><td>0.05547</td><td>2</td><td>100</td><td>beta</td><td>Bernoulli Quasi-Copula</td></tr><tr><th>9</th><td>0.245224</td><td>2</td><td>100</td><td>beta</td><td>Bernoulli Quasi-Copula</td></tr><tr><th>10</th><td>0.190285</td><td>2</td><td>100</td><td>beta</td><td>Bernoulli Quasi-Copula</td></tr><tr><th>11</th><td>0.0954328</td><td>2</td><td>100</td><td>beta</td><td>Bernoulli Quasi-Copula</td></tr><tr><th>12</th><td>0.0287255</td><td>2</td><td>100</td><td>beta</td><td>Bernoulli Quasi-Copula</td></tr><tr><th>13</th><td>0.0455344</td><td>2</td><td>100</td><td>beta</td><td>Bernoulli Quasi-Copula</td></tr><tr><th>14</th><td>0.163934</td><td>2</td><td>100</td><td>beta</td><td>Bernoulli Quasi-Copula</td></tr><tr><th>15</th><td>0.0976323</td><td>2</td><td>100</td><td>beta</td><td>Bernoulli Quasi-Copula</td></tr><tr><th>16</th><td>0.0661635</td><td>2</td><td>100</td><td>beta</td><td>Bernoulli Quasi-Copula</td></tr><tr><th>17</th><td>0.00900603</td><td>2</td><td>100</td><td>beta</td><td>Bernoulli Quasi-Copula</td></tr><tr><th>18</th><td>0.0259151</td><td>2</td><td>100</td><td>beta</td><td>Bernoulli Quasi-Copula</td></tr><tr><th>19</th><td>0.0717868</td><td>2</td><td>100</td><td>beta</td><td>Bernoulli Quasi-Copula</td></tr><tr><th>20</th><td>0.0452586</td><td>2</td><td>100</td><td>beta</td><td>Bernoulli Quasi-Copula</td></tr><tr><th>21</th><td>0.13471</td><td>2</td><td>100</td><td>beta</td><td>Bernoulli Quasi-Copula</td></tr><tr><th>22</th><td>0.0450598</td><td>2</td><td>100</td><td>beta</td><td>Bernoulli Quasi-Copula</td></tr><tr><th>23</th><td>0.0167716</td><td>2</td><td>100</td><td>beta</td><td>Bernoulli Quasi-Copula</td></tr><tr><th>24</th><td>0.110709</td><td>2</td><td>100</td><td>beta</td><td>Bernoulli Quasi-Copula</td></tr><tr><th>25</th><td>0.104348</td><td>2</td><td>100</td><td>beta</td><td>Bernoulli Quasi-Copula</td></tr><tr><th>26</th><td>0.0296255</td><td>2</td><td>100</td><td>beta</td><td>Bernoulli Quasi-Copula</td></tr><tr><th>27</th><td>0.110514</td><td>2</td><td>100</td><td>beta</td><td>Bernoulli Quasi-Copula</td></tr><tr><th>28</th><td>0.0519774</td><td>2</td><td>100</td><td>beta</td><td>Bernoulli Quasi-Copula</td></tr><tr><th>29</th><td>0.0482642</td><td>2</td><td>100</td><td>beta</td><td>Bernoulli Quasi-Copula</td></tr><tr><th>30</th><td>0.0419195</td><td>2</td><td>100</td><td>beta</td><td>Bernoulli Quasi-Copula</td></tr><tr><th>&vellip;</th><td>&vellip;</td><td>&vellip;</td><td>&vellip;</td><td>&vellip;</td><td>&vellip;</td></tr></tbody></table></div>"
      ],
      "text/latex": [
       "\\begin{tabular}{r|ccccc}\n",
       "\t& mse & obssize & samplesize & parameters & robust\\\\\n",
       "\t\\hline\n",
       "\t& Float64 & String & String & String & String\\\\\n",
       "\t\\hline\n",
       "\t1 & 0.269507 & 2 & 100 & beta & Bernoulli Quasi-Copula \\\\\n",
       "\t2 & 0.132675 & 2 & 100 & beta & Bernoulli Quasi-Copula \\\\\n",
       "\t3 & 0.14261 & 2 & 100 & beta & Bernoulli Quasi-Copula \\\\\n",
       "\t4 & 0.0989447 & 2 & 100 & beta & Bernoulli Quasi-Copula \\\\\n",
       "\t5 & 0.00854191 & 2 & 100 & beta & Bernoulli Quasi-Copula \\\\\n",
       "\t6 & 0.238617 & 2 & 100 & beta & Bernoulli Quasi-Copula \\\\\n",
       "\t7 & 0.0137437 & 2 & 100 & beta & Bernoulli Quasi-Copula \\\\\n",
       "\t8 & 0.05547 & 2 & 100 & beta & Bernoulli Quasi-Copula \\\\\n",
       "\t9 & 0.245224 & 2 & 100 & beta & Bernoulli Quasi-Copula \\\\\n",
       "\t10 & 0.190285 & 2 & 100 & beta & Bernoulli Quasi-Copula \\\\\n",
       "\t11 & 0.0954328 & 2 & 100 & beta & Bernoulli Quasi-Copula \\\\\n",
       "\t12 & 0.0287255 & 2 & 100 & beta & Bernoulli Quasi-Copula \\\\\n",
       "\t13 & 0.0455344 & 2 & 100 & beta & Bernoulli Quasi-Copula \\\\\n",
       "\t14 & 0.163934 & 2 & 100 & beta & Bernoulli Quasi-Copula \\\\\n",
       "\t15 & 0.0976323 & 2 & 100 & beta & Bernoulli Quasi-Copula \\\\\n",
       "\t16 & 0.0661635 & 2 & 100 & beta & Bernoulli Quasi-Copula \\\\\n",
       "\t17 & 0.00900603 & 2 & 100 & beta & Bernoulli Quasi-Copula \\\\\n",
       "\t18 & 0.0259151 & 2 & 100 & beta & Bernoulli Quasi-Copula \\\\\n",
       "\t19 & 0.0717868 & 2 & 100 & beta & Bernoulli Quasi-Copula \\\\\n",
       "\t20 & 0.0452586 & 2 & 100 & beta & Bernoulli Quasi-Copula \\\\\n",
       "\t21 & 0.13471 & 2 & 100 & beta & Bernoulli Quasi-Copula \\\\\n",
       "\t22 & 0.0450598 & 2 & 100 & beta & Bernoulli Quasi-Copula \\\\\n",
       "\t23 & 0.0167716 & 2 & 100 & beta & Bernoulli Quasi-Copula \\\\\n",
       "\t24 & 0.110709 & 2 & 100 & beta & Bernoulli Quasi-Copula \\\\\n",
       "\t25 & 0.104348 & 2 & 100 & beta & Bernoulli Quasi-Copula \\\\\n",
       "\t26 & 0.0296255 & 2 & 100 & beta & Bernoulli Quasi-Copula \\\\\n",
       "\t27 & 0.110514 & 2 & 100 & beta & Bernoulli Quasi-Copula \\\\\n",
       "\t28 & 0.0519774 & 2 & 100 & beta & Bernoulli Quasi-Copula \\\\\n",
       "\t29 & 0.0482642 & 2 & 100 & beta & Bernoulli Quasi-Copula \\\\\n",
       "\t30 & 0.0419195 & 2 & 100 & beta & Bernoulli Quasi-Copula \\\\\n",
       "\t$\\dots$ & $\\dots$ & $\\dots$ & $\\dots$ & $\\dots$ & $\\dots$ \\\\\n",
       "\\end{tabular}\n"
      ],
      "text/plain": [
       "\u001b[1m7200×5 DataFrame\u001b[0m\n",
       "\u001b[1m  Row \u001b[0m│\u001b[1m mse        \u001b[0m\u001b[1m obssize \u001b[0m\u001b[1m samplesize \u001b[0m\u001b[1m parameters \u001b[0m\u001b[1m robust                 \u001b[0m\n",
       "\u001b[1m      \u001b[0m│\u001b[90m Float64    \u001b[0m\u001b[90m String  \u001b[0m\u001b[90m String     \u001b[0m\u001b[90m String     \u001b[0m\u001b[90m String                 \u001b[0m\n",
       "──────┼─────────────────────────────────────────────────────────────────────\n",
       "    1 │ 0.269507    2        100         beta        Bernoulli Quasi-Copula\n",
       "    2 │ 0.132675    2        100         beta        Bernoulli Quasi-Copula\n",
       "    3 │ 0.14261     2        100         beta        Bernoulli Quasi-Copula\n",
       "    4 │ 0.0989447   2        100         beta        Bernoulli Quasi-Copula\n",
       "    5 │ 0.00854191  2        100         beta        Bernoulli Quasi-Copula\n",
       "    6 │ 0.238617    2        100         beta        Bernoulli Quasi-Copula\n",
       "    7 │ 0.0137437   2        100         beta        Bernoulli Quasi-Copula\n",
       "    8 │ 0.05547     2        100         beta        Bernoulli Quasi-Copula\n",
       "    9 │ 0.245224    2        100         beta        Bernoulli Quasi-Copula\n",
       "   10 │ 0.190285    2        100         beta        Bernoulli Quasi-Copula\n",
       "   11 │ 0.0954328   2        100         beta        Bernoulli Quasi-Copula\n",
       "  ⋮   │     ⋮          ⋮         ⋮           ⋮                 ⋮\n",
       " 7191 │ 0.0170661   25       10000       Sigma       Bernoulli GLMM\n",
       " 7192 │ 0.0162117   25       10000       Sigma       Bernoulli GLMM\n",
       " 7193 │ 0.0171425   25       10000       Sigma       Bernoulli GLMM\n",
       " 7194 │ 0.0150665   25       10000       Sigma       Bernoulli GLMM\n",
       " 7195 │ 0.0180741   25       10000       Sigma       Bernoulli GLMM\n",
       " 7196 │ 0.018882    25       10000       Sigma       Bernoulli GLMM\n",
       " 7197 │ 0.0150339   25       10000       Sigma       Bernoulli GLMM\n",
       " 7198 │ 0.0182864   25       10000       Sigma       Bernoulli GLMM\n",
       " 7199 │ 0.0193725   25       10000       Sigma       Bernoulli GLMM\n",
       " 7200 │ 0.0185185   25       10000       Sigma       Bernoulli GLMM\n",
       "\u001b[36m                                                           7179 rows omitted\u001b[0m"
      ]
     },
     "execution_count": 13,
     "metadata": {},
     "output_type": "execute_result"
    }
   ],
   "source": [
    "#### \n",
    "#import data and reorganize to create figure\n",
    "using Random, DataFrames, DelimitedFiles, Statistics, RCall, Printf\n",
    "import StatsBase: sem\n",
    "\n",
    "βMseresultpoisson = vec(readdlm(\"mse_beta_multivariate_logistic_vcm$(nsims)reps_sim.csv\", ','))\n",
    "ΣMseresultpoisson = vec(readdlm(\"mse_Sigma_multivariate_logistic_vcm$(nsims)reps_sim.csv\", ','))\n",
    "\n",
    "βMseresultpoisson_GLMM = vec(readdlm(\"mse_beta_GLMM_multivariate_logistic_vcm$(nsims)reps_sim.csv\", ','))\n",
    "ΣMseresultpoisson_GLMM = vec(readdlm(\"mse_Sigma_GLMM_multivariate_logistic_vcm$(nsims)reps_sim.csv\", ','))\n",
    "\n",
    "\n",
    "p = 3; m = 1\n",
    "sample_sizes = repeat(string.(samplesizes), inner = nsims * length(ns))\n",
    "obs_sizes = repeat(string.(ns), inner = nsims, outer = length(samplesizes))\n",
    "msedf1 = DataFrame(βmse = βMseresultpoisson, Σmse = ΣMseresultpoisson, \n",
    "    samplesize = sample_sizes, obssize = obs_sizes)\n",
    "\n",
    "msedf2 = DataFrame(βmse = βMseresultpoisson_GLMM, Σmse = ΣMseresultpoisson_GLMM, \n",
    "    samplesize = sample_sizes, obssize = obs_sizes)\n",
    "\n",
    "#rename to make parsing easier for R.\n",
    "\n",
    "msedf1 = deepcopy(msedf1)\n",
    "rename!(msedf1, [\"betamse\"\n",
    "    \"Sigmamse\"\n",
    "    \"samplesize\"\n",
    " \"obssize\"]);\n",
    "\n",
    "msedf2 = deepcopy(msedf2)\n",
    "rename!(msedf2, [\"betamse\"\n",
    "    \"Sigmamse\"\n",
    "    \"samplesize\"\n",
    " \"obssize\"]);\n",
    "\n",
    "mses = [msedf1[!, :betamse]; msedf1[!, :Sigmamse]; msedf2[!, :betamse]; msedf2[!, :Sigmamse]]\n",
    "    # msedfnormR[!, :betamse]; msedfnormR[!, :taumse]; msedfnormR[!, :Sigmamse]]\n",
    "obssize = [collect([repeat(msedf1[!, :obssize], 2)]...) ; collect([repeat(msedf2[!, :obssize], 2)]...)]\n",
    "#40\n",
    "samplesize = [collect([repeat(msedf1[!, :samplesize], 2)]...) ; collect([repeat(msedf2[!, :samplesize], 2)]...)]\n",
    "\n",
    "parameters = [collect([repeat(string.([:beta, :Sigma]), inner = nsims * length(ns) * length(samplesizes))]...) ; collect([repeat(string.([:beta, :Sigma]), inner = nsims * length(ns) * length(samplesizes))]...)]\n",
    "robust = [collect([repeat([\"Bernoulli Quasi-Copula\"], 2 * nsims * length(ns) * length(samplesizes))]...); collect([repeat([\"Bernoulli GLMM\"],  2 * nsims * length(ns) * length(samplesizes))]...)]\n",
    "\n",
    "msedfR = DataFrame(mse = mses, obssize = obssize, samplesize = samplesize,\n",
    "    parameters = parameters, robust = robust)\n",
    "\n",
    "#5 of the 30,000 simulations did not converge, filter out\n",
    "msedfR = filter(x -> !isnan(x.mse), msedfR)\n",
    "# additionally, there are 5 where an error was not caught so it did not try a differnt solver\n",
    "msedfR = filter(x -> x.mse < 40000, msedfR)"
   ]
  },
  {
   "cell_type": "code",
   "execution_count": 16,
   "metadata": {},
   "outputs": [
    {
     "data": {
      "image/png": "[encoded data removed]"
     },
     "metadata": {},
     "output_type": "display_data"
    },
    {
     "data": {
      "text/plain": [
       "RObject{VecSxp}\n"
      ]
     },
     "execution_count": 16,
     "metadata": {},
     "output_type": "execute_result"
    }
   ],
   "source": [
    "### working on figure next\n",
    "@rput msedfR\n",
    "\n",
    "R\"\"\"\n",
    "library(scales)\n",
    "library(ggplot2)\n",
    "library(data.table)\n",
    "\n",
    "msedfR = data.table(msedfR)\n",
    "\n",
    "msedfR[parameters == \"beta\",y_min := 10^-4]\n",
    "msedfR[parameters == \"beta\",y_max := 10^-2]\n",
    "msedfR[parameters == \"Sigma\",y_min := 10^-5]\n",
    "msedfR[parameters == \"Sigma\",y_max := 10^1]\n",
    "\n",
    "#msedfR[parameters == \"beta\",y_min := 10^-8]\n",
    "#msedfR[parameters == \"beta\",y_max := 10^-2]\n",
    "#msedfR[parameters == \"tau\",y_min := 10^-8]\n",
    "#msedfR[parameters == \"tau\",y_max := 10^-2]\n",
    "#msedfR[parameters == \"Sigma\",y_min := 10^-5]\n",
    "#msedfR[parameters == \"Sigma\",y_max := 10^-2]\n",
    "\n",
    "\n",
    "msedfR$obssize = factor(msedfR$obssize, levels = c('2', '5', '10', '15', '20', '25'))\n",
    "msedfR$samplesize = factor(msedfR$samplesize, levels = c('100', '1000', '10000'))\n",
    "msedfR$parameters = factor(msedfR$parameters, levels = c('beta', 'Sigma'), labels = c(beta = expression(hat(bold(beta))), Sigma = expression(hat(bold(Sigma))[])))\n",
    "msedfR$robust <- factor(msedfR$robust, levels = c('Bernoulli Quasi-Copula', 'Bernoulli GLMM'),\n",
    "    labels = c(expression(paste(\"Bernoulli Quasi-Copula\")), expression(paste(\"Bernoulli GLMM\"))))\n",
    "\n",
    "\n",
    "#mseplot <- ggplot(msedfR[msedfR$mse < 10^0, ], aes(x=samplesize, y=mse, fill=obssize)) + \n",
    "mseplot = ggplot(msedfR[msedfR$mse < 10^3, ], aes(x=samplesize, y=mse, fill=obssize)) + \n",
    "  #geom_boxplot(outlier.size = 0.0, outlier.alpha = 0) +\n",
    "  geom_boxplot(outlier.size = 0.25) +\n",
    "#    geom_violin() +\n",
    "    facet_grid(parameters ~ robust, labeller = label_parsed, scales = \"free_y\") +\n",
    "  theme(legend.position=\"right\", legend.key = element_blank(), axis.text.x = element_text(angle=0, size=11),\n",
    "        axis.text.y = element_text(angle=0, size=12), axis.title.x = element_text(size = 15), \n",
    "        axis.title.y = element_text(size = 15), legend.title = element_text(size = 12),\n",
    "        panel.grid.major = element_blank(), panel.grid.minor = element_blank(),\n",
    "        legend.text=element_text(size=10), panel.background = element_rect(fill = NA, color = \"black\"),\n",
    "        #panel.background = element_blank(), #panel.border = element_blank(),\n",
    "        axis.line = element_line(color = 'black',size=0.3), plot.title = element_text(hjust = 0.5),\n",
    "        strip.background = element_rect(colour=\"black\", fill=\"white\"), strip.text.y = element_text(size=15, face=\"bold\"),\n",
    "        strip.text.x = element_text(size=15)) + \n",
    "  scale_fill_manual(values = c(\"#c85f55\",\n",
    "\"#a964bf\",\n",
    "\"#8db352\",\n",
    "\"#fa7300\",\n",
    "\"#05aec0\",\n",
    "\"#ff1493\")) +\n",
    "#scale_y_log10(breaks = scales::trans_breaks(\"log10\", function(x) 10^x)) +\n",
    "#scale_y_log10(breaks = 10^(-8:8), limit=c(10^-8, 10^2)) + \n",
    "scale_y_log10(breaks = 10^seq(-10, 10, 2), labels=trans_format(\"log10\", math_format(10^.x))) + #, limit=c(10^-8, 10^2)) +\n",
    "  labs(x = \"Number of Individuals\", y = \"MSE of Parameter Estimates\", fill = \"Obs per Individual\") +\n",
    "geom_blank(aes(y = y_max)) + \n",
    "geom_blank(aes(y = y_min)) \n",
    "\n",
    "\"\"\""
   ]
  },
  {
   "cell_type": "code",
   "execution_count": 17,
   "metadata": {},
   "outputs": [
    {
     "data": {
      "text/plain": [
       "RObject{StrSxp}\n",
       "[1] \"updated_msefacetplot_bernoulli.png\"\n"
      ]
     },
     "execution_count": 17,
     "metadata": {},
     "output_type": "execute_result"
    }
   ],
   "source": [
    "R\"\"\"\n",
    "ggsave('updated_msefacetplot_bernoulli.png', mseplot, width = 12.5, height = 15, units = 'in', dpi = 450)\n",
    "\"\"\""
   ]
  },
  {
   "cell_type": "code",
   "execution_count": null,
   "metadata": {},
   "outputs": [],
   "source": []
  },
  {
   "cell_type": "code",
   "execution_count": null,
   "metadata": {},
   "outputs": [],
   "source": []
  }
 ],
 "metadata": {
  "@webio": {
   "lastCommId": null,
   "lastKernelId": null
  },
  "kernelspec": {
   "display_name": "Julia 1.6.2",
   "language": "julia",
   "name": "julia-1.6"
  },
  "language_info": {
   "file_extension": ".jl",
   "mimetype": "application/julia",
   "name": "julia",
   "version": "1.6.2"
  }
 },
 "nbformat": 4,
 "nbformat_minor": 2
}
