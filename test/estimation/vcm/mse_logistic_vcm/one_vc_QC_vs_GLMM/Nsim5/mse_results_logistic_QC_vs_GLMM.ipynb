{
 "cells": [
  {
   "cell_type": "markdown",
   "metadata": {},
   "source": [
    "## Logistic VCM Results \n",
    "\n",
    "This notebook goes over the code needed to reproduce the results from the MSE and time figures for the Bernoulli base distribution with Logit Link and covariance matrix $\\Gamma$ structured under variance component model framework as follows:\n",
    "\n",
    "$$\n",
    "\\Gamma = \\sigma_1 * \\mathbf{1_{n} 1_{n}^\\top}\n",
    "$$\n",
    "\n",
    "We run each scenario 5 times and compare the fit with that of GLMM's random intercept model from MixedModels.jl. "
   ]
  },
  {
   "cell_type": "code",
   "execution_count": 1,
   "metadata": {},
   "outputs": [
    {
     "name": "stdout",
     "output_type": "stream",
     "text": [
      "Julia Version 1.6.2\n",
      "Commit 1b93d53fc4 (2021-07-14 15:36 UTC)\n",
      "Platform Info:\n",
      "  OS: macOS (x86_64-apple-darwin18.7.0)\n",
      "  CPU: Intel(R) Core(TM) i9-9880H CPU @ 2.30GHz\n",
      "  WORD_SIZE: 64\n",
      "  LIBM: libopenlibm\n",
      "  LLVM: libLLVM-11.0.1 (ORCJIT, skylake)\n"
     ]
    }
   ],
   "source": [
    "versioninfo()"
   ]
  },
  {
   "cell_type": "code",
   "execution_count": 2,
   "metadata": {},
   "outputs": [
    {
     "name": "stderr",
     "output_type": "stream",
     "text": [
      "┌ Info: Precompiling GLMCopula [c47b6ae2-b804-4668-9957-eb588c99ffbc]\n",
      "└ @ Base loading.jl:1342\n"
     ]
    }
   ],
   "source": [
    "using GLMCopula, DelimitedFiles, LinearAlgebra, Random, GLM\n",
    "using Random, Roots, SpecialFunctions, DataFrames"
   ]
  },
  {
   "cell_type": "code",
   "execution_count": 3,
   "metadata": {},
   "outputs": [
    {
     "data": {
      "text/plain": [
       "5"
      ]
     },
     "execution_count": 3,
     "metadata": {},
     "output_type": "execute_result"
    }
   ],
   "source": [
    "p  = 3    # number of fixed effects, including intercept\n",
    "m  = 1    # number of variance components\n",
    "# true parameter values\n",
    "βtrue = ones(p)\n",
    "Σtrue = [0.1]\n",
    "\n",
    "# generate data\n",
    "intervals = zeros(p + m, 2) #hold intervals\n",
    "curcoverage = zeros(p + m) #hold current coverage resutls\n",
    "trueparams = [βtrue; Σtrue] #hold true parameters\n",
    "\n",
    "#simulation parameters\n",
    "samplesizes = [1000; 10000; 50000]\n",
    "ns = [5; 10; 20; 50]\n",
    "nsims = 5"
   ]
  },
  {
   "cell_type": "code",
   "execution_count": 4,
   "metadata": {},
   "outputs": [
    {
     "name": "stderr",
     "output_type": "stream",
     "text": [
      "┌ Info: reading in the files with results\n",
      "└ @ Main In[4]:1\n"
     ]
    },
    {
     "data": {
      "text/plain": [
       "60-element Vector{Float64}:\n",
       "  2.192276155\n",
       "  0.362720491\n",
       "  0.36410925\n",
       "  0.458698894\n",
       "  0.228013462\n",
       "  0.51264402\n",
       "  0.550238079\n",
       "  0.38585572\n",
       "  0.37393711\n",
       "  0.310807097\n",
       "  0.690577379\n",
       "  0.756065549\n",
       "  0.700499149\n",
       "  ⋮\n",
       " 16.263920626\n",
       " 11.605870001\n",
       " 22.583111088\n",
       " 26.760414871\n",
       " 31.587826681\n",
       " 21.410562648\n",
       " 25.79183811\n",
       " 32.460609234\n",
       " 33.771721899\n",
       " 38.90304337\n",
       " 39.608157815\n",
       " 83.510200512"
      ]
     },
     "execution_count": 4,
     "metadata": {},
     "output_type": "execute_result"
    }
   ],
   "source": [
    "@info \"reading in the files with results\"\n",
    "βMseresult = vec(readdlm(\"mse_beta_multivariate_logistic_vcm$(nsims)reps_sim.csv\", ','))\n",
    "ΣMseresult = vec(readdlm(\"mse_Sigma_multivariate_logistic_vcm$(nsims)reps_sim.csv\", ','))\n",
    "fittimes_QC = vec(readdlm(\"fittimes_multivariate_logistic_vcm$(nsims)reps_sim.csv\", ','))"
   ]
  },
  {
   "cell_type": "code",
   "execution_count": 5,
   "metadata": {},
   "outputs": [
    {
     "data": {
      "text/plain": [
       "60-element Vector{Float64}:\n",
       " 37.398134433\n",
       "  0.160570597\n",
       "  0.155456115\n",
       "  0.11142523\n",
       "  0.110167683\n",
       "  0.225914217\n",
       "  0.249271394\n",
       "  0.199325695\n",
       "  0.190147479\n",
       "  0.239942507\n",
       "  0.333956307\n",
       "  0.406078076\n",
       "  0.372608794\n",
       "  ⋮\n",
       " 18.811451348\n",
       " 21.667380745\n",
       " 31.411645791\n",
       " 34.281520861\n",
       " 31.390991909\n",
       " 32.622410551\n",
       " 32.010323838\n",
       " 68.25922785\n",
       " 69.524025955\n",
       " 71.825136744\n",
       " 79.988859714\n",
       " 72.568010089"
      ]
     },
     "execution_count": 5,
     "metadata": {},
     "output_type": "execute_result"
    }
   ],
   "source": [
    "fittimes_GLMM = vec(readdlm(\"fittimes_logistic_GLMM_logistic_vcm$(nsims)reps_sim.csv\", ','))"
   ]
  },
  {
   "cell_type": "code",
   "execution_count": 6,
   "metadata": {},
   "outputs": [
    {
     "name": "stderr",
     "output_type": "stream",
     "text": [
      "┌ Info: making results table Quasi-Copula\n",
      "└ @ Main In[6]:2\n"
     ]
    },
    {
     "data": {
      "text/html": [
       "<table class=\"data-frame\"><thead><tr><th></th><th>samplesize</th><th>obssize</th><th>fittime</th><th>se</th><th>nobs</th><th>fitmin</th><th>fitmax</th><th>perobsratio</th></tr><tr><th></th><th>String</th><th>String</th><th>Float64</th><th>Float64</th><th>Int64</th><th>Float64</th><th>Float64</th><th>Float64</th></tr></thead><tbody><p>12 rows × 8 columns</p><tr><th>1</th><td>1000</td><td>5</td><td>0.721164</td><td>0.36961</td><td>5000</td><td>0.351554</td><td>1.09077</td><td>0.000144233</td></tr><tr><th>2</th><td>1000</td><td>10</td><td>0.426696</td><td>0.0450174</td><td>10000</td><td>0.381679</td><td>0.471714</td><td>4.26696e-5</td></tr><tr><th>3</th><td>1000</td><td>20</td><td>0.806481</td><td>0.113701</td><td>20000</td><td>0.69278</td><td>0.920182</td><td>4.0324e-5</td></tr><tr><th>4</th><td>1000</td><td>50</td><td>0.977394</td><td>0.121673</td><td>50000</td><td>0.855722</td><td>1.09907</td><td>1.95479e-5</td></tr><tr><th>5</th><td>10000</td><td>5</td><td>2.31113</td><td>0.112797</td><td>50000</td><td>2.19833</td><td>2.42393</td><td>4.62226e-5</td></tr><tr><th>6</th><td>10000</td><td>10</td><td>4.28747</td><td>0.220976</td><td>100000</td><td>4.06649</td><td>4.50844</td><td>4.28747e-5</td></tr><tr><th>7</th><td>10000</td><td>20</td><td>7.7536</td><td>0.65334</td><td>200000</td><td>7.10026</td><td>8.40694</td><td>3.8768e-5</td></tr><tr><th>8</th><td>10000</td><td>50</td><td>10.9147</td><td>0.218469</td><td>500000</td><td>10.6962</td><td>11.1331</td><td>2.18293e-5</td></tr><tr><th>9</th><td>50000</td><td>5</td><td>8.98712</td><td>0.825512</td><td>250000</td><td>8.1616</td><td>9.81263</td><td>3.59485e-5</td></tr><tr><th>10</th><td>50000</td><td>10</td><td>12.0691</td><td>1.2396</td><td>500000</td><td>10.8295</td><td>13.3087</td><td>2.41381e-5</td></tr><tr><th>11</th><td>50000</td><td>20</td><td>25.6268</td><td>1.78727</td><td>1000000</td><td>23.8395</td><td>27.414</td><td>2.56268e-5</td></tr><tr><th>12</th><td>50000</td><td>50</td><td>45.6507</td><td>9.5668</td><td>2500000</td><td>36.0839</td><td>55.2175</td><td>1.82603e-5</td></tr></tbody></table>"
      ],
      "text/latex": [
       "\\begin{tabular}{r|cccccccc}\n",
       "\t& samplesize & obssize & fittime & se & nobs & fitmin & fitmax & perobsratio\\\\\n",
       "\t\\hline\n",
       "\t& String & String & Float64 & Float64 & Int64 & Float64 & Float64 & Float64\\\\\n",
       "\t\\hline\n",
       "\t1 & 1000 & 5 & 0.721164 & 0.36961 & 5000 & 0.351554 & 1.09077 & 0.000144233 \\\\\n",
       "\t2 & 1000 & 10 & 0.426696 & 0.0450174 & 10000 & 0.381679 & 0.471714 & 4.26696e-5 \\\\\n",
       "\t3 & 1000 & 20 & 0.806481 & 0.113701 & 20000 & 0.69278 & 0.920182 & 4.0324e-5 \\\\\n",
       "\t4 & 1000 & 50 & 0.977394 & 0.121673 & 50000 & 0.855722 & 1.09907 & 1.95479e-5 \\\\\n",
       "\t5 & 10000 & 5 & 2.31113 & 0.112797 & 50000 & 2.19833 & 2.42393 & 4.62226e-5 \\\\\n",
       "\t6 & 10000 & 10 & 4.28747 & 0.220976 & 100000 & 4.06649 & 4.50844 & 4.28747e-5 \\\\\n",
       "\t7 & 10000 & 20 & 7.7536 & 0.65334 & 200000 & 7.10026 & 8.40694 & 3.8768e-5 \\\\\n",
       "\t8 & 10000 & 50 & 10.9147 & 0.218469 & 500000 & 10.6962 & 11.1331 & 2.18293e-5 \\\\\n",
       "\t9 & 50000 & 5 & 8.98712 & 0.825512 & 250000 & 8.1616 & 9.81263 & 3.59485e-5 \\\\\n",
       "\t10 & 50000 & 10 & 12.0691 & 1.2396 & 500000 & 10.8295 & 13.3087 & 2.41381e-5 \\\\\n",
       "\t11 & 50000 & 20 & 25.6268 & 1.78727 & 1000000 & 23.8395 & 27.414 & 2.56268e-5 \\\\\n",
       "\t12 & 50000 & 50 & 45.6507 & 9.5668 & 2500000 & 36.0839 & 55.2175 & 1.82603e-5 \\\\\n",
       "\\end{tabular}\n"
      ],
      "text/plain": [
       "\u001b[1m12×8 DataFrame\u001b[0m\n",
       "\u001b[1m Row \u001b[0m│\u001b[1m samplesize \u001b[0m\u001b[1m obssize \u001b[0m\u001b[1m fittime   \u001b[0m\u001b[1m se        \u001b[0m\u001b[1m nobs    \u001b[0m\u001b[1m fitmin    \u001b[0m\u001b[1m fitmax  \u001b[0m ⋯\n",
       "\u001b[1m     \u001b[0m│\u001b[90m String     \u001b[0m\u001b[90m String  \u001b[0m\u001b[90m Float64   \u001b[0m\u001b[90m Float64   \u001b[0m\u001b[90m Int64   \u001b[0m\u001b[90m Float64   \u001b[0m\u001b[90m Float64 \u001b[0m ⋯\n",
       "─────┼──────────────────────────────────────────────────────────────────────────\n",
       "   1 │ 1000        5         0.721164  0.36961       5000   0.351554   1.09077 ⋯\n",
       "   2 │ 1000        10        0.426696  0.0450174    10000   0.381679   0.47171\n",
       "   3 │ 1000        20        0.806481  0.113701     20000   0.69278    0.92018\n",
       "   4 │ 1000        50        0.977394  0.121673     50000   0.855722   1.09907\n",
       "   5 │ 10000       5         2.31113   0.112797     50000   2.19833    2.42393 ⋯\n",
       "   6 │ 10000       10        4.28747   0.220976    100000   4.06649    4.50844\n",
       "   7 │ 10000       20        7.7536    0.65334     200000   7.10026    8.40694\n",
       "   8 │ 10000       50       10.9147    0.218469    500000  10.6962    11.1331\n",
       "   9 │ 50000       5         8.98712   0.825512    250000   8.1616     9.81263 ⋯\n",
       "  10 │ 50000       10       12.0691    1.2396      500000  10.8295    13.3087\n",
       "  11 │ 50000       20       25.6268    1.78727    1000000  23.8395    27.414\n",
       "  12 │ 50000       50       45.6507    9.5668     2500000  36.0839    55.2175\n",
       "\u001b[36m                                                               2 columns omitted\u001b[0m"
      ]
     },
     "execution_count": 6,
     "metadata": {},
     "output_type": "execute_result"
    }
   ],
   "source": [
    "#simulation parameters\n",
    "@info \"making results table Quasi-Copula\"\n",
    "sample_sizes = repeat(string.(samplesizes), inner = nsims * length(ns))\n",
    "obs_sizes = repeat(string.(ns), inner = nsims, outer = length(samplesizes))\n",
    "\n",
    "msedf = DataFrame(βmse = βMseresult, Σmse = ΣMseresult, \n",
    "    samplesize = sample_sizes, obssize = obs_sizes, fittimes = fittimes_QC)\n",
    "timedf1 = combine(groupby(msedf, [:samplesize, :obssize]), :fittimes => mean => :fittime,\n",
    "    :fittimes => x -> (std(x)/sqrt(length(x))))\n",
    "rename!(timedf1, Dict(:fittimes_function => \"se\"))\n",
    "timedf1[!, :nobs] = Meta.parse.(timedf1[!, :samplesize]) .* Meta.parse.(timedf1[!, :obssize])\n",
    "timedf1[!, :fitmin] = timedf1[!, :fittime] - timedf1[!, :se]\n",
    "timedf1[!, :fitmax] = timedf1[!, :fittime] + timedf1[!, :se]\n",
    "timedf1[!, :perobsratio] = timedf1[!, :fittime] ./ timedf1[!, :nobs]\n",
    "timedf1"
   ]
  },
  {
   "cell_type": "code",
   "execution_count": 7,
   "metadata": {},
   "outputs": [
    {
     "name": "stderr",
     "output_type": "stream",
     "text": [
      "┌ Info: making results table GLMM\n",
      "└ @ Main In[7]:2\n"
     ]
    },
    {
     "data": {
      "text/html": [
       "<table class=\"data-frame\"><thead><tr><th></th><th>samplesize</th><th>obssize</th><th>fittime</th><th>se</th><th>nobs</th><th>fitmin</th><th>fitmax</th><th>perobsratio</th></tr><tr><th></th><th>String</th><th>String</th><th>Float64</th><th>Float64</th><th>Int64</th><th>Float64</th><th>Float64</th><th>Float64</th></tr></thead><tbody><p>12 rows × 8 columns</p><tr><th>1</th><td>1000</td><td>5</td><td>7.58715</td><td>7.45275</td><td>5000</td><td>0.134397</td><td>15.0399</td><td>0.00151743</td></tr><tr><th>2</th><td>1000</td><td>10</td><td>0.22092</td><td>0.0114102</td><td>10000</td><td>0.20951</td><td>0.23233</td><td>2.2092e-5</td></tr><tr><th>3</th><td>1000</td><td>20</td><td>0.367093</td><td>0.0120174</td><td>20000</td><td>0.355076</td><td>0.379111</td><td>1.83547e-5</td></tr><tr><th>4</th><td>1000</td><td>50</td><td>0.763731</td><td>0.0383155</td><td>50000</td><td>0.725415</td><td>0.802046</td><td>1.52746e-5</td></tr><tr><th>5</th><td>10000</td><td>5</td><td>1.29609</td><td>0.0546578</td><td>50000</td><td>1.24143</td><td>1.35075</td><td>2.59218e-5</td></tr><tr><th>6</th><td>10000</td><td>10</td><td>1.9663</td><td>0.0738268</td><td>100000</td><td>1.89248</td><td>2.04013</td><td>1.9663e-5</td></tr><tr><th>7</th><td>10000</td><td>20</td><td>3.54228</td><td>0.0880956</td><td>200000</td><td>3.45418</td><td>3.63037</td><td>1.77114e-5</td></tr><tr><th>8</th><td>10000</td><td>50</td><td>8.56158</td><td>0.326689</td><td>500000</td><td>8.23489</td><td>8.88827</td><td>1.71232e-5</td></tr><tr><th>9</th><td>50000</td><td>5</td><td>16.1597</td><td>0.771339</td><td>250000</td><td>15.3884</td><td>16.9311</td><td>6.46389e-5</td></tr><tr><th>10</th><td>50000</td><td>10</td><td>20.968</td><td>0.801653</td><td>500000</td><td>20.1664</td><td>21.7697</td><td>4.19361e-5</td></tr><tr><th>11</th><td>50000</td><td>20</td><td>32.3434</td><td>0.534806</td><td>1000000</td><td>31.8086</td><td>32.8782</td><td>3.23434e-5</td></tr><tr><th>12</th><td>50000</td><td>50</td><td>72.4331</td><td>2.04158</td><td>2500000</td><td>70.3915</td><td>74.4746</td><td>2.89732e-5</td></tr></tbody></table>"
      ],
      "text/latex": [
       "\\begin{tabular}{r|cccccccc}\n",
       "\t& samplesize & obssize & fittime & se & nobs & fitmin & fitmax & perobsratio\\\\\n",
       "\t\\hline\n",
       "\t& String & String & Float64 & Float64 & Int64 & Float64 & Float64 & Float64\\\\\n",
       "\t\\hline\n",
       "\t1 & 1000 & 5 & 7.58715 & 7.45275 & 5000 & 0.134397 & 15.0399 & 0.00151743 \\\\\n",
       "\t2 & 1000 & 10 & 0.22092 & 0.0114102 & 10000 & 0.20951 & 0.23233 & 2.2092e-5 \\\\\n",
       "\t3 & 1000 & 20 & 0.367093 & 0.0120174 & 20000 & 0.355076 & 0.379111 & 1.83547e-5 \\\\\n",
       "\t4 & 1000 & 50 & 0.763731 & 0.0383155 & 50000 & 0.725415 & 0.802046 & 1.52746e-5 \\\\\n",
       "\t5 & 10000 & 5 & 1.29609 & 0.0546578 & 50000 & 1.24143 & 1.35075 & 2.59218e-5 \\\\\n",
       "\t6 & 10000 & 10 & 1.9663 & 0.0738268 & 100000 & 1.89248 & 2.04013 & 1.9663e-5 \\\\\n",
       "\t7 & 10000 & 20 & 3.54228 & 0.0880956 & 200000 & 3.45418 & 3.63037 & 1.77114e-5 \\\\\n",
       "\t8 & 10000 & 50 & 8.56158 & 0.326689 & 500000 & 8.23489 & 8.88827 & 1.71232e-5 \\\\\n",
       "\t9 & 50000 & 5 & 16.1597 & 0.771339 & 250000 & 15.3884 & 16.9311 & 6.46389e-5 \\\\\n",
       "\t10 & 50000 & 10 & 20.968 & 0.801653 & 500000 & 20.1664 & 21.7697 & 4.19361e-5 \\\\\n",
       "\t11 & 50000 & 20 & 32.3434 & 0.534806 & 1000000 & 31.8086 & 32.8782 & 3.23434e-5 \\\\\n",
       "\t12 & 50000 & 50 & 72.4331 & 2.04158 & 2500000 & 70.3915 & 74.4746 & 2.89732e-5 \\\\\n",
       "\\end{tabular}\n"
      ],
      "text/plain": [
       "\u001b[1m12×8 DataFrame\u001b[0m\n",
       "\u001b[1m Row \u001b[0m│\u001b[1m samplesize \u001b[0m\u001b[1m obssize \u001b[0m\u001b[1m fittime   \u001b[0m\u001b[1m se        \u001b[0m\u001b[1m nobs    \u001b[0m\u001b[1m fitmin    \u001b[0m\u001b[1m fitmax  \u001b[0m ⋯\n",
       "\u001b[1m     \u001b[0m│\u001b[90m String     \u001b[0m\u001b[90m String  \u001b[0m\u001b[90m Float64   \u001b[0m\u001b[90m Float64   \u001b[0m\u001b[90m Int64   \u001b[0m\u001b[90m Float64   \u001b[0m\u001b[90m Float64 \u001b[0m ⋯\n",
       "─────┼──────────────────────────────────────────────────────────────────────────\n",
       "   1 │ 1000        5         7.58715   7.45275       5000   0.134397  15.0399  ⋯\n",
       "   2 │ 1000        10        0.22092   0.0114102    10000   0.20951    0.23233\n",
       "   3 │ 1000        20        0.367093  0.0120174    20000   0.355076   0.37911\n",
       "   4 │ 1000        50        0.763731  0.0383155    50000   0.725415   0.80204\n",
       "   5 │ 10000       5         1.29609   0.0546578    50000   1.24143    1.35075 ⋯\n",
       "   6 │ 10000       10        1.9663    0.0738268   100000   1.89248    2.04013\n",
       "   7 │ 10000       20        3.54228   0.0880956   200000   3.45418    3.63037\n",
       "   8 │ 10000       50        8.56158   0.326689    500000   8.23489    8.88827\n",
       "   9 │ 50000       5        16.1597    0.771339    250000  15.3884    16.9311  ⋯\n",
       "  10 │ 50000       10       20.968     0.801653    500000  20.1664    21.7697\n",
       "  11 │ 50000       20       32.3434    0.534806   1000000  31.8086    32.8782\n",
       "  12 │ 50000       50       72.4331    2.04158    2500000  70.3915    74.4746\n",
       "\u001b[36m                                                               2 columns omitted\u001b[0m"
      ]
     },
     "execution_count": 7,
     "metadata": {},
     "output_type": "execute_result"
    }
   ],
   "source": [
    "#simulation parameters\n",
    "@info \"making results table GLMM\"\n",
    "sample_sizes = repeat(string.(samplesizes), inner = nsims * length(ns))\n",
    "obs_sizes = repeat(string.(ns), inner = nsims, outer = length(samplesizes))\n",
    "\n",
    "msedf = DataFrame(βmse = βMseresult, Σmse = ΣMseresult, \n",
    "    samplesize = sample_sizes, obssize = obs_sizes, fittimes = fittimes_GLMM)\n",
    "timedf2 = combine(groupby(msedf, [:samplesize, :obssize]), :fittimes => mean => :fittime,\n",
    "    :fittimes => x -> (std(x)/sqrt(length(x))))\n",
    "rename!(timedf2, Dict(:fittimes_function => \"se\"))\n",
    "timedf2[!, :nobs] = Meta.parse.(timedf2[!, :samplesize]) .* Meta.parse.(timedf2[!, :obssize])\n",
    "timedf2[!, :fitmin] = timedf2[!, :fittime] - timedf2[!, :se]\n",
    "timedf2[!, :fitmax] = timedf2[!, :fittime] + timedf2[!, :se]\n",
    "timedf2[!, :perobsratio] = timedf2[!, :fittime] ./ timedf2[!, :nobs]\n",
    "timedf2"
   ]
  },
  {
   "cell_type": "code",
   "execution_count": 8,
   "metadata": {},
   "outputs": [
    {
     "name": "stderr",
     "output_type": "stream",
     "text": [
      "┌ Warning: RCall.jl: Warning: package ‘ggplot2’ was built under R version 4.0.2\n",
      "└ @ RCall /Users/sarahji/.julia/packages/RCall/iMDW2/src/io.jl:160\n",
      "┌ Warning: RCall.jl: Warning: package ‘cowplot’ was built under R version 4.0.2\n",
      "└ @ RCall /Users/sarahji/.julia/packages/RCall/iMDW2/src/io.jl:160\n"
     ]
    },
    {
     "data": {
      "image/png": "[encoded data removed]"
     },
     "metadata": {},
     "output_type": "display_data"
    },
    {
     "data": {
      "text/plain": [
       "RObject{VecSxp}\n"
      ]
     },
     "execution_count": 8,
     "metadata": {},
     "output_type": "execute_result"
    }
   ],
   "source": [
    "########### plot the runtimes\n",
    "using RCall\n",
    "@rput timedf1\n",
    "@rput timedf2\n",
    "R\"\"\"\n",
    "library(ggplot2)\n",
    "library(cowplot)\n",
    "timedf1$obssize = factor(timedf1$obssize, levels = c('5', '10', '20', '50'))\n",
    "timedf1$samplesize = factor(timedf1$samplesize, levels = c('1000', '10000', '50000'))\n",
    "\n",
    "fittime_1 = ggplot(timedf1, aes(x = samplesize, y = fittime, group = obssize, color = obssize)) + \n",
    "  geom_line() +\n",
    "  geom_point()+\n",
    "  geom_errorbar(aes(ymin=fitmin, ymax=fitmax), width=0.5, alpha = 0.8, position=position_dodge(0.005)) + \n",
    "  theme(legend.position=c(0.15,0.85), legend.key = element_blank(), axis.text.x = element_text(angle=0, size=13),\n",
    "        axis.text.y = element_text(angle=0, size=13), axis.title.x = element_text(size = 17), \n",
    "        axis.title.y = element_text(size = 17), legend.title = element_text(size = 14),\n",
    "        #axis.ticks = element_blank(),\n",
    "        panel.grid.major = element_blank(), legend.text=element_text(size=13),\n",
    "        panel.border = element_blank(), panel.grid.minor = element_blank(), panel.background = element_blank(), \n",
    "        axis.line = element_line(color = 'black',size=0.3), plot.title = element_text(hjust = 0.5)) + \n",
    "   scale_color_manual(values = c(\"#c85f55\",\n",
    "\"#a964bf\",\n",
    "\"#8db352\",\n",
    "\"#fa7300\",\n",
    "\"#05aec0\")) +\n",
    "  labs(x = \"Number of Individuals\", y = \"Fit time (seconds)\", color = \"Obs per Individual\")\n",
    "\n",
    "timedf2$obssize = factor(timedf2$obssize, levels = c('5', '10', '20', '50'))\n",
    "timedf2$samplesize = factor(timedf2$samplesize, levels = c('1000', '10000', '50000'))\n",
    "\n",
    "fittime_2 = ggplot(timedf2, aes(x = samplesize, y = fittime, group = obssize, color = obssize)) + \n",
    "  geom_line() +\n",
    "  geom_point()+\n",
    "  geom_errorbar(aes(ymin=fitmin, ymax=fitmax), width=0.5, alpha = 0.8, position=position_dodge(0.005)) + \n",
    "  theme(legend.position=c(0.15,0.85), legend.key = element_blank(), axis.text.x = element_text(angle=0, size=13),\n",
    "        axis.text.y = element_text(angle=0, size=13), axis.title.x = element_text(size = 17), \n",
    "        axis.title.y = element_text(size = 17), legend.title = element_text(size = 14),\n",
    "        #axis.ticks = element_blank(),\n",
    "        panel.grid.major = element_blank(), legend.text=element_text(size=13),\n",
    "        panel.border = element_blank(), panel.grid.minor = element_blank(), panel.background = element_blank(), \n",
    "        axis.line = element_line(color = 'black',size=0.3), plot.title = element_text(hjust = 0.5)) + \n",
    "   scale_color_manual(values = c(\"#c85f55\",\n",
    "\"#a964bf\",\n",
    "\"#8db352\",\n",
    "\"#fa7300\",\n",
    "\"#05aec0\")) +\n",
    "  labs(x = \"Number of Individuals\", y = \"Fit time (seconds)\", color = \"Obs per Individual\")\n",
    "\n",
    "plot_grid(fittime_1, fittime_2, labels = c(\"Quasi-Copula\", \"GLMM\"))\n",
    "\"\"\""
   ]
  },
  {
   "cell_type": "code",
   "execution_count": 9,
   "metadata": {},
   "outputs": [
    {
     "name": "stderr",
     "output_type": "stream",
     "text": [
      "┌ Warning: RCall.jl: Warning: package ‘scales’ was built under R version 4.0.2\n",
      "└ @ RCall /Users/sarahji/.julia/packages/RCall/iMDW2/src/io.jl:160\n"
     ]
    },
    {
     "data": {
      "image/png": "[encoded data removed]"
     },
     "metadata": {},
     "output_type": "display_data"
    },
    {
     "data": {
      "text/plain": [
       "RObject{VecSxp}\n"
      ]
     },
     "execution_count": 9,
     "metadata": {},
     "output_type": "execute_result"
    }
   ],
   "source": [
    "using RCall\n",
    "@rput timedf1\n",
    "@rput timedf2\n",
    "\n",
    "R\"\"\"\n",
    "library(scales)\n",
    "library(ggplot2)\n",
    "timedf1$obssize <- factor(timedf1$obssize, levels = c('5', '10', '20'))\n",
    "timedf1$samplesize <- factor(timedf1$samplesize, levels = c('1000', '10000', '50000'))\n",
    "\n",
    "fancy_scientific <- function(l) {\n",
    "     # turn in to character string in scientific notation\n",
    "     l <- format(l, scientific = TRUE)\n",
    "     # quote the part before the exponent to keep all the digits\n",
    "     l <- gsub(\"^(.*)e\", \"'\\\\1'e\", l)\n",
    "     # turn the 'e+' into plotmath format\n",
    "     l <- gsub(\"e\", \"%*%10^\", l)\n",
    "     # return this as an expression\n",
    "     parse(text=l)\n",
    "}\n",
    "\n",
    "fittimeperobs1 = ggplot(timedf1, aes(x=nobs, y=perobsratio)) + \n",
    "  geom_line() +\n",
    "  geom_point()+\n",
    "#  geom_errorbar(aes(ymin=fitmin, ymax=fitmax), width=0.5, alpha = 0.8, position=position_dodge(0.005)) + \n",
    "  theme(legend.position=c(0.15,0.8), legend.key = element_blank(), axis.text.x = element_text(angle=0, size=13),\n",
    "        axis.text.y = element_text(angle=0, size=13), axis.title.x = element_text(size = 17), \n",
    "        axis.title.y = element_text(size = 17), legend.title = element_text(size = 14),\n",
    "        #axis.ticks = element_blank(),\n",
    "        panel.grid.major = element_blank(), legend.text=element_text(size=11),\n",
    "        panel.border = element_blank(), panel.grid.minor = element_blank(), panel.background = element_blank(), \n",
    "        axis.line = element_line(color = 'black',size=0.3), plot.title = element_text(hjust = 0.5)) + \n",
    "  labs(x = \"Total Number of Observations\", y = \"Fit time per observation (seconds)\", color = \"Obs per Individual\") +\n",
    "#scale_x_log10(breaks = 10^seq(0, 7, 1), labels=trans_format(\"log10\", math_format(10^.x)))# + #, limit=c(10^0, 10^7))\n",
    "scale_x_continuous(breaks = seq(0, 6000000, 1000000), labels= fancy_scientific) +\n",
    "scale_y_continuous(breaks = c(10^-4, 2 * 10^-4, 3 * 10^-4, 4 * 10^-4, 5 * 10^-4, 6 * 10^-4), labels= fancy_scientific)\n",
    "\n",
    "# glmm fit times\n",
    "timedf2$obssize <- factor(timedf2$obssize, levels = c('5', '10', '20', '50'))\n",
    "timedf2$samplesize <- factor(timedf2$samplesize, levels = c('1000', '10000', '50000'))\n",
    "\n",
    "fancy_scientific <- function(l) {\n",
    "     # turn in to character string in scientific notation\n",
    "     l <- format(l, scientific = TRUE)\n",
    "     # quote the part before the exponent to keep all the digits\n",
    "     l <- gsub(\"^(.*)e\", \"'\\\\1'e\", l)\n",
    "     # turn the 'e+' into plotmath format\n",
    "     l <- gsub(\"e\", \"%*%10^\", l)\n",
    "     # return this as an expression\n",
    "     parse(text=l)\n",
    "}\n",
    "\n",
    "fittimeperobs2 = ggplot(timedf2, aes(x=nobs, y=perobsratio)) + \n",
    "  geom_line() +\n",
    "  geom_point()+\n",
    "#  geom_errorbar(aes(ymin=fitmin, ymax=fitmax), width=0.5, alpha = 0.8, position=position_dodge(0.005)) + \n",
    "  theme(legend.position=c(0.15,0.8), legend.key = element_blank(), axis.text.x = element_text(angle=0, size=13),\n",
    "        axis.text.y = element_text(angle=0, size=13), axis.title.x = element_text(size = 17), \n",
    "        axis.title.y = element_text(size = 17), legend.title = element_text(size = 14),\n",
    "        #axis.ticks = element_blank(),\n",
    "        panel.grid.major = element_blank(), legend.text=element_text(size=11),\n",
    "        panel.border = element_blank(), panel.grid.minor = element_blank(), panel.background = element_blank(), \n",
    "        axis.line = element_line(color = 'black',size=0.3), plot.title = element_text(hjust = 0.5)) + \n",
    "  labs(x = \"Total Number of Observations\", y = \"Fit time per observation (seconds)\", color = \"Obs per Individual\") +\n",
    "#scale_x_log10(breaks = 10^seq(0, 7, 1), labels=trans_format(\"log10\", math_format(10^.x)))# + #, limit=c(10^0, 10^7))\n",
    "scale_x_continuous(breaks = seq(0, 6000000, 1000000), labels= fancy_scientific) +\n",
    "scale_y_continuous(breaks = c(10^-4, 2 * 10^-4, 3 * 10^-4, 4 * 10^-4, 5 * 10^-4, 6 * 10^-4), labels= fancy_scientific)\n",
    "\n",
    "plot_grid(fittimeperobs1, fittimeperobs2, labels = c(\"Quasi-Copula\", \"GLMM\"))\n",
    "\n",
    "\"\"\""
   ]
  },
  {
   "cell_type": "code",
   "execution_count": 10,
   "metadata": {},
   "outputs": [
    {
     "data": {
      "text/html": [
       "<table class=\"data-frame\"><thead><tr><th></th><th>people_obs</th><th>β1</th><th>β2</th><th>β3</th><th>Σ1</th></tr><tr><th></th><th>String</th><th>Tuple…</th><th>Tuple…</th><th>Tuple…</th><th>Tuple…</th></tr></thead><tbody><p>12 rows × 5 columns</p><tr><th>1</th><td>N: 1000  ni: 5</td><td>(0.6, 0.244949)</td><td>(0.8, 0.2)</td><td>(0.8, 0.2)</td><td>(0.6, 0.244949)</td></tr><tr><th>2</th><td>N: 1000  ni: 10</td><td>(0.8, 0.2)</td><td>(0.8, 0.2)</td><td>(0.4, 0.244949)</td><td>(0.2, 0.2)</td></tr><tr><th>3</th><td>N: 1000  ni: 20</td><td>(0.8, 0.2)</td><td>(0.6, 0.244949)</td><td>(1.0, 0.0)</td><td>(1.0, 0.0)</td></tr><tr><th>4</th><td>N: 1000  ni: 50</td><td>(1.0, 0.0)</td><td>(0.8, 0.2)</td><td>(0.8, 0.2)</td><td>(0.8, 0.2)</td></tr><tr><th>5</th><td>N: 10000  ni: 5</td><td>(0.8, 0.2)</td><td>(0.8, 0.2)</td><td>(0.8, 0.2)</td><td>(0.8, 0.2)</td></tr><tr><th>6</th><td>N: 10000  ni: 10</td><td>(0.8, 0.2)</td><td>(0.2, 0.2)</td><td>(0.6, 0.244949)</td><td>(1.0, 0.0)</td></tr><tr><th>7</th><td>N: 10000  ni: 20</td><td>(0.8, 0.2)</td><td>(0.8, 0.2)</td><td>(0.8, 0.2)</td><td>(0.4, 0.244949)</td></tr><tr><th>8</th><td>N: 10000  ni: 50</td><td>(1.0, 0.0)</td><td>(1.0, 0.0)</td><td>(0.8, 0.2)</td><td>(1.0, 0.0)</td></tr><tr><th>9</th><td>N: 50000  ni: 5</td><td>(0.4, 0.244949)</td><td>(0.4, 0.244949)</td><td>(0.2, 0.2)</td><td>(1.0, 0.0)</td></tr><tr><th>10</th><td>N: 50000  ni: 10</td><td>(0.8, 0.2)</td><td>(0.8, 0.2)</td><td>(0.4, 0.244949)</td><td>(0.4, 0.244949)</td></tr><tr><th>11</th><td>N: 50000  ni: 20</td><td>(0.8, 0.2)</td><td>(0.8, 0.2)</td><td>(0.4, 0.244949)</td><td>(0.6, 0.244949)</td></tr><tr><th>12</th><td>N: 50000  ni: 50</td><td>(0.8, 0.2)</td><td>(0.8, 0.2)</td><td>(0.8, 0.2)</td><td>(0.4, 0.244949)</td></tr></tbody></table>"
      ],
      "text/latex": [
       "\\begin{tabular}{r|ccccc}\n",
       "\t& people\\_obs & β1 & β2 & β3 & Σ1\\\\\n",
       "\t\\hline\n",
       "\t& String & Tuple… & Tuple… & Tuple… & Tuple…\\\\\n",
       "\t\\hline\n",
       "\t1 & N: 1000  ni: 5 & (0.6, 0.244949) & (0.8, 0.2) & (0.8, 0.2) & (0.6, 0.244949) \\\\\n",
       "\t2 & N: 1000  ni: 10 & (0.8, 0.2) & (0.8, 0.2) & (0.4, 0.244949) & (0.2, 0.2) \\\\\n",
       "\t3 & N: 1000  ni: 20 & (0.8, 0.2) & (0.6, 0.244949) & (1.0, 0.0) & (1.0, 0.0) \\\\\n",
       "\t4 & N: 1000  ni: 50 & (1.0, 0.0) & (0.8, 0.2) & (0.8, 0.2) & (0.8, 0.2) \\\\\n",
       "\t5 & N: 10000  ni: 5 & (0.8, 0.2) & (0.8, 0.2) & (0.8, 0.2) & (0.8, 0.2) \\\\\n",
       "\t6 & N: 10000  ni: 10 & (0.8, 0.2) & (0.2, 0.2) & (0.6, 0.244949) & (1.0, 0.0) \\\\\n",
       "\t7 & N: 10000  ni: 20 & (0.8, 0.2) & (0.8, 0.2) & (0.8, 0.2) & (0.4, 0.244949) \\\\\n",
       "\t8 & N: 10000  ni: 50 & (1.0, 0.0) & (1.0, 0.0) & (0.8, 0.2) & (1.0, 0.0) \\\\\n",
       "\t9 & N: 50000  ni: 5 & (0.4, 0.244949) & (0.4, 0.244949) & (0.2, 0.2) & (1.0, 0.0) \\\\\n",
       "\t10 & N: 50000  ni: 10 & (0.8, 0.2) & (0.8, 0.2) & (0.4, 0.244949) & (0.4, 0.244949) \\\\\n",
       "\t11 & N: 50000  ni: 20 & (0.8, 0.2) & (0.8, 0.2) & (0.4, 0.244949) & (0.6, 0.244949) \\\\\n",
       "\t12 & N: 50000  ni: 50 & (0.8, 0.2) & (0.8, 0.2) & (0.8, 0.2) & (0.4, 0.244949) \\\\\n",
       "\\end{tabular}\n"
      ],
      "text/plain": [
       "\u001b[1m12×5 DataFrame\u001b[0m\n",
       "\u001b[1m Row \u001b[0m│\u001b[1m people_obs       \u001b[0m\u001b[1m β1              \u001b[0m\u001b[1m β2              \u001b[0m\u001b[1m β3              \u001b[0m\u001b[1m Σ1\u001b[0m ⋯\n",
       "\u001b[1m     \u001b[0m│\u001b[90m String           \u001b[0m\u001b[90m Tuple…          \u001b[0m\u001b[90m Tuple…          \u001b[0m\u001b[90m Tuple…          \u001b[0m\u001b[90m Tu\u001b[0m ⋯\n",
       "─────┼──────────────────────────────────────────────────────────────────────────\n",
       "   1 │ N: 1000  ni: 5    (0.6, 0.244949)  (0.8, 0.2)       (0.8, 0.2)       (0 ⋯\n",
       "   2 │ N: 1000  ni: 10   (0.8, 0.2)       (0.8, 0.2)       (0.4, 0.244949)  (0\n",
       "   3 │ N: 1000  ni: 20   (0.8, 0.2)       (0.6, 0.244949)  (1.0, 0.0)       (1\n",
       "   4 │ N: 1000  ni: 50   (1.0, 0.0)       (0.8, 0.2)       (0.8, 0.2)       (0\n",
       "   5 │ N: 10000  ni: 5   (0.8, 0.2)       (0.8, 0.2)       (0.8, 0.2)       (0 ⋯\n",
       "   6 │ N: 10000  ni: 10  (0.8, 0.2)       (0.2, 0.2)       (0.6, 0.244949)  (1\n",
       "   7 │ N: 10000  ni: 20  (0.8, 0.2)       (0.8, 0.2)       (0.8, 0.2)       (0\n",
       "   8 │ N: 10000  ni: 50  (1.0, 0.0)       (1.0, 0.0)       (0.8, 0.2)       (1\n",
       "   9 │ N: 50000  ni: 5   (0.4, 0.244949)  (0.4, 0.244949)  (0.2, 0.2)       (1 ⋯\n",
       "  10 │ N: 50000  ni: 10  (0.8, 0.2)       (0.8, 0.2)       (0.4, 0.244949)  (0\n",
       "  11 │ N: 50000  ni: 20  (0.8, 0.2)       (0.8, 0.2)       (0.4, 0.244949)  (0\n",
       "  12 │ N: 50000  ni: 50  (0.8, 0.2)       (0.8, 0.2)       (0.8, 0.2)       (0\n",
       "\u001b[36m                                                                1 column omitted\u001b[0m"
      ]
     },
     "execution_count": 10,
     "metadata": {},
     "output_type": "execute_result"
    }
   ],
   "source": [
    "######  supplementary table s1\n",
    "using Random, DataFrames, DelimitedFiles, Statistics\n",
    "import StatsBase: sem\n",
    "\n",
    "βΣcoverage = readdlm(\"beta_sigma_coverage_logistic_vcm$(nsims)reps_sim.csv\", ',')\n",
    "\n",
    "m  = 1\n",
    "\n",
    "covdf = DataFrame(Matrix(transpose(βΣcoverage)), :auto)\n",
    "rename!(covdf, Symbol.([[\"β$i\" for i in 1:p]; [\"Σ$i\" for i in 1:m]]))\n",
    "covdf[!, :samplesize] = sample_sizes\n",
    "covdf[!, :obssize] = obs_sizes\n",
    "first(covdf, 10)\n",
    "\n",
    "row_stats = [[(mean(col), sem(col)) for col = eachcol(d[!, 1:end-2])] for d = groupby(covdf, [:samplesize; :obssize])]\n",
    "df = DataFrame(row_stats, :auto)\n",
    "ss_obs = unique(\"N: \" .* sample_sizes .* \"  ni: \" .* obs_sizes)\n",
    "rename!(df, Symbol.(ss_obs))\n",
    "covdfdisplay = DataFrame([[names(df)]; collect.(eachrow(df))], \n",
    "    [:people_obs; Symbol.([[\"β$i\" for i in 1:p]; [\"Σ$i\" for i in 1:m]])])\n",
    "# deletecols!(covdfdisplay, p + 2)\n",
    "covdfdisplay\n"
   ]
  },
  {
   "cell_type": "code",
   "execution_count": 11,
   "metadata": {},
   "outputs": [
    {
     "data": {
      "text/html": [
       "<table class=\"data-frame\"><thead><tr><th></th><th>mse</th><th>obssize</th><th>samplesize</th><th>parameters</th><th>robust</th></tr><tr><th></th><th>Float64</th><th>String</th><th>String</th><th>String</th><th>String</th></tr></thead><tbody><p>240 rows × 5 columns</p><tr><th>1</th><td>0.0191814</td><td>5</td><td>1000</td><td>beta</td><td>Logistic Quasi-Copula</td></tr><tr><th>2</th><td>0.00494925</td><td>5</td><td>1000</td><td>beta</td><td>Logistic Quasi-Copula</td></tr><tr><th>3</th><td>0.00328435</td><td>5</td><td>1000</td><td>beta</td><td>Logistic Quasi-Copula</td></tr><tr><th>4</th><td>0.00102616</td><td>5</td><td>1000</td><td>beta</td><td>Logistic Quasi-Copula</td></tr><tr><th>5</th><td>0.0014011</td><td>5</td><td>1000</td><td>beta</td><td>Logistic Quasi-Copula</td></tr><tr><th>6</th><td>0.000368881</td><td>10</td><td>1000</td><td>beta</td><td>Logistic Quasi-Copula</td></tr><tr><th>7</th><td>0.00178109</td><td>10</td><td>1000</td><td>beta</td><td>Logistic Quasi-Copula</td></tr><tr><th>8</th><td>0.00155228</td><td>10</td><td>1000</td><td>beta</td><td>Logistic Quasi-Copula</td></tr><tr><th>9</th><td>0.000824028</td><td>10</td><td>1000</td><td>beta</td><td>Logistic Quasi-Copula</td></tr><tr><th>10</th><td>0.00347639</td><td>10</td><td>1000</td><td>beta</td><td>Logistic Quasi-Copula</td></tr><tr><th>11</th><td>0.000844403</td><td>20</td><td>1000</td><td>beta</td><td>Logistic Quasi-Copula</td></tr><tr><th>12</th><td>0.000274875</td><td>20</td><td>1000</td><td>beta</td><td>Logistic Quasi-Copula</td></tr><tr><th>13</th><td>0.000789658</td><td>20</td><td>1000</td><td>beta</td><td>Logistic Quasi-Copula</td></tr><tr><th>14</th><td>0.000560654</td><td>20</td><td>1000</td><td>beta</td><td>Logistic Quasi-Copula</td></tr><tr><th>15</th><td>0.00103759</td><td>20</td><td>1000</td><td>beta</td><td>Logistic Quasi-Copula</td></tr><tr><th>16</th><td>0.000118788</td><td>50</td><td>1000</td><td>beta</td><td>Logistic Quasi-Copula</td></tr><tr><th>17</th><td>0.000313254</td><td>50</td><td>1000</td><td>beta</td><td>Logistic Quasi-Copula</td></tr><tr><th>18</th><td>7.17168e-5</td><td>50</td><td>1000</td><td>beta</td><td>Logistic Quasi-Copula</td></tr><tr><th>19</th><td>0.000290376</td><td>50</td><td>1000</td><td>beta</td><td>Logistic Quasi-Copula</td></tr><tr><th>20</th><td>9.18213e-5</td><td>50</td><td>1000</td><td>beta</td><td>Logistic Quasi-Copula</td></tr><tr><th>21</th><td>8.69398e-5</td><td>5</td><td>10000</td><td>beta</td><td>Logistic Quasi-Copula</td></tr><tr><th>22</th><td>0.000118702</td><td>5</td><td>10000</td><td>beta</td><td>Logistic Quasi-Copula</td></tr><tr><th>23</th><td>0.000776586</td><td>5</td><td>10000</td><td>beta</td><td>Logistic Quasi-Copula</td></tr><tr><th>24</th><td>0.000114581</td><td>5</td><td>10000</td><td>beta</td><td>Logistic Quasi-Copula</td></tr><tr><th>25</th><td>0.00010768</td><td>5</td><td>10000</td><td>beta</td><td>Logistic Quasi-Copula</td></tr><tr><th>26</th><td>0.000138339</td><td>10</td><td>10000</td><td>beta</td><td>Logistic Quasi-Copula</td></tr><tr><th>27</th><td>6.8821e-5</td><td>10</td><td>10000</td><td>beta</td><td>Logistic Quasi-Copula</td></tr><tr><th>28</th><td>0.000279916</td><td>10</td><td>10000</td><td>beta</td><td>Logistic Quasi-Copula</td></tr><tr><th>29</th><td>0.000109248</td><td>10</td><td>10000</td><td>beta</td><td>Logistic Quasi-Copula</td></tr><tr><th>30</th><td>1.94325e-5</td><td>10</td><td>10000</td><td>beta</td><td>Logistic Quasi-Copula</td></tr><tr><th>&vellip;</th><td>&vellip;</td><td>&vellip;</td><td>&vellip;</td><td>&vellip;</td><td>&vellip;</td></tr></tbody></table>"
      ],
      "text/latex": [
       "\\begin{tabular}{r|ccccc}\n",
       "\t& mse & obssize & samplesize & parameters & robust\\\\\n",
       "\t\\hline\n",
       "\t& Float64 & String & String & String & String\\\\\n",
       "\t\\hline\n",
       "\t1 & 0.0191814 & 5 & 1000 & beta & Logistic Quasi-Copula \\\\\n",
       "\t2 & 0.00494925 & 5 & 1000 & beta & Logistic Quasi-Copula \\\\\n",
       "\t3 & 0.00328435 & 5 & 1000 & beta & Logistic Quasi-Copula \\\\\n",
       "\t4 & 0.00102616 & 5 & 1000 & beta & Logistic Quasi-Copula \\\\\n",
       "\t5 & 0.0014011 & 5 & 1000 & beta & Logistic Quasi-Copula \\\\\n",
       "\t6 & 0.000368881 & 10 & 1000 & beta & Logistic Quasi-Copula \\\\\n",
       "\t7 & 0.00178109 & 10 & 1000 & beta & Logistic Quasi-Copula \\\\\n",
       "\t8 & 0.00155228 & 10 & 1000 & beta & Logistic Quasi-Copula \\\\\n",
       "\t9 & 0.000824028 & 10 & 1000 & beta & Logistic Quasi-Copula \\\\\n",
       "\t10 & 0.00347639 & 10 & 1000 & beta & Logistic Quasi-Copula \\\\\n",
       "\t11 & 0.000844403 & 20 & 1000 & beta & Logistic Quasi-Copula \\\\\n",
       "\t12 & 0.000274875 & 20 & 1000 & beta & Logistic Quasi-Copula \\\\\n",
       "\t13 & 0.000789658 & 20 & 1000 & beta & Logistic Quasi-Copula \\\\\n",
       "\t14 & 0.000560654 & 20 & 1000 & beta & Logistic Quasi-Copula \\\\\n",
       "\t15 & 0.00103759 & 20 & 1000 & beta & Logistic Quasi-Copula \\\\\n",
       "\t16 & 0.000118788 & 50 & 1000 & beta & Logistic Quasi-Copula \\\\\n",
       "\t17 & 0.000313254 & 50 & 1000 & beta & Logistic Quasi-Copula \\\\\n",
       "\t18 & 7.17168e-5 & 50 & 1000 & beta & Logistic Quasi-Copula \\\\\n",
       "\t19 & 0.000290376 & 50 & 1000 & beta & Logistic Quasi-Copula \\\\\n",
       "\t20 & 9.18213e-5 & 50 & 1000 & beta & Logistic Quasi-Copula \\\\\n",
       "\t21 & 8.69398e-5 & 5 & 10000 & beta & Logistic Quasi-Copula \\\\\n",
       "\t22 & 0.000118702 & 5 & 10000 & beta & Logistic Quasi-Copula \\\\\n",
       "\t23 & 0.000776586 & 5 & 10000 & beta & Logistic Quasi-Copula \\\\\n",
       "\t24 & 0.000114581 & 5 & 10000 & beta & Logistic Quasi-Copula \\\\\n",
       "\t25 & 0.00010768 & 5 & 10000 & beta & Logistic Quasi-Copula \\\\\n",
       "\t26 & 0.000138339 & 10 & 10000 & beta & Logistic Quasi-Copula \\\\\n",
       "\t27 & 6.8821e-5 & 10 & 10000 & beta & Logistic Quasi-Copula \\\\\n",
       "\t28 & 0.000279916 & 10 & 10000 & beta & Logistic Quasi-Copula \\\\\n",
       "\t29 & 0.000109248 & 10 & 10000 & beta & Logistic Quasi-Copula \\\\\n",
       "\t30 & 1.94325e-5 & 10 & 10000 & beta & Logistic Quasi-Copula \\\\\n",
       "\t$\\dots$ & $\\dots$ & $\\dots$ & $\\dots$ & $\\dots$ & $\\dots$ \\\\\n",
       "\\end{tabular}\n"
      ],
      "text/plain": [
       "\u001b[1m240×5 DataFrame\u001b[0m\n",
       "\u001b[1m Row \u001b[0m│\u001b[1m mse         \u001b[0m\u001b[1m obssize \u001b[0m\u001b[1m samplesize \u001b[0m\u001b[1m parameters \u001b[0m\u001b[1m robust                \u001b[0m\n",
       "\u001b[1m     \u001b[0m│\u001b[90m Float64     \u001b[0m\u001b[90m String  \u001b[0m\u001b[90m String     \u001b[0m\u001b[90m String     \u001b[0m\u001b[90m String                \u001b[0m\n",
       "─────┼─────────────────────────────────────────────────────────────────────\n",
       "   1 │ 0.0191814    5        1000        beta        Logistic Quasi-Copula\n",
       "   2 │ 0.00494925   5        1000        beta        Logistic Quasi-Copula\n",
       "   3 │ 0.00328435   5        1000        beta        Logistic Quasi-Copula\n",
       "   4 │ 0.00102616   5        1000        beta        Logistic Quasi-Copula\n",
       "   5 │ 0.0014011    5        1000        beta        Logistic Quasi-Copula\n",
       "   6 │ 0.000368881  10       1000        beta        Logistic Quasi-Copula\n",
       "   7 │ 0.00178109   10       1000        beta        Logistic Quasi-Copula\n",
       "   8 │ 0.00155228   10       1000        beta        Logistic Quasi-Copula\n",
       "   9 │ 0.000824028  10       1000        beta        Logistic Quasi-Copula\n",
       "  10 │ 0.00347639   10       1000        beta        Logistic Quasi-Copula\n",
       "  11 │ 0.000844403  20       1000        beta        Logistic Quasi-Copula\n",
       "  ⋮  │      ⋮          ⋮         ⋮           ⋮                 ⋮\n",
       " 231 │ 0.0267696    20       50000       Sigma       Logistic GLMM\n",
       " 232 │ 0.024098     20       50000       Sigma       Logistic GLMM\n",
       " 233 │ 0.0254219    20       50000       Sigma       Logistic GLMM\n",
       " 234 │ 0.0254805    20       50000       Sigma       Logistic GLMM\n",
       " 235 │ 0.0261997    20       50000       Sigma       Logistic GLMM\n",
       " 236 │ 0.00278599   50       50000       Sigma       Logistic GLMM\n",
       " 237 │ 0.00298283   50       50000       Sigma       Logistic GLMM\n",
       " 238 │ 0.00284795   50       50000       Sigma       Logistic GLMM\n",
       " 239 │ 0.00280512   50       50000       Sigma       Logistic GLMM\n",
       " 240 │ 0.00300769   50       50000       Sigma       Logistic GLMM\n",
       "\u001b[36m                                                           219 rows omitted\u001b[0m"
      ]
     },
     "execution_count": 11,
     "metadata": {},
     "output_type": "execute_result"
    }
   ],
   "source": [
    "#### \n",
    "#import data and reorganize to create figure\n",
    "using Random, DataFrames, DelimitedFiles, Statistics, RCall, Printf\n",
    "import StatsBase: sem\n",
    "\n",
    "βMseresultpoisson = vec(readdlm(\"mse_beta_multivariate_logistic_vcm$(nsims)reps_sim.csv\", ','))\n",
    "ΣMseresultpoisson = vec(readdlm(\"mse_Sigma_multivariate_logistic_vcm$(nsims)reps_sim.csv\", ','))\n",
    "\n",
    "βMseresultpoisson_GLMM = vec(readdlm(\"mse_beta_logistic_GLMM_logistic_vcm$(nsims)reps_sim.csv\", ','))\n",
    "ΣMseresultpoisson_GLMM = vec(readdlm(\"mse_Sigma_logistic_GLMM_logistic_vcm$(nsims)reps_sim.csv\", ','))\n",
    "\n",
    "\n",
    "p = 3; m = 1\n",
    "sample_sizes = repeat(string.(samplesizes), inner = nsims * length(ns))\n",
    "obs_sizes = repeat(string.(ns), inner = nsims, outer = length(samplesizes))\n",
    "msedf1 = DataFrame(βmse = βMseresultpoisson, Σmse = ΣMseresultpoisson, \n",
    "    samplesize = sample_sizes, obssize = obs_sizes)\n",
    "\n",
    "msedf2 = DataFrame(βmse = βMseresultpoisson_GLMM, Σmse = ΣMseresultpoisson_GLMM, \n",
    "    samplesize = sample_sizes, obssize = obs_sizes)\n",
    "\n",
    "#rename to make parsing easier for R.\n",
    "\n",
    "msedf1 = deepcopy(msedf1)\n",
    "rename!(msedf1, [\"betamse\"\n",
    "    \"Sigmamse\"\n",
    "    \"samplesize\"\n",
    " \"obssize\"]);\n",
    "\n",
    "msedf2 = deepcopy(msedf2)\n",
    "rename!(msedf2, [\"betamse\"\n",
    "    \"Sigmamse\"\n",
    "    \"samplesize\"\n",
    " \"obssize\"]);\n",
    "\n",
    "mses = [msedf1[!, :betamse]; msedf1[!, :Sigmamse]; msedf2[!, :betamse]; msedf2[!, :Sigmamse]]\n",
    "    # msedfnormR[!, :betamse]; msedfnormR[!, :taumse]; msedfnormR[!, :Sigmamse]]\n",
    "obssize = [collect([repeat(msedf1[!, :obssize], 2)]...) ; collect([repeat(msedf2[!, :obssize], 2)]...)]\n",
    "#40\n",
    "samplesize = [collect([repeat(msedf1[!, :samplesize], 2)]...) ; collect([repeat(msedf2[!, :samplesize], 2)]...)]\n",
    "\n",
    "parameters = [collect([repeat(string.([:beta, :Sigma]), inner = nsims * length(ns) * length(samplesizes))]...) ; collect([repeat(string.([:beta, :Sigma]), inner = nsims * length(ns) * length(samplesizes))]...)]\n",
    "robust = [collect([repeat([\"Logistic Quasi-Copula\"], 2 * nsims * length(ns) * length(samplesizes))]...); collect([repeat([\"Logistic GLMM\"],  2 * nsims * length(ns) * length(samplesizes))]...)]\n",
    "\n",
    "msedfR = DataFrame(mse = mses, obssize = obssize, samplesize = samplesize,\n",
    "    parameters = parameters, robust = robust)\n",
    "\n",
    "#5 of the 30,000 simulations did not converge, filter out\n",
    "msedfR = filter(x -> !isnan(x.mse), msedfR)\n",
    "# additionally, there are 5 where an error was not caught so it did not try a differnt solver\n",
    "msedfR = filter(x -> x.mse < 40000, msedfR)"
   ]
  },
  {
   "cell_type": "code",
   "execution_count": 12,
   "metadata": {},
   "outputs": [
    {
     "name": "stderr",
     "output_type": "stream",
     "text": [
      "┌ Warning: RCall.jl: Warning: package ‘data.table’ was built under R version 4.0.2\n",
      "└ @ RCall /Users/sarahji/.julia/packages/RCall/iMDW2/src/io.jl:160\n"
     ]
    },
    {
     "data": {
      "image/png": "[encoded data removed]"
     },
     "metadata": {},
     "output_type": "display_data"
    },
    {
     "data": {
      "text/plain": [
       "RObject{VecSxp}\n"
      ]
     },
     "execution_count": 12,
     "metadata": {},
     "output_type": "execute_result"
    }
   ],
   "source": [
    "### working on figure next\n",
    "@rput msedfR\n",
    "\n",
    "R\"\"\"\n",
    "library(scales)\n",
    "library(ggplot2)\n",
    "library(data.table)\n",
    "\n",
    "msedfR = data.table(msedfR)\n",
    "\n",
    "msedfR[parameters == \"beta\",y_min := 10^-8]\n",
    "msedfR[parameters == \"beta\",y_max := 10^1]\n",
    "msedfR[parameters == \"Sigma\",y_min := 10^-5]\n",
    "msedfR[parameters == \"Sigma\",y_max := 10^1]\n",
    "\n",
    "#msedfR[parameters == \"beta\",y_min := 10^-8]\n",
    "#msedfR[parameters == \"beta\",y_max := 10^-2]\n",
    "#msedfR[parameters == \"tau\",y_min := 10^-8]\n",
    "#msedfR[parameters == \"tau\",y_max := 10^-2]\n",
    "#msedfR[parameters == \"Sigma\",y_min := 10^-5]\n",
    "#msedfR[parameters == \"Sigma\",y_max := 10^-2]\n",
    "\n",
    "\n",
    "msedfR$obssize = factor(msedfR$obssize, levels = c('5', '10', '20', '50'))\n",
    "msedfR$samplesize = factor(msedfR$samplesize, levels = c('1000', '10000','50000'))\n",
    "msedfR$parameters = factor(msedfR$parameters, levels = c('beta', 'Sigma'), labels = c(beta = expression(hat(bold(beta))), Sigma = expression(hat(bold(Sigma))[])))\n",
    "msedfR$robust <- factor(msedfR$robust, levels = c('Logistic Quasi-Copula', 'Logistic GLMM'),\n",
    "    labels = c(expression(paste(\"Logistic Quasi-Copula\")), expression(paste(\"Logistic GLMM\"))))\n",
    "\n",
    "\n",
    "#mseplot <- ggplot(msedfR[msedfR$mse < 10^0, ], aes(x=samplesize, y=mse, fill=obssize)) + \n",
    "mseplot = ggplot(msedfR[msedfR$mse < 10^3, ], aes(x=samplesize, y=mse, fill=obssize)) + \n",
    "  #geom_boxplot(outlier.size = 0.0, outlier.alpha = 0) +\n",
    "  geom_boxplot(outlier.size = 0.25) +\n",
    "#    geom_violin() +\n",
    "    facet_grid(parameters ~ robust, labeller = label_parsed, scales = \"free_y\") +\n",
    "  theme(legend.position=\"right\", legend.key = element_blank(), axis.text.x = element_text(angle=0, size=11),\n",
    "        axis.text.y = element_text(angle=0, size=12), axis.title.x = element_text(size = 15), \n",
    "        axis.title.y = element_text(size = 15), legend.title = element_text(size = 12),\n",
    "        panel.grid.major = element_blank(), panel.grid.minor = element_blank(),\n",
    "        legend.text=element_text(size=10), panel.background = element_rect(fill = NA, color = \"black\"),\n",
    "        #panel.background = element_blank(), #panel.border = element_blank(),\n",
    "        axis.line = element_line(color = 'black',size=0.3), plot.title = element_text(hjust = 0.5),\n",
    "        strip.background = element_rect(colour=\"black\", fill=\"white\"), strip.text.y = element_text(size=15, face=\"bold\"),\n",
    "        strip.text.x = element_text(size=15)) + \n",
    "  scale_fill_manual(values = c(\"#c85f55\",\n",
    "\"#a964bf\",\n",
    "\"#8db352\",\n",
    "\"#fa7300\",\n",
    "\"#05aec0\")) +\n",
    "#scale_y_log10(breaks = scales::trans_breaks(\"log10\", function(x) 10^x)) +\n",
    "#scale_y_log10(breaks = 10^(-8:8), limit=c(10^-8, 10^2)) + \n",
    "scale_y_log10(breaks = 10^seq(-10, 10, 2), labels=trans_format(\"log10\", math_format(10^.x))) + #, limit=c(10^-8, 10^2)) +\n",
    "  labs(x = \"Number of Individuals\", y = \"MSE of Parameter Estimates\", fill = \"Obs per Individual\") +\n",
    "geom_blank(aes(y = y_max)) + \n",
    "geom_blank(aes(y = y_min)) \n",
    "\n",
    "\"\"\""
   ]
  },
  {
   "cell_type": "code",
   "execution_count": 13,
   "metadata": {},
   "outputs": [
    {
     "data": {
      "text/plain": [
       "RObject{StrSxp}\n",
       "[1] \"updated_msefacetplot_logistic.png\"\n"
      ]
     },
     "execution_count": 13,
     "metadata": {},
     "output_type": "execute_result"
    }
   ],
   "source": [
    "R\"\"\"\n",
    "ggsave('updated_msefacetplot_logistic.png', mseplot, width = 12.5, height = 15, units = 'in', dpi = 450)\n",
    "\"\"\""
   ]
  },
  {
   "cell_type": "code",
   "execution_count": null,
   "metadata": {},
   "outputs": [],
   "source": []
  }
 ],
 "metadata": {
  "@webio": {
   "lastCommId": null,
   "lastKernelId": null
  },
  "kernelspec": {
   "display_name": "Julia 1.6.2",
   "language": "julia",
   "name": "julia-1.6"
  },
  "language_info": {
   "file_extension": ".jl",
   "mimetype": "application/julia",
   "name": "julia",
   "version": "1.6.2"
  }
 },
 "nbformat": 4,
 "nbformat_minor": 2
}
