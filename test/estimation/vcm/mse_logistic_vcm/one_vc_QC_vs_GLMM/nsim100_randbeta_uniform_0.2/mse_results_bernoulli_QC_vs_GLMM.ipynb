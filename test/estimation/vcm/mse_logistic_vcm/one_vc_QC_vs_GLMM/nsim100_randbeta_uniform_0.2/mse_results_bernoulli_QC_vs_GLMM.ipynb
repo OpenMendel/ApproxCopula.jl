{
 "cells": [
  {
   "cell_type": "markdown",
   "metadata": {},
   "source": [
    "## Bernoulli VCM Results \n",
    "\n",
    "This notebook goes over the code needed to reproduce the results from the MSE and time figures for the Bernoulli base distribution with Logit Link and covariance matrix $\\Gamma$ structured under variance component model framework as follows:\n",
    "\n",
    "$$\n",
    "\\Gamma = \\sigma_1 * \\mathbf{1_{n} 1_{n}^\\top}\n",
    "$$\n",
    "\n",
    "In this example simulate three fixed effects $\\beta \\sim$ rand(Uniform(-0.2, 0.2), p) where p = 3 fixed effects.\n",
    "\n",
    "We run each scenario 100 times and compare the fit with that of GLMM's random intercept model from MixedModels.jl. "
   ]
  },
  {
   "cell_type": "code",
   "execution_count": 1,
   "metadata": {},
   "outputs": [
    {
     "name": "stdout",
     "output_type": "stream",
     "text": [
      "Julia Version 1.6.2\n",
      "Commit 1b93d53fc4 (2021-07-14 15:36 UTC)\n",
      "Platform Info:\n",
      "  OS: macOS (x86_64-apple-darwin18.7.0)\n",
      "  CPU: Intel(R) Core(TM) i9-9880H CPU @ 2.30GHz\n",
      "  WORD_SIZE: 64\n",
      "  LIBM: libopenlibm\n",
      "  LLVM: libLLVM-11.0.1 (ORCJIT, skylake)\n"
     ]
    }
   ],
   "source": [
    "versioninfo()"
   ]
  },
  {
   "cell_type": "code",
   "execution_count": 2,
   "metadata": {},
   "outputs": [
    {
     "name": "stderr",
     "output_type": "stream",
     "text": [
      "┌ Info: Precompiling GLMCopula [c47b6ae2-b804-4668-9957-eb588c99ffbc]\n",
      "└ @ Base loading.jl:1342\n"
     ]
    }
   ],
   "source": [
    "using GLMCopula, DelimitedFiles, LinearAlgebra, Random, GLM\n",
    "using Random, Roots, SpecialFunctions, DataFrames"
   ]
  },
  {
   "cell_type": "code",
   "execution_count": 3,
   "metadata": {},
   "outputs": [],
   "source": [
    "p = 3    # number of fixed effects, including intercept\n",
    "m = 1    # number of variance components\n",
    "# true parameter values\n",
    "Random.seed!(1234)\n",
    "βtrue = rand(Uniform(-0.2, 0.2), p)\n",
    "Σtrue = [0.1]\n",
    "\n",
    "# generate data\n",
    "intervals = zeros(p + m, 2) #hold intervals\n",
    "curcoverage = zeros(p + m) #hold current coverage resutls\n",
    "trueparams = [βtrue; Σtrue] #hold true parameters\n",
    "\n",
    "#simulation parameters\n",
    "samplesizes = [100; 1000; 10000]\n",
    "ns = [2; 5; 10; 15; 20; 25]\n",
    "nsims = 100;"
   ]
  },
  {
   "cell_type": "code",
   "execution_count": 4,
   "metadata": {},
   "outputs": [
    {
     "name": "stderr",
     "output_type": "stream",
     "text": [
      "┌ Info: reading in the files with results\n",
      "└ @ Main In[4]:1\n"
     ]
    },
    {
     "data": {
      "text/plain": [
       "1800-element Vector{Float64}:\n",
       " 0.218237624\n",
       " 0.045270085\n",
       " 0.080927918\n",
       " 0.287890016\n",
       " 0.156615386\n",
       " 0.059528691\n",
       " 0.066082229\n",
       " 0.124962209\n",
       " 0.078629515\n",
       " 0.104523598\n",
       " 0.104770028\n",
       " 0.069334507\n",
       " 0.024577379\n",
       " ⋮\n",
       " 7.309460325\n",
       " 5.756352528\n",
       " 7.343185085\n",
       " 5.785768093\n",
       " 6.755313145\n",
       " 3.254755581\n",
       " 6.288860773\n",
       " 5.670475671\n",
       " 7.694188736\n",
       " 5.96978665\n",
       " 6.240926877\n",
       " 5.978145102"
      ]
     },
     "execution_count": 4,
     "metadata": {},
     "output_type": "execute_result"
    }
   ],
   "source": [
    "@info \"reading in the files with results\"\n",
    "βMseresult = vec(readdlm(\"mse_beta_multivariate_logistic_vcm$(nsims)reps_sim.csv\", ','))\n",
    "ΣMseresult = vec(readdlm(\"mse_Sigma_multivariate_logistic_vcm$(nsims)reps_sim.csv\", ','))\n",
    "fittimes_QC = vec(readdlm(\"fittimes_multivariate_logistic_vcm$(nsims)reps_sim.csv\", ','))"
   ]
  },
  {
   "cell_type": "code",
   "execution_count": 5,
   "metadata": {},
   "outputs": [
    {
     "data": {
      "text/plain": [
       "1800-element Vector{Float64}:\n",
       "  0.29030098\n",
       "  0.032691362\n",
       "  0.01500607\n",
       "  0.181438708\n",
       "  0.012516429\n",
       "  0.01196003\n",
       "  0.01584005\n",
       "  0.027702579\n",
       "  0.015417419\n",
       "  0.01243522\n",
       "  0.020063578\n",
       "  0.014842378\n",
       "  0.020588503\n",
       "  ⋮\n",
       " 49.655377989\n",
       " 36.796341949\n",
       " 36.548480879\n",
       " 43.24724624\n",
       " 38.36194286\n",
       " 33.119383055\n",
       " 42.016023263\n",
       " 42.048840325\n",
       " 34.065484897\n",
       " 30.635525596\n",
       " 34.300337574\n",
       " 40.264127356"
      ]
     },
     "execution_count": 5,
     "metadata": {},
     "output_type": "execute_result"
    }
   ],
   "source": [
    "fittimes_GLMM = vec(readdlm(\"fittimes_GLMM_multivariate_logistic_vcm$(nsims)reps_sim.csv\", ','))"
   ]
  },
  {
   "cell_type": "code",
   "execution_count": 6,
   "metadata": {},
   "outputs": [
    {
     "name": "stderr",
     "output_type": "stream",
     "text": [
      "┌ Info: making results table Quasi-Copula\n",
      "└ @ Main In[6]:2\n"
     ]
    },
    {
     "data": {
      "text/html": [
       "<div class=\"data-frame\"><p>18 rows × 8 columns</p><table class=\"data-frame\"><thead><tr><th></th><th>samplesize</th><th>obssize</th><th>fittime</th><th>se</th><th>nobs</th><th>fitmin</th><th>fitmax</th><th>perobsratio</th></tr><tr><th></th><th title=\"String\">String</th><th title=\"String\">String</th><th title=\"Float64\">Float64</th><th title=\"Float64\">Float64</th><th title=\"Int64\">Int64</th><th title=\"Float64\">Float64</th><th title=\"Float64\">Float64</th><th title=\"Float64\">Float64</th></tr></thead><tbody><tr><th>1</th><td>100</td><td>2</td><td>0.0757835</td><td>0.00423993</td><td>200</td><td>0.0715436</td><td>0.0842634</td><td>0.000378918</td></tr><tr><th>2</th><td>100</td><td>5</td><td>0.0859255</td><td>0.00226216</td><td>500</td><td>0.0836633</td><td>0.0904498</td><td>0.000171851</td></tr><tr><th>3</th><td>100</td><td>10</td><td>0.0879848</td><td>0.0018932</td><td>1000</td><td>0.0860916</td><td>0.0917712</td><td>8.79848e-5</td></tr><tr><th>4</th><td>100</td><td>15</td><td>0.100295</td><td>0.00191606</td><td>1500</td><td>0.0983792</td><td>0.104127</td><td>6.68635e-5</td></tr><tr><th>5</th><td>100</td><td>20</td><td>0.109016</td><td>0.0052839</td><td>2000</td><td>0.103732</td><td>0.119584</td><td>5.45081e-5</td></tr><tr><th>6</th><td>100</td><td>25</td><td>0.109509</td><td>0.00226345</td><td>2500</td><td>0.107245</td><td>0.114036</td><td>4.38035e-5</td></tr><tr><th>7</th><td>1000</td><td>2</td><td>0.12608</td><td>0.00443086</td><td>2000</td><td>0.121649</td><td>0.134941</td><td>6.30398e-5</td></tr><tr><th>8</th><td>1000</td><td>5</td><td>0.216009</td><td>0.0115137</td><td>5000</td><td>0.204495</td><td>0.239036</td><td>4.32018e-5</td></tr><tr><th>9</th><td>1000</td><td>10</td><td>0.275668</td><td>0.00582621</td><td>10000</td><td>0.269841</td><td>0.28732</td><td>2.75668e-5</td></tr><tr><th>10</th><td>1000</td><td>15</td><td>0.332715</td><td>0.00999574</td><td>15000</td><td>0.322719</td><td>0.352706</td><td>2.2181e-5</td></tr><tr><th>11</th><td>1000</td><td>20</td><td>0.393274</td><td>0.00746716</td><td>20000</td><td>0.385807</td><td>0.408208</td><td>1.96637e-5</td></tr><tr><th>12</th><td>1000</td><td>25</td><td>0.554932</td><td>0.00865061</td><td>25000</td><td>0.546282</td><td>0.572234</td><td>2.21973e-5</td></tr><tr><th>13</th><td>10000</td><td>2</td><td>1.3874</td><td>0.0177495</td><td>20000</td><td>1.36965</td><td>1.4229</td><td>6.93699e-5</td></tr><tr><th>14</th><td>10000</td><td>5</td><td>1.75191</td><td>0.0213734</td><td>50000</td><td>1.73054</td><td>1.79466</td><td>3.50382e-5</td></tr><tr><th>15</th><td>10000</td><td>10</td><td>2.92065</td><td>0.0484305</td><td>100000</td><td>2.87222</td><td>3.01751</td><td>2.92065e-5</td></tr><tr><th>16</th><td>10000</td><td>15</td><td>3.58216</td><td>0.0520751</td><td>150000</td><td>3.53008</td><td>3.68631</td><td>2.38811e-5</td></tr><tr><th>17</th><td>10000</td><td>20</td><td>4.56641</td><td>0.0570981</td><td>200000</td><td>4.50932</td><td>4.68061</td><td>2.28321e-5</td></tr><tr><th>18</th><td>10000</td><td>25</td><td>5.89568</td><td>0.0973677</td><td>250000</td><td>5.79832</td><td>6.09042</td><td>2.35827e-5</td></tr></tbody></table></div>"
      ],
      "text/latex": [
       "\\begin{tabular}{r|cccccccc}\n",
       "\t& samplesize & obssize & fittime & se & nobs & fitmin & fitmax & perobsratio\\\\\n",
       "\t\\hline\n",
       "\t& String & String & Float64 & Float64 & Int64 & Float64 & Float64 & Float64\\\\\n",
       "\t\\hline\n",
       "\t1 & 100 & 2 & 0.0757835 & 0.00423993 & 200 & 0.0715436 & 0.0842634 & 0.000378918 \\\\\n",
       "\t2 & 100 & 5 & 0.0859255 & 0.00226216 & 500 & 0.0836633 & 0.0904498 & 0.000171851 \\\\\n",
       "\t3 & 100 & 10 & 0.0879848 & 0.0018932 & 1000 & 0.0860916 & 0.0917712 & 8.79848e-5 \\\\\n",
       "\t4 & 100 & 15 & 0.100295 & 0.00191606 & 1500 & 0.0983792 & 0.104127 & 6.68635e-5 \\\\\n",
       "\t5 & 100 & 20 & 0.109016 & 0.0052839 & 2000 & 0.103732 & 0.119584 & 5.45081e-5 \\\\\n",
       "\t6 & 100 & 25 & 0.109509 & 0.00226345 & 2500 & 0.107245 & 0.114036 & 4.38035e-5 \\\\\n",
       "\t7 & 1000 & 2 & 0.12608 & 0.00443086 & 2000 & 0.121649 & 0.134941 & 6.30398e-5 \\\\\n",
       "\t8 & 1000 & 5 & 0.216009 & 0.0115137 & 5000 & 0.204495 & 0.239036 & 4.32018e-5 \\\\\n",
       "\t9 & 1000 & 10 & 0.275668 & 0.00582621 & 10000 & 0.269841 & 0.28732 & 2.75668e-5 \\\\\n",
       "\t10 & 1000 & 15 & 0.332715 & 0.00999574 & 15000 & 0.322719 & 0.352706 & 2.2181e-5 \\\\\n",
       "\t11 & 1000 & 20 & 0.393274 & 0.00746716 & 20000 & 0.385807 & 0.408208 & 1.96637e-5 \\\\\n",
       "\t12 & 1000 & 25 & 0.554932 & 0.00865061 & 25000 & 0.546282 & 0.572234 & 2.21973e-5 \\\\\n",
       "\t13 & 10000 & 2 & 1.3874 & 0.0177495 & 20000 & 1.36965 & 1.4229 & 6.93699e-5 \\\\\n",
       "\t14 & 10000 & 5 & 1.75191 & 0.0213734 & 50000 & 1.73054 & 1.79466 & 3.50382e-5 \\\\\n",
       "\t15 & 10000 & 10 & 2.92065 & 0.0484305 & 100000 & 2.87222 & 3.01751 & 2.92065e-5 \\\\\n",
       "\t16 & 10000 & 15 & 3.58216 & 0.0520751 & 150000 & 3.53008 & 3.68631 & 2.38811e-5 \\\\\n",
       "\t17 & 10000 & 20 & 4.56641 & 0.0570981 & 200000 & 4.50932 & 4.68061 & 2.28321e-5 \\\\\n",
       "\t18 & 10000 & 25 & 5.89568 & 0.0973677 & 250000 & 5.79832 & 6.09042 & 2.35827e-5 \\\\\n",
       "\\end{tabular}\n"
      ],
      "text/plain": [
       "\u001b[1m18×8 DataFrame\u001b[0m\n",
       "\u001b[1m Row \u001b[0m│\u001b[1m samplesize \u001b[0m\u001b[1m obssize \u001b[0m\u001b[1m fittime   \u001b[0m\u001b[1m se         \u001b[0m\u001b[1m nobs   \u001b[0m\u001b[1m fitmin    \u001b[0m\u001b[1m fitmax  \u001b[0m ⋯\n",
       "\u001b[1m     \u001b[0m│\u001b[90m String     \u001b[0m\u001b[90m String  \u001b[0m\u001b[90m Float64   \u001b[0m\u001b[90m Float64    \u001b[0m\u001b[90m Int64  \u001b[0m\u001b[90m Float64   \u001b[0m\u001b[90m Float64 \u001b[0m ⋯\n",
       "─────┼──────────────────────────────────────────────────────────────────────────\n",
       "   1 │ 100         2        0.0757835  0.00423993     200  0.0715436  0.084263 ⋯\n",
       "   2 │ 100         5        0.0859255  0.00226216     500  0.0836633  0.090449\n",
       "   3 │ 100         10       0.0879848  0.0018932     1000  0.0860916  0.091771\n",
       "   4 │ 100         15       0.100295   0.00191606    1500  0.0983792  0.104127\n",
       "   5 │ 100         20       0.109016   0.0052839     2000  0.103732   0.119584 ⋯\n",
       "   6 │ 100         25       0.109509   0.00226345    2500  0.107245   0.114036\n",
       "   7 │ 1000        2        0.12608    0.00443086    2000  0.121649   0.134941\n",
       "   8 │ 1000        5        0.216009   0.0115137     5000  0.204495   0.239036\n",
       "   9 │ 1000        10       0.275668   0.00582621   10000  0.269841   0.28732  ⋯\n",
       "  10 │ 1000        15       0.332715   0.00999574   15000  0.322719   0.352706\n",
       "  11 │ 1000        20       0.393274   0.00746716   20000  0.385807   0.408208\n",
       "  12 │ 1000        25       0.554932   0.00865061   25000  0.546282   0.572234\n",
       "  13 │ 10000       2        1.3874     0.0177495    20000  1.36965    1.4229   ⋯\n",
       "  14 │ 10000       5        1.75191    0.0213734    50000  1.73054    1.79466\n",
       "  15 │ 10000       10       2.92065    0.0484305   100000  2.87222    3.01751\n",
       "  16 │ 10000       15       3.58216    0.0520751   150000  3.53008    3.68631\n",
       "  17 │ 10000       20       4.56641    0.0570981   200000  4.50932    4.68061  ⋯\n",
       "  18 │ 10000       25       5.89568    0.0973677   250000  5.79832    6.09042\n",
       "\u001b[36m                                                               2 columns omitted\u001b[0m"
      ]
     },
     "execution_count": 6,
     "metadata": {},
     "output_type": "execute_result"
    }
   ],
   "source": [
    "#simulation parameters\n",
    "@info \"making results table Quasi-Copula\"\n",
    "sample_sizes = repeat(string.(samplesizes), inner = nsims * length(ns))\n",
    "obs_sizes = repeat(string.(ns), inner = nsims, outer = length(samplesizes))\n",
    "\n",
    "msedf = DataFrame(βmse = βMseresult, Σmse = ΣMseresult, \n",
    "    samplesize = sample_sizes, obssize = obs_sizes, fittimes = fittimes_QC)\n",
    "timedf1 = combine(groupby(msedf, [:samplesize, :obssize]), :fittimes => mean => :fittime,\n",
    "    :fittimes => x -> (std(x)/sqrt(length(x))))\n",
    "rename!(timedf1, Dict(:fittimes_function => \"se\"))\n",
    "timedf1[!, :nobs] = Meta.parse.(timedf1[!, :samplesize]) .* Meta.parse.(timedf1[!, :obssize])\n",
    "timedf1[!, :fitmin] = timedf1[!, :fittime] - timedf1[!, :se]\n",
    "timedf1[!, :fitmax] = timedf1[!, :fittime] + 2 * timedf1[!, :se]\n",
    "timedf1[!, :perobsratio] = timedf1[!, :fittime] ./ timedf1[!, :nobs]\n",
    "timedf1"
   ]
  },
  {
   "cell_type": "code",
   "execution_count": 7,
   "metadata": {},
   "outputs": [
    {
     "name": "stderr",
     "output_type": "stream",
     "text": [
      "┌ Info: making results table GLMM\n",
      "└ @ Main In[7]:2\n"
     ]
    },
    {
     "data": {
      "text/html": [
       "<div class=\"data-frame\"><p>18 rows × 8 columns</p><table class=\"data-frame\"><thead><tr><th></th><th>samplesize</th><th>obssize</th><th>fittime</th><th>se</th><th>nobs</th><th>fitmin</th><th>fitmax</th><th>perobsratio</th></tr><tr><th></th><th title=\"String\">String</th><th title=\"String\">String</th><th title=\"Float64\">Float64</th><th title=\"Float64\">Float64</th><th title=\"Int64\">Int64</th><th title=\"Float64\">Float64</th><th title=\"Float64\">Float64</th><th title=\"Float64\">Float64</th></tr></thead><tbody><tr><th>1</th><td>100</td><td>2</td><td>0.0210774</td><td>0.00322888</td><td>200</td><td>0.0178486</td><td>0.0243063</td><td>0.000105387</td></tr><tr><th>2</th><td>100</td><td>5</td><td>0.0438658</td><td>0.00221939</td><td>500</td><td>0.0416465</td><td>0.0460852</td><td>8.77317e-5</td></tr><tr><th>3</th><td>100</td><td>10</td><td>0.120613</td><td>0.00578809</td><td>1000</td><td>0.114825</td><td>0.126401</td><td>0.000120613</td></tr><tr><th>4</th><td>100</td><td>15</td><td>0.195168</td><td>0.00798231</td><td>1500</td><td>0.187185</td><td>0.20315</td><td>0.000130112</td></tr><tr><th>5</th><td>100</td><td>20</td><td>0.282728</td><td>0.0136173</td><td>2000</td><td>0.269111</td><td>0.296346</td><td>0.000141364</td></tr><tr><th>6</th><td>100</td><td>25</td><td>0.370399</td><td>0.0158371</td><td>2500</td><td>0.354562</td><td>0.386236</td><td>0.00014816</td></tr><tr><th>7</th><td>1000</td><td>2</td><td>0.171767</td><td>0.00599493</td><td>2000</td><td>0.165772</td><td>0.177762</td><td>8.58837e-5</td></tr><tr><th>8</th><td>1000</td><td>5</td><td>0.606951</td><td>0.0176216</td><td>5000</td><td>0.589329</td><td>0.624572</td><td>0.00012139</td></tr><tr><th>9</th><td>1000</td><td>10</td><td>1.5436</td><td>0.0505172</td><td>10000</td><td>1.49308</td><td>1.59412</td><td>0.00015436</td></tr><tr><th>10</th><td>1000</td><td>15</td><td>2.3078</td><td>0.0710485</td><td>15000</td><td>2.23676</td><td>2.37885</td><td>0.000153854</td></tr><tr><th>11</th><td>1000</td><td>20</td><td>3.12091</td><td>0.0855971</td><td>20000</td><td>3.03531</td><td>3.20651</td><td>0.000156045</td></tr><tr><th>12</th><td>1000</td><td>25</td><td>4.17712</td><td>0.0991044</td><td>25000</td><td>4.07801</td><td>4.27622</td><td>0.000167085</td></tr><tr><th>13</th><td>10000</td><td>2</td><td>2.12538</td><td>0.0765413</td><td>20000</td><td>2.04884</td><td>2.20192</td><td>0.000106269</td></tr><tr><th>14</th><td>10000</td><td>5</td><td>5.61056</td><td>0.137072</td><td>50000</td><td>5.47349</td><td>5.74763</td><td>0.000112211</td></tr><tr><th>15</th><td>10000</td><td>10</td><td>12.3787</td><td>0.250919</td><td>100000</td><td>12.1278</td><td>12.6297</td><td>0.000123787</td></tr><tr><th>16</th><td>10000</td><td>15</td><td>19.071</td><td>0.509478</td><td>150000</td><td>18.5615</td><td>19.5804</td><td>0.00012714</td></tr><tr><th>17</th><td>10000</td><td>20</td><td>28.436</td><td>0.651088</td><td>200000</td><td>27.785</td><td>29.0871</td><td>0.00014218</td></tr><tr><th>18</th><td>10000</td><td>25</td><td>37.9118</td><td>0.678575</td><td>250000</td><td>37.2332</td><td>38.5904</td><td>0.000151647</td></tr></tbody></table></div>"
      ],
      "text/latex": [
       "\\begin{tabular}{r|cccccccc}\n",
       "\t& samplesize & obssize & fittime & se & nobs & fitmin & fitmax & perobsratio\\\\\n",
       "\t\\hline\n",
       "\t& String & String & Float64 & Float64 & Int64 & Float64 & Float64 & Float64\\\\\n",
       "\t\\hline\n",
       "\t1 & 100 & 2 & 0.0210774 & 0.00322888 & 200 & 0.0178486 & 0.0243063 & 0.000105387 \\\\\n",
       "\t2 & 100 & 5 & 0.0438658 & 0.00221939 & 500 & 0.0416465 & 0.0460852 & 8.77317e-5 \\\\\n",
       "\t3 & 100 & 10 & 0.120613 & 0.00578809 & 1000 & 0.114825 & 0.126401 & 0.000120613 \\\\\n",
       "\t4 & 100 & 15 & 0.195168 & 0.00798231 & 1500 & 0.187185 & 0.20315 & 0.000130112 \\\\\n",
       "\t5 & 100 & 20 & 0.282728 & 0.0136173 & 2000 & 0.269111 & 0.296346 & 0.000141364 \\\\\n",
       "\t6 & 100 & 25 & 0.370399 & 0.0158371 & 2500 & 0.354562 & 0.386236 & 0.00014816 \\\\\n",
       "\t7 & 1000 & 2 & 0.171767 & 0.00599493 & 2000 & 0.165772 & 0.177762 & 8.58837e-5 \\\\\n",
       "\t8 & 1000 & 5 & 0.606951 & 0.0176216 & 5000 & 0.589329 & 0.624572 & 0.00012139 \\\\\n",
       "\t9 & 1000 & 10 & 1.5436 & 0.0505172 & 10000 & 1.49308 & 1.59412 & 0.00015436 \\\\\n",
       "\t10 & 1000 & 15 & 2.3078 & 0.0710485 & 15000 & 2.23676 & 2.37885 & 0.000153854 \\\\\n",
       "\t11 & 1000 & 20 & 3.12091 & 0.0855971 & 20000 & 3.03531 & 3.20651 & 0.000156045 \\\\\n",
       "\t12 & 1000 & 25 & 4.17712 & 0.0991044 & 25000 & 4.07801 & 4.27622 & 0.000167085 \\\\\n",
       "\t13 & 10000 & 2 & 2.12538 & 0.0765413 & 20000 & 2.04884 & 2.20192 & 0.000106269 \\\\\n",
       "\t14 & 10000 & 5 & 5.61056 & 0.137072 & 50000 & 5.47349 & 5.74763 & 0.000112211 \\\\\n",
       "\t15 & 10000 & 10 & 12.3787 & 0.250919 & 100000 & 12.1278 & 12.6297 & 0.000123787 \\\\\n",
       "\t16 & 10000 & 15 & 19.071 & 0.509478 & 150000 & 18.5615 & 19.5804 & 0.00012714 \\\\\n",
       "\t17 & 10000 & 20 & 28.436 & 0.651088 & 200000 & 27.785 & 29.0871 & 0.00014218 \\\\\n",
       "\t18 & 10000 & 25 & 37.9118 & 0.678575 & 250000 & 37.2332 & 38.5904 & 0.000151647 \\\\\n",
       "\\end{tabular}\n"
      ],
      "text/plain": [
       "\u001b[1m18×8 DataFrame\u001b[0m\n",
       "\u001b[1m Row \u001b[0m│\u001b[1m samplesize \u001b[0m\u001b[1m obssize \u001b[0m\u001b[1m fittime    \u001b[0m\u001b[1m se         \u001b[0m\u001b[1m nobs   \u001b[0m\u001b[1m fitmin     \u001b[0m\u001b[1m fitmax\u001b[0m ⋯\n",
       "\u001b[1m     \u001b[0m│\u001b[90m String     \u001b[0m\u001b[90m String  \u001b[0m\u001b[90m Float64    \u001b[0m\u001b[90m Float64    \u001b[0m\u001b[90m Int64  \u001b[0m\u001b[90m Float64    \u001b[0m\u001b[90m Float6\u001b[0m ⋯\n",
       "─────┼──────────────────────────────────────────────────────────────────────────\n",
       "   1 │ 100         2         0.0210774  0.00322888     200   0.0178486   0.024 ⋯\n",
       "   2 │ 100         5         0.0438658  0.00221939     500   0.0416465   0.046\n",
       "   3 │ 100         10        0.120613   0.00578809    1000   0.114825    0.126\n",
       "   4 │ 100         15        0.195168   0.00798231    1500   0.187185    0.203\n",
       "   5 │ 100         20        0.282728   0.0136173     2000   0.269111    0.296 ⋯\n",
       "   6 │ 100         25        0.370399   0.0158371     2500   0.354562    0.386\n",
       "   7 │ 1000        2         0.171767   0.00599493    2000   0.165772    0.177\n",
       "   8 │ 1000        5         0.606951   0.0176216     5000   0.589329    0.624\n",
       "   9 │ 1000        10        1.5436     0.0505172    10000   1.49308     1.594 ⋯\n",
       "  10 │ 1000        15        2.3078     0.0710485    15000   2.23676     2.378\n",
       "  11 │ 1000        20        3.12091    0.0855971    20000   3.03531     3.206\n",
       "  12 │ 1000        25        4.17712    0.0991044    25000   4.07801     4.276\n",
       "  13 │ 10000       2         2.12538    0.0765413    20000   2.04884     2.201 ⋯\n",
       "  14 │ 10000       5         5.61056    0.137072     50000   5.47349     5.747\n",
       "  15 │ 10000       10       12.3787     0.250919    100000  12.1278     12.629\n",
       "  16 │ 10000       15       19.071      0.509478    150000  18.5615     19.580\n",
       "  17 │ 10000       20       28.436      0.651088    200000  27.785      29.087 ⋯\n",
       "  18 │ 10000       25       37.9118     0.678575    250000  37.2332     38.590\n",
       "\u001b[36m                                                               2 columns omitted\u001b[0m"
      ]
     },
     "execution_count": 7,
     "metadata": {},
     "output_type": "execute_result"
    }
   ],
   "source": [
    "#simulation parameters\n",
    "@info \"making results table GLMM\"\n",
    "sample_sizes = repeat(string.(samplesizes), inner = nsims * length(ns))\n",
    "obs_sizes = repeat(string.(ns), inner = nsims, outer = length(samplesizes))\n",
    "\n",
    "msedf = DataFrame(βmse = βMseresult, Σmse = ΣMseresult, \n",
    "    samplesize = sample_sizes, obssize = obs_sizes, fittimes = fittimes_GLMM)\n",
    "timedf2 = combine(groupby(msedf, [:samplesize, :obssize]), :fittimes => mean => :fittime,\n",
    "    :fittimes => x -> (std(x)/sqrt(length(x))))\n",
    "rename!(timedf2, Dict(:fittimes_function => \"se\"))\n",
    "timedf2[!, :nobs] = Meta.parse.(timedf2[!, :samplesize]) .* Meta.parse.(timedf2[!, :obssize])\n",
    "timedf2[!, :fitmin] = timedf2[!, :fittime] - timedf2[!, :se]\n",
    "timedf2[!, :fitmax] = timedf2[!, :fittime] + timedf2[!, :se]\n",
    "timedf2[!, :perobsratio] = timedf2[!, :fittime] ./ timedf2[!, :nobs]\n",
    "timedf2"
   ]
  },
  {
   "cell_type": "code",
   "execution_count": 8,
   "metadata": {},
   "outputs": [
    {
     "name": "stderr",
     "output_type": "stream",
     "text": [
      "┌ Warning: RCall.jl: Warning: package ‘ggplot2’ was built under R version 4.0.2\n",
      "└ @ RCall /Users/sarahji/.julia/packages/RCall/iMDW2/src/io.jl:160\n",
      "┌ Warning: RCall.jl: Warning: package ‘cowplot’ was built under R version 4.0.2\n",
      "└ @ RCall /Users/sarahji/.julia/packages/RCall/iMDW2/src/io.jl:160\n"
     ]
    },
    {
     "data": {
      "image/png": "[encoded data removed]"
     },
     "metadata": {},
     "output_type": "display_data"
    },
    {
     "data": {
      "text/plain": [
       "RObject{VecSxp}\n"
      ]
     },
     "execution_count": 8,
     "metadata": {},
     "output_type": "execute_result"
    }
   ],
   "source": [
    "########### plot the runtimes\n",
    "using RCall\n",
    "@rput timedf1\n",
    "@rput timedf2\n",
    "R\"\"\"\n",
    "library(ggplot2)\n",
    "library(cowplot)\n",
    "timedf1$obssize = factor(timedf1$obssize, levels = c('2', '5', '10', '15', '20', '25'))\n",
    "timedf1$samplesize = factor(timedf1$samplesize, levels = c('100', '1000', '10000'))\n",
    "\n",
    "fittime_1 = ggplot(timedf1, aes(x = samplesize, y = fittime, group = obssize, color = obssize)) + \n",
    "  geom_line() +\n",
    "  geom_point()+\n",
    "  geom_errorbar(aes(ymin=fitmin, ymax=fitmax), width=0.5, alpha = 0.8, position=position_dodge(0.005)) + \n",
    "  theme(legend.position=c(0.3,0.85), legend.key = element_blank(), axis.text.x = element_text(angle=0, size=13),\n",
    "        axis.text.y = element_text(angle=0, size=13), axis.title.x = element_text(size = 17), \n",
    "        axis.title.y = element_text(size = 17), legend.title = element_text(size = 14),\n",
    "        #axis.ticks = element_blank(),\n",
    "        panel.grid.major = element_blank(), legend.text=element_text(size=13),\n",
    "        panel.border = element_blank(), panel.grid.minor = element_blank(), panel.background = element_blank(), \n",
    "        axis.line = element_line(color = 'black',size=0.3), plot.title = element_text(hjust = 0.5)) + \n",
    "   scale_color_manual(values = c(\"#c85f55\",\n",
    "\"#a964bf\",\n",
    "\"#8db352\",\n",
    "\"#fa7300\",\n",
    "\"#05aec0\",\n",
    "\"#ff1493\")) +\n",
    "  labs(x = \"Number of Individuals\", y = \"Fit time (seconds)\", color = \"Obs per Individual\")\n",
    "\n",
    "timedf2$obssize = factor(timedf2$obssize, levels = c('2', '5', '10', '15', '20', '25'))\n",
    "timedf2$samplesize = factor(timedf2$samplesize, levels = c('100', '1000', '10000'))\n",
    "\n",
    "fittime_2 = ggplot(timedf2, aes(x = samplesize, y = fittime, group = obssize, color = obssize)) + \n",
    "  geom_line() +\n",
    "  geom_point()+\n",
    "  geom_errorbar(aes(ymin=fitmin, ymax=fitmax), width=0.5, alpha = 0.8, position=position_dodge(0.005)) + \n",
    "  theme(legend.position=c(0.3,0.85), legend.key = element_blank(), axis.text.x = element_text(angle=0, size=13),\n",
    "        axis.text.y = element_text(angle=0, size=13), axis.title.x = element_text(size = 17), \n",
    "        axis.title.y = element_text(size = 17), legend.title = element_text(size = 14),\n",
    "        #axis.ticks = element_blank(),\n",
    "        panel.grid.major = element_blank(), legend.text=element_text(size=13),\n",
    "        panel.border = element_blank(), panel.grid.minor = element_blank(), panel.background = element_blank(), \n",
    "        axis.line = element_line(color = 'black',size=0.3), plot.title = element_text(hjust = 0.5)) + \n",
    "   scale_color_manual(values = c(\"#c85f55\",\n",
    "\"#a964bf\",\n",
    "\"#8db352\",\n",
    "\"#fa7300\",\n",
    "\"#05aec0\",\n",
    "\"#ff1493\")) +\n",
    "  labs(x = \"Number of Individuals\", y = \"Fit time (seconds)\", color = \"Obs per Individual\")\n",
    "\n",
    "fittime_nsamples = plot_grid(fittime_1, fittime_2, labels = c(\"Quasi-Copula\", \"GLMM\"))\n",
    "\"\"\""
   ]
  },
  {
   "cell_type": "code",
   "execution_count": 9,
   "metadata": {},
   "outputs": [
    {
     "data": {
      "text/plain": [
       "RObject{StrSxp}\n",
       "[1] \"fittime_nsamples_logistic_vs_glmm.png\"\n"
      ]
     },
     "execution_count": 9,
     "metadata": {},
     "output_type": "execute_result"
    }
   ],
   "source": [
    "R\"\"\"\n",
    "ggsave('fittime_nsamples_logistic_vs_glmm.png', fittime_nsamples, width = 15, height = 17, units = 'in', dpi = 450)\n",
    "\"\"\""
   ]
  },
  {
   "cell_type": "code",
   "execution_count": 10,
   "metadata": {},
   "outputs": [
    {
     "data": {
      "text/html": [
       "<div class=\"data-frame\"><p>18 rows × 5 columns</p><table class=\"data-frame\"><thead><tr><th></th><th>people_obs</th><th>β1</th><th>β2</th><th>β3</th><th>Σ1</th></tr><tr><th></th><th title=\"String\">String</th><th title=\"Tuple{Float64, Float64}\">Tuple…</th><th title=\"Tuple{Float64, Float64}\">Tuple…</th><th title=\"Tuple{Float64, Float64}\">Tuple…</th><th title=\"Tuple{Float64, Float64}\">Tuple…</th></tr></thead><tbody><tr><th>1</th><td>N: 100  ni: 2</td><td>(0.79, 0.040936)</td><td>(0.72, 0.0451261)</td><td>(0.75, 0.0435194)</td><td>(0.89, 0.0314466)</td></tr><tr><th>2</th><td>N: 100  ni: 5</td><td>(0.94, 0.0238683)</td><td>(0.86, 0.0348735)</td><td>(0.77, 0.0422953)</td><td>(0.87, 0.0337998)</td></tr><tr><th>3</th><td>N: 100  ni: 10</td><td>(0.94, 0.0238683)</td><td>(0.83, 0.0377525)</td><td>(0.83, 0.0377525)</td><td>(0.88, 0.0326599)</td></tr><tr><th>4</th><td>N: 100  ni: 15</td><td>(0.91, 0.0287623)</td><td>(0.93, 0.0256432)</td><td>(0.81, 0.0394277)</td><td>(0.88, 0.0326599)</td></tr><tr><th>5</th><td>N: 100  ni: 20</td><td>(0.87, 0.0337998)</td><td>(0.87, 0.0337998)</td><td>(0.88, 0.0326599)</td><td>(0.91, 0.0287623)</td></tr><tr><th>6</th><td>N: 100  ni: 25</td><td>(0.89, 0.0314466)</td><td>(0.85, 0.035887)</td><td>(0.81, 0.0394277)</td><td>(0.92, 0.027266)</td></tr><tr><th>7</th><td>N: 1000  ni: 2</td><td>(0.88, 0.0326599)</td><td>(0.88, 0.0326599)</td><td>(0.88, 0.0326599)</td><td>(0.85, 0.035887)</td></tr><tr><th>8</th><td>N: 1000  ni: 5</td><td>(0.98, 0.0140705)</td><td>(0.85, 0.035887)</td><td>(0.89, 0.0314466)</td><td>(0.98, 0.0140705)</td></tr><tr><th>9</th><td>N: 1000  ni: 10</td><td>(0.93, 0.0256432)</td><td>(0.84, 0.0368453)</td><td>(0.84, 0.0368453)</td><td>(0.96, 0.0196946)</td></tr><tr><th>10</th><td>N: 1000  ni: 15</td><td>(0.96, 0.0196946)</td><td>(0.87, 0.0337998)</td><td>(0.87, 0.0337998)</td><td>(0.94, 0.0238683)</td></tr><tr><th>11</th><td>N: 1000  ni: 20</td><td>(0.94, 0.0238683)</td><td>(0.84, 0.0368453)</td><td>(0.84, 0.0368453)</td><td>(0.91, 0.0287623)</td></tr><tr><th>12</th><td>N: 1000  ni: 25</td><td>(0.89, 0.0314466)</td><td>(0.85, 0.035887)</td><td>(0.84, 0.0368453)</td><td>(0.88, 0.0326599)</td></tr><tr><th>13</th><td>N: 10000  ni: 2</td><td>(0.9, 0.0301511)</td><td>(0.84, 0.0368453)</td><td>(0.82, 0.0386123)</td><td>(0.96, 0.0196946)</td></tr><tr><th>14</th><td>N: 10000  ni: 5</td><td>(0.91, 0.0287623)</td><td>(0.82, 0.0386123)</td><td>(0.88, 0.0326599)</td><td>(0.95, 0.0219043)</td></tr><tr><th>15</th><td>N: 10000  ni: 10</td><td>(0.94, 0.0238683)</td><td>(0.83, 0.0377525)</td><td>(0.89, 0.0314466)</td><td>(0.97, 0.0171447)</td></tr><tr><th>16</th><td>N: 10000  ni: 15</td><td>(0.94, 0.0238683)</td><td>(0.71, 0.0456048)</td><td>(0.79, 0.040936)</td><td>(0.94, 0.0238683)</td></tr><tr><th>17</th><td>N: 10000  ni: 20</td><td>(0.97, 0.0171447)</td><td>(0.78, 0.0416333)</td><td>(0.85, 0.035887)</td><td>(0.93, 0.0256432)</td></tr><tr><th>18</th><td>N: 10000  ni: 25</td><td>(0.95, 0.0219043)</td><td>(0.79, 0.040936)</td><td>(0.83, 0.0377525)</td><td>(0.98, 0.0140705)</td></tr></tbody></table></div>"
      ],
      "text/latex": [
       "\\begin{tabular}{r|ccccc}\n",
       "\t& people\\_obs & β1 & β2 & β3 & Σ1\\\\\n",
       "\t\\hline\n",
       "\t& String & Tuple… & Tuple… & Tuple… & Tuple…\\\\\n",
       "\t\\hline\n",
       "\t1 & N: 100  ni: 2 & (0.79, 0.040936) & (0.72, 0.0451261) & (0.75, 0.0435194) & (0.89, 0.0314466) \\\\\n",
       "\t2 & N: 100  ni: 5 & (0.94, 0.0238683) & (0.86, 0.0348735) & (0.77, 0.0422953) & (0.87, 0.0337998) \\\\\n",
       "\t3 & N: 100  ni: 10 & (0.94, 0.0238683) & (0.83, 0.0377525) & (0.83, 0.0377525) & (0.88, 0.0326599) \\\\\n",
       "\t4 & N: 100  ni: 15 & (0.91, 0.0287623) & (0.93, 0.0256432) & (0.81, 0.0394277) & (0.88, 0.0326599) \\\\\n",
       "\t5 & N: 100  ni: 20 & (0.87, 0.0337998) & (0.87, 0.0337998) & (0.88, 0.0326599) & (0.91, 0.0287623) \\\\\n",
       "\t6 & N: 100  ni: 25 & (0.89, 0.0314466) & (0.85, 0.035887) & (0.81, 0.0394277) & (0.92, 0.027266) \\\\\n",
       "\t7 & N: 1000  ni: 2 & (0.88, 0.0326599) & (0.88, 0.0326599) & (0.88, 0.0326599) & (0.85, 0.035887) \\\\\n",
       "\t8 & N: 1000  ni: 5 & (0.98, 0.0140705) & (0.85, 0.035887) & (0.89, 0.0314466) & (0.98, 0.0140705) \\\\\n",
       "\t9 & N: 1000  ni: 10 & (0.93, 0.0256432) & (0.84, 0.0368453) & (0.84, 0.0368453) & (0.96, 0.0196946) \\\\\n",
       "\t10 & N: 1000  ni: 15 & (0.96, 0.0196946) & (0.87, 0.0337998) & (0.87, 0.0337998) & (0.94, 0.0238683) \\\\\n",
       "\t11 & N: 1000  ni: 20 & (0.94, 0.0238683) & (0.84, 0.0368453) & (0.84, 0.0368453) & (0.91, 0.0287623) \\\\\n",
       "\t12 & N: 1000  ni: 25 & (0.89, 0.0314466) & (0.85, 0.035887) & (0.84, 0.0368453) & (0.88, 0.0326599) \\\\\n",
       "\t13 & N: 10000  ni: 2 & (0.9, 0.0301511) & (0.84, 0.0368453) & (0.82, 0.0386123) & (0.96, 0.0196946) \\\\\n",
       "\t14 & N: 10000  ni: 5 & (0.91, 0.0287623) & (0.82, 0.0386123) & (0.88, 0.0326599) & (0.95, 0.0219043) \\\\\n",
       "\t15 & N: 10000  ni: 10 & (0.94, 0.0238683) & (0.83, 0.0377525) & (0.89, 0.0314466) & (0.97, 0.0171447) \\\\\n",
       "\t16 & N: 10000  ni: 15 & (0.94, 0.0238683) & (0.71, 0.0456048) & (0.79, 0.040936) & (0.94, 0.0238683) \\\\\n",
       "\t17 & N: 10000  ni: 20 & (0.97, 0.0171447) & (0.78, 0.0416333) & (0.85, 0.035887) & (0.93, 0.0256432) \\\\\n",
       "\t18 & N: 10000  ni: 25 & (0.95, 0.0219043) & (0.79, 0.040936) & (0.83, 0.0377525) & (0.98, 0.0140705) \\\\\n",
       "\\end{tabular}\n"
      ],
      "text/plain": [
       "\u001b[1m18×5 DataFrame\u001b[0m\n",
       "\u001b[1m Row \u001b[0m│\u001b[1m people_obs       \u001b[0m\u001b[1m β1                \u001b[0m\u001b[1m β2                \u001b[0m\u001b[1m β3             \u001b[0m ⋯\n",
       "\u001b[1m     \u001b[0m│\u001b[90m String           \u001b[0m\u001b[90m Tuple…            \u001b[0m\u001b[90m Tuple…            \u001b[0m\u001b[90m Tuple…         \u001b[0m ⋯\n",
       "─────┼──────────────────────────────────────────────────────────────────────────\n",
       "   1 │ N: 100  ni: 2     (0.79, 0.040936)   (0.72, 0.0451261)  (0.75, 0.043519 ⋯\n",
       "   2 │ N: 100  ni: 5     (0.94, 0.0238683)  (0.86, 0.0348735)  (0.77, 0.042295\n",
       "   3 │ N: 100  ni: 10    (0.94, 0.0238683)  (0.83, 0.0377525)  (0.83, 0.037752\n",
       "   4 │ N: 100  ni: 15    (0.91, 0.0287623)  (0.93, 0.0256432)  (0.81, 0.039427\n",
       "   5 │ N: 100  ni: 20    (0.87, 0.0337998)  (0.87, 0.0337998)  (0.88, 0.032659 ⋯\n",
       "   6 │ N: 100  ni: 25    (0.89, 0.0314466)  (0.85, 0.035887)   (0.81, 0.039427\n",
       "   7 │ N: 1000  ni: 2    (0.88, 0.0326599)  (0.88, 0.0326599)  (0.88, 0.032659\n",
       "   8 │ N: 1000  ni: 5    (0.98, 0.0140705)  (0.85, 0.035887)   (0.89, 0.031446\n",
       "   9 │ N: 1000  ni: 10   (0.93, 0.0256432)  (0.84, 0.0368453)  (0.84, 0.036845 ⋯\n",
       "  10 │ N: 1000  ni: 15   (0.96, 0.0196946)  (0.87, 0.0337998)  (0.87, 0.033799\n",
       "  11 │ N: 1000  ni: 20   (0.94, 0.0238683)  (0.84, 0.0368453)  (0.84, 0.036845\n",
       "  12 │ N: 1000  ni: 25   (0.89, 0.0314466)  (0.85, 0.035887)   (0.84, 0.036845\n",
       "  13 │ N: 10000  ni: 2   (0.9, 0.0301511)   (0.84, 0.0368453)  (0.82, 0.038612 ⋯\n",
       "  14 │ N: 10000  ni: 5   (0.91, 0.0287623)  (0.82, 0.0386123)  (0.88, 0.032659\n",
       "  15 │ N: 10000  ni: 10  (0.94, 0.0238683)  (0.83, 0.0377525)  (0.89, 0.031446\n",
       "  16 │ N: 10000  ni: 15  (0.94, 0.0238683)  (0.71, 0.0456048)  (0.79, 0.040936\n",
       "  17 │ N: 10000  ni: 20  (0.97, 0.0171447)  (0.78, 0.0416333)  (0.85, 0.035887 ⋯\n",
       "  18 │ N: 10000  ni: 25  (0.95, 0.0219043)  (0.79, 0.040936)   (0.83, 0.037752\n",
       "\u001b[36m                                                               2 columns omitted\u001b[0m"
      ]
     },
     "execution_count": 10,
     "metadata": {},
     "output_type": "execute_result"
    }
   ],
   "source": [
    "######  supplementary table s1\n",
    "using Random, DataFrames, DelimitedFiles, Statistics\n",
    "import StatsBase: sem\n",
    "\n",
    "βΣcoverage = readdlm(\"beta_sigma_coverage_multivariate_logistic_vcm$(nsims)reps_sim.csv\", ',')\n",
    "\n",
    "m  = 1\n",
    "\n",
    "covdf = DataFrame(Matrix(transpose(βΣcoverage)), :auto)\n",
    "rename!(covdf, Symbol.([[\"β$i\" for i in 1:p]; [\"Σ$i\" for i in 1:m]]))\n",
    "covdf[!, :samplesize] = sample_sizes\n",
    "covdf[!, :obssize] = obs_sizes\n",
    "first(covdf, 10)\n",
    "\n",
    "row_stats = [[(mean(col), sem(col)) for col = eachcol(d[!, 1:end-2])] for d = groupby(covdf, [:samplesize; :obssize])]\n",
    "df = DataFrame(row_stats, :auto)\n",
    "ss_obs = unique(\"N: \" .* sample_sizes .* \"  ni: \" .* obs_sizes)\n",
    "rename!(df, Symbol.(ss_obs))\n",
    "covdfdisplay = DataFrame([[names(df)]; collect.(eachrow(df))], \n",
    "    [:people_obs; Symbol.([[\"β$i\" for i in 1:p]; [\"Σ$i\" for i in 1:m]])])\n",
    "# deletecols!(covdfdisplay, p + 2)\n",
    "covdfdisplay\n"
   ]
  },
  {
   "cell_type": "code",
   "execution_count": 11,
   "metadata": {},
   "outputs": [
    {
     "data": {
      "text/html": [
       "<div class=\"data-frame\"><p>7,200 rows × 5 columns</p><table class=\"data-frame\"><thead><tr><th></th><th>mse</th><th>obssize</th><th>samplesize</th><th>parameters</th><th>robust</th></tr><tr><th></th><th title=\"Float64\">Float64</th><th title=\"String\">String</th><th title=\"String\">String</th><th title=\"String\">String</th><th title=\"String\">String</th></tr></thead><tbody><tr><th>1</th><td>0.0197274</td><td>2</td><td>100</td><td>beta</td><td>Bernoulli Quasi-Copula</td></tr><tr><th>2</th><td>0.0626696</td><td>2</td><td>100</td><td>beta</td><td>Bernoulli Quasi-Copula</td></tr><tr><th>3</th><td>0.00685847</td><td>2</td><td>100</td><td>beta</td><td>Bernoulli Quasi-Copula</td></tr><tr><th>4</th><td>0.0384419</td><td>2</td><td>100</td><td>beta</td><td>Bernoulli Quasi-Copula</td></tr><tr><th>5</th><td>0.0238278</td><td>2</td><td>100</td><td>beta</td><td>Bernoulli Quasi-Copula</td></tr><tr><th>6</th><td>0.0203738</td><td>2</td><td>100</td><td>beta</td><td>Bernoulli Quasi-Copula</td></tr><tr><th>7</th><td>0.00491553</td><td>2</td><td>100</td><td>beta</td><td>Bernoulli Quasi-Copula</td></tr><tr><th>8</th><td>0.00184381</td><td>2</td><td>100</td><td>beta</td><td>Bernoulli Quasi-Copula</td></tr><tr><th>9</th><td>0.0575443</td><td>2</td><td>100</td><td>beta</td><td>Bernoulli Quasi-Copula</td></tr><tr><th>10</th><td>0.0642533</td><td>2</td><td>100</td><td>beta</td><td>Bernoulli Quasi-Copula</td></tr><tr><th>11</th><td>0.0411581</td><td>2</td><td>100</td><td>beta</td><td>Bernoulli Quasi-Copula</td></tr><tr><th>12</th><td>0.0237678</td><td>2</td><td>100</td><td>beta</td><td>Bernoulli Quasi-Copula</td></tr><tr><th>13</th><td>0.0357391</td><td>2</td><td>100</td><td>beta</td><td>Bernoulli Quasi-Copula</td></tr><tr><th>14</th><td>0.0055796</td><td>2</td><td>100</td><td>beta</td><td>Bernoulli Quasi-Copula</td></tr><tr><th>15</th><td>0.00884726</td><td>2</td><td>100</td><td>beta</td><td>Bernoulli Quasi-Copula</td></tr><tr><th>16</th><td>0.0387882</td><td>2</td><td>100</td><td>beta</td><td>Bernoulli Quasi-Copula</td></tr><tr><th>17</th><td>0.0429904</td><td>2</td><td>100</td><td>beta</td><td>Bernoulli Quasi-Copula</td></tr><tr><th>18</th><td>0.00291756</td><td>2</td><td>100</td><td>beta</td><td>Bernoulli Quasi-Copula</td></tr><tr><th>19</th><td>0.00523585</td><td>2</td><td>100</td><td>beta</td><td>Bernoulli Quasi-Copula</td></tr><tr><th>20</th><td>0.0050465</td><td>2</td><td>100</td><td>beta</td><td>Bernoulli Quasi-Copula</td></tr><tr><th>21</th><td>0.0224488</td><td>2</td><td>100</td><td>beta</td><td>Bernoulli Quasi-Copula</td></tr><tr><th>22</th><td>0.0543012</td><td>2</td><td>100</td><td>beta</td><td>Bernoulli Quasi-Copula</td></tr><tr><th>23</th><td>0.0271531</td><td>2</td><td>100</td><td>beta</td><td>Bernoulli Quasi-Copula</td></tr><tr><th>24</th><td>0.0313075</td><td>2</td><td>100</td><td>beta</td><td>Bernoulli Quasi-Copula</td></tr><tr><th>25</th><td>0.0236262</td><td>2</td><td>100</td><td>beta</td><td>Bernoulli Quasi-Copula</td></tr><tr><th>26</th><td>0.0110003</td><td>2</td><td>100</td><td>beta</td><td>Bernoulli Quasi-Copula</td></tr><tr><th>27</th><td>0.0260389</td><td>2</td><td>100</td><td>beta</td><td>Bernoulli Quasi-Copula</td></tr><tr><th>28</th><td>0.0143027</td><td>2</td><td>100</td><td>beta</td><td>Bernoulli Quasi-Copula</td></tr><tr><th>29</th><td>0.0239161</td><td>2</td><td>100</td><td>beta</td><td>Bernoulli Quasi-Copula</td></tr><tr><th>30</th><td>0.0506299</td><td>2</td><td>100</td><td>beta</td><td>Bernoulli Quasi-Copula</td></tr><tr><th>&vellip;</th><td>&vellip;</td><td>&vellip;</td><td>&vellip;</td><td>&vellip;</td><td>&vellip;</td></tr></tbody></table></div>"
      ],
      "text/latex": [
       "\\begin{tabular}{r|ccccc}\n",
       "\t& mse & obssize & samplesize & parameters & robust\\\\\n",
       "\t\\hline\n",
       "\t& Float64 & String & String & String & String\\\\\n",
       "\t\\hline\n",
       "\t1 & 0.0197274 & 2 & 100 & beta & Bernoulli Quasi-Copula \\\\\n",
       "\t2 & 0.0626696 & 2 & 100 & beta & Bernoulli Quasi-Copula \\\\\n",
       "\t3 & 0.00685847 & 2 & 100 & beta & Bernoulli Quasi-Copula \\\\\n",
       "\t4 & 0.0384419 & 2 & 100 & beta & Bernoulli Quasi-Copula \\\\\n",
       "\t5 & 0.0238278 & 2 & 100 & beta & Bernoulli Quasi-Copula \\\\\n",
       "\t6 & 0.0203738 & 2 & 100 & beta & Bernoulli Quasi-Copula \\\\\n",
       "\t7 & 0.00491553 & 2 & 100 & beta & Bernoulli Quasi-Copula \\\\\n",
       "\t8 & 0.00184381 & 2 & 100 & beta & Bernoulli Quasi-Copula \\\\\n",
       "\t9 & 0.0575443 & 2 & 100 & beta & Bernoulli Quasi-Copula \\\\\n",
       "\t10 & 0.0642533 & 2 & 100 & beta & Bernoulli Quasi-Copula \\\\\n",
       "\t11 & 0.0411581 & 2 & 100 & beta & Bernoulli Quasi-Copula \\\\\n",
       "\t12 & 0.0237678 & 2 & 100 & beta & Bernoulli Quasi-Copula \\\\\n",
       "\t13 & 0.0357391 & 2 & 100 & beta & Bernoulli Quasi-Copula \\\\\n",
       "\t14 & 0.0055796 & 2 & 100 & beta & Bernoulli Quasi-Copula \\\\\n",
       "\t15 & 0.00884726 & 2 & 100 & beta & Bernoulli Quasi-Copula \\\\\n",
       "\t16 & 0.0387882 & 2 & 100 & beta & Bernoulli Quasi-Copula \\\\\n",
       "\t17 & 0.0429904 & 2 & 100 & beta & Bernoulli Quasi-Copula \\\\\n",
       "\t18 & 0.00291756 & 2 & 100 & beta & Bernoulli Quasi-Copula \\\\\n",
       "\t19 & 0.00523585 & 2 & 100 & beta & Bernoulli Quasi-Copula \\\\\n",
       "\t20 & 0.0050465 & 2 & 100 & beta & Bernoulli Quasi-Copula \\\\\n",
       "\t21 & 0.0224488 & 2 & 100 & beta & Bernoulli Quasi-Copula \\\\\n",
       "\t22 & 0.0543012 & 2 & 100 & beta & Bernoulli Quasi-Copula \\\\\n",
       "\t23 & 0.0271531 & 2 & 100 & beta & Bernoulli Quasi-Copula \\\\\n",
       "\t24 & 0.0313075 & 2 & 100 & beta & Bernoulli Quasi-Copula \\\\\n",
       "\t25 & 0.0236262 & 2 & 100 & beta & Bernoulli Quasi-Copula \\\\\n",
       "\t26 & 0.0110003 & 2 & 100 & beta & Bernoulli Quasi-Copula \\\\\n",
       "\t27 & 0.0260389 & 2 & 100 & beta & Bernoulli Quasi-Copula \\\\\n",
       "\t28 & 0.0143027 & 2 & 100 & beta & Bernoulli Quasi-Copula \\\\\n",
       "\t29 & 0.0239161 & 2 & 100 & beta & Bernoulli Quasi-Copula \\\\\n",
       "\t30 & 0.0506299 & 2 & 100 & beta & Bernoulli Quasi-Copula \\\\\n",
       "\t$\\dots$ & $\\dots$ & $\\dots$ & $\\dots$ & $\\dots$ & $\\dots$ \\\\\n",
       "\\end{tabular}\n"
      ],
      "text/plain": [
       "\u001b[1m7200×5 DataFrame\u001b[0m\n",
       "\u001b[1m  Row \u001b[0m│\u001b[1m mse        \u001b[0m\u001b[1m obssize \u001b[0m\u001b[1m samplesize \u001b[0m\u001b[1m parameters \u001b[0m\u001b[1m robust                 \u001b[0m\n",
       "\u001b[1m      \u001b[0m│\u001b[90m Float64    \u001b[0m\u001b[90m String  \u001b[0m\u001b[90m String     \u001b[0m\u001b[90m String     \u001b[0m\u001b[90m String                 \u001b[0m\n",
       "──────┼─────────────────────────────────────────────────────────────────────\n",
       "    1 │ 0.0197274   2        100         beta        Bernoulli Quasi-Copula\n",
       "    2 │ 0.0626696   2        100         beta        Bernoulli Quasi-Copula\n",
       "    3 │ 0.00685847  2        100         beta        Bernoulli Quasi-Copula\n",
       "    4 │ 0.0384419   2        100         beta        Bernoulli Quasi-Copula\n",
       "    5 │ 0.0238278   2        100         beta        Bernoulli Quasi-Copula\n",
       "    6 │ 0.0203738   2        100         beta        Bernoulli Quasi-Copula\n",
       "    7 │ 0.00491553  2        100         beta        Bernoulli Quasi-Copula\n",
       "    8 │ 0.00184381  2        100         beta        Bernoulli Quasi-Copula\n",
       "    9 │ 0.0575443   2        100         beta        Bernoulli Quasi-Copula\n",
       "   10 │ 0.0642533   2        100         beta        Bernoulli Quasi-Copula\n",
       "   11 │ 0.0411581   2        100         beta        Bernoulli Quasi-Copula\n",
       "  ⋮   │     ⋮          ⋮         ⋮           ⋮                 ⋮\n",
       " 7191 │ 0.00691727  25       10000       a           Bernoulli GLMM\n",
       " 7192 │ 0.00851319  25       10000       a           Bernoulli GLMM\n",
       " 7193 │ 0.00849256  25       10000       a           Bernoulli GLMM\n",
       " 7194 │ 0.00724753  25       10000       a           Bernoulli GLMM\n",
       " 7195 │ 0.00845538  25       10000       a           Bernoulli GLMM\n",
       " 7196 │ 0.00840848  25       10000       a           Bernoulli GLMM\n",
       " 7197 │ 0.00883354  25       10000       a           Bernoulli GLMM\n",
       " 7198 │ 0.0104029   25       10000       a           Bernoulli GLMM\n",
       " 7199 │ 0.00847363  25       10000       a           Bernoulli GLMM\n",
       " 7200 │ 0.00769651  25       10000       a           Bernoulli GLMM\n",
       "\u001b[36m                                                           7179 rows omitted\u001b[0m"
      ]
     },
     "execution_count": 11,
     "metadata": {},
     "output_type": "execute_result"
    }
   ],
   "source": [
    "#### \n",
    "#import data and reorganize to create figure\n",
    "using Random, DataFrames, DelimitedFiles, Statistics, RCall, Printf\n",
    "import StatsBase: sem\n",
    "\n",
    "βMseresult = vec(readdlm(\"mse_beta_multivariate_logistic_vcm$(nsims)reps_sim.csv\", ','))\n",
    "aMseresult = vec(readdlm(\"mse_Sigma_multivariate_logistic_vcm$(nsims)reps_sim.csv\", ','))\n",
    "\n",
    "βMseresult_GLMM = vec(readdlm(\"mse_beta_GLMM_multivariate_logistic_vcm$(nsims)reps_sim.csv\", ','))\n",
    "aMseresult_GLMM = vec(readdlm(\"mse_Sigma_GLMM_multivariate_logistic_vcm$(nsims)reps_sim.csv\", ','))\n",
    "\n",
    "\n",
    "p = 3; m = 1\n",
    "sample_sizes = repeat(string.(samplesizes), inner = nsims * length(ns))\n",
    "obs_sizes = repeat(string.(ns), inner = nsims, outer = length(samplesizes))\n",
    "msedf1 = DataFrame(βmse = βMseresult, amse = aMseresult, \n",
    "    samplesize = sample_sizes, obssize = obs_sizes)\n",
    "\n",
    "msedf2 = DataFrame(βmse = βMseresult_GLMM, amse = aMseresult_GLMM, \n",
    "    samplesize = sample_sizes, obssize = obs_sizes)\n",
    "\n",
    "#rename to make parsing easier for R.\n",
    "\n",
    "msedf1 = deepcopy(msedf1)\n",
    "rename!(msedf1, [\"betamse\"\n",
    "    \"amse\"\n",
    "    \"samplesize\"\n",
    " \"obssize\"]);\n",
    "\n",
    "msedf2 = deepcopy(msedf2)\n",
    "rename!(msedf2, [\"betamse\"\n",
    "    \"amse\"\n",
    "    \"samplesize\"\n",
    " \"obssize\"]);\n",
    "\n",
    "mses = [msedf1[!, :betamse]; msedf1[!, :amse]; msedf2[!, :betamse]; msedf2[!, :amse]]\n",
    "    # msedfnormR[!, :betamse]; msedfnormR[!, :taumse]; msedfnormR[!, :Sigmamse]]\n",
    "obssize = [collect([repeat(msedf1[!, :obssize], 2)]...) ; collect([repeat(msedf2[!, :obssize], 2)]...)]\n",
    "#40\n",
    "samplesize = [collect([repeat(msedf1[!, :samplesize], 2)]...) ; collect([repeat(msedf2[!, :samplesize], 2)]...)]\n",
    "\n",
    "parameters = [collect([repeat(string.([:beta, :a]), inner = nsims * length(ns) * length(samplesizes))]...) ; collect([repeat(string.([:beta, :a]), inner = nsims * length(ns) * length(samplesizes))]...)]\n",
    "robust = [collect([repeat([\"Bernoulli Quasi-Copula\"], 2 * nsims * length(ns) * length(samplesizes))]...); collect([repeat([\"Bernoulli GLMM\"],  2 * nsims * length(ns) * length(samplesizes))]...)]\n",
    "\n",
    "msedfR = DataFrame(mse = mses, obssize = obssize, samplesize = samplesize,\n",
    "    parameters = parameters, robust = robust)\n",
    "\n",
    "#5 of the 30,000 simulations did not converge, filter out\n",
    "msedfR = filter(x -> !isnan(x.mse), msedfR)\n",
    "# additionally, there are 5 where an error was not caught so it did not try a differnt solver\n",
    "msedfR = filter(x -> x.mse < 40000, msedfR)"
   ]
  },
  {
   "cell_type": "code",
   "execution_count": 12,
   "metadata": {},
   "outputs": [
    {
     "name": "stderr",
     "output_type": "stream",
     "text": [
      "┌ Warning: RCall.jl: Warning: package ‘scales’ was built under R version 4.0.2\n",
      "└ @ RCall /Users/sarahji/.julia/packages/RCall/iMDW2/src/io.jl:160\n",
      "┌ Warning: RCall.jl: Warning: package ‘data.table’ was built under R version 4.0.2\n",
      "└ @ RCall /Users/sarahji/.julia/packages/RCall/iMDW2/src/io.jl:160\n"
     ]
    },
    {
     "data": {
      "image/png": "[encoded data removed]"
     },
     "metadata": {},
     "output_type": "display_data"
    },
    {
     "data": {
      "text/plain": [
       "RObject{VecSxp}\n"
      ]
     },
     "execution_count": 12,
     "metadata": {},
     "output_type": "execute_result"
    }
   ],
   "source": [
    "### working on figure next\n",
    "@rput msedfR\n",
    "\n",
    "R\"\"\"\n",
    "library(scales)\n",
    "library(ggplot2)\n",
    "library(data.table)\n",
    "\n",
    "msedfR = data.table(msedfR)\n",
    "\n",
    "msedfR[parameters == \"beta\",y_min := 10^-6]\n",
    "msedfR[parameters == \"beta\",y_max := 10^0]\n",
    "msedfR[parameters == \"a\",y_min := 10^-5]\n",
    "msedfR[parameters == \"a\",y_max := 10^1]\n",
    "\n",
    "#msedfR[parameters == \"beta\",y_min := 10^-8]\n",
    "#msedfR[parameters == \"beta\",y_max := 10^-2]\n",
    "#msedfR[parameters == \"tau\",y_min := 10^-8]\n",
    "#msedfR[parameters == \"tau\",y_max := 10^-2]\n",
    "#msedfR[parameters == \"Sigma\",y_min := 10^-5]\n",
    "#msedfR[parameters == \"Sigma\",y_max := 10^-2]\n",
    "\n",
    "\n",
    "msedfR$obssize = factor(msedfR$obssize, levels = c('2', '5', '10', '15', '20', '25'))\n",
    "msedfR$samplesize = factor(msedfR$samplesize, levels = c('100', '1000', '10000'))\n",
    "msedfR$parameters = factor(msedfR$parameters, levels = c('beta', 'a'), labels = c(beta = expression(hat(bold(beta))), a = expression(hat(bold(a))[])))\n",
    "msedfR$robust <- factor(msedfR$robust, levels = c('Bernoulli Quasi-Copula', 'Bernoulli GLMM'),\n",
    "    labels = c(expression(paste(\"Bernoulli Quasi-Copula\")), expression(paste(\"Bernoulli GLMM\"))))\n",
    "\n",
    "\n",
    "#mseplot <- ggplot(msedfR[msedfR$mse < 10^0, ], aes(x=samplesize, y=mse, fill=obssize)) + \n",
    "mseplot = ggplot(msedfR[msedfR$mse < 10^3, ], aes(x=samplesize, y=mse, fill=obssize)) + \n",
    "  #geom_boxplot(outlier.size = 0.0, outlier.alpha = 0) +\n",
    "  geom_boxplot(outlier.size = 0.25) +\n",
    "#    geom_violin() +\n",
    "    facet_grid(parameters ~ robust, labeller = label_parsed, scales = \"free_y\") +\n",
    "  theme(legend.position=\"right\", legend.key = element_blank(), axis.text.x = element_text(angle=0, size=11),\n",
    "        axis.text.y = element_text(angle=0, size=12), axis.title.x = element_text(size = 15), \n",
    "        axis.title.y = element_text(size = 15), legend.title = element_text(size = 12),\n",
    "        panel.grid.major = element_blank(), panel.grid.minor = element_blank(),\n",
    "        legend.text=element_text(size=10), panel.background = element_rect(fill = NA, color = \"black\"),\n",
    "        #panel.background = element_blank(), #panel.border = element_blank(),\n",
    "        axis.line = element_line(color = 'black',size=0.3), plot.title = element_text(hjust = 0.5),\n",
    "        strip.background = element_rect(colour=\"black\", fill=\"white\"), strip.text.y = element_text(size=15, face=\"bold\"),\n",
    "        strip.text.x = element_text(size=15)) + \n",
    "  scale_fill_manual(values = c(\"#c85f55\",\n",
    "\"#a964bf\",\n",
    "\"#8db352\",\n",
    "\"#fa7300\",\n",
    "\"#05aec0\",\n",
    "\"#ff1493\")) +\n",
    "#scale_y_log10(breaks = scales::trans_breaks(\"log10\", function(x) 10^x)) +\n",
    "#scale_y_log10(breaks = 10^(-8:8), limit=c(10^-8, 10^2)) + \n",
    "scale_y_log10(breaks = 10^seq(-10, 10, 2), labels=trans_format(\"log10\", math_format(10^.x))) + #, limit=c(10^-8, 10^2)) +\n",
    "  labs(x = \"Number of Individuals\", y = \"MSE of Parameter Estimates\", fill = \"Obs per Individual\") +\n",
    "geom_blank(aes(y = y_max)) + \n",
    "geom_blank(aes(y = y_min)) \n",
    "\n",
    "\"\"\""
   ]
  },
  {
   "cell_type": "code",
   "execution_count": 13,
   "metadata": {},
   "outputs": [
    {
     "data": {
      "text/plain": [
       "RObject{StrSxp}\n",
       "[1] \"updated_msefacetplot_bernoulli.png\"\n"
      ]
     },
     "execution_count": 13,
     "metadata": {},
     "output_type": "execute_result"
    }
   ],
   "source": [
    "R\"\"\"\n",
    "ggsave('updated_msefacetplot_bernoulli.png', mseplot, width = 12.5, height = 15, units = 'in', dpi = 450)\n",
    "\"\"\""
   ]
  },
  {
   "cell_type": "code",
   "execution_count": null,
   "metadata": {},
   "outputs": [],
   "source": []
  },
  {
   "cell_type": "code",
   "execution_count": null,
   "metadata": {},
   "outputs": [],
   "source": []
  }
 ],
 "metadata": {
  "@webio": {
   "lastCommId": null,
   "lastKernelId": null
  },
  "kernelspec": {
   "display_name": "Julia 1.6.2",
   "language": "julia",
   "name": "julia-1.6"
  },
  "language_info": {
   "file_extension": ".jl",
   "mimetype": "application/julia",
   "name": "julia",
   "version": "1.6.2"
  }
 },
 "nbformat": 4,
 "nbformat_minor": 2
}
