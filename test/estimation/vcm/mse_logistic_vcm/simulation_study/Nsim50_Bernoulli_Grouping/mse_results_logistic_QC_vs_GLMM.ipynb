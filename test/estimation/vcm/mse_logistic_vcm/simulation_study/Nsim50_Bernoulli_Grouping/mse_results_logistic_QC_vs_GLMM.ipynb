{
 "cells": [
  {
   "cell_type": "markdown",
   "metadata": {},
   "source": [
    "## Logistic VCM Results \n",
    "\n",
    "This notebook goes over the code needed to reproduce the results from the MSE and time figures for the Bernoulli base distribution with Logit Link and covariance matrix $\\Gamma$ structured under variance component model framework as follows:\n",
    "\n",
    "$$\n",
    "\\Gamma = \\sigma_1 * \\mathbf{1_{n} 1_{n}^\\top}\n",
    "$$\n",
    "\n",
    "We run each scenario 5 times and compare the fit with that of GLMM's random intercept model from MixedModels.jl. "
   ]
  },
  {
   "cell_type": "code",
   "execution_count": 1,
   "metadata": {},
   "outputs": [
    {
     "name": "stdout",
     "output_type": "stream",
     "text": [
      "Julia Version 1.6.2\n",
      "Commit 1b93d53fc4 (2021-07-14 15:36 UTC)\n",
      "Platform Info:\n",
      "  OS: macOS (x86_64-apple-darwin18.7.0)\n",
      "  CPU: Intel(R) Core(TM) i9-9880H CPU @ 2.30GHz\n",
      "  WORD_SIZE: 64\n",
      "  LIBM: libopenlibm\n",
      "  LLVM: libLLVM-11.0.1 (ORCJIT, skylake)\n"
     ]
    }
   ],
   "source": [
    "versioninfo()"
   ]
  },
  {
   "cell_type": "code",
   "execution_count": 2,
   "metadata": {},
   "outputs": [],
   "source": [
    "using GLMCopula, DelimitedFiles, LinearAlgebra, Random, GLM, CSV\n",
    "using Random, Roots, SpecialFunctions, DataFrames"
   ]
  },
  {
   "cell_type": "code",
   "execution_count": 3,
   "metadata": {},
   "outputs": [
    {
     "data": {
      "text/plain": [
       "50"
      ]
     },
     "execution_count": 3,
     "metadata": {},
     "output_type": "execute_result"
    }
   ],
   "source": [
    "p  = 3    # number of fixed effects, including intercept\n",
    "m  = 1    # number of variance components\n",
    "# true parameter values\n",
    "βtrue = ones(p)\n",
    "Σtrue = [0.5]\n",
    "\n",
    "# generate data\n",
    "intervals = zeros(p + m, 2) #hold intervals\n",
    "curcoverage = zeros(p + m) #hold current coverage resutls\n",
    "trueparams = [βtrue; Σtrue] #hold true parameters\n",
    "\n",
    "#simulation parameters\n",
    "samplesizes = [1000; 10000; 25000; 50000]\n",
    "ns = [5; 10; 20; 50]\n",
    "nsims = 50"
   ]
  },
  {
   "cell_type": "code",
   "execution_count": 4,
   "metadata": {},
   "outputs": [
    {
     "name": "stderr",
     "output_type": "stream",
     "text": [
      "┌ Info: reading in the files with results\n",
      "└ @ Main In[4]:1\n"
     ]
    },
    {
     "data": {
      "text/plain": [
       "800-element Vector{Float64}:\n",
       "  0.209199181\n",
       "  0.241330527\n",
       "  0.206825168\n",
       "  0.162843014\n",
       "  0.225684586\n",
       "  0.126941805\n",
       "  0.265264912\n",
       "  0.134587271\n",
       "  0.148186739\n",
       "  0.166350973\n",
       "  0.147992203\n",
       "  0.244628063\n",
       "  0.191375835\n",
       "  ⋮\n",
       " 36.54791437\n",
       " 34.93953137\n",
       " 34.73785041\n",
       " 31.79585046\n",
       " 35.02894556\n",
       " 33.21117271\n",
       " 35.34497205\n",
       " 32.63801611\n",
       " 31.1774053\n",
       " 33.82200997\n",
       " 37.96880072\n",
       " 31.76612365"
      ]
     },
     "execution_count": 4,
     "metadata": {},
     "output_type": "execute_result"
    }
   ],
   "source": [
    "@info \"reading in the files with results\"\n",
    "βMseresult = vec(readdlm(\"mse_beta_multivariate_logistic_vcm$(nsims)reps_sim.csv\", ','))\n",
    "ΣMseresult = vec(readdlm(\"mse_Sigma_multivariate_logistic_vcm$(nsims)reps_sim.csv\", ','))\n",
    "fittimes_QC = vec(readdlm(\"fittimes_multivariate_logistic_vcm$(nsims)reps_sim.csv\", ','))"
   ]
  },
  {
   "cell_type": "code",
   "execution_count": 5,
   "metadata": {},
   "outputs": [
    {
     "data": {
      "text/plain": [
       "800-element Vector{Float64}:\n",
       "   0.772834131\n",
       "   0.398304822\n",
       "   0.311040933\n",
       "   0.354611448\n",
       "   0.331160966\n",
       "   0.330916639\n",
       "   0.319972768\n",
       "   0.325546633\n",
       "   0.323622606\n",
       "   0.377054554\n",
       "   0.384352347\n",
       "   0.333680857\n",
       "   0.322380243\n",
       "   ⋮\n",
       " 126.9693617\n",
       " 142.3313853\n",
       " 139.4169805\n",
       " 141.5985778\n",
       " 144.6314296\n",
       " 147.2482658\n",
       " 134.2226569\n",
       " 146.8509694\n",
       " 144.664723\n",
       " 136.990111\n",
       " 142.3278566\n",
       " 121.9115808"
      ]
     },
     "execution_count": 5,
     "metadata": {},
     "output_type": "execute_result"
    }
   ],
   "source": [
    "fittimes_GLMM = vec(readdlm(\"fittimes_GLMM_multivariate_logistic_vcm$(nsims)reps_sim.csv\", ','))"
   ]
  },
  {
   "cell_type": "code",
   "execution_count": 6,
   "metadata": {},
   "outputs": [
    {
     "name": "stderr",
     "output_type": "stream",
     "text": [
      "┌ Info: making results table Quasi-Copula\n",
      "└ @ Main In[6]:2\n"
     ]
    },
    {
     "data": {
      "text/html": [
       "<div class=\"data-frame\"><p>16 rows × 8 columns</p><table class=\"data-frame\"><thead><tr><th></th><th>samplesize</th><th>obssize</th><th>fittime</th><th>se</th><th>nobs</th><th>fitmin</th><th>fitmax</th><th>perobsratio</th></tr><tr><th></th><th title=\"String\">String</th><th title=\"String\">String</th><th title=\"Float64\">Float64</th><th title=\"Float64\">Float64</th><th title=\"Int64\">Int64</th><th title=\"Float64\">Float64</th><th title=\"Float64\">Float64</th><th title=\"Float64\">Float64</th></tr></thead><tbody><tr><th>1</th><td>1000</td><td>5</td><td>0.21814</td><td>0.0158489</td><td>5000</td><td>0.202291</td><td>0.233989</td><td>4.3628e-5</td></tr><tr><th>2</th><td>1000</td><td>10</td><td>0.263779</td><td>0.00858441</td><td>10000</td><td>0.255195</td><td>0.272363</td><td>2.63779e-5</td></tr><tr><th>3</th><td>1000</td><td>20</td><td>0.338311</td><td>0.00922801</td><td>20000</td><td>0.329083</td><td>0.347539</td><td>1.69156e-5</td></tr><tr><th>4</th><td>1000</td><td>50</td><td>0.739631</td><td>0.00951503</td><td>50000</td><td>0.730116</td><td>0.749146</td><td>1.47926e-5</td></tr><tr><th>5</th><td>10000</td><td>5</td><td>1.1869</td><td>0.0294147</td><td>50000</td><td>1.15748</td><td>1.21631</td><td>2.37379e-5</td></tr><tr><th>6</th><td>10000</td><td>10</td><td>2.16213</td><td>0.0406131</td><td>100000</td><td>2.12152</td><td>2.20274</td><td>2.16213e-5</td></tr><tr><th>7</th><td>10000</td><td>20</td><td>3.07712</td><td>0.0437677</td><td>200000</td><td>3.03335</td><td>3.12088</td><td>1.53856e-5</td></tr><tr><th>8</th><td>10000</td><td>50</td><td>7.31272</td><td>0.0494192</td><td>500000</td><td>7.26331</td><td>7.36214</td><td>1.46254e-5</td></tr><tr><th>9</th><td>25000</td><td>5</td><td>3.00605</td><td>0.0563778</td><td>125000</td><td>2.94967</td><td>3.06242</td><td>2.40484e-5</td></tr><tr><th>10</th><td>25000</td><td>10</td><td>6.42856</td><td>0.107608</td><td>250000</td><td>6.32095</td><td>6.53617</td><td>2.57142e-5</td></tr><tr><th>11</th><td>25000</td><td>20</td><td>7.76872</td><td>0.0698758</td><td>500000</td><td>7.69885</td><td>7.8386</td><td>1.55374e-5</td></tr><tr><th>12</th><td>25000</td><td>50</td><td>18.182</td><td>0.21048</td><td>1250000</td><td>17.9715</td><td>18.3924</td><td>1.45456e-5</td></tr><tr><th>13</th><td>50000</td><td>5</td><td>5.25776</td><td>0.0551853</td><td>250000</td><td>5.20257</td><td>5.31295</td><td>2.1031e-5</td></tr><tr><th>14</th><td>50000</td><td>10</td><td>10.9784</td><td>0.126239</td><td>500000</td><td>10.8521</td><td>11.1046</td><td>2.19568e-5</td></tr><tr><th>15</th><td>50000</td><td>20</td><td>17.603</td><td>0.111854</td><td>1000000</td><td>17.4911</td><td>17.7149</td><td>1.7603e-5</td></tr><tr><th>16</th><td>50000</td><td>50</td><td>34.044</td><td>0.362566</td><td>2500000</td><td>33.6815</td><td>34.4066</td><td>1.36176e-5</td></tr></tbody></table></div>"
      ],
      "text/latex": [
       "\\begin{tabular}{r|cccccccc}\n",
       "\t& samplesize & obssize & fittime & se & nobs & fitmin & fitmax & perobsratio\\\\\n",
       "\t\\hline\n",
       "\t& String & String & Float64 & Float64 & Int64 & Float64 & Float64 & Float64\\\\\n",
       "\t\\hline\n",
       "\t1 & 1000 & 5 & 0.21814 & 0.0158489 & 5000 & 0.202291 & 0.233989 & 4.3628e-5 \\\\\n",
       "\t2 & 1000 & 10 & 0.263779 & 0.00858441 & 10000 & 0.255195 & 0.272363 & 2.63779e-5 \\\\\n",
       "\t3 & 1000 & 20 & 0.338311 & 0.00922801 & 20000 & 0.329083 & 0.347539 & 1.69156e-5 \\\\\n",
       "\t4 & 1000 & 50 & 0.739631 & 0.00951503 & 50000 & 0.730116 & 0.749146 & 1.47926e-5 \\\\\n",
       "\t5 & 10000 & 5 & 1.1869 & 0.0294147 & 50000 & 1.15748 & 1.21631 & 2.37379e-5 \\\\\n",
       "\t6 & 10000 & 10 & 2.16213 & 0.0406131 & 100000 & 2.12152 & 2.20274 & 2.16213e-5 \\\\\n",
       "\t7 & 10000 & 20 & 3.07712 & 0.0437677 & 200000 & 3.03335 & 3.12088 & 1.53856e-5 \\\\\n",
       "\t8 & 10000 & 50 & 7.31272 & 0.0494192 & 500000 & 7.26331 & 7.36214 & 1.46254e-5 \\\\\n",
       "\t9 & 25000 & 5 & 3.00605 & 0.0563778 & 125000 & 2.94967 & 3.06242 & 2.40484e-5 \\\\\n",
       "\t10 & 25000 & 10 & 6.42856 & 0.107608 & 250000 & 6.32095 & 6.53617 & 2.57142e-5 \\\\\n",
       "\t11 & 25000 & 20 & 7.76872 & 0.0698758 & 500000 & 7.69885 & 7.8386 & 1.55374e-5 \\\\\n",
       "\t12 & 25000 & 50 & 18.182 & 0.21048 & 1250000 & 17.9715 & 18.3924 & 1.45456e-5 \\\\\n",
       "\t13 & 50000 & 5 & 5.25776 & 0.0551853 & 250000 & 5.20257 & 5.31295 & 2.1031e-5 \\\\\n",
       "\t14 & 50000 & 10 & 10.9784 & 0.126239 & 500000 & 10.8521 & 11.1046 & 2.19568e-5 \\\\\n",
       "\t15 & 50000 & 20 & 17.603 & 0.111854 & 1000000 & 17.4911 & 17.7149 & 1.7603e-5 \\\\\n",
       "\t16 & 50000 & 50 & 34.044 & 0.362566 & 2500000 & 33.6815 & 34.4066 & 1.36176e-5 \\\\\n",
       "\\end{tabular}\n"
      ],
      "text/plain": [
       "\u001b[1m16×8 DataFrame\u001b[0m\n",
       "\u001b[1m Row \u001b[0m│\u001b[1m samplesize \u001b[0m\u001b[1m obssize \u001b[0m\u001b[1m fittime   \u001b[0m\u001b[1m se         \u001b[0m\u001b[1m nobs    \u001b[0m\u001b[1m fitmin    \u001b[0m\u001b[1m fitmax \u001b[0m ⋯\n",
       "\u001b[1m     \u001b[0m│\u001b[90m String     \u001b[0m\u001b[90m String  \u001b[0m\u001b[90m Float64   \u001b[0m\u001b[90m Float64    \u001b[0m\u001b[90m Int64   \u001b[0m\u001b[90m Float64   \u001b[0m\u001b[90m Float64\u001b[0m ⋯\n",
       "─────┼──────────────────────────────────────────────────────────────────────────\n",
       "   1 │ 1000        5         0.21814   0.0158489      5000   0.202291   0.2339 ⋯\n",
       "   2 │ 1000        10        0.263779  0.00858441    10000   0.255195   0.2723\n",
       "   3 │ 1000        20        0.338311  0.00922801    20000   0.329083   0.3475\n",
       "   4 │ 1000        50        0.739631  0.00951503    50000   0.730116   0.7491\n",
       "   5 │ 10000       5         1.1869    0.0294147     50000   1.15748    1.2163 ⋯\n",
       "   6 │ 10000       10        2.16213   0.0406131    100000   2.12152    2.2027\n",
       "   7 │ 10000       20        3.07712   0.0437677    200000   3.03335    3.1208\n",
       "   8 │ 10000       50        7.31272   0.0494192    500000   7.26331    7.3621\n",
       "   9 │ 25000       5         3.00605   0.0563778    125000   2.94967    3.0624 ⋯\n",
       "  10 │ 25000       10        6.42856   0.107608     250000   6.32095    6.5361\n",
       "  11 │ 25000       20        7.76872   0.0698758    500000   7.69885    7.8386\n",
       "  12 │ 25000       50       18.182     0.21048     1250000  17.9715    18.3924\n",
       "  13 │ 50000       5         5.25776   0.0551853    250000   5.20257    5.3129 ⋯\n",
       "  14 │ 50000       10       10.9784    0.126239     500000  10.8521    11.1046\n",
       "  15 │ 50000       20       17.603     0.111854    1000000  17.4911    17.7149\n",
       "  16 │ 50000       50       34.044     0.362566    2500000  33.6815    34.4066\n",
       "\u001b[36m                                                               2 columns omitted\u001b[0m"
      ]
     },
     "execution_count": 6,
     "metadata": {},
     "output_type": "execute_result"
    }
   ],
   "source": [
    "#simulation parameters\n",
    "@info \"making results table Quasi-Copula\"\n",
    "sample_sizes = repeat(string.(samplesizes), inner = nsims * length(ns))\n",
    "obs_sizes = repeat(string.(ns), inner = nsims, outer = length(samplesizes))\n",
    "\n",
    "msedf = DataFrame(βmse = βMseresult, Σmse = ΣMseresult, \n",
    "    samplesize = sample_sizes, obssize = obs_sizes, fittimes = fittimes_QC)\n",
    "timedf1 = combine(groupby(msedf, [:samplesize, :obssize]), :fittimes => mean => :fittime,\n",
    "    :fittimes => x -> (std(x)/sqrt(length(x))))\n",
    "rename!(timedf1, Dict(:fittimes_function => \"se\"))\n",
    "timedf1[!, :nobs] = Meta.parse.(timedf1[!, :samplesize]) .* Meta.parse.(timedf1[!, :obssize])\n",
    "timedf1[!, :fitmin] = timedf1[!, :fittime] - timedf1[!, :se]\n",
    "timedf1[!, :fitmax] = timedf1[!, :fittime] + timedf1[!, :se]\n",
    "timedf1[!, :perobsratio] = timedf1[!, :fittime] ./ timedf1[!, :nobs]\n",
    "timedf1"
   ]
  },
  {
   "cell_type": "code",
   "execution_count": 7,
   "metadata": {},
   "outputs": [
    {
     "name": "stderr",
     "output_type": "stream",
     "text": [
      "┌ Info: making results table GLMM\n",
      "└ @ Main In[7]:2\n"
     ]
    },
    {
     "data": {
      "text/html": [
       "<div class=\"data-frame\"><p>16 rows × 8 columns</p><table class=\"data-frame\"><thead><tr><th></th><th>samplesize</th><th>obssize</th><th>fittime</th><th>se</th><th>nobs</th><th>fitmin</th><th>fitmax</th><th>perobsratio</th></tr><tr><th></th><th title=\"String\">String</th><th title=\"String\">String</th><th title=\"Float64\">Float64</th><th title=\"Float64\">Float64</th><th title=\"Int64\">Int64</th><th title=\"Float64\">Float64</th><th title=\"Float64\">Float64</th><th title=\"Float64\">Float64</th></tr></thead><tbody><tr><th>1</th><td>1000</td><td>5</td><td>0.348069</td><td>0.00966854</td><td>5000</td><td>0.3384</td><td>0.357737</td><td>6.96137e-5</td></tr><tr><th>2</th><td>1000</td><td>10</td><td>0.5796</td><td>0.00617396</td><td>10000</td><td>0.573426</td><td>0.585774</td><td>5.796e-5</td></tr><tr><th>3</th><td>1000</td><td>20</td><td>1.10247</td><td>0.0127326</td><td>20000</td><td>1.08974</td><td>1.1152</td><td>5.51235e-5</td></tr><tr><th>4</th><td>1000</td><td>50</td><td>2.85953</td><td>0.0292138</td><td>50000</td><td>2.83032</td><td>2.88874</td><td>5.71906e-5</td></tr><tr><th>5</th><td>10000</td><td>5</td><td>3.03884</td><td>0.0308382</td><td>50000</td><td>3.008</td><td>3.06968</td><td>6.07768e-5</td></tr><tr><th>6</th><td>10000</td><td>10</td><td>5.5217</td><td>0.0548725</td><td>100000</td><td>5.46682</td><td>5.57657</td><td>5.5217e-5</td></tr><tr><th>7</th><td>10000</td><td>20</td><td>11.0203</td><td>0.100002</td><td>200000</td><td>10.9203</td><td>11.1203</td><td>5.51013e-5</td></tr><tr><th>8</th><td>10000</td><td>50</td><td>27.5793</td><td>0.248021</td><td>500000</td><td>27.3313</td><td>27.8274</td><td>5.51587e-5</td></tr><tr><th>9</th><td>25000</td><td>5</td><td>7.95686</td><td>0.0872029</td><td>125000</td><td>7.86966</td><td>8.04406</td><td>6.36549e-5</td></tr><tr><th>10</th><td>25000</td><td>10</td><td>13.575</td><td>0.14752</td><td>250000</td><td>13.4274</td><td>13.7225</td><td>5.42998e-5</td></tr><tr><th>11</th><td>25000</td><td>20</td><td>28.8212</td><td>0.243418</td><td>500000</td><td>28.5778</td><td>29.0647</td><td>5.76425e-5</td></tr><tr><th>12</th><td>25000</td><td>50</td><td>71.5431</td><td>0.58714</td><td>1250000</td><td>70.956</td><td>72.1303</td><td>5.72345e-5</td></tr><tr><th>13</th><td>50000</td><td>5</td><td>13.0922</td><td>0.149602</td><td>250000</td><td>12.9426</td><td>13.2418</td><td>5.23689e-5</td></tr><tr><th>14</th><td>50000</td><td>10</td><td>26.6614</td><td>0.191477</td><td>500000</td><td>26.4699</td><td>26.8529</td><td>5.33228e-5</td></tr><tr><th>15</th><td>50000</td><td>20</td><td>59.7222</td><td>0.603908</td><td>1000000</td><td>59.1183</td><td>60.3261</td><td>5.97222e-5</td></tr><tr><th>16</th><td>50000</td><td>50</td><td>140.529</td><td>1.37018</td><td>2500000</td><td>139.159</td><td>141.899</td><td>5.62117e-5</td></tr></tbody></table></div>"
      ],
      "text/latex": [
       "\\begin{tabular}{r|cccccccc}\n",
       "\t& samplesize & obssize & fittime & se & nobs & fitmin & fitmax & perobsratio\\\\\n",
       "\t\\hline\n",
       "\t& String & String & Float64 & Float64 & Int64 & Float64 & Float64 & Float64\\\\\n",
       "\t\\hline\n",
       "\t1 & 1000 & 5 & 0.348069 & 0.00966854 & 5000 & 0.3384 & 0.357737 & 6.96137e-5 \\\\\n",
       "\t2 & 1000 & 10 & 0.5796 & 0.00617396 & 10000 & 0.573426 & 0.585774 & 5.796e-5 \\\\\n",
       "\t3 & 1000 & 20 & 1.10247 & 0.0127326 & 20000 & 1.08974 & 1.1152 & 5.51235e-5 \\\\\n",
       "\t4 & 1000 & 50 & 2.85953 & 0.0292138 & 50000 & 2.83032 & 2.88874 & 5.71906e-5 \\\\\n",
       "\t5 & 10000 & 5 & 3.03884 & 0.0308382 & 50000 & 3.008 & 3.06968 & 6.07768e-5 \\\\\n",
       "\t6 & 10000 & 10 & 5.5217 & 0.0548725 & 100000 & 5.46682 & 5.57657 & 5.5217e-5 \\\\\n",
       "\t7 & 10000 & 20 & 11.0203 & 0.100002 & 200000 & 10.9203 & 11.1203 & 5.51013e-5 \\\\\n",
       "\t8 & 10000 & 50 & 27.5793 & 0.248021 & 500000 & 27.3313 & 27.8274 & 5.51587e-5 \\\\\n",
       "\t9 & 25000 & 5 & 7.95686 & 0.0872029 & 125000 & 7.86966 & 8.04406 & 6.36549e-5 \\\\\n",
       "\t10 & 25000 & 10 & 13.575 & 0.14752 & 250000 & 13.4274 & 13.7225 & 5.42998e-5 \\\\\n",
       "\t11 & 25000 & 20 & 28.8212 & 0.243418 & 500000 & 28.5778 & 29.0647 & 5.76425e-5 \\\\\n",
       "\t12 & 25000 & 50 & 71.5431 & 0.58714 & 1250000 & 70.956 & 72.1303 & 5.72345e-5 \\\\\n",
       "\t13 & 50000 & 5 & 13.0922 & 0.149602 & 250000 & 12.9426 & 13.2418 & 5.23689e-5 \\\\\n",
       "\t14 & 50000 & 10 & 26.6614 & 0.191477 & 500000 & 26.4699 & 26.8529 & 5.33228e-5 \\\\\n",
       "\t15 & 50000 & 20 & 59.7222 & 0.603908 & 1000000 & 59.1183 & 60.3261 & 5.97222e-5 \\\\\n",
       "\t16 & 50000 & 50 & 140.529 & 1.37018 & 2500000 & 139.159 & 141.899 & 5.62117e-5 \\\\\n",
       "\\end{tabular}\n"
      ],
      "text/plain": [
       "\u001b[1m16×8 DataFrame\u001b[0m\n",
       "\u001b[1m Row \u001b[0m│\u001b[1m samplesize \u001b[0m\u001b[1m obssize \u001b[0m\u001b[1m fittime    \u001b[0m\u001b[1m se         \u001b[0m\u001b[1m nobs    \u001b[0m\u001b[1m fitmin     \u001b[0m\u001b[1m fitma\u001b[0m ⋯\n",
       "\u001b[1m     \u001b[0m│\u001b[90m String     \u001b[0m\u001b[90m String  \u001b[0m\u001b[90m Float64    \u001b[0m\u001b[90m Float64    \u001b[0m\u001b[90m Int64   \u001b[0m\u001b[90m Float64    \u001b[0m\u001b[90m Float\u001b[0m ⋯\n",
       "─────┼──────────────────────────────────────────────────────────────────────────\n",
       "   1 │ 1000        5          0.348069  0.00966854     5000    0.3384      0.3 ⋯\n",
       "   2 │ 1000        10         0.5796    0.00617396    10000    0.573426    0.5\n",
       "   3 │ 1000        20         1.10247   0.0127326     20000    1.08974     1.1\n",
       "   4 │ 1000        50         2.85953   0.0292138     50000    2.83032     2.8\n",
       "   5 │ 10000       5          3.03884   0.0308382     50000    3.008       3.0 ⋯\n",
       "   6 │ 10000       10         5.5217    0.0548725    100000    5.46682     5.5\n",
       "   7 │ 10000       20        11.0203    0.100002     200000   10.9203     11.1\n",
       "   8 │ 10000       50        27.5793    0.248021     500000   27.3313     27.8\n",
       "   9 │ 25000       5          7.95686   0.0872029    125000    7.86966     8.0 ⋯\n",
       "  10 │ 25000       10        13.575     0.14752      250000   13.4274     13.7\n",
       "  11 │ 25000       20        28.8212    0.243418     500000   28.5778     29.0\n",
       "  12 │ 25000       50        71.5431    0.58714     1250000   70.956      72.1\n",
       "  13 │ 50000       5         13.0922    0.149602     250000   12.9426     13.2 ⋯\n",
       "  14 │ 50000       10        26.6614    0.191477     500000   26.4699     26.8\n",
       "  15 │ 50000       20        59.7222    0.603908    1000000   59.1183     60.3\n",
       "  16 │ 50000       50       140.529     1.37018     2500000  139.159     141.8\n",
       "\u001b[36m                                                               2 columns omitted\u001b[0m"
      ]
     },
     "execution_count": 7,
     "metadata": {},
     "output_type": "execute_result"
    }
   ],
   "source": [
    "#simulation parameters\n",
    "@info \"making results table GLMM\"\n",
    "sample_sizes = repeat(string.(samplesizes), inner = nsims * length(ns))\n",
    "obs_sizes = repeat(string.(ns), inner = nsims, outer = length(samplesizes))\n",
    "\n",
    "msedf = DataFrame(βmse = βMseresult, Σmse = ΣMseresult, \n",
    "    samplesize = sample_sizes, obssize = obs_sizes, fittimes = fittimes_GLMM)\n",
    "timedf2 = combine(groupby(msedf, [:samplesize, :obssize]), :fittimes => mean => :fittime,\n",
    "    :fittimes => x -> (std(x)/sqrt(length(x))))\n",
    "rename!(timedf2, Dict(:fittimes_function => \"se\"))\n",
    "timedf2[!, :nobs] = Meta.parse.(timedf2[!, :samplesize]) .* Meta.parse.(timedf2[!, :obssize])\n",
    "timedf2[!, :fitmin] = timedf2[!, :fittime] - timedf2[!, :se]\n",
    "timedf2[!, :fitmax] = timedf2[!, :fittime] + timedf2[!, :se]\n",
    "timedf2[!, :perobsratio] = timedf2[!, :fittime] ./ timedf2[!, :nobs]\n",
    "timedf2"
   ]
  },
  {
   "cell_type": "code",
   "execution_count": 8,
   "metadata": {},
   "outputs": [
    {
     "name": "stderr",
     "output_type": "stream",
     "text": [
      "┌ Warning: RCall.jl: Warning: package ‘ggplot2’ was built under R version 4.0.2\n",
      "└ @ RCall /Users/sarahji/.julia/packages/RCall/iMDW2/src/io.jl:160\n",
      "┌ Warning: RCall.jl: Warning: package ‘cowplot’ was built under R version 4.0.2\n",
      "└ @ RCall /Users/sarahji/.julia/packages/RCall/iMDW2/src/io.jl:160\n"
     ]
    },
    {
     "data": {
      "image/png": "[encoded data removed]"
     },
     "metadata": {},
     "output_type": "display_data"
    },
    {
     "data": {
      "text/plain": [
       "RObject{VecSxp}\n"
      ]
     },
     "execution_count": 8,
     "metadata": {},
     "output_type": "execute_result"
    }
   ],
   "source": [
    "########### plot the runtimes\n",
    "using RCall\n",
    "@rput timedf1\n",
    "@rput timedf2\n",
    "R\"\"\"\n",
    "library(ggplot2)\n",
    "library(cowplot)\n",
    "timedf1$obssize = factor(timedf1$obssize, levels = c('5', '10', '20', '50'))\n",
    "timedf1$samplesize = factor(timedf1$samplesize, levels = c('1000', '10000', '25000', '50000'))\n",
    "\n",
    "fittime_1 = ggplot(timedf1, aes(x = samplesize, y = fittime, group = obssize, color = obssize)) + \n",
    "  geom_line() +\n",
    "  geom_point()+\n",
    "  geom_errorbar(aes(ymin=fitmin, ymax=fitmax), width=0.5, alpha = 0.8, position=position_dodge(0.005)) + \n",
    "  theme(legend.position=c(0.15,0.85), legend.key = element_blank(), axis.text.x = element_text(angle=0, size=13),\n",
    "        axis.text.y = element_text(angle=0, size=13), axis.title.x = element_text(size = 17), \n",
    "        axis.title.y = element_text(size = 17), legend.title = element_text(size = 14),\n",
    "        #axis.ticks = element_blank(),\n",
    "        panel.grid.major = element_blank(), legend.text=element_text(size=13),\n",
    "        panel.border = element_blank(), panel.grid.minor = element_blank(), panel.background = element_blank(), \n",
    "        axis.line = element_line(color = 'black',size=0.3), plot.title = element_text(hjust = 0.5)) + \n",
    "   scale_color_manual(values = c(\"#c85f55\",\n",
    "\"#a964bf\",\n",
    "\"#8db352\",\n",
    "\"#fa7300\",\n",
    "\"#05aec0\")) +\n",
    "  labs(x = \"Number of Individuals\", y = \"Fit time (seconds)\", color = \"Obs per Individual\")\n",
    "\n",
    "timedf2$obssize = factor(timedf2$obssize, levels = c('5', '10', '20', '50'))\n",
    "timedf2$samplesize = factor(timedf2$samplesize, levels = c('1000', '10000', '25000', '50000'))\n",
    "\n",
    "fittime_2 = ggplot(timedf2, aes(x = samplesize, y = fittime, group = obssize, color = obssize)) + \n",
    "  geom_line() +\n",
    "  geom_point()+\n",
    "  geom_errorbar(aes(ymin=fitmin, ymax=fitmax), width=0.5, alpha = 0.8, position=position_dodge(0.005)) + \n",
    "  theme(legend.position=c(0.15,0.85), legend.key = element_blank(), axis.text.x = element_text(angle=0, size=13),\n",
    "        axis.text.y = element_text(angle=0, size=13), axis.title.x = element_text(size = 17), \n",
    "        axis.title.y = element_text(size = 17), legend.title = element_text(size = 14),\n",
    "        #axis.ticks = element_blank(),\n",
    "        panel.grid.major = element_blank(), legend.text=element_text(size=13),\n",
    "        panel.border = element_blank(), panel.grid.minor = element_blank(), panel.background = element_blank(), \n",
    "        axis.line = element_line(color = 'black',size=0.3), plot.title = element_text(hjust = 0.5)) + \n",
    "   scale_color_manual(values = c(\"#c85f55\",\n",
    "\"#a964bf\",\n",
    "\"#8db352\",\n",
    "\"#fa7300\",\n",
    "\"#05aec0\")) +\n",
    "  labs(x = \"Number of Individuals\", y = \"Fit time (seconds)\", color = \"Obs per Individual\")\n",
    "\n",
    "fittime_nsamples = plot_grid(fittime_1, fittime_2, labels = c(\"Quasi-Copula\", \"GLMM\"))\n",
    "\"\"\""
   ]
  },
  {
   "cell_type": "code",
   "execution_count": 9,
   "metadata": {},
   "outputs": [
    {
     "data": {
      "text/plain": [
       "RObject{StrSxp}\n",
       "[1] \"fittime_nsamples_logistic_vs_glmm.png\"\n"
      ]
     },
     "execution_count": 9,
     "metadata": {},
     "output_type": "execute_result"
    }
   ],
   "source": [
    "using RCall\n",
    "R\"\"\"\n",
    "ggsave('fittime_nsamples_logistic_vs_glmm.png', fittime_nsamples, width = 12.5, height = 15, units = 'in', dpi = 450)\n",
    "\"\"\""
   ]
  },
  {
   "cell_type": "code",
   "execution_count": 10,
   "metadata": {},
   "outputs": [
    {
     "name": "stderr",
     "output_type": "stream",
     "text": [
      "┌ Warning: RCall.jl: Warning: package ‘scales’ was built under R version 4.0.2\n",
      "└ @ RCall /Users/sarahji/.julia/packages/RCall/iMDW2/src/io.jl:160\n"
     ]
    },
    {
     "data": {
      "image/png": "[encoded data removed]"
     },
     "metadata": {},
     "output_type": "display_data"
    },
    {
     "data": {
      "text/plain": [
       "RObject{VecSxp}\n"
      ]
     },
     "execution_count": 10,
     "metadata": {},
     "output_type": "execute_result"
    }
   ],
   "source": [
    "using RCall\n",
    "@rput timedf1\n",
    "@rput timedf2\n",
    "\n",
    "R\"\"\"\n",
    "library(scales)\n",
    "library(ggplot2)\n",
    "timedf1$obssize <- factor(timedf1$obssize, levels = c('5', '10', '20', '50'))\n",
    "timedf1$samplesize <- factor(timedf1$samplesize, levels = c('1000', '10000', '25000', '50000'))\n",
    "\n",
    "fancy_scientific <- function(l) {\n",
    "     # turn in to character string in scientific notation\n",
    "     l <- format(l, scientific = TRUE)\n",
    "     # quote the part before the exponent to keep all the digits\n",
    "     l <- gsub(\"^(.*)e\", \"'\\\\1'e\", l)\n",
    "     # turn the 'e+' into plotmath format\n",
    "     l <- gsub(\"e\", \"%*%10^\", l)\n",
    "     # return this as an expression\n",
    "     parse(text=l)\n",
    "}\n",
    "\n",
    "fittimeperobs1 = ggplot(timedf1, aes(x=nobs, y=perobsratio)) + \n",
    "  geom_line() +\n",
    "  geom_point()+\n",
    "#  geom_errorbar(aes(ymin=fitmin, ymax=fitmax), width=0.5, alpha = 0.8, position=position_dodge(0.005)) + \n",
    "  theme(legend.position=c(0.15,0.8), legend.key = element_blank(), axis.text.x = element_text(angle=0, size=13),\n",
    "        axis.text.y = element_text(angle=0, size=13), axis.title.x = element_text(size = 17), \n",
    "        axis.title.y = element_text(size = 17), legend.title = element_text(size = 14),\n",
    "        #axis.ticks = element_blank(),\n",
    "        panel.grid.major = element_blank(), legend.text=element_text(size=11),\n",
    "        panel.border = element_blank(), panel.grid.minor = element_blank(), panel.background = element_blank(), \n",
    "        axis.line = element_line(color = 'black',size=0.3), plot.title = element_text(hjust = 0.5)) + \n",
    "  labs(x = \"Total Number of Observations\", y = \"Fit time per observation (seconds)\", color = \"Obs per Individual\") +\n",
    "#scale_x_log10(breaks = 10^seq(0, 7, 1), labels=trans_format(\"log10\", math_format(10^.x)))# + #, limit=c(10^0, 10^7))\n",
    "scale_x_continuous(breaks = seq(0, 6000000, 1000000), labels= fancy_scientific) +\n",
    "scale_y_continuous(breaks = c(2 * 10^-5, 10^-4, 2 * 10^-4, 3 * 10^-4, 4 * 10^-4, 5 * 10^-4, 6 * 10^-4), labels= fancy_scientific)\n",
    "\n",
    "# glmm fit times\n",
    "timedf2$obssize <- factor(timedf2$obssize, levels = c('5', '10', '20', '50'))\n",
    "timedf2$samplesize <- factor(timedf2$samplesize, levels = c('1000', '10000', '25000', '50000'))\n",
    "\n",
    "fancy_scientific <- function(l) {\n",
    "     # turn in to character string in scientific notation\n",
    "     l <- format(l, scientific = TRUE)\n",
    "     # quote the part before the exponent to keep all the digits\n",
    "     l <- gsub(\"^(.*)e\", \"'\\\\1'e\", l)\n",
    "     # turn the 'e+' into plotmath format\n",
    "     l <- gsub(\"e\", \"%*%10^\", l)\n",
    "     # return this as an expression\n",
    "     parse(text=l)\n",
    "}\n",
    "\n",
    "fittimeperobs2 = ggplot(timedf2, aes(x=nobs, y=perobsratio)) + \n",
    "  geom_line() +\n",
    "  geom_point()+\n",
    "#  geom_errorbar(aes(ymin=fitmin, ymax=fitmax), width=0.5, alpha = 0.8, position=position_dodge(0.005)) + \n",
    "  theme(legend.position=c(0.15,0.8), legend.key = element_blank(), axis.text.x = element_text(angle=0, size=13),\n",
    "        axis.text.y = element_text(angle=0, size=13), axis.title.x = element_text(size = 17), \n",
    "        axis.title.y = element_text(size = 17), legend.title = element_text(size = 14),\n",
    "        #axis.ticks = element_blank(),\n",
    "        panel.grid.major = element_blank(), legend.text=element_text(size=11),\n",
    "        panel.border = element_blank(), panel.grid.minor = element_blank(), panel.background = element_blank(), \n",
    "        axis.line = element_line(color = 'black',size=0.3), plot.title = element_text(hjust = 0.5)) + \n",
    "  labs(x = \"Total Number of Observations\", y = \"Fit time per observation (seconds)\", color = \"Obs per Individual\") +\n",
    "#scale_x_log10(breaks = 10^seq(0, 7, 1), labels=trans_format(\"log10\", math_format(10^.x)))# + #, limit=c(10^0, 10^7))\n",
    "scale_x_continuous(breaks = seq(0, 6000000, 1000000), labels= fancy_scientific) +\n",
    "scale_y_continuous(breaks = c(2 * 10^-5, 10^-4, 2 * 10^-4, 3 * 10^-4, 4 * 10^-4, 5 * 10^-4, 6 * 10^-4), labels= fancy_scientific)\n",
    "\n",
    "fittime_perobs = plot_grid(fittimeperobs1, fittimeperobs2, labels = c(\"Quasi-Copula\", \"GLMM\"))\n",
    "\n",
    "\"\"\""
   ]
  },
  {
   "cell_type": "code",
   "execution_count": 11,
   "metadata": {},
   "outputs": [
    {
     "data": {
      "text/plain": [
       "RObject{StrSxp}\n",
       "[1] \"fittime_perobs_logistic_vs_glmm.png\"\n"
      ]
     },
     "execution_count": 11,
     "metadata": {},
     "output_type": "execute_result"
    }
   ],
   "source": [
    "R\"\"\"\n",
    "ggsave('fittime_perobs_logistic_vs_glmm.png', fittime_perobs, width = 12.5, height = 15, units = 'in', dpi = 450)\n",
    "\"\"\""
   ]
  },
  {
   "cell_type": "code",
   "execution_count": null,
   "metadata": {},
   "outputs": [],
   "source": [
    "######  supplementary table s1\n",
    "using Random, DataFrames, DelimitedFiles, Statistics\n",
    "import StatsBase: sem\n",
    "\n",
    "βΣcoverage = readdlm(\"beta_sigma_coverage_multivariate_logistic_vcm$(nsims)reps_sim.csv\", ',')\n",
    "\n",
    "m  = 1\n",
    "\n",
    "covdf = DataFrame(Matrix(transpose(βΣcoverage)), :auto)\n",
    "rename!(covdf, Symbol.([[\"β$i\" for i in 1:p]; [\"Σ$i\" for i in 1:m]]))\n",
    "covdf[!, :samplesize] = sample_sizes\n",
    "covdf[!, :obssize] = obs_sizes\n",
    "first(covdf, 10)\n",
    "\n",
    "row_stats = [[(mean(col), sem(col)) for col = eachcol(d[!, 1:end-2])] for d = groupby(covdf, [:samplesize; :obssize])]\n",
    "df = DataFrame(row_stats, :auto)\n",
    "ss_obs = unique(\"N: \" .* sample_sizes .* \"  ni: \" .* obs_sizes)\n",
    "rename!(df, Symbol.(ss_obs))\n",
    "covdfdisplay = DataFrame([[names(df)]; collect.(eachrow(df))], \n",
    "    [:people_obs; Symbol.([[\"β$i\" for i in 1:p]; [\"Σ$i\" for i in 1:m]])])\n",
    "# deletecols!(covdfdisplay, p + 2)\n",
    "covdfdisplay\n"
   ]
  },
  {
   "cell_type": "code",
   "execution_count": null,
   "metadata": {},
   "outputs": [],
   "source": [
    "#### \n",
    "#import data and reorganize to create figure\n",
    "using Random, DataFrames, DelimitedFiles, Statistics, RCall, Printf\n",
    "import StatsBase: sem\n",
    "\n",
    "βMseresultpoisson = vec(readdlm(\"mse_beta_multivariate_logistic_vcm$(nsims)reps_sim.csv\", ','))\n",
    "ΣMseresultpoisson = vec(readdlm(\"mse_Sigma_multivariate_logistic_vcm$(nsims)reps_sim.csv\", ','))\n",
    "\n",
    "βMseresultpoisson_GLMM = vec(readdlm(\"mse_beta_GLMM_multivariate_logistic_vcm$(nsims)reps_sim.csv\", ','))\n",
    "ΣMseresultpoisson_GLMM = vec(readdlm(\"mse_Sigma_GLMM_multivariate_logistic_vcm$(nsims)reps_sim.csv\", ','))\n",
    "\n",
    "\n",
    "p = 3; m = 1\n",
    "sample_sizes = repeat(string.(samplesizes), inner = nsims * length(ns))\n",
    "obs_sizes = repeat(string.(ns), inner = nsims, outer = length(samplesizes))\n",
    "msedf1 = DataFrame(βmse = βMseresultpoisson, Σmse = ΣMseresultpoisson, \n",
    "    samplesize = sample_sizes, obssize = obs_sizes)\n",
    "\n",
    "msedf2 = DataFrame(βmse = βMseresultpoisson_GLMM, Σmse = ΣMseresultpoisson_GLMM, \n",
    "    samplesize = sample_sizes, obssize = obs_sizes)\n",
    "\n",
    "#rename to make parsing easier for R.\n",
    "\n",
    "msedf1 = deepcopy(msedf1)\n",
    "rename!(msedf1, [\"betamse\"\n",
    "    \"Sigmamse\"\n",
    "    \"samplesize\"\n",
    " \"obssize\"]);\n",
    "\n",
    "msedf2 = deepcopy(msedf2)\n",
    "rename!(msedf2, [\"betamse\"\n",
    "    \"Sigmamse\"\n",
    "    \"samplesize\"\n",
    " \"obssize\"]);\n",
    "\n",
    "mses = [msedf1[!, :betamse]; msedf1[!, :Sigmamse]; msedf2[!, :betamse]; msedf2[!, :Sigmamse]]\n",
    "    # msedfnormR[!, :betamse]; msedfnormR[!, :taumse]; msedfnormR[!, :Sigmamse]]\n",
    "obssize = [collect([repeat(msedf1[!, :obssize], 2)]...) ; collect([repeat(msedf2[!, :obssize], 2)]...)]\n",
    "#40\n",
    "samplesize = [collect([repeat(msedf1[!, :samplesize], 2)]...) ; collect([repeat(msedf2[!, :samplesize], 2)]...)]\n",
    "\n",
    "parameters = [collect([repeat(string.([:beta, :Sigma]), inner = nsims * length(ns) * length(samplesizes))]...) ; collect([repeat(string.([:beta, :Sigma]), inner = nsims * length(ns) * length(samplesizes))]...)]\n",
    "robust = [collect([repeat([\"Logistic Quasi-Copula\"], 2 * nsims * length(ns) * length(samplesizes))]...); collect([repeat([\"Logistic GLMM\"],  2 * nsims * length(ns) * length(samplesizes))]...)]\n",
    "\n",
    "msedfR = DataFrame(mse = mses, obssize = obssize, samplesize = samplesize,\n",
    "    parameters = parameters, robust = robust)\n",
    "\n",
    "#5 of the 30,000 simulations did not converge, filter out\n",
    "msedfR = filter(x -> !isnan(x.mse), msedfR)\n",
    "# additionally, there are 5 where an error was not caught so it did not try a differnt solver\n",
    "msedfR = filter(x -> x.mse < 40000, msedfR)"
   ]
  },
  {
   "cell_type": "code",
   "execution_count": null,
   "metadata": {},
   "outputs": [],
   "source": [
    "### working on figure next\n",
    "@rput msedfR\n",
    "\n",
    "R\"\"\"\n",
    "library(scales)\n",
    "library(ggplot2)\n",
    "library(data.table)\n",
    "\n",
    "msedfR = data.table(msedfR)\n",
    "\n",
    "msedfR[parameters == \"beta\",y_min := 10^-8]\n",
    "msedfR[parameters == \"beta\",y_max := 10^1]\n",
    "msedfR[parameters == \"Sigma\",y_min := 10^-5]\n",
    "msedfR[parameters == \"Sigma\",y_max := 10^1]\n",
    "\n",
    "#msedfR[parameters == \"beta\",y_min := 10^-8]\n",
    "#msedfR[parameters == \"beta\",y_max := 10^-2]\n",
    "#msedfR[parameters == \"tau\",y_min := 10^-8]\n",
    "#msedfR[parameters == \"tau\",y_max := 10^-2]\n",
    "#msedfR[parameters == \"Sigma\",y_min := 10^-5]\n",
    "#msedfR[parameters == \"Sigma\",y_max := 10^-2]\n",
    "\n",
    "\n",
    "msedfR$obssize = factor(msedfR$obssize, levels = c('5', '10', '20', '50'))\n",
    "msedfR$samplesize = factor(msedfR$samplesize, levels = c('1000', '10000', '25000', '50000'))\n",
    "msedfR$parameters = factor(msedfR$parameters, levels = c('beta', 'Sigma'), labels = c(beta = expression(hat(bold(beta))), Sigma = expression(hat(bold(Sigma))[])))\n",
    "msedfR$robust <- factor(msedfR$robust, levels = c('Logistic Quasi-Copula', 'Logistic GLMM'),\n",
    "    labels = c(expression(paste(\"Logistic Quasi-Copula\")), expression(paste(\"Logistic GLMM\"))))\n",
    "\n",
    "\n",
    "#mseplot <- ggplot(msedfR[msedfR$mse < 10^0, ], aes(x=samplesize, y=mse, fill=obssize)) + \n",
    "mseplot = ggplot(msedfR[msedfR$mse < 10^3, ], aes(x=samplesize, y=mse, fill=obssize)) + \n",
    "  #geom_boxplot(outlier.size = 0.0, outlier.alpha = 0) +\n",
    "  geom_boxplot(outlier.size = 0.25) +\n",
    "#    geom_violin() +\n",
    "    facet_grid(parameters ~ robust, labeller = label_parsed, scales = \"free_y\") +\n",
    "  theme(legend.position=\"right\", legend.key = element_blank(), axis.text.x = element_text(angle=0, size=11),\n",
    "        axis.text.y = element_text(angle=0, size=12), axis.title.x = element_text(size = 15), \n",
    "        axis.title.y = element_text(size = 15), legend.title = element_text(size = 12),\n",
    "        panel.grid.major = element_blank(), panel.grid.minor = element_blank(),\n",
    "        legend.text=element_text(size=10), panel.background = element_rect(fill = NA, color = \"black\"),\n",
    "        #panel.background = element_blank(), #panel.border = element_blank(),\n",
    "        axis.line = element_line(color = 'black',size=0.3), plot.title = element_text(hjust = 0.5),\n",
    "        strip.background = element_rect(colour=\"black\", fill=\"white\"), strip.text.y = element_text(size=15, face=\"bold\"),\n",
    "        strip.text.x = element_text(size=15)) + \n",
    "  scale_fill_manual(values = c(\"#c85f55\",\n",
    "\"#a964bf\",\n",
    "\"#8db352\",\n",
    "\"#fa7300\",\n",
    "\"#05aec0\")) +\n",
    "#scale_y_log10(breaks = scales::trans_breaks(\"log10\", function(x) 10^x)) +\n",
    "#scale_y_log10(breaks = 10^(-8:8), limit=c(10^-8, 10^2)) + \n",
    "scale_y_log10(breaks = 10^seq(-10, 10, 2), labels=trans_format(\"log10\", math_format(10^.x))) + #, limit=c(10^-8, 10^2)) +\n",
    "  labs(x = \"Number of Individuals\", y = \"MSE of Parameter Estimates\", fill = \"Obs per Individual\") +\n",
    "geom_blank(aes(y = y_max)) + \n",
    "geom_blank(aes(y = y_min)) \n",
    "\n",
    "\"\"\""
   ]
  },
  {
   "cell_type": "code",
   "execution_count": null,
   "metadata": {},
   "outputs": [],
   "source": [
    "R\"\"\"\n",
    "ggsave('updated_msefacetplot_logistic.png', mseplot, width = 12.5, height = 15, units = 'in', dpi = 450)\n",
    "\"\"\""
   ]
  },
  {
   "cell_type": "code",
   "execution_count": null,
   "metadata": {},
   "outputs": [],
   "source": []
  }
 ],
 "metadata": {
  "@webio": {
   "lastCommId": null,
   "lastKernelId": null
  },
  "kernelspec": {
   "display_name": "Julia 1.6.2",
   "language": "julia",
   "name": "julia-1.6"
  },
  "language_info": {
   "file_extension": ".jl",
   "mimetype": "application/julia",
   "name": "julia",
   "version": "1.6.2"
  }
 },
 "nbformat": 4,
 "nbformat_minor": 2
}
