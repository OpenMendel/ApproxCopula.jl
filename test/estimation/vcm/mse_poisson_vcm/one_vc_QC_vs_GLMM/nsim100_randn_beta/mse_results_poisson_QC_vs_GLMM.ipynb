{
 "cells": [
  {
   "cell_type": "markdown",
   "metadata": {},
   "source": [
    "## Poisson VCM Results \n",
    "\n",
    "This notebook goes over the code needed to reproduce the results from the MSE and time figures for the Poisson base distribution with Log Link and covariance matrix $\\Gamma$ structured under variance component model framework as follows:\n",
    "\n",
    "$$\n",
    "\\Gamma = \\sigma_1 * \\mathbf{1_{n} 1_{n}^\\top}\n",
    "$$\n",
    "\n",
    "In this example simulate three fixed effects $\\beta \\sim$ randn(p) where p = 3 fixed effects.\n",
    "\n",
    "We run each scenario 100 times and compare the fit with that of GLMM's random intercept model from MixedModels.jl. "
   ]
  },
  {
   "cell_type": "code",
   "execution_count": 1,
   "metadata": {},
   "outputs": [
    {
     "name": "stdout",
     "output_type": "stream",
     "text": [
      "Julia Version 1.6.2\n",
      "Commit 1b93d53fc4 (2021-07-14 15:36 UTC)\n",
      "Platform Info:\n",
      "  OS: macOS (x86_64-apple-darwin18.7.0)\n",
      "  CPU: Intel(R) Core(TM) i9-9880H CPU @ 2.30GHz\n",
      "  WORD_SIZE: 64\n",
      "  LIBM: libopenlibm\n",
      "  LLVM: libLLVM-11.0.1 (ORCJIT, skylake)\n"
     ]
    }
   ],
   "source": [
    "versioninfo()"
   ]
  },
  {
   "cell_type": "code",
   "execution_count": 2,
   "metadata": {},
   "outputs": [],
   "source": [
    "using GLMCopula, DelimitedFiles, LinearAlgebra, Random, GLM\n",
    "using Random, Roots, SpecialFunctions, DataFrames"
   ]
  },
  {
   "cell_type": "code",
   "execution_count": 3,
   "metadata": {},
   "outputs": [
    {
     "data": {
      "text/plain": [
       "100"
      ]
     },
     "execution_count": 3,
     "metadata": {},
     "output_type": "execute_result"
    }
   ],
   "source": [
    "p = 3    # number of fixed effects, including intercept\n",
    "m = 1    # number of variance components\n",
    "# true parameter values\n",
    "Random.seed!(1234)\n",
    "βtrue = randn(p)\n",
    "Σtrue = [0.1]\n",
    "\n",
    "# generate data\n",
    "intervals = zeros(p + m, 2) #hold intervals\n",
    "curcoverage = zeros(p + m) #hold current coverage resutls\n",
    "trueparams = [βtrue; Σtrue] #hold true parameters\n",
    "\n",
    "#simulation parameters\n",
    "samplesizes = [100; 1000; 10000]\n",
    "ns = [2; 5; 10; 15; 20; 25]\n",
    "nsims = 100"
   ]
  },
  {
   "cell_type": "code",
   "execution_count": 4,
   "metadata": {},
   "outputs": [
    {
     "name": "stderr",
     "output_type": "stream",
     "text": [
      "┌ Info: reading in the files with results\n",
      "└ @ Main In[4]:1\n"
     ]
    },
    {
     "data": {
      "text/plain": [
       "1800-element Vector{Float64}:\n",
       " 0.014560935\n",
       " 0.022109217\n",
       " 0.01667073\n",
       " 0.021948523\n",
       " 0.025577577\n",
       " 0.020822813\n",
       " 0.022478659\n",
       " 0.032381074\n",
       " 0.034054411\n",
       " 0.018544164\n",
       " 0.022862966\n",
       " 0.01712952\n",
       " 0.022303174\n",
       " ⋮\n",
       " 3.445616118\n",
       " 4.16990342\n",
       " 3.991839431\n",
       " 4.222152657\n",
       " 3.446012815\n",
       " 3.797938387\n",
       " 3.60954301\n",
       " 2.02111773\n",
       " 3.367799332\n",
       " 3.637765994\n",
       " 3.443866128\n",
       " 4.123785596"
      ]
     },
     "execution_count": 4,
     "metadata": {},
     "output_type": "execute_result"
    }
   ],
   "source": [
    "@info \"reading in the files with results\"\n",
    "βMseresult = vec(readdlm(\"mse_beta_multivariate_poisson_vcm$(nsims)reps_sim.csv\", ','))\n",
    "ΣMseresult = vec(readdlm(\"mse_Sigma_multivariate_poisson_vcm$(nsims)reps_sim.csv\", ','))\n",
    "fittimes_QC = vec(readdlm(\"fittimes_multivariate_poisson_vcm$(nsims)reps_sim.csv\", ','))"
   ]
  },
  {
   "cell_type": "code",
   "execution_count": 5,
   "metadata": {},
   "outputs": [
    {
     "data": {
      "text/plain": [
       "1800-element Vector{Float64}:\n",
       "  0.257747302\n",
       "  0.015060982\n",
       "  0.01381015\n",
       "  0.01746105\n",
       "  0.018122775\n",
       "  0.01480552\n",
       "  0.015943139\n",
       "  0.018724522\n",
       "  0.013261389\n",
       "  0.01572964\n",
       "  0.012295197\n",
       "  0.018195076\n",
       "  0.017589512\n",
       "  ⋮\n",
       " 13.557996897\n",
       " 14.164523669\n",
       " 14.74309533\n",
       " 16.307097412\n",
       " 11.099697629\n",
       " 15.847950794\n",
       " 15.093929919\n",
       " 16.075759775\n",
       " 13.42095407\n",
       " 14.710454063\n",
       " 14.734119285\n",
       " 14.509674549"
      ]
     },
     "execution_count": 5,
     "metadata": {},
     "output_type": "execute_result"
    }
   ],
   "source": [
    "fittimes_GLMM = vec(readdlm(\"fittimes_GLMM_multivariate_poisson_vcm$(nsims)reps_sim.csv\", ','))"
   ]
  },
  {
   "cell_type": "code",
   "execution_count": 6,
   "metadata": {},
   "outputs": [
    {
     "name": "stderr",
     "output_type": "stream",
     "text": [
      "┌ Info: making results table Quasi-Copula\n",
      "└ @ Main In[6]:2\n"
     ]
    },
    {
     "data": {
      "text/html": [
       "<div class=\"data-frame\"><p>18 rows × 8 columns</p><table class=\"data-frame\"><thead><tr><th></th><th>samplesize</th><th>obssize</th><th>fittime</th><th>se</th><th>nobs</th><th>fitmin</th><th>fitmax</th><th>perobsratio</th></tr><tr><th></th><th title=\"String\">String</th><th title=\"String\">String</th><th title=\"Float64\">Float64</th><th title=\"Float64\">Float64</th><th title=\"Int64\">Int64</th><th title=\"Float64\">Float64</th><th title=\"Float64\">Float64</th><th title=\"Float64\">Float64</th></tr></thead><tbody><tr><th>1</th><td>100</td><td>2</td><td>0.0236765</td><td>0.000501995</td><td>200</td><td>0.0231745</td><td>0.0246805</td><td>0.000118382</td></tr><tr><th>2</th><td>100</td><td>5</td><td>0.0266963</td><td>0.00082159</td><td>500</td><td>0.0258747</td><td>0.0283395</td><td>5.33927e-5</td></tr><tr><th>3</th><td>100</td><td>10</td><td>0.0300364</td><td>0.000352363</td><td>1000</td><td>0.029684</td><td>0.0307411</td><td>3.00364e-5</td></tr><tr><th>4</th><td>100</td><td>15</td><td>0.0375401</td><td>0.00120439</td><td>1500</td><td>0.0363357</td><td>0.0399489</td><td>2.50268e-5</td></tr><tr><th>5</th><td>100</td><td>20</td><td>0.0446974</td><td>0.00149933</td><td>2000</td><td>0.0431981</td><td>0.0476961</td><td>2.23487e-5</td></tr><tr><th>6</th><td>100</td><td>25</td><td>0.0516144</td><td>0.0011167</td><td>2500</td><td>0.0504977</td><td>0.0538478</td><td>2.06457e-5</td></tr><tr><th>7</th><td>1000</td><td>2</td><td>0.0580086</td><td>0.000935696</td><td>2000</td><td>0.0570729</td><td>0.05988</td><td>2.90043e-5</td></tr><tr><th>8</th><td>1000</td><td>5</td><td>0.0800273</td><td>0.00112964</td><td>5000</td><td>0.0788976</td><td>0.0822865</td><td>1.60055e-5</td></tr><tr><th>9</th><td>1000</td><td>10</td><td>0.124036</td><td>0.00201184</td><td>10000</td><td>0.122024</td><td>0.12806</td><td>1.24036e-5</td></tr><tr><th>10</th><td>1000</td><td>15</td><td>0.169143</td><td>0.00259359</td><td>15000</td><td>0.16655</td><td>0.174331</td><td>1.12762e-5</td></tr><tr><th>11</th><td>1000</td><td>20</td><td>0.221856</td><td>0.00263377</td><td>20000</td><td>0.219222</td><td>0.227124</td><td>1.10928e-5</td></tr><tr><th>12</th><td>1000</td><td>25</td><td>0.280582</td><td>0.00293738</td><td>25000</td><td>0.277645</td><td>0.286457</td><td>1.12233e-5</td></tr><tr><th>13</th><td>10000</td><td>2</td><td>0.730748</td><td>0.0158045</td><td>20000</td><td>0.714944</td><td>0.762357</td><td>3.65374e-5</td></tr><tr><th>14</th><td>10000</td><td>5</td><td>1.09882</td><td>0.0176707</td><td>50000</td><td>1.08115</td><td>1.13416</td><td>2.19764e-5</td></tr><tr><th>15</th><td>10000</td><td>10</td><td>1.62877</td><td>0.0275302</td><td>100000</td><td>1.60124</td><td>1.68383</td><td>1.62877e-5</td></tr><tr><th>16</th><td>10000</td><td>15</td><td>2.32711</td><td>0.0395992</td><td>150000</td><td>2.28751</td><td>2.40631</td><td>1.55141e-5</td></tr><tr><th>17</th><td>10000</td><td>20</td><td>2.96947</td><td>0.0402332</td><td>200000</td><td>2.92924</td><td>3.04994</td><td>1.48473e-5</td></tr><tr><th>18</th><td>10000</td><td>25</td><td>3.69792</td><td>0.0775519</td><td>250000</td><td>3.62037</td><td>3.85303</td><td>1.47917e-5</td></tr></tbody></table></div>"
      ],
      "text/latex": [
       "\\begin{tabular}{r|cccccccc}\n",
       "\t& samplesize & obssize & fittime & se & nobs & fitmin & fitmax & perobsratio\\\\\n",
       "\t\\hline\n",
       "\t& String & String & Float64 & Float64 & Int64 & Float64 & Float64 & Float64\\\\\n",
       "\t\\hline\n",
       "\t1 & 100 & 2 & 0.0236765 & 0.000501995 & 200 & 0.0231745 & 0.0246805 & 0.000118382 \\\\\n",
       "\t2 & 100 & 5 & 0.0266963 & 0.00082159 & 500 & 0.0258747 & 0.0283395 & 5.33927e-5 \\\\\n",
       "\t3 & 100 & 10 & 0.0300364 & 0.000352363 & 1000 & 0.029684 & 0.0307411 & 3.00364e-5 \\\\\n",
       "\t4 & 100 & 15 & 0.0375401 & 0.00120439 & 1500 & 0.0363357 & 0.0399489 & 2.50268e-5 \\\\\n",
       "\t5 & 100 & 20 & 0.0446974 & 0.00149933 & 2000 & 0.0431981 & 0.0476961 & 2.23487e-5 \\\\\n",
       "\t6 & 100 & 25 & 0.0516144 & 0.0011167 & 2500 & 0.0504977 & 0.0538478 & 2.06457e-5 \\\\\n",
       "\t7 & 1000 & 2 & 0.0580086 & 0.000935696 & 2000 & 0.0570729 & 0.05988 & 2.90043e-5 \\\\\n",
       "\t8 & 1000 & 5 & 0.0800273 & 0.00112964 & 5000 & 0.0788976 & 0.0822865 & 1.60055e-5 \\\\\n",
       "\t9 & 1000 & 10 & 0.124036 & 0.00201184 & 10000 & 0.122024 & 0.12806 & 1.24036e-5 \\\\\n",
       "\t10 & 1000 & 15 & 0.169143 & 0.00259359 & 15000 & 0.16655 & 0.174331 & 1.12762e-5 \\\\\n",
       "\t11 & 1000 & 20 & 0.221856 & 0.00263377 & 20000 & 0.219222 & 0.227124 & 1.10928e-5 \\\\\n",
       "\t12 & 1000 & 25 & 0.280582 & 0.00293738 & 25000 & 0.277645 & 0.286457 & 1.12233e-5 \\\\\n",
       "\t13 & 10000 & 2 & 0.730748 & 0.0158045 & 20000 & 0.714944 & 0.762357 & 3.65374e-5 \\\\\n",
       "\t14 & 10000 & 5 & 1.09882 & 0.0176707 & 50000 & 1.08115 & 1.13416 & 2.19764e-5 \\\\\n",
       "\t15 & 10000 & 10 & 1.62877 & 0.0275302 & 100000 & 1.60124 & 1.68383 & 1.62877e-5 \\\\\n",
       "\t16 & 10000 & 15 & 2.32711 & 0.0395992 & 150000 & 2.28751 & 2.40631 & 1.55141e-5 \\\\\n",
       "\t17 & 10000 & 20 & 2.96947 & 0.0402332 & 200000 & 2.92924 & 3.04994 & 1.48473e-5 \\\\\n",
       "\t18 & 10000 & 25 & 3.69792 & 0.0775519 & 250000 & 3.62037 & 3.85303 & 1.47917e-5 \\\\\n",
       "\\end{tabular}\n"
      ],
      "text/plain": [
       "\u001b[1m18×8 DataFrame\u001b[0m\n",
       "\u001b[1m Row \u001b[0m│\u001b[1m samplesize \u001b[0m\u001b[1m obssize \u001b[0m\u001b[1m fittime   \u001b[0m\u001b[1m se          \u001b[0m\u001b[1m nobs   \u001b[0m\u001b[1m fitmin    \u001b[0m\u001b[1m fitmax \u001b[0m ⋯\n",
       "\u001b[1m     \u001b[0m│\u001b[90m String     \u001b[0m\u001b[90m String  \u001b[0m\u001b[90m Float64   \u001b[0m\u001b[90m Float64     \u001b[0m\u001b[90m Int64  \u001b[0m\u001b[90m Float64   \u001b[0m\u001b[90m Float64\u001b[0m ⋯\n",
       "─────┼──────────────────────────────────────────────────────────────────────────\n",
       "   1 │ 100         2        0.0236765  0.000501995     200  0.0231745  0.02468 ⋯\n",
       "   2 │ 100         5        0.0266963  0.00082159      500  0.0258747  0.02833\n",
       "   3 │ 100         10       0.0300364  0.000352363    1000  0.029684   0.03074\n",
       "   4 │ 100         15       0.0375401  0.00120439     1500  0.0363357  0.03994\n",
       "   5 │ 100         20       0.0446974  0.00149933     2000  0.0431981  0.04769 ⋯\n",
       "   6 │ 100         25       0.0516144  0.0011167      2500  0.0504977  0.05384\n",
       "   7 │ 1000        2        0.0580086  0.000935696    2000  0.0570729  0.05988\n",
       "   8 │ 1000        5        0.0800273  0.00112964     5000  0.0788976  0.08228\n",
       "   9 │ 1000        10       0.124036   0.00201184    10000  0.122024   0.12806 ⋯\n",
       "  10 │ 1000        15       0.169143   0.00259359    15000  0.16655    0.17433\n",
       "  11 │ 1000        20       0.221856   0.00263377    20000  0.219222   0.22712\n",
       "  12 │ 1000        25       0.280582   0.00293738    25000  0.277645   0.28645\n",
       "  13 │ 10000       2        0.730748   0.0158045     20000  0.714944   0.76235 ⋯\n",
       "  14 │ 10000       5        1.09882    0.0176707     50000  1.08115    1.13416\n",
       "  15 │ 10000       10       1.62877    0.0275302    100000  1.60124    1.68383\n",
       "  16 │ 10000       15       2.32711    0.0395992    150000  2.28751    2.40631\n",
       "  17 │ 10000       20       2.96947    0.0402332    200000  2.92924    3.04994 ⋯\n",
       "  18 │ 10000       25       3.69792    0.0775519    250000  3.62037    3.85303\n",
       "\u001b[36m                                                               2 columns omitted\u001b[0m"
      ]
     },
     "execution_count": 6,
     "metadata": {},
     "output_type": "execute_result"
    }
   ],
   "source": [
    "#simulation parameters\n",
    "@info \"making results table Quasi-Copula\"\n",
    "sample_sizes = repeat(string.(samplesizes), inner = nsims * length(ns))\n",
    "obs_sizes = repeat(string.(ns), inner = nsims, outer = length(samplesizes))\n",
    "\n",
    "msedf = DataFrame(βmse = βMseresult, Σmse = ΣMseresult, \n",
    "    samplesize = sample_sizes, obssize = obs_sizes, fittimes = fittimes_QC)\n",
    "timedf1 = combine(groupby(msedf, [:samplesize, :obssize]), :fittimes => mean => :fittime,\n",
    "    :fittimes => x -> (std(x)/sqrt(length(x))))\n",
    "rename!(timedf1, Dict(:fittimes_function => \"se\"))\n",
    "timedf1[!, :nobs] = Meta.parse.(timedf1[!, :samplesize]) .* Meta.parse.(timedf1[!, :obssize])\n",
    "timedf1[!, :fitmin] = timedf1[!, :fittime] - timedf1[!, :se]\n",
    "timedf1[!, :fitmax] = timedf1[!, :fittime] + 2 * timedf1[!, :se]\n",
    "timedf1[!, :perobsratio] = timedf1[!, :fittime] ./ timedf1[!, :nobs]\n",
    "timedf1"
   ]
  },
  {
   "cell_type": "code",
   "execution_count": 7,
   "metadata": {},
   "outputs": [
    {
     "name": "stderr",
     "output_type": "stream",
     "text": [
      "┌ Info: making results table GLMM\n",
      "└ @ Main In[7]:2\n"
     ]
    },
    {
     "data": {
      "text/html": [
       "<div class=\"data-frame\"><p>18 rows × 8 columns</p><table class=\"data-frame\"><thead><tr><th></th><th>samplesize</th><th>obssize</th><th>fittime</th><th>se</th><th>nobs</th><th>fitmin</th><th>fitmax</th><th>perobsratio</th></tr><tr><th></th><th title=\"String\">String</th><th title=\"String\">String</th><th title=\"Float64\">Float64</th><th title=\"Float64\">Float64</th><th title=\"Int64\">Int64</th><th title=\"Float64\">Float64</th><th title=\"Float64\">Float64</th><th title=\"Float64\">Float64</th></tr></thead><tbody><tr><th>1</th><td>100</td><td>2</td><td>0.0198774</td><td>0.00264927</td><td>200</td><td>0.0172281</td><td>0.0225266</td><td>9.93869e-5</td></tr><tr><th>2</th><td>100</td><td>5</td><td>0.0341882</td><td>0.000885638</td><td>500</td><td>0.0333026</td><td>0.0350738</td><td>6.83764e-5</td></tr><tr><th>3</th><td>100</td><td>10</td><td>0.0618408</td><td>0.000927097</td><td>1000</td><td>0.0609137</td><td>0.0627679</td><td>6.18408e-5</td></tr><tr><th>4</th><td>100</td><td>15</td><td>0.0914432</td><td>0.00127199</td><td>1500</td><td>0.0901712</td><td>0.0927152</td><td>6.09621e-5</td></tr><tr><th>5</th><td>100</td><td>20</td><td>0.119106</td><td>0.0012683</td><td>2000</td><td>0.117837</td><td>0.120374</td><td>5.95529e-5</td></tr><tr><th>6</th><td>100</td><td>25</td><td>0.149564</td><td>0.00187957</td><td>2500</td><td>0.147684</td><td>0.151443</td><td>5.98254e-5</td></tr><tr><th>7</th><td>1000</td><td>2</td><td>0.139165</td><td>0.00174924</td><td>2000</td><td>0.137416</td><td>0.140914</td><td>6.95825e-5</td></tr><tr><th>8</th><td>1000</td><td>5</td><td>0.359999</td><td>0.00329564</td><td>5000</td><td>0.356703</td><td>0.363295</td><td>7.19998e-5</td></tr><tr><th>9</th><td>1000</td><td>10</td><td>0.719839</td><td>0.00689196</td><td>10000</td><td>0.712947</td><td>0.726731</td><td>7.19839e-5</td></tr><tr><th>10</th><td>1000</td><td>15</td><td>0.982457</td><td>0.011243</td><td>15000</td><td>0.971214</td><td>0.9937</td><td>6.54971e-5</td></tr><tr><th>11</th><td>1000</td><td>20</td><td>1.24967</td><td>0.011817</td><td>20000</td><td>1.23786</td><td>1.26149</td><td>6.24836e-5</td></tr><tr><th>12</th><td>1000</td><td>25</td><td>1.61366</td><td>0.0204491</td><td>25000</td><td>1.59321</td><td>1.63411</td><td>6.45465e-5</td></tr><tr><th>13</th><td>10000</td><td>2</td><td>1.51692</td><td>0.0124777</td><td>20000</td><td>1.50444</td><td>1.52939</td><td>7.58458e-5</td></tr><tr><th>14</th><td>10000</td><td>5</td><td>3.49077</td><td>0.0277069</td><td>50000</td><td>3.46306</td><td>3.51847</td><td>6.98154e-5</td></tr><tr><th>15</th><td>10000</td><td>10</td><td>6.32205</td><td>0.0527398</td><td>100000</td><td>6.26931</td><td>6.37479</td><td>6.32205e-5</td></tr><tr><th>16</th><td>10000</td><td>15</td><td>8.7942</td><td>0.0820851</td><td>150000</td><td>8.71211</td><td>8.87628</td><td>5.8628e-5</td></tr><tr><th>17</th><td>10000</td><td>20</td><td>11.3125</td><td>0.106387</td><td>200000</td><td>11.2061</td><td>11.4189</td><td>5.65626e-5</td></tr><tr><th>18</th><td>10000</td><td>25</td><td>14.8949</td><td>0.195067</td><td>250000</td><td>14.6998</td><td>15.0899</td><td>5.95795e-5</td></tr></tbody></table></div>"
      ],
      "text/latex": [
       "\\begin{tabular}{r|cccccccc}\n",
       "\t& samplesize & obssize & fittime & se & nobs & fitmin & fitmax & perobsratio\\\\\n",
       "\t\\hline\n",
       "\t& String & String & Float64 & Float64 & Int64 & Float64 & Float64 & Float64\\\\\n",
       "\t\\hline\n",
       "\t1 & 100 & 2 & 0.0198774 & 0.00264927 & 200 & 0.0172281 & 0.0225266 & 9.93869e-5 \\\\\n",
       "\t2 & 100 & 5 & 0.0341882 & 0.000885638 & 500 & 0.0333026 & 0.0350738 & 6.83764e-5 \\\\\n",
       "\t3 & 100 & 10 & 0.0618408 & 0.000927097 & 1000 & 0.0609137 & 0.0627679 & 6.18408e-5 \\\\\n",
       "\t4 & 100 & 15 & 0.0914432 & 0.00127199 & 1500 & 0.0901712 & 0.0927152 & 6.09621e-5 \\\\\n",
       "\t5 & 100 & 20 & 0.119106 & 0.0012683 & 2000 & 0.117837 & 0.120374 & 5.95529e-5 \\\\\n",
       "\t6 & 100 & 25 & 0.149564 & 0.00187957 & 2500 & 0.147684 & 0.151443 & 5.98254e-5 \\\\\n",
       "\t7 & 1000 & 2 & 0.139165 & 0.00174924 & 2000 & 0.137416 & 0.140914 & 6.95825e-5 \\\\\n",
       "\t8 & 1000 & 5 & 0.359999 & 0.00329564 & 5000 & 0.356703 & 0.363295 & 7.19998e-5 \\\\\n",
       "\t9 & 1000 & 10 & 0.719839 & 0.00689196 & 10000 & 0.712947 & 0.726731 & 7.19839e-5 \\\\\n",
       "\t10 & 1000 & 15 & 0.982457 & 0.011243 & 15000 & 0.971214 & 0.9937 & 6.54971e-5 \\\\\n",
       "\t11 & 1000 & 20 & 1.24967 & 0.011817 & 20000 & 1.23786 & 1.26149 & 6.24836e-5 \\\\\n",
       "\t12 & 1000 & 25 & 1.61366 & 0.0204491 & 25000 & 1.59321 & 1.63411 & 6.45465e-5 \\\\\n",
       "\t13 & 10000 & 2 & 1.51692 & 0.0124777 & 20000 & 1.50444 & 1.52939 & 7.58458e-5 \\\\\n",
       "\t14 & 10000 & 5 & 3.49077 & 0.0277069 & 50000 & 3.46306 & 3.51847 & 6.98154e-5 \\\\\n",
       "\t15 & 10000 & 10 & 6.32205 & 0.0527398 & 100000 & 6.26931 & 6.37479 & 6.32205e-5 \\\\\n",
       "\t16 & 10000 & 15 & 8.7942 & 0.0820851 & 150000 & 8.71211 & 8.87628 & 5.8628e-5 \\\\\n",
       "\t17 & 10000 & 20 & 11.3125 & 0.106387 & 200000 & 11.2061 & 11.4189 & 5.65626e-5 \\\\\n",
       "\t18 & 10000 & 25 & 14.8949 & 0.195067 & 250000 & 14.6998 & 15.0899 & 5.95795e-5 \\\\\n",
       "\\end{tabular}\n"
      ],
      "text/plain": [
       "\u001b[1m18×8 DataFrame\u001b[0m\n",
       "\u001b[1m Row \u001b[0m│\u001b[1m samplesize \u001b[0m\u001b[1m obssize \u001b[0m\u001b[1m fittime    \u001b[0m\u001b[1m se          \u001b[0m\u001b[1m nobs   \u001b[0m\u001b[1m fitmin     \u001b[0m\u001b[1m fitma\u001b[0m ⋯\n",
       "\u001b[1m     \u001b[0m│\u001b[90m String     \u001b[0m\u001b[90m String  \u001b[0m\u001b[90m Float64    \u001b[0m\u001b[90m Float64     \u001b[0m\u001b[90m Int64  \u001b[0m\u001b[90m Float64    \u001b[0m\u001b[90m Float\u001b[0m ⋯\n",
       "─────┼──────────────────────────────────────────────────────────────────────────\n",
       "   1 │ 100         2         0.0198774  0.00264927      200   0.0172281   0.02 ⋯\n",
       "   2 │ 100         5         0.0341882  0.000885638     500   0.0333026   0.03\n",
       "   3 │ 100         10        0.0618408  0.000927097    1000   0.0609137   0.06\n",
       "   4 │ 100         15        0.0914432  0.00127199     1500   0.0901712   0.09\n",
       "   5 │ 100         20        0.119106   0.0012683      2000   0.117837    0.12 ⋯\n",
       "   6 │ 100         25        0.149564   0.00187957     2500   0.147684    0.15\n",
       "   7 │ 1000        2         0.139165   0.00174924     2000   0.137416    0.14\n",
       "   8 │ 1000        5         0.359999   0.00329564     5000   0.356703    0.36\n",
       "   9 │ 1000        10        0.719839   0.00689196    10000   0.712947    0.72 ⋯\n",
       "  10 │ 1000        15        0.982457   0.011243      15000   0.971214    0.99\n",
       "  11 │ 1000        20        1.24967    0.011817      20000   1.23786     1.26\n",
       "  12 │ 1000        25        1.61366    0.0204491     25000   1.59321     1.63\n",
       "  13 │ 10000       2         1.51692    0.0124777     20000   1.50444     1.52 ⋯\n",
       "  14 │ 10000       5         3.49077    0.0277069     50000   3.46306     3.51\n",
       "  15 │ 10000       10        6.32205    0.0527398    100000   6.26931     6.37\n",
       "  16 │ 10000       15        8.7942     0.0820851    150000   8.71211     8.87\n",
       "  17 │ 10000       20       11.3125     0.106387     200000  11.2061     11.41 ⋯\n",
       "  18 │ 10000       25       14.8949     0.195067     250000  14.6998     15.08\n",
       "\u001b[36m                                                               2 columns omitted\u001b[0m"
      ]
     },
     "execution_count": 7,
     "metadata": {},
     "output_type": "execute_result"
    }
   ],
   "source": [
    "#simulation parameters\n",
    "@info \"making results table GLMM\"\n",
    "sample_sizes = repeat(string.(samplesizes), inner = nsims * length(ns))\n",
    "obs_sizes = repeat(string.(ns), inner = nsims, outer = length(samplesizes))\n",
    "\n",
    "msedf = DataFrame(βmse = βMseresult, Σmse = ΣMseresult, \n",
    "    samplesize = sample_sizes, obssize = obs_sizes, fittimes = fittimes_GLMM)\n",
    "timedf2 = combine(groupby(msedf, [:samplesize, :obssize]), :fittimes => mean => :fittime,\n",
    "    :fittimes => x -> (std(x)/sqrt(length(x))))\n",
    "rename!(timedf2, Dict(:fittimes_function => \"se\"))\n",
    "timedf2[!, :nobs] = Meta.parse.(timedf2[!, :samplesize]) .* Meta.parse.(timedf2[!, :obssize])\n",
    "timedf2[!, :fitmin] = timedf2[!, :fittime] - timedf2[!, :se]\n",
    "timedf2[!, :fitmax] = timedf2[!, :fittime] + timedf2[!, :se]\n",
    "timedf2[!, :perobsratio] = timedf2[!, :fittime] ./ timedf2[!, :nobs]\n",
    "timedf2"
   ]
  },
  {
   "cell_type": "code",
   "execution_count": 8,
   "metadata": {},
   "outputs": [
    {
     "name": "stderr",
     "output_type": "stream",
     "text": [
      "┌ Warning: RCall.jl: Warning: package ‘ggplot2’ was built under R version 4.0.2\n",
      "└ @ RCall /Users/sarahji/.julia/packages/RCall/iMDW2/src/io.jl:160\n",
      "┌ Warning: RCall.jl: Warning: package ‘cowplot’ was built under R version 4.0.2\n",
      "└ @ RCall /Users/sarahji/.julia/packages/RCall/iMDW2/src/io.jl:160\n"
     ]
    },
    {
     "data": {
      "image/png": "[encoded data removed]"
     },
     "metadata": {},
     "output_type": "display_data"
    },
    {
     "data": {
      "text/plain": [
       "RObject{VecSxp}\n"
      ]
     },
     "execution_count": 8,
     "metadata": {},
     "output_type": "execute_result"
    }
   ],
   "source": [
    "########### plot the runtimes\n",
    "using RCall\n",
    "@rput timedf1\n",
    "@rput timedf2\n",
    "R\"\"\"\n",
    "library(ggplot2)\n",
    "library(cowplot)\n",
    "timedf1$obssize = factor(timedf1$obssize, levels = c('2', '5', '10', '15', '20', '25'))\n",
    "timedf1$samplesize = factor(timedf1$samplesize, levels = c('100', '1000', '10000'))\n",
    "\n",
    "fittime_1 = ggplot(timedf1, aes(x = samplesize, y = fittime, group = obssize, color = obssize)) + \n",
    "  geom_line() +\n",
    "  geom_point()+\n",
    "  geom_errorbar(aes(ymin=fitmin, ymax=fitmax), width=0.5, alpha = 0.8, position=position_dodge(0.005)) + \n",
    "  theme(legend.position=c(0.3,0.85), legend.key = element_blank(), axis.text.x = element_text(angle=0, size=13),\n",
    "        axis.text.y = element_text(angle=0, size=13), axis.title.x = element_text(size = 17), \n",
    "        axis.title.y = element_text(size = 17), legend.title = element_text(size = 14),\n",
    "        #axis.ticks = element_blank(),\n",
    "        panel.grid.major = element_blank(), legend.text=element_text(size=13),\n",
    "        panel.border = element_blank(), panel.grid.minor = element_blank(), panel.background = element_blank(), \n",
    "        axis.line = element_line(color = 'black',size=0.3), plot.title = element_text(hjust = 0.5)) + \n",
    "   scale_color_manual(values = c(\"#c85f55\",\n",
    "\"#a964bf\",\n",
    "\"#8db352\",\n",
    "\"#fa7300\",\n",
    "\"#05aec0\",\n",
    "\"#ff1493\")) +\n",
    "  labs(x = \"Number of Individuals\", y = \"Fit time (seconds)\", color = \"Obs per Individual\")\n",
    "\n",
    "timedf2$obssize = factor(timedf2$obssize, levels = c('2', '5', '10', '15', '20', '25'))\n",
    "timedf2$samplesize = factor(timedf2$samplesize, levels = c('100', '1000', '10000'))\n",
    "\n",
    "fittime_2 = ggplot(timedf2, aes(x = samplesize, y = fittime, group = obssize, color = obssize)) + \n",
    "  geom_line() +\n",
    "  geom_point()+\n",
    "  geom_errorbar(aes(ymin=fitmin, ymax=fitmax), width=0.5, alpha = 0.8, position=position_dodge(0.005)) + \n",
    "  theme(legend.position=c(0.3,0.85), legend.key = element_blank(), axis.text.x = element_text(angle=0, size=13),\n",
    "        axis.text.y = element_text(angle=0, size=13), axis.title.x = element_text(size = 17), \n",
    "        axis.title.y = element_text(size = 17), legend.title = element_text(size = 14),\n",
    "        #axis.ticks = element_blank(),\n",
    "        panel.grid.major = element_blank(), legend.text=element_text(size=13),\n",
    "        panel.border = element_blank(), panel.grid.minor = element_blank(), panel.background = element_blank(), \n",
    "        axis.line = element_line(color = 'black',size=0.3), plot.title = element_text(hjust = 0.5)) + \n",
    "   scale_color_manual(values = c(\"#c85f55\",\n",
    "\"#a964bf\",\n",
    "\"#8db352\",\n",
    "\"#fa7300\",\n",
    "\"#05aec0\",\n",
    "\"#ff1493\")) +\n",
    "  labs(x = \"Number of Individuals\", y = \"Fit time (seconds)\", color = \"Obs per Individual\")\n",
    "\n",
    "fittime_nsamples = plot_grid(fittime_1, fittime_2, labels = c(\"Quasi-Copula\", \"GLMM\"))\n",
    "\"\"\""
   ]
  },
  {
   "cell_type": "code",
   "execution_count": 9,
   "metadata": {},
   "outputs": [
    {
     "data": {
      "text/plain": [
       "RObject{StrSxp}\n",
       "[1] \"fittime_nsamples_poisson_vs_glmm.png\"\n"
      ]
     },
     "execution_count": 9,
     "metadata": {},
     "output_type": "execute_result"
    }
   ],
   "source": [
    "R\"\"\"\n",
    "ggsave('fittime_nsamples_poisson_vs_glmm.png', fittime_nsamples, width = 15, height = 17, units = 'in', dpi = 450)\n",
    "\"\"\""
   ]
  },
  {
   "cell_type": "code",
   "execution_count": 10,
   "metadata": {},
   "outputs": [
    {
     "data": {
      "text/html": [
       "<div class=\"data-frame\"><p>18 rows × 5 columns</p><table class=\"data-frame\"><thead><tr><th></th><th>people_obs</th><th>β1</th><th>β2</th><th>β3</th><th>Σ1</th></tr><tr><th></th><th title=\"String\">String</th><th title=\"Tuple{Float64, Float64}\">Tuple…</th><th title=\"Tuple{Float64, Float64}\">Tuple…</th><th title=\"Tuple{Float64, Float64}\">Tuple…</th><th title=\"Tuple{Float64, Float64}\">Tuple…</th></tr></thead><tbody><tr><th>1</th><td>N: 100  ni: 2</td><td>(0.83, 0.0377525)</td><td>(0.76, 0.0429235)</td><td>(0.84, 0.0368453)</td><td>(0.99, 0.01)</td></tr><tr><th>2</th><td>N: 100  ni: 5</td><td>(0.78, 0.0416333)</td><td>(0.74, 0.0440844)</td><td>(0.85, 0.035887)</td><td>(0.9, 0.0301511)</td></tr><tr><th>3</th><td>N: 100  ni: 10</td><td>(0.75, 0.0435194)</td><td>(0.72, 0.0451261)</td><td>(0.83, 0.0377525)</td><td>(0.96, 0.0196946)</td></tr><tr><th>4</th><td>N: 100  ni: 15</td><td>(0.68, 0.0468826)</td><td>(0.61, 0.0490207)</td><td>(0.84, 0.0368453)</td><td>(0.91, 0.0287623)</td></tr><tr><th>5</th><td>N: 100  ni: 20</td><td>(0.64, 0.0482418)</td><td>(0.65, 0.0479372)</td><td>(0.74, 0.0440844)</td><td>(0.93, 0.0256432)</td></tr><tr><th>6</th><td>N: 100  ni: 25</td><td>(0.62, 0.0487832)</td><td>(0.68, 0.0468826)</td><td>(0.82, 0.0386123)</td><td>(0.93, 0.0256432)</td></tr><tr><th>7</th><td>N: 1000  ni: 2</td><td>(0.87, 0.0337998)</td><td>(0.88, 0.0326599)</td><td>(0.88, 0.0326599)</td><td>(0.83, 0.0377525)</td></tr><tr><th>8</th><td>N: 1000  ni: 5</td><td>(0.82, 0.0386123)</td><td>(0.88, 0.0326599)</td><td>(0.94, 0.0238683)</td><td>(0.84, 0.0368453)</td></tr><tr><th>9</th><td>N: 1000  ni: 10</td><td>(0.86, 0.0348735)</td><td>(0.87, 0.0337998)</td><td>(0.95, 0.0219043)</td><td>(0.91, 0.0287623)</td></tr><tr><th>10</th><td>N: 1000  ni: 15</td><td>(0.76, 0.0429235)</td><td>(0.65, 0.0479372)</td><td>(0.88, 0.0326599)</td><td>(0.95, 0.0219043)</td></tr><tr><th>11</th><td>N: 1000  ni: 20</td><td>(0.59, 0.0494311)</td><td>(0.6, 0.0492366)</td><td>(0.87, 0.0337998)</td><td>(0.95, 0.0219043)</td></tr><tr><th>12</th><td>N: 1000  ni: 25</td><td>(0.61, 0.0490207)</td><td>(0.65, 0.0479372)</td><td>(0.84, 0.0368453)</td><td>(0.96, 0.0196946)</td></tr><tr><th>13</th><td>N: 10000  ni: 2</td><td>(0.51, 0.0502418)</td><td>(0.67, 0.0472582)</td><td>(0.94, 0.0238683)</td><td>(0.65, 0.0479372)</td></tr><tr><th>14</th><td>N: 10000  ni: 5</td><td>(0.4, 0.0492366)</td><td>(0.55, 0.05)</td><td>(0.93, 0.0256432)</td><td>(0.79, 0.040936)</td></tr><tr><th>15</th><td>N: 10000  ni: 10</td><td>(0.71, 0.0456048)</td><td>(0.52, 0.0502117)</td><td>(0.86, 0.0348735)</td><td>(0.94, 0.0238683)</td></tr><tr><th>16</th><td>N: 10000  ni: 15</td><td>(0.72, 0.0451261)</td><td>(0.6, 0.0492366)</td><td>(0.87, 0.0337998)</td><td>(0.92, 0.027266)</td></tr><tr><th>17</th><td>N: 10000  ni: 20</td><td>(0.66, 0.0476095)</td><td>(0.48, 0.0502117)</td><td>(0.83, 0.0377525)</td><td>(0.81, 0.0394277)</td></tr><tr><th>18</th><td>N: 10000  ni: 25</td><td>(0.58, 0.0496045)</td><td>(0.4, 0.0492366)</td><td>(0.63, 0.0485237)</td><td>(0.68, 0.0468826)</td></tr></tbody></table></div>"
      ],
      "text/latex": [
       "\\begin{tabular}{r|ccccc}\n",
       "\t& people\\_obs & β1 & β2 & β3 & Σ1\\\\\n",
       "\t\\hline\n",
       "\t& String & Tuple… & Tuple… & Tuple… & Tuple…\\\\\n",
       "\t\\hline\n",
       "\t1 & N: 100  ni: 2 & (0.83, 0.0377525) & (0.76, 0.0429235) & (0.84, 0.0368453) & (0.99, 0.01) \\\\\n",
       "\t2 & N: 100  ni: 5 & (0.78, 0.0416333) & (0.74, 0.0440844) & (0.85, 0.035887) & (0.9, 0.0301511) \\\\\n",
       "\t3 & N: 100  ni: 10 & (0.75, 0.0435194) & (0.72, 0.0451261) & (0.83, 0.0377525) & (0.96, 0.0196946) \\\\\n",
       "\t4 & N: 100  ni: 15 & (0.68, 0.0468826) & (0.61, 0.0490207) & (0.84, 0.0368453) & (0.91, 0.0287623) \\\\\n",
       "\t5 & N: 100  ni: 20 & (0.64, 0.0482418) & (0.65, 0.0479372) & (0.74, 0.0440844) & (0.93, 0.0256432) \\\\\n",
       "\t6 & N: 100  ni: 25 & (0.62, 0.0487832) & (0.68, 0.0468826) & (0.82, 0.0386123) & (0.93, 0.0256432) \\\\\n",
       "\t7 & N: 1000  ni: 2 & (0.87, 0.0337998) & (0.88, 0.0326599) & (0.88, 0.0326599) & (0.83, 0.0377525) \\\\\n",
       "\t8 & N: 1000  ni: 5 & (0.82, 0.0386123) & (0.88, 0.0326599) & (0.94, 0.0238683) & (0.84, 0.0368453) \\\\\n",
       "\t9 & N: 1000  ni: 10 & (0.86, 0.0348735) & (0.87, 0.0337998) & (0.95, 0.0219043) & (0.91, 0.0287623) \\\\\n",
       "\t10 & N: 1000  ni: 15 & (0.76, 0.0429235) & (0.65, 0.0479372) & (0.88, 0.0326599) & (0.95, 0.0219043) \\\\\n",
       "\t11 & N: 1000  ni: 20 & (0.59, 0.0494311) & (0.6, 0.0492366) & (0.87, 0.0337998) & (0.95, 0.0219043) \\\\\n",
       "\t12 & N: 1000  ni: 25 & (0.61, 0.0490207) & (0.65, 0.0479372) & (0.84, 0.0368453) & (0.96, 0.0196946) \\\\\n",
       "\t13 & N: 10000  ni: 2 & (0.51, 0.0502418) & (0.67, 0.0472582) & (0.94, 0.0238683) & (0.65, 0.0479372) \\\\\n",
       "\t14 & N: 10000  ni: 5 & (0.4, 0.0492366) & (0.55, 0.05) & (0.93, 0.0256432) & (0.79, 0.040936) \\\\\n",
       "\t15 & N: 10000  ni: 10 & (0.71, 0.0456048) & (0.52, 0.0502117) & (0.86, 0.0348735) & (0.94, 0.0238683) \\\\\n",
       "\t16 & N: 10000  ni: 15 & (0.72, 0.0451261) & (0.6, 0.0492366) & (0.87, 0.0337998) & (0.92, 0.027266) \\\\\n",
       "\t17 & N: 10000  ni: 20 & (0.66, 0.0476095) & (0.48, 0.0502117) & (0.83, 0.0377525) & (0.81, 0.0394277) \\\\\n",
       "\t18 & N: 10000  ni: 25 & (0.58, 0.0496045) & (0.4, 0.0492366) & (0.63, 0.0485237) & (0.68, 0.0468826) \\\\\n",
       "\\end{tabular}\n"
      ],
      "text/plain": [
       "\u001b[1m18×5 DataFrame\u001b[0m\n",
       "\u001b[1m Row \u001b[0m│\u001b[1m people_obs       \u001b[0m\u001b[1m β1                \u001b[0m\u001b[1m β2                \u001b[0m\u001b[1m β3             \u001b[0m ⋯\n",
       "\u001b[1m     \u001b[0m│\u001b[90m String           \u001b[0m\u001b[90m Tuple…            \u001b[0m\u001b[90m Tuple…            \u001b[0m\u001b[90m Tuple…         \u001b[0m ⋯\n",
       "─────┼──────────────────────────────────────────────────────────────────────────\n",
       "   1 │ N: 100  ni: 2     (0.83, 0.0377525)  (0.76, 0.0429235)  (0.84, 0.036845 ⋯\n",
       "   2 │ N: 100  ni: 5     (0.78, 0.0416333)  (0.74, 0.0440844)  (0.85, 0.035887\n",
       "   3 │ N: 100  ni: 10    (0.75, 0.0435194)  (0.72, 0.0451261)  (0.83, 0.037752\n",
       "   4 │ N: 100  ni: 15    (0.68, 0.0468826)  (0.61, 0.0490207)  (0.84, 0.036845\n",
       "   5 │ N: 100  ni: 20    (0.64, 0.0482418)  (0.65, 0.0479372)  (0.74, 0.044084 ⋯\n",
       "   6 │ N: 100  ni: 25    (0.62, 0.0487832)  (0.68, 0.0468826)  (0.82, 0.038612\n",
       "   7 │ N: 1000  ni: 2    (0.87, 0.0337998)  (0.88, 0.0326599)  (0.88, 0.032659\n",
       "   8 │ N: 1000  ni: 5    (0.82, 0.0386123)  (0.88, 0.0326599)  (0.94, 0.023868\n",
       "   9 │ N: 1000  ni: 10   (0.86, 0.0348735)  (0.87, 0.0337998)  (0.95, 0.021904 ⋯\n",
       "  10 │ N: 1000  ni: 15   (0.76, 0.0429235)  (0.65, 0.0479372)  (0.88, 0.032659\n",
       "  11 │ N: 1000  ni: 20   (0.59, 0.0494311)  (0.6, 0.0492366)   (0.87, 0.033799\n",
       "  12 │ N: 1000  ni: 25   (0.61, 0.0490207)  (0.65, 0.0479372)  (0.84, 0.036845\n",
       "  13 │ N: 10000  ni: 2   (0.51, 0.0502418)  (0.67, 0.0472582)  (0.94, 0.023868 ⋯\n",
       "  14 │ N: 10000  ni: 5   (0.4, 0.0492366)   (0.55, 0.05)       (0.93, 0.025643\n",
       "  15 │ N: 10000  ni: 10  (0.71, 0.0456048)  (0.52, 0.0502117)  (0.86, 0.034873\n",
       "  16 │ N: 10000  ni: 15  (0.72, 0.0451261)  (0.6, 0.0492366)   (0.87, 0.033799\n",
       "  17 │ N: 10000  ni: 20  (0.66, 0.0476095)  (0.48, 0.0502117)  (0.83, 0.037752 ⋯\n",
       "  18 │ N: 10000  ni: 25  (0.58, 0.0496045)  (0.4, 0.0492366)   (0.63, 0.048523\n",
       "\u001b[36m                                                               2 columns omitted\u001b[0m"
      ]
     },
     "execution_count": 10,
     "metadata": {},
     "output_type": "execute_result"
    }
   ],
   "source": [
    "######  supplementary table s1\n",
    "using Random, DataFrames, DelimitedFiles, Statistics\n",
    "import StatsBase: sem\n",
    "\n",
    "βΣcoverage = readdlm(\"beta_sigma_coverage_multivariate_poisson_vcm$(nsims)reps_sim.csv\", ',')\n",
    "\n",
    "m  = 1\n",
    "\n",
    "covdf = DataFrame(Matrix(transpose(βΣcoverage)), :auto)\n",
    "rename!(covdf, Symbol.([[\"β$i\" for i in 1:p]; [\"Σ$i\" for i in 1:m]]))\n",
    "covdf[!, :samplesize] = sample_sizes\n",
    "covdf[!, :obssize] = obs_sizes\n",
    "first(covdf, 10)\n",
    "\n",
    "row_stats = [[(mean(col), sem(col)) for col = eachcol(d[!, 1:end-2])] for d = groupby(covdf, [:samplesize; :obssize])]\n",
    "df = DataFrame(row_stats, :auto)\n",
    "ss_obs = unique(\"N: \" .* sample_sizes .* \"  ni: \" .* obs_sizes)\n",
    "rename!(df, Symbol.(ss_obs))\n",
    "covdfdisplay = DataFrame([[names(df)]; collect.(eachrow(df))], \n",
    "    [:people_obs; Symbol.([[\"β$i\" for i in 1:p]; [\"Σ$i\" for i in 1:m]])])\n",
    "# deletecols!(covdfdisplay, p + 2)\n",
    "covdfdisplay\n"
   ]
  },
  {
   "cell_type": "code",
   "execution_count": 11,
   "metadata": {},
   "outputs": [
    {
     "data": {
      "text/html": [
       "<div class=\"data-frame\"><p>7,196 rows × 5 columns</p><table class=\"data-frame\"><thead><tr><th></th><th>mse</th><th>obssize</th><th>samplesize</th><th>parameters</th><th>robust</th></tr><tr><th></th><th title=\"Float64\">Float64</th><th title=\"String\">String</th><th title=\"String\">String</th><th title=\"String\">String</th><th title=\"String\">String</th></tr></thead><tbody><tr><th>1</th><td>0.00159215</td><td>2</td><td>100</td><td>beta</td><td>Poisson Quasi-Copula</td></tr><tr><th>2</th><td>0.000756585</td><td>2</td><td>100</td><td>beta</td><td>Poisson Quasi-Copula</td></tr><tr><th>3</th><td>0.000718322</td><td>2</td><td>100</td><td>beta</td><td>Poisson Quasi-Copula</td></tr><tr><th>4</th><td>0.00483793</td><td>2</td><td>100</td><td>beta</td><td>Poisson Quasi-Copula</td></tr><tr><th>5</th><td>0.00340811</td><td>2</td><td>100</td><td>beta</td><td>Poisson Quasi-Copula</td></tr><tr><th>6</th><td>0.0030496</td><td>2</td><td>100</td><td>beta</td><td>Poisson Quasi-Copula</td></tr><tr><th>7</th><td>0.000815624</td><td>2</td><td>100</td><td>beta</td><td>Poisson Quasi-Copula</td></tr><tr><th>8</th><td>0.00274645</td><td>2</td><td>100</td><td>beta</td><td>Poisson Quasi-Copula</td></tr><tr><th>9</th><td>0.00216215</td><td>2</td><td>100</td><td>beta</td><td>Poisson Quasi-Copula</td></tr><tr><th>10</th><td>0.000403373</td><td>2</td><td>100</td><td>beta</td><td>Poisson Quasi-Copula</td></tr><tr><th>11</th><td>0.000504396</td><td>2</td><td>100</td><td>beta</td><td>Poisson Quasi-Copula</td></tr><tr><th>12</th><td>0.00198975</td><td>2</td><td>100</td><td>beta</td><td>Poisson Quasi-Copula</td></tr><tr><th>13</th><td>0.00127124</td><td>2</td><td>100</td><td>beta</td><td>Poisson Quasi-Copula</td></tr><tr><th>14</th><td>0.00156022</td><td>2</td><td>100</td><td>beta</td><td>Poisson Quasi-Copula</td></tr><tr><th>15</th><td>0.000213784</td><td>2</td><td>100</td><td>beta</td><td>Poisson Quasi-Copula</td></tr><tr><th>16</th><td>0.00101747</td><td>2</td><td>100</td><td>beta</td><td>Poisson Quasi-Copula</td></tr><tr><th>17</th><td>0.00295089</td><td>2</td><td>100</td><td>beta</td><td>Poisson Quasi-Copula</td></tr><tr><th>18</th><td>0.00308354</td><td>2</td><td>100</td><td>beta</td><td>Poisson Quasi-Copula</td></tr><tr><th>19</th><td>0.000676425</td><td>2</td><td>100</td><td>beta</td><td>Poisson Quasi-Copula</td></tr><tr><th>20</th><td>0.00277855</td><td>2</td><td>100</td><td>beta</td><td>Poisson Quasi-Copula</td></tr><tr><th>21</th><td>0.00695085</td><td>2</td><td>100</td><td>beta</td><td>Poisson Quasi-Copula</td></tr><tr><th>22</th><td>0.00098468</td><td>2</td><td>100</td><td>beta</td><td>Poisson Quasi-Copula</td></tr><tr><th>23</th><td>0.00296288</td><td>2</td><td>100</td><td>beta</td><td>Poisson Quasi-Copula</td></tr><tr><th>24</th><td>0.000481056</td><td>2</td><td>100</td><td>beta</td><td>Poisson Quasi-Copula</td></tr><tr><th>25</th><td>0.00119331</td><td>2</td><td>100</td><td>beta</td><td>Poisson Quasi-Copula</td></tr><tr><th>26</th><td>0.00310365</td><td>2</td><td>100</td><td>beta</td><td>Poisson Quasi-Copula</td></tr><tr><th>27</th><td>0.00259667</td><td>2</td><td>100</td><td>beta</td><td>Poisson Quasi-Copula</td></tr><tr><th>28</th><td>0.00225824</td><td>2</td><td>100</td><td>beta</td><td>Poisson Quasi-Copula</td></tr><tr><th>29</th><td>0.00115601</td><td>2</td><td>100</td><td>beta</td><td>Poisson Quasi-Copula</td></tr><tr><th>30</th><td>0.00780128</td><td>2</td><td>100</td><td>beta</td><td>Poisson Quasi-Copula</td></tr><tr><th>&vellip;</th><td>&vellip;</td><td>&vellip;</td><td>&vellip;</td><td>&vellip;</td><td>&vellip;</td></tr></tbody></table></div>"
      ],
      "text/latex": [
       "\\begin{tabular}{r|ccccc}\n",
       "\t& mse & obssize & samplesize & parameters & robust\\\\\n",
       "\t\\hline\n",
       "\t& Float64 & String & String & String & String\\\\\n",
       "\t\\hline\n",
       "\t1 & 0.00159215 & 2 & 100 & beta & Poisson Quasi-Copula \\\\\n",
       "\t2 & 0.000756585 & 2 & 100 & beta & Poisson Quasi-Copula \\\\\n",
       "\t3 & 0.000718322 & 2 & 100 & beta & Poisson Quasi-Copula \\\\\n",
       "\t4 & 0.00483793 & 2 & 100 & beta & Poisson Quasi-Copula \\\\\n",
       "\t5 & 0.00340811 & 2 & 100 & beta & Poisson Quasi-Copula \\\\\n",
       "\t6 & 0.0030496 & 2 & 100 & beta & Poisson Quasi-Copula \\\\\n",
       "\t7 & 0.000815624 & 2 & 100 & beta & Poisson Quasi-Copula \\\\\n",
       "\t8 & 0.00274645 & 2 & 100 & beta & Poisson Quasi-Copula \\\\\n",
       "\t9 & 0.00216215 & 2 & 100 & beta & Poisson Quasi-Copula \\\\\n",
       "\t10 & 0.000403373 & 2 & 100 & beta & Poisson Quasi-Copula \\\\\n",
       "\t11 & 0.000504396 & 2 & 100 & beta & Poisson Quasi-Copula \\\\\n",
       "\t12 & 0.00198975 & 2 & 100 & beta & Poisson Quasi-Copula \\\\\n",
       "\t13 & 0.00127124 & 2 & 100 & beta & Poisson Quasi-Copula \\\\\n",
       "\t14 & 0.00156022 & 2 & 100 & beta & Poisson Quasi-Copula \\\\\n",
       "\t15 & 0.000213784 & 2 & 100 & beta & Poisson Quasi-Copula \\\\\n",
       "\t16 & 0.00101747 & 2 & 100 & beta & Poisson Quasi-Copula \\\\\n",
       "\t17 & 0.00295089 & 2 & 100 & beta & Poisson Quasi-Copula \\\\\n",
       "\t18 & 0.00308354 & 2 & 100 & beta & Poisson Quasi-Copula \\\\\n",
       "\t19 & 0.000676425 & 2 & 100 & beta & Poisson Quasi-Copula \\\\\n",
       "\t20 & 0.00277855 & 2 & 100 & beta & Poisson Quasi-Copula \\\\\n",
       "\t21 & 0.00695085 & 2 & 100 & beta & Poisson Quasi-Copula \\\\\n",
       "\t22 & 0.00098468 & 2 & 100 & beta & Poisson Quasi-Copula \\\\\n",
       "\t23 & 0.00296288 & 2 & 100 & beta & Poisson Quasi-Copula \\\\\n",
       "\t24 & 0.000481056 & 2 & 100 & beta & Poisson Quasi-Copula \\\\\n",
       "\t25 & 0.00119331 & 2 & 100 & beta & Poisson Quasi-Copula \\\\\n",
       "\t26 & 0.00310365 & 2 & 100 & beta & Poisson Quasi-Copula \\\\\n",
       "\t27 & 0.00259667 & 2 & 100 & beta & Poisson Quasi-Copula \\\\\n",
       "\t28 & 0.00225824 & 2 & 100 & beta & Poisson Quasi-Copula \\\\\n",
       "\t29 & 0.00115601 & 2 & 100 & beta & Poisson Quasi-Copula \\\\\n",
       "\t30 & 0.00780128 & 2 & 100 & beta & Poisson Quasi-Copula \\\\\n",
       "\t$\\dots$ & $\\dots$ & $\\dots$ & $\\dots$ & $\\dots$ & $\\dots$ \\\\\n",
       "\\end{tabular}\n"
      ],
      "text/plain": [
       "\u001b[1m7196×5 DataFrame\u001b[0m\n",
       "\u001b[1m  Row \u001b[0m│\u001b[1m mse         \u001b[0m\u001b[1m obssize \u001b[0m\u001b[1m samplesize \u001b[0m\u001b[1m parameters \u001b[0m\u001b[1m robust               \u001b[0m\n",
       "\u001b[1m      \u001b[0m│\u001b[90m Float64     \u001b[0m\u001b[90m String  \u001b[0m\u001b[90m String     \u001b[0m\u001b[90m String     \u001b[0m\u001b[90m String               \u001b[0m\n",
       "──────┼────────────────────────────────────────────────────────────────────\n",
       "    1 │ 0.00159215   2        100         beta        Poisson Quasi-Copula\n",
       "    2 │ 0.000756585  2        100         beta        Poisson Quasi-Copula\n",
       "    3 │ 0.000718322  2        100         beta        Poisson Quasi-Copula\n",
       "    4 │ 0.00483793   2        100         beta        Poisson Quasi-Copula\n",
       "    5 │ 0.00340811   2        100         beta        Poisson Quasi-Copula\n",
       "    6 │ 0.0030496    2        100         beta        Poisson Quasi-Copula\n",
       "    7 │ 0.000815624  2        100         beta        Poisson Quasi-Copula\n",
       "    8 │ 0.00274645   2        100         beta        Poisson Quasi-Copula\n",
       "    9 │ 0.00216215   2        100         beta        Poisson Quasi-Copula\n",
       "   10 │ 0.000403373  2        100         beta        Poisson Quasi-Copula\n",
       "   11 │ 0.000504396  2        100         beta        Poisson Quasi-Copula\n",
       "  ⋮   │      ⋮          ⋮         ⋮           ⋮                ⋮\n",
       " 7187 │ 0.00765409   25       10000       a           Poisson GLMM\n",
       " 7188 │ 0.00757597   25       10000       a           Poisson GLMM\n",
       " 7189 │ 0.00757483   25       10000       a           Poisson GLMM\n",
       " 7190 │ 0.00754785   25       10000       a           Poisson GLMM\n",
       " 7191 │ 0.00764559   25       10000       a           Poisson GLMM\n",
       " 7192 │ 0.00761341   25       10000       a           Poisson GLMM\n",
       " 7193 │ 0.00758923   25       10000       a           Poisson GLMM\n",
       " 7194 │ 0.00758193   25       10000       a           Poisson GLMM\n",
       " 7195 │ 0.00764372   25       10000       a           Poisson GLMM\n",
       " 7196 │ 0.0075634    25       10000       a           Poisson GLMM\n",
       "\u001b[36m                                                          7175 rows omitted\u001b[0m"
      ]
     },
     "execution_count": 11,
     "metadata": {},
     "output_type": "execute_result"
    }
   ],
   "source": [
    "#### \n",
    "#import data and reorganize to create figure\n",
    "using Random, DataFrames, DelimitedFiles, Statistics, RCall, Printf\n",
    "import StatsBase: sem\n",
    "\n",
    "βMseresult = vec(readdlm(\"mse_beta_multivariate_poisson_vcm$(nsims)reps_sim.csv\", ','))\n",
    "aMseresult = vec(readdlm(\"mse_Sigma_multivariate_poisson_vcm$(nsims)reps_sim.csv\", ','))\n",
    "\n",
    "βMseresult_GLMM = vec(readdlm(\"mse_beta_GLMM_multivariate_poisson_vcm$(nsims)reps_sim.csv\", ','))\n",
    "aMseresult_GLMM = vec(readdlm(\"mse_Sigma_GLMM_multivariate_poisson_vcm$(nsims)reps_sim.csv\", ','))\n",
    "\n",
    "\n",
    "p = 3; m = 1\n",
    "sample_sizes = repeat(string.(samplesizes), inner = nsims * length(ns))\n",
    "obs_sizes = repeat(string.(ns), inner = nsims, outer = length(samplesizes))\n",
    "msedf1 = DataFrame(βmse = βMseresult, amse = aMseresult, \n",
    "    samplesize = sample_sizes, obssize = obs_sizes)\n",
    "\n",
    "msedf2 = DataFrame(βmse = βMseresult_GLMM, amse = aMseresult_GLMM, \n",
    "    samplesize = sample_sizes, obssize = obs_sizes)\n",
    "\n",
    "#rename to make parsing easier for R.\n",
    "\n",
    "msedf1 = deepcopy(msedf1)\n",
    "rename!(msedf1, [\"betamse\"\n",
    "    \"amse\"\n",
    "    \"samplesize\"\n",
    " \"obssize\"]);\n",
    "\n",
    "msedf2 = deepcopy(msedf2)\n",
    "rename!(msedf2, [\"betamse\"\n",
    "    \"amse\"\n",
    "    \"samplesize\"\n",
    " \"obssize\"]);\n",
    "\n",
    "mses = [msedf1[!, :betamse]; msedf1[!, :amse]; msedf2[!, :betamse]; msedf2[!, :amse]]\n",
    "    # msedfnormR[!, :betamse]; msedfnormR[!, :taumse]; msedfnormR[!, :Sigmamse]]\n",
    "obssize = [collect([repeat(msedf1[!, :obssize], 2)]...) ; collect([repeat(msedf2[!, :obssize], 2)]...)]\n",
    "#40\n",
    "samplesize = [collect([repeat(msedf1[!, :samplesize], 2)]...) ; collect([repeat(msedf2[!, :samplesize], 2)]...)]\n",
    "\n",
    "parameters = [collect([repeat(string.([:beta, :a]), inner = nsims * length(ns) * length(samplesizes))]...) ; collect([repeat(string.([:beta, :a]), inner = nsims * length(ns) * length(samplesizes))]...)]\n",
    "robust = [collect([repeat([\"Poisson Quasi-Copula\"], 2 * nsims * length(ns) * length(samplesizes))]...); collect([repeat([\"Poisson GLMM\"],  2 * nsims * length(ns) * length(samplesizes))]...)]\n",
    "\n",
    "msedfR = DataFrame(mse = mses, obssize = obssize, samplesize = samplesize,\n",
    "    parameters = parameters, robust = robust)\n",
    "\n",
    "#5 of the 30,000 simulations did not converge, filter out\n",
    "msedfR = filter(x -> !isnan(x.mse), msedfR)\n",
    "# additionally, there are 5 where an error was not caught so it did not try a differnt solver\n",
    "msedfR = filter(x -> x.mse < 40000, msedfR)"
   ]
  },
  {
   "cell_type": "code",
   "execution_count": 12,
   "metadata": {},
   "outputs": [
    {
     "name": "stderr",
     "output_type": "stream",
     "text": [
      "┌ Warning: RCall.jl: Warning: package ‘scales’ was built under R version 4.0.2\n",
      "└ @ RCall /Users/sarahji/.julia/packages/RCall/iMDW2/src/io.jl:160\n",
      "┌ Warning: RCall.jl: Warning: package ‘data.table’ was built under R version 4.0.2\n",
      "└ @ RCall /Users/sarahji/.julia/packages/RCall/iMDW2/src/io.jl:160\n"
     ]
    },
    {
     "data": {
      "image/png": "[encoded data removed]"
     },
     "metadata": {},
     "output_type": "display_data"
    },
    {
     "data": {
      "text/plain": [
       "RObject{VecSxp}\n"
      ]
     },
     "execution_count": 12,
     "metadata": {},
     "output_type": "execute_result"
    }
   ],
   "source": [
    "### working on figure next\n",
    "@rput msedfR\n",
    "\n",
    "R\"\"\"\n",
    "library(scales)\n",
    "library(ggplot2)\n",
    "library(data.table)\n",
    "\n",
    "msedfR = data.table(msedfR)\n",
    "\n",
    "msedfR[parameters == \"beta\",y_min := 10^-4]\n",
    "msedfR[parameters == \"beta\",y_max := 10^-2]\n",
    "msedfR[parameters == \"a\",y_min := 10^-5]\n",
    "msedfR[parameters == \"a\",y_max := 10^1]\n",
    "\n",
    "#msedfR[parameters == \"beta\",y_min := 10^-8]\n",
    "#msedfR[parameters == \"beta\",y_max := 10^-2]\n",
    "#msedfR[parameters == \"tau\",y_min := 10^-8]\n",
    "#msedfR[parameters == \"tau\",y_max := 10^-2]\n",
    "#msedfR[parameters == \"Sigma\",y_min := 10^-5]\n",
    "#msedfR[parameters == \"Sigma\",y_max := 10^-2]\n",
    "\n",
    "\n",
    "msedfR$obssize = factor(msedfR$obssize, levels = c('2', '5', '10', '15', '20', '25'))\n",
    "msedfR$samplesize = factor(msedfR$samplesize, levels = c('100', '1000', '10000'))\n",
    "msedfR$parameters = factor(msedfR$parameters, levels = c('beta', 'a'), labels = c(beta = expression(hat(bold(beta))), a = expression(hat(bold(a))[])))\n",
    "msedfR$robust <- factor(msedfR$robust, levels = c('Poisson Quasi-Copula', 'Poisson GLMM'),\n",
    "    labels = c(expression(paste(\"Poisson Quasi-Copula\")), expression(paste(\"Poisson GLMM\"))))\n",
    "\n",
    "\n",
    "#mseplot <- ggplot(msedfR[msedfR$mse < 10^0, ], aes(x=samplesize, y=mse, fill=obssize)) + \n",
    "mseplot = ggplot(msedfR[msedfR$mse < 10^3, ], aes(x=samplesize, y=mse, fill=obssize)) + \n",
    "  #geom_boxplot(outlier.size = 0.0, outlier.alpha = 0) +\n",
    "  geom_boxplot(outlier.size = 0.25) +\n",
    "#    geom_violin() +\n",
    "    facet_grid(parameters ~ robust, labeller = label_parsed, scales = \"free_y\") +\n",
    "  theme(legend.position=\"right\", legend.key = element_blank(), axis.text.x = element_text(angle=0, size=11),\n",
    "        axis.text.y = element_text(angle=0, size=12), axis.title.x = element_text(size = 15), \n",
    "        axis.title.y = element_text(size = 15), legend.title = element_text(size = 12),\n",
    "        panel.grid.major = element_blank(), panel.grid.minor = element_blank(),\n",
    "        legend.text=element_text(size=10), panel.background = element_rect(fill = NA, color = \"black\"),\n",
    "        #panel.background = element_blank(), #panel.border = element_blank(),\n",
    "        axis.line = element_line(color = 'black',size=0.3), plot.title = element_text(hjust = 0.5),\n",
    "        strip.background = element_rect(colour=\"black\", fill=\"white\"), strip.text.y = element_text(size=15, face=\"bold\"),\n",
    "        strip.text.x = element_text(size=15)) + \n",
    "  scale_fill_manual(values = c(\"#c85f55\",\n",
    "\"#a964bf\",\n",
    "\"#8db352\",\n",
    "\"#fa7300\",\n",
    "\"#05aec0\",\n",
    "\"#ff1493\")) +\n",
    "#scale_y_log10(breaks = scales::trans_breaks(\"log10\", function(x) 10^x)) +\n",
    "#scale_y_log10(breaks = 10^(-8:8), limit=c(10^-8, 10^2)) + \n",
    "scale_y_log10(breaks = 10^seq(-10, 10, 2), labels=trans_format(\"log10\", math_format(10^.x))) + #, limit=c(10^-8, 10^2)) +\n",
    "  labs(x = \"Number of Individuals\", y = \"MSE of Parameter Estimates\", fill = \"Obs per Individual\") +\n",
    "geom_blank(aes(y = y_max)) + \n",
    "geom_blank(aes(y = y_min)) \n",
    "\n",
    "\"\"\""
   ]
  },
  {
   "cell_type": "code",
   "execution_count": 13,
   "metadata": {},
   "outputs": [
    {
     "data": {
      "text/plain": [
       "RObject{StrSxp}\n",
       "[1] \"updated_msefacetplot_poisson.png\"\n"
      ]
     },
     "execution_count": 13,
     "metadata": {},
     "output_type": "execute_result"
    }
   ],
   "source": [
    "R\"\"\"\n",
    "ggsave('updated_msefacetplot_poisson.png', mseplot, width = 12.5, height = 15, units = 'in', dpi = 450)\n",
    "\"\"\""
   ]
  },
  {
   "cell_type": "code",
   "execution_count": null,
   "metadata": {},
   "outputs": [],
   "source": []
  },
  {
   "cell_type": "code",
   "execution_count": null,
   "metadata": {},
   "outputs": [],
   "source": []
  }
 ],
 "metadata": {
  "@webio": {
   "lastCommId": null,
   "lastKernelId": null
  },
  "kernelspec": {
   "display_name": "Julia 1.6.2",
   "language": "julia",
   "name": "julia-1.6"
  },
  "language_info": {
   "file_extension": ".jl",
   "mimetype": "application/julia",
   "name": "julia",
   "version": "1.6.2"
  }
 },
 "nbformat": 4,
 "nbformat_minor": 2
}
