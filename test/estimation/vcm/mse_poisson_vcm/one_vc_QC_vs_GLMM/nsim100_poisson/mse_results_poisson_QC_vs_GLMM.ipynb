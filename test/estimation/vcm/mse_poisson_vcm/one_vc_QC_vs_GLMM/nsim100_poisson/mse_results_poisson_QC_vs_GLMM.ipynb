{
 "cells": [
  {
   "cell_type": "markdown",
   "metadata": {},
   "source": [
    "## Poisson VCM Results \n",
    "\n",
    "This notebook goes over the code needed to reproduce the results from the MSE and time figures for the Poisson base distribution with Log Link and covariance matrix $\\Gamma$ structured under variance component model framework as follows:\n",
    "\n",
    "$$\n",
    "\\Gamma = \\sigma_1 * \\mathbf{1_{n} 1_{n}^\\top}\n",
    "$$\n",
    "\n",
    "We run each scenario 5 times and compare the fit with that of GLMM's random intercept model from MixedModels.jl. "
   ]
  },
  {
   "cell_type": "code",
   "execution_count": 1,
   "metadata": {},
   "outputs": [
    {
     "name": "stdout",
     "output_type": "stream",
     "text": [
      "Julia Version 1.6.2\n",
      "Commit 1b93d53fc4 (2021-07-14 15:36 UTC)\n",
      "Platform Info:\n",
      "  OS: macOS (x86_64-apple-darwin18.7.0)\n",
      "  CPU: Intel(R) Core(TM) i9-9880H CPU @ 2.30GHz\n",
      "  WORD_SIZE: 64\n",
      "  LIBM: libopenlibm\n",
      "  LLVM: libLLVM-11.0.1 (ORCJIT, skylake)\n"
     ]
    }
   ],
   "source": [
    "versioninfo()"
   ]
  },
  {
   "cell_type": "code",
   "execution_count": 2,
   "metadata": {},
   "outputs": [],
   "source": [
    "using GLMCopula, DelimitedFiles, LinearAlgebra, Random, GLM\n",
    "using Random, Roots, SpecialFunctions, DataFrames"
   ]
  },
  {
   "cell_type": "code",
   "execution_count": 3,
   "metadata": {},
   "outputs": [
    {
     "data": {
      "text/plain": [
       "100"
      ]
     },
     "execution_count": 3,
     "metadata": {},
     "output_type": "execute_result"
    }
   ],
   "source": [
    "p = 3    # number of fixed effects, including intercept\n",
    "m = 1    # number of variance components\n",
    "# true parameter values\n",
    "βtrue = ones(p)\n",
    "Σtrue = [0.1]\n",
    "\n",
    "# generate data\n",
    "intervals = zeros(p + m, 2) #hold intervals\n",
    "curcoverage = zeros(p + m) #hold current coverage resutls\n",
    "trueparams = [βtrue; Σtrue] #hold true parameters\n",
    "\n",
    "#simulation parameters\n",
    "samplesizes = [100; 1000; 10000]\n",
    "ns = [2; 5; 10; 15; 20; 25]\n",
    "nsims = 100"
   ]
  },
  {
   "cell_type": "code",
   "execution_count": 4,
   "metadata": {},
   "outputs": [
    {
     "name": "stderr",
     "output_type": "stream",
     "text": [
      "┌ Info: reading in the files with results\n",
      "└ @ Main In[4]:1\n"
     ]
    },
    {
     "data": {
      "text/plain": [
       "1800-element Vector{Float64}:\n",
       " 0.150203039\n",
       " 0.110564592\n",
       " 0.044110654\n",
       " 0.100172423\n",
       " 0.188676163\n",
       " 0.942790876\n",
       " 0.038824237\n",
       " 0.115664679\n",
       " 0.041563363\n",
       " 0.057245101\n",
       " 0.132465535\n",
       " 0.041204641\n",
       " 0.189369039\n",
       " ⋮\n",
       " 4.593222184\n",
       " 9.195408219\n",
       " 4.7079249\n",
       " 5.193508727\n",
       " 8.621820988\n",
       " 4.764341822\n",
       " 4.520244025\n",
       " 5.03628938\n",
       " 9.640884733\n",
       " 2.945314098\n",
       " 4.796830353\n",
       " 9.660612977"
      ]
     },
     "execution_count": 4,
     "metadata": {},
     "output_type": "execute_result"
    }
   ],
   "source": [
    "@info \"reading in the files with results\"\n",
    "βMseresult = vec(readdlm(\"mse_beta_multivariate_poisson_vcm$(nsims)reps_sim.csv\", ','))\n",
    "ΣMseresult = vec(readdlm(\"mse_Sigma_multivariate_poisson_vcm$(nsims)reps_sim.csv\", ','))\n",
    "fittimes_QC = vec(readdlm(\"fittimes_multivariate_poisson_vcm$(nsims)reps_sim.csv\", ','))"
   ]
  },
  {
   "cell_type": "code",
   "execution_count": 5,
   "metadata": {},
   "outputs": [
    {
     "data": {
      "text/plain": [
       "1800-element Vector{Float64}:\n",
       "  3.145848212\n",
       "  0.031347829\n",
       "  0.021502702\n",
       "  0.096274859\n",
       "  0.110565417\n",
       "  0.156316705\n",
       "  0.017680053\n",
       "  0.020469941\n",
       "  0.018057207\n",
       "  0.018442308\n",
       "  0.019633857\n",
       "  0.01939386\n",
       "  0.088038708\n",
       "  ⋮\n",
       " 17.976465678\n",
       " 16.864779208\n",
       " 17.473525019\n",
       " 18.241538522\n",
       " 18.600202505\n",
       " 16.529206046\n",
       " 19.291411168\n",
       " 18.119387555\n",
       " 19.962115545\n",
       " 18.653953751\n",
       " 18.110598636\n",
       " 20.400488772"
      ]
     },
     "execution_count": 5,
     "metadata": {},
     "output_type": "execute_result"
    }
   ],
   "source": [
    "fittimes_GLMM = vec(readdlm(\"fittimes_GLMM_multivariate_poisson_vcm$(nsims)reps_sim.csv\", ','))"
   ]
  },
  {
   "cell_type": "code",
   "execution_count": 6,
   "metadata": {},
   "outputs": [
    {
     "name": "stderr",
     "output_type": "stream",
     "text": [
      "┌ Info: making results table Quasi-Copula\n",
      "└ @ Main In[6]:2\n"
     ]
    },
    {
     "data": {
      "text/html": [
       "<div class=\"data-frame\"><p>18 rows × 8 columns</p><table class=\"data-frame\"><thead><tr><th></th><th>samplesize</th><th>obssize</th><th>fittime</th><th>se</th><th>nobs</th><th>fitmin</th><th>fitmax</th><th>perobsratio</th></tr><tr><th></th><th title=\"String\">String</th><th title=\"String\">String</th><th title=\"Float64\">Float64</th><th title=\"Float64\">Float64</th><th title=\"Int64\">Int64</th><th title=\"Float64\">Float64</th><th title=\"Float64\">Float64</th><th title=\"Float64\">Float64</th></tr></thead><tbody><tr><th>1</th><td>100</td><td>2</td><td>0.0768269</td><td>0.00983253</td><td>200</td><td>0.0669944</td><td>0.0964919</td><td>0.000384134</td></tr><tr><th>2</th><td>100</td><td>5</td><td>0.0855785</td><td>0.0110041</td><td>500</td><td>0.0745744</td><td>0.107587</td><td>0.000171157</td></tr><tr><th>3</th><td>100</td><td>10</td><td>0.0737676</td><td>0.00769766</td><td>1000</td><td>0.0660699</td><td>0.0891629</td><td>7.37676e-5</td></tr><tr><th>4</th><td>100</td><td>15</td><td>0.0743852</td><td>0.00384958</td><td>1500</td><td>0.0705356</td><td>0.0820844</td><td>4.95901e-5</td></tr><tr><th>5</th><td>100</td><td>20</td><td>0.103674</td><td>0.00609198</td><td>2000</td><td>0.0975824</td><td>0.115858</td><td>5.18372e-5</td></tr><tr><th>6</th><td>100</td><td>25</td><td>0.0961164</td><td>0.00438808</td><td>2500</td><td>0.0917284</td><td>0.104893</td><td>3.84466e-5</td></tr><tr><th>7</th><td>1000</td><td>2</td><td>0.112512</td><td>0.0049146</td><td>2000</td><td>0.107597</td><td>0.122341</td><td>5.62558e-5</td></tr><tr><th>8</th><td>1000</td><td>5</td><td>0.164958</td><td>0.00902642</td><td>5000</td><td>0.155931</td><td>0.183011</td><td>3.29916e-5</td></tr><tr><th>9</th><td>1000</td><td>10</td><td>0.255941</td><td>0.0126152</td><td>10000</td><td>0.243325</td><td>0.281171</td><td>2.55941e-5</td></tr><tr><th>10</th><td>1000</td><td>15</td><td>0.331942</td><td>0.0143086</td><td>15000</td><td>0.317633</td><td>0.360559</td><td>2.21295e-5</td></tr><tr><th>11</th><td>1000</td><td>20</td><td>0.412239</td><td>0.0160419</td><td>20000</td><td>0.396197</td><td>0.444323</td><td>2.06119e-5</td></tr><tr><th>12</th><td>1000</td><td>25</td><td>0.514806</td><td>0.0206791</td><td>25000</td><td>0.494127</td><td>0.556164</td><td>2.05922e-5</td></tr><tr><th>13</th><td>10000</td><td>2</td><td>1.05948</td><td>0.023394</td><td>20000</td><td>1.03609</td><td>1.10627</td><td>5.29742e-5</td></tr><tr><th>14</th><td>10000</td><td>5</td><td>1.66938</td><td>0.0389886</td><td>50000</td><td>1.6304</td><td>1.74736</td><td>3.33877e-5</td></tr><tr><th>15</th><td>10000</td><td>10</td><td>3.15973</td><td>0.155902</td><td>100000</td><td>3.00383</td><td>3.47154</td><td>3.15973e-5</td></tr><tr><th>16</th><td>10000</td><td>15</td><td>4.01565</td><td>0.162629</td><td>150000</td><td>3.85302</td><td>4.3409</td><td>2.6771e-5</td></tr><tr><th>17</th><td>10000</td><td>20</td><td>4.89872</td><td>0.15204</td><td>200000</td><td>4.74668</td><td>5.2028</td><td>2.44936e-5</td></tr><tr><th>18</th><td>10000</td><td>25</td><td>6.18656</td><td>0.200888</td><td>250000</td><td>5.98567</td><td>6.58833</td><td>2.47462e-5</td></tr></tbody></table></div>"
      ],
      "text/latex": [
       "\\begin{tabular}{r|cccccccc}\n",
       "\t& samplesize & obssize & fittime & se & nobs & fitmin & fitmax & perobsratio\\\\\n",
       "\t\\hline\n",
       "\t& String & String & Float64 & Float64 & Int64 & Float64 & Float64 & Float64\\\\\n",
       "\t\\hline\n",
       "\t1 & 100 & 2 & 0.0768269 & 0.00983253 & 200 & 0.0669944 & 0.0964919 & 0.000384134 \\\\\n",
       "\t2 & 100 & 5 & 0.0855785 & 0.0110041 & 500 & 0.0745744 & 0.107587 & 0.000171157 \\\\\n",
       "\t3 & 100 & 10 & 0.0737676 & 0.00769766 & 1000 & 0.0660699 & 0.0891629 & 7.37676e-5 \\\\\n",
       "\t4 & 100 & 15 & 0.0743852 & 0.00384958 & 1500 & 0.0705356 & 0.0820844 & 4.95901e-5 \\\\\n",
       "\t5 & 100 & 20 & 0.103674 & 0.00609198 & 2000 & 0.0975824 & 0.115858 & 5.18372e-5 \\\\\n",
       "\t6 & 100 & 25 & 0.0961164 & 0.00438808 & 2500 & 0.0917284 & 0.104893 & 3.84466e-5 \\\\\n",
       "\t7 & 1000 & 2 & 0.112512 & 0.0049146 & 2000 & 0.107597 & 0.122341 & 5.62558e-5 \\\\\n",
       "\t8 & 1000 & 5 & 0.164958 & 0.00902642 & 5000 & 0.155931 & 0.183011 & 3.29916e-5 \\\\\n",
       "\t9 & 1000 & 10 & 0.255941 & 0.0126152 & 10000 & 0.243325 & 0.281171 & 2.55941e-5 \\\\\n",
       "\t10 & 1000 & 15 & 0.331942 & 0.0143086 & 15000 & 0.317633 & 0.360559 & 2.21295e-5 \\\\\n",
       "\t11 & 1000 & 20 & 0.412239 & 0.0160419 & 20000 & 0.396197 & 0.444323 & 2.06119e-5 \\\\\n",
       "\t12 & 1000 & 25 & 0.514806 & 0.0206791 & 25000 & 0.494127 & 0.556164 & 2.05922e-5 \\\\\n",
       "\t13 & 10000 & 2 & 1.05948 & 0.023394 & 20000 & 1.03609 & 1.10627 & 5.29742e-5 \\\\\n",
       "\t14 & 10000 & 5 & 1.66938 & 0.0389886 & 50000 & 1.6304 & 1.74736 & 3.33877e-5 \\\\\n",
       "\t15 & 10000 & 10 & 3.15973 & 0.155902 & 100000 & 3.00383 & 3.47154 & 3.15973e-5 \\\\\n",
       "\t16 & 10000 & 15 & 4.01565 & 0.162629 & 150000 & 3.85302 & 4.3409 & 2.6771e-5 \\\\\n",
       "\t17 & 10000 & 20 & 4.89872 & 0.15204 & 200000 & 4.74668 & 5.2028 & 2.44936e-5 \\\\\n",
       "\t18 & 10000 & 25 & 6.18656 & 0.200888 & 250000 & 5.98567 & 6.58833 & 2.47462e-5 \\\\\n",
       "\\end{tabular}\n"
      ],
      "text/plain": [
       "\u001b[1m18×8 DataFrame\u001b[0m\n",
       "\u001b[1m Row \u001b[0m│\u001b[1m samplesize \u001b[0m\u001b[1m obssize \u001b[0m\u001b[1m fittime   \u001b[0m\u001b[1m se         \u001b[0m\u001b[1m nobs   \u001b[0m\u001b[1m fitmin    \u001b[0m\u001b[1m fitmax  \u001b[0m ⋯\n",
       "\u001b[1m     \u001b[0m│\u001b[90m String     \u001b[0m\u001b[90m String  \u001b[0m\u001b[90m Float64   \u001b[0m\u001b[90m Float64    \u001b[0m\u001b[90m Int64  \u001b[0m\u001b[90m Float64   \u001b[0m\u001b[90m Float64 \u001b[0m ⋯\n",
       "─────┼──────────────────────────────────────────────────────────────────────────\n",
       "   1 │ 100         2        0.0768269  0.00983253     200  0.0669944  0.096491 ⋯\n",
       "   2 │ 100         5        0.0855785  0.0110041      500  0.0745744  0.107587\n",
       "   3 │ 100         10       0.0737676  0.00769766    1000  0.0660699  0.089162\n",
       "   4 │ 100         15       0.0743852  0.00384958    1500  0.0705356  0.082084\n",
       "   5 │ 100         20       0.103674   0.00609198    2000  0.0975824  0.115858 ⋯\n",
       "   6 │ 100         25       0.0961164  0.00438808    2500  0.0917284  0.104893\n",
       "   7 │ 1000        2        0.112512   0.0049146     2000  0.107597   0.122341\n",
       "   8 │ 1000        5        0.164958   0.00902642    5000  0.155931   0.183011\n",
       "   9 │ 1000        10       0.255941   0.0126152    10000  0.243325   0.281171 ⋯\n",
       "  10 │ 1000        15       0.331942   0.0143086    15000  0.317633   0.360559\n",
       "  11 │ 1000        20       0.412239   0.0160419    20000  0.396197   0.444323\n",
       "  12 │ 1000        25       0.514806   0.0206791    25000  0.494127   0.556164\n",
       "  13 │ 10000       2        1.05948    0.023394     20000  1.03609    1.10627  ⋯\n",
       "  14 │ 10000       5        1.66938    0.0389886    50000  1.6304     1.74736\n",
       "  15 │ 10000       10       3.15973    0.155902    100000  3.00383    3.47154\n",
       "  16 │ 10000       15       4.01565    0.162629    150000  3.85302    4.3409\n",
       "  17 │ 10000       20       4.89872    0.15204     200000  4.74668    5.2028   ⋯\n",
       "  18 │ 10000       25       6.18656    0.200888    250000  5.98567    6.58833\n",
       "\u001b[36m                                                               2 columns omitted\u001b[0m"
      ]
     },
     "execution_count": 6,
     "metadata": {},
     "output_type": "execute_result"
    }
   ],
   "source": [
    "#simulation parameters\n",
    "@info \"making results table Quasi-Copula\"\n",
    "sample_sizes = repeat(string.(samplesizes), inner = nsims * length(ns))\n",
    "obs_sizes = repeat(string.(ns), inner = nsims, outer = length(samplesizes))\n",
    "\n",
    "msedf = DataFrame(βmse = βMseresult, Σmse = ΣMseresult, \n",
    "    samplesize = sample_sizes, obssize = obs_sizes, fittimes = fittimes_QC)\n",
    "timedf1 = combine(groupby(msedf, [:samplesize, :obssize]), :fittimes => mean => :fittime,\n",
    "    :fittimes => x -> (std(x)/sqrt(length(x))))\n",
    "rename!(timedf1, Dict(:fittimes_function => \"se\"))\n",
    "timedf1[!, :nobs] = Meta.parse.(timedf1[!, :samplesize]) .* Meta.parse.(timedf1[!, :obssize])\n",
    "timedf1[!, :fitmin] = timedf1[!, :fittime] - timedf1[!, :se]\n",
    "timedf1[!, :fitmax] = timedf1[!, :fittime] + 2 * timedf1[!, :se]\n",
    "timedf1[!, :perobsratio] = timedf1[!, :fittime] ./ timedf1[!, :nobs]\n",
    "timedf1"
   ]
  },
  {
   "cell_type": "code",
   "execution_count": 7,
   "metadata": {},
   "outputs": [
    {
     "name": "stderr",
     "output_type": "stream",
     "text": [
      "┌ Info: making results table GLMM\n",
      "└ @ Main In[7]:2\n"
     ]
    },
    {
     "data": {
      "text/html": [
       "<div class=\"data-frame\"><p>18 rows × 8 columns</p><table class=\"data-frame\"><thead><tr><th></th><th>samplesize</th><th>obssize</th><th>fittime</th><th>se</th><th>nobs</th><th>fitmin</th><th>fitmax</th><th>perobsratio</th></tr><tr><th></th><th title=\"String\">String</th><th title=\"String\">String</th><th title=\"Float64\">Float64</th><th title=\"Float64\">Float64</th><th title=\"Int64\">Int64</th><th title=\"Float64\">Float64</th><th title=\"Float64\">Float64</th><th title=\"Float64\">Float64</th></tr></thead><tbody><tr><th>1</th><td>100</td><td>2</td><td>NaN</td><td>NaN</td><td>200</td><td>NaN</td><td>NaN</td><td>NaN</td></tr><tr><th>2</th><td>100</td><td>5</td><td>0.0529597</td><td>0.0050773</td><td>500</td><td>0.0478824</td><td>0.058037</td><td>0.000105919</td></tr><tr><th>3</th><td>100</td><td>10</td><td>0.0772468</td><td>0.0045613</td><td>1000</td><td>0.0726855</td><td>0.0818081</td><td>7.72468e-5</td></tr><tr><th>4</th><td>100</td><td>15</td><td>0.105336</td><td>0.000997361</td><td>1500</td><td>0.104339</td><td>0.106334</td><td>7.02242e-5</td></tr><tr><th>5</th><td>100</td><td>20</td><td>0.168277</td><td>0.0120335</td><td>2000</td><td>0.156243</td><td>0.18031</td><td>8.41385e-5</td></tr><tr><th>6</th><td>100</td><td>25</td><td>0.18631</td><td>0.00880232</td><td>2500</td><td>0.177508</td><td>0.195113</td><td>7.45242e-5</td></tr><tr><th>7</th><td>1000</td><td>2</td><td>NaN</td><td>NaN</td><td>2000</td><td>NaN</td><td>NaN</td><td>NaN</td></tr><tr><th>8</th><td>1000</td><td>5</td><td>NaN</td><td>NaN</td><td>5000</td><td>NaN</td><td>NaN</td><td>NaN</td></tr><tr><th>9</th><td>1000</td><td>10</td><td>NaN</td><td>NaN</td><td>10000</td><td>NaN</td><td>NaN</td><td>NaN</td></tr><tr><th>10</th><td>1000</td><td>15</td><td>NaN</td><td>NaN</td><td>15000</td><td>NaN</td><td>NaN</td><td>NaN</td></tr><tr><th>11</th><td>1000</td><td>20</td><td>1.63097</td><td>0.0122199</td><td>20000</td><td>1.61875</td><td>1.64319</td><td>8.15486e-5</td></tr><tr><th>12</th><td>1000</td><td>25</td><td>2.08756</td><td>0.018991</td><td>25000</td><td>2.06857</td><td>2.10656</td><td>8.35026e-5</td></tr><tr><th>13</th><td>10000</td><td>2</td><td>NaN</td><td>NaN</td><td>20000</td><td>NaN</td><td>NaN</td><td>NaN</td></tr><tr><th>14</th><td>10000</td><td>5</td><td>NaN</td><td>NaN</td><td>50000</td><td>NaN</td><td>NaN</td><td>NaN</td></tr><tr><th>15</th><td>10000</td><td>10</td><td>NaN</td><td>NaN</td><td>100000</td><td>NaN</td><td>NaN</td><td>NaN</td></tr><tr><th>16</th><td>10000</td><td>15</td><td>11.1147</td><td>0.0821057</td><td>150000</td><td>11.0326</td><td>11.1968</td><td>7.40981e-5</td></tr><tr><th>17</th><td>10000</td><td>20</td><td>14.8881</td><td>0.111463</td><td>200000</td><td>14.7766</td><td>14.9995</td><td>7.44404e-5</td></tr><tr><th>18</th><td>10000</td><td>25</td><td>18.905</td><td>0.164986</td><td>250000</td><td>18.74</td><td>19.07</td><td>7.56199e-5</td></tr></tbody></table></div>"
      ],
      "text/latex": [
       "\\begin{tabular}{r|cccccccc}\n",
       "\t& samplesize & obssize & fittime & se & nobs & fitmin & fitmax & perobsratio\\\\\n",
       "\t\\hline\n",
       "\t& String & String & Float64 & Float64 & Int64 & Float64 & Float64 & Float64\\\\\n",
       "\t\\hline\n",
       "\t1 & 100 & 2 & NaN & NaN & 200 & NaN & NaN & NaN \\\\\n",
       "\t2 & 100 & 5 & 0.0529597 & 0.0050773 & 500 & 0.0478824 & 0.058037 & 0.000105919 \\\\\n",
       "\t3 & 100 & 10 & 0.0772468 & 0.0045613 & 1000 & 0.0726855 & 0.0818081 & 7.72468e-5 \\\\\n",
       "\t4 & 100 & 15 & 0.105336 & 0.000997361 & 1500 & 0.104339 & 0.106334 & 7.02242e-5 \\\\\n",
       "\t5 & 100 & 20 & 0.168277 & 0.0120335 & 2000 & 0.156243 & 0.18031 & 8.41385e-5 \\\\\n",
       "\t6 & 100 & 25 & 0.18631 & 0.00880232 & 2500 & 0.177508 & 0.195113 & 7.45242e-5 \\\\\n",
       "\t7 & 1000 & 2 & NaN & NaN & 2000 & NaN & NaN & NaN \\\\\n",
       "\t8 & 1000 & 5 & NaN & NaN & 5000 & NaN & NaN & NaN \\\\\n",
       "\t9 & 1000 & 10 & NaN & NaN & 10000 & NaN & NaN & NaN \\\\\n",
       "\t10 & 1000 & 15 & NaN & NaN & 15000 & NaN & NaN & NaN \\\\\n",
       "\t11 & 1000 & 20 & 1.63097 & 0.0122199 & 20000 & 1.61875 & 1.64319 & 8.15486e-5 \\\\\n",
       "\t12 & 1000 & 25 & 2.08756 & 0.018991 & 25000 & 2.06857 & 2.10656 & 8.35026e-5 \\\\\n",
       "\t13 & 10000 & 2 & NaN & NaN & 20000 & NaN & NaN & NaN \\\\\n",
       "\t14 & 10000 & 5 & NaN & NaN & 50000 & NaN & NaN & NaN \\\\\n",
       "\t15 & 10000 & 10 & NaN & NaN & 100000 & NaN & NaN & NaN \\\\\n",
       "\t16 & 10000 & 15 & 11.1147 & 0.0821057 & 150000 & 11.0326 & 11.1968 & 7.40981e-5 \\\\\n",
       "\t17 & 10000 & 20 & 14.8881 & 0.111463 & 200000 & 14.7766 & 14.9995 & 7.44404e-5 \\\\\n",
       "\t18 & 10000 & 25 & 18.905 & 0.164986 & 250000 & 18.74 & 19.07 & 7.56199e-5 \\\\\n",
       "\\end{tabular}\n"
      ],
      "text/plain": [
       "\u001b[1m18×8 DataFrame\u001b[0m\n",
       "\u001b[1m Row \u001b[0m│\u001b[1m samplesize \u001b[0m\u001b[1m obssize \u001b[0m\u001b[1m fittime     \u001b[0m\u001b[1m se            \u001b[0m\u001b[1m nobs   \u001b[0m\u001b[1m fitmin      \u001b[0m\u001b[1m f\u001b[0m ⋯\n",
       "\u001b[1m     \u001b[0m│\u001b[90m String     \u001b[0m\u001b[90m String  \u001b[0m\u001b[90m Float64     \u001b[0m\u001b[90m Float64       \u001b[0m\u001b[90m Int64  \u001b[0m\u001b[90m Float64     \u001b[0m\u001b[90m F\u001b[0m ⋯\n",
       "─────┼──────────────────────────────────────────────────────────────────────────\n",
       "   1 │ 100         2        NaN          NaN               200  NaN          N ⋯\n",
       "   2 │ 100         5          0.0529597    0.0050773       500    0.0478824\n",
       "   3 │ 100         10         0.0772468    0.0045613      1000    0.0726855\n",
       "   4 │ 100         15         0.105336     0.000997361    1500    0.104339\n",
       "   5 │ 100         20         0.168277     0.0120335      2000    0.156243     ⋯\n",
       "   6 │ 100         25         0.18631      0.00880232     2500    0.177508\n",
       "   7 │ 1000        2        NaN          NaN              2000  NaN          N\n",
       "   8 │ 1000        5        NaN          NaN              5000  NaN          N\n",
       "   9 │ 1000        10       NaN          NaN             10000  NaN          N ⋯\n",
       "  10 │ 1000        15       NaN          NaN             15000  NaN          N\n",
       "  11 │ 1000        20         1.63097      0.0122199     20000    1.61875\n",
       "  12 │ 1000        25         2.08756      0.018991      25000    2.06857\n",
       "  13 │ 10000       2        NaN          NaN             20000  NaN          N ⋯\n",
       "  14 │ 10000       5        NaN          NaN             50000  NaN          N\n",
       "  15 │ 10000       10       NaN          NaN            100000  NaN          N\n",
       "  16 │ 10000       15        11.1147       0.0821057    150000   11.0326\n",
       "  17 │ 10000       20        14.8881       0.111463     200000   14.7766       ⋯\n",
       "  18 │ 10000       25        18.905        0.164986     250000   18.74\n",
       "\u001b[36m                                                               2 columns omitted\u001b[0m"
      ]
     },
     "execution_count": 7,
     "metadata": {},
     "output_type": "execute_result"
    }
   ],
   "source": [
    "#simulation parameters\n",
    "@info \"making results table GLMM\"\n",
    "sample_sizes = repeat(string.(samplesizes), inner = nsims * length(ns))\n",
    "obs_sizes = repeat(string.(ns), inner = nsims, outer = length(samplesizes))\n",
    "\n",
    "msedf = DataFrame(βmse = βMseresult, Σmse = ΣMseresult, \n",
    "    samplesize = sample_sizes, obssize = obs_sizes, fittimes = fittimes_GLMM)\n",
    "timedf2 = combine(groupby(msedf, [:samplesize, :obssize]), :fittimes => mean => :fittime,\n",
    "    :fittimes => x -> (std(x)/sqrt(length(x))))\n",
    "rename!(timedf2, Dict(:fittimes_function => \"se\"))\n",
    "timedf2[!, :nobs] = Meta.parse.(timedf2[!, :samplesize]) .* Meta.parse.(timedf2[!, :obssize])\n",
    "timedf2[!, :fitmin] = timedf2[!, :fittime] - timedf2[!, :se]\n",
    "timedf2[!, :fitmax] = timedf2[!, :fittime] + timedf2[!, :se]\n",
    "timedf2[!, :perobsratio] = timedf2[!, :fittime] ./ timedf2[!, :nobs]\n",
    "timedf2"
   ]
  },
  {
   "cell_type": "code",
   "execution_count": 8,
   "metadata": {},
   "outputs": [],
   "source": [
    "# ########### plot the runtimes\n",
    "# using RCall\n",
    "# @rput timedf1\n",
    "# @rput timedf2\n",
    "# R\"\"\"\n",
    "# library(ggplot2)\n",
    "# library(cowplot)\n",
    "# timedf1$obssize = factor(timedf1$obssize, levels = c('2', '5', '10', '15', '20', '25'))\n",
    "# timedf1$samplesize = factor(timedf1$samplesize, levels = c('100', '1000', '10000'))\n",
    "\n",
    "# fittime_1 = ggplot(timedf1, aes(x = samplesize, y = fittime, group = obssize, color = obssize)) + \n",
    "#   geom_line() +\n",
    "#   geom_point()+\n",
    "#   geom_errorbar(aes(ymin=fitmin, ymax=fitmax), width=0.5, alpha = 0.8, position=position_dodge(0.005)) + \n",
    "#   theme(legend.position=c(0.3,0.85), legend.key = element_blank(), axis.text.x = element_text(angle=0, size=13),\n",
    "#         axis.text.y = element_text(angle=0, size=13), axis.title.x = element_text(size = 17), \n",
    "#         axis.title.y = element_text(size = 17), legend.title = element_text(size = 14),\n",
    "#         #axis.ticks = element_blank(),\n",
    "#         panel.grid.major = element_blank(), legend.text=element_text(size=13),\n",
    "#         panel.border = element_blank(), panel.grid.minor = element_blank(), panel.background = element_blank(), \n",
    "#         axis.line = element_line(color = 'black',size=0.3), plot.title = element_text(hjust = 0.5)) + \n",
    "#    scale_color_manual(values = c(\"#c85f55\",\n",
    "# \"#a964bf\",\n",
    "# \"#8db352\",\n",
    "# \"#fa7300\",\n",
    "# \"#05aec0\",\n",
    "# \"#ff1493\")) +\n",
    "#   labs(x = \"Number of Individuals\", y = \"Fit time (seconds)\", color = \"Obs per Individual\")\n",
    "\n",
    "# timedf2$obssize = factor(timedf2$obssize, levels = c('2', '5', '10', '15', '20', '25'))\n",
    "# timedf2$samplesize = factor(timedf2$samplesize, levels = c('100', '1000', '10000'))\n",
    "\n",
    "# fittime_2 = ggplot(timedf2, aes(x = samplesize, y = fittime, group = obssize, color = obssize)) + \n",
    "#   geom_line() +\n",
    "#   geom_point()+\n",
    "#   geom_errorbar(aes(ymin=fitmin, ymax=fitmax), width=0.5, alpha = 0.8, position=position_dodge(0.005)) + \n",
    "#   theme(legend.position=c(0.3,0.85), legend.key = element_blank(), axis.text.x = element_text(angle=0, size=13),\n",
    "#         axis.text.y = element_text(angle=0, size=13), axis.title.x = element_text(size = 17), \n",
    "#         axis.title.y = element_text(size = 17), legend.title = element_text(size = 14),\n",
    "#         #axis.ticks = element_blank(),\n",
    "#         panel.grid.major = element_blank(), legend.text=element_text(size=13),\n",
    "#         panel.border = element_blank(), panel.grid.minor = element_blank(), panel.background = element_blank(), \n",
    "#         axis.line = element_line(color = 'black',size=0.3), plot.title = element_text(hjust = 0.5)) + \n",
    "#    scale_color_manual(values = c(\"#c85f55\",\n",
    "# \"#a964bf\",\n",
    "# \"#8db352\",\n",
    "# \"#fa7300\",\n",
    "# \"#05aec0\",\n",
    "# \"#ff1493\")) +\n",
    "#   labs(x = \"Number of Individuals\", y = \"Fit time (seconds)\", color = \"Obs per Individual\")\n",
    "\n",
    "# fittime_nsamples = plot_grid(fittime_1, fittime_2, labels = c(\"Quasi-Copula\", \"GLMM\"))\n",
    "# \"\"\"\n",
    "\n",
    "# R\"\"\"\n",
    "# ggsave('fittime_nsamples_poisson_vs_glmm.png', fittime_nsamples, width = 15, height = 17, units = 'in', dpi = 450)\n",
    "# \"\"\""
   ]
  },
  {
   "cell_type": "code",
   "execution_count": 9,
   "metadata": {},
   "outputs": [],
   "source": [
    "# using RCall\n",
    "# @rput timedf1\n",
    "# @rput timedf2\n",
    "\n",
    "# R\"\"\"\n",
    "# library(scales)\n",
    "# library(ggplot2)\n",
    "# timedf1$obssize <- factor(timedf1$obssize, levels = c('2', '5', '10', '20', '50'))\n",
    "# timedf1$samplesize <- factor(timedf1$samplesize, levels = c('1000', '10000', '100000'))\n",
    "\n",
    "# fancy_scientific <- function(l) {\n",
    "#      # turn in to character string in scientific notation\n",
    "#      l <- format(l, scientific = TRUE)\n",
    "#      # quote the part before the exponent to keep all the digits\n",
    "#      l <- gsub(\"^(.*)e\", \"'\\\\1'e\", l)\n",
    "#      # turn the 'e+' into plotmath format\n",
    "#      l <- gsub(\"e\", \"%*%10^\", l)\n",
    "#      # return this as an expression\n",
    "#      parse(text=l)\n",
    "# }\n",
    "\n",
    "# fittimeperobs1 = ggplot(timedf1, aes(x=nobs, y=perobsratio)) + \n",
    "#   geom_line() +\n",
    "#   geom_point()+\n",
    "# #  geom_errorbar(aes(ymin=fitmin, ymax=fitmax), width=0.5, alpha = 0.8, position=position_dodge(0.005)) + \n",
    "#   theme(legend.position=c(0.15,0.8), legend.key = element_blank(), axis.text.x = element_text(angle=0, size=13),\n",
    "#         axis.text.y = element_text(angle=0, size=13), axis.title.x = element_text(size = 17), \n",
    "#         axis.title.y = element_text(size = 17), legend.title = element_text(size = 14),\n",
    "#         #axis.ticks = element_blank(),\n",
    "#         panel.grid.major = element_blank(), legend.text=element_text(size=11),\n",
    "#         panel.border = element_blank(), panel.grid.minor = element_blank(), panel.background = element_blank(), \n",
    "#         axis.line = element_line(color = 'black',size=0.3), plot.title = element_text(hjust = 0.5)) + \n",
    "#   labs(x = \"Total Number of Observations\", y = \"Fit time per observation (seconds)\", color = \"Obs per Individual\") +\n",
    "# #scale_x_log10(breaks = 10^seq(0, 7, 1), labels=trans_format(\"log10\", math_format(10^.x)))# + #, limit=c(10^0, 10^7))\n",
    "# scale_x_continuous(breaks = seq(0, 6000000, 1000000), labels= fancy_scientific) +\n",
    "# scale_y_continuous(breaks = c(10^-5, 2 * 10^-5, 3 * 10^-5, 4 * 10^-5, 5 * 10^-5, 6 * 10^-5, 7  * 10^-5, 8  * 10^-5 , 9  * 10^-5, 10^-4), labels= fancy_scientific)\n",
    "\n",
    "# # glmm fit times\n",
    "# timedf2$obssize <- factor(timedf2$obssize, levels = c('2', '5', '10', '20', '50'))\n",
    "# timedf2$samplesize <- factor(timedf2$samplesize, levels = c('1000', '10000', '100000'))\n",
    "\n",
    "# fancy_scientific <- function(l) {\n",
    "#      # turn in to character string in scientific notation\n",
    "#      l <- format(l, scientific = TRUE)\n",
    "#      # quote the part before the exponent to keep all the digits\n",
    "#      l <- gsub(\"^(.*)e\", \"'\\\\1'e\", l)\n",
    "#      # turn the 'e+' into plotmath format\n",
    "#      l <- gsub(\"e\", \"%*%10^\", l)\n",
    "#      # return this as an expression\n",
    "#      parse(text=l)\n",
    "# }\n",
    "\n",
    "# fittimeperobs2 = ggplot(timedf2, aes(x=nobs, y=perobsratio)) + \n",
    "#   geom_line() +\n",
    "#   geom_point()+\n",
    "# #  geom_errorbar(aes(ymin=fitmin, ymax=fitmax), width=0.5, alpha = 0.8, position=position_dodge(0.005)) + \n",
    "#   theme(legend.position=c(0.15,0.8), legend.key = element_blank(), axis.text.x = element_text(angle=0, size=13),\n",
    "#         axis.text.y = element_text(angle=0, size=13), axis.title.x = element_text(size = 17), \n",
    "#         axis.title.y = element_text(size = 17), legend.title = element_text(size = 14),\n",
    "#         #axis.ticks = element_blank(),\n",
    "#         panel.grid.major = element_blank(), legend.text=element_text(size=11),\n",
    "#         panel.border = element_blank(), panel.grid.minor = element_blank(), panel.background = element_blank(), \n",
    "#         axis.line = element_line(color = 'black',size=0.3), plot.title = element_text(hjust = 0.5)) + \n",
    "#   labs(x = \"Total Number of Observations\", y = \"Fit time per observation (seconds)\", color = \"Obs per Individual\") +\n",
    "# #scale_x_log10(breaks = 10^seq(0, 7, 1), labels=trans_format(\"log10\", math_format(10^.x)))# + #, limit=c(10^0, 10^7))\n",
    "# scale_x_continuous(breaks = seq(0, 6000000, 1000000), labels= fancy_scientific) +\n",
    "# scale_y_continuous(breaks = c(10^-5, 2 * 10^-5, 3 * 10^-5, 4 * 10^-5, 5 * 10^-5, 6 * 10^-5, 7  * 10^-5, 8  * 10^-5 , 9  * 10^-5, 10^-4), labels= fancy_scientific)\n",
    "\n",
    "# fittime_perobs = plot_grid(fittimeperobs1, fittimeperobs2, labels = c(\"Quasi-Copula\", \"GLMM\"))\n",
    "\n",
    "# \"\"\"\n",
    "\n",
    "# R\"\"\"\n",
    "# ggsave('fittime_perobs_poisson_vs_glmm.png', fittime_perobs, width = 12.5, height = 15, units = 'in', dpi = 450)\n",
    "# \"\"\""
   ]
  },
  {
   "cell_type": "code",
   "execution_count": 10,
   "metadata": {},
   "outputs": [
    {
     "data": {
      "text/html": [
       "<div class=\"data-frame\"><p>18 rows × 5 columns</p><table class=\"data-frame\"><thead><tr><th></th><th>people_obs</th><th>β1</th><th>β2</th><th>β3</th><th>Σ1</th></tr><tr><th></th><th title=\"String\">String</th><th title=\"Tuple{Float64, Float64}\">Tuple…</th><th title=\"Tuple{Float64, Float64}\">Tuple…</th><th title=\"Tuple{Float64, Float64}\">Tuple…</th><th title=\"Tuple{Float64, Float64}\">Tuple…</th></tr></thead><tbody><tr><th>1</th><td>N: 100  ni: 2</td><td>(0.8, 0.0402015)</td><td>(0.58, 0.0496045)</td><td>(0.76, 0.0429235)</td><td>(0.95, 0.0219043)</td></tr><tr><th>2</th><td>N: 100  ni: 5</td><td>(0.87, 0.0337998)</td><td>(0.61, 0.0490207)</td><td>(0.8, 0.0402015)</td><td>(0.92, 0.027266)</td></tr><tr><th>3</th><td>N: 100  ni: 10</td><td>(0.8, 0.0402015)</td><td>(0.68, 0.0468826)</td><td>(0.8, 0.0402015)</td><td>(0.96, 0.0196946)</td></tr><tr><th>4</th><td>N: 100  ni: 15</td><td>(0.7, 0.0460566)</td><td>(0.64, 0.0482418)</td><td>(0.8, 0.0402015)</td><td>(0.96, 0.0196946)</td></tr><tr><th>5</th><td>N: 100  ni: 20</td><td>(0.56, 0.0498888)</td><td>(0.59, 0.0494311)</td><td>(0.78, 0.0416333)</td><td>(0.96, 0.0196946)</td></tr><tr><th>6</th><td>N: 100  ni: 25</td><td>(0.61, 0.0490207)</td><td>(0.71, 0.0456048)</td><td>(0.84, 0.0368453)</td><td>(0.94, 0.0238683)</td></tr><tr><th>7</th><td>N: 1000  ni: 2</td><td>(0.89, 0.0314466)</td><td>(0.44, 0.0498888)</td><td>(0.64, 0.0482418)</td><td>(0.9, 0.0301511)</td></tr><tr><th>8</th><td>N: 1000  ni: 5</td><td>(0.67, 0.0472582)</td><td>(0.58, 0.0496045)</td><td>(0.75, 0.0435194)</td><td>(0.94, 0.0238683)</td></tr><tr><th>9</th><td>N: 1000  ni: 10</td><td>(0.32, 0.0468826)</td><td>(0.55, 0.05)</td><td>(0.71, 0.0456048)</td><td>(0.9, 0.0301511)</td></tr><tr><th>10</th><td>N: 1000  ni: 15</td><td>(0.13, 0.0337998)</td><td>(0.48, 0.0502117)</td><td>(0.66, 0.0476095)</td><td>(0.89, 0.0314466)</td></tr><tr><th>11</th><td>N: 1000  ni: 20</td><td>(0.15, 0.035887)</td><td>(0.57, 0.049757)</td><td>(0.56, 0.0498888)</td><td>(0.9, 0.0301511)</td></tr><tr><th>12</th><td>N: 1000  ni: 25</td><td>(0.07, 0.0256432)</td><td>(0.47, 0.0501614)</td><td>(0.63, 0.0485237)</td><td>(0.89, 0.0314466)</td></tr><tr><th>13</th><td>N: 10000  ni: 2</td><td>(0.34, 0.0476095)</td><td>(0.28, 0.0451261)</td><td>(0.31, 0.0464823)</td><td>(0.61, 0.0490207)</td></tr><tr><th>14</th><td>N: 10000  ni: 5</td><td>(0.07, 0.0256432)</td><td>(0.29, 0.0456048)</td><td>(0.21, 0.040936)</td><td>(0.47, 0.0501614)</td></tr><tr><th>15</th><td>N: 10000  ni: 10</td><td>(0.0, 0.0)</td><td>(0.08, 0.027266)</td><td>(0.07, 0.0256432)</td><td>(0.28, 0.0451261)</td></tr><tr><th>16</th><td>N: 10000  ni: 15</td><td>(0.0, 0.0)</td><td>(0.01, 0.01)</td><td>(0.02, 0.0140705)</td><td>(0.33, 0.0472582)</td></tr><tr><th>17</th><td>N: 10000  ni: 20</td><td>(0.0, 0.0)</td><td>(0.02, 0.0140705)</td><td>(0.0, 0.0)</td><td>(0.29, 0.0456048)</td></tr><tr><th>18</th><td>N: 10000  ni: 25</td><td>(0.0, 0.0)</td><td>(0.01, 0.01)</td><td>(0.0, 0.0)</td><td>(0.27, 0.0446196)</td></tr></tbody></table></div>"
      ],
      "text/latex": [
       "\\begin{tabular}{r|ccccc}\n",
       "\t& people\\_obs & β1 & β2 & β3 & Σ1\\\\\n",
       "\t\\hline\n",
       "\t& String & Tuple… & Tuple… & Tuple… & Tuple…\\\\\n",
       "\t\\hline\n",
       "\t1 & N: 100  ni: 2 & (0.8, 0.0402015) & (0.58, 0.0496045) & (0.76, 0.0429235) & (0.95, 0.0219043) \\\\\n",
       "\t2 & N: 100  ni: 5 & (0.87, 0.0337998) & (0.61, 0.0490207) & (0.8, 0.0402015) & (0.92, 0.027266) \\\\\n",
       "\t3 & N: 100  ni: 10 & (0.8, 0.0402015) & (0.68, 0.0468826) & (0.8, 0.0402015) & (0.96, 0.0196946) \\\\\n",
       "\t4 & N: 100  ni: 15 & (0.7, 0.0460566) & (0.64, 0.0482418) & (0.8, 0.0402015) & (0.96, 0.0196946) \\\\\n",
       "\t5 & N: 100  ni: 20 & (0.56, 0.0498888) & (0.59, 0.0494311) & (0.78, 0.0416333) & (0.96, 0.0196946) \\\\\n",
       "\t6 & N: 100  ni: 25 & (0.61, 0.0490207) & (0.71, 0.0456048) & (0.84, 0.0368453) & (0.94, 0.0238683) \\\\\n",
       "\t7 & N: 1000  ni: 2 & (0.89, 0.0314466) & (0.44, 0.0498888) & (0.64, 0.0482418) & (0.9, 0.0301511) \\\\\n",
       "\t8 & N: 1000  ni: 5 & (0.67, 0.0472582) & (0.58, 0.0496045) & (0.75, 0.0435194) & (0.94, 0.0238683) \\\\\n",
       "\t9 & N: 1000  ni: 10 & (0.32, 0.0468826) & (0.55, 0.05) & (0.71, 0.0456048) & (0.9, 0.0301511) \\\\\n",
       "\t10 & N: 1000  ni: 15 & (0.13, 0.0337998) & (0.48, 0.0502117) & (0.66, 0.0476095) & (0.89, 0.0314466) \\\\\n",
       "\t11 & N: 1000  ni: 20 & (0.15, 0.035887) & (0.57, 0.049757) & (0.56, 0.0498888) & (0.9, 0.0301511) \\\\\n",
       "\t12 & N: 1000  ni: 25 & (0.07, 0.0256432) & (0.47, 0.0501614) & (0.63, 0.0485237) & (0.89, 0.0314466) \\\\\n",
       "\t13 & N: 10000  ni: 2 & (0.34, 0.0476095) & (0.28, 0.0451261) & (0.31, 0.0464823) & (0.61, 0.0490207) \\\\\n",
       "\t14 & N: 10000  ni: 5 & (0.07, 0.0256432) & (0.29, 0.0456048) & (0.21, 0.040936) & (0.47, 0.0501614) \\\\\n",
       "\t15 & N: 10000  ni: 10 & (0.0, 0.0) & (0.08, 0.027266) & (0.07, 0.0256432) & (0.28, 0.0451261) \\\\\n",
       "\t16 & N: 10000  ni: 15 & (0.0, 0.0) & (0.01, 0.01) & (0.02, 0.0140705) & (0.33, 0.0472582) \\\\\n",
       "\t17 & N: 10000  ni: 20 & (0.0, 0.0) & (0.02, 0.0140705) & (0.0, 0.0) & (0.29, 0.0456048) \\\\\n",
       "\t18 & N: 10000  ni: 25 & (0.0, 0.0) & (0.01, 0.01) & (0.0, 0.0) & (0.27, 0.0446196) \\\\\n",
       "\\end{tabular}\n"
      ],
      "text/plain": [
       "\u001b[1m18×5 DataFrame\u001b[0m\n",
       "\u001b[1m Row \u001b[0m│\u001b[1m people_obs       \u001b[0m\u001b[1m β1                \u001b[0m\u001b[1m β2                \u001b[0m\u001b[1m β3             \u001b[0m ⋯\n",
       "\u001b[1m     \u001b[0m│\u001b[90m String           \u001b[0m\u001b[90m Tuple…            \u001b[0m\u001b[90m Tuple…            \u001b[0m\u001b[90m Tuple…         \u001b[0m ⋯\n",
       "─────┼──────────────────────────────────────────────────────────────────────────\n",
       "   1 │ N: 100  ni: 2     (0.8, 0.0402015)   (0.58, 0.0496045)  (0.76, 0.042923 ⋯\n",
       "   2 │ N: 100  ni: 5     (0.87, 0.0337998)  (0.61, 0.0490207)  (0.8, 0.0402015\n",
       "   3 │ N: 100  ni: 10    (0.8, 0.0402015)   (0.68, 0.0468826)  (0.8, 0.0402015\n",
       "   4 │ N: 100  ni: 15    (0.7, 0.0460566)   (0.64, 0.0482418)  (0.8, 0.0402015\n",
       "   5 │ N: 100  ni: 20    (0.56, 0.0498888)  (0.59, 0.0494311)  (0.78, 0.041633 ⋯\n",
       "   6 │ N: 100  ni: 25    (0.61, 0.0490207)  (0.71, 0.0456048)  (0.84, 0.036845\n",
       "   7 │ N: 1000  ni: 2    (0.89, 0.0314466)  (0.44, 0.0498888)  (0.64, 0.048241\n",
       "   8 │ N: 1000  ni: 5    (0.67, 0.0472582)  (0.58, 0.0496045)  (0.75, 0.043519\n",
       "   9 │ N: 1000  ni: 10   (0.32, 0.0468826)  (0.55, 0.05)       (0.71, 0.045604 ⋯\n",
       "  10 │ N: 1000  ni: 15   (0.13, 0.0337998)  (0.48, 0.0502117)  (0.66, 0.047609\n",
       "  11 │ N: 1000  ni: 20   (0.15, 0.035887)   (0.57, 0.049757)   (0.56, 0.049888\n",
       "  12 │ N: 1000  ni: 25   (0.07, 0.0256432)  (0.47, 0.0501614)  (0.63, 0.048523\n",
       "  13 │ N: 10000  ni: 2   (0.34, 0.0476095)  (0.28, 0.0451261)  (0.31, 0.046482 ⋯\n",
       "  14 │ N: 10000  ni: 5   (0.07, 0.0256432)  (0.29, 0.0456048)  (0.21, 0.040936\n",
       "  15 │ N: 10000  ni: 10  (0.0, 0.0)         (0.08, 0.027266)   (0.07, 0.025643\n",
       "  16 │ N: 10000  ni: 15  (0.0, 0.0)         (0.01, 0.01)       (0.02, 0.014070\n",
       "  17 │ N: 10000  ni: 20  (0.0, 0.0)         (0.02, 0.0140705)  (0.0, 0.0)      ⋯\n",
       "  18 │ N: 10000  ni: 25  (0.0, 0.0)         (0.01, 0.01)       (0.0, 0.0)\n",
       "\u001b[36m                                                               2 columns omitted\u001b[0m"
      ]
     },
     "execution_count": 10,
     "metadata": {},
     "output_type": "execute_result"
    }
   ],
   "source": [
    "######  supplementary table s1\n",
    "using Random, DataFrames, DelimitedFiles, Statistics\n",
    "import StatsBase: sem\n",
    "\n",
    "βΣcoverage = readdlm(\"beta_sigma_coverage_multivariate_poisson_vcm$(nsims)reps_sim.csv\", ',')\n",
    "\n",
    "m  = 1\n",
    "\n",
    "covdf = DataFrame(Matrix(transpose(βΣcoverage)), :auto)\n",
    "rename!(covdf, Symbol.([[\"β$i\" for i in 1:p]; [\"Σ$i\" for i in 1:m]]))\n",
    "covdf[!, :samplesize] = sample_sizes\n",
    "covdf[!, :obssize] = obs_sizes\n",
    "first(covdf, 10)\n",
    "\n",
    "row_stats = [[(mean(col), sem(col)) for col = eachcol(d[!, 1:end-2])] for d = groupby(covdf, [:samplesize; :obssize])]\n",
    "df = DataFrame(row_stats, :auto)\n",
    "ss_obs = unique(\"N: \" .* sample_sizes .* \"  ni: \" .* obs_sizes)\n",
    "rename!(df, Symbol.(ss_obs))\n",
    "covdfdisplay = DataFrame([[names(df)]; collect.(eachrow(df))], \n",
    "    [:people_obs; Symbol.([[\"β$i\" for i in 1:p]; [\"Σ$i\" for i in 1:m]])])\n",
    "# deletecols!(covdfdisplay, p + 2)\n",
    "covdfdisplay\n"
   ]
  },
  {
   "cell_type": "code",
   "execution_count": 11,
   "metadata": {},
   "outputs": [
    {
     "data": {
      "text/html": [
       "<div class=\"data-frame\"><p>7,060 rows × 5 columns</p><table class=\"data-frame\"><thead><tr><th></th><th>mse</th><th>obssize</th><th>samplesize</th><th>parameters</th><th>robust</th></tr><tr><th></th><th title=\"Float64\">Float64</th><th title=\"String\">String</th><th title=\"String\">String</th><th title=\"String\">String</th><th title=\"String\">String</th></tr></thead><tbody><tr><th>1</th><td>0.00264974</td><td>2</td><td>100</td><td>beta</td><td>Poisson Quasi-Copula</td></tr><tr><th>2</th><td>0.0015374</td><td>2</td><td>100</td><td>beta</td><td>Poisson Quasi-Copula</td></tr><tr><th>3</th><td>0.000202976</td><td>2</td><td>100</td><td>beta</td><td>Poisson Quasi-Copula</td></tr><tr><th>4</th><td>1.54881e-5</td><td>2</td><td>100</td><td>beta</td><td>Poisson Quasi-Copula</td></tr><tr><th>5</th><td>0.00223349</td><td>2</td><td>100</td><td>beta</td><td>Poisson Quasi-Copula</td></tr><tr><th>6</th><td>0.00593353</td><td>2</td><td>100</td><td>beta</td><td>Poisson Quasi-Copula</td></tr><tr><th>7</th><td>0.00138477</td><td>2</td><td>100</td><td>beta</td><td>Poisson Quasi-Copula</td></tr><tr><th>8</th><td>0.000122743</td><td>2</td><td>100</td><td>beta</td><td>Poisson Quasi-Copula</td></tr><tr><th>9</th><td>0.000524323</td><td>2</td><td>100</td><td>beta</td><td>Poisson Quasi-Copula</td></tr><tr><th>10</th><td>0.00318771</td><td>2</td><td>100</td><td>beta</td><td>Poisson Quasi-Copula</td></tr><tr><th>11</th><td>0.000377787</td><td>2</td><td>100</td><td>beta</td><td>Poisson Quasi-Copula</td></tr><tr><th>12</th><td>0.000729062</td><td>2</td><td>100</td><td>beta</td><td>Poisson Quasi-Copula</td></tr><tr><th>13</th><td>0.0028798</td><td>2</td><td>100</td><td>beta</td><td>Poisson Quasi-Copula</td></tr><tr><th>14</th><td>0.00419478</td><td>2</td><td>100</td><td>beta</td><td>Poisson Quasi-Copula</td></tr><tr><th>15</th><td>0.000503207</td><td>2</td><td>100</td><td>beta</td><td>Poisson Quasi-Copula</td></tr><tr><th>16</th><td>0.000304226</td><td>2</td><td>100</td><td>beta</td><td>Poisson Quasi-Copula</td></tr><tr><th>17</th><td>0.00717341</td><td>2</td><td>100</td><td>beta</td><td>Poisson Quasi-Copula</td></tr><tr><th>18</th><td>0.000716738</td><td>2</td><td>100</td><td>beta</td><td>Poisson Quasi-Copula</td></tr><tr><th>19</th><td>0.00027011</td><td>2</td><td>100</td><td>beta</td><td>Poisson Quasi-Copula</td></tr><tr><th>20</th><td>0.00127136</td><td>2</td><td>100</td><td>beta</td><td>Poisson Quasi-Copula</td></tr><tr><th>21</th><td>0.000222122</td><td>2</td><td>100</td><td>beta</td><td>Poisson Quasi-Copula</td></tr><tr><th>22</th><td>0.000497168</td><td>2</td><td>100</td><td>beta</td><td>Poisson Quasi-Copula</td></tr><tr><th>23</th><td>0.000533677</td><td>2</td><td>100</td><td>beta</td><td>Poisson Quasi-Copula</td></tr><tr><th>24</th><td>0.00583152</td><td>2</td><td>100</td><td>beta</td><td>Poisson Quasi-Copula</td></tr><tr><th>25</th><td>0.000461727</td><td>2</td><td>100</td><td>beta</td><td>Poisson Quasi-Copula</td></tr><tr><th>26</th><td>0.0028555</td><td>2</td><td>100</td><td>beta</td><td>Poisson Quasi-Copula</td></tr><tr><th>27</th><td>0.00208207</td><td>2</td><td>100</td><td>beta</td><td>Poisson Quasi-Copula</td></tr><tr><th>28</th><td>0.00173764</td><td>2</td><td>100</td><td>beta</td><td>Poisson Quasi-Copula</td></tr><tr><th>29</th><td>0.00513786</td><td>2</td><td>100</td><td>beta</td><td>Poisson Quasi-Copula</td></tr><tr><th>30</th><td>0.00245059</td><td>2</td><td>100</td><td>beta</td><td>Poisson Quasi-Copula</td></tr><tr><th>&vellip;</th><td>&vellip;</td><td>&vellip;</td><td>&vellip;</td><td>&vellip;</td><td>&vellip;</td></tr></tbody></table></div>"
      ],
      "text/latex": [
       "\\begin{tabular}{r|ccccc}\n",
       "\t& mse & obssize & samplesize & parameters & robust\\\\\n",
       "\t\\hline\n",
       "\t& Float64 & String & String & String & String\\\\\n",
       "\t\\hline\n",
       "\t1 & 0.00264974 & 2 & 100 & beta & Poisson Quasi-Copula \\\\\n",
       "\t2 & 0.0015374 & 2 & 100 & beta & Poisson Quasi-Copula \\\\\n",
       "\t3 & 0.000202976 & 2 & 100 & beta & Poisson Quasi-Copula \\\\\n",
       "\t4 & 1.54881e-5 & 2 & 100 & beta & Poisson Quasi-Copula \\\\\n",
       "\t5 & 0.00223349 & 2 & 100 & beta & Poisson Quasi-Copula \\\\\n",
       "\t6 & 0.00593353 & 2 & 100 & beta & Poisson Quasi-Copula \\\\\n",
       "\t7 & 0.00138477 & 2 & 100 & beta & Poisson Quasi-Copula \\\\\n",
       "\t8 & 0.000122743 & 2 & 100 & beta & Poisson Quasi-Copula \\\\\n",
       "\t9 & 0.000524323 & 2 & 100 & beta & Poisson Quasi-Copula \\\\\n",
       "\t10 & 0.00318771 & 2 & 100 & beta & Poisson Quasi-Copula \\\\\n",
       "\t11 & 0.000377787 & 2 & 100 & beta & Poisson Quasi-Copula \\\\\n",
       "\t12 & 0.000729062 & 2 & 100 & beta & Poisson Quasi-Copula \\\\\n",
       "\t13 & 0.0028798 & 2 & 100 & beta & Poisson Quasi-Copula \\\\\n",
       "\t14 & 0.00419478 & 2 & 100 & beta & Poisson Quasi-Copula \\\\\n",
       "\t15 & 0.000503207 & 2 & 100 & beta & Poisson Quasi-Copula \\\\\n",
       "\t16 & 0.000304226 & 2 & 100 & beta & Poisson Quasi-Copula \\\\\n",
       "\t17 & 0.00717341 & 2 & 100 & beta & Poisson Quasi-Copula \\\\\n",
       "\t18 & 0.000716738 & 2 & 100 & beta & Poisson Quasi-Copula \\\\\n",
       "\t19 & 0.00027011 & 2 & 100 & beta & Poisson Quasi-Copula \\\\\n",
       "\t20 & 0.00127136 & 2 & 100 & beta & Poisson Quasi-Copula \\\\\n",
       "\t21 & 0.000222122 & 2 & 100 & beta & Poisson Quasi-Copula \\\\\n",
       "\t22 & 0.000497168 & 2 & 100 & beta & Poisson Quasi-Copula \\\\\n",
       "\t23 & 0.000533677 & 2 & 100 & beta & Poisson Quasi-Copula \\\\\n",
       "\t24 & 0.00583152 & 2 & 100 & beta & Poisson Quasi-Copula \\\\\n",
       "\t25 & 0.000461727 & 2 & 100 & beta & Poisson Quasi-Copula \\\\\n",
       "\t26 & 0.0028555 & 2 & 100 & beta & Poisson Quasi-Copula \\\\\n",
       "\t27 & 0.00208207 & 2 & 100 & beta & Poisson Quasi-Copula \\\\\n",
       "\t28 & 0.00173764 & 2 & 100 & beta & Poisson Quasi-Copula \\\\\n",
       "\t29 & 0.00513786 & 2 & 100 & beta & Poisson Quasi-Copula \\\\\n",
       "\t30 & 0.00245059 & 2 & 100 & beta & Poisson Quasi-Copula \\\\\n",
       "\t$\\dots$ & $\\dots$ & $\\dots$ & $\\dots$ & $\\dots$ & $\\dots$ \\\\\n",
       "\\end{tabular}\n"
      ],
      "text/plain": [
       "\u001b[1m7060×5 DataFrame\u001b[0m\n",
       "\u001b[1m  Row \u001b[0m│\u001b[1m mse         \u001b[0m\u001b[1m obssize \u001b[0m\u001b[1m samplesize \u001b[0m\u001b[1m parameters \u001b[0m\u001b[1m robust               \u001b[0m\n",
       "\u001b[1m      \u001b[0m│\u001b[90m Float64     \u001b[0m\u001b[90m String  \u001b[0m\u001b[90m String     \u001b[0m\u001b[90m String     \u001b[0m\u001b[90m String               \u001b[0m\n",
       "──────┼────────────────────────────────────────────────────────────────────\n",
       "    1 │ 0.00264974   2        100         beta        Poisson Quasi-Copula\n",
       "    2 │ 0.0015374    2        100         beta        Poisson Quasi-Copula\n",
       "    3 │ 0.000202976  2        100         beta        Poisson Quasi-Copula\n",
       "    4 │ 1.54881e-5   2        100         beta        Poisson Quasi-Copula\n",
       "    5 │ 0.00223349   2        100         beta        Poisson Quasi-Copula\n",
       "    6 │ 0.00593353   2        100         beta        Poisson Quasi-Copula\n",
       "    7 │ 0.00138477   2        100         beta        Poisson Quasi-Copula\n",
       "    8 │ 0.000122743  2        100         beta        Poisson Quasi-Copula\n",
       "    9 │ 0.000524323  2        100         beta        Poisson Quasi-Copula\n",
       "   10 │ 0.00318771   2        100         beta        Poisson Quasi-Copula\n",
       "   11 │ 0.000377787  2        100         beta        Poisson Quasi-Copula\n",
       "  ⋮   │      ⋮          ⋮         ⋮           ⋮                ⋮\n",
       " 7051 │ 0.00869308   25       10000       Sigma       Poisson GLMM\n",
       " 7052 │ 0.00873867   25       10000       Sigma       Poisson GLMM\n",
       " 7053 │ 0.00875459   25       10000       Sigma       Poisson GLMM\n",
       " 7054 │ 0.00870524   25       10000       Sigma       Poisson GLMM\n",
       " 7055 │ 0.0087314    25       10000       Sigma       Poisson GLMM\n",
       " 7056 │ 0.00874324   25       10000       Sigma       Poisson GLMM\n",
       " 7057 │ 0.00878029   25       10000       Sigma       Poisson GLMM\n",
       " 7058 │ 0.0087736    25       10000       Sigma       Poisson GLMM\n",
       " 7059 │ 0.0086916    25       10000       Sigma       Poisson GLMM\n",
       " 7060 │ 0.00873732   25       10000       Sigma       Poisson GLMM\n",
       "\u001b[36m                                                          7039 rows omitted\u001b[0m"
      ]
     },
     "execution_count": 11,
     "metadata": {},
     "output_type": "execute_result"
    }
   ],
   "source": [
    "#### \n",
    "#import data and reorganize to create figure\n",
    "using Random, DataFrames, DelimitedFiles, Statistics, RCall, Printf\n",
    "import StatsBase: sem\n",
    "\n",
    "βMseresultpoisson = vec(readdlm(\"mse_beta_multivariate_poisson_vcm$(nsims)reps_sim.csv\", ','))\n",
    "ΣMseresultpoisson = vec(readdlm(\"mse_Sigma_multivariate_poisson_vcm$(nsims)reps_sim.csv\", ','))\n",
    "\n",
    "βMseresultpoisson_GLMM = vec(readdlm(\"mse_beta_GLMM_multivariate_poisson_vcm$(nsims)reps_sim.csv\", ','))\n",
    "ΣMseresultpoisson_GLMM = vec(readdlm(\"mse_Sigma_GLMM_multivariate_poisson_vcm$(nsims)reps_sim.csv\", ','))\n",
    "\n",
    "\n",
    "p = 3; m = 1\n",
    "sample_sizes = repeat(string.(samplesizes), inner = nsims * length(ns))\n",
    "obs_sizes = repeat(string.(ns), inner = nsims, outer = length(samplesizes))\n",
    "msedf1 = DataFrame(βmse = βMseresultpoisson, Σmse = ΣMseresultpoisson, \n",
    "    samplesize = sample_sizes, obssize = obs_sizes)\n",
    "\n",
    "msedf2 = DataFrame(βmse = βMseresultpoisson_GLMM, Σmse = ΣMseresultpoisson_GLMM, \n",
    "    samplesize = sample_sizes, obssize = obs_sizes)\n",
    "\n",
    "#rename to make parsing easier for R.\n",
    "\n",
    "msedf1 = deepcopy(msedf1)\n",
    "rename!(msedf1, [\"betamse\"\n",
    "    \"Sigmamse\"\n",
    "    \"samplesize\"\n",
    " \"obssize\"]);\n",
    "\n",
    "msedf2 = deepcopy(msedf2)\n",
    "rename!(msedf2, [\"betamse\"\n",
    "    \"Sigmamse\"\n",
    "    \"samplesize\"\n",
    " \"obssize\"]);\n",
    "\n",
    "mses = [msedf1[!, :betamse]; msedf1[!, :Sigmamse]; msedf2[!, :betamse]; msedf2[!, :Sigmamse]]\n",
    "    # msedfnormR[!, :betamse]; msedfnormR[!, :taumse]; msedfnormR[!, :Sigmamse]]\n",
    "obssize = [collect([repeat(msedf1[!, :obssize], 2)]...) ; collect([repeat(msedf2[!, :obssize], 2)]...)]\n",
    "#40\n",
    "samplesize = [collect([repeat(msedf1[!, :samplesize], 2)]...) ; collect([repeat(msedf2[!, :samplesize], 2)]...)]\n",
    "\n",
    "parameters = [collect([repeat(string.([:beta, :Sigma]), inner = nsims * length(ns) * length(samplesizes))]...) ; collect([repeat(string.([:beta, :Sigma]), inner = nsims * length(ns) * length(samplesizes))]...)]\n",
    "robust = [collect([repeat([\"Poisson Quasi-Copula\"], 2 * nsims * length(ns) * length(samplesizes))]...); collect([repeat([\"Poisson GLMM\"],  2 * nsims * length(ns) * length(samplesizes))]...)]\n",
    "\n",
    "msedfR = DataFrame(mse = mses, obssize = obssize, samplesize = samplesize,\n",
    "    parameters = parameters, robust = robust)\n",
    "\n",
    "#5 of the 30,000 simulations did not converge, filter out\n",
    "msedfR = filter(x -> !isnan(x.mse), msedfR)\n",
    "# additionally, there are 5 where an error was not caught so it did not try a differnt solver\n",
    "msedfR = filter(x -> x.mse < 40000, msedfR)"
   ]
  },
  {
   "cell_type": "code",
   "execution_count": 12,
   "metadata": {},
   "outputs": [
    {
     "name": "stderr",
     "output_type": "stream",
     "text": [
      "┌ Warning: RCall.jl: Warning: package ‘scales’ was built under R version 4.0.2\n",
      "└ @ RCall /Users/sarahji/.julia/packages/RCall/iMDW2/src/io.jl:160\n",
      "┌ Warning: RCall.jl: Warning: package ‘ggplot2’ was built under R version 4.0.2\n",
      "└ @ RCall /Users/sarahji/.julia/packages/RCall/iMDW2/src/io.jl:160\n",
      "┌ Warning: RCall.jl: Warning: package ‘data.table’ was built under R version 4.0.2\n",
      "└ @ RCall /Users/sarahji/.julia/packages/RCall/iMDW2/src/io.jl:160\n"
     ]
    },
    {
     "data": {
      "image/png": "[encoded data removed]"
     },
     "metadata": {},
     "output_type": "display_data"
    },
    {
     "data": {
      "text/plain": [
       "RObject{VecSxp}\n"
      ]
     },
     "execution_count": 12,
     "metadata": {},
     "output_type": "execute_result"
    }
   ],
   "source": [
    "### working on figure next\n",
    "@rput msedfR\n",
    "\n",
    "R\"\"\"\n",
    "library(scales)\n",
    "library(ggplot2)\n",
    "library(data.table)\n",
    "\n",
    "msedfR = data.table(msedfR)\n",
    "\n",
    "msedfR[parameters == \"beta\",y_min := 10^-8]\n",
    "msedfR[parameters == \"beta\",y_max := 10^-2]\n",
    "msedfR[parameters == \"Sigma\",y_min := 10^-5]\n",
    "msedfR[parameters == \"Sigma\",y_max := 10^1]\n",
    "\n",
    "#msedfR[parameters == \"beta\",y_min := 10^-8]\n",
    "#msedfR[parameters == \"beta\",y_max := 10^-2]\n",
    "#msedfR[parameters == \"tau\",y_min := 10^-8]\n",
    "#msedfR[parameters == \"tau\",y_max := 10^-2]\n",
    "#msedfR[parameters == \"Sigma\",y_min := 10^-5]\n",
    "#msedfR[parameters == \"Sigma\",y_max := 10^-2]\n",
    "\n",
    "\n",
    "msedfR$obssize = factor(msedfR$obssize, levels = c('2', '5', '10', '15', '20', '25'))\n",
    "msedfR$samplesize = factor(msedfR$samplesize, levels = c('100', '1000', '10000'))\n",
    "msedfR$parameters = factor(msedfR$parameters, levels = c('beta', 'Sigma'), labels = c(beta = expression(hat(bold(beta))), Sigma = expression(hat(bold(Sigma))[])))\n",
    "msedfR$robust <- factor(msedfR$robust, levels = c('Poisson Quasi-Copula', 'Poisson GLMM'),\n",
    "    labels = c(expression(paste(\"Poisson Quasi-Copula\")), expression(paste(\"Poisson GLMM\"))))\n",
    "\n",
    "\n",
    "#mseplot <- ggplot(msedfR[msedfR$mse < 10^0, ], aes(x=samplesize, y=mse, fill=obssize)) + \n",
    "mseplot = ggplot(msedfR[msedfR$mse < 10^3, ], aes(x=samplesize, y=mse, fill=obssize)) + \n",
    "  #geom_boxplot(outlier.size = 0.0, outlier.alpha = 0) +\n",
    "  geom_boxplot(outlier.size = 0.25) +\n",
    "#    geom_violin() +\n",
    "    facet_grid(parameters ~ robust, labeller = label_parsed, scales = \"free_y\") +\n",
    "  theme(legend.position=\"right\", legend.key = element_blank(), axis.text.x = element_text(angle=0, size=11),\n",
    "        axis.text.y = element_text(angle=0, size=12), axis.title.x = element_text(size = 15), \n",
    "        axis.title.y = element_text(size = 15), legend.title = element_text(size = 12),\n",
    "        panel.grid.major = element_blank(), panel.grid.minor = element_blank(),\n",
    "        legend.text=element_text(size=10), panel.background = element_rect(fill = NA, color = \"black\"),\n",
    "        #panel.background = element_blank(), #panel.border = element_blank(),\n",
    "        axis.line = element_line(color = 'black',size=0.3), plot.title = element_text(hjust = 0.5),\n",
    "        strip.background = element_rect(colour=\"black\", fill=\"white\"), strip.text.y = element_text(size=15, face=\"bold\"),\n",
    "        strip.text.x = element_text(size=15)) + \n",
    "  scale_fill_manual(values = c(\"#c85f55\",\n",
    "\"#a964bf\",\n",
    "\"#8db352\",\n",
    "\"#fa7300\",\n",
    "\"#05aec0\",\n",
    "\"#ff1493\")) +\n",
    "#scale_y_log10(breaks = scales::trans_breaks(\"log10\", function(x) 10^x)) +\n",
    "#scale_y_log10(breaks = 10^(-8:8), limit=c(10^-8, 10^2)) + \n",
    "scale_y_log10(breaks = 10^seq(-10, 10, 2), labels=trans_format(\"log10\", math_format(10^.x))) + #, limit=c(10^-8, 10^2)) +\n",
    "  labs(x = \"Number of Individuals\", y = \"MSE of Parameter Estimates\", fill = \"Obs per Individual\") +\n",
    "geom_blank(aes(y = y_max)) + \n",
    "geom_blank(aes(y = y_min)) \n",
    "\n",
    "\"\"\""
   ]
  },
  {
   "cell_type": "code",
   "execution_count": 13,
   "metadata": {},
   "outputs": [
    {
     "data": {
      "text/plain": [
       "RObject{StrSxp}\n",
       "[1] \"updated_msefacetplot_poisson.png\"\n"
      ]
     },
     "execution_count": 13,
     "metadata": {},
     "output_type": "execute_result"
    }
   ],
   "source": [
    "R\"\"\"\n",
    "ggsave('updated_msefacetplot_poisson.png', mseplot, width = 12.5, height = 15, units = 'in', dpi = 450)\n",
    "\"\"\""
   ]
  },
  {
   "cell_type": "code",
   "execution_count": null,
   "metadata": {},
   "outputs": [],
   "source": []
  },
  {
   "cell_type": "code",
   "execution_count": null,
   "metadata": {},
   "outputs": [],
   "source": []
  }
 ],
 "metadata": {
  "@webio": {
   "lastCommId": null,
   "lastKernelId": null
  },
  "kernelspec": {
   "display_name": "Julia 1.6.2",
   "language": "julia",
   "name": "julia-1.6"
  },
  "language_info": {
   "file_extension": ".jl",
   "mimetype": "application/julia",
   "name": "julia",
   "version": "1.6.2"
  }
 },
 "nbformat": 4,
 "nbformat_minor": 2
}
