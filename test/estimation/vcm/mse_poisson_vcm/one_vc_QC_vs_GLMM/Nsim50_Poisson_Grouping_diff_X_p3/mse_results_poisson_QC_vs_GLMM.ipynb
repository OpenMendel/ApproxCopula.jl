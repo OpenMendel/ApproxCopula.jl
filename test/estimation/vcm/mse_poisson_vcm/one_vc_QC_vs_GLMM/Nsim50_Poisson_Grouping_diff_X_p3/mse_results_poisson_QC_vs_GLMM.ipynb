{
 "cells": [
  {
   "cell_type": "markdown",
   "metadata": {},
   "source": [
    "## Poisson VCM Results \n",
    "\n",
    "This notebook goes over the code needed to reproduce the results from the MSE and time figures for the Poisson base distribution with Log Link and covariance matrix $\\Gamma$ structured under variance component model framework as follows:\n",
    "\n",
    "$$\n",
    "\\Gamma = \\sigma_1 * \\mathbf{1_{n} 1_{n}^\\top}\n",
    "$$\n",
    "\n",
    "We run each scenario 5 times and compare the fit with that of GLMM's random intercept model from MixedModels.jl. "
   ]
  },
  {
   "cell_type": "code",
   "execution_count": 1,
   "metadata": {},
   "outputs": [
    {
     "name": "stdout",
     "output_type": "stream",
     "text": [
      "Julia Version 1.6.2\n",
      "Commit 1b93d53fc4 (2021-07-14 15:36 UTC)\n",
      "Platform Info:\n",
      "  OS: macOS (x86_64-apple-darwin18.7.0)\n",
      "  CPU: Intel(R) Core(TM) i9-9880H CPU @ 2.30GHz\n",
      "  WORD_SIZE: 64\n",
      "  LIBM: libopenlibm\n",
      "  LLVM: libLLVM-11.0.1 (ORCJIT, skylake)\n"
     ]
    }
   ],
   "source": [
    "versioninfo()"
   ]
  },
  {
   "cell_type": "code",
   "execution_count": 2,
   "metadata": {},
   "outputs": [
    {
     "name": "stderr",
     "output_type": "stream",
     "text": [
      "┌ Info: Precompiling GLMCopula [c47b6ae2-b804-4668-9957-eb588c99ffbc]\n",
      "└ @ Base loading.jl:1342\n"
     ]
    }
   ],
   "source": [
    "using GLMCopula, DelimitedFiles, LinearAlgebra, Random, GLM\n",
    "using Random, Roots, SpecialFunctions, DataFrames"
   ]
  },
  {
   "cell_type": "code",
   "execution_count": 3,
   "metadata": {},
   "outputs": [
    {
     "data": {
      "text/plain": [
       "50"
      ]
     },
     "execution_count": 3,
     "metadata": {},
     "output_type": "execute_result"
    }
   ],
   "source": [
    "p = 3    # number of fixed effects, including intercept\n",
    "m = 1    # number of variance components\n",
    "# true parameter values\n",
    "βtrue = ones(p)\n",
    "Σtrue = [0.5]\n",
    "\n",
    "# generate data\n",
    "intervals = zeros(p + m, 2) #hold intervals\n",
    "curcoverage = zeros(p + m) #hold current coverage resutls\n",
    "trueparams = [βtrue; Σtrue] #hold true parameters\n",
    "\n",
    "#simulation parameters\n",
    "samplesizes = [1000; 10000; 100000]\n",
    "ns = [2; 5; 10; 20; 50]\n",
    "nsims = 50"
   ]
  },
  {
   "cell_type": "code",
   "execution_count": 4,
   "metadata": {},
   "outputs": [
    {
     "name": "stderr",
     "output_type": "stream",
     "text": [
      "┌ Info: reading in the files with results\n",
      "└ @ Main In[4]:1\n"
     ]
    },
    {
     "data": {
      "text/plain": [
       "750-element Vector{Float64}:\n",
       "   0.082370935\n",
       "   0.081128432\n",
       "   0.107628133\n",
       "   0.087959758\n",
       "   0.200774436\n",
       "   0.089785822\n",
       "   0.185327221\n",
       "   0.098323445\n",
       "   0.08737965\n",
       "   0.087250977\n",
       "   0.180576707\n",
       "   0.089371441\n",
       "   0.091996137\n",
       "   ⋮\n",
       "  99.65784105\n",
       "  83.473382459\n",
       "  81.936798415\n",
       " 202.728864864\n",
       "  89.416757878\n",
       " 106.606106127\n",
       " 106.660198969\n",
       "  95.622583015\n",
       "  79.78846759\n",
       " 107.316030041\n",
       " 103.131898392\n",
       " 137.846108112"
      ]
     },
     "execution_count": 4,
     "metadata": {},
     "output_type": "execute_result"
    }
   ],
   "source": [
    "@info \"reading in the files with results\"\n",
    "βMseresult = vec(readdlm(\"mse_beta_multivariate_poisson_vcm$(nsims)reps_sim.csv\", ','))\n",
    "ΣMseresult = vec(readdlm(\"mse_Sigma_multivariate_poisson_vcm$(nsims)reps_sim.csv\", ','))\n",
    "fittimes_QC = vec(readdlm(\"fittimes_multivariate_poisson_vcm$(nsims)reps_sim.csv\", ','))"
   ]
  },
  {
   "cell_type": "code",
   "execution_count": 5,
   "metadata": {},
   "outputs": [
    {
     "data": {
      "text/plain": [
       "750-element Vector{Float64}:\n",
       "   0.449594117\n",
       "   0.171725668\n",
       "   0.17357376\n",
       "   0.149966129\n",
       "   0.212376678\n",
       "   0.166136488\n",
       "   0.173839744\n",
       "   0.182783456\n",
       "   0.220149231\n",
       "   0.188772079\n",
       "   0.200102211\n",
       " NaN\n",
       "   0.197609689\n",
       "   ⋮\n",
       " 447.315192542\n",
       " 380.034322253\n",
       " 489.945220562\n",
       " 471.927352146\n",
       " 440.862357925\n",
       " 431.295404413\n",
       " 424.555236303\n",
       " 440.31637005\n",
       " 427.311417436\n",
       " 430.636878445\n",
       " 437.32567861\n",
       " 426.284961946"
      ]
     },
     "execution_count": 5,
     "metadata": {},
     "output_type": "execute_result"
    }
   ],
   "source": [
    "fittimes_GLMM = vec(readdlm(\"fittimes_GLMM_multivariate_poisson_vcm$(nsims)reps_sim.csv\", ','))"
   ]
  },
  {
   "cell_type": "code",
   "execution_count": 6,
   "metadata": {},
   "outputs": [
    {
     "name": "stderr",
     "output_type": "stream",
     "text": [
      "┌ Info: making results table Quasi-Copula\n",
      "└ @ Main In[6]:2\n"
     ]
    },
    {
     "data": {
      "text/html": [
       "<div class=\"data-frame\"><p>15 rows × 8 columns</p><table class=\"data-frame\"><thead><tr><th></th><th>samplesize</th><th>obssize</th><th>fittime</th><th>se</th><th>nobs</th><th>fitmin</th><th>fitmax</th><th>perobsratio</th></tr><tr><th></th><th title=\"String\">String</th><th title=\"String\">String</th><th title=\"Float64\">Float64</th><th title=\"Float64\">Float64</th><th title=\"Int64\">Int64</th><th title=\"Float64\">Float64</th><th title=\"Float64\">Float64</th><th title=\"Float64\">Float64</th></tr></thead><tbody><tr><th>1</th><td>1000</td><td>2</td><td>0.109342</td><td>0.00589054</td><td>2000</td><td>0.103452</td><td>0.121123</td><td>5.46712e-5</td></tr><tr><th>2</th><td>1000</td><td>5</td><td>0.21105</td><td>0.0243124</td><td>5000</td><td>0.186738</td><td>0.259675</td><td>4.221e-5</td></tr><tr><th>3</th><td>1000</td><td>10</td><td>0.27596</td><td>0.0151166</td><td>10000</td><td>0.260843</td><td>0.306193</td><td>2.7596e-5</td></tr><tr><th>4</th><td>1000</td><td>20</td><td>0.407751</td><td>0.0123504</td><td>20000</td><td>0.395401</td><td>0.432452</td><td>2.03876e-5</td></tr><tr><th>5</th><td>1000</td><td>50</td><td>0.926534</td><td>0.0256058</td><td>50000</td><td>0.900928</td><td>0.977746</td><td>1.85307e-5</td></tr><tr><th>6</th><td>10000</td><td>2</td><td>0.944073</td><td>0.0150353</td><td>20000</td><td>0.929038</td><td>0.974144</td><td>4.72037e-5</td></tr><tr><th>7</th><td>10000</td><td>5</td><td>1.71025</td><td>0.0514506</td><td>50000</td><td>1.6588</td><td>1.81316</td><td>3.42051e-5</td></tr><tr><th>8</th><td>10000</td><td>10</td><td>3.30731</td><td>0.23235</td><td>100000</td><td>3.07496</td><td>3.77201</td><td>3.30731e-5</td></tr><tr><th>9</th><td>10000</td><td>20</td><td>5.20636</td><td>0.218033</td><td>200000</td><td>4.98832</td><td>5.64242</td><td>2.60318e-5</td></tr><tr><th>10</th><td>10000</td><td>50</td><td>10.7708</td><td>0.141815</td><td>500000</td><td>10.629</td><td>11.0545</td><td>2.15417e-5</td></tr><tr><th>11</th><td>100000</td><td>2</td><td>12.9412</td><td>0.853265</td><td>200000</td><td>12.088</td><td>14.6478</td><td>6.47062e-5</td></tr><tr><th>12</th><td>100000</td><td>5</td><td>21.2031</td><td>1.13951</td><td>500000</td><td>20.0635</td><td>23.4821</td><td>4.24061e-5</td></tr><tr><th>13</th><td>100000</td><td>10</td><td>37.9432</td><td>2.14844</td><td>1000000</td><td>35.7947</td><td>42.2401</td><td>3.79432e-5</td></tr><tr><th>14</th><td>100000</td><td>20</td><td>58.8555</td><td>2.63769</td><td>2000000</td><td>56.2178</td><td>64.1309</td><td>2.94278e-5</td></tr><tr><th>15</th><td>100000</td><td>50</td><td>115.264</td><td>5.94484</td><td>5000000</td><td>109.319</td><td>127.153</td><td>2.30527e-5</td></tr></tbody></table></div>"
      ],
      "text/latex": [
       "\\begin{tabular}{r|cccccccc}\n",
       "\t& samplesize & obssize & fittime & se & nobs & fitmin & fitmax & perobsratio\\\\\n",
       "\t\\hline\n",
       "\t& String & String & Float64 & Float64 & Int64 & Float64 & Float64 & Float64\\\\\n",
       "\t\\hline\n",
       "\t1 & 1000 & 2 & 0.109342 & 0.00589054 & 2000 & 0.103452 & 0.121123 & 5.46712e-5 \\\\\n",
       "\t2 & 1000 & 5 & 0.21105 & 0.0243124 & 5000 & 0.186738 & 0.259675 & 4.221e-5 \\\\\n",
       "\t3 & 1000 & 10 & 0.27596 & 0.0151166 & 10000 & 0.260843 & 0.306193 & 2.7596e-5 \\\\\n",
       "\t4 & 1000 & 20 & 0.407751 & 0.0123504 & 20000 & 0.395401 & 0.432452 & 2.03876e-5 \\\\\n",
       "\t5 & 1000 & 50 & 0.926534 & 0.0256058 & 50000 & 0.900928 & 0.977746 & 1.85307e-5 \\\\\n",
       "\t6 & 10000 & 2 & 0.944073 & 0.0150353 & 20000 & 0.929038 & 0.974144 & 4.72037e-5 \\\\\n",
       "\t7 & 10000 & 5 & 1.71025 & 0.0514506 & 50000 & 1.6588 & 1.81316 & 3.42051e-5 \\\\\n",
       "\t8 & 10000 & 10 & 3.30731 & 0.23235 & 100000 & 3.07496 & 3.77201 & 3.30731e-5 \\\\\n",
       "\t9 & 10000 & 20 & 5.20636 & 0.218033 & 200000 & 4.98832 & 5.64242 & 2.60318e-5 \\\\\n",
       "\t10 & 10000 & 50 & 10.7708 & 0.141815 & 500000 & 10.629 & 11.0545 & 2.15417e-5 \\\\\n",
       "\t11 & 100000 & 2 & 12.9412 & 0.853265 & 200000 & 12.088 & 14.6478 & 6.47062e-5 \\\\\n",
       "\t12 & 100000 & 5 & 21.2031 & 1.13951 & 500000 & 20.0635 & 23.4821 & 4.24061e-5 \\\\\n",
       "\t13 & 100000 & 10 & 37.9432 & 2.14844 & 1000000 & 35.7947 & 42.2401 & 3.79432e-5 \\\\\n",
       "\t14 & 100000 & 20 & 58.8555 & 2.63769 & 2000000 & 56.2178 & 64.1309 & 2.94278e-5 \\\\\n",
       "\t15 & 100000 & 50 & 115.264 & 5.94484 & 5000000 & 109.319 & 127.153 & 2.30527e-5 \\\\\n",
       "\\end{tabular}\n"
      ],
      "text/plain": [
       "\u001b[1m15×8 DataFrame\u001b[0m\n",
       "\u001b[1m Row \u001b[0m│\u001b[1m samplesize \u001b[0m\u001b[1m obssize \u001b[0m\u001b[1m fittime    \u001b[0m\u001b[1m se         \u001b[0m\u001b[1m nobs    \u001b[0m\u001b[1m fitmin     \u001b[0m\u001b[1m fitma\u001b[0m ⋯\n",
       "\u001b[1m     \u001b[0m│\u001b[90m String     \u001b[0m\u001b[90m String  \u001b[0m\u001b[90m Float64    \u001b[0m\u001b[90m Float64    \u001b[0m\u001b[90m Int64   \u001b[0m\u001b[90m Float64    \u001b[0m\u001b[90m Float\u001b[0m ⋯\n",
       "─────┼──────────────────────────────────────────────────────────────────────────\n",
       "   1 │ 1000        2          0.109342  0.00589054     2000    0.103452    0.1 ⋯\n",
       "   2 │ 1000        5          0.21105   0.0243124      5000    0.186738    0.2\n",
       "   3 │ 1000        10         0.27596   0.0151166     10000    0.260843    0.3\n",
       "   4 │ 1000        20         0.407751  0.0123504     20000    0.395401    0.4\n",
       "   5 │ 1000        50         0.926534  0.0256058     50000    0.900928    0.9 ⋯\n",
       "   6 │ 10000       2          0.944073  0.0150353     20000    0.929038    0.9\n",
       "   7 │ 10000       5          1.71025   0.0514506     50000    1.6588      1.8\n",
       "   8 │ 10000       10         3.30731   0.23235      100000    3.07496     3.7\n",
       "   9 │ 10000       20         5.20636   0.218033     200000    4.98832     5.6 ⋯\n",
       "  10 │ 10000       50        10.7708    0.141815     500000   10.629      11.0\n",
       "  11 │ 100000      2         12.9412    0.853265     200000   12.088      14.6\n",
       "  12 │ 100000      5         21.2031    1.13951      500000   20.0635     23.4\n",
       "  13 │ 100000      10        37.9432    2.14844     1000000   35.7947     42.2 ⋯\n",
       "  14 │ 100000      20        58.8555    2.63769     2000000   56.2178     64.1\n",
       "  15 │ 100000      50       115.264     5.94484     5000000  109.319     127.1\n",
       "\u001b[36m                                                               2 columns omitted\u001b[0m"
      ]
     },
     "execution_count": 6,
     "metadata": {},
     "output_type": "execute_result"
    }
   ],
   "source": [
    "#simulation parameters\n",
    "@info \"making results table Quasi-Copula\"\n",
    "sample_sizes = repeat(string.(samplesizes), inner = nsims * length(ns))\n",
    "obs_sizes = repeat(string.(ns), inner = nsims, outer = length(samplesizes))\n",
    "\n",
    "msedf = DataFrame(βmse = βMseresult, Σmse = ΣMseresult, \n",
    "    samplesize = sample_sizes, obssize = obs_sizes, fittimes = fittimes_QC)\n",
    "timedf1 = combine(groupby(msedf, [:samplesize, :obssize]), :fittimes => mean => :fittime,\n",
    "    :fittimes => x -> (std(x)/sqrt(length(x))))\n",
    "rename!(timedf1, Dict(:fittimes_function => \"se\"))\n",
    "timedf1[!, :nobs] = Meta.parse.(timedf1[!, :samplesize]) .* Meta.parse.(timedf1[!, :obssize])\n",
    "timedf1[!, :fitmin] = timedf1[!, :fittime] - timedf1[!, :se]\n",
    "timedf1[!, :fitmax] = timedf1[!, :fittime] + 2 * timedf1[!, :se]\n",
    "timedf1[!, :perobsratio] = timedf1[!, :fittime] ./ timedf1[!, :nobs]\n",
    "timedf1"
   ]
  },
  {
   "cell_type": "code",
   "execution_count": 7,
   "metadata": {},
   "outputs": [
    {
     "name": "stderr",
     "output_type": "stream",
     "text": [
      "┌ Info: making results table GLMM\n",
      "└ @ Main In[7]:2\n"
     ]
    },
    {
     "data": {
      "text/html": [
       "<div class=\"data-frame\"><p>15 rows × 8 columns</p><table class=\"data-frame\"><thead><tr><th></th><th>samplesize</th><th>obssize</th><th>fittime</th><th>se</th><th>nobs</th><th>fitmin</th><th>fitmax</th><th>perobsratio</th></tr><tr><th></th><th title=\"String\">String</th><th title=\"String\">String</th><th title=\"Float64\">Float64</th><th title=\"Float64\">Float64</th><th title=\"Int64\">Int64</th><th title=\"Float64\">Float64</th><th title=\"Float64\">Float64</th><th title=\"Float64\">Float64</th></tr></thead><tbody><tr><th>1</th><td>1000</td><td>2</td><td>NaN</td><td>NaN</td><td>2000</td><td>NaN</td><td>NaN</td><td>NaN</td></tr><tr><th>2</th><td>1000</td><td>5</td><td>0.453997</td><td>0.00904969</td><td>5000</td><td>0.444947</td><td>0.463046</td><td>9.07993e-5</td></tr><tr><th>3</th><td>1000</td><td>10</td><td>0.817238</td><td>0.0081156</td><td>10000</td><td>0.809123</td><td>0.825354</td><td>8.17238e-5</td></tr><tr><th>4</th><td>1000</td><td>20</td><td>1.61002</td><td>0.0194045</td><td>20000</td><td>1.59062</td><td>1.62942</td><td>8.0501e-5</td></tr><tr><th>5</th><td>1000</td><td>50</td><td>4.19422</td><td>0.0505105</td><td>50000</td><td>4.14371</td><td>4.24473</td><td>8.38844e-5</td></tr><tr><th>6</th><td>10000</td><td>2</td><td>NaN</td><td>NaN</td><td>20000</td><td>NaN</td><td>NaN</td><td>NaN</td></tr><tr><th>7</th><td>10000</td><td>5</td><td>NaN</td><td>NaN</td><td>50000</td><td>NaN</td><td>NaN</td><td>NaN</td></tr><tr><th>8</th><td>10000</td><td>10</td><td>7.17066</td><td>0.0748832</td><td>100000</td><td>7.09577</td><td>7.24554</td><td>7.17066e-5</td></tr><tr><th>9</th><td>10000</td><td>20</td><td>14.8765</td><td>0.166497</td><td>200000</td><td>14.71</td><td>15.043</td><td>7.43827e-5</td></tr><tr><th>10</th><td>10000</td><td>50</td><td>39.8218</td><td>0.518353</td><td>500000</td><td>39.3035</td><td>40.3402</td><td>7.96437e-5</td></tr><tr><th>11</th><td>100000</td><td>2</td><td>NaN</td><td>NaN</td><td>200000</td><td>NaN</td><td>NaN</td><td>NaN</td></tr><tr><th>12</th><td>100000</td><td>5</td><td>NaN</td><td>NaN</td><td>500000</td><td>NaN</td><td>NaN</td><td>NaN</td></tr><tr><th>13</th><td>100000</td><td>10</td><td>NaN</td><td>NaN</td><td>1000000</td><td>NaN</td><td>NaN</td><td>NaN</td></tr><tr><th>14</th><td>100000</td><td>20</td><td>154.514</td><td>1.36678</td><td>2000000</td><td>153.147</td><td>155.881</td><td>7.72571e-5</td></tr><tr><th>15</th><td>100000</td><td>50</td><td>434.292</td><td>4.20048</td><td>5000000</td><td>430.092</td><td>438.492</td><td>8.68584e-5</td></tr></tbody></table></div>"
      ],
      "text/latex": [
       "\\begin{tabular}{r|cccccccc}\n",
       "\t& samplesize & obssize & fittime & se & nobs & fitmin & fitmax & perobsratio\\\\\n",
       "\t\\hline\n",
       "\t& String & String & Float64 & Float64 & Int64 & Float64 & Float64 & Float64\\\\\n",
       "\t\\hline\n",
       "\t1 & 1000 & 2 & NaN & NaN & 2000 & NaN & NaN & NaN \\\\\n",
       "\t2 & 1000 & 5 & 0.453997 & 0.00904969 & 5000 & 0.444947 & 0.463046 & 9.07993e-5 \\\\\n",
       "\t3 & 1000 & 10 & 0.817238 & 0.0081156 & 10000 & 0.809123 & 0.825354 & 8.17238e-5 \\\\\n",
       "\t4 & 1000 & 20 & 1.61002 & 0.0194045 & 20000 & 1.59062 & 1.62942 & 8.0501e-5 \\\\\n",
       "\t5 & 1000 & 50 & 4.19422 & 0.0505105 & 50000 & 4.14371 & 4.24473 & 8.38844e-5 \\\\\n",
       "\t6 & 10000 & 2 & NaN & NaN & 20000 & NaN & NaN & NaN \\\\\n",
       "\t7 & 10000 & 5 & NaN & NaN & 50000 & NaN & NaN & NaN \\\\\n",
       "\t8 & 10000 & 10 & 7.17066 & 0.0748832 & 100000 & 7.09577 & 7.24554 & 7.17066e-5 \\\\\n",
       "\t9 & 10000 & 20 & 14.8765 & 0.166497 & 200000 & 14.71 & 15.043 & 7.43827e-5 \\\\\n",
       "\t10 & 10000 & 50 & 39.8218 & 0.518353 & 500000 & 39.3035 & 40.3402 & 7.96437e-5 \\\\\n",
       "\t11 & 100000 & 2 & NaN & NaN & 200000 & NaN & NaN & NaN \\\\\n",
       "\t12 & 100000 & 5 & NaN & NaN & 500000 & NaN & NaN & NaN \\\\\n",
       "\t13 & 100000 & 10 & NaN & NaN & 1000000 & NaN & NaN & NaN \\\\\n",
       "\t14 & 100000 & 20 & 154.514 & 1.36678 & 2000000 & 153.147 & 155.881 & 7.72571e-5 \\\\\n",
       "\t15 & 100000 & 50 & 434.292 & 4.20048 & 5000000 & 430.092 & 438.492 & 8.68584e-5 \\\\\n",
       "\\end{tabular}\n"
      ],
      "text/plain": [
       "\u001b[1m15×8 DataFrame\u001b[0m\n",
       "\u001b[1m Row \u001b[0m│\u001b[1m samplesize \u001b[0m\u001b[1m obssize \u001b[0m\u001b[1m fittime    \u001b[0m\u001b[1m se           \u001b[0m\u001b[1m nobs    \u001b[0m\u001b[1m fitmin     \u001b[0m\u001b[1m fit\u001b[0m ⋯\n",
       "\u001b[1m     \u001b[0m│\u001b[90m String     \u001b[0m\u001b[90m String  \u001b[0m\u001b[90m Float64    \u001b[0m\u001b[90m Float64      \u001b[0m\u001b[90m Int64   \u001b[0m\u001b[90m Float64    \u001b[0m\u001b[90m Flo\u001b[0m ⋯\n",
       "─────┼──────────────────────────────────────────────────────────────────────────\n",
       "   1 │ 1000        2        NaN         NaN              2000  NaN         NaN ⋯\n",
       "   2 │ 1000        5          0.453997    0.00904969     5000    0.444947    0\n",
       "   3 │ 1000        10         0.817238    0.0081156     10000    0.809123    0\n",
       "   4 │ 1000        20         1.61002     0.0194045     20000    1.59062     1\n",
       "   5 │ 1000        50         4.19422     0.0505105     50000    4.14371     4 ⋯\n",
       "   6 │ 10000       2        NaN         NaN             20000  NaN         NaN\n",
       "   7 │ 10000       5        NaN         NaN             50000  NaN         NaN\n",
       "   8 │ 10000       10         7.17066     0.0748832    100000    7.09577     7\n",
       "   9 │ 10000       20        14.8765      0.166497     200000   14.71       15 ⋯\n",
       "  10 │ 10000       50        39.8218      0.518353     500000   39.3035     40\n",
       "  11 │ 100000      2        NaN         NaN            200000  NaN         NaN\n",
       "  12 │ 100000      5        NaN         NaN            500000  NaN         NaN\n",
       "  13 │ 100000      10       NaN         NaN           1000000  NaN         NaN ⋯\n",
       "  14 │ 100000      20       154.514       1.36678     2000000  153.147     155\n",
       "  15 │ 100000      50       434.292       4.20048     5000000  430.092     438\n",
       "\u001b[36m                                                               2 columns omitted\u001b[0m"
      ]
     },
     "execution_count": 7,
     "metadata": {},
     "output_type": "execute_result"
    }
   ],
   "source": [
    "#simulation parameters\n",
    "@info \"making results table GLMM\"\n",
    "sample_sizes = repeat(string.(samplesizes), inner = nsims * length(ns))\n",
    "obs_sizes = repeat(string.(ns), inner = nsims, outer = length(samplesizes))\n",
    "\n",
    "msedf = DataFrame(βmse = βMseresult, Σmse = ΣMseresult, \n",
    "    samplesize = sample_sizes, obssize = obs_sizes, fittimes = fittimes_GLMM)\n",
    "timedf2 = combine(groupby(msedf, [:samplesize, :obssize]), :fittimes => mean => :fittime,\n",
    "    :fittimes => x -> (std(x)/sqrt(length(x))))\n",
    "rename!(timedf2, Dict(:fittimes_function => \"se\"))\n",
    "timedf2[!, :nobs] = Meta.parse.(timedf2[!, :samplesize]) .* Meta.parse.(timedf2[!, :obssize])\n",
    "timedf2[!, :fitmin] = timedf2[!, :fittime] - timedf2[!, :se]\n",
    "timedf2[!, :fitmax] = timedf2[!, :fittime] + timedf2[!, :se]\n",
    "timedf2[!, :perobsratio] = timedf2[!, :fittime] ./ timedf2[!, :nobs]\n",
    "timedf2"
   ]
  },
  {
   "cell_type": "code",
   "execution_count": 8,
   "metadata": {},
   "outputs": [
    {
     "name": "stderr",
     "output_type": "stream",
     "text": [
      "┌ Warning: RCall.jl: Warning: package ‘ggplot2’ was built under R version 4.0.2\n",
      "└ @ RCall /Users/sarahji/.julia/packages/RCall/iMDW2/src/io.jl:160\n",
      "┌ Warning: RCall.jl: Warning: package ‘cowplot’ was built under R version 4.0.2\n",
      "└ @ RCall /Users/sarahji/.julia/packages/RCall/iMDW2/src/io.jl:160\n",
      "┌ Warning: RCall.jl: Warning: Removed 6 row(s) containing missing values (geom_path).\n",
      "│ Warning: Removed 6 rows containing missing values (geom_point).\n",
      "└ @ RCall /Users/sarahji/.julia/packages/RCall/iMDW2/src/io.jl:160\n"
     ]
    },
    {
     "data": {
      "image/png": "[encoded data removed]"
     },
     "metadata": {},
     "output_type": "display_data"
    },
    {
     "data": {
      "text/plain": [
       "RObject{VecSxp}\n"
      ]
     },
     "execution_count": 8,
     "metadata": {},
     "output_type": "execute_result"
    }
   ],
   "source": [
    "########### plot the runtimes\n",
    "using RCall\n",
    "@rput timedf1\n",
    "@rput timedf2\n",
    "R\"\"\"\n",
    "library(ggplot2)\n",
    "library(cowplot)\n",
    "timedf1$obssize = factor(timedf1$obssize, levels = c('2', '5', '10', '20', '50'))\n",
    "timedf1$samplesize = factor(timedf1$samplesize, levels = c('1000', '10000', '100000'))\n",
    "\n",
    "fittime_1 = ggplot(timedf1, aes(x = samplesize, y = fittime, group = obssize, color = obssize)) + \n",
    "  geom_line() +\n",
    "  geom_point()+\n",
    "  geom_errorbar(aes(ymin=fitmin, ymax=fitmax), width=0.5, alpha = 0.8, position=position_dodge(0.005)) + \n",
    "  theme(legend.position=c(0.3,0.85), legend.key = element_blank(), axis.text.x = element_text(angle=0, size=13),\n",
    "        axis.text.y = element_text(angle=0, size=13), axis.title.x = element_text(size = 17), \n",
    "        axis.title.y = element_text(size = 17), legend.title = element_text(size = 14),\n",
    "        #axis.ticks = element_blank(),\n",
    "        panel.grid.major = element_blank(), legend.text=element_text(size=13),\n",
    "        panel.border = element_blank(), panel.grid.minor = element_blank(), panel.background = element_blank(), \n",
    "        axis.line = element_line(color = 'black',size=0.3), plot.title = element_text(hjust = 0.5)) + \n",
    "   scale_color_manual(values = c(\"#c85f55\",\n",
    "\"#a964bf\",\n",
    "\"#8db352\",\n",
    "\"#fa7300\",\n",
    "\"#05aec0\")) +\n",
    "  labs(x = \"Number of Individuals\", y = \"Fit time (seconds)\", color = \"Obs per Individual\")\n",
    "\n",
    "timedf2$obssize = factor(timedf2$obssize, levels = c('2', '5', '10', '20', '50'))\n",
    "timedf2$samplesize = factor(timedf2$samplesize, levels = c('1000', '10000', '100000'))\n",
    "\n",
    "fittime_2 = ggplot(timedf2, aes(x = samplesize, y = fittime, group = obssize, color = obssize)) + \n",
    "  geom_line() +\n",
    "  geom_point()+\n",
    "  geom_errorbar(aes(ymin=fitmin, ymax=fitmax), width=0.5, alpha = 0.8, position=position_dodge(0.005)) + \n",
    "  theme(legend.position=c(0.3,0.85), legend.key = element_blank(), axis.text.x = element_text(angle=0, size=13),\n",
    "        axis.text.y = element_text(angle=0, size=13), axis.title.x = element_text(size = 17), \n",
    "        axis.title.y = element_text(size = 17), legend.title = element_text(size = 14),\n",
    "        #axis.ticks = element_blank(),\n",
    "        panel.grid.major = element_blank(), legend.text=element_text(size=13),\n",
    "        panel.border = element_blank(), panel.grid.minor = element_blank(), panel.background = element_blank(), \n",
    "        axis.line = element_line(color = 'black',size=0.3), plot.title = element_text(hjust = 0.5)) + \n",
    "   scale_color_manual(values = c(\"#c85f55\",\n",
    "\"#a964bf\",\n",
    "\"#8db352\",\n",
    "\"#fa7300\",\n",
    "\"#05aec0\")) +\n",
    "  labs(x = \"Number of Individuals\", y = \"Fit time (seconds)\", color = \"Obs per Individual\")\n",
    "\n",
    "fittime_nsamples = plot_grid(fittime_1, fittime_2, labels = c(\"Quasi-Copula\", \"GLMM\"))\n",
    "\"\"\""
   ]
  },
  {
   "cell_type": "code",
   "execution_count": 15,
   "metadata": {},
   "outputs": [
    {
     "data": {
      "text/plain": [
       "RObject{StrSxp}\n",
       "[1] \"fittime_nsamples_poisson_vs_glmm.png\"\n"
      ]
     },
     "execution_count": 15,
     "metadata": {},
     "output_type": "execute_result"
    }
   ],
   "source": [
    "R\"\"\"\n",
    "ggsave('fittime_nsamples_poisson_vs_glmm.png', fittime_nsamples, width = 15, height = 17, units = 'in', dpi = 450)\n",
    "\"\"\""
   ]
  },
  {
   "cell_type": "code",
   "execution_count": 9,
   "metadata": {},
   "outputs": [
    {
     "name": "stderr",
     "output_type": "stream",
     "text": [
      "┌ Warning: RCall.jl: Warning: package ‘scales’ was built under R version 4.0.2\n",
      "└ @ RCall /Users/sarahji/.julia/packages/RCall/iMDW2/src/io.jl:160\n",
      "┌ Warning: RCall.jl: Warning: Removed 1 row(s) containing missing values (geom_path).\n",
      "│ Warning: Removed 6 rows containing missing values (geom_point).\n",
      "└ @ RCall /Users/sarahji/.julia/packages/RCall/iMDW2/src/io.jl:160\n"
     ]
    },
    {
     "data": {
      "image/png": "[encoded data removed]"
     },
     "metadata": {},
     "output_type": "display_data"
    },
    {
     "data": {
      "text/plain": [
       "RObject{VecSxp}\n"
      ]
     },
     "execution_count": 9,
     "metadata": {},
     "output_type": "execute_result"
    }
   ],
   "source": [
    "using RCall\n",
    "@rput timedf1\n",
    "@rput timedf2\n",
    "\n",
    "R\"\"\"\n",
    "library(scales)\n",
    "library(ggplot2)\n",
    "timedf1$obssize <- factor(timedf1$obssize, levels = c('2', '5', '10', '20', '50'))\n",
    "timedf1$samplesize <- factor(timedf1$samplesize, levels = c('1000', '10000', '100000'))\n",
    "\n",
    "fancy_scientific <- function(l) {\n",
    "     # turn in to character string in scientific notation\n",
    "     l <- format(l, scientific = TRUE)\n",
    "     # quote the part before the exponent to keep all the digits\n",
    "     l <- gsub(\"^(.*)e\", \"'\\\\1'e\", l)\n",
    "     # turn the 'e+' into plotmath format\n",
    "     l <- gsub(\"e\", \"%*%10^\", l)\n",
    "     # return this as an expression\n",
    "     parse(text=l)\n",
    "}\n",
    "\n",
    "fittimeperobs1 = ggplot(timedf1, aes(x=nobs, y=perobsratio)) + \n",
    "  geom_line() +\n",
    "  geom_point()+\n",
    "#  geom_errorbar(aes(ymin=fitmin, ymax=fitmax), width=0.5, alpha = 0.8, position=position_dodge(0.005)) + \n",
    "  theme(legend.position=c(0.15,0.8), legend.key = element_blank(), axis.text.x = element_text(angle=0, size=13),\n",
    "        axis.text.y = element_text(angle=0, size=13), axis.title.x = element_text(size = 17), \n",
    "        axis.title.y = element_text(size = 17), legend.title = element_text(size = 14),\n",
    "        #axis.ticks = element_blank(),\n",
    "        panel.grid.major = element_blank(), legend.text=element_text(size=11),\n",
    "        panel.border = element_blank(), panel.grid.minor = element_blank(), panel.background = element_blank(), \n",
    "        axis.line = element_line(color = 'black',size=0.3), plot.title = element_text(hjust = 0.5)) + \n",
    "  labs(x = \"Total Number of Observations\", y = \"Fit time per observation (seconds)\", color = \"Obs per Individual\") +\n",
    "#scale_x_log10(breaks = 10^seq(0, 7, 1), labels=trans_format(\"log10\", math_format(10^.x)))# + #, limit=c(10^0, 10^7))\n",
    "scale_x_continuous(breaks = seq(0, 6000000, 1000000), labels= fancy_scientific) +\n",
    "scale_y_continuous(breaks = c(10^-5, 2 * 10^-5, 3 * 10^-5, 4 * 10^-5, 5 * 10^-5, 6 * 10^-5, 7  * 10^-5, 8  * 10^-5 , 9  * 10^-5, 10^-4), labels= fancy_scientific)\n",
    "\n",
    "# glmm fit times\n",
    "timedf2$obssize <- factor(timedf2$obssize, levels = c('2', '5', '10', '20', '50'))\n",
    "timedf2$samplesize <- factor(timedf2$samplesize, levels = c('1000', '10000', '100000'))\n",
    "\n",
    "fancy_scientific <- function(l) {\n",
    "     # turn in to character string in scientific notation\n",
    "     l <- format(l, scientific = TRUE)\n",
    "     # quote the part before the exponent to keep all the digits\n",
    "     l <- gsub(\"^(.*)e\", \"'\\\\1'e\", l)\n",
    "     # turn the 'e+' into plotmath format\n",
    "     l <- gsub(\"e\", \"%*%10^\", l)\n",
    "     # return this as an expression\n",
    "     parse(text=l)\n",
    "}\n",
    "\n",
    "fittimeperobs2 = ggplot(timedf2, aes(x=nobs, y=perobsratio)) + \n",
    "  geom_line() +\n",
    "  geom_point()+\n",
    "#  geom_errorbar(aes(ymin=fitmin, ymax=fitmax), width=0.5, alpha = 0.8, position=position_dodge(0.005)) + \n",
    "  theme(legend.position=c(0.15,0.8), legend.key = element_blank(), axis.text.x = element_text(angle=0, size=13),\n",
    "        axis.text.y = element_text(angle=0, size=13), axis.title.x = element_text(size = 17), \n",
    "        axis.title.y = element_text(size = 17), legend.title = element_text(size = 14),\n",
    "        #axis.ticks = element_blank(),\n",
    "        panel.grid.major = element_blank(), legend.text=element_text(size=11),\n",
    "        panel.border = element_blank(), panel.grid.minor = element_blank(), panel.background = element_blank(), \n",
    "        axis.line = element_line(color = 'black',size=0.3), plot.title = element_text(hjust = 0.5)) + \n",
    "  labs(x = \"Total Number of Observations\", y = \"Fit time per observation (seconds)\", color = \"Obs per Individual\") +\n",
    "#scale_x_log10(breaks = 10^seq(0, 7, 1), labels=trans_format(\"log10\", math_format(10^.x)))# + #, limit=c(10^0, 10^7))\n",
    "scale_x_continuous(breaks = seq(0, 6000000, 1000000), labels= fancy_scientific) +\n",
    "scale_y_continuous(breaks = c(10^-5, 2 * 10^-5, 3 * 10^-5, 4 * 10^-5, 5 * 10^-5, 6 * 10^-5, 7  * 10^-5, 8  * 10^-5 , 9  * 10^-5, 10^-4), labels= fancy_scientific)\n",
    "\n",
    "fittime_perobs = plot_grid(fittimeperobs1, fittimeperobs2, labels = c(\"Quasi-Copula\", \"GLMM\"))\n",
    "\n",
    "\"\"\""
   ]
  },
  {
   "cell_type": "code",
   "execution_count": 11,
   "metadata": {},
   "outputs": [
    {
     "data": {
      "text/plain": [
       "RObject{StrSxp}\n",
       "[1] \"fittime_perobs_poisson_vs_glmm.png\"\n"
      ]
     },
     "execution_count": 11,
     "metadata": {},
     "output_type": "execute_result"
    }
   ],
   "source": [
    "R\"\"\"\n",
    "ggsave('fittime_perobs_poisson_vs_glmm.png', fittime_perobs, width = 12.5, height = 15, units = 'in', dpi = 450)\n",
    "\"\"\""
   ]
  },
  {
   "cell_type": "code",
   "execution_count": 10,
   "metadata": {},
   "outputs": [
    {
     "data": {
      "text/html": [
       "<div class=\"data-frame\"><p>15 rows × 5 columns</p><table class=\"data-frame\"><thead><tr><th></th><th>people_obs</th><th>β1</th><th>β2</th><th>β3</th><th>Σ1</th></tr><tr><th></th><th title=\"String\">String</th><th title=\"Tuple{Float64, Float64}\">Tuple…</th><th title=\"Tuple{Float64, Float64}\">Tuple…</th><th title=\"Tuple{Float64, Float64}\">Tuple…</th><th title=\"Tuple{Float64, Float64}\">Tuple…</th></tr></thead><tbody><tr><th>1</th><td>N: 1000  ni: 2</td><td>(0.48, 0.0713714)</td><td>(0.72, 0.0641427)</td><td>(0.86, 0.0495696)</td><td>(0.98, 0.02)</td></tr><tr><th>2</th><td>N: 1000  ni: 5</td><td>(0.62, 0.0693409)</td><td>(0.68, 0.0666395)</td><td>(0.82, 0.0548839)</td><td>(1.0, 0.0)</td></tr><tr><th>3</th><td>N: 1000  ni: 10</td><td>(0.64, 0.0685714)</td><td>(0.76, 0.0610119)</td><td>(0.74, 0.062662)</td><td>(0.92, 0.0387562)</td></tr><tr><th>4</th><td>N: 1000  ni: 20</td><td>(0.74, 0.062662)</td><td>(0.8, 0.0571429)</td><td>(0.84, 0.0523723)</td><td>(0.86, 0.0495696)</td></tr><tr><th>5</th><td>N: 1000  ni: 50</td><td>(0.6, 0.0699854)</td><td>(0.66, 0.0676727)</td><td>(0.86, 0.0495696)</td><td>(0.76, 0.0610119)</td></tr><tr><th>6</th><td>N: 10000  ni: 2</td><td>(0.66, 0.0676727)</td><td>(0.78, 0.059178)</td><td>(0.82, 0.0548839)</td><td>(0.92, 0.0387562)</td></tr><tr><th>7</th><td>N: 10000  ni: 5</td><td>(0.66, 0.0676727)</td><td>(0.74, 0.062662)</td><td>(0.86, 0.0495696)</td><td>(0.96, 0.0279942)</td></tr><tr><th>8</th><td>N: 10000  ni: 10</td><td>(0.72, 0.0641427)</td><td>(0.84, 0.0523723)</td><td>(0.72, 0.0641427)</td><td>(0.88, 0.0464231)</td></tr><tr><th>9</th><td>N: 10000  ni: 20</td><td>(0.6, 0.0699854)</td><td>(0.72, 0.0641427)</td><td>(0.78, 0.059178)</td><td>(0.94, 0.0339267)</td></tr><tr><th>10</th><td>N: 10000  ni: 50</td><td>(0.8, 0.0571429)</td><td>(0.78, 0.059178)</td><td>(0.86, 0.0495696)</td><td>(0.94, 0.0339267)</td></tr><tr><th>11</th><td>N: 100000  ni: 2</td><td>(0.72, 0.0641427)</td><td>(0.82, 0.0548839)</td><td>(0.76, 0.0610119)</td><td>(0.9, 0.0428571)</td></tr><tr><th>12</th><td>N: 100000  ni: 5</td><td>(0.46, 0.0711996)</td><td>(0.8, 0.0571429)</td><td>(0.78, 0.059178)</td><td>(0.92, 0.0387562)</td></tr><tr><th>13</th><td>N: 100000  ni: 10</td><td>(0.72, 0.0641427)</td><td>(0.84, 0.0523723)</td><td>(0.68, 0.0666395)</td><td>(0.96, 0.0279942)</td></tr><tr><th>14</th><td>N: 100000  ni: 20</td><td>(0.84, 0.0523723)</td><td>(0.82, 0.0548839)</td><td>(0.76, 0.0610119)</td><td>(1.0, 0.0)</td></tr><tr><th>15</th><td>N: 100000  ni: 50</td><td>(0.7, 0.0654654)</td><td>(0.8, 0.0571429)</td><td>(0.78, 0.059178)</td><td>(0.86, 0.0495696)</td></tr></tbody></table></div>"
      ],
      "text/latex": [
       "\\begin{tabular}{r|ccccc}\n",
       "\t& people\\_obs & β1 & β2 & β3 & Σ1\\\\\n",
       "\t\\hline\n",
       "\t& String & Tuple… & Tuple… & Tuple… & Tuple…\\\\\n",
       "\t\\hline\n",
       "\t1 & N: 1000  ni: 2 & (0.48, 0.0713714) & (0.72, 0.0641427) & (0.86, 0.0495696) & (0.98, 0.02) \\\\\n",
       "\t2 & N: 1000  ni: 5 & (0.62, 0.0693409) & (0.68, 0.0666395) & (0.82, 0.0548839) & (1.0, 0.0) \\\\\n",
       "\t3 & N: 1000  ni: 10 & (0.64, 0.0685714) & (0.76, 0.0610119) & (0.74, 0.062662) & (0.92, 0.0387562) \\\\\n",
       "\t4 & N: 1000  ni: 20 & (0.74, 0.062662) & (0.8, 0.0571429) & (0.84, 0.0523723) & (0.86, 0.0495696) \\\\\n",
       "\t5 & N: 1000  ni: 50 & (0.6, 0.0699854) & (0.66, 0.0676727) & (0.86, 0.0495696) & (0.76, 0.0610119) \\\\\n",
       "\t6 & N: 10000  ni: 2 & (0.66, 0.0676727) & (0.78, 0.059178) & (0.82, 0.0548839) & (0.92, 0.0387562) \\\\\n",
       "\t7 & N: 10000  ni: 5 & (0.66, 0.0676727) & (0.74, 0.062662) & (0.86, 0.0495696) & (0.96, 0.0279942) \\\\\n",
       "\t8 & N: 10000  ni: 10 & (0.72, 0.0641427) & (0.84, 0.0523723) & (0.72, 0.0641427) & (0.88, 0.0464231) \\\\\n",
       "\t9 & N: 10000  ni: 20 & (0.6, 0.0699854) & (0.72, 0.0641427) & (0.78, 0.059178) & (0.94, 0.0339267) \\\\\n",
       "\t10 & N: 10000  ni: 50 & (0.8, 0.0571429) & (0.78, 0.059178) & (0.86, 0.0495696) & (0.94, 0.0339267) \\\\\n",
       "\t11 & N: 100000  ni: 2 & (0.72, 0.0641427) & (0.82, 0.0548839) & (0.76, 0.0610119) & (0.9, 0.0428571) \\\\\n",
       "\t12 & N: 100000  ni: 5 & (0.46, 0.0711996) & (0.8, 0.0571429) & (0.78, 0.059178) & (0.92, 0.0387562) \\\\\n",
       "\t13 & N: 100000  ni: 10 & (0.72, 0.0641427) & (0.84, 0.0523723) & (0.68, 0.0666395) & (0.96, 0.0279942) \\\\\n",
       "\t14 & N: 100000  ni: 20 & (0.84, 0.0523723) & (0.82, 0.0548839) & (0.76, 0.0610119) & (1.0, 0.0) \\\\\n",
       "\t15 & N: 100000  ni: 50 & (0.7, 0.0654654) & (0.8, 0.0571429) & (0.78, 0.059178) & (0.86, 0.0495696) \\\\\n",
       "\\end{tabular}\n"
      ],
      "text/plain": [
       "\u001b[1m15×5 DataFrame\u001b[0m\n",
       "\u001b[1m Row \u001b[0m│\u001b[1m people_obs        \u001b[0m\u001b[1m β1                \u001b[0m\u001b[1m β2                \u001b[0m\u001b[1m β3            \u001b[0m ⋯\n",
       "\u001b[1m     \u001b[0m│\u001b[90m String            \u001b[0m\u001b[90m Tuple…            \u001b[0m\u001b[90m Tuple…            \u001b[0m\u001b[90m Tuple…        \u001b[0m ⋯\n",
       "─────┼──────────────────────────────────────────────────────────────────────────\n",
       "   1 │ N: 1000  ni: 2     (0.48, 0.0713714)  (0.72, 0.0641427)  (0.86, 0.04956 ⋯\n",
       "   2 │ N: 1000  ni: 5     (0.62, 0.0693409)  (0.68, 0.0666395)  (0.82, 0.05488\n",
       "   3 │ N: 1000  ni: 10    (0.64, 0.0685714)  (0.76, 0.0610119)  (0.74, 0.06266\n",
       "   4 │ N: 1000  ni: 20    (0.74, 0.062662)   (0.8, 0.0571429)   (0.84, 0.05237\n",
       "   5 │ N: 1000  ni: 50    (0.6, 0.0699854)   (0.66, 0.0676727)  (0.86, 0.04956 ⋯\n",
       "   6 │ N: 10000  ni: 2    (0.66, 0.0676727)  (0.78, 0.059178)   (0.82, 0.05488\n",
       "   7 │ N: 10000  ni: 5    (0.66, 0.0676727)  (0.74, 0.062662)   (0.86, 0.04956\n",
       "   8 │ N: 10000  ni: 10   (0.72, 0.0641427)  (0.84, 0.0523723)  (0.72, 0.06414\n",
       "   9 │ N: 10000  ni: 20   (0.6, 0.0699854)   (0.72, 0.0641427)  (0.78, 0.05917 ⋯\n",
       "  10 │ N: 10000  ni: 50   (0.8, 0.0571429)   (0.78, 0.059178)   (0.86, 0.04956\n",
       "  11 │ N: 100000  ni: 2   (0.72, 0.0641427)  (0.82, 0.0548839)  (0.76, 0.06101\n",
       "  12 │ N: 100000  ni: 5   (0.46, 0.0711996)  (0.8, 0.0571429)   (0.78, 0.05917\n",
       "  13 │ N: 100000  ni: 10  (0.72, 0.0641427)  (0.84, 0.0523723)  (0.68, 0.06663 ⋯\n",
       "  14 │ N: 100000  ni: 20  (0.84, 0.0523723)  (0.82, 0.0548839)  (0.76, 0.06101\n",
       "  15 │ N: 100000  ni: 50  (0.7, 0.0654654)   (0.8, 0.0571429)   (0.78, 0.05917\n",
       "\u001b[36m                                                               2 columns omitted\u001b[0m"
      ]
     },
     "execution_count": 10,
     "metadata": {},
     "output_type": "execute_result"
    }
   ],
   "source": [
    "######  supplementary table s1\n",
    "using Random, DataFrames, DelimitedFiles, Statistics\n",
    "import StatsBase: sem\n",
    "\n",
    "βΣcoverage = readdlm(\"beta_sigma_coverage_multivariate_poisson_vcm$(nsims)reps_sim.csv\", ',')\n",
    "\n",
    "m  = 1\n",
    "\n",
    "covdf = DataFrame(Matrix(transpose(βΣcoverage)), :auto)\n",
    "rename!(covdf, Symbol.([[\"β$i\" for i in 1:p]; [\"Σ$i\" for i in 1:m]]))\n",
    "covdf[!, :samplesize] = sample_sizes\n",
    "covdf[!, :obssize] = obs_sizes\n",
    "first(covdf, 10)\n",
    "\n",
    "row_stats = [[(mean(col), sem(col)) for col = eachcol(d[!, 1:end-2])] for d = groupby(covdf, [:samplesize; :obssize])]\n",
    "df = DataFrame(row_stats, :auto)\n",
    "ss_obs = unique(\"N: \" .* sample_sizes .* \"  ni: \" .* obs_sizes)\n",
    "rename!(df, Symbol.(ss_obs))\n",
    "covdfdisplay = DataFrame([[names(df)]; collect.(eachrow(df))], \n",
    "    [:people_obs; Symbol.([[\"β$i\" for i in 1:p]; [\"Σ$i\" for i in 1:m]])])\n",
    "# deletecols!(covdfdisplay, p + 2)\n",
    "covdfdisplay\n"
   ]
  },
  {
   "cell_type": "code",
   "execution_count": 11,
   "metadata": {},
   "outputs": [
    {
     "data": {
      "text/html": [
       "<div class=\"data-frame\"><p>2,606 rows × 5 columns</p><table class=\"data-frame\"><thead><tr><th></th><th>mse</th><th>obssize</th><th>samplesize</th><th>parameters</th><th>robust</th></tr><tr><th></th><th title=\"Float64\">Float64</th><th title=\"String\">String</th><th title=\"String\">String</th><th title=\"String\">String</th><th title=\"String\">String</th></tr></thead><tbody><tr><th>1</th><td>7.03947e-5</td><td>2</td><td>1000</td><td>beta</td><td>Poisson Quasi-Copula</td></tr><tr><th>2</th><td>0.000150224</td><td>2</td><td>1000</td><td>beta</td><td>Poisson Quasi-Copula</td></tr><tr><th>3</th><td>0.00020374</td><td>2</td><td>1000</td><td>beta</td><td>Poisson Quasi-Copula</td></tr><tr><th>4</th><td>0.000623339</td><td>2</td><td>1000</td><td>beta</td><td>Poisson Quasi-Copula</td></tr><tr><th>5</th><td>5.10073e-6</td><td>2</td><td>1000</td><td>beta</td><td>Poisson Quasi-Copula</td></tr><tr><th>6</th><td>2.78376e-5</td><td>2</td><td>1000</td><td>beta</td><td>Poisson Quasi-Copula</td></tr><tr><th>7</th><td>3.94621e-5</td><td>2</td><td>1000</td><td>beta</td><td>Poisson Quasi-Copula</td></tr><tr><th>8</th><td>0.000257277</td><td>2</td><td>1000</td><td>beta</td><td>Poisson Quasi-Copula</td></tr><tr><th>9</th><td>0.000750903</td><td>2</td><td>1000</td><td>beta</td><td>Poisson Quasi-Copula</td></tr><tr><th>10</th><td>2.76938e-5</td><td>2</td><td>1000</td><td>beta</td><td>Poisson Quasi-Copula</td></tr><tr><th>11</th><td>7.31495e-5</td><td>2</td><td>1000</td><td>beta</td><td>Poisson Quasi-Copula</td></tr><tr><th>12</th><td>5.63051e-5</td><td>2</td><td>1000</td><td>beta</td><td>Poisson Quasi-Copula</td></tr><tr><th>13</th><td>0.000226366</td><td>2</td><td>1000</td><td>beta</td><td>Poisson Quasi-Copula</td></tr><tr><th>14</th><td>0.000107363</td><td>2</td><td>1000</td><td>beta</td><td>Poisson Quasi-Copula</td></tr><tr><th>15</th><td>0.000201043</td><td>2</td><td>1000</td><td>beta</td><td>Poisson Quasi-Copula</td></tr><tr><th>16</th><td>2.40858e-5</td><td>2</td><td>1000</td><td>beta</td><td>Poisson Quasi-Copula</td></tr><tr><th>17</th><td>0.000319742</td><td>2</td><td>1000</td><td>beta</td><td>Poisson Quasi-Copula</td></tr><tr><th>18</th><td>1.26803e-5</td><td>2</td><td>1000</td><td>beta</td><td>Poisson Quasi-Copula</td></tr><tr><th>19</th><td>0.000171939</td><td>2</td><td>1000</td><td>beta</td><td>Poisson Quasi-Copula</td></tr><tr><th>20</th><td>2.88682e-5</td><td>2</td><td>1000</td><td>beta</td><td>Poisson Quasi-Copula</td></tr><tr><th>21</th><td>0.000210249</td><td>2</td><td>1000</td><td>beta</td><td>Poisson Quasi-Copula</td></tr><tr><th>22</th><td>5.56067e-5</td><td>2</td><td>1000</td><td>beta</td><td>Poisson Quasi-Copula</td></tr><tr><th>23</th><td>8.75861e-5</td><td>2</td><td>1000</td><td>beta</td><td>Poisson Quasi-Copula</td></tr><tr><th>24</th><td>0.000319993</td><td>2</td><td>1000</td><td>beta</td><td>Poisson Quasi-Copula</td></tr><tr><th>25</th><td>0.000276438</td><td>2</td><td>1000</td><td>beta</td><td>Poisson Quasi-Copula</td></tr><tr><th>26</th><td>0.000172738</td><td>2</td><td>1000</td><td>beta</td><td>Poisson Quasi-Copula</td></tr><tr><th>27</th><td>0.000112814</td><td>2</td><td>1000</td><td>beta</td><td>Poisson Quasi-Copula</td></tr><tr><th>28</th><td>0.00084875</td><td>2</td><td>1000</td><td>beta</td><td>Poisson Quasi-Copula</td></tr><tr><th>29</th><td>0.000315982</td><td>2</td><td>1000</td><td>beta</td><td>Poisson Quasi-Copula</td></tr><tr><th>30</th><td>9.50415e-5</td><td>2</td><td>1000</td><td>beta</td><td>Poisson Quasi-Copula</td></tr><tr><th>&vellip;</th><td>&vellip;</td><td>&vellip;</td><td>&vellip;</td><td>&vellip;</td><td>&vellip;</td></tr></tbody></table></div>"
      ],
      "text/latex": [
       "\\begin{tabular}{r|ccccc}\n",
       "\t& mse & obssize & samplesize & parameters & robust\\\\\n",
       "\t\\hline\n",
       "\t& Float64 & String & String & String & String\\\\\n",
       "\t\\hline\n",
       "\t1 & 7.03947e-5 & 2 & 1000 & beta & Poisson Quasi-Copula \\\\\n",
       "\t2 & 0.000150224 & 2 & 1000 & beta & Poisson Quasi-Copula \\\\\n",
       "\t3 & 0.00020374 & 2 & 1000 & beta & Poisson Quasi-Copula \\\\\n",
       "\t4 & 0.000623339 & 2 & 1000 & beta & Poisson Quasi-Copula \\\\\n",
       "\t5 & 5.10073e-6 & 2 & 1000 & beta & Poisson Quasi-Copula \\\\\n",
       "\t6 & 2.78376e-5 & 2 & 1000 & beta & Poisson Quasi-Copula \\\\\n",
       "\t7 & 3.94621e-5 & 2 & 1000 & beta & Poisson Quasi-Copula \\\\\n",
       "\t8 & 0.000257277 & 2 & 1000 & beta & Poisson Quasi-Copula \\\\\n",
       "\t9 & 0.000750903 & 2 & 1000 & beta & Poisson Quasi-Copula \\\\\n",
       "\t10 & 2.76938e-5 & 2 & 1000 & beta & Poisson Quasi-Copula \\\\\n",
       "\t11 & 7.31495e-5 & 2 & 1000 & beta & Poisson Quasi-Copula \\\\\n",
       "\t12 & 5.63051e-5 & 2 & 1000 & beta & Poisson Quasi-Copula \\\\\n",
       "\t13 & 0.000226366 & 2 & 1000 & beta & Poisson Quasi-Copula \\\\\n",
       "\t14 & 0.000107363 & 2 & 1000 & beta & Poisson Quasi-Copula \\\\\n",
       "\t15 & 0.000201043 & 2 & 1000 & beta & Poisson Quasi-Copula \\\\\n",
       "\t16 & 2.40858e-5 & 2 & 1000 & beta & Poisson Quasi-Copula \\\\\n",
       "\t17 & 0.000319742 & 2 & 1000 & beta & Poisson Quasi-Copula \\\\\n",
       "\t18 & 1.26803e-5 & 2 & 1000 & beta & Poisson Quasi-Copula \\\\\n",
       "\t19 & 0.000171939 & 2 & 1000 & beta & Poisson Quasi-Copula \\\\\n",
       "\t20 & 2.88682e-5 & 2 & 1000 & beta & Poisson Quasi-Copula \\\\\n",
       "\t21 & 0.000210249 & 2 & 1000 & beta & Poisson Quasi-Copula \\\\\n",
       "\t22 & 5.56067e-5 & 2 & 1000 & beta & Poisson Quasi-Copula \\\\\n",
       "\t23 & 8.75861e-5 & 2 & 1000 & beta & Poisson Quasi-Copula \\\\\n",
       "\t24 & 0.000319993 & 2 & 1000 & beta & Poisson Quasi-Copula \\\\\n",
       "\t25 & 0.000276438 & 2 & 1000 & beta & Poisson Quasi-Copula \\\\\n",
       "\t26 & 0.000172738 & 2 & 1000 & beta & Poisson Quasi-Copula \\\\\n",
       "\t27 & 0.000112814 & 2 & 1000 & beta & Poisson Quasi-Copula \\\\\n",
       "\t28 & 0.00084875 & 2 & 1000 & beta & Poisson Quasi-Copula \\\\\n",
       "\t29 & 0.000315982 & 2 & 1000 & beta & Poisson Quasi-Copula \\\\\n",
       "\t30 & 9.50415e-5 & 2 & 1000 & beta & Poisson Quasi-Copula \\\\\n",
       "\t$\\dots$ & $\\dots$ & $\\dots$ & $\\dots$ & $\\dots$ & $\\dots$ \\\\\n",
       "\\end{tabular}\n"
      ],
      "text/plain": [
       "\u001b[1m2606×5 DataFrame\u001b[0m\n",
       "\u001b[1m  Row \u001b[0m│\u001b[1m mse         \u001b[0m\u001b[1m obssize \u001b[0m\u001b[1m samplesize \u001b[0m\u001b[1m parameters \u001b[0m\u001b[1m robust               \u001b[0m\n",
       "\u001b[1m      \u001b[0m│\u001b[90m Float64     \u001b[0m\u001b[90m String  \u001b[0m\u001b[90m String     \u001b[0m\u001b[90m String     \u001b[0m\u001b[90m String               \u001b[0m\n",
       "──────┼────────────────────────────────────────────────────────────────────\n",
       "    1 │ 7.03947e-5   2        1000        beta        Poisson Quasi-Copula\n",
       "    2 │ 0.000150224  2        1000        beta        Poisson Quasi-Copula\n",
       "    3 │ 0.00020374   2        1000        beta        Poisson Quasi-Copula\n",
       "    4 │ 0.000623339  2        1000        beta        Poisson Quasi-Copula\n",
       "    5 │ 5.10073e-6   2        1000        beta        Poisson Quasi-Copula\n",
       "    6 │ 2.78376e-5   2        1000        beta        Poisson Quasi-Copula\n",
       "    7 │ 3.94621e-5   2        1000        beta        Poisson Quasi-Copula\n",
       "    8 │ 0.000257277  2        1000        beta        Poisson Quasi-Copula\n",
       "    9 │ 0.000750903  2        1000        beta        Poisson Quasi-Copula\n",
       "   10 │ 2.76938e-5   2        1000        beta        Poisson Quasi-Copula\n",
       "   11 │ 7.31495e-5   2        1000        beta        Poisson Quasi-Copula\n",
       "  ⋮   │      ⋮          ⋮         ⋮           ⋮                ⋮\n",
       " 2597 │ 0.246787     50       100000      Sigma       Poisson GLMM\n",
       " 2598 │ 0.246784     50       100000      Sigma       Poisson GLMM\n",
       " 2599 │ 0.246782     50       100000      Sigma       Poisson GLMM\n",
       " 2600 │ 0.24681      50       100000      Sigma       Poisson GLMM\n",
       " 2601 │ 0.246823     50       100000      Sigma       Poisson GLMM\n",
       " 2602 │ 0.246805     50       100000      Sigma       Poisson GLMM\n",
       " 2603 │ 0.246781     50       100000      Sigma       Poisson GLMM\n",
       " 2604 │ 0.246749     50       100000      Sigma       Poisson GLMM\n",
       " 2605 │ 0.246799     50       100000      Sigma       Poisson GLMM\n",
       " 2606 │ 0.246788     50       100000      Sigma       Poisson GLMM\n",
       "\u001b[36m                                                          2585 rows omitted\u001b[0m"
      ]
     },
     "execution_count": 11,
     "metadata": {},
     "output_type": "execute_result"
    }
   ],
   "source": [
    "#### \n",
    "#import data and reorganize to create figure\n",
    "using Random, DataFrames, DelimitedFiles, Statistics, RCall, Printf\n",
    "import StatsBase: sem\n",
    "\n",
    "βMseresultpoisson = vec(readdlm(\"mse_beta_multivariate_poisson_vcm$(nsims)reps_sim.csv\", ','))\n",
    "ΣMseresultpoisson = vec(readdlm(\"mse_Sigma_multivariate_poisson_vcm$(nsims)reps_sim.csv\", ','))\n",
    "\n",
    "βMseresultpoisson_GLMM = vec(readdlm(\"mse_beta_GLMM_multivariate_poisson_vcm$(nsims)reps_sim.csv\", ','))\n",
    "ΣMseresultpoisson_GLMM = vec(readdlm(\"mse_Sigma_GLMM_multivariate_poisson_vcm$(nsims)reps_sim.csv\", ','))\n",
    "\n",
    "\n",
    "p = 3; m = 1\n",
    "sample_sizes = repeat(string.(samplesizes), inner = nsims * length(ns))\n",
    "obs_sizes = repeat(string.(ns), inner = nsims, outer = length(samplesizes))\n",
    "msedf1 = DataFrame(βmse = βMseresultpoisson, Σmse = ΣMseresultpoisson, \n",
    "    samplesize = sample_sizes, obssize = obs_sizes)\n",
    "\n",
    "msedf2 = DataFrame(βmse = βMseresultpoisson_GLMM, Σmse = ΣMseresultpoisson_GLMM, \n",
    "    samplesize = sample_sizes, obssize = obs_sizes)\n",
    "\n",
    "#rename to make parsing easier for R.\n",
    "\n",
    "msedf1 = deepcopy(msedf1)\n",
    "rename!(msedf1, [\"betamse\"\n",
    "    \"Sigmamse\"\n",
    "    \"samplesize\"\n",
    " \"obssize\"]);\n",
    "\n",
    "msedf2 = deepcopy(msedf2)\n",
    "rename!(msedf2, [\"betamse\"\n",
    "    \"Sigmamse\"\n",
    "    \"samplesize\"\n",
    " \"obssize\"]);\n",
    "\n",
    "mses = [msedf1[!, :betamse]; msedf1[!, :Sigmamse]; msedf2[!, :betamse]; msedf2[!, :Sigmamse]]\n",
    "    # msedfnormR[!, :betamse]; msedfnormR[!, :taumse]; msedfnormR[!, :Sigmamse]]\n",
    "obssize = [collect([repeat(msedf1[!, :obssize], 2)]...) ; collect([repeat(msedf2[!, :obssize], 2)]...)]\n",
    "#40\n",
    "samplesize = [collect([repeat(msedf1[!, :samplesize], 2)]...) ; collect([repeat(msedf2[!, :samplesize], 2)]...)]\n",
    "\n",
    "parameters = [collect([repeat(string.([:beta, :Sigma]), inner = nsims * length(ns) * length(samplesizes))]...) ; collect([repeat(string.([:beta, :Sigma]), inner = nsims * length(ns) * length(samplesizes))]...)]\n",
    "robust = [collect([repeat([\"Poisson Quasi-Copula\"], 2 * nsims * length(ns) * length(samplesizes))]...); collect([repeat([\"Poisson GLMM\"],  2 * nsims * length(ns) * length(samplesizes))]...)]\n",
    "\n",
    "msedfR = DataFrame(mse = mses, obssize = obssize, samplesize = samplesize,\n",
    "    parameters = parameters, robust = robust)\n",
    "\n",
    "#5 of the 30,000 simulations did not converge, filter out\n",
    "msedfR = filter(x -> !isnan(x.mse), msedfR)\n",
    "# additionally, there are 5 where an error was not caught so it did not try a differnt solver\n",
    "msedfR = filter(x -> x.mse < 40000, msedfR)"
   ]
  },
  {
   "cell_type": "code",
   "execution_count": 12,
   "metadata": {},
   "outputs": [
    {
     "name": "stderr",
     "output_type": "stream",
     "text": [
      "┌ Warning: RCall.jl: Warning: package ‘data.table’ was built under R version 4.0.2\n",
      "└ @ RCall /Users/sarahji/.julia/packages/RCall/iMDW2/src/io.jl:160\n"
     ]
    },
    {
     "data": {
      "image/png": "[encoded data removed]"
     },
     "metadata": {},
     "output_type": "display_data"
    },
    {
     "data": {
      "text/plain": [
       "RObject{VecSxp}\n"
      ]
     },
     "execution_count": 12,
     "metadata": {},
     "output_type": "execute_result"
    }
   ],
   "source": [
    "### working on figure next\n",
    "@rput msedfR\n",
    "\n",
    "R\"\"\"\n",
    "library(scales)\n",
    "library(ggplot2)\n",
    "library(data.table)\n",
    "\n",
    "msedfR = data.table(msedfR)\n",
    "\n",
    "msedfR[parameters == \"beta\",y_min := 10^-8]\n",
    "msedfR[parameters == \"beta\",y_max := 10^1]\n",
    "msedfR[parameters == \"Sigma\",y_min := 10^-5]\n",
    "msedfR[parameters == \"Sigma\",y_max := 10^1]\n",
    "\n",
    "#msedfR[parameters == \"beta\",y_min := 10^-8]\n",
    "#msedfR[parameters == \"beta\",y_max := 10^-2]\n",
    "#msedfR[parameters == \"tau\",y_min := 10^-8]\n",
    "#msedfR[parameters == \"tau\",y_max := 10^-2]\n",
    "#msedfR[parameters == \"Sigma\",y_min := 10^-5]\n",
    "#msedfR[parameters == \"Sigma\",y_max := 10^-2]\n",
    "\n",
    "\n",
    "msedfR$obssize = factor(msedfR$obssize, levels = c('2', '5', '10', '20', '50'))\n",
    "msedfR$samplesize = factor(msedfR$samplesize, levels = c('1000', '10000', '100000'))\n",
    "msedfR$parameters = factor(msedfR$parameters, levels = c('beta', 'Sigma'), labels = c(beta = expression(hat(bold(beta))), Sigma = expression(hat(bold(Sigma))[])))\n",
    "msedfR$robust <- factor(msedfR$robust, levels = c('Poisson Quasi-Copula', 'Poisson GLMM'),\n",
    "    labels = c(expression(paste(\"Poisson Quasi-Copula\")), expression(paste(\"Poisson GLMM\"))))\n",
    "\n",
    "\n",
    "#mseplot <- ggplot(msedfR[msedfR$mse < 10^0, ], aes(x=samplesize, y=mse, fill=obssize)) + \n",
    "mseplot = ggplot(msedfR[msedfR$mse < 10^3, ], aes(x=samplesize, y=mse, fill=obssize)) + \n",
    "  #geom_boxplot(outlier.size = 0.0, outlier.alpha = 0) +\n",
    "  geom_boxplot(outlier.size = 0.25) +\n",
    "#    geom_violin() +\n",
    "    facet_grid(parameters ~ robust, labeller = label_parsed, scales = \"free_y\") +\n",
    "  theme(legend.position=\"right\", legend.key = element_blank(), axis.text.x = element_text(angle=0, size=11),\n",
    "        axis.text.y = element_text(angle=0, size=12), axis.title.x = element_text(size = 15), \n",
    "        axis.title.y = element_text(size = 15), legend.title = element_text(size = 12),\n",
    "        panel.grid.major = element_blank(), panel.grid.minor = element_blank(),\n",
    "        legend.text=element_text(size=10), panel.background = element_rect(fill = NA, color = \"black\"),\n",
    "        #panel.background = element_blank(), #panel.border = element_blank(),\n",
    "        axis.line = element_line(color = 'black',size=0.3), plot.title = element_text(hjust = 0.5),\n",
    "        strip.background = element_rect(colour=\"black\", fill=\"white\"), strip.text.y = element_text(size=15, face=\"bold\"),\n",
    "        strip.text.x = element_text(size=15)) + \n",
    "  scale_fill_manual(values = c(\"#c85f55\",\n",
    "\"#a964bf\",\n",
    "\"#8db352\",\n",
    "\"#fa7300\",\n",
    "\"#05aec0\")) +\n",
    "#scale_y_log10(breaks = scales::trans_breaks(\"log10\", function(x) 10^x)) +\n",
    "#scale_y_log10(breaks = 10^(-8:8), limit=c(10^-8, 10^2)) + \n",
    "scale_y_log10(breaks = 10^seq(-10, 10, 2), labels=trans_format(\"log10\", math_format(10^.x))) + #, limit=c(10^-8, 10^2)) +\n",
    "  labs(x = \"Number of Individuals\", y = \"MSE of Parameter Estimates\", fill = \"Obs per Individual\") +\n",
    "geom_blank(aes(y = y_max)) + \n",
    "geom_blank(aes(y = y_min)) \n",
    "\n",
    "\"\"\""
   ]
  },
  {
   "cell_type": "code",
   "execution_count": 13,
   "metadata": {},
   "outputs": [
    {
     "data": {
      "text/plain": [
       "RObject{StrSxp}\n",
       "[1] \"updated_msefacetplot_poisson.png\"\n"
      ]
     },
     "execution_count": 13,
     "metadata": {},
     "output_type": "execute_result"
    }
   ],
   "source": [
    "R\"\"\"\n",
    "ggsave('updated_msefacetplot_poisson.png', mseplot, width = 12.5, height = 15, units = 'in', dpi = 450)\n",
    "\"\"\""
   ]
  },
  {
   "cell_type": "code",
   "execution_count": null,
   "metadata": {},
   "outputs": [],
   "source": []
  },
  {
   "cell_type": "code",
   "execution_count": null,
   "metadata": {},
   "outputs": [],
   "source": []
  }
 ],
 "metadata": {
  "@webio": {
   "lastCommId": null,
   "lastKernelId": null
  },
  "kernelspec": {
   "display_name": "Julia 1.6.2",
   "language": "julia",
   "name": "julia-1.6"
  },
  "language_info": {
   "file_extension": ".jl",
   "mimetype": "application/julia",
   "name": "julia",
   "version": "1.6.2"
  }
 },
 "nbformat": 4,
 "nbformat_minor": 2
}
