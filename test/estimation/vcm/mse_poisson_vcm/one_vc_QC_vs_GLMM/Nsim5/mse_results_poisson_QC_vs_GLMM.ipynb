{
 "cells": [
  {
   "cell_type": "markdown",
   "metadata": {},
   "source": [
    "## Poisson VCM Results \n",
    "\n",
    "This notebook goes over the code needed to reproduce the results from the MSE and time figures for the Poisson base distribution with Log Link and covariance matrix $\\Gamma$ structured under variance component model framework as follows:\n",
    "\n",
    "$$\n",
    "\\Gamma = \\sigma_1 * \\mathbf{1_{n} 1_{n}^\\top}\n",
    "$$\n",
    "\n",
    "We run each scenario 5 times and compare the fit with that of GLMM's random intercept model from MixedModels.jl. "
   ]
  },
  {
   "cell_type": "code",
   "execution_count": 1,
   "metadata": {},
   "outputs": [
    {
     "name": "stdout",
     "output_type": "stream",
     "text": [
      "Julia Version 1.6.2\n",
      "Commit 1b93d53fc4 (2021-07-14 15:36 UTC)\n",
      "Platform Info:\n",
      "  OS: macOS (x86_64-apple-darwin18.7.0)\n",
      "  CPU: Intel(R) Core(TM) i9-9880H CPU @ 2.30GHz\n",
      "  WORD_SIZE: 64\n",
      "  LIBM: libopenlibm\n",
      "  LLVM: libLLVM-11.0.1 (ORCJIT, skylake)\n"
     ]
    }
   ],
   "source": [
    "versioninfo()"
   ]
  },
  {
   "cell_type": "code",
   "execution_count": 2,
   "metadata": {},
   "outputs": [],
   "source": [
    "using GLMCopula, DelimitedFiles, LinearAlgebra, Random, GLM\n",
    "using Random, Roots, SpecialFunctions, DataFrames"
   ]
  },
  {
   "cell_type": "code",
   "execution_count": 3,
   "metadata": {},
   "outputs": [
    {
     "data": {
      "text/plain": [
       "5"
      ]
     },
     "execution_count": 3,
     "metadata": {},
     "output_type": "execute_result"
    }
   ],
   "source": [
    "p  = 3    # number of fixed effects, including intercept\n",
    "m  = 1    # number of variance components\n",
    "# true parameter values\n",
    "βtrue = ones(p)\n",
    "Σtrue = [0.1]\n",
    "\n",
    "# generate data\n",
    "intervals = zeros(p + m, 2) #hold intervals\n",
    "curcoverage = zeros(p + m) #hold current coverage resutls\n",
    "trueparams = [βtrue; Σtrue] #hold true parameters\n",
    "\n",
    "#simulation parameters\n",
    "# samplesizes = [10000; 50000]\n",
    "samplesizes = [1000; 10000; 50000]\n",
    "ns = [5; 10; 20; 50]\n",
    "nsims = 5"
   ]
  },
  {
   "cell_type": "code",
   "execution_count": 4,
   "metadata": {},
   "outputs": [
    {
     "name": "stderr",
     "output_type": "stream",
     "text": [
      "┌ Info: reading in the files with results\n",
      "└ @ Main In[4]:1\n"
     ]
    },
    {
     "data": {
      "text/plain": [
       "60-element Vector{Float64}:\n",
       "   0.9385912\n",
       "   0.071370464\n",
       "   0.085912954\n",
       "   0.066451308\n",
       "   0.331229471\n",
       "   0.111996605\n",
       "   0.12086814\n",
       "   0.109607769\n",
       "   0.107360122\n",
       "   0.106037948\n",
       "   0.216540622\n",
       "   0.206829388\n",
       "   0.199788871\n",
       "   ⋮\n",
       "   5.614135706\n",
       "  11.22210926\n",
       "   9.147134283\n",
       "  33.891066639\n",
       "  39.151432277\n",
       "  38.329545607\n",
       "   8.42803087\n",
       "  24.189455013\n",
       " 127.926326896\n",
       " 194.620262977\n",
       " 176.270588987\n",
       " 105.014899261"
      ]
     },
     "execution_count": 4,
     "metadata": {},
     "output_type": "execute_result"
    }
   ],
   "source": [
    "@info \"reading in the files with results\"\n",
    "βMseresult = vec(readdlm(\"mse_beta_multivariate_poisson_vcm$(nsims)reps_sim.csv\", ','))\n",
    "ΣMseresult = vec(readdlm(\"mse_Sigma_multivariate_poisson_vcm$(nsims)reps_sim.csv\", ','))\n",
    "fittimes_QC = vec(readdlm(\"fittimes_multivariate_poisson_vcm$(nsims)reps_sim.csv\", ','))"
   ]
  },
  {
   "cell_type": "code",
   "execution_count": 5,
   "metadata": {},
   "outputs": [
    {
     "data": {
      "text/plain": [
       "60-element Vector{Float64}:\n",
       "  22.311678601\n",
       "   0.211405241\n",
       "   0.234748142\n",
       "   0.173908249\n",
       "   0.195901027\n",
       "   0.326558405\n",
       "   0.360203548\n",
       "   0.359362355\n",
       "   0.374502548\n",
       "   0.313072073\n",
       "   0.742734655\n",
       "   0.964546547\n",
       "   0.683031623\n",
       "   ⋮\n",
       "  30.282173398\n",
       "  25.37697906\n",
       "  35.796364774\n",
       "  35.731619495\n",
       "  37.100866306\n",
       "  33.454236382\n",
       "  35.575919894\n",
       " 118.687448913\n",
       " 115.764597724\n",
       " 140.542932832\n",
       " 133.834541247\n",
       " 114.563915523"
      ]
     },
     "execution_count": 5,
     "metadata": {},
     "output_type": "execute_result"
    }
   ],
   "source": [
    "fittimes_GLMM = vec(readdlm(\"fittimes_GLMM_multivariate_poisson_vcm$(nsims)reps_sim.csv\", ','))"
   ]
  },
  {
   "cell_type": "code",
   "execution_count": 6,
   "metadata": {},
   "outputs": [
    {
     "name": "stderr",
     "output_type": "stream",
     "text": [
      "┌ Info: making results table Quasi-Copula\n",
      "└ @ Main In[6]:2\n"
     ]
    },
    {
     "data": {
      "text/html": [
       "<table class=\"data-frame\"><thead><tr><th></th><th>samplesize</th><th>obssize</th><th>fittime</th><th>se</th><th>nobs</th><th>fitmin</th><th>fitmax</th><th>perobsratio</th></tr><tr><th></th><th>String</th><th>String</th><th>Float64</th><th>Float64</th><th>Int64</th><th>Float64</th><th>Float64</th><th>Float64</th></tr></thead><tbody><p>12 rows × 8 columns</p><tr><th>1</th><td>1000</td><td>5</td><td>0.298711</td><td>0.167543</td><td>5000</td><td>0.131168</td><td>0.466254</td><td>5.97422e-5</td></tr><tr><th>2</th><td>1000</td><td>10</td><td>0.111174</td><td>0.00262708</td><td>10000</td><td>0.108547</td><td>0.113801</td><td>1.11174e-5</td></tr><tr><th>3</th><td>1000</td><td>20</td><td>0.209578</td><td>0.0029123</td><td>20000</td><td>0.206666</td><td>0.21249</td><td>1.04789e-5</td></tr><tr><th>4</th><td>1000</td><td>50</td><td>0.464158</td><td>0.0303162</td><td>50000</td><td>0.433842</td><td>0.494474</td><td>9.28316e-6</td></tr><tr><th>5</th><td>10000</td><td>5</td><td>0.582142</td><td>0.0145579</td><td>50000</td><td>0.567585</td><td>0.5967</td><td>1.16428e-5</td></tr><tr><th>6</th><td>10000</td><td>10</td><td>1.31534</td><td>0.225826</td><td>100000</td><td>1.08952</td><td>1.54117</td><td>1.31534e-5</td></tr><tr><th>7</th><td>10000</td><td>20</td><td>2.35419</td><td>0.235958</td><td>200000</td><td>2.11823</td><td>2.59014</td><td>1.17709e-5</td></tr><tr><th>8</th><td>10000</td><td>50</td><td>6.08928</td><td>0.741749</td><td>500000</td><td>5.34753</td><td>6.83103</td><td>1.21786e-5</td></tr><tr><th>9</th><td>50000</td><td>5</td><td>7.10338</td><td>2.52645</td><td>250000</td><td>4.57692</td><td>9.62983</td><td>2.84135e-5</td></tr><tr><th>10</th><td>50000</td><td>10</td><td>12.5137</td><td>4.47271</td><td>500000</td><td>8.04102</td><td>16.9864</td><td>2.50275e-5</td></tr><tr><th>11</th><td>50000</td><td>20</td><td>25.7894</td><td>6.99935</td><td>1000000</td><td>18.7901</td><td>32.7888</td><td>2.57894e-5</td></tr><tr><th>12</th><td>50000</td><td>50</td><td>125.604</td><td>30.0371</td><td>2500000</td><td>95.5672</td><td>155.641</td><td>5.02417e-5</td></tr></tbody></table>"
      ],
      "text/latex": [
       "\\begin{tabular}{r|cccccccc}\n",
       "\t& samplesize & obssize & fittime & se & nobs & fitmin & fitmax & perobsratio\\\\\n",
       "\t\\hline\n",
       "\t& String & String & Float64 & Float64 & Int64 & Float64 & Float64 & Float64\\\\\n",
       "\t\\hline\n",
       "\t1 & 1000 & 5 & 0.298711 & 0.167543 & 5000 & 0.131168 & 0.466254 & 5.97422e-5 \\\\\n",
       "\t2 & 1000 & 10 & 0.111174 & 0.00262708 & 10000 & 0.108547 & 0.113801 & 1.11174e-5 \\\\\n",
       "\t3 & 1000 & 20 & 0.209578 & 0.0029123 & 20000 & 0.206666 & 0.21249 & 1.04789e-5 \\\\\n",
       "\t4 & 1000 & 50 & 0.464158 & 0.0303162 & 50000 & 0.433842 & 0.494474 & 9.28316e-6 \\\\\n",
       "\t5 & 10000 & 5 & 0.582142 & 0.0145579 & 50000 & 0.567585 & 0.5967 & 1.16428e-5 \\\\\n",
       "\t6 & 10000 & 10 & 1.31534 & 0.225826 & 100000 & 1.08952 & 1.54117 & 1.31534e-5 \\\\\n",
       "\t7 & 10000 & 20 & 2.35419 & 0.235958 & 200000 & 2.11823 & 2.59014 & 1.17709e-5 \\\\\n",
       "\t8 & 10000 & 50 & 6.08928 & 0.741749 & 500000 & 5.34753 & 6.83103 & 1.21786e-5 \\\\\n",
       "\t9 & 50000 & 5 & 7.10338 & 2.52645 & 250000 & 4.57692 & 9.62983 & 2.84135e-5 \\\\\n",
       "\t10 & 50000 & 10 & 12.5137 & 4.47271 & 500000 & 8.04102 & 16.9864 & 2.50275e-5 \\\\\n",
       "\t11 & 50000 & 20 & 25.7894 & 6.99935 & 1000000 & 18.7901 & 32.7888 & 2.57894e-5 \\\\\n",
       "\t12 & 50000 & 50 & 125.604 & 30.0371 & 2500000 & 95.5672 & 155.641 & 5.02417e-5 \\\\\n",
       "\\end{tabular}\n"
      ],
      "text/plain": [
       "\u001b[1m12×8 DataFrame\u001b[0m\n",
       "\u001b[1m Row \u001b[0m│\u001b[1m samplesize \u001b[0m\u001b[1m obssize \u001b[0m\u001b[1m fittime    \u001b[0m\u001b[1m se          \u001b[0m\u001b[1m nobs    \u001b[0m\u001b[1m fitmin    \u001b[0m\u001b[1m fitma\u001b[0m ⋯\n",
       "\u001b[1m     \u001b[0m│\u001b[90m String     \u001b[0m\u001b[90m String  \u001b[0m\u001b[90m Float64    \u001b[0m\u001b[90m Float64     \u001b[0m\u001b[90m Int64   \u001b[0m\u001b[90m Float64   \u001b[0m\u001b[90m Float\u001b[0m ⋯\n",
       "─────┼──────────────────────────────────────────────────────────────────────────\n",
       "   1 │ 1000        5          0.298711   0.167543       5000   0.131168    0.4 ⋯\n",
       "   2 │ 1000        10         0.111174   0.00262708    10000   0.108547    0.1\n",
       "   3 │ 1000        20         0.209578   0.0029123     20000   0.206666    0.2\n",
       "   4 │ 1000        50         0.464158   0.0303162     50000   0.433842    0.4\n",
       "   5 │ 10000       5          0.582142   0.0145579     50000   0.567585    0.5 ⋯\n",
       "   6 │ 10000       10         1.31534    0.225826     100000   1.08952     1.5\n",
       "   7 │ 10000       20         2.35419    0.235958     200000   2.11823     2.5\n",
       "   8 │ 10000       50         6.08928    0.741749     500000   5.34753     6.8\n",
       "   9 │ 50000       5          7.10338    2.52645      250000   4.57692     9.6 ⋯\n",
       "  10 │ 50000       10        12.5137     4.47271      500000   8.04102    16.9\n",
       "  11 │ 50000       20        25.7894     6.99935     1000000  18.7901     32.7\n",
       "  12 │ 50000       50       125.604     30.0371      2500000  95.5672    155.6\n",
       "\u001b[36m                                                               2 columns omitted\u001b[0m"
      ]
     },
     "execution_count": 6,
     "metadata": {},
     "output_type": "execute_result"
    }
   ],
   "source": [
    "#simulation parameters\n",
    "@info \"making results table Quasi-Copula\"\n",
    "sample_sizes = repeat(string.(samplesizes), inner = nsims * length(ns))\n",
    "obs_sizes = repeat(string.(ns), inner = nsims, outer = length(samplesizes))\n",
    "\n",
    "msedf = DataFrame(βmse = βMseresult, Σmse = ΣMseresult, \n",
    "    samplesize = sample_sizes, obssize = obs_sizes, fittimes = fittimes_QC)\n",
    "timedf1 = combine(groupby(msedf, [:samplesize, :obssize]), :fittimes => mean => :fittime,\n",
    "    :fittimes => x -> (std(x)/sqrt(length(x))))\n",
    "rename!(timedf1, Dict(:fittimes_function => \"se\"))\n",
    "timedf1[!, :nobs] = Meta.parse.(timedf1[!, :samplesize]) .* Meta.parse.(timedf1[!, :obssize])\n",
    "timedf1[!, :fitmin] = timedf1[!, :fittime] - timedf1[!, :se]\n",
    "timedf1[!, :fitmax] = timedf1[!, :fittime] + timedf1[!, :se]\n",
    "timedf1[!, :perobsratio] = timedf1[!, :fittime] ./ timedf1[!, :nobs]\n",
    "timedf1"
   ]
  },
  {
   "cell_type": "code",
   "execution_count": 7,
   "metadata": {},
   "outputs": [
    {
     "name": "stderr",
     "output_type": "stream",
     "text": [
      "┌ Info: making results table GLMM\n",
      "└ @ Main In[7]:2\n"
     ]
    },
    {
     "data": {
      "text/html": [
       "<table class=\"data-frame\"><thead><tr><th></th><th>samplesize</th><th>obssize</th><th>fittime</th><th>se</th><th>nobs</th><th>fitmin</th><th>fitmax</th><th>perobsratio</th></tr><tr><th></th><th>String</th><th>String</th><th>Float64</th><th>Float64</th><th>Int64</th><th>Float64</th><th>Float64</th><th>Float64</th></tr></thead><tbody><p>12 rows × 8 columns</p><tr><th>1</th><td>1000</td><td>5</td><td>4.62553</td><td>4.42155</td><td>5000</td><td>0.20398</td><td>9.04708</td><td>0.000925106</td></tr><tr><th>2</th><td>1000</td><td>10</td><td>0.34674</td><td>0.0115156</td><td>10000</td><td>0.335224</td><td>0.358255</td><td>3.4674e-5</td></tr><tr><th>3</th><td>1000</td><td>20</td><td>0.778003</td><td>0.0555915</td><td>20000</td><td>0.722412</td><td>0.833595</td><td>3.89002e-5</td></tr><tr><th>4</th><td>1000</td><td>50</td><td>1.40227</td><td>0.0362679</td><td>50000</td><td>1.36601</td><td>1.43854</td><td>2.80455e-5</td></tr><tr><th>5</th><td>10000</td><td>5</td><td>2.68247</td><td>0.150435</td><td>50000</td><td>2.53204</td><td>2.83291</td><td>5.36494e-5</td></tr><tr><th>6</th><td>10000</td><td>10</td><td>3.19626</td><td>0.0841981</td><td>100000</td><td>3.11206</td><td>3.28046</td><td>3.19626e-5</td></tr><tr><th>7</th><td>10000</td><td>20</td><td>9.1596</td><td>0.505671</td><td>200000</td><td>8.65393</td><td>9.66527</td><td>4.5798e-5</td></tr><tr><th>8</th><td>10000</td><td>50</td><td>19.1081</td><td>0.655077</td><td>500000</td><td>18.453</td><td>19.7631</td><td>3.82161e-5</td></tr><tr><th>9</th><td>50000</td><td>5</td><td>32.8529</td><td>7.42214</td><td>250000</td><td>25.4307</td><td>40.275</td><td>0.000131411</td></tr><tr><th>10</th><td>50000</td><td>10</td><td>28.5586</td><td>1.319</td><td>500000</td><td>27.2396</td><td>29.8776</td><td>5.71172e-5</td></tr><tr><th>11</th><td>50000</td><td>20</td><td>35.5318</td><td>0.586946</td><td>1000000</td><td>34.9449</td><td>36.1187</td><td>3.55318e-5</td></tr><tr><th>12</th><td>50000</td><td>50</td><td>124.679</td><td>5.25913</td><td>2500000</td><td>119.42</td><td>129.938</td><td>4.98715e-5</td></tr></tbody></table>"
      ],
      "text/latex": [
       "\\begin{tabular}{r|cccccccc}\n",
       "\t& samplesize & obssize & fittime & se & nobs & fitmin & fitmax & perobsratio\\\\\n",
       "\t\\hline\n",
       "\t& String & String & Float64 & Float64 & Int64 & Float64 & Float64 & Float64\\\\\n",
       "\t\\hline\n",
       "\t1 & 1000 & 5 & 4.62553 & 4.42155 & 5000 & 0.20398 & 9.04708 & 0.000925106 \\\\\n",
       "\t2 & 1000 & 10 & 0.34674 & 0.0115156 & 10000 & 0.335224 & 0.358255 & 3.4674e-5 \\\\\n",
       "\t3 & 1000 & 20 & 0.778003 & 0.0555915 & 20000 & 0.722412 & 0.833595 & 3.89002e-5 \\\\\n",
       "\t4 & 1000 & 50 & 1.40227 & 0.0362679 & 50000 & 1.36601 & 1.43854 & 2.80455e-5 \\\\\n",
       "\t5 & 10000 & 5 & 2.68247 & 0.150435 & 50000 & 2.53204 & 2.83291 & 5.36494e-5 \\\\\n",
       "\t6 & 10000 & 10 & 3.19626 & 0.0841981 & 100000 & 3.11206 & 3.28046 & 3.19626e-5 \\\\\n",
       "\t7 & 10000 & 20 & 9.1596 & 0.505671 & 200000 & 8.65393 & 9.66527 & 4.5798e-5 \\\\\n",
       "\t8 & 10000 & 50 & 19.1081 & 0.655077 & 500000 & 18.453 & 19.7631 & 3.82161e-5 \\\\\n",
       "\t9 & 50000 & 5 & 32.8529 & 7.42214 & 250000 & 25.4307 & 40.275 & 0.000131411 \\\\\n",
       "\t10 & 50000 & 10 & 28.5586 & 1.319 & 500000 & 27.2396 & 29.8776 & 5.71172e-5 \\\\\n",
       "\t11 & 50000 & 20 & 35.5318 & 0.586946 & 1000000 & 34.9449 & 36.1187 & 3.55318e-5 \\\\\n",
       "\t12 & 50000 & 50 & 124.679 & 5.25913 & 2500000 & 119.42 & 129.938 & 4.98715e-5 \\\\\n",
       "\\end{tabular}\n"
      ],
      "text/plain": [
       "\u001b[1m12×8 DataFrame\u001b[0m\n",
       "\u001b[1m Row \u001b[0m│\u001b[1m samplesize \u001b[0m\u001b[1m obssize \u001b[0m\u001b[1m fittime    \u001b[0m\u001b[1m se        \u001b[0m\u001b[1m nobs    \u001b[0m\u001b[1m fitmin     \u001b[0m\u001b[1m fitmax\u001b[0m ⋯\n",
       "\u001b[1m     \u001b[0m│\u001b[90m String     \u001b[0m\u001b[90m String  \u001b[0m\u001b[90m Float64    \u001b[0m\u001b[90m Float64   \u001b[0m\u001b[90m Int64   \u001b[0m\u001b[90m Float64    \u001b[0m\u001b[90m Float6\u001b[0m ⋯\n",
       "─────┼──────────────────────────────────────────────────────────────────────────\n",
       "   1 │ 1000        5          4.62553   4.42155       5000    0.20398     9.04 ⋯\n",
       "   2 │ 1000        10         0.34674   0.0115156    10000    0.335224    0.35\n",
       "   3 │ 1000        20         0.778003  0.0555915    20000    0.722412    0.83\n",
       "   4 │ 1000        50         1.40227   0.0362679    50000    1.36601     1.43\n",
       "   5 │ 10000       5          2.68247   0.150435     50000    2.53204     2.83 ⋯\n",
       "   6 │ 10000       10         3.19626   0.0841981   100000    3.11206     3.28\n",
       "   7 │ 10000       20         9.1596    0.505671    200000    8.65393     9.66\n",
       "   8 │ 10000       50        19.1081    0.655077    500000   18.453      19.76\n",
       "   9 │ 50000       5         32.8529    7.42214     250000   25.4307     40.27 ⋯\n",
       "  10 │ 50000       10        28.5586    1.319       500000   27.2396     29.87\n",
       "  11 │ 50000       20        35.5318    0.586946   1000000   34.9449     36.11\n",
       "  12 │ 50000       50       124.679     5.25913    2500000  119.42      129.93\n",
       "\u001b[36m                                                               2 columns omitted\u001b[0m"
      ]
     },
     "execution_count": 7,
     "metadata": {},
     "output_type": "execute_result"
    }
   ],
   "source": [
    "#simulation parameters\n",
    "@info \"making results table GLMM\"\n",
    "sample_sizes = repeat(string.(samplesizes), inner = nsims * length(ns))\n",
    "obs_sizes = repeat(string.(ns), inner = nsims, outer = length(samplesizes))\n",
    "\n",
    "msedf = DataFrame(βmse = βMseresult, Σmse = ΣMseresult, \n",
    "    samplesize = sample_sizes, obssize = obs_sizes, fittimes = fittimes_GLMM)\n",
    "timedf2 = combine(groupby(msedf, [:samplesize, :obssize]), :fittimes => mean => :fittime,\n",
    "    :fittimes => x -> (std(x)/sqrt(length(x))))\n",
    "rename!(timedf2, Dict(:fittimes_function => \"se\"))\n",
    "timedf2[!, :nobs] = Meta.parse.(timedf2[!, :samplesize]) .* Meta.parse.(timedf2[!, :obssize])\n",
    "timedf2[!, :fitmin] = timedf2[!, :fittime] - timedf2[!, :se]\n",
    "timedf2[!, :fitmax] = timedf2[!, :fittime] + timedf2[!, :se]\n",
    "timedf2[!, :perobsratio] = timedf2[!, :fittime] ./ timedf2[!, :nobs]\n",
    "timedf2"
   ]
  },
  {
   "cell_type": "code",
   "execution_count": 8,
   "metadata": {},
   "outputs": [
    {
     "name": "stderr",
     "output_type": "stream",
     "text": [
      "┌ Info: Precompiling RCall [6f49c342-dc21-5d91-9882-a32aef131414]\n",
      "└ @ Base loading.jl:1342\n",
      "┌ Warning: RCall.jl: Warning: package ‘ggplot2’ was built under R version 4.0.2\n",
      "└ @ RCall /Users/sarahji/.julia/packages/RCall/iMDW2/src/io.jl:160\n",
      "┌ Warning: RCall.jl: Warning: package ‘cowplot’ was built under R version 4.0.2\n",
      "└ @ RCall /Users/sarahji/.julia/packages/RCall/iMDW2/src/io.jl:160\n"
     ]
    },
    {
     "data": {
      "image/png": "[encoded data removed]"
     },
     "metadata": {},
     "output_type": "display_data"
    },
    {
     "data": {
      "text/plain": [
       "RObject{VecSxp}\n"
      ]
     },
     "execution_count": 8,
     "metadata": {},
     "output_type": "execute_result"
    }
   ],
   "source": [
    "########### plot the runtimes\n",
    "using RCall\n",
    "@rput timedf1\n",
    "@rput timedf2\n",
    "R\"\"\"\n",
    "library(ggplot2)\n",
    "library(cowplot)\n",
    "timedf1$obssize = factor(timedf1$obssize, levels = c('5', '10', '20', '50'))\n",
    "timedf1$samplesize = factor(timedf1$samplesize, levels = c('1000', '10000', '50000'))\n",
    "\n",
    "fittime_1 = ggplot(timedf1, aes(x = samplesize, y = fittime, group = obssize, color = obssize)) + \n",
    "  geom_line() +\n",
    "  geom_point()+\n",
    "  geom_errorbar(aes(ymin=fitmin, ymax=fitmax), width=0.5, alpha = 0.8, position=position_dodge(0.005)) + \n",
    "  theme(legend.position=c(0.15,0.85), legend.key = element_blank(), axis.text.x = element_text(angle=0, size=13),\n",
    "        axis.text.y = element_text(angle=0, size=13), axis.title.x = element_text(size = 17), \n",
    "        axis.title.y = element_text(size = 17), legend.title = element_text(size = 14),\n",
    "        #axis.ticks = element_blank(),\n",
    "        panel.grid.major = element_blank(), legend.text=element_text(size=13),\n",
    "        panel.border = element_blank(), panel.grid.minor = element_blank(), panel.background = element_blank(), \n",
    "        axis.line = element_line(color = 'black',size=0.3), plot.title = element_text(hjust = 0.5)) + \n",
    "   scale_color_manual(values = c(\"#c85f55\",\n",
    "\"#a964bf\",\n",
    "\"#8db352\",\n",
    "\"#fa7300\",\n",
    "\"#05aec0\")) +\n",
    "  labs(x = \"Number of Individuals\", y = \"Fit time (seconds)\", color = \"Obs per Individual\")\n",
    "\n",
    "timedf2$obssize = factor(timedf2$obssize, levels = c('5', '10', '20', '50'))\n",
    "timedf2$samplesize = factor(timedf2$samplesize, levels = c('1000', '10000', '50000'))\n",
    "\n",
    "fittime_2 = ggplot(timedf2, aes(x = samplesize, y = fittime, group = obssize, color = obssize)) + \n",
    "  geom_line() +\n",
    "  geom_point()+\n",
    "  geom_errorbar(aes(ymin=fitmin, ymax=fitmax), width=0.5, alpha = 0.8, position=position_dodge(0.005)) + \n",
    "  theme(legend.position=c(0.15,0.85), legend.key = element_blank(), axis.text.x = element_text(angle=0, size=13),\n",
    "        axis.text.y = element_text(angle=0, size=13), axis.title.x = element_text(size = 17), \n",
    "        axis.title.y = element_text(size = 17), legend.title = element_text(size = 14),\n",
    "        #axis.ticks = element_blank(),\n",
    "        panel.grid.major = element_blank(), legend.text=element_text(size=13),\n",
    "        panel.border = element_blank(), panel.grid.minor = element_blank(), panel.background = element_blank(), \n",
    "        axis.line = element_line(color = 'black',size=0.3), plot.title = element_text(hjust = 0.5)) + \n",
    "   scale_color_manual(values = c(\"#c85f55\",\n",
    "\"#a964bf\",\n",
    "\"#8db352\",\n",
    "\"#fa7300\",\n",
    "\"#05aec0\")) +\n",
    "  labs(x = \"Number of Individuals\", y = \"Fit time (seconds)\", color = \"Obs per Individual\")\n",
    "\n",
    "plot_grid(fittime_1, fittime_2, labels = c(\"Quasi-Copula\", \"GLMM\"))\n",
    "\"\"\""
   ]
  },
  {
   "cell_type": "code",
   "execution_count": 9,
   "metadata": {},
   "outputs": [
    {
     "name": "stderr",
     "output_type": "stream",
     "text": [
      "┌ Warning: RCall.jl: Warning: package ‘scales’ was built under R version 4.0.2\n",
      "└ @ RCall /Users/sarahji/.julia/packages/RCall/iMDW2/src/io.jl:160\n"
     ]
    },
    {
     "data": {
      "image/png": "[encoded data removed]"
     },
     "metadata": {},
     "output_type": "display_data"
    },
    {
     "data": {
      "text/plain": [
       "RObject{VecSxp}\n"
      ]
     },
     "execution_count": 9,
     "metadata": {},
     "output_type": "execute_result"
    }
   ],
   "source": [
    "using RCall\n",
    "@rput timedf1\n",
    "@rput timedf2\n",
    "\n",
    "R\"\"\"\n",
    "library(scales)\n",
    "library(ggplot2)\n",
    "timedf1$obssize <- factor(timedf1$obssize, levels = c('5', '10', '20'))\n",
    "timedf1$samplesize <- factor(timedf1$samplesize, levels = c('1000', '10000', '50000'))\n",
    "\n",
    "fancy_scientific <- function(l) {\n",
    "     # turn in to character string in scientific notation\n",
    "     l <- format(l, scientific = TRUE)\n",
    "     # quote the part before the exponent to keep all the digits\n",
    "     l <- gsub(\"^(.*)e\", \"'\\\\1'e\", l)\n",
    "     # turn the 'e+' into plotmath format\n",
    "     l <- gsub(\"e\", \"%*%10^\", l)\n",
    "     # return this as an expression\n",
    "     parse(text=l)\n",
    "}\n",
    "\n",
    "fittimeperobs1 = ggplot(timedf1, aes(x=nobs, y=perobsratio)) + \n",
    "  geom_line() +\n",
    "  geom_point()+\n",
    "#  geom_errorbar(aes(ymin=fitmin, ymax=fitmax), width=0.5, alpha = 0.8, position=position_dodge(0.005)) + \n",
    "  theme(legend.position=c(0.15,0.8), legend.key = element_blank(), axis.text.x = element_text(angle=0, size=13),\n",
    "        axis.text.y = element_text(angle=0, size=13), axis.title.x = element_text(size = 17), \n",
    "        axis.title.y = element_text(size = 17), legend.title = element_text(size = 14),\n",
    "        #axis.ticks = element_blank(),\n",
    "        panel.grid.major = element_blank(), legend.text=element_text(size=11),\n",
    "        panel.border = element_blank(), panel.grid.minor = element_blank(), panel.background = element_blank(), \n",
    "        axis.line = element_line(color = 'black',size=0.3), plot.title = element_text(hjust = 0.5)) + \n",
    "  labs(x = \"Total Number of Observations\", y = \"Fit time per observation (seconds)\", color = \"Obs per Individual\") +\n",
    "#scale_x_log10(breaks = 10^seq(0, 7, 1), labels=trans_format(\"log10\", math_format(10^.x)))# + #, limit=c(10^0, 10^7))\n",
    "scale_x_continuous(breaks = seq(0, 6000000, 1000000), labels= fancy_scientific) +\n",
    "scale_y_continuous(breaks = c(10^-4, 2 * 10^-4, 3 * 10^-4, 4 * 10^-4, 5 * 10^-4, 6 * 10^-4), labels= fancy_scientific)\n",
    "\n",
    "# glmm fit times\n",
    "timedf2$obssize <- factor(timedf2$obssize, levels = c('5', '10', '20', '50'))\n",
    "timedf2$samplesize <- factor(timedf2$samplesize, levels = c('1000', '10000', '50000'))\n",
    "\n",
    "fancy_scientific <- function(l) {\n",
    "     # turn in to character string in scientific notation\n",
    "     l <- format(l, scientific = TRUE)\n",
    "     # quote the part before the exponent to keep all the digits\n",
    "     l <- gsub(\"^(.*)e\", \"'\\\\1'e\", l)\n",
    "     # turn the 'e+' into plotmath format\n",
    "     l <- gsub(\"e\", \"%*%10^\", l)\n",
    "     # return this as an expression\n",
    "     parse(text=l)\n",
    "}\n",
    "\n",
    "fittimeperobs2 = ggplot(timedf2, aes(x=nobs, y=perobsratio)) + \n",
    "  geom_line() +\n",
    "  geom_point()+\n",
    "#  geom_errorbar(aes(ymin=fitmin, ymax=fitmax), width=0.5, alpha = 0.8, position=position_dodge(0.005)) + \n",
    "  theme(legend.position=c(0.15,0.8), legend.key = element_blank(), axis.text.x = element_text(angle=0, size=13),\n",
    "        axis.text.y = element_text(angle=0, size=13), axis.title.x = element_text(size = 17), \n",
    "        axis.title.y = element_text(size = 17), legend.title = element_text(size = 14),\n",
    "        #axis.ticks = element_blank(),\n",
    "        panel.grid.major = element_blank(), legend.text=element_text(size=11),\n",
    "        panel.border = element_blank(), panel.grid.minor = element_blank(), panel.background = element_blank(), \n",
    "        axis.line = element_line(color = 'black',size=0.3), plot.title = element_text(hjust = 0.5)) + \n",
    "  labs(x = \"Total Number of Observations\", y = \"Fit time per observation (seconds)\", color = \"Obs per Individual\") +\n",
    "#scale_x_log10(breaks = 10^seq(0, 7, 1), labels=trans_format(\"log10\", math_format(10^.x)))# + #, limit=c(10^0, 10^7))\n",
    "scale_x_continuous(breaks = seq(0, 6000000, 1000000), labels= fancy_scientific) +\n",
    "scale_y_continuous(breaks = c(10^-4, 2 * 10^-4, 3 * 10^-4, 4 * 10^-4, 5 * 10^-4, 6 * 10^-4), labels= fancy_scientific)\n",
    "\n",
    "plot_grid(fittimeperobs1, fittimeperobs2, labels = c(\"Quasi-Copula\", \"GLMM\"))\n",
    "\n",
    "\"\"\""
   ]
  },
  {
   "cell_type": "code",
   "execution_count": 14,
   "metadata": {},
   "outputs": [
    {
     "data": {
      "text/html": [
       "<table class=\"data-frame\"><thead><tr><th></th><th>people_obs</th><th>β1</th><th>β2</th><th>β3</th><th>Σ1</th></tr><tr><th></th><th>String</th><th>Tuple…</th><th>Tuple…</th><th>Tuple…</th><th>Tuple…</th></tr></thead><tbody><p>12 rows × 5 columns</p><tr><th>1</th><td>N: 1000  ni: 5</td><td>(0.8, 0.2)</td><td>(1.0, 0.0)</td><td>(0.6, 0.244949)</td><td>(1.0, 0.0)</td></tr><tr><th>2</th><td>N: 1000  ni: 10</td><td>(0.2, 0.2)</td><td>(0.6, 0.244949)</td><td>(0.8, 0.2)</td><td>(0.8, 0.2)</td></tr><tr><th>3</th><td>N: 1000  ni: 20</td><td>(0.4, 0.244949)</td><td>(0.6, 0.244949)</td><td>(0.8, 0.2)</td><td>(1.0, 0.0)</td></tr><tr><th>4</th><td>N: 1000  ni: 50</td><td>(1.0, 0.0)</td><td>(0.8, 0.2)</td><td>(0.8, 0.2)</td><td>(1.0, 0.0)</td></tr><tr><th>5</th><td>N: 10000  ni: 5</td><td>(0.4, 0.244949)</td><td>(0.8, 0.2)</td><td>(0.6, 0.244949)</td><td>(1.0, 0.0)</td></tr><tr><th>6</th><td>N: 10000  ni: 10</td><td>(1.0, 0.0)</td><td>(0.6, 0.244949)</td><td>(0.4, 0.244949)</td><td>(1.0, 0.0)</td></tr><tr><th>7</th><td>N: 10000  ni: 20</td><td>(0.6, 0.244949)</td><td>(0.6, 0.244949)</td><td>(0.8, 0.2)</td><td>(1.0, 0.0)</td></tr><tr><th>8</th><td>N: 10000  ni: 50</td><td>(0.6, 0.244949)</td><td>(0.4, 0.244949)</td><td>(1.0, 0.0)</td><td>(1.0, 0.0)</td></tr><tr><th>9</th><td>N: 50000  ni: 5</td><td>(0.6, 0.244949)</td><td>(0.4, 0.244949)</td><td>(0.4, 0.244949)</td><td>(0.8, 0.2)</td></tr><tr><th>10</th><td>N: 50000  ni: 10</td><td>(0.2, 0.2)</td><td>(0.2, 0.2)</td><td>(0.6, 0.244949)</td><td>(1.0, 0.0)</td></tr><tr><th>11</th><td>N: 50000  ni: 20</td><td>(0.6, 0.244949)</td><td>(0.6, 0.244949)</td><td>(0.6, 0.244949)</td><td>(1.0, 0.0)</td></tr><tr><th>12</th><td>N: 50000  ni: 50</td><td>(1.0, 0.0)</td><td>(0.6, 0.244949)</td><td>(0.8, 0.2)</td><td>(1.0, 0.0)</td></tr></tbody></table>"
      ],
      "text/latex": [
       "\\begin{tabular}{r|ccccc}\n",
       "\t& people\\_obs & β1 & β2 & β3 & Σ1\\\\\n",
       "\t\\hline\n",
       "\t& String & Tuple… & Tuple… & Tuple… & Tuple…\\\\\n",
       "\t\\hline\n",
       "\t1 & N: 1000  ni: 5 & (0.8, 0.2) & (1.0, 0.0) & (0.6, 0.244949) & (1.0, 0.0) \\\\\n",
       "\t2 & N: 1000  ni: 10 & (0.2, 0.2) & (0.6, 0.244949) & (0.8, 0.2) & (0.8, 0.2) \\\\\n",
       "\t3 & N: 1000  ni: 20 & (0.4, 0.244949) & (0.6, 0.244949) & (0.8, 0.2) & (1.0, 0.0) \\\\\n",
       "\t4 & N: 1000  ni: 50 & (1.0, 0.0) & (0.8, 0.2) & (0.8, 0.2) & (1.0, 0.0) \\\\\n",
       "\t5 & N: 10000  ni: 5 & (0.4, 0.244949) & (0.8, 0.2) & (0.6, 0.244949) & (1.0, 0.0) \\\\\n",
       "\t6 & N: 10000  ni: 10 & (1.0, 0.0) & (0.6, 0.244949) & (0.4, 0.244949) & (1.0, 0.0) \\\\\n",
       "\t7 & N: 10000  ni: 20 & (0.6, 0.244949) & (0.6, 0.244949) & (0.8, 0.2) & (1.0, 0.0) \\\\\n",
       "\t8 & N: 10000  ni: 50 & (0.6, 0.244949) & (0.4, 0.244949) & (1.0, 0.0) & (1.0, 0.0) \\\\\n",
       "\t9 & N: 50000  ni: 5 & (0.6, 0.244949) & (0.4, 0.244949) & (0.4, 0.244949) & (0.8, 0.2) \\\\\n",
       "\t10 & N: 50000  ni: 10 & (0.2, 0.2) & (0.2, 0.2) & (0.6, 0.244949) & (1.0, 0.0) \\\\\n",
       "\t11 & N: 50000  ni: 20 & (0.6, 0.244949) & (0.6, 0.244949) & (0.6, 0.244949) & (1.0, 0.0) \\\\\n",
       "\t12 & N: 50000  ni: 50 & (1.0, 0.0) & (0.6, 0.244949) & (0.8, 0.2) & (1.0, 0.0) \\\\\n",
       "\\end{tabular}\n"
      ],
      "text/plain": [
       "\u001b[1m12×5 DataFrame\u001b[0m\n",
       "\u001b[1m Row \u001b[0m│\u001b[1m people_obs       \u001b[0m\u001b[1m β1              \u001b[0m\u001b[1m β2              \u001b[0m\u001b[1m β3              \u001b[0m\u001b[1m Σ1\u001b[0m ⋯\n",
       "\u001b[1m     \u001b[0m│\u001b[90m String           \u001b[0m\u001b[90m Tuple…          \u001b[0m\u001b[90m Tuple…          \u001b[0m\u001b[90m Tuple…          \u001b[0m\u001b[90m Tu\u001b[0m ⋯\n",
       "─────┼──────────────────────────────────────────────────────────────────────────\n",
       "   1 │ N: 1000  ni: 5    (0.8, 0.2)       (1.0, 0.0)       (0.6, 0.244949)  (1 ⋯\n",
       "   2 │ N: 1000  ni: 10   (0.2, 0.2)       (0.6, 0.244949)  (0.8, 0.2)       (0\n",
       "   3 │ N: 1000  ni: 20   (0.4, 0.244949)  (0.6, 0.244949)  (0.8, 0.2)       (1\n",
       "   4 │ N: 1000  ni: 50   (1.0, 0.0)       (0.8, 0.2)       (0.8, 0.2)       (1\n",
       "   5 │ N: 10000  ni: 5   (0.4, 0.244949)  (0.8, 0.2)       (0.6, 0.244949)  (1 ⋯\n",
       "   6 │ N: 10000  ni: 10  (1.0, 0.0)       (0.6, 0.244949)  (0.4, 0.244949)  (1\n",
       "   7 │ N: 10000  ni: 20  (0.6, 0.244949)  (0.6, 0.244949)  (0.8, 0.2)       (1\n",
       "   8 │ N: 10000  ni: 50  (0.6, 0.244949)  (0.4, 0.244949)  (1.0, 0.0)       (1\n",
       "   9 │ N: 50000  ni: 5   (0.6, 0.244949)  (0.4, 0.244949)  (0.4, 0.244949)  (0 ⋯\n",
       "  10 │ N: 50000  ni: 10  (0.2, 0.2)       (0.2, 0.2)       (0.6, 0.244949)  (1\n",
       "  11 │ N: 50000  ni: 20  (0.6, 0.244949)  (0.6, 0.244949)  (0.6, 0.244949)  (1\n",
       "  12 │ N: 50000  ni: 50  (1.0, 0.0)       (0.6, 0.244949)  (0.8, 0.2)       (1\n",
       "\u001b[36m                                                                1 column omitted\u001b[0m"
      ]
     },
     "execution_count": 14,
     "metadata": {},
     "output_type": "execute_result"
    }
   ],
   "source": [
    "######  supplementary table s1\n",
    "using Random, DataFrames, DelimitedFiles, Statistics\n",
    "import StatsBase: sem\n",
    "\n",
    "βΣcoverage = readdlm(\"beta_sigma_coverage_multivariate_poisson_vcm5reps_sim.csv\", ',')\n",
    "# samplesizes = collect(1000:1000:6000)\n",
    "# ns = [10; 25; 50; 100; 1000]\n",
    "# nsims = 1000\n",
    "\n",
    "m  = 1\n",
    "\n",
    "covdf = DataFrame(Matrix(transpose(βΣcoverage)), :auto)\n",
    "rename!(covdf, Symbol.([[\"β$i\" for i in 1:p]; [\"Σ$i\" for i in 1:m]]))\n",
    "covdf[!, :samplesize] = sample_sizes\n",
    "covdf[!, :obssize] = obs_sizes\n",
    "first(covdf, 10)\n",
    "\n",
    "row_stats = [[(mean(col), sem(col)) for col = eachcol(d[!, 1:end-2])] for d = groupby(covdf, [:samplesize; :obssize])]\n",
    "df = DataFrame(row_stats, :auto)\n",
    "ss_obs = unique(\"N: \" .* sample_sizes .* \"  ni: \" .* obs_sizes)\n",
    "rename!(df, Symbol.(ss_obs))\n",
    "covdfdisplay = DataFrame([[names(df)]; collect.(eachrow(df))], \n",
    "    [:people_obs; Symbol.([[\"β$i\" for i in 1:p]; [\"Σ$i\" for i in 1:m]])])\n",
    "# deletecols!(covdfdisplay, p + 2)\n",
    "covdfdisplay\n"
   ]
  },
  {
   "cell_type": "code",
   "execution_count": 15,
   "metadata": {},
   "outputs": [
    {
     "data": {
      "text/html": [
       "<table class=\"data-frame\"><thead><tr><th></th><th>mse</th><th>obssize</th><th>samplesize</th><th>parameters</th><th>robust</th></tr><tr><th></th><th>Float64</th><th>String</th><th>String</th><th>String</th><th>String</th></tr></thead><tbody><p>237 rows × 5 columns</p><tr><th>1</th><td>0.000291998</td><td>5</td><td>1000</td><td>beta</td><td>Poisson Quasi-Copula</td></tr><tr><th>2</th><td>0.000209858</td><td>5</td><td>1000</td><td>beta</td><td>Poisson Quasi-Copula</td></tr><tr><th>3</th><td>9.53274e-5</td><td>5</td><td>1000</td><td>beta</td><td>Poisson Quasi-Copula</td></tr><tr><th>4</th><td>0.000813863</td><td>5</td><td>1000</td><td>beta</td><td>Poisson Quasi-Copula</td></tr><tr><th>5</th><td>6.11894e-6</td><td>5</td><td>1000</td><td>beta</td><td>Poisson Quasi-Copula</td></tr><tr><th>6</th><td>0.000103041</td><td>10</td><td>1000</td><td>beta</td><td>Poisson Quasi-Copula</td></tr><tr><th>7</th><td>1.67519e-5</td><td>10</td><td>1000</td><td>beta</td><td>Poisson Quasi-Copula</td></tr><tr><th>8</th><td>4.03904e-5</td><td>10</td><td>1000</td><td>beta</td><td>Poisson Quasi-Copula</td></tr><tr><th>9</th><td>0.000162616</td><td>10</td><td>1000</td><td>beta</td><td>Poisson Quasi-Copula</td></tr><tr><th>10</th><td>0.00012345</td><td>10</td><td>1000</td><td>beta</td><td>Poisson Quasi-Copula</td></tr><tr><th>11</th><td>1.99333e-6</td><td>20</td><td>1000</td><td>beta</td><td>Poisson Quasi-Copula</td></tr><tr><th>12</th><td>3.32257e-6</td><td>20</td><td>1000</td><td>beta</td><td>Poisson Quasi-Copula</td></tr><tr><th>13</th><td>4.01647e-5</td><td>20</td><td>1000</td><td>beta</td><td>Poisson Quasi-Copula</td></tr><tr><th>14</th><td>8.56588e-6</td><td>20</td><td>1000</td><td>beta</td><td>Poisson Quasi-Copula</td></tr><tr><th>15</th><td>5.05639e-5</td><td>20</td><td>1000</td><td>beta</td><td>Poisson Quasi-Copula</td></tr><tr><th>16</th><td>4.02847e-5</td><td>50</td><td>1000</td><td>beta</td><td>Poisson Quasi-Copula</td></tr><tr><th>17</th><td>1.92039e-5</td><td>50</td><td>1000</td><td>beta</td><td>Poisson Quasi-Copula</td></tr><tr><th>18</th><td>8.25635e-7</td><td>50</td><td>1000</td><td>beta</td><td>Poisson Quasi-Copula</td></tr><tr><th>19</th><td>5.04932e-6</td><td>50</td><td>1000</td><td>beta</td><td>Poisson Quasi-Copula</td></tr><tr><th>20</th><td>8.88152e-6</td><td>50</td><td>1000</td><td>beta</td><td>Poisson Quasi-Copula</td></tr><tr><th>21</th><td>5.96507e-5</td><td>5</td><td>10000</td><td>beta</td><td>Poisson Quasi-Copula</td></tr><tr><th>22</th><td>5.29428e-6</td><td>5</td><td>10000</td><td>beta</td><td>Poisson Quasi-Copula</td></tr><tr><th>23</th><td>3.9373e-5</td><td>5</td><td>10000</td><td>beta</td><td>Poisson Quasi-Copula</td></tr><tr><th>24</th><td>3.58384e-6</td><td>5</td><td>10000</td><td>beta</td><td>Poisson Quasi-Copula</td></tr><tr><th>25</th><td>5.00107e-6</td><td>5</td><td>10000</td><td>beta</td><td>Poisson Quasi-Copula</td></tr><tr><th>26</th><td>3.33509e-6</td><td>10</td><td>10000</td><td>beta</td><td>Poisson Quasi-Copula</td></tr><tr><th>27</th><td>1.01895e-5</td><td>10</td><td>10000</td><td>beta</td><td>Poisson Quasi-Copula</td></tr><tr><th>28</th><td>5.36809e-6</td><td>10</td><td>10000</td><td>beta</td><td>Poisson Quasi-Copula</td></tr><tr><th>29</th><td>3.7459e-6</td><td>10</td><td>10000</td><td>beta</td><td>Poisson Quasi-Copula</td></tr><tr><th>30</th><td>6.44917e-7</td><td>10</td><td>10000</td><td>beta</td><td>Poisson Quasi-Copula</td></tr><tr><th>&vellip;</th><td>&vellip;</td><td>&vellip;</td><td>&vellip;</td><td>&vellip;</td><td>&vellip;</td></tr></tbody></table>"
      ],
      "text/latex": [
       "\\begin{tabular}{r|ccccc}\n",
       "\t& mse & obssize & samplesize & parameters & robust\\\\\n",
       "\t\\hline\n",
       "\t& Float64 & String & String & String & String\\\\\n",
       "\t\\hline\n",
       "\t1 & 0.000291998 & 5 & 1000 & beta & Poisson Quasi-Copula \\\\\n",
       "\t2 & 0.000209858 & 5 & 1000 & beta & Poisson Quasi-Copula \\\\\n",
       "\t3 & 9.53274e-5 & 5 & 1000 & beta & Poisson Quasi-Copula \\\\\n",
       "\t4 & 0.000813863 & 5 & 1000 & beta & Poisson Quasi-Copula \\\\\n",
       "\t5 & 6.11894e-6 & 5 & 1000 & beta & Poisson Quasi-Copula \\\\\n",
       "\t6 & 0.000103041 & 10 & 1000 & beta & Poisson Quasi-Copula \\\\\n",
       "\t7 & 1.67519e-5 & 10 & 1000 & beta & Poisson Quasi-Copula \\\\\n",
       "\t8 & 4.03904e-5 & 10 & 1000 & beta & Poisson Quasi-Copula \\\\\n",
       "\t9 & 0.000162616 & 10 & 1000 & beta & Poisson Quasi-Copula \\\\\n",
       "\t10 & 0.00012345 & 10 & 1000 & beta & Poisson Quasi-Copula \\\\\n",
       "\t11 & 1.99333e-6 & 20 & 1000 & beta & Poisson Quasi-Copula \\\\\n",
       "\t12 & 3.32257e-6 & 20 & 1000 & beta & Poisson Quasi-Copula \\\\\n",
       "\t13 & 4.01647e-5 & 20 & 1000 & beta & Poisson Quasi-Copula \\\\\n",
       "\t14 & 8.56588e-6 & 20 & 1000 & beta & Poisson Quasi-Copula \\\\\n",
       "\t15 & 5.05639e-5 & 20 & 1000 & beta & Poisson Quasi-Copula \\\\\n",
       "\t16 & 4.02847e-5 & 50 & 1000 & beta & Poisson Quasi-Copula \\\\\n",
       "\t17 & 1.92039e-5 & 50 & 1000 & beta & Poisson Quasi-Copula \\\\\n",
       "\t18 & 8.25635e-7 & 50 & 1000 & beta & Poisson Quasi-Copula \\\\\n",
       "\t19 & 5.04932e-6 & 50 & 1000 & beta & Poisson Quasi-Copula \\\\\n",
       "\t20 & 8.88152e-6 & 50 & 1000 & beta & Poisson Quasi-Copula \\\\\n",
       "\t21 & 5.96507e-5 & 5 & 10000 & beta & Poisson Quasi-Copula \\\\\n",
       "\t22 & 5.29428e-6 & 5 & 10000 & beta & Poisson Quasi-Copula \\\\\n",
       "\t23 & 3.9373e-5 & 5 & 10000 & beta & Poisson Quasi-Copula \\\\\n",
       "\t24 & 3.58384e-6 & 5 & 10000 & beta & Poisson Quasi-Copula \\\\\n",
       "\t25 & 5.00107e-6 & 5 & 10000 & beta & Poisson Quasi-Copula \\\\\n",
       "\t26 & 3.33509e-6 & 10 & 10000 & beta & Poisson Quasi-Copula \\\\\n",
       "\t27 & 1.01895e-5 & 10 & 10000 & beta & Poisson Quasi-Copula \\\\\n",
       "\t28 & 5.36809e-6 & 10 & 10000 & beta & Poisson Quasi-Copula \\\\\n",
       "\t29 & 3.7459e-6 & 10 & 10000 & beta & Poisson Quasi-Copula \\\\\n",
       "\t30 & 6.44917e-7 & 10 & 10000 & beta & Poisson Quasi-Copula \\\\\n",
       "\t$\\dots$ & $\\dots$ & $\\dots$ & $\\dots$ & $\\dots$ & $\\dots$ \\\\\n",
       "\\end{tabular}\n"
      ],
      "text/plain": [
       "\u001b[1m237×5 DataFrame\u001b[0m\n",
       "\u001b[1m Row \u001b[0m│\u001b[1m mse         \u001b[0m\u001b[1m obssize \u001b[0m\u001b[1m samplesize \u001b[0m\u001b[1m parameters \u001b[0m\u001b[1m robust               \u001b[0m\n",
       "\u001b[1m     \u001b[0m│\u001b[90m Float64     \u001b[0m\u001b[90m String  \u001b[0m\u001b[90m String     \u001b[0m\u001b[90m String     \u001b[0m\u001b[90m String               \u001b[0m\n",
       "─────┼────────────────────────────────────────────────────────────────────\n",
       "   1 │ 0.000291998  5        1000        beta        Poisson Quasi-Copula\n",
       "   2 │ 0.000209858  5        1000        beta        Poisson Quasi-Copula\n",
       "   3 │ 9.53274e-5   5        1000        beta        Poisson Quasi-Copula\n",
       "   4 │ 0.000813863  5        1000        beta        Poisson Quasi-Copula\n",
       "   5 │ 6.11894e-6   5        1000        beta        Poisson Quasi-Copula\n",
       "   6 │ 0.000103041  10       1000        beta        Poisson Quasi-Copula\n",
       "   7 │ 1.67519e-5   10       1000        beta        Poisson Quasi-Copula\n",
       "   8 │ 4.03904e-5   10       1000        beta        Poisson Quasi-Copula\n",
       "   9 │ 0.000162616  10       1000        beta        Poisson Quasi-Copula\n",
       "  10 │ 0.00012345   10       1000        beta        Poisson Quasi-Copula\n",
       "  11 │ 1.99333e-6   20       1000        beta        Poisson Quasi-Copula\n",
       "  ⋮  │      ⋮          ⋮         ⋮           ⋮                ⋮\n",
       " 228 │ 0.00790438   20       50000       Sigma       Poisson GLMM\n",
       " 229 │ 0.00794694   20       50000       Sigma       Poisson GLMM\n",
       " 230 │ 0.00793384   20       50000       Sigma       Poisson GLMM\n",
       " 231 │ 0.00795622   20       50000       Sigma       Poisson GLMM\n",
       " 232 │ 0.00792695   20       50000       Sigma       Poisson GLMM\n",
       " 233 │ 0.00966553   50       50000       Sigma       Poisson GLMM\n",
       " 234 │ 0.00965644   50       50000       Sigma       Poisson GLMM\n",
       " 235 │ 0.00966066   50       50000       Sigma       Poisson GLMM\n",
       " 236 │ 0.00965901   50       50000       Sigma       Poisson GLMM\n",
       " 237 │ 0.00966457   50       50000       Sigma       Poisson GLMM\n",
       "\u001b[36m                                                          216 rows omitted\u001b[0m"
      ]
     },
     "execution_count": 15,
     "metadata": {},
     "output_type": "execute_result"
    }
   ],
   "source": [
    "#### \n",
    "#import data and reorganize to create figure\n",
    "using Random, DataFrames, DelimitedFiles, Statistics, RCall, Printf\n",
    "import StatsBase: sem\n",
    "\n",
    "βMseresultpoisson = vec(readdlm(\"mse_beta_multivariate_poisson_vcm$(nsims)reps_sim.csv\", ','))\n",
    "ΣMseresultpoisson = vec(readdlm(\"mse_Sigma_multivariate_poisson_vcm$(nsims)reps_sim.csv\", ','))\n",
    "\n",
    "βMseresultpoisson_GLMM = vec(readdlm(\"mse_beta_GLMM_multivariate_poisson_vcm$(nsims)reps_sim.csv\", ','))\n",
    "ΣMseresultpoisson_GLMM = vec(readdlm(\"mse_Sigma_GLMM_multivariate_poisson_vcm$(nsims)reps_sim.csv\", ','))\n",
    "\n",
    "\n",
    "p = 3; m = 1\n",
    "sample_sizes = repeat(string.(samplesizes), inner = nsims * length(ns))\n",
    "obs_sizes = repeat(string.(ns), inner = nsims, outer = length(samplesizes))\n",
    "msedf1 = DataFrame(βmse = βMseresultpoisson, Σmse = ΣMseresultpoisson, \n",
    "    samplesize = sample_sizes, obssize = obs_sizes)\n",
    "\n",
    "msedf2 = DataFrame(βmse = βMseresultpoisson_GLMM, Σmse = ΣMseresultpoisson_GLMM, \n",
    "    samplesize = sample_sizes, obssize = obs_sizes)\n",
    "\n",
    "#rename to make parsing easier for R.\n",
    "\n",
    "msedf1 = deepcopy(msedf1)\n",
    "rename!(msedf1, [\"betamse\"\n",
    "    \"Sigmamse\"\n",
    "    \"samplesize\"\n",
    " \"obssize\"]);\n",
    "\n",
    "msedf2 = deepcopy(msedf2)\n",
    "rename!(msedf2, [\"betamse\"\n",
    "    \"Sigmamse\"\n",
    "    \"samplesize\"\n",
    " \"obssize\"]);\n",
    "\n",
    "mses = [msedf1[!, :betamse]; msedf1[!, :Sigmamse]; msedf2[!, :betamse]; msedf2[!, :Sigmamse]]\n",
    "    # msedfnormR[!, :betamse]; msedfnormR[!, :taumse]; msedfnormR[!, :Sigmamse]]\n",
    "obssize = [collect([repeat(msedf1[!, :obssize], 2)]...) ; collect([repeat(msedf2[!, :obssize], 2)]...)]\n",
    "#40\n",
    "samplesize = [collect([repeat(msedf1[!, :samplesize], 2)]...) ; collect([repeat(msedf2[!, :samplesize], 2)]...)]\n",
    "\n",
    "parameters = [collect([repeat(string.([:beta, :Sigma]), inner = nsims * length(ns) * length(samplesizes))]...) ; collect([repeat(string.([:beta, :Sigma]), inner = nsims * length(ns) * length(samplesizes))]...)]\n",
    "robust = [collect([repeat([\"Poisson Quasi-Copula\"], 2 * nsims * length(ns) * length(samplesizes))]...); collect([repeat([\"Poisson GLMM\"],  2 * nsims * length(ns) * length(samplesizes))]...)]\n",
    "\n",
    "msedfR = DataFrame(mse = mses, obssize = obssize, samplesize = samplesize,\n",
    "    parameters = parameters, robust = robust)\n",
    "\n",
    "#5 of the 30,000 simulations did not converge, filter out\n",
    "msedfR = filter(x -> !isnan(x.mse), msedfR)\n",
    "# additionally, there are 5 where an error was not caught so it did not try a differnt solver\n",
    "msedfR = filter(x -> x.mse < 40000, msedfR)"
   ]
  },
  {
   "cell_type": "code",
   "execution_count": 16,
   "metadata": {},
   "outputs": [
    {
     "name": "stderr",
     "output_type": "stream",
     "text": [
      "┌ Warning: RCall.jl: Warning: package ‘data.table’ was built under R version 4.0.2\n",
      "└ @ RCall /Users/sarahji/.julia/packages/RCall/iMDW2/src/io.jl:160\n"
     ]
    },
    {
     "data": {
      "image/png": "[encoded data removed]"
     },
     "metadata": {},
     "output_type": "display_data"
    },
    {
     "data": {
      "text/plain": [
       "RObject{VecSxp}\n"
      ]
     },
     "execution_count": 16,
     "metadata": {},
     "output_type": "execute_result"
    }
   ],
   "source": [
    "### working on figure next\n",
    "@rput msedfR\n",
    "\n",
    "R\"\"\"\n",
    "library(scales)\n",
    "library(ggplot2)\n",
    "library(data.table)\n",
    "\n",
    "msedfR = data.table(msedfR)\n",
    "\n",
    "msedfR[parameters == \"beta\",y_min := 10^-8]\n",
    "msedfR[parameters == \"beta\",y_max := 10^1]\n",
    "msedfR[parameters == \"Sigma\",y_min := 10^-5]\n",
    "msedfR[parameters == \"Sigma\",y_max := 10^1]\n",
    "\n",
    "#msedfR[parameters == \"beta\",y_min := 10^-8]\n",
    "#msedfR[parameters == \"beta\",y_max := 10^-2]\n",
    "#msedfR[parameters == \"tau\",y_min := 10^-8]\n",
    "#msedfR[parameters == \"tau\",y_max := 10^-2]\n",
    "#msedfR[parameters == \"Sigma\",y_min := 10^-5]\n",
    "#msedfR[parameters == \"Sigma\",y_max := 10^-2]\n",
    "\n",
    "\n",
    "msedfR$obssize = factor(msedfR$obssize, levels = c('5', '10', '20', '50'))\n",
    "msedfR$samplesize = factor(msedfR$samplesize, levels = c('1000', '10000','50000'))\n",
    "msedfR$parameters = factor(msedfR$parameters, levels = c('beta', 'Sigma'), labels = c(beta = expression(hat(bold(beta))), Sigma = expression(hat(bold(Sigma))[])))\n",
    "msedfR$robust <- factor(msedfR$robust, levels = c('Poisson Quasi-Copula', 'Poisson GLMM'),\n",
    "    labels = c(expression(paste(\"Poisson Quasi-Copula\")), expression(paste(\"Poisson GLMM\"))))\n",
    "\n",
    "\n",
    "#mseplot <- ggplot(msedfR[msedfR$mse < 10^0, ], aes(x=samplesize, y=mse, fill=obssize)) + \n",
    "mseplot = ggplot(msedfR[msedfR$mse < 10^3, ], aes(x=samplesize, y=mse, fill=obssize)) + \n",
    "  #geom_boxplot(outlier.size = 0.0, outlier.alpha = 0) +\n",
    "  geom_boxplot(outlier.size = 0.25) +\n",
    "#    geom_violin() +\n",
    "    facet_grid(parameters ~ robust, labeller = label_parsed, scales = \"free_y\") +\n",
    "  theme(legend.position=\"right\", legend.key = element_blank(), axis.text.x = element_text(angle=0, size=11),\n",
    "        axis.text.y = element_text(angle=0, size=12), axis.title.x = element_text(size = 15), \n",
    "        axis.title.y = element_text(size = 15), legend.title = element_text(size = 12),\n",
    "        panel.grid.major = element_blank(), panel.grid.minor = element_blank(),\n",
    "        legend.text=element_text(size=10), panel.background = element_rect(fill = NA, color = \"black\"),\n",
    "        #panel.background = element_blank(), #panel.border = element_blank(),\n",
    "        axis.line = element_line(color = 'black',size=0.3), plot.title = element_text(hjust = 0.5),\n",
    "        strip.background = element_rect(colour=\"black\", fill=\"white\"), strip.text.y = element_text(size=15, face=\"bold\"),\n",
    "        strip.text.x = element_text(size=15)) + \n",
    "  scale_fill_manual(values = c(\"#c85f55\",\n",
    "\"#a964bf\",\n",
    "\"#8db352\",\n",
    "\"#fa7300\",\n",
    "\"#05aec0\")) +\n",
    "#scale_y_log10(breaks = scales::trans_breaks(\"log10\", function(x) 10^x)) +\n",
    "#scale_y_log10(breaks = 10^(-8:8), limit=c(10^-8, 10^2)) + \n",
    "scale_y_log10(breaks = 10^seq(-10, 10, 2), labels=trans_format(\"log10\", math_format(10^.x))) + #, limit=c(10^-8, 10^2)) +\n",
    "  labs(x = \"Number of Individuals\", y = \"MSE of Parameter Estimates\", fill = \"Obs per Individual\") +\n",
    "geom_blank(aes(y = y_max)) + \n",
    "geom_blank(aes(y = y_min)) \n",
    "\n",
    "\"\"\""
   ]
  },
  {
   "cell_type": "code",
   "execution_count": 17,
   "metadata": {},
   "outputs": [
    {
     "data": {
      "text/plain": [
       "RObject{StrSxp}\n",
       "[1] \"updated_msefacetplot_N5.png\"\n"
      ]
     },
     "execution_count": 17,
     "metadata": {},
     "output_type": "execute_result"
    }
   ],
   "source": [
    "R\"\"\"\n",
    "ggsave('updated_msefacetplot_N5.png', mseplot, width = 12.5, height = 15, units = 'in', dpi = 450)\n",
    "\"\"\""
   ]
  },
  {
   "cell_type": "code",
   "execution_count": null,
   "metadata": {},
   "outputs": [],
   "source": []
  }
 ],
 "metadata": {
  "@webio": {
   "lastCommId": null,
   "lastKernelId": null
  },
  "kernelspec": {
   "display_name": "Julia 1.6.2",
   "language": "julia",
   "name": "julia-1.6"
  },
  "language_info": {
   "file_extension": ".jl",
   "mimetype": "application/julia",
   "name": "julia",
   "version": "1.6.2"
  }
 },
 "nbformat": 4,
 "nbformat_minor": 2
}
