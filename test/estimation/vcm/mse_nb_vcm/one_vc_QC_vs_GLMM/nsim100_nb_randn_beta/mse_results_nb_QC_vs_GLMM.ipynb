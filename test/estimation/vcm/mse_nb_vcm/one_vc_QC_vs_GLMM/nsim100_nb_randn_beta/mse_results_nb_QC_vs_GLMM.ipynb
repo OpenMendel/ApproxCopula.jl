{
 "cells": [
  {
   "cell_type": "markdown",
   "metadata": {},
   "source": [
    "## Negative Binomial VCM Results \n",
    "\n",
    "This notebook goes over the code needed to reproduce the results from the MSE and time figures for the Negative Binomial base distribution with Log Link and covariance matrix $\\Gamma$ structured under variance component model framework as follows:\n",
    "\n",
    "$$\n",
    "\\Gamma = \\sigma_1 * \\mathbf{1_{n} 1_{n}^\\top}\n",
    "$$\n",
    "\n",
    "In this example simulate three fixed effects $\\beta \\sim$ randn(p) where p = 3 fixed effects.\n",
    "\n",
    "We run each scenario 100 times and compare the fit with that of GLMM's random intercept model from MixedModels.jl. "
   ]
  },
  {
   "cell_type": "code",
   "execution_count": 1,
   "metadata": {},
   "outputs": [
    {
     "name": "stdout",
     "output_type": "stream",
     "text": [
      "Julia Version 1.6.2\n",
      "Commit 1b93d53fc4 (2021-07-14 15:36 UTC)\n",
      "Platform Info:\n",
      "  OS: macOS (x86_64-apple-darwin18.7.0)\n",
      "  CPU: Intel(R) Core(TM) i9-9880H CPU @ 2.30GHz\n",
      "  WORD_SIZE: 64\n",
      "  LIBM: libopenlibm\n",
      "  LLVM: libLLVM-11.0.1 (ORCJIT, skylake)\n"
     ]
    }
   ],
   "source": [
    "versioninfo()"
   ]
  },
  {
   "cell_type": "code",
   "execution_count": 2,
   "metadata": {},
   "outputs": [],
   "source": [
    "using GLMCopula, DelimitedFiles, LinearAlgebra, Random, GLM\n",
    "using Random, Roots, SpecialFunctions, DataFrames"
   ]
  },
  {
   "cell_type": "code",
   "execution_count": 3,
   "metadata": {},
   "outputs": [
    {
     "data": {
      "text/plain": [
       "100"
      ]
     },
     "execution_count": 3,
     "metadata": {},
     "output_type": "execute_result"
    }
   ],
   "source": [
    "p  = 3    # number of fixed effects, including intercept\n",
    "m  = 1    # number of variance components\n",
    "# true parameter values\n",
    "Random.seed!(1234)\n",
    "βtrue = randn(p)\n",
    "rtrue = 10\n",
    "Σtrue = [0.1]\n",
    "\n",
    "# generate data\n",
    "intervals = zeros(p + m, 2) #hold intervals\n",
    "curcoverage = zeros(p + m) #hold current coverage resutls\n",
    "trueparams = [βtrue; rtrue; Σtrue] #hold true parameters\n",
    "\n",
    "#simulation parameters\n",
    "samplesizes = [100; 1000; 10000]\n",
    "ns = [2; 5; 10; 15; 20; 25]\n",
    "nsims = 100"
   ]
  },
  {
   "cell_type": "code",
   "execution_count": 4,
   "metadata": {},
   "outputs": [
    {
     "name": "stderr",
     "output_type": "stream",
     "text": [
      "┌ Info: reading in the files with results\n",
      "└ @ Main In[4]:1\n"
     ]
    },
    {
     "data": {
      "text/plain": [
       "1800-element Vector{Float64}:\n",
       "   0.156487728\n",
       "   0.175209342\n",
       "   0.146498052\n",
       "   0.123588563\n",
       "   0.163731009\n",
       "   0.169121774\n",
       " NaN\n",
       "   0.096650705\n",
       "   0.145765288\n",
       "   0.146776947\n",
       "   0.168334818\n",
       " NaN\n",
       "   0.150398859\n",
       "   ⋮\n",
       "  14.57105758\n",
       "  14.604639925\n",
       "  15.259204839\n",
       "  13.5320722\n",
       "  13.844101082\n",
       "  14.767020922\n",
       "  15.462080272\n",
       "  14.733132531\n",
       "  12.350505118\n",
       "  14.634767618\n",
       "  15.006680761\n",
       "  14.818074909"
      ]
     },
     "execution_count": 4,
     "metadata": {},
     "output_type": "execute_result"
    }
   ],
   "source": [
    "@info \"reading in the files with results\"\n",
    "βMseresult = vec(readdlm(\"mse_beta_multivariate_nb_vcm$(nsims)reps_sim.csv\", ','))\n",
    "ΣMseresult = vec(readdlm(\"mse_Sigma_multivariate_nb_vcm$(nsims)reps_sim.csv\", ','))\n",
    "fittimes_QC = vec(readdlm(\"fittimes_multivariate_nb_vcm$(nsims)reps_sim.csv\", ','))"
   ]
  },
  {
   "cell_type": "code",
   "execution_count": 5,
   "metadata": {},
   "outputs": [
    {
     "data": {
      "text/plain": [
       "1800-element Vector{Float64}:\n",
       "   0.316190126\n",
       "   0.016436368\n",
       "   0.017019368\n",
       "   0.016128736\n",
       "   0.015043076\n",
       "   0.016748436\n",
       " NaN\n",
       "   0.014266581\n",
       "   0.015152926\n",
       "   0.017052358\n",
       "   0.016405912\n",
       " NaN\n",
       "   0.016590481\n",
       "   ⋮\n",
       "  16.381802337\n",
       "  16.906561464\n",
       "  16.865890325\n",
       "  15.291891692\n",
       "  18.6822194\n",
       "  18.909916886\n",
       "  15.086475919\n",
       "  17.2832781\n",
       "  17.966309712\n",
       "  17.024314953\n",
       "  16.829654256\n",
       "  17.073721341"
      ]
     },
     "execution_count": 5,
     "metadata": {},
     "output_type": "execute_result"
    }
   ],
   "source": [
    "fittimes_GLMM = vec(readdlm(\"fittimes_GLMM_multivariate_NB_vcm$(nsims)reps_sim.csv\", ','))"
   ]
  },
  {
   "cell_type": "code",
   "execution_count": 6,
   "metadata": {},
   "outputs": [
    {
     "name": "stderr",
     "output_type": "stream",
     "text": [
      "┌ Info: making results table Quasi-Copula\n",
      "└ @ Main In[6]:2\n"
     ]
    },
    {
     "data": {
      "text/html": [
       "<div class=\"data-frame\"><p>18 rows × 8 columns</p><table class=\"data-frame\"><thead><tr><th></th><th>samplesize</th><th>obssize</th><th>fittime</th><th>se</th><th>nobs</th><th>fitmin</th><th>fitmax</th><th>perobsratio</th></tr><tr><th></th><th title=\"String\">String</th><th title=\"String\">String</th><th title=\"Float64\">Float64</th><th title=\"Float64\">Float64</th><th title=\"Int64\">Int64</th><th title=\"Float64\">Float64</th><th title=\"Float64\">Float64</th><th title=\"Float64\">Float64</th></tr></thead><tbody><tr><th>1</th><td>100</td><td>2</td><td>NaN</td><td>NaN</td><td>200</td><td>NaN</td><td>NaN</td><td>NaN</td></tr><tr><th>2</th><td>100</td><td>5</td><td>0.126362</td><td>0.00163346</td><td>500</td><td>0.124728</td><td>0.127995</td><td>0.000252724</td></tr><tr><th>3</th><td>100</td><td>10</td><td>0.135583</td><td>0.00201722</td><td>1000</td><td>0.133566</td><td>0.137601</td><td>0.000135583</td></tr><tr><th>4</th><td>100</td><td>15</td><td>0.162463</td><td>0.00329783</td><td>1500</td><td>0.159165</td><td>0.165761</td><td>0.000108309</td></tr><tr><th>5</th><td>100</td><td>20</td><td>0.163778</td><td>0.00234945</td><td>2000</td><td>0.161428</td><td>0.166127</td><td>8.18888e-5</td></tr><tr><th>6</th><td>100</td><td>25</td><td>0.178582</td><td>0.00200682</td><td>2500</td><td>0.176575</td><td>0.180589</td><td>7.14328e-5</td></tr><tr><th>7</th><td>1000</td><td>2</td><td>0.379602</td><td>0.00376731</td><td>2000</td><td>0.375835</td><td>0.38337</td><td>0.000189801</td></tr><tr><th>8</th><td>1000</td><td>5</td><td>0.676689</td><td>0.0468873</td><td>5000</td><td>0.629802</td><td>0.723576</td><td>0.000135338</td></tr><tr><th>9</th><td>1000</td><td>10</td><td>0.990534</td><td>0.0622005</td><td>10000</td><td>0.928334</td><td>1.05273</td><td>9.90534e-5</td></tr><tr><th>10</th><td>1000</td><td>15</td><td>1.24629</td><td>0.0581156</td><td>15000</td><td>1.18817</td><td>1.3044</td><td>8.30859e-5</td></tr><tr><th>11</th><td>1000</td><td>20</td><td>1.33315</td><td>0.0639594</td><td>20000</td><td>1.26919</td><td>1.39711</td><td>6.66577e-5</td></tr><tr><th>12</th><td>1000</td><td>25</td><td>1.47383</td><td>0.0520414</td><td>25000</td><td>1.42179</td><td>1.52587</td><td>5.89533e-5</td></tr><tr><th>13</th><td>10000</td><td>2</td><td>6.43046</td><td>0.200251</td><td>20000</td><td>6.2302</td><td>6.63071</td><td>0.000321523</td></tr><tr><th>14</th><td>10000</td><td>5</td><td>7.92652</td><td>0.151762</td><td>50000</td><td>7.77476</td><td>8.07828</td><td>0.00015853</td></tr><tr><th>15</th><td>10000</td><td>10</td><td>9.84167</td><td>0.051894</td><td>100000</td><td>9.78978</td><td>9.89357</td><td>9.84167e-5</td></tr><tr><th>16</th><td>10000</td><td>15</td><td>12.9303</td><td>0.0811829</td><td>150000</td><td>12.8491</td><td>13.0115</td><td>8.6202e-5</td></tr><tr><th>17</th><td>10000</td><td>20</td><td>12.2355</td><td>0.067241</td><td>200000</td><td>12.1682</td><td>12.3027</td><td>6.11774e-5</td></tr><tr><th>18</th><td>10000</td><td>25</td><td>14.6793</td><td>0.0850509</td><td>250000</td><td>14.5943</td><td>14.7644</td><td>5.87174e-5</td></tr></tbody></table></div>"
      ],
      "text/latex": [
       "\\begin{tabular}{r|cccccccc}\n",
       "\t& samplesize & obssize & fittime & se & nobs & fitmin & fitmax & perobsratio\\\\\n",
       "\t\\hline\n",
       "\t& String & String & Float64 & Float64 & Int64 & Float64 & Float64 & Float64\\\\\n",
       "\t\\hline\n",
       "\t1 & 100 & 2 & NaN & NaN & 200 & NaN & NaN & NaN \\\\\n",
       "\t2 & 100 & 5 & 0.126362 & 0.00163346 & 500 & 0.124728 & 0.127995 & 0.000252724 \\\\\n",
       "\t3 & 100 & 10 & 0.135583 & 0.00201722 & 1000 & 0.133566 & 0.137601 & 0.000135583 \\\\\n",
       "\t4 & 100 & 15 & 0.162463 & 0.00329783 & 1500 & 0.159165 & 0.165761 & 0.000108309 \\\\\n",
       "\t5 & 100 & 20 & 0.163778 & 0.00234945 & 2000 & 0.161428 & 0.166127 & 8.18888e-5 \\\\\n",
       "\t6 & 100 & 25 & 0.178582 & 0.00200682 & 2500 & 0.176575 & 0.180589 & 7.14328e-5 \\\\\n",
       "\t7 & 1000 & 2 & 0.379602 & 0.00376731 & 2000 & 0.375835 & 0.38337 & 0.000189801 \\\\\n",
       "\t8 & 1000 & 5 & 0.676689 & 0.0468873 & 5000 & 0.629802 & 0.723576 & 0.000135338 \\\\\n",
       "\t9 & 1000 & 10 & 0.990534 & 0.0622005 & 10000 & 0.928334 & 1.05273 & 9.90534e-5 \\\\\n",
       "\t10 & 1000 & 15 & 1.24629 & 0.0581156 & 15000 & 1.18817 & 1.3044 & 8.30859e-5 \\\\\n",
       "\t11 & 1000 & 20 & 1.33315 & 0.0639594 & 20000 & 1.26919 & 1.39711 & 6.66577e-5 \\\\\n",
       "\t12 & 1000 & 25 & 1.47383 & 0.0520414 & 25000 & 1.42179 & 1.52587 & 5.89533e-5 \\\\\n",
       "\t13 & 10000 & 2 & 6.43046 & 0.200251 & 20000 & 6.2302 & 6.63071 & 0.000321523 \\\\\n",
       "\t14 & 10000 & 5 & 7.92652 & 0.151762 & 50000 & 7.77476 & 8.07828 & 0.00015853 \\\\\n",
       "\t15 & 10000 & 10 & 9.84167 & 0.051894 & 100000 & 9.78978 & 9.89357 & 9.84167e-5 \\\\\n",
       "\t16 & 10000 & 15 & 12.9303 & 0.0811829 & 150000 & 12.8491 & 13.0115 & 8.6202e-5 \\\\\n",
       "\t17 & 10000 & 20 & 12.2355 & 0.067241 & 200000 & 12.1682 & 12.3027 & 6.11774e-5 \\\\\n",
       "\t18 & 10000 & 25 & 14.6793 & 0.0850509 & 250000 & 14.5943 & 14.7644 & 5.87174e-5 \\\\\n",
       "\\end{tabular}\n"
      ],
      "text/plain": [
       "\u001b[1m18×8 DataFrame\u001b[0m\n",
       "\u001b[1m Row \u001b[0m│\u001b[1m samplesize \u001b[0m\u001b[1m obssize \u001b[0m\u001b[1m fittime    \u001b[0m\u001b[1m se           \u001b[0m\u001b[1m nobs   \u001b[0m\u001b[1m fitmin     \u001b[0m\u001b[1m fitm\u001b[0m ⋯\n",
       "\u001b[1m     \u001b[0m│\u001b[90m String     \u001b[0m\u001b[90m String  \u001b[0m\u001b[90m Float64    \u001b[0m\u001b[90m Float64      \u001b[0m\u001b[90m Int64  \u001b[0m\u001b[90m Float64    \u001b[0m\u001b[90m Floa\u001b[0m ⋯\n",
       "─────┼──────────────────────────────────────────────────────────────────────────\n",
       "   1 │ 100         2        NaN         NaN              200  NaN         NaN  ⋯\n",
       "   2 │ 100         5          0.126362    0.00163346     500    0.124728    0.\n",
       "   3 │ 100         10         0.135583    0.00201722    1000    0.133566    0.\n",
       "   4 │ 100         15         0.162463    0.00329783    1500    0.159165    0.\n",
       "   5 │ 100         20         0.163778    0.00234945    2000    0.161428    0. ⋯\n",
       "   6 │ 100         25         0.178582    0.00200682    2500    0.176575    0.\n",
       "   7 │ 1000        2          0.379602    0.00376731    2000    0.375835    0.\n",
       "   8 │ 1000        5          0.676689    0.0468873     5000    0.629802    0.\n",
       "   9 │ 1000        10         0.990534    0.0622005    10000    0.928334    1. ⋯\n",
       "  10 │ 1000        15         1.24629     0.0581156    15000    1.18817     1.\n",
       "  11 │ 1000        20         1.33315     0.0639594    20000    1.26919     1.\n",
       "  12 │ 1000        25         1.47383     0.0520414    25000    1.42179     1.\n",
       "  13 │ 10000       2          6.43046     0.200251     20000    6.2302      6. ⋯\n",
       "  14 │ 10000       5          7.92652     0.151762     50000    7.77476     8.\n",
       "  15 │ 10000       10         9.84167     0.051894    100000    9.78978     9.\n",
       "  16 │ 10000       15        12.9303      0.0811829   150000   12.8491     13.\n",
       "  17 │ 10000       20        12.2355      0.067241    200000   12.1682     12. ⋯\n",
       "  18 │ 10000       25        14.6793      0.0850509   250000   14.5943     14.\n",
       "\u001b[36m                                                               2 columns omitted\u001b[0m"
      ]
     },
     "execution_count": 6,
     "metadata": {},
     "output_type": "execute_result"
    }
   ],
   "source": [
    "#simulation parameters\n",
    "@info \"making results table Quasi-Copula\"\n",
    "sample_sizes = repeat(string.(samplesizes), inner = nsims * length(ns))\n",
    "obs_sizes = repeat(string.(ns), inner = nsims, outer = length(samplesizes))\n",
    "\n",
    "msedf = DataFrame(βmse = βMseresult, Σmse = ΣMseresult, \n",
    "    samplesize = sample_sizes, obssize = obs_sizes, fittimes = fittimes_QC)\n",
    "timedf1 = combine(groupby(msedf, [:samplesize, :obssize]), :fittimes => mean => :fittime,\n",
    "    :fittimes => x -> (std(x)/sqrt(length(x))))\n",
    "rename!(timedf1, Dict(:fittimes_function => \"se\"))\n",
    "timedf1[!, :nobs] = Meta.parse.(timedf1[!, :samplesize]) .* Meta.parse.(timedf1[!, :obssize])\n",
    "timedf1[!, :fitmin] = timedf1[!, :fittime] - timedf1[!, :se]\n",
    "timedf1[!, :fitmax] = timedf1[!, :fittime] + timedf1[!, :se]\n",
    "timedf1[!, :perobsratio] = timedf1[!, :fittime] ./ timedf1[!, :nobs]\n",
    "timedf1"
   ]
  },
  {
   "cell_type": "code",
   "execution_count": 7,
   "metadata": {},
   "outputs": [
    {
     "name": "stderr",
     "output_type": "stream",
     "text": [
      "┌ Info: making results table GLMM\n",
      "└ @ Main In[7]:2\n"
     ]
    },
    {
     "data": {
      "text/html": [
       "<div class=\"data-frame\"><p>18 rows × 8 columns</p><table class=\"data-frame\"><thead><tr><th></th><th>samplesize</th><th>obssize</th><th>fittime</th><th>se</th><th>nobs</th><th>fitmin</th><th>fitmax</th><th>perobsratio</th></tr><tr><th></th><th title=\"String\">String</th><th title=\"String\">String</th><th title=\"Float64\">Float64</th><th title=\"Float64\">Float64</th><th title=\"Int64\">Int64</th><th title=\"Float64\">Float64</th><th title=\"Float64\">Float64</th><th title=\"Float64\">Float64</th></tr></thead><tbody><tr><th>1</th><td>100</td><td>2</td><td>NaN</td><td>NaN</td><td>200</td><td>NaN</td><td>NaN</td><td>NaN</td></tr><tr><th>2</th><td>100</td><td>5</td><td>0.0339996</td><td>0.000287964</td><td>500</td><td>0.0337116</td><td>0.0342875</td><td>6.79992e-5</td></tr><tr><th>3</th><td>100</td><td>10</td><td>0.0667958</td><td>0.000577671</td><td>1000</td><td>0.0662181</td><td>0.0673735</td><td>6.67958e-5</td></tr><tr><th>4</th><td>100</td><td>15</td><td>0.0997356</td><td>0.000908954</td><td>1500</td><td>0.0988266</td><td>0.100645</td><td>6.64904e-5</td></tr><tr><th>5</th><td>100</td><td>20</td><td>0.130851</td><td>0.00116639</td><td>2000</td><td>0.129684</td><td>0.132017</td><td>6.54254e-5</td></tr><tr><th>6</th><td>100</td><td>25</td><td>0.161888</td><td>0.00139845</td><td>2500</td><td>0.160489</td><td>0.163286</td><td>6.4755e-5</td></tr><tr><th>7</th><td>1000</td><td>2</td><td>0.166504</td><td>0.00123075</td><td>2000</td><td>0.165273</td><td>0.167735</td><td>8.32521e-5</td></tr><tr><th>8</th><td>1000</td><td>5</td><td>0.552018</td><td>0.0197297</td><td>5000</td><td>0.532288</td><td>0.571748</td><td>0.000110404</td></tr><tr><th>9</th><td>1000</td><td>10</td><td>1.06305</td><td>0.0344553</td><td>10000</td><td>1.02859</td><td>1.0975</td><td>0.000106305</td></tr><tr><th>10</th><td>1000</td><td>15</td><td>1.52005</td><td>0.0446187</td><td>15000</td><td>1.47543</td><td>1.56467</td><td>0.000101337</td></tr><tr><th>11</th><td>1000</td><td>20</td><td>2.29371</td><td>0.0547483</td><td>20000</td><td>2.23896</td><td>2.34846</td><td>0.000114686</td></tr><tr><th>12</th><td>1000</td><td>25</td><td>2.63368</td><td>0.0628088</td><td>25000</td><td>2.57087</td><td>2.69649</td><td>0.000105347</td></tr><tr><th>13</th><td>10000</td><td>2</td><td>2.69286</td><td>0.0617608</td><td>20000</td><td>2.6311</td><td>2.75462</td><td>0.000134643</td></tr><tr><th>14</th><td>10000</td><td>5</td><td>5.62365</td><td>0.125565</td><td>50000</td><td>5.49808</td><td>5.74921</td><td>0.000112473</td></tr><tr><th>15</th><td>10000</td><td>10</td><td>6.85874</td><td>0.0523683</td><td>100000</td><td>6.80637</td><td>6.91111</td><td>6.85874e-5</td></tr><tr><th>16</th><td>10000</td><td>15</td><td>10.2115</td><td>0.0507325</td><td>150000</td><td>10.1607</td><td>10.2622</td><td>6.80764e-5</td></tr><tr><th>17</th><td>10000</td><td>20</td><td>14.3139</td><td>0.0726767</td><td>200000</td><td>14.2412</td><td>14.3866</td><td>7.15694e-5</td></tr><tr><th>18</th><td>10000</td><td>25</td><td>17.3007</td><td>0.148137</td><td>250000</td><td>17.1526</td><td>17.4489</td><td>6.9203e-5</td></tr></tbody></table></div>"
      ],
      "text/latex": [
       "\\begin{tabular}{r|cccccccc}\n",
       "\t& samplesize & obssize & fittime & se & nobs & fitmin & fitmax & perobsratio\\\\\n",
       "\t\\hline\n",
       "\t& String & String & Float64 & Float64 & Int64 & Float64 & Float64 & Float64\\\\\n",
       "\t\\hline\n",
       "\t1 & 100 & 2 & NaN & NaN & 200 & NaN & NaN & NaN \\\\\n",
       "\t2 & 100 & 5 & 0.0339996 & 0.000287964 & 500 & 0.0337116 & 0.0342875 & 6.79992e-5 \\\\\n",
       "\t3 & 100 & 10 & 0.0667958 & 0.000577671 & 1000 & 0.0662181 & 0.0673735 & 6.67958e-5 \\\\\n",
       "\t4 & 100 & 15 & 0.0997356 & 0.000908954 & 1500 & 0.0988266 & 0.100645 & 6.64904e-5 \\\\\n",
       "\t5 & 100 & 20 & 0.130851 & 0.00116639 & 2000 & 0.129684 & 0.132017 & 6.54254e-5 \\\\\n",
       "\t6 & 100 & 25 & 0.161888 & 0.00139845 & 2500 & 0.160489 & 0.163286 & 6.4755e-5 \\\\\n",
       "\t7 & 1000 & 2 & 0.166504 & 0.00123075 & 2000 & 0.165273 & 0.167735 & 8.32521e-5 \\\\\n",
       "\t8 & 1000 & 5 & 0.552018 & 0.0197297 & 5000 & 0.532288 & 0.571748 & 0.000110404 \\\\\n",
       "\t9 & 1000 & 10 & 1.06305 & 0.0344553 & 10000 & 1.02859 & 1.0975 & 0.000106305 \\\\\n",
       "\t10 & 1000 & 15 & 1.52005 & 0.0446187 & 15000 & 1.47543 & 1.56467 & 0.000101337 \\\\\n",
       "\t11 & 1000 & 20 & 2.29371 & 0.0547483 & 20000 & 2.23896 & 2.34846 & 0.000114686 \\\\\n",
       "\t12 & 1000 & 25 & 2.63368 & 0.0628088 & 25000 & 2.57087 & 2.69649 & 0.000105347 \\\\\n",
       "\t13 & 10000 & 2 & 2.69286 & 0.0617608 & 20000 & 2.6311 & 2.75462 & 0.000134643 \\\\\n",
       "\t14 & 10000 & 5 & 5.62365 & 0.125565 & 50000 & 5.49808 & 5.74921 & 0.000112473 \\\\\n",
       "\t15 & 10000 & 10 & 6.85874 & 0.0523683 & 100000 & 6.80637 & 6.91111 & 6.85874e-5 \\\\\n",
       "\t16 & 10000 & 15 & 10.2115 & 0.0507325 & 150000 & 10.1607 & 10.2622 & 6.80764e-5 \\\\\n",
       "\t17 & 10000 & 20 & 14.3139 & 0.0726767 & 200000 & 14.2412 & 14.3866 & 7.15694e-5 \\\\\n",
       "\t18 & 10000 & 25 & 17.3007 & 0.148137 & 250000 & 17.1526 & 17.4489 & 6.9203e-5 \\\\\n",
       "\\end{tabular}\n"
      ],
      "text/plain": [
       "\u001b[1m18×8 DataFrame\u001b[0m\n",
       "\u001b[1m Row \u001b[0m│\u001b[1m samplesize \u001b[0m\u001b[1m obssize \u001b[0m\u001b[1m fittime     \u001b[0m\u001b[1m se            \u001b[0m\u001b[1m nobs   \u001b[0m\u001b[1m fitmin      \u001b[0m\u001b[1m f\u001b[0m ⋯\n",
       "\u001b[1m     \u001b[0m│\u001b[90m String     \u001b[0m\u001b[90m String  \u001b[0m\u001b[90m Float64     \u001b[0m\u001b[90m Float64       \u001b[0m\u001b[90m Int64  \u001b[0m\u001b[90m Float64     \u001b[0m\u001b[90m F\u001b[0m ⋯\n",
       "─────┼──────────────────────────────────────────────────────────────────────────\n",
       "   1 │ 100         2        NaN          NaN               200  NaN          N ⋯\n",
       "   2 │ 100         5          0.0339996    0.000287964     500    0.0337116\n",
       "   3 │ 100         10         0.0667958    0.000577671    1000    0.0662181\n",
       "   4 │ 100         15         0.0997356    0.000908954    1500    0.0988266\n",
       "   5 │ 100         20         0.130851     0.00116639     2000    0.129684     ⋯\n",
       "   6 │ 100         25         0.161888     0.00139845     2500    0.160489\n",
       "   7 │ 1000        2          0.166504     0.00123075     2000    0.165273\n",
       "   8 │ 1000        5          0.552018     0.0197297      5000    0.532288\n",
       "   9 │ 1000        10         1.06305      0.0344553     10000    1.02859      ⋯\n",
       "  10 │ 1000        15         1.52005      0.0446187     15000    1.47543\n",
       "  11 │ 1000        20         2.29371      0.0547483     20000    2.23896\n",
       "  12 │ 1000        25         2.63368      0.0628088     25000    2.57087\n",
       "  13 │ 10000       2          2.69286      0.0617608     20000    2.6311       ⋯\n",
       "  14 │ 10000       5          5.62365      0.125565      50000    5.49808\n",
       "  15 │ 10000       10         6.85874      0.0523683    100000    6.80637\n",
       "  16 │ 10000       15        10.2115       0.0507325    150000   10.1607\n",
       "  17 │ 10000       20        14.3139       0.0726767    200000   14.2412       ⋯\n",
       "  18 │ 10000       25        17.3007       0.148137     250000   17.1526\n",
       "\u001b[36m                                                               2 columns omitted\u001b[0m"
      ]
     },
     "execution_count": 7,
     "metadata": {},
     "output_type": "execute_result"
    }
   ],
   "source": [
    "#simulation parameters\n",
    "@info \"making results table GLMM\"\n",
    "sample_sizes = repeat(string.(samplesizes), inner = nsims * length(ns))\n",
    "obs_sizes = repeat(string.(ns), inner = nsims, outer = length(samplesizes))\n",
    "\n",
    "msedf = DataFrame(βmse = βMseresult, Σmse = ΣMseresult, \n",
    "    samplesize = sample_sizes, obssize = obs_sizes, fittimes = fittimes_GLMM)\n",
    "timedf2 = combine(groupby(msedf, [:samplesize, :obssize]), :fittimes => mean => :fittime,\n",
    "    :fittimes => x -> (std(x)/sqrt(length(x))))\n",
    "rename!(timedf2, Dict(:fittimes_function => \"se\"))\n",
    "timedf2[!, :nobs] = Meta.parse.(timedf2[!, :samplesize]) .* Meta.parse.(timedf2[!, :obssize])\n",
    "timedf2[!, :fitmin] = timedf2[!, :fittime] - timedf2[!, :se]\n",
    "timedf2[!, :fitmax] = timedf2[!, :fittime] + timedf2[!, :se]\n",
    "timedf2[!, :perobsratio] = timedf2[!, :fittime] ./ timedf2[!, :nobs]\n",
    "timedf2"
   ]
  },
  {
   "cell_type": "code",
   "execution_count": 8,
   "metadata": {},
   "outputs": [
    {
     "name": "stderr",
     "output_type": "stream",
     "text": [
      "┌ Warning: RCall.jl: Warning: package ‘ggplot2’ was built under R version 4.0.2\n",
      "└ @ RCall /Users/sarahji/.julia/packages/RCall/iMDW2/src/io.jl:160\n",
      "┌ Warning: RCall.jl: Warning: package ‘cowplot’ was built under R version 4.0.2\n",
      "└ @ RCall /Users/sarahji/.julia/packages/RCall/iMDW2/src/io.jl:160\n",
      "┌ Warning: RCall.jl: Warning: Removed 1 row(s) containing missing values (geom_path).\n",
      "│ Warning: Removed 1 rows containing missing values (geom_point).\n",
      "│ Warning: Removed 1 row(s) containing missing values (geom_path).\n",
      "│ Warning: Removed 1 rows containing missing values (geom_point).\n",
      "└ @ RCall /Users/sarahji/.julia/packages/RCall/iMDW2/src/io.jl:160\n"
     ]
    },
    {
     "data": {
      "image/png": "[encoded data removed]"
     },
     "metadata": {},
     "output_type": "display_data"
    },
    {
     "data": {
      "text/plain": [
       "RObject{VecSxp}\n"
      ]
     },
     "execution_count": 8,
     "metadata": {},
     "output_type": "execute_result"
    }
   ],
   "source": [
    "########### plot the runtimes\n",
    "using RCall\n",
    "@rput timedf1\n",
    "@rput timedf2\n",
    "R\"\"\"\n",
    "library(ggplot2)\n",
    "library(cowplot)\n",
    "timedf1$obssize = factor(timedf1$obssize, levels = c('2', '5', '10', '15', '20', '25'))\n",
    "timedf1$samplesize = factor(timedf1$samplesize, levels = c('100', '1000', '10000'))\n",
    "\n",
    "fittime_1 = ggplot(timedf1, aes(x = samplesize, y = fittime, group = obssize, color = obssize)) + \n",
    "  geom_line() +\n",
    "  geom_point()+\n",
    "  geom_errorbar(aes(ymin=fitmin, ymax=fitmax), width=0.5, alpha = 0.8, position=position_dodge(0.005)) + \n",
    "  theme(legend.position=c(0.15,0.85), legend.key = element_blank(), axis.text.x = element_text(angle=0, size=13),\n",
    "        axis.text.y = element_text(angle=0, size=13), axis.title.x = element_text(size = 17), \n",
    "        axis.title.y = element_text(size = 17), legend.title = element_text(size = 14),\n",
    "        #axis.ticks = element_blank(),\n",
    "        panel.grid.major = element_blank(), legend.text=element_text(size=13),\n",
    "        panel.border = element_blank(), panel.grid.minor = element_blank(), panel.background = element_blank(), \n",
    "        axis.line = element_line(color = 'black',size=0.3), plot.title = element_text(hjust = 0.5)) + \n",
    "   scale_color_manual(values = c(\"#c85f55\",\n",
    "\"#a964bf\",\n",
    "\"#8db352\",\n",
    "\"#fa7300\",\n",
    "\"#05aec0\",\n",
    "\"#ff1493\")) +\n",
    "  labs(x = \"Number of Individuals\", y = \"Fit time (seconds)\", color = \"Obs per Individual\")\n",
    "\n",
    "timedf2$obssize = factor(timedf2$obssize, levels = c('2', '5', '10', '15', '20', '25'))\n",
    "timedf2$samplesize = factor(timedf2$samplesize, levels = c('100', '1000', '10000'))\n",
    "\n",
    "fittime_2 = ggplot(timedf2, aes(x = samplesize, y = fittime, group = obssize, color = obssize)) + \n",
    "  geom_line() +\n",
    "  geom_point()+\n",
    "  geom_errorbar(aes(ymin=fitmin, ymax=fitmax), width=0.5, alpha = 0.8, position=position_dodge(0.005)) + \n",
    "  theme(legend.position=c(0.15,0.85), legend.key = element_blank(), axis.text.x = element_text(angle=0, size=13),\n",
    "        axis.text.y = element_text(angle=0, size=13), axis.title.x = element_text(size = 17), \n",
    "        axis.title.y = element_text(size = 17), legend.title = element_text(size = 14),\n",
    "        #axis.ticks = element_blank(),\n",
    "        panel.grid.major = element_blank(), legend.text=element_text(size=13),\n",
    "        panel.border = element_blank(), panel.grid.minor = element_blank(), panel.background = element_blank(), \n",
    "        axis.line = element_line(color = 'black',size=0.3), plot.title = element_text(hjust = 0.5)) + \n",
    "   scale_color_manual(values = c(\"#c85f55\",\n",
    "\"#a964bf\",\n",
    "\"#8db352\",\n",
    "\"#fa7300\",\n",
    "\"#05aec0\",\n",
    "\"#ff1493\")) +\n",
    "  labs(x = \"Number of Individuals\", y = \"Fit time (seconds)\", color = \"Obs per Individual\")\n",
    "\n",
    "fittime_nsamples = plot_grid(fittime_1, fittime_2, labels = c(\"Quasi-Copula\", \"GLMM\"))\n",
    "\"\"\""
   ]
  },
  {
   "cell_type": "code",
   "execution_count": 9,
   "metadata": {},
   "outputs": [
    {
     "data": {
      "text/plain": [
       "RObject{StrSxp}\n",
       "[1] \"fittime_nsamples_nb_vs_glmm.png\"\n"
      ]
     },
     "execution_count": 9,
     "metadata": {},
     "output_type": "execute_result"
    }
   ],
   "source": [
    "R\"\"\"\n",
    "ggsave('fittime_nsamples_nb_vs_glmm.png', fittime_nsamples, width = 12.5, height = 15, units = 'in', dpi = 450)\n",
    "\"\"\""
   ]
  },
  {
   "cell_type": "code",
   "execution_count": 10,
   "metadata": {},
   "outputs": [
    {
     "data": {
      "text/html": [
       "<div class=\"data-frame\"><p>18 rows × 6 columns (omitted printing of 2 columns)</p><table class=\"data-frame\"><thead><tr><th></th><th>people_obs</th><th>β1</th><th>β2</th><th>β3</th></tr><tr><th></th><th title=\"String\">String</th><th title=\"Tuple{Float64, Float64}\">Tuple…</th><th title=\"Tuple{Float64, Float64}\">Tuple…</th><th title=\"Tuple{Float64, Float64}\">Tuple…</th></tr></thead><tbody><tr><th>1</th><td>N: 100  ni: 2</td><td>(0.0404572, 0.0172203)</td><td>(0.0704572, 0.0237899)</td><td>(0.0504572, 0.019707)</td></tr><tr><th>2</th><td>N: 100  ni: 5</td><td>(0.06, 0.0238683)</td><td>(0.02, 0.0140705)</td><td>(0.04, 0.0196946)</td></tr><tr><th>3</th><td>N: 100  ni: 10</td><td>(0.0, 0.0)</td><td>(0.0, 0.0)</td><td>(0.02, 0.0140705)</td></tr><tr><th>4</th><td>N: 100  ni: 15</td><td>(0.0, 0.0)</td><td>(0.0, 0.0)</td><td>(0.0, 0.0)</td></tr><tr><th>5</th><td>N: 100  ni: 20</td><td>(0.0, 0.0)</td><td>(0.0, 0.0)</td><td>(0.0, 0.0)</td></tr><tr><th>6</th><td>N: 100  ni: 25</td><td>(0.0, 0.0)</td><td>(0.0, 0.0)</td><td>(0.0, 0.0)</td></tr><tr><th>7</th><td>N: 1000  ni: 2</td><td>(0.07, 0.0256432)</td><td>(0.05, 0.0219043)</td><td>(0.09, 0.0287623)</td></tr><tr><th>8</th><td>N: 1000  ni: 5</td><td>(0.1, 0.0301511)</td><td>(0.09, 0.0287623)</td><td>(0.08, 0.027266)</td></tr><tr><th>9</th><td>N: 1000  ni: 10</td><td>(0.01, 0.01)</td><td>(0.01, 0.01)</td><td>(0.03, 0.0171447)</td></tr><tr><th>10</th><td>N: 1000  ni: 15</td><td>(0.01, 0.01)</td><td>(0.03, 0.0171447)</td><td>(0.03, 0.0171447)</td></tr><tr><th>11</th><td>N: 1000  ni: 20</td><td>(0.01, 0.01)</td><td>(0.01, 0.01)</td><td>(0.03, 0.0171447)</td></tr><tr><th>12</th><td>N: 1000  ni: 25</td><td>(0.0, 0.0)</td><td>(0.02, 0.0140705)</td><td>(0.01, 0.01)</td></tr><tr><th>13</th><td>N: 10000  ni: 2</td><td>(0.34, 0.0476095)</td><td>(0.66, 0.0476095)</td><td>(0.67, 0.0472582)</td></tr><tr><th>14</th><td>N: 10000  ni: 5</td><td>(0.31, 0.0464823)</td><td>(0.57, 0.049757)</td><td>(0.55, 0.05)</td></tr><tr><th>15</th><td>N: 10000  ni: 10</td><td>(0.04, 0.0196946)</td><td>(0.15, 0.035887)</td><td>(0.14, 0.0348735)</td></tr><tr><th>16</th><td>N: 10000  ni: 15</td><td>(0.04, 0.0196946)</td><td>(0.03, 0.0171447)</td><td>(0.02, 0.0140705)</td></tr><tr><th>17</th><td>N: 10000  ni: 20</td><td>(0.06, 0.0238683)</td><td>(0.26, 0.0440844)</td><td>(0.28, 0.0451261)</td></tr><tr><th>18</th><td>N: 10000  ni: 25</td><td>(0.09, 0.0287623)</td><td>(0.15, 0.035887)</td><td>(0.15, 0.035887)</td></tr></tbody></table></div>"
      ],
      "text/latex": [
       "\\begin{tabular}{r|ccccc}\n",
       "\t& people\\_obs & β1 & β2 & β3 & \\\\\n",
       "\t\\hline\n",
       "\t& String & Tuple… & Tuple… & Tuple… & \\\\\n",
       "\t\\hline\n",
       "\t1 & N: 100  ni: 2 & (0.0404572, 0.0172203) & (0.0704572, 0.0237899) & (0.0504572, 0.019707) & $\\dots$ \\\\\n",
       "\t2 & N: 100  ni: 5 & (0.06, 0.0238683) & (0.02, 0.0140705) & (0.04, 0.0196946) & $\\dots$ \\\\\n",
       "\t3 & N: 100  ni: 10 & (0.0, 0.0) & (0.0, 0.0) & (0.02, 0.0140705) & $\\dots$ \\\\\n",
       "\t4 & N: 100  ni: 15 & (0.0, 0.0) & (0.0, 0.0) & (0.0, 0.0) & $\\dots$ \\\\\n",
       "\t5 & N: 100  ni: 20 & (0.0, 0.0) & (0.0, 0.0) & (0.0, 0.0) & $\\dots$ \\\\\n",
       "\t6 & N: 100  ni: 25 & (0.0, 0.0) & (0.0, 0.0) & (0.0, 0.0) & $\\dots$ \\\\\n",
       "\t7 & N: 1000  ni: 2 & (0.07, 0.0256432) & (0.05, 0.0219043) & (0.09, 0.0287623) & $\\dots$ \\\\\n",
       "\t8 & N: 1000  ni: 5 & (0.1, 0.0301511) & (0.09, 0.0287623) & (0.08, 0.027266) & $\\dots$ \\\\\n",
       "\t9 & N: 1000  ni: 10 & (0.01, 0.01) & (0.01, 0.01) & (0.03, 0.0171447) & $\\dots$ \\\\\n",
       "\t10 & N: 1000  ni: 15 & (0.01, 0.01) & (0.03, 0.0171447) & (0.03, 0.0171447) & $\\dots$ \\\\\n",
       "\t11 & N: 1000  ni: 20 & (0.01, 0.01) & (0.01, 0.01) & (0.03, 0.0171447) & $\\dots$ \\\\\n",
       "\t12 & N: 1000  ni: 25 & (0.0, 0.0) & (0.02, 0.0140705) & (0.01, 0.01) & $\\dots$ \\\\\n",
       "\t13 & N: 10000  ni: 2 & (0.34, 0.0476095) & (0.66, 0.0476095) & (0.67, 0.0472582) & $\\dots$ \\\\\n",
       "\t14 & N: 10000  ni: 5 & (0.31, 0.0464823) & (0.57, 0.049757) & (0.55, 0.05) & $\\dots$ \\\\\n",
       "\t15 & N: 10000  ni: 10 & (0.04, 0.0196946) & (0.15, 0.035887) & (0.14, 0.0348735) & $\\dots$ \\\\\n",
       "\t16 & N: 10000  ni: 15 & (0.04, 0.0196946) & (0.03, 0.0171447) & (0.02, 0.0140705) & $\\dots$ \\\\\n",
       "\t17 & N: 10000  ni: 20 & (0.06, 0.0238683) & (0.26, 0.0440844) & (0.28, 0.0451261) & $\\dots$ \\\\\n",
       "\t18 & N: 10000  ni: 25 & (0.09, 0.0287623) & (0.15, 0.035887) & (0.15, 0.035887) & $\\dots$ \\\\\n",
       "\\end{tabular}\n"
      ],
      "text/plain": [
       "\u001b[1m18×6 DataFrame\u001b[0m\n",
       "\u001b[1m Row \u001b[0m│\u001b[1m people_obs       \u001b[0m\u001b[1m β1                     \u001b[0m\u001b[1m β2                     \u001b[0m\u001b[1m β3   \u001b[0m ⋯\n",
       "\u001b[1m     \u001b[0m│\u001b[90m String           \u001b[0m\u001b[90m Tuple…                 \u001b[0m\u001b[90m Tuple…                 \u001b[0m\u001b[90m Tuple\u001b[0m ⋯\n",
       "─────┼──────────────────────────────────────────────────────────────────────────\n",
       "   1 │ N: 100  ni: 2     (0.0404572, 0.0172203)  (0.0704572, 0.0237899)  (0.05 ⋯\n",
       "   2 │ N: 100  ni: 5     (0.06, 0.0238683)       (0.02, 0.0140705)       (0.04\n",
       "   3 │ N: 100  ni: 10    (0.0, 0.0)              (0.0, 0.0)              (0.02\n",
       "   4 │ N: 100  ni: 15    (0.0, 0.0)              (0.0, 0.0)              (0.0,\n",
       "   5 │ N: 100  ni: 20    (0.0, 0.0)              (0.0, 0.0)              (0.0, ⋯\n",
       "   6 │ N: 100  ni: 25    (0.0, 0.0)              (0.0, 0.0)              (0.0,\n",
       "   7 │ N: 1000  ni: 2    (0.07, 0.0256432)       (0.05, 0.0219043)       (0.09\n",
       "   8 │ N: 1000  ni: 5    (0.1, 0.0301511)        (0.09, 0.0287623)       (0.08\n",
       "   9 │ N: 1000  ni: 10   (0.01, 0.01)            (0.01, 0.01)            (0.03 ⋯\n",
       "  10 │ N: 1000  ni: 15   (0.01, 0.01)            (0.03, 0.0171447)       (0.03\n",
       "  11 │ N: 1000  ni: 20   (0.01, 0.01)            (0.01, 0.01)            (0.03\n",
       "  12 │ N: 1000  ni: 25   (0.0, 0.0)              (0.02, 0.0140705)       (0.01\n",
       "  13 │ N: 10000  ni: 2   (0.34, 0.0476095)       (0.66, 0.0476095)       (0.67 ⋯\n",
       "  14 │ N: 10000  ni: 5   (0.31, 0.0464823)       (0.57, 0.049757)        (0.55\n",
       "  15 │ N: 10000  ni: 10  (0.04, 0.0196946)       (0.15, 0.035887)        (0.14\n",
       "  16 │ N: 10000  ni: 15  (0.04, 0.0196946)       (0.03, 0.0171447)       (0.02\n",
       "  17 │ N: 10000  ni: 20  (0.06, 0.0238683)       (0.26, 0.0440844)       (0.28 ⋯\n",
       "  18 │ N: 10000  ni: 25  (0.09, 0.0287623)       (0.15, 0.035887)        (0.15\n",
       "\u001b[36m                                                               3 columns omitted\u001b[0m"
      ]
     },
     "execution_count": 10,
     "metadata": {},
     "output_type": "execute_result"
    }
   ],
   "source": [
    "######  supplementary table s1\n",
    "using Random, DataFrames, DelimitedFiles, Statistics\n",
    "import StatsBase: sem\n",
    "\n",
    "βΣcoverage = readdlm(\"beta_r_sigma_coverage_multivariate_NB_vcm$(nsims)reps_sim.csv\", ',')\n",
    "\n",
    "m  = 1\n",
    "\n",
    "covdf = DataFrame(Matrix(transpose(βΣcoverage)), :auto)\n",
    "rename!(covdf, Symbol.([[\"β$i\" for i in 1:p]; [\"r\"]; [\"Σ$i\" for i in 1:m]]))\n",
    "covdf[!, :samplesize] = sample_sizes\n",
    "covdf[!, :obssize] = obs_sizes\n",
    "first(covdf, 10)\n",
    "\n",
    "row_stats = [[(mean(col), sem(col)) for col = eachcol(d[!, 1:end-2])] for d = groupby(covdf, [:samplesize; :obssize])]\n",
    "df = DataFrame(row_stats, :auto)\n",
    "ss_obs = unique(\"N: \" .* sample_sizes .* \"  ni: \" .* obs_sizes)\n",
    "rename!(df, Symbol.(ss_obs))\n",
    "covdfdisplay = DataFrame([[names(df)]; collect.(eachrow(df))], \n",
    "    [:people_obs; Symbol.([[\"β$i\" for i in 1:p];  [\"r\"];  [\"Σ$i\" for i in 1:m]])])\n",
    "# deletecols!(covdfdisplay, p + 2)\n",
    "covdfdisplay\n"
   ]
  },
  {
   "cell_type": "code",
   "execution_count": 11,
   "metadata": {},
   "outputs": [
    {
     "data": {
      "text/html": [
       "<div class=\"data-frame\"><p>10,733 rows × 5 columns</p><table class=\"data-frame\"><thead><tr><th></th><th>mse</th><th>obssize</th><th>samplesize</th><th>parameters</th><th>robust</th></tr><tr><th></th><th title=\"Float64\">Float64</th><th title=\"String\">String</th><th title=\"String\">String</th><th title=\"String\">String</th><th title=\"String\">String</th></tr></thead><tbody><tr><th>1</th><td>0.0123026</td><td>2</td><td>100</td><td>beta</td><td>NegBinomial Quasi-Copula</td></tr><tr><th>2</th><td>0.00349949</td><td>2</td><td>100</td><td>beta</td><td>NegBinomial Quasi-Copula</td></tr><tr><th>3</th><td>0.00112207</td><td>2</td><td>100</td><td>beta</td><td>NegBinomial Quasi-Copula</td></tr><tr><th>4</th><td>0.00129409</td><td>2</td><td>100</td><td>beta</td><td>NegBinomial Quasi-Copula</td></tr><tr><th>5</th><td>0.00430889</td><td>2</td><td>100</td><td>beta</td><td>NegBinomial Quasi-Copula</td></tr><tr><th>6</th><td>0.000850084</td><td>2</td><td>100</td><td>beta</td><td>NegBinomial Quasi-Copula</td></tr><tr><th>7</th><td>0.000984275</td><td>2</td><td>100</td><td>beta</td><td>NegBinomial Quasi-Copula</td></tr><tr><th>8</th><td>0.00648522</td><td>2</td><td>100</td><td>beta</td><td>NegBinomial Quasi-Copula</td></tr><tr><th>9</th><td>0.00190804</td><td>2</td><td>100</td><td>beta</td><td>NegBinomial Quasi-Copula</td></tr><tr><th>10</th><td>0.000957735</td><td>2</td><td>100</td><td>beta</td><td>NegBinomial Quasi-Copula</td></tr><tr><th>11</th><td>0.00168465</td><td>2</td><td>100</td><td>beta</td><td>NegBinomial Quasi-Copula</td></tr><tr><th>12</th><td>0.00722274</td><td>2</td><td>100</td><td>beta</td><td>NegBinomial Quasi-Copula</td></tr><tr><th>13</th><td>0.00151288</td><td>2</td><td>100</td><td>beta</td><td>NegBinomial Quasi-Copula</td></tr><tr><th>14</th><td>0.00155552</td><td>2</td><td>100</td><td>beta</td><td>NegBinomial Quasi-Copula</td></tr><tr><th>15</th><td>0.000815514</td><td>2</td><td>100</td><td>beta</td><td>NegBinomial Quasi-Copula</td></tr><tr><th>16</th><td>0.000503175</td><td>2</td><td>100</td><td>beta</td><td>NegBinomial Quasi-Copula</td></tr><tr><th>17</th><td>0.00138487</td><td>2</td><td>100</td><td>beta</td><td>NegBinomial Quasi-Copula</td></tr><tr><th>18</th><td>0.00313518</td><td>2</td><td>100</td><td>beta</td><td>NegBinomial Quasi-Copula</td></tr><tr><th>19</th><td>0.00155993</td><td>2</td><td>100</td><td>beta</td><td>NegBinomial Quasi-Copula</td></tr><tr><th>20</th><td>0.00502508</td><td>2</td><td>100</td><td>beta</td><td>NegBinomial Quasi-Copula</td></tr><tr><th>21</th><td>0.000129325</td><td>2</td><td>100</td><td>beta</td><td>NegBinomial Quasi-Copula</td></tr><tr><th>22</th><td>0.00260268</td><td>2</td><td>100</td><td>beta</td><td>NegBinomial Quasi-Copula</td></tr><tr><th>23</th><td>0.000681251</td><td>2</td><td>100</td><td>beta</td><td>NegBinomial Quasi-Copula</td></tr><tr><th>24</th><td>0.00266939</td><td>2</td><td>100</td><td>beta</td><td>NegBinomial Quasi-Copula</td></tr><tr><th>25</th><td>0.00172614</td><td>2</td><td>100</td><td>beta</td><td>NegBinomial Quasi-Copula</td></tr><tr><th>26</th><td>0.00140767</td><td>2</td><td>100</td><td>beta</td><td>NegBinomial Quasi-Copula</td></tr><tr><th>27</th><td>0.00747575</td><td>2</td><td>100</td><td>beta</td><td>NegBinomial Quasi-Copula</td></tr><tr><th>28</th><td>0.00179421</td><td>2</td><td>100</td><td>beta</td><td>NegBinomial Quasi-Copula</td></tr><tr><th>29</th><td>0.000832869</td><td>2</td><td>100</td><td>beta</td><td>NegBinomial Quasi-Copula</td></tr><tr><th>30</th><td>0.000124642</td><td>2</td><td>100</td><td>beta</td><td>NegBinomial Quasi-Copula</td></tr><tr><th>&vellip;</th><td>&vellip;</td><td>&vellip;</td><td>&vellip;</td><td>&vellip;</td><td>&vellip;</td></tr></tbody></table></div>"
      ],
      "text/latex": [
       "\\begin{tabular}{r|ccccc}\n",
       "\t& mse & obssize & samplesize & parameters & robust\\\\\n",
       "\t\\hline\n",
       "\t& Float64 & String & String & String & String\\\\\n",
       "\t\\hline\n",
       "\t1 & 0.0123026 & 2 & 100 & beta & NegBinomial Quasi-Copula \\\\\n",
       "\t2 & 0.00349949 & 2 & 100 & beta & NegBinomial Quasi-Copula \\\\\n",
       "\t3 & 0.00112207 & 2 & 100 & beta & NegBinomial Quasi-Copula \\\\\n",
       "\t4 & 0.00129409 & 2 & 100 & beta & NegBinomial Quasi-Copula \\\\\n",
       "\t5 & 0.00430889 & 2 & 100 & beta & NegBinomial Quasi-Copula \\\\\n",
       "\t6 & 0.000850084 & 2 & 100 & beta & NegBinomial Quasi-Copula \\\\\n",
       "\t7 & 0.000984275 & 2 & 100 & beta & NegBinomial Quasi-Copula \\\\\n",
       "\t8 & 0.00648522 & 2 & 100 & beta & NegBinomial Quasi-Copula \\\\\n",
       "\t9 & 0.00190804 & 2 & 100 & beta & NegBinomial Quasi-Copula \\\\\n",
       "\t10 & 0.000957735 & 2 & 100 & beta & NegBinomial Quasi-Copula \\\\\n",
       "\t11 & 0.00168465 & 2 & 100 & beta & NegBinomial Quasi-Copula \\\\\n",
       "\t12 & 0.00722274 & 2 & 100 & beta & NegBinomial Quasi-Copula \\\\\n",
       "\t13 & 0.00151288 & 2 & 100 & beta & NegBinomial Quasi-Copula \\\\\n",
       "\t14 & 0.00155552 & 2 & 100 & beta & NegBinomial Quasi-Copula \\\\\n",
       "\t15 & 0.000815514 & 2 & 100 & beta & NegBinomial Quasi-Copula \\\\\n",
       "\t16 & 0.000503175 & 2 & 100 & beta & NegBinomial Quasi-Copula \\\\\n",
       "\t17 & 0.00138487 & 2 & 100 & beta & NegBinomial Quasi-Copula \\\\\n",
       "\t18 & 0.00313518 & 2 & 100 & beta & NegBinomial Quasi-Copula \\\\\n",
       "\t19 & 0.00155993 & 2 & 100 & beta & NegBinomial Quasi-Copula \\\\\n",
       "\t20 & 0.00502508 & 2 & 100 & beta & NegBinomial Quasi-Copula \\\\\n",
       "\t21 & 0.000129325 & 2 & 100 & beta & NegBinomial Quasi-Copula \\\\\n",
       "\t22 & 0.00260268 & 2 & 100 & beta & NegBinomial Quasi-Copula \\\\\n",
       "\t23 & 0.000681251 & 2 & 100 & beta & NegBinomial Quasi-Copula \\\\\n",
       "\t24 & 0.00266939 & 2 & 100 & beta & NegBinomial Quasi-Copula \\\\\n",
       "\t25 & 0.00172614 & 2 & 100 & beta & NegBinomial Quasi-Copula \\\\\n",
       "\t26 & 0.00140767 & 2 & 100 & beta & NegBinomial Quasi-Copula \\\\\n",
       "\t27 & 0.00747575 & 2 & 100 & beta & NegBinomial Quasi-Copula \\\\\n",
       "\t28 & 0.00179421 & 2 & 100 & beta & NegBinomial Quasi-Copula \\\\\n",
       "\t29 & 0.000832869 & 2 & 100 & beta & NegBinomial Quasi-Copula \\\\\n",
       "\t30 & 0.000124642 & 2 & 100 & beta & NegBinomial Quasi-Copula \\\\\n",
       "\t$\\dots$ & $\\dots$ & $\\dots$ & $\\dots$ & $\\dots$ & $\\dots$ \\\\\n",
       "\\end{tabular}\n"
      ],
      "text/plain": [
       "\u001b[1m10733×5 DataFrame\u001b[0m\n",
       "\u001b[1m   Row \u001b[0m│\u001b[1m mse          \u001b[0m\u001b[1m obssize \u001b[0m\u001b[1m samplesize \u001b[0m\u001b[1m parameters \u001b[0m\u001b[1m robust                \u001b[0m ⋯\n",
       "\u001b[1m       \u001b[0m│\u001b[90m Float64      \u001b[0m\u001b[90m String  \u001b[0m\u001b[90m String     \u001b[0m\u001b[90m String     \u001b[0m\u001b[90m String                \u001b[0m ⋯\n",
       "───────┼────────────────────────────────────────────────────────────────────────\n",
       "     1 │  0.0123026    2        100         beta        NegBinomial Quasi-Copu ⋯\n",
       "     2 │  0.00349949   2        100         beta        NegBinomial Quasi-Copu\n",
       "     3 │  0.00112207   2        100         beta        NegBinomial Quasi-Copu\n",
       "     4 │  0.00129409   2        100         beta        NegBinomial Quasi-Copu\n",
       "     5 │  0.00430889   2        100         beta        NegBinomial Quasi-Copu ⋯\n",
       "     6 │  0.000850084  2        100         beta        NegBinomial Quasi-Copu\n",
       "     7 │  0.000984275  2        100         beta        NegBinomial Quasi-Copu\n",
       "     8 │  0.00648522   2        100         beta        NegBinomial Quasi-Copu\n",
       "     9 │  0.00190804   2        100         beta        NegBinomial Quasi-Copu ⋯\n",
       "    10 │  0.000957735  2        100         beta        NegBinomial Quasi-Copu\n",
       "    11 │  0.00168465   2        100         beta        NegBinomial Quasi-Copu\n",
       "   ⋮   │      ⋮           ⋮         ⋮           ⋮                  ⋮           ⋱\n",
       " 10724 │ 57.3609       25       10000       r           NegBinomial GLMM\n",
       " 10725 │ 57.5873       25       10000       r           NegBinomial GLMM       ⋯\n",
       " 10726 │ 57.4518       25       10000       r           NegBinomial GLMM\n",
       " 10727 │ 57.3663       25       10000       r           NegBinomial GLMM\n",
       " 10728 │ 57.5752       25       10000       r           NegBinomial GLMM\n",
       " 10729 │ 57.1519       25       10000       r           NegBinomial GLMM       ⋯\n",
       " 10730 │ 57.5177       25       10000       r           NegBinomial GLMM\n",
       " 10731 │ 57.3122       25       10000       r           NegBinomial GLMM\n",
       " 10732 │ 57.4266       25       10000       r           NegBinomial GLMM\n",
       " 10733 │ 57.2031       25       10000       r           NegBinomial GLMM       ⋯\n",
       "\u001b[36m                                                 1 column and 10712 rows omitted\u001b[0m"
      ]
     },
     "execution_count": 11,
     "metadata": {},
     "output_type": "execute_result"
    }
   ],
   "source": [
    "#### \n",
    "#import data and reorganize to create figure\n",
    "using Random, DataFrames, DelimitedFiles, Statistics, RCall, Printf\n",
    "import StatsBase: sem\n",
    "\n",
    "βMseresult = vec(readdlm(\"mse_beta_multivariate_NB_vcm$(nsims)reps_sim.csv\", ','))\n",
    "aMseresult = vec(readdlm(\"mse_Sigma_multivariate_NB_vcm$(nsims)reps_sim.csv\", ','))\n",
    "rMseresult =  vec(readdlm(\"mse_r_multivariate_NB_vcm$(nsims)reps_sim.csv\", ','))\n",
    "\n",
    "βMseresult_GLMM = vec(readdlm(\"mse_beta_GLMM_multivariate_NB_vcm$(nsims)reps_sim.csv\", ','))\n",
    "aMseresult_GLMM = vec(readdlm(\"mse_Sigma_GLMM_multivariate_NB_vcm$(nsims)reps_sim.csv\", ','))\n",
    "rMseresult_GLMM =  vec(readdlm(\"mse_r_GLMMmultivariate_NB_vcm$(nsims)reps_sim.csv\", ','))\n",
    "\n",
    "\n",
    "p = 3; m = 1\n",
    "sample_sizes = repeat(string.(samplesizes), inner = nsims * length(ns))\n",
    "obs_sizes = repeat(string.(ns), inner = nsims, outer = length(samplesizes))\n",
    "msedf1 = DataFrame(βmse = βMseresult, amse = aMseresult, rmse = rMseresult,\n",
    "    samplesize = sample_sizes, obssize = obs_sizes)\n",
    "\n",
    "msedf2 = DataFrame(βmse = βMseresult_GLMM, amse = aMseresult_GLMM, rmse = rMseresult_GLMM,\n",
    "    samplesize = sample_sizes, obssize = obs_sizes)\n",
    "\n",
    "#rename to make parsing easier for R.\n",
    "\n",
    "msedf1 = deepcopy(msedf1)\n",
    "rename!(msedf1, [\"betamse\"\n",
    "    \"amse\"\n",
    "        \"rmse\"\n",
    "    \"samplesize\"\n",
    " \"obssize\"]);\n",
    "\n",
    "msedf2 = deepcopy(msedf2)\n",
    "rename!(msedf2, [\"betamse\"\n",
    "    \"amse\"\n",
    "        \"rmse\"\n",
    "    \"samplesize\"\n",
    " \"obssize\"]);\n",
    "\n",
    "mses = [msedf1[!, :betamse]; msedf1[!, :amse];msedf1[!, :rmse]; msedf2[!, :betamse]; msedf2[!, :amse]; msedf2[!, :rmse]]\n",
    "    # msedfnormR[!, :betamse]; msedfnormR[!, :taumse]; msedfnormR[!, :Sigmamse]]\n",
    "obssize = [collect([repeat(msedf1[!, :obssize], 3)]...) ; collect([repeat(msedf2[!, :obssize], 3)]...)]\n",
    "#40\n",
    "samplesize = [collect([repeat(msedf1[!, :samplesize], 3)]...) ; collect([repeat(msedf2[!, :samplesize], 3)]...)]\n",
    "\n",
    "parameters = [collect([repeat(string.([:beta, :a, :r]), inner = nsims * length(ns) * length(samplesizes))]...) ; collect([repeat(string.([:beta, :a, :r]), inner = nsims * length(ns) * length(samplesizes))]...)]\n",
    "robust = [collect([repeat([\"NegBinomial Quasi-Copula\"], 3 * nsims * length(ns) * length(samplesizes))]...); collect([repeat([\"NegBinomial GLMM\"],  3 * nsims * length(ns) * length(samplesizes))]...)]\n",
    "\n",
    "msedfR = DataFrame(mse = mses, obssize = obssize, samplesize = samplesize,\n",
    "    parameters = parameters, robust = robust)\n",
    "\n",
    "#5 of the 30,000 simulations did not converge, filter out\n",
    "msedfR = filter(x -> !isnan(x.mse), msedfR)\n",
    "# additionally, there are 5 where an error was not caught so it did not try a differnt solver\n",
    "msedfR = filter(x -> x.mse < 40000, msedfR)"
   ]
  },
  {
   "cell_type": "code",
   "execution_count": 12,
   "metadata": {},
   "outputs": [
    {
     "name": "stderr",
     "output_type": "stream",
     "text": [
      "┌ Warning: RCall.jl: Warning: package ‘scales’ was built under R version 4.0.2\n",
      "└ @ RCall /Users/sarahji/.julia/packages/RCall/iMDW2/src/io.jl:160\n",
      "┌ Warning: RCall.jl: Warning: package ‘data.table’ was built under R version 4.0.2\n",
      "└ @ RCall /Users/sarahji/.julia/packages/RCall/iMDW2/src/io.jl:160\n"
     ]
    },
    {
     "data": {
      "image/png": "[encoded data removed]"
     },
     "metadata": {},
     "output_type": "display_data"
    },
    {
     "data": {
      "text/plain": [
       "RObject{VecSxp}\n"
      ]
     },
     "execution_count": 12,
     "metadata": {},
     "output_type": "execute_result"
    }
   ],
   "source": [
    "### working on figure next\n",
    "@rput msedfR\n",
    "\n",
    "R\"\"\"\n",
    "library(scales)\n",
    "library(ggplot2)\n",
    "library(data.table)\n",
    "\n",
    "msedfR = data.table(msedfR)\n",
    "\n",
    "msedfR[parameters == \"beta\",y_min := 10^-4]\n",
    "msedfR[parameters == \"beta\",y_max := 10^0]\n",
    "msedfR[parameters == \"a\",y_min := 10^-4]\n",
    "msedfR[parameters == \"a\",y_max := 10^1]\n",
    "msedfR[parameters == \"r\", y_min := 10^-3]\n",
    "msedfR[parameters == \"r\", y_max := 10^3]\n",
    "\n",
    "#msedfR[parameters == \"beta\",y_min := 10^-8]\n",
    "#msedfR[parameters == \"beta\",y_max := 10^-2]\n",
    "#msedfR[parameters == \"tau\",y_min := 10^-8]\n",
    "#msedfR[parameters == \"tau\",y_max := 10^-2]\n",
    "#msedfR[parameters == \"Sigma\",y_min := 10^-5]\n",
    "#msedfR[parameters == \"Sigma\",y_max := 10^-2]\n",
    "\n",
    "\n",
    "msedfR$obssize = factor(msedfR$obssize, levels = c('2', '5', '10', '15', '20', '25'))\n",
    "msedfR$samplesize = factor(msedfR$samplesize, levels = c('100', '1000', '10000'))\n",
    "msedfR$parameters = factor(msedfR$parameters, levels = c('beta', 'a', 'r'), labels = c(beta = expression(hat(bold(beta))), a = expression(hat(bold(a))[]), r = expression(hat(bold(r))[])))\n",
    "msedfR$robust <- factor(msedfR$robust, levels = c('NegBinomial Quasi-Copula', 'NegBinomial GLMM'),\n",
    "    labels = c(expression(paste(\"NegBinomial Quasi-Copula\")), expression(paste(\"NegBinomial GLMM\"))))\n",
    "\n",
    "\n",
    "#mseplot <- ggplot(msedfR[msedfR$mse < 10^0, ], aes(x=samplesize, y=mse, fill=obssize)) + \n",
    "mseplot = ggplot(msedfR[msedfR$mse < 10^3, ], aes(x=samplesize, y=mse, fill=obssize)) + \n",
    "  #geom_boxplot(outlier.size = 0.0, outlier.alpha = 0) +\n",
    "  geom_boxplot(outlier.size = 0.25) +\n",
    "#    geom_violin() +\n",
    "    facet_grid(parameters ~ robust, labeller = label_parsed, scales = \"free_y\") +\n",
    "  theme(legend.position=\"right\", legend.key = element_blank(), axis.text.x = element_text(angle=0, size=11),\n",
    "        axis.text.y = element_text(angle=0, size=12), axis.title.x = element_text(size = 15), \n",
    "        axis.title.y = element_text(size = 15), legend.title = element_text(size = 12),\n",
    "        panel.grid.major = element_blank(), panel.grid.minor = element_blank(),\n",
    "        legend.text=element_text(size=10), panel.background = element_rect(fill = NA, color = \"black\"),\n",
    "        #panel.background = element_blank(), #panel.border = element_blank(),\n",
    "        axis.line = element_line(color = 'black',size=0.3), plot.title = element_text(hjust = 0.5),\n",
    "        strip.background = element_rect(colour=\"black\", fill=\"white\"), strip.text.y = element_text(size=15, face=\"bold\"),\n",
    "        strip.text.x = element_text(size=15)) + \n",
    "  scale_fill_manual(values = c(\"#c85f55\",\n",
    "\"#a964bf\",\n",
    "\"#8db352\",\n",
    "\"#fa7300\",\n",
    "\"#05aec0\",\n",
    "\"#ff1493\")) +\n",
    "#scale_y_log10(breaks = scales::trans_breaks(\"log10\", function(x) 10^x)) +\n",
    "#scale_y_log10(breaks = 10^(-8:8), limit=c(10^-8, 10^2)) + \n",
    "scale_y_log10(breaks = 10^seq(-10, 10, 2), labels=trans_format(\"log10\", math_format(10^.x))) + #, limit=c(10^-8, 10^2)) +\n",
    "  labs(x = \"Number of Individuals\", y = \"MSE of Parameter Estimates\", fill = \"Obs per Individual\") +\n",
    "geom_blank(aes(y = y_max)) + \n",
    "geom_blank(aes(y = y_min)) \n",
    "\n",
    "\"\"\""
   ]
  },
  {
   "cell_type": "code",
   "execution_count": 13,
   "metadata": {},
   "outputs": [
    {
     "data": {
      "text/plain": [
       "RObject{StrSxp}\n",
       "[1] \"updated_msefacetplot_nb.png\"\n"
      ]
     },
     "execution_count": 13,
     "metadata": {},
     "output_type": "execute_result"
    }
   ],
   "source": [
    "R\"\"\"\n",
    "ggsave('updated_msefacetplot_nb.png', mseplot, width = 12.5, height = 15, units = 'in', dpi = 450)\n",
    "\"\"\""
   ]
  },
  {
   "cell_type": "code",
   "execution_count": null,
   "metadata": {},
   "outputs": [],
   "source": []
  }
 ],
 "metadata": {
  "@webio": {
   "lastCommId": null,
   "lastKernelId": null
  },
  "kernelspec": {
   "display_name": "Julia 1.6.2",
   "language": "julia",
   "name": "julia-1.6"
  },
  "language_info": {
   "file_extension": ".jl",
   "mimetype": "application/julia",
   "name": "julia",
   "version": "1.6.2"
  }
 },
 "nbformat": 4,
 "nbformat_minor": 2
}
