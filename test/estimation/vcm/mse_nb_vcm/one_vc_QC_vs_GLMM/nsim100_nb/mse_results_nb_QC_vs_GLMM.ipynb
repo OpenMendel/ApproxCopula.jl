{
 "cells": [
  {
   "cell_type": "markdown",
   "metadata": {},
   "source": [
    "## Negative Binomial VCM Results \n",
    "\n",
    "This notebook goes over the code needed to reproduce the results from the MSE and time figures for the Negative Binomial base distribution with Log Link and covariance matrix $\\Gamma$ structured under variance component model framework as follows:\n",
    "\n",
    "$$\n",
    "\\Gamma = \\sigma_1 * \\mathbf{1_{n} 1_{n}^\\top}\n",
    "$$\n",
    "\n",
    "We run each scenario 3 times and compare the fit with that of GLMM's random intercept model from MixedModels.jl. "
   ]
  },
  {
   "cell_type": "code",
   "execution_count": 1,
   "metadata": {},
   "outputs": [
    {
     "name": "stdout",
     "output_type": "stream",
     "text": [
      "Julia Version 1.6.2\n",
      "Commit 1b93d53fc4 (2021-07-14 15:36 UTC)\n",
      "Platform Info:\n",
      "  OS: macOS (x86_64-apple-darwin18.7.0)\n",
      "  CPU: Intel(R) Core(TM) i9-9880H CPU @ 2.30GHz\n",
      "  WORD_SIZE: 64\n",
      "  LIBM: libopenlibm\n",
      "  LLVM: libLLVM-11.0.1 (ORCJIT, skylake)\n"
     ]
    }
   ],
   "source": [
    "versioninfo()"
   ]
  },
  {
   "cell_type": "code",
   "execution_count": 2,
   "metadata": {},
   "outputs": [],
   "source": [
    "using GLMCopula, DelimitedFiles, LinearAlgebra, Random, GLM\n",
    "using Random, Roots, SpecialFunctions, DataFrames"
   ]
  },
  {
   "cell_type": "code",
   "execution_count": 3,
   "metadata": {},
   "outputs": [
    {
     "data": {
      "text/plain": [
       "100"
      ]
     },
     "execution_count": 3,
     "metadata": {},
     "output_type": "execute_result"
    }
   ],
   "source": [
    "p  = 3    # number of fixed effects, including intercept\n",
    "m  = 1    # number of variance components\n",
    "# true parameter values\n",
    "βtrue = ones(p)\n",
    "rtrue = 10\n",
    "Σtrue = [0.1]\n",
    "\n",
    "# generate data\n",
    "intervals = zeros(p + m, 2) #hold intervals\n",
    "curcoverage = zeros(p + m) #hold current coverage resutls\n",
    "trueparams = [βtrue; rtrue; Σtrue] #hold true parameters\n",
    "\n",
    "#simulation parameters\n",
    "samplesizes = [100; 1000; 10000]\n",
    "ns = [2; 5; 10; 15; 20; 25]\n",
    "nsims = 100"
   ]
  },
  {
   "cell_type": "code",
   "execution_count": 4,
   "metadata": {},
   "outputs": [
    {
     "name": "stderr",
     "output_type": "stream",
     "text": [
      "┌ Info: reading in the files with results\n",
      "└ @ Main In[4]:1\n"
     ]
    },
    {
     "data": {
      "text/plain": [
       "1800-element Vector{Float64}:\n",
       "  0.167142744\n",
       "  0.131197412\n",
       "  0.125672346\n",
       "  0.145088508\n",
       "  0.156492753\n",
       "  0.129318084\n",
       "  0.183584876\n",
       "  0.184939462\n",
       "  0.153281018\n",
       "  1.31937983\n",
       "  0.135025511\n",
       "  0.130641964\n",
       "  0.108846255\n",
       "  ⋮\n",
       " 17.498834761\n",
       " 18.035054485\n",
       " 18.571189969\n",
       " 19.494018229\n",
       " 17.801756296\n",
       " 18.503670273\n",
       " 16.713926497\n",
       " 21.767097408\n",
       " 18.771895288\n",
       " 17.559951744\n",
       " 17.553193119\n",
       " 19.492962673"
      ]
     },
     "execution_count": 4,
     "metadata": {},
     "output_type": "execute_result"
    }
   ],
   "source": [
    "@info \"reading in the files with results\"\n",
    "βMseresult = vec(readdlm(\"mse_beta_multivariate_nb_vcm$(nsims)reps_sim.csv\", ','))\n",
    "ΣMseresult = vec(readdlm(\"mse_Sigma_multivariate_nb_vcm$(nsims)reps_sim.csv\", ','))\n",
    "fittimes_QC = vec(readdlm(\"fittimes_multivariate_nb_vcm$(nsims)reps_sim.csv\", ','))"
   ]
  },
  {
   "cell_type": "code",
   "execution_count": 5,
   "metadata": {},
   "outputs": [
    {
     "data": {
      "text/plain": [
       "1800-element Vector{Float64}:\n",
       "  0.266056978\n",
       "  0.015248982\n",
       "  0.017681788\n",
       "  0.017883089\n",
       "  0.016004662\n",
       "  0.016411104\n",
       "  0.015381933\n",
       "  0.018888333\n",
       "  0.016036324\n",
       "  0.014407198\n",
       "  0.014046944\n",
       "  0.016245937\n",
       "  0.015925965\n",
       "  ⋮\n",
       " 14.895548911\n",
       " 15.619806962\n",
       " 16.3229714\n",
       " 16.75493112\n",
       " 17.460988224\n",
       " 15.175462399\n",
       " 15.51813162\n",
       " 16.538364773\n",
       " 17.395667113\n",
       " 17.2148892\n",
       " 17.822027007\n",
       " 17.935376521"
      ]
     },
     "execution_count": 5,
     "metadata": {},
     "output_type": "execute_result"
    }
   ],
   "source": [
    "fittimes_GLMM = vec(readdlm(\"fittimes_GLMM_multivariate_NB_vcm$(nsims)reps_sim.csv\", ','))"
   ]
  },
  {
   "cell_type": "code",
   "execution_count": 6,
   "metadata": {},
   "outputs": [
    {
     "name": "stderr",
     "output_type": "stream",
     "text": [
      "┌ Info: making results table Quasi-Copula\n",
      "└ @ Main In[6]:2\n"
     ]
    },
    {
     "data": {
      "text/html": [
       "<div class=\"data-frame\"><p>18 rows × 8 columns</p><table class=\"data-frame\"><thead><tr><th></th><th>samplesize</th><th>obssize</th><th>fittime</th><th>se</th><th>nobs</th><th>fitmin</th><th>fitmax</th><th>perobsratio</th></tr><tr><th></th><th title=\"String\">String</th><th title=\"String\">String</th><th title=\"Float64\">Float64</th><th title=\"Float64\">Float64</th><th title=\"Int64\">Int64</th><th title=\"Float64\">Float64</th><th title=\"Float64\">Float64</th><th title=\"Float64\">Float64</th></tr></thead><tbody><tr><th>1</th><td>100</td><td>2</td><td>0.188207</td><td>0.0228928</td><td>200</td><td>0.165314</td><td>0.211099</td><td>0.000941033</td></tr><tr><th>2</th><td>100</td><td>5</td><td>0.137983</td><td>0.00197783</td><td>500</td><td>0.136006</td><td>0.139961</td><td>0.000275967</td></tr><tr><th>3</th><td>100</td><td>10</td><td>0.153148</td><td>0.00202654</td><td>1000</td><td>0.151121</td><td>0.155175</td><td>0.000153148</td></tr><tr><th>4</th><td>100</td><td>15</td><td>0.171314</td><td>0.00221421</td><td>1500</td><td>0.1691</td><td>0.173528</td><td>0.000114209</td></tr><tr><th>5</th><td>100</td><td>20</td><td>0.195509</td><td>0.0023521</td><td>2000</td><td>0.193157</td><td>0.197861</td><td>9.77546e-5</td></tr><tr><th>6</th><td>100</td><td>25</td><td>0.215921</td><td>0.00282929</td><td>2500</td><td>0.213092</td><td>0.218751</td><td>8.63685e-5</td></tr><tr><th>7</th><td>1000</td><td>2</td><td>0.417788</td><td>0.0048689</td><td>2000</td><td>0.412919</td><td>0.422656</td><td>0.000208894</td></tr><tr><th>8</th><td>1000</td><td>5</td><td>0.537901</td><td>0.00567983</td><td>5000</td><td>0.532221</td><td>0.54358</td><td>0.00010758</td></tr><tr><th>9</th><td>1000</td><td>10</td><td>0.771002</td><td>0.00683508</td><td>10000</td><td>0.764167</td><td>0.777837</td><td>7.71002e-5</td></tr><tr><th>10</th><td>1000</td><td>15</td><td>1.05911</td><td>0.00751113</td><td>15000</td><td>1.0516</td><td>1.06662</td><td>7.06073e-5</td></tr><tr><th>11</th><td>1000</td><td>20</td><td>1.37789</td><td>0.0111904</td><td>20000</td><td>1.3667</td><td>1.38908</td><td>6.88947e-5</td></tr><tr><th>12</th><td>1000</td><td>25</td><td>1.7113</td><td>0.0365725</td><td>25000</td><td>1.67473</td><td>1.74787</td><td>6.8452e-5</td></tr><tr><th>13</th><td>10000</td><td>2</td><td>4.60269</td><td>0.0580634</td><td>20000</td><td>4.54462</td><td>4.66075</td><td>0.000230134</td></tr><tr><th>14</th><td>10000</td><td>5</td><td>6.69244</td><td>0.0490976</td><td>50000</td><td>6.64334</td><td>6.74154</td><td>0.000133849</td></tr><tr><th>15</th><td>10000</td><td>10</td><td>9.7304</td><td>0.115605</td><td>100000</td><td>9.6148</td><td>9.84601</td><td>9.7304e-5</td></tr><tr><th>16</th><td>10000</td><td>15</td><td>13.2327</td><td>0.152637</td><td>150000</td><td>13.0801</td><td>13.3853</td><td>8.82179e-5</td></tr><tr><th>17</th><td>10000</td><td>20</td><td>15.5382</td><td>0.14244</td><td>200000</td><td>15.3958</td><td>15.6807</td><td>7.76911e-5</td></tr><tr><th>18</th><td>10000</td><td>25</td><td>18.6948</td><td>0.126722</td><td>250000</td><td>18.5681</td><td>18.8215</td><td>7.47792e-5</td></tr></tbody></table></div>"
      ],
      "text/latex": [
       "\\begin{tabular}{r|cccccccc}\n",
       "\t& samplesize & obssize & fittime & se & nobs & fitmin & fitmax & perobsratio\\\\\n",
       "\t\\hline\n",
       "\t& String & String & Float64 & Float64 & Int64 & Float64 & Float64 & Float64\\\\\n",
       "\t\\hline\n",
       "\t1 & 100 & 2 & 0.188207 & 0.0228928 & 200 & 0.165314 & 0.211099 & 0.000941033 \\\\\n",
       "\t2 & 100 & 5 & 0.137983 & 0.00197783 & 500 & 0.136006 & 0.139961 & 0.000275967 \\\\\n",
       "\t3 & 100 & 10 & 0.153148 & 0.00202654 & 1000 & 0.151121 & 0.155175 & 0.000153148 \\\\\n",
       "\t4 & 100 & 15 & 0.171314 & 0.00221421 & 1500 & 0.1691 & 0.173528 & 0.000114209 \\\\\n",
       "\t5 & 100 & 20 & 0.195509 & 0.0023521 & 2000 & 0.193157 & 0.197861 & 9.77546e-5 \\\\\n",
       "\t6 & 100 & 25 & 0.215921 & 0.00282929 & 2500 & 0.213092 & 0.218751 & 8.63685e-5 \\\\\n",
       "\t7 & 1000 & 2 & 0.417788 & 0.0048689 & 2000 & 0.412919 & 0.422656 & 0.000208894 \\\\\n",
       "\t8 & 1000 & 5 & 0.537901 & 0.00567983 & 5000 & 0.532221 & 0.54358 & 0.00010758 \\\\\n",
       "\t9 & 1000 & 10 & 0.771002 & 0.00683508 & 10000 & 0.764167 & 0.777837 & 7.71002e-5 \\\\\n",
       "\t10 & 1000 & 15 & 1.05911 & 0.00751113 & 15000 & 1.0516 & 1.06662 & 7.06073e-5 \\\\\n",
       "\t11 & 1000 & 20 & 1.37789 & 0.0111904 & 20000 & 1.3667 & 1.38908 & 6.88947e-5 \\\\\n",
       "\t12 & 1000 & 25 & 1.7113 & 0.0365725 & 25000 & 1.67473 & 1.74787 & 6.8452e-5 \\\\\n",
       "\t13 & 10000 & 2 & 4.60269 & 0.0580634 & 20000 & 4.54462 & 4.66075 & 0.000230134 \\\\\n",
       "\t14 & 10000 & 5 & 6.69244 & 0.0490976 & 50000 & 6.64334 & 6.74154 & 0.000133849 \\\\\n",
       "\t15 & 10000 & 10 & 9.7304 & 0.115605 & 100000 & 9.6148 & 9.84601 & 9.7304e-5 \\\\\n",
       "\t16 & 10000 & 15 & 13.2327 & 0.152637 & 150000 & 13.0801 & 13.3853 & 8.82179e-5 \\\\\n",
       "\t17 & 10000 & 20 & 15.5382 & 0.14244 & 200000 & 15.3958 & 15.6807 & 7.76911e-5 \\\\\n",
       "\t18 & 10000 & 25 & 18.6948 & 0.126722 & 250000 & 18.5681 & 18.8215 & 7.47792e-5 \\\\\n",
       "\\end{tabular}\n"
      ],
      "text/plain": [
       "\u001b[1m18×8 DataFrame\u001b[0m\n",
       "\u001b[1m Row \u001b[0m│\u001b[1m samplesize \u001b[0m\u001b[1m obssize \u001b[0m\u001b[1m fittime   \u001b[0m\u001b[1m se         \u001b[0m\u001b[1m nobs   \u001b[0m\u001b[1m fitmin    \u001b[0m\u001b[1m fitmax  \u001b[0m ⋯\n",
       "\u001b[1m     \u001b[0m│\u001b[90m String     \u001b[0m\u001b[90m String  \u001b[0m\u001b[90m Float64   \u001b[0m\u001b[90m Float64    \u001b[0m\u001b[90m Int64  \u001b[0m\u001b[90m Float64   \u001b[0m\u001b[90m Float64 \u001b[0m ⋯\n",
       "─────┼──────────────────────────────────────────────────────────────────────────\n",
       "   1 │ 100         2         0.188207  0.0228928      200   0.165314   0.21109 ⋯\n",
       "   2 │ 100         5         0.137983  0.00197783     500   0.136006   0.13996\n",
       "   3 │ 100         10        0.153148  0.00202654    1000   0.151121   0.15517\n",
       "   4 │ 100         15        0.171314  0.00221421    1500   0.1691     0.17352\n",
       "   5 │ 100         20        0.195509  0.0023521     2000   0.193157   0.19786 ⋯\n",
       "   6 │ 100         25        0.215921  0.00282929    2500   0.213092   0.21875\n",
       "   7 │ 1000        2         0.417788  0.0048689     2000   0.412919   0.42265\n",
       "   8 │ 1000        5         0.537901  0.00567983    5000   0.532221   0.54358\n",
       "   9 │ 1000        10        0.771002  0.00683508   10000   0.764167   0.77783 ⋯\n",
       "  10 │ 1000        15        1.05911   0.00751113   15000   1.0516     1.06662\n",
       "  11 │ 1000        20        1.37789   0.0111904    20000   1.3667     1.38908\n",
       "  12 │ 1000        25        1.7113    0.0365725    25000   1.67473    1.74787\n",
       "  13 │ 10000       2         4.60269   0.0580634    20000   4.54462    4.66075 ⋯\n",
       "  14 │ 10000       5         6.69244   0.0490976    50000   6.64334    6.74154\n",
       "  15 │ 10000       10        9.7304    0.115605    100000   9.6148     9.84601\n",
       "  16 │ 10000       15       13.2327    0.152637    150000  13.0801    13.3853\n",
       "  17 │ 10000       20       15.5382    0.14244     200000  15.3958    15.6807  ⋯\n",
       "  18 │ 10000       25       18.6948    0.126722    250000  18.5681    18.8215\n",
       "\u001b[36m                                                               2 columns omitted\u001b[0m"
      ]
     },
     "execution_count": 6,
     "metadata": {},
     "output_type": "execute_result"
    }
   ],
   "source": [
    "#simulation parameters\n",
    "@info \"making results table Quasi-Copula\"\n",
    "sample_sizes = repeat(string.(samplesizes), inner = nsims * length(ns))\n",
    "obs_sizes = repeat(string.(ns), inner = nsims, outer = length(samplesizes))\n",
    "\n",
    "msedf = DataFrame(βmse = βMseresult, Σmse = ΣMseresult, \n",
    "    samplesize = sample_sizes, obssize = obs_sizes, fittimes = fittimes_QC)\n",
    "timedf1 = combine(groupby(msedf, [:samplesize, :obssize]), :fittimes => mean => :fittime,\n",
    "    :fittimes => x -> (std(x)/sqrt(length(x))))\n",
    "rename!(timedf1, Dict(:fittimes_function => \"se\"))\n",
    "timedf1[!, :nobs] = Meta.parse.(timedf1[!, :samplesize]) .* Meta.parse.(timedf1[!, :obssize])\n",
    "timedf1[!, :fitmin] = timedf1[!, :fittime] - timedf1[!, :se]\n",
    "timedf1[!, :fitmax] = timedf1[!, :fittime] + timedf1[!, :se]\n",
    "timedf1[!, :perobsratio] = timedf1[!, :fittime] ./ timedf1[!, :nobs]\n",
    "timedf1"
   ]
  },
  {
   "cell_type": "code",
   "execution_count": 7,
   "metadata": {},
   "outputs": [
    {
     "name": "stderr",
     "output_type": "stream",
     "text": [
      "┌ Info: making results table GLMM\n",
      "└ @ Main In[7]:2\n"
     ]
    },
    {
     "data": {
      "text/html": [
       "<div class=\"data-frame\"><p>18 rows × 8 columns</p><table class=\"data-frame\"><thead><tr><th></th><th>samplesize</th><th>obssize</th><th>fittime</th><th>se</th><th>nobs</th><th>fitmin</th><th>fitmax</th><th>perobsratio</th></tr><tr><th></th><th title=\"String\">String</th><th title=\"String\">String</th><th title=\"Float64\">Float64</th><th title=\"Float64\">Float64</th><th title=\"Int64\">Int64</th><th title=\"Float64\">Float64</th><th title=\"Float64\">Float64</th><th title=\"Float64\">Float64</th></tr></thead><tbody><tr><th>1</th><td>100</td><td>2</td><td>0.0181855</td><td>0.00250804</td><td>200</td><td>0.0156774</td><td>0.0206935</td><td>9.09273e-5</td></tr><tr><th>2</th><td>100</td><td>5</td><td>0.0349568</td><td>0.000270411</td><td>500</td><td>0.0346864</td><td>0.0352272</td><td>6.99136e-5</td></tr><tr><th>3</th><td>100</td><td>10</td><td>0.0663649</td><td>0.00058792</td><td>1000</td><td>0.065777</td><td>0.0669528</td><td>6.63649e-5</td></tr><tr><th>4</th><td>100</td><td>15</td><td>0.09914</td><td>0.000750237</td><td>1500</td><td>0.0983897</td><td>0.0998902</td><td>6.60933e-5</td></tr><tr><th>5</th><td>100</td><td>20</td><td>0.1357</td><td>0.00109656</td><td>2000</td><td>0.134603</td><td>0.136796</td><td>6.78499e-5</td></tr><tr><th>6</th><td>100</td><td>25</td><td>0.168111</td><td>0.00154899</td><td>2500</td><td>0.166562</td><td>0.16966</td><td>6.72443e-5</td></tr><tr><th>7</th><td>1000</td><td>2</td><td>0.156055</td><td>0.0014458</td><td>2000</td><td>0.154609</td><td>0.1575</td><td>7.80273e-5</td></tr><tr><th>8</th><td>1000</td><td>5</td><td>0.41843</td><td>0.00298291</td><td>5000</td><td>0.415447</td><td>0.421413</td><td>8.3686e-5</td></tr><tr><th>9</th><td>1000</td><td>10</td><td>0.77363</td><td>0.00488829</td><td>10000</td><td>0.768742</td><td>0.778518</td><td>7.7363e-5</td></tr><tr><th>10</th><td>1000</td><td>15</td><td>1.10603</td><td>0.00837026</td><td>15000</td><td>1.09766</td><td>1.1144</td><td>7.37352e-5</td></tr><tr><th>11</th><td>1000</td><td>20</td><td>1.51789</td><td>0.0089638</td><td>20000</td><td>1.50893</td><td>1.52685</td><td>7.58945e-5</td></tr><tr><th>12</th><td>1000</td><td>25</td><td>1.81648</td><td>0.0125953</td><td>25000</td><td>1.80388</td><td>1.82907</td><td>7.26591e-5</td></tr><tr><th>13</th><td>10000</td><td>2</td><td>1.64178</td><td>0.0115891</td><td>20000</td><td>1.63019</td><td>1.65337</td><td>8.2089e-5</td></tr><tr><th>14</th><td>10000</td><td>5</td><td>3.60353</td><td>0.0233917</td><td>50000</td><td>3.58014</td><td>3.62693</td><td>7.20707e-5</td></tr><tr><th>15</th><td>10000</td><td>10</td><td>6.63338</td><td>0.0344945</td><td>100000</td><td>6.59889</td><td>6.66788</td><td>6.63338e-5</td></tr><tr><th>16</th><td>10000</td><td>15</td><td>9.67033</td><td>0.0648984</td><td>150000</td><td>9.60543</td><td>9.73523</td><td>6.44689e-5</td></tr><tr><th>17</th><td>10000</td><td>20</td><td>13.1149</td><td>0.0867979</td><td>200000</td><td>13.0281</td><td>13.2017</td><td>6.55745e-5</td></tr><tr><th>18</th><td>10000</td><td>25</td><td>16.6732</td><td>0.0826027</td><td>250000</td><td>16.5906</td><td>16.7558</td><td>6.66929e-5</td></tr></tbody></table></div>"
      ],
      "text/latex": [
       "\\begin{tabular}{r|cccccccc}\n",
       "\t& samplesize & obssize & fittime & se & nobs & fitmin & fitmax & perobsratio\\\\\n",
       "\t\\hline\n",
       "\t& String & String & Float64 & Float64 & Int64 & Float64 & Float64 & Float64\\\\\n",
       "\t\\hline\n",
       "\t1 & 100 & 2 & 0.0181855 & 0.00250804 & 200 & 0.0156774 & 0.0206935 & 9.09273e-5 \\\\\n",
       "\t2 & 100 & 5 & 0.0349568 & 0.000270411 & 500 & 0.0346864 & 0.0352272 & 6.99136e-5 \\\\\n",
       "\t3 & 100 & 10 & 0.0663649 & 0.00058792 & 1000 & 0.065777 & 0.0669528 & 6.63649e-5 \\\\\n",
       "\t4 & 100 & 15 & 0.09914 & 0.000750237 & 1500 & 0.0983897 & 0.0998902 & 6.60933e-5 \\\\\n",
       "\t5 & 100 & 20 & 0.1357 & 0.00109656 & 2000 & 0.134603 & 0.136796 & 6.78499e-5 \\\\\n",
       "\t6 & 100 & 25 & 0.168111 & 0.00154899 & 2500 & 0.166562 & 0.16966 & 6.72443e-5 \\\\\n",
       "\t7 & 1000 & 2 & 0.156055 & 0.0014458 & 2000 & 0.154609 & 0.1575 & 7.80273e-5 \\\\\n",
       "\t8 & 1000 & 5 & 0.41843 & 0.00298291 & 5000 & 0.415447 & 0.421413 & 8.3686e-5 \\\\\n",
       "\t9 & 1000 & 10 & 0.77363 & 0.00488829 & 10000 & 0.768742 & 0.778518 & 7.7363e-5 \\\\\n",
       "\t10 & 1000 & 15 & 1.10603 & 0.00837026 & 15000 & 1.09766 & 1.1144 & 7.37352e-5 \\\\\n",
       "\t11 & 1000 & 20 & 1.51789 & 0.0089638 & 20000 & 1.50893 & 1.52685 & 7.58945e-5 \\\\\n",
       "\t12 & 1000 & 25 & 1.81648 & 0.0125953 & 25000 & 1.80388 & 1.82907 & 7.26591e-5 \\\\\n",
       "\t13 & 10000 & 2 & 1.64178 & 0.0115891 & 20000 & 1.63019 & 1.65337 & 8.2089e-5 \\\\\n",
       "\t14 & 10000 & 5 & 3.60353 & 0.0233917 & 50000 & 3.58014 & 3.62693 & 7.20707e-5 \\\\\n",
       "\t15 & 10000 & 10 & 6.63338 & 0.0344945 & 100000 & 6.59889 & 6.66788 & 6.63338e-5 \\\\\n",
       "\t16 & 10000 & 15 & 9.67033 & 0.0648984 & 150000 & 9.60543 & 9.73523 & 6.44689e-5 \\\\\n",
       "\t17 & 10000 & 20 & 13.1149 & 0.0867979 & 200000 & 13.0281 & 13.2017 & 6.55745e-5 \\\\\n",
       "\t18 & 10000 & 25 & 16.6732 & 0.0826027 & 250000 & 16.5906 & 16.7558 & 6.66929e-5 \\\\\n",
       "\\end{tabular}\n"
      ],
      "text/plain": [
       "\u001b[1m18×8 DataFrame\u001b[0m\n",
       "\u001b[1m Row \u001b[0m│\u001b[1m samplesize \u001b[0m\u001b[1m obssize \u001b[0m\u001b[1m fittime    \u001b[0m\u001b[1m se          \u001b[0m\u001b[1m nobs   \u001b[0m\u001b[1m fitmin     \u001b[0m\u001b[1m fitma\u001b[0m ⋯\n",
       "\u001b[1m     \u001b[0m│\u001b[90m String     \u001b[0m\u001b[90m String  \u001b[0m\u001b[90m Float64    \u001b[0m\u001b[90m Float64     \u001b[0m\u001b[90m Int64  \u001b[0m\u001b[90m Float64    \u001b[0m\u001b[90m Float\u001b[0m ⋯\n",
       "─────┼──────────────────────────────────────────────────────────────────────────\n",
       "   1 │ 100         2         0.0181855  0.00250804      200   0.0156774   0.02 ⋯\n",
       "   2 │ 100         5         0.0349568  0.000270411     500   0.0346864   0.03\n",
       "   3 │ 100         10        0.0663649  0.00058792     1000   0.065777    0.06\n",
       "   4 │ 100         15        0.09914    0.000750237    1500   0.0983897   0.09\n",
       "   5 │ 100         20        0.1357     0.00109656     2000   0.134603    0.13 ⋯\n",
       "   6 │ 100         25        0.168111   0.00154899     2500   0.166562    0.16\n",
       "   7 │ 1000        2         0.156055   0.0014458      2000   0.154609    0.15\n",
       "   8 │ 1000        5         0.41843    0.00298291     5000   0.415447    0.42\n",
       "   9 │ 1000        10        0.77363    0.00488829    10000   0.768742    0.77 ⋯\n",
       "  10 │ 1000        15        1.10603    0.00837026    15000   1.09766     1.11\n",
       "  11 │ 1000        20        1.51789    0.0089638     20000   1.50893     1.52\n",
       "  12 │ 1000        25        1.81648    0.0125953     25000   1.80388     1.82\n",
       "  13 │ 10000       2         1.64178    0.0115891     20000   1.63019     1.65 ⋯\n",
       "  14 │ 10000       5         3.60353    0.0233917     50000   3.58014     3.62\n",
       "  15 │ 10000       10        6.63338    0.0344945    100000   6.59889     6.66\n",
       "  16 │ 10000       15        9.67033    0.0648984    150000   9.60543     9.73\n",
       "  17 │ 10000       20       13.1149     0.0867979    200000  13.0281     13.20 ⋯\n",
       "  18 │ 10000       25       16.6732     0.0826027    250000  16.5906     16.75\n",
       "\u001b[36m                                                               2 columns omitted\u001b[0m"
      ]
     },
     "execution_count": 7,
     "metadata": {},
     "output_type": "execute_result"
    }
   ],
   "source": [
    "#simulation parameters\n",
    "@info \"making results table GLMM\"\n",
    "sample_sizes = repeat(string.(samplesizes), inner = nsims * length(ns))\n",
    "obs_sizes = repeat(string.(ns), inner = nsims, outer = length(samplesizes))\n",
    "\n",
    "msedf = DataFrame(βmse = βMseresult, Σmse = ΣMseresult, \n",
    "    samplesize = sample_sizes, obssize = obs_sizes, fittimes = fittimes_GLMM)\n",
    "timedf2 = combine(groupby(msedf, [:samplesize, :obssize]), :fittimes => mean => :fittime,\n",
    "    :fittimes => x -> (std(x)/sqrt(length(x))))\n",
    "rename!(timedf2, Dict(:fittimes_function => \"se\"))\n",
    "timedf2[!, :nobs] = Meta.parse.(timedf2[!, :samplesize]) .* Meta.parse.(timedf2[!, :obssize])\n",
    "timedf2[!, :fitmin] = timedf2[!, :fittime] - timedf2[!, :se]\n",
    "timedf2[!, :fitmax] = timedf2[!, :fittime] + timedf2[!, :se]\n",
    "timedf2[!, :perobsratio] = timedf2[!, :fittime] ./ timedf2[!, :nobs]\n",
    "timedf2"
   ]
  },
  {
   "cell_type": "code",
   "execution_count": 8,
   "metadata": {},
   "outputs": [
    {
     "name": "stderr",
     "output_type": "stream",
     "text": [
      "┌ Warning: RCall.jl: Warning: package ‘ggplot2’ was built under R version 4.0.2\n",
      "└ @ RCall /Users/sarahji/.julia/packages/RCall/iMDW2/src/io.jl:160\n",
      "┌ Warning: RCall.jl: Warning: package ‘cowplot’ was built under R version 4.0.2\n",
      "└ @ RCall /Users/sarahji/.julia/packages/RCall/iMDW2/src/io.jl:160\n"
     ]
    },
    {
     "data": {
      "image/png": "[encoded data removed]"
     },
     "metadata": {},
     "output_type": "display_data"
    },
    {
     "data": {
      "text/plain": [
       "RObject{VecSxp}\n"
      ]
     },
     "execution_count": 8,
     "metadata": {},
     "output_type": "execute_result"
    }
   ],
   "source": [
    "########### plot the runtimes\n",
    "using RCall\n",
    "@rput timedf1\n",
    "@rput timedf2\n",
    "R\"\"\"\n",
    "library(ggplot2)\n",
    "library(cowplot)\n",
    "timedf1$obssize = factor(timedf1$obssize, levels = c('2', '5', '10', '15', '20', '25'))\n",
    "timedf1$samplesize = factor(timedf1$samplesize, levels = c('100', '1000', '10000'))\n",
    "\n",
    "fittime_1 = ggplot(timedf1, aes(x = samplesize, y = fittime, group = obssize, color = obssize)) + \n",
    "  geom_line() +\n",
    "  geom_point()+\n",
    "  geom_errorbar(aes(ymin=fitmin, ymax=fitmax), width=0.5, alpha = 0.8, position=position_dodge(0.005)) + \n",
    "  theme(legend.position=c(0.15,0.85), legend.key = element_blank(), axis.text.x = element_text(angle=0, size=13),\n",
    "        axis.text.y = element_text(angle=0, size=13), axis.title.x = element_text(size = 17), \n",
    "        axis.title.y = element_text(size = 17), legend.title = element_text(size = 14),\n",
    "        #axis.ticks = element_blank(),\n",
    "        panel.grid.major = element_blank(), legend.text=element_text(size=13),\n",
    "        panel.border = element_blank(), panel.grid.minor = element_blank(), panel.background = element_blank(), \n",
    "        axis.line = element_line(color = 'black',size=0.3), plot.title = element_text(hjust = 0.5)) + \n",
    "   scale_color_manual(values = c(\"#c85f55\",\n",
    "\"#a964bf\",\n",
    "\"#8db352\",\n",
    "\"#fa7300\",\n",
    "\"#05aec0\",\n",
    "\"#ff1493\")) +\n",
    "  labs(x = \"Number of Individuals\", y = \"Fit time (seconds)\", color = \"Obs per Individual\")\n",
    "\n",
    "timedf2$obssize = factor(timedf2$obssize, levels = c('2', '5', '10', '15', '20', '25'))\n",
    "timedf2$samplesize = factor(timedf2$samplesize, levels = c('100', '1000', '10000'))\n",
    "\n",
    "fittime_2 = ggplot(timedf2, aes(x = samplesize, y = fittime, group = obssize, color = obssize)) + \n",
    "  geom_line() +\n",
    "  geom_point()+\n",
    "  geom_errorbar(aes(ymin=fitmin, ymax=fitmax), width=0.5, alpha = 0.8, position=position_dodge(0.005)) + \n",
    "  theme(legend.position=c(0.15,0.85), legend.key = element_blank(), axis.text.x = element_text(angle=0, size=13),\n",
    "        axis.text.y = element_text(angle=0, size=13), axis.title.x = element_text(size = 17), \n",
    "        axis.title.y = element_text(size = 17), legend.title = element_text(size = 14),\n",
    "        #axis.ticks = element_blank(),\n",
    "        panel.grid.major = element_blank(), legend.text=element_text(size=13),\n",
    "        panel.border = element_blank(), panel.grid.minor = element_blank(), panel.background = element_blank(), \n",
    "        axis.line = element_line(color = 'black',size=0.3), plot.title = element_text(hjust = 0.5)) + \n",
    "   scale_color_manual(values = c(\"#c85f55\",\n",
    "\"#a964bf\",\n",
    "\"#8db352\",\n",
    "\"#fa7300\",\n",
    "\"#05aec0\",\n",
    "\"#ff1493\")) +\n",
    "  labs(x = \"Number of Individuals\", y = \"Fit time (seconds)\", color = \"Obs per Individual\")\n",
    "\n",
    "fittime_nsamples = plot_grid(fittime_1, fittime_2, labels = c(\"Quasi-Copula\", \"GLMM\"))\n",
    "\"\"\""
   ]
  },
  {
   "cell_type": "code",
   "execution_count": 9,
   "metadata": {},
   "outputs": [
    {
     "data": {
      "text/plain": [
       "RObject{StrSxp}\n",
       "[1] \"fittime_nsamples_nb_vs_glmm.png\"\n"
      ]
     },
     "execution_count": 9,
     "metadata": {},
     "output_type": "execute_result"
    }
   ],
   "source": [
    "R\"\"\"\n",
    "ggsave('fittime_nsamples_nb_vs_glmm.png', fittime_nsamples, width = 12.5, height = 15, units = 'in', dpi = 450)\n",
    "\"\"\""
   ]
  },
  {
   "cell_type": "code",
   "execution_count": 10,
   "metadata": {},
   "outputs": [],
   "source": [
    "# using RCall\n",
    "# @rput timedf1\n",
    "# @rput timedf2\n",
    "\n",
    "# R\"\"\"\n",
    "# library(scales)\n",
    "# library(ggplot2)\n",
    "# timedf1$obssize <- factor(timedf1$obssize, levels = c('2', '5', '10', '15', '20', '25'))\n",
    "# timedf1$samplesize <- factor(timedf1$samplesize, levels = c('100', '1000', '10000'))\n",
    "\n",
    "# fancy_scientific <- function(l) {\n",
    "#      # turn in to character string in scientific notation\n",
    "#      l <- format(l, scientific = TRUE)\n",
    "#      # quote the part before the exponent to keep all the digits\n",
    "#      l <- gsub(\"^(.*)e\", \"'\\\\1'e\", l)\n",
    "#      # turn the 'e+' into plotmath format\n",
    "#      l <- gsub(\"e\", \"%*%10^\", l)\n",
    "#      # return this as an expression\n",
    "#      parse(text=l)\n",
    "# }\n",
    "\n",
    "# fittimeperobs1 = ggplot(timedf1, aes(x=nobs, y=perobsratio)) + \n",
    "#   geom_line() +\n",
    "#   geom_point()+\n",
    "# #  geom_errorbar(aes(ymin=fitmin, ymax=fitmax), width=0.5, alpha = 0.8, position=position_dodge(0.005)) + \n",
    "#   theme(legend.position=c(0.15,0.8), legend.key = element_blank(), axis.text.x = element_text(angle=0, size=13),\n",
    "#         axis.text.y = element_text(angle=0, size=13), axis.title.x = element_text(size = 17), \n",
    "#         axis.title.y = element_text(size = 17), legend.title = element_text(size = 14),\n",
    "#         #axis.ticks = element_blank(),\n",
    "#         panel.grid.major = element_blank(), legend.text=element_text(size=11),\n",
    "#         panel.border = element_blank(), panel.grid.minor = element_blank(), panel.background = element_blank(), \n",
    "#         axis.line = element_line(color = 'black',size=0.3), plot.title = element_text(hjust = 0.5)) + \n",
    "#   labs(x = \"Total Number of Observations\", y = \"Fit time per observation (seconds)\", color = \"Obs per Individual\") +\n",
    "# #scale_x_log10(breaks = 10^seq(0, 7, 1), labels=trans_format(\"log10\", math_format(10^.x)))# + #, limit=c(10^0, 10^7))\n",
    "# scale_x_continuous(breaks = seq(0, 6000000, 1000000), labels= fancy_scientific) +\n",
    "# scale_y_continuous(breaks = c(2 * 10^-5, 10^-4, 2 * 10^-4, 3 * 10^-4, 4 * 10^-4, 5 * 10^-4, 6 * 10^-4), labels= fancy_scientific)\n",
    "\n",
    "# # glmm fit times\n",
    "# timedf2$obssize <- factor(timedf2$obssize, levels = c('2', '5', '10', '15', '20', '25'))\n",
    "# timedf2$samplesize <- factor(timedf2$samplesize, levels = c('100', '1000', '10000'))\n",
    "\n",
    "# fancy_scientific <- function(l) {\n",
    "#      # turn in to character string in scientific notation\n",
    "#      l <- format(l, scientific = TRUE)\n",
    "#      # quote the part before the exponent to keep all the digits\n",
    "#      l <- gsub(\"^(.*)e\", \"'\\\\1'e\", l)\n",
    "#      # turn the 'e+' into plotmath format\n",
    "#      l <- gsub(\"e\", \"%*%10^\", l)\n",
    "#      # return this as an expression\n",
    "#      parse(text=l)\n",
    "# }\n",
    "\n",
    "# fittimeperobs2 = ggplot(timedf2, aes(x=nobs, y=perobsratio)) + \n",
    "#   geom_line() +\n",
    "#   geom_point()+\n",
    "# #  geom_errorbar(aes(ymin=fitmin, ymax=fitmax), width=0.5, alpha = 0.8, position=position_dodge(0.005)) + \n",
    "#   theme(legend.position=c(0.15,0.8), legend.key = element_blank(), axis.text.x = element_text(angle=0, size=13),\n",
    "#         axis.text.y = element_text(angle=0, size=13), axis.title.x = element_text(size = 17), \n",
    "#         axis.title.y = element_text(size = 17), legend.title = element_text(size = 14),\n",
    "#         #axis.ticks = element_blank(),\n",
    "#         panel.grid.major = element_blank(), legend.text=element_text(size=11),\n",
    "#         panel.border = element_blank(), panel.grid.minor = element_blank(), panel.background = element_blank(), \n",
    "#         axis.line = element_line(color = 'black',size=0.3), plot.title = element_text(hjust = 0.5)) + \n",
    "#   labs(x = \"Total Number of Observations\", y = \"Fit time per observation (seconds)\", color = \"Obs per Individual\") +\n",
    "# #scale_x_log10(breaks = 10^seq(0, 7, 1), labels=trans_format(\"log10\", math_format(10^.x)))# + #, limit=c(10^0, 10^7))\n",
    "# scale_x_continuous(breaks = seq(0, 6000000, 1000000), labels= fancy_scientific) +\n",
    "# scale_y_continuous(breaks = c(2 * 10^-5, 10^-4, 2 * 10^-4, 3 * 10^-4, 4 * 10^-4, 5 * 10^-4, 6 * 10^-4), labels= fancy_scientific)\n",
    "\n",
    "# fittime_perobs = plot_grid(fittimeperobs1, fittimeperobs2, labels = c(\"Quasi-Copula\", \"GLMM\"))\n",
    "\n",
    "# \"\"\"\n",
    "\n",
    "# R\"\"\"\n",
    "# ggsave('fittime_perobs_logistic_vs_glmm.png', fittime_perobs, width = 12.5, height = 15, units = 'in', dpi = 450)\n",
    "# \"\"\""
   ]
  },
  {
   "cell_type": "code",
   "execution_count": 11,
   "metadata": {},
   "outputs": [
    {
     "data": {
      "text/html": [
       "<div class=\"data-frame\"><p>18 rows × 6 columns (omitted printing of 1 columns)</p><table class=\"data-frame\"><thead><tr><th></th><th>people_obs</th><th>β1</th><th>β2</th><th>β3</th><th>r</th></tr><tr><th></th><th title=\"String\">String</th><th title=\"Tuple{Float64, Float64}\">Tuple…</th><th title=\"Tuple{Float64, Float64}\">Tuple…</th><th title=\"Tuple{Float64, Float64}\">Tuple…</th><th title=\"Tuple{Float64, Float64}\">Tuple…</th></tr></thead><tbody><tr><th>1</th><td>N: 100  ni: 2</td><td>(0.15, 0.035887)</td><td>(0.13, 0.0337998)</td><td>(0.09, 0.0287623)</td><td>(0.03, 0.0171447)</td></tr><tr><th>2</th><td>N: 100  ni: 5</td><td>(0.0, 0.0)</td><td>(0.02, 0.0140705)</td><td>(0.02, 0.0140705)</td><td>(0.0, 0.0)</td></tr><tr><th>3</th><td>N: 100  ni: 10</td><td>(0.0, 0.0)</td><td>(0.0, 0.0)</td><td>(0.0, 0.0)</td><td>(0.0, 0.0)</td></tr><tr><th>4</th><td>N: 100  ni: 15</td><td>(0.0, 0.0)</td><td>(0.0, 0.0)</td><td>(0.01, 0.01)</td><td>(0.01, 0.01)</td></tr><tr><th>5</th><td>N: 100  ni: 20</td><td>(0.0, 0.0)</td><td>(0.0, 0.0)</td><td>(0.01, 0.01)</td><td>(0.0, 0.0)</td></tr><tr><th>6</th><td>N: 100  ni: 25</td><td>(0.0, 0.0)</td><td>(0.01, 0.01)</td><td>(0.01, 0.01)</td><td>(0.0, 0.0)</td></tr><tr><th>7</th><td>N: 1000  ni: 2</td><td>(0.08, 0.027266)</td><td>(0.08, 0.027266)</td><td>(0.05, 0.0219043)</td><td>(0.0, 0.0)</td></tr><tr><th>8</th><td>N: 1000  ni: 5</td><td>(0.02, 0.0140705)</td><td>(0.03, 0.0171447)</td><td>(0.02, 0.0140705)</td><td>(0.0, 0.0)</td></tr><tr><th>9</th><td>N: 1000  ni: 10</td><td>(0.0, 0.0)</td><td>(0.03, 0.0171447)</td><td>(0.01, 0.01)</td><td>(0.0, 0.0)</td></tr><tr><th>10</th><td>N: 1000  ni: 15</td><td>(0.0, 0.0)</td><td>(0.01, 0.01)</td><td>(0.01, 0.01)</td><td>(0.0, 0.0)</td></tr><tr><th>11</th><td>N: 1000  ni: 20</td><td>(0.0, 0.0)</td><td>(0.0, 0.0)</td><td>(0.0, 0.0)</td><td>(0.0, 0.0)</td></tr><tr><th>12</th><td>N: 1000  ni: 25</td><td>(0.0, 0.0)</td><td>(0.02, 0.0140705)</td><td>(0.0, 0.0)</td><td>(0.0, 0.0)</td></tr><tr><th>13</th><td>N: 10000  ni: 2</td><td>(0.1, 0.0301511)</td><td>(0.18, 0.0386123)</td><td>(0.08, 0.027266)</td><td>(0.0, 0.0)</td></tr><tr><th>14</th><td>N: 10000  ni: 5</td><td>(0.0, 0.0)</td><td>(0.07, 0.0256432)</td><td>(0.0, 0.0)</td><td>(0.0, 0.0)</td></tr><tr><th>15</th><td>N: 10000  ni: 10</td><td>(0.0, 0.0)</td><td>(0.02, 0.0140705)</td><td>(0.0, 0.0)</td><td>(0.0, 0.0)</td></tr><tr><th>16</th><td>N: 10000  ni: 15</td><td>(0.0, 0.0)</td><td>(0.0, 0.0)</td><td>(0.0, 0.0)</td><td>(0.0, 0.0)</td></tr><tr><th>17</th><td>N: 10000  ni: 20</td><td>(0.0, 0.0)</td><td>(0.01, 0.01)</td><td>(0.0, 0.0)</td><td>(0.0, 0.0)</td></tr><tr><th>18</th><td>N: 10000  ni: 25</td><td>(0.0, 0.0)</td><td>(0.01, 0.01)</td><td>(0.0, 0.0)</td><td>(0.0, 0.0)</td></tr></tbody></table></div>"
      ],
      "text/latex": [
       "\\begin{tabular}{r|cccccc}\n",
       "\t& people\\_obs & β1 & β2 & β3 & r & \\\\\n",
       "\t\\hline\n",
       "\t& String & Tuple… & Tuple… & Tuple… & Tuple… & \\\\\n",
       "\t\\hline\n",
       "\t1 & N: 100  ni: 2 & (0.15, 0.035887) & (0.13, 0.0337998) & (0.09, 0.0287623) & (0.03, 0.0171447) & $\\dots$ \\\\\n",
       "\t2 & N: 100  ni: 5 & (0.0, 0.0) & (0.02, 0.0140705) & (0.02, 0.0140705) & (0.0, 0.0) & $\\dots$ \\\\\n",
       "\t3 & N: 100  ni: 10 & (0.0, 0.0) & (0.0, 0.0) & (0.0, 0.0) & (0.0, 0.0) & $\\dots$ \\\\\n",
       "\t4 & N: 100  ni: 15 & (0.0, 0.0) & (0.0, 0.0) & (0.01, 0.01) & (0.01, 0.01) & $\\dots$ \\\\\n",
       "\t5 & N: 100  ni: 20 & (0.0, 0.0) & (0.0, 0.0) & (0.01, 0.01) & (0.0, 0.0) & $\\dots$ \\\\\n",
       "\t6 & N: 100  ni: 25 & (0.0, 0.0) & (0.01, 0.01) & (0.01, 0.01) & (0.0, 0.0) & $\\dots$ \\\\\n",
       "\t7 & N: 1000  ni: 2 & (0.08, 0.027266) & (0.08, 0.027266) & (0.05, 0.0219043) & (0.0, 0.0) & $\\dots$ \\\\\n",
       "\t8 & N: 1000  ni: 5 & (0.02, 0.0140705) & (0.03, 0.0171447) & (0.02, 0.0140705) & (0.0, 0.0) & $\\dots$ \\\\\n",
       "\t9 & N: 1000  ni: 10 & (0.0, 0.0) & (0.03, 0.0171447) & (0.01, 0.01) & (0.0, 0.0) & $\\dots$ \\\\\n",
       "\t10 & N: 1000  ni: 15 & (0.0, 0.0) & (0.01, 0.01) & (0.01, 0.01) & (0.0, 0.0) & $\\dots$ \\\\\n",
       "\t11 & N: 1000  ni: 20 & (0.0, 0.0) & (0.0, 0.0) & (0.0, 0.0) & (0.0, 0.0) & $\\dots$ \\\\\n",
       "\t12 & N: 1000  ni: 25 & (0.0, 0.0) & (0.02, 0.0140705) & (0.0, 0.0) & (0.0, 0.0) & $\\dots$ \\\\\n",
       "\t13 & N: 10000  ni: 2 & (0.1, 0.0301511) & (0.18, 0.0386123) & (0.08, 0.027266) & (0.0, 0.0) & $\\dots$ \\\\\n",
       "\t14 & N: 10000  ni: 5 & (0.0, 0.0) & (0.07, 0.0256432) & (0.0, 0.0) & (0.0, 0.0) & $\\dots$ \\\\\n",
       "\t15 & N: 10000  ni: 10 & (0.0, 0.0) & (0.02, 0.0140705) & (0.0, 0.0) & (0.0, 0.0) & $\\dots$ \\\\\n",
       "\t16 & N: 10000  ni: 15 & (0.0, 0.0) & (0.0, 0.0) & (0.0, 0.0) & (0.0, 0.0) & $\\dots$ \\\\\n",
       "\t17 & N: 10000  ni: 20 & (0.0, 0.0) & (0.01, 0.01) & (0.0, 0.0) & (0.0, 0.0) & $\\dots$ \\\\\n",
       "\t18 & N: 10000  ni: 25 & (0.0, 0.0) & (0.01, 0.01) & (0.0, 0.0) & (0.0, 0.0) & $\\dots$ \\\\\n",
       "\\end{tabular}\n"
      ],
      "text/plain": [
       "\u001b[1m18×6 DataFrame\u001b[0m\n",
       "\u001b[1m Row \u001b[0m│\u001b[1m people_obs       \u001b[0m\u001b[1m β1                \u001b[0m\u001b[1m β2                \u001b[0m\u001b[1m β3             \u001b[0m ⋯\n",
       "\u001b[1m     \u001b[0m│\u001b[90m String           \u001b[0m\u001b[90m Tuple…            \u001b[0m\u001b[90m Tuple…            \u001b[0m\u001b[90m Tuple…         \u001b[0m ⋯\n",
       "─────┼──────────────────────────────────────────────────────────────────────────\n",
       "   1 │ N: 100  ni: 2     (0.15, 0.035887)   (0.13, 0.0337998)  (0.09, 0.028762 ⋯\n",
       "   2 │ N: 100  ni: 5     (0.0, 0.0)         (0.02, 0.0140705)  (0.02, 0.014070\n",
       "   3 │ N: 100  ni: 10    (0.0, 0.0)         (0.0, 0.0)         (0.0, 0.0)\n",
       "   4 │ N: 100  ni: 15    (0.0, 0.0)         (0.0, 0.0)         (0.01, 0.01)\n",
       "   5 │ N: 100  ni: 20    (0.0, 0.0)         (0.0, 0.0)         (0.01, 0.01)    ⋯\n",
       "   6 │ N: 100  ni: 25    (0.0, 0.0)         (0.01, 0.01)       (0.01, 0.01)\n",
       "   7 │ N: 1000  ni: 2    (0.08, 0.027266)   (0.08, 0.027266)   (0.05, 0.021904\n",
       "   8 │ N: 1000  ni: 5    (0.02, 0.0140705)  (0.03, 0.0171447)  (0.02, 0.014070\n",
       "   9 │ N: 1000  ni: 10   (0.0, 0.0)         (0.03, 0.0171447)  (0.01, 0.01)    ⋯\n",
       "  10 │ N: 1000  ni: 15   (0.0, 0.0)         (0.01, 0.01)       (0.01, 0.01)\n",
       "  11 │ N: 1000  ni: 20   (0.0, 0.0)         (0.0, 0.0)         (0.0, 0.0)\n",
       "  12 │ N: 1000  ni: 25   (0.0, 0.0)         (0.02, 0.0140705)  (0.0, 0.0)\n",
       "  13 │ N: 10000  ni: 2   (0.1, 0.0301511)   (0.18, 0.0386123)  (0.08, 0.027266 ⋯\n",
       "  14 │ N: 10000  ni: 5   (0.0, 0.0)         (0.07, 0.0256432)  (0.0, 0.0)\n",
       "  15 │ N: 10000  ni: 10  (0.0, 0.0)         (0.02, 0.0140705)  (0.0, 0.0)\n",
       "  16 │ N: 10000  ni: 15  (0.0, 0.0)         (0.0, 0.0)         (0.0, 0.0)\n",
       "  17 │ N: 10000  ni: 20  (0.0, 0.0)         (0.01, 0.01)       (0.0, 0.0)      ⋯\n",
       "  18 │ N: 10000  ni: 25  (0.0, 0.0)         (0.01, 0.01)       (0.0, 0.0)\n",
       "\u001b[36m                                                               3 columns omitted\u001b[0m"
      ]
     },
     "execution_count": 11,
     "metadata": {},
     "output_type": "execute_result"
    }
   ],
   "source": [
    "######  supplementary table s1\n",
    "using Random, DataFrames, DelimitedFiles, Statistics\n",
    "import StatsBase: sem\n",
    "\n",
    "βΣcoverage = readdlm(\"beta_r_sigma_coverage_multivariate_NB_vcm$(nsims)reps_sim.csv\", ',')\n",
    "\n",
    "m  = 1\n",
    "\n",
    "covdf = DataFrame(Matrix(transpose(βΣcoverage)), :auto)\n",
    "rename!(covdf, Symbol.([[\"β$i\" for i in 1:p]; [\"r\"]; [\"Σ$i\" for i in 1:m]]))\n",
    "covdf[!, :samplesize] = sample_sizes\n",
    "covdf[!, :obssize] = obs_sizes\n",
    "first(covdf, 10)\n",
    "\n",
    "row_stats = [[(mean(col), sem(col)) for col = eachcol(d[!, 1:end-2])] for d = groupby(covdf, [:samplesize; :obssize])]\n",
    "df = DataFrame(row_stats, :auto)\n",
    "ss_obs = unique(\"N: \" .* sample_sizes .* \"  ni: \" .* obs_sizes)\n",
    "rename!(df, Symbol.(ss_obs))\n",
    "covdfdisplay = DataFrame([[names(df)]; collect.(eachrow(df))], \n",
    "    [:people_obs; Symbol.([[\"β$i\" for i in 1:p];  [\"r\"];  [\"Σ$i\" for i in 1:m]])])\n",
    "# deletecols!(covdfdisplay, p + 2)\n",
    "covdfdisplay\n"
   ]
  },
  {
   "cell_type": "code",
   "execution_count": 12,
   "metadata": {},
   "outputs": [
    {
     "data": {
      "text/html": [
       "<div class=\"data-frame\"><p>10,800 rows × 5 columns</p><table class=\"data-frame\"><thead><tr><th></th><th>mse</th><th>obssize</th><th>samplesize</th><th>parameters</th><th>robust</th></tr><tr><th></th><th title=\"Float64\">Float64</th><th title=\"String\">String</th><th title=\"String\">String</th><th title=\"String\">String</th><th title=\"String\">String</th></tr></thead><tbody><tr><th>1</th><td>0.00035611</td><td>2</td><td>100</td><td>beta</td><td>NegBinomial Quasi-Copula</td></tr><tr><th>2</th><td>0.00532037</td><td>2</td><td>100</td><td>beta</td><td>NegBinomial Quasi-Copula</td></tr><tr><th>3</th><td>0.00219161</td><td>2</td><td>100</td><td>beta</td><td>NegBinomial Quasi-Copula</td></tr><tr><th>4</th><td>0.0089616</td><td>2</td><td>100</td><td>beta</td><td>NegBinomial Quasi-Copula</td></tr><tr><th>5</th><td>0.0129683</td><td>2</td><td>100</td><td>beta</td><td>NegBinomial Quasi-Copula</td></tr><tr><th>6</th><td>0.00613062</td><td>2</td><td>100</td><td>beta</td><td>NegBinomial Quasi-Copula</td></tr><tr><th>7</th><td>0.00311786</td><td>2</td><td>100</td><td>beta</td><td>NegBinomial Quasi-Copula</td></tr><tr><th>8</th><td>0.00200265</td><td>2</td><td>100</td><td>beta</td><td>NegBinomial Quasi-Copula</td></tr><tr><th>9</th><td>0.0177487</td><td>2</td><td>100</td><td>beta</td><td>NegBinomial Quasi-Copula</td></tr><tr><th>10</th><td>0.00963192</td><td>2</td><td>100</td><td>beta</td><td>NegBinomial Quasi-Copula</td></tr><tr><th>11</th><td>0.00162028</td><td>2</td><td>100</td><td>beta</td><td>NegBinomial Quasi-Copula</td></tr><tr><th>12</th><td>0.00291523</td><td>2</td><td>100</td><td>beta</td><td>NegBinomial Quasi-Copula</td></tr><tr><th>13</th><td>0.0139982</td><td>2</td><td>100</td><td>beta</td><td>NegBinomial Quasi-Copula</td></tr><tr><th>14</th><td>0.00841242</td><td>2</td><td>100</td><td>beta</td><td>NegBinomial Quasi-Copula</td></tr><tr><th>15</th><td>0.00286207</td><td>2</td><td>100</td><td>beta</td><td>NegBinomial Quasi-Copula</td></tr><tr><th>16</th><td>0.00862072</td><td>2</td><td>100</td><td>beta</td><td>NegBinomial Quasi-Copula</td></tr><tr><th>17</th><td>0.000361801</td><td>2</td><td>100</td><td>beta</td><td>NegBinomial Quasi-Copula</td></tr><tr><th>18</th><td>0.00167158</td><td>2</td><td>100</td><td>beta</td><td>NegBinomial Quasi-Copula</td></tr><tr><th>19</th><td>0.00192217</td><td>2</td><td>100</td><td>beta</td><td>NegBinomial Quasi-Copula</td></tr><tr><th>20</th><td>0.000126327</td><td>2</td><td>100</td><td>beta</td><td>NegBinomial Quasi-Copula</td></tr><tr><th>21</th><td>0.0011803</td><td>2</td><td>100</td><td>beta</td><td>NegBinomial Quasi-Copula</td></tr><tr><th>22</th><td>0.00941667</td><td>2</td><td>100</td><td>beta</td><td>NegBinomial Quasi-Copula</td></tr><tr><th>23</th><td>0.00806901</td><td>2</td><td>100</td><td>beta</td><td>NegBinomial Quasi-Copula</td></tr><tr><th>24</th><td>0.00646927</td><td>2</td><td>100</td><td>beta</td><td>NegBinomial Quasi-Copula</td></tr><tr><th>25</th><td>0.00128696</td><td>2</td><td>100</td><td>beta</td><td>NegBinomial Quasi-Copula</td></tr><tr><th>26</th><td>0.00336034</td><td>2</td><td>100</td><td>beta</td><td>NegBinomial Quasi-Copula</td></tr><tr><th>27</th><td>0.00499095</td><td>2</td><td>100</td><td>beta</td><td>NegBinomial Quasi-Copula</td></tr><tr><th>28</th><td>0.0303151</td><td>2</td><td>100</td><td>beta</td><td>NegBinomial Quasi-Copula</td></tr><tr><th>29</th><td>0.00134194</td><td>2</td><td>100</td><td>beta</td><td>NegBinomial Quasi-Copula</td></tr><tr><th>30</th><td>0.0048158</td><td>2</td><td>100</td><td>beta</td><td>NegBinomial Quasi-Copula</td></tr><tr><th>&vellip;</th><td>&vellip;</td><td>&vellip;</td><td>&vellip;</td><td>&vellip;</td><td>&vellip;</td></tr></tbody></table></div>"
      ],
      "text/latex": [
       "\\begin{tabular}{r|ccccc}\n",
       "\t& mse & obssize & samplesize & parameters & robust\\\\\n",
       "\t\\hline\n",
       "\t& Float64 & String & String & String & String\\\\\n",
       "\t\\hline\n",
       "\t1 & 0.00035611 & 2 & 100 & beta & NegBinomial Quasi-Copula \\\\\n",
       "\t2 & 0.00532037 & 2 & 100 & beta & NegBinomial Quasi-Copula \\\\\n",
       "\t3 & 0.00219161 & 2 & 100 & beta & NegBinomial Quasi-Copula \\\\\n",
       "\t4 & 0.0089616 & 2 & 100 & beta & NegBinomial Quasi-Copula \\\\\n",
       "\t5 & 0.0129683 & 2 & 100 & beta & NegBinomial Quasi-Copula \\\\\n",
       "\t6 & 0.00613062 & 2 & 100 & beta & NegBinomial Quasi-Copula \\\\\n",
       "\t7 & 0.00311786 & 2 & 100 & beta & NegBinomial Quasi-Copula \\\\\n",
       "\t8 & 0.00200265 & 2 & 100 & beta & NegBinomial Quasi-Copula \\\\\n",
       "\t9 & 0.0177487 & 2 & 100 & beta & NegBinomial Quasi-Copula \\\\\n",
       "\t10 & 0.00963192 & 2 & 100 & beta & NegBinomial Quasi-Copula \\\\\n",
       "\t11 & 0.00162028 & 2 & 100 & beta & NegBinomial Quasi-Copula \\\\\n",
       "\t12 & 0.00291523 & 2 & 100 & beta & NegBinomial Quasi-Copula \\\\\n",
       "\t13 & 0.0139982 & 2 & 100 & beta & NegBinomial Quasi-Copula \\\\\n",
       "\t14 & 0.00841242 & 2 & 100 & beta & NegBinomial Quasi-Copula \\\\\n",
       "\t15 & 0.00286207 & 2 & 100 & beta & NegBinomial Quasi-Copula \\\\\n",
       "\t16 & 0.00862072 & 2 & 100 & beta & NegBinomial Quasi-Copula \\\\\n",
       "\t17 & 0.000361801 & 2 & 100 & beta & NegBinomial Quasi-Copula \\\\\n",
       "\t18 & 0.00167158 & 2 & 100 & beta & NegBinomial Quasi-Copula \\\\\n",
       "\t19 & 0.00192217 & 2 & 100 & beta & NegBinomial Quasi-Copula \\\\\n",
       "\t20 & 0.000126327 & 2 & 100 & beta & NegBinomial Quasi-Copula \\\\\n",
       "\t21 & 0.0011803 & 2 & 100 & beta & NegBinomial Quasi-Copula \\\\\n",
       "\t22 & 0.00941667 & 2 & 100 & beta & NegBinomial Quasi-Copula \\\\\n",
       "\t23 & 0.00806901 & 2 & 100 & beta & NegBinomial Quasi-Copula \\\\\n",
       "\t24 & 0.00646927 & 2 & 100 & beta & NegBinomial Quasi-Copula \\\\\n",
       "\t25 & 0.00128696 & 2 & 100 & beta & NegBinomial Quasi-Copula \\\\\n",
       "\t26 & 0.00336034 & 2 & 100 & beta & NegBinomial Quasi-Copula \\\\\n",
       "\t27 & 0.00499095 & 2 & 100 & beta & NegBinomial Quasi-Copula \\\\\n",
       "\t28 & 0.0303151 & 2 & 100 & beta & NegBinomial Quasi-Copula \\\\\n",
       "\t29 & 0.00134194 & 2 & 100 & beta & NegBinomial Quasi-Copula \\\\\n",
       "\t30 & 0.0048158 & 2 & 100 & beta & NegBinomial Quasi-Copula \\\\\n",
       "\t$\\dots$ & $\\dots$ & $\\dots$ & $\\dots$ & $\\dots$ & $\\dots$ \\\\\n",
       "\\end{tabular}\n"
      ],
      "text/plain": [
       "\u001b[1m10800×5 DataFrame\u001b[0m\n",
       "\u001b[1m   Row \u001b[0m│\u001b[1m mse         \u001b[0m\u001b[1m obssize \u001b[0m\u001b[1m samplesize \u001b[0m\u001b[1m parameters \u001b[0m\u001b[1m robust                 \u001b[0m ⋯\n",
       "\u001b[1m       \u001b[0m│\u001b[90m Float64     \u001b[0m\u001b[90m String  \u001b[0m\u001b[90m String     \u001b[0m\u001b[90m String     \u001b[0m\u001b[90m String                 \u001b[0m ⋯\n",
       "───────┼────────────────────────────────────────────────────────────────────────\n",
       "     1 │  0.00035611  2        100         beta        NegBinomial Quasi-Copul ⋯\n",
       "     2 │  0.00532037  2        100         beta        NegBinomial Quasi-Copul\n",
       "     3 │  0.00219161  2        100         beta        NegBinomial Quasi-Copul\n",
       "     4 │  0.0089616   2        100         beta        NegBinomial Quasi-Copul\n",
       "     5 │  0.0129683   2        100         beta        NegBinomial Quasi-Copul ⋯\n",
       "     6 │  0.00613062  2        100         beta        NegBinomial Quasi-Copul\n",
       "     7 │  0.00311786  2        100         beta        NegBinomial Quasi-Copul\n",
       "     8 │  0.00200265  2        100         beta        NegBinomial Quasi-Copul\n",
       "     9 │  0.0177487   2        100         beta        NegBinomial Quasi-Copul ⋯\n",
       "    10 │  0.00963192  2        100         beta        NegBinomial Quasi-Copul\n",
       "    11 │  0.00162028  2        100         beta        NegBinomial Quasi-Copul\n",
       "   ⋮   │      ⋮          ⋮         ⋮           ⋮                  ⋮            ⋱\n",
       " 10791 │ 58.6818      25       10000       r           NegBinomial GLMM\n",
       " 10792 │ 58.6086      25       10000       r           NegBinomial GLMM        ⋯\n",
       " 10793 │ 58.7857      25       10000       r           NegBinomial GLMM\n",
       " 10794 │ 58.7207      25       10000       r           NegBinomial GLMM\n",
       " 10795 │ 58.8476      25       10000       r           NegBinomial GLMM\n",
       " 10796 │ 58.618       25       10000       r           NegBinomial GLMM        ⋯\n",
       " 10797 │ 58.624       25       10000       r           NegBinomial GLMM\n",
       " 10798 │ 58.2779      25       10000       r           NegBinomial GLMM\n",
       " 10799 │ 58.4274      25       10000       r           NegBinomial GLMM\n",
       " 10800 │ 58.6503      25       10000       r           NegBinomial GLMM        ⋯\n",
       "\u001b[36m                                                 1 column and 10779 rows omitted\u001b[0m"
      ]
     },
     "execution_count": 12,
     "metadata": {},
     "output_type": "execute_result"
    }
   ],
   "source": [
    "#### \n",
    "#import data and reorganize to create figure\n",
    "using Random, DataFrames, DelimitedFiles, Statistics, RCall, Printf\n",
    "import StatsBase: sem\n",
    "\n",
    "βMseresultpoisson = vec(readdlm(\"mse_beta_multivariate_NB_vcm$(nsims)reps_sim.csv\", ','))\n",
    "ΣMseresultpoisson = vec(readdlm(\"mse_Sigma_multivariate_NB_vcm$(nsims)reps_sim.csv\", ','))\n",
    "rMseresultpoisson =  vec(readdlm(\"mse_r_multivariate_NB_vcm$(nsims)reps_sim.csv\", ','))\n",
    "\n",
    "βMseresultpoisson_GLMM = vec(readdlm(\"mse_beta_GLMM_multivariate_NB_vcm$(nsims)reps_sim.csv\", ','))\n",
    "ΣMseresultpoisson_GLMM = vec(readdlm(\"mse_Sigma_GLMM_multivariate_NB_vcm$(nsims)reps_sim.csv\", ','))\n",
    "rMseresultpoisson_GLMM =  vec(readdlm(\"mse_r_GLMMmultivariate_NB_vcm$(nsims)reps_sim.csv\", ','))\n",
    "\n",
    "\n",
    "p = 3; m = 1\n",
    "sample_sizes = repeat(string.(samplesizes), inner = nsims * length(ns))\n",
    "obs_sizes = repeat(string.(ns), inner = nsims, outer = length(samplesizes))\n",
    "msedf1 = DataFrame(βmse = βMseresultpoisson, Σmse = ΣMseresultpoisson, rmse = rMseresultpoisson,\n",
    "    samplesize = sample_sizes, obssize = obs_sizes)\n",
    "\n",
    "msedf2 = DataFrame(βmse = βMseresultpoisson_GLMM, Σmse = ΣMseresultpoisson_GLMM, rmse = rMseresultpoisson_GLMM,\n",
    "    samplesize = sample_sizes, obssize = obs_sizes)\n",
    "\n",
    "#rename to make parsing easier for R.\n",
    "\n",
    "msedf1 = deepcopy(msedf1)\n",
    "rename!(msedf1, [\"betamse\"\n",
    "    \"Sigmamse\"\n",
    "        \"rmse\"\n",
    "    \"samplesize\"\n",
    " \"obssize\"]);\n",
    "\n",
    "msedf2 = deepcopy(msedf2)\n",
    "rename!(msedf2, [\"betamse\"\n",
    "    \"Sigmamse\"\n",
    "        \"rmse\"\n",
    "    \"samplesize\"\n",
    " \"obssize\"]);\n",
    "\n",
    "mses = [msedf1[!, :betamse]; msedf1[!, :Sigmamse];msedf1[!, :rmse]; msedf2[!, :betamse]; msedf2[!, :Sigmamse]; msedf2[!, :rmse]]\n",
    "    # msedfnormR[!, :betamse]; msedfnormR[!, :taumse]; msedfnormR[!, :Sigmamse]]\n",
    "obssize = [collect([repeat(msedf1[!, :obssize], 3)]...) ; collect([repeat(msedf2[!, :obssize], 3)]...)]\n",
    "#40\n",
    "samplesize = [collect([repeat(msedf1[!, :samplesize], 3)]...) ; collect([repeat(msedf2[!, :samplesize], 3)]...)]\n",
    "\n",
    "parameters = [collect([repeat(string.([:beta, :Sigma, :r]), inner = nsims * length(ns) * length(samplesizes))]...) ; collect([repeat(string.([:beta, :Sigma, :r]), inner = nsims * length(ns) * length(samplesizes))]...)]\n",
    "robust = [collect([repeat([\"NegBinomial Quasi-Copula\"], 3 * nsims * length(ns) * length(samplesizes))]...); collect([repeat([\"NegBinomial GLMM\"],  3 * nsims * length(ns) * length(samplesizes))]...)]\n",
    "\n",
    "msedfR = DataFrame(mse = mses, obssize = obssize, samplesize = samplesize,\n",
    "    parameters = parameters, robust = robust)\n",
    "\n",
    "#5 of the 30,000 simulations did not converge, filter out\n",
    "msedfR = filter(x -> !isnan(x.mse), msedfR)\n",
    "# additionally, there are 5 where an error was not caught so it did not try a differnt solver\n",
    "msedfR = filter(x -> x.mse < 40000, msedfR)"
   ]
  },
  {
   "cell_type": "code",
   "execution_count": 13,
   "metadata": {},
   "outputs": [
    {
     "name": "stderr",
     "output_type": "stream",
     "text": [
      "┌ Warning: RCall.jl: Warning: package ‘scales’ was built under R version 4.0.2\n",
      "└ @ RCall /Users/sarahji/.julia/packages/RCall/iMDW2/src/io.jl:160\n",
      "┌ Warning: RCall.jl: Warning: package ‘data.table’ was built under R version 4.0.2\n",
      "└ @ RCall /Users/sarahji/.julia/packages/RCall/iMDW2/src/io.jl:160\n"
     ]
    },
    {
     "data": {
      "image/png": "[encoded data removed]"
     },
     "metadata": {},
     "output_type": "display_data"
    },
    {
     "data": {
      "text/plain": [
       "RObject{VecSxp}\n"
      ]
     },
     "execution_count": 13,
     "metadata": {},
     "output_type": "execute_result"
    }
   ],
   "source": [
    "### working on figure next\n",
    "@rput msedfR\n",
    "\n",
    "R\"\"\"\n",
    "library(scales)\n",
    "library(ggplot2)\n",
    "library(data.table)\n",
    "\n",
    "msedfR = data.table(msedfR)\n",
    "\n",
    "msedfR[parameters == \"beta\",y_min := 10^-4]\n",
    "msedfR[parameters == \"beta\",y_max := 10^0]\n",
    "msedfR[parameters == \"Sigma\",y_min := 10^-4]\n",
    "msedfR[parameters == \"Sigma\",y_max := 10^1]\n",
    "msedfR[parameters == \"r\", y_min := 10^-3]\n",
    "msedfR[parameters == \"r\", y_max := 10^3]\n",
    "\n",
    "#msedfR[parameters == \"beta\",y_min := 10^-8]\n",
    "#msedfR[parameters == \"beta\",y_max := 10^-2]\n",
    "#msedfR[parameters == \"tau\",y_min := 10^-8]\n",
    "#msedfR[parameters == \"tau\",y_max := 10^-2]\n",
    "#msedfR[parameters == \"Sigma\",y_min := 10^-5]\n",
    "#msedfR[parameters == \"Sigma\",y_max := 10^-2]\n",
    "\n",
    "\n",
    "msedfR$obssize = factor(msedfR$obssize, levels = c('2', '5', '10', '15', '20', '25'))\n",
    "msedfR$samplesize = factor(msedfR$samplesize, levels = c('100', '1000', '10000'))\n",
    "msedfR$parameters = factor(msedfR$parameters, levels = c('beta', 'Sigma', 'r'), labels = c(beta = expression(hat(bold(beta))), Sigma = expression(hat(bold(Sigma))[]), r = expression(hat(bold(r))[])))\n",
    "msedfR$robust <- factor(msedfR$robust, levels = c('NegBinomial Quasi-Copula', 'NegBinomial GLMM'),\n",
    "    labels = c(expression(paste(\"NegBinomial Quasi-Copula\")), expression(paste(\"NegBinomial GLMM\"))))\n",
    "\n",
    "\n",
    "#mseplot <- ggplot(msedfR[msedfR$mse < 10^0, ], aes(x=samplesize, y=mse, fill=obssize)) + \n",
    "mseplot = ggplot(msedfR[msedfR$mse < 10^3, ], aes(x=samplesize, y=mse, fill=obssize)) + \n",
    "  #geom_boxplot(outlier.size = 0.0, outlier.alpha = 0) +\n",
    "  geom_boxplot(outlier.size = 0.25) +\n",
    "#    geom_violin() +\n",
    "    facet_grid(parameters ~ robust, labeller = label_parsed, scales = \"free_y\") +\n",
    "  theme(legend.position=\"right\", legend.key = element_blank(), axis.text.x = element_text(angle=0, size=11),\n",
    "        axis.text.y = element_text(angle=0, size=12), axis.title.x = element_text(size = 15), \n",
    "        axis.title.y = element_text(size = 15), legend.title = element_text(size = 12),\n",
    "        panel.grid.major = element_blank(), panel.grid.minor = element_blank(),\n",
    "        legend.text=element_text(size=10), panel.background = element_rect(fill = NA, color = \"black\"),\n",
    "        #panel.background = element_blank(), #panel.border = element_blank(),\n",
    "        axis.line = element_line(color = 'black',size=0.3), plot.title = element_text(hjust = 0.5),\n",
    "        strip.background = element_rect(colour=\"black\", fill=\"white\"), strip.text.y = element_text(size=15, face=\"bold\"),\n",
    "        strip.text.x = element_text(size=15)) + \n",
    "  scale_fill_manual(values = c(\"#c85f55\",\n",
    "\"#a964bf\",\n",
    "\"#8db352\",\n",
    "\"#fa7300\",\n",
    "\"#05aec0\",\n",
    "\"#ff1493\")) +\n",
    "#scale_y_log10(breaks = scales::trans_breaks(\"log10\", function(x) 10^x)) +\n",
    "#scale_y_log10(breaks = 10^(-8:8), limit=c(10^-8, 10^2)) + \n",
    "scale_y_log10(breaks = 10^seq(-10, 10, 2), labels=trans_format(\"log10\", math_format(10^.x))) + #, limit=c(10^-8, 10^2)) +\n",
    "  labs(x = \"Number of Individuals\", y = \"MSE of Parameter Estimates\", fill = \"Obs per Individual\") +\n",
    "geom_blank(aes(y = y_max)) + \n",
    "geom_blank(aes(y = y_min)) \n",
    "\n",
    "\"\"\""
   ]
  },
  {
   "cell_type": "code",
   "execution_count": 14,
   "metadata": {},
   "outputs": [
    {
     "data": {
      "text/plain": [
       "RObject{StrSxp}\n",
       "[1] \"updated_msefacetplot_nb.png\"\n"
      ]
     },
     "execution_count": 14,
     "metadata": {},
     "output_type": "execute_result"
    }
   ],
   "source": [
    "R\"\"\"\n",
    "ggsave('updated_msefacetplot_nb.png', mseplot, width = 12.5, height = 15, units = 'in', dpi = 450)\n",
    "\"\"\""
   ]
  }
 ],
 "metadata": {
  "@webio": {
   "lastCommId": null,
   "lastKernelId": null
  },
  "kernelspec": {
   "display_name": "Julia 1.6.2",
   "language": "julia",
   "name": "julia-1.6"
  },
  "language_info": {
   "file_extension": ".jl",
   "mimetype": "application/julia",
   "name": "julia",
   "version": "1.6.2"
  }
 },
 "nbformat": 4,
 "nbformat_minor": 2
}
