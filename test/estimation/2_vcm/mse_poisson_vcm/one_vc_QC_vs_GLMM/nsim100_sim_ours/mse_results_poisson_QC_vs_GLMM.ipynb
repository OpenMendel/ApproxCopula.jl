{
 "cells": [
  {
   "cell_type": "markdown",
   "metadata": {},
   "source": [
    "## Poisson VCM Results \n",
    "\n",
    "This notebook goes over the code needed to reproduce the results from the MSE and time figures for the Poisson base distribution with Log Link and covariance matrix $\\Gamma$ structured under variance component model framework as follows:\n",
    "\n",
    "$$\n",
    "\\Gamma = \\sigma_1 * \\mathbf{1_{n} 1_{n}^\\top}\n",
    "$$\n",
    "\n",
    "In this example simulate three fixed effects under our Quasi-Copula model with $\\beta \\sim$ randn(p) where p = 3 fixed effects.\n",
    "\n",
    "We run each scenario 100 times and compare the fit of ours with that of GLMM's random intercept model from MixedModels.jl. "
   ]
  },
  {
   "cell_type": "code",
   "execution_count": 1,
   "metadata": {},
   "outputs": [
    {
     "name": "stdout",
     "output_type": "stream",
     "text": [
      "Julia Version 1.6.2\n",
      "Commit 1b93d53fc4 (2021-07-14 15:36 UTC)\n",
      "Platform Info:\n",
      "  OS: macOS (x86_64-apple-darwin18.7.0)\n",
      "  CPU: Intel(R) Core(TM) i9-9880H CPU @ 2.30GHz\n",
      "  WORD_SIZE: 64\n",
      "  LIBM: libopenlibm\n",
      "  LLVM: libLLVM-11.0.1 (ORCJIT, skylake)\n"
     ]
    }
   ],
   "source": [
    "versioninfo()"
   ]
  },
  {
   "cell_type": "code",
   "execution_count": 2,
   "metadata": {},
   "outputs": [],
   "source": [
    "using GLMCopula, DelimitedFiles, LinearAlgebra, Random, GLM\n",
    "using Random, Roots, SpecialFunctions, DataFrames"
   ]
  },
  {
   "cell_type": "code",
   "execution_count": 3,
   "metadata": {},
   "outputs": [
    {
     "data": {
      "text/plain": [
       "100"
      ]
     },
     "execution_count": 3,
     "metadata": {},
     "output_type": "execute_result"
    }
   ],
   "source": [
    "p = 3    # number of fixed effects, including intercept\n",
    "m = 1    # number of variance components\n",
    "# true parameter values\n",
    "Random.seed!(1234)\n",
    "βtrue = randn(p)\n",
    "θtrue = [0.1]\n",
    "\n",
    "# generate data\n",
    "intervals = zeros(p + m, 2) #hold intervals\n",
    "curcoverage = zeros(p + m) #hold current coverage resutls\n",
    "trueparams = [βtrue; θtrue] #hold true parameters\n",
    "\n",
    "#simulation parameters\n",
    "samplesizes = [100; 1000; 10000]\n",
    "ns = [2; 5; 10; 15; 20; 25]\n",
    "nsims = 100"
   ]
  },
  {
   "cell_type": "code",
   "execution_count": 4,
   "metadata": {},
   "outputs": [
    {
     "name": "stderr",
     "output_type": "stream",
     "text": [
      "┌ Info: reading in the files with results\n",
      "└ @ Main In[4]:1\n"
     ]
    },
    {
     "data": {
      "text/plain": [
       "1800-element Vector{Float64}:\n",
       " 0.381624727\n",
       " 0.028488374\n",
       " 0.047197252\n",
       " 0.049162649\n",
       " 0.048438886\n",
       " 0.175112496\n",
       " 0.116857637\n",
       " 0.071168101\n",
       " 0.039910006\n",
       " 0.048809408\n",
       " 0.034731893\n",
       " 0.029948179\n",
       " 0.04098523\n",
       " ⋮\n",
       " 5.097446934\n",
       " 8.192147097\n",
       " 5.438722393\n",
       " 7.761172033\n",
       " 2.527561421\n",
       " 2.582852654\n",
       " 5.227324318\n",
       " 4.795604234\n",
       " 4.889139787\n",
       " 4.844997857\n",
       " 5.156756777\n",
       " 4.596501301"
      ]
     },
     "execution_count": 4,
     "metadata": {},
     "output_type": "execute_result"
    }
   ],
   "source": [
    "@info \"reading in the files with results\"\n",
    "βMseresult = vec(readdlm(\"mse_beta_multivariate_poisson_vcm$(nsims)reps_sim.csv\", ','))\n",
    "θMseresult = vec(readdlm(\"mse_Sigma_multivariate_poisson_vcm$(nsims)reps_sim.csv\", ','))\n",
    "fittimes_QC = vec(readdlm(\"fittimes_multivariate_poisson_vcm$(nsims)reps_sim.csv\", ','))"
   ]
  },
  {
   "cell_type": "code",
   "execution_count": 5,
   "metadata": {},
   "outputs": [
    {
     "data": {
      "text/plain": [
       "1800-element Vector{Float64}:\n",
       "  1.150792242\n",
       "  0.016182608\n",
       "  0.02000521\n",
       "  0.013927886\n",
       "  0.103583723\n",
       "  0.080373596\n",
       "  0.097864181\n",
       "  0.022097177\n",
       "  0.021616034\n",
       "  0.019844871\n",
       "  0.019558877\n",
       "  0.01628529\n",
       "  0.021517576\n",
       "  ⋮\n",
       " 36.243751655\n",
       " 32.358397352\n",
       " 25.883297001\n",
       " 19.554655927\n",
       " 30.573868607\n",
       " 26.647446685\n",
       " 20.915511301\n",
       " 23.943069115\n",
       " 28.757959199\n",
       " 26.866225772\n",
       " 32.448440327\n",
       " 26.431127288"
      ]
     },
     "execution_count": 5,
     "metadata": {},
     "output_type": "execute_result"
    }
   ],
   "source": [
    "fittimes_GLMM = vec(readdlm(\"fittimes_GLMM_multivariate_poisson_vcm$(nsims)reps_sim.csv\", ','))"
   ]
  },
  {
   "cell_type": "code",
   "execution_count": 6,
   "metadata": {},
   "outputs": [
    {
     "name": "stderr",
     "output_type": "stream",
     "text": [
      "┌ Info: making results table Quasi-Copula\n",
      "└ @ Main In[6]:2\n"
     ]
    },
    {
     "data": {
      "text/html": [
       "<div class=\"data-frame\"><p>18 rows × 8 columns</p><table class=\"data-frame\"><thead><tr><th></th><th>samplesize</th><th>obssize</th><th>fittime</th><th>se</th><th>nobs</th><th>fitmin</th><th>fitmax</th><th>perobsratio</th></tr><tr><th></th><th title=\"String\">String</th><th title=\"String\">String</th><th title=\"Float64\">Float64</th><th title=\"Float64\">Float64</th><th title=\"Int64\">Int64</th><th title=\"Float64\">Float64</th><th title=\"Float64\">Float64</th><th title=\"Float64\">Float64</th></tr></thead><tbody><tr><th>1</th><td>100</td><td>2</td><td>0.0519824</td><td>0.00405631</td><td>200</td><td>0.0479261</td><td>0.060095</td><td>0.000259912</td></tr><tr><th>2</th><td>100</td><td>5</td><td>0.047905</td><td>0.00221563</td><td>500</td><td>0.0456894</td><td>0.0523363</td><td>9.58101e-5</td></tr><tr><th>3</th><td>100</td><td>10</td><td>0.0495373</td><td>0.00263116</td><td>1000</td><td>0.0469062</td><td>0.0547996</td><td>4.95373e-5</td></tr><tr><th>4</th><td>100</td><td>15</td><td>0.0610804</td><td>0.00379343</td><td>1500</td><td>0.0572869</td><td>0.0686672</td><td>4.07202e-5</td></tr><tr><th>5</th><td>100</td><td>20</td><td>0.0634538</td><td>0.00258593</td><td>2000</td><td>0.0608679</td><td>0.0686257</td><td>3.17269e-5</td></tr><tr><th>6</th><td>100</td><td>25</td><td>0.0740839</td><td>0.00301512</td><td>2500</td><td>0.0710688</td><td>0.0801141</td><td>2.96336e-5</td></tr><tr><th>7</th><td>1000</td><td>2</td><td>0.0834177</td><td>0.00178702</td><td>2000</td><td>0.0816307</td><td>0.0869917</td><td>4.17088e-5</td></tr><tr><th>8</th><td>1000</td><td>5</td><td>0.110894</td><td>0.00184147</td><td>5000</td><td>0.109052</td><td>0.114577</td><td>2.21788e-5</td></tr><tr><th>9</th><td>1000</td><td>10</td><td>0.175194</td><td>0.0024113</td><td>10000</td><td>0.172782</td><td>0.180016</td><td>1.75194e-5</td></tr><tr><th>10</th><td>1000</td><td>15</td><td>0.232736</td><td>0.0030771</td><td>15000</td><td>0.229659</td><td>0.23889</td><td>1.55157e-5</td></tr><tr><th>11</th><td>1000</td><td>20</td><td>0.296484</td><td>0.00361407</td><td>20000</td><td>0.29287</td><td>0.303712</td><td>1.48242e-5</td></tr><tr><th>12</th><td>1000</td><td>25</td><td>0.38039</td><td>0.00451113</td><td>25000</td><td>0.375879</td><td>0.389412</td><td>1.52156e-5</td></tr><tr><th>13</th><td>10000</td><td>2</td><td>1.02689</td><td>0.0265035</td><td>20000</td><td>1.00039</td><td>1.0799</td><td>5.13446e-5</td></tr><tr><th>14</th><td>10000</td><td>5</td><td>1.59383</td><td>0.0500799</td><td>50000</td><td>1.54375</td><td>1.69399</td><td>3.18765e-5</td></tr><tr><th>15</th><td>10000</td><td>10</td><td>2.5292</td><td>0.0819925</td><td>100000</td><td>2.44721</td><td>2.69319</td><td>2.5292e-5</td></tr><tr><th>16</th><td>10000</td><td>15</td><td>3.44744</td><td>0.107649</td><td>150000</td><td>3.33979</td><td>3.66274</td><td>2.29829e-5</td></tr><tr><th>17</th><td>10000</td><td>20</td><td>4.50073</td><td>0.16522</td><td>200000</td><td>4.33551</td><td>4.83117</td><td>2.25036e-5</td></tr><tr><th>18</th><td>10000</td><td>25</td><td>5.10422</td><td>0.136752</td><td>250000</td><td>4.96747</td><td>5.37772</td><td>2.04169e-5</td></tr></tbody></table></div>"
      ],
      "text/latex": [
       "\\begin{tabular}{r|cccccccc}\n",
       "\t& samplesize & obssize & fittime & se & nobs & fitmin & fitmax & perobsratio\\\\\n",
       "\t\\hline\n",
       "\t& String & String & Float64 & Float64 & Int64 & Float64 & Float64 & Float64\\\\\n",
       "\t\\hline\n",
       "\t1 & 100 & 2 & 0.0519824 & 0.00405631 & 200 & 0.0479261 & 0.060095 & 0.000259912 \\\\\n",
       "\t2 & 100 & 5 & 0.047905 & 0.00221563 & 500 & 0.0456894 & 0.0523363 & 9.58101e-5 \\\\\n",
       "\t3 & 100 & 10 & 0.0495373 & 0.00263116 & 1000 & 0.0469062 & 0.0547996 & 4.95373e-5 \\\\\n",
       "\t4 & 100 & 15 & 0.0610804 & 0.00379343 & 1500 & 0.0572869 & 0.0686672 & 4.07202e-5 \\\\\n",
       "\t5 & 100 & 20 & 0.0634538 & 0.00258593 & 2000 & 0.0608679 & 0.0686257 & 3.17269e-5 \\\\\n",
       "\t6 & 100 & 25 & 0.0740839 & 0.00301512 & 2500 & 0.0710688 & 0.0801141 & 2.96336e-5 \\\\\n",
       "\t7 & 1000 & 2 & 0.0834177 & 0.00178702 & 2000 & 0.0816307 & 0.0869917 & 4.17088e-5 \\\\\n",
       "\t8 & 1000 & 5 & 0.110894 & 0.00184147 & 5000 & 0.109052 & 0.114577 & 2.21788e-5 \\\\\n",
       "\t9 & 1000 & 10 & 0.175194 & 0.0024113 & 10000 & 0.172782 & 0.180016 & 1.75194e-5 \\\\\n",
       "\t10 & 1000 & 15 & 0.232736 & 0.0030771 & 15000 & 0.229659 & 0.23889 & 1.55157e-5 \\\\\n",
       "\t11 & 1000 & 20 & 0.296484 & 0.00361407 & 20000 & 0.29287 & 0.303712 & 1.48242e-5 \\\\\n",
       "\t12 & 1000 & 25 & 0.38039 & 0.00451113 & 25000 & 0.375879 & 0.389412 & 1.52156e-5 \\\\\n",
       "\t13 & 10000 & 2 & 1.02689 & 0.0265035 & 20000 & 1.00039 & 1.0799 & 5.13446e-5 \\\\\n",
       "\t14 & 10000 & 5 & 1.59383 & 0.0500799 & 50000 & 1.54375 & 1.69399 & 3.18765e-5 \\\\\n",
       "\t15 & 10000 & 10 & 2.5292 & 0.0819925 & 100000 & 2.44721 & 2.69319 & 2.5292e-5 \\\\\n",
       "\t16 & 10000 & 15 & 3.44744 & 0.107649 & 150000 & 3.33979 & 3.66274 & 2.29829e-5 \\\\\n",
       "\t17 & 10000 & 20 & 4.50073 & 0.16522 & 200000 & 4.33551 & 4.83117 & 2.25036e-5 \\\\\n",
       "\t18 & 10000 & 25 & 5.10422 & 0.136752 & 250000 & 4.96747 & 5.37772 & 2.04169e-5 \\\\\n",
       "\\end{tabular}\n"
      ],
      "text/plain": [
       "\u001b[1m18×8 DataFrame\u001b[0m\n",
       "\u001b[1m Row \u001b[0m│\u001b[1m samplesize \u001b[0m\u001b[1m obssize \u001b[0m\u001b[1m fittime   \u001b[0m\u001b[1m se         \u001b[0m\u001b[1m nobs   \u001b[0m\u001b[1m fitmin    \u001b[0m\u001b[1m fitmax  \u001b[0m ⋯\n",
       "\u001b[1m     \u001b[0m│\u001b[90m String     \u001b[0m\u001b[90m String  \u001b[0m\u001b[90m Float64   \u001b[0m\u001b[90m Float64    \u001b[0m\u001b[90m Int64  \u001b[0m\u001b[90m Float64   \u001b[0m\u001b[90m Float64 \u001b[0m ⋯\n",
       "─────┼──────────────────────────────────────────────────────────────────────────\n",
       "   1 │ 100         2        0.0519824  0.00405631     200  0.0479261  0.060095 ⋯\n",
       "   2 │ 100         5        0.047905   0.00221563     500  0.0456894  0.052336\n",
       "   3 │ 100         10       0.0495373  0.00263116    1000  0.0469062  0.054799\n",
       "   4 │ 100         15       0.0610804  0.00379343    1500  0.0572869  0.068667\n",
       "   5 │ 100         20       0.0634538  0.00258593    2000  0.0608679  0.068625 ⋯\n",
       "   6 │ 100         25       0.0740839  0.00301512    2500  0.0710688  0.080114\n",
       "   7 │ 1000        2        0.0834177  0.00178702    2000  0.0816307  0.086991\n",
       "   8 │ 1000        5        0.110894   0.00184147    5000  0.109052   0.114577\n",
       "   9 │ 1000        10       0.175194   0.0024113    10000  0.172782   0.180016 ⋯\n",
       "  10 │ 1000        15       0.232736   0.0030771    15000  0.229659   0.23889\n",
       "  11 │ 1000        20       0.296484   0.00361407   20000  0.29287    0.303712\n",
       "  12 │ 1000        25       0.38039    0.00451113   25000  0.375879   0.389412\n",
       "  13 │ 10000       2        1.02689    0.0265035    20000  1.00039    1.0799   ⋯\n",
       "  14 │ 10000       5        1.59383    0.0500799    50000  1.54375    1.69399\n",
       "  15 │ 10000       10       2.5292     0.0819925   100000  2.44721    2.69319\n",
       "  16 │ 10000       15       3.44744    0.107649    150000  3.33979    3.66274\n",
       "  17 │ 10000       20       4.50073    0.16522     200000  4.33551    4.83117  ⋯\n",
       "  18 │ 10000       25       5.10422    0.136752    250000  4.96747    5.37772\n",
       "\u001b[36m                                                               2 columns omitted\u001b[0m"
      ]
     },
     "execution_count": 6,
     "metadata": {},
     "output_type": "execute_result"
    }
   ],
   "source": [
    "#simulation parameters\n",
    "@info \"making results table Quasi-Copula\"\n",
    "sample_sizes = repeat(string.(samplesizes), inner = nsims * length(ns))\n",
    "obs_sizes = repeat(string.(ns), inner = nsims, outer = length(samplesizes))\n",
    "\n",
    "msedf = DataFrame(samplesize = sample_sizes, obssize = obs_sizes, fittimes = fittimes_QC)\n",
    "timedf1 = combine(groupby(msedf, [:samplesize, :obssize]), :fittimes => mean => :fittime,\n",
    "    :fittimes => x -> (std(x)/sqrt(length(x))))\n",
    "rename!(timedf1, Dict(:fittimes_function => \"se\"))\n",
    "timedf1[!, :nobs] = Meta.parse.(timedf1[!, :samplesize]) .* Meta.parse.(timedf1[!, :obssize])\n",
    "timedf1[!, :fitmin] = timedf1[!, :fittime] - timedf1[!, :se]\n",
    "timedf1[!, :fitmax] = timedf1[!, :fittime] + 2 * timedf1[!, :se]\n",
    "timedf1[!, :perobsratio] = timedf1[!, :fittime] ./ timedf1[!, :nobs]\n",
    "timedf1"
   ]
  },
  {
   "cell_type": "code",
   "execution_count": 7,
   "metadata": {},
   "outputs": [
    {
     "name": "stderr",
     "output_type": "stream",
     "text": [
      "┌ Info: making results table GLMM\n",
      "└ @ Main In[7]:2\n"
     ]
    },
    {
     "data": {
      "text/html": [
       "<div class=\"data-frame\"><p>18 rows × 8 columns</p><table class=\"data-frame\"><thead><tr><th></th><th>samplesize</th><th>obssize</th><th>fittime</th><th>se</th><th>nobs</th><th>fitmin</th><th>fitmax</th><th>perobsratio</th></tr><tr><th></th><th title=\"String\">String</th><th title=\"String\">String</th><th title=\"Float64\">Float64</th><th title=\"Float64\">Float64</th><th title=\"Int64\">Int64</th><th title=\"Float64\">Float64</th><th title=\"Float64\">Float64</th><th title=\"Float64\">Float64</th></tr></thead><tbody><tr><th>1</th><td>100</td><td>2</td><td>0.0338209</td><td>0.0114031</td><td>200</td><td>0.0224178</td><td>0.045224</td><td>0.000169105</td></tr><tr><th>2</th><td>100</td><td>5</td><td>0.0381634</td><td>0.00207525</td><td>500</td><td>0.0360882</td><td>0.0402387</td><td>7.63268e-5</td></tr><tr><th>3</th><td>100</td><td>10</td><td>0.071918</td><td>0.00402621</td><td>1000</td><td>0.0678918</td><td>0.0759443</td><td>7.1918e-5</td></tr><tr><th>4</th><td>100</td><td>15</td><td>0.105141</td><td>0.0060621</td><td>1500</td><td>0.0990788</td><td>0.111203</td><td>7.00939e-5</td></tr><tr><th>5</th><td>100</td><td>20</td><td>0.129065</td><td>0.00166439</td><td>2000</td><td>0.127401</td><td>0.130729</td><td>6.45325e-5</td></tr><tr><th>6</th><td>100</td><td>25</td><td>0.160142</td><td>0.00298279</td><td>2500</td><td>0.157159</td><td>0.163125</td><td>6.40569e-5</td></tr><tr><th>7</th><td>1000</td><td>2</td><td>NaN</td><td>NaN</td><td>2000</td><td>NaN</td><td>NaN</td><td>NaN</td></tr><tr><th>8</th><td>1000</td><td>5</td><td>0.412582</td><td>0.00416287</td><td>5000</td><td>0.408419</td><td>0.416745</td><td>8.25164e-5</td></tr><tr><th>9</th><td>1000</td><td>10</td><td>0.737553</td><td>0.00716095</td><td>10000</td><td>0.730392</td><td>0.744714</td><td>7.37553e-5</td></tr><tr><th>10</th><td>1000</td><td>15</td><td>1.04671</td><td>0.00772599</td><td>15000</td><td>1.03899</td><td>1.05444</td><td>6.97809e-5</td></tr><tr><th>11</th><td>1000</td><td>20</td><td>1.34385</td><td>0.00876394</td><td>20000</td><td>1.33509</td><td>1.35261</td><td>6.71925e-5</td></tr><tr><th>12</th><td>1000</td><td>25</td><td>1.67169</td><td>0.00957163</td><td>25000</td><td>1.66211</td><td>1.68126</td><td>6.68675e-5</td></tr><tr><th>13</th><td>10000</td><td>2</td><td>1.85732</td><td>0.0234085</td><td>20000</td><td>1.83391</td><td>1.88073</td><td>9.28661e-5</td></tr><tr><th>14</th><td>10000</td><td>5</td><td>3.87772</td><td>0.0340391</td><td>50000</td><td>3.84368</td><td>3.91176</td><td>7.75543e-5</td></tr><tr><th>15</th><td>10000</td><td>10</td><td>7.58042</td><td>0.208295</td><td>100000</td><td>7.37212</td><td>7.78871</td><td>7.58042e-5</td></tr><tr><th>16</th><td>10000</td><td>15</td><td>15.6181</td><td>0.286051</td><td>150000</td><td>15.3321</td><td>15.9042</td><td>0.000104121</td></tr><tr><th>17</th><td>10000</td><td>20</td><td>20.0555</td><td>0.40908</td><td>200000</td><td>19.6464</td><td>20.4645</td><td>0.000100277</td></tr><tr><th>18</th><td>10000</td><td>25</td><td>25.4808</td><td>0.482207</td><td>250000</td><td>24.9986</td><td>25.963</td><td>0.000101923</td></tr></tbody></table></div>"
      ],
      "text/latex": [
       "\\begin{tabular}{r|cccccccc}\n",
       "\t& samplesize & obssize & fittime & se & nobs & fitmin & fitmax & perobsratio\\\\\n",
       "\t\\hline\n",
       "\t& String & String & Float64 & Float64 & Int64 & Float64 & Float64 & Float64\\\\\n",
       "\t\\hline\n",
       "\t1 & 100 & 2 & 0.0338209 & 0.0114031 & 200 & 0.0224178 & 0.045224 & 0.000169105 \\\\\n",
       "\t2 & 100 & 5 & 0.0381634 & 0.00207525 & 500 & 0.0360882 & 0.0402387 & 7.63268e-5 \\\\\n",
       "\t3 & 100 & 10 & 0.071918 & 0.00402621 & 1000 & 0.0678918 & 0.0759443 & 7.1918e-5 \\\\\n",
       "\t4 & 100 & 15 & 0.105141 & 0.0060621 & 1500 & 0.0990788 & 0.111203 & 7.00939e-5 \\\\\n",
       "\t5 & 100 & 20 & 0.129065 & 0.00166439 & 2000 & 0.127401 & 0.130729 & 6.45325e-5 \\\\\n",
       "\t6 & 100 & 25 & 0.160142 & 0.00298279 & 2500 & 0.157159 & 0.163125 & 6.40569e-5 \\\\\n",
       "\t7 & 1000 & 2 & NaN & NaN & 2000 & NaN & NaN & NaN \\\\\n",
       "\t8 & 1000 & 5 & 0.412582 & 0.00416287 & 5000 & 0.408419 & 0.416745 & 8.25164e-5 \\\\\n",
       "\t9 & 1000 & 10 & 0.737553 & 0.00716095 & 10000 & 0.730392 & 0.744714 & 7.37553e-5 \\\\\n",
       "\t10 & 1000 & 15 & 1.04671 & 0.00772599 & 15000 & 1.03899 & 1.05444 & 6.97809e-5 \\\\\n",
       "\t11 & 1000 & 20 & 1.34385 & 0.00876394 & 20000 & 1.33509 & 1.35261 & 6.71925e-5 \\\\\n",
       "\t12 & 1000 & 25 & 1.67169 & 0.00957163 & 25000 & 1.66211 & 1.68126 & 6.68675e-5 \\\\\n",
       "\t13 & 10000 & 2 & 1.85732 & 0.0234085 & 20000 & 1.83391 & 1.88073 & 9.28661e-5 \\\\\n",
       "\t14 & 10000 & 5 & 3.87772 & 0.0340391 & 50000 & 3.84368 & 3.91176 & 7.75543e-5 \\\\\n",
       "\t15 & 10000 & 10 & 7.58042 & 0.208295 & 100000 & 7.37212 & 7.78871 & 7.58042e-5 \\\\\n",
       "\t16 & 10000 & 15 & 15.6181 & 0.286051 & 150000 & 15.3321 & 15.9042 & 0.000104121 \\\\\n",
       "\t17 & 10000 & 20 & 20.0555 & 0.40908 & 200000 & 19.6464 & 20.4645 & 0.000100277 \\\\\n",
       "\t18 & 10000 & 25 & 25.4808 & 0.482207 & 250000 & 24.9986 & 25.963 & 0.000101923 \\\\\n",
       "\\end{tabular}\n"
      ],
      "text/plain": [
       "\u001b[1m18×8 DataFrame\u001b[0m\n",
       "\u001b[1m Row \u001b[0m│\u001b[1m samplesize \u001b[0m\u001b[1m obssize \u001b[0m\u001b[1m fittime     \u001b[0m\u001b[1m se           \u001b[0m\u001b[1m nobs   \u001b[0m\u001b[1m fitmin      \u001b[0m\u001b[1m fi\u001b[0m ⋯\n",
       "\u001b[1m     \u001b[0m│\u001b[90m String     \u001b[0m\u001b[90m String  \u001b[0m\u001b[90m Float64     \u001b[0m\u001b[90m Float64      \u001b[0m\u001b[90m Int64  \u001b[0m\u001b[90m Float64     \u001b[0m\u001b[90m Fl\u001b[0m ⋯\n",
       "─────┼──────────────────────────────────────────────────────────────────────────\n",
       "   1 │ 100         2          0.0338209    0.0114031      200    0.0224178     ⋯\n",
       "   2 │ 100         5          0.0381634    0.00207525     500    0.0360882\n",
       "   3 │ 100         10         0.071918     0.00402621    1000    0.0678918\n",
       "   4 │ 100         15         0.105141     0.0060621     1500    0.0990788\n",
       "   5 │ 100         20         0.129065     0.00166439    2000    0.127401      ⋯\n",
       "   6 │ 100         25         0.160142     0.00298279    2500    0.157159\n",
       "   7 │ 1000        2        NaN          NaN             2000  NaN          Na\n",
       "   8 │ 1000        5          0.412582     0.00416287    5000    0.408419\n",
       "   9 │ 1000        10         0.737553     0.00716095   10000    0.730392      ⋯\n",
       "  10 │ 1000        15         1.04671      0.00772599   15000    1.03899\n",
       "  11 │ 1000        20         1.34385      0.00876394   20000    1.33509\n",
       "  12 │ 1000        25         1.67169      0.00957163   25000    1.66211\n",
       "  13 │ 10000       2          1.85732      0.0234085    20000    1.83391       ⋯\n",
       "  14 │ 10000       5          3.87772      0.0340391    50000    3.84368\n",
       "  15 │ 10000       10         7.58042      0.208295    100000    7.37212\n",
       "  16 │ 10000       15        15.6181       0.286051    150000   15.3321      1\n",
       "  17 │ 10000       20        20.0555       0.40908     200000   19.6464      2 ⋯\n",
       "  18 │ 10000       25        25.4808       0.482207    250000   24.9986      2\n",
       "\u001b[36m                                                               2 columns omitted\u001b[0m"
      ]
     },
     "execution_count": 7,
     "metadata": {},
     "output_type": "execute_result"
    }
   ],
   "source": [
    "#simulation parameters\n",
    "@info \"making results table GLMM\"\n",
    "sample_sizes = repeat(string.(samplesizes), inner = nsims * length(ns))\n",
    "obs_sizes = repeat(string.(ns), inner = nsims, outer = length(samplesizes))\n",
    "\n",
    "msedf = DataFrame(samplesize = sample_sizes, obssize = obs_sizes, fittimes = fittimes_GLMM)\n",
    "timedf2 = combine(groupby(msedf, [:samplesize, :obssize]), :fittimes => mean => :fittime,\n",
    "    :fittimes => x -> (std(x)/sqrt(length(x))))\n",
    "rename!(timedf2, Dict(:fittimes_function => \"se\"))\n",
    "timedf2[!, :nobs] = Meta.parse.(timedf2[!, :samplesize]) .* Meta.parse.(timedf2[!, :obssize])\n",
    "timedf2[!, :fitmin] = timedf2[!, :fittime] - timedf2[!, :se]\n",
    "timedf2[!, :fitmax] = timedf2[!, :fittime] + timedf2[!, :se]\n",
    "timedf2[!, :perobsratio] = timedf2[!, :fittime] ./ timedf2[!, :nobs]\n",
    "timedf2"
   ]
  },
  {
   "cell_type": "code",
   "execution_count": null,
   "metadata": {},
   "outputs": [],
   "source": [
    "########### plot the runtimes\n",
    "using RCall\n",
    "@rput timedf1\n",
    "@rput timedf2\n",
    "R\"\"\"\n",
    "library(ggplot2)\n",
    "library(cowplot)\n",
    "timedf1$obssize = factor(timedf1$obssize, levels = c('2', '5', '10', '15', '20', '25'))\n",
    "timedf1$samplesize = factor(timedf1$samplesize, levels = c('100', '1000', '10000'))\n",
    "\n",
    "fittime_1 = ggplot(timedf1, aes(x = samplesize, y = fittime, group = obssize, color = obssize)) + \n",
    "  geom_line() +\n",
    "  geom_point()+\n",
    "  geom_errorbar(aes(ymin=fitmin, ymax=fitmax), width=0.5, alpha = 0.8, position=position_dodge(0.005)) + \n",
    "  theme(legend.position=c(0.3,0.85), legend.key = element_blank(), axis.text.x = element_text(angle=0, size=13),\n",
    "        axis.text.y = element_text(angle=0, size=13), axis.title.x = element_text(size = 17), \n",
    "        axis.title.y = element_text(size = 17), legend.title = element_text(size = 14),\n",
    "        #axis.ticks = element_blank(),\n",
    "        panel.grid.major = element_blank(), legend.text=element_text(size=13),\n",
    "        panel.border = element_blank(), panel.grid.minor = element_blank(), panel.background = element_blank(), \n",
    "        axis.line = element_line(color = 'black',size=0.3), plot.title = element_text(hjust = 0.5)) + \n",
    "   scale_color_manual(values = c(\"#c85f55\",\n",
    "\"#a964bf\",\n",
    "\"#8db352\",\n",
    "\"#fa7300\",\n",
    "\"#05aec0\",\n",
    "\"#ff1493\")) +\n",
    "  labs(x = \"Number of Individuals\", y = \"Fit time (seconds)\", color = \"Obs per Individual\")\n",
    "\n",
    "timedf2$obssize = factor(timedf2$obssize, levels = c('2', '5', '10', '15', '20', '25'))\n",
    "timedf2$samplesize = factor(timedf2$samplesize, levels = c('100', '1000', '10000'))\n",
    "\n",
    "fittime_2 = ggplot(timedf2, aes(x = samplesize, y = fittime, group = obssize, color = obssize)) + \n",
    "  geom_line() +\n",
    "  geom_point()+\n",
    "  geom_errorbar(aes(ymin=fitmin, ymax=fitmax), width=0.5, alpha = 0.8, position=position_dodge(0.005)) + \n",
    "  theme(legend.position=c(0.3,0.85), legend.key = element_blank(), axis.text.x = element_text(angle=0, size=13),\n",
    "        axis.text.y = element_text(angle=0, size=13), axis.title.x = element_text(size = 17), \n",
    "        axis.title.y = element_text(size = 17), legend.title = element_text(size = 14),\n",
    "        #axis.ticks = element_blank(),\n",
    "        panel.grid.major = element_blank(), legend.text=element_text(size=13),\n",
    "        panel.border = element_blank(), panel.grid.minor = element_blank(), panel.background = element_blank(), \n",
    "        axis.line = element_line(color = 'black',size=0.3), plot.title = element_text(hjust = 0.5)) + \n",
    "   scale_color_manual(values = c(\"#c85f55\",\n",
    "\"#a964bf\",\n",
    "\"#8db352\",\n",
    "\"#fa7300\",\n",
    "\"#05aec0\",\n",
    "\"#ff1493\")) +\n",
    "  labs(x = \"Number of Individuals\", y = \"Fit time (seconds)\", color = \"Obs per Individual\")\n",
    "\n",
    "fittime_nsamples = plot_grid(fittime_1, fittime_2, labels = c(\"Quasi-Copula\", \"GLMM\"))\n",
    "\"\"\""
   ]
  },
  {
   "cell_type": "code",
   "execution_count": null,
   "metadata": {},
   "outputs": [],
   "source": [
    "R\"\"\"\n",
    "ggsave('fittime_nsamples_poisson_vs_glmm.png', fittime_nsamples, width = 15, height = 17, units = 'in', dpi = 450)\n",
    "\"\"\""
   ]
  },
  {
   "cell_type": "code",
   "execution_count": null,
   "metadata": {},
   "outputs": [],
   "source": [
    "######  supplementary table s1\n",
    "using Random, DataFrames, DelimitedFiles, Statistics\n",
    "import StatsBase: sem\n",
    "\n",
    "βθcoverage = readdlm(\"beta_sigma_coverage_multivariate_poisson_vcm$(nsims)reps_sim.csv\", ',')\n",
    "\n",
    "m  = 1\n",
    "\n",
    "covdf = DataFrame(Matrix(transpose(βθcoverage)), :auto)\n",
    "rename!(covdf, Symbol.([[\"β$i\" for i in 1:p]; [\"θ$i\" for i in 1:m]]))\n",
    "covdf[!, :samplesize] = sample_sizes\n",
    "covdf[!, :obssize] = obs_sizes\n",
    "first(covdf, 10)\n",
    "\n",
    "row_stats = [[(mean(col), sem(col)) for col = eachcol(d[!, 1:end-2])] for d = groupby(covdf, [:samplesize; :obssize])]\n",
    "df = DataFrame(row_stats, :auto)\n",
    "ss_obs = unique(\"N: \" .* sample_sizes .* \"  ni: \" .* obs_sizes)\n",
    "rename!(df, Symbol.(ss_obs))\n",
    "covdfdisplay = DataFrame([[names(df)]; collect.(eachrow(df))], \n",
    "    [:people_obs; Symbol.([[\"β$i\" for i in 1:p]; [\"θ$i\" for i in 1:m]])])\n",
    "# deletecols!(covdfdisplay, p + 2)\n",
    "covdfdisplay\n"
   ]
  },
  {
   "cell_type": "code",
   "execution_count": null,
   "metadata": {},
   "outputs": [],
   "source": [
    "#### \n",
    "#import data and reorganize to create figure\n",
    "using Random, DataFrames, DelimitedFiles, Statistics, RCall, Printf\n",
    "import StatsBase: sem\n",
    "\n",
    "βMseresult = vec(readdlm(\"mse_beta_multivariate_poisson_vcm$(nsims)reps_sim.csv\", ','))\n",
    "θMseresult = vec(readdlm(\"mse_Sigma_multivariate_poisson_vcm$(nsims)reps_sim.csv\", ','))\n",
    "\n",
    "βMseresult_GLMM = vec(readdlm(\"mse_beta_GLMM_multivariate_poisson_vcm$(nsims)reps_sim.csv\", ','))\n",
    "θMseresult_GLMM = vec(readdlm(\"mse_Sigma_GLMM_multivariate_poisson_vcm$(nsims)reps_sim.csv\", ','))\n",
    "\n",
    "\n",
    "p = 3; m = 1\n",
    "sample_sizes = repeat(string.(samplesizes), inner = nsims * length(ns))\n",
    "obs_sizes = repeat(string.(ns), inner = nsims, outer = length(samplesizes))\n",
    "msedf1 = DataFrame(βmse = βMseresult, thetamse = θMseresult, \n",
    "    samplesize = sample_sizes, obssize = obs_sizes)\n",
    "\n",
    "msedf2 = DataFrame(βmse = βMseresult_GLMM, thetamse = θMseresult_GLMM, \n",
    "    samplesize = sample_sizes, obssize = obs_sizes)\n",
    "\n",
    "#rename to make parsing easier for R.\n",
    "\n",
    "msedf1 = deepcopy(msedf1)\n",
    "rename!(msedf1, [\"betamse\"\n",
    "    \"thetamse\"\n",
    "    \"samplesize\"\n",
    " \"obssize\"]);\n",
    "\n",
    "msedf2 = deepcopy(msedf2)\n",
    "rename!(msedf2, [\"betamse\"\n",
    "    \"thetamse\"\n",
    "    \"samplesize\"\n",
    " \"obssize\"]);\n",
    "\n",
    "mses = [msedf1[!, :betamse]; msedf1[!, :thetamse]; msedf2[!, :betamse]; msedf2[!, :thetamse]]\n",
    "    # msedfnormR[!, :betamse]; msedfnormR[!, :taumse]; msedfnormR[!, :Sigmamse]]\n",
    "obssize = [collect([repeat(msedf1[!, :obssize], 2)]...) ; collect([repeat(msedf2[!, :obssize], 2)]...)]\n",
    "#40\n",
    "samplesize = [collect([repeat(msedf1[!, :samplesize], 2)]...) ; collect([repeat(msedf2[!, :samplesize], 2)]...)]\n",
    "\n",
    "parameters = [collect([repeat(string.([:beta, :theta]), inner = nsims * length(ns) * length(samplesizes))]...) ; collect([repeat(string.([:beta, :theta]), inner = nsims * length(ns) * length(samplesizes))]...)]\n",
    "robust = [collect([repeat([\"Poisson Quasi-Copula\"], 2 * nsims * length(ns) * length(samplesizes))]...); collect([repeat([\"Poisson GLMM\"],  2 * nsims * length(ns) * length(samplesizes))]...)]\n",
    "\n",
    "msedfR = DataFrame(mse = mses, obssize = obssize, samplesize = samplesize,\n",
    "    parameters = parameters, robust = robust)\n",
    "\n",
    "#5 of the 30,000 simulations did not converge, filter out\n",
    "msedfR = filter(x -> !isnan(x.mse), msedfR)\n",
    "# additionally, there are 5 where an error was not caught so it did not try a differnt solver\n",
    "msedfR = filter(x -> x.mse < 40000, msedfR)"
   ]
  },
  {
   "cell_type": "code",
   "execution_count": null,
   "metadata": {},
   "outputs": [],
   "source": [
    "### working on figure next\n",
    "@rput msedfR\n",
    "\n",
    "R\"\"\"\n",
    "library(scales)\n",
    "library(ggplot2)\n",
    "library(data.table)\n",
    "\n",
    "msedfR = data.table(msedfR)\n",
    "\n",
    "msedfR[parameters == \"beta\",y_min := 10^-4]\n",
    "msedfR[parameters == \"beta\",y_max := 10^-2]\n",
    "msedfR[parameters == \"theta\",y_min := 10^-5]\n",
    "msedfR[parameters == \"theta\",y_max := 10^1]\n",
    "\n",
    "#msedfR[parameters == \"beta\",y_min := 10^-8]\n",
    "#msedfR[parameters == \"beta\",y_max := 10^-2]\n",
    "#msedfR[parameters == \"tau\",y_min := 10^-8]\n",
    "#msedfR[parameters == \"tau\",y_max := 10^-2]\n",
    "#msedfR[parameters == \"Sigma\",y_min := 10^-5]\n",
    "#msedfR[parameters == \"Sigma\",y_max := 10^-2]\n",
    "\n",
    "\n",
    "msedfR$obssize = factor(msedfR$obssize, levels = c('2', '5', '10', '15', '20', '25'))\n",
    "msedfR$samplesize = factor(msedfR$samplesize, levels = c('100', '1000', '10000'))\n",
    "msedfR$parameters = factor(msedfR$parameters, levels = c('beta', 'theta'), labels = c(beta = expression(hat(bold(beta))), thetaa = expression(hat(bold(theta))[])))\n",
    "msedfR$robust <- factor(msedfR$robust, levels = c('Poisson Quasi-Copula', 'Poisson GLMM'),\n",
    "    labels = c(expression(paste(\"Poisson Quasi-Copula\")), expression(paste(\"Poisson GLMM\"))))\n",
    "\n",
    "\n",
    "#mseplot <- ggplot(msedfR[msedfR$mse < 10^0, ], aes(x=samplesize, y=mse, fill=obssize)) + \n",
    "mseplot = ggplot(msedfR[msedfR$mse < 10^3, ], aes(x=samplesize, y=mse, fill=obssize)) + \n",
    "  #geom_boxplot(outlier.size = 0.0, outlier.alpha = 0) +\n",
    "  geom_boxplot(outlier.size = 0.25) +\n",
    "#    geom_violin() +\n",
    "    facet_grid(parameters ~ robust, labeller = label_parsed, scales = \"free_y\") +\n",
    "  theme(legend.position=\"right\", legend.key = element_blank(), axis.text.x = element_text(angle=0, size=15),\n",
    "        axis.text.y = element_text(angle=0, size=15), axis.title.x = element_text(size = 20), \n",
    "        axis.title.y = element_text(size = 20), legend.title = element_text(size = 20),\n",
    "        panel.grid.major = element_blank(), panel.grid.minor = element_blank(),\n",
    "        legend.text=element_text(size=15), panel.background = element_rect(fill = NA, color = \"black\"),\n",
    "        #panel.background = element_blank(), #panel.border = element_blank(),\n",
    "        axis.line = element_line(color = 'black',size=0.3), plot.title = element_text(hjust = 0.5),\n",
    "        strip.background = element_rect(colour=\"black\", fill=\"white\"), strip.text.y = element_text(size=30, face=\"bold\"),\n",
    "        strip.text.x = element_text(size=20)) + \n",
    "  scale_fill_manual(values = c(\"#c85f55\",\n",
    "\"#a964bf\",\n",
    "\"#8db352\",\n",
    "\"#fa7300\",\n",
    "\"#05aec0\",\n",
    "\"#ff1493\")) +\n",
    "#scale_y_log10(breaks = scales::trans_breaks(\"log10\", function(x) 10^x)) +\n",
    "#scale_y_log10(breaks = 10^(-8:8), limit=c(10^-8, 10^2)) + \n",
    "scale_y_log10(breaks = 10^seq(-10, 10, 2), labels=trans_format(\"log10\", math_format(10^.x))) + #, limit=c(10^-8, 10^2)) +\n",
    "  labs(x = \"Sample Size\", y = \"MSE of Parameter Estimates\", fill = \"Cluster Size\") +\n",
    "geom_blank(aes(y = y_max)) + \n",
    "geom_blank(aes(y = y_min)) \n",
    "\n",
    "\"\"\""
   ]
  },
  {
   "cell_type": "code",
   "execution_count": null,
   "metadata": {},
   "outputs": [],
   "source": [
    "R\"\"\"\n",
    "ggsave('updated_msefacetplot_poisson.png', mseplot, width = 12.5, height = 15, units = 'in', dpi = 450)\n",
    "\"\"\""
   ]
  },
  {
   "cell_type": "code",
   "execution_count": null,
   "metadata": {},
   "outputs": [],
   "source": []
  },
  {
   "cell_type": "code",
   "execution_count": null,
   "metadata": {},
   "outputs": [],
   "source": []
  }
 ],
 "metadata": {
  "@webio": {
   "lastCommId": null,
   "lastKernelId": null
  },
  "kernelspec": {
   "display_name": "Julia 1.6.2",
   "language": "julia",
   "name": "julia-1.6"
  },
  "language_info": {
   "file_extension": ".jl",
   "mimetype": "application/julia",
   "name": "julia",
   "version": "1.6.2"
  }
 },
 "nbformat": 4,
 "nbformat_minor": 2
}
