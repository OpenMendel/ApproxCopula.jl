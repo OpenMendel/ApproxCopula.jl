{
 "cells": [
  {
   "cell_type": "markdown",
   "metadata": {},
   "source": [
    "## Poisson VCM Results \n",
    "\n",
    "This notebook goes over the code needed to reproduce the results from the MSE and time figures for the Poisson base distribution with Log Link and covariance matrix $\\Gamma$ structured under variance component model framework as follows:\n",
    "\n",
    "$$\n",
    "\\Gamma = 0.05 * \\mathbf{1_{n} 1_{n}^\\top}\n",
    "$$\n",
    "\n",
    "In this example simulate three fixed effects under GLMM with $\\beta \\sim$ randn(Uniform(-0.2, 0.2), p) where p = 3 fixed effects.\n",
    "\n",
    "We run each scenario 5 times and compare the run times of ours with that of GLMM's random intercept model from MixedModels.jl. "
   ]
  },
  {
   "cell_type": "code",
   "execution_count": 30,
   "metadata": {},
   "outputs": [
    {
     "name": "stdout",
     "output_type": "stream",
     "text": [
      "Julia Version 1.6.2\n",
      "Commit 1b93d53fc4 (2021-07-14 15:36 UTC)\n",
      "Platform Info:\n",
      "  OS: macOS (x86_64-apple-darwin18.7.0)\n",
      "  CPU: Intel(R) Core(TM) i9-9880H CPU @ 2.30GHz\n",
      "  WORD_SIZE: 64\n",
      "  LIBM: libopenlibm\n",
      "  LLVM: libLLVM-11.0.1 (ORCJIT, skylake)\n"
     ]
    }
   ],
   "source": [
    "versioninfo()"
   ]
  },
  {
   "cell_type": "code",
   "execution_count": 31,
   "metadata": {},
   "outputs": [],
   "source": [
    "using GLMCopula, DelimitedFiles, LinearAlgebra, Random, GLM\n",
    "using Random, Roots, SpecialFunctions, DataFrames"
   ]
  },
  {
   "cell_type": "code",
   "execution_count": 32,
   "metadata": {},
   "outputs": [
    {
     "data": {
      "text/plain": [
       "5"
      ]
     },
     "execution_count": 32,
     "metadata": {},
     "output_type": "execute_result"
    }
   ],
   "source": [
    "p = 3    # number of fixed effects, including intercept\n",
    "m = 1    # number of variance components\n",
    "# true parameter values\n",
    "Random.seed!(1234)\n",
    "βtrue = rand(Uniform(-0.2, 0.2), p)\n",
    "θtrue = [0.05]\n",
    "\n",
    "# generate data\n",
    "intervals = zeros(p + m, 2) #hold intervals\n",
    "curcoverage = zeros(p + m) #hold current coverage resutls\n",
    "trueparams = [βtrue; θtrue] #hold true parameters\n",
    "\n",
    "#simulation parameters\n",
    "samplesizes = [100; 1000; 10000; 100000]\n",
    "ns = [2; 5; 10]\n",
    "nsims = 5"
   ]
  },
  {
   "cell_type": "code",
   "execution_count": 35,
   "metadata": {},
   "outputs": [],
   "source": [
    "cd(\"/Users/sarahji/.julia/dev/GLMCopula/sim_glmm_vs_ours_random_int/poisson_sim_glmm\")"
   ]
  },
  {
   "cell_type": "code",
   "execution_count": 36,
   "metadata": {},
   "outputs": [
    {
     "name": "stderr",
     "output_type": "stream",
     "text": [
      "┌ Info: reading in the files with results\n",
      "└ @ Main In[36]:1\n"
     ]
    },
    {
     "data": {
      "text/plain": [
       "60-element Vector{Float64}:\n",
       "  0.023319893\n",
       "  0.025191819\n",
       "  0.028104155\n",
       "  0.022595776\n",
       "  0.026170402\n",
       "  0.026398217\n",
       "  0.023732461\n",
       "  0.030037977\n",
       "  0.024221401\n",
       "  0.021428809\n",
       "  0.028979834\n",
       "  0.02687747\n",
       "  0.026289609\n",
       "  ⋮\n",
       " 16.386620975\n",
       " 28.811331751\n",
       " 11.24830771\n",
       "  7.896102991\n",
       " 23.784640952\n",
       " 17.425656309\n",
       " 19.266263612\n",
       " 19.023016978\n",
       " 35.197617755\n",
       " 54.81468283\n",
       " 34.030964458\n",
       " 37.28575035"
      ]
     },
     "execution_count": 36,
     "metadata": {},
     "output_type": "execute_result"
    }
   ],
   "source": [
    "@info \"reading in the files with results\"\n",
    "βMseresult = vec(readdlm(\"mse_beta_multivariate_poisson_vcm$(nsims)reps_sim.csv\", ','))\n",
    "θMseresult = vec(readdlm(\"mse_Sigma_multivariate_poisson_vcm$(nsims)reps_sim.csv\", ','))\n",
    "fittimes_QC = vec(readdlm(\"fittimes_multivariate_poisson_vcm$(nsims)reps_sim.csv\", ','))"
   ]
  },
  {
   "cell_type": "code",
   "execution_count": 37,
   "metadata": {},
   "outputs": [
    {
     "data": {
      "text/plain": [
       "60-element Vector{Float64}:\n",
       "   0.276911223\n",
       "   0.020874351\n",
       "   0.046466525\n",
       "   0.015009406\n",
       "   0.019675201\n",
       "   0.08308952\n",
       "   0.110808557\n",
       "   0.04062093\n",
       "   0.084917644\n",
       "   0.047001313\n",
       "   0.128564867\n",
       "   0.123648207\n",
       "   0.14328125\n",
       "   ⋮\n",
       "  17.916392865\n",
       "  24.351682286\n",
       "  82.587550855\n",
       "  78.088277766\n",
       "  74.758043842\n",
       "  83.524162156\n",
       "  91.163996903\n",
       " 180.796040829\n",
       " 195.018021061\n",
       " 208.935284905\n",
       " 297.879679375\n",
       " 111.632507804"
      ]
     },
     "execution_count": 37,
     "metadata": {},
     "output_type": "execute_result"
    }
   ],
   "source": [
    "fittimes_GLMM = vec(readdlm(\"fittimes_GLMM_multivariate_poisson_vcm$(nsims)reps_sim.csv\", ','))"
   ]
  },
  {
   "cell_type": "code",
   "execution_count": 45,
   "metadata": {},
   "outputs": [
    {
     "name": "stderr",
     "output_type": "stream",
     "text": [
      "┌ Info: making results table Quasi-Copula\n",
      "└ @ Main In[45]:2\n"
     ]
    },
    {
     "data": {
      "text/html": [
       "<div class=\"data-frame\"><p>12 rows × 4 columns</p><table class=\"data-frame\"><thead><tr><th></th><th>samplesize</th><th>obssize</th><th>fittime</th><th>se</th></tr><tr><th></th><th title=\"String\">String</th><th title=\"String\">String</th><th title=\"Float64\">Float64</th><th title=\"Float64\">Float64</th></tr></thead><tbody><tr><th>1</th><td>100</td><td>2</td><td>0.0250764</td><td>0.00099036</td></tr><tr><th>2</th><td>100</td><td>5</td><td>0.0251638</td><td>0.00145204</td></tr><tr><th>3</th><td>100</td><td>10</td><td>0.0293764</td><td>0.00154984</td></tr><tr><th>4</th><td>1000</td><td>2</td><td>0.0637476</td><td>0.0037765</td></tr><tr><th>5</th><td>1000</td><td>5</td><td>0.0839639</td><td>0.00875163</td></tr><tr><th>6</th><td>1000</td><td>10</td><td>0.125812</td><td>0.00595204</td></tr><tr><th>7</th><td>10000</td><td>2</td><td>0.94729</td><td>0.122173</td></tr><tr><th>8</th><td>10000</td><td>5</td><td>1.28443</td><td>0.247586</td></tr><tr><th>9</th><td>10000</td><td>10</td><td>2.00762</td><td>0.348481</td></tr><tr><th>10</th><td>100000</td><td>2</td><td>19.6342</td><td>2.31035</td></tr><tr><th>11</th><td>100000</td><td>5</td><td>15.9242</td><td>2.84187</td></tr><tr><th>12</th><td>100000</td><td>10</td><td>36.0704</td><td>5.69368</td></tr></tbody></table></div>"
      ],
      "text/latex": [
       "\\begin{tabular}{r|cccc}\n",
       "\t& samplesize & obssize & fittime & se\\\\\n",
       "\t\\hline\n",
       "\t& String & String & Float64 & Float64\\\\\n",
       "\t\\hline\n",
       "\t1 & 100 & 2 & 0.0250764 & 0.00099036 \\\\\n",
       "\t2 & 100 & 5 & 0.0251638 & 0.00145204 \\\\\n",
       "\t3 & 100 & 10 & 0.0293764 & 0.00154984 \\\\\n",
       "\t4 & 1000 & 2 & 0.0637476 & 0.0037765 \\\\\n",
       "\t5 & 1000 & 5 & 0.0839639 & 0.00875163 \\\\\n",
       "\t6 & 1000 & 10 & 0.125812 & 0.00595204 \\\\\n",
       "\t7 & 10000 & 2 & 0.94729 & 0.122173 \\\\\n",
       "\t8 & 10000 & 5 & 1.28443 & 0.247586 \\\\\n",
       "\t9 & 10000 & 10 & 2.00762 & 0.348481 \\\\\n",
       "\t10 & 100000 & 2 & 19.6342 & 2.31035 \\\\\n",
       "\t11 & 100000 & 5 & 15.9242 & 2.84187 \\\\\n",
       "\t12 & 100000 & 10 & 36.0704 & 5.69368 \\\\\n",
       "\\end{tabular}\n"
      ],
      "text/plain": [
       "\u001b[1m12×4 DataFrame\u001b[0m\n",
       "\u001b[1m Row \u001b[0m│\u001b[1m samplesize \u001b[0m\u001b[1m obssize \u001b[0m\u001b[1m fittime    \u001b[0m\u001b[1m se         \u001b[0m\n",
       "\u001b[1m     \u001b[0m│\u001b[90m String     \u001b[0m\u001b[90m String  \u001b[0m\u001b[90m Float64    \u001b[0m\u001b[90m Float64    \u001b[0m\n",
       "─────┼─────────────────────────────────────────────\n",
       "   1 │ 100         2         0.0250764  0.00099036\n",
       "   2 │ 100         5         0.0251638  0.00145204\n",
       "   3 │ 100         10        0.0293764  0.00154984\n",
       "   4 │ 1000        2         0.0637476  0.0037765\n",
       "   5 │ 1000        5         0.0839639  0.00875163\n",
       "   6 │ 1000        10        0.125812   0.00595204\n",
       "   7 │ 10000       2         0.94729    0.122173\n",
       "   8 │ 10000       5         1.28443    0.247586\n",
       "   9 │ 10000       10        2.00762    0.348481\n",
       "  10 │ 100000      2        19.6342     2.31035\n",
       "  11 │ 100000      5        15.9242     2.84187\n",
       "  12 │ 100000      10       36.0704     5.69368"
      ]
     },
     "execution_count": 45,
     "metadata": {},
     "output_type": "execute_result"
    }
   ],
   "source": [
    "#simulation parameters\n",
    "@info \"making results table Quasi-Copula\"\n",
    "sample_sizes = repeat(string.(samplesizes), inner = nsims * length(ns))\n",
    "obs_sizes = repeat(string.(ns), inner = nsims, outer = length(samplesizes))\n",
    "\n",
    "msedf = DataFrame(samplesize = sample_sizes, obssize = obs_sizes, fittimes = fittimes_QC)\n",
    "timedf1 = combine(groupby(msedf, [:samplesize, :obssize]), :fittimes => mean => :fittime,\n",
    "    :fittimes => x -> (std(x)/sqrt(length(x))))\n",
    "rename!(timedf1, Dict(:fittimes_function => \"se\"))\n",
    "timedf1[!, :nobs] = Meta.parse.(timedf1[!, :samplesize]) .* Meta.parse.(timedf1[!, :obssize])\n",
    "timedf1[!, :fitmin] = timedf1[!, :fittime] - timedf1[!, :se]\n",
    "timedf1[!, :fitmax] = timedf1[!, :fittime] + 2 * timedf1[!, :se]\n",
    "timedf1[!, :perobsratio] = timedf1[!, :fittime] ./ timedf1[!, :nobs]\n",
    "timedf1[!, 1:4]"
   ]
  },
  {
   "cell_type": "code",
   "execution_count": 48,
   "metadata": {},
   "outputs": [
    {
     "name": "stderr",
     "output_type": "stream",
     "text": [
      "┌ Info: making results table GLMM\n",
      "└ @ Main In[48]:2\n"
     ]
    },
    {
     "data": {
      "text/html": [
       "<div class=\"data-frame\"><p>12 rows × 4 columns</p><table class=\"data-frame\"><thead><tr><th></th><th>samplesize</th><th>obssize</th><th>fittime</th><th>se</th></tr><tr><th></th><th title=\"String\">String</th><th title=\"String\">String</th><th title=\"Float64\">Float64</th><th title=\"Float64\">Float64</th></tr></thead><tbody><tr><th>1</th><td>100</td><td>2</td><td>0.0757873</td><td>0.0505809</td></tr><tr><th>2</th><td>100</td><td>5</td><td>0.0732876</td><td>0.0130331</td></tr><tr><th>3</th><td>100</td><td>10</td><td>0.139382</td><td>0.00564954</td></tr><tr><th>4</th><td>1000</td><td>2</td><td>0.249717</td><td>0.0279564</td></tr><tr><th>5</th><td>1000</td><td>5</td><td>0.647529</td><td>0.0268909</td></tr><tr><th>6</th><td>1000</td><td>10</td><td>1.32919</td><td>0.0662903</td></tr><tr><th>7</th><td>10000</td><td>2</td><td>2.84266</td><td>0.19021</td></tr><tr><th>8</th><td>10000</td><td>5</td><td>7.34857</td><td>0.851689</td></tr><tr><th>9</th><td>10000</td><td>10</td><td>19.0859</td><td>1.2233</td></tr><tr><th>10</th><td>100000</td><td>2</td><td>25.4747</td><td>2.47594</td></tr><tr><th>11</th><td>100000</td><td>5</td><td>82.0244</td><td>2.77841</td></tr><tr><th>12</th><td>100000</td><td>10</td><td>198.852</td><td>29.8799</td></tr></tbody></table></div>"
      ],
      "text/latex": [
       "\\begin{tabular}{r|cccc}\n",
       "\t& samplesize & obssize & fittime & se\\\\\n",
       "\t\\hline\n",
       "\t& String & String & Float64 & Float64\\\\\n",
       "\t\\hline\n",
       "\t1 & 100 & 2 & 0.0757873 & 0.0505809 \\\\\n",
       "\t2 & 100 & 5 & 0.0732876 & 0.0130331 \\\\\n",
       "\t3 & 100 & 10 & 0.139382 & 0.00564954 \\\\\n",
       "\t4 & 1000 & 2 & 0.249717 & 0.0279564 \\\\\n",
       "\t5 & 1000 & 5 & 0.647529 & 0.0268909 \\\\\n",
       "\t6 & 1000 & 10 & 1.32919 & 0.0662903 \\\\\n",
       "\t7 & 10000 & 2 & 2.84266 & 0.19021 \\\\\n",
       "\t8 & 10000 & 5 & 7.34857 & 0.851689 \\\\\n",
       "\t9 & 10000 & 10 & 19.0859 & 1.2233 \\\\\n",
       "\t10 & 100000 & 2 & 25.4747 & 2.47594 \\\\\n",
       "\t11 & 100000 & 5 & 82.0244 & 2.77841 \\\\\n",
       "\t12 & 100000 & 10 & 198.852 & 29.8799 \\\\\n",
       "\\end{tabular}\n"
      ],
      "text/plain": [
       "\u001b[1m12×4 DataFrame\u001b[0m\n",
       "\u001b[1m Row \u001b[0m│\u001b[1m samplesize \u001b[0m\u001b[1m obssize \u001b[0m\u001b[1m fittime     \u001b[0m\u001b[1m se          \u001b[0m\n",
       "\u001b[1m     \u001b[0m│\u001b[90m String     \u001b[0m\u001b[90m String  \u001b[0m\u001b[90m Float64     \u001b[0m\u001b[90m Float64     \u001b[0m\n",
       "─────┼───────────────────────────────────────────────\n",
       "   1 │ 100         2          0.0757873   0.0505809\n",
       "   2 │ 100         5          0.0732876   0.0130331\n",
       "   3 │ 100         10         0.139382    0.00564954\n",
       "   4 │ 1000        2          0.249717    0.0279564\n",
       "   5 │ 1000        5          0.647529    0.0268909\n",
       "   6 │ 1000        10         1.32919     0.0662903\n",
       "   7 │ 10000       2          2.84266     0.19021\n",
       "   8 │ 10000       5          7.34857     0.851689\n",
       "   9 │ 10000       10        19.0859      1.2233\n",
       "  10 │ 100000      2         25.4747      2.47594\n",
       "  11 │ 100000      5         82.0244      2.77841\n",
       "  12 │ 100000      10       198.852      29.8799"
      ]
     },
     "execution_count": 48,
     "metadata": {},
     "output_type": "execute_result"
    }
   ],
   "source": [
    "#simulation parameters\n",
    "@info \"making results table GLMM\"\n",
    "sample_sizes = repeat(string.(samplesizes), inner = nsims * length(ns))\n",
    "obs_sizes = repeat(string.(ns), inner = nsims, outer = length(samplesizes))\n",
    "\n",
    "msedf = DataFrame(samplesize = sample_sizes, obssize = obs_sizes, fittimes = fittimes_GLMM)\n",
    "timedf2 = combine(groupby(msedf, [:samplesize, :obssize]), :fittimes => mean => :fittime,\n",
    "    :fittimes => x -> (std(x)/sqrt(length(x))))\n",
    "rename!(timedf2, Dict(:fittimes_function => \"se\"))\n",
    "timedf2[!, :nobs] = Meta.parse.(timedf2[!, :samplesize]) .* Meta.parse.(timedf2[!, :obssize])\n",
    "timedf2[!, :fitmin] = timedf2[!, :fittime] - timedf2[!, :se]\n",
    "timedf2[!, :fitmax] = timedf2[!, :fittime] + timedf2[!, :se]\n",
    "timedf2[!, :perobsratio] = timedf2[!, :fittime] ./ timedf2[!, :nobs]\n",
    "timedf2\n",
    "timedf2[!, 1:4]"
   ]
  },
  {
   "cell_type": "code",
   "execution_count": 40,
   "metadata": {},
   "outputs": [
    {
     "data": {
      "image/png": "[encoded data removed]"
     },
     "metadata": {},
     "output_type": "display_data"
    },
    {
     "data": {
      "text/plain": [
       "RObject{VecSxp}\n"
      ]
     },
     "execution_count": 40,
     "metadata": {},
     "output_type": "execute_result"
    }
   ],
   "source": [
    "########### plot the runtimes\n",
    "using RCall\n",
    "@rput timedf1\n",
    "@rput timedf2\n",
    "R\"\"\"\n",
    "library(ggplot2)\n",
    "library(cowplot)\n",
    "timedf1$obssize = factor(timedf1$obssize, levels = c('2', '5', '10'))\n",
    "timedf1$samplesize = factor(timedf1$samplesize, levels = c('100', '1000', '10000', '100000'))\n",
    "\n",
    "fittime_1 = ggplot(timedf1, aes(x = samplesize, y = fittime, group = obssize, color = obssize)) + \n",
    "  geom_line() +\n",
    "  geom_point()+\n",
    "  geom_errorbar(aes(ymin=fitmin, ymax=fitmax), width=0.5, alpha = 0.8, position=position_dodge(0.005)) + \n",
    "  theme(legend.position=c(0.3,0.85), legend.key = element_blank(), axis.text.x = element_text(angle=0, size=13),\n",
    "        axis.text.y = element_text(angle=0, size=13), axis.title.x = element_text(size = 17), \n",
    "        axis.title.y = element_text(size = 17), legend.title = element_text(size = 14),\n",
    "        #axis.ticks = element_blank(),\n",
    "        panel.grid.major = element_blank(), legend.text=element_text(size=13),\n",
    "        panel.border = element_blank(), panel.grid.minor = element_blank(), panel.background = element_blank(), \n",
    "        axis.line = element_line(color = 'black',size=0.3), plot.title = element_text(hjust = 0.5)) + \n",
    "   scale_color_manual(values = c(\"#c85f55\",\n",
    "\"#a964bf\",\n",
    "\"#8db352\",\n",
    "\"#fa7300\",\n",
    "\"#05aec0\",\n",
    "\"#ff1493\")) +\n",
    "  labs(x = \"Number of Individuals\", y = \"Fit time (seconds)\", color = \"Obs per Individual\")\n",
    "\n",
    "timedf2$obssize = factor(timedf2$obssize, levels = c('2', '5', '10'))\n",
    "timedf2$samplesize = factor(timedf2$samplesize, levels = c('100', '1000', '10000', '100000'))\n",
    "\n",
    "fittime_2 = ggplot(timedf2, aes(x = samplesize, y = fittime, group = obssize, color = obssize)) + \n",
    "  geom_line() +\n",
    "  geom_point()+\n",
    "  geom_errorbar(aes(ymin=fitmin, ymax=fitmax), width=0.5, alpha = 0.8, position=position_dodge(0.005)) + \n",
    "  theme(legend.position=c(0.3,0.85), legend.key = element_blank(), axis.text.x = element_text(angle=0, size=13),\n",
    "        axis.text.y = element_text(angle=0, size=13), axis.title.x = element_text(size = 17), \n",
    "        axis.title.y = element_text(size = 17), legend.title = element_text(size = 14),\n",
    "        #axis.ticks = element_blank(),\n",
    "        panel.grid.major = element_blank(), legend.text=element_text(size=13),\n",
    "        panel.border = element_blank(), panel.grid.minor = element_blank(), panel.background = element_blank(), \n",
    "        axis.line = element_line(color = 'black',size=0.3), plot.title = element_text(hjust = 0.5)) + \n",
    "   scale_color_manual(values = c(\"#c85f55\",\n",
    "\"#a964bf\",\n",
    "\"#8db352\",\n",
    "\"#fa7300\",\n",
    "\"#05aec0\",\n",
    "\"#ff1493\")) +\n",
    "  labs(x = \"Number of Individuals\", y = \"Fit time (seconds)\", color = \"Obs per Individual\")\n",
    "\n",
    "fittime_nsamples = plot_grid(fittime_1, fittime_2, labels = c(\"Quasi-Copula\", \"GLMM\"))\n",
    "\"\"\""
   ]
  },
  {
   "cell_type": "code",
   "execution_count": 9,
   "metadata": {},
   "outputs": [
    {
     "data": {
      "text/plain": [
       "RObject{StrSxp}\n",
       "[1] \"sim_glmm_fittime_nsamples_poisson_vs_glmm.png\"\n"
      ]
     },
     "execution_count": 9,
     "metadata": {},
     "output_type": "execute_result"
    }
   ],
   "source": [
    "R\"\"\"\n",
    "ggsave('sim_glmm_fittime_nsamples_poisson_vs_glmm.png', fittime_nsamples, width = 15, height = 17, units = 'in', dpi = 450)\n",
    "\"\"\""
   ]
  },
  {
   "cell_type": "code",
   "execution_count": 49,
   "metadata": {},
   "outputs": [
    {
     "data": {
      "text/html": [
       "<div class=\"data-frame\"><p>12 rows × 5 columns</p><table class=\"data-frame\"><thead><tr><th></th><th>people_obs</th><th>β1</th><th>β2</th><th>β3</th><th>θ1</th></tr><tr><th></th><th title=\"String\">String</th><th title=\"Tuple{Float64, Float64}\">Tuple…</th><th title=\"Tuple{Float64, Float64}\">Tuple…</th><th title=\"Tuple{Float64, Float64}\">Tuple…</th><th title=\"Tuple{Float64, Float64}\">Tuple…</th></tr></thead><tbody><tr><th>1</th><td>N: 100  ni: 2</td><td>(0.8, 0.2)</td><td>(0.8, 0.2)</td><td>(0.8, 0.2)</td><td>(1.0, 0.0)</td></tr><tr><th>2</th><td>N: 100  ni: 5</td><td>(1.0, 0.0)</td><td>(1.0, 0.0)</td><td>(1.0, 0.0)</td><td>(1.0, 0.0)</td></tr><tr><th>3</th><td>N: 100  ni: 10</td><td>(0.4, 0.244949)</td><td>(1.0, 0.0)</td><td>(0.6, 0.244949)</td><td>(0.6, 0.244949)</td></tr><tr><th>4</th><td>N: 1000  ni: 2</td><td>(0.8, 0.2)</td><td>(0.8, 0.2)</td><td>(0.8, 0.2)</td><td>(0.8, 0.2)</td></tr><tr><th>5</th><td>N: 1000  ni: 5</td><td>(0.8, 0.2)</td><td>(0.8, 0.2)</td><td>(0.8, 0.2)</td><td>(0.8, 0.2)</td></tr><tr><th>6</th><td>N: 1000  ni: 10</td><td>(1.0, 0.0)</td><td>(1.0, 0.0)</td><td>(1.0, 0.0)</td><td>(1.0, 0.0)</td></tr><tr><th>7</th><td>N: 10000  ni: 2</td><td>(0.8, 0.2)</td><td>(0.8, 0.2)</td><td>(0.8, 0.2)</td><td>(0.8, 0.2)</td></tr><tr><th>8</th><td>N: 10000  ni: 5</td><td>(0.8, 0.2)</td><td>(0.8, 0.2)</td><td>(1.0, 0.0)</td><td>(0.4, 0.244949)</td></tr><tr><th>9</th><td>N: 10000  ni: 10</td><td>(0.8, 0.2)</td><td>(0.6, 0.244949)</td><td>(0.8, 0.2)</td><td>(0.2, 0.2)</td></tr><tr><th>10</th><td>N: 100000  ni: 2</td><td>(0.4, 0.244949)</td><td>(0.6, 0.244949)</td><td>(0.6, 0.244949)</td><td>(0.2, 0.2)</td></tr><tr><th>11</th><td>N: 100000  ni: 5</td><td>(0.6, 0.244949)</td><td>(0.6, 0.244949)</td><td>(0.8, 0.2)</td><td>(0.0, 0.0)</td></tr><tr><th>12</th><td>N: 100000  ni: 10</td><td>(0.0, 0.0)</td><td>(0.6, 0.244949)</td><td>(0.8, 0.2)</td><td>(0.0, 0.0)</td></tr></tbody></table></div>"
      ],
      "text/latex": [
       "\\begin{tabular}{r|ccccc}\n",
       "\t& people\\_obs & β1 & β2 & β3 & θ1\\\\\n",
       "\t\\hline\n",
       "\t& String & Tuple… & Tuple… & Tuple… & Tuple…\\\\\n",
       "\t\\hline\n",
       "\t1 & N: 100  ni: 2 & (0.8, 0.2) & (0.8, 0.2) & (0.8, 0.2) & (1.0, 0.0) \\\\\n",
       "\t2 & N: 100  ni: 5 & (1.0, 0.0) & (1.0, 0.0) & (1.0, 0.0) & (1.0, 0.0) \\\\\n",
       "\t3 & N: 100  ni: 10 & (0.4, 0.244949) & (1.0, 0.0) & (0.6, 0.244949) & (0.6, 0.244949) \\\\\n",
       "\t4 & N: 1000  ni: 2 & (0.8, 0.2) & (0.8, 0.2) & (0.8, 0.2) & (0.8, 0.2) \\\\\n",
       "\t5 & N: 1000  ni: 5 & (0.8, 0.2) & (0.8, 0.2) & (0.8, 0.2) & (0.8, 0.2) \\\\\n",
       "\t6 & N: 1000  ni: 10 & (1.0, 0.0) & (1.0, 0.0) & (1.0, 0.0) & (1.0, 0.0) \\\\\n",
       "\t7 & N: 10000  ni: 2 & (0.8, 0.2) & (0.8, 0.2) & (0.8, 0.2) & (0.8, 0.2) \\\\\n",
       "\t8 & N: 10000  ni: 5 & (0.8, 0.2) & (0.8, 0.2) & (1.0, 0.0) & (0.4, 0.244949) \\\\\n",
       "\t9 & N: 10000  ni: 10 & (0.8, 0.2) & (0.6, 0.244949) & (0.8, 0.2) & (0.2, 0.2) \\\\\n",
       "\t10 & N: 100000  ni: 2 & (0.4, 0.244949) & (0.6, 0.244949) & (0.6, 0.244949) & (0.2, 0.2) \\\\\n",
       "\t11 & N: 100000  ni: 5 & (0.6, 0.244949) & (0.6, 0.244949) & (0.8, 0.2) & (0.0, 0.0) \\\\\n",
       "\t12 & N: 100000  ni: 10 & (0.0, 0.0) & (0.6, 0.244949) & (0.8, 0.2) & (0.0, 0.0) \\\\\n",
       "\\end{tabular}\n"
      ],
      "text/plain": [
       "\u001b[1m12×5 DataFrame\u001b[0m\n",
       "\u001b[1m Row \u001b[0m│\u001b[1m people_obs        \u001b[0m\u001b[1m β1              \u001b[0m\u001b[1m β2              \u001b[0m\u001b[1m β3              \u001b[0m\u001b[1m θ\u001b[0m ⋯\n",
       "\u001b[1m     \u001b[0m│\u001b[90m String            \u001b[0m\u001b[90m Tuple…          \u001b[0m\u001b[90m Tuple…          \u001b[0m\u001b[90m Tuple…          \u001b[0m\u001b[90m T\u001b[0m ⋯\n",
       "─────┼──────────────────────────────────────────────────────────────────────────\n",
       "   1 │ N: 100  ni: 2      (0.8, 0.2)       (0.8, 0.2)       (0.8, 0.2)       ( ⋯\n",
       "   2 │ N: 100  ni: 5      (1.0, 0.0)       (1.0, 0.0)       (1.0, 0.0)       (\n",
       "   3 │ N: 100  ni: 10     (0.4, 0.244949)  (1.0, 0.0)       (0.6, 0.244949)  (\n",
       "   4 │ N: 1000  ni: 2     (0.8, 0.2)       (0.8, 0.2)       (0.8, 0.2)       (\n",
       "   5 │ N: 1000  ni: 5     (0.8, 0.2)       (0.8, 0.2)       (0.8, 0.2)       ( ⋯\n",
       "   6 │ N: 1000  ni: 10    (1.0, 0.0)       (1.0, 0.0)       (1.0, 0.0)       (\n",
       "   7 │ N: 10000  ni: 2    (0.8, 0.2)       (0.8, 0.2)       (0.8, 0.2)       (\n",
       "   8 │ N: 10000  ni: 5    (0.8, 0.2)       (0.8, 0.2)       (1.0, 0.0)       (\n",
       "   9 │ N: 10000  ni: 10   (0.8, 0.2)       (0.6, 0.244949)  (0.8, 0.2)       ( ⋯\n",
       "  10 │ N: 100000  ni: 2   (0.4, 0.244949)  (0.6, 0.244949)  (0.6, 0.244949)  (\n",
       "  11 │ N: 100000  ni: 5   (0.6, 0.244949)  (0.6, 0.244949)  (0.8, 0.2)       (\n",
       "  12 │ N: 100000  ni: 10  (0.0, 0.0)       (0.6, 0.244949)  (0.8, 0.2)       (\n",
       "\u001b[36m                                                                1 column omitted\u001b[0m"
      ]
     },
     "execution_count": 49,
     "metadata": {},
     "output_type": "execute_result"
    }
   ],
   "source": [
    "######  supplementary table s1\n",
    "using Random, DataFrames, DelimitedFiles, Statistics\n",
    "import StatsBase: sem\n",
    "\n",
    "βθcoverage = readdlm(\"beta_sigma_coverage_multivariate_poisson_vcm$(nsims)reps_sim.csv\", ',')\n",
    "\n",
    "m  = 1\n",
    "\n",
    "covdf = DataFrame(Matrix(transpose(βθcoverage)), :auto)\n",
    "rename!(covdf, Symbol.([[\"β$i\" for i in 1:p]; [\"θ$i\" for i in 1:m]]))\n",
    "covdf[!, :samplesize] = sample_sizes\n",
    "covdf[!, :obssize] = obs_sizes\n",
    "first(covdf, 10)\n",
    "\n",
    "row_stats = [[(mean(col), sem(col)) for col = eachcol(d[!, 1:end-2])] for d = groupby(covdf, [:samplesize; :obssize])]\n",
    "df = DataFrame(row_stats, :auto)\n",
    "ss_obs = unique(\"N: \" .* sample_sizes .* \"  ni: \" .* obs_sizes)\n",
    "rename!(df, Symbol.(ss_obs))\n",
    "covdfdisplay = DataFrame([[names(df)]; collect.(eachrow(df))], \n",
    "    [:people_obs; Symbol.([[\"β$i\" for i in 1:p]; [\"θ$i\" for i in 1:m]])])\n",
    "# deletecols!(covdfdisplay, p + 2)\n",
    "covdfdisplay\n"
   ]
  },
  {
   "cell_type": "code",
   "execution_count": 50,
   "metadata": {},
   "outputs": [
    {
     "data": {
      "text/html": [
       "<div class=\"data-frame\"><p>240 rows × 5 columns</p><table class=\"data-frame\"><thead><tr><th></th><th>mse</th><th>obssize</th><th>samplesize</th><th>parameters</th><th>robust</th></tr><tr><th></th><th title=\"Float64\">Float64</th><th title=\"String\">String</th><th title=\"String\">String</th><th title=\"String\">String</th><th title=\"String\">String</th></tr></thead><tbody><tr><th>1</th><td>0.0022147</td><td>2</td><td>100</td><td>beta</td><td>Poisson Quasi-Copula</td></tr><tr><th>2</th><td>0.00245313</td><td>2</td><td>100</td><td>beta</td><td>Poisson Quasi-Copula</td></tr><tr><th>3</th><td>0.00284419</td><td>2</td><td>100</td><td>beta</td><td>Poisson Quasi-Copula</td></tr><tr><th>4</th><td>0.00328039</td><td>2</td><td>100</td><td>beta</td><td>Poisson Quasi-Copula</td></tr><tr><th>5</th><td>0.00516435</td><td>2</td><td>100</td><td>beta</td><td>Poisson Quasi-Copula</td></tr><tr><th>6</th><td>0.000970534</td><td>5</td><td>100</td><td>beta</td><td>Poisson Quasi-Copula</td></tr><tr><th>7</th><td>0.000714614</td><td>5</td><td>100</td><td>beta</td><td>Poisson Quasi-Copula</td></tr><tr><th>8</th><td>0.00147628</td><td>5</td><td>100</td><td>beta</td><td>Poisson Quasi-Copula</td></tr><tr><th>9</th><td>0.00488136</td><td>5</td><td>100</td><td>beta</td><td>Poisson Quasi-Copula</td></tr><tr><th>10</th><td>0.00212664</td><td>5</td><td>100</td><td>beta</td><td>Poisson Quasi-Copula</td></tr><tr><th>11</th><td>0.00168869</td><td>10</td><td>100</td><td>beta</td><td>Poisson Quasi-Copula</td></tr><tr><th>12</th><td>0.00423228</td><td>10</td><td>100</td><td>beta</td><td>Poisson Quasi-Copula</td></tr><tr><th>13</th><td>0.00219792</td><td>10</td><td>100</td><td>beta</td><td>Poisson Quasi-Copula</td></tr><tr><th>14</th><td>0.000959078</td><td>10</td><td>100</td><td>beta</td><td>Poisson Quasi-Copula</td></tr><tr><th>15</th><td>0.000243142</td><td>10</td><td>100</td><td>beta</td><td>Poisson Quasi-Copula</td></tr><tr><th>16</th><td>0.000304379</td><td>2</td><td>1000</td><td>beta</td><td>Poisson Quasi-Copula</td></tr><tr><th>17</th><td>0.000905664</td><td>2</td><td>1000</td><td>beta</td><td>Poisson Quasi-Copula</td></tr><tr><th>18</th><td>0.00115771</td><td>2</td><td>1000</td><td>beta</td><td>Poisson Quasi-Copula</td></tr><tr><th>19</th><td>0.000840766</td><td>2</td><td>1000</td><td>beta</td><td>Poisson Quasi-Copula</td></tr><tr><th>20</th><td>0.000233466</td><td>2</td><td>1000</td><td>beta</td><td>Poisson Quasi-Copula</td></tr><tr><th>21</th><td>9.62378e-5</td><td>5</td><td>1000</td><td>beta</td><td>Poisson Quasi-Copula</td></tr><tr><th>22</th><td>0.000449871</td><td>5</td><td>1000</td><td>beta</td><td>Poisson Quasi-Copula</td></tr><tr><th>23</th><td>0.000359442</td><td>5</td><td>1000</td><td>beta</td><td>Poisson Quasi-Copula</td></tr><tr><th>24</th><td>0.000126135</td><td>5</td><td>1000</td><td>beta</td><td>Poisson Quasi-Copula</td></tr><tr><th>25</th><td>0.000177808</td><td>5</td><td>1000</td><td>beta</td><td>Poisson Quasi-Copula</td></tr><tr><th>26</th><td>4.25476e-5</td><td>10</td><td>1000</td><td>beta</td><td>Poisson Quasi-Copula</td></tr><tr><th>27</th><td>2.15415e-5</td><td>10</td><td>1000</td><td>beta</td><td>Poisson Quasi-Copula</td></tr><tr><th>28</th><td>5.9842e-5</td><td>10</td><td>1000</td><td>beta</td><td>Poisson Quasi-Copula</td></tr><tr><th>29</th><td>6.6809e-5</td><td>10</td><td>1000</td><td>beta</td><td>Poisson Quasi-Copula</td></tr><tr><th>30</th><td>5.64494e-5</td><td>10</td><td>1000</td><td>beta</td><td>Poisson Quasi-Copula</td></tr><tr><th>&vellip;</th><td>&vellip;</td><td>&vellip;</td><td>&vellip;</td><td>&vellip;</td><td>&vellip;</td></tr></tbody></table></div>"
      ],
      "text/latex": [
       "\\begin{tabular}{r|ccccc}\n",
       "\t& mse & obssize & samplesize & parameters & robust\\\\\n",
       "\t\\hline\n",
       "\t& Float64 & String & String & String & String\\\\\n",
       "\t\\hline\n",
       "\t1 & 0.0022147 & 2 & 100 & beta & Poisson Quasi-Copula \\\\\n",
       "\t2 & 0.00245313 & 2 & 100 & beta & Poisson Quasi-Copula \\\\\n",
       "\t3 & 0.00284419 & 2 & 100 & beta & Poisson Quasi-Copula \\\\\n",
       "\t4 & 0.00328039 & 2 & 100 & beta & Poisson Quasi-Copula \\\\\n",
       "\t5 & 0.00516435 & 2 & 100 & beta & Poisson Quasi-Copula \\\\\n",
       "\t6 & 0.000970534 & 5 & 100 & beta & Poisson Quasi-Copula \\\\\n",
       "\t7 & 0.000714614 & 5 & 100 & beta & Poisson Quasi-Copula \\\\\n",
       "\t8 & 0.00147628 & 5 & 100 & beta & Poisson Quasi-Copula \\\\\n",
       "\t9 & 0.00488136 & 5 & 100 & beta & Poisson Quasi-Copula \\\\\n",
       "\t10 & 0.00212664 & 5 & 100 & beta & Poisson Quasi-Copula \\\\\n",
       "\t11 & 0.00168869 & 10 & 100 & beta & Poisson Quasi-Copula \\\\\n",
       "\t12 & 0.00423228 & 10 & 100 & beta & Poisson Quasi-Copula \\\\\n",
       "\t13 & 0.00219792 & 10 & 100 & beta & Poisson Quasi-Copula \\\\\n",
       "\t14 & 0.000959078 & 10 & 100 & beta & Poisson Quasi-Copula \\\\\n",
       "\t15 & 0.000243142 & 10 & 100 & beta & Poisson Quasi-Copula \\\\\n",
       "\t16 & 0.000304379 & 2 & 1000 & beta & Poisson Quasi-Copula \\\\\n",
       "\t17 & 0.000905664 & 2 & 1000 & beta & Poisson Quasi-Copula \\\\\n",
       "\t18 & 0.00115771 & 2 & 1000 & beta & Poisson Quasi-Copula \\\\\n",
       "\t19 & 0.000840766 & 2 & 1000 & beta & Poisson Quasi-Copula \\\\\n",
       "\t20 & 0.000233466 & 2 & 1000 & beta & Poisson Quasi-Copula \\\\\n",
       "\t21 & 9.62378e-5 & 5 & 1000 & beta & Poisson Quasi-Copula \\\\\n",
       "\t22 & 0.000449871 & 5 & 1000 & beta & Poisson Quasi-Copula \\\\\n",
       "\t23 & 0.000359442 & 5 & 1000 & beta & Poisson Quasi-Copula \\\\\n",
       "\t24 & 0.000126135 & 5 & 1000 & beta & Poisson Quasi-Copula \\\\\n",
       "\t25 & 0.000177808 & 5 & 1000 & beta & Poisson Quasi-Copula \\\\\n",
       "\t26 & 4.25476e-5 & 10 & 1000 & beta & Poisson Quasi-Copula \\\\\n",
       "\t27 & 2.15415e-5 & 10 & 1000 & beta & Poisson Quasi-Copula \\\\\n",
       "\t28 & 5.9842e-5 & 10 & 1000 & beta & Poisson Quasi-Copula \\\\\n",
       "\t29 & 6.6809e-5 & 10 & 1000 & beta & Poisson Quasi-Copula \\\\\n",
       "\t30 & 5.64494e-5 & 10 & 1000 & beta & Poisson Quasi-Copula \\\\\n",
       "\t$\\dots$ & $\\dots$ & $\\dots$ & $\\dots$ & $\\dots$ & $\\dots$ \\\\\n",
       "\\end{tabular}\n"
      ],
      "text/plain": [
       "\u001b[1m240×5 DataFrame\u001b[0m\n",
       "\u001b[1m Row \u001b[0m│\u001b[1m mse         \u001b[0m\u001b[1m obssize \u001b[0m\u001b[1m samplesize \u001b[0m\u001b[1m parameters \u001b[0m\u001b[1m robust               \u001b[0m\n",
       "\u001b[1m     \u001b[0m│\u001b[90m Float64     \u001b[0m\u001b[90m String  \u001b[0m\u001b[90m String     \u001b[0m\u001b[90m String     \u001b[0m\u001b[90m String               \u001b[0m\n",
       "─────┼────────────────────────────────────────────────────────────────────\n",
       "   1 │ 0.0022147    2        100         beta        Poisson Quasi-Copula\n",
       "   2 │ 0.00245313   2        100         beta        Poisson Quasi-Copula\n",
       "   3 │ 0.00284419   2        100         beta        Poisson Quasi-Copula\n",
       "   4 │ 0.00328039   2        100         beta        Poisson Quasi-Copula\n",
       "   5 │ 0.00516435   2        100         beta        Poisson Quasi-Copula\n",
       "   6 │ 0.000970534  5        100         beta        Poisson Quasi-Copula\n",
       "   7 │ 0.000714614  5        100         beta        Poisson Quasi-Copula\n",
       "   8 │ 0.00147628   5        100         beta        Poisson Quasi-Copula\n",
       "   9 │ 0.00488136   5        100         beta        Poisson Quasi-Copula\n",
       "  10 │ 0.00212664   5        100         beta        Poisson Quasi-Copula\n",
       "  11 │ 0.00168869   10       100         beta        Poisson Quasi-Copula\n",
       "  ⋮  │      ⋮          ⋮         ⋮           ⋮                ⋮\n",
       " 231 │ 8.90572e-7   5        100000      theta       Poisson GLMM\n",
       " 232 │ 1.956e-6     5        100000      theta       Poisson GLMM\n",
       " 233 │ 8.87821e-7   5        100000      theta       Poisson GLMM\n",
       " 234 │ 3.37163e-6   5        100000      theta       Poisson GLMM\n",
       " 235 │ 1.2253e-7    5        100000      theta       Poisson GLMM\n",
       " 236 │ 3.53158e-9   10       100000      theta       Poisson GLMM\n",
       " 237 │ 5.08784e-7   10       100000      theta       Poisson GLMM\n",
       " 238 │ 1.25941e-6   10       100000      theta       Poisson GLMM\n",
       " 239 │ 4.17947e-7   10       100000      theta       Poisson GLMM\n",
       " 240 │ 1.74646e-7   10       100000      theta       Poisson GLMM\n",
       "\u001b[36m                                                          219 rows omitted\u001b[0m"
      ]
     },
     "execution_count": 50,
     "metadata": {},
     "output_type": "execute_result"
    }
   ],
   "source": [
    "#### \n",
    "#import data and reorganize to create figure\n",
    "using Random, DataFrames, DelimitedFiles, Statistics, RCall, Printf\n",
    "import StatsBase: sem\n",
    "\n",
    "βMseresult = vec(readdlm(\"mse_beta_multivariate_poisson_vcm$(nsims)reps_sim.csv\", ','))\n",
    "θMseresult = vec(readdlm(\"mse_Sigma_multivariate_poisson_vcm$(nsims)reps_sim.csv\", ','))\n",
    "\n",
    "βMseresult_GLMM = vec(readdlm(\"mse_beta_GLMM_multivariate_poisson_vcm$(nsims)reps_sim.csv\", ','))\n",
    "θMseresult_GLMM = vec(readdlm(\"mse_Sigma_GLMM_multivariate_poisson_vcm$(nsims)reps_sim.csv\", ','))\n",
    "\n",
    "\n",
    "p = 3; m = 1\n",
    "sample_sizes = repeat(string.(samplesizes), inner = nsims * length(ns))\n",
    "obs_sizes = repeat(string.(ns), inner = nsims, outer = length(samplesizes))\n",
    "msedf1 = DataFrame(βmse = βMseresult, thetamse = θMseresult, \n",
    "    samplesize = sample_sizes, obssize = obs_sizes)\n",
    "\n",
    "msedf2 = DataFrame(βmse = βMseresult_GLMM, thetamse = θMseresult_GLMM, \n",
    "    samplesize = sample_sizes, obssize = obs_sizes)\n",
    "\n",
    "#rename to make parsing easier for R.\n",
    "\n",
    "msedf1 = deepcopy(msedf1)\n",
    "rename!(msedf1, [\"betamse\"\n",
    "    \"thetamse\"\n",
    "    \"samplesize\"\n",
    " \"obssize\"]);\n",
    "\n",
    "msedf2 = deepcopy(msedf2)\n",
    "rename!(msedf2, [\"betamse\"\n",
    "    \"thetamse\"\n",
    "    \"samplesize\"\n",
    " \"obssize\"]);\n",
    "\n",
    "mses = [msedf1[!, :betamse]; msedf1[!, :thetamse]; msedf2[!, :betamse]; msedf2[!, :thetamse]]\n",
    "    # msedfnormR[!, :betamse]; msedfnormR[!, :taumse]; msedfnormR[!, :Sigmamse]]\n",
    "obssize = [collect([repeat(msedf1[!, :obssize], 2)]...) ; collect([repeat(msedf2[!, :obssize], 2)]...)]\n",
    "#40\n",
    "samplesize = [collect([repeat(msedf1[!, :samplesize], 2)]...) ; collect([repeat(msedf2[!, :samplesize], 2)]...)]\n",
    "\n",
    "parameters = [collect([repeat(string.([:beta, :theta]), inner = nsims * length(ns) * length(samplesizes))]...) ; collect([repeat(string.([:beta, :theta]), inner = nsims * length(ns) * length(samplesizes))]...)]\n",
    "robust = [collect([repeat([\"Poisson Quasi-Copula\"], 2 * nsims * length(ns) * length(samplesizes))]...); collect([repeat([\"Poisson GLMM\"],  2 * nsims * length(ns) * length(samplesizes))]...)]\n",
    "\n",
    "msedfR = DataFrame(mse = mses, obssize = obssize, samplesize = samplesize,\n",
    "    parameters = parameters, robust = robust)\n",
    "\n",
    "#5 of the 30,000 simulations did not converge, filter out\n",
    "msedfR = filter(x -> !isnan(x.mse), msedfR)\n",
    "# additionally, there are 5 where an error was not caught so it did not try a differnt solver\n",
    "msedfR = filter(x -> x.mse < 40000, msedfR)"
   ]
  },
  {
   "cell_type": "code",
   "execution_count": 51,
   "metadata": {},
   "outputs": [
    {
     "data": {
      "image/png": "[encoded data removed]"
     },
     "metadata": {},
     "output_type": "display_data"
    },
    {
     "data": {
      "text/plain": [
       "RObject{VecSxp}\n"
      ]
     },
     "execution_count": 51,
     "metadata": {},
     "output_type": "execute_result"
    }
   ],
   "source": [
    "### working on figure next\n",
    "@rput msedfR\n",
    "\n",
    "R\"\"\"\n",
    "library(scales)\n",
    "library(ggplot2)\n",
    "library(data.table)\n",
    "\n",
    "msedfR = data.table(msedfR)\n",
    "\n",
    "msedfR[parameters == \"beta\",y_min := 10^-4]\n",
    "msedfR[parameters == \"beta\",y_max := 10^-2]\n",
    "msedfR[parameters == \"theta\",y_min := 10^-5]\n",
    "msedfR[parameters == \"theta\",y_max := 10^1]\n",
    "\n",
    "#msedfR[parameters == \"beta\",y_min := 10^-8]\n",
    "#msedfR[parameters == \"beta\",y_max := 10^-2]\n",
    "#msedfR[parameters == \"tau\",y_min := 10^-8]\n",
    "#msedfR[parameters == \"tau\",y_max := 10^-2]\n",
    "#msedfR[parameters == \"Sigma\",y_min := 10^-5]\n",
    "#msedfR[parameters == \"Sigma\",y_max := 10^-2]\n",
    "\n",
    "\n",
    "msedfR$obssize = factor(msedfR$obssize, levels = c('2', '5', '10'))\n",
    "msedfR$samplesize = factor(msedfR$samplesize, levels = c('100', '1000', '10000', '100000'))\n",
    "msedfR$parameters = factor(msedfR$parameters, levels = c('beta', 'theta'), labels = c(beta = expression(hat(bold(beta))), thetaa = expression(hat(bold(theta))[])))\n",
    "msedfR$robust <- factor(msedfR$robust, levels = c('Poisson Quasi-Copula', 'Poisson GLMM'),\n",
    "    labels = c(expression(paste(\"Poisson Quasi-Copula\")), expression(paste(\"Poisson GLMM\"))))\n",
    "\n",
    "\n",
    "#mseplot <- ggplot(msedfR[msedfR$mse < 10^0, ], aes(x=samplesize, y=mse, fill=obssize)) + \n",
    "mseplot = ggplot(msedfR[msedfR$mse < 10^3, ], aes(x=samplesize, y=mse, fill=obssize)) + \n",
    "  #geom_boxplot(outlier.size = 0.0, outlier.alpha = 0) +\n",
    "  geom_boxplot(outlier.size = 0.25) +\n",
    "#    geom_violin() +\n",
    "    facet_grid(parameters ~ robust, labeller = label_parsed, scales = \"free_y\") +\n",
    "  theme(legend.position=\"right\", legend.key = element_blank(), axis.text.x = element_text(angle=0, size=15),\n",
    "        axis.text.y = element_text(angle=0, size=15), axis.title.x = element_text(size = 20), \n",
    "        axis.title.y = element_text(size = 20), legend.title = element_text(size = 20),\n",
    "        panel.grid.major = element_blank(), panel.grid.minor = element_blank(),\n",
    "        legend.text=element_text(size=15), panel.background = element_rect(fill = NA, color = \"black\"),\n",
    "        #panel.background = element_blank(), #panel.border = element_blank(),\n",
    "        axis.line = element_line(color = 'black',size=0.3), plot.title = element_text(hjust = 0.5),\n",
    "        strip.background = element_rect(colour=\"black\", fill=\"white\"), strip.text.y = element_text(size=30, face=\"bold\"),\n",
    "        strip.text.x = element_text(size=20)) + \n",
    "  scale_fill_manual(values = c(\"#c85f55\",\n",
    "\"#a964bf\",\n",
    "\"#8db352\",\n",
    "\"#fa7300\",\n",
    "\"#05aec0\",\n",
    "\"#ff1493\")) +\n",
    "#scale_y_log10(breaks = scales::trans_breaks(\"log10\", function(x) 10^x)) +\n",
    "#scale_y_log10(breaks = 10^(-8:8), limit=c(10^-8, 10^2)) + \n",
    "scale_y_log10(breaks = 10^seq(-10, 10, 2), labels=trans_format(\"log10\", math_format(10^.x))) + #, limit=c(10^-8, 10^2)) +\n",
    "  labs(x = \"Sample Size\", y = \"MSE of Parameter Estimates\", fill = \"Cluster Size\") +\n",
    "geom_blank(aes(y = y_max)) + \n",
    "geom_blank(aes(y = y_min)) \n",
    "\n",
    "\"\"\""
   ]
  },
  {
   "cell_type": "code",
   "execution_count": 13,
   "metadata": {},
   "outputs": [
    {
     "data": {
      "text/plain": [
       "RObject{StrSxp}\n",
       "[1] \"sim_glmm_updated_msefacetplot_poisson.png\"\n"
      ]
     },
     "execution_count": 13,
     "metadata": {},
     "output_type": "execute_result"
    }
   ],
   "source": [
    "R\"\"\"\n",
    "ggsave('sim_glmm_updated_msefacetplot_poisson.png', mseplot, width = 12.5, height = 15, units = 'in', dpi = 450)\n",
    "\"\"\""
   ]
  },
  {
   "cell_type": "code",
   "execution_count": null,
   "metadata": {},
   "outputs": [],
   "source": []
  },
  {
   "cell_type": "code",
   "execution_count": null,
   "metadata": {},
   "outputs": [],
   "source": []
  }
 ],
 "metadata": {
  "@webio": {
   "lastCommId": null,
   "lastKernelId": null
  },
  "kernelspec": {
   "display_name": "Julia 1.6.2",
   "language": "julia",
   "name": "julia-1.6"
  },
  "language_info": {
   "file_extension": ".jl",
   "mimetype": "application/julia",
   "name": "julia",
   "version": "1.6.2"
  }
 },
 "nbformat": 4,
 "nbformat_minor": 2
}
