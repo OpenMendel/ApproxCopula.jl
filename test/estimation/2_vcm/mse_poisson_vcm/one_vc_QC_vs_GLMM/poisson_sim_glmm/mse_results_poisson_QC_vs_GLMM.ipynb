{
 "cells": [
  {
   "cell_type": "markdown",
   "metadata": {},
   "source": [
    "## Poisson VCM Results \n",
    "\n",
    "This notebook goes over the code needed to reproduce the results from the MSE and time figures for the Poisson base distribution with Log Link and covariance matrix $\\Gamma$ structured under variance component model framework as follows:\n",
    "\n",
    "$$\n",
    "\\Gamma = 0.05 * \\mathbf{1_{n} 1_{n}^\\top}\n",
    "$$\n",
    "\n",
    "In this example simulate three fixed effects under GLMM with $\\beta \\sim$ randn(Uniform(-0.2, 0.2), p) where p = 3 fixed effects.\n",
    "\n",
    "We run each scenario 100 times and compare the fit of ours with that of GLMM's random intercept model from MixedModels.jl. "
   ]
  },
  {
   "cell_type": "code",
   "execution_count": 1,
   "metadata": {},
   "outputs": [
    {
     "name": "stdout",
     "output_type": "stream",
     "text": [
      "Julia Version 1.6.2\n",
      "Commit 1b93d53fc4 (2021-07-14 15:36 UTC)\n",
      "Platform Info:\n",
      "  OS: macOS (x86_64-apple-darwin18.7.0)\n",
      "  CPU: Intel(R) Core(TM) i9-9880H CPU @ 2.30GHz\n",
      "  WORD_SIZE: 64\n",
      "  LIBM: libopenlibm\n",
      "  LLVM: libLLVM-11.0.1 (ORCJIT, skylake)\n"
     ]
    }
   ],
   "source": [
    "versioninfo()"
   ]
  },
  {
   "cell_type": "code",
   "execution_count": 2,
   "metadata": {},
   "outputs": [
    {
     "name": "stderr",
     "output_type": "stream",
     "text": [
      "┌ Info: Precompiling GLMCopula [c47b6ae2-b804-4668-9957-eb588c99ffbc]\n",
      "└ @ Base loading.jl:1342\n"
     ]
    }
   ],
   "source": [
    "using GLMCopula, DelimitedFiles, LinearAlgebra, Random, GLM\n",
    "using Random, Roots, SpecialFunctions, DataFrames"
   ]
  },
  {
   "cell_type": "code",
   "execution_count": 3,
   "metadata": {},
   "outputs": [
    {
     "data": {
      "text/plain": [
       "5"
      ]
     },
     "execution_count": 3,
     "metadata": {},
     "output_type": "execute_result"
    }
   ],
   "source": [
    "p = 3    # number of fixed effects, including intercept\n",
    "m = 1    # number of variance components\n",
    "# true parameter values\n",
    "Random.seed!(12345)\n",
    "βtrue = rand(Uniform(-0.2, 0.2), p)\n",
    "θtrue = [0.2]\n",
    "\n",
    "# generate data\n",
    "intervals = zeros(p + m, 2) #hold intervals\n",
    "curcoverage = zeros(p + m) #hold current coverage resutls\n",
    "trueparams = [βtrue; θtrue] #hold true parameters\n",
    "\n",
    "#simulation parameters\n",
    "samplesizes = [100; 1000; 10000]\n",
    "ns = [2; 5; 10; 15; 20; 25]\n",
    "nsims = 5"
   ]
  },
  {
   "cell_type": "code",
   "execution_count": 4,
   "metadata": {},
   "outputs": [
    {
     "name": "stderr",
     "output_type": "stream",
     "text": [
      "┌ Info: reading in the files with results\n",
      "└ @ Main In[4]:1\n"
     ]
    },
    {
     "data": {
      "text/plain": [
       "90-element Vector{Float64}:\n",
       " 0.026967087\n",
       " 0.021373924\n",
       " 0.022689454\n",
       " 0.034130267\n",
       " 0.019812179\n",
       " 0.020415856\n",
       " 0.017676938\n",
       " 0.014960241\n",
       " 0.017121489\n",
       " 0.018788266\n",
       " 0.030449357\n",
       " 0.030578307\n",
       " 0.028911409\n",
       " ⋮\n",
       " 1.073743674\n",
       " 1.157252942\n",
       " 1.225307144\n",
       " 1.450916539\n",
       " 1.634122536\n",
       " 1.398795765\n",
       " 1.237329668\n",
       " 1.715517304\n",
       " 1.58327796\n",
       " 1.989887948\n",
       " 1.606218157\n",
       " 1.551084875"
      ]
     },
     "execution_count": 4,
     "metadata": {},
     "output_type": "execute_result"
    }
   ],
   "source": [
    "@info \"reading in the files with results\"\n",
    "βMseresult = vec(readdlm(\"mse_beta_multivariate_poisson_vcm$(nsims)reps_sim.csv\", ','))\n",
    "θMseresult = vec(readdlm(\"mse_Sigma_multivariate_poisson_vcm$(nsims)reps_sim.csv\", ','))\n",
    "fittimes_QC = vec(readdlm(\"fittimes_multivariate_poisson_vcm$(nsims)reps_sim.csv\", ','))"
   ]
  },
  {
   "cell_type": "code",
   "execution_count": 5,
   "metadata": {},
   "outputs": [
    {
     "ename": "LoadError",
     "evalue": "ArgumentError: Cannot open 'fittimes_GLMM_multivariate_poisson_vcm5reps_sim.csv': not a file",
     "output_type": "error",
     "traceback": [
      "ArgumentError: Cannot open 'fittimes_GLMM_multivariate_poisson_vcm5reps_sim.csv': not a file",
      "",
      "Stacktrace:",
      " [1] readdlm_auto(input::String, dlm::Char, T::Type, eol::Char, auto::Bool; opts::Base.Iterators.Pairs{Union{}, Union{}, Tuple{}, NamedTuple{(), Tuple{}}})",
      "   @ DelimitedFiles /Users/julia/buildbot/worker/package_macos64/build/usr/share/julia/stdlib/v1.6/DelimitedFiles/src/DelimitedFiles.jl:233",
      " [2] readdlm_auto",
      "   @ /Users/julia/buildbot/worker/package_macos64/build/usr/share/julia/stdlib/v1.6/DelimitedFiles/src/DelimitedFiles.jl:233 [inlined]",
      " [3] #readdlm#5",
      "   @ /Users/julia/buildbot/worker/package_macos64/build/usr/share/julia/stdlib/v1.6/DelimitedFiles/src/DelimitedFiles.jl:170 [inlined]",
      " [4] readdlm",
      "   @ /Users/julia/buildbot/worker/package_macos64/build/usr/share/julia/stdlib/v1.6/DelimitedFiles/src/DelimitedFiles.jl:170 [inlined]",
      " [5] #readdlm#4",
      "   @ /Users/julia/buildbot/worker/package_macos64/build/usr/share/julia/stdlib/v1.6/DelimitedFiles/src/DelimitedFiles.jl:162 [inlined]",
      " [6] readdlm(input::String, dlm::Char)",
      "   @ DelimitedFiles /Users/julia/buildbot/worker/package_macos64/build/usr/share/julia/stdlib/v1.6/DelimitedFiles/src/DelimitedFiles.jl:162",
      " [7] top-level scope",
      "   @ In[5]:1",
      " [8] eval",
      "   @ ./boot.jl:360 [inlined]",
      " [9] include_string(mapexpr::typeof(REPL.softscope), mod::Module, code::String, filename::String)",
      "   @ Base ./loading.jl:1116"
     ]
    }
   ],
   "source": [
    "fittimes_GLMM = vec(readdlm(\"fittimes_GLMM_multivariate_poisson_vcm$(nsims)reps_sim.csv\", ','))"
   ]
  },
  {
   "cell_type": "code",
   "execution_count": 6,
   "metadata": {},
   "outputs": [
    {
     "name": "stderr",
     "output_type": "stream",
     "text": [
      "┌ Info: making results table Quasi-Copula\n",
      "└ @ Main In[6]:2\n"
     ]
    },
    {
     "data": {
      "text/html": [
       "<div class=\"data-frame\"><p>18 rows × 8 columns</p><table class=\"data-frame\"><thead><tr><th></th><th>samplesize</th><th>obssize</th><th>fittime</th><th>se</th><th>nobs</th><th>fitmin</th><th>fitmax</th><th>perobsratio</th></tr><tr><th></th><th title=\"String\">String</th><th title=\"String\">String</th><th title=\"Float64\">Float64</th><th title=\"Float64\">Float64</th><th title=\"Int64\">Int64</th><th title=\"Float64\">Float64</th><th title=\"Float64\">Float64</th><th title=\"Float64\">Float64</th></tr></thead><tbody><tr><th>1</th><td>100</td><td>2</td><td>0.0249946</td><td>0.00257519</td><td>200</td><td>0.0224194</td><td>0.030145</td><td>0.000124973</td></tr><tr><th>2</th><td>100</td><td>5</td><td>0.0177926</td><td>0.000904402</td><td>500</td><td>0.0168882</td><td>0.0196014</td><td>3.55851e-5</td></tr><tr><th>3</th><td>100</td><td>10</td><td>0.0284984</td><td>0.00187749</td><td>1000</td><td>0.0266209</td><td>0.0322534</td><td>2.84984e-5</td></tr><tr><th>4</th><td>100</td><td>15</td><td>0.024517</td><td>0.00267185</td><td>1500</td><td>0.0218451</td><td>0.0298607</td><td>1.63447e-5</td></tr><tr><th>5</th><td>100</td><td>20</td><td>0.0323394</td><td>0.00122848</td><td>2000</td><td>0.0311109</td><td>0.0347964</td><td>1.61697e-5</td></tr><tr><th>6</th><td>100</td><td>25</td><td>0.0394184</td><td>0.0030559</td><td>2500</td><td>0.0363625</td><td>0.0455302</td><td>1.57674e-5</td></tr><tr><th>7</th><td>1000</td><td>2</td><td>0.0387225</td><td>0.00170989</td><td>2000</td><td>0.0370126</td><td>0.0421422</td><td>1.93612e-5</td></tr><tr><th>8</th><td>1000</td><td>5</td><td>0.0488963</td><td>0.00254582</td><td>5000</td><td>0.0463505</td><td>0.0539879</td><td>9.77926e-6</td></tr><tr><th>9</th><td>1000</td><td>10</td><td>0.0709215</td><td>0.00309487</td><td>10000</td><td>0.0678266</td><td>0.0771112</td><td>7.09215e-6</td></tr><tr><th>10</th><td>1000</td><td>15</td><td>0.104825</td><td>0.00318761</td><td>15000</td><td>0.101638</td><td>0.111201</td><td>6.98835e-6</td></tr><tr><th>11</th><td>1000</td><td>20</td><td>0.129449</td><td>0.00627278</td><td>20000</td><td>0.123177</td><td>0.141995</td><td>6.47247e-6</td></tr><tr><th>12</th><td>1000</td><td>25</td><td>0.166387</td><td>0.00570422</td><td>25000</td><td>0.160682</td><td>0.177795</td><td>6.65546e-6</td></tr><tr><th>13</th><td>10000</td><td>2</td><td>0.33381</td><td>0.00927087</td><td>20000</td><td>0.324539</td><td>0.352352</td><td>1.66905e-5</td></tr><tr><th>14</th><td>10000</td><td>5</td><td>0.496462</td><td>0.0272305</td><td>50000</td><td>0.469231</td><td>0.550923</td><td>9.92923e-6</td></tr><tr><th>15</th><td>10000</td><td>10</td><td>0.792332</td><td>0.039669</td><td>100000</td><td>0.752664</td><td>0.87167</td><td>7.92332e-6</td></tr><tr><th>16</th><td>10000</td><td>15</td><td>1.06101</td><td>0.02859</td><td>150000</td><td>1.03242</td><td>1.11819</td><td>7.07342e-6</td></tr><tr><th>17</th><td>10000</td><td>20</td><td>1.38929</td><td>0.0754366</td><td>200000</td><td>1.31386</td><td>1.54017</td><td>6.94647e-6</td></tr><tr><th>18</th><td>10000</td><td>25</td><td>1.6892</td><td>0.0800897</td><td>250000</td><td>1.60911</td><td>1.84938</td><td>6.75679e-6</td></tr></tbody></table></div>"
      ],
      "text/latex": [
       "\\begin{tabular}{r|cccccccc}\n",
       "\t& samplesize & obssize & fittime & se & nobs & fitmin & fitmax & perobsratio\\\\\n",
       "\t\\hline\n",
       "\t& String & String & Float64 & Float64 & Int64 & Float64 & Float64 & Float64\\\\\n",
       "\t\\hline\n",
       "\t1 & 100 & 2 & 0.0249946 & 0.00257519 & 200 & 0.0224194 & 0.030145 & 0.000124973 \\\\\n",
       "\t2 & 100 & 5 & 0.0177926 & 0.000904402 & 500 & 0.0168882 & 0.0196014 & 3.55851e-5 \\\\\n",
       "\t3 & 100 & 10 & 0.0284984 & 0.00187749 & 1000 & 0.0266209 & 0.0322534 & 2.84984e-5 \\\\\n",
       "\t4 & 100 & 15 & 0.024517 & 0.00267185 & 1500 & 0.0218451 & 0.0298607 & 1.63447e-5 \\\\\n",
       "\t5 & 100 & 20 & 0.0323394 & 0.00122848 & 2000 & 0.0311109 & 0.0347964 & 1.61697e-5 \\\\\n",
       "\t6 & 100 & 25 & 0.0394184 & 0.0030559 & 2500 & 0.0363625 & 0.0455302 & 1.57674e-5 \\\\\n",
       "\t7 & 1000 & 2 & 0.0387225 & 0.00170989 & 2000 & 0.0370126 & 0.0421422 & 1.93612e-5 \\\\\n",
       "\t8 & 1000 & 5 & 0.0488963 & 0.00254582 & 5000 & 0.0463505 & 0.0539879 & 9.77926e-6 \\\\\n",
       "\t9 & 1000 & 10 & 0.0709215 & 0.00309487 & 10000 & 0.0678266 & 0.0771112 & 7.09215e-6 \\\\\n",
       "\t10 & 1000 & 15 & 0.104825 & 0.00318761 & 15000 & 0.101638 & 0.111201 & 6.98835e-6 \\\\\n",
       "\t11 & 1000 & 20 & 0.129449 & 0.00627278 & 20000 & 0.123177 & 0.141995 & 6.47247e-6 \\\\\n",
       "\t12 & 1000 & 25 & 0.166387 & 0.00570422 & 25000 & 0.160682 & 0.177795 & 6.65546e-6 \\\\\n",
       "\t13 & 10000 & 2 & 0.33381 & 0.00927087 & 20000 & 0.324539 & 0.352352 & 1.66905e-5 \\\\\n",
       "\t14 & 10000 & 5 & 0.496462 & 0.0272305 & 50000 & 0.469231 & 0.550923 & 9.92923e-6 \\\\\n",
       "\t15 & 10000 & 10 & 0.792332 & 0.039669 & 100000 & 0.752664 & 0.87167 & 7.92332e-6 \\\\\n",
       "\t16 & 10000 & 15 & 1.06101 & 0.02859 & 150000 & 1.03242 & 1.11819 & 7.07342e-6 \\\\\n",
       "\t17 & 10000 & 20 & 1.38929 & 0.0754366 & 200000 & 1.31386 & 1.54017 & 6.94647e-6 \\\\\n",
       "\t18 & 10000 & 25 & 1.6892 & 0.0800897 & 250000 & 1.60911 & 1.84938 & 6.75679e-6 \\\\\n",
       "\\end{tabular}\n"
      ],
      "text/plain": [
       "\u001b[1m18×8 DataFrame\u001b[0m\n",
       "\u001b[1m Row \u001b[0m│\u001b[1m samplesize \u001b[0m\u001b[1m obssize \u001b[0m\u001b[1m fittime   \u001b[0m\u001b[1m se          \u001b[0m\u001b[1m nobs   \u001b[0m\u001b[1m fitmin    \u001b[0m\u001b[1m fitmax \u001b[0m ⋯\n",
       "\u001b[1m     \u001b[0m│\u001b[90m String     \u001b[0m\u001b[90m String  \u001b[0m\u001b[90m Float64   \u001b[0m\u001b[90m Float64     \u001b[0m\u001b[90m Int64  \u001b[0m\u001b[90m Float64   \u001b[0m\u001b[90m Float64\u001b[0m ⋯\n",
       "─────┼──────────────────────────────────────────────────────────────────────────\n",
       "   1 │ 100         2        0.0249946  0.00257519      200  0.0224194  0.03014 ⋯\n",
       "   2 │ 100         5        0.0177926  0.000904402     500  0.0168882  0.01960\n",
       "   3 │ 100         10       0.0284984  0.00187749     1000  0.0266209  0.03225\n",
       "   4 │ 100         15       0.024517   0.00267185     1500  0.0218451  0.02986\n",
       "   5 │ 100         20       0.0323394  0.00122848     2000  0.0311109  0.03479 ⋯\n",
       "   6 │ 100         25       0.0394184  0.0030559      2500  0.0363625  0.04553\n",
       "   7 │ 1000        2        0.0387225  0.00170989     2000  0.0370126  0.04214\n",
       "   8 │ 1000        5        0.0488963  0.00254582     5000  0.0463505  0.05398\n",
       "   9 │ 1000        10       0.0709215  0.00309487    10000  0.0678266  0.07711 ⋯\n",
       "  10 │ 1000        15       0.104825   0.00318761    15000  0.101638   0.11120\n",
       "  11 │ 1000        20       0.129449   0.00627278    20000  0.123177   0.14199\n",
       "  12 │ 1000        25       0.166387   0.00570422    25000  0.160682   0.17779\n",
       "  13 │ 10000       2        0.33381    0.00927087    20000  0.324539   0.35235 ⋯\n",
       "  14 │ 10000       5        0.496462   0.0272305     50000  0.469231   0.55092\n",
       "  15 │ 10000       10       0.792332   0.039669     100000  0.752664   0.87167\n",
       "  16 │ 10000       15       1.06101    0.02859      150000  1.03242    1.11819\n",
       "  17 │ 10000       20       1.38929    0.0754366    200000  1.31386    1.54017 ⋯\n",
       "  18 │ 10000       25       1.6892     0.0800897    250000  1.60911    1.84938\n",
       "\u001b[36m                                                               2 columns omitted\u001b[0m"
      ]
     },
     "execution_count": 6,
     "metadata": {},
     "output_type": "execute_result"
    }
   ],
   "source": [
    "#simulation parameters\n",
    "@info \"making results table Quasi-Copula\"\n",
    "sample_sizes = repeat(string.(samplesizes), inner = nsims * length(ns))\n",
    "obs_sizes = repeat(string.(ns), inner = nsims, outer = length(samplesizes))\n",
    "\n",
    "msedf = DataFrame(samplesize = sample_sizes, obssize = obs_sizes, fittimes = fittimes_QC)\n",
    "timedf1 = combine(groupby(msedf, [:samplesize, :obssize]), :fittimes => mean => :fittime,\n",
    "    :fittimes => x -> (std(x)/sqrt(length(x))))\n",
    "rename!(timedf1, Dict(:fittimes_function => \"se\"))\n",
    "timedf1[!, :nobs] = Meta.parse.(timedf1[!, :samplesize]) .* Meta.parse.(timedf1[!, :obssize])\n",
    "timedf1[!, :fitmin] = timedf1[!, :fittime] - timedf1[!, :se]\n",
    "timedf1[!, :fitmax] = timedf1[!, :fittime] + 2 * timedf1[!, :se]\n",
    "timedf1[!, :perobsratio] = timedf1[!, :fittime] ./ timedf1[!, :nobs]\n",
    "timedf1"
   ]
  },
  {
   "cell_type": "code",
   "execution_count": 7,
   "metadata": {},
   "outputs": [
    {
     "name": "stderr",
     "output_type": "stream",
     "text": [
      "┌ Info: making results table GLMM\n",
      "└ @ Main In[7]:2\n"
     ]
    },
    {
     "data": {
      "text/html": [
       "<div class=\"data-frame\"><p>18 rows × 8 columns</p><table class=\"data-frame\"><thead><tr><th></th><th>samplesize</th><th>obssize</th><th>fittime</th><th>se</th><th>nobs</th><th>fitmin</th><th>fitmax</th><th>perobsratio</th></tr><tr><th></th><th title=\"String\">String</th><th title=\"String\">String</th><th title=\"Float64\">Float64</th><th title=\"Float64\">Float64</th><th title=\"Int64\">Int64</th><th title=\"Float64\">Float64</th><th title=\"Float64\">Float64</th><th title=\"Float64\">Float64</th></tr></thead><tbody><tr><th>1</th><td>100</td><td>2</td><td>0.0311913</td><td>0.0033823</td><td>200</td><td>0.027809</td><td>0.0345736</td><td>0.000155957</td></tr><tr><th>2</th><td>100</td><td>5</td><td>0.0720473</td><td>0.00313516</td><td>500</td><td>0.0689121</td><td>0.0751824</td><td>0.000144095</td></tr><tr><th>3</th><td>100</td><td>10</td><td>0.1464</td><td>0.00632991</td><td>1000</td><td>0.140071</td><td>0.15273</td><td>0.0001464</td></tr><tr><th>4</th><td>100</td><td>15</td><td>0.233226</td><td>0.00725546</td><td>1500</td><td>0.225971</td><td>0.240481</td><td>0.000155484</td></tr><tr><th>5</th><td>100</td><td>20</td><td>0.320999</td><td>0.0172653</td><td>2000</td><td>0.303733</td><td>0.338264</td><td>0.000160499</td></tr><tr><th>6</th><td>100</td><td>25</td><td>0.369097</td><td>0.00900802</td><td>2500</td><td>0.360089</td><td>0.378105</td><td>0.000147639</td></tr><tr><th>7</th><td>1000</td><td>2</td><td>0.2562</td><td>0.00675333</td><td>2000</td><td>0.249447</td><td>0.262954</td><td>0.0001281</td></tr><tr><th>8</th><td>1000</td><td>5</td><td>0.809164</td><td>0.0175703</td><td>5000</td><td>0.791593</td><td>0.826734</td><td>0.000161833</td></tr><tr><th>9</th><td>1000</td><td>10</td><td>1.59196</td><td>0.0273481</td><td>10000</td><td>1.56461</td><td>1.6193</td><td>0.000159196</td></tr><tr><th>10</th><td>1000</td><td>15</td><td>2.28872</td><td>0.0463164</td><td>15000</td><td>2.2424</td><td>2.33503</td><td>0.000152581</td></tr><tr><th>11</th><td>1000</td><td>20</td><td>3.20261</td><td>0.0587599</td><td>20000</td><td>3.14385</td><td>3.26137</td><td>0.00016013</td></tr><tr><th>12</th><td>1000</td><td>25</td><td>3.8717</td><td>0.0696932</td><td>25000</td><td>3.802</td><td>3.94139</td><td>0.000154868</td></tr><tr><th>13</th><td>10000</td><td>2</td><td>2.61961</td><td>0.0445714</td><td>20000</td><td>2.57504</td><td>2.66418</td><td>0.000130981</td></tr><tr><th>14</th><td>10000</td><td>5</td><td>6.57711</td><td>0.0960111</td><td>50000</td><td>6.4811</td><td>6.67313</td><td>0.000131542</td></tr><tr><th>15</th><td>10000</td><td>10</td><td>15.587</td><td>0.23947</td><td>100000</td><td>15.3475</td><td>15.8265</td><td>0.00015587</td></tr><tr><th>16</th><td>10000</td><td>15</td><td>23.9947</td><td>0.40852</td><td>150000</td><td>23.5862</td><td>24.4033</td><td>0.000159965</td></tr><tr><th>17</th><td>10000</td><td>20</td><td>32.9921</td><td>0.620318</td><td>200000</td><td>32.3717</td><td>33.6124</td><td>0.00016496</td></tr><tr><th>18</th><td>10000</td><td>25</td><td>39.457</td><td>0.767132</td><td>250000</td><td>38.6899</td><td>40.2242</td><td>0.000157828</td></tr></tbody></table></div>"
      ],
      "text/latex": [
       "\\begin{tabular}{r|cccccccc}\n",
       "\t& samplesize & obssize & fittime & se & nobs & fitmin & fitmax & perobsratio\\\\\n",
       "\t\\hline\n",
       "\t& String & String & Float64 & Float64 & Int64 & Float64 & Float64 & Float64\\\\\n",
       "\t\\hline\n",
       "\t1 & 100 & 2 & 0.0311913 & 0.0033823 & 200 & 0.027809 & 0.0345736 & 0.000155957 \\\\\n",
       "\t2 & 100 & 5 & 0.0720473 & 0.00313516 & 500 & 0.0689121 & 0.0751824 & 0.000144095 \\\\\n",
       "\t3 & 100 & 10 & 0.1464 & 0.00632991 & 1000 & 0.140071 & 0.15273 & 0.0001464 \\\\\n",
       "\t4 & 100 & 15 & 0.233226 & 0.00725546 & 1500 & 0.225971 & 0.240481 & 0.000155484 \\\\\n",
       "\t5 & 100 & 20 & 0.320999 & 0.0172653 & 2000 & 0.303733 & 0.338264 & 0.000160499 \\\\\n",
       "\t6 & 100 & 25 & 0.369097 & 0.00900802 & 2500 & 0.360089 & 0.378105 & 0.000147639 \\\\\n",
       "\t7 & 1000 & 2 & 0.2562 & 0.00675333 & 2000 & 0.249447 & 0.262954 & 0.0001281 \\\\\n",
       "\t8 & 1000 & 5 & 0.809164 & 0.0175703 & 5000 & 0.791593 & 0.826734 & 0.000161833 \\\\\n",
       "\t9 & 1000 & 10 & 1.59196 & 0.0273481 & 10000 & 1.56461 & 1.6193 & 0.000159196 \\\\\n",
       "\t10 & 1000 & 15 & 2.28872 & 0.0463164 & 15000 & 2.2424 & 2.33503 & 0.000152581 \\\\\n",
       "\t11 & 1000 & 20 & 3.20261 & 0.0587599 & 20000 & 3.14385 & 3.26137 & 0.00016013 \\\\\n",
       "\t12 & 1000 & 25 & 3.8717 & 0.0696932 & 25000 & 3.802 & 3.94139 & 0.000154868 \\\\\n",
       "\t13 & 10000 & 2 & 2.61961 & 0.0445714 & 20000 & 2.57504 & 2.66418 & 0.000130981 \\\\\n",
       "\t14 & 10000 & 5 & 6.57711 & 0.0960111 & 50000 & 6.4811 & 6.67313 & 0.000131542 \\\\\n",
       "\t15 & 10000 & 10 & 15.587 & 0.23947 & 100000 & 15.3475 & 15.8265 & 0.00015587 \\\\\n",
       "\t16 & 10000 & 15 & 23.9947 & 0.40852 & 150000 & 23.5862 & 24.4033 & 0.000159965 \\\\\n",
       "\t17 & 10000 & 20 & 32.9921 & 0.620318 & 200000 & 32.3717 & 33.6124 & 0.00016496 \\\\\n",
       "\t18 & 10000 & 25 & 39.457 & 0.767132 & 250000 & 38.6899 & 40.2242 & 0.000157828 \\\\\n",
       "\\end{tabular}\n"
      ],
      "text/plain": [
       "\u001b[1m18×8 DataFrame\u001b[0m\n",
       "\u001b[1m Row \u001b[0m│\u001b[1m samplesize \u001b[0m\u001b[1m obssize \u001b[0m\u001b[1m fittime    \u001b[0m\u001b[1m se         \u001b[0m\u001b[1m nobs   \u001b[0m\u001b[1m fitmin     \u001b[0m\u001b[1m fitmax\u001b[0m ⋯\n",
       "\u001b[1m     \u001b[0m│\u001b[90m String     \u001b[0m\u001b[90m String  \u001b[0m\u001b[90m Float64    \u001b[0m\u001b[90m Float64    \u001b[0m\u001b[90m Int64  \u001b[0m\u001b[90m Float64    \u001b[0m\u001b[90m Float6\u001b[0m ⋯\n",
       "─────┼──────────────────────────────────────────────────────────────────────────\n",
       "   1 │ 100         2         0.0311913  0.0033823      200   0.027809    0.034 ⋯\n",
       "   2 │ 100         5         0.0720473  0.00313516     500   0.0689121   0.075\n",
       "   3 │ 100         10        0.1464     0.00632991    1000   0.140071    0.152\n",
       "   4 │ 100         15        0.233226   0.00725546    1500   0.225971    0.240\n",
       "   5 │ 100         20        0.320999   0.0172653     2000   0.303733    0.338 ⋯\n",
       "   6 │ 100         25        0.369097   0.00900802    2500   0.360089    0.378\n",
       "   7 │ 1000        2         0.2562     0.00675333    2000   0.249447    0.262\n",
       "   8 │ 1000        5         0.809164   0.0175703     5000   0.791593    0.826\n",
       "   9 │ 1000        10        1.59196    0.0273481    10000   1.56461     1.619 ⋯\n",
       "  10 │ 1000        15        2.28872    0.0463164    15000   2.2424      2.335\n",
       "  11 │ 1000        20        3.20261    0.0587599    20000   3.14385     3.261\n",
       "  12 │ 1000        25        3.8717     0.0696932    25000   3.802       3.941\n",
       "  13 │ 10000       2         2.61961    0.0445714    20000   2.57504     2.664 ⋯\n",
       "  14 │ 10000       5         6.57711    0.0960111    50000   6.4811      6.673\n",
       "  15 │ 10000       10       15.587      0.23947     100000  15.3475     15.826\n",
       "  16 │ 10000       15       23.9947     0.40852     150000  23.5862     24.403\n",
       "  17 │ 10000       20       32.9921     0.620318    200000  32.3717     33.612 ⋯\n",
       "  18 │ 10000       25       39.457      0.767132    250000  38.6899     40.224\n",
       "\u001b[36m                                                               2 columns omitted\u001b[0m"
      ]
     },
     "execution_count": 7,
     "metadata": {},
     "output_type": "execute_result"
    }
   ],
   "source": [
    "#simulation parameters\n",
    "@info \"making results table GLMM\"\n",
    "sample_sizes = repeat(string.(samplesizes), inner = nsims * length(ns))\n",
    "obs_sizes = repeat(string.(ns), inner = nsims, outer = length(samplesizes))\n",
    "\n",
    "msedf = DataFrame(samplesize = sample_sizes, obssize = obs_sizes, fittimes = fittimes_GLMM)\n",
    "timedf2 = combine(groupby(msedf, [:samplesize, :obssize]), :fittimes => mean => :fittime,\n",
    "    :fittimes => x -> (std(x)/sqrt(length(x))))\n",
    "rename!(timedf2, Dict(:fittimes_function => \"se\"))\n",
    "timedf2[!, :nobs] = Meta.parse.(timedf2[!, :samplesize]) .* Meta.parse.(timedf2[!, :obssize])\n",
    "timedf2[!, :fitmin] = timedf2[!, :fittime] - timedf2[!, :se]\n",
    "timedf2[!, :fitmax] = timedf2[!, :fittime] + timedf2[!, :se]\n",
    "timedf2[!, :perobsratio] = timedf2[!, :fittime] ./ timedf2[!, :nobs]\n",
    "timedf2"
   ]
  },
  {
   "cell_type": "code",
   "execution_count": 9,
   "metadata": {},
   "outputs": [
    {
     "name": "stderr",
     "output_type": "stream",
     "text": [
      "┌ Warning: RCall.jl: Warning: package ‘ggplot2’ was built under R version 4.0.2\n",
      "└ @ RCall /Users/sarahji/.julia/packages/RCall/iMDW2/src/io.jl:160\n",
      "┌ Warning: RCall.jl: Warning: package ‘cowplot’ was built under R version 4.0.2\n",
      "└ @ RCall /Users/sarahji/.julia/packages/RCall/iMDW2/src/io.jl:160\n"
     ]
    },
    {
     "data": {
      "image/png": "[encoded data removed]"
     },
     "metadata": {},
     "output_type": "display_data"
    },
    {
     "data": {
      "text/plain": [
       "RObject{VecSxp}\n"
      ]
     },
     "execution_count": 9,
     "metadata": {},
     "output_type": "execute_result"
    }
   ],
   "source": [
    "########### plot the runtimes\n",
    "using RCall\n",
    "@rput timedf1\n",
    "# @rput timedf2\n",
    "R\"\"\"\n",
    "library(ggplot2)\n",
    "library(cowplot)\n",
    "timedf1$obssize = factor(timedf1$obssize, levels = c('2', '5', '10', '15', '20', '25'))\n",
    "timedf1$samplesize = factor(timedf1$samplesize, levels = c('100', '1000', '10000'))\n",
    "\n",
    "fittime_1 = ggplot(timedf1, aes(x = samplesize, y = fittime, group = obssize, color = obssize)) + \n",
    "  geom_line() +\n",
    "  geom_point()+\n",
    "  geom_errorbar(aes(ymin=fitmin, ymax=fitmax), width=0.5, alpha = 0.8, position=position_dodge(0.005)) + \n",
    "  theme(legend.position=c(0.3,0.85), legend.key = element_blank(), axis.text.x = element_text(angle=0, size=13),\n",
    "        axis.text.y = element_text(angle=0, size=13), axis.title.x = element_text(size = 17), \n",
    "        axis.title.y = element_text(size = 17), legend.title = element_text(size = 14),\n",
    "        #axis.ticks = element_blank(),\n",
    "        panel.grid.major = element_blank(), legend.text=element_text(size=13),\n",
    "        panel.border = element_blank(), panel.grid.minor = element_blank(), panel.background = element_blank(), \n",
    "        axis.line = element_line(color = 'black',size=0.3), plot.title = element_text(hjust = 0.5)) + \n",
    "   scale_color_manual(values = c(\"#c85f55\",\n",
    "\"#a964bf\",\n",
    "\"#8db352\",\n",
    "\"#fa7300\",\n",
    "\"#05aec0\",\n",
    "\"#ff1493\")) +\n",
    "  labs(x = \"Number of Individuals\", y = \"Fit time (seconds)\", color = \"Obs per Individual\")\n",
    "\n",
    "\n",
    "timedf2$obssize = factor(timedf2$obssize, levels = c('2', '5', '10', '15', '20', '25'))\n",
    "timedf2$samplesize = factor(timedf2$samplesize, levels = c('100', '1000', '10000'))\n",
    "\n",
    "fittime_2 = ggplot(timedf2, aes(x = samplesize, y = fittime, group = obssize, color = obssize)) + \n",
    "  geom_line() +\n",
    "  geom_point()+\n",
    "  geom_errorbar(aes(ymin=fitmin, ymax=fitmax), width=0.5, alpha = 0.8, position=position_dodge(0.005)) + \n",
    "  theme(legend.position=c(0.3,0.85), legend.key = element_blank(), axis.text.x = element_text(angle=0, size=13),\n",
    "        axis.text.y = element_text(angle=0, size=13), axis.title.x = element_text(size = 17), \n",
    "        axis.title.y = element_text(size = 17), legend.title = element_text(size = 14),\n",
    "        #axis.ticks = element_blank(),\n",
    "        panel.grid.major = element_blank(), legend.text=element_text(size=13),\n",
    "        panel.border = element_blank(), panel.grid.minor = element_blank(), panel.background = element_blank(), \n",
    "        axis.line = element_line(color = 'black',size=0.3), plot.title = element_text(hjust = 0.5)) + \n",
    "   scale_color_manual(values = c(\"#c85f55\",\n",
    "\"#a964bf\",\n",
    "\"#8db352\",\n",
    "\"#fa7300\",\n",
    "\"#05aec0\",\n",
    "\"#ff1493\")) +\n",
    "  labs(x = \"Number of Individuals\", y = \"Fit time (seconds)\", color = \"Obs per Individual\")\n",
    "\n",
    "fittime_nsamples = plot_grid(fittime_1, fittime_2, labels = c(\"Quasi-Copula\", \"GLMM\"))\n",
    "\"\"\"\n"
   ]
  },
  {
   "cell_type": "code",
   "execution_count": null,
   "metadata": {},
   "outputs": [],
   "source": [
    "R\"\"\"\n",
    "ggsave('sim_glmm_fittime_nsamples_poisson_vs_glmm.png', fittime_nsamples, width = 15, height = 17, units = 'in', dpi = 450)\n",
    "\"\"\""
   ]
  },
  {
   "cell_type": "code",
   "execution_count": 10,
   "metadata": {},
   "outputs": [
    {
     "data": {
      "text/html": [
       "<div class=\"data-frame\"><p>18 rows × 5 columns</p><table class=\"data-frame\"><thead><tr><th></th><th>people_obs</th><th>β1</th><th>β2</th><th>β3</th><th>θ1</th></tr><tr><th></th><th title=\"String\">String</th><th title=\"Tuple{Float64, Float64}\">Tuple…</th><th title=\"Tuple{Float64, Float64}\">Tuple…</th><th title=\"Tuple{Float64, Float64}\">Tuple…</th><th title=\"Tuple{Float64, Float64}\">Tuple…</th></tr></thead><tbody><tr><th>1</th><td>N: 100  ni: 2</td><td>(1.0, 0.0)</td><td>(0.8, 0.2)</td><td>(0.8, 0.2)</td><td>(0.8, 0.2)</td></tr><tr><th>2</th><td>N: 100  ni: 5</td><td>(1.0, 0.0)</td><td>(1.0, 0.0)</td><td>(0.8, 0.2)</td><td>(1.0, 0.0)</td></tr><tr><th>3</th><td>N: 100  ni: 10</td><td>(0.2, 0.2)</td><td>(1.0, 0.0)</td><td>(0.8, 0.2)</td><td>(1.0, 0.0)</td></tr><tr><th>4</th><td>N: 100  ni: 15</td><td>(0.2, 0.2)</td><td>(1.0, 0.0)</td><td>(0.8, 0.2)</td><td>(0.8, 0.2)</td></tr><tr><th>5</th><td>N: 100  ni: 20</td><td>(0.2, 0.2)</td><td>(1.0, 0.0)</td><td>(0.8, 0.2)</td><td>(1.0, 0.0)</td></tr><tr><th>6</th><td>N: 100  ni: 25</td><td>(0.4, 0.244949)</td><td>(0.8, 0.2)</td><td>(0.6, 0.244949)</td><td>(1.0, 0.0)</td></tr><tr><th>7</th><td>N: 1000  ni: 2</td><td>(0.4, 0.244949)</td><td>(0.6, 0.244949)</td><td>(0.6, 0.244949)</td><td>(1.0, 0.0)</td></tr><tr><th>8</th><td>N: 1000  ni: 5</td><td>(0.2, 0.2)</td><td>(0.6, 0.244949)</td><td>(0.8, 0.2)</td><td>(1.0, 0.0)</td></tr><tr><th>9</th><td>N: 1000  ni: 10</td><td>(0.0, 0.0)</td><td>(0.6, 0.244949)</td><td>(1.0, 0.0)</td><td>(0.8, 0.2)</td></tr><tr><th>10</th><td>N: 1000  ni: 15</td><td>(0.0, 0.0)</td><td>(0.8, 0.2)</td><td>(0.8, 0.2)</td><td>(0.2, 0.2)</td></tr><tr><th>11</th><td>N: 1000  ni: 20</td><td>(0.0, 0.0)</td><td>(1.0, 0.0)</td><td>(1.0, 0.0)</td><td>(0.2, 0.2)</td></tr><tr><th>12</th><td>N: 1000  ni: 25</td><td>(0.0, 0.0)</td><td>(0.8, 0.2)</td><td>(1.0, 0.0)</td><td>(0.6, 0.244949)</td></tr><tr><th>13</th><td>N: 10000  ni: 2</td><td>(0.2, 0.2)</td><td>(0.6, 0.244949)</td><td>(0.8, 0.2)</td><td>(0.2, 0.2)</td></tr><tr><th>14</th><td>N: 10000  ni: 5</td><td>(0.0, 0.0)</td><td>(0.8, 0.2)</td><td>(0.8, 0.2)</td><td>(0.0, 0.0)</td></tr><tr><th>15</th><td>N: 10000  ni: 10</td><td>(0.0, 0.0)</td><td>(0.6, 0.244949)</td><td>(0.8, 0.2)</td><td>(0.0, 0.0)</td></tr><tr><th>16</th><td>N: 10000  ni: 15</td><td>(0.0, 0.0)</td><td>(1.0, 0.0)</td><td>(1.0, 0.0)</td><td>(0.0, 0.0)</td></tr><tr><th>17</th><td>N: 10000  ni: 20</td><td>(0.0, 0.0)</td><td>(1.0, 0.0)</td><td>(1.0, 0.0)</td><td>(0.0, 0.0)</td></tr><tr><th>18</th><td>N: 10000  ni: 25</td><td>(0.0, 0.0)</td><td>(1.0, 0.0)</td><td>(0.8, 0.2)</td><td>(0.0, 0.0)</td></tr></tbody></table></div>"
      ],
      "text/latex": [
       "\\begin{tabular}{r|ccccc}\n",
       "\t& people\\_obs & β1 & β2 & β3 & θ1\\\\\n",
       "\t\\hline\n",
       "\t& String & Tuple… & Tuple… & Tuple… & Tuple…\\\\\n",
       "\t\\hline\n",
       "\t1 & N: 100  ni: 2 & (1.0, 0.0) & (0.8, 0.2) & (0.8, 0.2) & (0.8, 0.2) \\\\\n",
       "\t2 & N: 100  ni: 5 & (1.0, 0.0) & (1.0, 0.0) & (0.8, 0.2) & (1.0, 0.0) \\\\\n",
       "\t3 & N: 100  ni: 10 & (0.2, 0.2) & (1.0, 0.0) & (0.8, 0.2) & (1.0, 0.0) \\\\\n",
       "\t4 & N: 100  ni: 15 & (0.2, 0.2) & (1.0, 0.0) & (0.8, 0.2) & (0.8, 0.2) \\\\\n",
       "\t5 & N: 100  ni: 20 & (0.2, 0.2) & (1.0, 0.0) & (0.8, 0.2) & (1.0, 0.0) \\\\\n",
       "\t6 & N: 100  ni: 25 & (0.4, 0.244949) & (0.8, 0.2) & (0.6, 0.244949) & (1.0, 0.0) \\\\\n",
       "\t7 & N: 1000  ni: 2 & (0.4, 0.244949) & (0.6, 0.244949) & (0.6, 0.244949) & (1.0, 0.0) \\\\\n",
       "\t8 & N: 1000  ni: 5 & (0.2, 0.2) & (0.6, 0.244949) & (0.8, 0.2) & (1.0, 0.0) \\\\\n",
       "\t9 & N: 1000  ni: 10 & (0.0, 0.0) & (0.6, 0.244949) & (1.0, 0.0) & (0.8, 0.2) \\\\\n",
       "\t10 & N: 1000  ni: 15 & (0.0, 0.0) & (0.8, 0.2) & (0.8, 0.2) & (0.2, 0.2) \\\\\n",
       "\t11 & N: 1000  ni: 20 & (0.0, 0.0) & (1.0, 0.0) & (1.0, 0.0) & (0.2, 0.2) \\\\\n",
       "\t12 & N: 1000  ni: 25 & (0.0, 0.0) & (0.8, 0.2) & (1.0, 0.0) & (0.6, 0.244949) \\\\\n",
       "\t13 & N: 10000  ni: 2 & (0.2, 0.2) & (0.6, 0.244949) & (0.8, 0.2) & (0.2, 0.2) \\\\\n",
       "\t14 & N: 10000  ni: 5 & (0.0, 0.0) & (0.8, 0.2) & (0.8, 0.2) & (0.0, 0.0) \\\\\n",
       "\t15 & N: 10000  ni: 10 & (0.0, 0.0) & (0.6, 0.244949) & (0.8, 0.2) & (0.0, 0.0) \\\\\n",
       "\t16 & N: 10000  ni: 15 & (0.0, 0.0) & (1.0, 0.0) & (1.0, 0.0) & (0.0, 0.0) \\\\\n",
       "\t17 & N: 10000  ni: 20 & (0.0, 0.0) & (1.0, 0.0) & (1.0, 0.0) & (0.0, 0.0) \\\\\n",
       "\t18 & N: 10000  ni: 25 & (0.0, 0.0) & (1.0, 0.0) & (0.8, 0.2) & (0.0, 0.0) \\\\\n",
       "\\end{tabular}\n"
      ],
      "text/plain": [
       "\u001b[1m18×5 DataFrame\u001b[0m\n",
       "\u001b[1m Row \u001b[0m│\u001b[1m people_obs       \u001b[0m\u001b[1m β1              \u001b[0m\u001b[1m β2              \u001b[0m\u001b[1m β3              \u001b[0m\u001b[1m θ1\u001b[0m ⋯\n",
       "\u001b[1m     \u001b[0m│\u001b[90m String           \u001b[0m\u001b[90m Tuple…          \u001b[0m\u001b[90m Tuple…          \u001b[0m\u001b[90m Tuple…          \u001b[0m\u001b[90m Tu\u001b[0m ⋯\n",
       "─────┼──────────────────────────────────────────────────────────────────────────\n",
       "   1 │ N: 100  ni: 2     (1.0, 0.0)       (0.8, 0.2)       (0.8, 0.2)       (0 ⋯\n",
       "   2 │ N: 100  ni: 5     (1.0, 0.0)       (1.0, 0.0)       (0.8, 0.2)       (1\n",
       "   3 │ N: 100  ni: 10    (0.2, 0.2)       (1.0, 0.0)       (0.8, 0.2)       (1\n",
       "   4 │ N: 100  ni: 15    (0.2, 0.2)       (1.0, 0.0)       (0.8, 0.2)       (0\n",
       "   5 │ N: 100  ni: 20    (0.2, 0.2)       (1.0, 0.0)       (0.8, 0.2)       (1 ⋯\n",
       "   6 │ N: 100  ni: 25    (0.4, 0.244949)  (0.8, 0.2)       (0.6, 0.244949)  (1\n",
       "   7 │ N: 1000  ni: 2    (0.4, 0.244949)  (0.6, 0.244949)  (0.6, 0.244949)  (1\n",
       "   8 │ N: 1000  ni: 5    (0.2, 0.2)       (0.6, 0.244949)  (0.8, 0.2)       (1\n",
       "   9 │ N: 1000  ni: 10   (0.0, 0.0)       (0.6, 0.244949)  (1.0, 0.0)       (0 ⋯\n",
       "  10 │ N: 1000  ni: 15   (0.0, 0.0)       (0.8, 0.2)       (0.8, 0.2)       (0\n",
       "  11 │ N: 1000  ni: 20   (0.0, 0.0)       (1.0, 0.0)       (1.0, 0.0)       (0\n",
       "  12 │ N: 1000  ni: 25   (0.0, 0.0)       (0.8, 0.2)       (1.0, 0.0)       (0\n",
       "  13 │ N: 10000  ni: 2   (0.2, 0.2)       (0.6, 0.244949)  (0.8, 0.2)       (0 ⋯\n",
       "  14 │ N: 10000  ni: 5   (0.0, 0.0)       (0.8, 0.2)       (0.8, 0.2)       (0\n",
       "  15 │ N: 10000  ni: 10  (0.0, 0.0)       (0.6, 0.244949)  (0.8, 0.2)       (0\n",
       "  16 │ N: 10000  ni: 15  (0.0, 0.0)       (1.0, 0.0)       (1.0, 0.0)       (0\n",
       "  17 │ N: 10000  ni: 20  (0.0, 0.0)       (1.0, 0.0)       (1.0, 0.0)       (0 ⋯\n",
       "  18 │ N: 10000  ni: 25  (0.0, 0.0)       (1.0, 0.0)       (0.8, 0.2)       (0\n",
       "\u001b[36m                                                                1 column omitted\u001b[0m"
      ]
     },
     "execution_count": 10,
     "metadata": {},
     "output_type": "execute_result"
    }
   ],
   "source": [
    "######  supplementary table s1\n",
    "using Random, DataFrames, DelimitedFiles, Statistics\n",
    "import StatsBase: sem\n",
    "\n",
    "βθcoverage = readdlm(\"beta_sigma_coverage_multivariate_poisson_vcm$(nsims)reps_sim.csv\", ',')\n",
    "\n",
    "m  = 1\n",
    "\n",
    "covdf = DataFrame(Matrix(transpose(βθcoverage)), :auto)\n",
    "rename!(covdf, Symbol.([[\"β$i\" for i in 1:p]; [\"θ$i\" for i in 1:m]]))\n",
    "covdf[!, :samplesize] = sample_sizes\n",
    "covdf[!, :obssize] = obs_sizes\n",
    "first(covdf, 10)\n",
    "\n",
    "row_stats = [[(mean(col), sem(col)) for col = eachcol(d[!, 1:end-2])] for d = groupby(covdf, [:samplesize; :obssize])]\n",
    "df = DataFrame(row_stats, :auto)\n",
    "ss_obs = unique(\"N: \" .* sample_sizes .* \"  ni: \" .* obs_sizes)\n",
    "rename!(df, Symbol.(ss_obs))\n",
    "covdfdisplay = DataFrame([[names(df)]; collect.(eachrow(df))], \n",
    "    [:people_obs; Symbol.([[\"β$i\" for i in 1:p]; [\"θ$i\" for i in 1:m]])])\n",
    "# deletecols!(covdfdisplay, p + 2)\n",
    "covdfdisplay\n"
   ]
  },
  {
   "cell_type": "code",
   "execution_count": 19,
   "metadata": {},
   "outputs": [
    {
     "ename": "LoadError",
     "evalue": "UndefVarError: msedf2 not defined",
     "output_type": "error",
     "traceback": [
      "UndefVarError: msedf2 not defined",
      "",
      "Stacktrace:",
      " [1] top-level scope",
      "   @ In[19]:38",
      " [2] eval",
      "   @ ./boot.jl:360 [inlined]",
      " [3] include_string(mapexpr::typeof(REPL.softscope), mod::Module, code::String, filename::String)",
      "   @ Base ./loading.jl:1116"
     ]
    }
   ],
   "source": [
    "#### \n",
    "#import data and reorganize to create figure\n",
    "using Random, DataFrames, DelimitedFiles, Statistics, RCall, Printf\n",
    "import StatsBase: sem\n",
    "\n",
    "βMseresult = vec(readdlm(\"mse_beta_multivariate_poisson_vcm$(nsims)reps_sim.csv\", ','))\n",
    "θMseresult = vec(readdlm(\"mse_Sigma_multivariate_poisson_vcm$(nsims)reps_sim.csv\", ','))\n",
    "\n",
    "# βMseresult_GLMM = vec(readdlm(\"mse_beta_GLMM_multivariate_poisson_vcm$(nsims)reps_sim.csv\", ','))\n",
    "# θMseresult_GLMM = vec(readdlm(\"mse_Sigma_GLMM_multivariate_poisson_vcm$(nsims)reps_sim.csv\", ','))\n",
    "\n",
    "\n",
    "p = 3; m = 1\n",
    "sample_sizes = repeat(string.(samplesizes), inner = nsims * length(ns))\n",
    "obs_sizes = repeat(string.(ns), inner = nsims, outer = length(samplesizes))\n",
    "msedf1 = DataFrame(βmse = βMseresult, thetamse = θMseresult, \n",
    "    samplesize = sample_sizes, obssize = obs_sizes)\n",
    "\n",
    "# msedf2 = DataFrame(βmse = βMseresult_GLMM, thetamse = θMseresult_GLMM, \n",
    "#     samplesize = sample_sizes, obssize = obs_sizes)\n",
    "\n",
    "#rename to make parsing easier for R.\n",
    "\n",
    "msedf1 = deepcopy(msedf1)\n",
    "rename!(msedf1, [\"betamse\"\n",
    "    \"thetamse\"\n",
    "    \"samplesize\"\n",
    " \"obssize\"]);\n",
    "\n",
    "# msedf2 = deepcopy(msedf2)\n",
    "# rename!(msedf2, [\"betamse\"\n",
    "#     \"thetamse\"\n",
    "#     \"samplesize\"\n",
    "#  \"obssize\"]);\n",
    "\n",
    "mses = [msedf1[!, :betamse]; msedf1[!, :thetamse]] # ; msedf2[!, :betamse]; msedf2[!, :thetamse]]\n",
    "    # msedfnormR[!, :betamse]; msedfnormR[!, :taumse]; msedfnormR[!, :Sigmamse]]\n",
    "obssize = [collect([repeat(msedf1[!, :obssize], 2)]...) ; collect([repeat(msedf2[!, :obssize], 2)]...)]\n",
    "#40\n",
    "samplesize = [collect([repeat(msedf1[!, :samplesize], 2)]...) ; collect([repeat(msedf2[!, :samplesize], 2)]...)]\n",
    "\n",
    "parameters = [collect([repeat(string.([:beta, :theta]), inner = nsims * length(ns) * length(samplesizes))]...) ] #; collect([repeat(string.([:beta, :theta]), inner = nsims * length(ns) * length(samplesizes))]...)]\n",
    "robust = [collect([repeat([\"Poisson QC\"], 2 * nsims * length(ns) * length(samplesizes))]...)]# ; collect([repeat([\"Poisson GLMM\"],  2 * nsims * length(ns) * length(samplesizes))]...)]\n",
    "\n",
    "msedfR = DataFrame(mse = mses, obssize = obssize, samplesize = samplesize,\n",
    "    parameters = parameters, robust = robust)\n",
    "\n",
    "#5 of the 30,000 simulations did not converge, filter out\n",
    "msedfR = filter(x -> !isnan(x.mse), msedfR)\n",
    "# additionally, there are 5 where an error was not caught so it did not try a differnt solver\n",
    "msedfR = filter(x -> x.mse < 40000, msedfR)"
   ]
  },
  {
   "cell_type": "code",
   "execution_count": 12,
   "metadata": {},
   "outputs": [
    {
     "ename": "LoadError",
     "evalue": "UndefVarError: msedfR not defined",
     "output_type": "error",
     "traceback": [
      "UndefVarError: msedfR not defined",
      "",
      "Stacktrace:",
      " [1] top-level scope",
      "   @ In[12]:2",
      " [2] eval",
      "   @ ./boot.jl:360 [inlined]",
      " [3] include_string(mapexpr::typeof(REPL.softscope), mod::Module, code::String, filename::String)",
      "   @ Base ./loading.jl:1116"
     ]
    }
   ],
   "source": [
    "### working on figure next\n",
    "@rput msedfR\n",
    "\n",
    "R\"\"\"\n",
    "library(scales)\n",
    "library(ggplot2)\n",
    "library(data.table)\n",
    "\n",
    "msedfR = data.table(msedfR)\n",
    "\n",
    "msedfR[parameters == \"beta\",y_min := 10^-4]\n",
    "msedfR[parameters == \"beta\",y_max := 10^-2]\n",
    "msedfR[parameters == \"theta\",y_min := 10^-5]\n",
    "msedfR[parameters == \"theta\",y_max := 10^1]\n",
    "\n",
    "#msedfR[parameters == \"beta\",y_min := 10^-8]\n",
    "#msedfR[parameters == \"beta\",y_max := 10^-2]\n",
    "#msedfR[parameters == \"tau\",y_min := 10^-8]\n",
    "#msedfR[parameters == \"tau\",y_max := 10^-2]\n",
    "#msedfR[parameters == \"Sigma\",y_min := 10^-5]\n",
    "#msedfR[parameters == \"Sigma\",y_max := 10^-2]\n",
    "\n",
    "\n",
    "msedfR$obssize = factor(msedfR$obssize, levels = c('2', '5', '10', '15', '20', '25'))\n",
    "msedfR$samplesize = factor(msedfR$samplesize, levels = c('100', '1000', '10000'))\n",
    "msedfR$parameters = factor(msedfR$parameters, levels = c('beta', 'theta'), labels = c(beta = expression(hat(bold(beta))), thetaa = expression(hat(bold(theta))[])))\n",
    "msedfR$robust <- factor(msedfR$robust, levels = c('Poisson QC', 'Poisson GLMM'),\n",
    "    labels = c(expression(paste(\"Poisson QC\")), expression(paste(\"Poisson GLMM\"))))\n",
    "\n",
    "\n",
    "#mseplot <- ggplot(msedfR[msedfR$mse < 10^0, ], aes(x=samplesize, y=mse, fill=obssize)) + \n",
    "mseplot = ggplot(msedfR[msedfR$mse < 10^3, ], aes(x=samplesize, y=mse, fill=obssize)) + \n",
    "  #geom_boxplot(outlier.size = 0.0, outlier.alpha = 0) +\n",
    "  geom_boxplot(outlier.size = 0.25) +\n",
    "#    geom_violin() +\n",
    "    facet_grid(parameters ~ robust, labeller = label_parsed, scales = \"free_y\") +\n",
    "  theme(legend.position=\"right\", legend.key = element_blank(), axis.text.x = element_text(angle=0, size=30),\n",
    "        axis.text.y = element_text(angle=0, size=30), axis.title.x = element_text(size = 30, face=\"bold\"), \n",
    "        axis.title.y = element_text(size = 40, face=\"bold\"), legend.title = element_text(size = 30, face=\"bold\"),\n",
    "        panel.grid.major = element_blank(), panel.grid.minor = element_blank(),\n",
    "        legend.text=element_text(size=30), panel.background = element_rect(fill = NA, color = \"black\"),\n",
    "        #panel.background = element_blank(), #panel.border = element_blank(),\n",
    "        axis.line = element_line(color = 'black',size=0.3), plot.title = element_text(hjust = 0.5),\n",
    "        strip.background = element_rect(colour=\"black\", fill=\"white\"), strip.text.y = element_text(angle = 0, size=75, face=\"bold\"),\n",
    "        strip.text.x = element_text(size=25)) + \n",
    "  scale_fill_manual(values = c(\"#c85f55\",\n",
    "\"#a964bf\",\n",
    "\"#8db352\",\n",
    "\"#fa7300\",\n",
    "\"#05aec0\",\n",
    "\"#ff1493\")) +\n",
    "#scale_y_log10(breaks = scales::trans_breaks(\"log10\", function(x) 10^x)) +\n",
    "#scale_y_log10(breaks = 10^(-8:8), limit=c(10^-8, 10^2)) + \n",
    "scale_y_log10(breaks = 10^seq(-10, 10, 2), labels=trans_format(\"log10\", math_format(10^.x))) + #, limit=c(10^-8, 10^2)) +\n",
    "  labs(x = \"Sample Size\", y = \"MSE of Parameter Estimates\", fill = \"Cluster Size\") +\n",
    "geom_blank(aes(y = y_max)) + \n",
    "geom_blank(aes(y = y_min)) \n",
    "\n",
    "\"\"\""
   ]
  },
  {
   "cell_type": "code",
   "execution_count": null,
   "metadata": {},
   "outputs": [],
   "source": [
    "R\"\"\"\n",
    "ggsave('sim_glmm_updated_msefacetplot_poisson_0.05.png', mseplot, width = 12.5, height = 15, units = 'in', dpi = 450)\n",
    "\"\"\""
   ]
  },
  {
   "cell_type": "code",
   "execution_count": null,
   "metadata": {},
   "outputs": [],
   "source": []
  },
  {
   "cell_type": "code",
   "execution_count": null,
   "metadata": {},
   "outputs": [],
   "source": []
  }
 ],
 "metadata": {
  "@webio": {
   "lastCommId": null,
   "lastKernelId": null
  },
  "kernelspec": {
   "display_name": "Julia 1.6.2",
   "language": "julia",
   "name": "julia-1.6"
  },
  "language_info": {
   "file_extension": ".jl",
   "mimetype": "application/julia",
   "name": "julia",
   "version": "1.6.2"
  }
 },
 "nbformat": 4,
 "nbformat_minor": 2
}
