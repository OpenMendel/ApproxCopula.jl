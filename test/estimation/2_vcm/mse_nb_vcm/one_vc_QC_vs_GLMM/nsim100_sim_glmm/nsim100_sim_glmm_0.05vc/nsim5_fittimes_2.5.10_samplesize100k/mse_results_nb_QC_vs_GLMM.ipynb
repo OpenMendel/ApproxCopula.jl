{
 "cells": [
  {
   "cell_type": "markdown",
   "metadata": {},
   "source": [
    "## Negative Binomial VCM Results \n",
    "\n",
    "This notebook goes over the code needed to reproduce the results from the MSE and time figures for the Negative Binomial base distribution with Log Link and covariance matrix $\\Gamma$ structured under variance component model framework as follows:\n",
    "\n",
    "$$\n",
    "\\Gamma = 0.05 * \\mathbf{1_{n} 1_{n}^\\top}\n",
    "$$\n",
    "\n",
    "In this example simulate three fixed effects under GLMM with $\\beta \\sim$ randn(Uniform(-0.2, 0.2), p) where p = 3 fixed effects.\n",
    "\n",
    "We run each scenario 5 times and compare the fit of ours with that of GLMM's random intercept model from MixedModels.jl. "
   ]
  },
  {
   "cell_type": "code",
   "execution_count": 1,
   "metadata": {},
   "outputs": [
    {
     "name": "stdout",
     "output_type": "stream",
     "text": [
      "Julia Version 1.6.2\n",
      "Commit 1b93d53fc4 (2021-07-14 15:36 UTC)\n",
      "Platform Info:\n",
      "  OS: macOS (x86_64-apple-darwin18.7.0)\n",
      "  CPU: Intel(R) Core(TM) i9-9880H CPU @ 2.30GHz\n",
      "  WORD_SIZE: 64\n",
      "  LIBM: libopenlibm\n",
      "  LLVM: libLLVM-11.0.1 (ORCJIT, skylake)\n"
     ]
    }
   ],
   "source": [
    "versioninfo()"
   ]
  },
  {
   "cell_type": "code",
   "execution_count": 2,
   "metadata": {},
   "outputs": [],
   "source": [
    "using GLMCopula, DelimitedFiles, LinearAlgebra, Random, GLM\n",
    "using Random, Roots, SpecialFunctions, DataFrames"
   ]
  },
  {
   "cell_type": "code",
   "execution_count": 3,
   "metadata": {},
   "outputs": [
    {
     "data": {
      "text/plain": [
       "5"
      ]
     },
     "execution_count": 3,
     "metadata": {},
     "output_type": "execute_result"
    }
   ],
   "source": [
    "p  = 3    # number of fixed effects, including intercept\n",
    "m  = 1    # number of variance components\n",
    "# true parameter values\n",
    "Random.seed!(1234)\n",
    "βtrue = rand(Uniform(-0.2, 0.2), p)\n",
    "rtrue = 10.0\n",
    "θtrue = [0.05]\n",
    "\n",
    "# generate data\n",
    "intervals = zeros(p + m, 2) #hold intervals\n",
    "curcoverage = zeros(p + m) #hold current coverage resutls\n",
    "trueparams = [βtrue; rtrue; θtrue] #hold true parameters\n",
    "\n",
    "#simulation parameters\n",
    "samplesizes = [100; 1000; 10000; 100000]\n",
    "ns = [2; 5; 10]\n",
    "nsims = 5"
   ]
  },
  {
   "cell_type": "code",
   "execution_count": 5,
   "metadata": {},
   "outputs": [
    {
     "name": "stderr",
     "output_type": "stream",
     "text": [
      "┌ Info: reading in the files with results\n",
      "└ @ Main In[5]:1\n"
     ]
    },
    {
     "data": {
      "text/plain": [
       "60-element Vector{Float64}:\n",
       "   0.06391984\n",
       "   0.311538895\n",
       "   0.0831417\n",
       "   0.231379062\n",
       "   0.105632918\n",
       "   0.182696042\n",
       "   0.20399378\n",
       "   0.092420215\n",
       "   0.118090209\n",
       "   0.089007143\n",
       "   0.217327994\n",
       "   0.230940765\n",
       "   0.233469511\n",
       "   ⋮\n",
       "  69.135167438\n",
       "  78.522058692\n",
       "  76.330089214\n",
       "  90.208001287\n",
       "  67.99841716\n",
       "  72.299026308\n",
       "  77.996566551\n",
       " 130.099887313\n",
       " 115.000477044\n",
       " 117.468231345\n",
       " 121.151318991\n",
       " 123.621297709"
      ]
     },
     "execution_count": 5,
     "metadata": {},
     "output_type": "execute_result"
    }
   ],
   "source": [
    "@info \"reading in the files with results\"\n",
    "βMseresult = vec(readdlm(\"mse_beta_multivariate_nb_vcm$(nsims)reps_sim.csv\", ','))\n",
    "θMseresult = vec(readdlm(\"mse_Sigma_multivariate_nb_vcm$(nsims)reps_sim.csv\", ','))\n",
    "fittimes_QC = vec(readdlm(\"fittimes_multivariate_nb_vcm$(nsims)reps_sim.csv\", ','))"
   ]
  },
  {
   "cell_type": "code",
   "execution_count": 6,
   "metadata": {},
   "outputs": [
    {
     "data": {
      "text/plain": [
       "60-element Vector{Float64}:\n",
       "    0.268586854\n",
       "    0.040495002\n",
       "    0.078069682\n",
       "    0.023185246\n",
       "    0.026422551\n",
       "    0.147727289\n",
       "    0.092301654\n",
       "    0.103794381\n",
       "    0.074717474\n",
       "    0.097020635\n",
       "    0.268123279\n",
       "    0.505422773\n",
       "    0.327284457\n",
       "    ⋮\n",
       "  187.495863028\n",
       "  116.945108182\n",
       "  487.430452926\n",
       "  316.908569884\n",
       "  403.864143304\n",
       "  392.391065161\n",
       "  632.550692326\n",
       "  984.092001087\n",
       " 1015.581219262\n",
       "  846.542703276\n",
       "  964.974925565\n",
       "  868.433022677"
      ]
     },
     "execution_count": 6,
     "metadata": {},
     "output_type": "execute_result"
    }
   ],
   "source": [
    "fittimes_GLMM = vec(readdlm(\"fittimes_GLMM_multivariate_NB_vcm$(nsims)reps_sim.csv\", ','))"
   ]
  },
  {
   "cell_type": "code",
   "execution_count": 9,
   "metadata": {},
   "outputs": [
    {
     "name": "stderr",
     "output_type": "stream",
     "text": [
      "┌ Info: making results table Quasi-Copula\n",
      "└ @ Main In[9]:2\n"
     ]
    },
    {
     "data": {
      "text/html": [
       "<div class=\"data-frame\"><p>12 rows × 4 columns</p><table class=\"data-frame\"><thead><tr><th></th><th>samplesize</th><th>obssize</th><th>fittime</th><th>se</th></tr><tr><th></th><th title=\"String\">String</th><th title=\"String\">String</th><th title=\"Float64\">Float64</th><th title=\"Float64\">Float64</th></tr></thead><tbody><tr><th>1</th><td>100</td><td>2</td><td>0.159122</td><td>0.0480362</td></tr><tr><th>2</th><td>100</td><td>5</td><td>0.137241</td><td>0.0236899</td></tr><tr><th>3</th><td>100</td><td>10</td><td>0.23732</td><td>0.0100071</td></tr><tr><th>4</th><td>1000</td><td>2</td><td>0.665059</td><td>0.0356822</td></tr><tr><th>5</th><td>1000</td><td>5</td><td>0.68667</td><td>0.023111</td></tr><tr><th>6</th><td>1000</td><td>10</td><td>1.02385</td><td>0.0226212</td></tr><tr><th>7</th><td>10000</td><td>2</td><td>6.60604</td><td>0.215899</td></tr><tr><th>8</th><td>10000</td><td>5</td><td>7.29045</td><td>0.0806815</td></tr><tr><th>9</th><td>10000</td><td>10</td><td>11.4403</td><td>0.137068</td></tr><tr><th>10</th><td>100000</td><td>2</td><td>76.5531</td><td>2.7886</td></tr><tr><th>11</th><td>100000</td><td>5</td><td>76.9664</td><td>3.73507</td></tr><tr><th>12</th><td>100000</td><td>10</td><td>121.468</td><td>2.61795</td></tr></tbody></table></div>"
      ],
      "text/latex": [
       "\\begin{tabular}{r|cccc}\n",
       "\t& samplesize & obssize & fittime & se\\\\\n",
       "\t\\hline\n",
       "\t& String & String & Float64 & Float64\\\\\n",
       "\t\\hline\n",
       "\t1 & 100 & 2 & 0.159122 & 0.0480362 \\\\\n",
       "\t2 & 100 & 5 & 0.137241 & 0.0236899 \\\\\n",
       "\t3 & 100 & 10 & 0.23732 & 0.0100071 \\\\\n",
       "\t4 & 1000 & 2 & 0.665059 & 0.0356822 \\\\\n",
       "\t5 & 1000 & 5 & 0.68667 & 0.023111 \\\\\n",
       "\t6 & 1000 & 10 & 1.02385 & 0.0226212 \\\\\n",
       "\t7 & 10000 & 2 & 6.60604 & 0.215899 \\\\\n",
       "\t8 & 10000 & 5 & 7.29045 & 0.0806815 \\\\\n",
       "\t9 & 10000 & 10 & 11.4403 & 0.137068 \\\\\n",
       "\t10 & 100000 & 2 & 76.5531 & 2.7886 \\\\\n",
       "\t11 & 100000 & 5 & 76.9664 & 3.73507 \\\\\n",
       "\t12 & 100000 & 10 & 121.468 & 2.61795 \\\\\n",
       "\\end{tabular}\n"
      ],
      "text/plain": [
       "\u001b[1m12×4 DataFrame\u001b[0m\n",
       "\u001b[1m Row \u001b[0m│\u001b[1m samplesize \u001b[0m\u001b[1m obssize \u001b[0m\u001b[1m fittime    \u001b[0m\u001b[1m se        \u001b[0m\n",
       "\u001b[1m     \u001b[0m│\u001b[90m String     \u001b[0m\u001b[90m String  \u001b[0m\u001b[90m Float64    \u001b[0m\u001b[90m Float64   \u001b[0m\n",
       "─────┼────────────────────────────────────────────\n",
       "   1 │ 100         2          0.159122  0.0480362\n",
       "   2 │ 100         5          0.137241  0.0236899\n",
       "   3 │ 100         10         0.23732   0.0100071\n",
       "   4 │ 1000        2          0.665059  0.0356822\n",
       "   5 │ 1000        5          0.68667   0.023111\n",
       "   6 │ 1000        10         1.02385   0.0226212\n",
       "   7 │ 10000       2          6.60604   0.215899\n",
       "   8 │ 10000       5          7.29045   0.0806815\n",
       "   9 │ 10000       10        11.4403    0.137068\n",
       "  10 │ 100000      2         76.5531    2.7886\n",
       "  11 │ 100000      5         76.9664    3.73507\n",
       "  12 │ 100000      10       121.468     2.61795"
      ]
     },
     "execution_count": 9,
     "metadata": {},
     "output_type": "execute_result"
    }
   ],
   "source": [
    "#simulation parameters\n",
    "@info \"making results table Quasi-Copula\"\n",
    "sample_sizes = repeat(string.(samplesizes), inner = nsims * length(ns))\n",
    "obs_sizes = repeat(string.(ns), inner = nsims, outer = length(samplesizes))\n",
    "\n",
    "msedf = DataFrame(samplesize = sample_sizes, obssize = obs_sizes, fittimes = fittimes_QC)\n",
    "timedf1 = combine(groupby(msedf, [:samplesize, :obssize]), :fittimes => mean => :fittime,\n",
    "    :fittimes => x -> (std(x)/sqrt(length(x))))\n",
    "rename!(timedf1, Dict(:fittimes_function => \"se\"))\n",
    "timedf1[!, :nobs] = Meta.parse.(timedf1[!, :samplesize]) .* Meta.parse.(timedf1[!, :obssize])\n",
    "timedf1[!, :fitmin] = timedf1[!, :fittime] - timedf1[!, :se]\n",
    "timedf1[!, :fitmax] = timedf1[!, :fittime] + timedf1[!, :se]\n",
    "timedf1[!, :perobsratio] = timedf1[!, :fittime] ./ timedf1[!, :nobs]\n",
    "timedf1[!, 1:4]"
   ]
  },
  {
   "cell_type": "code",
   "execution_count": 10,
   "metadata": {},
   "outputs": [
    {
     "name": "stderr",
     "output_type": "stream",
     "text": [
      "┌ Info: making results table GLMM\n",
      "└ @ Main In[10]:2\n"
     ]
    },
    {
     "data": {
      "text/html": [
       "<div class=\"data-frame\"><p>12 rows × 4 columns</p><table class=\"data-frame\"><thead><tr><th></th><th>samplesize</th><th>obssize</th><th>fittime</th><th>se</th></tr><tr><th></th><th title=\"String\">String</th><th title=\"String\">String</th><th title=\"Float64\">Float64</th><th title=\"Float64\">Float64</th></tr></thead><tbody><tr><th>1</th><td>100</td><td>2</td><td>0.0873519</td><td>0.0463452</td></tr><tr><th>2</th><td>100</td><td>5</td><td>0.103112</td><td>0.0121474</td></tr><tr><th>3</th><td>100</td><td>10</td><td>0.354081</td><td>0.0504375</td></tr><tr><th>4</th><td>1000</td><td>2</td><td>0.456188</td><td>0.0550885</td></tr><tr><th>5</th><td>1000</td><td>5</td><td>1.44295</td><td>0.146106</td></tr><tr><th>6</th><td>1000</td><td>10</td><td>4.13671</td><td>1.29943</td></tr><tr><th>7</th><td>10000</td><td>2</td><td>5.40915</td><td>0.616827</td></tr><tr><th>8</th><td>10000</td><td>5</td><td>39.4608</td><td>2.9736</td></tr><tr><th>9</th><td>10000</td><td>10</td><td>93.4428</td><td>3.258</td></tr><tr><th>10</th><td>100000</td><td>2</td><td>167.416</td><td>14.6886</td></tr><tr><th>11</th><td>100000</td><td>5</td><td>446.629</td><td>53.7725</td></tr><tr><th>12</th><td>100000</td><td>10</td><td>935.925</td><td>33.2065</td></tr></tbody></table></div>"
      ],
      "text/latex": [
       "\\begin{tabular}{r|cccc}\n",
       "\t& samplesize & obssize & fittime & se\\\\\n",
       "\t\\hline\n",
       "\t& String & String & Float64 & Float64\\\\\n",
       "\t\\hline\n",
       "\t1 & 100 & 2 & 0.0873519 & 0.0463452 \\\\\n",
       "\t2 & 100 & 5 & 0.103112 & 0.0121474 \\\\\n",
       "\t3 & 100 & 10 & 0.354081 & 0.0504375 \\\\\n",
       "\t4 & 1000 & 2 & 0.456188 & 0.0550885 \\\\\n",
       "\t5 & 1000 & 5 & 1.44295 & 0.146106 \\\\\n",
       "\t6 & 1000 & 10 & 4.13671 & 1.29943 \\\\\n",
       "\t7 & 10000 & 2 & 5.40915 & 0.616827 \\\\\n",
       "\t8 & 10000 & 5 & 39.4608 & 2.9736 \\\\\n",
       "\t9 & 10000 & 10 & 93.4428 & 3.258 \\\\\n",
       "\t10 & 100000 & 2 & 167.416 & 14.6886 \\\\\n",
       "\t11 & 100000 & 5 & 446.629 & 53.7725 \\\\\n",
       "\t12 & 100000 & 10 & 935.925 & 33.2065 \\\\\n",
       "\\end{tabular}\n"
      ],
      "text/plain": [
       "\u001b[1m12×4 DataFrame\u001b[0m\n",
       "\u001b[1m Row \u001b[0m│\u001b[1m samplesize \u001b[0m\u001b[1m obssize \u001b[0m\u001b[1m fittime     \u001b[0m\u001b[1m se         \u001b[0m\n",
       "\u001b[1m     \u001b[0m│\u001b[90m String     \u001b[0m\u001b[90m String  \u001b[0m\u001b[90m Float64     \u001b[0m\u001b[90m Float64    \u001b[0m\n",
       "─────┼──────────────────────────────────────────────\n",
       "   1 │ 100         2          0.0873519   0.0463452\n",
       "   2 │ 100         5          0.103112    0.0121474\n",
       "   3 │ 100         10         0.354081    0.0504375\n",
       "   4 │ 1000        2          0.456188    0.0550885\n",
       "   5 │ 1000        5          1.44295     0.146106\n",
       "   6 │ 1000        10         4.13671     1.29943\n",
       "   7 │ 10000       2          5.40915     0.616827\n",
       "   8 │ 10000       5         39.4608      2.9736\n",
       "   9 │ 10000       10        93.4428      3.258\n",
       "  10 │ 100000      2        167.416      14.6886\n",
       "  11 │ 100000      5        446.629      53.7725\n",
       "  12 │ 100000      10       935.925      33.2065"
      ]
     },
     "execution_count": 10,
     "metadata": {},
     "output_type": "execute_result"
    }
   ],
   "source": [
    "#simulation parameters\n",
    "@info \"making results table GLMM\"\n",
    "sample_sizes = repeat(string.(samplesizes), inner = nsims * length(ns))\n",
    "obs_sizes = repeat(string.(ns), inner = nsims, outer = length(samplesizes))\n",
    "\n",
    "msedf = DataFrame(samplesize = sample_sizes, obssize = obs_sizes, fittimes = fittimes_GLMM)\n",
    "timedf2 = combine(groupby(msedf, [:samplesize, :obssize]), :fittimes => mean => :fittime,\n",
    "    :fittimes => x -> (std(x)/sqrt(length(x))))\n",
    "rename!(timedf2, Dict(:fittimes_function => \"se\"))\n",
    "timedf2[!, :nobs] = Meta.parse.(timedf2[!, :samplesize]) .* Meta.parse.(timedf2[!, :obssize])\n",
    "timedf2[!, :fitmin] = timedf2[!, :fittime] - timedf2[!, :se]\n",
    "timedf2[!, :fitmax] = timedf2[!, :fittime] + timedf2[!, :se]\n",
    "timedf2[!, :perobsratio] = timedf2[!, :fittime] ./ timedf2[!, :nobs]\n",
    "timedf2[!, 1:4]"
   ]
  },
  {
   "cell_type": "code",
   "execution_count": 28,
   "metadata": {},
   "outputs": [
    {
     "data": {
      "image/png": "[encoded data removed]"
     },
     "metadata": {},
     "output_type": "display_data"
    },
    {
     "data": {
      "text/plain": [
       "RObject{VecSxp}\n"
      ]
     },
     "execution_count": 28,
     "metadata": {},
     "output_type": "execute_result"
    }
   ],
   "source": [
    "########### plot the runtimes\n",
    "using RCall\n",
    "@rput timedf1\n",
    "@rput timedf2\n",
    "R\"\"\"\n",
    "library(ggplot2)\n",
    "library(cowplot)\n",
    "timedf1$obssize = factor(timedf1$obssize, levels = c('2', '5', '10', '15', '20', '25'))\n",
    "timedf1$samplesize = factor(timedf1$samplesize, levels = c('100', '1000', '10000'))\n",
    "\n",
    "fittime_1 = ggplot(timedf1, aes(x = samplesize, y = fittime, group = obssize, color = obssize)) + \n",
    "  geom_line() +\n",
    "  geom_point()+\n",
    "  geom_errorbar(aes(ymin=fitmin, ymax=fitmax), width=0.5, alpha = 0.8, position=position_dodge(0.005)) + \n",
    "  theme(legend.position=c(0.15,0.85), legend.key = element_blank(), axis.text.x = element_text(angle=0, size=13),\n",
    "        axis.text.y = element_text(angle=0, size=13), axis.title.x = element_text(size = 17), \n",
    "        axis.title.y = element_text(size = 17), legend.title = element_text(size = 14),\n",
    "        #axis.ticks = element_blank(),\n",
    "        panel.grid.major = element_blank(), legend.text=element_text(size=13),\n",
    "        panel.border = element_blank(), panel.grid.minor = element_blank(), panel.background = element_blank(), \n",
    "        axis.line = element_line(color = 'black',size=0.3), plot.title = element_text(hjust = 0.5)) + \n",
    "   scale_color_manual(values = c(\"#c85f55\",\n",
    "\"#a964bf\",\n",
    "\"#8db352\",\n",
    "\"#fa7300\",\n",
    "\"#05aec0\",\n",
    "\"#ff1493\")) +\n",
    "  labs(x = \"Number of Individuals\", y = \"Fit time (seconds)\", color = \"Obs per Individual\")\n",
    "\n",
    "timedf2$obssize = factor(timedf2$obssize, levels = c('2', '5', '10', '15', '20', '25'))\n",
    "timedf2$samplesize = factor(timedf2$samplesize, levels = c('100', '1000', '10000'))\n",
    "\n",
    "fittime_2 = ggplot(timedf2, aes(x = samplesize, y = fittime, group = obssize, color = obssize)) + \n",
    "  geom_line() +\n",
    "  geom_point()+\n",
    "  geom_errorbar(aes(ymin=fitmin, ymax=fitmax), width=0.5, alpha = 0.8, position=position_dodge(0.005)) + \n",
    "  theme(legend.position=c(0.15,0.85), legend.key = element_blank(), axis.text.x = element_text(angle=0, size=13),\n",
    "        axis.text.y = element_text(angle=0, size=13), axis.title.x = element_text(size = 17), \n",
    "        axis.title.y = element_text(size = 17), legend.title = element_text(size = 14),\n",
    "        #axis.ticks = element_blank(),\n",
    "        panel.grid.major = element_blank(), legend.text=element_text(size=13),\n",
    "        panel.border = element_blank(), panel.grid.minor = element_blank(), panel.background = element_blank(), \n",
    "        axis.line = element_line(color = 'black',size=0.3), plot.title = element_text(hjust = 0.5)) + \n",
    "   scale_color_manual(values = c(\"#c85f55\",\n",
    "\"#a964bf\",\n",
    "\"#8db352\",\n",
    "\"#fa7300\",\n",
    "\"#05aec0\",\n",
    "\"#ff1493\")) +\n",
    "  labs(x = \"Number of Individuals\", y = \"Fit time (seconds)\", color = \"Obs per Individual\")\n",
    "\n",
    "fittime_nsamples = plot_grid(fittime_1, fittime_2, labels = c(\"Quasi-Copula\", \"GLMM\"))\n",
    "\"\"\""
   ]
  },
  {
   "cell_type": "code",
   "execution_count": 29,
   "metadata": {},
   "outputs": [
    {
     "data": {
      "text/plain": [
       "RObject{StrSxp}\n",
       "[1] \"sim_glmm_fittime_nsamples_nb_vs_glmm.png\"\n"
      ]
     },
     "execution_count": 29,
     "metadata": {},
     "output_type": "execute_result"
    }
   ],
   "source": [
    "R\"\"\"\n",
    "ggsave('sim_glmm_fittime_nsamples_nb_vs_glmm.png', fittime_nsamples, width = 12.5, height = 15, units = 'in', dpi = 450)\n",
    "\"\"\""
   ]
  },
  {
   "cell_type": "code",
   "execution_count": 30,
   "metadata": {},
   "outputs": [
    {
     "data": {
      "text/html": [
       "<div class=\"data-frame\"><p>18 rows × 6 columns (omitted printing of 1 columns)</p><table class=\"data-frame\"><thead><tr><th></th><th>people_obs</th><th>β1</th><th>β2</th><th>β3</th><th>r</th></tr><tr><th></th><th title=\"String\">String</th><th title=\"Tuple{Float64, Float64}\">Tuple…</th><th title=\"Tuple{Float64, Float64}\">Tuple…</th><th title=\"Tuple{Float64, Float64}\">Tuple…</th><th title=\"Tuple{Float64, Float64}\">Tuple…</th></tr></thead><tbody><tr><th>1</th><td>N: 100  ni: 2</td><td>(0.0, 0.0)</td><td>(0.4, 0.244949)</td><td>(0.4, 0.244949)</td><td>(0.0, 0.0)</td></tr><tr><th>2</th><td>N: 100  ni: 5</td><td>(0.0, 0.0)</td><td>(0.4, 0.244949)</td><td>(0.4, 0.244949)</td><td>(0.0, 0.0)</td></tr><tr><th>3</th><td>N: 100  ni: 10</td><td>(0.0, 0.0)</td><td>(0.0, 0.0)</td><td>(0.0, 0.0)</td><td>(0.0, 0.0)</td></tr><tr><th>4</th><td>N: 100  ni: 15</td><td>(0.0, 0.0)</td><td>(0.0, 0.0)</td><td>(0.0, 0.0)</td><td>(0.0, 0.0)</td></tr><tr><th>5</th><td>N: 100  ni: 20</td><td>(0.0, 0.0)</td><td>(0.0, 0.0)</td><td>(0.0, 0.0)</td><td>(0.0, 0.0)</td></tr><tr><th>6</th><td>N: 100  ni: 25</td><td>(0.0, 0.0)</td><td>(0.0, 0.0)</td><td>(0.0, 0.0)</td><td>(0.0, 0.0)</td></tr><tr><th>7</th><td>N: 1000  ni: 2</td><td>(0.0, 0.0)</td><td>(0.2, 0.2)</td><td>(0.2, 0.2)</td><td>(0.0, 0.0)</td></tr><tr><th>8</th><td>N: 1000  ni: 5</td><td>(0.0, 0.0)</td><td>(0.0, 0.0)</td><td>(0.0, 0.0)</td><td>(0.0, 0.0)</td></tr><tr><th>9</th><td>N: 1000  ni: 10</td><td>(0.0, 0.0)</td><td>(0.0, 0.0)</td><td>(0.0, 0.0)</td><td>(0.0, 0.0)</td></tr><tr><th>10</th><td>N: 1000  ni: 15</td><td>(0.0, 0.0)</td><td>(0.0, 0.0)</td><td>(0.0, 0.0)</td><td>(0.0, 0.0)</td></tr><tr><th>11</th><td>N: 1000  ni: 20</td><td>(0.0, 0.0)</td><td>(0.0, 0.0)</td><td>(0.0, 0.0)</td><td>(0.0, 0.0)</td></tr><tr><th>12</th><td>N: 1000  ni: 25</td><td>(0.0, 0.0)</td><td>(0.0, 0.0)</td><td>(0.0, 0.0)</td><td>(0.0, 0.0)</td></tr><tr><th>13</th><td>N: 10000  ni: 2</td><td>(0.4, 0.244949)</td><td>(0.2, 0.2)</td><td>(0.8, 0.2)</td><td>(0.0, 0.0)</td></tr><tr><th>14</th><td>N: 10000  ni: 5</td><td>(0.2, 0.2)</td><td>(0.0, 0.0)</td><td>(0.0, 0.0)</td><td>(0.0, 0.0)</td></tr><tr><th>15</th><td>N: 10000  ni: 10</td><td>(0.0, 0.0)</td><td>(0.0, 0.0)</td><td>(0.0, 0.0)</td><td>(0.0, 0.0)</td></tr><tr><th>16</th><td>N: 10000  ni: 15</td><td>(0.0, 0.0)</td><td>(0.2, 0.2)</td><td>(0.0, 0.0)</td><td>(0.0, 0.0)</td></tr><tr><th>17</th><td>N: 10000  ni: 20</td><td>(0.0, 0.0)</td><td>(0.0, 0.0)</td><td>(0.0, 0.0)</td><td>(0.0, 0.0)</td></tr><tr><th>18</th><td>N: 10000  ni: 25</td><td>(0.0, 0.0)</td><td>(1.0, 0.0)</td><td>(0.4, 0.244949)</td><td>(0.0, 0.0)</td></tr></tbody></table></div>"
      ],
      "text/latex": [
       "\\begin{tabular}{r|cccccc}\n",
       "\t& people\\_obs & β1 & β2 & β3 & r & \\\\\n",
       "\t\\hline\n",
       "\t& String & Tuple… & Tuple… & Tuple… & Tuple… & \\\\\n",
       "\t\\hline\n",
       "\t1 & N: 100  ni: 2 & (0.0, 0.0) & (0.4, 0.244949) & (0.4, 0.244949) & (0.0, 0.0) & $\\dots$ \\\\\n",
       "\t2 & N: 100  ni: 5 & (0.0, 0.0) & (0.4, 0.244949) & (0.4, 0.244949) & (0.0, 0.0) & $\\dots$ \\\\\n",
       "\t3 & N: 100  ni: 10 & (0.0, 0.0) & (0.0, 0.0) & (0.0, 0.0) & (0.0, 0.0) & $\\dots$ \\\\\n",
       "\t4 & N: 100  ni: 15 & (0.0, 0.0) & (0.0, 0.0) & (0.0, 0.0) & (0.0, 0.0) & $\\dots$ \\\\\n",
       "\t5 & N: 100  ni: 20 & (0.0, 0.0) & (0.0, 0.0) & (0.0, 0.0) & (0.0, 0.0) & $\\dots$ \\\\\n",
       "\t6 & N: 100  ni: 25 & (0.0, 0.0) & (0.0, 0.0) & (0.0, 0.0) & (0.0, 0.0) & $\\dots$ \\\\\n",
       "\t7 & N: 1000  ni: 2 & (0.0, 0.0) & (0.2, 0.2) & (0.2, 0.2) & (0.0, 0.0) & $\\dots$ \\\\\n",
       "\t8 & N: 1000  ni: 5 & (0.0, 0.0) & (0.0, 0.0) & (0.0, 0.0) & (0.0, 0.0) & $\\dots$ \\\\\n",
       "\t9 & N: 1000  ni: 10 & (0.0, 0.0) & (0.0, 0.0) & (0.0, 0.0) & (0.0, 0.0) & $\\dots$ \\\\\n",
       "\t10 & N: 1000  ni: 15 & (0.0, 0.0) & (0.0, 0.0) & (0.0, 0.0) & (0.0, 0.0) & $\\dots$ \\\\\n",
       "\t11 & N: 1000  ni: 20 & (0.0, 0.0) & (0.0, 0.0) & (0.0, 0.0) & (0.0, 0.0) & $\\dots$ \\\\\n",
       "\t12 & N: 1000  ni: 25 & (0.0, 0.0) & (0.0, 0.0) & (0.0, 0.0) & (0.0, 0.0) & $\\dots$ \\\\\n",
       "\t13 & N: 10000  ni: 2 & (0.4, 0.244949) & (0.2, 0.2) & (0.8, 0.2) & (0.0, 0.0) & $\\dots$ \\\\\n",
       "\t14 & N: 10000  ni: 5 & (0.2, 0.2) & (0.0, 0.0) & (0.0, 0.0) & (0.0, 0.0) & $\\dots$ \\\\\n",
       "\t15 & N: 10000  ni: 10 & (0.0, 0.0) & (0.0, 0.0) & (0.0, 0.0) & (0.0, 0.0) & $\\dots$ \\\\\n",
       "\t16 & N: 10000  ni: 15 & (0.0, 0.0) & (0.2, 0.2) & (0.0, 0.0) & (0.0, 0.0) & $\\dots$ \\\\\n",
       "\t17 & N: 10000  ni: 20 & (0.0, 0.0) & (0.0, 0.0) & (0.0, 0.0) & (0.0, 0.0) & $\\dots$ \\\\\n",
       "\t18 & N: 10000  ni: 25 & (0.0, 0.0) & (1.0, 0.0) & (0.4, 0.244949) & (0.0, 0.0) & $\\dots$ \\\\\n",
       "\\end{tabular}\n"
      ],
      "text/plain": [
       "\u001b[1m18×6 DataFrame\u001b[0m\n",
       "\u001b[1m Row \u001b[0m│\u001b[1m people_obs       \u001b[0m\u001b[1m β1              \u001b[0m\u001b[1m β2              \u001b[0m\u001b[1m β3              \u001b[0m\u001b[1m r \u001b[0m ⋯\n",
       "\u001b[1m     \u001b[0m│\u001b[90m String           \u001b[0m\u001b[90m Tuple…          \u001b[0m\u001b[90m Tuple…          \u001b[0m\u001b[90m Tuple…          \u001b[0m\u001b[90m Tu\u001b[0m ⋯\n",
       "─────┼──────────────────────────────────────────────────────────────────────────\n",
       "   1 │ N: 100  ni: 2     (0.0, 0.0)       (0.4, 0.244949)  (0.4, 0.244949)  (0 ⋯\n",
       "   2 │ N: 100  ni: 5     (0.0, 0.0)       (0.4, 0.244949)  (0.4, 0.244949)  (0\n",
       "   3 │ N: 100  ni: 10    (0.0, 0.0)       (0.0, 0.0)       (0.0, 0.0)       (0\n",
       "   4 │ N: 100  ni: 15    (0.0, 0.0)       (0.0, 0.0)       (0.0, 0.0)       (0\n",
       "   5 │ N: 100  ni: 20    (0.0, 0.0)       (0.0, 0.0)       (0.0, 0.0)       (0 ⋯\n",
       "   6 │ N: 100  ni: 25    (0.0, 0.0)       (0.0, 0.0)       (0.0, 0.0)       (0\n",
       "   7 │ N: 1000  ni: 2    (0.0, 0.0)       (0.2, 0.2)       (0.2, 0.2)       (0\n",
       "   8 │ N: 1000  ni: 5    (0.0, 0.0)       (0.0, 0.0)       (0.0, 0.0)       (0\n",
       "   9 │ N: 1000  ni: 10   (0.0, 0.0)       (0.0, 0.0)       (0.0, 0.0)       (0 ⋯\n",
       "  10 │ N: 1000  ni: 15   (0.0, 0.0)       (0.0, 0.0)       (0.0, 0.0)       (0\n",
       "  11 │ N: 1000  ni: 20   (0.0, 0.0)       (0.0, 0.0)       (0.0, 0.0)       (0\n",
       "  12 │ N: 1000  ni: 25   (0.0, 0.0)       (0.0, 0.0)       (0.0, 0.0)       (0\n",
       "  13 │ N: 10000  ni: 2   (0.4, 0.244949)  (0.2, 0.2)       (0.8, 0.2)       (0 ⋯\n",
       "  14 │ N: 10000  ni: 5   (0.2, 0.2)       (0.0, 0.0)       (0.0, 0.0)       (0\n",
       "  15 │ N: 10000  ni: 10  (0.0, 0.0)       (0.0, 0.0)       (0.0, 0.0)       (0\n",
       "  16 │ N: 10000  ni: 15  (0.0, 0.0)       (0.2, 0.2)       (0.0, 0.0)       (0\n",
       "  17 │ N: 10000  ni: 20  (0.0, 0.0)       (0.0, 0.0)       (0.0, 0.0)       (0 ⋯\n",
       "  18 │ N: 10000  ni: 25  (0.0, 0.0)       (1.0, 0.0)       (0.4, 0.244949)  (0\n",
       "\u001b[36m                                                               2 columns omitted\u001b[0m"
      ]
     },
     "execution_count": 30,
     "metadata": {},
     "output_type": "execute_result"
    }
   ],
   "source": [
    "######  supplementary table s1\n",
    "using Random, DataFrames, DelimitedFiles, Statistics\n",
    "import StatsBase: sem\n",
    "\n",
    "βθrcoverage = readdlm(\"beta_r_sigma_coverage_multivariate_NB_vcm$(nsims)reps_sim.csv\", ',')\n",
    "\n",
    "m  = 1\n",
    "\n",
    "covdf = DataFrame(Matrix(transpose(βθrcoverage)), :auto)\n",
    "rename!(covdf, Symbol.([[\"β$i\" for i in 1:p]; [\"r\"]; [\"θ$i\" for i in 1:m]]))\n",
    "covdf[!, :samplesize] = sample_sizes\n",
    "covdf[!, :obssize] = obs_sizes\n",
    "first(covdf, 10)\n",
    "\n",
    "row_stats = [[(mean(col), sem(col)) for col = eachcol(d[!, 1:end-2])] for d = groupby(covdf, [:samplesize; :obssize])]\n",
    "df = DataFrame(row_stats, :auto)\n",
    "ss_obs = unique(\"N: \" .* sample_sizes .* \"  ni: \" .* obs_sizes)\n",
    "rename!(df, Symbol.(ss_obs))\n",
    "covdfdisplay = DataFrame([[names(df)]; collect.(eachrow(df))], \n",
    "    [:people_obs; Symbol.([[\"β$i\" for i in 1:p];  [\"r\"];  [\"θ$i\" for i in 1:m]])])\n",
    "# deletecols!(covdfdisplay, p + 2)\n",
    "covdfdisplay\n"
   ]
  },
  {
   "cell_type": "code",
   "execution_count": 31,
   "metadata": {},
   "outputs": [
    {
     "data": {
      "text/html": [
       "<div class=\"data-frame\"><p>540 rows × 5 columns</p><table class=\"data-frame\"><thead><tr><th></th><th>mse</th><th>obssize</th><th>samplesize</th><th>parameters</th><th>robust</th></tr><tr><th></th><th title=\"Float64\">Float64</th><th title=\"String\">String</th><th title=\"String\">String</th><th title=\"String\">String</th><th title=\"String\">String</th></tr></thead><tbody><tr><th>1</th><td>0.00333324</td><td>2</td><td>100</td><td>beta</td><td>NegBinomial Quasi-Copula</td></tr><tr><th>2</th><td>0.00408972</td><td>2</td><td>100</td><td>beta</td><td>NegBinomial Quasi-Copula</td></tr><tr><th>3</th><td>0.00457845</td><td>2</td><td>100</td><td>beta</td><td>NegBinomial Quasi-Copula</td></tr><tr><th>4</th><td>0.00678895</td><td>2</td><td>100</td><td>beta</td><td>NegBinomial Quasi-Copula</td></tr><tr><th>5</th><td>0.00943784</td><td>2</td><td>100</td><td>beta</td><td>NegBinomial Quasi-Copula</td></tr><tr><th>6</th><td>0.00867752</td><td>5</td><td>100</td><td>beta</td><td>NegBinomial Quasi-Copula</td></tr><tr><th>7</th><td>0.00108991</td><td>5</td><td>100</td><td>beta</td><td>NegBinomial Quasi-Copula</td></tr><tr><th>8</th><td>0.00130847</td><td>5</td><td>100</td><td>beta</td><td>NegBinomial Quasi-Copula</td></tr><tr><th>9</th><td>0.00182908</td><td>5</td><td>100</td><td>beta</td><td>NegBinomial Quasi-Copula</td></tr><tr><th>10</th><td>0.000623797</td><td>5</td><td>100</td><td>beta</td><td>NegBinomial Quasi-Copula</td></tr><tr><th>11</th><td>0.000209514</td><td>10</td><td>100</td><td>beta</td><td>NegBinomial Quasi-Copula</td></tr><tr><th>12</th><td>0.00190373</td><td>10</td><td>100</td><td>beta</td><td>NegBinomial Quasi-Copula</td></tr><tr><th>13</th><td>0.00107831</td><td>10</td><td>100</td><td>beta</td><td>NegBinomial Quasi-Copula</td></tr><tr><th>14</th><td>0.00131722</td><td>10</td><td>100</td><td>beta</td><td>NegBinomial Quasi-Copula</td></tr><tr><th>15</th><td>0.000298621</td><td>10</td><td>100</td><td>beta</td><td>NegBinomial Quasi-Copula</td></tr><tr><th>16</th><td>6.23261e-5</td><td>15</td><td>100</td><td>beta</td><td>NegBinomial Quasi-Copula</td></tr><tr><th>17</th><td>0.000833847</td><td>15</td><td>100</td><td>beta</td><td>NegBinomial Quasi-Copula</td></tr><tr><th>18</th><td>0.000154977</td><td>15</td><td>100</td><td>beta</td><td>NegBinomial Quasi-Copula</td></tr><tr><th>19</th><td>0.000252138</td><td>15</td><td>100</td><td>beta</td><td>NegBinomial Quasi-Copula</td></tr><tr><th>20</th><td>5.68581e-5</td><td>15</td><td>100</td><td>beta</td><td>NegBinomial Quasi-Copula</td></tr><tr><th>21</th><td>0.00319413</td><td>20</td><td>100</td><td>beta</td><td>NegBinomial Quasi-Copula</td></tr><tr><th>22</th><td>0.00193295</td><td>20</td><td>100</td><td>beta</td><td>NegBinomial Quasi-Copula</td></tr><tr><th>23</th><td>0.000238173</td><td>20</td><td>100</td><td>beta</td><td>NegBinomial Quasi-Copula</td></tr><tr><th>24</th><td>0.000259379</td><td>20</td><td>100</td><td>beta</td><td>NegBinomial Quasi-Copula</td></tr><tr><th>25</th><td>0.00102748</td><td>20</td><td>100</td><td>beta</td><td>NegBinomial Quasi-Copula</td></tr><tr><th>26</th><td>0.00124929</td><td>25</td><td>100</td><td>beta</td><td>NegBinomial Quasi-Copula</td></tr><tr><th>27</th><td>0.000305794</td><td>25</td><td>100</td><td>beta</td><td>NegBinomial Quasi-Copula</td></tr><tr><th>28</th><td>0.000293829</td><td>25</td><td>100</td><td>beta</td><td>NegBinomial Quasi-Copula</td></tr><tr><th>29</th><td>0.00171334</td><td>25</td><td>100</td><td>beta</td><td>NegBinomial Quasi-Copula</td></tr><tr><th>30</th><td>0.000922155</td><td>25</td><td>100</td><td>beta</td><td>NegBinomial Quasi-Copula</td></tr><tr><th>&vellip;</th><td>&vellip;</td><td>&vellip;</td><td>&vellip;</td><td>&vellip;</td><td>&vellip;</td></tr></tbody></table></div>"
      ],
      "text/latex": [
       "\\begin{tabular}{r|ccccc}\n",
       "\t& mse & obssize & samplesize & parameters & robust\\\\\n",
       "\t\\hline\n",
       "\t& Float64 & String & String & String & String\\\\\n",
       "\t\\hline\n",
       "\t1 & 0.00333324 & 2 & 100 & beta & NegBinomial Quasi-Copula \\\\\n",
       "\t2 & 0.00408972 & 2 & 100 & beta & NegBinomial Quasi-Copula \\\\\n",
       "\t3 & 0.00457845 & 2 & 100 & beta & NegBinomial Quasi-Copula \\\\\n",
       "\t4 & 0.00678895 & 2 & 100 & beta & NegBinomial Quasi-Copula \\\\\n",
       "\t5 & 0.00943784 & 2 & 100 & beta & NegBinomial Quasi-Copula \\\\\n",
       "\t6 & 0.00867752 & 5 & 100 & beta & NegBinomial Quasi-Copula \\\\\n",
       "\t7 & 0.00108991 & 5 & 100 & beta & NegBinomial Quasi-Copula \\\\\n",
       "\t8 & 0.00130847 & 5 & 100 & beta & NegBinomial Quasi-Copula \\\\\n",
       "\t9 & 0.00182908 & 5 & 100 & beta & NegBinomial Quasi-Copula \\\\\n",
       "\t10 & 0.000623797 & 5 & 100 & beta & NegBinomial Quasi-Copula \\\\\n",
       "\t11 & 0.000209514 & 10 & 100 & beta & NegBinomial Quasi-Copula \\\\\n",
       "\t12 & 0.00190373 & 10 & 100 & beta & NegBinomial Quasi-Copula \\\\\n",
       "\t13 & 0.00107831 & 10 & 100 & beta & NegBinomial Quasi-Copula \\\\\n",
       "\t14 & 0.00131722 & 10 & 100 & beta & NegBinomial Quasi-Copula \\\\\n",
       "\t15 & 0.000298621 & 10 & 100 & beta & NegBinomial Quasi-Copula \\\\\n",
       "\t16 & 6.23261e-5 & 15 & 100 & beta & NegBinomial Quasi-Copula \\\\\n",
       "\t17 & 0.000833847 & 15 & 100 & beta & NegBinomial Quasi-Copula \\\\\n",
       "\t18 & 0.000154977 & 15 & 100 & beta & NegBinomial Quasi-Copula \\\\\n",
       "\t19 & 0.000252138 & 15 & 100 & beta & NegBinomial Quasi-Copula \\\\\n",
       "\t20 & 5.68581e-5 & 15 & 100 & beta & NegBinomial Quasi-Copula \\\\\n",
       "\t21 & 0.00319413 & 20 & 100 & beta & NegBinomial Quasi-Copula \\\\\n",
       "\t22 & 0.00193295 & 20 & 100 & beta & NegBinomial Quasi-Copula \\\\\n",
       "\t23 & 0.000238173 & 20 & 100 & beta & NegBinomial Quasi-Copula \\\\\n",
       "\t24 & 0.000259379 & 20 & 100 & beta & NegBinomial Quasi-Copula \\\\\n",
       "\t25 & 0.00102748 & 20 & 100 & beta & NegBinomial Quasi-Copula \\\\\n",
       "\t26 & 0.00124929 & 25 & 100 & beta & NegBinomial Quasi-Copula \\\\\n",
       "\t27 & 0.000305794 & 25 & 100 & beta & NegBinomial Quasi-Copula \\\\\n",
       "\t28 & 0.000293829 & 25 & 100 & beta & NegBinomial Quasi-Copula \\\\\n",
       "\t29 & 0.00171334 & 25 & 100 & beta & NegBinomial Quasi-Copula \\\\\n",
       "\t30 & 0.000922155 & 25 & 100 & beta & NegBinomial Quasi-Copula \\\\\n",
       "\t$\\dots$ & $\\dots$ & $\\dots$ & $\\dots$ & $\\dots$ & $\\dots$ \\\\\n",
       "\\end{tabular}\n"
      ],
      "text/plain": [
       "\u001b[1m540×5 DataFrame\u001b[0m\n",
       "\u001b[1m Row \u001b[0m│\u001b[1m mse          \u001b[0m\u001b[1m obssize \u001b[0m\u001b[1m samplesize \u001b[0m\u001b[1m parameters \u001b[0m\u001b[1m robust                  \u001b[0m ⋯\n",
       "\u001b[1m     \u001b[0m│\u001b[90m Float64      \u001b[0m\u001b[90m String  \u001b[0m\u001b[90m String     \u001b[0m\u001b[90m String     \u001b[0m\u001b[90m String                  \u001b[0m ⋯\n",
       "─────┼──────────────────────────────────────────────────────────────────────────\n",
       "   1 │  0.00333324   2        100         beta        NegBinomial Quasi-Copula ⋯\n",
       "   2 │  0.00408972   2        100         beta        NegBinomial Quasi-Copula\n",
       "   3 │  0.00457845   2        100         beta        NegBinomial Quasi-Copula\n",
       "   4 │  0.00678895   2        100         beta        NegBinomial Quasi-Copula\n",
       "   5 │  0.00943784   2        100         beta        NegBinomial Quasi-Copula ⋯\n",
       "   6 │  0.00867752   5        100         beta        NegBinomial Quasi-Copula\n",
       "   7 │  0.00108991   5        100         beta        NegBinomial Quasi-Copula\n",
       "   8 │  0.00130847   5        100         beta        NegBinomial Quasi-Copula\n",
       "   9 │  0.00182908   5        100         beta        NegBinomial Quasi-Copula ⋯\n",
       "  10 │  0.000623797  5        100         beta        NegBinomial Quasi-Copula\n",
       "  11 │  0.000209514  10       100         beta        NegBinomial Quasi-Copula\n",
       "  ⋮  │      ⋮           ⋮         ⋮           ⋮                  ⋮             ⋱\n",
       " 531 │ 80.2076       20       10000       r           NegBinomial GLMM\n",
       " 532 │ 80.1563       20       10000       r           NegBinomial GLMM         ⋯\n",
       " 533 │ 80.1952       20       10000       r           NegBinomial GLMM\n",
       " 534 │ 80.2962       20       10000       r           NegBinomial GLMM\n",
       " 535 │ 80.1366       20       10000       r           NegBinomial GLMM\n",
       " 536 │ 80.2925       25       10000       r           NegBinomial GLMM         ⋯\n",
       " 537 │ 80.2424       25       10000       r           NegBinomial GLMM\n",
       " 538 │ 80.2491       25       10000       r           NegBinomial GLMM\n",
       " 539 │ 80.2058       25       10000       r           NegBinomial GLMM\n",
       " 540 │ 80.2859       25       10000       r           NegBinomial GLMM         ⋯\n",
       "\u001b[36m                                                               519 rows omitted\u001b[0m"
      ]
     },
     "execution_count": 31,
     "metadata": {},
     "output_type": "execute_result"
    }
   ],
   "source": [
    "#### \n",
    "#import data and reorganize to create figure\n",
    "using Random, DataFrames, DelimitedFiles, Statistics, RCall, Printf\n",
    "import StatsBase: sem\n",
    "\n",
    "βMseresult = vec(readdlm(\"mse_beta_multivariate_NB_vcm$(nsims)reps_sim.csv\", ','))\n",
    "θMseresult = vec(readdlm(\"mse_Sigma_multivariate_NB_vcm$(nsims)reps_sim.csv\", ','))\n",
    "rMseresult =  vec(readdlm(\"mse_r_multivariate_NB_vcm$(nsims)reps_sim.csv\", ','))\n",
    "\n",
    "βMseresult_GLMM = vec(readdlm(\"mse_beta_GLMM_multivariate_NB_vcm$(nsims)reps_sim.csv\", ','))\n",
    "θMseresult_GLMM = vec(readdlm(\"mse_Sigma_GLMM_multivariate_NB_vcm$(nsims)reps_sim.csv\", ','))\n",
    "rMseresult_GLMM =  vec(readdlm(\"mse_r_GLMMmultivariate_NB_vcm$(nsims)reps_sim.csv\", ','))\n",
    "\n",
    "\n",
    "p = 3; m = 1\n",
    "sample_sizes = repeat(string.(samplesizes), inner = nsims * length(ns))\n",
    "obs_sizes = repeat(string.(ns), inner = nsims, outer = length(samplesizes))\n",
    "msedf1 = DataFrame(βmse = βMseresult, thetamse = θMseresult, rmse = rMseresult,\n",
    "    samplesize = sample_sizes, obssize = obs_sizes)\n",
    "\n",
    "msedf2 = DataFrame(βmse = βMseresult_GLMM, thetamse = θMseresult_GLMM, rmse = rMseresult_GLMM,\n",
    "    samplesize = sample_sizes, obssize = obs_sizes)\n",
    "\n",
    "#rename to make parsing easier for R.\n",
    "\n",
    "msedf1 = deepcopy(msedf1)\n",
    "rename!(msedf1, [\"betamse\"\n",
    "    \"thetamse\"\n",
    "        \"rmse\"\n",
    "    \"samplesize\"\n",
    " \"obssize\"]);\n",
    "\n",
    "msedf2 = deepcopy(msedf2)\n",
    "rename!(msedf2, [\"betamse\"\n",
    "    \"thetamse\"\n",
    "        \"rmse\"\n",
    "    \"samplesize\"\n",
    " \"obssize\"]);\n",
    "\n",
    "mses = [msedf1[!, :betamse]; msedf1[!, :thetamse];msedf1[!, :rmse]; msedf2[!, :betamse]; msedf2[!, :thetamse]; msedf2[!, :rmse]]\n",
    "    # msedfnormR[!, :betamse]; msedfnormR[!, :taumse]; msedfnormR[!, :Sigmamse]]\n",
    "obssize = [collect([repeat(msedf1[!, :obssize], 3)]...) ; collect([repeat(msedf2[!, :obssize], 3)]...)]\n",
    "#40\n",
    "samplesize = [collect([repeat(msedf1[!, :samplesize], 3)]...) ; collect([repeat(msedf2[!, :samplesize], 3)]...)]\n",
    "\n",
    "parameters = [collect([repeat(string.([:beta, :theta, :r]), inner = nsims * length(ns) * length(samplesizes))]...) ; collect([repeat(string.([:beta, :theta, :r]), inner = nsims * length(ns) * length(samplesizes))]...)]\n",
    "robust = [collect([repeat([\"NegBinomial Quasi-Copula\"], 3 * nsims * length(ns) * length(samplesizes))]...); collect([repeat([\"NegBinomial GLMM\"],  3 * nsims * length(ns) * length(samplesizes))]...)]\n",
    "\n",
    "msedfR = DataFrame(mse = mses, obssize = obssize, samplesize = samplesize,\n",
    "    parameters = parameters, robust = robust)\n",
    "\n",
    "#5 of the 30,000 simulations did not converge, filter out\n",
    "msedfR = filter(x -> !isnan(x.mse), msedfR)\n",
    "# additionally, there are 5 where an error was not caught so it did not try a differnt solver\n",
    "msedfR = filter(x -> x.mse < 40000, msedfR)"
   ]
  },
  {
   "cell_type": "code",
   "execution_count": 32,
   "metadata": {},
   "outputs": [
    {
     "data": {
      "image/png": "[encoded data removed]"
     },
     "metadata": {},
     "output_type": "display_data"
    },
    {
     "data": {
      "text/plain": [
       "RObject{VecSxp}\n"
      ]
     },
     "execution_count": 32,
     "metadata": {},
     "output_type": "execute_result"
    }
   ],
   "source": [
    "### working on figure next\n",
    "@rput msedfR\n",
    "\n",
    "R\"\"\"\n",
    "library(scales)\n",
    "library(ggplot2)\n",
    "library(data.table)\n",
    "\n",
    "msedfR = data.table(msedfR)\n",
    "\n",
    "msedfR[parameters == \"beta\",y_min := 10^-4]\n",
    "msedfR[parameters == \"beta\",y_max := 10^0]\n",
    "msedfR[parameters == \"theta\",y_min := 10^-4]\n",
    "msedfR[parameters == \"theta\",y_max := 10^1]\n",
    "msedfR[parameters == \"r\", y_min := 10^-3]\n",
    "msedfR[parameters == \"r\", y_max := 10^3]\n",
    "\n",
    "#msedfR[parameters == \"beta\",y_min := 10^-8]\n",
    "#msedfR[parameters == \"beta\",y_max := 10^-2]\n",
    "#msedfR[parameters == \"tau\",y_min := 10^-8]\n",
    "#msedfR[parameters == \"tau\",y_max := 10^-2]\n",
    "#msedfR[parameters == \"Sigma\",y_min := 10^-5]\n",
    "#msedfR[parameters == \"Sigma\",y_max := 10^-2]\n",
    "\n",
    "\n",
    "msedfR$obssize = factor(msedfR$obssize, levels = c('2', '5', '10', '15', '20', '25'))\n",
    "msedfR$samplesize = factor(msedfR$samplesize, levels = c('100', '1000', '10000'))\n",
    "msedfR$parameters = factor(msedfR$parameters, levels = c('beta', 'theta', 'r'), labels = c(beta = expression(hat(bold(beta))), theta = expression(hat(bold(theta))[]), r = expression(hat(bold(r))[])))\n",
    "msedfR$robust <- factor(msedfR$robust, levels = c('NegBinomial Quasi-Copula', 'NegBinomial GLMM'),\n",
    "    labels = c(expression(paste(\"NegBinomial Quasi-Copula\")), expression(paste(\"NegBinomial GLMM\"))))\n",
    "\n",
    "\n",
    "#mseplot <- ggplot(msedfR[msedfR$mse < 10^0, ], aes(x=samplesize, y=mse, fill=obssize)) + \n",
    "mseplot = ggplot(msedfR[msedfR$mse < 10^3, ], aes(x=samplesize, y=mse, fill=obssize)) + \n",
    "  #geom_boxplot(outlier.size = 0.0, outlier.alpha = 0) +\n",
    "  geom_boxplot(outlier.size = 0.25) +\n",
    "#    geom_violin() +\n",
    "    facet_grid(parameters ~ robust, labeller = label_parsed, scales = \"free_y\") +\n",
    "  theme(legend.position=\"right\", legend.key = element_blank(), axis.text.x = element_text(angle=0, size=15),\n",
    "        axis.text.y = element_text(angle=0, size=15), axis.title.x = element_text(size = 20), \n",
    "        axis.title.y = element_text(size = 20), legend.title = element_text(size = 20),\n",
    "        panel.grid.major = element_blank(), panel.grid.minor = element_blank(),\n",
    "        legend.text=element_text(size=15), panel.background = element_rect(fill = NA, color = \"black\"),\n",
    "        #panel.background = element_blank(), #panel.border = element_blank(),\n",
    "        axis.line = element_line(color = 'black',size=0.3), plot.title = element_text(hjust = 0.5),\n",
    "        strip.background = element_rect(colour=\"black\", fill=\"white\"), strip.text.y = element_text(size=30, face=\"bold\"),\n",
    "        strip.text.x = element_text(size=20)) + \n",
    "  scale_fill_manual(values = c(\"#c85f55\",\n",
    "\"#a964bf\",\n",
    "\"#8db352\",\n",
    "\"#fa7300\",\n",
    "\"#05aec0\",\n",
    "\"#ff1493\")) +\n",
    "#scale_y_log10(breaks = scales::trans_breaks(\"log10\", function(x) 10^x)) +\n",
    "#scale_y_log10(breaks = 10^(-8:8), limit=c(10^-8, 10^2)) + \n",
    "scale_y_log10(breaks = 10^seq(-10, 10, 2), labels=trans_format(\"log10\", math_format(10^.x))) + #, limit=c(10^-8, 10^2)) +\n",
    "  labs(x = \"Sample Size\", y = \"MSE of Parameter Estimates\", fill = \"Cluster Size\") +\n",
    "geom_blank(aes(y = y_max)) + \n",
    "geom_blank(aes(y = y_min)) \n",
    "\"\"\""
   ]
  },
  {
   "cell_type": "code",
   "execution_count": 33,
   "metadata": {},
   "outputs": [
    {
     "data": {
      "text/plain": [
       "RObject{StrSxp}\n",
       "[1] \"sim_glmm_updated_msefacetplot_nb2.png\"\n"
      ]
     },
     "execution_count": 33,
     "metadata": {},
     "output_type": "execute_result"
    }
   ],
   "source": [
    "R\"\"\"\n",
    "ggsave('sim_glmm_updated_msefacetplot_nb2.png', mseplot, width = 12.5, height = 15, units = 'in', dpi = 450)\n",
    "\"\"\""
   ]
  },
  {
   "cell_type": "code",
   "execution_count": null,
   "metadata": {},
   "outputs": [],
   "source": []
  }
 ],
 "metadata": {
  "@webio": {
   "lastCommId": null,
   "lastKernelId": null
  },
  "kernelspec": {
   "display_name": "Julia 1.6.2",
   "language": "julia",
   "name": "julia-1.6"
  },
  "language_info": {
   "file_extension": ".jl",
   "mimetype": "application/julia",
   "name": "julia",
   "version": "1.6.2"
  }
 },
 "nbformat": 4,
 "nbformat_minor": 2
}
