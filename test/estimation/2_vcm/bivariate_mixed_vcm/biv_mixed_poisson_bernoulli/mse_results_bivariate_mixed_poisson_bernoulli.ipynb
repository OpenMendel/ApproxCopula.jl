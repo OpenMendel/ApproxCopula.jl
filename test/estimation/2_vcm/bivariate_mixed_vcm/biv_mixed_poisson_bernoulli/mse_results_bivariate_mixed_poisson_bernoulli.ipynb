{
 "cells": [
  {
   "cell_type": "markdown",
   "metadata": {},
   "source": [
    "## Bivariate Mixed Outcome Model: Poisson and Bernoulli VC Run-time and MSE Results \n",
    "\n",
    "In this example, $y_{i1} \\sim Poisson(\\mu_{i1}(\\mathbf{\\beta_1}))$ and $y_{i2} \\sim Bernoulli(\\mu_{i2}(\\mathbf{\\beta_2}))$\n",
    "\n",
    "We simulate three fixed effects for each outcome, $\\beta_1 \\sim rand(p)$ and $\\beta_2 \\sim$ rand(Uniform(-0.2, 0.2), p) where p = 3 fixed effects.\n",
    "\n",
    "In this example we have Poisson and Bernoulli base distribution with Log and Logit Link functions and covariance matrix $\\Gamma$ structured under VC covariance with $\\theta = 0.1$\n",
    "\n",
    "We run each scenario 100 times."
   ]
  },
  {
   "cell_type": "code",
   "execution_count": 1,
   "metadata": {},
   "outputs": [
    {
     "name": "stdout",
     "output_type": "stream",
     "text": [
      "Julia Version 1.6.2\n",
      "Commit 1b93d53fc4 (2021-07-14 15:36 UTC)\n",
      "Platform Info:\n",
      "  OS: macOS (x86_64-apple-darwin18.7.0)\n",
      "  CPU: Intel(R) Core(TM) i9-9880H CPU @ 2.30GHz\n",
      "  WORD_SIZE: 64\n",
      "  LIBM: libopenlibm\n",
      "  LLVM: libLLVM-11.0.1 (ORCJIT, skylake)\n"
     ]
    }
   ],
   "source": [
    "versioninfo()"
   ]
  },
  {
   "cell_type": "code",
   "execution_count": 2,
   "metadata": {},
   "outputs": [
    {
     "name": "stderr",
     "output_type": "stream",
     "text": [
      "┌ Info: Precompiling GLMCopula [c47b6ae2-b804-4668-9957-eb588c99ffbc]\n",
      "└ @ Base loading.jl:1342\n"
     ]
    }
   ],
   "source": [
    "using GLMCopula, DelimitedFiles, LinearAlgebra, Random, GLM\n",
    "using Random, Roots, SpecialFunctions, DataFrames"
   ]
  },
  {
   "cell_type": "code",
   "execution_count": 3,
   "metadata": {},
   "outputs": [
    {
     "data": {
      "text/plain": [
       "100"
      ]
     },
     "execution_count": 3,
     "metadata": {},
     "output_type": "execute_result"
    }
   ],
   "source": [
    "p  = 3    # number of fixed effects, including intercept\n",
    "\n",
    "# true parameter values\n",
    "Random.seed!(12345)\n",
    "# β1true = rand(Uniform(-0.2, 0.2), p)\n",
    "β1true = rand(p)\n",
    "Random.seed!(1234)\n",
    "β2true = rand(Uniform(-0.2, 0.2), p)\n",
    "βtrue = [β1true; β2true]\n",
    "θtrue = [0.1]\n",
    "\n",
    "# generate data\n",
    "trueparams = [βtrue; θtrue] #hold true parameters\n",
    "\n",
    "#simulation parameters\n",
    "samplesizes = [100; 1000; 10000]\n",
    "ns = [2]\n",
    "nsims = 100"
   ]
  },
  {
   "cell_type": "code",
   "execution_count": 4,
   "metadata": {},
   "outputs": [
    {
     "name": "stderr",
     "output_type": "stream",
     "text": [
      "┌ Info: reading in the files with results\n",
      "└ @ Main In[4]:1\n"
     ]
    },
    {
     "data": {
      "text/plain": [
       "300-element Vector{Float64}:\n",
       " 0.216490901\n",
       " 0.202812125\n",
       " 0.078881281\n",
       " 0.090183782\n",
       " 0.083299738\n",
       " 0.121866027\n",
       " 0.175867272\n",
       " 0.118578357\n",
       " 0.126995067\n",
       " 0.132422659\n",
       " 0.173973425\n",
       " 0.150916233\n",
       " 0.172874152\n",
       " ⋮\n",
       " 4.367453789\n",
       " 4.060357754\n",
       " 5.714808297\n",
       " 5.352851842\n",
       " 5.165841041\n",
       " 5.149139985\n",
       " 2.186308447\n",
       " 3.929556019\n",
       " 5.130852982\n",
       " 4.371689096\n",
       " 2.43182499\n",
       " 5.672430159"
      ]
     },
     "execution_count": 4,
     "metadata": {},
     "output_type": "execute_result"
    }
   ],
   "source": [
    "@info \"reading in the files with results\"\n",
    "fittimes = vec(readdlm(\"fittimes_bivariate_mixed_poisson_bernoulli_vcm$(nsims)reps_sim.csv\", ','))"
   ]
  },
  {
   "cell_type": "code",
   "execution_count": 6,
   "metadata": {},
   "outputs": [
    {
     "name": "stderr",
     "output_type": "stream",
     "text": [
      "┌ Info: making results table\n",
      "└ @ Main In[6]:2\n"
     ]
    },
    {
     "data": {
      "text/html": [
       "<div class=\"data-frame\"><p>3 rows × 8 columns</p><table class=\"data-frame\"><thead><tr><th></th><th>samplesize</th><th>obssize</th><th>fittime</th><th>se</th><th>nobs</th><th>fitmin</th><th>fitmax</th><th>perobsratio</th></tr><tr><th></th><th title=\"String\">String</th><th title=\"String\">String</th><th title=\"Float64\">Float64</th><th title=\"Float64\">Float64</th><th title=\"Int64\">Int64</th><th title=\"Float64\">Float64</th><th title=\"Float64\">Float64</th><th title=\"Float64\">Float64</th></tr></thead><tbody><tr><th>1</th><td>100</td><td>2</td><td>0.155026</td><td>0.00519032</td><td>200</td><td>0.149836</td><td>0.160216</td><td>0.00077513</td></tr><tr><th>2</th><td>1000</td><td>2</td><td>0.412125</td><td>0.0110729</td><td>2000</td><td>0.401052</td><td>0.423198</td><td>0.000206062</td></tr><tr><th>3</th><td>10000</td><td>2</td><td>4.15631</td><td>0.121124</td><td>20000</td><td>4.03518</td><td>4.27743</td><td>0.000207815</td></tr></tbody></table></div>"
      ],
      "text/latex": [
       "\\begin{tabular}{r|cccccccc}\n",
       "\t& samplesize & obssize & fittime & se & nobs & fitmin & fitmax & perobsratio\\\\\n",
       "\t\\hline\n",
       "\t& String & String & Float64 & Float64 & Int64 & Float64 & Float64 & Float64\\\\\n",
       "\t\\hline\n",
       "\t1 & 100 & 2 & 0.155026 & 0.00519032 & 200 & 0.149836 & 0.160216 & 0.00077513 \\\\\n",
       "\t2 & 1000 & 2 & 0.412125 & 0.0110729 & 2000 & 0.401052 & 0.423198 & 0.000206062 \\\\\n",
       "\t3 & 10000 & 2 & 4.15631 & 0.121124 & 20000 & 4.03518 & 4.27743 & 0.000207815 \\\\\n",
       "\\end{tabular}\n"
      ],
      "text/plain": [
       "\u001b[1m3×8 DataFrame\u001b[0m\n",
       "\u001b[1m Row \u001b[0m│\u001b[1m samplesize \u001b[0m\u001b[1m obssize \u001b[0m\u001b[1m fittime  \u001b[0m\u001b[1m se         \u001b[0m\u001b[1m nobs  \u001b[0m\u001b[1m fitmin   \u001b[0m\u001b[1m fitmax   \u001b[0m\u001b[1m p\u001b[0m ⋯\n",
       "\u001b[1m     \u001b[0m│\u001b[90m String     \u001b[0m\u001b[90m String  \u001b[0m\u001b[90m Float64  \u001b[0m\u001b[90m Float64    \u001b[0m\u001b[90m Int64 \u001b[0m\u001b[90m Float64  \u001b[0m\u001b[90m Float64  \u001b[0m\u001b[90m F\u001b[0m ⋯\n",
       "─────┼──────────────────────────────────────────────────────────────────────────\n",
       "   1 │ 100         2        0.155026  0.00519032    200  0.149836  0.160216  0 ⋯\n",
       "   2 │ 1000        2        0.412125  0.0110729    2000  0.401052  0.423198  0\n",
       "   3 │ 10000       2        4.15631   0.121124    20000  4.03518   4.27743   0\n",
       "\u001b[36m                                                                1 column omitted\u001b[0m"
      ]
     },
     "execution_count": 6,
     "metadata": {},
     "output_type": "execute_result"
    }
   ],
   "source": [
    "#simulation parameters\n",
    "@info \"making results table\"\n",
    "sample_sizes = repeat(string.(samplesizes), inner = nsims * length(ns))\n",
    "obs_sizes = repeat(string.(ns), inner = nsims, outer = length(samplesizes))\n",
    "\n",
    "msedf = DataFrame(samplesize = sample_sizes, obssize = obs_sizes, fittimes = fittimes)\n",
    "timedf = combine(groupby(msedf, [:samplesize, :obssize]), :fittimes => mean => :fittime,\n",
    "    :fittimes => x -> (std(x)/sqrt(length(x))))\n",
    "rename!(timedf, Dict(:fittimes_function => \"se\"))\n",
    "timedf[!, :nobs] = Meta.parse.(timedf[!, :samplesize]) .* Meta.parse.(timedf[!, :obssize])\n",
    "timedf[!, :fitmin] = timedf[!, :fittime] - timedf[!, :se]\n",
    "timedf[!, :fitmax] = timedf[!, :fittime] + timedf[!, :se]\n",
    "timedf[!, :perobsratio] = timedf[!, :fittime] ./ timedf[!, :nobs]\n",
    "timedf"
   ]
  },
  {
   "cell_type": "code",
   "execution_count": 7,
   "metadata": {},
   "outputs": [
    {
     "name": "stderr",
     "output_type": "stream",
     "text": [
      "┌ Warning: RCall.jl: Warning: package ‘ggplot2’ was built under R version 4.0.2\n",
      "└ @ RCall /Users/sarahji/.julia/packages/RCall/iMDW2/src/io.jl:160\n"
     ]
    },
    {
     "data": {
      "image/png": "[encoded data removed]"
     },
     "metadata": {},
     "output_type": "display_data"
    },
    {
     "data": {
      "text/plain": [
       "RObject{VecSxp}\n"
      ]
     },
     "execution_count": 7,
     "metadata": {},
     "output_type": "execute_result"
    }
   ],
   "source": [
    "########### plot the runtimes\n",
    "using RCall\n",
    "@rput timedf\n",
    "\n",
    "R\"\"\"\n",
    "library(ggplot2)\n",
    "timedf$obssize = factor(timedf$obssize, levels = c('2'))\n",
    "timedf$samplesize = factor(timedf$samplesize, levels = c('100', '1000', '10000'))\n",
    "\n",
    "fittime_1 = ggplot(timedf, aes(x = samplesize, y = fittime, group = obssize, color = obssize)) + \n",
    "  geom_line() +\n",
    "  geom_point()+\n",
    "  geom_errorbar(aes(ymin=fitmin, ymax=fitmax), width=0.5, alpha = 0.8, position=position_dodge(0.005)) + \n",
    "  theme(legend.position=c(0.15,0.85), legend.key = element_blank(), axis.text.x = element_text(angle=0, size=13),\n",
    "        axis.text.y = element_text(angle=0, size=13), axis.title.x = element_text(size = 17), \n",
    "        axis.title.y = element_text(size = 17), legend.title = element_text(size = 14),\n",
    "        #axis.ticks = element_blank(),\n",
    "        panel.grid.major = element_blank(), legend.text=element_text(size=13),\n",
    "        panel.border = element_blank(), panel.grid.minor = element_blank(), panel.background = element_blank(), \n",
    "        axis.line = element_line(color = 'black',size=0.3), plot.title = element_text(hjust = 0.5)) + \n",
    "   scale_color_manual(values = c(\"#05aec0\")) +\n",
    "  labs(x = \"Number of Individuals\", y = \"Fit time (seconds)\", color = \"Cluster Size\")\n",
    "\"\"\""
   ]
  },
  {
   "cell_type": "code",
   "execution_count": 8,
   "metadata": {},
   "outputs": [
    {
     "data": {
      "text/plain": [
       "RObject{StrSxp}\n",
       "[1] \"fittime_nobs_biv_mixed_poisson_bernoulli.png\"\n"
      ]
     },
     "execution_count": 8,
     "metadata": {},
     "output_type": "execute_result"
    }
   ],
   "source": [
    "R\"\"\"\n",
    "ggsave('fittime_nobs_biv_mixed_poisson_bernoulli.png', fittime_1, width = 12.5, height = 15, units = 'in', dpi = 450)\n",
    "\"\"\""
   ]
  },
  {
   "cell_type": "code",
   "execution_count": 9,
   "metadata": {},
   "outputs": [
    {
     "data": {
      "text/html": [
       "<div class=\"data-frame\"><p>3 rows × 8 columns (omitted printing of 3 columns)</p><table class=\"data-frame\"><thead><tr><th></th><th>people_obs</th><th>β1</th><th>β2</th><th>β3</th><th>β4</th></tr><tr><th></th><th title=\"String\">String</th><th title=\"Tuple{Float64, Float64}\">Tuple…</th><th title=\"Tuple{Float64, Float64}\">Tuple…</th><th title=\"Tuple{Float64, Float64}\">Tuple…</th><th title=\"Tuple{Float64, Float64}\">Tuple…</th></tr></thead><tbody><tr><th>1</th><td>N: 100  ni: 2</td><td>(0.66, 0.0476095)</td><td>(0.69, 0.0464823)</td><td>(0.72, 0.0451261)</td><td>(0.71, 0.0456048)</td></tr><tr><th>2</th><td>N: 1000  ni: 2</td><td>(0.62, 0.0487832)</td><td>(0.77, 0.0422953)</td><td>(0.75, 0.0435194)</td><td>(0.6, 0.0492366)</td></tr><tr><th>3</th><td>N: 10000  ni: 2</td><td>(0.74, 0.0440844)</td><td>(0.85, 0.035887)</td><td>(0.83, 0.0377525)</td><td>(0.74, 0.0440844)</td></tr></tbody></table></div>"
      ],
      "text/latex": [
       "\\begin{tabular}{r|cccccc}\n",
       "\t& people\\_obs & β1 & β2 & β3 & β4 & \\\\\n",
       "\t\\hline\n",
       "\t& String & Tuple… & Tuple… & Tuple… & Tuple… & \\\\\n",
       "\t\\hline\n",
       "\t1 & N: 100  ni: 2 & (0.66, 0.0476095) & (0.69, 0.0464823) & (0.72, 0.0451261) & (0.71, 0.0456048) & $\\dots$ \\\\\n",
       "\t2 & N: 1000  ni: 2 & (0.62, 0.0487832) & (0.77, 0.0422953) & (0.75, 0.0435194) & (0.6, 0.0492366) & $\\dots$ \\\\\n",
       "\t3 & N: 10000  ni: 2 & (0.74, 0.0440844) & (0.85, 0.035887) & (0.83, 0.0377525) & (0.74, 0.0440844) & $\\dots$ \\\\\n",
       "\\end{tabular}\n"
      ],
      "text/plain": [
       "\u001b[1m3×8 DataFrame\u001b[0m\n",
       "\u001b[1m Row \u001b[0m│\u001b[1m people_obs      \u001b[0m\u001b[1m β1                \u001b[0m\u001b[1m β2                \u001b[0m\u001b[1m β3              \u001b[0m ⋯\n",
       "\u001b[1m     \u001b[0m│\u001b[90m String          \u001b[0m\u001b[90m Tuple…            \u001b[0m\u001b[90m Tuple…            \u001b[0m\u001b[90m Tuple…          \u001b[0m ⋯\n",
       "─────┼──────────────────────────────────────────────────────────────────────────\n",
       "   1 │ N: 100  ni: 2    (0.66, 0.0476095)  (0.69, 0.0464823)  (0.72, 0.0451261 ⋯\n",
       "   2 │ N: 1000  ni: 2   (0.62, 0.0487832)  (0.77, 0.0422953)  (0.75, 0.0435194\n",
       "   3 │ N: 10000  ni: 2  (0.74, 0.0440844)  (0.85, 0.035887)   (0.83, 0.0377525\n",
       "\u001b[36m                                                               5 columns omitted\u001b[0m"
      ]
     },
     "execution_count": 9,
     "metadata": {},
     "output_type": "execute_result"
    }
   ],
   "source": [
    "######  supplementary table s1\n",
    "using Random, DataFrames, DelimitedFiles, Statistics\n",
    "import StatsBase: sem\n",
    "\n",
    "βθcoverage = readdlm(\"beta_sigma_coverage_bivariate_mixed_poisson_bernoulli_vcm$(nsims)reps_sim.csv\", ',')\n",
    "\n",
    "m = 1\n",
    "\n",
    "covdf = DataFrame(Matrix(transpose(βθcoverage)), :auto)\n",
    "rename!(covdf, Symbol.([[\"β$i\" for i in 1:2p]; [\"θ\"]]))\n",
    "covdf[!, :samplesize] = sample_sizes\n",
    "covdf[!, :obssize] = obs_sizes\n",
    "first(covdf, 10)\n",
    "\n",
    "row_stats = [[(mean(col), sem(col)) for col = eachcol(d[!, 1:end-2])] for d = groupby(covdf, [:samplesize; :obssize])]\n",
    "df = DataFrame(row_stats, :auto)\n",
    "ss_obs = unique(\"N: \" .* sample_sizes .* \"  ni: \" .* obs_sizes)\n",
    "rename!(df, Symbol.(ss_obs))\n",
    "covdfdisplay = DataFrame([[names(df)]; collect.(eachrow(df))], \n",
    "    [:people_obs; Symbol.([[\"β$i\" for i in 1:2p]; [\"θ\"]])])\n",
    "# deletecols!(covdfdisplay, p + 2)\n",
    "covdfdisplay\n"
   ]
  },
  {
   "cell_type": "code",
   "execution_count": 11,
   "metadata": {},
   "outputs": [
    {
     "data": {
      "text/html": [
       "<div class=\"data-frame\"><p>600 rows × 5 columns</p><table class=\"data-frame\"><thead><tr><th></th><th>mse</th><th>obssize</th><th>samplesize</th><th>parameters</th><th>robust</th></tr><tr><th></th><th title=\"Float64\">Float64</th><th title=\"String\">String</th><th title=\"String\">String</th><th title=\"String\">String</th><th title=\"String\">String</th></tr></thead><tbody><tr><th>1</th><td>0.0087518</td><td>2</td><td>100</td><td>beta</td><td>Bivariate Mixed Poisson Bernoulli Quasi-Copula</td></tr><tr><th>2</th><td>0.02544</td><td>2</td><td>100</td><td>beta</td><td>Bivariate Mixed Poisson Bernoulli Quasi-Copula</td></tr><tr><th>3</th><td>0.00936419</td><td>2</td><td>100</td><td>beta</td><td>Bivariate Mixed Poisson Bernoulli Quasi-Copula</td></tr><tr><th>4</th><td>0.0180862</td><td>2</td><td>100</td><td>beta</td><td>Bivariate Mixed Poisson Bernoulli Quasi-Copula</td></tr><tr><th>5</th><td>0.0172789</td><td>2</td><td>100</td><td>beta</td><td>Bivariate Mixed Poisson Bernoulli Quasi-Copula</td></tr><tr><th>6</th><td>0.022133</td><td>2</td><td>100</td><td>beta</td><td>Bivariate Mixed Poisson Bernoulli Quasi-Copula</td></tr><tr><th>7</th><td>0.0204837</td><td>2</td><td>100</td><td>beta</td><td>Bivariate Mixed Poisson Bernoulli Quasi-Copula</td></tr><tr><th>8</th><td>0.00486729</td><td>2</td><td>100</td><td>beta</td><td>Bivariate Mixed Poisson Bernoulli Quasi-Copula</td></tr><tr><th>9</th><td>0.0408581</td><td>2</td><td>100</td><td>beta</td><td>Bivariate Mixed Poisson Bernoulli Quasi-Copula</td></tr><tr><th>10</th><td>0.022005</td><td>2</td><td>100</td><td>beta</td><td>Bivariate Mixed Poisson Bernoulli Quasi-Copula</td></tr><tr><th>11</th><td>0.00946567</td><td>2</td><td>100</td><td>beta</td><td>Bivariate Mixed Poisson Bernoulli Quasi-Copula</td></tr><tr><th>12</th><td>0.0352283</td><td>2</td><td>100</td><td>beta</td><td>Bivariate Mixed Poisson Bernoulli Quasi-Copula</td></tr><tr><th>13</th><td>0.0358223</td><td>2</td><td>100</td><td>beta</td><td>Bivariate Mixed Poisson Bernoulli Quasi-Copula</td></tr><tr><th>14</th><td>0.010598</td><td>2</td><td>100</td><td>beta</td><td>Bivariate Mixed Poisson Bernoulli Quasi-Copula</td></tr><tr><th>15</th><td>0.0253047</td><td>2</td><td>100</td><td>beta</td><td>Bivariate Mixed Poisson Bernoulli Quasi-Copula</td></tr><tr><th>16</th><td>0.00553487</td><td>2</td><td>100</td><td>beta</td><td>Bivariate Mixed Poisson Bernoulli Quasi-Copula</td></tr><tr><th>17</th><td>0.113537</td><td>2</td><td>100</td><td>beta</td><td>Bivariate Mixed Poisson Bernoulli Quasi-Copula</td></tr><tr><th>18</th><td>0.0355215</td><td>2</td><td>100</td><td>beta</td><td>Bivariate Mixed Poisson Bernoulli Quasi-Copula</td></tr><tr><th>19</th><td>0.0181529</td><td>2</td><td>100</td><td>beta</td><td>Bivariate Mixed Poisson Bernoulli Quasi-Copula</td></tr><tr><th>20</th><td>0.0222646</td><td>2</td><td>100</td><td>beta</td><td>Bivariate Mixed Poisson Bernoulli Quasi-Copula</td></tr><tr><th>21</th><td>0.0373926</td><td>2</td><td>100</td><td>beta</td><td>Bivariate Mixed Poisson Bernoulli Quasi-Copula</td></tr><tr><th>22</th><td>0.0284187</td><td>2</td><td>100</td><td>beta</td><td>Bivariate Mixed Poisson Bernoulli Quasi-Copula</td></tr><tr><th>23</th><td>0.0131862</td><td>2</td><td>100</td><td>beta</td><td>Bivariate Mixed Poisson Bernoulli Quasi-Copula</td></tr><tr><th>24</th><td>0.0136651</td><td>2</td><td>100</td><td>beta</td><td>Bivariate Mixed Poisson Bernoulli Quasi-Copula</td></tr><tr><th>25</th><td>0.0258502</td><td>2</td><td>100</td><td>beta</td><td>Bivariate Mixed Poisson Bernoulli Quasi-Copula</td></tr><tr><th>26</th><td>0.0219779</td><td>2</td><td>100</td><td>beta</td><td>Bivariate Mixed Poisson Bernoulli Quasi-Copula</td></tr><tr><th>27</th><td>0.00782117</td><td>2</td><td>100</td><td>beta</td><td>Bivariate Mixed Poisson Bernoulli Quasi-Copula</td></tr><tr><th>28</th><td>0.0175629</td><td>2</td><td>100</td><td>beta</td><td>Bivariate Mixed Poisson Bernoulli Quasi-Copula</td></tr><tr><th>29</th><td>0.0277271</td><td>2</td><td>100</td><td>beta</td><td>Bivariate Mixed Poisson Bernoulli Quasi-Copula</td></tr><tr><th>30</th><td>0.0118707</td><td>2</td><td>100</td><td>beta</td><td>Bivariate Mixed Poisson Bernoulli Quasi-Copula</td></tr><tr><th>&vellip;</th><td>&vellip;</td><td>&vellip;</td><td>&vellip;</td><td>&vellip;</td><td>&vellip;</td></tr></tbody></table></div>"
      ],
      "text/latex": [
       "\\begin{tabular}{r|ccccc}\n",
       "\t& mse & obssize & samplesize & parameters & robust\\\\\n",
       "\t\\hline\n",
       "\t& Float64 & String & String & String & String\\\\\n",
       "\t\\hline\n",
       "\t1 & 0.0087518 & 2 & 100 & beta & Bivariate Mixed Poisson Bernoulli Quasi-Copula \\\\\n",
       "\t2 & 0.02544 & 2 & 100 & beta & Bivariate Mixed Poisson Bernoulli Quasi-Copula \\\\\n",
       "\t3 & 0.00936419 & 2 & 100 & beta & Bivariate Mixed Poisson Bernoulli Quasi-Copula \\\\\n",
       "\t4 & 0.0180862 & 2 & 100 & beta & Bivariate Mixed Poisson Bernoulli Quasi-Copula \\\\\n",
       "\t5 & 0.0172789 & 2 & 100 & beta & Bivariate Mixed Poisson Bernoulli Quasi-Copula \\\\\n",
       "\t6 & 0.022133 & 2 & 100 & beta & Bivariate Mixed Poisson Bernoulli Quasi-Copula \\\\\n",
       "\t7 & 0.0204837 & 2 & 100 & beta & Bivariate Mixed Poisson Bernoulli Quasi-Copula \\\\\n",
       "\t8 & 0.00486729 & 2 & 100 & beta & Bivariate Mixed Poisson Bernoulli Quasi-Copula \\\\\n",
       "\t9 & 0.0408581 & 2 & 100 & beta & Bivariate Mixed Poisson Bernoulli Quasi-Copula \\\\\n",
       "\t10 & 0.022005 & 2 & 100 & beta & Bivariate Mixed Poisson Bernoulli Quasi-Copula \\\\\n",
       "\t11 & 0.00946567 & 2 & 100 & beta & Bivariate Mixed Poisson Bernoulli Quasi-Copula \\\\\n",
       "\t12 & 0.0352283 & 2 & 100 & beta & Bivariate Mixed Poisson Bernoulli Quasi-Copula \\\\\n",
       "\t13 & 0.0358223 & 2 & 100 & beta & Bivariate Mixed Poisson Bernoulli Quasi-Copula \\\\\n",
       "\t14 & 0.010598 & 2 & 100 & beta & Bivariate Mixed Poisson Bernoulli Quasi-Copula \\\\\n",
       "\t15 & 0.0253047 & 2 & 100 & beta & Bivariate Mixed Poisson Bernoulli Quasi-Copula \\\\\n",
       "\t16 & 0.00553487 & 2 & 100 & beta & Bivariate Mixed Poisson Bernoulli Quasi-Copula \\\\\n",
       "\t17 & 0.113537 & 2 & 100 & beta & Bivariate Mixed Poisson Bernoulli Quasi-Copula \\\\\n",
       "\t18 & 0.0355215 & 2 & 100 & beta & Bivariate Mixed Poisson Bernoulli Quasi-Copula \\\\\n",
       "\t19 & 0.0181529 & 2 & 100 & beta & Bivariate Mixed Poisson Bernoulli Quasi-Copula \\\\\n",
       "\t20 & 0.0222646 & 2 & 100 & beta & Bivariate Mixed Poisson Bernoulli Quasi-Copula \\\\\n",
       "\t21 & 0.0373926 & 2 & 100 & beta & Bivariate Mixed Poisson Bernoulli Quasi-Copula \\\\\n",
       "\t22 & 0.0284187 & 2 & 100 & beta & Bivariate Mixed Poisson Bernoulli Quasi-Copula \\\\\n",
       "\t23 & 0.0131862 & 2 & 100 & beta & Bivariate Mixed Poisson Bernoulli Quasi-Copula \\\\\n",
       "\t24 & 0.0136651 & 2 & 100 & beta & Bivariate Mixed Poisson Bernoulli Quasi-Copula \\\\\n",
       "\t25 & 0.0258502 & 2 & 100 & beta & Bivariate Mixed Poisson Bernoulli Quasi-Copula \\\\\n",
       "\t26 & 0.0219779 & 2 & 100 & beta & Bivariate Mixed Poisson Bernoulli Quasi-Copula \\\\\n",
       "\t27 & 0.00782117 & 2 & 100 & beta & Bivariate Mixed Poisson Bernoulli Quasi-Copula \\\\\n",
       "\t28 & 0.0175629 & 2 & 100 & beta & Bivariate Mixed Poisson Bernoulli Quasi-Copula \\\\\n",
       "\t29 & 0.0277271 & 2 & 100 & beta & Bivariate Mixed Poisson Bernoulli Quasi-Copula \\\\\n",
       "\t30 & 0.0118707 & 2 & 100 & beta & Bivariate Mixed Poisson Bernoulli Quasi-Copula \\\\\n",
       "\t$\\dots$ & $\\dots$ & $\\dots$ & $\\dots$ & $\\dots$ & $\\dots$ \\\\\n",
       "\\end{tabular}\n"
      ],
      "text/plain": [
       "\u001b[1m600×5 DataFrame\u001b[0m\n",
       "\u001b[1m Row \u001b[0m│\u001b[1m mse         \u001b[0m\u001b[1m obssize \u001b[0m\u001b[1m samplesize \u001b[0m\u001b[1m parameters \u001b[0m\u001b[1m robust                   \u001b[0m ⋯\n",
       "\u001b[1m     \u001b[0m│\u001b[90m Float64     \u001b[0m\u001b[90m String  \u001b[0m\u001b[90m String     \u001b[0m\u001b[90m String     \u001b[0m\u001b[90m String                   \u001b[0m ⋯\n",
       "─────┼──────────────────────────────────────────────────────────────────────────\n",
       "   1 │ 0.0087518    2        100         beta        Bivariate Mixed Poisson B ⋯\n",
       "   2 │ 0.02544      2        100         beta        Bivariate Mixed Poisson B\n",
       "   3 │ 0.00936419   2        100         beta        Bivariate Mixed Poisson B\n",
       "   4 │ 0.0180862    2        100         beta        Bivariate Mixed Poisson B\n",
       "   5 │ 0.0172789    2        100         beta        Bivariate Mixed Poisson B ⋯\n",
       "   6 │ 0.022133     2        100         beta        Bivariate Mixed Poisson B\n",
       "   7 │ 0.0204837    2        100         beta        Bivariate Mixed Poisson B\n",
       "   8 │ 0.00486729   2        100         beta        Bivariate Mixed Poisson B\n",
       "   9 │ 0.0408581    2        100         beta        Bivariate Mixed Poisson B ⋯\n",
       "  10 │ 0.022005     2        100         beta        Bivariate Mixed Poisson B\n",
       "  11 │ 0.00946567   2        100         beta        Bivariate Mixed Poisson B\n",
       "  ⋮  │      ⋮          ⋮         ⋮           ⋮                       ⋮         ⋱\n",
       " 591 │ 1.52658e-5   2        10000       theta       Bivariate Mixed Poisson B\n",
       " 592 │ 4.43625e-5   2        10000       theta       Bivariate Mixed Poisson B ⋯\n",
       " 593 │ 4.2688e-5    2        10000       theta       Bivariate Mixed Poisson B\n",
       " 594 │ 2.07229e-5   2        10000       theta       Bivariate Mixed Poisson B\n",
       " 595 │ 4.32863e-5   2        10000       theta       Bivariate Mixed Poisson B\n",
       " 596 │ 1.38038e-5   2        10000       theta       Bivariate Mixed Poisson B ⋯\n",
       " 597 │ 1.38342e-6   2        10000       theta       Bivariate Mixed Poisson B\n",
       " 598 │ 1.90855e-5   2        10000       theta       Bivariate Mixed Poisson B\n",
       " 599 │ 2.0836e-5    2        10000       theta       Bivariate Mixed Poisson B\n",
       " 600 │ 9.31986e-5   2        10000       theta       Bivariate Mixed Poisson B ⋯\n",
       "\u001b[36m                                                   1 column and 579 rows omitted\u001b[0m"
      ]
     },
     "execution_count": 11,
     "metadata": {},
     "output_type": "execute_result"
    }
   ],
   "source": [
    "#### \n",
    "#import data and reorganize to create figure\n",
    "using Random, DataFrames, DelimitedFiles, Statistics, RCall, Printf\n",
    "import StatsBase: sem\n",
    "\n",
    "βMseresult_1 = vec(readdlm(\"mse_beta_bivariate_mixed_poisson_bernoulli_vcm$(nsims)reps_sim.csv\", ','))\n",
    "θMseResult_1 = vec(readdlm(\"mse_Sigma_bivariate_mixed_poisson_bernoulli_vcm$(nsims)reps_sim.csv\", ','))\n",
    "βθcoverage_1 = readdlm(\"beta_sigma_coverage_bivariate_mixed_poisson_bernoulli_vcm$(nsims)reps_sim.csv\", ',')\n",
    "\n",
    "samplesizesrobust = samplesizes\n",
    "nsrobust = ns\n",
    "nsimsrobust = nsims\n",
    "\n",
    "p = 3\n",
    "sample_sizesrobust = repeat(string.(samplesizesrobust), inner = nsimsrobust * length(nsrobust))\n",
    "obs_sizesrobust = repeat(string.(nsrobust), inner = nsimsrobust, outer = length(samplesizesrobust))\n",
    "msedfrobust = DataFrame(βmse = βMseresult_1, thetamse = θMseResult_1,\n",
    "    samplesize = sample_sizesrobust, obssize = obs_sizesrobust)\n",
    "\n",
    "\n",
    "msedfrobustR = deepcopy(msedfrobust)\n",
    "rename!(msedfrobustR, [\"betamse\"\n",
    "    \"thetamse\"\n",
    "    \"samplesize\"\n",
    " \"obssize\"]);\n",
    "\n",
    "mses = [msedfrobustR[!, :betamse]; msedfrobustR[!, :thetamse]]\n",
    "    # msedfnormR[!, :betamse]; msedfnormR[!, :taumse]; msedfnormR[!, :Sigmamse]]\n",
    "obssize = collect([repeat(msedfrobustR[!, :obssize], 2)]...)\n",
    "\n",
    "samplesize = collect([repeat(msedfrobustR[!, :samplesize], 2)]...) \n",
    "\n",
    "parameters = collect([repeat(string.([:beta, :theta]), inner = nsimsrobust * length(nsrobust) * length(samplesizesrobust))]...)\n",
    "robust = collect([repeat([\"Bivariate Mixed Poisson Bernoulli Quasi-Copula\"], 2 * nsimsrobust * length(nsrobust) * length(samplesizesrobust))]...) # ;\n",
    "\n",
    "msedfR = DataFrame(mse = mses, obssize = obssize, samplesize = samplesize,\n",
    "    parameters = parameters, robust = robust)\n",
    "\n",
    "#5 of the 30,000 simulations did not converge, filter out\n",
    "msedfR = filter(x -> !isnan(x.mse), msedfR)\n",
    "# additionally, there are 5 where an error was not caught so it did not try a differnt solver\n",
    "msedfR = filter(x -> x.mse < 4000, msedfR)"
   ]
  },
  {
   "cell_type": "code",
   "execution_count": 13,
   "metadata": {},
   "outputs": [
    {
     "data": {
      "image/png": "[encoded data removed]"
     },
     "metadata": {},
     "output_type": "display_data"
    },
    {
     "data": {
      "text/plain": [
       "RObject{VecSxp}\n"
      ]
     },
     "execution_count": 13,
     "metadata": {},
     "output_type": "execute_result"
    }
   ],
   "source": [
    "### working on figure next\n",
    "@rput msedfR\n",
    "\n",
    "R\"\"\"\n",
    "library(scales)\n",
    "library(ggplot2)\n",
    "library(data.table)\n",
    "\n",
    "msedfR = data.table(msedfR)\n",
    "\n",
    "msedfR[parameters == \"beta\",y_min := 10^-6]\n",
    "msedfR[parameters == \"beta\",y_max := 10^0]\n",
    "msedfR[parameters == \"theta\",y_min := 10^-5]\n",
    "msedfR[parameters == \"theta\",y_max := 10^1]\n",
    "# msedfR[parameters == \"rho\",y_min := 10^-9]\n",
    "# msedfR[parameters == \"rho\",y_max := 10^-2]\n",
    "\n",
    "#msedfR[parameters == \"beta\",y_min := 10^-8]\n",
    "#msedfR[parameters == \"beta\",y_max := 10^-2]\n",
    "#msedfR[parameters == \"tau\",y_min := 10^-8]\n",
    "#msedfR[parameters == \"tau\",y_max := 10^-2]\n",
    "#msedfR[parameters == \"Sigma\",y_min := 10^-5]\n",
    "#msedfR[parameters == \"Sigma\",y_max := 10^-2]\n",
    "\n",
    "\n",
    "msedfR$obssize = factor(msedfR$obssize, levels = c('2'))\n",
    "msedfR$samplesize = factor(msedfR$samplesize, levels = c('100', '1000', '10000'))\n",
    "msedfR$parameters = factor(msedfR$parameters, levels = c('beta', 'theta'), labels = c(beta = expression(hat(bold(beta))), theta = expression(hat(bold(theta)))))\n",
    "msedfR$robust = factor(msedfR$robust, levels = c('Bivariate Mixed Poisson Bernoulli Quasi-Copula'),\n",
    "    labels = c(expression(paste(\"Bivariate Mixed Poisson Bernoulli Quasi-Copula\")))) # , expression(paste(\"MvT Gamma Inverse-Gamma\"))))\n",
    "\n",
    "\n",
    "#mseplot <- ggplot(msedfR[msedfR$mse < 10^0, ], aes(x=samplesize, y=mse, fill=obssize)) + \n",
    "mseplot = ggplot(msedfR[msedfR$mse < 10^3, ], aes(x=samplesize, y=mse, fill=obssize)) + \n",
    "  #geom_boxplot(outlier.size = 0.0, outlier.alpha = 0) +\n",
    "  geom_boxplot(outlier.size = 0.25) +\n",
    "#    geom_violin() +\n",
    "    facet_grid(parameters ~ robust, labeller = label_parsed, scales = \"free_y\") +\n",
    "  theme(legend.position=\"right\", legend.key = element_blank(), axis.text.x = element_text(angle=0, size=15),\n",
    "        axis.text.y = element_text(angle=0, size=15), axis.title.x = element_text(size = 20), \n",
    "        axis.title.y = element_text(size = 20), legend.title = element_text(size = 20),\n",
    "        panel.grid.major = element_blank(), panel.grid.minor = element_blank(),\n",
    "        legend.text=element_text(size=15), panel.background = element_rect(fill = NA, color = \"black\"),\n",
    "        #panel.background = element_blank(), #panel.border = element_blank(),\n",
    "        axis.line = element_line(color = 'black',size=0.3), plot.title = element_text(hjust = 0.5),\n",
    "        strip.background = element_rect(colour=\"black\", fill=\"white\"), strip.text.y = element_text(size=30, face=\"bold\"),\n",
    "        strip.text.x = element_text(size=20)) + \n",
    "  scale_fill_manual(values = c(\"#05aec0\")) +\n",
    "#scale_y_log10(breaks = scales::trans_breaks(\"log10\", function(x) 10^x)) +\n",
    "#scale_y_log10(breaks = 10^(-8:8), limit=c(10^-8, 10^2)) + \n",
    "scale_y_log10(breaks = 10^seq(-10, 10, 2), labels=trans_format(\"log10\", math_format(10^.x))) + #, limit=c(10^-8, 10^2)) +\n",
    "  labs(x = \"Sample Size\", y = \"MSE of Parameter Estimates\", fill = \"Cluster Size\") +\n",
    "geom_blank(aes(y = y_max)) + \n",
    "geom_blank(aes(y = y_min)) \n",
    "\n",
    "\"\"\""
   ]
  },
  {
   "cell_type": "code",
   "execution_count": 14,
   "metadata": {},
   "outputs": [
    {
     "data": {
      "text/plain": [
       "RObject{StrSxp}\n",
       "[1] \"updated_msefacetplot_biv_mixed_poisson_bernoulli.png\"\n"
      ]
     },
     "execution_count": 14,
     "metadata": {},
     "output_type": "execute_result"
    }
   ],
   "source": [
    "R\"\"\"\n",
    "ggsave('updated_msefacetplot_biv_mixed_poisson_bernoulli.png', mseplot, width = 12.5, height = 15, units = 'in', dpi = 450)\n",
    "\"\"\""
   ]
  },
  {
   "cell_type": "code",
   "execution_count": null,
   "metadata": {},
   "outputs": [],
   "source": []
  }
 ],
 "metadata": {
  "@webio": {
   "lastCommId": null,
   "lastKernelId": null
  },
  "kernelspec": {
   "display_name": "Julia 1.6.2",
   "language": "julia",
   "name": "julia-1.6"
  },
  "language_info": {
   "file_extension": ".jl",
   "mimetype": "application/julia",
   "name": "julia",
   "version": "1.6.2"
  }
 },
 "nbformat": 4,
 "nbformat_minor": 2
}
