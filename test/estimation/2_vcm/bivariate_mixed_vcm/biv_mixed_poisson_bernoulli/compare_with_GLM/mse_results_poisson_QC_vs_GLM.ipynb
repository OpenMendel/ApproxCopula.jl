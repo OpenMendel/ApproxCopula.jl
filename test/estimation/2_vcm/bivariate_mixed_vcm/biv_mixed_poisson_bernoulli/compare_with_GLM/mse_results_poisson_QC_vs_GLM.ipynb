{
 "cells": [
  {
   "cell_type": "markdown",
   "metadata": {},
   "source": [
    "## Bivariate Mixed Outcome Model: Poisson and Bernoulli VC Run-time and MSE Results \n",
    "\n",
    "In this example, $y_{i1} \\sim Poisson(\\mu_{i1}(\\mathbf{\\beta_1}))$ and $y_{i2} \\sim Bernoulli(\\mu_{i2}(\\mathbf{\\beta_2}))$\n",
    "\n",
    "We have three fixed effects for each outcome, $\\beta_{true} = [0.2; 0.1; -0.05; 0.2; 0.1; -0.1]$\n",
    "\n",
    "In this example we have Poisson and Bernoulli base distribution with Log and Logit Link functions and covariance matrix $\\Gamma$ structured under VC covariance with $\\theta = 0.1$, we want to compare the MSE with that of GLM.\n",
    "\n",
    "We run each scenario 100 times."
   ]
  },
  {
   "cell_type": "code",
   "execution_count": 58,
   "metadata": {},
   "outputs": [
    {
     "name": "stdout",
     "output_type": "stream",
     "text": [
      "Julia Version 1.6.2\n",
      "Commit 1b93d53fc4 (2021-07-14 15:36 UTC)\n",
      "Platform Info:\n",
      "  OS: macOS (x86_64-apple-darwin18.7.0)\n",
      "  CPU: Intel(R) Core(TM) i9-9880H CPU @ 2.30GHz\n",
      "  WORD_SIZE: 64\n",
      "  LIBM: libopenlibm\n",
      "  LLVM: libLLVM-11.0.1 (ORCJIT, skylake)\n"
     ]
    }
   ],
   "source": [
    "versioninfo()"
   ]
  },
  {
   "cell_type": "code",
   "execution_count": 59,
   "metadata": {},
   "outputs": [],
   "source": [
    "using GLMCopula, DelimitedFiles, LinearAlgebra, Random, GLM\n",
    "using Random, Roots, SpecialFunctions, DataFrames"
   ]
  },
  {
   "cell_type": "code",
   "execution_count": 60,
   "metadata": {},
   "outputs": [
    {
     "data": {
      "text/plain": [
       "20"
      ]
     },
     "execution_count": 60,
     "metadata": {},
     "output_type": "execute_result"
    }
   ],
   "source": [
    "p = 6    # number of fixed effects, including intercept\n",
    "m = 1    # number of variance components\n",
    "# true parameter values\n",
    "βtrue = [0.2; 0.1; -0.05; 0.2; 0.1; -0.1]\n",
    "θtrue = [0.5]\n",
    "\n",
    "# generate data\n",
    "intervals = zeros(p + m, 2) #hold intervals\n",
    "curcoverage = zeros(p + m) #hold current coverage resutls\n",
    "trueparams = [βtrue; θtrue] #hold true parameters\n",
    "\n",
    "#simulation parameters\n",
    "samplesizes = [100; 1000; 10000]\n",
    "ns = [2]\n",
    "nsims = 20"
   ]
  },
  {
   "cell_type": "code",
   "execution_count": 61,
   "metadata": {},
   "outputs": [
    {
     "name": "stderr",
     "output_type": "stream",
     "text": [
      "┌ Info: reading in the files with results\n",
      "└ @ Main In[61]:1\n"
     ]
    },
    {
     "data": {
      "text/plain": [
       "60-element Vector{Float64}:\n",
       " 0.156295119\n",
       " 0.130593153\n",
       " 0.123969954\n",
       " 0.078090299\n",
       " 0.078490416\n",
       " 0.12438155\n",
       " 0.133552718\n",
       " 0.123904864\n",
       " 0.13244036\n",
       " 0.133152716\n",
       " 0.082214001\n",
       " 0.19258774\n",
       " 0.128450143\n",
       " ⋮\n",
       " 4.185385329\n",
       " 4.3805734\n",
       " 4.906760808\n",
       " 4.192626266\n",
       " 4.168047339\n",
       " 4.430630459\n",
       " 3.861089696\n",
       " 4.350694861\n",
       " 4.017074139\n",
       " 4.253525792\n",
       " 4.320503631\n",
       " 2.611865015"
      ]
     },
     "execution_count": 61,
     "metadata": {},
     "output_type": "execute_result"
    }
   ],
   "source": [
    "@info \"reading in the files with results\"\n",
    "βMseresult = vec(readdlm(\"mse_beta_bivariate_mixed_poisson_bernoulli_vcm$(nsims)reps_sim.csv\", ','))\n",
    "θMseresult = vec(readdlm(\"mse_Sigma_bivariate_mixed_poisson_bernoulli_vcm$(nsims)reps_sim.csv\", ','))\n",
    "fittimes_QC = vec(readdlm(\"fittimes_bivariate_mixed_poisson_bernoulli_vcm$(nsims)reps_sim.csv\", ','))"
   ]
  },
  {
   "cell_type": "code",
   "execution_count": 62,
   "metadata": {},
   "outputs": [
    {
     "data": {
      "text/plain": [
       "60-element Vector{Float64}:\n",
       " 0.008049532\n",
       " 0.006746275\n",
       " 0.006645074\n",
       " 0.006726338\n",
       " 0.006439247\n",
       " 0.006774748\n",
       " 0.006612414\n",
       " 0.006799213\n",
       " 0.006504331\n",
       " 0.007761475\n",
       " 0.006768697\n",
       " 0.008233476\n",
       " 0.007361719\n",
       " ⋮\n",
       " 0.008254468\n",
       " 0.007967378\n",
       " 0.008259254\n",
       " 0.008015872\n",
       " 0.007836669\n",
       " 0.008064425\n",
       " 0.008625367\n",
       " 0.008253865\n",
       " 0.00842323\n",
       " 0.008324705\n",
       " 0.007302817\n",
       " 0.008626664"
      ]
     },
     "execution_count": 62,
     "metadata": {},
     "output_type": "execute_result"
    }
   ],
   "source": [
    "fittimes_GLM = vec(readdlm(\"fittimes_GLM_bivariate_mixed_poisson_bernoulli_vcm$(nsims)reps_sim.csv\", ','))"
   ]
  },
  {
   "cell_type": "code",
   "execution_count": 63,
   "metadata": {},
   "outputs": [
    {
     "name": "stderr",
     "output_type": "stream",
     "text": [
      "┌ Info: making results table Quasi-Copula\n",
      "└ @ Main In[63]:2\n"
     ]
    },
    {
     "data": {
      "text/html": [
       "<div class=\"data-frame\"><p>3 rows × 8 columns</p><table class=\"data-frame\"><thead><tr><th></th><th>samplesize</th><th>obssize</th><th>fittime</th><th>se</th><th>nobs</th><th>fitmin</th><th>fitmax</th><th>perobsratio</th></tr><tr><th></th><th title=\"String\">String</th><th title=\"String\">String</th><th title=\"Float64\">Float64</th><th title=\"Float64\">Float64</th><th title=\"Int64\">Int64</th><th title=\"Float64\">Float64</th><th title=\"Float64\">Float64</th><th title=\"Float64\">Float64</th></tr></thead><tbody><tr><th>1</th><td>100</td><td>2</td><td>0.126896</td><td>0.00583227</td><td>200</td><td>0.121063</td><td>0.13856</td><td>0.000634479</td></tr><tr><th>2</th><td>1000</td><td>2</td><td>0.485537</td><td>0.0298143</td><td>2000</td><td>0.455723</td><td>0.545166</td><td>0.000242769</td></tr><tr><th>3</th><td>10000</td><td>2</td><td>4.04689</td><td>0.131855</td><td>20000</td><td>3.91504</td><td>4.3106</td><td>0.000202345</td></tr></tbody></table></div>"
      ],
      "text/latex": [
       "\\begin{tabular}{r|cccccccc}\n",
       "\t& samplesize & obssize & fittime & se & nobs & fitmin & fitmax & perobsratio\\\\\n",
       "\t\\hline\n",
       "\t& String & String & Float64 & Float64 & Int64 & Float64 & Float64 & Float64\\\\\n",
       "\t\\hline\n",
       "\t1 & 100 & 2 & 0.126896 & 0.00583227 & 200 & 0.121063 & 0.13856 & 0.000634479 \\\\\n",
       "\t2 & 1000 & 2 & 0.485537 & 0.0298143 & 2000 & 0.455723 & 0.545166 & 0.000242769 \\\\\n",
       "\t3 & 10000 & 2 & 4.04689 & 0.131855 & 20000 & 3.91504 & 4.3106 & 0.000202345 \\\\\n",
       "\\end{tabular}\n"
      ],
      "text/plain": [
       "\u001b[1m3×8 DataFrame\u001b[0m\n",
       "\u001b[1m Row \u001b[0m│\u001b[1m samplesize \u001b[0m\u001b[1m obssize \u001b[0m\u001b[1m fittime  \u001b[0m\u001b[1m se         \u001b[0m\u001b[1m nobs  \u001b[0m\u001b[1m fitmin   \u001b[0m\u001b[1m fitmax   \u001b[0m\u001b[1m p\u001b[0m ⋯\n",
       "\u001b[1m     \u001b[0m│\u001b[90m String     \u001b[0m\u001b[90m String  \u001b[0m\u001b[90m Float64  \u001b[0m\u001b[90m Float64    \u001b[0m\u001b[90m Int64 \u001b[0m\u001b[90m Float64  \u001b[0m\u001b[90m Float64  \u001b[0m\u001b[90m F\u001b[0m ⋯\n",
       "─────┼──────────────────────────────────────────────────────────────────────────\n",
       "   1 │ 100         2        0.126896  0.00583227    200  0.121063  0.13856   0 ⋯\n",
       "   2 │ 1000        2        0.485537  0.0298143    2000  0.455723  0.545166  0\n",
       "   3 │ 10000       2        4.04689   0.131855    20000  3.91504   4.3106    0\n",
       "\u001b[36m                                                                1 column omitted\u001b[0m"
      ]
     },
     "execution_count": 63,
     "metadata": {},
     "output_type": "execute_result"
    }
   ],
   "source": [
    "#simulation parameters\n",
    "@info \"making results table Quasi-Copula\"\n",
    "sample_sizes = repeat(string.(samplesizes), inner = nsims * length(ns))\n",
    "obs_sizes = repeat(string.(ns), inner = nsims, outer = length(samplesizes))\n",
    "\n",
    "msedf = DataFrame(samplesize = sample_sizes, obssize = obs_sizes, fittimes = fittimes_QC)\n",
    "timedf1 = combine(groupby(msedf, [:samplesize, :obssize]), :fittimes => mean => :fittime,\n",
    "    :fittimes => x -> (std(x)/sqrt(length(x))))\n",
    "rename!(timedf1, Dict(:fittimes_function => \"se\"))\n",
    "timedf1[!, :nobs] = Meta.parse.(timedf1[!, :samplesize]) .* Meta.parse.(timedf1[!, :obssize])\n",
    "timedf1[!, :fitmin] = timedf1[!, :fittime] - timedf1[!, :se]\n",
    "timedf1[!, :fitmax] = timedf1[!, :fittime] + 2 * timedf1[!, :se]\n",
    "timedf1[!, :perobsratio] = timedf1[!, :fittime] ./ timedf1[!, :nobs]\n",
    "timedf1"
   ]
  },
  {
   "cell_type": "code",
   "execution_count": 64,
   "metadata": {},
   "outputs": [
    {
     "name": "stderr",
     "output_type": "stream",
     "text": [
      "┌ Info: making results table GLMM\n",
      "└ @ Main In[64]:2\n"
     ]
    },
    {
     "data": {
      "text/html": [
       "<div class=\"data-frame\"><p>3 rows × 8 columns</p><table class=\"data-frame\"><thead><tr><th></th><th>samplesize</th><th>obssize</th><th>fittime</th><th>se</th><th>nobs</th><th>fitmin</th><th>fitmax</th><th>perobsratio</th></tr><tr><th></th><th title=\"String\">String</th><th title=\"String\">String</th><th title=\"Float64\">Float64</th><th title=\"Float64\">Float64</th><th title=\"Int64\">Int64</th><th title=\"Float64\">Float64</th><th title=\"Float64\">Float64</th><th title=\"Float64\">Float64</th></tr></thead><tbody><tr><th>1</th><td>100</td><td>2</td><td>0.00698803</td><td>0.000129726</td><td>200</td><td>0.00685831</td><td>0.00711776</td><td>3.49402e-5</td></tr><tr><th>2</th><td>1000</td><td>2</td><td>0.00964559</td><td>0.0016713</td><td>2000</td><td>0.00797429</td><td>0.0113169</td><td>4.82279e-6</td></tr><tr><th>3</th><td>10000</td><td>2</td><td>0.00824532</td><td>9.71836e-5</td><td>20000</td><td>0.00814813</td><td>0.0083425</td><td>4.12266e-7</td></tr></tbody></table></div>"
      ],
      "text/latex": [
       "\\begin{tabular}{r|cccccccc}\n",
       "\t& samplesize & obssize & fittime & se & nobs & fitmin & fitmax & perobsratio\\\\\n",
       "\t\\hline\n",
       "\t& String & String & Float64 & Float64 & Int64 & Float64 & Float64 & Float64\\\\\n",
       "\t\\hline\n",
       "\t1 & 100 & 2 & 0.00698803 & 0.000129726 & 200 & 0.00685831 & 0.00711776 & 3.49402e-5 \\\\\n",
       "\t2 & 1000 & 2 & 0.00964559 & 0.0016713 & 2000 & 0.00797429 & 0.0113169 & 4.82279e-6 \\\\\n",
       "\t3 & 10000 & 2 & 0.00824532 & 9.71836e-5 & 20000 & 0.00814813 & 0.0083425 & 4.12266e-7 \\\\\n",
       "\\end{tabular}\n"
      ],
      "text/plain": [
       "\u001b[1m3×8 DataFrame\u001b[0m\n",
       "\u001b[1m Row \u001b[0m│\u001b[1m samplesize \u001b[0m\u001b[1m obssize \u001b[0m\u001b[1m fittime    \u001b[0m\u001b[1m se          \u001b[0m\u001b[1m nobs  \u001b[0m\u001b[1m fitmin     \u001b[0m\u001b[1m fitmax\u001b[0m ⋯\n",
       "\u001b[1m     \u001b[0m│\u001b[90m String     \u001b[0m\u001b[90m String  \u001b[0m\u001b[90m Float64    \u001b[0m\u001b[90m Float64     \u001b[0m\u001b[90m Int64 \u001b[0m\u001b[90m Float64    \u001b[0m\u001b[90m Float6\u001b[0m ⋯\n",
       "─────┼──────────────────────────────────────────────────────────────────────────\n",
       "   1 │ 100         2        0.00698803  0.000129726    200  0.00685831  0.0071 ⋯\n",
       "   2 │ 1000        2        0.00964559  0.0016713     2000  0.00797429  0.0113\n",
       "   3 │ 10000       2        0.00824532  9.71836e-5   20000  0.00814813  0.0083\n",
       "\u001b[36m                                                               2 columns omitted\u001b[0m"
      ]
     },
     "execution_count": 64,
     "metadata": {},
     "output_type": "execute_result"
    }
   ],
   "source": [
    "#simulation parameters\n",
    "@info \"making results table GLMM\"\n",
    "sample_sizes = repeat(string.(samplesizes), inner = nsims * length(ns))\n",
    "obs_sizes = repeat(string.(ns), inner = nsims, outer = length(samplesizes))\n",
    "\n",
    "msedf = DataFrame(samplesize = sample_sizes, obssize = obs_sizes, fittimes = fittimes_GLM)\n",
    "timedf2 = combine(groupby(msedf, [:samplesize, :obssize]), :fittimes => mean => :fittime,\n",
    "    :fittimes => x -> (std(x)/sqrt(length(x))))\n",
    "rename!(timedf2, Dict(:fittimes_function => \"se\"))\n",
    "timedf2[!, :nobs] = Meta.parse.(timedf2[!, :samplesize]) .* Meta.parse.(timedf2[!, :obssize])\n",
    "timedf2[!, :fitmin] = timedf2[!, :fittime] - timedf2[!, :se]\n",
    "timedf2[!, :fitmax] = timedf2[!, :fittime] + timedf2[!, :se]\n",
    "timedf2[!, :perobsratio] = timedf2[!, :fittime] ./ timedf2[!, :nobs]\n",
    "timedf2"
   ]
  },
  {
   "cell_type": "code",
   "execution_count": 38,
   "metadata": {},
   "outputs": [
    {
     "data": {
      "image/png": "[encoded data removed]"
     },
     "metadata": {},
     "output_type": "display_data"
    },
    {
     "data": {
      "text/plain": [
       "RObject{VecSxp}\n"
      ]
     },
     "execution_count": 38,
     "metadata": {},
     "output_type": "execute_result"
    }
   ],
   "source": [
    "########### plot the runtimes\n",
    "using RCall\n",
    "@rput timedf1\n",
    "@rput timedf2\n",
    "R\"\"\"\n",
    "library(ggplot2)\n",
    "library(cowplot)\n",
    "timedf1$obssize = factor(timedf1$obssize, levels = c('2'))\n",
    "timedf1$samplesize = factor(timedf1$samplesize, levels = c('100', '1000', '10000'))\n",
    "\n",
    "fittime_1 = ggplot(timedf1, aes(x = samplesize, y = fittime, group = obssize, color = obssize)) + \n",
    "  geom_line() +\n",
    "  geom_point()+\n",
    "  geom_errorbar(aes(ymin=fitmin, ymax=fitmax), width=0.5, alpha = 0.8, position=position_dodge(0.005)) + \n",
    "  theme(legend.position=c(0.3,0.85), legend.key = element_blank(), axis.text.x = element_text(angle=0, size=13),\n",
    "        axis.text.y = element_text(angle=0, size=13), axis.title.x = element_text(size = 17), \n",
    "        axis.title.y = element_text(size = 17), legend.title = element_text(size = 14),\n",
    "        #axis.ticks = element_blank(),\n",
    "        panel.grid.major = element_blank(), legend.text=element_text(size=13),\n",
    "        panel.border = element_blank(), panel.grid.minor = element_blank(), panel.background = element_blank(), \n",
    "        axis.line = element_line(color = 'black',size=0.3), plot.title = element_text(hjust = 0.5)) + \n",
    "   scale_color_manual(values = c(\"#c85f55\",\n",
    "\"#a964bf\",\n",
    "\"#8db352\",\n",
    "\"#fa7300\",\n",
    "\"#05aec0\",\n",
    "\"#ff1493\")) +\n",
    "  labs(x = \"Number of Individuals\", y = \"Fit time (seconds)\", color = \"Obs per Individual\")\n",
    "\n",
    "timedf2$obssize = factor(timedf2$obssize, levels = c('2'))\n",
    "timedf2$samplesize = factor(timedf2$samplesize, levels = c('100', '1000', '10000'))\n",
    "\n",
    "fittime_2 = ggplot(timedf2, aes(x = samplesize, y = fittime, group = obssize, color = obssize)) + \n",
    "  geom_line() +\n",
    "  geom_point()+\n",
    "  geom_errorbar(aes(ymin=fitmin, ymax=fitmax), width=0.5, alpha = 0.8, position=position_dodge(0.005)) + \n",
    "  theme(legend.position=c(0.3,0.85), legend.key = element_blank(), axis.text.x = element_text(angle=0, size=13),\n",
    "        axis.text.y = element_text(angle=0, size=13), axis.title.x = element_text(size = 17), \n",
    "        axis.title.y = element_text(size = 17), legend.title = element_text(size = 14),\n",
    "        #axis.ticks = element_blank(),\n",
    "        panel.grid.major = element_blank(), legend.text=element_text(size=13),\n",
    "        panel.border = element_blank(), panel.grid.minor = element_blank(), panel.background = element_blank(), \n",
    "        axis.line = element_line(color = 'black',size=0.3), plot.title = element_text(hjust = 0.5)) + \n",
    "   scale_color_manual(values = c(\"#c85f55\",\n",
    "\"#a964bf\",\n",
    "\"#8db352\",\n",
    "\"#fa7300\",\n",
    "\"#05aec0\",\n",
    "\"#ff1493\")) +\n",
    "  labs(x = \"Number of Individuals\", y = \"Fit time (seconds)\", color = \"Obs per Individual\")\n",
    "\n",
    "fittime_nsamples = plot_grid(fittime_1, fittime_2, labels = c(\"Quasi-Copula\", \"GLM\"))\n",
    "\"\"\""
   ]
  },
  {
   "cell_type": "code",
   "execution_count": 13,
   "metadata": {},
   "outputs": [],
   "source": [
    "# R\"\"\"\n",
    "# ggsave('fittime_nsamples_poisson_vs_glmm.png', fittime_nsamples, width = 15, height = 17, units = 'in', dpi = 450)\n",
    "# \"\"\""
   ]
  },
  {
   "cell_type": "code",
   "execution_count": 46,
   "metadata": {},
   "outputs": [
    {
     "data": {
      "text/html": [
       "<div class=\"data-frame\"><p>3 rows × 8 columns (omitted printing of 3 columns)</p><table class=\"data-frame\"><thead><tr><th></th><th>people_obs</th><th>β1</th><th>β2</th><th>β3</th><th>β4</th></tr><tr><th></th><th title=\"String\">String</th><th title=\"Tuple{Float64, Float64}\">Tuple…</th><th title=\"Tuple{Float64, Float64}\">Tuple…</th><th title=\"Tuple{Float64, Float64}\">Tuple…</th><th title=\"Tuple{Float64, Float64}\">Tuple…</th></tr></thead><tbody><tr><th>1</th><td>N: 100  ni: 2</td><td>(0.6, 0.244949)</td><td>(0.8, 0.2)</td><td>(0.8, 0.2)</td><td>(0.4, 0.244949)</td></tr><tr><th>2</th><td>N: 1000  ni: 2</td><td>(0.8, 0.2)</td><td>(0.8, 0.2)</td><td>(1.0, 0.0)</td><td>(0.8, 0.2)</td></tr><tr><th>3</th><td>N: 10000  ni: 2</td><td>(1.0, 0.0)</td><td>(0.4, 0.244949)</td><td>(0.8, 0.2)</td><td>(0.2, 0.2)</td></tr></tbody></table></div>"
      ],
      "text/latex": [
       "\\begin{tabular}{r|cccccc}\n",
       "\t& people\\_obs & β1 & β2 & β3 & β4 & \\\\\n",
       "\t\\hline\n",
       "\t& String & Tuple… & Tuple… & Tuple… & Tuple… & \\\\\n",
       "\t\\hline\n",
       "\t1 & N: 100  ni: 2 & (0.6, 0.244949) & (0.8, 0.2) & (0.8, 0.2) & (0.4, 0.244949) & $\\dots$ \\\\\n",
       "\t2 & N: 1000  ni: 2 & (0.8, 0.2) & (0.8, 0.2) & (1.0, 0.0) & (0.8, 0.2) & $\\dots$ \\\\\n",
       "\t3 & N: 10000  ni: 2 & (1.0, 0.0) & (0.4, 0.244949) & (0.8, 0.2) & (0.2, 0.2) & $\\dots$ \\\\\n",
       "\\end{tabular}\n"
      ],
      "text/plain": [
       "\u001b[1m3×8 DataFrame\u001b[0m\n",
       "\u001b[1m Row \u001b[0m│\u001b[1m people_obs      \u001b[0m\u001b[1m β1              \u001b[0m\u001b[1m β2              \u001b[0m\u001b[1m β3         \u001b[0m\u001b[1m β4      \u001b[0m ⋯\n",
       "\u001b[1m     \u001b[0m│\u001b[90m String          \u001b[0m\u001b[90m Tuple…          \u001b[0m\u001b[90m Tuple…          \u001b[0m\u001b[90m Tuple…     \u001b[0m\u001b[90m Tuple…  \u001b[0m ⋯\n",
       "─────┼──────────────────────────────────────────────────────────────────────────\n",
       "   1 │ N: 100  ni: 2    (0.6, 0.244949)  (0.8, 0.2)       (0.8, 0.2)  (0.4, 0. ⋯\n",
       "   2 │ N: 1000  ni: 2   (0.8, 0.2)       (0.8, 0.2)       (1.0, 0.0)  (0.8, 0.\n",
       "   3 │ N: 10000  ni: 2  (1.0, 0.0)       (0.4, 0.244949)  (0.8, 0.2)  (0.2, 0.\n",
       "\u001b[36m                                                               4 columns omitted\u001b[0m"
      ]
     },
     "execution_count": 46,
     "metadata": {},
     "output_type": "execute_result"
    }
   ],
   "source": [
    "######  supplementary table s1\n",
    "using Random, DataFrames, DelimitedFiles, Statistics\n",
    "import StatsBase: sem\n",
    "\n",
    "βθcoverage = readdlm(\"beta_sigma_coverage_bivariate_mixed_poisson_bernoulli_vcm$(nsims)reps_sim.csv\", ',')\n",
    "\n",
    "m  = 1\n",
    "\n",
    "covdf = DataFrame(Matrix(transpose(βθcoverage)), :auto)\n",
    "rename!(covdf, Symbol.([[\"β$i\" for i in 1:p]; [\"θ$i\" for i in 1:m]]))\n",
    "covdf[!, :samplesize] = sample_sizes\n",
    "covdf[!, :obssize] = obs_sizes\n",
    "first(covdf, 10)\n",
    "\n",
    "row_stats = [[(mean(col), sem(col)) for col = eachcol(d[!, 1:end-2])] for d = groupby(covdf, [:samplesize; :obssize])]\n",
    "df = DataFrame(row_stats, :auto)\n",
    "ss_obs = unique(\"N: \" .* sample_sizes .* \"  ni: \" .* obs_sizes)\n",
    "rename!(df, Symbol.(ss_obs))\n",
    "covdfdisplay = DataFrame([[names(df)]; collect.(eachrow(df))], \n",
    "    [:people_obs; Symbol.([[\"β$i\" for i in 1:p]; [\"θ$i\" for i in 1:m]])])\n",
    "# deletecols!(covdfdisplay, p + 2)\n",
    "covdfdisplay\n"
   ]
  },
  {
   "cell_type": "code",
   "execution_count": 47,
   "metadata": {},
   "outputs": [
    {
     "data": {
      "text/html": [
       "<div class=\"data-frame\"><p>3 rows × 8 columns (omitted printing of 2 columns)</p><table class=\"data-frame\"><thead><tr><th></th><th>people_obs</th><th>β1</th><th>β2</th><th>β3</th><th>β4</th><th>β5</th></tr><tr><th></th><th title=\"String\">String</th><th title=\"Tuple{Float64, Float64}\">Tuple…</th><th title=\"Tuple{Float64, Float64}\">Tuple…</th><th title=\"Tuple{Float64, Float64}\">Tuple…</th><th title=\"Tuple{Float64, Float64}\">Tuple…</th><th title=\"Tuple{Float64, Float64}\">Tuple…</th></tr></thead><tbody><tr><th>1</th><td>N: 100  ni: 2</td><td>(0.6, 0.244949)</td><td>(1.0, 0.0)</td><td>(1.0, 0.0)</td><td>(1.0, 0.0)</td><td>(1.0, 0.0)</td></tr><tr><th>2</th><td>N: 1000  ni: 2</td><td>(0.0, 0.0)</td><td>(1.0, 0.0)</td><td>(1.0, 0.0)</td><td>(1.0, 0.0)</td><td>(0.8, 0.2)</td></tr><tr><th>3</th><td>N: 10000  ni: 2</td><td>(0.0, 0.0)</td><td>(0.6, 0.244949)</td><td>(1.0, 0.0)</td><td>(0.2, 0.2)</td><td>(0.8, 0.2)</td></tr></tbody></table></div>"
      ],
      "text/latex": [
       "\\begin{tabular}{r|ccccccc}\n",
       "\t& people\\_obs & β1 & β2 & β3 & β4 & β5 & \\\\\n",
       "\t\\hline\n",
       "\t& String & Tuple… & Tuple… & Tuple… & Tuple… & Tuple… & \\\\\n",
       "\t\\hline\n",
       "\t1 & N: 100  ni: 2 & (0.6, 0.244949) & (1.0, 0.0) & (1.0, 0.0) & (1.0, 0.0) & (1.0, 0.0) & $\\dots$ \\\\\n",
       "\t2 & N: 1000  ni: 2 & (0.0, 0.0) & (1.0, 0.0) & (1.0, 0.0) & (1.0, 0.0) & (0.8, 0.2) & $\\dots$ \\\\\n",
       "\t3 & N: 10000  ni: 2 & (0.0, 0.0) & (0.6, 0.244949) & (1.0, 0.0) & (0.2, 0.2) & (0.8, 0.2) & $\\dots$ \\\\\n",
       "\\end{tabular}\n"
      ],
      "text/plain": [
       "\u001b[1m3×8 DataFrame\u001b[0m\n",
       "\u001b[1m Row \u001b[0m│\u001b[1m people_obs      \u001b[0m\u001b[1m β1              \u001b[0m\u001b[1m β2              \u001b[0m\u001b[1m β3         \u001b[0m\u001b[1m β4      \u001b[0m ⋯\n",
       "\u001b[1m     \u001b[0m│\u001b[90m String          \u001b[0m\u001b[90m Tuple…          \u001b[0m\u001b[90m Tuple…          \u001b[0m\u001b[90m Tuple…     \u001b[0m\u001b[90m Tuple…  \u001b[0m ⋯\n",
       "─────┼──────────────────────────────────────────────────────────────────────────\n",
       "   1 │ N: 100  ni: 2    (0.6, 0.244949)  (1.0, 0.0)       (1.0, 0.0)  (1.0, 0. ⋯\n",
       "   2 │ N: 1000  ni: 2   (0.0, 0.0)       (1.0, 0.0)       (1.0, 0.0)  (1.0, 0.\n",
       "   3 │ N: 10000  ni: 2  (0.0, 0.0)       (0.6, 0.244949)  (1.0, 0.0)  (0.2, 0.\n",
       "\u001b[36m                                                               4 columns omitted\u001b[0m"
      ]
     },
     "execution_count": 47,
     "metadata": {},
     "output_type": "execute_result"
    }
   ],
   "source": [
    "βθcoverage_GLM = readdlm(\"beta_sigma_coverage_GLM_bivariate_mixed_poisson_bernoulli_vcm$(nsims)reps_sim.csv\", ',')\n",
    "\n",
    "m  = 1\n",
    "\n",
    "covdf = DataFrame(Matrix(transpose(βθcoverage_GLM)), :auto)\n",
    "rename!(covdf, Symbol.([[\"β$i\" for i in 1:p]; [\"θ$i\" for i in 1:m]]))\n",
    "covdf[!, :samplesize] = sample_sizes\n",
    "covdf[!, :obssize] = obs_sizes\n",
    "first(covdf, 10)\n",
    "\n",
    "row_stats = [[(mean(col), sem(col)) for col = eachcol(d[!, 1:end-2])] for d = groupby(covdf, [:samplesize; :obssize])]\n",
    "df = DataFrame(row_stats, :auto)\n",
    "ss_obs = unique(\"N: \" .* sample_sizes .* \"  ni: \" .* obs_sizes)\n",
    "rename!(df, Symbol.(ss_obs))\n",
    "covdfdisplay = DataFrame([[names(df)]; collect.(eachrow(df))], \n",
    "    [:people_obs; Symbol.([[\"β$i\" for i in 1:p]; [\"θ$i\" for i in 1:m]])])\n",
    "# deletecols!(covdfdisplay, p + 2)\n",
    "covdfdisplay\n"
   ]
  },
  {
   "cell_type": "code",
   "execution_count": 48,
   "metadata": {},
   "outputs": [
    {
     "data": {
      "text/html": [
       "<div class=\"data-frame\"><p>60 rows × 5 columns</p><table class=\"data-frame\"><thead><tr><th></th><th>mse</th><th>obssize</th><th>samplesize</th><th>parameters</th><th>robust</th></tr><tr><th></th><th title=\"Float64\">Float64</th><th title=\"String\">String</th><th title=\"String\">String</th><th title=\"String\">String</th><th title=\"String\">String</th></tr></thead><tbody><tr><th>1</th><td>0.0491374</td><td>2</td><td>100</td><td>beta</td><td>Biv Mixed QC</td></tr><tr><th>2</th><td>0.0332845</td><td>2</td><td>100</td><td>beta</td><td>Biv Mixed QC</td></tr><tr><th>3</th><td>0.0398343</td><td>2</td><td>100</td><td>beta</td><td>Biv Mixed QC</td></tr><tr><th>4</th><td>0.0303661</td><td>2</td><td>100</td><td>beta</td><td>Biv Mixed QC</td></tr><tr><th>5</th><td>0.0294846</td><td>2</td><td>100</td><td>beta</td><td>Biv Mixed QC</td></tr><tr><th>6</th><td>0.000841781</td><td>2</td><td>1000</td><td>beta</td><td>Biv Mixed QC</td></tr><tr><th>7</th><td>0.00647389</td><td>2</td><td>1000</td><td>beta</td><td>Biv Mixed QC</td></tr><tr><th>8</th><td>0.0036783</td><td>2</td><td>1000</td><td>beta</td><td>Biv Mixed QC</td></tr><tr><th>9</th><td>0.000306998</td><td>2</td><td>1000</td><td>beta</td><td>Biv Mixed QC</td></tr><tr><th>10</th><td>0.0053201</td><td>2</td><td>1000</td><td>beta</td><td>Biv Mixed QC</td></tr><tr><th>11</th><td>0.00195537</td><td>2</td><td>10000</td><td>beta</td><td>Biv Mixed QC</td></tr><tr><th>12</th><td>0.00079859</td><td>2</td><td>10000</td><td>beta</td><td>Biv Mixed QC</td></tr><tr><th>13</th><td>0.00190087</td><td>2</td><td>10000</td><td>beta</td><td>Biv Mixed QC</td></tr><tr><th>14</th><td>0.000411058</td><td>2</td><td>10000</td><td>beta</td><td>Biv Mixed QC</td></tr><tr><th>15</th><td>0.0006065</td><td>2</td><td>10000</td><td>beta</td><td>Biv Mixed QC</td></tr><tr><th>16</th><td>0.00859488</td><td>2</td><td>100</td><td>theta</td><td>Biv Mixed QC</td></tr><tr><th>17</th><td>0.000305758</td><td>2</td><td>100</td><td>theta</td><td>Biv Mixed QC</td></tr><tr><th>18</th><td>0.00140399</td><td>2</td><td>100</td><td>theta</td><td>Biv Mixed QC</td></tr><tr><th>19</th><td>0.027672</td><td>2</td><td>100</td><td>theta</td><td>Biv Mixed QC</td></tr><tr><th>20</th><td>0.040943</td><td>2</td><td>100</td><td>theta</td><td>Biv Mixed QC</td></tr><tr><th>21</th><td>1.18631e-5</td><td>2</td><td>1000</td><td>theta</td><td>Biv Mixed QC</td></tr><tr><th>22</th><td>0.0158704</td><td>2</td><td>1000</td><td>theta</td><td>Biv Mixed QC</td></tr><tr><th>23</th><td>0.0249324</td><td>2</td><td>1000</td><td>theta</td><td>Biv Mixed QC</td></tr><tr><th>24</th><td>0.000850952</td><td>2</td><td>1000</td><td>theta</td><td>Biv Mixed QC</td></tr><tr><th>25</th><td>0.000847002</td><td>2</td><td>1000</td><td>theta</td><td>Biv Mixed QC</td></tr><tr><th>26</th><td>0.000171891</td><td>2</td><td>10000</td><td>theta</td><td>Biv Mixed QC</td></tr><tr><th>27</th><td>6.21165e-5</td><td>2</td><td>10000</td><td>theta</td><td>Biv Mixed QC</td></tr><tr><th>28</th><td>0.000757004</td><td>2</td><td>10000</td><td>theta</td><td>Biv Mixed QC</td></tr><tr><th>29</th><td>0.000188755</td><td>2</td><td>10000</td><td>theta</td><td>Biv Mixed QC</td></tr><tr><th>30</th><td>0.000400053</td><td>2</td><td>10000</td><td>theta</td><td>Biv Mixed QC</td></tr><tr><th>&vellip;</th><td>&vellip;</td><td>&vellip;</td><td>&vellip;</td><td>&vellip;</td><td>&vellip;</td></tr></tbody></table></div>"
      ],
      "text/latex": [
       "\\begin{tabular}{r|ccccc}\n",
       "\t& mse & obssize & samplesize & parameters & robust\\\\\n",
       "\t\\hline\n",
       "\t& Float64 & String & String & String & String\\\\\n",
       "\t\\hline\n",
       "\t1 & 0.0491374 & 2 & 100 & beta & Biv Mixed QC \\\\\n",
       "\t2 & 0.0332845 & 2 & 100 & beta & Biv Mixed QC \\\\\n",
       "\t3 & 0.0398343 & 2 & 100 & beta & Biv Mixed QC \\\\\n",
       "\t4 & 0.0303661 & 2 & 100 & beta & Biv Mixed QC \\\\\n",
       "\t5 & 0.0294846 & 2 & 100 & beta & Biv Mixed QC \\\\\n",
       "\t6 & 0.000841781 & 2 & 1000 & beta & Biv Mixed QC \\\\\n",
       "\t7 & 0.00647389 & 2 & 1000 & beta & Biv Mixed QC \\\\\n",
       "\t8 & 0.0036783 & 2 & 1000 & beta & Biv Mixed QC \\\\\n",
       "\t9 & 0.000306998 & 2 & 1000 & beta & Biv Mixed QC \\\\\n",
       "\t10 & 0.0053201 & 2 & 1000 & beta & Biv Mixed QC \\\\\n",
       "\t11 & 0.00195537 & 2 & 10000 & beta & Biv Mixed QC \\\\\n",
       "\t12 & 0.00079859 & 2 & 10000 & beta & Biv Mixed QC \\\\\n",
       "\t13 & 0.00190087 & 2 & 10000 & beta & Biv Mixed QC \\\\\n",
       "\t14 & 0.000411058 & 2 & 10000 & beta & Biv Mixed QC \\\\\n",
       "\t15 & 0.0006065 & 2 & 10000 & beta & Biv Mixed QC \\\\\n",
       "\t16 & 0.00859488 & 2 & 100 & theta & Biv Mixed QC \\\\\n",
       "\t17 & 0.000305758 & 2 & 100 & theta & Biv Mixed QC \\\\\n",
       "\t18 & 0.00140399 & 2 & 100 & theta & Biv Mixed QC \\\\\n",
       "\t19 & 0.027672 & 2 & 100 & theta & Biv Mixed QC \\\\\n",
       "\t20 & 0.040943 & 2 & 100 & theta & Biv Mixed QC \\\\\n",
       "\t21 & 1.18631e-5 & 2 & 1000 & theta & Biv Mixed QC \\\\\n",
       "\t22 & 0.0158704 & 2 & 1000 & theta & Biv Mixed QC \\\\\n",
       "\t23 & 0.0249324 & 2 & 1000 & theta & Biv Mixed QC \\\\\n",
       "\t24 & 0.000850952 & 2 & 1000 & theta & Biv Mixed QC \\\\\n",
       "\t25 & 0.000847002 & 2 & 1000 & theta & Biv Mixed QC \\\\\n",
       "\t26 & 0.000171891 & 2 & 10000 & theta & Biv Mixed QC \\\\\n",
       "\t27 & 6.21165e-5 & 2 & 10000 & theta & Biv Mixed QC \\\\\n",
       "\t28 & 0.000757004 & 2 & 10000 & theta & Biv Mixed QC \\\\\n",
       "\t29 & 0.000188755 & 2 & 10000 & theta & Biv Mixed QC \\\\\n",
       "\t30 & 0.000400053 & 2 & 10000 & theta & Biv Mixed QC \\\\\n",
       "\t$\\dots$ & $\\dots$ & $\\dots$ & $\\dots$ & $\\dots$ & $\\dots$ \\\\\n",
       "\\end{tabular}\n"
      ],
      "text/plain": [
       "\u001b[1m60×5 DataFrame\u001b[0m\n",
       "\u001b[1m Row \u001b[0m│\u001b[1m mse         \u001b[0m\u001b[1m obssize \u001b[0m\u001b[1m samplesize \u001b[0m\u001b[1m parameters \u001b[0m\u001b[1m robust        \u001b[0m\n",
       "\u001b[1m     \u001b[0m│\u001b[90m Float64     \u001b[0m\u001b[90m String  \u001b[0m\u001b[90m String     \u001b[0m\u001b[90m String     \u001b[0m\u001b[90m String        \u001b[0m\n",
       "─────┼─────────────────────────────────────────────────────────────\n",
       "   1 │ 0.0491374    2        100         beta        Biv Mixed QC\n",
       "   2 │ 0.0332845    2        100         beta        Biv Mixed QC\n",
       "   3 │ 0.0398343    2        100         beta        Biv Mixed QC\n",
       "   4 │ 0.0303661    2        100         beta        Biv Mixed QC\n",
       "   5 │ 0.0294846    2        100         beta        Biv Mixed QC\n",
       "   6 │ 0.000841781  2        1000        beta        Biv Mixed QC\n",
       "   7 │ 0.00647389   2        1000        beta        Biv Mixed QC\n",
       "   8 │ 0.0036783    2        1000        beta        Biv Mixed QC\n",
       "   9 │ 0.000306998  2        1000        beta        Biv Mixed QC\n",
       "  10 │ 0.0053201    2        1000        beta        Biv Mixed QC\n",
       "  11 │ 0.00195537   2        10000       beta        Biv Mixed QC\n",
       "  ⋮  │      ⋮          ⋮         ⋮           ⋮             ⋮\n",
       "  51 │ 0.25         2        1000        theta       Biv Mixed GLM\n",
       "  52 │ 0.25         2        1000        theta       Biv Mixed GLM\n",
       "  53 │ 0.25         2        1000        theta       Biv Mixed GLM\n",
       "  54 │ 0.25         2        1000        theta       Biv Mixed GLM\n",
       "  55 │ 0.25         2        1000        theta       Biv Mixed GLM\n",
       "  56 │ 0.25         2        10000       theta       Biv Mixed GLM\n",
       "  57 │ 0.25         2        10000       theta       Biv Mixed GLM\n",
       "  58 │ 0.25         2        10000       theta       Biv Mixed GLM\n",
       "  59 │ 0.25         2        10000       theta       Biv Mixed GLM\n",
       "  60 │ 0.25         2        10000       theta       Biv Mixed GLM\n",
       "\u001b[36m                                                    39 rows omitted\u001b[0m"
      ]
     },
     "execution_count": 48,
     "metadata": {},
     "output_type": "execute_result"
    }
   ],
   "source": [
    "#### \n",
    "#import data and reorganize to create figure\n",
    "using Random, DataFrames, DelimitedFiles, Statistics, RCall, Printf\n",
    "import StatsBase: sem\n",
    "\n",
    "βMseresult = vec(readdlm(\"mse_beta_bivariate_mixed_poisson_bernoulli_vcm$(nsims)reps_sim.csv\", ','))\n",
    "θMseresult = vec(readdlm(\"mse_Sigma_bivariate_mixed_poisson_bernoulli_vcm$(nsims)reps_sim.csv\", ','))\n",
    "\n",
    "βMseresult_GLM = vec(readdlm(\"mse_beta_GLM_bivariate_mixed_poisson_bernoulli_vcm$(nsims)reps_sim.csv\", ','))\n",
    "θMseresult_GLM = vec(readdlm(\"mse_Sigma_GLM_bivariate_mixed_poisson_bernoulli_vcm$(nsims)reps_sim.csv\", ','))\n",
    "\n",
    "p = 6; m = 1\n",
    "sample_sizes = repeat(string.(samplesizes), inner = nsims * length(ns))\n",
    "obs_sizes = repeat(string.(ns), inner = nsims, outer = length(samplesizes))\n",
    "msedf1 = DataFrame(βmse = βMseresult, thetamse = θMseresult, \n",
    "    samplesize = sample_sizes, obssize = obs_sizes)\n",
    "\n",
    "msedf2 = DataFrame(βmse = βMseresult_GLM, thetamse = θMseresult_GLM, \n",
    "    samplesize = sample_sizes, obssize = obs_sizes)\n",
    "\n",
    "#rename to make parsing easier for R.\n",
    "\n",
    "msedf1 = deepcopy(msedf1)\n",
    "rename!(msedf1, [\"betamse\"\n",
    "    \"thetamse\"\n",
    "    \"samplesize\"\n",
    " \"obssize\"]);\n",
    "\n",
    "msedf2 = deepcopy(msedf2)\n",
    "rename!(msedf2, [\"betamse\"\n",
    "    \"thetamse\"\n",
    "    \"samplesize\"\n",
    " \"obssize\"]);\n",
    "\n",
    "mses = [msedf1[!, :betamse]; msedf1[!, :thetamse]; msedf2[!, :betamse]; msedf2[!, :thetamse]]\n",
    "    # msedfnormR[!, :betamse]; msedfnormR[!, :taumse]; msedfnormR[!, :Sigmamse]]\n",
    "obssize = [collect([repeat(msedf1[!, :obssize], 2)]...) ; collect([repeat(msedf2[!, :obssize], 2)]...)]\n",
    "#40\n",
    "samplesize = [collect([repeat(msedf1[!, :samplesize], 2)]...) ; collect([repeat(msedf2[!, :samplesize], 2)]...)]\n",
    "\n",
    "parameters = [collect([repeat(string.([:beta, :theta]), inner = nsims * length(ns) * length(samplesizes))]...) ; collect([repeat(string.([:beta, :theta]), inner = nsims * length(ns) * length(samplesizes))]...)]\n",
    "robust = [collect([repeat([\"Biv Mixed QC\"], 2 * nsims * length(ns) * length(samplesizes))]...); collect([repeat([\"Biv Mixed GLM\"],  2 * nsims * length(ns) * length(samplesizes))]...)]\n",
    "\n",
    "msedfR = DataFrame(mse = mses, obssize = obssize, samplesize = samplesize,\n",
    "    parameters = parameters, robust = robust)\n",
    "\n",
    "#5 of the 30,000 simulations did not converge, filter out\n",
    "msedfR = filter(x -> !isnan(x.mse), msedfR)\n",
    "# additionally, there are 5 where an error was not caught so it did not try a differnt solver\n",
    "msedfR = filter(x -> x.mse < 40000, msedfR)"
   ]
  },
  {
   "cell_type": "code",
   "execution_count": 49,
   "metadata": {},
   "outputs": [
    {
     "data": {
      "image/png": "[encoded data removed]"
     },
     "metadata": {},
     "output_type": "display_data"
    },
    {
     "data": {
      "text/plain": [
       "RObject{VecSxp}\n"
      ]
     },
     "execution_count": 49,
     "metadata": {},
     "output_type": "execute_result"
    }
   ],
   "source": [
    "### working on figure next\n",
    "@rput msedfR\n",
    "\n",
    "R\"\"\"\n",
    "library(scales)\n",
    "library(ggplot2)\n",
    "library(data.table)\n",
    "\n",
    "msedfR = data.table(msedfR)\n",
    "\n",
    "msedfR[parameters == \"beta\",y_min := 10^-4]\n",
    "msedfR[parameters == \"beta\",y_max := 10^-2]\n",
    "msedfR[parameters == \"theta\",y_min := 10^-5]\n",
    "msedfR[parameters == \"theta\",y_max := 10^1]\n",
    "\n",
    "#msedfR[parameters == \"beta\",y_min := 10^-8]\n",
    "#msedfR[parameters == \"beta\",y_max := 10^-2]\n",
    "#msedfR[parameters == \"tau\",y_min := 10^-8]\n",
    "#msedfR[parameters == \"tau\",y_max := 10^-2]\n",
    "#msedfR[parameters == \"Sigma\",y_min := 10^-5]\n",
    "#msedfR[parameters == \"Sigma\",y_max := 10^-2]\n",
    "\n",
    "\n",
    "msedfR$obssize = factor(msedfR$obssize, levels = c('2', '5', '10', '15', '20', '25'))\n",
    "msedfR$samplesize = factor(msedfR$samplesize, levels = c('100', '1000', '10000'))\n",
    "msedfR$parameters = factor(msedfR$parameters, levels = c('beta', 'theta'), labels = c(beta = expression(hat(bold(beta))), thetaa = expression(hat(bold(theta))[])))\n",
    "msedfR$robust <- factor(msedfR$robust, levels = c('Biv Mixed QC', 'Biv Mixed GLM'),\n",
    "    labels = c(expression(paste(\"Biv Mixed QC\")), expression(paste(\"Biv Mixed GLM\"))))\n",
    "\n",
    "\n",
    "#mseplot <- ggplot(msedfR[msedfR$mse < 10^0, ], aes(x=samplesize, y=mse, fill=obssize)) + \n",
    "mseplot = ggplot(msedfR[msedfR$mse < 10^3, ], aes(x=samplesize, y=mse, fill=obssize)) + \n",
    "  #geom_boxplot(outlier.size = 0.0, outlier.alpha = 0) +\n",
    "  geom_boxplot(outlier.size = 0.25) +\n",
    "#    geom_violin() +\n",
    "    facet_grid(parameters ~ robust, labeller = label_parsed, scales = \"free_y\") +\n",
    "  theme(legend.position=\"right\", legend.key = element_blank(), axis.text.x = element_text(angle=0, size=30),\n",
    "        axis.text.y = element_text(angle=0, size=30), axis.title.x = element_text(size = 30, face=\"bold\"), \n",
    "        axis.title.y = element_text(size = 40, face=\"bold\"), legend.title = element_text(size = 30, face=\"bold\"),\n",
    "        panel.grid.major = element_blank(), panel.grid.minor = element_blank(),\n",
    "        legend.text=element_text(size=30), panel.background = element_rect(fill = NA, color = \"black\"),\n",
    "        #panel.background = element_blank(), #panel.border = element_blank(),\n",
    "        axis.line = element_line(color = 'black',size=0.3), plot.title = element_text(hjust = 0.5),\n",
    "        strip.background = element_rect(colour=\"black\", fill=\"white\"), strip.text.y = element_text(angle = 0, size=75, face=\"bold\"),\n",
    "        strip.text.x = element_text(size=25)) + \n",
    "  scale_fill_manual(values = c(\"#c85f55\",\n",
    "\"#a964bf\",\n",
    "\"#8db352\",\n",
    "\"#fa7300\",\n",
    "\"#05aec0\",\n",
    "\"#ff1493\")) +\n",
    "#scale_y_log10(breaks = scales::trans_breaks(\"log10\", function(x) 10^x)) +\n",
    "#scale_y_log10(breaks = 10^(-8:8), limit=c(10^-8, 10^2)) + \n",
    "scale_y_log10(breaks = 10^seq(-10, 10, 2), labels=trans_format(\"log10\", math_format(10^.x))) + #, limit=c(10^-8, 10^2)) +\n",
    "  labs(x = \"Sample Size\", y = \"MSE of Parameter Estimates\", fill = \"Cluster Size\") +\n",
    "geom_blank(aes(y = y_max)) + \n",
    "geom_blank(aes(y = y_min)) \n",
    "\n",
    "\"\"\""
   ]
  },
  {
   "cell_type": "code",
   "execution_count": 50,
   "metadata": {},
   "outputs": [
    {
     "data": {
      "text/plain": [
       "RObject{StrSxp}\n",
       "[1] \"bivariate_mixed_msefacetplot_vs_GLM.png\"\n"
      ]
     },
     "execution_count": 50,
     "metadata": {},
     "output_type": "execute_result"
    }
   ],
   "source": [
    "R\"\"\"\n",
    "ggsave('bivariate_mixed_msefacetplot_vs_GLM.png', mseplot, width = 20, height = 15, units = 'in', dpi = 450)\n",
    "\"\"\""
   ]
  },
  {
   "cell_type": "code",
   "execution_count": null,
   "metadata": {},
   "outputs": [],
   "source": []
  }
 ],
 "metadata": {
  "@webio": {
   "lastCommId": null,
   "lastKernelId": null
  },
  "kernelspec": {
   "display_name": "Julia 1.6.2",
   "language": "julia",
   "name": "julia-1.6"
  },
  "language_info": {
   "file_extension": ".jl",
   "mimetype": "application/julia",
   "name": "julia",
   "version": "1.6.2"
  }
 },
 "nbformat": 4,
 "nbformat_minor": 2
}
