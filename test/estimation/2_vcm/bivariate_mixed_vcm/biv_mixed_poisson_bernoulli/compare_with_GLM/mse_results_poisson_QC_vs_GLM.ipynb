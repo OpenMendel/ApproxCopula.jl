{
 "cells": [
  {
   "cell_type": "markdown",
   "metadata": {},
   "source": [
    "## Bivariate Mixed Outcome Model: Poisson and Bernoulli VC Run-time and MSE Results \n",
    "\n",
    "In this example, $y_{i1} \\sim Poisson(\\mu_{i1}(\\mathbf{\\beta_1}))$ and $y_{i2} \\sim Bernoulli(\\mu_{i2}(\\mathbf{\\beta_2}))$\n",
    "\n",
    "We have three fixed effects for each outcome, $\\beta_{true} = [0.2; 0.1; -0.05; 0.2; 0.1; -0.1]$\n",
    "\n",
    "In this example we have Poisson and Bernoulli base distribution with Log and Logit Link functions and covariance matrix $\\Gamma$ structured under VC covariance with $\\theta = 0.1$, we want to compare the MSE with that of GLM.\n",
    "\n",
    "We run each scenario 100 times."
   ]
  },
  {
   "cell_type": "code",
   "execution_count": 1,
   "metadata": {},
   "outputs": [
    {
     "name": "stdout",
     "output_type": "stream",
     "text": [
      "Julia Version 1.6.2\n",
      "Commit 1b93d53fc4 (2021-07-14 15:36 UTC)\n",
      "Platform Info:\n",
      "  OS: macOS (x86_64-apple-darwin18.7.0)\n",
      "  CPU: Intel(R) Core(TM) i9-9880H CPU @ 2.30GHz\n",
      "  WORD_SIZE: 64\n",
      "  LIBM: libopenlibm\n",
      "  LLVM: libLLVM-11.0.1 (ORCJIT, skylake)\n"
     ]
    }
   ],
   "source": [
    "versioninfo()"
   ]
  },
  {
   "cell_type": "code",
   "execution_count": 2,
   "metadata": {},
   "outputs": [],
   "source": [
    "using GLMCopula, DelimitedFiles, LinearAlgebra, Random, GLM\n",
    "using Random, Roots, SpecialFunctions, DataFrames"
   ]
  },
  {
   "cell_type": "code",
   "execution_count": 3,
   "metadata": {},
   "outputs": [
    {
     "data": {
      "text/plain": [
       "100"
      ]
     },
     "execution_count": 3,
     "metadata": {},
     "output_type": "execute_result"
    }
   ],
   "source": [
    "p = 6    # number of fixed effects, including intercept\n",
    "m = 1    # number of variance components\n",
    "# true parameter values\n",
    "βtrue = [0.2; 0.1; -0.05; 0.2; 0.1; -0.1]\n",
    "θtrue = [0.1]\n",
    "\n",
    "# generate data\n",
    "intervals = zeros(p + m, 2) #hold intervals\n",
    "curcoverage = zeros(p + m) #hold current coverage resutls\n",
    "trueparams = [βtrue; θtrue] #hold true parameters\n",
    "\n",
    "#simulation parameters\n",
    "samplesizes = [100; 1000; 10000]\n",
    "ns = [2]\n",
    "nsims = 100"
   ]
  },
  {
   "cell_type": "code",
   "execution_count": 4,
   "metadata": {},
   "outputs": [
    {
     "name": "stderr",
     "output_type": "stream",
     "text": [
      "┌ Info: reading in the files with results\n",
      "└ @ Main In[4]:1\n"
     ]
    },
    {
     "data": {
      "text/plain": [
       "300-element Vector{Float64}:\n",
       " 0.080504169\n",
       " 0.064974682\n",
       " 0.113733375\n",
       " 0.022284143\n",
       " 0.067102666\n",
       " 0.061021329\n",
       " 0.068116597\n",
       " 0.037532764\n",
       " 0.101484852\n",
       " 0.103468913\n",
       " 0.062688816\n",
       " 0.099998314\n",
       " 0.099698823\n",
       " ⋮\n",
       " 3.227177468\n",
       " 3.009082345\n",
       " 3.232212082\n",
       " 2.87230849\n",
       " 3.138317315\n",
       " 1.763941655\n",
       " 3.39350298\n",
       " 2.97498072\n",
       " 3.15393281\n",
       " 3.10473951\n",
       " 3.103522084\n",
       " 3.217726018"
      ]
     },
     "execution_count": 4,
     "metadata": {},
     "output_type": "execute_result"
    }
   ],
   "source": [
    "@info \"reading in the files with results\"\n",
    "βMseresult = vec(readdlm(\"mse_beta_bivariate_mixed_poisson_bernoulli_vcm$(nsims)reps_sim.csv\", ','))\n",
    "θMseresult = vec(readdlm(\"mse_Sigma_bivariate_mixed_poisson_bernoulli_vcm$(nsims)reps_sim.csv\", ','))\n",
    "fittimes_QC = vec(readdlm(\"fittimes_bivariate_mixed_poisson_bernoulli_vcm$(nsims)reps_sim.csv\", ','))"
   ]
  },
  {
   "cell_type": "code",
   "execution_count": 5,
   "metadata": {},
   "outputs": [
    {
     "data": {
      "text/plain": [
       "300-element Vector{Float64}:\n",
       " 0.000320328\n",
       " 0.000259482\n",
       " 0.000234749\n",
       " 0.000205614\n",
       " 0.00019784\n",
       " 0.000211556\n",
       " 0.00022392\n",
       " 0.000217103\n",
       " 0.000207196\n",
       " 0.000213489\n",
       " 0.000219165\n",
       " 0.000222324\n",
       " 0.000211023\n",
       " ⋮\n",
       " 0.005929078\n",
       " 0.005967395\n",
       " 0.006057072\n",
       " 0.006056433\n",
       " 0.005990119\n",
       " 0.006030066\n",
       " 0.032425125\n",
       " 0.006050261\n",
       " 0.005959654\n",
       " 0.006008723\n",
       " 0.0060042\n",
       " 0.005932984"
      ]
     },
     "execution_count": 5,
     "metadata": {},
     "output_type": "execute_result"
    }
   ],
   "source": [
    "fittimes_GLM = vec(readdlm(\"fittimes_GLM_bivariate_mixed_poisson_bernoulli_vcm$(nsims)reps_sim.csv\", ','))"
   ]
  },
  {
   "cell_type": "code",
   "execution_count": 6,
   "metadata": {},
   "outputs": [
    {
     "name": "stderr",
     "output_type": "stream",
     "text": [
      "┌ Info: making results table Quasi-Copula\n",
      "└ @ Main In[6]:2\n"
     ]
    },
    {
     "data": {
      "text/html": [
       "<div class=\"data-frame\"><p>3 rows × 8 columns</p><table class=\"data-frame\"><thead><tr><th></th><th>samplesize</th><th>obssize</th><th>fittime</th><th>se</th><th>nobs</th><th>fitmin</th><th>fitmax</th><th>perobsratio</th></tr><tr><th></th><th title=\"String\">String</th><th title=\"String\">String</th><th title=\"Float64\">Float64</th><th title=\"Float64\">Float64</th><th title=\"Int64\">Int64</th><th title=\"Float64\">Float64</th><th title=\"Float64\">Float64</th><th title=\"Float64\">Float64</th></tr></thead><tbody><tr><th>1</th><td>100</td><td>2</td><td>0.0782629</td><td>0.00280068</td><td>200</td><td>0.0754623</td><td>0.0838643</td><td>0.000391315</td></tr><tr><th>2</th><td>1000</td><td>2</td><td>0.258778</td><td>0.0040879</td><td>2000</td><td>0.25469</td><td>0.266953</td><td>0.000129389</td></tr><tr><th>3</th><td>10000</td><td>2</td><td>3.03985</td><td>0.0344706</td><td>20000</td><td>3.00538</td><td>3.10879</td><td>0.000151992</td></tr></tbody></table></div>"
      ],
      "text/latex": [
       "\\begin{tabular}{r|cccccccc}\n",
       "\t& samplesize & obssize & fittime & se & nobs & fitmin & fitmax & perobsratio\\\\\n",
       "\t\\hline\n",
       "\t& String & String & Float64 & Float64 & Int64 & Float64 & Float64 & Float64\\\\\n",
       "\t\\hline\n",
       "\t1 & 100 & 2 & 0.0782629 & 0.00280068 & 200 & 0.0754623 & 0.0838643 & 0.000391315 \\\\\n",
       "\t2 & 1000 & 2 & 0.258778 & 0.0040879 & 2000 & 0.25469 & 0.266953 & 0.000129389 \\\\\n",
       "\t3 & 10000 & 2 & 3.03985 & 0.0344706 & 20000 & 3.00538 & 3.10879 & 0.000151992 \\\\\n",
       "\\end{tabular}\n"
      ],
      "text/plain": [
       "\u001b[1m3×8 DataFrame\u001b[0m\n",
       "\u001b[1m Row \u001b[0m│\u001b[1m samplesize \u001b[0m\u001b[1m obssize \u001b[0m\u001b[1m fittime   \u001b[0m\u001b[1m se         \u001b[0m\u001b[1m nobs  \u001b[0m\u001b[1m fitmin    \u001b[0m\u001b[1m fitmax   \u001b[0m ⋯\n",
       "\u001b[1m     \u001b[0m│\u001b[90m String     \u001b[0m\u001b[90m String  \u001b[0m\u001b[90m Float64   \u001b[0m\u001b[90m Float64    \u001b[0m\u001b[90m Int64 \u001b[0m\u001b[90m Float64   \u001b[0m\u001b[90m Float64  \u001b[0m ⋯\n",
       "─────┼──────────────────────────────────────────────────────────────────────────\n",
       "   1 │ 100         2        0.0782629  0.00280068    200  0.0754623  0.0838643 ⋯\n",
       "   2 │ 1000        2        0.258778   0.0040879    2000  0.25469    0.266953\n",
       "   3 │ 10000       2        3.03985    0.0344706   20000  3.00538    3.10879\n",
       "\u001b[36m                                                                1 column omitted\u001b[0m"
      ]
     },
     "execution_count": 6,
     "metadata": {},
     "output_type": "execute_result"
    }
   ],
   "source": [
    "#simulation parameters\n",
    "@info \"making results table Quasi-Copula\"\n",
    "sample_sizes = repeat(string.(samplesizes), inner = nsims * length(ns))\n",
    "obs_sizes = repeat(string.(ns), inner = nsims, outer = length(samplesizes))\n",
    "\n",
    "msedf = DataFrame(samplesize = sample_sizes, obssize = obs_sizes, fittimes = fittimes_QC)\n",
    "timedf1 = combine(groupby(msedf, [:samplesize, :obssize]), :fittimes => mean => :fittime,\n",
    "    :fittimes => x -> (std(x)/sqrt(length(x))))\n",
    "rename!(timedf1, Dict(:fittimes_function => \"se\"))\n",
    "timedf1[!, :nobs] = Meta.parse.(timedf1[!, :samplesize]) .* Meta.parse.(timedf1[!, :obssize])\n",
    "timedf1[!, :fitmin] = timedf1[!, :fittime] - timedf1[!, :se]\n",
    "timedf1[!, :fitmax] = timedf1[!, :fittime] + 2 * timedf1[!, :se]\n",
    "timedf1[!, :perobsratio] = timedf1[!, :fittime] ./ timedf1[!, :nobs]\n",
    "timedf1"
   ]
  },
  {
   "cell_type": "code",
   "execution_count": 7,
   "metadata": {},
   "outputs": [
    {
     "name": "stderr",
     "output_type": "stream",
     "text": [
      "┌ Info: making results table GLMM\n",
      "└ @ Main In[7]:2\n"
     ]
    },
    {
     "data": {
      "text/html": [
       "<div class=\"data-frame\"><p>3 rows × 8 columns (omitted printing of 1 columns)</p><table class=\"data-frame\"><thead><tr><th></th><th>samplesize</th><th>obssize</th><th>fittime</th><th>se</th><th>nobs</th><th>fitmin</th><th>fitmax</th></tr><tr><th></th><th title=\"String\">String</th><th title=\"String\">String</th><th title=\"Float64\">Float64</th><th title=\"Float64\">Float64</th><th title=\"Int64\">Int64</th><th title=\"Float64\">Float64</th><th title=\"Float64\">Float64</th></tr></thead><tbody><tr><th>1</th><td>100</td><td>2</td><td>0.000209864</td><td>1.7355e-6</td><td>200</td><td>0.000208129</td><td>0.0002116</td></tr><tr><th>2</th><td>1000</td><td>2</td><td>0.000763558</td><td>2.08384e-6</td><td>2000</td><td>0.000761474</td><td>0.000765642</td></tr><tr><th>3</th><td>10000</td><td>2</td><td>0.00750827</td><td>0.000629218</td><td>20000</td><td>0.00687905</td><td>0.00813749</td></tr></tbody></table></div>"
      ],
      "text/latex": [
       "\\begin{tabular}{r|cccccccc}\n",
       "\t& samplesize & obssize & fittime & se & nobs & fitmin & fitmax & \\\\\n",
       "\t\\hline\n",
       "\t& String & String & Float64 & Float64 & Int64 & Float64 & Float64 & \\\\\n",
       "\t\\hline\n",
       "\t1 & 100 & 2 & 0.000209864 & 1.7355e-6 & 200 & 0.000208129 & 0.0002116 & $\\dots$ \\\\\n",
       "\t2 & 1000 & 2 & 0.000763558 & 2.08384e-6 & 2000 & 0.000761474 & 0.000765642 & $\\dots$ \\\\\n",
       "\t3 & 10000 & 2 & 0.00750827 & 0.000629218 & 20000 & 0.00687905 & 0.00813749 & $\\dots$ \\\\\n",
       "\\end{tabular}\n"
      ],
      "text/plain": [
       "\u001b[1m3×8 DataFrame\u001b[0m\n",
       "\u001b[1m Row \u001b[0m│\u001b[1m samplesize \u001b[0m\u001b[1m obssize \u001b[0m\u001b[1m fittime     \u001b[0m\u001b[1m se          \u001b[0m\u001b[1m nobs  \u001b[0m\u001b[1m fitmin      \u001b[0m\u001b[1m fitm\u001b[0m ⋯\n",
       "\u001b[1m     \u001b[0m│\u001b[90m String     \u001b[0m\u001b[90m String  \u001b[0m\u001b[90m Float64     \u001b[0m\u001b[90m Float64     \u001b[0m\u001b[90m Int64 \u001b[0m\u001b[90m Float64     \u001b[0m\u001b[90m Floa\u001b[0m ⋯\n",
       "─────┼──────────────────────────────────────────────────────────────────────────\n",
       "   1 │ 100         2        0.000209864  1.7355e-6      200  0.000208129  0.00 ⋯\n",
       "   2 │ 1000        2        0.000763558  2.08384e-6    2000  0.000761474  0.00\n",
       "   3 │ 10000       2        0.00750827   0.000629218  20000  0.00687905   0.00\n",
       "\u001b[36m                                                               2 columns omitted\u001b[0m"
      ]
     },
     "execution_count": 7,
     "metadata": {},
     "output_type": "execute_result"
    }
   ],
   "source": [
    "#simulation parameters\n",
    "@info \"making results table GLMM\"\n",
    "sample_sizes = repeat(string.(samplesizes), inner = nsims * length(ns))\n",
    "obs_sizes = repeat(string.(ns), inner = nsims, outer = length(samplesizes))\n",
    "\n",
    "msedf = DataFrame(samplesize = sample_sizes, obssize = obs_sizes, fittimes = fittimes_GLM)\n",
    "timedf2 = combine(groupby(msedf, [:samplesize, :obssize]), :fittimes => mean => :fittime,\n",
    "    :fittimes => x -> (std(x)/sqrt(length(x))))\n",
    "rename!(timedf2, Dict(:fittimes_function => \"se\"))\n",
    "timedf2[!, :nobs] = Meta.parse.(timedf2[!, :samplesize]) .* Meta.parse.(timedf2[!, :obssize])\n",
    "timedf2[!, :fitmin] = timedf2[!, :fittime] - timedf2[!, :se]\n",
    "timedf2[!, :fitmax] = timedf2[!, :fittime] + timedf2[!, :se]\n",
    "timedf2[!, :perobsratio] = timedf2[!, :fittime] ./ timedf2[!, :nobs]\n",
    "timedf2"
   ]
  },
  {
   "cell_type": "code",
   "execution_count": 8,
   "metadata": {},
   "outputs": [
    {
     "name": "stderr",
     "output_type": "stream",
     "text": [
      "┌ Warning: RCall.jl: Warning: package ‘ggplot2’ was built under R version 4.0.2\n",
      "└ @ RCall /Users/sarahji/.julia/packages/RCall/iMDW2/src/io.jl:160\n",
      "┌ Warning: RCall.jl: Warning: package ‘cowplot’ was built under R version 4.0.2\n",
      "└ @ RCall /Users/sarahji/.julia/packages/RCall/iMDW2/src/io.jl:160\n"
     ]
    },
    {
     "data": {
      "image/png": "[encoded data removed]"
     },
     "metadata": {},
     "output_type": "display_data"
    },
    {
     "data": {
      "text/plain": [
       "RObject{VecSxp}\n"
      ]
     },
     "execution_count": 8,
     "metadata": {},
     "output_type": "execute_result"
    }
   ],
   "source": [
    "########### plot the runtimes\n",
    "using RCall\n",
    "@rput timedf1\n",
    "@rput timedf2\n",
    "R\"\"\"\n",
    "library(ggplot2)\n",
    "library(cowplot)\n",
    "timedf1$obssize = factor(timedf1$obssize, levels = c('2'))\n",
    "timedf1$samplesize = factor(timedf1$samplesize, levels = c('100', '1000', '10000'))\n",
    "\n",
    "fittime_1 = ggplot(timedf1, aes(x = samplesize, y = fittime, group = obssize, color = obssize)) + \n",
    "  geom_line() +\n",
    "  geom_point()+\n",
    "  geom_errorbar(aes(ymin=fitmin, ymax=fitmax), width=0.5, alpha = 0.8, position=position_dodge(0.005)) + \n",
    "  theme(legend.position=c(0.3,0.85), legend.key = element_blank(), axis.text.x = element_text(angle=0, size=13),\n",
    "        axis.text.y = element_text(angle=0, size=13), axis.title.x = element_text(size = 17), \n",
    "        axis.title.y = element_text(size = 17), legend.title = element_text(size = 14),\n",
    "        #axis.ticks = element_blank(),\n",
    "        panel.grid.major = element_blank(), legend.text=element_text(size=13),\n",
    "        panel.border = element_blank(), panel.grid.minor = element_blank(), panel.background = element_blank(), \n",
    "        axis.line = element_line(color = 'black',size=0.3), plot.title = element_text(hjust = 0.5)) + \n",
    "   scale_color_manual(values = c(\"#c85f55\",\n",
    "\"#a964bf\",\n",
    "\"#8db352\",\n",
    "\"#fa7300\",\n",
    "\"#05aec0\",\n",
    "\"#ff1493\")) +\n",
    "  labs(x = \"Number of Individuals\", y = \"Fit time (seconds)\", color = \"Obs per Individual\")\n",
    "\n",
    "timedf2$obssize = factor(timedf2$obssize, levels = c('2'))\n",
    "timedf2$samplesize = factor(timedf2$samplesize, levels = c('100', '1000', '10000'))\n",
    "\n",
    "fittime_2 = ggplot(timedf2, aes(x = samplesize, y = fittime, group = obssize, color = obssize)) + \n",
    "  geom_line() +\n",
    "  geom_point()+\n",
    "  geom_errorbar(aes(ymin=fitmin, ymax=fitmax), width=0.5, alpha = 0.8, position=position_dodge(0.005)) + \n",
    "  theme(legend.position=c(0.3,0.85), legend.key = element_blank(), axis.text.x = element_text(angle=0, size=13),\n",
    "        axis.text.y = element_text(angle=0, size=13), axis.title.x = element_text(size = 17), \n",
    "        axis.title.y = element_text(size = 17), legend.title = element_text(size = 14),\n",
    "        #axis.ticks = element_blank(),\n",
    "        panel.grid.major = element_blank(), legend.text=element_text(size=13),\n",
    "        panel.border = element_blank(), panel.grid.minor = element_blank(), panel.background = element_blank(), \n",
    "        axis.line = element_line(color = 'black',size=0.3), plot.title = element_text(hjust = 0.5)) + \n",
    "   scale_color_manual(values = c(\"#c85f55\",\n",
    "\"#a964bf\",\n",
    "\"#8db352\",\n",
    "\"#fa7300\",\n",
    "\"#05aec0\",\n",
    "\"#ff1493\")) +\n",
    "  labs(x = \"Number of Individuals\", y = \"Fit time (seconds)\", color = \"Obs per Individual\")\n",
    "\n",
    "fittime_nsamples = plot_grid(fittime_1, fittime_2, labels = c(\"Quasi-Copula\", \"GLM\"))\n",
    "\"\"\""
   ]
  },
  {
   "cell_type": "code",
   "execution_count": 9,
   "metadata": {},
   "outputs": [],
   "source": [
    "# R\"\"\"\n",
    "# ggsave('fittime_nsamples_poisson_vs_glmm.png', fittime_nsamples, width = 15, height = 17, units = 'in', dpi = 450)\n",
    "# \"\"\""
   ]
  },
  {
   "cell_type": "code",
   "execution_count": 10,
   "metadata": {},
   "outputs": [
    {
     "data": {
      "text/html": [
       "<div class=\"data-frame\"><p>3 rows × 8 columns (omitted printing of 3 columns)</p><table class=\"data-frame\"><thead><tr><th></th><th>people_obs</th><th>β1</th><th>β2</th><th>β3</th><th>β4</th></tr><tr><th></th><th title=\"String\">String</th><th title=\"Tuple{Float64, Float64}\">Tuple…</th><th title=\"Tuple{Float64, Float64}\">Tuple…</th><th title=\"Tuple{Float64, Float64}\">Tuple…</th><th title=\"Tuple{Float64, Float64}\">Tuple…</th></tr></thead><tbody><tr><th>1</th><td>N: 100  ni: 2</td><td>(0.74, 0.0440844)</td><td>(0.7, 0.0460566)</td><td>(0.71, 0.0456048)</td><td>(0.72, 0.0451261)</td></tr><tr><th>2</th><td>N: 1000  ni: 2</td><td>(0.7, 0.0460566)</td><td>(0.68, 0.0468826)</td><td>(0.79, 0.040936)</td><td>(0.76, 0.0429235)</td></tr><tr><th>3</th><td>N: 10000  ni: 2</td><td>(0.74, 0.0440844)</td><td>(0.72, 0.0451261)</td><td>(0.74, 0.0440844)</td><td>(0.72, 0.0451261)</td></tr></tbody></table></div>"
      ],
      "text/latex": [
       "\\begin{tabular}{r|cccccc}\n",
       "\t& people\\_obs & β1 & β2 & β3 & β4 & \\\\\n",
       "\t\\hline\n",
       "\t& String & Tuple… & Tuple… & Tuple… & Tuple… & \\\\\n",
       "\t\\hline\n",
       "\t1 & N: 100  ni: 2 & (0.74, 0.0440844) & (0.7, 0.0460566) & (0.71, 0.0456048) & (0.72, 0.0451261) & $\\dots$ \\\\\n",
       "\t2 & N: 1000  ni: 2 & (0.7, 0.0460566) & (0.68, 0.0468826) & (0.79, 0.040936) & (0.76, 0.0429235) & $\\dots$ \\\\\n",
       "\t3 & N: 10000  ni: 2 & (0.74, 0.0440844) & (0.72, 0.0451261) & (0.74, 0.0440844) & (0.72, 0.0451261) & $\\dots$ \\\\\n",
       "\\end{tabular}\n"
      ],
      "text/plain": [
       "\u001b[1m3×8 DataFrame\u001b[0m\n",
       "\u001b[1m Row \u001b[0m│\u001b[1m people_obs      \u001b[0m\u001b[1m β1                \u001b[0m\u001b[1m β2                \u001b[0m\u001b[1m β3              \u001b[0m ⋯\n",
       "\u001b[1m     \u001b[0m│\u001b[90m String          \u001b[0m\u001b[90m Tuple…            \u001b[0m\u001b[90m Tuple…            \u001b[0m\u001b[90m Tuple…          \u001b[0m ⋯\n",
       "─────┼──────────────────────────────────────────────────────────────────────────\n",
       "   1 │ N: 100  ni: 2    (0.74, 0.0440844)  (0.7, 0.0460566)   (0.71, 0.0456048 ⋯\n",
       "   2 │ N: 1000  ni: 2   (0.7, 0.0460566)   (0.68, 0.0468826)  (0.79, 0.040936)\n",
       "   3 │ N: 10000  ni: 2  (0.74, 0.0440844)  (0.72, 0.0451261)  (0.74, 0.0440844\n",
       "\u001b[36m                                                               5 columns omitted\u001b[0m"
      ]
     },
     "execution_count": 10,
     "metadata": {},
     "output_type": "execute_result"
    }
   ],
   "source": [
    "######  supplementary table s1\n",
    "using Random, DataFrames, DelimitedFiles, Statistics\n",
    "import StatsBase: sem\n",
    "\n",
    "βθcoverage = readdlm(\"beta_sigma_coverage_bivariate_mixed_poisson_bernoulli_vcm$(nsims)reps_sim.csv\", ',')\n",
    "\n",
    "m  = 1\n",
    "\n",
    "covdf = DataFrame(Matrix(transpose(βθcoverage)), :auto)\n",
    "rename!(covdf, Symbol.([[\"β$i\" for i in 1:p]; [\"θ$i\" for i in 1:m]]))\n",
    "covdf[!, :samplesize] = sample_sizes\n",
    "covdf[!, :obssize] = obs_sizes\n",
    "first(covdf, 10)\n",
    "\n",
    "row_stats = [[(mean(col), sem(col)) for col = eachcol(d[!, 1:end-2])] for d = groupby(covdf, [:samplesize; :obssize])]\n",
    "df = DataFrame(row_stats, :auto)\n",
    "ss_obs = unique(\"N: \" .* sample_sizes .* \"  ni: \" .* obs_sizes)\n",
    "rename!(df, Symbol.(ss_obs))\n",
    "covdfdisplay = DataFrame([[names(df)]; collect.(eachrow(df))], \n",
    "    [:people_obs; Symbol.([[\"β$i\" for i in 1:p]; [\"θ$i\" for i in 1:m]])])\n",
    "# deletecols!(covdfdisplay, p + 2)\n",
    "covdfdisplay\n"
   ]
  },
  {
   "cell_type": "code",
   "execution_count": 11,
   "metadata": {},
   "outputs": [
    {
     "data": {
      "text/html": [
       "<div class=\"data-frame\"><p>3 rows × 8 columns (omitted printing of 3 columns)</p><table class=\"data-frame\"><thead><tr><th></th><th>people_obs</th><th>β1</th><th>β2</th><th>β3</th><th>β4</th></tr><tr><th></th><th title=\"String\">String</th><th title=\"Tuple{Float64, Float64}\">Tuple…</th><th title=\"Tuple{Float64, Float64}\">Tuple…</th><th title=\"Tuple{Float64, Float64}\">Tuple…</th><th title=\"Tuple{Float64, Float64}\">Tuple…</th></tr></thead><tbody><tr><th>1</th><td>N: 100  ni: 2</td><td>(0.91, 0.0287623)</td><td>(0.97, 0.0171447)</td><td>(0.94, 0.0238683)</td><td>(0.99, 0.01)</td></tr><tr><th>2</th><td>N: 1000  ni: 2</td><td>(0.75, 0.0435194)</td><td>(0.92, 0.027266)</td><td>(0.96, 0.0196946)</td><td>(0.95, 0.0219043)</td></tr><tr><th>3</th><td>N: 10000  ni: 2</td><td>(0.03, 0.0171447)</td><td>(0.89, 0.0314466)</td><td>(0.92, 0.027266)</td><td>(0.86, 0.0348735)</td></tr></tbody></table></div>"
      ],
      "text/latex": [
       "\\begin{tabular}{r|cccccc}\n",
       "\t& people\\_obs & β1 & β2 & β3 & β4 & \\\\\n",
       "\t\\hline\n",
       "\t& String & Tuple… & Tuple… & Tuple… & Tuple… & \\\\\n",
       "\t\\hline\n",
       "\t1 & N: 100  ni: 2 & (0.91, 0.0287623) & (0.97, 0.0171447) & (0.94, 0.0238683) & (0.99, 0.01) & $\\dots$ \\\\\n",
       "\t2 & N: 1000  ni: 2 & (0.75, 0.0435194) & (0.92, 0.027266) & (0.96, 0.0196946) & (0.95, 0.0219043) & $\\dots$ \\\\\n",
       "\t3 & N: 10000  ni: 2 & (0.03, 0.0171447) & (0.89, 0.0314466) & (0.92, 0.027266) & (0.86, 0.0348735) & $\\dots$ \\\\\n",
       "\\end{tabular}\n"
      ],
      "text/plain": [
       "\u001b[1m3×8 DataFrame\u001b[0m\n",
       "\u001b[1m Row \u001b[0m│\u001b[1m people_obs      \u001b[0m\u001b[1m β1                \u001b[0m\u001b[1m β2                \u001b[0m\u001b[1m β3              \u001b[0m ⋯\n",
       "\u001b[1m     \u001b[0m│\u001b[90m String          \u001b[0m\u001b[90m Tuple…            \u001b[0m\u001b[90m Tuple…            \u001b[0m\u001b[90m Tuple…          \u001b[0m ⋯\n",
       "─────┼──────────────────────────────────────────────────────────────────────────\n",
       "   1 │ N: 100  ni: 2    (0.91, 0.0287623)  (0.97, 0.0171447)  (0.94, 0.0238683 ⋯\n",
       "   2 │ N: 1000  ni: 2   (0.75, 0.0435194)  (0.92, 0.027266)   (0.96, 0.0196946\n",
       "   3 │ N: 10000  ni: 2  (0.03, 0.0171447)  (0.89, 0.0314466)  (0.92, 0.027266)\n",
       "\u001b[36m                                                               5 columns omitted\u001b[0m"
      ]
     },
     "execution_count": 11,
     "metadata": {},
     "output_type": "execute_result"
    }
   ],
   "source": [
    "βθcoverage_GLM = readdlm(\"beta_sigma_coverage_GLM_bivariate_mixed_poisson_bernoulli_vcm$(nsims)reps_sim.csv\", ',')\n",
    "\n",
    "m  = 1\n",
    "\n",
    "covdf = DataFrame(Matrix(transpose(βθcoverage_GLM)), :auto)\n",
    "rename!(covdf, Symbol.([[\"β$i\" for i in 1:p]; [\"θ$i\" for i in 1:m]]))\n",
    "covdf[!, :samplesize] = sample_sizes\n",
    "covdf[!, :obssize] = obs_sizes\n",
    "first(covdf, 10)\n",
    "\n",
    "row_stats = [[(mean(col), sem(col)) for col = eachcol(d[!, 1:end-2])] for d = groupby(covdf, [:samplesize; :obssize])]\n",
    "df = DataFrame(row_stats, :auto)\n",
    "ss_obs = unique(\"N: \" .* sample_sizes .* \"  ni: \" .* obs_sizes)\n",
    "rename!(df, Symbol.(ss_obs))\n",
    "covdfdisplay = DataFrame([[names(df)]; collect.(eachrow(df))], \n",
    "    [:people_obs; Symbol.([[\"β$i\" for i in 1:p]; [\"θ$i\" for i in 1:m]])])\n",
    "# deletecols!(covdfdisplay, p + 2)\n",
    "covdfdisplay\n"
   ]
  },
  {
   "cell_type": "code",
   "execution_count": 12,
   "metadata": {},
   "outputs": [
    {
     "data": {
      "text/html": [
       "<div class=\"data-frame\"><p>1,200 rows × 5 columns</p><table class=\"data-frame\"><thead><tr><th></th><th>mse</th><th>obssize</th><th>samplesize</th><th>parameters</th><th>robust</th></tr><tr><th></th><th title=\"Float64\">Float64</th><th title=\"String\">String</th><th title=\"String\">String</th><th title=\"String\">String</th><th title=\"String\">String</th></tr></thead><tbody><tr><th>1</th><td>0.00783604</td><td>2</td><td>100</td><td>beta</td><td>Bivariate Mixed Poisson Bernoulli QC</td></tr><tr><th>2</th><td>0.0112372</td><td>2</td><td>100</td><td>beta</td><td>Bivariate Mixed Poisson Bernoulli QC</td></tr><tr><th>3</th><td>0.0555842</td><td>2</td><td>100</td><td>beta</td><td>Bivariate Mixed Poisson Bernoulli QC</td></tr><tr><th>4</th><td>0.00831717</td><td>2</td><td>100</td><td>beta</td><td>Bivariate Mixed Poisson Bernoulli QC</td></tr><tr><th>5</th><td>0.0168707</td><td>2</td><td>100</td><td>beta</td><td>Bivariate Mixed Poisson Bernoulli QC</td></tr><tr><th>6</th><td>0.0176209</td><td>2</td><td>100</td><td>beta</td><td>Bivariate Mixed Poisson Bernoulli QC</td></tr><tr><th>7</th><td>0.0300544</td><td>2</td><td>100</td><td>beta</td><td>Bivariate Mixed Poisson Bernoulli QC</td></tr><tr><th>8</th><td>0.0542968</td><td>2</td><td>100</td><td>beta</td><td>Bivariate Mixed Poisson Bernoulli QC</td></tr><tr><th>9</th><td>0.0284456</td><td>2</td><td>100</td><td>beta</td><td>Bivariate Mixed Poisson Bernoulli QC</td></tr><tr><th>10</th><td>0.0106641</td><td>2</td><td>100</td><td>beta</td><td>Bivariate Mixed Poisson Bernoulli QC</td></tr><tr><th>11</th><td>0.0963608</td><td>2</td><td>100</td><td>beta</td><td>Bivariate Mixed Poisson Bernoulli QC</td></tr><tr><th>12</th><td>0.0194496</td><td>2</td><td>100</td><td>beta</td><td>Bivariate Mixed Poisson Bernoulli QC</td></tr><tr><th>13</th><td>0.00929068</td><td>2</td><td>100</td><td>beta</td><td>Bivariate Mixed Poisson Bernoulli QC</td></tr><tr><th>14</th><td>0.0123074</td><td>2</td><td>100</td><td>beta</td><td>Bivariate Mixed Poisson Bernoulli QC</td></tr><tr><th>15</th><td>0.005731</td><td>2</td><td>100</td><td>beta</td><td>Bivariate Mixed Poisson Bernoulli QC</td></tr><tr><th>16</th><td>0.00904838</td><td>2</td><td>100</td><td>beta</td><td>Bivariate Mixed Poisson Bernoulli QC</td></tr><tr><th>17</th><td>0.0255379</td><td>2</td><td>100</td><td>beta</td><td>Bivariate Mixed Poisson Bernoulli QC</td></tr><tr><th>18</th><td>0.0371339</td><td>2</td><td>100</td><td>beta</td><td>Bivariate Mixed Poisson Bernoulli QC</td></tr><tr><th>19</th><td>0.0102675</td><td>2</td><td>100</td><td>beta</td><td>Bivariate Mixed Poisson Bernoulli QC</td></tr><tr><th>20</th><td>0.0470568</td><td>2</td><td>100</td><td>beta</td><td>Bivariate Mixed Poisson Bernoulli QC</td></tr><tr><th>21</th><td>0.0130274</td><td>2</td><td>100</td><td>beta</td><td>Bivariate Mixed Poisson Bernoulli QC</td></tr><tr><th>22</th><td>0.0256968</td><td>2</td><td>100</td><td>beta</td><td>Bivariate Mixed Poisson Bernoulli QC</td></tr><tr><th>23</th><td>0.00293975</td><td>2</td><td>100</td><td>beta</td><td>Bivariate Mixed Poisson Bernoulli QC</td></tr><tr><th>24</th><td>0.00521705</td><td>2</td><td>100</td><td>beta</td><td>Bivariate Mixed Poisson Bernoulli QC</td></tr><tr><th>25</th><td>0.0340026</td><td>2</td><td>100</td><td>beta</td><td>Bivariate Mixed Poisson Bernoulli QC</td></tr><tr><th>26</th><td>0.0219977</td><td>2</td><td>100</td><td>beta</td><td>Bivariate Mixed Poisson Bernoulli QC</td></tr><tr><th>27</th><td>0.011923</td><td>2</td><td>100</td><td>beta</td><td>Bivariate Mixed Poisson Bernoulli QC</td></tr><tr><th>28</th><td>0.0323925</td><td>2</td><td>100</td><td>beta</td><td>Bivariate Mixed Poisson Bernoulli QC</td></tr><tr><th>29</th><td>0.0282696</td><td>2</td><td>100</td><td>beta</td><td>Bivariate Mixed Poisson Bernoulli QC</td></tr><tr><th>30</th><td>0.031062</td><td>2</td><td>100</td><td>beta</td><td>Bivariate Mixed Poisson Bernoulli QC</td></tr><tr><th>&vellip;</th><td>&vellip;</td><td>&vellip;</td><td>&vellip;</td><td>&vellip;</td><td>&vellip;</td></tr></tbody></table></div>"
      ],
      "text/latex": [
       "\\begin{tabular}{r|ccccc}\n",
       "\t& mse & obssize & samplesize & parameters & robust\\\\\n",
       "\t\\hline\n",
       "\t& Float64 & String & String & String & String\\\\\n",
       "\t\\hline\n",
       "\t1 & 0.00783604 & 2 & 100 & beta & Bivariate Mixed Poisson Bernoulli QC \\\\\n",
       "\t2 & 0.0112372 & 2 & 100 & beta & Bivariate Mixed Poisson Bernoulli QC \\\\\n",
       "\t3 & 0.0555842 & 2 & 100 & beta & Bivariate Mixed Poisson Bernoulli QC \\\\\n",
       "\t4 & 0.00831717 & 2 & 100 & beta & Bivariate Mixed Poisson Bernoulli QC \\\\\n",
       "\t5 & 0.0168707 & 2 & 100 & beta & Bivariate Mixed Poisson Bernoulli QC \\\\\n",
       "\t6 & 0.0176209 & 2 & 100 & beta & Bivariate Mixed Poisson Bernoulli QC \\\\\n",
       "\t7 & 0.0300544 & 2 & 100 & beta & Bivariate Mixed Poisson Bernoulli QC \\\\\n",
       "\t8 & 0.0542968 & 2 & 100 & beta & Bivariate Mixed Poisson Bernoulli QC \\\\\n",
       "\t9 & 0.0284456 & 2 & 100 & beta & Bivariate Mixed Poisson Bernoulli QC \\\\\n",
       "\t10 & 0.0106641 & 2 & 100 & beta & Bivariate Mixed Poisson Bernoulli QC \\\\\n",
       "\t11 & 0.0963608 & 2 & 100 & beta & Bivariate Mixed Poisson Bernoulli QC \\\\\n",
       "\t12 & 0.0194496 & 2 & 100 & beta & Bivariate Mixed Poisson Bernoulli QC \\\\\n",
       "\t13 & 0.00929068 & 2 & 100 & beta & Bivariate Mixed Poisson Bernoulli QC \\\\\n",
       "\t14 & 0.0123074 & 2 & 100 & beta & Bivariate Mixed Poisson Bernoulli QC \\\\\n",
       "\t15 & 0.005731 & 2 & 100 & beta & Bivariate Mixed Poisson Bernoulli QC \\\\\n",
       "\t16 & 0.00904838 & 2 & 100 & beta & Bivariate Mixed Poisson Bernoulli QC \\\\\n",
       "\t17 & 0.0255379 & 2 & 100 & beta & Bivariate Mixed Poisson Bernoulli QC \\\\\n",
       "\t18 & 0.0371339 & 2 & 100 & beta & Bivariate Mixed Poisson Bernoulli QC \\\\\n",
       "\t19 & 0.0102675 & 2 & 100 & beta & Bivariate Mixed Poisson Bernoulli QC \\\\\n",
       "\t20 & 0.0470568 & 2 & 100 & beta & Bivariate Mixed Poisson Bernoulli QC \\\\\n",
       "\t21 & 0.0130274 & 2 & 100 & beta & Bivariate Mixed Poisson Bernoulli QC \\\\\n",
       "\t22 & 0.0256968 & 2 & 100 & beta & Bivariate Mixed Poisson Bernoulli QC \\\\\n",
       "\t23 & 0.00293975 & 2 & 100 & beta & Bivariate Mixed Poisson Bernoulli QC \\\\\n",
       "\t24 & 0.00521705 & 2 & 100 & beta & Bivariate Mixed Poisson Bernoulli QC \\\\\n",
       "\t25 & 0.0340026 & 2 & 100 & beta & Bivariate Mixed Poisson Bernoulli QC \\\\\n",
       "\t26 & 0.0219977 & 2 & 100 & beta & Bivariate Mixed Poisson Bernoulli QC \\\\\n",
       "\t27 & 0.011923 & 2 & 100 & beta & Bivariate Mixed Poisson Bernoulli QC \\\\\n",
       "\t28 & 0.0323925 & 2 & 100 & beta & Bivariate Mixed Poisson Bernoulli QC \\\\\n",
       "\t29 & 0.0282696 & 2 & 100 & beta & Bivariate Mixed Poisson Bernoulli QC \\\\\n",
       "\t30 & 0.031062 & 2 & 100 & beta & Bivariate Mixed Poisson Bernoulli QC \\\\\n",
       "\t$\\dots$ & $\\dots$ & $\\dots$ & $\\dots$ & $\\dots$ & $\\dots$ \\\\\n",
       "\\end{tabular}\n"
      ],
      "text/plain": [
       "\u001b[1m1200×5 DataFrame\u001b[0m\n",
       "\u001b[1m  Row \u001b[0m│\u001b[1m mse        \u001b[0m\u001b[1m obssize \u001b[0m\u001b[1m samplesize \u001b[0m\u001b[1m parameters \u001b[0m\u001b[1m robust                   \u001b[0m ⋯\n",
       "\u001b[1m      \u001b[0m│\u001b[90m Float64    \u001b[0m\u001b[90m String  \u001b[0m\u001b[90m String     \u001b[0m\u001b[90m String     \u001b[0m\u001b[90m String                   \u001b[0m ⋯\n",
       "──────┼─────────────────────────────────────────────────────────────────────────\n",
       "    1 │ 0.00783604  2        100         beta        Bivariate Mixed Poisson B ⋯\n",
       "    2 │ 0.0112372   2        100         beta        Bivariate Mixed Poisson B\n",
       "    3 │ 0.0555842   2        100         beta        Bivariate Mixed Poisson B\n",
       "    4 │ 0.00831717  2        100         beta        Bivariate Mixed Poisson B\n",
       "    5 │ 0.0168707   2        100         beta        Bivariate Mixed Poisson B ⋯\n",
       "    6 │ 0.0176209   2        100         beta        Bivariate Mixed Poisson B\n",
       "    7 │ 0.0300544   2        100         beta        Bivariate Mixed Poisson B\n",
       "    8 │ 0.0542968   2        100         beta        Bivariate Mixed Poisson B\n",
       "    9 │ 0.0284456   2        100         beta        Bivariate Mixed Poisson B ⋯\n",
       "   10 │ 0.0106641   2        100         beta        Bivariate Mixed Poisson B\n",
       "   11 │ 0.0963608   2        100         beta        Bivariate Mixed Poisson B\n",
       "  ⋮   │     ⋮          ⋮         ⋮           ⋮                       ⋮         ⋱\n",
       " 1191 │ 0.01        2        10000       theta       Separate Poisson Bernoull\n",
       " 1192 │ 0.01        2        10000       theta       Separate Poisson Bernoull ⋯\n",
       " 1193 │ 0.01        2        10000       theta       Separate Poisson Bernoull\n",
       " 1194 │ 0.01        2        10000       theta       Separate Poisson Bernoull\n",
       " 1195 │ 0.01        2        10000       theta       Separate Poisson Bernoull\n",
       " 1196 │ 0.01        2        10000       theta       Separate Poisson Bernoull ⋯\n",
       " 1197 │ 0.01        2        10000       theta       Separate Poisson Bernoull\n",
       " 1198 │ 0.01        2        10000       theta       Separate Poisson Bernoull\n",
       " 1199 │ 0.01        2        10000       theta       Separate Poisson Bernoull\n",
       " 1200 │ 0.01        2        10000       theta       Separate Poisson Bernoull ⋯\n",
       "\u001b[36m                                                  1 column and 1179 rows omitted\u001b[0m"
      ]
     },
     "execution_count": 12,
     "metadata": {},
     "output_type": "execute_result"
    }
   ],
   "source": [
    "#### \n",
    "#import data and reorganize to create figure\n",
    "using Random, DataFrames, DelimitedFiles, Statistics, RCall, Printf\n",
    "import StatsBase: sem\n",
    "\n",
    "βMseresult = vec(readdlm(\"mse_beta_bivariate_mixed_poisson_bernoulli_vcm$(nsims)reps_sim.csv\", ','))\n",
    "θMseresult = vec(readdlm(\"mse_Sigma_bivariate_mixed_poisson_bernoulli_vcm$(nsims)reps_sim.csv\", ','))\n",
    "\n",
    "βMseresult_GLM = vec(readdlm(\"mse_beta_GLM_bivariate_mixed_poisson_bernoulli_vcm$(nsims)reps_sim.csv\", ','))\n",
    "θMseresult_GLM = vec(readdlm(\"mse_Sigma_GLM_bivariate_mixed_poisson_bernoulli_vcm$(nsims)reps_sim.csv\", ','))\n",
    "\n",
    "p = 6; m = 1\n",
    "sample_sizes = repeat(string.(samplesizes), inner = nsims * length(ns))\n",
    "obs_sizes = repeat(string.(ns), inner = nsims, outer = length(samplesizes))\n",
    "msedf1 = DataFrame(βmse = βMseresult, thetamse = θMseresult, \n",
    "    samplesize = sample_sizes, obssize = obs_sizes)\n",
    "\n",
    "msedf2 = DataFrame(βmse = βMseresult_GLM, thetamse = θMseresult_GLM, \n",
    "    samplesize = sample_sizes, obssize = obs_sizes)\n",
    "\n",
    "#rename to make parsing easier for R.\n",
    "\n",
    "msedf1 = deepcopy(msedf1)\n",
    "rename!(msedf1, [\"betamse\"\n",
    "    \"thetamse\"\n",
    "    \"samplesize\"\n",
    " \"obssize\"]);\n",
    "\n",
    "msedf2 = deepcopy(msedf2)\n",
    "rename!(msedf2, [\"betamse\"\n",
    "    \"thetamse\"\n",
    "    \"samplesize\"\n",
    " \"obssize\"]);\n",
    "\n",
    "mses = [msedf1[!, :betamse]; msedf1[!, :thetamse]; msedf2[!, :betamse]; msedf2[!, :thetamse]]\n",
    "    # msedfnormR[!, :betamse]; msedfnormR[!, :taumse]; msedfnormR[!, :Sigmamse]]\n",
    "obssize = [collect([repeat(msedf1[!, :obssize], 2)]...) ; collect([repeat(msedf2[!, :obssize], 2)]...)]\n",
    "#40\n",
    "samplesize = [collect([repeat(msedf1[!, :samplesize], 2)]...) ; collect([repeat(msedf2[!, :samplesize], 2)]...)]\n",
    "\n",
    "parameters = [collect([repeat(string.([:beta, :theta]), inner = nsims * length(ns) * length(samplesizes))]...) ; collect([repeat(string.([:beta, :theta]), inner = nsims * length(ns) * length(samplesizes))]...)]\n",
    "robust = [collect([repeat([\"Bivariate Mixed Poisson Bernoulli QC\"], 2 * nsims * length(ns) * length(samplesizes))]...); collect([repeat([\"Separate Poisson Bernoulli GLM\"],  2 * nsims * length(ns) * length(samplesizes))]...)]\n",
    "\n",
    "msedfR = DataFrame(mse = mses, obssize = obssize, samplesize = samplesize,\n",
    "    parameters = parameters, robust = robust)\n",
    "\n",
    "#5 of the 30,000 simulations did not converge, filter out\n",
    "msedfR = filter(x -> !isnan(x.mse), msedfR)\n",
    "# additionally, there are 5 where an error was not caught so it did not try a differnt solver\n",
    "msedfR = filter(x -> x.mse < 40000, msedfR)"
   ]
  },
  {
   "cell_type": "code",
   "execution_count": 13,
   "metadata": {},
   "outputs": [
    {
     "name": "stderr",
     "output_type": "stream",
     "text": [
      "┌ Warning: RCall.jl: Warning: package ‘scales’ was built under R version 4.0.2\n",
      "└ @ RCall /Users/sarahji/.julia/packages/RCall/iMDW2/src/io.jl:160\n",
      "┌ Warning: RCall.jl: Warning: package ‘data.table’ was built under R version 4.0.2\n",
      "└ @ RCall /Users/sarahji/.julia/packages/RCall/iMDW2/src/io.jl:160\n"
     ]
    },
    {
     "data": {
      "image/png": "[encoded data removed]"
     },
     "metadata": {},
     "output_type": "display_data"
    },
    {
     "data": {
      "text/plain": [
       "RObject{VecSxp}\n"
      ]
     },
     "execution_count": 13,
     "metadata": {},
     "output_type": "execute_result"
    }
   ],
   "source": [
    "### working on figure next\n",
    "@rput msedfR\n",
    "\n",
    "R\"\"\"\n",
    "library(scales)\n",
    "library(ggplot2)\n",
    "library(data.table)\n",
    "\n",
    "msedfR = data.table(msedfR)\n",
    "\n",
    "msedfR[parameters == \"beta\",y_min := 10^-4]\n",
    "msedfR[parameters == \"beta\",y_max := 10^-2]\n",
    "msedfR[parameters == \"theta\",y_min := 10^-5]\n",
    "msedfR[parameters == \"theta\",y_max := 10^1]\n",
    "\n",
    "#msedfR[parameters == \"beta\",y_min := 10^-8]\n",
    "#msedfR[parameters == \"beta\",y_max := 10^-2]\n",
    "#msedfR[parameters == \"tau\",y_min := 10^-8]\n",
    "#msedfR[parameters == \"tau\",y_max := 10^-2]\n",
    "#msedfR[parameters == \"Sigma\",y_min := 10^-5]\n",
    "#msedfR[parameters == \"Sigma\",y_max := 10^-2]\n",
    "\n",
    "\n",
    "msedfR$obssize = factor(msedfR$obssize, levels = c('2', '5', '10', '15', '20', '25'))\n",
    "msedfR$samplesize = factor(msedfR$samplesize, levels = c('100', '1000', '10000'))\n",
    "msedfR$parameters = factor(msedfR$parameters, levels = c('beta', 'theta'), labels = c(beta = expression(hat(bold(beta))), thetaa = expression(hat(bold(theta))[])))\n",
    "msedfR$robust <- factor(msedfR$robust, levels = c('Bivariate Mixed Poisson Bernoulli QC', 'Separate Poisson Bernoulli GLM'),\n",
    "    labels = c(expression(paste(\"Bivariate Mixed Poisson Bernoulli QC\")), expression(paste(\"Separate Poisson Bernoulli GLM\"))))\n",
    "\n",
    "\n",
    "#mseplot <- ggplot(msedfR[msedfR$mse < 10^0, ], aes(x=samplesize, y=mse, fill=obssize)) + \n",
    "mseplot = ggplot(msedfR[msedfR$mse < 10^3, ], aes(x=samplesize, y=mse, fill=obssize)) + \n",
    "  #geom_boxplot(outlier.size = 0.0, outlier.alpha = 0) +\n",
    "  geom_boxplot(outlier.size = 0.25) +\n",
    "#    geom_violin() +\n",
    "    facet_grid(parameters ~ robust, labeller = label_parsed, scales = \"free_y\") +\n",
    "  theme(legend.position=\"right\", legend.key = element_blank(), axis.text.x = element_text(angle=0, size=30),\n",
    "        axis.text.y = element_text(angle=0, size=30), axis.title.x = element_text(size = 30, face=\"bold\"), \n",
    "        axis.title.y = element_text(size = 40, face=\"bold\"), legend.title = element_text(size = 30, face=\"bold\"),\n",
    "        panel.grid.major = element_blank(), panel.grid.minor = element_blank(),\n",
    "        legend.text=element_text(size=30), panel.background = element_rect(fill = NA, color = \"black\"),\n",
    "        #panel.background = element_blank(), #panel.border = element_blank(),\n",
    "        axis.line = element_line(color = 'black',size=0.3), plot.title = element_text(hjust = 0.5),\n",
    "        strip.background = element_rect(colour=\"black\", fill=\"white\"), strip.text.y = element_text(angle = 0, size=75, face=\"bold\"),\n",
    "        strip.text.x = element_text(size=25)) + \n",
    "  scale_fill_manual(values = c(\"#c85f55\",\n",
    "\"#a964bf\",\n",
    "\"#8db352\",\n",
    "\"#fa7300\",\n",
    "\"#05aec0\",\n",
    "\"#ff1493\")) +\n",
    "#scale_y_log10(breaks = scales::trans_breaks(\"log10\", function(x) 10^x)) +\n",
    "#scale_y_log10(breaks = 10^(-8:8), limit=c(10^-8, 10^2)) + \n",
    "scale_y_log10(breaks = 10^seq(-10, 10, 2), labels=trans_format(\"log10\", math_format(10^.x))) + #, limit=c(10^-8, 10^2)) +\n",
    "  labs(x = \"Sample Size\", y = \"MSE of Parameter Estimates\", fill = \"Cluster Size\") +\n",
    "geom_blank(aes(y = y_max)) + \n",
    "geom_blank(aes(y = y_min)) \n",
    "\n",
    "\"\"\""
   ]
  },
  {
   "cell_type": "code",
   "execution_count": 14,
   "metadata": {},
   "outputs": [
    {
     "data": {
      "text/plain": [
       "RObject{StrSxp}\n",
       "[1] \"bivariate_mixed_msefacetplot_vs_GLM.png\"\n"
      ]
     },
     "execution_count": 14,
     "metadata": {},
     "output_type": "execute_result"
    }
   ],
   "source": [
    "R\"\"\"\n",
    "ggsave('bivariate_mixed_msefacetplot_vs_GLM.png', mseplot, width = 20, height = 15, units = 'in', dpi = 450)\n",
    "\"\"\""
   ]
  },
  {
   "cell_type": "code",
   "execution_count": null,
   "metadata": {},
   "outputs": [],
   "source": []
  }
 ],
 "metadata": {
  "@webio": {
   "lastCommId": null,
   "lastKernelId": null
  },
  "kernelspec": {
   "display_name": "Julia 1.6.2",
   "language": "julia",
   "name": "julia-1.6"
  },
  "language_info": {
   "file_extension": ".jl",
   "mimetype": "application/julia",
   "name": "julia",
   "version": "1.6.2"
  }
 },
 "nbformat": 4,
 "nbformat_minor": 2
}
