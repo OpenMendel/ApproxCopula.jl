{
 "cells": [
  {
   "cell_type": "markdown",
   "metadata": {},
   "source": [
    "## Poisson AR Results \n",
    "\n",
    "This notebook goes over the code needed to reproduce the results from the MSE and time figures in the first simulation in the paper. \n",
    "\n",
    "In this example simulate three fixed effects from a standard Normal distribution, $\\beta \\sim$ randn(p) where p = 3 fixed effects.\n",
    "\n",
    "In this example we have Poisson base distribution with Log Link function and covariance matrix $\\Gamma$ structured under AR covariance with $\\rho = 0.9, \\sigma^2 = 0.5$\n",
    "\n",
    "We run each scenario 100 times."
   ]
  },
  {
   "cell_type": "code",
   "execution_count": 1,
   "metadata": {},
   "outputs": [
    {
     "name": "stdout",
     "output_type": "stream",
     "text": [
      "Julia Version 1.6.2\n",
      "Commit 1b93d53fc4 (2021-07-14 15:36 UTC)\n",
      "Platform Info:\n",
      "  OS: macOS (x86_64-apple-darwin18.7.0)\n",
      "  CPU: Intel(R) Core(TM) i9-9880H CPU @ 2.30GHz\n",
      "  WORD_SIZE: 64\n",
      "  LIBM: libopenlibm\n",
      "  LLVM: libLLVM-11.0.1 (ORCJIT, skylake)\n"
     ]
    }
   ],
   "source": [
    "versioninfo()"
   ]
  },
  {
   "cell_type": "code",
   "execution_count": 2,
   "metadata": {},
   "outputs": [],
   "source": [
    "using GLMCopula, DelimitedFiles, LinearAlgebra, Random, GLM\n",
    "using Random, Roots, SpecialFunctions, DataFrames"
   ]
  },
  {
   "cell_type": "code",
   "execution_count": 3,
   "metadata": {},
   "outputs": [
    {
     "data": {
      "text/plain": [
       "100"
      ]
     },
     "execution_count": 3,
     "metadata": {},
     "output_type": "execute_result"
    }
   ],
   "source": [
    "p  = 3    # number of fixed effects, including intercept\n",
    "\n",
    "# true parameter values\n",
    "Random.seed!(1234)\n",
    "βtrue = randn(p)\n",
    "σ2true = [0.5]\n",
    "ρtrue = [0.9]\n",
    "θtrue = [σ2true; ρtrue]\n",
    "\n",
    "# generate data\n",
    "trueparams = [βtrue; θtrue] #hold true parameters\n",
    "\n",
    "#simulation parameters\n",
    "samplesizes = [100; 1000; 10000]\n",
    "ns = [2; 5; 10; 15; 20; 25]\n",
    "nsims = 100"
   ]
  },
  {
   "cell_type": "code",
   "execution_count": 4,
   "metadata": {},
   "outputs": [
    {
     "name": "stderr",
     "output_type": "stream",
     "text": [
      "┌ Info: reading in the files with results\n",
      "└ @ Main In[4]:1\n"
     ]
    },
    {
     "data": {
      "text/plain": [
       "1800-element Vector{Float64}:\n",
       " 0.063272194\n",
       " 0.082376539\n",
       " 0.074519982\n",
       " 0.077930928\n",
       " 0.087692719\n",
       " 0.138363073\n",
       " 0.092832577\n",
       " 0.074025026\n",
       " 0.094763062\n",
       " 0.085594189\n",
       " 0.093008804\n",
       " 0.091485573\n",
       " 0.09402291\n",
       " ⋮\n",
       " 5.794170859\n",
       " 5.396081682\n",
       " 3.483977982\n",
       " 5.958530566\n",
       " 4.361007146\n",
       " 3.435451526\n",
       " 4.025864706\n",
       " 6.324172179\n",
       " 9.307001641\n",
       " 4.355140181\n",
       " 3.497012404\n",
       " 9.238232276"
      ]
     },
     "execution_count": 4,
     "metadata": {},
     "output_type": "execute_result"
    }
   ],
   "source": [
    "@info \"reading in the files with results\"\n",
    "βMseresult = vec(readdlm(\"mse_beta_multivariate_poisson_AR$(nsims)reps_sim.csv\", ','))\n",
    "σ2MseResult = vec(readdlm(\"mse_sigma_multivariate_poisson_AR$(nsims)reps_sim.csv\", ','))\n",
    "ρMseResult = vec(readdlm(\"mse_rho_multivariate_poisson_AR$(nsims)reps_sim.csv\", ','))\n",
    "fittimes = vec(readdlm(\"fittimes_multivariate_poisson_AR$(nsims)reps_sim.csv\", ','))"
   ]
  },
  {
   "cell_type": "code",
   "execution_count": 5,
   "metadata": {},
   "outputs": [
    {
     "name": "stderr",
     "output_type": "stream",
     "text": [
      "┌ Info: making results table\n",
      "└ @ Main In[5]:2\n"
     ]
    },
    {
     "data": {
      "text/html": [
       "<div class=\"data-frame\"><p>18 rows × 8 columns</p><table class=\"data-frame\"><thead><tr><th></th><th>samplesize</th><th>obssize</th><th>fittime</th><th>se</th><th>nobs</th><th>fitmin</th><th>fitmax</th><th>perobsratio</th></tr><tr><th></th><th title=\"String\">String</th><th title=\"String\">String</th><th title=\"Float64\">Float64</th><th title=\"Float64\">Float64</th><th title=\"Int64\">Int64</th><th title=\"Float64\">Float64</th><th title=\"Float64\">Float64</th><th title=\"Float64\">Float64</th></tr></thead><tbody><tr><th>1</th><td>100</td><td>2</td><td>0.0961722</td><td>0.007118</td><td>200</td><td>0.0890542</td><td>0.10329</td><td>0.000480861</td></tr><tr><th>2</th><td>100</td><td>5</td><td>0.0920903</td><td>0.00328073</td><td>500</td><td>0.0888096</td><td>0.0953711</td><td>0.000184181</td></tr><tr><th>3</th><td>100</td><td>10</td><td>0.139783</td><td>0.0106197</td><td>1000</td><td>0.129163</td><td>0.150403</td><td>0.000139783</td></tr><tr><th>4</th><td>100</td><td>15</td><td>0.180495</td><td>0.0157273</td><td>1500</td><td>0.164767</td><td>0.196222</td><td>0.00012033</td></tr><tr><th>5</th><td>100</td><td>20</td><td>0.260938</td><td>0.0245485</td><td>2000</td><td>0.23639</td><td>0.285487</td><td>0.000130469</td></tr><tr><th>6</th><td>100</td><td>25</td><td>0.28332</td><td>0.0272036</td><td>2500</td><td>0.256116</td><td>0.310523</td><td>0.000113328</td></tr><tr><th>7</th><td>1000</td><td>2</td><td>0.0964464</td><td>0.00130479</td><td>2000</td><td>0.0951416</td><td>0.0977512</td><td>4.82232e-5</td></tr><tr><th>8</th><td>1000</td><td>5</td><td>0.125908</td><td>0.00230716</td><td>5000</td><td>0.123601</td><td>0.128216</td><td>2.51817e-5</td></tr><tr><th>9</th><td>1000</td><td>10</td><td>0.19867</td><td>0.00453628</td><td>10000</td><td>0.194134</td><td>0.203206</td><td>1.9867e-5</td></tr><tr><th>10</th><td>1000</td><td>15</td><td>0.288273</td><td>0.00763477</td><td>15000</td><td>0.280638</td><td>0.295907</td><td>1.92182e-5</td></tr><tr><th>11</th><td>1000</td><td>20</td><td>0.402726</td><td>0.0091239</td><td>20000</td><td>0.393602</td><td>0.41185</td><td>2.01363e-5</td></tr><tr><th>12</th><td>1000</td><td>25</td><td>0.569384</td><td>0.0186147</td><td>25000</td><td>0.550769</td><td>0.587999</td><td>2.27754e-5</td></tr><tr><th>13</th><td>10000</td><td>2</td><td>0.701104</td><td>0.0276344</td><td>20000</td><td>0.67347</td><td>0.728739</td><td>3.50552e-5</td></tr><tr><th>14</th><td>10000</td><td>5</td><td>1.13537</td><td>0.0352263</td><td>50000</td><td>1.10014</td><td>1.17059</td><td>2.27073e-5</td></tr><tr><th>15</th><td>10000</td><td>10</td><td>2.18082</td><td>0.0776422</td><td>100000</td><td>2.10318</td><td>2.25846</td><td>2.18082e-5</td></tr><tr><th>16</th><td>10000</td><td>15</td><td>3.01514</td><td>0.11824</td><td>150000</td><td>2.8969</td><td>3.13338</td><td>2.01009e-5</td></tr><tr><th>17</th><td>10000</td><td>20</td><td>4.57942</td><td>0.232536</td><td>200000</td><td>4.34688</td><td>4.81196</td><td>2.28971e-5</td></tr><tr><th>18</th><td>10000</td><td>25</td><td>5.24195</td><td>0.154466</td><td>250000</td><td>5.08748</td><td>5.39641</td><td>2.09678e-5</td></tr></tbody></table></div>"
      ],
      "text/latex": [
       "\\begin{tabular}{r|cccccccc}\n",
       "\t& samplesize & obssize & fittime & se & nobs & fitmin & fitmax & perobsratio\\\\\n",
       "\t\\hline\n",
       "\t& String & String & Float64 & Float64 & Int64 & Float64 & Float64 & Float64\\\\\n",
       "\t\\hline\n",
       "\t1 & 100 & 2 & 0.0961722 & 0.007118 & 200 & 0.0890542 & 0.10329 & 0.000480861 \\\\\n",
       "\t2 & 100 & 5 & 0.0920903 & 0.00328073 & 500 & 0.0888096 & 0.0953711 & 0.000184181 \\\\\n",
       "\t3 & 100 & 10 & 0.139783 & 0.0106197 & 1000 & 0.129163 & 0.150403 & 0.000139783 \\\\\n",
       "\t4 & 100 & 15 & 0.180495 & 0.0157273 & 1500 & 0.164767 & 0.196222 & 0.00012033 \\\\\n",
       "\t5 & 100 & 20 & 0.260938 & 0.0245485 & 2000 & 0.23639 & 0.285487 & 0.000130469 \\\\\n",
       "\t6 & 100 & 25 & 0.28332 & 0.0272036 & 2500 & 0.256116 & 0.310523 & 0.000113328 \\\\\n",
       "\t7 & 1000 & 2 & 0.0964464 & 0.00130479 & 2000 & 0.0951416 & 0.0977512 & 4.82232e-5 \\\\\n",
       "\t8 & 1000 & 5 & 0.125908 & 0.00230716 & 5000 & 0.123601 & 0.128216 & 2.51817e-5 \\\\\n",
       "\t9 & 1000 & 10 & 0.19867 & 0.00453628 & 10000 & 0.194134 & 0.203206 & 1.9867e-5 \\\\\n",
       "\t10 & 1000 & 15 & 0.288273 & 0.00763477 & 15000 & 0.280638 & 0.295907 & 1.92182e-5 \\\\\n",
       "\t11 & 1000 & 20 & 0.402726 & 0.0091239 & 20000 & 0.393602 & 0.41185 & 2.01363e-5 \\\\\n",
       "\t12 & 1000 & 25 & 0.569384 & 0.0186147 & 25000 & 0.550769 & 0.587999 & 2.27754e-5 \\\\\n",
       "\t13 & 10000 & 2 & 0.701104 & 0.0276344 & 20000 & 0.67347 & 0.728739 & 3.50552e-5 \\\\\n",
       "\t14 & 10000 & 5 & 1.13537 & 0.0352263 & 50000 & 1.10014 & 1.17059 & 2.27073e-5 \\\\\n",
       "\t15 & 10000 & 10 & 2.18082 & 0.0776422 & 100000 & 2.10318 & 2.25846 & 2.18082e-5 \\\\\n",
       "\t16 & 10000 & 15 & 3.01514 & 0.11824 & 150000 & 2.8969 & 3.13338 & 2.01009e-5 \\\\\n",
       "\t17 & 10000 & 20 & 4.57942 & 0.232536 & 200000 & 4.34688 & 4.81196 & 2.28971e-5 \\\\\n",
       "\t18 & 10000 & 25 & 5.24195 & 0.154466 & 250000 & 5.08748 & 5.39641 & 2.09678e-5 \\\\\n",
       "\\end{tabular}\n"
      ],
      "text/plain": [
       "\u001b[1m18×8 DataFrame\u001b[0m\n",
       "\u001b[1m Row \u001b[0m│\u001b[1m samplesize \u001b[0m\u001b[1m obssize \u001b[0m\u001b[1m fittime   \u001b[0m\u001b[1m se         \u001b[0m\u001b[1m nobs   \u001b[0m\u001b[1m fitmin    \u001b[0m\u001b[1m fitmax  \u001b[0m ⋯\n",
       "\u001b[1m     \u001b[0m│\u001b[90m String     \u001b[0m\u001b[90m String  \u001b[0m\u001b[90m Float64   \u001b[0m\u001b[90m Float64    \u001b[0m\u001b[90m Int64  \u001b[0m\u001b[90m Float64   \u001b[0m\u001b[90m Float64 \u001b[0m ⋯\n",
       "─────┼──────────────────────────────────────────────────────────────────────────\n",
       "   1 │ 100         2        0.0961722  0.007118       200  0.0890542  0.10329  ⋯\n",
       "   2 │ 100         5        0.0920903  0.00328073     500  0.0888096  0.095371\n",
       "   3 │ 100         10       0.139783   0.0106197     1000  0.129163   0.150403\n",
       "   4 │ 100         15       0.180495   0.0157273     1500  0.164767   0.196222\n",
       "   5 │ 100         20       0.260938   0.0245485     2000  0.23639    0.285487 ⋯\n",
       "   6 │ 100         25       0.28332    0.0272036     2500  0.256116   0.310523\n",
       "   7 │ 1000        2        0.0964464  0.00130479    2000  0.0951416  0.097751\n",
       "   8 │ 1000        5        0.125908   0.00230716    5000  0.123601   0.128216\n",
       "   9 │ 1000        10       0.19867    0.00453628   10000  0.194134   0.203206 ⋯\n",
       "  10 │ 1000        15       0.288273   0.00763477   15000  0.280638   0.295907\n",
       "  11 │ 1000        20       0.402726   0.0091239    20000  0.393602   0.41185\n",
       "  12 │ 1000        25       0.569384   0.0186147    25000  0.550769   0.587999\n",
       "  13 │ 10000       2        0.701104   0.0276344    20000  0.67347    0.728739 ⋯\n",
       "  14 │ 10000       5        1.13537    0.0352263    50000  1.10014    1.17059\n",
       "  15 │ 10000       10       2.18082    0.0776422   100000  2.10318    2.25846\n",
       "  16 │ 10000       15       3.01514    0.11824     150000  2.8969     3.13338\n",
       "  17 │ 10000       20       4.57942    0.232536    200000  4.34688    4.81196  ⋯\n",
       "  18 │ 10000       25       5.24195    0.154466    250000  5.08748    5.39641\n",
       "\u001b[36m                                                               2 columns omitted\u001b[0m"
      ]
     },
     "execution_count": 5,
     "metadata": {},
     "output_type": "execute_result"
    }
   ],
   "source": [
    "#simulation parameters\n",
    "@info \"making results table\"\n",
    "sample_sizes = repeat(string.(samplesizes), inner = nsims * length(ns))\n",
    "obs_sizes = repeat(string.(ns), inner = nsims, outer = length(samplesizes))\n",
    "\n",
    "msedf = DataFrame(βmse = βMseresult, σ2mse = σ2MseResult, ρmse = ρMseResult,\n",
    "    samplesize = sample_sizes, obssize = obs_sizes, fittimes = fittimes)\n",
    "timedf = combine(groupby(msedf, [:samplesize, :obssize]), :fittimes => mean => :fittime,\n",
    "    :fittimes => x -> (std(x)/sqrt(length(x))))\n",
    "rename!(timedf, Dict(:fittimes_function => \"se\"))\n",
    "timedf[!, :nobs] = Meta.parse.(timedf[!, :samplesize]) .* Meta.parse.(timedf[!, :obssize])\n",
    "timedf[!, :fitmin] = timedf[!, :fittime] - timedf[!, :se]\n",
    "timedf[!, :fitmax] = timedf[!, :fittime] + timedf[!, :se]\n",
    "timedf[!, :perobsratio] = timedf[!, :fittime] ./ timedf[!, :nobs]\n",
    "timedf"
   ]
  },
  {
   "cell_type": "code",
   "execution_count": 6,
   "metadata": {},
   "outputs": [
    {
     "name": "stderr",
     "output_type": "stream",
     "text": [
      "┌ Warning: RCall.jl: Warning: package ‘ggplot2’ was built under R version 4.0.2\n",
      "└ @ RCall /Users/sarahji/.julia/packages/RCall/iMDW2/src/io.jl:160\n"
     ]
    },
    {
     "data": {
      "image/png": "[encoded data removed]"
     },
     "metadata": {},
     "output_type": "display_data"
    },
    {
     "data": {
      "text/plain": [
       "RObject{VecSxp}\n"
      ]
     },
     "execution_count": 6,
     "metadata": {},
     "output_type": "execute_result"
    }
   ],
   "source": [
    "########### plot the runtimes\n",
    "using RCall\n",
    "@rput timedf\n",
    "\n",
    "R\"\"\"\n",
    "library(ggplot2)\n",
    "timedf$obssize = factor(timedf$obssize, levels = c('2', '5', '10', '15', '20', '25'))\n",
    "timedf$samplesize = factor(timedf$samplesize, levels = c('100', '1000', '10000'))\n",
    "\n",
    "fittime_1 = ggplot(timedf, aes(x = samplesize, y = fittime, group = obssize, color = obssize)) + \n",
    "  geom_line() +\n",
    "  geom_point()+\n",
    "  geom_errorbar(aes(ymin=fitmin, ymax=fitmax), width=0.5, alpha = 0.8, position=position_dodge(0.005)) + \n",
    "  theme(legend.position=c(0.15,0.85), legend.key = element_blank(), axis.text.x = element_text(angle=0, size=13),\n",
    "        axis.text.y = element_text(angle=0, size=13), axis.title.x = element_text(size = 17), \n",
    "        axis.title.y = element_text(size = 17), legend.title = element_text(size = 14),\n",
    "        #axis.ticks = element_blank(),\n",
    "        panel.grid.major = element_blank(), legend.text=element_text(size=13),\n",
    "        panel.border = element_blank(), panel.grid.minor = element_blank(), panel.background = element_blank(), \n",
    "        axis.line = element_line(color = 'black',size=0.3), plot.title = element_text(hjust = 0.5)) + \n",
    "   scale_color_manual(values = c(\"#c85f55\",\n",
    "\"#a964bf\",\n",
    "\"#8db352\",\n",
    "\"#fa7300\",\n",
    "\"#05aec0\",\n",
    "\"#ff1493\")) +\n",
    "  labs(x = \"Number of Individuals\", y = \"Fit time (seconds)\", color = \"Obs per Individual\")\n",
    "\"\"\""
   ]
  },
  {
   "cell_type": "code",
   "execution_count": 7,
   "metadata": {},
   "outputs": [
    {
     "data": {
      "text/plain": [
       "RObject{StrSxp}\n",
       "[1] \"fittimes_nobs_poisson_AR.png\"\n"
      ]
     },
     "execution_count": 7,
     "metadata": {},
     "output_type": "execute_result"
    }
   ],
   "source": [
    "R\"\"\"\n",
    "ggsave('fittimes_nobs_poisson_AR.png', fittime_1, width = 12.5, height = 15, units = 'in', dpi = 450)\n",
    "\"\"\""
   ]
  },
  {
   "cell_type": "code",
   "execution_count": 8,
   "metadata": {},
   "outputs": [],
   "source": [
    "# using RCall\n",
    "# @rput timedf\n",
    "\n",
    "# R\"\"\"\n",
    "# library(scales)\n",
    "# library(ggplot2)\n",
    "# timedf$obssize <- factor(timedf$obssize, levels = c('2', '5', '10', '15', '20', '25'))\n",
    "# timedf$samplesize <- factor(timedf$samplesize, levels = c('100', '1000', '10000'))\n",
    "\n",
    "# fancy_scientific <- function(l) {\n",
    "#      # turn in to character string in scientific notation\n",
    "#      l <- format(l, scientific = TRUE)\n",
    "#      # quote the part before the exponent to keep all the digits\n",
    "#      l <- gsub(\"^(.*)e\", \"'\\\\1'e\", l)\n",
    "#      # turn the 'e+' into plotmath format\n",
    "#      l <- gsub(\"e\", \"%*%10^\", l)\n",
    "#      # return this as an expression\n",
    "#      parse(text=l)\n",
    "# }\n",
    "\n",
    "# fittimeperobs = ggplot(timedf, aes(x=nobs, y=perobsratio)) + \n",
    "#   geom_line() +\n",
    "#   geom_point()+\n",
    "# #  geom_errorbar(aes(ymin=fitmin, ymax=fitmax), width=0.5, alpha = 0.8, position=position_dodge(0.005)) + \n",
    "#   theme(legend.position=c(0.15,0.8), legend.key = element_blank(), axis.text.x = element_text(angle=0, size=13),\n",
    "#         axis.text.y = element_text(angle=0, size=13), axis.title.x = element_text(size = 17), \n",
    "#         axis.title.y = element_text(size = 17), legend.title = element_text(size = 14),\n",
    "#         #axis.ticks = element_blank(),\n",
    "#         panel.grid.major = element_blank(), legend.text=element_text(size=11),\n",
    "#         panel.border = element_blank(), panel.grid.minor = element_blank(), panel.background = element_blank(), \n",
    "#         axis.line = element_line(color = 'black',size=0.3), plot.title = element_text(hjust = 0.5)) + \n",
    "#   labs(x = \"Total Number of Observations\", y = \"Fit time per observation (seconds)\", color = \"Obs per Individual\") +\n",
    "# #scale_x_log10(breaks = 10^seq(0, 7, 1), labels=trans_format(\"log10\", math_format(10^.x)))# + #, limit=c(10^0, 10^7))\n",
    "# scale_x_continuous(breaks = seq(0, 6000000, 1000000), labels= fancy_scientific) +\n",
    "# scale_y_continuous(breaks = c(10^-4, 2 * 10^-4, 3 * 10^-4, 4 * 10^-4, 5 * 10^-4, 6 * 10^-4), labels= fancy_scientific)\n",
    "\n",
    "# \"\"\""
   ]
  },
  {
   "cell_type": "code",
   "execution_count": 9,
   "metadata": {},
   "outputs": [
    {
     "data": {
      "text/html": [
       "<div class=\"data-frame\"><p>18 rows × 6 columns (omitted printing of 1 columns)</p><table class=\"data-frame\"><thead><tr><th></th><th>people_obs</th><th>β1</th><th>β2</th><th>β3</th><th>σ2</th></tr><tr><th></th><th title=\"String\">String</th><th title=\"Tuple{Float64, Float64}\">Tuple…</th><th title=\"Tuple{Float64, Float64}\">Tuple…</th><th title=\"Tuple{Float64, Float64}\">Tuple…</th><th title=\"Tuple{Float64, Float64}\">Tuple…</th></tr></thead><tbody><tr><th>1</th><td>N: 100  ni: 2</td><td>(0.67, 0.0472582)</td><td>(0.62, 0.0487832)</td><td>(0.79, 0.040936)</td><td>(0.98, 0.0140705)</td></tr><tr><th>2</th><td>N: 100  ni: 5</td><td>(0.52, 0.0502117)</td><td>(0.54, 0.0500908)</td><td>(0.81, 0.0394277)</td><td>(0.11, 0.0314466)</td></tr><tr><th>3</th><td>N: 100  ni: 10</td><td>(0.59, 0.0494311)</td><td>(0.53, 0.0501614)</td><td>(0.77, 0.0422953)</td><td>(0.01, 0.01)</td></tr><tr><th>4</th><td>N: 100  ni: 15</td><td>(0.56, 0.0498888)</td><td>(0.56, 0.0498888)</td><td>(0.8, 0.0402015)</td><td>(0.01, 0.01)</td></tr><tr><th>5</th><td>N: 100  ni: 20</td><td>(0.59, 0.0494311)</td><td>(0.63, 0.0485237)</td><td>(0.82, 0.0386123)</td><td>(0.01, 0.01)</td></tr><tr><th>6</th><td>N: 100  ni: 25</td><td>(0.5, 0.0502519)</td><td>(0.46, 0.0500908)</td><td>(0.93, 0.0256432)</td><td>(0.01, 0.01)</td></tr><tr><th>7</th><td>N: 1000  ni: 2</td><td>(0.7, 0.0460566)</td><td>(0.66, 0.0476095)</td><td>(0.85, 0.035887)</td><td>(0.09, 0.0287623)</td></tr><tr><th>8</th><td>N: 1000  ni: 5</td><td>(0.68, 0.0468826)</td><td>(0.66, 0.0476095)</td><td>(0.77, 0.0422953)</td><td>(0.0, 0.0)</td></tr><tr><th>9</th><td>N: 1000  ni: 10</td><td>(0.58, 0.0496045)</td><td>(0.59, 0.0494311)</td><td>(0.76, 0.0429235)</td><td>(0.0, 0.0)</td></tr><tr><th>10</th><td>N: 1000  ni: 15</td><td>(0.61, 0.0490207)</td><td>(0.59, 0.0494311)</td><td>(0.84, 0.0368453)</td><td>(0.0, 0.0)</td></tr><tr><th>11</th><td>N: 1000  ni: 20</td><td>(0.69, 0.0464823)</td><td>(0.56, 0.0498888)</td><td>(0.76, 0.0429235)</td><td>(0.0, 0.0)</td></tr><tr><th>12</th><td>N: 1000  ni: 25</td><td>(0.53, 0.0501614)</td><td>(0.68, 0.0468826)</td><td>(0.86, 0.0348735)</td><td>(0.0, 0.0)</td></tr><tr><th>13</th><td>N: 10000  ni: 2</td><td>(0.71, 0.0456048)</td><td>(0.57, 0.049757)</td><td>(0.77, 0.0422953)</td><td>(0.0, 0.0)</td></tr><tr><th>14</th><td>N: 10000  ni: 5</td><td>(0.59, 0.0494311)</td><td>(0.54, 0.0500908)</td><td>(0.83, 0.0377525)</td><td>(0.0, 0.0)</td></tr><tr><th>15</th><td>N: 10000  ni: 10</td><td>(0.61, 0.0490207)</td><td>(0.61, 0.0490207)</td><td>(0.9, 0.0301511)</td><td>(0.0, 0.0)</td></tr><tr><th>16</th><td>N: 10000  ni: 15</td><td>(0.57, 0.049757)</td><td>(0.68, 0.0468826)</td><td>(0.74, 0.0440844)</td><td>(0.0, 0.0)</td></tr><tr><th>17</th><td>N: 10000  ni: 20</td><td>(0.61, 0.0490207)</td><td>(0.62, 0.0487832)</td><td>(0.84, 0.0368453)</td><td>(0.0, 0.0)</td></tr><tr><th>18</th><td>N: 10000  ni: 25</td><td>(0.58, 0.0496045)</td><td>(0.62, 0.0487832)</td><td>(0.77, 0.0422953)</td><td>(0.0, 0.0)</td></tr></tbody></table></div>"
      ],
      "text/latex": [
       "\\begin{tabular}{r|cccccc}\n",
       "\t& people\\_obs & β1 & β2 & β3 & σ2 & \\\\\n",
       "\t\\hline\n",
       "\t& String & Tuple… & Tuple… & Tuple… & Tuple… & \\\\\n",
       "\t\\hline\n",
       "\t1 & N: 100  ni: 2 & (0.67, 0.0472582) & (0.62, 0.0487832) & (0.79, 0.040936) & (0.98, 0.0140705) & $\\dots$ \\\\\n",
       "\t2 & N: 100  ni: 5 & (0.52, 0.0502117) & (0.54, 0.0500908) & (0.81, 0.0394277) & (0.11, 0.0314466) & $\\dots$ \\\\\n",
       "\t3 & N: 100  ni: 10 & (0.59, 0.0494311) & (0.53, 0.0501614) & (0.77, 0.0422953) & (0.01, 0.01) & $\\dots$ \\\\\n",
       "\t4 & N: 100  ni: 15 & (0.56, 0.0498888) & (0.56, 0.0498888) & (0.8, 0.0402015) & (0.01, 0.01) & $\\dots$ \\\\\n",
       "\t5 & N: 100  ni: 20 & (0.59, 0.0494311) & (0.63, 0.0485237) & (0.82, 0.0386123) & (0.01, 0.01) & $\\dots$ \\\\\n",
       "\t6 & N: 100  ni: 25 & (0.5, 0.0502519) & (0.46, 0.0500908) & (0.93, 0.0256432) & (0.01, 0.01) & $\\dots$ \\\\\n",
       "\t7 & N: 1000  ni: 2 & (0.7, 0.0460566) & (0.66, 0.0476095) & (0.85, 0.035887) & (0.09, 0.0287623) & $\\dots$ \\\\\n",
       "\t8 & N: 1000  ni: 5 & (0.68, 0.0468826) & (0.66, 0.0476095) & (0.77, 0.0422953) & (0.0, 0.0) & $\\dots$ \\\\\n",
       "\t9 & N: 1000  ni: 10 & (0.58, 0.0496045) & (0.59, 0.0494311) & (0.76, 0.0429235) & (0.0, 0.0) & $\\dots$ \\\\\n",
       "\t10 & N: 1000  ni: 15 & (0.61, 0.0490207) & (0.59, 0.0494311) & (0.84, 0.0368453) & (0.0, 0.0) & $\\dots$ \\\\\n",
       "\t11 & N: 1000  ni: 20 & (0.69, 0.0464823) & (0.56, 0.0498888) & (0.76, 0.0429235) & (0.0, 0.0) & $\\dots$ \\\\\n",
       "\t12 & N: 1000  ni: 25 & (0.53, 0.0501614) & (0.68, 0.0468826) & (0.86, 0.0348735) & (0.0, 0.0) & $\\dots$ \\\\\n",
       "\t13 & N: 10000  ni: 2 & (0.71, 0.0456048) & (0.57, 0.049757) & (0.77, 0.0422953) & (0.0, 0.0) & $\\dots$ \\\\\n",
       "\t14 & N: 10000  ni: 5 & (0.59, 0.0494311) & (0.54, 0.0500908) & (0.83, 0.0377525) & (0.0, 0.0) & $\\dots$ \\\\\n",
       "\t15 & N: 10000  ni: 10 & (0.61, 0.0490207) & (0.61, 0.0490207) & (0.9, 0.0301511) & (0.0, 0.0) & $\\dots$ \\\\\n",
       "\t16 & N: 10000  ni: 15 & (0.57, 0.049757) & (0.68, 0.0468826) & (0.74, 0.0440844) & (0.0, 0.0) & $\\dots$ \\\\\n",
       "\t17 & N: 10000  ni: 20 & (0.61, 0.0490207) & (0.62, 0.0487832) & (0.84, 0.0368453) & (0.0, 0.0) & $\\dots$ \\\\\n",
       "\t18 & N: 10000  ni: 25 & (0.58, 0.0496045) & (0.62, 0.0487832) & (0.77, 0.0422953) & (0.0, 0.0) & $\\dots$ \\\\\n",
       "\\end{tabular}\n"
      ],
      "text/plain": [
       "\u001b[1m18×6 DataFrame\u001b[0m\n",
       "\u001b[1m Row \u001b[0m│\u001b[1m people_obs       \u001b[0m\u001b[1m β1                \u001b[0m\u001b[1m β2                \u001b[0m\u001b[1m β3             \u001b[0m ⋯\n",
       "\u001b[1m     \u001b[0m│\u001b[90m String           \u001b[0m\u001b[90m Tuple…            \u001b[0m\u001b[90m Tuple…            \u001b[0m\u001b[90m Tuple…         \u001b[0m ⋯\n",
       "─────┼──────────────────────────────────────────────────────────────────────────\n",
       "   1 │ N: 100  ni: 2     (0.67, 0.0472582)  (0.62, 0.0487832)  (0.79, 0.040936 ⋯\n",
       "   2 │ N: 100  ni: 5     (0.52, 0.0502117)  (0.54, 0.0500908)  (0.81, 0.039427\n",
       "   3 │ N: 100  ni: 10    (0.59, 0.0494311)  (0.53, 0.0501614)  (0.77, 0.042295\n",
       "   4 │ N: 100  ni: 15    (0.56, 0.0498888)  (0.56, 0.0498888)  (0.8, 0.0402015\n",
       "   5 │ N: 100  ni: 20    (0.59, 0.0494311)  (0.63, 0.0485237)  (0.82, 0.038612 ⋯\n",
       "   6 │ N: 100  ni: 25    (0.5, 0.0502519)   (0.46, 0.0500908)  (0.93, 0.025643\n",
       "   7 │ N: 1000  ni: 2    (0.7, 0.0460566)   (0.66, 0.0476095)  (0.85, 0.035887\n",
       "   8 │ N: 1000  ni: 5    (0.68, 0.0468826)  (0.66, 0.0476095)  (0.77, 0.042295\n",
       "   9 │ N: 1000  ni: 10   (0.58, 0.0496045)  (0.59, 0.0494311)  (0.76, 0.042923 ⋯\n",
       "  10 │ N: 1000  ni: 15   (0.61, 0.0490207)  (0.59, 0.0494311)  (0.84, 0.036845\n",
       "  11 │ N: 1000  ni: 20   (0.69, 0.0464823)  (0.56, 0.0498888)  (0.76, 0.042923\n",
       "  12 │ N: 1000  ni: 25   (0.53, 0.0501614)  (0.68, 0.0468826)  (0.86, 0.034873\n",
       "  13 │ N: 10000  ni: 2   (0.71, 0.0456048)  (0.57, 0.049757)   (0.77, 0.042295 ⋯\n",
       "  14 │ N: 10000  ni: 5   (0.59, 0.0494311)  (0.54, 0.0500908)  (0.83, 0.037752\n",
       "  15 │ N: 10000  ni: 10  (0.61, 0.0490207)  (0.61, 0.0490207)  (0.9, 0.0301511\n",
       "  16 │ N: 10000  ni: 15  (0.57, 0.049757)   (0.68, 0.0468826)  (0.74, 0.044084\n",
       "  17 │ N: 10000  ni: 20  (0.61, 0.0490207)  (0.62, 0.0487832)  (0.84, 0.036845 ⋯\n",
       "  18 │ N: 10000  ni: 25  (0.58, 0.0496045)  (0.62, 0.0487832)  (0.77, 0.042295\n",
       "\u001b[36m                                                               3 columns omitted\u001b[0m"
      ]
     },
     "execution_count": 9,
     "metadata": {},
     "output_type": "execute_result"
    }
   ],
   "source": [
    "######  supplementary table s1\n",
    "using Random, DataFrames, DelimitedFiles, Statistics\n",
    "import StatsBase: sem\n",
    "\n",
    "βρσ2coverage = readdlm(\"beta_sigma_coverage_multivariate_poisson_AR$(nsims)reps_sim.csv\", ',')\n",
    "\n",
    "m = 2\n",
    "\n",
    "covdf = DataFrame(Matrix(transpose(βρσ2coverage)), :auto)\n",
    "rename!(covdf, Symbol.([[\"β$i\" for i in 1:p]; [\"σ2\"];  [\"ρ\"]]))\n",
    "covdf[!, :samplesize] = sample_sizes\n",
    "covdf[!, :obssize] = obs_sizes\n",
    "first(covdf, 10)\n",
    "\n",
    "row_stats = [[(mean(col), sem(col)) for col = eachcol(d[!, 1:end-2])] for d = groupby(covdf, [:samplesize; :obssize])]\n",
    "df = DataFrame(row_stats, :auto)\n",
    "ss_obs = unique(\"N: \" .* sample_sizes .* \"  ni: \" .* obs_sizes)\n",
    "rename!(df, Symbol.(ss_obs))\n",
    "covdfdisplay = DataFrame([[names(df)]; collect.(eachrow(df))], \n",
    "    [:people_obs; Symbol.([[\"β$i\" for i in 1:p]; [\"σ2\"]; [\"ρ\"]])])\n",
    "# deletecols!(covdfdisplay, p + 2)\n",
    "covdfdisplay\n"
   ]
  },
  {
   "cell_type": "code",
   "execution_count": 10,
   "metadata": {},
   "outputs": [
    {
     "data": {
      "text/html": [
       "<div class=\"data-frame\"><p>3,556 rows × 5 columns</p><table class=\"data-frame\"><thead><tr><th></th><th>mse</th><th>obssize</th><th>samplesize</th><th>parameters</th><th>robust</th></tr><tr><th></th><th title=\"Float64\">Float64</th><th title=\"String\">String</th><th title=\"String\">String</th><th title=\"String\">String</th><th title=\"String\">String</th></tr></thead><tbody><tr><th>1</th><td>0.000785509</td><td>2</td><td>100</td><td>beta</td><td>Poisson with LogLink</td></tr><tr><th>2</th><td>0.00301905</td><td>2</td><td>100</td><td>beta</td><td>Poisson with LogLink</td></tr><tr><th>3</th><td>0.00196328</td><td>2</td><td>100</td><td>beta</td><td>Poisson with LogLink</td></tr><tr><th>4</th><td>0.00111719</td><td>2</td><td>100</td><td>beta</td><td>Poisson with LogLink</td></tr><tr><th>5</th><td>0.00505343</td><td>2</td><td>100</td><td>beta</td><td>Poisson with LogLink</td></tr><tr><th>6</th><td>0.000110123</td><td>2</td><td>100</td><td>beta</td><td>Poisson with LogLink</td></tr><tr><th>7</th><td>0.00662978</td><td>2</td><td>100</td><td>beta</td><td>Poisson with LogLink</td></tr><tr><th>8</th><td>0.00362779</td><td>2</td><td>100</td><td>beta</td><td>Poisson with LogLink</td></tr><tr><th>9</th><td>0.000737828</td><td>2</td><td>100</td><td>beta</td><td>Poisson with LogLink</td></tr><tr><th>10</th><td>0.000611475</td><td>2</td><td>100</td><td>beta</td><td>Poisson with LogLink</td></tr><tr><th>11</th><td>0.00149219</td><td>2</td><td>100</td><td>beta</td><td>Poisson with LogLink</td></tr><tr><th>12</th><td>0.00409464</td><td>2</td><td>100</td><td>beta</td><td>Poisson with LogLink</td></tr><tr><th>13</th><td>9.29595e-5</td><td>2</td><td>100</td><td>beta</td><td>Poisson with LogLink</td></tr><tr><th>14</th><td>0.00545519</td><td>2</td><td>100</td><td>beta</td><td>Poisson with LogLink</td></tr><tr><th>15</th><td>0.00109741</td><td>2</td><td>100</td><td>beta</td><td>Poisson with LogLink</td></tr><tr><th>16</th><td>0.000973502</td><td>2</td><td>100</td><td>beta</td><td>Poisson with LogLink</td></tr><tr><th>17</th><td>7.65675e-5</td><td>2</td><td>100</td><td>beta</td><td>Poisson with LogLink</td></tr><tr><th>18</th><td>0.00347948</td><td>2</td><td>100</td><td>beta</td><td>Poisson with LogLink</td></tr><tr><th>19</th><td>0.00185716</td><td>2</td><td>100</td><td>beta</td><td>Poisson with LogLink</td></tr><tr><th>20</th><td>0.000362138</td><td>2</td><td>100</td><td>beta</td><td>Poisson with LogLink</td></tr><tr><th>21</th><td>0.00192683</td><td>2</td><td>100</td><td>beta</td><td>Poisson with LogLink</td></tr><tr><th>22</th><td>0.00340911</td><td>2</td><td>100</td><td>beta</td><td>Poisson with LogLink</td></tr><tr><th>23</th><td>0.00144171</td><td>2</td><td>100</td><td>beta</td><td>Poisson with LogLink</td></tr><tr><th>24</th><td>0.00143339</td><td>2</td><td>100</td><td>beta</td><td>Poisson with LogLink</td></tr><tr><th>25</th><td>0.0010988</td><td>2</td><td>100</td><td>beta</td><td>Poisson with LogLink</td></tr><tr><th>26</th><td>0.000350027</td><td>2</td><td>100</td><td>beta</td><td>Poisson with LogLink</td></tr><tr><th>27</th><td>0.00196031</td><td>2</td><td>100</td><td>beta</td><td>Poisson with LogLink</td></tr><tr><th>28</th><td>0.00657955</td><td>2</td><td>100</td><td>beta</td><td>Poisson with LogLink</td></tr><tr><th>29</th><td>0.00109052</td><td>2</td><td>100</td><td>beta</td><td>Poisson with LogLink</td></tr><tr><th>30</th><td>0.00211127</td><td>2</td><td>100</td><td>beta</td><td>Poisson with LogLink</td></tr><tr><th>&vellip;</th><td>&vellip;</td><td>&vellip;</td><td>&vellip;</td><td>&vellip;</td><td>&vellip;</td></tr></tbody></table></div>"
      ],
      "text/latex": [
       "\\begin{tabular}{r|ccccc}\n",
       "\t& mse & obssize & samplesize & parameters & robust\\\\\n",
       "\t\\hline\n",
       "\t& Float64 & String & String & String & String\\\\\n",
       "\t\\hline\n",
       "\t1 & 0.000785509 & 2 & 100 & beta & Poisson with LogLink \\\\\n",
       "\t2 & 0.00301905 & 2 & 100 & beta & Poisson with LogLink \\\\\n",
       "\t3 & 0.00196328 & 2 & 100 & beta & Poisson with LogLink \\\\\n",
       "\t4 & 0.00111719 & 2 & 100 & beta & Poisson with LogLink \\\\\n",
       "\t5 & 0.00505343 & 2 & 100 & beta & Poisson with LogLink \\\\\n",
       "\t6 & 0.000110123 & 2 & 100 & beta & Poisson with LogLink \\\\\n",
       "\t7 & 0.00662978 & 2 & 100 & beta & Poisson with LogLink \\\\\n",
       "\t8 & 0.00362779 & 2 & 100 & beta & Poisson with LogLink \\\\\n",
       "\t9 & 0.000737828 & 2 & 100 & beta & Poisson with LogLink \\\\\n",
       "\t10 & 0.000611475 & 2 & 100 & beta & Poisson with LogLink \\\\\n",
       "\t11 & 0.00149219 & 2 & 100 & beta & Poisson with LogLink \\\\\n",
       "\t12 & 0.00409464 & 2 & 100 & beta & Poisson with LogLink \\\\\n",
       "\t13 & 9.29595e-5 & 2 & 100 & beta & Poisson with LogLink \\\\\n",
       "\t14 & 0.00545519 & 2 & 100 & beta & Poisson with LogLink \\\\\n",
       "\t15 & 0.00109741 & 2 & 100 & beta & Poisson with LogLink \\\\\n",
       "\t16 & 0.000973502 & 2 & 100 & beta & Poisson with LogLink \\\\\n",
       "\t17 & 7.65675e-5 & 2 & 100 & beta & Poisson with LogLink \\\\\n",
       "\t18 & 0.00347948 & 2 & 100 & beta & Poisson with LogLink \\\\\n",
       "\t19 & 0.00185716 & 2 & 100 & beta & Poisson with LogLink \\\\\n",
       "\t20 & 0.000362138 & 2 & 100 & beta & Poisson with LogLink \\\\\n",
       "\t21 & 0.00192683 & 2 & 100 & beta & Poisson with LogLink \\\\\n",
       "\t22 & 0.00340911 & 2 & 100 & beta & Poisson with LogLink \\\\\n",
       "\t23 & 0.00144171 & 2 & 100 & beta & Poisson with LogLink \\\\\n",
       "\t24 & 0.00143339 & 2 & 100 & beta & Poisson with LogLink \\\\\n",
       "\t25 & 0.0010988 & 2 & 100 & beta & Poisson with LogLink \\\\\n",
       "\t26 & 0.000350027 & 2 & 100 & beta & Poisson with LogLink \\\\\n",
       "\t27 & 0.00196031 & 2 & 100 & beta & Poisson with LogLink \\\\\n",
       "\t28 & 0.00657955 & 2 & 100 & beta & Poisson with LogLink \\\\\n",
       "\t29 & 0.00109052 & 2 & 100 & beta & Poisson with LogLink \\\\\n",
       "\t30 & 0.00211127 & 2 & 100 & beta & Poisson with LogLink \\\\\n",
       "\t$\\dots$ & $\\dots$ & $\\dots$ & $\\dots$ & $\\dots$ & $\\dots$ \\\\\n",
       "\\end{tabular}\n"
      ],
      "text/plain": [
       "\u001b[1m3556×5 DataFrame\u001b[0m\n",
       "\u001b[1m  Row \u001b[0m│\u001b[1m mse         \u001b[0m\u001b[1m obssize \u001b[0m\u001b[1m samplesize \u001b[0m\u001b[1m parameters \u001b[0m\u001b[1m robust               \u001b[0m\n",
       "\u001b[1m      \u001b[0m│\u001b[90m Float64     \u001b[0m\u001b[90m String  \u001b[0m\u001b[90m String     \u001b[0m\u001b[90m String     \u001b[0m\u001b[90m String               \u001b[0m\n",
       "──────┼────────────────────────────────────────────────────────────────────\n",
       "    1 │ 0.000785509  2        100         beta        Poisson with LogLink\n",
       "    2 │ 0.00301905   2        100         beta        Poisson with LogLink\n",
       "    3 │ 0.00196328   2        100         beta        Poisson with LogLink\n",
       "    4 │ 0.00111719   2        100         beta        Poisson with LogLink\n",
       "    5 │ 0.00505343   2        100         beta        Poisson with LogLink\n",
       "    6 │ 0.000110123  2        100         beta        Poisson with LogLink\n",
       "    7 │ 0.00662978   2        100         beta        Poisson with LogLink\n",
       "    8 │ 0.00362779   2        100         beta        Poisson with LogLink\n",
       "    9 │ 0.000737828  2        100         beta        Poisson with LogLink\n",
       "   10 │ 0.000611475  2        100         beta        Poisson with LogLink\n",
       "   11 │ 0.00149219   2        100         beta        Poisson with LogLink\n",
       "  ⋮   │      ⋮          ⋮         ⋮           ⋮                ⋮\n",
       " 3547 │ 0.00156697   25       10000       theta       Poisson with LogLink\n",
       " 3548 │ 0.00770532   25       10000       theta       Poisson with LogLink\n",
       " 3549 │ 0.000891195  25       10000       theta       Poisson with LogLink\n",
       " 3550 │ 6.65263e-5   25       10000       theta       Poisson with LogLink\n",
       " 3551 │ 0.00244624   25       10000       theta       Poisson with LogLink\n",
       " 3552 │ 0.00225344   25       10000       theta       Poisson with LogLink\n",
       " 3553 │ 0.00892128   25       10000       theta       Poisson with LogLink\n",
       " 3554 │ 0.00269964   25       10000       theta       Poisson with LogLink\n",
       " 3555 │ 0.000164853  25       10000       theta       Poisson with LogLink\n",
       " 3556 │ 0.00111261   25       10000       theta       Poisson with LogLink\n",
       "\u001b[36m                                                          3535 rows omitted\u001b[0m"
      ]
     },
     "execution_count": 10,
     "metadata": {},
     "output_type": "execute_result"
    }
   ],
   "source": [
    "#### \n",
    "#import data and reorganize to create figure\n",
    "using Random, DataFrames, DelimitedFiles, Statistics, RCall, Printf\n",
    "import StatsBase: sem\n",
    "\n",
    "βMseresult_1 = vec(readdlm(\"mse_beta_multivariate_poisson_AR$(nsims)reps_sim.csv\", ','))\n",
    "σ2MseResult_1 = vec(readdlm(\"mse_sigma_multivariate_poisson_AR$(nsims)reps_sim.csv\", ','))\n",
    "ρMseResult_1 = vec(readdlm(\"mse_rho_multivariate_poisson_AR$(nsims)reps_sim.csv\", ','))\n",
    "θMseResult_1 = (σ2MseResult_1 .+ ρMseResult_1) ./ 2\n",
    "βρσ2coverage_1 = readdlm(\"beta_sigma_coverage_multivariate_poisson_AR$(nsims)reps_sim.csv\", ',')\n",
    "\n",
    "samplesizesrobust = samplesizes\n",
    "nsrobust = ns\n",
    "nsimsrobust = nsims\n",
    "\n",
    "# βMseresultnorm = vec(readdlm(\"result_files/mse_beta_normal_normal_lognormal_1000reps_sim.csv\", ','))\n",
    "# τMseresultnorm = vec(readdlm(\"result_files/mse_tau_normal_normal_lognormal_1000reps_sim.csv\", ','))\n",
    "# ΣMseresultnorm = vec(readdlm(\"result_files/mse_Sigma_normal_normal_lognormal_1000reps_sim.csv\", ','))\n",
    "# βτcoveragenorm = readdlm(\"result_files/beta_tau_coverage_5betas_normal_normal_lognormal_1000reps_sim.csv\", ',')\n",
    "\n",
    "\n",
    "# samplesizesnorm = collect(1000:1000:6000)\n",
    "# nsnorm = [10; 25; 50; 100; 1000]\n",
    "# nsimsnorm = 1000\n",
    "\n",
    "p = 3\n",
    "sample_sizesrobust = repeat(string.(samplesizesrobust), inner = nsimsrobust * length(nsrobust))\n",
    "obs_sizesrobust = repeat(string.(nsrobust), inner = nsimsrobust, outer = length(samplesizesrobust))\n",
    "msedfrobust = DataFrame(βmse = βMseresult_1, θMse = θMseResult_1,\n",
    "    samplesize = sample_sizesrobust, obssize = obs_sizesrobust)\n",
    "\n",
    "msedfrobustR = deepcopy(msedfrobust)\n",
    "rename!(msedfrobustR, [\"betamse\"\n",
    "    \"thetamse\"\n",
    "    \"samplesize\"\n",
    " \"obssize\"]);\n",
    "\n",
    "\n",
    "mses = [msedfrobustR[!, :betamse]; msedfrobustR[!, :thetamse]]\n",
    "    # msedfnormR[!, :betamse]; msedfnormR[!, :taumse]; msedfnormR[!, :Sigmamse]]\n",
    "obssize = collect([repeat(msedfrobustR[!, :obssize], 2)]...) # ; repeat(msedfnormR[!, :obssize], 3)]\n",
    "\n",
    "samplesize = collect([repeat(msedfrobustR[!, :samplesize], 2)]...) # ; repeat(msedfnormR[!, :samplesize], 3)]\n",
    "\n",
    "parameters = collect([repeat(string.([:beta, :theta]), inner = nsimsrobust * length(nsrobust) * length(samplesizesrobust))]...)\n",
    "# ; repeat(string.([:beta, :tau, :Sigma]), inner = nsimsnorm * length(nsnorm) * length(samplesizesnorm))]\n",
    "robust = collect([repeat([\"Poisson with LogLink\"], 2 * nsimsrobust * length(nsrobust) * length(samplesizesrobust))]...) # ;\n",
    "# repeat([\"Normal Normal Log-Normal\"], 3 * nsimsnorm * length(nsnorm) * length(samplesizesnorm))];\n",
    "\n",
    "msedfR = DataFrame(mse = mses, obssize = obssize, samplesize = samplesize,\n",
    "    parameters = parameters, robust = robust)\n",
    "\n",
    "#5 of the 30,000 simulations did not converge, filter out\n",
    "msedfR = filter(x -> !isnan(x.mse), msedfR)\n",
    "# additionally, there are 5 where an error was not caught so it did not try a differnt solver\n",
    "msedfR = filter(x -> x.mse < 40000, msedfR)"
   ]
  },
  {
   "cell_type": "code",
   "execution_count": 11,
   "metadata": {},
   "outputs": [
    {
     "name": "stderr",
     "output_type": "stream",
     "text": [
      "┌ Warning: RCall.jl: Warning: package ‘scales’ was built under R version 4.0.2\n",
      "└ @ RCall /Users/sarahji/.julia/packages/RCall/iMDW2/src/io.jl:160\n",
      "┌ Warning: RCall.jl: Warning: package ‘data.table’ was built under R version 4.0.2\n",
      "└ @ RCall /Users/sarahji/.julia/packages/RCall/iMDW2/src/io.jl:160\n"
     ]
    },
    {
     "data": {
      "image/png": "[encoded data removed]"
     },
     "metadata": {},
     "output_type": "display_data"
    },
    {
     "data": {
      "text/plain": [
       "RObject{VecSxp}\n"
      ]
     },
     "execution_count": 11,
     "metadata": {},
     "output_type": "execute_result"
    }
   ],
   "source": [
    "### working on figure next\n",
    "@rput msedfR\n",
    "\n",
    "R\"\"\"\n",
    "library(scales)\n",
    "library(ggplot2)\n",
    "library(data.table)\n",
    "\n",
    "msedfR = data.table(msedfR)\n",
    "\n",
    "msedfR[parameters == \"beta\",y_min := 10^-6]\n",
    "msedfR[parameters == \"beta\",y_max := 10^-2]\n",
    "msedfR[parameters == \"theta\",y_min := 10^-5]\n",
    "msedfR[parameters == \"theta\",y_max := 10^1]\n",
    "\n",
    "#msedfR[parameters == \"beta\",y_min := 10^-8]\n",
    "#msedfR[parameters == \"beta\",y_max := 10^-2]\n",
    "#msedfR[parameters == \"tau\",y_min := 10^-8]\n",
    "#msedfR[parameters == \"tau\",y_max := 10^-2]\n",
    "#msedfR[parameters == \"Sigma\",y_min := 10^-5]\n",
    "#msedfR[parameters == \"Sigma\",y_max := 10^-2]\n",
    "\n",
    "\n",
    "msedfR$obssize = factor(msedfR$obssize, levels = c('2', '5', '10', '15', '20', '25'))\n",
    "msedfR$samplesize = factor(msedfR$samplesize, levels = c('100', '1000', '10000'))\n",
    "msedfR$parameters = factor(msedfR$parameters, levels = c('beta', 'theta'), labels = c(beta = expression(hat(bold(beta))), theta = expression(hat(bold(theta)))))\n",
    "msedfR$robust = factor(msedfR$robust, levels = c('Poisson with LogLink'),\n",
    "    labels = c(expression(paste(\"Poisson with LogLink\")))) # , expression(paste(\"MvT Gamma Inverse-Gamma\"))))\n",
    "\n",
    "\n",
    "#mseplot <- ggplot(msedfR[msedfR$mse < 10^0, ], aes(x=samplesize, y=mse, fill=obssize)) + \n",
    "mseplot = ggplot(msedfR[msedfR$mse < 10^3, ], aes(x=samplesize, y=mse, fill=obssize)) + \n",
    "  #geom_boxplot(outlier.size = 0.0, outlier.alpha = 0) +\n",
    "  geom_boxplot(outlier.size = 0.25) +\n",
    "#    geom_violin() +\n",
    "    facet_grid(parameters ~ robust, labeller = label_parsed, scales = \"free_y\") +\n",
    "  theme(legend.position=\"right\", legend.key = element_blank(), axis.text.x = element_text(angle=0, size=15),\n",
    "        axis.text.y = element_text(angle=0, size=15), axis.title.x = element_text(size = 20), \n",
    "        axis.title.y = element_text(size = 20), legend.title = element_text(size = 20),\n",
    "        panel.grid.major = element_blank(), panel.grid.minor = element_blank(),\n",
    "        legend.text=element_text(size=15), panel.background = element_rect(fill = NA, color = \"black\"),\n",
    "        #panel.background = element_blank(), #panel.border = element_blank(),\n",
    "        axis.line = element_line(color = 'black',size=0.3), plot.title = element_text(hjust = 0.5),\n",
    "        strip.background = element_rect(colour=\"black\", fill=\"white\"), strip.text.y = element_text(size=30, face=\"bold\"),\n",
    "        strip.text.x = element_text(size=20)) + \n",
    "  scale_fill_manual(values = c(\"#c85f55\",\n",
    "\"#a964bf\",\n",
    "\"#8db352\",\n",
    "\"#fa7300\",\n",
    "\"#05aec0\",\n",
    "\"#ff1493\")) +\n",
    "#scale_y_log10(breaks = scales::trans_breaks(\"log10\", function(x) 10^x)) +\n",
    "#scale_y_log10(breaks = 10^(-8:8), limit=c(10^-8, 10^2)) + \n",
    "scale_y_log10(breaks = 10^seq(-10, 10, 2), labels=trans_format(\"log10\", math_format(10^.x))) + #, limit=c(10^-8, 10^2)) +\n",
    "  labs(x = \"Sample Size\", y = \"MSE of Parameter Estimates\", fill = \"Cluster Size\") +\n",
    "geom_blank(aes(y = y_max)) + \n",
    "geom_blank(aes(y = y_min)) \n",
    "\n",
    "\"\"\""
   ]
  },
  {
   "cell_type": "code",
   "execution_count": 12,
   "metadata": {},
   "outputs": [
    {
     "data": {
      "text/plain": [
       "RObject{StrSxp}\n",
       "[1] \"updated_msefacetplot_poisson_AR.png\"\n"
      ]
     },
     "execution_count": 12,
     "metadata": {},
     "output_type": "execute_result"
    }
   ],
   "source": [
    "R\"\"\"\n",
    "ggsave('updated_msefacetplot_poisson_AR.png', mseplot, width = 12.5, height = 15, units = 'in', dpi = 450)\n",
    "\"\"\""
   ]
  },
  {
   "cell_type": "code",
   "execution_count": null,
   "metadata": {},
   "outputs": [],
   "source": []
  }
 ],
 "metadata": {
  "@webio": {
   "lastCommId": null,
   "lastKernelId": null
  },
  "kernelspec": {
   "display_name": "Julia 1.6.2",
   "language": "julia",
   "name": "julia-1.6"
  },
  "language_info": {
   "file_extension": ".jl",
   "mimetype": "application/julia",
   "name": "julia",
   "version": "1.6.2"
  }
 },
 "nbformat": 4,
 "nbformat_minor": 2
}
