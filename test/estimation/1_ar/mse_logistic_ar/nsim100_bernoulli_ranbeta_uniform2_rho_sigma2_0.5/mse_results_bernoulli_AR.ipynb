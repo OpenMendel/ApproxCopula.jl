{
 "cells": [
  {
   "cell_type": "markdown",
   "metadata": {},
   "source": [
    "## Bernoulli AR Run-time and MSE Results \n",
    "\n",
    "This notebook goes over the code needed to reproduce the results from the MSE and time figures in the first simulation in the paper. \n",
    "\n",
    "In this example simulate three fixed effects $\\beta \\sim$ rand(Uniform(-0.2, 0.2), p) where p = 3 fixed effects.\n",
    "\n",
    "In this example we have bernoulli base distribution with Logit Link function and covariance matrix $\\Gamma$ structured under AR covariance with $\\rho = 0.9, \\sigma^2 = 0.5$\n",
    "\n",
    "We run each scenario 100 times."
   ]
  },
  {
   "cell_type": "code",
   "execution_count": 1,
   "metadata": {},
   "outputs": [
    {
     "name": "stdout",
     "output_type": "stream",
     "text": [
      "Julia Version 1.6.2\n",
      "Commit 1b93d53fc4 (2021-07-14 15:36 UTC)\n",
      "Platform Info:\n",
      "  OS: macOS (x86_64-apple-darwin18.7.0)\n",
      "  CPU: Intel(R) Core(TM) i9-9880H CPU @ 2.30GHz\n",
      "  WORD_SIZE: 64\n",
      "  LIBM: libopenlibm\n",
      "  LLVM: libLLVM-11.0.1 (ORCJIT, skylake)\n"
     ]
    }
   ],
   "source": [
    "versioninfo()"
   ]
  },
  {
   "cell_type": "code",
   "execution_count": 2,
   "metadata": {},
   "outputs": [],
   "source": [
    "using GLMCopula, DelimitedFiles, LinearAlgebra, Random, GLM\n",
    "using Random, Roots, SpecialFunctions, DataFrames"
   ]
  },
  {
   "cell_type": "code",
   "execution_count": 3,
   "metadata": {},
   "outputs": [
    {
     "data": {
      "text/plain": [
       "5"
      ]
     },
     "execution_count": 3,
     "metadata": {},
     "output_type": "execute_result"
    }
   ],
   "source": [
    "p  = 3    # number of fixed effects, including intercept\n",
    "\n",
    "# true parameter values\n",
    "Random.seed!(12345)\n",
    "βtrue = rand(Uniform(-2, 2), p)\n",
    "σ2true = [0.5]\n",
    "ρtrue = [0.5]\n",
    "θtrue = [σ2true; ρtrue]\n",
    "\n",
    "# generate data\n",
    "trueparams = [βtrue; θtrue] #hold true parameters\n",
    "\n",
    "#simulation parameters\n",
    "samplesizes = [100; 1000; 10000]\n",
    "ns = [2; 5; 10; 15; 20; 25]\n",
    "nsims = 5"
   ]
  },
  {
   "cell_type": "code",
   "execution_count": 4,
   "metadata": {},
   "outputs": [
    {
     "name": "stderr",
     "output_type": "stream",
     "text": [
      "┌ Info: reading in the files with results\n",
      "└ @ Main In[4]:1\n"
     ]
    },
    {
     "data": {
      "text/plain": [
       "90-element Vector{Float64}:\n",
       "  0.094874569\n",
       "  0.077130364\n",
       "  0.063891267\n",
       "  0.080504157\n",
       "  0.057673401\n",
       "  0.063034145\n",
       "  0.121700153\n",
       "  0.077727422\n",
       "  0.047498937\n",
       "  0.047788513\n",
       "  0.631009039\n",
       "  0.088062248\n",
       "  0.125753301\n",
       "  ⋮\n",
       "  3.381396268\n",
       "  3.036243925\n",
       "  4.762786797\n",
       "  3.848736003\n",
       "  4.863007406\n",
       "  6.134801504\n",
       "  5.69648089\n",
       "  5.723165995\n",
       "  5.091319212\n",
       " 11.471353673\n",
       "  5.914343714\n",
       "  6.41277564"
      ]
     },
     "execution_count": 4,
     "metadata": {},
     "output_type": "execute_result"
    }
   ],
   "source": [
    "@info \"reading in the files with results\"\n",
    "βMseresult = vec(readdlm(\"mse_beta_multivariate_bernoulli_AR$(nsims)reps_sim.csv\", ','))\n",
    "σ2MseResult = vec(readdlm(\"mse_sigma_multivariate_bernoulli_AR$(nsims)reps_sim.csv\", ','))\n",
    "ρMseResult = vec(readdlm(\"mse_rho_multivariate_bernoulli_AR$(nsims)reps_sim.csv\", ','))\n",
    "fittimes = vec(readdlm(\"fittimes_multivariate_bernoulli_AR$(nsims)reps_sim.csv\", ','))"
   ]
  },
  {
   "cell_type": "code",
   "execution_count": 5,
   "metadata": {},
   "outputs": [
    {
     "name": "stderr",
     "output_type": "stream",
     "text": [
      "┌ Info: making results table\n",
      "└ @ Main In[5]:2\n"
     ]
    },
    {
     "data": {
      "text/html": [
       "<div class=\"data-frame\"><p>18 rows × 8 columns</p><table class=\"data-frame\"><thead><tr><th></th><th>samplesize</th><th>obssize</th><th>fittime</th><th>se</th><th>nobs</th><th>fitmin</th><th>fitmax</th><th>perobsratio</th></tr><tr><th></th><th title=\"String\">String</th><th title=\"String\">String</th><th title=\"Float64\">Float64</th><th title=\"Float64\">Float64</th><th title=\"Int64\">Int64</th><th title=\"Float64\">Float64</th><th title=\"Float64\">Float64</th><th title=\"Float64\">Float64</th></tr></thead><tbody><tr><th>1</th><td>100</td><td>2</td><td>0.0748148</td><td>0.00653175</td><td>200</td><td>0.068283</td><td>0.0813465</td><td>0.000374074</td></tr><tr><th>2</th><td>100</td><td>5</td><td>0.0715498</td><td>0.0137273</td><td>500</td><td>0.0578225</td><td>0.0852771</td><td>0.0001431</td></tr><tr><th>3</th><td>100</td><td>10</td><td>0.217727</td><td>0.103658</td><td>1000</td><td>0.11407</td><td>0.321385</td><td>0.000217727</td></tr><tr><th>4</th><td>100</td><td>15</td><td>0.171021</td><td>0.0271116</td><td>1500</td><td>0.143909</td><td>0.198133</td><td>0.000114014</td></tr><tr><th>5</th><td>100</td><td>20</td><td>0.438049</td><td>0.104597</td><td>2000</td><td>0.333452</td><td>0.542646</td><td>0.000219025</td></tr><tr><th>6</th><td>100</td><td>25</td><td>0.272811</td><td>0.0947906</td><td>2500</td><td>0.17802</td><td>0.367601</td><td>0.000109124</td></tr><tr><th>7</th><td>1000</td><td>2</td><td>0.10902</td><td>0.00671191</td><td>2000</td><td>0.102308</td><td>0.115732</td><td>5.45101e-5</td></tr><tr><th>8</th><td>1000</td><td>5</td><td>0.196996</td><td>0.0287559</td><td>5000</td><td>0.168241</td><td>0.225752</td><td>3.93993e-5</td></tr><tr><th>9</th><td>1000</td><td>10</td><td>0.276856</td><td>0.0351077</td><td>10000</td><td>0.241748</td><td>0.311964</td><td>2.76856e-5</td></tr><tr><th>10</th><td>1000</td><td>15</td><td>0.367941</td><td>0.0194115</td><td>15000</td><td>0.34853</td><td>0.387353</td><td>2.45294e-5</td></tr><tr><th>11</th><td>1000</td><td>20</td><td>0.821544</td><td>0.187209</td><td>20000</td><td>0.634336</td><td>1.00875</td><td>4.10772e-5</td></tr><tr><th>12</th><td>1000</td><td>25</td><td>1.68332</td><td>0.380834</td><td>25000</td><td>1.30249</td><td>2.06416</td><td>6.73329e-5</td></tr><tr><th>13</th><td>10000</td><td>2</td><td>0.741399</td><td>0.0285855</td><td>20000</td><td>0.712814</td><td>0.769985</td><td>3.707e-5</td></tr><tr><th>14</th><td>10000</td><td>5</td><td>1.28221</td><td>0.181537</td><td>50000</td><td>1.10067</td><td>1.46374</td><td>2.56441e-5</td></tr><tr><th>15</th><td>10000</td><td>10</td><td>1.95969</td><td>0.160332</td><td>100000</td><td>1.79935</td><td>2.12002</td><td>1.95969e-5</td></tr><tr><th>16</th><td>10000</td><td>15</td><td>2.81739</td><td>0.258893</td><td>150000</td><td>2.5585</td><td>3.07628</td><td>1.87826e-5</td></tr><tr><th>17</th><td>10000</td><td>20</td><td>5.06116</td><td>0.397152</td><td>200000</td><td>4.66401</td><td>5.45831</td><td>2.53058e-5</td></tr><tr><th>18</th><td>10000</td><td>25</td><td>6.92259</td><td>1.15672</td><td>250000</td><td>5.76587</td><td>8.07931</td><td>2.76904e-5</td></tr></tbody></table></div>"
      ],
      "text/latex": [
       "\\begin{tabular}{r|cccccccc}\n",
       "\t& samplesize & obssize & fittime & se & nobs & fitmin & fitmax & perobsratio\\\\\n",
       "\t\\hline\n",
       "\t& String & String & Float64 & Float64 & Int64 & Float64 & Float64 & Float64\\\\\n",
       "\t\\hline\n",
       "\t1 & 100 & 2 & 0.0748148 & 0.00653175 & 200 & 0.068283 & 0.0813465 & 0.000374074 \\\\\n",
       "\t2 & 100 & 5 & 0.0715498 & 0.0137273 & 500 & 0.0578225 & 0.0852771 & 0.0001431 \\\\\n",
       "\t3 & 100 & 10 & 0.217727 & 0.103658 & 1000 & 0.11407 & 0.321385 & 0.000217727 \\\\\n",
       "\t4 & 100 & 15 & 0.171021 & 0.0271116 & 1500 & 0.143909 & 0.198133 & 0.000114014 \\\\\n",
       "\t5 & 100 & 20 & 0.438049 & 0.104597 & 2000 & 0.333452 & 0.542646 & 0.000219025 \\\\\n",
       "\t6 & 100 & 25 & 0.272811 & 0.0947906 & 2500 & 0.17802 & 0.367601 & 0.000109124 \\\\\n",
       "\t7 & 1000 & 2 & 0.10902 & 0.00671191 & 2000 & 0.102308 & 0.115732 & 5.45101e-5 \\\\\n",
       "\t8 & 1000 & 5 & 0.196996 & 0.0287559 & 5000 & 0.168241 & 0.225752 & 3.93993e-5 \\\\\n",
       "\t9 & 1000 & 10 & 0.276856 & 0.0351077 & 10000 & 0.241748 & 0.311964 & 2.76856e-5 \\\\\n",
       "\t10 & 1000 & 15 & 0.367941 & 0.0194115 & 15000 & 0.34853 & 0.387353 & 2.45294e-5 \\\\\n",
       "\t11 & 1000 & 20 & 0.821544 & 0.187209 & 20000 & 0.634336 & 1.00875 & 4.10772e-5 \\\\\n",
       "\t12 & 1000 & 25 & 1.68332 & 0.380834 & 25000 & 1.30249 & 2.06416 & 6.73329e-5 \\\\\n",
       "\t13 & 10000 & 2 & 0.741399 & 0.0285855 & 20000 & 0.712814 & 0.769985 & 3.707e-5 \\\\\n",
       "\t14 & 10000 & 5 & 1.28221 & 0.181537 & 50000 & 1.10067 & 1.46374 & 2.56441e-5 \\\\\n",
       "\t15 & 10000 & 10 & 1.95969 & 0.160332 & 100000 & 1.79935 & 2.12002 & 1.95969e-5 \\\\\n",
       "\t16 & 10000 & 15 & 2.81739 & 0.258893 & 150000 & 2.5585 & 3.07628 & 1.87826e-5 \\\\\n",
       "\t17 & 10000 & 20 & 5.06116 & 0.397152 & 200000 & 4.66401 & 5.45831 & 2.53058e-5 \\\\\n",
       "\t18 & 10000 & 25 & 6.92259 & 1.15672 & 250000 & 5.76587 & 8.07931 & 2.76904e-5 \\\\\n",
       "\\end{tabular}\n"
      ],
      "text/plain": [
       "\u001b[1m18×8 DataFrame\u001b[0m\n",
       "\u001b[1m Row \u001b[0m│\u001b[1m samplesize \u001b[0m\u001b[1m obssize \u001b[0m\u001b[1m fittime   \u001b[0m\u001b[1m se         \u001b[0m\u001b[1m nobs   \u001b[0m\u001b[1m fitmin    \u001b[0m\u001b[1m fitmax  \u001b[0m ⋯\n",
       "\u001b[1m     \u001b[0m│\u001b[90m String     \u001b[0m\u001b[90m String  \u001b[0m\u001b[90m Float64   \u001b[0m\u001b[90m Float64    \u001b[0m\u001b[90m Int64  \u001b[0m\u001b[90m Float64   \u001b[0m\u001b[90m Float64 \u001b[0m ⋯\n",
       "─────┼──────────────────────────────────────────────────────────────────────────\n",
       "   1 │ 100         2        0.0748148  0.00653175     200  0.068283   0.081346 ⋯\n",
       "   2 │ 100         5        0.0715498  0.0137273      500  0.0578225  0.085277\n",
       "   3 │ 100         10       0.217727   0.103658      1000  0.11407    0.321385\n",
       "   4 │ 100         15       0.171021   0.0271116     1500  0.143909   0.198133\n",
       "   5 │ 100         20       0.438049   0.104597      2000  0.333452   0.542646 ⋯\n",
       "   6 │ 100         25       0.272811   0.0947906     2500  0.17802    0.367601\n",
       "   7 │ 1000        2        0.10902    0.00671191    2000  0.102308   0.115732\n",
       "   8 │ 1000        5        0.196996   0.0287559     5000  0.168241   0.225752\n",
       "   9 │ 1000        10       0.276856   0.0351077    10000  0.241748   0.311964 ⋯\n",
       "  10 │ 1000        15       0.367941   0.0194115    15000  0.34853    0.387353\n",
       "  11 │ 1000        20       0.821544   0.187209     20000  0.634336   1.00875\n",
       "  12 │ 1000        25       1.68332    0.380834     25000  1.30249    2.06416\n",
       "  13 │ 10000       2        0.741399   0.0285855    20000  0.712814   0.769985 ⋯\n",
       "  14 │ 10000       5        1.28221    0.181537     50000  1.10067    1.46374\n",
       "  15 │ 10000       10       1.95969    0.160332    100000  1.79935    2.12002\n",
       "  16 │ 10000       15       2.81739    0.258893    150000  2.5585     3.07628\n",
       "  17 │ 10000       20       5.06116    0.397152    200000  4.66401    5.45831  ⋯\n",
       "  18 │ 10000       25       6.92259    1.15672     250000  5.76587    8.07931\n",
       "\u001b[36m                                                               2 columns omitted\u001b[0m"
      ]
     },
     "execution_count": 5,
     "metadata": {},
     "output_type": "execute_result"
    }
   ],
   "source": [
    "#simulation parameters\n",
    "@info \"making results table\"\n",
    "sample_sizes = repeat(string.(samplesizes), inner = nsims * length(ns))\n",
    "obs_sizes = repeat(string.(ns), inner = nsims, outer = length(samplesizes))\n",
    "\n",
    "msedf = DataFrame(βmse = βMseresult, σ2mse = σ2MseResult, ρmse = ρMseResult,\n",
    "    samplesize = sample_sizes, obssize = obs_sizes, fittimes = fittimes)\n",
    "timedf = combine(groupby(msedf, [:samplesize, :obssize]), :fittimes => mean => :fittime,\n",
    "    :fittimes => x -> (std(x)/sqrt(length(x))))\n",
    "rename!(timedf, Dict(:fittimes_function => \"se\"))\n",
    "timedf[!, :nobs] = Meta.parse.(timedf[!, :samplesize]) .* Meta.parse.(timedf[!, :obssize])\n",
    "timedf[!, :fitmin] = timedf[!, :fittime] - timedf[!, :se]\n",
    "timedf[!, :fitmax] = timedf[!, :fittime] + timedf[!, :se]\n",
    "timedf[!, :perobsratio] = timedf[!, :fittime] ./ timedf[!, :nobs]\n",
    "timedf"
   ]
  },
  {
   "cell_type": "code",
   "execution_count": 6,
   "metadata": {},
   "outputs": [
    {
     "name": "stderr",
     "output_type": "stream",
     "text": [
      "┌ Warning: RCall.jl: Warning: package ‘ggplot2’ was built under R version 4.0.2\n",
      "└ @ RCall /Users/sarahji/.julia/packages/RCall/iMDW2/src/io.jl:160\n"
     ]
    },
    {
     "data": {
      "image/png": "[encoded data removed]"
     },
     "metadata": {},
     "output_type": "display_data"
    },
    {
     "data": {
      "text/plain": [
       "RObject{VecSxp}\n"
      ]
     },
     "execution_count": 6,
     "metadata": {},
     "output_type": "execute_result"
    }
   ],
   "source": [
    "########### plot the runtimes\n",
    "using RCall\n",
    "@rput timedf\n",
    "\n",
    "R\"\"\"\n",
    "library(ggplot2)\n",
    "timedf$obssize = factor(timedf$obssize, levels = c('2', '5', '10', '15', '20', '25'))\n",
    "timedf$samplesize = factor(timedf$samplesize, levels = c('100', '1000', '10000'))\n",
    "\n",
    "fittime_1 = ggplot(timedf, aes(x = samplesize, y = fittime, group = obssize, color = obssize)) + \n",
    "  geom_line() +\n",
    "  geom_point()+\n",
    "  geom_errorbar(aes(ymin=fitmin, ymax=fitmax), width=0.5, alpha = 0.8, position=position_dodge(0.005)) + \n",
    "  theme(legend.position=c(0.15,0.85), legend.key = element_blank(), axis.text.x = element_text(angle=0, size=13),\n",
    "        axis.text.y = element_text(angle=0, size=13), axis.title.x = element_text(size = 17), \n",
    "        axis.title.y = element_text(size = 17), legend.title = element_text(size = 14),\n",
    "        #axis.ticks = element_blank(),\n",
    "        panel.grid.major = element_blank(), legend.text=element_text(size=13),\n",
    "        panel.border = element_blank(), panel.grid.minor = element_blank(), panel.background = element_blank(), \n",
    "        axis.line = element_line(color = 'black',size=0.3), plot.title = element_text(hjust = 0.5)) + \n",
    "   scale_color_manual(values = c(\"#c85f55\",\n",
    "\"#a964bf\",\n",
    "\"#8db352\",\n",
    "\"#fa7300\",\n",
    "\"#05aec0\",\n",
    "\"#ff1493\")) +\n",
    "  labs(x = \"Number of Individuals\", y = \"Fit time (seconds)\", color = \"Obs per Individual\")\n",
    "\"\"\""
   ]
  },
  {
   "cell_type": "code",
   "execution_count": 7,
   "metadata": {},
   "outputs": [
    {
     "data": {
      "text/plain": [
       "RObject{StrSxp}\n",
       "[1] \"fittime_nobs_bernoulli_AR_uni2_rho_sigma2_0.5.png\"\n"
      ]
     },
     "execution_count": 7,
     "metadata": {},
     "output_type": "execute_result"
    }
   ],
   "source": [
    "R\"\"\"\n",
    "ggsave('fittime_nobs_bernoulli_AR_uni2_rho_sigma2_0.5.png', fittime_1, width = 12.5, height = 15, units = 'in', dpi = 450)\n",
    "\"\"\""
   ]
  },
  {
   "cell_type": "code",
   "execution_count": 8,
   "metadata": {},
   "outputs": [
    {
     "data": {
      "text/html": [
       "<div class=\"data-frame\"><p>18 rows × 6 columns (omitted printing of 1 columns)</p><table class=\"data-frame\"><thead><tr><th></th><th>people_obs</th><th>β1</th><th>β2</th><th>β3</th><th>σ2</th></tr><tr><th></th><th title=\"String\">String</th><th title=\"Tuple{Float64, Float64}\">Tuple…</th><th title=\"Tuple{Float64, Float64}\">Tuple…</th><th title=\"Tuple{Float64, Float64}\">Tuple…</th><th title=\"Tuple{Float64, Float64}\">Tuple…</th></tr></thead><tbody><tr><th>1</th><td>N: 100  ni: 2</td><td>(0.4, 0.244949)</td><td>(0.2, 0.2)</td><td>(0.4, 0.244949)</td><td>(0.8, 0.2)</td></tr><tr><th>2</th><td>N: 100  ni: 5</td><td>(0.4, 0.244949)</td><td>(0.2, 0.2)</td><td>(0.4, 0.244949)</td><td>(0.4, 0.244949)</td></tr><tr><th>3</th><td>N: 100  ni: 10</td><td>(0.4, 0.244949)</td><td>(0.4, 0.244949)</td><td>(1.0, 0.0)</td><td>(0.8, 0.2)</td></tr><tr><th>4</th><td>N: 100  ni: 15</td><td>(0.4, 0.244949)</td><td>(0.6, 0.244949)</td><td>(0.8, 0.2)</td><td>(0.6, 0.244949)</td></tr><tr><th>5</th><td>N: 100  ni: 20</td><td>(1.0, 0.0)</td><td>(0.4, 0.244949)</td><td>(0.8, 0.2)</td><td>(0.6, 0.244949)</td></tr><tr><th>6</th><td>N: 100  ni: 25</td><td>(0.8, 0.2)</td><td>(0.4, 0.244949)</td><td>(0.4, 0.244949)</td><td>(0.8, 0.2)</td></tr><tr><th>7</th><td>N: 1000  ni: 2</td><td>(0.2, 0.2)</td><td>(0.0, 0.0)</td><td>(0.4, 0.244949)</td><td>(0.8, 0.2)</td></tr><tr><th>8</th><td>N: 1000  ni: 5</td><td>(0.2, 0.2)</td><td>(0.2, 0.2)</td><td>(0.4, 0.244949)</td><td>(1.0, 0.0)</td></tr><tr><th>9</th><td>N: 1000  ni: 10</td><td>(0.2, 0.2)</td><td>(0.2, 0.2)</td><td>(0.6, 0.244949)</td><td>(1.0, 0.0)</td></tr><tr><th>10</th><td>N: 1000  ni: 15</td><td>(0.4, 0.244949)</td><td>(0.0, 0.0)</td><td>(1.0, 0.0)</td><td>(0.8, 0.2)</td></tr><tr><th>11</th><td>N: 1000  ni: 20</td><td>(0.4, 0.244949)</td><td>(0.0, 0.0)</td><td>(0.6, 0.244949)</td><td>(1.0, 0.0)</td></tr><tr><th>12</th><td>N: 1000  ni: 25</td><td>(0.2, 0.2)</td><td>(0.2, 0.2)</td><td>(0.6, 0.244949)</td><td>(0.6, 0.244949)</td></tr><tr><th>13</th><td>N: 10000  ni: 2</td><td>(0.4, 0.244949)</td><td>(0.2, 0.2)</td><td>(0.6, 0.244949)</td><td>(0.6, 0.244949)</td></tr><tr><th>14</th><td>N: 10000  ni: 5</td><td>(0.2, 0.2)</td><td>(0.2, 0.2)</td><td>(0.2, 0.2)</td><td>(1.0, 0.0)</td></tr><tr><th>15</th><td>N: 10000  ni: 10</td><td>(0.4, 0.244949)</td><td>(0.0, 0.0)</td><td>(1.0, 0.0)</td><td>(0.8, 0.2)</td></tr><tr><th>16</th><td>N: 10000  ni: 15</td><td>(0.4, 0.244949)</td><td>(0.0, 0.0)</td><td>(1.0, 0.0)</td><td>(1.0, 0.0)</td></tr><tr><th>17</th><td>N: 10000  ni: 20</td><td>(0.8, 0.2)</td><td>(0.0, 0.0)</td><td>(0.8, 0.2)</td><td>(0.8, 0.2)</td></tr><tr><th>18</th><td>N: 10000  ni: 25</td><td>(0.4, 0.244949)</td><td>(0.2, 0.2)</td><td>(1.0, 0.0)</td><td>(1.0, 0.0)</td></tr></tbody></table></div>"
      ],
      "text/latex": [
       "\\begin{tabular}{r|cccccc}\n",
       "\t& people\\_obs & β1 & β2 & β3 & σ2 & \\\\\n",
       "\t\\hline\n",
       "\t& String & Tuple… & Tuple… & Tuple… & Tuple… & \\\\\n",
       "\t\\hline\n",
       "\t1 & N: 100  ni: 2 & (0.4, 0.244949) & (0.2, 0.2) & (0.4, 0.244949) & (0.8, 0.2) & $\\dots$ \\\\\n",
       "\t2 & N: 100  ni: 5 & (0.4, 0.244949) & (0.2, 0.2) & (0.4, 0.244949) & (0.4, 0.244949) & $\\dots$ \\\\\n",
       "\t3 & N: 100  ni: 10 & (0.4, 0.244949) & (0.4, 0.244949) & (1.0, 0.0) & (0.8, 0.2) & $\\dots$ \\\\\n",
       "\t4 & N: 100  ni: 15 & (0.4, 0.244949) & (0.6, 0.244949) & (0.8, 0.2) & (0.6, 0.244949) & $\\dots$ \\\\\n",
       "\t5 & N: 100  ni: 20 & (1.0, 0.0) & (0.4, 0.244949) & (0.8, 0.2) & (0.6, 0.244949) & $\\dots$ \\\\\n",
       "\t6 & N: 100  ni: 25 & (0.8, 0.2) & (0.4, 0.244949) & (0.4, 0.244949) & (0.8, 0.2) & $\\dots$ \\\\\n",
       "\t7 & N: 1000  ni: 2 & (0.2, 0.2) & (0.0, 0.0) & (0.4, 0.244949) & (0.8, 0.2) & $\\dots$ \\\\\n",
       "\t8 & N: 1000  ni: 5 & (0.2, 0.2) & (0.2, 0.2) & (0.4, 0.244949) & (1.0, 0.0) & $\\dots$ \\\\\n",
       "\t9 & N: 1000  ni: 10 & (0.2, 0.2) & (0.2, 0.2) & (0.6, 0.244949) & (1.0, 0.0) & $\\dots$ \\\\\n",
       "\t10 & N: 1000  ni: 15 & (0.4, 0.244949) & (0.0, 0.0) & (1.0, 0.0) & (0.8, 0.2) & $\\dots$ \\\\\n",
       "\t11 & N: 1000  ni: 20 & (0.4, 0.244949) & (0.0, 0.0) & (0.6, 0.244949) & (1.0, 0.0) & $\\dots$ \\\\\n",
       "\t12 & N: 1000  ni: 25 & (0.2, 0.2) & (0.2, 0.2) & (0.6, 0.244949) & (0.6, 0.244949) & $\\dots$ \\\\\n",
       "\t13 & N: 10000  ni: 2 & (0.4, 0.244949) & (0.2, 0.2) & (0.6, 0.244949) & (0.6, 0.244949) & $\\dots$ \\\\\n",
       "\t14 & N: 10000  ni: 5 & (0.2, 0.2) & (0.2, 0.2) & (0.2, 0.2) & (1.0, 0.0) & $\\dots$ \\\\\n",
       "\t15 & N: 10000  ni: 10 & (0.4, 0.244949) & (0.0, 0.0) & (1.0, 0.0) & (0.8, 0.2) & $\\dots$ \\\\\n",
       "\t16 & N: 10000  ni: 15 & (0.4, 0.244949) & (0.0, 0.0) & (1.0, 0.0) & (1.0, 0.0) & $\\dots$ \\\\\n",
       "\t17 & N: 10000  ni: 20 & (0.8, 0.2) & (0.0, 0.0) & (0.8, 0.2) & (0.8, 0.2) & $\\dots$ \\\\\n",
       "\t18 & N: 10000  ni: 25 & (0.4, 0.244949) & (0.2, 0.2) & (1.0, 0.0) & (1.0, 0.0) & $\\dots$ \\\\\n",
       "\\end{tabular}\n"
      ],
      "text/plain": [
       "\u001b[1m18×6 DataFrame\u001b[0m\n",
       "\u001b[1m Row \u001b[0m│\u001b[1m people_obs       \u001b[0m\u001b[1m β1              \u001b[0m\u001b[1m β2              \u001b[0m\u001b[1m β3              \u001b[0m\u001b[1m σ2\u001b[0m ⋯\n",
       "\u001b[1m     \u001b[0m│\u001b[90m String           \u001b[0m\u001b[90m Tuple…          \u001b[0m\u001b[90m Tuple…          \u001b[0m\u001b[90m Tuple…          \u001b[0m\u001b[90m Tu\u001b[0m ⋯\n",
       "─────┼──────────────────────────────────────────────────────────────────────────\n",
       "   1 │ N: 100  ni: 2     (0.4, 0.244949)  (0.2, 0.2)       (0.4, 0.244949)  (0 ⋯\n",
       "   2 │ N: 100  ni: 5     (0.4, 0.244949)  (0.2, 0.2)       (0.4, 0.244949)  (0\n",
       "   3 │ N: 100  ni: 10    (0.4, 0.244949)  (0.4, 0.244949)  (1.0, 0.0)       (0\n",
       "   4 │ N: 100  ni: 15    (0.4, 0.244949)  (0.6, 0.244949)  (0.8, 0.2)       (0\n",
       "   5 │ N: 100  ni: 20    (1.0, 0.0)       (0.4, 0.244949)  (0.8, 0.2)       (0 ⋯\n",
       "   6 │ N: 100  ni: 25    (0.8, 0.2)       (0.4, 0.244949)  (0.4, 0.244949)  (0\n",
       "   7 │ N: 1000  ni: 2    (0.2, 0.2)       (0.0, 0.0)       (0.4, 0.244949)  (0\n",
       "   8 │ N: 1000  ni: 5    (0.2, 0.2)       (0.2, 0.2)       (0.4, 0.244949)  (1\n",
       "   9 │ N: 1000  ni: 10   (0.2, 0.2)       (0.2, 0.2)       (0.6, 0.244949)  (1 ⋯\n",
       "  10 │ N: 1000  ni: 15   (0.4, 0.244949)  (0.0, 0.0)       (1.0, 0.0)       (0\n",
       "  11 │ N: 1000  ni: 20   (0.4, 0.244949)  (0.0, 0.0)       (0.6, 0.244949)  (1\n",
       "  12 │ N: 1000  ni: 25   (0.2, 0.2)       (0.2, 0.2)       (0.6, 0.244949)  (0\n",
       "  13 │ N: 10000  ni: 2   (0.4, 0.244949)  (0.2, 0.2)       (0.6, 0.244949)  (0 ⋯\n",
       "  14 │ N: 10000  ni: 5   (0.2, 0.2)       (0.2, 0.2)       (0.2, 0.2)       (1\n",
       "  15 │ N: 10000  ni: 10  (0.4, 0.244949)  (0.0, 0.0)       (1.0, 0.0)       (0\n",
       "  16 │ N: 10000  ni: 15  (0.4, 0.244949)  (0.0, 0.0)       (1.0, 0.0)       (1\n",
       "  17 │ N: 10000  ni: 20  (0.8, 0.2)       (0.0, 0.0)       (0.8, 0.2)       (0 ⋯\n",
       "  18 │ N: 10000  ni: 25  (0.4, 0.244949)  (0.2, 0.2)       (1.0, 0.0)       (1\n",
       "\u001b[36m                                                               2 columns omitted\u001b[0m"
      ]
     },
     "execution_count": 8,
     "metadata": {},
     "output_type": "execute_result"
    }
   ],
   "source": [
    "######  supplementary table s1\n",
    "using Random, DataFrames, DelimitedFiles, Statistics\n",
    "import StatsBase: sem\n",
    "\n",
    "βρσ2coverage = readdlm(\"beta_rho_sigma_coverage_multivariate_bernoulli_AR$(nsims)reps_sim.csv\", ',')\n",
    "\n",
    "m = 2\n",
    "\n",
    "covdf = DataFrame(Matrix(transpose(βρσ2coverage)), :auto)\n",
    "rename!(covdf, Symbol.([[\"β$i\" for i in 1:p]; [\"σ2\"];  [\"ρ\"]]))\n",
    "covdf[!, :samplesize] = sample_sizes\n",
    "covdf[!, :obssize] = obs_sizes\n",
    "first(covdf, 10)\n",
    "\n",
    "row_stats = [[(mean(col), sem(col)) for col = eachcol(d[!, 1:end-2])] for d = groupby(covdf, [:samplesize; :obssize])]\n",
    "df = DataFrame(row_stats, :auto)\n",
    "ss_obs = unique(\"N: \" .* sample_sizes .* \"  ni: \" .* obs_sizes)\n",
    "rename!(df, Symbol.(ss_obs))\n",
    "covdfdisplay = DataFrame([[names(df)]; collect.(eachrow(df))], \n",
    "    [:people_obs; Symbol.([[\"β$i\" for i in 1:p]; [\"σ2\"]; [\"ρ\"]])])\n",
    "# deletecols!(covdfdisplay, p + 2)\n",
    "covdfdisplay\n"
   ]
  },
  {
   "cell_type": "code",
   "execution_count": 9,
   "metadata": {},
   "outputs": [
    {
     "data": {
      "text/html": [
       "<div class=\"data-frame\"><p>171 rows × 5 columns</p><table class=\"data-frame\"><thead><tr><th></th><th>mse</th><th>obssize</th><th>samplesize</th><th>parameters</th><th>robust</th></tr><tr><th></th><th title=\"Float64\">Float64</th><th title=\"String\">String</th><th title=\"String\">String</th><th title=\"String\">String</th><th title=\"String\">String</th></tr></thead><tbody><tr><th>1</th><td>2.58131</td><td>2</td><td>100</td><td>beta</td><td>Bernoulli with LogitLink</td></tr><tr><th>2</th><td>0.295504</td><td>2</td><td>100</td><td>beta</td><td>Bernoulli with LogitLink</td></tr><tr><th>3</th><td>0.415719</td><td>2</td><td>100</td><td>beta</td><td>Bernoulli with LogitLink</td></tr><tr><th>4</th><td>2.19966</td><td>2</td><td>100</td><td>beta</td><td>Bernoulli with LogitLink</td></tr><tr><th>5</th><td>0.00857669</td><td>2</td><td>100</td><td>beta</td><td>Bernoulli with LogitLink</td></tr><tr><th>6</th><td>0.00441469</td><td>5</td><td>100</td><td>beta</td><td>Bernoulli with LogitLink</td></tr><tr><th>7</th><td>0.0478361</td><td>5</td><td>100</td><td>beta</td><td>Bernoulli with LogitLink</td></tr><tr><th>8</th><td>0.153011</td><td>5</td><td>100</td><td>beta</td><td>Bernoulli with LogitLink</td></tr><tr><th>9</th><td>0.0408034</td><td>5</td><td>100</td><td>beta</td><td>Bernoulli with LogitLink</td></tr><tr><th>10</th><td>0.0141906</td><td>5</td><td>100</td><td>beta</td><td>Bernoulli with LogitLink</td></tr><tr><th>11</th><td>0.0403066</td><td>10</td><td>100</td><td>beta</td><td>Bernoulli with LogitLink</td></tr><tr><th>12</th><td>0.00142253</td><td>10</td><td>100</td><td>beta</td><td>Bernoulli with LogitLink</td></tr><tr><th>13</th><td>0.00578106</td><td>10</td><td>100</td><td>beta</td><td>Bernoulli with LogitLink</td></tr><tr><th>14</th><td>0.0112475</td><td>10</td><td>100</td><td>beta</td><td>Bernoulli with LogitLink</td></tr><tr><th>15</th><td>0.0245795</td><td>10</td><td>100</td><td>beta</td><td>Bernoulli with LogitLink</td></tr><tr><th>16</th><td>0.015937</td><td>15</td><td>100</td><td>beta</td><td>Bernoulli with LogitLink</td></tr><tr><th>17</th><td>0.00150216</td><td>15</td><td>100</td><td>beta</td><td>Bernoulli with LogitLink</td></tr><tr><th>18</th><td>0.00156248</td><td>15</td><td>100</td><td>beta</td><td>Bernoulli with LogitLink</td></tr><tr><th>19</th><td>0.000445828</td><td>15</td><td>100</td><td>beta</td><td>Bernoulli with LogitLink</td></tr><tr><th>20</th><td>0.0272731</td><td>15</td><td>100</td><td>beta</td><td>Bernoulli with LogitLink</td></tr><tr><th>21</th><td>0.00332441</td><td>20</td><td>100</td><td>beta</td><td>Bernoulli with LogitLink</td></tr><tr><th>22</th><td>0.0066046</td><td>20</td><td>100</td><td>beta</td><td>Bernoulli with LogitLink</td></tr><tr><th>23</th><td>0.00257409</td><td>20</td><td>100</td><td>beta</td><td>Bernoulli with LogitLink</td></tr><tr><th>24</th><td>0.00245513</td><td>20</td><td>100</td><td>beta</td><td>Bernoulli with LogitLink</td></tr><tr><th>25</th><td>0.000847886</td><td>20</td><td>100</td><td>beta</td><td>Bernoulli with LogitLink</td></tr><tr><th>26</th><td>0.00921479</td><td>25</td><td>100</td><td>beta</td><td>Bernoulli with LogitLink</td></tr><tr><th>27</th><td>0.00415926</td><td>25</td><td>100</td><td>beta</td><td>Bernoulli with LogitLink</td></tr><tr><th>28</th><td>0.00917966</td><td>25</td><td>100</td><td>beta</td><td>Bernoulli with LogitLink</td></tr><tr><th>29</th><td>0.00450461</td><td>25</td><td>100</td><td>beta</td><td>Bernoulli with LogitLink</td></tr><tr><th>30</th><td>0.00504041</td><td>25</td><td>100</td><td>beta</td><td>Bernoulli with LogitLink</td></tr><tr><th>&vellip;</th><td>&vellip;</td><td>&vellip;</td><td>&vellip;</td><td>&vellip;</td><td>&vellip;</td></tr></tbody></table></div>"
      ],
      "text/latex": [
       "\\begin{tabular}{r|ccccc}\n",
       "\t& mse & obssize & samplesize & parameters & robust\\\\\n",
       "\t\\hline\n",
       "\t& Float64 & String & String & String & String\\\\\n",
       "\t\\hline\n",
       "\t1 & 2.58131 & 2 & 100 & beta & Bernoulli with LogitLink \\\\\n",
       "\t2 & 0.295504 & 2 & 100 & beta & Bernoulli with LogitLink \\\\\n",
       "\t3 & 0.415719 & 2 & 100 & beta & Bernoulli with LogitLink \\\\\n",
       "\t4 & 2.19966 & 2 & 100 & beta & Bernoulli with LogitLink \\\\\n",
       "\t5 & 0.00857669 & 2 & 100 & beta & Bernoulli with LogitLink \\\\\n",
       "\t6 & 0.00441469 & 5 & 100 & beta & Bernoulli with LogitLink \\\\\n",
       "\t7 & 0.0478361 & 5 & 100 & beta & Bernoulli with LogitLink \\\\\n",
       "\t8 & 0.153011 & 5 & 100 & beta & Bernoulli with LogitLink \\\\\n",
       "\t9 & 0.0408034 & 5 & 100 & beta & Bernoulli with LogitLink \\\\\n",
       "\t10 & 0.0141906 & 5 & 100 & beta & Bernoulli with LogitLink \\\\\n",
       "\t11 & 0.0403066 & 10 & 100 & beta & Bernoulli with LogitLink \\\\\n",
       "\t12 & 0.00142253 & 10 & 100 & beta & Bernoulli with LogitLink \\\\\n",
       "\t13 & 0.00578106 & 10 & 100 & beta & Bernoulli with LogitLink \\\\\n",
       "\t14 & 0.0112475 & 10 & 100 & beta & Bernoulli with LogitLink \\\\\n",
       "\t15 & 0.0245795 & 10 & 100 & beta & Bernoulli with LogitLink \\\\\n",
       "\t16 & 0.015937 & 15 & 100 & beta & Bernoulli with LogitLink \\\\\n",
       "\t17 & 0.00150216 & 15 & 100 & beta & Bernoulli with LogitLink \\\\\n",
       "\t18 & 0.00156248 & 15 & 100 & beta & Bernoulli with LogitLink \\\\\n",
       "\t19 & 0.000445828 & 15 & 100 & beta & Bernoulli with LogitLink \\\\\n",
       "\t20 & 0.0272731 & 15 & 100 & beta & Bernoulli with LogitLink \\\\\n",
       "\t21 & 0.00332441 & 20 & 100 & beta & Bernoulli with LogitLink \\\\\n",
       "\t22 & 0.0066046 & 20 & 100 & beta & Bernoulli with LogitLink \\\\\n",
       "\t23 & 0.00257409 & 20 & 100 & beta & Bernoulli with LogitLink \\\\\n",
       "\t24 & 0.00245513 & 20 & 100 & beta & Bernoulli with LogitLink \\\\\n",
       "\t25 & 0.000847886 & 20 & 100 & beta & Bernoulli with LogitLink \\\\\n",
       "\t26 & 0.00921479 & 25 & 100 & beta & Bernoulli with LogitLink \\\\\n",
       "\t27 & 0.00415926 & 25 & 100 & beta & Bernoulli with LogitLink \\\\\n",
       "\t28 & 0.00917966 & 25 & 100 & beta & Bernoulli with LogitLink \\\\\n",
       "\t29 & 0.00450461 & 25 & 100 & beta & Bernoulli with LogitLink \\\\\n",
       "\t30 & 0.00504041 & 25 & 100 & beta & Bernoulli with LogitLink \\\\\n",
       "\t$\\dots$ & $\\dots$ & $\\dots$ & $\\dots$ & $\\dots$ & $\\dots$ \\\\\n",
       "\\end{tabular}\n"
      ],
      "text/plain": [
       "\u001b[1m171×5 DataFrame\u001b[0m\n",
       "\u001b[1m Row \u001b[0m│\u001b[1m mse         \u001b[0m\u001b[1m obssize \u001b[0m\u001b[1m samplesize \u001b[0m\u001b[1m parameters \u001b[0m\u001b[1m robust                   \u001b[0m\n",
       "\u001b[1m     \u001b[0m│\u001b[90m Float64     \u001b[0m\u001b[90m String  \u001b[0m\u001b[90m String     \u001b[0m\u001b[90m String     \u001b[0m\u001b[90m String                   \u001b[0m\n",
       "─────┼────────────────────────────────────────────────────────────────────────\n",
       "   1 │ 2.58131      2        100         beta        Bernoulli with LogitLink\n",
       "   2 │ 0.295504     2        100         beta        Bernoulli with LogitLink\n",
       "   3 │ 0.415719     2        100         beta        Bernoulli with LogitLink\n",
       "   4 │ 2.19966      2        100         beta        Bernoulli with LogitLink\n",
       "   5 │ 0.00857669   2        100         beta        Bernoulli with LogitLink\n",
       "   6 │ 0.00441469   5        100         beta        Bernoulli with LogitLink\n",
       "   7 │ 0.0478361    5        100         beta        Bernoulli with LogitLink\n",
       "   8 │ 0.153011     5        100         beta        Bernoulli with LogitLink\n",
       "   9 │ 0.0408034    5        100         beta        Bernoulli with LogitLink\n",
       "  10 │ 0.0141906    5        100         beta        Bernoulli with LogitLink\n",
       "  11 │ 0.0403066    10       100         beta        Bernoulli with LogitLink\n",
       "  ⋮  │      ⋮          ⋮         ⋮           ⋮                  ⋮\n",
       " 162 │ 0.000553017  20       10000       theta       Bernoulli with LogitLink\n",
       " 163 │ 0.003734     20       10000       theta       Bernoulli with LogitLink\n",
       " 164 │ 0.00430626   20       10000       theta       Bernoulli with LogitLink\n",
       " 165 │ 0.0120948    20       10000       theta       Bernoulli with LogitLink\n",
       " 166 │ 0.000330001  20       10000       theta       Bernoulli with LogitLink\n",
       " 167 │ 0.000860598  25       10000       theta       Bernoulli with LogitLink\n",
       " 168 │ 0.00384653   25       10000       theta       Bernoulli with LogitLink\n",
       " 169 │ 0.0164474    25       10000       theta       Bernoulli with LogitLink\n",
       " 170 │ 0.00403009   25       10000       theta       Bernoulli with LogitLink\n",
       " 171 │ 0.0976164    25       10000       theta       Bernoulli with LogitLink\n",
       "\u001b[36m                                                              150 rows omitted\u001b[0m"
      ]
     },
     "execution_count": 9,
     "metadata": {},
     "output_type": "execute_result"
    }
   ],
   "source": [
    "#### \n",
    "#import data and reorganize to create figure\n",
    "using Random, DataFrames, DelimitedFiles, Statistics, RCall, Printf\n",
    "import StatsBase: sem\n",
    "\n",
    "βMseresult_1 = vec(readdlm(\"mse_beta_multivariate_bernoulli_AR$(nsims)reps_sim.csv\", ','))\n",
    "σ2MseResult_1 = vec(readdlm(\"mse_sigma_multivariate_bernoulli_AR$(nsims)reps_sim.csv\", ','))\n",
    "ρMseResult_1 = vec(readdlm(\"mse_rho_multivariate_bernoulli_AR$(nsims)reps_sim.csv\", ','))\n",
    "θMseResult_1 = (σ2MseResult_1 .+ ρMseResult_1) ./ 2\n",
    "\n",
    "βρσ2coverage_1 = readdlm(\"beta_rho_sigma_coverage_multivariate_bernoulli_AR$(nsims)reps_sim.csv\", ',')\n",
    "\n",
    "samplesizesrobust = samplesizes\n",
    "nsrobust = ns\n",
    "nsimsrobust = nsims\n",
    "\n",
    "p = 3\n",
    "sample_sizesrobust = repeat(string.(samplesizesrobust), inner = nsimsrobust * length(nsrobust))\n",
    "obs_sizesrobust = repeat(string.(nsrobust), inner = nsimsrobust, outer = length(samplesizesrobust))\n",
    "msedfrobust = DataFrame(βmse = βMseresult_1, thetamse = θMseResult_1,\n",
    "    samplesize = sample_sizesrobust, obssize = obs_sizesrobust)\n",
    "\n",
    "\n",
    "msedfrobustR = deepcopy(msedfrobust)\n",
    "rename!(msedfrobustR, [\"betamse\"\n",
    "    \"thetamse\"\n",
    "    \"samplesize\"\n",
    " \"obssize\"]);\n",
    "\n",
    "mses = [msedfrobustR[!, :betamse]; msedfrobustR[!, :thetamse]]\n",
    "    # msedfnormR[!, :betamse]; msedfnormR[!, :taumse]; msedfnormR[!, :Sigmamse]]\n",
    "obssize = collect([repeat(msedfrobustR[!, :obssize], 2)]...)\n",
    "\n",
    "samplesize = collect([repeat(msedfrobustR[!, :samplesize], 2)]...) \n",
    "\n",
    "parameters = collect([repeat(string.([:beta, :theta]), inner = nsimsrobust * length(nsrobust) * length(samplesizesrobust))]...)\n",
    "robust = collect([repeat([\"Bernoulli with LogitLink\"], 2 * nsimsrobust * length(nsrobust) * length(samplesizesrobust))]...) # ;\n",
    "\n",
    "msedfR = DataFrame(mse = mses, obssize = obssize, samplesize = samplesize,\n",
    "    parameters = parameters, robust = robust)\n",
    "\n",
    "#5 of the 30,000 simulations did not converge, filter out\n",
    "msedfR = filter(x -> !isnan(x.mse), msedfR)\n",
    "# additionally, there are 5 where an error was not caught so it did not try a differnt solver\n",
    "msedfR = filter(x -> x.mse < 4000, msedfR)"
   ]
  },
  {
   "cell_type": "code",
   "execution_count": 10,
   "metadata": {},
   "outputs": [
    {
     "name": "stderr",
     "output_type": "stream",
     "text": [
      "┌ Warning: RCall.jl: Warning: package ‘scales’ was built under R version 4.0.2\n",
      "└ @ RCall /Users/sarahji/.julia/packages/RCall/iMDW2/src/io.jl:160\n",
      "┌ Warning: RCall.jl: Warning: package ‘data.table’ was built under R version 4.0.2\n",
      "└ @ RCall /Users/sarahji/.julia/packages/RCall/iMDW2/src/io.jl:160\n"
     ]
    },
    {
     "data": {
      "image/png": "[encoded data removed]"
     },
     "metadata": {},
     "output_type": "display_data"
    },
    {
     "data": {
      "text/plain": [
       "RObject{VecSxp}\n"
      ]
     },
     "execution_count": 10,
     "metadata": {},
     "output_type": "execute_result"
    }
   ],
   "source": [
    "### working on figure next\n",
    "@rput msedfR\n",
    "\n",
    "R\"\"\"\n",
    "library(scales)\n",
    "library(ggplot2)\n",
    "library(data.table)\n",
    "\n",
    "msedfR = data.table(msedfR)\n",
    "\n",
    "msedfR[parameters == \"beta\",y_min := 10^-6]\n",
    "msedfR[parameters == \"beta\",y_max := 10^-2]\n",
    "msedfR[parameters == \"theta\",y_min := 10^-5]\n",
    "msedfR[parameters == \"theta\",y_max := 10^1]\n",
    "# msedfR[parameters == \"rho\",y_min := 10^-9]\n",
    "# msedfR[parameters == \"rho\",y_max := 10^-2]\n",
    "\n",
    "#msedfR[parameters == \"beta\",y_min := 10^-8]\n",
    "#msedfR[parameters == \"beta\",y_max := 10^-2]\n",
    "#msedfR[parameters == \"tau\",y_min := 10^-8]\n",
    "#msedfR[parameters == \"tau\",y_max := 10^-2]\n",
    "#msedfR[parameters == \"Sigma\",y_min := 10^-5]\n",
    "#msedfR[parameters == \"Sigma\",y_max := 10^-2]\n",
    "\n",
    "\n",
    "msedfR$obssize = factor(msedfR$obssize, levels = c('2', '5', '10', '15', '20', '25'))\n",
    "msedfR$samplesize = factor(msedfR$samplesize, levels = c('100', '1000', '10000'))\n",
    "msedfR$parameters = factor(msedfR$parameters, levels = c('beta', 'theta'), labels = c(beta = expression(hat(bold(beta))), theta = expression(hat(bold(theta)))))\n",
    "msedfR$robust = factor(msedfR$robust, levels = c('Bernoulli with LogitLink'),\n",
    "    labels = c(expression(paste(\"Bernoulli with LogitLink\")))) # , expression(paste(\"MvT Gamma Inverse-Gamma\"))))\n",
    "\n",
    "\n",
    "#mseplot <- ggplot(msedfR[msedfR$mse < 10^0, ], aes(x=samplesize, y=mse, fill=obssize)) + \n",
    "mseplot = ggplot(msedfR[msedfR$mse < 10^3, ], aes(x=samplesize, y=mse, fill=obssize)) + \n",
    "  #geom_boxplot(outlier.size = 0.0, outlier.alpha = 0) +\n",
    "  geom_boxplot(outlier.size = 0.25) +\n",
    "#    geom_violin() +\n",
    "    facet_grid(parameters ~ robust, labeller = label_parsed, scales = \"free_y\") +\n",
    "  theme(legend.position=\"right\", legend.key = element_blank(), axis.text.x = element_text(angle=0, size=15),\n",
    "        axis.text.y = element_text(angle=0, size=15), axis.title.x = element_text(size = 20), \n",
    "        axis.title.y = element_text(size = 20), legend.title = element_text(size = 20),\n",
    "        panel.grid.major = element_blank(), panel.grid.minor = element_blank(),\n",
    "        legend.text=element_text(size=15), panel.background = element_rect(fill = NA, color = \"black\"),\n",
    "        #panel.background = element_blank(), #panel.border = element_blank(),\n",
    "        axis.line = element_line(color = 'black',size=0.3), plot.title = element_text(hjust = 0.5),\n",
    "        strip.background = element_rect(colour=\"black\", fill=\"white\"), strip.text.y = element_text(size=30, face=\"bold\"),\n",
    "        strip.text.x = element_text(size=20)) + \n",
    "  scale_fill_manual(values = c(\"#c85f55\",\n",
    "\"#a964bf\",\n",
    "\"#8db352\",\n",
    "\"#fa7300\",\n",
    "\"#05aec0\",\n",
    "\"#ff1493\")) +\n",
    "#scale_y_log10(breaks = scales::trans_breaks(\"log10\", function(x) 10^x)) +\n",
    "#scale_y_log10(breaks = 10^(-8:8), limit=c(10^-8, 10^2)) + \n",
    "scale_y_log10(breaks = 10^seq(-10, 10, 2), labels=trans_format(\"log10\", math_format(10^.x))) + #, limit=c(10^-8, 10^2)) +\n",
    "  labs(x = \"Sample Size\", y = \"MSE of Parameter Estimates\", fill = \"Cluster Size\") +\n",
    "geom_blank(aes(y = y_max)) + \n",
    "geom_blank(aes(y = y_min)) \n",
    "\n",
    "\"\"\""
   ]
  },
  {
   "cell_type": "code",
   "execution_count": 11,
   "metadata": {},
   "outputs": [
    {
     "data": {
      "text/plain": [
       "RObject{StrSxp}\n",
       "[1] \"updated_msefacetplot_bernoulli_AR_uni2_rho_sigma2_0.5.png\"\n"
      ]
     },
     "execution_count": 11,
     "metadata": {},
     "output_type": "execute_result"
    }
   ],
   "source": [
    "R\"\"\"\n",
    "ggsave('updated_msefacetplot_bernoulli_AR_uni2_rho_sigma2_0.5.png', mseplot, width = 12.5, height = 15, units = 'in', dpi = 450)\n",
    "\"\"\""
   ]
  },
  {
   "cell_type": "code",
   "execution_count": null,
   "metadata": {},
   "outputs": [],
   "source": []
  }
 ],
 "metadata": {
  "@webio": {
   "lastCommId": null,
   "lastKernelId": null
  },
  "kernelspec": {
   "display_name": "Julia 1.6.2",
   "language": "julia",
   "name": "julia-1.6"
  },
  "language_info": {
   "file_extension": ".jl",
   "mimetype": "application/julia",
   "name": "julia",
   "version": "1.6.2"
  }
 },
 "nbformat": 4,
 "nbformat_minor": 2
}
