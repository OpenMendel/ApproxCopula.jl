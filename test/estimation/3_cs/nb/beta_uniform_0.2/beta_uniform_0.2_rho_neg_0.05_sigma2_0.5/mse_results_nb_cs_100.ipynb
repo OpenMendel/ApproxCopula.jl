{
 "cells": [
  {
   "cell_type": "markdown",
   "metadata": {},
   "source": [
    "## NegativeBinomial CS Results \n",
    "\n",
    "This notebook goes over the code needed to reproduce the results from the MSE and time figures in the first simulation in the paper. \n",
    "\n",
    "In this example we have Negative Binomial base distribution with Log Link function and covariance matrix $\\Gamma$ structured under CS covariance with $\\rho = -0.05, \\sigma^2 = 0.5$"
   ]
  },
  {
   "cell_type": "code",
   "execution_count": 1,
   "metadata": {},
   "outputs": [
    {
     "name": "stdout",
     "output_type": "stream",
     "text": [
      "Julia Version 1.6.2\n",
      "Commit 1b93d53fc4 (2021-07-14 15:36 UTC)\n",
      "Platform Info:\n",
      "  OS: macOS (x86_64-apple-darwin18.7.0)\n",
      "  CPU: Intel(R) Core(TM) i9-9880H CPU @ 2.30GHz\n",
      "  WORD_SIZE: 64\n",
      "  LIBM: libopenlibm\n",
      "  LLVM: libLLVM-11.0.1 (ORCJIT, skylake)\n"
     ]
    }
   ],
   "source": [
    "versioninfo()"
   ]
  },
  {
   "cell_type": "code",
   "execution_count": 2,
   "metadata": {},
   "outputs": [],
   "source": [
    "using GLMCopula, DelimitedFiles, LinearAlgebra, Random, GLM\n",
    "using Random, Roots, SpecialFunctions, DataFrames"
   ]
  },
  {
   "cell_type": "code",
   "execution_count": 3,
   "metadata": {},
   "outputs": [
    {
     "data": {
      "text/plain": [
       "5"
      ]
     },
     "execution_count": 3,
     "metadata": {},
     "output_type": "execute_result"
    }
   ],
   "source": [
    "p  = 3    # number of fixed effects, including intercept\n",
    "\n",
    "# true parameter values\n",
    "Random.seed!(12345)\n",
    "βtrue = rand(Uniform(-0.2, 0.2), p)\n",
    "σ2true = [0.5]\n",
    "ρtrue = [-0.05]\n",
    "θtrue = [σ2true; ρtrue]\n",
    "rtrue = 10.0\n",
    "\n",
    "# generate data\n",
    "trueparams = [βtrue; θtrue; rtrue] #hold true parameters\n",
    "\n",
    "#simulation parameters\n",
    "samplesizes = [100; 1000; 10000]\n",
    "ns = [2; 5; 10; 15; 20; 25]\n",
    "nsims = 100"
   ]
  },
  {
   "cell_type": "code",
   "execution_count": 4,
   "metadata": {},
   "outputs": [
    {
     "name": "stderr",
     "output_type": "stream",
     "text": [
      "┌ Info: reading in the files with results\n",
      "└ @ Main In[4]:1\n"
     ]
    },
    {
     "ename": "LoadError",
     "evalue": "ArgumentError: Cannot open 'mse_beta_multivariate_nb_CS5reps_sim.csv': not a file",
     "output_type": "error",
     "traceback": [
      "ArgumentError: Cannot open 'mse_beta_multivariate_nb_CS5reps_sim.csv': not a file",
      "",
      "Stacktrace:",
      " [1] readdlm_auto(input::String, dlm::Char, T::Type, eol::Char, auto::Bool; opts::Base.Iterators.Pairs{Union{}, Union{}, Tuple{}, NamedTuple{(), Tuple{}}})",
      "   @ DelimitedFiles /Users/julia/buildbot/worker/package_macos64/build/usr/share/julia/stdlib/v1.6/DelimitedFiles/src/DelimitedFiles.jl:233",
      " [2] readdlm_auto",
      "   @ /Users/julia/buildbot/worker/package_macos64/build/usr/share/julia/stdlib/v1.6/DelimitedFiles/src/DelimitedFiles.jl:233 [inlined]",
      " [3] #readdlm#5",
      "   @ /Users/julia/buildbot/worker/package_macos64/build/usr/share/julia/stdlib/v1.6/DelimitedFiles/src/DelimitedFiles.jl:170 [inlined]",
      " [4] readdlm",
      "   @ /Users/julia/buildbot/worker/package_macos64/build/usr/share/julia/stdlib/v1.6/DelimitedFiles/src/DelimitedFiles.jl:170 [inlined]",
      " [5] #readdlm#4",
      "   @ /Users/julia/buildbot/worker/package_macos64/build/usr/share/julia/stdlib/v1.6/DelimitedFiles/src/DelimitedFiles.jl:162 [inlined]",
      " [6] readdlm(input::String, dlm::Char)",
      "   @ DelimitedFiles /Users/julia/buildbot/worker/package_macos64/build/usr/share/julia/stdlib/v1.6/DelimitedFiles/src/DelimitedFiles.jl:162",
      " [7] top-level scope",
      "   @ In[4]:2",
      " [8] eval",
      "   @ ./boot.jl:360 [inlined]",
      " [9] include_string(mapexpr::typeof(REPL.softscope), mod::Module, code::String, filename::String)",
      "   @ Base ./loading.jl:1116"
     ]
    }
   ],
   "source": [
    "@info \"reading in the files with results\"\n",
    "βMseresult = vec(readdlm(\"mse_beta_multivariate_nb_CS$(nsims)reps_sim.csv\", ','))\n",
    "σ2MseResult = vec(readdlm(\"mse_sigma_multivariate_nb_CS$(nsims)reps_sim.csv\", ','))\n",
    "ρMseResult = vec(readdlm(\"mse_rho_multivariate_nb_CS$(nsims)reps_sim.csv\", ','))\n",
    "fittimes = vec(readdlm(\"fittimes_multivariate_nb_CS$(nsims)reps_sim.csv\", ','))"
   ]
  },
  {
   "cell_type": "code",
   "execution_count": 5,
   "metadata": {},
   "outputs": [
    {
     "name": "stderr",
     "output_type": "stream",
     "text": [
      "┌ Info: making results table\n",
      "└ @ Main In[5]:2\n"
     ]
    },
    {
     "ename": "LoadError",
     "evalue": "UndefVarError: βMseresult not defined",
     "output_type": "error",
     "traceback": [
      "UndefVarError: βMseresult not defined",
      "",
      "Stacktrace:",
      " [1] top-level scope",
      "   @ In[5]:6",
      " [2] eval",
      "   @ ./boot.jl:360 [inlined]",
      " [3] include_string(mapexpr::typeof(REPL.softscope), mod::Module, code::String, filename::String)",
      "   @ Base ./loading.jl:1116"
     ]
    }
   ],
   "source": [
    "#simulation parameters\n",
    "@info \"making results table\"\n",
    "sample_sizes = repeat(string.(samplesizes), inner = nsims * length(ns))\n",
    "obs_sizes = repeat(string.(ns), inner = nsims, outer = length(samplesizes))\n",
    "\n",
    "msedf = DataFrame(βmse = βMseresult, σ2mse = σ2MseResult, ρmse = ρMseResult,\n",
    "    samplesize = sample_sizes, obssize = obs_sizes, fittimes = fittimes)\n",
    "\n",
    "\n",
    "msedf = filter(x -> !isnan(x.fittimes), msedf)\n",
    "\n",
    "timedf = combine(groupby(msedf, [:samplesize, :obssize]), :fittimes => mean => :fittime,\n",
    "    :fittimes => x -> (std(x)/sqrt(length(x))))\n",
    "rename!(timedf, Dict(:fittimes_function => \"se\"))\n",
    "timedf[!, :nobs] = Meta.parse.(timedf[!, :samplesize]) .* Meta.parse.(timedf[!, :obssize])\n",
    "timedf[!, :fitmin] = timedf[!, :fittime] - timedf[!, :se]\n",
    "timedf[!, :fitmax] = timedf[!, :fittime] + timedf[!, :se]\n",
    "timedf[!, :perobsratio] = timedf[!, :fittime] ./ timedf[!, :nobs]\n",
    "timedf"
   ]
  },
  {
   "cell_type": "code",
   "execution_count": 6,
   "metadata": {},
   "outputs": [
    {
     "ename": "LoadError",
     "evalue": "UndefVarError: timedf not defined",
     "output_type": "error",
     "traceback": [
      "UndefVarError: timedf not defined",
      "",
      "Stacktrace:",
      " [1] top-level scope",
      "   @ In[6]:3",
      " [2] eval",
      "   @ ./boot.jl:360 [inlined]",
      " [3] include_string(mapexpr::typeof(REPL.softscope), mod::Module, code::String, filename::String)",
      "   @ Base ./loading.jl:1116"
     ]
    }
   ],
   "source": [
    "########### plot the runtimes\n",
    "using RCall\n",
    "@rput timedf\n",
    "\n",
    "R\"\"\"\n",
    "library(ggplot2)\n",
    "timedf$obssize = factor(timedf$obssize, levels = c('2', '5', '10', '15', '20', '25'))\n",
    "timedf$samplesize = factor(timedf$samplesize, levels = c('100', '1000', '10000'))\n",
    "\n",
    "fittime_1 = ggplot(timedf, aes(x = samplesize, y = fittime, group = obssize, color = obssize)) + \n",
    "  geom_line() +\n",
    "  geom_point()+\n",
    "  geom_errorbar(aes(ymin=fitmin, ymax=fitmax), width=0.5, alpha = 0.8, position=position_dodge(0.005)) + \n",
    "  theme(legend.position=c(0.15,0.85), legend.key = element_blank(), axis.text.x = element_text(angle=0, size=13),\n",
    "        axis.text.y = element_text(angle=0, size=13), axis.title.x = element_text(size = 17), \n",
    "        axis.title.y = element_text(size = 17), legend.title = element_text(size = 14),\n",
    "        #axis.ticks = element_blank(),\n",
    "        panel.grid.major = element_blank(), legend.text=element_text(size=13),\n",
    "        panel.border = element_blank(), panel.grid.minor = element_blank(), panel.background = element_blank(), \n",
    "        axis.line = element_line(color = 'black',size=0.3), plot.title = element_text(hjust = 0.5)) + \n",
    "   scale_color_manual(values = c(\"#c85f55\",\n",
    "\"#a964bf\",\n",
    "\"#8db352\",\n",
    "\"#fa7300\",\n",
    "\"#05aec0\",\n",
    "\"#ff1493\")) +\n",
    "  labs(x = \"Number of Individuals\", y = \"Fit time (seconds)\", color = \"Obs per Individual\")\n",
    "\"\"\""
   ]
  },
  {
   "cell_type": "code",
   "execution_count": 7,
   "metadata": {},
   "outputs": [
    {
     "ename": "LoadError",
     "evalue": "REvalError: Error in ggsave(\"fittime_nsamples_nb_CS_rho_neg_0.05_sigma2_0.5.png\",  : \n  could not find function \"ggsave\"",
     "output_type": "error",
     "traceback": [
      "REvalError: Error in ggsave(\"fittime_nsamples_nb_CS_rho_neg_0.05_sigma2_0.5.png\",  : \n  could not find function \"ggsave\"",
      "",
      "Stacktrace:",
      " [1] handle_eval_stderr(; as_warning::Bool)",
      "   @ RCall ~/.julia/packages/RCall/6kphM/src/io.jl:174",
      " [2] reval_p(expr::Ptr{LangSxp}, env::Ptr{EnvSxp})",
      "   @ RCall ~/.julia/packages/RCall/6kphM/src/eval.jl:103",
      " [3] reval_p(expr::Ptr{RCall.ExprSxp}, env::Ptr{EnvSxp})",
      "   @ RCall ~/.julia/packages/RCall/6kphM/src/eval.jl:119",
      " [4] reval(str::String, env::RObject{EnvSxp})",
      "   @ RCall ~/.julia/packages/RCall/6kphM/src/eval.jl:136",
      " [5] top-level scope",
      "   @ ~/.julia/packages/RCall/6kphM/src/macros.jl:71",
      " [6] eval",
      "   @ ./boot.jl:360 [inlined]",
      " [7] include_string(mapexpr::typeof(REPL.softscope), mod::Module, code::String, filename::String)",
      "   @ Base ./loading.jl:1116"
     ]
    }
   ],
   "source": [
    "R\"\"\"\n",
    "ggsave('fittime_nsamples_nb_CS_rho_neg_0.05_sigma2_0.5.png', fittime_1, width = 12.5, height = 15, units = 'in', dpi = 450)\n",
    "\"\"\""
   ]
  },
  {
   "cell_type": "code",
   "execution_count": 8,
   "metadata": {},
   "outputs": [
    {
     "ename": "LoadError",
     "evalue": "ArgumentError: Cannot open 'beta_rho_sigma_coverage_multivariate_nb_CS5reps_sim.csv': not a file",
     "output_type": "error",
     "traceback": [
      "ArgumentError: Cannot open 'beta_rho_sigma_coverage_multivariate_nb_CS5reps_sim.csv': not a file",
      "",
      "Stacktrace:",
      " [1] readdlm_auto(input::String, dlm::Char, T::Type, eol::Char, auto::Bool; opts::Base.Iterators.Pairs{Union{}, Union{}, Tuple{}, NamedTuple{(), Tuple{}}})",
      "   @ DelimitedFiles /Users/julia/buildbot/worker/package_macos64/build/usr/share/julia/stdlib/v1.6/DelimitedFiles/src/DelimitedFiles.jl:233",
      " [2] readdlm_auto",
      "   @ /Users/julia/buildbot/worker/package_macos64/build/usr/share/julia/stdlib/v1.6/DelimitedFiles/src/DelimitedFiles.jl:233 [inlined]",
      " [3] #readdlm#5",
      "   @ /Users/julia/buildbot/worker/package_macos64/build/usr/share/julia/stdlib/v1.6/DelimitedFiles/src/DelimitedFiles.jl:170 [inlined]",
      " [4] readdlm",
      "   @ /Users/julia/buildbot/worker/package_macos64/build/usr/share/julia/stdlib/v1.6/DelimitedFiles/src/DelimitedFiles.jl:170 [inlined]",
      " [5] #readdlm#4",
      "   @ /Users/julia/buildbot/worker/package_macos64/build/usr/share/julia/stdlib/v1.6/DelimitedFiles/src/DelimitedFiles.jl:162 [inlined]",
      " [6] readdlm(input::String, dlm::Char)",
      "   @ DelimitedFiles /Users/julia/buildbot/worker/package_macos64/build/usr/share/julia/stdlib/v1.6/DelimitedFiles/src/DelimitedFiles.jl:162",
      " [7] top-level scope",
      "   @ In[8]:5",
      " [8] eval",
      "   @ ./boot.jl:360 [inlined]",
      " [9] include_string(mapexpr::typeof(REPL.softscope), mod::Module, code::String, filename::String)",
      "   @ Base ./loading.jl:1116"
     ]
    }
   ],
   "source": [
    "######  supplementary table s1\n",
    "using Random, DataFrames, DelimitedFiles, Statistics\n",
    "import StatsBase: sem\n",
    "\n",
    "βρσ2rcoverage = readdlm(\"beta_rho_sigma_coverage_multivariate_nb_CS$(nsims)reps_sim.csv\", ',')\n",
    "\n",
    "m = 2\n",
    "\n",
    "covdf = DataFrame(Matrix(transpose(βρσ2rcoverage)), :auto)\n",
    "rename!(covdf, Symbol.([[\"β$i\" for i in 1:p];  [\"ρ\"];[\"σ2\"]; [\"r\"]]))\n",
    "covdf[!, :samplesize] = sample_sizes\n",
    "covdf[!, :obssize] = obs_sizes\n",
    "first(covdf, 10)\n",
    "\n",
    "row_stats = [[(mean(col), sem(col)) for col = eachcol(d[!, 1:end-2])] for d = groupby(covdf, [:samplesize; :obssize])]\n",
    "df = DataFrame(row_stats, :auto)\n",
    "ss_obs = unique(\"N: \" .* sample_sizes .* \"  ni: \" .* obs_sizes)\n",
    "rename!(df, Symbol.(ss_obs))\n",
    "covdfdisplay = DataFrame([[names(df)]; collect.(eachrow(df))], \n",
    "    [:people_obs; Symbol.([[\"β$i\" for i in 1:p]; [\"ρ\"];  [\"σ2\"]; [\"r\"]])])\n",
    "covdfdisplay\n"
   ]
  },
  {
   "cell_type": "code",
   "execution_count": 13,
   "metadata": {},
   "outputs": [
    {
     "data": {
      "text/html": [
       "<div class=\"data-frame\"><p>360 rows × 5 columns</p><table class=\"data-frame\"><thead><tr><th></th><th>mse</th><th>obssize</th><th>samplesize</th><th>parameters</th><th>labels</th></tr><tr><th></th><th title=\"Float64\">Float64</th><th title=\"String\">String</th><th title=\"String\">String</th><th title=\"String\">String</th><th title=\"String\">String</th></tr></thead><tbody><tr><th>1</th><td>0.00459998</td><td>2</td><td>100</td><td>beta</td><td>Negative Binomial with Log Link</td></tr><tr><th>2</th><td>0.00518608</td><td>2</td><td>100</td><td>beta</td><td>Negative Binomial with Log Link</td></tr><tr><th>3</th><td>0.00671099</td><td>2</td><td>100</td><td>beta</td><td>Negative Binomial with Log Link</td></tr><tr><th>4</th><td>0.00282096</td><td>2</td><td>100</td><td>beta</td><td>Negative Binomial with Log Link</td></tr><tr><th>5</th><td>0.00249406</td><td>2</td><td>100</td><td>beta</td><td>Negative Binomial with Log Link</td></tr><tr><th>6</th><td>0.00545415</td><td>5</td><td>100</td><td>beta</td><td>Negative Binomial with Log Link</td></tr><tr><th>7</th><td>0.00768286</td><td>5</td><td>100</td><td>beta</td><td>Negative Binomial with Log Link</td></tr><tr><th>8</th><td>0.00451658</td><td>5</td><td>100</td><td>beta</td><td>Negative Binomial with Log Link</td></tr><tr><th>9</th><td>0.0038264</td><td>5</td><td>100</td><td>beta</td><td>Negative Binomial with Log Link</td></tr><tr><th>10</th><td>0.00119065</td><td>5</td><td>100</td><td>beta</td><td>Negative Binomial with Log Link</td></tr><tr><th>11</th><td>0.00114095</td><td>10</td><td>100</td><td>beta</td><td>Negative Binomial with Log Link</td></tr><tr><th>12</th><td>0.000315614</td><td>10</td><td>100</td><td>beta</td><td>Negative Binomial with Log Link</td></tr><tr><th>13</th><td>0.00121369</td><td>10</td><td>100</td><td>beta</td><td>Negative Binomial with Log Link</td></tr><tr><th>14</th><td>0.00100652</td><td>10</td><td>100</td><td>beta</td><td>Negative Binomial with Log Link</td></tr><tr><th>15</th><td>0.00290023</td><td>10</td><td>100</td><td>beta</td><td>Negative Binomial with Log Link</td></tr><tr><th>16</th><td>0.000353161</td><td>15</td><td>100</td><td>beta</td><td>Negative Binomial with Log Link</td></tr><tr><th>17</th><td>5.5905e-5</td><td>15</td><td>100</td><td>beta</td><td>Negative Binomial with Log Link</td></tr><tr><th>18</th><td>0.000854225</td><td>15</td><td>100</td><td>beta</td><td>Negative Binomial with Log Link</td></tr><tr><th>19</th><td>0.000293591</td><td>15</td><td>100</td><td>beta</td><td>Negative Binomial with Log Link</td></tr><tr><th>20</th><td>0.00203196</td><td>15</td><td>100</td><td>beta</td><td>Negative Binomial with Log Link</td></tr><tr><th>21</th><td>0.00105071</td><td>20</td><td>100</td><td>beta</td><td>Negative Binomial with Log Link</td></tr><tr><th>22</th><td>0.000978987</td><td>20</td><td>100</td><td>beta</td><td>Negative Binomial with Log Link</td></tr><tr><th>23</th><td>0.000597854</td><td>20</td><td>100</td><td>beta</td><td>Negative Binomial with Log Link</td></tr><tr><th>24</th><td>0.000851229</td><td>20</td><td>100</td><td>beta</td><td>Negative Binomial with Log Link</td></tr><tr><th>25</th><td>0.000792935</td><td>20</td><td>100</td><td>beta</td><td>Negative Binomial with Log Link</td></tr><tr><th>26</th><td>7.91525e-5</td><td>25</td><td>100</td><td>beta</td><td>Negative Binomial with Log Link</td></tr><tr><th>27</th><td>0.000625247</td><td>25</td><td>100</td><td>beta</td><td>Negative Binomial with Log Link</td></tr><tr><th>28</th><td>0.000265929</td><td>25</td><td>100</td><td>beta</td><td>Negative Binomial with Log Link</td></tr><tr><th>29</th><td>0.00104364</td><td>25</td><td>100</td><td>beta</td><td>Negative Binomial with Log Link</td></tr><tr><th>30</th><td>0.00047877</td><td>25</td><td>100</td><td>beta</td><td>Negative Binomial with Log Link</td></tr><tr><th>&vellip;</th><td>&vellip;</td><td>&vellip;</td><td>&vellip;</td><td>&vellip;</td><td>&vellip;</td></tr></tbody></table></div>"
      ],
      "text/latex": [
       "\\begin{tabular}{r|ccccc}\n",
       "\t& mse & obssize & samplesize & parameters & labels\\\\\n",
       "\t\\hline\n",
       "\t& Float64 & String & String & String & String\\\\\n",
       "\t\\hline\n",
       "\t1 & 0.00459998 & 2 & 100 & beta & Negative Binomial with Log Link \\\\\n",
       "\t2 & 0.00518608 & 2 & 100 & beta & Negative Binomial with Log Link \\\\\n",
       "\t3 & 0.00671099 & 2 & 100 & beta & Negative Binomial with Log Link \\\\\n",
       "\t4 & 0.00282096 & 2 & 100 & beta & Negative Binomial with Log Link \\\\\n",
       "\t5 & 0.00249406 & 2 & 100 & beta & Negative Binomial with Log Link \\\\\n",
       "\t6 & 0.00545415 & 5 & 100 & beta & Negative Binomial with Log Link \\\\\n",
       "\t7 & 0.00768286 & 5 & 100 & beta & Negative Binomial with Log Link \\\\\n",
       "\t8 & 0.00451658 & 5 & 100 & beta & Negative Binomial with Log Link \\\\\n",
       "\t9 & 0.0038264 & 5 & 100 & beta & Negative Binomial with Log Link \\\\\n",
       "\t10 & 0.00119065 & 5 & 100 & beta & Negative Binomial with Log Link \\\\\n",
       "\t11 & 0.00114095 & 10 & 100 & beta & Negative Binomial with Log Link \\\\\n",
       "\t12 & 0.000315614 & 10 & 100 & beta & Negative Binomial with Log Link \\\\\n",
       "\t13 & 0.00121369 & 10 & 100 & beta & Negative Binomial with Log Link \\\\\n",
       "\t14 & 0.00100652 & 10 & 100 & beta & Negative Binomial with Log Link \\\\\n",
       "\t15 & 0.00290023 & 10 & 100 & beta & Negative Binomial with Log Link \\\\\n",
       "\t16 & 0.000353161 & 15 & 100 & beta & Negative Binomial with Log Link \\\\\n",
       "\t17 & 5.5905e-5 & 15 & 100 & beta & Negative Binomial with Log Link \\\\\n",
       "\t18 & 0.000854225 & 15 & 100 & beta & Negative Binomial with Log Link \\\\\n",
       "\t19 & 0.000293591 & 15 & 100 & beta & Negative Binomial with Log Link \\\\\n",
       "\t20 & 0.00203196 & 15 & 100 & beta & Negative Binomial with Log Link \\\\\n",
       "\t21 & 0.00105071 & 20 & 100 & beta & Negative Binomial with Log Link \\\\\n",
       "\t22 & 0.000978987 & 20 & 100 & beta & Negative Binomial with Log Link \\\\\n",
       "\t23 & 0.000597854 & 20 & 100 & beta & Negative Binomial with Log Link \\\\\n",
       "\t24 & 0.000851229 & 20 & 100 & beta & Negative Binomial with Log Link \\\\\n",
       "\t25 & 0.000792935 & 20 & 100 & beta & Negative Binomial with Log Link \\\\\n",
       "\t26 & 7.91525e-5 & 25 & 100 & beta & Negative Binomial with Log Link \\\\\n",
       "\t27 & 0.000625247 & 25 & 100 & beta & Negative Binomial with Log Link \\\\\n",
       "\t28 & 0.000265929 & 25 & 100 & beta & Negative Binomial with Log Link \\\\\n",
       "\t29 & 0.00104364 & 25 & 100 & beta & Negative Binomial with Log Link \\\\\n",
       "\t30 & 0.00047877 & 25 & 100 & beta & Negative Binomial with Log Link \\\\\n",
       "\t$\\dots$ & $\\dots$ & $\\dots$ & $\\dots$ & $\\dots$ & $\\dots$ \\\\\n",
       "\\end{tabular}\n"
      ],
      "text/plain": [
       "\u001b[1m360×5 DataFrame\u001b[0m\n",
       "\u001b[1m Row \u001b[0m│\u001b[1m mse         \u001b[0m\u001b[1m obssize \u001b[0m\u001b[1m samplesize \u001b[0m\u001b[1m parameters \u001b[0m\u001b[1m labels                   \u001b[0m ⋯\n",
       "\u001b[1m     \u001b[0m│\u001b[90m Float64     \u001b[0m\u001b[90m String  \u001b[0m\u001b[90m String     \u001b[0m\u001b[90m String     \u001b[0m\u001b[90m String                   \u001b[0m ⋯\n",
       "─────┼──────────────────────────────────────────────────────────────────────────\n",
       "   1 │ 0.00459998   2        100         beta        Negative Binomial with Lo ⋯\n",
       "   2 │ 0.00518608   2        100         beta        Negative Binomial with Lo\n",
       "   3 │ 0.00671099   2        100         beta        Negative Binomial with Lo\n",
       "   4 │ 0.00282096   2        100         beta        Negative Binomial with Lo\n",
       "   5 │ 0.00249406   2        100         beta        Negative Binomial with Lo ⋯\n",
       "   6 │ 0.00545415   5        100         beta        Negative Binomial with Lo\n",
       "   7 │ 0.00768286   5        100         beta        Negative Binomial with Lo\n",
       "   8 │ 0.00451658   5        100         beta        Negative Binomial with Lo\n",
       "   9 │ 0.0038264    5        100         beta        Negative Binomial with Lo ⋯\n",
       "  10 │ 0.00119065   5        100         beta        Negative Binomial with Lo\n",
       "  11 │ 0.00114095   10       100         beta        Negative Binomial with Lo\n",
       "  ⋮  │      ⋮          ⋮         ⋮           ⋮                      ⋮          ⋱\n",
       " 351 │ 0.574694     20       10000       r           Negative Binomial with Lo\n",
       " 352 │ 0.00158469   20       10000       r           Negative Binomial with Lo ⋯\n",
       " 353 │ 2.40487      20       10000       r           Negative Binomial with Lo\n",
       " 354 │ 0.296605     20       10000       r           Negative Binomial with Lo\n",
       " 355 │ 0.550807     20       10000       r           Negative Binomial with Lo\n",
       " 356 │ 0.0344412    25       10000       r           Negative Binomial with Lo ⋯\n",
       " 357 │ 3.54364      25       10000       r           Negative Binomial with Lo\n",
       " 358 │ 0.0321779    25       10000       r           Negative Binomial with Lo\n",
       " 359 │ 0.524183     25       10000       r           Negative Binomial with Lo\n",
       " 360 │ 0.0018822    25       10000       r           Negative Binomial with Lo ⋯\n",
       "\u001b[36m                                                   1 column and 339 rows omitted\u001b[0m"
      ]
     },
     "execution_count": 13,
     "metadata": {},
     "output_type": "execute_result"
    }
   ],
   "source": [
    "#### \n",
    "#import data and reorganize to create figure\n",
    "using Random, DataFrames, DelimitedFiles, Statistics, RCall, Printf\n",
    "import StatsBase: sem\n",
    "\n",
    "βMseresult_1 = vec(readdlm(\"mse_beta_multivariate_nb_CS$(nsims)reps_sim.csv\", ','))\n",
    "σ2MseResult_1 = vec(readdlm(\"mse_sigma_multivariate_nb_CS$(nsims)reps_sim.csv\", ','))\n",
    "ρMseResult_1 = vec(readdlm(\"mse_rho_multivariate_nb_CS$(nsims)reps_sim.csv\", ','))\n",
    "θMseResult_1 = (σ2MseResult_1 .+ ρMseResult_1) ./ 2\n",
    "rMseResult_1 = vec(readdlm(\"mse_r_multivariate_nb_CS$(nsims)reps_sim.csv\", ','))\n",
    "βρσ2τcoverage_1 = readdlm(\"beta_rho_sigma_coverage_multivariate_nb_CS$(nsims)reps_sim.csv\", ',')\n",
    "\n",
    "p = 3\n",
    "sample_sizes = repeat(string.(samplesizes), inner = nsims * length(ns))\n",
    "obs_sizes = repeat(string.(ns), inner = nsims, outer = length(samplesizes))\n",
    "msedf = DataFrame(βmse = βMseresult_1, θmse = θMseResult_1, rmse = rMseResult_1,\n",
    "    samplesize = sample_sizes, obssize = obs_sizes)\n",
    "\n",
    "# msedf = DataFrame(βmse = βMseresult_1, ρMse = ρMseResult_1, σ2Mse = σ2MseResult_1, rmse = rMseResult_1,\n",
    "#     samplesize = sample_sizes, obssize = obs_sizes)\n",
    "\n",
    "\n",
    "msedf = deepcopy(msedf)\n",
    "rename!(msedf, [\"betamse\"\n",
    "    \"thetamse\"\n",
    "        \"rmse\"\n",
    "    \"samplesize\"\n",
    " \"obssize\"]);\n",
    "\n",
    "# rename!(msedf, [\"betamse\"\n",
    "#     \"rhomse\"\n",
    "#         \"sigma2mse\"\n",
    "#         \"rmse\"\n",
    "#     \"samplesize\"\n",
    "#  \"obssize\"]);\n",
    "\n",
    "mses = [msedf[!, :betamse]; msedf[!, :thetamse] ; msedf[!, :rmse]]\n",
    "\n",
    "obssize = collect([repeat(msedf[!, :obssize], 3)]...) \n",
    "\n",
    "samplesize = collect([repeat(msedf[!, :samplesize], 3)]...) \n",
    "\n",
    "parameters = collect([repeat(string.([:beta, :theta, :r]), inner = nsims * length(ns) * length(samplesizes))]...)\n",
    "\n",
    "labels = collect([repeat([\"Negative Binomial CS with Log Link\"], 3 * nsims * length(ns) * length(samplesizes))]...) # ;\n",
    "\n",
    "mse_df = DataFrame(mse = mses, obssize = obssize, samplesize = samplesize,\n",
    "    parameters = parameters, labels = labels)\n",
    "\n",
    "#5 of the 30,000 simulations did not converge, filter out\n",
    "mse_df = filter(x -> !isnan(x.mse), mse_df)\n",
    "# additionally, there are 5 where an error was not caught so it did not try a differnt solver\n",
    "mse_df = filter(x -> x.mse < 40000, mse_df)\n"
   ]
  },
  {
   "cell_type": "code",
   "execution_count": 17,
   "metadata": {},
   "outputs": [
    {
     "data": {
      "image/png": "[encoded data removed]"
     },
     "metadata": {},
     "output_type": "display_data"
    },
    {
     "data": {
      "text/plain": [
       "RObject{VecSxp}\n"
      ]
     },
     "execution_count": 17,
     "metadata": {},
     "output_type": "execute_result"
    }
   ],
   "source": [
    "### working on figure next\n",
    "@rput mse_df\n",
    "\n",
    "R\"\"\"\n",
    "library(scales)\n",
    "library(ggplot2)\n",
    "library(data.table)\n",
    "\n",
    "msedfR = data.table(mse_df)\n",
    "\n",
    "msedfR[parameters == \"beta\",y_min := 10^-4]\n",
    "msedfR[parameters == \"beta\",y_max := 10^-2]\n",
    "msedfR[parameters == \"sigma\",y_min := 10^-5]\n",
    "msedfR[parameters == \"sigma\",y_max := 10^1]\n",
    "msedfR[parameters == \"rho\",y_min := 10^-5]\n",
    "msedfR[parameters == \"rho\",y_max := 10^-2]\n",
    "msedfR[parameters == \"r\",y_min := 10^-5]\n",
    "msedfR[parameters == \"r\",y_max := 10^2]\n",
    "\n",
    "\n",
    "msedfR$obssize = factor(msedfR$obssize, levels = c('2', '5', '10', '15', '20', '25'))\n",
    "msedfR$samplesize = factor(msedfR$samplesize, levels = c('100', '1000', '10000'))\n",
    "msedfR$parameters = factor(msedfR$parameters, levels = c('beta', 'theta', 'r'), labels = c(beta = expression(hat(bold(beta))), theta = expression(hat(bold(theta))[]), r = expression(hat(bold(r)))))\n",
    "msedfR$robust = factor(msedfR$labels, levels = c('Negative Binomial CS with Log Link'),\n",
    "    labels = c(expression(paste(\"Negative Binomial CS with Log Link\")))) # , expression(paste(\"MvT Gamma Inverse-Gamma\"))))\n",
    "\n",
    "\n",
    "#mseplot <- ggplot(msedfR[msedfR$mse < 10^0, ], aes(x=samplesize, y=mse, fill=obssize)) + \n",
    "mseplot = ggplot(msedfR[msedfR$mse < 10^3, ], aes(x=samplesize, y=mse, fill=obssize)) + \n",
    "  #geom_boxplot(outlier.size = 0.0, outlier.alpha = 0) +\n",
    "  geom_boxplot(outlier.size = 0.25) +\n",
    "#    geom_violin() +\n",
    "    facet_grid(parameters ~ robust, labeller = label_parsed, scales = \"free_y\") +\n",
    "  theme(legend.position=\"right\", legend.key = element_blank(), axis.text.x = element_text(angle=0, size=30),\n",
    "        axis.text.y = element_text(angle=0, size=30), axis.title.x = element_text(size = 30, face=\"bold\"), \n",
    "        axis.title.y = element_text(size = 40, face=\"bold\"), legend.title = element_text(size = 30, face=\"bold\"),\n",
    "        panel.grid.major = element_blank(), panel.grid.minor = element_blank(),\n",
    "        legend.text=element_text(size=30), panel.background = element_rect(fill = NA, color = \"black\"),\n",
    "        #panel.background = element_blank(), #panel.border = element_blank(),\n",
    "        axis.line = element_line(color = 'black',size=0.3), plot.title = element_text(hjust = 0.5),\n",
    "        strip.background = element_rect(colour=\"black\", fill=\"white\"), strip.text.y = element_text(angle = 0, size=75, face=\"bold\"),\n",
    "        strip.text.x = element_text(size=25)) + \n",
    "  scale_fill_manual(values = c(\"#c85f55\",\n",
    "\"#a964bf\",\n",
    "\"#8db352\",\n",
    "\"#fa7300\",\n",
    "\"#05aec0\",\n",
    "\"#ff1493\")) +\n",
    "#scale_y_log10(breaks = scales::trans_breaks(\"log10\", function(x) 10^x)) +\n",
    "#scale_y_log10(breaks = 10^(-8:8), limit=c(10^-8, 10^2)) + \n",
    "scale_y_log10(breaks = 10^seq(-10, 10, 2), labels=trans_format(\"log10\", math_format(10^.x))) + #, limit=c(10^-8, 10^2)) +\n",
    "  labs(x = \"Sample Size\", y = \"MSE of Parameter Estimates\", fill = \"Cluster Size\") +\n",
    "geom_blank(aes(y = y_max)) + \n",
    "geom_blank(aes(y = y_min)) \n",
    "\"\"\""
   ]
  },
  {
   "cell_type": "code",
   "execution_count": 18,
   "metadata": {},
   "outputs": [
    {
     "data": {
      "text/plain": [
       "RObject{StrSxp}\n",
       "[1] \"updated_msefacetplot_NB_CS_rho_sigma_0.5.png\"\n"
      ]
     },
     "execution_count": 18,
     "metadata": {},
     "output_type": "execute_result"
    }
   ],
   "source": [
    "R\"\"\"\n",
    "ggsave('updated_msefacetplot_NB_CS_rho_sigma_0.5.png', mseplot, width = 12.5, height = 15, units = 'in', dpi = 450)\n",
    "\"\"\""
   ]
  },
  {
   "cell_type": "code",
   "execution_count": null,
   "metadata": {},
   "outputs": [],
   "source": []
  },
  {
   "cell_type": "code",
   "execution_count": null,
   "metadata": {},
   "outputs": [],
   "source": []
  }
 ],
 "metadata": {
  "@webio": {
   "lastCommId": null,
   "lastKernelId": null
  },
  "kernelspec": {
   "display_name": "Julia 1.6.2",
   "language": "julia",
   "name": "julia-1.6"
  },
  "language_info": {
   "file_extension": ".jl",
   "mimetype": "application/julia",
   "name": "julia",
   "version": "1.6.2"
  }
 },
 "nbformat": 4,
 "nbformat_minor": 2
}
