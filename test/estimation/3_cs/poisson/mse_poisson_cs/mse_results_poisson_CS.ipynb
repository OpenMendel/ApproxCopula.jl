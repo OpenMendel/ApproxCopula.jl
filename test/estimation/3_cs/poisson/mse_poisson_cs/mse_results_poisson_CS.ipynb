{
 "cells": [
  {
   "cell_type": "markdown",
   "metadata": {},
   "source": [
    "## Poisson CS Results \n",
    "\n",
    "This notebook goes over the code needed to reproduce the results from the MSE and time figures in the first simulation in the paper. \n",
    "\n",
    "In this example simulate three fixed effects from a standard Normal distribution, $\\beta \\sim$ randn(p) where p = 3 fixed effects.\n",
    "\n",
    "In this example we have Poisson base distribution with Log Link function and covariance matrix $\\Gamma$ structured under CS covariance with $\\rho = 0.9, \\sigma^2 = 0.5$\n",
    "\n",
    "We run each scenario 100 times."
   ]
  },
  {
   "cell_type": "code",
   "execution_count": 1,
   "metadata": {},
   "outputs": [
    {
     "name": "stdout",
     "output_type": "stream",
     "text": [
      "Julia Version 1.6.2\n",
      "Commit 1b93d53fc4 (2021-07-14 15:36 UTC)\n",
      "Platform Info:\n",
      "  OS: macOS (x86_64-apple-darwin18.7.0)\n",
      "  CPU: Intel(R) Core(TM) i9-9880H CPU @ 2.30GHz\n",
      "  WORD_SIZE: 64\n",
      "  LIBM: libopenlibm\n",
      "  LLVM: libLLVM-11.0.1 (ORCJIT, skylake)\n"
     ]
    }
   ],
   "source": [
    "versioninfo()"
   ]
  },
  {
   "cell_type": "code",
   "execution_count": 2,
   "metadata": {},
   "outputs": [
    {
     "name": "stderr",
     "output_type": "stream",
     "text": [
      "┌ Info: Precompiling GLMCopula [c47b6ae2-b804-4668-9957-eb588c99ffbc]\n",
      "└ @ Base loading.jl:1342\n"
     ]
    }
   ],
   "source": [
    "using GLMCopula, DelimitedFiles, LinearAlgebra, Random, GLM\n",
    "using Random, Roots, SpecialFunctions, DataFrames"
   ]
  },
  {
   "cell_type": "code",
   "execution_count": 3,
   "metadata": {},
   "outputs": [
    {
     "data": {
      "text/plain": [
       "100"
      ]
     },
     "execution_count": 3,
     "metadata": {},
     "output_type": "execute_result"
    }
   ],
   "source": [
    "p  = 3    # number of fixed effects, including intercept\n",
    "\n",
    "# true parameter values\n",
    "Random.seed!(1234)\n",
    "βtrue = randn(p)\n",
    "σ2true = [0.5]\n",
    "ρtrue = [0.9]\n",
    "θtrue = [σ2true; ρtrue]\n",
    "\n",
    "# generate data\n",
    "trueparams = [βtrue; θtrue] #hold true parameters\n",
    "\n",
    "#simulation parameters\n",
    "samplesizes = [100; 1000; 10000]\n",
    "ns = [2; 5; 10; 15; 20; 25]\n",
    "nsims = 100"
   ]
  },
  {
   "cell_type": "code",
   "execution_count": 4,
   "metadata": {},
   "outputs": [
    {
     "name": "stderr",
     "output_type": "stream",
     "text": [
      "┌ Info: reading in the files with results\n",
      "└ @ Main In[4]:1\n"
     ]
    },
    {
     "data": {
      "text/plain": [
       "1800-element Vector{Float64}:\n",
       " 0.068824169\n",
       " 0.072296019\n",
       " 0.061710309\n",
       " 0.070743762\n",
       " 0.06003178\n",
       " 0.069144506\n",
       " 0.109960552\n",
       " 0.077578187\n",
       " 0.081549777\n",
       " 0.067956968\n",
       " 0.059129389\n",
       " 0.069452626\n",
       " 0.080798389\n",
       " ⋮\n",
       " 4.035519464\n",
       " 4.816568946\n",
       " 3.533073278\n",
       " 7.111339376\n",
       " 4.442293632\n",
       " 4.08729526\n",
       " 4.967287474\n",
       " 5.964703307\n",
       " 5.09621306\n",
       " 4.220925782\n",
       " 4.498788157\n",
       " 6.226375678"
      ]
     },
     "execution_count": 4,
     "metadata": {},
     "output_type": "execute_result"
    }
   ],
   "source": [
    "@info \"reading in the files with results\"\n",
    "βMseresult = vec(readdlm(\"mse_beta_multivariate_poisson_CS$(nsims)reps_sim.csv\", ','))\n",
    "σ2MseResult = vec(readdlm(\"mse_sigma_multivariate_poisson_CS$(nsims)reps_sim.csv\", ','))\n",
    "ρMseResult = vec(readdlm(\"mse_rho_multivariate_poisson_CS$(nsims)reps_sim.csv\", ','))\n",
    "fittimes = vec(readdlm(\"fittimes_multivariate_poisson_CS$(nsims)reps_sim.csv\", ','))"
   ]
  },
  {
   "cell_type": "code",
   "execution_count": 5,
   "metadata": {},
   "outputs": [
    {
     "name": "stderr",
     "output_type": "stream",
     "text": [
      "┌ Info: making results table\n",
      "└ @ Main In[5]:2\n"
     ]
    },
    {
     "data": {
      "text/html": [
       "<div class=\"data-frame\"><p>18 rows × 8 columns</p><table class=\"data-frame\"><thead><tr><th></th><th>samplesize</th><th>obssize</th><th>fittime</th><th>se</th><th>nobs</th><th>fitmin</th><th>fitmax</th><th>perobsratio</th></tr><tr><th></th><th title=\"String\">String</th><th title=\"String\">String</th><th title=\"Float64\">Float64</th><th title=\"Float64\">Float64</th><th title=\"Int64\">Int64</th><th title=\"Float64\">Float64</th><th title=\"Float64\">Float64</th><th title=\"Float64\">Float64</th></tr></thead><tbody><tr><th>1</th><td>100</td><td>2</td><td>0.0729796</td><td>0.00176601</td><td>200</td><td>0.0712135</td><td>0.0747456</td><td>0.000364898</td></tr><tr><th>2</th><td>100</td><td>5</td><td>0.0879539</td><td>0.0028006</td><td>500</td><td>0.0851533</td><td>0.0907545</td><td>0.000175908</td></tr><tr><th>3</th><td>100</td><td>10</td><td>NaN</td><td>NaN</td><td>1000</td><td>NaN</td><td>NaN</td><td>NaN</td></tr><tr><th>4</th><td>100</td><td>15</td><td>NaN</td><td>NaN</td><td>1500</td><td>NaN</td><td>NaN</td><td>NaN</td></tr><tr><th>5</th><td>100</td><td>20</td><td>NaN</td><td>NaN</td><td>2000</td><td>NaN</td><td>NaN</td><td>NaN</td></tr><tr><th>6</th><td>100</td><td>25</td><td>0.319142</td><td>0.0241682</td><td>2500</td><td>0.294974</td><td>0.34331</td><td>0.000127657</td></tr><tr><th>7</th><td>1000</td><td>2</td><td>NaN</td><td>NaN</td><td>2000</td><td>NaN</td><td>NaN</td><td>NaN</td></tr><tr><th>8</th><td>1000</td><td>5</td><td>0.159143</td><td>0.00315023</td><td>5000</td><td>0.155993</td><td>0.162293</td><td>3.18286e-5</td></tr><tr><th>9</th><td>1000</td><td>10</td><td>0.199579</td><td>0.00309735</td><td>10000</td><td>0.196482</td><td>0.202676</td><td>1.99579e-5</td></tr><tr><th>10</th><td>1000</td><td>15</td><td>0.279744</td><td>0.00489385</td><td>15000</td><td>0.27485</td><td>0.284638</td><td>1.86496e-5</td></tr><tr><th>11</th><td>1000</td><td>20</td><td>0.392468</td><td>0.0156162</td><td>20000</td><td>0.376852</td><td>0.408084</td><td>1.96234e-5</td></tr><tr><th>12</th><td>1000</td><td>25</td><td>NaN</td><td>NaN</td><td>25000</td><td>NaN</td><td>NaN</td><td>NaN</td></tr><tr><th>13</th><td>10000</td><td>2</td><td>NaN</td><td>NaN</td><td>20000</td><td>NaN</td><td>NaN</td><td>NaN</td></tr><tr><th>14</th><td>10000</td><td>5</td><td>1.37057</td><td>0.0267379</td><td>50000</td><td>1.34383</td><td>1.39731</td><td>2.74114e-5</td></tr><tr><th>15</th><td>10000</td><td>10</td><td>1.85906</td><td>0.0428919</td><td>100000</td><td>1.81617</td><td>1.90195</td><td>1.85906e-5</td></tr><tr><th>16</th><td>10000</td><td>15</td><td>2.57971</td><td>0.0512597</td><td>150000</td><td>2.52845</td><td>2.63097</td><td>1.71981e-5</td></tr><tr><th>17</th><td>10000</td><td>20</td><td>3.64048</td><td>0.0816395</td><td>200000</td><td>3.55884</td><td>3.72212</td><td>1.82024e-5</td></tr><tr><th>18</th><td>10000</td><td>25</td><td>5.05453</td><td>0.107884</td><td>250000</td><td>4.94664</td><td>5.16241</td><td>2.02181e-5</td></tr></tbody></table></div>"
      ],
      "text/latex": [
       "\\begin{tabular}{r|cccccccc}\n",
       "\t& samplesize & obssize & fittime & se & nobs & fitmin & fitmax & perobsratio\\\\\n",
       "\t\\hline\n",
       "\t& String & String & Float64 & Float64 & Int64 & Float64 & Float64 & Float64\\\\\n",
       "\t\\hline\n",
       "\t1 & 100 & 2 & 0.0729796 & 0.00176601 & 200 & 0.0712135 & 0.0747456 & 0.000364898 \\\\\n",
       "\t2 & 100 & 5 & 0.0879539 & 0.0028006 & 500 & 0.0851533 & 0.0907545 & 0.000175908 \\\\\n",
       "\t3 & 100 & 10 & NaN & NaN & 1000 & NaN & NaN & NaN \\\\\n",
       "\t4 & 100 & 15 & NaN & NaN & 1500 & NaN & NaN & NaN \\\\\n",
       "\t5 & 100 & 20 & NaN & NaN & 2000 & NaN & NaN & NaN \\\\\n",
       "\t6 & 100 & 25 & 0.319142 & 0.0241682 & 2500 & 0.294974 & 0.34331 & 0.000127657 \\\\\n",
       "\t7 & 1000 & 2 & NaN & NaN & 2000 & NaN & NaN & NaN \\\\\n",
       "\t8 & 1000 & 5 & 0.159143 & 0.00315023 & 5000 & 0.155993 & 0.162293 & 3.18286e-5 \\\\\n",
       "\t9 & 1000 & 10 & 0.199579 & 0.00309735 & 10000 & 0.196482 & 0.202676 & 1.99579e-5 \\\\\n",
       "\t10 & 1000 & 15 & 0.279744 & 0.00489385 & 15000 & 0.27485 & 0.284638 & 1.86496e-5 \\\\\n",
       "\t11 & 1000 & 20 & 0.392468 & 0.0156162 & 20000 & 0.376852 & 0.408084 & 1.96234e-5 \\\\\n",
       "\t12 & 1000 & 25 & NaN & NaN & 25000 & NaN & NaN & NaN \\\\\n",
       "\t13 & 10000 & 2 & NaN & NaN & 20000 & NaN & NaN & NaN \\\\\n",
       "\t14 & 10000 & 5 & 1.37057 & 0.0267379 & 50000 & 1.34383 & 1.39731 & 2.74114e-5 \\\\\n",
       "\t15 & 10000 & 10 & 1.85906 & 0.0428919 & 100000 & 1.81617 & 1.90195 & 1.85906e-5 \\\\\n",
       "\t16 & 10000 & 15 & 2.57971 & 0.0512597 & 150000 & 2.52845 & 2.63097 & 1.71981e-5 \\\\\n",
       "\t17 & 10000 & 20 & 3.64048 & 0.0816395 & 200000 & 3.55884 & 3.72212 & 1.82024e-5 \\\\\n",
       "\t18 & 10000 & 25 & 5.05453 & 0.107884 & 250000 & 4.94664 & 5.16241 & 2.02181e-5 \\\\\n",
       "\\end{tabular}\n"
      ],
      "text/plain": [
       "\u001b[1m18×8 DataFrame\u001b[0m\n",
       "\u001b[1m Row \u001b[0m│\u001b[1m samplesize \u001b[0m\u001b[1m obssize \u001b[0m\u001b[1m fittime     \u001b[0m\u001b[1m se           \u001b[0m\u001b[1m nobs   \u001b[0m\u001b[1m fitmin      \u001b[0m\u001b[1m fi\u001b[0m ⋯\n",
       "\u001b[1m     \u001b[0m│\u001b[90m String     \u001b[0m\u001b[90m String  \u001b[0m\u001b[90m Float64     \u001b[0m\u001b[90m Float64      \u001b[0m\u001b[90m Int64  \u001b[0m\u001b[90m Float64     \u001b[0m\u001b[90m Fl\u001b[0m ⋯\n",
       "─────┼──────────────────────────────────────────────────────────────────────────\n",
       "   1 │ 100         2          0.0729796    0.00176601     200    0.0712135     ⋯\n",
       "   2 │ 100         5          0.0879539    0.0028006      500    0.0851533\n",
       "   3 │ 100         10       NaN          NaN             1000  NaN          Na\n",
       "   4 │ 100         15       NaN          NaN             1500  NaN          Na\n",
       "   5 │ 100         20       NaN          NaN             2000  NaN          Na ⋯\n",
       "   6 │ 100         25         0.319142     0.0241682     2500    0.294974\n",
       "   7 │ 1000        2        NaN          NaN             2000  NaN          Na\n",
       "   8 │ 1000        5          0.159143     0.00315023    5000    0.155993\n",
       "   9 │ 1000        10         0.199579     0.00309735   10000    0.196482      ⋯\n",
       "  10 │ 1000        15         0.279744     0.00489385   15000    0.27485\n",
       "  11 │ 1000        20         0.392468     0.0156162    20000    0.376852\n",
       "  12 │ 1000        25       NaN          NaN            25000  NaN          Na\n",
       "  13 │ 10000       2        NaN          NaN            20000  NaN          Na ⋯\n",
       "  14 │ 10000       5          1.37057      0.0267379    50000    1.34383\n",
       "  15 │ 10000       10         1.85906      0.0428919   100000    1.81617\n",
       "  16 │ 10000       15         2.57971      0.0512597   150000    2.52845\n",
       "  17 │ 10000       20         3.64048      0.0816395   200000    3.55884       ⋯\n",
       "  18 │ 10000       25         5.05453      0.107884    250000    4.94664\n",
       "\u001b[36m                                                               2 columns omitted\u001b[0m"
      ]
     },
     "execution_count": 5,
     "metadata": {},
     "output_type": "execute_result"
    }
   ],
   "source": [
    "#simulation parameters\n",
    "@info \"making results table\"\n",
    "sample_sizes = repeat(string.(samplesizes), inner = nsims * length(ns))\n",
    "obs_sizes = repeat(string.(ns), inner = nsims, outer = length(samplesizes))\n",
    "\n",
    "msedf = DataFrame(βmse = βMseresult, σ2mse = σ2MseResult, ρmse = ρMseResult,\n",
    "    samplesize = sample_sizes, obssize = obs_sizes, fittimes = fittimes)\n",
    "timedf = combine(groupby(msedf, [:samplesize, :obssize]), :fittimes => mean => :fittime,\n",
    "    :fittimes => x -> (std(x)/sqrt(length(x))))\n",
    "rename!(timedf, Dict(:fittimes_function => \"se\"))\n",
    "timedf[!, :nobs] = Meta.parse.(timedf[!, :samplesize]) .* Meta.parse.(timedf[!, :obssize])\n",
    "timedf[!, :fitmin] = timedf[!, :fittime] - timedf[!, :se]\n",
    "timedf[!, :fitmax] = timedf[!, :fittime] + timedf[!, :se]\n",
    "timedf[!, :perobsratio] = timedf[!, :fittime] ./ timedf[!, :nobs]\n",
    "timedf"
   ]
  },
  {
   "cell_type": "code",
   "execution_count": 6,
   "metadata": {},
   "outputs": [
    {
     "name": "stderr",
     "output_type": "stream",
     "text": [
      "┌ Warning: RCall.jl: Warning: package ‘ggplot2’ was built under R version 4.0.2\n",
      "└ @ RCall /Users/sarahji/.julia/packages/RCall/iMDW2/src/io.jl:160\n"
     ]
    },
    {
     "data": {
      "image/png": "[encoded data removed]"
     },
     "metadata": {},
     "output_type": "display_data"
    },
    {
     "data": {
      "text/plain": [
       "RObject{VecSxp}\n"
      ]
     },
     "execution_count": 6,
     "metadata": {},
     "output_type": "execute_result"
    },
    {
     "name": "stderr",
     "output_type": "stream",
     "text": [
      "┌ Warning: RCall.jl: Warning: Removed 5 row(s) containing missing values (geom_path).\n",
      "│ Warning: Removed 6 rows containing missing values (geom_point).\n",
      "└ @ RCall /Users/sarahji/.julia/packages/RCall/iMDW2/src/io.jl:160\n"
     ]
    }
   ],
   "source": [
    "########### plot the runtimes\n",
    "using RCall\n",
    "@rput timedf\n",
    "\n",
    "R\"\"\"\n",
    "library(ggplot2)\n",
    "timedf$obssize = factor(timedf$obssize, levels = c('2', '5', '10', '15', '20', '25'))\n",
    "timedf$samplesize = factor(timedf$samplesize, levels = c('100', '1000', '10000'))\n",
    "\n",
    "fittime_1 = ggplot(timedf, aes(x = samplesize, y = fittime, group = obssize, color = obssize)) + \n",
    "  geom_line() +\n",
    "  geom_point()+\n",
    "  geom_errorbar(aes(ymin=fitmin, ymax=fitmax), width=0.5, alpha = 0.8, position=position_dodge(0.005)) + \n",
    "  theme(legend.position=c(0.15,0.85), legend.key = element_blank(), axis.text.x = element_text(angle=0, size=13),\n",
    "        axis.text.y = element_text(angle=0, size=13), axis.title.x = element_text(size = 17), \n",
    "        axis.title.y = element_text(size = 17), legend.title = element_text(size = 14),\n",
    "        #axis.ticks = element_blank(),\n",
    "        panel.grid.major = element_blank(), legend.text=element_text(size=13),\n",
    "        panel.border = element_blank(), panel.grid.minor = element_blank(), panel.background = element_blank(), \n",
    "        axis.line = element_line(color = 'black',size=0.3), plot.title = element_text(hjust = 0.5)) + \n",
    "   scale_color_manual(values = c(\"#c85f55\",\n",
    "\"#a964bf\",\n",
    "\"#8db352\",\n",
    "\"#fa7300\",\n",
    "\"#05aec0\",\n",
    "\"#ff1493\")) +\n",
    "  labs(x = \"Number of Individuals\", y = \"Fit time (seconds)\", color = \"Obs per Individual\")\n",
    "\"\"\""
   ]
  },
  {
   "cell_type": "code",
   "execution_count": 7,
   "metadata": {},
   "outputs": [
    {
     "data": {
      "text/plain": [
       "RObject{StrSxp}\n",
       "[1] \"fittimes_nobs_poisson_AR.png\"\n"
      ]
     },
     "execution_count": 7,
     "metadata": {},
     "output_type": "execute_result"
    }
   ],
   "source": [
    "R\"\"\"\n",
    "    ggsave('fittimes_nobs_poisson_CS.png', fittime_1, width = 12.5, height = 15, units = 'in', dpi = 450)\n",
    "\"\"\""
   ]
  },
  {
   "cell_type": "code",
   "execution_count": 8,
   "metadata": {},
   "outputs": [],
   "source": [
    "# using RCall\n",
    "# @rput timedf\n",
    "\n",
    "# R\"\"\"\n",
    "# library(scales)\n",
    "# library(ggplot2)\n",
    "# timedf$obssize <- factor(timedf$obssize, levels = c('2', '5', '10', '15', '20', '25'))\n",
    "# timedf$samplesize <- factor(timedf$samplesize, levels = c('100', '1000', '10000'))\n",
    "\n",
    "# fancy_scientific <- function(l) {\n",
    "#      # turn in to character string in scientific notation\n",
    "#      l <- format(l, scientific = TRUE)\n",
    "#      # quote the part before the exponent to keep all the digits\n",
    "#      l <- gsub(\"^(.*)e\", \"'\\\\1'e\", l)\n",
    "#      # turn the 'e+' into plotmath format\n",
    "#      l <- gsub(\"e\", \"%*%10^\", l)\n",
    "#      # return this as an expression\n",
    "#      parse(text=l)\n",
    "# }\n",
    "\n",
    "# fittimeperobs = ggplot(timedf, aes(x=nobs, y=perobsratio)) + \n",
    "#   geom_line() +\n",
    "#   geom_point()+\n",
    "# #  geom_errorbar(aes(ymin=fitmin, ymax=fitmax), width=0.5, alpha = 0.8, position=position_dodge(0.005)) + \n",
    "#   theme(legend.position=c(0.15,0.8), legend.key = element_blank(), axis.text.x = element_text(angle=0, size=13),\n",
    "#         axis.text.y = element_text(angle=0, size=13), axis.title.x = element_text(size = 17), \n",
    "#         axis.title.y = element_text(size = 17), legend.title = element_text(size = 14),\n",
    "#         #axis.ticks = element_blank(),\n",
    "#         panel.grid.major = element_blank(), legend.text=element_text(size=11),\n",
    "#         panel.border = element_blank(), panel.grid.minor = element_blank(), panel.background = element_blank(), \n",
    "#         axis.line = element_line(color = 'black',size=0.3), plot.title = element_text(hjust = 0.5)) + \n",
    "#   labs(x = \"Total Number of Observations\", y = \"Fit time per observation (seconds)\", color = \"Obs per Individual\") +\n",
    "# #scale_x_log10(breaks = 10^seq(0, 7, 1), labels=trans_format(\"log10\", math_format(10^.x)))# + #, limit=c(10^0, 10^7))\n",
    "# scale_x_continuous(breaks = seq(0, 6000000, 1000000), labels= fancy_scientific) +\n",
    "# scale_y_continuous(breaks = c(10^-4, 2 * 10^-4, 3 * 10^-4, 4 * 10^-4, 5 * 10^-4, 6 * 10^-4), labels= fancy_scientific)\n",
    "\n",
    "# \"\"\""
   ]
  },
  {
   "cell_type": "code",
   "execution_count": 7,
   "metadata": {},
   "outputs": [
    {
     "data": {
      "text/html": [
       "<div class=\"data-frame\"><p>18 rows × 6 columns (omitted printing of 2 columns)</p><table class=\"data-frame\"><thead><tr><th></th><th>people_obs</th><th>β1</th><th>β2</th><th>β3</th></tr><tr><th></th><th title=\"String\">String</th><th title=\"Tuple{Float64, Float64}\">Tuple…</th><th title=\"Tuple{Float64, Float64}\">Tuple…</th><th title=\"Tuple{Float64, Float64}\">Tuple…</th></tr></thead><tbody><tr><th>1</th><td>N: 100  ni: 2</td><td>(0.66, 0.0476095)</td><td>(0.63, 0.0485237)</td><td>(0.74, 0.0440844)</td></tr><tr><th>2</th><td>N: 100  ni: 5</td><td>(0.48, 0.0502117)</td><td>(0.56, 0.0498888)</td><td>(0.81, 0.0394277)</td></tr><tr><th>3</th><td>N: 100  ni: 10</td><td>(0.56, 0.0498888)</td><td>(0.5, 0.0502519)</td><td>(0.73, 0.0446196)</td></tr><tr><th>4</th><td>N: 100  ni: 15</td><td>(-4.52807e271, Inf)</td><td>(NaN, NaN)</td><td>(0.76, 0.0429235)</td></tr><tr><th>5</th><td>N: 100  ni: 20</td><td>(0.54, 0.0500908)</td><td>(0.47, 0.0501614)</td><td>(-7.54794e166, Inf)</td></tr><tr><th>6</th><td>N: 100  ni: 25</td><td>(0.49, 0.0502418)</td><td>(0.48, 0.0502117)</td><td>(0.86, 0.0348735)</td></tr><tr><th>7</th><td>N: 1000  ni: 2</td><td>(0.64, 0.0482418)</td><td>(-4.86475e56, 4.86475e56)</td><td>(0.81, 0.0394277)</td></tr><tr><th>8</th><td>N: 1000  ni: 5</td><td>(0.56, 0.0498888)</td><td>(0.59, 0.0494311)</td><td>(0.81, 0.0394277)</td></tr><tr><th>9</th><td>N: 1000  ni: 10</td><td>(0.57, 0.049757)</td><td>(0.62, 0.0487832)</td><td>(0.82, 0.0386123)</td></tr><tr><th>10</th><td>N: 1000  ni: 15</td><td>(0.72, 0.0451261)</td><td>(0.58, 0.0496045)</td><td>(0.84, 0.0368453)</td></tr><tr><th>11</th><td>N: 1000  ni: 20</td><td>(0.64, 0.0482418)</td><td>(0.6, 0.0492366)</td><td>(0.82, 0.0386123)</td></tr><tr><th>12</th><td>N: 1000  ni: 25</td><td>(0.63, 0.0485237)</td><td>(0.68, 0.0468826)</td><td>(0.94, 0.0238683)</td></tr><tr><th>13</th><td>N: 10000  ni: 2</td><td>(0.67, 0.0472582)</td><td>(0.58, 0.0496045)</td><td>(0.8, 0.0402015)</td></tr><tr><th>14</th><td>N: 10000  ni: 5</td><td>(0.57, 0.049757)</td><td>(0.62, 0.0487832)</td><td>(0.76, 0.0429235)</td></tr><tr><th>15</th><td>N: 10000  ni: 10</td><td>(0.59, 0.0494311)</td><td>(0.56, 0.0498888)</td><td>(0.82, 0.0386123)</td></tr><tr><th>16</th><td>N: 10000  ni: 15</td><td>(0.69, 0.0464823)</td><td>(0.63, 0.0485237)</td><td>(0.8, 0.0402015)</td></tr><tr><th>17</th><td>N: 10000  ni: 20</td><td>(0.69, 0.0464823)</td><td>(0.65, 0.0479372)</td><td>(0.84, 0.0368453)</td></tr><tr><th>18</th><td>N: 10000  ni: 25</td><td>(0.63, 0.0485237)</td><td>(0.62, 0.0487832)</td><td>(0.92, 0.027266)</td></tr></tbody></table></div>"
      ],
      "text/latex": [
       "\\begin{tabular}{r|ccccc}\n",
       "\t& people\\_obs & β1 & β2 & β3 & \\\\\n",
       "\t\\hline\n",
       "\t& String & Tuple… & Tuple… & Tuple… & \\\\\n",
       "\t\\hline\n",
       "\t1 & N: 100  ni: 2 & (0.66, 0.0476095) & (0.63, 0.0485237) & (0.74, 0.0440844) & $\\dots$ \\\\\n",
       "\t2 & N: 100  ni: 5 & (0.48, 0.0502117) & (0.56, 0.0498888) & (0.81, 0.0394277) & $\\dots$ \\\\\n",
       "\t3 & N: 100  ni: 10 & (0.56, 0.0498888) & (0.5, 0.0502519) & (0.73, 0.0446196) & $\\dots$ \\\\\n",
       "\t4 & N: 100  ni: 15 & (-4.52807e271, Inf) & (NaN, NaN) & (0.76, 0.0429235) & $\\dots$ \\\\\n",
       "\t5 & N: 100  ni: 20 & (0.54, 0.0500908) & (0.47, 0.0501614) & (-7.54794e166, Inf) & $\\dots$ \\\\\n",
       "\t6 & N: 100  ni: 25 & (0.49, 0.0502418) & (0.48, 0.0502117) & (0.86, 0.0348735) & $\\dots$ \\\\\n",
       "\t7 & N: 1000  ni: 2 & (0.64, 0.0482418) & (-4.86475e56, 4.86475e56) & (0.81, 0.0394277) & $\\dots$ \\\\\n",
       "\t8 & N: 1000  ni: 5 & (0.56, 0.0498888) & (0.59, 0.0494311) & (0.81, 0.0394277) & $\\dots$ \\\\\n",
       "\t9 & N: 1000  ni: 10 & (0.57, 0.049757) & (0.62, 0.0487832) & (0.82, 0.0386123) & $\\dots$ \\\\\n",
       "\t10 & N: 1000  ni: 15 & (0.72, 0.0451261) & (0.58, 0.0496045) & (0.84, 0.0368453) & $\\dots$ \\\\\n",
       "\t11 & N: 1000  ni: 20 & (0.64, 0.0482418) & (0.6, 0.0492366) & (0.82, 0.0386123) & $\\dots$ \\\\\n",
       "\t12 & N: 1000  ni: 25 & (0.63, 0.0485237) & (0.68, 0.0468826) & (0.94, 0.0238683) & $\\dots$ \\\\\n",
       "\t13 & N: 10000  ni: 2 & (0.67, 0.0472582) & (0.58, 0.0496045) & (0.8, 0.0402015) & $\\dots$ \\\\\n",
       "\t14 & N: 10000  ni: 5 & (0.57, 0.049757) & (0.62, 0.0487832) & (0.76, 0.0429235) & $\\dots$ \\\\\n",
       "\t15 & N: 10000  ni: 10 & (0.59, 0.0494311) & (0.56, 0.0498888) & (0.82, 0.0386123) & $\\dots$ \\\\\n",
       "\t16 & N: 10000  ni: 15 & (0.69, 0.0464823) & (0.63, 0.0485237) & (0.8, 0.0402015) & $\\dots$ \\\\\n",
       "\t17 & N: 10000  ni: 20 & (0.69, 0.0464823) & (0.65, 0.0479372) & (0.84, 0.0368453) & $\\dots$ \\\\\n",
       "\t18 & N: 10000  ni: 25 & (0.63, 0.0485237) & (0.62, 0.0487832) & (0.92, 0.027266) & $\\dots$ \\\\\n",
       "\\end{tabular}\n"
      ],
      "text/plain": [
       "\u001b[1m18×6 DataFrame\u001b[0m\n",
       "\u001b[1m Row \u001b[0m│\u001b[1m people_obs       \u001b[0m\u001b[1m β1                  \u001b[0m\u001b[1m β2                        \u001b[0m\u001b[1m β3   \u001b[0m ⋯\n",
       "\u001b[1m     \u001b[0m│\u001b[90m String           \u001b[0m\u001b[90m Tuple…              \u001b[0m\u001b[90m Tuple…                    \u001b[0m\u001b[90m Tuple\u001b[0m ⋯\n",
       "─────┼──────────────────────────────────────────────────────────────────────────\n",
       "   1 │ N: 100  ni: 2     (0.66, 0.0476095)    (0.63, 0.0485237)          (0.74 ⋯\n",
       "   2 │ N: 100  ni: 5     (0.48, 0.0502117)    (0.56, 0.0498888)          (0.81\n",
       "   3 │ N: 100  ni: 10    (0.56, 0.0498888)    (0.5, 0.0502519)           (0.73\n",
       "   4 │ N: 100  ni: 15    (-4.52807e271, Inf)  (NaN, NaN)                 (0.76\n",
       "   5 │ N: 100  ni: 20    (0.54, 0.0500908)    (0.47, 0.0501614)          (-7.5 ⋯\n",
       "   6 │ N: 100  ni: 25    (0.49, 0.0502418)    (0.48, 0.0502117)          (0.86\n",
       "   7 │ N: 1000  ni: 2    (0.64, 0.0482418)    (-4.86475e56, 4.86475e56)  (0.81\n",
       "   8 │ N: 1000  ni: 5    (0.56, 0.0498888)    (0.59, 0.0494311)          (0.81\n",
       "   9 │ N: 1000  ni: 10   (0.57, 0.049757)     (0.62, 0.0487832)          (0.82 ⋯\n",
       "  10 │ N: 1000  ni: 15   (0.72, 0.0451261)    (0.58, 0.0496045)          (0.84\n",
       "  11 │ N: 1000  ni: 20   (0.64, 0.0482418)    (0.6, 0.0492366)           (0.82\n",
       "  12 │ N: 1000  ni: 25   (0.63, 0.0485237)    (0.68, 0.0468826)          (0.94\n",
       "  13 │ N: 10000  ni: 2   (0.67, 0.0472582)    (0.58, 0.0496045)          (0.8, ⋯\n",
       "  14 │ N: 10000  ni: 5   (0.57, 0.049757)     (0.62, 0.0487832)          (0.76\n",
       "  15 │ N: 10000  ni: 10  (0.59, 0.0494311)    (0.56, 0.0498888)          (0.82\n",
       "  16 │ N: 10000  ni: 15  (0.69, 0.0464823)    (0.63, 0.0485237)          (0.8,\n",
       "  17 │ N: 10000  ni: 20  (0.69, 0.0464823)    (0.65, 0.0479372)          (0.84 ⋯\n",
       "  18 │ N: 10000  ni: 25  (0.63, 0.0485237)    (0.62, 0.0487832)          (0.92\n",
       "\u001b[36m                                                               3 columns omitted\u001b[0m"
      ]
     },
     "execution_count": 7,
     "metadata": {},
     "output_type": "execute_result"
    }
   ],
   "source": [
    "######  supplementary table s1\n",
    "using Random, DataFrames, DelimitedFiles, Statistics\n",
    "import StatsBase: sem\n",
    "\n",
    "βρσ2coverage = readdlm(\"beta_sigma_coverage_multivariate_poisson_CS$(nsims)reps_sim.csv\", ',')\n",
    "\n",
    "m = 2\n",
    "\n",
    "covdf = DataFrame(Matrix(transpose(βρσ2coverage)), :auto)\n",
    "rename!(covdf, Symbol.([[\"β$i\" for i in 1:p]; [\"σ2\"];  [\"ρ\"]]))\n",
    "covdf[!, :samplesize] = sample_sizes\n",
    "covdf[!, :obssize] = obs_sizes\n",
    "first(covdf, 10)\n",
    "\n",
    "row_stats = [[(mean(col), sem(col)) for col = eachcol(d[!, 1:end-2])] for d = groupby(covdf, [:samplesize; :obssize])]\n",
    "df = DataFrame(row_stats, :auto)\n",
    "ss_obs = unique(\"N: \" .* sample_sizes .* \"  ni: \" .* obs_sizes)\n",
    "rename!(df, Symbol.(ss_obs))\n",
    "covdfdisplay = DataFrame([[names(df)]; collect.(eachrow(df))], \n",
    "    [:people_obs; Symbol.([[\"β$i\" for i in 1:p]; [\"σ2\"]; [\"ρ\"]])])\n",
    "# deletecols!(covdfdisplay, p + 2)\n",
    "covdfdisplay\n"
   ]
  },
  {
   "cell_type": "code",
   "execution_count": 10,
   "metadata": {},
   "outputs": [
    {
     "data": {
      "text/html": [
       "<div class=\"data-frame\"><p>3,556 rows × 5 columns</p><table class=\"data-frame\"><thead><tr><th></th><th>mse</th><th>obssize</th><th>samplesize</th><th>parameters</th><th>robust</th></tr><tr><th></th><th title=\"Float64\">Float64</th><th title=\"String\">String</th><th title=\"String\">String</th><th title=\"String\">String</th><th title=\"String\">String</th></tr></thead><tbody><tr><th>1</th><td>0.000785509</td><td>2</td><td>100</td><td>beta</td><td>Poisson with LogLink</td></tr><tr><th>2</th><td>0.00301905</td><td>2</td><td>100</td><td>beta</td><td>Poisson with LogLink</td></tr><tr><th>3</th><td>0.00196328</td><td>2</td><td>100</td><td>beta</td><td>Poisson with LogLink</td></tr><tr><th>4</th><td>0.00111719</td><td>2</td><td>100</td><td>beta</td><td>Poisson with LogLink</td></tr><tr><th>5</th><td>0.00505343</td><td>2</td><td>100</td><td>beta</td><td>Poisson with LogLink</td></tr><tr><th>6</th><td>0.000110123</td><td>2</td><td>100</td><td>beta</td><td>Poisson with LogLink</td></tr><tr><th>7</th><td>0.00662978</td><td>2</td><td>100</td><td>beta</td><td>Poisson with LogLink</td></tr><tr><th>8</th><td>0.00362779</td><td>2</td><td>100</td><td>beta</td><td>Poisson with LogLink</td></tr><tr><th>9</th><td>0.000737828</td><td>2</td><td>100</td><td>beta</td><td>Poisson with LogLink</td></tr><tr><th>10</th><td>0.000611475</td><td>2</td><td>100</td><td>beta</td><td>Poisson with LogLink</td></tr><tr><th>11</th><td>0.00149219</td><td>2</td><td>100</td><td>beta</td><td>Poisson with LogLink</td></tr><tr><th>12</th><td>0.00409464</td><td>2</td><td>100</td><td>beta</td><td>Poisson with LogLink</td></tr><tr><th>13</th><td>9.29595e-5</td><td>2</td><td>100</td><td>beta</td><td>Poisson with LogLink</td></tr><tr><th>14</th><td>0.00545519</td><td>2</td><td>100</td><td>beta</td><td>Poisson with LogLink</td></tr><tr><th>15</th><td>0.00109741</td><td>2</td><td>100</td><td>beta</td><td>Poisson with LogLink</td></tr><tr><th>16</th><td>0.000973502</td><td>2</td><td>100</td><td>beta</td><td>Poisson with LogLink</td></tr><tr><th>17</th><td>7.65675e-5</td><td>2</td><td>100</td><td>beta</td><td>Poisson with LogLink</td></tr><tr><th>18</th><td>0.00347948</td><td>2</td><td>100</td><td>beta</td><td>Poisson with LogLink</td></tr><tr><th>19</th><td>0.00185716</td><td>2</td><td>100</td><td>beta</td><td>Poisson with LogLink</td></tr><tr><th>20</th><td>0.000362138</td><td>2</td><td>100</td><td>beta</td><td>Poisson with LogLink</td></tr><tr><th>21</th><td>0.00192683</td><td>2</td><td>100</td><td>beta</td><td>Poisson with LogLink</td></tr><tr><th>22</th><td>0.00340911</td><td>2</td><td>100</td><td>beta</td><td>Poisson with LogLink</td></tr><tr><th>23</th><td>0.00144171</td><td>2</td><td>100</td><td>beta</td><td>Poisson with LogLink</td></tr><tr><th>24</th><td>0.00143339</td><td>2</td><td>100</td><td>beta</td><td>Poisson with LogLink</td></tr><tr><th>25</th><td>0.0010988</td><td>2</td><td>100</td><td>beta</td><td>Poisson with LogLink</td></tr><tr><th>26</th><td>0.000350027</td><td>2</td><td>100</td><td>beta</td><td>Poisson with LogLink</td></tr><tr><th>27</th><td>0.00196031</td><td>2</td><td>100</td><td>beta</td><td>Poisson with LogLink</td></tr><tr><th>28</th><td>0.00657955</td><td>2</td><td>100</td><td>beta</td><td>Poisson with LogLink</td></tr><tr><th>29</th><td>0.00109052</td><td>2</td><td>100</td><td>beta</td><td>Poisson with LogLink</td></tr><tr><th>30</th><td>0.00211127</td><td>2</td><td>100</td><td>beta</td><td>Poisson with LogLink</td></tr><tr><th>&vellip;</th><td>&vellip;</td><td>&vellip;</td><td>&vellip;</td><td>&vellip;</td><td>&vellip;</td></tr></tbody></table></div>"
      ],
      "text/latex": [
       "\\begin{tabular}{r|ccccc}\n",
       "\t& mse & obssize & samplesize & parameters & robust\\\\\n",
       "\t\\hline\n",
       "\t& Float64 & String & String & String & String\\\\\n",
       "\t\\hline\n",
       "\t1 & 0.000785509 & 2 & 100 & beta & Poisson with LogLink \\\\\n",
       "\t2 & 0.00301905 & 2 & 100 & beta & Poisson with LogLink \\\\\n",
       "\t3 & 0.00196328 & 2 & 100 & beta & Poisson with LogLink \\\\\n",
       "\t4 & 0.00111719 & 2 & 100 & beta & Poisson with LogLink \\\\\n",
       "\t5 & 0.00505343 & 2 & 100 & beta & Poisson with LogLink \\\\\n",
       "\t6 & 0.000110123 & 2 & 100 & beta & Poisson with LogLink \\\\\n",
       "\t7 & 0.00662978 & 2 & 100 & beta & Poisson with LogLink \\\\\n",
       "\t8 & 0.00362779 & 2 & 100 & beta & Poisson with LogLink \\\\\n",
       "\t9 & 0.000737828 & 2 & 100 & beta & Poisson with LogLink \\\\\n",
       "\t10 & 0.000611475 & 2 & 100 & beta & Poisson with LogLink \\\\\n",
       "\t11 & 0.00149219 & 2 & 100 & beta & Poisson with LogLink \\\\\n",
       "\t12 & 0.00409464 & 2 & 100 & beta & Poisson with LogLink \\\\\n",
       "\t13 & 9.29595e-5 & 2 & 100 & beta & Poisson with LogLink \\\\\n",
       "\t14 & 0.00545519 & 2 & 100 & beta & Poisson with LogLink \\\\\n",
       "\t15 & 0.00109741 & 2 & 100 & beta & Poisson with LogLink \\\\\n",
       "\t16 & 0.000973502 & 2 & 100 & beta & Poisson with LogLink \\\\\n",
       "\t17 & 7.65675e-5 & 2 & 100 & beta & Poisson with LogLink \\\\\n",
       "\t18 & 0.00347948 & 2 & 100 & beta & Poisson with LogLink \\\\\n",
       "\t19 & 0.00185716 & 2 & 100 & beta & Poisson with LogLink \\\\\n",
       "\t20 & 0.000362138 & 2 & 100 & beta & Poisson with LogLink \\\\\n",
       "\t21 & 0.00192683 & 2 & 100 & beta & Poisson with LogLink \\\\\n",
       "\t22 & 0.00340911 & 2 & 100 & beta & Poisson with LogLink \\\\\n",
       "\t23 & 0.00144171 & 2 & 100 & beta & Poisson with LogLink \\\\\n",
       "\t24 & 0.00143339 & 2 & 100 & beta & Poisson with LogLink \\\\\n",
       "\t25 & 0.0010988 & 2 & 100 & beta & Poisson with LogLink \\\\\n",
       "\t26 & 0.000350027 & 2 & 100 & beta & Poisson with LogLink \\\\\n",
       "\t27 & 0.00196031 & 2 & 100 & beta & Poisson with LogLink \\\\\n",
       "\t28 & 0.00657955 & 2 & 100 & beta & Poisson with LogLink \\\\\n",
       "\t29 & 0.00109052 & 2 & 100 & beta & Poisson with LogLink \\\\\n",
       "\t30 & 0.00211127 & 2 & 100 & beta & Poisson with LogLink \\\\\n",
       "\t$\\dots$ & $\\dots$ & $\\dots$ & $\\dots$ & $\\dots$ & $\\dots$ \\\\\n",
       "\\end{tabular}\n"
      ],
      "text/plain": [
       "\u001b[1m3556×5 DataFrame\u001b[0m\n",
       "\u001b[1m  Row \u001b[0m│\u001b[1m mse         \u001b[0m\u001b[1m obssize \u001b[0m\u001b[1m samplesize \u001b[0m\u001b[1m parameters \u001b[0m\u001b[1m robust               \u001b[0m\n",
       "\u001b[1m      \u001b[0m│\u001b[90m Float64     \u001b[0m\u001b[90m String  \u001b[0m\u001b[90m String     \u001b[0m\u001b[90m String     \u001b[0m\u001b[90m String               \u001b[0m\n",
       "──────┼────────────────────────────────────────────────────────────────────\n",
       "    1 │ 0.000785509  2        100         beta        Poisson with LogLink\n",
       "    2 │ 0.00301905   2        100         beta        Poisson with LogLink\n",
       "    3 │ 0.00196328   2        100         beta        Poisson with LogLink\n",
       "    4 │ 0.00111719   2        100         beta        Poisson with LogLink\n",
       "    5 │ 0.00505343   2        100         beta        Poisson with LogLink\n",
       "    6 │ 0.000110123  2        100         beta        Poisson with LogLink\n",
       "    7 │ 0.00662978   2        100         beta        Poisson with LogLink\n",
       "    8 │ 0.00362779   2        100         beta        Poisson with LogLink\n",
       "    9 │ 0.000737828  2        100         beta        Poisson with LogLink\n",
       "   10 │ 0.000611475  2        100         beta        Poisson with LogLink\n",
       "   11 │ 0.00149219   2        100         beta        Poisson with LogLink\n",
       "  ⋮   │      ⋮          ⋮         ⋮           ⋮                ⋮\n",
       " 3547 │ 0.00156697   25       10000       theta       Poisson with LogLink\n",
       " 3548 │ 0.00770532   25       10000       theta       Poisson with LogLink\n",
       " 3549 │ 0.000891195  25       10000       theta       Poisson with LogLink\n",
       " 3550 │ 6.65263e-5   25       10000       theta       Poisson with LogLink\n",
       " 3551 │ 0.00244624   25       10000       theta       Poisson with LogLink\n",
       " 3552 │ 0.00225344   25       10000       theta       Poisson with LogLink\n",
       " 3553 │ 0.00892128   25       10000       theta       Poisson with LogLink\n",
       " 3554 │ 0.00269964   25       10000       theta       Poisson with LogLink\n",
       " 3555 │ 0.000164853  25       10000       theta       Poisson with LogLink\n",
       " 3556 │ 0.00111261   25       10000       theta       Poisson with LogLink\n",
       "\u001b[36m                                                          3535 rows omitted\u001b[0m"
      ]
     },
     "execution_count": 10,
     "metadata": {},
     "output_type": "execute_result"
    }
   ],
   "source": [
    "#### \n",
    "#import data and reorganize to create figure\n",
    "using Random, DataFrames, DelimitedFiles, Statistics, RCall, Printf\n",
    "import StatsBase: sem\n",
    "\n",
    "βMseresult_1 = vec(readdlm(\"mse_beta_multivariate_poisson_CS$(nsims)reps_sim.csv\", ','))\n",
    "σ2MseResult_1 = vec(readdlm(\"mse_sigma_multivariate_poisson_CS$(nsims)reps_sim.csv\", ','))\n",
    "ρMseResult_1 = vec(readdlm(\"mse_rho_multivariate_poisson_CS$(nsims)reps_sim.csv\", ','))\n",
    "θMseResult_1 = (σ2MseResult_1 .+ ρMseResult_1) ./ 2\n",
    "βρσ2coverage_1 = readdlm(\"beta_sigma_coverage_multivariate_poisson_CS$(nsims)reps_sim.csv\", ',')\n",
    "\n",
    "samplesizesrobust = samplesizes\n",
    "nsrobust = ns\n",
    "nsimsrobust = nsims\n",
    "\n",
    "# βMseresultnorm = vec(readdlm(\"result_files/mse_beta_normal_normal_lognormal_1000reps_sim.csv\", ','))\n",
    "# τMseresultnorm = vec(readdlm(\"result_files/mse_tau_normal_normal_lognormal_1000reps_sim.csv\", ','))\n",
    "# ΣMseresultnorm = vec(readdlm(\"result_files/mse_Sigma_normal_normal_lognormal_1000reps_sim.csv\", ','))\n",
    "# βτcoveragenorm = readdlm(\"result_files/beta_tau_coverage_5betas_normal_normal_lognormal_1000reps_sim.csv\", ',')\n",
    "\n",
    "\n",
    "# samplesizesnorm = collect(1000:1000:6000)\n",
    "# nsnorm = [10; 25; 50; 100; 1000]\n",
    "# nsimsnorm = 1000\n",
    "\n",
    "p = 3\n",
    "sample_sizesrobust = repeat(string.(samplesizesrobust), inner = nsimsrobust * length(nsrobust))\n",
    "obs_sizesrobust = repeat(string.(nsrobust), inner = nsimsrobust, outer = length(samplesizesrobust))\n",
    "msedfrobust = DataFrame(βmse = βMseresult_1, θMse = θMseResult_1,\n",
    "    samplesize = sample_sizesrobust, obssize = obs_sizesrobust)\n",
    "\n",
    "msedfrobustR = deepcopy(msedfrobust)\n",
    "rename!(msedfrobustR, [\"betamse\"\n",
    "    \"thetamse\"\n",
    "    \"samplesize\"\n",
    " \"obssize\"]);\n",
    "\n",
    "\n",
    "mses = [msedfrobustR[!, :betamse]; msedfrobustR[!, :thetamse]]\n",
    "    # msedfnormR[!, :betamse]; msedfnormR[!, :taumse]; msedfnormR[!, :Sigmamse]]\n",
    "obssize = collect([repeat(msedfrobustR[!, :obssize], 2)]...) # ; repeat(msedfnormR[!, :obssize], 3)]\n",
    "\n",
    "samplesize = collect([repeat(msedfrobustR[!, :samplesize], 2)]...) # ; repeat(msedfnormR[!, :samplesize], 3)]\n",
    "\n",
    "parameters = collect([repeat(string.([:beta, :theta]), inner = nsimsrobust * length(nsrobust) * length(samplesizesrobust))]...)\n",
    "# ; repeat(string.([:beta, :tau, :Sigma]), inner = nsimsnorm * length(nsnorm) * length(samplesizesnorm))]\n",
    "robust = collect([repeat([\"Poisson with LogLink\"], 2 * nsimsrobust * length(nsrobust) * length(samplesizesrobust))]...) # ;\n",
    "# repeat([\"Normal Normal Log-Normal\"], 3 * nsimsnorm * length(nsnorm) * length(samplesizesnorm))];\n",
    "\n",
    "msedfR = DataFrame(mse = mses, obssize = obssize, samplesize = samplesize,\n",
    "    parameters = parameters, robust = robust)\n",
    "\n",
    "#5 of the 30,000 simulations did not converge, filter out\n",
    "msedfR = filter(x -> !isnan(x.mse), msedfR)\n",
    "# additionally, there are 5 where an error was not caught so it did not try a differnt solver\n",
    "msedfR = filter(x -> x.mse < 40000, msedfR)"
   ]
  },
  {
   "cell_type": "code",
   "execution_count": 11,
   "metadata": {},
   "outputs": [
    {
     "name": "stderr",
     "output_type": "stream",
     "text": [
      "┌ Warning: RCall.jl: Warning: package ‘scales’ was built under R version 4.0.2\n",
      "└ @ RCall /Users/sarahji/.julia/packages/RCall/iMDW2/src/io.jl:160\n",
      "┌ Warning: RCall.jl: Warning: package ‘data.table’ was built under R version 4.0.2\n",
      "└ @ RCall /Users/sarahji/.julia/packages/RCall/iMDW2/src/io.jl:160\n"
     ]
    },
    {
     "data": {
      "image/png": "[encoded data removed]"
     },
     "metadata": {},
     "output_type": "display_data"
    },
    {
     "data": {
      "text/plain": [
       "RObject{VecSxp}\n"
      ]
     },
     "execution_count": 11,
     "metadata": {},
     "output_type": "execute_result"
    }
   ],
   "source": [
    "### working on figure next\n",
    "@rput msedfR\n",
    "\n",
    "R\"\"\"\n",
    "library(scales)\n",
    "library(ggplot2)\n",
    "library(data.table)\n",
    "\n",
    "msedfR = data.table(msedfR)\n",
    "\n",
    "msedfR[parameters == \"beta\",y_min := 10^-6]\n",
    "msedfR[parameters == \"beta\",y_max := 10^-2]\n",
    "msedfR[parameters == \"theta\",y_min := 10^-5]\n",
    "msedfR[parameters == \"theta\",y_max := 10^1]\n",
    "\n",
    "#msedfR[parameters == \"beta\",y_min := 10^-8]\n",
    "#msedfR[parameters == \"beta\",y_max := 10^-2]\n",
    "#msedfR[parameters == \"tau\",y_min := 10^-8]\n",
    "#msedfR[parameters == \"tau\",y_max := 10^-2]\n",
    "#msedfR[parameters == \"Sigma\",y_min := 10^-5]\n",
    "#msedfR[parameters == \"Sigma\",y_max := 10^-2]\n",
    "\n",
    "\n",
    "msedfR$obssize = factor(msedfR$obssize, levels = c('2', '5', '10', '15', '20', '25'))\n",
    "msedfR$samplesize = factor(msedfR$samplesize, levels = c('100', '1000', '10000'))\n",
    "msedfR$parameters = factor(msedfR$parameters, levels = c('beta', 'theta'), labels = c(beta = expression(hat(bold(beta))), theta = expression(hat(bold(theta)))))\n",
    "msedfR$robust = factor(msedfR$robust, levels = c('Poisson with LogLink'),\n",
    "    labels = c(expression(paste(\"Poisson with LogLink\")))) # , expression(paste(\"MvT Gamma Inverse-Gamma\"))))\n",
    "\n",
    "\n",
    "#mseplot <- ggplot(msedfR[msedfR$mse < 10^0, ], aes(x=samplesize, y=mse, fill=obssize)) + \n",
    "mseplot = ggplot(msedfR[msedfR$mse < 10^3, ], aes(x=samplesize, y=mse, fill=obssize)) + \n",
    "  #geom_boxplot(outlier.size = 0.0, outlier.alpha = 0) +\n",
    "  geom_boxplot(outlier.size = 0.25) +\n",
    "#    geom_violin() +\n",
    "    facet_grid(parameters ~ robust, labeller = label_parsed, scales = \"free_y\") +\n",
    "  theme(legend.position=\"right\", legend.key = element_blank(), axis.text.x = element_text(angle=0, size=15),\n",
    "        axis.text.y = element_text(angle=0, size=15), axis.title.x = element_text(size = 20), \n",
    "        axis.title.y = element_text(size = 20), legend.title = element_text(size = 20),\n",
    "        panel.grid.major = element_blank(), panel.grid.minor = element_blank(),\n",
    "        legend.text=element_text(size=15), panel.background = element_rect(fill = NA, color = \"black\"),\n",
    "        #panel.background = element_blank(), #panel.border = element_blank(),\n",
    "        axis.line = element_line(color = 'black',size=0.3), plot.title = element_text(hjust = 0.5),\n",
    "        strip.background = element_rect(colour=\"black\", fill=\"white\"), strip.text.y = element_text(size=30, face=\"bold\"),\n",
    "        strip.text.x = element_text(size=20)) + \n",
    "  scale_fill_manual(values = c(\"#c85f55\",\n",
    "\"#a964bf\",\n",
    "\"#8db352\",\n",
    "\"#fa7300\",\n",
    "\"#05aec0\",\n",
    "\"#ff1493\")) +\n",
    "#scale_y_log10(breaks = scales::trans_breaks(\"log10\", function(x) 10^x)) +\n",
    "#scale_y_log10(breaks = 10^(-8:8), limit=c(10^-8, 10^2)) + \n",
    "scale_y_log10(breaks = 10^seq(-10, 10, 2), labels=trans_format(\"log10\", math_format(10^.x))) + #, limit=c(10^-8, 10^2)) +\n",
    "  labs(x = \"Sample Size\", y = \"MSE of Parameter Estimates\", fill = \"Cluster Size\") +\n",
    "geom_blank(aes(y = y_max)) + \n",
    "geom_blank(aes(y = y_min)) \n",
    "\n",
    "\"\"\""
   ]
  },
  {
   "cell_type": "code",
   "execution_count": 12,
   "metadata": {},
   "outputs": [
    {
     "data": {
      "text/plain": [
       "RObject{StrSxp}\n",
       "[1] \"updated_msefacetplot_poisson_AR.png\"\n"
      ]
     },
     "execution_count": 12,
     "metadata": {},
     "output_type": "execute_result"
    }
   ],
   "source": [
    "R\"\"\"\n",
    "ggsave('updated_msefacetplot_poisson_AR.png', mseplot, width = 12.5, height = 15, units = 'in', dpi = 450)\n",
    "\"\"\""
   ]
  },
  {
   "cell_type": "code",
   "execution_count": null,
   "metadata": {},
   "outputs": [],
   "source": []
  }
 ],
 "metadata": {
  "@webio": {
   "lastCommId": null,
   "lastKernelId": null
  },
  "kernelspec": {
   "display_name": "Julia 1.6.2",
   "language": "julia",
   "name": "julia-1.6"
  },
  "language_info": {
   "file_extension": ".jl",
   "mimetype": "application/julia",
   "name": "julia",
   "version": "1.6.2"
  }
 },
 "nbformat": 4,
 "nbformat_minor": 2
}
