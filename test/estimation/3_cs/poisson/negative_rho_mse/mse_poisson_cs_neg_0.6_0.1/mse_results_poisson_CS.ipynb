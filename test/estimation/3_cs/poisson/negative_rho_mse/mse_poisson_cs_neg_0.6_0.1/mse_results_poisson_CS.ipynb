{
 "cells": [
  {
   "cell_type": "markdown",
   "metadata": {},
   "source": [
    "## Poisson CS Results \n",
    "\n",
    "This notebook goes over the code needed to reproduce the results from the MSE and time figures in the first simulation in the paper. \n",
    "\n",
    "In this example simulate three fixed effects from a standard Normal distribution, $\\beta \\sim$ randn(p) where p = 3 fixed effects.\n",
    "\n",
    "In this example we have Poisson base distribution with Log Link function and covariance matrix $\\Gamma$ structured under CS covariance with $\\rho = -0.6, \\sigma^2 = 0.1$\n",
    "\n",
    "We run each scenario 100 times."
   ]
  },
  {
   "cell_type": "code",
   "execution_count": 1,
   "metadata": {},
   "outputs": [
    {
     "name": "stdout",
     "output_type": "stream",
     "text": [
      "Julia Version 1.6.2\n",
      "Commit 1b93d53fc4 (2021-07-14 15:36 UTC)\n",
      "Platform Info:\n",
      "  OS: macOS (x86_64-apple-darwin18.7.0)\n",
      "  CPU: Intel(R) Core(TM) i9-9880H CPU @ 2.30GHz\n",
      "  WORD_SIZE: 64\n",
      "  LIBM: libopenlibm\n",
      "  LLVM: libLLVM-11.0.1 (ORCJIT, skylake)\n"
     ]
    }
   ],
   "source": [
    "versioninfo()"
   ]
  },
  {
   "cell_type": "code",
   "execution_count": 2,
   "metadata": {},
   "outputs": [],
   "source": [
    "using GLMCopula, DelimitedFiles, LinearAlgebra, Random, GLM\n",
    "using Random, Roots, SpecialFunctions, DataFrames"
   ]
  },
  {
   "cell_type": "code",
   "execution_count": 3,
   "metadata": {},
   "outputs": [
    {
     "data": {
      "text/plain": [
       "100"
      ]
     },
     "execution_count": 3,
     "metadata": {},
     "output_type": "execute_result"
    }
   ],
   "source": [
    "p  = 3    # number of fixed effects, including intercept\n",
    "\n",
    "# true parameter values\n",
    "Random.seed!(1234)\n",
    "βtrue = rand(Uniform(-0.2, 0.2), p)\n",
    "σ2true = [0.1]\n",
    "ρtrue = [-0.25]\n",
    "θtrue = [ρtrue; σ2true]\n",
    "\n",
    "# generate data\n",
    "trueparams = [βtrue; θtrue] #hold true parameters\n",
    "\n",
    "#simulation parameters\n",
    "samplesizes = [100; 1000; 10000]\n",
    "ns = [2; 5; 10; 15; 20; 25]\n",
    "nsims = 100"
   ]
  },
  {
   "cell_type": "code",
   "execution_count": 4,
   "metadata": {},
   "outputs": [
    {
     "name": "stderr",
     "output_type": "stream",
     "text": [
      "┌ Info: reading in the files with results\n",
      "└ @ Main In[4]:1\n"
     ]
    },
    {
     "data": {
      "text/plain": [
       "1800-element Vector{Float64}:\n",
       "   0.143026522\n",
       "   0.090275361\n",
       "   0.052276903\n",
       "   0.0429527\n",
       "   0.065113132\n",
       "   0.067422046\n",
       "   0.081727322\n",
       "   0.066674368\n",
       "   0.053536123\n",
       "   0.076074643\n",
       "   0.079473709\n",
       "   0.04710745\n",
       "   0.053996817\n",
       "   ⋮\n",
       " NaN\n",
       " NaN\n",
       " NaN\n",
       " NaN\n",
       " NaN\n",
       " NaN\n",
       " NaN\n",
       " NaN\n",
       " NaN\n",
       " NaN\n",
       " NaN\n",
       " NaN"
      ]
     },
     "execution_count": 4,
     "metadata": {},
     "output_type": "execute_result"
    }
   ],
   "source": [
    "@info \"reading in the files with results\"\n",
    "βMseresult = vec(readdlm(\"mse_beta_multivariate_poisson_CS$(nsims)reps_sim.csv\", ','))\n",
    "σ2MseResult = vec(readdlm(\"mse_sigma_multivariate_poisson_CS$(nsims)reps_sim.csv\", ','))\n",
    "ρMseResult = vec(readdlm(\"mse_rho_multivariate_poisson_CS$(nsims)reps_sim.csv\", ','))\n",
    "fittimes = vec(readdlm(\"fittimes_multivariate_poisson_CS$(nsims)reps_sim.csv\", ','))"
   ]
  },
  {
   "cell_type": "code",
   "execution_count": 5,
   "metadata": {},
   "outputs": [
    {
     "name": "stderr",
     "output_type": "stream",
     "text": [
      "┌ Info: making results table\n",
      "└ @ Main In[5]:2\n"
     ]
    },
    {
     "data": {
      "text/html": [
       "<div class=\"data-frame\"><p>14 rows × 8 columns</p><table class=\"data-frame\"><thead><tr><th></th><th>samplesize</th><th>obssize</th><th>fittime</th><th>se</th><th>nobs</th><th>fitmin</th><th>fitmax</th><th>perobsratio</th></tr><tr><th></th><th title=\"String\">String</th><th title=\"String\">String</th><th title=\"Float64\">Float64</th><th title=\"Float64\">Float64</th><th title=\"Int64\">Int64</th><th title=\"Float64\">Float64</th><th title=\"Float64\">Float64</th><th title=\"Float64\">Float64</th></tr></thead><tbody><tr><th>1</th><td>100</td><td>2</td><td>0.0761899</td><td>0.00596943</td><td>200</td><td>0.0702205</td><td>0.0821594</td><td>0.00038095</td></tr><tr><th>2</th><td>100</td><td>5</td><td>0.0769666</td><td>0.00213307</td><td>500</td><td>0.0748335</td><td>0.0790996</td><td>0.000153933</td></tr><tr><th>3</th><td>100</td><td>10</td><td>0.102613</td><td>0.00447004</td><td>1000</td><td>0.0981427</td><td>0.107083</td><td>0.000102613</td></tr><tr><th>4</th><td>100</td><td>15</td><td>0.120084</td><td>0.00932063</td><td>1500</td><td>0.110763</td><td>0.129405</td><td>8.0056e-5</td></tr><tr><th>5</th><td>100</td><td>20</td><td>0.185445</td><td>0.0265526</td><td>2000</td><td>0.158893</td><td>0.211998</td><td>9.27226e-5</td></tr><tr><th>6</th><td>100</td><td>25</td><td>0.151266</td><td>0.0180999</td><td>2500</td><td>0.133166</td><td>0.169366</td><td>6.05064e-5</td></tr><tr><th>7</th><td>1000</td><td>2</td><td>0.135579</td><td>0.00430781</td><td>2000</td><td>0.131272</td><td>0.139887</td><td>6.77897e-5</td></tr><tr><th>8</th><td>1000</td><td>5</td><td>0.165109</td><td>0.00269321</td><td>5000</td><td>0.162416</td><td>0.167803</td><td>3.30219e-5</td></tr><tr><th>9</th><td>1000</td><td>10</td><td>0.206324</td><td>0.00267986</td><td>10000</td><td>0.203644</td><td>0.209004</td><td>2.06324e-5</td></tr><tr><th>10</th><td>1000</td><td>15</td><td>0.239199</td><td>0.00649006</td><td>15000</td><td>0.232709</td><td>0.245689</td><td>1.59466e-5</td></tr><tr><th>11</th><td>1000</td><td>20</td><td>0.415628</td><td>0.0449005</td><td>20000</td><td>0.370727</td><td>0.460528</td><td>2.07814e-5</td></tr><tr><th>12</th><td>10000</td><td>2</td><td>1.05206</td><td>0.0191313</td><td>20000</td><td>1.03293</td><td>1.07119</td><td>5.2603e-5</td></tr><tr><th>13</th><td>10000</td><td>5</td><td>1.30546</td><td>0.0231222</td><td>50000</td><td>1.28234</td><td>1.32858</td><td>2.61092e-5</td></tr><tr><th>14</th><td>10000</td><td>10</td><td>1.73579</td><td>0.0286756</td><td>100000</td><td>1.70712</td><td>1.76447</td><td>1.73579e-5</td></tr></tbody></table></div>"
      ],
      "text/latex": [
       "\\begin{tabular}{r|cccccccc}\n",
       "\t& samplesize & obssize & fittime & se & nobs & fitmin & fitmax & perobsratio\\\\\n",
       "\t\\hline\n",
       "\t& String & String & Float64 & Float64 & Int64 & Float64 & Float64 & Float64\\\\\n",
       "\t\\hline\n",
       "\t1 & 100 & 2 & 0.0761899 & 0.00596943 & 200 & 0.0702205 & 0.0821594 & 0.00038095 \\\\\n",
       "\t2 & 100 & 5 & 0.0769666 & 0.00213307 & 500 & 0.0748335 & 0.0790996 & 0.000153933 \\\\\n",
       "\t3 & 100 & 10 & 0.102613 & 0.00447004 & 1000 & 0.0981427 & 0.107083 & 0.000102613 \\\\\n",
       "\t4 & 100 & 15 & 0.120084 & 0.00932063 & 1500 & 0.110763 & 0.129405 & 8.0056e-5 \\\\\n",
       "\t5 & 100 & 20 & 0.185445 & 0.0265526 & 2000 & 0.158893 & 0.211998 & 9.27226e-5 \\\\\n",
       "\t6 & 100 & 25 & 0.151266 & 0.0180999 & 2500 & 0.133166 & 0.169366 & 6.05064e-5 \\\\\n",
       "\t7 & 1000 & 2 & 0.135579 & 0.00430781 & 2000 & 0.131272 & 0.139887 & 6.77897e-5 \\\\\n",
       "\t8 & 1000 & 5 & 0.165109 & 0.00269321 & 5000 & 0.162416 & 0.167803 & 3.30219e-5 \\\\\n",
       "\t9 & 1000 & 10 & 0.206324 & 0.00267986 & 10000 & 0.203644 & 0.209004 & 2.06324e-5 \\\\\n",
       "\t10 & 1000 & 15 & 0.239199 & 0.00649006 & 15000 & 0.232709 & 0.245689 & 1.59466e-5 \\\\\n",
       "\t11 & 1000 & 20 & 0.415628 & 0.0449005 & 20000 & 0.370727 & 0.460528 & 2.07814e-5 \\\\\n",
       "\t12 & 10000 & 2 & 1.05206 & 0.0191313 & 20000 & 1.03293 & 1.07119 & 5.2603e-5 \\\\\n",
       "\t13 & 10000 & 5 & 1.30546 & 0.0231222 & 50000 & 1.28234 & 1.32858 & 2.61092e-5 \\\\\n",
       "\t14 & 10000 & 10 & 1.73579 & 0.0286756 & 100000 & 1.70712 & 1.76447 & 1.73579e-5 \\\\\n",
       "\\end{tabular}\n"
      ],
      "text/plain": [
       "\u001b[1m14×8 DataFrame\u001b[0m\n",
       "\u001b[1m Row \u001b[0m│\u001b[1m samplesize \u001b[0m\u001b[1m obssize \u001b[0m\u001b[1m fittime   \u001b[0m\u001b[1m se         \u001b[0m\u001b[1m nobs   \u001b[0m\u001b[1m fitmin    \u001b[0m\u001b[1m fitmax  \u001b[0m ⋯\n",
       "\u001b[1m     \u001b[0m│\u001b[90m String     \u001b[0m\u001b[90m String  \u001b[0m\u001b[90m Float64   \u001b[0m\u001b[90m Float64    \u001b[0m\u001b[90m Int64  \u001b[0m\u001b[90m Float64   \u001b[0m\u001b[90m Float64 \u001b[0m ⋯\n",
       "─────┼──────────────────────────────────────────────────────────────────────────\n",
       "   1 │ 100         2        0.0761899  0.00596943     200  0.0702205  0.082159 ⋯\n",
       "   2 │ 100         5        0.0769666  0.00213307     500  0.0748335  0.079099\n",
       "   3 │ 100         10       0.102613   0.00447004    1000  0.0981427  0.107083\n",
       "   4 │ 100         15       0.120084   0.00932063    1500  0.110763   0.129405\n",
       "   5 │ 100         20       0.185445   0.0265526     2000  0.158893   0.211998 ⋯\n",
       "   6 │ 100         25       0.151266   0.0180999     2500  0.133166   0.169366\n",
       "   7 │ 1000        2        0.135579   0.00430781    2000  0.131272   0.139887\n",
       "   8 │ 1000        5        0.165109   0.00269321    5000  0.162416   0.167803\n",
       "   9 │ 1000        10       0.206324   0.00267986   10000  0.203644   0.209004 ⋯\n",
       "  10 │ 1000        15       0.239199   0.00649006   15000  0.232709   0.245689\n",
       "  11 │ 1000        20       0.415628   0.0449005    20000  0.370727   0.460528\n",
       "  12 │ 10000       2        1.05206    0.0191313    20000  1.03293    1.07119\n",
       "  13 │ 10000       5        1.30546    0.0231222    50000  1.28234    1.32858  ⋯\n",
       "  14 │ 10000       10       1.73579    0.0286756   100000  1.70712    1.76447\n",
       "\u001b[36m                                                               2 columns omitted\u001b[0m"
      ]
     },
     "execution_count": 5,
     "metadata": {},
     "output_type": "execute_result"
    }
   ],
   "source": [
    "#simulation parameters\n",
    "@info \"making results table\"\n",
    "sample_sizes = repeat(string.(samplesizes), inner = nsims * length(ns))\n",
    "obs_sizes = repeat(string.(ns), inner = nsims, outer = length(samplesizes))\n",
    "\n",
    "data = hcat(sample_sizes, obs_sizes, fittimes)\n",
    "\n",
    "msedf = DataFrame(samplesize = sample_sizes, obssize = obs_sizes, fittimes = fittimes)\n",
    "msedf = filter(x -> !isnan(x.fittimes), msedf)\n",
    "\n",
    "timedf = combine(groupby(msedf, [:samplesize, :obssize]), :fittimes => mean => :fittime,\n",
    "    :fittimes => x -> (std(x)/sqrt(length(x))))\n",
    "rename!(timedf, Dict(:fittimes_function => \"se\"))\n",
    "timedf[!, :nobs] = Meta.parse.(timedf[!, :samplesize]) .* Meta.parse.(timedf[!, :obssize])\n",
    "timedf[!, :fitmin] = timedf[!, :fittime] - timedf[!, :se]\n",
    "timedf[!, :fitmax] = timedf[!, :fittime] + timedf[!, :se]\n",
    "timedf[!, :perobsratio] = timedf[!, :fittime] ./ timedf[!, :nobs]\n",
    "timedf"
   ]
  },
  {
   "cell_type": "code",
   "execution_count": 6,
   "metadata": {},
   "outputs": [
    {
     "name": "stderr",
     "output_type": "stream",
     "text": [
      "┌ Warning: RCall.jl: Warning: package ‘ggplot2’ was built under R version 4.0.2\n",
      "└ @ RCall /Users/sarahji/.julia/packages/RCall/iMDW2/src/io.jl:160\n"
     ]
    },
    {
     "data": {
      "image/png": "[encoded data removed]"
     },
     "metadata": {},
     "output_type": "display_data"
    },
    {
     "data": {
      "text/plain": [
       "RObject{VecSxp}\n"
      ]
     },
     "execution_count": 6,
     "metadata": {},
     "output_type": "execute_result"
    }
   ],
   "source": [
    "########### plot the runtimes\n",
    "using RCall\n",
    "@rput timedf\n",
    "\n",
    "R\"\"\"\n",
    "library(ggplot2)\n",
    "timedf$obssize = factor(timedf$obssize, levels = c('2', '5', '10', '15', '20', '25'))\n",
    "timedf$samplesize = factor(timedf$samplesize, levels = c('100', '1000', '10000'))\n",
    "\n",
    "fittime_1 = ggplot(timedf, aes(x = samplesize, y = fittime, group = obssize, color = obssize)) + \n",
    "  geom_line() +\n",
    "  geom_point()+\n",
    "  geom_errorbar(aes(ymin=fitmin, ymax=fitmax), width=0.5, alpha = 0.8, position=position_dodge(0.005)) + \n",
    "  theme(legend.position=c(0.15,0.85), legend.key = element_blank(), axis.text.x = element_text(angle=0, size=13),\n",
    "        axis.text.y = element_text(angle=0, size=13), axis.title.x = element_text(size = 17), \n",
    "        axis.title.y = element_text(size = 17), legend.title = element_text(size = 14),\n",
    "        #axis.ticks = element_blank(),\n",
    "        panel.grid.major = element_blank(), legend.text=element_text(size=13),\n",
    "        panel.border = element_blank(), panel.grid.minor = element_blank(), panel.background = element_blank(), \n",
    "        axis.line = element_line(color = 'black',size=0.3), plot.title = element_text(hjust = 0.5)) + \n",
    "   scale_color_manual(values = c(\"#c85f55\",\n",
    "\"#a964bf\",\n",
    "\"#8db352\",\n",
    "\"#fa7300\",\n",
    "\"#05aec0\",\n",
    "\"#ff1493\")) +\n",
    "  labs(x = \"Number of Individuals\", y = \"Fit time (seconds)\", color = \"Obs per Individual\")\n",
    "\"\"\""
   ]
  },
  {
   "cell_type": "code",
   "execution_count": 7,
   "metadata": {},
   "outputs": [
    {
     "data": {
      "text/plain": [
       "RObject{StrSxp}\n",
       "[1] \"fittimes_nobs_poisson_CS_neg_0.04_0.1.png\"\n"
      ]
     },
     "execution_count": 7,
     "metadata": {},
     "output_type": "execute_result"
    }
   ],
   "source": [
    "R\"\"\"\n",
    "    ggsave('fittimes_nobs_poisson_CS_.png', fittime_1, width = 12.5, height = 15, units = 'in', dpi = 450)\n",
    "\"\"\""
   ]
  },
  {
   "cell_type": "code",
   "execution_count": 8,
   "metadata": {},
   "outputs": [],
   "source": [
    "# using RCall\n",
    "# @rput timedf\n",
    "\n",
    "# R\"\"\"\n",
    "# library(scales)\n",
    "# library(ggplot2)\n",
    "# timedf$obssize <- factor(timedf$obssize, levels = c('2', '5', '10', '15', '20', '25'))\n",
    "# timedf$samplesize <- factor(timedf$samplesize, levels = c('100', '1000', '10000'))\n",
    "\n",
    "# fancy_scientific <- function(l) {\n",
    "#      # turn in to character string in scientific notation\n",
    "#      l <- format(l, scientific = TRUE)\n",
    "#      # quote the part before the exponent to keep all the digits\n",
    "#      l <- gsub(\"^(.*)e\", \"'\\\\1'e\", l)\n",
    "#      # turn the 'e+' into plotmath format\n",
    "#      l <- gsub(\"e\", \"%*%10^\", l)\n",
    "#      # return this as an expression\n",
    "#      parse(text=l)\n",
    "# }\n",
    "\n",
    "# fittimeperobs = ggplot(timedf, aes(x=nobs, y=perobsratio)) + \n",
    "#   geom_line() +\n",
    "#   geom_point()+\n",
    "# #  geom_errorbar(aes(ymin=fitmin, ymax=fitmax), width=0.5, alpha = 0.8, position=position_dodge(0.005)) + \n",
    "#   theme(legend.position=c(0.15,0.8), legend.key = element_blank(), axis.text.x = element_text(angle=0, size=13),\n",
    "#         axis.text.y = element_text(angle=0, size=13), axis.title.x = element_text(size = 17), \n",
    "#         axis.title.y = element_text(size = 17), legend.title = element_text(size = 14),\n",
    "#         #axis.ticks = element_blank(),\n",
    "#         panel.grid.major = element_blank(), legend.text=element_text(size=11),\n",
    "#         panel.border = element_blank(), panel.grid.minor = element_blank(), panel.background = element_blank(), \n",
    "#         axis.line = element_line(color = 'black',size=0.3), plot.title = element_text(hjust = 0.5)) + \n",
    "#   labs(x = \"Total Number of Observations\", y = \"Fit time per observation (seconds)\", color = \"Obs per Individual\") +\n",
    "# #scale_x_log10(breaks = 10^seq(0, 7, 1), labels=trans_format(\"log10\", math_format(10^.x)))# + #, limit=c(10^0, 10^7))\n",
    "# scale_x_continuous(breaks = seq(0, 6000000, 1000000), labels= fancy_scientific) +\n",
    "# scale_y_continuous(breaks = c(10^-4, 2 * 10^-4, 3 * 10^-4, 4 * 10^-4, 5 * 10^-4, 6 * 10^-4), labels= fancy_scientific)\n",
    "\n",
    "# \"\"\""
   ]
  },
  {
   "cell_type": "code",
   "execution_count": 7,
   "metadata": {},
   "outputs": [
    {
     "data": {
      "text/html": [
       "<div class=\"data-frame\"><p>18 rows × 6 columns (omitted printing of 2 columns)</p><table class=\"data-frame\"><thead><tr><th></th><th>people_obs</th><th>β1</th><th>β2</th><th>β3</th></tr><tr><th></th><th title=\"String\">String</th><th title=\"Tuple{Float64, Float64}\">Tuple…</th><th title=\"Tuple{Float64, Float64}\">Tuple…</th><th title=\"Tuple{Float64, Float64}\">Tuple…</th></tr></thead><tbody><tr><th>1</th><td>N: 100  ni: 2</td><td>(NaN, NaN)</td><td>(NaN, NaN)</td><td>(NaN, NaN)</td></tr><tr><th>2</th><td>N: 100  ni: 5</td><td>(NaN, NaN)</td><td>(NaN, NaN)</td><td>(NaN, NaN)</td></tr><tr><th>3</th><td>N: 100  ni: 10</td><td>(NaN, NaN)</td><td>(NaN, NaN)</td><td>(NaN, NaN)</td></tr><tr><th>4</th><td>N: 100  ni: 15</td><td>(NaN, NaN)</td><td>(NaN, NaN)</td><td>(NaN, NaN)</td></tr><tr><th>5</th><td>N: 100  ni: 20</td><td>(NaN, NaN)</td><td>(NaN, NaN)</td><td>(NaN, NaN)</td></tr><tr><th>6</th><td>N: 100  ni: 25</td><td>(NaN, NaN)</td><td>(NaN, NaN)</td><td>(NaN, NaN)</td></tr><tr><th>7</th><td>N: 1000  ni: 2</td><td>(0.88, 0.0326599)</td><td>(NaN, NaN)</td><td>(0.799087, 0.040395)</td></tr><tr><th>8</th><td>N: 1000  ni: 5</td><td>(NaN, NaN)</td><td>(NaN, NaN)</td><td>(NaN, NaN)</td></tr><tr><th>9</th><td>N: 1000  ni: 10</td><td>(NaN, NaN)</td><td>(NaN, NaN)</td><td>(NaN, NaN)</td></tr><tr><th>10</th><td>N: 1000  ni: 15</td><td>(NaN, NaN)</td><td>(NaN, NaN)</td><td>(NaN, NaN)</td></tr><tr><th>11</th><td>N: 1000  ni: 20</td><td>(NaN, NaN)</td><td>(NaN, NaN)</td><td>(NaN, NaN)</td></tr><tr><th>12</th><td>N: 1000  ni: 25</td><td>(NaN, NaN)</td><td>(NaN, NaN)</td><td>(NaN, NaN)</td></tr><tr><th>13</th><td>N: 10000  ni: 2</td><td>(0.99, 0.01)</td><td>(0.79, 0.040936)</td><td>(0.91, 0.0287623)</td></tr><tr><th>14</th><td>N: 10000  ni: 5</td><td>(0.9, 0.0301511)</td><td>(0.82, 0.0386123)</td><td>(0.88, 0.0326599)</td></tr><tr><th>15</th><td>N: 10000  ni: 10</td><td>(NaN, NaN)</td><td>(NaN, NaN)</td><td>(NaN, NaN)</td></tr><tr><th>16</th><td>N: 10000  ni: 15</td><td>(NaN, NaN)</td><td>(NaN, NaN)</td><td>(NaN, NaN)</td></tr><tr><th>17</th><td>N: 10000  ni: 20</td><td>(NaN, NaN)</td><td>(NaN, NaN)</td><td>(NaN, NaN)</td></tr><tr><th>18</th><td>N: 10000  ni: 25</td><td>(0.941278, 0.0255457)</td><td>(0.95746, 0.024788)</td><td>(0.91507, 0.0351766)</td></tr></tbody></table></div>"
      ],
      "text/latex": [
       "\\begin{tabular}{r|ccccc}\n",
       "\t& people\\_obs & β1 & β2 & β3 & \\\\\n",
       "\t\\hline\n",
       "\t& String & Tuple… & Tuple… & Tuple… & \\\\\n",
       "\t\\hline\n",
       "\t1 & N: 100  ni: 2 & (NaN, NaN) & (NaN, NaN) & (NaN, NaN) & $\\dots$ \\\\\n",
       "\t2 & N: 100  ni: 5 & (NaN, NaN) & (NaN, NaN) & (NaN, NaN) & $\\dots$ \\\\\n",
       "\t3 & N: 100  ni: 10 & (NaN, NaN) & (NaN, NaN) & (NaN, NaN) & $\\dots$ \\\\\n",
       "\t4 & N: 100  ni: 15 & (NaN, NaN) & (NaN, NaN) & (NaN, NaN) & $\\dots$ \\\\\n",
       "\t5 & N: 100  ni: 20 & (NaN, NaN) & (NaN, NaN) & (NaN, NaN) & $\\dots$ \\\\\n",
       "\t6 & N: 100  ni: 25 & (NaN, NaN) & (NaN, NaN) & (NaN, NaN) & $\\dots$ \\\\\n",
       "\t7 & N: 1000  ni: 2 & (0.88, 0.0326599) & (NaN, NaN) & (0.799087, 0.040395) & $\\dots$ \\\\\n",
       "\t8 & N: 1000  ni: 5 & (NaN, NaN) & (NaN, NaN) & (NaN, NaN) & $\\dots$ \\\\\n",
       "\t9 & N: 1000  ni: 10 & (NaN, NaN) & (NaN, NaN) & (NaN, NaN) & $\\dots$ \\\\\n",
       "\t10 & N: 1000  ni: 15 & (NaN, NaN) & (NaN, NaN) & (NaN, NaN) & $\\dots$ \\\\\n",
       "\t11 & N: 1000  ni: 20 & (NaN, NaN) & (NaN, NaN) & (NaN, NaN) & $\\dots$ \\\\\n",
       "\t12 & N: 1000  ni: 25 & (NaN, NaN) & (NaN, NaN) & (NaN, NaN) & $\\dots$ \\\\\n",
       "\t13 & N: 10000  ni: 2 & (0.99, 0.01) & (0.79, 0.040936) & (0.91, 0.0287623) & $\\dots$ \\\\\n",
       "\t14 & N: 10000  ni: 5 & (0.9, 0.0301511) & (0.82, 0.0386123) & (0.88, 0.0326599) & $\\dots$ \\\\\n",
       "\t15 & N: 10000  ni: 10 & (NaN, NaN) & (NaN, NaN) & (NaN, NaN) & $\\dots$ \\\\\n",
       "\t16 & N: 10000  ni: 15 & (NaN, NaN) & (NaN, NaN) & (NaN, NaN) & $\\dots$ \\\\\n",
       "\t17 & N: 10000  ni: 20 & (NaN, NaN) & (NaN, NaN) & (NaN, NaN) & $\\dots$ \\\\\n",
       "\t18 & N: 10000  ni: 25 & (0.941278, 0.0255457) & (0.95746, 0.024788) & (0.91507, 0.0351766) & $\\dots$ \\\\\n",
       "\\end{tabular}\n"
      ],
      "text/plain": [
       "\u001b[1m18×6 DataFrame\u001b[0m\n",
       "\u001b[1m Row \u001b[0m│\u001b[1m people_obs       \u001b[0m\u001b[1m β1                    \u001b[0m\u001b[1m β2                  \u001b[0m\u001b[1m β3       \u001b[0m ⋯\n",
       "\u001b[1m     \u001b[0m│\u001b[90m String           \u001b[0m\u001b[90m Tuple…                \u001b[0m\u001b[90m Tuple…              \u001b[0m\u001b[90m Tuple…   \u001b[0m ⋯\n",
       "─────┼──────────────────────────────────────────────────────────────────────────\n",
       "   1 │ N: 100  ni: 2     (NaN, NaN)             (NaN, NaN)           (NaN, NaN ⋯\n",
       "   2 │ N: 100  ni: 5     (NaN, NaN)             (NaN, NaN)           (NaN, NaN\n",
       "   3 │ N: 100  ni: 10    (NaN, NaN)             (NaN, NaN)           (NaN, NaN\n",
       "   4 │ N: 100  ni: 15    (NaN, NaN)             (NaN, NaN)           (NaN, NaN\n",
       "   5 │ N: 100  ni: 20    (NaN, NaN)             (NaN, NaN)           (NaN, NaN ⋯\n",
       "   6 │ N: 100  ni: 25    (NaN, NaN)             (NaN, NaN)           (NaN, NaN\n",
       "   7 │ N: 1000  ni: 2    (0.88, 0.0326599)      (NaN, NaN)           (0.799087\n",
       "   8 │ N: 1000  ni: 5    (NaN, NaN)             (NaN, NaN)           (NaN, NaN\n",
       "   9 │ N: 1000  ni: 10   (NaN, NaN)             (NaN, NaN)           (NaN, NaN ⋯\n",
       "  10 │ N: 1000  ni: 15   (NaN, NaN)             (NaN, NaN)           (NaN, NaN\n",
       "  11 │ N: 1000  ni: 20   (NaN, NaN)             (NaN, NaN)           (NaN, NaN\n",
       "  12 │ N: 1000  ni: 25   (NaN, NaN)             (NaN, NaN)           (NaN, NaN\n",
       "  13 │ N: 10000  ni: 2   (0.99, 0.01)           (0.79, 0.040936)     (0.91, 0. ⋯\n",
       "  14 │ N: 10000  ni: 5   (0.9, 0.0301511)       (0.82, 0.0386123)    (0.88, 0.\n",
       "  15 │ N: 10000  ni: 10  (NaN, NaN)             (NaN, NaN)           (NaN, NaN\n",
       "  16 │ N: 10000  ni: 15  (NaN, NaN)             (NaN, NaN)           (NaN, NaN\n",
       "  17 │ N: 10000  ni: 20  (NaN, NaN)             (NaN, NaN)           (NaN, NaN ⋯\n",
       "  18 │ N: 10000  ni: 25  (0.941278, 0.0255457)  (0.95746, 0.024788)  (0.91507,\n",
       "\u001b[36m                                                               3 columns omitted\u001b[0m"
      ]
     },
     "execution_count": 7,
     "metadata": {},
     "output_type": "execute_result"
    }
   ],
   "source": [
    "######  supplementary table s1\n",
    "using Random, DataFrames, DelimitedFiles, Statistics\n",
    "import StatsBase: sem\n",
    "\n",
    "βρσ2coverage = readdlm(\"beta_sigma_coverage_multivariate_poisson_CS$(nsims)reps_sim.csv\", ',')\n",
    "\n",
    "m = 2\n",
    "\n",
    "covdf = DataFrame(Matrix(transpose(βρσ2coverage)), :auto)\n",
    "rename!(covdf, Symbol.([[\"β$i\" for i in 1:p]; [\"σ2\"];  [\"ρ\"]]))\n",
    "covdf[!, :samplesize] = sample_sizes\n",
    "covdf[!, :obssize] = obs_sizes\n",
    "first(covdf, 10)\n",
    "\n",
    "row_stats = [[(mean(col), sem(col)) for col = eachcol(d[!, 1:end-2])] for d = groupby(covdf, [:samplesize; :obssize])]\n",
    "df = DataFrame(row_stats, :auto)\n",
    "ss_obs = unique(\"N: \" .* sample_sizes .* \"  ni: \" .* obs_sizes)\n",
    "rename!(df, Symbol.(ss_obs))\n",
    "covdfdisplay = DataFrame([[names(df)]; collect.(eachrow(df))], \n",
    "    [:people_obs; Symbol.([[\"β$i\" for i in 1:p]; [\"σ2\"]; [\"ρ\"]])])\n",
    "# deletecols!(covdfdisplay, p + 2)\n",
    "covdfdisplay\n"
   ]
  },
  {
   "cell_type": "code",
   "execution_count": 11,
   "metadata": {},
   "outputs": [
    {
     "data": {
      "text/html": [
       "<div class=\"data-frame\"><p>1,635 rows × 5 columns</p><table class=\"data-frame\"><thead><tr><th></th><th>mse</th><th>obssize</th><th>samplesize</th><th>parameters</th><th>robust</th></tr><tr><th></th><th title=\"Float64\">Float64</th><th title=\"String\">String</th><th title=\"String\">String</th><th title=\"String\">String</th><th title=\"String\">String</th></tr></thead><tbody><tr><th>1</th><td>0.00452348</td><td>2</td><td>100</td><td>beta</td><td>Poisson with LogLink</td></tr><tr><th>2</th><td>0.00292334</td><td>2</td><td>100</td><td>beta</td><td>Poisson with LogLink</td></tr><tr><th>3</th><td>0.00254066</td><td>2</td><td>100</td><td>beta</td><td>Poisson with LogLink</td></tr><tr><th>4</th><td>0.00429615</td><td>2</td><td>100</td><td>beta</td><td>Poisson with LogLink</td></tr><tr><th>5</th><td>0.0078599</td><td>2</td><td>100</td><td>beta</td><td>Poisson with LogLink</td></tr><tr><th>6</th><td>0.000683432</td><td>2</td><td>100</td><td>beta</td><td>Poisson with LogLink</td></tr><tr><th>7</th><td>0.00675064</td><td>2</td><td>100</td><td>beta</td><td>Poisson with LogLink</td></tr><tr><th>8</th><td>0.00459425</td><td>2</td><td>100</td><td>beta</td><td>Poisson with LogLink</td></tr><tr><th>9</th><td>0.00616921</td><td>2</td><td>100</td><td>beta</td><td>Poisson with LogLink</td></tr><tr><th>10</th><td>0.0240244</td><td>2</td><td>100</td><td>beta</td><td>Poisson with LogLink</td></tr><tr><th>11</th><td>0.00229215</td><td>2</td><td>100</td><td>beta</td><td>Poisson with LogLink</td></tr><tr><th>12</th><td>0.0524698</td><td>2</td><td>100</td><td>beta</td><td>Poisson with LogLink</td></tr><tr><th>13</th><td>0.0102893</td><td>2</td><td>100</td><td>beta</td><td>Poisson with LogLink</td></tr><tr><th>14</th><td>0.00325059</td><td>2</td><td>100</td><td>beta</td><td>Poisson with LogLink</td></tr><tr><th>15</th><td>0.00607098</td><td>2</td><td>100</td><td>beta</td><td>Poisson with LogLink</td></tr><tr><th>16</th><td>0.0143157</td><td>2</td><td>100</td><td>beta</td><td>Poisson with LogLink</td></tr><tr><th>17</th><td>0.00306772</td><td>2</td><td>100</td><td>beta</td><td>Poisson with LogLink</td></tr><tr><th>18</th><td>0.00971288</td><td>2</td><td>100</td><td>beta</td><td>Poisson with LogLink</td></tr><tr><th>19</th><td>0.0107121</td><td>2</td><td>100</td><td>beta</td><td>Poisson with LogLink</td></tr><tr><th>20</th><td>0.00708016</td><td>2</td><td>100</td><td>beta</td><td>Poisson with LogLink</td></tr><tr><th>21</th><td>0.00811587</td><td>2</td><td>100</td><td>beta</td><td>Poisson with LogLink</td></tr><tr><th>22</th><td>0.0099583</td><td>2</td><td>100</td><td>beta</td><td>Poisson with LogLink</td></tr><tr><th>23</th><td>0.000679927</td><td>2</td><td>100</td><td>beta</td><td>Poisson with LogLink</td></tr><tr><th>24</th><td>0.00697672</td><td>2</td><td>100</td><td>beta</td><td>Poisson with LogLink</td></tr><tr><th>25</th><td>0.00529477</td><td>2</td><td>100</td><td>beta</td><td>Poisson with LogLink</td></tr><tr><th>26</th><td>0.0124991</td><td>2</td><td>100</td><td>beta</td><td>Poisson with LogLink</td></tr><tr><th>27</th><td>0.00256834</td><td>2</td><td>100</td><td>beta</td><td>Poisson with LogLink</td></tr><tr><th>28</th><td>0.0029921</td><td>2</td><td>100</td><td>beta</td><td>Poisson with LogLink</td></tr><tr><th>29</th><td>0.0238453</td><td>2</td><td>100</td><td>beta</td><td>Poisson with LogLink</td></tr><tr><th>30</th><td>0.0107854</td><td>2</td><td>100</td><td>beta</td><td>Poisson with LogLink</td></tr><tr><th>&vellip;</th><td>&vellip;</td><td>&vellip;</td><td>&vellip;</td><td>&vellip;</td><td>&vellip;</td></tr></tbody></table></div>"
      ],
      "text/latex": [
       "\\begin{tabular}{r|ccccc}\n",
       "\t& mse & obssize & samplesize & parameters & robust\\\\\n",
       "\t\\hline\n",
       "\t& Float64 & String & String & String & String\\\\\n",
       "\t\\hline\n",
       "\t1 & 0.00452348 & 2 & 100 & beta & Poisson with LogLink \\\\\n",
       "\t2 & 0.00292334 & 2 & 100 & beta & Poisson with LogLink \\\\\n",
       "\t3 & 0.00254066 & 2 & 100 & beta & Poisson with LogLink \\\\\n",
       "\t4 & 0.00429615 & 2 & 100 & beta & Poisson with LogLink \\\\\n",
       "\t5 & 0.0078599 & 2 & 100 & beta & Poisson with LogLink \\\\\n",
       "\t6 & 0.000683432 & 2 & 100 & beta & Poisson with LogLink \\\\\n",
       "\t7 & 0.00675064 & 2 & 100 & beta & Poisson with LogLink \\\\\n",
       "\t8 & 0.00459425 & 2 & 100 & beta & Poisson with LogLink \\\\\n",
       "\t9 & 0.00616921 & 2 & 100 & beta & Poisson with LogLink \\\\\n",
       "\t10 & 0.0240244 & 2 & 100 & beta & Poisson with LogLink \\\\\n",
       "\t11 & 0.00229215 & 2 & 100 & beta & Poisson with LogLink \\\\\n",
       "\t12 & 0.0524698 & 2 & 100 & beta & Poisson with LogLink \\\\\n",
       "\t13 & 0.0102893 & 2 & 100 & beta & Poisson with LogLink \\\\\n",
       "\t14 & 0.00325059 & 2 & 100 & beta & Poisson with LogLink \\\\\n",
       "\t15 & 0.00607098 & 2 & 100 & beta & Poisson with LogLink \\\\\n",
       "\t16 & 0.0143157 & 2 & 100 & beta & Poisson with LogLink \\\\\n",
       "\t17 & 0.00306772 & 2 & 100 & beta & Poisson with LogLink \\\\\n",
       "\t18 & 0.00971288 & 2 & 100 & beta & Poisson with LogLink \\\\\n",
       "\t19 & 0.0107121 & 2 & 100 & beta & Poisson with LogLink \\\\\n",
       "\t20 & 0.00708016 & 2 & 100 & beta & Poisson with LogLink \\\\\n",
       "\t21 & 0.00811587 & 2 & 100 & beta & Poisson with LogLink \\\\\n",
       "\t22 & 0.0099583 & 2 & 100 & beta & Poisson with LogLink \\\\\n",
       "\t23 & 0.000679927 & 2 & 100 & beta & Poisson with LogLink \\\\\n",
       "\t24 & 0.00697672 & 2 & 100 & beta & Poisson with LogLink \\\\\n",
       "\t25 & 0.00529477 & 2 & 100 & beta & Poisson with LogLink \\\\\n",
       "\t26 & 0.0124991 & 2 & 100 & beta & Poisson with LogLink \\\\\n",
       "\t27 & 0.00256834 & 2 & 100 & beta & Poisson with LogLink \\\\\n",
       "\t28 & 0.0029921 & 2 & 100 & beta & Poisson with LogLink \\\\\n",
       "\t29 & 0.0238453 & 2 & 100 & beta & Poisson with LogLink \\\\\n",
       "\t30 & 0.0107854 & 2 & 100 & beta & Poisson with LogLink \\\\\n",
       "\t$\\dots$ & $\\dots$ & $\\dots$ & $\\dots$ & $\\dots$ & $\\dots$ \\\\\n",
       "\\end{tabular}\n"
      ],
      "text/plain": [
       "\u001b[1m1635×5 DataFrame\u001b[0m\n",
       "\u001b[1m  Row \u001b[0m│\u001b[1m mse         \u001b[0m\u001b[1m obssize \u001b[0m\u001b[1m samplesize \u001b[0m\u001b[1m parameters \u001b[0m\u001b[1m robust               \u001b[0m\n",
       "\u001b[1m      \u001b[0m│\u001b[90m Float64     \u001b[0m\u001b[90m String  \u001b[0m\u001b[90m String     \u001b[0m\u001b[90m String     \u001b[0m\u001b[90m String               \u001b[0m\n",
       "──────┼────────────────────────────────────────────────────────────────────\n",
       "    1 │ 0.00452348   2        100         beta        Poisson with LogLink\n",
       "    2 │ 0.00292334   2        100         beta        Poisson with LogLink\n",
       "    3 │ 0.00254066   2        100         beta        Poisson with LogLink\n",
       "    4 │ 0.00429615   2        100         beta        Poisson with LogLink\n",
       "    5 │ 0.0078599    2        100         beta        Poisson with LogLink\n",
       "    6 │ 0.000683432  2        100         beta        Poisson with LogLink\n",
       "    7 │ 0.00675064   2        100         beta        Poisson with LogLink\n",
       "    8 │ 0.00459425   2        100         beta        Poisson with LogLink\n",
       "    9 │ 0.00616921   2        100         beta        Poisson with LogLink\n",
       "   10 │ 0.0240244    2        100         beta        Poisson with LogLink\n",
       "   11 │ 0.00229215   2        100         beta        Poisson with LogLink\n",
       "  ⋮   │      ⋮          ⋮         ⋮           ⋮                ⋮\n",
       " 1626 │ 0.00220247   10       10000       theta       Poisson with LogLink\n",
       " 1627 │ 0.000681532  10       10000       theta       Poisson with LogLink\n",
       " 1628 │ 0.00018674   10       10000       theta       Poisson with LogLink\n",
       " 1629 │ 1.06863e-5   10       10000       theta       Poisson with LogLink\n",
       " 1630 │ 0.00024954   10       10000       theta       Poisson with LogLink\n",
       " 1631 │ 9.41948e-6   10       10000       theta       Poisson with LogLink\n",
       " 1632 │ 0.00427033   10       10000       theta       Poisson with LogLink\n",
       " 1633 │ 0.000543821  10       10000       theta       Poisson with LogLink\n",
       " 1634 │ 0.0002952    10       10000       theta       Poisson with LogLink\n",
       " 1635 │ 1.90189e-5   10       10000       theta       Poisson with LogLink\n",
       "\u001b[36m                                                          1614 rows omitted\u001b[0m"
      ]
     },
     "execution_count": 11,
     "metadata": {},
     "output_type": "execute_result"
    }
   ],
   "source": [
    "#### \n",
    "#import data and reorganize to create figure\n",
    "using Random, DataFrames, DelimitedFiles, Statistics, RCall, Printf\n",
    "import StatsBase: sem\n",
    "\n",
    "βMseresult_1 = vec(readdlm(\"mse_beta_multivariate_poisson_CS$(nsims)reps_sim.csv\", ','))\n",
    "σ2MseResult_1 = vec(readdlm(\"mse_sigma_multivariate_poisson_CS$(nsims)reps_sim.csv\", ','))\n",
    "ρMseResult_1 = vec(readdlm(\"mse_rho_multivariate_poisson_CS$(nsims)reps_sim.csv\", ','))\n",
    "θMseResult_1 = (σ2MseResult_1 .+ ρMseResult_1) ./ 2\n",
    "βρσ2coverage_1 = readdlm(\"beta_sigma_coverage_multivariate_poisson_CS$(nsims)reps_sim.csv\", ',')\n",
    "\n",
    "samplesizesrobust = samplesizes\n",
    "nsrobust = ns\n",
    "nsimsrobust = nsims\n",
    "\n",
    "# βMseresultnorm = vec(readdlm(\"result_files/mse_beta_normal_normal_lognormal_1000reps_sim.csv\", ','))\n",
    "# τMseresultnorm = vec(readdlm(\"result_files/mse_tau_normal_normal_lognormal_1000reps_sim.csv\", ','))\n",
    "# ΣMseresultnorm = vec(readdlm(\"result_files/mse_Sigma_normal_normal_lognormal_1000reps_sim.csv\", ','))\n",
    "# βτcoveragenorm = readdlm(\"result_files/beta_tau_coverage_5betas_normal_normal_lognormal_1000reps_sim.csv\", ',')\n",
    "\n",
    "\n",
    "# samplesizesnorm = collect(1000:1000:6000)\n",
    "# nsnorm = [10; 25; 50; 100; 1000]\n",
    "# nsimsnorm = 1000\n",
    "\n",
    "p = 3\n",
    "sample_sizesrobust = repeat(string.(samplesizesrobust), inner = nsimsrobust * length(nsrobust))\n",
    "obs_sizesrobust = repeat(string.(nsrobust), inner = nsimsrobust, outer = length(samplesizesrobust))\n",
    "msedfrobust = DataFrame(βmse = βMseresult_1, θMse = θMseResult_1,\n",
    "    samplesize = sample_sizesrobust, obssize = obs_sizesrobust)\n",
    "\n",
    "msedfrobustR = deepcopy(msedfrobust)\n",
    "rename!(msedfrobustR, [\"betamse\"\n",
    "    \"thetamse\"\n",
    "    \"samplesize\"\n",
    " \"obssize\"]);\n",
    "\n",
    "\n",
    "mses = [msedfrobustR[!, :betamse]; msedfrobustR[!, :thetamse]]\n",
    "    # msedfnormR[!, :betamse]; msedfnormR[!, :taumse]; msedfnormR[!, :Sigmamse]]\n",
    "obssize = collect([repeat(msedfrobustR[!, :obssize], 2)]...) # ; repeat(msedfnormR[!, :obssize], 3)]\n",
    "\n",
    "samplesize = collect([repeat(msedfrobustR[!, :samplesize], 2)]...) # ; repeat(msedfnormR[!, :samplesize], 3)]\n",
    "\n",
    "parameters = collect([repeat(string.([:beta, :theta]), inner = nsimsrobust * length(nsrobust) * length(samplesizesrobust))]...)\n",
    "# ; repeat(string.([:beta, :tau, :Sigma]), inner = nsimsnorm * length(nsnorm) * length(samplesizesnorm))]\n",
    "robust = collect([repeat([\"Poisson with LogLink\"], 2 * nsimsrobust * length(nsrobust) * length(samplesizesrobust))]...) # ;\n",
    "# repeat([\"Normal Normal Log-Normal\"], 3 * nsimsnorm * length(nsnorm) * length(samplesizesnorm))];\n",
    "\n",
    "msedfR = DataFrame(mse = mses, obssize = obssize, samplesize = samplesize,\n",
    "    parameters = parameters, robust = robust)\n",
    "\n",
    "#5 of the 30,000 simulations did not converge, filter out\n",
    "msedfR = filter(x -> !isnan(x.mse), msedfR)\n",
    "# additionally, there are 5 where an error was not caught so it did not try a differnt solver\n",
    "msedfR = filter(x -> x.mse < 40000, msedfR)"
   ]
  },
  {
   "cell_type": "code",
   "execution_count": 12,
   "metadata": {},
   "outputs": [
    {
     "data": {
      "image/png": "[encoded data removed]"
     },
     "metadata": {},
     "output_type": "display_data"
    },
    {
     "data": {
      "text/plain": [
       "RObject{VecSxp}\n"
      ]
     },
     "execution_count": 12,
     "metadata": {},
     "output_type": "execute_result"
    }
   ],
   "source": [
    "### working on figure next\n",
    "@rput msedfR\n",
    "\n",
    "R\"\"\"\n",
    "library(scales)\n",
    "library(ggplot2)\n",
    "library(data.table)\n",
    "\n",
    "msedfR = data.table(msedfR)\n",
    "\n",
    "msedfR[parameters == \"beta\",y_min := 10^-8]\n",
    "msedfR[parameters == \"beta\",y_max := 10^-1]\n",
    "msedfR[parameters == \"theta\",y_min := 10^-5]\n",
    "msedfR[parameters == \"theta\",y_max := 10^1]\n",
    "\n",
    "#msedfR[parameters == \"beta\",y_min := 10^-8]\n",
    "#msedfR[parameters == \"beta\",y_max := 10^-2]\n",
    "#msedfR[parameters == \"tau\",y_min := 10^-8]\n",
    "#msedfR[parameters == \"tau\",y_max := 10^-2]\n",
    "#msedfR[parameters == \"Sigma\",y_min := 10^-5]\n",
    "#msedfR[parameters == \"Sigma\",y_max := 10^-2]\n",
    "\n",
    "\n",
    "msedfR$obssize = factor(msedfR$obssize, levels = c('2', '5', '10', '15', '20', '25'))\n",
    "msedfR$samplesize = factor(msedfR$samplesize, levels = c('100', '1000', '10000'))\n",
    "msedfR$parameters = factor(msedfR$parameters, levels = c('beta', 'theta'), labels = c(beta = expression(hat(bold(beta))), theta = expression(hat(bold(theta)))))\n",
    "msedfR$robust = factor(msedfR$robust, levels = c('Poisson with LogLink'),\n",
    "    labels = c(expression(paste(\"Poisson with LogLink\")))) # , expression(paste(\"MvT Gamma Inverse-Gamma\"))))\n",
    "\n",
    "#mseplot <- ggplot(msedfR[msedfR$mse < 10^0, ], aes(x=samplesize, y=mse, fill=obssize)) + \n",
    "mseplot = ggplot(msedfR[msedfR$mse < 10^3, ], aes(x=samplesize, y=mse, fill=obssize)) + \n",
    "  #geom_boxplot(outlier.size = 0.0, outlier.alpha = 0) +\n",
    "  geom_boxplot(outlier.size = 0.25) +\n",
    "#    geom_violin() +\n",
    "    facet_grid(parameters ~ robust, labeller = label_parsed, scales = \"free_y\") +\n",
    "  theme(legend.position=\"right\", legend.key = element_blank(), axis.text.x = element_text(angle=0, size=30),\n",
    "        axis.text.y = element_text(angle=0, size=30), axis.title.x = element_text(size = 30, face=\"bold\"), \n",
    "        axis.title.y = element_text(size = 40, face=\"bold\"), legend.title = element_text(size = 30, face=\"bold\"),\n",
    "        panel.grid.major = element_blank(), panel.grid.minor = element_blank(),\n",
    "        legend.text=element_text(size=30), panel.background = element_rect(fill = NA, color = \"black\"),\n",
    "        #panel.background = element_blank(), #panel.border = element_blank(),\n",
    "        axis.line = element_line(color = 'black',size=0.3), plot.title = element_text(hjust = 0.5),\n",
    "        strip.background = element_rect(colour=\"black\", fill=\"white\"), strip.text.y = element_text(angle = 0, size=75, face=\"bold\"),\n",
    "        strip.text.x = element_text(size=25)) + \n",
    "  scale_fill_manual(values = c(\"#c85f55\",\n",
    "\"#a964bf\",\n",
    "\"#8db352\",\n",
    "\"#fa7300\",\n",
    "\"#05aec0\",\n",
    "\"#ff1493\")) +\n",
    "#scale_y_log10(breaks = scales::trans_breaks(\"log10\", function(x) 10^x)) +\n",
    "#scale_y_log10(breaks = 10^(-8:8), limit=c(10^-8, 10^2)) + \n",
    "scale_y_log10(breaks = 10^seq(-10, 10, 2), labels=trans_format(\"log10\", math_format(10^.x))) + #, limit=c(10^-8, 10^2)) +\n",
    "  labs(x = \"Sample Size\", y = \"MSE of Parameter Estimates\", fill = \"Cluster Size\") +\n",
    "geom_blank(aes(y = y_max)) + \n",
    "geom_blank(aes(y = y_min)) \n",
    "\"\"\""
   ]
  },
  {
   "cell_type": "code",
   "execution_count": 10,
   "metadata": {},
   "outputs": [
    {
     "data": {
      "text/plain": [
       "RObject{StrSxp}\n",
       "[1] \"updated_msefacetplot_poisson_CS_rho_neg_0.25.png\"\n"
      ]
     },
     "execution_count": 10,
     "metadata": {},
     "output_type": "execute_result"
    }
   ],
   "source": [
    "R\"\"\"\n",
    "    ggsave('updated_msefacetplot_poisson_CS_rho_neg_0.25.png', mseplot, width = 12.5, height = 15, units = 'in', dpi = 450)\n",
    "\"\"\""
   ]
  },
  {
   "cell_type": "code",
   "execution_count": null,
   "metadata": {},
   "outputs": [],
   "source": []
  }
 ],
 "metadata": {
  "@webio": {
   "lastCommId": null,
   "lastKernelId": null
  },
  "kernelspec": {
   "display_name": "Julia 1.6.2",
   "language": "julia",
   "name": "julia-1.6"
  },
  "language_info": {
   "file_extension": ".jl",
   "mimetype": "application/julia",
   "name": "julia",
   "version": "1.6.2"
  }
 },
 "nbformat": 4,
 "nbformat_minor": 2
}
