{
 "cells": [
  {
   "cell_type": "markdown",
   "metadata": {},
   "source": [
    "## Poisson CS Results \n",
    "\n",
    "This notebook goes over the code needed to reproduce the results from the MSE and time figures in the first simulation in the paper. \n",
    "\n",
    "In this example simulate three fixed effects from a standard Normal distribution, $\\beta \\sim$ randn(p) where p = 3 fixed effects.\n",
    "\n",
    "In this example we have Poisson base distribution with Log Link function and covariance matrix $\\Gamma$ structured under CS covariance with $\\rho = -0.2, \\sigma^2 = 0.1$\n",
    "\n",
    "We run each scenario 100 times."
   ]
  },
  {
   "cell_type": "code",
   "execution_count": 1,
   "metadata": {},
   "outputs": [
    {
     "name": "stdout",
     "output_type": "stream",
     "text": [
      "Julia Version 1.6.2\n",
      "Commit 1b93d53fc4 (2021-07-14 15:36 UTC)\n",
      "Platform Info:\n",
      "  OS: macOS (x86_64-apple-darwin18.7.0)\n",
      "  CPU: Intel(R) Core(TM) i9-9880H CPU @ 2.30GHz\n",
      "  WORD_SIZE: 64\n",
      "  LIBM: libopenlibm\n",
      "  LLVM: libLLVM-11.0.1 (ORCJIT, skylake)\n"
     ]
    }
   ],
   "source": [
    "versioninfo()"
   ]
  },
  {
   "cell_type": "code",
   "execution_count": 2,
   "metadata": {},
   "outputs": [
    {
     "name": "stderr",
     "output_type": "stream",
     "text": [
      "┌ Info: Precompiling GLMCopula [c47b6ae2-b804-4668-9957-eb588c99ffbc]\n",
      "└ @ Base loading.jl:1342\n"
     ]
    }
   ],
   "source": [
    "using GLMCopula, DelimitedFiles, LinearAlgebra, Random, GLM\n",
    "using Random, Roots, SpecialFunctions, DataFrames"
   ]
  },
  {
   "cell_type": "code",
   "execution_count": 3,
   "metadata": {},
   "outputs": [
    {
     "data": {
      "text/plain": [
       "100"
      ]
     },
     "execution_count": 3,
     "metadata": {},
     "output_type": "execute_result"
    }
   ],
   "source": [
    "p = 1    # number of fixed effects, including intercept\n",
    "\n",
    "# true parameter values\n",
    "βtrue = [log(5.0)]\n",
    "σ2true = [0.1]\n",
    "ρtrue = [-0.2]\n",
    "θtrue = [σ2true; ρtrue]\n",
    "\n",
    "# generate data\n",
    "trueparams = [βtrue; θtrue] #hold true parameters\n",
    "\n",
    "#simulation parameters\n",
    "samplesizes = [100; 1000; 10000]\n",
    "ns = [2; 5; 10; 15; 20; 25]\n",
    "nsims = 100"
   ]
  },
  {
   "cell_type": "code",
   "execution_count": 4,
   "metadata": {},
   "outputs": [
    {
     "name": "stderr",
     "output_type": "stream",
     "text": [
      "┌ Info: reading in the files with results\n",
      "└ @ Main In[4]:1\n"
     ]
    },
    {
     "data": {
      "text/plain": [
       "1800-element Vector{Float64}:\n",
       "  0.023282498\n",
       "  0.02059241\n",
       "  0.019298176\n",
       "  0.02299821\n",
       "  0.021029529\n",
       "  0.018247312\n",
       "  0.022807649\n",
       "  0.021924093\n",
       "  0.015443452\n",
       "  0.017248872\n",
       "  0.023835179\n",
       "  0.017374179\n",
       "  0.020109547\n",
       "  ⋮\n",
       " 18.133432647\n",
       " 19.212522611\n",
       " 18.216692985\n",
       " 17.689425405\n",
       " 24.229688638\n",
       " 19.746432261\n",
       " 13.095468434\n",
       " 11.569041252\n",
       " 17.89967475\n",
       " 26.90934675\n",
       " 20.895607349\n",
       " 16.332413569"
      ]
     },
     "execution_count": 4,
     "metadata": {},
     "output_type": "execute_result"
    }
   ],
   "source": [
    "@info \"reading in the files with results\"\n",
    "βMseresult = vec(readdlm(\"mse_beta_multivariate_poisson_CS$(nsims)reps_sim.csv\", ','))\n",
    "σ2MseResult = vec(readdlm(\"mse_sigma_multivariate_poisson_CS$(nsims)reps_sim.csv\", ','))\n",
    "ρMseResult = vec(readdlm(\"mse_rho_multivariate_poisson_CS$(nsims)reps_sim.csv\", ','))\n",
    "fittimes = vec(readdlm(\"fittimes_multivariate_poisson_CS$(nsims)reps_sim.csv\", ','))"
   ]
  },
  {
   "cell_type": "code",
   "execution_count": 5,
   "metadata": {},
   "outputs": [
    {
     "name": "stderr",
     "output_type": "stream",
     "text": [
      "┌ Info: making results table\n",
      "└ @ Main In[5]:2\n"
     ]
    },
    {
     "data": {
      "text/html": [
       "<div class=\"data-frame\"><p>18 rows × 8 columns</p><table class=\"data-frame\"><thead><tr><th></th><th>samplesize</th><th>obssize</th><th>fittime</th><th>se</th><th>nobs</th><th>fitmin</th><th>fitmax</th><th>perobsratio</th></tr><tr><th></th><th title=\"String\">String</th><th title=\"String\">String</th><th title=\"Float64\">Float64</th><th title=\"Float64\">Float64</th><th title=\"Int64\">Int64</th><th title=\"Float64\">Float64</th><th title=\"Float64\">Float64</th><th title=\"Float64\">Float64</th></tr></thead><tbody><tr><th>1</th><td>100</td><td>2</td><td>0.021117</td><td>0.00110812</td><td>200</td><td>0.0200089</td><td>0.0222251</td><td>0.000105585</td></tr><tr><th>2</th><td>100</td><td>5</td><td>0.0745826</td><td>0.00648439</td><td>500</td><td>0.0680982</td><td>0.081067</td><td>0.000149165</td></tr><tr><th>3</th><td>100</td><td>10</td><td>0.111792</td><td>0.00831898</td><td>1000</td><td>0.103473</td><td>0.120111</td><td>0.000111792</td></tr><tr><th>4</th><td>100</td><td>15</td><td>0.15811</td><td>0.0103806</td><td>1500</td><td>0.147729</td><td>0.16849</td><td>0.000105406</td></tr><tr><th>5</th><td>100</td><td>20</td><td>0.209779</td><td>0.0133067</td><td>2000</td><td>0.196472</td><td>0.223085</td><td>0.000104889</td></tr><tr><th>6</th><td>100</td><td>25</td><td>0.258555</td><td>0.0146717</td><td>2500</td><td>0.243884</td><td>0.273227</td><td>0.000103422</td></tr><tr><th>7</th><td>1000</td><td>2</td><td>0.132386</td><td>0.00321891</td><td>2000</td><td>0.129167</td><td>0.135605</td><td>6.6193e-5</td></tr><tr><th>8</th><td>1000</td><td>5</td><td>0.317896</td><td>0.0256843</td><td>5000</td><td>0.292211</td><td>0.34358</td><td>6.35791e-5</td></tr><tr><th>9</th><td>1000</td><td>10</td><td>0.528915</td><td>0.0309467</td><td>10000</td><td>0.497968</td><td>0.559861</td><td>5.28915e-5</td></tr><tr><th>10</th><td>1000</td><td>15</td><td>0.717051</td><td>0.0372676</td><td>15000</td><td>0.679783</td><td>0.754318</td><td>4.78034e-5</td></tr><tr><th>11</th><td>1000</td><td>20</td><td>1.25896</td><td>0.0603798</td><td>20000</td><td>1.19858</td><td>1.31934</td><td>6.29482e-5</td></tr><tr><th>12</th><td>1000</td><td>25</td><td>1.8352</td><td>0.0887465</td><td>25000</td><td>1.74646</td><td>1.92395</td><td>7.34082e-5</td></tr><tr><th>13</th><td>10000</td><td>2</td><td>2.36096</td><td>0.0364629</td><td>20000</td><td>2.3245</td><td>2.39743</td><td>0.000118048</td></tr><tr><th>14</th><td>10000</td><td>5</td><td>2.52735</td><td>0.0866423</td><td>50000</td><td>2.4407</td><td>2.61399</td><td>5.05469e-5</td></tr><tr><th>15</th><td>10000</td><td>10</td><td>6.0997</td><td>0.215523</td><td>100000</td><td>5.88417</td><td>6.31522</td><td>6.0997e-5</td></tr><tr><th>16</th><td>10000</td><td>15</td><td>9.17433</td><td>0.263464</td><td>150000</td><td>8.91086</td><td>9.43779</td><td>6.11622e-5</td></tr><tr><th>17</th><td>10000</td><td>20</td><td>13.5588</td><td>0.38124</td><td>200000</td><td>13.1775</td><td>13.94</td><td>6.77939e-5</td></tr><tr><th>18</th><td>10000</td><td>25</td><td>17.9453</td><td>0.469362</td><td>250000</td><td>17.4759</td><td>18.4147</td><td>7.17812e-5</td></tr></tbody></table></div>"
      ],
      "text/latex": [
       "\\begin{tabular}{r|cccccccc}\n",
       "\t& samplesize & obssize & fittime & se & nobs & fitmin & fitmax & perobsratio\\\\\n",
       "\t\\hline\n",
       "\t& String & String & Float64 & Float64 & Int64 & Float64 & Float64 & Float64\\\\\n",
       "\t\\hline\n",
       "\t1 & 100 & 2 & 0.021117 & 0.00110812 & 200 & 0.0200089 & 0.0222251 & 0.000105585 \\\\\n",
       "\t2 & 100 & 5 & 0.0745826 & 0.00648439 & 500 & 0.0680982 & 0.081067 & 0.000149165 \\\\\n",
       "\t3 & 100 & 10 & 0.111792 & 0.00831898 & 1000 & 0.103473 & 0.120111 & 0.000111792 \\\\\n",
       "\t4 & 100 & 15 & 0.15811 & 0.0103806 & 1500 & 0.147729 & 0.16849 & 0.000105406 \\\\\n",
       "\t5 & 100 & 20 & 0.209779 & 0.0133067 & 2000 & 0.196472 & 0.223085 & 0.000104889 \\\\\n",
       "\t6 & 100 & 25 & 0.258555 & 0.0146717 & 2500 & 0.243884 & 0.273227 & 0.000103422 \\\\\n",
       "\t7 & 1000 & 2 & 0.132386 & 0.00321891 & 2000 & 0.129167 & 0.135605 & 6.6193e-5 \\\\\n",
       "\t8 & 1000 & 5 & 0.317896 & 0.0256843 & 5000 & 0.292211 & 0.34358 & 6.35791e-5 \\\\\n",
       "\t9 & 1000 & 10 & 0.528915 & 0.0309467 & 10000 & 0.497968 & 0.559861 & 5.28915e-5 \\\\\n",
       "\t10 & 1000 & 15 & 0.717051 & 0.0372676 & 15000 & 0.679783 & 0.754318 & 4.78034e-5 \\\\\n",
       "\t11 & 1000 & 20 & 1.25896 & 0.0603798 & 20000 & 1.19858 & 1.31934 & 6.29482e-5 \\\\\n",
       "\t12 & 1000 & 25 & 1.8352 & 0.0887465 & 25000 & 1.74646 & 1.92395 & 7.34082e-5 \\\\\n",
       "\t13 & 10000 & 2 & 2.36096 & 0.0364629 & 20000 & 2.3245 & 2.39743 & 0.000118048 \\\\\n",
       "\t14 & 10000 & 5 & 2.52735 & 0.0866423 & 50000 & 2.4407 & 2.61399 & 5.05469e-5 \\\\\n",
       "\t15 & 10000 & 10 & 6.0997 & 0.215523 & 100000 & 5.88417 & 6.31522 & 6.0997e-5 \\\\\n",
       "\t16 & 10000 & 15 & 9.17433 & 0.263464 & 150000 & 8.91086 & 9.43779 & 6.11622e-5 \\\\\n",
       "\t17 & 10000 & 20 & 13.5588 & 0.38124 & 200000 & 13.1775 & 13.94 & 6.77939e-5 \\\\\n",
       "\t18 & 10000 & 25 & 17.9453 & 0.469362 & 250000 & 17.4759 & 18.4147 & 7.17812e-5 \\\\\n",
       "\\end{tabular}\n"
      ],
      "text/plain": [
       "\u001b[1m18×8 DataFrame\u001b[0m\n",
       "\u001b[1m Row \u001b[0m│\u001b[1m samplesize \u001b[0m\u001b[1m obssize \u001b[0m\u001b[1m fittime    \u001b[0m\u001b[1m se         \u001b[0m\u001b[1m nobs   \u001b[0m\u001b[1m fitmin     \u001b[0m\u001b[1m fitmax\u001b[0m ⋯\n",
       "\u001b[1m     \u001b[0m│\u001b[90m String     \u001b[0m\u001b[90m String  \u001b[0m\u001b[90m Float64    \u001b[0m\u001b[90m Float64    \u001b[0m\u001b[90m Int64  \u001b[0m\u001b[90m Float64    \u001b[0m\u001b[90m Float6\u001b[0m ⋯\n",
       "─────┼──────────────────────────────────────────────────────────────────────────\n",
       "   1 │ 100         2         0.021117   0.00110812     200   0.0200089   0.022 ⋯\n",
       "   2 │ 100         5         0.0745826  0.00648439     500   0.0680982   0.081\n",
       "   3 │ 100         10        0.111792   0.00831898    1000   0.103473    0.120\n",
       "   4 │ 100         15        0.15811    0.0103806     1500   0.147729    0.168\n",
       "   5 │ 100         20        0.209779   0.0133067     2000   0.196472    0.223 ⋯\n",
       "   6 │ 100         25        0.258555   0.0146717     2500   0.243884    0.273\n",
       "   7 │ 1000        2         0.132386   0.00321891    2000   0.129167    0.135\n",
       "   8 │ 1000        5         0.317896   0.0256843     5000   0.292211    0.343\n",
       "   9 │ 1000        10        0.528915   0.0309467    10000   0.497968    0.559 ⋯\n",
       "  10 │ 1000        15        0.717051   0.0372676    15000   0.679783    0.754\n",
       "  11 │ 1000        20        1.25896    0.0603798    20000   1.19858     1.319\n",
       "  12 │ 1000        25        1.8352     0.0887465    25000   1.74646     1.923\n",
       "  13 │ 10000       2         2.36096    0.0364629    20000   2.3245      2.397 ⋯\n",
       "  14 │ 10000       5         2.52735    0.0866423    50000   2.4407      2.613\n",
       "  15 │ 10000       10        6.0997     0.215523    100000   5.88417     6.315\n",
       "  16 │ 10000       15        9.17433    0.263464    150000   8.91086     9.437\n",
       "  17 │ 10000       20       13.5588     0.38124     200000  13.1775     13.94  ⋯\n",
       "  18 │ 10000       25       17.9453     0.469362    250000  17.4759     18.414\n",
       "\u001b[36m                                                               2 columns omitted\u001b[0m"
      ]
     },
     "execution_count": 5,
     "metadata": {},
     "output_type": "execute_result"
    }
   ],
   "source": [
    "#simulation parameters\n",
    "@info \"making results table\"\n",
    "sample_sizes = repeat(string.(samplesizes), inner = nsims * length(ns))\n",
    "obs_sizes = repeat(string.(ns), inner = nsims, outer = length(samplesizes))\n",
    "\n",
    "msedf = DataFrame(βmse = βMseresult, σ2mse = σ2MseResult, ρmse = ρMseResult,\n",
    "    samplesize = sample_sizes, obssize = obs_sizes, fittimes = fittimes)\n",
    "timedf = combine(groupby(msedf, [:samplesize, :obssize]), :fittimes => mean => :fittime,\n",
    "    :fittimes => x -> (std(x)/sqrt(length(x))))\n",
    "rename!(timedf, Dict(:fittimes_function => \"se\"))\n",
    "timedf[!, :nobs] = Meta.parse.(timedf[!, :samplesize]) .* Meta.parse.(timedf[!, :obssize])\n",
    "timedf[!, :fitmin] = timedf[!, :fittime] - timedf[!, :se]\n",
    "timedf[!, :fitmax] = timedf[!, :fittime] + timedf[!, :se]\n",
    "timedf[!, :perobsratio] = timedf[!, :fittime] ./ timedf[!, :nobs]\n",
    "timedf"
   ]
  },
  {
   "cell_type": "code",
   "execution_count": 6,
   "metadata": {},
   "outputs": [
    {
     "name": "stderr",
     "output_type": "stream",
     "text": [
      "┌ Warning: RCall.jl: Warning: package ‘ggplot2’ was built under R version 4.0.2\n",
      "└ @ RCall /Users/sarahji/.julia/packages/RCall/iMDW2/src/io.jl:160\n"
     ]
    },
    {
     "data": {
      "image/png": "[encoded data removed]"
     },
     "metadata": {},
     "output_type": "display_data"
    },
    {
     "data": {
      "text/plain": [
       "RObject{VecSxp}\n"
      ]
     },
     "execution_count": 6,
     "metadata": {},
     "output_type": "execute_result"
    }
   ],
   "source": [
    "########### plot the runtimes\n",
    "using RCall\n",
    "@rput timedf\n",
    "\n",
    "R\"\"\"\n",
    "library(ggplot2)\n",
    "timedf$obssize = factor(timedf$obssize, levels = c('2', '5', '10', '15', '20', '25'))\n",
    "timedf$samplesize = factor(timedf$samplesize, levels = c('100', '1000', '10000'))\n",
    "\n",
    "fittime_1 = ggplot(timedf, aes(x = samplesize, y = fittime, group = obssize, color = obssize)) + \n",
    "  geom_line() +\n",
    "  geom_point()+\n",
    "  geom_errorbar(aes(ymin=fitmin, ymax=fitmax), width=0.5, alpha = 0.8, position=position_dodge(0.005)) + \n",
    "  theme(legend.position=c(0.15,0.85), legend.key = element_blank(), axis.text.x = element_text(angle=0, size=13),\n",
    "        axis.text.y = element_text(angle=0, size=13), axis.title.x = element_text(size = 17), \n",
    "        axis.title.y = element_text(size = 17), legend.title = element_text(size = 14),\n",
    "        #axis.ticks = element_blank(),\n",
    "        panel.grid.major = element_blank(), legend.text=element_text(size=13),\n",
    "        panel.border = element_blank(), panel.grid.minor = element_blank(), panel.background = element_blank(), \n",
    "        axis.line = element_line(color = 'black',size=0.3), plot.title = element_text(hjust = 0.5)) + \n",
    "   scale_color_manual(values = c(\"#c85f55\",\n",
    "\"#a964bf\",\n",
    "\"#8db352\",\n",
    "\"#fa7300\",\n",
    "\"#05aec0\",\n",
    "\"#ff1493\")) +\n",
    "  labs(x = \"Number of Individuals\", y = \"Fit time (seconds)\", color = \"Obs per Individual\")\n",
    "\"\"\""
   ]
  },
  {
   "cell_type": "code",
   "execution_count": 7,
   "metadata": {},
   "outputs": [
    {
     "data": {
      "text/plain": [
       "RObject{StrSxp}\n",
       "[1] \"fittimes_nobs_poisson_CS_neg_rho_0.2_sigma_0.1.png\"\n"
      ]
     },
     "execution_count": 7,
     "metadata": {},
     "output_type": "execute_result"
    }
   ],
   "source": [
    "R\"\"\"\n",
    "    ggsave('fittimes_nobs_poisson_CS_neg_rho_0.2_sigma_0.1.png', fittime_1, width = 12.5, height = 15, units = 'in', dpi = 450)\n",
    "\"\"\""
   ]
  },
  {
   "cell_type": "code",
   "execution_count": 8,
   "metadata": {},
   "outputs": [],
   "source": [
    "# using RCall\n",
    "# @rput timedf\n",
    "\n",
    "# R\"\"\"\n",
    "# library(scales)\n",
    "# library(ggplot2)\n",
    "# timedf$obssize <- factor(timedf$obssize, levels = c('2', '5', '10', '15', '20', '25'))\n",
    "# timedf$samplesize <- factor(timedf$samplesize, levels = c('100', '1000', '10000'))\n",
    "\n",
    "# fancy_scientific <- function(l) {\n",
    "#      # turn in to character string in scientific notation\n",
    "#      l <- format(l, scientific = TRUE)\n",
    "#      # quote the part before the exponent to keep all the digits\n",
    "#      l <- gsub(\"^(.*)e\", \"'\\\\1'e\", l)\n",
    "#      # turn the 'e+' into plotmath format\n",
    "#      l <- gsub(\"e\", \"%*%10^\", l)\n",
    "#      # return this as an expression\n",
    "#      parse(text=l)\n",
    "# }\n",
    "\n",
    "# fittimeperobs = ggplot(timedf, aes(x=nobs, y=perobsratio)) + \n",
    "#   geom_line() +\n",
    "#   geom_point()+\n",
    "# #  geom_errorbar(aes(ymin=fitmin, ymax=fitmax), width=0.5, alpha = 0.8, position=position_dodge(0.005)) + \n",
    "#   theme(legend.position=c(0.15,0.8), legend.key = element_blank(), axis.text.x = element_text(angle=0, size=13),\n",
    "#         axis.text.y = element_text(angle=0, size=13), axis.title.x = element_text(size = 17), \n",
    "#         axis.title.y = element_text(size = 17), legend.title = element_text(size = 14),\n",
    "#         #axis.ticks = element_blank(),\n",
    "#         panel.grid.major = element_blank(), legend.text=element_text(size=11),\n",
    "#         panel.border = element_blank(), panel.grid.minor = element_blank(), panel.background = element_blank(), \n",
    "#         axis.line = element_line(color = 'black',size=0.3), plot.title = element_text(hjust = 0.5)) + \n",
    "#   labs(x = \"Total Number of Observations\", y = \"Fit time per observation (seconds)\", color = \"Obs per Individual\") +\n",
    "# #scale_x_log10(breaks = 10^seq(0, 7, 1), labels=trans_format(\"log10\", math_format(10^.x)))# + #, limit=c(10^0, 10^7))\n",
    "# scale_x_continuous(breaks = seq(0, 6000000, 1000000), labels= fancy_scientific) +\n",
    "# scale_y_continuous(breaks = c(10^-4, 2 * 10^-4, 3 * 10^-4, 4 * 10^-4, 5 * 10^-4, 6 * 10^-4), labels= fancy_scientific)\n",
    "\n",
    "# \"\"\""
   ]
  },
  {
   "cell_type": "code",
   "execution_count": 8,
   "metadata": {},
   "outputs": [
    {
     "data": {
      "text/html": [
       "<div class=\"data-frame\"><p>18 rows × 4 columns</p><table class=\"data-frame\"><thead><tr><th></th><th>people_obs</th><th>β1</th><th>ρ</th><th>σ2</th></tr><tr><th></th><th title=\"String\">String</th><th title=\"Tuple{Float64, Float64}\">Tuple…</th><th title=\"Tuple{Float64, Float64}\">Tuple…</th><th title=\"Tuple{Float64, Float64}\">Tuple…</th></tr></thead><tbody><tr><th>1</th><td>N: 100  ni: 2</td><td>(0.89, 0.0314466)</td><td>(0.9, 0.0301511)</td><td>(0.99, 0.01)</td></tr><tr><th>2</th><td>N: 100  ni: 5</td><td>(0.95, 0.0219043)</td><td>(0.86, 0.0348735)</td><td>(0.96, 0.0196946)</td></tr><tr><th>3</th><td>N: 100  ni: 10</td><td>(0.95, 0.0219043)</td><td>(0.79, 0.040936)</td><td>(0.97, 0.0171447)</td></tr><tr><th>4</th><td>N: 100  ni: 15</td><td>(0.89, 0.0314466)</td><td>(0.83, 0.0377525)</td><td>(0.95, 0.0219043)</td></tr><tr><th>5</th><td>N: 100  ni: 20</td><td>(0.89, 0.0314466)</td><td>(0.77, 0.0422953)</td><td>(0.89, 0.0314466)</td></tr><tr><th>6</th><td>N: 100  ni: 25</td><td>(0.93, 0.0256432)</td><td>(0.79, 0.040936)</td><td>(0.91, 0.0287623)</td></tr><tr><th>7</th><td>N: 1000  ni: 2</td><td>(0.97, 0.0171447)</td><td>(0.96, 0.0196946)</td><td>(0.92, 0.027266)</td></tr><tr><th>8</th><td>N: 1000  ni: 5</td><td>(0.94, 0.0238683)</td><td>(0.95, 0.0219043)</td><td>(0.98, 0.0140705)</td></tr><tr><th>9</th><td>N: 1000  ni: 10</td><td>(0.98, 0.0140705)</td><td>(0.86, 0.0348735)</td><td>(0.99, 0.01)</td></tr><tr><th>10</th><td>N: 1000  ni: 15</td><td>(0.94, 0.0238683)</td><td>(0.89, 0.0314466)</td><td>(0.99, 0.01)</td></tr><tr><th>11</th><td>N: 1000  ni: 20</td><td>(0.94, 0.0238683)</td><td>(0.81, 0.0394277)</td><td>(1.0, 0.0)</td></tr><tr><th>12</th><td>N: 1000  ni: 25</td><td>(0.97, 0.0171447)</td><td>(0.75, 0.0435194)</td><td>(0.98, 0.0140705)</td></tr><tr><th>13</th><td>N: 10000  ni: 2</td><td>(0.97, 0.0171447)</td><td>(0.97, 0.0171447)</td><td>(0.93, 0.0256432)</td></tr><tr><th>14</th><td>N: 10000  ni: 5</td><td>(0.93, 0.0256432)</td><td>(0.94, 0.0238683)</td><td>(0.94, 0.0238683)</td></tr><tr><th>15</th><td>N: 10000  ni: 10</td><td>(0.94, 0.0238683)</td><td>(0.84, 0.0368453)</td><td>(0.95, 0.0219043)</td></tr><tr><th>16</th><td>N: 10000  ni: 15</td><td>(0.95, 0.0219043)</td><td>(0.79, 0.040936)</td><td>(0.72, 0.0451261)</td></tr><tr><th>17</th><td>N: 10000  ni: 20</td><td>(0.95, 0.0219043)</td><td>(0.66, 0.0476095)</td><td>(0.59, 0.0494311)</td></tr><tr><th>18</th><td>N: 10000  ni: 25</td><td>(0.91, 0.0287623)</td><td>(0.57, 0.049757)</td><td>(0.48, 0.0502117)</td></tr></tbody></table></div>"
      ],
      "text/latex": [
       "\\begin{tabular}{r|cccc}\n",
       "\t& people\\_obs & β1 & ρ & σ2\\\\\n",
       "\t\\hline\n",
       "\t& String & Tuple… & Tuple… & Tuple…\\\\\n",
       "\t\\hline\n",
       "\t1 & N: 100  ni: 2 & (0.89, 0.0314466) & (0.9, 0.0301511) & (0.99, 0.01) \\\\\n",
       "\t2 & N: 100  ni: 5 & (0.95, 0.0219043) & (0.86, 0.0348735) & (0.96, 0.0196946) \\\\\n",
       "\t3 & N: 100  ni: 10 & (0.95, 0.0219043) & (0.79, 0.040936) & (0.97, 0.0171447) \\\\\n",
       "\t4 & N: 100  ni: 15 & (0.89, 0.0314466) & (0.83, 0.0377525) & (0.95, 0.0219043) \\\\\n",
       "\t5 & N: 100  ni: 20 & (0.89, 0.0314466) & (0.77, 0.0422953) & (0.89, 0.0314466) \\\\\n",
       "\t6 & N: 100  ni: 25 & (0.93, 0.0256432) & (0.79, 0.040936) & (0.91, 0.0287623) \\\\\n",
       "\t7 & N: 1000  ni: 2 & (0.97, 0.0171447) & (0.96, 0.0196946) & (0.92, 0.027266) \\\\\n",
       "\t8 & N: 1000  ni: 5 & (0.94, 0.0238683) & (0.95, 0.0219043) & (0.98, 0.0140705) \\\\\n",
       "\t9 & N: 1000  ni: 10 & (0.98, 0.0140705) & (0.86, 0.0348735) & (0.99, 0.01) \\\\\n",
       "\t10 & N: 1000  ni: 15 & (0.94, 0.0238683) & (0.89, 0.0314466) & (0.99, 0.01) \\\\\n",
       "\t11 & N: 1000  ni: 20 & (0.94, 0.0238683) & (0.81, 0.0394277) & (1.0, 0.0) \\\\\n",
       "\t12 & N: 1000  ni: 25 & (0.97, 0.0171447) & (0.75, 0.0435194) & (0.98, 0.0140705) \\\\\n",
       "\t13 & N: 10000  ni: 2 & (0.97, 0.0171447) & (0.97, 0.0171447) & (0.93, 0.0256432) \\\\\n",
       "\t14 & N: 10000  ni: 5 & (0.93, 0.0256432) & (0.94, 0.0238683) & (0.94, 0.0238683) \\\\\n",
       "\t15 & N: 10000  ni: 10 & (0.94, 0.0238683) & (0.84, 0.0368453) & (0.95, 0.0219043) \\\\\n",
       "\t16 & N: 10000  ni: 15 & (0.95, 0.0219043) & (0.79, 0.040936) & (0.72, 0.0451261) \\\\\n",
       "\t17 & N: 10000  ni: 20 & (0.95, 0.0219043) & (0.66, 0.0476095) & (0.59, 0.0494311) \\\\\n",
       "\t18 & N: 10000  ni: 25 & (0.91, 0.0287623) & (0.57, 0.049757) & (0.48, 0.0502117) \\\\\n",
       "\\end{tabular}\n"
      ],
      "text/plain": [
       "\u001b[1m18×4 DataFrame\u001b[0m\n",
       "\u001b[1m Row \u001b[0m│\u001b[1m people_obs       \u001b[0m\u001b[1m β1                \u001b[0m\u001b[1m ρ                 \u001b[0m\u001b[1m σ2             \u001b[0m ⋯\n",
       "\u001b[1m     \u001b[0m│\u001b[90m String           \u001b[0m\u001b[90m Tuple…            \u001b[0m\u001b[90m Tuple…            \u001b[0m\u001b[90m Tuple…         \u001b[0m ⋯\n",
       "─────┼──────────────────────────────────────────────────────────────────────────\n",
       "   1 │ N: 100  ni: 2     (0.89, 0.0314466)  (0.9, 0.0301511)   (0.99, 0.01)    ⋯\n",
       "   2 │ N: 100  ni: 5     (0.95, 0.0219043)  (0.86, 0.0348735)  (0.96, 0.019694\n",
       "   3 │ N: 100  ni: 10    (0.95, 0.0219043)  (0.79, 0.040936)   (0.97, 0.017144\n",
       "   4 │ N: 100  ni: 15    (0.89, 0.0314466)  (0.83, 0.0377525)  (0.95, 0.021904\n",
       "   5 │ N: 100  ni: 20    (0.89, 0.0314466)  (0.77, 0.0422953)  (0.89, 0.031446 ⋯\n",
       "   6 │ N: 100  ni: 25    (0.93, 0.0256432)  (0.79, 0.040936)   (0.91, 0.028762\n",
       "   7 │ N: 1000  ni: 2    (0.97, 0.0171447)  (0.96, 0.0196946)  (0.92, 0.027266\n",
       "   8 │ N: 1000  ni: 5    (0.94, 0.0238683)  (0.95, 0.0219043)  (0.98, 0.014070\n",
       "   9 │ N: 1000  ni: 10   (0.98, 0.0140705)  (0.86, 0.0348735)  (0.99, 0.01)    ⋯\n",
       "  10 │ N: 1000  ni: 15   (0.94, 0.0238683)  (0.89, 0.0314466)  (0.99, 0.01)\n",
       "  11 │ N: 1000  ni: 20   (0.94, 0.0238683)  (0.81, 0.0394277)  (1.0, 0.0)\n",
       "  12 │ N: 1000  ni: 25   (0.97, 0.0171447)  (0.75, 0.0435194)  (0.98, 0.014070\n",
       "  13 │ N: 10000  ni: 2   (0.97, 0.0171447)  (0.97, 0.0171447)  (0.93, 0.025643 ⋯\n",
       "  14 │ N: 10000  ni: 5   (0.93, 0.0256432)  (0.94, 0.0238683)  (0.94, 0.023868\n",
       "  15 │ N: 10000  ni: 10  (0.94, 0.0238683)  (0.84, 0.0368453)  (0.95, 0.021904\n",
       "  16 │ N: 10000  ni: 15  (0.95, 0.0219043)  (0.79, 0.040936)   (0.72, 0.045126\n",
       "  17 │ N: 10000  ni: 20  (0.95, 0.0219043)  (0.66, 0.0476095)  (0.59, 0.049431 ⋯\n",
       "  18 │ N: 10000  ni: 25  (0.91, 0.0287623)  (0.57, 0.049757)   (0.48, 0.050211\n",
       "\u001b[36m                                                                1 column omitted\u001b[0m"
      ]
     },
     "execution_count": 8,
     "metadata": {},
     "output_type": "execute_result"
    }
   ],
   "source": [
    "######  supplementary table s1\n",
    "using Random, DataFrames, DelimitedFiles, Statistics\n",
    "import StatsBase: sem\n",
    "\n",
    "βρσ2coverage = readdlm(\"beta_sigma_coverage_multivariate_poisson_CS$(nsims)reps_sim.csv\", ',')\n",
    "\n",
    "m = 2\n",
    "\n",
    "covdf = DataFrame(Matrix(transpose(βρσ2coverage)), :auto)\n",
    "rename!(covdf, Symbol.([[\"β$i\" for i in 1:p]; [\"ρ\"]; [\"σ2\"]]))\n",
    "covdf[!, :samplesize] = sample_sizes\n",
    "covdf[!, :obssize] = obs_sizes\n",
    "first(covdf, 10)\n",
    "\n",
    "row_stats = [[(mean(col), sem(col)) for col = eachcol(d[!, 1:end-2])] for d = groupby(covdf, [:samplesize; :obssize])]\n",
    "df = DataFrame(row_stats, :auto)\n",
    "ss_obs = unique(\"N: \" .* sample_sizes .* \"  ni: \" .* obs_sizes)\n",
    "rename!(df, Symbol.(ss_obs))\n",
    "covdfdisplay = DataFrame([[names(df)]; collect.(eachrow(df))], \n",
    "    [:people_obs; Symbol.([[\"β$i\" for i in 1:p]; [\"ρ\"]; [\"σ2\"]])])\n",
    "# deletecols!(covdfdisplay, p + 2)\n",
    "covdfdisplay\n"
   ]
  },
  {
   "cell_type": "code",
   "execution_count": 10,
   "metadata": {},
   "outputs": [
    {
     "data": {
      "text/html": [
       "<div class=\"data-frame\"><p>3,553 rows × 5 columns</p><table class=\"data-frame\"><thead><tr><th></th><th>mse</th><th>obssize</th><th>samplesize</th><th>parameters</th><th>robust</th></tr><tr><th></th><th title=\"Float64\">Float64</th><th title=\"String\">String</th><th title=\"String\">String</th><th title=\"String\">String</th><th title=\"String\">String</th></tr></thead><tbody><tr><th>1</th><td>0.000314581</td><td>2</td><td>100</td><td>beta</td><td>Poisson with LogLink</td></tr><tr><th>2</th><td>1.49424e-5</td><td>2</td><td>100</td><td>beta</td><td>Poisson with LogLink</td></tr><tr><th>3</th><td>0.000355949</td><td>2</td><td>100</td><td>beta</td><td>Poisson with LogLink</td></tr><tr><th>4</th><td>0.00442671</td><td>2</td><td>100</td><td>beta</td><td>Poisson with LogLink</td></tr><tr><th>5</th><td>0.00016289</td><td>2</td><td>100</td><td>beta</td><td>Poisson with LogLink</td></tr><tr><th>6</th><td>0.000101009</td><td>2</td><td>100</td><td>beta</td><td>Poisson with LogLink</td></tr><tr><th>7</th><td>0.000323247</td><td>2</td><td>100</td><td>beta</td><td>Poisson with LogLink</td></tr><tr><th>8</th><td>0.000437216</td><td>2</td><td>100</td><td>beta</td><td>Poisson with LogLink</td></tr><tr><th>9</th><td>0.00108062</td><td>2</td><td>100</td><td>beta</td><td>Poisson with LogLink</td></tr><tr><th>10</th><td>0.00790173</td><td>2</td><td>100</td><td>beta</td><td>Poisson with LogLink</td></tr><tr><th>11</th><td>0.00792078</td><td>2</td><td>100</td><td>beta</td><td>Poisson with LogLink</td></tr><tr><th>12</th><td>0.000251963</td><td>2</td><td>100</td><td>beta</td><td>Poisson with LogLink</td></tr><tr><th>13</th><td>8.69159e-5</td><td>2</td><td>100</td><td>beta</td><td>Poisson with LogLink</td></tr><tr><th>14</th><td>0.00190011</td><td>2</td><td>100</td><td>beta</td><td>Poisson with LogLink</td></tr><tr><th>15</th><td>0.000160483</td><td>2</td><td>100</td><td>beta</td><td>Poisson with LogLink</td></tr><tr><th>16</th><td>0.00768064</td><td>2</td><td>100</td><td>beta</td><td>Poisson with LogLink</td></tr><tr><th>17</th><td>0.00345433</td><td>2</td><td>100</td><td>beta</td><td>Poisson with LogLink</td></tr><tr><th>18</th><td>2.16803e-5</td><td>2</td><td>100</td><td>beta</td><td>Poisson with LogLink</td></tr><tr><th>19</th><td>0.00677102</td><td>2</td><td>100</td><td>beta</td><td>Poisson with LogLink</td></tr><tr><th>20</th><td>0.00418178</td><td>2</td><td>100</td><td>beta</td><td>Poisson with LogLink</td></tr><tr><th>21</th><td>0.000813641</td><td>2</td><td>100</td><td>beta</td><td>Poisson with LogLink</td></tr><tr><th>22</th><td>8.97308e-6</td><td>2</td><td>100</td><td>beta</td><td>Poisson with LogLink</td></tr><tr><th>23</th><td>0.00266702</td><td>2</td><td>100</td><td>beta</td><td>Poisson with LogLink</td></tr><tr><th>24</th><td>0.00347134</td><td>2</td><td>100</td><td>beta</td><td>Poisson with LogLink</td></tr><tr><th>25</th><td>0.000459749</td><td>2</td><td>100</td><td>beta</td><td>Poisson with LogLink</td></tr><tr><th>26</th><td>0.000157981</td><td>2</td><td>100</td><td>beta</td><td>Poisson with LogLink</td></tr><tr><th>27</th><td>1.75513e-5</td><td>2</td><td>100</td><td>beta</td><td>Poisson with LogLink</td></tr><tr><th>28</th><td>0.000261557</td><td>2</td><td>100</td><td>beta</td><td>Poisson with LogLink</td></tr><tr><th>29</th><td>0.000304706</td><td>2</td><td>100</td><td>beta</td><td>Poisson with LogLink</td></tr><tr><th>30</th><td>0.00177251</td><td>2</td><td>100</td><td>beta</td><td>Poisson with LogLink</td></tr><tr><th>&vellip;</th><td>&vellip;</td><td>&vellip;</td><td>&vellip;</td><td>&vellip;</td><td>&vellip;</td></tr></tbody></table></div>"
      ],
      "text/latex": [
       "\\begin{tabular}{r|ccccc}\n",
       "\t& mse & obssize & samplesize & parameters & robust\\\\\n",
       "\t\\hline\n",
       "\t& Float64 & String & String & String & String\\\\\n",
       "\t\\hline\n",
       "\t1 & 0.000314581 & 2 & 100 & beta & Poisson with LogLink \\\\\n",
       "\t2 & 1.49424e-5 & 2 & 100 & beta & Poisson with LogLink \\\\\n",
       "\t3 & 0.000355949 & 2 & 100 & beta & Poisson with LogLink \\\\\n",
       "\t4 & 0.00442671 & 2 & 100 & beta & Poisson with LogLink \\\\\n",
       "\t5 & 0.00016289 & 2 & 100 & beta & Poisson with LogLink \\\\\n",
       "\t6 & 0.000101009 & 2 & 100 & beta & Poisson with LogLink \\\\\n",
       "\t7 & 0.000323247 & 2 & 100 & beta & Poisson with LogLink \\\\\n",
       "\t8 & 0.000437216 & 2 & 100 & beta & Poisson with LogLink \\\\\n",
       "\t9 & 0.00108062 & 2 & 100 & beta & Poisson with LogLink \\\\\n",
       "\t10 & 0.00790173 & 2 & 100 & beta & Poisson with LogLink \\\\\n",
       "\t11 & 0.00792078 & 2 & 100 & beta & Poisson with LogLink \\\\\n",
       "\t12 & 0.000251963 & 2 & 100 & beta & Poisson with LogLink \\\\\n",
       "\t13 & 8.69159e-5 & 2 & 100 & beta & Poisson with LogLink \\\\\n",
       "\t14 & 0.00190011 & 2 & 100 & beta & Poisson with LogLink \\\\\n",
       "\t15 & 0.000160483 & 2 & 100 & beta & Poisson with LogLink \\\\\n",
       "\t16 & 0.00768064 & 2 & 100 & beta & Poisson with LogLink \\\\\n",
       "\t17 & 0.00345433 & 2 & 100 & beta & Poisson with LogLink \\\\\n",
       "\t18 & 2.16803e-5 & 2 & 100 & beta & Poisson with LogLink \\\\\n",
       "\t19 & 0.00677102 & 2 & 100 & beta & Poisson with LogLink \\\\\n",
       "\t20 & 0.00418178 & 2 & 100 & beta & Poisson with LogLink \\\\\n",
       "\t21 & 0.000813641 & 2 & 100 & beta & Poisson with LogLink \\\\\n",
       "\t22 & 8.97308e-6 & 2 & 100 & beta & Poisson with LogLink \\\\\n",
       "\t23 & 0.00266702 & 2 & 100 & beta & Poisson with LogLink \\\\\n",
       "\t24 & 0.00347134 & 2 & 100 & beta & Poisson with LogLink \\\\\n",
       "\t25 & 0.000459749 & 2 & 100 & beta & Poisson with LogLink \\\\\n",
       "\t26 & 0.000157981 & 2 & 100 & beta & Poisson with LogLink \\\\\n",
       "\t27 & 1.75513e-5 & 2 & 100 & beta & Poisson with LogLink \\\\\n",
       "\t28 & 0.000261557 & 2 & 100 & beta & Poisson with LogLink \\\\\n",
       "\t29 & 0.000304706 & 2 & 100 & beta & Poisson with LogLink \\\\\n",
       "\t30 & 0.00177251 & 2 & 100 & beta & Poisson with LogLink \\\\\n",
       "\t$\\dots$ & $\\dots$ & $\\dots$ & $\\dots$ & $\\dots$ & $\\dots$ \\\\\n",
       "\\end{tabular}\n"
      ],
      "text/plain": [
       "\u001b[1m3553×5 DataFrame\u001b[0m\n",
       "\u001b[1m  Row \u001b[0m│\u001b[1m mse         \u001b[0m\u001b[1m obssize \u001b[0m\u001b[1m samplesize \u001b[0m\u001b[1m parameters \u001b[0m\u001b[1m robust               \u001b[0m\n",
       "\u001b[1m      \u001b[0m│\u001b[90m Float64     \u001b[0m\u001b[90m String  \u001b[0m\u001b[90m String     \u001b[0m\u001b[90m String     \u001b[0m\u001b[90m String               \u001b[0m\n",
       "──────┼────────────────────────────────────────────────────────────────────\n",
       "    1 │ 0.000314581  2        100         beta        Poisson with LogLink\n",
       "    2 │ 1.49424e-5   2        100         beta        Poisson with LogLink\n",
       "    3 │ 0.000355949  2        100         beta        Poisson with LogLink\n",
       "    4 │ 0.00442671   2        100         beta        Poisson with LogLink\n",
       "    5 │ 0.00016289   2        100         beta        Poisson with LogLink\n",
       "    6 │ 0.000101009  2        100         beta        Poisson with LogLink\n",
       "    7 │ 0.000323247  2        100         beta        Poisson with LogLink\n",
       "    8 │ 0.000437216  2        100         beta        Poisson with LogLink\n",
       "    9 │ 0.00108062   2        100         beta        Poisson with LogLink\n",
       "   10 │ 0.00790173   2        100         beta        Poisson with LogLink\n",
       "   11 │ 0.00792078   2        100         beta        Poisson with LogLink\n",
       "  ⋮   │      ⋮          ⋮         ⋮           ⋮                ⋮\n",
       " 3544 │ 0.00104292   25       10000       theta       Poisson with LogLink\n",
       " 3545 │ 0.000807062  25       10000       theta       Poisson with LogLink\n",
       " 3546 │ 0.00033319   25       10000       theta       Poisson with LogLink\n",
       " 3547 │ 0.000444066  25       10000       theta       Poisson with LogLink\n",
       " 3548 │ 0.000278584  25       10000       theta       Poisson with LogLink\n",
       " 3549 │ 0.000440003  25       10000       theta       Poisson with LogLink\n",
       " 3550 │ 6.63252e-5   25       10000       theta       Poisson with LogLink\n",
       " 3551 │ 0.00105485   25       10000       theta       Poisson with LogLink\n",
       " 3552 │ 0.000619783  25       10000       theta       Poisson with LogLink\n",
       " 3553 │ 0.00064214   25       10000       theta       Poisson with LogLink\n",
       "\u001b[36m                                                          3532 rows omitted\u001b[0m"
      ]
     },
     "execution_count": 10,
     "metadata": {},
     "output_type": "execute_result"
    }
   ],
   "source": [
    "#### \n",
    "#import data and reorganize to create figure\n",
    "using Random, DataFrames, DelimitedFiles, Statistics, RCall, Printf\n",
    "import StatsBase: sem\n",
    "\n",
    "βMseresult_1 = vec(readdlm(\"mse_beta_multivariate_poisson_CS$(nsims)reps_sim.csv\", ','))\n",
    "σ2MseResult_1 = vec(readdlm(\"mse_sigma_multivariate_poisson_CS$(nsims)reps_sim.csv\", ','))\n",
    "ρMseResult_1 = vec(readdlm(\"mse_rho_multivariate_poisson_CS$(nsims)reps_sim.csv\", ','))\n",
    "θMseResult_1 = (σ2MseResult_1 .+ ρMseResult_1) ./ 2\n",
    "βρσ2coverage_1 = readdlm(\"beta_sigma_coverage_multivariate_poisson_CS$(nsims)reps_sim.csv\", ',')\n",
    "\n",
    "samplesizesrobust = samplesizes\n",
    "nsrobust = ns\n",
    "nsimsrobust = nsims\n",
    "\n",
    "# βMseresultnorm = vec(readdlm(\"result_files/mse_beta_normal_normal_lognormal_1000reps_sim.csv\", ','))\n",
    "# τMseresultnorm = vec(readdlm(\"result_files/mse_tau_normal_normal_lognormal_1000reps_sim.csv\", ','))\n",
    "# ΣMseresultnorm = vec(readdlm(\"result_files/mse_Sigma_normal_normal_lognormal_1000reps_sim.csv\", ','))\n",
    "# βτcoveragenorm = readdlm(\"result_files/beta_tau_coverage_5betas_normal_normal_lognormal_1000reps_sim.csv\", ',')\n",
    "\n",
    "\n",
    "# samplesizesnorm = collect(1000:1000:6000)\n",
    "# nsnorm = [10; 25; 50; 100; 1000]\n",
    "# nsimsnorm = 1000\n",
    "\n",
    "p = 1\n",
    "sample_sizesrobust = repeat(string.(samplesizesrobust), inner = nsimsrobust * length(nsrobust))\n",
    "obs_sizesrobust = repeat(string.(nsrobust), inner = nsimsrobust, outer = length(samplesizesrobust))\n",
    "msedfrobust = DataFrame(βmse = βMseresult_1, θMse = θMseResult_1,\n",
    "    samplesize = sample_sizesrobust, obssize = obs_sizesrobust)\n",
    "\n",
    "msedfrobustR = deepcopy(msedfrobust)\n",
    "rename!(msedfrobustR, [\"betamse\"\n",
    "    \"thetamse\"\n",
    "    \"samplesize\"\n",
    " \"obssize\"]);\n",
    "\n",
    "\n",
    "mses = [msedfrobustR[!, :betamse]; msedfrobustR[!, :thetamse]]\n",
    "    # msedfnormR[!, :betamse]; msedfnormR[!, :taumse]; msedfnormR[!, :Sigmamse]]\n",
    "obssize = collect([repeat(msedfrobustR[!, :obssize], 2)]...) # ; repeat(msedfnormR[!, :obssize], 3)]\n",
    "\n",
    "samplesize = collect([repeat(msedfrobustR[!, :samplesize], 2)]...) # ; repeat(msedfnormR[!, :samplesize], 3)]\n",
    "\n",
    "parameters = collect([repeat(string.([:beta, :theta]), inner = nsimsrobust * length(nsrobust) * length(samplesizesrobust))]...)\n",
    "# ; repeat(string.([:beta, :tau, :Sigma]), inner = nsimsnorm * length(nsnorm) * length(samplesizesnorm))]\n",
    "robust = collect([repeat([\"Poisson with LogLink\"], 2 * nsimsrobust * length(nsrobust) * length(samplesizesrobust))]...) # ;\n",
    "# repeat([\"Normal Normal Log-Normal\"], 3 * nsimsnorm * length(nsnorm) * length(samplesizesnorm))];\n",
    "\n",
    "msedfR = DataFrame(mse = mses, obssize = obssize, samplesize = samplesize,\n",
    "    parameters = parameters, robust = robust)\n",
    "\n",
    "#5 of the 30,000 simulations did not converge, filter out\n",
    "msedfR = filter(x -> !isnan(x.mse), msedfR)\n",
    "# additionally, there are 5 where an error was not caught so it did not try a differnt solver\n",
    "msedfR = filter(x -> x.mse < 400, msedfR)"
   ]
  },
  {
   "cell_type": "code",
   "execution_count": 11,
   "metadata": {},
   "outputs": [
    {
     "name": "stderr",
     "output_type": "stream",
     "text": [
      "┌ Warning: RCall.jl: Warning: package ‘scales’ was built under R version 4.0.2\n",
      "└ @ RCall /Users/sarahji/.julia/packages/RCall/iMDW2/src/io.jl:160\n",
      "┌ Warning: RCall.jl: Warning: package ‘data.table’ was built under R version 4.0.2\n",
      "└ @ RCall /Users/sarahji/.julia/packages/RCall/iMDW2/src/io.jl:160\n"
     ]
    },
    {
     "data": {
      "image/png": "[encoded data removed]"
     },
     "metadata": {},
     "output_type": "display_data"
    },
    {
     "data": {
      "text/plain": [
       "RObject{VecSxp}\n"
      ]
     },
     "execution_count": 11,
     "metadata": {},
     "output_type": "execute_result"
    }
   ],
   "source": [
    "### working on figure next\n",
    "@rput msedfR\n",
    "\n",
    "R\"\"\"\n",
    "library(scales)\n",
    "library(ggplot2)\n",
    "library(data.table)\n",
    "\n",
    "msedfR = data.table(msedfR)\n",
    "\n",
    "msedfR[parameters == \"beta\",y_min := 10^-6]\n",
    "msedfR[parameters == \"beta\",y_max := 10^-2]\n",
    "msedfR[parameters == \"theta\",y_min := 10^-5]\n",
    "msedfR[parameters == \"theta\",y_max := 10^1]\n",
    "\n",
    "#msedfR[parameters == \"beta\",y_min := 10^-8]\n",
    "#msedfR[parameters == \"beta\",y_max := 10^-2]\n",
    "#msedfR[parameters == \"tau\",y_min := 10^-8]\n",
    "#msedfR[parameters == \"tau\",y_max := 10^-2]\n",
    "#msedfR[parameters == \"Sigma\",y_min := 10^-5]\n",
    "#msedfR[parameters == \"Sigma\",y_max := 10^-2]\n",
    "\n",
    "\n",
    "msedfR$obssize = factor(msedfR$obssize, levels = c('2', '5', '10', '15', '20', '25'))\n",
    "msedfR$samplesize = factor(msedfR$samplesize, levels = c('100', '1000', '10000'))\n",
    "msedfR$parameters = factor(msedfR$parameters, levels = c('beta', 'theta'), labels = c(beta = expression(hat(bold(beta))), theta = expression(hat(bold(theta)))))\n",
    "msedfR$robust = factor(msedfR$robust, levels = c('Poisson with LogLink'),\n",
    "    labels = c(expression(paste(\"Poisson with LogLink\")))) # , expression(paste(\"MvT Gamma Inverse-Gamma\"))))\n",
    "\n",
    "\n",
    "#mseplot <- ggplot(msedfR[msedfR$mse < 10^0, ], aes(x=samplesize, y=mse, fill=obssize)) + \n",
    "mseplot = ggplot(msedfR[msedfR$mse < 10^3, ], aes(x=samplesize, y=mse, fill=obssize)) + \n",
    "  #geom_boxplot(outlier.size = 0.0, outlier.alpha = 0) +\n",
    "  geom_boxplot(outlier.size = 0.25) +\n",
    "#    geom_violin() +\n",
    "    facet_grid(parameters ~ robust, labeller = label_parsed, scales = \"free_y\") +\n",
    "  theme(legend.position=\"right\", legend.key = element_blank(), axis.text.x = element_text(angle=0, size=15),\n",
    "        axis.text.y = element_text(angle=0, size=15), axis.title.x = element_text(size = 20), \n",
    "        axis.title.y = element_text(size = 20), legend.title = element_text(size = 20),\n",
    "        panel.grid.major = element_blank(), panel.grid.minor = element_blank(),\n",
    "        legend.text=element_text(size=15), panel.background = element_rect(fill = NA, color = \"black\"),\n",
    "        #panel.background = element_blank(), #panel.border = element_blank(),\n",
    "        axis.line = element_line(color = 'black',size=0.3), plot.title = element_text(hjust = 0.5),\n",
    "        strip.background = element_rect(colour=\"black\", fill=\"white\"), strip.text.y = element_text(size=30, face=\"bold\"),\n",
    "        strip.text.x = element_text(size=20)) + \n",
    "  scale_fill_manual(values = c(\"#c85f55\",\n",
    "\"#a964bf\",\n",
    "\"#8db352\",\n",
    "\"#fa7300\",\n",
    "\"#05aec0\",\n",
    "\"#ff1493\")) +\n",
    "#scale_y_log10(breaks = scales::trans_breaks(\"log10\", function(x) 10^x)) +\n",
    "#scale_y_log10(breaks = 10^(-8:8), limit=c(10^-8, 10^2)) + \n",
    "scale_y_log10(breaks = 10^seq(-10, 10, 2), labels=trans_format(\"log10\", math_format(10^.x))) + #, limit=c(10^-8, 10^2)) +\n",
    "  labs(x = \"Sample Size\", y = \"MSE of Parameter Estimates\", fill = \"Cluster Size\") +\n",
    "geom_blank(aes(y = y_max)) + \n",
    "geom_blank(aes(y = y_min)) \n",
    "\n",
    "\"\"\""
   ]
  },
  {
   "cell_type": "code",
   "execution_count": 12,
   "metadata": {},
   "outputs": [
    {
     "data": {
      "text/plain": [
       "RObject{StrSxp}\n",
       "[1] \"updated_msefacetplot_poisson_CS_neg_rho_0.2_sigma2_0.1.png\"\n"
      ]
     },
     "execution_count": 12,
     "metadata": {},
     "output_type": "execute_result"
    }
   ],
   "source": [
    "R\"\"\"\n",
    "ggsave('updated_msefacetplot_poisson_CS_neg_rho_0.2_sigma2_0.1.png', mseplot, width = 12.5, height = 15, units = 'in', dpi = 450)\n",
    "\"\"\""
   ]
  },
  {
   "cell_type": "code",
   "execution_count": null,
   "metadata": {},
   "outputs": [],
   "source": []
  }
 ],
 "metadata": {
  "@webio": {
   "lastCommId": null,
   "lastKernelId": null
  },
  "kernelspec": {
   "display_name": "Julia 1.6.2",
   "language": "julia",
   "name": "julia-1.6"
  },
  "language_info": {
   "file_extension": ".jl",
   "mimetype": "application/julia",
   "name": "julia",
   "version": "1.6.2"
  }
 },
 "nbformat": 4,
 "nbformat_minor": 2
}
