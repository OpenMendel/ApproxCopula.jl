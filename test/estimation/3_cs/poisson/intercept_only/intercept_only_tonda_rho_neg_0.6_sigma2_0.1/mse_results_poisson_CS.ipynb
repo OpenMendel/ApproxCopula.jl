{
 "cells": [
  {
   "cell_type": "markdown",
   "metadata": {},
   "source": [
    "## Poisson CS Results \n",
    "\n",
    "This notebook goes over the code needed to reproduce the results from the MSE and time figures in the first simulation in the paper. \n",
    "\n",
    "In this example simulate three fixed effects from a standard Normal distribution, $\\beta \\sim$ randn(p) where p = 3 fixed effects.\n",
    "\n",
    "In this example we have Poisson base distribution with Log Link function and covariance matrix $\\Gamma$ structured under CS covariance with $\\rho = 0.6, \\sigma^2 = 0.1$\n",
    "\n",
    "We run each scenario 100 times."
   ]
  },
  {
   "cell_type": "code",
   "execution_count": 1,
   "metadata": {},
   "outputs": [
    {
     "name": "stdout",
     "output_type": "stream",
     "text": [
      "Julia Version 1.6.2\n",
      "Commit 1b93d53fc4 (2021-07-14 15:36 UTC)\n",
      "Platform Info:\n",
      "  OS: macOS (x86_64-apple-darwin18.7.0)\n",
      "  CPU: Intel(R) Core(TM) i9-9880H CPU @ 2.30GHz\n",
      "  WORD_SIZE: 64\n",
      "  LIBM: libopenlibm\n",
      "  LLVM: libLLVM-11.0.1 (ORCJIT, skylake)\n"
     ]
    }
   ],
   "source": [
    "versioninfo()"
   ]
  },
  {
   "cell_type": "code",
   "execution_count": 2,
   "metadata": {},
   "outputs": [
    {
     "name": "stderr",
     "output_type": "stream",
     "text": [
      "┌ Info: Precompiling GLMCopula [c47b6ae2-b804-4668-9957-eb588c99ffbc]\n",
      "└ @ Base loading.jl:1342\n"
     ]
    }
   ],
   "source": [
    "using GLMCopula, DelimitedFiles, LinearAlgebra, Random, GLM\n",
    "using Random, Roots, SpecialFunctions, DataFrames"
   ]
  },
  {
   "cell_type": "code",
   "execution_count": 3,
   "metadata": {},
   "outputs": [
    {
     "data": {
      "text/plain": [
       "100"
      ]
     },
     "execution_count": 3,
     "metadata": {},
     "output_type": "execute_result"
    }
   ],
   "source": [
    "p = 1    # number of fixed effects, including intercept\n",
    "\n",
    "# true parameter values\n",
    "βtrue = [log(5.0)]\n",
    "σ2true = [0.1]\n",
    "ρtrue = [-0.6]\n",
    "θtrue = [σ2true; ρtrue]\n",
    "\n",
    "# generate data\n",
    "trueparams = [βtrue; θtrue] #hold true parameters\n",
    "\n",
    "#simulation parameters\n",
    "samplesizes = [100; 1000; 10000]\n",
    "ns = [2; 5; 10; 15; 20; 25]\n",
    "nsims = 100"
   ]
  },
  {
   "cell_type": "code",
   "execution_count": 4,
   "metadata": {},
   "outputs": [
    {
     "name": "stderr",
     "output_type": "stream",
     "text": [
      "┌ Info: reading in the files with results\n",
      "└ @ Main In[4]:1\n"
     ]
    },
    {
     "data": {
      "text/plain": [
       "1800-element Vector{Float64}:\n",
       "  0.023419756\n",
       "  0.014664434\n",
       "  0.016319344\n",
       "  0.015821267\n",
       "  0.020865072\n",
       "  0.025525746\n",
       "  0.018274825\n",
       "  0.017361859\n",
       "  0.050616328\n",
       "  0.020588718\n",
       "  0.016575967\n",
       "  0.018285823\n",
       "  0.022818252\n",
       "  ⋮\n",
       " 36.236078731\n",
       " 36.084771231\n",
       " 35.162691365\n",
       " 35.622341288\n",
       " 33.242364946\n",
       " 35.854716277\n",
       " 29.883682688\n",
       " 36.328129002\n",
       " 36.687144686\n",
       " 34.499834721\n",
       " 35.596420291\n",
       " 35.590530745"
      ]
     },
     "execution_count": 4,
     "metadata": {},
     "output_type": "execute_result"
    }
   ],
   "source": [
    "@info \"reading in the files with results\"\n",
    "βMseresult = vec(readdlm(\"mse_beta_multivariate_poisson_CS$(nsims)reps_sim.csv\", ','))\n",
    "σ2MseResult = vec(readdlm(\"mse_sigma_multivariate_poisson_CS$(nsims)reps_sim.csv\", ','))\n",
    "ρMseResult = vec(readdlm(\"mse_rho_multivariate_poisson_CS$(nsims)reps_sim.csv\", ','))\n",
    "fittimes = vec(readdlm(\"fittimes_multivariate_poisson_CS$(nsims)reps_sim.csv\", ','))"
   ]
  },
  {
   "cell_type": "code",
   "execution_count": 5,
   "metadata": {},
   "outputs": [
    {
     "name": "stderr",
     "output_type": "stream",
     "text": [
      "┌ Info: making results table\n",
      "└ @ Main In[5]:2\n"
     ]
    },
    {
     "data": {
      "text/html": [
       "<div class=\"data-frame\"><p>18 rows × 8 columns</p><table class=\"data-frame\"><thead><tr><th></th><th>samplesize</th><th>obssize</th><th>fittime</th><th>se</th><th>nobs</th><th>fitmin</th><th>fitmax</th><th>perobsratio</th></tr><tr><th></th><th title=\"String\">String</th><th title=\"String\">String</th><th title=\"Float64\">Float64</th><th title=\"Float64\">Float64</th><th title=\"Int64\">Int64</th><th title=\"Float64\">Float64</th><th title=\"Float64\">Float64</th><th title=\"Float64\">Float64</th></tr></thead><tbody><tr><th>1</th><td>100</td><td>2</td><td>0.0222353</td><td>0.000685241</td><td>200</td><td>0.02155</td><td>0.0229205</td><td>0.000111176</td></tr><tr><th>2</th><td>100</td><td>5</td><td>0.106637</td><td>0.00602011</td><td>500</td><td>0.100617</td><td>0.112657</td><td>0.000213274</td></tr><tr><th>3</th><td>100</td><td>10</td><td>0.193792</td><td>0.00578048</td><td>1000</td><td>0.188012</td><td>0.199573</td><td>0.000193792</td></tr><tr><th>4</th><td>100</td><td>15</td><td>0.237729</td><td>0.00669564</td><td>1500</td><td>0.231033</td><td>0.244425</td><td>0.000158486</td></tr><tr><th>5</th><td>100</td><td>20</td><td>0.306941</td><td>0.00568026</td><td>2000</td><td>0.30126</td><td>0.312621</td><td>0.00015347</td></tr><tr><th>6</th><td>100</td><td>25</td><td>0.332636</td><td>0.00953718</td><td>2500</td><td>0.323098</td><td>0.342173</td><td>0.000133054</td></tr><tr><th>7</th><td>1000</td><td>2</td><td>0.152642</td><td>0.0026667</td><td>2000</td><td>0.149975</td><td>0.155309</td><td>7.6321e-5</td></tr><tr><th>8</th><td>1000</td><td>5</td><td>0.747695</td><td>0.0176422</td><td>5000</td><td>0.730053</td><td>0.765337</td><td>0.000149539</td></tr><tr><th>9</th><td>1000</td><td>10</td><td>1.0553</td><td>0.029331</td><td>10000</td><td>1.02597</td><td>1.08463</td><td>0.00010553</td></tr><tr><th>10</th><td>1000</td><td>15</td><td>1.84275</td><td>0.0251197</td><td>15000</td><td>1.81763</td><td>1.86787</td><td>0.00012285</td></tr><tr><th>11</th><td>1000</td><td>20</td><td>2.59654</td><td>0.022156</td><td>20000</td><td>2.57438</td><td>2.61869</td><td>0.000129827</td></tr><tr><th>12</th><td>1000</td><td>25</td><td>3.17233</td><td>0.0291453</td><td>25000</td><td>3.14319</td><td>3.20148</td><td>0.000126893</td></tr><tr><th>13</th><td>10000</td><td>2</td><td>2.57892</td><td>0.0398321</td><td>20000</td><td>2.53909</td><td>2.61875</td><td>0.000128946</td></tr><tr><th>14</th><td>10000</td><td>5</td><td>9.35525</td><td>0.0689822</td><td>50000</td><td>9.28627</td><td>9.42423</td><td>0.000187105</td></tr><tr><th>15</th><td>10000</td><td>10</td><td>12.4063</td><td>0.254685</td><td>100000</td><td>12.1516</td><td>12.661</td><td>0.000124063</td></tr><tr><th>16</th><td>10000</td><td>15</td><td>21.5641</td><td>0.261511</td><td>150000</td><td>21.3026</td><td>21.8257</td><td>0.000143761</td></tr><tr><th>17</th><td>10000</td><td>20</td><td>29.5906</td><td>0.14483</td><td>200000</td><td>29.4458</td><td>29.7355</td><td>0.000147953</td></tr><tr><th>18</th><td>10000</td><td>25</td><td>34.7809</td><td>0.177612</td><td>250000</td><td>34.6033</td><td>34.9585</td><td>0.000139124</td></tr></tbody></table></div>"
      ],
      "text/latex": [
       "\\begin{tabular}{r|cccccccc}\n",
       "\t& samplesize & obssize & fittime & se & nobs & fitmin & fitmax & perobsratio\\\\\n",
       "\t\\hline\n",
       "\t& String & String & Float64 & Float64 & Int64 & Float64 & Float64 & Float64\\\\\n",
       "\t\\hline\n",
       "\t1 & 100 & 2 & 0.0222353 & 0.000685241 & 200 & 0.02155 & 0.0229205 & 0.000111176 \\\\\n",
       "\t2 & 100 & 5 & 0.106637 & 0.00602011 & 500 & 0.100617 & 0.112657 & 0.000213274 \\\\\n",
       "\t3 & 100 & 10 & 0.193792 & 0.00578048 & 1000 & 0.188012 & 0.199573 & 0.000193792 \\\\\n",
       "\t4 & 100 & 15 & 0.237729 & 0.00669564 & 1500 & 0.231033 & 0.244425 & 0.000158486 \\\\\n",
       "\t5 & 100 & 20 & 0.306941 & 0.00568026 & 2000 & 0.30126 & 0.312621 & 0.00015347 \\\\\n",
       "\t6 & 100 & 25 & 0.332636 & 0.00953718 & 2500 & 0.323098 & 0.342173 & 0.000133054 \\\\\n",
       "\t7 & 1000 & 2 & 0.152642 & 0.0026667 & 2000 & 0.149975 & 0.155309 & 7.6321e-5 \\\\\n",
       "\t8 & 1000 & 5 & 0.747695 & 0.0176422 & 5000 & 0.730053 & 0.765337 & 0.000149539 \\\\\n",
       "\t9 & 1000 & 10 & 1.0553 & 0.029331 & 10000 & 1.02597 & 1.08463 & 0.00010553 \\\\\n",
       "\t10 & 1000 & 15 & 1.84275 & 0.0251197 & 15000 & 1.81763 & 1.86787 & 0.00012285 \\\\\n",
       "\t11 & 1000 & 20 & 2.59654 & 0.022156 & 20000 & 2.57438 & 2.61869 & 0.000129827 \\\\\n",
       "\t12 & 1000 & 25 & 3.17233 & 0.0291453 & 25000 & 3.14319 & 3.20148 & 0.000126893 \\\\\n",
       "\t13 & 10000 & 2 & 2.57892 & 0.0398321 & 20000 & 2.53909 & 2.61875 & 0.000128946 \\\\\n",
       "\t14 & 10000 & 5 & 9.35525 & 0.0689822 & 50000 & 9.28627 & 9.42423 & 0.000187105 \\\\\n",
       "\t15 & 10000 & 10 & 12.4063 & 0.254685 & 100000 & 12.1516 & 12.661 & 0.000124063 \\\\\n",
       "\t16 & 10000 & 15 & 21.5641 & 0.261511 & 150000 & 21.3026 & 21.8257 & 0.000143761 \\\\\n",
       "\t17 & 10000 & 20 & 29.5906 & 0.14483 & 200000 & 29.4458 & 29.7355 & 0.000147953 \\\\\n",
       "\t18 & 10000 & 25 & 34.7809 & 0.177612 & 250000 & 34.6033 & 34.9585 & 0.000139124 \\\\\n",
       "\\end{tabular}\n"
      ],
      "text/plain": [
       "\u001b[1m18×8 DataFrame\u001b[0m\n",
       "\u001b[1m Row \u001b[0m│\u001b[1m samplesize \u001b[0m\u001b[1m obssize \u001b[0m\u001b[1m fittime    \u001b[0m\u001b[1m se          \u001b[0m\u001b[1m nobs   \u001b[0m\u001b[1m fitmin    \u001b[0m\u001b[1m fitmax\u001b[0m ⋯\n",
       "\u001b[1m     \u001b[0m│\u001b[90m String     \u001b[0m\u001b[90m String  \u001b[0m\u001b[90m Float64    \u001b[0m\u001b[90m Float64     \u001b[0m\u001b[90m Int64  \u001b[0m\u001b[90m Float64   \u001b[0m\u001b[90m Float6\u001b[0m ⋯\n",
       "─────┼──────────────────────────────────────────────────────────────────────────\n",
       "   1 │ 100         2         0.0222353  0.000685241     200   0.02155    0.022 ⋯\n",
       "   2 │ 100         5         0.106637   0.00602011      500   0.100617   0.112\n",
       "   3 │ 100         10        0.193792   0.00578048     1000   0.188012   0.199\n",
       "   4 │ 100         15        0.237729   0.00669564     1500   0.231033   0.244\n",
       "   5 │ 100         20        0.306941   0.00568026     2000   0.30126    0.312 ⋯\n",
       "   6 │ 100         25        0.332636   0.00953718     2500   0.323098   0.342\n",
       "   7 │ 1000        2         0.152642   0.0026667      2000   0.149975   0.155\n",
       "   8 │ 1000        5         0.747695   0.0176422      5000   0.730053   0.765\n",
       "   9 │ 1000        10        1.0553     0.029331      10000   1.02597    1.084 ⋯\n",
       "  10 │ 1000        15        1.84275    0.0251197     15000   1.81763    1.867\n",
       "  11 │ 1000        20        2.59654    0.022156      20000   2.57438    2.618\n",
       "  12 │ 1000        25        3.17233    0.0291453     25000   3.14319    3.201\n",
       "  13 │ 10000       2         2.57892    0.0398321     20000   2.53909    2.618 ⋯\n",
       "  14 │ 10000       5         9.35525    0.0689822     50000   9.28627    9.424\n",
       "  15 │ 10000       10       12.4063     0.254685     100000  12.1516    12.661\n",
       "  16 │ 10000       15       21.5641     0.261511     150000  21.3026    21.825\n",
       "  17 │ 10000       20       29.5906     0.14483      200000  29.4458    29.735 ⋯\n",
       "  18 │ 10000       25       34.7809     0.177612     250000  34.6033    34.958\n",
       "\u001b[36m                                                               2 columns omitted\u001b[0m"
      ]
     },
     "execution_count": 5,
     "metadata": {},
     "output_type": "execute_result"
    }
   ],
   "source": [
    "#simulation parameters\n",
    "@info \"making results table\"\n",
    "sample_sizes = repeat(string.(samplesizes), inner = nsims * length(ns))\n",
    "obs_sizes = repeat(string.(ns), inner = nsims, outer = length(samplesizes))\n",
    "\n",
    "msedf = DataFrame(βmse = βMseresult, σ2mse = σ2MseResult, ρmse = ρMseResult,\n",
    "    samplesize = sample_sizes, obssize = obs_sizes, fittimes = fittimes)\n",
    "timedf = combine(groupby(msedf, [:samplesize, :obssize]), :fittimes => mean => :fittime,\n",
    "    :fittimes => x -> (std(x)/sqrt(length(x))))\n",
    "rename!(timedf, Dict(:fittimes_function => \"se\"))\n",
    "timedf[!, :nobs] = Meta.parse.(timedf[!, :samplesize]) .* Meta.parse.(timedf[!, :obssize])\n",
    "timedf[!, :fitmin] = timedf[!, :fittime] - timedf[!, :se]\n",
    "timedf[!, :fitmax] = timedf[!, :fittime] + timedf[!, :se]\n",
    "timedf[!, :perobsratio] = timedf[!, :fittime] ./ timedf[!, :nobs]\n",
    "timedf"
   ]
  },
  {
   "cell_type": "code",
   "execution_count": 7,
   "metadata": {},
   "outputs": [
    {
     "data": {
      "image/png": "[encoded data removed]"
     },
     "metadata": {},
     "output_type": "display_data"
    },
    {
     "data": {
      "text/plain": [
       "RObject{VecSxp}\n"
      ]
     },
     "execution_count": 7,
     "metadata": {},
     "output_type": "execute_result"
    }
   ],
   "source": [
    "########### plot the runtimes\n",
    "using RCall\n",
    "@rput timedf\n",
    "\n",
    "R\"\"\"\n",
    "library(ggplot2)\n",
    "timedf$obssize = factor(timedf$obssize, levels = c('2', '5', '10', '15', '20', '25'))\n",
    "timedf$samplesize = factor(timedf$samplesize, levels = c('100', '1000', '10000'))\n",
    "\n",
    "fittime_1 = ggplot(timedf, aes(x = samplesize, y = fittime, group = obssize, color = obssize)) + \n",
    "  geom_line() +\n",
    "  geom_point()+\n",
    "  geom_errorbar(aes(ymin=fitmin, ymax=fitmax), width=0.5, alpha = 0.8, position=position_dodge(0.005)) + \n",
    "  theme(legend.position=c(0.15,0.85), legend.key = element_blank(), axis.text.x = element_text(angle=0, size=13),\n",
    "        axis.text.y = element_text(angle=0, size=13), axis.title.x = element_text(size = 17), \n",
    "        axis.title.y = element_text(size = 17), legend.title = element_text(size = 14),\n",
    "        #axis.ticks = element_blank(),\n",
    "        panel.grid.major = element_blank(), legend.text=element_text(size=13),\n",
    "        panel.border = element_blank(), panel.grid.minor = element_blank(), panel.background = element_blank(), \n",
    "        axis.line = element_line(color = 'black',size=0.3), plot.title = element_text(hjust = 0.5)) + \n",
    "   scale_color_manual(values = c(\"#c85f55\",\n",
    "\"#a964bf\",\n",
    "\"#8db352\",\n",
    "\"#fa7300\",\n",
    "\"#05aec0\",\n",
    "\"#ff1493\")) +\n",
    "  labs(x = \"Number of Individuals\", y = \"Fit time (seconds)\", color = \"Obs per Individual\")\n",
    "\"\"\""
   ]
  },
  {
   "cell_type": "code",
   "execution_count": 8,
   "metadata": {},
   "outputs": [
    {
     "data": {
      "text/plain": [
       "RObject{StrSxp}\n",
       "[1] \"fittimes_nobs_poisson_CS_neg_rho.png\"\n"
      ]
     },
     "execution_count": 8,
     "metadata": {},
     "output_type": "execute_result"
    }
   ],
   "source": [
    "R\"\"\"\n",
    "    ggsave('fittimes_nobs_poisson_CS_neg_rho.png', fittime_1, width = 12.5, height = 15, units = 'in', dpi = 450)\n",
    "\"\"\""
   ]
  },
  {
   "cell_type": "code",
   "execution_count": 8,
   "metadata": {},
   "outputs": [],
   "source": [
    "# using RCall\n",
    "# @rput timedf\n",
    "\n",
    "# R\"\"\"\n",
    "# library(scales)\n",
    "# library(ggplot2)\n",
    "# timedf$obssize <- factor(timedf$obssize, levels = c('2', '5', '10', '15', '20', '25'))\n",
    "# timedf$samplesize <- factor(timedf$samplesize, levels = c('100', '1000', '10000'))\n",
    "\n",
    "# fancy_scientific <- function(l) {\n",
    "#      # turn in to character string in scientific notation\n",
    "#      l <- format(l, scientific = TRUE)\n",
    "#      # quote the part before the exponent to keep all the digits\n",
    "#      l <- gsub(\"^(.*)e\", \"'\\\\1'e\", l)\n",
    "#      # turn the 'e+' into plotmath format\n",
    "#      l <- gsub(\"e\", \"%*%10^\", l)\n",
    "#      # return this as an expression\n",
    "#      parse(text=l)\n",
    "# }\n",
    "\n",
    "# fittimeperobs = ggplot(timedf, aes(x=nobs, y=perobsratio)) + \n",
    "#   geom_line() +\n",
    "#   geom_point()+\n",
    "# #  geom_errorbar(aes(ymin=fitmin, ymax=fitmax), width=0.5, alpha = 0.8, position=position_dodge(0.005)) + \n",
    "#   theme(legend.position=c(0.15,0.8), legend.key = element_blank(), axis.text.x = element_text(angle=0, size=13),\n",
    "#         axis.text.y = element_text(angle=0, size=13), axis.title.x = element_text(size = 17), \n",
    "#         axis.title.y = element_text(size = 17), legend.title = element_text(size = 14),\n",
    "#         #axis.ticks = element_blank(),\n",
    "#         panel.grid.major = element_blank(), legend.text=element_text(size=11),\n",
    "#         panel.border = element_blank(), panel.grid.minor = element_blank(), panel.background = element_blank(), \n",
    "#         axis.line = element_line(color = 'black',size=0.3), plot.title = element_text(hjust = 0.5)) + \n",
    "#   labs(x = \"Total Number of Observations\", y = \"Fit time per observation (seconds)\", color = \"Obs per Individual\") +\n",
    "# #scale_x_log10(breaks = 10^seq(0, 7, 1), labels=trans_format(\"log10\", math_format(10^.x)))# + #, limit=c(10^0, 10^7))\n",
    "# scale_x_continuous(breaks = seq(0, 6000000, 1000000), labels= fancy_scientific) +\n",
    "# scale_y_continuous(breaks = c(10^-4, 2 * 10^-4, 3 * 10^-4, 4 * 10^-4, 5 * 10^-4, 6 * 10^-4), labels= fancy_scientific)\n",
    "\n",
    "# \"\"\""
   ]
  },
  {
   "cell_type": "code",
   "execution_count": 13,
   "metadata": {},
   "outputs": [
    {
     "data": {
      "text/html": [
       "<div class=\"data-frame\"><p>18 rows × 4 columns</p><table class=\"data-frame\"><thead><tr><th></th><th>people_obs</th><th>β1</th><th>ρ</th><th>σ2</th></tr><tr><th></th><th title=\"String\">String</th><th title=\"Tuple{Float64, Float64}\">Tuple…</th><th title=\"Tuple{Float64, Float64}\">Tuple…</th><th title=\"Tuple{Float64, Float64}\">Tuple…</th></tr></thead><tbody><tr><th>1</th><td>N: 100  ni: 2</td><td>(0.95, 0.0219043)</td><td>(0.9, 0.0301511)</td><td>(1.0, 0.0)</td></tr><tr><th>2</th><td>N: 100  ni: 5</td><td>(0.92, 0.027266)</td><td>(0.76, 0.0429235)</td><td>(0.99, 0.01)</td></tr><tr><th>3</th><td>N: 100  ni: 10</td><td>(0.77, 0.0422953)</td><td>(0.54, 0.0500908)</td><td>(0.95, 0.0219043)</td></tr><tr><th>4</th><td>N: 100  ni: 15</td><td>(0.69, 0.0464823)</td><td>(0.3, 0.0460566)</td><td>(0.82, 0.0386123)</td></tr><tr><th>5</th><td>N: 100  ni: 20</td><td>(0.59, 0.0494311)</td><td>(0.19, 0.0394277)</td><td>(0.87, 0.0337998)</td></tr><tr><th>6</th><td>N: 100  ni: 25</td><td>(0.55, 0.05)</td><td>(0.23, 0.0422953)</td><td>(0.87, 0.0337998)</td></tr><tr><th>7</th><td>N: 1000  ni: 2</td><td>(0.95, 0.0219043)</td><td>(0.98, 0.0140705)</td><td>(0.94, 0.0238683)</td></tr><tr><th>8</th><td>N: 1000  ni: 5</td><td>(0.84, 0.0368453)</td><td>(0.87, 0.0337998)</td><td>(0.19, 0.0394277)</td></tr><tr><th>9</th><td>N: 1000  ni: 10</td><td>(0.69, 0.0464823)</td><td>(0.57, 0.049757)</td><td>(0.0, 0.0)</td></tr><tr><th>10</th><td>N: 1000  ni: 15</td><td>(0.5, 0.0502519)</td><td>(0.1, 0.0301511)</td><td>(0.01, 0.01)</td></tr><tr><th>11</th><td>N: 1000  ni: 20</td><td>(0.24, 0.0429235)</td><td>(0.07, 0.0256432)</td><td>(0.09, 0.0287623)</td></tr><tr><th>12</th><td>N: 1000  ni: 25</td><td>(0.28, 0.0451261)</td><td>(0.09, 0.0287623)</td><td>(0.31, 0.0464823)</td></tr><tr><th>13</th><td>N: 10000  ni: 2</td><td>(0.96, 0.0196946)</td><td>(0.95, 0.0219043)</td><td>(0.87, 0.0337998)</td></tr><tr><th>14</th><td>N: 10000  ni: 5</td><td>(0.38, 0.0487832)</td><td>(0.41, 0.0494311)</td><td>(0.0, 0.0)</td></tr><tr><th>15</th><td>N: 10000  ni: 10</td><td>(0.07, 0.0256432)</td><td>(0.22, 0.0416333)</td><td>(0.0, 0.0)</td></tr><tr><th>16</th><td>N: 10000  ni: 15</td><td>(0.13, 0.0337998)</td><td>(0.01, 0.01)</td><td>(0.01, 0.01)</td></tr><tr><th>17</th><td>N: 10000  ni: 20</td><td>(0.03, 0.0171447)</td><td>(0.02, 0.0140705)</td><td>(0.0, 0.0)</td></tr><tr><th>18</th><td>N: 10000  ni: 25</td><td>(0.06, 0.0238683)</td><td>(0.0, 0.0)</td><td>(0.01, 0.01)</td></tr></tbody></table></div>"
      ],
      "text/latex": [
       "\\begin{tabular}{r|cccc}\n",
       "\t& people\\_obs & β1 & ρ & σ2\\\\\n",
       "\t\\hline\n",
       "\t& String & Tuple… & Tuple… & Tuple…\\\\\n",
       "\t\\hline\n",
       "\t1 & N: 100  ni: 2 & (0.95, 0.0219043) & (0.9, 0.0301511) & (1.0, 0.0) \\\\\n",
       "\t2 & N: 100  ni: 5 & (0.92, 0.027266) & (0.76, 0.0429235) & (0.99, 0.01) \\\\\n",
       "\t3 & N: 100  ni: 10 & (0.77, 0.0422953) & (0.54, 0.0500908) & (0.95, 0.0219043) \\\\\n",
       "\t4 & N: 100  ni: 15 & (0.69, 0.0464823) & (0.3, 0.0460566) & (0.82, 0.0386123) \\\\\n",
       "\t5 & N: 100  ni: 20 & (0.59, 0.0494311) & (0.19, 0.0394277) & (0.87, 0.0337998) \\\\\n",
       "\t6 & N: 100  ni: 25 & (0.55, 0.05) & (0.23, 0.0422953) & (0.87, 0.0337998) \\\\\n",
       "\t7 & N: 1000  ni: 2 & (0.95, 0.0219043) & (0.98, 0.0140705) & (0.94, 0.0238683) \\\\\n",
       "\t8 & N: 1000  ni: 5 & (0.84, 0.0368453) & (0.87, 0.0337998) & (0.19, 0.0394277) \\\\\n",
       "\t9 & N: 1000  ni: 10 & (0.69, 0.0464823) & (0.57, 0.049757) & (0.0, 0.0) \\\\\n",
       "\t10 & N: 1000  ni: 15 & (0.5, 0.0502519) & (0.1, 0.0301511) & (0.01, 0.01) \\\\\n",
       "\t11 & N: 1000  ni: 20 & (0.24, 0.0429235) & (0.07, 0.0256432) & (0.09, 0.0287623) \\\\\n",
       "\t12 & N: 1000  ni: 25 & (0.28, 0.0451261) & (0.09, 0.0287623) & (0.31, 0.0464823) \\\\\n",
       "\t13 & N: 10000  ni: 2 & (0.96, 0.0196946) & (0.95, 0.0219043) & (0.87, 0.0337998) \\\\\n",
       "\t14 & N: 10000  ni: 5 & (0.38, 0.0487832) & (0.41, 0.0494311) & (0.0, 0.0) \\\\\n",
       "\t15 & N: 10000  ni: 10 & (0.07, 0.0256432) & (0.22, 0.0416333) & (0.0, 0.0) \\\\\n",
       "\t16 & N: 10000  ni: 15 & (0.13, 0.0337998) & (0.01, 0.01) & (0.01, 0.01) \\\\\n",
       "\t17 & N: 10000  ni: 20 & (0.03, 0.0171447) & (0.02, 0.0140705) & (0.0, 0.0) \\\\\n",
       "\t18 & N: 10000  ni: 25 & (0.06, 0.0238683) & (0.0, 0.0) & (0.01, 0.01) \\\\\n",
       "\\end{tabular}\n"
      ],
      "text/plain": [
       "\u001b[1m18×4 DataFrame\u001b[0m\n",
       "\u001b[1m Row \u001b[0m│\u001b[1m people_obs       \u001b[0m\u001b[1m β1                \u001b[0m\u001b[1m ρ                 \u001b[0m\u001b[1m σ2             \u001b[0m ⋯\n",
       "\u001b[1m     \u001b[0m│\u001b[90m String           \u001b[0m\u001b[90m Tuple…            \u001b[0m\u001b[90m Tuple…            \u001b[0m\u001b[90m Tuple…         \u001b[0m ⋯\n",
       "─────┼──────────────────────────────────────────────────────────────────────────\n",
       "   1 │ N: 100  ni: 2     (0.95, 0.0219043)  (0.9, 0.0301511)   (1.0, 0.0)      ⋯\n",
       "   2 │ N: 100  ni: 5     (0.92, 0.027266)   (0.76, 0.0429235)  (0.99, 0.01)\n",
       "   3 │ N: 100  ni: 10    (0.77, 0.0422953)  (0.54, 0.0500908)  (0.95, 0.021904\n",
       "   4 │ N: 100  ni: 15    (0.69, 0.0464823)  (0.3, 0.0460566)   (0.82, 0.038612\n",
       "   5 │ N: 100  ni: 20    (0.59, 0.0494311)  (0.19, 0.0394277)  (0.87, 0.033799 ⋯\n",
       "   6 │ N: 100  ni: 25    (0.55, 0.05)       (0.23, 0.0422953)  (0.87, 0.033799\n",
       "   7 │ N: 1000  ni: 2    (0.95, 0.0219043)  (0.98, 0.0140705)  (0.94, 0.023868\n",
       "   8 │ N: 1000  ni: 5    (0.84, 0.0368453)  (0.87, 0.0337998)  (0.19, 0.039427\n",
       "   9 │ N: 1000  ni: 10   (0.69, 0.0464823)  (0.57, 0.049757)   (0.0, 0.0)      ⋯\n",
       "  10 │ N: 1000  ni: 15   (0.5, 0.0502519)   (0.1, 0.0301511)   (0.01, 0.01)\n",
       "  11 │ N: 1000  ni: 20   (0.24, 0.0429235)  (0.07, 0.0256432)  (0.09, 0.028762\n",
       "  12 │ N: 1000  ni: 25   (0.28, 0.0451261)  (0.09, 0.0287623)  (0.31, 0.046482\n",
       "  13 │ N: 10000  ni: 2   (0.96, 0.0196946)  (0.95, 0.0219043)  (0.87, 0.033799 ⋯\n",
       "  14 │ N: 10000  ni: 5   (0.38, 0.0487832)  (0.41, 0.0494311)  (0.0, 0.0)\n",
       "  15 │ N: 10000  ni: 10  (0.07, 0.0256432)  (0.22, 0.0416333)  (0.0, 0.0)\n",
       "  16 │ N: 10000  ni: 15  (0.13, 0.0337998)  (0.01, 0.01)       (0.01, 0.01)\n",
       "  17 │ N: 10000  ni: 20  (0.03, 0.0171447)  (0.02, 0.0140705)  (0.0, 0.0)      ⋯\n",
       "  18 │ N: 10000  ni: 25  (0.06, 0.0238683)  (0.0, 0.0)         (0.01, 0.01)\n",
       "\u001b[36m                                                                1 column omitted\u001b[0m"
      ]
     },
     "execution_count": 13,
     "metadata": {},
     "output_type": "execute_result"
    }
   ],
   "source": [
    "######  supplementary table s1\n",
    "using Random, DataFrames, DelimitedFiles, Statistics\n",
    "import StatsBase: sem\n",
    "\n",
    "βρσ2coverage = readdlm(\"beta_sigma_coverage_multivariate_poisson_CS$(nsims)reps_sim.csv\", ',')\n",
    "\n",
    "m = 2\n",
    "\n",
    "covdf = DataFrame(Matrix(transpose(βρσ2coverage)), :auto)\n",
    "rename!(covdf, Symbol.([[\"β$i\" for i in 1:p];  [\"ρ\"]; [\"σ2\"]]))\n",
    "covdf[!, :samplesize] = sample_sizes\n",
    "covdf[!, :obssize] = obs_sizes\n",
    "first(covdf, 10)\n",
    "\n",
    "row_stats = [[(mean(col), sem(col)) for col = eachcol(d[!, 1:end-2])] for d = groupby(covdf, [:samplesize; :obssize])]\n",
    "df = DataFrame(row_stats, :auto)\n",
    "ss_obs = unique(\"N: \" .* sample_sizes .* \"  ni: \" .* obs_sizes)\n",
    "rename!(df, Symbol.(ss_obs))\n",
    "covdfdisplay = DataFrame([[names(df)]; collect.(eachrow(df))], \n",
    "    [:people_obs; Symbol.([[\"β$i\" for i in 1:p]; [\"ρ\"]; [\"σ2\"]])])\n",
    "# deletecols!(covdfdisplay, p + 2)\n",
    "covdfdisplay\n"
   ]
  },
  {
   "cell_type": "code",
   "execution_count": 16,
   "metadata": {},
   "outputs": [
    {
     "data": {
      "text/html": [
       "<div class=\"data-frame\"><p>2,987 rows × 5 columns</p><table class=\"data-frame\"><thead><tr><th></th><th>mse</th><th>obssize</th><th>samplesize</th><th>parameters</th><th>robust</th></tr><tr><th></th><th title=\"Float64\">Float64</th><th title=\"String\">String</th><th title=\"String\">String</th><th title=\"String\">String</th><th title=\"String\">String</th></tr></thead><tbody><tr><th>1</th><td>0.000844611</td><td>2</td><td>100</td><td>beta</td><td>Poisson with LogLink</td></tr><tr><th>2</th><td>6.20646e-6</td><td>2</td><td>100</td><td>beta</td><td>Poisson with LogLink</td></tr><tr><th>3</th><td>0.00967468</td><td>2</td><td>100</td><td>beta</td><td>Poisson with LogLink</td></tr><tr><th>4</th><td>0.00169266</td><td>2</td><td>100</td><td>beta</td><td>Poisson with LogLink</td></tr><tr><th>5</th><td>0.00109297</td><td>2</td><td>100</td><td>beta</td><td>Poisson with LogLink</td></tr><tr><th>6</th><td>0.00111691</td><td>2</td><td>100</td><td>beta</td><td>Poisson with LogLink</td></tr><tr><th>7</th><td>0.000223815</td><td>2</td><td>100</td><td>beta</td><td>Poisson with LogLink</td></tr><tr><th>8</th><td>2.04866e-5</td><td>2</td><td>100</td><td>beta</td><td>Poisson with LogLink</td></tr><tr><th>9</th><td>6.49062e-6</td><td>2</td><td>100</td><td>beta</td><td>Poisson with LogLink</td></tr><tr><th>10</th><td>2.22914e-5</td><td>2</td><td>100</td><td>beta</td><td>Poisson with LogLink</td></tr><tr><th>11</th><td>0.00181978</td><td>2</td><td>100</td><td>beta</td><td>Poisson with LogLink</td></tr><tr><th>12</th><td>0.00112315</td><td>2</td><td>100</td><td>beta</td><td>Poisson with LogLink</td></tr><tr><th>13</th><td>0.00340524</td><td>2</td><td>100</td><td>beta</td><td>Poisson with LogLink</td></tr><tr><th>14</th><td>0.000289466</td><td>2</td><td>100</td><td>beta</td><td>Poisson with LogLink</td></tr><tr><th>15</th><td>0.000667301</td><td>2</td><td>100</td><td>beta</td><td>Poisson with LogLink</td></tr><tr><th>16</th><td>0.000382217</td><td>2</td><td>100</td><td>beta</td><td>Poisson with LogLink</td></tr><tr><th>17</th><td>2.16129e-5</td><td>2</td><td>100</td><td>beta</td><td>Poisson with LogLink</td></tr><tr><th>18</th><td>0.00191594</td><td>2</td><td>100</td><td>beta</td><td>Poisson with LogLink</td></tr><tr><th>19</th><td>0.00238984</td><td>2</td><td>100</td><td>beta</td><td>Poisson with LogLink</td></tr><tr><th>20</th><td>0.000854908</td><td>2</td><td>100</td><td>beta</td><td>Poisson with LogLink</td></tr><tr><th>21</th><td>0.000132855</td><td>2</td><td>100</td><td>beta</td><td>Poisson with LogLink</td></tr><tr><th>22</th><td>0.00141903</td><td>2</td><td>100</td><td>beta</td><td>Poisson with LogLink</td></tr><tr><th>23</th><td>4.32614e-5</td><td>2</td><td>100</td><td>beta</td><td>Poisson with LogLink</td></tr><tr><th>24</th><td>0.00293626</td><td>2</td><td>100</td><td>beta</td><td>Poisson with LogLink</td></tr><tr><th>25</th><td>0.00174274</td><td>2</td><td>100</td><td>beta</td><td>Poisson with LogLink</td></tr><tr><th>26</th><td>0.000497332</td><td>2</td><td>100</td><td>beta</td><td>Poisson with LogLink</td></tr><tr><th>27</th><td>3.83574e-5</td><td>2</td><td>100</td><td>beta</td><td>Poisson with LogLink</td></tr><tr><th>28</th><td>0.00396329</td><td>2</td><td>100</td><td>beta</td><td>Poisson with LogLink</td></tr><tr><th>29</th><td>0.000908194</td><td>2</td><td>100</td><td>beta</td><td>Poisson with LogLink</td></tr><tr><th>30</th><td>0.00135655</td><td>2</td><td>100</td><td>beta</td><td>Poisson with LogLink</td></tr><tr><th>&vellip;</th><td>&vellip;</td><td>&vellip;</td><td>&vellip;</td><td>&vellip;</td><td>&vellip;</td></tr></tbody></table></div>"
      ],
      "text/latex": [
       "\\begin{tabular}{r|ccccc}\n",
       "\t& mse & obssize & samplesize & parameters & robust\\\\\n",
       "\t\\hline\n",
       "\t& Float64 & String & String & String & String\\\\\n",
       "\t\\hline\n",
       "\t1 & 0.000844611 & 2 & 100 & beta & Poisson with LogLink \\\\\n",
       "\t2 & 6.20646e-6 & 2 & 100 & beta & Poisson with LogLink \\\\\n",
       "\t3 & 0.00967468 & 2 & 100 & beta & Poisson with LogLink \\\\\n",
       "\t4 & 0.00169266 & 2 & 100 & beta & Poisson with LogLink \\\\\n",
       "\t5 & 0.00109297 & 2 & 100 & beta & Poisson with LogLink \\\\\n",
       "\t6 & 0.00111691 & 2 & 100 & beta & Poisson with LogLink \\\\\n",
       "\t7 & 0.000223815 & 2 & 100 & beta & Poisson with LogLink \\\\\n",
       "\t8 & 2.04866e-5 & 2 & 100 & beta & Poisson with LogLink \\\\\n",
       "\t9 & 6.49062e-6 & 2 & 100 & beta & Poisson with LogLink \\\\\n",
       "\t10 & 2.22914e-5 & 2 & 100 & beta & Poisson with LogLink \\\\\n",
       "\t11 & 0.00181978 & 2 & 100 & beta & Poisson with LogLink \\\\\n",
       "\t12 & 0.00112315 & 2 & 100 & beta & Poisson with LogLink \\\\\n",
       "\t13 & 0.00340524 & 2 & 100 & beta & Poisson with LogLink \\\\\n",
       "\t14 & 0.000289466 & 2 & 100 & beta & Poisson with LogLink \\\\\n",
       "\t15 & 0.000667301 & 2 & 100 & beta & Poisson with LogLink \\\\\n",
       "\t16 & 0.000382217 & 2 & 100 & beta & Poisson with LogLink \\\\\n",
       "\t17 & 2.16129e-5 & 2 & 100 & beta & Poisson with LogLink \\\\\n",
       "\t18 & 0.00191594 & 2 & 100 & beta & Poisson with LogLink \\\\\n",
       "\t19 & 0.00238984 & 2 & 100 & beta & Poisson with LogLink \\\\\n",
       "\t20 & 0.000854908 & 2 & 100 & beta & Poisson with LogLink \\\\\n",
       "\t21 & 0.000132855 & 2 & 100 & beta & Poisson with LogLink \\\\\n",
       "\t22 & 0.00141903 & 2 & 100 & beta & Poisson with LogLink \\\\\n",
       "\t23 & 4.32614e-5 & 2 & 100 & beta & Poisson with LogLink \\\\\n",
       "\t24 & 0.00293626 & 2 & 100 & beta & Poisson with LogLink \\\\\n",
       "\t25 & 0.00174274 & 2 & 100 & beta & Poisson with LogLink \\\\\n",
       "\t26 & 0.000497332 & 2 & 100 & beta & Poisson with LogLink \\\\\n",
       "\t27 & 3.83574e-5 & 2 & 100 & beta & Poisson with LogLink \\\\\n",
       "\t28 & 0.00396329 & 2 & 100 & beta & Poisson with LogLink \\\\\n",
       "\t29 & 0.000908194 & 2 & 100 & beta & Poisson with LogLink \\\\\n",
       "\t30 & 0.00135655 & 2 & 100 & beta & Poisson with LogLink \\\\\n",
       "\t$\\dots$ & $\\dots$ & $\\dots$ & $\\dots$ & $\\dots$ & $\\dots$ \\\\\n",
       "\\end{tabular}\n"
      ],
      "text/plain": [
       "\u001b[1m2987×5 DataFrame\u001b[0m\n",
       "\u001b[1m  Row \u001b[0m│\u001b[1m mse          \u001b[0m\u001b[1m obssize \u001b[0m\u001b[1m samplesize \u001b[0m\u001b[1m parameters \u001b[0m\u001b[1m robust               \u001b[0m\n",
       "\u001b[1m      \u001b[0m│\u001b[90m Float64      \u001b[0m\u001b[90m String  \u001b[0m\u001b[90m String     \u001b[0m\u001b[90m String     \u001b[0m\u001b[90m String               \u001b[0m\n",
       "──────┼─────────────────────────────────────────────────────────────────────\n",
       "    1 │  0.000844611  2        100         beta        Poisson with LogLink\n",
       "    2 │  6.20646e-6   2        100         beta        Poisson with LogLink\n",
       "    3 │  0.00967468   2        100         beta        Poisson with LogLink\n",
       "    4 │  0.00169266   2        100         beta        Poisson with LogLink\n",
       "    5 │  0.00109297   2        100         beta        Poisson with LogLink\n",
       "    6 │  0.00111691   2        100         beta        Poisson with LogLink\n",
       "    7 │  0.000223815  2        100         beta        Poisson with LogLink\n",
       "    8 │  2.04866e-5   2        100         beta        Poisson with LogLink\n",
       "    9 │  6.49062e-6   2        100         beta        Poisson with LogLink\n",
       "   10 │  2.22914e-5   2        100         beta        Poisson with LogLink\n",
       "   11 │  0.00181978   2        100         beta        Poisson with LogLink\n",
       "  ⋮   │      ⋮           ⋮         ⋮           ⋮                ⋮\n",
       " 2978 │  0.449749     20       10000       theta       Poisson with LogLink\n",
       " 2979 │  0.322606     20       10000       theta       Poisson with LogLink\n",
       " 2980 │  0.744264     25       10000       theta       Poisson with LogLink\n",
       " 2981 │ 57.1133       25       10000       theta       Poisson with LogLink\n",
       " 2982 │  0.660174     25       10000       theta       Poisson with LogLink\n",
       " 2983 │ 73.5255       25       10000       theta       Poisson with LogLink\n",
       " 2984 │  0.184889     25       10000       theta       Poisson with LogLink\n",
       " 2985 │  0.496666     25       10000       theta       Poisson with LogLink\n",
       " 2986 │ 37.7714       25       10000       theta       Poisson with LogLink\n",
       " 2987 │  0.770828     25       10000       theta       Poisson with LogLink\n",
       "\u001b[36m                                                           2966 rows omitted\u001b[0m"
      ]
     },
     "execution_count": 16,
     "metadata": {},
     "output_type": "execute_result"
    }
   ],
   "source": [
    "#### \n",
    "#import data and reorganize to create figure\n",
    "using Random, DataFrames, DelimitedFiles, Statistics, RCall, Printf\n",
    "import StatsBase: sem\n",
    "\n",
    "βMseresult_1 = vec(readdlm(\"mse_beta_multivariate_poisson_CS$(nsims)reps_sim.csv\", ','))\n",
    "σ2MseResult_1 = vec(readdlm(\"mse_sigma_multivariate_poisson_CS$(nsims)reps_sim.csv\", ','))\n",
    "ρMseResult_1 = vec(readdlm(\"mse_rho_multivariate_poisson_CS$(nsims)reps_sim.csv\", ','))\n",
    "θMseResult_1 = (σ2MseResult_1 .+ ρMseResult_1) ./ 2\n",
    "βρσ2coverage_1 = readdlm(\"beta_sigma_coverage_multivariate_poisson_CS$(nsims)reps_sim.csv\", ',')\n",
    "\n",
    "samplesizesrobust = samplesizes\n",
    "nsrobust = ns\n",
    "nsimsrobust = nsims\n",
    "\n",
    "# βMseresultnorm = vec(readdlm(\"result_files/mse_beta_normal_normal_lognormal_1000reps_sim.csv\", ','))\n",
    "# τMseresultnorm = vec(readdlm(\"result_files/mse_tau_normal_normal_lognormal_1000reps_sim.csv\", ','))\n",
    "# ΣMseresultnorm = vec(readdlm(\"result_files/mse_Sigma_normal_normal_lognormal_1000reps_sim.csv\", ','))\n",
    "# βτcoveragenorm = readdlm(\"result_files/beta_tau_coverage_5betas_normal_normal_lognormal_1000reps_sim.csv\", ',')\n",
    "\n",
    "\n",
    "# samplesizesnorm = collect(1000:1000:6000)\n",
    "# nsnorm = [10; 25; 50; 100; 1000]\n",
    "# nsimsnorm = 1000\n",
    "\n",
    "p = 1\n",
    "sample_sizesrobust = repeat(string.(samplesizesrobust), inner = nsimsrobust * length(nsrobust))\n",
    "obs_sizesrobust = repeat(string.(nsrobust), inner = nsimsrobust, outer = length(samplesizesrobust))\n",
    "msedfrobust = DataFrame(βmse = βMseresult_1, θMse = θMseResult_1,\n",
    "    samplesize = sample_sizesrobust, obssize = obs_sizesrobust)\n",
    "\n",
    "msedfrobustR = deepcopy(msedfrobust)\n",
    "rename!(msedfrobustR, [\"betamse\"\n",
    "    \"thetamse\"\n",
    "    \"samplesize\"\n",
    " \"obssize\"]);\n",
    "\n",
    "\n",
    "mses = [msedfrobustR[!, :betamse]; msedfrobustR[!, :thetamse]]\n",
    "    # msedfnormR[!, :betamse]; msedfnormR[!, :taumse]; msedfnormR[!, :Sigmamse]]\n",
    "obssize = collect([repeat(msedfrobustR[!, :obssize], 2)]...) # ; repeat(msedfnormR[!, :obssize], 3)]\n",
    "\n",
    "samplesize = collect([repeat(msedfrobustR[!, :samplesize], 2)]...) # ; repeat(msedfnormR[!, :samplesize], 3)]\n",
    "\n",
    "parameters = collect([repeat(string.([:beta, :theta]), inner = nsimsrobust * length(nsrobust) * length(samplesizesrobust))]...)\n",
    "# ; repeat(string.([:beta, :tau, :Sigma]), inner = nsimsnorm * length(nsnorm) * length(samplesizesnorm))]\n",
    "robust = collect([repeat([\"Poisson with LogLink\"], 2 * nsimsrobust * length(nsrobust) * length(samplesizesrobust))]...) # ;\n",
    "# repeat([\"Normal Normal Log-Normal\"], 3 * nsimsnorm * length(nsnorm) * length(samplesizesnorm))];\n",
    "\n",
    "msedfR = DataFrame(mse = mses, obssize = obssize, samplesize = samplesize,\n",
    "    parameters = parameters, robust = robust)\n",
    "\n",
    "#5 of the 30,000 simulations did not converge, filter out\n",
    "msedfR = filter(x -> !isnan(x.mse), msedfR)\n",
    "# additionally, there are 5 where an error was not caught so it did not try a differnt solver\n",
    "msedfR = filter(x -> x.mse < 400, msedfR)"
   ]
  },
  {
   "cell_type": "code",
   "execution_count": 17,
   "metadata": {},
   "outputs": [
    {
     "data": {
      "image/png": "[encoded data removed]"
     },
     "metadata": {},
     "output_type": "display_data"
    },
    {
     "data": {
      "text/plain": [
       "RObject{VecSxp}\n"
      ]
     },
     "execution_count": 17,
     "metadata": {},
     "output_type": "execute_result"
    }
   ],
   "source": [
    "### working on figure next\n",
    "@rput msedfR\n",
    "\n",
    "R\"\"\"\n",
    "library(scales)\n",
    "library(ggplot2)\n",
    "library(data.table)\n",
    "\n",
    "msedfR = data.table(msedfR)\n",
    "\n",
    "msedfR[parameters == \"beta\",y_min := 10^-6]\n",
    "msedfR[parameters == \"beta\",y_max := 10^-2]\n",
    "msedfR[parameters == \"theta\",y_min := 10^-5]\n",
    "msedfR[parameters == \"theta\",y_max := 10^1]\n",
    "\n",
    "#msedfR[parameters == \"beta\",y_min := 10^-8]\n",
    "#msedfR[parameters == \"beta\",y_max := 10^-2]\n",
    "#msedfR[parameters == \"tau\",y_min := 10^-8]\n",
    "#msedfR[parameters == \"tau\",y_max := 10^-2]\n",
    "#msedfR[parameters == \"Sigma\",y_min := 10^-5]\n",
    "#msedfR[parameters == \"Sigma\",y_max := 10^-2]\n",
    "\n",
    "\n",
    "msedfR$obssize = factor(msedfR$obssize, levels = c('2', '5', '10', '15', '20', '25'))\n",
    "msedfR$samplesize = factor(msedfR$samplesize, levels = c('100', '1000', '10000'))\n",
    "msedfR$parameters = factor(msedfR$parameters, levels = c('beta', 'theta'), labels = c(beta = expression(hat(bold(beta))), theta = expression(hat(bold(theta)))))\n",
    "msedfR$robust = factor(msedfR$robust, levels = c('Poisson with LogLink'),\n",
    "    labels = c(expression(paste(\"Poisson with LogLink\")))) # , expression(paste(\"MvT Gamma Inverse-Gamma\"))))\n",
    "\n",
    "\n",
    "#mseplot <- ggplot(msedfR[msedfR$mse < 10^0, ], aes(x=samplesize, y=mse, fill=obssize)) + \n",
    "mseplot = ggplot(msedfR[msedfR$mse < 10^3, ], aes(x=samplesize, y=mse, fill=obssize)) + \n",
    "  #geom_boxplot(outlier.size = 0.0, outlier.alpha = 0) +\n",
    "  geom_boxplot(outlier.size = 0.25) +\n",
    "#    geom_violin() +\n",
    "    facet_grid(parameters ~ robust, labeller = label_parsed, scales = \"free_y\") +\n",
    "  theme(legend.position=\"right\", legend.key = element_blank(), axis.text.x = element_text(angle=0, size=15),\n",
    "        axis.text.y = element_text(angle=0, size=15), axis.title.x = element_text(size = 20), \n",
    "        axis.title.y = element_text(size = 20), legend.title = element_text(size = 20),\n",
    "        panel.grid.major = element_blank(), panel.grid.minor = element_blank(),\n",
    "        legend.text=element_text(size=15), panel.background = element_rect(fill = NA, color = \"black\"),\n",
    "        #panel.background = element_blank(), #panel.border = element_blank(),\n",
    "        axis.line = element_line(color = 'black',size=0.3), plot.title = element_text(hjust = 0.5),\n",
    "        strip.background = element_rect(colour=\"black\", fill=\"white\"), strip.text.y = element_text(size=30, face=\"bold\"),\n",
    "        strip.text.x = element_text(size=20)) + \n",
    "  scale_fill_manual(values = c(\"#c85f55\",\n",
    "\"#a964bf\",\n",
    "\"#8db352\",\n",
    "\"#fa7300\",\n",
    "\"#05aec0\",\n",
    "\"#ff1493\")) +\n",
    "#scale_y_log10(breaks = scales::trans_breaks(\"log10\", function(x) 10^x)) +\n",
    "#scale_y_log10(breaks = 10^(-8:8), limit=c(10^-8, 10^2)) + \n",
    "scale_y_log10(breaks = 10^seq(-10, 10, 2), labels=trans_format(\"log10\", math_format(10^.x))) + #, limit=c(10^-8, 10^2)) +\n",
    "  labs(x = \"Sample Size\", y = \"MSE of Parameter Estimates\", fill = \"Cluster Size\") +\n",
    "geom_blank(aes(y = y_max)) + \n",
    "geom_blank(aes(y = y_min)) \n",
    "\n",
    "\"\"\""
   ]
  },
  {
   "cell_type": "code",
   "execution_count": 18,
   "metadata": {},
   "outputs": [
    {
     "data": {
      "text/plain": [
       "RObject{StrSxp}\n",
       "[1] \"updated_msefacetplot_poisson_CS.png\"\n"
      ]
     },
     "execution_count": 18,
     "metadata": {},
     "output_type": "execute_result"
    }
   ],
   "source": [
    "R\"\"\"\n",
    "ggsave('updated_msefacetplot_poisson_CS.png', mseplot, width = 12.5, height = 15, units = 'in', dpi = 450)\n",
    "\"\"\""
   ]
  },
  {
   "cell_type": "code",
   "execution_count": null,
   "metadata": {},
   "outputs": [],
   "source": []
  }
 ],
 "metadata": {
  "@webio": {
   "lastCommId": null,
   "lastKernelId": null
  },
  "kernelspec": {
   "display_name": "Julia 1.6.2",
   "language": "julia",
   "name": "julia-1.6"
  },
  "language_info": {
   "file_extension": ".jl",
   "mimetype": "application/julia",
   "name": "julia",
   "version": "1.6.2"
  }
 },
 "nbformat": 4,
 "nbformat_minor": 2
}
