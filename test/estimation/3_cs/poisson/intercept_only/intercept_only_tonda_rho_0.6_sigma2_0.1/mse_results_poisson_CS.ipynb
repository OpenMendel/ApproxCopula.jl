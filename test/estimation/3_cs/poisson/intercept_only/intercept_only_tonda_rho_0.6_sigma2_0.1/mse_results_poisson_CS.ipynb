{
 "cells": [
  {
   "cell_type": "markdown",
   "metadata": {},
   "source": [
    "## Poisson CS Results \n",
    "\n",
    "This notebook goes over the code needed to reproduce the results from the MSE and time figures in the first simulation in the paper. \n",
    "\n",
    "In this example simulate three fixed effects from a standard Normal distribution, $\\beta \\sim$ randn(p) where p = 3 fixed effects.\n",
    "\n",
    "In this example we have Poisson base distribution with Log Link function and covariance matrix $\\Gamma$ structured under CS covariance with $\\rho = 0.6, \\sigma^2 = 0.1$\n",
    "\n",
    "We run each scenario 100 times."
   ]
  },
  {
   "cell_type": "code",
   "execution_count": 1,
   "metadata": {},
   "outputs": [
    {
     "name": "stdout",
     "output_type": "stream",
     "text": [
      "Julia Version 1.6.2\n",
      "Commit 1b93d53fc4 (2021-07-14 15:36 UTC)\n",
      "Platform Info:\n",
      "  OS: macOS (x86_64-apple-darwin18.7.0)\n",
      "  CPU: Intel(R) Core(TM) i9-9880H CPU @ 2.30GHz\n",
      "  WORD_SIZE: 64\n",
      "  LIBM: libopenlibm\n",
      "  LLVM: libLLVM-11.0.1 (ORCJIT, skylake)\n"
     ]
    }
   ],
   "source": [
    "versioninfo()"
   ]
  },
  {
   "cell_type": "code",
   "execution_count": 2,
   "metadata": {},
   "outputs": [],
   "source": [
    "using GLMCopula, DelimitedFiles, LinearAlgebra, Random, GLM\n",
    "using Random, Roots, SpecialFunctions, DataFrames"
   ]
  },
  {
   "cell_type": "code",
   "execution_count": 3,
   "metadata": {},
   "outputs": [
    {
     "data": {
      "text/plain": [
       "100"
      ]
     },
     "execution_count": 3,
     "metadata": {},
     "output_type": "execute_result"
    }
   ],
   "source": [
    "p = 1    # number of fixed effects, including intercept\n",
    "\n",
    "# true parameter values\n",
    "Random.seed!(1234)\n",
    "βtrue = [log(5.0)]\n",
    "σ2true = [0.1]\n",
    "ρtrue = [0.6]\n",
    "θtrue = [σ2true; ρtrue]\n",
    "\n",
    "# generate data\n",
    "trueparams = [βtrue; θtrue] #hold true parameters\n",
    "\n",
    "#simulation parameters\n",
    "samplesizes = [100; 1000; 10000]\n",
    "ns = [2; 5; 10; 15; 20; 25]\n",
    "nsims = 100"
   ]
  },
  {
   "cell_type": "code",
   "execution_count": 4,
   "metadata": {},
   "outputs": [
    {
     "name": "stderr",
     "output_type": "stream",
     "text": [
      "┌ Info: reading in the files with results\n",
      "└ @ Main In[4]:1\n"
     ]
    },
    {
     "data": {
      "text/plain": [
       "1800-element Vector{Float64}:\n",
       " 0.054985752\n",
       " 0.026330933\n",
       " 0.070507061\n",
       " 0.066083343\n",
       " 0.059296982\n",
       " 0.081325773\n",
       " 0.119713636\n",
       " 0.067444337\n",
       " 0.06368278\n",
       " 0.081562842\n",
       " 0.054649853\n",
       " 0.082263333\n",
       " 0.075808948\n",
       " ⋮\n",
       " 2.888662\n",
       " 2.831746063\n",
       " 2.462359152\n",
       " 4.595592083\n",
       " 3.14519266\n",
       " 5.856450502\n",
       " 2.849697335\n",
       " 3.092129523\n",
       " 2.68941103\n",
       " 3.253406484\n",
       " 2.777506248\n",
       " 3.586446529"
      ]
     },
     "execution_count": 4,
     "metadata": {},
     "output_type": "execute_result"
    }
   ],
   "source": [
    "@info \"reading in the files with results\"\n",
    "βMseresult = vec(readdlm(\"mse_beta_multivariate_poisson_CS$(nsims)reps_sim.csv\", ','))\n",
    "σ2MseResult = vec(readdlm(\"mse_sigma_multivariate_poisson_CS$(nsims)reps_sim.csv\", ','))\n",
    "ρMseResult = vec(readdlm(\"mse_rho_multivariate_poisson_CS$(nsims)reps_sim.csv\", ','))\n",
    "fittimes = vec(readdlm(\"fittimes_multivariate_poisson_CS$(nsims)reps_sim.csv\", ','))"
   ]
  },
  {
   "cell_type": "code",
   "execution_count": 5,
   "metadata": {},
   "outputs": [
    {
     "name": "stderr",
     "output_type": "stream",
     "text": [
      "┌ Info: making results table\n",
      "└ @ Main In[5]:2\n"
     ]
    },
    {
     "data": {
      "text/html": [
       "<div class=\"data-frame\"><p>18 rows × 8 columns</p><table class=\"data-frame\"><thead><tr><th></th><th>samplesize</th><th>obssize</th><th>fittime</th><th>se</th><th>nobs</th><th>fitmin</th><th>fitmax</th><th>perobsratio</th></tr><tr><th></th><th title=\"String\">String</th><th title=\"String\">String</th><th title=\"Float64\">Float64</th><th title=\"Float64\">Float64</th><th title=\"Int64\">Int64</th><th title=\"Float64\">Float64</th><th title=\"Float64\">Float64</th><th title=\"Float64\">Float64</th></tr></thead><tbody><tr><th>1</th><td>100</td><td>2</td><td>0.0809419</td><td>0.00332524</td><td>200</td><td>0.0776167</td><td>0.0842671</td><td>0.000404709</td></tr><tr><th>2</th><td>100</td><td>5</td><td>NaN</td><td>NaN</td><td>500</td><td>NaN</td><td>NaN</td><td>NaN</td></tr><tr><th>3</th><td>100</td><td>10</td><td>0.0885794</td><td>0.00559463</td><td>1000</td><td>0.0829847</td><td>0.094174</td><td>8.85794e-5</td></tr><tr><th>4</th><td>100</td><td>15</td><td>0.0979152</td><td>0.00504053</td><td>1500</td><td>0.0928746</td><td>0.102956</td><td>6.52768e-5</td></tr><tr><th>5</th><td>100</td><td>20</td><td>0.143679</td><td>0.0102829</td><td>2000</td><td>0.133396</td><td>0.153962</td><td>7.18396e-5</td></tr><tr><th>6</th><td>100</td><td>25</td><td>0.15998</td><td>0.00958017</td><td>2500</td><td>0.1504</td><td>0.16956</td><td>6.39919e-5</td></tr><tr><th>7</th><td>1000</td><td>2</td><td>0.136257</td><td>0.0031905</td><td>2000</td><td>0.133067</td><td>0.139448</td><td>6.81287e-5</td></tr><tr><th>8</th><td>1000</td><td>5</td><td>0.13288</td><td>0.00276503</td><td>5000</td><td>0.130115</td><td>0.135645</td><td>2.65761e-5</td></tr><tr><th>9</th><td>1000</td><td>10</td><td>0.165463</td><td>0.00297968</td><td>10000</td><td>0.162483</td><td>0.168442</td><td>1.65463e-5</td></tr><tr><th>10</th><td>1000</td><td>15</td><td>0.200522</td><td>0.00364992</td><td>15000</td><td>0.196872</td><td>0.204172</td><td>1.33681e-5</td></tr><tr><th>11</th><td>1000</td><td>20</td><td>0.257905</td><td>0.00443293</td><td>20000</td><td>0.253473</td><td>0.262338</td><td>1.28953e-5</td></tr><tr><th>12</th><td>1000</td><td>25</td><td>0.329078</td><td>0.00600291</td><td>25000</td><td>0.323075</td><td>0.335081</td><td>1.31631e-5</td></tr><tr><th>13</th><td>10000</td><td>2</td><td>1.05489</td><td>0.0325922</td><td>20000</td><td>1.0223</td><td>1.08749</td><td>5.27447e-5</td></tr><tr><th>14</th><td>10000</td><td>5</td><td>1.08177</td><td>0.026042</td><td>50000</td><td>1.05573</td><td>1.10781</td><td>2.16355e-5</td></tr><tr><th>15</th><td>10000</td><td>10</td><td>1.46529</td><td>0.0283215</td><td>100000</td><td>1.43697</td><td>1.49362</td><td>1.46529e-5</td></tr><tr><th>16</th><td>10000</td><td>15</td><td>2.06563</td><td>0.0795557</td><td>150000</td><td>1.98607</td><td>2.14518</td><td>1.37708e-5</td></tr><tr><th>17</th><td>10000</td><td>20</td><td>2.79464</td><td>0.0904132</td><td>200000</td><td>2.70423</td><td>2.88506</td><td>1.39732e-5</td></tr><tr><th>18</th><td>10000</td><td>25</td><td>3.20994</td><td>0.0712945</td><td>250000</td><td>3.13865</td><td>3.28124</td><td>1.28398e-5</td></tr></tbody></table></div>"
      ],
      "text/latex": [
       "\\begin{tabular}{r|cccccccc}\n",
       "\t& samplesize & obssize & fittime & se & nobs & fitmin & fitmax & perobsratio\\\\\n",
       "\t\\hline\n",
       "\t& String & String & Float64 & Float64 & Int64 & Float64 & Float64 & Float64\\\\\n",
       "\t\\hline\n",
       "\t1 & 100 & 2 & 0.0809419 & 0.00332524 & 200 & 0.0776167 & 0.0842671 & 0.000404709 \\\\\n",
       "\t2 & 100 & 5 & NaN & NaN & 500 & NaN & NaN & NaN \\\\\n",
       "\t3 & 100 & 10 & 0.0885794 & 0.00559463 & 1000 & 0.0829847 & 0.094174 & 8.85794e-5 \\\\\n",
       "\t4 & 100 & 15 & 0.0979152 & 0.00504053 & 1500 & 0.0928746 & 0.102956 & 6.52768e-5 \\\\\n",
       "\t5 & 100 & 20 & 0.143679 & 0.0102829 & 2000 & 0.133396 & 0.153962 & 7.18396e-5 \\\\\n",
       "\t6 & 100 & 25 & 0.15998 & 0.00958017 & 2500 & 0.1504 & 0.16956 & 6.39919e-5 \\\\\n",
       "\t7 & 1000 & 2 & 0.136257 & 0.0031905 & 2000 & 0.133067 & 0.139448 & 6.81287e-5 \\\\\n",
       "\t8 & 1000 & 5 & 0.13288 & 0.00276503 & 5000 & 0.130115 & 0.135645 & 2.65761e-5 \\\\\n",
       "\t9 & 1000 & 10 & 0.165463 & 0.00297968 & 10000 & 0.162483 & 0.168442 & 1.65463e-5 \\\\\n",
       "\t10 & 1000 & 15 & 0.200522 & 0.00364992 & 15000 & 0.196872 & 0.204172 & 1.33681e-5 \\\\\n",
       "\t11 & 1000 & 20 & 0.257905 & 0.00443293 & 20000 & 0.253473 & 0.262338 & 1.28953e-5 \\\\\n",
       "\t12 & 1000 & 25 & 0.329078 & 0.00600291 & 25000 & 0.323075 & 0.335081 & 1.31631e-5 \\\\\n",
       "\t13 & 10000 & 2 & 1.05489 & 0.0325922 & 20000 & 1.0223 & 1.08749 & 5.27447e-5 \\\\\n",
       "\t14 & 10000 & 5 & 1.08177 & 0.026042 & 50000 & 1.05573 & 1.10781 & 2.16355e-5 \\\\\n",
       "\t15 & 10000 & 10 & 1.46529 & 0.0283215 & 100000 & 1.43697 & 1.49362 & 1.46529e-5 \\\\\n",
       "\t16 & 10000 & 15 & 2.06563 & 0.0795557 & 150000 & 1.98607 & 2.14518 & 1.37708e-5 \\\\\n",
       "\t17 & 10000 & 20 & 2.79464 & 0.0904132 & 200000 & 2.70423 & 2.88506 & 1.39732e-5 \\\\\n",
       "\t18 & 10000 & 25 & 3.20994 & 0.0712945 & 250000 & 3.13865 & 3.28124 & 1.28398e-5 \\\\\n",
       "\\end{tabular}\n"
      ],
      "text/plain": [
       "\u001b[1m18×8 DataFrame\u001b[0m\n",
       "\u001b[1m Row \u001b[0m│\u001b[1m samplesize \u001b[0m\u001b[1m obssize \u001b[0m\u001b[1m fittime     \u001b[0m\u001b[1m se           \u001b[0m\u001b[1m nobs   \u001b[0m\u001b[1m fitmin      \u001b[0m\u001b[1m fi\u001b[0m ⋯\n",
       "\u001b[1m     \u001b[0m│\u001b[90m String     \u001b[0m\u001b[90m String  \u001b[0m\u001b[90m Float64     \u001b[0m\u001b[90m Float64      \u001b[0m\u001b[90m Int64  \u001b[0m\u001b[90m Float64     \u001b[0m\u001b[90m Fl\u001b[0m ⋯\n",
       "─────┼──────────────────────────────────────────────────────────────────────────\n",
       "   1 │ 100         2          0.0809419    0.00332524     200    0.0776167     ⋯\n",
       "   2 │ 100         5        NaN          NaN              500  NaN          Na\n",
       "   3 │ 100         10         0.0885794    0.00559463    1000    0.0829847\n",
       "   4 │ 100         15         0.0979152    0.00504053    1500    0.0928746\n",
       "   5 │ 100         20         0.143679     0.0102829     2000    0.133396      ⋯\n",
       "   6 │ 100         25         0.15998      0.00958017    2500    0.1504\n",
       "   7 │ 1000        2          0.136257     0.0031905     2000    0.133067\n",
       "   8 │ 1000        5          0.13288      0.00276503    5000    0.130115\n",
       "   9 │ 1000        10         0.165463     0.00297968   10000    0.162483      ⋯\n",
       "  10 │ 1000        15         0.200522     0.00364992   15000    0.196872\n",
       "  11 │ 1000        20         0.257905     0.00443293   20000    0.253473\n",
       "  12 │ 1000        25         0.329078     0.00600291   25000    0.323075\n",
       "  13 │ 10000       2          1.05489      0.0325922    20000    1.0223        ⋯\n",
       "  14 │ 10000       5          1.08177      0.026042     50000    1.05573\n",
       "  15 │ 10000       10         1.46529      0.0283215   100000    1.43697\n",
       "  16 │ 10000       15         2.06563      0.0795557   150000    1.98607\n",
       "  17 │ 10000       20         2.79464      0.0904132   200000    2.70423       ⋯\n",
       "  18 │ 10000       25         3.20994      0.0712945   250000    3.13865\n",
       "\u001b[36m                                                               2 columns omitted\u001b[0m"
      ]
     },
     "execution_count": 5,
     "metadata": {},
     "output_type": "execute_result"
    }
   ],
   "source": [
    "#simulation parameters\n",
    "@info \"making results table\"\n",
    "sample_sizes = repeat(string.(samplesizes), inner = nsims * length(ns))\n",
    "obs_sizes = repeat(string.(ns), inner = nsims, outer = length(samplesizes))\n",
    "\n",
    "msedf = DataFrame(βmse = βMseresult, σ2mse = σ2MseResult, ρmse = ρMseResult,\n",
    "    samplesize = sample_sizes, obssize = obs_sizes, fittimes = fittimes)\n",
    "timedf = combine(groupby(msedf, [:samplesize, :obssize]), :fittimes => mean => :fittime,\n",
    "    :fittimes => x -> (std(x)/sqrt(length(x))))\n",
    "rename!(timedf, Dict(:fittimes_function => \"se\"))\n",
    "timedf[!, :nobs] = Meta.parse.(timedf[!, :samplesize]) .* Meta.parse.(timedf[!, :obssize])\n",
    "timedf[!, :fitmin] = timedf[!, :fittime] - timedf[!, :se]\n",
    "timedf[!, :fitmax] = timedf[!, :fittime] + timedf[!, :se]\n",
    "timedf[!, :perobsratio] = timedf[!, :fittime] ./ timedf[!, :nobs]\n",
    "timedf"
   ]
  },
  {
   "cell_type": "code",
   "execution_count": 6,
   "metadata": {},
   "outputs": [
    {
     "name": "stderr",
     "output_type": "stream",
     "text": [
      "┌ Warning: RCall.jl: Warning: package ‘ggplot2’ was built under R version 4.0.2\n",
      "└ @ RCall /Users/sarahji/.julia/packages/RCall/iMDW2/src/io.jl:160\n"
     ]
    },
    {
     "data": {
      "image/png": "[encoded data removed]"
     },
     "metadata": {},
     "output_type": "display_data"
    },
    {
     "data": {
      "text/plain": [
       "RObject{VecSxp}\n"
      ]
     },
     "execution_count": 6,
     "metadata": {},
     "output_type": "execute_result"
    },
    {
     "name": "stderr",
     "output_type": "stream",
     "text": [
      "┌ Warning: RCall.jl: Warning: Removed 1 row(s) containing missing values (geom_path).\n",
      "│ Warning: Removed 1 rows containing missing values (geom_point).\n",
      "└ @ RCall /Users/sarahji/.julia/packages/RCall/iMDW2/src/io.jl:160\n"
     ]
    }
   ],
   "source": [
    "########### plot the runtimes\n",
    "using RCall\n",
    "@rput timedf\n",
    "\n",
    "R\"\"\"\n",
    "library(ggplot2)\n",
    "timedf$obssize = factor(timedf$obssize, levels = c('2', '5', '10', '15', '20', '25'))\n",
    "timedf$samplesize = factor(timedf$samplesize, levels = c('100', '1000', '10000'))\n",
    "\n",
    "fittime_1 = ggplot(timedf, aes(x = samplesize, y = fittime, group = obssize, color = obssize)) + \n",
    "  geom_line() +\n",
    "  geom_point()+\n",
    "  geom_errorbar(aes(ymin=fitmin, ymax=fitmax), width=0.5, alpha = 0.8, position=position_dodge(0.005)) + \n",
    "  theme(legend.position=c(0.15,0.85), legend.key = element_blank(), axis.text.x = element_text(angle=0, size=13),\n",
    "        axis.text.y = element_text(angle=0, size=13), axis.title.x = element_text(size = 17), \n",
    "        axis.title.y = element_text(size = 17), legend.title = element_text(size = 14),\n",
    "        #axis.ticks = element_blank(),\n",
    "        panel.grid.major = element_blank(), legend.text=element_text(size=13),\n",
    "        panel.border = element_blank(), panel.grid.minor = element_blank(), panel.background = element_blank(), \n",
    "        axis.line = element_line(color = 'black',size=0.3), plot.title = element_text(hjust = 0.5)) + \n",
    "   scale_color_manual(values = c(\"#c85f55\",\n",
    "\"#a964bf\",\n",
    "\"#8db352\",\n",
    "\"#fa7300\",\n",
    "\"#05aec0\",\n",
    "\"#ff1493\")) +\n",
    "  labs(x = \"Number of Individuals\", y = \"Fit time (seconds)\", color = \"Obs per Individual\")\n",
    "\"\"\""
   ]
  },
  {
   "cell_type": "code",
   "execution_count": 7,
   "metadata": {},
   "outputs": [
    {
     "name": "stderr",
     "output_type": "stream",
     "text": [
      "┌ Warning: RCall.jl: Warning: Removed 1 row(s) containing missing values (geom_path).\n",
      "│ Warning: Removed 1 rows containing missing values (geom_point).\n",
      "└ @ RCall /Users/sarahji/.julia/packages/RCall/iMDW2/src/io.jl:160\n"
     ]
    },
    {
     "data": {
      "text/plain": [
       "RObject{StrSxp}\n",
       "[1] \"fittimes_nobs_poisson_CS.png\"\n"
      ]
     },
     "execution_count": 7,
     "metadata": {},
     "output_type": "execute_result"
    }
   ],
   "source": [
    "R\"\"\"\n",
    "    ggsave('fittimes_nobs_poisson_CS.png', fittime_1, width = 12.5, height = 15, units = 'in', dpi = 450)\n",
    "\"\"\""
   ]
  },
  {
   "cell_type": "code",
   "execution_count": 8,
   "metadata": {},
   "outputs": [],
   "source": [
    "# using RCall\n",
    "# @rput timedf\n",
    "\n",
    "# R\"\"\"\n",
    "# library(scales)\n",
    "# library(ggplot2)\n",
    "# timedf$obssize <- factor(timedf$obssize, levels = c('2', '5', '10', '15', '20', '25'))\n",
    "# timedf$samplesize <- factor(timedf$samplesize, levels = c('100', '1000', '10000'))\n",
    "\n",
    "# fancy_scientific <- function(l) {\n",
    "#      # turn in to character string in scientific notation\n",
    "#      l <- format(l, scientific = TRUE)\n",
    "#      # quote the part before the exponent to keep all the digits\n",
    "#      l <- gsub(\"^(.*)e\", \"'\\\\1'e\", l)\n",
    "#      # turn the 'e+' into plotmath format\n",
    "#      l <- gsub(\"e\", \"%*%10^\", l)\n",
    "#      # return this as an expression\n",
    "#      parse(text=l)\n",
    "# }\n",
    "\n",
    "# fittimeperobs = ggplot(timedf, aes(x=nobs, y=perobsratio)) + \n",
    "#   geom_line() +\n",
    "#   geom_point()+\n",
    "# #  geom_errorbar(aes(ymin=fitmin, ymax=fitmax), width=0.5, alpha = 0.8, position=position_dodge(0.005)) + \n",
    "#   theme(legend.position=c(0.15,0.8), legend.key = element_blank(), axis.text.x = element_text(angle=0, size=13),\n",
    "#         axis.text.y = element_text(angle=0, size=13), axis.title.x = element_text(size = 17), \n",
    "#         axis.title.y = element_text(size = 17), legend.title = element_text(size = 14),\n",
    "#         #axis.ticks = element_blank(),\n",
    "#         panel.grid.major = element_blank(), legend.text=element_text(size=11),\n",
    "#         panel.border = element_blank(), panel.grid.minor = element_blank(), panel.background = element_blank(), \n",
    "#         axis.line = element_line(color = 'black',size=0.3), plot.title = element_text(hjust = 0.5)) + \n",
    "#   labs(x = \"Total Number of Observations\", y = \"Fit time per observation (seconds)\", color = \"Obs per Individual\") +\n",
    "# #scale_x_log10(breaks = 10^seq(0, 7, 1), labels=trans_format(\"log10\", math_format(10^.x)))# + #, limit=c(10^0, 10^7))\n",
    "# scale_x_continuous(breaks = seq(0, 6000000, 1000000), labels= fancy_scientific) +\n",
    "# scale_y_continuous(breaks = c(10^-4, 2 * 10^-4, 3 * 10^-4, 4 * 10^-4, 5 * 10^-4, 6 * 10^-4), labels= fancy_scientific)\n",
    "\n",
    "# \"\"\""
   ]
  },
  {
   "cell_type": "code",
   "execution_count": 8,
   "metadata": {},
   "outputs": [
    {
     "data": {
      "text/html": [
       "<div class=\"data-frame\"><p>18 rows × 4 columns</p><table class=\"data-frame\"><thead><tr><th></th><th>people_obs</th><th>β1</th><th>σ2</th><th>ρ</th></tr><tr><th></th><th title=\"String\">String</th><th title=\"Tuple{Float64, Float64}\">Tuple…</th><th title=\"Tuple{Float64, Float64}\">Tuple…</th><th title=\"Tuple{Float64, Float64}\">Tuple…</th></tr></thead><tbody><tr><th>1</th><td>N: 100  ni: 2</td><td>(0.92, 0.027266)</td><td>(0.76, 0.0429235)</td><td>(0.99, 0.01)</td></tr><tr><th>2</th><td>N: 100  ni: 5</td><td>(0.9106, 0.0285763)</td><td>(0.8806, 0.0325017)</td><td>(0.8806, 0.0325017)</td></tr><tr><th>3</th><td>N: 100  ni: 10</td><td>(0.97, 0.0171447)</td><td>(0.8, 0.0402015)</td><td>(0.9, 0.0301511)</td></tr><tr><th>4</th><td>N: 100  ni: 15</td><td>(0.97, 0.0171447)</td><td>(0.82, 0.0386123)</td><td>(0.74, 0.0440844)</td></tr><tr><th>5</th><td>N: 100  ni: 20</td><td>(0.94, 0.0238683)</td><td>(0.84, 0.0368453)</td><td>(0.73, 0.0446196)</td></tr><tr><th>6</th><td>N: 100  ni: 25</td><td>(0.93, 0.0256432)</td><td>(0.78, 0.0416333)</td><td>(0.69, 0.0464823)</td></tr><tr><th>7</th><td>N: 1000  ni: 2</td><td>(0.96, 0.0196946)</td><td>(0.98, 0.0140705)</td><td>(0.92, 0.027266)</td></tr><tr><th>8</th><td>N: 1000  ni: 5</td><td>(0.95, 0.0219043)</td><td>(0.9, 0.0301511)</td><td>(0.85, 0.035887)</td></tr><tr><th>9</th><td>N: 1000  ni: 10</td><td>(0.95, 0.0219043)</td><td>(0.67, 0.0472582)</td><td>(0.72, 0.0451261)</td></tr><tr><th>10</th><td>N: 1000  ni: 15</td><td>(0.92, 0.027266)</td><td>(0.65, 0.0479372)</td><td>(0.71, 0.0456048)</td></tr><tr><th>11</th><td>N: 1000  ni: 20</td><td>(0.96, 0.0196946)</td><td>(0.56, 0.0498888)</td><td>(0.69, 0.0464823)</td></tr><tr><th>12</th><td>N: 1000  ni: 25</td><td>(0.95, 0.0219043)</td><td>(0.59, 0.0494311)</td><td>(0.7, 0.0460566)</td></tr><tr><th>13</th><td>N: 10000  ni: 2</td><td>(0.96, 0.0196946)</td><td>(0.94, 0.0238683)</td><td>(0.91, 0.0287623)</td></tr><tr><th>14</th><td>N: 10000  ni: 5</td><td>(0.97, 0.0171447)</td><td>(0.85, 0.035887)</td><td>(0.86, 0.0348735)</td></tr><tr><th>15</th><td>N: 10000  ni: 10</td><td>(0.96, 0.0196946)</td><td>(0.77, 0.0422953)</td><td>(0.78, 0.0416333)</td></tr><tr><th>16</th><td>N: 10000  ni: 15</td><td>(0.92, 0.027266)</td><td>(0.74, 0.0440844)</td><td>(0.66, 0.0476095)</td></tr><tr><th>17</th><td>N: 10000  ni: 20</td><td>(0.97, 0.0171447)</td><td>(0.63, 0.0485237)</td><td>(0.65, 0.0479372)</td></tr><tr><th>18</th><td>N: 10000  ni: 25</td><td>(0.92, 0.027266)</td><td>(0.6, 0.0492366)</td><td>(0.65, 0.0479372)</td></tr></tbody></table></div>"
      ],
      "text/latex": [
       "\\begin{tabular}{r|cccc}\n",
       "\t& people\\_obs & β1 & σ2 & ρ\\\\\n",
       "\t\\hline\n",
       "\t& String & Tuple… & Tuple… & Tuple…\\\\\n",
       "\t\\hline\n",
       "\t1 & N: 100  ni: 2 & (0.92, 0.027266) & (0.76, 0.0429235) & (0.99, 0.01) \\\\\n",
       "\t2 & N: 100  ni: 5 & (0.9106, 0.0285763) & (0.8806, 0.0325017) & (0.8806, 0.0325017) \\\\\n",
       "\t3 & N: 100  ni: 10 & (0.97, 0.0171447) & (0.8, 0.0402015) & (0.9, 0.0301511) \\\\\n",
       "\t4 & N: 100  ni: 15 & (0.97, 0.0171447) & (0.82, 0.0386123) & (0.74, 0.0440844) \\\\\n",
       "\t5 & N: 100  ni: 20 & (0.94, 0.0238683) & (0.84, 0.0368453) & (0.73, 0.0446196) \\\\\n",
       "\t6 & N: 100  ni: 25 & (0.93, 0.0256432) & (0.78, 0.0416333) & (0.69, 0.0464823) \\\\\n",
       "\t7 & N: 1000  ni: 2 & (0.96, 0.0196946) & (0.98, 0.0140705) & (0.92, 0.027266) \\\\\n",
       "\t8 & N: 1000  ni: 5 & (0.95, 0.0219043) & (0.9, 0.0301511) & (0.85, 0.035887) \\\\\n",
       "\t9 & N: 1000  ni: 10 & (0.95, 0.0219043) & (0.67, 0.0472582) & (0.72, 0.0451261) \\\\\n",
       "\t10 & N: 1000  ni: 15 & (0.92, 0.027266) & (0.65, 0.0479372) & (0.71, 0.0456048) \\\\\n",
       "\t11 & N: 1000  ni: 20 & (0.96, 0.0196946) & (0.56, 0.0498888) & (0.69, 0.0464823) \\\\\n",
       "\t12 & N: 1000  ni: 25 & (0.95, 0.0219043) & (0.59, 0.0494311) & (0.7, 0.0460566) \\\\\n",
       "\t13 & N: 10000  ni: 2 & (0.96, 0.0196946) & (0.94, 0.0238683) & (0.91, 0.0287623) \\\\\n",
       "\t14 & N: 10000  ni: 5 & (0.97, 0.0171447) & (0.85, 0.035887) & (0.86, 0.0348735) \\\\\n",
       "\t15 & N: 10000  ni: 10 & (0.96, 0.0196946) & (0.77, 0.0422953) & (0.78, 0.0416333) \\\\\n",
       "\t16 & N: 10000  ni: 15 & (0.92, 0.027266) & (0.74, 0.0440844) & (0.66, 0.0476095) \\\\\n",
       "\t17 & N: 10000  ni: 20 & (0.97, 0.0171447) & (0.63, 0.0485237) & (0.65, 0.0479372) \\\\\n",
       "\t18 & N: 10000  ni: 25 & (0.92, 0.027266) & (0.6, 0.0492366) & (0.65, 0.0479372) \\\\\n",
       "\\end{tabular}\n"
      ],
      "text/plain": [
       "\u001b[1m18×4 DataFrame\u001b[0m\n",
       "\u001b[1m Row \u001b[0m│\u001b[1m people_obs       \u001b[0m\u001b[1m β1                  \u001b[0m\u001b[1m σ2                  \u001b[0m\u001b[1m ρ          \u001b[0m ⋯\n",
       "\u001b[1m     \u001b[0m│\u001b[90m String           \u001b[0m\u001b[90m Tuple…              \u001b[0m\u001b[90m Tuple…              \u001b[0m\u001b[90m Tuple…     \u001b[0m ⋯\n",
       "─────┼──────────────────────────────────────────────────────────────────────────\n",
       "   1 │ N: 100  ni: 2     (0.92, 0.027266)     (0.76, 0.0429235)    (0.99, 0.01 ⋯\n",
       "   2 │ N: 100  ni: 5     (0.9106, 0.0285763)  (0.8806, 0.0325017)  (0.8806, 0.\n",
       "   3 │ N: 100  ni: 10    (0.97, 0.0171447)    (0.8, 0.0402015)     (0.9, 0.030\n",
       "   4 │ N: 100  ni: 15    (0.97, 0.0171447)    (0.82, 0.0386123)    (0.74, 0.04\n",
       "   5 │ N: 100  ni: 20    (0.94, 0.0238683)    (0.84, 0.0368453)    (0.73, 0.04 ⋯\n",
       "   6 │ N: 100  ni: 25    (0.93, 0.0256432)    (0.78, 0.0416333)    (0.69, 0.04\n",
       "   7 │ N: 1000  ni: 2    (0.96, 0.0196946)    (0.98, 0.0140705)    (0.92, 0.02\n",
       "   8 │ N: 1000  ni: 5    (0.95, 0.0219043)    (0.9, 0.0301511)     (0.85, 0.03\n",
       "   9 │ N: 1000  ni: 10   (0.95, 0.0219043)    (0.67, 0.0472582)    (0.72, 0.04 ⋯\n",
       "  10 │ N: 1000  ni: 15   (0.92, 0.027266)     (0.65, 0.0479372)    (0.71, 0.04\n",
       "  11 │ N: 1000  ni: 20   (0.96, 0.0196946)    (0.56, 0.0498888)    (0.69, 0.04\n",
       "  12 │ N: 1000  ni: 25   (0.95, 0.0219043)    (0.59, 0.0494311)    (0.7, 0.046\n",
       "  13 │ N: 10000  ni: 2   (0.96, 0.0196946)    (0.94, 0.0238683)    (0.91, 0.02 ⋯\n",
       "  14 │ N: 10000  ni: 5   (0.97, 0.0171447)    (0.85, 0.035887)     (0.86, 0.03\n",
       "  15 │ N: 10000  ni: 10  (0.96, 0.0196946)    (0.77, 0.0422953)    (0.78, 0.04\n",
       "  16 │ N: 10000  ni: 15  (0.92, 0.027266)     (0.74, 0.0440844)    (0.66, 0.04\n",
       "  17 │ N: 10000  ni: 20  (0.97, 0.0171447)    (0.63, 0.0485237)    (0.65, 0.04 ⋯\n",
       "  18 │ N: 10000  ni: 25  (0.92, 0.027266)     (0.6, 0.0492366)     (0.65, 0.04\n",
       "\u001b[36m                                                                1 column omitted\u001b[0m"
      ]
     },
     "execution_count": 8,
     "metadata": {},
     "output_type": "execute_result"
    }
   ],
   "source": [
    "######  supplementary table s1\n",
    "using Random, DataFrames, DelimitedFiles, Statistics\n",
    "import StatsBase: sem\n",
    "\n",
    "βρσ2coverage = readdlm(\"beta_sigma_coverage_multivariate_poisson_CS$(nsims)reps_sim.csv\", ',')\n",
    "\n",
    "m = 2\n",
    "\n",
    "covdf = DataFrame(Matrix(transpose(βρσ2coverage)), :auto)\n",
    "rename!(covdf, Symbol.([[\"β$i\" for i in 1:p]; [\"σ2\"];  [\"ρ\"]]))\n",
    "covdf[!, :samplesize] = sample_sizes\n",
    "covdf[!, :obssize] = obs_sizes\n",
    "first(covdf, 10)\n",
    "\n",
    "row_stats = [[(mean(col), sem(col)) for col = eachcol(d[!, 1:end-2])] for d = groupby(covdf, [:samplesize; :obssize])]\n",
    "df = DataFrame(row_stats, :auto)\n",
    "ss_obs = unique(\"N: \" .* sample_sizes .* \"  ni: \" .* obs_sizes)\n",
    "rename!(df, Symbol.(ss_obs))\n",
    "covdfdisplay = DataFrame([[names(df)]; collect.(eachrow(df))], \n",
    "    [:people_obs; Symbol.([[\"β$i\" for i in 1:p]; [\"σ2\"]; [\"ρ\"]])])\n",
    "# deletecols!(covdfdisplay, p + 2)\n",
    "covdfdisplay\n"
   ]
  },
  {
   "cell_type": "code",
   "execution_count": 9,
   "metadata": {},
   "outputs": [
    {
     "data": {
      "text/html": [
       "<div class=\"data-frame\"><p>3,574 rows × 5 columns</p><table class=\"data-frame\"><thead><tr><th></th><th>mse</th><th>obssize</th><th>samplesize</th><th>parameters</th><th>robust</th></tr><tr><th></th><th title=\"Float64\">Float64</th><th title=\"String\">String</th><th title=\"String\">String</th><th title=\"String\">String</th><th title=\"String\">String</th></tr></thead><tbody><tr><th>1</th><td>1.21946e-5</td><td>2</td><td>100</td><td>beta</td><td>Poisson with LogLink</td></tr><tr><th>2</th><td>6.34917e-5</td><td>2</td><td>100</td><td>beta</td><td>Poisson with LogLink</td></tr><tr><th>3</th><td>0.000456987</td><td>2</td><td>100</td><td>beta</td><td>Poisson with LogLink</td></tr><tr><th>4</th><td>0.00113539</td><td>2</td><td>100</td><td>beta</td><td>Poisson with LogLink</td></tr><tr><th>5</th><td>4.35771e-6</td><td>2</td><td>100</td><td>beta</td><td>Poisson with LogLink</td></tr><tr><th>6</th><td>0.000178058</td><td>2</td><td>100</td><td>beta</td><td>Poisson with LogLink</td></tr><tr><th>7</th><td>0.000685277</td><td>2</td><td>100</td><td>beta</td><td>Poisson with LogLink</td></tr><tr><th>8</th><td>0.00148396</td><td>2</td><td>100</td><td>beta</td><td>Poisson with LogLink</td></tr><tr><th>9</th><td>0.0037945</td><td>2</td><td>100</td><td>beta</td><td>Poisson with LogLink</td></tr><tr><th>10</th><td>0.000459937</td><td>2</td><td>100</td><td>beta</td><td>Poisson with LogLink</td></tr><tr><th>11</th><td>0.00337709</td><td>2</td><td>100</td><td>beta</td><td>Poisson with LogLink</td></tr><tr><th>12</th><td>0.000112391</td><td>2</td><td>100</td><td>beta</td><td>Poisson with LogLink</td></tr><tr><th>13</th><td>1.78601e-5</td><td>2</td><td>100</td><td>beta</td><td>Poisson with LogLink</td></tr><tr><th>14</th><td>9.82748e-6</td><td>2</td><td>100</td><td>beta</td><td>Poisson with LogLink</td></tr><tr><th>15</th><td>4.84719e-5</td><td>2</td><td>100</td><td>beta</td><td>Poisson with LogLink</td></tr><tr><th>16</th><td>0.00181633</td><td>2</td><td>100</td><td>beta</td><td>Poisson with LogLink</td></tr><tr><th>17</th><td>0.000336852</td><td>2</td><td>100</td><td>beta</td><td>Poisson with LogLink</td></tr><tr><th>18</th><td>0.000180208</td><td>2</td><td>100</td><td>beta</td><td>Poisson with LogLink</td></tr><tr><th>19</th><td>6.26491e-5</td><td>2</td><td>100</td><td>beta</td><td>Poisson with LogLink</td></tr><tr><th>20</th><td>0.000517084</td><td>2</td><td>100</td><td>beta</td><td>Poisson with LogLink</td></tr><tr><th>21</th><td>8.558e-5</td><td>2</td><td>100</td><td>beta</td><td>Poisson with LogLink</td></tr><tr><th>22</th><td>0.00239197</td><td>2</td><td>100</td><td>beta</td><td>Poisson with LogLink</td></tr><tr><th>23</th><td>0.002148</td><td>2</td><td>100</td><td>beta</td><td>Poisson with LogLink</td></tr><tr><th>24</th><td>0.000392144</td><td>2</td><td>100</td><td>beta</td><td>Poisson with LogLink</td></tr><tr><th>25</th><td>0.0011638</td><td>2</td><td>100</td><td>beta</td><td>Poisson with LogLink</td></tr><tr><th>26</th><td>0.000110467</td><td>2</td><td>100</td><td>beta</td><td>Poisson with LogLink</td></tr><tr><th>27</th><td>6.45158e-5</td><td>2</td><td>100</td><td>beta</td><td>Poisson with LogLink</td></tr><tr><th>28</th><td>2.55822e-5</td><td>2</td><td>100</td><td>beta</td><td>Poisson with LogLink</td></tr><tr><th>29</th><td>0.00199353</td><td>2</td><td>100</td><td>beta</td><td>Poisson with LogLink</td></tr><tr><th>30</th><td>1.5111e-6</td><td>2</td><td>100</td><td>beta</td><td>Poisson with LogLink</td></tr><tr><th>&vellip;</th><td>&vellip;</td><td>&vellip;</td><td>&vellip;</td><td>&vellip;</td><td>&vellip;</td></tr></tbody></table></div>"
      ],
      "text/latex": [
       "\\begin{tabular}{r|ccccc}\n",
       "\t& mse & obssize & samplesize & parameters & robust\\\\\n",
       "\t\\hline\n",
       "\t& Float64 & String & String & String & String\\\\\n",
       "\t\\hline\n",
       "\t1 & 1.21946e-5 & 2 & 100 & beta & Poisson with LogLink \\\\\n",
       "\t2 & 6.34917e-5 & 2 & 100 & beta & Poisson with LogLink \\\\\n",
       "\t3 & 0.000456987 & 2 & 100 & beta & Poisson with LogLink \\\\\n",
       "\t4 & 0.00113539 & 2 & 100 & beta & Poisson with LogLink \\\\\n",
       "\t5 & 4.35771e-6 & 2 & 100 & beta & Poisson with LogLink \\\\\n",
       "\t6 & 0.000178058 & 2 & 100 & beta & Poisson with LogLink \\\\\n",
       "\t7 & 0.000685277 & 2 & 100 & beta & Poisson with LogLink \\\\\n",
       "\t8 & 0.00148396 & 2 & 100 & beta & Poisson with LogLink \\\\\n",
       "\t9 & 0.0037945 & 2 & 100 & beta & Poisson with LogLink \\\\\n",
       "\t10 & 0.000459937 & 2 & 100 & beta & Poisson with LogLink \\\\\n",
       "\t11 & 0.00337709 & 2 & 100 & beta & Poisson with LogLink \\\\\n",
       "\t12 & 0.000112391 & 2 & 100 & beta & Poisson with LogLink \\\\\n",
       "\t13 & 1.78601e-5 & 2 & 100 & beta & Poisson with LogLink \\\\\n",
       "\t14 & 9.82748e-6 & 2 & 100 & beta & Poisson with LogLink \\\\\n",
       "\t15 & 4.84719e-5 & 2 & 100 & beta & Poisson with LogLink \\\\\n",
       "\t16 & 0.00181633 & 2 & 100 & beta & Poisson with LogLink \\\\\n",
       "\t17 & 0.000336852 & 2 & 100 & beta & Poisson with LogLink \\\\\n",
       "\t18 & 0.000180208 & 2 & 100 & beta & Poisson with LogLink \\\\\n",
       "\t19 & 6.26491e-5 & 2 & 100 & beta & Poisson with LogLink \\\\\n",
       "\t20 & 0.000517084 & 2 & 100 & beta & Poisson with LogLink \\\\\n",
       "\t21 & 8.558e-5 & 2 & 100 & beta & Poisson with LogLink \\\\\n",
       "\t22 & 0.00239197 & 2 & 100 & beta & Poisson with LogLink \\\\\n",
       "\t23 & 0.002148 & 2 & 100 & beta & Poisson with LogLink \\\\\n",
       "\t24 & 0.000392144 & 2 & 100 & beta & Poisson with LogLink \\\\\n",
       "\t25 & 0.0011638 & 2 & 100 & beta & Poisson with LogLink \\\\\n",
       "\t26 & 0.000110467 & 2 & 100 & beta & Poisson with LogLink \\\\\n",
       "\t27 & 6.45158e-5 & 2 & 100 & beta & Poisson with LogLink \\\\\n",
       "\t28 & 2.55822e-5 & 2 & 100 & beta & Poisson with LogLink \\\\\n",
       "\t29 & 0.00199353 & 2 & 100 & beta & Poisson with LogLink \\\\\n",
       "\t30 & 1.5111e-6 & 2 & 100 & beta & Poisson with LogLink \\\\\n",
       "\t$\\dots$ & $\\dots$ & $\\dots$ & $\\dots$ & $\\dots$ & $\\dots$ \\\\\n",
       "\\end{tabular}\n"
      ],
      "text/plain": [
       "\u001b[1m3574×5 DataFrame\u001b[0m\n",
       "\u001b[1m  Row \u001b[0m│\u001b[1m mse         \u001b[0m\u001b[1m obssize \u001b[0m\u001b[1m samplesize \u001b[0m\u001b[1m parameters \u001b[0m\u001b[1m robust               \u001b[0m\n",
       "\u001b[1m      \u001b[0m│\u001b[90m Float64     \u001b[0m\u001b[90m String  \u001b[0m\u001b[90m String     \u001b[0m\u001b[90m String     \u001b[0m\u001b[90m String               \u001b[0m\n",
       "──────┼────────────────────────────────────────────────────────────────────\n",
       "    1 │ 1.21946e-5   2        100         beta        Poisson with LogLink\n",
       "    2 │ 6.34917e-5   2        100         beta        Poisson with LogLink\n",
       "    3 │ 0.000456987  2        100         beta        Poisson with LogLink\n",
       "    4 │ 0.00113539   2        100         beta        Poisson with LogLink\n",
       "    5 │ 4.35771e-6   2        100         beta        Poisson with LogLink\n",
       "    6 │ 0.000178058  2        100         beta        Poisson with LogLink\n",
       "    7 │ 0.000685277  2        100         beta        Poisson with LogLink\n",
       "    8 │ 0.00148396   2        100         beta        Poisson with LogLink\n",
       "    9 │ 0.0037945    2        100         beta        Poisson with LogLink\n",
       "   10 │ 0.000459937  2        100         beta        Poisson with LogLink\n",
       "   11 │ 0.00337709   2        100         beta        Poisson with LogLink\n",
       "  ⋮   │      ⋮          ⋮         ⋮           ⋮                ⋮\n",
       " 3565 │ 0.000926891  25       10000       theta       Poisson with LogLink\n",
       " 3566 │ 0.000208371  25       10000       theta       Poisson with LogLink\n",
       " 3567 │ 0.000833064  25       10000       theta       Poisson with LogLink\n",
       " 3568 │ 0.000914684  25       10000       theta       Poisson with LogLink\n",
       " 3569 │ 0.000213191  25       10000       theta       Poisson with LogLink\n",
       " 3570 │ 0.00139712   25       10000       theta       Poisson with LogLink\n",
       " 3571 │ 0.000668039  25       10000       theta       Poisson with LogLink\n",
       " 3572 │ 2.72718e-5   25       10000       theta       Poisson with LogLink\n",
       " 3573 │ 9.11651e-5   25       10000       theta       Poisson with LogLink\n",
       " 3574 │ 0.000860232  25       10000       theta       Poisson with LogLink\n",
       "\u001b[36m                                                          3553 rows omitted\u001b[0m"
      ]
     },
     "execution_count": 9,
     "metadata": {},
     "output_type": "execute_result"
    }
   ],
   "source": [
    "#### \n",
    "#import data and reorganize to create figure\n",
    "using Random, DataFrames, DelimitedFiles, Statistics, RCall, Printf\n",
    "import StatsBase: sem\n",
    "\n",
    "βMseresult_1 = vec(readdlm(\"mse_beta_multivariate_poisson_CS$(nsims)reps_sim.csv\", ','))\n",
    "σ2MseResult_1 = vec(readdlm(\"mse_sigma_multivariate_poisson_CS$(nsims)reps_sim.csv\", ','))\n",
    "ρMseResult_1 = vec(readdlm(\"mse_rho_multivariate_poisson_CS$(nsims)reps_sim.csv\", ','))\n",
    "θMseResult_1 = (σ2MseResult_1 .+ ρMseResult_1) ./ 2\n",
    "βρσ2coverage_1 = readdlm(\"beta_sigma_coverage_multivariate_poisson_CS$(nsims)reps_sim.csv\", ',')\n",
    "\n",
    "samplesizesrobust = samplesizes\n",
    "nsrobust = ns\n",
    "nsimsrobust = nsims\n",
    "\n",
    "# βMseresultnorm = vec(readdlm(\"result_files/mse_beta_normal_normal_lognormal_1000reps_sim.csv\", ','))\n",
    "# τMseresultnorm = vec(readdlm(\"result_files/mse_tau_normal_normal_lognormal_1000reps_sim.csv\", ','))\n",
    "# ΣMseresultnorm = vec(readdlm(\"result_files/mse_Sigma_normal_normal_lognormal_1000reps_sim.csv\", ','))\n",
    "# βτcoveragenorm = readdlm(\"result_files/beta_tau_coverage_5betas_normal_normal_lognormal_1000reps_sim.csv\", ',')\n",
    "\n",
    "\n",
    "# samplesizesnorm = collect(1000:1000:6000)\n",
    "# nsnorm = [10; 25; 50; 100; 1000]\n",
    "# nsimsnorm = 1000\n",
    "\n",
    "p = 1\n",
    "sample_sizesrobust = repeat(string.(samplesizesrobust), inner = nsimsrobust * length(nsrobust))\n",
    "obs_sizesrobust = repeat(string.(nsrobust), inner = nsimsrobust, outer = length(samplesizesrobust))\n",
    "msedfrobust = DataFrame(βmse = βMseresult_1, θMse = θMseResult_1,\n",
    "    samplesize = sample_sizesrobust, obssize = obs_sizesrobust)\n",
    "\n",
    "msedfrobustR = deepcopy(msedfrobust)\n",
    "rename!(msedfrobustR, [\"betamse\"\n",
    "    \"thetamse\"\n",
    "    \"samplesize\"\n",
    " \"obssize\"]);\n",
    "\n",
    "\n",
    "mses = [msedfrobustR[!, :betamse]; msedfrobustR[!, :thetamse]]\n",
    "    # msedfnormR[!, :betamse]; msedfnormR[!, :taumse]; msedfnormR[!, :Sigmamse]]\n",
    "obssize = collect([repeat(msedfrobustR[!, :obssize], 2)]...) # ; repeat(msedfnormR[!, :obssize], 3)]\n",
    "\n",
    "samplesize = collect([repeat(msedfrobustR[!, :samplesize], 2)]...) # ; repeat(msedfnormR[!, :samplesize], 3)]\n",
    "\n",
    "parameters = collect([repeat(string.([:beta, :theta]), inner = nsimsrobust * length(nsrobust) * length(samplesizesrobust))]...)\n",
    "# ; repeat(string.([:beta, :tau, :Sigma]), inner = nsimsnorm * length(nsnorm) * length(samplesizesnorm))]\n",
    "robust = collect([repeat([\"Poisson with LogLink\"], 2 * nsimsrobust * length(nsrobust) * length(samplesizesrobust))]...) # ;\n",
    "# repeat([\"Normal Normal Log-Normal\"], 3 * nsimsnorm * length(nsnorm) * length(samplesizesnorm))];\n",
    "\n",
    "msedfR = DataFrame(mse = mses, obssize = obssize, samplesize = samplesize,\n",
    "    parameters = parameters, robust = robust)\n",
    "\n",
    "#5 of the 30,000 simulations did not converge, filter out\n",
    "msedfR = filter(x -> !isnan(x.mse), msedfR)\n",
    "# additionally, there are 5 where an error was not caught so it did not try a differnt solver\n",
    "msedfR = filter(x -> x.mse < 40000, msedfR)"
   ]
  },
  {
   "cell_type": "code",
   "execution_count": 10,
   "metadata": {},
   "outputs": [
    {
     "name": "stderr",
     "output_type": "stream",
     "text": [
      "┌ Warning: RCall.jl: Warning: package ‘scales’ was built under R version 4.0.2\n",
      "└ @ RCall /Users/sarahji/.julia/packages/RCall/iMDW2/src/io.jl:160\n",
      "┌ Warning: RCall.jl: Warning: package ‘data.table’ was built under R version 4.0.2\n",
      "└ @ RCall /Users/sarahji/.julia/packages/RCall/iMDW2/src/io.jl:160\n"
     ]
    },
    {
     "data": {
      "image/png": "[encoded data removed]"
     },
     "metadata": {},
     "output_type": "display_data"
    },
    {
     "data": {
      "text/plain": [
       "RObject{VecSxp}\n"
      ]
     },
     "execution_count": 10,
     "metadata": {},
     "output_type": "execute_result"
    }
   ],
   "source": [
    "### working on figure next\n",
    "@rput msedfR\n",
    "\n",
    "R\"\"\"\n",
    "library(scales)\n",
    "library(ggplot2)\n",
    "library(data.table)\n",
    "\n",
    "msedfR = data.table(msedfR)\n",
    "\n",
    "msedfR[parameters == \"beta\",y_min := 10^-6]\n",
    "msedfR[parameters == \"beta\",y_max := 10^-2]\n",
    "msedfR[parameters == \"theta\",y_min := 10^-5]\n",
    "msedfR[parameters == \"theta\",y_max := 10^1]\n",
    "\n",
    "#msedfR[parameters == \"beta\",y_min := 10^-8]\n",
    "#msedfR[parameters == \"beta\",y_max := 10^-2]\n",
    "#msedfR[parameters == \"tau\",y_min := 10^-8]\n",
    "#msedfR[parameters == \"tau\",y_max := 10^-2]\n",
    "#msedfR[parameters == \"Sigma\",y_min := 10^-5]\n",
    "#msedfR[parameters == \"Sigma\",y_max := 10^-2]\n",
    "\n",
    "\n",
    "msedfR$obssize = factor(msedfR$obssize, levels = c('2', '5', '10', '15', '20', '25'))\n",
    "msedfR$samplesize = factor(msedfR$samplesize, levels = c('100', '1000', '10000'))\n",
    "msedfR$parameters = factor(msedfR$parameters, levels = c('beta', 'theta'), labels = c(beta = expression(hat(bold(beta))), theta = expression(hat(bold(theta)))))\n",
    "msedfR$robust = factor(msedfR$robust, levels = c('Poisson with LogLink'),\n",
    "    labels = c(expression(paste(\"Poisson with LogLink\")))) # , expression(paste(\"MvT Gamma Inverse-Gamma\"))))\n",
    "\n",
    "\n",
    "#mseplot <- ggplot(msedfR[msedfR$mse < 10^0, ], aes(x=samplesize, y=mse, fill=obssize)) + \n",
    "mseplot = ggplot(msedfR[msedfR$mse < 10^3, ], aes(x=samplesize, y=mse, fill=obssize)) + \n",
    "  #geom_boxplot(outlier.size = 0.0, outlier.alpha = 0) +\n",
    "  geom_boxplot(outlier.size = 0.25) +\n",
    "#    geom_violin() +\n",
    "    facet_grid(parameters ~ robust, labeller = label_parsed, scales = \"free_y\") +\n",
    "  theme(legend.position=\"right\", legend.key = element_blank(), axis.text.x = element_text(angle=0, size=15),\n",
    "        axis.text.y = element_text(angle=0, size=15), axis.title.x = element_text(size = 20), \n",
    "        axis.title.y = element_text(size = 20), legend.title = element_text(size = 20),\n",
    "        panel.grid.major = element_blank(), panel.grid.minor = element_blank(),\n",
    "        legend.text=element_text(size=15), panel.background = element_rect(fill = NA, color = \"black\"),\n",
    "        #panel.background = element_blank(), #panel.border = element_blank(),\n",
    "        axis.line = element_line(color = 'black',size=0.3), plot.title = element_text(hjust = 0.5),\n",
    "        strip.background = element_rect(colour=\"black\", fill=\"white\"), strip.text.y = element_text(size=30, face=\"bold\"),\n",
    "        strip.text.x = element_text(size=20)) + \n",
    "  scale_fill_manual(values = c(\"#c85f55\",\n",
    "\"#a964bf\",\n",
    "\"#8db352\",\n",
    "\"#fa7300\",\n",
    "\"#05aec0\",\n",
    "\"#ff1493\")) +\n",
    "#scale_y_log10(breaks = scales::trans_breaks(\"log10\", function(x) 10^x)) +\n",
    "#scale_y_log10(breaks = 10^(-8:8), limit=c(10^-8, 10^2)) + \n",
    "scale_y_log10(breaks = 10^seq(-10, 10, 2), labels=trans_format(\"log10\", math_format(10^.x))) + #, limit=c(10^-8, 10^2)) +\n",
    "  labs(x = \"Sample Size\", y = \"MSE of Parameter Estimates\", fill = \"Cluster Size\") +\n",
    "geom_blank(aes(y = y_max)) + \n",
    "geom_blank(aes(y = y_min)) \n",
    "\n",
    "\"\"\""
   ]
  },
  {
   "cell_type": "code",
   "execution_count": 11,
   "metadata": {},
   "outputs": [
    {
     "data": {
      "text/plain": [
       "RObject{StrSxp}\n",
       "[1] \"updated_msefacetplot_poisson_CS.png\"\n"
      ]
     },
     "execution_count": 11,
     "metadata": {},
     "output_type": "execute_result"
    }
   ],
   "source": [
    "R\"\"\"\n",
    "ggsave('updated_msefacetplot_poisson_CS.png', mseplot, width = 12.5, height = 15, units = 'in', dpi = 450)\n",
    "\"\"\""
   ]
  },
  {
   "cell_type": "code",
   "execution_count": null,
   "metadata": {},
   "outputs": [],
   "source": []
  }
 ],
 "metadata": {
  "@webio": {
   "lastCommId": null,
   "lastKernelId": null
  },
  "kernelspec": {
   "display_name": "Julia 1.6.2",
   "language": "julia",
   "name": "julia-1.6"
  },
  "language_info": {
   "file_extension": ".jl",
   "mimetype": "application/julia",
   "name": "julia",
   "version": "1.6.2"
  }
 },
 "nbformat": 4,
 "nbformat_minor": 2
}
