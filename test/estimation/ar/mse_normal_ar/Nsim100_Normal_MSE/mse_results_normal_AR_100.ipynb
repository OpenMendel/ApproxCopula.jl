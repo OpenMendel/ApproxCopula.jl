{
 "cells": [
  {
   "cell_type": "markdown",
   "metadata": {},
   "source": [
    "## Gaussian AR Results \n",
    "\n",
    "This notebook goes over the code needed to reproduce the results from the MSE and time figures in the first simulation in the paper. \n",
    "\n",
    "In this example we have Gaussian base distribution and covariance matrix $\\Gamma$ structured under AR covariance with $\\rho = 0.9, \\sigma^2 = 0.1$"
   ]
  },
  {
   "cell_type": "code",
   "execution_count": 1,
   "metadata": {},
   "outputs": [
    {
     "name": "stdout",
     "output_type": "stream",
     "text": [
      "Julia Version 1.6.2\n",
      "Commit 1b93d53fc4 (2021-07-14 15:36 UTC)\n",
      "Platform Info:\n",
      "  OS: macOS (x86_64-apple-darwin18.7.0)\n",
      "  CPU: Intel(R) Core(TM) i9-9880H CPU @ 2.30GHz\n",
      "  WORD_SIZE: 64\n",
      "  LIBM: libopenlibm\n",
      "  LLVM: libLLVM-11.0.1 (ORCJIT, skylake)\n"
     ]
    }
   ],
   "source": [
    "versioninfo()"
   ]
  },
  {
   "cell_type": "code",
   "execution_count": 2,
   "metadata": {},
   "outputs": [],
   "source": [
    "using GLMCopula, DelimitedFiles, LinearAlgebra, Random, GLM\n",
    "using Random, Roots, SpecialFunctions, DataFrames"
   ]
  },
  {
   "cell_type": "code",
   "execution_count": 3,
   "metadata": {},
   "outputs": [
    {
     "data": {
      "text/plain": [
       "100"
      ]
     },
     "execution_count": 3,
     "metadata": {},
     "output_type": "execute_result"
    }
   ],
   "source": [
    "p  = 3    # number of fixed effects, including intercept\n",
    "\n",
    "# true parameter values\n",
    "βtrue = ones(p)\n",
    "σ2true = [0.1]\n",
    "ρtrue = [0.9]\n",
    "τtrue = 10\n",
    "\n",
    "# generate data\n",
    "trueparams = [βtrue; σ2true; ρtrue; τtrue] #hold true parameters\n",
    "\n",
    "#simulation parameters\n",
    "samplesizes = [100; 1000; 10000]\n",
    "ns = [2; 5; 10; 15; 20; 25]\n",
    "nsims = 100"
   ]
  },
  {
   "cell_type": "code",
   "execution_count": 4,
   "metadata": {},
   "outputs": [
    {
     "name": "stderr",
     "output_type": "stream",
     "text": [
      "┌ Info: reading in the files with results\n",
      "└ @ Main In[4]:1\n"
     ]
    },
    {
     "data": {
      "text/plain": [
       "1800-element Vector{Float64}:\n",
       "   0.396124989\n",
       "   0.250542623\n",
       "   0.269369954\n",
       "   0.173789154\n",
       "   0.185733717\n",
       "   0.624050932\n",
       "   0.635622946\n",
       "   0.23391855\n",
       "   0.487181026\n",
       "   0.237420926\n",
       " NaN\n",
       "   0.424611791\n",
       "   0.631067791\n",
       "   ⋮\n",
       "   5.932462734\n",
       "   6.230605503\n",
       "   9.746325636\n",
       "   6.355383224\n",
       "   9.955834859\n",
       "   7.954097631\n",
       "   7.305919915\n",
       "   6.063169432\n",
       "   5.875279031\n",
       "   9.93769881\n",
       "   4.329438425\n",
       "   5.487994616"
      ]
     },
     "execution_count": 4,
     "metadata": {},
     "output_type": "execute_result"
    }
   ],
   "source": [
    "@info \"reading in the files with results\"\n",
    "βMseresult = vec(readdlm(\"mse_beta_multivariate_normal_AR$(nsims)reps_sim.csv\", ','))\n",
    "σ2MseResult = vec(readdlm(\"mse_sigma_multivariate_normal_AR$(nsims)reps_sim.csv\", ','))\n",
    "ρMseResult = vec(readdlm(\"mse_rho_multivariate_normal_AR$(nsims)reps_sim.csv\", ','))\n",
    "fittimes = vec(readdlm(\"fittimes_multivariate_normal_AR$(nsims)reps_sim.csv\", ','))"
   ]
  },
  {
   "cell_type": "code",
   "execution_count": 5,
   "metadata": {},
   "outputs": [
    {
     "name": "stderr",
     "output_type": "stream",
     "text": [
      "┌ Info: making results table\n",
      "└ @ Main In[5]:2\n"
     ]
    },
    {
     "data": {
      "text/html": [
       "<div class=\"data-frame\"><p>18 rows × 8 columns</p><table class=\"data-frame\"><thead><tr><th></th><th>samplesize</th><th>obssize</th><th>fittime</th><th>se</th><th>nobs</th><th>fitmin</th><th>fitmax</th><th>perobsratio</th></tr><tr><th></th><th title=\"String\">String</th><th title=\"String\">String</th><th title=\"Float64\">Float64</th><th title=\"Float64\">Float64</th><th title=\"Int64\">Int64</th><th title=\"Float64\">Float64</th><th title=\"Float64\">Float64</th><th title=\"Float64\">Float64</th></tr></thead><tbody><tr><th>1</th><td>100</td><td>2</td><td>NaN</td><td>NaN</td><td>200</td><td>NaN</td><td>NaN</td><td>NaN</td></tr><tr><th>2</th><td>100</td><td>5</td><td>NaN</td><td>NaN</td><td>500</td><td>NaN</td><td>NaN</td><td>NaN</td></tr><tr><th>3</th><td>100</td><td>10</td><td>NaN</td><td>NaN</td><td>1000</td><td>NaN</td><td>NaN</td><td>NaN</td></tr><tr><th>4</th><td>100</td><td>15</td><td>0.370505</td><td>0.0144983</td><td>1500</td><td>0.356007</td><td>0.385003</td><td>0.000247003</td></tr><tr><th>5</th><td>100</td><td>20</td><td>NaN</td><td>NaN</td><td>2000</td><td>NaN</td><td>NaN</td><td>NaN</td></tr><tr><th>6</th><td>100</td><td>25</td><td>NaN</td><td>NaN</td><td>2500</td><td>NaN</td><td>NaN</td><td>NaN</td></tr><tr><th>7</th><td>1000</td><td>2</td><td>NaN</td><td>NaN</td><td>2000</td><td>NaN</td><td>NaN</td><td>NaN</td></tr><tr><th>8</th><td>1000</td><td>5</td><td>0.38591</td><td>0.0137371</td><td>5000</td><td>0.372173</td><td>0.399647</td><td>7.7182e-5</td></tr><tr><th>9</th><td>1000</td><td>10</td><td>0.479586</td><td>0.0167225</td><td>10000</td><td>0.462863</td><td>0.496308</td><td>4.79586e-5</td></tr><tr><th>10</th><td>1000</td><td>15</td><td>0.55974</td><td>0.0160292</td><td>15000</td><td>0.543711</td><td>0.575769</td><td>3.7316e-5</td></tr><tr><th>11</th><td>1000</td><td>20</td><td>0.765077</td><td>0.0262922</td><td>20000</td><td>0.738785</td><td>0.791369</td><td>3.82538e-5</td></tr><tr><th>12</th><td>1000</td><td>25</td><td>NaN</td><td>NaN</td><td>25000</td><td>NaN</td><td>NaN</td><td>NaN</td></tr><tr><th>13</th><td>10000</td><td>2</td><td>NaN</td><td>NaN</td><td>20000</td><td>NaN</td><td>NaN</td><td>NaN</td></tr><tr><th>14</th><td>10000</td><td>5</td><td>1.62064</td><td>0.0435302</td><td>50000</td><td>1.57711</td><td>1.66417</td><td>3.24129e-5</td></tr><tr><th>15</th><td>10000</td><td>10</td><td>NaN</td><td>NaN</td><td>100000</td><td>NaN</td><td>NaN</td><td>NaN</td></tr><tr><th>16</th><td>10000</td><td>15</td><td>NaN</td><td>NaN</td><td>150000</td><td>NaN</td><td>NaN</td><td>NaN</td></tr><tr><th>17</th><td>10000</td><td>20</td><td>5.56451</td><td>0.171368</td><td>200000</td><td>5.39315</td><td>5.73588</td><td>2.78226e-5</td></tr><tr><th>18</th><td>10000</td><td>25</td><td>NaN</td><td>NaN</td><td>250000</td><td>NaN</td><td>NaN</td><td>NaN</td></tr></tbody></table></div>"
      ],
      "text/latex": [
       "\\begin{tabular}{r|cccccccc}\n",
       "\t& samplesize & obssize & fittime & se & nobs & fitmin & fitmax & perobsratio\\\\\n",
       "\t\\hline\n",
       "\t& String & String & Float64 & Float64 & Int64 & Float64 & Float64 & Float64\\\\\n",
       "\t\\hline\n",
       "\t1 & 100 & 2 & NaN & NaN & 200 & NaN & NaN & NaN \\\\\n",
       "\t2 & 100 & 5 & NaN & NaN & 500 & NaN & NaN & NaN \\\\\n",
       "\t3 & 100 & 10 & NaN & NaN & 1000 & NaN & NaN & NaN \\\\\n",
       "\t4 & 100 & 15 & 0.370505 & 0.0144983 & 1500 & 0.356007 & 0.385003 & 0.000247003 \\\\\n",
       "\t5 & 100 & 20 & NaN & NaN & 2000 & NaN & NaN & NaN \\\\\n",
       "\t6 & 100 & 25 & NaN & NaN & 2500 & NaN & NaN & NaN \\\\\n",
       "\t7 & 1000 & 2 & NaN & NaN & 2000 & NaN & NaN & NaN \\\\\n",
       "\t8 & 1000 & 5 & 0.38591 & 0.0137371 & 5000 & 0.372173 & 0.399647 & 7.7182e-5 \\\\\n",
       "\t9 & 1000 & 10 & 0.479586 & 0.0167225 & 10000 & 0.462863 & 0.496308 & 4.79586e-5 \\\\\n",
       "\t10 & 1000 & 15 & 0.55974 & 0.0160292 & 15000 & 0.543711 & 0.575769 & 3.7316e-5 \\\\\n",
       "\t11 & 1000 & 20 & 0.765077 & 0.0262922 & 20000 & 0.738785 & 0.791369 & 3.82538e-5 \\\\\n",
       "\t12 & 1000 & 25 & NaN & NaN & 25000 & NaN & NaN & NaN \\\\\n",
       "\t13 & 10000 & 2 & NaN & NaN & 20000 & NaN & NaN & NaN \\\\\n",
       "\t14 & 10000 & 5 & 1.62064 & 0.0435302 & 50000 & 1.57711 & 1.66417 & 3.24129e-5 \\\\\n",
       "\t15 & 10000 & 10 & NaN & NaN & 100000 & NaN & NaN & NaN \\\\\n",
       "\t16 & 10000 & 15 & NaN & NaN & 150000 & NaN & NaN & NaN \\\\\n",
       "\t17 & 10000 & 20 & 5.56451 & 0.171368 & 200000 & 5.39315 & 5.73588 & 2.78226e-5 \\\\\n",
       "\t18 & 10000 & 25 & NaN & NaN & 250000 & NaN & NaN & NaN \\\\\n",
       "\\end{tabular}\n"
      ],
      "text/plain": [
       "\u001b[1m18×8 DataFrame\u001b[0m\n",
       "\u001b[1m Row \u001b[0m│\u001b[1m samplesize \u001b[0m\u001b[1m obssize \u001b[0m\u001b[1m fittime    \u001b[0m\u001b[1m se          \u001b[0m\u001b[1m nobs   \u001b[0m\u001b[1m fitmin     \u001b[0m\u001b[1m fitma\u001b[0m ⋯\n",
       "\u001b[1m     \u001b[0m│\u001b[90m String     \u001b[0m\u001b[90m String  \u001b[0m\u001b[90m Float64    \u001b[0m\u001b[90m Float64     \u001b[0m\u001b[90m Int64  \u001b[0m\u001b[90m Float64    \u001b[0m\u001b[90m Float\u001b[0m ⋯\n",
       "─────┼──────────────────────────────────────────────────────────────────────────\n",
       "   1 │ 100         2        NaN         NaN             200  NaN         NaN   ⋯\n",
       "   2 │ 100         5        NaN         NaN             500  NaN         NaN\n",
       "   3 │ 100         10       NaN         NaN            1000  NaN         NaN\n",
       "   4 │ 100         15         0.370505    0.0144983    1500    0.356007    0.3\n",
       "   5 │ 100         20       NaN         NaN            2000  NaN         NaN   ⋯\n",
       "   6 │ 100         25       NaN         NaN            2500  NaN         NaN\n",
       "   7 │ 1000        2        NaN         NaN            2000  NaN         NaN\n",
       "   8 │ 1000        5          0.38591     0.0137371    5000    0.372173    0.3\n",
       "   9 │ 1000        10         0.479586    0.0167225   10000    0.462863    0.4 ⋯\n",
       "  10 │ 1000        15         0.55974     0.0160292   15000    0.543711    0.5\n",
       "  11 │ 1000        20         0.765077    0.0262922   20000    0.738785    0.7\n",
       "  12 │ 1000        25       NaN         NaN           25000  NaN         NaN\n",
       "  13 │ 10000       2        NaN         NaN           20000  NaN         NaN   ⋯\n",
       "  14 │ 10000       5          1.62064     0.0435302   50000    1.57711     1.6\n",
       "  15 │ 10000       10       NaN         NaN          100000  NaN         NaN\n",
       "  16 │ 10000       15       NaN         NaN          150000  NaN         NaN\n",
       "  17 │ 10000       20         5.56451     0.171368   200000    5.39315     5.7 ⋯\n",
       "  18 │ 10000       25       NaN         NaN          250000  NaN         NaN\n",
       "\u001b[36m                                                               2 columns omitted\u001b[0m"
      ]
     },
     "execution_count": 5,
     "metadata": {},
     "output_type": "execute_result"
    }
   ],
   "source": [
    "#simulation parameters\n",
    "@info \"making results table\"\n",
    "sample_sizes = repeat(string.(samplesizes), inner = nsims * length(ns))\n",
    "obs_sizes = repeat(string.(ns), inner = nsims, outer = length(samplesizes))\n",
    "\n",
    "msedf = DataFrame(βmse = βMseresult, σ2mse = σ2MseResult, ρmse = ρMseResult,\n",
    "    samplesize = sample_sizes, obssize = obs_sizes, fittimes = fittimes)\n",
    "timedf = combine(groupby(msedf, [:samplesize, :obssize]), :fittimes => mean => :fittime,\n",
    "    :fittimes => x -> (std(x)/sqrt(length(x))))\n",
    "rename!(timedf, Dict(:fittimes_function => \"se\"))\n",
    "timedf[!, :nobs] = Meta.parse.(timedf[!, :samplesize]) .* Meta.parse.(timedf[!, :obssize])\n",
    "timedf[!, :fitmin] = timedf[!, :fittime] - timedf[!, :se]\n",
    "timedf[!, :fitmax] = timedf[!, :fittime] + timedf[!, :se]\n",
    "timedf[!, :perobsratio] = timedf[!, :fittime] ./ timedf[!, :nobs]\n",
    "timedf"
   ]
  },
  {
   "cell_type": "code",
   "execution_count": 6,
   "metadata": {},
   "outputs": [],
   "source": [
    "# ########### plot the runtimes\n",
    "# using RCall\n",
    "# @rput timedf\n",
    "\n",
    "# R\"\"\"\n",
    "# library(ggplot2)\n",
    "# timedf$obssize = factor(timedf$obssize, levels = c('2', '5', '10', '15', '20', '25'))\n",
    "# timedf$samplesize = factor(timedf$samplesize, levels = c('100', '1000', '10000'))\n",
    "\n",
    "# fittime_1 = ggplot(timedf, aes(x = samplesize, y = fittime, group = obssize, color = obssize)) + \n",
    "#   geom_line() +\n",
    "#   geom_point()+\n",
    "#   geom_errorbar(aes(ymin=fitmin, ymax=fitmax), width=0.5, alpha = 0.8, position=position_dodge(0.005)) + \n",
    "#   theme(legend.position=c(0.15,0.85), legend.key = element_blank(), axis.text.x = element_text(angle=0, size=13),\n",
    "#         axis.text.y = element_text(angle=0, size=13), axis.title.x = element_text(size = 17), \n",
    "#         axis.title.y = element_text(size = 17), legend.title = element_text(size = 14),\n",
    "#         #axis.ticks = element_blank(),\n",
    "#         panel.grid.major = element_blank(), legend.text=element_text(size=13),\n",
    "#         panel.border = element_blank(), panel.grid.minor = element_blank(), panel.background = element_blank(), \n",
    "#         axis.line = element_line(color = 'black',size=0.3), plot.title = element_text(hjust = 0.5)) + \n",
    "#    scale_color_manual(values = c(\"#c85f55\",\n",
    "# \"#a964bf\",\n",
    "# \"#8db352\",\n",
    "# \"#fa7300\",\n",
    "# \"#05aec0\",\n",
    "# \"#ff1493\")) +\n",
    "#   labs(x = \"Number of Individuals\", y = \"Fit time (seconds)\", color = \"Obs per Individual\")\n",
    "# \"\"\"\n",
    "\n",
    "# R\"\"\"\n",
    "# ggsave('fittime_nsamples_normal_AR.png', fittime_1, width = 12.5, height = 15, units = 'in', dpi = 450)\n",
    "# \"\"\""
   ]
  },
  {
   "cell_type": "code",
   "execution_count": 7,
   "metadata": {},
   "outputs": [],
   "source": [
    "# using RCall\n",
    "# @rput timedf\n",
    "\n",
    "# R\"\"\"\n",
    "# library(scales)\n",
    "# library(ggplot2)\n",
    "# timedf$obssize <- factor(timedf$obssize, levels = c('2', '5', '10', '15', '20', '25'))\n",
    "# timedf$samplesize <- factor(timedf$samplesize, levels = c('100', '1000', '10000'))\n",
    "\n",
    "# fancy_scientific <- function(l) {\n",
    "#      # turn in to character string in scientific notation\n",
    "#      l <- format(l, scientific = TRUE)\n",
    "#      # quote the part before the exponent to keep all the digits\n",
    "#      l <- gsub(\"^(.*)e\", \"'\\\\1'e\", l)\n",
    "#      # turn the 'e+' into plotmath format\n",
    "#      l <- gsub(\"e\", \"%*%10^\", l)\n",
    "#      # return this as an expression\n",
    "#      parse(text=l)\n",
    "# }\n",
    "\n",
    "# fittimeperobs = ggplot(timedf, aes(x=nobs, y=perobsratio)) + \n",
    "#   geom_line() +\n",
    "#   geom_point()+\n",
    "# #  geom_errorbar(aes(ymin=fitmin, ymax=fitmax), width=0.5, alpha = 0.8, position=position_dodge(0.005)) + \n",
    "#   theme(legend.position=c(0.15,0.8), legend.key = element_blank(), axis.text.x = element_text(angle=0, size=13),\n",
    "#         axis.text.y = element_text(angle=0, size=13), axis.title.x = element_text(size = 17), \n",
    "#         axis.title.y = element_text(size = 17), legend.title = element_text(size = 14),\n",
    "#         #axis.ticks = element_blank(),\n",
    "#         panel.grid.major = element_blank(), legend.text=element_text(size=11),\n",
    "#         panel.border = element_blank(), panel.grid.minor = element_blank(), panel.background = element_blank(), \n",
    "#         axis.line = element_line(color = 'black',size=0.3), plot.title = element_text(hjust = 0.5)) + \n",
    "#   labs(x = \"Total Number of Observations\", y = \"Fit time per observation (seconds)\", color = \"Obs per Individual\") +\n",
    "# #scale_x_log10(breaks = 10^seq(0, 7, 1), labels=trans_format(\"log10\", math_format(10^.x)))# + #, limit=c(10^0, 10^7))\n",
    "# scale_x_continuous(breaks = seq(0, 6000000, 1000000), labels= fancy_scientific) +\n",
    "# scale_y_continuous(breaks = c(10^-4, 2 * 10^-4, 3 * 10^-4, 4 * 10^-4, 5 * 10^-4, 6 * 10^-4), labels= fancy_scientific)\n",
    "\n",
    "# \"\"\"\n",
    "\n",
    "# R\"\"\"\n",
    "# ggsave('fittimeperobs.png', fittimeperobs, width = 12.5, height = 15, units = 'in', dpi = 450)\n",
    "# \"\"\""
   ]
  },
  {
   "cell_type": "code",
   "execution_count": 8,
   "metadata": {},
   "outputs": [
    {
     "data": {
      "text/html": [
       "<div class=\"data-frame\"><p>18 rows × 7 columns (omitted printing of 2 columns)</p><table class=\"data-frame\"><thead><tr><th></th><th>people_obs</th><th>β1</th><th>β2</th><th>β3</th><th>σ2</th></tr><tr><th></th><th title=\"String\">String</th><th title=\"Tuple{Float64, Float64}\">Tuple…</th><th title=\"Tuple{Float64, Float64}\">Tuple…</th><th title=\"Tuple{Float64, Float64}\">Tuple…</th><th title=\"Tuple{Float64, Float64}\">Tuple…</th></tr></thead><tbody><tr><th>1</th><td>N: 100  ni: 2</td><td>(NaN, NaN)</td><td>(NaN, NaN)</td><td>(NaN, NaN)</td><td>(NaN, NaN)</td></tr><tr><th>2</th><td>N: 100  ni: 5</td><td>(NaN, NaN)</td><td>(NaN, NaN)</td><td>(NaN, NaN)</td><td>(NaN, NaN)</td></tr><tr><th>3</th><td>N: 100  ni: 10</td><td>(NaN, NaN)</td><td>(NaN, NaN)</td><td>(NaN, NaN)</td><td>(NaN, NaN)</td></tr><tr><th>4</th><td>N: 100  ni: 15</td><td>(0.69, 0.0464823)</td><td>(0.9, 0.0301511)</td><td>(0.92, 0.027266)</td><td>(0.9, 0.0301511)</td></tr><tr><th>5</th><td>N: 100  ni: 20</td><td>(NaN, NaN)</td><td>(NaN, NaN)</td><td>(NaN, NaN)</td><td>(NaN, NaN)</td></tr><tr><th>6</th><td>N: 100  ni: 25</td><td>(NaN, NaN)</td><td>(NaN, NaN)</td><td>(NaN, NaN)</td><td>(NaN, NaN)</td></tr><tr><th>7</th><td>N: 1000  ni: 2</td><td>(NaN, NaN)</td><td>(NaN, NaN)</td><td>(NaN, NaN)</td><td>(NaN, NaN)</td></tr><tr><th>8</th><td>N: 1000  ni: 5</td><td>(0.72, 0.0451261)</td><td>(0.79, 0.040936)</td><td>(0.79, 0.040936)</td><td>(0.83, 0.0377525)</td></tr><tr><th>9</th><td>N: 1000  ni: 10</td><td>(0.72, 0.0451261)</td><td>(0.88, 0.0326599)</td><td>(0.93, 0.0256432)</td><td>(0.81, 0.0394277)</td></tr><tr><th>10</th><td>N: 1000  ni: 15</td><td>(0.74, 0.0440844)</td><td>(0.87, 0.0337998)</td><td>(0.88, 0.0326599)</td><td>(0.82, 0.0386123)</td></tr><tr><th>11</th><td>N: 1000  ni: 20</td><td>(0.68, 0.0468826)</td><td>(0.87, 0.0337998)</td><td>(0.85, 0.035887)</td><td>(0.9, 0.0301511)</td></tr><tr><th>12</th><td>N: 1000  ni: 25</td><td>(NaN, NaN)</td><td>(NaN, NaN)</td><td>(NaN, NaN)</td><td>(NaN, NaN)</td></tr><tr><th>13</th><td>N: 10000  ni: 2</td><td>(NaN, NaN)</td><td>(NaN, NaN)</td><td>(NaN, NaN)</td><td>(NaN, NaN)</td></tr><tr><th>14</th><td>N: 10000  ni: 5</td><td>(0.83, 0.0377525)</td><td>(0.87, 0.0337998)</td><td>(0.81, 0.0394277)</td><td>(0.7, 0.0460566)</td></tr><tr><th>15</th><td>N: 10000  ni: 10</td><td>(NaN, NaN)</td><td>(NaN, NaN)</td><td>(NaN, NaN)</td><td>(NaN, NaN)</td></tr><tr><th>16</th><td>N: 10000  ni: 15</td><td>(NaN, NaN)</td><td>(NaN, NaN)</td><td>(NaN, NaN)</td><td>(NaN, NaN)</td></tr><tr><th>17</th><td>N: 10000  ni: 20</td><td>(0.66, 0.0476095)</td><td>(0.79, 0.040936)</td><td>(0.85, 0.035887)</td><td>(0.82, 0.0386123)</td></tr><tr><th>18</th><td>N: 10000  ni: 25</td><td>(NaN, NaN)</td><td>(NaN, NaN)</td><td>(NaN, NaN)</td><td>(NaN, NaN)</td></tr></tbody></table></div>"
      ],
      "text/latex": [
       "\\begin{tabular}{r|cccccc}\n",
       "\t& people\\_obs & β1 & β2 & β3 & σ2 & \\\\\n",
       "\t\\hline\n",
       "\t& String & Tuple… & Tuple… & Tuple… & Tuple… & \\\\\n",
       "\t\\hline\n",
       "\t1 & N: 100  ni: 2 & (NaN, NaN) & (NaN, NaN) & (NaN, NaN) & (NaN, NaN) & $\\dots$ \\\\\n",
       "\t2 & N: 100  ni: 5 & (NaN, NaN) & (NaN, NaN) & (NaN, NaN) & (NaN, NaN) & $\\dots$ \\\\\n",
       "\t3 & N: 100  ni: 10 & (NaN, NaN) & (NaN, NaN) & (NaN, NaN) & (NaN, NaN) & $\\dots$ \\\\\n",
       "\t4 & N: 100  ni: 15 & (0.69, 0.0464823) & (0.9, 0.0301511) & (0.92, 0.027266) & (0.9, 0.0301511) & $\\dots$ \\\\\n",
       "\t5 & N: 100  ni: 20 & (NaN, NaN) & (NaN, NaN) & (NaN, NaN) & (NaN, NaN) & $\\dots$ \\\\\n",
       "\t6 & N: 100  ni: 25 & (NaN, NaN) & (NaN, NaN) & (NaN, NaN) & (NaN, NaN) & $\\dots$ \\\\\n",
       "\t7 & N: 1000  ni: 2 & (NaN, NaN) & (NaN, NaN) & (NaN, NaN) & (NaN, NaN) & $\\dots$ \\\\\n",
       "\t8 & N: 1000  ni: 5 & (0.72, 0.0451261) & (0.79, 0.040936) & (0.79, 0.040936) & (0.83, 0.0377525) & $\\dots$ \\\\\n",
       "\t9 & N: 1000  ni: 10 & (0.72, 0.0451261) & (0.88, 0.0326599) & (0.93, 0.0256432) & (0.81, 0.0394277) & $\\dots$ \\\\\n",
       "\t10 & N: 1000  ni: 15 & (0.74, 0.0440844) & (0.87, 0.0337998) & (0.88, 0.0326599) & (0.82, 0.0386123) & $\\dots$ \\\\\n",
       "\t11 & N: 1000  ni: 20 & (0.68, 0.0468826) & (0.87, 0.0337998) & (0.85, 0.035887) & (0.9, 0.0301511) & $\\dots$ \\\\\n",
       "\t12 & N: 1000  ni: 25 & (NaN, NaN) & (NaN, NaN) & (NaN, NaN) & (NaN, NaN) & $\\dots$ \\\\\n",
       "\t13 & N: 10000  ni: 2 & (NaN, NaN) & (NaN, NaN) & (NaN, NaN) & (NaN, NaN) & $\\dots$ \\\\\n",
       "\t14 & N: 10000  ni: 5 & (0.83, 0.0377525) & (0.87, 0.0337998) & (0.81, 0.0394277) & (0.7, 0.0460566) & $\\dots$ \\\\\n",
       "\t15 & N: 10000  ni: 10 & (NaN, NaN) & (NaN, NaN) & (NaN, NaN) & (NaN, NaN) & $\\dots$ \\\\\n",
       "\t16 & N: 10000  ni: 15 & (NaN, NaN) & (NaN, NaN) & (NaN, NaN) & (NaN, NaN) & $\\dots$ \\\\\n",
       "\t17 & N: 10000  ni: 20 & (0.66, 0.0476095) & (0.79, 0.040936) & (0.85, 0.035887) & (0.82, 0.0386123) & $\\dots$ \\\\\n",
       "\t18 & N: 10000  ni: 25 & (NaN, NaN) & (NaN, NaN) & (NaN, NaN) & (NaN, NaN) & $\\dots$ \\\\\n",
       "\\end{tabular}\n"
      ],
      "text/plain": [
       "\u001b[1m18×7 DataFrame\u001b[0m\n",
       "\u001b[1m Row \u001b[0m│\u001b[1m people_obs       \u001b[0m\u001b[1m β1                \u001b[0m\u001b[1m β2                \u001b[0m\u001b[1m β3             \u001b[0m ⋯\n",
       "\u001b[1m     \u001b[0m│\u001b[90m String           \u001b[0m\u001b[90m Tuple…            \u001b[0m\u001b[90m Tuple…            \u001b[0m\u001b[90m Tuple…         \u001b[0m ⋯\n",
       "─────┼──────────────────────────────────────────────────────────────────────────\n",
       "   1 │ N: 100  ni: 2     (NaN, NaN)         (NaN, NaN)         (NaN, NaN)      ⋯\n",
       "   2 │ N: 100  ni: 5     (NaN, NaN)         (NaN, NaN)         (NaN, NaN)\n",
       "   3 │ N: 100  ni: 10    (NaN, NaN)         (NaN, NaN)         (NaN, NaN)\n",
       "   4 │ N: 100  ni: 15    (0.69, 0.0464823)  (0.9, 0.0301511)   (0.92, 0.027266\n",
       "   5 │ N: 100  ni: 20    (NaN, NaN)         (NaN, NaN)         (NaN, NaN)      ⋯\n",
       "   6 │ N: 100  ni: 25    (NaN, NaN)         (NaN, NaN)         (NaN, NaN)\n",
       "   7 │ N: 1000  ni: 2    (NaN, NaN)         (NaN, NaN)         (NaN, NaN)\n",
       "   8 │ N: 1000  ni: 5    (0.72, 0.0451261)  (0.79, 0.040936)   (0.79, 0.040936\n",
       "   9 │ N: 1000  ni: 10   (0.72, 0.0451261)  (0.88, 0.0326599)  (0.93, 0.025643 ⋯\n",
       "  10 │ N: 1000  ni: 15   (0.74, 0.0440844)  (0.87, 0.0337998)  (0.88, 0.032659\n",
       "  11 │ N: 1000  ni: 20   (0.68, 0.0468826)  (0.87, 0.0337998)  (0.85, 0.035887\n",
       "  12 │ N: 1000  ni: 25   (NaN, NaN)         (NaN, NaN)         (NaN, NaN)\n",
       "  13 │ N: 10000  ni: 2   (NaN, NaN)         (NaN, NaN)         (NaN, NaN)      ⋯\n",
       "  14 │ N: 10000  ni: 5   (0.83, 0.0377525)  (0.87, 0.0337998)  (0.81, 0.039427\n",
       "  15 │ N: 10000  ni: 10  (NaN, NaN)         (NaN, NaN)         (NaN, NaN)\n",
       "  16 │ N: 10000  ni: 15  (NaN, NaN)         (NaN, NaN)         (NaN, NaN)\n",
       "  17 │ N: 10000  ni: 20  (0.66, 0.0476095)  (0.79, 0.040936)   (0.85, 0.035887 ⋯\n",
       "  18 │ N: 10000  ni: 25  (NaN, NaN)         (NaN, NaN)         (NaN, NaN)\n",
       "\u001b[36m                                                               4 columns omitted\u001b[0m"
      ]
     },
     "execution_count": 8,
     "metadata": {},
     "output_type": "execute_result"
    }
   ],
   "source": [
    "######  supplementary table s1\n",
    "using Random, DataFrames, DelimitedFiles, Statistics\n",
    "import StatsBase: sem\n",
    "\n",
    "βρσ2τcoverage = readdlm(\"beta_rho_sigma_coverage_multivariate_normal_AR$(nsims)reps_sim.csv\", ',')\n",
    "\n",
    "m = 2\n",
    "\n",
    "covdf = DataFrame(Matrix(transpose(βρσ2τcoverage)), :auto)\n",
    "rename!(covdf, Symbol.([[\"β$i\" for i in 1:p]; [\"σ2\"];  [\"ρ\"]; [\"τ\"]]))\n",
    "covdf[!, :samplesize] = sample_sizes\n",
    "covdf[!, :obssize] = obs_sizes\n",
    "first(covdf, 10)\n",
    "\n",
    "row_stats = [[(mean(col), sem(col)) for col = eachcol(d[!, 1:end-2])] for d = groupby(covdf, [:samplesize; :obssize])]\n",
    "df = DataFrame(row_stats, :auto)\n",
    "ss_obs = unique(\"N: \" .* sample_sizes .* \"  ni: \" .* obs_sizes)\n",
    "rename!(df, Symbol.(ss_obs))\n",
    "covdfdisplay = DataFrame([[names(df)]; collect.(eachrow(df))], \n",
    "    [:people_obs; Symbol.([[\"β$i\" for i in 1:p]; [\"σ2\"]; [\"ρ\"]; [\"τ\"]])])\n",
    "covdfdisplay\n"
   ]
  },
  {
   "cell_type": "code",
   "execution_count": 9,
   "metadata": {},
   "outputs": [
    {
     "data": {
      "text/html": [
       "<div class=\"data-frame\"><p>7,068 rows × 5 columns</p><table class=\"data-frame\"><thead><tr><th></th><th>mse</th><th>obssize</th><th>samplesize</th><th>parameters</th><th>labels</th></tr><tr><th></th><th title=\"Float64\">Float64</th><th title=\"String\">String</th><th title=\"String\">String</th><th title=\"String\">String</th><th title=\"String\">String</th></tr></thead><tbody><tr><th>1</th><td>3.14e-5</td><td>2</td><td>100</td><td>beta</td><td>Gaussian with Identity Link</td></tr><tr><th>2</th><td>2.11e-5</td><td>2</td><td>100</td><td>beta</td><td>Gaussian with Identity Link</td></tr><tr><th>3</th><td>4.49e-5</td><td>2</td><td>100</td><td>beta</td><td>Gaussian with Identity Link</td></tr><tr><th>4</th><td>6.28e-6</td><td>2</td><td>100</td><td>beta</td><td>Gaussian with Identity Link</td></tr><tr><th>5</th><td>1.65e-5</td><td>2</td><td>100</td><td>beta</td><td>Gaussian with Identity Link</td></tr><tr><th>6</th><td>0.000104425</td><td>2</td><td>100</td><td>beta</td><td>Gaussian with Identity Link</td></tr><tr><th>7</th><td>5.21e-5</td><td>2</td><td>100</td><td>beta</td><td>Gaussian with Identity Link</td></tr><tr><th>8</th><td>0.000120595</td><td>2</td><td>100</td><td>beta</td><td>Gaussian with Identity Link</td></tr><tr><th>9</th><td>0.000187695</td><td>2</td><td>100</td><td>beta</td><td>Gaussian with Identity Link</td></tr><tr><th>10</th><td>0.000102819</td><td>2</td><td>100</td><td>beta</td><td>Gaussian with Identity Link</td></tr><tr><th>11</th><td>1.81e-6</td><td>2</td><td>100</td><td>beta</td><td>Gaussian with Identity Link</td></tr><tr><th>12</th><td>8.41e-5</td><td>2</td><td>100</td><td>beta</td><td>Gaussian with Identity Link</td></tr><tr><th>13</th><td>1.36e-5</td><td>2</td><td>100</td><td>beta</td><td>Gaussian with Identity Link</td></tr><tr><th>14</th><td>9.85e-6</td><td>2</td><td>100</td><td>beta</td><td>Gaussian with Identity Link</td></tr><tr><th>15</th><td>0.000134395</td><td>2</td><td>100</td><td>beta</td><td>Gaussian with Identity Link</td></tr><tr><th>16</th><td>4.86e-5</td><td>2</td><td>100</td><td>beta</td><td>Gaussian with Identity Link</td></tr><tr><th>17</th><td>2.94e-5</td><td>2</td><td>100</td><td>beta</td><td>Gaussian with Identity Link</td></tr><tr><th>18</th><td>5.85e-5</td><td>2</td><td>100</td><td>beta</td><td>Gaussian with Identity Link</td></tr><tr><th>19</th><td>1.7e-5</td><td>2</td><td>100</td><td>beta</td><td>Gaussian with Identity Link</td></tr><tr><th>20</th><td>3.76e-5</td><td>2</td><td>100</td><td>beta</td><td>Gaussian with Identity Link</td></tr><tr><th>21</th><td>3.64e-5</td><td>2</td><td>100</td><td>beta</td><td>Gaussian with Identity Link</td></tr><tr><th>22</th><td>5.42e-5</td><td>2</td><td>100</td><td>beta</td><td>Gaussian with Identity Link</td></tr><tr><th>23</th><td>1.55e-5</td><td>2</td><td>100</td><td>beta</td><td>Gaussian with Identity Link</td></tr><tr><th>24</th><td>3.35e-5</td><td>2</td><td>100</td><td>beta</td><td>Gaussian with Identity Link</td></tr><tr><th>25</th><td>9.87e-6</td><td>2</td><td>100</td><td>beta</td><td>Gaussian with Identity Link</td></tr><tr><th>26</th><td>7.79e-5</td><td>2</td><td>100</td><td>beta</td><td>Gaussian with Identity Link</td></tr><tr><th>27</th><td>4.59e-5</td><td>2</td><td>100</td><td>beta</td><td>Gaussian with Identity Link</td></tr><tr><th>28</th><td>0.000105435</td><td>2</td><td>100</td><td>beta</td><td>Gaussian with Identity Link</td></tr><tr><th>29</th><td>0.000131994</td><td>2</td><td>100</td><td>beta</td><td>Gaussian with Identity Link</td></tr><tr><th>30</th><td>7.01e-5</td><td>2</td><td>100</td><td>beta</td><td>Gaussian with Identity Link</td></tr><tr><th>&vellip;</th><td>&vellip;</td><td>&vellip;</td><td>&vellip;</td><td>&vellip;</td><td>&vellip;</td></tr></tbody></table></div>"
      ],
      "text/latex": [
       "\\begin{tabular}{r|ccccc}\n",
       "\t& mse & obssize & samplesize & parameters & labels\\\\\n",
       "\t\\hline\n",
       "\t& Float64 & String & String & String & String\\\\\n",
       "\t\\hline\n",
       "\t1 & 3.14e-5 & 2 & 100 & beta & Gaussian with Identity Link \\\\\n",
       "\t2 & 2.11e-5 & 2 & 100 & beta & Gaussian with Identity Link \\\\\n",
       "\t3 & 4.49e-5 & 2 & 100 & beta & Gaussian with Identity Link \\\\\n",
       "\t4 & 6.28e-6 & 2 & 100 & beta & Gaussian with Identity Link \\\\\n",
       "\t5 & 1.65e-5 & 2 & 100 & beta & Gaussian with Identity Link \\\\\n",
       "\t6 & 0.000104425 & 2 & 100 & beta & Gaussian with Identity Link \\\\\n",
       "\t7 & 5.21e-5 & 2 & 100 & beta & Gaussian with Identity Link \\\\\n",
       "\t8 & 0.000120595 & 2 & 100 & beta & Gaussian with Identity Link \\\\\n",
       "\t9 & 0.000187695 & 2 & 100 & beta & Gaussian with Identity Link \\\\\n",
       "\t10 & 0.000102819 & 2 & 100 & beta & Gaussian with Identity Link \\\\\n",
       "\t11 & 1.81e-6 & 2 & 100 & beta & Gaussian with Identity Link \\\\\n",
       "\t12 & 8.41e-5 & 2 & 100 & beta & Gaussian with Identity Link \\\\\n",
       "\t13 & 1.36e-5 & 2 & 100 & beta & Gaussian with Identity Link \\\\\n",
       "\t14 & 9.85e-6 & 2 & 100 & beta & Gaussian with Identity Link \\\\\n",
       "\t15 & 0.000134395 & 2 & 100 & beta & Gaussian with Identity Link \\\\\n",
       "\t16 & 4.86e-5 & 2 & 100 & beta & Gaussian with Identity Link \\\\\n",
       "\t17 & 2.94e-5 & 2 & 100 & beta & Gaussian with Identity Link \\\\\n",
       "\t18 & 5.85e-5 & 2 & 100 & beta & Gaussian with Identity Link \\\\\n",
       "\t19 & 1.7e-5 & 2 & 100 & beta & Gaussian with Identity Link \\\\\n",
       "\t20 & 3.76e-5 & 2 & 100 & beta & Gaussian with Identity Link \\\\\n",
       "\t21 & 3.64e-5 & 2 & 100 & beta & Gaussian with Identity Link \\\\\n",
       "\t22 & 5.42e-5 & 2 & 100 & beta & Gaussian with Identity Link \\\\\n",
       "\t23 & 1.55e-5 & 2 & 100 & beta & Gaussian with Identity Link \\\\\n",
       "\t24 & 3.35e-5 & 2 & 100 & beta & Gaussian with Identity Link \\\\\n",
       "\t25 & 9.87e-6 & 2 & 100 & beta & Gaussian with Identity Link \\\\\n",
       "\t26 & 7.79e-5 & 2 & 100 & beta & Gaussian with Identity Link \\\\\n",
       "\t27 & 4.59e-5 & 2 & 100 & beta & Gaussian with Identity Link \\\\\n",
       "\t28 & 0.000105435 & 2 & 100 & beta & Gaussian with Identity Link \\\\\n",
       "\t29 & 0.000131994 & 2 & 100 & beta & Gaussian with Identity Link \\\\\n",
       "\t30 & 7.01e-5 & 2 & 100 & beta & Gaussian with Identity Link \\\\\n",
       "\t$\\dots$ & $\\dots$ & $\\dots$ & $\\dots$ & $\\dots$ & $\\dots$ \\\\\n",
       "\\end{tabular}\n"
      ],
      "text/plain": [
       "\u001b[1m7068×5 DataFrame\u001b[0m\n",
       "\u001b[1m  Row \u001b[0m│\u001b[1m mse         \u001b[0m\u001b[1m obssize \u001b[0m\u001b[1m samplesize \u001b[0m\u001b[1m parameters \u001b[0m\u001b[1m labels                  \u001b[0m ⋯\n",
       "\u001b[1m      \u001b[0m│\u001b[90m Float64     \u001b[0m\u001b[90m String  \u001b[0m\u001b[90m String     \u001b[0m\u001b[90m String     \u001b[0m\u001b[90m String                  \u001b[0m ⋯\n",
       "──────┼─────────────────────────────────────────────────────────────────────────\n",
       "    1 │ 3.14e-5      2        100         beta        Gaussian with Identity L ⋯\n",
       "    2 │ 2.11e-5      2        100         beta        Gaussian with Identity L\n",
       "    3 │ 4.49e-5      2        100         beta        Gaussian with Identity L\n",
       "    4 │ 6.28e-6      2        100         beta        Gaussian with Identity L\n",
       "    5 │ 1.65e-5      2        100         beta        Gaussian with Identity L ⋯\n",
       "    6 │ 0.000104425  2        100         beta        Gaussian with Identity L\n",
       "    7 │ 5.21e-5      2        100         beta        Gaussian with Identity L\n",
       "    8 │ 0.000120595  2        100         beta        Gaussian with Identity L\n",
       "    9 │ 0.000187695  2        100         beta        Gaussian with Identity L ⋯\n",
       "   10 │ 0.000102819  2        100         beta        Gaussian with Identity L\n",
       "   11 │ 1.81e-6      2        100         beta        Gaussian with Identity L\n",
       "  ⋮   │      ⋮          ⋮         ⋮           ⋮                    ⋮           ⋱\n",
       " 7059 │ 0.000101727  25       10000       tau         Gaussian with Identity L\n",
       " 7060 │ 0.000144139  25       10000       tau         Gaussian with Identity L ⋯\n",
       " 7061 │ 3.67672e-9   25       10000       tau         Gaussian with Identity L\n",
       " 7062 │ 6.7743e-5    25       10000       tau         Gaussian with Identity L\n",
       " 7063 │ 7.46309e-6   25       10000       tau         Gaussian with Identity L\n",
       " 7064 │ 7.07846e-5   25       10000       tau         Gaussian with Identity L ⋯\n",
       " 7065 │ 6.06614e-5   25       10000       tau         Gaussian with Identity L\n",
       " 7066 │ 9.06706e-5   25       10000       tau         Gaussian with Identity L\n",
       " 7067 │ 6.38556e-7   25       10000       tau         Gaussian with Identity L\n",
       " 7068 │ 3.1929e-5    25       10000       tau         Gaussian with Identity L ⋯\n",
       "\u001b[36m                                                  1 column and 7047 rows omitted\u001b[0m"
      ]
     },
     "execution_count": 9,
     "metadata": {},
     "output_type": "execute_result"
    }
   ],
   "source": [
    "#### \n",
    "#import data and reorganize to create figure\n",
    "using Random, DataFrames, DelimitedFiles, Statistics, RCall, Printf\n",
    "import StatsBase: sem\n",
    "\n",
    "βMseresult_1 = vec(readdlm(\"mse_beta_multivariate_normal_AR$(nsims)reps_sim.csv\", ','))\n",
    "σ2MseResult_1 = vec(readdlm(\"mse_sigma_multivariate_normal_AR$(nsims)reps_sim.csv\", ','))\n",
    "ρMseResult_1 = vec(readdlm(\"mse_rho_multivariate_normal_AR$(nsims)reps_sim.csv\", ','))\n",
    "τMseResult_1 = vec(readdlm(\"mse_tau_multivariate_normal_AR$(nsims)reps_sim.csv\", ','))\n",
    "βρσ2τcoverage_1 = readdlm(\"beta_rho_sigma_coverage_multivariate_normal_AR$(nsims)reps_sim.csv\", ',')\n",
    "\n",
    "p = 3\n",
    "sample_sizes = repeat(string.(samplesizes), inner = nsims * length(ns))\n",
    "obs_sizes = repeat(string.(ns), inner = nsims, outer = length(samplesizes))\n",
    "msedf = DataFrame(βmse = βMseresult_1, σ2mse = σ2MseResult_1, ρmse = ρMseResult_1, τmse = τMseResult_1,\n",
    "    samplesize = sample_sizes, obssize = obs_sizes)\n",
    "\n",
    "\n",
    "msedf = deepcopy(msedf)\n",
    "rename!(msedf, [\"betamse\"\n",
    "    \"sigmamse\"\n",
    "        \"rhomse\"\n",
    "        \"taumse\"\n",
    "    \"samplesize\"\n",
    " \"obssize\"]);\n",
    "\n",
    "mses = [msedf[!, :betamse]; msedf[!, :sigmamse] ; msedf[!, :rhomse]; msedf[!, :taumse]]\n",
    "\n",
    "obssize = collect([repeat(msedf[!, :obssize], 4)]...) \n",
    "\n",
    "samplesize = collect([repeat(msedf[!, :samplesize], 4)]...) \n",
    "\n",
    "parameters = collect([repeat(string.([:beta, :sigma, :rho, :tau]), inner = nsims * length(ns) * length(samplesizes))]...)\n",
    "\n",
    "labels = collect([repeat([\"Gaussian with Identity Link\"], 4 * nsims * length(ns) * length(samplesizes))]...) # ;\n",
    "\n",
    "mse_df = DataFrame(mse = mses, obssize = obssize, samplesize = samplesize,\n",
    "    parameters = parameters, labels = labels)\n",
    "\n",
    "#5 of the 30,000 simulations did not converge, filter out\n",
    "mse_df = filter(x -> !isnan(x.mse), mse_df)\n",
    "# additionally, there are 5 where an error was not caught so it did not try a differnt solver\n",
    "mse_df = filter(x -> x.mse < 40000, mse_df)"
   ]
  },
  {
   "cell_type": "code",
   "execution_count": 10,
   "metadata": {},
   "outputs": [
    {
     "name": "stderr",
     "output_type": "stream",
     "text": [
      "┌ Warning: RCall.jl: Warning: package ‘scales’ was built under R version 4.0.2\n",
      "└ @ RCall /Users/sarahji/.julia/packages/RCall/iMDW2/src/io.jl:160\n",
      "┌ Warning: RCall.jl: Warning: package ‘ggplot2’ was built under R version 4.0.2\n",
      "└ @ RCall /Users/sarahji/.julia/packages/RCall/iMDW2/src/io.jl:160\n",
      "┌ Warning: RCall.jl: Warning: package ‘data.table’ was built under R version 4.0.2\n",
      "└ @ RCall /Users/sarahji/.julia/packages/RCall/iMDW2/src/io.jl:160\n"
     ]
    },
    {
     "data": {
      "image/png": "[encoded data removed]"
     },
     "metadata": {},
     "output_type": "display_data"
    },
    {
     "data": {
      "text/plain": [
       "RObject{VecSxp}\n"
      ]
     },
     "execution_count": 10,
     "metadata": {},
     "output_type": "execute_result"
    }
   ],
   "source": [
    "### working on figure next\n",
    "@rput mse_df\n",
    "\n",
    "R\"\"\"\n",
    "library(scales)\n",
    "library(ggplot2)\n",
    "library(data.table)\n",
    "\n",
    "msedfR = data.table(mse_df)\n",
    "\n",
    "msedfR[parameters == \"beta\",y_min := 10^-4]\n",
    "msedfR[parameters == \"beta\",y_max := 10^-2]\n",
    "msedfR[parameters == \"sigma\",y_min := 10^-5]\n",
    "msedfR[parameters == \"sigma\",y_max := 10^1]\n",
    "msedfR[parameters == \"rho\",y_min := 10^-5]\n",
    "msedfR[parameters == \"rho\",y_max := 10^-2]\n",
    "msedfR[parameters == \"tau\",y_min := 10^-5]\n",
    "msedfR[parameters == \"tau\",y_max := 10^2]\n",
    "\n",
    "\n",
    "msedfR$obssize = factor(msedfR$obssize, levels = c('2', '5', '10', '15', '20', '25'))\n",
    "msedfR$samplesize = factor(msedfR$samplesize, levels = c('100', '1000', '10000'))\n",
    "msedfR$parameters = factor(msedfR$parameters, levels = c('beta', 'sigma', 'rho', 'tau'), labels = c(beta = expression(hat(bold(beta))), Sigma = expression(hat(bold(sigma))[]), rho = expression(hat(bold(rho))), tau = expression(hat(bold(tau)))))\n",
    "msedfR$robust = factor(msedfR$labels, levels = c('Gaussian with Identity Link'),\n",
    "    labels = c(expression(paste(\"Gaussian with Identity Link\")))) # , expression(paste(\"MvT Gamma Inverse-Gamma\"))))\n",
    "\n",
    "\n",
    "\n",
    "mseplot = ggplot(msedfR[msedfR$mse < 10^3, ], aes(x=samplesize, y=mse, fill=obssize)) + \n",
    "  geom_boxplot(outlier.size = 0.25) +\n",
    "    facet_grid(parameters ~ robust, labeller = label_parsed, scales = \"free_y\") +\n",
    "  theme(legend.position=\"right\", legend.key = element_blank(), axis.text.x = element_text(angle=0, size=11),\n",
    "        axis.text.y = element_text(angle=0, size=12), axis.title.x = element_text(size = 15), \n",
    "        axis.title.y = element_text(size = 15), legend.title = element_text(size = 12),\n",
    "        panel.grid.major = element_blank(), panel.grid.minor = element_blank(),\n",
    "        legend.text=element_text(size=10), panel.background = element_rect(fill = NA, color = \"black\"),\n",
    "        #panel.background = element_blank(), #panel.border = element_blank(),\n",
    "        axis.line = element_line(color = 'black',size=0.3), plot.title = element_text(hjust = 0.5),\n",
    "        strip.background = element_rect(colour=\"black\", fill=\"white\"), strip.text.y = element_text(size=15, face=\"bold\"),\n",
    "        strip.text.x = element_text(size=15)) + \n",
    "  scale_fill_manual(values = c(\"#c85f55\",\n",
    "\"#a964bf\",\n",
    "\"#8db352\",\n",
    "\"#fa7300\",\n",
    "\"#05aec0\",\n",
    "\"#ff1493\")) +\n",
    "#scale_y_log10(breaks = scales::trans_breaks(\"log10\", function(x) 10^x)) +\n",
    "#scale_y_log10(breaks = 10^(-8:8), limit=c(10^-8, 10^2)) + \n",
    "scale_y_log10(breaks = 10^seq(-8, 8, 2), labels=trans_format(\"log10\", math_format(10^.x))) + #, limit=c(10^-8, 10^2)) +\n",
    "  labs(x = \"Number of Individuals\", y = \"MSE of Parameter Estimates\", fill = \"Obs per Individual\") +\n",
    "geom_blank(aes(y = y_max)) + \n",
    "geom_blank(aes(y = y_min)) \n",
    "\n",
    "\"\"\""
   ]
  },
  {
   "cell_type": "code",
   "execution_count": 11,
   "metadata": {},
   "outputs": [
    {
     "data": {
      "text/plain": [
       "RObject{StrSxp}\n",
       "[1] \"updated_msefacetplot_Normal_AR.png\"\n"
      ]
     },
     "execution_count": 11,
     "metadata": {},
     "output_type": "execute_result"
    }
   ],
   "source": [
    "R\"\"\"\n",
    "ggsave('updated_msefacetplot_Normal_AR.png', mseplot, width = 12.5, height = 15, units = 'in', dpi = 450)\n",
    "\"\"\""
   ]
  },
  {
   "cell_type": "code",
   "execution_count": null,
   "metadata": {},
   "outputs": [],
   "source": []
  }
 ],
 "metadata": {
  "@webio": {
   "lastCommId": null,
   "lastKernelId": null
  },
  "kernelspec": {
   "display_name": "Julia 1.6.2",
   "language": "julia",
   "name": "julia-1.6"
  },
  "language_info": {
   "file_extension": ".jl",
   "mimetype": "application/julia",
   "name": "julia",
   "version": "1.6.2"
  }
 },
 "nbformat": 4,
 "nbformat_minor": 2
}
