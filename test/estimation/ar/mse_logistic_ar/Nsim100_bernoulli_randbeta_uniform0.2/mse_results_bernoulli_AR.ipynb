{
 "cells": [
  {
   "cell_type": "markdown",
   "metadata": {},
   "source": [
    "## Bernoulli AR Run-time and MSE Results \n",
    "\n",
    "This notebook goes over the code needed to reproduce the results from the MSE and time figures in the first simulation in the paper. \n",
    "\n",
    "In this example simulate three fixed effects $\\beta \\sim$ rand(Uniform(-0.2, 0.2), p) where p = 3 fixed effects.\n",
    "\n",
    "In this example we have bernoulli base distribution with Logit Link function and covariance matrix $\\Gamma$ structured under AR covariance with $\\rho = 0.9, \\sigma^2 = 0.5$\n",
    "\n",
    "We run each scenario 100 times."
   ]
  },
  {
   "cell_type": "code",
   "execution_count": 1,
   "metadata": {},
   "outputs": [
    {
     "name": "stdout",
     "output_type": "stream",
     "text": [
      "Julia Version 1.6.2\n",
      "Commit 1b93d53fc4 (2021-07-14 15:36 UTC)\n",
      "Platform Info:\n",
      "  OS: macOS (x86_64-apple-darwin18.7.0)\n",
      "  CPU: Intel(R) Core(TM) i9-9880H CPU @ 2.30GHz\n",
      "  WORD_SIZE: 64\n",
      "  LIBM: libopenlibm\n",
      "  LLVM: libLLVM-11.0.1 (ORCJIT, skylake)\n"
     ]
    }
   ],
   "source": [
    "versioninfo()"
   ]
  },
  {
   "cell_type": "code",
   "execution_count": 2,
   "metadata": {},
   "outputs": [],
   "source": [
    "using GLMCopula, DelimitedFiles, LinearAlgebra, Random, GLM\n",
    "using Random, Roots, SpecialFunctions, DataFrames"
   ]
  },
  {
   "cell_type": "code",
   "execution_count": 3,
   "metadata": {},
   "outputs": [
    {
     "data": {
      "text/plain": [
       "100"
      ]
     },
     "execution_count": 3,
     "metadata": {},
     "output_type": "execute_result"
    }
   ],
   "source": [
    "p  = 3    # number of fixed effects, including intercept\n",
    "\n",
    "# true parameter values\n",
    "Random.seed!(1234)\n",
    "βtrue = rand(Uniform(-0.2, 0.2), p)\n",
    "σ2true = [0.5]\n",
    "ρtrue = [0.9]\n",
    "\n",
    "# generate data\n",
    "trueparams = [βtrue; σ2true; ρtrue] #hold true parameters\n",
    "\n",
    "#simulation parameters\n",
    "samplesizes = [100; 1000; 10000]\n",
    "ns = [2; 5; 10; 15; 20; 25]\n",
    "nsims = 100"
   ]
  },
  {
   "cell_type": "code",
   "execution_count": 4,
   "metadata": {},
   "outputs": [
    {
     "name": "stderr",
     "output_type": "stream",
     "text": [
      "┌ Info: reading in the files with results\n",
      "└ @ Main In[4]:1\n"
     ]
    },
    {
     "data": {
      "text/plain": [
       "1800-element Vector{Float64}:\n",
       "  0.389543179\n",
       "  0.18051212\n",
       "  0.097311296\n",
       "  0.210335628\n",
       "  0.216687594\n",
       "  0.151778006\n",
       "  0.248239033\n",
       "  0.606794302\n",
       "  0.231362739\n",
       "  0.198211304\n",
       "  0.196644614\n",
       "  0.288790834\n",
       "  0.13299068\n",
       "  ⋮\n",
       " 11.954210338\n",
       " 15.093174455\n",
       " 14.455785296\n",
       " 12.555328585\n",
       "  9.628820017\n",
       " 10.683821448\n",
       "  7.689596889\n",
       "  8.435848376\n",
       "  6.562914734\n",
       " 15.775155462\n",
       " 12.505011356\n",
       " 11.757139867"
      ]
     },
     "execution_count": 4,
     "metadata": {},
     "output_type": "execute_result"
    }
   ],
   "source": [
    "@info \"reading in the files with results\"\n",
    "βMseresult = vec(readdlm(\"mse_beta_multivariate_bernoulli_AR$(nsims)reps_sim.csv\", ','))\n",
    "σ2MseResult = vec(readdlm(\"mse_sigma_multivariate_bernoulli_AR$(nsims)reps_sim.csv\", ','))\n",
    "ρMseResult = vec(readdlm(\"mse_rho_multivariate_bernoulli_AR$(nsims)reps_sim.csv\", ','))\n",
    "fittimes = vec(readdlm(\"fittimes_multivariate_bernoulli_AR$(nsims)reps_sim.csv\", ','))"
   ]
  },
  {
   "cell_type": "code",
   "execution_count": 5,
   "metadata": {},
   "outputs": [
    {
     "name": "stderr",
     "output_type": "stream",
     "text": [
      "┌ Info: making results table\n",
      "└ @ Main In[5]:2\n"
     ]
    },
    {
     "data": {
      "text/html": [
       "<div class=\"data-frame\"><p>18 rows × 8 columns</p><table class=\"data-frame\"><thead><tr><th></th><th>samplesize</th><th>obssize</th><th>fittime</th><th>se</th><th>nobs</th><th>fitmin</th><th>fitmax</th><th>perobsratio</th></tr><tr><th></th><th title=\"String\">String</th><th title=\"String\">String</th><th title=\"Float64\">Float64</th><th title=\"Float64\">Float64</th><th title=\"Int64\">Int64</th><th title=\"Float64\">Float64</th><th title=\"Float64\">Float64</th><th title=\"Float64\">Float64</th></tr></thead><tbody><tr><th>1</th><td>100</td><td>2</td><td>0.226316</td><td>0.0101645</td><td>200</td><td>0.216152</td><td>0.236481</td><td>0.00113158</td></tr><tr><th>2</th><td>100</td><td>5</td><td>0.231773</td><td>0.0126901</td><td>500</td><td>0.219083</td><td>0.244463</td><td>0.000463546</td></tr><tr><th>3</th><td>100</td><td>10</td><td>0.272942</td><td>0.0144025</td><td>1000</td><td>0.25854</td><td>0.287345</td><td>0.000272942</td></tr><tr><th>4</th><td>100</td><td>15</td><td>0.426372</td><td>0.0221631</td><td>1500</td><td>0.404209</td><td>0.448536</td><td>0.000284248</td></tr><tr><th>5</th><td>100</td><td>20</td><td>0.441378</td><td>0.0227629</td><td>2000</td><td>0.418615</td><td>0.464141</td><td>0.000220689</td></tr><tr><th>6</th><td>100</td><td>25</td><td>0.466568</td><td>0.022847</td><td>2500</td><td>0.443721</td><td>0.489415</td><td>0.000186627</td></tr><tr><th>7</th><td>1000</td><td>2</td><td>0.43803</td><td>0.0140098</td><td>2000</td><td>0.42402</td><td>0.45204</td><td>0.000219015</td></tr><tr><th>8</th><td>1000</td><td>5</td><td>0.355144</td><td>0.0107474</td><td>5000</td><td>0.344397</td><td>0.365892</td><td>7.10288e-5</td></tr><tr><th>9</th><td>1000</td><td>10</td><td>0.486</td><td>0.0142187</td><td>10000</td><td>0.471781</td><td>0.500219</td><td>4.86e-5</td></tr><tr><th>10</th><td>1000</td><td>15</td><td>0.730112</td><td>0.022408</td><td>15000</td><td>0.707704</td><td>0.75252</td><td>4.86741e-5</td></tr><tr><th>11</th><td>1000</td><td>20</td><td>0.955419</td><td>0.030335</td><td>20000</td><td>0.925084</td><td>0.985754</td><td>4.77709e-5</td></tr><tr><th>12</th><td>1000</td><td>25</td><td>1.34348</td><td>0.0504187</td><td>25000</td><td>1.29306</td><td>1.39389</td><td>5.3739e-5</td></tr><tr><th>13</th><td>10000</td><td>2</td><td>2.82064</td><td>0.0756668</td><td>20000</td><td>2.74498</td><td>2.89631</td><td>0.000141032</td></tr><tr><th>14</th><td>10000</td><td>5</td><td>3.07758</td><td>0.100733</td><td>50000</td><td>2.97684</td><td>3.17831</td><td>6.15515e-5</td></tr><tr><th>15</th><td>10000</td><td>10</td><td>3.96096</td><td>0.102172</td><td>100000</td><td>3.85879</td><td>4.06313</td><td>3.96096e-5</td></tr><tr><th>16</th><td>10000</td><td>15</td><td>5.47881</td><td>0.148686</td><td>150000</td><td>5.33013</td><td>5.6275</td><td>3.65254e-5</td></tr><tr><th>17</th><td>10000</td><td>20</td><td>7.82935</td><td>0.201001</td><td>200000</td><td>7.62835</td><td>8.03035</td><td>3.91468e-5</td></tr><tr><th>18</th><td>10000</td><td>25</td><td>10.4385</td><td>0.260182</td><td>250000</td><td>10.1783</td><td>10.6987</td><td>4.17539e-5</td></tr></tbody></table></div>"
      ],
      "text/latex": [
       "\\begin{tabular}{r|cccccccc}\n",
       "\t& samplesize & obssize & fittime & se & nobs & fitmin & fitmax & perobsratio\\\\\n",
       "\t\\hline\n",
       "\t& String & String & Float64 & Float64 & Int64 & Float64 & Float64 & Float64\\\\\n",
       "\t\\hline\n",
       "\t1 & 100 & 2 & 0.226316 & 0.0101645 & 200 & 0.216152 & 0.236481 & 0.00113158 \\\\\n",
       "\t2 & 100 & 5 & 0.231773 & 0.0126901 & 500 & 0.219083 & 0.244463 & 0.000463546 \\\\\n",
       "\t3 & 100 & 10 & 0.272942 & 0.0144025 & 1000 & 0.25854 & 0.287345 & 0.000272942 \\\\\n",
       "\t4 & 100 & 15 & 0.426372 & 0.0221631 & 1500 & 0.404209 & 0.448536 & 0.000284248 \\\\\n",
       "\t5 & 100 & 20 & 0.441378 & 0.0227629 & 2000 & 0.418615 & 0.464141 & 0.000220689 \\\\\n",
       "\t6 & 100 & 25 & 0.466568 & 0.022847 & 2500 & 0.443721 & 0.489415 & 0.000186627 \\\\\n",
       "\t7 & 1000 & 2 & 0.43803 & 0.0140098 & 2000 & 0.42402 & 0.45204 & 0.000219015 \\\\\n",
       "\t8 & 1000 & 5 & 0.355144 & 0.0107474 & 5000 & 0.344397 & 0.365892 & 7.10288e-5 \\\\\n",
       "\t9 & 1000 & 10 & 0.486 & 0.0142187 & 10000 & 0.471781 & 0.500219 & 4.86e-5 \\\\\n",
       "\t10 & 1000 & 15 & 0.730112 & 0.022408 & 15000 & 0.707704 & 0.75252 & 4.86741e-5 \\\\\n",
       "\t11 & 1000 & 20 & 0.955419 & 0.030335 & 20000 & 0.925084 & 0.985754 & 4.77709e-5 \\\\\n",
       "\t12 & 1000 & 25 & 1.34348 & 0.0504187 & 25000 & 1.29306 & 1.39389 & 5.3739e-5 \\\\\n",
       "\t13 & 10000 & 2 & 2.82064 & 0.0756668 & 20000 & 2.74498 & 2.89631 & 0.000141032 \\\\\n",
       "\t14 & 10000 & 5 & 3.07758 & 0.100733 & 50000 & 2.97684 & 3.17831 & 6.15515e-5 \\\\\n",
       "\t15 & 10000 & 10 & 3.96096 & 0.102172 & 100000 & 3.85879 & 4.06313 & 3.96096e-5 \\\\\n",
       "\t16 & 10000 & 15 & 5.47881 & 0.148686 & 150000 & 5.33013 & 5.6275 & 3.65254e-5 \\\\\n",
       "\t17 & 10000 & 20 & 7.82935 & 0.201001 & 200000 & 7.62835 & 8.03035 & 3.91468e-5 \\\\\n",
       "\t18 & 10000 & 25 & 10.4385 & 0.260182 & 250000 & 10.1783 & 10.6987 & 4.17539e-5 \\\\\n",
       "\\end{tabular}\n"
      ],
      "text/plain": [
       "\u001b[1m18×8 DataFrame\u001b[0m\n",
       "\u001b[1m Row \u001b[0m│\u001b[1m samplesize \u001b[0m\u001b[1m obssize \u001b[0m\u001b[1m fittime   \u001b[0m\u001b[1m se        \u001b[0m\u001b[1m nobs   \u001b[0m\u001b[1m fitmin    \u001b[0m\u001b[1m fitmax   \u001b[0m ⋯\n",
       "\u001b[1m     \u001b[0m│\u001b[90m String     \u001b[0m\u001b[90m String  \u001b[0m\u001b[90m Float64   \u001b[0m\u001b[90m Float64   \u001b[0m\u001b[90m Int64  \u001b[0m\u001b[90m Float64   \u001b[0m\u001b[90m Float64  \u001b[0m ⋯\n",
       "─────┼──────────────────────────────────────────────────────────────────────────\n",
       "   1 │ 100         2         0.226316  0.0101645     200   0.216152   0.236481 ⋯\n",
       "   2 │ 100         5         0.231773  0.0126901     500   0.219083   0.244463\n",
       "   3 │ 100         10        0.272942  0.0144025    1000   0.25854    0.287345\n",
       "   4 │ 100         15        0.426372  0.0221631    1500   0.404209   0.448536\n",
       "   5 │ 100         20        0.441378  0.0227629    2000   0.418615   0.464141 ⋯\n",
       "   6 │ 100         25        0.466568  0.022847     2500   0.443721   0.489415\n",
       "   7 │ 1000        2         0.43803   0.0140098    2000   0.42402    0.45204\n",
       "   8 │ 1000        5         0.355144  0.0107474    5000   0.344397   0.365892\n",
       "   9 │ 1000        10        0.486     0.0142187   10000   0.471781   0.500219 ⋯\n",
       "  10 │ 1000        15        0.730112  0.022408    15000   0.707704   0.75252\n",
       "  11 │ 1000        20        0.955419  0.030335    20000   0.925084   0.985754\n",
       "  12 │ 1000        25        1.34348   0.0504187   25000   1.29306    1.39389\n",
       "  13 │ 10000       2         2.82064   0.0756668   20000   2.74498    2.89631  ⋯\n",
       "  14 │ 10000       5         3.07758   0.100733    50000   2.97684    3.17831\n",
       "  15 │ 10000       10        3.96096   0.102172   100000   3.85879    4.06313\n",
       "  16 │ 10000       15        5.47881   0.148686   150000   5.33013    5.6275\n",
       "  17 │ 10000       20        7.82935   0.201001   200000   7.62835    8.03035  ⋯\n",
       "  18 │ 10000       25       10.4385    0.260182   250000  10.1783    10.6987\n",
       "\u001b[36m                                                                1 column omitted\u001b[0m"
      ]
     },
     "execution_count": 5,
     "metadata": {},
     "output_type": "execute_result"
    }
   ],
   "source": [
    "#simulation parameters\n",
    "@info \"making results table\"\n",
    "sample_sizes = repeat(string.(samplesizes), inner = nsims * length(ns))\n",
    "obs_sizes = repeat(string.(ns), inner = nsims, outer = length(samplesizes))\n",
    "\n",
    "msedf = DataFrame(βmse = βMseresult, σ2mse = σ2MseResult, ρmse = ρMseResult,\n",
    "    samplesize = sample_sizes, obssize = obs_sizes, fittimes = fittimes)\n",
    "timedf = combine(groupby(msedf, [:samplesize, :obssize]), :fittimes => mean => :fittime,\n",
    "    :fittimes => x -> (std(x)/sqrt(length(x))))\n",
    "rename!(timedf, Dict(:fittimes_function => \"se\"))\n",
    "timedf[!, :nobs] = Meta.parse.(timedf[!, :samplesize]) .* Meta.parse.(timedf[!, :obssize])\n",
    "timedf[!, :fitmin] = timedf[!, :fittime] - timedf[!, :se]\n",
    "timedf[!, :fitmax] = timedf[!, :fittime] + timedf[!, :se]\n",
    "timedf[!, :perobsratio] = timedf[!, :fittime] ./ timedf[!, :nobs]\n",
    "timedf"
   ]
  },
  {
   "cell_type": "code",
   "execution_count": 6,
   "metadata": {},
   "outputs": [
    {
     "name": "stderr",
     "output_type": "stream",
     "text": [
      "┌ Warning: RCall.jl: Warning: package ‘ggplot2’ was built under R version 4.0.2\n",
      "└ @ RCall /Users/sarahji/.julia/packages/RCall/iMDW2/src/io.jl:160\n"
     ]
    },
    {
     "data": {
      "image/png": "[encoded data removed]"
     },
     "metadata": {},
     "output_type": "display_data"
    },
    {
     "data": {
      "text/plain": [
       "RObject{VecSxp}\n"
      ]
     },
     "execution_count": 6,
     "metadata": {},
     "output_type": "execute_result"
    }
   ],
   "source": [
    "########### plot the runtimes\n",
    "using RCall\n",
    "@rput timedf\n",
    "\n",
    "R\"\"\"\n",
    "library(ggplot2)\n",
    "timedf$obssize = factor(timedf$obssize, levels = c('2', '5', '10', '15', '20', '25'))\n",
    "timedf$samplesize = factor(timedf$samplesize, levels = c('100', '1000', '10000'))\n",
    "\n",
    "fittime_1 = ggplot(timedf, aes(x = samplesize, y = fittime, group = obssize, color = obssize)) + \n",
    "  geom_line() +\n",
    "  geom_point()+\n",
    "  geom_errorbar(aes(ymin=fitmin, ymax=fitmax), width=0.5, alpha = 0.8, position=position_dodge(0.005)) + \n",
    "  theme(legend.position=c(0.15,0.85), legend.key = element_blank(), axis.text.x = element_text(angle=0, size=13),\n",
    "        axis.text.y = element_text(angle=0, size=13), axis.title.x = element_text(size = 17), \n",
    "        axis.title.y = element_text(size = 17), legend.title = element_text(size = 14),\n",
    "        #axis.ticks = element_blank(),\n",
    "        panel.grid.major = element_blank(), legend.text=element_text(size=13),\n",
    "        panel.border = element_blank(), panel.grid.minor = element_blank(), panel.background = element_blank(), \n",
    "        axis.line = element_line(color = 'black',size=0.3), plot.title = element_text(hjust = 0.5)) + \n",
    "   scale_color_manual(values = c(\"#c85f55\",\n",
    "\"#a964bf\",\n",
    "\"#8db352\",\n",
    "\"#fa7300\",\n",
    "\"#05aec0\",\n",
    "\"#ff1493\")) +\n",
    "  labs(x = \"Number of Individuals\", y = \"Fit time (seconds)\", color = \"Obs per Individual\")\n",
    "\"\"\""
   ]
  },
  {
   "cell_type": "code",
   "execution_count": 7,
   "metadata": {},
   "outputs": [
    {
     "data": {
      "text/plain": [
       "RObject{StrSxp}\n",
       "[1] \"fittime_nobs_bernoulli_AR.png\"\n"
      ]
     },
     "execution_count": 7,
     "metadata": {},
     "output_type": "execute_result"
    }
   ],
   "source": [
    "R\"\"\"\n",
    "ggsave('fittime_nobs_bernoulli_AR.png', fittime_1, width = 12.5, height = 15, units = 'in', dpi = 450)\n",
    "\"\"\""
   ]
  },
  {
   "cell_type": "code",
   "execution_count": 8,
   "metadata": {},
   "outputs": [
    {
     "data": {
      "text/html": [
       "<div class=\"data-frame\"><p>18 rows × 6 columns (omitted printing of 1 columns)</p><table class=\"data-frame\"><thead><tr><th></th><th>people_obs</th><th>β1</th><th>β2</th><th>β3</th><th>σ2</th></tr><tr><th></th><th title=\"String\">String</th><th title=\"Tuple{Float64, Float64}\">Tuple…</th><th title=\"Tuple{Float64, Float64}\">Tuple…</th><th title=\"Tuple{Float64, Float64}\">Tuple…</th><th title=\"Tuple{Float64, Float64}\">Tuple…</th></tr></thead><tbody><tr><th>1</th><td>N: 100  ni: 2</td><td>(0.68, 0.0468826)</td><td>(0.67, 0.0472582)</td><td>(0.72, 0.0451261)</td><td>(0.67, 0.0472582)</td></tr><tr><th>2</th><td>N: 100  ni: 5</td><td>(0.75, 0.0435194)</td><td>(0.86, 0.0348735)</td><td>(0.71, 0.0456048)</td><td>(0.04, 0.0196946)</td></tr><tr><th>3</th><td>N: 100  ni: 10</td><td>(0.94, 0.0238683)</td><td>(0.85, 0.035887)</td><td>(0.81, 0.0394277)</td><td>(0.0, 0.0)</td></tr><tr><th>4</th><td>N: 100  ni: 15</td><td>(0.85, 0.035887)</td><td>(0.87, 0.0337998)</td><td>(0.77, 0.0422953)</td><td>(0.0, 0.0)</td></tr><tr><th>5</th><td>N: 100  ni: 20</td><td>(0.87, 0.0337998)</td><td>(0.86, 0.0348735)</td><td>(0.87, 0.0337998)</td><td>(0.02, 0.0140705)</td></tr><tr><th>6</th><td>N: 100  ni: 25</td><td>(0.87, 0.0337998)</td><td>(0.76, 0.0429235)</td><td>(0.78, 0.0416333)</td><td>(0.0, 0.0)</td></tr><tr><th>7</th><td>N: 1000  ni: 2</td><td>(0.62, 0.0487832)</td><td>(0.6, 0.0492366)</td><td>(0.72, 0.0451261)</td><td>(0.0, 0.0)</td></tr><tr><th>8</th><td>N: 1000  ni: 5</td><td>(0.85, 0.035887)</td><td>(0.79, 0.040936)</td><td>(0.79, 0.040936)</td><td>(0.0, 0.0)</td></tr><tr><th>9</th><td>N: 1000  ni: 10</td><td>(0.92, 0.027266)</td><td>(0.82, 0.0386123)</td><td>(0.87, 0.0337998)</td><td>(0.0, 0.0)</td></tr><tr><th>10</th><td>N: 1000  ni: 15</td><td>(0.92, 0.027266)</td><td>(0.87, 0.0337998)</td><td>(0.9, 0.0301511)</td><td>(0.0, 0.0)</td></tr><tr><th>11</th><td>N: 1000  ni: 20</td><td>(0.94, 0.0238683)</td><td>(0.82, 0.0386123)</td><td>(0.85, 0.035887)</td><td>(0.0, 0.0)</td></tr><tr><th>12</th><td>N: 1000  ni: 25</td><td>(0.88, 0.0326599)</td><td>(0.8, 0.0402015)</td><td>(0.86, 0.0348735)</td><td>(0.0, 0.0)</td></tr><tr><th>13</th><td>N: 10000  ni: 2</td><td>(0.57, 0.049757)</td><td>(0.27, 0.0446196)</td><td>(0.56, 0.0498888)</td><td>(0.0, 0.0)</td></tr><tr><th>14</th><td>N: 10000  ni: 5</td><td>(0.83, 0.0377525)</td><td>(0.44, 0.0498888)</td><td>(0.83, 0.0377525)</td><td>(0.0, 0.0)</td></tr><tr><th>15</th><td>N: 10000  ni: 10</td><td>(0.9, 0.0301511)</td><td>(0.61, 0.0490207)</td><td>(0.81, 0.0394277)</td><td>(0.0, 0.0)</td></tr><tr><th>16</th><td>N: 10000  ni: 15</td><td>(0.86, 0.0348735)</td><td>(0.68, 0.0468826)</td><td>(0.83, 0.0377525)</td><td>(0.0, 0.0)</td></tr><tr><th>17</th><td>N: 10000  ni: 20</td><td>(0.94, 0.0238683)</td><td>(0.69, 0.0464823)</td><td>(0.83, 0.0377525)</td><td>(0.0, 0.0)</td></tr><tr><th>18</th><td>N: 10000  ni: 25</td><td>(0.89, 0.0314466)</td><td>(0.76, 0.0429235)</td><td>(0.83, 0.0377525)</td><td>(0.0, 0.0)</td></tr></tbody></table></div>"
      ],
      "text/latex": [
       "\\begin{tabular}{r|cccccc}\n",
       "\t& people\\_obs & β1 & β2 & β3 & σ2 & \\\\\n",
       "\t\\hline\n",
       "\t& String & Tuple… & Tuple… & Tuple… & Tuple… & \\\\\n",
       "\t\\hline\n",
       "\t1 & N: 100  ni: 2 & (0.68, 0.0468826) & (0.67, 0.0472582) & (0.72, 0.0451261) & (0.67, 0.0472582) & $\\dots$ \\\\\n",
       "\t2 & N: 100  ni: 5 & (0.75, 0.0435194) & (0.86, 0.0348735) & (0.71, 0.0456048) & (0.04, 0.0196946) & $\\dots$ \\\\\n",
       "\t3 & N: 100  ni: 10 & (0.94, 0.0238683) & (0.85, 0.035887) & (0.81, 0.0394277) & (0.0, 0.0) & $\\dots$ \\\\\n",
       "\t4 & N: 100  ni: 15 & (0.85, 0.035887) & (0.87, 0.0337998) & (0.77, 0.0422953) & (0.0, 0.0) & $\\dots$ \\\\\n",
       "\t5 & N: 100  ni: 20 & (0.87, 0.0337998) & (0.86, 0.0348735) & (0.87, 0.0337998) & (0.02, 0.0140705) & $\\dots$ \\\\\n",
       "\t6 & N: 100  ni: 25 & (0.87, 0.0337998) & (0.76, 0.0429235) & (0.78, 0.0416333) & (0.0, 0.0) & $\\dots$ \\\\\n",
       "\t7 & N: 1000  ni: 2 & (0.62, 0.0487832) & (0.6, 0.0492366) & (0.72, 0.0451261) & (0.0, 0.0) & $\\dots$ \\\\\n",
       "\t8 & N: 1000  ni: 5 & (0.85, 0.035887) & (0.79, 0.040936) & (0.79, 0.040936) & (0.0, 0.0) & $\\dots$ \\\\\n",
       "\t9 & N: 1000  ni: 10 & (0.92, 0.027266) & (0.82, 0.0386123) & (0.87, 0.0337998) & (0.0, 0.0) & $\\dots$ \\\\\n",
       "\t10 & N: 1000  ni: 15 & (0.92, 0.027266) & (0.87, 0.0337998) & (0.9, 0.0301511) & (0.0, 0.0) & $\\dots$ \\\\\n",
       "\t11 & N: 1000  ni: 20 & (0.94, 0.0238683) & (0.82, 0.0386123) & (0.85, 0.035887) & (0.0, 0.0) & $\\dots$ \\\\\n",
       "\t12 & N: 1000  ni: 25 & (0.88, 0.0326599) & (0.8, 0.0402015) & (0.86, 0.0348735) & (0.0, 0.0) & $\\dots$ \\\\\n",
       "\t13 & N: 10000  ni: 2 & (0.57, 0.049757) & (0.27, 0.0446196) & (0.56, 0.0498888) & (0.0, 0.0) & $\\dots$ \\\\\n",
       "\t14 & N: 10000  ni: 5 & (0.83, 0.0377525) & (0.44, 0.0498888) & (0.83, 0.0377525) & (0.0, 0.0) & $\\dots$ \\\\\n",
       "\t15 & N: 10000  ni: 10 & (0.9, 0.0301511) & (0.61, 0.0490207) & (0.81, 0.0394277) & (0.0, 0.0) & $\\dots$ \\\\\n",
       "\t16 & N: 10000  ni: 15 & (0.86, 0.0348735) & (0.68, 0.0468826) & (0.83, 0.0377525) & (0.0, 0.0) & $\\dots$ \\\\\n",
       "\t17 & N: 10000  ni: 20 & (0.94, 0.0238683) & (0.69, 0.0464823) & (0.83, 0.0377525) & (0.0, 0.0) & $\\dots$ \\\\\n",
       "\t18 & N: 10000  ni: 25 & (0.89, 0.0314466) & (0.76, 0.0429235) & (0.83, 0.0377525) & (0.0, 0.0) & $\\dots$ \\\\\n",
       "\\end{tabular}\n"
      ],
      "text/plain": [
       "\u001b[1m18×6 DataFrame\u001b[0m\n",
       "\u001b[1m Row \u001b[0m│\u001b[1m people_obs       \u001b[0m\u001b[1m β1                \u001b[0m\u001b[1m β2                \u001b[0m\u001b[1m β3             \u001b[0m ⋯\n",
       "\u001b[1m     \u001b[0m│\u001b[90m String           \u001b[0m\u001b[90m Tuple…            \u001b[0m\u001b[90m Tuple…            \u001b[0m\u001b[90m Tuple…         \u001b[0m ⋯\n",
       "─────┼──────────────────────────────────────────────────────────────────────────\n",
       "   1 │ N: 100  ni: 2     (0.68, 0.0468826)  (0.67, 0.0472582)  (0.72, 0.045126 ⋯\n",
       "   2 │ N: 100  ni: 5     (0.75, 0.0435194)  (0.86, 0.0348735)  (0.71, 0.045604\n",
       "   3 │ N: 100  ni: 10    (0.94, 0.0238683)  (0.85, 0.035887)   (0.81, 0.039427\n",
       "   4 │ N: 100  ni: 15    (0.85, 0.035887)   (0.87, 0.0337998)  (0.77, 0.042295\n",
       "   5 │ N: 100  ni: 20    (0.87, 0.0337998)  (0.86, 0.0348735)  (0.87, 0.033799 ⋯\n",
       "   6 │ N: 100  ni: 25    (0.87, 0.0337998)  (0.76, 0.0429235)  (0.78, 0.041633\n",
       "   7 │ N: 1000  ni: 2    (0.62, 0.0487832)  (0.6, 0.0492366)   (0.72, 0.045126\n",
       "   8 │ N: 1000  ni: 5    (0.85, 0.035887)   (0.79, 0.040936)   (0.79, 0.040936\n",
       "   9 │ N: 1000  ni: 10   (0.92, 0.027266)   (0.82, 0.0386123)  (0.87, 0.033799 ⋯\n",
       "  10 │ N: 1000  ni: 15   (0.92, 0.027266)   (0.87, 0.0337998)  (0.9, 0.0301511\n",
       "  11 │ N: 1000  ni: 20   (0.94, 0.0238683)  (0.82, 0.0386123)  (0.85, 0.035887\n",
       "  12 │ N: 1000  ni: 25   (0.88, 0.0326599)  (0.8, 0.0402015)   (0.86, 0.034873\n",
       "  13 │ N: 10000  ni: 2   (0.57, 0.049757)   (0.27, 0.0446196)  (0.56, 0.049888 ⋯\n",
       "  14 │ N: 10000  ni: 5   (0.83, 0.0377525)  (0.44, 0.0498888)  (0.83, 0.037752\n",
       "  15 │ N: 10000  ni: 10  (0.9, 0.0301511)   (0.61, 0.0490207)  (0.81, 0.039427\n",
       "  16 │ N: 10000  ni: 15  (0.86, 0.0348735)  (0.68, 0.0468826)  (0.83, 0.037752\n",
       "  17 │ N: 10000  ni: 20  (0.94, 0.0238683)  (0.69, 0.0464823)  (0.83, 0.037752 ⋯\n",
       "  18 │ N: 10000  ni: 25  (0.89, 0.0314466)  (0.76, 0.0429235)  (0.83, 0.037752\n",
       "\u001b[36m                                                               3 columns omitted\u001b[0m"
      ]
     },
     "execution_count": 8,
     "metadata": {},
     "output_type": "execute_result"
    }
   ],
   "source": [
    "######  supplementary table s1\n",
    "using Random, DataFrames, DelimitedFiles, Statistics\n",
    "import StatsBase: sem\n",
    "\n",
    "βρσ2coverage = readdlm(\"beta_rho_sigma_coverage_multivariate_bernoulli_AR$(nsims)reps_sim.csv\", ',')\n",
    "\n",
    "m = 2\n",
    "\n",
    "covdf = DataFrame(Matrix(transpose(βρσ2coverage)), :auto)\n",
    "rename!(covdf, Symbol.([[\"β$i\" for i in 1:p]; [\"σ2\"];  [\"ρ\"]]))\n",
    "covdf[!, :samplesize] = sample_sizes\n",
    "covdf[!, :obssize] = obs_sizes\n",
    "first(covdf, 10)\n",
    "\n",
    "row_stats = [[(mean(col), sem(col)) for col = eachcol(d[!, 1:end-2])] for d = groupby(covdf, [:samplesize; :obssize])]\n",
    "df = DataFrame(row_stats, :auto)\n",
    "ss_obs = unique(\"N: \" .* sample_sizes .* \"  ni: \" .* obs_sizes)\n",
    "rename!(df, Symbol.(ss_obs))\n",
    "covdfdisplay = DataFrame([[names(df)]; collect.(eachrow(df))], \n",
    "    [:people_obs; Symbol.([[\"β$i\" for i in 1:p]; [\"σ2\"]; [\"ρ\"]])])\n",
    "# deletecols!(covdfdisplay, p + 2)\n",
    "covdfdisplay\n"
   ]
  },
  {
   "cell_type": "code",
   "execution_count": 9,
   "metadata": {},
   "outputs": [
    {
     "data": {
      "text/html": [
       "<div class=\"data-frame\"><p>5,310 rows × 5 columns</p><table class=\"data-frame\"><thead><tr><th></th><th>mse</th><th>obssize</th><th>samplesize</th><th>parameters</th><th>robust</th></tr><tr><th></th><th title=\"Float64\">Float64</th><th title=\"String\">String</th><th title=\"String\">String</th><th title=\"String\">String</th><th title=\"String\">String</th></tr></thead><tbody><tr><th>1</th><td>0.00883026</td><td>2</td><td>100</td><td>beta</td><td>Bernoulli with LogitLink</td></tr><tr><th>2</th><td>0.107188</td><td>2</td><td>100</td><td>beta</td><td>Bernoulli with LogitLink</td></tr><tr><th>3</th><td>0.0182842</td><td>2</td><td>100</td><td>beta</td><td>Bernoulli with LogitLink</td></tr><tr><th>4</th><td>0.0479413</td><td>2</td><td>100</td><td>beta</td><td>Bernoulli with LogitLink</td></tr><tr><th>5</th><td>0.0195633</td><td>2</td><td>100</td><td>beta</td><td>Bernoulli with LogitLink</td></tr><tr><th>6</th><td>0.0340755</td><td>2</td><td>100</td><td>beta</td><td>Bernoulli with LogitLink</td></tr><tr><th>7</th><td>0.00842963</td><td>2</td><td>100</td><td>beta</td><td>Bernoulli with LogitLink</td></tr><tr><th>8</th><td>0.00835468</td><td>2</td><td>100</td><td>beta</td><td>Bernoulli with LogitLink</td></tr><tr><th>9</th><td>0.028669</td><td>2</td><td>100</td><td>beta</td><td>Bernoulli with LogitLink</td></tr><tr><th>10</th><td>0.0850532</td><td>2</td><td>100</td><td>beta</td><td>Bernoulli with LogitLink</td></tr><tr><th>11</th><td>0.0216167</td><td>2</td><td>100</td><td>beta</td><td>Bernoulli with LogitLink</td></tr><tr><th>12</th><td>0.0418209</td><td>2</td><td>100</td><td>beta</td><td>Bernoulli with LogitLink</td></tr><tr><th>13</th><td>0.0379852</td><td>2</td><td>100</td><td>beta</td><td>Bernoulli with LogitLink</td></tr><tr><th>14</th><td>0.00611985</td><td>2</td><td>100</td><td>beta</td><td>Bernoulli with LogitLink</td></tr><tr><th>15</th><td>0.00329512</td><td>2</td><td>100</td><td>beta</td><td>Bernoulli with LogitLink</td></tr><tr><th>16</th><td>0.0114613</td><td>2</td><td>100</td><td>beta</td><td>Bernoulli with LogitLink</td></tr><tr><th>17</th><td>0.0343051</td><td>2</td><td>100</td><td>beta</td><td>Bernoulli with LogitLink</td></tr><tr><th>18</th><td>0.0020278</td><td>2</td><td>100</td><td>beta</td><td>Bernoulli with LogitLink</td></tr><tr><th>19</th><td>0.0138481</td><td>2</td><td>100</td><td>beta</td><td>Bernoulli with LogitLink</td></tr><tr><th>20</th><td>0.00249568</td><td>2</td><td>100</td><td>beta</td><td>Bernoulli with LogitLink</td></tr><tr><th>21</th><td>0.0180957</td><td>2</td><td>100</td><td>beta</td><td>Bernoulli with LogitLink</td></tr><tr><th>22</th><td>0.0449446</td><td>2</td><td>100</td><td>beta</td><td>Bernoulli with LogitLink</td></tr><tr><th>23</th><td>0.0335146</td><td>2</td><td>100</td><td>beta</td><td>Bernoulli with LogitLink</td></tr><tr><th>24</th><td>0.0231486</td><td>2</td><td>100</td><td>beta</td><td>Bernoulli with LogitLink</td></tr><tr><th>25</th><td>0.0205455</td><td>2</td><td>100</td><td>beta</td><td>Bernoulli with LogitLink</td></tr><tr><th>26</th><td>0.0117956</td><td>2</td><td>100</td><td>beta</td><td>Bernoulli with LogitLink</td></tr><tr><th>27</th><td>0.0147697</td><td>2</td><td>100</td><td>beta</td><td>Bernoulli with LogitLink</td></tr><tr><th>28</th><td>0.025929</td><td>2</td><td>100</td><td>beta</td><td>Bernoulli with LogitLink</td></tr><tr><th>29</th><td>0.0327224</td><td>2</td><td>100</td><td>beta</td><td>Bernoulli with LogitLink</td></tr><tr><th>30</th><td>0.0471988</td><td>2</td><td>100</td><td>beta</td><td>Bernoulli with LogitLink</td></tr><tr><th>&vellip;</th><td>&vellip;</td><td>&vellip;</td><td>&vellip;</td><td>&vellip;</td><td>&vellip;</td></tr></tbody></table></div>"
      ],
      "text/latex": [
       "\\begin{tabular}{r|ccccc}\n",
       "\t& mse & obssize & samplesize & parameters & robust\\\\\n",
       "\t\\hline\n",
       "\t& Float64 & String & String & String & String\\\\\n",
       "\t\\hline\n",
       "\t1 & 0.00883026 & 2 & 100 & beta & Bernoulli with LogitLink \\\\\n",
       "\t2 & 0.107188 & 2 & 100 & beta & Bernoulli with LogitLink \\\\\n",
       "\t3 & 0.0182842 & 2 & 100 & beta & Bernoulli with LogitLink \\\\\n",
       "\t4 & 0.0479413 & 2 & 100 & beta & Bernoulli with LogitLink \\\\\n",
       "\t5 & 0.0195633 & 2 & 100 & beta & Bernoulli with LogitLink \\\\\n",
       "\t6 & 0.0340755 & 2 & 100 & beta & Bernoulli with LogitLink \\\\\n",
       "\t7 & 0.00842963 & 2 & 100 & beta & Bernoulli with LogitLink \\\\\n",
       "\t8 & 0.00835468 & 2 & 100 & beta & Bernoulli with LogitLink \\\\\n",
       "\t9 & 0.028669 & 2 & 100 & beta & Bernoulli with LogitLink \\\\\n",
       "\t10 & 0.0850532 & 2 & 100 & beta & Bernoulli with LogitLink \\\\\n",
       "\t11 & 0.0216167 & 2 & 100 & beta & Bernoulli with LogitLink \\\\\n",
       "\t12 & 0.0418209 & 2 & 100 & beta & Bernoulli with LogitLink \\\\\n",
       "\t13 & 0.0379852 & 2 & 100 & beta & Bernoulli with LogitLink \\\\\n",
       "\t14 & 0.00611985 & 2 & 100 & beta & Bernoulli with LogitLink \\\\\n",
       "\t15 & 0.00329512 & 2 & 100 & beta & Bernoulli with LogitLink \\\\\n",
       "\t16 & 0.0114613 & 2 & 100 & beta & Bernoulli with LogitLink \\\\\n",
       "\t17 & 0.0343051 & 2 & 100 & beta & Bernoulli with LogitLink \\\\\n",
       "\t18 & 0.0020278 & 2 & 100 & beta & Bernoulli with LogitLink \\\\\n",
       "\t19 & 0.0138481 & 2 & 100 & beta & Bernoulli with LogitLink \\\\\n",
       "\t20 & 0.00249568 & 2 & 100 & beta & Bernoulli with LogitLink \\\\\n",
       "\t21 & 0.0180957 & 2 & 100 & beta & Bernoulli with LogitLink \\\\\n",
       "\t22 & 0.0449446 & 2 & 100 & beta & Bernoulli with LogitLink \\\\\n",
       "\t23 & 0.0335146 & 2 & 100 & beta & Bernoulli with LogitLink \\\\\n",
       "\t24 & 0.0231486 & 2 & 100 & beta & Bernoulli with LogitLink \\\\\n",
       "\t25 & 0.0205455 & 2 & 100 & beta & Bernoulli with LogitLink \\\\\n",
       "\t26 & 0.0117956 & 2 & 100 & beta & Bernoulli with LogitLink \\\\\n",
       "\t27 & 0.0147697 & 2 & 100 & beta & Bernoulli with LogitLink \\\\\n",
       "\t28 & 0.025929 & 2 & 100 & beta & Bernoulli with LogitLink \\\\\n",
       "\t29 & 0.0327224 & 2 & 100 & beta & Bernoulli with LogitLink \\\\\n",
       "\t30 & 0.0471988 & 2 & 100 & beta & Bernoulli with LogitLink \\\\\n",
       "\t$\\dots$ & $\\dots$ & $\\dots$ & $\\dots$ & $\\dots$ & $\\dots$ \\\\\n",
       "\\end{tabular}\n"
      ],
      "text/plain": [
       "\u001b[1m5310×5 DataFrame\u001b[0m\n",
       "\u001b[1m  Row \u001b[0m│\u001b[1m mse        \u001b[0m\u001b[1m obssize \u001b[0m\u001b[1m samplesize \u001b[0m\u001b[1m parameters \u001b[0m\u001b[1m robust                   \u001b[0m\n",
       "\u001b[1m      \u001b[0m│\u001b[90m Float64    \u001b[0m\u001b[90m String  \u001b[0m\u001b[90m String     \u001b[0m\u001b[90m String     \u001b[0m\u001b[90m String                   \u001b[0m\n",
       "──────┼───────────────────────────────────────────────────────────────────────\n",
       "    1 │ 0.00883026  2        100         beta        Bernoulli with LogitLink\n",
       "    2 │ 0.107188    2        100         beta        Bernoulli with LogitLink\n",
       "    3 │ 0.0182842   2        100         beta        Bernoulli with LogitLink\n",
       "    4 │ 0.0479413   2        100         beta        Bernoulli with LogitLink\n",
       "    5 │ 0.0195633   2        100         beta        Bernoulli with LogitLink\n",
       "    6 │ 0.0340755   2        100         beta        Bernoulli with LogitLink\n",
       "    7 │ 0.00842963  2        100         beta        Bernoulli with LogitLink\n",
       "    8 │ 0.00835468  2        100         beta        Bernoulli with LogitLink\n",
       "    9 │ 0.028669    2        100         beta        Bernoulli with LogitLink\n",
       "   10 │ 0.0850532   2        100         beta        Bernoulli with LogitLink\n",
       "   11 │ 0.0216167   2        100         beta        Bernoulli with LogitLink\n",
       "  ⋮   │     ⋮          ⋮         ⋮           ⋮                  ⋮\n",
       " 5301 │ 1.26235e-9  25       10000       rho         Bernoulli with LogitLink\n",
       " 5302 │ 2.3228e-6   25       10000       rho         Bernoulli with LogitLink\n",
       " 5303 │ 6.64349e-6  25       10000       rho         Bernoulli with LogitLink\n",
       " 5304 │ 8.12182e-5  25       10000       rho         Bernoulli with LogitLink\n",
       " 5305 │ 6.33892e-6  25       10000       rho         Bernoulli with LogitLink\n",
       " 5306 │ 3.51464e-5  25       10000       rho         Bernoulli with LogitLink\n",
       " 5307 │ 2.9258e-7   25       10000       rho         Bernoulli with LogitLink\n",
       " 5308 │ 8.12033e-6  25       10000       rho         Bernoulli with LogitLink\n",
       " 5309 │ 7.1342e-6   25       10000       rho         Bernoulli with LogitLink\n",
       " 5310 │ 5.60593e-7  25       10000       rho         Bernoulli with LogitLink\n",
       "\u001b[36m                                                             5289 rows omitted\u001b[0m"
      ]
     },
     "execution_count": 9,
     "metadata": {},
     "output_type": "execute_result"
    }
   ],
   "source": [
    "#### \n",
    "#import data and reorganize to create figure\n",
    "using Random, DataFrames, DelimitedFiles, Statistics, RCall, Printf\n",
    "import StatsBase: sem\n",
    "\n",
    "βMseresult_1 = vec(readdlm(\"mse_beta_multivariate_bernoulli_AR$(nsims)reps_sim.csv\", ','))\n",
    "σ2MseResult_1 = vec(readdlm(\"mse_sigma_multivariate_bernoulli_AR$(nsims)reps_sim.csv\", ','))\n",
    "ρMseResult_1 = vec(readdlm(\"mse_rho_multivariate_bernoulli_AR$(nsims)reps_sim.csv\", ','))\n",
    "βρσ2coverage_1 = readdlm(\"beta_rho_sigma_coverage_multivariate_bernoulli_AR$(nsims)reps_sim.csv\", ',')\n",
    "\n",
    "samplesizesrobust = samplesizes\n",
    "nsrobust = ns\n",
    "nsimsrobust = nsims\n",
    "\n",
    "p = 3\n",
    "sample_sizesrobust = repeat(string.(samplesizesrobust), inner = nsimsrobust * length(nsrobust))\n",
    "obs_sizesrobust = repeat(string.(nsrobust), inner = nsimsrobust, outer = length(samplesizesrobust))\n",
    "msedfrobust = DataFrame(βmse = βMseresult_1, σ2mse = σ2MseResult_1, ρmse = ρMseResult_1,\n",
    "    samplesize = sample_sizesrobust, obssize = obs_sizesrobust)\n",
    "\n",
    "\n",
    "msedfrobustR = deepcopy(msedfrobust)\n",
    "rename!(msedfrobustR, [\"betamse\"\n",
    "    \"sigmamse\"\n",
    "        \"rhomse\"\n",
    "    \"samplesize\"\n",
    " \"obssize\"]);\n",
    "\n",
    "mses = [msedfrobustR[!, :betamse]; msedfrobustR[!, :sigmamse] ; msedfrobustR[!, :rhomse]]\n",
    "    # msedfnormR[!, :betamse]; msedfnormR[!, :taumse]; msedfnormR[!, :Sigmamse]]\n",
    "obssize = collect([repeat(msedfrobustR[!, :obssize], 3)]...)\n",
    "\n",
    "samplesize = collect([repeat(msedfrobustR[!, :samplesize], 3)]...) \n",
    "\n",
    "parameters = collect([repeat(string.([:beta, :sigma, :rho]), inner = nsimsrobust * length(nsrobust) * length(samplesizesrobust))]...)\n",
    "robust = collect([repeat([\"Bernoulli with LogitLink\"], 3 * nsimsrobust * length(nsrobust) * length(samplesizesrobust))]...) # ;\n",
    "\n",
    "msedfR = DataFrame(mse = mses, obssize = obssize, samplesize = samplesize,\n",
    "    parameters = parameters, robust = robust)\n",
    "\n",
    "#5 of the 30,000 simulations did not converge, filter out\n",
    "msedfR = filter(x -> !isnan(x.mse), msedfR)\n",
    "# additionally, there are 5 where an error was not caught so it did not try a differnt solver\n",
    "msedfR = filter(x -> x.mse < 200, msedfR)"
   ]
  },
  {
   "cell_type": "code",
   "execution_count": 10,
   "metadata": {},
   "outputs": [
    {
     "name": "stderr",
     "output_type": "stream",
     "text": [
      "┌ Warning: RCall.jl: Warning: package ‘scales’ was built under R version 4.0.2\n",
      "└ @ RCall /Users/sarahji/.julia/packages/RCall/iMDW2/src/io.jl:160\n",
      "┌ Warning: RCall.jl: Warning: package ‘data.table’ was built under R version 4.0.2\n",
      "└ @ RCall /Users/sarahji/.julia/packages/RCall/iMDW2/src/io.jl:160\n"
     ]
    },
    {
     "data": {
      "image/png": "[encoded data removed]"
     },
     "metadata": {},
     "output_type": "display_data"
    },
    {
     "data": {
      "text/plain": [
       "RObject{VecSxp}\n"
      ]
     },
     "execution_count": 10,
     "metadata": {},
     "output_type": "execute_result"
    }
   ],
   "source": [
    "### working on figure next\n",
    "@rput msedfR\n",
    "\n",
    "R\"\"\"\n",
    "library(scales)\n",
    "library(ggplot2)\n",
    "library(data.table)\n",
    "\n",
    "msedfR = data.table(msedfR)\n",
    "\n",
    "msedfR[parameters == \"beta\",y_min := 10^-6]\n",
    "msedfR[parameters == \"beta\",y_max := 10^-2]\n",
    "msedfR[parameters == \"sigma\",y_min := 10^-5]\n",
    "msedfR[parameters == \"sigma\",y_max := 10^1]\n",
    "msedfR[parameters == \"rho\",y_min := 10^-9]\n",
    "msedfR[parameters == \"rho\",y_max := 10^-2]\n",
    "\n",
    "#msedfR[parameters == \"beta\",y_min := 10^-8]\n",
    "#msedfR[parameters == \"beta\",y_max := 10^-2]\n",
    "#msedfR[parameters == \"tau\",y_min := 10^-8]\n",
    "#msedfR[parameters == \"tau\",y_max := 10^-2]\n",
    "#msedfR[parameters == \"Sigma\",y_min := 10^-5]\n",
    "#msedfR[parameters == \"Sigma\",y_max := 10^-2]\n",
    "\n",
    "\n",
    "msedfR$obssize = factor(msedfR$obssize, levels = c('2', '5', '10', '15', '20', '25'))\n",
    "msedfR$samplesize = factor(msedfR$samplesize, levels = c('100', '1000', '10000'))\n",
    "msedfR$parameters = factor(msedfR$parameters, levels = c('beta', 'sigma', 'rho'), labels = c(beta = expression(hat(bold(beta))), Sigma = expression(hat(bold(sigma))[]), rho = expression(hat(bold(rho)))))\n",
    "msedfR$robust = factor(msedfR$robust, levels = c('Bernoulli with LogitLink'),\n",
    "    labels = c(expression(paste(\"Bernoulli with LogitLink\")))) # , expression(paste(\"MvT Gamma Inverse-Gamma\"))))\n",
    "\n",
    "\n",
    "#mseplot <- ggplot(msedfR[msedfR$mse < 10^0, ], aes(x=samplesize, y=mse, fill=obssize)) + \n",
    "mseplot = ggplot(msedfR[msedfR$mse < 10^3, ], aes(x=samplesize, y=mse, fill=obssize)) + \n",
    "  #geom_boxplot(outlier.size = 0.0, outlier.alpha = 0) +\n",
    "  geom_boxplot(outlier.size = 0.25) +\n",
    "#    geom_violin() +\n",
    "    facet_grid(parameters ~ robust, labeller = label_parsed, scales = \"free_y\") +\n",
    "  theme(legend.position=\"right\", legend.key = element_blank(), axis.text.x = element_text(angle=0, size=11),\n",
    "        axis.text.y = element_text(angle=0, size=12), axis.title.x = element_text(size = 15), \n",
    "        axis.title.y = element_text(size = 15), legend.title = element_text(size = 12),\n",
    "        panel.grid.major = element_blank(), panel.grid.minor = element_blank(),\n",
    "        legend.text=element_text(size=10), panel.background = element_rect(fill = NA, color = \"black\"),\n",
    "        #panel.background = element_blank(), #panel.border = element_blank(),\n",
    "        axis.line = element_line(color = 'black',size=0.3), plot.title = element_text(hjust = 0.5),\n",
    "        strip.background = element_rect(colour=\"black\", fill=\"white\"), strip.text.y = element_text(size=15, face=\"bold\"),\n",
    "        strip.text.x = element_text(size=15)) + \n",
    "  scale_fill_manual(values = c(\"#c85f55\",\n",
    "\"#a964bf\",\n",
    "\"#8db352\",\n",
    "\"#fa7300\",\n",
    "\"#05aec0\",\n",
    "\"#ff1493\")) +\n",
    "#scale_y_log10(breaks = scales::trans_breaks(\"log10\", function(x) 10^x)) +\n",
    "#scale_y_log10(breaks = 10^(-8:8), limit=c(10^-8, 10^2)) + \n",
    "scale_y_log10(breaks = 10^seq(-8, 8, 2), labels=trans_format(\"log10\", math_format(10^.x))) + #, limit=c(10^-8, 10^2)) +\n",
    "  labs(x = \"Number of Individuals\", y = \"MSE of Parameter Estimates\", fill = \"Obs per Individual\") +\n",
    "geom_blank(aes(y = y_max)) + \n",
    "geom_blank(aes(y = y_min)) \n",
    "\n",
    "\"\"\""
   ]
  },
  {
   "cell_type": "code",
   "execution_count": 11,
   "metadata": {},
   "outputs": [
    {
     "data": {
      "text/plain": [
       "RObject{StrSxp}\n",
       "[1] \"updated_msefacetplot_bernoulli_AR.png\"\n"
      ]
     },
     "execution_count": 11,
     "metadata": {},
     "output_type": "execute_result"
    }
   ],
   "source": [
    "R\"\"\"\n",
    "ggsave('updated_msefacetplot_bernoulli_AR.png', mseplot, width = 12.5, height = 15, units = 'in', dpi = 450)\n",
    "\"\"\""
   ]
  },
  {
   "cell_type": "code",
   "execution_count": null,
   "metadata": {},
   "outputs": [],
   "source": []
  },
  {
   "cell_type": "code",
   "execution_count": null,
   "metadata": {},
   "outputs": [],
   "source": []
  },
  {
   "cell_type": "code",
   "execution_count": null,
   "metadata": {},
   "outputs": [],
   "source": []
  }
 ],
 "metadata": {
  "@webio": {
   "lastCommId": null,
   "lastKernelId": null
  },
  "kernelspec": {
   "display_name": "Julia 1.6.2",
   "language": "julia",
   "name": "julia-1.6"
  },
  "language_info": {
   "file_extension": ".jl",
   "mimetype": "application/julia",
   "name": "julia",
   "version": "1.6.2"
  }
 },
 "nbformat": 4,
 "nbformat_minor": 2
}
