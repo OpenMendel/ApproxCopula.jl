{
 "cells": [
  {
   "cell_type": "markdown",
   "metadata": {},
   "source": [
    "## bernoulli AR Results \n",
    "\n",
    "This notebook goes over the code needed to reproduce the results from the MSE and time figures in the first simulation in the paper. \n",
    "\n",
    "In this example we have bernoulli base distribution with Logit Link function and covariance matrix $\\Gamma$ structured under AR covariance with $\\rho = 0.9, \\sigma^2 = 0.1$"
   ]
  },
  {
   "cell_type": "code",
   "execution_count": 32,
   "metadata": {},
   "outputs": [
    {
     "name": "stdout",
     "output_type": "stream",
     "text": [
      "Julia Version 1.6.2\n",
      "Commit 1b93d53fc4 (2021-07-14 15:36 UTC)\n",
      "Platform Info:\n",
      "  OS: macOS (x86_64-apple-darwin18.7.0)\n",
      "  CPU: Intel(R) Core(TM) i9-9880H CPU @ 2.30GHz\n",
      "  WORD_SIZE: 64\n",
      "  LIBM: libopenlibm\n",
      "  LLVM: libLLVM-11.0.1 (ORCJIT, skylake)\n"
     ]
    }
   ],
   "source": [
    "versioninfo()"
   ]
  },
  {
   "cell_type": "code",
   "execution_count": 33,
   "metadata": {},
   "outputs": [],
   "source": [
    "using GLMCopula, DelimitedFiles, LinearAlgebra, Random, GLM\n",
    "using Random, Roots, SpecialFunctions, DataFrames"
   ]
  },
  {
   "cell_type": "code",
   "execution_count": 34,
   "metadata": {},
   "outputs": [
    {
     "data": {
      "text/plain": [
       "100"
      ]
     },
     "execution_count": 34,
     "metadata": {},
     "output_type": "execute_result"
    }
   ],
   "source": [
    "p  = 3    # number of fixed effects, including intercept\n",
    "\n",
    "# true parameter values\n",
    "Random.seed!(1234)\n",
    "βtrue = rand(Uniform(-0.2, 0.2), p)\n",
    "σ2true = [0.5]\n",
    "ρtrue = [0.9]\n",
    "\n",
    "# generate data\n",
    "trueparams = [βtrue; σ2true; ρtrue] #hold true parameters\n",
    "\n",
    "#simulation parameters\n",
    "samplesizes = [100; 1000; 10000]\n",
    "ns = [5; 10; 20; 50; 100]\n",
    "nsims = 100"
   ]
  },
  {
   "cell_type": "code",
   "execution_count": 36,
   "metadata": {},
   "outputs": [
    {
     "name": "stderr",
     "output_type": "stream",
     "text": [
      "┌ Info: reading in the files with results\n",
      "└ @ Main In[36]:1\n"
     ]
    },
    {
     "data": {
      "text/plain": [
       "1500-element Vector{Float64}:\n",
       "   0.25755856\n",
       "   0.68319995\n",
       "   0.185291776\n",
       "   0.599437681\n",
       "   0.257948252\n",
       "   0.683006425\n",
       "   0.210180276\n",
       "   0.229477104\n",
       "   0.136937462\n",
       "   0.231144236\n",
       "   0.244308524\n",
       "   0.182510567\n",
       "   0.199584778\n",
       "   ⋮\n",
       " 123.391440731\n",
       " NaN\n",
       " 239.964865252\n",
       " 230.203613847\n",
       " 161.958449584\n",
       " NaN\n",
       " NaN\n",
       " 219.835938155\n",
       " 220.218677553\n",
       " 121.786298885\n",
       " 189.341046756\n",
       " 155.159981092"
      ]
     },
     "execution_count": 36,
     "metadata": {},
     "output_type": "execute_result"
    }
   ],
   "source": [
    "@info \"reading in the files with results\"\n",
    "βMseresult = vec(readdlm(\"mse_beta_multivariate_bernoulli_AR$(nsims)reps_sim.csv\", ','))\n",
    "σ2MseResult = vec(readdlm(\"mse_sigma_multivariate_bernoulli_AR$(nsims)reps_sim.csv\", ','))\n",
    "ρMseResult = vec(readdlm(\"mse_rho_multivariate_bernoulli_AR$(nsims)reps_sim.csv\", ','))\n",
    "fittimes = vec(readdlm(\"fittimes_multivariate_bernoulli_AR$(nsims)reps_sim.csv\", ','))"
   ]
  },
  {
   "cell_type": "code",
   "execution_count": 37,
   "metadata": {},
   "outputs": [
    {
     "name": "stderr",
     "output_type": "stream",
     "text": [
      "┌ Info: making results table\n",
      "└ @ Main In[37]:2\n"
     ]
    },
    {
     "data": {
      "text/html": [
       "<div class=\"data-frame\"><p>15 rows × 8 columns</p><table class=\"data-frame\"><thead><tr><th></th><th>samplesize</th><th>obssize</th><th>fittime</th><th>se</th><th>nobs</th><th>fitmin</th><th>fitmax</th><th>perobsratio</th></tr><tr><th></th><th title=\"String\">String</th><th title=\"String\">String</th><th title=\"Float64\">Float64</th><th title=\"Float64\">Float64</th><th title=\"Int64\">Int64</th><th title=\"Float64\">Float64</th><th title=\"Float64\">Float64</th><th title=\"Float64\">Float64</th></tr></thead><tbody><tr><th>1</th><td>100</td><td>5</td><td>0.284484</td><td>0.0167287</td><td>500</td><td>0.267755</td><td>0.301212</td><td>0.000568967</td></tr><tr><th>2</th><td>100</td><td>10</td><td>0.31738</td><td>0.0189344</td><td>1000</td><td>0.298445</td><td>0.336314</td><td>0.00031738</td></tr><tr><th>3</th><td>100</td><td>20</td><td>NaN</td><td>NaN</td><td>2000</td><td>NaN</td><td>NaN</td><td>NaN</td></tr><tr><th>4</th><td>100</td><td>50</td><td>NaN</td><td>NaN</td><td>5000</td><td>NaN</td><td>NaN</td><td>NaN</td></tr><tr><th>5</th><td>100</td><td>100</td><td>NaN</td><td>NaN</td><td>10000</td><td>NaN</td><td>NaN</td><td>NaN</td></tr><tr><th>6</th><td>1000</td><td>5</td><td>0.336288</td><td>0.00952818</td><td>5000</td><td>0.32676</td><td>0.345816</td><td>6.72576e-5</td></tr><tr><th>7</th><td>1000</td><td>10</td><td>0.455942</td><td>0.0133795</td><td>10000</td><td>0.442562</td><td>0.469321</td><td>4.55942e-5</td></tr><tr><th>8</th><td>1000</td><td>20</td><td>0.874648</td><td>0.0279188</td><td>20000</td><td>0.846729</td><td>0.902567</td><td>4.37324e-5</td></tr><tr><th>9</th><td>1000</td><td>50</td><td>NaN</td><td>NaN</td><td>50000</td><td>NaN</td><td>NaN</td><td>NaN</td></tr><tr><th>10</th><td>1000</td><td>100</td><td>NaN</td><td>NaN</td><td>100000</td><td>NaN</td><td>NaN</td><td>NaN</td></tr><tr><th>11</th><td>10000</td><td>5</td><td>2.82669</td><td>0.107192</td><td>50000</td><td>2.7195</td><td>2.93388</td><td>5.65339e-5</td></tr><tr><th>12</th><td>10000</td><td>10</td><td>4.07969</td><td>0.100742</td><td>100000</td><td>3.97894</td><td>4.18043</td><td>4.07969e-5</td></tr><tr><th>13</th><td>10000</td><td>20</td><td>8.28386</td><td>0.222685</td><td>200000</td><td>8.06117</td><td>8.50654</td><td>4.14193e-5</td></tr><tr><th>14</th><td>10000</td><td>50</td><td>34.7292</td><td>0.977962</td><td>500000</td><td>33.7513</td><td>35.7072</td><td>6.94585e-5</td></tr><tr><th>15</th><td>10000</td><td>100</td><td>NaN</td><td>NaN</td><td>1000000</td><td>NaN</td><td>NaN</td><td>NaN</td></tr></tbody></table></div>"
      ],
      "text/latex": [
       "\\begin{tabular}{r|cccccccc}\n",
       "\t& samplesize & obssize & fittime & se & nobs & fitmin & fitmax & perobsratio\\\\\n",
       "\t\\hline\n",
       "\t& String & String & Float64 & Float64 & Int64 & Float64 & Float64 & Float64\\\\\n",
       "\t\\hline\n",
       "\t1 & 100 & 5 & 0.284484 & 0.0167287 & 500 & 0.267755 & 0.301212 & 0.000568967 \\\\\n",
       "\t2 & 100 & 10 & 0.31738 & 0.0189344 & 1000 & 0.298445 & 0.336314 & 0.00031738 \\\\\n",
       "\t3 & 100 & 20 & NaN & NaN & 2000 & NaN & NaN & NaN \\\\\n",
       "\t4 & 100 & 50 & NaN & NaN & 5000 & NaN & NaN & NaN \\\\\n",
       "\t5 & 100 & 100 & NaN & NaN & 10000 & NaN & NaN & NaN \\\\\n",
       "\t6 & 1000 & 5 & 0.336288 & 0.00952818 & 5000 & 0.32676 & 0.345816 & 6.72576e-5 \\\\\n",
       "\t7 & 1000 & 10 & 0.455942 & 0.0133795 & 10000 & 0.442562 & 0.469321 & 4.55942e-5 \\\\\n",
       "\t8 & 1000 & 20 & 0.874648 & 0.0279188 & 20000 & 0.846729 & 0.902567 & 4.37324e-5 \\\\\n",
       "\t9 & 1000 & 50 & NaN & NaN & 50000 & NaN & NaN & NaN \\\\\n",
       "\t10 & 1000 & 100 & NaN & NaN & 100000 & NaN & NaN & NaN \\\\\n",
       "\t11 & 10000 & 5 & 2.82669 & 0.107192 & 50000 & 2.7195 & 2.93388 & 5.65339e-5 \\\\\n",
       "\t12 & 10000 & 10 & 4.07969 & 0.100742 & 100000 & 3.97894 & 4.18043 & 4.07969e-5 \\\\\n",
       "\t13 & 10000 & 20 & 8.28386 & 0.222685 & 200000 & 8.06117 & 8.50654 & 4.14193e-5 \\\\\n",
       "\t14 & 10000 & 50 & 34.7292 & 0.977962 & 500000 & 33.7513 & 35.7072 & 6.94585e-5 \\\\\n",
       "\t15 & 10000 & 100 & NaN & NaN & 1000000 & NaN & NaN & NaN \\\\\n",
       "\\end{tabular}\n"
      ],
      "text/plain": [
       "\u001b[1m15×8 DataFrame\u001b[0m\n",
       "\u001b[1m Row \u001b[0m│\u001b[1m samplesize \u001b[0m\u001b[1m obssize \u001b[0m\u001b[1m fittime    \u001b[0m\u001b[1m se           \u001b[0m\u001b[1m nobs    \u001b[0m\u001b[1m fitmin     \u001b[0m\u001b[1m fit\u001b[0m ⋯\n",
       "\u001b[1m     \u001b[0m│\u001b[90m String     \u001b[0m\u001b[90m String  \u001b[0m\u001b[90m Float64    \u001b[0m\u001b[90m Float64      \u001b[0m\u001b[90m Int64   \u001b[0m\u001b[90m Float64    \u001b[0m\u001b[90m Flo\u001b[0m ⋯\n",
       "─────┼──────────────────────────────────────────────────────────────────────────\n",
       "   1 │ 100         5          0.284484    0.0167287       500    0.267755    0 ⋯\n",
       "   2 │ 100         10         0.31738     0.0189344      1000    0.298445    0\n",
       "   3 │ 100         20       NaN         NaN              2000  NaN         NaN\n",
       "   4 │ 100         50       NaN         NaN              5000  NaN         NaN\n",
       "   5 │ 100         100      NaN         NaN             10000  NaN         NaN ⋯\n",
       "   6 │ 1000        5          0.336288    0.00952818     5000    0.32676     0\n",
       "   7 │ 1000        10         0.455942    0.0133795     10000    0.442562    0\n",
       "   8 │ 1000        20         0.874648    0.0279188     20000    0.846729    0\n",
       "   9 │ 1000        50       NaN         NaN             50000  NaN         NaN ⋯\n",
       "  10 │ 1000        100      NaN         NaN            100000  NaN         NaN\n",
       "  11 │ 10000       5          2.82669     0.107192      50000    2.7195      2\n",
       "  12 │ 10000       10         4.07969     0.100742     100000    3.97894     4\n",
       "  13 │ 10000       20         8.28386     0.222685     200000    8.06117     8 ⋯\n",
       "  14 │ 10000       50        34.7292      0.977962     500000   33.7513     35\n",
       "  15 │ 10000       100      NaN         NaN           1000000  NaN         NaN\n",
       "\u001b[36m                                                               2 columns omitted\u001b[0m"
      ]
     },
     "execution_count": 37,
     "metadata": {},
     "output_type": "execute_result"
    }
   ],
   "source": [
    "#simulation parameters\n",
    "@info \"making results table\"\n",
    "sample_sizes = repeat(string.(samplesizes), inner = nsims * length(ns))\n",
    "obs_sizes = repeat(string.(ns), inner = nsims, outer = length(samplesizes))\n",
    "\n",
    "msedf = DataFrame(βmse = βMseresult, σ2mse = σ2MseResult, ρmse = ρMseResult,\n",
    "    samplesize = sample_sizes, obssize = obs_sizes, fittimes = fittimes)\n",
    "timedf = combine(groupby(msedf, [:samplesize, :obssize]), :fittimes => mean => :fittime,\n",
    "    :fittimes => x -> (std(x)/sqrt(length(x))))\n",
    "rename!(timedf, Dict(:fittimes_function => \"se\"))\n",
    "timedf[!, :nobs] = Meta.parse.(timedf[!, :samplesize]) .* Meta.parse.(timedf[!, :obssize])\n",
    "timedf[!, :fitmin] = timedf[!, :fittime] - timedf[!, :se]\n",
    "timedf[!, :fitmax] = timedf[!, :fittime] + timedf[!, :se]\n",
    "timedf[!, :perobsratio] = timedf[!, :fittime] ./ timedf[!, :nobs]\n",
    "timedf"
   ]
  },
  {
   "cell_type": "code",
   "execution_count": 38,
   "metadata": {},
   "outputs": [
    {
     "data": {
      "image/png": "[encoded data removed]"
     },
     "metadata": {},
     "output_type": "display_data"
    },
    {
     "data": {
      "text/plain": [
       "RObject{VecSxp}\n"
      ]
     },
     "execution_count": 38,
     "metadata": {},
     "output_type": "execute_result"
    },
    {
     "name": "stderr",
     "output_type": "stream",
     "text": [
      "┌ Warning: RCall.jl: Warning: Removed 6 row(s) containing missing values (geom_path).\n",
      "│ Warning: Removed 6 rows containing missing values (geom_point).\n",
      "└ @ RCall /Users/sarahji/.julia/packages/RCall/iMDW2/src/io.jl:160\n"
     ]
    }
   ],
   "source": [
    "########### plot the runtimes\n",
    "using RCall\n",
    "@rput timedf\n",
    "\n",
    "R\"\"\"\n",
    "library(ggplot2)\n",
    "timedf$obssize = factor(timedf$obssize, levels = c('5', '10', '20', '50', '100'))\n",
    "timedf$samplesize = factor(timedf$samplesize, levels = c('100', '1000', '10000'))\n",
    "\n",
    "fittime_1 = ggplot(timedf, aes(x = samplesize, y = fittime, group = obssize, color = obssize)) + \n",
    "  geom_line() +\n",
    "  geom_point()+\n",
    "  geom_errorbar(aes(ymin=fitmin, ymax=fitmax), width=0.5, alpha = 0.8, position=position_dodge(0.005)) + \n",
    "  theme(legend.position=c(0.15,0.85), legend.key = element_blank(), axis.text.x = element_text(angle=0, size=13),\n",
    "        axis.text.y = element_text(angle=0, size=13), axis.title.x = element_text(size = 17), \n",
    "        axis.title.y = element_text(size = 17), legend.title = element_text(size = 14),\n",
    "        #axis.ticks = element_blank(),\n",
    "        panel.grid.major = element_blank(), legend.text=element_text(size=13),\n",
    "        panel.border = element_blank(), panel.grid.minor = element_blank(), panel.background = element_blank(), \n",
    "        axis.line = element_line(color = 'black',size=0.3), plot.title = element_text(hjust = 0.5)) + \n",
    "   scale_color_manual(values = c(\"#c85f55\",\n",
    "\"#a964bf\",\n",
    "\"#8db352\",\n",
    "\"#fa7300\",\n",
    "\"#05aec0\",\n",
    "\"#ff1493\")) +\n",
    "  labs(x = \"Number of Individuals\", y = \"Fit time (seconds)\", color = \"Obs per Individual\")\n",
    "\"\"\""
   ]
  },
  {
   "cell_type": "code",
   "execution_count": 27,
   "metadata": {},
   "outputs": [
    {
     "data": {
      "text/plain": [
       "RObject{StrSxp}\n",
       "[1] \"fittime_nsamples_bernoulli_AR.png\"\n"
      ]
     },
     "execution_count": 27,
     "metadata": {},
     "output_type": "execute_result"
    }
   ],
   "source": [
    "R\"\"\"\n",
    "ggsave('fittime_nsamples_bernoulli_AR.png', fittime_1, width = 12.5, height = 15, units = 'in', dpi = 450)\n",
    "\"\"\""
   ]
  },
  {
   "cell_type": "code",
   "execution_count": 39,
   "metadata": {},
   "outputs": [
    {
     "data": {
      "text/html": [
       "<div class=\"data-frame\"><p>15 rows × 6 columns (omitted printing of 1 columns)</p><table class=\"data-frame\"><thead><tr><th></th><th>people_obs</th><th>β1</th><th>β2</th><th>β3</th><th>σ2</th></tr><tr><th></th><th title=\"String\">String</th><th title=\"Tuple{Float64, Float64}\">Tuple…</th><th title=\"Tuple{Float64, Float64}\">Tuple…</th><th title=\"Tuple{Float64, Float64}\">Tuple…</th><th title=\"Tuple{Float64, Float64}\">Tuple…</th></tr></thead><tbody><tr><th>1</th><td>N: 100  ni: 5</td><td>(0.74, 0.0440844)</td><td>(0.68, 0.0468826)</td><td>(0.71, 0.0456048)</td><td>(0.1, 0.0301511)</td></tr><tr><th>2</th><td>N: 100  ni: 10</td><td>(0.81, 0.0394277)</td><td>(0.73, 0.0446196)</td><td>(0.87, 0.0337998)</td><td>(0.01, 0.01)</td></tr><tr><th>3</th><td>N: 100  ni: 20</td><td>(NaN, NaN)</td><td>(NaN, NaN)</td><td>(NaN, NaN)</td><td>(NaN, NaN)</td></tr><tr><th>4</th><td>N: 100  ni: 50</td><td>(NaN, NaN)</td><td>(NaN, NaN)</td><td>(NaN, NaN)</td><td>(NaN, NaN)</td></tr><tr><th>5</th><td>N: 100  ni: 100</td><td>(NaN, NaN)</td><td>(NaN, NaN)</td><td>(NaN, NaN)</td><td>(NaN, NaN)</td></tr><tr><th>6</th><td>N: 1000  ni: 5</td><td>(0.81, 0.0394277)</td><td>(0.62, 0.0487832)</td><td>(0.83, 0.0377525)</td><td>(0.0, 0.0)</td></tr><tr><th>7</th><td>N: 1000  ni: 10</td><td>(0.89, 0.0314466)</td><td>(0.55, 0.05)</td><td>(0.84, 0.0368453)</td><td>(0.0, 0.0)</td></tr><tr><th>8</th><td>N: 1000  ni: 20</td><td>(0.93, 0.0256432)</td><td>(0.55, 0.05)</td><td>(0.83, 0.0377525)</td><td>(0.0, 0.0)</td></tr><tr><th>9</th><td>N: 1000  ni: 50</td><td>(NaN, NaN)</td><td>(NaN, NaN)</td><td>(NaN, NaN)</td><td>(NaN, NaN)</td></tr><tr><th>10</th><td>N: 1000  ni: 100</td><td>(NaN, NaN)</td><td>(NaN, NaN)</td><td>(NaN, NaN)</td><td>(NaN, NaN)</td></tr><tr><th>11</th><td>N: 10000  ni: 5</td><td>(0.94, 0.0238683)</td><td>(0.06, 0.0238683)</td><td>(0.82, 0.0386123)</td><td>(0.0, 0.0)</td></tr><tr><th>12</th><td>N: 10000  ni: 10</td><td>(0.85, 0.035887)</td><td>(0.0, 0.0)</td><td>(0.85, 0.035887)</td><td>(0.0, 0.0)</td></tr><tr><th>13</th><td>N: 10000  ni: 20</td><td>(0.85, 0.035887)</td><td>(0.0, 0.0)</td><td>(0.88, 0.0326599)</td><td>(0.0, 0.0)</td></tr><tr><th>14</th><td>N: 10000  ni: 50</td><td>(0.43, 0.049757)</td><td>(0.0, 0.0)</td><td>(0.61, 0.0490207)</td><td>(0.0, 0.0)</td></tr><tr><th>15</th><td>N: 10000  ni: 100</td><td>(NaN, NaN)</td><td>(NaN, NaN)</td><td>(NaN, NaN)</td><td>(NaN, NaN)</td></tr></tbody></table></div>"
      ],
      "text/latex": [
       "\\begin{tabular}{r|cccccc}\n",
       "\t& people\\_obs & β1 & β2 & β3 & σ2 & \\\\\n",
       "\t\\hline\n",
       "\t& String & Tuple… & Tuple… & Tuple… & Tuple… & \\\\\n",
       "\t\\hline\n",
       "\t1 & N: 100  ni: 5 & (0.74, 0.0440844) & (0.68, 0.0468826) & (0.71, 0.0456048) & (0.1, 0.0301511) & $\\dots$ \\\\\n",
       "\t2 & N: 100  ni: 10 & (0.81, 0.0394277) & (0.73, 0.0446196) & (0.87, 0.0337998) & (0.01, 0.01) & $\\dots$ \\\\\n",
       "\t3 & N: 100  ni: 20 & (NaN, NaN) & (NaN, NaN) & (NaN, NaN) & (NaN, NaN) & $\\dots$ \\\\\n",
       "\t4 & N: 100  ni: 50 & (NaN, NaN) & (NaN, NaN) & (NaN, NaN) & (NaN, NaN) & $\\dots$ \\\\\n",
       "\t5 & N: 100  ni: 100 & (NaN, NaN) & (NaN, NaN) & (NaN, NaN) & (NaN, NaN) & $\\dots$ \\\\\n",
       "\t6 & N: 1000  ni: 5 & (0.81, 0.0394277) & (0.62, 0.0487832) & (0.83, 0.0377525) & (0.0, 0.0) & $\\dots$ \\\\\n",
       "\t7 & N: 1000  ni: 10 & (0.89, 0.0314466) & (0.55, 0.05) & (0.84, 0.0368453) & (0.0, 0.0) & $\\dots$ \\\\\n",
       "\t8 & N: 1000  ni: 20 & (0.93, 0.0256432) & (0.55, 0.05) & (0.83, 0.0377525) & (0.0, 0.0) & $\\dots$ \\\\\n",
       "\t9 & N: 1000  ni: 50 & (NaN, NaN) & (NaN, NaN) & (NaN, NaN) & (NaN, NaN) & $\\dots$ \\\\\n",
       "\t10 & N: 1000  ni: 100 & (NaN, NaN) & (NaN, NaN) & (NaN, NaN) & (NaN, NaN) & $\\dots$ \\\\\n",
       "\t11 & N: 10000  ni: 5 & (0.94, 0.0238683) & (0.06, 0.0238683) & (0.82, 0.0386123) & (0.0, 0.0) & $\\dots$ \\\\\n",
       "\t12 & N: 10000  ni: 10 & (0.85, 0.035887) & (0.0, 0.0) & (0.85, 0.035887) & (0.0, 0.0) & $\\dots$ \\\\\n",
       "\t13 & N: 10000  ni: 20 & (0.85, 0.035887) & (0.0, 0.0) & (0.88, 0.0326599) & (0.0, 0.0) & $\\dots$ \\\\\n",
       "\t14 & N: 10000  ni: 50 & (0.43, 0.049757) & (0.0, 0.0) & (0.61, 0.0490207) & (0.0, 0.0) & $\\dots$ \\\\\n",
       "\t15 & N: 10000  ni: 100 & (NaN, NaN) & (NaN, NaN) & (NaN, NaN) & (NaN, NaN) & $\\dots$ \\\\\n",
       "\\end{tabular}\n"
      ],
      "text/plain": [
       "\u001b[1m15×6 DataFrame\u001b[0m\n",
       "\u001b[1m Row \u001b[0m│\u001b[1m people_obs        \u001b[0m\u001b[1m β1                \u001b[0m\u001b[1m β2                \u001b[0m\u001b[1m β3            \u001b[0m ⋯\n",
       "\u001b[1m     \u001b[0m│\u001b[90m String            \u001b[0m\u001b[90m Tuple…            \u001b[0m\u001b[90m Tuple…            \u001b[0m\u001b[90m Tuple…        \u001b[0m ⋯\n",
       "─────┼──────────────────────────────────────────────────────────────────────────\n",
       "   1 │ N: 100  ni: 5      (0.74, 0.0440844)  (0.68, 0.0468826)  (0.71, 0.04560 ⋯\n",
       "   2 │ N: 100  ni: 10     (0.81, 0.0394277)  (0.73, 0.0446196)  (0.87, 0.03379\n",
       "   3 │ N: 100  ni: 20     (NaN, NaN)         (NaN, NaN)         (NaN, NaN)\n",
       "   4 │ N: 100  ni: 50     (NaN, NaN)         (NaN, NaN)         (NaN, NaN)\n",
       "   5 │ N: 100  ni: 100    (NaN, NaN)         (NaN, NaN)         (NaN, NaN)     ⋯\n",
       "   6 │ N: 1000  ni: 5     (0.81, 0.0394277)  (0.62, 0.0487832)  (0.83, 0.03775\n",
       "   7 │ N: 1000  ni: 10    (0.89, 0.0314466)  (0.55, 0.05)       (0.84, 0.03684\n",
       "   8 │ N: 1000  ni: 20    (0.93, 0.0256432)  (0.55, 0.05)       (0.83, 0.03775\n",
       "   9 │ N: 1000  ni: 50    (NaN, NaN)         (NaN, NaN)         (NaN, NaN)     ⋯\n",
       "  10 │ N: 1000  ni: 100   (NaN, NaN)         (NaN, NaN)         (NaN, NaN)\n",
       "  11 │ N: 10000  ni: 5    (0.94, 0.0238683)  (0.06, 0.0238683)  (0.82, 0.03861\n",
       "  12 │ N: 10000  ni: 10   (0.85, 0.035887)   (0.0, 0.0)         (0.85, 0.03588\n",
       "  13 │ N: 10000  ni: 20   (0.85, 0.035887)   (0.0, 0.0)         (0.88, 0.03265 ⋯\n",
       "  14 │ N: 10000  ni: 50   (0.43, 0.049757)   (0.0, 0.0)         (0.61, 0.04902\n",
       "  15 │ N: 10000  ni: 100  (NaN, NaN)         (NaN, NaN)         (NaN, NaN)\n",
       "\u001b[36m                                                               3 columns omitted\u001b[0m"
      ]
     },
     "execution_count": 39,
     "metadata": {},
     "output_type": "execute_result"
    }
   ],
   "source": [
    "######  supplementary table s1\n",
    "using Random, DataFrames, DelimitedFiles, Statistics\n",
    "import StatsBase: sem\n",
    "\n",
    "βρσ2coverage = readdlm(\"beta_rho_sigma_coverage_multivariate_bernoulli_AR$(nsims)reps_sim.csv\", ',')\n",
    "\n",
    "m = 2\n",
    "\n",
    "covdf = DataFrame(Matrix(transpose(βρσ2coverage)), :auto)\n",
    "rename!(covdf, Symbol.([[\"β$i\" for i in 1:p]; [\"σ2\"];  [\"ρ\"]]))\n",
    "covdf[!, :samplesize] = sample_sizes\n",
    "covdf[!, :obssize] = obs_sizes\n",
    "first(covdf, 10)\n",
    "\n",
    "row_stats = [[(mean(col), sem(col)) for col = eachcol(d[!, 1:end-2])] for d = groupby(covdf, [:samplesize; :obssize])]\n",
    "df = DataFrame(row_stats, :auto)\n",
    "ss_obs = unique(\"N: \" .* sample_sizes .* \"  ni: \" .* obs_sizes)\n",
    "rename!(df, Symbol.(ss_obs))\n",
    "covdfdisplay = DataFrame([[names(df)]; collect.(eachrow(df))], \n",
    "    [:people_obs; Symbol.([[\"β$i\" for i in 1:p]; [\"σ2\"]; [\"ρ\"]])])\n",
    "# deletecols!(covdfdisplay, p + 2)\n",
    "covdfdisplay\n"
   ]
  },
  {
   "cell_type": "code",
   "execution_count": 43,
   "metadata": {},
   "outputs": [
    {
     "data": {
      "text/html": [
       "<div class=\"data-frame\"><p>4,245 rows × 5 columns</p><table class=\"data-frame\"><thead><tr><th></th><th>mse</th><th>obssize</th><th>samplesize</th><th>parameters</th><th>robust</th></tr><tr><th></th><th title=\"Float64\">Float64</th><th title=\"String\">String</th><th title=\"String\">String</th><th title=\"String\">String</th><th title=\"String\">String</th></tr></thead><tbody><tr><th>1</th><td>0.0133634</td><td>5</td><td>100</td><td>beta</td><td>Bernoulli with LogitLink</td></tr><tr><th>2</th><td>0.0252184</td><td>5</td><td>100</td><td>beta</td><td>Bernoulli with LogitLink</td></tr><tr><th>3</th><td>0.000683405</td><td>5</td><td>100</td><td>beta</td><td>Bernoulli with LogitLink</td></tr><tr><th>4</th><td>0.0121072</td><td>5</td><td>100</td><td>beta</td><td>Bernoulli with LogitLink</td></tr><tr><th>5</th><td>0.00835273</td><td>5</td><td>100</td><td>beta</td><td>Bernoulli with LogitLink</td></tr><tr><th>6</th><td>0.010209</td><td>5</td><td>100</td><td>beta</td><td>Bernoulli with LogitLink</td></tr><tr><th>7</th><td>0.00271487</td><td>5</td><td>100</td><td>beta</td><td>Bernoulli with LogitLink</td></tr><tr><th>8</th><td>0.0219295</td><td>5</td><td>100</td><td>beta</td><td>Bernoulli with LogitLink</td></tr><tr><th>9</th><td>0.0105289</td><td>5</td><td>100</td><td>beta</td><td>Bernoulli with LogitLink</td></tr><tr><th>10</th><td>0.00330986</td><td>5</td><td>100</td><td>beta</td><td>Bernoulli with LogitLink</td></tr><tr><th>11</th><td>0.00698769</td><td>5</td><td>100</td><td>beta</td><td>Bernoulli with LogitLink</td></tr><tr><th>12</th><td>0.0201978</td><td>5</td><td>100</td><td>beta</td><td>Bernoulli with LogitLink</td></tr><tr><th>13</th><td>0.0263464</td><td>5</td><td>100</td><td>beta</td><td>Bernoulli with LogitLink</td></tr><tr><th>14</th><td>0.00820471</td><td>5</td><td>100</td><td>beta</td><td>Bernoulli with LogitLink</td></tr><tr><th>15</th><td>0.0151064</td><td>5</td><td>100</td><td>beta</td><td>Bernoulli with LogitLink</td></tr><tr><th>16</th><td>0.00143757</td><td>5</td><td>100</td><td>beta</td><td>Bernoulli with LogitLink</td></tr><tr><th>17</th><td>0.00206888</td><td>5</td><td>100</td><td>beta</td><td>Bernoulli with LogitLink</td></tr><tr><th>18</th><td>0.00588383</td><td>5</td><td>100</td><td>beta</td><td>Bernoulli with LogitLink</td></tr><tr><th>19</th><td>0.00528824</td><td>5</td><td>100</td><td>beta</td><td>Bernoulli with LogitLink</td></tr><tr><th>20</th><td>0.0043014</td><td>5</td><td>100</td><td>beta</td><td>Bernoulli with LogitLink</td></tr><tr><th>21</th><td>0.0043997</td><td>5</td><td>100</td><td>beta</td><td>Bernoulli with LogitLink</td></tr><tr><th>22</th><td>0.0197857</td><td>5</td><td>100</td><td>beta</td><td>Bernoulli with LogitLink</td></tr><tr><th>23</th><td>0.0101263</td><td>5</td><td>100</td><td>beta</td><td>Bernoulli with LogitLink</td></tr><tr><th>24</th><td>0.0106306</td><td>5</td><td>100</td><td>beta</td><td>Bernoulli with LogitLink</td></tr><tr><th>25</th><td>0.00754206</td><td>5</td><td>100</td><td>beta</td><td>Bernoulli with LogitLink</td></tr><tr><th>26</th><td>0.0124011</td><td>5</td><td>100</td><td>beta</td><td>Bernoulli with LogitLink</td></tr><tr><th>27</th><td>0.00282883</td><td>5</td><td>100</td><td>beta</td><td>Bernoulli with LogitLink</td></tr><tr><th>28</th><td>0.00826796</td><td>5</td><td>100</td><td>beta</td><td>Bernoulli with LogitLink</td></tr><tr><th>29</th><td>0.00690145</td><td>5</td><td>100</td><td>beta</td><td>Bernoulli with LogitLink</td></tr><tr><th>30</th><td>0.0144743</td><td>5</td><td>100</td><td>beta</td><td>Bernoulli with LogitLink</td></tr><tr><th>&vellip;</th><td>&vellip;</td><td>&vellip;</td><td>&vellip;</td><td>&vellip;</td><td>&vellip;</td></tr></tbody></table></div>"
      ],
      "text/latex": [
       "\\begin{tabular}{r|ccccc}\n",
       "\t& mse & obssize & samplesize & parameters & robust\\\\\n",
       "\t\\hline\n",
       "\t& Float64 & String & String & String & String\\\\\n",
       "\t\\hline\n",
       "\t1 & 0.0133634 & 5 & 100 & beta & Bernoulli with LogitLink \\\\\n",
       "\t2 & 0.0252184 & 5 & 100 & beta & Bernoulli with LogitLink \\\\\n",
       "\t3 & 0.000683405 & 5 & 100 & beta & Bernoulli with LogitLink \\\\\n",
       "\t4 & 0.0121072 & 5 & 100 & beta & Bernoulli with LogitLink \\\\\n",
       "\t5 & 0.00835273 & 5 & 100 & beta & Bernoulli with LogitLink \\\\\n",
       "\t6 & 0.010209 & 5 & 100 & beta & Bernoulli with LogitLink \\\\\n",
       "\t7 & 0.00271487 & 5 & 100 & beta & Bernoulli with LogitLink \\\\\n",
       "\t8 & 0.0219295 & 5 & 100 & beta & Bernoulli with LogitLink \\\\\n",
       "\t9 & 0.0105289 & 5 & 100 & beta & Bernoulli with LogitLink \\\\\n",
       "\t10 & 0.00330986 & 5 & 100 & beta & Bernoulli with LogitLink \\\\\n",
       "\t11 & 0.00698769 & 5 & 100 & beta & Bernoulli with LogitLink \\\\\n",
       "\t12 & 0.0201978 & 5 & 100 & beta & Bernoulli with LogitLink \\\\\n",
       "\t13 & 0.0263464 & 5 & 100 & beta & Bernoulli with LogitLink \\\\\n",
       "\t14 & 0.00820471 & 5 & 100 & beta & Bernoulli with LogitLink \\\\\n",
       "\t15 & 0.0151064 & 5 & 100 & beta & Bernoulli with LogitLink \\\\\n",
       "\t16 & 0.00143757 & 5 & 100 & beta & Bernoulli with LogitLink \\\\\n",
       "\t17 & 0.00206888 & 5 & 100 & beta & Bernoulli with LogitLink \\\\\n",
       "\t18 & 0.00588383 & 5 & 100 & beta & Bernoulli with LogitLink \\\\\n",
       "\t19 & 0.00528824 & 5 & 100 & beta & Bernoulli with LogitLink \\\\\n",
       "\t20 & 0.0043014 & 5 & 100 & beta & Bernoulli with LogitLink \\\\\n",
       "\t21 & 0.0043997 & 5 & 100 & beta & Bernoulli with LogitLink \\\\\n",
       "\t22 & 0.0197857 & 5 & 100 & beta & Bernoulli with LogitLink \\\\\n",
       "\t23 & 0.0101263 & 5 & 100 & beta & Bernoulli with LogitLink \\\\\n",
       "\t24 & 0.0106306 & 5 & 100 & beta & Bernoulli with LogitLink \\\\\n",
       "\t25 & 0.00754206 & 5 & 100 & beta & Bernoulli with LogitLink \\\\\n",
       "\t26 & 0.0124011 & 5 & 100 & beta & Bernoulli with LogitLink \\\\\n",
       "\t27 & 0.00282883 & 5 & 100 & beta & Bernoulli with LogitLink \\\\\n",
       "\t28 & 0.00826796 & 5 & 100 & beta & Bernoulli with LogitLink \\\\\n",
       "\t29 & 0.00690145 & 5 & 100 & beta & Bernoulli with LogitLink \\\\\n",
       "\t30 & 0.0144743 & 5 & 100 & beta & Bernoulli with LogitLink \\\\\n",
       "\t$\\dots$ & $\\dots$ & $\\dots$ & $\\dots$ & $\\dots$ & $\\dots$ \\\\\n",
       "\\end{tabular}\n"
      ],
      "text/plain": [
       "\u001b[1m4245×5 DataFrame\u001b[0m\n",
       "\u001b[1m  Row \u001b[0m│\u001b[1m mse         \u001b[0m\u001b[1m obssize \u001b[0m\u001b[1m samplesize \u001b[0m\u001b[1m parameters \u001b[0m\u001b[1m robust                  \u001b[0m ⋯\n",
       "\u001b[1m      \u001b[0m│\u001b[90m Float64     \u001b[0m\u001b[90m String  \u001b[0m\u001b[90m String     \u001b[0m\u001b[90m String     \u001b[0m\u001b[90m String                  \u001b[0m ⋯\n",
       "──────┼─────────────────────────────────────────────────────────────────────────\n",
       "    1 │ 0.0133634    5        100         beta        Bernoulli with LogitLink ⋯\n",
       "    2 │ 0.0252184    5        100         beta        Bernoulli with LogitLink\n",
       "    3 │ 0.000683405  5        100         beta        Bernoulli with LogitLink\n",
       "    4 │ 0.0121072    5        100         beta        Bernoulli with LogitLink\n",
       "    5 │ 0.00835273   5        100         beta        Bernoulli with LogitLink ⋯\n",
       "    6 │ 0.010209     5        100         beta        Bernoulli with LogitLink\n",
       "    7 │ 0.00271487   5        100         beta        Bernoulli with LogitLink\n",
       "    8 │ 0.0219295    5        100         beta        Bernoulli with LogitLink\n",
       "    9 │ 0.0105289    5        100         beta        Bernoulli with LogitLink ⋯\n",
       "   10 │ 0.00330986   5        100         beta        Bernoulli with LogitLink\n",
       "   11 │ 0.00698769   5        100         beta        Bernoulli with LogitLink\n",
       "  ⋮   │      ⋮          ⋮         ⋮           ⋮                  ⋮             ⋱\n",
       " 4236 │ 1.52477e-5   100      10000       rho         Bernoulli with LogitLink\n",
       " 4237 │ 2.17043e-5   100      10000       rho         Bernoulli with LogitLink ⋯\n",
       " 4238 │ 6.5914e-6    100      10000       rho         Bernoulli with LogitLink\n",
       " 4239 │ 0.00100523   100      10000       rho         Bernoulli with LogitLink\n",
       " 4240 │ 2.45502e-5   100      10000       rho         Bernoulli with LogitLink\n",
       " 4241 │ 1.89496e-5   100      10000       rho         Bernoulli with LogitLink ⋯\n",
       " 4242 │ 6.99482e-6   100      10000       rho         Bernoulli with LogitLink\n",
       " 4243 │ 6.46576e-7   100      10000       rho         Bernoulli with LogitLink\n",
       " 4244 │ 7.08187e-8   100      10000       rho         Bernoulli with LogitLink\n",
       " 4245 │ 2.07659e-6   100      10000       rho         Bernoulli with LogitLink ⋯\n",
       "\u001b[36m                                                              4224 rows omitted\u001b[0m"
      ]
     },
     "execution_count": 43,
     "metadata": {},
     "output_type": "execute_result"
    }
   ],
   "source": [
    "#### \n",
    "#import data and reorganize to create figure\n",
    "using Random, DataFrames, DelimitedFiles, Statistics, RCall, Printf\n",
    "import StatsBase: sem\n",
    "\n",
    "βMseresult_1 = vec(readdlm(\"mse_beta_multivariate_bernoulli_AR$(nsims)reps_sim.csv\", ','))\n",
    "σ2MseResult_1 = vec(readdlm(\"mse_sigma_multivariate_bernoulli_AR$(nsims)reps_sim.csv\", ','))\n",
    "ρMseResult_1 = vec(readdlm(\"mse_rho_multivariate_bernoulli_AR$(nsims)reps_sim.csv\", ','))\n",
    "βρσ2coverage_1 = readdlm(\"beta_rho_sigma_coverage_multivariate_bernoulli_AR$(nsims)reps_sim.csv\", ',')\n",
    "\n",
    "samplesizesrobust = samplesizes\n",
    "nsrobust = ns\n",
    "nsimsrobust = nsims\n",
    "\n",
    "p = 3\n",
    "sample_sizesrobust = repeat(string.(samplesizesrobust), inner = nsimsrobust * length(nsrobust))\n",
    "obs_sizesrobust = repeat(string.(nsrobust), inner = nsimsrobust, outer = length(samplesizesrobust))\n",
    "msedfrobust = DataFrame(βmse = βMseresult_1, σ2mse = σ2MseResult_1, ρmse = ρMseResult_1,\n",
    "    samplesize = sample_sizesrobust, obssize = obs_sizesrobust)\n",
    "\n",
    "\n",
    "msedfrobustR = deepcopy(msedfrobust)\n",
    "rename!(msedfrobustR, [\"betamse\"\n",
    "    \"sigmamse\"\n",
    "        \"rhomse\"\n",
    "    \"samplesize\"\n",
    " \"obssize\"]);\n",
    "\n",
    "mses = [msedfrobustR[!, :betamse]; msedfrobustR[!, :sigmamse] ; msedfrobustR[!, :rhomse]]\n",
    "    # msedfnormR[!, :betamse]; msedfnormR[!, :taumse]; msedfnormR[!, :Sigmamse]]\n",
    "obssize = collect([repeat(msedfrobustR[!, :obssize], 3)]...)\n",
    "\n",
    "samplesize = collect([repeat(msedfrobustR[!, :samplesize], 3)]...) \n",
    "\n",
    "parameters = collect([repeat(string.([:beta, :sigma, :rho]), inner = nsimsrobust * length(nsrobust) * length(samplesizesrobust))]...)\n",
    "robust = collect([repeat([\"Bernoulli with LogitLink\"], 3 * nsimsrobust * length(nsrobust) * length(samplesizesrobust))]...) # ;\n",
    "\n",
    "msedfR = DataFrame(mse = mses, obssize = obssize, samplesize = samplesize,\n",
    "    parameters = parameters, robust = robust)\n",
    "\n",
    "#5 of the 30,000 simulations did not converge, filter out\n",
    "msedfR = filter(x -> !isnan(x.mse), msedfR)\n",
    "# additionally, there are 5 where an error was not caught so it did not try a differnt solver\n",
    "msedfR = filter(x -> x.mse < 200, msedfR)"
   ]
  },
  {
   "cell_type": "code",
   "execution_count": 44,
   "metadata": {},
   "outputs": [
    {
     "data": {
      "image/png": "[encoded data removed]"
     },
     "metadata": {},
     "output_type": "display_data"
    },
    {
     "data": {
      "text/plain": [
       "RObject{VecSxp}\n"
      ]
     },
     "execution_count": 44,
     "metadata": {},
     "output_type": "execute_result"
    }
   ],
   "source": [
    "### working on figure next\n",
    "@rput msedfR\n",
    "\n",
    "R\"\"\"\n",
    "library(scales)\n",
    "library(ggplot2)\n",
    "library(data.table)\n",
    "\n",
    "msedfR = data.table(msedfR)\n",
    "\n",
    "msedfR[parameters == \"beta\",y_min := 10^-4]\n",
    "msedfR[parameters == \"beta\",y_max := 10^1]\n",
    "msedfR[parameters == \"sigma\",y_min := 10^-5]\n",
    "msedfR[parameters == \"sigma\",y_max := 10^1]\n",
    "msedfR[parameters == \"rho\",y_min := 10^-5]\n",
    "msedfR[parameters == \"rho\",y_max := 10^-2]\n",
    "\n",
    "#msedfR[parameters == \"beta\",y_min := 10^-8]\n",
    "#msedfR[parameters == \"beta\",y_max := 10^-2]\n",
    "#msedfR[parameters == \"tau\",y_min := 10^-8]\n",
    "#msedfR[parameters == \"tau\",y_max := 10^-2]\n",
    "#msedfR[parameters == \"Sigma\",y_min := 10^-5]\n",
    "#msedfR[parameters == \"Sigma\",y_max := 10^-2]\n",
    "\n",
    "\n",
    "msedfR$obssize = factor(msedfR$obssize, levels = c('5', '10', '20', '50', '100'))\n",
    "msedfR$samplesize = factor(msedfR$samplesize, levels = c('100', '1000', '10000'))\n",
    "msedfR$parameters = factor(msedfR$parameters, levels = c('beta', 'sigma', 'rho'), labels = c(beta = expression(hat(bold(beta))), Sigma = expression(hat(bold(sigma))[]), rho = expression(hat(bold(rho)))))\n",
    "msedfR$robust = factor(msedfR$robust, levels = c('Bernoulli with LogitLink'),\n",
    "    labels = c(expression(paste(\"Bernoulli with LogitLink\")))) # , expression(paste(\"MvT Gamma Inverse-Gamma\"))))\n",
    "\n",
    "\n",
    "#mseplot <- ggplot(msedfR[msedfR$mse < 10^0, ], aes(x=samplesize, y=mse, fill=obssize)) + \n",
    "mseplot = ggplot(msedfR[msedfR$mse < 10^3, ], aes(x=samplesize, y=mse, fill=obssize)) + \n",
    "  #geom_boxplot(outlier.size = 0.0, outlier.alpha = 0) +\n",
    "  geom_boxplot(outlier.size = 0.25) +\n",
    "#    geom_violin() +\n",
    "    facet_grid(parameters ~ robust, labeller = label_parsed, scales = \"free_y\") +\n",
    "  theme(legend.position=\"right\", legend.key = element_blank(), axis.text.x = element_text(angle=0, size=11),\n",
    "        axis.text.y = element_text(angle=0, size=12), axis.title.x = element_text(size = 15), \n",
    "        axis.title.y = element_text(size = 15), legend.title = element_text(size = 12),\n",
    "        panel.grid.major = element_blank(), panel.grid.minor = element_blank(),\n",
    "        legend.text=element_text(size=10), panel.background = element_rect(fill = NA, color = \"black\"),\n",
    "        #panel.background = element_blank(), #panel.border = element_blank(),\n",
    "        axis.line = element_line(color = 'black',size=0.3), plot.title = element_text(hjust = 0.5),\n",
    "        strip.background = element_rect(colour=\"black\", fill=\"white\"), strip.text.y = element_text(size=15, face=\"bold\"),\n",
    "        strip.text.x = element_text(size=15)) + \n",
    "  scale_fill_manual(values = c(\"#c85f55\",\n",
    "\"#a964bf\",\n",
    "\"#8db352\",\n",
    "\"#fa7300\",\n",
    "\"#05aec0\",\n",
    "\"#ff1493\")) +\n",
    "#scale_y_log10(breaks = scales::trans_breaks(\"log10\", function(x) 10^x)) +\n",
    "#scale_y_log10(breaks = 10^(-8:8), limit=c(10^-8, 10^2)) + \n",
    "scale_y_log10(breaks = 10^seq(-8, 8, 2), labels=trans_format(\"log10\", math_format(10^.x))) + #, limit=c(10^-8, 10^2)) +\n",
    "  labs(x = \"Number of Individuals\", y = \"MSE of Parameter Estimates\", fill = \"Obs per Individual\") +\n",
    "geom_blank(aes(y = y_max)) + \n",
    "geom_blank(aes(y = y_min)) \n",
    "\n",
    "\"\"\""
   ]
  },
  {
   "cell_type": "code",
   "execution_count": 45,
   "metadata": {},
   "outputs": [
    {
     "data": {
      "text/plain": [
       "RObject{StrSxp}\n",
       "[1] \"updated_msefacetplot_bernoulli_AR.png\"\n"
      ]
     },
     "execution_count": 45,
     "metadata": {},
     "output_type": "execute_result"
    }
   ],
   "source": [
    "R\"\"\"\n",
    "ggsave('updated_msefacetplot_bernoulli_AR.png', mseplot, width = 12.5, height = 15, units = 'in', dpi = 450)\n",
    "\"\"\""
   ]
  },
  {
   "cell_type": "code",
   "execution_count": null,
   "metadata": {},
   "outputs": [],
   "source": []
  }
 ],
 "metadata": {
  "@webio": {
   "lastCommId": null,
   "lastKernelId": null
  },
  "kernelspec": {
   "display_name": "Julia 1.6.2",
   "language": "julia",
   "name": "julia-1.6"
  },
  "language_info": {
   "file_extension": ".jl",
   "mimetype": "application/julia",
   "name": "julia",
   "version": "1.6.2"
  }
 },
 "nbformat": 4,
 "nbformat_minor": 2
}
