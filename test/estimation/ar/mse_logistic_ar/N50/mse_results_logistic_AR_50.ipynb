{
 "cells": [
  {
   "cell_type": "markdown",
   "metadata": {},
   "source": [
    "## Logistic AR Results \n",
    "\n",
    "This notebook goes over the code needed to reproduce the results from the MSE and time figures in the first simulation in the paper. \n",
    "\n",
    "In this example we have Bernoulli base distribution with Logit Link function and covariance matrix $\\Gamma$ structured under AR covariance with $\\rho = 0.9, \\sigma^2 = 0.1$"
   ]
  },
  {
   "cell_type": "code",
   "execution_count": 1,
   "metadata": {},
   "outputs": [
    {
     "name": "stdout",
     "output_type": "stream",
     "text": [
      "Julia Version 1.6.2\n",
      "Commit 1b93d53fc4 (2021-07-14 15:36 UTC)\n",
      "Platform Info:\n",
      "  OS: macOS (x86_64-apple-darwin18.7.0)\n",
      "  CPU: Intel(R) Core(TM) i9-9880H CPU @ 2.30GHz\n",
      "  WORD_SIZE: 64\n",
      "  LIBM: libopenlibm\n",
      "  LLVM: libLLVM-11.0.1 (ORCJIT, skylake)\n"
     ]
    }
   ],
   "source": [
    "versioninfo()"
   ]
  },
  {
   "cell_type": "code",
   "execution_count": 2,
   "metadata": {},
   "outputs": [],
   "source": [
    "using GLMCopula, DelimitedFiles, LinearAlgebra, Random, GLM\n",
    "using Random, Roots, SpecialFunctions, DataFrames"
   ]
  },
  {
   "cell_type": "code",
   "execution_count": 3,
   "metadata": {},
   "outputs": [
    {
     "data": {
      "text/plain": [
       "50"
      ]
     },
     "execution_count": 3,
     "metadata": {},
     "output_type": "execute_result"
    }
   ],
   "source": [
    "p  = 3    # number of fixed effects, including intercept\n",
    "\n",
    "# true parameter values\n",
    "βtrue = ones(p)\n",
    "σ2true = [0.1]\n",
    "ρtrue = [0.9]\n",
    "\n",
    "# generate data\n",
    "trueparams = [βtrue; σ2true; ρtrue] #hold true parameters\n",
    "\n",
    "#simulation parameters\n",
    "samplesizes = [1000; 10000; 50000]\n",
    "ns = [5; 10; 20; 50]\n",
    "nsims = 50"
   ]
  },
  {
   "cell_type": "code",
   "execution_count": 4,
   "metadata": {},
   "outputs": [
    {
     "name": "stderr",
     "output_type": "stream",
     "text": [
      "┌ Info: reading in the files with results\n",
      "└ @ Main In[4]:1\n"
     ]
    },
    {
     "data": {
      "text/plain": [
       "600-element Vector{Float64}:\n",
       "   1.892342751\n",
       "   0.169272335\n",
       "   0.15695689\n",
       "   0.248287004\n",
       "   0.188995608\n",
       "   0.190701837\n",
       "   0.196185067\n",
       "   0.267063821\n",
       "   0.246493485\n",
       "   0.207082051\n",
       "   0.208841569\n",
       "   0.234890864\n",
       "   0.189928634\n",
       "   ⋮\n",
       "  91.739845591\n",
       "  63.192130659\n",
       "  86.475203317\n",
       " 102.163822306\n",
       "  75.994718271\n",
       " 116.227160683\n",
       "  94.951015\n",
       "  61.234621417\n",
       "  87.405961815\n",
       "  75.670840345\n",
       "  73.085693166\n",
       "  90.227366354"
      ]
     },
     "execution_count": 4,
     "metadata": {},
     "output_type": "execute_result"
    }
   ],
   "source": [
    "@info \"reading in the files with results\"\n",
    "βMseresult = vec(readdlm(\"mse_beta_multivariate_logistic_AR50reps_sim.csv\", ','))\n",
    "σ2MseResult = vec(readdlm(\"mse_sigma_multivariate_logistic_AR50reps_sim.csv\", ','))\n",
    "ρMseResult = vec(readdlm(\"mse_rho_multivariate_logistic_AR50reps_sim.csv\", ','))\n",
    "fittimes = vec(readdlm(\"fittimes_multivariate_logistic_AR50reps_sim.csv\", ','))"
   ]
  },
  {
   "cell_type": "code",
   "execution_count": 5,
   "metadata": {},
   "outputs": [
    {
     "name": "stderr",
     "output_type": "stream",
     "text": [
      "┌ Info: making results table\n",
      "└ @ Main In[5]:2\n"
     ]
    },
    {
     "data": {
      "text/html": [
       "<table class=\"data-frame\"><thead><tr><th></th><th>samplesize</th><th>obssize</th><th>fittime</th><th>se</th><th>nobs</th><th>fitmin</th><th>fitmax</th><th>perobsratio</th></tr><tr><th></th><th>String</th><th>String</th><th>Float64</th><th>Float64</th><th>Int64</th><th>Float64</th><th>Float64</th><th>Float64</th></tr></thead><tbody><p>12 rows × 8 columns</p><tr><th>1</th><td>1000</td><td>5</td><td>0.252209</td><td>0.034657</td><td>5000</td><td>0.217552</td><td>0.286866</td><td>5.04419e-5</td></tr><tr><th>2</th><td>1000</td><td>10</td><td>0.285274</td><td>0.00890207</td><td>10000</td><td>0.276372</td><td>0.294176</td><td>2.85274e-5</td></tr><tr><th>3</th><td>1000</td><td>20</td><td>0.589229</td><td>0.0176436</td><td>20000</td><td>0.571586</td><td>0.606873</td><td>2.94615e-5</td></tr><tr><th>4</th><td>1000</td><td>50</td><td>2.31605</td><td>0.0967079</td><td>50000</td><td>2.21934</td><td>2.41275</td><td>4.63209e-5</td></tr><tr><th>5</th><td>10000</td><td>5</td><td>1.71144</td><td>0.0420195</td><td>50000</td><td>1.66942</td><td>1.75346</td><td>3.42288e-5</td></tr><tr><th>6</th><td>10000</td><td>10</td><td>3.29862</td><td>0.0809409</td><td>100000</td><td>3.21768</td><td>3.37956</td><td>3.29862e-5</td></tr><tr><th>7</th><td>10000</td><td>20</td><td>5.039</td><td>0.146706</td><td>200000</td><td>4.8923</td><td>5.18571</td><td>2.5195e-5</td></tr><tr><th>8</th><td>10000</td><td>50</td><td>15.6415</td><td>0.662878</td><td>500000</td><td>14.9786</td><td>16.3044</td><td>3.1283e-5</td></tr><tr><th>9</th><td>50000</td><td>5</td><td>11.7172</td><td>0.303241</td><td>250000</td><td>11.414</td><td>12.0204</td><td>4.68688e-5</td></tr><tr><th>10</th><td>50000</td><td>10</td><td>14.5065</td><td>0.452259</td><td>500000</td><td>14.0542</td><td>14.9588</td><td>2.9013e-5</td></tr><tr><th>11</th><td>50000</td><td>20</td><td>26.5924</td><td>0.952706</td><td>1000000</td><td>25.6397</td><td>27.5451</td><td>2.65924e-5</td></tr><tr><th>12</th><td>50000</td><td>50</td><td>85.2459</td><td>2.95643</td><td>2500000</td><td>82.2895</td><td>88.2023</td><td>3.40984e-5</td></tr></tbody></table>"
      ],
      "text/latex": [
       "\\begin{tabular}{r|cccccccc}\n",
       "\t& samplesize & obssize & fittime & se & nobs & fitmin & fitmax & perobsratio\\\\\n",
       "\t\\hline\n",
       "\t& String & String & Float64 & Float64 & Int64 & Float64 & Float64 & Float64\\\\\n",
       "\t\\hline\n",
       "\t1 & 1000 & 5 & 0.252209 & 0.034657 & 5000 & 0.217552 & 0.286866 & 5.04419e-5 \\\\\n",
       "\t2 & 1000 & 10 & 0.285274 & 0.00890207 & 10000 & 0.276372 & 0.294176 & 2.85274e-5 \\\\\n",
       "\t3 & 1000 & 20 & 0.589229 & 0.0176436 & 20000 & 0.571586 & 0.606873 & 2.94615e-5 \\\\\n",
       "\t4 & 1000 & 50 & 2.31605 & 0.0967079 & 50000 & 2.21934 & 2.41275 & 4.63209e-5 \\\\\n",
       "\t5 & 10000 & 5 & 1.71144 & 0.0420195 & 50000 & 1.66942 & 1.75346 & 3.42288e-5 \\\\\n",
       "\t6 & 10000 & 10 & 3.29862 & 0.0809409 & 100000 & 3.21768 & 3.37956 & 3.29862e-5 \\\\\n",
       "\t7 & 10000 & 20 & 5.039 & 0.146706 & 200000 & 4.8923 & 5.18571 & 2.5195e-5 \\\\\n",
       "\t8 & 10000 & 50 & 15.6415 & 0.662878 & 500000 & 14.9786 & 16.3044 & 3.1283e-5 \\\\\n",
       "\t9 & 50000 & 5 & 11.7172 & 0.303241 & 250000 & 11.414 & 12.0204 & 4.68688e-5 \\\\\n",
       "\t10 & 50000 & 10 & 14.5065 & 0.452259 & 500000 & 14.0542 & 14.9588 & 2.9013e-5 \\\\\n",
       "\t11 & 50000 & 20 & 26.5924 & 0.952706 & 1000000 & 25.6397 & 27.5451 & 2.65924e-5 \\\\\n",
       "\t12 & 50000 & 50 & 85.2459 & 2.95643 & 2500000 & 82.2895 & 88.2023 & 3.40984e-5 \\\\\n",
       "\\end{tabular}\n"
      ],
      "text/plain": [
       "\u001b[1m12×8 DataFrame\u001b[0m\n",
       "\u001b[1m Row \u001b[0m│\u001b[1m samplesize \u001b[0m\u001b[1m obssize \u001b[0m\u001b[1m fittime   \u001b[0m\u001b[1m se         \u001b[0m\u001b[1m nobs    \u001b[0m\u001b[1m fitmin    \u001b[0m\u001b[1m fitmax \u001b[0m ⋯\n",
       "\u001b[1m     \u001b[0m│\u001b[90m String     \u001b[0m\u001b[90m String  \u001b[0m\u001b[90m Float64   \u001b[0m\u001b[90m Float64    \u001b[0m\u001b[90m Int64   \u001b[0m\u001b[90m Float64   \u001b[0m\u001b[90m Float64\u001b[0m ⋯\n",
       "─────┼──────────────────────────────────────────────────────────────────────────\n",
       "   1 │ 1000        5         0.252209  0.034657       5000   0.217552   0.2868 ⋯\n",
       "   2 │ 1000        10        0.285274  0.00890207    10000   0.276372   0.2941\n",
       "   3 │ 1000        20        0.589229  0.0176436     20000   0.571586   0.6068\n",
       "   4 │ 1000        50        2.31605   0.0967079     50000   2.21934    2.4127\n",
       "   5 │ 10000       5         1.71144   0.0420195     50000   1.66942    1.7534 ⋯\n",
       "   6 │ 10000       10        3.29862   0.0809409    100000   3.21768    3.3795\n",
       "   7 │ 10000       20        5.039     0.146706     200000   4.8923     5.1857\n",
       "   8 │ 10000       50       15.6415    0.662878     500000  14.9786    16.3044\n",
       "   9 │ 50000       5        11.7172    0.303241     250000  11.414     12.0204 ⋯\n",
       "  10 │ 50000       10       14.5065    0.452259     500000  14.0542    14.9588\n",
       "  11 │ 50000       20       26.5924    0.952706    1000000  25.6397    27.5451\n",
       "  12 │ 50000       50       85.2459    2.95643     2500000  82.2895    88.2023\n",
       "\u001b[36m                                                               2 columns omitted\u001b[0m"
      ]
     },
     "execution_count": 5,
     "metadata": {},
     "output_type": "execute_result"
    }
   ],
   "source": [
    "#simulation parameters\n",
    "@info \"making results table\"\n",
    "sample_sizes = repeat(string.(samplesizes), inner = nsims * length(ns))\n",
    "obs_sizes = repeat(string.(ns), inner = nsims, outer = length(samplesizes))\n",
    "\n",
    "msedf = DataFrame(βmse = βMseresult, σ2mse = σ2MseResult, ρmse = ρMseResult,\n",
    "    samplesize = sample_sizes, obssize = obs_sizes, fittimes = fittimes)\n",
    "timedf = combine(groupby(msedf, [:samplesize, :obssize]), :fittimes => mean => :fittime,\n",
    "    :fittimes => x -> (std(x)/sqrt(length(x))))\n",
    "rename!(timedf, Dict(:fittimes_function => \"se\"))\n",
    "timedf[!, :nobs] = Meta.parse.(timedf[!, :samplesize]) .* Meta.parse.(timedf[!, :obssize])\n",
    "timedf[!, :fitmin] = timedf[!, :fittime] - timedf[!, :se]\n",
    "timedf[!, :fitmax] = timedf[!, :fittime] + timedf[!, :se]\n",
    "timedf[!, :perobsratio] = timedf[!, :fittime] ./ timedf[!, :nobs]\n",
    "timedf"
   ]
  },
  {
   "cell_type": "code",
   "execution_count": 6,
   "metadata": {},
   "outputs": [
    {
     "name": "stderr",
     "output_type": "stream",
     "text": [
      "┌ Warning: RCall.jl: Warning: package ‘ggplot2’ was built under R version 4.0.2\n",
      "└ @ RCall /Users/sarahji/.julia/packages/RCall/iMDW2/src/io.jl:160\n"
     ]
    },
    {
     "data": {
      "image/png": "[encoded data removed]"
     },
     "metadata": {},
     "output_type": "display_data"
    },
    {
     "data": {
      "text/plain": [
       "RObject{VecSxp}\n"
      ]
     },
     "execution_count": 6,
     "metadata": {},
     "output_type": "execute_result"
    }
   ],
   "source": [
    "########### plot the runtimes\n",
    "using RCall\n",
    "@rput timedf\n",
    "\n",
    "R\"\"\"\n",
    "library(ggplot2)\n",
    "timedf$obssize = factor(timedf$obssize, levels = c('5', '10', '20', '50'))\n",
    "timedf$samplesize = factor(timedf$samplesize, levels = c('1000', '10000', '50000'))\n",
    "\n",
    "fittime_1 = ggplot(timedf, aes(x = samplesize, y = fittime, group = obssize, color = obssize)) + \n",
    "  geom_line() +\n",
    "  geom_point()+\n",
    "  geom_errorbar(aes(ymin=fitmin, ymax=fitmax), width=0.5, alpha = 0.8, position=position_dodge(0.005)) + \n",
    "  theme(legend.position=c(0.15,0.85), legend.key = element_blank(), axis.text.x = element_text(angle=0, size=13),\n",
    "        axis.text.y = element_text(angle=0, size=13), axis.title.x = element_text(size = 17), \n",
    "        axis.title.y = element_text(size = 17), legend.title = element_text(size = 14),\n",
    "        #axis.ticks = element_blank(),\n",
    "        panel.grid.major = element_blank(), legend.text=element_text(size=13),\n",
    "        panel.border = element_blank(), panel.grid.minor = element_blank(), panel.background = element_blank(), \n",
    "        axis.line = element_line(color = 'black',size=0.3), plot.title = element_text(hjust = 0.5)) + \n",
    "   scale_color_manual(values = c(\"#c85f55\",\n",
    "\"#a964bf\",\n",
    "\"#8db352\",\n",
    "\"#fa7300\",\n",
    "\"#05aec0\")) +\n",
    "  labs(x = \"Number of Individuals\", y = \"Fit time (seconds)\", color = \"Obs per Individual\")\n",
    "\"\"\""
   ]
  },
  {
   "cell_type": "code",
   "execution_count": 7,
   "metadata": {},
   "outputs": [
    {
     "name": "stderr",
     "output_type": "stream",
     "text": [
      "┌ Warning: RCall.jl: Warning: package ‘scales’ was built under R version 4.0.2\n",
      "└ @ RCall /Users/sarahji/.julia/packages/RCall/iMDW2/src/io.jl:160\n"
     ]
    },
    {
     "data": {
      "image/png": "[encoded data removed]"
     },
     "metadata": {},
     "output_type": "display_data"
    },
    {
     "data": {
      "text/plain": [
       "RObject{VecSxp}\n"
      ]
     },
     "execution_count": 7,
     "metadata": {},
     "output_type": "execute_result"
    }
   ],
   "source": [
    "using RCall\n",
    "@rput timedf\n",
    "\n",
    "R\"\"\"\n",
    "library(scales)\n",
    "library(ggplot2)\n",
    "timedf$obssize <- factor(timedf$obssize, levels = c('5', '10', '20', '50'))\n",
    "timedf$samplesize <- factor(timedf$samplesize, levels = c('1000', '10000', '50000'))\n",
    "\n",
    "fancy_scientific <- function(l) {\n",
    "     # turn in to character string in scientific notation\n",
    "     l <- format(l, scientific = TRUE)\n",
    "     # quote the part before the exponent to keep all the digits\n",
    "     l <- gsub(\"^(.*)e\", \"'\\\\1'e\", l)\n",
    "     # turn the 'e+' into plotmath format\n",
    "     l <- gsub(\"e\", \"%*%10^\", l)\n",
    "     # return this as an expression\n",
    "     parse(text=l)\n",
    "}\n",
    "\n",
    "fittimeperobs = ggplot(timedf, aes(x=nobs, y=perobsratio)) + \n",
    "  geom_line() +\n",
    "  geom_point()+\n",
    "#  geom_errorbar(aes(ymin=fitmin, ymax=fitmax), width=0.5, alpha = 0.8, position=position_dodge(0.005)) + \n",
    "  theme(legend.position=c(0.15,0.8), legend.key = element_blank(), axis.text.x = element_text(angle=0, size=13),\n",
    "        axis.text.y = element_text(angle=0, size=13), axis.title.x = element_text(size = 17), \n",
    "        axis.title.y = element_text(size = 17), legend.title = element_text(size = 14),\n",
    "        #axis.ticks = element_blank(),\n",
    "        panel.grid.major = element_blank(), legend.text=element_text(size=11),\n",
    "        panel.border = element_blank(), panel.grid.minor = element_blank(), panel.background = element_blank(), \n",
    "        axis.line = element_line(color = 'black',size=0.3), plot.title = element_text(hjust = 0.5)) + \n",
    "  labs(x = \"Total Number of Observations\", y = \"Fit time per observation (seconds)\", color = \"Obs per Individual\") +\n",
    "#scale_x_log10(breaks = 10^seq(0, 7, 1), labels=trans_format(\"log10\", math_format(10^.x)))# + #, limit=c(10^0, 10^7))\n",
    "scale_x_continuous(breaks = seq(0, 6000000, 1000000), labels= fancy_scientific) +\n",
    "scale_y_continuous(breaks = c(10^-4, 2 * 10^-4, 3 * 10^-4, 4 * 10^-4, 5 * 10^-4, 6 * 10^-4), labels= fancy_scientific)\n",
    "\n",
    "\"\"\""
   ]
  },
  {
   "cell_type": "code",
   "execution_count": 14,
   "metadata": {},
   "outputs": [
    {
     "data": {
      "text/html": [
       "<table class=\"data-frame\"><thead><tr><th></th><th>people_obs</th><th>β1</th><th>β2</th><th>β3</th><th>σ2</th></tr><tr><th></th><th>String</th><th>Tuple…</th><th>Tuple…</th><th>Tuple…</th><th>Tuple…</th></tr></thead><tbody><p>12 rows × 6 columns (omitted printing of 1 columns)</p><tr><th>1</th><td>N: 1000  ni: 5</td><td>(0.88, 0.0464231)</td><td>(0.72, 0.0641427)</td><td>(0.8, 0.0571429)</td><td>(0.0, 0.0)</td></tr><tr><th>2</th><td>N: 1000  ni: 10</td><td>(0.58, 0.0705084)</td><td>(0.84, 0.0523723)</td><td>(0.66, 0.0676727)</td><td>(0.0, 0.0)</td></tr><tr><th>3</th><td>N: 1000  ni: 20</td><td>(0.68, 0.0666395)</td><td>(0.82, 0.0548839)</td><td>(0.64, 0.0685714)</td><td>(0.0, 0.0)</td></tr><tr><th>4</th><td>N: 1000  ni: 50</td><td>(0.72, 0.0641427)</td><td>(0.66, 0.0676727)</td><td>(0.72, 0.0641427)</td><td>(0.0, 0.0)</td></tr><tr><th>5</th><td>N: 10000  ni: 5</td><td>(0.92, 0.0387562)</td><td>(0.68, 0.0666395)</td><td>(0.24, 0.0610119)</td><td>(0.0, 0.0)</td></tr><tr><th>6</th><td>N: 10000  ni: 10</td><td>(0.58, 0.0705084)</td><td>(0.72, 0.0641427)</td><td>(0.62, 0.0693409)</td><td>(0.0, 0.0)</td></tr><tr><th>7</th><td>N: 10000  ni: 20</td><td>(0.8, 0.0571429)</td><td>(0.84, 0.0523723)</td><td>(0.68, 0.0666395)</td><td>(0.0, 0.0)</td></tr><tr><th>8</th><td>N: 10000  ni: 50</td><td>(0.9, 0.0428571)</td><td>(0.9, 0.0428571)</td><td>(0.9, 0.0428571)</td><td>(0.0, 0.0)</td></tr><tr><th>9</th><td>N: 50000  ni: 5</td><td>(0.9, 0.0428571)</td><td>(0.28, 0.0641427)</td><td>(0.18, 0.0548839)</td><td>(0.0, 0.0)</td></tr><tr><th>10</th><td>N: 50000  ni: 10</td><td>(0.9, 0.0428571)</td><td>(0.88, 0.0464231)</td><td>(0.62, 0.0693409)</td><td>(0.0, 0.0)</td></tr><tr><th>11</th><td>N: 50000  ni: 20</td><td>(0.46, 0.0711996)</td><td>(0.42, 0.0705084)</td><td>(0.46, 0.0711996)</td><td>(0.0, 0.0)</td></tr><tr><th>12</th><td>N: 50000  ni: 50</td><td>(0.94, 0.0339267)</td><td>(0.74, 0.062662)</td><td>(0.82, 0.0548839)</td><td>(0.0, 0.0)</td></tr></tbody></table>"
      ],
      "text/latex": [
       "\\begin{tabular}{r|cccccc}\n",
       "\t& people\\_obs & β1 & β2 & β3 & σ2 & \\\\\n",
       "\t\\hline\n",
       "\t& String & Tuple… & Tuple… & Tuple… & Tuple… & \\\\\n",
       "\t\\hline\n",
       "\t1 & N: 1000  ni: 5 & (0.88, 0.0464231) & (0.72, 0.0641427) & (0.8, 0.0571429) & (0.0, 0.0) & $\\dots$ \\\\\n",
       "\t2 & N: 1000  ni: 10 & (0.58, 0.0705084) & (0.84, 0.0523723) & (0.66, 0.0676727) & (0.0, 0.0) & $\\dots$ \\\\\n",
       "\t3 & N: 1000  ni: 20 & (0.68, 0.0666395) & (0.82, 0.0548839) & (0.64, 0.0685714) & (0.0, 0.0) & $\\dots$ \\\\\n",
       "\t4 & N: 1000  ni: 50 & (0.72, 0.0641427) & (0.66, 0.0676727) & (0.72, 0.0641427) & (0.0, 0.0) & $\\dots$ \\\\\n",
       "\t5 & N: 10000  ni: 5 & (0.92, 0.0387562) & (0.68, 0.0666395) & (0.24, 0.0610119) & (0.0, 0.0) & $\\dots$ \\\\\n",
       "\t6 & N: 10000  ni: 10 & (0.58, 0.0705084) & (0.72, 0.0641427) & (0.62, 0.0693409) & (0.0, 0.0) & $\\dots$ \\\\\n",
       "\t7 & N: 10000  ni: 20 & (0.8, 0.0571429) & (0.84, 0.0523723) & (0.68, 0.0666395) & (0.0, 0.0) & $\\dots$ \\\\\n",
       "\t8 & N: 10000  ni: 50 & (0.9, 0.0428571) & (0.9, 0.0428571) & (0.9, 0.0428571) & (0.0, 0.0) & $\\dots$ \\\\\n",
       "\t9 & N: 50000  ni: 5 & (0.9, 0.0428571) & (0.28, 0.0641427) & (0.18, 0.0548839) & (0.0, 0.0) & $\\dots$ \\\\\n",
       "\t10 & N: 50000  ni: 10 & (0.9, 0.0428571) & (0.88, 0.0464231) & (0.62, 0.0693409) & (0.0, 0.0) & $\\dots$ \\\\\n",
       "\t11 & N: 50000  ni: 20 & (0.46, 0.0711996) & (0.42, 0.0705084) & (0.46, 0.0711996) & (0.0, 0.0) & $\\dots$ \\\\\n",
       "\t12 & N: 50000  ni: 50 & (0.94, 0.0339267) & (0.74, 0.062662) & (0.82, 0.0548839) & (0.0, 0.0) & $\\dots$ \\\\\n",
       "\\end{tabular}\n"
      ],
      "text/plain": [
       "\u001b[1m12×6 DataFrame\u001b[0m\n",
       "\u001b[1m Row \u001b[0m│\u001b[1m people_obs       \u001b[0m\u001b[1m β1                \u001b[0m\u001b[1m β2                \u001b[0m\u001b[1m β3             \u001b[0m ⋯\n",
       "\u001b[1m     \u001b[0m│\u001b[90m String           \u001b[0m\u001b[90m Tuple…            \u001b[0m\u001b[90m Tuple…            \u001b[0m\u001b[90m Tuple…         \u001b[0m ⋯\n",
       "─────┼──────────────────────────────────────────────────────────────────────────\n",
       "   1 │ N: 1000  ni: 5    (0.88, 0.0464231)  (0.72, 0.0641427)  (0.8, 0.0571429 ⋯\n",
       "   2 │ N: 1000  ni: 10   (0.58, 0.0705084)  (0.84, 0.0523723)  (0.66, 0.067672\n",
       "   3 │ N: 1000  ni: 20   (0.68, 0.0666395)  (0.82, 0.0548839)  (0.64, 0.068571\n",
       "   4 │ N: 1000  ni: 50   (0.72, 0.0641427)  (0.66, 0.0676727)  (0.72, 0.064142\n",
       "   5 │ N: 10000  ni: 5   (0.92, 0.0387562)  (0.68, 0.0666395)  (0.24, 0.061011 ⋯\n",
       "   6 │ N: 10000  ni: 10  (0.58, 0.0705084)  (0.72, 0.0641427)  (0.62, 0.069340\n",
       "   7 │ N: 10000  ni: 20  (0.8, 0.0571429)   (0.84, 0.0523723)  (0.68, 0.066639\n",
       "   8 │ N: 10000  ni: 50  (0.9, 0.0428571)   (0.9, 0.0428571)   (0.9, 0.0428571\n",
       "   9 │ N: 50000  ni: 5   (0.9, 0.0428571)   (0.28, 0.0641427)  (0.18, 0.054883 ⋯\n",
       "  10 │ N: 50000  ni: 10  (0.9, 0.0428571)   (0.88, 0.0464231)  (0.62, 0.069340\n",
       "  11 │ N: 50000  ni: 20  (0.46, 0.0711996)  (0.42, 0.0705084)  (0.46, 0.071199\n",
       "  12 │ N: 50000  ni: 50  (0.94, 0.0339267)  (0.74, 0.062662)   (0.82, 0.054883\n",
       "\u001b[36m                                                               3 columns omitted\u001b[0m"
      ]
     },
     "execution_count": 14,
     "metadata": {},
     "output_type": "execute_result"
    }
   ],
   "source": [
    "######  supplementary table s1\n",
    "using Random, DataFrames, DelimitedFiles, Statistics\n",
    "import StatsBase: sem\n",
    "\n",
    "βσ2ρcoverage = readdlm(\"beta_sigma_coverage_multivariate_logistic_AR50reps_sim.csv\", ',')\n",
    "\n",
    "\n",
    "m = 2\n",
    "\n",
    "covdf = DataFrame(Matrix(transpose(βσ2ρcoverage)), :auto)\n",
    "rename!(covdf, Symbol.([[\"β$i\" for i in 1:p]; [\"σ2\"]; [\"ρ\"]]))\n",
    "covdf[!, :samplesize] = sample_sizes\n",
    "covdf[!, :obssize] = obs_sizes\n",
    "first(covdf, 10)\n",
    "\n",
    "row_stats = [[(mean(col), sem(col)) for col = eachcol(d[!, 1:end-2])] for d = groupby(covdf, [:samplesize; :obssize])]\n",
    "df = DataFrame(row_stats, :auto)\n",
    "ss_obs = unique(\"N: \" .* sample_sizes .* \"  ni: \" .* obs_sizes)\n",
    "rename!(df, Symbol.(ss_obs))\n",
    "covdfdisplay = DataFrame([[names(df)]; collect.(eachrow(df))], \n",
    "    [:people_obs; Symbol.([[\"β$i\" for i in 1:p]; [\"σ2\"]; [\"ρ\"]])])\n",
    "# deletecols!(covdfdisplay, p + 2)\n",
    "covdfdisplay\n"
   ]
  },
  {
   "cell_type": "code",
   "execution_count": null,
   "metadata": {},
   "outputs": [],
   "source": [
    "#### \n",
    "#import data and reorganize to create figure\n",
    "using Random, DataFrames, DelimitedFiles, Statistics, RCall, Printf\n",
    "import StatsBase: sem\n",
    "\n",
    "βMseresult_1 = vec(readdlm(\"mse_beta_multivariate_logistic_AR50reps_sim.csv\", ','))\n",
    "σ2MseResult_1 = vec(readdlm(\"mse_sigma_multivariate_logistic_AR50reps_sim.csv\", ','))\n",
    "ρMseResult_1 = vec(readdlm(\"mse_rho_multivariate_logistic_AR50reps_sim.csv\", ','))\n",
    "βρσ2coverage_1 = readdlm(\"beta_sigma_coverage_multivariate_logistic_AR50reps_sim.csv\", ',')\n",
    "\n",
    "samplesizesrobust = samplesizes\n",
    "nsrobust = ns\n",
    "nsimsrobust = nsims\n",
    "\n",
    "# βMseresultnorm = vec(readdlm(\"result_files/mse_beta_normal_normal_lognormal_1000reps_sim.csv\", ','))\n",
    "# τMseresultnorm = vec(readdlm(\"result_files/mse_tau_normal_normal_lognormal_1000reps_sim.csv\", ','))\n",
    "# ΣMseresultnorm = vec(readdlm(\"result_files/mse_Sigma_normal_normal_lognormal_1000reps_sim.csv\", ','))\n",
    "# βτcoveragenorm = readdlm(\"result_files/beta_tau_coverage_5betas_normal_normal_lognormal_1000reps_sim.csv\", ',')\n",
    "\n",
    "\n",
    "# samplesizesnorm = collect(1000:1000:6000)\n",
    "# nsnorm = [10; 25; 50; 100; 1000]\n",
    "# nsimsnorm = 1000\n",
    "\n",
    "p = 3\n",
    "sample_sizesrobust = repeat(string.(samplesizesrobust), inner = nsimsrobust * length(nsrobust))\n",
    "obs_sizesrobust = repeat(string.(nsrobust), inner = nsimsrobust, outer = length(samplesizesrobust))\n",
    "msedfrobust = DataFrame(βmse = βMseresult_1, σ2mse = σ2MseResult_1, ρmse = ρMseResult_1,\n",
    "    samplesize = sample_sizesrobust, obssize = obs_sizesrobust)\n",
    "\n",
    "# p = 5; l = 5\n",
    "# sample_sizesnorm = repeat(string.(samplesizesnorm), inner = nsimsnorm * length(nsnorm))\n",
    "# obs_sizesnorm = repeat(string.(nsnorm), inner = nsimsnorm, outer = length(samplesizesnorm))\n",
    "# msedfnorm = DataFrame(βmse = βMseresultnorm, τmse = τMseresultnorm, Σγmse = ΣMseresultnorm, \n",
    "#     samplesize = sample_sizesnorm, obssize = obs_sizesnorm)\n",
    "\n",
    "#rename to make parsing easier for R.\n",
    "\n",
    "msedfrobustR = deepcopy(msedfrobust)\n",
    "rename!(msedfrobustR, [\"betamse\"\n",
    "    \"sigmamse\"\n",
    "        \"rhomse\"\n",
    "    \"samplesize\"\n",
    " \"obssize\"]);\n",
    "\n",
    "# msedfnormR = deepcopy(msedfnorm)\n",
    "# rename!(msedfnormR, [\"betamse\"\n",
    "#     \"taumse\"\n",
    "#     \"Sigmamse\"\n",
    "#     \"samplesize\"\n",
    "#  \"obssize\"]);\n",
    "\n",
    "mses = [msedfrobustR[!, :betamse]; msedfrobustR[!, :sigmamse] ; msedfrobustR[!, :rhomse]]\n",
    "    # msedfnormR[!, :betamse]; msedfnormR[!, :taumse]; msedfnormR[!, :Sigmamse]]\n",
    "obssize = collect([repeat(msedfrobustR[!, :obssize], 3)]...) # ; repeat(msedfnormR[!, :obssize], 3)]\n",
    "\n",
    "samplesize = collect([repeat(msedfrobustR[!, :samplesize], 3)]...) # ; repeat(msedfnormR[!, :samplesize], 3)]\n",
    "\n",
    "parameters = collect([repeat(string.([:beta, :sigma, :rho]), inner = nsimsrobust * length(nsrobust) * length(samplesizesrobust))]...)\n",
    "# ; repeat(string.([:beta, :tau, :Sigma]), inner = nsimsnorm * length(nsnorm) * length(samplesizesnorm))]\n",
    "robust = collect([repeat([\"Bernoulli with LogitLink\"], 3 * nsimsrobust * length(nsrobust) * length(samplesizesrobust))]...) # ;\n",
    "# repeat([\"Normal Normal Log-Normal\"], 3 * nsimsnorm * length(nsnorm) * length(samplesizesnorm))];\n",
    "\n",
    "msedfR = DataFrame(mse = mses, obssize = obssize, samplesize = samplesize,\n",
    "    parameters = parameters, robust = robust)\n",
    "\n",
    "#5 of the 30,000 simulations did not converge, filter out\n",
    "msedfR = filter(x -> !isnan(x.mse), msedfR)\n",
    "# additionally, there are 5 where an error was not caught so it did not try a differnt solver\n",
    "msedfR = filter(x -> x.mse < 40000, msedfR)"
   ]
  },
  {
   "cell_type": "code",
   "execution_count": null,
   "metadata": {},
   "outputs": [],
   "source": [
    "### working on figure next\n",
    "@rput msedfR\n",
    "\n",
    "R\"\"\"\n",
    "library(scales)\n",
    "library(ggplot2)\n",
    "library(data.table)\n",
    "\n",
    "msedfR = data.table(msedfR)\n",
    "\n",
    "msedfR[parameters == \"beta\",y_min := 10^-6]\n",
    "msedfR[parameters == \"beta\",y_max := 10^1]\n",
    "msedfR[parameters == \"sigma\",y_min := 10^-5]\n",
    "msedfR[parameters == \"sigma\",y_max := 10^1]\n",
    "msedfR[parameters == \"rho\",y_min := 10^-5]\n",
    "msedfR[parameters == \"rho\",y_max := 10^1]\n",
    "\n",
    "#msedfR[parameters == \"beta\",y_min := 10^-8]\n",
    "#msedfR[parameters == \"beta\",y_max := 10^-2]\n",
    "#msedfR[parameters == \"tau\",y_min := 10^-8]\n",
    "#msedfR[parameters == \"tau\",y_max := 10^-2]\n",
    "#msedfR[parameters == \"Sigma\",y_min := 10^-5]\n",
    "#msedfR[parameters == \"Sigma\",y_max := 10^-2]\n",
    "\n",
    "\n",
    "msedfR$obssize = factor(msedfR$obssize, levels = c('5', '10', '20', '50'))\n",
    "msedfR$samplesize = factor(msedfR$samplesize, levels = c('1000', '10000', '50000'))\n",
    "msedfR$parameters = factor(msedfR$parameters, levels = c('beta', 'sigma', 'rho'), labels = c(beta = expression(hat(bold(beta))), Sigma = expression(hat(bold(sigma))[]), rho = expression(hat(bold(rho)))))\n",
    "msedfR$robust = factor(msedfR$robust, levels = c('Bernoulli with LogitLink'),\n",
    "    labels = c(expression(paste(\"Bernoulli with Logit Link\")))) # , expression(paste(\"MvT Gamma Inverse-Gamma\"))))\n",
    "\n",
    "\n",
    "#mseplot <- ggplot(msedfR[msedfR$mse < 10^0, ], aes(x=samplesize, y=mse, fill=obssize)) + \n",
    "mseplot = ggplot(msedfR[msedfR$mse < 10^3, ], aes(x=samplesize, y=mse, fill=obssize)) + \n",
    "  #geom_boxplot(outlier.size = 0.0, outlier.alpha = 0) +\n",
    "  geom_boxplot(outlier.size = 0.25) +\n",
    "#    geom_violin() +\n",
    "    facet_grid(parameters ~ robust, labeller = label_parsed, scales = \"free_y\") +\n",
    "  theme(legend.position=\"right\", legend.key = element_blank(), axis.text.x = element_text(angle=0, size=11),\n",
    "        axis.text.y = element_text(angle=0, size=12), axis.title.x = element_text(size = 15), \n",
    "        axis.title.y = element_text(size = 15), legend.title = element_text(size = 12),\n",
    "        panel.grid.major = element_blank(), panel.grid.minor = element_blank(),\n",
    "        legend.text=element_text(size=10), panel.background = element_rect(fill = NA, color = \"black\"),\n",
    "        #panel.background = element_blank(), #panel.border = element_blank(),\n",
    "        axis.line = element_line(color = 'black',size=0.3), plot.title = element_text(hjust = 0.5),\n",
    "        strip.background = element_rect(colour=\"black\", fill=\"white\"), strip.text.y = element_text(size=15, face=\"bold\"),\n",
    "        strip.text.x = element_text(size=15)) + \n",
    "  scale_fill_manual(values = c(\"#c85f55\",\n",
    "\"#a964bf\",\n",
    "\"#8db352\",\n",
    "\"#fa7300\",\n",
    "\"#05aec0\")) +\n",
    "#scale_y_log10(breaks = scales::trans_breaks(\"log10\", function(x) 10^x)) +\n",
    "#scale_y_log10(breaks = 10^(-8:8), limit=c(10^-8, 10^2)) + \n",
    "scale_y_log10(breaks = 10^seq(-10, 10, 2), labels=trans_format(\"log10\", math_format(10^.x))) + #, limit=c(10^-8, 10^2)) +\n",
    "  labs(x = \"Number of Individuals\", y = \"MSE of Parameter Estimates\", fill = \"Obs per Individual\") +\n",
    "geom_blank(aes(y = y_max)) + \n",
    "geom_blank(aes(y = y_min)) \n",
    "\n",
    "\"\"\""
   ]
  },
  {
   "cell_type": "code",
   "execution_count": null,
   "metadata": {},
   "outputs": [],
   "source": [
    "R\"\"\"\n",
    "ggsave('updated_msefacetplot_logistic_AR.png', mseplot, width = 12.5, height = 15, units = 'in', dpi = 450)\n",
    "\"\"\""
   ]
  },
  {
   "cell_type": "code",
   "execution_count": null,
   "metadata": {},
   "outputs": [],
   "source": []
  }
 ],
 "metadata": {
  "@webio": {
   "lastCommId": null,
   "lastKernelId": null
  },
  "kernelspec": {
   "display_name": "Julia 1.6.2",
   "language": "julia",
   "name": "julia-1.6"
  },
  "language_info": {
   "file_extension": ".jl",
   "mimetype": "application/julia",
   "name": "julia",
   "version": "1.6.2"
  }
 },
 "nbformat": 4,
 "nbformat_minor": 2
}
