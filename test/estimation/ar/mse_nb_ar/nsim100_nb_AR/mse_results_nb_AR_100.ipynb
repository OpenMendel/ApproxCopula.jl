{
 "cells": [
  {
   "cell_type": "markdown",
   "metadata": {},
   "source": [
    "## NegativeBinomial AR Results \n",
    "\n",
    "This notebook goes over the code needed to reproduce the results from the MSE and time figures in the first simulation in the paper. \n",
    "\n",
    "In this example we have Negative Binomial base distribution with Log Link function and covariance matrix $\\Gamma$ structured under AR covariance with $\\rho = 0.9, \\sigma^2 = 0.5$"
   ]
  },
  {
   "cell_type": "code",
   "execution_count": 1,
   "metadata": {},
   "outputs": [
    {
     "name": "stdout",
     "output_type": "stream",
     "text": [
      "Julia Version 1.6.2\n",
      "Commit 1b93d53fc4 (2021-07-14 15:36 UTC)\n",
      "Platform Info:\n",
      "  OS: macOS (x86_64-apple-darwin18.7.0)\n",
      "  CPU: Intel(R) Core(TM) i9-9880H CPU @ 2.30GHz\n",
      "  WORD_SIZE: 64\n",
      "  LIBM: libopenlibm\n",
      "  LLVM: libLLVM-11.0.1 (ORCJIT, skylake)\n"
     ]
    }
   ],
   "source": [
    "versioninfo()"
   ]
  },
  {
   "cell_type": "code",
   "execution_count": 2,
   "metadata": {},
   "outputs": [],
   "source": [
    "using GLMCopula, DelimitedFiles, LinearAlgebra, Random, GLM\n",
    "using Random, Roots, SpecialFunctions, DataFrames"
   ]
  },
  {
   "cell_type": "code",
   "execution_count": 3,
   "metadata": {},
   "outputs": [
    {
     "data": {
      "text/plain": [
       "100"
      ]
     },
     "execution_count": 3,
     "metadata": {},
     "output_type": "execute_result"
    }
   ],
   "source": [
    "p  = 3    # number of fixed effects, including intercept\n",
    "\n",
    "# true parameter values\n",
    "Random.seed!(1234)\n",
    "βtrue = randn(p)\n",
    "σ2true = [0.5]\n",
    "ρtrue = [0.9]\n",
    "rtrue = 10.0\n",
    "\n",
    "# generate data\n",
    "trueparams = [βtrue; σ2true; ρtrue; rtrue] #hold true parameters\n",
    "\n",
    "#simulation parameters\n",
    "samplesizes = [100; 1000; 10000]\n",
    "ns = [2; 5; 10; 15; 20; 25]\n",
    "nsims = 100"
   ]
  },
  {
   "cell_type": "code",
   "execution_count": 4,
   "metadata": {},
   "outputs": [
    {
     "name": "stderr",
     "output_type": "stream",
     "text": [
      "┌ Info: reading in the files with results\n",
      "└ @ Main In[4]:1\n"
     ]
    },
    {
     "data": {
      "text/plain": [
       "1800-element Vector{Float64}:\n",
       "   0.26094636\n",
       "   0.222097345\n",
       "   0.208837332\n",
       "   0.208808425\n",
       "   0.290446629\n",
       "   0.225248416\n",
       "   0.248166095\n",
       "   0.353115675\n",
       "   0.355288685\n",
       "   0.375886683\n",
       "   0.314844609\n",
       "   0.279891382\n",
       "   0.328110593\n",
       "   ⋮\n",
       " NaN\n",
       " 109.400764652\n",
       " NaN\n",
       " 138.575885613\n",
       "  21.835565602\n",
       "  28.301477369\n",
       " NaN\n",
       "  21.18565014\n",
       " NaN\n",
       "  40.746133588\n",
       "  63.552274286\n",
       "  21.756544881"
      ]
     },
     "execution_count": 4,
     "metadata": {},
     "output_type": "execute_result"
    }
   ],
   "source": [
    "@info \"reading in the files with results\"\n",
    "βMseresult = vec(readdlm(\"mse_beta_multivariate_nb_AR$(nsims)reps_sim.csv\", ','))\n",
    "σ2MseResult = vec(readdlm(\"mse_sigma_multivariate_nb_AR$(nsims)reps_sim.csv\", ','))\n",
    "ρMseResult = vec(readdlm(\"mse_rho_multivariate_nb_AR$(nsims)reps_sim.csv\", ','))\n",
    "fittimes = vec(readdlm(\"fittimes_multivariate_nb_AR$(nsims)reps_sim.csv\", ','))"
   ]
  },
  {
   "cell_type": "code",
   "execution_count": 5,
   "metadata": {},
   "outputs": [
    {
     "name": "stderr",
     "output_type": "stream",
     "text": [
      "┌ Info: making results table\n",
      "└ @ Main In[5]:2\n"
     ]
    },
    {
     "data": {
      "text/html": [
       "<div class=\"data-frame\"><p>18 rows × 8 columns</p><table class=\"data-frame\"><thead><tr><th></th><th>samplesize</th><th>obssize</th><th>fittime</th><th>se</th><th>nobs</th><th>fitmin</th><th>fitmax</th><th>perobsratio</th></tr><tr><th></th><th title=\"String\">String</th><th title=\"String\">String</th><th title=\"Float64\">Float64</th><th title=\"Float64\">Float64</th><th title=\"Int64\">Int64</th><th title=\"Float64\">Float64</th><th title=\"Float64\">Float64</th><th title=\"Float64\">Float64</th></tr></thead><tbody><tr><th>1</th><td>100</td><td>2</td><td>0.274645</td><td>0.00867629</td><td>200</td><td>0.265968</td><td>0.283321</td><td>0.00137322</td></tr><tr><th>2</th><td>100</td><td>5</td><td>0.345556</td><td>0.0290237</td><td>500</td><td>0.316532</td><td>0.37458</td><td>0.000691112</td></tr><tr><th>3</th><td>100</td><td>10</td><td>0.426923</td><td>0.0462164</td><td>1000</td><td>0.380707</td><td>0.47314</td><td>0.000426923</td></tr><tr><th>4</th><td>100</td><td>15</td><td>NaN</td><td>NaN</td><td>1500</td><td>NaN</td><td>NaN</td><td>NaN</td></tr><tr><th>5</th><td>100</td><td>20</td><td>0.695306</td><td>0.0759885</td><td>2000</td><td>0.619318</td><td>0.771295</td><td>0.000347653</td></tr><tr><th>6</th><td>100</td><td>25</td><td>0.807079</td><td>0.0836205</td><td>2500</td><td>0.723459</td><td>0.8907</td><td>0.000322832</td></tr><tr><th>7</th><td>1000</td><td>2</td><td>0.725428</td><td>0.0138787</td><td>2000</td><td>0.711549</td><td>0.739307</td><td>0.000362714</td></tr><tr><th>8</th><td>1000</td><td>5</td><td>NaN</td><td>NaN</td><td>5000</td><td>NaN</td><td>NaN</td><td>NaN</td></tr><tr><th>9</th><td>1000</td><td>10</td><td>NaN</td><td>NaN</td><td>10000</td><td>NaN</td><td>NaN</td><td>NaN</td></tr><tr><th>10</th><td>1000</td><td>15</td><td>NaN</td><td>NaN</td><td>15000</td><td>NaN</td><td>NaN</td><td>NaN</td></tr><tr><th>11</th><td>1000</td><td>20</td><td>NaN</td><td>NaN</td><td>20000</td><td>NaN</td><td>NaN</td><td>NaN</td></tr><tr><th>12</th><td>1000</td><td>25</td><td>NaN</td><td>NaN</td><td>25000</td><td>NaN</td><td>NaN</td><td>NaN</td></tr><tr><th>13</th><td>10000</td><td>2</td><td>7.50504</td><td>0.0849098</td><td>20000</td><td>7.42013</td><td>7.58995</td><td>0.000375252</td></tr><tr><th>14</th><td>10000</td><td>5</td><td>NaN</td><td>NaN</td><td>50000</td><td>NaN</td><td>NaN</td><td>NaN</td></tr><tr><th>15</th><td>10000</td><td>10</td><td>NaN</td><td>NaN</td><td>100000</td><td>NaN</td><td>NaN</td><td>NaN</td></tr><tr><th>16</th><td>10000</td><td>15</td><td>NaN</td><td>NaN</td><td>150000</td><td>NaN</td><td>NaN</td><td>NaN</td></tr><tr><th>17</th><td>10000</td><td>20</td><td>NaN</td><td>NaN</td><td>200000</td><td>NaN</td><td>NaN</td><td>NaN</td></tr><tr><th>18</th><td>10000</td><td>25</td><td>NaN</td><td>NaN</td><td>250000</td><td>NaN</td><td>NaN</td><td>NaN</td></tr></tbody></table></div>"
      ],
      "text/latex": [
       "\\begin{tabular}{r|cccccccc}\n",
       "\t& samplesize & obssize & fittime & se & nobs & fitmin & fitmax & perobsratio\\\\\n",
       "\t\\hline\n",
       "\t& String & String & Float64 & Float64 & Int64 & Float64 & Float64 & Float64\\\\\n",
       "\t\\hline\n",
       "\t1 & 100 & 2 & 0.274645 & 0.00867629 & 200 & 0.265968 & 0.283321 & 0.00137322 \\\\\n",
       "\t2 & 100 & 5 & 0.345556 & 0.0290237 & 500 & 0.316532 & 0.37458 & 0.000691112 \\\\\n",
       "\t3 & 100 & 10 & 0.426923 & 0.0462164 & 1000 & 0.380707 & 0.47314 & 0.000426923 \\\\\n",
       "\t4 & 100 & 15 & NaN & NaN & 1500 & NaN & NaN & NaN \\\\\n",
       "\t5 & 100 & 20 & 0.695306 & 0.0759885 & 2000 & 0.619318 & 0.771295 & 0.000347653 \\\\\n",
       "\t6 & 100 & 25 & 0.807079 & 0.0836205 & 2500 & 0.723459 & 0.8907 & 0.000322832 \\\\\n",
       "\t7 & 1000 & 2 & 0.725428 & 0.0138787 & 2000 & 0.711549 & 0.739307 & 0.000362714 \\\\\n",
       "\t8 & 1000 & 5 & NaN & NaN & 5000 & NaN & NaN & NaN \\\\\n",
       "\t9 & 1000 & 10 & NaN & NaN & 10000 & NaN & NaN & NaN \\\\\n",
       "\t10 & 1000 & 15 & NaN & NaN & 15000 & NaN & NaN & NaN \\\\\n",
       "\t11 & 1000 & 20 & NaN & NaN & 20000 & NaN & NaN & NaN \\\\\n",
       "\t12 & 1000 & 25 & NaN & NaN & 25000 & NaN & NaN & NaN \\\\\n",
       "\t13 & 10000 & 2 & 7.50504 & 0.0849098 & 20000 & 7.42013 & 7.58995 & 0.000375252 \\\\\n",
       "\t14 & 10000 & 5 & NaN & NaN & 50000 & NaN & NaN & NaN \\\\\n",
       "\t15 & 10000 & 10 & NaN & NaN & 100000 & NaN & NaN & NaN \\\\\n",
       "\t16 & 10000 & 15 & NaN & NaN & 150000 & NaN & NaN & NaN \\\\\n",
       "\t17 & 10000 & 20 & NaN & NaN & 200000 & NaN & NaN & NaN \\\\\n",
       "\t18 & 10000 & 25 & NaN & NaN & 250000 & NaN & NaN & NaN \\\\\n",
       "\\end{tabular}\n"
      ],
      "text/plain": [
       "\u001b[1m18×8 DataFrame\u001b[0m\n",
       "\u001b[1m Row \u001b[0m│\u001b[1m samplesize \u001b[0m\u001b[1m obssize \u001b[0m\u001b[1m fittime    \u001b[0m\u001b[1m se           \u001b[0m\u001b[1m nobs   \u001b[0m\u001b[1m fitmin     \u001b[0m\u001b[1m fitm\u001b[0m ⋯\n",
       "\u001b[1m     \u001b[0m│\u001b[90m String     \u001b[0m\u001b[90m String  \u001b[0m\u001b[90m Float64    \u001b[0m\u001b[90m Float64      \u001b[0m\u001b[90m Int64  \u001b[0m\u001b[90m Float64    \u001b[0m\u001b[90m Floa\u001b[0m ⋯\n",
       "─────┼──────────────────────────────────────────────────────────────────────────\n",
       "   1 │ 100         2          0.274645    0.00867629     200    0.265968    0. ⋯\n",
       "   2 │ 100         5          0.345556    0.0290237      500    0.316532    0.\n",
       "   3 │ 100         10         0.426923    0.0462164     1000    0.380707    0.\n",
       "   4 │ 100         15       NaN         NaN             1500  NaN         NaN\n",
       "   5 │ 100         20         0.695306    0.0759885     2000    0.619318    0. ⋯\n",
       "   6 │ 100         25         0.807079    0.0836205     2500    0.723459    0.\n",
       "   7 │ 1000        2          0.725428    0.0138787     2000    0.711549    0.\n",
       "   8 │ 1000        5        NaN         NaN             5000  NaN         NaN\n",
       "   9 │ 1000        10       NaN         NaN            10000  NaN         NaN  ⋯\n",
       "  10 │ 1000        15       NaN         NaN            15000  NaN         NaN\n",
       "  11 │ 1000        20       NaN         NaN            20000  NaN         NaN\n",
       "  12 │ 1000        25       NaN         NaN            25000  NaN         NaN\n",
       "  13 │ 10000       2          7.50504     0.0849098    20000    7.42013     7. ⋯\n",
       "  14 │ 10000       5        NaN         NaN            50000  NaN         NaN\n",
       "  15 │ 10000       10       NaN         NaN           100000  NaN         NaN\n",
       "  16 │ 10000       15       NaN         NaN           150000  NaN         NaN\n",
       "  17 │ 10000       20       NaN         NaN           200000  NaN         NaN  ⋯\n",
       "  18 │ 10000       25       NaN         NaN           250000  NaN         NaN\n",
       "\u001b[36m                                                               2 columns omitted\u001b[0m"
      ]
     },
     "execution_count": 5,
     "metadata": {},
     "output_type": "execute_result"
    }
   ],
   "source": [
    "#simulation parameters\n",
    "@info \"making results table\"\n",
    "sample_sizes = repeat(string.(samplesizes), inner = nsims * length(ns))\n",
    "obs_sizes = repeat(string.(ns), inner = nsims, outer = length(samplesizes))\n",
    "\n",
    "msedf = DataFrame(βmse = βMseresult, σ2mse = σ2MseResult, ρmse = ρMseResult,\n",
    "    samplesize = sample_sizes, obssize = obs_sizes, fittimes = fittimes)\n",
    "timedf = combine(groupby(msedf, [:samplesize, :obssize]), :fittimes => mean => :fittime,\n",
    "    :fittimes => x -> (std(x)/sqrt(length(x))))\n",
    "rename!(timedf, Dict(:fittimes_function => \"se\"))\n",
    "timedf[!, :nobs] = Meta.parse.(timedf[!, :samplesize]) .* Meta.parse.(timedf[!, :obssize])\n",
    "timedf[!, :fitmin] = timedf[!, :fittime] - timedf[!, :se]\n",
    "timedf[!, :fitmax] = timedf[!, :fittime] + timedf[!, :se]\n",
    "timedf[!, :perobsratio] = timedf[!, :fittime] ./ timedf[!, :nobs]\n",
    "timedf"
   ]
  },
  {
   "cell_type": "code",
   "execution_count": 6,
   "metadata": {},
   "outputs": [],
   "source": [
    "# ########### plot the runtimes\n",
    "# using RCall\n",
    "# @rput timedf\n",
    "\n",
    "# R\"\"\"\n",
    "# library(ggplot2)\n",
    "# timedf$obssize = factor(timedf$obssize, levels = c('2', '5', '10', '15', '20', '25'))\n",
    "# timedf$samplesize = factor(timedf$samplesize, levels = c('100', '1000', '10000'))\n",
    "\n",
    "# fittime_1 = ggplot(timedf, aes(x = samplesize, y = fittime, group = obssize, color = obssize)) + \n",
    "#   geom_line() +\n",
    "#   geom_point()+\n",
    "#   geom_errorbar(aes(ymin=fitmin, ymax=fitmax), width=0.5, alpha = 0.8, position=position_dodge(0.005)) + \n",
    "#   theme(legend.position=c(0.15,0.85), legend.key = element_blank(), axis.text.x = element_text(angle=0, size=13),\n",
    "#         axis.text.y = element_text(angle=0, size=13), axis.title.x = element_text(size = 17), \n",
    "#         axis.title.y = element_text(size = 17), legend.title = element_text(size = 14),\n",
    "#         #axis.ticks = element_blank(),\n",
    "#         panel.grid.major = element_blank(), legend.text=element_text(size=13),\n",
    "#         panel.border = element_blank(), panel.grid.minor = element_blank(), panel.background = element_blank(), \n",
    "#         axis.line = element_line(color = 'black',size=0.3), plot.title = element_text(hjust = 0.5)) + \n",
    "#    scale_color_manual(values = c(\"#c85f55\",\n",
    "# \"#a964bf\",\n",
    "# \"#8db352\",\n",
    "# \"#fa7300\",\n",
    "# \"#05aec0\",\n",
    "# \"#ff1493\")) +\n",
    "#   labs(x = \"Number of Individuals\", y = \"Fit time (seconds)\", color = \"Obs per Individual\")\n",
    "# \"\"\"\n",
    "\n",
    "# R\"\"\"\n",
    "# ggsave('fittime_nsamples_normal_AR.png', fittime_1, width = 12.5, height = 15, units = 'in', dpi = 450)\n",
    "# \"\"\""
   ]
  },
  {
   "cell_type": "code",
   "execution_count": 7,
   "metadata": {},
   "outputs": [],
   "source": [
    "# using RCall\n",
    "# @rput timedf\n",
    "\n",
    "# R\"\"\"\n",
    "# library(scales)\n",
    "# library(ggplot2)\n",
    "# timedf$obssize <- factor(timedf$obssize, levels = c('2', '5', '10', '15', '20', '25'))\n",
    "# timedf$samplesize <- factor(timedf$samplesize, levels = c('100', '1000', '10000'))\n",
    "\n",
    "# fancy_scientific <- function(l) {\n",
    "#      # turn in to character string in scientific notation\n",
    "#      l <- format(l, scientific = TRUE)\n",
    "#      # quote the part before the exponent to keep all the digits\n",
    "#      l <- gsub(\"^(.*)e\", \"'\\\\1'e\", l)\n",
    "#      # turn the 'e+' into plotmath format\n",
    "#      l <- gsub(\"e\", \"%*%10^\", l)\n",
    "#      # return this as an expression\n",
    "#      parse(text=l)\n",
    "# }\n",
    "\n",
    "# fittimeperobs = ggplot(timedf, aes(x=nobs, y=perobsratio)) + \n",
    "#   geom_line() +\n",
    "#   geom_point()+\n",
    "# #  geom_errorbar(aes(ymin=fitmin, ymax=fitmax), width=0.5, alpha = 0.8, position=position_dodge(0.005)) + \n",
    "#   theme(legend.position=c(0.15,0.8), legend.key = element_blank(), axis.text.x = element_text(angle=0, size=13),\n",
    "#         axis.text.y = element_text(angle=0, size=13), axis.title.x = element_text(size = 17), \n",
    "#         axis.title.y = element_text(size = 17), legend.title = element_text(size = 14),\n",
    "#         #axis.ticks = element_blank(),\n",
    "#         panel.grid.major = element_blank(), legend.text=element_text(size=11),\n",
    "#         panel.border = element_blank(), panel.grid.minor = element_blank(), panel.background = element_blank(), \n",
    "#         axis.line = element_line(color = 'black',size=0.3), plot.title = element_text(hjust = 0.5)) + \n",
    "#   labs(x = \"Total Number of Observations\", y = \"Fit time per observation (seconds)\", color = \"Obs per Individual\") +\n",
    "# #scale_x_log10(breaks = 10^seq(0, 7, 1), labels=trans_format(\"log10\", math_format(10^.x)))# + #, limit=c(10^0, 10^7))\n",
    "# scale_x_continuous(breaks = seq(0, 6000000, 1000000), labels= fancy_scientific) +\n",
    "# scale_y_continuous(breaks = c(10^-4, 2 * 10^-4, 3 * 10^-4, 4 * 10^-4, 5 * 10^-4, 6 * 10^-4), labels= fancy_scientific)\n",
    "\n",
    "# \"\"\"\n",
    "\n",
    "# R\"\"\"\n",
    "# ggsave('fittimeperobs.png', fittimeperobs, width = 12.5, height = 15, units = 'in', dpi = 450)\n",
    "# \"\"\""
   ]
  },
  {
   "cell_type": "code",
   "execution_count": 8,
   "metadata": {},
   "outputs": [
    {
     "data": {
      "text/html": [
       "<div class=\"data-frame\"><p>18 rows × 7 columns (omitted printing of 2 columns)</p><table class=\"data-frame\"><thead><tr><th></th><th>people_obs</th><th>β1</th><th>β2</th><th>β3</th><th>σ2</th></tr><tr><th></th><th title=\"String\">String</th><th title=\"Tuple{Float64, Float64}\">Tuple…</th><th title=\"Tuple{Float64, Float64}\">Tuple…</th><th title=\"Tuple{Float64, Float64}\">Tuple…</th><th title=\"Tuple{Float64, Float64}\">Tuple…</th></tr></thead><tbody><tr><th>1</th><td>N: 100  ni: 2</td><td>(0.68, 0.0468826)</td><td>(0.73, 0.0446196)</td><td>(0.76, 0.0429235)</td><td>(0.9, 0.0301511)</td></tr><tr><th>2</th><td>N: 100  ni: 5</td><td>(0.68, 0.0468826)</td><td>(0.58, 0.0496045)</td><td>(0.75, 0.0435194)</td><td>(0.88, 0.0326599)</td></tr><tr><th>3</th><td>N: 100  ni: 10</td><td>(0.69, 0.0464823)</td><td>(0.67, 0.0472582)</td><td>(0.67, 0.0472582)</td><td>(0.85, 0.035887)</td></tr><tr><th>4</th><td>N: 100  ni: 15</td><td>(NaN, NaN)</td><td>(NaN, NaN)</td><td>(NaN, NaN)</td><td>(NaN, NaN)</td></tr><tr><th>5</th><td>N: 100  ni: 20</td><td>(0.7, 0.0460566)</td><td>(0.54, 0.0500908)</td><td>(0.83, 0.0377525)</td><td>(0.9, 0.0301511)</td></tr><tr><th>6</th><td>N: 100  ni: 25</td><td>(0.72, 0.0451261)</td><td>(0.69, 0.0464823)</td><td>(0.86, 0.0348735)</td><td>(0.92, 0.027266)</td></tr><tr><th>7</th><td>N: 1000  ni: 2</td><td>(0.78, 0.0416333)</td><td>(0.68, 0.0468826)</td><td>(0.85, 0.035887)</td><td>(0.9, 0.0301511)</td></tr><tr><th>8</th><td>N: 1000  ni: 5</td><td>(NaN, NaN)</td><td>(NaN, NaN)</td><td>(NaN, NaN)</td><td>(NaN, NaN)</td></tr><tr><th>9</th><td>N: 1000  ni: 10</td><td>(NaN, NaN)</td><td>(NaN, NaN)</td><td>(NaN, NaN)</td><td>(NaN, NaN)</td></tr><tr><th>10</th><td>N: 1000  ni: 15</td><td>(NaN, NaN)</td><td>(NaN, NaN)</td><td>(NaN, NaN)</td><td>(NaN, NaN)</td></tr><tr><th>11</th><td>N: 1000  ni: 20</td><td>(NaN, NaN)</td><td>(NaN, NaN)</td><td>(NaN, NaN)</td><td>(NaN, NaN)</td></tr><tr><th>12</th><td>N: 1000  ni: 25</td><td>(NaN, NaN)</td><td>(NaN, NaN)</td><td>(NaN, NaN)</td><td>(NaN, NaN)</td></tr><tr><th>13</th><td>N: 10000  ni: 2</td><td>(0.74, 0.0440844)</td><td>(0.65, 0.0479372)</td><td>(0.85, 0.035887)</td><td>(0.85, 0.035887)</td></tr><tr><th>14</th><td>N: 10000  ni: 5</td><td>(NaN, NaN)</td><td>(NaN, NaN)</td><td>(NaN, NaN)</td><td>(NaN, NaN)</td></tr><tr><th>15</th><td>N: 10000  ni: 10</td><td>(NaN, NaN)</td><td>(NaN, NaN)</td><td>(NaN, NaN)</td><td>(NaN, NaN)</td></tr><tr><th>16</th><td>N: 10000  ni: 15</td><td>(NaN, NaN)</td><td>(NaN, NaN)</td><td>(NaN, NaN)</td><td>(NaN, NaN)</td></tr><tr><th>17</th><td>N: 10000  ni: 20</td><td>(NaN, NaN)</td><td>(NaN, NaN)</td><td>(NaN, NaN)</td><td>(NaN, NaN)</td></tr><tr><th>18</th><td>N: 10000  ni: 25</td><td>(NaN, NaN)</td><td>(NaN, NaN)</td><td>(NaN, NaN)</td><td>(NaN, NaN)</td></tr></tbody></table></div>"
      ],
      "text/latex": [
       "\\begin{tabular}{r|cccccc}\n",
       "\t& people\\_obs & β1 & β2 & β3 & σ2 & \\\\\n",
       "\t\\hline\n",
       "\t& String & Tuple… & Tuple… & Tuple… & Tuple… & \\\\\n",
       "\t\\hline\n",
       "\t1 & N: 100  ni: 2 & (0.68, 0.0468826) & (0.73, 0.0446196) & (0.76, 0.0429235) & (0.9, 0.0301511) & $\\dots$ \\\\\n",
       "\t2 & N: 100  ni: 5 & (0.68, 0.0468826) & (0.58, 0.0496045) & (0.75, 0.0435194) & (0.88, 0.0326599) & $\\dots$ \\\\\n",
       "\t3 & N: 100  ni: 10 & (0.69, 0.0464823) & (0.67, 0.0472582) & (0.67, 0.0472582) & (0.85, 0.035887) & $\\dots$ \\\\\n",
       "\t4 & N: 100  ni: 15 & (NaN, NaN) & (NaN, NaN) & (NaN, NaN) & (NaN, NaN) & $\\dots$ \\\\\n",
       "\t5 & N: 100  ni: 20 & (0.7, 0.0460566) & (0.54, 0.0500908) & (0.83, 0.0377525) & (0.9, 0.0301511) & $\\dots$ \\\\\n",
       "\t6 & N: 100  ni: 25 & (0.72, 0.0451261) & (0.69, 0.0464823) & (0.86, 0.0348735) & (0.92, 0.027266) & $\\dots$ \\\\\n",
       "\t7 & N: 1000  ni: 2 & (0.78, 0.0416333) & (0.68, 0.0468826) & (0.85, 0.035887) & (0.9, 0.0301511) & $\\dots$ \\\\\n",
       "\t8 & N: 1000  ni: 5 & (NaN, NaN) & (NaN, NaN) & (NaN, NaN) & (NaN, NaN) & $\\dots$ \\\\\n",
       "\t9 & N: 1000  ni: 10 & (NaN, NaN) & (NaN, NaN) & (NaN, NaN) & (NaN, NaN) & $\\dots$ \\\\\n",
       "\t10 & N: 1000  ni: 15 & (NaN, NaN) & (NaN, NaN) & (NaN, NaN) & (NaN, NaN) & $\\dots$ \\\\\n",
       "\t11 & N: 1000  ni: 20 & (NaN, NaN) & (NaN, NaN) & (NaN, NaN) & (NaN, NaN) & $\\dots$ \\\\\n",
       "\t12 & N: 1000  ni: 25 & (NaN, NaN) & (NaN, NaN) & (NaN, NaN) & (NaN, NaN) & $\\dots$ \\\\\n",
       "\t13 & N: 10000  ni: 2 & (0.74, 0.0440844) & (0.65, 0.0479372) & (0.85, 0.035887) & (0.85, 0.035887) & $\\dots$ \\\\\n",
       "\t14 & N: 10000  ni: 5 & (NaN, NaN) & (NaN, NaN) & (NaN, NaN) & (NaN, NaN) & $\\dots$ \\\\\n",
       "\t15 & N: 10000  ni: 10 & (NaN, NaN) & (NaN, NaN) & (NaN, NaN) & (NaN, NaN) & $\\dots$ \\\\\n",
       "\t16 & N: 10000  ni: 15 & (NaN, NaN) & (NaN, NaN) & (NaN, NaN) & (NaN, NaN) & $\\dots$ \\\\\n",
       "\t17 & N: 10000  ni: 20 & (NaN, NaN) & (NaN, NaN) & (NaN, NaN) & (NaN, NaN) & $\\dots$ \\\\\n",
       "\t18 & N: 10000  ni: 25 & (NaN, NaN) & (NaN, NaN) & (NaN, NaN) & (NaN, NaN) & $\\dots$ \\\\\n",
       "\\end{tabular}\n"
      ],
      "text/plain": [
       "\u001b[1m18×7 DataFrame\u001b[0m\n",
       "\u001b[1m Row \u001b[0m│\u001b[1m people_obs       \u001b[0m\u001b[1m β1                \u001b[0m\u001b[1m β2                \u001b[0m\u001b[1m β3             \u001b[0m ⋯\n",
       "\u001b[1m     \u001b[0m│\u001b[90m String           \u001b[0m\u001b[90m Tuple…            \u001b[0m\u001b[90m Tuple…            \u001b[0m\u001b[90m Tuple…         \u001b[0m ⋯\n",
       "─────┼──────────────────────────────────────────────────────────────────────────\n",
       "   1 │ N: 100  ni: 2     (0.68, 0.0468826)  (0.73, 0.0446196)  (0.76, 0.042923 ⋯\n",
       "   2 │ N: 100  ni: 5     (0.68, 0.0468826)  (0.58, 0.0496045)  (0.75, 0.043519\n",
       "   3 │ N: 100  ni: 10    (0.69, 0.0464823)  (0.67, 0.0472582)  (0.67, 0.047258\n",
       "   4 │ N: 100  ni: 15    (NaN, NaN)         (NaN, NaN)         (NaN, NaN)\n",
       "   5 │ N: 100  ni: 20    (0.7, 0.0460566)   (0.54, 0.0500908)  (0.83, 0.037752 ⋯\n",
       "   6 │ N: 100  ni: 25    (0.72, 0.0451261)  (0.69, 0.0464823)  (0.86, 0.034873\n",
       "   7 │ N: 1000  ni: 2    (0.78, 0.0416333)  (0.68, 0.0468826)  (0.85, 0.035887\n",
       "   8 │ N: 1000  ni: 5    (NaN, NaN)         (NaN, NaN)         (NaN, NaN)\n",
       "   9 │ N: 1000  ni: 10   (NaN, NaN)         (NaN, NaN)         (NaN, NaN)      ⋯\n",
       "  10 │ N: 1000  ni: 15   (NaN, NaN)         (NaN, NaN)         (NaN, NaN)\n",
       "  11 │ N: 1000  ni: 20   (NaN, NaN)         (NaN, NaN)         (NaN, NaN)\n",
       "  12 │ N: 1000  ni: 25   (NaN, NaN)         (NaN, NaN)         (NaN, NaN)\n",
       "  13 │ N: 10000  ni: 2   (0.74, 0.0440844)  (0.65, 0.0479372)  (0.85, 0.035887 ⋯\n",
       "  14 │ N: 10000  ni: 5   (NaN, NaN)         (NaN, NaN)         (NaN, NaN)\n",
       "  15 │ N: 10000  ni: 10  (NaN, NaN)         (NaN, NaN)         (NaN, NaN)\n",
       "  16 │ N: 10000  ni: 15  (NaN, NaN)         (NaN, NaN)         (NaN, NaN)\n",
       "  17 │ N: 10000  ni: 20  (NaN, NaN)         (NaN, NaN)         (NaN, NaN)      ⋯\n",
       "  18 │ N: 10000  ni: 25  (NaN, NaN)         (NaN, NaN)         (NaN, NaN)\n",
       "\u001b[36m                                                               4 columns omitted\u001b[0m"
      ]
     },
     "execution_count": 8,
     "metadata": {},
     "output_type": "execute_result"
    }
   ],
   "source": [
    "######  supplementary table s1\n",
    "using Random, DataFrames, DelimitedFiles, Statistics\n",
    "import StatsBase: sem\n",
    "\n",
    "βρσ2rcoverage = readdlm(\"beta_rho_sigma_coverage_multivariate_nb_AR$(nsims)reps_sim.csv\", ',')\n",
    "\n",
    "m = 2\n",
    "\n",
    "covdf = DataFrame(Matrix(transpose(βρσ2rcoverage)), :auto)\n",
    "rename!(covdf, Symbol.([[\"β$i\" for i in 1:p]; [\"σ2\"];  [\"ρ\"]; [\"r\"]]))\n",
    "covdf[!, :samplesize] = sample_sizes\n",
    "covdf[!, :obssize] = obs_sizes\n",
    "first(covdf, 10)\n",
    "\n",
    "row_stats = [[(mean(col), sem(col)) for col = eachcol(d[!, 1:end-2])] for d = groupby(covdf, [:samplesize; :obssize])]\n",
    "df = DataFrame(row_stats, :auto)\n",
    "ss_obs = unique(\"N: \" .* sample_sizes .* \"  ni: \" .* obs_sizes)\n",
    "rename!(df, Symbol.(ss_obs))\n",
    "covdfdisplay = DataFrame([[names(df)]; collect.(eachrow(df))], \n",
    "    [:people_obs; Symbol.([[\"β$i\" for i in 1:p]; [\"σ2\"]; [\"ρ\"]; [\"r\"]])])\n",
    "covdfdisplay\n"
   ]
  },
  {
   "cell_type": "code",
   "execution_count": 9,
   "metadata": {},
   "outputs": [
    {
     "data": {
      "text/html": [
       "<div class=\"data-frame\"><p>6,795 rows × 5 columns</p><table class=\"data-frame\"><thead><tr><th></th><th>mse</th><th>obssize</th><th>samplesize</th><th>parameters</th><th>labels</th></tr><tr><th></th><th title=\"Float64\">Float64</th><th title=\"String\">String</th><th title=\"String\">String</th><th title=\"String\">String</th><th title=\"String\">String</th></tr></thead><tbody><tr><th>1</th><td>0.00514671</td><td>2</td><td>100</td><td>beta</td><td>Negative Binomial with Log Link</td></tr><tr><th>2</th><td>0.00381099</td><td>2</td><td>100</td><td>beta</td><td>Negative Binomial with Log Link</td></tr><tr><th>3</th><td>0.000970824</td><td>2</td><td>100</td><td>beta</td><td>Negative Binomial with Log Link</td></tr><tr><th>4</th><td>0.00220728</td><td>2</td><td>100</td><td>beta</td><td>Negative Binomial with Log Link</td></tr><tr><th>5</th><td>0.00577962</td><td>2</td><td>100</td><td>beta</td><td>Negative Binomial with Log Link</td></tr><tr><th>6</th><td>0.00475766</td><td>2</td><td>100</td><td>beta</td><td>Negative Binomial with Log Link</td></tr><tr><th>7</th><td>0.000754466</td><td>2</td><td>100</td><td>beta</td><td>Negative Binomial with Log Link</td></tr><tr><th>8</th><td>0.00372468</td><td>2</td><td>100</td><td>beta</td><td>Negative Binomial with Log Link</td></tr><tr><th>9</th><td>0.000730229</td><td>2</td><td>100</td><td>beta</td><td>Negative Binomial with Log Link</td></tr><tr><th>10</th><td>0.00401958</td><td>2</td><td>100</td><td>beta</td><td>Negative Binomial with Log Link</td></tr><tr><th>11</th><td>0.00636341</td><td>2</td><td>100</td><td>beta</td><td>Negative Binomial with Log Link</td></tr><tr><th>12</th><td>0.00119074</td><td>2</td><td>100</td><td>beta</td><td>Negative Binomial with Log Link</td></tr><tr><th>13</th><td>0.00126941</td><td>2</td><td>100</td><td>beta</td><td>Negative Binomial with Log Link</td></tr><tr><th>14</th><td>0.00362151</td><td>2</td><td>100</td><td>beta</td><td>Negative Binomial with Log Link</td></tr><tr><th>15</th><td>0.00869959</td><td>2</td><td>100</td><td>beta</td><td>Negative Binomial with Log Link</td></tr><tr><th>16</th><td>0.00130841</td><td>2</td><td>100</td><td>beta</td><td>Negative Binomial with Log Link</td></tr><tr><th>17</th><td>0.000140029</td><td>2</td><td>100</td><td>beta</td><td>Negative Binomial with Log Link</td></tr><tr><th>18</th><td>0.0017682</td><td>2</td><td>100</td><td>beta</td><td>Negative Binomial with Log Link</td></tr><tr><th>19</th><td>0.00841541</td><td>2</td><td>100</td><td>beta</td><td>Negative Binomial with Log Link</td></tr><tr><th>20</th><td>0.00783228</td><td>2</td><td>100</td><td>beta</td><td>Negative Binomial with Log Link</td></tr><tr><th>21</th><td>0.00234584</td><td>2</td><td>100</td><td>beta</td><td>Negative Binomial with Log Link</td></tr><tr><th>22</th><td>0.000753513</td><td>2</td><td>100</td><td>beta</td><td>Negative Binomial with Log Link</td></tr><tr><th>23</th><td>0.0170416</td><td>2</td><td>100</td><td>beta</td><td>Negative Binomial with Log Link</td></tr><tr><th>24</th><td>0.00558292</td><td>2</td><td>100</td><td>beta</td><td>Negative Binomial with Log Link</td></tr><tr><th>25</th><td>0.00460909</td><td>2</td><td>100</td><td>beta</td><td>Negative Binomial with Log Link</td></tr><tr><th>26</th><td>0.000439401</td><td>2</td><td>100</td><td>beta</td><td>Negative Binomial with Log Link</td></tr><tr><th>27</th><td>0.00430749</td><td>2</td><td>100</td><td>beta</td><td>Negative Binomial with Log Link</td></tr><tr><th>28</th><td>0.0069867</td><td>2</td><td>100</td><td>beta</td><td>Negative Binomial with Log Link</td></tr><tr><th>29</th><td>0.00705086</td><td>2</td><td>100</td><td>beta</td><td>Negative Binomial with Log Link</td></tr><tr><th>30</th><td>0.00646026</td><td>2</td><td>100</td><td>beta</td><td>Negative Binomial with Log Link</td></tr><tr><th>&vellip;</th><td>&vellip;</td><td>&vellip;</td><td>&vellip;</td><td>&vellip;</td><td>&vellip;</td></tr></tbody></table></div>"
      ],
      "text/latex": [
       "\\begin{tabular}{r|ccccc}\n",
       "\t& mse & obssize & samplesize & parameters & labels\\\\\n",
       "\t\\hline\n",
       "\t& Float64 & String & String & String & String\\\\\n",
       "\t\\hline\n",
       "\t1 & 0.00514671 & 2 & 100 & beta & Negative Binomial with Log Link \\\\\n",
       "\t2 & 0.00381099 & 2 & 100 & beta & Negative Binomial with Log Link \\\\\n",
       "\t3 & 0.000970824 & 2 & 100 & beta & Negative Binomial with Log Link \\\\\n",
       "\t4 & 0.00220728 & 2 & 100 & beta & Negative Binomial with Log Link \\\\\n",
       "\t5 & 0.00577962 & 2 & 100 & beta & Negative Binomial with Log Link \\\\\n",
       "\t6 & 0.00475766 & 2 & 100 & beta & Negative Binomial with Log Link \\\\\n",
       "\t7 & 0.000754466 & 2 & 100 & beta & Negative Binomial with Log Link \\\\\n",
       "\t8 & 0.00372468 & 2 & 100 & beta & Negative Binomial with Log Link \\\\\n",
       "\t9 & 0.000730229 & 2 & 100 & beta & Negative Binomial with Log Link \\\\\n",
       "\t10 & 0.00401958 & 2 & 100 & beta & Negative Binomial with Log Link \\\\\n",
       "\t11 & 0.00636341 & 2 & 100 & beta & Negative Binomial with Log Link \\\\\n",
       "\t12 & 0.00119074 & 2 & 100 & beta & Negative Binomial with Log Link \\\\\n",
       "\t13 & 0.00126941 & 2 & 100 & beta & Negative Binomial with Log Link \\\\\n",
       "\t14 & 0.00362151 & 2 & 100 & beta & Negative Binomial with Log Link \\\\\n",
       "\t15 & 0.00869959 & 2 & 100 & beta & Negative Binomial with Log Link \\\\\n",
       "\t16 & 0.00130841 & 2 & 100 & beta & Negative Binomial with Log Link \\\\\n",
       "\t17 & 0.000140029 & 2 & 100 & beta & Negative Binomial with Log Link \\\\\n",
       "\t18 & 0.0017682 & 2 & 100 & beta & Negative Binomial with Log Link \\\\\n",
       "\t19 & 0.00841541 & 2 & 100 & beta & Negative Binomial with Log Link \\\\\n",
       "\t20 & 0.00783228 & 2 & 100 & beta & Negative Binomial with Log Link \\\\\n",
       "\t21 & 0.00234584 & 2 & 100 & beta & Negative Binomial with Log Link \\\\\n",
       "\t22 & 0.000753513 & 2 & 100 & beta & Negative Binomial with Log Link \\\\\n",
       "\t23 & 0.0170416 & 2 & 100 & beta & Negative Binomial with Log Link \\\\\n",
       "\t24 & 0.00558292 & 2 & 100 & beta & Negative Binomial with Log Link \\\\\n",
       "\t25 & 0.00460909 & 2 & 100 & beta & Negative Binomial with Log Link \\\\\n",
       "\t26 & 0.000439401 & 2 & 100 & beta & Negative Binomial with Log Link \\\\\n",
       "\t27 & 0.00430749 & 2 & 100 & beta & Negative Binomial with Log Link \\\\\n",
       "\t28 & 0.0069867 & 2 & 100 & beta & Negative Binomial with Log Link \\\\\n",
       "\t29 & 0.00705086 & 2 & 100 & beta & Negative Binomial with Log Link \\\\\n",
       "\t30 & 0.00646026 & 2 & 100 & beta & Negative Binomial with Log Link \\\\\n",
       "\t$\\dots$ & $\\dots$ & $\\dots$ & $\\dots$ & $\\dots$ & $\\dots$ \\\\\n",
       "\\end{tabular}\n"
      ],
      "text/plain": [
       "\u001b[1m6795×5 DataFrame\u001b[0m\n",
       "\u001b[1m  Row \u001b[0m│\u001b[1m mse         \u001b[0m\u001b[1m obssize \u001b[0m\u001b[1m samplesize \u001b[0m\u001b[1m parameters \u001b[0m\u001b[1m labels                  \u001b[0m ⋯\n",
       "\u001b[1m      \u001b[0m│\u001b[90m Float64     \u001b[0m\u001b[90m String  \u001b[0m\u001b[90m String     \u001b[0m\u001b[90m String     \u001b[0m\u001b[90m String                  \u001b[0m ⋯\n",
       "──────┼─────────────────────────────────────────────────────────────────────────\n",
       "    1 │ 0.00514671   2        100         beta        Negative Binomial with L ⋯\n",
       "    2 │ 0.00381099   2        100         beta        Negative Binomial with L\n",
       "    3 │ 0.000970824  2        100         beta        Negative Binomial with L\n",
       "    4 │ 0.00220728   2        100         beta        Negative Binomial with L\n",
       "    5 │ 0.00577962   2        100         beta        Negative Binomial with L ⋯\n",
       "    6 │ 0.00475766   2        100         beta        Negative Binomial with L\n",
       "    7 │ 0.000754466  2        100         beta        Negative Binomial with L\n",
       "    8 │ 0.00372468   2        100         beta        Negative Binomial with L\n",
       "    9 │ 0.000730229  2        100         beta        Negative Binomial with L ⋯\n",
       "   10 │ 0.00401958   2        100         beta        Negative Binomial with L\n",
       "   11 │ 0.00636341   2        100         beta        Negative Binomial with L\n",
       "  ⋮   │      ⋮          ⋮         ⋮           ⋮                      ⋮         ⋱\n",
       " 6786 │ 0.00120473   25       10000       r           Negative Binomial with L\n",
       " 6787 │ 0.0181498    25       10000       r           Negative Binomial with L ⋯\n",
       " 6788 │ 0.00243777   25       10000       r           Negative Binomial with L\n",
       " 6789 │ 0.0881207    25       10000       r           Negative Binomial with L\n",
       " 6790 │ 0.0305087    25       10000       r           Negative Binomial with L\n",
       " 6791 │ 0.00600708   25       10000       r           Negative Binomial with L ⋯\n",
       " 6792 │ 0.000260863  25       10000       r           Negative Binomial with L\n",
       " 6793 │ 0.0293834    25       10000       r           Negative Binomial with L\n",
       " 6794 │ 0.00261615   25       10000       r           Negative Binomial with L\n",
       " 6795 │ 0.00382516   25       10000       r           Negative Binomial with L ⋯\n",
       "\u001b[36m                                                  1 column and 6774 rows omitted\u001b[0m"
      ]
     },
     "execution_count": 9,
     "metadata": {},
     "output_type": "execute_result"
    }
   ],
   "source": [
    "#### \n",
    "#import data and reorganize to create figure\n",
    "using Random, DataFrames, DelimitedFiles, Statistics, RCall, Printf\n",
    "import StatsBase: sem\n",
    "\n",
    "βMseresult_1 = vec(readdlm(\"mse_beta_multivariate_nb_AR$(nsims)reps_sim.csv\", ','))\n",
    "σ2MseResult_1 = vec(readdlm(\"mse_sigma_multivariate_nb_AR$(nsims)reps_sim.csv\", ','))\n",
    "ρMseResult_1 = vec(readdlm(\"mse_rho_multivariate_nb_AR$(nsims)reps_sim.csv\", ','))\n",
    "rMseResult_1 = vec(readdlm(\"mse_r_multivariate_nb_AR$(nsims)reps_sim.csv\", ','))\n",
    "βρσ2τcoverage_1 = readdlm(\"beta_rho_sigma_coverage_multivariate_nb_AR$(nsims)reps_sim.csv\", ',')\n",
    "\n",
    "p = 3\n",
    "sample_sizes = repeat(string.(samplesizes), inner = nsims * length(ns))\n",
    "obs_sizes = repeat(string.(ns), inner = nsims, outer = length(samplesizes))\n",
    "msedf = DataFrame(βmse = βMseresult_1, σ2mse = σ2MseResult_1, ρmse = ρMseResult_1, rmse = rMseResult_1,\n",
    "    samplesize = sample_sizes, obssize = obs_sizes)\n",
    "\n",
    "\n",
    "msedf = deepcopy(msedf)\n",
    "rename!(msedf, [\"betamse\"\n",
    "    \"sigmamse\"\n",
    "        \"rhomse\"\n",
    "        \"rmse\"\n",
    "    \"samplesize\"\n",
    " \"obssize\"]);\n",
    "\n",
    "mses = [msedf[!, :betamse]; msedf[!, :sigmamse] ; msedf[!, :rhomse]; msedf[!, :rmse]]\n",
    "\n",
    "obssize = collect([repeat(msedf[!, :obssize], 4)]...) \n",
    "\n",
    "samplesize = collect([repeat(msedf[!, :samplesize], 4)]...) \n",
    "\n",
    "parameters = collect([repeat(string.([:beta, :sigma, :rho, :r]), inner = nsims * length(ns) * length(samplesizes))]...)\n",
    "\n",
    "labels = collect([repeat([\"Negative Binomial with Log Link\"], 4 * nsims * length(ns) * length(samplesizes))]...) # ;\n",
    "\n",
    "mse_df = DataFrame(mse = mses, obssize = obssize, samplesize = samplesize,\n",
    "    parameters = parameters, labels = labels)\n",
    "\n",
    "#5 of the 30,000 simulations did not converge, filter out\n",
    "mse_df = filter(x -> !isnan(x.mse), mse_df)\n",
    "# additionally, there are 5 where an error was not caught so it did not try a differnt solver\n",
    "mse_df = filter(x -> x.mse < 40000, mse_df)"
   ]
  },
  {
   "cell_type": "code",
   "execution_count": 10,
   "metadata": {},
   "outputs": [
    {
     "name": "stderr",
     "output_type": "stream",
     "text": [
      "┌ Warning: RCall.jl: Warning: package ‘scales’ was built under R version 4.0.2\n",
      "└ @ RCall /Users/sarahji/.julia/packages/RCall/iMDW2/src/io.jl:160\n",
      "┌ Warning: RCall.jl: Warning: package ‘ggplot2’ was built under R version 4.0.2\n",
      "└ @ RCall /Users/sarahji/.julia/packages/RCall/iMDW2/src/io.jl:160\n",
      "┌ Warning: RCall.jl: Warning: package ‘data.table’ was built under R version 4.0.2\n",
      "└ @ RCall /Users/sarahji/.julia/packages/RCall/iMDW2/src/io.jl:160\n"
     ]
    },
    {
     "data": {
      "image/png": "[encoded data removed]"
     },
     "metadata": {},
     "output_type": "display_data"
    },
    {
     "data": {
      "text/plain": [
       "RObject{VecSxp}\n"
      ]
     },
     "execution_count": 10,
     "metadata": {},
     "output_type": "execute_result"
    }
   ],
   "source": [
    "### working on figure next\n",
    "@rput mse_df\n",
    "\n",
    "R\"\"\"\n",
    "library(scales)\n",
    "library(ggplot2)\n",
    "library(data.table)\n",
    "\n",
    "msedfR = data.table(mse_df)\n",
    "\n",
    "msedfR[parameters == \"beta\",y_min := 10^-4]\n",
    "msedfR[parameters == \"beta\",y_max := 10^-2]\n",
    "msedfR[parameters == \"sigma\",y_min := 10^-5]\n",
    "msedfR[parameters == \"sigma\",y_max := 10^1]\n",
    "msedfR[parameters == \"rho\",y_min := 10^-5]\n",
    "msedfR[parameters == \"rho\",y_max := 10^-2]\n",
    "msedfR[parameters == \"r\",y_min := 10^-5]\n",
    "msedfR[parameters == \"r\",y_max := 10^2]\n",
    "\n",
    "\n",
    "msedfR$obssize = factor(msedfR$obssize, levels = c('2', '5', '10', '15', '20', '25'))\n",
    "msedfR$samplesize = factor(msedfR$samplesize, levels = c('100', '1000', '10000'))\n",
    "msedfR$parameters = factor(msedfR$parameters, levels = c('beta', 'sigma', 'rho', 'r'), labels = c(beta = expression(hat(bold(beta))), Sigma = expression(hat(bold(sigma))[]), rho = expression(hat(bold(rho))), r = expression(hat(bold(r)))))\n",
    "msedfR$robust = factor(msedfR$labels, levels = c('Negative Binomial with Log Link'),\n",
    "    labels = c(expression(paste(\"Negative Binomial with Log Link\")))) # , expression(paste(\"MvT Gamma Inverse-Gamma\"))))\n",
    "\n",
    "\n",
    "\n",
    "mseplot = ggplot(msedfR[msedfR$mse < 10^3, ], aes(x=samplesize, y=mse, fill=obssize)) + \n",
    "  geom_boxplot(outlier.size = 0.25) +\n",
    "    facet_grid(parameters ~ robust, labeller = label_parsed, scales = \"free_y\") +\n",
    "  theme(legend.position=\"right\", legend.key = element_blank(), axis.text.x = element_text(angle=0, size=15),\n",
    "        axis.text.y = element_text(angle=0, size=15), axis.title.x = element_text(size = 20), \n",
    "        axis.title.y = element_text(size = 20), legend.title = element_text(size = 20),\n",
    "        panel.grid.major = element_blank(), panel.grid.minor = element_blank(),\n",
    "        legend.text=element_text(size=15), panel.background = element_rect(fill = NA, color = \"black\"),\n",
    "        #panel.background = element_blank(), #panel.border = element_blank(),\n",
    "        axis.line = element_line(color = 'black',size=0.3), plot.title = element_text(hjust = 0.5),\n",
    "        strip.background = element_rect(colour=\"black\", fill=\"white\"), strip.text.y = element_text(size=30, face=\"bold\"),\n",
    "        strip.text.x = element_text(size=20)) + \n",
    "  scale_fill_manual(values = c(\"#c85f55\",\n",
    "\"#a964bf\",\n",
    "\"#8db352\",\n",
    "\"#fa7300\",\n",
    "\"#05aec0\",\n",
    "\"#ff1493\")) +\n",
    "#scale_y_log10(breaks = scales::trans_breaks(\"log10\", function(x) 10^x)) +\n",
    "#scale_y_log10(breaks = 10^(-8:8), limit=c(10^-8, 10^2)) + \n",
    "scale_y_log10(breaks = 10^seq(-10, 10, 2), labels=trans_format(\"log10\", math_format(10^.x))) + #, limit=c(10^-8, 10^2)) +\n",
    "  labs(x = \"Sample Size\", y = \"MSE of Parameter Estimates\", fill = \"Cluster Size\") +\n",
    "geom_blank(aes(y = y_max)) + \n",
    "geom_blank(aes(y = y_min)) \n",
    "\"\"\""
   ]
  },
  {
   "cell_type": "code",
   "execution_count": 11,
   "metadata": {},
   "outputs": [
    {
     "data": {
      "text/plain": [
       "RObject{StrSxp}\n",
       "[1] \"updated_msefacetplot_NB_AR.png\"\n"
      ]
     },
     "execution_count": 11,
     "metadata": {},
     "output_type": "execute_result"
    }
   ],
   "source": [
    "R\"\"\"\n",
    "ggsave('updated_msefacetplot_NB_AR.png', mseplot, width = 12.5, height = 15, units = 'in', dpi = 450)\n",
    "\"\"\""
   ]
  },
  {
   "cell_type": "code",
   "execution_count": null,
   "metadata": {},
   "outputs": [],
   "source": []
  },
  {
   "cell_type": "code",
   "execution_count": null,
   "metadata": {},
   "outputs": [],
   "source": []
  }
 ],
 "metadata": {
  "@webio": {
   "lastCommId": null,
   "lastKernelId": null
  },
  "kernelspec": {
   "display_name": "Julia 1.6.2",
   "language": "julia",
   "name": "julia-1.6"
  },
  "language_info": {
   "file_extension": ".jl",
   "mimetype": "application/julia",
   "name": "julia",
   "version": "1.6.2"
  }
 },
 "nbformat": 4,
 "nbformat_minor": 2
}
