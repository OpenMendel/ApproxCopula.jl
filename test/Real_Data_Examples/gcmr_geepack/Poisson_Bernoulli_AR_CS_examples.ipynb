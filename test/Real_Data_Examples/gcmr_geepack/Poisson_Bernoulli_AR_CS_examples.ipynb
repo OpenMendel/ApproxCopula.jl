{
 "cells": [
  {
   "cell_type": "markdown",
   "metadata": {},
   "source": [
    "# Real Data Examples\n",
    "In this notebook we will compare the fit of our quasi-copula model vs that of R packages geepack and gcmr on two example datasets. \n",
    "\n",
    "## Table of Contents:\n",
    "* [Example 1: Poisson Base (gcmr: Epilepsy)](#ex1)\n",
    "* [Example 2: Bernoulli Base (geepack: Respiratory)](#ex2)\n",
    "\n",
    "For these examples we will try both autoregressive AR(1) and compound symmetry (CS) parameterization of the covariance matrix $\\Gamma,$ estimating correlation parameter $\\rho$ and dispersion parameter $\\sigma^2$. After fitting our models, for each example we will compare our estimates to that of geepack and gcmr packages using `RCall`. \n",
    "\n",
    "    note: For the dispersion parameter, we can an L2 penalty to the loglikelihood to keep the estimates from going off to infinity. This notebook presents results with the unpenalized fit.\n",
    "    "
   ]
  },
  {
   "cell_type": "code",
   "execution_count": 1,
   "metadata": {},
   "outputs": [
    {
     "name": "stdout",
     "output_type": "stream",
     "text": [
      "Julia Version 1.6.2\n",
      "Commit 1b93d53fc4 (2021-07-14 15:36 UTC)\n",
      "Platform Info:\n",
      "  OS: macOS (x86_64-apple-darwin18.7.0)\n",
      "  CPU: Intel(R) Core(TM) i9-9880H CPU @ 2.30GHz\n",
      "  WORD_SIZE: 64\n",
      "  LIBM: libopenlibm\n",
      "  LLVM: libLLVM-11.0.1 (ORCJIT, skylake)\n"
     ]
    }
   ],
   "source": [
    "versioninfo()"
   ]
  },
  {
   "cell_type": "code",
   "execution_count": 2,
   "metadata": {},
   "outputs": [
    {
     "name": "stderr",
     "output_type": "stream",
     "text": [
      "┌ Info: Precompiling GLMCopula [c47b6ae2-b804-4668-9957-eb588c99ffbc]\n",
      "└ @ Base loading.jl:1342\n"
     ]
    }
   ],
   "source": [
    "using CSV, DataFrames, GLMCopula, LinearAlgebra, GLM, RCall, RData, RDatasets"
   ]
  },
  {
   "cell_type": "markdown",
   "metadata": {},
   "source": [
    "## Example 1: Poisson Base  <a class=\"anchor\" id=\"ex1\"></a>\n",
    "\n",
    "\n",
    "We will get the fit of the quasi copula model with Poisson base on the \"epilepsy\" dataset from the \"gcmr\" package in R, using the AR(1) and CS parameterizations of the covariance. \n"
   ]
  },
  {
   "cell_type": "code",
   "execution_count": 3,
   "metadata": {
    "scrolled": true
   },
   "outputs": [
    {
     "name": "stderr",
     "output_type": "stream",
     "text": [
      "┌ Warning: RCall.jl: Warning: package ‘gcmr’ was built under R version 4.0.2\n",
      "└ @ RCall /Users/sarahji/.julia/packages/RCall/6kphM/src/io.jl:172\n"
     ]
    }
   ],
   "source": [
    "R\"\"\"\n",
    "    library(\"gcmr\")\n",
    "    data(\"epilepsy\", package = \"gcmr\")\n",
    "\"\"\"\n",
    "@rget epilepsy;"
   ]
  },
  {
   "cell_type": "markdown",
   "metadata": {},
   "source": [
    "Let's take a preview of the first 10 lines of the epilepsy dataset."
   ]
  },
  {
   "cell_type": "code",
   "execution_count": 4,
   "metadata": {},
   "outputs": [
    {
     "data": {
      "text/html": [
       "<div class=\"data-frame\"><p>10 rows × 6 columns</p><table class=\"data-frame\"><thead><tr><th></th><th>id</th><th>age</th><th>trt</th><th>counts</th><th>time</th><th>visit</th></tr><tr><th></th><th title=\"Int64\">Int64</th><th title=\"Int64\">Int64</th><th title=\"Int64\">Int64</th><th title=\"Int64\">Int64</th><th title=\"Float64\">Float64</th><th title=\"Float64\">Float64</th></tr></thead><tbody><tr><th>1</th><td>1</td><td>31</td><td>0</td><td>11</td><td>8.0</td><td>0.0</td></tr><tr><th>2</th><td>1</td><td>31</td><td>0</td><td>5</td><td>2.0</td><td>1.0</td></tr><tr><th>3</th><td>1</td><td>31</td><td>0</td><td>3</td><td>2.0</td><td>1.0</td></tr><tr><th>4</th><td>1</td><td>31</td><td>0</td><td>3</td><td>2.0</td><td>1.0</td></tr><tr><th>5</th><td>1</td><td>31</td><td>0</td><td>3</td><td>2.0</td><td>1.0</td></tr><tr><th>6</th><td>2</td><td>30</td><td>0</td><td>11</td><td>8.0</td><td>0.0</td></tr><tr><th>7</th><td>2</td><td>30</td><td>0</td><td>3</td><td>2.0</td><td>1.0</td></tr><tr><th>8</th><td>2</td><td>30</td><td>0</td><td>5</td><td>2.0</td><td>1.0</td></tr><tr><th>9</th><td>2</td><td>30</td><td>0</td><td>3</td><td>2.0</td><td>1.0</td></tr><tr><th>10</th><td>2</td><td>30</td><td>0</td><td>3</td><td>2.0</td><td>1.0</td></tr></tbody></table></div>"
      ],
      "text/latex": [
       "\\begin{tabular}{r|cccccc}\n",
       "\t& id & age & trt & counts & time & visit\\\\\n",
       "\t\\hline\n",
       "\t& Int64 & Int64 & Int64 & Int64 & Float64 & Float64\\\\\n",
       "\t\\hline\n",
       "\t1 & 1 & 31 & 0 & 11 & 8.0 & 0.0 \\\\\n",
       "\t2 & 1 & 31 & 0 & 5 & 2.0 & 1.0 \\\\\n",
       "\t3 & 1 & 31 & 0 & 3 & 2.0 & 1.0 \\\\\n",
       "\t4 & 1 & 31 & 0 & 3 & 2.0 & 1.0 \\\\\n",
       "\t5 & 1 & 31 & 0 & 3 & 2.0 & 1.0 \\\\\n",
       "\t6 & 2 & 30 & 0 & 11 & 8.0 & 0.0 \\\\\n",
       "\t7 & 2 & 30 & 0 & 3 & 2.0 & 1.0 \\\\\n",
       "\t8 & 2 & 30 & 0 & 5 & 2.0 & 1.0 \\\\\n",
       "\t9 & 2 & 30 & 0 & 3 & 2.0 & 1.0 \\\\\n",
       "\t10 & 2 & 30 & 0 & 3 & 2.0 & 1.0 \\\\\n",
       "\\end{tabular}\n"
      ],
      "text/plain": [
       "\u001b[1m10×6 DataFrame\u001b[0m\n",
       "\u001b[1m Row \u001b[0m│\u001b[1m id    \u001b[0m\u001b[1m age   \u001b[0m\u001b[1m trt   \u001b[0m\u001b[1m counts \u001b[0m\u001b[1m time    \u001b[0m\u001b[1m visit   \u001b[0m\n",
       "\u001b[1m     \u001b[0m│\u001b[90m Int64 \u001b[0m\u001b[90m Int64 \u001b[0m\u001b[90m Int64 \u001b[0m\u001b[90m Int64  \u001b[0m\u001b[90m Float64 \u001b[0m\u001b[90m Float64 \u001b[0m\n",
       "─────┼───────────────────────────────────────────────\n",
       "   1 │     1     31      0      11      8.0      0.0\n",
       "   2 │     1     31      0       5      2.0      1.0\n",
       "   3 │     1     31      0       3      2.0      1.0\n",
       "   4 │     1     31      0       3      2.0      1.0\n",
       "   5 │     1     31      0       3      2.0      1.0\n",
       "   6 │     2     30      0      11      8.0      0.0\n",
       "   7 │     2     30      0       3      2.0      1.0\n",
       "   8 │     2     30      0       5      2.0      1.0\n",
       "   9 │     2     30      0       3      2.0      1.0\n",
       "  10 │     2     30      0       3      2.0      1.0"
      ]
     },
     "execution_count": 4,
     "metadata": {},
     "output_type": "execute_result"
    }
   ],
   "source": [
    "epilepsy[1:10, :]"
   ]
  },
  {
   "cell_type": "markdown",
   "metadata": {},
   "source": [
    "### Forming the Models\n",
    "\n",
    "To form the model, we give it the following arguments:\n",
    "\n",
    "- named dataframe\n",
    "- outcome variable name of interest as a symbol\n",
    "- grouping variable name of interest as a symbol\n",
    "- covariate names of interest as a vector of symbols\n",
    "- base distribution\n",
    "- link function"
   ]
  },
  {
   "cell_type": "code",
   "execution_count": 5,
   "metadata": {},
   "outputs": [],
   "source": [
    "df = epilepsy\n",
    "y = :counts\n",
    "grouping = :id\n",
    "covariates = [:visit, :trt]\n",
    "d = Poisson()\n",
    "link = LogLink()\n",
    "\n",
    "# forming AR(1) model with Poisson base\n",
    "Poisson_AR_model = AR_model(df, y, grouping, covariates, d, link);\n",
    "\n",
    "# forming CS model with Poisson base\n",
    "Poisson_CS_model = CS_model(df, y, grouping, covariates, d, link);"
   ]
  },
  {
   "cell_type": "markdown",
   "metadata": {},
   "source": [
    "Fit the AR(1) model with Poisson base"
   ]
  },
  {
   "cell_type": "code",
   "execution_count": 6,
   "metadata": {},
   "outputs": [
    {
     "name": "stdout",
     "output_type": "stream",
     "text": [
      "initializing β using Newton's Algorithm under Independence Assumption\n",
      "initializing variance components using MM-Algorithm\n",
      "\n",
      "******************************************************************************\n",
      "This program contains Ipopt, a library for large-scale nonlinear optimization.\n",
      " Ipopt is released as open source code under the Eclipse Public License (EPL).\n",
      "         For more information visit https://github.com/coin-or/Ipopt\n",
      "******************************************************************************\n",
      "\n",
      "Total number of variables............................:        5\n",
      "                     variables with only lower bounds:        1\n",
      "                variables with lower and upper bounds:        1\n",
      "                     variables with only upper bounds:        0\n",
      "Total number of equality constraints.................:        0\n",
      "Total number of inequality constraints...............:        0\n",
      "        inequality constraints with only lower bounds:        0\n",
      "   inequality constraints with lower and upper bounds:        0\n",
      "        inequality constraints with only upper bounds:        0\n",
      "\n",
      "\n",
      "Number of Iterations....: 90\n",
      "\n",
      "                                   (scaled)                 (unscaled)\n",
      "Objective...............:   2.1688986516850264e+03    2.1688986516850264e+03\n",
      "Dual infeasibility......:   1.2101282776440716e-09    1.2101282776440716e-09\n",
      "Constraint violation....:   0.0000000000000000e+00    0.0000000000000000e+00\n",
      "Complementarity.........:   9.9999999999999994e-12    9.9999999999999994e-12\n",
      "Overall NLP error.......:   1.2101282776440716e-09    1.2101282776440716e-09\n",
      "\n",
      "\n",
      "Number of objective function evaluations             = 381\n",
      "Number of objective gradient evaluations             = 91\n",
      "Number of equality constraint evaluations            = 0\n",
      "Number of inequality constraint evaluations          = 0\n",
      "Number of equality constraint Jacobian evaluations   = 0\n",
      "Number of inequality constraint Jacobian evaluations = 0\n",
      "Number of Lagrangian Hessian evaluations             = 0\n",
      "Total CPU secs in IPOPT (w/o function evaluations)   =      0.580\n",
      "Total CPU secs in NLP function evaluations           =      0.021\n",
      "\n",
      "EXIT: Optimal Solution Found.\n"
     ]
    }
   ],
   "source": [
    "GLMCopula.fit!(Poisson_AR_model, IpoptSolver(print_level = 3, max_iter = 100, tol = 10^-8, limited_memory_max_history = 20, hessian_approximation = \"limited-memory\"));"
   ]
  },
  {
   "cell_type": "markdown",
   "metadata": {},
   "source": [
    "Fit the CS model with Poisson base"
   ]
  },
  {
   "cell_type": "code",
   "execution_count": 7,
   "metadata": {},
   "outputs": [
    {
     "name": "stdout",
     "output_type": "stream",
     "text": [
      "initializing β using Newton's Algorithm under Independence Assumption\n",
      "initializing σ2 and ρ using method of moments\n",
      "Total number of variables............................:        5\n",
      "                     variables with only lower bounds:        1\n",
      "                variables with lower and upper bounds:        1\n",
      "                     variables with only upper bounds:        0\n",
      "Total number of equality constraints.................:        0\n",
      "Total number of inequality constraints...............:        0\n",
      "        inequality constraints with only lower bounds:        0\n",
      "   inequality constraints with lower and upper bounds:        0\n",
      "        inequality constraints with only upper bounds:        0\n",
      "\n",
      "\n",
      "Number of Iterations....: 92\n",
      "\n",
      "                                   (scaled)                 (unscaled)\n",
      "Objective...............:   2.1695813266189330e+03    2.1695813266189330e+03\n",
      "Dual infeasibility......:   9.1969454274476448e-09    9.1969454274476448e-09\n",
      "Constraint violation....:   0.0000000000000000e+00    0.0000000000000000e+00\n",
      "Complementarity.........:   9.9999999999999994e-12    9.9999999999999994e-12\n",
      "Overall NLP error.......:   9.1969454274476448e-09    9.1969454274476448e-09\n",
      "\n",
      "\n",
      "Number of objective function evaluations             = 379\n",
      "Number of objective gradient evaluations             = 93\n",
      "Number of equality constraint evaluations            = 0\n",
      "Number of inequality constraint evaluations          = 0\n",
      "Number of equality constraint Jacobian evaluations   = 0\n",
      "Number of inequality constraint Jacobian evaluations = 0\n",
      "Number of Lagrangian Hessian evaluations             = 0\n",
      "Total CPU secs in IPOPT (w/o function evaluations)   =      0.585\n",
      "Total CPU secs in NLP function evaluations           =      0.021\n",
      "\n",
      "EXIT: Optimal Solution Found.\n"
     ]
    }
   ],
   "source": [
    "GLMCopula.fit!(Poisson_CS_model, IpoptSolver(print_level = 3, max_iter = 100, tol = 10^-8, limited_memory_max_history = 20, hessian_approximation = \"limited-memory\"));"
   ]
  },
  {
   "cell_type": "markdown",
   "metadata": {},
   "source": [
    "We can take a look at the MLE's for the AR(1) model with Poisson base"
   ]
  },
  {
   "cell_type": "code",
   "execution_count": 8,
   "metadata": {},
   "outputs": [
    {
     "name": "stdout",
     "output_type": "stream",
     "text": [
      "Poisson_AR_model.β = [3.477001434224112, -1.3123828083857931, -0.06552858740032046]\n",
      "Poisson_AR_model.σ2 = [96534.17924265226]\n",
      "Poisson_AR_model.ρ = [0.9499485377184236]\n"
     ]
    }
   ],
   "source": [
    "@show Poisson_AR_model.β\n",
    "@show Poisson_AR_model.σ2\n",
    "@show Poisson_AR_model.ρ;"
   ]
  },
  {
   "cell_type": "markdown",
   "metadata": {},
   "source": [
    "We can take a look at the MLE's for the CS model with Poisson base"
   ]
  },
  {
   "cell_type": "code",
   "execution_count": 9,
   "metadata": {},
   "outputs": [
    {
     "name": "stdout",
     "output_type": "stream",
     "text": [
      "Poisson_CS_model.β = [3.479229893235856, -1.3137359424301136, -0.05223916238672295]\n",
      "Poisson_CS_model.σ2 = [133560.55732336888]\n",
      "Poisson_CS_model.ρ = [0.9101785804195232]\n"
     ]
    }
   ],
   "source": [
    "@show Poisson_CS_model.β\n",
    "@show Poisson_CS_model.σ2\n",
    "@show Poisson_CS_model.ρ;"
   ]
  },
  {
   "cell_type": "markdown",
   "metadata": {},
   "source": [
    "Calculate the loglikelihood at the maximum for the AR(1) model with Poisson base"
   ]
  },
  {
   "cell_type": "code",
   "execution_count": 10,
   "metadata": {},
   "outputs": [
    {
     "name": "stdout",
     "output_type": "stream",
     "text": [
      "loglikelihood!(Poisson_AR_model, false, false) = -2168.8986516850264\n"
     ]
    }
   ],
   "source": [
    "@show loglikelihood!(Poisson_AR_model, false, false);"
   ]
  },
  {
   "cell_type": "markdown",
   "metadata": {},
   "source": [
    "Calculate the loglikelihood at the maximum for the CS model with Poisson base"
   ]
  },
  {
   "cell_type": "code",
   "execution_count": 11,
   "metadata": {},
   "outputs": [
    {
     "name": "stdout",
     "output_type": "stream",
     "text": [
      "loglikelihood!(Poisson_CS_model, true, true) = -2169.581326618933\n"
     ]
    }
   ],
   "source": [
    "@show loglikelihood!(Poisson_CS_model, true, true);"
   ]
  },
  {
   "cell_type": "markdown",
   "metadata": {},
   "source": [
    "##### Using geepack\n",
    "\n",
    "Analyzing the epilepsy data under the AR(1) covariance using geepack we have:"
   ]
  },
  {
   "cell_type": "code",
   "execution_count": 12,
   "metadata": {},
   "outputs": [
    {
     "name": "stderr",
     "output_type": "stream",
     "text": [
      "┌ Warning: RCall.jl: Warning: package ‘geepack’ was built under R version 4.0.2\n",
      "└ @ RCall /Users/sarahji/.julia/packages/RCall/6kphM/src/io.jl:172\n"
     ]
    },
    {
     "data": {
      "text/plain": [
       "RObject{VecSxp}\n",
       "\n",
       "Call:\n",
       "geeglm(formula = counts ~ 1 + visit + trt, family = poisson, \n",
       "    data = epilepsy, id = id, corstr = \"ar1\")\n",
       "\n",
       " Coefficients:\n",
       "            Estimate  Std.err   Wald Pr(>|W|)    \n",
       "(Intercept)  3.35097  0.18684 321.67   <2e-16 ***\n",
       "visit       -1.29785  0.13039  99.07   <2e-16 ***\n",
       "trt          0.08819  0.22758   0.15    0.698    \n",
       "---\n",
       "Signif. codes:  0 ‘***’ 0.001 ‘**’ 0.01 ‘*’ 0.05 ‘.’ 0.1 ‘ ’ 1\n",
       "\n",
       "Correlation structure = ar1 \n",
       "Estimated Scale Parameters:\n",
       "\n",
       "            Estimate Std.err\n",
       "(Intercept)    19.52   8.395\n",
       "  Link = identity \n",
       "\n",
       "Estimated Correlation Parameters:\n",
       "      Estimate Std.err\n",
       "alpha   0.8882 0.04193\n",
       "Number of clusters:   59  Maximum cluster size: 5 \n"
      ]
     },
     "execution_count": 12,
     "metadata": {},
     "output_type": "execute_result"
    }
   ],
   "source": [
    "R\"\"\"\n",
    "    library(\"geepack\")\n",
    "    data(\"epilepsy\", package = \"gcmr\")\n",
    "    gee.ar1 <- geeglm(counts ~ 1 + visit + trt,\n",
    "    data = epilepsy, id = id, family = poisson,\n",
    "    corstr = \"ar1\")\n",
    "\n",
    "    summary(gee.ar1)\n",
    "\"\"\""
   ]
  },
  {
   "cell_type": "markdown",
   "metadata": {},
   "source": [
    "Analyzing the epilepsy data under the CS covariance using geepack we have:"
   ]
  },
  {
   "cell_type": "code",
   "execution_count": 13,
   "metadata": {},
   "outputs": [
    {
     "data": {
      "text/plain": [
       "RObject{VecSxp}\n",
       "\n",
       "Call:\n",
       "geeglm(formula = counts ~ 1 + visit + trt, family = poisson, \n",
       "    data = epilepsy, id = id, corstr = \"exchangeable\")\n",
       "\n",
       " Coefficients:\n",
       "            Estimate Std.err   Wald Pr(>|W|)    \n",
       "(Intercept)   3.4022  0.1684 408.16   <2e-16 ***\n",
       "visit        -1.3288  0.1055 158.73   <2e-16 ***\n",
       "trt           0.0737  0.2130   0.12     0.73    \n",
       "---\n",
       "Signif. codes:  0 ‘***’ 0.001 ‘**’ 0.01 ‘*’ 0.05 ‘.’ 0.1 ‘ ’ 1\n",
       "\n",
       "Correlation structure = exchangeable \n",
       "Estimated Scale Parameters:\n",
       "\n",
       "            Estimate Std.err\n",
       "(Intercept)     19.1    8.28\n",
       "  Link = identity \n",
       "\n",
       "Estimated Correlation Parameters:\n",
       "      Estimate Std.err\n",
       "alpha     0.77  0.0848\n",
       "Number of clusters:   59  Maximum cluster size: 5 \n"
      ]
     },
     "execution_count": 13,
     "metadata": {},
     "output_type": "execute_result"
    }
   ],
   "source": [
    "R\"\"\"\n",
    "    library(\"geepack\")\n",
    "    data(\"epilepsy\", package = \"gcmr\")\n",
    "    gee.cs <- geeglm(counts ~ 1 + visit + trt,\n",
    "    data = epilepsy, id = id, family = poisson,\n",
    "    corstr = \"exchangeable\")\n",
    "\n",
    "    summary(gee.cs)\n",
    "\"\"\""
   ]
  },
  {
   "cell_type": "markdown",
   "metadata": {},
   "source": [
    "##### Using gcmr\n",
    "\n",
    "Analyzing the epilepsy data under the AR(1) covariance using gcmr we have:"
   ]
  },
  {
   "cell_type": "code",
   "execution_count": 14,
   "metadata": {},
   "outputs": [
    {
     "data": {
      "text/plain": [
       "RObject{VecSxp}\n",
       "\n",
       "Call:\n",
       "gcmr(formula = counts ~ 1 + visit + trt, data = epilepsy, marginal = poisson.marg(link = \"log\"), \n",
       "    cormat = cluster.cormat(id, \"ar1\"))\n",
       "\n",
       "\n",
       "Coefficients marginal model:\n",
       "            Estimate Std. Error z value Pr(>|z|)    \n",
       "(Intercept)   3.2721     0.0299  109.33  < 2e-16 ***\n",
       "visit        -1.3413     0.0307  -43.76  < 2e-16 ***\n",
       "trt          -0.1687     0.0405   -4.17  3.1e-05 ***\n",
       "\n",
       "Coefficients Gaussian copula:\n",
       "    Estimate Std. Error z value Pr(>|z|)    \n",
       "ar1   0.4264     0.0205    20.8   <2e-16 ***\n",
       "---\n",
       "Signif. codes:  0 '***' 0.001 '**' 0.01 '*' 0.05 '.' 0.1 ' ' 1 \n",
       "\n",
       "log likelihood = 1401.5,  AIC = 2811\n"
      ]
     },
     "execution_count": 14,
     "metadata": {},
     "output_type": "execute_result"
    }
   ],
   "source": [
    "R\"\"\"\n",
    "    library(\"gcmr\")\n",
    "    data(\"epilepsy\", package = \"gcmr\")\n",
    "    mod.ar <- gcmr(counts ~ 1 + visit + trt,\n",
    "    data = epilepsy, marginal = poisson.marg(link = \"log\"),\n",
    "    cormat = cluster.cormat(id, \"ar1\"))\n",
    "\n",
    "    summary(mod.ar)\n",
    "\"\"\""
   ]
  },
  {
   "cell_type": "markdown",
   "metadata": {},
   "source": [
    "Analyzing the epilepsy data under the CS covariance using gcmr we have:"
   ]
  },
  {
   "cell_type": "code",
   "execution_count": 15,
   "metadata": {},
   "outputs": [
    {
     "data": {
      "text/plain": [
       "RObject{VecSxp}\n",
       "\n",
       "Call:\n",
       "gcmr(formula = counts ~ 1 + visit + trt, data = epilepsy, marginal = poisson.marg(link = \"log\"), \n",
       "    cormat = cluster.cormat(id, \"exchangeable\"))\n",
       "\n",
       "\n",
       "Coefficients marginal model:\n",
       "            Estimate Std. Error z value Pr(>|z|)    \n",
       "(Intercept)   3.3986     0.0260  130.73   <2e-16 ***\n",
       "visit        -1.2745     0.0256  -49.86   <2e-16 ***\n",
       "trt          -0.2514     0.0271   -9.27   <2e-16 ***\n",
       "\n",
       "Coefficients Gaussian copula:\n",
       "    Estimate Std. Error z value Pr(>|z|)    \n",
       "tau   0.3589     0.0189      19   <2e-16 ***\n",
       "---\n",
       "Signif. codes:  0 '***' 0.001 '**' 0.01 '*' 0.05 '.' 0.1 ' ' 1 \n",
       "\n",
       "log likelihood =   1330,  AIC = 2668\n"
      ]
     },
     "execution_count": 15,
     "metadata": {},
     "output_type": "execute_result"
    }
   ],
   "source": [
    "R\"\"\"\n",
    "    library(\"gcmr\")\n",
    "    data(\"epilepsy\", package = \"gcmr\")\n",
    "    mod.cs <- gcmr(counts ~ 1 + visit + trt,\n",
    "    data = epilepsy, marginal = poisson.marg(link = \"log\"),\n",
    "    cormat = cluster.cormat(id, \"exchangeable\"))\n",
    "\n",
    "    summary(mod.cs)\n",
    "\"\"\""
   ]
  },
  {
   "cell_type": "markdown",
   "metadata": {},
   "source": [
    "## Example 2: Bernoulli Base  <a class=\"anchor\" id=\"ex2\"></a>\n",
    "\n",
    "We will get the fit of the quasi copula model with Bernoulli base on the \"respiratory\" dataset from the \"geepack\" package in R, using the AR(1) and CS parameterizations of the covariance. "
   ]
  },
  {
   "cell_type": "code",
   "execution_count": 16,
   "metadata": {},
   "outputs": [],
   "source": [
    "R\"\"\"\n",
    "    data(respiratory, package=\"geepack\")\n",
    "    respiratory_df <- respiratory[order(respiratory$id),]\n",
    "\"\"\"\n",
    "\n",
    "@rget respiratory_df;"
   ]
  },
  {
   "cell_type": "markdown",
   "metadata": {},
   "source": [
    "Let's take a preview of the first 10 lines of the respiratory dataset in long format."
   ]
  },
  {
   "cell_type": "code",
   "execution_count": 17,
   "metadata": {},
   "outputs": [
    {
     "data": {
      "text/html": [
       "<div class=\"data-frame\"><p>10 rows × 8 columns</p><table class=\"data-frame\"><thead><tr><th></th><th>center</th><th>id</th><th>treat</th><th>sex</th><th>age</th><th>baseline</th><th>visit</th><th>outcome</th></tr><tr><th></th><th title=\"Int64\">Int64</th><th title=\"Int64\">Int64</th><th title=\"CategoricalArrays.CategoricalValue{String, UInt32}\">Cat…</th><th title=\"CategoricalArrays.CategoricalValue{String, UInt32}\">Cat…</th><th title=\"Int64\">Int64</th><th title=\"Int64\">Int64</th><th title=\"Int64\">Int64</th><th title=\"Int64\">Int64</th></tr></thead><tbody><tr><th>1</th><td>1</td><td>1</td><td>P</td><td>M</td><td>46</td><td>0</td><td>1</td><td>0</td></tr><tr><th>2</th><td>1</td><td>1</td><td>P</td><td>M</td><td>46</td><td>0</td><td>2</td><td>0</td></tr><tr><th>3</th><td>1</td><td>1</td><td>P</td><td>M</td><td>46</td><td>0</td><td>3</td><td>0</td></tr><tr><th>4</th><td>1</td><td>1</td><td>P</td><td>M</td><td>46</td><td>0</td><td>4</td><td>0</td></tr><tr><th>5</th><td>2</td><td>1</td><td>P</td><td>F</td><td>39</td><td>0</td><td>1</td><td>0</td></tr><tr><th>6</th><td>2</td><td>1</td><td>P</td><td>F</td><td>39</td><td>0</td><td>2</td><td>0</td></tr><tr><th>7</th><td>2</td><td>1</td><td>P</td><td>F</td><td>39</td><td>0</td><td>3</td><td>0</td></tr><tr><th>8</th><td>2</td><td>1</td><td>P</td><td>F</td><td>39</td><td>0</td><td>4</td><td>0</td></tr><tr><th>9</th><td>1</td><td>2</td><td>P</td><td>M</td><td>28</td><td>0</td><td>1</td><td>0</td></tr><tr><th>10</th><td>1</td><td>2</td><td>P</td><td>M</td><td>28</td><td>0</td><td>2</td><td>0</td></tr></tbody></table></div>"
      ],
      "text/latex": [
       "\\begin{tabular}{r|cccccccc}\n",
       "\t& center & id & treat & sex & age & baseline & visit & outcome\\\\\n",
       "\t\\hline\n",
       "\t& Int64 & Int64 & Cat… & Cat… & Int64 & Int64 & Int64 & Int64\\\\\n",
       "\t\\hline\n",
       "\t1 & 1 & 1 & P & M & 46 & 0 & 1 & 0 \\\\\n",
       "\t2 & 1 & 1 & P & M & 46 & 0 & 2 & 0 \\\\\n",
       "\t3 & 1 & 1 & P & M & 46 & 0 & 3 & 0 \\\\\n",
       "\t4 & 1 & 1 & P & M & 46 & 0 & 4 & 0 \\\\\n",
       "\t5 & 2 & 1 & P & F & 39 & 0 & 1 & 0 \\\\\n",
       "\t6 & 2 & 1 & P & F & 39 & 0 & 2 & 0 \\\\\n",
       "\t7 & 2 & 1 & P & F & 39 & 0 & 3 & 0 \\\\\n",
       "\t8 & 2 & 1 & P & F & 39 & 0 & 4 & 0 \\\\\n",
       "\t9 & 1 & 2 & P & M & 28 & 0 & 1 & 0 \\\\\n",
       "\t10 & 1 & 2 & P & M & 28 & 0 & 2 & 0 \\\\\n",
       "\\end{tabular}\n"
      ],
      "text/plain": [
       "\u001b[1m10×8 DataFrame\u001b[0m\n",
       "\u001b[1m Row \u001b[0m│\u001b[1m center \u001b[0m\u001b[1m id    \u001b[0m\u001b[1m treat \u001b[0m\u001b[1m sex  \u001b[0m\u001b[1m age   \u001b[0m\u001b[1m baseline \u001b[0m\u001b[1m visit \u001b[0m\u001b[1m outcome \u001b[0m\n",
       "\u001b[1m     \u001b[0m│\u001b[90m Int64  \u001b[0m\u001b[90m Int64 \u001b[0m\u001b[90m Cat…  \u001b[0m\u001b[90m Cat… \u001b[0m\u001b[90m Int64 \u001b[0m\u001b[90m Int64    \u001b[0m\u001b[90m Int64 \u001b[0m\u001b[90m Int64   \u001b[0m\n",
       "─────┼─────────────────────────────────────────────────────────────\n",
       "   1 │      1      1  P      M        46         0      1        0\n",
       "   2 │      1      1  P      M        46         0      2        0\n",
       "   3 │      1      1  P      M        46         0      3        0\n",
       "   4 │      1      1  P      M        46         0      4        0\n",
       "   5 │      2      1  P      F        39         0      1        0\n",
       "   6 │      2      1  P      F        39         0      2        0\n",
       "   7 │      2      1  P      F        39         0      3        0\n",
       "   8 │      2      1  P      F        39         0      4        0\n",
       "   9 │      1      2  P      M        28         0      1        0\n",
       "  10 │      1      2  P      M        28         0      2        0"
      ]
     },
     "execution_count": 17,
     "metadata": {},
     "output_type": "execute_result"
    }
   ],
   "source": [
    "respiratory_df[1:10, :]"
   ]
  },
  {
   "cell_type": "markdown",
   "metadata": {},
   "source": [
    "### Forming the Models\n",
    "\n",
    "To form the model, we give it the following arguments:\n",
    "\n",
    "- named dataframe\n",
    "- outcome variable name of interest as a symbol\n",
    "- grouping variable name of interest as a symbol\n",
    "- covariate names of interest as a vector of symbols\n",
    "- base distribution\n",
    "- link function"
   ]
  },
  {
   "cell_type": "code",
   "execution_count": 18,
   "metadata": {},
   "outputs": [],
   "source": [
    "df = respiratory_df\n",
    "y = :outcome\n",
    "grouping = :id\n",
    "covariates = [:center, :age, :baseline]\n",
    "d = Bernoulli()\n",
    "link = LogitLink()\n",
    "\n",
    "# forming AR(1) model with Bernoulli base\n",
    "Bernoulli_AR_model = AR_model(df, y, grouping, covariates, d, link);\n",
    "\n",
    "# forming CS model with Bernoulli base\n",
    "Bernoulli_CS_model = CS_model(df, y, grouping, covariates, d, link);"
   ]
  },
  {
   "cell_type": "markdown",
   "metadata": {},
   "source": [
    "Fit the AR(1) model with Bernoulli base"
   ]
  },
  {
   "cell_type": "code",
   "execution_count": 19,
   "metadata": {},
   "outputs": [
    {
     "name": "stdout",
     "output_type": "stream",
     "text": [
      "initializing β using Newton's Algorithm under Independence Assumption\n",
      "initializing variance components using MM-Algorithm\n",
      "Total number of variables............................:        6\n",
      "                     variables with only lower bounds:        1\n",
      "                variables with lower and upper bounds:        1\n",
      "                     variables with only upper bounds:        0\n",
      "Total number of equality constraints.................:        0\n",
      "Total number of inequality constraints...............:        0\n",
      "        inequality constraints with only lower bounds:        0\n",
      "   inequality constraints with lower and upper bounds:        0\n",
      "        inequality constraints with only upper bounds:        0\n",
      "\n",
      "\n",
      "Number of Iterations....: 94\n",
      "\n",
      "                                   (scaled)                 (unscaled)\n",
      "Objective...............:   2.4055710825065927e+02    2.4055710825065927e+02\n",
      "Dual infeasibility......:   1.4119798663614347e-09    1.4119798663614347e-09\n",
      "Constraint violation....:   0.0000000000000000e+00    0.0000000000000000e+00\n",
      "Complementarity.........:   1.0000000000000001e-11    1.0000000000000001e-11\n",
      "Overall NLP error.......:   1.4119798663614347e-09    1.4119798663614347e-09\n",
      "\n",
      "\n",
      "Number of objective function evaluations             = 421\n",
      "Number of objective gradient evaluations             = 95\n",
      "Number of equality constraint evaluations            = 0\n",
      "Number of inequality constraint evaluations          = 0\n",
      "Number of equality constraint Jacobian evaluations   = 0\n",
      "Number of inequality constraint Jacobian evaluations = 0\n",
      "Number of Lagrangian Hessian evaluations             = 0\n",
      "Total CPU secs in IPOPT (w/o function evaluations)   =      0.632\n",
      "Total CPU secs in NLP function evaluations           =      0.021\n",
      "\n",
      "EXIT: Optimal Solution Found.\n"
     ]
    }
   ],
   "source": [
    "GLMCopula.fit!(Bernoulli_AR_model, IpoptSolver(print_level = 3, max_iter = 100, tol = 10^-8, limited_memory_max_history = 20, hessian_approximation = \"limited-memory\"));"
   ]
  },
  {
   "cell_type": "markdown",
   "metadata": {},
   "source": [
    "Fit the CS model with Bernoulli base"
   ]
  },
  {
   "cell_type": "code",
   "execution_count": 20,
   "metadata": {},
   "outputs": [
    {
     "name": "stdout",
     "output_type": "stream",
     "text": [
      "initializing β using Newton's Algorithm under Independence Assumption\n",
      "initializing σ2 and ρ using method of moments\n",
      "Total number of variables............................:        6\n",
      "                     variables with only lower bounds:        1\n",
      "                variables with lower and upper bounds:        1\n",
      "                     variables with only upper bounds:        0\n",
      "Total number of equality constraints.................:        0\n",
      "Total number of inequality constraints...............:        0\n",
      "        inequality constraints with only lower bounds:        0\n",
      "   inequality constraints with lower and upper bounds:        0\n",
      "        inequality constraints with only upper bounds:        0\n",
      "\n",
      "\n",
      "Number of Iterations....: 27\n",
      "\n",
      "                                   (scaled)                 (unscaled)\n",
      "Objective...............:   2.4900152024121175e+02    2.4900152024121175e+02\n",
      "Dual infeasibility......:   8.5782119185751071e-09    8.5782119185751071e-09\n",
      "Constraint violation....:   0.0000000000000000e+00    0.0000000000000000e+00\n",
      "Complementarity.........:   1.0000000000000003e-11    1.0000000000000003e-11\n",
      "Overall NLP error.......:   8.5782119185751071e-09    8.5782119185751071e-09\n",
      "\n",
      "\n",
      "Number of objective function evaluations             = 46\n",
      "Number of objective gradient evaluations             = 28\n",
      "Number of equality constraint evaluations            = 0\n",
      "Number of inequality constraint evaluations          = 0\n",
      "Number of equality constraint Jacobian evaluations   = 0\n",
      "Number of inequality constraint Jacobian evaluations = 0\n",
      "Number of Lagrangian Hessian evaluations             = 0\n",
      "Total CPU secs in IPOPT (w/o function evaluations)   =      0.125\n",
      "Total CPU secs in NLP function evaluations           =      0.008\n",
      "\n",
      "EXIT: Optimal Solution Found.\n"
     ]
    }
   ],
   "source": [
    "GLMCopula.fit!(Bernoulli_CS_model, IpoptSolver(print_level = 3, max_iter = 100, tol = 10^-8, limited_memory_max_history = 20, hessian_approximation = \"limited-memory\"));"
   ]
  },
  {
   "cell_type": "markdown",
   "metadata": {},
   "source": [
    "We can take a look at the MLE's of the AR model with Bernoulli base"
   ]
  },
  {
   "cell_type": "code",
   "execution_count": 21,
   "metadata": {},
   "outputs": [
    {
     "name": "stdout",
     "output_type": "stream",
     "text": [
      "Bernoulli_AR_model.β = [-0.858664409049024, 0.8334076581881305, -0.026953129746342567, 2.103267661442157]\n",
      "Bernoulli_AR_model.σ2 = [306890.7562627383]\n",
      "Bernoulli_AR_model.ρ = [0.7813892966990003]\n"
     ]
    }
   ],
   "source": [
    "@show Bernoulli_AR_model.β\n",
    "@show Bernoulli_AR_model.σ2\n",
    "@show Bernoulli_AR_model.ρ;"
   ]
  },
  {
   "cell_type": "markdown",
   "metadata": {},
   "source": [
    "We can take a look at the MLE's of the CS model with Bernoulli base"
   ]
  },
  {
   "cell_type": "code",
   "execution_count": 22,
   "metadata": {},
   "outputs": [
    {
     "name": "stdout",
     "output_type": "stream",
     "text": [
      "Bernoulli_CS_model.β = [-0.8073560280686407, 0.8553513879813671, -0.027821756706670475, 2.0702779503223048]\n",
      "Bernoulli_CS_model.σ2 = [0.35242279695900536]\n",
      "Bernoulli_CS_model.ρ = [0.8734724569746284]\n"
     ]
    }
   ],
   "source": [
    "@show Bernoulli_CS_model.β\n",
    "@show Bernoulli_CS_model.σ2\n",
    "@show Bernoulli_CS_model.ρ;"
   ]
  },
  {
   "cell_type": "markdown",
   "metadata": {},
   "source": [
    "Calculate the loglikelihood at the maximum of the AR model with Bernoulli base"
   ]
  },
  {
   "cell_type": "code",
   "execution_count": 23,
   "metadata": {},
   "outputs": [
    {
     "name": "stdout",
     "output_type": "stream",
     "text": [
      "loglikelihood!(Bernoulli_AR_model, false, false) = -240.55710825065927\n"
     ]
    }
   ],
   "source": [
    "@show loglikelihood!(Bernoulli_AR_model, false, false);"
   ]
  },
  {
   "cell_type": "markdown",
   "metadata": {},
   "source": [
    "Calculate the loglikelihood at the maximum of the CS model with Bernoulli base"
   ]
  },
  {
   "cell_type": "code",
   "execution_count": 24,
   "metadata": {},
   "outputs": [
    {
     "name": "stdout",
     "output_type": "stream",
     "text": [
      "loglikelihood!(Bernoulli_CS_model, true, true) = -249.00152024121175\n"
     ]
    }
   ],
   "source": [
    "@show loglikelihood!(Bernoulli_CS_model, true, true);"
   ]
  },
  {
   "cell_type": "markdown",
   "metadata": {},
   "source": [
    "##### Using gcmr\n",
    "\n",
    "Analyzing the respiratory data under the AR(1) covariance using gcmr we have:"
   ]
  },
  {
   "cell_type": "code",
   "execution_count": 25,
   "metadata": {},
   "outputs": [
    {
     "data": {
      "text/plain": [
       "RObject{VecSxp}\n",
       "\n",
       "Call:\n",
       "gcmr(formula = outcome ~ center + age + baseline, data = respiratory_df, \n",
       "    marginal = binomial.marg(link = \"logit\"), cormat = cluster.cormat(id, \n",
       "        \"ar1\"))\n",
       "\n",
       "\n",
       "Coefficients marginal model:\n",
       "            Estimate Std. Error z value Pr(>|z|)    \n",
       "(Intercept)  -0.9690     0.4561   -2.12   0.0336 *  \n",
       "center        0.7627     0.2581    2.96   0.0031 ** \n",
       "age          -0.0178     0.0104   -1.72   0.0863 .  \n",
       "baseline      1.6113     0.2911    5.53  3.1e-08 ***\n",
       "\n",
       "Coefficients Gaussian copula:\n",
       "    Estimate Std. Error z value Pr(>|z|)    \n",
       "ar1   0.5856     0.0633    9.25   <2e-16 ***\n",
       "---\n",
       "Signif. codes:  0 '***' 0.001 '**' 0.01 '*' 0.05 '.' 0.1 ' ' 1 \n",
       "\n",
       "log likelihood =  231.7,  AIC = 473.4\n"
      ]
     },
     "execution_count": 25,
     "metadata": {},
     "output_type": "execute_result"
    }
   ],
   "source": [
    "R\"\"\"\n",
    "    library(\"geepack\")\n",
    "    data(respiratory, package=\"geepack\")\n",
    "    respiratory_df <- respiratory[order(respiratory$id),]\n",
    "\n",
    "    mod.ar <- gcmr(outcome ~ center + age + baseline,\n",
    "     data = respiratory_df, marginal = binomial.marg(link = \"logit\"),\n",
    "     cormat = cluster.cormat(id, \"ar1\"))\n",
    "    summary(mod.ar)\n",
    "\"\"\""
   ]
  },
  {
   "cell_type": "markdown",
   "metadata": {},
   "source": [
    "Analyzing the respiratory data under the CS covariance using gcmr we have:"
   ]
  },
  {
   "cell_type": "code",
   "execution_count": 26,
   "metadata": {},
   "outputs": [
    {
     "data": {
      "text/plain": [
       "RObject{VecSxp}\n",
       "\n",
       "Call:\n",
       "gcmr(formula = outcome ~ center + age + baseline, data = respiratory_df, \n",
       "    marginal = binomial.marg(link = \"logit\"), cormat = cluster.cormat(id, \n",
       "        \"exchangeable\"))\n",
       "\n",
       "\n",
       "Coefficients marginal model:\n",
       "            Estimate Std. Error z value Pr(>|z|)    \n",
       "(Intercept) -0.74484    0.38807   -1.92    0.055 .  \n",
       "center       0.68796    0.20917    3.29    0.001 ** \n",
       "age         -0.01884    0.00897   -2.10    0.036 *  \n",
       "baseline     1.42333    0.25661    5.55  2.9e-08 ***\n",
       "\n",
       "Coefficients Gaussian copula:\n",
       "    Estimate Std. Error z value Pr(>|z|)    \n",
       "tau   0.2822     0.0763     3.7  0.00022 ***\n",
       "---\n",
       "Signif. codes:  0 '***' 0.001 '**' 0.01 '*' 0.05 '.' 0.1 ' ' 1 \n",
       "\n",
       "log likelihood = 247.46,  AIC = 504.9\n"
      ]
     },
     "execution_count": 26,
     "metadata": {},
     "output_type": "execute_result"
    }
   ],
   "source": [
    "R\"\"\"\n",
    "    library(\"geepack\")\n",
    "    data(respiratory, package=\"geepack\")\n",
    "    respiratory_df <- respiratory[order(respiratory$id),]\n",
    "\n",
    "    mod.cs <- gcmr(outcome ~ center + age + baseline,\n",
    "     data = respiratory_df, marginal = binomial.marg(link = \"logit\"),\n",
    "     cormat = cluster.cormat(id, \"exchangeable\"))\n",
    "    summary(mod.cs)\n",
    "\"\"\""
   ]
  },
  {
   "cell_type": "markdown",
   "metadata": {},
   "source": [
    "##### Using geepack\n",
    "\n",
    "Analyzing the respiratory data under the AR(1) covariance using geepack we have:"
   ]
  },
  {
   "cell_type": "code",
   "execution_count": 27,
   "metadata": {},
   "outputs": [
    {
     "data": {
      "text/plain": [
       "RObject{VecSxp}\n",
       "\n",
       "Call:\n",
       "geeglm(formula = outcome ~ center + age + baseline, family = binomial(), \n",
       "    data = respiratory, id = id, corstr = \"ar1\")\n",
       "\n",
       " Coefficients:\n",
       "            Estimate Std.err  Wald Pr(>|W|)    \n",
       "(Intercept)  -1.0124  0.5408  3.51    0.061 .  \n",
       "center        0.7454  0.3414  4.77    0.029 *  \n",
       "age          -0.0173  0.0121  2.04    0.153    \n",
       "baseline      1.7248  0.3303 27.27  1.8e-07 ***\n",
       "---\n",
       "Signif. codes:  0 ‘***’ 0.001 ‘**’ 0.01 ‘*’ 0.05 ‘.’ 0.1 ‘ ’ 1\n",
       "\n",
       "Correlation structure = ar1 \n",
       "Estimated Scale Parameters:\n",
       "\n",
       "            Estimate Std.err\n",
       "(Intercept)     1.04   0.193\n",
       "  Link = identity \n",
       "\n",
       "Estimated Correlation Parameters:\n",
       "      Estimate Std.err\n",
       "alpha    0.522   0.087\n",
       "Number of clusters:   111  Maximum cluster size: 4 \n"
      ]
     },
     "execution_count": 27,
     "metadata": {},
     "output_type": "execute_result"
    }
   ],
   "source": [
    "R\"\"\"\n",
    "    library(\"geepack\")\n",
    "    data(respiratory, package=\"geepack\")\n",
    "    gee.ar1 <- geeglm(outcome ~ center + age + baseline, data=respiratory, id=id,\n",
    "    family=binomial(), corstr=\"ar1\")\n",
    "    summary(gee.ar1)\n",
    "\"\"\""
   ]
  },
  {
   "cell_type": "markdown",
   "metadata": {},
   "source": [
    "Analyzing the respiratory data under the CS covariance using gcmr we have:"
   ]
  },
  {
   "cell_type": "code",
   "execution_count": 28,
   "metadata": {},
   "outputs": [
    {
     "data": {
      "text/plain": [
       "RObject{VecSxp}\n",
       "\n",
       "Call:\n",
       "geeglm(formula = outcome ~ center + age + baseline, family = binomial(), \n",
       "    data = respiratory, id = id, corstr = \"exchangeable\")\n",
       "\n",
       " Coefficients:\n",
       "            Estimate Std.err  Wald Pr(>|W|)    \n",
       "(Intercept)  -0.7993  0.5421  2.17    0.140    \n",
       "center        0.6514  0.3353  3.77    0.052 .  \n",
       "age          -0.0187  0.0121  2.41    0.121    \n",
       "baseline      1.6767  0.3289 25.98  3.4e-07 ***\n",
       "---\n",
       "Signif. codes:  0 ‘***’ 0.001 ‘**’ 0.01 ‘*’ 0.05 ‘.’ 0.1 ‘ ’ 1\n",
       "\n",
       "Correlation structure = exchangeable \n",
       "Estimated Scale Parameters:\n",
       "\n",
       "            Estimate Std.err\n",
       "(Intercept)     1.02   0.163\n",
       "  Link = identity \n",
       "\n",
       "Estimated Correlation Parameters:\n",
       "      Estimate Std.err\n",
       "alpha     0.38  0.0803\n",
       "Number of clusters:   111  Maximum cluster size: 4 \n"
      ]
     },
     "execution_count": 28,
     "metadata": {},
     "output_type": "execute_result"
    }
   ],
   "source": [
    "R\"\"\"\n",
    "    library(\"geepack\")\n",
    "    data(respiratory, package=\"geepack\")\n",
    "    gee.cs <- geeglm(outcome ~ center + age + baseline, data=respiratory, id=id,\n",
    "    family=binomial(), corstr=\"exchangeable\")\n",
    "    summary(gee.cs)\n",
    "\"\"\""
   ]
  }
 ],
 "metadata": {
  "@webio": {
   "lastCommId": null,
   "lastKernelId": null
  },
  "kernelspec": {
   "display_name": "Julia 1.6.2",
   "language": "julia",
   "name": "julia-1.6"
  },
  "language_info": {
   "file_extension": ".jl",
   "mimetype": "application/julia",
   "name": "julia",
   "version": "1.6.2"
  }
 },
 "nbformat": 4,
 "nbformat_minor": 4
}
