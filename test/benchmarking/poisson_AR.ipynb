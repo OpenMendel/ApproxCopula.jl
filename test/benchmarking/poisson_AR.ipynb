{
 "cells": [
  {
   "cell_type": "markdown",
   "metadata": {},
   "source": [
    "# Benchmarks for Poisson Auto-regressive model "
   ]
  },
  {
   "cell_type": "code",
   "execution_count": 1,
   "metadata": {
    "collapsed": false
   },
   "outputs": [
    {
     "name": "stderr",
     "output_type": "stream",
     "text": [
      "┌ Info: Precompiling GLMCopula [c47b6ae2-b804-4668-9957-eb588c99ffbc]\n",
      "└ @ Base loading.jl:1423\n"
     ]
    }
   ],
   "source": [
    "using Revise\n",
    "using DataFrames, Random, GLM, GLMCopula\n",
    "using ForwardDiff, Test, LinearAlgebra\n",
    "using LinearAlgebra: BlasReal, copytri!\n",
    "using ToeplitzMatrices\n",
    "using BenchmarkTools"
   ]
  },
  {
   "cell_type": "markdown",
   "metadata": {
    "collapsed": true
   },
   "source": [
    "## 8 BLAS threads, single thread loglikelihood"
   ]
  },
  {
   "cell_type": "code",
   "execution_count": 2,
   "metadata": {
    "collapsed": false
   },
   "outputs": [
    {
     "data": {
      "text/plain": [
       "1"
      ]
     },
     "execution_count": 2,
     "metadata": {},
     "output_type": "execute_result"
    }
   ],
   "source": [
    "BLAS.set_num_threads(8)\n",
    "Threads.nthreads()"
   ]
  },
  {
   "cell_type": "code",
   "execution_count": 7,
   "metadata": {
    "collapsed": false
   },
   "outputs": [],
   "source": [
    "p = 3    # number of fixed effects, including intercept\n",
    "\n",
    "# true parameter values\n",
    "Random.seed!(12345)\n",
    "βtrue = rand(Uniform(-2, 2), p)\n",
    "# βtrue = [log(5.0)]\n",
    "σ2true = [0.5]\n",
    "ρtrue = [0.5]\n",
    "trueparams = [βtrue; ρtrue; σ2true]\n",
    "\n",
    "function get_V(ρ, n)\n",
    "    vec = zeros(n)\n",
    "    vec[1] = 1.0\n",
    "    for i in 2:n\n",
    "        vec[i] = vec[i - 1] * ρ\n",
    "    end\n",
    "    V = ToeplitzMatrices.SymmetricToeplitz(vec)\n",
    "    V\n",
    "end\n",
    "\n",
    "#simulation parameters\n",
    "samplesize = 10_000\n",
    "\n",
    "st = time()\n",
    "currentind = 1\n",
    "d = Poisson()\n",
    "link = LogLink()\n",
    "D = typeof(d)\n",
    "Link = typeof(link)\n",
    "T = Float64\n",
    "\n",
    "gcs = Vector{GLMCopulaARObs{T, D, Link}}(undef, samplesize)\n",
    "\n",
    "ni = 25# number of observations per individual\n",
    "V = get_V(ρtrue[1], ni)\n",
    "\n",
    "# true Gamma\n",
    "Γ = σ2true[1] * V\n",
    "\n",
    "# for reproducibility I will simulate all the design matrices here\n",
    "Random.seed!(1234)\n",
    "X_samplesize = [randn(ni, p - 1) for i in 1:samplesize]\n",
    "\n",
    "for i in 1:samplesize\n",
    "    X = [ones(ni) X_samplesize[i]]\n",
    "    η = X * βtrue\n",
    "    μ = exp.(η)\n",
    "    vecd = Vector{DiscreteUnivariateDistribution}(undef, ni)\n",
    "    for i in 1:ni\n",
    "        vecd[i] = Poisson(μ[i])\n",
    "    end\n",
    "    nonmixed_multivariate_dist = NonMixedMultivariateDistribution(vecd, Γ)\n",
    "    # simuate single vector y\n",
    "    y = Vector{Float64}(undef, ni)\n",
    "    res = Vector{Float64}(undef, ni)\n",
    "    rand(nonmixed_multivariate_dist, y, res)\n",
    "    # X = ones(ni, 1)\n",
    "    # y = Float64.(Y_nsample[i])\n",
    "    V = [ones(ni, ni)]\n",
    "    gcs[i] = GLMCopulaARObs(y, X, d, link)\n",
    "end\n",
    "\n",
    "# form model\n",
    "gcm = GLMCopulaARModel(gcs);"
   ]
  },
  {
   "cell_type": "code",
   "execution_count": 8,
   "metadata": {
    "collapsed": false,
    "scrolled": true
   },
   "outputs": [
    {
     "name": "stdout",
     "output_type": "stream",
     "text": [
      "initializing β using Newton's Algorithm under Independence Assumption\n",
      "initializing variance components using MM-Algorithm\n",
      "This is Ipopt version 3.13.4, running with linear solver mumps.\n",
      "NOTE: Other linear solvers might be more efficient (see Ipopt documentation).\n",
      "\n",
      "Number of nonzeros in equality constraint Jacobian...:        0\n",
      "Number of nonzeros in inequality constraint Jacobian.:        0\n",
      "Number of nonzeros in Lagrangian Hessian.............:        0\n",
      "\n",
      "Total number of variables............................:        5\n",
      "                     variables with only lower bounds:        1\n",
      "                variables with lower and upper bounds:        1\n",
      "                     variables with only upper bounds:        0\n",
      "Total number of equality constraints.................:        0\n",
      "Total number of inequality constraints...............:        0\n",
      "        inequality constraints with only lower bounds:        0\n",
      "   inequality constraints with lower and upper bounds:        0\n",
      "        inequality constraints with only upper bounds:        0\n",
      "\n",
      "iter    objective    inf_pr   inf_du lg(mu)  ||d||  lg(rg) alpha_du alpha_pr  ls\n",
      "   0  5.7680145e+05 0.00e+00 9.47e+01   0.0 0.00e+00    -  0.00e+00 0.00e+00   0\n",
      "   1  5.7987892e+05 0.00e+00 3.13e+03   1.5 3.43e+01    -  1.64e-02 2.82e-03f  5\n",
      "   2  5.7913283e+05 0.00e+00 8.22e+02  -0.3 2.52e-01    -  1.00e+00 5.00e-01f  2\n",
      "   3  5.7874797e+05 0.00e+00 1.94e+03  -0.3 2.28e-01    -  1.00e+00 5.00e-01f  2\n",
      "   4  5.7703473e+05 0.00e+00 8.06e+02  -0.3 4.45e-02    -  1.00e+00 1.00e+00f  1\n",
      "   5  5.7666820e+05 0.00e+00 4.07e+02  -0.3 3.21e-02    -  1.00e+00 5.00e-01f  2\n",
      "   6  5.7647437e+05 0.00e+00 2.15e+01  -1.9 1.21e-02    -  1.00e+00 1.00e+00f  1\n",
      "   7  5.7647220e+05 0.00e+00 1.88e+01  -2.9 3.30e-03    -  1.00e+00 1.00e+00f  1\n",
      "   8  5.7641260e+05 0.00e+00 4.11e+01  -3.3 1.67e-01    -  1.00e+00 1.00e+00f  1\n",
      "   9  5.7639589e+05 0.00e+00 1.12e+02  -4.1 3.35e-01    -  1.00e+00 2.50e-01f  3\n",
      "iter    objective    inf_pr   inf_du lg(mu)  ||d||  lg(rg) alpha_du alpha_pr  ls\n",
      "  10  5.7638902e+05 0.00e+00 3.79e+01  -4.3 5.83e-01    -  1.00e+00 1.14e-01f  4\n",
      "  11  5.7638482e+05 0.00e+00 3.93e+01  -5.5 2.12e-02    -  1.00e+00 1.00e+00f  1\n",
      "  12  5.7638390e+05 0.00e+00 4.11e+00  -6.9 1.19e-02    -  1.00e+00 1.00e+00f  1\n",
      "  13  5.7638382e+05 0.00e+00 1.74e+00  -8.4 4.81e-03    -  1.00e+00 1.00e+00f  1\n",
      "  14  5.7638369e+05 0.00e+00 3.65e+00 -10.1 9.85e-03    -  1.00e+00 1.00e+00f  1\n",
      "  15  5.7638357e+05 0.00e+00 1.75e+01 -11.0 7.05e-02    -  1.00e+00 1.00e+00f  1\n",
      "  16  5.7638318e+05 0.00e+00 1.42e+01 -11.0 8.22e-02    -  1.00e+00 1.00e+00f  1\n",
      "  17  5.7638295e+05 0.00e+00 3.32e+00 -11.0 1.65e-02    -  1.00e+00 1.00e+00f  1\n",
      "  18  5.7638294e+05 0.00e+00 6.97e-01 -11.0 5.80e-03    -  1.00e+00 1.00e+00f  1\n",
      "  19  5.7638294e+05 0.00e+00 2.11e-01 -11.0 6.07e-03    -  1.00e+00 1.00e+00f  1\n",
      "iter    objective    inf_pr   inf_du lg(mu)  ||d||  lg(rg) alpha_du alpha_pr  ls\n",
      "  20  5.7638294e+05 0.00e+00 1.11e-01 -11.0 3.65e-03    -  1.00e+00 1.00e+00f  1\n",
      "  21  5.7638294e+05 0.00e+00 9.07e-02 -11.0 9.83e-04    -  1.00e+00 5.00e-01f  2\n",
      "  22  5.7638294e+05 0.00e+00 2.69e-03 -11.0 2.78e-04    -  1.00e+00 1.00e+00f  1\n",
      "  23  5.7638294e+05 0.00e+00 1.95e-04 -11.0 1.81e-05    -  1.00e+00 1.00e+00f  1\n",
      "  24  5.7638294e+05 0.00e+00 1.80e-05 -11.0 1.41e-06    -  1.00e+00 1.00e+00f  1\n",
      "  25  5.7638294e+05 0.00e+00 1.67e-05 -11.0 1.93e-08    -  1.00e+00 6.25e-02h  5\n",
      "  26  5.7638294e+05 0.00e+00 9.58e-09 -11.0 1.81e-08    -  1.00e+00 1.00e+00f  1\n",
      "\n",
      "Number of Iterations....: 26\n",
      "\n",
      "                                   (scaled)                 (unscaled)\n",
      "Objective...............:   6.6495527635699164e+03    5.7638293759266415e+05\n",
      "Dual infeasibility......:   9.5762208589124849e-09    8.3006639783889103e-07\n",
      "Constraint violation....:   0.0000000000000000e+00    0.0000000000000000e+00\n",
      "Complementarity.........:   1.0000000000000001e-11    8.6679955492709564e-10\n",
      "Overall NLP error.......:   9.5762208589124849e-09    8.3006639783889103e-07\n",
      "\n",
      "\n",
      "Number of objective function evaluations             = 76\n",
      "Number of objective gradient evaluations             = 27\n",
      "Number of equality constraint evaluations            = 0\n",
      "Number of inequality constraint evaluations          = 0\n",
      "Number of equality constraint Jacobian evaluations   = 0\n",
      "Number of inequality constraint Jacobian evaluations = 0\n",
      "Number of Lagrangian Hessian evaluations             = 0\n",
      "Total CPU secs in IPOPT (w/o function evaluations)   =      0.361\n",
      "Total CPU secs in NLP function evaluations           =      3.192\n",
      "\n",
      "EXIT: Optimal Solution Found.\n",
      "  2.979785 seconds (1.41 k allocations: 31.727 MiB)\n"
     ]
    }
   ],
   "source": [
    "@time GLMCopula.fit!(gcm, IpoptSolver(print_level = 5, max_iter = 100, \n",
    "    tol = 10^-8, limited_memory_max_history = 50, accept_after_max_steps = 4, \n",
    "    hessian_approximation = \"limited-memory\"));"
   ]
  },
  {
   "cell_type": "code",
   "execution_count": 6,
   "metadata": {
    "collapsed": false,
    "scrolled": true
   },
   "outputs": [
    {
     "name": "stdout",
     "output_type": "stream",
     "text": [
      "initializing β using Newton's Algorithm under Independence Assumption\n",
      "initializing variance components using MM-Algorithm\n",
      "This is Ipopt version 3.13.4, running with linear solver mumps.\n",
      "NOTE: Other linear solvers might be more efficient (see Ipopt documentation).\n",
      "\n",
      "Number of nonzeros in equality constraint Jacobian...:        0\n",
      "Number of nonzeros in inequality constraint Jacobian.:        0\n",
      "Number of nonzeros in Lagrangian Hessian.............:        0\n",
      "\n",
      "Total number of variables............................:        5\n",
      "                     variables with only lower bounds:        1\n",
      "                variables with lower and upper bounds:        1\n",
      "                     variables with only upper bounds:        0\n",
      "Total number of equality constraints.................:        0\n",
      "Total number of inequality constraints...............:        0\n",
      "        inequality constraints with only lower bounds:        0\n",
      "   inequality constraints with lower and upper bounds:        0\n",
      "        inequality constraints with only upper bounds:        0\n",
      "\n",
      "iter    objective    inf_pr   inf_du lg(mu)  ||d||  lg(rg) alpha_du alpha_pr  ls\n",
      "   0  5.7680145e+05 0.00e+00 9.47e+01   0.0 0.00e+00    -  0.00e+00 0.00e+00   0\n",
      "   1  5.7987892e+05 0.00e+00 3.13e+03   1.5 3.43e+01    -  1.64e-02 2.82e-03f  5\n",
      "   2  5.7913283e+05 0.00e+00 8.22e+02  -0.3 2.52e-01    -  1.00e+00 5.00e-01f  2\n",
      "   3  5.7874797e+05 0.00e+00 1.94e+03  -0.3 2.28e-01    -  1.00e+00 5.00e-01f  2\n",
      "   4  5.7703473e+05 0.00e+00 8.06e+02  -0.3 4.45e-02    -  1.00e+00 1.00e+00f  1\n",
      "   5  5.7666820e+05 0.00e+00 4.07e+02  -0.3 3.21e-02    -  1.00e+00 5.00e-01f  2\n",
      "   6  5.7647437e+05 0.00e+00 2.15e+01  -1.9 1.21e-02    -  1.00e+00 1.00e+00f  1\n",
      "   7  5.7647220e+05 0.00e+00 1.88e+01  -2.9 3.30e-03    -  1.00e+00 1.00e+00f  1\n",
      "   8  5.7641260e+05 0.00e+00 4.11e+01  -3.3 1.67e-01    -  1.00e+00 1.00e+00f  1\n",
      "   9  5.7639589e+05 0.00e+00 1.12e+02  -4.1 3.35e-01    -  1.00e+00 2.50e-01f  3\n",
      "iter    objective    inf_pr   inf_du lg(mu)  ||d||  lg(rg) alpha_du alpha_pr  ls\n",
      "  10  5.7638902e+05 0.00e+00 3.79e+01  -4.3 5.83e-01    -  1.00e+00 1.14e-01f  4\n",
      "  11  5.7638482e+05 0.00e+00 3.93e+01  -5.5 2.12e-02    -  1.00e+00 1.00e+00f  1\n",
      "  12  5.7638390e+05 0.00e+00 4.11e+00  -6.9 1.19e-02    -  1.00e+00 1.00e+00f  1\n",
      "  13  5.7638382e+05 0.00e+00 1.74e+00  -8.4 4.81e-03    -  1.00e+00 1.00e+00f  1\n",
      "  14  5.7638369e+05 0.00e+00 3.65e+00 -10.1 9.85e-03    -  1.00e+00 1.00e+00f  1\n",
      "  15  5.7638357e+05 0.00e+00 1.75e+01 -11.0 7.05e-02    -  1.00e+00 1.00e+00f  1\n",
      "  16  5.7638318e+05 0.00e+00 1.42e+01 -11.0 8.22e-02    -  1.00e+00 1.00e+00f  1\n",
      "  17  5.7638295e+05 0.00e+00 3.32e+00 -11.0 1.65e-02    -  1.00e+00 1.00e+00f  1\n",
      "  18  5.7638294e+05 0.00e+00 6.97e-01 -11.0 5.80e-03    -  1.00e+00 1.00e+00f  1\n",
      "  19  5.7638294e+05 0.00e+00 2.11e-01 -11.0 6.07e-03    -  1.00e+00 1.00e+00f  1\n",
      "iter    objective    inf_pr   inf_du lg(mu)  ||d||  lg(rg) alpha_du alpha_pr  ls\n",
      "  20  5.7638294e+05 0.00e+00 1.11e-01 -11.0 3.65e-03    -  1.00e+00 1.00e+00f  1\n",
      "  21  5.7638294e+05 0.00e+00 9.07e-02 -11.0 9.83e-04    -  1.00e+00 5.00e-01f  2\n",
      "  22  5.7638294e+05 0.00e+00 2.69e-03 -11.0 2.78e-04    -  1.00e+00 1.00e+00f  1\n",
      "  23  5.7638294e+05 0.00e+00 1.95e-04 -11.0 1.81e-05    -  1.00e+00 1.00e+00f  1\n",
      "  24  5.7638294e+05 0.00e+00 1.80e-05 -11.0 1.41e-06    -  1.00e+00 1.00e+00f  1\n",
      "  25  5.7638294e+05 0.00e+00 1.67e-05 -11.0 1.93e-08    -  1.00e+00 6.25e-02h  5\n",
      "  26  5.7638294e+05 0.00e+00 9.58e-09 -11.0 1.81e-08    -  1.00e+00 1.00e+00f  1\n",
      "\n",
      "Number of Iterations....: 26\n",
      "\n",
      "                                   (scaled)                 (unscaled)\n",
      "Objective...............:   6.6495527635699164e+03    5.7638293759266415e+05\n",
      "Dual infeasibility......:   9.5762208589124849e-09    8.3006639783889103e-07\n",
      "Constraint violation....:   0.0000000000000000e+00    0.0000000000000000e+00\n",
      "Complementarity.........:   1.0000000000000001e-11    8.6679955492709564e-10\n",
      "Overall NLP error.......:   9.5762208589124849e-09    8.3006639783889103e-07\n",
      "\n",
      "\n",
      "Number of objective function evaluations             = 76\n",
      "Number of objective gradient evaluations             = 27\n",
      "Number of equality constraint evaluations            = 0\n",
      "Number of inequality constraint evaluations          = 0\n",
      "Number of equality constraint Jacobian evaluations   = 0\n",
      "Number of inequality constraint Jacobian evaluations = 0\n",
      "Number of Lagrangian Hessian evaluations             = 0\n",
      "Total CPU secs in IPOPT (w/o function evaluations)   =      0.380\n",
      "Total CPU secs in NLP function evaluations           =      3.458\n",
      "\n",
      "EXIT: Optimal Solution Found.\n",
      "  3.322678 seconds (1.41 k allocations: 31.727 MiB)\n"
     ]
    }
   ],
   "source": [
    "@time GLMCopula.fit!(gcm, IpoptSolver(print_level = 5, max_iter = 100, \n",
    "    tol = 10^-8, limited_memory_max_history = 50, accept_after_max_steps = 4, \n",
    "    hessian_approximation = \"limited-memory\"));"
   ]
  },
  {
   "cell_type": "markdown",
   "metadata": {},
   "source": [
    "After precompilation, poisson AR takes ~3 seconds with multithreaded BLAS and single-threaded loglikelihood evaluations."
   ]
  },
  {
   "cell_type": "markdown",
   "metadata": {},
   "source": [
    "## 1 BLAS thread, 8 thread loglikelihood"
   ]
  },
  {
   "cell_type": "code",
   "execution_count": 18,
   "metadata": {
    "collapsed": false
   },
   "outputs": [
    {
     "data": {
      "text/plain": [
       "8"
      ]
     },
     "execution_count": 18,
     "metadata": {},
     "output_type": "execute_result"
    }
   ],
   "source": [
    "BLAS.set_num_threads(1)\n",
    "Threads.nthreads()"
   ]
  },
  {
   "cell_type": "code",
   "execution_count": 21,
   "metadata": {
    "collapsed": true
   },
   "outputs": [],
   "source": [
    "p = 3    # number of fixed effects, including intercept\n",
    "\n",
    "# true parameter values\n",
    "Random.seed!(12345)\n",
    "βtrue = rand(Uniform(-2, 2), p)\n",
    "# βtrue = [log(5.0)]\n",
    "σ2true = [0.5]\n",
    "ρtrue = [0.5]\n",
    "trueparams = [βtrue; ρtrue; σ2true]\n",
    "\n",
    "function get_V(ρ, n)\n",
    "    vec = zeros(n)\n",
    "    vec[1] = 1.0\n",
    "    for i in 2:n\n",
    "        vec[i] = vec[i - 1] * ρ\n",
    "    end\n",
    "    V = ToeplitzMatrices.SymmetricToeplitz(vec)\n",
    "    V\n",
    "end\n",
    "\n",
    "#simulation parameters\n",
    "samplesize = 10_000\n",
    "\n",
    "st = time()\n",
    "currentind = 1\n",
    "d = Poisson()\n",
    "link = LogLink()\n",
    "D = typeof(d)\n",
    "Link = typeof(link)\n",
    "T = Float64\n",
    "\n",
    "gcs = Vector{GLMCopulaARObs{T, D, Link}}(undef, samplesize)\n",
    "\n",
    "ni = 25# number of observations per individual\n",
    "V = get_V(ρtrue[1], ni)\n",
    "\n",
    "# true Gamma\n",
    "Γ = σ2true[1] * V\n",
    "\n",
    "# for reproducibility I will simulate all the design matrices here\n",
    "Random.seed!(1234)\n",
    "X_samplesize = [randn(ni, p - 1) for i in 1:samplesize]\n",
    "\n",
    "for i in 1:samplesize\n",
    "    X = [ones(ni) X_samplesize[i]]\n",
    "    η = X * βtrue\n",
    "    μ = exp.(η)\n",
    "    vecd = Vector{DiscreteUnivariateDistribution}(undef, ni)\n",
    "    for i in 1:ni\n",
    "        vecd[i] = Poisson(μ[i])\n",
    "    end\n",
    "    nonmixed_multivariate_dist = NonMixedMultivariateDistribution(vecd, Γ)\n",
    "    # simuate single vector y\n",
    "    y = Vector{Float64}(undef, ni)\n",
    "    res = Vector{Float64}(undef, ni)\n",
    "    rand(nonmixed_multivariate_dist, y, res)\n",
    "    # X = ones(ni, 1)\n",
    "    # y = Float64.(Y_nsample[i])\n",
    "    V = [ones(ni, ni)]\n",
    "    gcs[i] = GLMCopulaARObs(y, X, d, link)\n",
    "end\n",
    "\n",
    "# form model\n",
    "gcm = GLMCopulaARModel(gcs);"
   ]
  },
  {
   "cell_type": "code",
   "execution_count": 20,
   "metadata": {
    "collapsed": false,
    "scrolled": true
   },
   "outputs": [
    {
     "name": "stdout",
     "output_type": "stream",
     "text": [
      "initializing β using Newton's Algorithm under Independence Assumption\n",
      "initializing variance components using MM-Algorithm\n",
      "This is Ipopt version 3.13.4, running with linear solver mumps.\n",
      "NOTE: Other linear solvers might be more efficient (see Ipopt documentation).\n",
      "\n",
      "Number of nonzeros in equality constraint Jacobian...:        0\n",
      "Number of nonzeros in inequality constraint Jacobian.:        0\n",
      "Number of nonzeros in Lagrangian Hessian.............:        0\n",
      "\n",
      "Total number of variables............................:        5\n",
      "                     variables with only lower bounds:        1\n",
      "                variables with lower and upper bounds:        1\n",
      "                     variables with only upper bounds:        0\n",
      "Total number of equality constraints.................:        0\n",
      "Total number of inequality constraints...............:        0\n",
      "        inequality constraints with only lower bounds:        0\n",
      "   inequality constraints with lower and upper bounds:        0\n",
      "        inequality constraints with only upper bounds:        0\n",
      "\n",
      "iter    objective    inf_pr   inf_du lg(mu)  ||d||  lg(rg) alpha_du alpha_pr  ls\n",
      "   0  5.7680145e+05 0.00e+00 9.47e+01   0.0 0.00e+00    -  0.00e+00 0.00e+00   0\n",
      "   1  5.7987892e+05 0.00e+00 3.13e+03   1.5 3.43e+01    -  1.64e-02 2.82e-03f  5\n",
      "   2  5.7913283e+05 0.00e+00 8.22e+02  -0.3 2.52e-01    -  1.00e+00 5.00e-01f  2\n",
      "   3  5.7874797e+05 0.00e+00 1.94e+03  -0.3 2.28e-01    -  1.00e+00 5.00e-01f  2\n",
      "   4  5.7703473e+05 0.00e+00 8.06e+02  -0.3 4.45e-02    -  1.00e+00 1.00e+00f  1\n",
      "   5  5.7666820e+05 0.00e+00 4.07e+02  -0.3 3.21e-02    -  1.00e+00 5.00e-01f  2\n",
      "   6  5.7647437e+05 0.00e+00 2.15e+01  -1.9 1.21e-02    -  1.00e+00 1.00e+00f  1\n",
      "   7  5.7647220e+05 0.00e+00 1.88e+01  -2.9 3.30e-03    -  1.00e+00 1.00e+00f  1\n",
      "   8  5.7641260e+05 0.00e+00 4.11e+01  -3.3 1.67e-01    -  1.00e+00 1.00e+00f  1\n",
      "   9  5.7639589e+05 0.00e+00 1.12e+02  -4.1 3.35e-01    -  1.00e+00 2.50e-01f  3\n",
      "iter    objective    inf_pr   inf_du lg(mu)  ||d||  lg(rg) alpha_du alpha_pr  ls\n",
      "  10  5.7638902e+05 0.00e+00 3.79e+01  -4.3 5.83e-01    -  1.00e+00 1.14e-01f  4\n",
      "  11  5.7638482e+05 0.00e+00 3.93e+01  -5.5 2.12e-02    -  1.00e+00 1.00e+00f  1\n",
      "  12  5.7638390e+05 0.00e+00 4.11e+00  -6.9 1.19e-02    -  1.00e+00 1.00e+00f  1\n",
      "  13  5.7638382e+05 0.00e+00 1.74e+00  -8.4 4.81e-03    -  1.00e+00 1.00e+00f  1\n",
      "  14  5.7638369e+05 0.00e+00 3.65e+00 -10.1 9.85e-03    -  1.00e+00 1.00e+00f  1\n",
      "  15  5.7638357e+05 0.00e+00 1.75e+01 -11.0 7.05e-02    -  1.00e+00 1.00e+00f  1\n",
      "  16  5.7638318e+05 0.00e+00 1.42e+01 -11.0 8.22e-02    -  1.00e+00 1.00e+00f  1\n",
      "  17  5.7638295e+05 0.00e+00 3.32e+00 -11.0 1.65e-02    -  1.00e+00 1.00e+00f  1\n",
      "  18  5.7638294e+05 0.00e+00 6.97e-01 -11.0 5.80e-03    -  1.00e+00 1.00e+00f  1\n",
      "  19  5.7638294e+05 0.00e+00 2.11e-01 -11.0 6.07e-03    -  1.00e+00 1.00e+00f  1\n",
      "iter    objective    inf_pr   inf_du lg(mu)  ||d||  lg(rg) alpha_du alpha_pr  ls\n",
      "  20  5.7638294e+05 0.00e+00 1.11e-01 -11.0 3.65e-03    -  1.00e+00 1.00e+00f  1\n",
      "  21  5.7638294e+05 0.00e+00 9.07e-02 -11.0 9.83e-04    -  1.00e+00 5.00e-01f  2\n",
      "  22  5.7638294e+05 0.00e+00 2.69e-03 -11.0 2.78e-04    -  1.00e+00 1.00e+00f  1\n",
      "  23  5.7638294e+05 0.00e+00 1.95e-04 -11.0 1.81e-05    -  1.00e+00 1.00e+00f  1\n",
      "  24  5.7638294e+05 0.00e+00 1.80e-05 -11.0 1.41e-06    -  1.00e+00 1.00e+00f  1\n",
      "  25  5.7638294e+05 0.00e+00 1.43e-06 -11.0 1.93e-08    -  1.00e+00 1.00e+00f  1\n",
      "  26  5.7638294e+05 0.00e+00 9.57e-09 -11.0 1.67e-10    -  1.00e+00 1.00e+00f  1\n",
      "\n",
      "Number of Iterations....: 26\n",
      "\n",
      "                                   (scaled)                 (unscaled)\n",
      "Objective...............:   6.6495527635699200e+03    5.7638293759266450e+05\n",
      "Dual infeasibility......:   9.5747289069394259e-09    8.2993707550826901e-07\n",
      "Constraint violation....:   0.0000000000000000e+00    0.0000000000000000e+00\n",
      "Complementarity.........:   1.0000000000000001e-11    8.6679955492709564e-10\n",
      "Overall NLP error.......:   9.5747289069394259e-09    8.2993707550826901e-07\n",
      "\n",
      "\n",
      "Number of objective function evaluations             = 68\n",
      "Number of objective gradient evaluations             = 27\n",
      "Number of equality constraint evaluations            = 0\n",
      "Number of inequality constraint evaluations          = 0\n",
      "Number of equality constraint Jacobian evaluations   = 0\n",
      "Number of inequality constraint Jacobian evaluations = 0\n",
      "Number of Lagrangian Hessian evaluations             = 0\n",
      "Total CPU secs in IPOPT (w/o function evaluations)   =      0.198\n",
      "Total CPU secs in NLP function evaluations           =      3.679\n",
      "\n",
      "EXIT: Optimal Solution Found.\n",
      "  0.773869 seconds (4.85 k allocations: 32.030 MiB)\n"
     ]
    }
   ],
   "source": [
    "@time GLMCopula.fit!(gcm, IpoptSolver(print_level = 5, max_iter = 100, \n",
    "    tol = 10^-8, limited_memory_max_history = 50, accept_after_max_steps = 4, \n",
    "    hessian_approximation = \"limited-memory\"));"
   ]
  },
  {
   "cell_type": "code",
   "execution_count": 22,
   "metadata": {
    "collapsed": false,
    "scrolled": true
   },
   "outputs": [
    {
     "name": "stdout",
     "output_type": "stream",
     "text": [
      "initializing β using Newton's Algorithm under Independence Assumption\n",
      "initializing variance components using MM-Algorithm\n",
      "This is Ipopt version 3.13.4, running with linear solver mumps.\n",
      "NOTE: Other linear solvers might be more efficient (see Ipopt documentation).\n",
      "\n",
      "Number of nonzeros in equality constraint Jacobian...:        0\n",
      "Number of nonzeros in inequality constraint Jacobian.:        0\n",
      "Number of nonzeros in Lagrangian Hessian.............:        0\n",
      "\n",
      "Total number of variables............................:        5\n",
      "                     variables with only lower bounds:        1\n",
      "                variables with lower and upper bounds:        1\n",
      "                     variables with only upper bounds:        0\n",
      "Total number of equality constraints.................:        0\n",
      "Total number of inequality constraints...............:        0\n",
      "        inequality constraints with only lower bounds:        0\n",
      "   inequality constraints with lower and upper bounds:        0\n",
      "        inequality constraints with only upper bounds:        0\n",
      "\n",
      "iter    objective    inf_pr   inf_du lg(mu)  ||d||  lg(rg) alpha_du alpha_pr  ls\n",
      "   0  5.7680145e+05 0.00e+00 9.47e+01   0.0 0.00e+00    -  0.00e+00 0.00e+00   0\n",
      "   1  5.7987892e+05 0.00e+00 3.13e+03   1.5 3.43e+01    -  1.64e-02 2.82e-03f  5\n",
      "   2  5.7913283e+05 0.00e+00 8.22e+02  -0.3 2.52e-01    -  1.00e+00 5.00e-01f  2\n",
      "   3  5.7874797e+05 0.00e+00 1.94e+03  -0.3 2.28e-01    -  1.00e+00 5.00e-01f  2\n",
      "   4  5.7703473e+05 0.00e+00 8.06e+02  -0.3 4.45e-02    -  1.00e+00 1.00e+00f  1\n",
      "   5  5.7666820e+05 0.00e+00 4.07e+02  -0.3 3.21e-02    -  1.00e+00 5.00e-01f  2\n",
      "   6  5.7647437e+05 0.00e+00 2.15e+01  -1.9 1.21e-02    -  1.00e+00 1.00e+00f  1\n",
      "   7  5.7647220e+05 0.00e+00 1.88e+01  -2.9 3.30e-03    -  1.00e+00 1.00e+00f  1\n",
      "   8  5.7641260e+05 0.00e+00 4.11e+01  -3.3 1.67e-01    -  1.00e+00 1.00e+00f  1\n",
      "   9  5.7639589e+05 0.00e+00 1.12e+02  -4.1 3.35e-01    -  1.00e+00 2.50e-01f  3\n",
      "iter    objective    inf_pr   inf_du lg(mu)  ||d||  lg(rg) alpha_du alpha_pr  ls\n",
      "  10  5.7638902e+05 0.00e+00 3.79e+01  -4.3 5.83e-01    -  1.00e+00 1.14e-01f  4\n",
      "  11  5.7638482e+05 0.00e+00 3.93e+01  -5.5 2.12e-02    -  1.00e+00 1.00e+00f  1\n",
      "  12  5.7638390e+05 0.00e+00 4.11e+00  -6.9 1.19e-02    -  1.00e+00 1.00e+00f  1\n",
      "  13  5.7638382e+05 0.00e+00 1.74e+00  -8.4 4.81e-03    -  1.00e+00 1.00e+00f  1\n",
      "  14  5.7638369e+05 0.00e+00 3.65e+00 -10.1 9.85e-03    -  1.00e+00 1.00e+00f  1\n",
      "  15  5.7638357e+05 0.00e+00 1.75e+01 -11.0 7.05e-02    -  1.00e+00 1.00e+00f  1\n",
      "  16  5.7638318e+05 0.00e+00 1.42e+01 -11.0 8.22e-02    -  1.00e+00 1.00e+00f  1\n",
      "  17  5.7638295e+05 0.00e+00 3.32e+00 -11.0 1.65e-02    -  1.00e+00 1.00e+00f  1\n",
      "  18  5.7638294e+05 0.00e+00 6.97e-01 -11.0 5.80e-03    -  1.00e+00 1.00e+00f  1\n",
      "  19  5.7638294e+05 0.00e+00 2.11e-01 -11.0 6.07e-03    -  1.00e+00 1.00e+00f  1\n",
      "iter    objective    inf_pr   inf_du lg(mu)  ||d||  lg(rg) alpha_du alpha_pr  ls\n",
      "  20  5.7638294e+05 0.00e+00 1.11e-01 -11.0 3.65e-03    -  1.00e+00 1.00e+00f  1\n",
      "  21  5.7638294e+05 0.00e+00 9.07e-02 -11.0 9.83e-04    -  1.00e+00 5.00e-01f  2\n",
      "  22  5.7638294e+05 0.00e+00 2.69e-03 -11.0 2.78e-04    -  1.00e+00 1.00e+00f  1\n",
      "  23  5.7638294e+05 0.00e+00 1.95e-04 -11.0 1.81e-05    -  1.00e+00 1.00e+00f  1\n",
      "  24  5.7638294e+05 0.00e+00 1.80e-05 -11.0 1.41e-06    -  1.00e+00 1.00e+00f  1\n",
      "  25  5.7638294e+05 0.00e+00 1.43e-06 -11.0 1.93e-08    -  1.00e+00 1.00e+00f  1\n",
      "  26  5.7638294e+05 0.00e+00 9.57e-09 -11.0 1.67e-10    -  1.00e+00 1.00e+00f  1\n",
      "\n",
      "Number of Iterations....: 26\n",
      "\n",
      "                                   (scaled)                 (unscaled)\n",
      "Objective...............:   6.6495527635699200e+03    5.7638293759266450e+05\n",
      "Dual infeasibility......:   9.5747289069394259e-09    8.2993707550826901e-07\n",
      "Constraint violation....:   0.0000000000000000e+00    0.0000000000000000e+00\n",
      "Complementarity.........:   1.0000000000000001e-11    8.6679955492709564e-10\n",
      "Overall NLP error.......:   9.5747289069394259e-09    8.2993707550826901e-07\n",
      "\n",
      "\n",
      "Number of objective function evaluations             = 68\n",
      "Number of objective gradient evaluations             = 27\n",
      "Number of equality constraint evaluations            = 0\n",
      "Number of inequality constraint evaluations          = 0\n",
      "Number of equality constraint Jacobian evaluations   = 0\n",
      "Number of inequality constraint Jacobian evaluations = 0\n",
      "Number of Lagrangian Hessian evaluations             = 0\n",
      "Total CPU secs in IPOPT (w/o function evaluations)   =      0.209\n",
      "Total CPU secs in NLP function evaluations           =      3.663\n",
      "\n",
      "EXIT: Optimal Solution Found.\n",
      "  0.769341 seconds (4.97 k allocations: 32.034 MiB)\n"
     ]
    }
   ],
   "source": [
    "@time GLMCopula.fit!(gcm, IpoptSolver(print_level = 5, max_iter = 100, \n",
    "    tol = 10^-8, limited_memory_max_history = 50, accept_after_max_steps = 4, \n",
    "    hessian_approximation = \"limited-memory\"));"
   ]
  },
  {
   "cell_type": "markdown",
   "metadata": {},
   "source": [
    "**Conclusion:** After precompilation, poisson AR takes ~0.7 seconds with single threaded BLAS and 8-thread loglikelihood evaluations."
   ]
  },
  {
   "cell_type": "markdown",
   "metadata": {
    "collapsed": true
   },
   "source": [
    "# Profile code"
   ]
  },
  {
   "cell_type": "code",
   "execution_count": null,
   "metadata": {
    "collapsed": true
   },
   "outputs": [],
   "source": [
    "using ProfileView\n",
    "@profview GLMCopula.fit!(gcm, maxBlockIter=30)\n",
    "@profview GLMCopula.fit!(gcm, maxBlockIter=30)"
   ]
  }
 ],
 "metadata": {
  "@webio": {
   "lastCommId": null,
   "lastKernelId": null
  },
  "kernelspec": {
   "display_name": "Julia 1.7.1",
   "language": "julia",
   "name": "julia-1.7"
  },
  "language_info": {
   "file_extension": ".jl",
   "mimetype": "application/julia",
   "name": "julia",
   "version": "1.7.1"
  },
  "toc": {
   "base_numbering": 1,
   "nav_menu": {},
   "number_sections": true,
   "sideBar": true,
   "skip_h1_title": false,
   "title_cell": "Table of Contents",
   "title_sidebar": "Contents",
   "toc_cell": false,
   "toc_position": {},
   "toc_section_display": true,
   "toc_window_display": false
  }
 },
 "nbformat": 4,
 "nbformat_minor": 2
}
