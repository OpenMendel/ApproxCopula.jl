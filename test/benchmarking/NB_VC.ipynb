{
 "cells": [
  {
   "cell_type": "markdown",
   "metadata": {},
   "source": [
    "# Benchmarks for Neg Bin variance compoentn model "
   ]
  },
  {
   "cell_type": "code",
   "execution_count": 1,
   "metadata": {
    "collapsed": false
   },
   "outputs": [
    {
     "name": "stderr",
     "output_type": "stream",
     "text": [
      "┌ Info: Precompiling GLMCopula [c47b6ae2-b804-4668-9957-eb588c99ffbc]\n",
      "└ @ Base loading.jl:1423\n"
     ]
    }
   ],
   "source": [
    "using Revise\n",
    "using DataFrames, Random, GLM, GLMCopula\n",
    "using ForwardDiff, Test, LinearAlgebra\n",
    "using LinearAlgebra: BlasReal, copytri!\n",
    "using ToeplitzMatrices\n",
    "using BenchmarkTools"
   ]
  },
  {
   "cell_type": "markdown",
   "metadata": {
    "collapsed": true
   },
   "source": [
    "## 8 BLAS threads, single thread loglikelihood"
   ]
  },
  {
   "cell_type": "code",
   "execution_count": 44,
   "metadata": {
    "collapsed": false
   },
   "outputs": [
    {
     "data": {
      "text/plain": [
       "1"
      ]
     },
     "execution_count": 44,
     "metadata": {},
     "output_type": "execute_result"
    }
   ],
   "source": [
    "BLAS.set_num_threads(8)\n",
    "Threads.nthreads()"
   ]
  },
  {
   "cell_type": "code",
   "execution_count": 38,
   "metadata": {
    "collapsed": false
   },
   "outputs": [],
   "source": [
    "p_fixed = 3    # number of fixed effects, including intercept\n",
    "m = 1    # number of variance components\n",
    "# true parameter values\n",
    "Random.seed!(12345)\n",
    "# try next\n",
    "βtrue = rand(Uniform(-2, 2), p_fixed)\n",
    "θtrue = [0.5]\n",
    "rtrue = 10.0\n",
    "\n",
    "d = NegativeBinomial()\n",
    "link = LogLink()\n",
    "D = typeof(d)\n",
    "Link = typeof(link)\n",
    "T = Float64\n",
    "\n",
    "samplesize = 10000\n",
    "ni = 25\n",
    "\n",
    "gcs = Vector{NBCopulaVCObs{T, D, Link}}(undef, samplesize)\n",
    "\n",
    "Γ = θtrue[1] * ones(ni, ni)\n",
    "\n",
    "# for reproducibility I will simulate all the design matrices here\n",
    "Random.seed!(12345)\n",
    "X_samplesize = [randn(ni, p_fixed - 1) for i in 1:samplesize]\n",
    "\n",
    "for i in 1:samplesize\n",
    "    X = [ones(ni) X_samplesize[i]]\n",
    "    η = X * βtrue\n",
    "    μ = exp.(η)\n",
    "    p = rtrue ./ (μ .+ rtrue)\n",
    "    vecd = Vector{DiscreteUnivariateDistribution}(undef, ni)\n",
    "    vecd = [NegativeBinomial(rtrue, p[i]) for i in 1:ni]\n",
    "    nonmixed_multivariate_dist = NonMixedMultivariateDistribution(vecd, Γ)\n",
    "    # simuate single vector y\n",
    "    y = Vector{Float64}(undef, ni)\n",
    "    res = Vector{Float64}(undef, ni)\n",
    "    rand(nonmixed_multivariate_dist, y, res)\n",
    "    V = [ones(ni, ni)]\n",
    "    gcs[i] = NBCopulaVCObs(y, X, V, d, link)\n",
    "end\n",
    "\n",
    "# form VarLmmModel\n",
    "gcm = NBCopulaVCModel(gcs);"
   ]
  },
  {
   "cell_type": "code",
   "execution_count": 39,
   "metadata": {
    "collapsed": false
   },
   "outputs": [
    {
     "name": "stdout",
     "output_type": "stream",
     "text": [
      "Initializing NegBin r to Poisson regression values\n",
      "initializing β using Newton's Algorithm under Independence Assumption\n",
      "gcm.β = [1.792818935905615, 1.4631001984732919, -0.6408675831900047]\n",
      "initializing variance components using MM-Algorithm\n",
      "gcm.θ = [1.0801333444594738]\n",
      "initializing r using Newton update\n",
      "initializing variance parameters in VC model using MM-algorithm\n",
      "Converging when tol ≤ 1.0e-8 (max block iter = 10)\n",
      "Block iter 1 r = 9.97, logl = -654879.1, tol = 654879.1026062825\n",
      "Block iter 2 r = 9.97, logl = -654869.28, tol = 1.5005134518784893e-5\n",
      "Block iter 3 r = 9.97, logl = -654869.27, tol = 1.5704143686869547e-8\n",
      " 13.474499 seconds (5.44 M allocations: 166.920 MiB, 0.82% gc time)\n"
     ]
    }
   ],
   "source": [
    "@time GLMCopula.fit!(gcm, tol=1e-8);"
   ]
  },
  {
   "cell_type": "code",
   "execution_count": 17,
   "metadata": {
    "collapsed": false
   },
   "outputs": [
    {
     "name": "stdout",
     "output_type": "stream",
     "text": [
      "Initializing NegBin r to Poisson regression values\n",
      "initializing β using Newton's Algorithm under Independence Assumption\n",
      "gcm.β = [1.792818935905615, 1.4631001984732919, -0.6408675831900047]\n",
      "initializing variance components using MM-Algorithm\n",
      "gcm.θ = [1.0801333444594738]\n",
      "initializing r using Newton update\n",
      "initializing variance parameters in VC model using MM-algorithm\n",
      "Converging when tol ≤ 1.0e-8 (max block iter = 10)\n",
      "Block iter 1 r = 9.97, logl = -654879.1, tol = 654879.1026062825\n",
      "Block iter 2 r = 9.97, logl = -654869.28, tol = 1.5005134518784893e-5\n",
      "Block iter 3 r = 9.97, logl = -654869.27, tol = 1.5704143686869547e-8\n",
      " 13.688452 seconds (6.04 M allocations: 196.415 MiB, 2.34% compilation time)\n"
     ]
    }
   ],
   "source": [
    "@time GLMCopula.fit!(gcm, tol=1e-8);"
   ]
  },
  {
   "cell_type": "code",
   "execution_count": 40,
   "metadata": {
    "collapsed": false
   },
   "outputs": [
    {
     "data": {
      "text/plain": [
       "-654869.2656070774"
      ]
     },
     "execution_count": 40,
     "metadata": {},
     "output_type": "execute_result"
    }
   ],
   "source": [
    "loglikelihood!(gcm, true, true)"
   ]
  },
  {
   "cell_type": "code",
   "execution_count": 41,
   "metadata": {
    "collapsed": false
   },
   "outputs": [
    {
     "name": "stdout",
     "output_type": "stream",
     "text": [
      "GLMCopula.confint(gcm) = [1.778347717870949 1.78155339818036; 1.4652506389241986 1.4687708899007843; -0.6436471286710479 -0.6398741595416326; 9.856969332439316 10.086480519177215; 0.4809021803669017 0.4809021803669017]\n"
     ]
    },
    {
     "data": {
      "text/plain": [
       "5×2 Matrix{Float64}:\n",
       "  1.77835    1.78155\n",
       "  1.46525    1.46877\n",
       " -0.643647  -0.639874\n",
       "  9.85697   10.0865\n",
       "  0.480902   0.480902"
      ]
     },
     "execution_count": 41,
     "metadata": {},
     "output_type": "execute_result"
    }
   ],
   "source": [
    "vcov!(gcm)\n",
    "@show GLMCopula.confint(gcm)"
   ]
  },
  {
   "cell_type": "markdown",
   "metadata": {},
   "source": [
    "After precompilation, NBVC takes ~13 seconds with multithreaded BLAS and single-threaded loglikelihood evaluations."
   ]
  },
  {
   "cell_type": "markdown",
   "metadata": {},
   "source": [
    "## 1 BLAS thread, 8 thread loglikelihood"
   ]
  },
  {
   "cell_type": "code",
   "execution_count": 2,
   "metadata": {
    "collapsed": false
   },
   "outputs": [
    {
     "data": {
      "text/plain": [
       "8"
      ]
     },
     "execution_count": 2,
     "metadata": {},
     "output_type": "execute_result"
    }
   ],
   "source": [
    "BLAS.set_num_threads(1)\n",
    "Threads.nthreads()"
   ]
  },
  {
   "cell_type": "code",
   "execution_count": 5,
   "metadata": {
    "collapsed": true
   },
   "outputs": [],
   "source": [
    "p_fixed = 3    # number of fixed effects, including intercept\n",
    "m = 1    # number of variance components\n",
    "# true parameter values\n",
    "Random.seed!(12345)\n",
    "# try next\n",
    "βtrue = rand(Uniform(-2, 2), p_fixed)\n",
    "θtrue = [0.5]\n",
    "rtrue = 10.0\n",
    "\n",
    "d = NegativeBinomial()\n",
    "link = LogLink()\n",
    "D = typeof(d)\n",
    "Link = typeof(link)\n",
    "T = Float64\n",
    "\n",
    "samplesize = 10000\n",
    "ni = 25\n",
    "\n",
    "gcs = Vector{NBCopulaVCObs{T, D, Link}}(undef, samplesize)\n",
    "\n",
    "Γ = θtrue[1] * ones(ni, ni)\n",
    "\n",
    "# for reproducibility I will simulate all the design matrices here\n",
    "Random.seed!(12345)\n",
    "X_samplesize = [randn(ni, p_fixed - 1) for i in 1:samplesize]\n",
    "\n",
    "for i in 1:samplesize\n",
    "    X = [ones(ni) X_samplesize[i]]\n",
    "    η = X * βtrue\n",
    "    μ = exp.(η)\n",
    "    p = rtrue ./ (μ .+ rtrue)\n",
    "    vecd = Vector{DiscreteUnivariateDistribution}(undef, ni)\n",
    "    vecd = [NegativeBinomial(rtrue, p[i]) for i in 1:ni]\n",
    "    nonmixed_multivariate_dist = NonMixedMultivariateDistribution(vecd, Γ)\n",
    "    # simuate single vector y\n",
    "    y = Vector{Float64}(undef, ni)\n",
    "    res = Vector{Float64}(undef, ni)\n",
    "    rand(nonmixed_multivariate_dist, y, res)\n",
    "    V = [ones(ni, ni)]\n",
    "    gcs[i] = NBCopulaVCObs(y, X, V, d, link)\n",
    "end\n",
    "\n",
    "# form VarLmmModel\n",
    "gcm = NBCopulaVCModel(gcs);"
   ]
  },
  {
   "cell_type": "code",
   "execution_count": 4,
   "metadata": {
    "collapsed": false
   },
   "outputs": [
    {
     "name": "stdout",
     "output_type": "stream",
     "text": [
      "Initializing NegBin r to Poisson regression values\n",
      "initializing β using Newton's Algorithm under Independence Assumption\n",
      "gcm.β = [1.792818935905615, 1.4631001984732919, -0.6408675831900047]\n",
      "initializing variance components using MM-Algorithm\n",
      "gcm.θ = [1.0801333444594738]\n",
      "initializing r using Newton update\n",
      "initializing variance parameters in VC model using MM-algorithm\n",
      "Converging when tol ≤ 1.0e-8 (max block iter = 10)\n",
      "\n",
      "******************************************************************************\n",
      "This program contains Ipopt, a library for large-scale nonlinear optimization.\n",
      " Ipopt is released as open source code under the Eclipse Public License (EPL).\n",
      "         For more information visit https://github.com/coin-or/Ipopt\n",
      "******************************************************************************\n",
      "\n",
      "Block iter 1 r = 9.97, logl = -654879.1, tol = 654879.1026062839\n",
      "Block iter 2 r = 9.97, logl = -654869.28, tol = 1.5005134519140392e-5\n",
      "Block iter 3 r = 9.97, logl = -654869.27, tol = 1.570415435298091e-8\n",
      " 23.114202 seconds (47.35 M allocations: 2.501 GiB, 2.25% gc time, 77.19% compilation time)\n"
     ]
    }
   ],
   "source": [
    "@time GLMCopula.fit!(gcm, tol=1e-8);"
   ]
  },
  {
   "cell_type": "code",
   "execution_count": 6,
   "metadata": {
    "collapsed": false
   },
   "outputs": [
    {
     "name": "stdout",
     "output_type": "stream",
     "text": [
      "Initializing NegBin r to Poisson regression values\n",
      "initializing β using Newton's Algorithm under Independence Assumption\n",
      "gcm.β = [1.792818935905615, 1.4631001984732919, -0.6408675831900047]\n",
      "initializing variance components using MM-Algorithm\n",
      "gcm.θ = [1.0801333444594738]\n",
      "initializing r using Newton update\n",
      "initializing variance parameters in VC model using MM-algorithm\n",
      "Converging when tol ≤ 1.0e-8 (max block iter = 10)\n",
      "Block iter 1 r = 9.97, logl = -654879.1, tol = 654879.1026062839\n",
      "Block iter 2 r = 9.97, logl = -654869.28, tol = 1.5005134519140392e-5\n",
      "Block iter 3 r = 9.97, logl = -654869.27, tol = 1.570415435298091e-8\n",
      "  5.245830 seconds (5.45 M allocations: 167.462 MiB)\n"
     ]
    }
   ],
   "source": [
    "@time GLMCopula.fit!(gcm, tol=1e-8);"
   ]
  },
  {
   "cell_type": "code",
   "execution_count": 7,
   "metadata": {
    "collapsed": false
   },
   "outputs": [
    {
     "data": {
      "text/plain": [
       "-654869.2656070814"
      ]
     },
     "execution_count": 7,
     "metadata": {},
     "output_type": "execute_result"
    }
   ],
   "source": [
    "loglikelihood!(gcm, true, true)"
   ]
  },
  {
   "cell_type": "code",
   "execution_count": 8,
   "metadata": {
    "collapsed": false
   },
   "outputs": [
    {
     "name": "stdout",
     "output_type": "stream",
     "text": [
      "GLMCopula.confint(gcm) = [1.778347717870949 1.78155339818036; 1.4652506389241986 1.4687708899007843; -0.6436471286710479 -0.6398741595416326; 9.856969332439316 10.086480519177215; 0.4809021803669017 0.4809021803669017]\n"
     ]
    },
    {
     "data": {
      "text/plain": [
       "5×2 Matrix{Float64}:\n",
       "  1.77835    1.78155\n",
       "  1.46525    1.46877\n",
       " -0.643647  -0.639874\n",
       "  9.85697   10.0865\n",
       "  0.480902   0.480902"
      ]
     },
     "execution_count": 8,
     "metadata": {},
     "output_type": "execute_result"
    }
   ],
   "source": [
    "vcov!(gcm)\n",
    "@show GLMCopula.confint(gcm)"
   ]
  },
  {
   "cell_type": "markdown",
   "metadata": {},
   "source": [
    "**Conclusion:** After precompilation, NBAR takes ~5 seconds with single threaded BLAS and 8-thread loglikelihood evaluations."
   ]
  },
  {
   "cell_type": "markdown",
   "metadata": {
    "collapsed": true
   },
   "source": [
    "# Profile code"
   ]
  },
  {
   "cell_type": "code",
   "execution_count": null,
   "metadata": {
    "collapsed": true
   },
   "outputs": [],
   "source": [
    "using ProfileView\n",
    "BLAS.set_num_threads(1)\n",
    "\n",
    "@profview GLMCopula.fit!(gcm, maxBlockIter = 20);\n",
    "@profview GLMCopula.fit!(gcm, maxBlockIter = 20);"
   ]
  }
 ],
 "metadata": {
  "@webio": {
   "lastCommId": null,
   "lastKernelId": null
  },
  "kernelspec": {
   "display_name": "Julia 1.7.1",
   "language": "julia",
   "name": "julia-1.7"
  },
  "language_info": {
   "file_extension": ".jl",
   "mimetype": "application/julia",
   "name": "julia",
   "version": "1.7.1"
  },
  "toc": {
   "base_numbering": 1,
   "nav_menu": {},
   "number_sections": true,
   "sideBar": true,
   "skip_h1_title": false,
   "title_cell": "Table of Contents",
   "title_sidebar": "Contents",
   "toc_cell": false,
   "toc_position": {},
   "toc_section_display": true,
   "toc_window_display": false
  }
 },
 "nbformat": 4,
 "nbformat_minor": 2
}
