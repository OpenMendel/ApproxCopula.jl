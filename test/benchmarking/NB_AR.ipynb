{
 "cells": [
  {
   "cell_type": "markdown",
   "metadata": {},
   "source": [
    "# Benchmarks for Neg Bin Auto-regressive model "
   ]
  },
  {
   "cell_type": "code",
   "execution_count": 1,
   "metadata": {
    "collapsed": false
   },
   "outputs": [
    {
     "name": "stderr",
     "output_type": "stream",
     "text": [
      "┌ Info: Precompiling GLMCopula [c47b6ae2-b804-4668-9957-eb588c99ffbc]\n",
      "└ @ Base loading.jl:1423\n"
     ]
    }
   ],
   "source": [
    "using Revise\n",
    "using DataFrames, Random, GLM, GLMCopula\n",
    "using ForwardDiff, Test, LinearAlgebra\n",
    "using LinearAlgebra: BlasReal, copytri!\n",
    "using ToeplitzMatrices\n",
    "using BenchmarkTools"
   ]
  },
  {
   "cell_type": "markdown",
   "metadata": {
    "collapsed": true
   },
   "source": [
    "## 8 BLAS threads, single thread loglikelihood"
   ]
  },
  {
   "cell_type": "code",
   "execution_count": 2,
   "metadata": {
    "collapsed": false
   },
   "outputs": [
    {
     "data": {
      "text/plain": [
       "1"
      ]
     },
     "execution_count": 2,
     "metadata": {},
     "output_type": "execute_result"
    }
   ],
   "source": [
    "BLAS.set_num_threads(8)\n",
    "Threads.nthreads()"
   ]
  },
  {
   "cell_type": "code",
   "execution_count": 3,
   "metadata": {
    "collapsed": false
   },
   "outputs": [],
   "source": [
    "p_fixed = 3    # number of fixed effects, including intercept\n",
    "\n",
    "# true parameter values\n",
    "Random.seed!(12345)\n",
    "βtrue = rand(Uniform(-2, 2), p_fixed)\n",
    "rtrue = 10.0\n",
    "σ2true = [0.5]\n",
    "ρtrue = [0.5]\n",
    "\n",
    "function get_V(ρ, n)\n",
    "    vec = zeros(n)\n",
    "    vec[1] = 1.0\n",
    "    for i in 2:n\n",
    "        vec[i] = vec[i - 1] * ρ\n",
    "    end\n",
    "    V = ToeplitzMatrices.SymmetricToeplitz(vec)\n",
    "    V\n",
    "end\n",
    "\n",
    "#simulation parameters\n",
    "samplesize = 10000\n",
    "\n",
    "st = time()\n",
    "currentind = 1\n",
    "d = NegativeBinomial()\n",
    "link = LogLink()\n",
    "D = typeof(d)\n",
    "Link = typeof(link)\n",
    "T = Float64\n",
    "\n",
    "gcs = Vector{NBCopulaARObs{T, D, Link}}(undef, samplesize)\n",
    "\n",
    "ni = 25 #  number of observations per individual\n",
    "V = get_V(ρtrue[1], ni)\n",
    "\n",
    "# true Gamma\n",
    "Γ = σ2true[1] * V\n",
    "\n",
    "# for reproducibility I will simulate all the design matrices here\n",
    "Random.seed!(12345)\n",
    "X_samplesize = [randn(ni, p_fixed - 1) for i in 1:samplesize]\n",
    "\n",
    "for i in 1:samplesize\n",
    "    X = [ones(ni) X_samplesize[i]]\n",
    "    # X = [ones(ni) randn(ni, p - 1)]\n",
    "    # X = ones(ni, 1)\n",
    "    # y = Float64.(Y_nsample[i])\n",
    "    η = X * βtrue\n",
    "    μ = exp.(η)\n",
    "    p = rtrue ./ (μ .+ rtrue)\n",
    "    vecd = Vector{DiscreteUnivariateDistribution}(undef, ni)\n",
    "    vecd = [NegativeBinomial(rtrue, p[i]) for i in 1:ni]\n",
    "    nonmixed_multivariate_dist = NonMixedMultivariateDistribution(vecd, Γ)\n",
    "    # simuate single vector y\n",
    "    y = Vector{Float64}(undef, ni)\n",
    "    res = Vector{Float64}(undef, ni)\n",
    "    rand(nonmixed_multivariate_dist, y, res)\n",
    "    # push!(Ystack, y)\n",
    "    V = [ones(ni, ni)]\n",
    "    # V = [ones(ni, ni)]\n",
    "    gcs[i] = NBCopulaARObs(y, X, d, link)\n",
    "end\n",
    "\n",
    "# form model\n",
    "gcm = NBCopulaARModel(gcs);"
   ]
  },
  {
   "cell_type": "code",
   "execution_count": 4,
   "metadata": {
    "collapsed": false,
    "scrolled": true
   },
   "outputs": [
    {
     "name": "stdout",
     "output_type": "stream",
     "text": [
      "Initializing NegBin r to Poisson regression values\n",
      "initializing β using Newton's Algorithm under Independence Assumption\n",
      "initializing σ2 and ρ using method of moments\n",
      "initializing r using Newton update\n",
      "initializing variance parameters in CS model using mom\n",
      "Converging when tol ≤ 1.0e-8 (max block iter = 20)\n",
      "\n",
      "******************************************************************************\n",
      "This program contains Ipopt, a library for large-scale nonlinear optimization.\n",
      " Ipopt is released as open source code under the Eclipse Public License (EPL).\n",
      "         For more information visit https://github.com/coin-or/Ipopt\n",
      "******************************************************************************\n",
      "\n",
      "Block iter 1 r = 9.63, logl = -659876.38, tol = 659876.3844181958\n",
      "Block iter 2 r = 9.87, logl = -659849.9, tol = 4.013178849649874e-5\n",
      "Block iter 3 r = 9.89, logl = -659840.08, tol = 1.4888447019632147e-5\n",
      "Block iter 4 r = 9.91, logl = -659840.95, tol = 1.3245809250537448e-6\n",
      "Block iter 5 r = 9.96, logl = -659840.73, tol = 3.3603836102156463e-7\n",
      "Block iter 6 r = 9.95, logl = -659839.72, tol = 1.5373802639043203e-6\n",
      "Block iter 7 r = 9.94, logl = -659839.91, tol = 2.9393202737438934e-7\n",
      "Block iter 8 r = 9.92, logl = -659840.0, tol = 1.312235713428575e-7\n",
      "Block iter 9 r = 9.97, logl = -659840.8, tol = 1.218456117301108e-6\n",
      "Block iter 10 r = 9.96, logl = -659839.64, tol = 1.7524068759646176e-6\n",
      "Block iter 11 r = 9.94, logl = -659839.85, tol = 3.119674573542418e-7\n",
      "Block iter 12 r = 9.93, logl = -659839.96, tol = 1.6361099401115519e-7\n",
      "Block iter 13 r = 9.89, logl = -659840.33, tol = 5.648818330623958e-7\n",
      "Block iter 14 r = 9.91, logl = -659840.91, tol = 8.840167038848518e-7\n",
      "Block iter 15 r = 9.96, logl = -659840.74, tol = 2.7008778821484475e-7\n",
      "Block iter 16 r = 9.95, logl = -659839.71, tol = 1.5527112072797166e-6\n",
      "Block iter 17 r = 9.94, logl = -659839.91, tol = 2.974541228553708e-7\n",
      "Block iter 18 r = 9.92, logl = -659839.99, tol = 1.3003959976888205e-7\n",
      "Block iter 19 r = 9.97, logl = -659840.79, tol = 1.2129152618011429e-6\n",
      "Block iter 20 r = 9.96, logl = -659839.64, tol = 1.7432906817058216e-6\n",
      "110.414691 seconds (42.30 M allocations: 11.198 GiB, 1.92% gc time, 17.25% compilation time)\n"
     ]
    }
   ],
   "source": [
    "@time GLMCopula.fit!(gcm, maxBlockIter = 20, tol=1e-8);"
   ]
  },
  {
   "cell_type": "code",
   "execution_count": 20,
   "metadata": {
    "collapsed": false
   },
   "outputs": [
    {
     "data": {
      "text/plain": [
       "-659839.6133726223"
      ]
     },
     "execution_count": 20,
     "metadata": {},
     "output_type": "execute_result"
    }
   ],
   "source": [
    "loglikelihood!(gcm, true, true)"
   ]
  },
  {
   "cell_type": "code",
   "execution_count": 19,
   "metadata": {
    "collapsed": false
   },
   "outputs": [
    {
     "ename": "LoadError",
     "evalue": "MethodError: no method matching plan_fft!(::Vector{ComplexF64}, ::UnitRange{Int64})\n\u001b[0mClosest candidates are:\n\u001b[0m  plan_fft!(::AbstractArray; kws...) at ~/.julia/packages/AbstractFFTs/Ih3rT/src/definitions.jl:52",
     "output_type": "error",
     "traceback": [
      "MethodError: no method matching plan_fft!(::Vector{ComplexF64}, ::UnitRange{Int64})\n\u001b[0mClosest candidates are:\n\u001b[0m  plan_fft!(::AbstractArray; kws...) at ~/.julia/packages/AbstractFFTs/Ih3rT/src/definitions.jl:52",
      "",
      "Stacktrace:",
      " [1] plan_fft!(x::Vector{ComplexF64}; kws::Base.Pairs{Symbol, Union{}, Tuple{}, NamedTuple{(), Tuple{}}})",
      "   @ AbstractFFTs ~/.julia/packages/AbstractFFTs/Ih3rT/src/definitions.jl:52",
      " [2] plan_fft!(x::Vector{ComplexF64})",
      "   @ AbstractFFTs ~/.julia/packages/AbstractFFTs/Ih3rT/src/definitions.jl:52",
      " [3] factorize(A::SymmetricToeplitz{Float64})",
      "   @ ToeplitzMatrices ~/.julia/packages/ToeplitzMatrices/bWAGV/src/ToeplitzMatrices.jl:325",
      " [4] mul!(C::Matrix{Float64}, A::SymmetricToeplitz{Float64}, B::Matrix{Float64}, α::Bool, β::Bool)",
      "   @ ToeplitzMatrices ~/.julia/packages/ToeplitzMatrices/bWAGV/src/ToeplitzMatrices.jl:144",
      " [5] mul!(C::Matrix{Float64}, A::SymmetricToeplitz{Float64}, B::Matrix{Float64})",
      "   @ LinearAlgebra /Applications/Julia-1.7.app/Contents/Resources/julia/share/julia/stdlib/v1.7/LinearAlgebra/src/matmul.jl:275",
      " [6] top-level scope",
      "   @ In[19]:4",
      " [7] eval",
      "   @ ./boot.jl:373 [inlined]",
      " [8] include_string(mapexpr::typeof(REPL.softscope), mod::Module, code::String, filename::String)",
      "   @ Base ./loading.jl:1196"
     ]
    }
   ],
   "source": [
    "A = SymmetricToeplitz(ones(10))\n",
    "B = randn(10, 10)\n",
    "C = zeros(10, 10)\n",
    "LinearAlgebra.mul!(C, A, B)"
   ]
  },
  {
   "cell_type": "code",
   "execution_count": null,
   "metadata": {
    "collapsed": true
   },
   "outputs": [],
   "source": []
  },
  {
   "cell_type": "code",
   "execution_count": null,
   "metadata": {
    "collapsed": true
   },
   "outputs": [],
   "source": []
  },
  {
   "cell_type": "code",
   "execution_count": null,
   "metadata": {
    "collapsed": true
   },
   "outputs": [],
   "source": []
  },
  {
   "cell_type": "code",
   "execution_count": null,
   "metadata": {
    "collapsed": true
   },
   "outputs": [],
   "source": []
  },
  {
   "cell_type": "code",
   "execution_count": null,
   "metadata": {
    "collapsed": true
   },
   "outputs": [],
   "source": []
  },
  {
   "cell_type": "code",
   "execution_count": 6,
   "metadata": {
    "collapsed": false,
    "scrolled": true
   },
   "outputs": [
    {
     "name": "stdout",
     "output_type": "stream",
     "text": [
      "Initializing NegBin r to Poisson regression values\n",
      "initializing β using Newton's Algorithm under Independence Assumption\n",
      "initializing σ2 and ρ using method of moments\n",
      "initializing r using Newton update\n",
      "initializing variance parameters in CS model using mom\n",
      "Converging when tol ≤ 1.0e-8 (max block iter = 20)\n",
      "Block iter 1 r = 9.63, logl = -659876.38, tol = 659876.3844181958\n",
      "Block iter 2 r = 9.87, logl = -659849.9, tol = 4.013178849649874e-5\n",
      "Block iter 3 r = 9.89, logl = -659840.08, tol = 1.4888447019632147e-5\n",
      "Block iter 4 r = 9.91, logl = -659840.95, tol = 1.3245809250537448e-6\n",
      "Block iter 5 r = 9.96, logl = -659840.73, tol = 3.3603836102156463e-7\n",
      "Block iter 6 r = 9.95, logl = -659839.72, tol = 1.5373802639043203e-6\n",
      "Block iter 7 r = 9.94, logl = -659839.91, tol = 2.9393202737438934e-7\n",
      "Block iter 8 r = 9.92, logl = -659840.0, tol = 1.312235713428575e-7\n",
      "Block iter 9 r = 9.97, logl = -659840.8, tol = 1.218456117301108e-6\n",
      "Block iter 10 r = 9.96, logl = -659839.64, tol = 1.7524068759646176e-6\n",
      "Block iter 11 r = 9.94, logl = -659839.85, tol = 3.119674573542418e-7\n",
      "Block iter 12 r = 9.93, logl = -659839.96, tol = 1.6361099401115519e-7\n",
      "Block iter 13 r = 9.89, logl = -659840.33, tol = 5.648818330623958e-7\n",
      "Block iter 14 r = 9.91, logl = -659840.91, tol = 8.840167038848518e-7\n",
      "Block iter 15 r = 9.96, logl = -659840.74, tol = 2.7008778821484475e-7\n",
      "Block iter 16 r = 9.95, logl = -659839.71, tol = 1.5527112072797166e-6\n",
      "Block iter 17 r = 9.94, logl = -659839.91, tol = 2.974541228553708e-7\n",
      "Block iter 18 r = 9.92, logl = -659839.99, tol = 1.3003959976888205e-7\n",
      "Block iter 19 r = 9.97, logl = -659840.79, tol = 1.2129152618011429e-6\n",
      "Block iter 20 r = 9.96, logl = -659839.64, tol = 1.7432906817058216e-6\n",
      " 85.721411 seconds (2.17 M allocations: 8.981 GiB, 1.78% gc time, 0.01% compilation time)\n"
     ]
    }
   ],
   "source": [
    "@time GLMCopula.fit!(gcm, maxBlockIter = 20, tol=1e-8);"
   ]
  },
  {
   "cell_type": "markdown",
   "metadata": {},
   "source": [
    "After precompilation, NBAR takes ~85 seconds with multithreaded BLAS and single-threaded loglikelihood evaluations."
   ]
  },
  {
   "cell_type": "markdown",
   "metadata": {},
   "source": [
    "## 1 BLAS thread, 8 thread loglikelihood"
   ]
  },
  {
   "cell_type": "code",
   "execution_count": 2,
   "metadata": {
    "collapsed": false
   },
   "outputs": [
    {
     "data": {
      "text/plain": [
       "8"
      ]
     },
     "execution_count": 2,
     "metadata": {},
     "output_type": "execute_result"
    }
   ],
   "source": [
    "BLAS.set_num_threads(1)\n",
    "Threads.nthreads()"
   ]
  },
  {
   "cell_type": "code",
   "execution_count": 3,
   "metadata": {
    "collapsed": true
   },
   "outputs": [],
   "source": [
    "p_fixed = 3    # number of fixed effects, including intercept\n",
    "\n",
    "# true parameter values\n",
    "Random.seed!(12345)\n",
    "βtrue = rand(Uniform(-2, 2), p_fixed)\n",
    "rtrue = 10.0\n",
    "σ2true = [0.5]\n",
    "ρtrue = [0.5]\n",
    "\n",
    "function get_V(ρ, n)\n",
    "    vec = zeros(n)\n",
    "    vec[1] = 1.0\n",
    "    for i in 2:n\n",
    "        vec[i] = vec[i - 1] * ρ\n",
    "    end\n",
    "    V = ToeplitzMatrices.SymmetricToeplitz(vec)\n",
    "    V\n",
    "end\n",
    "\n",
    "#simulation parameters\n",
    "samplesize = 10000\n",
    "\n",
    "st = time()\n",
    "currentind = 1\n",
    "d = NegativeBinomial()\n",
    "link = LogLink()\n",
    "D = typeof(d)\n",
    "Link = typeof(link)\n",
    "T = Float64\n",
    "\n",
    "gcs = Vector{NBCopulaARObs{T, D, Link}}(undef, samplesize)\n",
    "\n",
    "ni = 25 #  number of observations per individual\n",
    "V = get_V(ρtrue[1], ni)\n",
    "\n",
    "# true Gamma\n",
    "Γ = σ2true[1] * V\n",
    "\n",
    "# for reproducibility I will simulate all the design matrices here\n",
    "Random.seed!(12345)\n",
    "X_samplesize = [randn(ni, p_fixed - 1) for i in 1:samplesize]\n",
    "\n",
    "for i in 1:samplesize\n",
    "    X = [ones(ni) X_samplesize[i]]\n",
    "    # X = [ones(ni) randn(ni, p - 1)]\n",
    "    # X = ones(ni, 1)\n",
    "    # y = Float64.(Y_nsample[i])\n",
    "    η = X * βtrue\n",
    "    μ = exp.(η)\n",
    "    p = rtrue ./ (μ .+ rtrue)\n",
    "    vecd = Vector{DiscreteUnivariateDistribution}(undef, ni)\n",
    "    vecd = [NegativeBinomial(rtrue, p[i]) for i in 1:ni]\n",
    "    nonmixed_multivariate_dist = NonMixedMultivariateDistribution(vecd, Γ)\n",
    "    # simuate single vector y\n",
    "    y = Vector{Float64}(undef, ni)\n",
    "    res = Vector{Float64}(undef, ni)\n",
    "    rand(nonmixed_multivariate_dist, y, res)\n",
    "    # push!(Ystack, y)\n",
    "    V = [ones(ni, ni)]\n",
    "    # V = [ones(ni, ni)]\n",
    "    gcs[i] = NBCopulaARObs(y, X, d, link)\n",
    "end\n",
    "\n",
    "# form model\n",
    "gcm = NBCopulaARModel(gcs);"
   ]
  },
  {
   "cell_type": "code",
   "execution_count": 4,
   "metadata": {
    "collapsed": false,
    "scrolled": false
   },
   "outputs": [
    {
     "name": "stdout",
     "output_type": "stream",
     "text": [
      "Initializing NegBin r to Poisson regression values\n",
      "initializing β using Newton's Algorithm under Independence Assumption\n",
      "initializing σ2 and ρ using method of moments\n",
      "initializing r using Newton update\n",
      "initializing variance parameters in CS model using mom\n",
      "Converging when tol ≤ 1.0e-8 (max block iter = 20)\n",
      "\n",
      "******************************************************************************\n",
      "This program contains Ipopt, a library for large-scale nonlinear optimization.\n",
      " Ipopt is released as open source code under the Eclipse Public License (EPL).\n",
      "         For more information visit https://github.com/coin-or/Ipopt\n",
      "******************************************************************************\n",
      "\n",
      "Block iter 1 r = 9.63, logl = -659876.38, tol = 659876.3844181958\n",
      "Block iter 2 r = 9.87, logl = -659849.9, tol = 4.0131788494028864e-5\n",
      "Block iter 3 r = 9.89, logl = -659840.08, tol = 1.4888447022102083e-5\n",
      "Block iter 4 r = 9.91, logl = -659840.95, tol = 1.3245809299937661e-6\n",
      "Block iter 5 r = 9.96, logl = -659840.73, tol = 3.3603836649086505e-7\n",
      "Block iter 6 r = 9.95, logl = -659839.72, tol = 1.5373802619636005e-6\n",
      "Block iter 7 r = 9.94, logl = -659839.91, tol = 2.939320238458003e-7\n",
      "Block iter 8 r = 9.92, logl = -659840.0, tol = 1.3122357416572785e-7\n",
      "Block iter 9 r = 9.97, logl = -659840.8, tol = 1.2184561255932867e-6\n",
      "Block iter 10 r = 9.96, logl = -659839.64, tol = 1.7524068854917753e-6\n",
      "Block iter 11 r = 9.94, logl = -659839.85, tol = 3.11967453825653e-7\n",
      "Block iter 12 r = 9.93, logl = -659839.96, tol = 1.6361100053904345e-7\n",
      "Block iter 13 r = 9.89, logl = -659840.33, tol = 5.648818282988016e-7\n",
      "Block iter 14 r = 9.91, logl = -659840.91, tol = 8.840167054727172e-7\n",
      "Block iter 15 r = 9.96, logl = -659840.74, tol = 2.7008778892056136e-7\n",
      "Block iter 16 r = 9.95, logl = -659839.71, tol = 1.55271120075184e-6\n",
      "Block iter 17 r = 9.94, logl = -659839.91, tol = 2.9745411209317394e-7\n",
      "Block iter 18 r = 9.92, logl = -659839.99, tol = 1.3003960206246471e-7\n",
      "Block iter 19 r = 9.97, logl = -659840.79, tol = 1.2129152665647397e-6\n",
      "Block iter 20 r = 9.96, logl = -659839.64, tol = 1.7432906804708152e-6\n",
      " 58.642278 seconds (41.32 M allocations: 11.149 GiB, 4.55% gc time, 34.93% compilation time)\n"
     ]
    }
   ],
   "source": [
    "@time GLMCopula.fit!(gcm, maxBlockIter = 20, tol=1e-8);"
   ]
  },
  {
   "cell_type": "code",
   "execution_count": 5,
   "metadata": {
    "collapsed": false,
    "scrolled": false
   },
   "outputs": [
    {
     "name": "stdout",
     "output_type": "stream",
     "text": [
      "Initializing NegBin r to Poisson regression values\n",
      "initializing β using Newton's Algorithm under Independence Assumption\n",
      "initializing σ2 and ρ using method of moments\n",
      "initializing r using Newton update\n",
      "initializing variance parameters in CS model using mom\n",
      "Converging when tol ≤ 1.0e-8 (max block iter = 20)\n",
      "Block iter 1 r = 10.01, logl = -659841.66, tol = 659841.6606931937\n",
      "Block iter 2 r = 9.97, logl = -659840.52, tol = 1.7272941257266223e-6\n",
      "Block iter 3 r = 9.96, logl = -659839.64, tol = 1.3405054942060574e-6\n",
      "Block iter 4 r = 9.94, logl = -659839.83, tol = 2.966269382129259e-7\n",
      "Block iter 5 r = 9.93, logl = -659839.95, tol = 1.818060399997583e-7\n",
      "Block iter 6 r = 9.9, logl = -659840.22, tol = 4.1219480759678596e-7\n",
      "Block iter 7 r = 9.92, logl = -659840.19, tol = 4.4224329130175466e-8\n",
      "Block iter 8 r = 9.97, logl = -659840.8, tol = 9.204649132585677e-7\n",
      "Block iter 9 r = 9.96, logl = -659839.65, tol = 1.7413839249173488e-6\n",
      "Block iter 10 r = 9.94, logl = -659839.86, tol = 3.183655154674333e-7\n",
      "Block iter 11 r = 9.93, logl = -659839.96, tol = 1.511104969502051e-7\n",
      "Block iter 12 r = 9.88, logl = -659840.44, tol = 7.285563672801583e-7\n",
      "Block iter 13 r = 9.9, logl = -659839.66, tol = 1.183830632865457e-6\n",
      "Block iter 14 r = 9.92, logl = -659839.94, tol = 4.1549330657375756e-7\n",
      "Block iter 15 r = 9.97, logl = -659840.8, tol = 1.3149195974777178e-6\n",
      "Block iter 16 r = 9.96, logl = -659839.65, tol = 1.7554577792090454e-6\n",
      "Block iter 17 r = 9.94, logl = -659839.85, tol = 3.138537411891914e-7\n",
      "Block iter 18 r = 9.93, logl = -659839.96, tol = 1.6061881283322128e-7\n",
      "Block iter 19 r = 9.89, logl = -659840.35, tol = 5.98191996462479e-7\n",
      "Block iter 20 r = 9.91, logl = -659841.09, tol = 1.1149357398705956e-6\n",
      " 53.409645 seconds (2.18 M allocations: 8.791 GiB, 4.46% gc time, 0.03% compilation time)\n"
     ]
    }
   ],
   "source": [
    "@time GLMCopula.fit!(gcm, maxBlockIter = 20, tol=1e-8);"
   ]
  },
  {
   "cell_type": "code",
   "execution_count": 33,
   "metadata": {
    "collapsed": false
   },
   "outputs": [
    {
     "name": "stdout",
     "output_type": "stream",
     "text": [
      "(25, 3)\n",
      "(25, 25)\n",
      "(25, 3)\n"
     ]
    },
    {
     "ename": "LoadError",
     "evalue": "TaskFailedException\n\n\u001b[91m    nested task error: \u001b[39mUndefVarError: fff not defined\n    Stacktrace:\n     [1] \u001b[0m\u001b[1mloglikelihood!\u001b[22m\u001b[0m\u001b[1m(\u001b[22m\u001b[90mgc\u001b[39m::\u001b[0mNBCopulaARObs\u001b[90m{Float64, NegativeBinomial{Float64}, LogLink}\u001b[39m, \u001b[90mβ\u001b[39m::\u001b[0mVector\u001b[90m{Float64}\u001b[39m, \u001b[90mρ\u001b[39m::\u001b[0mFloat64, \u001b[90mσ2\u001b[39m::\u001b[0mFloat64, \u001b[90mr\u001b[39m::\u001b[0mFloat64, \u001b[90mneedgrad\u001b[39m::\u001b[0mBool, \u001b[90mneedhess\u001b[39m::\u001b[0mBool; \u001b[90mpenalized\u001b[39m::\u001b[0mBool\u001b[0m\u001b[1m)\u001b[22m\n    \u001b[90m   @ \u001b[39m\u001b[35mGLMCopula\u001b[39m \u001b[90m~/.julia/dev/GLMCopula/src/parameter_estimation/\u001b[39m\u001b[90m\u001b[4mNBCopulaAR.jl:304\u001b[24m\u001b[39m\n     [2] \u001b[0m\u001b[1mloglikelihood!\u001b[22m\n    \u001b[90m   @ \u001b[39m\u001b[90m~/.julia/dev/GLMCopula/src/parameter_estimation/\u001b[39m\u001b[90m\u001b[4mNBCopulaAR.jl:209\u001b[24m\u001b[39m\u001b[90m [inlined]\u001b[39m\n     [3] \u001b[0m\u001b[1mmacro expansion\u001b[22m\n    \u001b[90m   @ \u001b[39m\u001b[90m~/.julia/dev/GLMCopula/src/parameter_estimation/\u001b[39m\u001b[90m\u001b[4mNBCopulaAR.jl:330\u001b[24m\u001b[39m\u001b[90m [inlined]\u001b[39m\n     [4] \u001b[0m\u001b[1m(::GLMCopula.var\"#175#threadsfor_fun#15\"{NBCopulaARModel{Float64, NegativeBinomial{Float64}, LogLink}, Bool, Bool, Vector{Float64}, Base.OneTo{Int64}})\u001b[22m\u001b[0m\u001b[1m(\u001b[22m\u001b[90monethread\u001b[39m::\u001b[0mBool\u001b[0m\u001b[1m)\u001b[22m\n    \u001b[90m   @ \u001b[39m\u001b[35mGLMCopula\u001b[39m \u001b[90m./\u001b[39m\u001b[90m\u001b[4mthreadingconstructs.jl:85\u001b[24m\u001b[39m\n     [5] \u001b[0m\u001b[1m(::GLMCopula.var\"#175#threadsfor_fun#15\"{NBCopulaARModel{Float64, NegativeBinomial{Float64}, LogLink}, Bool, Bool, Vector{Float64}, Base.OneTo{Int64}})\u001b[22m\u001b[0m\u001b[1m(\u001b[22m\u001b[0m\u001b[1m)\u001b[22m\n    \u001b[90m   @ \u001b[39m\u001b[35mGLMCopula\u001b[39m \u001b[90m./\u001b[39m\u001b[90m\u001b[4mthreadingconstructs.jl:52\u001b[24m\u001b[39m\n    \n    \u001b[91mcaused by: \u001b[39mMethodError: no method matching plan_fft!(::Vector{ComplexF64}, ::UnitRange{Int64})\n    \u001b[0mClosest candidates are:\n    \u001b[0m  plan_fft!(::AbstractArray; kws...) at ~/.julia/packages/AbstractFFTs/Ih3rT/src/definitions.jl:52\n    Stacktrace:\n     [1] \u001b[0m\u001b[1mplan_fft!\u001b[22m\u001b[0m\u001b[1m(\u001b[22m\u001b[90mx\u001b[39m::\u001b[0mVector\u001b[90m{ComplexF64}\u001b[39m; \u001b[90mkws\u001b[39m::\u001b[0mBase.Pairs\u001b[90m{Symbol, Union{}, Tuple{}, NamedTuple{(), Tuple{}}}\u001b[39m\u001b[0m\u001b[1m)\u001b[22m\n    \u001b[90m   @ \u001b[39m\u001b[35mAbstractFFTs\u001b[39m \u001b[90m~/.julia/packages/AbstractFFTs/Ih3rT/src/\u001b[39m\u001b[90m\u001b[4mdefinitions.jl:52\u001b[24m\u001b[39m\n     [2] \u001b[0m\u001b[1mplan_fft!\u001b[22m\u001b[0m\u001b[1m(\u001b[22m\u001b[90mx\u001b[39m::\u001b[0mVector\u001b[90m{ComplexF64}\u001b[39m\u001b[0m\u001b[1m)\u001b[22m\n    \u001b[90m   @ \u001b[39m\u001b[35mAbstractFFTs\u001b[39m \u001b[90m~/.julia/packages/AbstractFFTs/Ih3rT/src/\u001b[39m\u001b[90m\u001b[4mdefinitions.jl:52\u001b[24m\u001b[39m\n     [3] \u001b[0m\u001b[1mfactorize\u001b[22m\u001b[0m\u001b[1m(\u001b[22m\u001b[90mA\u001b[39m::\u001b[0mSymmetricToeplitz\u001b[90m{Float64}\u001b[39m\u001b[0m\u001b[1m)\u001b[22m\n    \u001b[90m   @ \u001b[39m\u001b[36mToeplitzMatrices\u001b[39m \u001b[90m~/.julia/packages/ToeplitzMatrices/bWAGV/src/\u001b[39m\u001b[90m\u001b[4mToeplitzMatrices.jl:325\u001b[24m\u001b[39m\n     [4] \u001b[0m\u001b[1mmul!\u001b[22m\u001b[0m\u001b[1m(\u001b[22m\u001b[90mC\u001b[39m::\u001b[0mMatrix\u001b[90m{Float64}\u001b[39m, \u001b[90mA\u001b[39m::\u001b[0mSymmetricToeplitz\u001b[90m{Float64}\u001b[39m, \u001b[90mB\u001b[39m::\u001b[0mMatrix\u001b[90m{Float64}\u001b[39m, \u001b[90mα\u001b[39m::\u001b[0mFloat64, \u001b[90mβ\u001b[39m::\u001b[0mFloat64\u001b[0m\u001b[1m)\u001b[22m\n    \u001b[90m   @ \u001b[39m\u001b[36mToeplitzMatrices\u001b[39m \u001b[90m~/.julia/packages/ToeplitzMatrices/bWAGV/src/\u001b[39m\u001b[90m\u001b[4mToeplitzMatrices.jl:144\u001b[24m\u001b[39m\n     [5] \u001b[0m\u001b[1mloglikelihood!\u001b[22m\u001b[0m\u001b[1m(\u001b[22m\u001b[90mgc\u001b[39m::\u001b[0mNBCopulaARObs\u001b[90m{Float64, NegativeBinomial{Float64}, LogLink}\u001b[39m, \u001b[90mβ\u001b[39m::\u001b[0mVector\u001b[90m{Float64}\u001b[39m, \u001b[90mρ\u001b[39m::\u001b[0mFloat64, \u001b[90mσ2\u001b[39m::\u001b[0mFloat64, \u001b[90mr\u001b[39m::\u001b[0mFloat64, \u001b[90mneedgrad\u001b[39m::\u001b[0mBool, \u001b[90mneedhess\u001b[39m::\u001b[0mBool; \u001b[90mpenalized\u001b[39m::\u001b[0mBool\u001b[0m\u001b[1m)\u001b[22m\n    \u001b[90m   @ \u001b[39m\u001b[32mGLMCopula\u001b[39m \u001b[90m~/.julia/dev/GLMCopula/src/parameter_estimation/\u001b[39m\u001b[90m\u001b[4mNBCopulaAR.jl:294\u001b[24m\u001b[39m\n     [6] \u001b[0m\u001b[1mloglikelihood!\u001b[22m\n    \u001b[90m   @ \u001b[39m\u001b[90m~/.julia/dev/GLMCopula/src/parameter_estimation/\u001b[39m\u001b[90m\u001b[4mNBCopulaAR.jl:209\u001b[24m\u001b[39m\u001b[90m [inlined]\u001b[39m\n     [7] \u001b[0m\u001b[1mmacro expansion\u001b[22m\n    \u001b[90m   @ \u001b[39m\u001b[90m~/.julia/dev/GLMCopula/src/parameter_estimation/\u001b[39m\u001b[90m\u001b[4mNBCopulaAR.jl:330\u001b[24m\u001b[39m\u001b[90m [inlined]\u001b[39m\n     [8] \u001b[0m\u001b[1m(::GLMCopula.var\"#175#threadsfor_fun#15\"{NBCopulaARModel{Float64, NegativeBinomial{Float64}, LogLink}, Bool, Bool, Vector{Float64}, Base.OneTo{Int64}})\u001b[22m\u001b[0m\u001b[1m(\u001b[22m\u001b[90monethread\u001b[39m::\u001b[0mBool\u001b[0m\u001b[1m)\u001b[22m\n    \u001b[90m   @ \u001b[39m\u001b[32mGLMCopula\u001b[39m \u001b[90m./\u001b[39m\u001b[90m\u001b[4mthreadingconstructs.jl:85\u001b[24m\u001b[39m\n     [9] \u001b[0m\u001b[1m(::GLMCopula.var\"#175#threadsfor_fun#15\"{NBCopulaARModel{Float64, NegativeBinomial{Float64}, LogLink}, Bool, Bool, Vector{Float64}, Base.OneTo{Int64}})\u001b[22m\u001b[0m\u001b[1m(\u001b[22m\u001b[0m\u001b[1m)\u001b[22m\n    \u001b[90m   @ \u001b[39m\u001b[32mGLMCopula\u001b[39m \u001b[90m./\u001b[39m\u001b[90m\u001b[4mthreadingconstructs.jl:52\u001b[24m\u001b[39m",
     "output_type": "error",
     "traceback": [
      "TaskFailedException\n\n\u001b[91m    nested task error: \u001b[39mUndefVarError: fff not defined\n    Stacktrace:\n     [1] \u001b[0m\u001b[1mloglikelihood!\u001b[22m\u001b[0m\u001b[1m(\u001b[22m\u001b[90mgc\u001b[39m::\u001b[0mNBCopulaARObs\u001b[90m{Float64, NegativeBinomial{Float64}, LogLink}\u001b[39m, \u001b[90mβ\u001b[39m::\u001b[0mVector\u001b[90m{Float64}\u001b[39m, \u001b[90mρ\u001b[39m::\u001b[0mFloat64, \u001b[90mσ2\u001b[39m::\u001b[0mFloat64, \u001b[90mr\u001b[39m::\u001b[0mFloat64, \u001b[90mneedgrad\u001b[39m::\u001b[0mBool, \u001b[90mneedhess\u001b[39m::\u001b[0mBool; \u001b[90mpenalized\u001b[39m::\u001b[0mBool\u001b[0m\u001b[1m)\u001b[22m\n    \u001b[90m   @ \u001b[39m\u001b[35mGLMCopula\u001b[39m \u001b[90m~/.julia/dev/GLMCopula/src/parameter_estimation/\u001b[39m\u001b[90m\u001b[4mNBCopulaAR.jl:304\u001b[24m\u001b[39m\n     [2] \u001b[0m\u001b[1mloglikelihood!\u001b[22m\n    \u001b[90m   @ \u001b[39m\u001b[90m~/.julia/dev/GLMCopula/src/parameter_estimation/\u001b[39m\u001b[90m\u001b[4mNBCopulaAR.jl:209\u001b[24m\u001b[39m\u001b[90m [inlined]\u001b[39m\n     [3] \u001b[0m\u001b[1mmacro expansion\u001b[22m\n    \u001b[90m   @ \u001b[39m\u001b[90m~/.julia/dev/GLMCopula/src/parameter_estimation/\u001b[39m\u001b[90m\u001b[4mNBCopulaAR.jl:330\u001b[24m\u001b[39m\u001b[90m [inlined]\u001b[39m\n     [4] \u001b[0m\u001b[1m(::GLMCopula.var\"#175#threadsfor_fun#15\"{NBCopulaARModel{Float64, NegativeBinomial{Float64}, LogLink}, Bool, Bool, Vector{Float64}, Base.OneTo{Int64}})\u001b[22m\u001b[0m\u001b[1m(\u001b[22m\u001b[90monethread\u001b[39m::\u001b[0mBool\u001b[0m\u001b[1m)\u001b[22m\n    \u001b[90m   @ \u001b[39m\u001b[35mGLMCopula\u001b[39m \u001b[90m./\u001b[39m\u001b[90m\u001b[4mthreadingconstructs.jl:85\u001b[24m\u001b[39m\n     [5] \u001b[0m\u001b[1m(::GLMCopula.var\"#175#threadsfor_fun#15\"{NBCopulaARModel{Float64, NegativeBinomial{Float64}, LogLink}, Bool, Bool, Vector{Float64}, Base.OneTo{Int64}})\u001b[22m\u001b[0m\u001b[1m(\u001b[22m\u001b[0m\u001b[1m)\u001b[22m\n    \u001b[90m   @ \u001b[39m\u001b[35mGLMCopula\u001b[39m \u001b[90m./\u001b[39m\u001b[90m\u001b[4mthreadingconstructs.jl:52\u001b[24m\u001b[39m\n    \n    \u001b[91mcaused by: \u001b[39mMethodError: no method matching plan_fft!(::Vector{ComplexF64}, ::UnitRange{Int64})\n    \u001b[0mClosest candidates are:\n    \u001b[0m  plan_fft!(::AbstractArray; kws...) at ~/.julia/packages/AbstractFFTs/Ih3rT/src/definitions.jl:52\n    Stacktrace:\n     [1] \u001b[0m\u001b[1mplan_fft!\u001b[22m\u001b[0m\u001b[1m(\u001b[22m\u001b[90mx\u001b[39m::\u001b[0mVector\u001b[90m{ComplexF64}\u001b[39m; \u001b[90mkws\u001b[39m::\u001b[0mBase.Pairs\u001b[90m{Symbol, Union{}, Tuple{}, NamedTuple{(), Tuple{}}}\u001b[39m\u001b[0m\u001b[1m)\u001b[22m\n    \u001b[90m   @ \u001b[39m\u001b[35mAbstractFFTs\u001b[39m \u001b[90m~/.julia/packages/AbstractFFTs/Ih3rT/src/\u001b[39m\u001b[90m\u001b[4mdefinitions.jl:52\u001b[24m\u001b[39m\n     [2] \u001b[0m\u001b[1mplan_fft!\u001b[22m\u001b[0m\u001b[1m(\u001b[22m\u001b[90mx\u001b[39m::\u001b[0mVector\u001b[90m{ComplexF64}\u001b[39m\u001b[0m\u001b[1m)\u001b[22m\n    \u001b[90m   @ \u001b[39m\u001b[35mAbstractFFTs\u001b[39m \u001b[90m~/.julia/packages/AbstractFFTs/Ih3rT/src/\u001b[39m\u001b[90m\u001b[4mdefinitions.jl:52\u001b[24m\u001b[39m\n     [3] \u001b[0m\u001b[1mfactorize\u001b[22m\u001b[0m\u001b[1m(\u001b[22m\u001b[90mA\u001b[39m::\u001b[0mSymmetricToeplitz\u001b[90m{Float64}\u001b[39m\u001b[0m\u001b[1m)\u001b[22m\n    \u001b[90m   @ \u001b[39m\u001b[36mToeplitzMatrices\u001b[39m \u001b[90m~/.julia/packages/ToeplitzMatrices/bWAGV/src/\u001b[39m\u001b[90m\u001b[4mToeplitzMatrices.jl:325\u001b[24m\u001b[39m\n     [4] \u001b[0m\u001b[1mmul!\u001b[22m\u001b[0m\u001b[1m(\u001b[22m\u001b[90mC\u001b[39m::\u001b[0mMatrix\u001b[90m{Float64}\u001b[39m, \u001b[90mA\u001b[39m::\u001b[0mSymmetricToeplitz\u001b[90m{Float64}\u001b[39m, \u001b[90mB\u001b[39m::\u001b[0mMatrix\u001b[90m{Float64}\u001b[39m, \u001b[90mα\u001b[39m::\u001b[0mFloat64, \u001b[90mβ\u001b[39m::\u001b[0mFloat64\u001b[0m\u001b[1m)\u001b[22m\n    \u001b[90m   @ \u001b[39m\u001b[36mToeplitzMatrices\u001b[39m \u001b[90m~/.julia/packages/ToeplitzMatrices/bWAGV/src/\u001b[39m\u001b[90m\u001b[4mToeplitzMatrices.jl:144\u001b[24m\u001b[39m\n     [5] \u001b[0m\u001b[1mloglikelihood!\u001b[22m\u001b[0m\u001b[1m(\u001b[22m\u001b[90mgc\u001b[39m::\u001b[0mNBCopulaARObs\u001b[90m{Float64, NegativeBinomial{Float64}, LogLink}\u001b[39m, \u001b[90mβ\u001b[39m::\u001b[0mVector\u001b[90m{Float64}\u001b[39m, \u001b[90mρ\u001b[39m::\u001b[0mFloat64, \u001b[90mσ2\u001b[39m::\u001b[0mFloat64, \u001b[90mr\u001b[39m::\u001b[0mFloat64, \u001b[90mneedgrad\u001b[39m::\u001b[0mBool, \u001b[90mneedhess\u001b[39m::\u001b[0mBool; \u001b[90mpenalized\u001b[39m::\u001b[0mBool\u001b[0m\u001b[1m)\u001b[22m\n    \u001b[90m   @ \u001b[39m\u001b[32mGLMCopula\u001b[39m \u001b[90m~/.julia/dev/GLMCopula/src/parameter_estimation/\u001b[39m\u001b[90m\u001b[4mNBCopulaAR.jl:294\u001b[24m\u001b[39m\n     [6] \u001b[0m\u001b[1mloglikelihood!\u001b[22m\n    \u001b[90m   @ \u001b[39m\u001b[90m~/.julia/dev/GLMCopula/src/parameter_estimation/\u001b[39m\u001b[90m\u001b[4mNBCopulaAR.jl:209\u001b[24m\u001b[39m\u001b[90m [inlined]\u001b[39m\n     [7] \u001b[0m\u001b[1mmacro expansion\u001b[22m\n    \u001b[90m   @ \u001b[39m\u001b[90m~/.julia/dev/GLMCopula/src/parameter_estimation/\u001b[39m\u001b[90m\u001b[4mNBCopulaAR.jl:330\u001b[24m\u001b[39m\u001b[90m [inlined]\u001b[39m\n     [8] \u001b[0m\u001b[1m(::GLMCopula.var\"#175#threadsfor_fun#15\"{NBCopulaARModel{Float64, NegativeBinomial{Float64}, LogLink}, Bool, Bool, Vector{Float64}, Base.OneTo{Int64}})\u001b[22m\u001b[0m\u001b[1m(\u001b[22m\u001b[90monethread\u001b[39m::\u001b[0mBool\u001b[0m\u001b[1m)\u001b[22m\n    \u001b[90m   @ \u001b[39m\u001b[32mGLMCopula\u001b[39m \u001b[90m./\u001b[39m\u001b[90m\u001b[4mthreadingconstructs.jl:85\u001b[24m\u001b[39m\n     [9] \u001b[0m\u001b[1m(::GLMCopula.var\"#175#threadsfor_fun#15\"{NBCopulaARModel{Float64, NegativeBinomial{Float64}, LogLink}, Bool, Bool, Vector{Float64}, Base.OneTo{Int64}})\u001b[22m\u001b[0m\u001b[1m(\u001b[22m\u001b[0m\u001b[1m)\u001b[22m\n    \u001b[90m   @ \u001b[39m\u001b[32mGLMCopula\u001b[39m \u001b[90m./\u001b[39m\u001b[90m\u001b[4mthreadingconstructs.jl:52\u001b[24m\u001b[39m",
      "",
      "Stacktrace:",
      " [1] wait",
      "   @ ./task.jl:334 [inlined]",
      " [2] threading_run(func::Function)",
      "   @ Base.Threads ./threadingconstructs.jl:38",
      " [3] macro expansion",
      "   @ ./threadingconstructs.jl:97 [inlined]",
      " [4] loglikelihood!(gcm::NBCopulaARModel{Float64, NegativeBinomial{Float64}, LogLink}, needgrad::Bool, needhess::Bool)",
      "   @ GLMCopula ~/.julia/dev/GLMCopula/src/parameter_estimation/NBCopulaAR.jl:342",
      " [5] top-level scope",
      "   @ In[33]:1",
      " [6] eval",
      "   @ ./boot.jl:373 [inlined]",
      " [7] include_string(mapexpr::typeof(REPL.softscope), mod::Module, code::String, filename::String)",
      "   @ Base ./loading.jl:1196"
     ]
    }
   ],
   "source": [
    "loglikelihood!(gcm, true, true)"
   ]
  },
  {
   "cell_type": "code",
   "execution_count": null,
   "metadata": {
    "collapsed": true
   },
   "outputs": [],
   "source": []
  },
  {
   "cell_type": "code",
   "execution_count": null,
   "metadata": {
    "collapsed": true
   },
   "outputs": [],
   "source": []
  },
  {
   "cell_type": "markdown",
   "metadata": {},
   "source": [
    "**Conclusion:** After precompilation, NBAR takes ~25 seconds with single threaded BLAS and 8-thread loglikelihood evaluations."
   ]
  },
  {
   "cell_type": "markdown",
   "metadata": {
    "collapsed": true
   },
   "source": [
    "# Profile code"
   ]
  },
  {
   "cell_type": "code",
   "execution_count": null,
   "metadata": {
    "collapsed": true
   },
   "outputs": [],
   "source": [
    "using ProfileView\n",
    "BLAS.set_num_threads(1)\n",
    "\n",
    "@profview GLMCopula.fit!(gcm, maxBlockIter = 20);\n",
    "@profview GLMCopula.fit!(gcm, maxBlockIter = 20);"
   ]
  }
 ],
 "metadata": {
  "@webio": {
   "lastCommId": null,
   "lastKernelId": null
  },
  "kernelspec": {
   "display_name": "Julia 1.7.1",
   "language": "julia",
   "name": "julia-1.7"
  },
  "language_info": {
   "file_extension": ".jl",
   "mimetype": "application/julia",
   "name": "julia",
   "version": "1.7.1"
  },
  "toc": {
   "base_numbering": 1,
   "nav_menu": {},
   "number_sections": true,
   "sideBar": true,
   "skip_h1_title": false,
   "title_cell": "Table of Contents",
   "title_sidebar": "Contents",
   "toc_cell": false,
   "toc_position": {},
   "toc_section_display": true,
   "toc_window_display": false
  }
 },
 "nbformat": 4,
 "nbformat_minor": 2
}
