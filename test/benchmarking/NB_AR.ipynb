{
 "cells": [
  {
   "cell_type": "markdown",
   "metadata": {},
   "source": [
    "# Benchmarks for Neg Bin Auto-regressive model "
   ]
  },
  {
   "cell_type": "code",
   "execution_count": 1,
   "metadata": {
    "collapsed": false
   },
   "outputs": [],
   "source": [
    "using Revise\n",
    "using DataFrames, Random, GLM, GLMCopula\n",
    "using ForwardDiff, Test, LinearAlgebra\n",
    "using LinearAlgebra: BlasReal, copytri!\n",
    "using ToeplitzMatrices\n",
    "using BenchmarkTools"
   ]
  },
  {
   "cell_type": "markdown",
   "metadata": {
    "collapsed": true
   },
   "source": [
    "## 8 BLAS threads, single thread loglikelihood"
   ]
  },
  {
   "cell_type": "code",
   "execution_count": 2,
   "metadata": {
    "collapsed": false
   },
   "outputs": [
    {
     "data": {
      "text/plain": [
       "1"
      ]
     },
     "execution_count": 2,
     "metadata": {},
     "output_type": "execute_result"
    }
   ],
   "source": [
    "BLAS.set_num_threads(8)\n",
    "Threads.nthreads()"
   ]
  },
  {
   "cell_type": "code",
   "execution_count": 5,
   "metadata": {
    "collapsed": false
   },
   "outputs": [],
   "source": [
    "p_fixed = 3    # number of fixed effects, including intercept\n",
    "\n",
    "# true parameter values\n",
    "Random.seed!(12345)\n",
    "βtrue = rand(Uniform(-2, 2), p_fixed)\n",
    "rtrue = 10.0\n",
    "σ2true = [0.5]\n",
    "ρtrue = [0.5]\n",
    "\n",
    "function get_V(ρ, n)\n",
    "    vec = zeros(n)\n",
    "    vec[1] = 1.0\n",
    "    for i in 2:n\n",
    "        vec[i] = vec[i - 1] * ρ\n",
    "    end\n",
    "    V = ToeplitzMatrices.SymmetricToeplitz(vec)\n",
    "    V\n",
    "end\n",
    "\n",
    "#simulation parameters\n",
    "samplesize = 10000\n",
    "\n",
    "st = time()\n",
    "currentind = 1\n",
    "d = NegativeBinomial()\n",
    "link = LogLink()\n",
    "D = typeof(d)\n",
    "Link = typeof(link)\n",
    "T = Float64\n",
    "\n",
    "gcs = Vector{NBCopulaARObs{T, D, Link}}(undef, samplesize)\n",
    "\n",
    "ni = 25 #  number of observations per individual\n",
    "V = get_V(ρtrue[1], ni)\n",
    "\n",
    "# true Gamma\n",
    "Γ = σ2true[1] * V\n",
    "\n",
    "# for reproducibility I will simulate all the design matrices here\n",
    "Random.seed!(12345)\n",
    "X_samplesize = [randn(ni, p_fixed - 1) for i in 1:samplesize]\n",
    "\n",
    "for i in 1:samplesize\n",
    "    X = [ones(ni) X_samplesize[i]]\n",
    "    # X = [ones(ni) randn(ni, p - 1)]\n",
    "    # X = ones(ni, 1)\n",
    "    # y = Float64.(Y_nsample[i])\n",
    "    η = X * βtrue\n",
    "    μ = exp.(η)\n",
    "    p = rtrue ./ (μ .+ rtrue)\n",
    "    vecd = Vector{DiscreteUnivariateDistribution}(undef, ni)\n",
    "    vecd = [NegativeBinomial(rtrue, p[i]) for i in 1:ni]\n",
    "    nonmixed_multivariate_dist = NonMixedMultivariateDistribution(vecd, Γ)\n",
    "    # simuate single vector y\n",
    "    y = Vector{Float64}(undef, ni)\n",
    "    res = Vector{Float64}(undef, ni)\n",
    "    rand(nonmixed_multivariate_dist, y, res)\n",
    "    # push!(Ystack, y)\n",
    "    V = [ones(ni, ni)]\n",
    "    # V = [ones(ni, ni)]\n",
    "    gcs[i] = NBCopulaARObs(y, X, d, link)\n",
    "end\n",
    "\n",
    "# form model\n",
    "gcm = NBCopulaARModel(gcs);"
   ]
  },
  {
   "cell_type": "code",
   "execution_count": 4,
   "metadata": {
    "collapsed": false,
    "scrolled": true
   },
   "outputs": [
    {
     "name": "stdout",
     "output_type": "stream",
     "text": [
      "Initializing NegBin r to Poisson regression values\n",
      "initializing β using Newton's Algorithm under Independence Assumption\n",
      "initializing σ2 and ρ using method of moments\n",
      "initializing r using Newton update\n",
      "initializing variance parameters in CS model using mom\n",
      "Converging when tol ≤ 1.0e-8 (max block iter = 20)\n",
      "\n",
      "******************************************************************************\n",
      "This program contains Ipopt, a library for large-scale nonlinear optimization.\n",
      " Ipopt is released as open source code under the Eclipse Public License (EPL).\n",
      "         For more information visit https://github.com/coin-or/Ipopt\n",
      "******************************************************************************\n",
      "\n",
      "Block iter 1 r = 9.63, logl = -659876.38, tol = 659876.3844181958\n",
      "Block iter 2 r = 9.87, logl = -659849.9, tol = 4.013178849649874e-5\n",
      "Block iter 3 r = 9.89, logl = -659840.08, tol = 1.4888447019632147e-5\n",
      "Block iter 4 r = 9.91, logl = -659840.95, tol = 1.3245809250537448e-6\n",
      "Block iter 5 r = 9.96, logl = -659840.73, tol = 3.3603836102156463e-7\n",
      "Block iter 6 r = 9.95, logl = -659839.72, tol = 1.5373802639043203e-6\n",
      "Block iter 7 r = 9.94, logl = -659839.91, tol = 2.9393202737438934e-7\n",
      "Block iter 8 r = 9.92, logl = -659840.0, tol = 1.312235713428575e-7\n",
      "Block iter 9 r = 9.97, logl = -659840.8, tol = 1.218456117301108e-6\n",
      "Block iter 10 r = 9.96, logl = -659839.64, tol = 1.7524068759646176e-6\n",
      "Block iter 11 r = 9.94, logl = -659839.85, tol = 3.119674573542418e-7\n",
      "Block iter 12 r = 9.93, logl = -659839.96, tol = 1.6361099401115519e-7\n",
      "Block iter 13 r = 9.89, logl = -659840.33, tol = 5.648818330623958e-7\n",
      "Block iter 14 r = 9.91, logl = -659840.91, tol = 8.840167038848518e-7\n",
      "Block iter 15 r = 9.96, logl = -659840.74, tol = 2.7008778821484475e-7\n",
      "Block iter 16 r = 9.95, logl = -659839.71, tol = 1.5527112072797166e-6\n",
      "Block iter 17 r = 9.94, logl = -659839.91, tol = 2.974541228553708e-7\n",
      "Block iter 18 r = 9.92, logl = -659839.99, tol = 1.3003959976888205e-7\n",
      "Block iter 19 r = 9.97, logl = -659840.79, tol = 1.2129152618011429e-6\n",
      "Block iter 20 r = 9.96, logl = -659839.64, tol = 1.7432906817058216e-6\n",
      "101.473426 seconds (41.27 M allocations: 11.145 GiB, 2.06% gc time, 15.55% compilation time)\n"
     ]
    }
   ],
   "source": [
    "@time GLMCopula.fit!(gcm, maxBlockIter = 20, tol=1e-8);"
   ]
  },
  {
   "cell_type": "code",
   "execution_count": 6,
   "metadata": {
    "collapsed": false,
    "scrolled": true
   },
   "outputs": [
    {
     "name": "stdout",
     "output_type": "stream",
     "text": [
      "Initializing NegBin r to Poisson regression values\n",
      "initializing β using Newton's Algorithm under Independence Assumption\n",
      "initializing σ2 and ρ using method of moments\n",
      "initializing r using Newton update\n",
      "initializing variance parameters in CS model using mom\n",
      "Converging when tol ≤ 1.0e-8 (max block iter = 20)\n",
      "Block iter 1 r = 9.63, logl = -659876.38, tol = 659876.3844181958\n",
      "Block iter 2 r = 9.87, logl = -659849.9, tol = 4.013178849649874e-5\n",
      "Block iter 3 r = 9.89, logl = -659840.08, tol = 1.4888447019632147e-5\n",
      "Block iter 4 r = 9.91, logl = -659840.95, tol = 1.3245809250537448e-6\n",
      "Block iter 5 r = 9.96, logl = -659840.73, tol = 3.3603836102156463e-7\n",
      "Block iter 6 r = 9.95, logl = -659839.72, tol = 1.5373802639043203e-6\n",
      "Block iter 7 r = 9.94, logl = -659839.91, tol = 2.9393202737438934e-7\n",
      "Block iter 8 r = 9.92, logl = -659840.0, tol = 1.312235713428575e-7\n",
      "Block iter 9 r = 9.97, logl = -659840.8, tol = 1.218456117301108e-6\n",
      "Block iter 10 r = 9.96, logl = -659839.64, tol = 1.7524068759646176e-6\n",
      "Block iter 11 r = 9.94, logl = -659839.85, tol = 3.119674573542418e-7\n",
      "Block iter 12 r = 9.93, logl = -659839.96, tol = 1.6361099401115519e-7\n",
      "Block iter 13 r = 9.89, logl = -659840.33, tol = 5.648818330623958e-7\n",
      "Block iter 14 r = 9.91, logl = -659840.91, tol = 8.840167038848518e-7\n",
      "Block iter 15 r = 9.96, logl = -659840.74, tol = 2.7008778821484475e-7\n",
      "Block iter 16 r = 9.95, logl = -659839.71, tol = 1.5527112072797166e-6\n",
      "Block iter 17 r = 9.94, logl = -659839.91, tol = 2.974541228553708e-7\n",
      "Block iter 18 r = 9.92, logl = -659839.99, tol = 1.3003959976888205e-7\n",
      "Block iter 19 r = 9.97, logl = -659840.79, tol = 1.2129152618011429e-6\n",
      "Block iter 20 r = 9.96, logl = -659839.64, tol = 1.7432906817058216e-6\n",
      " 85.721411 seconds (2.17 M allocations: 8.981 GiB, 1.78% gc time, 0.01% compilation time)\n"
     ]
    }
   ],
   "source": [
    "@time GLMCopula.fit!(gcm, maxBlockIter = 20, tol=1e-8);"
   ]
  },
  {
   "cell_type": "markdown",
   "metadata": {},
   "source": [
    "After precompilation, NBAR takes ~85 seconds with multithreaded BLAS and single-threaded loglikelihood evaluations."
   ]
  },
  {
   "cell_type": "markdown",
   "metadata": {},
   "source": [
    "## 1 BLAS thread, 8 thread loglikelihood"
   ]
  },
  {
   "cell_type": "code",
   "execution_count": 2,
   "metadata": {
    "collapsed": false
   },
   "outputs": [
    {
     "data": {
      "text/plain": [
       "8"
      ]
     },
     "execution_count": 2,
     "metadata": {},
     "output_type": "execute_result"
    }
   ],
   "source": [
    "BLAS.set_num_threads(1)\n",
    "Threads.nthreads()"
   ]
  },
  {
   "cell_type": "code",
   "execution_count": 7,
   "metadata": {
    "collapsed": true
   },
   "outputs": [],
   "source": [
    "p_fixed = 3    # number of fixed effects, including intercept\n",
    "\n",
    "# true parameter values\n",
    "Random.seed!(12345)\n",
    "βtrue = rand(Uniform(-2, 2), p_fixed)\n",
    "rtrue = 10.0\n",
    "σ2true = [0.5]\n",
    "ρtrue = [0.5]\n",
    "\n",
    "function get_V(ρ, n)\n",
    "    vec = zeros(n)\n",
    "    vec[1] = 1.0\n",
    "    for i in 2:n\n",
    "        vec[i] = vec[i - 1] * ρ\n",
    "    end\n",
    "    V = ToeplitzMatrices.SymmetricToeplitz(vec)\n",
    "    V\n",
    "end\n",
    "\n",
    "#simulation parameters\n",
    "samplesize = 10000\n",
    "\n",
    "st = time()\n",
    "currentind = 1\n",
    "d = NegativeBinomial()\n",
    "link = LogLink()\n",
    "D = typeof(d)\n",
    "Link = typeof(link)\n",
    "T = Float64\n",
    "\n",
    "gcs = Vector{NBCopulaARObs{T, D, Link}}(undef, samplesize)\n",
    "\n",
    "ni = 25 #  number of observations per individual\n",
    "V = get_V(ρtrue[1], ni)\n",
    "\n",
    "# true Gamma\n",
    "Γ = σ2true[1] * V\n",
    "\n",
    "# for reproducibility I will simulate all the design matrices here\n",
    "Random.seed!(12345)\n",
    "X_samplesize = [randn(ni, p_fixed - 1) for i in 1:samplesize]\n",
    "\n",
    "for i in 1:samplesize\n",
    "    X = [ones(ni) X_samplesize[i]]\n",
    "    # X = [ones(ni) randn(ni, p - 1)]\n",
    "    # X = ones(ni, 1)\n",
    "    # y = Float64.(Y_nsample[i])\n",
    "    η = X * βtrue\n",
    "    μ = exp.(η)\n",
    "    p = rtrue ./ (μ .+ rtrue)\n",
    "    vecd = Vector{DiscreteUnivariateDistribution}(undef, ni)\n",
    "    vecd = [NegativeBinomial(rtrue, p[i]) for i in 1:ni]\n",
    "    nonmixed_multivariate_dist = NonMixedMultivariateDistribution(vecd, Γ)\n",
    "    # simuate single vector y\n",
    "    y = Vector{Float64}(undef, ni)\n",
    "    res = Vector{Float64}(undef, ni)\n",
    "    rand(nonmixed_multivariate_dist, y, res)\n",
    "    # push!(Ystack, y)\n",
    "    V = [ones(ni, ni)]\n",
    "    # V = [ones(ni, ni)]\n",
    "    gcs[i] = NBCopulaARObs(y, X, d, link)\n",
    "end\n",
    "\n",
    "# form model\n",
    "gcm = NBCopulaARModel(gcs);"
   ]
  },
  {
   "cell_type": "code",
   "execution_count": 8,
   "metadata": {
    "collapsed": false,
    "scrolled": false
   },
   "outputs": [
    {
     "name": "stdout",
     "output_type": "stream",
     "text": [
      "Initializing NegBin r to Poisson regression values\n",
      "initializing β using Newton's Algorithm under Independence Assumption\n",
      "initializing σ2 and ρ using method of moments\n",
      "initializing r using Newton update\n",
      "initializing variance parameters in CS model using mom\n",
      "Converging when tol ≤ 1.0e-8 (max block iter = 20)\n",
      "Block iter 1 r = 9.63, logl = -659876.38, tol = 659876.3844181958\n",
      "Block iter 2 r = 9.87, logl = -659849.9, tol = 4.0131788494028864e-5\n",
      "Block iter 3 r = 9.89, logl = -659840.08, tol = 1.4888447022102083e-5\n",
      "Block iter 4 r = 9.91, logl = -659840.95, tol = 1.3245809299937661e-6\n",
      "Block iter 5 r = 9.96, logl = -659840.73, tol = 3.3603836649086505e-7\n",
      "Block iter 6 r = 9.95, logl = -659839.72, tol = 1.5373802619636005e-6\n",
      "Block iter 7 r = 9.94, logl = -659839.91, tol = 2.939320238458003e-7\n",
      "Block iter 8 r = 9.92, logl = -659840.0, tol = 1.3122357416572785e-7\n",
      "Block iter 9 r = 9.97, logl = -659840.8, tol = 1.2184561255932867e-6\n",
      "Block iter 10 r = 9.96, logl = -659839.64, tol = 1.7524068854917753e-6\n",
      "Block iter 11 r = 9.94, logl = -659839.85, tol = 3.11967453825653e-7\n",
      "Block iter 12 r = 9.93, logl = -659839.96, tol = 1.6361100053904345e-7\n",
      "Block iter 13 r = 9.89, logl = -659840.33, tol = 5.648818282988016e-7\n",
      "Block iter 14 r = 9.91, logl = -659840.91, tol = 8.840167054727172e-7\n",
      "Block iter 15 r = 9.96, logl = -659840.74, tol = 2.7008778892056136e-7\n",
      "Block iter 16 r = 9.95, logl = -659839.71, tol = 1.55271120075184e-6\n",
      "Block iter 17 r = 9.94, logl = -659839.91, tol = 2.9745411209317394e-7\n",
      "Block iter 18 r = 9.92, logl = -659839.99, tol = 1.3003960206246471e-7\n",
      "Block iter 19 r = 9.97, logl = -659840.79, tol = 1.2129152665647397e-6\n",
      "Block iter 20 r = 9.96, logl = -659839.64, tol = 1.7432906804708152e-6\n",
      " 26.001013 seconds (2.21 M allocations: 8.984 GiB, 4.91% gc time)\n"
     ]
    }
   ],
   "source": [
    "@time GLMCopula.fit!(gcm, maxBlockIter = 20, tol=1e-8);"
   ]
  },
  {
   "cell_type": "code",
   "execution_count": 6,
   "metadata": {
    "collapsed": false,
    "scrolled": false
   },
   "outputs": [
    {
     "name": "stdout",
     "output_type": "stream",
     "text": [
      "Initializing NegBin r to Poisson regression values\n",
      "initializing β using Newton's Algorithm under Independence Assumption\n",
      "initializing σ2 and ρ using method of moments\n",
      "initializing r using Newton update\n",
      "initializing variance parameters in CS model using mom\n",
      "Converging when tol ≤ 1.0e-8 (max block iter = 20)\n",
      "Block iter 1 r = 9.63, logl = -659876.38, tol = 659876.3844181958\n",
      "Block iter 2 r = 9.87, logl = -659849.9, tol = 4.0131788494028864e-5\n",
      "Block iter 3 r = 9.89, logl = -659840.08, tol = 1.4888447022102083e-5\n",
      "Block iter 4 r = 9.91, logl = -659840.95, tol = 1.3245809299937661e-6\n",
      "Block iter 5 r = 9.96, logl = -659840.73, tol = 3.3603836649086505e-7\n",
      "Block iter 6 r = 9.95, logl = -659839.72, tol = 1.5373802619636005e-6\n",
      "Block iter 7 r = 9.94, logl = -659839.91, tol = 2.939320238458003e-7\n",
      "Block iter 8 r = 9.92, logl = -659840.0, tol = 1.3122357416572785e-7\n",
      "Block iter 9 r = 9.97, logl = -659840.8, tol = 1.2184561255932867e-6\n",
      "Block iter 10 r = 9.96, logl = -659839.64, tol = 1.7524068854917753e-6\n",
      "Block iter 11 r = 9.94, logl = -659839.85, tol = 3.11967453825653e-7\n",
      "Block iter 12 r = 9.93, logl = -659839.96, tol = 1.6361100053904345e-7\n",
      "Block iter 13 r = 9.89, logl = -659840.33, tol = 5.648818282988016e-7\n",
      "Block iter 14 r = 9.91, logl = -659840.91, tol = 8.840167054727172e-7\n",
      "Block iter 15 r = 9.96, logl = -659840.74, tol = 2.7008778892056136e-7\n",
      "Block iter 16 r = 9.95, logl = -659839.71, tol = 1.55271120075184e-6\n",
      "Block iter 17 r = 9.94, logl = -659839.91, tol = 2.9745411209317394e-7\n",
      "Block iter 18 r = 9.92, logl = -659839.99, tol = 1.3003960206246471e-7\n",
      "Block iter 19 r = 9.97, logl = -659840.79, tol = 1.2129152665647397e-6\n",
      "Block iter 20 r = 9.96, logl = -659839.64, tol = 1.7432906804708152e-6\n",
      " 25.174470 seconds (2.22 M allocations: 8.985 GiB, 5.47% gc time, 0.02% compilation time)\n"
     ]
    }
   ],
   "source": [
    "@time GLMCopula.fit!(gcm, maxBlockIter = 20, tol=1e-8);"
   ]
  },
  {
   "cell_type": "markdown",
   "metadata": {},
   "source": [
    "**Conclusion:** After precompilation, NBAR takes ~25 seconds with single threaded BLAS and 8-thread loglikelihood evaluations."
   ]
  },
  {
   "cell_type": "markdown",
   "metadata": {
    "collapsed": true
   },
   "source": [
    "# Profile code"
   ]
  },
  {
   "cell_type": "code",
   "execution_count": null,
   "metadata": {
    "collapsed": true
   },
   "outputs": [],
   "source": [
    "using ProfileView\n",
    "BLAS.set_num_threads(1)\n",
    "\n",
    "@profview GLMCopula.fit!(gcm, maxBlockIter = 20);\n",
    "@profview GLMCopula.fit!(gcm, maxBlockIter = 20);"
   ]
  }
 ],
 "metadata": {
  "@webio": {
   "lastCommId": null,
   "lastKernelId": null
  },
  "kernelspec": {
   "display_name": "Julia 1.7.1",
   "language": "julia",
   "name": "julia-1.7"
  },
  "language_info": {
   "file_extension": ".jl",
   "mimetype": "application/julia",
   "name": "julia",
   "version": "1.7.1"
  },
  "toc": {
   "base_numbering": 1,
   "nav_menu": {},
   "number_sections": true,
   "sideBar": true,
   "skip_h1_title": false,
   "title_cell": "Table of Contents",
   "title_sidebar": "Contents",
   "toc_cell": false,
   "toc_position": {},
   "toc_section_display": true,
   "toc_window_display": false
  }
 },
 "nbformat": 4,
 "nbformat_minor": 2
}
