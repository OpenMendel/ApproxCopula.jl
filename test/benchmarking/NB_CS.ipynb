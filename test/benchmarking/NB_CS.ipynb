{
 "cells": [
  {
   "cell_type": "markdown",
   "metadata": {},
   "source": [
    "# Benchmarks for Neg Bin Compound Symmetry model "
   ]
  },
  {
   "cell_type": "code",
   "execution_count": 1,
   "metadata": {
    "collapsed": false
   },
   "outputs": [
    {
     "name": "stderr",
     "output_type": "stream",
     "text": [
      "┌ Info: Precompiling GLMCopula [c47b6ae2-b804-4668-9957-eb588c99ffbc]\n",
      "└ @ Base loading.jl:1423\n"
     ]
    }
   ],
   "source": [
    "using Revise\n",
    "using DataFrames, Random, GLM, GLMCopula\n",
    "using ForwardDiff, Test, LinearAlgebra\n",
    "using LinearAlgebra: BlasReal, copytri!\n",
    "using ToeplitzMatrices\n",
    "using BenchmarkTools"
   ]
  },
  {
   "cell_type": "markdown",
   "metadata": {
    "collapsed": true
   },
   "source": [
    "## 8 BLAS threads, single thread loglikelihood"
   ]
  },
  {
   "cell_type": "code",
   "execution_count": 8,
   "metadata": {
    "collapsed": false
   },
   "outputs": [
    {
     "name": "stderr",
     "output_type": "stream",
     "text": [
      "WARNING: both Distributions and Convex export \"entropy\"; uses of it in module GLMCopula must be qualified\n"
     ]
    },
    {
     "data": {
      "text/plain": [
       "1"
      ]
     },
     "execution_count": 8,
     "metadata": {},
     "output_type": "execute_result"
    }
   ],
   "source": [
    "BLAS.set_num_threads(8)\n",
    "Threads.nthreads()"
   ]
  },
  {
   "cell_type": "code",
   "execution_count": 2,
   "metadata": {
    "collapsed": false
   },
   "outputs": [],
   "source": [
    "p_fixed = 3    # number of fixed effects, including intercept\n",
    "\n",
    "# true parameter values\n",
    "Random.seed!(12345)\n",
    "βtrue = rand(Uniform(-2, 2), p_fixed)\n",
    "rtrue = 10.0\n",
    "σ2true = [0.5]\n",
    "ρtrue = [0.5]\n",
    "\n",
    "function get_V(ρ, n)\n",
    "    vec = zeros(n)\n",
    "    vec[1] = 1.0\n",
    "    for i in 2:n\n",
    "        vec[i] = ρ\n",
    "    end\n",
    "    V = ToeplitzMatrices.SymmetricToeplitz(vec)\n",
    "    V\n",
    "end\n",
    "\n",
    "#simulation parameters\n",
    "samplesize = 10000\n",
    "\n",
    "d = NegativeBinomial()\n",
    "link = LogLink()\n",
    "D = typeof(d)\n",
    "Link = typeof(link)\n",
    "T = Float64\n",
    "gcs = Vector{NBCopulaCSObs{T, D, Link}}(undef, samplesize)\n",
    "ni = 5 #  number of observations per individual\n",
    "V = get_V(ρtrue[1], ni)\n",
    "\n",
    "# true Gamma\n",
    "Γ = σ2true[1] * V\n",
    "\n",
    "# for reproducibility I will simulate all the design matrices here\n",
    "Random.seed!(12345)\n",
    "X_samplesize = [randn(ni, p_fixed - 1) for i in 1:samplesize]\n",
    "\n",
    "for i in 1:samplesize\n",
    "    X = [ones(ni) X_samplesize[i]]\n",
    "    η = X * βtrue\n",
    "    μ = exp.(η)\n",
    "    p = rtrue ./ (μ .+ rtrue)\n",
    "    vecd = Vector{DiscreteUnivariateDistribution}(undef, ni)\n",
    "    vecd = [NegativeBinomial(rtrue, p[i]) for i in 1:ni]\n",
    "    nonmixed_multivariate_dist = NonMixedMultivariateDistribution(vecd, Γ)\n",
    "    # simuate single vector y\n",
    "    y = Vector{Float64}(undef, ni)\n",
    "    res = Vector{Float64}(undef, ni)\n",
    "    rand(nonmixed_multivariate_dist, y, res)\n",
    "    # push!(Ystack, y)\n",
    "    V = [ones(ni, ni)]\n",
    "    # V = [ones(ni, ni)]\n",
    "    gcs[i] = NBCopulaCSObs(y, X, d, link)\n",
    "end\n",
    "\n",
    "# form model\n",
    "gcm = NBCopulaCSModel(gcs);"
   ]
  },
  {
   "cell_type": "code",
   "execution_count": 3,
   "metadata": {
    "collapsed": false
   },
   "outputs": [
    {
     "name": "stdout",
     "output_type": "stream",
     "text": [
      "Initializing NegBin r to Poisson regression values\n",
      "initializing β using Newton's Algorithm under Independence Assumption\n",
      "initializing σ2 and ρ using method of moments\n",
      "initializing r using Newton update\n",
      "initializing variance parameters in CS model using mom\n",
      "Converging when tol ≤ 1.0e-7 (max block iter = 20)\n",
      "\n",
      "******************************************************************************\n",
      "This program contains Ipopt, a library for large-scale nonlinear optimization.\n",
      " Ipopt is released as open source code under the Eclipse Public License (EPL).\n",
      "         For more information visit https://github.com/coin-or/Ipopt\n",
      "******************************************************************************\n",
      "\n",
      "Block iter 1 r = 9.36, logl = -135079.84, tol = 135079.8380199566\n",
      "Block iter 2 r = 9.64, logl = -134953.96, tol = 0.0009318868886073533\n",
      "Block iter 3 r = 9.78, logl = -134949.18, tol = 3.537778806646794e-5\n",
      "Block iter 4 r = 9.85, logl = -134947.95, tol = 9.110528345101428e-6\n",
      "Block iter 5 r = 9.89, logl = -134947.65, tol = 2.2649776131051243e-6\n",
      "Block iter 6 r = 9.91, logl = -134947.58, tol = 5.415343318597491e-7\n",
      "Block iter 7 r = 9.92, logl = -134947.56, tol = 1.3470829950901994e-7\n",
      "Block iter 8 r = 9.92, logl = -134947.55, tol = 3.368865965956274e-8\n",
      " 30.829027 seconds (40.53 M allocations: 2.475 GiB, 2.76% gc time, 60.60% compilation time)\n"
     ]
    },
    {
     "data": {
      "text/plain": [
       "-134947.55180931065"
      ]
     },
     "execution_count": 3,
     "metadata": {},
     "output_type": "execute_result"
    }
   ],
   "source": [
    "@time GLMCopula.fit!(gcm)"
   ]
  },
  {
   "cell_type": "code",
   "execution_count": 6,
   "metadata": {
    "collapsed": false
   },
   "outputs": [
    {
     "name": "stdout",
     "output_type": "stream",
     "text": [
      "Initializing NegBin r to Poisson regression values\n",
      "initializing β using Newton's Algorithm under Independence Assumption\n",
      "initializing σ2 and ρ using method of moments\n",
      "initializing r using Newton update\n",
      "initializing variance parameters in CS model using mom\n",
      "Converging when tol ≤ 1.0e-7 (max block iter = 20)\n",
      "Block iter 1 r = 9.36, logl = -135079.84, tol = 135079.8380199566\n",
      "Block iter 2 r = 9.64, logl = -134953.96, tol = 0.0009318868886073533\n",
      "Block iter 3 r = 9.78, logl = -134949.18, tol = 3.537778806646794e-5\n",
      "Block iter 4 r = 9.85, logl = -134947.95, tol = 9.110528345101428e-6\n",
      "Block iter 5 r = 9.89, logl = -134947.65, tol = 2.2649776131051243e-6\n",
      "Block iter 6 r = 9.91, logl = -134947.58, tol = 5.415343318597491e-7\n",
      "Block iter 7 r = 9.92, logl = -134947.56, tol = 1.3470829950901994e-7\n",
      "Block iter 8 r = 9.92, logl = -134947.55, tol = 3.368865965956274e-8\n",
      " 10.156176 seconds (1.46 M allocations: 318.173 MiB, 0.59% gc time)\n"
     ]
    },
    {
     "data": {
      "text/plain": [
       "-134947.55180931065"
      ]
     },
     "execution_count": 6,
     "metadata": {},
     "output_type": "execute_result"
    }
   ],
   "source": [
    "@time GLMCopula.fit!(gcm)"
   ]
  },
  {
   "cell_type": "code",
   "execution_count": 16,
   "metadata": {
    "collapsed": false
   },
   "outputs": [
    {
     "name": "stdout",
     "output_type": "stream",
     "text": [
      "Initializing NegBin r to Poisson regression values\n",
      "initializing β using Newton's Algorithm under Independence Assumption\n",
      "initializing σ2 and ρ using method of moments\n",
      "initializing r using Newton update\n",
      "initializing variance parameters in CS model using mom\n",
      "Converging when tol ≤ 1.0e-7 (max block iter = 20)\n",
      "Block iter 1 r = 9.36, logl = -135079.84, tol = 135079.8380199566\n",
      "Block iter 2 r = 9.64, logl = -134953.96, tol = 0.0009318868886073533\n",
      "Block iter 3 r = 9.78, logl = -134949.18, tol = 3.537778806646794e-5\n",
      "Block iter 4 r = 9.85, logl = -134947.95, tol = 9.110528345101428e-6\n",
      "Block iter 5 r = 9.89, logl = -134947.65, tol = 2.2649776131051243e-6\n",
      "Block iter 6 r = 9.91, logl = -134947.58, tol = 5.415343318597491e-7\n",
      "Block iter 7 r = 9.92, logl = -134947.56, tol = 1.3470829950901994e-7\n",
      "Block iter 8 r = 9.92, logl = -134947.55, tol = 3.368865965956274e-8\n",
      " 10.572977 seconds (1.46 M allocations: 318.173 MiB, 0.72% gc time)\n"
     ]
    },
    {
     "data": {
      "text/plain": [
       "-134947.55180931065"
      ]
     },
     "execution_count": 16,
     "metadata": {},
     "output_type": "execute_result"
    }
   ],
   "source": [
    "@time GLMCopula.fit!(gcm)"
   ]
  },
  {
   "cell_type": "code",
   "execution_count": 6,
   "metadata": {
    "collapsed": false
   },
   "outputs": [
    {
     "name": "stdout",
     "output_type": "stream",
     "text": [
      "GLMCopula.confint(gcm) = [1.7767887435509857 1.7827801006505772; 1.4666396985495391 1.4724269853136651; -0.6422870042015203 -0.6359903278288017; 0.48386151485999535 0.5542264146640823; 0.4510377837567855 0.5515062782314301; 9.652162733595418 10.188855302885983]\n"
     ]
    },
    {
     "data": {
      "text/plain": [
       "6×2 Matrix{Float64}:\n",
       "  1.77679    1.78278\n",
       "  1.46664    1.47243\n",
       " -0.642287  -0.63599\n",
       "  0.483862   0.554226\n",
       "  0.451038   0.551506\n",
       "  9.65216   10.1889"
      ]
     },
     "execution_count": 6,
     "metadata": {},
     "output_type": "execute_result"
    }
   ],
   "source": [
    "loglikelihood!(gcm, true, true)\n",
    "vcov!(gcm)\n",
    "@show GLMCopula.confint(gcm)"
   ]
  },
  {
   "cell_type": "markdown",
   "metadata": {},
   "source": [
    "After precompilation, NBCS takes ~10 seconds with multithreaded BLAS and single-threaded loglikelihood evaluations."
   ]
  },
  {
   "cell_type": "markdown",
   "metadata": {},
   "source": [
    "## 1 BLAS thread, 8 thread loglikelihood"
   ]
  },
  {
   "cell_type": "code",
   "execution_count": 2,
   "metadata": {
    "collapsed": false
   },
   "outputs": [
    {
     "data": {
      "text/plain": [
       "8"
      ]
     },
     "execution_count": 2,
     "metadata": {},
     "output_type": "execute_result"
    }
   ],
   "source": [
    "BLAS.set_num_threads(1)\n",
    "Threads.nthreads()"
   ]
  },
  {
   "cell_type": "code",
   "execution_count": 5,
   "metadata": {
    "collapsed": true
   },
   "outputs": [],
   "source": [
    "p_fixed = 3    # number of fixed effects, including intercept\n",
    "\n",
    "# true parameter values\n",
    "Random.seed!(12345)\n",
    "βtrue = rand(Uniform(-2, 2), p_fixed)\n",
    "rtrue = 10.0\n",
    "σ2true = [0.5]\n",
    "ρtrue = [0.5]\n",
    "\n",
    "function get_V(ρ, n)\n",
    "    vec = zeros(n)\n",
    "    vec[1] = 1.0\n",
    "    for i in 2:n\n",
    "        vec[i] = ρ\n",
    "    end\n",
    "    V = ToeplitzMatrices.SymmetricToeplitz(vec)\n",
    "    V\n",
    "end\n",
    "\n",
    "#simulation parameters\n",
    "samplesize = 10000\n",
    "\n",
    "d = NegativeBinomial()\n",
    "link = LogLink()\n",
    "D = typeof(d)\n",
    "Link = typeof(link)\n",
    "T = Float64\n",
    "gcs = Vector{NBCopulaCSObs{T, D, Link}}(undef, samplesize)\n",
    "ni = 5 #  number of observations per individual\n",
    "V = get_V(ρtrue[1], ni)\n",
    "\n",
    "# true Gamma\n",
    "Γ = σ2true[1] * V\n",
    "\n",
    "# for reproducibility I will simulate all the design matrices here\n",
    "Random.seed!(12345)\n",
    "X_samplesize = [randn(ni, p_fixed - 1) for i in 1:samplesize]\n",
    "\n",
    "for i in 1:samplesize\n",
    "    X = [ones(ni) X_samplesize[i]]\n",
    "    η = X * βtrue\n",
    "    μ = exp.(η)\n",
    "    p = rtrue ./ (μ .+ rtrue)\n",
    "    vecd = Vector{DiscreteUnivariateDistribution}(undef, ni)\n",
    "    vecd = [NegativeBinomial(rtrue, p[i]) for i in 1:ni]\n",
    "    nonmixed_multivariate_dist = NonMixedMultivariateDistribution(vecd, Γ)\n",
    "    # simuate single vector y\n",
    "    y = Vector{Float64}(undef, ni)\n",
    "    res = Vector{Float64}(undef, ni)\n",
    "    rand(nonmixed_multivariate_dist, y, res)\n",
    "    # push!(Ystack, y)\n",
    "    V = [ones(ni, ni)]\n",
    "    # V = [ones(ni, ni)]\n",
    "    gcs[i] = NBCopulaCSObs(y, X, d, link)\n",
    "end\n",
    "\n",
    "# form model\n",
    "gcm = NBCopulaCSModel(gcs);"
   ]
  },
  {
   "cell_type": "code",
   "execution_count": 6,
   "metadata": {
    "collapsed": false
   },
   "outputs": [
    {
     "name": "stdout",
     "output_type": "stream",
     "text": [
      "Initializing NegBin r to Poisson regression values\n",
      "initializing β using Newton's Algorithm under Independence Assumption\n",
      "initializing σ2 and ρ using method of moments\n",
      "initializing r using Newton update\n",
      "initializing variance parameters in CS model using mom\n",
      "Converging when tol ≤ 1.0e-7 (max block iter = 20)\n",
      "Block iter 1 r = 9.36, logl = -135079.84, tol = 135079.83801995628\n",
      "Block iter 2 r = 9.64, logl = -134953.96, tol = 0.0009318868886049855\n",
      "Block iter 3 r = 9.78, logl = -134949.18, tol = 3.53777880686245e-5\n",
      "Block iter 4 r = 9.85, logl = -134947.95, tol = 9.110528346395428e-6\n",
      "Block iter 5 r = 9.89, logl = -134947.65, tol = 2.2649776072821646e-6\n",
      "Block iter 6 r = 9.91, logl = -134947.58, tol = 5.415343398393886e-7\n",
      "Block iter 7 r = 9.92, logl = -134947.56, tol = 1.3470829411736864e-7\n",
      "Block iter 8 r = 9.92, logl = -134947.55, tol = 3.368866030656108e-8\n",
      "  3.730381 seconds (1.48 M allocations: 320.162 MiB, 1.91% gc time)\n"
     ]
    },
    {
     "data": {
      "text/plain": [
       "-134947.55180931097"
      ]
     },
     "execution_count": 6,
     "metadata": {},
     "output_type": "execute_result"
    }
   ],
   "source": [
    "@time GLMCopula.fit!(gcm)"
   ]
  },
  {
   "cell_type": "code",
   "execution_count": 6,
   "metadata": {
    "collapsed": false
   },
   "outputs": [
    {
     "name": "stdout",
     "output_type": "stream",
     "text": [
      "Initializing NegBin r to Poisson regression values\n",
      "initializing β using Newton's Algorithm under Independence Assumption\n",
      "initializing σ2 and ρ using method of moments\n",
      "initializing r using Newton update\n",
      "initializing variance parameters in CS model using mom\n",
      "Converging when tol ≤ 1.0e-7 (max block iter = 20)\n",
      "Block iter 1 r = 9.36, logl = -135079.84, tol = 135079.83801995628\n",
      "Block iter 2 r = 9.64, logl = -134953.96, tol = 0.0009318868886049855\n",
      "Block iter 3 r = 9.78, logl = -134949.18, tol = 3.53777880686245e-5\n",
      "Block iter 4 r = 9.85, logl = -134947.95, tol = 9.110528346395428e-6\n",
      "Block iter 5 r = 9.89, logl = -134947.65, tol = 2.2649776074978297e-6\n",
      "Block iter 6 r = 9.91, logl = -134947.58, tol = 5.415343396237226e-7\n",
      "Block iter 7 r = 9.92, logl = -134947.56, tol = 1.3470829433303472e-7\n",
      "Block iter 8 r = 9.92, logl = -134947.55, tol = 3.3688660090894975e-8\n",
      "  3.715496 seconds (1.48 M allocations: 319.939 MiB, 2.43% gc time)\n"
     ]
    },
    {
     "data": {
      "text/plain": [
       "-134947.55180931094"
      ]
     },
     "execution_count": 6,
     "metadata": {},
     "output_type": "execute_result"
    }
   ],
   "source": [
    "@time GLMCopula.fit!(gcm)"
   ]
  },
  {
   "cell_type": "markdown",
   "metadata": {},
   "source": [
    "**Conclusion:** After precompilation, NBCS takes 3-4 seconds with single threaded BLAS and 8-thread loglikelihood evaluations."
   ]
  },
  {
   "cell_type": "markdown",
   "metadata": {
    "collapsed": true
   },
   "source": [
    "# Profile code"
   ]
  },
  {
   "cell_type": "code",
   "execution_count": 7,
   "metadata": {
    "collapsed": false
   },
   "outputs": [
    {
     "name": "stdout",
     "output_type": "stream",
     "text": [
      "Initializing NegBin r to Poisson regression values\n",
      "initializing β using Newton's Algorithm under Independence Assumption\n",
      "initializing σ2 and ρ using method of moments\n",
      "initializing r using Newton update\n",
      "initializing variance parameters in CS model using mom\n",
      "Converging when tol ≤ 1.0e-7 (max block iter = 20)\n",
      "Block iter 1 r = 10.34, logl = -134961.85, tol = 134961.8474570041\n",
      "Block iter 2 r = 10.12, logl = -134950.75, tol = 8.219646759139508e-5\n",
      "Block iter 3 r = 10.02, logl = -134948.3, tol = 1.8180216728862144e-5\n",
      "Block iter 4 r = 9.97, logl = -134947.73, tol = 4.2255156950002544e-6\n",
      "Block iter 5 r = 9.95, logl = -134947.59, tol = 1.0081195550213791e-6\n",
      "Block iter 6 r = 9.94, logl = -134947.56, tol = 2.416148674806441e-7\n",
      "Block iter 7 r = 9.93, logl = -134947.55, tol = 5.699377167472242e-8\n"
     ]
    }
   ],
   "source": [
    "using ProfileView\n",
    "BLAS.set_num_threads(1)\n",
    "@profview GLMCopula.fit!(gcm);"
   ]
  },
  {
   "cell_type": "code",
   "execution_count": null,
   "metadata": {
    "collapsed": true
   },
   "outputs": [],
   "source": []
  }
 ],
 "metadata": {
  "@webio": {
   "lastCommId": null,
   "lastKernelId": null
  },
  "kernelspec": {
   "display_name": "Julia 1.7.1",
   "language": "julia",
   "name": "julia-1.7"
  },
  "language_info": {
   "file_extension": ".jl",
   "mimetype": "application/julia",
   "name": "julia",
   "version": "1.7.1"
  },
  "toc": {
   "base_numbering": 1,
   "nav_menu": {},
   "number_sections": true,
   "sideBar": true,
   "skip_h1_title": false,
   "title_cell": "Table of Contents",
   "title_sidebar": "Contents",
   "toc_cell": false,
   "toc_position": {},
   "toc_section_display": true,
   "toc_window_display": false
  }
 },
 "nbformat": 4,
 "nbformat_minor": 2
}
