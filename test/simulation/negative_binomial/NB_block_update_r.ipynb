{
 "cells": [
  {
   "cell_type": "markdown",
   "metadata": {},
   "source": [
    "# Fit Neg Binomial model \n",
    "\n",
    "Taking inspiration from [GLM.jl](https://github.com/JuliaStats/GLM.jl/blob/master/src/negbinfit.jl#L68), we will:\n",
    "+ Initialize `r` with Poisson regression fit\n",
    "+ Perform block updates:\n",
    "    - Fix $r$, fit negative binomial copula until convergence\n",
    "    - Fix $\\beta$ and variance compoenent parameters, fit $r$ using Newton\n",
    "    - Repeat until convergence"
   ]
  },
  {
   "cell_type": "markdown",
   "metadata": {
    "collapsed": true
   },
   "source": [
    "# Block updates"
   ]
  },
  {
   "cell_type": "code",
   "execution_count": 1,
   "metadata": {
    "collapsed": false
   },
   "outputs": [
    {
     "name": "stderr",
     "output_type": "stream",
     "text": [
      "┌ Info: Precompiling GLMCopula [c47b6ae2-b804-4668-9957-eb588c99ffbc]\n",
      "└ @ Base loading.jl:1317\n"
     ]
    },
    {
     "data": {
      "text/plain": [
       "10000-element Vector{Vector{Float64}}:\n",
       " [49.0, 55.0, 38.0, 39.0, 38.0]\n",
       " [38.0, 30.0, 45.0, 27.0, 42.0]\n",
       " [49.0, 63.0, 49.0, 43.0, 35.0]\n",
       " [50.0, 40.0, 35.0, 61.0, 38.0]\n",
       " [27.0, 52.0, 51.0, 42.0, 39.0]\n",
       " [42.0, 47.0, 39.0, 68.0, 36.0]\n",
       " [33.0, 52.0, 38.0, 51.0, 50.0]\n",
       " [50.0, 44.0, 39.0, 47.0, 56.0]\n",
       " [49.0, 53.0, 56.0, 56.0, 48.0]\n",
       " [43.0, 44.0, 54.0, 45.0, 36.0]\n",
       " [44.0, 36.0, 34.0, 42.0, 29.0]\n",
       " [48.0, 37.0, 40.0, 35.0, 49.0]\n",
       " [44.0, 39.0, 43.0, 43.0, 33.0]\n",
       " ⋮\n",
       " [40.0, 31.0, 46.0, 47.0, 51.0]\n",
       " [38.0, 53.0, 58.0, 40.0, 36.0]\n",
       " [44.0, 53.0, 37.0, 57.0, 30.0]\n",
       " [36.0, 33.0, 40.0, 43.0, 37.0]\n",
       " [44.0, 35.0, 28.0, 35.0, 42.0]\n",
       " [42.0, 26.0, 51.0, 34.0, 42.0]\n",
       " [42.0, 33.0, 47.0, 36.0, 36.0]\n",
       " [43.0, 49.0, 37.0, 48.0, 55.0]\n",
       " [37.0, 32.0, 27.0, 34.0, 46.0]\n",
       " [50.0, 43.0, 38.0, 32.0, 32.0]\n",
       " [45.0, 43.0, 54.0, 47.0, 42.0]\n",
       " [41.0, 38.0, 38.0, 36.0, 63.0]"
      ]
     },
     "execution_count": 1,
     "metadata": {},
     "output_type": "execute_result"
    }
   ],
   "source": [
    "using Revise\n",
    "using DataFrames, Random, GLM, GLMCopula\n",
    "using ForwardDiff, Test, LinearAlgebra\n",
    "using LinearAlgebra: BlasReal, copytri!\n",
    "\n",
    "# Random.seed!(1234)\n",
    "Random.seed!(12345)\n",
    "\n",
    "# sample size\n",
    "N = 10000\n",
    "# observations per subject\n",
    "n = 5\n",
    "\n",
    "variance_component_1 = 0.1\n",
    "variance_component_2 = 0.5\n",
    "\n",
    "r = 100\n",
    "p = 0.7\n",
    "μ = r * (1-p) * inv(p)\n",
    "\n",
    "# var = r * (1-p) * inv(p^2)\n",
    "\n",
    "# true beta\n",
    "β_true = log(μ)\n",
    "\n",
    "dist = NegativeBinomial\n",
    "\n",
    "Γ = variance_component_1 * ones(n, n) + variance_component_2 * Matrix(I, n, n)\n",
    "vecd = [dist(r, p) for i in 1:n]\n",
    "nonmixed_multivariate_dist = NonMixedMultivariateDistribution(vecd, Γ)\n",
    "\n",
    "Y_Nsample = simulate_nobs_independent_vectors(nonmixed_multivariate_dist, N)"
   ]
  },
  {
   "cell_type": "code",
   "execution_count": 2,
   "metadata": {
    "collapsed": false
   },
   "outputs": [],
   "source": [
    "d = NegativeBinomial()\n",
    "link = LogLink()\n",
    "D = typeof(d)\n",
    "Link = typeof(link)\n",
    "T = Float64\n",
    "gcs = Vector{NBCopulaVCObs{T, D, Link}}(undef, N)\n",
    "for i in 1:N\n",
    "    y = Float64.(Y_Nsample[i])\n",
    "    X = ones(n, 1)\n",
    "    V = [ones(n, n), Matrix(I, n, n)]\n",
    "    gcs[i] = NBCopulaVCObs(y, X, V, d, link)\n",
    "end\n",
    "gcm = NBCopulaVCModel(gcs);\n",
    "# gcm.r[1] = r"
   ]
  },
  {
   "cell_type": "code",
   "execution_count": 3,
   "metadata": {
    "collapsed": false,
    "scrolled": true
   },
   "outputs": [
    {
     "name": "stdout",
     "output_type": "stream",
     "text": [
      "Initializing NegBin r to Poisson regression values\n",
      "initializing β using Newton's Algorithm under Independence Assumption\n",
      "1 0.0 -183674.41930971833 39999\n",
      "2 -183674.41930971833 -183674.41930971833 39999\n",
      "initializing variance components using MM-Algorithm\n",
      "gcm.Σ = [204.3806181911617, 1875.9810978049666]\n",
      "\n",
      "******************************************************************************\n",
      "This program contains Ipopt, a library for large-scale nonlinear optimization.\n",
      " Ipopt is released as open source code under the Eclipse Public License (EPL).\n",
      "         For more information visit http://projects.coin-or.org/Ipopt\n",
      "******************************************************************************\n",
      "\n",
      "initializing variance components using MM-Algorithm\n",
      "gcm.β = [3.759222409582371]\n",
      "gcm.r = [65.07138493632185]\n"
     ]
    },
    {
     "data": {
      "text/plain": [
       "1-element Vector{Float64}:\n",
       " 65.07138493632185"
      ]
     },
     "execution_count": 3,
     "metadata": {},
     "output_type": "execute_result"
    }
   ],
   "source": [
    "initialize_model!(gcm)\n",
    "@show gcm.β\n",
    "# @show gcm.Σ\n",
    "@show gcm.r"
   ]
  },
  {
   "cell_type": "code",
   "execution_count": 4,
   "metadata": {
    "collapsed": false
   },
   "outputs": [
    {
     "data": {
      "text/plain": [
       "3.757872325600888"
      ]
     },
     "execution_count": 4,
     "metadata": {},
     "output_type": "execute_result"
    }
   ],
   "source": [
    "β_true"
   ]
  },
  {
   "cell_type": "code",
   "execution_count": 5,
   "metadata": {
    "collapsed": false
   },
   "outputs": [
    {
     "data": {
      "text/plain": [
       "-178755.5541320383"
      ]
     },
     "execution_count": 5,
     "metadata": {},
     "output_type": "execute_result"
    }
   ],
   "source": [
    "GLMCopula.loglikelihood!(gcm, true, true)"
   ]
  },
  {
   "cell_type": "code",
   "execution_count": 6,
   "metadata": {
    "collapsed": false
   },
   "outputs": [
    {
     "name": "stdout",
     "output_type": "stream",
     "text": [
      "Converging when tol ≤ 0.0001 (max block iter = 100)\n",
      "Block iter 1 r = 66.26, logl = -178754.28, tol = 178754.2783140062\n",
      "Block iter 2 r = 67.57, logl = -178752.87, tol = 1.4126160731830169\n",
      "Block iter 3 r = 69.01, logl = -178751.25, tol = 1.6173761388636194\n",
      "Block iter 4 r = 70.56, logl = -178749.43, tol = 1.8178635479998775\n",
      "Block iter 5 r = 72.23, logl = -178747.43, tol = 1.9995644706650637\n",
      "Block iter 6 r = 73.99, logl = -178745.29, tol = 2.141556122689508\n",
      "Block iter 7 r = 75.83, logl = -178743.06, tol = 2.225642575445818\n",
      "Block iter 8 r = 77.77, logl = -178740.82, tol = 2.2392860002582893\n",
      "Block iter 9 r = 79.71, logl = -178738.57, tol = 2.2531988029077183\n",
      "Block iter 10 r = 81.61, logl = -178736.48, tol = 2.0906419749662746\n",
      "Block iter 11 r = 83.59, logl = -178734.6, tol = 1.8810184785397723\n",
      "Block iter 12 r = 85.32, logl = -178732.83, tol = 1.7728042982635088\n",
      "Block iter 13 r = 87.05, logl = -178731.46, tol = 1.3699814415886067\n",
      "Block iter 14 r = 88.98, logl = -178730.32, tol = 1.1363124516501557\n",
      "Block iter 15 r = 90.57, logl = -178729.17, tol = 1.15026562960702\n",
      "Block iter 16 r = 92.16, logl = -178728.46, tol = 0.7053568896080833\n",
      "Block iter 17 r = 93.08, logl = -178727.78, tol = 0.6842197391961236\n",
      "Block iter 18 r = 94.6, logl = -178727.79, tol = 0.011839701619464904\n",
      "Block iter 19 r = 95.67, logl = -178727.17, tol = 0.6246194835111964\n",
      "Block iter 20 r = 95.76, logl = -178726.97, tol = 0.2023215522058308\n",
      "Block iter 21 r = 95.82, logl = -178726.96, tol = 0.00968658848432824\n",
      "Block iter 22 r = 95.89, logl = -178726.95, tol = 0.009489192860201001\n",
      "Block iter 23 r = 95.94, logl = -178726.94, tol = 0.006965656793909147\n",
      "Block iter 24 r = 95.98, logl = -178726.93, tol = 0.004923081141896546\n",
      "Block iter 25 r = 96.0, logl = -178726.93, tol = 0.003521734237438068\n",
      "Block iter 26 r = 96.02, logl = -178726.93, tol = 0.0025422034959774464\n",
      "Block iter 27 r = 96.04, logl = -178726.93, tol = 0.0018476075783837587\n",
      "Block iter 28 r = 96.05, logl = -178726.93, tol = 0.0013495699095074087\n",
      "Block iter 29 r = 96.06, logl = -178726.92, tol = 0.000989498570561409\n",
      "Block iter 30 r = 96.06, logl = -178726.92, tol = 0.0007275307143572718\n",
      "Block iter 31 r = 96.07, logl = -178726.92, tol = 0.0005360264331102371\n",
      "Block iter 32 r = 96.07, logl = -178726.92, tol = 0.00039554358227178454\n",
      "Block iter 33 r = 96.07, logl = -178726.92, tol = 0.00029221351724117994\n",
      "Block iter 34 r = 96.08, logl = -178726.92, tol = 0.00021605979418382049\n",
      "Block iter 35 r = 96.08, logl = -178726.92, tol = 0.0001598447561264038\n",
      "Block iter 36 r = 96.08, logl = -178726.92, tol = 0.00011832010932266712\n",
      " 86.298978 seconds (727.08 M allocations: 47.507 GiB, 10.17% gc time, 0.36% compilation time)\n"
     ]
    },
    {
     "data": {
      "text/plain": [
       "-178726.92165966445"
      ]
     },
     "execution_count": 6,
     "metadata": {},
     "output_type": "execute_result"
    }
   ],
   "source": [
    "# default is Quasi-Newton\n",
    "@time GLMCopula.fit!(gcm)"
   ]
  },
  {
   "cell_type": "code",
   "execution_count": 7,
   "metadata": {
    "collapsed": false
   },
   "outputs": [
    {
     "name": "stdout",
     "output_type": "stream",
     "text": [
      "estimated β = 3.7577367229152956; true β = 3.757872325600888\n",
      "estimated variance component 1 = 0.08454686818715344; true variance component 1 = 0.1\n",
      "estimated variance component 2 = 0.3859156499415465; true variance component 2 = 0.5\n",
      "estimated r = 96.0785202732631; true r = 100\n"
     ]
    }
   ],
   "source": [
    "println(\"estimated β = $(gcm.β[1]); true β = $β_true\")\n",
    "println(\"estimated variance component 1 = $(gcm.Σ[1]); true variance component 1 = $variance_component_1\")\n",
    "println(\"estimated variance component 2 = $(gcm.Σ[2]); true variance component 2 = $variance_component_2\")\n",
    "println(\"estimated r = $(gcm.r[1]); true r = $r\");"
   ]
  },
  {
   "cell_type": "code",
   "execution_count": 7,
   "metadata": {
    "collapsed": false
   },
   "outputs": [
    {
     "name": "stdout",
     "output_type": "stream",
     "text": [
      "estimated β = 1.454827543795997; true β = 1.4552872326068422\n",
      "estimated variance component 1 = 0.10456366108069844; true variance component 1 = 0.1\n",
      "estimated variance component 2 = 0.44579361811367024; true variance component 2 = 0.5\n",
      "estimated r = 9.969213381836406; true r = 10\n"
     ]
    }
   ],
   "source": [
    "println(\"estimated β = $(gcm.β[1]); true β = $β_true\")\n",
    "println(\"estimated variance component 1 = $(gcm.Σ[1]); true variance component 1 = $variance_component_1\")\n",
    "println(\"estimated variance component 2 = $(gcm.Σ[2]); true variance component 2 = $variance_component_2\")\n",
    "println(\"estimated r = $(gcm.r[1]); true r = $r\");"
   ]
  },
  {
   "cell_type": "markdown",
   "metadata": {},
   "source": [
    "# Let's see how to optimally block update \n",
    "\n",
    "## 1 iteration each"
   ]
  },
  {
   "cell_type": "code",
   "execution_count": 58,
   "metadata": {
    "collapsed": false
   },
   "outputs": [
    {
     "name": "stdout",
     "output_type": "stream",
     "text": [
      "estimated β = 3.7640471229274333; true β = 3.757872325600888\n",
      "estimated variance component 1 = 0.010091096783959048; true variance component 1 = 0.1\n",
      "estimated variance component 2 = 0.010061528161806528; true variance component 2 = 0.5\n",
      "estimated r = 59.22108970817275; true r = 100\n"
     ]
    }
   ],
   "source": [
    "println(\"estimated β = $(gcm.β[1]); true β = $β_true\")\n",
    "println(\"estimated variance component 1 = $(gcm.Σ[1]); true variance component 1 = $variance_component_1\")\n",
    "println(\"estimated variance component 2 = $(gcm.Σ[2]); true variance component 2 = $variance_component_2\")\n",
    "println(\"estimated r = $(gcm.r[1]); true r = $r\");"
   ]
  },
  {
   "cell_type": "markdown",
   "metadata": {},
   "source": [
    "## 5 iteration each"
   ]
  },
  {
   "cell_type": "code",
   "execution_count": 45,
   "metadata": {
    "collapsed": false
   },
   "outputs": [
    {
     "name": "stdout",
     "output_type": "stream",
     "text": [
      "estimated β = 3.761120679347187; true β = 3.757872325600888\n",
      "estimated variance component 1 = 0.04200544450800426; true variance component 1 = 0.1\n",
      "estimated variance component 2 = 0.020655323963911138; true variance component 2 = 0.5\n",
      "estimated r = 64.2226158070482; true r = 100\n"
     ]
    }
   ],
   "source": [
    "println(\"estimated β = $(gcm.β[1]); true β = $β_true\")\n",
    "println(\"estimated variance component 1 = $(gcm.Σ[1]); true variance component 1 = $variance_component_1\")\n",
    "println(\"estimated variance component 2 = $(gcm.Σ[2]); true variance component 2 = $variance_component_2\")\n",
    "println(\"estimated r = $(gcm.r[1]); true r = $r\");"
   ]
  },
  {
   "cell_type": "markdown",
   "metadata": {},
   "source": [
    "## 10 iteration each"
   ]
  },
  {
   "cell_type": "code",
   "execution_count": 51,
   "metadata": {
    "collapsed": false
   },
   "outputs": [
    {
     "name": "stdout",
     "output_type": "stream",
     "text": [
      "estimated β = 3.7577367229152965; true β = 3.757872325600888\n",
      "estimated variance component 1 = 0.08454686818713725; true variance component 1 = 0.1\n",
      "estimated variance component 2 = 0.3859156499408988; true variance component 2 = 0.5\n",
      "estimated r = 96.07852027325903; true r = 100\n"
     ]
    }
   ],
   "source": [
    "println(\"estimated β = $(gcm.β[1]); true β = $β_true\")\n",
    "println(\"estimated variance component 1 = $(gcm.Σ[1]); true variance component 1 = $variance_component_1\")\n",
    "println(\"estimated variance component 2 = $(gcm.Σ[2]); true variance component 2 = $variance_component_2\")\n",
    "println(\"estimated r = $(gcm.r[1]); true r = $r\");"
   ]
  },
  {
   "cell_type": "markdown",
   "metadata": {},
   "source": [
    "## 1 IPOPT iter + complete Newton fit"
   ]
  },
  {
   "cell_type": "code",
   "execution_count": 65,
   "metadata": {
    "collapsed": false
   },
   "outputs": [
    {
     "name": "stdout",
     "output_type": "stream",
     "text": [
      "estimated β = 3.762274167394871; true β = 3.757872325600888\n",
      "estimated variance component 1 = 0.044468809218469255; true variance component 1 = 0.1\n",
      "estimated variance component 2 = 0.046354142614646404; true variance component 2 = 0.5\n",
      "estimated r = 67.38079696512439; true r = 100\n"
     ]
    }
   ],
   "source": [
    "println(\"estimated β = $(gcm.β[1]); true β = $β_true\")\n",
    "println(\"estimated variance component 1 = $(gcm.Σ[1]); true variance component 1 = $variance_component_1\")\n",
    "println(\"estimated variance component 2 = $(gcm.Σ[2]); true variance component 2 = $variance_component_2\")\n",
    "println(\"estimated r = $(gcm.r[1]); true r = $r\");"
   ]
  },
  {
   "cell_type": "markdown",
   "metadata": {},
   "source": [
    "## 5 IPOPT iter + complete Newton fit"
   ]
  },
  {
   "cell_type": "code",
   "execution_count": 72,
   "metadata": {
    "collapsed": false
   },
   "outputs": [
    {
     "name": "stdout",
     "output_type": "stream",
     "text": [
      "estimated β = 3.759537350779348; true β = 3.757872325600888\n",
      "estimated variance component 1 = 0.05312813376763176; true variance component 1 = 0.1\n",
      "estimated variance component 2 = 0.07266779547787298; true variance component 2 = 0.5\n",
      "estimated r = 70.93622181411288; true r = 100\n"
     ]
    }
   ],
   "source": [
    "println(\"estimated β = $(gcm.β[1]); true β = $β_true\")\n",
    "println(\"estimated variance component 1 = $(gcm.Σ[1]); true variance component 1 = $variance_component_1\")\n",
    "println(\"estimated variance component 2 = $(gcm.Σ[2]); true variance component 2 = $variance_component_2\")\n",
    "println(\"estimated r = $(gcm.r[1]); true r = $r\");"
   ]
  },
  {
   "cell_type": "markdown",
   "metadata": {},
   "source": [
    "## 10 IPOPT iter + complete Newton fit (this reached max iter count)"
   ]
  },
  {
   "cell_type": "code",
   "execution_count": 79,
   "metadata": {
    "collapsed": false
   },
   "outputs": [
    {
     "name": "stdout",
     "output_type": "stream",
     "text": [
      "estimated β = 3.757598085312234; true β = 3.757872325600888\n",
      "estimated variance component 1 = 0.08847643797375318; true variance component 1 = 0.1\n",
      "estimated variance component 2 = 0.418885780706873; true variance component 2 = 0.5\n",
      "estimated r = 98.01186301721411; true r = 100\n"
     ]
    }
   ],
   "source": [
    "println(\"estimated β = $(gcm.β[1]); true β = $β_true\")\n",
    "println(\"estimated variance component 1 = $(gcm.Σ[1]); true variance component 1 = $variance_component_1\")\n",
    "println(\"estimated variance component 2 = $(gcm.Σ[2]); true variance component 2 = $variance_component_2\")\n",
    "println(\"estimated r = $(gcm.r[1]); true r = $r\");"
   ]
  },
  {
   "cell_type": "markdown",
   "metadata": {},
   "source": [
    "## Copying GLM.jl"
   ]
  },
  {
   "cell_type": "code",
   "execution_count": 7,
   "metadata": {
    "collapsed": false
   },
   "outputs": [
    {
     "name": "stdout",
     "output_type": "stream",
     "text": [
      "estimated β = 1.456226847936331; true β = 1.4552872326068422\n",
      "estimated variance component 1 = 0.10133551134062899; true variance component 1 = 0.1\n",
      "estimated variance component 2 = 0.4371874111348784; true variance component 2 = 0.5\n",
      "estimated r = 9.69061414063922; true r = 10\n"
     ]
    }
   ],
   "source": [
    "println(\"estimated β = $(gcm.β[1]); true β = $β_true\")\n",
    "println(\"estimated variance component 1 = $(gcm.Σ[1]); true variance component 1 = $variance_component_1\")\n",
    "println(\"estimated variance component 2 = $(gcm.Σ[2]); true variance component 2 = $variance_component_2\")\n",
    "println(\"estimated r = $(gcm.r[1]); true r = $r\");"
   ]
  },
  {
   "cell_type": "code",
   "execution_count": 73,
   "metadata": {
    "collapsed": false
   },
   "outputs": [
    {
     "name": "stdout",
     "output_type": "stream",
     "text": [
      "estimated β = 3.758435534322703; true β = 3.757872325600888\n",
      "estimated variance component 1 = 0.0934850410967605; true variance component 1 = 0.1\n",
      "estimated variance component 2 = 0.3827355454688751; true variance component 2 = 0.5\n",
      "estimated r = 94.45211633725886; true r = 100\n"
     ]
    }
   ],
   "source": [
    "println(\"estimated β = $(gcm.β[1]); true β = $β_true\")\n",
    "println(\"estimated variance component 1 = $(gcm.Σ[1]); true variance component 1 = $variance_component_1\")\n",
    "println(\"estimated variance component 2 = $(gcm.Σ[2]); true variance component 2 = $variance_component_2\")\n",
    "println(\"estimated r = $(gcm.r[1]); true r = $r\");"
   ]
  },
  {
   "cell_type": "code",
   "execution_count": null,
   "metadata": {
    "collapsed": true
   },
   "outputs": [],
   "source": []
  }
 ],
 "metadata": {
  "@webio": {
   "lastCommId": null,
   "lastKernelId": null
  },
  "kernelspec": {
   "display_name": "Julia 1.6.0",
   "language": "julia",
   "name": "julia-1.6"
  },
  "language_info": {
   "file_extension": ".jl",
   "mimetype": "application/julia",
   "name": "julia",
   "version": "1.6.0"
  },
  "toc": {
   "base_numbering": 1,
   "nav_menu": {},
   "number_sections": true,
   "sideBar": true,
   "skip_h1_title": false,
   "title_cell": "Table of Contents",
   "title_sidebar": "Contents",
   "toc_cell": false,
   "toc_position": {},
   "toc_section_display": true,
   "toc_window_display": false
  }
 },
 "nbformat": 4,
 "nbformat_minor": 2
}
