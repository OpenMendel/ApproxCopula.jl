{
 "cells": [
  {
   "cell_type": "markdown",
   "metadata": {},
   "source": [
    "# Fit Neg Binomial model \n",
    "\n",
    "Taking inspiration from [GLM.jl](https://github.com/JuliaStats/GLM.jl/blob/master/src/negbinfit.jl#L68), we will:\n",
    "+ Initialize `r` with Poisson regression fit\n",
    "+ Perform block updates:\n",
    "    - Fix $r$, fit negative binomial copula until convergence\n",
    "    - Fix $\\beta$ and variance compoenent parameters, fit $r$ using Newton\n",
    "    - Repeat until convergence\n",
    "    \n",
    "# No block updates (only initialize $r$)"
   ]
  },
  {
   "cell_type": "code",
   "execution_count": 1,
   "metadata": {
    "collapsed": false
   },
   "outputs": [
    {
     "data": {
      "text/plain": [
       "10000-element Vector{Vector{Float64}}:\n",
       " [2.0, 1.0, 2.0, 6.0, 1.0]\n",
       " [8.0, 5.0, 3.0, 5.0, 2.0]\n",
       " [2.0, 4.0, 4.0, 10.0, 2.0]\n",
       " [4.0, 3.0, 7.0, 4.0, 8.0]\n",
       " [10.0, 10.0, 9.0, 1.0, 1.0]\n",
       " [4.0, 4.0, 3.0, 4.0, 3.0]\n",
       " [9.0, 6.0, 5.0, 4.0, 4.0]\n",
       " [6.0, 1.0, 3.0, 6.0, 0.0]\n",
       " [4.0, 7.0, 3.0, 3.0, 3.0]\n",
       " [5.0, 5.0, 3.0, 6.0, 2.0]\n",
       " [7.0, 6.0, 5.0, 2.0, 3.0]\n",
       " [3.0, 2.0, 7.0, 1.0, 4.0]\n",
       " [2.0, 3.0, 2.0, 2.0, 6.0]\n",
       " ⋮\n",
       " [2.0, 3.0, 1.0, 4.0, 2.0]\n",
       " [1.0, 3.0, 6.0, 2.0, 2.0]\n",
       " [2.0, 1.0, 3.0, 5.0, 1.0]\n",
       " [2.0, 3.0, 1.0, 1.0, 5.0]\n",
       " [2.0, 3.0, 4.0, 4.0, 10.0]\n",
       " [2.0, 3.0, 6.0, 2.0, 6.0]\n",
       " [2.0, 3.0, 1.0, 8.0, 2.0]\n",
       " [8.0, 0.0, 6.0, 3.0, 5.0]\n",
       " [5.0, 3.0, 2.0, 3.0, 6.0]\n",
       " [5.0, 6.0, 6.0, 9.0, 5.0]\n",
       " [0.0, 2.0, 1.0, 4.0, 3.0]\n",
       " [3.0, 6.0, 1.0, 3.0, 3.0]"
      ]
     },
     "execution_count": 1,
     "metadata": {},
     "output_type": "execute_result"
    }
   ],
   "source": [
    "using Revise\n",
    "using DataFrames, Random, GLM, GLMCopula\n",
    "using ForwardDiff, Test, LinearAlgebra\n",
    "using LinearAlgebra: BlasReal, copytri!\n",
    "\n",
    "Random.seed!(1234)\n",
    "\n",
    "# sample size\n",
    "N = 10000\n",
    "# observations per subject\n",
    "n = 5\n",
    "\n",
    "variance_component_1 = 0.1\n",
    "variance_component_2 = 0.5\n",
    "\n",
    "r = 10\n",
    "p = 0.7\n",
    "μ = r * (1-p) * inv(p)\n",
    "\n",
    "# var = r * (1-p) * inv(p^2)\n",
    "\n",
    "# true beta\n",
    "β_true = log(μ)\n",
    "\n",
    "dist = NegativeBinomial\n",
    "\n",
    "Γ = variance_component_1 * ones(n, n) + variance_component_2 * Matrix(I, n, n)\n",
    "vecd = [dist(r, p) for i in 1:n]\n",
    "nonmixed_multivariate_dist = NonMixedMultivariateDistribution(vecd, Γ)\n",
    "\n",
    "Y_Nsample = simulate_nobs_independent_vectors(nonmixed_multivariate_dist, N)"
   ]
  },
  {
   "cell_type": "code",
   "execution_count": 2,
   "metadata": {
    "collapsed": false
   },
   "outputs": [],
   "source": [
    "d = NegativeBinomial()\n",
    "link = LogLink()\n",
    "D = typeof(d)\n",
    "Link = typeof(link)\n",
    "T = Float64\n",
    "gcs = Vector{NBCopulaVCObs{T, D, Link}}(undef, N)\n",
    "for i in 1:N\n",
    "    y = Float64.(Y_Nsample[i])\n",
    "    X = ones(n, 1)\n",
    "    V = [ones(n, n), Matrix(I, n, n)]\n",
    "    gcs[i] = NBCopulaVCObs(y, X, V, d, link)\n",
    "end\n",
    "gcm = NBCopulaVCModel(gcs);\n",
    "# gcm.r[1] = r"
   ]
  },
  {
   "cell_type": "code",
   "execution_count": 3,
   "metadata": {
    "collapsed": false,
    "scrolled": true
   },
   "outputs": [
    {
     "name": "stdout",
     "output_type": "stream",
     "text": [
      "Initializing NegBin r to Poisson regression values\n",
      "initializing β using Newton's Algorithm under Independence Assumption\n",
      "1 0.0 -124348.27381045274 39999\n",
      "2 -124348.27381045274 -124348.27381045274 39999\n",
      "initializing variance components using MM-Algorithm\n",
      "gcm.Σ = [220.41649889527125, 1469.9374107479462]\n",
      "gcm.θ = [-7.661495143796714, 219.50634778984383, 1476.6337551112845]\n",
      "gcm.θ = [1.505897960765723, 220.41649889527125, 1469.9374107479462]\n",
      "gcm.θ = [1.505897960765723, 220.41649889527125, 1469.9374107479462]\n",
      "\n",
      "******************************************************************************\n",
      "This program contains Ipopt, a library for large-scale nonlinear optimization.\n",
      " Ipopt is released as open source code under the Eclipse Public License (EPL).\n",
      "         For more information visit http://projects.coin-or.org/Ipopt\n",
      "******************************************************************************\n",
      "\n",
      "This is Ipopt version 3.12.10, running with linear solver mumps.\n",
      "NOTE: Other linear solvers might be more efficient (see Ipopt documentation).\n",
      "\n",
      "Starting derivative checker for first derivatives.\n",
      "\n",
      "* grad_f[          2] = -1.0690268173997708e+01    ~ -1.0696004699550134e+01  [ 5.363e-04]\n",
      "* grad_f[          3] =  1.5875460095252381e+00    ~  1.5871099510289668e+00  [ 2.748e-04]\n",
      "\n",
      "Derivative checker detected 2 error(s).\n",
      "\n",
      "Number of nonzeros in equality constraint Jacobian...:        0\n",
      "Number of nonzeros in inequality constraint Jacobian.:        0\n",
      "Number of nonzeros in Lagrangian Hessian.............:        4\n",
      "\n",
      "Total number of variables............................:        3\n",
      "                     variables with only lower bounds:        2\n",
      "                variables with lower and upper bounds:        0\n",
      "                     variables with only upper bounds:        0\n",
      "Total number of equality constraints.................:        0\n",
      "Total number of inequality constraints...............:        0\n",
      "        inequality constraints with only lower bounds:        0\n",
      "   inequality constraints with lower and upper bounds:        0\n",
      "        inequality constraints with only upper bounds:        0\n",
      "\n",
      "iter    objective    inf_pr   inf_du lg(mu)  ||d||  lg(rg) alpha_du alpha_pr  ls\n",
      "   0  1.2066936e+05 0.00e+00 1.00e+02   0.0 0.00e+00    -  0.00e+00 0.00e+00   0\n",
      "gcm.θ = [1.4759706900810012, 221.4335181624756, 1476.7212944798569]\n",
      "   1  1.2059115e+05 0.00e+00 4.21e+00 -11.0 6.78e+00    -  9.88e-01 1.00e+00f  1\n",
      "gcm.θ = [1.4746786297105736, 213.7625138791737, 1477.8374096409646]\n",
      "   2  1.2059061e+05 0.00e+00 3.14e-01  -9.1 7.67e+00  -4.0 9.90e-01 1.00e+00f  1\n",
      "gcm.θ = [1.4745823275701657, 204.73762423952945, 1479.0802535707558]\n",
      "   3  1.2059036e+05 0.00e+00 2.31e-01 -10.8 9.02e+00  -4.5 9.90e-01 1.00e+00f  1\n",
      "gcm.θ = [1.4745118755712394, 280.6214249857931, 2051.0793827151683]\n",
      "   4  1.2059027e+05 0.00e+00 6.77e-02 -11.0 5.72e+02    -  1.00e+00 1.00e+00f  1\n",
      "gcm.θ = [1.474491189870109, 406.4175132000916, 2987.1004694873004]\n",
      "   5  1.2059022e+05 0.00e+00 3.18e-02 -11.0 9.36e+02    -  1.00e+00 1.00e+00f  1\n",
      "gcm.θ = [1.4744814682929728, 597.7962750942688, 4408.39278607385]\n",
      "   6  1.2059018e+05 0.00e+00 1.91e-02 -11.0 1.42e+03    -  1.00e+00 1.00e+00f  1\n",
      "gcm.θ = [1.4744756518886215, 886.0729554360387, 6548.056913757825]\n",
      "   7  1.2059016e+05 0.00e+00 1.21e-02 -11.0 2.14e+03    -  1.00e+00 1.00e+00f  1\n",
      "gcm.θ = [1.4744719636331909, 1319.12648852423, 9761.61731088428]\n",
      "   8  1.2059014e+05 0.00e+00 7.84e-03 -11.0 3.21e+03    -  1.00e+00 1.00e+00f  1\n",
      "gcm.θ = [1.4744695712400506, 1969.0668686331617, 14584.240224406723]\n",
      "   9  1.2059013e+05 0.00e+00 5.15e-03 -11.0 4.82e+03    -  1.00e+00 1.00e+00f  1\n",
      "gcm.θ = [1.4744680012372928, 2944.1837322271135, 21819.475030077316]\n",
      "iter    objective    inf_pr   inf_du lg(mu)  ||d||  lg(rg) alpha_du alpha_pr  ls\n",
      "  10  1.2059012e+05 0.00e+00 3.40e-03 -11.0 7.24e+03    -  1.00e+00 1.00e+00f  1\n",
      "gcm.θ = [1.4744669639885273, 4406.974076788216, 32673.045996971854]\n",
      "  11  1.2059012e+05 0.00e+00 2.26e-03 -11.0 1.09e+04    -  1.00e+00 1.00e+00f  1\n",
      "gcm.θ = [1.4744662758972578, 6601.217976811076, 48953.760239760515]\n",
      "  12  1.2059011e+05 0.00e+00 1.50e-03 -11.0 1.63e+04    -  1.00e+00 1.00e+00f  1\n",
      "gcm.θ = [1.474465818246346, 9892.606029267605, 73374.95904034241]\n",
      "  13  1.2059011e+05 0.00e+00 9.99e-04 -11.0 2.44e+04    -  1.00e+00 1.00e+00f  1\n",
      "gcm.θ = [1.4744655133525453, 14829.686834267222, 110006.73531381163]\n",
      "  14  1.2059011e+05 0.00e+00 6.66e-04 -11.0 3.66e+04    -  1.00e+00 1.00e+00f  1\n",
      "gcm.θ = [1.4744653100056433, 22235.291672006068, 164954.2821509246]\n",
      "  15  1.2059011e+05 0.00e+00 4.45e-04 -11.0 5.49e+04    -  1.00e+00 1.00e+00f  1\n",
      "gcm.θ = [1.4744651742869659, 33343.67216091644, 247375.41856255045]\n",
      "  16  1.2059011e+05 0.00e+00 2.97e-04 -11.0 8.24e+04    -  1.00e+00 1.00e+00f  1\n",
      "gcm.θ = [1.4744650836616746, 50006.20783400277, 371006.88508482673]\n",
      "  17  1.2059011e+05 0.00e+00 1.98e-04 -11.0 1.24e+05    -  1.00e+00 1.00e+00f  1\n",
      "gcm.θ = [1.4744650231279275, 74999.95938088052, 556453.7262630381]\n",
      "  18  1.2059011e+05 0.00e+00 1.33e-04 -11.0 1.85e+05    -  1.00e+00 1.00e+00f  1\n",
      "gcm.θ = [1.4744649826854086, 112490.43103040104, 834622.8632982281]\n",
      "  19  1.2059011e+05 0.00e+00 8.86e-05 -11.0 2.78e+05    -  1.00e+00 1.00e+00f  1\n",
      "gcm.θ = [1.474464955661914, 168725.75558996925, 1.2518737602944504e6]\n",
      "iter    objective    inf_pr   inf_du lg(mu)  ||d||  lg(rg) alpha_du alpha_pr  ls\n",
      "  20  1.2059011e+05 0.00e+00 5.92e-05 -11.0 4.17e+05    -  1.00e+00 1.00e+00f  1\n",
      "gcm.θ = [1.4744649376032153, 253077.334565859, 1.8777396940835633e6]\n",
      "  21  1.2059011e+05 0.00e+00 3.96e-05 -11.0 6.26e+05    -  1.00e+00 1.00e+00f  1\n",
      "gcm.θ = [1.474464925534477, 379599.39702908497, 2.8164992613665718e6]\n",
      "  22  1.2059011e+05 0.00e+00 2.64e-05 -11.0 9.39e+05    -  1.00e+00 1.00e+00f  1\n",
      "gcm.θ = [1.4744649174683984, 569365.2838641317, 4.224510978991806e6]\n",
      "  23  1.2059011e+05 0.00e+00 1.77e-05 -11.0 1.41e+06    -  1.00e+00 1.00e+00f  1\n",
      "gcm.θ = [1.4744649120772024, 853951.8821175866, 6.336066850019702e6]\n",
      "  24  1.2059011e+05 0.00e+00 1.18e-05 -11.0 2.11e+06    -  1.00e+00 1.00e+00f  1\n",
      "gcm.θ = [1.4744649084735093, 1.280621587401541e6, 9.501841130764928e6]\n",
      "  25  1.2059011e+05 0.00e+00 7.90e-06 -11.0 3.17e+06    -  1.00e+00 1.00e+00f  1\n",
      "gcm.θ = [1.4744649060642916, 1.9199047328351084e6, 1.4245149916706413e7]\n",
      "  26  1.2059011e+05 0.00e+00 5.28e-06 -11.0 4.74e+06    -  1.00e+00 1.00e+00f  1\n",
      "gcm.θ = [1.4744649044530806, 2.876381067455209e6, 2.1341946818144225e7]\n",
      "  27  1.2059011e+05 0.00e+00 3.53e-06 -11.0 7.10e+06    -  1.00e+00 1.00e+00f  1\n",
      "gcm.θ = [1.4744649033747588, 4.302853123611009e6, 3.1925985549725946e7]\n",
      "  28  1.2059011e+05 0.00e+00 2.37e-06 -11.0 1.06e+07    -  1.00e+00 1.00e+00f  1\n",
      "gcm.θ = [1.4744649026519179, 6.414879239837641e6, 4.7596651090466e7]\n",
      "  29  1.2059011e+05 0.00e+00 1.59e-06 -11.0 1.57e+07    -  1.00e+00 1.00e+00f  1\n",
      "gcm.θ = [1.474464902165642, 9.491407568572072e6, 7.042366393065242e7]\n",
      "iter    objective    inf_pr   inf_du lg(mu)  ||d||  lg(rg) alpha_du alpha_pr  ls\n",
      "  30  1.2059011e+05 0.00e+00 1.08e-06 -11.0 2.28e+07    -  1.00e+00 1.00e+00f  1\n",
      "gcm.θ = [1.47446490183608, 1.3812686016807366e7, 1.0248638867064205e8]\n",
      "  31  1.2059011e+05 0.00e+00 7.42e-07 -11.0 3.21e+07    -  1.00e+00 1.00e+00f  1\n",
      "gcm.θ = [1.4744649016095843, 1.940900806071222e7, 1.440095956475193e8]\n",
      "  32  1.2059011e+05 0.00e+00 5.21e-07 -11.0 4.15e+07    -  1.00e+00 1.00e+00f  1\n",
      "gcm.θ = [1.4744649014507107, 2.547719273037997e7, 1.8903389883665895e8]\n",
      "  33  1.2059011e+05 0.00e+00 3.67e-07 -11.0 4.50e+07    -  1.00e+00 1.00e+00f  1\n",
      "gcm.θ = [1.4744649013388498, 2.999006208017254e7, 2.225181816905194e8]\n",
      "  34  1.2059011e+05 0.00e+00 2.31e-07 -11.0 3.35e+07    -  1.00e+00 1.00e+00f  1\n",
      "gcm.θ = [1.4744649012683073, 3.1568479404219292e7, 2.342296169092002e8]\n",
      "  35  1.2059011e+05 0.00e+00 9.20e-08 -11.0 1.17e+07    -  1.00e+00 1.00e+00f  1\n",
      "gcm.θ = [1.47446490124024, 3.170592260525567e7, 2.3524940891689315e8]\n",
      "  36  1.2059011e+05 0.00e+00 1.28e-08 -11.0 1.02e+06    -  1.00e+00 1.00e+00f  1\n",
      "gcm.θ = [1.4744649012363356, 3.1707123877578005e7, 2.3525832205249426e8]\n",
      "reference_theta is slightly positive at feasible point.  Setting it to -2.220446e-16\n",
      "  37  1.2059011e+05 0.00e+00 7.76e-10 -11.0 8.91e+03    -  1.00e+00 1.00e+00f  1\n",
      "\n",
      "Number of Iterations....: 37\n",
      "\n",
      "                                   (scaled)                 (unscaled)\n",
      "Objective...............:   2.3950449155733340e+03    1.2059010729731162e+05\n",
      "Dual infeasibility......:   7.7563472812850543e-10    3.9053077660611279e-08\n",
      "Constraint violation....:   0.0000000000000000e+00    0.0000000000000000e+00\n",
      "Complementarity.........:   3.6020124742486943e-11    1.8136072018170261e-09\n",
      "Overall NLP error.......:   7.7563472812850543e-10    3.9053077660611279e-08\n",
      "\n",
      "\n",
      "Number of objective function evaluations             = 38\n",
      "Number of objective gradient evaluations             = 38\n",
      "Number of equality constraint evaluations            = 0\n",
      "Number of inequality constraint evaluations          = 0\n",
      "Number of equality constraint Jacobian evaluations   = 0\n",
      "Number of inequality constraint Jacobian evaluations = 0\n",
      "Number of Lagrangian Hessian evaluations             = 37\n",
      "Total CPU secs in IPOPT (w/o function evaluations)   =      0.996\n",
      "Total CPU secs in NLP function evaluations           =     13.164\n",
      "\n",
      "EXIT: Optimal Solution Found.\n",
      "new_r = 1.5751951843665748\n",
      "new_r = 2.3474788798965878\n",
      "new_r = 3.283252608339534\n",
      "new_r = 4.264712430365772\n",
      "new_r = 5.0711618969572765\n",
      "new_r = 5.483270016402628\n",
      "new_r = 5.564779778816293\n",
      "new_r = 5.567428886655667\n",
      "new_r = 5.5674315702168\n",
      "new_r = 5.567431570219433\n",
      "initializing variance components using MM-Algorithm\n",
      "r initialized to be 5.567431570219433\n",
      "huehuehue gcm.Σ = [0.03705144076130508, 0.0012437476268561552]\n",
      "gcm.β = [1.4744649012363356]\n",
      "gcm.r = [5.567431570219433]\n"
     ]
    },
    {
     "data": {
      "text/plain": [
       "1-element Vector{Float64}:\n",
       " 5.567431570219433"
      ]
     },
     "execution_count": 3,
     "metadata": {},
     "output_type": "execute_result"
    }
   ],
   "source": [
    "initialize_model!(gcm)\n",
    "@show gcm.β\n",
    "# @show gcm.Σ\n",
    "@show gcm.r"
   ]
  },
  {
   "cell_type": "code",
   "execution_count": 4,
   "metadata": {
    "collapsed": false
   },
   "outputs": [
    {
     "data": {
      "text/plain": [
       "1.4552872326068422"
      ]
     },
     "execution_count": 4,
     "metadata": {},
     "output_type": "execute_result"
    }
   ],
   "source": [
    "β_true"
   ]
  },
  {
   "cell_type": "markdown",
   "metadata": {},
   "source": [
    "Initialize β and σ2, here I just copy the solution for β and σ2 from MixedModels.jl over"
   ]
  },
  {
   "cell_type": "code",
   "execution_count": 5,
   "metadata": {
    "collapsed": false
   },
   "outputs": [
    {
     "data": {
      "text/plain": [
       "-119242.84209292504"
      ]
     },
     "execution_count": 5,
     "metadata": {},
     "output_type": "execute_result"
    }
   ],
   "source": [
    "GLMCopula.loglikelihood!(gcm, true, true)"
   ]
  },
  {
   "cell_type": "markdown",
   "metadata": {},
   "source": [
    "## fitting routine"
   ]
  },
  {
   "cell_type": "code",
   "execution_count": 6,
   "metadata": {
    "collapsed": false,
    "scrolled": true
   },
   "outputs": [
    {
     "name": "stdout",
     "output_type": "stream",
     "text": [
      "This is Ipopt version 3.12.10, running with linear solver mumps.\n",
      "NOTE: Other linear solvers might be more efficient (see Ipopt documentation).\n",
      "\n",
      "Number of nonzeros in equality constraint Jacobian...:        0\n",
      "Number of nonzeros in inequality constraint Jacobian.:        0\n",
      "Number of nonzeros in Lagrangian Hessian.............:        0\n",
      "\n",
      "Total number of variables............................:        3\n",
      "                     variables with only lower bounds:        2\n",
      "                variables with lower and upper bounds:        0\n",
      "                     variables with only upper bounds:        0\n",
      "Total number of equality constraints.................:        0\n",
      "Total number of inequality constraints...............:        0\n",
      "        inequality constraints with only lower bounds:        0\n",
      "   inequality constraints with lower and upper bounds:        0\n",
      "        inequality constraints with only upper bounds:        0\n",
      "\n",
      "iter    objective    inf_pr   inf_du lg(mu)  ||d||  lg(rg) alpha_du alpha_pr  ls\n",
      "   0  1.1924383e+05 0.00e+00 8.97e+01   0.0 0.00e+00    -  0.00e+00 0.00e+00   0\n",
      "   1  1.1923729e+05 0.00e+00 7.24e+01  -1.1 8.97e+01    -  1.00e+00 3.79e-04f 11\n",
      "   2  1.1921925e+05 0.00e+00 2.21e+01  -6.9 1.26e-02    -  1.00e+00 1.00e+00f  1\n",
      "   3  1.1921603e+05 0.00e+00 1.58e+01  -7.7 5.38e-03    -  1.00e+00 8.70e-01f  1\n",
      "   4  1.1921589e+05 0.00e+00 6.37e+00  -8.9 2.36e-03    -  1.00e+00 2.45e-01f  1\n",
      "   5  1.1921577e+05 0.00e+00 2.46e-01 -10.1 1.56e-03    -  1.00e+00 9.66e-01f  1\n",
      "   6  1.1921577e+05 0.00e+00 3.74e-02  -7.2 4.43e-05    -  1.00e+00 1.00e+00f  1\n",
      "   7  1.1921577e+05 0.00e+00 1.01e-02  -9.0 7.47e-06    -  1.00e+00 1.00e+00f  1\n",
      "   8  1.1921577e+05 0.00e+00 1.20e-03 -11.0 2.48e-06    -  1.00e+00 1.00e+00f  1\n",
      "   9  1.1921577e+05 0.00e+00 4.47e-05 -11.0 1.27e-07    -  1.00e+00 1.00e+00f  1\n",
      "iter    objective    inf_pr   inf_du lg(mu)  ||d||  lg(rg) alpha_du alpha_pr  ls\n",
      "  10  1.1921577e+05 0.00e+00 6.19e-06 -11.0 2.61e-09    -  1.00e+00 5.00e-01f  2\n",
      "  11  1.1921577e+05 0.00e+00 4.64e-06 -11.0 1.28e-09    -  1.00e+00 2.50e-01f  3\n",
      "  12  1.1921577e+05 0.00e+00 4.50e-06 -11.0 9.57e-10    -  1.00e+00 3.12e-02f  6\n",
      "  13  1.1921577e+05 0.00e+00 5.10e-10 -11.0 9.27e-10    -  1.00e+00 1.00e+00f  1\n",
      "\n",
      "Number of Iterations....: 13\n",
      "\n",
      "                                   (scaled)                 (unscaled)\n",
      "Objective...............:   5.4300780104356882e+03    1.1921576591096410e+05\n",
      "Dual infeasibility......:   5.0994586331398750e-10    1.1195711470676825e-08\n",
      "Constraint violation....:   0.0000000000000000e+00    0.0000000000000000e+00\n",
      "Complementarity.........:   9.9999999999999994e-12    2.1954705932741964e-10\n",
      "Overall NLP error.......:   5.0994586331398750e-10    1.1195711470676825e-08\n",
      "\n",
      "\n",
      "Number of objective function evaluations             = 48\n",
      "Number of objective gradient evaluations             = 14\n",
      "Number of equality constraint evaluations            = 0\n",
      "Number of inequality constraint evaluations          = 0\n",
      "Number of equality constraint Jacobian evaluations   = 0\n",
      "Number of inequality constraint Jacobian evaluations = 0\n",
      "Number of Lagrangian Hessian evaluations             = 0\n",
      "Total CPU secs in IPOPT (w/o function evaluations)   =      0.155\n",
      "Total CPU secs in NLP function evaluations           =      8.427\n",
      "\n",
      "EXIT: Optimal Solution Found.\n",
      "  2.309199 seconds (19.61 M allocations: 1.311 GiB, 8.20% gc time, 13.32% compilation time)\n"
     ]
    },
    {
     "data": {
      "text/plain": [
       "-119215.76591601499"
      ]
     },
     "execution_count": 6,
     "metadata": {},
     "output_type": "execute_result"
    }
   ],
   "source": [
    "# Quasi-Newton\n",
    "@time GLMCopula.fit!(gcm, IpoptSolver(print_level = 5, max_iter = 100,\n",
    "#     tol = 10^-6, mu_strategy = \"adaptive\", mu_oracle = \"loqo\",\n",
    "#     mehrotra_algorithm=\"yes\", warm_start_init_point=\"yes\",\n",
    "    hessian_approximation = \"limited-memory\"))"
   ]
  },
  {
   "cell_type": "code",
   "execution_count": 7,
   "metadata": {
    "collapsed": false
   },
   "outputs": [
    {
     "name": "stdout",
     "output_type": "stream",
     "text": [
      "estimated β = 1.4983340299072807; true β = 1.4552872326068422\n",
      "estimated variance component 1 = 0.026531702645107527; true variance component 1 = 0.1\n",
      "estimated variance component 2 = 0.0; true variance component 2 = 0.5\n",
      "estimated r = 5.567431570219433; true r = 10\n"
     ]
    }
   ],
   "source": [
    "println(\"estimated β = $(gcm.β[1]); true β = $β_true\")\n",
    "println(\"estimated variance component 1 = $(gcm.Σ[1]); true variance component 1 = $variance_component_1\")\n",
    "println(\"estimated variance component 2 = $(gcm.Σ[2]); true variance component 2 = $variance_component_2\")\n",
    "println(\"estimated r = $(gcm.r[1]); true r = $r\");"
   ]
  },
  {
   "cell_type": "markdown",
   "metadata": {
    "collapsed": true
   },
   "source": [
    "# Block updates"
   ]
  },
  {
   "cell_type": "code",
   "execution_count": null,
   "metadata": {
    "collapsed": true
   },
   "outputs": [],
   "source": [
    "using Revise\n",
    "using DataFrames, Random, GLM, GLMCopula\n",
    "using ForwardDiff, Test, LinearAlgebra\n",
    "using LinearAlgebra: BlasReal, copytri!\n",
    "\n",
    "Random.seed!(1234)\n",
    "\n",
    "# sample size\n",
    "N = 10000\n",
    "# observations per subject\n",
    "n = 5\n",
    "\n",
    "variance_component_1 = 0.1\n",
    "variance_component_2 = 0.5\n",
    "\n",
    "r = 10\n",
    "p = 0.7\n",
    "μ = r * (1-p) * inv(p)\n",
    "\n",
    "# var = r * (1-p) * inv(p^2)\n",
    "\n",
    "# true beta\n",
    "β_true = log(μ)\n",
    "\n",
    "dist = NegativeBinomial\n",
    "\n",
    "Γ = variance_component_1 * ones(n, n) + variance_component_2 * Matrix(I, n, n)\n",
    "vecd = [dist(r, p) for i in 1:n]\n",
    "nonmixed_multivariate_dist = NonMixedMultivariateDistribution(vecd, Γ)\n",
    "\n",
    "Y_Nsample = simulate_nobs_independent_vectors(nonmixed_multivariate_dist, N)"
   ]
  },
  {
   "cell_type": "code",
   "execution_count": null,
   "metadata": {
    "collapsed": true
   },
   "outputs": [],
   "source": [
    "d = NegativeBinomial()\n",
    "link = LogLink()\n",
    "D = typeof(d)\n",
    "Link = typeof(link)\n",
    "T = Float64\n",
    "gcs = Vector{NBCopulaVCObs{T, D, Link}}(undef, N)\n",
    "for i in 1:N\n",
    "    y = Float64.(Y_Nsample[i])\n",
    "    X = ones(n, 1)\n",
    "    V = [ones(n, n), Matrix(I, n, n)]\n",
    "    gcs[i] = NBCopulaVCObs(y, X, V, d, link)\n",
    "end\n",
    "gcm = NBCopulaVCModel(gcs);\n",
    "# gcm.r[1] = r"
   ]
  },
  {
   "cell_type": "code",
   "execution_count": null,
   "metadata": {
    "collapsed": true
   },
   "outputs": [],
   "source": [
    "initialize_model!(gcm)\n",
    "@show gcm.β\n",
    "# @show gcm.Σ\n",
    "@show gcm.r"
   ]
  },
  {
   "cell_type": "code",
   "execution_count": null,
   "metadata": {
    "collapsed": true
   },
   "outputs": [],
   "source": [
    "β_true"
   ]
  },
  {
   "cell_type": "code",
   "execution_count": null,
   "metadata": {
    "collapsed": true
   },
   "outputs": [],
   "source": [
    "GLMCopula.loglikelihood!(gcm, true, true)"
   ]
  },
  {
   "cell_type": "code",
   "execution_count": null,
   "metadata": {
    "collapsed": true
   },
   "outputs": [],
   "source": [
    "# Quasi-Newton\n",
    "@time GLMCopula.fit!(gcm, IpoptSolver(print_level = 5, max_iter = 100,\n",
    "#     tol = 10^-6, mu_strategy = \"adaptive\", mu_oracle = \"loqo\",\n",
    "#     mehrotra_algorithm=\"yes\", warm_start_init_point=\"yes\",\n",
    "    hessian_approximation = \"limited-memory\"))"
   ]
  },
  {
   "cell_type": "code",
   "execution_count": null,
   "metadata": {
    "collapsed": true
   },
   "outputs": [],
   "source": [
    "println(\"estimated β = $(gcm.β[1]); true β = $β_true\")\n",
    "println(\"estimated variance component 1 = $(gcm.Σ[1]); true variance component 1 = $variance_component_1\")\n",
    "println(\"estimated variance component 2 = $(gcm.Σ[2]); true variance component 2 = $variance_component_2\")\n",
    "println(\"estimated r = $(gcm.r[1]); true r = $r\");"
   ]
  }
 ],
 "metadata": {
  "@webio": {
   "lastCommId": null,
   "lastKernelId": null
  },
  "kernelspec": {
   "display_name": "Julia 1.6.0",
   "language": "julia",
   "name": "julia-1.6"
  },
  "language_info": {
   "file_extension": ".jl",
   "mimetype": "application/julia",
   "name": "julia",
   "version": "1.6.0"
  },
  "toc": {
   "base_numbering": 1,
   "nav_menu": {},
   "number_sections": true,
   "sideBar": true,
   "skip_h1_title": false,
   "title_cell": "Table of Contents",
   "title_sidebar": "Contents",
   "toc_cell": false,
   "toc_position": {},
   "toc_section_display": true,
   "toc_window_display": false
  }
 },
 "nbformat": 4,
 "nbformat_minor": 2
}
