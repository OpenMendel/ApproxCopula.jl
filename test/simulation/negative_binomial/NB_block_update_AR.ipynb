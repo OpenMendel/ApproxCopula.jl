{
 "cells": [
  {
   "cell_type": "markdown",
   "metadata": {},
   "source": [
    "# Fit Neg Binomial Auto-regressive model \n",
    "\n",
    "Taking inspiration from [GLM.jl](https://github.com/JuliaStats/GLM.jl/blob/master/src/negbinfit.jl#L68), we will:\n",
    "+ Initialize `r` with Poisson regression fit\n",
    "+ Perform block updates:\n",
    "    - Fix $r$, fit negative binomial AR parameters ($\\beta, \\rho, \\sigma^2$) for 10 iterations\n",
    "    - Fix $\\beta, \\rho, \\sigma^2$, fit $r$ using Newton for 10 iterations\n",
    "    - Repeat until convergence"
   ]
  },
  {
   "cell_type": "markdown",
   "metadata": {
    "collapsed": true
   },
   "source": [
    "# Block updates"
   ]
  },
  {
   "cell_type": "code",
   "execution_count": 50,
   "metadata": {
    "collapsed": false
   },
   "outputs": [],
   "source": [
    "using Revise\n",
    "using DataFrames, Random, GLM, GLMCopula\n",
    "using ForwardDiff, Test, LinearAlgebra\n",
    "using LinearAlgebra: BlasReal, copytri!\n",
    "using ToeplitzMatrices\n",
    "\n",
    "function get_V(ρ, n)\n",
    "    vec = zeros(n)\n",
    "    vec[1] = 1.0\n",
    "    for i in 2:n\n",
    "        vec[i] = vec[i - 1] * ρ\n",
    "    end\n",
    "    V = ToeplitzMatrices.SymmetricToeplitz(vec)\n",
    "    V\n",
    "end\n",
    "\n",
    "# simulation parameters\n",
    "Random.seed!(12345)\n",
    "N = 10000            # sample size\n",
    "n = 50                # observations per subject\n",
    "p = 3                # number of fixed effects, including intercept\n",
    "σ2true = 0.1         # true σ2\n",
    "ρtrue = 0.8          # true ρ\n",
    "r = 100              # true dispersion parameter in NB model\n",
    "β_true = ones(p)     # true beta\n",
    "V = get_V(ρtrue, n)  # true variance\n",
    "Γ = σ2true * V;      # true Gamma"
   ]
  },
  {
   "cell_type": "code",
   "execution_count": 51,
   "metadata": {
    "collapsed": false
   },
   "outputs": [],
   "source": [
    "# now simulate y\n",
    "Random.seed!(12345)\n",
    "d = NegativeBinomial()\n",
    "link = LogLink()\n",
    "gcs = Vector{NBCopulaARObs{Float64, typeof(d), typeof(link)}}(undef, N)\n",
    "res = Vector{Float64}(undef, n)\n",
    "for i in 1:N\n",
    "    y = Vector{Float64}(undef, n)\n",
    "    X = [ones(n) randn(n, p - 1)]\n",
    "    η = X * β_true\n",
    "    μ = exp.(η)\n",
    "    prob = r ./ (μ .+ r)\n",
    "    vecd = [NegativeBinomial(r, prob[i]) for i in 1:n]\n",
    "    nonmixed_multivariate_dist = NonMixedMultivariateDistribution(vecd, Γ)\n",
    "    rand(nonmixed_multivariate_dist, y, res) # this mutates y!!\n",
    "    gcs[i] = NBCopulaARObs(y, X, d, link)\n",
    "end\n",
    "gcm = NBCopulaARModel(gcs);"
   ]
  },
  {
   "cell_type": "code",
   "execution_count": 52,
   "metadata": {
    "collapsed": false
   },
   "outputs": [
    {
     "name": "stdout",
     "output_type": "stream",
     "text": [
      "Initializing NegBin r to Poisson regression values\n"
     ]
    },
    {
     "name": "stderr",
     "output_type": "stream",
     "text": [
      "┌ Warning: Optimization unsuccesful; got UserLimit\n",
      "└ @ GLMCopula /Users/biona001/.julia/dev/GLMCopula/src/parameter_estimation/fit_ar.jl:31\n"
     ]
    },
    {
     "name": "stdout",
     "output_type": "stream",
     "text": [
      "initializing variance parameters in AR model using MM-Algorithm\n",
      "gcm.β = [0.9985221395848457, 1.0008741860133186, 1.0002411197107366]\n",
      "gcm.r = [59.781472157357555]\n",
      "gcm.σ2 = [0.004287718097948753]\n",
      "gcm.ρ = [1.0]\n"
     ]
    }
   ],
   "source": [
    "initialize_model!(gcm)\n",
    "@show gcm.β\n",
    "@show gcm.r\n",
    "@show gcm.σ2\n",
    "@show gcm.ρ;"
   ]
  },
  {
   "cell_type": "code",
   "execution_count": 53,
   "metadata": {
    "collapsed": false
   },
   "outputs": [
    {
     "name": "stdout",
     "output_type": "stream",
     "text": [
      "Block iter 1 r = 88.94, logl = -956098.6, tol = 956098.6031702517\n",
      "Block iter 2 r = 93.27, logl = -955732.84, tol = 0.0003825564348494345\n",
      "Block iter 3 r = 94.17, logl = -955725.3, tol = 7.890327652859225e-6\n",
      "Block iter 4 r = 95.84, logl = -955726.79, tol = 1.5641611109831202e-6\n",
      "Block iter 5 r = 94.48, logl = -955747.29, tol = 2.1448218159982597e-5\n",
      "Block iter 6 r = 96.56, logl = -955749.19, tol = 1.9877854019396667e-6\n",
      "Block iter 7 r = 94.79, logl = -955723.36, tol = 2.7030795726709242e-5\n",
      "Block iter 8 r = 94.77, logl = -955722.14, tol = 1.2742877832636287e-6\n",
      "Block iter 9 r = 97.15, logl = -955752.75, tol = 3.20231317420411e-5\n",
      "Block iter 10 r = 94.63, logl = -955751.68, tol = 1.1181457682257198e-6\n",
      "Block iter 11 r = 94.68, logl = -955723.56, tol = 2.941713753476216e-5\n",
      "Block iter 12 r = 94.41, logl = -955747.55, tol = 2.5095639915891946e-5\n",
      "140.222635 seconds (19.83 M allocations: 59.910 GiB, 5.07% gc time)\n"
     ]
    },
    {
     "data": {
      "text/plain": [
       "-955746.7517729481"
      ]
     },
     "execution_count": 53,
     "metadata": {},
     "output_type": "execute_result"
    }
   ],
   "source": [
    "# fit negative binomial AR model\n",
    "@time GLMCopula.fit!(gcm, maxBlockIter=30)"
   ]
  },
  {
   "cell_type": "code",
   "execution_count": 54,
   "metadata": {
    "collapsed": false
   },
   "outputs": [
    {
     "name": "stdout",
     "output_type": "stream",
     "text": [
      "estimated β = [0.9966164588741423, 1.0021839970304707, 0.9997075318151586]; true β = [1.0, 1.0, 1.0]\n",
      "estimated rho = 0.8830003263924501; true rho = 0.8\n",
      "estimated σ2 = 0.04792968061162541; true σ2 = 0.1\n",
      "estimated r = 94.38115334334883; true r = 100\n"
     ]
    }
   ],
   "source": [
    "println(\"estimated β = $(gcm.β); true β = $β_true\")\n",
    "println(\"estimated rho = $(gcm.ρ[1]); true rho = $ρtrue\")\n",
    "println(\"estimated σ2 = $(gcm.σ2[1]); true σ2 = $σ2true\")\n",
    "println(\"estimated r = $(gcm.r[1]); true r = $r\");"
   ]
  },
  {
   "cell_type": "code",
   "execution_count": null,
   "metadata": {
    "collapsed": true
   },
   "outputs": [],
   "source": []
  }
 ],
 "metadata": {
  "@webio": {
   "lastCommId": null,
   "lastKernelId": null
  },
  "kernelspec": {
   "display_name": "Julia 1.6.0",
   "language": "julia",
   "name": "julia-1.6"
  },
  "language_info": {
   "file_extension": ".jl",
   "mimetype": "application/julia",
   "name": "julia",
   "version": "1.6.0"
  },
  "toc": {
   "base_numbering": 1,
   "nav_menu": {},
   "number_sections": true,
   "sideBar": true,
   "skip_h1_title": false,
   "title_cell": "Table of Contents",
   "title_sidebar": "Contents",
   "toc_cell": false,
   "toc_position": {},
   "toc_section_display": true,
   "toc_window_display": false
  }
 },
 "nbformat": 4,
 "nbformat_minor": 2
}
