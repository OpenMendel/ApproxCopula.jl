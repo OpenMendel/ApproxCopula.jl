{
 "cells": [
  {
   "cell_type": "markdown",
   "metadata": {},
   "source": [
    "# Fit Neg Binomial Auto-regressive model \n",
    "\n",
    "Taking inspiration from [GLM.jl](https://github.com/JuliaStats/GLM.jl/blob/master/src/negbinfit.jl#L68), we will:\n",
    "+ Initialize `r` with Poisson regression fit\n",
    "+ Perform block updates:\n",
    "    - Fix $r$, fit negative binomial copula for 10 iterations\n",
    "    - Fix $\\beta$ and AR parameters, fit $r$ using Newton for 10 iterations\n",
    "    - Repeat until convergence"
   ]
  },
  {
   "cell_type": "markdown",
   "metadata": {
    "collapsed": true
   },
   "source": [
    "# Block updates"
   ]
  },
  {
   "cell_type": "code",
   "execution_count": 8,
   "metadata": {
    "collapsed": false
   },
   "outputs": [
    {
     "data": {
      "text/plain": [
       "10000-element Vector{Vector{Float64}}:\n",
       " [14.0, 5.0, 6.0, 19.0, 6.0]\n",
       " [8.0, 1.0, 6.0, 30.0, 3.0]\n",
       " [18.0, 0.0, 2.0, 19.0, 5.0]\n",
       " [11.0, 2.0, 5.0, 34.0, 6.0]\n",
       " [15.0, 0.0, 3.0, 14.0, 6.0]\n",
       " [8.0, 1.0, 5.0, 22.0, 1.0]\n",
       " [14.0, 0.0, 8.0, 11.0, 3.0]\n",
       " [11.0, 1.0, 7.0, 18.0, 6.0]\n",
       " [12.0, 2.0, 2.0, 19.0, 1.0]\n",
       " [9.0, 2.0, 5.0, 23.0, 6.0]\n",
       " [12.0, 1.0, 4.0, 19.0, 2.0]\n",
       " [9.0, 3.0, 1.0, 24.0, 5.0]\n",
       " [12.0, 2.0, 12.0, 16.0, 2.0]\n",
       " ⋮\n",
       " [12.0, 0.0, 3.0, 11.0, 1.0]\n",
       " [14.0, 0.0, 5.0, 19.0, 3.0]\n",
       " [12.0, 0.0, 8.0, 15.0, 4.0]\n",
       " [11.0, 4.0, 7.0, 14.0, 4.0]\n",
       " [11.0, 0.0, 3.0, 16.0, 6.0]\n",
       " [11.0, 2.0, 3.0, 16.0, 1.0]\n",
       " [9.0, 0.0, 8.0, 14.0, 3.0]\n",
       " [8.0, 1.0, 3.0, 14.0, 2.0]\n",
       " [10.0, 1.0, 7.0, 22.0, 4.0]\n",
       " [12.0, 2.0, 3.0, 16.0, 10.0]\n",
       " [8.0, 3.0, 0.0, 17.0, 3.0]\n",
       " [8.0, 0.0, 6.0, 25.0, 4.0]"
      ]
     },
     "execution_count": 8,
     "metadata": {},
     "output_type": "execute_result"
    }
   ],
   "source": [
    "using Revise\n",
    "using DataFrames, Random, GLM, GLMCopula\n",
    "using ForwardDiff, Test, LinearAlgebra\n",
    "using LinearAlgebra: BlasReal, copytri!\n",
    "using ToeplitzMatrices\n",
    "\n",
    "function get_V(ρ, n)\n",
    "    vec = zeros(n)\n",
    "    vec[1] = 1.0\n",
    "    for i in 2:n\n",
    "        vec[i] = vec[i - 1] * ρ\n",
    "    end\n",
    "    V = ToeplitzMatrices.SymmetricToeplitz(vec)\n",
    "    V\n",
    "end\n",
    "\n",
    "# simulation parameters\n",
    "Random.seed!(12345)\n",
    "N = 10000    # sample size\n",
    "n = 5        # observations per subject\n",
    "p = 3        # number of fixed effects, including intercept\n",
    "σ2true = 0.1 # true σ2\n",
    "ρtrue = 0.9  # true ρ\n",
    "r = 100      # true dispersion parameter in NB model\n",
    "\n",
    "# simulation variables\n",
    "βtrue = ones(p)      # true beta\n",
    "V = get_V(ρtrue, n)  # true variance\n",
    "Γ = σ2true * V       # true Gamma\n",
    "X = [ones(n) randn(n, p - 1)]\n",
    "η = X * βtrue\n",
    "μ = exp.(η)\n",
    "prob = r ./ (μ .+ r)\n",
    "\n",
    "# now simulate phenotypes\n",
    "vecd = [NegativeBinomial(r, prob[i]) for i in 1:n]\n",
    "nonmixed_multivariate_dist = NonMixedMultivariateDistribution(vecd, Γ)\n",
    "Y_Nsample = simulate_nobs_independent_vectors(nonmixed_multivariate_dist, N)"
   ]
  },
  {
   "cell_type": "code",
   "execution_count": 9,
   "metadata": {
    "collapsed": false
   },
   "outputs": [
    {
     "ename": "LoadError",
     "evalue": "MethodError: no method matching NBCopulaARModel{Float64, NegativeBinomial{Float64}, LogLink}(::Vector{NBCopulaARObs{Float64, NegativeBinomial{Float64}, LogLink}}, ::Float64, ::Float64, ::Int64, ::Vector{Float64}, ::Vector{Float64}, ::Vector{Float64}, ::Vector{Float64}, ::Vector{Float64}, ::Vector{Float64}, ::Vector{Float64}, ::Vector{Float64}, ::Vector{Float64}, ::Vector{Float64}, ::Vector{Float64}, ::Matrix{Float64}, ::Matrix{Float64}, ::Matrix{Float64}, ::Matrix{Float64}, ::Matrix{Float64}, ::Matrix{Float64}, ::Vector{Float64}, ::Matrix{Float64}, ::Matrix{Float64}, ::Matrix{Float64}, ::Matrix{Float64}, ::Vector{Float64}, ::Matrix{Float64}, ::Matrix{Float64}, ::Vector{Float64}, ::Vector{Float64}, ::Vector{Float64}, ::Vector{NegativeBinomial{Float64}}, ::Vector{LogLink})\n\u001b[0mClosest candidates are:\n\u001b[0m  NBCopulaARModel{T, D, Link}(::Any, ::Any, ::Any, ::Any, ::Any, ::Any, ::Any, ::Any, ::Any, ::Any, ::Any, ::Any, ::Any, ::Any, ::Any, ::Any, ::Any, ::Any, ::Any, ::Any, ::Any, ::Any, ::Any, ::Any, ::Any, ::Any, ::Any, ::Any, ::Any, ::Any, ::Any, ::Any, ::Any, ::Any, \u001b[91m::Any\u001b[39m) where {T<:Union{Float32, Float64}, D, Link} at /Users/biona001/.julia/dev/GLMCopula/src/parameter_estimation/NBCopulaAR.jl:107",
     "output_type": "error",
     "traceback": [
      "MethodError: no method matching NBCopulaARModel{Float64, NegativeBinomial{Float64}, LogLink}(::Vector{NBCopulaARObs{Float64, NegativeBinomial{Float64}, LogLink}}, ::Float64, ::Float64, ::Int64, ::Vector{Float64}, ::Vector{Float64}, ::Vector{Float64}, ::Vector{Float64}, ::Vector{Float64}, ::Vector{Float64}, ::Vector{Float64}, ::Vector{Float64}, ::Vector{Float64}, ::Vector{Float64}, ::Vector{Float64}, ::Matrix{Float64}, ::Matrix{Float64}, ::Matrix{Float64}, ::Matrix{Float64}, ::Matrix{Float64}, ::Matrix{Float64}, ::Vector{Float64}, ::Matrix{Float64}, ::Matrix{Float64}, ::Matrix{Float64}, ::Matrix{Float64}, ::Vector{Float64}, ::Matrix{Float64}, ::Matrix{Float64}, ::Vector{Float64}, ::Vector{Float64}, ::Vector{Float64}, ::Vector{NegativeBinomial{Float64}}, ::Vector{LogLink})\n\u001b[0mClosest candidates are:\n\u001b[0m  NBCopulaARModel{T, D, Link}(::Any, ::Any, ::Any, ::Any, ::Any, ::Any, ::Any, ::Any, ::Any, ::Any, ::Any, ::Any, ::Any, ::Any, ::Any, ::Any, ::Any, ::Any, ::Any, ::Any, ::Any, ::Any, ::Any, ::Any, ::Any, ::Any, ::Any, ::Any, ::Any, ::Any, ::Any, ::Any, ::Any, ::Any, \u001b[91m::Any\u001b[39m) where {T<:Union{Float32, Float64}, D, Link} at /Users/biona001/.julia/dev/GLMCopula/src/parameter_estimation/NBCopulaAR.jl:107",
      "",
      "Stacktrace:",
      " [1] NBCopulaARModel(gcs::Vector{NBCopulaARObs{Float64, NegativeBinomial{Float64}, LogLink}})",
      "   @ GLMCopula ~/.julia/dev/GLMCopula/src/parameter_estimation/NBCopulaAR.jl:190",
      " [2] top-level scope",
      "   @ In[9]:9",
      " [3] eval",
      "   @ ./boot.jl:360 [inlined]",
      " [4] include_string(mapexpr::typeof(REPL.softscope), mod::Module, code::String, filename::String)",
      "   @ Base ./loading.jl:1094"
     ]
    }
   ],
   "source": [
    "d = NegativeBinomial()\n",
    "link = LogLink()\n",
    "gcs = Vector{NBCopulaARObs{Float64, typeof(d), typeof(link)}}(undef, N)\n",
    "for i in 1:N\n",
    "    y = Float64.(Y_Nsample[i])\n",
    "    X = ones(n, 1)\n",
    "    gcs[i] = NBCopulaARObs(y, X, d, link)\n",
    "end\n",
    "gcm = NBCopulaARModel(gcs);\n",
    "# gcm.r[1] = r"
   ]
  },
  {
   "cell_type": "code",
   "execution_count": 10,
   "metadata": {
    "collapsed": false
   },
   "outputs": [
    {
     "name": "stdout",
     "output_type": "stream",
     "text": [
      "Initializing NegBin r to Poisson regression values\n",
      "gcm.θ = [1.5e-323, 1.0, 1.0]\n",
      "gcm.θ = [1.5e-323, 0.9900000098999999, 1.0]\n",
      "gcm.θ = [3.125049061786231, 0.9902573184070635, 0.9694212547480694]\n",
      "gcm.θ = [1.0685321272114479, 0.9962391184174016, 0.9688008991242708]\n",
      "gcm.θ = [1.623228795739701, 0.9994666046224095, 0.9542770218483185]\n",
      "gcm.θ = [2.17841038491526, 0.9768507678781663, 0.9067728365919533]\n",
      "gcm.θ = [2.2130799299860855, 0.8015950962728373, 0.8633802634569818]\n",
      "gcm.θ = [2.109277140323141, 0.6267960064310761, 0.7860080400482021]\n",
      "gcm.θ = [2.065756806624883, 0.35619026424337996, 0.640794627871423]\n",
      "gcm.θ = [2.083139678686663, 0.003561892742433792, 0.4709699238727545]\n",
      "gcm.θ = [2.083364622745362, 3.560902742433779e-5, 0.47187016562195944]\n",
      "gcm.θ = [2.086602780192777, 3.461902742433757e-7, 0.4785112397277879]\n"
     ]
    },
    {
     "name": "stderr",
     "output_type": "stream",
     "text": [
      "┌ Warning: Optimization unsuccesful; got UserLimit\n",
      "└ @ GLMCopula /Users/biona001/.julia/dev/GLMCopula/src/parameter_estimation/fit_ar.jl:31\n"
     ]
    },
    {
     "ename": "LoadError",
     "evalue": "type NBCopulaARObs has no field storage_nn",
     "output_type": "error",
     "traceback": [
      "type NBCopulaARObs has no field storage_nn",
      "",
      "Stacktrace:",
      " [1] getproperty(x::NBCopulaARObs{Float64, NegativeBinomial{Float64}, LogLink}, f::Symbol)",
      "   @ Base ./Base.jl:33",
      " [2] first_derivative(gcm::NBCopulaARModel{Float64, NegativeBinomial{Float64}, LogLink}, r::Float64)",
      "   @ GLMCopula ~/.julia/dev/GLMCopula/src/parameter_estimation/update_sigma_and_residuals.jl:215",
      " [3] newton_increment(gcm::NBCopulaARModel{Float64, NegativeBinomial{Float64}, LogLink}, r::Float64)",
      "   @ GLMCopula ~/.julia/dev/GLMCopula/src/parameter_estimation/update_sigma_and_residuals.jl:326",
      " [4] #update_r_newton!#64",
      "   @ ~/.julia/dev/GLMCopula/src/parameter_estimation/update_sigma_and_residuals.jl:161 [inlined]",
      " [5] update_r!(gcm::NBCopulaARModel{Float64, NegativeBinomial{Float64}, LogLink})",
      "   @ GLMCopula ~/.julia/dev/GLMCopula/src/parameter_estimation/update_sigma_and_residuals.jl:196",
      " [6] initialize_model!(gcm::NBCopulaARModel{Float64, NegativeBinomial{Float64}, LogLink})",
      "   @ GLMCopula ~/.julia/dev/GLMCopula/src/parameter_estimation/initialize_model.jl:140",
      " [7] top-level scope",
      "   @ In[10]:1",
      " [8] eval",
      "   @ ./boot.jl:360 [inlined]",
      " [9] include_string(mapexpr::typeof(REPL.softscope), mod::Module, code::String, filename::String)",
      "   @ Base ./loading.jl:1094"
     ]
    }
   ],
   "source": [
    "initialize_model!(gcm)\n",
    "@show gcm.β\n",
    "@show gcm.Σ\n",
    "@show gcm.r"
   ]
  },
  {
   "cell_type": "code",
   "execution_count": 14,
   "metadata": {
    "collapsed": false
   },
   "outputs": [
    {
     "data": {
      "text/plain": [
       "3.757872325600888"
      ]
     },
     "execution_count": 14,
     "metadata": {},
     "output_type": "execute_result"
    }
   ],
   "source": [
    "β_true"
   ]
  },
  {
   "cell_type": "code",
   "execution_count": 15,
   "metadata": {
    "collapsed": false
   },
   "outputs": [
    {
     "data": {
      "text/plain": [
       "-178755.5541320383"
      ]
     },
     "execution_count": 15,
     "metadata": {},
     "output_type": "execute_result"
    }
   ],
   "source": [
    "GLMCopula.loglikelihood!(gcm, true, true)"
   ]
  },
  {
   "cell_type": "code",
   "execution_count": 16,
   "metadata": {
    "collapsed": false,
    "scrolled": true
   },
   "outputs": [
    {
     "name": "stdout",
     "output_type": "stream",
     "text": [
      "Converging when tol ≤ 0.0001 (max block iter = 100)\n",
      "Block iter 1 r = 66.26, logl = -178754.28, tol = 178754.2783140062\n",
      "Block iter 2 r = 67.57, logl = -178752.87, tol = 1.4126160731830169\n",
      "Block iter 3 r = 69.01, logl = -178751.25, tol = 1.6173761388636194\n",
      "Block iter 4 r = 70.56, logl = -178749.43, tol = 1.8178635479998775\n",
      "Block iter 5 r = 72.23, logl = -178747.43, tol = 1.9995644706650637\n",
      "Block iter 6 r = 73.99, logl = -178745.29, tol = 2.141556122689508\n",
      "Block iter 7 r = 75.83, logl = -178743.06, tol = 2.225642575445818\n",
      "Block iter 8 r = 77.77, logl = -178740.82, tol = 2.2392860002582893\n",
      "Block iter 9 r = 79.71, logl = -178738.57, tol = 2.2531988029077183\n",
      "Block iter 10 r = 81.61, logl = -178736.48, tol = 2.0906419749662746\n",
      "Block iter 11 r = 83.59, logl = -178734.6, tol = 1.8810184785397723\n",
      "Block iter 12 r = 85.32, logl = -178732.83, tol = 1.7728042982635088\n",
      "Block iter 13 r = 87.05, logl = -178731.46, tol = 1.3699814415886067\n",
      "Block iter 14 r = 88.98, logl = -178730.32, tol = 1.1363124516501557\n",
      "Block iter 15 r = 90.57, logl = -178729.17, tol = 1.15026562960702\n",
      "Block iter 16 r = 92.16, logl = -178728.46, tol = 0.7053568896080833\n",
      "Block iter 17 r = 93.08, logl = -178727.78, tol = 0.6842197391961236\n",
      "Block iter 18 r = 94.6, logl = -178727.79, tol = 0.011839701619464904\n",
      "Block iter 19 r = 95.67, logl = -178727.17, tol = 0.6246194835111964\n",
      "Block iter 20 r = 95.76, logl = -178726.97, tol = 0.2023215522058308\n",
      "Block iter 21 r = 95.82, logl = -178726.96, tol = 0.00968658848432824\n",
      "Block iter 22 r = 95.89, logl = -178726.95, tol = 0.009489192860201001\n",
      "Block iter 23 r = 95.94, logl = -178726.94, tol = 0.006965656793909147\n",
      "Block iter 24 r = 95.98, logl = -178726.93, tol = 0.004923081141896546\n",
      "Block iter 25 r = 96.0, logl = -178726.93, tol = 0.003521734237438068\n",
      "Block iter 26 r = 96.02, logl = -178726.93, tol = 0.0025422034959774464\n",
      "Block iter 27 r = 96.04, logl = -178726.93, tol = 0.0018476075783837587\n",
      "Block iter 28 r = 96.05, logl = -178726.93, tol = 0.0013495699095074087\n",
      "Block iter 29 r = 96.06, logl = -178726.92, tol = 0.000989498570561409\n",
      "Block iter 30 r = 96.06, logl = -178726.92, tol = 0.0007275307143572718\n",
      "Block iter 31 r = 96.07, logl = -178726.92, tol = 0.0005360264331102371\n",
      "Block iter 32 r = 96.07, logl = -178726.92, tol = 0.00039554358227178454\n",
      "Block iter 33 r = 96.07, logl = -178726.92, tol = 0.00029221351724117994\n",
      "Block iter 34 r = 96.08, logl = -178726.92, tol = 0.00021605979418382049\n",
      "Block iter 35 r = 96.08, logl = -178726.92, tol = 0.0001598447561264038\n",
      "Block iter 36 r = 96.08, logl = -178726.92, tol = 0.00011832010932266712\n",
      " 62.288507 seconds (217.11 M allocations: 4.853 GiB, 2.45% gc time)\n"
     ]
    },
    {
     "data": {
      "text/plain": [
       "-178726.92165966445"
      ]
     },
     "execution_count": 16,
     "metadata": {},
     "output_type": "execute_result"
    }
   ],
   "source": [
    "# default is Quasi-Newton\n",
    "@time GLMCopula.fit!(gcm, maxBlockIter=100)"
   ]
  },
  {
   "cell_type": "code",
   "execution_count": 17,
   "metadata": {
    "collapsed": false
   },
   "outputs": [
    {
     "name": "stdout",
     "output_type": "stream",
     "text": [
      "estimated β = 3.7577367229152956; true β = 3.757872325600888\n",
      "estimated variance component 1 = 0.08454686818715344; true variance component 1 = 0.1\n",
      "estimated variance component 2 = 0.3859156499415465; true variance component 2 = 0.5\n",
      "estimated r = 96.0785202732631; true r = 100\n"
     ]
    }
   ],
   "source": [
    "println(\"estimated β = $(gcm.β[1]); true β = $β_true\")\n",
    "println(\"estimated variance component 1 = $(gcm.Σ[1]); true variance component 1 = $variance_component_1\")\n",
    "println(\"estimated variance component 2 = $(gcm.Σ[2]); true variance component 2 = $variance_component_2\")\n",
    "println(\"estimated r = $(gcm.r[1]); true r = $r\");"
   ]
  },
  {
   "cell_type": "code",
   "execution_count": 7,
   "metadata": {
    "collapsed": false
   },
   "outputs": [
    {
     "name": "stdout",
     "output_type": "stream",
     "text": [
      "estimated β = 3.7577367229152956; true β = 3.757872325600888\n",
      "estimated variance component 1 = 0.08454686818715344; true variance component 1 = 0.1\n",
      "estimated variance component 2 = 0.3859156499415465; true variance component 2 = 0.5\n",
      "estimated r = 96.0785202732631; true r = 100\n"
     ]
    }
   ],
   "source": [
    "println(\"estimated β = $(gcm.β[1]); true β = $β_true\")\n",
    "println(\"estimated variance component 1 = $(gcm.Σ[1]); true variance component 1 = $variance_component_1\")\n",
    "println(\"estimated variance component 2 = $(gcm.Σ[2]); true variance component 2 = $variance_component_2\")\n",
    "println(\"estimated r = $(gcm.r[1]); true r = $r\");"
   ]
  },
  {
   "cell_type": "code",
   "execution_count": 7,
   "metadata": {
    "collapsed": false
   },
   "outputs": [
    {
     "name": "stdout",
     "output_type": "stream",
     "text": [
      "estimated β = 1.454827543795997; true β = 1.4552872326068422\n",
      "estimated variance component 1 = 0.10456366108069844; true variance component 1 = 0.1\n",
      "estimated variance component 2 = 0.44579361811367024; true variance component 2 = 0.5\n",
      "estimated r = 9.969213381836406; true r = 10\n"
     ]
    }
   ],
   "source": [
    "println(\"estimated β = $(gcm.β[1]); true β = $β_true\")\n",
    "println(\"estimated variance component 1 = $(gcm.Σ[1]); true variance component 1 = $variance_component_1\")\n",
    "println(\"estimated variance component 2 = $(gcm.Σ[2]); true variance component 2 = $variance_component_2\")\n",
    "println(\"estimated r = $(gcm.r[1]); true r = $r\");"
   ]
  },
  {
   "cell_type": "markdown",
   "metadata": {},
   "source": [
    "# Benchmark/profile code"
   ]
  },
  {
   "cell_type": "code",
   "execution_count": 191,
   "metadata": {
    "collapsed": false
   },
   "outputs": [
    {
     "data": {
      "text/plain": [
       "update_HΣ_test! (generic function with 1 method)"
      ]
     },
     "execution_count": 191,
     "metadata": {},
     "output_type": "execute_result"
    }
   ],
   "source": [
    "using BenchmarkTools, SpecialFunctions\n",
    "\n",
    "function update_HΣ_test!(gcm)\n",
    "    T = Float64\n",
    "    fill!(gcm.HΣ, 0.0)\n",
    "    @inbounds for j in 1:gcm.m\n",
    "        @simd for i in 1:length(gcm.storage_n)\n",
    "            gcm.hess1[j, i] = gcm.QF[i, j] * gcm.storage_n[i]\n",
    "            gcm.hess2[j, i] = gcm.TR[i, j] * gcm.storage_n2[i]\n",
    "        end\n",
    "    end\n",
    "    BLAS.gemm!('N', 'T', -T(1), gcm.hess1, gcm.hess1, T(0), gcm.HΣ)\n",
    "    BLAS.gemm!('N', 'T', T(1), gcm.hess2, gcm.hess2, T(1), gcm.HΣ)\n",
    "end"
   ]
  },
  {
   "cell_type": "code",
   "execution_count": 192,
   "metadata": {
    "collapsed": false
   },
   "outputs": [
    {
     "name": "stdout",
     "output_type": "stream",
     "text": [
      "  65.226 μs (0 allocations: 0 bytes)\n"
     ]
    },
    {
     "data": {
      "text/plain": [
       "2×2 Matrix{Float64}:\n",
       " 23863.7  23863.7\n",
       " 23863.7  23863.7"
      ]
     },
     "execution_count": 192,
     "metadata": {},
     "output_type": "execute_result"
    }
   ],
   "source": [
    "gc = gcm.data[1]\n",
    "β = gcm.β\n",
    "@btime update_HΣ_test!($gcm)"
   ]
  },
  {
   "cell_type": "code",
   "execution_count": null,
   "metadata": {
    "collapsed": true
   },
   "outputs": [],
   "source": []
  },
  {
   "cell_type": "code",
   "execution_count": null,
   "metadata": {
    "collapsed": true
   },
   "outputs": [],
   "source": []
  },
  {
   "cell_type": "markdown",
   "metadata": {},
   "source": [
    "# Let's see how to optimally block update \n",
    "\n",
    "## 1 iteration each"
   ]
  },
  {
   "cell_type": "code",
   "execution_count": 58,
   "metadata": {
    "collapsed": false
   },
   "outputs": [
    {
     "name": "stdout",
     "output_type": "stream",
     "text": [
      "estimated β = 3.7640471229274333; true β = 3.757872325600888\n",
      "estimated variance component 1 = 0.010091096783959048; true variance component 1 = 0.1\n",
      "estimated variance component 2 = 0.010061528161806528; true variance component 2 = 0.5\n",
      "estimated r = 59.22108970817275; true r = 100\n"
     ]
    }
   ],
   "source": [
    "println(\"estimated β = $(gcm.β[1]); true β = $β_true\")\n",
    "println(\"estimated variance component 1 = $(gcm.Σ[1]); true variance component 1 = $variance_component_1\")\n",
    "println(\"estimated variance component 2 = $(gcm.Σ[2]); true variance component 2 = $variance_component_2\")\n",
    "println(\"estimated r = $(gcm.r[1]); true r = $r\");"
   ]
  },
  {
   "cell_type": "markdown",
   "metadata": {},
   "source": [
    "## 5 iteration each"
   ]
  },
  {
   "cell_type": "code",
   "execution_count": 45,
   "metadata": {
    "collapsed": false
   },
   "outputs": [
    {
     "name": "stdout",
     "output_type": "stream",
     "text": [
      "estimated β = 3.761120679347187; true β = 3.757872325600888\n",
      "estimated variance component 1 = 0.04200544450800426; true variance component 1 = 0.1\n",
      "estimated variance component 2 = 0.020655323963911138; true variance component 2 = 0.5\n",
      "estimated r = 64.2226158070482; true r = 100\n"
     ]
    }
   ],
   "source": [
    "println(\"estimated β = $(gcm.β[1]); true β = $β_true\")\n",
    "println(\"estimated variance component 1 = $(gcm.Σ[1]); true variance component 1 = $variance_component_1\")\n",
    "println(\"estimated variance component 2 = $(gcm.Σ[2]); true variance component 2 = $variance_component_2\")\n",
    "println(\"estimated r = $(gcm.r[1]); true r = $r\");"
   ]
  },
  {
   "cell_type": "markdown",
   "metadata": {},
   "source": [
    "## 10 iteration each"
   ]
  },
  {
   "cell_type": "code",
   "execution_count": 51,
   "metadata": {
    "collapsed": false
   },
   "outputs": [
    {
     "name": "stdout",
     "output_type": "stream",
     "text": [
      "estimated β = 3.7577367229152965; true β = 3.757872325600888\n",
      "estimated variance component 1 = 0.08454686818713725; true variance component 1 = 0.1\n",
      "estimated variance component 2 = 0.3859156499408988; true variance component 2 = 0.5\n",
      "estimated r = 96.07852027325903; true r = 100\n"
     ]
    }
   ],
   "source": [
    "println(\"estimated β = $(gcm.β[1]); true β = $β_true\")\n",
    "println(\"estimated variance component 1 = $(gcm.Σ[1]); true variance component 1 = $variance_component_1\")\n",
    "println(\"estimated variance component 2 = $(gcm.Σ[2]); true variance component 2 = $variance_component_2\")\n",
    "println(\"estimated r = $(gcm.r[1]); true r = $r\");"
   ]
  },
  {
   "cell_type": "markdown",
   "metadata": {},
   "source": [
    "## 1 IPOPT iter + complete Newton fit"
   ]
  },
  {
   "cell_type": "code",
   "execution_count": 65,
   "metadata": {
    "collapsed": false
   },
   "outputs": [
    {
     "name": "stdout",
     "output_type": "stream",
     "text": [
      "estimated β = 3.762274167394871; true β = 3.757872325600888\n",
      "estimated variance component 1 = 0.044468809218469255; true variance component 1 = 0.1\n",
      "estimated variance component 2 = 0.046354142614646404; true variance component 2 = 0.5\n",
      "estimated r = 67.38079696512439; true r = 100\n"
     ]
    }
   ],
   "source": [
    "println(\"estimated β = $(gcm.β[1]); true β = $β_true\")\n",
    "println(\"estimated variance component 1 = $(gcm.Σ[1]); true variance component 1 = $variance_component_1\")\n",
    "println(\"estimated variance component 2 = $(gcm.Σ[2]); true variance component 2 = $variance_component_2\")\n",
    "println(\"estimated r = $(gcm.r[1]); true r = $r\");"
   ]
  },
  {
   "cell_type": "markdown",
   "metadata": {},
   "source": [
    "## 5 IPOPT iter + complete Newton fit"
   ]
  },
  {
   "cell_type": "code",
   "execution_count": 72,
   "metadata": {
    "collapsed": false
   },
   "outputs": [
    {
     "name": "stdout",
     "output_type": "stream",
     "text": [
      "estimated β = 3.759537350779348; true β = 3.757872325600888\n",
      "estimated variance component 1 = 0.05312813376763176; true variance component 1 = 0.1\n",
      "estimated variance component 2 = 0.07266779547787298; true variance component 2 = 0.5\n",
      "estimated r = 70.93622181411288; true r = 100\n"
     ]
    }
   ],
   "source": [
    "println(\"estimated β = $(gcm.β[1]); true β = $β_true\")\n",
    "println(\"estimated variance component 1 = $(gcm.Σ[1]); true variance component 1 = $variance_component_1\")\n",
    "println(\"estimated variance component 2 = $(gcm.Σ[2]); true variance component 2 = $variance_component_2\")\n",
    "println(\"estimated r = $(gcm.r[1]); true r = $r\");"
   ]
  },
  {
   "cell_type": "markdown",
   "metadata": {},
   "source": [
    "## 10 IPOPT iter + complete Newton fit (this reached max iter count)"
   ]
  },
  {
   "cell_type": "code",
   "execution_count": 79,
   "metadata": {
    "collapsed": false
   },
   "outputs": [
    {
     "name": "stdout",
     "output_type": "stream",
     "text": [
      "estimated β = 3.757598085312234; true β = 3.757872325600888\n",
      "estimated variance component 1 = 0.08847643797375318; true variance component 1 = 0.1\n",
      "estimated variance component 2 = 0.418885780706873; true variance component 2 = 0.5\n",
      "estimated r = 98.01186301721411; true r = 100\n"
     ]
    }
   ],
   "source": [
    "println(\"estimated β = $(gcm.β[1]); true β = $β_true\")\n",
    "println(\"estimated variance component 1 = $(gcm.Σ[1]); true variance component 1 = $variance_component_1\")\n",
    "println(\"estimated variance component 2 = $(gcm.Σ[2]); true variance component 2 = $variance_component_2\")\n",
    "println(\"estimated r = $(gcm.r[1]); true r = $r\");"
   ]
  },
  {
   "cell_type": "markdown",
   "metadata": {},
   "source": [
    "## Copying GLM.jl"
   ]
  },
  {
   "cell_type": "code",
   "execution_count": 7,
   "metadata": {
    "collapsed": false
   },
   "outputs": [
    {
     "name": "stdout",
     "output_type": "stream",
     "text": [
      "estimated β = 1.456226847936331; true β = 1.4552872326068422\n",
      "estimated variance component 1 = 0.10133551134062899; true variance component 1 = 0.1\n",
      "estimated variance component 2 = 0.4371874111348784; true variance component 2 = 0.5\n",
      "estimated r = 9.69061414063922; true r = 10\n"
     ]
    }
   ],
   "source": [
    "println(\"estimated β = $(gcm.β[1]); true β = $β_true\")\n",
    "println(\"estimated variance component 1 = $(gcm.Σ[1]); true variance component 1 = $variance_component_1\")\n",
    "println(\"estimated variance component 2 = $(gcm.Σ[2]); true variance component 2 = $variance_component_2\")\n",
    "println(\"estimated r = $(gcm.r[1]); true r = $r\");"
   ]
  },
  {
   "cell_type": "code",
   "execution_count": 73,
   "metadata": {
    "collapsed": false
   },
   "outputs": [
    {
     "name": "stdout",
     "output_type": "stream",
     "text": [
      "estimated β = 3.758435534322703; true β = 3.757872325600888\n",
      "estimated variance component 1 = 0.0934850410967605; true variance component 1 = 0.1\n",
      "estimated variance component 2 = 0.3827355454688751; true variance component 2 = 0.5\n",
      "estimated r = 94.45211633725886; true r = 100\n"
     ]
    }
   ],
   "source": [
    "println(\"estimated β = $(gcm.β[1]); true β = $β_true\")\n",
    "println(\"estimated variance component 1 = $(gcm.Σ[1]); true variance component 1 = $variance_component_1\")\n",
    "println(\"estimated variance component 2 = $(gcm.Σ[2]); true variance component 2 = $variance_component_2\")\n",
    "println(\"estimated r = $(gcm.r[1]); true r = $r\");"
   ]
  },
  {
   "cell_type": "code",
   "execution_count": null,
   "metadata": {
    "collapsed": true
   },
   "outputs": [],
   "source": []
  }
 ],
 "metadata": {
  "@webio": {
   "lastCommId": null,
   "lastKernelId": null
  },
  "kernelspec": {
   "display_name": "Julia 1.6.0",
   "language": "julia",
   "name": "julia-1.6"
  },
  "language_info": {
   "file_extension": ".jl",
   "mimetype": "application/julia",
   "name": "julia",
   "version": "1.6.0"
  },
  "toc": {
   "base_numbering": 1,
   "nav_menu": {},
   "number_sections": true,
   "sideBar": true,
   "skip_h1_title": false,
   "title_cell": "Table of Contents",
   "title_sidebar": "Contents",
   "toc_cell": false,
   "toc_position": {},
   "toc_section_display": true,
   "toc_window_display": false
  }
 },
 "nbformat": 4,
 "nbformat_minor": 2
}
