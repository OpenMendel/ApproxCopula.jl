{
 "cells": [
  {
   "cell_type": "markdown",
   "metadata": {},
   "source": [
    "# Fit Neg Binomial Auto-regressive model \n",
    "\n",
    "Taking inspiration from [GLM.jl](https://github.com/JuliaStats/GLM.jl/blob/master/src/negbinfit.jl#L68), we will:\n",
    "+ Initialize `r` with Poisson regression fit\n",
    "+ Perform block updates:\n",
    "    - Fix $r$, fit negative binomial copula for 10 iterations\n",
    "    - Fix $\\beta$ and AR parameters, fit $r$ using Newton for 10 iterations\n",
    "    - Repeat until convergence"
   ]
  },
  {
   "cell_type": "markdown",
   "metadata": {
    "collapsed": true
   },
   "source": [
    "# Block updates"
   ]
  },
  {
   "cell_type": "code",
   "execution_count": 23,
   "metadata": {
    "collapsed": false
   },
   "outputs": [
    {
     "data": {
      "text/plain": [
       "10000-element Vector{Vector{Float64}}:\n",
       " [7.0, 5.0, 2.0, 19.0, 2.0]\n",
       " [7.0, 1.0, 2.0, 35.0, 3.0]\n",
       " [20.0, 0.0, 7.0, 19.0, 5.0]\n",
       " [11.0, 2.0, 5.0, 46.0, 2.0]\n",
       " [6.0, 0.0, 3.0, 12.0, 2.0]\n",
       " [7.0, 1.0, 5.0, 15.0, 8.0]\n",
       " [7.0, 0.0, 8.0, 7.0, 6.0]\n",
       " [11.0, 1.0, 1.0, 17.0, 6.0]\n",
       " [12.0, 2.0, 2.0, 19.0, 8.0]\n",
       " [8.0, 2.0, 5.0, 13.0, 6.0]\n",
       " [10.0, 1.0, 4.0, 20.0, 2.0]\n",
       " [8.0, 3.0, 8.0, 12.0, 3.0]\n",
       " [10.0, 2.0, 14.0, 14.0, 7.0]\n",
       " ⋮\n",
       " [12.0, 0.0, 3.0, 7.0, 1.0]\n",
       " [15.0, 0.0, 5.0, 20.0, 6.0]\n",
       " [10.0, 0.0, 8.0, 26.0, 4.0]\n",
       " [11.0, 4.0, 7.0, 27.0, 4.0]\n",
       " [11.0, 0.0, 3.0, 14.0, 6.0]\n",
       " [11.0, 0.0, 3.0, 14.0, 1.0]\n",
       " [8.0, 0.0, 9.0, 11.0, 3.0]\n",
       " [16.0, 1.0, 3.0, 28.0, 1.0]\n",
       " [10.0, 1.0, 1.0, 23.0, 4.0]\n",
       " [12.0, 2.0, 3.0, 14.0, 11.0]\n",
       " [7.0, 3.0, 9.0, 23.0, 6.0]\n",
       " [7.0, 0.0, 6.0, 10.0, 4.0]"
      ]
     },
     "execution_count": 23,
     "metadata": {},
     "output_type": "execute_result"
    }
   ],
   "source": [
    "using Revise\n",
    "using DataFrames, Random, GLM, GLMCopula\n",
    "using ForwardDiff, Test, LinearAlgebra\n",
    "using LinearAlgebra: BlasReal, copytri!\n",
    "using ToeplitzMatrices\n",
    "\n",
    "function get_V(ρ, n)\n",
    "    vec = zeros(n)\n",
    "    vec[1] = 1.0\n",
    "    for i in 2:n\n",
    "        vec[i] = vec[i - 1] * ρ\n",
    "    end\n",
    "    V = ToeplitzMatrices.SymmetricToeplitz(vec)\n",
    "    V\n",
    "end\n",
    "\n",
    "# simulation parameters\n",
    "Random.seed!(12345)\n",
    "N = 10000    # sample size\n",
    "n = 5        # observations per subject\n",
    "p = 3        # number of fixed effects, including intercept\n",
    "σ2true = 0.1 # true σ2\n",
    "ρtrue = 0.9  # true ρ\n",
    "r = 10      # true dispersion parameter in NB model\n",
    "\n",
    "# simulation variables\n",
    "β_true = ones(p)     # true beta\n",
    "V = get_V(ρtrue, n)  # true variance\n",
    "Γ = σ2true * V       # true Gamma\n",
    "X = [ones(n) randn(n, p - 1)]\n",
    "η = X * β_true\n",
    "μ = exp.(η)\n",
    "prob = r ./ (μ .+ r)\n",
    "\n",
    "# now simulate phenotypes\n",
    "vecd = [NegativeBinomial(r, prob[i]) for i in 1:n]\n",
    "nonmixed_multivariate_dist = NonMixedMultivariateDistribution(vecd, Γ)\n",
    "Y_Nsample = simulate_nobs_independent_vectors(nonmixed_multivariate_dist, N)"
   ]
  },
  {
   "cell_type": "code",
   "execution_count": 29,
   "metadata": {
    "collapsed": false
   },
   "outputs": [],
   "source": [
    "Random.seed!(12345)\n",
    "d = NegativeBinomial()\n",
    "link = LogLink()\n",
    "gcs = Vector{NBCopulaARObs{Float64, typeof(d), typeof(link)}}(undef, N)\n",
    "y = Vector{Float64}(undef, n)\n",
    "res = Vector{Float64}(undef, n)\n",
    "for i in 1:N\n",
    "    Random.seed!(12345 * i)\n",
    "    X = [ones(n) randn(n, p - 1)]\n",
    "    η = X * β_true\n",
    "    μ = exp.(η)\n",
    "    prob = r ./ (μ .+ r)\n",
    "    vecd = [NegativeBinomial(r, prob[i]) for i in 1:n]\n",
    "    for i in 1:n\n",
    "        vecd[i] = NegativeBinomial(r, prob[i])\n",
    "    end\n",
    "    Random.seed!(12345 * i)\n",
    "    rand(nonmixed_multivariate_dist, y, res)\n",
    "    gcs[i] = NBCopulaARObs(y, X, d, link)\n",
    "end\n",
    "gcm = NBCopulaARModel(gcs);\n",
    "# gcm.r[1] = r"
   ]
  },
  {
   "cell_type": "code",
   "execution_count": 30,
   "metadata": {
    "collapsed": false
   },
   "outputs": [
    {
     "name": "stdout",
     "output_type": "stream",
     "text": [
      "Initializing NegBin r to Poisson regression values\n",
      "gcm.θ = [0.07030764085865944, 0.07240870074013135, 0.06642004483834663, 1.0, 1.0]\n",
      "gcm.θ = [0.07030764085865944, 0.07240870074013135, 0.06642004483834663, 0.9900000098999999, 1.0]\n",
      "gcm.θ = [3.1953248601549364, 0.0799536737719938, 0.042816740810371734, 0.9757131019116224, 1.0152383340055944]\n",
      "gcm.θ = [2.4646437617604153, 0.002394423339082477, 0.012060290947655941, 0.9800932016903732, 1.0156191491692848]\n",
      "gcm.θ = [2.405240927620133, 0.0007311026146579374, 0.00665196667637115, 0.8714057880927467, 1.017705260979438]\n",
      "gcm.θ = [2.4489468258900877, -0.01185214719346259, -0.0021066741245765836, 0.7805434246495431, 1.0224400395550592]\n",
      "gcm.θ = [2.6279438196687748, 0.018111326352394815, 0.023771280188045404, 0.3941744244980192, 1.0466477613736371]\n",
      "gcm.θ = [2.6131734259308983, -0.027363102358052182, -0.027865200082101124, 0.3166161914707083, 1.0731695703717623]\n",
      "gcm.θ = [2.594419745176933, -0.029118543558182133, -0.00952102300997134, 0.22608244271717037, 1.101313492463667]\n",
      "gcm.θ = [2.5627302681621664, 0.04271588574052912, -0.03925824275269746, 0.002260814527171723, 1.1737597590843187]\n",
      "gcm.θ = [2.5624621043836515, 0.030720417969248244, -0.026895436320324036, 2.259824527171741e-5, 1.179975070349923]\n",
      "gcm.θ = [2.5651004752371853, -0.0018413120234984925, 0.005601365522668173, 1.1860207318309945e-6, 1.1979527218705561]\n",
      "gcm.θ = [2.563535381717223, -0.0022487724889158857, 0.005565519011047975, 1.960207318310014e-9, 1.2030974470440652]\n",
      "gcm.θ = [2.556853478408295, -0.0038942466522091553, 0.0058178248289537755, -9.684332287723823e-9, 1.279074498605883]\n",
      "gcm.θ = [2.5530802721914982, -0.005000718126377897, 0.005528752649521047, -9.974519115638621e-9, 1.6764916213558587]\n",
      "gcm.θ = [2.5680765531711964, -0.0011364499517373034, 0.0043999612724239315, -9.993182329613265e-9, 2.336694575201383]\n",
      "gcm.θ = [2.562963017309781, -0.0011474573739379628, 0.004909796740157171, -9.99331082712831e-9, 3.1655599472207494]\n",
      "gcm.θ = [2.568849387700774, -0.0004741542274180714, 0.004646810775435974, -9.993275265618819e-9, 4.312429753407853]\n",
      "gcm.θ = [2.5539958208266773, -0.003972616745684907, 0.005255113267638252, -9.993332628660059e-9, 6.03699357622819]\n",
      "gcm.θ = [2.5661536963020106, -0.0007926311974661001, 0.004636524948222077, -9.993358785843772e-9, 8.124174364340263]\n",
      "gcm.θ = [2.566995373524767, -0.0007719978107624605, 0.004681602022905442, -9.99333250922042e-9, 10.319574420638988]\n",
      "gcm.θ = [2.5649229432972596, -0.0011498760209903728, 0.004748693377373018, -9.993347130309597e-9, 13.992757853317194]\n",
      "gcm.θ = [2.5644873346607735, -0.0015618391500891488, 0.004821885918431585, -9.993342367619392e-9, 18.46828141000533]\n",
      "gcm.θ = [2.564339011035173, -7.131318431176131e-5, 0.0045770414161983046, -9.993360140102485e-9, 24.642416311392196]\n",
      "gcm.θ = [2.5662352795196854, -0.007779534899558942, 0.003193723386074656, -9.993342848714252e-9, 28.149794265774815]\n",
      "gcm.θ = [2.566477732064498, -0.007846423695811879, 0.008064507177197184, -9.993048450719219e-9, 30.689531154638768]\n",
      "gcm.θ = [2.5617068350169108, 0.0033334369167036665, 0.00042419549143736957, -9.989918486693583e-9, 64.98394318421539]\n",
      "gcm.θ = [2.566395240989969, 0.0006705609982609216, 0.003499294622580344, -9.993374296391657e-9, 69.93329960909674]\n",
      "gcm.θ = [2.5639098614498046, -0.0016108820711258133, 0.005672735227679538, -9.993368302795016e-9, 72.25168920797641]\n",
      "gcm.θ = [2.5647805489994213, -0.002043700819074306, 0.005210116352973186, -9.993352133684505e-9, 81.21105041380022]\n",
      "gcm.θ = [2.565707035713174, -0.00019232201844419884, 0.0075483376305607, -9.993019144295423e-9, 87.93781280115931]\n",
      "gcm.θ = [2.565387897213136, -0.0013758466297374952, 0.0050667425564743015, -9.993352518962097e-9, 116.06703752188662]\n",
      "gcm.θ = [2.5654134396150514, -0.0031398821186412297, 0.0061869492449692365, -9.993352652472889e-9, 128.51096752138596]\n",
      "gcm.θ = [2.5637283889182356, -0.0010249148322988557, 0.002885264145697311, -9.993352930753993e-9, 218.18196405667567]\n",
      "gcm.θ = [2.5645612123919617, 0.0004689596963823571, 0.005939958237215458, -9.99335334683119e-9, 266.0705060954863]\n",
      "gcm.θ = [2.5646021874746405, -0.0011701742074232268, 0.005422332165107369, -9.993353638454134e-9, 307.29450655495856]\n",
      "gcm.θ = [2.5645794897444825, -0.001903396161183286, 0.004776977382539143, -9.99335376926141e-9, 386.54222268456783]\n",
      "gcm.θ = [2.5647302523531006, -0.0020003438596186943, 0.004819938460837605, -9.99335379282744e-9, 502.94538430167955]\n",
      "gcm.θ = [2.5638956477202615, -0.0015115202490930128, 0.0038973093001315132, -9.993353813155754e-9, 556.7157646262576]\n",
      "gcm.θ = [2.5663290298404777, -0.0003620548172845188, 0.008000980099072097, -9.989343503149341e-9, 1703.2384819051633]\n",
      "gcm.θ = [2.564948609533493, -0.0007481282983345189, 0.005451606557806217, -9.993353980829117e-9, 1573.4648050035603]\n",
      "gcm.θ = [2.5645052990298196, -0.0011841407449740013, 0.004884616542435345, -9.993354067497677e-9, 1636.263239661078]\n",
      "gcm.θ = [2.564480152415866, -0.001374835208655906, 0.004645263372537126, -9.993354041864204e-9, 1784.009025386183]\n",
      "gcm.θ = [2.5642152363277906, -0.0016960562140465223, 0.004641877054562203, -9.99335403089826e-9, 2253.1782336849724]\n",
      "gcm.θ = [2.564931151571071, -0.0015731104583149266, 0.004049750269205515, -9.993354055186012e-9, 2839.4520948956424]\n",
      "gcm.θ = [2.564319783746743, -0.0014445838571002655, 0.0049208354495352625, -9.993354040041927e-9, 2839.453308124225]\n",
      "gcm.θ = [2.56448914093802, -0.0014297136611688239, 0.0047704851223484305, -9.993354070724066e-9, 3482.112347088735]\n",
      "gcm.θ = [2.5645218194810293, -0.0013793961578711872, 0.004733241555267316, -9.993354077223032e-9, 3482.1130729250567]\n",
      "gcm.θ = [2.564549433872976, -0.0013711498246285637, 0.004780793839753622, -9.993354112912247e-9, 4716.16702343561]\n",
      "gcm.θ = [2.5645177198693916, -0.0013399442577962447, 0.004794590266343359, -9.993354112911736e-9, 4715.879847433197]\n",
      "gcm.θ = [2.5645068151227783, -0.00136157756446475, 0.004757658612790831, -9.915988314230938e-9, 6209.877962677903]\n",
      "gcm.θ = [2.5645382245939357, -0.0013497521800014051, 0.004800454788026012, -9.917197151612767e-9, 6209.877999392141]\n",
      "gcm.θ = [2.564527220074659, -0.0013529111957874059, 0.004785917340177786, -9.993354357925032e-9, 8248.959917929975]\n",
      "initializing variance parameters in AR model using MM-Algorithm\n",
      "gcm.β = [1.0, 1.0, 1.0]\n",
      "gcm.r = [18350.90907816705]\n"
     ]
    },
    {
     "data": {
      "text/plain": [
       "1-element Vector{Float64}:\n",
       " 18350.90907816705"
      ]
     },
     "execution_count": 30,
     "metadata": {},
     "output_type": "execute_result"
    }
   ],
   "source": [
    "initialize_model!(gcm)\n",
    "@show gcm.β\n",
    "@show gcm.r\n",
    "@show gcm.σ2\n",
    "@show gcm.ρ"
   ]
  },
  {
   "cell_type": "code",
   "execution_count": 31,
   "metadata": {
    "collapsed": false
   },
   "outputs": [
    {
     "data": {
      "text/plain": [
       "3-element Vector{Float64}:\n",
       " 1.0\n",
       " 1.0\n",
       " 1.0"
      ]
     },
     "execution_count": 31,
     "metadata": {},
     "output_type": "execute_result"
    }
   ],
   "source": [
    "gcm.β"
   ]
  },
  {
   "cell_type": "code",
   "execution_count": 32,
   "metadata": {
    "collapsed": false
   },
   "outputs": [
    {
     "data": {
      "text/plain": [
       "-9.404260972961048e8"
      ]
     },
     "execution_count": 32,
     "metadata": {},
     "output_type": "execute_result"
    }
   ],
   "source": [
    "GLMCopula.loglikelihood!(gcm, true, true)"
   ]
  },
  {
   "cell_type": "code",
   "execution_count": 33,
   "metadata": {
    "collapsed": false
   },
   "outputs": [
    {
     "name": "stdout",
     "output_type": "stream",
     "text": [
      "gcm.θ = [1.0, 1.0, 1.0, 1.0, 433.42758864068696]\n",
      "gcm.θ = [1.0, 1.0, 1.0, 0.9900000098999999, 433.42758864068696]\n",
      "gcm.θ = [3.699744581036897, -2.7110662116004, -2.704624020712, 0.4999500000494999, 390.2416218188902]\n",
      "gcm.θ = [2.5042394725022525, -2.3168262189208684, -2.118742659146565, 0.0049994901004949965, 294.11240335723727]\n",
      "gcm.θ = [5.511546980510526, 0.23504372915973715, -2.1507912672731915, 0.0050559491078358216, 275.9141983988895]\n",
      "gcm.θ = [8.437173011286065, 0.072537176253643, 0.23812697853240117, 0.021947625350599364, 207.62543429268933]\n",
      "gcm.θ = [6.958489051080894, -1.7960276498923766, 0.2762124513869084, 0.026503202066259494, 2.0762543330268954]\n",
      "gcm.θ = [4.243159601081151, -0.42983335997453453, 0.8172888704127541, 0.9902650419206626, 2.1682688528261873]\n",
      "gcm.θ = [4.16410809234154, -0.40795249056576444, 0.7537625064883684, 0.9889548071092624, 0.9623964321528027]\n",
      "gcm.θ = [3.6735924009496532, -0.3223360876324633, 0.4296268975597185, 0.8891924842683124, 4.042608172723149]\n",
      "gcm.θ = [3.6538736827067617, -0.29613286273494743, 0.4217383785556327, 0.8673955232208814, 2.04151712227519]\n",
      "gcm.θ = [2.3156221400199026, -0.2457712165613869, 1.4446826757307627, 0.4380347342765451, 3.3256400577286147]\n",
      "Block iter 1 r = 18354.76, logl = -1.41235914e6, tol = 1.4123591440475588e6\n",
      "gcm.θ = [1.0, 1.0, 1.0, 1.0, 433.42758864068696]\n",
      "gcm.θ = [1.0, 1.0, 1.0, 0.9900000098999999, 433.42758864068696]\n",
      "gcm.θ = [3.699742455593734, -2.711071349328929, -2.704629740586195, 0.4999500000494999, 390.2416218828893]\n",
      "gcm.θ = [2.5043551622807705, -2.3167469770926195, -2.1186739535326238, 0.0049994901004949965, 294.1192650975066]\n",
      "gcm.θ = [5.511010128472751, 0.23453871190280262, -2.150780560282637, 0.005055938928776766, 275.92063556897966]\n",
      "gcm.θ = [8.439555868508396, 0.07266017287768683, 0.2398303944042368, 0.02193567876371312, 207.6302782631822]\n",
      "gcm.θ = [6.963095346359814, -1.7957045605460342, 0.2791041846151474, 0.02650201601579959, 2.07630277273185]\n",
      "gcm.θ = [4.278852434339807, -0.44726398171958515, 0.8103918009797549, 0.990265030060158, 2.168796458009483]\n",
      "gcm.θ = [4.197250259737111, -0.42409906622878074, 0.7452862789550205, 0.9880842532919814, 0.9854234859831221]\n",
      "gcm.θ = [3.6910114754466345, -0.32982472045425926, 0.4502358862823081, 0.9153174751342459, 3.513991590044184]\n",
      "gcm.θ = [3.6734622737878375, -0.3075188089279757, 0.44590832028757926, 0.8969777443868393, 1.774565748022313]\n",
      "gcm.θ = [3.0544448633215797, -0.27762063663528314, 0.8791001256399164, 0.4529737559653538, 2.4745950727903865]\n",
      "Block iter 2 r = 18356.11, logl = -1.0658562e6, tol = 0.24533611188432444\n",
      "gcm.θ = [1.0, 1.0, 1.0, 1.0, 433.42758864068696]\n",
      "gcm.θ = [1.0, 1.0, 1.0, 0.9900000098999999, 433.42758864068696]\n",
      "gcm.θ = [3.6997417148161054, -2.7110731399774823, -2.7046317341337733, 0.4999500000494999, 390.24162190519445]\n",
      "gcm.θ = [2.5043954820619065, -2.316719354102145, -2.118650002747988, 0.0049994901004949965, 294.12165667778333]\n",
      "gcm.θ = [5.510822971413161, 0.2343626609613918, -2.1507768187718717, 0.0050559353807417004, 275.92287917022674]\n",
      "gcm.θ = [8.440386736891924, 0.07270311339433022, 0.24042427262920674, 0.021931514513668086, 207.63196657312062]\n",
      "gcm.θ = [6.964698224146874, -1.79559239816831, 0.2801103189021804, 0.026501613104675747, 2.076319655831213]\n",
      "gcm.θ = [4.267867357377471, -0.4415618500901084, 0.8126260687915833, 0.9902650260310466, 2.1692592988718333]\n",
      "gcm.θ = [4.186963739830722, -0.41878586858471767, 0.7482605260298624, 0.9890923949895616, 0.9580565546076643]\n",
      "gcm.θ = [3.6878769558051885, -0.32926456165612955, 0.4351380446997387, 0.8926048680374452, 4.019009727812632]\n",
      "gcm.θ = [3.6661680784629183, -0.302737318713635, 0.4276779665548474, 0.8706876838850145, 2.0295999075953794]\n",
      "gcm.θ = [2.355972914740037, -0.2380204691222707, 1.3681183636712217, 0.4396972754119323, 3.316006302820679]\n",
      "Block iter 3 r = 18358.92, logl = -1.29475628e6, tol = 0.21475680151128979\n",
      "  5.040785 seconds (4.51 M allocations: 685.305 MiB, 2.61% gc time, 1.50% compilation time)\n"
     ]
    },
    {
     "data": {
      "text/plain": [
       "-1.2947570739773125e6"
      ]
     },
     "execution_count": 33,
     "metadata": {},
     "output_type": "execute_result"
    }
   ],
   "source": [
    "# default is Quasi-Newton\n",
    "@time GLMCopula.fit!(gcm, maxBlockIter=3)"
   ]
  },
  {
   "cell_type": "code",
   "execution_count": null,
   "metadata": {
    "collapsed": true
   },
   "outputs": [],
   "source": []
  },
  {
   "cell_type": "code",
   "execution_count": null,
   "metadata": {
    "collapsed": true
   },
   "outputs": [],
   "source": []
  },
  {
   "cell_type": "code",
   "execution_count": null,
   "metadata": {
    "collapsed": true
   },
   "outputs": [],
   "source": []
  },
  {
   "cell_type": "code",
   "execution_count": null,
   "metadata": {
    "collapsed": true
   },
   "outputs": [],
   "source": []
  },
  {
   "cell_type": "code",
   "execution_count": null,
   "metadata": {
    "collapsed": true
   },
   "outputs": [],
   "source": []
  },
  {
   "cell_type": "code",
   "execution_count": 16,
   "metadata": {
    "collapsed": false,
    "scrolled": true
   },
   "outputs": [
    {
     "name": "stdout",
     "output_type": "stream",
     "text": [
      "Converging when tol ≤ 0.0001 (max block iter = 100)\n",
      "Block iter 1 r = 66.26, logl = -178754.28, tol = 178754.2783140062\n",
      "Block iter 2 r = 67.57, logl = -178752.87, tol = 1.4126160731830169\n",
      "Block iter 3 r = 69.01, logl = -178751.25, tol = 1.6173761388636194\n",
      "Block iter 4 r = 70.56, logl = -178749.43, tol = 1.8178635479998775\n",
      "Block iter 5 r = 72.23, logl = -178747.43, tol = 1.9995644706650637\n",
      "Block iter 6 r = 73.99, logl = -178745.29, tol = 2.141556122689508\n",
      "Block iter 7 r = 75.83, logl = -178743.06, tol = 2.225642575445818\n",
      "Block iter 8 r = 77.77, logl = -178740.82, tol = 2.2392860002582893\n",
      "Block iter 9 r = 79.71, logl = -178738.57, tol = 2.2531988029077183\n",
      "Block iter 10 r = 81.61, logl = -178736.48, tol = 2.0906419749662746\n",
      "Block iter 11 r = 83.59, logl = -178734.6, tol = 1.8810184785397723\n",
      "Block iter 12 r = 85.32, logl = -178732.83, tol = 1.7728042982635088\n",
      "Block iter 13 r = 87.05, logl = -178731.46, tol = 1.3699814415886067\n",
      "Block iter 14 r = 88.98, logl = -178730.32, tol = 1.1363124516501557\n",
      "Block iter 15 r = 90.57, logl = -178729.17, tol = 1.15026562960702\n",
      "Block iter 16 r = 92.16, logl = -178728.46, tol = 0.7053568896080833\n",
      "Block iter 17 r = 93.08, logl = -178727.78, tol = 0.6842197391961236\n",
      "Block iter 18 r = 94.6, logl = -178727.79, tol = 0.011839701619464904\n",
      "Block iter 19 r = 95.67, logl = -178727.17, tol = 0.6246194835111964\n",
      "Block iter 20 r = 95.76, logl = -178726.97, tol = 0.2023215522058308\n",
      "Block iter 21 r = 95.82, logl = -178726.96, tol = 0.00968658848432824\n",
      "Block iter 22 r = 95.89, logl = -178726.95, tol = 0.009489192860201001\n",
      "Block iter 23 r = 95.94, logl = -178726.94, tol = 0.006965656793909147\n",
      "Block iter 24 r = 95.98, logl = -178726.93, tol = 0.004923081141896546\n",
      "Block iter 25 r = 96.0, logl = -178726.93, tol = 0.003521734237438068\n",
      "Block iter 26 r = 96.02, logl = -178726.93, tol = 0.0025422034959774464\n",
      "Block iter 27 r = 96.04, logl = -178726.93, tol = 0.0018476075783837587\n",
      "Block iter 28 r = 96.05, logl = -178726.93, tol = 0.0013495699095074087\n",
      "Block iter 29 r = 96.06, logl = -178726.92, tol = 0.000989498570561409\n",
      "Block iter 30 r = 96.06, logl = -178726.92, tol = 0.0007275307143572718\n",
      "Block iter 31 r = 96.07, logl = -178726.92, tol = 0.0005360264331102371\n",
      "Block iter 32 r = 96.07, logl = -178726.92, tol = 0.00039554358227178454\n",
      "Block iter 33 r = 96.07, logl = -178726.92, tol = 0.00029221351724117994\n",
      "Block iter 34 r = 96.08, logl = -178726.92, tol = 0.00021605979418382049\n",
      "Block iter 35 r = 96.08, logl = -178726.92, tol = 0.0001598447561264038\n",
      "Block iter 36 r = 96.08, logl = -178726.92, tol = 0.00011832010932266712\n",
      " 62.288507 seconds (217.11 M allocations: 4.853 GiB, 2.45% gc time)\n"
     ]
    },
    {
     "data": {
      "text/plain": [
       "-178726.92165966445"
      ]
     },
     "execution_count": 16,
     "metadata": {},
     "output_type": "execute_result"
    }
   ],
   "source": [
    "# default is Quasi-Newton\n",
    "@time GLMCopula.fit!(gcm, maxBlockIter=100)"
   ]
  },
  {
   "cell_type": "code",
   "execution_count": 17,
   "metadata": {
    "collapsed": false
   },
   "outputs": [
    {
     "name": "stdout",
     "output_type": "stream",
     "text": [
      "estimated β = 3.7577367229152956; true β = 3.757872325600888\n",
      "estimated variance component 1 = 0.08454686818715344; true variance component 1 = 0.1\n",
      "estimated variance component 2 = 0.3859156499415465; true variance component 2 = 0.5\n",
      "estimated r = 96.0785202732631; true r = 100\n"
     ]
    }
   ],
   "source": [
    "println(\"estimated β = $(gcm.β[1]); true β = $β_true\")\n",
    "println(\"estimated variance component 1 = $(gcm.Σ[1]); true variance component 1 = $variance_component_1\")\n",
    "println(\"estimated variance component 2 = $(gcm.Σ[2]); true variance component 2 = $variance_component_2\")\n",
    "println(\"estimated r = $(gcm.r[1]); true r = $r\");"
   ]
  },
  {
   "cell_type": "code",
   "execution_count": 7,
   "metadata": {
    "collapsed": false
   },
   "outputs": [
    {
     "name": "stdout",
     "output_type": "stream",
     "text": [
      "estimated β = 3.7577367229152956; true β = 3.757872325600888\n",
      "estimated variance component 1 = 0.08454686818715344; true variance component 1 = 0.1\n",
      "estimated variance component 2 = 0.3859156499415465; true variance component 2 = 0.5\n",
      "estimated r = 96.0785202732631; true r = 100\n"
     ]
    }
   ],
   "source": [
    "println(\"estimated β = $(gcm.β[1]); true β = $β_true\")\n",
    "println(\"estimated variance component 1 = $(gcm.Σ[1]); true variance component 1 = $variance_component_1\")\n",
    "println(\"estimated variance component 2 = $(gcm.Σ[2]); true variance component 2 = $variance_component_2\")\n",
    "println(\"estimated r = $(gcm.r[1]); true r = $r\");"
   ]
  },
  {
   "cell_type": "code",
   "execution_count": 7,
   "metadata": {
    "collapsed": false
   },
   "outputs": [
    {
     "name": "stdout",
     "output_type": "stream",
     "text": [
      "estimated β = 1.454827543795997; true β = 1.4552872326068422\n",
      "estimated variance component 1 = 0.10456366108069844; true variance component 1 = 0.1\n",
      "estimated variance component 2 = 0.44579361811367024; true variance component 2 = 0.5\n",
      "estimated r = 9.969213381836406; true r = 10\n"
     ]
    }
   ],
   "source": [
    "println(\"estimated β = $(gcm.β[1]); true β = $β_true\")\n",
    "println(\"estimated variance component 1 = $(gcm.Σ[1]); true variance component 1 = $variance_component_1\")\n",
    "println(\"estimated variance component 2 = $(gcm.Σ[2]); true variance component 2 = $variance_component_2\")\n",
    "println(\"estimated r = $(gcm.r[1]); true r = $r\");"
   ]
  },
  {
   "cell_type": "markdown",
   "metadata": {},
   "source": [
    "# Benchmark/profile code"
   ]
  },
  {
   "cell_type": "code",
   "execution_count": 191,
   "metadata": {
    "collapsed": false
   },
   "outputs": [
    {
     "data": {
      "text/plain": [
       "update_HΣ_test! (generic function with 1 method)"
      ]
     },
     "execution_count": 191,
     "metadata": {},
     "output_type": "execute_result"
    }
   ],
   "source": [
    "using BenchmarkTools, SpecialFunctions\n",
    "\n",
    "function update_HΣ_test!(gcm)\n",
    "    T = Float64\n",
    "    fill!(gcm.HΣ, 0.0)\n",
    "    @inbounds for j in 1:gcm.m\n",
    "        @simd for i in 1:length(gcm.storage_n)\n",
    "            gcm.hess1[j, i] = gcm.QF[i, j] * gcm.storage_n[i]\n",
    "            gcm.hess2[j, i] = gcm.TR[i, j] * gcm.storage_n2[i]\n",
    "        end\n",
    "    end\n",
    "    BLAS.gemm!('N', 'T', -T(1), gcm.hess1, gcm.hess1, T(0), gcm.HΣ)\n",
    "    BLAS.gemm!('N', 'T', T(1), gcm.hess2, gcm.hess2, T(1), gcm.HΣ)\n",
    "end"
   ]
  },
  {
   "cell_type": "code",
   "execution_count": 192,
   "metadata": {
    "collapsed": false
   },
   "outputs": [
    {
     "name": "stdout",
     "output_type": "stream",
     "text": [
      "  65.226 μs (0 allocations: 0 bytes)\n"
     ]
    },
    {
     "data": {
      "text/plain": [
       "2×2 Matrix{Float64}:\n",
       " 23863.7  23863.7\n",
       " 23863.7  23863.7"
      ]
     },
     "execution_count": 192,
     "metadata": {},
     "output_type": "execute_result"
    }
   ],
   "source": [
    "gc = gcm.data[1]\n",
    "β = gcm.β\n",
    "@btime update_HΣ_test!($gcm)"
   ]
  },
  {
   "cell_type": "code",
   "execution_count": null,
   "metadata": {
    "collapsed": true
   },
   "outputs": [],
   "source": []
  },
  {
   "cell_type": "code",
   "execution_count": null,
   "metadata": {
    "collapsed": true
   },
   "outputs": [],
   "source": []
  },
  {
   "cell_type": "markdown",
   "metadata": {},
   "source": [
    "# Let's see how to optimally block update \n",
    "\n",
    "## 1 iteration each"
   ]
  },
  {
   "cell_type": "code",
   "execution_count": 58,
   "metadata": {
    "collapsed": false
   },
   "outputs": [
    {
     "name": "stdout",
     "output_type": "stream",
     "text": [
      "estimated β = 3.7640471229274333; true β = 3.757872325600888\n",
      "estimated variance component 1 = 0.010091096783959048; true variance component 1 = 0.1\n",
      "estimated variance component 2 = 0.010061528161806528; true variance component 2 = 0.5\n",
      "estimated r = 59.22108970817275; true r = 100\n"
     ]
    }
   ],
   "source": [
    "println(\"estimated β = $(gcm.β[1]); true β = $β_true\")\n",
    "println(\"estimated variance component 1 = $(gcm.Σ[1]); true variance component 1 = $variance_component_1\")\n",
    "println(\"estimated variance component 2 = $(gcm.Σ[2]); true variance component 2 = $variance_component_2\")\n",
    "println(\"estimated r = $(gcm.r[1]); true r = $r\");"
   ]
  },
  {
   "cell_type": "markdown",
   "metadata": {},
   "source": [
    "## 5 iteration each"
   ]
  },
  {
   "cell_type": "code",
   "execution_count": 45,
   "metadata": {
    "collapsed": false
   },
   "outputs": [
    {
     "name": "stdout",
     "output_type": "stream",
     "text": [
      "estimated β = 3.761120679347187; true β = 3.757872325600888\n",
      "estimated variance component 1 = 0.04200544450800426; true variance component 1 = 0.1\n",
      "estimated variance component 2 = 0.020655323963911138; true variance component 2 = 0.5\n",
      "estimated r = 64.2226158070482; true r = 100\n"
     ]
    }
   ],
   "source": [
    "println(\"estimated β = $(gcm.β[1]); true β = $β_true\")\n",
    "println(\"estimated variance component 1 = $(gcm.Σ[1]); true variance component 1 = $variance_component_1\")\n",
    "println(\"estimated variance component 2 = $(gcm.Σ[2]); true variance component 2 = $variance_component_2\")\n",
    "println(\"estimated r = $(gcm.r[1]); true r = $r\");"
   ]
  },
  {
   "cell_type": "markdown",
   "metadata": {},
   "source": [
    "## 10 iteration each"
   ]
  },
  {
   "cell_type": "code",
   "execution_count": 51,
   "metadata": {
    "collapsed": false
   },
   "outputs": [
    {
     "name": "stdout",
     "output_type": "stream",
     "text": [
      "estimated β = 3.7577367229152965; true β = 3.757872325600888\n",
      "estimated variance component 1 = 0.08454686818713725; true variance component 1 = 0.1\n",
      "estimated variance component 2 = 0.3859156499408988; true variance component 2 = 0.5\n",
      "estimated r = 96.07852027325903; true r = 100\n"
     ]
    }
   ],
   "source": [
    "println(\"estimated β = $(gcm.β[1]); true β = $β_true\")\n",
    "println(\"estimated variance component 1 = $(gcm.Σ[1]); true variance component 1 = $variance_component_1\")\n",
    "println(\"estimated variance component 2 = $(gcm.Σ[2]); true variance component 2 = $variance_component_2\")\n",
    "println(\"estimated r = $(gcm.r[1]); true r = $r\");"
   ]
  },
  {
   "cell_type": "markdown",
   "metadata": {},
   "source": [
    "## 1 IPOPT iter + complete Newton fit"
   ]
  },
  {
   "cell_type": "code",
   "execution_count": 65,
   "metadata": {
    "collapsed": false
   },
   "outputs": [
    {
     "name": "stdout",
     "output_type": "stream",
     "text": [
      "estimated β = 3.762274167394871; true β = 3.757872325600888\n",
      "estimated variance component 1 = 0.044468809218469255; true variance component 1 = 0.1\n",
      "estimated variance component 2 = 0.046354142614646404; true variance component 2 = 0.5\n",
      "estimated r = 67.38079696512439; true r = 100\n"
     ]
    }
   ],
   "source": [
    "println(\"estimated β = $(gcm.β[1]); true β = $β_true\")\n",
    "println(\"estimated variance component 1 = $(gcm.Σ[1]); true variance component 1 = $variance_component_1\")\n",
    "println(\"estimated variance component 2 = $(gcm.Σ[2]); true variance component 2 = $variance_component_2\")\n",
    "println(\"estimated r = $(gcm.r[1]); true r = $r\");"
   ]
  },
  {
   "cell_type": "markdown",
   "metadata": {},
   "source": [
    "## 5 IPOPT iter + complete Newton fit"
   ]
  },
  {
   "cell_type": "code",
   "execution_count": 72,
   "metadata": {
    "collapsed": false
   },
   "outputs": [
    {
     "name": "stdout",
     "output_type": "stream",
     "text": [
      "estimated β = 3.759537350779348; true β = 3.757872325600888\n",
      "estimated variance component 1 = 0.05312813376763176; true variance component 1 = 0.1\n",
      "estimated variance component 2 = 0.07266779547787298; true variance component 2 = 0.5\n",
      "estimated r = 70.93622181411288; true r = 100\n"
     ]
    }
   ],
   "source": [
    "println(\"estimated β = $(gcm.β[1]); true β = $β_true\")\n",
    "println(\"estimated variance component 1 = $(gcm.Σ[1]); true variance component 1 = $variance_component_1\")\n",
    "println(\"estimated variance component 2 = $(gcm.Σ[2]); true variance component 2 = $variance_component_2\")\n",
    "println(\"estimated r = $(gcm.r[1]); true r = $r\");"
   ]
  },
  {
   "cell_type": "markdown",
   "metadata": {},
   "source": [
    "## 10 IPOPT iter + complete Newton fit (this reached max iter count)"
   ]
  },
  {
   "cell_type": "code",
   "execution_count": 79,
   "metadata": {
    "collapsed": false
   },
   "outputs": [
    {
     "name": "stdout",
     "output_type": "stream",
     "text": [
      "estimated β = 3.757598085312234; true β = 3.757872325600888\n",
      "estimated variance component 1 = 0.08847643797375318; true variance component 1 = 0.1\n",
      "estimated variance component 2 = 0.418885780706873; true variance component 2 = 0.5\n",
      "estimated r = 98.01186301721411; true r = 100\n"
     ]
    }
   ],
   "source": [
    "println(\"estimated β = $(gcm.β[1]); true β = $β_true\")\n",
    "println(\"estimated variance component 1 = $(gcm.Σ[1]); true variance component 1 = $variance_component_1\")\n",
    "println(\"estimated variance component 2 = $(gcm.Σ[2]); true variance component 2 = $variance_component_2\")\n",
    "println(\"estimated r = $(gcm.r[1]); true r = $r\");"
   ]
  },
  {
   "cell_type": "markdown",
   "metadata": {},
   "source": [
    "## Copying GLM.jl"
   ]
  },
  {
   "cell_type": "code",
   "execution_count": 7,
   "metadata": {
    "collapsed": false
   },
   "outputs": [
    {
     "name": "stdout",
     "output_type": "stream",
     "text": [
      "estimated β = 1.456226847936331; true β = 1.4552872326068422\n",
      "estimated variance component 1 = 0.10133551134062899; true variance component 1 = 0.1\n",
      "estimated variance component 2 = 0.4371874111348784; true variance component 2 = 0.5\n",
      "estimated r = 9.69061414063922; true r = 10\n"
     ]
    }
   ],
   "source": [
    "println(\"estimated β = $(gcm.β[1]); true β = $β_true\")\n",
    "println(\"estimated variance component 1 = $(gcm.Σ[1]); true variance component 1 = $variance_component_1\")\n",
    "println(\"estimated variance component 2 = $(gcm.Σ[2]); true variance component 2 = $variance_component_2\")\n",
    "println(\"estimated r = $(gcm.r[1]); true r = $r\");"
   ]
  },
  {
   "cell_type": "code",
   "execution_count": 73,
   "metadata": {
    "collapsed": false
   },
   "outputs": [
    {
     "name": "stdout",
     "output_type": "stream",
     "text": [
      "estimated β = 3.758435534322703; true β = 3.757872325600888\n",
      "estimated variance component 1 = 0.0934850410967605; true variance component 1 = 0.1\n",
      "estimated variance component 2 = 0.3827355454688751; true variance component 2 = 0.5\n",
      "estimated r = 94.45211633725886; true r = 100\n"
     ]
    }
   ],
   "source": [
    "println(\"estimated β = $(gcm.β[1]); true β = $β_true\")\n",
    "println(\"estimated variance component 1 = $(gcm.Σ[1]); true variance component 1 = $variance_component_1\")\n",
    "println(\"estimated variance component 2 = $(gcm.Σ[2]); true variance component 2 = $variance_component_2\")\n",
    "println(\"estimated r = $(gcm.r[1]); true r = $r\");"
   ]
  },
  {
   "cell_type": "code",
   "execution_count": null,
   "metadata": {
    "collapsed": true
   },
   "outputs": [],
   "source": []
  }
 ],
 "metadata": {
  "@webio": {
   "lastCommId": null,
   "lastKernelId": null
  },
  "kernelspec": {
   "display_name": "Julia 1.6.0",
   "language": "julia",
   "name": "julia-1.6"
  },
  "language_info": {
   "file_extension": ".jl",
   "mimetype": "application/julia",
   "name": "julia",
   "version": "1.6.0"
  },
  "toc": {
   "base_numbering": 1,
   "nav_menu": {},
   "number_sections": true,
   "sideBar": true,
   "skip_h1_title": false,
   "title_cell": "Table of Contents",
   "title_sidebar": "Contents",
   "toc_cell": false,
   "toc_position": {},
   "toc_section_display": true,
   "toc_window_display": false
  }
 },
 "nbformat": 4,
 "nbformat_minor": 2
}
