{
 "cells": [
  {
   "cell_type": "markdown",
   "metadata": {},
   "source": [
    "# Check if derivative of loglikelihood is correct numerically"
   ]
  },
  {
   "cell_type": "code",
   "execution_count": 1,
   "metadata": {
    "collapsed": false
   },
   "outputs": [
    {
     "name": "stderr",
     "output_type": "stream",
     "text": [
      "┌ Info: Precompiling GLMCopula [c47b6ae2-b804-4668-9957-eb588c99ffbc]\n",
      "└ @ Base loading.jl:1317\n"
     ]
    }
   ],
   "source": [
    "using Revise\n",
    "using ForwardDiff\n",
    "using DataFrames, Random, GLM, GLMCopula\n",
    "using ForwardDiff, Test, LinearAlgebra\n",
    "using LinearAlgebra: BlasReal, copytri!\n",
    "using SpecialFunctions"
   ]
  },
  {
   "cell_type": "markdown",
   "metadata": {},
   "source": [
    "## First simulate data"
   ]
  },
  {
   "cell_type": "code",
   "execution_count": 2,
   "metadata": {
    "collapsed": false
   },
   "outputs": [
    {
     "data": {
      "text/plain": [
       "10000-element Vector{Vector{Float64}}:\n",
       " [0.0, 1.0, 0.0, 0.0, 1.0]\n",
       " [2.0, 0.0, 0.0, 0.0, 1.0]\n",
       " [1.0, 0.0, 0.0, 4.0, 1.0]\n",
       " [0.0, 0.0, 0.0, 0.0, 1.0]\n",
       " [3.0, 3.0, 3.0, 1.0, 1.0]\n",
       " [0.0, 0.0, 0.0, 0.0, 0.0]\n",
       " [3.0, 0.0, 0.0, 0.0, 0.0]\n",
       " [0.0, 1.0, 0.0, 0.0, 2.0]\n",
       " [0.0, 1.0, 0.0, 0.0, 0.0]\n",
       " [0.0, 0.0, 0.0, 0.0, 0.0]\n",
       " [1.0, 0.0, 0.0, 0.0, 0.0]\n",
       " [0.0, 0.0, 0.0, 0.0, 0.0]\n",
       " [1.0, 0.0, 0.0, 0.0, 0.0]\n",
       " ⋮\n",
       " [0.0, 0.0, 1.0, 0.0, 0.0]\n",
       " [1.0, 0.0, 0.0, 0.0, 0.0]\n",
       " [0.0, 1.0, 0.0, 0.0, 1.0]\n",
       " [0.0, 0.0, 1.0, 2.0, 0.0]\n",
       " [1.0, 0.0, 0.0, 0.0, 3.0]\n",
       " [0.0, 0.0, 0.0, 0.0, 0.0]\n",
       " [0.0, 0.0, 1.0, 2.0, 1.0]\n",
       " [2.0, 2.0, 0.0, 0.0, 0.0]\n",
       " [0.0, 0.0, 0.0, 0.0, 0.0]\n",
       " [0.0, 0.0, 0.0, 1.0, 0.0]\n",
       " [2.0, 1.0, 2.0, 0.0, 0.0]\n",
       " [0.0, 0.0, 1.0, 0.0, 0.0]"
      ]
     },
     "execution_count": 2,
     "metadata": {},
     "output_type": "execute_result"
    }
   ],
   "source": [
    "Random.seed!(1234)\n",
    "\n",
    "# sample size\n",
    "N = 10000\n",
    "# observations per subject\n",
    "n = 5\n",
    "\n",
    "variance_component_1 = 0.9\n",
    "variance_component_2 = 0.1\n",
    "\n",
    "r = 1\n",
    "p = 0.7\n",
    "μ = r * (1-p) * inv(p)\n",
    "\n",
    "#var = r * (1-p) * inv(p^2)\n",
    "\n",
    "# true beta\n",
    "β_true = log(μ)\n",
    "\n",
    "dist = NegativeBinomial\n",
    "\n",
    "Γ = variance_component_1 * ones(n, n) + variance_component_2 * Matrix(I, n, n)\n",
    "vecd = [dist(r, p) for i in 1:n]\n",
    "nonmixed_multivariate_dist = NonMixedMultivariateDistribution(vecd, Γ)\n",
    "\n",
    "Y = simulate_nobs_independent_vectors(nonmixed_multivariate_dist, N)"
   ]
  },
  {
   "cell_type": "markdown",
   "metadata": {},
   "source": [
    "# Loglikelihood and gradient as function of nuisance parameter\n",
    "\n",
    "The loglikelihood has 3 terms, but only the 2nd and 3rd depend on $r$. \n",
    "\n",
    "## 2nd term"
   ]
  },
  {
   "cell_type": "code",
   "execution_count": 3,
   "metadata": {
    "collapsed": false
   },
   "outputs": [
    {
     "data": {
      "text/plain": [
       "hess_r (generic function with 1 method)"
      ]
     },
     "execution_count": 3,
     "metadata": {},
     "output_type": "execute_result"
    }
   ],
   "source": [
    "# need y, μ to be predefined\n",
    "function loglikelihood_r(r)\n",
    "    logl = 0.0\n",
    "    @inbounds for j in 1:length(y)\n",
    "        logl += logpdf(NegativeBinomial(r, r/(μ[j] + r)), y[j])\n",
    "    end\n",
    "    return logl\n",
    "end\n",
    "\n",
    "function grad_r(r)\n",
    "    tmp(yi, μi) = -(yi+r)/(μi+r) - log(μi+r) + 1 + log(r) + digamma(r+yi) - digamma(r)\n",
    "    s = 0.0\n",
    "    for j in eachindex(y)\n",
    "        s += tmp(y[j], μ[j])\n",
    "    end\n",
    "    return s\n",
    "end\n",
    "\n",
    "function hess_r(r)\n",
    "    tmp(yi, μi) = (yi+r)/(μi+r)^2 - 2/(μi+r) + 1/r + trigamma(r+yi) - trigamma(r)\n",
    "    s = 0.0\n",
    "    for j in eachindex(y)\n",
    "        s += tmp(y[j], μ[j])\n",
    "    end\n",
    "    return s\n",
    "end"
   ]
  },
  {
   "cell_type": "code",
   "execution_count": 5,
   "metadata": {
    "collapsed": false
   },
   "outputs": [
    {
     "name": "stdout",
     "output_type": "stream",
     "text": [
      "grad_r(r) = -0.392477281378558\n",
      "g(r) = -0.39247728137855675\n",
      "hess_r(r) = 0.10457604783433896\n",
      "h(r) = 0.1045760478343389\n"
     ]
    }
   ],
   "source": [
    "# need y, η, μ, and r\n",
    "y = [1.0, 0.0, 0.0, 4.0, 1.0]\n",
    "μ = exp.(randn(5))\n",
    "r = 5.0\n",
    "\n",
    "# first derivatives\n",
    "g = x -> ForwardDiff.derivative(loglikelihood_r, x)\n",
    "@show grad_r(r) # actual\n",
    "@show g(r)      # numerical\n",
    "\n",
    "# second derivatives\n",
    "h = x -> ForwardDiff.derivative(g, x)\n",
    "@show hess_r(r) # actual\n",
    "@show h(r);     # numerical"
   ]
  },
  {
   "cell_type": "markdown",
   "metadata": {},
   "source": [
    "## 3rd term"
   ]
  },
  {
   "cell_type": "code",
   "execution_count": 6,
   "metadata": {
    "collapsed": false
   },
   "outputs": [
    {
     "data": {
      "text/plain": [
       "hess_r (generic function with 1 method)"
      ]
     },
     "execution_count": 6,
     "metadata": {},
     "output_type": "execute_result"
    }
   ],
   "source": [
    "# need y, μ, η to be predefined\n",
    "function loglikelihood_r(r)\n",
    "    D = Diagonal([sqrt(exp(η[j])*(exp(η[j])+r) / r) for j in 1:length(η)])\n",
    "    resid = inv(D) * (y - μ)\n",
    "    return log(1 + 0.5resid'*Γ*resid)\n",
    "end\n",
    "\n",
    "function grad_r(r)\n",
    "    D = Diagonal([sqrt(exp(η[j])*(exp(η[j])+r) / r) for j in 1:length(η)])\n",
    "    dD = Diagonal([-exp(2η[i]) / (2r^1.5 * sqrt(exp(η[i])*(exp(η[i])+r))) for i in 1:length(η)])\n",
    "    resid = inv(D) * (y - μ)\n",
    "    dresid = -inv(D)*dD*inv(D)*(y - μ)\n",
    "    return resid'*Γ*dresid / (1 + 0.5resid'*Γ*resid)\n",
    "end\n",
    "\n",
    "function hess_r(r)\n",
    "    D = Diagonal([sqrt(exp(η[j])*(exp(η[j])+r) / r) for j in 1:length(η)])\n",
    "    dD = Diagonal([-exp(2η[i]) / (2r^1.5 * sqrt(exp(η[i])*(exp(η[i])+r))) for i in 1:length(η)])\n",
    "    d2D = Diagonal([(exp(3η[i]) / (4r^1.5 * (exp(η[i])*(exp(η[i])+r))^(1.5))) + \n",
    "        (3exp(2η[i]) / (4r^(2.5)*sqrt(exp(η[i])*(exp(η[i])+r)))) for i in 1:length(η)])\n",
    "    resid = inv(D) * (y - μ)\n",
    "    dresid = -inv(D)*dD*inv(D)*(y - μ)\n",
    "    d2resid = (2inv(D)*dD*inv(D)*dD*inv(D) - inv(D)*d2D*inv(D))*(y - μ)\n",
    "    denom = 1 + 0.5resid'*Γ*resid\n",
    "    term1 = (resid'*Γ*dresid / denom)^2\n",
    "    term2 = dresid'*Γ*dresid / denom\n",
    "    term3 = resid'*Γ*d2resid / denom\n",
    "    return -term1 + term2 + term3\n",
    "end"
   ]
  },
  {
   "cell_type": "code",
   "execution_count": 7,
   "metadata": {
    "collapsed": false,
    "scrolled": true
   },
   "outputs": [
    {
     "name": "stdout",
     "output_type": "stream",
     "text": [
      "grad_r(r) = 0.004820407328491895\n",
      "g(r) = 0.004820407328491864\n",
      "hess_r(r) = -0.002611002414633711\n",
      "h(r) = -0.0026110024146337135\n"
     ]
    }
   ],
   "source": [
    "# need y, η, μ, and r\n",
    "y = [1.0, 0.0, 0.0, 4.0, 1.0]\n",
    "η = randn(5)\n",
    "μ = exp.(η)\n",
    "r = 5.0\n",
    "\n",
    "# first derivatives\n",
    "g = x -> ForwardDiff.derivative(loglikelihood_r, x)\n",
    "@show grad_r(r) # actual\n",
    "@show g(r)      # numerical\n",
    "\n",
    "# second derivatives\n",
    "h = x -> ForwardDiff.derivative(g, x)\n",
    "@show hess_r(r) # actual\n",
    "@show h(r);     # numerical"
   ]
  },
  {
   "cell_type": "code",
   "execution_count": null,
   "metadata": {
    "collapsed": true
   },
   "outputs": [],
   "source": []
  }
 ],
 "metadata": {
  "@webio": {
   "lastCommId": null,
   "lastKernelId": null
  },
  "kernelspec": {
   "display_name": "Julia 1.6.0",
   "language": "julia",
   "name": "julia-1.6"
  },
  "language_info": {
   "file_extension": ".jl",
   "mimetype": "application/julia",
   "name": "julia",
   "version": "1.6.0"
  }
 },
 "nbformat": 4,
 "nbformat_minor": 2
}
