{
 "cells": [
  {
   "cell_type": "markdown",
   "metadata": {},
   "source": [
    "# Check if derivative of loglikelihood is correct numerically"
   ]
  },
  {
   "cell_type": "code",
   "execution_count": 1,
   "metadata": {
    "collapsed": false
   },
   "outputs": [
    {
     "name": "stderr",
     "output_type": "stream",
     "text": [
      "┌ Info: Precompiling ForwardDiff [f6369f11-7733-5829-9624-2563aa707210]\n",
      "└ @ Base loading.jl:1317\n",
      "┌ Info: Precompiling GLMCopula [c47b6ae2-b804-4668-9957-eb588c99ffbc]\n",
      "└ @ Base loading.jl:1317\n"
     ]
    }
   ],
   "source": [
    "using Revise\n",
    "using ForwardDiff\n",
    "using DataFrames, Random, GLM, GLMCopula\n",
    "using ForwardDiff, Test, LinearAlgebra\n",
    "using LinearAlgebra: BlasReal, copytri!\n",
    "using SpecialFunctions"
   ]
  },
  {
   "cell_type": "markdown",
   "metadata": {},
   "source": [
    "## First simulate data"
   ]
  },
  {
   "cell_type": "code",
   "execution_count": 4,
   "metadata": {
    "collapsed": false
   },
   "outputs": [
    {
     "data": {
      "text/plain": [
       "10000-element Vector{Vector{Float64}}:\n",
       " [0.0, 1.0, 0.0, 0.0, 1.0]\n",
       " [2.0, 0.0, 0.0, 0.0, 1.0]\n",
       " [1.0, 0.0, 0.0, 4.0, 1.0]\n",
       " [0.0, 0.0, 0.0, 0.0, 1.0]\n",
       " [3.0, 3.0, 3.0, 1.0, 1.0]\n",
       " [0.0, 0.0, 0.0, 0.0, 0.0]\n",
       " [3.0, 0.0, 0.0, 0.0, 0.0]\n",
       " [0.0, 1.0, 0.0, 0.0, 2.0]\n",
       " [0.0, 1.0, 0.0, 0.0, 0.0]\n",
       " [0.0, 0.0, 0.0, 0.0, 0.0]\n",
       " [1.0, 0.0, 0.0, 0.0, 0.0]\n",
       " [0.0, 0.0, 0.0, 0.0, 0.0]\n",
       " [1.0, 0.0, 0.0, 0.0, 0.0]\n",
       " ⋮\n",
       " [0.0, 0.0, 1.0, 0.0, 0.0]\n",
       " [1.0, 0.0, 0.0, 0.0, 0.0]\n",
       " [0.0, 1.0, 0.0, 0.0, 1.0]\n",
       " [0.0, 0.0, 1.0, 2.0, 0.0]\n",
       " [1.0, 0.0, 0.0, 0.0, 3.0]\n",
       " [0.0, 0.0, 0.0, 0.0, 0.0]\n",
       " [0.0, 0.0, 1.0, 2.0, 1.0]\n",
       " [2.0, 2.0, 0.0, 0.0, 0.0]\n",
       " [0.0, 0.0, 0.0, 0.0, 0.0]\n",
       " [0.0, 0.0, 0.0, 1.0, 0.0]\n",
       " [2.0, 1.0, 2.0, 0.0, 0.0]\n",
       " [0.0, 0.0, 1.0, 0.0, 0.0]"
      ]
     },
     "execution_count": 4,
     "metadata": {},
     "output_type": "execute_result"
    }
   ],
   "source": [
    "Random.seed!(1234)\n",
    "\n",
    "# sample size\n",
    "N = 10000\n",
    "# observations per subject\n",
    "n = 5\n",
    "\n",
    "variance_component_1 = 0.9\n",
    "variance_component_2 = 0.1\n",
    "\n",
    "r = 1\n",
    "p = 0.7\n",
    "μ = r * (1-p) * inv(p)\n",
    "\n",
    "#var = r * (1-p) * inv(p^2)\n",
    "\n",
    "# true beta\n",
    "β_true = log(μ)\n",
    "\n",
    "dist = NegativeBinomial\n",
    "\n",
    "Γ = variance_component_1 * ones(n, n) + variance_component_2 * Matrix(I, n, n)\n",
    "vecd = [dist(r, p) for i in 1:n]\n",
    "nonmixed_multivariate_dist = NonMixedMultivariateDistribution(vecd, Γ)\n",
    "\n",
    "Y = simulate_nobs_independent_vectors(nonmixed_multivariate_dist, N)"
   ]
  },
  {
   "cell_type": "markdown",
   "metadata": {},
   "source": [
    "## Loglikelihood and gradient as function of nuisance parameter\n",
    "\n",
    "The loglikelihood has 3 terms, but only the 2nd and 3rd depend on $r$. The gradient of the 3rd term involves complicated chain rules, so let us check the 3rd term numerically."
   ]
  },
  {
   "cell_type": "code",
   "execution_count": 119,
   "metadata": {
    "collapsed": false
   },
   "outputs": [
    {
     "data": {
      "text/plain": [
       "hess_r (generic function with 1 method)"
      ]
     },
     "execution_count": 119,
     "metadata": {},
     "output_type": "execute_result"
    }
   ],
   "source": [
    "# need y, μ, η to be predefined\n",
    "function loglikelihood_r(r)\n",
    "    D = Diagonal([sqrt(exp(η[j])*(exp(η[j])+r) / r) for j in 1:length(η)])\n",
    "    resid = inv(D) * (y - μ)\n",
    "    return log(1 + 0.5resid'*Γ*resid)\n",
    "end\n",
    "\n",
    "function grad_r(r)\n",
    "    D = Diagonal([sqrt(exp(η[j])*(exp(η[j])+r) / r) for j in 1:length(η)])\n",
    "    dD = Diagonal([-exp(2η[i]) / (2r^1.5 * sqrt(exp(η[i])*(exp(η[i])+r))) for i in 1:length(η)])\n",
    "    resid = inv(D) * (y - μ)\n",
    "    dresid = -inv(D)*dD*inv(D)*(y - μ)\n",
    "    return resid'*Γ*dresid / (1 + 0.5resid'*Γ*resid)\n",
    "end\n",
    "\n",
    "function hess_r(r)\n",
    "    D = Diagonal([sqrt(exp(η[j])*(exp(η[j])+r) / r) for j in 1:length(η)])\n",
    "    dD = Diagonal([-exp(2η[i]) / (2r^1.5 * sqrt(exp(η[i])*(exp(η[i])+r))) for i in 1:length(η)])\n",
    "    d2D = Diagonal([(exp(3η[i]) / (4r^1.5 * (exp(η[i])*(exp(η[i])+r))^(1.5))) + \n",
    "        (3exp(2η[i]) / (r^(2.5)*sqrt(exp(η[i])*(exp(η[i])+r)))) for i in 1:length(η)])\n",
    "    resid = inv(D) * (y - μ)\n",
    "    dresid = -inv(D)*dD*inv(D)*(y - μ)\n",
    "    d2resid = (2inv(D)*dD*inv(D)*dD*inv(D) - inv(D)*d2D*inv(D))*(y - μ)\n",
    "    denom = 1 + 0.5resid'*Γ*resid\n",
    "    term1 = (resid'*Γ*dresid / denom)^2\n",
    "    term2 = dresid'*Γ*dresid / denom\n",
    "    term3 = resid'*Γ*d2resid / denom\n",
    "    return -term1 + term2 + term3\n",
    "end\n"
   ]
  },
  {
   "cell_type": "markdown",
   "metadata": {},
   "source": [
    "## Check math against numerical derivatives"
   ]
  },
  {
   "cell_type": "code",
   "execution_count": 130,
   "metadata": {
    "collapsed": false
   },
   "outputs": [
    {
     "name": "stdout",
     "output_type": "stream",
     "text": [
      "grad_r(r) = 0.008551061091788182\n",
      "g(r) = 0.008551061091788164\n",
      "hess_r(r) = -0.011515402238817186\n",
      "h(r) = -0.0038194472562078185\n"
     ]
    }
   ],
   "source": [
    "# need y, η, μ, and r\n",
    "y = [1.0, 0.0, 0.0, 4.0, 1.0]\n",
    "η = randn(5)\n",
    "μ = exp.(η)\n",
    "r = 5.0\n",
    "\n",
    "# first derivatives\n",
    "g = x -> ForwardDiff.derivative(loglikelihood_r, x)\n",
    "@show grad_r(r) # actual\n",
    "@show g(r)      # numerical\n",
    "\n",
    "# second derivatives\n",
    "h = x -> ForwardDiff.derivative(g, x)\n",
    "@show hess_r(r) # actual\n",
    "@show h(r);     # numerical\n"
   ]
  },
  {
   "cell_type": "code",
   "execution_count": null,
   "metadata": {
    "collapsed": true
   },
   "outputs": [],
   "source": []
  }
 ],
 "metadata": {
  "kernelspec": {
   "display_name": "Julia 1.6.0",
   "language": "julia",
   "name": "julia-1.6"
  },
  "language_info": {
   "file_extension": ".jl",
   "mimetype": "application/julia",
   "name": "julia",
   "version": "1.6.0"
  }
 },
 "nbformat": 4,
 "nbformat_minor": 2
}
