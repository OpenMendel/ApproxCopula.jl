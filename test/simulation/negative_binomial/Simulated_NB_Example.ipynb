{
 "cells": [
  {
   "cell_type": "markdown",
   "metadata": {},
   "source": [
    "# Form the NB Regression Random Intercept Model: Simulated set\n",
    "\n",
    "Using Block update of beta and MM-update. We will use the file \"fit_old.jl\"\n",
    "\n",
    "Without having to compute the gradient and hessian of variance components vector, we finish in 67 iterations and 9 seconds.\n",
    "\n",
    "Next we may try joint estimation using Newton's + IPOPT. "
   ]
  },
  {
   "cell_type": "code",
   "execution_count": 68,
   "metadata": {
    "collapsed": false
   },
   "outputs": [
    {
     "data": {
      "text/plain": [
       "10000-element Vector{Vector{Float64}}:\n",
       " [0.0, 1.0, 0.0, 0.0, 1.0]\n",
       " [2.0, 0.0, 0.0, 0.0, 1.0]\n",
       " [1.0, 0.0, 0.0, 4.0, 1.0]\n",
       " [0.0, 0.0, 0.0, 0.0, 1.0]\n",
       " [3.0, 3.0, 3.0, 1.0, 1.0]\n",
       " [0.0, 0.0, 0.0, 0.0, 0.0]\n",
       " [3.0, 0.0, 0.0, 0.0, 0.0]\n",
       " [0.0, 1.0, 0.0, 0.0, 2.0]\n",
       " [0.0, 1.0, 0.0, 0.0, 0.0]\n",
       " [0.0, 0.0, 0.0, 0.0, 0.0]\n",
       " [1.0, 0.0, 0.0, 0.0, 0.0]\n",
       " [0.0, 0.0, 0.0, 0.0, 0.0]\n",
       " [1.0, 0.0, 0.0, 0.0, 0.0]\n",
       " ⋮\n",
       " [0.0, 0.0, 1.0, 0.0, 0.0]\n",
       " [1.0, 0.0, 0.0, 0.0, 0.0]\n",
       " [0.0, 1.0, 0.0, 0.0, 1.0]\n",
       " [0.0, 0.0, 1.0, 2.0, 0.0]\n",
       " [1.0, 0.0, 0.0, 0.0, 3.0]\n",
       " [0.0, 0.0, 0.0, 0.0, 0.0]\n",
       " [0.0, 0.0, 1.0, 2.0, 1.0]\n",
       " [2.0, 2.0, 0.0, 0.0, 0.0]\n",
       " [0.0, 0.0, 0.0, 0.0, 0.0]\n",
       " [0.0, 0.0, 0.0, 1.0, 0.0]\n",
       " [2.0, 1.0, 2.0, 0.0, 0.0]\n",
       " [0.0, 0.0, 1.0, 0.0, 0.0]"
      ]
     },
     "execution_count": 68,
     "metadata": {},
     "output_type": "execute_result"
    }
   ],
   "source": [
    "using Revise\n",
    "using DataFrames, Random, GLM, GLMCopula\n",
    "using ForwardDiff, Test, LinearAlgebra\n",
    "using LinearAlgebra: BlasReal, copytri!\n",
    "using SpecialFunctions\n",
    "\n",
    "Random.seed!(1234)\n",
    "\n",
    "# sample size\n",
    "N = 10000\n",
    "# observations per subject\n",
    "n = 5\n",
    "\n",
    "variance_component_1 = 0.9\n",
    "variance_component_2 = 0.1\n",
    "\n",
    "r = 1\n",
    "p = 0.7\n",
    "μ = r * (1-p) * inv(p)\n",
    "\n",
    "#var = r * (1-p) * inv(p^2)\n",
    "\n",
    "# true beta\n",
    "β_true = log(μ)\n",
    "\n",
    "dist = NegativeBinomial\n",
    "\n",
    "Γ = variance_component_1 * ones(n, n) + variance_component_2 * Matrix(I, n, n)\n",
    "vecd = [dist(r, p) for i in 1:n]\n",
    "nonmixed_multivariate_dist = NonMixedMultivariateDistribution(vecd, Γ)\n",
    "\n",
    "Y_Nsample = simulate_nobs_independent_vectors(nonmixed_multivariate_dist, N)"
   ]
  },
  {
   "cell_type": "code",
   "execution_count": 69,
   "metadata": {
    "collapsed": true
   },
   "outputs": [],
   "source": [
    "d = NegativeBinomial()\n",
    "link = LogLink()\n",
    "D = typeof(d)\n",
    "Link = typeof(link)\n",
    "T = Float64\n",
    "gcs = Vector{GLMCopulaVCObs{T, D, Link}}(undef, N)\n",
    "for i in 1:N\n",
    "    y = Float64.(Y_Nsample[i])\n",
    "    X = ones(n, 1)\n",
    "    V = [ones(n, n), Matrix(I, n, n)]\n",
    "    gcs[i] = GLMCopulaVCObs(y, X, V, d, link)\n",
    "end\n",
    "gcm = GLMCopulaVCModel(gcs);"
   ]
  },
  {
   "cell_type": "code",
   "execution_count": 70,
   "metadata": {
    "collapsed": false
   },
   "outputs": [
    {
     "name": "stdout",
     "output_type": "stream",
     "text": [
      "initializing β using Newton's Algorithm under Independence Assumption\n",
      "1 0.0 -57421.69453199051 39999\n",
      "2 -57421.69453199051 -57421.69453199051 39999\n",
      "initializing variance components using MM-Algorithm\n",
      "gcm.β = [-0.3620034006976286]\n",
      "gcm.Σ = [0.18367019483213523, 4.683717988259242e-5]\n",
      "(gcm.data[1]).d.r = 1.0\n"
     ]
    },
    {
     "data": {
      "text/plain": [
       "1.0"
      ]
     },
     "execution_count": 70,
     "metadata": {},
     "output_type": "execute_result"
    }
   ],
   "source": [
    "initialize_model!(gcm)\n",
    "@show gcm.β\n",
    "@show gcm.Σ\n",
    "@show gcm.data[1].d.r"
   ]
  },
  {
   "cell_type": "markdown",
   "metadata": {},
   "source": [
    "Initialize β and σ2, here I just copy the solution for β and σ2 from MixedModels.jl over"
   ]
  },
  {
   "cell_type": "code",
   "execution_count": 71,
   "metadata": {
    "collapsed": false
   },
   "outputs": [
    {
     "data": {
      "text/plain": [
       "-56845.87658829459"
      ]
     },
     "execution_count": 71,
     "metadata": {},
     "output_type": "execute_result"
    }
   ],
   "source": [
    "GLMCopula.loglikelihood!(gcm, true, true)"
   ]
  },
  {
   "cell_type": "markdown",
   "metadata": {},
   "source": [
    "### Fit"
   ]
  },
  {
   "cell_type": "code",
   "execution_count": 72,
   "metadata": {
    "collapsed": false,
    "scrolled": true
   },
   "outputs": [
    {
     "name": "stdout",
     "output_type": "stream",
     "text": [
      "This is Ipopt version 3.12.10, running with linear solver mumps.\n",
      "NOTE: Other linear solvers might be more efficient (see Ipopt documentation).\n",
      "\n",
      "Number of nonzeros in equality constraint Jacobian...:        0\n",
      "Number of nonzeros in inequality constraint Jacobian.:        0\n",
      "Number of nonzeros in Lagrangian Hessian.............:        4\n",
      "\n"
     ]
    },
    {
     "ename": "LoadError",
     "evalue": "DomainError with -4.009759181267438:\nlog will only return a complex result if called with a complex argument. Try log(Complex(x)).",
     "output_type": "error",
     "traceback": [
      "DomainError with -4.009759181267438:\nlog will only return a complex result if called with a complex argument. Try log(Complex(x)).",
      "",
      "Stacktrace:",
      "  [1] throw_complex_domainerror(f::Symbol, x::Float64)",
      "    @ Base.Math ./math.jl:33",
      "  [2] log(x::Float64)",
      "    @ Base.Math ./special/log.jl:285",
      "  [3] loglikelihood!(gc::GLMCopulaVCObs{Float64, NegativeBinomial{Float64}, LogLink}, β::Vector{Float64}, τ::Float64, Σ::Vector{Float64}, needgrad::Bool, needhess::Bool)",
      "    @ GLMCopula ~/.julia/dev/GLMCopula/src/parameter_estimation/splitting_loglikelihood.jl:91",
      "  [4] loglikelihood!(gcm::GLMCopulaVCModel{Float64, NegativeBinomial{Float64}, LogLink}, needgrad::Bool, needhess::Bool)",
      "    @ GLMCopula ~/.julia/dev/GLMCopula/src/parameter_estimation/splitting_loglikelihood.jl:132",
      "  [5] eval_grad_f(gcm::GLMCopulaVCModel{Float64, NegativeBinomial{Float64}, LogLink}, grad::Vector{Float64}, par::Vector{Float64})",
      "    @ GLMCopula ~/.julia/dev/GLMCopula/src/parameter_estimation/fit_old.jl:52",
      "  [6] (::Ipopt.var\"#eval_grad_f_cb#7\"{GLMCopulaVCModel{Float64, NegativeBinomial{Float64}, LogLink}, Float64})(x::Vector{Float64}, grad_f::Vector{Float64})",
      "    @ Ipopt ~/.julia/packages/Ipopt/UXSdI/src/MPB_wrapper.jl:68",
      "  [7] eval_grad_f_wrapper(n::Int32, x_ptr::Ptr{Float64}, new_x::Int32, grad_f_ptr::Ptr{Float64}, user_data::Ptr{Nothing})",
      "    @ Ipopt ~/.julia/packages/Ipopt/UXSdI/src/Ipopt.jl:148",
      "  [8] solveProblem(prob::IpoptProblem)",
      "    @ Ipopt ~/.julia/packages/Ipopt/UXSdI/src/Ipopt.jl:342",
      "  [9] optimize!(m::Ipopt.IpoptMathProgModel)",
      "    @ Ipopt ~/.julia/packages/Ipopt/UXSdI/src/MPB_wrapper.jl:141",
      " [10] fit2!(gcm::GLMCopulaVCModel{Float64, NegativeBinomial{Float64}, LogLink}, solver::IpoptSolver)",
      "    @ GLMCopula ~/.julia/dev/GLMCopula/src/parameter_estimation/fit_old.jl:10",
      " [11] top-level scope",
      "    @ ./timing.jl:210 [inlined]",
      " [12] top-level scope",
      "    @ ./In[72]:0",
      " [13] eval",
      "    @ ./boot.jl:360 [inlined]",
      " [14] include_string(mapexpr::typeof(REPL.softscope), mod::Module, code::String, filename::String)",
      "    @ Base ./loading.jl:1094"
     ]
    }
   ],
   "source": [
    "# does not update r\n",
    "@time fit2!(gcm, IpoptSolver(print_level = 5, max_iter = 500, mehrotra_algorithm=\"yes\", warm_start_init_point=\"yes\", hessian_approximation = \"exact\"))"
   ]
  },
  {
   "cell_type": "code",
   "execution_count": 55,
   "metadata": {
    "collapsed": false,
    "scrolled": true
   },
   "outputs": [
    {
     "name": "stdout",
     "output_type": "stream",
     "text": [
      "new_d = NegativeBinomial{Float64}(r=2.1996724830149925, p=0.5)\n",
      "gcm.θ = [0.6698378267028183, 0.012562861976226226, 5.0e-324]\n",
      "new_d = NegativeBinomial{Float64}(r=2.1996727803865155, p=0.5)\n",
      "gcm.θ = [0.6698378267028183, 9.99999999, 9.99999999]\n",
      "This is Ipopt version 3.12.10, running with linear solver mumps.\n",
      "NOTE: Other linear solvers might be more efficient (see Ipopt documentation).\n",
      "\n",
      "Number of nonzeros in equality constraint Jacobian...:        0\n",
      "Number of nonzeros in inequality constraint Jacobian.:        0\n",
      "Number of nonzeros in Lagrangian Hessian.............:        4\n",
      "\n",
      "Total number of variables............................:        3\n",
      "                     variables with only lower bounds:        2\n",
      "                variables with lower and upper bounds:        0\n",
      "                     variables with only upper bounds:        0\n",
      "Total number of equality constraints.................:        0\n",
      "Total number of inequality constraints...............:        0\n",
      "        inequality constraints with only lower bounds:        0\n",
      "   inequality constraints with lower and upper bounds:        0\n",
      "        inequality constraints with only upper bounds:        0\n",
      "\n",
      "iter    objective    inf_pr   inf_du lg(mu)  ||d||  lg(rg) alpha_du alpha_pr  ls\n",
      "   0  9.3899897e+04 0.00e+00 1.06e+02   0.0 0.00e+00    -  0.00e+00 0.00e+00   0\n",
      "new_d = NegativeBinomial{Float64}(r=2.199673042099687, p=0.5)\n",
      "gcm.θ = [0.4811797908703601, 10.267954717613021, 9.592392436818498]\n",
      "   1  9.2937126e+04 0.00e+00 5.88e+00  -6.5 4.08e-01   0.0 9.91e-01 1.00e+00f  1\n",
      "new_d = NegativeBinomial{Float64}(r=2.1996733001131217, p=0.5)\n",
      "gcm.θ = [0.4704691662091281, 10.968959330687287, 8.257791996239575]\n",
      "   2  9.2859824e+04 0.00e+00 4.23e-01  -7.2 1.33e+00  -0.5 9.95e-01 1.00e+00f  1\n",
      "new_d = NegativeBinomial{Float64}(r=2.1996735576691506, p=0.5)\n",
      "gcm.θ = [0.4702876594048804, 11.10382839434031, 5.511941692064537]\n",
      "   3  9.2779507e+04 0.00e+00 2.34e-01  -8.2 2.75e+00  -1.0 9.95e-01 1.00e+00f  1\n",
      "new_d = NegativeBinomial{Float64}(r=2.199673813084969, p=0.5)\n",
      "gcm.θ = [0.4706924842102213, 6.469353253055106, 1.9640338321608168]\n",
      "   4  9.2687797e+04 0.00e+00 4.91e-01  -8.9 4.63e+00  -1.4 1.00e+00 1.00e+00f  1\n",
      "new_d = NegativeBinomial{Float64}(r=2.1996740380606323, p=0.5)\n",
      "gcm.θ = [0.47072532420844215, 0.7733106869736064, 0.019640328421608455]\n",
      "   5  9.1912849e+04 0.00e+00 8.72e+00 -11.0 4.27e+01  -1.0 1.00e+00 1.34e-01f  1\n",
      "new_d = NegativeBinomial{Float64}(r=2.1996742617767877, p=0.5)\n",
      "gcm.θ = [0.4718812906880795, 0.7508318139769214, 0.0001963933842160856]\n",
      "   6  9.1893623e+04 0.00e+00 8.50e+00 -10.3 3.22e-01   1.2 1.00e+00 6.99e-02f  1\n",
      "new_d = NegativeBinomial{Float64}(r=2.19967452716408, p=0.5)\n",
      "gcm.θ = [0.4884018904375943, 114.36712123691329, 83.69405781431668]\n",
      "   7  9.2942772e+04 0.00e+00 1.01e+01 -11.0 1.14e+02   0.7 6.52e-03 1.00e+00h  1\n",
      "new_d = NegativeBinomial{Float64}(r=2.1996747868866855, p=0.5)\n",
      "gcm.θ = [0.47078407287366203, 187.22504710346539, 84.181610346209]\n",
      "   8  9.2901613e+04 0.00e+00 1.03e-01   0.5 7.29e+01    -  9.88e-01 1.00e+00f  1\n",
      "new_d = NegativeBinomial{Float64}(r=2.1996750466064294, p=0.5)\n",
      "gcm.θ = [0.47078938804749615, 169.5650293519193, 86.1360299612406]\n",
      "   9  9.2896804e+04 0.00e+00 1.21e-01  -3.6 1.77e+01    -  9.91e-01 1.00e+00f  1\n",
      "new_d = NegativeBinomial{Float64}(r=2.1996753051523252, p=0.5)\n",
      "gcm.θ = [0.47058179699656094, 20.169125901942635, 9.28055442201233]\n",
      "iter    objective    inf_pr   inf_du lg(mu)  ||d||  lg(rg) alpha_du alpha_pr  ls\n",
      "  10  9.2830475e+04 0.00e+00 7.34e-02  -6.9 1.49e+02    -  1.00e+00 1.00e+00f  1\n",
      "new_d = NegativeBinomial{Float64}(r=2.1996755637403, p=0.5)\n",
      "gcm.θ = [0.4707069388282415, 20.14894247366087, 9.276861487509954]\n",
      "  11  9.2830405e+04 0.00e+00 3.78e-02 -11.0 2.02e-02   0.3 9.90e-01 1.00e+00f  1\n",
      "new_d = NegativeBinomial{Float64}(r=2.1996758223269337, p=0.5)\n",
      "gcm.θ = [0.4707106645339353, 20.089016141642418, 9.263840736489984]\n",
      "  12  9.2830197e+04 0.00e+00 3.74e-02 -11.0 5.99e-02  -0.2 9.90e-01 1.00e+00f  1\n",
      "new_d = NegativeBinomial{Float64}(r=2.199676080904324, p=0.5)\n",
      "gcm.θ = [0.470709109752296, 19.912510259880786, 9.211934750517637]\n",
      "  13  9.2829576e+04 0.00e+00 3.67e-02 -11.0 1.77e-01  -0.7 9.90e-01 1.00e+00f  1\n",
      "new_d = NegativeBinomial{Float64}(r=2.1996763394492747, p=0.5)\n",
      "gcm.θ = [0.4707056706857521, 19.383062508437135, 8.99581119405746]\n",
      "  14  9.2827615e+04 0.00e+00 3.67e-02 -11.0 5.29e-01  -1.2 9.91e-01 1.00e+00f  1\n",
      "new_d = NegativeBinomial{Float64}(r=2.1996765978600883, p=0.5)\n",
      "gcm.θ = [0.4707024889848872, 17.566694557745674, 8.107416756075326]\n",
      "  15  9.2819849e+04 0.00e+00 4.27e-02 -11.0 1.82e+00  -1.6 1.00e+00 1.00e+00f  1\n",
      "new_d = NegativeBinomial{Float64}(r=2.199676849498335, p=0.5)\n",
      "gcm.θ = [0.47071048157572304, 3.4050534717815566, 0.9022761547842721]\n",
      "  16  9.2512497e+04 0.00e+00 1.04e+00 -11.0 1.42e+01  -2.1 1.00e+00 1.00e+00f  1\n",
      "new_d = NegativeBinomial{Float64}(r=2.199677097385263, p=0.5)\n",
      "gcm.θ = [0.47157401097922114, 2.2765576643696273, 0.48543600760886185]\n",
      "  17  9.2363030e+04 0.00e+00 1.73e+00 -11.0 1.13e+00   0.1 1.00e+00 1.00e+00f  1\n",
      "new_d = NegativeBinomial{Float64}(r=2.1996773382521413, p=0.5)\n",
      "gcm.θ = [0.4728403118719497, 1.5186544107599853, 0.1410197602817721]\n",
      "  18  9.2173979e+04 0.00e+00 3.28e+00 -11.0 7.58e-01   0.5 1.00e+00 1.00e+00f  1\n",
      "new_d = NegativeBinomial{Float64}(r=2.1996775715509735, p=0.5)\n",
      "gcm.θ = [0.4747914626298906, 1.113039136126357, 0.0014101877028177279]\n",
      "  19  9.2021587e+04 0.00e+00 4.53e+00 -11.0 4.73e-01   1.0 1.00e+00 8.57e-01f  1\n",
      "new_d = NegativeBinomial{Float64}(r=2.199677804713644, p=0.5)\n",
      "gcm.θ = [0.4747921817695009, 1.1081838061960072, 1.409197702817726e-5]\n",
      "iter    objective    inf_pr   inf_du lg(mu)  ||d||  lg(rg) alpha_du alpha_pr  ls\n",
      "  20  9.2019502e+04 0.00e+00 4.54e+00  -9.4 2.68e+01   0.5 1.00e+00 1.81e-04f  1\n",
      "new_d = NegativeBinomial{Float64}(r=2.1996780672390592, p=0.5)\n",
      "gcm.θ = [0.47885557295286046, 5.980942913926732e6, 379198.51854806894]\n",
      "  21  9.3701917e+04 0.00e+00 1.17e+00  -6.6 5.98e+06    -  5.04e-11 1.00e+00h  1\n",
      "new_d = NegativeBinomial{Float64}(r=2.199678334399072, p=0.5)\n",
      "gcm.θ = [0.4936875993435188, 5.980942913925767e6, 379198.5185632907]\n",
      "  22  9.3702488e+04 0.00e+00 3.34e+00 -11.0 1.48e-02   0.0 9.90e-01 1.00e+00h  1\n",
      "new_d = NegativeBinomial{Float64}(r=2.1996785998407042, p=0.5)\n",
      "gcm.θ = [0.48806315986543175, 5.98094291392297e6, 379198.5186074001]\n",
      "  23  9.3701535e+04 0.00e+00 6.99e-01 -11.0 5.62e-03  -0.5 9.90e-01 1.00e+00f  1\n",
      "new_d = NegativeBinomial{Float64}(r=2.1996788647146426, p=0.5)\n",
      "gcm.θ = [0.4862385388464795, 5.98094291391445e6, 379198.518741779]\n",
      "  24  9.3701472e+04 0.00e+00 9.67e-02 -11.0 1.82e-03  -0.9 9.90e-01 1.00e+00f  1\n",
      "new_d = NegativeBinomial{Float64}(r=2.199679129492754, p=0.5)\n",
      "gcm.θ = [0.48593213098068816, 5.980942913888774e6, 379198.5191467598]\n",
      "  25  9.3701470e+04 0.00e+00 7.47e-03 -11.0 4.05e-04  -1.4 9.90e-01 1.00e+00f  1\n",
      "new_d = NegativeBinomial{Float64}(r=2.1996793942631787, p=0.5)\n",
      "gcm.θ = [0.4859075781407329, 5.980942913811688e6, 379198.5203625994]\n",
      "  26  9.3701469e+04 0.00e+00 4.62e-04 -11.0 1.22e-03  -1.9 9.93e-01 1.00e+00f  1\n",
      "new_d = NegativeBinomial{Float64}(r=2.1996796590331247, p=0.5)\n",
      "gcm.θ = [0.48590605414119364, 5.980942913580418e6, 379198.52401033236]\n",
      "  27  9.3701469e+04 0.00e+00 1.94e-05 -11.0 3.65e-03  -2.4 1.00e+00 1.00e+00f  1\n",
      "new_d = NegativeBinomial{Float64}(r=2.1996799238030493, p=0.5)\n",
      "gcm.θ = [0.48590599009393365, 5.980942912886602e6, 379198.53495357087]\n",
      "  28  9.3701468e+04 0.00e+00 1.56e-05 -11.0 1.09e-02  -2.8 1.00e+00 1.00e+00f  1\n",
      "new_d = NegativeBinomial{Float64}(r=2.19968018857298, p=0.5)\n",
      "gcm.θ = [0.4859060155400854, 5.980942910805155e6, 379198.5677832887]\n",
      "  29  9.3701468e+04 0.00e+00 1.56e-05 -11.0 3.28e-02  -3.3 1.00e+00 1.00e+00f  1\n",
      "new_d = NegativeBinomial{Float64}(r=2.199680453342918, p=0.5)\n",
      "gcm.θ = [0.4859060438148364, 5.980942904560813e6, 379198.6662724122]\n",
      "iter    objective    inf_pr   inf_du lg(mu)  ||d||  lg(rg) alpha_du alpha_pr  ls\n",
      "  30  9.3701467e+04 0.00e+00 1.56e-05 -11.0 9.85e-02  -3.8 1.00e+00 1.00e+00f  1\n",
      "new_d = NegativeBinomial{Float64}(r=2.199680718112861, p=0.5)\n",
      "gcm.θ = [0.4859060641549181, 5.980942885827788e6, 379198.96173954644]\n",
      "  31  9.3701467e+04 0.00e+00 1.56e-05 -11.0 2.95e-01  -4.3 1.00e+00 1.00e+00f  1\n",
      "new_d = NegativeBinomial{Float64}(r=2.199680982882801, p=0.5)\n",
      "gcm.θ = [0.4859060596766088, 5.980942829628709e6, 379199.84813895944]\n",
      "  32  9.3701465e+04 0.00e+00 2.40e-05 -11.0 8.86e-01  -4.8 1.00e+00 1.00e+00f  1\n",
      "new_d = NegativeBinomial{Float64}(r=2.199681247652714, p=0.5)\n",
      "gcm.θ = [0.4859059806815634, 5.980942661031392e6, 379202.5073197081]\n",
      "  33  9.3701461e+04 0.00e+00 9.18e-05 -11.0 2.66e+00  -5.2 1.00e+00 1.00e+00f  1\n",
      "new_d = NegativeBinomial{Float64}(r=2.1996815124225306, p=0.5)\n",
      "gcm.θ = [0.4859056781390186, 5.980942155238661e6, 379210.48470579775]\n",
      "  34  9.3701449e+04 0.00e+00 2.95e-04 -11.0 7.98e+00  -5.7 1.00e+00 1.00e+00f  1\n",
      "new_d = NegativeBinomial{Float64}(r=2.1996817771920414, p=0.5)\n",
      "gcm.θ = [0.4859047050066118, 5.980940637853186e6, 379234.4154625455]\n",
      "  35  9.3701416e+04 0.00e+00 9.05e-04 -11.0 2.39e+01  -6.2 1.00e+00 1.00e+00f  1\n",
      "new_d = NegativeBinomial{Float64}(r=2.199682041960616, p=0.5)\n",
      "gcm.θ = [0.485901720566215, 5.980936085630559e6, 379306.1951339718]\n",
      "  36  9.3701316e+04 0.00e+00 2.73e-03 -11.0 7.18e+01  -6.7 1.00e+00 1.00e+00f  1\n",
      "new_d = NegativeBinomial{Float64}(r=2.1996823067263676, p=0.5)\n",
      "gcm.θ = [0.48589270631692566, 5.980922428365619e6, 379521.420890103]\n",
      "  37  9.3701019e+04 0.00e+00 8.21e-03 -11.0 2.15e+02  -7.1 1.00e+00 1.00e+00f  1\n",
      "new_d = NegativeBinomial{Float64}(r=2.199682571483644, p=0.5)\n",
      "gcm.θ = [0.4858656395275034, 5.980881451214687e6, 380166.0815589532]\n",
      "  38  9.3700129e+04 0.00e+00 2.45e-02 -11.0 6.45e+02  -7.6 1.00e+00 1.00e+00f  1\n",
      "new_d = NegativeBinomial{Float64}(r=2.1996828362155885, p=0.5)\n",
      "gcm.θ = [0.48578474569640145, 5.980758472176447e6, 382090.9846601199]\n",
      "  39  9.3697481e+04 0.00e+00 7.26e-02 -11.0 1.92e+03  -8.1 1.00e+00 1.00e+00f  1\n",
      "new_d = NegativeBinomial{Float64}(r=2.1996831008725, p=0.5)\n",
      "gcm.θ = [0.4855453160385866, 5.98038912353425e6, 387785.83121355297]\n",
      "iter    objective    inf_pr   inf_du lg(mu)  ||d||  lg(rg) alpha_du alpha_pr  ls\n",
      "  40  9.3689715e+04 0.00e+00 2.09e-01 -11.0 5.69e+03  -8.6 1.00e+00 1.00e+00f  1\n",
      "new_d = NegativeBinomial{Float64}(r=2.1996833653129153, p=0.5)\n",
      "gcm.θ = [0.48485601240012205, 5.97927779356064e6, 404197.8317699766]\n",
      "  41  9.3667883e+04 0.00e+00 5.53e-01 -11.0 1.64e+04  -9.0 1.00e+00 1.00e+00f  1\n",
      "new_d = NegativeBinomial{Float64}(r=2.199683629175932, p=0.5)\n",
      "gcm.θ = [0.4830287056225974, 5.97592338296738e6, 448392.67643899546]\n",
      "  42  9.3612828e+04 0.00e+00 1.18e+00 -11.0 4.42e+04  -9.5 1.00e+00 1.00e+00f  1\n",
      "new_d = NegativeBinomial{Float64}(r=2.199683891821014, p=0.5)\n",
      "gcm.θ = [0.4792257083427828, 5.96581927699414e6, 551842.8298399055]\n",
      "  43  9.3501871e+04 0.00e+00 1.54e+00 -11.0 1.03e+05 -10.0 1.00e+00 1.00e+00f  1\n",
      "new_d = NegativeBinomial{Float64}(r=2.199684153073159, p=0.5)\n",
      "gcm.θ = [0.47495821187561493, 5.936306720379872e6, 751273.0706555566]\n",
      "  44  9.3339316e+04 0.00e+00 8.94e-01 -11.0 1.99e+05 -10.5 1.00e+00 1.00e+00f  1\n",
      "new_d = NegativeBinomial{Float64}(r=2.1996844136967653, p=0.5)\n",
      "gcm.θ = [0.47306001273300474, 5.857102583942568e6, 1.0731331288529073e6]\n",
      "  45  9.3163590e+04 0.00e+00 4.35e-01 -11.0 3.22e+05 -11.0 1.00e+00 1.00e+00f  1\n",
      "new_d = NegativeBinomial{Float64}(r=2.199684674060717, p=0.5)\n",
      "gcm.θ = [0.4722806882116114, 5.674488826044064e6, 1.5136679549613397e6]\n",
      "  46  9.3018897e+04 0.00e+00 3.49e-01 -11.0 4.41e+05 -11.4 1.00e+00 1.00e+00f  1\n",
      "new_d = NegativeBinomial{Float64}(r=2.1996849342271587, p=0.5)\n",
      "gcm.θ = [0.4716897551635618, 5.35012133507962e6, 1.9928697842605389e6]\n",
      "  47  9.2934641e+04 0.00e+00 3.21e-01 -11.0 4.79e+05 -11.9 1.00e+00 1.00e+00f  1\n",
      "new_d = NegativeBinomial{Float64}(r=2.1996851942118005, p=0.5)\n",
      "gcm.θ = [0.47114724064124885, 5.005204374996102e6, 2.3390238759597377e6]\n",
      "  48  9.2908475e+04 0.00e+00 2.35e-01 -11.0 3.46e+05 -12.4 1.00e+00 1.00e+00f  1\n",
      "new_d = NegativeBinomial{Float64}(r=2.1996854540612696, p=0.5)\n",
      "gcm.θ = [0.4707447433719672, 4.872044930391901e6, 2.4687016183432676e6]\n",
      "  49  9.2906042e+04 0.00e+00 9.15e-02 -11.0 1.33e+05 -12.9 1.00e+00 1.00e+00f  1\n",
      "new_d = NegativeBinomial{Float64}(r=2.1996857138577304, p=0.5)\n",
      "gcm.θ = [0.4705871107474405, 4.858498397286917e6, 2.4883211684516054e6]\n",
      "iter    objective    inf_pr   inf_du lg(mu)  ||d||  lg(rg) alpha_du alpha_pr  ls\n",
      "  50  9.2906005e+04 0.00e+00 1.42e-02 -11.0 1.96e+04 -13.3 1.00e+00 1.00e+00f  1\n",
      "new_d = NegativeBinomial{Float64}(r=2.199685973645923, p=0.5)\n",
      "gcm.θ = [0.4705625416586823, 4.857993451858034e6, 2.489174073918596e6]\n",
      "  51  9.2906004e+04 0.00e+00 9.28e-04 -11.0 8.53e+02 -13.8 1.00e+00 1.00e+00f  1\n",
      "new_d = NegativeBinomial{Float64}(r=2.1996862334335745, p=0.5)\n",
      "gcm.θ = [0.47056094091489875, 4.8578659407227505e6, 2.4891310356731e6]\n",
      "  52  9.2906004e+04 0.00e+00 3.03e-05 -11.0 1.28e+02 -14.3 1.00e+00 1.00e+00f  1\n",
      "new_d = NegativeBinomial{Float64}(r=2.1996864932212055, p=0.5)\n",
      "gcm.θ = [0.47056088863082113, 4.857510266623742e6, 2.4889495016402267e6]\n",
      "  53  9.2906003e+04 0.00e+00 8.24e-06 -11.0 3.56e+02 -14.8 1.00e+00 1.00e+00f  1\n",
      "new_d = NegativeBinomial{Float64}(r=2.199686753008838, p=0.5)\n",
      "gcm.θ = [0.4705609028532859, 4.856443632842245e6, 2.4884029881228805e6]\n",
      "  54  9.2906003e+04 0.00e+00 9.80e-06 -11.0 1.07e+03 -15.3 1.00e+00 1.00e+00f  1\n",
      "new_d = NegativeBinomial{Float64}(r=2.199687012796474, p=0.5)\n",
      "gcm.θ = [0.47056091975856257, 4.853239537942309e6, 2.4867612292225217e6]\n",
      "  55  9.2906002e+04 0.00e+00 9.86e-06 -11.0 3.20e+03 -15.7 1.00e+00 1.00e+00f  1\n",
      "new_d = NegativeBinomial{Float64}(r=2.1996872725841126, p=0.5)\n",
      "gcm.θ = [0.47056093677171196, 4.843589024842911e6, 2.481816374734595e6]\n",
      "  56  9.2906002e+04 0.00e+00 9.86e-06 -11.0 9.65e+03 -16.2 1.00e+00 1.00e+00f  1\n",
      "new_d = NegativeBinomial{Float64}(r=2.1996875323717537, p=0.5)\n",
      "gcm.θ = [0.4705609537900521, 4.8142869048221605e6, 2.4668021897344105e6]\n",
      "  57  9.2906002e+04 0.00e+00 9.86e-06 -11.0 2.93e+04 -16.7 1.00e+00 1.00e+00f  1\n",
      "new_d = NegativeBinomial{Float64}(r=2.199687792159398, p=0.5)\n",
      "gcm.θ = [0.4705609708113281, 4.723038907968375e6, 2.420047419545998e6]\n",
      "  58  9.2906001e+04 0.00e+00 9.87e-06 -11.0 9.12e+04 -17.2 1.00e+00 1.00e+00f  1\n",
      "new_d = NegativeBinomial{Float64}(r=2.1996880519470445, p=0.5)\n",
      "gcm.θ = [0.47056098784162215, 4.413036900531689e6, 2.2612047970841927e6]\n",
      "  59  9.2906001e+04 0.00e+00 9.89e-06 -11.0 3.10e+05 -17.6 1.00e+00 1.00e+00f  1\n",
      "new_d = NegativeBinomial{Float64}(r=2.1996883117346906, p=0.5)\n",
      "gcm.θ = [0.47056100490737246, 2.7705851396092493e6, 1.4196252936384175e6]\n",
      "iter    objective    inf_pr   inf_du lg(mu)  ||d||  lg(rg) alpha_du alpha_pr  ls\n",
      "  60  9.2906000e+04 0.00e+00 1.01e-05 -11.0 1.64e+06 -18.1 1.00e+00 1.00e+00f  1\n",
      "new_d = NegativeBinomial{Float64}(r=2.1996885715222443, p=0.5)\n",
      "gcm.θ = [0.4705610223611474, 235794.7524507991, 120818.43871614104]\n",
      "  61  9.2905993e+04 0.00e+00 1.71e-05 -11.0 2.53e+06 -17.7 1.00e+00 1.00e+00f  1\n",
      "new_d = NegativeBinomial{Float64}(r=2.19968882677417, p=0.5)\n",
      "gcm.θ = [0.4705610401355612, 5.894324219756527, 2.063024141054484]\n",
      "  62  9.2663718e+04 0.00e+00 4.06e-01 -11.0 3.91e+05 -14.6 1.00e+00 6.03e-01f  1\n",
      "new_d = NegativeBinomial{Float64}(r=2.199689071814797, p=0.5)\n",
      "gcm.θ = [0.471027263702021, 1.8443621158746684, 0.35804926846821017]\n",
      "  63  9.2277049e+04 0.00e+00 2.07e+00 -11.0 4.05e+00  -0.7 1.00e+00 1.00e+00f  1\n",
      "new_d = NegativeBinomial{Float64}(r=2.199689305499077, p=0.5)\n",
      "gcm.θ = [0.47309393743483213, 1.1817326532640684, 0.003580482784682093]\n",
      "  64  9.2049516e+04 0.00e+00 4.53e+00 -11.0 9.86e-01   0.6 1.00e+00 6.72e-01f  1\n",
      "new_d = NegativeBinomial{Float64}(r=2.199689538880874, p=0.5)\n",
      "gcm.θ = [0.47321963132876016, 1.1669213406759065, 3.579492784682109e-5]\n",
      "  65  9.2043425e+04 0.00e+00 4.56e+00 -11.0 5.28e-01   1.0 1.00e+00 2.81e-02f  1\n",
      "new_d = NegativeBinomial{Float64}(r=2.199689799534795, p=0.5)\n",
      "gcm.θ = [0.4778202145336027, 18.44798403980669, 6.134015225357356]\n",
      "  66  9.2846415e+04 0.00e+00 7.66e+01  -9.4 1.73e+01   0.6 1.00e+00 1.00e+00h  1\n",
      "new_d = NegativeBinomial{Float64}(r=2.1996900543606235, p=0.5)\n",
      "gcm.θ = [0.47167199853068376, 0.18447983049806638, 6.0354746369614825]\n",
      "  67  9.4634319e+04 0.00e+00 1.10e+01  -3.8 1.95e+01    -  9.99e-01 9.38e-01h  1\n",
      "new_d = NegativeBinomial{Float64}(r=2.1996903077168115, p=0.5)\n",
      "gcm.θ = [0.4692564487271323, 2.076176082861676, 2.9961096589988685]\n",
      "  68  9.2996123e+04 0.00e+00 4.92e+00  -0.4 3.04e+00   0.1 1.00e+00 1.00e+00f  1\n",
      "new_d = NegativeBinomial{Float64}(r=2.199690561875743, p=0.5)\n",
      "gcm.θ = [0.4732937362207649, 2.5014157992304167, 2.1401598639082424]\n",
      "  69  9.2709770e+04 0.00e+00 2.61e+00  -3.7 8.56e-01   0.5 9.92e-01 1.00e+00f  1\n",
      "new_d = NegativeBinomial{Float64}(r=2.199690802921855, p=0.5)\n",
      "gcm.θ = [0.4733187711213126, 1.870644896069611, 0.021401588739082378]\n",
      "iter    objective    inf_pr   inf_du lg(mu)  ||d||  lg(rg) alpha_du alpha_pr  ls\n",
      "  70  9.2304068e+04 0.00e+00 4.56e+00  -3.5 4.06e+00   0.0 1.00e+00 5.22e-01f  1\n",
      "new_d = NegativeBinomial{Float64}(r=2.199691004539242, p=0.5)\n",
      "gcm.θ = [0.4719680224839982, 0.1890487600923405, 0.16813773138129]\n",
      "  71  9.2581744e+04 0.00e+00 3.86e+01  -2.2 1.68e+00   0.5 1.00e+00 1.00e+00h  1\n",
      "new_d = NegativeBinomial{Float64}(r=2.1996912644724884, p=0.5)\n",
      "gcm.θ = [0.541794760348716, 0.31448351354146264, 0.6643388369619079]\n",
      "  72  9.2953979e+04 0.00e+00 1.95e+01 -11.0 4.96e-01    -  1.00e+00 1.00e+00h  1\n",
      "new_d = NegativeBinomial{Float64}(r=2.1996915185103525, p=0.5)\n",
      "gcm.θ = [0.5051545307793107, 0.6280658392467434, 0.7828636036464456]\n",
      "  73  9.2666285e+04 0.00e+00 8.83e+00 -11.0 3.14e-01    -  1.00e+00 1.00e+00f  1\n",
      "new_d = NegativeBinomial{Float64}(r=2.1996917752841347, p=0.5)\n",
      "gcm.θ = [0.4901556203260661, 1.2328732155029465, 1.614162221029859]\n",
      "  74  9.2831441e+04 0.00e+00 5.86e+00 -11.0 8.31e-01    -  5.25e-01 1.00e+00h  1\n",
      "new_d = NegativeBinomial{Float64}(r=2.1996920347459374, p=0.5)\n",
      "gcm.θ = [0.47858574833390094, 3.5141552074358575, 6.50140750108993]\n",
      "  75  9.3252449e+04 0.00e+00 4.08e+00 -11.0 4.89e+00    -  3.29e-01 1.00e+00h  1\n",
      "new_d = NegativeBinomial{Float64}(r=2.1996922945540693, p=0.5)\n",
      "gcm.θ = [0.4706593375840363, 377.95491332248827, 2242.9587293291224]\n",
      "  76  9.4203912e+04 0.00e+00 3.68e+00 -11.0 2.24e+03    -  3.25e-03 1.00e+00h  1\n",
      "new_d = NegativeBinomial{Float64}(r=2.199692551957029, p=0.5)\n",
      "gcm.θ = [0.46398563545847893, 1199.2286446928413, 22.429587283391356]\n",
      "  77  9.4294579e+04 0.00e+00 1.76e+01  -0.9 2.43e+03    -  1.00e+00 9.14e-01h  1\n",
      "new_d = NegativeBinomial{Float64}(r=2.1996928053518894, p=0.5)\n",
      "gcm.θ = [0.45267611543119834, 1199.2286435908538, 22.429643750590163]\n",
      "  78  9.4267362e+04 0.00e+00 3.25e+01 -11.0 1.13e-02   3.6 9.90e-01 1.00e+00f  1\n",
      "new_d = NegativeBinomial{Float64}(r=2.199693048339257, p=0.5)\n",
      "gcm.θ = [0.42565126836187883, 1199.2286405911086, 22.429797911692116]\n",
      "  79  9.4224182e+04 0.00e+00 7.75e+00 -11.0 2.70e-02   3.1 9.90e-01 1.00e+00f  1\n",
      "new_d = NegativeBinomial{Float64}(r=2.199693292402555, p=0.5)\n",
      "gcm.θ = [0.4283057941441556, 1199.22863373299, 22.43015185542311]\n",
      "iter    objective    inf_pr   inf_du lg(mu)  ||d||  lg(rg) alpha_du alpha_pr  ls\n",
      "  80  9.4223116e+04 0.00e+00 1.36e+00 -11.0 2.65e-03   2.6 9.90e-01 1.00e+00f  1\n",
      "new_d = NegativeBinomial{Float64}(r=2.1996935366825783, p=0.5)\n",
      "gcm.θ = [0.4288440677248575, 1199.2286127539753, 22.431234333919587]\n",
      "  81  9.4223065e+04 0.00e+00 1.61e-01 -11.0 1.08e-03   2.2 9.90e-01 1.00e+00f  1\n",
      "new_d = NegativeBinomial{Float64}(r=2.1996937809789836, p=0.5)\n",
      "gcm.θ = [0.4288848065374138, 1199.228549545087, 22.43449520441614]\n",
      "  82  9.4223018e+04 0.00e+00 1.61e-01 -11.0 3.26e-03   1.7 9.93e-01 1.00e+00f  1\n",
      "new_d = NegativeBinomial{Float64}(r=2.19969402527659, p=0.5)\n",
      "gcm.θ = [0.42888777488565927, 1199.2283598189229, 22.444278778468114]\n",
      "  83  9.4222879e+04 0.00e+00 1.61e-01 -11.0 9.78e-03   1.2 1.00e+00 1.00e+00f  1\n",
      "new_d = NegativeBinomial{Float64}(r=2.199694269576386, p=0.5)\n",
      "gcm.θ = [0.42889312870257523, 1199.2277902867172, 22.47361052492078]\n",
      "  84  9.4222461e+04 0.00e+00 1.61e-01 -11.0 2.93e-02   0.7 1.00e+00 1.00e+00f  1\n",
      "new_d = NegativeBinomial{Float64}(r=2.1996945138827315, p=0.5)\n",
      "gcm.θ = [0.4289091157297483, 1199.226078565401, 22.561433114367382]\n",
      "  85  9.4221213e+04 0.00e+00 1.61e-01 -11.0 8.78e-02   0.3 1.00e+00 1.00e+00f  1\n",
      "new_d = NegativeBinomial{Float64}(r=2.199694758208685, p=0.5)\n",
      "gcm.θ = [0.42895696439678543, 1199.2209155575617, 22.823362990830265]\n",
      "  86  9.4217504e+04 0.00e+00 3.31e-01 -11.0 2.62e-01  -0.2 1.00e+00 1.00e+00f  1\n",
      "new_d = NegativeBinomial{Float64}(r=2.1996950025930424, p=0.5)\n",
      "gcm.θ = [0.4290995808739402, 1199.2051831405367, 23.595730835240992]\n",
      "  87  9.4206682e+04 0.00e+00 9.53e-01 -11.0 7.72e-01  -0.7 1.00e+00 1.00e+00f  1\n",
      "new_d = NegativeBinomial{Float64}(r=2.199695247148886, p=0.5)\n",
      "gcm.θ = [0.42951937722215455, 1199.1559717079815, 25.802259740758082]\n",
      "  88  9.4176652e+04 0.00e+00 2.54e+00 -11.0 2.21e+00  -1.2 1.00e+00 1.00e+00f  1\n",
      "new_d = NegativeBinomial{Float64}(r=2.199695492189037, p=0.5)\n",
      "gcm.θ = [0.43071238911966153, 1198.993869203843, 31.636011484535835]\n",
      "  89  9.4102860e+04 0.00e+00 5.68e+00 -11.0 5.83e+00  -1.6 1.00e+00 1.00e+00f  1\n"
     ]
    },
    {
     "ename": "LoadError",
     "evalue": "InterruptException:",
     "output_type": "error",
     "traceback": [
      "InterruptException:",
      "",
      "Stacktrace:",
      "  [1] logabsbeta(a::Float64, b::Float64)",
      "    @ SpecialFunctions ~/.julia/packages/SpecialFunctions/Bm58S/src/gamma.jl:828",
      "  [2] logbeta",
      "    @ ~/.julia/packages/SpecialFunctions/Bm58S/src/gamma.jl:788 [inlined]",
      "  [3] logpdf(d::NegativeBinomial{Float64}, k::Float64)",
      "    @ Distributions ~/.julia/packages/Distributions/Xrm9e/src/univariate/discrete/negativebinomial.jl:98",
      "  [4] component_loglikelihood",
      "    @ ~/.julia/dev/GLMCopula/src/parameter_estimation/splitting_loglikelihood.jl:49 [inlined]",
      "  [5] (::GLMCopula.var\"#negbin_component_loglikelihood#262\"{DataType})(gcm::GLMCopulaVCModel{Float64, NegativeBinomial{Float64}, LogLink}, r::Float64)",
      "    @ GLMCopula ~/.julia/dev/GLMCopula/src/parameter_estimation/update_sigma_and_residuals.jl:237",
      "  [6] update_r_newton!(gcm::GLMCopulaVCModel{Float64, NegativeBinomial{Float64}, LogLink}; maxIter::Int64, convTol::Float64)",
      "    @ GLMCopula ~/.julia/dev/GLMCopula/src/parameter_estimation/update_sigma_and_residuals.jl:271",
      "  [7] update_r_newton!",
      "    @ ~/.julia/dev/GLMCopula/src/parameter_estimation/update_sigma_and_residuals.jl:182 [inlined]",
      "  [8] update_r!(gcm::GLMCopulaVCModel{Float64, NegativeBinomial{Float64}, LogLink})",
      "    @ GLMCopula ~/.julia/dev/GLMCopula/src/parameter_estimation/update_sigma_and_residuals.jl:293",
      "  [9] eval_grad_f(gcm::GLMCopulaVCModel{Float64, NegativeBinomial{Float64}, LogLink}, grad::Vector{Float64}, par::Vector{Float64})",
      "    @ GLMCopula ~/.julia/dev/GLMCopula/src/parameter_estimation/fit_old.jl:63",
      " [10] (::Ipopt.var\"#eval_grad_f_cb#7\"{GLMCopulaVCModel{Float64, NegativeBinomial{Float64}, LogLink}, Float64})(x::Vector{Float64}, grad_f::Vector{Float64})",
      "    @ Ipopt ~/.julia/packages/Ipopt/UXSdI/src/MPB_wrapper.jl:68",
      " [11] eval_grad_f_wrapper(n::Int32, x_ptr::Ptr{Float64}, new_x::Int32, grad_f_ptr::Ptr{Float64}, user_data::Ptr{Nothing})",
      "    @ Ipopt ~/.julia/packages/Ipopt/UXSdI/src/Ipopt.jl:148",
      " [12] solveProblem(prob::IpoptProblem)",
      "    @ Ipopt ~/.julia/packages/Ipopt/UXSdI/src/Ipopt.jl:342",
      " [13] optimize!(m::Ipopt.IpoptMathProgModel)",
      "    @ Ipopt ~/.julia/packages/Ipopt/UXSdI/src/MPB_wrapper.jl:141",
      " [14] fit!(gcm::GLMCopulaVCModel{Float64, NegativeBinomial{Float64}, LogLink}, solver::IpoptSolver)",
      "    @ GLMCopula ~/.julia/dev/GLMCopula/src/parameter_estimation/fit_new.jl:28",
      " [15] top-level scope",
      "    @ ./timing.jl:210 [inlined]",
      " [16] top-level scope",
      "    @ ./In[55]:0",
      " [17] eval",
      "    @ ./boot.jl:360 [inlined]",
      " [18] include_string(mapexpr::typeof(REPL.softscope), mod::Module, code::String, filename::String)",
      "    @ Base ./loading.jl:1094"
     ]
    }
   ],
   "source": [
    "# updates r using newton\n",
    "@time fit!(gcm, IpoptSolver(print_level = 5, max_iter = 500, mehrotra_algorithm=\"yes\", warm_start_init_point=\"yes\", hessian_approximation = \"exact\"))"
   ]
  },
  {
   "cell_type": "code",
   "execution_count": 57,
   "metadata": {
    "collapsed": false
   },
   "outputs": [
    {
     "name": "stdout",
     "output_type": "stream",
     "text": [
      "β_true = 0.5389965007326872\n",
      "gcm.β = [0.5038358480381085]\n",
      "gcm.Σ = [0.5459747582737707, 0.0]\n",
      "gcm.∇β = [-1.1747502495218498e-6]\n",
      "(gcm.data[1]).d = NegativeBinomial{Float64}(r=2.457944258588164, p=0.5)\n",
      "GLMCopula.loglikelihood!(gcm, true, true) = -91803.25750220718\n"
     ]
    }
   ],
   "source": [
    "@show β_true\n",
    "@show gcm.β\n",
    "@show gcm.Σ\n",
    "@show gcm.∇β\n",
    "@show gcm.data[1].d\n",
    "@show GLMCopula.loglikelihood!(gcm, true, true);"
   ]
  },
  {
   "cell_type": "code",
   "execution_count": 14,
   "metadata": {
    "collapsed": false
   },
   "outputs": [
    {
     "name": "stdout",
     "output_type": "stream",
     "text": [
      "estimated β = -0.8574308284816735; true β = -0.8472978603872034\n",
      "estimated variance component 1 = 0.982527024613311; true variance component 1 = 0.9\n",
      "estimated variance component 2 = 0.12942862508284544; true variance component 2 = 0.1\n"
     ]
    }
   ],
   "source": [
    "println(\"estimated β = $(gcm.β[1]); true β = $β_true\")\n",
    "println(\"estimated variance component 1 = $(gcm.Σ[1]); true variance component 1 = $variance_component_1\")\n",
    "println(\"estimated variance component 2 = $(gcm.Σ[2]); true variance component 2 = $variance_component_2\");"
   ]
  },
  {
   "cell_type": "code",
   "execution_count": 9,
   "metadata": {
    "collapsed": false
   },
   "outputs": [
    {
     "data": {
      "text/plain": [
       "BenchmarkTools.Trial: \n",
       "  memory estimate:  22.89 MiB\n",
       "  allocs estimate:  250000\n",
       "  --------------\n",
       "  minimum time:     31.666 ms (0.00% GC)\n",
       "  median time:      34.955 ms (0.00% GC)\n",
       "  mean time:        38.332 ms (6.67% GC)\n",
       "  maximum time:     102.631 ms (60.42% GC)\n",
       "  --------------\n",
       "  samples:          131\n",
       "  evals/sample:     1"
      ]
     },
     "execution_count": 9,
     "metadata": {},
     "output_type": "execute_result"
    }
   ],
   "source": [
    "# still needs some work (I hypothesize from GLM loglikeobs function)\n",
    "using BenchmarkTools\n",
    "\n",
    "@benchmark loglikelihood!($gcm, true, true)"
   ]
  }
 ],
 "metadata": {
  "@webio": {
   "lastCommId": null,
   "lastKernelId": null
  },
  "kernelspec": {
   "display_name": "Julia 1.6.0",
   "language": "julia",
   "name": "julia-1.6"
  },
  "language_info": {
   "file_extension": ".jl",
   "mimetype": "application/julia",
   "name": "julia",
   "version": "1.6.0"
  },
  "toc": {
   "base_numbering": 1,
   "nav_menu": {},
   "number_sections": true,
   "sideBar": true,
   "skip_h1_title": false,
   "title_cell": "Table of Contents",
   "title_sidebar": "Contents",
   "toc_cell": false,
   "toc_position": {},
   "toc_section_display": true,
   "toc_window_display": false
  }
 },
 "nbformat": 4,
 "nbformat_minor": 2
}
