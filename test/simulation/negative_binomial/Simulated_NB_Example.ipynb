{
 "cells": [
  {
   "cell_type": "markdown",
   "metadata": {},
   "source": [
    "# Form the NB Regression Random Intercept Model: Simulated set\n",
    "\n",
    "Using Block update of beta and MM-update. We will use the file \"fit_old.jl\"\n",
    "\n",
    "Without having to compute the gradient and hessian of variance components vector, we finish in 91 iterations and 11 seconds.\n",
    "\n",
    "Next we may try joint estimation using Newton's + IPOPT. \n",
    "\n",
    "\n",
    "    note: Here I give r = 10 when creating the model object, this way we are not having to update r at each iteration. "
   ]
  },
  {
   "cell_type": "code",
   "execution_count": 1,
   "metadata": {
    "collapsed": false
   },
   "outputs": [
    {
     "data": {
      "text/plain": [
       "10000-element Array{Array{Float64,1},1}:\n",
       " [2.0, 1.0, 2.0, 6.0, 1.0]\n",
       " [8.0, 5.0, 3.0, 5.0, 2.0]\n",
       " [2.0, 4.0, 4.0, 9.0, 2.0]\n",
       " [4.0, 5.0, 2.0, 4.0, 1.0]\n",
       " [9.0, 10.0, 10.0, 1.0, 1.0]\n",
       " [4.0, 4.0, 3.0, 4.0, 3.0]\n",
       " [9.0, 6.0, 5.0, 4.0, 4.0]\n",
       " [6.0, 7.0, 3.0, 6.0, 0.0]\n",
       " [4.0, 7.0, 3.0, 3.0, 3.0]\n",
       " [4.0, 4.0, 3.0, 3.0, 6.0]\n",
       " [2.0, 6.0, 5.0, 2.0, 3.0]\n",
       " [3.0, 2.0, 2.0, 7.0, 4.0]\n",
       " [2.0, 3.0, 6.0, 2.0, 3.0]\n",
       " ⋮\n",
       " [2.0, 3.0, 1.0, 4.0, 2.0]\n",
       " [1.0, 3.0, 6.0, 6.0, 2.0]\n",
       " [2.0, 1.0, 3.0, 5.0, 7.0]\n",
       " [6.0, 3.0, 1.0, 1.0, 5.0]\n",
       " [2.0, 3.0, 4.0, 4.0, 9.0]\n",
       " [2.0, 3.0, 6.0, 2.0, 6.0]\n",
       " [2.0, 3.0, 1.0, 1.0, 2.0]\n",
       " [8.0, 0.0, 6.0, 3.0, 5.0]\n",
       " [5.0, 3.0, 2.0, 3.0, 6.0]\n",
       " [5.0, 3.0, 3.0, 8.0, 5.0]\n",
       " [8.0, 2.0, 1.0, 4.0, 3.0]\n",
       " [3.0, 6.0, 1.0, 3.0, 3.0]"
      ]
     },
     "execution_count": 1,
     "metadata": {},
     "output_type": "execute_result"
    }
   ],
   "source": [
    "using Revise\n",
    "using DataFrames, Random, GLM, GLMCopula\n",
    "using ForwardDiff, Test, LinearAlgebra\n",
    "using LinearAlgebra: BlasReal, copytri!\n",
    "using SpecialFunctions\n",
    "\n",
    "Random.seed!(1234)\n",
    "\n",
    "# sample size\n",
    "N = 10000\n",
    "# observations per subject\n",
    "n = 5\n",
    "\n",
    "variance_component_1 = 0.1\n",
    "variance_component_2 = 0.1\n",
    "\n",
    "r = 10\n",
    "p = 0.7\n",
    "μ = r * (1-p) * inv(p)\n",
    "\n",
    "# var = r * (1-p) * inv(p^2)\n",
    "\n",
    "# true beta\n",
    "β_true = log(μ)\n",
    "\n",
    "dist = NegativeBinomial\n",
    "\n",
    "Γ = variance_component_1 * ones(n, n) + variance_component_2 * Matrix(I, n, n)\n",
    "vecd = [dist(r, p) for i in 1:n]\n",
    "nonmixed_multivariate_dist = NonMixedMultivariateDistribution(vecd, Γ)\n",
    "\n",
    "Y_Nsample = simulate_nobs_independent_vectors(nonmixed_multivariate_dist, N)"
   ]
  },
  {
   "cell_type": "code",
   "execution_count": 2,
   "metadata": {},
   "outputs": [],
   "source": [
    "d = NegativeBinomial(10, 0.5)\n",
    "link = LogLink()\n",
    "D = typeof(d)\n",
    "Link = typeof(link)\n",
    "T = Float64\n",
    "gcs = Vector{GLMCopulaVCObs{T, D, Link}}(undef, N)\n",
    "for i in 1:N\n",
    "    y = Float64.(Y_Nsample[i])\n",
    "    X = ones(n, 1)\n",
    "    V = [ones(n, n), Matrix(I, n, n)]\n",
    "    gcs[i] = GLMCopulaVCObs(y, X, V, d, link)\n",
    "end\n",
    "gcm = GLMCopulaVCModel(gcs);"
   ]
  },
  {
   "cell_type": "code",
   "execution_count": 3,
   "metadata": {},
   "outputs": [
    {
     "name": "stdout",
     "output_type": "stream",
     "text": [
      "initializing β using Newton's Algorithm under Independence Assumption\n",
      "1 0.0 -117067.2665631555 39999\n",
      "2 -117067.2665631555 -117067.2665631555 39999\n",
      "initializing variance components using MM-Algorithm\n",
      "gcm.β = [1.4871979594607563]\n",
      "gcm.Σ = [0.09147887350489728, 0.05454936551160692]\n"
     ]
    },
    {
     "data": {
      "text/plain": [
       "2-element Array{Float64,1}:\n",
       " 0.09147887350489728\n",
       " 0.05454936551160692"
      ]
     },
     "execution_count": 2,
     "metadata": {},
     "output_type": "execute_result"
    }
   ],
   "source": [
    "d = NegativeBinomial(10) # set r here\n",
    "link = LogLink()\n",
    "D = typeof(d)\n",
    "Link = typeof(link)\n",
    "T = Float64\n",
    "gcs = Vector{GLMCopulaVCObs{T, D, Link}}(undef, N)\n",
    "for i in 1:N\n",
    "    y = Float64.(Y_Nsample[i])\n",
    "    X = ones(n, 1)\n",
    "    V = [ones(n, n), Matrix(I, n, n)]\n",
    "    gcs[i] = GLMCopulaVCObs(y, X, V, d, link)\n",
    "end\n",
    "gcm = GLMCopulaVCModel(gcs);\n",
    "\n",
    "initialize_model!(gcm)\n",
    "@show gcm.β\n",
    "@show gcm.Σ\n",
    "@show gcm.data[1].d.r"
   ]
  },
  {
   "cell_type": "code",
   "execution_count": 4,
   "metadata": {},
   "outputs": [
    {
     "data": {
      "text/plain": [
       "1.4552872326068422"
      ]
     },
     "execution_count": 4,
     "metadata": {},
     "output_type": "execute_result"
    }
   ],
   "source": [
    "β_true"
   ]
  },
  {
   "cell_type": "markdown",
   "metadata": {},
   "source": [
    "Initialize β and σ2, here I just copy the solution for β and σ2 from MixedModels.jl over"
   ]
  },
  {
   "cell_type": "code",
   "execution_count": 3,
   "metadata": {
    "collapsed": false
   },
   "outputs": [
    {
     "data": {
      "text/plain": [
       "-116743.32998423115"
      ]
     },
     "execution_count": 3,
     "metadata": {},
     "output_type": "execute_result"
    }
   ],
   "source": [
    "GLMCopula.loglikelihood!(gcm, true, true)"
   ]
  },
  {
   "cell_type": "markdown",
   "metadata": {},
   "source": [
    "## Fit_old (not updating r) works\n",
    "\n",
    "If true $r$ is not 1, setting the correct $r$ in initialize function will make it work too."
   ]
  },
  {
   "cell_type": "code",
   "execution_count": 12,
   "metadata": {
    "collapsed": false,
    "scrolled": true
   },
   "outputs": [
    {
     "name": "stdout",
     "output_type": "stream",
     "text": [
      "gcm.β = [1.4871979594607563]\n",
      "gcm.Σ = [0.09147889287065758, 0.05454830925214411]\n",
      "gcm.β = [1.4871979594607563]\n",
      "gcm.Σ = [0.09147891165676356, 0.05454728469513783]\n",
      "\n",
      "******************************************************************************\n",
      "This program contains Ipopt, a library for large-scale nonlinear optimization.\n",
      " Ipopt is released as open source code under the Eclipse Public License (EPL).\n",
      "         For more information visit https://github.com/coin-or/Ipopt\n",
      "******************************************************************************\n",
      "\n",
      "This is Ipopt version 3.13.4, running with linear solver mumps.\n",
      "NOTE: Other linear solvers might be more efficient (see Ipopt documentation).\n",
      "\n",
      "Number of nonzeros in equality constraint Jacobian...:        0\n",
      "Number of nonzeros in inequality constraint Jacobian.:        0\n",
      "Number of nonzeros in Lagrangian Hessian.............:        1\n",
      "\n",
      "Total number of variables............................:        1\n",
      "                     variables with only lower bounds:        0\n",
      "                variables with lower and upper bounds:        0\n",
      "                     variables with only upper bounds:        0\n",
      "Total number of equality constraints.................:        0\n",
      "Total number of inequality constraints...............:        0\n",
      "        inequality constraints with only lower bounds:        0\n",
      "   inequality constraints with lower and upper bounds:        0\n",
      "        inequality constraints with only upper bounds:        0\n",
      "\n",
      "iter    objective    inf_pr   inf_du lg(mu)  ||d||  lg(rg) alpha_du alpha_pr  ls\n",
      "   0  1.1674333e+05 0.00e+00 1.00e+02   0.0 0.00e+00    -  0.00e+00 0.00e+00   0\n",
      "gcm.β = [1.4644926358828343]\n",
      "gcm.Σ = [0.0977025888476423, 0.08220628660016187]\n",
      "   1  1.1670947e+05 0.00e+00 1.59e+01 -11.0 2.27e-02    -  1.00e+00 1.00e+00f  1\n",
      "gcm.β = [1.4607795522100568]\n",
      "gcm.Σ = [0.09908185342133854, 0.0870385534748013]\n",
      "   2  1.1670859e+05 0.00e+00 2.55e+00 -11.0 3.71e-03    -  1.00e+00 1.00e+00f  1\n",
      "gcm.β = [1.4601822275882224]\n",
      "gcm.Σ = [0.0993137446894527, 0.08782387755517651]\n",
      "   3  1.1670856e+05 0.00e+00 4.09e-01 -11.0 5.97e-04    -  1.00e+00 1.00e+00f  1\n",
      "gcm.β = [1.4600864106183813]\n",
      "gcm.Σ = [0.09935116487724235, 0.08794991582446655]\n",
      "   4  1.1670856e+05 0.00e+00 6.55e-02 -11.0 9.58e-05    -  1.00e+00 1.00e+00f  1\n",
      "gcm.β = [1.4600710636910517]\n",
      "gcm.Σ = [0.09935650694921193, 0.08797050452951212]\n",
      "   5  1.1670856e+05 0.00e+00 1.04e-02 -11.0 1.53e-05    -  1.00e+00 1.00e+00f  1\n",
      "gcm.β = [1.460068629685965]\n",
      "gcm.Σ = [0.09935700081565484, 0.08797370912919485]\n",
      "   6  1.1670856e+05 0.00e+00 1.49e-03 -11.0 2.43e-06    -  1.00e+00 1.00e+00f  1\n",
      "gcm.β = [1.4600682810058212]\n",
      "gcm.Σ = [0.09935744186551627, 0.08797670638660184]\n",
      "   7  1.1670856e+05 0.00e+00 1.33e-03 -11.0 3.49e-07    -  1.00e+00 1.00e+00f  1\n",
      "gcm.β = [1.4600679703880017]\n",
      "gcm.Σ = [0.09935775793886643, 0.08797941741594291]\n",
      "   8  1.1670856e+05 0.00e+00 1.17e-03 -11.0 3.11e-07    -  1.00e+00 1.00e+00f  1\n",
      "gcm.β = [1.4600676969447894]\n",
      "gcm.Σ = [0.0993579909780214, 0.08798186876415695]\n",
      "   9  1.1670856e+05 0.00e+00 1.03e-03 -11.0 2.73e-07    -  1.00e+00 1.00e+00f  1\n",
      "gcm.β = [1.4600674545082306]\n",
      "gcm.Σ = [0.09935816785438946, 0.08798408459270596]\n",
      "iter    objective    inf_pr   inf_du lg(mu)  ||d||  lg(rg) alpha_du alpha_pr  ls\n",
      "  10  1.1670856e+05 0.00e+00 9.22e-04 -11.0 2.42e-07    -  1.00e+00 1.00e+00f  1\n",
      "gcm.β = [1.4600672384465438]\n",
      "gcm.Σ = [0.09935830607496045, 0.08798608707290652]\n",
      "  11  1.1670856e+05 0.00e+00 8.25e-04 -11.0 2.16e-07    -  1.00e+00 1.00e+00f  1\n",
      "gcm.β = [1.4600670451619722]\n",
      "gcm.Σ = [0.0993584171167563, 0.08798789645304292]\n",
      "  12  1.1670856e+05 0.00e+00 7.40e-04 -11.0 1.93e-07    -  1.00e+00 1.00e+00f  1\n",
      "gcm.β = [1.460066871780362]\n",
      "gcm.Σ = [0.09935850856755779, 0.08798953116477992]\n",
      "  13  1.1670856e+05 0.00e+00 6.65e-04 -11.0 1.73e-07    -  1.00e+00 1.00e+00f  1\n",
      "gcm.β = [1.4600667159462848]\n",
      "gcm.Σ = [0.09935858550022666, 0.08799100794784195]\n",
      "  14  1.1670856e+05 0.00e+00 5.98e-04 -11.0 1.56e-07    -  1.00e+00 1.00e+00f  1\n",
      "gcm.β = [1.4600665756864204]\n",
      "gcm.Σ = [0.0993586513556112, 0.08799234198093357]\n",
      "  15  1.1670856e+05 0.00e+00 5.39e-04 -11.0 1.40e-07    -  1.00e+00 1.00e+00f  1\n",
      "gcm.β = [1.4600664493172035]\n",
      "gcm.Σ = [0.0993587085103206, 0.08799354701173051]\n",
      "  16  1.1670856e+05 0.00e+00 4.86e-04 -11.0 1.26e-07    -  1.00e+00 1.00e+00f  1\n",
      "gcm.β = [1.4600663353812982]\n",
      "gcm.Σ = [0.09935875864236494, 0.08799463548183599]\n",
      "  17  1.1670856e+05 0.00e+00 4.38e-04 -11.0 1.14e-07    -  1.00e+00 1.00e+00f  1\n",
      "gcm.β = [1.4600662326029645]\n",
      "gcm.Σ = [0.09935880296705428, 0.08799561864445718]\n",
      "  18  1.1670856e+05 0.00e+00 3.96e-04 -11.0 1.03e-07    -  1.00e+00 1.00e+00f  1\n",
      "gcm.β = [1.4600661398559203]\n",
      "gcm.Σ = [0.09935884238967584, 0.08799650667384978]\n",
      "  19  1.1670856e+05 0.00e+00 3.57e-04 -11.0 9.27e-08    -  1.00e+00 1.00e+00f  1\n",
      "gcm.β = [1.4600660561395324]\n",
      "gcm.Σ = [0.09935887760456694, 0.08799730876609363]\n",
      "iter    objective    inf_pr   inf_du lg(mu)  ||d||  lg(rg) alpha_du alpha_pr  ls\n",
      "  20  1.1670856e+05 0.00e+00 3.22e-04 -11.0 8.37e-08    -  1.00e+00 1.00e+00f  1\n",
      "gcm.β = [1.460065980560686]\n",
      "gcm.Σ = [0.099358909159879, 0.08799803323148024]\n",
      "  21  1.1670856e+05 0.00e+00 2.91e-04 -11.0 7.56e-08    -  1.00e+00 1.00e+00f  1\n",
      "gcm.β = [1.4600659123195354]\n",
      "gcm.Σ = [0.09935893750007077, 0.08799868757871356]\n",
      "  22  1.1670856e+05 0.00e+00 2.63e-04 -11.0 6.82e-08    -  1.00e+00 1.00e+00f  1\n",
      "gcm.β = [1.4600658506980297]\n",
      "gcm.Σ = [0.09935896299414636, 0.0879992785915297]\n",
      "  23  1.1670856e+05 0.00e+00 2.37e-04 -11.0 6.16e-08    -  1.00e+00 1.00e+00f  1\n",
      "gcm.β = [1.4600657950504206]\n",
      "gcm.Σ = [0.09935898595461447, 0.08799981239823844]\n",
      "  24  1.1670856e+05 0.00e+00 2.14e-04 -11.0 5.56e-08    -  1.00e+00 1.00e+00f  1\n",
      "gcm.β = [1.460065744795257]\n",
      "gcm.Σ = [0.09935900665042462, 0.0880002945347492]\n",
      "  25  1.1670856e+05 0.00e+00 1.94e-04 -11.0 5.03e-08    -  1.00e+00 1.00e+00f  1\n",
      "gcm.β = [1.4600656994085164]\n",
      "gcm.Σ = [0.09935902531596828, 0.08800073000164559]\n",
      "  26  1.1670856e+05 0.00e+00 1.75e-04 -11.0 4.54e-08    -  1.00e+00 1.00e+00f  1\n",
      "gcm.β = [1.4600656584176332]\n",
      "gcm.Σ = [0.09935904215747547, 0.08800112331581025]\n",
      "  27  1.1670856e+05 0.00e+00 1.58e-04 -11.0 4.10e-08    -  1.00e+00 1.00e+00f  1\n",
      "gcm.β = [1.4600656213962566]\n",
      "gcm.Σ = [0.09935905735772736, 0.08800147855714856]\n",
      "  28  1.1670856e+05 0.00e+00 1.43e-04 -11.0 3.70e-08    -  1.00e+00 1.00e+00f  1\n",
      "gcm.β = [1.4600655879596034]\n",
      "gcm.Σ = [0.09935907107956739, 0.08800179941079404]\n",
      "  29  1.1670856e+05 0.00e+00 1.29e-04 -11.0 3.34e-08    -  1.00e+00 1.00e+00f  1\n",
      "gcm.β = [1.4600655577603296]\n",
      "gcm.Σ = [0.09935908346864583, 0.08800208920527541]\n",
      "iter    objective    inf_pr   inf_du lg(mu)  ||d||  lg(rg) alpha_du alpha_pr  ls\n",
      "  30  1.1670856e+05 0.00e+00 1.16e-04 -11.0 3.02e-08    -  1.00e+00 1.00e+00f  1\n",
      "gcm.β = [1.460065530484836]\n",
      "gcm.Σ = [0.09935909465559381, 0.08800235094699765]\n",
      "  31  1.1670856e+05 0.00e+00 1.05e-04 -11.0 2.73e-08    -  1.00e+00 1.00e+00f  1\n",
      "gcm.β = [1.4600655058499576]\n",
      "gcm.Σ = [0.09935910475781902, 0.08800258735140541]\n",
      "  32  1.1670856e+05 0.00e+00 9.49e-05 -11.0 2.46e-08    -  1.00e+00 1.00e+00f  1\n",
      "gcm.β = [1.460065483599989]\n",
      "gcm.Σ = [0.09935911388098201, 0.08800280087112203]\n",
      "  33  1.1670856e+05 0.00e+00 8.57e-05 -11.0 2.22e-08    -  1.00e+00 1.00e+00f  1\n",
      "gcm.β = [1.460065463504009]\n",
      "gcm.Σ = [0.09935912212027086, 0.08800299372137536]\n",
      "  34  1.1670856e+05 0.00e+00 7.74e-05 -11.0 2.01e-08    -  1.00e+00 1.00e+00f  1\n",
      "gcm.β = [1.4600654453534707]\n",
      "gcm.Σ = [0.09935912956152179, 0.08800316790299068]\n",
      "  35  1.1670856e+05 0.00e+00 6.99e-05 -11.0 1.82e-08    -  1.00e+00 1.00e+00f  1\n",
      "gcm.β = [1.4600654289600266]\n",
      "gcm.Σ = [0.09935913628214484, 0.08800332522310772]\n",
      "  36  1.1670856e+05 0.00e+00 6.32e-05 -11.0 1.64e-08    -  1.00e+00 1.00e+00f  1\n",
      "gcm.β = [1.4600654141535707]\n",
      "gcm.Σ = [0.09935914235201607, 0.08800346731396039]\n",
      "  37  1.1670856e+05 0.00e+00 5.71e-05 -11.0 1.48e-08    -  1.00e+00 1.00e+00f  1\n",
      "gcm.β = [1.4600654007804668]\n",
      "gcm.Σ = [0.09935914783419024, 0.08800359564977302]\n",
      "  38  1.1670856e+05 0.00e+00 5.15e-05 -11.0 1.34e-08    -  1.00e+00 1.00e+00f  1\n",
      "gcm.β = [1.4600653887019563]\n",
      "gcm.Σ = [0.09935915278560085, 0.08800371156207222]\n",
      "  39  1.1670856e+05 0.00e+00 4.65e-05 -11.0 1.21e-08    -  1.00e+00 1.00e+00f  1\n",
      "gcm.β = [1.460065377792714]\n",
      "gcm.Σ = [0.09935915725765733, 0.08800381625349758]\n"
     ]
    },
    {
     "name": "stdout",
     "output_type": "stream",
     "text": [
      "iter    objective    inf_pr   inf_du lg(mu)  ||d||  lg(rg) alpha_du alpha_pr  ls\n",
      "  40  1.1670856e+05 0.00e+00 4.20e-05 -11.0 1.09e-08    -  1.00e+00 1.00e+00f  1\n",
      "gcm.β = [1.4600653679395466]\n",
      "gcm.Σ = [0.09935916129677433, 0.08800391081026562]\n",
      "  41  1.1670856e+05 0.00e+00 3.80e-05 -11.0 9.85e-09    -  1.00e+00 1.00e+00f  1\n",
      "gcm.β = [1.4600653590402208]\n",
      "gcm.Σ = [0.09935916494487544, 0.08800399621345237]\n",
      "  42  1.1670856e+05 0.00e+00 3.43e-05 -11.0 8.90e-09    -  1.00e+00 1.00e+00f  1\n",
      "gcm.β = [1.4600653510023993]\n",
      "gcm.Σ = [0.09935916823981635, 0.08800407334916008]\n",
      "  43  1.1670856e+05 0.00e+00 3.10e-05 -11.0 8.04e-09    -  1.00e+00 1.00e+00f  1\n",
      "gcm.β = [1.4600653437426843]\n",
      "gcm.Σ = [0.09935917121578826, 0.08800414301771696]\n",
      "  44  1.1670856e+05 0.00e+00 2.80e-05 -11.0 7.26e-09    -  1.00e+00 1.00e+00h  1\n",
      "gcm.β = [1.4600653371857504]\n",
      "gcm.Σ = [0.09935917390366869, 0.08800420594197564]\n",
      "  45  1.1670856e+05 0.00e+00 2.53e-05 -11.0 6.56e-09    -  1.00e+00 1.00e+00f  1\n",
      "gcm.β = [1.4600653312635656]\n",
      "gcm.Σ = [0.0993591763313466, 0.08800426277481388]\n",
      "  46  1.1670856e+05 0.00e+00 2.28e-05 -11.0 5.92e-09    -  1.00e+00 1.00e+00h  1\n",
      "gcm.β = [1.4600653259146823]\n",
      "gcm.Σ = [0.09935917852401772, 0.08800431410591662]\n",
      "  47  1.1670856e+05 0.00e+00 2.06e-05 -11.0 5.35e-09    -  1.00e+00 1.00e+00f  1\n",
      "gcm.β = [1.4600653210836017]\n",
      "gcm.Σ = [0.09935918050442563, 0.08800436046787437]\n",
      "  48  1.1670856e+05 0.00e+00 1.86e-05 -11.0 4.83e-09    -  1.00e+00 1.00e+00f  1\n",
      "gcm.β = [1.4600653167201982]\n",
      "gcm.Σ = [0.09935918229312166, 0.08800440234172818]\n",
      "  49  1.1670856e+05 0.00e+00 1.68e-05 -11.0 4.36e-09    -  1.00e+00 1.00e+00f  1\n",
      "gcm.β = [1.4600653127791974]\n",
      "gcm.Σ = [0.09935918390866383, 0.08800444016195061]\n",
      "iter    objective    inf_pr   inf_du lg(mu)  ||d||  lg(rg) alpha_du alpha_pr  ls\n",
      "  50  1.1670856e+05 0.00e+00 1.52e-05 -11.0 3.94e-09    -  1.00e+00 1.00e+00h  1\n",
      "gcm.β = [1.460065309219709]\n",
      "gcm.Σ = [0.09935918536781199, 0.08800447432095232]\n",
      "  51  1.1670856e+05 0.00e+00 1.37e-05 -11.0 3.56e-09    -  1.00e+00 1.00e+00f  1\n",
      "gcm.β = [1.4600653060048001]\n",
      "gcm.Σ = [0.09935918668570985, 0.0880045051731627]\n",
      "  52  1.1670856e+05 0.00e+00 1.24e-05 -11.0 3.21e-09    -  1.00e+00 1.00e+00h  1\n",
      "gcm.β = [1.4600653031011135]\n",
      "gcm.Σ = [0.09935918787602833, 0.08800453303869629]\n",
      "  53  1.1670856e+05 0.00e+00 1.12e-05 -11.0 2.90e-09    -  1.00e+00 1.00e+00h  1\n",
      "gcm.β = [1.4600653004785211]\n",
      "gcm.Σ = [0.09935918895111472, 0.0880045582066765]\n",
      "  54  1.1670856e+05 0.00e+00 1.01e-05 -11.0 2.62e-09    -  1.00e+00 1.00e+00f  1\n",
      "gcm.β = [1.4600652981098121]\n",
      "gcm.Σ = [0.09935918992213161, 0.08800458093824945]\n",
      "  55  1.1670856e+05 0.00e+00 9.13e-06 -11.0 2.37e-09    -  1.00e+00 1.00e+00h  1\n",
      "gcm.β = [1.460065295970408]\n",
      "gcm.Σ = [0.0993591907991485, 0.08800460146926876]\n",
      "  56  1.1670856e+05 0.00e+00 8.24e-06 -11.0 2.14e-09    -  1.00e+00 1.00e+00f  1\n",
      "gcm.β = [1.4600652940381107]\n",
      "gcm.Σ = [0.09935919159126128, 0.08800462001275759]\n",
      "  57  1.1670856e+05 0.00e+00 7.45e-06 -11.0 1.93e-09    -  1.00e+00 1.00e+00f  1\n",
      "gcm.β = [1.4600652922928725]\n",
      "gcm.Σ = [0.0993591923066985, 0.08800463676112799]\n",
      "  58  1.1670856e+05 0.00e+00 6.72e-06 -11.0 1.75e-09    -  1.00e+00 1.00e+00f  1\n",
      "gcm.β = [1.4600652907165832]\n",
      "gcm.Σ = [0.0993591929528746, 0.08800465188815138]\n",
      "  59  1.1670856e+05 0.00e+00 6.07e-06 -11.0 1.58e-09    -  1.00e+00 1.00e+00f  1\n",
      "gcm.β = [1.460065289292889]\n",
      "gcm.Σ = [0.09935919353649257, 0.08800466555078168]\n",
      "iter    objective    inf_pr   inf_du lg(mu)  ||d||  lg(rg) alpha_du alpha_pr  ls\n",
      "  60  1.1670856e+05 0.00e+00 5.49e-06 -11.0 1.42e-09    -  1.00e+00 1.00e+00h  1\n",
      "gcm.β = [1.460065288007018]\n",
      "gcm.Σ = [0.0993591940636146, 0.08800467789078618]\n",
      "  61  1.1670856e+05 0.00e+00 4.95e-06 -11.0 1.29e-09    -  1.00e+00 1.00e+00f  1\n",
      "gcm.β = [1.4600652868456268]\n",
      "gcm.Σ = [0.09935919453970922, 0.08800468903620236]\n",
      "  62  1.1670856e+05 0.00e+00 4.48e-06 -11.0 1.16e-09    -  1.00e+00 1.00e+00h  1\n",
      "gcm.β = [1.4600652857966656]\n",
      "gcm.Σ = [0.09935919496971779, 0.08800469910267614]\n",
      "  63  1.1670856e+05 0.00e+00 4.04e-06 -11.0 1.05e-09    -  1.00e+00 1.00e+00f  1\n",
      "gcm.β = [1.4600652848492497]\n",
      "gcm.Σ = [0.09935919535809759, 0.08800470819465143]\n",
      "  64  1.1670856e+05 0.00e+00 3.65e-06 -11.0 9.47e-10    -  1.00e+00 1.00e+00h  1\n",
      "gcm.β = [1.4600652839935497]\n",
      "gcm.Σ = [0.0993591957088799, 0.08800471640646655]\n",
      "  65  1.1670856e+05 0.00e+00 3.30e-06 -11.0 8.56e-10    -  1.00e+00 1.00e+00f  1\n",
      "gcm.β = [1.460065283220687]\n",
      "gcm.Σ = [0.0993591960257037, 0.0880047238233262]\n",
      "  66  1.1670856e+05 0.00e+00 2.98e-06 -11.0 7.73e-10    -  1.00e+00 1.00e+00h  1\n",
      "gcm.β = [1.4600652825226426]\n",
      "gcm.Σ = [0.0993591963118572, 0.08800473052218778]\n",
      "  67  1.1670856e+05 0.00e+00 2.69e-06 -11.0 6.98e-10    -  1.00e+00 1.00e+00f  1\n",
      "gcm.β = [1.4600652818921729]\n",
      "gcm.Σ = [0.0993591965703058, 0.08800473657255442]\n",
      "  68  1.1670856e+05 0.00e+00 2.43e-06 -11.0 6.30e-10    -  1.00e+00 1.00e+00h  1\n",
      "gcm.β = [1.460065281322737]\n",
      "gcm.Σ = [0.09935919680373706, 0.08800474203720889]\n",
      "  69  1.1670856e+05 0.00e+00 2.19e-06 -11.0 5.69e-10    -  1.00e+00 1.00e+00f  1\n",
      "gcm.β = [1.4600652808084262]\n",
      "gcm.Σ = [0.09935919701457452, 0.08800474697285315]\n",
      "iter    objective    inf_pr   inf_du lg(mu)  ||d||  lg(rg) alpha_du alpha_pr  ls\n",
      "  70  1.1670856e+05 0.00e+00 1.98e-06 -11.0 5.14e-10    -  1.00e+00 1.00e+00f  1\n",
      "gcm.β = [1.4600652803439031]\n",
      "gcm.Σ = [0.09935919720499882, 0.08800475143069453]\n",
      "  71  1.1670856e+05 0.00e+00 1.79e-06 -11.0 4.65e-10    -  1.00e+00 1.00e+00h  1\n",
      "gcm.β = [1.4600652799243494]\n",
      "gcm.Σ = [0.0993591973769875, 0.08800475545698808]\n",
      "  72  1.1670856e+05 0.00e+00 1.62e-06 -11.0 4.20e-10    -  1.00e+00 1.00e+00f  1\n",
      "gcm.β = [1.4600652795454112]\n",
      "gcm.Σ = [0.09935919753233108, 0.08800475909351442]\n",
      "  73  1.1670856e+05 0.00e+00 1.46e-06 -11.0 3.79e-10    -  1.00e+00 1.00e+00h  1\n",
      "gcm.β = [1.4600652792031559]\n",
      "gcm.Σ = [0.09935919767263296, 0.08800476237799963]\n",
      "  74  1.1670856e+05 0.00e+00 1.32e-06 -11.0 3.42e-10    -  1.00e+00 1.00e+00f  1\n",
      "gcm.β = [1.4600652788940334]\n",
      "gcm.Σ = [0.09935919779935928, 0.08800476534453201]\n",
      "  75  1.1670856e+05 0.00e+00 1.19e-06 -11.0 3.09e-10    -  1.00e+00 1.00e+00h  1\n",
      "gcm.β = [1.4600652786148351]\n",
      "gcm.Σ = [0.09935919791381277, 0.08800476802388202]\n",
      "  76  1.1670856e+05 0.00e+00 1.08e-06 -11.0 2.79e-10    -  1.00e+00 1.00e+00f  1\n",
      "gcm.β = [1.4600652783626655]\n",
      "gcm.Σ = [0.09935919801718705, 0.08800477044385481]\n",
      "  77  1.1670856e+05 0.00e+00 9.72e-07 -11.0 2.52e-10    -  1.00e+00 1.00e+00f  1\n",
      "gcm.β = [1.4600652781349075]\n",
      "gcm.Σ = [0.0993591981105497, 0.08800477262955493]\n",
      "  78  1.1670856e+05 0.00e+00 8.78e-07 -11.0 2.28e-10    -  1.00e+00 1.00e+00h  1\n",
      "gcm.β = [1.4600652779291985]\n",
      "gcm.Σ = [0.09935919819487797, 0.08800477460366858]\n",
      "  79  1.1670856e+05 0.00e+00 7.93e-07 -11.0 2.06e-10    -  1.00e+00 1.00e+00f  1\n",
      "gcm.β = [1.4600652777434031]\n",
      "gcm.Σ = [0.0993591982710407, 0.08800477638667319]\n",
      "iter    objective    inf_pr   inf_du lg(mu)  ||d||  lg(rg) alpha_du alpha_pr  ls\n",
      "  80  1.1670856e+05 0.00e+00 7.16e-07 -11.0 1.86e-10    -  1.00e+00 1.00e+00f  1\n",
      "gcm.β = [1.460065277575594]\n",
      "gcm.Σ = [0.0993591983398343, 0.08800477799707525]\n",
      "  81  1.1670856e+05 0.00e+00 6.47e-07 -11.0 1.68e-10    -  1.00e+00 1.00e+00f  1\n",
      "gcm.β = [1.4600652774240295]\n",
      "gcm.Σ = [0.09935919840196233, 0.08800477945157505]\n",
      "  82  1.1670856e+05 0.00e+00 5.84e-07 -11.0 1.52e-10    -  1.00e+00 1.00e+00f  1\n",
      "gcm.β = [1.4600652772871383]\n",
      "gcm.Σ = [0.09935919845808483, 0.08800478076527742]\n",
      "  83  1.1670856e+05 0.00e+00 5.27e-07 -11.0 1.37e-10    -  1.00e+00 1.00e+00h  1\n",
      "gcm.β = [1.4600652771634972]\n",
      "gcm.Σ = [0.09935919850876636, 0.08800478195179888]\n",
      "  84  1.1670856e+05 0.00e+00 4.76e-07 -11.0 1.24e-10    -  1.00e+00 1.00e+00f  1\n",
      "gcm.β = [1.460065277051827]\n",
      "gcm.Σ = [0.09935919855454221, 0.08800478302345703]\n",
      "  85  1.1670856e+05 0.00e+00 4.30e-07 -11.0 1.12e-10    -  1.00e+00 1.00e+00f  1\n",
      "gcm.β = [1.4600652769509672]\n",
      "gcm.Σ = [0.09935919859588878, 0.08800478399137385]\n",
      "  86  1.1670856e+05 0.00e+00 3.89e-07 -11.0 1.01e-10    -  1.00e+00 1.00e+00f  1\n",
      "gcm.β = [1.4600652768598708]\n",
      "gcm.Σ = [0.09935919863323414, 0.08800478486559153]\n",
      "  87  1.1670856e+05 0.00e+00 3.51e-07 -11.0 9.11e-11    -  1.00e+00 1.00e+00f  1\n",
      "gcm.β = [1.4600652767775926]\n",
      "gcm.Σ = [0.0993591986669617, 0.08800478565517704]\n",
      "  88  1.1670856e+05 0.00e+00 3.17e-07 -11.0 8.23e-11    -  1.00e+00 1.00e+00h  1\n",
      "gcm.β = [1.4600652767032805]\n",
      "gcm.Σ = [0.09935919869742917, 0.08800478636833046]\n"
     ]
    },
    {
     "name": "stdout",
     "output_type": "stream",
     "text": [
      "  89  1.1670856e+05 0.00e+00 2.86e-07 -11.0 7.43e-11    -  1.00e+00 1.00e+00f  1\n",
      "gcm.β = [1.4600652766361608]\n",
      "gcm.Σ = [0.09935919872494357, 0.08800478701244416]\n",
      "iter    objective    inf_pr   inf_du lg(mu)  ||d||  lg(rg) alpha_du alpha_pr  ls\n",
      "  90  1.1670856e+05 0.00e+00 2.59e-07 -11.0 6.71e-11    -  1.00e+00 1.00e+00f  1\n",
      "gcm.β = [1.4600652765755395]\n",
      "gcm.Σ = [0.09935919874979308, 0.08800478759420219]\n",
      "  91  1.1670856e+05 0.00e+00 2.34e-07 -11.0 6.06e-11    -  1.00e+00 1.00e+00h  1\n",
      "\n",
      "Number of Iterations....: 91\n",
      "\n",
      "                                   (scaled)                 (unscaled)\n",
      "Objective...............:   4.5124357909384134e+03    1.1670856227598549e+05\n",
      "Dual infeasibility......:   2.3358297896438130e-07    6.0413344167287164e-06\n",
      "Constraint violation....:   0.0000000000000000e+00    0.0000000000000000e+00\n",
      "Complementarity.........:   0.0000000000000000e+00    0.0000000000000000e+00\n",
      "Overall NLP error.......:   2.3358297896438130e-07    6.0413344167287164e-06\n",
      "\n",
      "\n",
      "Number of objective function evaluations             = 92\n",
      "Number of objective gradient evaluations             = 92\n",
      "Number of equality constraint evaluations            = 0\n",
      "Number of inequality constraint evaluations          = 0\n",
      "Number of equality constraint Jacobian evaluations   = 0\n",
      "Number of inequality constraint Jacobian evaluations = 0\n",
      "Number of Lagrangian Hessian evaluations             = 91\n",
      "Total CPU secs in IPOPT (w/o function evaluations)   =      0.753\n",
      "Total CPU secs in NLP function evaluations           =     74.741\n",
      "\n",
      "EXIT: Solved To Acceptable Level.\n",
      " 11.483100 seconds (56.24 M allocations: 4.995 GiB, 6.71% gc time)\n"
     ]
    }
   ],
   "source": [
    "@time fit2!(gcm, IpoptSolver(print_level = 5, max_iter = 500, mehrotra_algorithm=\"yes\", warm_start_init_point=\"yes\", hessian_approximation = \"exact\"))"
   ]
  },
  {
   "cell_type": "code",
   "execution_count": 13,
   "metadata": {
    "collapsed": false
   },
   "outputs": [
    {
     "name": "stdout",
     "output_type": "stream",
     "text": [
      "β_true = 1.4552872326068422\n",
      "gcm.β = [1.4600652765755395]\n",
      "gcm.Σ = [0.09935919874979308, 0.08800478759420219]\n",
      "gcm.∇β = [-6.041334416728716e-6]\n",
      "GLMCopula.loglikelihood!(gcm, true, true) = -116708.56227598326\n"
     ]
    }
   ],
   "source": [
    "@show β_true\n",
    "@show gcm.β\n",
    "@show gcm.Σ\n",
    "@show variance_component_1, variance_component_2\n",
    "@show gcm.∇β\n",
    "@show gcm.data[1].d\n",
    "@show GLMCopula.loglikelihood!(gcm, true, true);"
   ]
  },
  {
   "cell_type": "markdown",
   "metadata": {},
   "source": [
    "## fit_old (updating r)"
   ]
  },
  {
   "cell_type": "code",
   "execution_count": 21,
   "metadata": {
    "collapsed": false
   },
   "outputs": [
    {
     "name": "stdout",
     "output_type": "stream",
     "text": [
      "estimated β = 1.4600652765755395; true β = 1.4552872326068422\n",
      "estimated variance component 1 = 0.09935919874979308; true variance component 1 = 0.1\n",
      "estimated variance component 2 = 0.08800478759420219; true variance component 2 = 0.1\n"
     ]
    },
    {
     "data": {
      "text/plain": [
       "8.00000194402719"
      ]
     },
     "execution_count": 21,
     "metadata": {},
     "output_type": "execute_result"
    }
   ],
   "source": [
    "d = NegativeBinomial() # r is 1\n",
    "link = LogLink()\n",
    "D = typeof(d)\n",
    "Link = typeof(link)\n",
    "T = Float64\n",
    "gcs = Vector{GLMCopulaVCObs{T, D, Link}}(undef, N)\n",
    "for i in 1:N\n",
    "    y = Float64.(Y_Nsample[i])\n",
    "    X = ones(n, 1)\n",
    "    V = [ones(n, n), Matrix(I, n, n)] # V[1] isn't positive definite!!!!\n",
    "#     A = randn(n, n)\n",
    "#     V = [A'*A, Matrix(I, n, n)]\n",
    "    gcs[i] = GLMCopulaVCObs(y, X, V, d, link)\n",
    "end\n",
    "gcm = GLMCopulaVCModel(gcs);\n",
    "\n",
    "initialize_model!(gcm)\n",
    "@show gcm.β\n",
    "@show gcm.Σ\n",
    "@show gcm.data[1].d.r\n"
   ]
  },
  {
   "cell_type": "code",
   "execution_count": 9,
   "metadata": {
    "collapsed": false,
    "scrolled": true
   },
   "outputs": [
    {
     "data": {
      "text/plain": [
       "BenchmarkTools.Trial: \n",
       "  memory estimate:  18.31 MiB\n",
       "  allocs estimate:  200000\n",
       "  --------------\n",
       "  minimum time:     37.735 ms (0.00% GC)\n",
       "  median time:      41.235 ms (0.00% GC)\n",
       "  mean time:        41.593 ms (2.35% GC)\n",
       "  maximum time:     48.708 ms (0.00% GC)\n",
       "  --------------\n",
       "  samples:          121\n",
       "  evals/sample:     1"
      ]
     },
     "execution_count": 9,
     "metadata": {},
     "output_type": "execute_result"
    }
   ],
   "source": [
    "@time fit2!(gcm, IpoptSolver(print_level = 5, max_iter = 50, \n",
    "    mehrotra_algorithm=\"yes\", warm_start_init_point=\"yes\", hessian_approximation = \"exact\"))\n"
   ]
  },
  {
   "cell_type": "code",
   "execution_count": null,
   "metadata": {},
   "outputs": [],
   "source": []
  }
 ],
 "metadata": {
  "@webio": {
   "lastCommId": null,
   "lastKernelId": null
  },
  "kernelspec": {
   "display_name": "Julia 1.6.0",
   "language": "julia",
   "name": "julia-1.6"
  },
  "language_info": {
   "file_extension": ".jl",
   "mimetype": "application/julia",
   "name": "julia",
   "version": "1.6.0"
  },
  "toc": {
   "base_numbering": 1,
   "nav_menu": {},
   "number_sections": true,
   "sideBar": true,
   "skip_h1_title": false,
   "title_cell": "Table of Contents",
   "title_sidebar": "Contents",
   "toc_cell": false,
   "toc_position": {},
   "toc_section_display": true,
   "toc_window_display": false
  }
 },
 "nbformat": 4,
 "nbformat_minor": 2
}
