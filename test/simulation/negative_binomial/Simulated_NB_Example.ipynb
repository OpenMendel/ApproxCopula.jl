{
 "cells": [
  {
   "cell_type": "markdown",
   "metadata": {},
   "source": [
    "# Form the NB Regression Random Intercept Model: Simulated set\n",
    "\n",
    "Using Block update of beta and MM-update. We will use the file \"fit_old.jl\"\n",
    "\n",
    "Without having to compute the gradient and hessian of variance components vector, we finish in 67 iterations and 9 seconds.\n",
    "\n",
    "Next we may try joint estimation using Newton's + IPOPT. "
   ]
  },
  {
   "cell_type": "code",
   "execution_count": 1,
   "metadata": {},
   "outputs": [
    {
     "name": "stderr",
     "output_type": "stream",
     "text": [
      "┌ Info: Precompiling GLMCopula [c47b6ae2-b804-4668-9957-eb588c99ffbc]\n",
      "└ @ Base loading.jl:1278\n"
     ]
    },
    {
     "data": {
      "text/plain": [
       "10000-element Array{Array{Float64,1},1}:\n",
       " [0.0, 1.0, 0.0, 0.0, 1.0]\n",
       " [2.0, 0.0, 0.0, 0.0, 1.0]\n",
       " [1.0, 0.0, 0.0, 4.0, 1.0]\n",
       " [0.0, 0.0, 0.0, 0.0, 1.0]\n",
       " [3.0, 3.0, 3.0, 1.0, 1.0]\n",
       " [0.0, 0.0, 0.0, 0.0, 0.0]\n",
       " [3.0, 0.0, 0.0, 0.0, 0.0]\n",
       " [0.0, 1.0, 0.0, 0.0, 2.0]\n",
       " [0.0, 1.0, 0.0, 0.0, 0.0]\n",
       " [0.0, 0.0, 0.0, 0.0, 0.0]\n",
       " [1.0, 0.0, 0.0, 0.0, 0.0]\n",
       " [0.0, 0.0, 0.0, 0.0, 0.0]\n",
       " [1.0, 0.0, 0.0, 0.0, 0.0]\n",
       " ⋮\n",
       " [0.0, 0.0, 1.0, 0.0, 0.0]\n",
       " [1.0, 0.0, 0.0, 0.0, 0.0]\n",
       " [0.0, 1.0, 0.0, 0.0, 1.0]\n",
       " [0.0, 0.0, 1.0, 2.0, 0.0]\n",
       " [1.0, 0.0, 0.0, 0.0, 3.0]\n",
       " [0.0, 0.0, 0.0, 0.0, 0.0]\n",
       " [0.0, 0.0, 1.0, 2.0, 1.0]\n",
       " [2.0, 2.0, 0.0, 0.0, 0.0]\n",
       " [0.0, 0.0, 0.0, 0.0, 0.0]\n",
       " [0.0, 0.0, 0.0, 1.0, 0.0]\n",
       " [2.0, 1.0, 2.0, 0.0, 0.0]\n",
       " [0.0, 0.0, 1.0, 0.0, 0.0]"
      ]
     },
     "execution_count": 1,
     "metadata": {},
     "output_type": "execute_result"
    }
   ],
   "source": [
    "using DataFrames, Random, GLM, GLMCopula\n",
    "using ForwardDiff, Test, LinearAlgebra\n",
    "using LinearAlgebra: BlasReal, copytri!\n",
    "\n",
    "Random.seed!(1234)\n",
    "\n",
    "# sample size\n",
    "N = 10000\n",
    "# observations per subject\n",
    "n = 5\n",
    "\n",
    "variance_component_1 = 0.9\n",
    "variance_component_2 = 0.1\n",
    "\n",
    "r = 1\n",
    "p = 0.7\n",
    "μ = r * (1-p) * inv(p)\n",
    "\n",
    "#var = r * (1-p) * inv(p^2)\n",
    "\n",
    "# true beta\n",
    "β_true = log(μ)\n",
    "\n",
    "dist = NegativeBinomial\n",
    "\n",
    "Γ = variance_component_1 * ones(n, n) + variance_component_2 * Matrix(I, n, n)\n",
    "vecd = [dist(r, p) for i in 1:n]\n",
    "nonmixed_multivariate_dist = NonMixedMultivariateDistribution(vecd, Γ)\n",
    "\n",
    "Y_Nsample = simulate_nobs_independent_vectors(nonmixed_multivariate_dist, N)"
   ]
  },
  {
   "cell_type": "code",
   "execution_count": 2,
   "metadata": {},
   "outputs": [],
   "source": [
    "d = NegativeBinomial()\n",
    "link = LogLink()\n",
    "D = typeof(d)\n",
    "Link = typeof(link)\n",
    "T = Float64\n",
    "gcs = Vector{GLMCopulaVCObs{T, D, Link}}(undef, N)\n",
    "for i in 1:N\n",
    "    y = Float64.(Y_Nsample[i])\n",
    "    X = ones(n, 1)\n",
    "    V = [ones(n, n), Matrix(I, n, n)]\n",
    "    gcs[i] = GLMCopulaVCObs(y, X, V, d, link)\n",
    "end\n",
    "gcm = GLMCopulaVCModel(gcs);"
   ]
  },
  {
   "cell_type": "code",
   "execution_count": 3,
   "metadata": {},
   "outputs": [
    {
     "name": "stdout",
     "output_type": "stream",
     "text": [
      "initializing β using Newton's Algorithm under Independence Assumption\n",
      "1 0.0 -57421.69453199051 39999\n",
      "2 -57421.69453199051 -57421.69453199051 39999\n",
      "initializing variance components using MM-Algorithm\n",
      "gcm.β = [-0.3620034006976286]\n",
      "gcm.Σ = [0.18367019483213523, 4.683717988259242e-5]\n"
     ]
    },
    {
     "data": {
      "text/plain": [
       "2-element Array{Float64,1}:\n",
       " 0.18367019483213523\n",
       " 4.683717988259242e-5"
      ]
     },
     "execution_count": 3,
     "metadata": {},
     "output_type": "execute_result"
    }
   ],
   "source": [
    "initialize_model!(gcm)\n",
    "@show gcm.β\n",
    "@show gcm.Σ"
   ]
  },
  {
   "cell_type": "code",
   "execution_count": 4,
   "metadata": {},
   "outputs": [
    {
     "data": {
      "text/plain": [
       "-0.8472978603872034"
      ]
     },
     "execution_count": 4,
     "metadata": {},
     "output_type": "execute_result"
    }
   ],
   "source": [
    "β_true"
   ]
  },
  {
   "cell_type": "markdown",
   "metadata": {},
   "source": [
    "Initialize β and σ2, here I just copy the solution for β and σ2 from MixedModels.jl over"
   ]
  },
  {
   "cell_type": "code",
   "execution_count": 5,
   "metadata": {},
   "outputs": [
    {
     "data": {
      "text/plain": [
       "-56845.87658829459"
      ]
     },
     "execution_count": 5,
     "metadata": {},
     "output_type": "execute_result"
    }
   ],
   "source": [
    "GLMCopula.loglikelihood!(gcm, true, true)"
   ]
  },
  {
   "cell_type": "code",
   "execution_count": 6,
   "metadata": {},
   "outputs": [
    {
     "name": "stdout",
     "output_type": "stream",
     "text": [
      "gcm.β = [-0.3620034006976286]\n",
      "gcm.Σ = [0.18367013231033563, 4.570070064885234e-5]\n",
      "gcm.β = [-0.3620034006976286]\n",
      "gcm.Σ = [0.18367007132300728, 4.459186136154603e-5]\n",
      "\n",
      "******************************************************************************\n",
      "This program contains Ipopt, a library for large-scale nonlinear optimization.\n",
      " Ipopt is released as open source code under the Eclipse Public License (EPL).\n",
      "         For more information visit https://github.com/coin-or/Ipopt\n",
      "******************************************************************************\n",
      "\n",
      "This is Ipopt version 3.13.4, running with linear solver mumps.\n",
      "NOTE: Other linear solvers might be more efficient (see Ipopt documentation).\n",
      "\n",
      "Number of nonzeros in equality constraint Jacobian...:        0\n",
      "Number of nonzeros in inequality constraint Jacobian.:        0\n",
      "Number of nonzeros in Lagrangian Hessian.............:        1\n",
      "\n",
      "Total number of variables............................:        1\n",
      "                     variables with only lower bounds:        0\n",
      "                variables with lower and upper bounds:        0\n",
      "                     variables with only upper bounds:        0\n",
      "Total number of equality constraints.................:        0\n",
      "Total number of inequality constraints...............:        0\n",
      "        inequality constraints with only lower bounds:        0\n",
      "   inequality constraints with lower and upper bounds:        0\n",
      "        inequality constraints with only upper bounds:        0\n",
      "\n",
      "iter    objective    inf_pr   inf_du lg(mu)  ||d||  lg(rg) alpha_du alpha_pr  ls\n",
      "   0  5.6845875e+04 0.00e+00 1.00e+02   0.0 0.00e+00    -  0.00e+00 0.00e+00   0\n",
      "gcm.β = [-0.633134804995074]\n",
      "gcm.Σ = [0.53954361514907, 0.07742212545213835]\n",
      "   1  5.5910447e+04 0.00e+00 7.26e+01 -11.0 2.71e-01    -  1.00e+00 1.00e+00f  1\n",
      "gcm.β = [-0.795489124025371]\n",
      "gcm.Σ = [0.8621201815444983, 0.1207816059798512]\n",
      "   2  5.5598392e+04 0.00e+00 2.38e+01 -11.0 1.62e-01    -  1.00e+00 1.00e+00f  1\n",
      "gcm.β = [-0.8435106315197356]\n",
      "gcm.Σ = [0.9562083052119558, 0.12782241303615458]\n",
      "   3  5.5571223e+04 0.00e+00 5.52e+00 -11.0 4.80e-02    -  1.00e+00 1.00e+00f  1\n",
      "gcm.β = [-0.8545452985313522]\n",
      "gcm.Σ = [0.9770719525621667, 0.1290850502804109]\n",
      "   4  5.5569813e+04 0.00e+00 1.15e+00 -11.0 1.10e-02    -  1.00e+00 1.00e+00f  1\n",
      "gcm.β = [-0.8568441393807782]\n",
      "gcm.Σ = [0.981380554968264, 0.12933386322358423]\n",
      "   5  5.5569752e+04 0.00e+00 2.34e-01 -11.0 2.30e-03    -  1.00e+00 1.00e+00f  1\n",
      "gcm.β = [-0.8573112281799316]\n",
      "gcm.Σ = [0.9822539171043466, 0.12938384457595467]\n",
      "   6  5.5569750e+04 0.00e+00 4.72e-02 -11.0 4.67e-04    -  1.00e+00 1.00e+00f  1\n",
      "gcm.β = [-0.8574056006117698]\n",
      "gcm.Σ = [0.9824360365374807, 0.12940010768850538]\n",
      "   7  5.5569750e+04 0.00e+00 9.53e-03 -11.0 9.44e-05    -  1.00e+00 1.00e+00f  1\n",
      "gcm.β = [-0.857424668393064]\n",
      "gcm.Σ = [0.9824784941042446, 0.12940794183461307]\n",
      "   8  5.5569750e+04 0.00e+00 1.98e-03 -11.0 1.91e-05    -  1.00e+00 1.00e+00f  1\n",
      "gcm.β = [-0.8574286231887157]\n",
      "gcm.Σ = [0.9824877342681037, 0.1294103430747345]\n",
      "   9  5.5569750e+04 0.00e+00 4.03e-04 -11.0 3.95e-06    -  1.00e+00 1.00e+00f  1\n",
      "gcm.β = [-0.8574294289090324]\n",
      "gcm.Σ = [0.9824924463634083, 0.12941170598255397]\n",
      "iter    objective    inf_pr   inf_du lg(mu)  ||d||  lg(rg) alpha_du alpha_pr  ls\n",
      "  10  5.5569750e+04 0.00e+00 1.44e-04 -11.0 8.06e-07    -  1.00e+00 1.00e+00f  1\n",
      "gcm.β = [-0.8574297178220927]\n",
      "gcm.Σ = [0.9824964884253189, 0.12941301731927357]\n",
      "  11  5.5569750e+04 0.00e+00 1.01e-04 -11.0 2.89e-07    -  1.00e+00 1.00e+00f  1\n",
      "gcm.β = [-0.8574299201005218]\n",
      "gcm.Σ = [0.9824999234219571, 0.12941427135628544]\n",
      "  12  5.5569750e+04 0.00e+00 8.03e-05 -11.0 2.02e-07    -  1.00e+00 1.00e+00f  1\n",
      "gcm.β = [-0.8574300805883728]\n",
      "gcm.Σ = [0.9825028694640995, 0.12941545794928425]\n",
      "  13  5.5569750e+04 0.00e+00 6.53e-05 -11.0 1.60e-07    -  1.00e+00 1.00e+00f  1\n",
      "gcm.β = [-0.8574302111830886]\n",
      "gcm.Σ = [0.9825054211440326, 0.12941657142575955]\n",
      "  14  5.5569750e+04 0.00e+00 5.39e-05 -11.0 1.31e-07    -  1.00e+00 1.00e+00f  1\n",
      "gcm.β = [-0.8574303190095053]\n",
      "gcm.Σ = [0.9825076508125921, 0.12941760975732816]\n",
      "  15  5.5569750e+04 0.00e+00 4.51e-05 -11.0 1.08e-07    -  1.00e+00 1.00e+00f  1\n",
      "gcm.β = [-0.8574304092090481]\n",
      "gcm.Σ = [0.9825096140442143, 0.12941857341399154]\n",
      "  16  5.5569750e+04 0.00e+00 3.82e-05 -11.0 9.02e-08    -  1.00e+00 1.00e+00f  1\n",
      "gcm.β = [-0.8574304855933399]\n",
      "gcm.Σ = [0.9825113539675946, 0.1294194645075762]\n",
      "  17  5.5569750e+04 0.00e+00 3.27e-05 -11.0 7.64e-08    -  1.00e+00 1.00e+00f  1\n",
      "gcm.β = [-0.8574305510119823]\n",
      "gcm.Σ = [0.9825129044503889, 0.12942028618342083]\n",
      "  18  5.5569750e+04 0.00e+00 2.83e-05 -11.0 6.54e-08    -  1.00e+00 1.00e+00f  1\n",
      "gcm.β = [-0.8574306076111935]\n",
      "gcm.Σ = [0.9825142924275407, 0.12942104219347386]\n",
      "  19  5.5569750e+04 0.00e+00 2.47e-05 -11.0 5.66e-08    -  1.00e+00 1.00e+00f  1\n",
      "gcm.β = [-0.8574306570209885]\n",
      "gcm.Σ = [0.9825155396060766, 0.12942173659974499]\n",
      "iter    objective    inf_pr   inf_du lg(mu)  ||d||  lg(rg) alpha_du alpha_pr  ls\n",
      "  20  5.5569750e+04 0.00e+00 2.17e-05 -11.0 4.94e-08    -  1.00e+00 1.00e+00f  1\n",
      "gcm.β = [-0.8574307004911838]\n",
      "gcm.Σ = [0.9825166637170875, 0.1294223735709684]\n",
      "  21  5.5569750e+04 0.00e+00 1.93e-05 -11.0 4.35e-08    -  1.00e+00 1.00e+00f  1\n",
      "gcm.β = [-0.8574307389903838]\n",
      "gcm.Σ = [0.9825176794384994, 0.12942295724578853]\n",
      "  22  5.5569750e+04 0.00e+00 1.71e-05 -11.0 3.85e-08    -  1.00e+00 1.00e+00f  1\n",
      "gcm.β = [-0.8574307732781318]\n",
      "gcm.Σ = [0.9825185990779681, 0.129423491643127]\n",
      "  23  5.5569750e+04 0.00e+00 1.53e-05 -11.0 3.43e-08    -  1.00e+00 1.00e+00f  1\n",
      "gcm.β = [-0.8574308039575953]\n",
      "gcm.Σ = [0.9825194330809117, 0.12942398060585694]\n",
      "  24  5.5569750e+04 0.00e+00 1.38e-05 -11.0 3.07e-08    -  1.00e+00 1.00e+00f  1\n",
      "gcm.β = [-0.8574308315141237]\n",
      "gcm.Σ = [0.9825201904111616, 0.12942442776789573]\n",
      "  25  5.5569750e+04 0.00e+00 1.24e-05 -11.0 2.76e-08    -  1.00e+00 1.00e+00f  1\n",
      "gcm.β = [-0.8574308563435626]\n",
      "gcm.Σ = [0.9825208788378291, 0.12942483653748432]\n",
      "  26  5.5569750e+04 0.00e+00 1.12e-05 -11.0 2.48e-08    -  1.00e+00 1.00e+00f  1\n",
      "gcm.β = [-0.8574308787731003]\n",
      "gcm.Σ = [0.9825215051536988, 0.1294252100916058]\n",
      "  27  5.5569750e+04 0.00e+00 1.02e-05 -11.0 2.24e-08    -  1.00e+00 1.00e+00f  1\n",
      "gcm.β = [-0.8574308990766958]\n",
      "gcm.Σ = [0.9825220753429528, 0.1294255513778764]\n",
      "  28  5.5569750e+04 0.00e+00 9.21e-06 -11.0 2.03e-08    -  1.00e+00 1.00e+00h  1\n",
      "gcm.β = [-0.85743091748655]\n",
      "gcm.Σ = [0.9825225947113814, 0.1294258631213256]\n",
      "  29  5.5569750e+04 0.00e+00 8.36e-06 -11.0 1.84e-08    -  1.00e+00 1.00e+00f  1\n",
      "gcm.β = [-0.8574309342016824]\n",
      "gcm.Σ = [0.98252306798894, 0.12942614783425718]\n",
      "iter    objective    inf_pr   inf_du lg(mu)  ||d||  lg(rg) alpha_du alpha_pr  ls\n",
      "  30  5.5569750e+04 0.00e+00 7.60e-06 -11.0 1.67e-08    -  1.00e+00 1.00e+00h  1\n",
      "gcm.β = [-0.8574309493944087]\n",
      "gcm.Σ = [0.982523499411032, 0.1294264078278699]\n",
      "  31  5.5569750e+04 0.00e+00 6.91e-06 -11.0 1.52e-08    -  1.00e+00 1.00e+00f  1\n",
      "gcm.β = [-0.857430963215245]\n",
      "gcm.Σ = [0.9825238927843868, 0.1294266452248035]\n",
      "  32  5.5569750e+04 0.00e+00 6.29e-06 -11.0 1.38e-08    -  1.00e+00 1.00e+00h  1\n",
      "gcm.β = [-0.8574309757966831]\n",
      "gcm.Σ = [0.9825242515409185, 0.12942686197198183]\n",
      "  33  5.5569750e+04 0.00e+00 5.73e-06 -11.0 1.26e-08    -  1.00e+00 1.00e+00h  1\n",
      "gcm.β = [-0.8574309872561237]\n",
      "gcm.Σ = [0.9825245787820662, 0.12942705985329478]\n",
      "  34  5.5569750e+04 0.00e+00 5.22e-06 -11.0 1.15e-08    -  1.00e+00 1.00e+00f  1\n",
      "gcm.β = [-0.8574309976981601]\n",
      "gcm.Σ = [0.9825248773162195, 0.12942724050194027]\n",
      "  35  5.5569750e+04 0.00e+00 4.76e-06 -11.0 1.04e-08    -  1.00e+00 1.00e+00h  1\n",
      "gcm.β = [-0.8574310072164059]\n",
      "gcm.Σ = [0.9825251496905152, 0.1294274054121881]\n",
      "  36  5.5569750e+04 0.00e+00 4.34e-06 -11.0 9.52e-09    -  1.00e+00 1.00e+00f  1\n",
      "gcm.β = [-0.8574310158949648]\n",
      "gcm.Σ = [0.9825253982182538, 0.12942755595054145]\n",
      "  37  5.5569750e+04 0.00e+00 3.96e-06 -11.0 8.68e-09    -  1.00e+00 1.00e+00f  1\n",
      "gcm.β = [-0.8574310238096419]\n",
      "gcm.Σ = [0.9825256250023247, 0.12942769336613286]\n",
      "  38  5.5569750e+04 0.00e+00 3.61e-06 -11.0 7.91e-09    -  1.00e+00 1.00e+00h  1\n",
      "gcm.β = [-0.8574310310289212]\n",
      "gcm.Σ = [0.9825258319560453, 0.12942781880046836]\n",
      "  39  5.5569750e+04 0.00e+00 3.29e-06 -11.0 7.22e-09    -  1.00e+00 1.00e+00f  1\n",
      "gcm.β = [-0.8574310376148069]\n",
      "gcm.Σ = [0.9825260208213028, 0.12942793329642555]\n"
     ]
    },
    {
     "name": "stdout",
     "output_type": "stream",
     "text": [
      "iter    objective    inf_pr   inf_du lg(mu)  ||d||  lg(rg) alpha_du alpha_pr  ls\n",
      "  40  5.5569750e+04 0.00e+00 3.00e-06 -11.0 6.59e-09    -  1.00e+00 1.00e+00h  1\n",
      "gcm.β = [-0.8574310436235242]\n",
      "gcm.Σ = [0.9825261931848392, 0.12942803780659948]\n",
      "  41  5.5569750e+04 0.00e+00 2.74e-06 -11.0 6.01e-09    -  1.00e+00 1.00e+00h  1\n",
      "gcm.β = [-0.8574310491061284]\n",
      "gcm.Σ = [0.9825263504925689, 0.12942813320097524]\n",
      "  42  5.5569750e+04 0.00e+00 2.50e-06 -11.0 5.48e-09    -  1.00e+00 1.00e+00f  1\n",
      "gcm.β = [-0.8574310541090265]\n",
      "gcm.Σ = [0.9825264940626082, 0.12942822027400017]\n",
      "  43  5.5569750e+04 0.00e+00 2.28e-06 -11.0 5.00e-09    -  1.00e+00 1.00e+00h  1\n",
      "gcm.β = [-0.8574310586744394]\n",
      "gcm.Σ = [0.9825266250968376, 0.12942829975107223]\n",
      "  44  5.5569750e+04 0.00e+00 2.08e-06 -11.0 4.57e-09    -  1.00e+00 1.00e+00h  1\n",
      "gcm.β = [-0.8574310628408025]\n",
      "gcm.Σ = [0.9825267446914231, 0.12942837229448995]\n",
      "  45  5.5569750e+04 0.00e+00 1.90e-06 -11.0 4.17e-09    -  1.00e+00 1.00e+00h  1\n",
      "gcm.β = [-0.8574310666431278]\n",
      "gcm.Σ = [0.9825268538460931, 0.1294284385088873]\n",
      "  46  5.5569750e+04 0.00e+00 1.74e-06 -11.0 3.80e-09    -  1.00e+00 1.00e+00h  1\n",
      "gcm.β = [-0.8574310701133103]\n",
      "gcm.Σ = [0.9825269534730946, 0.12942849894625927]\n",
      "  47  5.5569750e+04 0.00e+00 1.58e-06 -11.0 3.47e-09    -  1.00e+00 1.00e+00f  1\n",
      "gcm.β = [-0.8574310732804363]\n",
      "gcm.Σ = [0.9825270444046456, 0.12942855411050655]\n",
      "  48  5.5569750e+04 0.00e+00 1.45e-06 -11.0 3.17e-09    -  1.00e+00 1.00e+00h  1\n",
      "gcm.β = [-0.8574310761710209]\n",
      "gcm.Σ = [0.9825271274001458, 0.12942860446161075]\n",
      "  49  5.5569750e+04 0.00e+00 1.32e-06 -11.0 2.89e-09    -  1.00e+00 1.00e+00f  1\n",
      "gcm.β = [-0.8574310788092481]\n",
      "gcm.Σ = [0.9825272031524888, 0.1294286504194538]\n",
      "iter    objective    inf_pr   inf_du lg(mu)  ||d||  lg(rg) alpha_du alpha_pr  ls\n",
      "  50  5.5569750e+04 0.00e+00 1.20e-06 -11.0 2.64e-09    -  1.00e+00 1.00e+00f  1\n",
      "gcm.β = [-0.8574310812171728]\n",
      "gcm.Σ = [0.9825272722939931, 0.12942869236730342]\n",
      "  51  5.5569750e+04 0.00e+00 1.10e-06 -11.0 2.41e-09    -  1.00e+00 1.00e+00f  1\n",
      "gcm.β = [-0.8574310834149167]\n",
      "gcm.Σ = [0.9825273354017229, 0.12942873065500896]\n",
      "  52  5.5569750e+04 0.00e+00 1.00e-06 -11.0 2.20e-09    -  1.00e+00 1.00e+00h  1\n",
      "gcm.β = [-0.8574310854208377]\n",
      "gcm.Σ = [0.9825273930024386, 0.12942876560191544]\n",
      "  53  5.5569750e+04 0.00e+00 9.16e-07 -11.0 2.01e-09    -  1.00e+00 1.00e+00f  1\n",
      "gcm.β = [-0.8574310872516938]\n",
      "gcm.Σ = [0.9825274455766937, 0.1294287974995011]\n",
      "  54  5.5569750e+04 0.00e+00 8.36e-07 -11.0 1.83e-09    -  1.00e+00 1.00e+00h  1\n",
      "gcm.β = [-0.8574310889227653]\n",
      "gcm.Σ = [0.9825274935631827, 0.12942882661382005]\n",
      "  55  5.5569750e+04 0.00e+00 7.63e-07 -11.0 1.67e-09    -  1.00e+00 1.00e+00h  1\n",
      "gcm.β = [-0.8574310904480027]\n",
      "gcm.Σ = [0.9825275373623402, 0.1294288531877249]\n",
      "  56  5.5569750e+04 0.00e+00 6.96e-07 -11.0 1.53e-09    -  1.00e+00 1.00e+00f  1\n",
      "gcm.β = [-0.8574310918401387]\n",
      "gcm.Σ = [0.9825275773396056, 0.12942887744287981]\n",
      "  57  5.5569750e+04 0.00e+00 6.35e-07 -11.0 1.39e-09    -  1.00e+00 1.00e+00h  1\n",
      "gcm.β = [-0.8574310931107928]\n",
      "gcm.Σ = [0.9825276138284093, 0.12942889958159765]\n",
      "  58  5.5569750e+04 0.00e+00 5.80e-07 -11.0 1.27e-09    -  1.00e+00 1.00e+00h  1\n",
      "gcm.β = [-0.8574310942705626]\n",
      "gcm.Σ = [0.9825276471332057, 0.12942891978854856]\n",
      "  59  5.5569750e+04 0.00e+00 5.29e-07 -11.0 1.16e-09    -  1.00e+00 1.00e+00f  1\n",
      "gcm.β = [-0.8574310953291275]\n",
      "gcm.Σ = [0.9825276775318916, 0.12942893823229906]\n",
      "iter    objective    inf_pr   inf_du lg(mu)  ||d||  lg(rg) alpha_du alpha_pr  ls\n",
      "  60  5.5569750e+04 0.00e+00 4.83e-07 -11.0 1.06e-09    -  1.00e+00 1.00e+00h  1\n",
      "gcm.β = [-0.8574310962953228]\n",
      "gcm.Σ = [0.9825277052780073, 0.12942895506669141]\n",
      "  61  5.5569750e+04 0.00e+00 4.41e-07 -11.0 9.66e-10    -  1.00e+00 1.00e+00f  1\n",
      "gcm.β = [-0.8574310971772067]\n",
      "gcm.Σ = [0.982527730603055, 0.1294289704321585]\n",
      "  62  5.5569750e+04 0.00e+00 4.03e-07 -11.0 8.82e-10    -  1.00e+00 1.00e+00h  1\n",
      "gcm.β = [-0.8574310979821386]\n",
      "gcm.Σ = [0.9825277537182922, 0.12942898445687295]\n",
      "  63  5.5569750e+04 0.00e+00 3.67e-07 -11.0 8.05e-10    -  1.00e+00 1.00e+00h  1\n",
      "gcm.β = [-0.857431098716833]\n",
      "gcm.Σ = [0.982527774816496, 0.12942899725782087]\n",
      "  64  5.5569750e+04 0.00e+00 3.35e-07 -11.0 7.35e-10    -  1.00e+00 1.00e+00f  1\n",
      "gcm.β = [-0.8574310993874171]\n",
      "gcm.Σ = [0.9825277940737093, 0.12942900894178538]\n",
      "  65  5.5569750e+04 0.00e+00 3.06e-07 -11.0 6.71e-10    -  1.00e+00 1.00e+00h  1\n",
      "gcm.β = [-0.8574310999994866]\n",
      "gcm.Σ = [0.9825278116505729, 0.1294290196062321]\n",
      "  66  5.5569750e+04 0.00e+00 2.79e-07 -11.0 6.12e-10    -  1.00e+00 1.00e+00h  1\n",
      "gcm.β = [-0.8574311005581475]\n",
      "gcm.Σ = [0.9825278276937094, 0.12942902934012274]\n",
      "  67  5.5569750e+04 0.00e+00 2.55e-07 -11.0 5.59e-10    -  1.00e+00 1.00e+00f  1\n",
      "\n",
      "Number of Iterations....: 67\n",
      "\n",
      "                                   (scaled)                 (unscaled)\n",
      "Objective...............:   1.4520400103225147e+03    5.5569749805868974e+04\n",
      "Dual infeasibility......:   2.5498267977985964e-07    9.7582185197842025e-06\n",
      "Constraint violation....:   0.0000000000000000e+00    0.0000000000000000e+00\n",
      "Complementarity.........:   0.0000000000000000e+00    0.0000000000000000e+00\n",
      "Overall NLP error.......:   2.5498267977985964e-07    9.7582185197842025e-06\n",
      "\n",
      "\n",
      "Number of objective function evaluations             = 68\n",
      "Number of objective gradient evaluations             = 68\n",
      "Number of equality constraint evaluations            = 0\n",
      "Number of inequality constraint evaluations          = 0\n",
      "Number of equality constraint Jacobian evaluations   = 0\n",
      "Number of inequality constraint Jacobian evaluations = 0\n",
      "Number of Lagrangian Hessian evaluations             = 67\n",
      "Total CPU secs in IPOPT (w/o function evaluations)   =      0.572\n",
      "Total CPU secs in NLP function evaluations           =     55.305\n",
      "\n",
      "EXIT: Solved To Acceptable Level.\n",
      "  9.080566 seconds (52.08 M allocations: 4.623 GiB, 12.99% gc time)\n"
     ]
    }
   ],
   "source": [
    "@time fit2!(gcm, IpoptSolver(print_level = 5, max_iter = 500, mehrotra_algorithm=\"yes\", warm_start_init_point=\"yes\", hessian_approximation = \"exact\"))"
   ]
  },
  {
   "cell_type": "code",
   "execution_count": 7,
   "metadata": {},
   "outputs": [
    {
     "name": "stdout",
     "output_type": "stream",
     "text": [
      "β_true = -0.8472978603872034\n",
      "gcm.β = [-0.8574311005581475]\n",
      "gcm.Σ = [0.9825278276937094, 0.12942902934012274]\n",
      "gcm.∇β = [-9.758218519784201e-6]\n",
      "GLMCopula.loglikelihood!(gcm, true, true) = -55569.7498058729\n"
     ]
    }
   ],
   "source": [
    "@show β_true\n",
    "@show gcm.β\n",
    "@show gcm.Σ\n",
    "@show gcm.∇β\n",
    "@show GLMCopula.loglikelihood!(gcm, true, true);"
   ]
  },
  {
   "cell_type": "code",
   "execution_count": 8,
   "metadata": {},
   "outputs": [
    {
     "name": "stdout",
     "output_type": "stream",
     "text": [
      "estimated β = -0.8574311005581475; true β = -0.8472978603872034\n",
      "estimated variance component 1 = 0.9825278276937094; true variance component 1 = 0.9\n",
      "estimated variance component 2 = 0.12942902934012274; true variance component 2 = 0.1\n"
     ]
    }
   ],
   "source": [
    "println(\"estimated β = $(gcm.β[1]); true β = $β_true\")\n",
    "println(\"estimated variance component 1 = $(gcm.Σ[1]); true variance component 1 = $variance_component_1\")\n",
    "println(\"estimated variance component 2 = $(gcm.Σ[2]); true variance component 2 = $variance_component_2\");"
   ]
  },
  {
   "cell_type": "code",
   "execution_count": 9,
   "metadata": {},
   "outputs": [
    {
     "data": {
      "text/plain": [
       "BenchmarkTools.Trial: \n",
       "  memory estimate:  22.89 MiB\n",
       "  allocs estimate:  250000\n",
       "  --------------\n",
       "  minimum time:     31.666 ms (0.00% GC)\n",
       "  median time:      34.955 ms (0.00% GC)\n",
       "  mean time:        38.332 ms (6.67% GC)\n",
       "  maximum time:     102.631 ms (60.42% GC)\n",
       "  --------------\n",
       "  samples:          131\n",
       "  evals/sample:     1"
      ]
     },
     "execution_count": 9,
     "metadata": {},
     "output_type": "execute_result"
    }
   ],
   "source": [
    "# still needs some work (I hypothesize from GLM loglikeobs function)\n",
    "using BenchmarkTools\n",
    "\n",
    "@benchmark loglikelihood!($gcm, true, true)"
   ]
  }
 ],
 "metadata": {
  "@webio": {
   "lastCommId": null,
   "lastKernelId": null
  },
  "kernelspec": {
   "display_name": "Julia 1.5.2",
   "language": "julia",
   "name": "julia-1.5"
  },
  "language_info": {
   "file_extension": ".jl",
   "mimetype": "application/julia",
   "name": "julia",
   "version": "1.5.2"
  },
  "toc": {
   "base_numbering": 1,
   "nav_menu": {},
   "number_sections": true,
   "sideBar": true,
   "skip_h1_title": false,
   "title_cell": "Table of Contents",
   "title_sidebar": "Contents",
   "toc_cell": false,
   "toc_position": {},
   "toc_section_display": true,
   "toc_window_display": false
  }
 },
 "nbformat": 4,
 "nbformat_minor": 2
}
