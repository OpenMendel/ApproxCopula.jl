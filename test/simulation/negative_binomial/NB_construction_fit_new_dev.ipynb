{
 "cells": [
  {
   "cell_type": "markdown",
   "metadata": {},
   "source": [
    "# Form the NB Regression Random Intercept Model: Simulated set\n",
    "\n",
    "Next we may try joint estimation using Newton's + IPOPT. \n",
    "\n",
    "    I create new structures `NBCopulaVCObs`, `NBCopulaVCModel`\n",
    "    \n",
    "\n"
   ]
  },
  {
   "cell_type": "code",
   "execution_count": 26,
   "metadata": {
    "collapsed": false
   },
   "outputs": [
    {
     "data": {
      "text/plain": [
       "10000-element Vector{Vector{Float64}}:\n",
       " [2.0, 1.0, 2.0, 6.0, 1.0]\n",
       " [8.0, 5.0, 3.0, 5.0, 2.0]\n",
       " [2.0, 4.0, 4.0, 10.0, 2.0]\n",
       " [4.0, 3.0, 7.0, 4.0, 8.0]\n",
       " [10.0, 10.0, 9.0, 1.0, 1.0]\n",
       " [4.0, 4.0, 3.0, 4.0, 3.0]\n",
       " [9.0, 6.0, 5.0, 4.0, 4.0]\n",
       " [6.0, 1.0, 3.0, 6.0, 0.0]\n",
       " [4.0, 7.0, 3.0, 3.0, 3.0]\n",
       " [5.0, 5.0, 3.0, 6.0, 2.0]\n",
       " [7.0, 6.0, 5.0, 2.0, 3.0]\n",
       " [3.0, 2.0, 7.0, 1.0, 4.0]\n",
       " [2.0, 3.0, 2.0, 2.0, 6.0]\n",
       " ⋮\n",
       " [2.0, 3.0, 1.0, 4.0, 2.0]\n",
       " [1.0, 3.0, 6.0, 2.0, 2.0]\n",
       " [2.0, 1.0, 3.0, 5.0, 1.0]\n",
       " [2.0, 3.0, 1.0, 1.0, 5.0]\n",
       " [2.0, 3.0, 4.0, 4.0, 10.0]\n",
       " [2.0, 3.0, 6.0, 2.0, 6.0]\n",
       " [2.0, 3.0, 1.0, 8.0, 2.0]\n",
       " [8.0, 0.0, 6.0, 3.0, 5.0]\n",
       " [5.0, 3.0, 2.0, 3.0, 6.0]\n",
       " [5.0, 6.0, 6.0, 9.0, 5.0]\n",
       " [0.0, 2.0, 1.0, 4.0, 3.0]\n",
       " [3.0, 6.0, 1.0, 3.0, 3.0]"
      ]
     },
     "execution_count": 26,
     "metadata": {},
     "output_type": "execute_result"
    }
   ],
   "source": [
    "using Revise\n",
    "using DataFrames, Random, GLM, GLMCopula\n",
    "using ForwardDiff, Test, LinearAlgebra\n",
    "using LinearAlgebra: BlasReal, copytri!\n",
    "\n",
    "Random.seed!(1234)\n",
    "\n",
    "# sample size\n",
    "N = 10000\n",
    "# observations per subject\n",
    "n = 5\n",
    "\n",
    "variance_component_1 = 0.1\n",
    "variance_component_2 = 0.5\n",
    "\n",
    "r = 10\n",
    "p = 0.7\n",
    "μ = r * (1-p) * inv(p)\n",
    "\n",
    "# var = r * (1-p) * inv(p^2)\n",
    "\n",
    "# true beta\n",
    "β_true = log(μ)\n",
    "\n",
    "dist = NegativeBinomial\n",
    "\n",
    "Γ = variance_component_1 * ones(n, n) + variance_component_2 * Matrix(I, n, n)\n",
    "vecd = [dist(r, p) for i in 1:n]\n",
    "nonmixed_multivariate_dist = NonMixedMultivariateDistribution(vecd, Γ)\n",
    "\n",
    "Y_Nsample = simulate_nobs_independent_vectors(nonmixed_multivariate_dist, N)"
   ]
  },
  {
   "cell_type": "code",
   "execution_count": 27,
   "metadata": {
    "collapsed": false
   },
   "outputs": [],
   "source": [
    "d = NegativeBinomial()\n",
    "link = LogLink()\n",
    "D = typeof(d)\n",
    "Link = typeof(link)\n",
    "T = Float64\n",
    "gcs = Vector{NBCopulaVCObs{T, D, Link}}(undef, N)\n",
    "for i in 1:N\n",
    "    y = Float64.(Y_Nsample[i])\n",
    "    X = ones(n, 1)\n",
    "    V = [ones(n, n), Matrix(I, n, n)]\n",
    "    gcs[i] = NBCopulaVCObs(y, X, V, d, link)\n",
    "end\n",
    "gcm = NBCopulaVCModel(gcs);"
   ]
  },
  {
   "cell_type": "code",
   "execution_count": 28,
   "metadata": {
    "collapsed": false
   },
   "outputs": [
    {
     "name": "stdout",
     "output_type": "stream",
     "text": [
      "initializing β using Newton's Algorithm under Independence Assumption\n",
      "1 0.0 -130470.51823172439 39999\n",
      "2 -130470.51823172439 -130470.51823172439 39999\n",
      "initializing variance components using MM-Algorithm\n",
      "gcm.Σ = [4.787417886202995e-7, 2.3125551854877464e-7]\n",
      "gcm.β = [1.505897960765723]\n",
      "gcm.Σ = [4.787417886202995e-7, 2.3125551854877464e-7]\n"
     ]
    },
    {
     "data": {
      "text/plain": [
       "2-element Vector{Float64}:\n",
       " 4.787417886202995e-7\n",
       " 2.3125551854877464e-7"
      ]
     },
     "execution_count": 28,
     "metadata": {},
     "output_type": "execute_result"
    }
   ],
   "source": [
    "initialize_model!(gcm)\n",
    "@show gcm.β\n",
    "@show gcm.Σ"
   ]
  },
  {
   "cell_type": "code",
   "execution_count": 29,
   "metadata": {
    "collapsed": false
   },
   "outputs": [
    {
     "data": {
      "text/plain": [
       "1.4552872326068422"
      ]
     },
     "execution_count": 29,
     "metadata": {},
     "output_type": "execute_result"
    }
   ],
   "source": [
    "β_true"
   ]
  },
  {
   "cell_type": "markdown",
   "metadata": {},
   "source": [
    "Initialize β and σ2, here I just copy the solution for β and σ2 from MixedModels.jl over"
   ]
  },
  {
   "cell_type": "code",
   "execution_count": 30,
   "metadata": {
    "collapsed": false
   },
   "outputs": [
    {
     "data": {
      "text/plain": [
       "-130470.52975987685"
      ]
     },
     "execution_count": 30,
     "metadata": {},
     "output_type": "execute_result"
    }
   ],
   "source": [
    "GLMCopula.loglikelihood!(gcm, true, true)"
   ]
  },
  {
   "cell_type": "markdown",
   "metadata": {},
   "source": [
    "## Try Quasi-Newton after specifying gradient of r\n",
    "\n",
    "to-do: \n",
    "\n",
    "1. added field $r$ to model structure $gcm.r$, change access to r this way instead of through the distribution\n",
    "2. add $gc.\\nabla r$ in loglikelihood function\n",
    "\n",
    "\n",
    "## Newton after specifying the hessian term too\n",
    "\n",
    "3. add $gc.Hr$ in loglikelihood function"
   ]
  },
  {
   "cell_type": "code",
   "execution_count": 31,
   "metadata": {
    "collapsed": false
   },
   "outputs": [
    {
     "name": "stdout",
     "output_type": "stream",
     "text": [
      "This is Ipopt version 3.12.10, running with linear solver mumps.\n",
      "NOTE: Other linear solvers might be more efficient (see Ipopt documentation).\n",
      "\n",
      "Number of nonzeros in equality constraint Jacobian...:        0\n",
      "Number of nonzeros in inequality constraint Jacobian.:        0\n",
      "Number of nonzeros in Lagrangian Hessian.............:        0\n",
      "\n",
      "Total number of variables............................:        4\n",
      "                     variables with only lower bounds:        3\n",
      "                variables with lower and upper bounds:        0\n",
      "                     variables with only upper bounds:        0\n",
      "Total number of equality constraints.................:        0\n",
      "Total number of inequality constraints...............:        0\n",
      "        inequality constraints with only lower bounds:        0\n",
      "   inequality constraints with lower and upper bounds:        0\n",
      "        inequality constraints with only upper bounds:        0\n",
      "\n",
      "iter    objective    inf_pr   inf_du lg(mu)  ||d||  lg(rg) alpha_du alpha_pr  ls\n",
      "   0  1.3064089e+05 0.00e+00 9.31e+01   0.0 0.00e+00    -  0.00e+00 0.00e+00   0\n",
      "   1  1.3089221e+05 0.00e+00 8.89e+01  -0.0 1.86e+00    -  1.14e-02 2.50e-01f  3\n",
      "   2  1.2948212e+05 0.00e+00 7.78e+01  -1.5 4.89e-01    -  5.59e-01 1.13e-01f  1\n",
      "   3  1.2718889e+05 0.00e+00 1.11e+02  -1.6 2.72e+00    -  1.00e+00 4.71e-02f  1\n",
      "   4  1.2710575e+05 0.00e+00 1.65e+02  -2.3 6.93e-01    -  1.00e+00 6.35e-03f  1\n",
      "   5  1.2164023e+05 0.00e+00 7.07e+01  -3.6 8.65e-01    -  1.00e+00 1.00e+00f  1\n",
      "   6  1.2119760e+05 0.00e+00 6.46e+01  -4.5 2.82e-01    -  1.00e+00 1.00e+00f  1\n",
      "   7  1.2021709e+05 0.00e+00 6.09e+01  -5.3 6.61e-01    -  1.00e+00 9.56e-01f  1\n",
      "   8  1.1954379e+05 0.00e+00 1.20e+01  -5.8 7.26e-01    -  1.00e+00 9.69e-01f  1\n",
      "   9  1.1932273e+05 0.00e+00 8.82e+00  -6.4 7.48e-01    -  1.00e+00 1.00e+00f  1\n",
      "iter    objective    inf_pr   inf_du lg(mu)  ||d||  lg(rg) alpha_du alpha_pr  ls\n",
      "  10  1.1929874e+05 0.00e+00 2.78e+00  -8.4 4.87e-01    -  1.00e+00 2.50e-01f  3\n",
      "  11  1.1924933e+05 0.00e+00 2.72e-01  -8.8 5.02e-01    -  1.00e+00 9.81e-01f  1\n",
      "  12  1.1924554e+05 0.00e+00 5.36e-02 -10.0 1.72e-01    -  1.00e+00 1.00e+00f  1\n",
      "  13  1.1924533e+05 0.00e+00 3.85e-03 -11.0 4.90e-02    -  1.00e+00 1.00e+00f  1\n",
      "  14  1.1924533e+05 0.00e+00 7.74e-05 -11.0 4.32e-03    -  1.00e+00 1.00e+00f  1\n",
      "  15  1.1924533e+05 0.00e+00 7.47e-06 -11.0 8.86e-05    -  1.00e+00 1.00e+00f  1\n",
      "  16  1.1924533e+05 0.00e+00 6.25e-06 -11.0 1.25e-07    -  1.00e+00 1.25e-01f  4\n",
      "  17  1.1924533e+05 0.00e+00 3.13e-06 -11.0 1.20e-07    -  1.00e+00 5.00e-01f  2\n",
      "  18  1.1924533e+05 0.00e+00 1.55e-06 -11.0 4.41e-08    -  1.00e+00 5.00e-01f  2\n",
      "  19  1.1924533e+05 0.00e+00 1.53e-06 -11.0 3.17e-08    -  1.00e+00 1.56e-02f  7\n",
      "iter    objective    inf_pr   inf_du lg(mu)  ||d||  lg(rg) alpha_du alpha_pr  ls\n",
      "  20  1.1924533e+05 0.00e+00 1.53e-06 -11.0 2.61e-08    -  1.00e+00 6.10e-05f 15\n",
      "  21  1.1924533e+05 0.00e+00 1.53e-06 -11.0 2.92e-08    -  1.00e+00 7.63e-06f 18\n",
      "  22  1.1924533e+05 0.00e+00 3.94e-08 -11.0 4.43e-08    -  1.00e+00 1.00e+00f  1\n",
      "  23  1.1924533e+05 0.00e+00 4.03e-08 -11.0 4.10e-08    -  1.00e+00 7.81e-03f  8\n",
      "  24  1.1924533e+05 0.00e+00 4.03e-08 -11.0 1.60e-08    -  1.00e+00 2.44e-04f 13\n",
      "  25  1.1924533e+05 0.00e+00 2.95e-08 -11.0 1.62e-08    -  1.00e+00 5.00e-01f  2\n",
      "  26  1.1924533e+05 0.00e+00 2.95e-08 -11.0 7.45e-09    -  1.00e+00 1.22e-04f 14\n",
      "  27  1.1924533e+05 0.00e+00 2.95e-08 -11.0 8.84e-09    -  1.00e+00 6.10e-05f 15\n",
      "  28  1.1924533e+05 0.00e+00 2.95e-08 -11.0 5.56e-09    -  1.00e+00 1.22e-04f 14\n",
      "  29  1.1924533e+05 0.00e+00 1.50e-07 -11.0 6.82e-08    -  1.00e+00 6.25e-02f  5\n",
      "iter    objective    inf_pr   inf_du lg(mu)  ||d||  lg(rg) alpha_du alpha_pr  ls\n",
      "  30  1.1924533e+05 0.00e+00 1.49e-07 -11.0 3.22e-09    -  1.00e+00 1.95e-03f 10\n",
      "  31  1.1924533e+05 0.00e+00 1.49e-07 -11.0 3.29e-09    -  1.00e+00 3.05e-05f 16\n",
      "  32  1.1924533e+05 0.00e+00 1.49e-07 -11.0 3.93e-09    -  1.00e+00 3.05e-05f 16\n",
      "  33  1.1924533e+05 0.00e+00 1.38e-08 -11.0 6.70e-10    -  1.00e+00 1.00e+00w  1\n",
      "  34  1.1924533e+05 0.00e+00 6.30e-10 -11.0 2.16e-09    -  1.00e+00 1.00e+00w  1\n",
      "\n",
      "Number of Iterations....: 34\n",
      "\n",
      "                                   (scaled)                 (unscaled)\n",
      "Objective...............:   7.0895966303760758e+02    1.1924532506145519e+05\n",
      "Dual infeasibility......:   6.2962612901173998e-10    1.0590161378082233e-07\n",
      "Constraint violation....:   0.0000000000000000e+00    0.0000000000000000e+00\n",
      "Complementarity.........:   1.0000000000075489e-11    1.6819761585791358e-09\n",
      "Overall NLP error.......:   6.2962612901173998e-10    1.0590161378082233e-07\n",
      "\n",
      "\n",
      "Number of objective function evaluations             = 256\n",
      "Number of objective gradient evaluations             = 35\n",
      "Number of equality constraint evaluations            = 0\n",
      "Number of inequality constraint evaluations          = 0\n",
      "Number of equality constraint Jacobian evaluations   = 0\n",
      "Number of inequality constraint Jacobian evaluations = 0\n",
      "Number of Lagrangian Hessian evaluations             = 0\n",
      "Total CPU secs in IPOPT (w/o function evaluations)   =      0.358\n",
      "Total CPU secs in NLP function evaluations           =     29.324\n",
      "\n",
      "EXIT: Optimal Solution Found.\n",
      "  9.321399 seconds (92.35 M allocations: 6.589 GiB, 9.43% gc time, 0.07% compilation time)\n"
     ]
    },
    {
     "data": {
      "text/plain": [
       "-119245.32538920302"
      ]
     },
     "execution_count": 31,
     "metadata": {},
     "output_type": "execute_result"
    }
   ],
   "source": [
    "# Quasi-Newton\n",
    "@time GLMCopula.fit!(gcm, IpoptSolver(print_level = 5, max_iter = 100, hessian_approximation = \"limited-memory\"))"
   ]
  },
  {
   "cell_type": "code",
   "execution_count": 33,
   "metadata": {
    "collapsed": false
   },
   "outputs": [
    {
     "name": "stdout",
     "output_type": "stream",
     "text": [
      "estimated β = 1.505897968418259; true β = 1.4552872326068422\n",
      "estimated variance component 1 = 0.0; true variance component 1 = 0.1\n",
      "estimated variance component 2 = 0.0; true variance component 2 = 0.5\n",
      "estimated r = 5.6002812821901005; true r = 10\n"
     ]
    }
   ],
   "source": [
    "println(\"estimated β = $(gcm.β[1]); true β = $β_true\")\n",
    "println(\"estimated variance component 1 = $(gcm.Σ[1]); true variance component 1 = $variance_component_1\")\n",
    "println(\"estimated variance component 2 = $(gcm.Σ[2]); true variance component 2 = $variance_component_2\")\n",
    "println(\"estimated r = $(gcm.r[1]); true r = $r\");"
   ]
  },
  {
   "cell_type": "code",
   "execution_count": 34,
   "metadata": {
    "collapsed": false,
    "scrolled": false
   },
   "outputs": [
    {
     "name": "stdout",
     "output_type": "stream",
     "text": [
      "This is Ipopt version 3.12.10, running with linear solver mumps.\n",
      "NOTE: Other linear solvers might be more efficient (see Ipopt documentation).\n",
      "\n",
      "Number of nonzeros in equality constraint Jacobian...:        0\n",
      "Number of nonzeros in inequality constraint Jacobian.:        0\n",
      "Number of nonzeros in Lagrangian Hessian.............:        5\n",
      "\n",
      "Total number of variables............................:        4\n",
      "                     variables with only lower bounds:        3\n",
      "                variables with lower and upper bounds:        0\n",
      "                     variables with only upper bounds:        0\n",
      "Total number of equality constraints.................:        0\n",
      "Total number of inequality constraints...............:        0\n",
      "        inequality constraints with only lower bounds:        0\n",
      "   inequality constraints with lower and upper bounds:        0\n",
      "        inequality constraints with only upper bounds:        0\n",
      "\n",
      "iter    objective    inf_pr   inf_du lg(mu)  ||d||  lg(rg) alpha_du alpha_pr  ls\n",
      "   0  1.1956364e+05 0.00e+00 9.31e+01  -1.0 0.00e+00    -  0.00e+00 0.00e+00   0\n",
      "   1  1.1929223e+05 0.00e+00 8.82e+01  -1.0 8.80e-03   4.0 1.00e+00 1.00e+00f  1\n",
      "   2  1.1927419e+05 0.00e+00 2.01e+00  -1.0 3.81e-02    -  1.00e+00 1.45e-01f  2\n",
      "   3  1.1927907e+05 0.00e+00 3.54e-02  -1.0 2.75e-02    -  1.00e+00 1.00e+00f  1\n",
      "   4  1.1924614e+05 0.00e+00 1.88e-01  -2.5 2.28e-02    -  1.00e+00 1.00e+00f  1\n",
      "   5  1.1924628e+05 0.00e+00 7.61e-02  -2.5 9.36e-03    -  1.00e+00 1.00e+00f  1\n",
      "   6  1.1924628e+05 0.00e+00 1.12e-03  -2.5 1.06e-04    -  1.00e+00 3.05e-05f 16\n",
      "   7  1.1924538e+05 0.00e+00 5.14e-03  -3.8 5.61e-04    -  1.00e+00 1.00e+00f  1\n",
      "   8  1.1924538e+05 0.00e+00 2.06e-03  -3.8 2.58e-04    -  1.00e+00 1.00e+00f  1\n",
      "   9  1.1924538e+05 0.00e+00 3.59e-07  -3.8 8.39e-08    -  1.00e+00 1.00e+00f  1\n",
      "iter    objective    inf_pr   inf_du lg(mu)  ||d||  lg(rg) alpha_du alpha_pr  ls\n",
      "  10  1.1924533e+05 0.00e+00 2.85e-04  -5.7 3.70e-05    -  1.00e+00 1.00e+00f  1\n",
      "  11  1.1924533e+05 0.00e+00 1.14e-04  -5.7 1.43e-05    -  1.00e+00 1.00e+00f  1\n",
      "  12  1.1924533e+05 0.00e+00 2.56e-09  -5.7 2.53e-10    -  1.00e+00 6.25e-02f  5\n",
      "  13  1.1924533e+05 0.00e+00 3.53e-06  -8.6 4.59e-07    -  1.00e+00 1.00e+00f  1\n",
      "  14  1.1924533e+05 0.00e+00 1.42e-06  -8.6 1.77e-07    -  1.00e+00 1.00e+00f  1\n",
      "  15  1.1924533e+05 0.00e+00 1.56e-13  -8.6 2.51e-15    -  1.00e+00 1.00e+00   0\n",
      "\n",
      "Number of Iterations....: 15\n",
      "\n",
      "                                   (scaled)                 (unscaled)\n",
      "Objective...............:   7.0895811131608173e+02    1.1924532506229510e+05\n",
      "Dual infeasibility......:   1.5631940186722204e-13    2.6292608253818003e-11\n",
      "Constraint violation....:   0.0000000000000000e+00    0.0000000000000000e+00\n",
      "Complementarity.........:   2.5059035596800837e-09    4.2148792683125017e-07\n",
      "Overall NLP error.......:   2.5059035596800837e-09    4.2148792683125017e-07\n",
      "\n",
      "\n",
      "Number of objective function evaluations             = 48\n",
      "Number of objective gradient evaluations             = 16\n",
      "Number of equality constraint evaluations            = 0\n",
      "Number of inequality constraint evaluations          = 0\n",
      "Number of equality constraint Jacobian evaluations   = 0\n",
      "Number of inequality constraint Jacobian evaluations = 0\n",
      "Number of Lagrangian Hessian evaluations             = 15\n",
      "Total CPU secs in IPOPT (w/o function evaluations)   =      0.157\n",
      "Total CPU secs in NLP function evaluations           =     18.979\n",
      "\n",
      "EXIT: Optimal Solution Found.\n",
      "  3.619888 seconds (32.05 M allocations: 2.766 GiB, 7.44% gc time, 1.39% compilation time)\n"
     ]
    },
    {
     "data": {
      "text/plain": [
       "-119245.32538920305"
      ]
     },
     "execution_count": 34,
     "metadata": {},
     "output_type": "execute_result"
    }
   ],
   "source": [
    "# Newton\n",
    "@time GLMCopula.fit!(gcm, IpoptSolver(print_level = 5, max_iter = 100, hessian_approximation = \"exact\"))"
   ]
  },
  {
   "cell_type": "code",
   "execution_count": 35,
   "metadata": {
    "collapsed": false
   },
   "outputs": [
    {
     "name": "stdout",
     "output_type": "stream",
     "text": [
      "estimated β = 1.5058979684001337; true β = 1.4552872326068422\n",
      "estimated variance component 1 = 0.0; true variance component 1 = 0.1\n",
      "estimated variance component 2 = 0.0; true variance component 2 = 0.5\n",
      "estimated r = 5.600281282475263; true r = 10\n"
     ]
    }
   ],
   "source": [
    "println(\"estimated β = $(gcm.β[1]); true β = $β_true\")\n",
    "println(\"estimated variance component 1 = $(gcm.Σ[1]); true variance component 1 = $variance_component_1\")\n",
    "println(\"estimated variance component 2 = $(gcm.Σ[2]); true variance component 2 = $variance_component_2\")\n",
    "println(\"estimated r = $(gcm.r[1]); true r = $r\");"
   ]
  },
  {
   "cell_type": "code",
   "execution_count": null,
   "metadata": {
    "collapsed": true
   },
   "outputs": [],
   "source": []
  }
 ],
 "metadata": {
  "@webio": {
   "lastCommId": null,
   "lastKernelId": null
  },
  "kernelspec": {
   "display_name": "Julia 1.6.0",
   "language": "julia",
   "name": "julia-1.6"
  },
  "language_info": {
   "file_extension": ".jl",
   "mimetype": "application/julia",
   "name": "julia",
   "version": "1.6.0"
  },
  "toc": {
   "base_numbering": 1,
   "nav_menu": {},
   "number_sections": true,
   "sideBar": true,
   "skip_h1_title": false,
   "title_cell": "Table of Contents",
   "title_sidebar": "Contents",
   "toc_cell": false,
   "toc_position": {},
   "toc_section_display": true,
   "toc_window_display": false
  }
 },
 "nbformat": 4,
 "nbformat_minor": 2
}
