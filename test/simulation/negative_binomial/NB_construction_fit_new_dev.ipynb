{
 "cells": [
  {
   "cell_type": "markdown",
   "metadata": {},
   "source": [
    "# Form the NB Regression Random Intercept Model: Simulated set\n",
    "\n",
    "Next we may try joint estimation using Newton's + IPOPT. \n",
    "\n",
    "    I create new structures `NBCopulaVCObs`, `NBCopulaVCModel`\n",
    "    \n",
    "\n"
   ]
  },
  {
   "cell_type": "code",
   "execution_count": 31,
   "metadata": {
    "collapsed": false
   },
   "outputs": [
    {
     "data": {
      "text/plain": [
       "10000-element Vector{Vector{Float64}}:\n",
       " [0.0, 1.0, 0.0, 0.0, 1.0]\n",
       " [2.0, 0.0, 0.0, 0.0, 0.0]\n",
       " [1.0, 0.0, 0.0, 3.0, 1.0]\n",
       " [0.0, 0.0, 1.0, 0.0, 2.0]\n",
       " [3.0, 3.0, 2.0, 1.0, 1.0]\n",
       " [0.0, 0.0, 0.0, 0.0, 0.0]\n",
       " [3.0, 0.0, 0.0, 0.0, 0.0]\n",
       " [0.0, 1.0, 0.0, 0.0, 2.0]\n",
       " [0.0, 1.0, 0.0, 0.0, 0.0]\n",
       " [0.0, 0.0, 0.0, 0.0, 0.0]\n",
       " [1.0, 0.0, 0.0, 0.0, 0.0]\n",
       " [0.0, 0.0, 1.0, 1.0, 0.0]\n",
       " [1.0, 0.0, 0.0, 0.0, 0.0]\n",
       " ⋮\n",
       " [0.0, 0.0, 1.0, 0.0, 1.0]\n",
       " [1.0, 0.0, 0.0, 0.0, 0.0]\n",
       " [0.0, 1.0, 0.0, 0.0, 1.0]\n",
       " [0.0, 0.0, 1.0, 2.0, 0.0]\n",
       " [1.0, 0.0, 0.0, 0.0, 3.0]\n",
       " [0.0, 0.0, 0.0, 0.0, 0.0]\n",
       " [0.0, 0.0, 1.0, 2.0, 1.0]\n",
       " [2.0, 2.0, 0.0, 0.0, 0.0]\n",
       " [0.0, 0.0, 0.0, 0.0, 0.0]\n",
       " [0.0, 0.0, 0.0, 2.0, 0.0]\n",
       " [2.0, 0.0, 1.0, 0.0, 0.0]\n",
       " [0.0, 0.0, 1.0, 0.0, 0.0]"
      ]
     },
     "execution_count": 31,
     "metadata": {},
     "output_type": "execute_result"
    }
   ],
   "source": [
    "using Revise\n",
    "using DataFrames, Random, GLM, GLMCopula\n",
    "using ForwardDiff, Test, LinearAlgebra\n",
    "using LinearAlgebra: BlasReal, copytri!\n",
    "\n",
    "Random.seed!(1234)\n",
    "\n",
    "# sample size\n",
    "N = 10000\n",
    "# observations per subject\n",
    "n = 5\n",
    "\n",
    "variance_component_1 = 0.1\n",
    "variance_component_2 = 0.5\n",
    "\n",
    "r = 1\n",
    "p = 0.7\n",
    "μ = r * (1-p) * inv(p)\n",
    "\n",
    "# var = r * (1-p) * inv(p^2)\n",
    "\n",
    "# true beta\n",
    "β_true = log(μ)\n",
    "\n",
    "dist = NegativeBinomial\n",
    "\n",
    "Γ = variance_component_1 * ones(n, n) + variance_component_2 * Matrix(I, n, n)\n",
    "vecd = [dist(r, p) for i in 1:n]\n",
    "nonmixed_multivariate_dist = NonMixedMultivariateDistribution(vecd, Γ)\n",
    "\n",
    "Y_Nsample = simulate_nobs_independent_vectors(nonmixed_multivariate_dist, N)"
   ]
  },
  {
   "cell_type": "code",
   "execution_count": 32,
   "metadata": {
    "collapsed": false
   },
   "outputs": [],
   "source": [
    "d = NegativeBinomial()\n",
    "link = LogLink()\n",
    "D = typeof(d)\n",
    "Link = typeof(link)\n",
    "T = Float64\n",
    "gcs = Vector{NBCopulaVCObs{T, D, Link}}(undef, N)\n",
    "for i in 1:N\n",
    "    y = Float64.(Y_Nsample[i])\n",
    "    X = ones(n, 1)\n",
    "    V = [ones(n, n), Matrix(I, n, n)]\n",
    "    gcs[i] = NBCopulaVCObs(y, X, V, d, link)\n",
    "end\n",
    "gcm = NBCopulaVCModel(gcs);\n",
    "# gcm.r[1] = r"
   ]
  },
  {
   "cell_type": "code",
   "execution_count": 33,
   "metadata": {
    "collapsed": false
   },
   "outputs": [
    {
     "name": "stdout",
     "output_type": "stream",
     "text": [
      "initializing β using Newton's Algorithm under Independence Assumption\n",
      "1 0.0 -55442.78384099386 39999\n",
      "2 -55442.78384099386 -55442.78384099386 39999\n",
      "initializing variance components using MM-Algorithm\n",
      "gcm.Σ = [1.8072767693765704e-5, 0.055284084750823415]\n",
      "gcm.r = [1.0]\n"
     ]
    },
    {
     "data": {
      "text/plain": [
       "1-element Vector{Float64}:\n",
       " 1.0"
      ]
     },
     "execution_count": 33,
     "metadata": {},
     "output_type": "execute_result"
    }
   ],
   "source": [
    "initialize_model!(gcm)\n",
    "# @show gcm.β\n",
    "# @show gcm.Σ\n",
    "@show gcm.r"
   ]
  },
  {
   "cell_type": "code",
   "execution_count": 34,
   "metadata": {
    "collapsed": false
   },
   "outputs": [
    {
     "data": {
      "text/plain": [
       "-0.8472978603872034"
      ]
     },
     "execution_count": 34,
     "metadata": {},
     "output_type": "execute_result"
    }
   ],
   "source": [
    "β_true"
   ]
  },
  {
   "cell_type": "markdown",
   "metadata": {},
   "source": [
    "Initialize β and σ2, here I just copy the solution for β and σ2 from MixedModels.jl over"
   ]
  },
  {
   "cell_type": "code",
   "execution_count": 35,
   "metadata": {
    "collapsed": false
   },
   "outputs": [
    {
     "data": {
      "text/plain": [
       "-55348.28950500059"
      ]
     },
     "execution_count": 35,
     "metadata": {},
     "output_type": "execute_result"
    }
   ],
   "source": [
    "GLMCopula.loglikelihood!(gcm, true, true)"
   ]
  },
  {
   "cell_type": "markdown",
   "metadata": {},
   "source": [
    "## Try Quasi-Newton after specifying gradient of r\n",
    "\n",
    "to-do: \n",
    "\n",
    "1. added field $r$ to model structure $gcm.r$, change access to r this way instead of through the distribution\n",
    "2. add $gc.\\nabla r$ in loglikelihood function\n",
    "\n",
    "\n",
    "## Newton after specifying the hessian term too\n",
    "\n",
    "3. add $gc.Hr$ in loglikelihood function"
   ]
  },
  {
   "cell_type": "code",
   "execution_count": 36,
   "metadata": {
    "collapsed": false,
    "scrolled": true
   },
   "outputs": [
    {
     "name": "stdout",
     "output_type": "stream",
     "text": [
      "This is Ipopt version 3.12.10, running with linear solver mumps.\n",
      "NOTE: Other linear solvers might be more efficient (see Ipopt documentation).\n",
      "\n",
      "Number of nonzeros in equality constraint Jacobian...:        0\n",
      "Number of nonzeros in inequality constraint Jacobian.:        0\n",
      "Number of nonzeros in Lagrangian Hessian.............:        0\n",
      "\n",
      "Total number of variables............................:        4\n",
      "                     variables with only lower bounds:        3\n",
      "                variables with lower and upper bounds:        0\n",
      "                     variables with only upper bounds:        0\n",
      "Total number of equality constraints.................:        0\n",
      "Total number of inequality constraints...............:        0\n",
      "        inequality constraints with only lower bounds:        0\n",
      "   inequality constraints with lower and upper bounds:        0\n",
      "        inequality constraints with only upper bounds:        0\n",
      "\n",
      "iter    objective    inf_pr   inf_du lg(mu)  ||d||  lg(rg) alpha_du alpha_pr  ls\n",
      "   0  5.5372215e+04 0.00e+00 1.10e+02   0.0 0.00e+00    -  0.00e+00 0.00e+00   0\n",
      "   1  5.5299989e+04 0.00e+00 2.14e+02  -7.6 1.10e+02    -  1.00e+00 1.42e-03f  4\n",
      "   2  5.5253306e+04 0.00e+00 1.19e+02   0.6 2.36e-01    -  9.93e-01 1.00e+00f  1\n",
      "   3  5.5172775e+04 0.00e+00 3.93e+01  -0.1 1.02e-01    -  1.00e+00 1.00e+00f  1\n",
      "   4  5.5146641e+04 0.00e+00 2.57e+01  -0.6 2.78e-02    -  1.00e+00 1.00e+00f  1\n",
      "   5  5.5080549e+04 0.00e+00 3.88e+01  -0.8 1.59e-01    -  1.00e+00 1.00e+00f  1\n",
      "   6  5.5052178e+04 0.00e+00 8.56e+00  -0.6 4.45e-02    -  1.00e+00 1.00e+00f  1\n",
      "   7  5.5038251e+04 0.00e+00 4.75e+00  -1.7 2.97e-02    -  1.00e+00 1.00e+00f  1\n",
      "   8  5.5033894e+04 0.00e+00 9.51e-01  -2.9 5.19e-02    -  1.00e+00 1.00e+00f  1\n",
      "   9  5.5026333e+04 0.00e+00 9.02e-01  -4.3 1.31e-02    -  1.00e+00 1.00e+00f  1\n",
      "iter    objective    inf_pr   inf_du lg(mu)  ||d||  lg(rg) alpha_du alpha_pr  ls\n",
      "  10  5.5026333e+04 0.00e+00 9.02e-01  -3.5 1.10e-02    -  1.00e+00 2.33e-10f 33\n",
      "  11  5.5026333e+04 0.00e+00 9.02e-01  -3.8 7.88e-03    -  1.00e+00 1.16e-10f 34\n",
      "  12  5.5026333e+04 0.00e+00 9.02e-01  -3.8 4.93e-03    -  1.00e+00 2.91e-11f 36\n",
      "  13  5.5026333e+04 0.00e+00 9.02e-01  -3.8 3.04e-02    -  1.00e+00 4.55e-13f 42\n",
      "  14  5.5026333e+04 0.00e+00 9.02e-01  -3.8 3.06e-02    -  1.00e+00 7.11e-15f 48\n",
      "  15  5.5026333e+04 0.00e+00 9.02e-01  -3.8 3.05e-02    -  1.00e+00 9.09e-13f 41\n",
      "  16  5.5026319e+04 0.00e+00 7.92e-01  -3.8 9.02e-01    -  4.02e-01 1.95e-03f 10\n",
      "  17  5.5026319e+04 0.00e+00 7.92e-01  -5.6 7.17e-04    -  1.00e+00 7.45e-09f 28\n",
      "  18  5.5026319e+04 0.00e+00 7.92e-01  -5.8 8.74e-04    -  1.00e+00 1.46e-11f 37\n",
      "  19  5.5026319e+04 0.00e+00 7.92e-01  -5.8 8.74e-04    -  1.00e+00 2.33e-10f 33\n",
      "iter    objective    inf_pr   inf_du lg(mu)  ||d||  lg(rg) alpha_du alpha_pr  ls\n",
      "  20  5.5026319e+04 0.00e+00 7.92e-01  -5.8 1.01e-03    -  1.00e+00 2.91e-11f 36\n",
      "  21  5.5026319e+04 0.00e+00 7.92e-01  -5.8 1.21e-03    -  1.00e+00 1.46e-11f 37\n",
      "  22  5.5026319e+04 0.00e+00 7.92e-01  -5.8 1.21e-03    -  1.00e+00 7.28e-12f 38\n",
      "  23  5.5026319e+04 0.00e+00 7.92e-01  -5.8 1.21e-03    -  1.00e+00 1.82e-12f 40\n",
      "  24  5.5026319e+04 0.00e+00 7.92e-01  -5.8 7.92e-01    -  3.04e-02 4.97e-15f 47\n",
      "  25  5.5026319e+04 0.00e+00 7.92e-01  -5.8 7.92e-01    -  1.00e+00 3.98e-14f 44\n",
      "  26  5.5026319e+04 0.00e+00 7.92e-01  -5.8 1.09e-03    -  1.00e+00 1.46e-11f 37\n",
      "  27  5.5026319e+04 0.00e+00 7.92e-01  -5.8 1.09e-03    -  1.00e+00 2.91e-11f 36\n",
      "  28  5.5028182e+04 0.00e+00 2.88e-01  -5.8 1.05e-03    -  1.00e+00 1.00e+00w  1\n",
      "  29  5.5028223e+04 0.00e+00 1.40e-01  -5.8 3.47e-04    -  1.00e+00 1.00e+00w  1\n",
      "iter    objective    inf_pr   inf_du lg(mu)  ||d||  lg(rg) alpha_du alpha_pr  ls\n",
      "  30  5.5028716e+04 0.00e+00 1.50e-01  -5.8 4.70e-04    -  1.00e+00 1.00e+00w  1\n",
      "  31  5.5026319e+04 0.00e+00 7.92e-01  -5.8 1.63e-03    -  1.00e+00 2.91e-11f 35\n",
      "  32  5.5026319e+04 0.00e+00 7.92e-01  -5.8 3.02e-03    -  1.00e+00 7.28e-12f 38\n",
      "  33  5.5026319e+04 0.00e+00 7.92e-01  -5.8 3.02e-03    -  1.00e+00 3.64e-12f 39\n",
      "  34  5.5026319e+04 0.00e+00 7.92e-01  -5.8 3.02e-03    -  1.00e+00 2.27e-13f 43\n",
      "  35  5.5026319e+04 0.00e+00 7.92e-01  -5.8 7.92e-01    -  3.05e-02 1.99e-14f 45\n",
      "  36  5.5026319e+04 0.00e+00 7.92e-01  -5.8 7.92e-01    -  1.00e+00 3.98e-14f 44\n",
      "  37  5.5026319e+04 0.00e+00 7.92e-01  -5.8 9.24e-04    -  1.00e+00 1.46e-11f 37\n",
      "  38  5.5026319e+04 0.00e+00 7.92e-01  -5.8 9.24e-04    -  1.00e+00 1.46e-11f 37\n",
      "  39  5.5026319e+04 0.00e+00 7.92e-01  -5.8 9.24e-04    -  1.00e+00 2.91e-11f 36\n",
      "iter    objective    inf_pr   inf_du lg(mu)  ||d||  lg(rg) alpha_du alpha_pr  ls\n",
      "  40  5.5026319e+04 0.00e+00 7.92e-01  -5.8 7.92e-01    -  3.04e-02 4.97e-15f 47\n",
      "  41  5.6131570e+04 0.00e+00 2.64e+02  -5.8 7.92e-01    -  1.00e+00 3.50e-01w  1\n",
      "  42  5.5028473e+04 0.00e+00 6.32e+00  -5.8 2.79e-01    -  2.64e-06 1.00e+00w  1\n",
      "  43  5.5026537e+04 0.00e+00 3.67e+00  -5.8 5.34e-03    -  1.00e+00 1.00e+00w  1\n",
      "  44  5.6131570e+04 0.00e+00 2.64e+02  -5.8 1.05e-02    -  3.50e-01 3.50e-01S 20\n",
      "  45  5.5026394e+04 0.00e+00 5.29e+00  -5.8 2.82e-01    -  4.11e-06 1.00e+00f  1\n",
      "  46  5.5026394e+04 0.00e+00 5.29e+00  -5.8 1.11e-02    -  1.00e+00 4.66e-10f 32\n",
      "  47  5.5026394e+04 0.00e+00 5.29e+00  -5.8 1.53e-02    -  1.00e+00 1.16e-10f 34\n",
      "  48  5.5026394e+04 0.00e+00 5.29e+00  -5.8 1.55e-02    -  1.00e+00 7.28e-12f 38\n",
      "  49  5.5026394e+04 0.00e+00 5.29e+00  -5.8 2.30e-02    -  1.00e+00 9.09e-13f 41\n",
      "iter    objective    inf_pr   inf_du lg(mu)  ||d||  lg(rg) alpha_du alpha_pr  ls\n",
      "  50  5.5026394e+04 0.00e+00 5.29e+00  -5.8 2.30e-02    -  1.00e+00 9.09e-13f 41\n",
      "  51  5.5026394e+04 0.00e+00 5.29e+00  -5.8 2.30e-02    -  1.00e+00 2.27e-13f 43\n",
      "  52  5.5026394e+04 0.00e+00 5.29e+00  -5.8 5.29e+00    -  2.09e-02 5.43e-14f 44\n",
      "  53  5.5026394e+04 0.00e+00 5.29e+00  -5.8 1.99e-02    -  1.00e+00 9.09e-13f 41\n",
      "  54  5.5026394e+04 0.00e+00 5.29e+00  -5.8 1.99e-02    -  1.00e+00 1.14e-13f 44\n",
      "  55  5.5026394e+04 0.00e+00 5.29e+00  -5.8 1.99e-02    -  1.00e+00 5.68e-14f 45\n",
      "  56  5.7993211e+04 0.00e+00 1.94e+02  -5.8 5.29e+00    -  2.09e-02 4.78e-01w  1\n",
      "  57  5.9100000e+04 0.00e+00 3.32e+02  -5.8 9.46e-01    -  1.00e+00 1.00e+00w  1\n",
      "  58  5.6583638e+04 0.00e+00 2.52e+02  -5.8 4.19e+00    -  2.45e-01 3.17e-01w  1\n",
      "  59  5.5068293e+04 0.00e+00 2.73e+01  -5.8 2.06e+01    -  2.09e-02 2.09e-02S 20\n",
      "iter    objective    inf_pr   inf_du lg(mu)  ||d||  lg(rg) alpha_du alpha_pr  ls\n",
      "  60  5.5049826e+04 0.00e+00 4.66e+00  -5.8 1.38e+01    -  1.03e-01 8.00e-03f  2\n",
      "  61  5.5015314e+04 0.00e+00 2.29e+00  -5.8 3.27e-02    -  1.00e+00 1.00e+00f  1\n",
      "  62  5.5015314e+04 0.00e+00 2.29e+00  -6.2 9.11e-03    -  1.00e+00 2.91e-11f 36\n",
      "  63  5.5015314e+04 0.00e+00 2.29e+00  -6.5 1.06e-02    -  1.00e+00 1.46e-11f 37\n",
      "  64  5.5015314e+04 0.00e+00 2.29e+00  -6.5 8.36e-03    -  7.58e-01 7.28e-12f 38\n",
      "  65  5.5015314e+04 0.00e+00 2.29e+00  -6.5 1.61e-02    -  1.00e+00 4.55e-13f 42\n",
      "  66  5.5015314e+04 0.00e+00 2.29e+00  -6.5 1.61e-02    -  5.15e-01 2.27e-13f 43\n",
      "  67  5.5015314e+04 0.00e+00 2.29e+00  -6.5 1.61e-02    -  1.00e+00 7.11e-15f 48\n",
      "  68  5.5015314e+04 0.00e+00 2.29e+00  -6.5 2.29e+00    -  7.06e-03 6.98e-17f 51\n",
      "  69  5.5015314e+04 0.00e+00 2.29e+00  -6.5 2.29e+00    -  5.36e-01 1.74e-17f 53\n",
      "iter    objective    inf_pr   inf_du lg(mu)  ||d||  lg(rg) alpha_du alpha_pr  ls\n",
      "  70  5.5015314e+04 0.00e+00 2.29e+00  -6.5 2.29e+00    -  7.07e-03 1.74e-17f 53\n",
      "  71  5.5015314e+04 0.00e+00 2.29e+00  -6.5 2.29e+00    -  1.00e+00 1.74e-17f 53\n",
      "  72  5.5015314e+04 0.00e+00 2.29e+00  -6.5 2.29e+00    -  7.06e-03 1.75e-17f 53\n",
      "  73  5.5326827e+04 0.00e+00 1.28e+02  -6.5 2.29e+00    -  5.31e-01 7.88e-02w  1\n",
      "  74  9.7654756e+04 0.00e+00 6.71e+04  -6.5 1.28e+02    -  1.04e-04 1.64e-02w  1\n",
      "  75  6.0278420e+04 0.00e+00 6.28e+02  -6.5 1.09e+00    -  1.00e+00 1.00e+00w  1\n",
      "  76  5.5015314e+04 0.00e+00 2.29e+00  -6.5 1.48e+00    -  5.31e-01 4.37e-18f 54\n",
      "  77  5.5015314e+04 0.00e+00 2.29e+00  -6.5 5.69e-03    -  1.00e+00 1.78e-15f 50\n",
      "  78  5.5015314e+04 0.00e+00 2.29e+00  -6.5 5.69e-03    -  1.00e+00 1.78e-15f 50\n",
      "  79  5.5015314e+04 0.00e+00 2.29e+00  -6.5 5.69e-03    -  1.00e+00 1.78e-15f 50\n",
      "iter    objective    inf_pr   inf_du lg(mu)  ||d||  lg(rg) alpha_du alpha_pr  ls\n",
      "  80  5.5015314e+04 0.00e+00 2.29e+00  -6.5 2.29e+00    -  7.07e-03 4.36e-18f 55\n",
      "  81  5.5015314e+04 0.00e+00 2.29e+00  -6.5 2.29e+00    -  5.29e-01 4.36e-18f 55\n",
      "  82  5.5015314e+04 0.00e+00 2.29e+00  -6.5 2.29e+00    -  7.08e-03 4.36e-18f 55\n",
      "  83  5.5015314e+04 0.00e+00 2.29e+00  -6.5 2.29e+00    -  1.00e+00 4.36e-18f 55\n",
      "  84  5.5015314e+04 0.00e+00 2.29e+00  -6.5 2.29e+00    -  7.06e-03 4.37e-18f 55\n",
      "  85  5.5015314e+04 0.00e+00 2.29e+00  -6.5 2.29e+00    -  5.31e-01 4.37e-18f 55\n",
      "  86  5.5333784e+04 0.00e+00 1.30e+02  -6.5 2.29e+00    -  7.08e-03 7.99e-02w  1\n",
      "  87  5.5139210e+04 0.00e+00 6.91e+01  -6.5 1.61e-01    -  6.40e-05 1.00e+00w  1\n",
      "  88  5.5005416e+04 0.00e+00 2.91e+00  -6.5 1.34e-01    -  1.00e+00 1.00e+00f  1\n",
      "  89  5.5005416e+04 0.00e+00 2.91e+00  -6.8 7.01e-03    -  1.00e+00 1.16e-10f 34\n",
      "iter    objective    inf_pr   inf_du lg(mu)  ||d||  lg(rg) alpha_du alpha_pr  ls\n",
      "  90  5.5005416e+04 0.00e+00 2.91e+00  -6.2 1.38e-02    -  6.66e-02 7.28e-12f 38\n",
      "  91  5.5005416e+04 0.00e+00 2.91e+00  -6.2 1.67e-02    -  1.00e+00 3.64e-12f 39\n",
      "  92  5.5005416e+04 0.00e+00 2.91e+00  -6.2 1.26e-02    -  5.34e-02 3.64e-12f 39\n",
      "  93  5.5005416e+04 0.00e+00 2.91e+00  -6.2 1.43e-02    -  1.00e+00 7.28e-12f 38\n",
      "  94  5.5005416e+04 0.00e+00 2.91e+00  -6.2 1.35e-02    -  4.99e-02 9.09e-13f 41\n",
      "  95  5.5005416e+04 0.00e+00 2.91e+00  -6.2 1.36e-02    -  1.00e+00 2.27e-13f 43\n",
      "  96  5.5005416e+04 0.00e+00 2.91e+00  -6.2 1.35e-02    -  4.99e-02 2.84e-14f 46\n",
      "  97  5.5005416e+04 0.00e+00 2.91e+00  -6.2 2.91e+00    -  4.30e-01 6.31e-17f 52\n",
      "  98  5.5005416e+04 0.00e+00 2.91e+00  -6.2 2.91e+00    -  6.07e-04 6.31e-17f 52\n",
      "  99  5.5005416e+04 0.00e+00 2.91e+00  -6.2 2.91e+00    -  1.00e+00 3.15e-17f 53\n",
      "iter    objective    inf_pr   inf_du lg(mu)  ||d||  lg(rg) alpha_du alpha_pr  ls\n",
      " 100  5.6346235e+04 0.00e+00 3.51e+02  -6.2 2.91e+00    -  8.88e-04 1.42e-01w  1\n",
      "\n",
      "Number of Iterations....: 100\n",
      "\n",
      "                                   (scaled)                 (unscaled)\n",
      "Objective...............:   3.4727314805632504e+03    5.6346235198594295e+04\n",
      "Dual infeasibility......:   3.5071678339452455e+02    5.6904976603711257e+03\n",
      "Constraint violation....:   0.0000000000000000e+00    0.0000000000000000e+00\n",
      "Complementarity.........:   7.5272955099344794e-07    1.2213289901219185e-05\n",
      "Overall NLP error.......:   3.5071678339452455e+02    5.6904976603711257e+03\n",
      "\n",
      "\n",
      "Number of objective function evaluations             = 3334\n",
      "Number of objective gradient evaluations             = 101\n",
      "Number of equality constraint evaluations            = 0\n",
      "Number of inequality constraint evaluations          = 0\n",
      "Number of equality constraint Jacobian evaluations   = 0\n",
      "Number of inequality constraint Jacobian evaluations = 0\n",
      "Number of Lagrangian Hessian evaluations             = 0\n",
      "Total CPU secs in IPOPT (w/o function evaluations)   =      1.094\n",
      "Total CPU secs in NLP function evaluations           =    158.621\n",
      "\n",
      "EXIT: Maximum Number of Iterations Exceeded.\n",
      " 99.086503 seconds (1.04 G allocations: 71.075 GiB, 8.53% gc time)\n"
     ]
    },
    {
     "name": "stderr",
     "output_type": "stream",
     "text": [
      "┌ Warning: Optimization unsuccesful; got UserLimit\n",
      "└ @ GLMCopula /Users/biona001/.julia/dev/GLMCopula/src/parameter_estimation/fit_nb.jl:30\n"
     ]
    },
    {
     "data": {
      "text/plain": [
       "-56346.235198594295"
      ]
     },
     "execution_count": 36,
     "metadata": {},
     "output_type": "execute_result"
    }
   ],
   "source": [
    "# Quasi-Newton\n",
    "@time GLMCopula.fit!(gcm, IpoptSolver(print_level = 5, max_iter = 100, hessian_approximation = \"limited-memory\"))"
   ]
  },
  {
   "cell_type": "code",
   "execution_count": 37,
   "metadata": {
    "collapsed": false,
    "scrolled": true
   },
   "outputs": [
    {
     "name": "stdout",
     "output_type": "stream",
     "text": [
      "estimated β = -0.4524277782239204; true β = -0.8472978603872034\n",
      "estimated variance component 1 = 6.641082089808847e-8; true variance component 1 = 0.1\n",
      "estimated variance component 2 = 0.69294167002372; true variance component 2 = 0.5\n",
      "estimated r = 1.1084050216812205; true r = 1\n"
     ]
    }
   ],
   "source": [
    "println(\"estimated β = $(gcm.β[1]); true β = $β_true\")\n",
    "println(\"estimated variance component 1 = $(gcm.Σ[1]); true variance component 1 = $variance_component_1\")\n",
    "println(\"estimated variance component 2 = $(gcm.Σ[2]); true variance component 2 = $variance_component_2\")\n",
    "println(\"estimated r = $(gcm.r[1]); true r = $r\");"
   ]
  },
  {
   "cell_type": "markdown",
   "metadata": {},
   "source": [
    "**If initializing VCs to 1**:\n",
    "+ With true $r = 1$\n",
    "    - good estimates of $\\beta$, VC parameters, and r\n",
    "    - sometimes does crazy line search. \n",
    "+ With true $r = 2$\n",
    "    - VC parameters goes to 0, esimated $\\beta$ is wrong, and estimated r is 1.17. \n",
    "\n",
    "**If initializing VCs by update_$\\Sigma$**:\n",
    "+ With true $r = 1$\n",
    "    - one VC parameters becomes basically 0 after initialization\n",
    "    - bad estimated beta (-0.45 vs -0.84 truth)\n",
    "    - estimated VC = 0.0 and 0.69 (truth = 0.1 and 0.5)\n",
    "    - estimated r = 1.1"
   ]
  },
  {
   "cell_type": "code",
   "execution_count": null,
   "metadata": {
    "collapsed": true
   },
   "outputs": [],
   "source": []
  },
  {
   "cell_type": "code",
   "execution_count": null,
   "metadata": {
    "collapsed": true
   },
   "outputs": [],
   "source": []
  },
  {
   "cell_type": "code",
   "execution_count": null,
   "metadata": {
    "collapsed": true
   },
   "outputs": [],
   "source": []
  },
  {
   "cell_type": "code",
   "execution_count": null,
   "metadata": {
    "collapsed": true
   },
   "outputs": [],
   "source": []
  },
  {
   "cell_type": "markdown",
   "metadata": {},
   "source": [
    "## Newton"
   ]
  },
  {
   "cell_type": "code",
   "execution_count": 8,
   "metadata": {
    "collapsed": false,
    "scrolled": true
   },
   "outputs": [],
   "source": [
    "# @time GLMCopula.fit!(gcm, IpoptSolver(print_level = 5, max_iter = 100, hessian_approximation = \"exact\"))"
   ]
  },
  {
   "cell_type": "code",
   "execution_count": 9,
   "metadata": {
    "collapsed": false
   },
   "outputs": [
    {
     "name": "stdout",
     "output_type": "stream",
     "text": [
      "estimated β = 635.6293856671999; true β = 1.4552872326068422\n",
      "estimated variance component 1 = 4.995785928691524; true variance component 1 = 0.1\n",
      "estimated variance component 2 = 0.014080169494087566; true variance component 2 = 0.5\n",
      "estimated r = 1.1030329320877854; true r = 10\n"
     ]
    }
   ],
   "source": [
    "println(\"estimated β = $(gcm.β[1]); true β = $β_true\")\n",
    "println(\"estimated variance component 1 = $(gcm.Σ[1]); true variance component 1 = $variance_component_1\")\n",
    "println(\"estimated variance component 2 = $(gcm.Σ[2]); true variance component 2 = $variance_component_2\")\n",
    "println(\"estimated r = $(gcm.r[1]); true r = $r\");"
   ]
  },
  {
   "cell_type": "code",
   "execution_count": null,
   "metadata": {
    "collapsed": true
   },
   "outputs": [],
   "source": []
  }
 ],
 "metadata": {
  "@webio": {
   "lastCommId": null,
   "lastKernelId": null
  },
  "kernelspec": {
   "display_name": "Julia 1.6.0",
   "language": "julia",
   "name": "julia-1.6"
  },
  "language_info": {
   "file_extension": ".jl",
   "mimetype": "application/julia",
   "name": "julia",
   "version": "1.6.0"
  },
  "toc": {
   "base_numbering": 1,
   "nav_menu": {},
   "number_sections": true,
   "sideBar": true,
   "skip_h1_title": false,
   "title_cell": "Table of Contents",
   "title_sidebar": "Contents",
   "toc_cell": false,
   "toc_position": {},
   "toc_section_display": true,
   "toc_window_display": false
  }
 },
 "nbformat": 4,
 "nbformat_minor": 2
}
