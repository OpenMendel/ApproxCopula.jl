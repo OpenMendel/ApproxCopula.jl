{
 "cells": [
  {
   "cell_type": "markdown",
   "metadata": {},
   "source": [
    "# Form the NB Regression Random Intercept Model: Simulated set\n",
    "\n",
    "Next we may try joint estimation using Newton's + IPOPT. \n",
    "\n",
    "    I create new structures `NBCopulaVCObs`, `NBCopulaVCModel`\n",
    "    \n",
    "\n"
   ]
  },
  {
   "cell_type": "code",
   "execution_count": 66,
   "metadata": {
    "collapsed": false
   },
   "outputs": [
    {
     "data": {
      "text/plain": [
       "10000-element Vector{Vector{Float64}}:\n",
       " [4.0, 0.0, 1.0, 1.0, 0.0]\n",
       " [5.0, 2.0, 3.0, 3.0, 4.0]\n",
       " [4.0, 2.0, 2.0, 7.0, 4.0]\n",
       " [2.0, 3.0, 4.0, 2.0, 5.0]\n",
       " [6.0, 7.0, 6.0, 0.0, 0.0]\n",
       " [2.0, 2.0, 3.0, 2.0, 1.0]\n",
       " [6.0, 1.0, 3.0, 2.0, 2.0]\n",
       " [1.0, 0.0, 3.0, 1.0, 5.0]\n",
       " [2.0, 0.0, 1.0, 3.0, 1.0]\n",
       " [2.0, 2.0, 3.0, 1.0, 1.0]\n",
       " [4.0, 1.0, 3.0, 4.0, 3.0]\n",
       " [3.0, 4.0, 4.0, 0.0, 2.0]\n",
       " [4.0, 1.0, 1.0, 4.0, 1.0]\n",
       " ⋮\n",
       " [1.0, 3.0, 0.0, 2.0, 4.0]\n",
       " [0.0, 3.0, 1.0, 1.0, 1.0]\n",
       " [1.0, 0.0, 1.0, 3.0, 0.0]\n",
       " [1.0, 1.0, 0.0, 0.0, 3.0]\n",
       " [4.0, 3.0, 2.0, 2.0, 7.0]\n",
       " [4.0, 1.0, 1.0, 1.0, 1.0]\n",
       " [4.0, 3.0, 0.0, 5.0, 4.0]\n",
       " [0.0, 5.0, 1.0, 3.0, 3.0]\n",
       " [3.0, 1.0, 4.0, 1.0, 1.0]\n",
       " [3.0, 1.0, 1.0, 5.0, 2.0]\n",
       " [5.0, 4.0, 0.0, 2.0, 3.0]\n",
       " [1.0, 1.0, 0.0, 1.0, 1.0]"
      ]
     },
     "execution_count": 66,
     "metadata": {},
     "output_type": "execute_result"
    }
   ],
   "source": [
    "using Revise\n",
    "using DataFrames, Random, GLM, GLMCopula\n",
    "using ForwardDiff, Test, LinearAlgebra\n",
    "using LinearAlgebra: BlasReal, copytri!\n",
    "\n",
    "Random.seed!(1234)\n",
    "\n",
    "# sample size\n",
    "N = 10000\n",
    "# observations per subject\n",
    "n = 5\n",
    "\n",
    "variance_component_1 = 0.1\n",
    "variance_component_2 = 0.5\n",
    "\n",
    "r = 5\n",
    "p = 0.7\n",
    "μ = r * (1-p) * inv(p)\n",
    "\n",
    "# var = r * (1-p) * inv(p^2)\n",
    "\n",
    "# true beta\n",
    "β_true = log(μ)\n",
    "\n",
    "dist = NegativeBinomial\n",
    "\n",
    "Γ = variance_component_1 * ones(n, n) + variance_component_2 * Matrix(I, n, n)\n",
    "vecd = [dist(r, p) for i in 1:n]\n",
    "nonmixed_multivariate_dist = NonMixedMultivariateDistribution(vecd, Γ)\n",
    "\n",
    "Y_Nsample = simulate_nobs_independent_vectors(nonmixed_multivariate_dist, N)"
   ]
  },
  {
   "cell_type": "code",
   "execution_count": 67,
   "metadata": {
    "collapsed": false
   },
   "outputs": [],
   "source": [
    "d = NegativeBinomial()\n",
    "link = LogLink()\n",
    "D = typeof(d)\n",
    "Link = typeof(link)\n",
    "T = Float64\n",
    "gcs = Vector{NBCopulaVCObs{T, D, Link}}(undef, N)\n",
    "for i in 1:N\n",
    "    y = Float64.(Y_Nsample[i])\n",
    "    X = ones(n, 1)\n",
    "    V = [ones(n, n), Matrix(I, n, n)]\n",
    "    gcs[i] = NBCopulaVCObs(y, X, V, d, link)\n",
    "end\n",
    "gcm = NBCopulaVCModel(gcs);\n",
    "# gcm.r[1] = r"
   ]
  },
  {
   "cell_type": "code",
   "execution_count": 68,
   "metadata": {
    "collapsed": false,
    "scrolled": true
   },
   "outputs": [
    {
     "name": "stdout",
     "output_type": "stream",
     "text": [
      "initializing β using Newton's Algorithm under Independence Assumption\n",
      "1 0.0 -102230.63862362555 39999\n",
      "2 -102230.63862362555 -102230.63862362555 39999\n",
      "gcm.r = [3.1765091419269718]\n",
      "initializing variance components using MM-Algorithm\n",
      "gcm.Σ = [0.015836468281664913, 0.01926890589384562]\n",
      "gcm.β = [0.857381138555244]\n",
      "gcm.r = [3.1765091419269718]\n"
     ]
    },
    {
     "data": {
      "text/plain": [
       "1-element Vector{Float64}:\n",
       " 3.1765091419269718"
      ]
     },
     "execution_count": 68,
     "metadata": {},
     "output_type": "execute_result"
    }
   ],
   "source": [
    "initialize_model!(gcm)\n",
    "@show gcm.β\n",
    "# @show gcm.Σ\n",
    "@show gcm.r"
   ]
  },
  {
   "cell_type": "code",
   "execution_count": 69,
   "metadata": {
    "collapsed": false
   },
   "outputs": [
    {
     "data": {
      "text/plain": [
       "0.7621400520468969"
      ]
     },
     "execution_count": 69,
     "metadata": {},
     "output_type": "execute_result"
    }
   ],
   "source": [
    "β_true"
   ]
  },
  {
   "cell_type": "markdown",
   "metadata": {},
   "source": [
    "Initialize β and σ2, here I just copy the solution for β and σ2 from MixedModels.jl over"
   ]
  },
  {
   "cell_type": "code",
   "execution_count": 70,
   "metadata": {
    "collapsed": false
   },
   "outputs": [
    {
     "data": {
      "text/plain": [
       "-98938.37512106728"
      ]
     },
     "execution_count": 70,
     "metadata": {},
     "output_type": "execute_result"
    }
   ],
   "source": [
    "GLMCopula.loglikelihood!(gcm, true, true)"
   ]
  },
  {
   "cell_type": "markdown",
   "metadata": {},
   "source": [
    "## Try Quasi-Newton after specifying gradient of r\n",
    "\n",
    "to-do: \n",
    "\n",
    "1. added field $r$ to model structure $gcm.r$, change access to r this way instead of through the distribution\n",
    "2. add $gc.\\nabla r$ in loglikelihood function\n",
    "\n",
    "\n",
    "## Newton after specifying the hessian term too\n",
    "\n",
    "3. add $gc.Hr$ in loglikelihood function"
   ]
  },
  {
   "cell_type": "code",
   "execution_count": 71,
   "metadata": {
    "collapsed": false,
    "scrolled": true
   },
   "outputs": [
    {
     "name": "stdout",
     "output_type": "stream",
     "text": [
      "This is Ipopt version 3.12.10, running with linear solver mumps.\n",
      "NOTE: Other linear solvers might be more efficient (see Ipopt documentation).\n",
      "\n",
      "Number of nonzeros in equality constraint Jacobian...:        0\n",
      "Number of nonzeros in inequality constraint Jacobian.:        0\n",
      "Number of nonzeros in Lagrangian Hessian.............:        0\n",
      "\n",
      "Total number of variables............................:        4\n",
      "                     variables with only lower bounds:        3\n",
      "                variables with lower and upper bounds:        0\n",
      "                     variables with only upper bounds:        0\n",
      "Total number of equality constraints.................:        0\n",
      "Total number of inequality constraints...............:        0\n",
      "        inequality constraints with only lower bounds:        0\n",
      "   inequality constraints with lower and upper bounds:        0\n",
      "        inequality constraints with only upper bounds:        0\n",
      "\n",
      "iter    objective    inf_pr   inf_du lg(mu)  ||d||  lg(rg) alpha_du alpha_pr  ls\n",
      "   0  9.8938375e+04 0.00e+00 1.00e+02   0.0 0.00e+00    -  0.00e+00 0.00e+00   0\n",
      "Warning: Cutting back alpha due to evaluation error\n",
      "   1  9.8933735e+04 0.00e+00 7.76e+01  -1.3 1.00e+02    -  1.00e+00 3.06e-04f 12\n",
      "   2  9.8924187e+04 0.00e+00 2.89e+01  -1.5 8.36e-03    -  1.00e+00 1.00e+00f  1\n",
      "   3  9.8923059e+04 0.00e+00 1.94e+01  -2.1 4.18e-03    -  1.00e+00 1.00e+00f  1\n",
      "   4  9.8920746e+04 0.00e+00 3.73e+00  -3.4 1.71e-02    -  1.00e+00 1.00e+00f  1\n",
      "   5  9.8920746e+04 0.00e+00 3.76e+00  -5.2 3.71e-03    -  1.00e+00 1.86e-09f 30\n",
      "   6  9.8920746e+04 0.00e+00 3.76e+00  -4.3 4.50e-03    -  1.00e+00 1.46e-11f 37\n",
      "   7  9.8920746e+04 0.00e+00 3.77e+00  -4.3 1.98e-02    -  1.00e+00 9.09e-13f 41\n",
      "   8  9.8920746e+04 0.00e+00 3.77e+00  -4.3 1.98e-02    -  1.00e+00 9.09e-13f 41\n",
      "   9  9.8920746e+04 0.00e+00 3.77e+00  -4.3 1.98e-02    -  1.00e+00 7.11e-15f 48\n",
      "iter    objective    inf_pr   inf_du lg(mu)  ||d||  lg(rg) alpha_du alpha_pr  ls\n",
      "  10  9.8920746e+04 0.00e+00 3.76e+00  -4.3 3.68e+00    -  1.33e-02 5.99e-12f 31\n",
      "  11  9.8920746e+04 0.00e+00 3.76e+00  -4.3 3.01e-03    -  1.00e+00 1.16e-10f 34\n",
      "  12  9.8920746e+04 0.00e+00 3.77e+00  -4.3 9.10e-03    -  1.00e+00 2.33e-10f 33\n",
      "  13  9.8920746e+04 0.00e+00 3.76e+00  -4.3 2.08e-02    -  1.00e+00 1.16e-10f 34\n",
      "  14  9.8920746e+04 0.00e+00 3.77e+00  -4.3 2.74e-02    -  1.00e+00 1.46e-11f 37\n",
      "  15  9.8920746e+04 0.00e+00 3.76e+00  -4.3 6.34e-02    -  1.00e+00 1.82e-12f 40\n",
      "  16  9.8989826e+04 0.00e+00 1.15e+02  -4.3 2.00e-01    -  1.00e+00 1.00e+00w  1\n",
      "  17  9.8935197e+04 0.00e+00 7.28e+00  -4.3 1.22e-01    -  9.45e-02 1.00e+00w  1\n",
      "  18  9.8939873e+04 0.00e+00 9.36e+00  -4.3 2.56e-02    -  1.00e+00 1.00e+00w  1\n",
      "  19  9.8920746e+04 0.00e+00 3.76e+00  -4.3 2.70e-01    -  1.00e+00 2.27e-13f 42\n",
      "iter    objective    inf_pr   inf_du lg(mu)  ||d||  lg(rg) alpha_du alpha_pr  ls\n",
      "  20  9.8920746e+04 0.00e+00 3.74e+00  -4.3 2.12e+00    -  1.00e+00 3.66e-15f 45\n",
      "  21  9.8920746e+04 0.00e+00 3.77e+00  -4.3 2.01e+00    -  1.00e+00 1.95e-15f 46\n",
      "  22  9.8920746e+04 0.00e+00 4.81e+00  -4.3 1.22e+00    -  1.00e+00 1.19e-13f 41\n",
      "  23  9.8920746e+04 0.00e+00 4.63e+00  -4.3 2.89e+00    -  3.69e-02 7.11e-15f 48\n",
      "  24  9.8920746e+04 0.00e+00 3.73e+00  -4.3 3.73e+00    -  1.00e+00 8.88e-16f 51\n",
      "  25  9.8920746e+04 0.00e+00 3.73e+00  -4.3 3.69e+00    -  1.33e-02 2.22e-16f 53\n",
      "  26  9.8920746e+04 0.00e+00 3.73e+00  -4.3 3.73e+00    -  1.00e+00 1.11e-16f 54\n",
      "  27  9.8920746e+04 0.00e+00 3.73e+00  -4.3 3.66e+00    -  1.33e-02 5.55e-17f 55\n",
      "  28  9.8920746e+04 0.00e+00 3.73e+00  -4.3 3.73e+00    -  1.00e+00 1.39e-17f 57\n",
      "  29  3.9660782e+05 0.00e+00 1.20e+04  -4.3 3.66e+00    -  1.33e-02 1.00e+00w  1\n",
      "iter    objective    inf_pr   inf_du lg(mu)  ||d||  lg(rg) alpha_du alpha_pr  ls\n",
      "  30  9.8934859e+04 0.00e+00 1.34e+02  -4.3 3.65e+00    -  1.22e-01 1.00e+00w  1\n",
      "  31  9.9104089e+04 0.00e+00 2.58e+02  -4.3 9.90e-02    -  1.00e+00 1.00e+00w  1\n",
      "  32  9.9005414e+04 0.00e+00 2.61e+02  -4.3 5.24e-02    -  1.33e-02 1.33e-02S 21\n",
      "  33  9.8947385e+04 0.00e+00 1.12e+02  -4.3 1.94e-01    -  1.00e+00 2.99e-01f  1\n",
      "  34  9.8941836e+04 0.00e+00 1.34e+02  -4.3 9.25e-03    -  7.97e-02 1.00e+00f  1\n",
      "  35  9.8935195e+04 0.00e+00 8.20e+01  -4.3 4.28e-02    -  1.00e+00 1.00e+00f  1\n",
      "  36  9.8924745e+04 0.00e+00 2.26e+01  -4.3 1.70e-02    -  1.00e+00 1.00e+00f  1\n",
      "  37  9.8924589e+04 0.00e+00 3.37e+00  -4.3 5.97e-03    -  1.00e+00 1.00e+00f  1\n",
      "  38  9.8924589e+04 0.00e+00 3.25e+00  -4.3 1.00e-03    -  9.91e-01 9.31e-10f 31\n",
      "  39  9.8924589e+04 0.00e+00 3.25e+00  -4.3 6.94e-03    -  1.00e+00 1.16e-10f 34\n",
      "iter    objective    inf_pr   inf_du lg(mu)  ||d||  lg(rg) alpha_du alpha_pr  ls\n",
      "  40  9.8924589e+04 0.00e+00 3.25e+00  -4.3 2.54e-02    -  1.00e+00 3.64e-12f 39\n",
      "  41  9.8924589e+04 0.00e+00 3.25e+00  -4.3 7.06e-02    -  1.00e+00 1.46e-11f 37\n",
      "  42  9.8924589e+04 0.00e+00 3.25e+00  -4.3 3.29e-02    -  1.00e+00 5.82e-11f 35\n",
      "  43  9.8924589e+04 0.00e+00 3.25e+00  -4.3 7.82e-02    -  1.00e+00 3.64e-12f 39\n",
      "  44  9.8924589e+04 0.00e+00 3.25e+00  -4.3 1.71e+00    -  1.44e-01 2.27e-13f 43\n",
      "  45  9.8924589e+04 0.00e+00 3.25e+00  -4.3 1.54e-01    -  1.00e+00 3.64e-12f 39\n",
      "  46  9.8924589e+04 0.00e+00 3.25e+00  -4.3 1.67e-01    -  9.24e-01 1.82e-12f 40\n",
      "  47  9.8924589e+04 0.00e+00 3.25e+00  -4.3 2.23e-01    -  1.00e+00 9.09e-13f 41\n",
      "  48  9.9248835e+04 0.00e+00 3.70e+02  -4.3 6.08e-01    -  5.83e-01 1.00e+00w  1\n",
      "  49  9.8945243e+04 0.00e+00 1.70e+01  -4.3 5.02e-01    -  1.00e+00 1.00e+00w  1\n",
      "iter    objective    inf_pr   inf_du lg(mu)  ||d||  lg(rg) alpha_du alpha_pr  ls\n",
      "  50  9.8936213e+04 0.00e+00 1.71e+01  -4.3 4.81e-02    -  1.00e+00 1.00e+00w  1\n",
      "  51  9.9068504e+04 0.00e+00 2.30e+02  -4.3 8.89e-02    -  5.83e-01 5.83e-01S 21\n",
      "  52  9.8956999e+04 0.00e+00 7.25e+01  -4.3 3.81e-01    -  1.00e+00 7.24e-01f  1\n",
      "  53  9.8949719e+04 0.00e+00 1.16e+02  -4.3 1.82e-01    -  4.15e-05 1.00e+00f  1\n",
      "  54  9.8949093e+04 0.00e+00 8.55e+01  -4.3 5.11e-01    -  3.06e-01 2.50e-01f  3\n",
      "  55  9.8948990e+04 0.00e+00 7.94e+01  -4.3 1.37e+00    -  1.00e+00 1.22e-02f  5\n",
      "  56  9.8931004e+04 0.00e+00 1.15e+02  -4.3 8.94e-01    -  1.00e+00 4.38e-01f  1\n",
      "  57  9.8911915e+04 0.00e+00 3.60e+01  -4.3 2.21e-01    -  1.24e-04 1.00e+00f  1\n",
      "  58  9.8911915e+04 0.00e+00 3.60e+01  -5.3 1.47e-01    -  1.00e+00 2.33e-10f 33\n",
      "  59  9.8911915e+04 0.00e+00 3.60e+01  -4.9 2.19e+00    -  1.09e-01 4.55e-13f 42\n",
      "iter    objective    inf_pr   inf_du lg(mu)  ||d||  lg(rg) alpha_du alpha_pr  ls\n",
      "  60  9.8911915e+04 0.00e+00 3.60e+01  -4.9 2.05e-01    -  1.00e+00 2.91e-11f 36\n",
      "  61  9.8911915e+04 0.00e+00 3.60e+01  -4.9 4.28e-01    -  1.00e+00 1.82e-12f 40\n",
      "  62  9.8904296e+04 0.00e+00 2.23e+01  -4.9 5.41e-01    -  4.85e-02 6.71e-02f  2\n",
      "  63  9.8904296e+04 0.00e+00 2.23e+01  -5.9 2.38e-01    -  1.00e+00 1.82e-12f 40\n",
      "  64  9.8904296e+04 0.00e+00 2.23e+01  -6.1 4.20e+00    -  1.00e+00 2.83e-12f 35\n",
      "  65  9.8904296e+04 0.00e+00 2.23e+01  -6.1 2.14e-01    -  6.64e-01 7.28e-12f 38\n",
      "  66  9.8904296e+04 0.00e+00 2.23e+01  -6.1 1.38e+00    -  1.00e+00 2.27e-13f 43\n",
      "  67  9.8904296e+04 0.00e+00 2.23e+01  -6.1 2.27e-01    -  1.00e+00 7.28e-12f 38\n",
      "  68  9.8904296e+04 0.00e+00 2.23e+01  -6.1 2.05e-01    -  1.00e+00 7.28e-12f 38\n",
      "  69  9.8904296e+04 0.00e+00 2.23e+01  -6.1 1.67e-01    -  6.68e-01 1.18e-11f 37\n",
      "iter    objective    inf_pr   inf_du lg(mu)  ||d||  lg(rg) alpha_du alpha_pr  ls\n",
      "  70  9.8904296e+04 0.00e+00 2.23e+01  -6.1 1.31e-01    -  1.00e+00 3.64e-12f 39\n",
      "  71  9.8904296e+04 0.00e+00 2.23e+01  -6.1 3.37e-01    -  1.00e+00 1.82e-12f 40\n",
      "  72  9.8904296e+04 0.00e+00 2.23e+01  -6.1 1.25e+00    -  6.74e-02 2.91e-11f 36\n",
      "  73  9.8904296e+04 0.00e+00 2.23e+01  -6.1 2.35e-01    -  1.00e+00 3.64e-12f 39\n",
      "  74  9.9395905e+04 0.00e+00 2.35e+02  -6.1 1.41e+00    -  4.10e-01 1.00e+00w  1\n",
      "  75  9.9078234e+04 0.00e+00 8.42e+01  -6.1 8.62e-01    -  1.30e-01 1.00e+00w  1\n",
      "  76  9.8934367e+04 0.00e+00 9.71e+01  -6.1 1.84e+00    -  1.00e+00 2.87e-01w  1\n",
      "  77  9.8904296e+04 0.00e+00 2.23e+01  -6.1 3.08e-01    -  4.10e-01 9.09e-13f 40\n",
      "  78  9.8904296e+04 0.00e+00 2.23e+01  -6.1 4.91e-01    -  7.98e-01 9.09e-13f 41\n",
      "  79  9.8902748e+04 0.00e+00 1.86e+01  -6.1 1.89e-01    -  1.48e-01 3.78e-02f  4\n",
      "iter    objective    inf_pr   inf_du lg(mu)  ||d||  lg(rg) alpha_du alpha_pr  ls\n",
      "  80  9.8902748e+04 0.00e+00 1.86e+01  -7.0 3.02e-01    -  1.00e+00 1.82e-12f 40\n",
      "  81  9.8902748e+04 0.00e+00 1.86e+01  -7.3 1.05e+00    -  1.00e+00 6.47e-13f 38\n",
      "  82  9.8902748e+04 0.00e+00 1.86e+01  -7.3 1.64e-01    -  6.47e-01 3.64e-12f 39\n",
      "  83  9.8902748e+04 0.00e+00 1.86e+01  -7.3 2.13e-01    -  1.00e+00 9.09e-13f 41\n",
      "  84  9.8902748e+04 0.00e+00 1.86e+01  -7.3 3.74e-01    -  4.04e-01 9.09e-13f 41\n",
      "  85  9.8902748e+04 0.00e+00 1.86e+01  -7.3 7.47e-01    -  1.00e+00 4.55e-13f 42\n",
      "  86  9.8902748e+04 0.00e+00 1.86e+01  -7.3 1.58e+00    -  7.51e-02 2.31e-12f 38\n",
      "  87  9.8902748e+04 0.00e+00 1.86e+01  -7.3 2.98e-01    -  1.00e+00 9.09e-13f 41\n",
      "  88  9.8902748e+04 0.00e+00 1.86e+01  -7.3 4.15e+00    -  5.22e-01 4.22e-14f 41\n",
      "  89  9.8902748e+04 0.00e+00 1.86e+01  -7.3 1.97e-01    -  6.99e-01 9.09e-13f 41\n",
      "iter    objective    inf_pr   inf_du lg(mu)  ||d||  lg(rg) alpha_du alpha_pr  ls\n",
      "  90  9.8902748e+04 0.00e+00 1.86e+01  -7.3 2.00e-01    -  1.00e+00 1.14e-13f 44\n",
      "  91  9.8946949e+04 0.00e+00 7.52e+01  -7.3 3.60e-01    -  4.51e-01 3.82e-01w  1\n",
      "  92  9.8918871e+04 0.00e+00 1.29e+01  -7.3 4.25e-02    -  1.24e-07 1.00e+00w  1\n",
      "  93  9.8923309e+04 0.00e+00 1.38e+01  -7.3 2.87e-02    -  1.00e+00 1.00e+00w  1\n",
      "  94  9.8902748e+04 0.00e+00 1.86e+01  -7.3 1.12e+00    -  4.51e-01 2.17e-14f 44\n",
      "  95  9.8902748e+04 0.00e+00 1.86e+01  -7.3 3.17e-01    -  2.46e-01 1.46e-11f 37\n",
      "  96  9.8902748e+04 0.00e+00 1.86e+01  -7.3 3.17e-01    -  1.00e+00 3.64e-12f 39\n",
      "  97  9.8902748e+04 0.00e+00 1.86e+01  -7.3 1.15e+00    -  8.16e-02 3.26e-14f 45\n",
      "  98  9.8902748e+04 0.00e+00 1.86e+01  -7.3 3.15e-01    -  1.00e+00 1.82e-12f 40\n",
      "  99  9.8902748e+04 0.00e+00 1.86e+01  -7.3 2.26e-01    -  1.00e+00 9.09e-13f 41\n",
      "iter    objective    inf_pr   inf_du lg(mu)  ||d||  lg(rg) alpha_du alpha_pr  ls\n",
      " 100  9.8902748e+04 0.00e+00 1.86e+01  -7.3 2.11e-01    -  4.56e-01 5.83e-13f 41\n",
      "\n",
      "Number of Iterations....: 100\n",
      "\n",
      "                                   (scaled)                 (unscaled)\n",
      "Objective...............:   9.1892817417709812e+03    9.8902747791016503e+04\n",
      "Dual infeasibility......:   1.8565883308317900e+01    1.9982158845051671e+02\n",
      "Constraint violation....:   0.0000000000000000e+00    0.0000000000000000e+00\n",
      "Complementarity.........:   6.5595037841274183e-08    7.0598874496010733e-07\n",
      "Overall NLP error.......:   1.8565883308317900e+01    1.9982158845051671e+02\n",
      "\n",
      "\n",
      "Number of objective function evaluations             = 3033\n",
      "Number of objective gradient evaluations             = 101\n",
      "Number of equality constraint evaluations            = 0\n",
      "Number of inequality constraint evaluations          = 0\n",
      "Number of equality constraint Jacobian evaluations   = 0\n",
      "Number of inequality constraint Jacobian evaluations = 0\n",
      "Number of Lagrangian Hessian evaluations             = 0\n",
      "Total CPU secs in IPOPT (w/o function evaluations)   =      1.070\n",
      "Total CPU secs in NLP function evaluations           =    157.971\n",
      "\n",
      "EXIT: Maximum Number of Iterations Exceeded.\n",
      " 96.015354 seconds (953.15 M allocations: 65.019 GiB, 6.20% gc time)\n"
     ]
    },
    {
     "name": "stderr",
     "output_type": "stream",
     "text": [
      "┌ Warning: Optimization unsuccesful; got UserLimit\n",
      "└ @ GLMCopula /Users/biona001/.julia/dev/GLMCopula/src/parameter_estimation/fit_nb.jl:30\n"
     ]
    },
    {
     "data": {
      "text/plain": [
       "-98902.7477910165"
      ]
     },
     "execution_count": 71,
     "metadata": {},
     "output_type": "execute_result"
    }
   ],
   "source": [
    "# Quasi-Newton\n",
    "@time GLMCopula.fit!(gcm, IpoptSolver(print_level = 5, max_iter = 100,\n",
    "#     tol = 10^-6, mu_strategy = \"adaptive\", mu_oracle = \"loqo\",\n",
    "#     mehrotra_algorithm=\"yes\", warm_start_init_point=\"yes\",\n",
    "    hessian_approximation = \"limited-memory\"))"
   ]
  },
  {
   "cell_type": "code",
   "execution_count": 72,
   "metadata": {
    "collapsed": false,
    "scrolled": true
   },
   "outputs": [
    {
     "name": "stdout",
     "output_type": "stream",
     "text": [
      "estimated β = 0.823133950131056; true β = 0.7621400520468969\n",
      "estimated variance component 1 = 0.018268976282788982; true variance component 1 = 0.1\n",
      "estimated variance component 2 = 0.04987159121176961; true variance component 2 = 0.5\n",
      "estimated r = 3.0487088396366593; true r = 5\n"
     ]
    }
   ],
   "source": [
    "println(\"estimated β = $(gcm.β[1]); true β = $β_true\")\n",
    "println(\"estimated variance component 1 = $(gcm.Σ[1]); true variance component 1 = $variance_component_1\")\n",
    "println(\"estimated variance component 2 = $(gcm.Σ[2]); true variance component 2 = $variance_component_2\")\n",
    "println(\"estimated r = $(gcm.r[1]); true r = $r\");"
   ]
  },
  {
   "cell_type": "markdown",
   "metadata": {},
   "source": [
    "**If initializing VCs to 1**:\n",
    "+ With true $r = 1$\n",
    "    - good estimates of $\\beta$, VC parameters, and r\n",
    "    - sometimes does crazy line search. \n",
    "+ With true $r = 2$\n",
    "    - VC parameters goes to 0, esimated $\\beta$ is wrong, and estimated r is 1.17. \n",
    "\n",
    "**If initializing VCs by update_$\\Sigma$**:\n",
    "+ With true $r = 1$\n",
    "    - one VC parameters becomes basically 0 after initialization\n",
    "    - bad estimated beta (-0.45 vs -0.84 truth)\n",
    "    - estimated VC = 0.0 and 0.69 (truth = 0.1 and 0.5)\n",
    "    - estimated r = 1.1"
   ]
  },
  {
   "cell_type": "code",
   "execution_count": null,
   "metadata": {
    "collapsed": true
   },
   "outputs": [],
   "source": []
  },
  {
   "cell_type": "code",
   "execution_count": null,
   "metadata": {
    "collapsed": true
   },
   "outputs": [],
   "source": []
  },
  {
   "cell_type": "code",
   "execution_count": null,
   "metadata": {
    "collapsed": true
   },
   "outputs": [],
   "source": []
  },
  {
   "cell_type": "code",
   "execution_count": null,
   "metadata": {
    "collapsed": true
   },
   "outputs": [],
   "source": []
  },
  {
   "cell_type": "markdown",
   "metadata": {},
   "source": [
    "## Newton"
   ]
  },
  {
   "cell_type": "code",
   "execution_count": 8,
   "metadata": {
    "collapsed": false,
    "scrolled": true
   },
   "outputs": [
    {
     "name": "stdout",
     "output_type": "stream",
     "text": [
      "This is Ipopt version 3.12.10, running with linear solver mumps.\n",
      "NOTE: Other linear solvers might be more efficient (see Ipopt documentation).\n",
      "\n",
      "Number of nonzeros in equality constraint Jacobian...:        0\n",
      "Number of nonzeros in inequality constraint Jacobian.:        0\n",
      "Number of nonzeros in Lagrangian Hessian.............:        5\n",
      "\n",
      "Total number of variables............................:        4\n",
      "                     variables with only lower bounds:        3\n",
      "                variables with lower and upper bounds:        0\n",
      "                     variables with only upper bounds:        0\n",
      "Total number of equality constraints.................:        0\n",
      "Total number of inequality constraints...............:        0\n",
      "        inequality constraints with only lower bounds:        0\n",
      "   inequality constraints with lower and upper bounds:        0\n",
      "        inequality constraints with only upper bounds:        0\n",
      "\n",
      "iter    objective    inf_pr   inf_du lg(mu)  ||d||  lg(rg) alpha_du alpha_pr  ls\n",
      "   0  1.1849819e+05 0.00e+00 1.00e+02   0.0 0.00e+00    -  0.00e+00 0.00e+00   0\n",
      "   1  1.1849819e+05 0.00e+00 1.00e+02  -1.4 1.71e+00    -  7.29e-01 2.27e-13f 43\n",
      "   2  1.1849819e+05 0.00e+00 1.00e+02  -1.1 1.74e+00    -  1.00e+00 1.14e-13f 44\n",
      "   3  1.1849819e+05 0.00e+00 1.00e+02  -1.1 1.74e+00    -  1.00e+00 2.27e-13f 43\n",
      "   4  1.1849819e+05 0.00e+00 1.00e+02  -1.1 1.74e+00    -  1.00e+00 2.27e-13f 43\n",
      "   5  1.1849819e+05 0.00e+00 1.00e+02  -1.1 1.74e+00    -  1.00e+00 1.82e-12f 40\n",
      "   6  1.1849819e+05 0.00e+00 1.00e+02  -1.1 1.74e+00    -  1.00e+00 1.14e-13f 44\n",
      "   7  1.1849819e+05 0.00e+00 1.00e+02  -1.1 1.74e+00    -  1.00e+00 2.27e-13f 43\n",
      "   8  1.1849819e+05 0.00e+00 1.00e+02  -1.1 1.74e+00    -  1.00e+00 2.27e-13f 43\n",
      "   9  1.1849819e+05 0.00e+00 1.00e+02  -1.1 1.74e+00    -  1.00e+00 1.82e-12f 40\n",
      "iter    objective    inf_pr   inf_du lg(mu)  ||d||  lg(rg) alpha_du alpha_pr  ls\n",
      "  10  1.1849819e+05 0.00e+00 1.00e+02  -1.1 1.74e+00    -  1.00e+00 9.09e-13f 41\n",
      "  11  1.1849819e+05 0.00e+00 1.00e+02  -1.1 1.74e+00    -  1.00e+00 4.55e-13f 42\n",
      "  12  1.1869392e+05 0.00e+00 7.64e+00  -1.1 1.74e+00    -  1.00e+00 1.00e+00w  1\n",
      "  13  1.1897289e+05 0.00e+00 2.35e+01  -1.1 1.64e+00    -  1.00e+00 1.00e+00w  1\n",
      "  14  1.1909722e+05 0.00e+00 6.16e+00  -1.1 6.84e-01    -  1.00e+00 1.00e+00w  1\n",
      "  15  1.1849819e+05 0.00e+00 1.00e+02  -1.1 2.76e-01    -  1.00e+00 9.09e-13f 40\n",
      "  16  1.1849819e+05 0.00e+00 1.00e+02  -1.1 1.74e+00    -  1.00e+00 7.28e-12f 38\n",
      "  17  1.1849819e+05 0.00e+00 1.00e+02  -1.1 1.74e+00    -  1.00e+00 3.64e-12f 39\n",
      "  18  1.1849819e+05 0.00e+00 1.00e+02  -1.1 1.74e+00    -  1.00e+00 9.09e-13f 41\n",
      "  19  1.1849819e+05 0.00e+00 1.00e+02  -1.1 1.74e+00    -  1.00e+00 3.64e-12f 39\n",
      "iter    objective    inf_pr   inf_du lg(mu)  ||d||  lg(rg) alpha_du alpha_pr  ls\n",
      "  20  1.1849819e+05 0.00e+00 1.00e+02  -1.1 1.74e+00    -  1.00e+00 1.82e-12f 40\n",
      "  21  1.1849819e+05 0.00e+00 1.00e+02  -1.1 1.74e+00    -  1.00e+00 4.55e-13f 42\n",
      "  22  1.1849819e+05 0.00e+00 1.00e+02  -1.1 1.74e+00    -  1.00e+00 9.09e-13f 41\n",
      "  23  1.1849819e+05 0.00e+00 1.00e+02  -1.1 1.74e+00    -  1.00e+00 1.14e-13f 44\n",
      "  24  1.1849819e+05 0.00e+00 1.00e+02  -1.1 1.74e+00    -  1.00e+00 2.27e-13f 43\n",
      "  25  1.1869392e+05 0.00e+00 7.64e+00  -1.1 1.74e+00    -  1.00e+00 1.00e+00w  1\n",
      "  26  1.1897289e+05 0.00e+00 2.35e+01  -1.1 1.64e+00    -  1.00e+00 1.00e+00w  1\n",
      "  27  1.1909722e+05 0.00e+00 6.16e+00  -1.1 6.84e-01    -  1.00e+00 1.00e+00w  1\n",
      "  28  1.1849819e+05 0.00e+00 1.00e+02  -1.1 2.76e-01    -  1.00e+00 1.82e-12f 39\n",
      "  29  1.1849819e+05 0.00e+00 1.00e+02  -1.1 1.74e+00    -  1.00e+00 1.82e-12f 40\n",
      "iter    objective    inf_pr   inf_du lg(mu)  ||d||  lg(rg) alpha_du alpha_pr  ls\n",
      "  30  1.1849819e+05 0.00e+00 1.00e+02  -1.1 1.74e+00    -  1.00e+00 3.64e-12f 39\n",
      "  31  1.1849819e+05 0.00e+00 1.00e+02  -1.1 1.74e+00    -  1.00e+00 1.14e-13f 44\n",
      "  32  1.1849819e+05 0.00e+00 1.00e+02  -1.1 1.74e+00    -  1.00e+00 1.82e-12f 40\n",
      "  33  1.1849819e+05 0.00e+00 1.00e+02  -1.1 1.74e+00    -  1.00e+00 4.55e-13f 42\n",
      "  34  1.1849819e+05 0.00e+00 1.00e+02  -1.1 1.74e+00    -  1.00e+00 4.55e-13f 42\n",
      "  35  1.1849819e+05 0.00e+00 1.00e+02  -1.1 1.74e+00    -  1.00e+00 4.55e-13f 42\n",
      "  36  1.1849819e+05 0.00e+00 1.00e+02  -1.1 1.74e+00    -  1.00e+00 9.09e-13f 41\n",
      "  37  1.1849819e+05 0.00e+00 1.00e+02  -1.1 1.74e+00    -  1.00e+00 1.82e-12f 40\n",
      "  38  1.1869392e+05 0.00e+00 7.64e+00  -1.1 1.74e+00    -  1.00e+00 1.00e+00w  1\n",
      "  39  1.1897289e+05 0.00e+00 2.35e+01  -1.1 1.64e+00    -  1.00e+00 1.00e+00w  1\n",
      "iter    objective    inf_pr   inf_du lg(mu)  ||d||  lg(rg) alpha_du alpha_pr  ls\n",
      "  40  1.1909722e+05 0.00e+00 6.16e+00  -1.1 6.84e-01    -  1.00e+00 1.00e+00w  1\n",
      "  41  1.1849819e+05 0.00e+00 1.00e+02  -1.1 2.76e-01    -  1.00e+00 2.27e-13f 42\n",
      "  42  1.1849819e+05 0.00e+00 1.00e+02  -1.1 1.74e+00    -  1.00e+00 2.27e-13f 43\n",
      "  43  1.1849819e+05 0.00e+00 1.00e+02  -1.1 1.74e+00    -  1.00e+00 7.28e-12f 38\n",
      "  44  1.1849819e+05 0.00e+00 1.00e+02  -1.1 1.74e+00    -  1.00e+00 9.09e-13f 41\n",
      "  45  1.1849819e+05 0.00e+00 1.00e+02  -1.1 1.74e+00    -  1.00e+00 1.82e-12f 40\n",
      "  46  1.1849819e+05 0.00e+00 1.00e+02  -1.1 1.74e+00    -  1.00e+00 9.09e-13f 41\n",
      "  47  1.1849819e+05 0.00e+00 1.00e+02  -1.1 1.74e+00    -  1.00e+00 1.82e-12f 40\n",
      "  48  1.1849819e+05 0.00e+00 1.00e+02  -1.1 1.74e+00    -  1.00e+00 9.09e-13f 41\n",
      "  49  1.1849819e+05 0.00e+00 1.00e+02  -1.1 1.74e+00    -  1.00e+00 4.55e-13f 42\n",
      "iter    objective    inf_pr   inf_du lg(mu)  ||d||  lg(rg) alpha_du alpha_pr  ls\n",
      "  50  1.1849819e+05 0.00e+00 1.00e+02  -1.1 1.74e+00    -  1.00e+00 1.82e-12f 40\n",
      "  51  1.1869392e+05 0.00e+00 7.64e+00  -1.1 1.74e+00    -  1.00e+00 1.00e+00w  1\n",
      "  52  1.1897289e+05 0.00e+00 2.35e+01  -1.1 1.64e+00    -  1.00e+00 1.00e+00w  1\n",
      "  53  1.1909722e+05 0.00e+00 6.16e+00  -1.1 6.84e-01    -  1.00e+00 1.00e+00w  1\n",
      "  54  1.1849819e+05 0.00e+00 1.00e+02  -1.1 2.76e-01    -  1.00e+00 1.82e-12f 39\n",
      "  55  1.1849819e+05 0.00e+00 1.00e+02  -1.1 1.74e+00    -  1.00e+00 1.82e-12f 40\n",
      "  56  1.1849819e+05 0.00e+00 1.00e+02  -1.1 1.74e+00    -  1.00e+00 4.55e-13f 42\n",
      "  57  1.1849819e+05 0.00e+00 1.00e+02  -1.1 1.74e+00    -  1.00e+00 4.55e-13f 42\n",
      "  58  1.1849819e+05 0.00e+00 1.00e+02  -1.1 1.74e+00    -  1.00e+00 9.09e-13f 41\n",
      "  59  1.1849819e+05 0.00e+00 1.00e+02  -1.1 1.74e+00    -  1.00e+00 1.82e-12f 40\n",
      "iter    objective    inf_pr   inf_du lg(mu)  ||d||  lg(rg) alpha_du alpha_pr  ls\n",
      "  60  1.1849819e+05 0.00e+00 1.00e+02  -1.1 1.74e+00    -  1.00e+00 3.64e-12f 39\n",
      "  61  1.1849819e+05 0.00e+00 1.00e+02  -1.1 1.74e+00    -  1.00e+00 1.82e-12f 40\n",
      "  62  1.1849819e+05 0.00e+00 1.00e+02  -1.1 1.74e+00    -  1.00e+00 9.09e-13f 41\n",
      "  63  1.1849819e+05 0.00e+00 1.00e+02  -1.1 1.74e+00    -  1.00e+00 4.55e-13f 42\n",
      "  64  1.1869392e+05 0.00e+00 7.64e+00  -1.1 1.74e+00    -  1.00e+00 1.00e+00w  1\n",
      "  65  1.1897289e+05 0.00e+00 2.35e+01  -1.1 1.64e+00    -  1.00e+00 1.00e+00w  1\n",
      "  66  1.1909722e+05 0.00e+00 6.16e+00  -1.1 6.84e-01    -  1.00e+00 1.00e+00w  1\n",
      "  67  1.1849819e+05 0.00e+00 1.00e+02  -1.1 2.76e-01    -  1.00e+00 9.09e-13f 40\n",
      "  68  1.1849819e+05 0.00e+00 1.00e+02  -1.1 1.74e+00    -  1.00e+00 7.28e-12f 38\n",
      "  69  1.1849819e+05 0.00e+00 1.00e+02  -1.1 1.74e+00    -  1.00e+00 1.82e-12f 40\n",
      "iter    objective    inf_pr   inf_du lg(mu)  ||d||  lg(rg) alpha_du alpha_pr  ls\n",
      "  70  1.1849819e+05 0.00e+00 1.00e+02  -1.1 1.74e+00    -  1.00e+00 9.09e-13f 41\n",
      "  71  1.1849819e+05 0.00e+00 1.00e+02  -1.1 1.74e+00    -  1.00e+00 4.55e-13f 42\n",
      "  72  1.1849819e+05 0.00e+00 1.00e+02  -1.1 1.74e+00    -  1.00e+00 9.09e-13f 41\n",
      "  73  1.1849819e+05 0.00e+00 1.00e+02  -1.1 1.74e+00    -  1.00e+00 9.09e-13f 41\n",
      "  74  1.1849819e+05 0.00e+00 1.00e+02  -1.1 1.74e+00    -  1.00e+00 9.09e-13f 41\n",
      "  75  1.1849819e+05 0.00e+00 1.00e+02  -1.1 1.74e+00    -  1.00e+00 4.55e-13f 42\n",
      "  76  1.1849819e+05 0.00e+00 1.00e+02  -1.1 1.74e+00    -  1.00e+00 7.28e-12f 38\n",
      "  77  1.1869392e+05 0.00e+00 7.64e+00  -1.1 1.74e+00    -  1.00e+00 1.00e+00w  1\n",
      "  78  1.1897289e+05 0.00e+00 2.35e+01  -1.1 1.64e+00    -  1.00e+00 1.00e+00w  1\n",
      "  79  1.1909722e+05 0.00e+00 6.16e+00  -1.1 6.84e-01    -  1.00e+00 1.00e+00w  1\n",
      "iter    objective    inf_pr   inf_du lg(mu)  ||d||  lg(rg) alpha_du alpha_pr  ls\n",
      "  80  1.1849819e+05 0.00e+00 1.00e+02  -1.1 2.76e-01    -  1.00e+00 9.09e-13f 40\n",
      "  81  1.1849819e+05 0.00e+00 1.00e+02  -1.1 1.74e+00    -  1.00e+00 7.28e-12f 38\n",
      "  82  1.1849819e+05 0.00e+00 1.00e+02  -1.1 1.74e+00    -  1.00e+00 2.27e-13f 43\n",
      "  83  1.1849819e+05 0.00e+00 1.00e+02  -1.1 1.74e+00    -  1.00e+00 4.55e-13f 42\n",
      "  84  1.1849819e+05 0.00e+00 1.00e+02  -1.1 1.74e+00    -  1.00e+00 2.27e-13f 43\n",
      "  85  1.1849819e+05 0.00e+00 1.00e+02  -1.1 1.74e+00    -  1.00e+00 3.64e-12f 39\n",
      "  86  1.1849819e+05 0.00e+00 1.00e+02  -1.1 1.74e+00    -  1.00e+00 1.46e-11f 37\n",
      "  87  1.1849819e+05 0.00e+00 1.00e+02  -1.1 1.74e+00    -  1.00e+00 7.28e-12f 38\n",
      "  88  1.1849819e+05 0.00e+00 1.00e+02  -1.1 1.74e+00    -  1.00e+00 4.55e-13f 42\n",
      "  89  1.1849819e+05 0.00e+00 1.00e+02  -1.1 1.74e+00    -  1.00e+00 9.09e-13f 41\n",
      "iter    objective    inf_pr   inf_du lg(mu)  ||d||  lg(rg) alpha_du alpha_pr  ls\n",
      "  90  1.1869392e+05 0.00e+00 7.64e+00  -1.1 1.74e+00    -  1.00e+00 1.00e+00w  1\n",
      "  91  1.1897289e+05 0.00e+00 2.35e+01  -1.1 1.64e+00    -  1.00e+00 1.00e+00w  1\n",
      "  92  1.1909722e+05 0.00e+00 6.16e+00  -1.1 6.84e-01    -  1.00e+00 1.00e+00w  1\n",
      "  93  1.1849819e+05 0.00e+00 1.00e+02  -1.1 2.76e-01    -  1.00e+00 7.28e-12f 37\n",
      "  94  1.1849819e+05 0.00e+00 1.00e+02  -1.1 1.74e+00    -  1.00e+00 9.09e-13f 41\n",
      "  95  1.1849819e+05 0.00e+00 1.00e+02  -1.1 1.74e+00    -  1.00e+00 2.27e-13f 43\n",
      "  96  1.1849819e+05 0.00e+00 1.00e+02  -1.1 1.74e+00    -  1.00e+00 4.55e-13f 42\n",
      "  97  1.1849819e+05 0.00e+00 1.00e+02  -1.1 1.74e+00    -  1.00e+00 4.55e-13f 42\n",
      "  98  1.1849819e+05 0.00e+00 1.00e+02  -1.1 1.74e+00    -  1.00e+00 3.64e-12f 39\n",
      "  99  1.1849819e+05 0.00e+00 1.00e+02  -1.1 1.74e+00    -  1.00e+00 1.82e-12f 40\n",
      "iter    objective    inf_pr   inf_du lg(mu)  ||d||  lg(rg) alpha_du alpha_pr  ls\n",
      " 100  1.1849819e+05 0.00e+00 1.00e+02  -1.1 1.74e+00    -  1.00e+00 4.55e-13f 42\n",
      "\n",
      "Number of Iterations....: 100\n",
      "\n",
      "                                   (scaled)                 (unscaled)\n",
      "Objective...............:   5.5854085970343785e+03    1.1849819010251868e+05\n",
      "Dual infeasibility......:   9.9999999985836268e+01    2.1215670801354186e+03\n",
      "Constraint violation....:   0.0000000000000000e+00    0.0000000000000000e+00\n",
      "Complementarity.........:   8.2276265259017461e-02    1.7455461587474430e+00\n",
      "Overall NLP error.......:   9.9999999985836268e+01    2.1215670801354186e+03\n",
      "\n",
      "\n",
      "Number of objective function evaluations             = 3546\n",
      "Number of objective gradient evaluations             = 101\n",
      "Number of equality constraint evaluations            = 0\n",
      "Number of inequality constraint evaluations          = 0\n",
      "Number of equality constraint Jacobian evaluations   = 0\n",
      "Number of inequality constraint Jacobian evaluations = 0\n",
      "Number of Lagrangian Hessian evaluations             = 100\n",
      "Total CPU secs in IPOPT (w/o function evaluations)   =      1.017\n",
      "Total CPU secs in NLP function evaluations           =    339.649\n",
      "\n",
      "EXIT: Maximum Number of Iterations Exceeded.\n",
      "310.142547 seconds (1.17 G allocations: 82.659 GiB, 9.27% gc time, 0.02% compilation time)"
     ]
    },
    {
     "name": "stderr",
     "output_type": "stream",
     "text": [
      "┌ Warning: Optimization unsuccesful; got UserLimit\n",
      "└ @ GLMCopula /Users/biona001/.julia/dev/GLMCopula/src/parameter_estimation/fit_nb.jl:30\n"
     ]
    },
    {
     "name": "stdout",
     "output_type": "stream",
     "text": [
      "\n"
     ]
    },
    {
     "data": {
      "text/plain": [
       "-118498.19010251868"
      ]
     },
     "execution_count": 8,
     "metadata": {},
     "output_type": "execute_result"
    }
   ],
   "source": [
    "@time GLMCopula.fit!(gcm, IpoptSolver(print_level = 5, max_iter = 100, \n",
    "    tol = 10^-6, mu_strategy = \"adaptive\", mu_oracle = \"loqo\",\n",
    "    hessian_approximation = \"exact\"))"
   ]
  },
  {
   "cell_type": "code",
   "execution_count": 9,
   "metadata": {
    "collapsed": false
   },
   "outputs": [
    {
     "name": "stdout",
     "output_type": "stream",
     "text": [
      "estimated β = 1.431700604659203; true β = 1.4552872326068422\n",
      "estimated variance component 1 = 0.14165778449786529; true variance component 1 = 0.1\n",
      "estimated variance component 2 = 0.5807584133259613; true variance component 2 = 0.5\n",
      "estimated r = 5.676937046097018; true r = 10\n"
     ]
    }
   ],
   "source": [
    "println(\"estimated β = $(gcm.β[1]); true β = $β_true\")\n",
    "println(\"estimated variance component 1 = $(gcm.Σ[1]); true variance component 1 = $variance_component_1\")\n",
    "println(\"estimated variance component 2 = $(gcm.Σ[2]); true variance component 2 = $variance_component_2\")\n",
    "println(\"estimated r = $(gcm.r[1]); true r = $r\");"
   ]
  },
  {
   "cell_type": "code",
   "execution_count": 10,
   "metadata": {
    "collapsed": false
   },
   "outputs": [
    {
     "data": {
      "text/plain": [
       "4-element Vector{Float64}:\n",
       " 2121.5670801354186\n",
       "  -71.10375733934279\n",
       "   12.900327891814868\n",
       "  443.90634061495734"
      ]
     },
     "execution_count": 10,
     "metadata": {},
     "output_type": "execute_result"
    }
   ],
   "source": [
    "gcm.∇θ"
   ]
  },
  {
   "cell_type": "code",
   "execution_count": null,
   "metadata": {
    "collapsed": true
   },
   "outputs": [],
   "source": []
  }
 ],
 "metadata": {
  "@webio": {
   "lastCommId": null,
   "lastKernelId": null
  },
  "kernelspec": {
   "display_name": "Julia 1.6.0",
   "language": "julia",
   "name": "julia-1.6"
  },
  "language_info": {
   "file_extension": ".jl",
   "mimetype": "application/julia",
   "name": "julia",
   "version": "1.6.0"
  },
  "toc": {
   "base_numbering": 1,
   "nav_menu": {},
   "number_sections": true,
   "sideBar": true,
   "skip_h1_title": false,
   "title_cell": "Table of Contents",
   "title_sidebar": "Contents",
   "toc_cell": false,
   "toc_position": {},
   "toc_section_display": true,
   "toc_window_display": false
  }
 },
 "nbformat": 4,
 "nbformat_minor": 2
}
