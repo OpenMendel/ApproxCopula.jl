{
 "cells": [
  {
   "cell_type": "markdown",
   "metadata": {},
   "source": [
    "# Form the NB Regression Random Intercept Model: Simulated set\n",
    "\n",
    "Next we may try joint estimation using Newton's + IPOPT. \n",
    "\n",
    "    I create new structures `NBCopulaVCObs`, `NBCopulaVCModel`\n",
    "    \n",
    "\n"
   ]
  },
  {
   "cell_type": "code",
   "execution_count": 81,
   "metadata": {
    "collapsed": false
   },
   "outputs": [
    {
     "data": {
      "text/plain": [
       "10000-element Vector{Vector{Float64}}:\n",
       " [35.0, 32.0, 49.0, 37.0, 53.0]\n",
       " [55.0, 40.0, 39.0, 45.0, 35.0]\n",
       " [34.0, 42.0, 43.0, 60.0, 34.0]\n",
       " [41.0, 39.0, 34.0, 43.0, 55.0]\n",
       " [25.0, 60.0, 26.0, 32.0, 53.0]\n",
       " [42.0, 41.0, 46.0, 44.0, 47.0]\n",
       " [58.0, 47.0, 45.0, 42.0, 43.0]\n",
       " [48.0, 52.0, 39.0, 37.0, 56.0]\n",
       " [43.0, 33.0, 38.0, 39.0, 38.0]\n",
       " [44.0, 44.0, 39.0, 37.0, 36.0]\n",
       " [34.0, 36.0, 45.0, 35.0, 39.0]\n",
       " [39.0, 50.0, 51.0, 32.0, 42.0]\n",
       " [34.0, 47.0, 36.0, 50.0, 37.0]\n",
       " ⋮\n",
       " [49.0, 46.0, 53.0, 42.0, 34.0]\n",
       " [54.0, 46.0, 48.0, 36.0, 49.0]\n",
       " [49.0, 54.0, 38.0, 45.0, 32.0]\n",
       " [36.0, 47.0, 53.0, 54.0, 45.0]\n",
       " [34.0, 39.0, 42.0, 41.0, 59.0]\n",
       " [35.0, 38.0, 37.0, 49.0, 48.0]\n",
       " [35.0, 46.0, 53.0, 29.0, 34.0]\n",
       " [30.0, 56.0, 48.0, 46.0, 40.0]\n",
       " [40.0, 47.0, 35.0, 38.0, 48.0]\n",
       " [45.0, 37.0, 37.0, 28.0, 40.0]\n",
       " [29.0, 35.0, 53.0, 44.0, 46.0]\n",
       " [47.0, 48.0, 54.0, 38.0, 47.0]"
      ]
     },
     "execution_count": 81,
     "metadata": {},
     "output_type": "execute_result"
    }
   ],
   "source": [
    "using Revise\n",
    "using DataFrames, Random, GLM, GLMCopula\n",
    "using ForwardDiff, Test, LinearAlgebra\n",
    "using LinearAlgebra: BlasReal, copytri!\n",
    "\n",
    "Random.seed!(1234)\n",
    "\n",
    "# sample size\n",
    "N = 10000\n",
    "# observations per subject\n",
    "n = 5\n",
    "\n",
    "variance_component_1 = 0.1\n",
    "variance_component_2 = 0.5\n",
    "\n",
    "r = 100\n",
    "p = 0.7\n",
    "μ = r * (1-p) * inv(p)\n",
    "\n",
    "# var = r * (1-p) * inv(p^2)\n",
    "\n",
    "# true beta\n",
    "β_true = log(μ)\n",
    "\n",
    "dist = NegativeBinomial\n",
    "\n",
    "Γ = variance_component_1 * ones(n, n) + variance_component_2 * Matrix(I, n, n)\n",
    "vecd = [dist(r, p) for i in 1:n]\n",
    "nonmixed_multivariate_dist = NonMixedMultivariateDistribution(vecd, Γ)\n",
    "\n",
    "Y_Nsample = simulate_nobs_independent_vectors(nonmixed_multivariate_dist, N)"
   ]
  },
  {
   "cell_type": "code",
   "execution_count": 82,
   "metadata": {
    "collapsed": false
   },
   "outputs": [],
   "source": [
    "d = NegativeBinomial()\n",
    "link = LogLink()\n",
    "D = typeof(d)\n",
    "Link = typeof(link)\n",
    "T = Float64\n",
    "gcs = Vector{NBCopulaVCObs{T, D, Link}}(undef, N)\n",
    "for i in 1:N\n",
    "    y = Float64.(Y_Nsample[i])\n",
    "    X = ones(n, 1)\n",
    "    V = [ones(n, n), Matrix(I, n, n)]\n",
    "    gcs[i] = NBCopulaVCObs(y, X, V, d, link)\n",
    "end\n",
    "gcm = NBCopulaVCModel(gcs);\n",
    "# gcm.r[1] = r"
   ]
  },
  {
   "cell_type": "code",
   "execution_count": 83,
   "metadata": {
    "collapsed": false,
    "scrolled": true
   },
   "outputs": [
    {
     "name": "stdout",
     "output_type": "stream",
     "text": [
      "Initializing NegBin r to Poisson regression values\n",
      "initializing β using Newton's Algorithm under Independence Assumption\n",
      "1 0.0 -183965.880323221 39999\n",
      "2 -183965.880323221 -183965.880323221 39999\n",
      "initializing variance components using MM-Algorithm\n",
      "gcm.Σ = [225.63027521074963, 1857.7441889422705]\n",
      "hiiii gcmPoisson.Σ = [225.63027521074963, 1857.7441889422705]\n",
      "gcm.θ = [-5.404042280046205, 224.7201241053222, 1864.4405333056088]\n",
      "gcm.θ = [3.76335082451623, 225.63027521074963, 1857.7441889422705]\n",
      "gcm.θ = [3.76335082451623, 225.63027521074963, 1857.7441889422705]\n",
      "This is Ipopt version 3.12.10, running with linear solver mumps.\n",
      "NOTE: Other linear solvers might be more efficient (see Ipopt documentation).\n",
      "\n",
      "Starting derivative checker for first derivatives.\n",
      "\n",
      "* grad_f[          2] = -1.1624128938060323e+01    ~ -1.1610857440697405e+01  [ 1.143e-03]\n",
      "* grad_f[          3] =  1.4000239622658115e+00    ~  1.3984520467760686e+00  [ 1.124e-03]\n",
      "\n",
      "Derivative checker detected 2 error(s).\n",
      "\n",
      "Number of nonzeros in equality constraint Jacobian...:        0\n",
      "Number of nonzeros in inequality constraint Jacobian.:        0\n",
      "Number of nonzeros in Lagrangian Hessian.............:        4\n",
      "\n",
      "Total number of variables............................:        3\n",
      "                     variables with only lower bounds:        2\n",
      "                variables with lower and upper bounds:        0\n",
      "                     variables with only upper bounds:        0\n",
      "Total number of equality constraints.................:        0\n",
      "Total number of inequality constraints...............:        0\n",
      "        inequality constraints with only lower bounds:        0\n",
      "   inequality constraints with lower and upper bounds:        0\n",
      "        inequality constraints with only upper bounds:        0\n",
      "\n",
      "iter    objective    inf_pr   inf_du lg(mu)  ||d||  lg(rg) alpha_du alpha_pr  ls\n",
      "   0  1.8011591e+05 0.00e+00 1.00e+02   0.0 0.00e+00    -  0.00e+00 0.00e+00   0\n",
      "gcm.θ = [3.7603552706598338, 226.52041430898666, 1865.0749731910892]\n",
      "   1  1.8010870e+05 0.00e+00 4.39e-01 -11.0 7.33e+00    -  9.88e-01 1.00e+00f  1\n",
      "gcm.θ = [3.7603421012120037, 280.61776224622, 2324.575835898628]\n",
      "   2  1.8010865e+05 0.00e+00 2.19e-02 -11.0 4.60e+02    -  9.04e-01 1.00e+00f  1\n",
      "gcm.θ = [3.7603414444698418, 422.3510997382497, 3503.4162748585004]\n",
      "   3  1.8010860e+05 0.00e+00 3.89e-03 -11.0 1.18e+03    -  1.00e+00 1.00e+00f  1\n",
      "gcm.θ = [3.7603413277006656, 634.2735055059853, 5266.173255721265]\n",
      "   4  1.8010856e+05 0.00e+00 2.62e-03 -11.0 1.76e+03    -  1.00e+00 1.00e+00f  1\n",
      "gcm.θ = [3.7603412489810597, 951.7328751349332, 7906.8370745686525]\n",
      "   5  1.8010854e+05 0.00e+00 1.77e-03 -11.0 2.64e+03    -  1.00e+00 1.00e+00f  1\n",
      "gcm.θ = [3.760341195962076, 1427.6200502560398, 11865.347682841068]\n",
      "   6  1.8010852e+05 0.00e+00 1.18e-03 -11.0 3.96e+03    -  1.00e+00 1.00e+00f  1\n",
      "gcm.θ = [3.7603411604519374, 2141.220295524184, 17801.20784220661]\n",
      "   7  1.8010851e+05 0.00e+00 7.90e-04 -11.0 5.94e+03    -  1.00e+00 1.00e+00f  1\n",
      "gcm.θ = [3.7603411367287616, 3211.4372518048312, 26703.477539840973]\n",
      "   8  1.8010851e+05 0.00e+00 5.27e-04 -11.0 8.90e+03    -  1.00e+00 1.00e+00f  1\n",
      "gcm.θ = [3.7603411208986097, 4816.613228752911, 40055.64093928027]\n",
      "   9  1.8010850e+05 0.00e+00 3.52e-04 -11.0 1.34e+04    -  1.00e+00 1.00e+00f  1\n",
      "gcm.θ = [3.7603411103410096, 7224.25362319263, 60082.85889228276]\n",
      "iter    objective    inf_pr   inf_du lg(mu)  ||d||  lg(rg) alpha_du alpha_pr  ls\n",
      "  10  1.8010850e+05 0.00e+00 2.35e-04 -11.0 2.00e+04    -  1.00e+00 1.00e+00f  1\n",
      "gcm.θ = [3.7603411033014638, 10835.611309447204, 90122.8300611272]\n",
      "  11  1.8010850e+05 0.00e+00 1.56e-04 -11.0 3.00e+04    -  1.00e+00 1.00e+00f  1\n",
      "gcm.θ = [3.760341098608085, 16252.561886165362, 135182.07192814624]\n",
      "  12  1.8010850e+05 0.00e+00 1.04e-04 -11.0 4.51e+04    -  1.00e+00 1.00e+00f  1\n",
      "gcm.θ = [3.7603410954790077, 24377.91663755185, 202770.34329165897]\n",
      "  13  1.8010850e+05 0.00e+00 6.95e-05 -11.0 6.76e+04    -  1.00e+00 1.00e+00f  1\n",
      "gcm.θ = [3.760341093392842, 36565.888146311496, 304152.2462773336]\n",
      "  14  1.8010850e+05 0.00e+00 4.63e-05 -11.0 1.01e+05    -  1.00e+00 1.00e+00f  1\n",
      "gcm.θ = [3.760341092001969, 54847.79120793102, 456224.6501565323]\n",
      "  15  1.8010849e+05 0.00e+00 3.09e-05 -11.0 1.52e+05    -  1.00e+00 1.00e+00f  1\n",
      "gcm.θ = [3.7603410910746424, 82270.57418430313, 684332.660599508]\n",
      "  16  1.8010849e+05 0.00e+00 2.06e-05 -11.0 2.28e+05    -  1.00e+00 1.00e+00f  1\n",
      "gcm.θ = [3.7603410904563637, 123404.57276164475, 1.0264932136150753e6]\n",
      "  17  1.8010849e+05 0.00e+00 1.37e-05 -11.0 3.42e+05    -  1.00e+00 1.00e+00f  1\n",
      "gcm.θ = [3.7603410900441316, 185104.99288237747, 1.5397292378305877e6]\n",
      "  18  1.8010849e+05 0.00e+00 9.16e-06 -11.0 5.13e+05    -  1.00e+00 1.00e+00f  1\n",
      "gcm.θ = [3.7603410897692755, 277653.7442338056, 2.309567646255122e6]\n",
      "  19  1.8010849e+05 0.00e+00 6.11e-06 -11.0 7.70e+05    -  1.00e+00 1.00e+00f  1\n",
      "gcm.θ = [3.7603410895860128, 416470.03540568915, 3.464268397667893e6]\n",
      "iter    objective    inf_pr   inf_du lg(mu)  ||d||  lg(rg) alpha_du alpha_pr  ls\n",
      "  20  1.8010849e+05 0.00e+00 4.07e-06 -11.0 1.15e+06    -  1.00e+00 1.00e+00f  1\n",
      "gcm.θ = [3.7603410894638167, 624670.2660338731, 5.196118174599415e6]\n",
      "  21  1.8010849e+05 0.00e+00 2.72e-06 -11.0 1.73e+06    -  1.00e+00 1.00e+00f  1\n",
      "gcm.θ = [3.760341089382334, 936886.5728195914, 7.793193787840253e6]\n",
      "  22  1.8010849e+05 0.00e+00 1.81e-06 -11.0 2.60e+06    -  1.00e+00 1.00e+00f  1\n",
      "gcm.θ = [3.7603410893279925, 1.4049287565171423e6, 1.1686459180609975e7]\n",
      "  23  1.8010849e+05 0.00e+00 1.21e-06 -11.0 3.89e+06    -  1.00e+00 1.00e+00f  1\n",
      "gcm.θ = [3.760341089291743, 2.1060184994319463e6, 1.751825924398475e7]\n",
      "  24  1.8010849e+05 0.00e+00 8.06e-07 -11.0 5.83e+06    -  1.00e+00 1.00e+00f  1\n",
      "gcm.θ = [3.7603410892675457, 3.1543647967723254e6, 2.623860649669729e7]\n",
      "  25  1.8010849e+05 0.00e+00 5.39e-07 -11.0 8.72e+06    -  1.00e+00 1.00e+00f  1\n",
      "gcm.θ = [3.760341089251372, 4.715793412764182e6, 3.9226871738764025e7]\n",
      "  26  1.8010849e+05 0.00e+00 3.61e-07 -11.0 1.30e+07    -  1.00e+00 1.00e+00f  1\n",
      "gcm.θ = [3.7603410892405282, 7.0208880564882755e6, 5.840109491081165e7]\n",
      "  27  1.8010849e+05 0.00e+00 2.44e-07 -11.0 1.92e+07    -  1.00e+00 1.00e+00f  1\n",
      "gcm.θ = [3.76034108923321, 1.0356859312161686e7, 8.615034931703496e7]\n",
      "  28  1.8010849e+05 0.00e+00 1.67e-07 -11.0 2.77e+07    -  1.00e+00 1.00e+00f  1\n",
      "gcm.θ = [3.7603410892282048, 1.4974070841110509e7, 1.2455720854373145e8]\n",
      "  29  1.8010849e+05 0.00e+00 1.17e-07 -11.0 3.84e+07    -  1.00e+00 1.00e+00f  1\n",
      "gcm.θ = [3.7603410892246947, 2.07636021121157e7, 1.7271565087634888e8]\n",
      "iter    objective    inf_pr   inf_du lg(mu)  ||d||  lg(rg) alpha_du alpha_pr  ls\n",
      "  30  1.8010849e+05 0.00e+00 8.47e-08 -11.0 4.82e+07    -  1.00e+00 1.00e+00f  1\n",
      "gcm.θ = [3.7603410892221523, 2.661602491917587e7, 2.2139723801795414e8]\n",
      "  31  1.8010849e+05 0.00e+00 6.13e-08 -11.0 4.87e+07    -  1.00e+00 1.00e+00f  1\n",
      "gcm.θ = [3.7603410892203115, 3.038326515764557e7, 2.527338731677565e8]\n",
      "  32  1.8010849e+05 0.00e+00 3.72e-08 -11.0 3.13e+07    -  1.00e+00 1.00e+00f  1\n",
      "gcm.θ = [3.7603410892191964, 3.1387499406693645e7, 2.610872887194282e8]\n",
      "  33  1.8010849e+05 0.00e+00 1.18e-08 -11.0 8.35e+06    -  1.00e+00 1.00e+00f  1\n",
      "gcm.θ = [3.760341089218844, 3.1441039755805574e7, 2.6153264775894862e8]\n",
      "  34  1.8010849e+05 0.00e+00 8.49e-10 -11.0 4.45e+05    -  1.00e+00 1.00e+00f  1\n",
      "\n",
      "Number of Iterations....: 34\n",
      "\n",
      "                                   (scaled)                 (unscaled)\n",
      "Objective...............:   3.7531243077678582e+03    1.8010849404406172e+05\n",
      "Dual infeasibility......:   8.4948286850814990e-10    4.0765790743080288e-08\n",
      "Constraint violation....:   0.0000000000000000e+00    0.0000000000000000e+00\n",
      "Complementarity.........:   3.5107023476730433e-11    1.6847491876771961e-09\n",
      "Overall NLP error.......:   8.4948286850814990e-10    4.0765790743080288e-08\n",
      "\n",
      "\n",
      "Number of objective function evaluations             = 35\n",
      "Number of objective gradient evaluations             = 35\n",
      "Number of equality constraint evaluations            = 0\n",
      "Number of inequality constraint evaluations          = 0\n",
      "Number of equality constraint Jacobian evaluations   = 0\n",
      "Number of inequality constraint Jacobian evaluations = 0\n",
      "Number of Lagrangian Hessian evaluations             = 34\n",
      "Total CPU secs in IPOPT (w/o function evaluations)   =      0.627\n",
      "Total CPU secs in NLP function evaluations           =     11.875\n",
      "\n",
      "EXIT: Optimal Solution Found.\n",
      "byeee gcmPoisson.Σ = [3.1441039755805574e7, 2.6153264775894862e8]\n",
      "byeee gcmPoisson.τ = [1.0]\n",
      "byeee gcmPoisson.β = [3.760341089218844]\n",
      "byeee gcmPoisson.θ = [3.760341089218844, 3.1441039755805574e7, 2.6153264775894862e8]\n",
      "new_r = 1.8956235827184136\n",
      "new_r = 3.5748709073959075\n",
      "new_r = 6.5841697386027125\n",
      "new_r = 11.597636406876504\n",
      "new_r = 19.25905462794831\n",
      "new_r = 30.036319655702425\n",
      "new_r = 44.128871284134185\n",
      "new_r = 61.27367265032761\n",
      "new_r = 80.28210375604223\n",
      "new_r = 98.3392762969114\n",
      "new_r = 110.96267891345529\n",
      "new_r = 115.47737974123137\n",
      "new_r = 115.80092606211552\n",
      "new_r = 115.79143854885712\n",
      "new_r = 115.79178327330963\n",
      "new_r = 115.7917708188505\n",
      "new_r = 115.79177126877832\n",
      "initializing variance components using MM-Algorithm\n",
      "r initialized to be 115.79177126877832\n",
      "huehuehue gcm.Σ = [0.13673198034511339, 0.7284224240572088]\n",
      "gcm.β = [3.760341089218844]\n",
      "gcm.r = [115.79177126877832]\n"
     ]
    },
    {
     "data": {
      "text/plain": [
       "1-element Vector{Float64}:\n",
       " 115.79177126877832"
      ]
     },
     "execution_count": 83,
     "metadata": {},
     "output_type": "execute_result"
    }
   ],
   "source": [
    "initialize_model!(gcm)\n",
    "@show gcm.β\n",
    "# @show gcm.Σ\n",
    "@show gcm.r"
   ]
  },
  {
   "cell_type": "code",
   "execution_count": 84,
   "metadata": {
    "collapsed": false
   },
   "outputs": [
    {
     "data": {
      "text/plain": [
       "3.757872325600888"
      ]
     },
     "execution_count": 84,
     "metadata": {},
     "output_type": "execute_result"
    }
   ],
   "source": [
    "β_true"
   ]
  },
  {
   "cell_type": "markdown",
   "metadata": {},
   "source": [
    "Initialize β and σ2, here I just copy the solution for β and σ2 from MixedModels.jl over"
   ]
  },
  {
   "cell_type": "code",
   "execution_count": 85,
   "metadata": {
    "collapsed": false
   },
   "outputs": [
    {
     "data": {
      "text/plain": [
       "-178887.0205092799"
      ]
     },
     "execution_count": 85,
     "metadata": {},
     "output_type": "execute_result"
    }
   ],
   "source": [
    "GLMCopula.loglikelihood!(gcm, true, true)"
   ]
  },
  {
   "cell_type": "markdown",
   "metadata": {},
   "source": [
    "## Try Quasi-Newton after specifying gradient of r\n",
    "\n",
    "to-do: \n",
    "\n",
    "1. added field $r$ to model structure $gcm.r$, change access to r this way instead of through the distribution\n",
    "2. add $gc.\\nabla r$ in loglikelihood function\n",
    "\n",
    "\n",
    "## Newton after specifying the hessian term too\n",
    "\n",
    "3. add $gc.Hr$ in loglikelihood function"
   ]
  },
  {
   "cell_type": "code",
   "execution_count": 86,
   "metadata": {
    "collapsed": false,
    "scrolled": true
   },
   "outputs": [
    {
     "name": "stdout",
     "output_type": "stream",
     "text": [
      "This is Ipopt version 3.12.10, running with linear solver mumps.\n",
      "NOTE: Other linear solvers might be more efficient (see Ipopt documentation).\n",
      "\n",
      "Number of nonzeros in equality constraint Jacobian...:        0\n",
      "Number of nonzeros in inequality constraint Jacobian.:        0\n",
      "Number of nonzeros in Lagrangian Hessian.............:        0\n",
      "\n",
      "Total number of variables............................:        4\n",
      "                     variables with only lower bounds:        3\n",
      "                variables with lower and upper bounds:        0\n",
      "                     variables with only upper bounds:        0\n",
      "Total number of equality constraints.................:        0\n",
      "Total number of inequality constraints...............:        0\n",
      "        inequality constraints with only lower bounds:        0\n",
      "   inequality constraints with lower and upper bounds:        0\n",
      "        inequality constraints with only upper bounds:        0\n",
      "\n",
      "iter    objective    inf_pr   inf_du lg(mu)  ||d||  lg(rg) alpha_du alpha_pr  ls\n",
      "   0  1.7888702e+05 0.00e+00 1.00e+02   0.0 0.00e+00    -  0.00e+00 0.00e+00   0\n",
      "Warning: Cutting back alpha due to evaluation error\n",
      "Warning: Cutting back alpha due to evaluation error\n",
      "   1  1.7888414e+05 0.00e+00 2.91e+01  -0.3 1.00e+02    -  9.95e-01 3.05e-05f 16\n",
      "   2  1.7888388e+05 0.00e+00 2.83e-01  -1.9 6.87e-04    -  1.00e+00 1.00e+00f  1\n",
      "   3  1.7888388e+05 0.00e+00 1.83e-01  -3.7 4.34e-06    -  1.00e+00 1.00e+00f  1\n",
      "   4  1.7888385e+05 0.00e+00 1.04e+00  -5.3 3.26e-03    -  1.00e+00 1.00e+00f  1\n",
      "   5  1.7888380e+05 0.00e+00 2.91e+00  -7.0 7.39e-03    -  1.00e+00 1.00e+00f  1\n",
      "   6  1.7888372e+05 0.00e+00 2.81e+00  -8.8 6.08e-03    -  1.00e+00 1.00e+00f  1\n",
      "   7  1.7888370e+05 0.00e+00 3.19e-01 -10.7 1.12e-03    -  1.00e+00 1.00e+00f  1\n",
      "   8  1.7888367e+05 0.00e+00 1.55e-01 -11.0 1.33e-03    -  1.00e+00 1.00e+00f  1\n",
      "   9  1.7888308e+05 0.00e+00 6.78e+01 -11.0 1.15e+00    -  1.00e+00 2.50e-01f  3\n",
      "iter    objective    inf_pr   inf_du lg(mu)  ||d||  lg(rg) alpha_du alpha_pr  ls\n",
      "  10  1.7888221e+05 0.00e+00 3.70e+01 -11.0 2.59e-01    -  1.00e+00 5.00e-01f  2\n",
      "  11  1.7888221e+05 0.00e+00 3.70e+01 -10.7 1.09e+00    -  1.00e+00 4.33e-11f 35\n",
      "  12  1.7886427e+05 0.00e+00 2.29e+01 -10.9 1.09e+00    -  1.00e+00 1.00e+00f  1\n",
      "  13  1.7875017e+05 0.00e+00 1.11e+02 -11.0 6.67e+00    -  1.00e+00 1.00e+00f  1\n",
      "  14  1.7863585e+05 0.00e+00 1.33e+01 -11.0 4.17e+01    -  1.00e+00 2.18e-01f  2\n",
      "  15  1.7859842e+05 0.00e+00 1.10e+02  -8.8 8.39e+04    -  3.27e-04 7.30e-05f  1\n",
      "  16  1.7859801e+05 0.00e+00 1.07e+02 -10.1 1.21e+01    -  1.00e+00 2.50e-01f  3\n",
      "  17  1.7859801e+05 0.00e+00 1.07e+02  -8.6 2.22e+03    -  1.00e+00 4.10e-14f 39\n",
      "  18  1.7859801e+05 0.00e+00 1.07e+02  -8.6 3.33e+04    -  2.63e-03 1.26e-17f 47\n",
      "  19  1.7859386e+05 0.00e+00 4.66e+01  -8.6 8.22e-01    -  1.34e-01 3.91e-03f  9\n",
      "iter    objective    inf_pr   inf_du lg(mu)  ||d||  lg(rg) alpha_du alpha_pr  ls\n",
      "  20  1.7855268e+05 0.00e+00 1.58e+01 -11.0 2.29e-01    -  1.00e+00 1.00e+00f  1\n",
      "  21  1.7855263e+05 0.00e+00 1.64e+01 -10.2 8.51e+00    -  1.00e+00 2.13e-02f  6\n",
      "  22  1.7854927e+05 0.00e+00 5.44e+00 -10.3 5.91e-01    -  1.00e+00 1.00e+00f  1\n",
      "  23  1.7854927e+05 0.00e+00 5.44e+00 -11.0 5.23e-01    -  1.00e+00 1.16e-10f 34\n",
      "  24  1.7854927e+05 0.00e+00 5.44e+00 -11.0 1.44e+00    -  1.00e+00 5.82e-11f 35\n",
      "  25  1.7854927e+05 0.00e+00 5.44e+00 -11.0 7.59e+00    -  1.00e+00 2.27e-13f 43\n",
      "  26  1.7854927e+05 0.00e+00 5.44e+00 -11.0 7.59e+00    -  1.00e+00 1.82e-12f 40\n",
      "  27  1.7854927e+05 0.00e+00 5.44e+00 -11.0 7.59e+00    -  1.00e+00 4.55e-13f 42\n",
      "  28  1.7854927e+05 0.00e+00 5.44e+00 -11.0 5.44e+00    -  2.05e-02 7.11e-15f 48\n",
      "  29  1.7854925e+05 0.00e+00 5.91e+00 -11.0 8.59e-04    -  1.00e+00 1.00e+00f  1\n",
      "iter    objective    inf_pr   inf_du lg(mu)  ||d||  lg(rg) alpha_du alpha_pr  ls\n",
      "  30  1.7854884e+05 0.00e+00 1.42e+01 -11.0 4.25e-03    -  1.00e+00 1.00e+00f  1\n",
      "  31  1.7854754e+05 0.00e+00 8.68e+00 -11.0 1.80e-02    -  1.00e+00 1.00e+00f  1\n",
      "  32  1.7854752e+05 0.00e+00 2.07e+00 -11.0 4.39e-03    -  1.00e+00 1.00e+00f  1\n",
      "  33  1.7854732e+05 0.00e+00 1.14e+01 -11.0 1.66e-02    -  1.00e+00 1.00e+00f  1\n",
      "  34  1.7854690e+05 0.00e+00 1.85e+00 -11.0 4.34e-02    -  1.00e+00 1.00e+00f  1\n",
      "  35  1.7854690e+05 0.00e+00 1.85e+00 -11.0 1.70e-02    -  1.00e+00 2.33e-10f 33\n",
      "  36  1.7854690e+05 0.00e+00 1.85e+00 -11.0 9.90e-02    -  1.00e+00 1.16e-10f 34\n",
      "  37  1.7854690e+05 0.00e+00 1.85e+00 -11.0 1.02e-01    -  1.00e+00 2.91e-11f 36\n",
      "  38  1.7854687e+05 0.00e+00 1.12e+01 -11.0 7.35e-01    -  2.31e-01 7.80e-03f  8\n",
      "  39  1.7854687e+05 0.00e+00 1.12e+01 -11.0 1.30e-01    -  1.00e+00 4.66e-10f 32\n",
      "iter    objective    inf_pr   inf_du lg(mu)  ||d||  lg(rg) alpha_du alpha_pr  ls\n",
      "  40  1.7854687e+05 0.00e+00 1.12e+01 -11.0 2.24e+00    -  1.00e+00 7.28e-12f 38\n",
      "  41  1.7854687e+05 0.00e+00 1.12e+01 -11.0 2.35e+02    -  1.04e-01 1.14e-13f 44\n",
      "  42  1.7854687e+05 0.00e+00 1.12e+01 -11.0 2.35e+02    -  4.80e-01 2.78e-17f 56\n",
      "  43  1.7854687e+05 0.00e+00 1.12e+01 -11.0 2.35e+02    -  1.20e-01 2.78e-17f 56\n",
      "  44  1.7854687e+05 0.00e+00 1.12e+01 -11.0 1.12e+01    -  1.00e+00 4.96e-14f 43\n",
      "  45  1.7854695e+05 0.00e+00 6.72e-01 -11.0 2.67e-04    -  1.00e+00 1.00e+00w  1\n",
      "  46  1.7854695e+05 0.00e+00 6.68e-01 -11.0 1.65e-05    -  1.00e+00 1.00e+00w  1\n",
      "  47  1.7854695e+05 0.00e+00 1.40e+00 -11.0 3.13e-03    -  1.00e+00 1.00e+00w  1\n",
      "  48  1.7854687e+05 0.00e+00 1.12e+01 -11.0 1.09e-03    -  1.00e+00 9.31e-10f 30\n",
      "  49  1.7854687e+05 0.00e+00 1.05e+01 -11.0 3.57e-03    -  1.00e+00 6.25e-02f  5\n",
      "iter    objective    inf_pr   inf_du lg(mu)  ||d||  lg(rg) alpha_du alpha_pr  ls\n",
      "  50  1.7854687e+05 0.00e+00 1.05e+01 -11.0 3.41e-03    -  1.00e+00 2.98e-08f 26\n",
      "  51  1.7854687e+05 0.00e+00 1.05e+01 -11.0 3.42e-03    -  1.00e+00 2.98e-08f 26\n",
      "  52  1.7854687e+05 0.00e+00 1.05e+01 -11.0 3.54e-03    -  1.00e+00 1.49e-08f 27\n",
      "  53  1.7854685e+05 0.00e+00 1.58e+01 -11.0 9.73e-02    -  1.00e+00 3.12e-02f  6\n",
      "  54  1.7854685e+05 0.00e+00 1.58e+01 -11.0 3.91e-03    -  1.00e+00 1.49e-08f 27\n",
      "  55  1.7854685e+05 0.00e+00 1.58e+01 -11.0 4.29e-03    -  1.00e+00 1.16e-10f 34\n",
      "  56  1.7854685e+05 0.00e+00 1.58e+01 -11.0 1.04e-02    -  1.00e+00 4.66e-10f 32\n",
      "  57  1.7854685e+05 0.00e+00 1.58e+01 -11.0 3.62e-02    -  1.00e+00 4.66e-10f 32\n",
      "  58  1.7855307e+05 0.00e+00 1.16e+02 -11.0 5.02e-02    -  1.00e+00 1.00e+00w  1\n",
      "  59  1.7854758e+05 0.00e+00 2.38e+00 -11.0 7.72e-02    -  1.00e+00 1.00e+00w  1\n",
      "iter    objective    inf_pr   inf_du lg(mu)  ||d||  lg(rg) alpha_du alpha_pr  ls\n",
      "  60  1.7855419e+05 0.00e+00 1.01e+01 -11.0 8.39e-02    -  1.00e+00 1.00e+00w  1\n",
      "  61  1.7854685e+05 0.00e+00 1.58e+01 -11.0 9.85e-02    -  1.00e+00 9.31e-10f 30\n",
      "  62  1.7854685e+05 0.00e+00 1.58e+01 -11.0 1.19e-01    -  1.00e+00 4.55e-13f 42\n",
      "  63  1.7854685e+05 0.00e+00 1.58e+01 -11.0 1.19e-01    -  1.00e+00 7.28e-12f 38\n",
      "  64  1.7854685e+05 0.00e+00 1.58e+01 -11.0 1.40e+00    -  1.00e+00 7.28e-12f 38\n",
      "  65  1.7854685e+05 0.00e+00 1.58e+01 -11.0 6.07e+02    -  6.28e-02 5.88e-18f 54\n",
      "  66  1.7854685e+05 0.00e+00 1.58e+01 -11.0 6.07e+02    -  1.77e-01 5.88e-18f 54\n",
      "  67  1.7854685e+05 0.00e+00 1.58e+01 -11.0 6.07e+02    -  8.80e-02 5.88e-18f 54\n",
      "  68  1.7854685e+05 0.00e+00 1.58e+01 -11.0 1.58e+01    -  7.15e-01 3.55e-15f 49\n",
      "  69  1.7854685e+05 0.00e+00 1.58e+01 -11.0 3.72e-04    -  1.00e+00 1.16e-10f 34\n",
      "iter    objective    inf_pr   inf_du lg(mu)  ||d||  lg(rg) alpha_du alpha_pr  ls\n",
      "  70  1.7854685e+05 0.00e+00 1.58e+01 -11.0 3.73e-04    -  1.00e+00 5.82e-11f 35\n",
      "  71  1.7854694e+05 0.00e+00 1.48e-01 -11.0 3.73e-04    -  1.00e+00 1.00e+00w  1\n",
      "  72  1.7854694e+05 0.00e+00 1.48e-01 -11.0 3.50e-06    -  1.00e+00 1.00e+00w  1\n",
      "  73  1.7854693e+05 0.00e+00 1.76e+00 -11.0 8.06e-04    -  1.00e+00 1.00e+00w  1\n",
      "  74  1.7854685e+05 0.00e+00 1.58e+01 -11.0 4.63e-03    -  1.00e+00 2.91e-11f 35\n",
      "  75  1.7854685e+05 0.00e+00 1.58e+01 -11.0 4.88e-03    -  1.00e+00 1.46e-11f 37\n",
      "  76  1.7854685e+05 0.00e+00 1.58e+01 -11.0 9.50e-02    -  1.00e+00 5.68e-14f 45\n",
      "  77  1.7854685e+05 0.00e+00 1.58e+01 -11.0 9.50e-02    -  1.00e+00 5.68e-14f 45\n",
      "  78  1.7854685e+05 0.00e+00 1.58e+01 -11.0 9.50e-02    -  1.00e+00 1.14e-13f 44\n",
      "  79  1.7854685e+05 0.00e+00 1.58e+01 -11.0 1.58e+01    -  1.00e+00 4.55e-13f 42\n",
      "iter    objective    inf_pr   inf_du lg(mu)  ||d||  lg(rg) alpha_du alpha_pr  ls\n",
      "  80  1.7854685e+05 0.00e+00 1.58e+01 -11.0 3.73e-04    -  1.00e+00 1.86e-09f 30\n",
      "  81  1.7854685e+05 0.00e+00 1.58e+01 -11.0 3.73e-04    -  1.00e+00 7.45e-09f 28\n",
      "  82  1.7854685e+05 0.00e+00 1.58e+01 -11.0 3.73e-04    -  1.00e+00 2.33e-10f 33\n",
      "  83  1.7854685e+05 0.00e+00 1.58e+01 -11.0 3.74e-04    -  1.00e+00 1.16e-10f 34\n",
      "  84  1.7854694e+05 0.00e+00 1.48e-01 -11.0 3.72e-04    -  1.00e+00 1.00e+00w  1\n",
      "  85  1.7854694e+05 0.00e+00 1.48e-01 -11.0 3.57e-06    -  1.00e+00 1.00e+00w  1\n",
      "  86  1.7854696e+05 0.00e+00 1.21e+00 -11.0 3.70e-04    -  1.00e+00 1.00e+00w  1\n",
      "  87  1.7854685e+05 0.00e+00 1.58e+01 -11.0 2.31e-03    -  1.00e+00 1.46e-11f 36\n",
      "  88  1.7854685e+05 0.00e+00 1.58e+01 -11.0 1.89e-03    -  1.00e+00 1.86e-09f 30\n",
      "  89  1.7854685e+05 0.00e+00 1.58e+01 -11.0 3.68e-03    -  1.00e+00 1.16e-10f 34\n",
      "iter    objective    inf_pr   inf_du lg(mu)  ||d||  lg(rg) alpha_du alpha_pr  ls\n",
      "  90  1.7854685e+05 0.00e+00 1.58e+01 -11.0 4.98e-03    -  1.00e+00 3.64e-12f 39\n",
      "  91  1.7854685e+05 0.00e+00 1.58e+01 -11.0 4.98e-03    -  1.00e+00 5.82e-11f 35\n",
      "  92  1.7854685e+05 0.00e+00 1.58e+01 -11.0 5.12e-02    -  1.00e+00 5.82e-11f 35\n",
      "  93  1.7854685e+05 0.00e+00 1.58e+01 -11.0 4.73e-02    -  1.00e+00 7.45e-09f 28\n",
      "  94  1.7854685e+05 0.00e+00 1.58e+01 -11.0 2.86e-02    -  1.00e+00 2.33e-10f 33\n",
      "  95  1.7854685e+05 0.00e+00 1.58e+01 -11.0 5.86e-02    -  1.00e+00 1.82e-12f 40\n",
      "  96  1.7854685e+05 0.00e+00 1.58e+01 -11.0 1.21e-01    -  1.00e+00 5.82e-11f 35\n",
      "  97  1.7854832e+05 0.00e+00 1.25e+01 -11.0 6.86e-02    -  1.00e+00 1.00e+00w  1\n",
      "  98  1.7878198e+05 0.00e+00 6.54e+01 -11.0 7.39e+00    -  3.51e-01 1.00e+00w  1\n",
      "  99  1.8077931e+05 0.00e+00 3.11e+02 -11.0 2.45e+03    -  4.20e-02 1.37e-02w  1\n",
      "iter    objective    inf_pr   inf_du lg(mu)  ||d||  lg(rg) alpha_du alpha_pr  ls\n",
      " 100  1.7854685e+05 0.00e+00 1.58e+01 -11.0 9.52e+01    -  1.00e+00 7.28e-12f 37\n",
      "\n",
      "Number of Iterations....: 100\n",
      "\n",
      "                                   (scaled)                 (unscaled)\n",
      "Objective...............:   6.7154228247150859e+03    1.7854685390244896e+05\n",
      "Dual infeasibility......:   1.5754983664323996e+01    4.1888691746954487e+02\n",
      "Constraint violation....:   0.0000000000000000e+00    0.0000000000000000e+00\n",
      "Complementarity.........:   1.0008525603170806e-11    2.6610249351262166e-10\n",
      "Overall NLP error.......:   1.5754983664323996e+01    4.1888691746954487e+02\n",
      "\n",
      "\n",
      "Number of objective function evaluations             = 2495\n",
      "Number of objective gradient evaluations             = 101\n",
      "Number of equality constraint evaluations            = 0\n",
      "Number of inequality constraint evaluations          = 0\n",
      "Number of equality constraint Jacobian evaluations   = 0\n",
      "Number of inequality constraint Jacobian evaluations = 0\n",
      "Number of Lagrangian Hessian evaluations             = 0\n",
      "Total CPU secs in IPOPT (w/o function evaluations)   =      1.050\n",
      "Total CPU secs in NLP function evaluations           =    151.783\n",
      "\n",
      "EXIT: Maximum Number of Iterations Exceeded.\n",
      " 94.349446 seconds (791.77 M allocations: 54.197 GiB, 8.64% gc time)\n"
     ]
    },
    {
     "name": "stderr",
     "output_type": "stream",
     "text": [
      "┌ Warning: Optimization unsuccesful; got UserLimit\n",
      "└ @ GLMCopula /Users/biona001/.julia/dev/GLMCopula/src/parameter_estimation/fit_nb.jl:31\n"
     ]
    },
    {
     "data": {
      "text/plain": [
       "-178546.85390244896"
      ]
     },
     "execution_count": 86,
     "metadata": {},
     "output_type": "execute_result"
    }
   ],
   "source": [
    "# Quasi-Newton\n",
    "@time GLMCopula.fit!(gcm, IpoptSolver(print_level = 5, max_iter = 100,\n",
    "#     tol = 10^-6, mu_strategy = \"adaptive\", mu_oracle = \"loqo\",\n",
    "#     mehrotra_algorithm=\"yes\", warm_start_init_point=\"yes\",\n",
    "    hessian_approximation = \"limited-memory\"))"
   ]
  },
  {
   "cell_type": "code",
   "execution_count": 87,
   "metadata": {
    "collapsed": false
   },
   "outputs": [
    {
     "name": "stdout",
     "output_type": "stream",
     "text": [
      "estimated β = 3.757598951146338; true β = 3.757872325600888\n",
      "estimated variance component 1 = 0.13767175305165796; true variance component 1 = 0.1\n",
      "estimated variance component 2 = 0.7299223586404632; true variance component 2 = 0.5\n",
      "estimated r = 96.67669395953683; true r = 100\n"
     ]
    }
   ],
   "source": [
    "println(\"estimated β = $(gcm.β[1]); true β = $β_true\")\n",
    "println(\"estimated variance component 1 = $(gcm.Σ[1]); true variance component 1 = $variance_component_1\")\n",
    "println(\"estimated variance component 2 = $(gcm.Σ[2]); true variance component 2 = $variance_component_2\")\n",
    "println(\"estimated r = $(gcm.r[1]); true r = $r\");"
   ]
  },
  {
   "cell_type": "code",
   "execution_count": 69,
   "metadata": {
    "collapsed": false
   },
   "outputs": [
    {
     "name": "stdout",
     "output_type": "stream",
     "text": [
      "estimated β = 1.454302942507524; true β = 1.4552872326068422\n",
      "estimated variance component 1 = 0.16080189197837352; true variance component 1 = 0.1\n",
      "estimated variance component 2 = 0.8976070963094536; true variance component 2 = 0.5\n",
      "estimated r = 11.367324765405236; true r = 10\n"
     ]
    }
   ],
   "source": [
    "println(\"estimated β = $(gcm.β[1]); true β = $β_true\")\n",
    "println(\"estimated variance component 1 = $(gcm.Σ[1]); true variance component 1 = $variance_component_1\")\n",
    "println(\"estimated variance component 2 = $(gcm.Σ[2]); true variance component 2 = $variance_component_2\")\n",
    "println(\"estimated r = $(gcm.r[1]); true r = $r\");"
   ]
  },
  {
   "cell_type": "code",
   "execution_count": 62,
   "metadata": {
    "collapsed": false
   },
   "outputs": [
    {
     "name": "stdout",
     "output_type": "stream",
     "text": [
      "estimated β = 1.0866771907017754; true β = 1.09861228866811\n",
      "estimated variance component 1 = 0.16508355574885977; true variance component 1 = 0.1\n",
      "estimated variance component 2 = 1.0080802223132954; true variance component 2 = 0.5\n",
      "estimated r = 8.138290481765807; true r = 7\n"
     ]
    }
   ],
   "source": [
    "println(\"estimated β = $(gcm.β[1]); true β = $β_true\")\n",
    "println(\"estimated variance component 1 = $(gcm.Σ[1]); true variance component 1 = $variance_component_1\")\n",
    "println(\"estimated variance component 2 = $(gcm.Σ[2]); true variance component 2 = $variance_component_2\")\n",
    "println(\"estimated r = $(gcm.r[1]); true r = $r\");"
   ]
  },
  {
   "cell_type": "markdown",
   "metadata": {},
   "source": [
    "**If initializing VCs to 1**:\n",
    "+ With true $r = 1$\n",
    "    - good estimates of $\\beta$, VC parameters, and r\n",
    "    - sometimes does crazy line search. \n",
    "+ With true $r = 2$\n",
    "    - VC parameters goes to 0, esimated $\\beta$ is wrong, and estimated r is 1.17. \n",
    "\n",
    "**If initializing VCs by update_$\\Sigma$**:\n",
    "+ With true $r = 1$\n",
    "    - one VC parameters becomes basically 0 after initialization\n",
    "    - bad estimated beta (-0.45 vs -0.84 truth)\n",
    "    - estimated VC = 0.0 and 0.69 (truth = 0.1 and 0.5)\n",
    "    - estimated r = 1.1"
   ]
  },
  {
   "cell_type": "code",
   "execution_count": null,
   "metadata": {
    "collapsed": true
   },
   "outputs": [],
   "source": []
  },
  {
   "cell_type": "code",
   "execution_count": null,
   "metadata": {
    "collapsed": true
   },
   "outputs": [],
   "source": []
  },
  {
   "cell_type": "code",
   "execution_count": null,
   "metadata": {
    "collapsed": true
   },
   "outputs": [],
   "source": []
  },
  {
   "cell_type": "code",
   "execution_count": null,
   "metadata": {
    "collapsed": true
   },
   "outputs": [],
   "source": []
  },
  {
   "cell_type": "markdown",
   "metadata": {},
   "source": [
    "## Newton"
   ]
  },
  {
   "cell_type": "code",
   "execution_count": 8,
   "metadata": {
    "collapsed": false,
    "scrolled": true
   },
   "outputs": [
    {
     "name": "stdout",
     "output_type": "stream",
     "text": [
      "This is Ipopt version 3.12.10, running with linear solver mumps.\n",
      "NOTE: Other linear solvers might be more efficient (see Ipopt documentation).\n",
      "\n",
      "Number of nonzeros in equality constraint Jacobian...:        0\n",
      "Number of nonzeros in inequality constraint Jacobian.:        0\n",
      "Number of nonzeros in Lagrangian Hessian.............:        5\n",
      "\n",
      "Total number of variables............................:        4\n",
      "                     variables with only lower bounds:        3\n",
      "                variables with lower and upper bounds:        0\n",
      "                     variables with only upper bounds:        0\n",
      "Total number of equality constraints.................:        0\n",
      "Total number of inequality constraints...............:        0\n",
      "        inequality constraints with only lower bounds:        0\n",
      "   inequality constraints with lower and upper bounds:        0\n",
      "        inequality constraints with only upper bounds:        0\n",
      "\n",
      "iter    objective    inf_pr   inf_du lg(mu)  ||d||  lg(rg) alpha_du alpha_pr  ls\n",
      "   0  1.1849819e+05 0.00e+00 1.00e+02   0.0 0.00e+00    -  0.00e+00 0.00e+00   0\n",
      "   1  1.1849819e+05 0.00e+00 1.00e+02  -1.4 1.71e+00    -  7.29e-01 2.27e-13f 43\n",
      "   2  1.1849819e+05 0.00e+00 1.00e+02  -1.1 1.74e+00    -  1.00e+00 1.14e-13f 44\n",
      "   3  1.1849819e+05 0.00e+00 1.00e+02  -1.1 1.74e+00    -  1.00e+00 2.27e-13f 43\n",
      "   4  1.1849819e+05 0.00e+00 1.00e+02  -1.1 1.74e+00    -  1.00e+00 2.27e-13f 43\n",
      "   5  1.1849819e+05 0.00e+00 1.00e+02  -1.1 1.74e+00    -  1.00e+00 1.82e-12f 40\n",
      "   6  1.1849819e+05 0.00e+00 1.00e+02  -1.1 1.74e+00    -  1.00e+00 1.14e-13f 44\n",
      "   7  1.1849819e+05 0.00e+00 1.00e+02  -1.1 1.74e+00    -  1.00e+00 2.27e-13f 43\n",
      "   8  1.1849819e+05 0.00e+00 1.00e+02  -1.1 1.74e+00    -  1.00e+00 2.27e-13f 43\n",
      "   9  1.1849819e+05 0.00e+00 1.00e+02  -1.1 1.74e+00    -  1.00e+00 1.82e-12f 40\n",
      "iter    objective    inf_pr   inf_du lg(mu)  ||d||  lg(rg) alpha_du alpha_pr  ls\n",
      "  10  1.1849819e+05 0.00e+00 1.00e+02  -1.1 1.74e+00    -  1.00e+00 9.09e-13f 41\n",
      "  11  1.1849819e+05 0.00e+00 1.00e+02  -1.1 1.74e+00    -  1.00e+00 4.55e-13f 42\n",
      "  12  1.1869392e+05 0.00e+00 7.64e+00  -1.1 1.74e+00    -  1.00e+00 1.00e+00w  1\n",
      "  13  1.1897289e+05 0.00e+00 2.35e+01  -1.1 1.64e+00    -  1.00e+00 1.00e+00w  1\n",
      "  14  1.1909722e+05 0.00e+00 6.16e+00  -1.1 6.84e-01    -  1.00e+00 1.00e+00w  1\n",
      "  15  1.1849819e+05 0.00e+00 1.00e+02  -1.1 2.76e-01    -  1.00e+00 9.09e-13f 40\n",
      "  16  1.1849819e+05 0.00e+00 1.00e+02  -1.1 1.74e+00    -  1.00e+00 7.28e-12f 38\n",
      "  17  1.1849819e+05 0.00e+00 1.00e+02  -1.1 1.74e+00    -  1.00e+00 3.64e-12f 39\n",
      "  18  1.1849819e+05 0.00e+00 1.00e+02  -1.1 1.74e+00    -  1.00e+00 9.09e-13f 41\n",
      "  19  1.1849819e+05 0.00e+00 1.00e+02  -1.1 1.74e+00    -  1.00e+00 3.64e-12f 39\n",
      "iter    objective    inf_pr   inf_du lg(mu)  ||d||  lg(rg) alpha_du alpha_pr  ls\n",
      "  20  1.1849819e+05 0.00e+00 1.00e+02  -1.1 1.74e+00    -  1.00e+00 1.82e-12f 40\n",
      "  21  1.1849819e+05 0.00e+00 1.00e+02  -1.1 1.74e+00    -  1.00e+00 4.55e-13f 42\n",
      "  22  1.1849819e+05 0.00e+00 1.00e+02  -1.1 1.74e+00    -  1.00e+00 9.09e-13f 41\n",
      "  23  1.1849819e+05 0.00e+00 1.00e+02  -1.1 1.74e+00    -  1.00e+00 1.14e-13f 44\n",
      "  24  1.1849819e+05 0.00e+00 1.00e+02  -1.1 1.74e+00    -  1.00e+00 2.27e-13f 43\n",
      "  25  1.1869392e+05 0.00e+00 7.64e+00  -1.1 1.74e+00    -  1.00e+00 1.00e+00w  1\n",
      "  26  1.1897289e+05 0.00e+00 2.35e+01  -1.1 1.64e+00    -  1.00e+00 1.00e+00w  1\n",
      "  27  1.1909722e+05 0.00e+00 6.16e+00  -1.1 6.84e-01    -  1.00e+00 1.00e+00w  1\n",
      "  28  1.1849819e+05 0.00e+00 1.00e+02  -1.1 2.76e-01    -  1.00e+00 1.82e-12f 39\n",
      "  29  1.1849819e+05 0.00e+00 1.00e+02  -1.1 1.74e+00    -  1.00e+00 1.82e-12f 40\n",
      "iter    objective    inf_pr   inf_du lg(mu)  ||d||  lg(rg) alpha_du alpha_pr  ls\n",
      "  30  1.1849819e+05 0.00e+00 1.00e+02  -1.1 1.74e+00    -  1.00e+00 3.64e-12f 39\n",
      "  31  1.1849819e+05 0.00e+00 1.00e+02  -1.1 1.74e+00    -  1.00e+00 1.14e-13f 44\n",
      "  32  1.1849819e+05 0.00e+00 1.00e+02  -1.1 1.74e+00    -  1.00e+00 1.82e-12f 40\n",
      "  33  1.1849819e+05 0.00e+00 1.00e+02  -1.1 1.74e+00    -  1.00e+00 4.55e-13f 42\n",
      "  34  1.1849819e+05 0.00e+00 1.00e+02  -1.1 1.74e+00    -  1.00e+00 4.55e-13f 42\n",
      "  35  1.1849819e+05 0.00e+00 1.00e+02  -1.1 1.74e+00    -  1.00e+00 4.55e-13f 42\n",
      "  36  1.1849819e+05 0.00e+00 1.00e+02  -1.1 1.74e+00    -  1.00e+00 9.09e-13f 41\n",
      "  37  1.1849819e+05 0.00e+00 1.00e+02  -1.1 1.74e+00    -  1.00e+00 1.82e-12f 40\n",
      "  38  1.1869392e+05 0.00e+00 7.64e+00  -1.1 1.74e+00    -  1.00e+00 1.00e+00w  1\n",
      "  39  1.1897289e+05 0.00e+00 2.35e+01  -1.1 1.64e+00    -  1.00e+00 1.00e+00w  1\n",
      "iter    objective    inf_pr   inf_du lg(mu)  ||d||  lg(rg) alpha_du alpha_pr  ls\n",
      "  40  1.1909722e+05 0.00e+00 6.16e+00  -1.1 6.84e-01    -  1.00e+00 1.00e+00w  1\n",
      "  41  1.1849819e+05 0.00e+00 1.00e+02  -1.1 2.76e-01    -  1.00e+00 2.27e-13f 42\n",
      "  42  1.1849819e+05 0.00e+00 1.00e+02  -1.1 1.74e+00    -  1.00e+00 2.27e-13f 43\n",
      "  43  1.1849819e+05 0.00e+00 1.00e+02  -1.1 1.74e+00    -  1.00e+00 7.28e-12f 38\n",
      "  44  1.1849819e+05 0.00e+00 1.00e+02  -1.1 1.74e+00    -  1.00e+00 9.09e-13f 41\n",
      "  45  1.1849819e+05 0.00e+00 1.00e+02  -1.1 1.74e+00    -  1.00e+00 1.82e-12f 40\n",
      "  46  1.1849819e+05 0.00e+00 1.00e+02  -1.1 1.74e+00    -  1.00e+00 9.09e-13f 41\n",
      "  47  1.1849819e+05 0.00e+00 1.00e+02  -1.1 1.74e+00    -  1.00e+00 1.82e-12f 40\n",
      "  48  1.1849819e+05 0.00e+00 1.00e+02  -1.1 1.74e+00    -  1.00e+00 9.09e-13f 41\n",
      "  49  1.1849819e+05 0.00e+00 1.00e+02  -1.1 1.74e+00    -  1.00e+00 4.55e-13f 42\n",
      "iter    objective    inf_pr   inf_du lg(mu)  ||d||  lg(rg) alpha_du alpha_pr  ls\n",
      "  50  1.1849819e+05 0.00e+00 1.00e+02  -1.1 1.74e+00    -  1.00e+00 1.82e-12f 40\n",
      "  51  1.1869392e+05 0.00e+00 7.64e+00  -1.1 1.74e+00    -  1.00e+00 1.00e+00w  1\n",
      "  52  1.1897289e+05 0.00e+00 2.35e+01  -1.1 1.64e+00    -  1.00e+00 1.00e+00w  1\n",
      "  53  1.1909722e+05 0.00e+00 6.16e+00  -1.1 6.84e-01    -  1.00e+00 1.00e+00w  1\n",
      "  54  1.1849819e+05 0.00e+00 1.00e+02  -1.1 2.76e-01    -  1.00e+00 1.82e-12f 39\n",
      "  55  1.1849819e+05 0.00e+00 1.00e+02  -1.1 1.74e+00    -  1.00e+00 1.82e-12f 40\n",
      "  56  1.1849819e+05 0.00e+00 1.00e+02  -1.1 1.74e+00    -  1.00e+00 4.55e-13f 42\n",
      "  57  1.1849819e+05 0.00e+00 1.00e+02  -1.1 1.74e+00    -  1.00e+00 4.55e-13f 42\n",
      "  58  1.1849819e+05 0.00e+00 1.00e+02  -1.1 1.74e+00    -  1.00e+00 9.09e-13f 41\n",
      "  59  1.1849819e+05 0.00e+00 1.00e+02  -1.1 1.74e+00    -  1.00e+00 1.82e-12f 40\n",
      "iter    objective    inf_pr   inf_du lg(mu)  ||d||  lg(rg) alpha_du alpha_pr  ls\n",
      "  60  1.1849819e+05 0.00e+00 1.00e+02  -1.1 1.74e+00    -  1.00e+00 3.64e-12f 39\n",
      "  61  1.1849819e+05 0.00e+00 1.00e+02  -1.1 1.74e+00    -  1.00e+00 1.82e-12f 40\n",
      "  62  1.1849819e+05 0.00e+00 1.00e+02  -1.1 1.74e+00    -  1.00e+00 9.09e-13f 41\n",
      "  63  1.1849819e+05 0.00e+00 1.00e+02  -1.1 1.74e+00    -  1.00e+00 4.55e-13f 42\n",
      "  64  1.1869392e+05 0.00e+00 7.64e+00  -1.1 1.74e+00    -  1.00e+00 1.00e+00w  1\n",
      "  65  1.1897289e+05 0.00e+00 2.35e+01  -1.1 1.64e+00    -  1.00e+00 1.00e+00w  1\n",
      "  66  1.1909722e+05 0.00e+00 6.16e+00  -1.1 6.84e-01    -  1.00e+00 1.00e+00w  1\n",
      "  67  1.1849819e+05 0.00e+00 1.00e+02  -1.1 2.76e-01    -  1.00e+00 9.09e-13f 40\n",
      "  68  1.1849819e+05 0.00e+00 1.00e+02  -1.1 1.74e+00    -  1.00e+00 7.28e-12f 38\n",
      "  69  1.1849819e+05 0.00e+00 1.00e+02  -1.1 1.74e+00    -  1.00e+00 1.82e-12f 40\n",
      "iter    objective    inf_pr   inf_du lg(mu)  ||d||  lg(rg) alpha_du alpha_pr  ls\n",
      "  70  1.1849819e+05 0.00e+00 1.00e+02  -1.1 1.74e+00    -  1.00e+00 9.09e-13f 41\n",
      "  71  1.1849819e+05 0.00e+00 1.00e+02  -1.1 1.74e+00    -  1.00e+00 4.55e-13f 42\n",
      "  72  1.1849819e+05 0.00e+00 1.00e+02  -1.1 1.74e+00    -  1.00e+00 9.09e-13f 41\n",
      "  73  1.1849819e+05 0.00e+00 1.00e+02  -1.1 1.74e+00    -  1.00e+00 9.09e-13f 41\n",
      "  74  1.1849819e+05 0.00e+00 1.00e+02  -1.1 1.74e+00    -  1.00e+00 9.09e-13f 41\n",
      "  75  1.1849819e+05 0.00e+00 1.00e+02  -1.1 1.74e+00    -  1.00e+00 4.55e-13f 42\n",
      "  76  1.1849819e+05 0.00e+00 1.00e+02  -1.1 1.74e+00    -  1.00e+00 7.28e-12f 38\n",
      "  77  1.1869392e+05 0.00e+00 7.64e+00  -1.1 1.74e+00    -  1.00e+00 1.00e+00w  1\n",
      "  78  1.1897289e+05 0.00e+00 2.35e+01  -1.1 1.64e+00    -  1.00e+00 1.00e+00w  1\n",
      "  79  1.1909722e+05 0.00e+00 6.16e+00  -1.1 6.84e-01    -  1.00e+00 1.00e+00w  1\n",
      "iter    objective    inf_pr   inf_du lg(mu)  ||d||  lg(rg) alpha_du alpha_pr  ls\n",
      "  80  1.1849819e+05 0.00e+00 1.00e+02  -1.1 2.76e-01    -  1.00e+00 9.09e-13f 40\n",
      "  81  1.1849819e+05 0.00e+00 1.00e+02  -1.1 1.74e+00    -  1.00e+00 7.28e-12f 38\n",
      "  82  1.1849819e+05 0.00e+00 1.00e+02  -1.1 1.74e+00    -  1.00e+00 2.27e-13f 43\n",
      "  83  1.1849819e+05 0.00e+00 1.00e+02  -1.1 1.74e+00    -  1.00e+00 4.55e-13f 42\n",
      "  84  1.1849819e+05 0.00e+00 1.00e+02  -1.1 1.74e+00    -  1.00e+00 2.27e-13f 43\n",
      "  85  1.1849819e+05 0.00e+00 1.00e+02  -1.1 1.74e+00    -  1.00e+00 3.64e-12f 39\n",
      "  86  1.1849819e+05 0.00e+00 1.00e+02  -1.1 1.74e+00    -  1.00e+00 1.46e-11f 37\n",
      "  87  1.1849819e+05 0.00e+00 1.00e+02  -1.1 1.74e+00    -  1.00e+00 7.28e-12f 38\n",
      "  88  1.1849819e+05 0.00e+00 1.00e+02  -1.1 1.74e+00    -  1.00e+00 4.55e-13f 42\n",
      "  89  1.1849819e+05 0.00e+00 1.00e+02  -1.1 1.74e+00    -  1.00e+00 9.09e-13f 41\n",
      "iter    objective    inf_pr   inf_du lg(mu)  ||d||  lg(rg) alpha_du alpha_pr  ls\n",
      "  90  1.1869392e+05 0.00e+00 7.64e+00  -1.1 1.74e+00    -  1.00e+00 1.00e+00w  1\n",
      "  91  1.1897289e+05 0.00e+00 2.35e+01  -1.1 1.64e+00    -  1.00e+00 1.00e+00w  1\n",
      "  92  1.1909722e+05 0.00e+00 6.16e+00  -1.1 6.84e-01    -  1.00e+00 1.00e+00w  1\n",
      "  93  1.1849819e+05 0.00e+00 1.00e+02  -1.1 2.76e-01    -  1.00e+00 7.28e-12f 37\n",
      "  94  1.1849819e+05 0.00e+00 1.00e+02  -1.1 1.74e+00    -  1.00e+00 9.09e-13f 41\n",
      "  95  1.1849819e+05 0.00e+00 1.00e+02  -1.1 1.74e+00    -  1.00e+00 2.27e-13f 43\n",
      "  96  1.1849819e+05 0.00e+00 1.00e+02  -1.1 1.74e+00    -  1.00e+00 4.55e-13f 42\n",
      "  97  1.1849819e+05 0.00e+00 1.00e+02  -1.1 1.74e+00    -  1.00e+00 4.55e-13f 42\n",
      "  98  1.1849819e+05 0.00e+00 1.00e+02  -1.1 1.74e+00    -  1.00e+00 3.64e-12f 39\n",
      "  99  1.1849819e+05 0.00e+00 1.00e+02  -1.1 1.74e+00    -  1.00e+00 1.82e-12f 40\n",
      "iter    objective    inf_pr   inf_du lg(mu)  ||d||  lg(rg) alpha_du alpha_pr  ls\n",
      " 100  1.1849819e+05 0.00e+00 1.00e+02  -1.1 1.74e+00    -  1.00e+00 4.55e-13f 42\n",
      "\n",
      "Number of Iterations....: 100\n",
      "\n",
      "                                   (scaled)                 (unscaled)\n",
      "Objective...............:   5.5854085970343785e+03    1.1849819010251868e+05\n",
      "Dual infeasibility......:   9.9999999985836268e+01    2.1215670801354186e+03\n",
      "Constraint violation....:   0.0000000000000000e+00    0.0000000000000000e+00\n",
      "Complementarity.........:   8.2276265259017461e-02    1.7455461587474430e+00\n",
      "Overall NLP error.......:   9.9999999985836268e+01    2.1215670801354186e+03\n",
      "\n",
      "\n",
      "Number of objective function evaluations             = 3546\n",
      "Number of objective gradient evaluations             = 101\n",
      "Number of equality constraint evaluations            = 0\n",
      "Number of inequality constraint evaluations          = 0\n",
      "Number of equality constraint Jacobian evaluations   = 0\n",
      "Number of inequality constraint Jacobian evaluations = 0\n",
      "Number of Lagrangian Hessian evaluations             = 100\n",
      "Total CPU secs in IPOPT (w/o function evaluations)   =      1.017\n",
      "Total CPU secs in NLP function evaluations           =    339.649\n",
      "\n",
      "EXIT: Maximum Number of Iterations Exceeded.\n",
      "310.142547 seconds (1.17 G allocations: 82.659 GiB, 9.27% gc time, 0.02% compilation time)"
     ]
    },
    {
     "name": "stderr",
     "output_type": "stream",
     "text": [
      "┌ Warning: Optimization unsuccesful; got UserLimit\n",
      "└ @ GLMCopula /Users/biona001/.julia/dev/GLMCopula/src/parameter_estimation/fit_nb.jl:30\n"
     ]
    },
    {
     "name": "stdout",
     "output_type": "stream",
     "text": [
      "\n"
     ]
    },
    {
     "data": {
      "text/plain": [
       "-118498.19010251868"
      ]
     },
     "execution_count": 8,
     "metadata": {},
     "output_type": "execute_result"
    }
   ],
   "source": [
    "@time GLMCopula.fit!(gcm, IpoptSolver(print_level = 5, max_iter = 100, \n",
    "    tol = 10^-6, mu_strategy = \"adaptive\", mu_oracle = \"loqo\",\n",
    "    hessian_approximation = \"exact\"))"
   ]
  },
  {
   "cell_type": "code",
   "execution_count": 9,
   "metadata": {
    "collapsed": false
   },
   "outputs": [
    {
     "name": "stdout",
     "output_type": "stream",
     "text": [
      "estimated β = 1.431700604659203; true β = 1.4552872326068422\n",
      "estimated variance component 1 = 0.14165778449786529; true variance component 1 = 0.1\n",
      "estimated variance component 2 = 0.5807584133259613; true variance component 2 = 0.5\n",
      "estimated r = 5.676937046097018; true r = 10\n"
     ]
    }
   ],
   "source": [
    "println(\"estimated β = $(gcm.β[1]); true β = $β_true\")\n",
    "println(\"estimated variance component 1 = $(gcm.Σ[1]); true variance component 1 = $variance_component_1\")\n",
    "println(\"estimated variance component 2 = $(gcm.Σ[2]); true variance component 2 = $variance_component_2\")\n",
    "println(\"estimated r = $(gcm.r[1]); true r = $r\");"
   ]
  },
  {
   "cell_type": "code",
   "execution_count": 10,
   "metadata": {
    "collapsed": false
   },
   "outputs": [
    {
     "data": {
      "text/plain": [
       "4-element Vector{Float64}:\n",
       " 2121.5670801354186\n",
       "  -71.10375733934279\n",
       "   12.900327891814868\n",
       "  443.90634061495734"
      ]
     },
     "execution_count": 10,
     "metadata": {},
     "output_type": "execute_result"
    }
   ],
   "source": [
    "gcm.∇θ"
   ]
  },
  {
   "cell_type": "code",
   "execution_count": null,
   "metadata": {
    "collapsed": true
   },
   "outputs": [],
   "source": []
  }
 ],
 "metadata": {
  "@webio": {
   "lastCommId": null,
   "lastKernelId": null
  },
  "kernelspec": {
   "display_name": "Julia 1.6.0",
   "language": "julia",
   "name": "julia-1.6"
  },
  "language_info": {
   "file_extension": ".jl",
   "mimetype": "application/julia",
   "name": "julia",
   "version": "1.6.0"
  },
  "toc": {
   "base_numbering": 1,
   "nav_menu": {},
   "number_sections": true,
   "sideBar": true,
   "skip_h1_title": false,
   "title_cell": "Table of Contents",
   "title_sidebar": "Contents",
   "toc_cell": false,
   "toc_position": {},
   "toc_section_display": true,
   "toc_window_display": false
  }
 },
 "nbformat": 4,
 "nbformat_minor": 2
}
