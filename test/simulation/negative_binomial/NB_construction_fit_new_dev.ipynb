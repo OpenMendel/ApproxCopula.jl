{
 "cells": [
  {
   "cell_type": "markdown",
   "metadata": {},
   "source": [
    "# Form the NB Regression Random Intercept Model: Simulated set\n",
    "\n",
    "Next we may try joint estimation using Newton's + IPOPT. \n",
    "\n",
    "    I create new structures `NBCopulaVCObs`, `NBCopulaVCModel`\n",
    "    \n",
    "\n"
   ]
  },
  {
   "cell_type": "code",
   "execution_count": 1,
   "metadata": {
    "collapsed": false
   },
   "outputs": [
    {
     "name": "stderr",
     "output_type": "stream",
     "text": [
      "┌ Info: Precompiling GLMCopula [c47b6ae2-b804-4668-9957-eb588c99ffbc]\n",
      "└ @ Base loading.jl:1317\n"
     ]
    },
    {
     "data": {
      "text/plain": [
       "10000-element Vector{Vector{Float64}}:\n",
       " [2.0, 1.0, 2.0, 6.0, 1.0]\n",
       " [8.0, 5.0, 3.0, 5.0, 2.0]\n",
       " [2.0, 4.0, 4.0, 10.0, 2.0]\n",
       " [4.0, 3.0, 7.0, 4.0, 8.0]\n",
       " [10.0, 10.0, 9.0, 1.0, 1.0]\n",
       " [4.0, 4.0, 3.0, 4.0, 3.0]\n",
       " [9.0, 6.0, 5.0, 4.0, 4.0]\n",
       " [6.0, 1.0, 3.0, 6.0, 0.0]\n",
       " [4.0, 7.0, 3.0, 3.0, 3.0]\n",
       " [5.0, 5.0, 3.0, 6.0, 2.0]\n",
       " [7.0, 6.0, 5.0, 2.0, 3.0]\n",
       " [3.0, 2.0, 7.0, 1.0, 4.0]\n",
       " [2.0, 3.0, 2.0, 2.0, 6.0]\n",
       " ⋮\n",
       " [2.0, 3.0, 1.0, 4.0, 2.0]\n",
       " [1.0, 3.0, 6.0, 2.0, 2.0]\n",
       " [2.0, 1.0, 3.0, 5.0, 1.0]\n",
       " [2.0, 3.0, 1.0, 1.0, 5.0]\n",
       " [2.0, 3.0, 4.0, 4.0, 10.0]\n",
       " [2.0, 3.0, 6.0, 2.0, 6.0]\n",
       " [2.0, 3.0, 1.0, 8.0, 2.0]\n",
       " [8.0, 0.0, 6.0, 3.0, 5.0]\n",
       " [5.0, 3.0, 2.0, 3.0, 6.0]\n",
       " [5.0, 6.0, 6.0, 9.0, 5.0]\n",
       " [0.0, 2.0, 1.0, 4.0, 3.0]\n",
       " [3.0, 6.0, 1.0, 3.0, 3.0]"
      ]
     },
     "execution_count": 1,
     "metadata": {},
     "output_type": "execute_result"
    }
   ],
   "source": [
    "using Revise\n",
    "using DataFrames, Random, GLM, GLMCopula\n",
    "using ForwardDiff, Test, LinearAlgebra\n",
    "using LinearAlgebra: BlasReal, copytri!\n",
    "\n",
    "Random.seed!(1234)\n",
    "\n",
    "# sample size\n",
    "N = 10000\n",
    "# observations per subject\n",
    "n = 5\n",
    "\n",
    "variance_component_1 = 0.1\n",
    "variance_component_2 = 0.5\n",
    "\n",
    "r = 10\n",
    "p = 0.7\n",
    "μ = r * (1-p) * inv(p)\n",
    "\n",
    "# var = r * (1-p) * inv(p^2)\n",
    "\n",
    "# true beta\n",
    "β_true = log(μ)\n",
    "\n",
    "dist = NegativeBinomial\n",
    "\n",
    "Γ = variance_component_1 * ones(n, n) + variance_component_2 * Matrix(I, n, n)\n",
    "vecd = [dist(r, p) for i in 1:n]\n",
    "nonmixed_multivariate_dist = NonMixedMultivariateDistribution(vecd, Γ)\n",
    "\n",
    "Y_Nsample = simulate_nobs_independent_vectors(nonmixed_multivariate_dist, N)"
   ]
  },
  {
   "cell_type": "code",
   "execution_count": 2,
   "metadata": {
    "collapsed": false
   },
   "outputs": [],
   "source": [
    "d = NegativeBinomial(10)\n",
    "link = LogLink()\n",
    "D = typeof(d)\n",
    "Link = typeof(link)\n",
    "T = Float64\n",
    "gcs = Vector{NBCopulaVCObs{T, D, Link}}(undef, N)\n",
    "for i in 1:N\n",
    "    y = Float64.(Y_Nsample[i])\n",
    "    X = ones(n, 1)\n",
    "    V = [ones(n, n), Matrix(I, n, n)]\n",
    "    gcs[i] = NBCopulaVCObs(y, X, V, d, link)\n",
    "end\n",
    "gcm = NBCopulaVCModel(gcs);\n",
    "# gcm.r[1] = r"
   ]
  },
  {
   "cell_type": "code",
   "execution_count": 3,
   "metadata": {
    "collapsed": false
   },
   "outputs": [
    {
     "name": "stdout",
     "output_type": "stream",
     "text": [
      "initializing β using Newton's Algorithm under Independence Assumption\n",
      "1 0.0 -119838.64821581719 39999\n",
      "2 -119838.64821581719 -119838.64821581719 39999\n",
      "initializing variance components using MM-Algorithm\n",
      "gcm.Σ = [0.08588400568485231, 0.3110112583834204]\n",
      "gcm.r = [1.0]\n"
     ]
    },
    {
     "data": {
      "text/plain": [
       "1-element Vector{Float64}:\n",
       " 1.0"
      ]
     },
     "execution_count": 3,
     "metadata": {},
     "output_type": "execute_result"
    }
   ],
   "source": [
    "initialize_model!(gcm)\n",
    "# @show gcm.β\n",
    "# @show gcm.Σ\n",
    "@show gcm.r"
   ]
  },
  {
   "cell_type": "code",
   "execution_count": 4,
   "metadata": {
    "collapsed": false
   },
   "outputs": [
    {
     "data": {
      "text/plain": [
       "1.4552872326068422"
      ]
     },
     "execution_count": 4,
     "metadata": {},
     "output_type": "execute_result"
    }
   ],
   "source": [
    "β_true"
   ]
  },
  {
   "cell_type": "markdown",
   "metadata": {},
   "source": [
    "Initialize β and σ2, here I just copy the solution for β and σ2 from MixedModels.jl over"
   ]
  },
  {
   "cell_type": "code",
   "execution_count": 5,
   "metadata": {
    "collapsed": false
   },
   "outputs": [
    {
     "data": {
      "text/plain": [
       "-129898.46574906788"
      ]
     },
     "execution_count": 5,
     "metadata": {},
     "output_type": "execute_result"
    }
   ],
   "source": [
    "GLMCopula.loglikelihood!(gcm, true, true)"
   ]
  },
  {
   "cell_type": "markdown",
   "metadata": {},
   "source": [
    "## Try Quasi-Newton after specifying gradient of r\n",
    "\n",
    "to-do: \n",
    "\n",
    "1. added field $r$ to model structure $gcm.r$, change access to r this way instead of through the distribution\n",
    "2. add $gc.\\nabla r$ in loglikelihood function\n",
    "\n",
    "\n",
    "## Newton after specifying the hessian term too\n",
    "\n",
    "3. add $gc.Hr$ in loglikelihood function"
   ]
  },
  {
   "cell_type": "code",
   "execution_count": 6,
   "metadata": {
    "collapsed": false,
    "scrolled": true
   },
   "outputs": [
    {
     "name": "stdout",
     "output_type": "stream",
     "text": [
      "\n",
      "******************************************************************************\n",
      "This program contains Ipopt, a library for large-scale nonlinear optimization.\n",
      " Ipopt is released as open source code under the Eclipse Public License (EPL).\n",
      "         For more information visit http://projects.coin-or.org/Ipopt\n",
      "******************************************************************************\n",
      "\n",
      "This is Ipopt version 3.12.10, running with linear solver mumps.\n",
      "NOTE: Other linear solvers might be more efficient (see Ipopt documentation).\n",
      "\n",
      "Number of nonzeros in equality constraint Jacobian...:        0\n",
      "Number of nonzeros in inequality constraint Jacobian.:        0\n",
      "Number of nonzeros in Lagrangian Hessian.............:        0\n",
      "\n",
      "Total number of variables............................:        4\n",
      "                     variables with only lower bounds:        3\n",
      "                variables with lower and upper bounds:        0\n",
      "                     variables with only upper bounds:        0\n",
      "Total number of equality constraints.................:        0\n",
      "Total number of inequality constraints...............:        0\n",
      "        inequality constraints with only lower bounds:        0\n",
      "   inequality constraints with lower and upper bounds:        0\n",
      "        inequality constraints with only upper bounds:        0\n",
      "\n",
      "iter    objective    inf_pr   inf_du lg(mu)  ||d||  lg(rg) alpha_du alpha_pr  ls\n",
      "   0  1.2975052e+05 0.00e+00 9.94e+01   0.0 0.00e+00    -  0.00e+00 0.00e+00   0\n",
      "   1  1.2851586e+05 0.00e+00 2.15e+02  -2.5 2.58e+01    -  1.01e-02 1.56e-02f  7\n",
      "   2  1.2736491e+05 0.00e+00 8.04e+01  -1.0 3.60e-01    -  1.00e+00 1.00e+00f  1\n",
      "   3  1.2586302e+05 0.00e+00 6.03e+01  -4.5 1.75e-01    -  5.02e-01 1.00e+00f  1\n",
      "   4  1.2199755e+05 0.00e+00 3.01e+01  -5.6 6.52e-01    -  3.50e-01 1.00e+00f  1\n",
      "   5  1.2022801e+05 0.00e+00 1.68e+01  -1.8 6.69e-01    -  1.00e+00 1.00e+00f  1\n",
      "   6  1.1896466e+05 0.00e+00 2.36e+01  -6.6 9.11e-01    -  6.42e-01 1.00e+00f  1\n",
      "   7  1.1878828e+05 0.00e+00 1.84e+01  -6.5 1.21e+00    -  6.74e-01 7.16e-01f  1\n",
      "   8  1.1870628e+05 0.00e+00 1.66e+01  -3.8 1.21e+00    -  6.80e-03 1.00e+00f  1\n",
      "   9  1.1856638e+05 0.00e+00 7.97e+00  -4.1 9.52e+00    -  5.07e-01 5.33e-02f  3\n",
      "iter    objective    inf_pr   inf_du lg(mu)  ||d||  lg(rg) alpha_du alpha_pr  ls\n",
      "  10  1.1856638e+05 0.00e+00 7.97e+00  -6.9 9.60e-01    -  8.37e-01 1.82e-12f 40\n",
      "  11  1.1856638e+05 0.00e+00 7.97e+00  -5.0 2.98e+00    -  1.00e+00 1.63e-12f 39\n",
      "  12  1.1856638e+05 0.00e+00 7.97e+00  -5.0 1.40e+00    -  1.00e+00 7.28e-12f 38\n",
      "  13  1.1856638e+05 0.00e+00 7.97e+00  -5.0 1.70e+00    -  1.00e+00 1.12e-11f 37\n",
      "  14  1.1856149e+05 0.00e+00 2.68e+00  -5.0 9.00e-01    -  1.00e+00 3.50e-02f  4\n",
      "  15  1.1856149e+05 0.00e+00 2.68e+00  -5.4 1.46e+00    -  1.00e+00 2.96e-10f 32\n",
      "  16  1.1856149e+05 0.00e+00 2.68e+00  -3.8 1.77e+00    -  1.00e+00 9.09e-13f 41\n",
      "  17  1.1855661e+05 0.00e+00 4.28e+00  -3.8 1.90e+01    -  2.73e-01 1.20e-02f  2\n",
      "  18  1.1855661e+05 0.00e+00 4.28e+00  -3.4 8.68e-01    -  1.00e+00 3.64e-12f 39\n",
      "  19  1.1855661e+05 0.00e+00 4.28e+00  -3.5 2.09e+00    -  2.98e-01 2.27e-13f 43\n",
      "iter    objective    inf_pr   inf_du lg(mu)  ||d||  lg(rg) alpha_du alpha_pr  ls\n",
      "  20  1.1855661e+05 0.00e+00 4.28e+00  -3.5 3.45e+00    -  1.00e+00 9.09e-13f 41\n",
      "  21  1.1855661e+05 0.00e+00 4.28e+00  -3.5 4.23e+01    -  1.23e-02 1.14e-13f 44\n",
      "  22  1.1855661e+05 0.00e+00 4.28e+00  -3.5 1.72e+00    -  1.00e+00 3.64e-12f 39\n",
      "  23  1.1855661e+05 0.00e+00 4.28e+00  -3.5 1.74e+00    -  1.00e+00 1.11e-12f 40\n",
      "  24  1.1855661e+05 0.00e+00 4.28e+00  -3.5 2.53e+01    -  3.30e-02 1.98e-14f 45\n",
      "  25  1.1855661e+05 0.00e+00 4.28e+00  -3.5 1.82e+00    -  1.00e+00 4.55e-13f 42\n",
      "  26  1.1855661e+05 0.00e+00 4.28e+00  -3.5 3.15e+00    -  1.00e+00 1.38e-13f 41\n",
      "  27  1.1855661e+05 0.00e+00 4.28e+00  -3.5 1.30e+00    -  8.69e-01 9.09e-13f 41\n",
      "  28  1.1855661e+05 0.00e+00 4.28e+00  -3.5 3.74e+01    -  2.08e-02 7.11e-15f 48\n",
      "  29  1.1886442e+05 0.00e+00 6.86e+00  -3.5 1.91e+00    -  1.00e+00 1.00e+00w  1\n",
      "iter    objective    inf_pr   inf_du lg(mu)  ||d||  lg(rg) alpha_du alpha_pr  ls\n",
      "  30  1.2048130e+05 0.00e+00 7.61e+00  -3.5 2.46e+00    -  6.17e-02 1.00e+00w  1\n",
      "  31  1.1986007e+05 0.00e+00 2.16e+01  -3.5 4.25e-01    -  1.00e+00 1.00e+00w  1\n",
      "  32  1.1886442e+05 0.00e+00 6.86e+00  -3.5 2.77e+00    -  1.00e+00 1.00e+00S 21\n",
      "  33  1.1886442e+05 0.00e+00 6.86e+00  -3.5 1.63e+00    -  4.39e-01 1.82e-12f 40\n",
      "  34  1.1886442e+05 0.00e+00 6.86e+00  -3.5 5.95e+00    -  5.81e-01 4.24e-13f 39\n",
      "  35  1.1886442e+05 0.00e+00 6.86e+00  -3.5 2.10e+00    -  1.00e+00 9.09e-13f 41\n",
      "  36  1.1886442e+05 0.00e+00 6.86e+00  -3.5 3.76e+00    -  1.00e+00 4.55e-13f 42\n",
      "  37  1.1886442e+05 0.00e+00 6.86e+00  -3.5 1.02e+02    -  2.52e-02 2.84e-14f 46\n",
      "  38  1.1886442e+05 0.00e+00 6.86e+00  -3.5 1.67e+00    -  1.00e+00 4.55e-13f 42\n",
      "  39  1.1886442e+05 0.00e+00 6.86e+00  -3.5 1.07e+00    -  1.00e+00 1.82e-12f 40\n",
      "iter    objective    inf_pr   inf_du lg(mu)  ||d||  lg(rg) alpha_du alpha_pr  ls\n",
      "  40  1.1886442e+05 0.00e+00 6.86e+00  -3.5 7.55e-01    -  5.51e-01 4.55e-13f 42\n",
      "  41  1.1886442e+05 0.00e+00 6.86e+00  -3.5 1.21e+01    -  6.52e-01 1.22e-13f 42\n",
      "  42  1.1886425e+05 0.00e+00 7.54e+00  -3.5 1.47e+00    -  1.09e-01 1.56e-02f  7\n",
      "  43  1.1903127e+05 0.00e+00 3.45e+00  -3.5 1.01e+00    -  1.00e+00 1.00e+00w  1\n",
      "  44  1.2571640e+05 0.00e+00 1.74e+02  -3.5 7.61e+00    -  9.81e-01 1.00e+00w  1\n",
      "  45  1.1924330e+05 0.00e+00 2.53e+00  -3.5 6.45e+00    -  1.00e+00 1.00e+00w  1\n",
      "  46  1.1903127e+05 0.00e+00 3.45e+00  -3.5 7.45e-01    -  1.00e+00 1.00e+00S 21\n",
      "  47  1.1903127e+05 0.00e+00 3.45e+00  -3.5 8.33e+00    -  1.10e-01 2.14e-13f 41\n",
      "  48  1.1903127e+05 0.00e+00 3.45e+00  -3.5 1.06e+00    -  1.00e+00 4.55e-13f 42\n",
      "  49  1.1903127e+05 0.00e+00 3.45e+00  -3.5 4.53e+01    -  1.25e-01 2.84e-14f 46\n",
      "iter    objective    inf_pr   inf_du lg(mu)  ||d||  lg(rg) alpha_du alpha_pr  ls\n",
      "  50  1.1903127e+05 0.00e+00 3.45e+00  -3.5 8.17e-01    -  1.00e+00 1.82e-12f 40\n",
      "  51  1.1903127e+05 0.00e+00 3.45e+00  -3.5 9.82e-01    -  1.00e+00 1.82e-12f 40\n",
      "  52  1.1901009e+05 0.00e+00 1.16e+01  -3.5 1.55e+01    -  5.21e-02 1.68e-02f  5\n",
      "  53  1.1901009e+05 0.00e+00 1.16e+01  -3.5 7.90e-01    -  1.00e+00 3.64e-12f 39\n",
      "  54  1.1901009e+05 0.00e+00 1.16e+01  -3.5 1.54e+00    -  1.00e+00 9.09e-13f 41\n",
      "  55  1.1901009e+05 0.00e+00 1.16e+01  -3.5 3.30e+01    -  2.59e-01 5.60e-13f 36\n",
      "  56  1.1901009e+05 0.00e+00 1.16e+01  -3.5 4.49e-01    -  1.00e+00 1.82e-12f 40\n",
      "  57  1.1905997e+05 0.00e+00 4.16e+00  -3.5 3.12e-01    -  1.00e+00 1.00e+00w  1\n",
      "  58  1.1902074e+05 0.00e+00 3.54e+00  -3.5 1.30e-01    -  3.80e-01 1.00e+00w  1\n",
      "  59  1.1977250e+05 0.00e+00 2.80e+01  -3.5 3.19e+00    -  1.00e+00 1.00e+00w  1\n",
      "iter    objective    inf_pr   inf_du lg(mu)  ||d||  lg(rg) alpha_du alpha_pr  ls\n",
      "  60  1.1900664e+05 0.00e+00 9.06e+00  -3.5 1.63e+01    -  1.00e+00 2.50e-01f  2\n",
      "  61  1.1900664e+05 0.00e+00 9.06e+00  -3.5 2.78e+02    -  5.05e-03 2.87e-15f 46\n",
      "  62  1.1900664e+05 0.00e+00 9.06e+00  -3.5 1.13e+01    -  8.81e-01 5.01e-14f 45\n",
      "  63  1.1900664e+05 0.00e+00 9.06e+00  -3.5 1.50e+00    -  1.00e+00 2.27e-13f 43\n",
      "  64  1.1900664e+05 0.00e+00 9.06e+00  -3.5 1.03e+00    -  1.00e+00 5.68e-14f 45\n",
      "  65  1.1898196e+05 0.00e+00 7.21e+00  -3.5 1.37e-01    -  1.00e+00 1.00e+00f  1\n",
      "  66  1.1898196e+05 0.00e+00 7.21e+00  -3.5 1.98e-01    -  1.00e+00 2.91e-11f 36\n",
      "  67  1.1898196e+05 0.00e+00 7.21e+00  -3.5 2.09e+00    -  8.80e-01 5.09e-13f 40\n",
      "  68  1.1898196e+05 0.00e+00 7.21e+00  -3.5 9.52e-01    -  9.44e-01 3.64e-12f 39\n",
      "  69  1.1898196e+05 0.00e+00 7.21e+00  -3.5 2.62e+00    -  1.00e+00 2.27e-13f 43\n",
      "iter    objective    inf_pr   inf_du lg(mu)  ||d||  lg(rg) alpha_du alpha_pr  ls\n",
      "  70  1.1898196e+05 0.00e+00 7.21e+00  -3.5 1.41e+01    -  7.44e-01 7.39e-14f 43\n",
      "  71  1.1898196e+05 0.00e+00 7.21e+00  -3.5 7.57e-01    -  1.00e+00 1.82e-12f 40\n",
      "  72  1.1898196e+05 0.00e+00 7.21e+00  -3.5 7.60e-01    -  1.00e+00 1.82e-12f 40\n",
      "  73  1.1897488e+05 0.00e+00 6.80e+00  -3.5 3.82e-01    -  3.34e-01 2.50e-01f  3\n",
      "  74  1.1897488e+05 0.00e+00 6.80e+00  -3.5 6.90e-01    -  1.00e+00 1.82e-12f 40\n",
      "  75  1.1897488e+05 0.00e+00 6.80e+00  -3.5 8.42e+00    -  1.00e+00 1.79e-13f 43\n",
      "  76  1.1975330e+05 0.00e+00 4.89e+01  -3.5 1.17e+00    -  1.00e+00 3.19e-01w  1\n",
      "  77  1.1906194e+05 0.00e+00 5.95e+00  -3.5 5.45e-01    -  2.46e-03 1.00e+00w  1\n",
      "  78  1.1911211e+05 0.00e+00 2.72e+00  -3.5 4.55e-01    -  1.00e+00 1.00e+00w  1\n",
      "  79  1.1897419e+05 0.00e+00 3.13e+00  -3.5 5.95e-02    -  1.00e+00 3.99e-02f  3\n",
      "iter    objective    inf_pr   inf_du lg(mu)  ||d||  lg(rg) alpha_du alpha_pr  ls\n",
      "  80  1.1897419e+05 0.00e+00 3.13e+00  -3.5 1.05e+00    -  9.96e-01 9.09e-13f 41\n",
      "  81  1.1897419e+05 0.00e+00 3.13e+00  -3.5 2.42e+01    -  1.83e-01 2.84e-14f 46\n",
      "  82  1.1897419e+05 0.00e+00 3.13e+00  -3.5 5.38e-01    -  1.00e+00 3.64e-12f 39\n",
      "  83  1.1897419e+05 0.00e+00 3.13e+00  -3.5 5.23e-01    -  1.00e+00 3.64e-12f 39\n",
      "  84  1.1897419e+05 0.00e+00 3.13e+00  -3.5 6.72e+00    -  1.00e+00 1.12e-13f 43\n",
      "  85  1.1897365e+05 0.00e+00 4.55e+00  -3.5 2.79e+00    -  3.90e-01 3.03e-03f  5\n",
      "  86  1.1897365e+05 0.00e+00 4.55e+00  -3.5 5.86e-01    -  1.00e+00 1.82e-12f 40\n",
      "  87  1.1897365e+05 0.00e+00 4.55e+00  -3.5 9.07e-01    -  1.00e+00 9.09e-13f 41\n",
      "  88  1.1875946e+05 0.00e+00 2.05e+01  -3.5 7.30e+00    -  1.00e+00 2.62e-01f  1\n",
      "  89  1.1875946e+05 0.00e+00 2.05e+01  -3.5 3.49e+00    -  4.53e-03 9.09e-13f 41\n",
      "iter    objective    inf_pr   inf_du lg(mu)  ||d||  lg(rg) alpha_du alpha_pr  ls\n",
      "  90  1.1849828e+05 0.00e+00 6.19e+00  -3.5 1.86e+01    -  1.48e-01 8.15e-02f  3\n",
      "  91  1.1849828e+05 0.00e+00 6.19e+00  -1.4 2.57e+00    -  6.36e-01 1.46e-11f 37\n",
      "  92  1.1849819e+05 0.00e+00 1.12e+01  -1.9 2.02e+00    -  1.00e+00 6.25e-02f  5\n",
      "  93  1.1849819e+05 0.00e+00 1.12e+01  -4.8 1.03e+01    -  3.11e-01 1.56e-12f 38\n",
      "  94  1.1849819e+05 0.00e+00 1.12e+01  -2.0 1.74e+00    -  1.00e+00 7.28e-12f 38\n",
      "  95  1.1849819e+05 0.00e+00 1.12e+01  -2.0 4.14e+00    -  1.42e-01 5.13e-12f 36\n",
      "  96  1.1849819e+05 0.00e+00 1.12e+01  -2.0 2.68e+00    -  4.79e-01 9.09e-13f 41\n",
      "  97  1.1849819e+05 0.00e+00 1.12e+01  -2.0 1.50e+01    -  3.58e-01 7.68e-13f 37\n",
      "  98  1.1849819e+05 0.00e+00 1.12e+01  -2.0 1.29e+00    -  1.00e+00 7.28e-12f 38\n",
      "  99  1.1849819e+05 0.00e+00 1.12e+01  -2.0 3.15e+00    -  2.60e-01 1.14e-13f 44\n",
      "iter    objective    inf_pr   inf_du lg(mu)  ||d||  lg(rg) alpha_du alpha_pr  ls\n",
      " 100  1.1849819e+05 0.00e+00 1.12e+01  -2.0 9.72e+00    -  5.31e-01 2.20e-13f 40\n",
      "\n",
      "Number of Iterations....: 100\n",
      "\n",
      "                                   (scaled)                 (unscaled)\n",
      "Objective...............:   6.2370827854223842e+02    1.1849819010250868e+05\n",
      "Dual infeasibility......:   1.1166743984915522e+01    2.1215670804359115e+03\n",
      "Constraint violation....:   0.0000000000000000e+00    0.0000000000000000e+00\n",
      "Complementarity.........:   2.2823262302207204e-02    4.3361862718376853e+00\n",
      "Overall NLP error.......:   1.1166743984915522e+01    2.1215670804359115e+03\n",
      "\n",
      "\n",
      "Number of objective function evaluations             = 3068\n",
      "Number of objective gradient evaluations             = 101\n",
      "Number of equality constraint evaluations            = 0\n",
      "Number of inequality constraint evaluations          = 0\n",
      "Number of equality constraint Jacobian evaluations   = 0\n",
      "Number of inequality constraint Jacobian evaluations = 0\n",
      "Number of Lagrangian Hessian evaluations             = 0\n",
      "Total CPU secs in IPOPT (w/o function evaluations)   =      1.872\n",
      "Total CPU secs in NLP function evaluations           =    247.736\n",
      "\n",
      "EXIT: Maximum Number of Iterations Exceeded.\n",
      "249.442665 seconds (965.18 M allocations: 65.810 GiB, 9.50% gc time, 1.13% compilation time)"
     ]
    },
    {
     "name": "stderr",
     "output_type": "stream",
     "text": [
      "┌ Warning: Optimization unsuccesful; got UserLimit\n",
      "└ @ GLMCopula /Users/biona001/.julia/dev/GLMCopula/src/parameter_estimation/fit_nb.jl:30\n"
     ]
    },
    {
     "name": "stdout",
     "output_type": "stream",
     "text": [
      "\n"
     ]
    },
    {
     "data": {
      "text/plain": [
       "-118498.1901025087"
      ]
     },
     "execution_count": 6,
     "metadata": {},
     "output_type": "execute_result"
    }
   ],
   "source": [
    "# Quasi-Newton\n",
    "@time GLMCopula.fit!(gcm, IpoptSolver(print_level = 5, max_iter = 100, tol = 10^-6, \n",
    "#     mu_strategy = \"adaptive\", mu_oracle = \"loqo\",\n",
    "    mehrotra_algorithm=\"yes\", warm_start_init_point=\"yes\",\n",
    "    hessian_approximation = \"limited-memory\"))"
   ]
  },
  {
   "cell_type": "code",
   "execution_count": 7,
   "metadata": {
    "collapsed": false,
    "scrolled": true
   },
   "outputs": [
    {
     "name": "stdout",
     "output_type": "stream",
     "text": [
      "estimated β = 1.4317006046564116; true β = 1.4552872326068422\n",
      "estimated variance component 1 = 0.14165778449898425; true variance component 1 = 0.1\n",
      "estimated variance component 2 = 0.5807584133233805; true variance component 2 = 0.5\n",
      "estimated r = 5.676937045848225; true r = 10\n"
     ]
    }
   ],
   "source": [
    "println(\"estimated β = $(gcm.β[1]); true β = $β_true\")\n",
    "println(\"estimated variance component 1 = $(gcm.Σ[1]); true variance component 1 = $variance_component_1\")\n",
    "println(\"estimated variance component 2 = $(gcm.Σ[2]); true variance component 2 = $variance_component_2\")\n",
    "println(\"estimated r = $(gcm.r[1]); true r = $r\");"
   ]
  },
  {
   "cell_type": "markdown",
   "metadata": {},
   "source": [
    "**If initializing VCs to 1**:\n",
    "+ With true $r = 1$\n",
    "    - good estimates of $\\beta$, VC parameters, and r\n",
    "    - sometimes does crazy line search. \n",
    "+ With true $r = 2$\n",
    "    - VC parameters goes to 0, esimated $\\beta$ is wrong, and estimated r is 1.17. \n",
    "\n",
    "**If initializing VCs by update_$\\Sigma$**:\n",
    "+ With true $r = 1$\n",
    "    - one VC parameters becomes basically 0 after initialization\n",
    "    - bad estimated beta (-0.45 vs -0.84 truth)\n",
    "    - estimated VC = 0.0 and 0.69 (truth = 0.1 and 0.5)\n",
    "    - estimated r = 1.1"
   ]
  },
  {
   "cell_type": "code",
   "execution_count": null,
   "metadata": {
    "collapsed": true
   },
   "outputs": [],
   "source": []
  },
  {
   "cell_type": "code",
   "execution_count": null,
   "metadata": {
    "collapsed": true
   },
   "outputs": [],
   "source": []
  },
  {
   "cell_type": "code",
   "execution_count": null,
   "metadata": {
    "collapsed": true
   },
   "outputs": [],
   "source": []
  },
  {
   "cell_type": "code",
   "execution_count": null,
   "metadata": {
    "collapsed": true
   },
   "outputs": [],
   "source": []
  },
  {
   "cell_type": "markdown",
   "metadata": {},
   "source": [
    "## Newton"
   ]
  },
  {
   "cell_type": "code",
   "execution_count": 8,
   "metadata": {
    "collapsed": false,
    "scrolled": true
   },
   "outputs": [
    {
     "name": "stdout",
     "output_type": "stream",
     "text": [
      "This is Ipopt version 3.12.10, running with linear solver mumps.\n",
      "NOTE: Other linear solvers might be more efficient (see Ipopt documentation).\n",
      "\n",
      "Number of nonzeros in equality constraint Jacobian...:        0\n",
      "Number of nonzeros in inequality constraint Jacobian.:        0\n",
      "Number of nonzeros in Lagrangian Hessian.............:        5\n",
      "\n",
      "Total number of variables............................:        4\n",
      "                     variables with only lower bounds:        3\n",
      "                variables with lower and upper bounds:        0\n",
      "                     variables with only upper bounds:        0\n",
      "Total number of equality constraints.................:        0\n",
      "Total number of inequality constraints...............:        0\n",
      "        inequality constraints with only lower bounds:        0\n",
      "   inequality constraints with lower and upper bounds:        0\n",
      "        inequality constraints with only upper bounds:        0\n",
      "\n",
      "iter    objective    inf_pr   inf_du lg(mu)  ||d||  lg(rg) alpha_du alpha_pr  ls\n",
      "   0  1.1849819e+05 0.00e+00 1.00e+02   0.0 0.00e+00    -  0.00e+00 0.00e+00   0\n",
      "   1  1.1849819e+05 0.00e+00 1.00e+02  -1.4 1.71e+00    -  7.29e-01 2.27e-13f 43\n",
      "   2  1.1849819e+05 0.00e+00 1.00e+02  -1.1 1.74e+00    -  1.00e+00 1.14e-13f 44\n",
      "   3  1.1849819e+05 0.00e+00 1.00e+02  -1.1 1.74e+00    -  1.00e+00 2.27e-13f 43\n",
      "   4  1.1849819e+05 0.00e+00 1.00e+02  -1.1 1.74e+00    -  1.00e+00 2.27e-13f 43\n",
      "   5  1.1849819e+05 0.00e+00 1.00e+02  -1.1 1.74e+00    -  1.00e+00 1.82e-12f 40\n",
      "   6  1.1849819e+05 0.00e+00 1.00e+02  -1.1 1.74e+00    -  1.00e+00 1.14e-13f 44\n",
      "   7  1.1849819e+05 0.00e+00 1.00e+02  -1.1 1.74e+00    -  1.00e+00 2.27e-13f 43\n",
      "   8  1.1849819e+05 0.00e+00 1.00e+02  -1.1 1.74e+00    -  1.00e+00 2.27e-13f 43\n",
      "   9  1.1849819e+05 0.00e+00 1.00e+02  -1.1 1.74e+00    -  1.00e+00 1.82e-12f 40\n",
      "iter    objective    inf_pr   inf_du lg(mu)  ||d||  lg(rg) alpha_du alpha_pr  ls\n",
      "  10  1.1849819e+05 0.00e+00 1.00e+02  -1.1 1.74e+00    -  1.00e+00 9.09e-13f 41\n",
      "  11  1.1849819e+05 0.00e+00 1.00e+02  -1.1 1.74e+00    -  1.00e+00 4.55e-13f 42\n",
      "  12  1.1869392e+05 0.00e+00 7.64e+00  -1.1 1.74e+00    -  1.00e+00 1.00e+00w  1\n",
      "  13  1.1897289e+05 0.00e+00 2.35e+01  -1.1 1.64e+00    -  1.00e+00 1.00e+00w  1\n",
      "  14  1.1909722e+05 0.00e+00 6.16e+00  -1.1 6.84e-01    -  1.00e+00 1.00e+00w  1\n",
      "  15  1.1849819e+05 0.00e+00 1.00e+02  -1.1 2.76e-01    -  1.00e+00 9.09e-13f 40\n",
      "  16  1.1849819e+05 0.00e+00 1.00e+02  -1.1 1.74e+00    -  1.00e+00 7.28e-12f 38\n",
      "  17  1.1849819e+05 0.00e+00 1.00e+02  -1.1 1.74e+00    -  1.00e+00 3.64e-12f 39\n",
      "  18  1.1849819e+05 0.00e+00 1.00e+02  -1.1 1.74e+00    -  1.00e+00 9.09e-13f 41\n",
      "  19  1.1849819e+05 0.00e+00 1.00e+02  -1.1 1.74e+00    -  1.00e+00 3.64e-12f 39\n",
      "iter    objective    inf_pr   inf_du lg(mu)  ||d||  lg(rg) alpha_du alpha_pr  ls\n",
      "  20  1.1849819e+05 0.00e+00 1.00e+02  -1.1 1.74e+00    -  1.00e+00 1.82e-12f 40\n",
      "  21  1.1849819e+05 0.00e+00 1.00e+02  -1.1 1.74e+00    -  1.00e+00 4.55e-13f 42\n",
      "  22  1.1849819e+05 0.00e+00 1.00e+02  -1.1 1.74e+00    -  1.00e+00 9.09e-13f 41\n",
      "  23  1.1849819e+05 0.00e+00 1.00e+02  -1.1 1.74e+00    -  1.00e+00 1.14e-13f 44\n",
      "  24  1.1849819e+05 0.00e+00 1.00e+02  -1.1 1.74e+00    -  1.00e+00 2.27e-13f 43\n",
      "  25  1.1869392e+05 0.00e+00 7.64e+00  -1.1 1.74e+00    -  1.00e+00 1.00e+00w  1\n",
      "  26  1.1897289e+05 0.00e+00 2.35e+01  -1.1 1.64e+00    -  1.00e+00 1.00e+00w  1\n",
      "  27  1.1909722e+05 0.00e+00 6.16e+00  -1.1 6.84e-01    -  1.00e+00 1.00e+00w  1\n",
      "  28  1.1849819e+05 0.00e+00 1.00e+02  -1.1 2.76e-01    -  1.00e+00 1.82e-12f 39\n",
      "  29  1.1849819e+05 0.00e+00 1.00e+02  -1.1 1.74e+00    -  1.00e+00 1.82e-12f 40\n",
      "iter    objective    inf_pr   inf_du lg(mu)  ||d||  lg(rg) alpha_du alpha_pr  ls\n",
      "  30  1.1849819e+05 0.00e+00 1.00e+02  -1.1 1.74e+00    -  1.00e+00 3.64e-12f 39\n",
      "  31  1.1849819e+05 0.00e+00 1.00e+02  -1.1 1.74e+00    -  1.00e+00 1.14e-13f 44\n",
      "  32  1.1849819e+05 0.00e+00 1.00e+02  -1.1 1.74e+00    -  1.00e+00 1.82e-12f 40\n",
      "  33  1.1849819e+05 0.00e+00 1.00e+02  -1.1 1.74e+00    -  1.00e+00 4.55e-13f 42\n",
      "  34  1.1849819e+05 0.00e+00 1.00e+02  -1.1 1.74e+00    -  1.00e+00 4.55e-13f 42\n",
      "  35  1.1849819e+05 0.00e+00 1.00e+02  -1.1 1.74e+00    -  1.00e+00 4.55e-13f 42\n",
      "  36  1.1849819e+05 0.00e+00 1.00e+02  -1.1 1.74e+00    -  1.00e+00 9.09e-13f 41\n",
      "  37  1.1849819e+05 0.00e+00 1.00e+02  -1.1 1.74e+00    -  1.00e+00 1.82e-12f 40\n",
      "  38  1.1869392e+05 0.00e+00 7.64e+00  -1.1 1.74e+00    -  1.00e+00 1.00e+00w  1\n",
      "  39  1.1897289e+05 0.00e+00 2.35e+01  -1.1 1.64e+00    -  1.00e+00 1.00e+00w  1\n",
      "iter    objective    inf_pr   inf_du lg(mu)  ||d||  lg(rg) alpha_du alpha_pr  ls\n",
      "  40  1.1909722e+05 0.00e+00 6.16e+00  -1.1 6.84e-01    -  1.00e+00 1.00e+00w  1\n",
      "  41  1.1849819e+05 0.00e+00 1.00e+02  -1.1 2.76e-01    -  1.00e+00 2.27e-13f 42\n",
      "  42  1.1849819e+05 0.00e+00 1.00e+02  -1.1 1.74e+00    -  1.00e+00 2.27e-13f 43\n",
      "  43  1.1849819e+05 0.00e+00 1.00e+02  -1.1 1.74e+00    -  1.00e+00 7.28e-12f 38\n",
      "  44  1.1849819e+05 0.00e+00 1.00e+02  -1.1 1.74e+00    -  1.00e+00 9.09e-13f 41\n",
      "  45  1.1849819e+05 0.00e+00 1.00e+02  -1.1 1.74e+00    -  1.00e+00 1.82e-12f 40\n",
      "  46  1.1849819e+05 0.00e+00 1.00e+02  -1.1 1.74e+00    -  1.00e+00 9.09e-13f 41\n",
      "  47  1.1849819e+05 0.00e+00 1.00e+02  -1.1 1.74e+00    -  1.00e+00 1.82e-12f 40\n",
      "  48  1.1849819e+05 0.00e+00 1.00e+02  -1.1 1.74e+00    -  1.00e+00 9.09e-13f 41\n",
      "  49  1.1849819e+05 0.00e+00 1.00e+02  -1.1 1.74e+00    -  1.00e+00 4.55e-13f 42\n",
      "iter    objective    inf_pr   inf_du lg(mu)  ||d||  lg(rg) alpha_du alpha_pr  ls\n",
      "  50  1.1849819e+05 0.00e+00 1.00e+02  -1.1 1.74e+00    -  1.00e+00 1.82e-12f 40\n",
      "  51  1.1869392e+05 0.00e+00 7.64e+00  -1.1 1.74e+00    -  1.00e+00 1.00e+00w  1\n",
      "  52  1.1897289e+05 0.00e+00 2.35e+01  -1.1 1.64e+00    -  1.00e+00 1.00e+00w  1\n",
      "  53  1.1909722e+05 0.00e+00 6.16e+00  -1.1 6.84e-01    -  1.00e+00 1.00e+00w  1\n",
      "  54  1.1849819e+05 0.00e+00 1.00e+02  -1.1 2.76e-01    -  1.00e+00 1.82e-12f 39\n",
      "  55  1.1849819e+05 0.00e+00 1.00e+02  -1.1 1.74e+00    -  1.00e+00 1.82e-12f 40\n",
      "  56  1.1849819e+05 0.00e+00 1.00e+02  -1.1 1.74e+00    -  1.00e+00 4.55e-13f 42\n",
      "  57  1.1849819e+05 0.00e+00 1.00e+02  -1.1 1.74e+00    -  1.00e+00 4.55e-13f 42\n",
      "  58  1.1849819e+05 0.00e+00 1.00e+02  -1.1 1.74e+00    -  1.00e+00 9.09e-13f 41\n",
      "  59  1.1849819e+05 0.00e+00 1.00e+02  -1.1 1.74e+00    -  1.00e+00 1.82e-12f 40\n",
      "iter    objective    inf_pr   inf_du lg(mu)  ||d||  lg(rg) alpha_du alpha_pr  ls\n",
      "  60  1.1849819e+05 0.00e+00 1.00e+02  -1.1 1.74e+00    -  1.00e+00 3.64e-12f 39\n",
      "  61  1.1849819e+05 0.00e+00 1.00e+02  -1.1 1.74e+00    -  1.00e+00 1.82e-12f 40\n",
      "  62  1.1849819e+05 0.00e+00 1.00e+02  -1.1 1.74e+00    -  1.00e+00 9.09e-13f 41\n",
      "  63  1.1849819e+05 0.00e+00 1.00e+02  -1.1 1.74e+00    -  1.00e+00 4.55e-13f 42\n",
      "  64  1.1869392e+05 0.00e+00 7.64e+00  -1.1 1.74e+00    -  1.00e+00 1.00e+00w  1\n",
      "  65  1.1897289e+05 0.00e+00 2.35e+01  -1.1 1.64e+00    -  1.00e+00 1.00e+00w  1\n",
      "  66  1.1909722e+05 0.00e+00 6.16e+00  -1.1 6.84e-01    -  1.00e+00 1.00e+00w  1\n",
      "  67  1.1849819e+05 0.00e+00 1.00e+02  -1.1 2.76e-01    -  1.00e+00 9.09e-13f 40\n",
      "  68  1.1849819e+05 0.00e+00 1.00e+02  -1.1 1.74e+00    -  1.00e+00 7.28e-12f 38\n",
      "  69  1.1849819e+05 0.00e+00 1.00e+02  -1.1 1.74e+00    -  1.00e+00 1.82e-12f 40\n",
      "iter    objective    inf_pr   inf_du lg(mu)  ||d||  lg(rg) alpha_du alpha_pr  ls\n",
      "  70  1.1849819e+05 0.00e+00 1.00e+02  -1.1 1.74e+00    -  1.00e+00 9.09e-13f 41\n",
      "  71  1.1849819e+05 0.00e+00 1.00e+02  -1.1 1.74e+00    -  1.00e+00 4.55e-13f 42\n",
      "  72  1.1849819e+05 0.00e+00 1.00e+02  -1.1 1.74e+00    -  1.00e+00 9.09e-13f 41\n",
      "  73  1.1849819e+05 0.00e+00 1.00e+02  -1.1 1.74e+00    -  1.00e+00 9.09e-13f 41\n",
      "  74  1.1849819e+05 0.00e+00 1.00e+02  -1.1 1.74e+00    -  1.00e+00 9.09e-13f 41\n",
      "  75  1.1849819e+05 0.00e+00 1.00e+02  -1.1 1.74e+00    -  1.00e+00 4.55e-13f 42\n",
      "  76  1.1849819e+05 0.00e+00 1.00e+02  -1.1 1.74e+00    -  1.00e+00 7.28e-12f 38\n",
      "  77  1.1869392e+05 0.00e+00 7.64e+00  -1.1 1.74e+00    -  1.00e+00 1.00e+00w  1\n",
      "  78  1.1897289e+05 0.00e+00 2.35e+01  -1.1 1.64e+00    -  1.00e+00 1.00e+00w  1\n",
      "  79  1.1909722e+05 0.00e+00 6.16e+00  -1.1 6.84e-01    -  1.00e+00 1.00e+00w  1\n",
      "iter    objective    inf_pr   inf_du lg(mu)  ||d||  lg(rg) alpha_du alpha_pr  ls\n",
      "  80  1.1849819e+05 0.00e+00 1.00e+02  -1.1 2.76e-01    -  1.00e+00 9.09e-13f 40\n",
      "  81  1.1849819e+05 0.00e+00 1.00e+02  -1.1 1.74e+00    -  1.00e+00 7.28e-12f 38\n",
      "  82  1.1849819e+05 0.00e+00 1.00e+02  -1.1 1.74e+00    -  1.00e+00 2.27e-13f 43\n",
      "  83  1.1849819e+05 0.00e+00 1.00e+02  -1.1 1.74e+00    -  1.00e+00 4.55e-13f 42\n",
      "  84  1.1849819e+05 0.00e+00 1.00e+02  -1.1 1.74e+00    -  1.00e+00 2.27e-13f 43\n",
      "  85  1.1849819e+05 0.00e+00 1.00e+02  -1.1 1.74e+00    -  1.00e+00 3.64e-12f 39\n",
      "  86  1.1849819e+05 0.00e+00 1.00e+02  -1.1 1.74e+00    -  1.00e+00 1.46e-11f 37\n",
      "  87  1.1849819e+05 0.00e+00 1.00e+02  -1.1 1.74e+00    -  1.00e+00 7.28e-12f 38\n",
      "  88  1.1849819e+05 0.00e+00 1.00e+02  -1.1 1.74e+00    -  1.00e+00 4.55e-13f 42\n",
      "  89  1.1849819e+05 0.00e+00 1.00e+02  -1.1 1.74e+00    -  1.00e+00 9.09e-13f 41\n",
      "iter    objective    inf_pr   inf_du lg(mu)  ||d||  lg(rg) alpha_du alpha_pr  ls\n",
      "  90  1.1869392e+05 0.00e+00 7.64e+00  -1.1 1.74e+00    -  1.00e+00 1.00e+00w  1\n",
      "  91  1.1897289e+05 0.00e+00 2.35e+01  -1.1 1.64e+00    -  1.00e+00 1.00e+00w  1\n",
      "  92  1.1909722e+05 0.00e+00 6.16e+00  -1.1 6.84e-01    -  1.00e+00 1.00e+00w  1\n",
      "  93  1.1849819e+05 0.00e+00 1.00e+02  -1.1 2.76e-01    -  1.00e+00 7.28e-12f 37\n",
      "  94  1.1849819e+05 0.00e+00 1.00e+02  -1.1 1.74e+00    -  1.00e+00 9.09e-13f 41\n",
      "  95  1.1849819e+05 0.00e+00 1.00e+02  -1.1 1.74e+00    -  1.00e+00 2.27e-13f 43\n",
      "  96  1.1849819e+05 0.00e+00 1.00e+02  -1.1 1.74e+00    -  1.00e+00 4.55e-13f 42\n",
      "  97  1.1849819e+05 0.00e+00 1.00e+02  -1.1 1.74e+00    -  1.00e+00 4.55e-13f 42\n",
      "  98  1.1849819e+05 0.00e+00 1.00e+02  -1.1 1.74e+00    -  1.00e+00 3.64e-12f 39\n",
      "  99  1.1849819e+05 0.00e+00 1.00e+02  -1.1 1.74e+00    -  1.00e+00 1.82e-12f 40\n",
      "iter    objective    inf_pr   inf_du lg(mu)  ||d||  lg(rg) alpha_du alpha_pr  ls\n",
      " 100  1.1849819e+05 0.00e+00 1.00e+02  -1.1 1.74e+00    -  1.00e+00 4.55e-13f 42\n",
      "\n",
      "Number of Iterations....: 100\n",
      "\n",
      "                                   (scaled)                 (unscaled)\n",
      "Objective...............:   5.5854085970343785e+03    1.1849819010251868e+05\n",
      "Dual infeasibility......:   9.9999999985836268e+01    2.1215670801354186e+03\n",
      "Constraint violation....:   0.0000000000000000e+00    0.0000000000000000e+00\n",
      "Complementarity.........:   8.2276265259017461e-02    1.7455461587474430e+00\n",
      "Overall NLP error.......:   9.9999999985836268e+01    2.1215670801354186e+03\n",
      "\n",
      "\n",
      "Number of objective function evaluations             = 3546\n",
      "Number of objective gradient evaluations             = 101\n",
      "Number of equality constraint evaluations            = 0\n",
      "Number of inequality constraint evaluations          = 0\n",
      "Number of equality constraint Jacobian evaluations   = 0\n",
      "Number of inequality constraint Jacobian evaluations = 0\n",
      "Number of Lagrangian Hessian evaluations             = 100\n",
      "Total CPU secs in IPOPT (w/o function evaluations)   =      1.017\n",
      "Total CPU secs in NLP function evaluations           =    339.649\n",
      "\n",
      "EXIT: Maximum Number of Iterations Exceeded.\n",
      "310.142547 seconds (1.17 G allocations: 82.659 GiB, 9.27% gc time, 0.02% compilation time)"
     ]
    },
    {
     "name": "stderr",
     "output_type": "stream",
     "text": [
      "┌ Warning: Optimization unsuccesful; got UserLimit\n",
      "└ @ GLMCopula /Users/biona001/.julia/dev/GLMCopula/src/parameter_estimation/fit_nb.jl:30\n"
     ]
    },
    {
     "name": "stdout",
     "output_type": "stream",
     "text": [
      "\n"
     ]
    },
    {
     "data": {
      "text/plain": [
       "-118498.19010251868"
      ]
     },
     "execution_count": 8,
     "metadata": {},
     "output_type": "execute_result"
    }
   ],
   "source": [
    "@time GLMCopula.fit!(gcm, IpoptSolver(print_level = 5, max_iter = 100, \n",
    "    tol = 10^-6, mu_strategy = \"adaptive\", mu_oracle = \"loqo\",\n",
    "    hessian_approximation = \"exact\"))"
   ]
  },
  {
   "cell_type": "code",
   "execution_count": 9,
   "metadata": {
    "collapsed": false
   },
   "outputs": [
    {
     "name": "stdout",
     "output_type": "stream",
     "text": [
      "estimated β = 1.431700604659203; true β = 1.4552872326068422\n",
      "estimated variance component 1 = 0.14165778449786529; true variance component 1 = 0.1\n",
      "estimated variance component 2 = 0.5807584133259613; true variance component 2 = 0.5\n",
      "estimated r = 5.676937046097018; true r = 10\n"
     ]
    }
   ],
   "source": [
    "println(\"estimated β = $(gcm.β[1]); true β = $β_true\")\n",
    "println(\"estimated variance component 1 = $(gcm.Σ[1]); true variance component 1 = $variance_component_1\")\n",
    "println(\"estimated variance component 2 = $(gcm.Σ[2]); true variance component 2 = $variance_component_2\")\n",
    "println(\"estimated r = $(gcm.r[1]); true r = $r\");"
   ]
  },
  {
   "cell_type": "code",
   "execution_count": 10,
   "metadata": {
    "collapsed": false
   },
   "outputs": [
    {
     "data": {
      "text/plain": [
       "4-element Vector{Float64}:\n",
       " 2121.5670801354186\n",
       "  -71.10375733934279\n",
       "   12.900327891814868\n",
       "  443.90634061495734"
      ]
     },
     "execution_count": 10,
     "metadata": {},
     "output_type": "execute_result"
    }
   ],
   "source": [
    "gcm.∇θ"
   ]
  },
  {
   "cell_type": "code",
   "execution_count": null,
   "metadata": {
    "collapsed": true
   },
   "outputs": [],
   "source": []
  }
 ],
 "metadata": {
  "@webio": {
   "lastCommId": null,
   "lastKernelId": null
  },
  "kernelspec": {
   "display_name": "Julia 1.6.0",
   "language": "julia",
   "name": "julia-1.6"
  },
  "language_info": {
   "file_extension": ".jl",
   "mimetype": "application/julia",
   "name": "julia",
   "version": "1.6.0"
  },
  "toc": {
   "base_numbering": 1,
   "nav_menu": {},
   "number_sections": true,
   "sideBar": true,
   "skip_h1_title": false,
   "title_cell": "Table of Contents",
   "title_sidebar": "Contents",
   "toc_cell": false,
   "toc_position": {},
   "toc_section_display": true,
   "toc_window_display": false
  }
 },
 "nbformat": 4,
 "nbformat_minor": 2
}
