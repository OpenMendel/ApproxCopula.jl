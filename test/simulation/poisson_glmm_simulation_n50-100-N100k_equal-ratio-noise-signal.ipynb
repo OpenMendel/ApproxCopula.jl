{
 "cells": [
  {
   "cell_type": "markdown",
   "metadata": {},
   "source": [
    "## Let n_i range between 50 and 100 observations simulate under GLMM\n",
    "\n",
    "Instead of simulating the random vector element by element and then doing this 100,000 times, here we check the robustness of the estimation procedure by using a more standard way to simulate from the GLMM model. \n",
    "\n",
    "We simulate the multivariate normal systematic component with the random effects and then use the inverse link function for each entry to let $\\mu_i = g^{-1}(\\eta_i)$ be the rate of the GLMM poisson response.\n",
    "\n",
    "$\\beta = \\begin{pmatrix} 1 \\\\ 1\\\\ 1 \\end{pmatrix}$\n",
    "\n",
    "$n_i = 20$\n",
    "\n",
    "$V_1 = 1_n 1_n^t, V_2 = I_n$\n",
    "\n",
    "$\\Gamma = 0.1 * V_1 + 0.1 * V_2$"
   ]
  },
  {
   "cell_type": "code",
   "execution_count": 1,
   "metadata": {},
   "outputs": [
    {
     "name": "stderr",
     "output_type": "stream",
     "text": [
      "┌ Info: Precompiling GLMCopula [c47b6ae2-b804-4668-9957-eb588c99ffbc]\n",
      "└ @ Base loading.jl:1278\n"
     ]
    }
   ],
   "source": [
    "using GLMCopula, Random, LinearAlgebra, GLM\n",
    "\n",
    "Random.seed!(123)\n",
    "\n",
    "n = 1000  # number of observations\n",
    "# # n_i = 5\n",
    "ns = rand(50:100, n) # ni in each observation\n",
    "ns = [n_i for i in 1:n]\n",
    "p = 3   # number of mean parameters\n",
    "m = 2   # number of variance components\n",
    "\n",
    "dist = Poisson()\n",
    "link = LogLink()\n",
    "D = typeof(dist)\n",
    "\n",
    "gcs = Vector{GLMCopulaVCObs{Float64, D}}(undef, n)\n",
    "# true parameter values\n",
    "βtruth = ones(p)\n",
    "σ2truth = [0.1; 0.1]\n",
    "for i in 1:n\n",
    "    ni = ns[i]\n",
    "    # set up covariance matrix\n",
    "    V1 = ones(ni, ni)\n",
    "    V2 = Matrix(I, ni, ni)\n",
    "    Ω = σ2truth[1] * V1 + σ2truth[2] * V2\n",
    "    \n",
    "    Ωchol = cholesky(Symmetric(Ω))\n",
    "    # simulate design matrix\n",
    "    X = [ones(ni) randn(ni, p-1)]\n",
    "    # generate mvn systematic \n",
    "    η = X * βtruth + Ωchol.L * randn(ni)\n",
    "    \n",
    "    # generate mu for glm \n",
    "    μ = GLM.linkinv.(link, η)\n",
    "    # generate poisson response\n",
    "\n",
    "    y = Float64.(rand.(Poisson.(μ)))\n",
    "    \n",
    "    # add to data\n",
    "    gcs[i] = GLMCopulaVCObs(y, X, [V1, V2], dist)\n",
    "end\n",
    "\n",
    "gcm = GLMCopulaVCModel(gcs);"
   ]
  },
  {
   "cell_type": "code",
   "execution_count": 2,
   "metadata": {},
   "outputs": [
    {
     "name": "stderr",
     "output_type": "stream",
     "text": [
      "┌ Info: Initial point:\n",
      "└ @ Main In[2]:1\n"
     ]
    },
    {
     "name": "stdout",
     "output_type": "stream",
     "text": [
      "1 0.0 -1.5225484584499385e7 39999\n",
      "2 -1.5225484584499385e7 -8.654824756260166e6 9999\n",
      "3 -8.654824756260166e6 -3.704095406036299e6 9999\n",
      "4 -3.704095406036299e6 -1.803238753228862e6 9999\n",
      "5 -1.803238753228862e6 -1.4208361950781124e6 9999\n",
      "6 -1.4208361950781124e6 -1.3989401662315985e6 9999\n",
      "7 -1.3989401662315985e6 -1.3988427030428154e6 9999\n",
      "8 -1.3988427030428154e6 -1.398842700848381e6 9999\n",
      "gcm.β = [1.100169656898577, 0.998566223906785, 0.9956295138855477]\n",
      "inv.(gcm.τ) = [1.0]\n",
      "gcm.Σ = [113.3815332845778, 16.087371166535945]\n",
      "loglikelihood!(gcm, true, true) = -1.3792553331086917e6\n"
     ]
    }
   ],
   "source": [
    "@info \"Initial point:\"\n",
    "initialize_model!(gcm);\n",
    "@show gcm.β\n",
    "fill!(gcm.Σ, 1)\n",
    "update_Σ!(gcm)\n",
    "@show inv.(gcm.τ)\n",
    "@show gcm.Σ\n",
    "@show loglikelihood!(gcm, true, true);"
   ]
  },
  {
   "cell_type": "code",
   "execution_count": 3,
   "metadata": {},
   "outputs": [
    {
     "name": "stdout",
     "output_type": "stream",
     "text": [
      "gcm.Σ = [186.0186079639302, 26.43536935910852]\n",
      "gcm.Σ = [251.72588182761857, 35.796288129745406]\n",
      "\n",
      "******************************************************************************\n",
      "This program contains Ipopt, a library for large-scale nonlinear optimization.\n",
      " Ipopt is released as open source code under the Eclipse Public License (EPL).\n",
      "         For more information visit https://github.com/coin-or/Ipopt\n",
      "******************************************************************************\n",
      "\n",
      "This is Ipopt version 3.13.4, running with linear solver mumps.\n",
      "NOTE: Other linear solvers might be more efficient (see Ipopt documentation).\n",
      "\n",
      "Number of nonzeros in equality constraint Jacobian...:        0\n",
      "Number of nonzeros in inequality constraint Jacobian.:        0\n",
      "Number of nonzeros in Lagrangian Hessian.............:        6\n",
      "\n",
      "Total number of variables............................:        3\n",
      "                     variables with only lower bounds:        0\n",
      "                variables with lower and upper bounds:        0\n",
      "                     variables with only upper bounds:        0\n",
      "Total number of equality constraints.................:        0\n",
      "Total number of inequality constraints...............:        0\n",
      "        inequality constraints with only lower bounds:        0\n",
      "   inequality constraints with lower and upper bounds:        0\n",
      "        inequality constraints with only upper bounds:        0\n",
      "\n",
      "iter    objective    inf_pr   inf_du lg(mu)  ||d||  lg(rg) alpha_du alpha_pr  ls\n",
      "   0  1.3792553e+06 0.00e+00 1.00e+02  -1.0 0.00e+00    -  0.00e+00 0.00e+00   0\n",
      "gcm.Σ = [486.59026360623557, 68.78991842154741]\n",
      "   1  1.3792450e+06 0.00e+00 1.42e-01  -1.0 3.65e-03    -  1.00e+00 1.00e+00f  1\n",
      "gcm.Σ = [648.9420537947187, 91.76269257743303]\n",
      "   2  1.3792450e+06 0.00e+00 6.59e-04  -2.5 7.04e-06    -  1.00e+00 1.00e+00f  1\n",
      "gcm.Σ = [807.22393433347, 114.16041236736545]\n",
      "   3  1.3792450e+06 0.00e+00 6.94e-04  -5.7 4.14e-08    -  1.00e+00 1.00e+00f  1\n",
      "gcm.Σ = [962.9549087792577, 136.19717768478907]\n",
      "   4  1.3792450e+06 0.00e+00 4.65e-04  -5.7 4.02e-08    -  1.00e+00 1.00e+00f  1\n",
      "gcm.Σ = [1026.2585884067746, 145.15499182378053]\n",
      "   5  1.3792450e+06 0.00e+00 1.50e-04  -5.7 2.68e-08    -  1.00e+00 1.00e+00f  1\n",
      "gcm.Σ = [1026.261668814115, 145.15542920388893]\n",
      "   6  1.3792450e+06 0.00e+00 5.51e-07  -5.7 8.67e-09    -  1.00e+00 1.00e+00f  1\n",
      "gcm.Σ = [1026.2647500504327, 145.15586575488553]\n",
      "   7  1.3792450e+06 0.00e+00 5.75e-08  -8.6 2.95e-11    -  1.00e+00 1.00e+00f  1\n",
      "gcm.Σ = [1026.2678316796178, 145.15630191250168]\n",
      "   8  1.3792450e+06 0.00e+00 1.52e-08  -8.6 2.71e-12    -  1.00e+00 1.00e+00f  1\n",
      "gcm.Σ = [1026.2709133743042, 145.15673800395103]\n",
      "   9  1.3792450e+06 0.00e+00 8.21e-09  -9.0 7.76e-13    -  1.00e+00 1.00e+00f  1\n",
      "\n",
      "Number of Iterations....: 9\n",
      "\n",
      "                                   (scaled)                 (unscaled)\n",
      "Objective...............:   1.8719151356891663e+04    1.3792450236615608e+06\n",
      "Dual infeasibility......:   8.2124513570869279e-09    6.0510129173962923e-07\n",
      "Constraint violation....:   0.0000000000000000e+00    0.0000000000000000e+00\n",
      "Complementarity.........:   0.0000000000000000e+00    0.0000000000000000e+00\n",
      "Overall NLP error.......:   8.2124513570869279e-09    6.0510129173962923e-07\n",
      "\n",
      "\n",
      "Number of objective function evaluations             = 10\n",
      "Number of objective gradient evaluations             = 10\n",
      "Number of equality constraint evaluations            = 0\n",
      "Number of inequality constraint evaluations          = 0\n",
      "Number of equality constraint Jacobian evaluations   = 0\n",
      "Number of inequality constraint Jacobian evaluations = 0\n",
      "Number of Lagrangian Hessian evaluations             = 9\n",
      "Total CPU secs in IPOPT (w/o function evaluations)   =     18.248\n",
      "Total CPU secs in NLP function evaluations           =    369.491\n",
      "\n",
      "EXIT: Optimal Solution Found.\n",
      " 65.497036 seconds (128.44 M allocations: 13.814 GiB, 5.91% gc time)\n"
     ]
    }
   ],
   "source": [
    "@time fit2!(gcm, IpoptSolver(print_level = 5, max_iter = 500, hessian_approximation = \"exact\"))"
   ]
  },
  {
   "cell_type": "code",
   "execution_count": 4,
   "metadata": {},
   "outputs": [
    {
     "name": "stdout",
     "output_type": "stream",
     "text": [
      "gcm.β = [1.1038263650669933, 0.9975545506624504, 0.9947757178780307]\n",
      "inv.(gcm.τ) = [1.0]\n",
      "gcm.Σ = [1026.2709133743042, 145.15673800395103]\n",
      "gcm.∇β = [-6.051012917396292e-7, 3.4235327461829e-8, 4.798690156349039e-8]\n",
      "loglikelihood!(gcm, true, true) = -1.379245023661551e6\n"
     ]
    }
   ],
   "source": [
    "@show gcm.β\n",
    "@show inv.(gcm.τ)\n",
    "@show gcm.Σ\n",
    "@show gcm.∇β\n",
    "@show loglikelihood!(gcm, true, true);"
   ]
  },
  {
   "cell_type": "markdown",
   "metadata": {},
   "source": [
    "### Now with different V1, V2"
   ]
  },
  {
   "cell_type": "code",
   "execution_count": 5,
   "metadata": {},
   "outputs": [],
   "source": [
    "n = 10000  # number of observations\n",
    "# n_i = 5\n",
    "ns = rand(5:100, n) # ni in each observation\n",
    "# ns = [n_i for i in 1:n]\n",
    "p = 3   # number of mean parameters\n",
    "m = 2   # number of variance components\n",
    "\n",
    "dist = Poisson()\n",
    "link = LogLink()\n",
    "D = typeof(dist)\n",
    "\n",
    "gcs = Vector{GLMCopulaVCObs{Float64, D}}(undef, n)\n",
    "# true parameter values\n",
    "βtruth = ones(p)\n",
    "σ2truth = [0.1; 0.1]\n",
    "for i in 1:n\n",
    "    ni = ns[i]\n",
    "    # set up covariance matrix\n",
    "    V1 = convert(Matrix, Symmetric([Float64(i * (ni - j + 1)) for i in 1:ni, j in 1:ni])) # a pd matrix\n",
    "    V1 ./= norm(V1) / sqrt(ni) # scale to have Frobenius norm sqrt(n)\n",
    "    prob = fill(1/ni, ni)\n",
    "    V2 = ni .* (Diagonal(prob) - prob * transpose(prob))\n",
    "    V2 ./= norm(V2) / sqrt(ni) # scale to have Frobenious norm sqrt(n)\n",
    "    Ω = σ2truth[1] * V1 + σ2truth[2] * V2\n",
    "    \n",
    "#     V1 = ones(ni, ni)\n",
    "#     V2 = Matrix(I, ni, ni)\n",
    "#     Ω = σ2truth[1] * V1 + σ2truth[2] * V2\n",
    "    \n",
    "    Ωchol = cholesky(Symmetric(Ω))\n",
    "    # simulate design matrix\n",
    "    X = [ones(ni) randn(ni, p-1)]\n",
    "    # generate mvn systematic \n",
    "    η = X * βtruth + Ωchol.L * randn(ni)\n",
    "    \n",
    "    # generate mu for glm \n",
    "    μ = GLM.linkinv.(link, η)\n",
    "    # generate poisson response\n",
    "\n",
    "    y = Float64.(rand.(Poisson.(μ)))\n",
    "    \n",
    "    # add to data\n",
    "    gcs[i] = GLMCopulaVCObs(y, X, [V1, V2], dist)\n",
    "end\n",
    "\n",
    "gcm = GLMCopulaVCModel(gcs);"
   ]
  },
  {
   "cell_type": "code",
   "execution_count": 6,
   "metadata": {},
   "outputs": [
    {
     "name": "stderr",
     "output_type": "stream",
     "text": [
      "┌ Info: Initial point:\n",
      "└ @ Main In[6]:1\n"
     ]
    },
    {
     "name": "stdout",
     "output_type": "stream",
     "text": [
      "1 0.0 -1.4755855524274368e7 39999\n",
      "2 -1.4755855524274368e7 -8.3548837492566295e6 9999\n",
      "3 -8.3548837492566295e6 -3.5120074376095557e6 9999\n",
      "4 -3.5120074376095557e6 -1.6336893070059638e6 9999\n",
      "5 -1.6336893070059638e6 -1.252653457568916e6 9999\n",
      "6 -1.252653457568916e6 -1.2303635850738666e6 9999\n",
      "7 -1.2303635850738666e6 -1.230259963694212e6 9999\n",
      "8 -1.230259963694212e6 -1.2302599611448387e6 9999\n",
      "gcm.β = [1.060414667922023, 0.9996920374294288, 0.9995099876005409]\n",
      "inv.(gcm.τ) = [1.0]\n",
      "gcm.Σ = [2639.0715303065854, 138.65963246741035]\n"
     ]
    }
   ],
   "source": [
    "@info \"Initial point:\"\n",
    "initialize_model!(gcm);\n",
    "@show gcm.β\n",
    "fill!(gcm.Σ, 1)\n",
    "update_Σ!(gcm)\n",
    "@show inv.(gcm.τ)\n",
    "@show gcm.Σ\n",
    "loglikelihood!(gcm, true, true);"
   ]
  },
  {
   "cell_type": "code",
   "execution_count": 7,
   "metadata": {},
   "outputs": [
    {
     "name": "stdout",
     "output_type": "stream",
     "text": [
      "gcm.Σ = [5272.016320847243, 277.0313453309274]\n",
      "gcm.Σ = [7904.8725982142405, 415.39840494976755]\n",
      "This is Ipopt version 3.13.4, running with linear solver mumps.\n",
      "NOTE: Other linear solvers might be more efficient (see Ipopt documentation).\n",
      "\n",
      "Number of nonzeros in equality constraint Jacobian...:        0\n",
      "Number of nonzeros in inequality constraint Jacobian.:        0\n",
      "Number of nonzeros in Lagrangian Hessian.............:        6\n",
      "\n",
      "Total number of variables............................:        3\n",
      "                     variables with only lower bounds:        0\n",
      "                variables with lower and upper bounds:        0\n",
      "                     variables with only upper bounds:        0\n",
      "Total number of equality constraints.................:        0\n",
      "Total number of inequality constraints...............:        0\n",
      "        inequality constraints with only lower bounds:        0\n",
      "   inequality constraints with lower and upper bounds:        0\n",
      "        inequality constraints with only upper bounds:        0\n",
      "\n",
      "iter    objective    inf_pr   inf_du lg(mu)  ||d||  lg(rg) alpha_du alpha_pr  ls\n",
      "   0  1.2221169e+06 0.00e+00 1.00e+02  -1.0 0.00e+00    -  0.00e+00 0.00e+00   0\n",
      "gcm.Σ = [18426.01775346212, 973.0271050131482]\n",
      "   1  1.2221154e+06 0.00e+00 6.81e-01  -1.0 1.58e-03    -  1.00e+00 1.00e+00f  1\n",
      "gcm.Σ = [26326.714409779866, 1390.2902199058121]\n",
      "   2  1.2221154e+06 0.00e+00 3.40e-03  -1.7 8.13e-06    -  1.00e+00 1.00e+00f  1\n",
      "gcm.Σ = [34227.48124669877, 1807.5331132735562]\n",
      "   3  1.2221154e+06 0.00e+00 1.91e-04  -3.8 4.23e-08    -  1.00e+00 1.00e+00f  1\n",
      "gcm.Σ = [42128.231933199066, 2224.7749952463832]\n",
      "   4  1.2221154e+06 0.00e+00 1.10e-04  -5.7 3.06e-09    -  1.00e+00 1.00e+00f  1\n",
      "gcm.Σ = [50028.97165739691, 2642.016296011261]\n",
      "   5  1.2221154e+06 0.00e+00 7.54e-05  -5.7 1.81e-09    -  1.00e+00 1.00e+00f  1\n",
      "gcm.Σ = [52670.713797833654, 2781.527786563836]\n",
      "   6  1.2221154e+06 0.00e+00 2.04e-05  -5.7 1.24e-09    -  1.00e+00 1.00e+00f  1\n",
      "gcm.Σ = [52670.87181074556, 2781.5361317928023]\n",
      "   7  1.2221154e+06 0.00e+00 9.02e-08  -5.7 3.34e-10    -  1.00e+00 1.00e+00f  1\n",
      "gcm.Σ = [52671.02982336238, 2781.5444770909526]\n",
      "   8  1.2221154e+06 0.00e+00 9.85e-09  -8.6 1.23e-12    -  1.00e+00 1.00e+00f  1\n",
      "\n",
      "Number of Iterations....: 8\n",
      "\n",
      "                                   (scaled)                 (unscaled)\n",
      "Objective...............:   8.4239023280969501e+04    1.2221153613217657e+06\n",
      "Dual infeasibility......:   9.8520851698690348e-09    1.4293119932062837e-07\n",
      "Constraint violation....:   0.0000000000000000e+00    0.0000000000000000e+00\n",
      "Complementarity.........:   0.0000000000000000e+00    0.0000000000000000e+00\n",
      "Overall NLP error.......:   9.8520851698690348e-09    1.4293119932062837e-07\n",
      "\n",
      "\n",
      "Number of objective function evaluations             = 9\n",
      "Number of objective gradient evaluations             = 9\n",
      "Number of equality constraint evaluations            = 0\n",
      "Number of inequality constraint evaluations          = 0\n",
      "Number of equality constraint Jacobian evaluations   = 0\n",
      "Number of inequality constraint Jacobian evaluations = 0\n",
      "Number of Lagrangian Hessian evaluations             = 8\n",
      "Total CPU secs in IPOPT (w/o function evaluations)   =     19.468\n",
      "Total CPU secs in NLP function evaluations           =    377.539\n",
      "\n",
      "EXIT: Optimal Solution Found.\n",
      " 69.724618 seconds (114.95 M allocations: 12.405 GiB, 3.88% gc time)\n"
     ]
    }
   ],
   "source": [
    "@time fit2!(gcm, IpoptSolver(print_level = 5, max_iter = 500, hessian_approximation = \"exact\"))"
   ]
  },
  {
   "cell_type": "code",
   "execution_count": 8,
   "metadata": {},
   "outputs": [
    {
     "name": "stdout",
     "output_type": "stream",
     "text": [
      "gcm.β = [1.0588268523995237, 1.0002899286031137, 1.0000401120507074]\n",
      "inv.(gcm.τ) = [1.0]\n",
      "gcm.Σ = [52671.02982336238, 2781.5444770909526]\n",
      "loglikelihood!(gcm, true, true) = -1.222115361321756e6\n"
     ]
    }
   ],
   "source": [
    "@show gcm.β\n",
    "@show inv.(gcm.τ)\n",
    "@show gcm.Σ\n",
    "@show loglikelihood!(gcm, true, true);"
   ]
  },
  {
   "cell_type": "code",
   "execution_count": null,
   "metadata": {},
   "outputs": [],
   "source": []
  }
 ],
 "metadata": {
  "@webio": {
   "lastCommId": null,
   "lastKernelId": null
  },
  "kernelspec": {
   "display_name": "Julia 1.5.2",
   "language": "julia",
   "name": "julia-1.5"
  },
  "language_info": {
   "file_extension": ".jl",
   "mimetype": "application/julia",
   "name": "julia",
   "version": "1.5.2"
  }
 },
 "nbformat": 4,
 "nbformat_minor": 4
}
