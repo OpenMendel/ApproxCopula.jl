{
 "cells": [
  {
   "cell_type": "markdown",
   "metadata": {},
   "source": [
    "# Form the Poisson Regression Random Intercept Model: Simulated set\n",
    "\n",
    "In this notebook we will use simulated dataset using MixedModels.jl to test the fit of our copula model on the logistic regression outcome.\n",
    "\n",
    "For a single observation, $i = 1$ we will use ForwardDiff.jl to check the following calculations:\n",
    "\n",
    "    (1) Loglikelihood\n",
    "\n",
    "    (2) Gradient with respect to Beta"
   ]
  },
  {
   "cell_type": "code",
   "execution_count": 1,
   "metadata": {},
   "outputs": [
    {
     "data": {
      "text/plain": [
       "10000-element Array{Array{Float64,1},1}:\n",
       " [5.0, 6.0, 1.0, 2.0, 10.0]\n",
       " [7.0, 1.0, 10.0, 5.0, 13.0]\n",
       " [6.0, 6.0, 3.0, 4.0, 2.0]\n",
       " [1.0, 7.0, 3.0, 8.0, 7.0]\n",
       " [5.0, 1.0, 3.0, 4.0, 6.0]\n",
       " [6.0, 8.0, 6.0, 7.0, 6.0]\n",
       " [11.0, 6.0, 3.0, 1.0, 5.0]\n",
       " [3.0, 5.0, 3.0, 1.0, 4.0]\n",
       " [3.0, 5.0, 10.0, 8.0, 4.0]\n",
       " [5.0, 6.0, 2.0, 4.0, 1.0]\n",
       " [4.0, 7.0, 7.0, 2.0, 3.0]\n",
       " [3.0, 4.0, 7.0, 5.0, 8.0]\n",
       " [5.0, 10.0, 4.0, 3.0, 3.0]\n",
       " ⋮\n",
       " [7.0, 6.0, 6.0, 5.0, 0.0]\n",
       " [7.0, 3.0, 4.0, 7.0, 3.0]\n",
       " [2.0, 7.0, 5.0, 2.0, 3.0]\n",
       " [7.0, 6.0, 5.0, 6.0, 5.0]\n",
       " [5.0, 6.0, 3.0, 7.0, 12.0]\n",
       " [2.0, 8.0, 9.0, 7.0, 10.0]\n",
       " [4.0, 1.0, 6.0, 6.0, 5.0]\n",
       " [7.0, 4.0, 3.0, 5.0, 5.0]\n",
       " [4.0, 1.0, 7.0, 7.0, 2.0]\n",
       " [8.0, 8.0, 5.0, 6.0, 4.0]\n",
       " [7.0, 5.0, 6.0, 2.0, 3.0]\n",
       " [2.0, 6.0, 3.0, 4.0, 4.0]"
      ]
     },
     "execution_count": 1,
     "metadata": {},
     "output_type": "execute_result"
    }
   ],
   "source": [
    "using DataFrames, Random, GLM, GLMCopula\n",
    "using ForwardDiff, Test, LinearAlgebra\n",
    "using LinearAlgebra: BlasReal, copytri!\n",
    "\n",
    "Random.seed!(1235)\n",
    "\n",
    "# sample size\n",
    "N = 10000\n",
    "# observations per subject\n",
    "n = 5\n",
    "\n",
    "variance_component_1 = 0.1\n",
    "variance_component_2 = 0.9\n",
    "\n",
    "mean = 5\n",
    "\n",
    "dist = Poisson\n",
    "\n",
    "Γ = variance_component_1 * ones(n, n) + variance_component_2 * Matrix(I, n, n)\n",
    "vecd = [dist(mean) for i in 1:n]\n",
    "nonmixed_multivariate_dist = NonMixedMultivariateDistribution(vecd, Γ)\n",
    "\n",
    "Y_Nsample = simulate_nobs_independent_vectors(nonmixed_multivariate_dist, N)"
   ]
  },
  {
   "cell_type": "code",
   "execution_count": 3,
   "metadata": {},
   "outputs": [
    {
     "name": "stdout",
     "output_type": "stream",
     "text": [
      "1 0.0 -117045.2600382745 39999\n",
      "2 -117045.2600382745 -117045.2600382745 39999\n",
      "gcm.β = [1.6340954024564622]\n"
     ]
    }
   ],
   "source": [
    "d = Poisson()\n",
    "link = LogLink()\n",
    "D = typeof(d)\n",
    "Link = typeof(link)\n",
    "T = Float64\n",
    "gcs = Vector{GLMCopulaVCObs{T, D, Link}}(undef, N)\n",
    "for i in 1:N\n",
    "    y = Float64.(Y_Nsample[i])\n",
    "    X = ones(n, 1)\n",
    "    V = [ones(n, n), Matrix(I, n, n)]\n",
    "    gcs[i] = GLMCopulaVCObs(y, X, V, d, link)\n",
    "end\n",
    "gcm = GLMCopulaVCModel(gcs);\n",
    "\n",
    "initialize_model!(gcm)\n",
    "@show gcm.β;"
   ]
  },
  {
   "cell_type": "markdown",
   "metadata": {},
   "source": [
    "## MM update for Sigma\n",
    "\n",
    "$$\n",
    "  \\begin{eqnarray}\n",
    "\\mathcal{L}(\\sigma) = - \\sum_i^n \\ln \\left(1 + \\sum_k^m \\sigma_k^2 t_{ik}\\right) + \\sum_i^n \\ln \\left(1 + \\frac{1}{2} \\sum_k^m \\sigma_k^2 q_{ik}\\right)\n",
    "\\end{eqnarray}\n",
    "$$\n",
    "\n",
    "where\n",
    "$$\n",
    "\\begin{eqnarray*}\n",
    "\tt_{ik} &=& \\frac 12 \\text{tr}(\\mathbf{V}_{ik}), \\quad \\mathbf{t}_i = (t_{i1}, \\ldots, t_{im})^T \\\\\n",
    "\tq_{ik} &=& \\frac{1}{2}  \\mathbf{r}_i( \\boldsymbol{\\beta})^T \\mathbf{V}_{ik}  \\mathbf{r}_i (\\boldsymbol{\\beta}), \\quad \\mathbf{q}_i = (q_{i1}, \\ldots, q_{im})^T.\n",
    "\\end{eqnarray*}\n",
    "$$\n",
    "\n",
    "where the $k^{th}$ element in the $m \\times 1$ vector of variance components above is:\n",
    "\n",
    "$$\\begin{eqnarray*}\n",
    "\\sigma_{k}^{2^{(t+1)}} & = & \\sigma_{k}^{2^{(t)}} \\left(\\frac{\\sum_{i=1}^n\n",
    "\\frac{q_{ik}}{1+ q_i^{(t)}}}{\\sum_{i=1}^n \\frac{t_{ik}}{1+ t_i^{(t)}}} \\right).\n",
    "\\end{eqnarray*}\n",
    "$$\n",
    "\n",
    "where $q_i^{(t)} = \\sum_{k=1}^m \\sigma_k^{2(t)} q_{ik}$ and $t_i^{(t)} = \\sum_{k=1}^m \\sigma_k^{2(t)} t_{ik}$. \n",
    "\n",
    "\n",
    "In this case $m = 1$ single variance component to model the random intercept. "
   ]
  },
  {
   "cell_type": "markdown",
   "metadata": {},
   "source": [
    "Initialize β and σ2, here I just copy the solution for β and σ2 from MixedModels.jl over"
   ]
  },
  {
   "cell_type": "code",
   "execution_count": 4,
   "metadata": {},
   "outputs": [
    {
     "name": "stdout",
     "output_type": "stream",
     "text": [
      "gcm.Σ = [0.09165668470529689, 0.703193469117031]\n"
     ]
    },
    {
     "data": {
      "text/plain": [
       "-116209.33278544483"
      ]
     },
     "execution_count": 4,
     "metadata": {},
     "output_type": "execute_result"
    }
   ],
   "source": [
    "fill!(gcm.Σ, 1.0)\n",
    "update_Σ!(gcm)\n",
    "@show gcm.Σ\n",
    "GLMCopula.loglikelihood!(gcm, true, true)"
   ]
  },
  {
   "cell_type": "markdown",
   "metadata": {},
   "source": [
    "Closer Look at Observation 1\n",
    "i =1"
   ]
  },
  {
   "cell_type": "code",
   "execution_count": 5,
   "metadata": {},
   "outputs": [
    {
     "name": "stdout",
     "output_type": "stream",
     "text": [
      "β = [1.6340954024564622]\n",
      "Σ = [0.09165668470529689, 0.703193469117031]\n",
      "τ = [1.0]\n"
     ]
    },
    {
     "data": {
      "text/plain": [
       "5"
      ]
     },
     "execution_count": 5,
     "metadata": {},
     "output_type": "execute_result"
    }
   ],
   "source": [
    "gc = gcm.data[1]\n",
    "β  = gcm.β\n",
    "Σ  = gcm.Σ\n",
    "τ  = gcm.τ\n",
    "\n",
    "@show β\n",
    "@show Σ\n",
    "@show τ\n",
    "\n",
    "n_i  = length(gc.y)"
   ]
  },
  {
   "cell_type": "markdown",
   "metadata": {},
   "source": [
    "## Loglikelihood for observation i = 1, j in [1, n_1]\n",
    "$$\\mathcal{L}(\\mathbf{\\beta})_1 =  - \\ln \\Big[1\\! +\\! \\frac{1}{2}tr(\\mathbf{\\Gamma_{1}})\\Big] +\n",
    "\\ln \\Big\\{1\\!+\\!\\frac{1}{2}\\mathbf{r_1}(\\mathbf{\\beta})^t \\mathbf{\\Gamma_1} \\mathbf{r_1}(\\mathbf{\\beta})\\Big\\} +  \\sum_{j=1}^{n_1}y_{1j}log(\\mu_{1j}(\\mathbf{\\beta})) - \\mu_{1j}(\\mathbf{\\beta})$$"
   ]
  },
  {
   "cell_type": "markdown",
   "metadata": {},
   "source": [
    "### First I want to check if the mean and residuals are updated and standardized at this point"
   ]
  },
  {
   "cell_type": "code",
   "execution_count": 6,
   "metadata": {},
   "outputs": [
    {
     "data": {
      "text/plain": [
       "\u001b[32m\u001b[1mTest Passed\u001b[22m\u001b[39m"
      ]
     },
     "execution_count": 6,
     "metadata": {},
     "output_type": "execute_result"
    }
   ],
   "source": [
    "@test gc.η == gc.X*β                         # systematic linear component\n",
    "@test gc.μ == exp.(gc.η)                     # mu = ginverse of XB = mean component for GLM\n",
    "@test gc.varμ == exp.(gc.η)                  # variance of the GLM response as a function of mean mu\n",
    "@test gc.res ≈ (gc.y - gc.μ)./sqrt.(gc.varμ) # standardized residual for GLM outcome"
   ]
  },
  {
   "cell_type": "markdown",
   "metadata": {},
   "source": [
    "### Next I want to check if the hard coded terms in the loglikelihood are correct\n",
    "\n",
    "$$\\text{Term 1 }= - \\ln \\Big[1\\! +\\! \\frac{1}{2}tr(\\mathbf{\\Gamma_{1}})\\Big]$$"
   ]
  },
  {
   "cell_type": "code",
   "execution_count": 7,
   "metadata": {},
   "outputs": [
    {
     "name": "stdout",
     "output_type": "stream",
     "text": [
      "term1 = -1.0943115151041685\n"
     ]
    }
   ],
   "source": [
    "Γ_est = Σ[1] * gc.V[1] + Σ[2] * gc.V[2]\n",
    "trace_gamma = tr(Γ_est)\n",
    "\n",
    "term1 = -log(1 + 0.5 * trace_gamma)\n",
    "@show term1;"
   ]
  },
  {
   "cell_type": "code",
   "execution_count": 8,
   "metadata": {},
   "outputs": [
    {
     "name": "stdout",
     "output_type": "stream",
     "text": [
      "-(log(1 + tsum)) = -1.0943115151041687\n"
     ]
    }
   ],
   "source": [
    "tsum = dot(Σ, gc.t)\n",
    "@show -log(1 + tsum);"
   ]
  },
  {
   "cell_type": "markdown",
   "metadata": {},
   "source": [
    "$$\\text{Term 2} = \\ln \\Big\\{1\\!+\\!\\frac{1}{2}\\mathbf{r_1}(\\mathbf{\\beta})^t \\mathbf{\\Gamma_1} \\mathbf{r_1}(\\mathbf{\\beta})\\Big\\}$$"
   ]
  },
  {
   "cell_type": "code",
   "execution_count": 9,
   "metadata": {},
   "outputs": [
    {
     "name": "stdout",
     "output_type": "stream",
     "text": [
      "quad_form_standardized_res = 7.089996124595516\n",
      "term2 = 1.5140273012922243\n"
     ]
    },
    {
     "data": {
      "text/plain": [
       "1.5140273012922243"
      ]
     },
     "execution_count": 9,
     "metadata": {},
     "output_type": "execute_result"
    }
   ],
   "source": [
    "# term 2:\n",
    "quad_form_standardized_res = transpose(gc.res) * Γ_est * gc.res\n",
    "@show quad_form_standardized_res\n",
    "\n",
    "term2 = log(1 + 0.5 * quad_form_standardized_res) \n",
    "@show term2"
   ]
  },
  {
   "cell_type": "markdown",
   "metadata": {},
   "source": [
    "### In the loglikelihood function I have:"
   ]
  },
  {
   "cell_type": "markdown",
   "metadata": {},
   "source": [
    "$$\\text{Term1 + Term2} =  - \\ln \\Big[1\\! +\\! \\frac{1}{2}tr(\\mathbf{\\Gamma_{1}})\\Big] +\n",
    "\\ln \\Big\\{1\\!+\\!\\frac{1}{2}\\mathbf{r_1}(\\mathbf{\\beta})^t \\mathbf{\\Gamma_1} \\mathbf{r_1}(\\mathbf{\\beta})\\Big\\}$$"
   ]
  },
  {
   "cell_type": "code",
   "execution_count": 10,
   "metadata": {},
   "outputs": [
    {
     "name": "stdout",
     "output_type": "stream",
     "text": [
      "logl_hard_coded_obs1 = 0.41971578618805583\n",
      "copula_logl_function = 0.4197157861880556\n"
     ]
    },
    {
     "data": {
      "text/plain": [
       "\u001b[32m\u001b[1mTest Passed\u001b[22m\u001b[39m"
      ]
     },
     "execution_count": 10,
     "metadata": {},
     "output_type": "execute_result"
    }
   ],
   "source": [
    "logl_hard_coded_obs1 = term1 + term2\n",
    "copula_logl_function = GLMCopula.copula_loglikelihood_addendum(gc, Σ)\n",
    "@show logl_hard_coded_obs1\n",
    "@show copula_logl_function\n",
    "@test copula_logl_function ≈ logl_hard_coded_obs1"
   ]
  },
  {
   "cell_type": "markdown",
   "metadata": {},
   "source": [
    "### Part of Loglikelihood that comes from the Density using GLM.jl\n",
    "\n",
    "$$\\text{Term 3} = \\sum_{j=1}^{n_1} y_{1j} * log(\\mu_{1j}(\\beta)) - \\mu_{1j}(\\beta) - log(y_{1j}!)$$"
   ]
  },
  {
   "cell_type": "code",
   "execution_count": 11,
   "metadata": {},
   "outputs": [
    {
     "data": {
      "text/plain": [
       "-13.57011304947251"
      ]
     },
     "execution_count": 11,
     "metadata": {},
     "output_type": "execute_result"
    }
   ],
   "source": [
    "function poisson_density(y, μ)\n",
    "    logl = 0.0\n",
    "    for j in 1:length(y)\n",
    "        logl += y[j] * log(μ[j]) - μ[j] - log(factorial(y[j]))\n",
    "    end\n",
    "    logl\n",
    "end\n",
    "\n",
    "term3 = poisson_density(gc.y, gc.μ)"
   ]
  },
  {
   "cell_type": "code",
   "execution_count": 12,
   "metadata": {},
   "outputs": [
    {
     "data": {
      "text/plain": [
       "-13.570113049472514"
      ]
     },
     "execution_count": 12,
     "metadata": {},
     "output_type": "execute_result"
    }
   ],
   "source": [
    "logl_component_poisson = 0.0\n",
    "logl_component_poisson += component_loglikelihood(gc, τ[1], logl_component_poisson)"
   ]
  },
  {
   "cell_type": "code",
   "execution_count": 13,
   "metadata": {},
   "outputs": [
    {
     "data": {
      "text/plain": [
       "\u001b[32m\u001b[1mTest Passed\u001b[22m\u001b[39m"
      ]
     },
     "execution_count": 13,
     "metadata": {},
     "output_type": "execute_result"
    }
   ],
   "source": [
    "@test logl_component_poisson ≈ term3"
   ]
  },
  {
   "cell_type": "markdown",
   "metadata": {},
   "source": [
    "$$\\mathcal{L}(\\mathbf{\\beta})_1 =  - \\ln \\Big[1\\! +\\! \\frac{1}{2}tr(\\mathbf{\\Gamma_{1}})\\Big] +\n",
    "\\ln \\Big\\{1\\!+\\!\\frac{1}{2}\\mathbf{r_1}(\\mathbf{\\beta})^t \\mathbf{\\Gamma_1} \\mathbf{r_1}(\\mathbf{\\beta})\\Big\\} +  \\sum_{j=1}^{n_1} y_{1j} * log(\\mu_{1j}(\\beta)) - \\mu_{1j}(\\beta) - log(y_{1j}!)$$"
   ]
  },
  {
   "cell_type": "code",
   "execution_count": 14,
   "metadata": {},
   "outputs": [
    {
     "data": {
      "text/plain": [
       "-13.150397263284455"
      ]
     },
     "execution_count": 14,
     "metadata": {},
     "output_type": "execute_result"
    }
   ],
   "source": [
    "logl_hard = term1 + term2 + term3"
   ]
  },
  {
   "cell_type": "code",
   "execution_count": 15,
   "metadata": {},
   "outputs": [
    {
     "data": {
      "text/plain": [
       "-13.150397263284459"
      ]
     },
     "execution_count": 15,
     "metadata": {},
     "output_type": "execute_result"
    }
   ],
   "source": [
    "logl_my_function = copula_loglikelihood(gc, β, τ[1], Σ)"
   ]
  },
  {
   "cell_type": "code",
   "execution_count": 16,
   "metadata": {},
   "outputs": [
    {
     "data": {
      "text/plain": [
       "\u001b[32m\u001b[1mTest Passed\u001b[22m\u001b[39m"
      ]
     },
     "execution_count": 16,
     "metadata": {},
     "output_type": "execute_result"
    }
   ],
   "source": [
    "@test logl_hard ≈ logl_my_function"
   ]
  },
  {
   "cell_type": "markdown",
   "metadata": {},
   "source": [
    "# A Closer Look at the Gradient for observation i=1\n",
    "\n",
    "$$\\begin{eqnarray*}\n",
    "\\nabla_\\beta &=& \\sum_{i=1}^n \\sum_j \\nabla \\ln f_{ij}(y_{ij} \\mid \\mathbf{\\beta}) + \\sum_{i=1}^n\n",
    "\\frac{\\nabla \\mathbf{r_i(\\mathbf{\\beta})}\\mathbf{\\Gamma_i}\\mathbf{r_i(\\mathbf{\\beta})}}{1+\\frac{1}{2}\\mathbf{r_i}(\\mathbf{\\beta})^t \\mathbf{\\Gamma_i} \\mathbf{r_i(\\mathbf{\\beta})}}\n",
    "\\end{eqnarray*}\n",
    "$$\n",
    "\n",
    "The gradient is made of two terms. The first is from the GLM component loglikelihood that corresponds to the Logistic Regression density. The second part is specific to our copula model. We start with Term 1 for observation 1:\n",
    "\n",
    "$$\\begin{eqnarray*}\n",
    "    \\text{Term 1} &=& \\sum_{j=1}^{n_1} \\frac{(y_{1j}-\\mu_{1j}) \\mu_{1j}'(\\eta_{1j})}{\\sigma_{1j}^2} \\mathbf{x}_{1j}\n",
    "\\end{eqnarray*}\n",
    "$$\n",
    "\n",
    "We will check if the field $\\mu_{1j}'$ or `mueta` from the GLM.jl package matches our theoretical value"
   ]
  },
  {
   "cell_type": "code",
   "execution_count": 17,
   "metadata": {},
   "outputs": [
    {
     "data": {
      "text/plain": [
       "\u001b[32m\u001b[1mTest Passed\u001b[22m\u001b[39m"
      ]
     },
     "execution_count": 17,
     "metadata": {},
     "output_type": "execute_result"
    }
   ],
   "source": [
    "# these are slightly off by small decimals\n",
    "@test gc.dμ == exp.(gc.η)                  # derivative of mean with respect to systematic component"
   ]
  },
  {
   "cell_type": "code",
   "execution_count": 18,
   "metadata": {},
   "outputs": [
    {
     "data": {
      "text/plain": [
       "1-element Array{Float64,1}:\n",
       " -1.6240999999999985"
      ]
     },
     "execution_count": 18,
     "metadata": {},
     "output_type": "execute_result"
    }
   ],
   "source": [
    "function poisson_gradient(y, X, dμ, σ2, μ)\n",
    "    grad = zeros(size(X, 2))\n",
    "    for j in 1:length(y)\n",
    "        grad += (y[j] - μ[j]) * dμ[j]/σ2[j] * X[j, :]\n",
    "    end\n",
    "    grad\n",
    "end\n",
    "\n",
    "# check if glm gradient is right\n",
    "term1_gradient = poisson_gradient(gc.y, gc.X, gc.dμ, gc.varμ, gc.μ)"
   ]
  },
  {
   "cell_type": "code",
   "execution_count": 19,
   "metadata": {},
   "outputs": [
    {
     "data": {
      "text/plain": [
       "\u001b[32m\u001b[1mTest Passed\u001b[22m\u001b[39m"
      ]
     },
     "execution_count": 19,
     "metadata": {},
     "output_type": "execute_result"
    }
   ],
   "source": [
    "term1_grad_fctn = GLMCopula.glm_gradient(gc, β, τ)\n",
    "@test term1_gradient == term1_grad_fctn"
   ]
  },
  {
   "cell_type": "markdown",
   "metadata": {},
   "source": [
    "### Copula density specific gradient portion\n",
    "\n",
    "$$ \\text{Term 2} = \\frac{\\nabla \\mathbf{r_1(\\mathbf{\\beta})}^\\top\\mathbf{\\Gamma_1}\\mathbf{r_1(\\mathbf{\\beta})}}{1+\\frac{1}{2}\\mathbf{r_1}(\\mathbf{\\beta})^t \\mathbf{\\Gamma_i} \\mathbf{r_1(\\mathbf{\\beta})}}\n",
    "$$\n",
    "\n",
    "Notice the second term uses a critical value that will come up in the Hessian as well. For the first observation, $i = 1,$ we have $n_1 = 5$ and $p = 1$ in the simulated dataset. $\\nabla \\mathbf{r_1(\\mathbf{\\beta})}$ which is an $5 \\times 1$ matrix of differentials. \n",
    "\n",
    "Each column of $\\nabla \\mathbf{r_1(\\mathbf{\\beta})}^\\top$ is a $p \\times 1$ vector $\\nabla r_{1j}(\\mathbf{\\beta})$\n",
    "\n",
    "$$\n",
    "\\begin{eqnarray*}\n",
    "\\nabla r_{1j}(\\mathbf{\\beta}) &=&  -\\frac{1}{\\sigma_{1j}(\\mathbf{\\beta})} \\nabla \\mu_{1j}(\\mathbf{\\beta})- \\frac{1}{2} \\frac{y_{1j}-\\mu_{1j}(\\mathbf{\\beta})}{\\sigma_{1j}^3(\\mathbf{\\beta})} \\nabla \\sigma_{1j}^2(\\mathbf{\\beta})\\\\\n",
    "&=&  -\\frac{1}{\\sigma_{1j}(\\mathbf{\\beta})} \\nabla \\mu_{1j}(\\mathbf{\\beta})- \\frac{1}{2\\sigma_{1j}^2(\\mathbf{\\beta})}r_{1j}(\\mathbf{\\beta}) \\nabla \\sigma_{1j}^2(\\mathbf{\\beta})\n",
    "\\end{eqnarray*}\n",
    "$$\n",
    "\n",
    "\n",
    "where \n",
    "\n",
    "$$\n",
    "\\begin{eqnarray*}\n",
    "\\nabla \\mu_{1j}(\\mathbf{\\beta}) &=& e^{\\eta_{1j}(\\mathbf{\\beta})} * \\mathbf{x_{1j}}\n",
    "\\end{eqnarray*}\n",
    "$$"
   ]
  },
  {
   "cell_type": "code",
   "execution_count": 20,
   "metadata": {},
   "outputs": [
    {
     "name": "stdout",
     "output_type": "stream",
     "text": [
      "∇μβ1 = [5.12482]\n",
      "∇μβ2 = [5.12482]\n",
      "∇μβend = [5.12482]\n"
     ]
    },
    {
     "data": {
      "text/plain": [
       "1-element Array{Float64,1}:\n",
       " 5.12482"
      ]
     },
     "execution_count": 20,
     "metadata": {},
     "output_type": "execute_result"
    }
   ],
   "source": [
    "# for j = 1 and j = 2, ..., j = end; lets take a look at the first two columns \n",
    "∇μβ1 = exp.(gc.η[1]) .* gc.X[1, :]\n",
    "∇μβ2 = exp.(gc.η[2]) .* gc.X[2, :]\n",
    "# ...\n",
    "∇μβend = exp.(gc.η[end]) .* gc.X[end, :]\n",
    "\n",
    "@show ∇μβ1\n",
    "@show ∇μβ2\n",
    "@show ∇μβend"
   ]
  },
  {
   "cell_type": "code",
   "execution_count": 21,
   "metadata": {},
   "outputs": [
    {
     "data": {
      "text/plain": [
       "1×5 Array{Float64,2}:\n",
       " 5.12482  5.12482  5.12482  5.12482  5.12482"
      ]
     },
     "execution_count": 21,
     "metadata": {},
     "output_type": "execute_result"
    }
   ],
   "source": [
    "∇ηβ = gc.X\n",
    "\n",
    "∇μβ = transpose(∇ηβ) * Diagonal(gc.dμ)"
   ]
  },
  {
   "cell_type": "markdown",
   "metadata": {},
   "source": [
    "and  \n",
    "$$  \\begin{eqnarray*}\n",
    "    \\nabla \\sigma_{ij}^2(\\beta) = \\frac{d\\sigma_{ij}^2(\\beta)}{d\\mu_{ij}(\\beta)} \\frac{d\\mu_{ij}(\\beta)}{d\\eta_{ij}(\\beta)} \\frac{d\\eta_{ij}(\\beta)}{d\\beta} = 1 * e^{\\eta_{ij}(\\beta)} \\mathbf{x}_{ij} = e^{\\eta_{ij}(\\beta)} \\mathbf{x}_{ij}\n",
    "\\end{eqnarray*}$$"
   ]
  },
  {
   "cell_type": "code",
   "execution_count": 22,
   "metadata": {},
   "outputs": [
    {
     "name": "stdout",
     "output_type": "stream",
     "text": [
      "∇σ2β1 = [5.12482]\n",
      "∇σ2β2 = [5.12482]\n",
      "∇σ2βend = [5.12482]\n"
     ]
    },
    {
     "data": {
      "text/plain": [
       "1×5 Array{Float64,2}:\n",
       " 5.12482  5.12482  5.12482  5.12482  5.12482"
      ]
     },
     "execution_count": 22,
     "metadata": {},
     "output_type": "execute_result"
    }
   ],
   "source": [
    "# for j = 1 and j = 2 ,... , j = end; lets take a look at the first two columns \n",
    "∇σ2β1 = 1 * gc.dμ[1] .* gc.X[1, :]\n",
    "∇σ2β2 = 1 * gc.dμ[2] .* gc.X[2, :]\n",
    "# ...\n",
    "∇σ2βend = 1 * gc.dμ[end] .* gc.X[end, :]\n",
    "\n",
    "@show ∇σ2β1\n",
    "@show ∇σ2β2\n",
    "@show ∇σ2βend\n",
    "\n",
    "∇σ2β = transpose(gc.X) * Diagonal(gc.dμ)"
   ]
  },
  {
   "cell_type": "markdown",
   "metadata": {},
   "source": [
    "$$\n",
    "\\begin{eqnarray*}\n",
    "\\nabla r_{1j}(\\mathbf{\\beta}) &=&  -\\frac{1}{\\sigma_{1j}(\\mathbf{\\beta})} \\nabla \\mu_{1j}(\\mathbf{\\beta})- \\frac{1}{2} \\frac{y_{1j}-\\mu_{1j}(\\mathbf{\\beta})}{\\sigma_{1j}^3(\\mathbf{\\beta})} \\nabla \\sigma_{1j}^2(\\mathbf{\\beta})\\\\\n",
    "&=&  -\\frac{1}{\\sigma_{1j}(\\mathbf{\\beta})} \\nabla \\mu_{1j}(\\mathbf{\\beta})- \\frac{1}{2\\sigma_{1j}^2(\\mathbf{\\beta})}r_{1j}(\\mathbf{\\beta}) \\nabla \\sigma_{1j}^2(\\mathbf{\\beta})\n",
    "\\end{eqnarray*}\n",
    "$$\n"
   ]
  },
  {
   "cell_type": "code",
   "execution_count": 30,
   "metadata": {},
   "outputs": [
    {
     "name": "stdout",
     "output_type": "stream",
     "text": [
      "∇μβ1 = [5.12482]\n",
      "∇μβ2 = [5.12482]\n",
      "∇μβend = [5.12482]\n",
      "gc.varμ ≈ ∇μη = true\n",
      "∇σ2β1 = [5.12482]\n",
      "∇σ2β2 = [5.12482]\n",
      "∇σ2βend = [5.12482]\n"
     ]
    },
    {
     "data": {
      "text/plain": [
       "\u001b[32m\u001b[1mTest Passed\u001b[22m\u001b[39m"
      ]
     },
     "execution_count": 30,
     "metadata": {},
     "output_type": "execute_result"
    }
   ],
   "source": [
    "# for j = 1 and j = 2, ..., j = end; lets take a look at the first two columns\n",
    "∇μβ1 = exp.(gc.η[1]) .* gc.X[1, :]\n",
    "∇μβ2 = exp.(gc.η[2]) .* gc.X[2, :]\n",
    "# ...\n",
    "∇μβend = exp.(gc.η[end]) .* gc.X[end, :]\n",
    "\n",
    "@show ∇μβ1\n",
    "@show ∇μβ2\n",
    "@show ∇μβend\n",
    "\n",
    "∇μη = exp.(gc.η)\n",
    "@show gc.varμ ≈ ∇μη\n",
    "@test gc.dμ ≈ gc.varμ\n",
    "∇ηβ = gc.X\n",
    "\n",
    "∇μβ = transpose(∇ηβ)*Diagonal(∇μη)\n",
    "\n",
    "# for j = 1 and j = 2 ,... , j = end; lets take a look at the first two columns\n",
    "∇σ2β1 = gc.dμ[1] .* gc.X[1, :]\n",
    "∇σ2β2 = gc.dμ[2] .* gc.X[2, :]\n",
    "# ...\n",
    "∇σ2βend = gc.dμ[end] .* gc.X[end, :]\n",
    "\n",
    "@show ∇σ2β1\n",
    "@show ∇σ2β2\n",
    "@show ∇σ2βend\n",
    "\n",
    "∇σ2β = transpose(gc.X)* Diagonal(gc.dμ)\n",
    "\n",
    "update_res!(gc, β)\n",
    "standardize_res!(gc)\n",
    "std_res_differential!(gc)\n",
    "@test gc.∇resβ[1, :] ≈ -1/(sqrt(gc.varμ[1])) .* ∇μβ1 - ((1/2gc.varμ[1]) * gc.res[1]) .* ∇σ2β1"
   ]
  },
  {
   "cell_type": "code",
   "execution_count": 31,
   "metadata": {},
   "outputs": [
    {
     "data": {
      "text/plain": [
       "\u001b[32m\u001b[1mTest Passed\u001b[22m\u001b[39m"
      ]
     },
     "execution_count": 31,
     "metadata": {},
     "output_type": "execute_result"
    }
   ],
   "source": [
    "@test gc.∇resβ[2, :] == -1/(sqrt(gc.varμ[2])) .* ∇μβ2 - ((1/2gc.varμ[2]) * gc.res[2]) .* ∇σ2β2"
   ]
  },
  {
   "cell_type": "code",
   "execution_count": 32,
   "metadata": {},
   "outputs": [
    {
     "data": {
      "text/plain": [
       "\u001b[32m\u001b[1mTest Passed\u001b[22m\u001b[39m"
      ]
     },
     "execution_count": 32,
     "metadata": {},
     "output_type": "execute_result"
    }
   ],
   "source": [
    "@test gc.∇resβ[end, :] == -1/(sqrt(gc.varμ[end])) .* ∇μβend - ((1/2gc.varμ[end]) * gc.res[end]) .* ∇σ2βend"
   ]
  },
  {
   "cell_type": "markdown",
   "metadata": {},
   "source": [
    "### Gradient portion of Copula specific model\n",
    "\n",
    "$$\\begin{eqnarray*}\n",
    "\\text{Term 2} &=& \\sum_{i=1}^n\n",
    "\\frac{\\nabla \\mathbf{r_i(\\mathbf{\\beta})}\\mathbf{\\Gamma_i}\\mathbf{r_i(\\mathbf{\\beta})}}{1+\\frac{1}{2}\\mathbf{r_i}(\\mathbf{\\beta})^t \\mathbf{\\Gamma_i} \\mathbf{r_i(\\mathbf{\\beta})}}\n",
    "\\end{eqnarray*}\n",
    "$$\n",
    "\n",
    "Again for observation $ i = 1$ we have:  \n",
    "\n",
    "$$ \\text{Term 2} = \\frac{\\nabla \\mathbf{r_1(\\mathbf{\\beta})}^\\top\\mathbf{\\Gamma_1}\\mathbf{r_1(\\mathbf{\\beta})}}{1+\\frac{1}{2}\\mathbf{r_1}(\\mathbf{\\beta})^t \\mathbf{\\Gamma_i} \\mathbf{r_1(\\mathbf{\\beta})}}\n",
    "$$"
   ]
  },
  {
   "cell_type": "code",
   "execution_count": 33,
   "metadata": {},
   "outputs": [
    {
     "name": "stdout",
     "output_type": "stream",
     "text": [
      "grad_t2_numerator = [-1.6586434409554274]\n",
      "quadratic_form = 7.089996124595516\n",
      "grad_t2_denominator = 0.22002209600380832\n"
     ]
    },
    {
     "data": {
      "text/plain": [
       "1-element Array{Float64,1}:\n",
       " -0.364938206401982"
      ]
     },
     "execution_count": 33,
     "metadata": {},
     "output_type": "execute_result"
    }
   ],
   "source": [
    "Γ_est = Σ[1] * gc.V[1] + Σ[2] * gc.V[2]\n",
    "\n",
    "grad_t2_numerator = transpose(gc.∇resβ) * Γ_est * gc.res       # new term ∇resβ^t * Γ * res\n",
    "@show grad_t2_numerator\n",
    "\n",
    "quadratic_form = transpose(gc.res) * Γ_est * gc.res\n",
    "@show quadratic_form \n",
    "@test quadratic_form ≈ quad_form_standardized_res # from the loglikelihood 'qsum'\n",
    "\n",
    "grad_t2_denominator = inv(1 + 0.5 * quadratic_form)\n",
    "@show grad_t2_denominator\n",
    "\n",
    "gradient_term2 = grad_t2_numerator * grad_t2_denominator"
   ]
  },
  {
   "cell_type": "code",
   "execution_count": 34,
   "metadata": {},
   "outputs": [
    {
     "data": {
      "text/plain": [
       "1-element Array{Float64,1}:\n",
       " -0.3649382064019818"
      ]
     },
     "execution_count": 34,
     "metadata": {},
     "output_type": "execute_result"
    }
   ],
   "source": [
    "gradient_term2_function = GLMCopula.copula_gradient_addendum(gc, β, τ[1], Σ)"
   ]
  },
  {
   "cell_type": "code",
   "execution_count": 35,
   "metadata": {},
   "outputs": [
    {
     "data": {
      "text/plain": [
       "\u001b[32m\u001b[1mTest Passed\u001b[22m\u001b[39m"
      ]
     },
     "execution_count": 35,
     "metadata": {},
     "output_type": "execute_result"
    }
   ],
   "source": [
    "@test gradient_term2 ≈ gradient_term2_function"
   ]
  },
  {
   "cell_type": "code",
   "execution_count": 36,
   "metadata": {},
   "outputs": [
    {
     "data": {
      "text/plain": [
       "1-element Array{Float64,1}:\n",
       " -1.9890382064019805"
      ]
     },
     "execution_count": 36,
     "metadata": {},
     "output_type": "execute_result"
    }
   ],
   "source": [
    "gradient_hard_code = term1_gradient + gradient_term2"
   ]
  },
  {
   "cell_type": "code",
   "execution_count": 37,
   "metadata": {},
   "outputs": [
    {
     "data": {
      "text/plain": [
       "1-element Array{Float64,1}:\n",
       " -1.9890382064019803"
      ]
     },
     "execution_count": 37,
     "metadata": {},
     "output_type": "execute_result"
    }
   ],
   "source": [
    "full_gradient_my_function = copula_gradient(gc, β, τ, Σ)"
   ]
  },
  {
   "cell_type": "code",
   "execution_count": 38,
   "metadata": {},
   "outputs": [
    {
     "data": {
      "text/plain": [
       "\u001b[32m\u001b[1mTest Passed\u001b[22m\u001b[39m"
      ]
     },
     "execution_count": 38,
     "metadata": {},
     "output_type": "execute_result"
    }
   ],
   "source": [
    "@test full_gradient_my_function ≈ gradient_hard_code"
   ]
  },
  {
   "cell_type": "markdown",
   "metadata": {},
   "source": [
    "## Let's now use the ForwardDiff.jl package to check if our matrix calculus is correct.\n",
    "\n",
    "I want to start by checking my calculation of the gradient. \n",
    "\n",
    "    (1) I will modify the functions that reflect parts of the loglikelihood above in section 1 to use the package properly. \n",
    "    (2) I will then compare the results to that from my gradient functions above in section 2 \n"
   ]
  },
  {
   "cell_type": "markdown",
   "metadata": {},
   "source": [
    "###  Test if the gradient of the component loglikelihood matches our gradient function"
   ]
  },
  {
   "cell_type": "code",
   "execution_count": 39,
   "metadata": {},
   "outputs": [
    {
     "name": "stdout",
     "output_type": "stream",
     "text": [
      "logl_term3 = 13.594189658955099\n",
      "gradientmagictest = [-1.6240999999999985]\n",
      "term1_grad_fctn = [-1.6240999999999985]\n"
     ]
    },
    {
     "data": {
      "text/plain": [
       "\u001b[32m\u001b[1mTest Passed\u001b[22m\u001b[39m"
      ]
     },
     "execution_count": 39,
     "metadata": {},
     "output_type": "execute_result"
    }
   ],
   "source": [
    "function poisson_density(β::Vector)\n",
    "    η = gc.X*β                        # systematic linear component\n",
    "    μ = exp.(η)   # mu = ginverse of XB = mean component for GLM = [p]\n",
    "    dμ = exp.(η)\n",
    "    varμ = dμ\n",
    "    logl = sum(gc.y .* log.(μ) .- μ)\n",
    "end\n",
    "\n",
    "logl_term3 = poisson_density(β)\n",
    "@show logl_term3\n",
    "\n",
    "g = x -> ForwardDiff.gradient(poisson_density, x)\n",
    "\n",
    "gradientmagictest = g(β)\n",
    "@show gradientmagictest\n",
    "@show term1_grad_fctn\n",
    "@test term1_grad_fctn == gradientmagictest"
   ]
  },
  {
   "cell_type": "markdown",
   "metadata": {},
   "source": [
    "# Now we check the gradient of the matrix of differentials residual vector\n",
    "\n",
    "Lets start with $i = 1, j = 1$ so the first observation of the $i^{th}$ group has the following gradient of the standardized residual."
   ]
  },
  {
   "cell_type": "code",
   "execution_count": 40,
   "metadata": {},
   "outputs": [
    {
     "name": "stdout",
     "output_type": "stream",
     "text": [
      "gradientmagictest2 = [-2.2362379185306214]\n"
     ]
    },
    {
     "data": {
      "text/plain": [
       "\u001b[32m\u001b[1mTest Passed\u001b[22m\u001b[39m"
      ]
     },
     "execution_count": 40,
     "metadata": {},
     "output_type": "execute_result"
    }
   ],
   "source": [
    "function standardized_residual_firstobs(β::Vector)\n",
    "    η = gc.X*β                        # systematic linear component\n",
    "    μ = exp.(η) # mu = ginverse of XB = mean component for GLM = [p]\n",
    "    varμ = exp.(η)\n",
    "    res = (gc.y[1] - μ[1]) / sqrt(varμ[1])\n",
    "end\n",
    "\n",
    "g2 = x -> ForwardDiff.gradient(standardized_residual_firstobs, x)\n",
    "gradientmagictest2 = g2(β)\n",
    "@show gradientmagictest2\n",
    "\n",
    "@test gc.∇resβ[1, :] == gradientmagictest2"
   ]
  },
  {
   "cell_type": "markdown",
   "metadata": {},
   "source": [
    "## Now I will check the part of the Loglikelihood that is specific to our density"
   ]
  },
  {
   "cell_type": "code",
   "execution_count": 41,
   "metadata": {},
   "outputs": [
    {
     "name": "stdout",
     "output_type": "stream",
     "text": [
      "copula_loglikelihood_addendum1(β) = 0.41971578618805583\n",
      "gradientmagictest3 = [-0.364938206401982]\n",
      "gradient_term2_function = [-0.3649382064019818]\n"
     ]
    },
    {
     "data": {
      "text/plain": [
       "\u001b[32m\u001b[1mTest Passed\u001b[22m\u001b[39m"
      ]
     },
     "execution_count": 41,
     "metadata": {},
     "output_type": "execute_result"
    }
   ],
   "source": [
    "function copula_loglikelihood_addendum1(β::Vector)\n",
    "  m = length(gc.V)\n",
    "  η = gc.X*β                        # systematic linear component\n",
    "  μ = exp.(η) # mu = ginverse of XB = mean component for GLM = [p]\n",
    "  varμ = exp.(η)\n",
    "  res = (gc.y .- μ) ./ sqrt.(varμ)\n",
    "  trace_gamma = tr(Γ_est)\n",
    "\n",
    "  term1 = -log(1 + 0.5 * trace_gamma)\n",
    "  quad_form_standardized_res = transpose(res)* Γ_est * res\n",
    "  term2 = log(1 + 0.5 * quad_form_standardized_res)\n",
    "  logl_hard_coded_obs1 = term1 + term2\n",
    "  logl_hard_coded_obs1\n",
    "end\n",
    "\n",
    "g3 = x -> ForwardDiff.gradient(copula_loglikelihood_addendum1, x)\n",
    "\n",
    "@show copula_loglikelihood_addendum1(β)\n",
    "\n",
    "gradientmagictest3 = g3(β)\n",
    "@show gradientmagictest3\n",
    "@show gradient_term2_function\n",
    "@test gradient_term2_function ≈ gradientmagictest3\n"
   ]
  },
  {
   "cell_type": "markdown",
   "metadata": {},
   "source": [
    "## Now I will put together both the parts of the loglikelihood and both the parts of the gradient to check alltogether now"
   ]
  },
  {
   "cell_type": "code",
   "execution_count": 42,
   "metadata": {},
   "outputs": [
    {
     "name": "stdout",
     "output_type": "stream",
     "text": [
      "full_loglikelihood(β) = 14.013905445143154\n",
      "gradientmagictest4 = [-1.9890382064019805]\n",
      "full_gradient_function = [-1.9890382064019803]\n"
     ]
    },
    {
     "data": {
      "text/plain": [
       "\u001b[32m\u001b[1mTest Passed\u001b[22m\u001b[39m"
      ]
     },
     "execution_count": 42,
     "metadata": {},
     "output_type": "execute_result"
    }
   ],
   "source": [
    "function full_loglikelihood(β::Vector)\n",
    "    logl = 0.0\n",
    "    logl = poisson_density(β) + copula_loglikelihood_addendum1(β)\n",
    "    logl\n",
    "end\n",
    "\n",
    "@show full_loglikelihood(β)\n",
    "\n",
    "g4 = x -> ForwardDiff.gradient(full_loglikelihood, x)\n",
    "\n",
    "gradientmagictest4 = g4(β)\n",
    "@show gradientmagictest4\n",
    "\n",
    "full_gradient_function = copula_gradient(gc, β, τ, Σ)\n",
    "@show full_gradient_function\n",
    "@test full_gradient_function ≈ gradientmagictest4"
   ]
  },
  {
   "cell_type": "markdown",
   "metadata": {},
   "source": [
    "# Now I show that using my hessian we get convergence to roughly right answers"
   ]
  },
  {
   "cell_type": "code",
   "execution_count": 46,
   "metadata": {},
   "outputs": [
    {
     "name": "stdout",
     "output_type": "stream",
     "text": [
      "1 0.0 -117045.2600382745 39999\n",
      "2 -117045.2600382745 -117045.2600382745 39999\n",
      "gcm.β = [1.6340954024564622]\n"
     ]
    },
    {
     "data": {
      "text/plain": [
       "-116209.33278544483"
      ]
     },
     "execution_count": 46,
     "metadata": {},
     "output_type": "execute_result"
    }
   ],
   "source": [
    "d = Poisson()\n",
    "link = LogLink()\n",
    "D = typeof(d)\n",
    "Link = typeof(link)\n",
    "T = Float64\n",
    "gcs = Vector{GLMCopulaVCObs{T, D, Link}}(undef, N)\n",
    "for i in 1:N\n",
    "    y = Float64.(Y_Nsample[i])\n",
    "    X = ones(n, 1)\n",
    "    V = [ones(n, n), Matrix(I, n, n)]\n",
    "    gcs[i] = GLMCopulaVCObs(y, X, V, d, link)\n",
    "end\n",
    "gcm = GLMCopulaVCModel(gcs);\n",
    "\n",
    "initialize_model!(gcm)\n",
    "@show gcm.β;\n",
    "fill!(gcm.Σ, 1.0)\n",
    "update_Σ!(gcm)\n",
    "GLMCopula.loglikelihood!(gcm, true, true)"
   ]
  },
  {
   "cell_type": "code",
   "execution_count": 47,
   "metadata": {
    "scrolled": false
   },
   "outputs": [
    {
     "name": "stdout",
     "output_type": "stream",
     "text": [
      "gcm.Σ = [0.09165656173880622, 0.7031918157799482]\n",
      "gcm.Σ = [0.09165644216061264, 0.7031902079939716]\n",
      "This is Ipopt version 3.13.4, running with linear solver mumps.\n",
      "NOTE: Other linear solvers might be more efficient (see Ipopt documentation).\n",
      "\n",
      "Number of nonzeros in equality constraint Jacobian...:        0\n",
      "Number of nonzeros in inequality constraint Jacobian.:        0\n",
      "Number of nonzeros in Lagrangian Hessian.............:        1\n",
      "\n",
      "Total number of variables............................:        1\n",
      "                     variables with only lower bounds:        0\n",
      "                variables with lower and upper bounds:        0\n",
      "                     variables with only upper bounds:        0\n",
      "Total number of equality constraints.................:        0\n",
      "Total number of inequality constraints...............:        0\n",
      "        inequality constraints with only lower bounds:        0\n",
      "   inequality constraints with lower and upper bounds:        0\n",
      "        inequality constraints with only upper bounds:        0\n",
      "\n",
      "iter    objective    inf_pr   inf_du lg(mu)  ||d||  lg(rg) alpha_du alpha_pr  ls\n",
      "   0  1.1620933e+05 0.00e+00 1.00e+02  -1.0 0.00e+00    -  0.00e+00 0.00e+00   0\n",
      "gcm.Σ = [0.09885672099367591, 0.846661513300437]\n",
      "   1  1.1614374e+05 0.00e+00 7.64e+00  -1.0 2.53e-02    -  1.00e+00 1.00e+00f  1\n",
      "gcm.Σ = [0.10019016256252677, 0.8598469055739213]\n",
      "   2  1.1614334e+05 0.00e+00 5.77e-01  -1.0 1.98e-03    -  1.00e+00 1.00e+00f  1\n",
      "gcm.Σ = [0.10029633413035605, 0.8608593841302155]\n",
      "   3  1.1614334e+05 0.00e+00 4.37e-02  -1.7 1.50e-04    -  1.00e+00 1.00e+00f  1\n",
      "gcm.Σ = [0.10030403722081055, 0.8609353114586872]\n",
      "   4  1.1614334e+05 0.00e+00 3.27e-03  -2.5 1.14e-05    -  1.00e+00 1.00e+00f  1\n",
      "gcm.Σ = [0.1003045015111271, 0.8609407032358212]\n",
      "   5  1.1614334e+05 0.00e+00 2.32e-04  -3.8 8.50e-07    -  1.00e+00 1.00e+00f  1\n",
      "gcm.Σ = [0.10030494623507145, 0.8609458647519718]\n",
      "   6  1.1614334e+05 0.00e+00 1.67e-04  -5.7 6.02e-08    -  1.00e+00 1.00e+00f  1\n",
      "gcm.Σ = [0.1003053520826049, 0.8609506877965284]\n",
      "   7  1.1614334e+05 0.00e+00 1.55e-04  -5.7 4.34e-08    -  1.00e+00 1.00e+00f  1\n",
      "gcm.Σ = [0.1003057231600186, 0.8609551917904035]\n",
      "   8  1.1614334e+05 0.00e+00 1.44e-04  -5.7 4.02e-08    -  1.00e+00 1.00e+00f  1\n",
      "gcm.Σ = [0.10030606330942776, 0.8609593971744686]\n",
      "   9  1.1614334e+05 0.00e+00 1.34e-04  -5.7 3.74e-08    -  1.00e+00 1.00e+00f  1\n",
      "gcm.Σ = [0.1003063758172085, 0.8609633232427034]\n",
      "iter    objective    inf_pr   inf_du lg(mu)  ||d||  lg(rg) alpha_du alpha_pr  ls\n",
      "  10  1.1614334e+05 0.00e+00 1.25e-04  -5.7 3.49e-08    -  1.00e+00 1.00e+00f  1\n",
      "gcm.Σ = [0.10030666350584225, 0.8609669881454262]\n",
      "  11  1.1614334e+05 0.00e+00 1.16e-04  -5.7 3.25e-08    -  1.00e+00 1.00e+00f  1\n",
      "gcm.Σ = [0.10030692881389504, 0.8609704089351714]\n",
      "  12  1.1614334e+05 0.00e+00 1.09e-04  -5.7 3.03e-08    -  1.00e+00 1.00e+00f  1\n",
      "gcm.Σ = [0.10030717386089302, 0.8609736016161549]\n",
      "  13  1.1614334e+05 0.00e+00 1.01e-04  -5.7 2.82e-08    -  1.00e+00 1.00e+00f  1\n",
      "gcm.Σ = [0.10030740049996682, 0.8609765811951761]\n",
      "  14  1.1614334e+05 0.00e+00 9.44e-05  -5.7 2.63e-08    -  1.00e+00 1.00e+00f  1\n",
      "gcm.Σ = [0.10030761036069812, 0.8609793617331333]\n",
      "  15  1.1614334e+05 0.00e+00 8.80e-05  -5.7 2.45e-08    -  1.00e+00 1.00e+00f  1\n",
      "gcm.Σ = [0.10030780488405901, 0.8609819563961186]\n",
      "  16  1.1614334e+05 0.00e+00 8.21e-05  -5.7 2.29e-08    -  1.00e+00 1.00e+00f  1\n",
      "gcm.Σ = [0.1003079853510034, 0.8609843775055982]\n",
      "  17  1.1614334e+05 0.00e+00 7.65e-05  -5.7 2.13e-08    -  1.00e+00 1.00e+00f  1\n",
      "gcm.Σ = [0.10030815290595678, 0.8609866365874101]\n",
      "  18  1.1614334e+05 0.00e+00 7.14e-05  -5.7 1.99e-08    -  1.00e+00 1.00e+00f  1\n",
      "gcm.Σ = [0.10030830857612341, 0.8609887444186701]\n",
      "  19  1.1614334e+05 0.00e+00 6.66e-05  -5.7 1.86e-08    -  1.00e+00 1.00e+00f  1\n",
      "gcm.Σ = [0.10030845328747683, 0.8609907110729723]\n",
      "iter    objective    inf_pr   inf_du lg(mu)  ||d||  lg(rg) alpha_du alpha_pr  ls\n",
      "  20  1.1614334e+05 0.00e+00 6.21e-05  -5.7 1.73e-08    -  1.00e+00 1.00e+00f  1\n",
      "gcm.Σ = [0.10030858787805912, 0.8609925459637253]\n",
      "  21  1.1614334e+05 0.00e+00 5.79e-05  -5.7 1.61e-08    -  1.00e+00 1.00e+00f  1\n",
      "gcm.Σ = [0.10030871310905785, 0.8609942578851614]\n",
      "  22  1.1614334e+05 0.00e+00 5.40e-05  -5.7 1.51e-08    -  1.00e+00 1.00e+00f  1\n",
      "gcm.Σ = [0.10030882967411936, 0.8609958550514563]\n",
      "  23  1.1614334e+05 0.00e+00 5.04e-05  -5.7 1.40e-08    -  1.00e+00 1.00e+00f  1\n",
      "gcm.Σ = [0.10030893820716882, 0.8609973451334036]\n",
      "  24  1.1614334e+05 0.00e+00 4.70e-05  -5.7 1.31e-08    -  1.00e+00 1.00e+00f  1\n",
      "gcm.Σ = [0.10030903928908881, 0.8609987352934849]\n",
      "  25  1.1614334e+05 0.00e+00 4.38e-05  -5.7 1.22e-08    -  1.00e+00 1.00e+00f  1\n",
      "gcm.Σ = [0.10030913345337637, 0.8610000322185593]\n",
      "  26  1.1614334e+05 0.00e+00 4.09e-05  -5.7 1.14e-08    -  1.00e+00 1.00e+00f  1\n",
      "gcm.Σ = [0.10030922119100481, 0.8610012421506743]\n",
      "  27  1.1614334e+05 0.00e+00 3.81e-05  -5.7 1.06e-08    -  1.00e+00 1.00e+00f  1\n",
      "gcm.Σ = [0.10030930295464956, 0.8610023709163097]\n",
      "  28  1.1614334e+05 0.00e+00 3.56e-05  -5.7 9.92e-09    -  1.00e+00 1.00e+00f  1\n",
      "gcm.Σ = [0.1003093791623097, 0.8610034239533657]\n",
      "  29  1.1614334e+05 0.00e+00 3.32e-05  -5.7 9.25e-09    -  1.00e+00 1.00e+00f  1\n",
      "gcm.Σ = [0.10030945020051668, 0.8610044063369001]\n",
      "iter    objective    inf_pr   inf_du lg(mu)  ||d||  lg(rg) alpha_du alpha_pr  ls\n",
      "  30  1.1614334e+05 0.00e+00 3.10e-05  -5.7 8.63e-09    -  1.00e+00 1.00e+00f  1\n",
      "gcm.Σ = [0.1003095164271221, 0.8610053228029709]\n",
      "  31  1.1614334e+05 0.00e+00 2.89e-05  -5.7 8.05e-09    -  1.00e+00 1.00e+00f  1\n",
      "gcm.Σ = [0.10030957817376845, 0.8610061777710027]\n",
      "  32  1.1614334e+05 0.00e+00 2.69e-05  -5.7 7.51e-09    -  1.00e+00 1.00e+00f  1\n",
      "gcm.Σ = [0.10030963574810672, 0.8610069753649351]\n",
      "  33  1.1614334e+05 0.00e+00 2.51e-05  -5.7 7.01e-09    -  1.00e+00 1.00e+00f  1\n",
      "gcm.Σ = [0.10030970645481563, 0.8610079558634971]\n",
      "  34  1.1614334e+05 0.00e+00 3.07e-05  -5.7 6.53e-09    -  1.00e+00 1.00e+00F  1\n",
      "gcm.Σ = [0.10030975532287348, 0.8610086337995645]\n",
      "  35  1.1614334e+05 0.00e+00 2.15e-05  -5.7 7.99e-09    -  1.00e+00 1.00e+00f  1\n",
      "gcm.Σ = [0.10030980095516948, 0.8610092665538331]\n",
      "  36  1.1614334e+05 0.00e+00 1.99e-05  -5.7 5.59e-09    -  1.00e+00 1.00e+00f  1\n",
      "gcm.Σ = [0.10030984351339972, 0.861009856846384]\n",
      "  37  1.1614334e+05 0.00e+00 1.86e-05  -5.7 5.18e-09    -  1.00e+00 1.00e+00f  1\n",
      "gcm.Σ = [0.10030988320530836, 0.8610104075206583]\n",
      "  38  1.1614334e+05 0.00e+00 1.73e-05  -5.7 4.84e-09    -  1.00e+00 1.00e+00f  1\n",
      "gcm.Σ = [0.10030992022520854, 0.8610109212348275]\n",
      "  39  1.1614334e+05 0.00e+00 1.62e-05  -8.6 4.51e-09    -  1.00e+00 1.00e+00f  1\n",
      "gcm.Σ = [0.10030995475399464, 0.8610114004689119]\n",
      "iter    objective    inf_pr   inf_du lg(mu)  ||d||  lg(rg) alpha_du alpha_pr  ls\n",
      "  40  1.1614334e+05 0.00e+00 1.51e-05  -8.6 4.21e-09    -  1.00e+00 1.00e+00f  1\n",
      "gcm.Σ = [0.10030998696012261, 0.8610118475367642]\n",
      "  41  1.1614334e+05 0.00e+00 1.41e-05  -8.6 3.93e-09    -  1.00e+00 1.00e+00f  1\n",
      "gcm.Σ = [0.10031001700047838, 0.8610122645969305]\n",
      "  42  1.1614334e+05 0.00e+00 1.31e-05  -8.6 3.66e-09    -  1.00e+00 1.00e+00f  1\n",
      "gcm.Σ = [0.10031005390538292, 0.8610127772898456]\n",
      "  43  1.1614334e+05 0.00e+00 1.61e-05  -8.6 3.42e-09    -  1.00e+00 1.00e+00F  1\n",
      "gcm.Σ = [0.10031007941912365, 0.8610131317713315]\n",
      "  44  1.1614334e+05 0.00e+00 1.12e-05  -8.6 4.18e-09    -  1.00e+00 1.00e+00f  1\n",
      "gcm.Σ = [0.10031013901965018, 0.8610139629347974]\n",
      "  45  1.1614334e+05 0.00e+00 3.14e-05  -8.6 2.92e-09    -  1.00e+00 5.00e-01f  2\n",
      "gcm.Σ = [0.10031015872075198, 0.8610142370639717]\n",
      "  46  1.1614334e+05 0.00e+00 9.05e-06  -8.6 8.16e-09    -  1.00e+00 1.00e+00f  1\n",
      "gcm.Σ = [0.10031017725636839, 0.8610144936906431]\n",
      "  47  1.1614334e+05 0.00e+00 8.09e-06  -8.6 2.35e-09    -  1.00e+00 1.00e+00f  1\n",
      "gcm.Σ = [0.10031019454196048, 0.8610147331117932]\n",
      "  48  1.1614334e+05 0.00e+00 7.54e-06  -8.6 2.10e-09    -  1.00e+00 1.00e+00f  1\n",
      "gcm.Σ = [0.10031027434465442, 0.8610158548976239]\n",
      "  49  1.1614334e+05 0.00e+00 4.21e-05  -8.6 1.96e-09    -  1.00e+00 4.88e-04f 12\n",
      "gcm.Σ = [0.10031032101067845, 0.8610165170621311]\n",
      "iter    objective    inf_pr   inf_du lg(mu)  ||d||  lg(rg) alpha_du alpha_pr  ls\n",
      "  50  1.1614334e+05 0.00e+00 6.24e-05  -8.6 1.10e-08    -  1.00e+00 1.95e-03f 10\n",
      "gcm.Σ = [0.1003103284699003, 0.8610166180663473]\n",
      "  51  1.1614334e+05 0.00e+00 4.31e-06  -8.6 1.62e-08    -  1.00e+00 1.00e+00f  1\n"
     ]
    },
    {
     "name": "stdout",
     "output_type": "stream",
     "text": [
      "gcm.Σ = [0.10031036433657615, 0.8610171034955616]\n",
      "  52  1.1614334e+05 0.00e+00 1.93e-05  -8.6 1.12e-09    -  1.00e+00 4.88e-04f 12\n",
      "gcm.Σ = [0.10031039124353809, 0.8610174826537456]\n",
      "  53  1.1614334e+05 0.00e+00 3.10e-05  -8.6 5.03e-09    -  1.00e+00 1.53e-05f 17\n",
      "gcm.Σ = [0.10031040773203312, 0.861017719388987]\n",
      "  54  1.1614334e+05 0.00e+00 3.83e-05  -8.6 8.06e-09    -  1.00e+00 1.91e-06f 20\n",
      "gcm.Σ = [0.10031041647387001, 0.861017845308664]\n",
      "  55  1.1614334e+05 0.00e+00 4.22e-05  -8.6 9.96e-09    -  1.00e+00 1.91e-06f 20\n",
      "gcm.Σ = [0.10031042014938757, 0.8610178931394405]\n",
      "  56  1.1614334e+05 0.00e+00 4.35e-05  -8.6 1.10e-08    -  1.00e+00 3.91e-03f  9\n",
      "gcm.Σ = [0.10031042258040132, 0.8610179254264329]\n",
      "  57  1.1614334e+05 0.00e+00 4.41e-05  -8.6 1.13e-08    -  1.00e+00 7.81e-03f  8\n",
      "gcm.Σ = [0.10031042330149391, 0.8610179325351913]\n",
      "  58  1.1614334e+05 0.00e+00 1.07e-06  -8.6 1.15e-08    -  1.00e+00 1.00e+00f  1\n",
      "gcm.Σ = [0.10031042739374355, 0.8610179730944845]\n",
      "  59  1.1614334e+05 0.00e+00 2.37e-06  -8.6 2.77e-10    -  1.00e+00 9.77e-04f 11\n",
      "gcm.Σ = [0.10031042964536582, 0.861018000300462]\n",
      "iter    objective    inf_pr   inf_du lg(mu)  ||d||  lg(rg) alpha_du alpha_pr  ls\n",
      "  60  1.1614334e+05 0.00e+00 3.22e-06  -8.6 6.15e-10    -  1.00e+00 9.77e-04f 11\n",
      "gcm.Σ = [0.10031043095341147, 0.8610180176120661]\n",
      "  61  1.1614334e+05 0.00e+00 3.75e-06  -8.6 8.37e-10    -  1.00e+00 1.95e-03f 10\n",
      "gcm.Σ = [0.10031043200200088, 0.8610180324746116]\n",
      "  62  1.1614334e+05 0.00e+00 4.20e-06  -8.6 9.74e-10    -  1.00e+00 3.05e-05f 16\n",
      "gcm.Σ = [0.10031043239974424, 0.8610180372310298]\n",
      "  63  1.1614334e+05 0.00e+00 3.32e-06  -8.6 1.09e-09    -  1.00e+00 2.50e-01f  3\n",
      "gcm.Σ = [0.10031043286669988, 0.8610180439075942]\n",
      "  64  1.1614334e+05 0.00e+00 3.53e-06  -8.6 8.64e-10    -  1.00e+00 2.44e-04f 13\n",
      "gcm.Σ = [0.10031043316704191, 0.8610180482590022]\n",
      "  65  1.1614334e+05 0.00e+00 3.66e-06  -8.6 9.17e-10    -  1.00e+00 1.22e-04f 14\n",
      "gcm.Σ = [0.1003104333560117, 0.8610180510661665]\n",
      "  66  1.1614334e+05 0.00e+00 3.75e-06  -8.6 9.52e-10    -  1.00e+00 3.05e-05f 16\n",
      "gcm.Σ = [0.10031043348577333, 0.8610180525304519]\n",
      "  67  1.1614334e+05 0.00e+00 3.76e-06  -8.6 9.74e-10    -  1.00e+00 7.81e-03f  8\n",
      "gcm.Σ = [0.10031043355565676, 0.8610180535936777]\n",
      "  68  1.1614334e+05 0.00e+00 3.79e-06  -8.6 9.79e-10    -  1.00e+00 9.77e-04f 11\n",
      "gcm.Σ = [0.10031043359867246, 0.8610180539021967]\n",
      "  69  1.1614334e+05 0.00e+00 8.23e-08  -8.6 9.86e-10    -  1.00e+00 1.00e+00w  1\n",
      "gcm.Σ = [0.1003104336623632, 0.8610180543457842]\n",
      "iter    objective    inf_pr   inf_du lg(mu)  ||d||  lg(rg) alpha_du alpha_pr  ls\n",
      "  70  1.1614334e+05 0.00e+00 1.66e-08  -8.6 2.14e-11    -  1.00e+00 1.00e+00w  1\n",
      "gcm.Σ = [0.1003104337181604, 0.8610180547647945]\n",
      "  71  1.1614334e+05 0.00e+00 1.43e-08  -9.0 4.32e-12    -  1.00e+00 1.00e+00f  1\n",
      "gcm.Σ = [0.10031043383501183, 0.861018055755223]\n",
      "  72  1.1614334e+05 0.00e+00 3.98e-08  -9.0 3.73e-12    -  1.00e+00 5.00e-01f  2\n",
      "gcm.Σ = [0.10031043386989826, 0.8610180560841794]\n",
      "  73  1.1614334e+05 0.00e+00 1.14e-08  -9.0 1.04e-11    -  1.00e+00 1.00e+00f  1\n",
      "gcm.Σ = [0.10031043397593724, 0.8610180571966303]\n",
      "  74  1.1614334e+05 0.00e+00 4.65e-08  -9.0 2.96e-12    -  1.00e+00 3.12e-02f  6\n",
      "gcm.Σ = [0.10031043405098466, 0.8610180580963142]\n",
      "  75  1.1614334e+05 0.00e+00 7.40e-08  -9.0 1.21e-11    -  1.00e+00 1.56e-02f  7\n",
      "gcm.Σ = [0.10031043411059368, 0.8610180588792599]\n",
      "  76  1.1614334e+05 0.00e+00 9.81e-08  -9.0 1.92e-11    -  1.00e+00 1.95e-03f 10\n",
      "gcm.Σ = [0.10031043415273518, 0.8610180594635167]\n",
      "  77  1.1614334e+05 0.00e+00 1.16e-07  -9.0 2.55e-11    -  1.00e+00 4.88e-04f 12\n",
      "gcm.Σ = [0.10031043417950859, 0.861018059842283]\n",
      "  78  1.1614334e+05 0.00e+00 1.28e-07  -9.0 3.02e-11    -  1.00e+00 4.88e-04f 12\n",
      "gcm.Σ = [0.100310434192427, 0.8610180600056536]\n",
      "  79  1.1614334e+05 0.00e+00 1.17e-07  -9.0 3.32e-11    -  1.00e+00 1.25e-01f  4\n",
      "gcm.Σ = [0.10031043420593724, 0.8610180602078109]\n",
      "iter    objective    inf_pr   inf_du lg(mu)  ||d||  lg(rg) alpha_du alpha_pr  ls\n",
      "  80  1.1614334e+05 0.00e+00 1.23e-07  -9.0 3.05e-11    -  1.00e+00 2.44e-04f 13\n",
      "gcm.Σ = [0.10031043421216335, 0.8610180602709369]\n",
      "  81  1.1614334e+05 0.00e+00 4.36e-09  -9.0 3.21e-11    -  1.00e+00 1.00e+00F  1\n",
      "\n",
      "Number of Iterations....: 81\n",
      "\n",
      "                                   (scaled)                 (unscaled)\n",
      "Objective...............:   2.3987993090527862e+03    1.1614334140684118e+05\n",
      "Dual infeasibility......:   4.3592736963260144e-09    2.1106418168770347e-07\n",
      "Constraint violation....:   0.0000000000000000e+00    0.0000000000000000e+00\n",
      "Complementarity.........:   0.0000000000000000e+00    0.0000000000000000e+00\n",
      "Overall NLP error.......:   4.3592736963260144e-09    2.1106418168770347e-07\n",
      "\n",
      "\n",
      "Number of objective function evaluations             = 457\n",
      "Number of objective gradient evaluations             = 82\n",
      "Number of equality constraint evaluations            = 0\n",
      "Number of inequality constraint evaluations          = 0\n",
      "Number of equality constraint Jacobian evaluations   = 0\n",
      "Number of inequality constraint Jacobian evaluations = 0\n",
      "Number of Lagrangian Hessian evaluations             = 81\n",
      "Total CPU secs in IPOPT (w/o function evaluations)   =      1.109\n",
      "Total CPU secs in NLP function evaluations           =    125.110\n",
      "\n",
      "EXIT: Optimal Solution Found.\n",
      " 18.674119 seconds (99.56 M allocations: 8.998 GiB, 5.46% gc time)\n"
     ]
    }
   ],
   "source": [
    "@time fit2!(gcm, IpoptSolver(print_level = 5, max_iter = 100, hessian_approximation = \"exact\"))"
   ]
  },
  {
   "cell_type": "code",
   "execution_count": 48,
   "metadata": {},
   "outputs": [
    {
     "name": "stdout",
     "output_type": "stream",
     "text": [
      "exp.(gcm.β) = [4.986032236259763]\n",
      "gcm.Σ = [0.10031043421216335, 0.8610180602709369]\n"
     ]
    }
   ],
   "source": [
    "@show exp.(gcm.β)\n",
    "\n",
    "@show gcm.Σ;"
   ]
  },
  {
   "cell_type": "code",
   "execution_count": 49,
   "metadata": {},
   "outputs": [
    {
     "name": "stdout",
     "output_type": "stream",
     "text": [
      "1 0.0 -117045.2600382745 39999\n",
      "2 -117045.2600382745 -117045.2600382745 39999\n",
      "gcm.β = [1.6340954024564622]\n",
      "gcm.Σ = [0.09165668470529689, 0.703193469117031]\n",
      "initial_logl = -116209.33278544483\n",
      "gcm.Hβ = [-191298.6845107316]\n"
     ]
    },
    {
     "data": {
      "text/plain": [
       "1×1 Array{Float64,2}:\n",
       " -191298.6845107316"
      ]
     },
     "execution_count": 49,
     "metadata": {},
     "output_type": "execute_result"
    }
   ],
   "source": [
    "d = Poisson()\n",
    "link = LogLink()\n",
    "D = typeof(d)\n",
    "Link = typeof(link)\n",
    "T = Float64\n",
    "gcs = Vector{GLMCopulaVCObs{T, D, Link}}(undef, N)\n",
    "for i in 1:N\n",
    "    y = Float64.(Y_Nsample[i])\n",
    "    X = ones(n, 1)\n",
    "    V = [ones(n, n), Matrix(I, n, n)]\n",
    "    gcs[i] = GLMCopulaVCObs(y, X, V, d, link)\n",
    "end\n",
    "gcm = GLMCopulaVCModel(gcs);\n",
    "\n",
    "initialize_model!(gcm)\n",
    "@show gcm.β;\n",
    "fill!(gcm.Σ, 1.0)\n",
    "update_Σ!(gcm)\n",
    "GLMCopula.loglikelihood!(gcm, true, true)\n",
    "fill!(gcm.Σ, 1.0)\n",
    "update_Σ!(gcm)\n",
    "@show gcm.Σ\n",
    "initial_logl = GLMCopula.loglikelihood!(gcm, true, true)\n",
    "@show initial_logl\n",
    "@show gcm.Hβ"
   ]
  },
  {
   "cell_type": "code",
   "execution_count": 50,
   "metadata": {},
   "outputs": [
    {
     "name": "stdout",
     "output_type": "stream",
     "text": [
      "gcm.Σ = [0.09230397547736052, 0.7501323074019326]\n",
      "gcm.Σ = [0.09165664315970626, 0.7031929107670822]\n",
      "gcm.Σ = [0.09165652133885283, 0.7031912728126108]\n",
      "This is Ipopt version 3.13.4, running with linear solver mumps.\n",
      "NOTE: Other linear solvers might be more efficient (see Ipopt documentation).\n",
      "\n",
      "Starting derivative checker for first derivatives.\n",
      "\n",
      "* grad_f[          1] =  3.2030006861441693e+03    ~  3.1992723888728970e+03  [ 1.165e-03]\n",
      "\n",
      "Derivative checker detected 1 error(s).\n",
      "\n",
      "Number of nonzeros in equality constraint Jacobian...:        0\n",
      "Number of nonzeros in inequality constraint Jacobian.:        0\n",
      "Number of nonzeros in Lagrangian Hessian.............:        0\n",
      "\n",
      "Total number of variables............................:        1\n",
      "                     variables with only lower bounds:        0\n",
      "                variables with lower and upper bounds:        0\n",
      "                     variables with only upper bounds:        0\n",
      "Total number of equality constraints.................:        0\n",
      "Total number of inequality constraints...............:        0\n",
      "        inequality constraints with only lower bounds:        0\n",
      "   inequality constraints with lower and upper bounds:        0\n",
      "        inequality constraints with only upper bounds:        0\n",
      "\n",
      "iter    objective    inf_pr   inf_du lg(mu)  ||d||  lg(rg) alpha_du alpha_pr  ls\n",
      "   0  1.1620933e+05 0.00e+00 1.00e+02   0.0 0.00e+00    -  0.00e+00 0.00e+00   0\n",
      "gcm.Σ = [0.09163071934656897, 0.7056210705591512]\n",
      "   1  1.1620683e+05 0.00e+00 9.81e+01 -11.0 5.23e-04    -  1.00e+00 1.00e+00f  1\n",
      "gcm.Σ = [0.09992923807082704, 0.8573374376798706]\n",
      "   2  1.1614337e+05 0.00e+00 1.91e+00 -11.0 2.64e-02    -  1.00e+00 1.00e+00f  1\n",
      "gcm.Σ = [0.10029594876273763, 0.8608552278585027]\n",
      "   3  1.1614334e+05 0.00e+00 4.52e-02 -11.0 5.23e-04    -  1.00e+00 1.00e+00f  1\n",
      "gcm.Σ = [0.10030468973026231, 0.8609410419397155]\n",
      "   4  1.1614334e+05 0.00e+00 1.80e-05 -11.0 1.27e-05    -  1.00e+00 1.00e+00f  1\n",
      "gcm.Σ = [0.1003049691605781, 0.8609445246017643]\n",
      "   5  1.1614334e+05 0.00e+00 1.08e-04 -11.0 5.06e-09    -  1.00e+00 1.00e+00f  1\n",
      "gcm.Σ = [0.10030523337921206, 0.8609478513261685]\n",
      "   6  1.1614334e+05 0.00e+00 9.71e-05 -11.0 3.03e-08    -  1.00e+00 1.00e+00f  1\n",
      "gcm.Σ = [0.10030549745759136, 0.8609511075758908]\n",
      "   7  1.1614334e+05 0.00e+00 8.62e-04 -11.0 2.81e-07    -  1.00e+00 1.00e+00f  1\n",
      "gcm.Σ = [0.1003057313113765, 0.8609541306027875]\n",
      "   8  1.1614334e+05 0.00e+00 1.85e-04 -11.0 2.53e-07    -  1.00e+00 1.00e+00f  1\n",
      "gcm.Σ = [0.10030595416814515, 0.8609570235781285]\n",
      "   9  1.1614334e+05 0.00e+00 1.07e-04 -11.0 4.47e-08    -  1.00e+00 1.00e+00f  1\n",
      "gcm.Σ = [0.10030616760600454, 0.8609597975306592]\n",
      "iter    objective    inf_pr   inf_du lg(mu)  ||d||  lg(rg) alpha_du alpha_pr  ls\n",
      "  10  1.1614334e+05 0.00e+00 3.52e-05 -11.0 6.04e-08    -  1.00e+00 1.00e+00f  1\n",
      "gcm.Σ = [0.10030636799331301, 0.8609624346216223]\n",
      "  11  1.1614334e+05 0.00e+00 1.03e-04 -11.0 1.50e-08    -  1.00e+00 1.00e+00f  1\n",
      "gcm.Σ = [0.10030655773032944, 0.8609649494025162]\n",
      "  12  1.1614334e+05 0.00e+00 1.39e-04 -11.0 1.12e-08    -  1.00e+00 1.00e+00f  1\n",
      "gcm.Σ = [0.10030673773934468, 0.8609673488454229]\n",
      "  13  1.1614334e+05 0.00e+00 1.57e-04 -11.0 1.51e-08    -  1.00e+00 1.00e+00f  1\n",
      "gcm.Σ = [0.10030690874969876, 0.8609696389941206]\n",
      "  14  1.1614334e+05 0.00e+00 1.63e-04 -11.0 1.70e-08    -  1.00e+00 1.00e+00f  1\n",
      "gcm.Σ = [0.10030707042746032, 0.8609718200074192]\n",
      "  15  1.1614334e+05 0.00e+00 2.28e-04 -11.0 8.54e-10    -  1.00e+00 1.00e+00f  1\n",
      "gcm.Σ = [0.10030722339887851, 0.8609738971422058]\n",
      "  16  1.1614334e+05 0.00e+00 2.87e-04 -11.0 1.19e-09    -  1.00e+00 1.00e+00f  1\n",
      "gcm.Σ = [0.10030736823565269, 0.8609758754090753]\n",
      "  17  1.1614334e+05 0.00e+00 3.43e-04 -11.0 1.50e-09    -  1.00e+00 1.00e+00f  1\n",
      "gcm.Σ = [0.10030750546089869, 0.8609777595824346]\n",
      "  18  1.1614334e+05 0.00e+00 3.94e-04 -11.0 1.79e-09    -  1.00e+00 1.00e+00f  1\n",
      "gcm.Σ = [0.1003076355543981, 0.8609795542106906]\n",
      "  19  1.1614334e+05 0.00e+00 4.42e-04 -11.0 2.06e-09    -  1.00e+00 1.00e+00f  1\n",
      "gcm.Σ = [0.10030775895717661, 0.8609812636260054]\n",
      "iter    objective    inf_pr   inf_du lg(mu)  ||d||  lg(rg) alpha_du alpha_pr  ls\n",
      "  20  1.1614334e+05 0.00e+00 4.86e-04 -11.0 2.31e-09    -  1.00e+00 1.00e+00f  1\n",
      "gcm.Σ = [0.10030787607552595, 0.8609828919538596]\n",
      "  21  1.1614334e+05 0.00e+00 5.27e-04 -11.0 2.54e-09    -  1.00e+00 1.00e+00f  1\n",
      "gcm.Σ = [0.10030798728452185, 0.8609844431222029]\n",
      "  22  1.1614334e+05 0.00e+00 5.64e-04 -11.0 2.75e-09    -  1.00e+00 1.00e+00f  1\n",
      "gcm.Σ = [0.10030809293112378, 0.8609859208703439]\n",
      "  23  1.1614334e+05 0.00e+00 5.99e-04 -11.0 2.95e-09    -  1.00e+00 1.00e+00f  1\n",
      "gcm.Σ = [0.10030819333691239, 0.8609873287576126]\n",
      "  24  1.1614334e+05 0.00e+00 6.30e-04 -11.0 3.13e-09    -  1.00e+00 1.00e+00f  1\n",
      "gcm.Σ = [0.10030828880048066, 0.8609886701714681]\n",
      "  25  1.1614334e+05 0.00e+00 6.59e-04 -11.0 3.29e-09    -  1.00e+00 1.00e+00f  1\n",
      "gcm.Σ = [0.10030837959957825, 0.8609899483355882]\n",
      "  26  1.1614334e+05 0.00e+00 6.85e-04 -11.0 3.45e-09    -  1.00e+00 1.00e+00f  1\n",
      "gcm.Σ = [0.10030846599299592, 0.860991166317493]\n",
      "  27  1.1614334e+05 0.00e+00 7.09e-04 -11.0 3.58e-09    -  1.00e+00 1.00e+00f  1\n",
      "gcm.Σ = [0.1003085482222288, 0.8609923270357865]\n",
      "  28  1.1614334e+05 0.00e+00 7.31e-04 -11.0 3.71e-09    -  1.00e+00 1.00e+00f  1\n",
      "gcm.Σ = [0.10030862651296851, 0.8609934332672076]\n",
      "  29  1.1614334e+05 0.00e+00 7.51e-04 -11.0 3.82e-09    -  1.00e+00 1.00e+00f  1\n",
      "gcm.Σ = [0.10030870107643138, 0.8609944876533747]\n",
      "iter    objective    inf_pr   inf_du lg(mu)  ||d||  lg(rg) alpha_du alpha_pr  ls\n",
      "  30  1.1614334e+05 0.00e+00 7.69e-04 -11.0 3.93e-09    -  1.00e+00 1.00e+00f  1\n",
      "gcm.Σ = [0.10030877211054438, 0.8609954927072139]\n",
      "  31  1.1614334e+05 0.00e+00 7.84e-04 -11.0 4.02e-09    -  1.00e+00 1.00e+00f  1\n",
      "gcm.Σ = [0.10030883980100244, 0.860996450819093]\n",
      "  32  1.1614334e+05 0.00e+00 7.98e-04 -11.0 4.10e-09    -  1.00e+00 1.00e+00f  1\n",
      "gcm.Σ = [0.10030890432221744, 0.8609973642626609]\n",
      "  33  1.1614334e+05 0.00e+00 8.11e-04 -11.0 4.17e-09    -  1.00e+00 1.00e+00f  1\n",
      "gcm.Σ = [0.10030896583817964, 0.8609982352004988]\n",
      "  34  1.1614334e+05 0.00e+00 8.22e-04 -11.0 4.24e-09    -  1.00e+00 1.00e+00f  1\n",
      "gcm.Σ = [0.1003090245032384, 0.8609990656895558]\n",
      "  35  1.1614334e+05 0.00e+00 8.31e-04 -11.0 4.29e-09    -  1.00e+00 1.00e+00f  1\n",
      "gcm.Σ = [0.10030908046278146, 0.8609998576860893]\n",
      "  36  1.1614334e+05 0.00e+00 8.39e-04 -11.0 4.34e-09    -  1.00e+00 1.00e+00f  1\n",
      "gcm.Σ = [0.10030913385388365, 0.8610006130506686]\n",
      "  37  1.1614334e+05 0.00e+00 8.46e-04 -11.0 4.39e-09    -  1.00e+00 1.00e+00f  1\n",
      "gcm.Σ = [0.10030918480588333, 0.8610013335528472]\n",
      "  38  1.1614334e+05 0.00e+00 8.51e-04 -11.0 4.42e-09    -  1.00e+00 1.00e+00f  1\n",
      "gcm.Σ = [0.10030923344089046, 0.8610020208754434]\n",
      "  39  1.1614334e+05 0.00e+00 8.56e-04 -11.0 4.45e-09    -  1.00e+00 1.00e+00f  1\n",
      "gcm.Σ = [0.10030927987428531, 0.8610026766189491]\n",
      "iter    objective    inf_pr   inf_du lg(mu)  ||d||  lg(rg) alpha_du alpha_pr  ls\n",
      "  40  1.1614334e+05 0.00e+00 8.59e-04 -11.0 4.47e-09    -  1.00e+00 1.00e+00f  1\n",
      "gcm.Σ = [0.10030932421513816, 0.8610033023053933]\n",
      "  41  1.1614334e+05 0.00e+00 8.61e-04 -11.0 4.49e-09    -  1.00e+00 1.00e+00f  1\n",
      "gcm.Σ = [0.10030936656662212, 0.8610038993822701]\n",
      "  42  1.1614334e+05 0.00e+00 8.63e-04 -11.0 4.50e-09    -  1.00e+00 1.00e+00f  1\n",
      "gcm.Σ = [0.10030940702638166, 0.8610044692261757]\n",
      "  43  1.1614334e+05 0.00e+00 8.63e-04 -11.0 4.51e-09    -  1.00e+00 1.00e+00f  1\n",
      "gcm.Σ = [0.10030944568687611, 0.8610050131463288]\n",
      "  44  1.1614334e+05 0.00e+00 8.63e-04 -11.0 4.51e-09    -  1.00e+00 1.00e+00f  1\n",
      "gcm.Σ = [0.10030948263567534, 0.8610055323877072]\n",
      "  45  1.1614334e+05 0.00e+00 8.62e-04 -11.0 4.51e-09    -  1.00e+00 1.00e+00f  1\n",
      "gcm.Σ = [0.1003101245415309, 0.8610108002274526]\n",
      "  46  1.1614334e+05 0.00e+00 7.71e-04 -11.0 3.83e-06    -  1.00e+00 1.25e-01f  4\n",
      "gcm.Σ = [0.1003101183616576, 0.8610111345817675]\n",
      "  47  1.1614334e+05 0.00e+00 9.11e-05 -11.0 2.26e-07    -  1.00e+00 1.00e+00f  1\n",
      "gcm.Σ = [0.10031011636676888, 0.861011458794901]\n",
      "  48  1.1614334e+05 0.00e+00 9.86e-06 -11.0 2.39e-08    -  1.00e+00 1.00e+00f  1\n",
      "gcm.Σ = [0.10031011676104014, 0.8610117670664719]\n",
      "  49  1.1614334e+05 0.00e+00 7.49e-06 -11.0 2.90e-09    -  1.00e+00 1.00e+00f  1\n",
      "gcm.Σ = [0.10031012885291461, 0.8610126082821377]\n",
      "iter    objective    inf_pr   inf_du lg(mu)  ||d||  lg(rg) alpha_du alpha_pr  ls\n",
      "  50  1.1614334e+05 0.00e+00 3.18e-06 -11.0 9.15e-09    -  1.00e+00 1.00e+00F  1\n",
      "gcm.Σ = [0.10031013484926524, 0.8610128598439184]\n"
     ]
    },
    {
     "name": "stdout",
     "output_type": "stream",
     "text": [
      "  51  1.1614334e+05 0.00e+00 1.44e-05 -11.0 2.73e-09    -  1.00e+00 1.00e+00f  1\n",
      "gcm.Σ = [0.10031016460138147, 0.8610137479095301]\n",
      "  52  1.1614334e+05 0.00e+00 3.82e-05 -11.0 2.24e-09    -  1.00e+00 2.50e-01f  3\n",
      "gcm.Σ = [0.10031017298811036, 0.8610139445005375]\n",
      "  53  1.1614334e+05 0.00e+00 2.16e-05 -11.0 5.94e-09    -  1.00e+00 1.00e+00f  1\n",
      "gcm.Σ = [0.1003101818527073, 0.8610141337799347]\n",
      "  54  1.1614334e+05 0.00e+00 1.92e-06 -11.0 7.72e-09    -  1.00e+00 1.00e+00f  1\n",
      "gcm.Σ = [0.10031019928661557, 0.861014484486974]\n",
      "  55  1.1614334e+05 0.00e+00 1.09e-05 -11.0 6.32e-10    -  1.00e+00 1.00e+00F  1\n",
      "gcm.Σ = [0.1003102078373102, 0.8610146472155117]\n",
      "  56  1.1614334e+05 0.00e+00 1.38e-05 -11.0 5.37e-10    -  1.00e+00 1.00e+00f  1\n",
      "gcm.Σ = [0.10031024014199172, 0.8610152230215464]\n",
      "  57  1.1614334e+05 0.00e+00 3.05e-05 -11.0 6.78e-10    -  1.00e+00 2.50e-01f  3\n",
      "gcm.Σ = [0.10031026874043, 0.8610156956091026]\n",
      "  58  1.1614334e+05 0.00e+00 4.35e-05 -11.0 1.50e-09    -  1.00e+00 2.50e-01f  3\n",
      "gcm.Σ = [0.1003102903249666, 0.8610160381725834]\n",
      "  59  1.1614334e+05 0.00e+00 5.35e-05 -11.0 2.27e-10    -  1.00e+00 5.00e-01f  2\n",
      "gcm.Σ = [0.1003102959539855, 0.8610161256802061]\n",
      "iter    objective    inf_pr   inf_du lg(mu)  ||d||  lg(rg) alpha_du alpha_pr  ls\n",
      "  60  1.1614334e+05 0.00e+00 5.51e-05 -11.0 2.80e-10    -  1.00e+00 1.00e+00f  1\n",
      "gcm.Σ = [0.10031031622012535, 0.8610164356969671]\n",
      "  61  1.1614334e+05 0.00e+00 6.43e-05 -11.0 2.88e-10    -  1.00e+00 2.50e-01f  3\n",
      "gcm.Σ = [0.10031032075785884, 0.86101650414589]\n",
      "  62  1.1614334e+05 0.00e+00 6.51e-05 -11.0 3.36e-10    -  1.00e+00 1.00e+00f  1\n",
      "gcm.Σ = [0.10031032511199671, 0.8610165694014202]\n",
      "  63  1.1614334e+05 0.00e+00 6.58e-05 -11.0 3.40e-10    -  1.00e+00 1.00e+00f  1\n",
      "gcm.Σ = [0.10031033890080998, 0.8610167743182571]\n",
      "  64  1.1614334e+05 0.00e+00 7.15e-05 -11.0 3.44e-10    -  1.00e+00 5.00e-01f  2\n",
      "gcm.Σ = [0.10031035212901934, 0.8610169692059148]\n",
      "  65  1.1614334e+05 0.00e+00 7.71e-05 -11.0 3.74e-10    -  1.00e+00 2.50e-01f  3\n",
      "gcm.Σ = [0.10031036662607735, 0.8610171815701585]\n",
      "  66  1.1614334e+05 0.00e+00 8.36e-05 -11.0 4.03e-10    -  1.00e+00 3.12e-02f  6\n",
      "gcm.Σ = [0.10031037406005819, 0.861017289810821]\n",
      "  67  1.1614334e+05 0.00e+00 8.61e-05 -11.0 4.37e-10    -  1.00e+00 5.00e-01f  2\n",
      "gcm.Σ = [0.10031038559863101, 0.8610174576177066]\n",
      "  68  1.1614334e+05 0.00e+00 9.12e-05 -11.0 4.50e-10    -  1.00e+00 3.91e-03f  9\n",
      "gcm.Σ = [0.10031039606558091, 0.8610176098137653]\n",
      "  69  1.1614334e+05 0.00e+00 9.59e-05 -11.0 4.77e-10    -  1.00e+00 1.22e-04f 14\n",
      "gcm.Σ = [0.10031039889962826, 0.8610176505072192]\n",
      "iter    objective    inf_pr   inf_du lg(mu)  ||d||  lg(rg) alpha_du alpha_pr  ls\n",
      "  70  1.1614334e+05 0.00e+00 9.62e-05 -11.0 5.01e-10    -  1.00e+00 5.00e-01f  2\n",
      "gcm.Σ = [0.10031040327604453, 0.8610177136336384]\n",
      "  71  1.1614334e+05 0.00e+00 9.81e-05 -11.0 5.03e-10    -  1.00e+00 3.91e-03f  9\n",
      "gcm.Σ = [0.10031040499920779, 0.8610177381643063]\n",
      "  72  1.1614334e+05 0.00e+00 9.79e-05 -11.0 5.13e-10    -  1.00e+00 5.00e-01f  2\n",
      "gcm.Σ = [0.10031042099661855, 0.8610178639655462]\n",
      "  73  1.1614334e+05 0.00e+00 8.82e-05 -11.0 1.18e-07    -  1.00e+00 3.12e-02f  6\n",
      "gcm.Σ = [0.10031042207486171, 0.8610178760622975]\n",
      "  74  1.1614334e+05 0.00e+00 3.74e-05 -11.0 3.34e-08    -  1.00e+00 1.00e+00f  1\n",
      "gcm.Σ = [0.10031042481676924, 0.8610179154549245]\n",
      "  75  1.1614334e+05 0.00e+00 3.15e-05 -11.0 9.95e-09    -  1.00e+00 1.25e-01f  4\n",
      "gcm.Σ = [0.10031042524960486, 0.8610179226359356]\n",
      "  76  1.1614334e+05 0.00e+00 6.25e-06 -11.0 6.64e-09    -  1.00e+00 1.00e+00f  1\n",
      "gcm.Σ = [0.1003104255757992, 0.8610179289569333]\n",
      "  77  1.1614334e+05 0.00e+00 1.36e-07 -11.0 1.64e-09    -  1.00e+00 1.00e+00f  1\n",
      "gcm.Σ = [0.10031042589783318, 0.8610179349793311]\n",
      "  78  1.1614334e+05 0.00e+00 1.85e-07 -11.0 3.49e-11    -  1.00e+00 1.00e+00f  1\n",
      "gcm.Σ = [0.10031042696931045, 0.8610179538770544]\n",
      "  79  1.1614334e+05 0.00e+00 6.66e-07 -11.0 4.76e-11    -  1.00e+00 5.00e-01f  2\n",
      "gcm.Σ = [0.1003104292011732, 0.8610179898118459]\n",
      "iter    objective    inf_pr   inf_du lg(mu)  ||d||  lg(rg) alpha_du alpha_pr  ls\n",
      "  80  1.1614334e+05 0.00e+00 1.76e-06 -11.0 1.71e-10    -  1.00e+00 2.44e-04f 13\n",
      "gcm.Σ = [0.10031042940048013, 0.8610179928899021]\n",
      "  81  1.1614334e+05 0.00e+00 1.82e-06 -11.0 9.19e-12    -  1.00e+00 1.00e+00f  1\n",
      "gcm.Σ = [0.10031043003445145, 0.8610180025477167]\n",
      "  82  1.1614334e+05 0.00e+00 2.10e-06 -11.0 9.50e-12    -  1.00e+00 5.00e-01f  2\n",
      "gcm.Σ = [0.1003104309745632, 0.8610180166029164]\n",
      "  83  1.1614334e+05 0.00e+00 2.53e-06 -11.0 1.10e-11    -  1.00e+00 7.81e-03f  8\n",
      "gcm.Σ = [0.10031043175513492, 0.8610180281004761]\n",
      "  84  1.1614334e+05 0.00e+00 2.88e-06 -11.0 1.32e-11    -  1.00e+00 1.95e-03f 10\n",
      "gcm.Σ = [0.10031043226857979, 0.8610180356030459]\n",
      "  85  1.1614334e+05 0.00e+00 3.11e-06 -11.0 1.50e-11    -  1.00e+00 3.91e-03f  9\n",
      "gcm.Σ = [0.10031043263359854, 0.8610180409177054]\n",
      "  86  1.1614334e+05 0.00e+00 3.27e-06 -11.0 1.62e-11    -  1.00e+00 3.91e-03f  9\n",
      "gcm.Σ = [0.10031043267690211, 0.861018041541478]\n",
      "  87  1.1614334e+05 0.00e+00 3.23e-06 -11.0 1.71e-11    -  1.00e+00 1.00e+00f  1\n",
      "gcm.Σ = [0.10031043278572777, 0.8610180425144346]\n",
      "  88  1.1614334e+05 0.00e+00 1.33e-06 -11.0 1.22e-09    -  1.00e+00 1.00e+00f  1\n",
      "gcm.Σ = [0.10031043286588896, 0.8610180433319589]\n",
      "  89  1.1614334e+05 0.00e+00 3.54e-08 -11.0 3.56e-10    -  1.00e+00 1.00e+00f  1\n",
      "gcm.Σ = [0.1003104329406186, 0.8610180441142784]\n",
      "iter    objective    inf_pr   inf_du lg(mu)  ||d||  lg(rg) alpha_du alpha_pr  ls\n",
      "  90  1.1614334e+05 0.00e+00 2.56e-08 -11.0 9.21e-12    -  1.00e+00 1.00e+00f  1\n",
      "gcm.Σ = [0.10031043301126591, 0.8610180448675527]\n",
      "  91  1.1614334e+05 0.00e+00 4.12e-08 -11.0 2.41e-11    -  1.00e+00 1.00e+00f  1\n",
      "gcm.Σ = [0.10031043321968455, 0.8610180472236151]\n",
      "  92  1.1614334e+05 0.00e+00 6.11e-08 -11.0 1.48e-11    -  1.00e+00 5.00e-01f  2\n",
      "gcm.Σ = [0.10031043327107023, 0.8610180478298612]\n",
      "  93  1.1614334e+05 0.00e+00 6.35e-08 -11.0 4.43e-12    -  1.00e+00 1.00e+00f  1\n",
      "gcm.Σ = [0.10031043344674079, 0.8610180499852422]\n",
      "  94  1.1614334e+05 0.00e+00 1.27e-07 -11.0 4.60e-12    -  1.00e+00 2.50e-01f  3\n",
      "gcm.Σ = [0.10031043356941305, 0.8610180515617789]\n",
      "  95  1.1614334e+05 0.00e+00 1.58e-07 -11.0 9.17e-12    -  1.00e+00 5.00e-01f  2\n",
      "gcm.Σ = [0.10031043359989987, 0.8610180519641997]\n",
      "  96  1.1614334e+05 0.00e+00 1.68e-07 -11.0 8.27e-13    -  1.00e+00 1.00e+00f  1\n",
      "gcm.Σ = [0.10031043370598916, 0.8610180533913652]\n",
      "  97  1.1614334e+05 0.00e+00 2.11e-07 -11.0 8.76e-13    -  1.00e+00 2.50e-01f  3\n",
      "gcm.Σ = [0.10031043384395553, 0.8610180553049163]\n",
      "  98  1.1614334e+05 0.00e+00 2.70e-07 -11.0 1.10e-12    -  1.00e+00 3.91e-03f  9\n",
      "gcm.Σ = [0.10031043394520416, 0.8610180567419885]\n",
      "  99  1.1614334e+05 0.00e+00 3.14e-07 -11.0 1.41e-12    -  1.00e+00 1.95e-03f 10\n",
      "gcm.Σ = [0.10031043400262595, 0.8610180575655941]\n",
      "iter    objective    inf_pr   inf_du lg(mu)  ||d||  lg(rg) alpha_du alpha_pr  ls\n",
      " 100  1.1614334e+05 0.00e+00 3.39e-07 -11.0 1.64e-12    -  1.00e+00 1.56e-02f  7\n",
      "gcm.Σ = [0.10031043404515742, 0.8610180581787403]\n",
      " 101  1.1614334e+05 0.00e+00 3.58e-07 -11.0 1.77e-12    -  1.00e+00 1.56e-02f  7\n",
      "gcm.Σ = [0.10031043407214155, 0.8610180585683814]\n",
      " 102  1.1614334e+05 0.00e+00 3.70e-07 -11.0 1.87e-12    -  1.00e+00 6.25e-02f  5\n",
      "gcm.Σ = [0.10031043407683647, 0.8610180586357418]\n",
      " 103  1.1614334e+05 0.00e+00 3.65e-07 -11.0 1.93e-12    -  1.00e+00 1.00e+00f  1\n",
      "\n",
      "Number of Iterations....: 103\n",
      "\n",
      "                                   (scaled)                 (unscaled)\n",
      "Objective...............:   2.3987984493454278e+03    1.1614334140684144e+05\n",
      "Dual infeasibility......:   3.6450682948262308e-07    1.7648436096528997e-05\n",
      "Constraint violation....:   0.0000000000000000e+00    0.0000000000000000e+00\n",
      "Complementarity.........:   0.0000000000000000e+00    0.0000000000000000e+00\n",
      "Overall NLP error.......:   3.6450682948262308e-07    1.7648436096528997e-05\n",
      "\n",
      "\n",
      "Number of objective function evaluations             = 387\n",
      "Number of objective gradient evaluations             = 104\n",
      "Number of equality constraint evaluations            = 0\n",
      "Number of inequality constraint evaluations          = 0\n",
      "Number of equality constraint Jacobian evaluations   = 0\n",
      "Number of inequality constraint Jacobian evaluations = 0\n",
      "Number of Lagrangian Hessian evaluations             = 0\n",
      "Total CPU secs in IPOPT (w/o function evaluations)   =      2.283\n",
      "Total CPU secs in NLP function evaluations           =     69.884\n",
      "\n",
      "EXIT: Solved To Acceptable Level.\n",
      " 10.790702 seconds (38.23 M allocations: 3.447 GiB, 2.72% gc time)\n"
     ]
    }
   ],
   "source": [
    "@time fit2!(gcm, IpoptSolver(print_level = 5, max_iter = 500, point_perturbation_radius = 0.01, derivative_test = \"first-order\", warm_start_init_point=\"yes\", limited_memory_initialization = \"constant\", limited_memory_init_val = -gcm.Hβ[1], hessian_approximation = \"limited-memory\"))"
   ]
  },
  {
   "cell_type": "code",
   "execution_count": 51,
   "metadata": {},
   "outputs": [
    {
     "name": "stdout",
     "output_type": "stream",
     "text": [
      "gcm.β = [1.6066404505444691]\n",
      "gcm.Σ = [0.10031043407683647, 0.8610180586357418]\n",
      "gcm.∇β = [-1.7648436096528997e-5]\n",
      "gcm.∇Σ = [0.0, 0.0]\n"
     ]
    },
    {
     "data": {
      "text/plain": [
       "-116143.34140684143"
      ]
     },
     "execution_count": 51,
     "metadata": {},
     "output_type": "execute_result"
    }
   ],
   "source": [
    "@show gcm.β\n",
    "@show gcm.Σ\n",
    "\n",
    "@show gcm.∇β\n",
    "@show gcm.∇Σ\n",
    "GLMCopula.loglikelihood!(gcm, true, true)"
   ]
  },
  {
   "cell_type": "code",
   "execution_count": null,
   "metadata": {},
   "outputs": [],
   "source": []
  }
 ],
 "metadata": {
  "@webio": {
   "lastCommId": null,
   "lastKernelId": null
  },
  "kernelspec": {
   "display_name": "Julia 1.5.2",
   "language": "julia",
   "name": "julia-1.5"
  },
  "language_info": {
   "file_extension": ".jl",
   "mimetype": "application/julia",
   "name": "julia",
   "version": "1.5.2"
  },
  "toc": {
   "base_numbering": 1,
   "nav_menu": {},
   "number_sections": true,
   "sideBar": true,
   "skip_h1_title": false,
   "title_cell": "Table of Contents",
   "title_sidebar": "Contents",
   "toc_cell": false,
   "toc_position": {},
   "toc_section_display": true,
   "toc_window_display": false
  }
 },
 "nbformat": 4,
 "nbformat_minor": 2
}
