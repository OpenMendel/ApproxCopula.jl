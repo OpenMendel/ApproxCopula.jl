{
 "cells": [
  {
   "cell_type": "markdown",
   "metadata": {},
   "source": [
    "### Simulate from GLMM instead of Element wise simulation under model equal signal to noise ratio\n",
    "\n",
    "Instead of simulating the random vector element by element and then doing this 100,000 times, here we check the robustness of the estimation procedure by using a more standard way to simulate from the GLMM model. \n",
    "\n",
    "We simulate the multivariate normal systematic component with the random effects and then use the inverse link function for each entry to let $\\mu_i = g^{-1}(\\eta_i)$ be the rate of the GLMM poisson response.\n",
    "\n",
    "$\\beta = \\begin{pmatrix} 1 \\\\ 1\\\\ 1 \\end{pmatrix}$\n",
    "\n",
    "$n_i = 20$\n",
    "\n",
    "$V_1 = 1_n 1_n^t, V_2 = I_n$\n",
    "\n",
    "$\\Gamma = 0.1 * V_1 + 0.1 * V_2$"
   ]
  },
  {
   "cell_type": "code",
   "execution_count": 1,
   "metadata": {},
   "outputs": [],
   "source": [
    "using GLMCopula, Random, LinearAlgebra, GLM\n",
    "\n",
    "Random.seed!(123)\n",
    "\n",
    "n = 100000  # number of observations\n",
    "n_i = 20\n",
    "# ns = rand(5:100, n) # ni in each observation\n",
    "ns = [n_i for i in 1:n]\n",
    "p = 3   # number of mean parameters\n",
    "m = 2   # number of variance components\n",
    "\n",
    "dist = Poisson()\n",
    "link = LogLink()\n",
    "D = typeof(dist)\n",
    "Link = typeof(link)\n",
    "\n",
    "gcs = Vector{GLMCopulaVCObs{Float64, D, Link}}(undef, n)\n",
    "# true parameter values\n",
    "βtruth = ones(p)\n",
    "σ2truth = [0.1; 0.1]\n",
    "for i in 1:n\n",
    "    ni = ns[i]\n",
    "    # set up covariance matrix\n",
    "    V1 = ones(ni, ni)\n",
    "    V2 = Matrix(I, ni, ni)\n",
    "    Ω = σ2truth[1] * V1 + σ2truth[2] * V2\n",
    "    \n",
    "    Ωchol = cholesky(Symmetric(Ω))\n",
    "    # simulate design matrix\n",
    "    X = [ones(ni) randn(ni, p-1)]\n",
    "    # generate mvn systematic \n",
    "    η = X * βtruth + Ωchol.L * randn(ni)\n",
    "    \n",
    "    # generate mu for glm \n",
    "    μ = GLM.linkinv.(link, η)\n",
    "    # generate poisson response\n",
    "\n",
    "    y = Float64.(rand.(Poisson.(μ)))\n",
    "    \n",
    "    # add to data\n",
    "    gcs[i] = GLMCopulaVCObs(y, X, [V1, V2], dist, link)\n",
    "end\n",
    "\n",
    "gcm = GLMCopulaVCModel(gcs);"
   ]
  },
  {
   "cell_type": "code",
   "execution_count": 2,
   "metadata": {},
   "outputs": [
    {
     "name": "stderr",
     "output_type": "stream",
     "text": [
      "┌ Info: Initial point:\n",
      "└ @ Main In[2]:1\n"
     ]
    },
    {
     "name": "stdout",
     "output_type": "stream",
     "text": [
      "1 0.0 -5.851294412415099e7 399999\n",
      "2 -5.851294412415099e7 -3.3254867828476127e7 99999\n",
      "3 -3.3254867828476127e7 -1.4292270737835135e7 99999\n",
      "4 -1.4292270737835135e7 -6.946083518230645e6 99999\n",
      "5 -6.946083518230645e6 -5.459909530314097e6 99999\n",
      "6 -5.459909530314097e6 -5.37328944152139e6 99999\n",
      "7 -5.37328944152139e6 -5.372890144048035e6 99999\n",
      "8 -5.372890144048035e6 -5.3728901343954895e6 99999\n",
      "gcm.β = [1.101864801076517, 0.997759869854687, 0.9999854726500036]\n",
      "inv.(gcm.τ) = [1.0]\n",
      "gcm.Σ = [1400.39060321597, 416.3170881522573]\n"
     ]
    }
   ],
   "source": [
    "@info \"Initial point:\"\n",
    "initialize_model!(gcm);\n",
    "@show gcm.β\n",
    "fill!(gcm.Σ, 1)\n",
    "update_Σ!(gcm)\n",
    "@show inv.(gcm.τ)\n",
    "@show gcm.Σ\n",
    "loglikelihood!(gcm, true, true);"
   ]
  },
  {
   "cell_type": "code",
   "execution_count": 3,
   "metadata": {},
   "outputs": [
    {
     "name": "stdout",
     "output_type": "stream",
     "text": [
      "gcm.β = [1.101864801076517, 0.997759869854687, 0.9999854726500036]\n",
      "gcm.Σ = [2799.1875796181153, 832.2280738769048]\n",
      "gcm.β = [1.101864801076517, 0.997759869854687, 0.9999854726500036]\n",
      "gcm.Σ = [4197.986133077334, 1248.139528029994]\n",
      "\n",
      "******************************************************************************\n",
      "This program contains Ipopt, a library for large-scale nonlinear optimization.\n",
      " Ipopt is released as open source code under the Eclipse Public License (EPL).\n",
      "         For more information visit https://github.com/coin-or/Ipopt\n",
      "******************************************************************************\n",
      "\n",
      "This is Ipopt version 3.13.4, running with linear solver mumps.\n",
      "NOTE: Other linear solvers might be more efficient (see Ipopt documentation).\n",
      "\n",
      "Number of nonzeros in equality constraint Jacobian...:        0\n",
      "Number of nonzeros in inequality constraint Jacobian.:        0\n",
      "Number of nonzeros in Lagrangian Hessian.............:        6\n",
      "\n",
      "Total number of variables............................:        3\n",
      "                     variables with only lower bounds:        0\n",
      "                variables with lower and upper bounds:        0\n",
      "                     variables with only upper bounds:        0\n",
      "Total number of equality constraints.................:        0\n",
      "Total number of inequality constraints...............:        0\n",
      "        inequality constraints with only lower bounds:        0\n",
      "   inequality constraints with lower and upper bounds:        0\n",
      "        inequality constraints with only upper bounds:        0\n",
      "\n",
      "iter    objective    inf_pr   inf_du lg(mu)  ||d||  lg(rg) alpha_du alpha_pr  ls\n",
      "   0  5.2350102e+06 0.00e+00 1.00e+02  -1.0 0.00e+00    -  0.00e+00 0.00e+00   0\n",
      "gcm.β = [1.1086149623259807, 0.9962196923175201, 0.9984364265015951]\n",
      "gcm.Σ = [9821.932345592802, 2887.9997645879234]\n",
      "   1  5.2348791e+06 0.00e+00 4.80e-01  -1.0 6.75e-03    -  1.00e+00 1.00e+00f  1\n",
      "gcm.β = [1.1086671300732418, 0.996202795735976, 0.9984194456715183]\n",
      "gcm.Σ = [14035.036081172704, 4126.489957415694]\n",
      "   2  5.2348789e+06 0.00e+00 5.89e-03  -1.7 5.22e-05    -  1.00e+00 1.00e+00f  1\n",
      "gcm.β = [1.108667743934048, 0.9962026015326209, 0.9984192491582985]\n",
      "gcm.Σ = [18247.966222118175, 5365.163276123055]\n",
      "   3  5.2348789e+06 0.00e+00 1.11e-04  -3.8 6.14e-07    -  1.00e+00 1.00e+00f  1\n",
      "gcm.β = [1.1086677520116628, 0.9962025995250173, 0.9984192471492048]\n",
      "gcm.Σ = [22460.89369480803, 6603.839765568575]\n",
      "   4  5.2348789e+06 0.00e+00 3.32e-05  -5.7 8.08e-09    -  1.00e+00 1.00e+00f  1\n",
      "gcm.β = [1.1086677526382158, 0.9962025996719349, 0.9984192473148955]\n",
      "gcm.Σ = [26673.821318855054, 7842.516361113197]\n",
      "   5  5.2348788e+06 0.00e+00 2.26e-05  -5.7 6.27e-10    -  1.00e+00 1.00e+00f  1\n",
      "gcm.β = [1.1086677530091114, 0.996202599790688, 0.9984192474467523]\n",
      "gcm.Σ = [28085.32062625559, 8257.52257430509]\n",
      "   6  5.2348788e+06 0.00e+00 6.09e-06  -5.7 3.71e-10    -  1.00e+00 1.00e+00f  1\n",
      "gcm.β = [1.10866775311112, 0.9962025998218933, 0.9984192474814828]\n",
      "gcm.Σ = [28085.461058513607, 8257.563862194673]\n",
      "   7  5.2348788e+06 0.00e+00 1.83e-08  -8.6 1.02e-10    -  1.00e+00 1.00e+00f  1\n",
      "gcm.β = [1.1086677531123705, 0.996202599821598, 0.998419247481194]\n",
      "gcm.Σ = [28085.54531721324, 8257.588635580676]\n",
      "   8  5.2348788e+06 0.00e+00 9.87e-10  -9.0 1.25e-12    -  1.00e+00 1.00e+00f  1\n",
      "\n",
      "Number of Iterations....: 8\n",
      "\n",
      "                                   (scaled)                 (unscaled)\n",
      "Objective...............:   9.8636947048145976e+03    5.2348788210896021e+06\n",
      "Dual infeasibility......:   9.8748316762136258e-10    5.2407894557404699e-07\n",
      "Constraint violation....:   0.0000000000000000e+00    0.0000000000000000e+00\n",
      "Complementarity.........:   0.0000000000000000e+00    0.0000000000000000e+00\n",
      "Overall NLP error.......:   9.8748316762136258e-10    5.2407894557404699e-07\n",
      "\n",
      "\n",
      "Number of objective function evaluations             = 9\n",
      "Number of objective gradient evaluations             = 9\n",
      "Number of equality constraint evaluations            = 0\n",
      "Number of inequality constraint evaluations          = 0\n",
      "Number of equality constraint Jacobian evaluations   = 0\n",
      "Number of inequality constraint Jacobian evaluations = 0\n",
      "Number of Lagrangian Hessian evaluations             = 8\n",
      "Total CPU secs in IPOPT (w/o function evaluations)   =    137.572\n",
      "Total CPU secs in NLP function evaluations           =   2662.493\n",
      "\n",
      "EXIT: Optimal Solution Found.\n",
      "464.763617 seconds (367.42 M allocations: 39.403 GiB, 1.47% gc time)\n"
     ]
    }
   ],
   "source": [
    "@time fit2!(gcm, IpoptSolver(print_level = 5, max_iter = 500, hessian_approximation = \"exact\"))"
   ]
  },
  {
   "cell_type": "code",
   "execution_count": 4,
   "metadata": {},
   "outputs": [
    {
     "name": "stdout",
     "output_type": "stream",
     "text": [
      "gcm.β = [1.1086677531123705, 0.996202599821598, 0.998419247481194]\n",
      "inv.(gcm.τ) = [1.0]\n",
      "gcm.Σ = [28085.54531721324, 8257.588635580676]\n",
      "gcm.∇β = [5.240789455740469e-7, 2.807070673682688e-7, 2.7682615311164227e-7]\n",
      "loglikelihood!(gcm, true, true) = -5.2348788210895e6\n"
     ]
    }
   ],
   "source": [
    "@show gcm.β\n",
    "@show inv.(gcm.τ)\n",
    "@show gcm.Σ\n",
    "@show gcm.∇β\n",
    "@show loglikelihood!(gcm, true, true);"
   ]
  },
  {
   "cell_type": "markdown",
   "metadata": {},
   "source": [
    "### Now with different V1, V2\n",
    "\n",
    "This is to see how it works for a more complicated covariance structure"
   ]
  },
  {
   "cell_type": "code",
   "execution_count": 7,
   "metadata": {},
   "outputs": [],
   "source": [
    "gcs = Vector{GLMCopulaVCObs{Float64, D, Link}}(undef, n)\n",
    "# true parameter values\n",
    "βtruth = ones(p)\n",
    "σ2truth = [0.1; 0.1]\n",
    "for i in 1:n\n",
    "    ni = ns[i]\n",
    "    # set up covariance matrix\n",
    "    V1 = convert(Matrix, Symmetric([Float64(i * (ni - j + 1)) for i in 1:ni, j in 1:ni])) # a pd matrix\n",
    "    V1 ./= norm(V1) / sqrt(ni) # scale to have Frobenius norm sqrt(n)\n",
    "    prob = fill(1/ni, ni)\n",
    "    V2 = ni .* (Diagonal(prob) - prob * transpose(prob))\n",
    "    V2 ./= norm(V2) / sqrt(ni) # scale to have Frobenious norm sqrt(n)\n",
    "    Ω = σ2truth[1] * V1 + σ2truth[2] * V2\n",
    "    \n",
    "    Ωchol = cholesky(Symmetric(Ω))\n",
    "    # simulate design matrix\n",
    "    X = [ones(ni) randn(ni, p-1)]\n",
    "    # generate mvn systematic \n",
    "    η = X * βtruth + Ωchol.L * randn(ni)\n",
    "    \n",
    "    # generate mu for glm \n",
    "    μ = GLM.linkinv.(link, η)\n",
    "    # generate poisson response\n",
    "\n",
    "    y = Float64.(rand.(Poisson.(μ)))\n",
    "    \n",
    "    # add to data\n",
    "    gcs[i] = GLMCopulaVCObs(y, X, [V1, V2], dist, link)\n",
    "end\n",
    "\n",
    "gcm = GLMCopulaVCModel(gcs);"
   ]
  },
  {
   "cell_type": "code",
   "execution_count": 8,
   "metadata": {},
   "outputs": [
    {
     "name": "stderr",
     "output_type": "stream",
     "text": [
      "┌ Info: Initial point:\n",
      "└ @ Main In[8]:1\n"
     ]
    },
    {
     "name": "stdout",
     "output_type": "stream",
     "text": [
      "1 0.0 -5.6236598796058424e7 399999\n",
      "2 -5.6236598796058424e7 -3.17852294779903e7 99999\n",
      "3 -3.17852294779903e7 -1.342192145560639e7 99999\n",
      "4 -1.342192145560639e7 -6.304214362333441e6 99999\n",
      "5 -6.304214362333441e6 -4.86652151107163e6 99999\n",
      "6 -4.86652151107163e6 -4.782807622908095e6 99999\n",
      "7 -4.782807622908095e6 -4.782421643830048e6 99999\n",
      "8 -4.782421643830048e6 -4.782421634489963e6 99999\n",
      "gcm.β = [1.0682143061222635, 0.99798730010118, 0.9986766236086236]\n",
      "inv.(gcm.τ) = [1.0]\n",
      "gcm.Σ = [3056.05972766961, 773.6497498688857]\n"
     ]
    }
   ],
   "source": [
    "@info \"Initial point:\"\n",
    "initialize_model!(gcm);\n",
    "@show gcm.β\n",
    "fill!(gcm.Σ, 1)\n",
    "update_Σ!(gcm)\n",
    "@show inv.(gcm.τ)\n",
    "@show gcm.Σ\n",
    "loglikelihood!(gcm, true, true);"
   ]
  },
  {
   "cell_type": "code",
   "execution_count": 9,
   "metadata": {
    "scrolled": true
   },
   "outputs": [
    {
     "name": "stdout",
     "output_type": "stream",
     "text": [
      "gcm.β = [1.0682143061222635, 0.99798730010118, 0.9986766236086236]\n",
      "gcm.Σ = [6110.128057559592, 1546.8555708589943]\n",
      "gcm.β = [1.0682143061222635, 0.99798730010118, 0.9986766236086236]\n",
      "gcm.Σ = [9164.21275208016, 2320.0655323704664]\n",
      "This is Ipopt version 3.13.4, running with linear solver mumps.\n",
      "NOTE: Other linear solvers might be more efficient (see Ipopt documentation).\n",
      "\n",
      "Number of nonzeros in equality constraint Jacobian...:        0\n",
      "Number of nonzeros in inequality constraint Jacobian.:        0\n",
      "Number of nonzeros in Lagrangian Hessian.............:        6\n",
      "\n",
      "Total number of variables............................:        3\n",
      "                     variables with only lower bounds:        0\n",
      "                variables with lower and upper bounds:        0\n",
      "                     variables with only upper bounds:        0\n",
      "Total number of equality constraints.................:        0\n",
      "Total number of inequality constraints...............:        0\n",
      "        inequality constraints with only lower bounds:        0\n",
      "   inequality constraints with lower and upper bounds:        0\n",
      "        inequality constraints with only upper bounds:        0\n",
      "\n",
      "iter    objective    inf_pr   inf_du lg(mu)  ||d||  lg(rg) alpha_du alpha_pr  ls\n",
      "   0  4.7141440e+06 0.00e+00 1.00e+02  -1.0 0.00e+00    -  0.00e+00 0.00e+00   0\n",
      "gcm.β = [1.0619576596138003, 1.0001882877039905, 1.000857063077207]\n",
      "gcm.Σ = [21223.21317432686, 5484.034556469578]\n",
      "   1  4.7140552e+06 0.00e+00 2.64e+00  -1.0 6.26e-03    -  1.00e+00 1.00e+00f  1\n",
      "gcm.β = [1.0618326783031242, 1.0002272424761014, 1.0008957323269527]\n",
      "gcm.Σ = [30338.307926691705, 7842.474785966228]\n",
      "   2  4.7140551e+06 0.00e+00 4.55e-02  -1.0 1.25e-04    -  1.00e+00 1.00e+00f  1\n",
      "gcm.β = [1.0618304873324897, 1.0002279300934094, 1.0008964166739653]\n",
      "gcm.Σ = [39457.02201057178, 10199.757490827016]\n",
      "   3  4.7140550e+06 0.00e+00 8.74e-04  -2.5 2.19e-06    -  1.00e+00 1.00e+00f  1\n",
      "gcm.β = [1.0618304428565233, 1.000227944423047, 1.0008964309508523]\n",
      "gcm.Σ = [48575.82777258558, 12557.011602844588]\n",
      "   4  4.7140550e+06 0.00e+00 6.83e-05  -5.7 4.45e-08    -  1.00e+00 1.00e+00f  1\n",
      "gcm.β = [1.061830438075352, 1.0002279461567807, 1.0008964326826182]\n",
      "gcm.Σ = [57694.63760372372, 14914.265565212467]\n",
      "   5  4.7140549e+06 0.00e+00 3.74e-05  -5.7 4.78e-09    -  1.00e+00 1.00e+00f  1\n",
      "gcm.β = [1.0618304352507093, 1.0002279472027353, 1.0008964337278137]\n",
      "gcm.Σ = [60791.26407311863, 15714.75771316169]\n",
      "   6  4.7140549e+06 0.00e+00 1.07e-05  -5.7 2.82e-09    -  1.00e+00 1.00e+00f  1\n",
      "gcm.β = [1.0618304344580545, 1.0002279474949471, 1.0008964340197872]\n",
      "gcm.Σ = [60791.44643340444, 15714.80486399955]\n",
      "   7  4.7140549e+06 0.00e+00 1.67e-07  -8.6 7.93e-10    -  1.00e+00 1.00e+00f  1\n",
      "gcm.β = [1.0618304344487244, 1.000227947498077, 1.000896434022901]\n",
      "gcm.Σ = [60791.62879304846, 15714.852015068793]\n",
      "   8  4.7140549e+06 0.00e+00 4.14e-08  -8.6 9.33e-12    -  1.00e+00 1.00e+00f  1\n",
      "gcm.β = [1.061830434446981, 1.0002279474985838, 1.0008964340234072]\n",
      "gcm.Σ = [60791.811158682256, 15714.89916397575]\n",
      "   9  4.7140549e+06 0.00e+00 2.59e-08  -8.6 1.74e-12    -  1.00e+00 1.00e+00f  1\n",
      "gcm.β = [1.0618304344458938, 1.000227947498899, 1.000896434023722]\n",
      "gcm.Σ = [60791.99352817547, 15714.946311488984]\n",
      "iter    objective    inf_pr   inf_du lg(mu)  ||d||  lg(rg) alpha_du alpha_pr  ls\n",
      "  10  4.7140549e+06 0.00e+00 1.67e-08  -8.6 1.09e-12    -  1.00e+00 1.00e+00f  1\n",
      "gcm.β = [1.0618304344451874, 1.000227947499105, 1.000896434023928]\n",
      "gcm.Σ = [60792.17590012598, 15714.993458116267]\n",
      "  11  4.7140549e+06 0.00e+00 1.08e-08  -9.0 7.06e-13    -  1.00e+00 1.00e+00f  1\n",
      "gcm.β = [1.0618304344447238, 1.0002279474992415, 1.0008964340240643]\n",
      "gcm.Σ = [60792.35827363276, 15715.040604181368]\n",
      "  12  4.7140549e+06 0.00e+00 7.07e-09  -9.0 4.64e-13    -  1.00e+00 1.00e+00f  1\n",
      "\n",
      "Number of Iterations....: 12\n",
      "\n",
      "                                   (scaled)                 (unscaled)\n",
      "Objective...............:   2.0919143097649372e+04    4.7140549277936127e+06\n",
      "Dual infeasibility......:   7.0703837594511040e-09    1.5932859795952936e-06\n",
      "Constraint violation....:   0.0000000000000000e+00    0.0000000000000000e+00\n",
      "Complementarity.........:   0.0000000000000000e+00    0.0000000000000000e+00\n",
      "Overall NLP error.......:   7.0703837594511040e-09    1.5932859795952936e-06\n",
      "\n",
      "\n",
      "Number of objective function evaluations             = 13\n",
      "Number of objective gradient evaluations             = 13\n",
      "Number of equality constraint evaluations            = 0\n",
      "Number of inequality constraint evaluations          = 0\n",
      "Number of equality constraint Jacobian evaluations   = 0\n",
      "Number of inequality constraint Jacobian evaluations = 0\n",
      "Number of Lagrangian Hessian evaluations             = 12\n",
      "Total CPU secs in IPOPT (w/o function evaluations)   =    137.574\n",
      "Total CPU secs in NLP function evaluations           =   2601.178\n",
      "\n",
      "EXIT: Optimal Solution Found.\n",
      "468.320731 seconds (535.80 M allocations: 57.531 GiB, 1.95% gc time)\n"
     ]
    }
   ],
   "source": [
    "@time fit2!(gcm, IpoptSolver(print_level = 5, max_iter = 500, hessian_approximation = \"exact\"))"
   ]
  },
  {
   "cell_type": "code",
   "execution_count": 10,
   "metadata": {},
   "outputs": [
    {
     "name": "stdout",
     "output_type": "stream",
     "text": [
      "gcm.β = [1.0618304344447238, 1.0002279474992415, 1.0008964340240643]\n",
      "inv.(gcm.τ) = [1.0]\n",
      "gcm.Σ = [60792.35827363276, 15715.040604181368]\n",
      "loglikelihood!(gcm, true, true) = -4.714054927793511e6\n"
     ]
    }
   ],
   "source": [
    "@show gcm.β\n",
    "@show inv.(gcm.τ)\n",
    "@show gcm.Σ\n",
    "@show loglikelihood!(gcm, true, true);"
   ]
  },
  {
   "cell_type": "code",
   "execution_count": null,
   "metadata": {},
   "outputs": [],
   "source": []
  }
 ],
 "metadata": {
  "@webio": {
   "lastCommId": null,
   "lastKernelId": null
  },
  "kernelspec": {
   "display_name": "Julia 1.5.2",
   "language": "julia",
   "name": "julia-1.5"
  },
  "language_info": {
   "file_extension": ".jl",
   "mimetype": "application/julia",
   "name": "julia",
   "version": "1.5.2"
  }
 },
 "nbformat": 4,
 "nbformat_minor": 4
}
