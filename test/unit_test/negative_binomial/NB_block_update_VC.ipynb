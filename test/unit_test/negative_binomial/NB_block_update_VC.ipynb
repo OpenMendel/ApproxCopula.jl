{
 "cells": [
  {
   "cell_type": "markdown",
   "metadata": {},
   "source": [
    "# Fit Neg Binomial Variance Component model \n",
    "\n",
    "Taking inspiration from [GLM.jl](https://github.com/JuliaStats/GLM.jl/blob/master/src/negbinfit.jl#L68), we will:\n",
    "+ Initialize `r` with Poisson regression fit\n",
    "+ Perform block updates:\n",
    "    - Fix $r$, fit negative binomial copula for 10 iterations\n",
    "    - Fix $\\beta$ and AR parameters, fit $r$ using Newton for 10 iterations\n",
    "    - Repeat until convergence"
   ]
  },
  {
   "cell_type": "markdown",
   "metadata": {
    "collapsed": true
   },
   "source": [
    "# Block updates"
   ]
  },
  {
   "cell_type": "code",
   "execution_count": 8,
   "metadata": {
    "collapsed": false
   },
   "outputs": [
    {
     "data": {
      "text/plain": [
       "10000-element Vector{Vector{Float64}}:\n",
       " [2.0, 8.0, 3.0, 3.0, 3.0]\n",
       " [3.0, 8.0, 5.0, 9.0, 4.0]\n",
       " [2.0, 12.0, 2.0, 4.0, 2.0]\n",
       " [2.0, 5.0, 2.0, 11.0, 3.0]\n",
       " [9.0, 1.0, 7.0, 4.0, 3.0]\n",
       " [4.0, 3.0, 3.0, 14.0, 2.0]\n",
       " [7.0, 1.0, 3.0, 7.0, 2.0]\n",
       " [2.0, 5.0, 3.0, 3.0, 8.0]\n",
       " [2.0, 1.0, 0.0, 8.0, 6.0]\n",
       " [4.0, 4.0, 8.0, 5.0, 6.0]\n",
       " [4.0, 2.0, 7.0, 4.0, 0.0]\n",
       " [6.0, 6.0, 5.0, 2.0, 2.0]\n",
       " [5.0, 3.0, 4.0, 4.0, 7.0]\n",
       " ⋮\n",
       " [5.0, 1.0, 3.0, 3.0, 7.0]\n",
       " [3.0, 1.0, 9.0, 5.0, 6.0]\n",
       " [4.0, 1.0, 6.0, 0.0, 8.0]\n",
       " [2.0, 7.0, 5.0, 4.0, 6.0]\n",
       " [5.0, 2.0, 0.0, 2.0, 4.0]\n",
       " [4.0, 9.0, 7.0, 7.0, 4.0]\n",
       " [4.0, 7.0, 3.0, 2.0, 2.0]\n",
       " [4.0, 2.0, 6.0, 6.0, 8.0]\n",
       " [6.0, 1.0, 9.0, 7.0, 3.0]\n",
       " [2.0, 4.0, 3.0, 1.0, 1.0]\n",
       " [5.0, 4.0, 8.0, 3.0, 4.0]\n",
       " [4.0, 3.0, 3.0, 2.0, 12.0]"
      ]
     },
     "execution_count": 8,
     "metadata": {},
     "output_type": "execute_result"
    }
   ],
   "source": [
    "using Revise\n",
    "using DataFrames, Random, GLM, GLMCopula\n",
    "using ForwardDiff, Test, LinearAlgebra\n",
    "using LinearAlgebra: BlasReal, copytri!\n",
    "\n",
    "# Random.seed!(1234)\n",
    "Random.seed!(12345)\n",
    "\n",
    "# sample size\n",
    "N = 10000\n",
    "# observations per subject\n",
    "n = 5\n",
    "\n",
    "variance_component_1 = 0.1\n",
    "variance_component_2 = 0.5\n",
    "\n",
    "r = 10\n",
    "p = 0.7\n",
    "μ = r * (1-p) * inv(p)\n",
    "\n",
    "# var = r * (1-p) * inv(p^2)\n",
    "\n",
    "# true beta\n",
    "β_true = log(μ)\n",
    "\n",
    "dist = NegativeBinomial\n",
    "\n",
    "Γ = variance_component_1 * ones(n, n) + variance_component_2 * Matrix(I, n, n)\n",
    "vecd = [dist(r, p) for i in 1:n]\n",
    "nonmixed_multivariate_dist = NonMixedMultivariateDistribution(vecd, Γ)\n",
    "\n",
    "Y_Nsample = simulate_nobs_independent_vectors(nonmixed_multivariate_dist, N)"
   ]
  },
  {
   "cell_type": "code",
   "execution_count": 9,
   "metadata": {
    "collapsed": false
   },
   "outputs": [],
   "source": [
    "d = NegativeBinomial()\n",
    "link = LogLink()\n",
    "D = typeof(d)\n",
    "Link = typeof(link)\n",
    "T = Float64\n",
    "gcs = Vector{NBCopulaVCObs{T, D, Link}}(undef, N)\n",
    "for i in 1:N\n",
    "    y = Float64.(Y_Nsample[i])\n",
    "    X = ones(n, 1)\n",
    "    V = [ones(n, n), Matrix(I, n, n)]\n",
    "    gcs[i] = NBCopulaVCObs(y, X, V, d, link)\n",
    "end\n",
    "gcm = NBCopulaVCModel(gcs);\n",
    "# gcm.r[1] = r"
   ]
  },
  {
   "cell_type": "code",
   "execution_count": 10,
   "metadata": {
    "collapsed": false,
    "scrolled": false
   },
   "outputs": [
    {
     "name": "stdout",
     "output_type": "stream",
     "text": [
      "Initializing NegBin r to Poisson regression values\n",
      "initializing β using Newton's Algorithm under Independence Assumption\n",
      "gcm.β = [1.5037884661509515]\n",
      "initializing variance components using MM-Algorithm\n",
      "gcm.Σ = [1.0, 1.0]\n",
      "initializing variance components using MM-Algorithm\n",
      "gcm.β = [1.4728457803191453]\n",
      "gcm.r = [9.875364724278391]\n"
     ]
    },
    {
     "data": {
      "text/plain": [
       "1-element Vector{Float64}:\n",
       " 9.875364724278391"
      ]
     },
     "execution_count": 10,
     "metadata": {},
     "output_type": "execute_result"
    }
   ],
   "source": [
    "initialize_model!(gcm)\n",
    "@show gcm.β\n",
    "# @show gcm.Σ\n",
    "@show gcm.r"
   ]
  },
  {
   "cell_type": "code",
   "execution_count": 11,
   "metadata": {
    "collapsed": false
   },
   "outputs": [
    {
     "data": {
      "text/plain": [
       "1.4552872326068422"
      ]
     },
     "execution_count": 11,
     "metadata": {},
     "output_type": "execute_result"
    }
   ],
   "source": [
    "β_true"
   ]
  },
  {
   "cell_type": "code",
   "execution_count": 12,
   "metadata": {
    "collapsed": false
   },
   "outputs": [
    {
     "data": {
      "text/plain": [
       "-118990.43309562653"
      ]
     },
     "execution_count": 12,
     "metadata": {},
     "output_type": "execute_result"
    }
   ],
   "source": [
    "GLMCopula.loglikelihood!(gcm, true, true)"
   ]
  },
  {
   "cell_type": "code",
   "execution_count": 13,
   "metadata": {
    "collapsed": false,
    "scrolled": true
   },
   "outputs": [
    {
     "name": "stdout",
     "output_type": "stream",
     "text": [
      "Initializing NegBin r to Poisson regression values\n",
      "initializing β using Newton's Algorithm under Independence Assumption\n",
      "gcm.β = [1.5037884661509515]\n",
      "initializing variance components using MM-Algorithm\n",
      "gcm.Σ = [1.0, 1.0]\n",
      "initializing variance components using MM-Algorithm\n",
      "Converging when tol ≤ 1.0e-6 (max block iter = 100)\n",
      "Block iter 1 r = 11.78, logl = -119004.65, tol = 119004.64713724186\n",
      "Block iter 2 r = 11.13, logl = -118986.98, tol = 0.00014848610335722697\n",
      "Block iter 3 r = 10.74, logl = -118980.57, tol = 5.38677622748822e-5\n",
      "Block iter 4 r = 10.5, logl = -118977.93, tol = 2.217852160694699e-5\n",
      "Block iter 5 r = 10.34, logl = -118976.77, tol = 9.737942861426014e-6\n",
      "Block iter 6 r = 10.23, logl = -118976.23, tol = 4.533204651142322e-6\n",
      "Block iter 7 r = 10.15, logl = -118975.97, tol = 2.177281199334983e-6\n",
      "Block iter 8 r = 10.1, logl = -118975.84, tol = 1.1418875958427824e-6\n",
      " 17.323631 seconds (13.86 M allocations: 2.123 GiB, 3.13% gc time)\n"
     ]
    },
    {
     "data": {
      "text/plain": [
       "-118975.74446589271"
      ]
     },
     "execution_count": 13,
     "metadata": {},
     "output_type": "execute_result"
    }
   ],
   "source": [
    "# default is Quasi-Newton\n",
    "@time GLMCopula.fit!(gcm, maxBlockIter=100)"
   ]
  },
  {
   "cell_type": "code",
   "execution_count": 7,
   "metadata": {
    "collapsed": false
   },
   "outputs": [
    {
     "name": "stdout",
     "output_type": "stream",
     "text": [
      "estimated β = 3.757624971928378; true β = 3.757872325600888\n",
      "estimated variance component 1 = 0.09291945606379969; true variance component 1 = 0.1\n",
      "estimated variance component 2 = 0.458284104956497; true variance component 2 = 0.5\n",
      "estimated r = 100.13821818962555; true r = 100\n"
     ]
    }
   ],
   "source": [
    "println(\"estimated β = $(gcm.β[1]); true β = $β_true\")\n",
    "println(\"estimated variance component 1 = $(gcm.Σ[1]); true variance component 1 = $variance_component_1\")\n",
    "println(\"estimated variance component 2 = $(gcm.Σ[2]); true variance component 2 = $variance_component_2\")\n",
    "println(\"estimated r = $(gcm.r[1]); true r = $r\");"
   ]
  },
  {
   "cell_type": "code",
   "execution_count": 14,
   "metadata": {
    "collapsed": false
   },
   "outputs": [
    {
     "name": "stdout",
     "output_type": "stream",
     "text": [
      "estimated β = 1.4545002813326036; true β = 1.4552872326068422\n",
      "estimated variance component 1 = 0.10705454204548824; true variance component 1 = 0.1\n",
      "estimated variance component 2 = 0.46216360543903984; true variance component 2 = 0.5\n",
      "estimated r = 10.053594338117408; true r = 10\n"
     ]
    }
   ],
   "source": [
    "println(\"estimated β = $(gcm.β[1]); true β = $β_true\")\n",
    "println(\"estimated variance component 1 = $(gcm.Σ[1]); true variance component 1 = $variance_component_1\")\n",
    "println(\"estimated variance component 2 = $(gcm.Σ[2]); true variance component 2 = $variance_component_2\")\n",
    "println(\"estimated r = $(gcm.r[1]); true r = $r\");"
   ]
  },
  {
   "cell_type": "markdown",
   "metadata": {},
   "source": [
    "# Benchmark/profile code"
   ]
  },
  {
   "cell_type": "code",
   "execution_count": 191,
   "metadata": {
    "collapsed": false
   },
   "outputs": [
    {
     "data": {
      "text/plain": [
       "update_HΣ_test! (generic function with 1 method)"
      ]
     },
     "execution_count": 191,
     "metadata": {},
     "output_type": "execute_result"
    }
   ],
   "source": [
    "using BenchmarkTools, SpecialFunctions\n",
    "\n",
    "function update_HΣ_test!(gcm)\n",
    "    T = Float64\n",
    "    fill!(gcm.HΣ, 0.0)\n",
    "    @inbounds for j in 1:gcm.m\n",
    "        @simd for i in 1:length(gcm.storage_n)\n",
    "            gcm.hess1[j, i] = gcm.QF[i, j] * gcm.storage_n[i]\n",
    "            gcm.hess2[j, i] = gcm.TR[i, j] * gcm.storage_n2[i]\n",
    "        end\n",
    "    end\n",
    "    BLAS.gemm!('N', 'T', -T(1), gcm.hess1, gcm.hess1, T(0), gcm.HΣ)\n",
    "    BLAS.gemm!('N', 'T', T(1), gcm.hess2, gcm.hess2, T(1), gcm.HΣ)\n",
    "end"
   ]
  },
  {
   "cell_type": "code",
   "execution_count": 192,
   "metadata": {
    "collapsed": false
   },
   "outputs": [
    {
     "name": "stdout",
     "output_type": "stream",
     "text": [
      "  65.226 μs (0 allocations: 0 bytes)\n"
     ]
    },
    {
     "data": {
      "text/plain": [
       "2×2 Matrix{Float64}:\n",
       " 23863.7  23863.7\n",
       " 23863.7  23863.7"
      ]
     },
     "execution_count": 192,
     "metadata": {},
     "output_type": "execute_result"
    }
   ],
   "source": [
    "gc = gcm.data[1]\n",
    "β = gcm.β\n",
    "@btime update_HΣ_test!($gcm)"
   ]
  },
  {
   "cell_type": "code",
   "execution_count": null,
   "metadata": {
    "collapsed": true
   },
   "outputs": [],
   "source": []
  },
  {
   "cell_type": "code",
   "execution_count": null,
   "metadata": {
    "collapsed": true
   },
   "outputs": [],
   "source": []
  },
  {
   "cell_type": "markdown",
   "metadata": {},
   "source": [
    "# Let's see how to optimally block update \n",
    "\n",
    "## 1 iteration each"
   ]
  },
  {
   "cell_type": "code",
   "execution_count": 58,
   "metadata": {
    "collapsed": false
   },
   "outputs": [
    {
     "name": "stdout",
     "output_type": "stream",
     "text": [
      "estimated β = 3.7640471229274333; true β = 3.757872325600888\n",
      "estimated variance component 1 = 0.010091096783959048; true variance component 1 = 0.1\n",
      "estimated variance component 2 = 0.010061528161806528; true variance component 2 = 0.5\n",
      "estimated r = 59.22108970817275; true r = 100\n"
     ]
    }
   ],
   "source": [
    "println(\"estimated β = $(gcm.β[1]); true β = $β_true\")\n",
    "println(\"estimated variance component 1 = $(gcm.Σ[1]); true variance component 1 = $variance_component_1\")\n",
    "println(\"estimated variance component 2 = $(gcm.Σ[2]); true variance component 2 = $variance_component_2\")\n",
    "println(\"estimated r = $(gcm.r[1]); true r = $r\");"
   ]
  },
  {
   "cell_type": "markdown",
   "metadata": {},
   "source": [
    "## 5 iteration each"
   ]
  },
  {
   "cell_type": "code",
   "execution_count": 45,
   "metadata": {
    "collapsed": false
   },
   "outputs": [
    {
     "name": "stdout",
     "output_type": "stream",
     "text": [
      "estimated β = 3.761120679347187; true β = 3.757872325600888\n",
      "estimated variance component 1 = 0.04200544450800426; true variance component 1 = 0.1\n",
      "estimated variance component 2 = 0.020655323963911138; true variance component 2 = 0.5\n",
      "estimated r = 64.2226158070482; true r = 100\n"
     ]
    }
   ],
   "source": [
    "println(\"estimated β = $(gcm.β[1]); true β = $β_true\")\n",
    "println(\"estimated variance component 1 = $(gcm.Σ[1]); true variance component 1 = $variance_component_1\")\n",
    "println(\"estimated variance component 2 = $(gcm.Σ[2]); true variance component 2 = $variance_component_2\")\n",
    "println(\"estimated r = $(gcm.r[1]); true r = $r\");"
   ]
  },
  {
   "cell_type": "markdown",
   "metadata": {},
   "source": [
    "## 10 iteration each"
   ]
  },
  {
   "cell_type": "code",
   "execution_count": 51,
   "metadata": {
    "collapsed": false
   },
   "outputs": [
    {
     "name": "stdout",
     "output_type": "stream",
     "text": [
      "estimated β = 3.7577367229152965; true β = 3.757872325600888\n",
      "estimated variance component 1 = 0.08454686818713725; true variance component 1 = 0.1\n",
      "estimated variance component 2 = 0.3859156499408988; true variance component 2 = 0.5\n",
      "estimated r = 96.07852027325903; true r = 100\n"
     ]
    }
   ],
   "source": [
    "println(\"estimated β = $(gcm.β[1]); true β = $β_true\")\n",
    "println(\"estimated variance component 1 = $(gcm.Σ[1]); true variance component 1 = $variance_component_1\")\n",
    "println(\"estimated variance component 2 = $(gcm.Σ[2]); true variance component 2 = $variance_component_2\")\n",
    "println(\"estimated r = $(gcm.r[1]); true r = $r\");"
   ]
  },
  {
   "cell_type": "markdown",
   "metadata": {},
   "source": [
    "## 1 IPOPT iter + complete Newton fit"
   ]
  },
  {
   "cell_type": "code",
   "execution_count": 65,
   "metadata": {
    "collapsed": false
   },
   "outputs": [
    {
     "name": "stdout",
     "output_type": "stream",
     "text": [
      "estimated β = 3.762274167394871; true β = 3.757872325600888\n",
      "estimated variance component 1 = 0.044468809218469255; true variance component 1 = 0.1\n",
      "estimated variance component 2 = 0.046354142614646404; true variance component 2 = 0.5\n",
      "estimated r = 67.38079696512439; true r = 100\n"
     ]
    }
   ],
   "source": [
    "println(\"estimated β = $(gcm.β[1]); true β = $β_true\")\n",
    "println(\"estimated variance component 1 = $(gcm.Σ[1]); true variance component 1 = $variance_component_1\")\n",
    "println(\"estimated variance component 2 = $(gcm.Σ[2]); true variance component 2 = $variance_component_2\")\n",
    "println(\"estimated r = $(gcm.r[1]); true r = $r\");"
   ]
  },
  {
   "cell_type": "markdown",
   "metadata": {},
   "source": [
    "## 5 IPOPT iter + complete Newton fit"
   ]
  },
  {
   "cell_type": "code",
   "execution_count": 72,
   "metadata": {
    "collapsed": false
   },
   "outputs": [
    {
     "name": "stdout",
     "output_type": "stream",
     "text": [
      "estimated β = 3.759537350779348; true β = 3.757872325600888\n",
      "estimated variance component 1 = 0.05312813376763176; true variance component 1 = 0.1\n",
      "estimated variance component 2 = 0.07266779547787298; true variance component 2 = 0.5\n",
      "estimated r = 70.93622181411288; true r = 100\n"
     ]
    }
   ],
   "source": [
    "println(\"estimated β = $(gcm.β[1]); true β = $β_true\")\n",
    "println(\"estimated variance component 1 = $(gcm.Σ[1]); true variance component 1 = $variance_component_1\")\n",
    "println(\"estimated variance component 2 = $(gcm.Σ[2]); true variance component 2 = $variance_component_2\")\n",
    "println(\"estimated r = $(gcm.r[1]); true r = $r\");"
   ]
  },
  {
   "cell_type": "markdown",
   "metadata": {},
   "source": [
    "## 10 IPOPT iter + complete Newton fit (this reached max iter count)"
   ]
  },
  {
   "cell_type": "code",
   "execution_count": 79,
   "metadata": {
    "collapsed": false
   },
   "outputs": [
    {
     "name": "stdout",
     "output_type": "stream",
     "text": [
      "estimated β = 3.757598085312234; true β = 3.757872325600888\n",
      "estimated variance component 1 = 0.08847643797375318; true variance component 1 = 0.1\n",
      "estimated variance component 2 = 0.418885780706873; true variance component 2 = 0.5\n",
      "estimated r = 98.01186301721411; true r = 100\n"
     ]
    }
   ],
   "source": [
    "println(\"estimated β = $(gcm.β[1]); true β = $β_true\")\n",
    "println(\"estimated variance component 1 = $(gcm.Σ[1]); true variance component 1 = $variance_component_1\")\n",
    "println(\"estimated variance component 2 = $(gcm.Σ[2]); true variance component 2 = $variance_component_2\")\n",
    "println(\"estimated r = $(gcm.r[1]); true r = $r\");"
   ]
  },
  {
   "cell_type": "markdown",
   "metadata": {},
   "source": [
    "## Copying GLM.jl"
   ]
  },
  {
   "cell_type": "code",
   "execution_count": 7,
   "metadata": {
    "collapsed": false
   },
   "outputs": [
    {
     "name": "stdout",
     "output_type": "stream",
     "text": [
      "estimated β = 1.456226847936331; true β = 1.4552872326068422\n",
      "estimated variance component 1 = 0.10133551134062899; true variance component 1 = 0.1\n",
      "estimated variance component 2 = 0.4371874111348784; true variance component 2 = 0.5\n",
      "estimated r = 9.69061414063922; true r = 10\n"
     ]
    }
   ],
   "source": [
    "println(\"estimated β = $(gcm.β[1]); true β = $β_true\")\n",
    "println(\"estimated variance component 1 = $(gcm.Σ[1]); true variance component 1 = $variance_component_1\")\n",
    "println(\"estimated variance component 2 = $(gcm.Σ[2]); true variance component 2 = $variance_component_2\")\n",
    "println(\"estimated r = $(gcm.r[1]); true r = $r\");"
   ]
  },
  {
   "cell_type": "code",
   "execution_count": 73,
   "metadata": {
    "collapsed": false
   },
   "outputs": [
    {
     "name": "stdout",
     "output_type": "stream",
     "text": [
      "estimated β = 3.758435534322703; true β = 3.757872325600888\n",
      "estimated variance component 1 = 0.0934850410967605; true variance component 1 = 0.1\n",
      "estimated variance component 2 = 0.3827355454688751; true variance component 2 = 0.5\n",
      "estimated r = 94.45211633725886; true r = 100\n"
     ]
    }
   ],
   "source": [
    "println(\"estimated β = $(gcm.β[1]); true β = $β_true\")\n",
    "println(\"estimated variance component 1 = $(gcm.Σ[1]); true variance component 1 = $variance_component_1\")\n",
    "println(\"estimated variance component 2 = $(gcm.Σ[2]); true variance component 2 = $variance_component_2\")\n",
    "println(\"estimated r = $(gcm.r[1]); true r = $r\");"
   ]
  },
  {
   "cell_type": "code",
   "execution_count": null,
   "metadata": {
    "collapsed": true
   },
   "outputs": [],
   "source": []
  }
 ],
 "metadata": {
  "@webio": {
   "lastCommId": null,
   "lastKernelId": null
  },
  "kernelspec": {
   "display_name": "Julia 1.6.0",
   "language": "julia",
   "name": "julia-1.6"
  },
  "language_info": {
   "file_extension": ".jl",
   "mimetype": "application/julia",
   "name": "julia",
   "version": "1.6.0"
  },
  "toc": {
   "base_numbering": 1,
   "nav_menu": {},
   "number_sections": true,
   "sideBar": true,
   "skip_h1_title": false,
   "title_cell": "Table of Contents",
   "title_sidebar": "Contents",
   "toc_cell": false,
   "toc_position": {},
   "toc_section_display": true,
   "toc_window_display": false
  }
 },
 "nbformat": 4,
 "nbformat_minor": 2
}
