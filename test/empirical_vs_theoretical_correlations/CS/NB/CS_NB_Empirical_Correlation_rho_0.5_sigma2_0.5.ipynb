{
 "cells": [
  {
   "cell_type": "markdown",
   "metadata": {},
   "source": [
    "# NB(p = 0.9, r = 10) with CS rho = 0.5, sigma2 = 0.5\n",
    "\n",
    "For NB Base with $p = 0.9, r = 10$, with the correlation $\\rho = 0.5, \\sigma^2 = 0.5,$  \n",
    "\n",
    "The theoretical correlation is a function of $d_i, \\rho, \\sigma^2, kt$\n",
    "\n",
    "$$Corr(Y_k, Y_l)\n",
    " = \\frac{\\rho * \\sigma^2}{1 + \\frac{1}{2} * \\sigma^2 * kt + \\frac{1}{2} * \\sigma^2 (d_i - 1)}$$\n",
    "\n",
    "We have $p = 0.9, r = 10$ thus we have kurtosis $kt = kt(r, p) = 4.41.$\n",
    "\n",
    "Let's see what happens to the theoretical/empirical correlations when we fix $\\rho = 0.5, \\sigma^2 = 0.5, kt = 4.41$ and range cluster sizes $d_i$\n",
    "\n",
    "$$Corr(Y_k, Y_l)\n",
    " = \\frac{0.25}{1 + \\frac{1}{4} *  4.41  + \\frac{1}{4} * (d_i - 1)}$$\n",
    "\n",
    "\n",
    "# We will show: \n",
    "    1) Simulating under QC model, the theoretical and empirical correlation IS a function of cluster sizes di\n",
    "\n",
    "    2) Simulating under GLMM, the theoretical and empirical correlation is NOT function of cluster sizes di\n",
    "\n",
    "\n",
    "\n",
    "\n",
    "## TOC:\n",
    "\n",
    "# di = 2\n",
    "* [CS di = 2](#ex0)\n",
    "* [simulate under GLMM CS di = 2](#ex0g)\n",
    "\n",
    "# di = 5\n",
    "* [CS di = 5](#ex1)\n",
    "* [simulate under GLMM CS di = 5](#ex1g)\n",
    "\n",
    "# di = 10 \n",
    "* [CS di = 10](#ex2)\n",
    "* [simulate under GLMM CS di = 10](#ex2g)\n",
    "\n",
    "# di = 25\n",
    "* [CS di = 25](#ex3)\n",
    "* [simulate under GLMM CS di = 25](#ex3g)\n",
    "\n",
    "# Comparisons\n",
    "* [Theoretical vs. Empirical Correlation Simulated under QC](#ex4)\n",
    "* [Empirical Correlation Simulated under GLMM](#ex4g)"
   ]
  },
  {
   "cell_type": "code",
   "execution_count": 1,
   "metadata": {},
   "outputs": [],
   "source": [
    "using GLMCopula, DelimitedFiles, LinearAlgebra, Random, GLM, MixedModels, CategoricalArrays\n",
    "using Random, Roots, SpecialFunctions, StatsBase\n",
    "using DataFrames, DelimitedFiles, Statistics, ToeplitzMatrices\n",
    "import StatsBase: sem"
   ]
  },
  {
   "cell_type": "code",
   "execution_count": 2,
   "metadata": {},
   "outputs": [
    {
     "data": {
      "text/plain": [
       "get_V_CS (generic function with 1 method)"
      ]
     },
     "execution_count": 2,
     "metadata": {},
     "output_type": "execute_result"
    }
   ],
   "source": [
    "function get_V_CS(ρ, n)\n",
    "    vec = zeros(n)\n",
    "    vec[1] = 1.0\n",
    "    for i in 2:n\n",
    "        vec[i] = ρ\n",
    "    end\n",
    "    V = ToeplitzMatrices.SymmetricToeplitz(vec)\n",
    "    V\n",
    "end"
   ]
  },
  {
   "cell_type": "code",
   "execution_count": 3,
   "metadata": {},
   "outputs": [
    {
     "data": {
      "text/plain": [
       "Float64"
      ]
     },
     "execution_count": 3,
     "metadata": {},
     "output_type": "execute_result"
    }
   ],
   "source": [
    "# true parameter values\n",
    "p = [0.9]\n",
    "βtrue = [log(9)]\n",
    "rtrue = 10.0\n",
    "σ2true = [0.5]\n",
    "ρtrue = [0.5]\n",
    "\n",
    "samplesize = 100000 # number of sampling units\n",
    "\n",
    "d = NegativeBinomial()\n",
    "link = LogLink()\n",
    "D = typeof(d)\n",
    "Link = typeof(link)\n",
    "T = Float64"
   ]
  },
  {
   "cell_type": "markdown",
   "metadata": {},
   "source": [
    "# Kurtosis of each Bernoulli(0.5) base distribution is 1.0\n",
    "\n",
    "We have $p = 0.9, r = 10$ thus we have kurtosis $kt = kt(r, p) = 4.41.$\n",
    "\n",
    "Let's see what happens to the theoretical/empirical correlations when we fix $\\rho = 0.5, \\sigma^2 = 0.5, kt = 4.41$ and range cluster sizes $d_i$"
   ]
  },
  {
   "cell_type": "code",
   "execution_count": 4,
   "metadata": {},
   "outputs": [
    {
     "data": {
      "text/plain": [
       "(1.111111111111111, 1.2345679012345676, 1.1000000000000003, 4.41)"
      ]
     },
     "execution_count": 4,
     "metadata": {},
     "output_type": "execute_result"
    }
   ],
   "source": [
    "d = NegativeBinomial(rtrue, p[1])\n",
    "μ, σ², sk, kt = mean(d), var(d), skewness(d), kurtosis(d, false)"
   ]
  },
  {
   "cell_type": "markdown",
   "metadata": {},
   "source": [
    "## CS di = 2 <a class=\"anchor\" id=\"ex0\"></a>\n",
    "\n",
    "$d_i = 2$\n",
    "\n",
    "$p = 0.9, r = 10, \\rho = 0.5, \\sigma^2 = 0.5$"
   ]
  },
  {
   "cell_type": "code",
   "execution_count": 5,
   "metadata": {},
   "outputs": [
    {
     "data": {
      "text/plain": [
       "2×2 Matrix{Float64}:\n",
       " 0.5   0.25\n",
       " 0.25  0.5"
      ]
     },
     "execution_count": 5,
     "metadata": {},
     "output_type": "execute_result"
    }
   ],
   "source": [
    "di = 2 # number of observations per cluster\n",
    "V_CS = get_V_CS(ρtrue[1], di)\n",
    "\n",
    "# true Gamma\n",
    "Γ_CS = σ2true[1] * V_CS"
   ]
  },
  {
   "cell_type": "code",
   "execution_count": 6,
   "metadata": {},
   "outputs": [
    {
     "name": "stdout",
     "output_type": "stream",
     "text": [
      "  1.353420 seconds (5.72 M allocations: 559.024 MiB, 6.84% gc time, 42.68% compilation time)\n"
     ]
    },
    {
     "data": {
      "text/plain": [
       "2×2 Matrix{Float64}:\n",
       " 1.0       0.088303\n",
       " 0.088303  1.0"
      ]
     },
     "execution_count": 6,
     "metadata": {},
     "output_type": "execute_result"
    }
   ],
   "source": [
    "vecd = Vector{DiscreteUnivariateDistribution}(undef, di)\n",
    "for i in 1:di\n",
    "    vecd[i] = NegativeBinomial(rtrue, p[1])\n",
    "end\n",
    "nonmixed_multivariate_dist = NonMixedMultivariateDistribution(vecd, Γ_CS)\n",
    "\n",
    "Random.seed!(12345)\n",
    "@time Y_nsample = simulate_nobs_independent_vectors(nonmixed_multivariate_dist, samplesize)\n",
    "\n",
    "gcs = Vector{NBCopulaCSObs{T, D, Link}}(undef, samplesize)\n",
    "for i in 1:samplesize\n",
    "    X = ones(di, 1)\n",
    "    y = Float64.(Y_nsample[i])\n",
    "    V = [Float64.(Matrix(I, di, di))]\n",
    "    gcs[i] = NBCopulaCSObs(y, X, d, link)\n",
    "end\n",
    "\n",
    "# form model\n",
    "gcm = NBCopulaCSModel(gcs);\n",
    "\n",
    "N = length(gcm.data)\n",
    "di = length(gcm.data[1].y)\n",
    "Y_CS = zeros(N, di)\n",
    "for j in 1:di\n",
    "    Y_CS[:, j] = [gcm.data[i].y[j] for i in 1:N]\n",
    "end\n",
    "empirical_cor_2 = StatsBase.cor(Y_CS)"
   ]
  },
  {
   "cell_type": "code",
   "execution_count": 7,
   "metadata": {},
   "outputs": [
    {
     "data": {
      "text/plain": [
       "0.10626992561105207"
      ]
     },
     "execution_count": 7,
     "metadata": {},
     "output_type": "execute_result"
    }
   ],
   "source": [
    "theoretical_rho_2_kurtosis = (ρtrue[1] * σ2true[1]) / (1 + ((di/2) * σ2true[1]) + (0.5 * (kt - 1) * σ2true[1]))"
   ]
  },
  {
   "cell_type": "code",
   "execution_count": 8,
   "metadata": {},
   "outputs": [
    {
     "data": {
      "text/plain": [
       "0.08830301023394084"
      ]
     },
     "execution_count": 8,
     "metadata": {},
     "output_type": "execute_result"
    }
   ],
   "source": [
    "mean_empirical_cor_2 = mean(GLMCopula.offdiag(empirical_cor_2))"
   ]
  },
  {
   "cell_type": "markdown",
   "metadata": {},
   "source": [
    "## simulate under GLMM CS di = 2 <a class=\"anchor\" id=\"ex0g\"></a>\n",
    "\n",
    "$d_i = 2$\n",
    "\n",
    "$p = 0.9, r = 10, \\rho = 0.5, \\sigma^2 = 0.5$"
   ]
  },
  {
   "cell_type": "code",
   "execution_count": 9,
   "metadata": {},
   "outputs": [
    {
     "data": {
      "text/plain": [
       "2×2 Matrix{Float64}:\n",
       " 1.0       0.313654\n",
       " 0.313654  1.0"
      ]
     },
     "execution_count": 9,
     "metadata": {},
     "output_type": "execute_result"
    }
   ],
   "source": [
    "function __get_distribution(dist::Type{D}, μ, r) where D <: UnivariateDistribution\n",
    "    return dist(r, μ)\n",
    "end\n",
    "\n",
    "for i in 1:samplesize\n",
    "    X = ones(di, 1)\n",
    "    η = X * βtrue\n",
    "    # generate mvn response\n",
    "    mvn_d = MvNormal(η, Γ_CS)\n",
    "    mvn_η = rand(mvn_d)\n",
    "    μ = GLM.linkinv.(link, mvn_η)\n",
    "    p_nb = rtrue ./ (μ .+ rtrue)\n",
    "    y = Float64.(rand.(__get_distribution.(D, p_nb, rtrue)))\n",
    "    gcs[i] = NBCopulaCSObs(y, X, d, link)\n",
    "end\n",
    "\n",
    "# form model\n",
    "gcm = NBCopulaCSModel(gcs);\n",
    "\n",
    "N = length(gcm.data)\n",
    "Y_CS = zeros(N, di)\n",
    "for j in 1:di\n",
    "    Y_CS[:, j] = [gcm.data[i].y[j] for i in 1:N]\n",
    "end\n",
    "empirical_cor_2_GLMM = StatsBase.cor(Y_CS)"
   ]
  },
  {
   "cell_type": "code",
   "execution_count": 10,
   "metadata": {},
   "outputs": [
    {
     "data": {
      "text/plain": [
       "0.31365405505730504"
      ]
     },
     "execution_count": 10,
     "metadata": {},
     "output_type": "execute_result"
    }
   ],
   "source": [
    "mean_empirical_cor_2_GLMM = mean(GLMCopula.offdiag(empirical_cor_2_GLMM))"
   ]
  },
  {
   "cell_type": "markdown",
   "metadata": {},
   "source": [
    "## CS di = 5 <a class=\"anchor\" id=\"ex1\"></a>\n",
    "\n",
    "$d_i = 5$\n",
    "\n",
    "$p = 0.9, r = 10, \\rho = 0.5, \\sigma^2 = 0.5$"
   ]
  },
  {
   "cell_type": "code",
   "execution_count": 11,
   "metadata": {},
   "outputs": [
    {
     "data": {
      "text/plain": [
       "5×5 Matrix{Float64}:\n",
       " 0.5   0.25  0.25  0.25  0.25\n",
       " 0.25  0.5   0.25  0.25  0.25\n",
       " 0.25  0.25  0.5   0.25  0.25\n",
       " 0.25  0.25  0.25  0.5   0.25\n",
       " 0.25  0.25  0.25  0.25  0.5"
      ]
     },
     "execution_count": 11,
     "metadata": {},
     "output_type": "execute_result"
    }
   ],
   "source": [
    "di = 5 # number of observations per cluster\n",
    "V_CS = get_V_CS(ρtrue[1], di)\n",
    "\n",
    "# true Gamma\n",
    "Γ_CS = σ2true[1] * V_CS"
   ]
  },
  {
   "cell_type": "code",
   "execution_count": 12,
   "metadata": {},
   "outputs": [
    {
     "name": "stdout",
     "output_type": "stream",
     "text": [
      "  2.424956 seconds (9.00 M allocations: 1.121 GiB, 23.29% gc time)\n"
     ]
    },
    {
     "data": {
      "text/plain": [
       "5×5 Matrix{Float64}:\n",
       " 1.0        0.0728463  0.0670433  0.073037   0.0691792\n",
       " 0.0728463  1.0        0.0624476  0.0705222  0.0713074\n",
       " 0.0670433  0.0624476  1.0        0.0714172  0.0771427\n",
       " 0.073037   0.0705222  0.0714172  1.0        0.0724919\n",
       " 0.0691792  0.0713074  0.0771427  0.0724919  1.0"
      ]
     },
     "execution_count": 12,
     "metadata": {},
     "output_type": "execute_result"
    }
   ],
   "source": [
    "vecd = Vector{DiscreteUnivariateDistribution}(undef, di)\n",
    "for i in 1:di\n",
    "    vecd[i] = NegativeBinomial(rtrue, p[1])\n",
    "end\n",
    "nonmixed_multivariate_dist = NonMixedMultivariateDistribution(vecd, Γ_CS)\n",
    "\n",
    "Random.seed!(12345)\n",
    "@time Y_nsample = simulate_nobs_independent_vectors(nonmixed_multivariate_dist, samplesize)\n",
    "\n",
    "gcs = Vector{NBCopulaCSObs{T, D, Link}}(undef, samplesize)\n",
    "for i in 1:samplesize\n",
    "    X = ones(di, 1)\n",
    "    y = Float64.(Y_nsample[i])\n",
    "    V = [Float64.(Matrix(I, di, di))]\n",
    "    gcs[i] = NBCopulaCSObs(y, X, d, link)\n",
    "end\n",
    "\n",
    "# form model\n",
    "gcm = NBCopulaCSModel(gcs);\n",
    "\n",
    "N = length(gcm.data)\n",
    "di = length(gcm.data[1].y)\n",
    "Y_CS = zeros(N, di)\n",
    "for j in 1:di\n",
    "    Y_CS[:, j] = [gcm.data[i].y[j] for i in 1:N]\n",
    "end\n",
    "empirical_cor_5 = StatsBase.cor(Y_CS)"
   ]
  },
  {
   "cell_type": "code",
   "execution_count": 13,
   "metadata": {},
   "outputs": [
    {
     "data": {
      "text/plain": [
       "0.08058017727639001"
      ]
     },
     "execution_count": 13,
     "metadata": {},
     "output_type": "execute_result"
    }
   ],
   "source": [
    "theoretical_rho_5_kurtosis = (ρtrue[1] * σ2true[1]) / (1 + ((di/2) * σ2true[1]) + (0.5 * (kt - 1) * σ2true[1]))"
   ]
  },
  {
   "cell_type": "code",
   "execution_count": 14,
   "metadata": {},
   "outputs": [
    {
     "data": {
      "text/plain": [
       "0.07074347659265902"
      ]
     },
     "execution_count": 14,
     "metadata": {},
     "output_type": "execute_result"
    }
   ],
   "source": [
    "mean_empirical_cor_5 = mean(GLMCopula.offdiag(empirical_cor_5))"
   ]
  },
  {
   "cell_type": "markdown",
   "metadata": {},
   "source": [
    "## simulate under GLMM CS di = 5 <a class=\"anchor\" id=\"ex1g\"></a>\n",
    "\n",
    "$d_i = 5$\n",
    "\n",
    "$p = 0.9, r = 10, \\rho = 0.5, \\sigma^2 = 0.5$"
   ]
  },
  {
   "cell_type": "code",
   "execution_count": 15,
   "metadata": {},
   "outputs": [
    {
     "data": {
      "text/plain": [
       "5×5 Matrix{Float64}:\n",
       " 1.0       0.316997  0.312304  0.312297  0.313186\n",
       " 0.316997  1.0       0.309237  0.31543   0.316629\n",
       " 0.312304  0.309237  1.0       0.315637  0.314888\n",
       " 0.312297  0.31543   0.315637  1.0       0.312149\n",
       " 0.313186  0.316629  0.314888  0.312149  1.0"
      ]
     },
     "execution_count": 15,
     "metadata": {},
     "output_type": "execute_result"
    }
   ],
   "source": [
    "for i in 1:samplesize\n",
    "    X = ones(di, 1)\n",
    "    η = X * βtrue\n",
    "    # generate mvn response\n",
    "    mvn_d = MvNormal(η, Γ_CS)\n",
    "    mvn_η = rand(mvn_d)\n",
    "    μ = GLM.linkinv.(link, mvn_η)\n",
    "    p_nb = rtrue ./ (μ .+ rtrue)\n",
    "    y = Float64.(rand.(__get_distribution.(D, p_nb, rtrue)))\n",
    "    gcs[i] = NBCopulaCSObs(y, X, d, link)\n",
    "end\n",
    "\n",
    "# form model\n",
    "gcm = NBCopulaCSModel(gcs);\n",
    "\n",
    "N = length(gcm.data)\n",
    "Y_CS = zeros(N, di)\n",
    "for j in 1:di\n",
    "    Y_CS[:, j] = [gcm.data[i].y[j] for i in 1:N]\n",
    "end\n",
    "empirical_cor_5_GLMM = StatsBase.cor(Y_CS)"
   ]
  },
  {
   "cell_type": "code",
   "execution_count": 16,
   "metadata": {},
   "outputs": [
    {
     "data": {
      "text/plain": [
       "0.313875467123078"
      ]
     },
     "execution_count": 16,
     "metadata": {},
     "output_type": "execute_result"
    }
   ],
   "source": [
    "mean_empirical_cor_5_GLMM = mean(GLMCopula.offdiag(empirical_cor_5_GLMM))"
   ]
  },
  {
   "cell_type": "markdown",
   "metadata": {},
   "source": [
    "## CS di = 10 <a class=\"anchor\" id=\"ex2\"></a>\n",
    "\n",
    "$d_i = 10$\n",
    "\n",
    "$p = 0.9, r = 10, \\rho = 0.5, \\sigma^2 = 0.5$"
   ]
  },
  {
   "cell_type": "code",
   "execution_count": 17,
   "metadata": {},
   "outputs": [
    {
     "data": {
      "text/plain": [
       "10×10 Matrix{Float64}:\n",
       " 0.5   0.25  0.25  0.25  0.25  0.25  0.25  0.25  0.25  0.25\n",
       " 0.25  0.5   0.25  0.25  0.25  0.25  0.25  0.25  0.25  0.25\n",
       " 0.25  0.25  0.5   0.25  0.25  0.25  0.25  0.25  0.25  0.25\n",
       " 0.25  0.25  0.25  0.5   0.25  0.25  0.25  0.25  0.25  0.25\n",
       " 0.25  0.25  0.25  0.25  0.5   0.25  0.25  0.25  0.25  0.25\n",
       " 0.25  0.25  0.25  0.25  0.25  0.5   0.25  0.25  0.25  0.25\n",
       " 0.25  0.25  0.25  0.25  0.25  0.25  0.5   0.25  0.25  0.25\n",
       " 0.25  0.25  0.25  0.25  0.25  0.25  0.25  0.5   0.25  0.25\n",
       " 0.25  0.25  0.25  0.25  0.25  0.25  0.25  0.25  0.5   0.25\n",
       " 0.25  0.25  0.25  0.25  0.25  0.25  0.25  0.25  0.25  0.5"
      ]
     },
     "execution_count": 17,
     "metadata": {},
     "output_type": "execute_result"
    }
   ],
   "source": [
    "di = 10 # number of observations per cluster\n",
    "V_CS = get_V_CS(ρtrue[1], di)\n",
    "\n",
    "# true Gamma\n",
    "Γ_CS = σ2true[1] * V_CS"
   ]
  },
  {
   "cell_type": "code",
   "execution_count": 18,
   "metadata": {},
   "outputs": [
    {
     "name": "stdout",
     "output_type": "stream",
     "text": [
      "  4.691104 seconds (17.50 M allocations: 2.660 GiB, 18.19% gc time)\n"
     ]
    },
    {
     "data": {
      "text/plain": [
       "10×10 Matrix{Float64}:\n",
       " 1.0        0.0551526  0.0477892  …  0.0484697  0.0574756  0.0507224\n",
       " 0.0551526  1.0        0.0479644     0.0549867  0.0467314  0.053797\n",
       " 0.0477892  0.0479644  1.0           0.0496512  0.0545935  0.054813\n",
       " 0.0554153  0.0509814  0.0579918     0.0535626  0.0486271  0.0474945\n",
       " 0.0519531  0.0502995  0.0534576     0.0525523  0.0599769  0.0554797\n",
       " 0.0542896  0.0513325  0.0499887  …  0.0535237  0.0513801  0.0474423\n",
       " 0.0436852  0.0544684  0.0493251     0.046236   0.0539935  0.0588734\n",
       " 0.0484697  0.0549867  0.0496512     1.0        0.0516027  0.0536698\n",
       " 0.0574756  0.0467314  0.0545935     0.0516027  1.0        0.0505316\n",
       " 0.0507224  0.053797   0.054813      0.0536698  0.0505316  1.0"
      ]
     },
     "execution_count": 18,
     "metadata": {},
     "output_type": "execute_result"
    }
   ],
   "source": [
    "vecd = Vector{DiscreteUnivariateDistribution}(undef, di)\n",
    "for i in 1:di\n",
    "    vecd[i] = NegativeBinomial(rtrue, p[1])\n",
    "end\n",
    "nonmixed_multivariate_dist = NonMixedMultivariateDistribution(vecd, Γ_CS)\n",
    "\n",
    "Random.seed!(12345)\n",
    "@time Y_nsample = simulate_nobs_independent_vectors(nonmixed_multivariate_dist, samplesize)\n",
    "\n",
    "gcs = Vector{NBCopulaCSObs{T, D, Link}}(undef, samplesize)\n",
    "for i in 1:samplesize\n",
    "    X = ones(di, 1)\n",
    "    y = Float64.(Y_nsample[i])\n",
    "    V = [Float64.(Matrix(I, di, di))]\n",
    "    gcs[i] = NBCopulaCSObs(y, X, d, link)\n",
    "end\n",
    "\n",
    "# form model\n",
    "gcm = NBCopulaCSModel(gcs);\n",
    "\n",
    "N = length(gcm.data)\n",
    "di = length(gcm.data[1].y)\n",
    "Y_CS = zeros(N, di)\n",
    "for j in 1:di\n",
    "    Y_CS[:, j] = [gcm.data[i].y[j] for i in 1:N]\n",
    "end\n",
    "empirical_cor_10 = StatsBase.cor(Y_CS)"
   ]
  },
  {
   "cell_type": "code",
   "execution_count": 19,
   "metadata": {},
   "outputs": [
    {
     "data": {
      "text/plain": [
       "0.05743825387708214"
      ]
     },
     "execution_count": 19,
     "metadata": {},
     "output_type": "execute_result"
    }
   ],
   "source": [
    "theoretical_rho_10_kurtosis = (ρtrue[1] * σ2true[1]) / (1 + ((di/2) * σ2true[1]) + (0.5 * (kt - 1) * σ2true[1]))"
   ]
  },
  {
   "cell_type": "code",
   "execution_count": 20,
   "metadata": {},
   "outputs": [
    {
     "data": {
      "text/plain": [
       "0.052200486723412855"
      ]
     },
     "execution_count": 20,
     "metadata": {},
     "output_type": "execute_result"
    }
   ],
   "source": [
    "mean_empirical_cor_10 = mean(GLMCopula.offdiag(empirical_cor_10))"
   ]
  },
  {
   "cell_type": "markdown",
   "metadata": {},
   "source": [
    "## simulate under GLMM CS di = 10 <a class=\"anchor\" id=\"ex2g\"></a>\n",
    "\n",
    "$d_i = 10$\n",
    "\n",
    "$p = 0.9, r = 10, \\rho = 0.5, \\sigma^2 = 0.5$"
   ]
  },
  {
   "cell_type": "code",
   "execution_count": 21,
   "metadata": {},
   "outputs": [
    {
     "data": {
      "text/plain": [
       "10×10 Matrix{Float64}:\n",
       " 1.0       0.31776   0.310125  0.313824  …  0.3151    0.310703  0.313126\n",
       " 0.31776   1.0       0.316531  0.315146     0.316181  0.311838  0.313051\n",
       " 0.310125  0.316531  1.0       0.314743     0.314154  0.311302  0.315465\n",
       " 0.313824  0.315146  0.314743  1.0          0.307315  0.310697  0.314183\n",
       " 0.312649  0.313211  0.321329  0.31538      0.314345  0.309248  0.314442\n",
       " 0.316495  0.321222  0.313878  0.316827  …  0.311271  0.308824  0.312258\n",
       " 0.311514  0.316665  0.31055   0.308869     0.311833  0.313051  0.313336\n",
       " 0.3151    0.316181  0.314154  0.307315     1.0       0.309812  0.315264\n",
       " 0.310703  0.311838  0.311302  0.310697     0.309812  1.0       0.309723\n",
       " 0.313126  0.313051  0.315465  0.314183     0.315264  0.309723  1.0"
      ]
     },
     "execution_count": 21,
     "metadata": {},
     "output_type": "execute_result"
    }
   ],
   "source": [
    "for i in 1:samplesize\n",
    "    X = ones(di, 1)\n",
    "    η = X * βtrue\n",
    "    # generate mvn response\n",
    "    mvn_d = MvNormal(η, Γ_CS)\n",
    "    mvn_η = rand(mvn_d)\n",
    "    μ = GLM.linkinv.(link, mvn_η)\n",
    "    p_nb = rtrue ./ (μ .+ rtrue)\n",
    "    y = Float64.(rand.(__get_distribution.(D, p_nb, rtrue)))\n",
    "    gcs[i] = NBCopulaCSObs(y, X, d, link)\n",
    "end\n",
    "\n",
    "# form model\n",
    "gcm = NBCopulaCSModel(gcs);\n",
    "\n",
    "N = length(gcm.data)\n",
    "Y_CS = zeros(N, di)\n",
    "for j in 1:di\n",
    "    Y_CS[:, j] = [gcm.data[i].y[j] for i in 1:N]\n",
    "end\n",
    "empirical_cor_10_GLMM = StatsBase.cor(Y_CS)"
   ]
  },
  {
   "cell_type": "code",
   "execution_count": 22,
   "metadata": {},
   "outputs": [
    {
     "data": {
      "text/plain": [
       "0.31302712585269177"
      ]
     },
     "execution_count": 22,
     "metadata": {},
     "output_type": "execute_result"
    }
   ],
   "source": [
    "mean_empirical_cor_10_GLMM = mean(GLMCopula.offdiag(empirical_cor_10_GLMM))"
   ]
  },
  {
   "cell_type": "markdown",
   "metadata": {},
   "source": [
    "## CS di = 25 <a class=\"anchor\" id=\"ex3\"></a>\n",
    "\n",
    "$d_i = 25$\n",
    "\n",
    "$p = 0.9, r = 10, \\rho = 0.5, \\sigma^2 = 0.5$"
   ]
  },
  {
   "cell_type": "code",
   "execution_count": 23,
   "metadata": {},
   "outputs": [
    {
     "data": {
      "text/plain": [
       "25×25 Matrix{Float64}:\n",
       " 0.5   0.25  0.25  0.25  0.25  0.25  …  0.25  0.25  0.25  0.25  0.25  0.25\n",
       " 0.25  0.5   0.25  0.25  0.25  0.25     0.25  0.25  0.25  0.25  0.25  0.25\n",
       " 0.25  0.25  0.5   0.25  0.25  0.25     0.25  0.25  0.25  0.25  0.25  0.25\n",
       " 0.25  0.25  0.25  0.5   0.25  0.25     0.25  0.25  0.25  0.25  0.25  0.25\n",
       " 0.25  0.25  0.25  0.25  0.5   0.25     0.25  0.25  0.25  0.25  0.25  0.25\n",
       " 0.25  0.25  0.25  0.25  0.25  0.5   …  0.25  0.25  0.25  0.25  0.25  0.25\n",
       " 0.25  0.25  0.25  0.25  0.25  0.25     0.25  0.25  0.25  0.25  0.25  0.25\n",
       " 0.25  0.25  0.25  0.25  0.25  0.25     0.25  0.25  0.25  0.25  0.25  0.25\n",
       " 0.25  0.25  0.25  0.25  0.25  0.25     0.25  0.25  0.25  0.25  0.25  0.25\n",
       " 0.25  0.25  0.25  0.25  0.25  0.25     0.25  0.25  0.25  0.25  0.25  0.25\n",
       " 0.25  0.25  0.25  0.25  0.25  0.25  …  0.25  0.25  0.25  0.25  0.25  0.25\n",
       " 0.25  0.25  0.25  0.25  0.25  0.25     0.25  0.25  0.25  0.25  0.25  0.25\n",
       " 0.25  0.25  0.25  0.25  0.25  0.25     0.25  0.25  0.25  0.25  0.25  0.25\n",
       " 0.25  0.25  0.25  0.25  0.25  0.25     0.25  0.25  0.25  0.25  0.25  0.25\n",
       " 0.25  0.25  0.25  0.25  0.25  0.25     0.25  0.25  0.25  0.25  0.25  0.25\n",
       " 0.25  0.25  0.25  0.25  0.25  0.25  …  0.25  0.25  0.25  0.25  0.25  0.25\n",
       " 0.25  0.25  0.25  0.25  0.25  0.25     0.25  0.25  0.25  0.25  0.25  0.25\n",
       " 0.25  0.25  0.25  0.25  0.25  0.25     0.25  0.25  0.25  0.25  0.25  0.25\n",
       " 0.25  0.25  0.25  0.25  0.25  0.25     0.25  0.25  0.25  0.25  0.25  0.25\n",
       " 0.25  0.25  0.25  0.25  0.25  0.25     0.5   0.25  0.25  0.25  0.25  0.25\n",
       " 0.25  0.25  0.25  0.25  0.25  0.25  …  0.25  0.5   0.25  0.25  0.25  0.25\n",
       " 0.25  0.25  0.25  0.25  0.25  0.25     0.25  0.25  0.5   0.25  0.25  0.25\n",
       " 0.25  0.25  0.25  0.25  0.25  0.25     0.25  0.25  0.25  0.5   0.25  0.25\n",
       " 0.25  0.25  0.25  0.25  0.25  0.25     0.25  0.25  0.25  0.25  0.5   0.25\n",
       " 0.25  0.25  0.25  0.25  0.25  0.25     0.25  0.25  0.25  0.25  0.25  0.5"
      ]
     },
     "execution_count": 23,
     "metadata": {},
     "output_type": "execute_result"
    }
   ],
   "source": [
    "di = 25 # number of observations per cluster\n",
    "V_CS = get_V_CS(ρtrue[1], di)\n",
    "\n",
    "# true Gamma\n",
    "Γ_CS = σ2true[1] * V_CS"
   ]
  },
  {
   "cell_type": "code",
   "execution_count": 24,
   "metadata": {},
   "outputs": [
    {
     "name": "stdout",
     "output_type": "stream",
     "text": [
      " 15.452485 seconds (43.00 M allocations: 13.748 GiB, 18.36% gc time)\n"
     ]
    },
    {
     "data": {
      "text/plain": [
       "25×25 Matrix{Float64}:\n",
       " 1.0        0.0298764  0.0292273  …  0.0302369  0.0322874  0.032105\n",
       " 0.0298764  1.0        0.0266843     0.0272483  0.0289992  0.0357406\n",
       " 0.0292273  0.0266843  1.0           0.0242882  0.0320809  0.0336612\n",
       " 0.028722   0.0292228  0.0273056     0.0260612  0.0310376  0.0273011\n",
       " 0.0328596  0.0304534  0.0272602     0.0298686  0.0277192  0.031977\n",
       " 0.0292227  0.0268602  0.0277422  …  0.033642   0.0277322  0.0277135\n",
       " 0.0214314  0.0314837  0.0285073     0.0239892  0.0298542  0.0259005\n",
       " 0.0295384  0.030158   0.0258541     0.0297123  0.0310755  0.0273671\n",
       " 0.0314814  0.0296167  0.0271021     0.0325716  0.0292358  0.0320776\n",
       " 0.0280264  0.0265325  0.0301113     0.0268812  0.0283984  0.0236278\n",
       " 0.0264516  0.027906   0.0275057  …  0.0278934  0.030911   0.0271946\n",
       " 0.0300285  0.0286945  0.0326629     0.0279797  0.0318865  0.0216332\n",
       " 0.0291758  0.0290099  0.0287786     0.0276509  0.032077   0.0328438\n",
       " 0.03431    0.0315139  0.0278055     0.0342312  0.031295   0.0265904\n",
       " 0.0272577  0.024641   0.0274296     0.0339112  0.0314166  0.029101\n",
       " 0.0301985  0.026374   0.0294755  …  0.0304637  0.0246678  0.0313905\n",
       " 0.0316813  0.034001   0.0297266     0.0294389  0.0298744  0.0236328\n",
       " 0.0297014  0.0332541  0.0305481     0.0281216  0.0246797  0.0323874\n",
       " 0.0310858  0.0342782  0.0277021     0.0285737  0.0285517  0.0250592\n",
       " 0.0325318  0.0302517  0.0296598     0.0341913  0.0289884  0.0291673\n",
       " 0.02613    0.0312884  0.0277805  …  0.0297638  0.0265084  0.030157\n",
       " 0.0298337  0.0199148  0.0294359     0.0231713  0.0309032  0.0352992\n",
       " 0.0302369  0.0272483  0.0242882     1.0        0.0354734  0.0279902\n",
       " 0.0322874  0.0289992  0.0320809     0.0354734  1.0        0.0296962\n",
       " 0.032105   0.0357406  0.0336612     0.0279902  0.0296962  1.0"
      ]
     },
     "execution_count": 24,
     "metadata": {},
     "output_type": "execute_result"
    }
   ],
   "source": [
    "vecd = Vector{DiscreteUnivariateDistribution}(undef, di)\n",
    "for i in 1:di\n",
    "    vecd[i] = NegativeBinomial(rtrue, p[1])\n",
    "end\n",
    "nonmixed_multivariate_dist = NonMixedMultivariateDistribution(vecd, Γ_CS)\n",
    "\n",
    "Random.seed!(12345)\n",
    "@time Y_nsample = simulate_nobs_independent_vectors(nonmixed_multivariate_dist, samplesize)\n",
    "\n",
    "gcs = Vector{NBCopulaCSObs{T, D, Link}}(undef, samplesize)\n",
    "for i in 1:samplesize\n",
    "    X = ones(di, 1)\n",
    "    y = Float64.(Y_nsample[i])\n",
    "    V = [Float64.(Matrix(I, di, di))]\n",
    "    gcs[i] = NBCopulaCSObs(y, X, d, link)\n",
    "end\n",
    "\n",
    "# form model\n",
    "gcm = NBCopulaCSModel(gcs);\n",
    "\n",
    "N = length(gcm.data)\n",
    "di = length(gcm.data[1].y)\n",
    "Y_CS = zeros(N, di)\n",
    "for j in 1:di\n",
    "    Y_CS[:, j] = [gcm.data[i].y[j] for i in 1:N]\n",
    "end\n",
    "empirical_cor_25 = StatsBase.cor(Y_CS)"
   ]
  },
  {
   "cell_type": "code",
   "execution_count": 25,
   "metadata": {},
   "outputs": [
    {
     "data": {
      "text/plain": [
       "0.030854674483184207"
      ]
     },
     "execution_count": 25,
     "metadata": {},
     "output_type": "execute_result"
    }
   ],
   "source": [
    "theoretical_rho_25_kurtosis = (ρtrue[1] * σ2true[1]) / (1 + ((di/2) * σ2true[1]) + (0.5 * (kt - 1) * σ2true[1]))"
   ]
  },
  {
   "cell_type": "code",
   "execution_count": 26,
   "metadata": {},
   "outputs": [
    {
     "data": {
      "text/plain": [
       "0.029521935324674318"
      ]
     },
     "execution_count": 26,
     "metadata": {},
     "output_type": "execute_result"
    }
   ],
   "source": [
    "mean_empirical_cor_25 = mean(GLMCopula.offdiag(empirical_cor_25))"
   ]
  },
  {
   "cell_type": "markdown",
   "metadata": {},
   "source": [
    "## simulate under GLMM CS di = 25 <a class=\"anchor\" id=\"ex3g\"></a>\n",
    "\n",
    "$d_i = 25$\n",
    "\n",
    "$p = 0.9, r = 10, \\rho = 0.5, \\sigma^2 = 0.5$"
   ]
  },
  {
   "cell_type": "code",
   "execution_count": 27,
   "metadata": {},
   "outputs": [
    {
     "data": {
      "text/plain": [
       "25×25 Matrix{Float64}:\n",
       " 1.0       0.324409  0.317535  0.315106  …  0.318859  0.324065  0.324601\n",
       " 0.324409  1.0       0.311454  0.319595     0.315314  0.319755  0.31659\n",
       " 0.317535  0.311454  1.0       0.311257     0.309234  0.312305  0.309873\n",
       " 0.315106  0.319595  0.311257  1.0          0.318159  0.31409   0.313859\n",
       " 0.322652  0.317657  0.316902  0.312022     0.313448  0.323842  0.32008\n",
       " 0.322046  0.317475  0.316123  0.31822   …  0.313553  0.318009  0.310367\n",
       " 0.319945  0.319562  0.315556  0.316649     0.319121  0.321424  0.314637\n",
       " 0.319613  0.312075  0.32059   0.314015     0.313148  0.316303  0.315333\n",
       " 0.320392  0.317575  0.310526  0.312756     0.320204  0.321022  0.315008\n",
       " 0.315685  0.313282  0.318589  0.309326     0.312519  0.311343  0.3158\n",
       " 0.31734   0.313012  0.309474  0.313241  …  0.310366  0.312093  0.315558\n",
       " 0.312953  0.311475  0.319058  0.309613     0.311193  0.317445  0.31995\n",
       " 0.322492  0.311532  0.31603   0.319197     0.322528  0.317778  0.321519\n",
       " 0.323695  0.317291  0.311802  0.310259     0.314111  0.314936  0.315167\n",
       " 0.32397   0.319315  0.319409  0.323799     0.315419  0.312985  0.326578\n",
       " 0.319923  0.318625  0.315007  0.313377  …  0.308328  0.313452  0.314495\n",
       " 0.319398  0.31007   0.313517  0.306975     0.30902   0.316021  0.316765\n",
       " 0.313988  0.317719  0.31831   0.310118     0.312155  0.308084  0.313475\n",
       " 0.318882  0.318602  0.315671  0.315503     0.311827  0.313474  0.318921\n",
       " 0.327354  0.312121  0.310953  0.315031     0.314331  0.310645  0.317939\n",
       " 0.311538  0.317855  0.317742  0.308374  …  0.307222  0.318015  0.318517\n",
       " 0.31829   0.321028  0.318083  0.312821     0.314795  0.318483  0.317881\n",
       " 0.318859  0.315314  0.309234  0.318159     1.0       0.320092  0.315628\n",
       " 0.324065  0.319755  0.312305  0.31409      0.320092  1.0       0.313555\n",
       " 0.324601  0.31659   0.309873  0.313859     0.315628  0.313555  1.0"
      ]
     },
     "execution_count": 27,
     "metadata": {},
     "output_type": "execute_result"
    }
   ],
   "source": [
    "for i in 1:samplesize\n",
    "    X = ones(di, 1)\n",
    "    η = X * βtrue\n",
    "    # generate mvn response\n",
    "    mvn_d = MvNormal(η, Γ_CS)\n",
    "    mvn_η = rand(mvn_d)\n",
    "    μ = GLM.linkinv.(link, mvn_η)\n",
    "    p_nb = rtrue ./ (μ .+ rtrue)\n",
    "    y = Float64.(rand.(__get_distribution.(D, p_nb, rtrue)))\n",
    "    gcs[i] = NBCopulaCSObs(y, X, d, link)\n",
    "end\n",
    "\n",
    "# form model\n",
    "gcm = NBCopulaCSModel(gcs);\n",
    "\n",
    "N = length(gcm.data)\n",
    "Y_CS = zeros(N, di)\n",
    "for j in 1:di\n",
    "    Y_CS[:, j] = [gcm.data[i].y[j] for i in 1:N]\n",
    "end\n",
    "empirical_cor_25_GLMM = StatsBase.cor(Y_CS)"
   ]
  },
  {
   "cell_type": "code",
   "execution_count": 28,
   "metadata": {},
   "outputs": [
    {
     "data": {
      "text/plain": [
       "0.31603224055480267"
      ]
     },
     "execution_count": 28,
     "metadata": {},
     "output_type": "execute_result"
    }
   ],
   "source": [
    "mean_empirical_cor_25_GLMM = mean(GLMCopula.offdiag(empirical_cor_25_GLMM))"
   ]
  },
  {
   "cell_type": "markdown",
   "metadata": {},
   "source": [
    "## Comparisons \n",
    "\n",
    "##  1. Theoretical vs. Empirical Correlation simulated under QC <a class=\"anchor\" id=\"ex4\"></a>\n",
    "\n",
    "### Takeaway: Quasi-Copula correlation IS a function of the di, kt, $\\rho$ and $\\sigma^2$\n",
    "\n",
    "\n",
    "The theoretical correlation is a function of $d_i, \\rho, \\sigma^2, kt$\n",
    "\n",
    "$$Corr(Y_k, Y_l)\n",
    " = \\frac{\\rho * \\sigma^2}{1 + \\frac{1}{2} * \\sigma^2 * kt + \\frac{1}{2} * \\sigma^2 (d_i - 1)}$$\n",
    "\n",
    "We have $p = 0.9, r = 10$ thus we have kurtosis $kt = kt(r, p) = 4.41.$\n",
    "\n",
    "Let's see what happens to the theoretical/empirical correlations when we fix $\\rho = 0.5, \\sigma^2 = 0.5, kt = 4.41$ and range cluster sizes $d_i$\n",
    "\n",
    "$$Corr(Y_k, Y_l)\n",
    " = \\frac{0.25}{1 + \\frac{1}{4} *  4.41  + \\frac{1}{4} * (d_i - 1)}$$\n",
    "\n"
   ]
  },
  {
   "cell_type": "code",
   "execution_count": 29,
   "metadata": {},
   "outputs": [
    {
     "data": {
      "text/plain": [
       "1×2 Matrix{Float64}:\n",
       " 0.10627  0.088303"
      ]
     },
     "execution_count": 29,
     "metadata": {},
     "output_type": "execute_result"
    }
   ],
   "source": [
    "# di = 2\n",
    "[theoretical_rho_2_kurtosis mean_empirical_cor_2]"
   ]
  },
  {
   "cell_type": "code",
   "execution_count": 30,
   "metadata": {},
   "outputs": [
    {
     "data": {
      "text/plain": [
       "1×2 Matrix{Float64}:\n",
       " 0.0805802  0.0707435"
      ]
     },
     "execution_count": 30,
     "metadata": {},
     "output_type": "execute_result"
    }
   ],
   "source": [
    "# di = 5\n",
    "[theoretical_rho_5_kurtosis mean_empirical_cor_5]"
   ]
  },
  {
   "cell_type": "code",
   "execution_count": 31,
   "metadata": {},
   "outputs": [
    {
     "data": {
      "text/plain": [
       "1×2 Matrix{Float64}:\n",
       " 0.0574383  0.0522005"
      ]
     },
     "execution_count": 31,
     "metadata": {},
     "output_type": "execute_result"
    }
   ],
   "source": [
    "# di = 10\n",
    "[theoretical_rho_10_kurtosis mean_empirical_cor_10]"
   ]
  },
  {
   "cell_type": "code",
   "execution_count": 32,
   "metadata": {},
   "outputs": [
    {
     "data": {
      "text/plain": [
       "1×2 Matrix{Float64}:\n",
       " 0.0308547  0.0295219"
      ]
     },
     "execution_count": 32,
     "metadata": {},
     "output_type": "execute_result"
    }
   ],
   "source": [
    "# di = 25\n",
    "[theoretical_rho_25_kurtosis mean_empirical_cor_25]"
   ]
  },
  {
   "cell_type": "markdown",
   "metadata": {},
   "source": [
    "##  2. Empirical Correlation simulated under GLMM<a class=\"anchor\" id=\"ex4g\"></a>\n",
    "\n",
    "### Takeaway: GLMM correlation is NOT a function of the cluster size (Only a function of $\\rho$ and $\\sigma^2)$"
   ]
  },
  {
   "cell_type": "code",
   "execution_count": 33,
   "metadata": {},
   "outputs": [
    {
     "data": {
      "text/plain": [
       "0.31365405505730504"
      ]
     },
     "execution_count": 33,
     "metadata": {},
     "output_type": "execute_result"
    }
   ],
   "source": [
    "# glmm correlation di = 2 \n",
    "mean_empirical_cor_2_GLMM"
   ]
  },
  {
   "cell_type": "code",
   "execution_count": 34,
   "metadata": {},
   "outputs": [
    {
     "data": {
      "text/plain": [
       "0.313875467123078"
      ]
     },
     "execution_count": 34,
     "metadata": {},
     "output_type": "execute_result"
    }
   ],
   "source": [
    "# glmm correlation di = 5 \n",
    "mean_empirical_cor_5_GLMM"
   ]
  },
  {
   "cell_type": "code",
   "execution_count": 35,
   "metadata": {},
   "outputs": [
    {
     "data": {
      "text/plain": [
       "0.31302712585269177"
      ]
     },
     "execution_count": 35,
     "metadata": {},
     "output_type": "execute_result"
    }
   ],
   "source": [
    "# glmm correlation di = 10\n",
    "mean_empirical_cor_10_GLMM"
   ]
  },
  {
   "cell_type": "code",
   "execution_count": 36,
   "metadata": {},
   "outputs": [
    {
     "data": {
      "text/plain": [
       "0.31603224055480267"
      ]
     },
     "execution_count": 36,
     "metadata": {},
     "output_type": "execute_result"
    }
   ],
   "source": [
    "# glmm correlation di = 25\n",
    "mean_empirical_cor_25_GLMM"
   ]
  },
  {
   "cell_type": "code",
   "execution_count": null,
   "metadata": {},
   "outputs": [],
   "source": []
  }
 ],
 "metadata": {
  "@webio": {
   "lastCommId": null,
   "lastKernelId": null
  },
  "kernelspec": {
   "display_name": "Julia 1.6.2",
   "language": "julia",
   "name": "julia-1.6"
  },
  "language_info": {
   "file_extension": ".jl",
   "mimetype": "application/julia",
   "name": "julia",
   "version": "1.6.2"
  }
 },
 "nbformat": 4,
 "nbformat_minor": 4
}
