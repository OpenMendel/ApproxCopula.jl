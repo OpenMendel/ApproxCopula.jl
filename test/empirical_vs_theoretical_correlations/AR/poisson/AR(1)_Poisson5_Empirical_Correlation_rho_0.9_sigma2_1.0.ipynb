{
 "cells": [
  {
   "cell_type": "markdown",
   "metadata": {},
   "source": [
    "# Poisson(5) with AR(1) rho = 0.9, sigma2 = 1.0\n",
    "\n",
    "For Poisson Base with $\\lambda = 5$, with the correlation $\\rho = 0.9, \\sigma^2 = 1.0,$\n",
    "\n",
    "The theoretical correlation is a function of $d_i, \\rho, \\sigma^2, kt$\n",
    "\n",
    "$$Corr(Y_1, Y_2)\n",
    " = \\frac{\\rho * \\sigma^2}{1 + \\frac{1}{2} * \\sigma^2 * kt + \\frac{1}{2} * \\sigma^2 (d_i - 1)}$$\n",
    "\n",
    "We have $\\lambda = 5,$ thus we have kurtosis $kt = kt(\\lambda) = 3.2.$\n",
    "\n",
    "Let's see what happens to the theoretical/empirical correlation when we fix $\\rho = 0.9, \\sigma^2 = 1.0$ and range cluster sizes $d_i$\n",
    "\n",
    "$$Corr(Y_1, Y_2)\n",
    " = \\frac{0.9}{1 + \\frac{1}{2} * 3.2 + \\frac{1}{2} * (d_i - 1)} =  \\frac{0.9}{1 + \\frac{1}{2} * (d_i + 2.2)} $$\n",
    "\n",
    "# We will show:\n",
    "    1) Simulating under QC model, the theoretical and empirical correlation IS a function of cluster sizes di\n",
    "\n",
    "    2) Simulating under GLMM, the theoretical and empirical correlation is NOT function of cluster sizes di\n",
    "    \n",
    "\n",
    "## TOC:\n",
    "\n",
    "# di = 2\n",
    "* [AR(1) di = 2](#ex0)\n",
    "* [simulate under GLMM AR(1) di = 2](#ex0g)\n",
    "\n",
    "# di = 5\n",
    "* [AR(1) di = 5](#ex1)\n",
    "* [simulate under GLMM AR(1) di = 5](#ex1g)\n",
    "\n",
    "# di = 10 \n",
    "* [AR(1) di = 10](#ex2)\n",
    "* [simulate under GLMM AR(1) di = 10](#ex2g)\n",
    "\n",
    "# di = 25\n",
    "* [AR(1) di = 25](#ex3)\n",
    "* [simulate under GLMM AR(1) di = 25](#ex3g)\n",
    "\n",
    "# Comparisons\n",
    "* [Theoretical vs. Empirical Correlation Simulated under QC](#ex4)\n",
    "* [Empirical Correlation Simulated under GLMM](#ex4g)"
   ]
  },
  {
   "cell_type": "code",
   "execution_count": 1,
   "metadata": {},
   "outputs": [],
   "source": [
    "using GLMCopula, DelimitedFiles, LinearAlgebra, Random, GLM, MixedModels, CategoricalArrays\n",
    "using Random, Roots, SpecialFunctions, StatsBase\n",
    "using DataFrames, DelimitedFiles, Statistics, ToeplitzMatrices\n",
    "import StatsBase: sem"
   ]
  },
  {
   "cell_type": "code",
   "execution_count": 2,
   "metadata": {},
   "outputs": [
    {
     "data": {
      "text/plain": [
       "get_V_AR (generic function with 1 method)"
      ]
     },
     "execution_count": 2,
     "metadata": {},
     "output_type": "execute_result"
    }
   ],
   "source": [
    "function get_V_AR(ρ, n)\n",
    "    vec = zeros(n)\n",
    "    vec[1] = 1.0\n",
    "    for i in 2:n\n",
    "        vec[i] = vec[i - 1] * ρ\n",
    "    end\n",
    "    V = ToeplitzMatrices.SymmetricToeplitz(vec)\n",
    "    V\n",
    "end"
   ]
  },
  {
   "cell_type": "code",
   "execution_count": 3,
   "metadata": {},
   "outputs": [
    {
     "data": {
      "text/plain": [
       "Float64"
      ]
     },
     "execution_count": 3,
     "metadata": {},
     "output_type": "execute_result"
    }
   ],
   "source": [
    "# true parameter values\n",
    "lambda = [5.0]\n",
    "βtrue = [log(lambda[1])]\n",
    "σ2true = [1.0]\n",
    "ρtrue = [0.9]\n",
    "\n",
    "samplesize = 100000 # number of sampling units\n",
    "\n",
    "d = Poisson()\n",
    "link = LogLink()\n",
    "D = typeof(d)\n",
    "Link = typeof(link)\n",
    "T = Float64"
   ]
  },
  {
   "cell_type": "markdown",
   "metadata": {},
   "source": [
    "# Kurtosis of each Poisson(5) base distribution is 3.2 \n",
    "\n",
    "We have $\\lambda = 5,$ thus we have kurtosis $kt = kt(\\lambda) = 3.2.$\n",
    "\n",
    "Let's see what happens to the theoretical/empirical correlations when we fix $\\rho = 0.9, \\sigma^2 = 1.0, kt = 3.2$ and range cluster sizes $d_i$"
   ]
  },
  {
   "cell_type": "code",
   "execution_count": 4,
   "metadata": {},
   "outputs": [
    {
     "data": {
      "text/plain": [
       "(5.0, 5.0, 0.4472135954999579, 3.2)"
      ]
     },
     "execution_count": 4,
     "metadata": {},
     "output_type": "execute_result"
    }
   ],
   "source": [
    "d = Poisson(lambda[1])\n",
    "μ, σ², sk, kt = mean(d), var(d), skewness(d), kurtosis(d, false)"
   ]
  },
  {
   "cell_type": "markdown",
   "metadata": {},
   "source": [
    "## AR(1) di = 2 <a class=\"anchor\" id=\"ex0\"></a>\n",
    "\n",
    "$d_i = 2$\n",
    "\n",
    "$\\lambda = 5, \\rho = 0.9, \\sigma^2 = 1.0$"
   ]
  },
  {
   "cell_type": "code",
   "execution_count": 5,
   "metadata": {},
   "outputs": [
    {
     "data": {
      "text/plain": [
       "2×2 Matrix{Float64}:\n",
       " 1.0  0.9\n",
       " 0.9  1.0"
      ]
     },
     "execution_count": 5,
     "metadata": {},
     "output_type": "execute_result"
    }
   ],
   "source": [
    "di = 2 # number of observations per cluster\n",
    "V_AR = get_V_AR(ρtrue[1], di)\n",
    "\n",
    "# true Gamma\n",
    "Γ_AR = σ2true[1] * V_AR"
   ]
  },
  {
   "cell_type": "code",
   "execution_count": 6,
   "metadata": {},
   "outputs": [
    {
     "name": "stdout",
     "output_type": "stream",
     "text": [
      "  1.167570 seconds (5.64 M allocations: 627.854 MiB, 10.94% gc time, 45.82% compilation time)\n"
     ]
    },
    {
     "data": {
      "text/plain": [
       "2×2 Matrix{Float64}:\n",
       " 1.0       0.285195\n",
       " 0.285195  1.0"
      ]
     },
     "execution_count": 6,
     "metadata": {},
     "output_type": "execute_result"
    }
   ],
   "source": [
    "vecd = Vector{DiscreteUnivariateDistribution}(undef, di)\n",
    "for i in 1:di\n",
    "    vecd[i] = Poisson(lambda[1])\n",
    "end\n",
    "nonmixed_multivariate_dist = NonMixedMultivariateDistribution(vecd, Γ_AR)\n",
    "\n",
    "Random.seed!(12345)\n",
    "@time Y_nsample = simulate_nobs_independent_vectors(nonmixed_multivariate_dist, samplesize)\n",
    "\n",
    "gcs = Vector{GLMCopulaARObs{T, D, Link}}(undef, samplesize)\n",
    "for i in 1:samplesize\n",
    "    X = ones(di, 1)\n",
    "    y = Float64.(Y_nsample[i])\n",
    "    V = [ones(di, di)]\n",
    "    gcs[i] = GLMCopulaARObs(y, X, d, link)\n",
    "end\n",
    "\n",
    "# form model\n",
    "gcm = GLMCopulaARModel(gcs);\n",
    "\n",
    "N = length(gcm.data)\n",
    "Y_AR = zeros(N, di)\n",
    "for j in 1:di\n",
    "    Y_AR[:, j] = [gcm.data[i].y[j] for i in 1:N]\n",
    "end\n",
    "empirical_cor_2 = StatsBase.cor(Y_AR)"
   ]
  },
  {
   "cell_type": "code",
   "execution_count": 7,
   "metadata": {},
   "outputs": [
    {
     "data": {
      "text/plain": [
       "0.2851948656513909"
      ]
     },
     "execution_count": 7,
     "metadata": {},
     "output_type": "execute_result"
    }
   ],
   "source": [
    "empirical_cor_2[1, 2]"
   ]
  },
  {
   "cell_type": "code",
   "execution_count": 8,
   "metadata": {},
   "outputs": [
    {
     "data": {
      "text/plain": [
       "0.2903225806451613"
      ]
     },
     "execution_count": 8,
     "metadata": {},
     "output_type": "execute_result"
    }
   ],
   "source": [
    "theoretical_rho_2_kurtosis = (ρtrue[1] * σ2true[1]) / (1 + ((di/2) * σ2true[1]) + (0.5 * (kt - 1) * σ2true[1]))"
   ]
  },
  {
   "cell_type": "markdown",
   "metadata": {},
   "source": [
    "## simulate under GLMM AR(1) di = 2 <a class=\"anchor\" id=\"ex0g\"></a>\n",
    "\n",
    "$d_i = 2$\n",
    "\n",
    "$\\lambda = 5, \\rho = 0.9, \\sigma^2 = 1.0$"
   ]
  },
  {
   "cell_type": "code",
   "execution_count": 9,
   "metadata": {},
   "outputs": [
    {
     "data": {
      "text/plain": [
       "2×2 Matrix{Float64}:\n",
       " 1.0       0.798455\n",
       " 0.798455  1.0"
      ]
     },
     "execution_count": 9,
     "metadata": {},
     "output_type": "execute_result"
    }
   ],
   "source": [
    "function __get_distribution(dist::Type{D}, μ) where D <: UnivariateDistribution\n",
    "    return dist(μ)\n",
    "end\n",
    "\n",
    "for i in 1:samplesize\n",
    "    X = ones(di, 1)\n",
    "    η = X * βtrue\n",
    "    # generate mvn response\n",
    "    mvn_d = MvNormal(η, Γ_AR)\n",
    "    mvn_η = rand(mvn_d)\n",
    "    μ = GLM.linkinv.(link, mvn_η)\n",
    "    y = Float64.(rand.(__get_distribution.(D, μ)))\n",
    "    gcs[i] = GLMCopulaARObs(y, X, d, link)\n",
    "end\n",
    "\n",
    "# form model\n",
    "gcm = GLMCopulaARModel(gcs);\n",
    "\n",
    "N = length(gcm.data)\n",
    "Y_AR = zeros(N, di)\n",
    "for j in 1:di\n",
    "    Y_AR[:, j] = [gcm.data[i].y[j] for i in 1:N]\n",
    "end\n",
    "empirical_cor_2_GLMM = StatsBase.cor(Y_AR)"
   ]
  },
  {
   "cell_type": "markdown",
   "metadata": {},
   "source": [
    "## AR(1) di = 5 <a class=\"anchor\" id=\"ex1\"></a>\n",
    "\n",
    "$d_i = 5$\n",
    "\n",
    "$\\lambda = 5, \\rho = 0.9, \\sigma^2 = 1.0$"
   ]
  },
  {
   "cell_type": "code",
   "execution_count": 10,
   "metadata": {},
   "outputs": [
    {
     "data": {
      "text/plain": [
       "5×5 Matrix{Float64}:\n",
       " 1.0     0.9    0.81  0.729  0.6561\n",
       " 0.9     1.0    0.9   0.81   0.729\n",
       " 0.81    0.9    1.0   0.9    0.81\n",
       " 0.729   0.81   0.9   1.0    0.9\n",
       " 0.6561  0.729  0.81  0.9    1.0"
      ]
     },
     "execution_count": 10,
     "metadata": {},
     "output_type": "execute_result"
    }
   ],
   "source": [
    "di = 5 # number of observations per cluster\n",
    "V_AR = get_V_AR(ρtrue[1], di)\n",
    "\n",
    "# true Gamma\n",
    "Γ_AR = σ2true[1] * V_AR"
   ]
  },
  {
   "cell_type": "code",
   "execution_count": 11,
   "metadata": {},
   "outputs": [
    {
     "name": "stdout",
     "output_type": "stream",
     "text": [
      "  1.963463 seconds (9.00 M allocations: 1.299 GiB, 29.41% gc time)\n"
     ]
    },
    {
     "data": {
      "text/plain": [
       "5×5 Matrix{Float64}:\n",
       " 1.0       0.196943  0.179219  0.159001  0.140843\n",
       " 0.196943  1.0       0.193536  0.178693  0.154884\n",
       " 0.179219  0.193536  1.0       0.191839  0.175218\n",
       " 0.159001  0.178693  0.191839  1.0       0.197053\n",
       " 0.140843  0.154884  0.175218  0.197053  1.0"
      ]
     },
     "execution_count": 11,
     "metadata": {},
     "output_type": "execute_result"
    }
   ],
   "source": [
    "vecd = Vector{DiscreteUnivariateDistribution}(undef, di)\n",
    "for i in 1:di\n",
    "    vecd[i] = Poisson(lambda[1])\n",
    "end\n",
    "nonmixed_multivariate_dist = NonMixedMultivariateDistribution(vecd, Γ_AR)\n",
    "\n",
    "Random.seed!(12345)\n",
    "@time Y_nsample = simulate_nobs_independent_vectors(nonmixed_multivariate_dist, samplesize)\n",
    "\n",
    "gcs = Vector{GLMCopulaARObs{T, D, Link}}(undef, samplesize)\n",
    "for i in 1:samplesize\n",
    "    X = ones(di, 1)\n",
    "    y = Float64.(Y_nsample[i])\n",
    "    V = [ones(di, di)]\n",
    "    gcs[i] = GLMCopulaARObs(y, X, d, link)\n",
    "end\n",
    "\n",
    "# form model\n",
    "gcm = GLMCopulaARModel(gcs);\n",
    "\n",
    "N = length(gcm.data)\n",
    "Y_AR = zeros(N, di)\n",
    "for j in 1:di\n",
    "    Y_AR[:, j] = [gcm.data[i].y[j] for i in 1:N]\n",
    "end\n",
    "empirical_cor_5 = StatsBase.cor(Y_AR)"
   ]
  },
  {
   "cell_type": "code",
   "execution_count": 12,
   "metadata": {},
   "outputs": [
    {
     "data": {
      "text/plain": [
       "0.19694343677998818"
      ]
     },
     "execution_count": 12,
     "metadata": {},
     "output_type": "execute_result"
    }
   ],
   "source": [
    "empirical_cor_5[1, 2]"
   ]
  },
  {
   "cell_type": "code",
   "execution_count": 13,
   "metadata": {},
   "outputs": [
    {
     "data": {
      "text/plain": [
       "0.1956521739130435"
      ]
     },
     "execution_count": 13,
     "metadata": {},
     "output_type": "execute_result"
    }
   ],
   "source": [
    "theoretical_rho_5_kurtosis = (ρtrue[1] * σ2true[1]) / (1 + ((di/2) * σ2true[1]) + (0.5 * (kt - 1) * σ2true[1]))"
   ]
  },
  {
   "cell_type": "markdown",
   "metadata": {},
   "source": [
    "## simulate under GLMM AR(1) di = 5 <a class=\"anchor\" id=\"ex1g\"></a>\n",
    "\n",
    "$d_i = 5$\n",
    "\n",
    "$\\lambda = 5, \\rho = 0.9, \\sigma^2 = 1.0$"
   ]
  },
  {
   "cell_type": "code",
   "execution_count": 14,
   "metadata": {},
   "outputs": [
    {
     "data": {
      "text/plain": [
       "5×5 Matrix{Float64}:\n",
       " 1.0       0.7895    0.676341  0.584516  0.498512\n",
       " 0.7895    1.0       0.788338  0.675127  0.582794\n",
       " 0.676341  0.788338  1.0       0.793215  0.673568\n",
       " 0.584516  0.675127  0.793215  1.0       0.785478\n",
       " 0.498512  0.582794  0.673568  0.785478  1.0"
      ]
     },
     "execution_count": 14,
     "metadata": {},
     "output_type": "execute_result"
    }
   ],
   "source": [
    "for i in 1:samplesize\n",
    "    X = ones(di, 1)\n",
    "    η = X * βtrue\n",
    "    # generate mvn response\n",
    "    mvn_d = MvNormal(η, Γ_AR)\n",
    "    mvn_η = rand(mvn_d)\n",
    "    μ = GLM.linkinv.(link, mvn_η)\n",
    "    y = Float64.(rand.(__get_distribution.(D, μ)))\n",
    "    gcs[i] = GLMCopulaARObs(y, X, d, link)\n",
    "end\n",
    "\n",
    "# form model\n",
    "gcm = GLMCopulaARModel(gcs);\n",
    "\n",
    "N = length(gcm.data)\n",
    "Y_AR = zeros(N, di)\n",
    "for j in 1:di\n",
    "    Y_AR[:, j] = [gcm.data[i].y[j] for i in 1:N]\n",
    "end\n",
    "empirical_cor_5_GLMM = StatsBase.cor(Y_AR)"
   ]
  },
  {
   "cell_type": "markdown",
   "metadata": {},
   "source": [
    "## AR(1) di = 10 <a class=\"anchor\" id=\"ex2\"></a>\n",
    "\n",
    "$d_i = 10$\n",
    "\n",
    "$\\lambda = 5, \\rho = 0.9, \\sigma^2 = 1.0$"
   ]
  },
  {
   "cell_type": "code",
   "execution_count": 15,
   "metadata": {},
   "outputs": [
    {
     "data": {
      "text/plain": [
       "10×10 Matrix{Float64}:\n",
       " 1.0       0.9       0.81      0.729     …  0.478297  0.430467  0.38742\n",
       " 0.9       1.0       0.9       0.81         0.531441  0.478297  0.430467\n",
       " 0.81      0.9       1.0       0.9          0.59049   0.531441  0.478297\n",
       " 0.729     0.81      0.9       1.0          0.6561    0.59049   0.531441\n",
       " 0.6561    0.729     0.81      0.9          0.729     0.6561    0.59049\n",
       " 0.59049   0.6561    0.729     0.81      …  0.81      0.729     0.6561\n",
       " 0.531441  0.59049   0.6561    0.729        0.9       0.81      0.729\n",
       " 0.478297  0.531441  0.59049   0.6561       1.0       0.9       0.81\n",
       " 0.430467  0.478297  0.531441  0.59049      0.9       1.0       0.9\n",
       " 0.38742   0.430467  0.478297  0.531441     0.81      0.9       1.0"
      ]
     },
     "execution_count": 15,
     "metadata": {},
     "output_type": "execute_result"
    }
   ],
   "source": [
    "di = 10 # number of observations per cluster\n",
    "V_AR = get_V_AR(ρtrue[1], di)\n",
    "\n",
    "# true Gamma\n",
    "Γ_AR = σ2true[1] * V_AR"
   ]
  },
  {
   "cell_type": "code",
   "execution_count": 16,
   "metadata": {},
   "outputs": [
    {
     "name": "stdout",
     "output_type": "stream",
     "text": [
      "  3.745381 seconds (17.50 M allocations: 3.017 GiB, 24.30% gc time)\n"
     ]
    },
    {
     "data": {
      "text/plain": [
       "10×10 Matrix{Float64}:\n",
       " 1.0        0.129212   0.111241   …  0.0654108  0.0627458  0.051693\n",
       " 0.129212   1.0        0.130465      0.0734216  0.0676921  0.0627178\n",
       " 0.111241   0.130465   1.0           0.0802944  0.074363   0.0613222\n",
       " 0.101642   0.117368   0.12355       0.0924405  0.0835027  0.0757609\n",
       " 0.0880405  0.106948   0.11251       0.100746   0.0886037  0.0801471\n",
       " 0.0787966  0.0946752  0.0936823  …  0.115538   0.0999786  0.0867638\n",
       " 0.0751109  0.0807032  0.0901093     0.123241   0.114441   0.104384\n",
       " 0.0654108  0.0734216  0.0802944     1.0        0.12493    0.110968\n",
       " 0.0627458  0.0676921  0.074363      0.12493    1.0        0.121423\n",
       " 0.051693   0.0627178  0.0613222     0.110968   0.121423   1.0"
      ]
     },
     "execution_count": 16,
     "metadata": {},
     "output_type": "execute_result"
    }
   ],
   "source": [
    "vecd = Vector{DiscreteUnivariateDistribution}(undef, di)\n",
    "for i in 1:di\n",
    "    vecd[i] = Poisson(lambda[1])\n",
    "end\n",
    "nonmixed_multivariate_dist = NonMixedMultivariateDistribution(vecd, Γ_AR)\n",
    "\n",
    "Random.seed!(12345)\n",
    "@time Y_nsample = simulate_nobs_independent_vectors(nonmixed_multivariate_dist, samplesize)\n",
    "\n",
    "gcs = Vector{GLMCopulaARObs{T, D, Link}}(undef, samplesize)\n",
    "for i in 1:samplesize\n",
    "    X = ones(di, 1)\n",
    "    y = Float64.(Y_nsample[i])\n",
    "    V = [ones(di, di)]\n",
    "    gcs[i] = GLMCopulaARObs(y, X, d, link)\n",
    "end\n",
    "\n",
    "# form model\n",
    "gcm = GLMCopulaARModel(gcs);\n",
    "\n",
    "N = length(gcm.data)\n",
    "Y_AR = zeros(N, di)\n",
    "for j in 1:di\n",
    "    Y_AR[:, j] = [gcm.data[i].y[j] for i in 1:N]\n",
    "end\n",
    "empirical_cor_10 = StatsBase.cor(Y_AR)"
   ]
  },
  {
   "cell_type": "code",
   "execution_count": 17,
   "metadata": {},
   "outputs": [
    {
     "data": {
      "text/plain": [
       "0.12921158248045786"
      ]
     },
     "execution_count": 17,
     "metadata": {},
     "output_type": "execute_result"
    }
   ],
   "source": [
    "empirical_cor_10[1, 2]"
   ]
  },
  {
   "cell_type": "code",
   "execution_count": 18,
   "metadata": {},
   "outputs": [
    {
     "data": {
      "text/plain": [
       "0.1267605633802817"
      ]
     },
     "execution_count": 18,
     "metadata": {},
     "output_type": "execute_result"
    }
   ],
   "source": [
    "theoretical_rho_10_kurtosis = (ρtrue[1] * σ2true[1]) / (1 + ((di/2) * σ2true[1]) + (0.5 * (kt - 1) * σ2true[1]))"
   ]
  },
  {
   "cell_type": "markdown",
   "metadata": {},
   "source": [
    "## simulate under GLMM AR(1) di = 10 <a class=\"anchor\" id=\"ex2g\"></a>\n",
    "\n",
    "$d_i = 10$\n",
    "\n",
    "$\\lambda = 5, \\rho = 0.9, \\sigma^2 = 1.0$"
   ]
  },
  {
   "cell_type": "code",
   "execution_count": 19,
   "metadata": {},
   "outputs": [
    {
     "data": {
      "text/plain": [
       "10×10 Matrix{Float64}:\n",
       " 1.0       0.798802  0.686538  0.591867  …  0.339225  0.302694  0.267577\n",
       " 0.798802  1.0       0.799824  0.683553     0.386718  0.341606  0.29824\n",
       " 0.686538  0.799824  1.0       0.794703     0.440669  0.383323  0.335242\n",
       " 0.591867  0.683553  0.794703  1.0          0.498116  0.431618  0.373987\n",
       " 0.509367  0.583726  0.674347  0.786307     0.577579  0.505531  0.435616\n",
       " 0.444698  0.506176  0.582279  0.669931  …  0.676812  0.587036  0.50528\n",
       " 0.387235  0.43926   0.505446  0.578715     0.789131  0.674672  0.585027\n",
       " 0.339225  0.386718  0.440669  0.498116     1.0       0.787131  0.678136\n",
       " 0.302694  0.341606  0.383323  0.431618     0.787131  1.0       0.789833\n",
       " 0.267577  0.29824   0.335242  0.373987     0.678136  0.789833  1.0"
      ]
     },
     "execution_count": 19,
     "metadata": {},
     "output_type": "execute_result"
    }
   ],
   "source": [
    "for i in 1:samplesize\n",
    "    X = ones(di, 1)\n",
    "    η = X * βtrue\n",
    "    # generate mvn response\n",
    "    mvn_d = MvNormal(η, Γ_AR)\n",
    "    mvn_η = rand(mvn_d)\n",
    "    μ = GLM.linkinv.(link, mvn_η)\n",
    "    y = Float64.(rand.(__get_distribution.(D, μ)))\n",
    "    gcs[i] = GLMCopulaARObs(y, X, d, link)\n",
    "end\n",
    "\n",
    "# form model\n",
    "gcm = GLMCopulaARModel(gcs);\n",
    "\n",
    "N = length(gcm.data)\n",
    "Y_AR = zeros(N, di)\n",
    "for j in 1:di\n",
    "    Y_AR[:, j] = [gcm.data[i].y[j] for i in 1:N]\n",
    "end\n",
    "empirical_cor_10_GLMM = StatsBase.cor(Y_AR)"
   ]
  },
  {
   "cell_type": "markdown",
   "metadata": {},
   "source": [
    "## AR(1) di = 25 <a class=\"anchor\" id=\"ex3\"></a>\n",
    "\n",
    "$d_i = 25$\n",
    "\n",
    "$\\lambda = 5, \\rho = 1.0, \\sigma^2 = 1.0$"
   ]
  },
  {
   "cell_type": "code",
   "execution_count": 20,
   "metadata": {},
   "outputs": [
    {
     "data": {
      "text/plain": [
       "25×25 Matrix{Float64}:\n",
       " 1.0        0.9        0.81       …  0.0984771  0.0886294  0.0797664\n",
       " 0.9        1.0        0.9           0.109419   0.0984771  0.0886294\n",
       " 0.81       0.9        1.0           0.121577   0.109419   0.0984771\n",
       " 0.729      0.81       0.9           0.135085   0.121577   0.109419\n",
       " 0.6561     0.729      0.81          0.150095   0.135085   0.121577\n",
       " 0.59049    0.6561     0.729      …  0.166772   0.150095   0.135085\n",
       " 0.531441   0.59049    0.6561        0.185302   0.166772   0.150095\n",
       " 0.478297   0.531441   0.59049       0.205891   0.185302   0.166772\n",
       " 0.430467   0.478297   0.531441      0.228768   0.205891   0.185302\n",
       " 0.38742    0.430467   0.478297      0.254187   0.228768   0.205891\n",
       " 0.348678   0.38742    0.430467   …  0.28243    0.254187   0.228768\n",
       " 0.313811   0.348678   0.38742       0.313811   0.28243    0.254187\n",
       " 0.28243    0.313811   0.348678      0.348678   0.313811   0.28243\n",
       " 0.254187   0.28243    0.313811      0.38742    0.348678   0.313811\n",
       " 0.228768   0.254187   0.28243       0.430467   0.38742    0.348678\n",
       " 0.205891   0.228768   0.254187   …  0.478297   0.430467   0.38742\n",
       " 0.185302   0.205891   0.228768      0.531441   0.478297   0.430467\n",
       " 0.166772   0.185302   0.205891      0.59049    0.531441   0.478297\n",
       " 0.150095   0.166772   0.185302      0.6561     0.59049    0.531441\n",
       " 0.135085   0.150095   0.166772      0.729      0.6561     0.59049\n",
       " 0.121577   0.135085   0.150095   …  0.81       0.729      0.6561\n",
       " 0.109419   0.121577   0.135085      0.9        0.81       0.729\n",
       " 0.0984771  0.109419   0.121577      1.0        0.9        0.81\n",
       " 0.0886294  0.0984771  0.109419      0.9        1.0        0.9\n",
       " 0.0797664  0.0886294  0.0984771     0.81       0.9        1.0"
      ]
     },
     "execution_count": 20,
     "metadata": {},
     "output_type": "execute_result"
    }
   ],
   "source": [
    "di = 25 # number of observations per cluster\n",
    "V_AR = get_V_AR(ρtrue[1], di)\n",
    "\n",
    "# true Gamma\n",
    "Γ_AR = σ2true[1] * V_AR"
   ]
  },
  {
   "cell_type": "code",
   "execution_count": 21,
   "metadata": {},
   "outputs": [
    {
     "name": "stdout",
     "output_type": "stream",
     "text": [
      " 13.607008 seconds (43.00 M allocations: 14.642 GiB, 24.84% gc time)\n"
     ]
    },
    {
     "data": {
      "text/plain": [
       "25×25 Matrix{Float64}:\n",
       " 1.0         0.057877    0.054407    …  0.00334655  0.00380137  0.00818987\n",
       " 0.057877    1.0         0.060857       0.00671293  0.00272152  0.00669421\n",
       " 0.054407    0.060857    1.0            0.00539359  0.00731512  0.00349099\n",
       " 0.0482577   0.0592987   0.0573111      0.00975628  0.00449522  0.00557292\n",
       " 0.0476948   0.0448251   0.0535737      0.0119277   0.00800253  0.0119288\n",
       " 0.0363996   0.0447774   0.0543074   …  0.0125646   0.00597484  0.00863699\n",
       " 0.040403    0.039845    0.0488385      0.012551    0.0158989   0.0098112\n",
       " 0.0297361   0.0338403   0.0413809      0.00883903  0.0133106   0.00768023\n",
       " 0.0348425   0.0376329   0.0365287      0.00791255  0.0101563   0.00833693\n",
       " 0.0218884   0.0288836   0.0292597      0.0163443   0.0115216   0.00678645\n",
       " 0.0207626   0.0229643   0.0302499   …  0.0168207   0.0166431   0.016916\n",
       " 0.0219535   0.0229721   0.0253146      0.0262654   0.0190957   0.0182259\n",
       " 0.0228315   0.0158543   0.0249878      0.0177675   0.0159887   0.0210917\n",
       " 0.0209144   0.0137696   0.0185492      0.0243449   0.0263196   0.0228562\n",
       " 0.0171156   0.0158616   0.0213219      0.0299428   0.0278499   0.0266786\n",
       " 0.00922214  0.014345    0.0167152   …  0.0286397   0.0241148   0.0305469\n",
       " 0.0116486   0.0172558   0.0192292      0.0350162   0.0353669   0.0263525\n",
       " 0.0102002   0.00837432  0.0125208      0.0368375   0.0379002   0.0337106\n",
       " 0.0169407   0.0140302   0.0109716      0.0434077   0.0402588   0.0423647\n",
       " 0.0127905   0.0122594   0.0116229      0.047172    0.0398982   0.0441485\n",
       " 0.00919189  0.00864678  0.0085595   …  0.0543659   0.0457041   0.0444324\n",
       " 0.0109414   0.010535    0.00506318     0.0605633   0.050288    0.0445585\n",
       " 0.00334655  0.00671293  0.00539359     1.0         0.062001    0.0515484\n",
       " 0.00380137  0.00272152  0.00731512     0.062001    1.0         0.0565912\n",
       " 0.00818987  0.00669421  0.00349099     0.0515484   0.0565912   1.0"
      ]
     },
     "execution_count": 21,
     "metadata": {},
     "output_type": "execute_result"
    }
   ],
   "source": [
    "vecd = Vector{DiscreteUnivariateDistribution}(undef, di)\n",
    "for i in 1:di\n",
    "    vecd[i] = Poisson(lambda[1])\n",
    "end\n",
    "nonmixed_multivariate_dist = NonMixedMultivariateDistribution(vecd, Γ_AR)\n",
    "\n",
    "Random.seed!(12345)\n",
    "@time Y_nsample = simulate_nobs_independent_vectors(nonmixed_multivariate_dist, samplesize)\n",
    "\n",
    "gcs = Vector{GLMCopulaARObs{T, D, Link}}(undef, samplesize)\n",
    "for i in 1:samplesize\n",
    "    X = ones(di, 1)\n",
    "    y = Float64.(Y_nsample[i])\n",
    "    V = [ones(di, di)]\n",
    "    gcs[i] = GLMCopulaARObs(y, X, d, link)\n",
    "end\n",
    "\n",
    "# form model\n",
    "gcm = GLMCopulaARModel(gcs);\n",
    "\n",
    "N = length(gcm.data)\n",
    "Y_AR = zeros(N, di)\n",
    "for j in 1:di\n",
    "    Y_AR[:, j] = [gcm.data[i].y[j] for i in 1:N]\n",
    "end\n",
    "empirical_cor_25 = StatsBase.cor(Y_AR)"
   ]
  },
  {
   "cell_type": "code",
   "execution_count": 22,
   "metadata": {},
   "outputs": [
    {
     "data": {
      "text/plain": [
       "0.057877033765906125"
      ]
     },
     "execution_count": 22,
     "metadata": {},
     "output_type": "execute_result"
    }
   ],
   "source": [
    "empirical_cor_25[1, 2]"
   ]
  },
  {
   "cell_type": "code",
   "execution_count": 23,
   "metadata": {},
   "outputs": [
    {
     "data": {
      "text/plain": [
       "0.06164383561643836"
      ]
     },
     "execution_count": 23,
     "metadata": {},
     "output_type": "execute_result"
    }
   ],
   "source": [
    "theoretical_rho_25_kurtosis = (ρtrue[1] * σ2true[1]) / (1 + ((di/2) * σ2true[1]) + (0.5 * (kt - 1) * σ2true[1]))"
   ]
  },
  {
   "cell_type": "markdown",
   "metadata": {},
   "source": [
    "## simulate under GLMM AR(1) di = 25 <a class=\"anchor\" id=\"ex3g\"></a>\n",
    "\n",
    "$d_i = 25$\n",
    "\n",
    "$\\lambda = 5, \\rho = 0.9, \\sigma^2 = 1.0$"
   ]
  },
  {
   "cell_type": "code",
   "execution_count": 24,
   "metadata": {},
   "outputs": [
    {
     "data": {
      "text/plain": [
       "25×25 Matrix{Float64}:\n",
       " 1.0        0.794472   0.675906   …  0.052031   0.0434169  0.0379415\n",
       " 0.794472   1.0        0.790503      0.0602639  0.0503706  0.0440087\n",
       " 0.675906   0.790503   1.0           0.0681712  0.0568748  0.0501382\n",
       " 0.579667   0.669935   0.791564      0.0796472  0.0667057  0.0584775\n",
       " 0.505297   0.579128   0.678592      0.0849799  0.0703619  0.0629699\n",
       " 0.443646   0.502518   0.578531   …  0.0952401  0.0822579  0.0724376\n",
       " 0.392455   0.438296   0.505983      0.110663   0.0970143  0.0826461\n",
       " 0.338989   0.381037   0.433112      0.128541   0.110231   0.0943535\n",
       " 0.293002   0.331286   0.372569      0.151078   0.127954   0.109659\n",
       " 0.258585   0.292119   0.329628      0.173826   0.148796   0.128923\n",
       " 0.225392   0.253935   0.286773   …  0.184701   0.161044   0.139969\n",
       " 0.201852   0.226394   0.253977      0.206255   0.17896    0.154341\n",
       " 0.183614   0.205379   0.231355      0.229135   0.20219    0.174614\n",
       " 0.162994   0.18122    0.205704      0.254181   0.227318   0.196551\n",
       " 0.14108    0.157525   0.177796      0.294854   0.263477   0.226129\n",
       " 0.122546   0.136909   0.156753   …  0.335166   0.301104   0.2566\n",
       " 0.111078   0.122549   0.13593       0.375625   0.334681   0.286424\n",
       " 0.0976954  0.107408   0.119311      0.436569   0.386635   0.329628\n",
       " 0.0876818  0.0957856  0.104903      0.507682   0.445107   0.381479\n",
       " 0.0743145  0.0821548  0.092563      0.578563   0.504804   0.426304\n",
       " 0.0660572  0.0744269  0.0852201  …  0.678413   0.585877   0.498676\n",
       " 0.0588487  0.0653243  0.0741798     0.792063   0.678067   0.580907\n",
       " 0.052031   0.0602639  0.0681712     1.0        0.800107   0.685515\n",
       " 0.0434169  0.0503706  0.0568748     0.800107   1.0        0.789089\n",
       " 0.0379415  0.0440087  0.0501382     0.685515   0.789089   1.0"
      ]
     },
     "execution_count": 24,
     "metadata": {},
     "output_type": "execute_result"
    }
   ],
   "source": [
    "for i in 1:samplesize\n",
    "    X = ones(di, 1)\n",
    "    η = X * βtrue\n",
    "    # generate mvn response\n",
    "    mvn_d = MvNormal(η, Γ_AR)\n",
    "    mvn_η = rand(mvn_d)\n",
    "    μ = GLM.linkinv.(link, mvn_η)\n",
    "    y = Float64.(rand.(__get_distribution.(D, μ)))\n",
    "    gcs[i] = GLMCopulaARObs(y, X, d, link)\n",
    "end\n",
    "\n",
    "# form model\n",
    "gcm = GLMCopulaARModel(gcs);\n",
    "\n",
    "N = length(gcm.data)\n",
    "Y_AR = zeros(N, di)\n",
    "for j in 1:di\n",
    "    Y_AR[:, j] = [gcm.data[i].y[j] for i in 1:N]\n",
    "end\n",
    "empirical_cor_25_GLMM = StatsBase.cor(Y_AR)"
   ]
  },
  {
   "cell_type": "markdown",
   "metadata": {},
   "source": [
    "## Comparisons \n",
    "\n",
    "##  1. Theoretical vs. Empirical Correlation simulated under QC <a class=\"anchor\" id=\"ex4\"></a>\n",
    "\n",
    "### Takeaway: Quasi-Copula correlation IS a function of the di, kt, $\\rho$ and $\\sigma^2$\n",
    "\n",
    "The theoretical correlation is a function of $d_i, \\rho, \\sigma^2, kt(\\lambda)$\n",
    "\n",
    "$$Corr(Y_1, Y_2)\n",
    " = \\frac{\\rho * \\sigma^2}{1 + \\frac{1}{2} * \\sigma^2 * kt + \\frac{1}{2} * \\sigma^2 (d_i - 1)}$$\n",
    "\n",
    "We have $\\lambda = 5,$ thus we have kurtosis $kt = kt(\\lambda) = 3.2.$\n",
    "\n",
    "Let's see what happens to the theoretical/empirical correlation when we fix $\\rho = 0.9, \\sigma^2 = 1.0$ and range cluster sizes $d_i$\n",
    "\n",
    "$$Corr(Y_1, Y_2)\n",
    " = \\frac{0.9}{1 + \\frac{1}{2} * 3.2 + \\frac{1}{2} * (d_i - 1)} =  \\frac{0.9}{1 + \\frac{1}{2} * (d_i + 2.2)} $$\n"
   ]
  },
  {
   "cell_type": "code",
   "execution_count": 25,
   "metadata": {},
   "outputs": [
    {
     "data": {
      "text/plain": [
       "1×2 Matrix{Float64}:\n",
       " 0.290323  0.285195"
      ]
     },
     "execution_count": 25,
     "metadata": {},
     "output_type": "execute_result"
    }
   ],
   "source": [
    "# di = 2\n",
    "[theoretical_rho_2_kurtosis empirical_cor_2[1, 2]]"
   ]
  },
  {
   "cell_type": "code",
   "execution_count": 26,
   "metadata": {},
   "outputs": [
    {
     "data": {
      "text/plain": [
       "1×2 Matrix{Float64}:\n",
       " 0.195652  0.196943"
      ]
     },
     "execution_count": 26,
     "metadata": {},
     "output_type": "execute_result"
    }
   ],
   "source": [
    "# di = 5\n",
    "[theoretical_rho_5_kurtosis empirical_cor_5[1, 2]]"
   ]
  },
  {
   "cell_type": "code",
   "execution_count": 27,
   "metadata": {},
   "outputs": [
    {
     "data": {
      "text/plain": [
       "1×2 Matrix{Float64}:\n",
       " 0.126761  0.129212"
      ]
     },
     "execution_count": 27,
     "metadata": {},
     "output_type": "execute_result"
    }
   ],
   "source": [
    "# di = 10\n",
    "[theoretical_rho_10_kurtosis empirical_cor_10[1, 2]]"
   ]
  },
  {
   "cell_type": "code",
   "execution_count": 28,
   "metadata": {},
   "outputs": [
    {
     "data": {
      "text/plain": [
       "1×2 Matrix{Float64}:\n",
       " 0.0616438  0.057877"
      ]
     },
     "execution_count": 28,
     "metadata": {},
     "output_type": "execute_result"
    }
   ],
   "source": [
    "# di = 25\n",
    "[theoretical_rho_25_kurtosis empirical_cor_25[1, 2]]"
   ]
  },
  {
   "cell_type": "markdown",
   "metadata": {},
   "source": [
    "##  2. Empirical Correlation simulated under GLMM<a class=\"anchor\" id=\"ex4g\"></a>\n",
    "\n",
    "### Takeaway: GLMM correlation is NOT a function of the di"
   ]
  },
  {
   "cell_type": "code",
   "execution_count": 29,
   "metadata": {},
   "outputs": [
    {
     "data": {
      "text/plain": [
       "0.7984547527377245"
      ]
     },
     "execution_count": 29,
     "metadata": {},
     "output_type": "execute_result"
    }
   ],
   "source": [
    "# glmm correlation di = 2 \n",
    "empirical_cor_2_GLMM[1, 2]"
   ]
  },
  {
   "cell_type": "code",
   "execution_count": 30,
   "metadata": {},
   "outputs": [
    {
     "data": {
      "text/plain": [
       "0.7894996031710032"
      ]
     },
     "execution_count": 30,
     "metadata": {},
     "output_type": "execute_result"
    }
   ],
   "source": [
    "# glmm correlation di = 5\n",
    "empirical_cor_5_GLMM[1, 2]"
   ]
  },
  {
   "cell_type": "code",
   "execution_count": 31,
   "metadata": {},
   "outputs": [
    {
     "data": {
      "text/plain": [
       "0.7988019832980287"
      ]
     },
     "execution_count": 31,
     "metadata": {},
     "output_type": "execute_result"
    }
   ],
   "source": [
    "# glmm correlation di = 10\n",
    "empirical_cor_10_GLMM[1, 2]"
   ]
  },
  {
   "cell_type": "code",
   "execution_count": 32,
   "metadata": {},
   "outputs": [
    {
     "data": {
      "text/plain": [
       "0.7944721096751493"
      ]
     },
     "execution_count": 32,
     "metadata": {},
     "output_type": "execute_result"
    }
   ],
   "source": [
    "# glmm correlation di = 25\n",
    "empirical_cor_25_GLMM[1, 2]"
   ]
  },
  {
   "cell_type": "code",
   "execution_count": null,
   "metadata": {},
   "outputs": [],
   "source": []
  }
 ],
 "metadata": {
  "@webio": {
   "lastCommId": null,
   "lastKernelId": null
  },
  "kernelspec": {
   "display_name": "Julia 1.6.2",
   "language": "julia",
   "name": "julia-1.6"
  },
  "language_info": {
   "file_extension": ".jl",
   "mimetype": "application/julia",
   "name": "julia",
   "version": "1.6.2"
  }
 },
 "nbformat": 4,
 "nbformat_minor": 4
}
