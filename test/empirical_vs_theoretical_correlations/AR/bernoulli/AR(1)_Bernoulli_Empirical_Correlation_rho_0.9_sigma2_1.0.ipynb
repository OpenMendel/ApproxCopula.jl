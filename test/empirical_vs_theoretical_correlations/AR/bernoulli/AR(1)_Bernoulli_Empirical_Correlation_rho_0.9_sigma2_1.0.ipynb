{
 "cells": [
  {
   "cell_type": "markdown",
   "metadata": {},
   "source": [
    "# Bernoulli(0.5) with AR(1) rho = 0.9, sigma2 = 1.0\n",
    "\n",
    "For Bernoulli Base with $p = 0.5$, with the correlation $\\rho = 0.9, \\sigma^2 = 1.0,$  \n",
    "\n",
    "The theoretical correlation is a function of $d_i, \\rho, \\sigma^2, kt$\n",
    "\n",
    "$$Corr(Y_1, Y_2)\n",
    " = \\frac{\\rho * \\sigma^2}{1 + \\frac{1}{2} * \\sigma^2 * kt + \\frac{1}{2} * \\sigma^2 (d_i - 1)}$$\n",
    "\n",
    "We have $p = 0.5,$ thus we have kurtosis $kt = kt(p) = 1.$\n",
    "\n",
    "Let's see what happens to the theoretical/empirical correlation when we fix $\\rho = 0.9, \\sigma^2 = 1.0$ and range cluster sizes $d_i$\n",
    "\n",
    "$$Corr(Y_1, Y_2)\n",
    " = \\frac{0.9}{1 + \\frac{1}{2} * 1 + \\frac{1}{2} * (d_i - 1)} = \\frac{0.9}{1 + \\frac{d_i}{2}}$$\n",
    "\n",
    "\n",
    "# We will show: \n",
    "    1) Simulating under QC model, the theoretical and empirical correlation IS a function of cluster sizes di\n",
    "\n",
    "    2) Simulating under GLMM, the theoretical and empirical correlation is NOT function of cluster sizes di\n",
    "\n",
    "\n",
    "\n",
    "## TOC:\n",
    "\n",
    "# di = 2\n",
    "* [AR(1) di = 2](#ex0)\n",
    "* [simulate under GLMM AR(1) di = 2](#ex0g)\n",
    "\n",
    "# di = 5\n",
    "* [AR(1) di = 5](#ex1)\n",
    "* [simulate under GLMM AR(1) di = 5](#ex1g)\n",
    "\n",
    "# di = 10 \n",
    "* [AR(1) di = 10](#ex2)\n",
    "* [simulate under GLMM AR(1) di = 10](#ex2g)\n",
    "\n",
    "# di = 25\n",
    "* [AR(1) di = 25](#ex3)\n",
    "* [simulate under GLMM AR(1) di = 25](#ex3g)\n",
    "\n",
    "# Comparisons\n",
    "* [Theoretical vs. Empirical Correlation Simulated under QC](#ex4)\n",
    "* [Empirical Correlation Simulated under GLMM](#ex4g)"
   ]
  },
  {
   "cell_type": "code",
   "execution_count": 1,
   "metadata": {},
   "outputs": [],
   "source": [
    "using GLMCopula, DelimitedFiles, LinearAlgebra, Random, GLM, MixedModels, CategoricalArrays\n",
    "using Random, Roots, SpecialFunctions, StatsBase\n",
    "using DataFrames, DelimitedFiles, Statistics, ToeplitzMatrices\n",
    "import StatsBase: sem"
   ]
  },
  {
   "cell_type": "code",
   "execution_count": 2,
   "metadata": {},
   "outputs": [
    {
     "data": {
      "text/plain": [
       "get_V_AR (generic function with 1 method)"
      ]
     },
     "execution_count": 2,
     "metadata": {},
     "output_type": "execute_result"
    }
   ],
   "source": [
    "function get_V_AR(ρ, n)\n",
    "    vec = zeros(n)\n",
    "    vec[1] = 1.0\n",
    "    for i in 2:n\n",
    "        vec[i] = vec[i - 1] * ρ\n",
    "    end\n",
    "    V = ToeplitzMatrices.SymmetricToeplitz(vec)\n",
    "    V\n",
    "end"
   ]
  },
  {
   "cell_type": "code",
   "execution_count": 3,
   "metadata": {},
   "outputs": [
    {
     "data": {
      "text/plain": [
       "Float64"
      ]
     },
     "execution_count": 3,
     "metadata": {},
     "output_type": "execute_result"
    }
   ],
   "source": [
    "# true parameter values\n",
    "p = [0.5]\n",
    "βtrue = [log(1.0)]\n",
    "σ2true = [1.0]\n",
    "ρtrue = [0.9]\n",
    "\n",
    "samplesize = 100000 # number of sampling units\n",
    "\n",
    "d = Bernoulli()\n",
    "link = LogitLink()\n",
    "D = typeof(d)\n",
    "Link = typeof(link)\n",
    "T = Float64"
   ]
  },
  {
   "cell_type": "markdown",
   "metadata": {},
   "source": [
    "# Kurtosis of each Bernoulli(0.5) base distribution is 1.0\n",
    "\n",
    "We have $p = 0.5,$ thus we have kurtosis $kt = kt(p) = 1.$\n",
    "\n",
    "Let's see what happens to the theoretical/empirical correlations when we fix $\\rho = 0.9, \\sigma^2 = 1.0, kt = 1.0$ and range cluster sizes $d_i$"
   ]
  },
  {
   "cell_type": "code",
   "execution_count": 4,
   "metadata": {},
   "outputs": [
    {
     "data": {
      "text/plain": [
       "(0.5, 0.25, 0.0, 1.0)"
      ]
     },
     "execution_count": 4,
     "metadata": {},
     "output_type": "execute_result"
    }
   ],
   "source": [
    "d = Bernoulli(p[1])\n",
    "μ, σ², sk, kt = mean(d), var(d), skewness(d), kurtosis(d, false)"
   ]
  },
  {
   "cell_type": "markdown",
   "metadata": {},
   "source": [
    "## AR(1) di = 2 <a class=\"anchor\" id=\"ex0\"></a>\n",
    "\n",
    "$d_i = 2$\n",
    "\n",
    "$\\lambda = 5, \\rho = 0.9, \\sigma^2 = 1.0$"
   ]
  },
  {
   "cell_type": "code",
   "execution_count": 5,
   "metadata": {},
   "outputs": [
    {
     "data": {
      "text/plain": [
       "2×2 Matrix{Float64}:\n",
       " 1.0  0.9\n",
       " 0.9  1.0"
      ]
     },
     "execution_count": 5,
     "metadata": {},
     "output_type": "execute_result"
    }
   ],
   "source": [
    "di = 2 # number of observations per cluster\n",
    "V_AR = get_V_AR(ρtrue[1], di)\n",
    "\n",
    "# true Gamma\n",
    "Γ_AR = σ2true[1] * V_AR"
   ]
  },
  {
   "cell_type": "code",
   "execution_count": 6,
   "metadata": {},
   "outputs": [
    {
     "name": "stdout",
     "output_type": "stream",
     "text": [
      "  1.062309 seconds (5.52 M allocations: 360.511 MiB, 14.13% gc time, 64.17% compilation time)\n"
     ]
    },
    {
     "data": {
      "text/plain": [
       "2×2 Matrix{Float64}:\n",
       " 1.0       0.446784\n",
       " 0.446784  1.0"
      ]
     },
     "execution_count": 6,
     "metadata": {},
     "output_type": "execute_result"
    }
   ],
   "source": [
    "vecd = Vector{DiscreteUnivariateDistribution}(undef, di)\n",
    "for i in 1:di\n",
    "    vecd[i] = Bernoulli(p[1])\n",
    "end\n",
    "nonmixed_multivariate_dist = NonMixedMultivariateDistribution(vecd, Γ_AR)\n",
    "\n",
    "Random.seed!(12345)\n",
    "@time Y_nsample = simulate_nobs_independent_vectors(nonmixed_multivariate_dist, samplesize)\n",
    "\n",
    "gcs = Vector{GLMCopulaARObs{T, D, Link}}(undef, samplesize)\n",
    "for i in 1:samplesize\n",
    "    X = ones(di, 1)\n",
    "    y = Float64.(Y_nsample[i])\n",
    "    V = [ones(di, di)]\n",
    "    gcs[i] = GLMCopulaARObs(y, X, d, link)\n",
    "end\n",
    "\n",
    "# form model\n",
    "gcm = GLMCopulaARModel(gcs);\n",
    "\n",
    "N = length(gcm.data)\n",
    "Y_AR = zeros(N, di)\n",
    "for j in 1:di\n",
    "    Y_AR[:, j] = [gcm.data[i].y[j] for i in 1:N]\n",
    "end\n",
    "empirical_cor_2 = StatsBase.cor(Y_AR)"
   ]
  },
  {
   "cell_type": "code",
   "execution_count": 7,
   "metadata": {},
   "outputs": [
    {
     "data": {
      "text/plain": [
       "0.4467842937984511"
      ]
     },
     "execution_count": 7,
     "metadata": {},
     "output_type": "execute_result"
    }
   ],
   "source": [
    "empirical_cor_2[1, 2]"
   ]
  },
  {
   "cell_type": "code",
   "execution_count": 8,
   "metadata": {},
   "outputs": [
    {
     "data": {
      "text/plain": [
       "0.45"
      ]
     },
     "execution_count": 8,
     "metadata": {},
     "output_type": "execute_result"
    }
   ],
   "source": [
    "theoretical_rho_2_kurtosis = (ρtrue[1] * σ2true[1]) / (1 + ((di/2) * σ2true[1]) + (0.5 * (kt - 1) * σ2true[1]))"
   ]
  },
  {
   "cell_type": "markdown",
   "metadata": {},
   "source": [
    "## simulate under GLMM AR(1) di = 2 <a class=\"anchor\" id=\"ex0g\"></a>\n",
    "\n",
    "$d_i = 2$\n",
    "\n",
    "$p = 0.5, \\rho = 0.9, \\sigma^2 = 1.0$"
   ]
  },
  {
   "cell_type": "code",
   "execution_count": 9,
   "metadata": {},
   "outputs": [
    {
     "data": {
      "text/plain": [
       "2×2 Matrix{Float64}:\n",
       " 1.0       0.163437\n",
       " 0.163437  1.0"
      ]
     },
     "execution_count": 9,
     "metadata": {},
     "output_type": "execute_result"
    }
   ],
   "source": [
    "function __get_distribution(dist::Type{D}, μ) where D <: UnivariateDistribution\n",
    "    return dist(μ)\n",
    "end\n",
    "\n",
    "for i in 1:samplesize\n",
    "    X = ones(di, 1)\n",
    "    η = X * βtrue\n",
    "    # generate mvn response\n",
    "    mvn_d = MvNormal(η, Γ_AR)\n",
    "    mvn_η = rand(mvn_d)\n",
    "    μ = GLM.linkinv.(link, mvn_η)\n",
    "    y = Float64.(rand.(__get_distribution.(D, μ)))\n",
    "    gcs[i] = GLMCopulaARObs(y, X, d, link)\n",
    "end\n",
    "\n",
    "# form model\n",
    "gcm = GLMCopulaARModel(gcs);\n",
    "\n",
    "N = length(gcm.data)\n",
    "Y_AR = zeros(N, di)\n",
    "for j in 1:di\n",
    "    Y_AR[:, j] = [gcm.data[i].y[j] for i in 1:N]\n",
    "end\n",
    "empirical_cor_2_GLMM = StatsBase.cor(Y_AR)"
   ]
  },
  {
   "cell_type": "markdown",
   "metadata": {},
   "source": [
    "## AR(1) di = 5 <a class=\"anchor\" id=\"ex1\"></a>\n",
    "\n",
    "$d_i = 5$\n",
    "\n",
    "$\\lambda = 5, \\rho = 0.9, \\sigma^2 = 1.0$"
   ]
  },
  {
   "cell_type": "code",
   "execution_count": 10,
   "metadata": {},
   "outputs": [
    {
     "data": {
      "text/plain": [
       "5×5 Matrix{Float64}:\n",
       " 1.0     0.9    0.81  0.729  0.6561\n",
       " 0.9     1.0    0.9   0.81   0.729\n",
       " 0.81    0.9    1.0   0.9    0.81\n",
       " 0.729   0.81   0.9   1.0    0.9\n",
       " 0.6561  0.729  0.81  0.9    1.0"
      ]
     },
     "execution_count": 10,
     "metadata": {},
     "output_type": "execute_result"
    }
   ],
   "source": [
    "di = 5 # number of observations per cluster\n",
    "V_AR = get_V_AR(ρtrue[1], di)\n",
    "\n",
    "# true Gamma\n",
    "Γ_AR = σ2true[1] * V_AR"
   ]
  },
  {
   "cell_type": "code",
   "execution_count": 11,
   "metadata": {},
   "outputs": [
    {
     "name": "stdout",
     "output_type": "stream",
     "text": [
      "  1.216907 seconds (8.50 M allocations: 651.550 MiB, 39.56% gc time)\n"
     ]
    },
    {
     "data": {
      "text/plain": [
       "5×5 Matrix{Float64}:\n",
       " 1.0       0.258186  0.229345  0.211046  0.18123\n",
       " 0.258186  1.0       0.25702   0.22818   0.206759\n",
       " 0.229345  0.25702   1.0       0.255039  0.229736\n",
       " 0.211046  0.22818   0.255039  1.0       0.255299\n",
       " 0.18123   0.206759  0.229736  0.255299  1.0"
      ]
     },
     "execution_count": 11,
     "metadata": {},
     "output_type": "execute_result"
    }
   ],
   "source": [
    "vecd = Vector{DiscreteUnivariateDistribution}(undef, di)\n",
    "for i in 1:di\n",
    "    vecd[i] = Bernoulli(p[1])\n",
    "end\n",
    "nonmixed_multivariate_dist = NonMixedMultivariateDistribution(vecd, Γ_AR)\n",
    "\n",
    "Random.seed!(12345)\n",
    "@time Y_nsample = simulate_nobs_independent_vectors(nonmixed_multivariate_dist, samplesize)\n",
    "\n",
    "gcs = Vector{GLMCopulaARObs{T, D, Link}}(undef, samplesize)\n",
    "for i in 1:samplesize\n",
    "    X = ones(di, 1)\n",
    "    y = Float64.(Y_nsample[i])\n",
    "    V = [ones(di, di)]\n",
    "    gcs[i] = GLMCopulaARObs(y, X, d, link)\n",
    "end\n",
    "\n",
    "# form model\n",
    "gcm = GLMCopulaARModel(gcs);\n",
    "\n",
    "N = length(gcm.data)\n",
    "Y_AR = zeros(N, di)\n",
    "for j in 1:di\n",
    "    Y_AR[:, j] = [gcm.data[i].y[j] for i in 1:N]\n",
    "end\n",
    "empirical_cor_5 = StatsBase.cor(Y_AR)"
   ]
  },
  {
   "cell_type": "code",
   "execution_count": 12,
   "metadata": {},
   "outputs": [
    {
     "data": {
      "text/plain": [
       "0.25818607452235"
      ]
     },
     "execution_count": 12,
     "metadata": {},
     "output_type": "execute_result"
    }
   ],
   "source": [
    "empirical_cor_5[1, 2]"
   ]
  },
  {
   "cell_type": "code",
   "execution_count": 13,
   "metadata": {},
   "outputs": [
    {
     "data": {
      "text/plain": [
       "0.2571428571428572"
      ]
     },
     "execution_count": 13,
     "metadata": {},
     "output_type": "execute_result"
    }
   ],
   "source": [
    "theoretical_rho_5_kurtosis = (ρtrue[1] * σ2true[1]) / (1 + ((di/2) * σ2true[1]) + (0.5 * (kt - 1) * σ2true[1]))"
   ]
  },
  {
   "cell_type": "markdown",
   "metadata": {},
   "source": [
    "## simulate under GLMM AR(1) di = 5 <a class=\"anchor\" id=\"ex1g\"></a>\n",
    "\n",
    "$d_i = 5$\n",
    "\n",
    "$p = 0.5, \\rho = 0.9, \\sigma^2 = 1.0$"
   ]
  },
  {
   "cell_type": "code",
   "execution_count": 14,
   "metadata": {},
   "outputs": [
    {
     "data": {
      "text/plain": [
       "5×5 Matrix{Float64}:\n",
       " 1.0      0.15434   0.14428   0.12084   0.11234\n",
       " 0.15434  1.0       0.156107  0.140023  0.127961\n",
       " 0.14428  0.156107  1.0       0.15271   0.136977\n",
       " 0.12084  0.140023  0.15271   1.0       0.151938\n",
       " 0.11234  0.127961  0.136977  0.151938  1.0"
      ]
     },
     "execution_count": 14,
     "metadata": {},
     "output_type": "execute_result"
    }
   ],
   "source": [
    "for i in 1:samplesize\n",
    "    X = ones(di, 1)\n",
    "    η = X * βtrue\n",
    "    # generate mvn response\n",
    "    mvn_d = MvNormal(η, Γ_AR)\n",
    "    mvn_η = rand(mvn_d)\n",
    "    μ = GLM.linkinv.(link, mvn_η)\n",
    "    y = Float64.(rand.(__get_distribution.(D, μ)))\n",
    "    gcs[i] = GLMCopulaARObs(y, X, d, link)\n",
    "end\n",
    "\n",
    "# form model\n",
    "gcm = GLMCopulaARModel(gcs);\n",
    "\n",
    "N = length(gcm.data)\n",
    "Y_AR = zeros(N, di)\n",
    "for j in 1:di\n",
    "    Y_AR[:, j] = [gcm.data[i].y[j] for i in 1:N]\n",
    "end\n",
    "empirical_cor_5_GLMM = StatsBase.cor(Y_AR)"
   ]
  },
  {
   "cell_type": "markdown",
   "metadata": {},
   "source": [
    "## AR(1) di = 10 <a class=\"anchor\" id=\"ex2\"></a>\n",
    "\n",
    "$d_i = 10$\n",
    "\n",
    "$p = 0.5, \\rho = 0.9, \\sigma^2 = 1.0$"
   ]
  },
  {
   "cell_type": "code",
   "execution_count": 15,
   "metadata": {},
   "outputs": [
    {
     "data": {
      "text/plain": [
       "10×10 Matrix{Float64}:\n",
       " 1.0       0.9       0.81      0.729     …  0.478297  0.430467  0.38742\n",
       " 0.9       1.0       0.9       0.81         0.531441  0.478297  0.430467\n",
       " 0.81      0.9       1.0       0.9          0.59049   0.531441  0.478297\n",
       " 0.729     0.81      0.9       1.0          0.6561    0.59049   0.531441\n",
       " 0.6561    0.729     0.81      0.9          0.729     0.6561    0.59049\n",
       " 0.59049   0.6561    0.729     0.81      …  0.81      0.729     0.6561\n",
       " 0.531441  0.59049   0.6561    0.729        0.9       0.81      0.729\n",
       " 0.478297  0.531441  0.59049   0.6561       1.0       0.9       0.81\n",
       " 0.430467  0.478297  0.531441  0.59049      0.9       1.0       0.9\n",
       " 0.38742   0.430467  0.478297  0.531441     0.81      0.9       1.0"
      ]
     },
     "execution_count": 15,
     "metadata": {},
     "output_type": "execute_result"
    }
   ],
   "source": [
    "di = 10 # number of observations per cluster\n",
    "V_AR = get_V_AR(ρtrue[1], di)\n",
    "\n",
    "# true Gamma\n",
    "Γ_AR = σ2true[1] * V_AR"
   ]
  },
  {
   "cell_type": "code",
   "execution_count": 16,
   "metadata": {},
   "outputs": [
    {
     "name": "stdout",
     "output_type": "stream",
     "text": [
      "  2.352045 seconds (16.50 M allocations: 1.691 GiB, 37.77% gc time)\n"
     ]
    },
    {
     "data": {
      "text/plain": [
       "10×10 Matrix{Float64}:\n",
       " 1.0        0.152581   0.134902   …  0.0821512  0.076019   0.0656225\n",
       " 0.152581   1.0        0.156398      0.0842331  0.0803215  0.0727975\n",
       " 0.134902   0.156398   1.0           0.0994662  0.0922426  0.0823556\n",
       " 0.117982   0.134158   0.150556      0.109225   0.101123   0.0869153\n",
       " 0.109059   0.119562   0.133603      0.124536   0.106879   0.0966836\n",
       " 0.102558   0.115143   0.122985   …  0.137842   0.123098   0.107385\n",
       " 0.0935395  0.101401   0.112001      0.14949    0.133399   0.120562\n",
       " 0.0821512  0.0842331  0.0994662     1.0        0.149575   0.131505\n",
       " 0.076019   0.0803215  0.0922426     0.149575   1.0        0.152643\n",
       " 0.0656225  0.0727975  0.0823556     0.131505   0.152643   1.0"
      ]
     },
     "execution_count": 16,
     "metadata": {},
     "output_type": "execute_result"
    }
   ],
   "source": [
    "vecd = Vector{DiscreteUnivariateDistribution}(undef, di)\n",
    "for i in 1:di\n",
    "    vecd[i] = Bernoulli(p[1])\n",
    "end\n",
    "nonmixed_multivariate_dist = NonMixedMultivariateDistribution(vecd, Γ_AR)\n",
    "\n",
    "Random.seed!(12345)\n",
    "@time Y_nsample = simulate_nobs_independent_vectors(nonmixed_multivariate_dist, samplesize)\n",
    "\n",
    "gcs = Vector{GLMCopulaARObs{T, D, Link}}(undef, samplesize)\n",
    "for i in 1:samplesize\n",
    "    X = ones(di, 1)\n",
    "    y = Float64.(Y_nsample[i])\n",
    "    V = [ones(di, di)]\n",
    "    gcs[i] = GLMCopulaARObs(y, X, d, link)\n",
    "end\n",
    "\n",
    "# form model\n",
    "gcm = GLMCopulaARModel(gcs);\n",
    "\n",
    "N = length(gcm.data)\n",
    "Y_AR = zeros(N, di)\n",
    "for j in 1:di\n",
    "    Y_AR[:, j] = [gcm.data[i].y[j] for i in 1:N]\n",
    "end\n",
    "empirical_cor_10 = StatsBase.cor(Y_AR)"
   ]
  },
  {
   "cell_type": "code",
   "execution_count": 17,
   "metadata": {},
   "outputs": [
    {
     "data": {
      "text/plain": [
       "0.15258130933657935"
      ]
     },
     "execution_count": 17,
     "metadata": {},
     "output_type": "execute_result"
    }
   ],
   "source": [
    "empirical_cor_10[1, 2]"
   ]
  },
  {
   "cell_type": "code",
   "execution_count": 18,
   "metadata": {},
   "outputs": [
    {
     "data": {
      "text/plain": [
       "0.15"
      ]
     },
     "execution_count": 18,
     "metadata": {},
     "output_type": "execute_result"
    }
   ],
   "source": [
    "theoretical_rho_10_kurtosis = (ρtrue[1] * σ2true[1]) / (1 + ((di/2) * σ2true[1]) + (0.5 * (kt - 1) * σ2true[1]))"
   ]
  },
  {
   "cell_type": "markdown",
   "metadata": {},
   "source": [
    "## simulate under GLMM AR(1) di = 10 <a class=\"anchor\" id=\"ex2g\"></a>\n",
    "\n",
    "$d_i = 10$\n",
    "\n",
    "$p = 0.5, \\rho = 0.9, \\sigma^2 = 1.0$"
   ]
  },
  {
   "cell_type": "code",
   "execution_count": 19,
   "metadata": {},
   "outputs": [
    {
     "data": {
      "text/plain": [
       "10×10 Matrix{Float64}:\n",
       " 1.0        0.156016   0.140935   …  0.0850477  0.0734744  0.0636699\n",
       " 0.156016   1.0        0.159432      0.0881954  0.0814053  0.0692936\n",
       " 0.140935   0.159432   1.0           0.0994758  0.0921649  0.0855342\n",
       " 0.129055   0.141906   0.156065      0.117183   0.101938   0.0933635\n",
       " 0.114229   0.124491   0.13637       0.123885   0.115276   0.105107\n",
       " 0.104244   0.107038   0.124598   …  0.139079   0.122961   0.115499\n",
       " 0.0907107  0.0989415  0.115384      0.156513   0.139453   0.121489\n",
       " 0.0850477  0.0881954  0.0994758     1.0        0.154323   0.134737\n",
       " 0.0734744  0.0814053  0.0921649     0.154323   1.0        0.153304\n",
       " 0.0636699  0.0692936  0.0855342     0.134737   0.153304   1.0"
      ]
     },
     "execution_count": 19,
     "metadata": {},
     "output_type": "execute_result"
    }
   ],
   "source": [
    "for i in 1:samplesize\n",
    "    X = ones(di, 1)\n",
    "    η = X * βtrue\n",
    "    # generate mvn response\n",
    "    mvn_d = MvNormal(η, Γ_AR)\n",
    "    mvn_η = rand(mvn_d)\n",
    "    μ = GLM.linkinv.(link, mvn_η)\n",
    "    y = Float64.(rand.(__get_distribution.(D, μ)))\n",
    "    gcs[i] = GLMCopulaARObs(y, X, d, link)\n",
    "end\n",
    "\n",
    "# form model\n",
    "gcm = GLMCopulaARModel(gcs);\n",
    "\n",
    "N = length(gcm.data)\n",
    "Y_AR = zeros(N, di)\n",
    "for j in 1:di\n",
    "    Y_AR[:, j] = [gcm.data[i].y[j] for i in 1:N]\n",
    "end\n",
    "empirical_cor_10_GLMM = StatsBase.cor(Y_AR)"
   ]
  },
  {
   "cell_type": "markdown",
   "metadata": {},
   "source": [
    "## AR(1) di = 25 <a class=\"anchor\" id=\"ex3\"></a>\n",
    "\n",
    "$d_i = 25$\n",
    "\n",
    "$p = 0.5, \\rho = 1.0, \\sigma^2 = 1.0$"
   ]
  },
  {
   "cell_type": "code",
   "execution_count": 20,
   "metadata": {},
   "outputs": [
    {
     "data": {
      "text/plain": [
       "25×25 Matrix{Float64}:\n",
       " 1.0        0.9        0.81       …  0.0984771  0.0886294  0.0797664\n",
       " 0.9        1.0        0.9           0.109419   0.0984771  0.0886294\n",
       " 0.81       0.9        1.0           0.121577   0.109419   0.0984771\n",
       " 0.729      0.81       0.9           0.135085   0.121577   0.109419\n",
       " 0.6561     0.729      0.81          0.150095   0.135085   0.121577\n",
       " 0.59049    0.6561     0.729      …  0.166772   0.150095   0.135085\n",
       " 0.531441   0.59049    0.6561        0.185302   0.166772   0.150095\n",
       " 0.478297   0.531441   0.59049       0.205891   0.185302   0.166772\n",
       " 0.430467   0.478297   0.531441      0.228768   0.205891   0.185302\n",
       " 0.38742    0.430467   0.478297      0.254187   0.228768   0.205891\n",
       " 0.348678   0.38742    0.430467   …  0.28243    0.254187   0.228768\n",
       " 0.313811   0.348678   0.38742       0.313811   0.28243    0.254187\n",
       " 0.28243    0.313811   0.348678      0.348678   0.313811   0.28243\n",
       " 0.254187   0.28243    0.313811      0.38742    0.348678   0.313811\n",
       " 0.228768   0.254187   0.28243       0.430467   0.38742    0.348678\n",
       " 0.205891   0.228768   0.254187   …  0.478297   0.430467   0.38742\n",
       " 0.185302   0.205891   0.228768      0.531441   0.478297   0.430467\n",
       " 0.166772   0.185302   0.205891      0.59049    0.531441   0.478297\n",
       " 0.150095   0.166772   0.185302      0.6561     0.59049    0.531441\n",
       " 0.135085   0.150095   0.166772      0.729      0.6561     0.59049\n",
       " 0.121577   0.135085   0.150095   …  0.81       0.729      0.6561\n",
       " 0.109419   0.121577   0.135085      0.9        0.81       0.729\n",
       " 0.0984771  0.109419   0.121577      1.0        0.9        0.81\n",
       " 0.0886294  0.0984771  0.109419      0.9        1.0        0.9\n",
       " 0.0797664  0.0886294  0.0984771     0.81       0.9        1.0"
      ]
     },
     "execution_count": 20,
     "metadata": {},
     "output_type": "execute_result"
    }
   ],
   "source": [
    "di = 25 # number of observations per cluster\n",
    "V_AR = get_V_AR(ρtrue[1], di)\n",
    "\n",
    "# true Gamma\n",
    "Γ_AR = σ2true[1] * V_AR"
   ]
  },
  {
   "cell_type": "code",
   "execution_count": 21,
   "metadata": {},
   "outputs": [
    {
     "name": "stdout",
     "output_type": "stream",
     "text": [
      "  9.664454 seconds (40.50 M allocations: 11.326 GiB, 30.31% gc time)\n"
     ]
    },
    {
     "data": {
      "text/plain": [
       "25×25 Matrix{Float64}:\n",
       " 1.0         0.0621801   0.0630552   …  0.00840259  0.00960318  0.00196945\n",
       " 0.0621801   1.0         0.0703015      0.00922001  0.0127      0.0129602\n",
       " 0.0630552   0.0703015   1.0            0.00323209  0.00747036  0.00837325\n",
       " 0.0513142   0.0628203   0.068101       0.00732362  0.00748445  0.00164521\n",
       " 0.0541197   0.05014     0.0602825      0.0148402   0.00920028  0.00369914\n",
       " 0.044204    0.0511401   0.0559094   …  0.0123578   0.0189173   0.00610926\n",
       " 0.0393521   0.0423803   0.0485472      0.0122049   0.011526    0.00552026\n",
       " 0.0354796   0.04354     0.0475225      0.0160403   0.00656034  0.010019\n",
       " 0.0343134   0.0353802   0.0417824      0.0168441   0.019965    0.0181639\n",
       " 0.0298228   0.0372      0.0372125      0.0199385   0.0124581   0.0105266\n",
       " 0.0294739   0.0285801   0.0319003   …  0.0214037   0.0199246   0.0227654\n",
       " 0.0313145   0.0239401   0.0298184      0.0214434   0.0196041   0.0220868\n",
       " 0.025957    0.02314     0.0254501      0.0279218   0.0243622   0.0218529\n",
       " 0.0217899   0.0195602   0.0210706      0.0324548   0.0266934   0.0230237\n",
       " 0.0158397   0.02114     0.0212016      0.0367602   0.0274403   0.0263794\n",
       " 0.017842    0.01374     0.0232744   …  0.0406789   0.0344386   0.0308251\n",
       " 0.0142153   0.01092     0.0222354      0.0383429   0.0333435   0.031749\n",
       " 0.0128803   0.01818     0.0106393      0.0404799   0.0364798   0.0336611\n",
       " 0.0123985   0.01154     0.0148052      0.046881    0.0487612   0.0407368\n",
       " 0.00720436  0.01146     0.0117068      0.0518776   0.039677    0.041311\n",
       " 0.00829834  0.01296     0.00950544  …  0.057301    0.0520213   0.0461566\n",
       " 0.00720233  0.00714     0.0111131      0.0682788   0.0595185   0.0556263\n",
       " 0.00840259  0.00922001  0.00323209     1.0         0.0658383   0.061427\n",
       " 0.00960318  0.0127      0.00747036     0.0658383   1.0         0.0689885\n",
       " 0.00196945  0.0129602   0.00837325     0.061427    0.0689885   1.0"
      ]
     },
     "execution_count": 21,
     "metadata": {},
     "output_type": "execute_result"
    }
   ],
   "source": [
    "vecd = Vector{DiscreteUnivariateDistribution}(undef, di)\n",
    "for i in 1:di\n",
    "    vecd[i] = Bernoulli(p[1])\n",
    "end\n",
    "nonmixed_multivariate_dist = NonMixedMultivariateDistribution(vecd, Γ_AR)\n",
    "\n",
    "Random.seed!(12345)\n",
    "@time Y_nsample = simulate_nobs_independent_vectors(nonmixed_multivariate_dist, samplesize)\n",
    "\n",
    "gcs = Vector{GLMCopulaARObs{T, D, Link}}(undef, samplesize)\n",
    "for i in 1:samplesize\n",
    "    X = ones(di, 1)\n",
    "    y = Float64.(Y_nsample[i])\n",
    "    V = [ones(di, di)]\n",
    "    gcs[i] = GLMCopulaARObs(y, X, d, link)\n",
    "end\n",
    "\n",
    "# form model\n",
    "gcm = GLMCopulaARModel(gcs);\n",
    "\n",
    "N = length(gcm.data)\n",
    "Y_AR = zeros(N, di)\n",
    "for j in 1:di\n",
    "    Y_AR[:, j] = [gcm.data[i].y[j] for i in 1:N]\n",
    "end\n",
    "empirical_cor_25 = StatsBase.cor(Y_AR)"
   ]
  },
  {
   "cell_type": "code",
   "execution_count": 22,
   "metadata": {},
   "outputs": [
    {
     "data": {
      "text/plain": [
       "0.0621801371073535"
      ]
     },
     "execution_count": 22,
     "metadata": {},
     "output_type": "execute_result"
    }
   ],
   "source": [
    "empirical_cor_25[1, 2]"
   ]
  },
  {
   "cell_type": "code",
   "execution_count": 23,
   "metadata": {},
   "outputs": [
    {
     "data": {
      "text/plain": [
       "0.06666666666666667"
      ]
     },
     "execution_count": 23,
     "metadata": {},
     "output_type": "execute_result"
    }
   ],
   "source": [
    "theoretical_rho_25_kurtosis = (ρtrue[1] * σ2true[1]) / (1 + ((di/2) * σ2true[1]) + (0.5 * (kt - 1) * σ2true[1]))"
   ]
  },
  {
   "cell_type": "markdown",
   "metadata": {},
   "source": [
    "## simulate under GLMM AR(1) di = 25 <a class=\"anchor\" id=\"ex3g\"></a>\n",
    "\n",
    "$d_i = 25$\n",
    "\n",
    "$p = 0.5, \\rho = 0.9, \\sigma^2 = 1.0$"
   ]
  },
  {
   "cell_type": "code",
   "execution_count": 24,
   "metadata": {},
   "outputs": [
    {
     "data": {
      "text/plain": [
       "25×25 Matrix{Float64}:\n",
       " 1.0        0.155622   0.141683   …  0.0152764  0.0180976  0.0157831\n",
       " 0.155622   1.0        0.152166      0.021517   0.0130179  0.0194992\n",
       " 0.141683   0.152166   1.0           0.0191773  0.0168381  0.0215975\n",
       " 0.130843   0.143599   0.156738      0.0209031  0.0168822  0.0191628\n",
       " 0.117988   0.129747   0.136206      0.029021   0.0245607  0.0235746\n",
       " 0.103411   0.115489   0.123428   …  0.0329214  0.026101   0.0244324\n",
       " 0.0990966  0.103377   0.113837      0.0307393  0.0267995  0.0265043\n",
       " 0.0833483  0.0943503  0.105771      0.0331982  0.0341388  0.0235315\n",
       " 0.0714781  0.081722   0.0903038     0.0424971  0.0309579  0.033001\n",
       " 0.068143   0.0755424  0.0877622     0.0411003  0.0425602  0.0373786\n",
       " 0.0633498  0.0661048  0.0758429  …  0.0478448  0.0372634  0.0336167\n",
       " 0.0536684  0.0604669  0.0634063     0.0517012  0.0489608  0.0422939\n",
       " 0.0479848  0.0549039  0.0655236     0.0594606  0.0548004  0.048617\n",
       " 0.0428902  0.0450954  0.0561979     0.0647167  0.0581379  0.0531483\n",
       " 0.0341522  0.0467573  0.0510595     0.072457   0.0663981  0.0588062\n",
       " 0.0282874  0.0359332  0.0435959  …  0.0782769  0.0684181  0.067511\n",
       " 0.0315035  0.0314628  0.0432427     0.0855805  0.0775603  0.0768981\n",
       " 0.0344443  0.0289634  0.0350231     0.104081   0.0931004  0.0825176\n",
       " 0.0286645  0.0240236  0.0278033     0.111581   0.1042     0.0882574\n",
       " 0.0278653  0.0231043  0.031524      0.125701   0.110881   0.0993368\n",
       " 0.0231689  0.0182873  0.0252667  …  0.141321   0.124421   0.113674\n",
       " 0.020938   0.0162583  0.0216785     0.15254    0.1422     0.124343\n",
       " 0.0152764  0.021517   0.0191773     1.0        0.1533     0.133485\n",
       " 0.0180976  0.0130179  0.0168381     0.1533     1.0        0.156264\n",
       " 0.0157831  0.0194992  0.0215975     0.133485   0.156264   1.0"
      ]
     },
     "execution_count": 24,
     "metadata": {},
     "output_type": "execute_result"
    }
   ],
   "source": [
    "for i in 1:samplesize\n",
    "    X = ones(di, 1)\n",
    "    η = X * βtrue\n",
    "    # generate mvn response\n",
    "    mvn_d = MvNormal(η, Γ_AR)\n",
    "    mvn_η = rand(mvn_d)\n",
    "    μ = GLM.linkinv.(link, mvn_η)\n",
    "    y = Float64.(rand.(__get_distribution.(D, μ)))\n",
    "    gcs[i] = GLMCopulaARObs(y, X, d, link)\n",
    "end\n",
    "\n",
    "# form model\n",
    "gcm = GLMCopulaARModel(gcs);\n",
    "\n",
    "N = length(gcm.data)\n",
    "Y_AR = zeros(N, di)\n",
    "for j in 1:di\n",
    "    Y_AR[:, j] = [gcm.data[i].y[j] for i in 1:N]\n",
    "end\n",
    "empirical_cor_25_GLMM = StatsBase.cor(Y_AR)"
   ]
  },
  {
   "cell_type": "markdown",
   "metadata": {},
   "source": [
    "## Comparisons \n",
    "\n",
    "##  1. Theoretical vs. Empirical Correlation simulated under QC <a class=\"anchor\" id=\"ex4\"></a>\n",
    "\n",
    "### Takeaway: Quasi-Copula correlation IS a function of the di, kt, $\\rho$ and $\\sigma^2$\n",
    "\n",
    "\n",
    "The theoretical correlation is a function of $d_i, \\rho, \\sigma^2, kt(p)$\n",
    "\n",
    "$$Corr(Y_1, Y_2)\n",
    " = \\frac{\\rho * \\sigma^2}{1 + \\frac{1}{2} * \\sigma^2 * kt + \\frac{1}{2} * \\sigma^2 (d_i - 1)}$$\n",
    "\n",
    "We have $p = 0.5,$ thus we have kurtosis $kt = kt(p) = 1.$\n",
    "\n",
    "Let's see what happens to the theoretical/empirical correlation when we fix $\\rho = 0.9, \\sigma^2 = 1.0$ and range cluster sizes $d_i$\n",
    "\n",
    "$$Corr(Y_1, Y_2)\n",
    " = \\frac{0.9}{1 + \\frac{1}{2} * 1 + \\frac{1}{2} * (d_i - 1)} = \\frac{0.9}{1 + \\frac{d_i}{2}}$$\n"
   ]
  },
  {
   "cell_type": "code",
   "execution_count": 25,
   "metadata": {},
   "outputs": [
    {
     "data": {
      "text/plain": [
       "1×2 Matrix{Float64}:\n",
       " 0.45  0.446784"
      ]
     },
     "execution_count": 25,
     "metadata": {},
     "output_type": "execute_result"
    }
   ],
   "source": [
    "# di = 2\n",
    "[theoretical_rho_2_kurtosis empirical_cor_2[1, 2]]"
   ]
  },
  {
   "cell_type": "code",
   "execution_count": 26,
   "metadata": {},
   "outputs": [
    {
     "data": {
      "text/plain": [
       "1×2 Matrix{Float64}:\n",
       " 0.257143  0.258186"
      ]
     },
     "execution_count": 26,
     "metadata": {},
     "output_type": "execute_result"
    }
   ],
   "source": [
    "# di = 5\n",
    "[theoretical_rho_5_kurtosis empirical_cor_5[1, 2]]"
   ]
  },
  {
   "cell_type": "code",
   "execution_count": 27,
   "metadata": {},
   "outputs": [
    {
     "data": {
      "text/plain": [
       "1×2 Matrix{Float64}:\n",
       " 0.15  0.152581"
      ]
     },
     "execution_count": 27,
     "metadata": {},
     "output_type": "execute_result"
    }
   ],
   "source": [
    "# di = 10\n",
    "[theoretical_rho_10_kurtosis empirical_cor_10[1, 2]]"
   ]
  },
  {
   "cell_type": "code",
   "execution_count": 28,
   "metadata": {},
   "outputs": [
    {
     "data": {
      "text/plain": [
       "1×2 Matrix{Float64}:\n",
       " 0.0666667  0.0621801"
      ]
     },
     "execution_count": 28,
     "metadata": {},
     "output_type": "execute_result"
    }
   ],
   "source": [
    "# di = 25\n",
    "[theoretical_rho_25_kurtosis empirical_cor_25[1, 2]]"
   ]
  },
  {
   "cell_type": "markdown",
   "metadata": {},
   "source": [
    "##  2. Empirical Correlation simulated under GLMM<a class=\"anchor\" id=\"ex4g\"></a>\n",
    "\n",
    "### Takeaway: GLMM correlation is NOT a function of the di"
   ]
  },
  {
   "cell_type": "code",
   "execution_count": 29,
   "metadata": {},
   "outputs": [
    {
     "data": {
      "text/plain": [
       "0.16343678921893148"
      ]
     },
     "execution_count": 29,
     "metadata": {},
     "output_type": "execute_result"
    }
   ],
   "source": [
    "# glmm correlation di = 2 \n",
    "empirical_cor_2_GLMM[1, 2]"
   ]
  },
  {
   "cell_type": "code",
   "execution_count": 30,
   "metadata": {},
   "outputs": [
    {
     "data": {
      "text/plain": [
       "0.15434037602803538"
      ]
     },
     "execution_count": 30,
     "metadata": {},
     "output_type": "execute_result"
    }
   ],
   "source": [
    "# glmm correlation di = 5\n",
    "empirical_cor_5_GLMM[1, 2]"
   ]
  },
  {
   "cell_type": "code",
   "execution_count": 31,
   "metadata": {},
   "outputs": [
    {
     "data": {
      "text/plain": [
       "0.1560161150813794"
      ]
     },
     "execution_count": 31,
     "metadata": {},
     "output_type": "execute_result"
    }
   ],
   "source": [
    "# glmm correlation di = 10\n",
    "empirical_cor_10_GLMM[1, 2]"
   ]
  },
  {
   "cell_type": "code",
   "execution_count": 32,
   "metadata": {},
   "outputs": [
    {
     "data": {
      "text/plain": [
       "0.15562157141017954"
      ]
     },
     "execution_count": 32,
     "metadata": {},
     "output_type": "execute_result"
    }
   ],
   "source": [
    "# glmm correlation di = 25\n",
    "empirical_cor_25_GLMM[1, 2]"
   ]
  },
  {
   "cell_type": "code",
   "execution_count": null,
   "metadata": {},
   "outputs": [],
   "source": []
  }
 ],
 "metadata": {
  "@webio": {
   "lastCommId": null,
   "lastKernelId": null
  },
  "kernelspec": {
   "display_name": "Julia 1.6.2",
   "language": "julia",
   "name": "julia-1.6"
  },
  "language_info": {
   "file_extension": ".jl",
   "mimetype": "application/julia",
   "name": "julia",
   "version": "1.6.2"
  }
 },
 "nbformat": 4,
 "nbformat_minor": 4
}
