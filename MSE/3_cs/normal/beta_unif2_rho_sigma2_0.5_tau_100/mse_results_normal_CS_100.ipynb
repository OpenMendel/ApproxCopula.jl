{
 "cells": [
  {
   "cell_type": "markdown",
   "metadata": {},
   "source": [
    "## Gaussian CS Results \n",
    "\n",
    "This notebook goes over the code needed to reproduce the results from the MSE and time figures in the first simulation in the paper. \n",
    "\n",
    "In this example we have Gaussian base distribution and covariance matrix $\\Gamma$ structured under CS covariance with $\\rho = 0.5, \\sigma^2 = 0.5$"
   ]
  },
  {
   "cell_type": "code",
   "execution_count": 1,
   "metadata": {},
   "outputs": [
    {
     "name": "stdout",
     "output_type": "stream",
     "text": [
      "Julia Version 1.6.2\n",
      "Commit 1b93d53fc4 (2021-07-14 15:36 UTC)\n",
      "Platform Info:\n",
      "  OS: macOS (x86_64-apple-darwin18.7.0)\n",
      "  CPU: Intel(R) Core(TM) i9-9880H CPU @ 2.30GHz\n",
      "  WORD_SIZE: 64\n",
      "  LIBM: libopenlibm\n",
      "  LLVM: libLLVM-11.0.1 (ORCJIT, skylake)\n"
     ]
    }
   ],
   "source": [
    "versioninfo()"
   ]
  },
  {
   "cell_type": "code",
   "execution_count": 2,
   "metadata": {},
   "outputs": [],
   "source": [
    "using GLMCopula, DelimitedFiles, LinearAlgebra, Random, GLM\n",
    "using Random, Roots, SpecialFunctions, DataFrames"
   ]
  },
  {
   "cell_type": "code",
   "execution_count": 3,
   "metadata": {},
   "outputs": [
    {
     "data": {
      "text/plain": [
       "100"
      ]
     },
     "execution_count": 3,
     "metadata": {},
     "output_type": "execute_result"
    }
   ],
   "source": [
    "p  = 3    # number of fixed effects, including intercept\n",
    "\n",
    "# true parameter values\n",
    "Random.seed!(12345)\n",
    "βtrue = rand(Uniform(-2, 2), p)\n",
    "σ2true = [0.5]\n",
    "ρtrue = [0.5]\n",
    "θtrue = [σ2true; ρtrue]\n",
    "τtrue = 100\n",
    "\n",
    "# generate data\n",
    "trueparams = [βtrue; θtrue; τtrue] #hold true parameters\n",
    "\n",
    "#simulation parameters\n",
    "samplesizes = [100; 1000; 10000]\n",
    "ns = [2; 5; 10; 15; 20; 25]\n",
    "nsims = 100"
   ]
  },
  {
   "cell_type": "code",
   "execution_count": 4,
   "metadata": {},
   "outputs": [
    {
     "name": "stderr",
     "output_type": "stream",
     "text": [
      "┌ Info: reading in the files with results\n",
      "└ @ Main In[4]:1\n"
     ]
    },
    {
     "data": {
      "text/plain": [
       "1800-element Vector{Float64}:\n",
       "  0.18385752\n",
       "  0.355870728\n",
       "  0.341391608\n",
       "  0.405657125\n",
       "  0.196421129\n",
       "  0.378050037\n",
       "  0.161530997\n",
       "  0.187936641\n",
       "  0.725763246\n",
       "  0.363885227\n",
       "  0.337320808\n",
       "  0.298465502\n",
       "  0.51267057\n",
       "  ⋮\n",
       " 11.530955989\n",
       " 10.366472409\n",
       " 11.587467201\n",
       "  3.517271752\n",
       " 10.404778822\n",
       " 11.942537108\n",
       " 11.539888456\n",
       " 11.847431986\n",
       " 11.978394547\n",
       " 10.789706183\n",
       " 11.470635515\n",
       " 11.36309485"
      ]
     },
     "execution_count": 4,
     "metadata": {},
     "output_type": "execute_result"
    }
   ],
   "source": [
    "@info \"reading in the files with results\"\n",
    "βMseresult = vec(readdlm(\"mse_beta_multivariate_normal_CS$(nsims)reps_sim.csv\", ','))\n",
    "σ2MseResult = vec(readdlm(\"mse_sigma_multivariate_normal_CS$(nsims)reps_sim.csv\", ','))\n",
    "ρMseResult = vec(readdlm(\"mse_rho_multivariate_normal_CS$(nsims)reps_sim.csv\", ','))\n",
    "fittimes = vec(readdlm(\"fittimes_multivariate_normal_CS$(nsims)reps_sim.csv\", ','))"
   ]
  },
  {
   "cell_type": "code",
   "execution_count": 5,
   "metadata": {},
   "outputs": [
    {
     "name": "stderr",
     "output_type": "stream",
     "text": [
      "┌ Info: making results table\n",
      "└ @ Main In[5]:2\n"
     ]
    },
    {
     "data": {
      "text/html": [
       "<div class=\"data-frame\"><p>18 rows × 8 columns</p><table class=\"data-frame\"><thead><tr><th></th><th>samplesize</th><th>obssize</th><th>fittime</th><th>se</th><th>nobs</th><th>fitmin</th><th>fitmax</th><th>perobsratio</th></tr><tr><th></th><th title=\"String\">String</th><th title=\"String\">String</th><th title=\"Float64\">Float64</th><th title=\"Float64\">Float64</th><th title=\"Int64\">Int64</th><th title=\"Float64\">Float64</th><th title=\"Float64\">Float64</th><th title=\"Float64\">Float64</th></tr></thead><tbody><tr><th>1</th><td>100</td><td>2</td><td>0.32432</td><td>0.0134335</td><td>200</td><td>0.310887</td><td>0.337754</td><td>0.0016216</td></tr><tr><th>2</th><td>100</td><td>5</td><td>0.455768</td><td>0.019119</td><td>500</td><td>0.436649</td><td>0.474887</td><td>0.000911536</td></tr><tr><th>3</th><td>100</td><td>10</td><td>0.504239</td><td>0.0207248</td><td>1000</td><td>0.483515</td><td>0.524964</td><td>0.000504239</td></tr><tr><th>4</th><td>100</td><td>15</td><td>0.456539</td><td>0.023462</td><td>1500</td><td>0.433077</td><td>0.480001</td><td>0.000304359</td></tr><tr><th>5</th><td>100</td><td>20</td><td>0.438873</td><td>0.0252613</td><td>2000</td><td>0.413612</td><td>0.464134</td><td>0.000219437</td></tr><tr><th>6</th><td>100</td><td>25</td><td>0.454571</td><td>0.0262309</td><td>2500</td><td>0.42834</td><td>0.480802</td><td>0.000181828</td></tr><tr><th>7</th><td>1000</td><td>2</td><td>0.521484</td><td>0.0143835</td><td>2000</td><td>0.507101</td><td>0.535868</td><td>0.000260742</td></tr><tr><th>8</th><td>1000</td><td>5</td><td>0.662217</td><td>0.013609</td><td>5000</td><td>0.648608</td><td>0.675826</td><td>0.000132443</td></tr><tr><th>9</th><td>1000</td><td>10</td><td>0.944778</td><td>0.0149191</td><td>10000</td><td>0.929858</td><td>0.959697</td><td>9.44778e-5</td></tr><tr><th>10</th><td>1000</td><td>15</td><td>1.04732</td><td>0.025853</td><td>15000</td><td>1.02147</td><td>1.07317</td><td>6.98214e-5</td></tr><tr><th>11</th><td>1000</td><td>20</td><td>1.2695</td><td>0.0416353</td><td>20000</td><td>1.22787</td><td>1.31114</td><td>6.34752e-5</td></tr><tr><th>12</th><td>1000</td><td>25</td><td>1.44939</td><td>0.0429282</td><td>25000</td><td>1.40646</td><td>1.49232</td><td>5.79755e-5</td></tr><tr><th>13</th><td>10000</td><td>2</td><td>2.04253</td><td>0.0483379</td><td>20000</td><td>1.99419</td><td>2.09087</td><td>0.000102127</td></tr><tr><th>14</th><td>10000</td><td>5</td><td>3.0516</td><td>0.0652337</td><td>50000</td><td>2.98637</td><td>3.11683</td><td>6.1032e-5</td></tr><tr><th>15</th><td>10000</td><td>10</td><td>4.98114</td><td>0.0671618</td><td>100000</td><td>4.91398</td><td>5.0483</td><td>4.98114e-5</td></tr><tr><th>16</th><td>10000</td><td>15</td><td>6.89944</td><td>0.0548494</td><td>150000</td><td>6.84459</td><td>6.95429</td><td>4.59962e-5</td></tr><tr><th>17</th><td>10000</td><td>20</td><td>9.63025</td><td>0.0444394</td><td>200000</td><td>9.58581</td><td>9.67469</td><td>4.81513e-5</td></tr><tr><th>18</th><td>10000</td><td>25</td><td>11.4</td><td>0.0934919</td><td>250000</td><td>11.3065</td><td>11.4935</td><td>4.55999e-5</td></tr></tbody></table></div>"
      ],
      "text/latex": [
       "\\begin{tabular}{r|cccccccc}\n",
       "\t& samplesize & obssize & fittime & se & nobs & fitmin & fitmax & perobsratio\\\\\n",
       "\t\\hline\n",
       "\t& String & String & Float64 & Float64 & Int64 & Float64 & Float64 & Float64\\\\\n",
       "\t\\hline\n",
       "\t1 & 100 & 2 & 0.32432 & 0.0134335 & 200 & 0.310887 & 0.337754 & 0.0016216 \\\\\n",
       "\t2 & 100 & 5 & 0.455768 & 0.019119 & 500 & 0.436649 & 0.474887 & 0.000911536 \\\\\n",
       "\t3 & 100 & 10 & 0.504239 & 0.0207248 & 1000 & 0.483515 & 0.524964 & 0.000504239 \\\\\n",
       "\t4 & 100 & 15 & 0.456539 & 0.023462 & 1500 & 0.433077 & 0.480001 & 0.000304359 \\\\\n",
       "\t5 & 100 & 20 & 0.438873 & 0.0252613 & 2000 & 0.413612 & 0.464134 & 0.000219437 \\\\\n",
       "\t6 & 100 & 25 & 0.454571 & 0.0262309 & 2500 & 0.42834 & 0.480802 & 0.000181828 \\\\\n",
       "\t7 & 1000 & 2 & 0.521484 & 0.0143835 & 2000 & 0.507101 & 0.535868 & 0.000260742 \\\\\n",
       "\t8 & 1000 & 5 & 0.662217 & 0.013609 & 5000 & 0.648608 & 0.675826 & 0.000132443 \\\\\n",
       "\t9 & 1000 & 10 & 0.944778 & 0.0149191 & 10000 & 0.929858 & 0.959697 & 9.44778e-5 \\\\\n",
       "\t10 & 1000 & 15 & 1.04732 & 0.025853 & 15000 & 1.02147 & 1.07317 & 6.98214e-5 \\\\\n",
       "\t11 & 1000 & 20 & 1.2695 & 0.0416353 & 20000 & 1.22787 & 1.31114 & 6.34752e-5 \\\\\n",
       "\t12 & 1000 & 25 & 1.44939 & 0.0429282 & 25000 & 1.40646 & 1.49232 & 5.79755e-5 \\\\\n",
       "\t13 & 10000 & 2 & 2.04253 & 0.0483379 & 20000 & 1.99419 & 2.09087 & 0.000102127 \\\\\n",
       "\t14 & 10000 & 5 & 3.0516 & 0.0652337 & 50000 & 2.98637 & 3.11683 & 6.1032e-5 \\\\\n",
       "\t15 & 10000 & 10 & 4.98114 & 0.0671618 & 100000 & 4.91398 & 5.0483 & 4.98114e-5 \\\\\n",
       "\t16 & 10000 & 15 & 6.89944 & 0.0548494 & 150000 & 6.84459 & 6.95429 & 4.59962e-5 \\\\\n",
       "\t17 & 10000 & 20 & 9.63025 & 0.0444394 & 200000 & 9.58581 & 9.67469 & 4.81513e-5 \\\\\n",
       "\t18 & 10000 & 25 & 11.4 & 0.0934919 & 250000 & 11.3065 & 11.4935 & 4.55999e-5 \\\\\n",
       "\\end{tabular}\n"
      ],
      "text/plain": [
       "\u001b[1m18×8 DataFrame\u001b[0m\n",
       "\u001b[1m Row \u001b[0m│\u001b[1m samplesize \u001b[0m\u001b[1m obssize \u001b[0m\u001b[1m fittime   \u001b[0m\u001b[1m se        \u001b[0m\u001b[1m nobs   \u001b[0m\u001b[1m fitmin    \u001b[0m\u001b[1m fitmax   \u001b[0m ⋯\n",
       "\u001b[1m     \u001b[0m│\u001b[90m String     \u001b[0m\u001b[90m String  \u001b[0m\u001b[90m Float64   \u001b[0m\u001b[90m Float64   \u001b[0m\u001b[90m Int64  \u001b[0m\u001b[90m Float64   \u001b[0m\u001b[90m Float64  \u001b[0m ⋯\n",
       "─────┼──────────────────────────────────────────────────────────────────────────\n",
       "   1 │ 100         2         0.32432   0.0134335     200   0.310887   0.337754 ⋯\n",
       "   2 │ 100         5         0.455768  0.019119      500   0.436649   0.474887\n",
       "   3 │ 100         10        0.504239  0.0207248    1000   0.483515   0.524964\n",
       "   4 │ 100         15        0.456539  0.023462     1500   0.433077   0.480001\n",
       "   5 │ 100         20        0.438873  0.0252613    2000   0.413612   0.464134 ⋯\n",
       "   6 │ 100         25        0.454571  0.0262309    2500   0.42834    0.480802\n",
       "   7 │ 1000        2         0.521484  0.0143835    2000   0.507101   0.535868\n",
       "   8 │ 1000        5         0.662217  0.013609     5000   0.648608   0.675826\n",
       "   9 │ 1000        10        0.944778  0.0149191   10000   0.929858   0.959697 ⋯\n",
       "  10 │ 1000        15        1.04732   0.025853    15000   1.02147    1.07317\n",
       "  11 │ 1000        20        1.2695    0.0416353   20000   1.22787    1.31114\n",
       "  12 │ 1000        25        1.44939   0.0429282   25000   1.40646    1.49232\n",
       "  13 │ 10000       2         2.04253   0.0483379   20000   1.99419    2.09087  ⋯\n",
       "  14 │ 10000       5         3.0516    0.0652337   50000   2.98637    3.11683\n",
       "  15 │ 10000       10        4.98114   0.0671618  100000   4.91398    5.0483\n",
       "  16 │ 10000       15        6.89944   0.0548494  150000   6.84459    6.95429\n",
       "  17 │ 10000       20        9.63025   0.0444394  200000   9.58581    9.67469  ⋯\n",
       "  18 │ 10000       25       11.4       0.0934919  250000  11.3065    11.4935\n",
       "\u001b[36m                                                                1 column omitted\u001b[0m"
      ]
     },
     "execution_count": 5,
     "metadata": {},
     "output_type": "execute_result"
    }
   ],
   "source": [
    "#simulation parameters\n",
    "@info \"making results table\"\n",
    "sample_sizes = repeat(string.(samplesizes), inner = nsims * length(ns))\n",
    "obs_sizes = repeat(string.(ns), inner = nsims, outer = length(samplesizes))\n",
    "\n",
    "msedf = DataFrame(βmse = βMseresult, σ2mse = σ2MseResult, ρmse = ρMseResult,\n",
    "    samplesize = sample_sizes, obssize = obs_sizes, fittimes = fittimes)\n",
    "\n",
    "\n",
    "msedf = filter(x -> !isnan(x.fittimes), msedf)\n",
    "\n",
    "timedf = combine(groupby(msedf, [:samplesize, :obssize]), :fittimes => mean => :fittime,\n",
    "    :fittimes => x -> (std(x)/sqrt(length(x))))\n",
    "rename!(timedf, Dict(:fittimes_function => \"se\"))\n",
    "timedf[!, :nobs] = Meta.parse.(timedf[!, :samplesize]) .* Meta.parse.(timedf[!, :obssize])\n",
    "timedf[!, :fitmin] = timedf[!, :fittime] - timedf[!, :se]\n",
    "timedf[!, :fitmax] = timedf[!, :fittime] + timedf[!, :se]\n",
    "timedf[!, :perobsratio] = timedf[!, :fittime] ./ timedf[!, :nobs]\n",
    "timedf"
   ]
  },
  {
   "cell_type": "code",
   "execution_count": null,
   "metadata": {},
   "outputs": [],
   "source": [
    "########### plot the runtimes\n",
    "using RCall\n",
    "@rput timedf\n",
    "\n",
    "R\"\"\"\n",
    "library(ggplot2)\n",
    "timedf$obssize = factor(timedf$obssize, levels = c('2', '5', '10', '15', '20', '25'))\n",
    "timedf$samplesize = factor(timedf$samplesize, levels = c('100', '1000', '10000'))\n",
    "\n",
    "fittime_1 = ggplot(timedf, aes(x = samplesize, y = fittime, group = obssize, color = obssize)) + \n",
    "  geom_line() +\n",
    "  geom_point()+\n",
    "  geom_errorbar(aes(ymin=fitmin, ymax=fitmax), width=0.5, alpha = 0.8, position=position_dodge(0.005)) + \n",
    "  theme(legend.position=c(0.15,0.85), legend.key = element_blank(), axis.text.x = element_text(angle=0, size=13),\n",
    "        axis.text.y = element_text(angle=0, size=13), axis.title.x = element_text(size = 17), \n",
    "        axis.title.y = element_text(size = 17), legend.title = element_text(size = 14),\n",
    "        #axis.ticks = element_blank(),\n",
    "        panel.grid.major = element_blank(), legend.text=element_text(size=13),\n",
    "        panel.border = element_blank(), panel.grid.minor = element_blank(), panel.background = element_blank(), \n",
    "        axis.line = element_line(color = 'black',size=0.3), plot.title = element_text(hjust = 0.5)) + \n",
    "   scale_color_manual(values = c(\"#c85f55\",\n",
    "\"#a964bf\",\n",
    "\"#8db352\",\n",
    "\"#fa7300\",\n",
    "\"#05aec0\",\n",
    "\"#ff1493\")) +\n",
    "  labs(x = \"Number of Individuals\", y = \"Fit time (seconds)\", color = \"Obs per Individual\")\n",
    "\"\"\""
   ]
  },
  {
   "cell_type": "code",
   "execution_count": null,
   "metadata": {},
   "outputs": [],
   "source": [
    "R\"\"\"\n",
    "    ggsave('fittime_nsamples_normal_CS.png', fittime_1, width = 12.5, height = 15, units = 'in', dpi = 450)\n",
    "\"\"\""
   ]
  },
  {
   "cell_type": "code",
   "execution_count": null,
   "metadata": {},
   "outputs": [],
   "source": [
    "######  supplementary table s1\n",
    "using Random, DataFrames, DelimitedFiles, Statistics\n",
    "import StatsBase: sem\n",
    "\n",
    "βρσ2τcoverage = readdlm(\"beta_rho_sigma_coverage_multivariate_normal_CS$(nsims)reps_sim.csv\", ',')\n",
    "\n",
    "m = 2\n",
    "\n",
    "covdf = DataFrame(Matrix(transpose(βρσ2τcoverage)), :auto)\n",
    "rename!(covdf, Symbol.([[\"β$i\" for i in 1:p]; [\"ρ\"]; [\"σ2\"]; [\"τ\"]]))\n",
    "covdf[!, :samplesize] = sample_sizes\n",
    "covdf[!, :obssize] = obs_sizes\n",
    "first(covdf, 10)\n",
    "\n",
    "row_stats = [[(mean(col), sem(col)) for col = eachcol(d[!, 1:end-2])] for d = groupby(covdf, [:samplesize; :obssize])]\n",
    "df = DataFrame(row_stats, :auto)\n",
    "ss_obs = unique(\"N: \" .* sample_sizes .* \"  ni: \" .* obs_sizes)\n",
    "rename!(df, Symbol.(ss_obs))\n",
    "covdfdisplay = DataFrame([[names(df)]; collect.(eachrow(df))], \n",
    "    [:people_obs; Symbol.([[\"β$i\" for i in 1:p]; [\"ρ\"]; [\"σ2\"]; [\"τ\"]])])\n",
    "covdfdisplay\n"
   ]
  },
  {
   "cell_type": "code",
   "execution_count": null,
   "metadata": {},
   "outputs": [],
   "source": [
    "#### \n",
    "#import data and reorganize to create figure\n",
    "using Random, DataFrames, DelimitedFiles, Statistics, RCall, Printf\n",
    "import StatsBase: sem\n",
    "\n",
    "βMseresult_1 = vec(readdlm(\"mse_beta_multivariate_normal_CS$(nsims)reps_sim.csv\", ','))\n",
    "σ2MseResult_1 = vec(readdlm(\"mse_sigma_multivariate_normal_CS$(nsims)reps_sim.csv\", ','))\n",
    "ρMseResult_1 = vec(readdlm(\"mse_rho_multivariate_normal_CS$(nsims)reps_sim.csv\", ','))\n",
    "θMseResult_1 = (σ2MseResult_1 .+ ρMseResult_1) ./ 2\n",
    "τMseResult_1 = vec(readdlm(\"mse_tau_multivariate_normal_CS$(nsims)reps_sim.csv\", ','))\n",
    "βρσ2τcoverage_1 = readdlm(\"beta_rho_sigma_coverage_multivariate_normal_CS$(nsims)reps_sim.csv\", ',')\n",
    "\n",
    "p = 3\n",
    "sample_sizes = repeat(string.(samplesizes), inner = nsims * length(ns))\n",
    "obs_sizes = repeat(string.(ns), inner = nsims, outer = length(samplesizes))\n",
    "msedf = DataFrame(βmse = βMseresult_1, thetamse = θMseResult_1, τmse = τMseResult_1,\n",
    "    samplesize = sample_sizes, obssize = obs_sizes)\n",
    "\n",
    "\n",
    "msedf = deepcopy(msedf)\n",
    "rename!(msedf, [\"betamse\"\n",
    "    \"thetamse\"\n",
    "        \"taumse\"\n",
    "    \"samplesize\"\n",
    " \"obssize\"]);\n",
    "\n",
    "mses = [msedf[!, :betamse]; msedf[!, :thetamse]; msedf[!, :taumse]]\n",
    "\n",
    "obssize = collect([repeat(msedf[!, :obssize], 3)]...) \n",
    "\n",
    "samplesize = collect([repeat(msedf[!, :samplesize], 3)]...) \n",
    "\n",
    "parameters = collect([repeat(string.([:beta, :theta, :tau]), inner = nsims * length(ns) * length(samplesizes))]...)\n",
    "\n",
    "labels = collect([repeat([\"Gaussian CS with Identity Link\"], 3 * nsims * length(ns) * length(samplesizes))]...) # ;\n",
    "\n",
    "mse_df = DataFrame(mse = mses, obssize = obssize, samplesize = samplesize,\n",
    "    parameters = parameters, labels = labels)\n",
    "\n",
    "#5 of the 30,000 simulations did not converge, filter out\n",
    "mse_df = filter(x -> !isnan(x.mse), mse_df)\n",
    "# additionally, there are 5 where an error was not caught so it did not try a differnt solver\n",
    "mse_df = filter(x -> x.mse < 400, mse_df)"
   ]
  },
  {
   "cell_type": "code",
   "execution_count": null,
   "metadata": {},
   "outputs": [],
   "source": [
    "### working on figure next\n",
    "@rput mse_df\n",
    "\n",
    "R\"\"\"\n",
    "library(scales)\n",
    "library(ggplot2)\n",
    "library(data.table)\n",
    "\n",
    "msedfR = data.table(mse_df)\n",
    "\n",
    "msedfR[parameters == \"beta\",y_min := 10^-4]\n",
    "msedfR[parameters == \"beta\",y_max := 10^-2]\n",
    "msedfR[parameters == \"theta\",y_min := 10^-5]\n",
    "msedfR[parameters == \"theta\",y_max := 10^1]\n",
    "msedfR[parameters == \"tau\",y_min := 10^-8]\n",
    "msedfR[parameters == \"tau\",y_max := 10^-4]\n",
    "\n",
    "\n",
    "msedfR$obssize = factor(msedfR$obssize, levels = c('2', '5', '10', '15', '20', '25'))\n",
    "msedfR$samplesize = factor(msedfR$samplesize, levels = c('100', '1000', '10000'))\n",
    "msedfR$parameters = factor(msedfR$parameters, levels = c('beta', 'theta', 'tau'), labels = c(beta = expression(hat(bold(beta))), theta = expression(hat(bold(theta))[]), tau = expression(hat(bold(tau)))))\n",
    "msedfR$robust = factor(msedfR$labels, levels = c('Gaussian CS with Identity Link'),\n",
    "    labels = c(expression(paste(\"Gaussian CS with Identity Link\")))) # , expression(paste(\"MvT Gamma Inverse-Gamma\"))))\n",
    "\n",
    "\n",
    "#mseplot <- ggplot(msedfR[msedfR$mse < 10^0, ], aes(x=samplesize, y=mse, fill=obssize)) + \n",
    "mseplot = ggplot(msedfR[msedfR$mse < 10^3, ], aes(x=samplesize, y=mse, fill=obssize)) + \n",
    "  #geom_boxplot(outlier.size = 0.0, outlier.alpha = 0) +\n",
    "  geom_boxplot(outlier.size = 0.25) +\n",
    "#    geom_violin() +\n",
    "    facet_grid(parameters ~ robust, labeller = label_parsed, scales = \"free_y\") +\n",
    "  theme(legend.position=\"right\", legend.key = element_blank(), axis.text.x = element_text(angle=0, size=30),\n",
    "        axis.text.y = element_text(angle=0, size=30), axis.title.x = element_text(size = 30, face=\"bold\"), \n",
    "        axis.title.y = element_text(size = 40, face=\"bold\"), legend.title = element_text(size = 30, face=\"bold\"),\n",
    "        panel.grid.major = element_blank(), panel.grid.minor = element_blank(),\n",
    "        legend.text=element_text(size=30), panel.background = element_rect(fill = NA, color = \"black\"),\n",
    "        #panel.background = element_blank(), #panel.border = element_blank(),\n",
    "        axis.line = element_line(color = 'black',size=0.3), plot.title = element_text(hjust = 0.5),\n",
    "        strip.background = element_rect(colour=\"black\", fill=\"white\"), strip.text.y = element_text(angle = 0, size=75, face=\"bold\"),\n",
    "        strip.text.x = element_text(size=25)) + \n",
    "  scale_fill_manual(values = c(\"#c85f55\",\n",
    "\"#a964bf\",\n",
    "\"#8db352\",\n",
    "\"#fa7300\",\n",
    "\"#05aec0\",\n",
    "\"#ff1493\")) +\n",
    "#scale_y_log10(breaks = scales::trans_breaks(\"log10\", function(x) 10^x)) +\n",
    "#scale_y_log10(breaks = 10^(-8:8), limit=c(10^-8, 10^2)) + \n",
    "scale_y_log10(breaks = 10^seq(-10, 10, 2), labels=trans_format(\"log10\", math_format(10^.x))) + #, limit=c(10^-8, 10^2)) +\n",
    "  labs(x = \"Sample Size\", y = \"MSE of Parameter Estimates\", fill = \"Cluster Size\") +\n",
    "geom_blank(aes(y = y_max)) + \n",
    "geom_blank(aes(y = y_min))  \n",
    "\"\"\""
   ]
  },
  {
   "cell_type": "code",
   "execution_count": null,
   "metadata": {},
   "outputs": [],
   "source": [
    "R\"\"\"\n",
    "    ggsave('updated_msefacetplot_Normal_CS.png', mseplot, width = 12.5, height = 15, units = 'in', dpi = 450)\n",
    "\"\"\""
   ]
  },
  {
   "cell_type": "code",
   "execution_count": null,
   "metadata": {},
   "outputs": [],
   "source": []
  }
 ],
 "metadata": {
  "@webio": {
   "lastCommId": null,
   "lastKernelId": null
  },
  "kernelspec": {
   "display_name": "Julia 1.6.2",
   "language": "julia",
   "name": "julia-1.6"
  },
  "language_info": {
   "file_extension": ".jl",
   "mimetype": "application/julia",
   "name": "julia",
   "version": "1.6.2"
  }
 },
 "nbformat": 4,
 "nbformat_minor": 2
}
