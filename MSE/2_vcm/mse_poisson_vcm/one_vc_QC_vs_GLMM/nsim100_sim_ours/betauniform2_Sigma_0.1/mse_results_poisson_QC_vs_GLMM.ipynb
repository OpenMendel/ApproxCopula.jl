{
 "cells": [
  {
   "cell_type": "markdown",
   "metadata": {},
   "source": [
    "## Poisson VCM Results \n",
    "\n",
    "This notebook goes over the code needed to reproduce the results from the MSE and time figures for the Poisson base distribution with Log Link and covariance matrix $\\Gamma$ structured under variance component model framework as follows:\n",
    "\n",
    "$$\n",
    "\\Gamma = 0.1 * \\mathbf{1_{n} 1_{n}^\\top}\n",
    "$$\n",
    "\n",
    "In this example simulate three fixed effects under our Quasi-Copula model with $\\beta \\sim$ rand(Uniform(-2, 2), p) where p = 3 fixed effects.\n",
    "\n",
    "We run each scenario 100 times and compare the fit of ours with that of GLMM's random intercept model from MixedModels.jl. "
   ]
  },
  {
   "cell_type": "code",
   "execution_count": 1,
   "metadata": {},
   "outputs": [
    {
     "name": "stdout",
     "output_type": "stream",
     "text": [
      "Julia Version 1.6.2\n",
      "Commit 1b93d53fc4 (2021-07-14 15:36 UTC)\n",
      "Platform Info:\n",
      "  OS: macOS (x86_64-apple-darwin18.7.0)\n",
      "  CPU: Intel(R) Core(TM) i9-9880H CPU @ 2.30GHz\n",
      "  WORD_SIZE: 64\n",
      "  LIBM: libopenlibm\n",
      "  LLVM: libLLVM-11.0.1 (ORCJIT, skylake)\n"
     ]
    }
   ],
   "source": [
    "versioninfo()"
   ]
  },
  {
   "cell_type": "code",
   "execution_count": 2,
   "metadata": {},
   "outputs": [],
   "source": [
    "using GLMCopula, DelimitedFiles, LinearAlgebra, Random, GLM\n",
    "using Random, Roots, SpecialFunctions, DataFrames"
   ]
  },
  {
   "cell_type": "code",
   "execution_count": 3,
   "metadata": {},
   "outputs": [
    {
     "data": {
      "text/plain": [
       "100"
      ]
     },
     "execution_count": 3,
     "metadata": {},
     "output_type": "execute_result"
    }
   ],
   "source": [
    "p = 3    # number of fixed effects, including intercept\n",
    "m = 1    # number of variance components\n",
    "# true parameter values\n",
    "Random.seed!(12345)\n",
    "βtrue = rand(Uniform(-2, 2), p)\n",
    "θtrue = [0.1]\n",
    "\n",
    "# generate data\n",
    "intervals = zeros(p + m, 2) #hold intervals\n",
    "curcoverage = zeros(p + m) #hold current coverage resutls\n",
    "trueparams = [βtrue; θtrue] #hold true parameters\n",
    "\n",
    "#simulation parameters\n",
    "samplesizes = [100; 1000; 10000]\n",
    "ns = [2; 5; 10; 15; 20; 25]\n",
    "nsims = 100"
   ]
  },
  {
   "cell_type": "code",
   "execution_count": 4,
   "metadata": {},
   "outputs": [
    {
     "name": "stderr",
     "output_type": "stream",
     "text": [
      "┌ Info: reading in the files with results\n",
      "└ @ Main In[4]:1\n"
     ]
    },
    {
     "data": {
      "text/plain": [
       "1800-element Vector{Float64}:\n",
       " 0.864121122\n",
       " 0.057107615\n",
       " 0.062309788\n",
       " 0.06956311\n",
       " 0.044633026\n",
       " 0.03469383\n",
       " 0.049491863\n",
       " 0.041078065\n",
       " 0.044318075\n",
       " 0.04616432\n",
       " 0.038448788\n",
       " 0.035997663\n",
       " 0.036990709\n",
       " ⋮\n",
       " 1.921069717\n",
       " 2.087289949\n",
       " 2.61676599\n",
       " 2.181480033\n",
       " 4.822824426\n",
       " 2.21616618\n",
       " 1.940637799\n",
       " 2.382636802\n",
       " 1.873678063\n",
       " 2.080615657\n",
       " 2.240571633\n",
       " 1.875556744"
      ]
     },
     "execution_count": 4,
     "metadata": {},
     "output_type": "execute_result"
    }
   ],
   "source": [
    "@info \"reading in the files with results\"\n",
    "βMseresult = vec(readdlm(\"mse_beta_multivariate_poisson_vcm$(nsims)reps_sim.csv\", ','))\n",
    "θMseresult = vec(readdlm(\"mse_Sigma_multivariate_poisson_vcm$(nsims)reps_sim.csv\", ','))\n",
    "fittimes_QC = vec(readdlm(\"fittimes_multivariate_poisson_vcm$(nsims)reps_sim.csv\", ','))"
   ]
  },
  {
   "cell_type": "code",
   "execution_count": 5,
   "metadata": {},
   "outputs": [
    {
     "data": {
      "text/plain": [
       "1800-element Vector{Float64}:\n",
       "   1.077584956\n",
       "   0.03816703\n",
       "   0.033106057\n",
       "   0.021729892\n",
       " NaN\n",
       "   0.031593918\n",
       "   0.023610822\n",
       "   0.022257294\n",
       "   0.030345314\n",
       "   0.024333742\n",
       "   0.02608666\n",
       "   0.024643879\n",
       " NaN\n",
       "   ⋮\n",
       "  24.029364079\n",
       "  22.307790228\n",
       " NaN\n",
       " NaN\n",
       "  22.21904137\n",
       "  20.447853419\n",
       " NaN\n",
       "  21.893377976\n",
       "  24.598027201\n",
       "  24.243559151\n",
       "  23.601355736\n",
       "  21.345563398"
      ]
     },
     "execution_count": 5,
     "metadata": {},
     "output_type": "execute_result"
    }
   ],
   "source": [
    "fittimes_GLMM = vec(readdlm(\"fittimes_GLMM_multivariate_poisson_vcm$(nsims)reps_sim.csv\", ','))"
   ]
  },
  {
   "cell_type": "code",
   "execution_count": 6,
   "metadata": {},
   "outputs": [
    {
     "name": "stderr",
     "output_type": "stream",
     "text": [
      "┌ Info: making results table Quasi-Copula\n",
      "└ @ Main In[6]:2\n"
     ]
    },
    {
     "data": {
      "text/html": [
       "<div class=\"data-frame\"><p>18 rows × 8 columns</p><table class=\"data-frame\"><thead><tr><th></th><th>samplesize</th><th>obssize</th><th>fittime</th><th>se</th><th>nobs</th><th>fitmin</th><th>fitmax</th><th>perobsratio</th></tr><tr><th></th><th title=\"String\">String</th><th title=\"String\">String</th><th title=\"Float64\">Float64</th><th title=\"Float64\">Float64</th><th title=\"Int64\">Int64</th><th title=\"Float64\">Float64</th><th title=\"Float64\">Float64</th><th title=\"Float64\">Float64</th></tr></thead><tbody><tr><th>1</th><td>100</td><td>2</td><td>0.0548024</td><td>0.00857997</td><td>200</td><td>0.0462225</td><td>0.0719624</td><td>0.000274012</td></tr><tr><th>2</th><td>100</td><td>5</td><td>0.0366933</td><td>0.000571305</td><td>500</td><td>0.036122</td><td>0.037836</td><td>7.33867e-5</td></tr><tr><th>3</th><td>100</td><td>10</td><td>0.0425077</td><td>0.00242242</td><td>1000</td><td>0.0400852</td><td>0.0473525</td><td>4.25077e-5</td></tr><tr><th>4</th><td>100</td><td>15</td><td>0.0412817</td><td>0.000630847</td><td>1500</td><td>0.0406509</td><td>0.0425434</td><td>2.75212e-5</td></tr><tr><th>5</th><td>100</td><td>20</td><td>0.0449739</td><td>0.000651784</td><td>2000</td><td>0.0443221</td><td>0.0462775</td><td>2.2487e-5</td></tr><tr><th>6</th><td>100</td><td>25</td><td>0.0500377</td><td>0.000842988</td><td>2500</td><td>0.0491947</td><td>0.0517237</td><td>2.00151e-5</td></tr><tr><th>7</th><td>1000</td><td>2</td><td>0.0516913</td><td>0.00054738</td><td>2000</td><td>0.0511439</td><td>0.052786</td><td>2.58456e-5</td></tr><tr><th>8</th><td>1000</td><td>5</td><td>0.0686829</td><td>0.000523903</td><td>5000</td><td>0.068159</td><td>0.0697307</td><td>1.37366e-5</td></tr><tr><th>9</th><td>1000</td><td>10</td><td>0.0910022</td><td>0.000625179</td><td>10000</td><td>0.090377</td><td>0.0922525</td><td>9.10022e-6</td></tr><tr><th>10</th><td>1000</td><td>15</td><td>0.11384</td><td>0.000741247</td><td>15000</td><td>0.113099</td><td>0.115322</td><td>7.58932e-6</td></tr><tr><th>11</th><td>1000</td><td>20</td><td>0.141534</td><td>0.000922581</td><td>20000</td><td>0.140612</td><td>0.14338</td><td>7.07672e-6</td></tr><tr><th>12</th><td>1000</td><td>25</td><td>0.177391</td><td>0.00131824</td><td>25000</td><td>0.176073</td><td>0.180027</td><td>7.09563e-6</td></tr><tr><th>13</th><td>10000</td><td>2</td><td>0.494857</td><td>0.0225835</td><td>20000</td><td>0.472273</td><td>0.540024</td><td>2.47429e-5</td></tr><tr><th>14</th><td>10000</td><td>5</td><td>0.801938</td><td>0.0359039</td><td>50000</td><td>0.766034</td><td>0.873746</td><td>1.60388e-5</td></tr><tr><th>15</th><td>10000</td><td>10</td><td>1.34029</td><td>0.0580748</td><td>100000</td><td>1.28222</td><td>1.45644</td><td>1.34029e-5</td></tr><tr><th>16</th><td>10000</td><td>15</td><td>1.57218</td><td>0.0653878</td><td>150000</td><td>1.50679</td><td>1.70295</td><td>1.04812e-5</td></tr><tr><th>17</th><td>10000</td><td>20</td><td>2.2247</td><td>0.100014</td><td>200000</td><td>2.12469</td><td>2.42473</td><td>1.11235e-5</td></tr><tr><th>18</th><td>10000</td><td>25</td><td>2.514</td><td>0.0934934</td><td>250000</td><td>2.4205</td><td>2.70098</td><td>1.0056e-5</td></tr></tbody></table></div>"
      ],
      "text/latex": [
       "\\begin{tabular}{r|cccccccc}\n",
       "\t& samplesize & obssize & fittime & se & nobs & fitmin & fitmax & perobsratio\\\\\n",
       "\t\\hline\n",
       "\t& String & String & Float64 & Float64 & Int64 & Float64 & Float64 & Float64\\\\\n",
       "\t\\hline\n",
       "\t1 & 100 & 2 & 0.0548024 & 0.00857997 & 200 & 0.0462225 & 0.0719624 & 0.000274012 \\\\\n",
       "\t2 & 100 & 5 & 0.0366933 & 0.000571305 & 500 & 0.036122 & 0.037836 & 7.33867e-5 \\\\\n",
       "\t3 & 100 & 10 & 0.0425077 & 0.00242242 & 1000 & 0.0400852 & 0.0473525 & 4.25077e-5 \\\\\n",
       "\t4 & 100 & 15 & 0.0412817 & 0.000630847 & 1500 & 0.0406509 & 0.0425434 & 2.75212e-5 \\\\\n",
       "\t5 & 100 & 20 & 0.0449739 & 0.000651784 & 2000 & 0.0443221 & 0.0462775 & 2.2487e-5 \\\\\n",
       "\t6 & 100 & 25 & 0.0500377 & 0.000842988 & 2500 & 0.0491947 & 0.0517237 & 2.00151e-5 \\\\\n",
       "\t7 & 1000 & 2 & 0.0516913 & 0.00054738 & 2000 & 0.0511439 & 0.052786 & 2.58456e-5 \\\\\n",
       "\t8 & 1000 & 5 & 0.0686829 & 0.000523903 & 5000 & 0.068159 & 0.0697307 & 1.37366e-5 \\\\\n",
       "\t9 & 1000 & 10 & 0.0910022 & 0.000625179 & 10000 & 0.090377 & 0.0922525 & 9.10022e-6 \\\\\n",
       "\t10 & 1000 & 15 & 0.11384 & 0.000741247 & 15000 & 0.113099 & 0.115322 & 7.58932e-6 \\\\\n",
       "\t11 & 1000 & 20 & 0.141534 & 0.000922581 & 20000 & 0.140612 & 0.14338 & 7.07672e-6 \\\\\n",
       "\t12 & 1000 & 25 & 0.177391 & 0.00131824 & 25000 & 0.176073 & 0.180027 & 7.09563e-6 \\\\\n",
       "\t13 & 10000 & 2 & 0.494857 & 0.0225835 & 20000 & 0.472273 & 0.540024 & 2.47429e-5 \\\\\n",
       "\t14 & 10000 & 5 & 0.801938 & 0.0359039 & 50000 & 0.766034 & 0.873746 & 1.60388e-5 \\\\\n",
       "\t15 & 10000 & 10 & 1.34029 & 0.0580748 & 100000 & 1.28222 & 1.45644 & 1.34029e-5 \\\\\n",
       "\t16 & 10000 & 15 & 1.57218 & 0.0653878 & 150000 & 1.50679 & 1.70295 & 1.04812e-5 \\\\\n",
       "\t17 & 10000 & 20 & 2.2247 & 0.100014 & 200000 & 2.12469 & 2.42473 & 1.11235e-5 \\\\\n",
       "\t18 & 10000 & 25 & 2.514 & 0.0934934 & 250000 & 2.4205 & 2.70098 & 1.0056e-5 \\\\\n",
       "\\end{tabular}\n"
      ],
      "text/plain": [
       "\u001b[1m18×8 DataFrame\u001b[0m\n",
       "\u001b[1m Row \u001b[0m│\u001b[1m samplesize \u001b[0m\u001b[1m obssize \u001b[0m\u001b[1m fittime   \u001b[0m\u001b[1m se          \u001b[0m\u001b[1m nobs   \u001b[0m\u001b[1m fitmin    \u001b[0m\u001b[1m fitmax \u001b[0m ⋯\n",
       "\u001b[1m     \u001b[0m│\u001b[90m String     \u001b[0m\u001b[90m String  \u001b[0m\u001b[90m Float64   \u001b[0m\u001b[90m Float64     \u001b[0m\u001b[90m Int64  \u001b[0m\u001b[90m Float64   \u001b[0m\u001b[90m Float64\u001b[0m ⋯\n",
       "─────┼──────────────────────────────────────────────────────────────────────────\n",
       "   1 │ 100         2        0.0548024  0.00857997      200  0.0462225  0.07196 ⋯\n",
       "   2 │ 100         5        0.0366933  0.000571305     500  0.036122   0.03783\n",
       "   3 │ 100         10       0.0425077  0.00242242     1000  0.0400852  0.04735\n",
       "   4 │ 100         15       0.0412817  0.000630847    1500  0.0406509  0.04254\n",
       "   5 │ 100         20       0.0449739  0.000651784    2000  0.0443221  0.04627 ⋯\n",
       "   6 │ 100         25       0.0500377  0.000842988    2500  0.0491947  0.05172\n",
       "   7 │ 1000        2        0.0516913  0.00054738     2000  0.0511439  0.05278\n",
       "   8 │ 1000        5        0.0686829  0.000523903    5000  0.068159   0.06973\n",
       "   9 │ 1000        10       0.0910022  0.000625179   10000  0.090377   0.09225 ⋯\n",
       "  10 │ 1000        15       0.11384    0.000741247   15000  0.113099   0.11532\n",
       "  11 │ 1000        20       0.141534   0.000922581   20000  0.140612   0.14338\n",
       "  12 │ 1000        25       0.177391   0.00131824    25000  0.176073   0.18002\n",
       "  13 │ 10000       2        0.494857   0.0225835     20000  0.472273   0.54002 ⋯\n",
       "  14 │ 10000       5        0.801938   0.0359039     50000  0.766034   0.87374\n",
       "  15 │ 10000       10       1.34029    0.0580748    100000  1.28222    1.45644\n",
       "  16 │ 10000       15       1.57218    0.0653878    150000  1.50679    1.70295\n",
       "  17 │ 10000       20       2.2247     0.100014     200000  2.12469    2.42473 ⋯\n",
       "  18 │ 10000       25       2.514      0.0934934    250000  2.4205     2.70098\n",
       "\u001b[36m                                                               2 columns omitted\u001b[0m"
      ]
     },
     "execution_count": 6,
     "metadata": {},
     "output_type": "execute_result"
    }
   ],
   "source": [
    "#simulation parameters\n",
    "@info \"making results table Quasi-Copula\"\n",
    "sample_sizes = repeat(string.(samplesizes), inner = nsims * length(ns))\n",
    "obs_sizes = repeat(string.(ns), inner = nsims, outer = length(samplesizes))\n",
    "\n",
    "msedf = DataFrame(samplesize = sample_sizes, obssize = obs_sizes, fittimes = fittimes_QC)\n",
    "timedf1 = combine(groupby(msedf, [:samplesize, :obssize]), :fittimes => mean => :fittime,\n",
    "    :fittimes => x -> (std(x)/sqrt(length(x))))\n",
    "rename!(timedf1, Dict(:fittimes_function => \"se\"))\n",
    "timedf1[!, :nobs] = Meta.parse.(timedf1[!, :samplesize]) .* Meta.parse.(timedf1[!, :obssize])\n",
    "timedf1[!, :fitmin] = timedf1[!, :fittime] - timedf1[!, :se]\n",
    "timedf1[!, :fitmax] = timedf1[!, :fittime] + 2 * timedf1[!, :se]\n",
    "timedf1[!, :perobsratio] = timedf1[!, :fittime] ./ timedf1[!, :nobs]\n",
    "timedf1"
   ]
  },
  {
   "cell_type": "code",
   "execution_count": 7,
   "metadata": {},
   "outputs": [
    {
     "name": "stderr",
     "output_type": "stream",
     "text": [
      "┌ Info: making results table GLMM\n",
      "└ @ Main In[7]:2\n"
     ]
    },
    {
     "data": {
      "text/html": [
       "<div class=\"data-frame\"><p>18 rows × 8 columns</p><table class=\"data-frame\"><thead><tr><th></th><th>samplesize</th><th>obssize</th><th>fittime</th><th>se</th><th>nobs</th><th>fitmin</th><th>fitmax</th><th>perobsratio</th></tr><tr><th></th><th title=\"String\">String</th><th title=\"String\">String</th><th title=\"Float64\">Float64</th><th title=\"Float64\">Float64</th><th title=\"Int64\">Int64</th><th title=\"Float64\">Float64</th><th title=\"Float64\">Float64</th><th title=\"Float64\">Float64</th></tr></thead><tbody><tr><th>1</th><td>100</td><td>2</td><td>NaN</td><td>NaN</td><td>200</td><td>NaN</td><td>NaN</td><td>NaN</td></tr><tr><th>2</th><td>100</td><td>5</td><td>NaN</td><td>NaN</td><td>500</td><td>NaN</td><td>NaN</td><td>NaN</td></tr><tr><th>3</th><td>100</td><td>10</td><td>NaN</td><td>NaN</td><td>1000</td><td>NaN</td><td>NaN</td><td>NaN</td></tr><tr><th>4</th><td>100</td><td>15</td><td>0.145015</td><td>0.00264579</td><td>1500</td><td>0.142369</td><td>0.14766</td><td>9.66764e-5</td></tr><tr><th>5</th><td>100</td><td>20</td><td>NaN</td><td>NaN</td><td>2000</td><td>NaN</td><td>NaN</td><td>NaN</td></tr><tr><th>6</th><td>100</td><td>25</td><td>0.237606</td><td>0.0033739</td><td>2500</td><td>0.234232</td><td>0.24098</td><td>9.50424e-5</td></tr><tr><th>7</th><td>1000</td><td>2</td><td>NaN</td><td>NaN</td><td>2000</td><td>NaN</td><td>NaN</td><td>NaN</td></tr><tr><th>8</th><td>1000</td><td>5</td><td>NaN</td><td>NaN</td><td>5000</td><td>NaN</td><td>NaN</td><td>NaN</td></tr><tr><th>9</th><td>1000</td><td>10</td><td>NaN</td><td>NaN</td><td>10000</td><td>NaN</td><td>NaN</td><td>NaN</td></tr><tr><th>10</th><td>1000</td><td>15</td><td>NaN</td><td>NaN</td><td>15000</td><td>NaN</td><td>NaN</td><td>NaN</td></tr><tr><th>11</th><td>1000</td><td>20</td><td>NaN</td><td>NaN</td><td>20000</td><td>NaN</td><td>NaN</td><td>NaN</td></tr><tr><th>12</th><td>1000</td><td>25</td><td>NaN</td><td>NaN</td><td>25000</td><td>NaN</td><td>NaN</td><td>NaN</td></tr><tr><th>13</th><td>10000</td><td>2</td><td>NaN</td><td>NaN</td><td>20000</td><td>NaN</td><td>NaN</td><td>NaN</td></tr><tr><th>14</th><td>10000</td><td>5</td><td>NaN</td><td>NaN</td><td>50000</td><td>NaN</td><td>NaN</td><td>NaN</td></tr><tr><th>15</th><td>10000</td><td>10</td><td>NaN</td><td>NaN</td><td>100000</td><td>NaN</td><td>NaN</td><td>NaN</td></tr><tr><th>16</th><td>10000</td><td>15</td><td>NaN</td><td>NaN</td><td>150000</td><td>NaN</td><td>NaN</td><td>NaN</td></tr><tr><th>17</th><td>10000</td><td>20</td><td>NaN</td><td>NaN</td><td>200000</td><td>NaN</td><td>NaN</td><td>NaN</td></tr><tr><th>18</th><td>10000</td><td>25</td><td>NaN</td><td>NaN</td><td>250000</td><td>NaN</td><td>NaN</td><td>NaN</td></tr></tbody></table></div>"
      ],
      "text/latex": [
       "\\begin{tabular}{r|cccccccc}\n",
       "\t& samplesize & obssize & fittime & se & nobs & fitmin & fitmax & perobsratio\\\\\n",
       "\t\\hline\n",
       "\t& String & String & Float64 & Float64 & Int64 & Float64 & Float64 & Float64\\\\\n",
       "\t\\hline\n",
       "\t1 & 100 & 2 & NaN & NaN & 200 & NaN & NaN & NaN \\\\\n",
       "\t2 & 100 & 5 & NaN & NaN & 500 & NaN & NaN & NaN \\\\\n",
       "\t3 & 100 & 10 & NaN & NaN & 1000 & NaN & NaN & NaN \\\\\n",
       "\t4 & 100 & 15 & 0.145015 & 0.00264579 & 1500 & 0.142369 & 0.14766 & 9.66764e-5 \\\\\n",
       "\t5 & 100 & 20 & NaN & NaN & 2000 & NaN & NaN & NaN \\\\\n",
       "\t6 & 100 & 25 & 0.237606 & 0.0033739 & 2500 & 0.234232 & 0.24098 & 9.50424e-5 \\\\\n",
       "\t7 & 1000 & 2 & NaN & NaN & 2000 & NaN & NaN & NaN \\\\\n",
       "\t8 & 1000 & 5 & NaN & NaN & 5000 & NaN & NaN & NaN \\\\\n",
       "\t9 & 1000 & 10 & NaN & NaN & 10000 & NaN & NaN & NaN \\\\\n",
       "\t10 & 1000 & 15 & NaN & NaN & 15000 & NaN & NaN & NaN \\\\\n",
       "\t11 & 1000 & 20 & NaN & NaN & 20000 & NaN & NaN & NaN \\\\\n",
       "\t12 & 1000 & 25 & NaN & NaN & 25000 & NaN & NaN & NaN \\\\\n",
       "\t13 & 10000 & 2 & NaN & NaN & 20000 & NaN & NaN & NaN \\\\\n",
       "\t14 & 10000 & 5 & NaN & NaN & 50000 & NaN & NaN & NaN \\\\\n",
       "\t15 & 10000 & 10 & NaN & NaN & 100000 & NaN & NaN & NaN \\\\\n",
       "\t16 & 10000 & 15 & NaN & NaN & 150000 & NaN & NaN & NaN \\\\\n",
       "\t17 & 10000 & 20 & NaN & NaN & 200000 & NaN & NaN & NaN \\\\\n",
       "\t18 & 10000 & 25 & NaN & NaN & 250000 & NaN & NaN & NaN \\\\\n",
       "\\end{tabular}\n"
      ],
      "text/plain": [
       "\u001b[1m18×8 DataFrame\u001b[0m\n",
       "\u001b[1m Row \u001b[0m│\u001b[1m samplesize \u001b[0m\u001b[1m obssize \u001b[0m\u001b[1m fittime    \u001b[0m\u001b[1m se           \u001b[0m\u001b[1m nobs   \u001b[0m\u001b[1m fitmin     \u001b[0m\u001b[1m fitm\u001b[0m ⋯\n",
       "\u001b[1m     \u001b[0m│\u001b[90m String     \u001b[0m\u001b[90m String  \u001b[0m\u001b[90m Float64    \u001b[0m\u001b[90m Float64      \u001b[0m\u001b[90m Int64  \u001b[0m\u001b[90m Float64    \u001b[0m\u001b[90m Floa\u001b[0m ⋯\n",
       "─────┼──────────────────────────────────────────────────────────────────────────\n",
       "   1 │ 100         2        NaN         NaN              200  NaN         NaN  ⋯\n",
       "   2 │ 100         5        NaN         NaN              500  NaN         NaN\n",
       "   3 │ 100         10       NaN         NaN             1000  NaN         NaN\n",
       "   4 │ 100         15         0.145015    0.00264579    1500    0.142369    0.\n",
       "   5 │ 100         20       NaN         NaN             2000  NaN         NaN  ⋯\n",
       "   6 │ 100         25         0.237606    0.0033739     2500    0.234232    0.\n",
       "   7 │ 1000        2        NaN         NaN             2000  NaN         NaN\n",
       "   8 │ 1000        5        NaN         NaN             5000  NaN         NaN\n",
       "   9 │ 1000        10       NaN         NaN            10000  NaN         NaN  ⋯\n",
       "  10 │ 1000        15       NaN         NaN            15000  NaN         NaN\n",
       "  11 │ 1000        20       NaN         NaN            20000  NaN         NaN\n",
       "  12 │ 1000        25       NaN         NaN            25000  NaN         NaN\n",
       "  13 │ 10000       2        NaN         NaN            20000  NaN         NaN  ⋯\n",
       "  14 │ 10000       5        NaN         NaN            50000  NaN         NaN\n",
       "  15 │ 10000       10       NaN         NaN           100000  NaN         NaN\n",
       "  16 │ 10000       15       NaN         NaN           150000  NaN         NaN\n",
       "  17 │ 10000       20       NaN         NaN           200000  NaN         NaN  ⋯\n",
       "  18 │ 10000       25       NaN         NaN           250000  NaN         NaN\n",
       "\u001b[36m                                                               2 columns omitted\u001b[0m"
      ]
     },
     "execution_count": 7,
     "metadata": {},
     "output_type": "execute_result"
    }
   ],
   "source": [
    "#simulation parameters\n",
    "@info \"making results table GLMM\"\n",
    "sample_sizes = repeat(string.(samplesizes), inner = nsims * length(ns))\n",
    "obs_sizes = repeat(string.(ns), inner = nsims, outer = length(samplesizes))\n",
    "\n",
    "msedf = DataFrame(samplesize = sample_sizes, obssize = obs_sizes, fittimes = fittimes_GLMM)\n",
    "timedf2 = combine(groupby(msedf, [:samplesize, :obssize]), :fittimes => mean => :fittime,\n",
    "    :fittimes => x -> (std(x)/sqrt(length(x))))\n",
    "rename!(timedf2, Dict(:fittimes_function => \"se\"))\n",
    "timedf2[!, :nobs] = Meta.parse.(timedf2[!, :samplesize]) .* Meta.parse.(timedf2[!, :obssize])\n",
    "timedf2[!, :fitmin] = timedf2[!, :fittime] - timedf2[!, :se]\n",
    "timedf2[!, :fitmax] = timedf2[!, :fittime] + timedf2[!, :se]\n",
    "timedf2[!, :perobsratio] = timedf2[!, :fittime] ./ timedf2[!, :nobs]\n",
    "timedf2"
   ]
  },
  {
   "cell_type": "code",
   "execution_count": 8,
   "metadata": {},
   "outputs": [
    {
     "name": "stderr",
     "output_type": "stream",
     "text": [
      "┌ Warning: RCall.jl: Warning: package ‘ggplot2’ was built under R version 4.0.2\n",
      "└ @ RCall /Users/sarahji/.julia/packages/RCall/6kphM/src/io.jl:172\n",
      "┌ Warning: RCall.jl: Warning: package ‘cowplot’ was built under R version 4.0.2\n",
      "└ @ RCall /Users/sarahji/.julia/packages/RCall/6kphM/src/io.jl:172\n",
      "┌ Warning: RCall.jl: Warning: Removed 16 row(s) containing missing values (geom_path).\n",
      "│ geom_path: Each group consists of only one observation. Do you need to adjust\n",
      "│ the group aesthetic?\n",
      "│ Warning: Removed 16 rows containing missing values (geom_point).\n",
      "└ @ RCall /Users/sarahji/.julia/packages/RCall/6kphM/src/io.jl:172\n"
     ]
    },
    {
     "data": {
      "image/png": "[encoded data removed]"
     },
     "metadata": {},
     "output_type": "display_data"
    },
    {
     "data": {
      "text/plain": [
       "RObject{VecSxp}\n"
      ]
     },
     "execution_count": 8,
     "metadata": {},
     "output_type": "execute_result"
    }
   ],
   "source": [
    "########### plot the runtimes\n",
    "using RCall\n",
    "@rput timedf1\n",
    "@rput timedf2\n",
    "R\"\"\"\n",
    "library(ggplot2)\n",
    "library(cowplot)\n",
    "timedf1$obssize = factor(timedf1$obssize, levels = c('2', '5', '10', '15', '20', '25'))\n",
    "timedf1$samplesize = factor(timedf1$samplesize, levels = c('100', '1000', '10000'))\n",
    "\n",
    "fittime_1 = ggplot(timedf1, aes(x = samplesize, y = fittime, group = obssize, color = obssize)) + \n",
    "  geom_line() +\n",
    "  geom_point()+\n",
    "  geom_errorbar(aes(ymin=fitmin, ymax=fitmax), width=0.5, alpha = 0.8, position=position_dodge(0.005)) + \n",
    "  theme(legend.position=c(0.3,0.85), legend.key = element_blank(), axis.text.x = element_text(angle=0, size=13),\n",
    "        axis.text.y = element_text(angle=0, size=13), axis.title.x = element_text(size = 17), \n",
    "        axis.title.y = element_text(size = 17), legend.title = element_text(size = 14),\n",
    "        #axis.ticks = element_blank(),\n",
    "        panel.grid.major = element_blank(), legend.text=element_text(size=13),\n",
    "        panel.border = element_blank(), panel.grid.minor = element_blank(), panel.background = element_blank(), \n",
    "        axis.line = element_line(color = 'black',size=0.3), plot.title = element_text(hjust = 0.5)) + \n",
    "   scale_color_manual(values = c(\"#c85f55\",\n",
    "\"#a964bf\",\n",
    "\"#8db352\",\n",
    "\"#fa7300\",\n",
    "\"#05aec0\",\n",
    "\"#ff1493\")) +\n",
    "  labs(x = \"Number of Individuals\", y = \"Fit time (seconds)\", color = \"Obs per Individual\")\n",
    "\n",
    "timedf2$obssize = factor(timedf2$obssize, levels = c('2', '5', '10', '15', '20', '25'))\n",
    "timedf2$samplesize = factor(timedf2$samplesize, levels = c('100', '1000', '10000'))\n",
    "\n",
    "fittime_2 = ggplot(timedf2, aes(x = samplesize, y = fittime, group = obssize, color = obssize)) + \n",
    "  geom_line() +\n",
    "  geom_point()+\n",
    "  geom_errorbar(aes(ymin=fitmin, ymax=fitmax), width=0.5, alpha = 0.8, position=position_dodge(0.005)) + \n",
    "  theme(legend.position=c(0.3,0.85), legend.key = element_blank(), axis.text.x = element_text(angle=0, size=13),\n",
    "        axis.text.y = element_text(angle=0, size=13), axis.title.x = element_text(size = 17), \n",
    "        axis.title.y = element_text(size = 17), legend.title = element_text(size = 14),\n",
    "        #axis.ticks = element_blank(),\n",
    "        panel.grid.major = element_blank(), legend.text=element_text(size=13),\n",
    "        panel.border = element_blank(), panel.grid.minor = element_blank(), panel.background = element_blank(), \n",
    "        axis.line = element_line(color = 'black',size=0.3), plot.title = element_text(hjust = 0.5)) + \n",
    "   scale_color_manual(values = c(\"#c85f55\",\n",
    "\"#a964bf\",\n",
    "\"#8db352\",\n",
    "\"#fa7300\",\n",
    "\"#05aec0\",\n",
    "\"#ff1493\")) +\n",
    "  labs(x = \"Number of Individuals\", y = \"Fit time (seconds)\", color = \"Obs per Individual\")\n",
    "\n",
    "fittime_nsamples = plot_grid(fittime_1, fittime_2, labels = c(\"Quasi-Copula\", \"GLMM\"))\n",
    "\"\"\""
   ]
  },
  {
   "cell_type": "code",
   "execution_count": 9,
   "metadata": {},
   "outputs": [
    {
     "data": {
      "text/plain": [
       "RObject{StrSxp}\n",
       "[1] \"fittime_nsamples_poisson_vs_glmm_beta_unif2_Sigma_0.1.png\"\n"
      ]
     },
     "execution_count": 9,
     "metadata": {},
     "output_type": "execute_result"
    }
   ],
   "source": [
    "R\"\"\"\n",
    "    ggsave('fittime_nsamples_poisson_vs_glmm_beta_unif2_Sigma_0.1.png', fittime_nsamples, width = 15, height = 17, units = 'in', dpi = 450)\n",
    "\"\"\""
   ]
  },
  {
   "cell_type": "code",
   "execution_count": 10,
   "metadata": {},
   "outputs": [
    {
     "data": {
      "text/html": [
       "<div class=\"data-frame\"><p>18 rows × 5 columns</p><table class=\"data-frame\"><thead><tr><th></th><th>people_obs</th><th>β1</th><th>β2</th><th>β3</th><th>θ1</th></tr><tr><th></th><th title=\"String\">String</th><th title=\"Tuple{Float64, Float64}\">Tuple…</th><th title=\"Tuple{Float64, Float64}\">Tuple…</th><th title=\"Tuple{Float64, Float64}\">Tuple…</th><th title=\"Tuple{Float64, Float64}\">Tuple…</th></tr></thead><tbody><tr><th>1</th><td>N: 100  ni: 2</td><td>(0.64, 0.0482418)</td><td>(0.75, 0.0435194)</td><td>(0.84, 0.0368453)</td><td>(0.94, 0.0238683)</td></tr><tr><th>2</th><td>N: 100  ni: 5</td><td>(0.59, 0.0494311)</td><td>(0.88, 0.0326599)</td><td>(0.8, 0.0402015)</td><td>(0.85, 0.035887)</td></tr><tr><th>3</th><td>N: 100  ni: 10</td><td>(0.57, 0.049757)</td><td>(0.85, 0.035887)</td><td>(0.78, 0.0416333)</td><td>(0.95, 0.0219043)</td></tr><tr><th>4</th><td>N: 100  ni: 15</td><td>(0.62, 0.0487832)</td><td>(0.87, 0.0337998)</td><td>(0.79, 0.040936)</td><td>(0.98, 0.0140705)</td></tr><tr><th>5</th><td>N: 100  ni: 20</td><td>(0.44, 0.0498888)</td><td>(0.78, 0.0416333)</td><td>(0.7, 0.0460566)</td><td>(0.94, 0.0238683)</td></tr><tr><th>6</th><td>N: 100  ni: 25</td><td>(0.53, 0.0501614)</td><td>(0.85, 0.035887)</td><td>(0.7, 0.0460566)</td><td>(0.93, 0.0256432)</td></tr><tr><th>7</th><td>N: 1000  ni: 2</td><td>(0.52, 0.0502117)</td><td>(0.84, 0.0368453)</td><td>(0.81, 0.0394277)</td><td>(0.94, 0.0238683)</td></tr><tr><th>8</th><td>N: 1000  ni: 5</td><td>(0.48, 0.0502117)</td><td>(0.89, 0.0314466)</td><td>(0.84, 0.0368453)</td><td>(0.93, 0.0256432)</td></tr><tr><th>9</th><td>N: 1000  ni: 10</td><td>(0.43, 0.049757)</td><td>(0.93, 0.0256432)</td><td>(0.81, 0.0394277)</td><td>(0.96, 0.0196946)</td></tr><tr><th>10</th><td>N: 1000  ni: 15</td><td>(0.47, 0.0501614)</td><td>(0.84, 0.0368453)</td><td>(0.81, 0.0394277)</td><td>(0.95, 0.0219043)</td></tr><tr><th>11</th><td>N: 1000  ni: 20</td><td>(0.5, 0.0502519)</td><td>(0.89, 0.0314466)</td><td>(0.78, 0.0416333)</td><td>(0.92, 0.027266)</td></tr><tr><th>12</th><td>N: 1000  ni: 25</td><td>(0.53, 0.0501614)</td><td>(0.88, 0.0326599)</td><td>(0.7, 0.0460566)</td><td>(0.97, 0.0171447)</td></tr><tr><th>13</th><td>N: 10000  ni: 2</td><td>(0.36, 0.0482418)</td><td>(0.78, 0.0416333)</td><td>(0.82, 0.0386123)</td><td>(0.92, 0.027266)</td></tr><tr><th>14</th><td>N: 10000  ni: 5</td><td>(0.4, 0.0492366)</td><td>(0.87, 0.0337998)</td><td>(0.88, 0.0326599)</td><td>(0.95, 0.0219043)</td></tr><tr><th>15</th><td>N: 10000  ni: 10</td><td>(0.45, 0.05)</td><td>(0.87, 0.0337998)</td><td>(0.8, 0.0402015)</td><td>(0.97, 0.0171447)</td></tr><tr><th>16</th><td>N: 10000  ni: 15</td><td>(0.47, 0.0501614)</td><td>(0.84, 0.0368453)</td><td>(0.73, 0.0446196)</td><td>(0.92, 0.027266)</td></tr><tr><th>17</th><td>N: 10000  ni: 20</td><td>(0.36, 0.0482418)</td><td>(0.83, 0.0377525)</td><td>(0.71, 0.0456048)</td><td>(0.96, 0.0196946)</td></tr><tr><th>18</th><td>N: 10000  ni: 25</td><td>(0.5, 0.0502519)</td><td>(0.88, 0.0326599)</td><td>(0.72, 0.0451261)</td><td>(0.96, 0.0196946)</td></tr></tbody></table></div>"
      ],
      "text/latex": [
       "\\begin{tabular}{r|ccccc}\n",
       "\t& people\\_obs & β1 & β2 & β3 & θ1\\\\\n",
       "\t\\hline\n",
       "\t& String & Tuple… & Tuple… & Tuple… & Tuple…\\\\\n",
       "\t\\hline\n",
       "\t1 & N: 100  ni: 2 & (0.64, 0.0482418) & (0.75, 0.0435194) & (0.84, 0.0368453) & (0.94, 0.0238683) \\\\\n",
       "\t2 & N: 100  ni: 5 & (0.59, 0.0494311) & (0.88, 0.0326599) & (0.8, 0.0402015) & (0.85, 0.035887) \\\\\n",
       "\t3 & N: 100  ni: 10 & (0.57, 0.049757) & (0.85, 0.035887) & (0.78, 0.0416333) & (0.95, 0.0219043) \\\\\n",
       "\t4 & N: 100  ni: 15 & (0.62, 0.0487832) & (0.87, 0.0337998) & (0.79, 0.040936) & (0.98, 0.0140705) \\\\\n",
       "\t5 & N: 100  ni: 20 & (0.44, 0.0498888) & (0.78, 0.0416333) & (0.7, 0.0460566) & (0.94, 0.0238683) \\\\\n",
       "\t6 & N: 100  ni: 25 & (0.53, 0.0501614) & (0.85, 0.035887) & (0.7, 0.0460566) & (0.93, 0.0256432) \\\\\n",
       "\t7 & N: 1000  ni: 2 & (0.52, 0.0502117) & (0.84, 0.0368453) & (0.81, 0.0394277) & (0.94, 0.0238683) \\\\\n",
       "\t8 & N: 1000  ni: 5 & (0.48, 0.0502117) & (0.89, 0.0314466) & (0.84, 0.0368453) & (0.93, 0.0256432) \\\\\n",
       "\t9 & N: 1000  ni: 10 & (0.43, 0.049757) & (0.93, 0.0256432) & (0.81, 0.0394277) & (0.96, 0.0196946) \\\\\n",
       "\t10 & N: 1000  ni: 15 & (0.47, 0.0501614) & (0.84, 0.0368453) & (0.81, 0.0394277) & (0.95, 0.0219043) \\\\\n",
       "\t11 & N: 1000  ni: 20 & (0.5, 0.0502519) & (0.89, 0.0314466) & (0.78, 0.0416333) & (0.92, 0.027266) \\\\\n",
       "\t12 & N: 1000  ni: 25 & (0.53, 0.0501614) & (0.88, 0.0326599) & (0.7, 0.0460566) & (0.97, 0.0171447) \\\\\n",
       "\t13 & N: 10000  ni: 2 & (0.36, 0.0482418) & (0.78, 0.0416333) & (0.82, 0.0386123) & (0.92, 0.027266) \\\\\n",
       "\t14 & N: 10000  ni: 5 & (0.4, 0.0492366) & (0.87, 0.0337998) & (0.88, 0.0326599) & (0.95, 0.0219043) \\\\\n",
       "\t15 & N: 10000  ni: 10 & (0.45, 0.05) & (0.87, 0.0337998) & (0.8, 0.0402015) & (0.97, 0.0171447) \\\\\n",
       "\t16 & N: 10000  ni: 15 & (0.47, 0.0501614) & (0.84, 0.0368453) & (0.73, 0.0446196) & (0.92, 0.027266) \\\\\n",
       "\t17 & N: 10000  ni: 20 & (0.36, 0.0482418) & (0.83, 0.0377525) & (0.71, 0.0456048) & (0.96, 0.0196946) \\\\\n",
       "\t18 & N: 10000  ni: 25 & (0.5, 0.0502519) & (0.88, 0.0326599) & (0.72, 0.0451261) & (0.96, 0.0196946) \\\\\n",
       "\\end{tabular}\n"
      ],
      "text/plain": [
       "\u001b[1m18×5 DataFrame\u001b[0m\n",
       "\u001b[1m Row \u001b[0m│\u001b[1m people_obs       \u001b[0m\u001b[1m β1                \u001b[0m\u001b[1m β2                \u001b[0m\u001b[1m β3             \u001b[0m ⋯\n",
       "\u001b[1m     \u001b[0m│\u001b[90m String           \u001b[0m\u001b[90m Tuple…            \u001b[0m\u001b[90m Tuple…            \u001b[0m\u001b[90m Tuple…         \u001b[0m ⋯\n",
       "─────┼──────────────────────────────────────────────────────────────────────────\n",
       "   1 │ N: 100  ni: 2     (0.64, 0.0482418)  (0.75, 0.0435194)  (0.84, 0.036845 ⋯\n",
       "   2 │ N: 100  ni: 5     (0.59, 0.0494311)  (0.88, 0.0326599)  (0.8, 0.0402015\n",
       "   3 │ N: 100  ni: 10    (0.57, 0.049757)   (0.85, 0.035887)   (0.78, 0.041633\n",
       "   4 │ N: 100  ni: 15    (0.62, 0.0487832)  (0.87, 0.0337998)  (0.79, 0.040936\n",
       "   5 │ N: 100  ni: 20    (0.44, 0.0498888)  (0.78, 0.0416333)  (0.7, 0.0460566 ⋯\n",
       "   6 │ N: 100  ni: 25    (0.53, 0.0501614)  (0.85, 0.035887)   (0.7, 0.0460566\n",
       "   7 │ N: 1000  ni: 2    (0.52, 0.0502117)  (0.84, 0.0368453)  (0.81, 0.039427\n",
       "   8 │ N: 1000  ni: 5    (0.48, 0.0502117)  (0.89, 0.0314466)  (0.84, 0.036845\n",
       "   9 │ N: 1000  ni: 10   (0.43, 0.049757)   (0.93, 0.0256432)  (0.81, 0.039427 ⋯\n",
       "  10 │ N: 1000  ni: 15   (0.47, 0.0501614)  (0.84, 0.0368453)  (0.81, 0.039427\n",
       "  11 │ N: 1000  ni: 20   (0.5, 0.0502519)   (0.89, 0.0314466)  (0.78, 0.041633\n",
       "  12 │ N: 1000  ni: 25   (0.53, 0.0501614)  (0.88, 0.0326599)  (0.7, 0.0460566\n",
       "  13 │ N: 10000  ni: 2   (0.36, 0.0482418)  (0.78, 0.0416333)  (0.82, 0.038612 ⋯\n",
       "  14 │ N: 10000  ni: 5   (0.4, 0.0492366)   (0.87, 0.0337998)  (0.88, 0.032659\n",
       "  15 │ N: 10000  ni: 10  (0.45, 0.05)       (0.87, 0.0337998)  (0.8, 0.0402015\n",
       "  16 │ N: 10000  ni: 15  (0.47, 0.0501614)  (0.84, 0.0368453)  (0.73, 0.044619\n",
       "  17 │ N: 10000  ni: 20  (0.36, 0.0482418)  (0.83, 0.0377525)  (0.71, 0.045604 ⋯\n",
       "  18 │ N: 10000  ni: 25  (0.5, 0.0502519)   (0.88, 0.0326599)  (0.72, 0.045126\n",
       "\u001b[36m                                                               2 columns omitted\u001b[0m"
      ]
     },
     "execution_count": 10,
     "metadata": {},
     "output_type": "execute_result"
    }
   ],
   "source": [
    "######  supplementary table s1\n",
    "using Random, DataFrames, DelimitedFiles, Statistics\n",
    "import StatsBase: sem\n",
    "\n",
    "βθcoverage = readdlm(\"beta_sigma_coverage_multivariate_poisson_vcm$(nsims)reps_sim.csv\", ',')\n",
    "\n",
    "m  = 1\n",
    "\n",
    "covdf = DataFrame(Matrix(transpose(βθcoverage)), :auto)\n",
    "rename!(covdf, Symbol.([[\"β$i\" for i in 1:p]; [\"θ$i\" for i in 1:m]]))\n",
    "covdf[!, :samplesize] = sample_sizes\n",
    "covdf[!, :obssize] = obs_sizes\n",
    "first(covdf, 10)\n",
    "\n",
    "row_stats = [[(mean(col), sem(col)) for col = eachcol(d[!, 1:end-2])] for d = groupby(covdf, [:samplesize; :obssize])]\n",
    "df = DataFrame(row_stats, :auto)\n",
    "ss_obs = unique(\"N: \" .* sample_sizes .* \"  ni: \" .* obs_sizes)\n",
    "rename!(df, Symbol.(ss_obs))\n",
    "covdfdisplay = DataFrame([[names(df)]; collect.(eachrow(df))], \n",
    "    [:people_obs; Symbol.([[\"β$i\" for i in 1:p]; [\"θ$i\" for i in 1:m]])])\n",
    "# deletecols!(covdfdisplay, p + 2)\n",
    "covdfdisplay\n"
   ]
  },
  {
   "cell_type": "code",
   "execution_count": 11,
   "metadata": {},
   "outputs": [
    {
     "data": {
      "text/html": [
       "<div class=\"data-frame\"><p>6,164 rows × 5 columns</p><table class=\"data-frame\"><thead><tr><th></th><th>mse</th><th>obssize</th><th>samplesize</th><th>parameters</th><th>robust</th></tr><tr><th></th><th title=\"Float64\">Float64</th><th title=\"String\">String</th><th title=\"String\">String</th><th title=\"String\">String</th><th title=\"String\">String</th></tr></thead><tbody><tr><th>1</th><td>0.00281954</td><td>2</td><td>100</td><td>beta</td><td>Poisson QC</td></tr><tr><th>2</th><td>0.00197789</td><td>2</td><td>100</td><td>beta</td><td>Poisson QC</td></tr><tr><th>3</th><td>0.00069935</td><td>2</td><td>100</td><td>beta</td><td>Poisson QC</td></tr><tr><th>4</th><td>0.00145787</td><td>2</td><td>100</td><td>beta</td><td>Poisson QC</td></tr><tr><th>5</th><td>0.00257383</td><td>2</td><td>100</td><td>beta</td><td>Poisson QC</td></tr><tr><th>6</th><td>0.00272419</td><td>2</td><td>100</td><td>beta</td><td>Poisson QC</td></tr><tr><th>7</th><td>0.00137838</td><td>2</td><td>100</td><td>beta</td><td>Poisson QC</td></tr><tr><th>8</th><td>0.00119739</td><td>2</td><td>100</td><td>beta</td><td>Poisson QC</td></tr><tr><th>9</th><td>0.00148302</td><td>2</td><td>100</td><td>beta</td><td>Poisson QC</td></tr><tr><th>10</th><td>0.00221467</td><td>2</td><td>100</td><td>beta</td><td>Poisson QC</td></tr><tr><th>11</th><td>0.00114148</td><td>2</td><td>100</td><td>beta</td><td>Poisson QC</td></tr><tr><th>12</th><td>0.00230117</td><td>2</td><td>100</td><td>beta</td><td>Poisson QC</td></tr><tr><th>13</th><td>0.00483643</td><td>2</td><td>100</td><td>beta</td><td>Poisson QC</td></tr><tr><th>14</th><td>0.00133416</td><td>2</td><td>100</td><td>beta</td><td>Poisson QC</td></tr><tr><th>15</th><td>0.0100124</td><td>2</td><td>100</td><td>beta</td><td>Poisson QC</td></tr><tr><th>16</th><td>0.00101792</td><td>2</td><td>100</td><td>beta</td><td>Poisson QC</td></tr><tr><th>17</th><td>0.00583926</td><td>2</td><td>100</td><td>beta</td><td>Poisson QC</td></tr><tr><th>18</th><td>0.00501706</td><td>2</td><td>100</td><td>beta</td><td>Poisson QC</td></tr><tr><th>19</th><td>6.48858e-5</td><td>2</td><td>100</td><td>beta</td><td>Poisson QC</td></tr><tr><th>20</th><td>0.00038396</td><td>2</td><td>100</td><td>beta</td><td>Poisson QC</td></tr><tr><th>21</th><td>0.00298962</td><td>2</td><td>100</td><td>beta</td><td>Poisson QC</td></tr><tr><th>22</th><td>0.00308746</td><td>2</td><td>100</td><td>beta</td><td>Poisson QC</td></tr><tr><th>23</th><td>0.00163928</td><td>2</td><td>100</td><td>beta</td><td>Poisson QC</td></tr><tr><th>24</th><td>0.00354782</td><td>2</td><td>100</td><td>beta</td><td>Poisson QC</td></tr><tr><th>25</th><td>0.00693378</td><td>2</td><td>100</td><td>beta</td><td>Poisson QC</td></tr><tr><th>26</th><td>0.0072773</td><td>2</td><td>100</td><td>beta</td><td>Poisson QC</td></tr><tr><th>27</th><td>0.0201376</td><td>2</td><td>100</td><td>beta</td><td>Poisson QC</td></tr><tr><th>28</th><td>0.00209635</td><td>2</td><td>100</td><td>beta</td><td>Poisson QC</td></tr><tr><th>29</th><td>0.000886263</td><td>2</td><td>100</td><td>beta</td><td>Poisson QC</td></tr><tr><th>30</th><td>0.000415975</td><td>2</td><td>100</td><td>beta</td><td>Poisson QC</td></tr><tr><th>&vellip;</th><td>&vellip;</td><td>&vellip;</td><td>&vellip;</td><td>&vellip;</td><td>&vellip;</td></tr></tbody></table></div>"
      ],
      "text/latex": [
       "\\begin{tabular}{r|ccccc}\n",
       "\t& mse & obssize & samplesize & parameters & robust\\\\\n",
       "\t\\hline\n",
       "\t& Float64 & String & String & String & String\\\\\n",
       "\t\\hline\n",
       "\t1 & 0.00281954 & 2 & 100 & beta & Poisson QC \\\\\n",
       "\t2 & 0.00197789 & 2 & 100 & beta & Poisson QC \\\\\n",
       "\t3 & 0.00069935 & 2 & 100 & beta & Poisson QC \\\\\n",
       "\t4 & 0.00145787 & 2 & 100 & beta & Poisson QC \\\\\n",
       "\t5 & 0.00257383 & 2 & 100 & beta & Poisson QC \\\\\n",
       "\t6 & 0.00272419 & 2 & 100 & beta & Poisson QC \\\\\n",
       "\t7 & 0.00137838 & 2 & 100 & beta & Poisson QC \\\\\n",
       "\t8 & 0.00119739 & 2 & 100 & beta & Poisson QC \\\\\n",
       "\t9 & 0.00148302 & 2 & 100 & beta & Poisson QC \\\\\n",
       "\t10 & 0.00221467 & 2 & 100 & beta & Poisson QC \\\\\n",
       "\t11 & 0.00114148 & 2 & 100 & beta & Poisson QC \\\\\n",
       "\t12 & 0.00230117 & 2 & 100 & beta & Poisson QC \\\\\n",
       "\t13 & 0.00483643 & 2 & 100 & beta & Poisson QC \\\\\n",
       "\t14 & 0.00133416 & 2 & 100 & beta & Poisson QC \\\\\n",
       "\t15 & 0.0100124 & 2 & 100 & beta & Poisson QC \\\\\n",
       "\t16 & 0.00101792 & 2 & 100 & beta & Poisson QC \\\\\n",
       "\t17 & 0.00583926 & 2 & 100 & beta & Poisson QC \\\\\n",
       "\t18 & 0.00501706 & 2 & 100 & beta & Poisson QC \\\\\n",
       "\t19 & 6.48858e-5 & 2 & 100 & beta & Poisson QC \\\\\n",
       "\t20 & 0.00038396 & 2 & 100 & beta & Poisson QC \\\\\n",
       "\t21 & 0.00298962 & 2 & 100 & beta & Poisson QC \\\\\n",
       "\t22 & 0.00308746 & 2 & 100 & beta & Poisson QC \\\\\n",
       "\t23 & 0.00163928 & 2 & 100 & beta & Poisson QC \\\\\n",
       "\t24 & 0.00354782 & 2 & 100 & beta & Poisson QC \\\\\n",
       "\t25 & 0.00693378 & 2 & 100 & beta & Poisson QC \\\\\n",
       "\t26 & 0.0072773 & 2 & 100 & beta & Poisson QC \\\\\n",
       "\t27 & 0.0201376 & 2 & 100 & beta & Poisson QC \\\\\n",
       "\t28 & 0.00209635 & 2 & 100 & beta & Poisson QC \\\\\n",
       "\t29 & 0.000886263 & 2 & 100 & beta & Poisson QC \\\\\n",
       "\t30 & 0.000415975 & 2 & 100 & beta & Poisson QC \\\\\n",
       "\t$\\dots$ & $\\dots$ & $\\dots$ & $\\dots$ & $\\dots$ & $\\dots$ \\\\\n",
       "\\end{tabular}\n"
      ],
      "text/plain": [
       "\u001b[1m6164×5 DataFrame\u001b[0m\n",
       "\u001b[1m  Row \u001b[0m│\u001b[1m mse        \u001b[0m\u001b[1m obssize \u001b[0m\u001b[1m samplesize \u001b[0m\u001b[1m parameters \u001b[0m\u001b[1m robust       \u001b[0m\n",
       "\u001b[1m      \u001b[0m│\u001b[90m Float64    \u001b[0m\u001b[90m String  \u001b[0m\u001b[90m String     \u001b[0m\u001b[90m String     \u001b[0m\u001b[90m String       \u001b[0m\n",
       "──────┼───────────────────────────────────────────────────────────\n",
       "    1 │ 0.00281954  2        100         beta        Poisson QC\n",
       "    2 │ 0.00197789  2        100         beta        Poisson QC\n",
       "    3 │ 0.00069935  2        100         beta        Poisson QC\n",
       "    4 │ 0.00145787  2        100         beta        Poisson QC\n",
       "    5 │ 0.00257383  2        100         beta        Poisson QC\n",
       "    6 │ 0.00272419  2        100         beta        Poisson QC\n",
       "    7 │ 0.00137838  2        100         beta        Poisson QC\n",
       "    8 │ 0.00119739  2        100         beta        Poisson QC\n",
       "    9 │ 0.00148302  2        100         beta        Poisson QC\n",
       "   10 │ 0.00221467  2        100         beta        Poisson QC\n",
       "   11 │ 0.00114148  2        100         beta        Poisson QC\n",
       "  ⋮   │     ⋮          ⋮         ⋮           ⋮            ⋮\n",
       " 6155 │ 0.00867522  25       10000       theta       Poisson GLMM\n",
       " 6156 │ 0.0086782   25       10000       theta       Poisson GLMM\n",
       " 6157 │ 0.00873305  25       10000       theta       Poisson GLMM\n",
       " 6158 │ 0.00863484  25       10000       theta       Poisson GLMM\n",
       " 6159 │ 0.0087395   25       10000       theta       Poisson GLMM\n",
       " 6160 │ 0.00861992  25       10000       theta       Poisson GLMM\n",
       " 6161 │ 0.00875788  25       10000       theta       Poisson GLMM\n",
       " 6162 │ 0.0087067   25       10000       theta       Poisson GLMM\n",
       " 6163 │ 0.00865151  25       10000       theta       Poisson GLMM\n",
       " 6164 │ 0.00868333  25       10000       theta       Poisson GLMM\n",
       "\u001b[36m                                                 6143 rows omitted\u001b[0m"
      ]
     },
     "execution_count": 11,
     "metadata": {},
     "output_type": "execute_result"
    }
   ],
   "source": [
    "#### \n",
    "#import data and reorganize to create figure\n",
    "using Random, DataFrames, DelimitedFiles, Statistics, RCall, Printf\n",
    "import StatsBase: sem\n",
    "\n",
    "βMseresult = vec(readdlm(\"mse_beta_multivariate_poisson_vcm$(nsims)reps_sim.csv\", ','))\n",
    "θMseresult = vec(readdlm(\"mse_Sigma_multivariate_poisson_vcm$(nsims)reps_sim.csv\", ','))\n",
    "\n",
    "βMseresult_GLMM = vec(readdlm(\"mse_beta_GLMM_multivariate_poisson_vcm$(nsims)reps_sim.csv\", ','))\n",
    "θMseresult_GLMM = vec(readdlm(\"mse_Sigma_GLMM_multivariate_poisson_vcm$(nsims)reps_sim.csv\", ','))\n",
    "\n",
    "\n",
    "p = 3; m = 1\n",
    "sample_sizes = repeat(string.(samplesizes), inner = nsims * length(ns))\n",
    "obs_sizes = repeat(string.(ns), inner = nsims, outer = length(samplesizes))\n",
    "msedf1 = DataFrame(βmse = βMseresult, thetamse = θMseresult, \n",
    "    samplesize = sample_sizes, obssize = obs_sizes)\n",
    "\n",
    "msedf2 = DataFrame(βmse = βMseresult_GLMM, thetamse = θMseresult_GLMM, \n",
    "    samplesize = sample_sizes, obssize = obs_sizes)\n",
    "\n",
    "#rename to make parsing easier for R.\n",
    "\n",
    "msedf1 = deepcopy(msedf1)\n",
    "rename!(msedf1, [\"betamse\"\n",
    "    \"thetamse\"\n",
    "    \"samplesize\"\n",
    " \"obssize\"]);\n",
    "\n",
    "msedf2 = deepcopy(msedf2)\n",
    "rename!(msedf2, [\"betamse\"\n",
    "    \"thetamse\"\n",
    "    \"samplesize\"\n",
    " \"obssize\"]);\n",
    "\n",
    "mses = [msedf1[!, :betamse]; msedf1[!, :thetamse]; msedf2[!, :betamse]; msedf2[!, :thetamse]]\n",
    "    # msedfnormR[!, :betamse]; msedfnormR[!, :taumse]; msedfnormR[!, :Sigmamse]]\n",
    "obssize = [collect([repeat(msedf1[!, :obssize], 2)]...) ; collect([repeat(msedf2[!, :obssize], 2)]...)]\n",
    "#40\n",
    "samplesize = [collect([repeat(msedf1[!, :samplesize], 2)]...) ; collect([repeat(msedf2[!, :samplesize], 2)]...)]\n",
    "\n",
    "parameters = [collect([repeat(string.([:beta, :theta]), inner = nsims * length(ns) * length(samplesizes))]...) ; collect([repeat(string.([:beta, :theta]), inner = nsims * length(ns) * length(samplesizes))]...)]\n",
    "robust = [collect([repeat([\"Poisson QC\"], 2 * nsims * length(ns) * length(samplesizes))]...); collect([repeat([\"Poisson GLMM\"],  2 * nsims * length(ns) * length(samplesizes))]...)]\n",
    "\n",
    "msedfR = DataFrame(mse = mses, obssize = obssize, samplesize = samplesize,\n",
    "    parameters = parameters, robust = robust)\n",
    "\n",
    "#5 of the 30,000 simulations did not converge, filter out\n",
    "msedfR = filter(x -> !isnan(x.mse), msedfR)\n",
    "# additionally, there are 5 where an error was not caught so it did not try a differnt solver\n",
    "msedfR = filter(x -> x.mse < 40000, msedfR)"
   ]
  },
  {
   "cell_type": "code",
   "execution_count": 12,
   "metadata": {},
   "outputs": [
    {
     "name": "stderr",
     "output_type": "stream",
     "text": [
      "┌ Warning: RCall.jl: Warning: package ‘scales’ was built under R version 4.0.2\n",
      "└ @ RCall /Users/sarahji/.julia/packages/RCall/6kphM/src/io.jl:172\n",
      "┌ Warning: RCall.jl: Warning: package ‘data.table’ was built under R version 4.0.2\n",
      "└ @ RCall /Users/sarahji/.julia/packages/RCall/6kphM/src/io.jl:172\n"
     ]
    },
    {
     "data": {
      "image/png": "[encoded data removed]"
     },
     "metadata": {},
     "output_type": "display_data"
    },
    {
     "data": {
      "text/plain": [
       "RObject{VecSxp}\n"
      ]
     },
     "execution_count": 12,
     "metadata": {},
     "output_type": "execute_result"
    }
   ],
   "source": [
    "### working on figure next\n",
    "@rput msedfR\n",
    "\n",
    "R\"\"\"\n",
    "library(scales)\n",
    "library(ggplot2)\n",
    "library(data.table)\n",
    "\n",
    "msedfR = data.table(msedfR)\n",
    "\n",
    "msedfR[parameters == \"beta\",y_min := 10^-4]\n",
    "msedfR[parameters == \"beta\",y_max := 10^-2]\n",
    "msedfR[parameters == \"theta\",y_min := 10^-5]\n",
    "msedfR[parameters == \"theta\",y_max := 10^1]\n",
    "\n",
    "#msedfR[parameters == \"beta\",y_min := 10^-8]\n",
    "#msedfR[parameters == \"beta\",y_max := 10^-2]\n",
    "#msedfR[parameters == \"tau\",y_min := 10^-8]\n",
    "#msedfR[parameters == \"tau\",y_max := 10^-2]\n",
    "#msedfR[parameters == \"Sigma\",y_min := 10^-5]\n",
    "#msedfR[parameters == \"Sigma\",y_max := 10^-2]\n",
    "\n",
    "\n",
    "msedfR$obssize = factor(msedfR$obssize, levels = c('2', '5', '10', '15', '20', '25'))\n",
    "msedfR$samplesize = factor(msedfR$samplesize, levels = c('100', '1000', '10000'))\n",
    "msedfR$parameters = factor(msedfR$parameters, levels = c('beta', 'theta'), labels = c(beta = expression(hat(bold(beta))), thetaa = expression(hat(bold(theta))[])))\n",
    "msedfR$robust <- factor(msedfR$robust, levels = c('Poisson QC', 'Poisson GLMM'),\n",
    "    labels = c(expression(paste(\"Poisson QC\")), expression(paste(\"Poisson GLMM\"))))\n",
    "\n",
    "\n",
    "#mseplot <- ggplot(msedfR[msedfR$mse < 10^0, ], aes(x=samplesize, y=mse, fill=obssize)) + \n",
    "mseplot = ggplot(msedfR[msedfR$mse < 10^3, ], aes(x=samplesize, y=mse, fill=obssize)) + \n",
    "  #geom_boxplot(outlier.size = 0.0, outlier.alpha = 0) +\n",
    "  geom_boxplot(outlier.size = 0.25) +\n",
    "#    geom_violin() +\n",
    "    facet_grid(parameters ~ robust, labeller = label_parsed, scales = \"free_y\") +\n",
    "  theme(legend.position=\"right\", legend.key = element_blank(), axis.text.x = element_text(angle=0, size=30),\n",
    "        axis.text.y = element_text(angle=0, size=30), axis.title.x = element_text(size = 30, face=\"bold\"), \n",
    "        axis.title.y = element_text(size = 40, face=\"bold\"), legend.title = element_text(size = 30, face=\"bold\"),\n",
    "        panel.grid.major = element_blank(), panel.grid.minor = element_blank(),\n",
    "        legend.text=element_text(size=30), panel.background = element_rect(fill = NA, color = \"black\"),\n",
    "        #panel.background = element_blank(), #panel.border = element_blank(),\n",
    "        axis.line = element_line(color = 'black',size=0.3), plot.title = element_text(hjust = 0.5),\n",
    "        strip.background = element_rect(colour=\"black\", fill=\"white\"), strip.text.y = element_text(angle = 0, size=75, face=\"bold\"),\n",
    "        strip.text.x = element_text(size=25)) + \n",
    "  scale_fill_manual(values = c(\"#c85f55\",\n",
    "\"#a964bf\",\n",
    "\"#8db352\",\n",
    "\"#fa7300\",\n",
    "\"#05aec0\",\n",
    "\"#ff1493\")) +\n",
    "#scale_y_log10(breaks = scales::trans_breaks(\"log10\", function(x) 10^x)) +\n",
    "#scale_y_log10(breaks = 10^(-8:8), limit=c(10^-8, 10^2)) + \n",
    "scale_y_log10(breaks = 10^seq(-10, 10, 2), labels=trans_format(\"log10\", math_format(10^.x))) + #, limit=c(10^-8, 10^2)) +\n",
    "  labs(x = \"Sample Size\", y = \"MSE of Parameter Estimates\", fill = \"Cluster Size\") +\n",
    "geom_blank(aes(y = y_max)) + \n",
    "geom_blank(aes(y = y_min)) \n",
    "\n",
    "\"\"\""
   ]
  },
  {
   "cell_type": "code",
   "execution_count": 13,
   "metadata": {},
   "outputs": [
    {
     "data": {
      "text/plain": [
       "RObject{StrSxp}\n",
       "[1] \"updated_msefacetplot_poisson_beta_unif_2_sigma_0.1.png\"\n"
      ]
     },
     "execution_count": 13,
     "metadata": {},
     "output_type": "execute_result"
    }
   ],
   "source": [
    "R\"\"\"\n",
    "ggsave('updated_msefacetplot_poisson_beta_unif_2_sigma_0.1.png', mseplot, width = 20, height = 15, units = 'in', dpi = 450)\n",
    "\"\"\""
   ]
  },
  {
   "cell_type": "code",
   "execution_count": null,
   "metadata": {},
   "outputs": [],
   "source": []
  }
 ],
 "metadata": {
  "@webio": {
   "lastCommId": null,
   "lastKernelId": null
  },
  "kernelspec": {
   "display_name": "Julia 1.6.2",
   "language": "julia",
   "name": "julia-1.6"
  },
  "language_info": {
   "file_extension": ".jl",
   "mimetype": "application/julia",
   "name": "julia",
   "version": "1.6.2"
  }
 },
 "nbformat": 4,
 "nbformat_minor": 2
}
