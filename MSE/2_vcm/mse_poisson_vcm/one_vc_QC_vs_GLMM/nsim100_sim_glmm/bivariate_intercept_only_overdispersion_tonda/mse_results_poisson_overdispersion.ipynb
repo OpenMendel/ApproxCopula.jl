{
 "cells": [
  {
   "cell_type": "markdown",
   "metadata": {},
   "source": [
    "## Poisson with overdispersion Results \n",
    "\n",
    "This notebook goes over the code needed to reproduce the results from the MSE and time figures in the first simulation in the paper. \n",
    "\n",
    "In this example simulate under GLMM with $\\beta = log(5)$\n",
    "\n",
    "In this example we have Poisson base distribution with Log Link function and covariance matrix $\\Gamma$ structured under $\\Gamma = 0.05 * I$\n",
    "\n",
    "We run each scenario 100 times."
   ]
  },
  {
   "cell_type": "code",
   "execution_count": 1,
   "metadata": {},
   "outputs": [
    {
     "name": "stdout",
     "output_type": "stream",
     "text": [
      "Julia Version 1.6.2\n",
      "Commit 1b93d53fc4 (2021-07-14 15:36 UTC)\n",
      "Platform Info:\n",
      "  OS: macOS (x86_64-apple-darwin18.7.0)\n",
      "  CPU: Intel(R) Core(TM) i9-9880H CPU @ 2.30GHz\n",
      "  WORD_SIZE: 64\n",
      "  LIBM: libopenlibm\n",
      "  LLVM: libLLVM-11.0.1 (ORCJIT, skylake)\n"
     ]
    }
   ],
   "source": [
    "versioninfo()"
   ]
  },
  {
   "cell_type": "code",
   "execution_count": 2,
   "metadata": {},
   "outputs": [
    {
     "name": "stderr",
     "output_type": "stream",
     "text": [
      "┌ Info: Precompiling GLMCopula [c47b6ae2-b804-4668-9957-eb588c99ffbc]\n",
      "└ @ Base loading.jl:1342\n"
     ]
    }
   ],
   "source": [
    "using GLMCopula, DelimitedFiles, LinearAlgebra, Random, GLM\n",
    "using Random, Roots, SpecialFunctions, DataFrames"
   ]
  },
  {
   "cell_type": "code",
   "execution_count": 16,
   "metadata": {},
   "outputs": [
    {
     "data": {
      "text/plain": [
       "100"
      ]
     },
     "execution_count": 16,
     "metadata": {},
     "output_type": "execute_result"
    }
   ],
   "source": [
    "p  = 1    # number of fixed effects, including intercept\n",
    "\n",
    "# true parameter values\n",
    "Random.seed!(1234)\n",
    "βtrue = log(5.0)\n",
    "θtrue = [0.05]\n",
    "\n",
    "# generate data\n",
    "trueparams = [βtrue; θtrue] #hold true parameters\n",
    "\n",
    "#simulation parameters\n",
    "samplesizes = [100; 1000; 10000]\n",
    "ns = [2]\n",
    "nsims = 100"
   ]
  },
  {
   "cell_type": "code",
   "execution_count": 4,
   "metadata": {},
   "outputs": [
    {
     "name": "stderr",
     "output_type": "stream",
     "text": [
      "┌ Info: reading in the files with results\n",
      "└ @ Main In[4]:1\n"
     ]
    },
    {
     "data": {
      "text/plain": [
       "300-element Vector{Float64}:\n",
       " 0.034299029\n",
       " 0.031682737\n",
       " 0.030676151\n",
       " 0.026450753\n",
       " 0.032717942\n",
       " 0.036815838\n",
       " 0.027300573\n",
       " 0.037443328\n",
       " 0.036993945\n",
       " 0.038319806\n",
       " 0.027821053\n",
       " 0.027347655\n",
       " 0.037211649\n",
       " ⋮\n",
       " 0.617354569\n",
       " 0.613514833\n",
       " 0.580084776\n",
       " 1.608259904\n",
       " 0.810405702\n",
       " 0.692325143\n",
       " 0.500374856\n",
       " 1.53422909\n",
       " 1.50369435\n",
       " 0.808732245\n",
       " 0.711493914\n",
       " 0.619807494"
      ]
     },
     "execution_count": 4,
     "metadata": {},
     "output_type": "execute_result"
    }
   ],
   "source": [
    "@info \"reading in the files with results\"\n",
    "βMseresult = vec(readdlm(\"mse_beta_multivariate_poisson_vcm$(nsims)reps_sim.csv\", ','))\n",
    "θMseresult = vec(readdlm(\"mse_Sigma_multivariate_poisson_vcm$(nsims)reps_sim.csv\", ','))\n",
    "fittimes_QC = vec(readdlm(\"fittimes_multivariate_poisson_vcm$(nsims)reps_sim.csv\", ','))"
   ]
  },
  {
   "cell_type": "code",
   "execution_count": 7,
   "metadata": {},
   "outputs": [
    {
     "name": "stderr",
     "output_type": "stream",
     "text": [
      "┌ Info: making results table Quasi-Copula\n",
      "└ @ Main In[7]:2\n"
     ]
    },
    {
     "data": {
      "text/html": [
       "<div class=\"data-frame\"><p>3 rows × 8 columns</p><table class=\"data-frame\"><thead><tr><th></th><th>samplesize</th><th>obssize</th><th>fittime</th><th>se</th><th>nobs</th><th>fitmin</th><th>fitmax</th><th>perobsratio</th></tr><tr><th></th><th title=\"String\">String</th><th title=\"String\">String</th><th title=\"Float64\">Float64</th><th title=\"Float64\">Float64</th><th title=\"Int64\">Int64</th><th title=\"Float64\">Float64</th><th title=\"Float64\">Float64</th><th title=\"Float64\">Float64</th></tr></thead><tbody><tr><th>1</th><td>100</td><td>2</td><td>0.0320231</td><td>0.000525448</td><td>200</td><td>0.0314976</td><td>0.033074</td><td>0.000160115</td></tr><tr><th>2</th><td>1000</td><td>2</td><td>0.0860226</td><td>0.00146063</td><td>2000</td><td>0.0845619</td><td>0.0889438</td><td>4.30113e-5</td></tr><tr><th>3</th><td>10000</td><td>2</td><td>0.79878</td><td>0.0333844</td><td>20000</td><td>0.765396</td><td>0.865549</td><td>3.9939e-5</td></tr></tbody></table></div>"
      ],
      "text/latex": [
       "\\begin{tabular}{r|cccccccc}\n",
       "\t& samplesize & obssize & fittime & se & nobs & fitmin & fitmax & perobsratio\\\\\n",
       "\t\\hline\n",
       "\t& String & String & Float64 & Float64 & Int64 & Float64 & Float64 & Float64\\\\\n",
       "\t\\hline\n",
       "\t1 & 100 & 2 & 0.0320231 & 0.000525448 & 200 & 0.0314976 & 0.033074 & 0.000160115 \\\\\n",
       "\t2 & 1000 & 2 & 0.0860226 & 0.00146063 & 2000 & 0.0845619 & 0.0889438 & 4.30113e-5 \\\\\n",
       "\t3 & 10000 & 2 & 0.79878 & 0.0333844 & 20000 & 0.765396 & 0.865549 & 3.9939e-5 \\\\\n",
       "\\end{tabular}\n"
      ],
      "text/plain": [
       "\u001b[1m3×8 DataFrame\u001b[0m\n",
       "\u001b[1m Row \u001b[0m│\u001b[1m samplesize \u001b[0m\u001b[1m obssize \u001b[0m\u001b[1m fittime   \u001b[0m\u001b[1m se          \u001b[0m\u001b[1m nobs  \u001b[0m\u001b[1m fitmin    \u001b[0m\u001b[1m fitmax  \u001b[0m ⋯\n",
       "\u001b[1m     \u001b[0m│\u001b[90m String     \u001b[0m\u001b[90m String  \u001b[0m\u001b[90m Float64   \u001b[0m\u001b[90m Float64     \u001b[0m\u001b[90m Int64 \u001b[0m\u001b[90m Float64   \u001b[0m\u001b[90m Float64 \u001b[0m ⋯\n",
       "─────┼──────────────────────────────────────────────────────────────────────────\n",
       "   1 │ 100         2        0.0320231  0.000525448    200  0.0314976  0.033074 ⋯\n",
       "   2 │ 1000        2        0.0860226  0.00146063    2000  0.0845619  0.088943\n",
       "   3 │ 10000       2        0.79878    0.0333844    20000  0.765396   0.865549\n",
       "\u001b[36m                                                               2 columns omitted\u001b[0m"
      ]
     },
     "execution_count": 7,
     "metadata": {},
     "output_type": "execute_result"
    }
   ],
   "source": [
    "#simulation parameters\n",
    "@info \"making results table Quasi-Copula\"\n",
    "sample_sizes = repeat(string.(samplesizes), inner = nsims * length(ns))\n",
    "obs_sizes = repeat(string.(ns), inner = nsims, outer = length(samplesizes))\n",
    "\n",
    "msedf = DataFrame(samplesize = sample_sizes, obssize = obs_sizes, fittimes = fittimes_QC)\n",
    "timedf1 = combine(groupby(msedf, [:samplesize, :obssize]), :fittimes => mean => :fittime,\n",
    "    :fittimes => x -> (std(x)/sqrt(length(x))))\n",
    "rename!(timedf1, Dict(:fittimes_function => \"se\"))\n",
    "timedf1[!, :nobs] = Meta.parse.(timedf1[!, :samplesize]) .* Meta.parse.(timedf1[!, :obssize])\n",
    "timedf1[!, :fitmin] = timedf1[!, :fittime] - timedf1[!, :se]\n",
    "timedf1[!, :fitmax] = timedf1[!, :fittime] + 2 * timedf1[!, :se]\n",
    "timedf1[!, :perobsratio] = timedf1[!, :fittime] ./ timedf1[!, :nobs]\n",
    "timedf1"
   ]
  },
  {
   "cell_type": "code",
   "execution_count": 11,
   "metadata": {},
   "outputs": [
    {
     "name": "stderr",
     "output_type": "stream",
     "text": [
      "┌ Warning: RCall.jl: Warning: package ‘ggplot2’ was built under R version 4.0.2\n",
      "└ @ RCall /Users/sarahji/.julia/packages/RCall/iMDW2/src/io.jl:160\n"
     ]
    },
    {
     "data": {
      "image/png": "[encoded data removed]"
     },
     "metadata": {},
     "output_type": "display_data"
    },
    {
     "data": {
      "text/plain": [
       "RObject{VecSxp}\n"
      ]
     },
     "execution_count": 11,
     "metadata": {},
     "output_type": "execute_result"
    }
   ],
   "source": [
    "########### plot the runtimes\n",
    "using RCall\n",
    "@rput timedf1\n",
    "\n",
    "R\"\"\"\n",
    "library(ggplot2)\n",
    "timedf1$obssize = factor(timedf1$obssize, levels = c('2'))\n",
    "timedf1$samplesize = factor(timedf1$samplesize, levels = c('100', '1000', '10000'))\n",
    "\n",
    "fittime_1 = ggplot(timedf1, aes(x = samplesize, y = fittime, group = obssize, color = obssize)) + \n",
    "  geom_line() +\n",
    "  geom_point()+\n",
    "  geom_errorbar(aes(ymin=fitmin, ymax=fitmax), width=0.5, alpha = 0.8, position=position_dodge(0.005)) + \n",
    "  theme(legend.position=c(0.15,0.85), legend.key = element_blank(), axis.text.x = element_text(angle=0, size=13),\n",
    "        axis.text.y = element_text(angle=0, size=13), axis.title.x = element_text(size = 17), \n",
    "        axis.title.y = element_text(size = 17), legend.title = element_text(size = 14),\n",
    "        #axis.ticks = element_blank(),\n",
    "        panel.grid.major = element_blank(), legend.text=element_text(size=13),\n",
    "        panel.border = element_blank(), panel.grid.minor = element_blank(), panel.background = element_blank(), \n",
    "        axis.line = element_line(color = 'black',size=0.3), plot.title = element_text(hjust = 0.5)) + \n",
    "   scale_color_manual(values = c(\"#c85f55\",\n",
    "\"#a964bf\",\n",
    "\"#8db352\",\n",
    "\"#fa7300\",\n",
    "\"#05aec0\",\n",
    "\"#ff1493\")) +\n",
    "  labs(x = \"Number of Individuals\", y = \"Fit time (seconds)\", color = \"Obs per Individual\")\n",
    "\"\"\""
   ]
  },
  {
   "cell_type": "code",
   "execution_count": 12,
   "metadata": {},
   "outputs": [
    {
     "data": {
      "text/plain": [
       "RObject{StrSxp}\n",
       "[1] \"fittimes_nobs_poisson_overdispersion.png\"\n"
      ]
     },
     "execution_count": 12,
     "metadata": {},
     "output_type": "execute_result"
    }
   ],
   "source": [
    "R\"\"\"\n",
    "ggsave('fittimes_nobs_poisson_overdispersion.png', fittime_1, width = 12.5, height = 15, units = 'in', dpi = 450)\n",
    "\"\"\""
   ]
  },
  {
   "cell_type": "code",
   "execution_count": 17,
   "metadata": {},
   "outputs": [
    {
     "data": {
      "text/html": [
       "<div class=\"data-frame\"><p>3 rows × 3 columns</p><table class=\"data-frame\"><thead><tr><th></th><th>people_obs</th><th>β1</th><th>θ1</th></tr><tr><th></th><th title=\"String\">String</th><th title=\"Tuple{Float64, Float64}\">Tuple…</th><th title=\"Tuple{Float64, Float64}\">Tuple…</th></tr></thead><tbody><tr><th>1</th><td>N: 100  ni: 2</td><td>(0.92, 0.027266)</td><td>(0.93, 0.0256432)</td></tr><tr><th>2</th><td>N: 1000  ni: 2</td><td>(0.95, 0.0219043)</td><td>(0.0, 0.0)</td></tr><tr><th>3</th><td>N: 10000  ni: 2</td><td>(0.87, 0.0337998)</td><td>(0.0, 0.0)</td></tr></tbody></table></div>"
      ],
      "text/latex": [
       "\\begin{tabular}{r|ccc}\n",
       "\t& people\\_obs & β1 & θ1\\\\\n",
       "\t\\hline\n",
       "\t& String & Tuple… & Tuple…\\\\\n",
       "\t\\hline\n",
       "\t1 & N: 100  ni: 2 & (0.92, 0.027266) & (0.93, 0.0256432) \\\\\n",
       "\t2 & N: 1000  ni: 2 & (0.95, 0.0219043) & (0.0, 0.0) \\\\\n",
       "\t3 & N: 10000  ni: 2 & (0.87, 0.0337998) & (0.0, 0.0) \\\\\n",
       "\\end{tabular}\n"
      ],
      "text/plain": [
       "\u001b[1m3×3 DataFrame\u001b[0m\n",
       "\u001b[1m Row \u001b[0m│\u001b[1m people_obs      \u001b[0m\u001b[1m β1                \u001b[0m\u001b[1m θ1                \u001b[0m\n",
       "\u001b[1m     \u001b[0m│\u001b[90m String          \u001b[0m\u001b[90m Tuple…            \u001b[0m\u001b[90m Tuple…            \u001b[0m\n",
       "─────┼───────────────────────────────────────────────────────\n",
       "   1 │ N: 100  ni: 2    (0.92, 0.027266)   (0.93, 0.0256432)\n",
       "   2 │ N: 1000  ni: 2   (0.95, 0.0219043)  (0.0, 0.0)\n",
       "   3 │ N: 10000  ni: 2  (0.87, 0.0337998)  (0.0, 0.0)"
      ]
     },
     "execution_count": 17,
     "metadata": {},
     "output_type": "execute_result"
    }
   ],
   "source": [
    "######  supplementary table s1\n",
    "using Random, DataFrames, DelimitedFiles, Statistics\n",
    "import StatsBase: sem\n",
    "\n",
    "βθcoverage = readdlm(\"beta_sigma_coverage_multivariate_poisson_vcm$(nsims)reps_sim.csv\", ',')\n",
    "\n",
    "m  = 1\n",
    "\n",
    "covdf = DataFrame(Matrix(transpose(βθcoverage)), :auto)\n",
    "rename!(covdf, Symbol.([[\"β$i\" for i in 1:p]; [\"θ$i\" for i in 1:m]]))\n",
    "covdf[!, :samplesize] = sample_sizes\n",
    "covdf[!, :obssize] = obs_sizes\n",
    "first(covdf, 10)\n",
    "\n",
    "row_stats = [[(mean(col), sem(col)) for col = eachcol(d[!, 1:end-2])] for d = groupby(covdf, [:samplesize; :obssize])]\n",
    "df = DataFrame(row_stats, :auto)\n",
    "ss_obs = unique(\"N: \" .* sample_sizes .* \"  ni: \" .* obs_sizes)\n",
    "rename!(df, Symbol.(ss_obs))\n",
    "covdfdisplay = DataFrame([[names(df)]; collect.(eachrow(df))], \n",
    "    [:people_obs; Symbol.([[\"β$i\" for i in 1:p]; [\"θ$i\" for i in 1:m]])])\n",
    "# deletecols!(covdfdisplay, p + 2)\n",
    "covdfdisplay\n"
   ]
  },
  {
   "cell_type": "code",
   "execution_count": 20,
   "metadata": {},
   "outputs": [
    {
     "data": {
      "text/html": [
       "<div class=\"data-frame\"><p>600 rows × 5 columns</p><table class=\"data-frame\"><thead><tr><th></th><th>mse</th><th>obssize</th><th>samplesize</th><th>parameters</th><th>robust</th></tr><tr><th></th><th title=\"Float64\">Float64</th><th title=\"String\">String</th><th title=\"String\">String</th><th title=\"String\">String</th><th title=\"String\">String</th></tr></thead><tbody><tr><th>1</th><td>6.32009e-5</td><td>2</td><td>100</td><td>beta</td><td>Poisson with LogLink</td></tr><tr><th>2</th><td>0.00165626</td><td>2</td><td>100</td><td>beta</td><td>Poisson with LogLink</td></tr><tr><th>3</th><td>0.000318028</td><td>2</td><td>100</td><td>beta</td><td>Poisson with LogLink</td></tr><tr><th>4</th><td>0.00256225</td><td>2</td><td>100</td><td>beta</td><td>Poisson with LogLink</td></tr><tr><th>5</th><td>0.000928898</td><td>2</td><td>100</td><td>beta</td><td>Poisson with LogLink</td></tr><tr><th>6</th><td>0.00218237</td><td>2</td><td>100</td><td>beta</td><td>Poisson with LogLink</td></tr><tr><th>7</th><td>0.00188609</td><td>2</td><td>100</td><td>beta</td><td>Poisson with LogLink</td></tr><tr><th>8</th><td>0.00148271</td><td>2</td><td>100</td><td>beta</td><td>Poisson with LogLink</td></tr><tr><th>9</th><td>0.000606173</td><td>2</td><td>100</td><td>beta</td><td>Poisson with LogLink</td></tr><tr><th>10</th><td>0.000372176</td><td>2</td><td>100</td><td>beta</td><td>Poisson with LogLink</td></tr><tr><th>11</th><td>0.00234485</td><td>2</td><td>100</td><td>beta</td><td>Poisson with LogLink</td></tr><tr><th>12</th><td>0.00196146</td><td>2</td><td>100</td><td>beta</td><td>Poisson with LogLink</td></tr><tr><th>13</th><td>0.000388544</td><td>2</td><td>100</td><td>beta</td><td>Poisson with LogLink</td></tr><tr><th>14</th><td>0.00299799</td><td>2</td><td>100</td><td>beta</td><td>Poisson with LogLink</td></tr><tr><th>15</th><td>0.00210162</td><td>2</td><td>100</td><td>beta</td><td>Poisson with LogLink</td></tr><tr><th>16</th><td>1.66796e-5</td><td>2</td><td>100</td><td>beta</td><td>Poisson with LogLink</td></tr><tr><th>17</th><td>4.45126e-5</td><td>2</td><td>100</td><td>beta</td><td>Poisson with LogLink</td></tr><tr><th>18</th><td>0.000242765</td><td>2</td><td>100</td><td>beta</td><td>Poisson with LogLink</td></tr><tr><th>19</th><td>0.00251861</td><td>2</td><td>100</td><td>beta</td><td>Poisson with LogLink</td></tr><tr><th>20</th><td>0.000155436</td><td>2</td><td>100</td><td>beta</td><td>Poisson with LogLink</td></tr><tr><th>21</th><td>0.000469889</td><td>2</td><td>100</td><td>beta</td><td>Poisson with LogLink</td></tr><tr><th>22</th><td>2.61271e-5</td><td>2</td><td>100</td><td>beta</td><td>Poisson with LogLink</td></tr><tr><th>23</th><td>0.00376943</td><td>2</td><td>100</td><td>beta</td><td>Poisson with LogLink</td></tr><tr><th>24</th><td>0.000461763</td><td>2</td><td>100</td><td>beta</td><td>Poisson with LogLink</td></tr><tr><th>25</th><td>4.45412e-5</td><td>2</td><td>100</td><td>beta</td><td>Poisson with LogLink</td></tr><tr><th>26</th><td>0.00438826</td><td>2</td><td>100</td><td>beta</td><td>Poisson with LogLink</td></tr><tr><th>27</th><td>0.000492652</td><td>2</td><td>100</td><td>beta</td><td>Poisson with LogLink</td></tr><tr><th>28</th><td>0.00670455</td><td>2</td><td>100</td><td>beta</td><td>Poisson with LogLink</td></tr><tr><th>29</th><td>0.000312905</td><td>2</td><td>100</td><td>beta</td><td>Poisson with LogLink</td></tr><tr><th>30</th><td>0.00043203</td><td>2</td><td>100</td><td>beta</td><td>Poisson with LogLink</td></tr><tr><th>&vellip;</th><td>&vellip;</td><td>&vellip;</td><td>&vellip;</td><td>&vellip;</td><td>&vellip;</td></tr></tbody></table></div>"
      ],
      "text/latex": [
       "\\begin{tabular}{r|ccccc}\n",
       "\t& mse & obssize & samplesize & parameters & robust\\\\\n",
       "\t\\hline\n",
       "\t& Float64 & String & String & String & String\\\\\n",
       "\t\\hline\n",
       "\t1 & 6.32009e-5 & 2 & 100 & beta & Poisson with LogLink \\\\\n",
       "\t2 & 0.00165626 & 2 & 100 & beta & Poisson with LogLink \\\\\n",
       "\t3 & 0.000318028 & 2 & 100 & beta & Poisson with LogLink \\\\\n",
       "\t4 & 0.00256225 & 2 & 100 & beta & Poisson with LogLink \\\\\n",
       "\t5 & 0.000928898 & 2 & 100 & beta & Poisson with LogLink \\\\\n",
       "\t6 & 0.00218237 & 2 & 100 & beta & Poisson with LogLink \\\\\n",
       "\t7 & 0.00188609 & 2 & 100 & beta & Poisson with LogLink \\\\\n",
       "\t8 & 0.00148271 & 2 & 100 & beta & Poisson with LogLink \\\\\n",
       "\t9 & 0.000606173 & 2 & 100 & beta & Poisson with LogLink \\\\\n",
       "\t10 & 0.000372176 & 2 & 100 & beta & Poisson with LogLink \\\\\n",
       "\t11 & 0.00234485 & 2 & 100 & beta & Poisson with LogLink \\\\\n",
       "\t12 & 0.00196146 & 2 & 100 & beta & Poisson with LogLink \\\\\n",
       "\t13 & 0.000388544 & 2 & 100 & beta & Poisson with LogLink \\\\\n",
       "\t14 & 0.00299799 & 2 & 100 & beta & Poisson with LogLink \\\\\n",
       "\t15 & 0.00210162 & 2 & 100 & beta & Poisson with LogLink \\\\\n",
       "\t16 & 1.66796e-5 & 2 & 100 & beta & Poisson with LogLink \\\\\n",
       "\t17 & 4.45126e-5 & 2 & 100 & beta & Poisson with LogLink \\\\\n",
       "\t18 & 0.000242765 & 2 & 100 & beta & Poisson with LogLink \\\\\n",
       "\t19 & 0.00251861 & 2 & 100 & beta & Poisson with LogLink \\\\\n",
       "\t20 & 0.000155436 & 2 & 100 & beta & Poisson with LogLink \\\\\n",
       "\t21 & 0.000469889 & 2 & 100 & beta & Poisson with LogLink \\\\\n",
       "\t22 & 2.61271e-5 & 2 & 100 & beta & Poisson with LogLink \\\\\n",
       "\t23 & 0.00376943 & 2 & 100 & beta & Poisson with LogLink \\\\\n",
       "\t24 & 0.000461763 & 2 & 100 & beta & Poisson with LogLink \\\\\n",
       "\t25 & 4.45412e-5 & 2 & 100 & beta & Poisson with LogLink \\\\\n",
       "\t26 & 0.00438826 & 2 & 100 & beta & Poisson with LogLink \\\\\n",
       "\t27 & 0.000492652 & 2 & 100 & beta & Poisson with LogLink \\\\\n",
       "\t28 & 0.00670455 & 2 & 100 & beta & Poisson with LogLink \\\\\n",
       "\t29 & 0.000312905 & 2 & 100 & beta & Poisson with LogLink \\\\\n",
       "\t30 & 0.00043203 & 2 & 100 & beta & Poisson with LogLink \\\\\n",
       "\t$\\dots$ & $\\dots$ & $\\dots$ & $\\dots$ & $\\dots$ & $\\dots$ \\\\\n",
       "\\end{tabular}\n"
      ],
      "text/plain": [
       "\u001b[1m600×5 DataFrame\u001b[0m\n",
       "\u001b[1m Row \u001b[0m│\u001b[1m mse         \u001b[0m\u001b[1m obssize \u001b[0m\u001b[1m samplesize \u001b[0m\u001b[1m parameters \u001b[0m\u001b[1m robust               \u001b[0m\n",
       "\u001b[1m     \u001b[0m│\u001b[90m Float64     \u001b[0m\u001b[90m String  \u001b[0m\u001b[90m String     \u001b[0m\u001b[90m String     \u001b[0m\u001b[90m String               \u001b[0m\n",
       "─────┼────────────────────────────────────────────────────────────────────\n",
       "   1 │ 6.32009e-5   2        100         beta        Poisson with LogLink\n",
       "   2 │ 0.00165626   2        100         beta        Poisson with LogLink\n",
       "   3 │ 0.000318028  2        100         beta        Poisson with LogLink\n",
       "   4 │ 0.00256225   2        100         beta        Poisson with LogLink\n",
       "   5 │ 0.000928898  2        100         beta        Poisson with LogLink\n",
       "   6 │ 0.00218237   2        100         beta        Poisson with LogLink\n",
       "   7 │ 0.00188609   2        100         beta        Poisson with LogLink\n",
       "   8 │ 0.00148271   2        100         beta        Poisson with LogLink\n",
       "   9 │ 0.000606173  2        100         beta        Poisson with LogLink\n",
       "  10 │ 0.000372176  2        100         beta        Poisson with LogLink\n",
       "  11 │ 0.00234485   2        100         beta        Poisson with LogLink\n",
       "  ⋮  │      ⋮          ⋮         ⋮           ⋮                ⋮\n",
       " 591 │ 0.060766     2        10000       theta       Poisson with LogLink\n",
       " 592 │ 0.0879829    2        10000       theta       Poisson with LogLink\n",
       " 593 │ 0.0756191    2        10000       theta       Poisson with LogLink\n",
       " 594 │ 0.072696     2        10000       theta       Poisson with LogLink\n",
       " 595 │ 0.0764858    2        10000       theta       Poisson with LogLink\n",
       " 596 │ 0.0711225    2        10000       theta       Poisson with LogLink\n",
       " 597 │ 0.0730665    2        10000       theta       Poisson with LogLink\n",
       " 598 │ 0.0588607    2        10000       theta       Poisson with LogLink\n",
       " 599 │ 0.0736368    2        10000       theta       Poisson with LogLink\n",
       " 600 │ 0.088523     2        10000       theta       Poisson with LogLink\n",
       "\u001b[36m                                                          579 rows omitted\u001b[0m"
      ]
     },
     "execution_count": 20,
     "metadata": {},
     "output_type": "execute_result"
    }
   ],
   "source": [
    "#### \n",
    "#import data and reorganize to create figure\n",
    "using Random, DataFrames, DelimitedFiles, Statistics, RCall, Printf\n",
    "import StatsBase: sem\n",
    "\n",
    "\n",
    "βMseresult = vec(readdlm(\"mse_beta_multivariate_poisson_vcm$(nsims)reps_sim.csv\", ','))\n",
    "θMseresult = vec(readdlm(\"mse_Sigma_multivariate_poisson_vcm$(nsims)reps_sim.csv\", ','))\n",
    "\n",
    "samplesizesrobust = samplesizes\n",
    "nsrobust = ns\n",
    "nsimsrobust = nsims\n",
    "\n",
    "# βMseresultnorm = vec(readdlm(\"result_files/mse_beta_normal_normal_lognormal_1000reps_sim.csv\", ','))\n",
    "# τMseresultnorm = vec(readdlm(\"result_files/mse_tau_normal_normal_lognormal_1000reps_sim.csv\", ','))\n",
    "# ΣMseresultnorm = vec(readdlm(\"result_files/mse_Sigma_normal_normal_lognormal_1000reps_sim.csv\", ','))\n",
    "# βτcoveragenorm = readdlm(\"result_files/beta_tau_coverage_5betas_normal_normal_lognormal_1000reps_sim.csv\", ',')\n",
    "\n",
    "\n",
    "# samplesizesnorm = collect(1000:1000:6000)\n",
    "# nsnorm = [10; 25; 50; 100; 1000]\n",
    "# nsimsnorm = 1000\n",
    "\n",
    "p = 3\n",
    "sample_sizesrobust = repeat(string.(samplesizesrobust), inner = nsimsrobust * length(nsrobust))\n",
    "obs_sizesrobust = repeat(string.(nsrobust), inner = nsimsrobust, outer = length(samplesizesrobust))\n",
    "msedfrobust = DataFrame(βmse = βMseresult, θMse = θMseresult,\n",
    "    samplesize = sample_sizesrobust, obssize = obs_sizesrobust)\n",
    "\n",
    "msedfrobustR = deepcopy(msedfrobust)\n",
    "rename!(msedfrobustR, [\"betamse\"\n",
    "    \"thetamse\"\n",
    "    \"samplesize\"\n",
    " \"obssize\"]);\n",
    "\n",
    "\n",
    "mses = [msedfrobustR[!, :betamse]; msedfrobustR[!, :thetamse]]\n",
    "    # msedfnormR[!, :betamse]; msedfnormR[!, :taumse]; msedfnormR[!, :Sigmamse]]\n",
    "obssize = collect([repeat(msedfrobustR[!, :obssize], 2)]...) # ; repeat(msedfnormR[!, :obssize], 3)]\n",
    "\n",
    "samplesize = collect([repeat(msedfrobustR[!, :samplesize], 2)]...) # ; repeat(msedfnormR[!, :samplesize], 3)]\n",
    "\n",
    "parameters = collect([repeat(string.([:beta, :theta]), inner = nsimsrobust * length(nsrobust) * length(samplesizesrobust))]...)\n",
    "# ; repeat(string.([:beta, :tau, :Sigma]), inner = nsimsnorm * length(nsnorm) * length(samplesizesnorm))]\n",
    "robust = collect([repeat([\"Poisson with LogLink\"], 2 * nsimsrobust * length(nsrobust) * length(samplesizesrobust))]...) # ;\n",
    "# repeat([\"Normal Normal Log-Normal\"], 3 * nsimsnorm * length(nsnorm) * length(samplesizesnorm))];\n",
    "\n",
    "msedfR = DataFrame(mse = mses, obssize = obssize, samplesize = samplesize,\n",
    "    parameters = parameters, robust = robust)\n",
    "\n",
    "#5 of the 30,000 simulations did not converge, filter out\n",
    "msedfR = filter(x -> !isnan(x.mse), msedfR)\n",
    "# additionally, there are 5 where an error was not caught so it did not try a differnt solver\n",
    "msedfR = filter(x -> x.mse < 40000, msedfR)"
   ]
  },
  {
   "cell_type": "code",
   "execution_count": 21,
   "metadata": {},
   "outputs": [
    {
     "name": "stderr",
     "output_type": "stream",
     "text": [
      "┌ Warning: RCall.jl: Warning: package ‘scales’ was built under R version 4.0.2\n",
      "└ @ RCall /Users/sarahji/.julia/packages/RCall/iMDW2/src/io.jl:160\n",
      "┌ Warning: RCall.jl: Warning: package ‘data.table’ was built under R version 4.0.2\n",
      "└ @ RCall /Users/sarahji/.julia/packages/RCall/iMDW2/src/io.jl:160\n"
     ]
    },
    {
     "data": {
      "image/png": "[encoded data removed]"
     },
     "metadata": {},
     "output_type": "display_data"
    },
    {
     "data": {
      "text/plain": [
       "RObject{VecSxp}\n"
      ]
     },
     "execution_count": 21,
     "metadata": {},
     "output_type": "execute_result"
    }
   ],
   "source": [
    "### working on figure next\n",
    "@rput msedfR\n",
    "\n",
    "R\"\"\"\n",
    "library(scales)\n",
    "library(ggplot2)\n",
    "library(data.table)\n",
    "\n",
    "msedfR = data.table(msedfR)\n",
    "\n",
    "msedfR[parameters == \"beta\",y_min := 10^-6]\n",
    "msedfR[parameters == \"beta\",y_max := 10^-2]\n",
    "msedfR[parameters == \"theta\",y_min := 10^-5]\n",
    "msedfR[parameters == \"theta\",y_max := 10^1]\n",
    "\n",
    "#msedfR[parameters == \"beta\",y_min := 10^-8]\n",
    "#msedfR[parameters == \"beta\",y_max := 10^-2]\n",
    "#msedfR[parameters == \"tau\",y_min := 10^-8]\n",
    "#msedfR[parameters == \"tau\",y_max := 10^-2]\n",
    "#msedfR[parameters == \"Sigma\",y_min := 10^-5]\n",
    "#msedfR[parameters == \"Sigma\",y_max := 10^-2]\n",
    "\n",
    "\n",
    "msedfR$obssize = factor(msedfR$obssize, levels = c('2'))\n",
    "msedfR$samplesize = factor(msedfR$samplesize, levels = c('100', '1000', '10000'))\n",
    "msedfR$parameters = factor(msedfR$parameters, levels = c('beta', 'theta'), labels = c(beta = expression(hat(bold(beta))), theta = expression(hat(bold(theta)))))\n",
    "msedfR$robust = factor(msedfR$robust, levels = c('Poisson with LogLink'),\n",
    "    labels = c(expression(paste(\"Poisson with LogLink\")))) # , expression(paste(\"MvT Gamma Inverse-Gamma\"))))\n",
    "\n",
    "\n",
    "#mseplot <- ggplot(msedfR[msedfR$mse < 10^0, ], aes(x=samplesize, y=mse, fill=obssize)) + \n",
    "mseplot = ggplot(msedfR[msedfR$mse < 10^3, ], aes(x=samplesize, y=mse, fill=obssize)) + \n",
    "  #geom_boxplot(outlier.size = 0.0, outlier.alpha = 0) +\n",
    "  geom_boxplot(outlier.size = 0.25) +\n",
    "#    geom_violin() +\n",
    "    facet_grid(parameters ~ robust, labeller = label_parsed, scales = \"free_y\") +\n",
    "  theme(legend.position=\"right\", legend.key = element_blank(), axis.text.x = element_text(angle=0, size=15),\n",
    "        axis.text.y = element_text(angle=0, size=15), axis.title.x = element_text(size = 20), \n",
    "        axis.title.y = element_text(size = 20), legend.title = element_text(size = 20),\n",
    "        panel.grid.major = element_blank(), panel.grid.minor = element_blank(),\n",
    "        legend.text=element_text(size=15), panel.background = element_rect(fill = NA, color = \"black\"),\n",
    "        #panel.background = element_blank(), #panel.border = element_blank(),\n",
    "        axis.line = element_line(color = 'black',size=0.3), plot.title = element_text(hjust = 0.5),\n",
    "        strip.background = element_rect(colour=\"black\", fill=\"white\"), strip.text.y = element_text(size=30, face=\"bold\"),\n",
    "        strip.text.x = element_text(size=20)) + \n",
    "  scale_fill_manual(values = c(\"#c85f55\",\n",
    "\"#a964bf\",\n",
    "\"#8db352\",\n",
    "\"#fa7300\",\n",
    "\"#05aec0\",\n",
    "\"#ff1493\")) +\n",
    "#scale_y_log10(breaks = scales::trans_breaks(\"log10\", function(x) 10^x)) +\n",
    "#scale_y_log10(breaks = 10^(-8:8), limit=c(10^-8, 10^2)) + \n",
    "scale_y_log10(breaks = 10^seq(-10, 10, 2), labels=trans_format(\"log10\", math_format(10^.x))) + #, limit=c(10^-8, 10^2)) +\n",
    "  labs(x = \"Sample Size\", y = \"MSE of Parameter Estimates\", fill = \"Cluster Size\") +\n",
    "geom_blank(aes(y = y_max)) + \n",
    "geom_blank(aes(y = y_min)) \n",
    "\n",
    "\"\"\""
   ]
  },
  {
   "cell_type": "code",
   "execution_count": 22,
   "metadata": {},
   "outputs": [
    {
     "data": {
      "text/plain": [
       "RObject{StrSxp}\n",
       "[1] \"updated_msefacetplot_poisson_overdispersion.png\"\n"
      ]
     },
     "execution_count": 22,
     "metadata": {},
     "output_type": "execute_result"
    }
   ],
   "source": [
    "R\"\"\"\n",
    "ggsave('updated_msefacetplot_poisson_overdispersion.png', mseplot, width = 12.5, height = 15, units = 'in', dpi = 450)\n",
    "\"\"\""
   ]
  },
  {
   "cell_type": "code",
   "execution_count": null,
   "metadata": {},
   "outputs": [],
   "source": []
  }
 ],
 "metadata": {
  "@webio": {
   "lastCommId": null,
   "lastKernelId": null
  },
  "kernelspec": {
   "display_name": "Julia 1.6.2",
   "language": "julia",
   "name": "julia-1.6"
  },
  "language_info": {
   "file_extension": ".jl",
   "mimetype": "application/julia",
   "name": "julia",
   "version": "1.6.2"
  }
 },
 "nbformat": 4,
 "nbformat_minor": 2
}
