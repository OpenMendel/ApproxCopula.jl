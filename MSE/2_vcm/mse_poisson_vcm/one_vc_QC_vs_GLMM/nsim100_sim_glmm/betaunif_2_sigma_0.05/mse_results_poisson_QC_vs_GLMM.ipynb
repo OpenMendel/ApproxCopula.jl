{
 "cells": [
  {
   "cell_type": "markdown",
   "metadata": {},
   "source": [
    "## Poisson VCM Results \n",
    "\n",
    "This notebook goes over the code needed to reproduce the results from the MSE and time figures for the Poisson base distribution with Log Link and covariance matrix $\\Gamma$ structured under variance component model framework as follows:\n",
    "\n",
    "$$\n",
    "\\Gamma = 0.05 * \\mathbf{1_{n} 1_{n}^\\top}\n",
    "$$\n",
    "\n",
    "In this example simulate three fixed effects under GLMM with $\\beta \\sim$ randn(Uniform(-2, 2), p) where p = 3 fixed effects.\n",
    "\n",
    "We run each scenario 100 times and compare the fit of ours with that of GLMM's random intercept model from MixedModels.jl. "
   ]
  },
  {
   "cell_type": "code",
   "execution_count": 1,
   "metadata": {},
   "outputs": [
    {
     "name": "stdout",
     "output_type": "stream",
     "text": [
      "Julia Version 1.6.2\n",
      "Commit 1b93d53fc4 (2021-07-14 15:36 UTC)\n",
      "Platform Info:\n",
      "  OS: macOS (x86_64-apple-darwin18.7.0)\n",
      "  CPU: Intel(R) Core(TM) i9-9880H CPU @ 2.30GHz\n",
      "  WORD_SIZE: 64\n",
      "  LIBM: libopenlibm\n",
      "  LLVM: libLLVM-11.0.1 (ORCJIT, skylake)\n"
     ]
    }
   ],
   "source": [
    "versioninfo()"
   ]
  },
  {
   "cell_type": "code",
   "execution_count": 2,
   "metadata": {},
   "outputs": [],
   "source": [
    "using GLMCopula, DelimitedFiles, LinearAlgebra, Random, GLM\n",
    "using Random, Roots, SpecialFunctions, DataFrames"
   ]
  },
  {
   "cell_type": "code",
   "execution_count": 3,
   "metadata": {},
   "outputs": [
    {
     "data": {
      "text/plain": [
       "100"
      ]
     },
     "execution_count": 3,
     "metadata": {},
     "output_type": "execute_result"
    }
   ],
   "source": [
    "p = 3    # number of fixed effects, including intercept\n",
    "m = 1    # number of variance components\n",
    "# true parameter values\n",
    "Random.seed!(12345)\n",
    "βtrue = rand(Uniform(-2, 2), p)\n",
    "θtrue = [0.05]\n",
    "\n",
    "# generate data\n",
    "intervals = zeros(p + m, 2) #hold intervals\n",
    "curcoverage = zeros(p + m) #hold current coverage resutls\n",
    "trueparams = [βtrue; θtrue] #hold true parameters\n",
    "\n",
    "#simulation parameters\n",
    "samplesizes = [100; 1000; 10000]\n",
    "ns = [2; 5; 10; 15; 20; 25]\n",
    "nsims = 100"
   ]
  },
  {
   "cell_type": "code",
   "execution_count": 4,
   "metadata": {},
   "outputs": [
    {
     "name": "stderr",
     "output_type": "stream",
     "text": [
      "┌ Info: reading in the files with results\n",
      "└ @ Main In[4]:1\n"
     ]
    },
    {
     "data": {
      "text/plain": [
       "1800-element Vector{Float64}:\n",
       " 0.031092151\n",
       " 0.07937167\n",
       " 0.064267278\n",
       " 0.164934597\n",
       " 0.223775475\n",
       " 0.162975624\n",
       " 0.182404403\n",
       " 0.183450612\n",
       " 0.125723238\n",
       " 0.141984885\n",
       " 0.142719204\n",
       " 0.132241264\n",
       " 0.18466595\n",
       " ⋮\n",
       " 2.1154655\n",
       " 2.017072522\n",
       " 2.217553983\n",
       " 1.957618556\n",
       " 4.210417451\n",
       " 2.105393727\n",
       " 4.526108063\n",
       " 1.931665355\n",
       " 3.090297815\n",
       " 2.031351507\n",
       " 2.51481394\n",
       " 3.757765129"
      ]
     },
     "execution_count": 4,
     "metadata": {},
     "output_type": "execute_result"
    }
   ],
   "source": [
    "@info \"reading in the files with results\"\n",
    "βMseresult = vec(readdlm(\"mse_beta_multivariate_poisson_vcm$(nsims)reps_sim.csv\", ','))\n",
    "θMseresult = vec(readdlm(\"mse_Sigma_multivariate_poisson_vcm$(nsims)reps_sim.csv\", ','))\n",
    "fittimes_QC = vec(readdlm(\"fittimes_multivariate_poisson_vcm$(nsims)reps_sim.csv\", ','))"
   ]
  },
  {
   "cell_type": "code",
   "execution_count": 5,
   "metadata": {},
   "outputs": [
    {
     "data": {
      "text/plain": [
       "1800-element Vector{Float64}:\n",
       "   0.265932755\n",
       "   0.014575905\n",
       "   0.145794011\n",
       "   0.150066532\n",
       " NaN\n",
       " NaN\n",
       "   0.128601391\n",
       "   0.16890291\n",
       "   0.143523883\n",
       "   0.105860676\n",
       "   0.126342371\n",
       "   0.142071334\n",
       " NaN\n",
       "   ⋮\n",
       "  24.308390555\n",
       "  27.329083477\n",
       " NaN\n",
       " NaN\n",
       " NaN\n",
       "  24.616580188\n",
       " NaN\n",
       "  23.384365575\n",
       "  24.280537486\n",
       "  24.275918522\n",
       "  24.053217844\n",
       " NaN"
      ]
     },
     "execution_count": 5,
     "metadata": {},
     "output_type": "execute_result"
    }
   ],
   "source": [
    "fittimes_GLMM = vec(readdlm(\"fittimes_GLMM_multivariate_poisson_vcm$(nsims)reps_sim.csv\", ','))"
   ]
  },
  {
   "cell_type": "code",
   "execution_count": 6,
   "metadata": {},
   "outputs": [
    {
     "name": "stderr",
     "output_type": "stream",
     "text": [
      "┌ Info: making results table Quasi-Copula\n",
      "└ @ Main In[6]:2\n"
     ]
    },
    {
     "data": {
      "text/html": [
       "<div class=\"data-frame\"><p>18 rows × 8 columns</p><table class=\"data-frame\"><thead><tr><th></th><th>samplesize</th><th>obssize</th><th>fittime</th><th>se</th><th>nobs</th><th>fitmin</th><th>fitmax</th><th>perobsratio</th></tr><tr><th></th><th title=\"String\">String</th><th title=\"String\">String</th><th title=\"Float64\">Float64</th><th title=\"Float64\">Float64</th><th title=\"Int64\">Int64</th><th title=\"Float64\">Float64</th><th title=\"Float64\">Float64</th><th title=\"Float64\">Float64</th></tr></thead><tbody><tr><th>1</th><td>100</td><td>2</td><td>0.0563931</td><td>0.00396586</td><td>200</td><td>0.0524272</td><td>0.0643248</td><td>0.000281965</td></tr><tr><th>2</th><td>100</td><td>5</td><td>0.0418577</td><td>0.000654741</td><td>500</td><td>0.041203</td><td>0.0431672</td><td>8.37154e-5</td></tr><tr><th>3</th><td>100</td><td>10</td><td>0.0462987</td><td>0.00200786</td><td>1000</td><td>0.0442908</td><td>0.0503144</td><td>4.62987e-5</td></tr><tr><th>4</th><td>100</td><td>15</td><td>0.0589378</td><td>0.00137294</td><td>1500</td><td>0.0575648</td><td>0.0616836</td><td>3.92918e-5</td></tr><tr><th>5</th><td>100</td><td>20</td><td>0.0667157</td><td>0.00142213</td><td>2000</td><td>0.0652936</td><td>0.06956</td><td>3.33578e-5</td></tr><tr><th>6</th><td>100</td><td>25</td><td>0.065036</td><td>0.000921998</td><td>2500</td><td>0.064114</td><td>0.06688</td><td>2.60144e-5</td></tr><tr><th>7</th><td>1000</td><td>2</td><td>0.0550709</td><td>0.000509349</td><td>2000</td><td>0.0545615</td><td>0.0560896</td><td>2.75354e-5</td></tr><tr><th>8</th><td>1000</td><td>5</td><td>0.0760193</td><td>0.00124959</td><td>5000</td><td>0.0747698</td><td>0.0785185</td><td>1.52039e-5</td></tr><tr><th>9</th><td>1000</td><td>10</td><td>0.0981021</td><td>0.00376061</td><td>10000</td><td>0.0943415</td><td>0.105623</td><td>9.81021e-6</td></tr><tr><th>10</th><td>1000</td><td>15</td><td>0.128899</td><td>0.00184</td><td>15000</td><td>0.127059</td><td>0.132579</td><td>8.59326e-6</td></tr><tr><th>11</th><td>1000</td><td>20</td><td>0.152653</td><td>0.00172916</td><td>20000</td><td>0.150924</td><td>0.156111</td><td>7.63265e-6</td></tr><tr><th>12</th><td>1000</td><td>25</td><td>0.190339</td><td>0.00174098</td><td>25000</td><td>0.188598</td><td>0.193821</td><td>7.61355e-6</td></tr><tr><th>13</th><td>10000</td><td>2</td><td>0.498755</td><td>0.0214796</td><td>20000</td><td>0.477275</td><td>0.541714</td><td>2.49377e-5</td></tr><tr><th>14</th><td>10000</td><td>5</td><td>0.776711</td><td>0.0330501</td><td>50000</td><td>0.743661</td><td>0.842812</td><td>1.55342e-5</td></tr><tr><th>15</th><td>10000</td><td>10</td><td>1.30302</td><td>0.0613102</td><td>100000</td><td>1.24171</td><td>1.42564</td><td>1.30302e-5</td></tr><tr><th>16</th><td>10000</td><td>15</td><td>1.68582</td><td>0.0632294</td><td>150000</td><td>1.62259</td><td>1.81227</td><td>1.12388e-5</td></tr><tr><th>17</th><td>10000</td><td>20</td><td>2.24479</td><td>0.0865078</td><td>200000</td><td>2.15828</td><td>2.4178</td><td>1.12239e-5</td></tr><tr><th>18</th><td>10000</td><td>25</td><td>2.76999</td><td>0.105426</td><td>250000</td><td>2.66456</td><td>2.98084</td><td>1.108e-5</td></tr></tbody></table></div>"
      ],
      "text/latex": [
       "\\begin{tabular}{r|cccccccc}\n",
       "\t& samplesize & obssize & fittime & se & nobs & fitmin & fitmax & perobsratio\\\\\n",
       "\t\\hline\n",
       "\t& String & String & Float64 & Float64 & Int64 & Float64 & Float64 & Float64\\\\\n",
       "\t\\hline\n",
       "\t1 & 100 & 2 & 0.0563931 & 0.00396586 & 200 & 0.0524272 & 0.0643248 & 0.000281965 \\\\\n",
       "\t2 & 100 & 5 & 0.0418577 & 0.000654741 & 500 & 0.041203 & 0.0431672 & 8.37154e-5 \\\\\n",
       "\t3 & 100 & 10 & 0.0462987 & 0.00200786 & 1000 & 0.0442908 & 0.0503144 & 4.62987e-5 \\\\\n",
       "\t4 & 100 & 15 & 0.0589378 & 0.00137294 & 1500 & 0.0575648 & 0.0616836 & 3.92918e-5 \\\\\n",
       "\t5 & 100 & 20 & 0.0667157 & 0.00142213 & 2000 & 0.0652936 & 0.06956 & 3.33578e-5 \\\\\n",
       "\t6 & 100 & 25 & 0.065036 & 0.000921998 & 2500 & 0.064114 & 0.06688 & 2.60144e-5 \\\\\n",
       "\t7 & 1000 & 2 & 0.0550709 & 0.000509349 & 2000 & 0.0545615 & 0.0560896 & 2.75354e-5 \\\\\n",
       "\t8 & 1000 & 5 & 0.0760193 & 0.00124959 & 5000 & 0.0747698 & 0.0785185 & 1.52039e-5 \\\\\n",
       "\t9 & 1000 & 10 & 0.0981021 & 0.00376061 & 10000 & 0.0943415 & 0.105623 & 9.81021e-6 \\\\\n",
       "\t10 & 1000 & 15 & 0.128899 & 0.00184 & 15000 & 0.127059 & 0.132579 & 8.59326e-6 \\\\\n",
       "\t11 & 1000 & 20 & 0.152653 & 0.00172916 & 20000 & 0.150924 & 0.156111 & 7.63265e-6 \\\\\n",
       "\t12 & 1000 & 25 & 0.190339 & 0.00174098 & 25000 & 0.188598 & 0.193821 & 7.61355e-6 \\\\\n",
       "\t13 & 10000 & 2 & 0.498755 & 0.0214796 & 20000 & 0.477275 & 0.541714 & 2.49377e-5 \\\\\n",
       "\t14 & 10000 & 5 & 0.776711 & 0.0330501 & 50000 & 0.743661 & 0.842812 & 1.55342e-5 \\\\\n",
       "\t15 & 10000 & 10 & 1.30302 & 0.0613102 & 100000 & 1.24171 & 1.42564 & 1.30302e-5 \\\\\n",
       "\t16 & 10000 & 15 & 1.68582 & 0.0632294 & 150000 & 1.62259 & 1.81227 & 1.12388e-5 \\\\\n",
       "\t17 & 10000 & 20 & 2.24479 & 0.0865078 & 200000 & 2.15828 & 2.4178 & 1.12239e-5 \\\\\n",
       "\t18 & 10000 & 25 & 2.76999 & 0.105426 & 250000 & 2.66456 & 2.98084 & 1.108e-5 \\\\\n",
       "\\end{tabular}\n"
      ],
      "text/plain": [
       "\u001b[1m18×8 DataFrame\u001b[0m\n",
       "\u001b[1m Row \u001b[0m│\u001b[1m samplesize \u001b[0m\u001b[1m obssize \u001b[0m\u001b[1m fittime   \u001b[0m\u001b[1m se          \u001b[0m\u001b[1m nobs   \u001b[0m\u001b[1m fitmin    \u001b[0m\u001b[1m fitmax \u001b[0m ⋯\n",
       "\u001b[1m     \u001b[0m│\u001b[90m String     \u001b[0m\u001b[90m String  \u001b[0m\u001b[90m Float64   \u001b[0m\u001b[90m Float64     \u001b[0m\u001b[90m Int64  \u001b[0m\u001b[90m Float64   \u001b[0m\u001b[90m Float64\u001b[0m ⋯\n",
       "─────┼──────────────────────────────────────────────────────────────────────────\n",
       "   1 │ 100         2        0.0563931  0.00396586      200  0.0524272  0.06432 ⋯\n",
       "   2 │ 100         5        0.0418577  0.000654741     500  0.041203   0.04316\n",
       "   3 │ 100         10       0.0462987  0.00200786     1000  0.0442908  0.05031\n",
       "   4 │ 100         15       0.0589378  0.00137294     1500  0.0575648  0.06168\n",
       "   5 │ 100         20       0.0667157  0.00142213     2000  0.0652936  0.06956 ⋯\n",
       "   6 │ 100         25       0.065036   0.000921998    2500  0.064114   0.06688\n",
       "   7 │ 1000        2        0.0550709  0.000509349    2000  0.0545615  0.05608\n",
       "   8 │ 1000        5        0.0760193  0.00124959     5000  0.0747698  0.07851\n",
       "   9 │ 1000        10       0.0981021  0.00376061    10000  0.0943415  0.10562 ⋯\n",
       "  10 │ 1000        15       0.128899   0.00184       15000  0.127059   0.13257\n",
       "  11 │ 1000        20       0.152653   0.00172916    20000  0.150924   0.15611\n",
       "  12 │ 1000        25       0.190339   0.00174098    25000  0.188598   0.19382\n",
       "  13 │ 10000       2        0.498755   0.0214796     20000  0.477275   0.54171 ⋯\n",
       "  14 │ 10000       5        0.776711   0.0330501     50000  0.743661   0.84281\n",
       "  15 │ 10000       10       1.30302    0.0613102    100000  1.24171    1.42564\n",
       "  16 │ 10000       15       1.68582    0.0632294    150000  1.62259    1.81227\n",
       "  17 │ 10000       20       2.24479    0.0865078    200000  2.15828    2.4178  ⋯\n",
       "  18 │ 10000       25       2.76999    0.105426     250000  2.66456    2.98084\n",
       "\u001b[36m                                                               2 columns omitted\u001b[0m"
      ]
     },
     "execution_count": 6,
     "metadata": {},
     "output_type": "execute_result"
    }
   ],
   "source": [
    "#simulation parameters\n",
    "@info \"making results table Quasi-Copula\"\n",
    "sample_sizes = repeat(string.(samplesizes), inner = nsims * length(ns))\n",
    "obs_sizes = repeat(string.(ns), inner = nsims, outer = length(samplesizes))\n",
    "\n",
    "msedf = DataFrame(samplesize = sample_sizes, obssize = obs_sizes, fittimes = fittimes_QC)\n",
    "timedf1 = combine(groupby(msedf, [:samplesize, :obssize]), :fittimes => mean => :fittime,\n",
    "    :fittimes => x -> (std(x)/sqrt(length(x))))\n",
    "rename!(timedf1, Dict(:fittimes_function => \"se\"))\n",
    "timedf1[!, :nobs] = Meta.parse.(timedf1[!, :samplesize]) .* Meta.parse.(timedf1[!, :obssize])\n",
    "timedf1[!, :fitmin] = timedf1[!, :fittime] - timedf1[!, :se]\n",
    "timedf1[!, :fitmax] = timedf1[!, :fittime] + 2 * timedf1[!, :se]\n",
    "timedf1[!, :perobsratio] = timedf1[!, :fittime] ./ timedf1[!, :nobs]\n",
    "timedf1"
   ]
  },
  {
   "cell_type": "code",
   "execution_count": 7,
   "metadata": {},
   "outputs": [
    {
     "name": "stderr",
     "output_type": "stream",
     "text": [
      "┌ Info: making results table GLMM\n",
      "└ @ Main In[7]:2\n"
     ]
    },
    {
     "data": {
      "text/html": [
       "<div class=\"data-frame\"><p>18 rows × 8 columns</p><table class=\"data-frame\"><thead><tr><th></th><th>samplesize</th><th>obssize</th><th>fittime</th><th>se</th><th>nobs</th><th>fitmin</th><th>fitmax</th><th>perobsratio</th></tr><tr><th></th><th title=\"String\">String</th><th title=\"String\">String</th><th title=\"Float64\">Float64</th><th title=\"Float64\">Float64</th><th title=\"Int64\">Int64</th><th title=\"Float64\">Float64</th><th title=\"Float64\">Float64</th><th title=\"Float64\">Float64</th></tr></thead><tbody><tr><th>1</th><td>100</td><td>2</td><td>NaN</td><td>NaN</td><td>200</td><td>NaN</td><td>NaN</td><td>NaN</td></tr><tr><th>2</th><td>100</td><td>5</td><td>NaN</td><td>NaN</td><td>500</td><td>NaN</td><td>NaN</td><td>NaN</td></tr><tr><th>3</th><td>100</td><td>10</td><td>NaN</td><td>NaN</td><td>1000</td><td>NaN</td><td>NaN</td><td>NaN</td></tr><tr><th>4</th><td>100</td><td>15</td><td>0.151167</td><td>0.00345221</td><td>1500</td><td>0.147715</td><td>0.154619</td><td>0.000100778</td></tr><tr><th>5</th><td>100</td><td>20</td><td>NaN</td><td>NaN</td><td>2000</td><td>NaN</td><td>NaN</td><td>NaN</td></tr><tr><th>6</th><td>100</td><td>25</td><td>0.238999</td><td>0.00386944</td><td>2500</td><td>0.23513</td><td>0.242869</td><td>9.55997e-5</td></tr><tr><th>7</th><td>1000</td><td>2</td><td>NaN</td><td>NaN</td><td>2000</td><td>NaN</td><td>NaN</td><td>NaN</td></tr><tr><th>8</th><td>1000</td><td>5</td><td>NaN</td><td>NaN</td><td>5000</td><td>NaN</td><td>NaN</td><td>NaN</td></tr><tr><th>9</th><td>1000</td><td>10</td><td>NaN</td><td>NaN</td><td>10000</td><td>NaN</td><td>NaN</td><td>NaN</td></tr><tr><th>10</th><td>1000</td><td>15</td><td>NaN</td><td>NaN</td><td>15000</td><td>NaN</td><td>NaN</td><td>NaN</td></tr><tr><th>11</th><td>1000</td><td>20</td><td>NaN</td><td>NaN</td><td>20000</td><td>NaN</td><td>NaN</td><td>NaN</td></tr><tr><th>12</th><td>1000</td><td>25</td><td>NaN</td><td>NaN</td><td>25000</td><td>NaN</td><td>NaN</td><td>NaN</td></tr><tr><th>13</th><td>10000</td><td>2</td><td>NaN</td><td>NaN</td><td>20000</td><td>NaN</td><td>NaN</td><td>NaN</td></tr><tr><th>14</th><td>10000</td><td>5</td><td>NaN</td><td>NaN</td><td>50000</td><td>NaN</td><td>NaN</td><td>NaN</td></tr><tr><th>15</th><td>10000</td><td>10</td><td>NaN</td><td>NaN</td><td>100000</td><td>NaN</td><td>NaN</td><td>NaN</td></tr><tr><th>16</th><td>10000</td><td>15</td><td>NaN</td><td>NaN</td><td>150000</td><td>NaN</td><td>NaN</td><td>NaN</td></tr><tr><th>17</th><td>10000</td><td>20</td><td>NaN</td><td>NaN</td><td>200000</td><td>NaN</td><td>NaN</td><td>NaN</td></tr><tr><th>18</th><td>10000</td><td>25</td><td>NaN</td><td>NaN</td><td>250000</td><td>NaN</td><td>NaN</td><td>NaN</td></tr></tbody></table></div>"
      ],
      "text/latex": [
       "\\begin{tabular}{r|cccccccc}\n",
       "\t& samplesize & obssize & fittime & se & nobs & fitmin & fitmax & perobsratio\\\\\n",
       "\t\\hline\n",
       "\t& String & String & Float64 & Float64 & Int64 & Float64 & Float64 & Float64\\\\\n",
       "\t\\hline\n",
       "\t1 & 100 & 2 & NaN & NaN & 200 & NaN & NaN & NaN \\\\\n",
       "\t2 & 100 & 5 & NaN & NaN & 500 & NaN & NaN & NaN \\\\\n",
       "\t3 & 100 & 10 & NaN & NaN & 1000 & NaN & NaN & NaN \\\\\n",
       "\t4 & 100 & 15 & 0.151167 & 0.00345221 & 1500 & 0.147715 & 0.154619 & 0.000100778 \\\\\n",
       "\t5 & 100 & 20 & NaN & NaN & 2000 & NaN & NaN & NaN \\\\\n",
       "\t6 & 100 & 25 & 0.238999 & 0.00386944 & 2500 & 0.23513 & 0.242869 & 9.55997e-5 \\\\\n",
       "\t7 & 1000 & 2 & NaN & NaN & 2000 & NaN & NaN & NaN \\\\\n",
       "\t8 & 1000 & 5 & NaN & NaN & 5000 & NaN & NaN & NaN \\\\\n",
       "\t9 & 1000 & 10 & NaN & NaN & 10000 & NaN & NaN & NaN \\\\\n",
       "\t10 & 1000 & 15 & NaN & NaN & 15000 & NaN & NaN & NaN \\\\\n",
       "\t11 & 1000 & 20 & NaN & NaN & 20000 & NaN & NaN & NaN \\\\\n",
       "\t12 & 1000 & 25 & NaN & NaN & 25000 & NaN & NaN & NaN \\\\\n",
       "\t13 & 10000 & 2 & NaN & NaN & 20000 & NaN & NaN & NaN \\\\\n",
       "\t14 & 10000 & 5 & NaN & NaN & 50000 & NaN & NaN & NaN \\\\\n",
       "\t15 & 10000 & 10 & NaN & NaN & 100000 & NaN & NaN & NaN \\\\\n",
       "\t16 & 10000 & 15 & NaN & NaN & 150000 & NaN & NaN & NaN \\\\\n",
       "\t17 & 10000 & 20 & NaN & NaN & 200000 & NaN & NaN & NaN \\\\\n",
       "\t18 & 10000 & 25 & NaN & NaN & 250000 & NaN & NaN & NaN \\\\\n",
       "\\end{tabular}\n"
      ],
      "text/plain": [
       "\u001b[1m18×8 DataFrame\u001b[0m\n",
       "\u001b[1m Row \u001b[0m│\u001b[1m samplesize \u001b[0m\u001b[1m obssize \u001b[0m\u001b[1m fittime    \u001b[0m\u001b[1m se           \u001b[0m\u001b[1m nobs   \u001b[0m\u001b[1m fitmin     \u001b[0m\u001b[1m fitm\u001b[0m ⋯\n",
       "\u001b[1m     \u001b[0m│\u001b[90m String     \u001b[0m\u001b[90m String  \u001b[0m\u001b[90m Float64    \u001b[0m\u001b[90m Float64      \u001b[0m\u001b[90m Int64  \u001b[0m\u001b[90m Float64    \u001b[0m\u001b[90m Floa\u001b[0m ⋯\n",
       "─────┼──────────────────────────────────────────────────────────────────────────\n",
       "   1 │ 100         2        NaN         NaN              200  NaN         NaN  ⋯\n",
       "   2 │ 100         5        NaN         NaN              500  NaN         NaN\n",
       "   3 │ 100         10       NaN         NaN             1000  NaN         NaN\n",
       "   4 │ 100         15         0.151167    0.00345221    1500    0.147715    0.\n",
       "   5 │ 100         20       NaN         NaN             2000  NaN         NaN  ⋯\n",
       "   6 │ 100         25         0.238999    0.00386944    2500    0.23513     0.\n",
       "   7 │ 1000        2        NaN         NaN             2000  NaN         NaN\n",
       "   8 │ 1000        5        NaN         NaN             5000  NaN         NaN\n",
       "   9 │ 1000        10       NaN         NaN            10000  NaN         NaN  ⋯\n",
       "  10 │ 1000        15       NaN         NaN            15000  NaN         NaN\n",
       "  11 │ 1000        20       NaN         NaN            20000  NaN         NaN\n",
       "  12 │ 1000        25       NaN         NaN            25000  NaN         NaN\n",
       "  13 │ 10000       2        NaN         NaN            20000  NaN         NaN  ⋯\n",
       "  14 │ 10000       5        NaN         NaN            50000  NaN         NaN\n",
       "  15 │ 10000       10       NaN         NaN           100000  NaN         NaN\n",
       "  16 │ 10000       15       NaN         NaN           150000  NaN         NaN\n",
       "  17 │ 10000       20       NaN         NaN           200000  NaN         NaN  ⋯\n",
       "  18 │ 10000       25       NaN         NaN           250000  NaN         NaN\n",
       "\u001b[36m                                                               2 columns omitted\u001b[0m"
      ]
     },
     "execution_count": 7,
     "metadata": {},
     "output_type": "execute_result"
    }
   ],
   "source": [
    "#simulation parameters\n",
    "@info \"making results table GLMM\"\n",
    "sample_sizes = repeat(string.(samplesizes), inner = nsims * length(ns))\n",
    "obs_sizes = repeat(string.(ns), inner = nsims, outer = length(samplesizes))\n",
    "\n",
    "msedf = DataFrame(samplesize = sample_sizes, obssize = obs_sizes, fittimes = fittimes_GLMM)\n",
    "timedf2 = combine(groupby(msedf, [:samplesize, :obssize]), :fittimes => mean => :fittime,\n",
    "    :fittimes => x -> (std(x)/sqrt(length(x))))\n",
    "rename!(timedf2, Dict(:fittimes_function => \"se\"))\n",
    "timedf2[!, :nobs] = Meta.parse.(timedf2[!, :samplesize]) .* Meta.parse.(timedf2[!, :obssize])\n",
    "timedf2[!, :fitmin] = timedf2[!, :fittime] - timedf2[!, :se]\n",
    "timedf2[!, :fitmax] = timedf2[!, :fittime] + timedf2[!, :se]\n",
    "timedf2[!, :perobsratio] = timedf2[!, :fittime] ./ timedf2[!, :nobs]\n",
    "timedf2"
   ]
  },
  {
   "cell_type": "code",
   "execution_count": 8,
   "metadata": {},
   "outputs": [
    {
     "name": "stderr",
     "output_type": "stream",
     "text": [
      "┌ Warning: RCall.jl: Warning: package ‘ggplot2’ was built under R version 4.0.2\n",
      "└ @ RCall /Users/sarahji/.julia/packages/RCall/6kphM/src/io.jl:172\n",
      "┌ Warning: RCall.jl: Warning: package ‘cowplot’ was built under R version 4.0.2\n",
      "└ @ RCall /Users/sarahji/.julia/packages/RCall/6kphM/src/io.jl:172\n",
      "┌ Warning: RCall.jl: Warning: Removed 16 row(s) containing missing values (geom_path).\n",
      "│ geom_path: Each group consists of only one observation. Do you need to adjust\n",
      "│ the group aesthetic?\n",
      "│ Warning: Removed 16 rows containing missing values (geom_point).\n",
      "└ @ RCall /Users/sarahji/.julia/packages/RCall/6kphM/src/io.jl:172\n"
     ]
    },
    {
     "data": {
      "image/png": "[encoded data removed]"
     },
     "metadata": {},
     "output_type": "display_data"
    },
    {
     "data": {
      "text/plain": [
       "RObject{VecSxp}\n"
      ]
     },
     "execution_count": 8,
     "metadata": {},
     "output_type": "execute_result"
    }
   ],
   "source": [
    "########### plot the runtimes\n",
    "using RCall\n",
    "@rput timedf1\n",
    "@rput timedf2\n",
    "R\"\"\"\n",
    "library(ggplot2)\n",
    "library(cowplot)\n",
    "timedf1$obssize = factor(timedf1$obssize, levels = c('2', '5', '10', '15', '20', '25'))\n",
    "timedf1$samplesize = factor(timedf1$samplesize, levels = c('100', '1000', '10000'))\n",
    "\n",
    "fittime_1 = ggplot(timedf1, aes(x = samplesize, y = fittime, group = obssize, color = obssize)) + \n",
    "  geom_line() +\n",
    "  geom_point()+\n",
    "  geom_errorbar(aes(ymin=fitmin, ymax=fitmax), width=0.5, alpha = 0.8, position=position_dodge(0.005)) + \n",
    "  theme(legend.position=c(0.3,0.85), legend.key = element_blank(), axis.text.x = element_text(angle=0, size=13),\n",
    "        axis.text.y = element_text(angle=0, size=13), axis.title.x = element_text(size = 17), \n",
    "        axis.title.y = element_text(size = 17), legend.title = element_text(size = 14),\n",
    "        #axis.ticks = element_blank(),\n",
    "        panel.grid.major = element_blank(), legend.text=element_text(size=13),\n",
    "        panel.border = element_blank(), panel.grid.minor = element_blank(), panel.background = element_blank(), \n",
    "        axis.line = element_line(color = 'black',size=0.3), plot.title = element_text(hjust = 0.5)) + \n",
    "   scale_color_manual(values = c(\"#c85f55\",\n",
    "\"#a964bf\",\n",
    "\"#8db352\",\n",
    "\"#fa7300\",\n",
    "\"#05aec0\",\n",
    "\"#ff1493\")) +\n",
    "  labs(x = \"Number of Individuals\", y = \"Fit time (seconds)\", color = \"Obs per Individual\")\n",
    "\n",
    "timedf2$obssize = factor(timedf2$obssize, levels = c('2', '5', '10', '15', '20', '25'))\n",
    "timedf2$samplesize = factor(timedf2$samplesize, levels = c('100', '1000', '10000'))\n",
    "\n",
    "fittime_2 = ggplot(timedf2, aes(x = samplesize, y = fittime, group = obssize, color = obssize)) + \n",
    "  geom_line() +\n",
    "  geom_point()+\n",
    "  geom_errorbar(aes(ymin=fitmin, ymax=fitmax), width=0.5, alpha = 0.8, position=position_dodge(0.005)) + \n",
    "  theme(legend.position=c(0.3,0.85), legend.key = element_blank(), axis.text.x = element_text(angle=0, size=13),\n",
    "        axis.text.y = element_text(angle=0, size=13), axis.title.x = element_text(size = 17), \n",
    "        axis.title.y = element_text(size = 17), legend.title = element_text(size = 14),\n",
    "        #axis.ticks = element_blank(),\n",
    "        panel.grid.major = element_blank(), legend.text=element_text(size=13),\n",
    "        panel.border = element_blank(), panel.grid.minor = element_blank(), panel.background = element_blank(), \n",
    "        axis.line = element_line(color = 'black',size=0.3), plot.title = element_text(hjust = 0.5)) + \n",
    "   scale_color_manual(values = c(\"#c85f55\",\n",
    "\"#a964bf\",\n",
    "\"#8db352\",\n",
    "\"#fa7300\",\n",
    "\"#05aec0\",\n",
    "\"#ff1493\")) +\n",
    "  labs(x = \"Number of Individuals\", y = \"Fit time (seconds)\", color = \"Obs per Individual\")\n",
    "\n",
    "fittime_nsamples = plot_grid(fittime_1, fittime_2, labels = c(\"Quasi-Copula\", \"GLMM\"))\n",
    "\"\"\""
   ]
  },
  {
   "cell_type": "code",
   "execution_count": 9,
   "metadata": {},
   "outputs": [
    {
     "data": {
      "text/plain": [
       "RObject{StrSxp}\n",
       "[1] \"sim_glmm_fittime_nsamples_poisson_vs_glmm.png\"\n"
      ]
     },
     "execution_count": 9,
     "metadata": {},
     "output_type": "execute_result"
    }
   ],
   "source": [
    "R\"\"\"\n",
    "ggsave('sim_glmm_fittime_nsamples_poisson_vs_glmm.png', fittime_nsamples, width = 15, height = 17, units = 'in', dpi = 450)\n",
    "\"\"\""
   ]
  },
  {
   "cell_type": "code",
   "execution_count": 10,
   "metadata": {},
   "outputs": [
    {
     "data": {
      "text/html": [
       "<div class=\"data-frame\"><p>18 rows × 5 columns</p><table class=\"data-frame\"><thead><tr><th></th><th>people_obs</th><th>β1</th><th>β2</th><th>β3</th><th>θ1</th></tr><tr><th></th><th title=\"String\">String</th><th title=\"Tuple{Float64, Float64}\">Tuple…</th><th title=\"Tuple{Float64, Float64}\">Tuple…</th><th title=\"Tuple{Float64, Float64}\">Tuple…</th><th title=\"Tuple{Float64, Float64}\">Tuple…</th></tr></thead><tbody><tr><th>1</th><td>N: 100  ni: 2</td><td>(0.67, 0.0472582)</td><td>(0.71, 0.0456048)</td><td>(0.78, 0.0416333)</td><td>(0.94, 0.0238683)</td></tr><tr><th>2</th><td>N: 100  ni: 5</td><td>(0.76, 0.0429235)</td><td>(0.72, 0.0451261)</td><td>(0.8, 0.0402015)</td><td>(0.88, 0.0326599)</td></tr><tr><th>3</th><td>N: 100  ni: 10</td><td>(0.76, 0.0429235)</td><td>(0.78, 0.0416333)</td><td>(0.8, 0.0402015)</td><td>(0.74, 0.0440844)</td></tr><tr><th>4</th><td>N: 100  ni: 15</td><td>(0.74, 0.0440844)</td><td>(0.8, 0.0402015)</td><td>(0.89, 0.0314466)</td><td>(0.52, 0.0502117)</td></tr><tr><th>5</th><td>N: 100  ni: 20</td><td>(0.67, 0.0472582)</td><td>(0.83, 0.0377525)</td><td>(0.81, 0.0394277)</td><td>(0.49, 0.0502418)</td></tr><tr><th>6</th><td>N: 100  ni: 25</td><td>(0.75, 0.0435194)</td><td>(0.86, 0.0348735)</td><td>(0.83, 0.0377525)</td><td>(0.48, 0.0502117)</td></tr><tr><th>7</th><td>N: 1000  ni: 2</td><td>(0.64, 0.0482418)</td><td>(0.63, 0.0485237)</td><td>(0.88, 0.0326599)</td><td>(0.15, 0.035887)</td></tr><tr><th>8</th><td>N: 1000  ni: 5</td><td>(0.62, 0.0487832)</td><td>(0.59, 0.0494311)</td><td>(0.92, 0.027266)</td><td>(0.0, 0.0)</td></tr><tr><th>9</th><td>N: 1000  ni: 10</td><td>(0.67, 0.0472582)</td><td>(0.55, 0.05)</td><td>(0.92, 0.027266)</td><td>(0.0, 0.0)</td></tr><tr><th>10</th><td>N: 1000  ni: 15</td><td>(0.43, 0.049757)</td><td>(0.71, 0.0456048)</td><td>(0.94, 0.0238683)</td><td>(0.0, 0.0)</td></tr><tr><th>11</th><td>N: 1000  ni: 20</td><td>(0.29, 0.0456048)</td><td>(0.72, 0.0451261)</td><td>(0.94, 0.0238683)</td><td>(0.0, 0.0)</td></tr><tr><th>12</th><td>N: 1000  ni: 25</td><td>(0.24, 0.0429235)</td><td>(0.78, 0.0416333)</td><td>(0.85, 0.035887)</td><td>(0.0, 0.0)</td></tr><tr><th>13</th><td>N: 10000  ni: 2</td><td>(0.3, 0.0460566)</td><td>(0.48, 0.0502117)</td><td>(0.87, 0.0337998)</td><td>(0.0, 0.0)</td></tr><tr><th>14</th><td>N: 10000  ni: 5</td><td>(0.53, 0.0501614)</td><td>(0.28, 0.0451261)</td><td>(0.88, 0.0326599)</td><td>(0.0, 0.0)</td></tr><tr><th>15</th><td>N: 10000  ni: 10</td><td>(0.26, 0.0440844)</td><td>(0.15, 0.035887)</td><td>(0.82, 0.0386123)</td><td>(0.0, 0.0)</td></tr><tr><th>16</th><td>N: 10000  ni: 15</td><td>(0.0, 0.0)</td><td>(0.48, 0.0502117)</td><td>(0.9, 0.0301511)</td><td>(0.0, 0.0)</td></tr><tr><th>17</th><td>N: 10000  ni: 20</td><td>(0.0, 0.0)</td><td>(0.66, 0.0476095)</td><td>(0.94, 0.0238683)</td><td>(0.0, 0.0)</td></tr><tr><th>18</th><td>N: 10000  ni: 25</td><td>(0.0, 0.0)</td><td>(0.81, 0.0394277)</td><td>(0.91, 0.0287623)</td><td>(0.0, 0.0)</td></tr></tbody></table></div>"
      ],
      "text/latex": [
       "\\begin{tabular}{r|ccccc}\n",
       "\t& people\\_obs & β1 & β2 & β3 & θ1\\\\\n",
       "\t\\hline\n",
       "\t& String & Tuple… & Tuple… & Tuple… & Tuple…\\\\\n",
       "\t\\hline\n",
       "\t1 & N: 100  ni: 2 & (0.67, 0.0472582) & (0.71, 0.0456048) & (0.78, 0.0416333) & (0.94, 0.0238683) \\\\\n",
       "\t2 & N: 100  ni: 5 & (0.76, 0.0429235) & (0.72, 0.0451261) & (0.8, 0.0402015) & (0.88, 0.0326599) \\\\\n",
       "\t3 & N: 100  ni: 10 & (0.76, 0.0429235) & (0.78, 0.0416333) & (0.8, 0.0402015) & (0.74, 0.0440844) \\\\\n",
       "\t4 & N: 100  ni: 15 & (0.74, 0.0440844) & (0.8, 0.0402015) & (0.89, 0.0314466) & (0.52, 0.0502117) \\\\\n",
       "\t5 & N: 100  ni: 20 & (0.67, 0.0472582) & (0.83, 0.0377525) & (0.81, 0.0394277) & (0.49, 0.0502418) \\\\\n",
       "\t6 & N: 100  ni: 25 & (0.75, 0.0435194) & (0.86, 0.0348735) & (0.83, 0.0377525) & (0.48, 0.0502117) \\\\\n",
       "\t7 & N: 1000  ni: 2 & (0.64, 0.0482418) & (0.63, 0.0485237) & (0.88, 0.0326599) & (0.15, 0.035887) \\\\\n",
       "\t8 & N: 1000  ni: 5 & (0.62, 0.0487832) & (0.59, 0.0494311) & (0.92, 0.027266) & (0.0, 0.0) \\\\\n",
       "\t9 & N: 1000  ni: 10 & (0.67, 0.0472582) & (0.55, 0.05) & (0.92, 0.027266) & (0.0, 0.0) \\\\\n",
       "\t10 & N: 1000  ni: 15 & (0.43, 0.049757) & (0.71, 0.0456048) & (0.94, 0.0238683) & (0.0, 0.0) \\\\\n",
       "\t11 & N: 1000  ni: 20 & (0.29, 0.0456048) & (0.72, 0.0451261) & (0.94, 0.0238683) & (0.0, 0.0) \\\\\n",
       "\t12 & N: 1000  ni: 25 & (0.24, 0.0429235) & (0.78, 0.0416333) & (0.85, 0.035887) & (0.0, 0.0) \\\\\n",
       "\t13 & N: 10000  ni: 2 & (0.3, 0.0460566) & (0.48, 0.0502117) & (0.87, 0.0337998) & (0.0, 0.0) \\\\\n",
       "\t14 & N: 10000  ni: 5 & (0.53, 0.0501614) & (0.28, 0.0451261) & (0.88, 0.0326599) & (0.0, 0.0) \\\\\n",
       "\t15 & N: 10000  ni: 10 & (0.26, 0.0440844) & (0.15, 0.035887) & (0.82, 0.0386123) & (0.0, 0.0) \\\\\n",
       "\t16 & N: 10000  ni: 15 & (0.0, 0.0) & (0.48, 0.0502117) & (0.9, 0.0301511) & (0.0, 0.0) \\\\\n",
       "\t17 & N: 10000  ni: 20 & (0.0, 0.0) & (0.66, 0.0476095) & (0.94, 0.0238683) & (0.0, 0.0) \\\\\n",
       "\t18 & N: 10000  ni: 25 & (0.0, 0.0) & (0.81, 0.0394277) & (0.91, 0.0287623) & (0.0, 0.0) \\\\\n",
       "\\end{tabular}\n"
      ],
      "text/plain": [
       "\u001b[1m18×5 DataFrame\u001b[0m\n",
       "\u001b[1m Row \u001b[0m│\u001b[1m people_obs       \u001b[0m\u001b[1m β1                \u001b[0m\u001b[1m β2                \u001b[0m\u001b[1m β3             \u001b[0m ⋯\n",
       "\u001b[1m     \u001b[0m│\u001b[90m String           \u001b[0m\u001b[90m Tuple…            \u001b[0m\u001b[90m Tuple…            \u001b[0m\u001b[90m Tuple…         \u001b[0m ⋯\n",
       "─────┼──────────────────────────────────────────────────────────────────────────\n",
       "   1 │ N: 100  ni: 2     (0.67, 0.0472582)  (0.71, 0.0456048)  (0.78, 0.041633 ⋯\n",
       "   2 │ N: 100  ni: 5     (0.76, 0.0429235)  (0.72, 0.0451261)  (0.8, 0.0402015\n",
       "   3 │ N: 100  ni: 10    (0.76, 0.0429235)  (0.78, 0.0416333)  (0.8, 0.0402015\n",
       "   4 │ N: 100  ni: 15    (0.74, 0.0440844)  (0.8, 0.0402015)   (0.89, 0.031446\n",
       "   5 │ N: 100  ni: 20    (0.67, 0.0472582)  (0.83, 0.0377525)  (0.81, 0.039427 ⋯\n",
       "   6 │ N: 100  ni: 25    (0.75, 0.0435194)  (0.86, 0.0348735)  (0.83, 0.037752\n",
       "   7 │ N: 1000  ni: 2    (0.64, 0.0482418)  (0.63, 0.0485237)  (0.88, 0.032659\n",
       "   8 │ N: 1000  ni: 5    (0.62, 0.0487832)  (0.59, 0.0494311)  (0.92, 0.027266\n",
       "   9 │ N: 1000  ni: 10   (0.67, 0.0472582)  (0.55, 0.05)       (0.92, 0.027266 ⋯\n",
       "  10 │ N: 1000  ni: 15   (0.43, 0.049757)   (0.71, 0.0456048)  (0.94, 0.023868\n",
       "  11 │ N: 1000  ni: 20   (0.29, 0.0456048)  (0.72, 0.0451261)  (0.94, 0.023868\n",
       "  12 │ N: 1000  ni: 25   (0.24, 0.0429235)  (0.78, 0.0416333)  (0.85, 0.035887\n",
       "  13 │ N: 10000  ni: 2   (0.3, 0.0460566)   (0.48, 0.0502117)  (0.87, 0.033799 ⋯\n",
       "  14 │ N: 10000  ni: 5   (0.53, 0.0501614)  (0.28, 0.0451261)  (0.88, 0.032659\n",
       "  15 │ N: 10000  ni: 10  (0.26, 0.0440844)  (0.15, 0.035887)   (0.82, 0.038612\n",
       "  16 │ N: 10000  ni: 15  (0.0, 0.0)         (0.48, 0.0502117)  (0.9, 0.0301511\n",
       "  17 │ N: 10000  ni: 20  (0.0, 0.0)         (0.66, 0.0476095)  (0.94, 0.023868 ⋯\n",
       "  18 │ N: 10000  ni: 25  (0.0, 0.0)         (0.81, 0.0394277)  (0.91, 0.028762\n",
       "\u001b[36m                                                               2 columns omitted\u001b[0m"
      ]
     },
     "execution_count": 10,
     "metadata": {},
     "output_type": "execute_result"
    }
   ],
   "source": [
    "######  supplementary table s1\n",
    "using Random, DataFrames, DelimitedFiles, Statistics\n",
    "import StatsBase: sem\n",
    "\n",
    "βθcoverage = readdlm(\"beta_sigma_coverage_multivariate_poisson_vcm$(nsims)reps_sim.csv\", ',')\n",
    "\n",
    "m  = 1\n",
    "\n",
    "covdf = DataFrame(Matrix(transpose(βθcoverage)), :auto)\n",
    "rename!(covdf, Symbol.([[\"β$i\" for i in 1:p]; [\"θ$i\" for i in 1:m]]))\n",
    "covdf[!, :samplesize] = sample_sizes\n",
    "covdf[!, :obssize] = obs_sizes\n",
    "first(covdf, 10)\n",
    "\n",
    "row_stats = [[(mean(col), sem(col)) for col = eachcol(d[!, 1:end-2])] for d = groupby(covdf, [:samplesize; :obssize])]\n",
    "df = DataFrame(row_stats, :auto)\n",
    "ss_obs = unique(\"N: \" .* sample_sizes .* \"  ni: \" .* obs_sizes)\n",
    "rename!(df, Symbol.(ss_obs))\n",
    "covdfdisplay = DataFrame([[names(df)]; collect.(eachrow(df))], \n",
    "    [:people_obs; Symbol.([[\"β$i\" for i in 1:p]; [\"θ$i\" for i in 1:m]])])\n",
    "# deletecols!(covdfdisplay, p + 2)\n",
    "covdfdisplay\n"
   ]
  },
  {
   "cell_type": "code",
   "execution_count": 11,
   "metadata": {},
   "outputs": [
    {
     "data": {
      "text/html": [
       "<div class=\"data-frame\"><p>6,064 rows × 5 columns</p><table class=\"data-frame\"><thead><tr><th></th><th>mse</th><th>obssize</th><th>samplesize</th><th>parameters</th><th>robust</th></tr><tr><th></th><th title=\"Float64\">Float64</th><th title=\"String\">String</th><th title=\"String\">String</th><th title=\"String\">String</th><th title=\"String\">String</th></tr></thead><tbody><tr><th>1</th><td>0.0129095</td><td>2</td><td>100</td><td>beta</td><td>Poisson QC</td></tr><tr><th>2</th><td>0.00124626</td><td>2</td><td>100</td><td>beta</td><td>Poisson QC</td></tr><tr><th>3</th><td>0.00203261</td><td>2</td><td>100</td><td>beta</td><td>Poisson QC</td></tr><tr><th>4</th><td>0.00287091</td><td>2</td><td>100</td><td>beta</td><td>Poisson QC</td></tr><tr><th>5</th><td>0.00740695</td><td>2</td><td>100</td><td>beta</td><td>Poisson QC</td></tr><tr><th>6</th><td>0.00490476</td><td>2</td><td>100</td><td>beta</td><td>Poisson QC</td></tr><tr><th>7</th><td>0.0015109</td><td>2</td><td>100</td><td>beta</td><td>Poisson QC</td></tr><tr><th>8</th><td>0.0276339</td><td>2</td><td>100</td><td>beta</td><td>Poisson QC</td></tr><tr><th>9</th><td>0.000812601</td><td>2</td><td>100</td><td>beta</td><td>Poisson QC</td></tr><tr><th>10</th><td>0.00266191</td><td>2</td><td>100</td><td>beta</td><td>Poisson QC</td></tr><tr><th>11</th><td>0.00339855</td><td>2</td><td>100</td><td>beta</td><td>Poisson QC</td></tr><tr><th>12</th><td>0.000657989</td><td>2</td><td>100</td><td>beta</td><td>Poisson QC</td></tr><tr><th>13</th><td>0.00149905</td><td>2</td><td>100</td><td>beta</td><td>Poisson QC</td></tr><tr><th>14</th><td>0.000631433</td><td>2</td><td>100</td><td>beta</td><td>Poisson QC</td></tr><tr><th>15</th><td>0.00595681</td><td>2</td><td>100</td><td>beta</td><td>Poisson QC</td></tr><tr><th>16</th><td>0.0290328</td><td>2</td><td>100</td><td>beta</td><td>Poisson QC</td></tr><tr><th>17</th><td>0.00584629</td><td>2</td><td>100</td><td>beta</td><td>Poisson QC</td></tr><tr><th>18</th><td>0.000835433</td><td>2</td><td>100</td><td>beta</td><td>Poisson QC</td></tr><tr><th>19</th><td>0.00150057</td><td>2</td><td>100</td><td>beta</td><td>Poisson QC</td></tr><tr><th>20</th><td>0.00270942</td><td>2</td><td>100</td><td>beta</td><td>Poisson QC</td></tr><tr><th>21</th><td>8.48229e-5</td><td>2</td><td>100</td><td>beta</td><td>Poisson QC</td></tr><tr><th>22</th><td>0.00200754</td><td>2</td><td>100</td><td>beta</td><td>Poisson QC</td></tr><tr><th>23</th><td>0.000603592</td><td>2</td><td>100</td><td>beta</td><td>Poisson QC</td></tr><tr><th>24</th><td>0.00122241</td><td>2</td><td>100</td><td>beta</td><td>Poisson QC</td></tr><tr><th>25</th><td>0.00169297</td><td>2</td><td>100</td><td>beta</td><td>Poisson QC</td></tr><tr><th>26</th><td>0.0123307</td><td>2</td><td>100</td><td>beta</td><td>Poisson QC</td></tr><tr><th>27</th><td>0.00317324</td><td>2</td><td>100</td><td>beta</td><td>Poisson QC</td></tr><tr><th>28</th><td>0.000544566</td><td>2</td><td>100</td><td>beta</td><td>Poisson QC</td></tr><tr><th>29</th><td>0.0181009</td><td>2</td><td>100</td><td>beta</td><td>Poisson QC</td></tr><tr><th>30</th><td>0.0051324</td><td>2</td><td>100</td><td>beta</td><td>Poisson QC</td></tr><tr><th>&vellip;</th><td>&vellip;</td><td>&vellip;</td><td>&vellip;</td><td>&vellip;</td><td>&vellip;</td></tr></tbody></table></div>"
      ],
      "text/latex": [
       "\\begin{tabular}{r|ccccc}\n",
       "\t& mse & obssize & samplesize & parameters & robust\\\\\n",
       "\t\\hline\n",
       "\t& Float64 & String & String & String & String\\\\\n",
       "\t\\hline\n",
       "\t1 & 0.0129095 & 2 & 100 & beta & Poisson QC \\\\\n",
       "\t2 & 0.00124626 & 2 & 100 & beta & Poisson QC \\\\\n",
       "\t3 & 0.00203261 & 2 & 100 & beta & Poisson QC \\\\\n",
       "\t4 & 0.00287091 & 2 & 100 & beta & Poisson QC \\\\\n",
       "\t5 & 0.00740695 & 2 & 100 & beta & Poisson QC \\\\\n",
       "\t6 & 0.00490476 & 2 & 100 & beta & Poisson QC \\\\\n",
       "\t7 & 0.0015109 & 2 & 100 & beta & Poisson QC \\\\\n",
       "\t8 & 0.0276339 & 2 & 100 & beta & Poisson QC \\\\\n",
       "\t9 & 0.000812601 & 2 & 100 & beta & Poisson QC \\\\\n",
       "\t10 & 0.00266191 & 2 & 100 & beta & Poisson QC \\\\\n",
       "\t11 & 0.00339855 & 2 & 100 & beta & Poisson QC \\\\\n",
       "\t12 & 0.000657989 & 2 & 100 & beta & Poisson QC \\\\\n",
       "\t13 & 0.00149905 & 2 & 100 & beta & Poisson QC \\\\\n",
       "\t14 & 0.000631433 & 2 & 100 & beta & Poisson QC \\\\\n",
       "\t15 & 0.00595681 & 2 & 100 & beta & Poisson QC \\\\\n",
       "\t16 & 0.0290328 & 2 & 100 & beta & Poisson QC \\\\\n",
       "\t17 & 0.00584629 & 2 & 100 & beta & Poisson QC \\\\\n",
       "\t18 & 0.000835433 & 2 & 100 & beta & Poisson QC \\\\\n",
       "\t19 & 0.00150057 & 2 & 100 & beta & Poisson QC \\\\\n",
       "\t20 & 0.00270942 & 2 & 100 & beta & Poisson QC \\\\\n",
       "\t21 & 8.48229e-5 & 2 & 100 & beta & Poisson QC \\\\\n",
       "\t22 & 0.00200754 & 2 & 100 & beta & Poisson QC \\\\\n",
       "\t23 & 0.000603592 & 2 & 100 & beta & Poisson QC \\\\\n",
       "\t24 & 0.00122241 & 2 & 100 & beta & Poisson QC \\\\\n",
       "\t25 & 0.00169297 & 2 & 100 & beta & Poisson QC \\\\\n",
       "\t26 & 0.0123307 & 2 & 100 & beta & Poisson QC \\\\\n",
       "\t27 & 0.00317324 & 2 & 100 & beta & Poisson QC \\\\\n",
       "\t28 & 0.000544566 & 2 & 100 & beta & Poisson QC \\\\\n",
       "\t29 & 0.0181009 & 2 & 100 & beta & Poisson QC \\\\\n",
       "\t30 & 0.0051324 & 2 & 100 & beta & Poisson QC \\\\\n",
       "\t$\\dots$ & $\\dots$ & $\\dots$ & $\\dots$ & $\\dots$ & $\\dots$ \\\\\n",
       "\\end{tabular}\n"
      ],
      "text/plain": [
       "\u001b[1m6064×5 DataFrame\u001b[0m\n",
       "\u001b[1m  Row \u001b[0m│\u001b[1m mse         \u001b[0m\u001b[1m obssize \u001b[0m\u001b[1m samplesize \u001b[0m\u001b[1m parameters \u001b[0m\u001b[1m robust       \u001b[0m\n",
       "\u001b[1m      \u001b[0m│\u001b[90m Float64     \u001b[0m\u001b[90m String  \u001b[0m\u001b[90m String     \u001b[0m\u001b[90m String     \u001b[0m\u001b[90m String       \u001b[0m\n",
       "──────┼────────────────────────────────────────────────────────────\n",
       "    1 │ 0.0129095    2        100         beta        Poisson QC\n",
       "    2 │ 0.00124626   2        100         beta        Poisson QC\n",
       "    3 │ 0.00203261   2        100         beta        Poisson QC\n",
       "    4 │ 0.00287091   2        100         beta        Poisson QC\n",
       "    5 │ 0.00740695   2        100         beta        Poisson QC\n",
       "    6 │ 0.00490476   2        100         beta        Poisson QC\n",
       "    7 │ 0.0015109    2        100         beta        Poisson QC\n",
       "    8 │ 0.0276339    2        100         beta        Poisson QC\n",
       "    9 │ 0.000812601  2        100         beta        Poisson QC\n",
       "   10 │ 0.00266191   2        100         beta        Poisson QC\n",
       "   11 │ 0.00339855   2        100         beta        Poisson QC\n",
       "  ⋮   │      ⋮          ⋮         ⋮           ⋮            ⋮\n",
       " 6055 │ 4.266e-7     25       10000       theta       Poisson GLMM\n",
       " 6056 │ 6.85132e-9   25       10000       theta       Poisson GLMM\n",
       " 6057 │ 1.54353e-9   25       10000       theta       Poisson GLMM\n",
       " 6058 │ 1.10483e-6   25       10000       theta       Poisson GLMM\n",
       " 6059 │ 6.27737e-7   25       10000       theta       Poisson GLMM\n",
       " 6060 │ 4.54549e-7   25       10000       theta       Poisson GLMM\n",
       " 6061 │ 1.05383e-8   25       10000       theta       Poisson GLMM\n",
       " 6062 │ 1.80477e-7   25       10000       theta       Poisson GLMM\n",
       " 6063 │ 2.38607e-7   25       10000       theta       Poisson GLMM\n",
       " 6064 │ 4.11361e-8   25       10000       theta       Poisson GLMM\n",
       "\u001b[36m                                                  6043 rows omitted\u001b[0m"
      ]
     },
     "execution_count": 11,
     "metadata": {},
     "output_type": "execute_result"
    }
   ],
   "source": [
    "#### \n",
    "#import data and reorganize to create figure\n",
    "using Random, DataFrames, DelimitedFiles, Statistics, RCall, Printf\n",
    "import StatsBase: sem\n",
    "\n",
    "βMseresult = vec(readdlm(\"mse_beta_multivariate_poisson_vcm$(nsims)reps_sim.csv\", ','))\n",
    "θMseresult = vec(readdlm(\"mse_Sigma_multivariate_poisson_vcm$(nsims)reps_sim.csv\", ','))\n",
    "\n",
    "βMseresult_GLMM = vec(readdlm(\"mse_beta_GLMM_multivariate_poisson_vcm$(nsims)reps_sim.csv\", ','))\n",
    "θMseresult_GLMM = vec(readdlm(\"mse_Sigma_GLMM_multivariate_poisson_vcm$(nsims)reps_sim.csv\", ','))\n",
    "\n",
    "\n",
    "p = 3; m = 1\n",
    "sample_sizes = repeat(string.(samplesizes), inner = nsims * length(ns))\n",
    "obs_sizes = repeat(string.(ns), inner = nsims, outer = length(samplesizes))\n",
    "msedf1 = DataFrame(βmse = βMseresult, thetamse = θMseresult, \n",
    "    samplesize = sample_sizes, obssize = obs_sizes)\n",
    "\n",
    "msedf2 = DataFrame(βmse = βMseresult_GLMM, thetamse = θMseresult_GLMM, \n",
    "    samplesize = sample_sizes, obssize = obs_sizes)\n",
    "\n",
    "#rename to make parsing easier for R.\n",
    "\n",
    "msedf1 = deepcopy(msedf1)\n",
    "rename!(msedf1, [\"betamse\"\n",
    "    \"thetamse\"\n",
    "    \"samplesize\"\n",
    " \"obssize\"]);\n",
    "\n",
    "msedf2 = deepcopy(msedf2)\n",
    "rename!(msedf2, [\"betamse\"\n",
    "    \"thetamse\"\n",
    "    \"samplesize\"\n",
    " \"obssize\"]);\n",
    "\n",
    "mses = [msedf1[!, :betamse]; msedf1[!, :thetamse]; msedf2[!, :betamse]; msedf2[!, :thetamse]]\n",
    "    # msedfnormR[!, :betamse]; msedfnormR[!, :taumse]; msedfnormR[!, :Sigmamse]]\n",
    "obssize = [collect([repeat(msedf1[!, :obssize], 2)]...) ; collect([repeat(msedf2[!, :obssize], 2)]...)]\n",
    "#40\n",
    "samplesize = [collect([repeat(msedf1[!, :samplesize], 2)]...) ; collect([repeat(msedf2[!, :samplesize], 2)]...)]\n",
    "\n",
    "parameters = [collect([repeat(string.([:beta, :theta]), inner = nsims * length(ns) * length(samplesizes))]...) ; collect([repeat(string.([:beta, :theta]), inner = nsims * length(ns) * length(samplesizes))]...)]\n",
    "robust = [collect([repeat([\"Poisson QC\"], 2 * nsims * length(ns) * length(samplesizes))]...); collect([repeat([\"Poisson GLMM\"],  2 * nsims * length(ns) * length(samplesizes))]...)]\n",
    "\n",
    "msedfR = DataFrame(mse = mses, obssize = obssize, samplesize = samplesize,\n",
    "    parameters = parameters, robust = robust)\n",
    "\n",
    "#5 of the 30,000 simulations did not converge, filter out\n",
    "msedfR = filter(x -> !isnan(x.mse), msedfR)\n",
    "# additionally, there are 5 where an error was not caught so it did not try a differnt solver\n",
    "msedfR = filter(x -> x.mse < 40000, msedfR)"
   ]
  },
  {
   "cell_type": "code",
   "execution_count": 12,
   "metadata": {},
   "outputs": [
    {
     "name": "stderr",
     "output_type": "stream",
     "text": [
      "┌ Warning: RCall.jl: Warning: package ‘scales’ was built under R version 4.0.2\n",
      "└ @ RCall /Users/sarahji/.julia/packages/RCall/6kphM/src/io.jl:172\n",
      "┌ Warning: RCall.jl: Warning: package ‘data.table’ was built under R version 4.0.2\n",
      "└ @ RCall /Users/sarahji/.julia/packages/RCall/6kphM/src/io.jl:172\n"
     ]
    },
    {
     "data": {
      "image/png": "[encoded data removed]"
     },
     "metadata": {},
     "output_type": "display_data"
    },
    {
     "data": {
      "text/plain": [
       "RObject{VecSxp}\n"
      ]
     },
     "execution_count": 12,
     "metadata": {},
     "output_type": "execute_result"
    }
   ],
   "source": [
    "### working on figure next\n",
    "@rput msedfR\n",
    "\n",
    "R\"\"\"\n",
    "library(scales)\n",
    "library(ggplot2)\n",
    "library(data.table)\n",
    "\n",
    "msedfR = data.table(msedfR)\n",
    "\n",
    "msedfR[parameters == \"beta\",y_min := 10^-4]\n",
    "msedfR[parameters == \"beta\",y_max := 10^-2]\n",
    "msedfR[parameters == \"theta\",y_min := 10^-5]\n",
    "msedfR[parameters == \"theta\",y_max := 10^1]\n",
    "\n",
    "#msedfR[parameters == \"beta\",y_min := 10^-8]\n",
    "#msedfR[parameters == \"beta\",y_max := 10^-2]\n",
    "#msedfR[parameters == \"tau\",y_min := 10^-8]\n",
    "#msedfR[parameters == \"tau\",y_max := 10^-2]\n",
    "#msedfR[parameters == \"Sigma\",y_min := 10^-5]\n",
    "#msedfR[parameters == \"Sigma\",y_max := 10^-2]\n",
    "\n",
    "\n",
    "msedfR$obssize = factor(msedfR$obssize, levels = c('2', '5', '10', '15', '20', '25'))\n",
    "msedfR$samplesize = factor(msedfR$samplesize, levels = c('100', '1000', '10000'))\n",
    "msedfR$parameters = factor(msedfR$parameters, levels = c('beta', 'theta'), labels = c(beta = expression(hat(bold(beta))), thetaa = expression(hat(bold(theta))[])))\n",
    "msedfR$robust <- factor(msedfR$robust, levels = c('Poisson QC', 'Poisson GLMM'),\n",
    "    labels = c(expression(paste(\"Poisson QC\")), expression(paste(\"Poisson GLMM\"))))\n",
    "\n",
    "\n",
    "#mseplot <- ggplot(msedfR[msedfR$mse < 10^0, ], aes(x=samplesize, y=mse, fill=obssize)) + \n",
    "mseplot = ggplot(msedfR[msedfR$mse < 10^3, ], aes(x=samplesize, y=mse, fill=obssize)) + \n",
    "  #geom_boxplot(outlier.size = 0.0, outlier.alpha = 0) +\n",
    "  geom_boxplot(outlier.size = 0.25) +\n",
    "#    geom_violin() +\n",
    "    facet_grid(parameters ~ robust, labeller = label_parsed, scales = \"free_y\") +\n",
    "  theme(legend.position=\"right\", legend.key = element_blank(), axis.text.x = element_text(angle=0, size=30),\n",
    "        axis.text.y = element_text(angle=0, size=30), axis.title.x = element_text(size = 30, face=\"bold\"), \n",
    "        axis.title.y = element_text(size = 40, face=\"bold\"), legend.title = element_text(size = 30, face=\"bold\"),\n",
    "        panel.grid.major = element_blank(), panel.grid.minor = element_blank(),\n",
    "        legend.text=element_text(size=30), panel.background = element_rect(fill = NA, color = \"black\"),\n",
    "        #panel.background = element_blank(), #panel.border = element_blank(),\n",
    "        axis.line = element_line(color = 'black',size=0.3), plot.title = element_text(hjust = 0.5),\n",
    "        strip.background = element_rect(colour=\"black\", fill=\"white\"), strip.text.y = element_text(angle = 0, size=75, face=\"bold\"),\n",
    "        strip.text.x = element_text(size=25)) + \n",
    "  scale_fill_manual(values = c(\"#c85f55\",\n",
    "\"#a964bf\",\n",
    "\"#8db352\",\n",
    "\"#fa7300\",\n",
    "\"#05aec0\",\n",
    "\"#ff1493\")) +\n",
    "#scale_y_log10(breaks = scales::trans_breaks(\"log10\", function(x) 10^x)) +\n",
    "#scale_y_log10(breaks = 10^(-8:8), limit=c(10^-8, 10^2)) + \n",
    "scale_y_log10(breaks = 10^seq(-10, 10, 2), labels=trans_format(\"log10\", math_format(10^.x))) + #, limit=c(10^-8, 10^2)) +\n",
    "  labs(x = \"Sample Size\", y = \"MSE of Parameter Estimates\", fill = \"Cluster Size\") +\n",
    "geom_blank(aes(y = y_max)) + \n",
    "geom_blank(aes(y = y_min)) \n",
    "\n",
    "\"\"\""
   ]
  },
  {
   "cell_type": "code",
   "execution_count": 13,
   "metadata": {},
   "outputs": [
    {
     "data": {
      "text/plain": [
       "RObject{StrSxp}\n",
       "[1] \"sim_glmm_updated_msefacetplot_poisson_0.05_betaunif2.png\"\n"
      ]
     },
     "execution_count": 13,
     "metadata": {},
     "output_type": "execute_result"
    }
   ],
   "source": [
    "R\"\"\"\n",
    "ggsave('sim_glmm_updated_msefacetplot_poisson_0.05_betaunif2.png', mseplot, width = 20, height = 15, units = 'in', dpi = 450)\n",
    "\"\"\""
   ]
  },
  {
   "cell_type": "code",
   "execution_count": null,
   "metadata": {},
   "outputs": [],
   "source": []
  },
  {
   "cell_type": "code",
   "execution_count": null,
   "metadata": {},
   "outputs": [],
   "source": []
  }
 ],
 "metadata": {
  "@webio": {
   "lastCommId": null,
   "lastKernelId": null
  },
  "kernelspec": {
   "display_name": "Julia 1.6.2",
   "language": "julia",
   "name": "julia-1.6"
  },
  "language_info": {
   "file_extension": ".jl",
   "mimetype": "application/julia",
   "name": "julia",
   "version": "1.6.2"
  }
 },
 "nbformat": 4,
 "nbformat_minor": 2
}
