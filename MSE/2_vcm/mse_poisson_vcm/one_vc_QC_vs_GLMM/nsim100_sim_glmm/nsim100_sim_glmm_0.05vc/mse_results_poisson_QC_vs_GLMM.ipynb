{
 "cells": [
  {
   "cell_type": "markdown",
   "metadata": {},
   "source": [
    "## Poisson VCM Results \n",
    "\n",
    "This notebook goes over the code needed to reproduce the results from the MSE and time figures for the Poisson base distribution with Log Link and covariance matrix $\\Gamma$ structured under variance component model framework as follows:\n",
    "\n",
    "$$\n",
    "\\Gamma = 0.05 * \\mathbf{1_{n} 1_{n}^\\top}\n",
    "$$\n",
    "\n",
    "In this example simulate three fixed effects under GLMM with $\\beta \\sim$ randn(Uniform(-0.2, 0.2), p) where p = 3 fixed effects.\n",
    "\n",
    "We run each scenario 100 times and compare the fit of ours with that of GLMM's random intercept model from MixedModels.jl. "
   ]
  },
  {
   "cell_type": "code",
   "execution_count": 1,
   "metadata": {},
   "outputs": [
    {
     "name": "stdout",
     "output_type": "stream",
     "text": [
      "Julia Version 1.6.2\n",
      "Commit 1b93d53fc4 (2021-07-14 15:36 UTC)\n",
      "Platform Info:\n",
      "  OS: macOS (x86_64-apple-darwin18.7.0)\n",
      "  CPU: Intel(R) Core(TM) i9-9880H CPU @ 2.30GHz\n",
      "  WORD_SIZE: 64\n",
      "  LIBM: libopenlibm\n",
      "  LLVM: libLLVM-11.0.1 (ORCJIT, skylake)\n"
     ]
    }
   ],
   "source": [
    "versioninfo()"
   ]
  },
  {
   "cell_type": "code",
   "execution_count": 2,
   "metadata": {},
   "outputs": [],
   "source": [
    "using GLMCopula, DelimitedFiles, LinearAlgebra, Random, GLM\n",
    "using Random, Roots, SpecialFunctions, DataFrames"
   ]
  },
  {
   "cell_type": "code",
   "execution_count": 3,
   "metadata": {},
   "outputs": [
    {
     "data": {
      "text/plain": [
       "100"
      ]
     },
     "execution_count": 3,
     "metadata": {},
     "output_type": "execute_result"
    }
   ],
   "source": [
    "p = 3    # number of fixed effects, including intercept\n",
    "m = 1    # number of variance components\n",
    "# true parameter values\n",
    "Random.seed!(1234)\n",
    "βtrue = rand(Uniform(-0.2, 0.2), p)\n",
    "θtrue = [0.05]\n",
    "\n",
    "# generate data\n",
    "intervals = zeros(p + m, 2) #hold intervals\n",
    "curcoverage = zeros(p + m) #hold current coverage resutls\n",
    "trueparams = [βtrue; θtrue] #hold true parameters\n",
    "\n",
    "#simulation parameters\n",
    "samplesizes = [100; 1000; 10000]\n",
    "ns = [2; 5; 10; 15; 20; 25]\n",
    "nsims = 100"
   ]
  },
  {
   "cell_type": "code",
   "execution_count": 4,
   "metadata": {},
   "outputs": [
    {
     "name": "stderr",
     "output_type": "stream",
     "text": [
      "┌ Info: reading in the files with results\n",
      "└ @ Main In[4]:1\n"
     ]
    },
    {
     "data": {
      "text/plain": [
       "1800-element Vector{Float64}:\n",
       " 0.020346993\n",
       " 0.022782421\n",
       " 0.027285242\n",
       " 0.023599988\n",
       " 0.022728502\n",
       " 0.03251899\n",
       " 0.031738866\n",
       " 0.019443478\n",
       " 0.033009163\n",
       " 0.026253706\n",
       " 0.022701187\n",
       " 0.022845478\n",
       " 0.017799444\n",
       " ⋮\n",
       " 4.556526616\n",
       " 5.396326236\n",
       " 2.414753097\n",
       " 2.374761458\n",
       " 2.696133527\n",
       " 5.039592492\n",
       " 3.206923222\n",
       " 4.101671593\n",
       " 2.621898143\n",
       " 2.529532508\n",
       " 3.000790469\n",
       " 2.739042233"
      ]
     },
     "execution_count": 4,
     "metadata": {},
     "output_type": "execute_result"
    }
   ],
   "source": [
    "@info \"reading in the files with results\"\n",
    "βMseresult = vec(readdlm(\"mse_beta_multivariate_poisson_vcm$(nsims)reps_sim.csv\", ','))\n",
    "θMseresult = vec(readdlm(\"mse_Sigma_multivariate_poisson_vcm$(nsims)reps_sim.csv\", ','))\n",
    "fittimes_QC = vec(readdlm(\"fittimes_multivariate_poisson_vcm$(nsims)reps_sim.csv\", ','))"
   ]
  },
  {
   "cell_type": "code",
   "execution_count": 5,
   "metadata": {},
   "outputs": [
    {
     "data": {
      "text/plain": [
       "1800-element Vector{Float64}:\n",
       "  0.314858801\n",
       "  0.017801422\n",
       "  0.040869124\n",
       "  0.013792738\n",
       "  0.021240331\n",
       "  0.019398926\n",
       "  0.015907648\n",
       "  0.022609157\n",
       "  0.016208484\n",
       "  0.032626664\n",
       "  0.04229973\n",
       "  0.015224128\n",
       "  0.01629851\n",
       "  ⋮\n",
       " 43.406708621\n",
       " 39.654286839\n",
       " 25.525088474\n",
       " 40.481895318\n",
       " 29.379648966\n",
       " 40.471409862\n",
       " 51.664472352\n",
       " 34.536859093\n",
       " 39.838058275\n",
       " 34.222775609\n",
       " 37.977277988\n",
       " 36.367379479"
      ]
     },
     "execution_count": 5,
     "metadata": {},
     "output_type": "execute_result"
    }
   ],
   "source": [
    "fittimes_GLMM = vec(readdlm(\"fittimes_GLMM_multivariate_poisson_vcm$(nsims)reps_sim.csv\", ','))"
   ]
  },
  {
   "cell_type": "code",
   "execution_count": 6,
   "metadata": {},
   "outputs": [
    {
     "name": "stderr",
     "output_type": "stream",
     "text": [
      "┌ Info: making results table Quasi-Copula\n",
      "└ @ Main In[6]:2\n"
     ]
    },
    {
     "data": {
      "text/html": [
       "<div class=\"data-frame\"><p>18 rows × 8 columns</p><table class=\"data-frame\"><thead><tr><th></th><th>samplesize</th><th>obssize</th><th>fittime</th><th>se</th><th>nobs</th><th>fitmin</th><th>fitmax</th><th>perobsratio</th></tr><tr><th></th><th title=\"String\">String</th><th title=\"String\">String</th><th title=\"Float64\">Float64</th><th title=\"Float64\">Float64</th><th title=\"Int64\">Int64</th><th title=\"Float64\">Float64</th><th title=\"Float64\">Float64</th><th title=\"Float64\">Float64</th></tr></thead><tbody><tr><th>1</th><td>100</td><td>2</td><td>0.0264511</td><td>0.000532412</td><td>200</td><td>0.0259186</td><td>0.0275159</td><td>0.000132255</td></tr><tr><th>2</th><td>100</td><td>5</td><td>0.0266423</td><td>0.0004496</td><td>500</td><td>0.0261927</td><td>0.0275415</td><td>5.32846e-5</td></tr><tr><th>3</th><td>100</td><td>10</td><td>0.0304783</td><td>0.000613273</td><td>1000</td><td>0.0298651</td><td>0.0317049</td><td>3.04783e-5</td></tr><tr><th>4</th><td>100</td><td>15</td><td>0.0339443</td><td>0.000625965</td><td>1500</td><td>0.0333183</td><td>0.0351962</td><td>2.26295e-5</td></tr><tr><th>5</th><td>100</td><td>20</td><td>0.0571998</td><td>0.00241323</td><td>2000</td><td>0.0547865</td><td>0.0620262</td><td>2.85999e-5</td></tr><tr><th>6</th><td>100</td><td>25</td><td>0.0447884</td><td>0.00107091</td><td>2500</td><td>0.0437175</td><td>0.0469302</td><td>1.79154e-5</td></tr><tr><th>7</th><td>1000</td><td>2</td><td>0.0665296</td><td>0.00129219</td><td>2000</td><td>0.0652374</td><td>0.069114</td><td>3.32648e-5</td></tr><tr><th>8</th><td>1000</td><td>5</td><td>0.0952782</td><td>0.00171632</td><td>5000</td><td>0.0935619</td><td>0.0987108</td><td>1.90556e-5</td></tr><tr><th>9</th><td>1000</td><td>10</td><td>0.155427</td><td>0.00234141</td><td>10000</td><td>0.153085</td><td>0.16011</td><td>1.55427e-5</td></tr><tr><th>10</th><td>1000</td><td>15</td><td>0.184345</td><td>0.00252662</td><td>15000</td><td>0.181819</td><td>0.189399</td><td>1.22897e-5</td></tr><tr><th>11</th><td>1000</td><td>20</td><td>0.216545</td><td>0.00205718</td><td>20000</td><td>0.214488</td><td>0.220659</td><td>1.08272e-5</td></tr><tr><th>12</th><td>1000</td><td>25</td><td>0.265113</td><td>0.00178752</td><td>25000</td><td>0.263325</td><td>0.268688</td><td>1.06045e-5</td></tr><tr><th>13</th><td>10000</td><td>2</td><td>0.803068</td><td>0.0298278</td><td>20000</td><td>0.773241</td><td>0.862724</td><td>4.01534e-5</td></tr><tr><th>14</th><td>10000</td><td>5</td><td>0.951047</td><td>0.0297371</td><td>50000</td><td>0.92131</td><td>1.01052</td><td>1.90209e-5</td></tr><tr><th>15</th><td>10000</td><td>10</td><td>1.45994</td><td>0.0368201</td><td>100000</td><td>1.42312</td><td>1.53358</td><td>1.45994e-5</td></tr><tr><th>16</th><td>10000</td><td>15</td><td>2.1225</td><td>0.0525746</td><td>150000</td><td>2.06992</td><td>2.22765</td><td>1.415e-5</td></tr><tr><th>17</th><td>10000</td><td>20</td><td>2.67115</td><td>0.0645432</td><td>200000</td><td>2.60661</td><td>2.80024</td><td>1.33557e-5</td></tr><tr><th>18</th><td>10000</td><td>25</td><td>3.4512</td><td>0.111671</td><td>250000</td><td>3.33953</td><td>3.67454</td><td>1.38048e-5</td></tr></tbody></table></div>"
      ],
      "text/latex": [
       "\\begin{tabular}{r|cccccccc}\n",
       "\t& samplesize & obssize & fittime & se & nobs & fitmin & fitmax & perobsratio\\\\\n",
       "\t\\hline\n",
       "\t& String & String & Float64 & Float64 & Int64 & Float64 & Float64 & Float64\\\\\n",
       "\t\\hline\n",
       "\t1 & 100 & 2 & 0.0264511 & 0.000532412 & 200 & 0.0259186 & 0.0275159 & 0.000132255 \\\\\n",
       "\t2 & 100 & 5 & 0.0266423 & 0.0004496 & 500 & 0.0261927 & 0.0275415 & 5.32846e-5 \\\\\n",
       "\t3 & 100 & 10 & 0.0304783 & 0.000613273 & 1000 & 0.0298651 & 0.0317049 & 3.04783e-5 \\\\\n",
       "\t4 & 100 & 15 & 0.0339443 & 0.000625965 & 1500 & 0.0333183 & 0.0351962 & 2.26295e-5 \\\\\n",
       "\t5 & 100 & 20 & 0.0571998 & 0.00241323 & 2000 & 0.0547865 & 0.0620262 & 2.85999e-5 \\\\\n",
       "\t6 & 100 & 25 & 0.0447884 & 0.00107091 & 2500 & 0.0437175 & 0.0469302 & 1.79154e-5 \\\\\n",
       "\t7 & 1000 & 2 & 0.0665296 & 0.00129219 & 2000 & 0.0652374 & 0.069114 & 3.32648e-5 \\\\\n",
       "\t8 & 1000 & 5 & 0.0952782 & 0.00171632 & 5000 & 0.0935619 & 0.0987108 & 1.90556e-5 \\\\\n",
       "\t9 & 1000 & 10 & 0.155427 & 0.00234141 & 10000 & 0.153085 & 0.16011 & 1.55427e-5 \\\\\n",
       "\t10 & 1000 & 15 & 0.184345 & 0.00252662 & 15000 & 0.181819 & 0.189399 & 1.22897e-5 \\\\\n",
       "\t11 & 1000 & 20 & 0.216545 & 0.00205718 & 20000 & 0.214488 & 0.220659 & 1.08272e-5 \\\\\n",
       "\t12 & 1000 & 25 & 0.265113 & 0.00178752 & 25000 & 0.263325 & 0.268688 & 1.06045e-5 \\\\\n",
       "\t13 & 10000 & 2 & 0.803068 & 0.0298278 & 20000 & 0.773241 & 0.862724 & 4.01534e-5 \\\\\n",
       "\t14 & 10000 & 5 & 0.951047 & 0.0297371 & 50000 & 0.92131 & 1.01052 & 1.90209e-5 \\\\\n",
       "\t15 & 10000 & 10 & 1.45994 & 0.0368201 & 100000 & 1.42312 & 1.53358 & 1.45994e-5 \\\\\n",
       "\t16 & 10000 & 15 & 2.1225 & 0.0525746 & 150000 & 2.06992 & 2.22765 & 1.415e-5 \\\\\n",
       "\t17 & 10000 & 20 & 2.67115 & 0.0645432 & 200000 & 2.60661 & 2.80024 & 1.33557e-5 \\\\\n",
       "\t18 & 10000 & 25 & 3.4512 & 0.111671 & 250000 & 3.33953 & 3.67454 & 1.38048e-5 \\\\\n",
       "\\end{tabular}\n"
      ],
      "text/plain": [
       "\u001b[1m18×8 DataFrame\u001b[0m\n",
       "\u001b[1m Row \u001b[0m│\u001b[1m samplesize \u001b[0m\u001b[1m obssize \u001b[0m\u001b[1m fittime   \u001b[0m\u001b[1m se          \u001b[0m\u001b[1m nobs   \u001b[0m\u001b[1m fitmin    \u001b[0m\u001b[1m fitmax \u001b[0m ⋯\n",
       "\u001b[1m     \u001b[0m│\u001b[90m String     \u001b[0m\u001b[90m String  \u001b[0m\u001b[90m Float64   \u001b[0m\u001b[90m Float64     \u001b[0m\u001b[90m Int64  \u001b[0m\u001b[90m Float64   \u001b[0m\u001b[90m Float64\u001b[0m ⋯\n",
       "─────┼──────────────────────────────────────────────────────────────────────────\n",
       "   1 │ 100         2        0.0264511  0.000532412     200  0.0259186  0.02751 ⋯\n",
       "   2 │ 100         5        0.0266423  0.0004496       500  0.0261927  0.02754\n",
       "   3 │ 100         10       0.0304783  0.000613273    1000  0.0298651  0.03170\n",
       "   4 │ 100         15       0.0339443  0.000625965    1500  0.0333183  0.03519\n",
       "   5 │ 100         20       0.0571998  0.00241323     2000  0.0547865  0.06202 ⋯\n",
       "   6 │ 100         25       0.0447884  0.00107091     2500  0.0437175  0.04693\n",
       "   7 │ 1000        2        0.0665296  0.00129219     2000  0.0652374  0.06911\n",
       "   8 │ 1000        5        0.0952782  0.00171632     5000  0.0935619  0.09871\n",
       "   9 │ 1000        10       0.155427   0.00234141    10000  0.153085   0.16011 ⋯\n",
       "  10 │ 1000        15       0.184345   0.00252662    15000  0.181819   0.18939\n",
       "  11 │ 1000        20       0.216545   0.00205718    20000  0.214488   0.22065\n",
       "  12 │ 1000        25       0.265113   0.00178752    25000  0.263325   0.26868\n",
       "  13 │ 10000       2        0.803068   0.0298278     20000  0.773241   0.86272 ⋯\n",
       "  14 │ 10000       5        0.951047   0.0297371     50000  0.92131    1.01052\n",
       "  15 │ 10000       10       1.45994    0.0368201    100000  1.42312    1.53358\n",
       "  16 │ 10000       15       2.1225     0.0525746    150000  2.06992    2.22765\n",
       "  17 │ 10000       20       2.67115    0.0645432    200000  2.60661    2.80024 ⋯\n",
       "  18 │ 10000       25       3.4512     0.111671     250000  3.33953    3.67454\n",
       "\u001b[36m                                                               2 columns omitted\u001b[0m"
      ]
     },
     "execution_count": 6,
     "metadata": {},
     "output_type": "execute_result"
    }
   ],
   "source": [
    "#simulation parameters\n",
    "@info \"making results table Quasi-Copula\"\n",
    "sample_sizes = repeat(string.(samplesizes), inner = nsims * length(ns))\n",
    "obs_sizes = repeat(string.(ns), inner = nsims, outer = length(samplesizes))\n",
    "\n",
    "msedf = DataFrame(samplesize = sample_sizes, obssize = obs_sizes, fittimes = fittimes_QC)\n",
    "timedf1 = combine(groupby(msedf, [:samplesize, :obssize]), :fittimes => mean => :fittime,\n",
    "    :fittimes => x -> (std(x)/sqrt(length(x))))\n",
    "rename!(timedf1, Dict(:fittimes_function => \"se\"))\n",
    "timedf1[!, :nobs] = Meta.parse.(timedf1[!, :samplesize]) .* Meta.parse.(timedf1[!, :obssize])\n",
    "timedf1[!, :fitmin] = timedf1[!, :fittime] - timedf1[!, :se]\n",
    "timedf1[!, :fitmax] = timedf1[!, :fittime] + 2 * timedf1[!, :se]\n",
    "timedf1[!, :perobsratio] = timedf1[!, :fittime] ./ timedf1[!, :nobs]\n",
    "timedf1"
   ]
  },
  {
   "cell_type": "code",
   "execution_count": 7,
   "metadata": {},
   "outputs": [
    {
     "name": "stderr",
     "output_type": "stream",
     "text": [
      "┌ Info: making results table GLMM\n",
      "└ @ Main In[7]:2\n"
     ]
    },
    {
     "data": {
      "text/html": [
       "<div class=\"data-frame\"><p>18 rows × 8 columns</p><table class=\"data-frame\"><thead><tr><th></th><th>samplesize</th><th>obssize</th><th>fittime</th><th>se</th><th>nobs</th><th>fitmin</th><th>fitmax</th><th>perobsratio</th></tr><tr><th></th><th title=\"String\">String</th><th title=\"String\">String</th><th title=\"Float64\">Float64</th><th title=\"Float64\">Float64</th><th title=\"Int64\">Int64</th><th title=\"Float64\">Float64</th><th title=\"Float64\">Float64</th><th title=\"Float64\">Float64</th></tr></thead><tbody><tr><th>1</th><td>100</td><td>2</td><td>0.0311913</td><td>0.0033823</td><td>200</td><td>0.027809</td><td>0.0345736</td><td>0.000155957</td></tr><tr><th>2</th><td>100</td><td>5</td><td>0.0720473</td><td>0.00313516</td><td>500</td><td>0.0689121</td><td>0.0751824</td><td>0.000144095</td></tr><tr><th>3</th><td>100</td><td>10</td><td>0.1464</td><td>0.00632991</td><td>1000</td><td>0.140071</td><td>0.15273</td><td>0.0001464</td></tr><tr><th>4</th><td>100</td><td>15</td><td>0.233226</td><td>0.00725546</td><td>1500</td><td>0.225971</td><td>0.240481</td><td>0.000155484</td></tr><tr><th>5</th><td>100</td><td>20</td><td>0.320999</td><td>0.0172653</td><td>2000</td><td>0.303733</td><td>0.338264</td><td>0.000160499</td></tr><tr><th>6</th><td>100</td><td>25</td><td>0.369097</td><td>0.00900802</td><td>2500</td><td>0.360089</td><td>0.378105</td><td>0.000147639</td></tr><tr><th>7</th><td>1000</td><td>2</td><td>0.2562</td><td>0.00675333</td><td>2000</td><td>0.249447</td><td>0.262954</td><td>0.0001281</td></tr><tr><th>8</th><td>1000</td><td>5</td><td>0.809164</td><td>0.0175703</td><td>5000</td><td>0.791593</td><td>0.826734</td><td>0.000161833</td></tr><tr><th>9</th><td>1000</td><td>10</td><td>1.59196</td><td>0.0273481</td><td>10000</td><td>1.56461</td><td>1.6193</td><td>0.000159196</td></tr><tr><th>10</th><td>1000</td><td>15</td><td>2.28872</td><td>0.0463164</td><td>15000</td><td>2.2424</td><td>2.33503</td><td>0.000152581</td></tr><tr><th>11</th><td>1000</td><td>20</td><td>3.20261</td><td>0.0587599</td><td>20000</td><td>3.14385</td><td>3.26137</td><td>0.00016013</td></tr><tr><th>12</th><td>1000</td><td>25</td><td>3.8717</td><td>0.0696932</td><td>25000</td><td>3.802</td><td>3.94139</td><td>0.000154868</td></tr><tr><th>13</th><td>10000</td><td>2</td><td>2.61961</td><td>0.0445714</td><td>20000</td><td>2.57504</td><td>2.66418</td><td>0.000130981</td></tr><tr><th>14</th><td>10000</td><td>5</td><td>6.57711</td><td>0.0960111</td><td>50000</td><td>6.4811</td><td>6.67313</td><td>0.000131542</td></tr><tr><th>15</th><td>10000</td><td>10</td><td>15.587</td><td>0.23947</td><td>100000</td><td>15.3475</td><td>15.8265</td><td>0.00015587</td></tr><tr><th>16</th><td>10000</td><td>15</td><td>23.9947</td><td>0.40852</td><td>150000</td><td>23.5862</td><td>24.4033</td><td>0.000159965</td></tr><tr><th>17</th><td>10000</td><td>20</td><td>32.9921</td><td>0.620318</td><td>200000</td><td>32.3717</td><td>33.6124</td><td>0.00016496</td></tr><tr><th>18</th><td>10000</td><td>25</td><td>39.457</td><td>0.767132</td><td>250000</td><td>38.6899</td><td>40.2242</td><td>0.000157828</td></tr></tbody></table></div>"
      ],
      "text/latex": [
       "\\begin{tabular}{r|cccccccc}\n",
       "\t& samplesize & obssize & fittime & se & nobs & fitmin & fitmax & perobsratio\\\\\n",
       "\t\\hline\n",
       "\t& String & String & Float64 & Float64 & Int64 & Float64 & Float64 & Float64\\\\\n",
       "\t\\hline\n",
       "\t1 & 100 & 2 & 0.0311913 & 0.0033823 & 200 & 0.027809 & 0.0345736 & 0.000155957 \\\\\n",
       "\t2 & 100 & 5 & 0.0720473 & 0.00313516 & 500 & 0.0689121 & 0.0751824 & 0.000144095 \\\\\n",
       "\t3 & 100 & 10 & 0.1464 & 0.00632991 & 1000 & 0.140071 & 0.15273 & 0.0001464 \\\\\n",
       "\t4 & 100 & 15 & 0.233226 & 0.00725546 & 1500 & 0.225971 & 0.240481 & 0.000155484 \\\\\n",
       "\t5 & 100 & 20 & 0.320999 & 0.0172653 & 2000 & 0.303733 & 0.338264 & 0.000160499 \\\\\n",
       "\t6 & 100 & 25 & 0.369097 & 0.00900802 & 2500 & 0.360089 & 0.378105 & 0.000147639 \\\\\n",
       "\t7 & 1000 & 2 & 0.2562 & 0.00675333 & 2000 & 0.249447 & 0.262954 & 0.0001281 \\\\\n",
       "\t8 & 1000 & 5 & 0.809164 & 0.0175703 & 5000 & 0.791593 & 0.826734 & 0.000161833 \\\\\n",
       "\t9 & 1000 & 10 & 1.59196 & 0.0273481 & 10000 & 1.56461 & 1.6193 & 0.000159196 \\\\\n",
       "\t10 & 1000 & 15 & 2.28872 & 0.0463164 & 15000 & 2.2424 & 2.33503 & 0.000152581 \\\\\n",
       "\t11 & 1000 & 20 & 3.20261 & 0.0587599 & 20000 & 3.14385 & 3.26137 & 0.00016013 \\\\\n",
       "\t12 & 1000 & 25 & 3.8717 & 0.0696932 & 25000 & 3.802 & 3.94139 & 0.000154868 \\\\\n",
       "\t13 & 10000 & 2 & 2.61961 & 0.0445714 & 20000 & 2.57504 & 2.66418 & 0.000130981 \\\\\n",
       "\t14 & 10000 & 5 & 6.57711 & 0.0960111 & 50000 & 6.4811 & 6.67313 & 0.000131542 \\\\\n",
       "\t15 & 10000 & 10 & 15.587 & 0.23947 & 100000 & 15.3475 & 15.8265 & 0.00015587 \\\\\n",
       "\t16 & 10000 & 15 & 23.9947 & 0.40852 & 150000 & 23.5862 & 24.4033 & 0.000159965 \\\\\n",
       "\t17 & 10000 & 20 & 32.9921 & 0.620318 & 200000 & 32.3717 & 33.6124 & 0.00016496 \\\\\n",
       "\t18 & 10000 & 25 & 39.457 & 0.767132 & 250000 & 38.6899 & 40.2242 & 0.000157828 \\\\\n",
       "\\end{tabular}\n"
      ],
      "text/plain": [
       "\u001b[1m18×8 DataFrame\u001b[0m\n",
       "\u001b[1m Row \u001b[0m│\u001b[1m samplesize \u001b[0m\u001b[1m obssize \u001b[0m\u001b[1m fittime    \u001b[0m\u001b[1m se         \u001b[0m\u001b[1m nobs   \u001b[0m\u001b[1m fitmin     \u001b[0m\u001b[1m fitmax\u001b[0m ⋯\n",
       "\u001b[1m     \u001b[0m│\u001b[90m String     \u001b[0m\u001b[90m String  \u001b[0m\u001b[90m Float64    \u001b[0m\u001b[90m Float64    \u001b[0m\u001b[90m Int64  \u001b[0m\u001b[90m Float64    \u001b[0m\u001b[90m Float6\u001b[0m ⋯\n",
       "─────┼──────────────────────────────────────────────────────────────────────────\n",
       "   1 │ 100         2         0.0311913  0.0033823      200   0.027809    0.034 ⋯\n",
       "   2 │ 100         5         0.0720473  0.00313516     500   0.0689121   0.075\n",
       "   3 │ 100         10        0.1464     0.00632991    1000   0.140071    0.152\n",
       "   4 │ 100         15        0.233226   0.00725546    1500   0.225971    0.240\n",
       "   5 │ 100         20        0.320999   0.0172653     2000   0.303733    0.338 ⋯\n",
       "   6 │ 100         25        0.369097   0.00900802    2500   0.360089    0.378\n",
       "   7 │ 1000        2         0.2562     0.00675333    2000   0.249447    0.262\n",
       "   8 │ 1000        5         0.809164   0.0175703     5000   0.791593    0.826\n",
       "   9 │ 1000        10        1.59196    0.0273481    10000   1.56461     1.619 ⋯\n",
       "  10 │ 1000        15        2.28872    0.0463164    15000   2.2424      2.335\n",
       "  11 │ 1000        20        3.20261    0.0587599    20000   3.14385     3.261\n",
       "  12 │ 1000        25        3.8717     0.0696932    25000   3.802       3.941\n",
       "  13 │ 10000       2         2.61961    0.0445714    20000   2.57504     2.664 ⋯\n",
       "  14 │ 10000       5         6.57711    0.0960111    50000   6.4811      6.673\n",
       "  15 │ 10000       10       15.587      0.23947     100000  15.3475     15.826\n",
       "  16 │ 10000       15       23.9947     0.40852     150000  23.5862     24.403\n",
       "  17 │ 10000       20       32.9921     0.620318    200000  32.3717     33.612 ⋯\n",
       "  18 │ 10000       25       39.457      0.767132    250000  38.6899     40.224\n",
       "\u001b[36m                                                               2 columns omitted\u001b[0m"
      ]
     },
     "execution_count": 7,
     "metadata": {},
     "output_type": "execute_result"
    }
   ],
   "source": [
    "#simulation parameters\n",
    "@info \"making results table GLMM\"\n",
    "sample_sizes = repeat(string.(samplesizes), inner = nsims * length(ns))\n",
    "obs_sizes = repeat(string.(ns), inner = nsims, outer = length(samplesizes))\n",
    "\n",
    "msedf = DataFrame(samplesize = sample_sizes, obssize = obs_sizes, fittimes = fittimes_GLMM)\n",
    "timedf2 = combine(groupby(msedf, [:samplesize, :obssize]), :fittimes => mean => :fittime,\n",
    "    :fittimes => x -> (std(x)/sqrt(length(x))))\n",
    "rename!(timedf2, Dict(:fittimes_function => \"se\"))\n",
    "timedf2[!, :nobs] = Meta.parse.(timedf2[!, :samplesize]) .* Meta.parse.(timedf2[!, :obssize])\n",
    "timedf2[!, :fitmin] = timedf2[!, :fittime] - timedf2[!, :se]\n",
    "timedf2[!, :fitmax] = timedf2[!, :fittime] + timedf2[!, :se]\n",
    "timedf2[!, :perobsratio] = timedf2[!, :fittime] ./ timedf2[!, :nobs]\n",
    "timedf2"
   ]
  },
  {
   "cell_type": "code",
   "execution_count": null,
   "metadata": {},
   "outputs": [],
   "source": [
    "########### plot the runtimes\n",
    "using RCall\n",
    "@rput timedf1\n",
    "@rput timedf2\n",
    "R\"\"\"\n",
    "library(ggplot2)\n",
    "library(cowplot)\n",
    "timedf1$obssize = factor(timedf1$obssize, levels = c('2', '5', '10', '15', '20', '25'))\n",
    "timedf1$samplesize = factor(timedf1$samplesize, levels = c('100', '1000', '10000'))\n",
    "\n",
    "fittime_1 = ggplot(timedf1, aes(x = samplesize, y = fittime, group = obssize, color = obssize)) + \n",
    "  geom_line() +\n",
    "  geom_point()+\n",
    "  geom_errorbar(aes(ymin=fitmin, ymax=fitmax), width=0.5, alpha = 0.8, position=position_dodge(0.005)) + \n",
    "  theme(legend.position=c(0.3,0.85), legend.key = element_blank(), axis.text.x = element_text(angle=0, size=13),\n",
    "        axis.text.y = element_text(angle=0, size=13), axis.title.x = element_text(size = 17), \n",
    "        axis.title.y = element_text(size = 17), legend.title = element_text(size = 14),\n",
    "        #axis.ticks = element_blank(),\n",
    "        panel.grid.major = element_blank(), legend.text=element_text(size=13),\n",
    "        panel.border = element_blank(), panel.grid.minor = element_blank(), panel.background = element_blank(), \n",
    "        axis.line = element_line(color = 'black',size=0.3), plot.title = element_text(hjust = 0.5)) + \n",
    "   scale_color_manual(values = c(\"#c85f55\",\n",
    "\"#a964bf\",\n",
    "\"#8db352\",\n",
    "\"#fa7300\",\n",
    "\"#05aec0\",\n",
    "\"#ff1493\")) +\n",
    "  labs(x = \"Number of Individuals\", y = \"Fit time (seconds)\", color = \"Obs per Individual\")\n",
    "\n",
    "timedf2$obssize = factor(timedf2$obssize, levels = c('2', '5', '10', '15', '20', '25'))\n",
    "timedf2$samplesize = factor(timedf2$samplesize, levels = c('100', '1000', '10000'))\n",
    "\n",
    "fittime_2 = ggplot(timedf2, aes(x = samplesize, y = fittime, group = obssize, color = obssize)) + \n",
    "  geom_line() +\n",
    "  geom_point()+\n",
    "  geom_errorbar(aes(ymin=fitmin, ymax=fitmax), width=0.5, alpha = 0.8, position=position_dodge(0.005)) + \n",
    "  theme(legend.position=c(0.3,0.85), legend.key = element_blank(), axis.text.x = element_text(angle=0, size=13),\n",
    "        axis.text.y = element_text(angle=0, size=13), axis.title.x = element_text(size = 17), \n",
    "        axis.title.y = element_text(size = 17), legend.title = element_text(size = 14),\n",
    "        #axis.ticks = element_blank(),\n",
    "        panel.grid.major = element_blank(), legend.text=element_text(size=13),\n",
    "        panel.border = element_blank(), panel.grid.minor = element_blank(), panel.background = element_blank(), \n",
    "        axis.line = element_line(color = 'black',size=0.3), plot.title = element_text(hjust = 0.5)) + \n",
    "   scale_color_manual(values = c(\"#c85f55\",\n",
    "\"#a964bf\",\n",
    "\"#8db352\",\n",
    "\"#fa7300\",\n",
    "\"#05aec0\",\n",
    "\"#ff1493\")) +\n",
    "  labs(x = \"Number of Individuals\", y = \"Fit time (seconds)\", color = \"Obs per Individual\")\n",
    "\n",
    "fittime_nsamples = plot_grid(fittime_1, fittime_2, labels = c(\"Quasi-Copula\", \"GLMM\"))\n",
    "\"\"\""
   ]
  },
  {
   "cell_type": "code",
   "execution_count": null,
   "metadata": {},
   "outputs": [],
   "source": [
    "R\"\"\"\n",
    "ggsave('sim_glmm_fittime_nsamples_poisson_vs_glmm.png', fittime_nsamples, width = 15, height = 17, units = 'in', dpi = 450)\n",
    "\"\"\""
   ]
  },
  {
   "cell_type": "code",
   "execution_count": null,
   "metadata": {},
   "outputs": [],
   "source": [
    "######  supplementary table s1\n",
    "using Random, DataFrames, DelimitedFiles, Statistics\n",
    "import StatsBase: sem\n",
    "\n",
    "βθcoverage = readdlm(\"beta_sigma_coverage_multivariate_poisson_vcm$(nsims)reps_sim.csv\", ',')\n",
    "\n",
    "m  = 1\n",
    "\n",
    "covdf = DataFrame(Matrix(transpose(βθcoverage)), :auto)\n",
    "rename!(covdf, Symbol.([[\"β$i\" for i in 1:p]; [\"θ$i\" for i in 1:m]]))\n",
    "covdf[!, :samplesize] = sample_sizes\n",
    "covdf[!, :obssize] = obs_sizes\n",
    "first(covdf, 10)\n",
    "\n",
    "row_stats = [[(mean(col), sem(col)) for col = eachcol(d[!, 1:end-2])] for d = groupby(covdf, [:samplesize; :obssize])]\n",
    "df = DataFrame(row_stats, :auto)\n",
    "ss_obs = unique(\"N: \" .* sample_sizes .* \"  ni: \" .* obs_sizes)\n",
    "rename!(df, Symbol.(ss_obs))\n",
    "covdfdisplay = DataFrame([[names(df)]; collect.(eachrow(df))], \n",
    "    [:people_obs; Symbol.([[\"β$i\" for i in 1:p]; [\"θ$i\" for i in 1:m]])])\n",
    "# deletecols!(covdfdisplay, p + 2)\n",
    "covdfdisplay\n"
   ]
  },
  {
   "cell_type": "code",
   "execution_count": null,
   "metadata": {},
   "outputs": [],
   "source": [
    "#### \n",
    "#import data and reorganize to create figure\n",
    "using Random, DataFrames, DelimitedFiles, Statistics, RCall, Printf\n",
    "import StatsBase: sem\n",
    "\n",
    "βMseresult = vec(readdlm(\"mse_beta_multivariate_poisson_vcm$(nsims)reps_sim.csv\", ','))\n",
    "θMseresult = vec(readdlm(\"mse_Sigma_multivariate_poisson_vcm$(nsims)reps_sim.csv\", ','))\n",
    "\n",
    "βMseresult_GLMM = vec(readdlm(\"mse_beta_GLMM_multivariate_poisson_vcm$(nsims)reps_sim.csv\", ','))\n",
    "θMseresult_GLMM = vec(readdlm(\"mse_Sigma_GLMM_multivariate_poisson_vcm$(nsims)reps_sim.csv\", ','))\n",
    "\n",
    "\n",
    "p = 3; m = 1\n",
    "sample_sizes = repeat(string.(samplesizes), inner = nsims * length(ns))\n",
    "obs_sizes = repeat(string.(ns), inner = nsims, outer = length(samplesizes))\n",
    "msedf1 = DataFrame(βmse = βMseresult, thetamse = θMseresult, \n",
    "    samplesize = sample_sizes, obssize = obs_sizes)\n",
    "\n",
    "msedf2 = DataFrame(βmse = βMseresult_GLMM, thetamse = θMseresult_GLMM, \n",
    "    samplesize = sample_sizes, obssize = obs_sizes)\n",
    "\n",
    "#rename to make parsing easier for R.\n",
    "\n",
    "msedf1 = deepcopy(msedf1)\n",
    "rename!(msedf1, [\"betamse\"\n",
    "    \"thetamse\"\n",
    "    \"samplesize\"\n",
    " \"obssize\"]);\n",
    "\n",
    "msedf2 = deepcopy(msedf2)\n",
    "rename!(msedf2, [\"betamse\"\n",
    "    \"thetamse\"\n",
    "    \"samplesize\"\n",
    " \"obssize\"]);\n",
    "\n",
    "mses = [msedf1[!, :betamse]; msedf1[!, :thetamse]; msedf2[!, :betamse]; msedf2[!, :thetamse]]\n",
    "    # msedfnormR[!, :betamse]; msedfnormR[!, :taumse]; msedfnormR[!, :Sigmamse]]\n",
    "obssize = [collect([repeat(msedf1[!, :obssize], 2)]...) ; collect([repeat(msedf2[!, :obssize], 2)]...)]\n",
    "#40\n",
    "samplesize = [collect([repeat(msedf1[!, :samplesize], 2)]...) ; collect([repeat(msedf2[!, :samplesize], 2)]...)]\n",
    "\n",
    "parameters = [collect([repeat(string.([:beta, :theta]), inner = nsims * length(ns) * length(samplesizes))]...) ; collect([repeat(string.([:beta, :theta]), inner = nsims * length(ns) * length(samplesizes))]...)]\n",
    "robust = [collect([repeat([\"Poisson QC\"], 2 * nsims * length(ns) * length(samplesizes))]...); collect([repeat([\"Poisson GLMM\"],  2 * nsims * length(ns) * length(samplesizes))]...)]\n",
    "\n",
    "msedfR = DataFrame(mse = mses, obssize = obssize, samplesize = samplesize,\n",
    "    parameters = parameters, robust = robust)\n",
    "\n",
    "#5 of the 30,000 simulations did not converge, filter out\n",
    "msedfR = filter(x -> !isnan(x.mse), msedfR)\n",
    "# additionally, there are 5 where an error was not caught so it did not try a differnt solver\n",
    "msedfR = filter(x -> x.mse < 40000, msedfR)"
   ]
  },
  {
   "cell_type": "code",
   "execution_count": null,
   "metadata": {},
   "outputs": [],
   "source": [
    "### working on figure next\n",
    "@rput msedfR\n",
    "\n",
    "R\"\"\"\n",
    "library(scales)\n",
    "library(ggplot2)\n",
    "library(data.table)\n",
    "\n",
    "msedfR = data.table(msedfR)\n",
    "\n",
    "msedfR[parameters == \"beta\",y_min := 10^-4]\n",
    "msedfR[parameters == \"beta\",y_max := 10^-2]\n",
    "msedfR[parameters == \"theta\",y_min := 10^-5]\n",
    "msedfR[parameters == \"theta\",y_max := 10^1]\n",
    "\n",
    "#msedfR[parameters == \"beta\",y_min := 10^-8]\n",
    "#msedfR[parameters == \"beta\",y_max := 10^-2]\n",
    "#msedfR[parameters == \"tau\",y_min := 10^-8]\n",
    "#msedfR[parameters == \"tau\",y_max := 10^-2]\n",
    "#msedfR[parameters == \"Sigma\",y_min := 10^-5]\n",
    "#msedfR[parameters == \"Sigma\",y_max := 10^-2]\n",
    "\n",
    "\n",
    "msedfR$obssize = factor(msedfR$obssize, levels = c('2', '5', '10', '15', '20', '25'))\n",
    "msedfR$samplesize = factor(msedfR$samplesize, levels = c('100', '1000', '10000'))\n",
    "msedfR$parameters = factor(msedfR$parameters, levels = c('beta', 'theta'), labels = c(beta = expression(hat(bold(beta))), thetaa = expression(hat(bold(theta))[])))\n",
    "msedfR$robust <- factor(msedfR$robust, levels = c('Poisson QC', 'Poisson GLMM'),\n",
    "    labels = c(expression(paste(\"Poisson QC\")), expression(paste(\"Poisson GLMM\"))))\n",
    "\n",
    "\n",
    "#mseplot <- ggplot(msedfR[msedfR$mse < 10^0, ], aes(x=samplesize, y=mse, fill=obssize)) + \n",
    "mseplot = ggplot(msedfR[msedfR$mse < 10^3, ], aes(x=samplesize, y=mse, fill=obssize)) + \n",
    "  #geom_boxplot(outlier.size = 0.0, outlier.alpha = 0) +\n",
    "  geom_boxplot(outlier.size = 0.25) +\n",
    "#    geom_violin() +\n",
    "    facet_grid(parameters ~ robust, labeller = label_parsed, scales = \"free_y\") +\n",
    "  theme(legend.position=\"right\", legend.key = element_blank(), axis.text.x = element_text(angle=0, size=30),\n",
    "        axis.text.y = element_text(angle=0, size=30), axis.title.x = element_text(size = 30, face=\"bold\"), \n",
    "        axis.title.y = element_text(size = 40, face=\"bold\"), legend.title = element_text(size = 30, face=\"bold\"),\n",
    "        panel.grid.major = element_blank(), panel.grid.minor = element_blank(),\n",
    "        legend.text=element_text(size=30), panel.background = element_rect(fill = NA, color = \"black\"),\n",
    "        #panel.background = element_blank(), #panel.border = element_blank(),\n",
    "        axis.line = element_line(color = 'black',size=0.3), plot.title = element_text(hjust = 0.5),\n",
    "        strip.background = element_rect(colour=\"black\", fill=\"white\"), strip.text.y = element_text(angle = 0, size=75, face=\"bold\"),\n",
    "        strip.text.x = element_text(size=25)) + \n",
    "  scale_fill_manual(values = c(\"#c85f55\",\n",
    "\"#a964bf\",\n",
    "\"#8db352\",\n",
    "\"#fa7300\",\n",
    "\"#05aec0\",\n",
    "\"#ff1493\")) +\n",
    "#scale_y_log10(breaks = scales::trans_breaks(\"log10\", function(x) 10^x)) +\n",
    "#scale_y_log10(breaks = 10^(-8:8), limit=c(10^-8, 10^2)) + \n",
    "scale_y_log10(breaks = 10^seq(-10, 10, 2), labels=trans_format(\"log10\", math_format(10^.x))) + #, limit=c(10^-8, 10^2)) +\n",
    "  labs(x = \"Sample Size\", y = \"MSE of Parameter Estimates\", fill = \"Cluster Size\") +\n",
    "geom_blank(aes(y = y_max)) + \n",
    "geom_blank(aes(y = y_min)) \n",
    "\n",
    "\"\"\""
   ]
  },
  {
   "cell_type": "code",
   "execution_count": null,
   "metadata": {},
   "outputs": [],
   "source": [
    "R\"\"\"\n",
    "ggsave('sim_glmm_updated_msefacetplot_poisson_0.05.png', mseplot, width = 12.5, height = 15, units = 'in', dpi = 450)\n",
    "\"\"\""
   ]
  },
  {
   "cell_type": "code",
   "execution_count": null,
   "metadata": {},
   "outputs": [],
   "source": []
  },
  {
   "cell_type": "code",
   "execution_count": null,
   "metadata": {},
   "outputs": [],
   "source": []
  }
 ],
 "metadata": {
  "@webio": {
   "lastCommId": null,
   "lastKernelId": null
  },
  "kernelspec": {
   "display_name": "Julia 1.6.2",
   "language": "julia",
   "name": "julia-1.6"
  },
  "language_info": {
   "file_extension": ".jl",
   "mimetype": "application/julia",
   "name": "julia",
   "version": "1.6.2"
  }
 },
 "nbformat": 4,
 "nbformat_minor": 2
}
