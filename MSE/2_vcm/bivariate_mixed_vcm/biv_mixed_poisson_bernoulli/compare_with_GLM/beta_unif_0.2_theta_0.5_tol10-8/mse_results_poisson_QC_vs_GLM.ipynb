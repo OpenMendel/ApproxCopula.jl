{
 "cells": [
  {
   "cell_type": "markdown",
   "metadata": {},
   "source": [
    "## Bivariate Mixed Outcome Model: Poisson and Bernoulli VC Run-time and MSE Results \n",
    "\n",
    "In this example, $y_{i1} \\sim Poisson(\\mu_{i1}(\\mathbf{\\beta_1}))$ and $y_{i2} \\sim Bernoulli(\\mu_{i2}(\\mathbf{\\beta_2}))$\n",
    "\n",
    "We have three fixed effects for each outcome, $\\beta_{true} \\sim rand(Uniform(-0.2, 0.2), p)$ where p = 6 fixed effects stacking $\\beta_1, \\beta_2$\n",
    "\n",
    "In this example we have Poisson and Bernoulli base distribution with Log and Logit Link functions and covariance matrix $\\Gamma$ structured under VC covariance with $\\theta = 0.5$, we want to compare the MSE with that of GLM.\n",
    "\n",
    "We run each scenario 100 times."
   ]
  },
  {
   "cell_type": "code",
   "execution_count": 1,
   "metadata": {},
   "outputs": [
    {
     "name": "stdout",
     "output_type": "stream",
     "text": [
      "Julia Version 1.6.2\n",
      "Commit 1b93d53fc4 (2021-07-14 15:36 UTC)\n",
      "Platform Info:\n",
      "  OS: macOS (x86_64-apple-darwin18.7.0)\n",
      "  CPU: Intel(R) Core(TM) i9-9880H CPU @ 2.30GHz\n",
      "  WORD_SIZE: 64\n",
      "  LIBM: libopenlibm\n",
      "  LLVM: libLLVM-11.0.1 (ORCJIT, skylake)\n"
     ]
    }
   ],
   "source": [
    "versioninfo()"
   ]
  },
  {
   "cell_type": "code",
   "execution_count": 2,
   "metadata": {},
   "outputs": [],
   "source": [
    "using GLMCopula, DelimitedFiles, LinearAlgebra, Random, GLM\n",
    "using Random, Roots, SpecialFunctions, DataFrames"
   ]
  },
  {
   "cell_type": "code",
   "execution_count": 3,
   "metadata": {},
   "outputs": [
    {
     "data": {
      "text/plain": [
       "100"
      ]
     },
     "execution_count": 3,
     "metadata": {},
     "output_type": "execute_result"
    }
   ],
   "source": [
    "p = 6    # number of fixed effects, including intercept\n",
    "m = 1    # number of variance components\n",
    "# true parameter values\n",
    "Random.seed!(12345)\n",
    "βtrue = rand(Uniform(-0.2, 0.2), p)\n",
    "θtrue = [0.5]\n",
    "\n",
    "# generate data\n",
    "intervals = zeros(p + m, 2) #hold intervals\n",
    "curcoverage = zeros(p + m) #hold current coverage resutls\n",
    "trueparams = [βtrue; θtrue] #hold true parameters\n",
    "\n",
    "#simulation parameters\n",
    "samplesizes = [100; 1000; 10000]\n",
    "ns = [2]\n",
    "nsims = 100"
   ]
  },
  {
   "cell_type": "code",
   "execution_count": 4,
   "metadata": {},
   "outputs": [
    {
     "name": "stderr",
     "output_type": "stream",
     "text": [
      "┌ Info: reading in the files with results\n",
      "└ @ Main In[4]:1\n"
     ]
    },
    {
     "data": {
      "text/plain": [
       "300-element Vector{Float64}:\n",
       " 0.106611075\n",
       " 0.151306457\n",
       " 0.1521943\n",
       " 0.156349264\n",
       " 0.465507243\n",
       " 0.527920657\n",
       " 0.097739738\n",
       " 0.060813172\n",
       " 0.077667423\n",
       " 0.077492123\n",
       " 0.080334252\n",
       " 0.089914367\n",
       " 0.082605566\n",
       " ⋮\n",
       " 1.682221748\n",
       " 2.332466283\n",
       " 1.332164848\n",
       " 1.591760409\n",
       " 2.341440791\n",
       " 1.540058406\n",
       " 1.106435264\n",
       " 1.684285608\n",
       " 1.318722916\n",
       " 1.660330632\n",
       " 1.337480182\n",
       " 1.254175953"
      ]
     },
     "execution_count": 4,
     "metadata": {},
     "output_type": "execute_result"
    }
   ],
   "source": [
    "@info \"reading in the files with results\"\n",
    "βMseresult = vec(readdlm(\"mse_beta_bivariate_mixed_poisson_bernoulli_vcm$(nsims)reps_sim.csv\", ','))\n",
    "θMseresult = vec(readdlm(\"mse_Sigma_bivariate_mixed_poisson_bernoulli_vcm$(nsims)reps_sim.csv\", ','))\n",
    "fittimes_QC = vec(readdlm(\"fittimes_bivariate_mixed_poisson_bernoulli_vcm$(nsims)reps_sim.csv\", ','))"
   ]
  },
  {
   "cell_type": "code",
   "execution_count": 5,
   "metadata": {},
   "outputs": [
    {
     "data": {
      "text/plain": [
       "300-element Vector{Float64}:\n",
       " 0.000663775\n",
       " 0.000568249\n",
       " 0.00053349\n",
       " 0.000919157\n",
       " 0.000975059\n",
       " 0.000951339\n",
       " 0.000269208\n",
       " 0.000255495\n",
       " 0.000239322\n",
       " 0.000252215\n",
       " 0.000233876\n",
       " 0.000236398\n",
       " 0.000234549\n",
       " ⋮\n",
       " 0.006149781\n",
       " 0.006315944\n",
       " 0.006235173\n",
       " 0.006182584\n",
       " 0.038243199\n",
       " 0.006165935\n",
       " 0.006218183\n",
       " 0.006188789\n",
       " 0.006246445\n",
       " 0.006288414\n",
       " 0.006175413\n",
       " 0.006188444"
      ]
     },
     "execution_count": 5,
     "metadata": {},
     "output_type": "execute_result"
    }
   ],
   "source": [
    "fittimes_GLM = vec(readdlm(\"fittimes_GLM_bivariate_mixed_poisson_bernoulli_vcm$(nsims)reps_sim.csv\", ','))"
   ]
  },
  {
   "cell_type": "code",
   "execution_count": 6,
   "metadata": {},
   "outputs": [
    {
     "name": "stderr",
     "output_type": "stream",
     "text": [
      "┌ Info: making results table Quasi-Copula\n",
      "└ @ Main In[6]:2\n"
     ]
    },
    {
     "data": {
      "text/html": [
       "<div class=\"data-frame\"><p>3 rows × 8 columns</p><table class=\"data-frame\"><thead><tr><th></th><th>samplesize</th><th>obssize</th><th>fittime</th><th>se</th><th>nobs</th><th>fitmin</th><th>fitmax</th><th>perobsratio</th></tr><tr><th></th><th title=\"String\">String</th><th title=\"String\">String</th><th title=\"Float64\">Float64</th><th title=\"Float64\">Float64</th><th title=\"Int64\">Int64</th><th title=\"Float64\">Float64</th><th title=\"Float64\">Float64</th><th title=\"Float64\">Float64</th></tr></thead><tbody><tr><th>1</th><td>100</td><td>2</td><td>0.0903741</td><td>0.00625998</td><td>200</td><td>0.0841141</td><td>0.102894</td><td>0.00045187</td></tr><tr><th>2</th><td>1000</td><td>2</td><td>0.158824</td><td>0.00170524</td><td>2000</td><td>0.157118</td><td>0.162234</td><td>7.94118e-5</td></tr><tr><th>3</th><td>10000</td><td>2</td><td>1.89847</td><td>0.0664309</td><td>20000</td><td>1.83204</td><td>2.03133</td><td>9.49236e-5</td></tr></tbody></table></div>"
      ],
      "text/latex": [
       "\\begin{tabular}{r|cccccccc}\n",
       "\t& samplesize & obssize & fittime & se & nobs & fitmin & fitmax & perobsratio\\\\\n",
       "\t\\hline\n",
       "\t& String & String & Float64 & Float64 & Int64 & Float64 & Float64 & Float64\\\\\n",
       "\t\\hline\n",
       "\t1 & 100 & 2 & 0.0903741 & 0.00625998 & 200 & 0.0841141 & 0.102894 & 0.00045187 \\\\\n",
       "\t2 & 1000 & 2 & 0.158824 & 0.00170524 & 2000 & 0.157118 & 0.162234 & 7.94118e-5 \\\\\n",
       "\t3 & 10000 & 2 & 1.89847 & 0.0664309 & 20000 & 1.83204 & 2.03133 & 9.49236e-5 \\\\\n",
       "\\end{tabular}\n"
      ],
      "text/plain": [
       "\u001b[1m3×8 DataFrame\u001b[0m\n",
       "\u001b[1m Row \u001b[0m│\u001b[1m samplesize \u001b[0m\u001b[1m obssize \u001b[0m\u001b[1m fittime   \u001b[0m\u001b[1m se         \u001b[0m\u001b[1m nobs  \u001b[0m\u001b[1m fitmin    \u001b[0m\u001b[1m fitmax   \u001b[0m\u001b[1m\u001b[0m ⋯\n",
       "\u001b[1m     \u001b[0m│\u001b[90m String     \u001b[0m\u001b[90m String  \u001b[0m\u001b[90m Float64   \u001b[0m\u001b[90m Float64    \u001b[0m\u001b[90m Int64 \u001b[0m\u001b[90m Float64   \u001b[0m\u001b[90m Float64  \u001b[0m\u001b[90m\u001b[0m ⋯\n",
       "─────┼──────────────────────────────────────────────────────────────────────────\n",
       "   1 │ 100         2        0.0903741  0.00625998    200  0.0841141  0.102894  ⋯\n",
       "   2 │ 1000        2        0.158824   0.00170524   2000  0.157118   0.162234\n",
       "   3 │ 10000       2        1.89847    0.0664309   20000  1.83204    2.03133\n",
       "\u001b[36m                                                                1 column omitted\u001b[0m"
      ]
     },
     "execution_count": 6,
     "metadata": {},
     "output_type": "execute_result"
    }
   ],
   "source": [
    "#simulation parameters\n",
    "@info \"making results table Quasi-Copula\"\n",
    "sample_sizes = repeat(string.(samplesizes), inner = nsims * length(ns))\n",
    "obs_sizes = repeat(string.(ns), inner = nsims, outer = length(samplesizes))\n",
    "\n",
    "msedf = DataFrame(samplesize = sample_sizes, obssize = obs_sizes, fittimes = fittimes_QC)\n",
    "timedf1 = combine(groupby(msedf, [:samplesize, :obssize]), :fittimes => mean => :fittime,\n",
    "    :fittimes => x -> (std(x)/sqrt(length(x))))\n",
    "rename!(timedf1, Dict(:fittimes_function => \"se\"))\n",
    "timedf1[!, :nobs] = Meta.parse.(timedf1[!, :samplesize]) .* Meta.parse.(timedf1[!, :obssize])\n",
    "timedf1[!, :fitmin] = timedf1[!, :fittime] - timedf1[!, :se]\n",
    "timedf1[!, :fitmax] = timedf1[!, :fittime] + 2 * timedf1[!, :se]\n",
    "timedf1[!, :perobsratio] = timedf1[!, :fittime] ./ timedf1[!, :nobs]\n",
    "timedf1"
   ]
  },
  {
   "cell_type": "code",
   "execution_count": 7,
   "metadata": {},
   "outputs": [
    {
     "name": "stderr",
     "output_type": "stream",
     "text": [
      "┌ Info: making results table GLMM\n",
      "└ @ Main In[7]:2\n"
     ]
    },
    {
     "data": {
      "text/html": [
       "<div class=\"data-frame\"><p>3 rows × 8 columns</p><table class=\"data-frame\"><thead><tr><th></th><th>samplesize</th><th>obssize</th><th>fittime</th><th>se</th><th>nobs</th><th>fitmin</th><th>fitmax</th><th>perobsratio</th></tr><tr><th></th><th title=\"String\">String</th><th title=\"String\">String</th><th title=\"Float64\">Float64</th><th title=\"Float64\">Float64</th><th title=\"Int64\">Int64</th><th title=\"Float64\">Float64</th><th title=\"Float64\">Float64</th><th title=\"Float64\">Float64</th></tr></thead><tbody><tr><th>1</th><td>100</td><td>2</td><td>0.000254552</td><td>1.38658e-5</td><td>200</td><td>0.000240686</td><td>0.000268418</td><td>1.27276e-6</td></tr><tr><th>2</th><td>1000</td><td>2</td><td>0.000793657</td><td>2.65182e-6</td><td>2000</td><td>0.000791005</td><td>0.000796309</td><td>3.96829e-7</td></tr><tr><th>3</th><td>10000</td><td>2</td><td>0.0121224</td><td>0.0034227</td><td>20000</td><td>0.00869973</td><td>0.0155451</td><td>6.06122e-7</td></tr></tbody></table></div>"
      ],
      "text/latex": [
       "\\begin{tabular}{r|cccccccc}\n",
       "\t& samplesize & obssize & fittime & se & nobs & fitmin & fitmax & perobsratio\\\\\n",
       "\t\\hline\n",
       "\t& String & String & Float64 & Float64 & Int64 & Float64 & Float64 & Float64\\\\\n",
       "\t\\hline\n",
       "\t1 & 100 & 2 & 0.000254552 & 1.38658e-5 & 200 & 0.000240686 & 0.000268418 & 1.27276e-6 \\\\\n",
       "\t2 & 1000 & 2 & 0.000793657 & 2.65182e-6 & 2000 & 0.000791005 & 0.000796309 & 3.96829e-7 \\\\\n",
       "\t3 & 10000 & 2 & 0.0121224 & 0.0034227 & 20000 & 0.00869973 & 0.0155451 & 6.06122e-7 \\\\\n",
       "\\end{tabular}\n"
      ],
      "text/plain": [
       "\u001b[1m3×8 DataFrame\u001b[0m\n",
       "\u001b[1m Row \u001b[0m│\u001b[1m samplesize \u001b[0m\u001b[1m obssize \u001b[0m\u001b[1m fittime     \u001b[0m\u001b[1m se         \u001b[0m\u001b[1m nobs  \u001b[0m\u001b[1m fitmin      \u001b[0m\u001b[1m fitma\u001b[0m ⋯\n",
       "\u001b[1m     \u001b[0m│\u001b[90m String     \u001b[0m\u001b[90m String  \u001b[0m\u001b[90m Float64     \u001b[0m\u001b[90m Float64    \u001b[0m\u001b[90m Int64 \u001b[0m\u001b[90m Float64     \u001b[0m\u001b[90m Float\u001b[0m ⋯\n",
       "─────┼──────────────────────────────────────────────────────────────────────────\n",
       "   1 │ 100         2        0.000254552  1.38658e-5    200  0.000240686  0.000 ⋯\n",
       "   2 │ 1000        2        0.000793657  2.65182e-6   2000  0.000791005  0.000\n",
       "   3 │ 10000       2        0.0121224    0.0034227   20000  0.00869973   0.015\n",
       "\u001b[36m                                                               2 columns omitted\u001b[0m"
      ]
     },
     "execution_count": 7,
     "metadata": {},
     "output_type": "execute_result"
    }
   ],
   "source": [
    "#simulation parameters\n",
    "@info \"making results table GLMM\"\n",
    "sample_sizes = repeat(string.(samplesizes), inner = nsims * length(ns))\n",
    "obs_sizes = repeat(string.(ns), inner = nsims, outer = length(samplesizes))\n",
    "\n",
    "msedf = DataFrame(samplesize = sample_sizes, obssize = obs_sizes, fittimes = fittimes_GLM)\n",
    "timedf2 = combine(groupby(msedf, [:samplesize, :obssize]), :fittimes => mean => :fittime,\n",
    "    :fittimes => x -> (std(x)/sqrt(length(x))))\n",
    "rename!(timedf2, Dict(:fittimes_function => \"se\"))\n",
    "timedf2[!, :nobs] = Meta.parse.(timedf2[!, :samplesize]) .* Meta.parse.(timedf2[!, :obssize])\n",
    "timedf2[!, :fitmin] = timedf2[!, :fittime] - timedf2[!, :se]\n",
    "timedf2[!, :fitmax] = timedf2[!, :fittime] + timedf2[!, :se]\n",
    "timedf2[!, :perobsratio] = timedf2[!, :fittime] ./ timedf2[!, :nobs]\n",
    "timedf2"
   ]
  },
  {
   "cell_type": "code",
   "execution_count": 8,
   "metadata": {},
   "outputs": [
    {
     "name": "stderr",
     "output_type": "stream",
     "text": [
      "┌ Warning: RCall.jl: Warning: package ‘ggplot2’ was built under R version 4.0.2\n",
      "└ @ RCall /Users/sarahji/.julia/packages/RCall/6kphM/src/io.jl:172\n",
      "┌ Warning: RCall.jl: Warning: package ‘cowplot’ was built under R version 4.0.2\n",
      "└ @ RCall /Users/sarahji/.julia/packages/RCall/6kphM/src/io.jl:172\n"
     ]
    },
    {
     "data": {
      "image/png": "[encoded data removed]"
     },
     "metadata": {},
     "output_type": "display_data"
    },
    {
     "data": {
      "text/plain": [
       "RObject{VecSxp}\n"
      ]
     },
     "execution_count": 8,
     "metadata": {},
     "output_type": "execute_result"
    }
   ],
   "source": [
    "########### plot the runtimes\n",
    "using RCall\n",
    "@rput timedf1\n",
    "@rput timedf2\n",
    "R\"\"\"\n",
    "library(ggplot2)\n",
    "library(cowplot)\n",
    "timedf1$obssize = factor(timedf1$obssize, levels = c('2'))\n",
    "timedf1$samplesize = factor(timedf1$samplesize, levels = c('100', '1000', '10000'))\n",
    "\n",
    "fittime_1 = ggplot(timedf1, aes(x = samplesize, y = fittime, group = obssize, color = obssize)) + \n",
    "  geom_line() +\n",
    "  geom_point()+\n",
    "  geom_errorbar(aes(ymin=fitmin, ymax=fitmax), width=0.5, alpha = 0.8, position=position_dodge(0.005)) + \n",
    "  theme(legend.position=c(0.3,0.85), legend.key = element_blank(), axis.text.x = element_text(angle=0, size=13),\n",
    "        axis.text.y = element_text(angle=0, size=13), axis.title.x = element_text(size = 17), \n",
    "        axis.title.y = element_text(size = 17), legend.title = element_text(size = 14),\n",
    "        #axis.ticks = element_blank(),\n",
    "        panel.grid.major = element_blank(), legend.text=element_text(size=13),\n",
    "        panel.border = element_blank(), panel.grid.minor = element_blank(), panel.background = element_blank(), \n",
    "        axis.line = element_line(color = 'black',size=0.3), plot.title = element_text(hjust = 0.5)) + \n",
    "   scale_color_manual(values = c(\"#c85f55\",\n",
    "\"#a964bf\",\n",
    "\"#8db352\",\n",
    "\"#fa7300\",\n",
    "\"#05aec0\",\n",
    "\"#ff1493\")) +\n",
    "  labs(x = \"Number of Individuals\", y = \"Fit time (seconds)\", color = \"Obs per Individual\")\n",
    "\n",
    "timedf2$obssize = factor(timedf2$obssize, levels = c('2'))\n",
    "timedf2$samplesize = factor(timedf2$samplesize, levels = c('100', '1000', '10000'))\n",
    "\n",
    "fittime_2 = ggplot(timedf2, aes(x = samplesize, y = fittime, group = obssize, color = obssize)) + \n",
    "  geom_line() +\n",
    "  geom_point()+\n",
    "  geom_errorbar(aes(ymin=fitmin, ymax=fitmax), width=0.5, alpha = 0.8, position=position_dodge(0.005)) + \n",
    "  theme(legend.position=c(0.3,0.85), legend.key = element_blank(), axis.text.x = element_text(angle=0, size=13),\n",
    "        axis.text.y = element_text(angle=0, size=13), axis.title.x = element_text(size = 17), \n",
    "        axis.title.y = element_text(size = 17), legend.title = element_text(size = 14),\n",
    "        #axis.ticks = element_blank(),\n",
    "        panel.grid.major = element_blank(), legend.text=element_text(size=13),\n",
    "        panel.border = element_blank(), panel.grid.minor = element_blank(), panel.background = element_blank(), \n",
    "        axis.line = element_line(color = 'black',size=0.3), plot.title = element_text(hjust = 0.5)) + \n",
    "   scale_color_manual(values = c(\"#c85f55\",\n",
    "\"#a964bf\",\n",
    "\"#8db352\",\n",
    "\"#fa7300\",\n",
    "\"#05aec0\",\n",
    "\"#ff1493\")) +\n",
    "  labs(x = \"Number of Individuals\", y = \"Fit time (seconds)\", color = \"Obs per Individual\")\n",
    "\n",
    "fittime_nsamples = plot_grid(fittime_1, fittime_2, labels = c(\"Quasi-Copula\", \"GLM\"))\n",
    "\"\"\""
   ]
  },
  {
   "cell_type": "code",
   "execution_count": 9,
   "metadata": {},
   "outputs": [
    {
     "data": {
      "text/plain": [
       "RObject{StrSxp}\n",
       "[1] \"fittime_nsamples_bivariatemixedpoissonbernoulli_vs_glm.png\"\n"
      ]
     },
     "execution_count": 9,
     "metadata": {},
     "output_type": "execute_result"
    }
   ],
   "source": [
    "R\"\"\"\n",
    "    ggsave('fittime_nsamples_bivariatemixedpoissonbernoulli_vs_glm.png', fittime_nsamples, width = 15, height = 17, units = 'in', dpi = 450)\n",
    "\"\"\""
   ]
  },
  {
   "cell_type": "code",
   "execution_count": 10,
   "metadata": {},
   "outputs": [
    {
     "data": {
      "text/html": [
       "<div class=\"data-frame\"><p>3 rows × 8 columns (omitted printing of 3 columns)</p><table class=\"data-frame\"><thead><tr><th></th><th>people_obs</th><th>β1</th><th>β2</th><th>β3</th><th>β4</th></tr><tr><th></th><th title=\"String\">String</th><th title=\"Tuple{Float64, Float64}\">Tuple…</th><th title=\"Tuple{Float64, Float64}\">Tuple…</th><th title=\"Tuple{Float64, Float64}\">Tuple…</th><th title=\"Tuple{Float64, Float64}\">Tuple…</th></tr></thead><tbody><tr><th>1</th><td>N: 100  ni: 2</td><td>(0.64, 0.0482418)</td><td>(0.78, 0.0416333)</td><td>(0.74, 0.0440844)</td><td>(0.59, 0.0494311)</td></tr><tr><th>2</th><td>N: 1000  ni: 2</td><td>(0.69, 0.0464823)</td><td>(0.7, 0.0460566)</td><td>(0.62, 0.0487832)</td><td>(0.58, 0.0496045)</td></tr><tr><th>3</th><td>N: 10000  ni: 2</td><td>(0.72, 0.0451261)</td><td>(0.7, 0.0460566)</td><td>(0.71, 0.0456048)</td><td>(0.59, 0.0494311)</td></tr></tbody></table></div>"
      ],
      "text/latex": [
       "\\begin{tabular}{r|cccccc}\n",
       "\t& people\\_obs & β1 & β2 & β3 & β4 & \\\\\n",
       "\t\\hline\n",
       "\t& String & Tuple… & Tuple… & Tuple… & Tuple… & \\\\\n",
       "\t\\hline\n",
       "\t1 & N: 100  ni: 2 & (0.64, 0.0482418) & (0.78, 0.0416333) & (0.74, 0.0440844) & (0.59, 0.0494311) & $\\dots$ \\\\\n",
       "\t2 & N: 1000  ni: 2 & (0.69, 0.0464823) & (0.7, 0.0460566) & (0.62, 0.0487832) & (0.58, 0.0496045) & $\\dots$ \\\\\n",
       "\t3 & N: 10000  ni: 2 & (0.72, 0.0451261) & (0.7, 0.0460566) & (0.71, 0.0456048) & (0.59, 0.0494311) & $\\dots$ \\\\\n",
       "\\end{tabular}\n"
      ],
      "text/plain": [
       "\u001b[1m3×8 DataFrame\u001b[0m\n",
       "\u001b[1m Row \u001b[0m│\u001b[1m people_obs      \u001b[0m\u001b[1m β1                \u001b[0m\u001b[1m β2                \u001b[0m\u001b[1m β3              \u001b[0m ⋯\n",
       "\u001b[1m     \u001b[0m│\u001b[90m String          \u001b[0m\u001b[90m Tuple…            \u001b[0m\u001b[90m Tuple…            \u001b[0m\u001b[90m Tuple…          \u001b[0m ⋯\n",
       "─────┼──────────────────────────────────────────────────────────────────────────\n",
       "   1 │ N: 100  ni: 2    (0.64, 0.0482418)  (0.78, 0.0416333)  (0.74, 0.0440844 ⋯\n",
       "   2 │ N: 1000  ni: 2   (0.69, 0.0464823)  (0.7, 0.0460566)   (0.62, 0.0487832\n",
       "   3 │ N: 10000  ni: 2  (0.72, 0.0451261)  (0.7, 0.0460566)   (0.71, 0.0456048\n",
       "\u001b[36m                                                               5 columns omitted\u001b[0m"
      ]
     },
     "execution_count": 10,
     "metadata": {},
     "output_type": "execute_result"
    }
   ],
   "source": [
    "######  supplementary table s1\n",
    "using Random, DataFrames, DelimitedFiles, Statistics\n",
    "import StatsBase: sem\n",
    "\n",
    "βθcoverage = readdlm(\"beta_sigma_coverage_bivariate_mixed_poisson_bernoulli_vcm$(nsims)reps_sim.csv\", ',')\n",
    "\n",
    "m  = 1\n",
    "\n",
    "covdf = DataFrame(Matrix(transpose(βθcoverage)), :auto)\n",
    "rename!(covdf, Symbol.([[\"β$i\" for i in 1:p]; [\"θ$i\" for i in 1:m]]))\n",
    "covdf[!, :samplesize] = sample_sizes\n",
    "covdf[!, :obssize] = obs_sizes\n",
    "first(covdf, 10)\n",
    "\n",
    "row_stats = [[(mean(col), sem(col)) for col = eachcol(d[!, 1:end-2])] for d = groupby(covdf, [:samplesize; :obssize])]\n",
    "df = DataFrame(row_stats, :auto)\n",
    "ss_obs = unique(\"N: \" .* sample_sizes .* \"  ni: \" .* obs_sizes)\n",
    "rename!(df, Symbol.(ss_obs))\n",
    "covdfdisplay = DataFrame([[names(df)]; collect.(eachrow(df))], \n",
    "    [:people_obs; Symbol.([[\"β$i\" for i in 1:p]; [\"θ$i\" for i in 1:m]])])\n",
    "# deletecols!(covdfdisplay, p + 2)\n",
    "covdfdisplay\n"
   ]
  },
  {
   "cell_type": "code",
   "execution_count": 11,
   "metadata": {},
   "outputs": [
    {
     "data": {
      "text/html": [
       "<div class=\"data-frame\"><p>3 rows × 8 columns (omitted printing of 3 columns)</p><table class=\"data-frame\"><thead><tr><th></th><th>people_obs</th><th>β1</th><th>β2</th><th>β3</th><th>β4</th></tr><tr><th></th><th title=\"String\">String</th><th title=\"Tuple{Float64, Float64}\">Tuple…</th><th title=\"Tuple{Float64, Float64}\">Tuple…</th><th title=\"Tuple{Float64, Float64}\">Tuple…</th><th title=\"Tuple{Float64, Float64}\">Tuple…</th></tr></thead><tbody><tr><th>1</th><td>N: 100  ni: 2</td><td>(0.64, 0.0482418)</td><td>(0.95, 0.0219043)</td><td>(0.93, 0.0256432)</td><td>(0.93, 0.0256432)</td></tr><tr><th>2</th><td>N: 1000  ni: 2</td><td>(0.01, 0.01)</td><td>(0.91, 0.0287623)</td><td>(0.91, 0.0287623)</td><td>(0.92, 0.027266)</td></tr><tr><th>3</th><td>N: 10000  ni: 2</td><td>(0.0, 0.0)</td><td>(0.46, 0.0500908)</td><td>(0.88, 0.0326599)</td><td>(0.68, 0.0468826)</td></tr></tbody></table></div>"
      ],
      "text/latex": [
       "\\begin{tabular}{r|cccccc}\n",
       "\t& people\\_obs & β1 & β2 & β3 & β4 & \\\\\n",
       "\t\\hline\n",
       "\t& String & Tuple… & Tuple… & Tuple… & Tuple… & \\\\\n",
       "\t\\hline\n",
       "\t1 & N: 100  ni: 2 & (0.64, 0.0482418) & (0.95, 0.0219043) & (0.93, 0.0256432) & (0.93, 0.0256432) & $\\dots$ \\\\\n",
       "\t2 & N: 1000  ni: 2 & (0.01, 0.01) & (0.91, 0.0287623) & (0.91, 0.0287623) & (0.92, 0.027266) & $\\dots$ \\\\\n",
       "\t3 & N: 10000  ni: 2 & (0.0, 0.0) & (0.46, 0.0500908) & (0.88, 0.0326599) & (0.68, 0.0468826) & $\\dots$ \\\\\n",
       "\\end{tabular}\n"
      ],
      "text/plain": [
       "\u001b[1m3×8 DataFrame\u001b[0m\n",
       "\u001b[1m Row \u001b[0m│\u001b[1m people_obs      \u001b[0m\u001b[1m β1                \u001b[0m\u001b[1m β2                \u001b[0m\u001b[1m β3              \u001b[0m ⋯\n",
       "\u001b[1m     \u001b[0m│\u001b[90m String          \u001b[0m\u001b[90m Tuple…            \u001b[0m\u001b[90m Tuple…            \u001b[0m\u001b[90m Tuple…          \u001b[0m ⋯\n",
       "─────┼──────────────────────────────────────────────────────────────────────────\n",
       "   1 │ N: 100  ni: 2    (0.64, 0.0482418)  (0.95, 0.0219043)  (0.93, 0.0256432 ⋯\n",
       "   2 │ N: 1000  ni: 2   (0.01, 0.01)       (0.91, 0.0287623)  (0.91, 0.0287623\n",
       "   3 │ N: 10000  ni: 2  (0.0, 0.0)         (0.46, 0.0500908)  (0.88, 0.0326599\n",
       "\u001b[36m                                                               5 columns omitted\u001b[0m"
      ]
     },
     "execution_count": 11,
     "metadata": {},
     "output_type": "execute_result"
    }
   ],
   "source": [
    "βθcoverage_GLM = readdlm(\"beta_sigma_coverage_GLM_bivariate_mixed_poisson_bernoulli_vcm$(nsims)reps_sim.csv\", ',')\n",
    "\n",
    "m  = 1\n",
    "\n",
    "covdf = DataFrame(Matrix(transpose(βθcoverage_GLM)), :auto)\n",
    "rename!(covdf, Symbol.([[\"β$i\" for i in 1:p]; [\"θ$i\" for i in 1:m]]))\n",
    "covdf[!, :samplesize] = sample_sizes\n",
    "covdf[!, :obssize] = obs_sizes\n",
    "first(covdf, 10)\n",
    "\n",
    "row_stats = [[(mean(col), sem(col)) for col = eachcol(d[!, 1:end-2])] for d = groupby(covdf, [:samplesize; :obssize])]\n",
    "df = DataFrame(row_stats, :auto)\n",
    "ss_obs = unique(\"N: \" .* sample_sizes .* \"  ni: \" .* obs_sizes)\n",
    "rename!(df, Symbol.(ss_obs))\n",
    "covdfdisplay = DataFrame([[names(df)]; collect.(eachrow(df))], \n",
    "    [:people_obs; Symbol.([[\"β$i\" for i in 1:p]; [\"θ$i\" for i in 1:m]])])\n",
    "# deletecols!(covdfdisplay, p + 2)\n",
    "covdfdisplay\n"
   ]
  },
  {
   "cell_type": "code",
   "execution_count": 12,
   "metadata": {},
   "outputs": [
    {
     "data": {
      "text/html": [
       "<div class=\"data-frame\"><p>1,200 rows × 5 columns</p><table class=\"data-frame\"><thead><tr><th></th><th>mse</th><th>obssize</th><th>samplesize</th><th>parameters</th><th>robust</th></tr><tr><th></th><th title=\"Float64\">Float64</th><th title=\"String\">String</th><th title=\"String\">String</th><th title=\"String\">String</th><th title=\"String\">String</th></tr></thead><tbody><tr><th>1</th><td>0.0119292</td><td>2</td><td>100</td><td>beta</td><td>Bivariate Mixed Poisson Bernoulli QC</td></tr><tr><th>2</th><td>0.0221496</td><td>2</td><td>100</td><td>beta</td><td>Bivariate Mixed Poisson Bernoulli QC</td></tr><tr><th>3</th><td>0.0398217</td><td>2</td><td>100</td><td>beta</td><td>Bivariate Mixed Poisson Bernoulli QC</td></tr><tr><th>4</th><td>0.0487533</td><td>2</td><td>100</td><td>beta</td><td>Bivariate Mixed Poisson Bernoulli QC</td></tr><tr><th>5</th><td>0.0324409</td><td>2</td><td>100</td><td>beta</td><td>Bivariate Mixed Poisson Bernoulli QC</td></tr><tr><th>6</th><td>0.932151</td><td>2</td><td>100</td><td>beta</td><td>Bivariate Mixed Poisson Bernoulli QC</td></tr><tr><th>7</th><td>0.102978</td><td>2</td><td>100</td><td>beta</td><td>Bivariate Mixed Poisson Bernoulli QC</td></tr><tr><th>8</th><td>0.0758113</td><td>2</td><td>100</td><td>beta</td><td>Bivariate Mixed Poisson Bernoulli QC</td></tr><tr><th>9</th><td>0.148822</td><td>2</td><td>100</td><td>beta</td><td>Bivariate Mixed Poisson Bernoulli QC</td></tr><tr><th>10</th><td>0.224767</td><td>2</td><td>100</td><td>beta</td><td>Bivariate Mixed Poisson Bernoulli QC</td></tr><tr><th>11</th><td>0.14162</td><td>2</td><td>100</td><td>beta</td><td>Bivariate Mixed Poisson Bernoulli QC</td></tr><tr><th>12</th><td>0.0931818</td><td>2</td><td>100</td><td>beta</td><td>Bivariate Mixed Poisson Bernoulli QC</td></tr><tr><th>13</th><td>0.0941434</td><td>2</td><td>100</td><td>beta</td><td>Bivariate Mixed Poisson Bernoulli QC</td></tr><tr><th>14</th><td>0.0448146</td><td>2</td><td>100</td><td>beta</td><td>Bivariate Mixed Poisson Bernoulli QC</td></tr><tr><th>15</th><td>0.019195</td><td>2</td><td>100</td><td>beta</td><td>Bivariate Mixed Poisson Bernoulli QC</td></tr><tr><th>16</th><td>0.128444</td><td>2</td><td>100</td><td>beta</td><td>Bivariate Mixed Poisson Bernoulli QC</td></tr><tr><th>17</th><td>0.11585</td><td>2</td><td>100</td><td>beta</td><td>Bivariate Mixed Poisson Bernoulli QC</td></tr><tr><th>18</th><td>0.024861</td><td>2</td><td>100</td><td>beta</td><td>Bivariate Mixed Poisson Bernoulli QC</td></tr><tr><th>19</th><td>0.138515</td><td>2</td><td>100</td><td>beta</td><td>Bivariate Mixed Poisson Bernoulli QC</td></tr><tr><th>20</th><td>0.0856536</td><td>2</td><td>100</td><td>beta</td><td>Bivariate Mixed Poisson Bernoulli QC</td></tr><tr><th>21</th><td>0.0981679</td><td>2</td><td>100</td><td>beta</td><td>Bivariate Mixed Poisson Bernoulli QC</td></tr><tr><th>22</th><td>0.45555</td><td>2</td><td>100</td><td>beta</td><td>Bivariate Mixed Poisson Bernoulli QC</td></tr><tr><th>23</th><td>0.133026</td><td>2</td><td>100</td><td>beta</td><td>Bivariate Mixed Poisson Bernoulli QC</td></tr><tr><th>24</th><td>6.42623</td><td>2</td><td>100</td><td>beta</td><td>Bivariate Mixed Poisson Bernoulli QC</td></tr><tr><th>25</th><td>0.0248277</td><td>2</td><td>100</td><td>beta</td><td>Bivariate Mixed Poisson Bernoulli QC</td></tr><tr><th>26</th><td>0.0252177</td><td>2</td><td>100</td><td>beta</td><td>Bivariate Mixed Poisson Bernoulli QC</td></tr><tr><th>27</th><td>0.0593721</td><td>2</td><td>100</td><td>beta</td><td>Bivariate Mixed Poisson Bernoulli QC</td></tr><tr><th>28</th><td>0.0835798</td><td>2</td><td>100</td><td>beta</td><td>Bivariate Mixed Poisson Bernoulli QC</td></tr><tr><th>29</th><td>0.226329</td><td>2</td><td>100</td><td>beta</td><td>Bivariate Mixed Poisson Bernoulli QC</td></tr><tr><th>30</th><td>0.0483747</td><td>2</td><td>100</td><td>beta</td><td>Bivariate Mixed Poisson Bernoulli QC</td></tr><tr><th>&vellip;</th><td>&vellip;</td><td>&vellip;</td><td>&vellip;</td><td>&vellip;</td><td>&vellip;</td></tr></tbody></table></div>"
      ],
      "text/latex": [
       "\\begin{tabular}{r|ccccc}\n",
       "\t& mse & obssize & samplesize & parameters & robust\\\\\n",
       "\t\\hline\n",
       "\t& Float64 & String & String & String & String\\\\\n",
       "\t\\hline\n",
       "\t1 & 0.0119292 & 2 & 100 & beta & Bivariate Mixed Poisson Bernoulli QC \\\\\n",
       "\t2 & 0.0221496 & 2 & 100 & beta & Bivariate Mixed Poisson Bernoulli QC \\\\\n",
       "\t3 & 0.0398217 & 2 & 100 & beta & Bivariate Mixed Poisson Bernoulli QC \\\\\n",
       "\t4 & 0.0487533 & 2 & 100 & beta & Bivariate Mixed Poisson Bernoulli QC \\\\\n",
       "\t5 & 0.0324409 & 2 & 100 & beta & Bivariate Mixed Poisson Bernoulli QC \\\\\n",
       "\t6 & 0.932151 & 2 & 100 & beta & Bivariate Mixed Poisson Bernoulli QC \\\\\n",
       "\t7 & 0.102978 & 2 & 100 & beta & Bivariate Mixed Poisson Bernoulli QC \\\\\n",
       "\t8 & 0.0758113 & 2 & 100 & beta & Bivariate Mixed Poisson Bernoulli QC \\\\\n",
       "\t9 & 0.148822 & 2 & 100 & beta & Bivariate Mixed Poisson Bernoulli QC \\\\\n",
       "\t10 & 0.224767 & 2 & 100 & beta & Bivariate Mixed Poisson Bernoulli QC \\\\\n",
       "\t11 & 0.14162 & 2 & 100 & beta & Bivariate Mixed Poisson Bernoulli QC \\\\\n",
       "\t12 & 0.0931818 & 2 & 100 & beta & Bivariate Mixed Poisson Bernoulli QC \\\\\n",
       "\t13 & 0.0941434 & 2 & 100 & beta & Bivariate Mixed Poisson Bernoulli QC \\\\\n",
       "\t14 & 0.0448146 & 2 & 100 & beta & Bivariate Mixed Poisson Bernoulli QC \\\\\n",
       "\t15 & 0.019195 & 2 & 100 & beta & Bivariate Mixed Poisson Bernoulli QC \\\\\n",
       "\t16 & 0.128444 & 2 & 100 & beta & Bivariate Mixed Poisson Bernoulli QC \\\\\n",
       "\t17 & 0.11585 & 2 & 100 & beta & Bivariate Mixed Poisson Bernoulli QC \\\\\n",
       "\t18 & 0.024861 & 2 & 100 & beta & Bivariate Mixed Poisson Bernoulli QC \\\\\n",
       "\t19 & 0.138515 & 2 & 100 & beta & Bivariate Mixed Poisson Bernoulli QC \\\\\n",
       "\t20 & 0.0856536 & 2 & 100 & beta & Bivariate Mixed Poisson Bernoulli QC \\\\\n",
       "\t21 & 0.0981679 & 2 & 100 & beta & Bivariate Mixed Poisson Bernoulli QC \\\\\n",
       "\t22 & 0.45555 & 2 & 100 & beta & Bivariate Mixed Poisson Bernoulli QC \\\\\n",
       "\t23 & 0.133026 & 2 & 100 & beta & Bivariate Mixed Poisson Bernoulli QC \\\\\n",
       "\t24 & 6.42623 & 2 & 100 & beta & Bivariate Mixed Poisson Bernoulli QC \\\\\n",
       "\t25 & 0.0248277 & 2 & 100 & beta & Bivariate Mixed Poisson Bernoulli QC \\\\\n",
       "\t26 & 0.0252177 & 2 & 100 & beta & Bivariate Mixed Poisson Bernoulli QC \\\\\n",
       "\t27 & 0.0593721 & 2 & 100 & beta & Bivariate Mixed Poisson Bernoulli QC \\\\\n",
       "\t28 & 0.0835798 & 2 & 100 & beta & Bivariate Mixed Poisson Bernoulli QC \\\\\n",
       "\t29 & 0.226329 & 2 & 100 & beta & Bivariate Mixed Poisson Bernoulli QC \\\\\n",
       "\t30 & 0.0483747 & 2 & 100 & beta & Bivariate Mixed Poisson Bernoulli QC \\\\\n",
       "\t$\\dots$ & $\\dots$ & $\\dots$ & $\\dots$ & $\\dots$ & $\\dots$ \\\\\n",
       "\\end{tabular}\n"
      ],
      "text/plain": [
       "\u001b[1m1200×5 DataFrame\u001b[0m\n",
       "\u001b[1m  Row \u001b[0m│\u001b[1m mse       \u001b[0m\u001b[1m obssize \u001b[0m\u001b[1m samplesize \u001b[0m\u001b[1m parameters \u001b[0m\u001b[1m robust                    \u001b[0m ⋯\n",
       "\u001b[1m      \u001b[0m│\u001b[90m Float64   \u001b[0m\u001b[90m String  \u001b[0m\u001b[90m String     \u001b[0m\u001b[90m String     \u001b[0m\u001b[90m String                    \u001b[0m ⋯\n",
       "──────┼─────────────────────────────────────────────────────────────────────────\n",
       "    1 │ 0.0119292  2        100         beta        Bivariate Mixed Poisson Be ⋯\n",
       "    2 │ 0.0221496  2        100         beta        Bivariate Mixed Poisson Be\n",
       "    3 │ 0.0398217  2        100         beta        Bivariate Mixed Poisson Be\n",
       "    4 │ 0.0487533  2        100         beta        Bivariate Mixed Poisson Be\n",
       "    5 │ 0.0324409  2        100         beta        Bivariate Mixed Poisson Be ⋯\n",
       "    6 │ 0.932151   2        100         beta        Bivariate Mixed Poisson Be\n",
       "    7 │ 0.102978   2        100         beta        Bivariate Mixed Poisson Be\n",
       "    8 │ 0.0758113  2        100         beta        Bivariate Mixed Poisson Be\n",
       "    9 │ 0.148822   2        100         beta        Bivariate Mixed Poisson Be ⋯\n",
       "   10 │ 0.224767   2        100         beta        Bivariate Mixed Poisson Be\n",
       "   11 │ 0.14162    2        100         beta        Bivariate Mixed Poisson Be\n",
       "  ⋮   │     ⋮         ⋮         ⋮           ⋮                       ⋮          ⋱\n",
       " 1191 │ 0.25       2        10000       theta       Separate Poisson Bernoulli\n",
       " 1192 │ 0.25       2        10000       theta       Separate Poisson Bernoulli ⋯\n",
       " 1193 │ 0.25       2        10000       theta       Separate Poisson Bernoulli\n",
       " 1194 │ 0.25       2        10000       theta       Separate Poisson Bernoulli\n",
       " 1195 │ 0.25       2        10000       theta       Separate Poisson Bernoulli\n",
       " 1196 │ 0.25       2        10000       theta       Separate Poisson Bernoulli ⋯\n",
       " 1197 │ 0.25       2        10000       theta       Separate Poisson Bernoulli\n",
       " 1198 │ 0.25       2        10000       theta       Separate Poisson Bernoulli\n",
       " 1199 │ 0.25       2        10000       theta       Separate Poisson Bernoulli\n",
       " 1200 │ 0.25       2        10000       theta       Separate Poisson Bernoulli ⋯\n",
       "\u001b[36m                                                  1 column and 1179 rows omitted\u001b[0m"
      ]
     },
     "execution_count": 12,
     "metadata": {},
     "output_type": "execute_result"
    }
   ],
   "source": [
    "#### \n",
    "#import data and reorganize to create figure\n",
    "using Random, DataFrames, DelimitedFiles, Statistics, RCall, Printf\n",
    "import StatsBase: sem\n",
    "\n",
    "βMseresult = vec(readdlm(\"mse_beta_bivariate_mixed_poisson_bernoulli_vcm$(nsims)reps_sim.csv\", ','))\n",
    "θMseresult = vec(readdlm(\"mse_Sigma_bivariate_mixed_poisson_bernoulli_vcm$(nsims)reps_sim.csv\", ','))\n",
    "\n",
    "βMseresult_GLM = vec(readdlm(\"mse_beta_GLM_bivariate_mixed_poisson_bernoulli_vcm$(nsims)reps_sim.csv\", ','))\n",
    "θMseresult_GLM = vec(readdlm(\"mse_Sigma_GLM_bivariate_mixed_poisson_bernoulli_vcm$(nsims)reps_sim.csv\", ','))\n",
    "\n",
    "p = 6; m = 1\n",
    "sample_sizes = repeat(string.(samplesizes), inner = nsims * length(ns))\n",
    "obs_sizes = repeat(string.(ns), inner = nsims, outer = length(samplesizes))\n",
    "msedf1 = DataFrame(βmse = βMseresult, thetamse = θMseresult, \n",
    "    samplesize = sample_sizes, obssize = obs_sizes)\n",
    "\n",
    "msedf2 = DataFrame(βmse = βMseresult_GLM, thetamse = θMseresult_GLM, \n",
    "    samplesize = sample_sizes, obssize = obs_sizes)\n",
    "\n",
    "#rename to make parsing easier for R.\n",
    "\n",
    "msedf1 = deepcopy(msedf1)\n",
    "rename!(msedf1, [\"betamse\"\n",
    "    \"thetamse\"\n",
    "    \"samplesize\"\n",
    " \"obssize\"]);\n",
    "\n",
    "msedf2 = deepcopy(msedf2)\n",
    "rename!(msedf2, [\"betamse\"\n",
    "    \"thetamse\"\n",
    "    \"samplesize\"\n",
    " \"obssize\"]);\n",
    "\n",
    "mses = [msedf1[!, :betamse]; msedf1[!, :thetamse]; msedf2[!, :betamse]; msedf2[!, :thetamse]]\n",
    "    # msedfnormR[!, :betamse]; msedfnormR[!, :taumse]; msedfnormR[!, :Sigmamse]]\n",
    "obssize = [collect([repeat(msedf1[!, :obssize], 2)]...) ; collect([repeat(msedf2[!, :obssize], 2)]...)]\n",
    "#40\n",
    "samplesize = [collect([repeat(msedf1[!, :samplesize], 2)]...) ; collect([repeat(msedf2[!, :samplesize], 2)]...)]\n",
    "\n",
    "parameters = [collect([repeat(string.([:beta, :theta]), inner = nsims * length(ns) * length(samplesizes))]...) ; collect([repeat(string.([:beta, :theta]), inner = nsims * length(ns) * length(samplesizes))]...)]\n",
    "robust = [collect([repeat([\"Bivariate Mixed Poisson Bernoulli QC\"], 2 * nsims * length(ns) * length(samplesizes))]...); collect([repeat([\"Separate Poisson Bernoulli GLM\"],  2 * nsims * length(ns) * length(samplesizes))]...)]\n",
    "\n",
    "msedfR = DataFrame(mse = mses, obssize = obssize, samplesize = samplesize,\n",
    "    parameters = parameters, robust = robust)\n",
    "\n",
    "#5 of the 30,000 simulations did not converge, filter out\n",
    "msedfR = filter(x -> !isnan(x.mse), msedfR)\n",
    "# additionally, there are 5 where an error was not caught so it did not try a differnt solver\n",
    "msedfR = filter(x -> x.mse < 40000, msedfR)"
   ]
  },
  {
   "cell_type": "code",
   "execution_count": 13,
   "metadata": {},
   "outputs": [
    {
     "name": "stderr",
     "output_type": "stream",
     "text": [
      "┌ Warning: RCall.jl: Warning: package ‘scales’ was built under R version 4.0.2\n",
      "└ @ RCall /Users/sarahji/.julia/packages/RCall/6kphM/src/io.jl:172\n",
      "┌ Warning: RCall.jl: Warning: package ‘data.table’ was built under R version 4.0.2\n",
      "└ @ RCall /Users/sarahji/.julia/packages/RCall/6kphM/src/io.jl:172\n"
     ]
    },
    {
     "data": {
      "image/png": "[encoded data removed]"
     },
     "metadata": {},
     "output_type": "display_data"
    },
    {
     "data": {
      "text/plain": [
       "RObject{VecSxp}\n"
      ]
     },
     "execution_count": 13,
     "metadata": {},
     "output_type": "execute_result"
    }
   ],
   "source": [
    "### working on figure next\n",
    "@rput msedfR\n",
    "\n",
    "R\"\"\"\n",
    "library(scales)\n",
    "library(ggplot2)\n",
    "library(data.table)\n",
    "\n",
    "msedfR = data.table(msedfR)\n",
    "\n",
    "msedfR[parameters == \"beta\",y_min := 10^-4]\n",
    "msedfR[parameters == \"beta\",y_max := 10^-2]\n",
    "msedfR[parameters == \"theta\",y_min := 10^-5]\n",
    "msedfR[parameters == \"theta\",y_max := 10^1]\n",
    "\n",
    "#msedfR[parameters == \"beta\",y_min := 10^-8]\n",
    "#msedfR[parameters == \"beta\",y_max := 10^-2]\n",
    "#msedfR[parameters == \"tau\",y_min := 10^-8]\n",
    "#msedfR[parameters == \"tau\",y_max := 10^-2]\n",
    "#msedfR[parameters == \"Sigma\",y_min := 10^-5]\n",
    "#msedfR[parameters == \"Sigma\",y_max := 10^-2]\n",
    "\n",
    "\n",
    "msedfR$obssize = factor(msedfR$obssize, levels = c('2', '5', '10', '15', '20', '25'))\n",
    "msedfR$samplesize = factor(msedfR$samplesize, levels = c('100', '1000', '10000'))\n",
    "msedfR$parameters = factor(msedfR$parameters, levels = c('beta', 'theta'), labels = c(beta = expression(hat(bold(beta))), thetaa = expression(hat(bold(theta))[])))\n",
    "msedfR$robust <- factor(msedfR$robust, levels = c('Bivariate Mixed Poisson Bernoulli QC', 'Separate Poisson Bernoulli GLM'),\n",
    "    labels = c(expression(paste(\"Bivariate Mixed Poisson Bernoulli QC\")), expression(paste(\"Separate Poisson Bernoulli GLM\"))))\n",
    "\n",
    "\n",
    "#mseplot <- ggplot(msedfR[msedfR$mse < 10^0, ], aes(x=samplesize, y=mse, fill=obssize)) + \n",
    "mseplot = ggplot(msedfR[msedfR$mse < 10^3, ], aes(x=samplesize, y=mse, fill=obssize)) + \n",
    "  #geom_boxplot(outlier.size = 0.0, outlier.alpha = 0) +\n",
    "  geom_boxplot(outlier.size = 0.25) +\n",
    "#    geom_violin() +\n",
    "    facet_grid(parameters ~ robust, labeller = label_parsed, scales = \"free_y\") +\n",
    "  theme(legend.position=\"right\", legend.key = element_blank(), axis.text.x = element_text(angle=0, size=30),\n",
    "        axis.text.y = element_text(angle=0, size=30), axis.title.x = element_text(size = 30, face=\"bold\"), \n",
    "        axis.title.y = element_text(size = 40, face=\"bold\"), legend.title = element_text(size = 30, face=\"bold\"),\n",
    "        panel.grid.major = element_blank(), panel.grid.minor = element_blank(),\n",
    "        legend.text=element_text(size=30), panel.background = element_rect(fill = NA, color = \"black\"),\n",
    "        #panel.background = element_blank(), #panel.border = element_blank(),\n",
    "        axis.line = element_line(color = 'black',size=0.3), plot.title = element_text(hjust = 0.5),\n",
    "        strip.background = element_rect(colour=\"black\", fill=\"white\"), strip.text.y = element_text(angle = 0, size=75, face=\"bold\"),\n",
    "        strip.text.x = element_text(size=25)) + \n",
    "  scale_fill_manual(values = c(\"#c85f55\",\n",
    "\"#a964bf\",\n",
    "\"#8db352\",\n",
    "\"#fa7300\",\n",
    "\"#05aec0\",\n",
    "\"#ff1493\")) +\n",
    "#scale_y_log10(breaks = scales::trans_breaks(\"log10\", function(x) 10^x)) +\n",
    "#scale_y_log10(breaks = 10^(-8:8), limit=c(10^-8, 10^2)) + \n",
    "scale_y_log10(breaks = 10^seq(-10, 10, 2), labels=trans_format(\"log10\", math_format(10^.x))) + #, limit=c(10^-8, 10^2)) +\n",
    "  labs(x = \"Sample Size\", y = \"MSE of Parameter Estimates\", fill = \"Cluster Size\") +\n",
    "geom_blank(aes(y = y_max)) + \n",
    "geom_blank(aes(y = y_min)) \n",
    "\n",
    "\"\"\""
   ]
  },
  {
   "cell_type": "code",
   "execution_count": 14,
   "metadata": {},
   "outputs": [
    {
     "data": {
      "text/plain": [
       "RObject{StrSxp}\n",
       "[1] \"bivariate_mixed_msefacetplot_vs_GLM.png\"\n"
      ]
     },
     "execution_count": 14,
     "metadata": {},
     "output_type": "execute_result"
    }
   ],
   "source": [
    "R\"\"\"\n",
    "ggsave('bivariate_mixed_msefacetplot_vs_GLM.png', mseplot, width = 20, height = 15, units = 'in', dpi = 450)\n",
    "\"\"\""
   ]
  },
  {
   "cell_type": "code",
   "execution_count": null,
   "metadata": {},
   "outputs": [],
   "source": []
  }
 ],
 "metadata": {
  "@webio": {
   "lastCommId": null,
   "lastKernelId": null
  },
  "kernelspec": {
   "display_name": "Julia 1.6.2",
   "language": "julia",
   "name": "julia-1.6"
  },
  "language_info": {
   "file_extension": ".jl",
   "mimetype": "application/julia",
   "name": "julia",
   "version": "1.6.2"
  }
 },
 "nbformat": 4,
 "nbformat_minor": 2
}
