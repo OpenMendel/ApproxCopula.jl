{
 "cells": [
  {
   "cell_type": "markdown",
   "metadata": {},
   "source": [
    "## Bivariate Mixed Outcome Model: Poisson and Bernoulli VC Run-time and MSE Results \n",
    "\n",
    "In this example, $y_{i1} \\sim Poisson(\\mu_{i1}(\\mathbf{\\beta_1}))$ and $y_{i2} \\sim Bernoulli(\\mu_{i2}(\\mathbf{\\beta_2}))$\n",
    "\n",
    "We have three fixed effects for each outcome, $\\beta_{true} \\sim rand(Uniform(-0.2, 0.2), p)$ where p = 6 fixed effects stacking $\\beta_1, \\beta_2$\n",
    "\n",
    "In this example we have Poisson and Bernoulli base distribution with Log and Logit Link functions and covariance matrix $\\Gamma$ structured under VC covariance with $\\theta = 0.1$, we want to compare the MSE with that of GLM.\n",
    "\n",
    "We run each scenario 100 times."
   ]
  },
  {
   "cell_type": "code",
   "execution_count": 1,
   "metadata": {},
   "outputs": [
    {
     "name": "stdout",
     "output_type": "stream",
     "text": [
      "Julia Version 1.6.2\n",
      "Commit 1b93d53fc4 (2021-07-14 15:36 UTC)\n",
      "Platform Info:\n",
      "  OS: macOS (x86_64-apple-darwin18.7.0)\n",
      "  CPU: Intel(R) Core(TM) i9-9880H CPU @ 2.30GHz\n",
      "  WORD_SIZE: 64\n",
      "  LIBM: libopenlibm\n",
      "  LLVM: libLLVM-11.0.1 (ORCJIT, skylake)\n"
     ]
    }
   ],
   "source": [
    "versioninfo()"
   ]
  },
  {
   "cell_type": "code",
   "execution_count": 2,
   "metadata": {},
   "outputs": [
    {
     "name": "stderr",
     "output_type": "stream",
     "text": [
      "┌ Info: Precompiling GLMCopula [c47b6ae2-b804-4668-9957-eb588c99ffbc]\n",
      "└ @ Base loading.jl:1342\n"
     ]
    }
   ],
   "source": [
    "using GLMCopula, DelimitedFiles, LinearAlgebra, Random, GLM\n",
    "using Random, Roots, SpecialFunctions, DataFrames"
   ]
  },
  {
   "cell_type": "code",
   "execution_count": 3,
   "metadata": {},
   "outputs": [
    {
     "data": {
      "text/plain": [
       "100"
      ]
     },
     "execution_count": 3,
     "metadata": {},
     "output_type": "execute_result"
    }
   ],
   "source": [
    "p = 6    # number of fixed effects, including intercept\n",
    "m = 1    # number of variance components\n",
    "# true parameter values\n",
    "Random.seed!(12345)\n",
    "βtrue = rand(Uniform(-0.2, 0.2), p)\n",
    "θtrue = [0.1]\n",
    "\n",
    "# generate data\n",
    "intervals = zeros(p + m, 2) #hold intervals\n",
    "curcoverage = zeros(p + m) #hold current coverage resutls\n",
    "trueparams = [βtrue; θtrue] #hold true parameters\n",
    "\n",
    "#simulation parameters\n",
    "samplesizes = [100; 1000; 10000]\n",
    "ns = [2]\n",
    "nsims = 100"
   ]
  },
  {
   "cell_type": "code",
   "execution_count": 4,
   "metadata": {},
   "outputs": [
    {
     "name": "stderr",
     "output_type": "stream",
     "text": [
      "┌ Info: reading in the files with results\n",
      "└ @ Main In[4]:1\n"
     ]
    },
    {
     "data": {
      "text/plain": [
       "300-element Vector{Float64}:\n",
       " 0.038837453\n",
       " 0.03614444\n",
       " 0.04563917\n",
       " 0.059039459\n",
       " 0.058211226\n",
       " 0.063756135\n",
       " 0.051247363\n",
       " 0.038769642\n",
       " 0.042628607\n",
       " 0.063466227\n",
       " 0.059229823\n",
       " 0.054714101\n",
       " 0.053173574\n",
       " ⋮\n",
       " 1.312671022\n",
       " 1.188608507\n",
       " 1.163718813\n",
       " 1.599294694\n",
       " 1.126422802\n",
       " 1.719302911\n",
       " 1.255967361\n",
       " 1.131591939\n",
       " 1.101735856\n",
       " 1.756100294\n",
       " 2.228318726\n",
       " 1.271883978"
      ]
     },
     "execution_count": 4,
     "metadata": {},
     "output_type": "execute_result"
    }
   ],
   "source": [
    "@info \"reading in the files with results\"\n",
    "βMseresult = vec(readdlm(\"mse_beta_bivariate_mixed_poisson_bernoulli_vcm$(nsims)reps_sim.csv\", ','))\n",
    "θMseresult = vec(readdlm(\"mse_Sigma_bivariate_mixed_poisson_bernoulli_vcm$(nsims)reps_sim.csv\", ','))\n",
    "fittimes_QC = vec(readdlm(\"fittimes_bivariate_mixed_poisson_bernoulli_vcm$(nsims)reps_sim.csv\", ','))"
   ]
  },
  {
   "cell_type": "code",
   "execution_count": 5,
   "metadata": {},
   "outputs": [
    {
     "data": {
      "text/plain": [
       "300-element Vector{Float64}:\n",
       " 0.000324737\n",
       " 0.00026663\n",
       " 0.000230822\n",
       " 0.000239824\n",
       " 0.00022711\n",
       " 0.000224712\n",
       " 0.000227026\n",
       " 0.000216583\n",
       " 0.000219724\n",
       " 0.000217725\n",
       " 0.000214736\n",
       " 0.000207464\n",
       " 0.000219733\n",
       " ⋮\n",
       " 0.006101629\n",
       " 0.006138215\n",
       " 0.00609851\n",
       " 0.006150894\n",
       " 0.00600142\n",
       " 0.00614626\n",
       " 0.006091142\n",
       " 0.00611331\n",
       " 0.005975855\n",
       " 0.006102376\n",
       " 0.006138843\n",
       " 0.006284157"
      ]
     },
     "execution_count": 5,
     "metadata": {},
     "output_type": "execute_result"
    }
   ],
   "source": [
    "fittimes_GLM = vec(readdlm(\"fittimes_GLM_bivariate_mixed_poisson_bernoulli_vcm$(nsims)reps_sim.csv\", ','))"
   ]
  },
  {
   "cell_type": "code",
   "execution_count": 6,
   "metadata": {},
   "outputs": [
    {
     "name": "stderr",
     "output_type": "stream",
     "text": [
      "┌ Info: making results table Quasi-Copula\n",
      "└ @ Main In[6]:2\n"
     ]
    },
    {
     "data": {
      "text/html": [
       "<div class=\"data-frame\"><p>3 rows × 8 columns</p><table class=\"data-frame\"><thead><tr><th></th><th>samplesize</th><th>obssize</th><th>fittime</th><th>se</th><th>nobs</th><th>fitmin</th><th>fitmax</th><th>perobsratio</th></tr><tr><th></th><th title=\"String\">String</th><th title=\"String\">String</th><th title=\"Float64\">Float64</th><th title=\"Float64\">Float64</th><th title=\"Int64\">Int64</th><th title=\"Float64\">Float64</th><th title=\"Float64\">Float64</th><th title=\"Float64\">Float64</th></tr></thead><tbody><tr><th>1</th><td>100</td><td>2</td><td>0.0507731</td><td>0.00117451</td><td>200</td><td>0.0495986</td><td>0.0531221</td><td>0.000253865</td></tr><tr><th>2</th><td>1000</td><td>2</td><td>0.121562</td><td>0.00122023</td><td>2000</td><td>0.120342</td><td>0.124002</td><td>6.07809e-5</td></tr><tr><th>3</th><td>10000</td><td>2</td><td>1.52214</td><td>0.0475184</td><td>20000</td><td>1.47463</td><td>1.61718</td><td>7.61072e-5</td></tr></tbody></table></div>"
      ],
      "text/latex": [
       "\\begin{tabular}{r|cccccccc}\n",
       "\t& samplesize & obssize & fittime & se & nobs & fitmin & fitmax & perobsratio\\\\\n",
       "\t\\hline\n",
       "\t& String & String & Float64 & Float64 & Int64 & Float64 & Float64 & Float64\\\\\n",
       "\t\\hline\n",
       "\t1 & 100 & 2 & 0.0507731 & 0.00117451 & 200 & 0.0495986 & 0.0531221 & 0.000253865 \\\\\n",
       "\t2 & 1000 & 2 & 0.121562 & 0.00122023 & 2000 & 0.120342 & 0.124002 & 6.07809e-5 \\\\\n",
       "\t3 & 10000 & 2 & 1.52214 & 0.0475184 & 20000 & 1.47463 & 1.61718 & 7.61072e-5 \\\\\n",
       "\\end{tabular}\n"
      ],
      "text/plain": [
       "\u001b[1m3×8 DataFrame\u001b[0m\n",
       "\u001b[1m Row \u001b[0m│\u001b[1m samplesize \u001b[0m\u001b[1m obssize \u001b[0m\u001b[1m fittime   \u001b[0m\u001b[1m se         \u001b[0m\u001b[1m nobs  \u001b[0m\u001b[1m fitmin    \u001b[0m\u001b[1m fitmax   \u001b[0m ⋯\n",
       "\u001b[1m     \u001b[0m│\u001b[90m String     \u001b[0m\u001b[90m String  \u001b[0m\u001b[90m Float64   \u001b[0m\u001b[90m Float64    \u001b[0m\u001b[90m Int64 \u001b[0m\u001b[90m Float64   \u001b[0m\u001b[90m Float64  \u001b[0m ⋯\n",
       "─────┼──────────────────────────────────────────────────────────────────────────\n",
       "   1 │ 100         2        0.0507731  0.00117451    200  0.0495986  0.0531221 ⋯\n",
       "   2 │ 1000        2        0.121562   0.00122023   2000  0.120342   0.124002\n",
       "   3 │ 10000       2        1.52214    0.0475184   20000  1.47463    1.61718\n",
       "\u001b[36m                                                                1 column omitted\u001b[0m"
      ]
     },
     "execution_count": 6,
     "metadata": {},
     "output_type": "execute_result"
    }
   ],
   "source": [
    "#simulation parameters\n",
    "@info \"making results table Quasi-Copula\"\n",
    "sample_sizes = repeat(string.(samplesizes), inner = nsims * length(ns))\n",
    "obs_sizes = repeat(string.(ns), inner = nsims, outer = length(samplesizes))\n",
    "\n",
    "msedf = DataFrame(samplesize = sample_sizes, obssize = obs_sizes, fittimes = fittimes_QC)\n",
    "timedf1 = combine(groupby(msedf, [:samplesize, :obssize]), :fittimes => mean => :fittime,\n",
    "    :fittimes => x -> (std(x)/sqrt(length(x))))\n",
    "rename!(timedf1, Dict(:fittimes_function => \"se\"))\n",
    "timedf1[!, :nobs] = Meta.parse.(timedf1[!, :samplesize]) .* Meta.parse.(timedf1[!, :obssize])\n",
    "timedf1[!, :fitmin] = timedf1[!, :fittime] - timedf1[!, :se]\n",
    "timedf1[!, :fitmax] = timedf1[!, :fittime] + 2 * timedf1[!, :se]\n",
    "timedf1[!, :perobsratio] = timedf1[!, :fittime] ./ timedf1[!, :nobs]\n",
    "timedf1"
   ]
  },
  {
   "cell_type": "code",
   "execution_count": 7,
   "metadata": {},
   "outputs": [
    {
     "name": "stderr",
     "output_type": "stream",
     "text": [
      "┌ Info: making results table GLMM\n",
      "└ @ Main In[7]:2\n"
     ]
    },
    {
     "data": {
      "text/html": [
       "<div class=\"data-frame\"><p>3 rows × 8 columns (omitted printing of 1 columns)</p><table class=\"data-frame\"><thead><tr><th></th><th>samplesize</th><th>obssize</th><th>fittime</th><th>se</th><th>nobs</th><th>fitmin</th><th>fitmax</th></tr><tr><th></th><th title=\"String\">String</th><th title=\"String\">String</th><th title=\"Float64\">Float64</th><th title=\"Float64\">Float64</th><th title=\"Int64\">Int64</th><th title=\"Float64\">Float64</th><th title=\"Float64\">Float64</th></tr></thead><tbody><tr><th>1</th><td>100</td><td>2</td><td>0.000210064</td><td>1.6948e-6</td><td>200</td><td>0.000208369</td><td>0.000211759</td></tr><tr><th>2</th><td>1000</td><td>2</td><td>0.000893009</td><td>0.000113049</td><td>2000</td><td>0.00077996</td><td>0.00100606</td></tr><tr><th>3</th><td>10000</td><td>2</td><td>0.00638532</td><td>0.000264812</td><td>20000</td><td>0.0061205</td><td>0.00665013</td></tr></tbody></table></div>"
      ],
      "text/latex": [
       "\\begin{tabular}{r|cccccccc}\n",
       "\t& samplesize & obssize & fittime & se & nobs & fitmin & fitmax & \\\\\n",
       "\t\\hline\n",
       "\t& String & String & Float64 & Float64 & Int64 & Float64 & Float64 & \\\\\n",
       "\t\\hline\n",
       "\t1 & 100 & 2 & 0.000210064 & 1.6948e-6 & 200 & 0.000208369 & 0.000211759 & $\\dots$ \\\\\n",
       "\t2 & 1000 & 2 & 0.000893009 & 0.000113049 & 2000 & 0.00077996 & 0.00100606 & $\\dots$ \\\\\n",
       "\t3 & 10000 & 2 & 0.00638532 & 0.000264812 & 20000 & 0.0061205 & 0.00665013 & $\\dots$ \\\\\n",
       "\\end{tabular}\n"
      ],
      "text/plain": [
       "\u001b[1m3×8 DataFrame\u001b[0m\n",
       "\u001b[1m Row \u001b[0m│\u001b[1m samplesize \u001b[0m\u001b[1m obssize \u001b[0m\u001b[1m fittime     \u001b[0m\u001b[1m se          \u001b[0m\u001b[1m nobs  \u001b[0m\u001b[1m fitmin      \u001b[0m\u001b[1m fitm\u001b[0m ⋯\n",
       "\u001b[1m     \u001b[0m│\u001b[90m String     \u001b[0m\u001b[90m String  \u001b[0m\u001b[90m Float64     \u001b[0m\u001b[90m Float64     \u001b[0m\u001b[90m Int64 \u001b[0m\u001b[90m Float64     \u001b[0m\u001b[90m Floa\u001b[0m ⋯\n",
       "─────┼──────────────────────────────────────────────────────────────────────────\n",
       "   1 │ 100         2        0.000210064  1.6948e-6      200  0.000208369  0.00 ⋯\n",
       "   2 │ 1000        2        0.000893009  0.000113049   2000  0.00077996   0.00\n",
       "   3 │ 10000       2        0.00638532   0.000264812  20000  0.0061205    0.00\n",
       "\u001b[36m                                                               2 columns omitted\u001b[0m"
      ]
     },
     "execution_count": 7,
     "metadata": {},
     "output_type": "execute_result"
    }
   ],
   "source": [
    "#simulation parameters\n",
    "@info \"making results table GLMM\"\n",
    "sample_sizes = repeat(string.(samplesizes), inner = nsims * length(ns))\n",
    "obs_sizes = repeat(string.(ns), inner = nsims, outer = length(samplesizes))\n",
    "\n",
    "msedf = DataFrame(samplesize = sample_sizes, obssize = obs_sizes, fittimes = fittimes_GLM)\n",
    "timedf2 = combine(groupby(msedf, [:samplesize, :obssize]), :fittimes => mean => :fittime,\n",
    "    :fittimes => x -> (std(x)/sqrt(length(x))))\n",
    "rename!(timedf2, Dict(:fittimes_function => \"se\"))\n",
    "timedf2[!, :nobs] = Meta.parse.(timedf2[!, :samplesize]) .* Meta.parse.(timedf2[!, :obssize])\n",
    "timedf2[!, :fitmin] = timedf2[!, :fittime] - timedf2[!, :se]\n",
    "timedf2[!, :fitmax] = timedf2[!, :fittime] + timedf2[!, :se]\n",
    "timedf2[!, :perobsratio] = timedf2[!, :fittime] ./ timedf2[!, :nobs]\n",
    "timedf2"
   ]
  },
  {
   "cell_type": "code",
   "execution_count": 8,
   "metadata": {},
   "outputs": [
    {
     "name": "stderr",
     "output_type": "stream",
     "text": [
      "┌ Warning: RCall.jl: Warning: package ‘ggplot2’ was built under R version 4.0.2\n",
      "└ @ RCall /Users/sarahji/.julia/packages/RCall/6kphM/src/io.jl:172\n",
      "┌ Warning: RCall.jl: Warning: package ‘cowplot’ was built under R version 4.0.2\n",
      "└ @ RCall /Users/sarahji/.julia/packages/RCall/6kphM/src/io.jl:172\n"
     ]
    },
    {
     "data": {
      "image/png": "[encoded data removed]"
     },
     "metadata": {},
     "output_type": "display_data"
    },
    {
     "data": {
      "text/plain": [
       "RObject{VecSxp}\n"
      ]
     },
     "execution_count": 8,
     "metadata": {},
     "output_type": "execute_result"
    }
   ],
   "source": [
    "########### plot the runtimes\n",
    "using RCall\n",
    "@rput timedf1\n",
    "@rput timedf2\n",
    "R\"\"\"\n",
    "library(ggplot2)\n",
    "library(cowplot)\n",
    "timedf1$obssize = factor(timedf1$obssize, levels = c('2'))\n",
    "timedf1$samplesize = factor(timedf1$samplesize, levels = c('100', '1000', '10000'))\n",
    "\n",
    "fittime_1 = ggplot(timedf1, aes(x = samplesize, y = fittime, group = obssize, color = obssize)) + \n",
    "  geom_line() +\n",
    "  geom_point()+\n",
    "  geom_errorbar(aes(ymin=fitmin, ymax=fitmax), width=0.5, alpha = 0.8, position=position_dodge(0.005)) + \n",
    "  theme(legend.position=c(0.3,0.85), legend.key = element_blank(), axis.text.x = element_text(angle=0, size=13),\n",
    "        axis.text.y = element_text(angle=0, size=13), axis.title.x = element_text(size = 17), \n",
    "        axis.title.y = element_text(size = 17), legend.title = element_text(size = 14),\n",
    "        #axis.ticks = element_blank(),\n",
    "        panel.grid.major = element_blank(), legend.text=element_text(size=13),\n",
    "        panel.border = element_blank(), panel.grid.minor = element_blank(), panel.background = element_blank(), \n",
    "        axis.line = element_line(color = 'black',size=0.3), plot.title = element_text(hjust = 0.5)) + \n",
    "   scale_color_manual(values = c(\"#c85f55\",\n",
    "\"#a964bf\",\n",
    "\"#8db352\",\n",
    "\"#fa7300\",\n",
    "\"#05aec0\",\n",
    "\"#ff1493\")) +\n",
    "  labs(x = \"Number of Individuals\", y = \"Fit time (seconds)\", color = \"Obs per Individual\")\n",
    "\n",
    "timedf2$obssize = factor(timedf2$obssize, levels = c('2'))\n",
    "timedf2$samplesize = factor(timedf2$samplesize, levels = c('100', '1000', '10000'))\n",
    "\n",
    "fittime_2 = ggplot(timedf2, aes(x = samplesize, y = fittime, group = obssize, color = obssize)) + \n",
    "  geom_line() +\n",
    "  geom_point()+\n",
    "  geom_errorbar(aes(ymin=fitmin, ymax=fitmax), width=0.5, alpha = 0.8, position=position_dodge(0.005)) + \n",
    "  theme(legend.position=c(0.3,0.85), legend.key = element_blank(), axis.text.x = element_text(angle=0, size=13),\n",
    "        axis.text.y = element_text(angle=0, size=13), axis.title.x = element_text(size = 17), \n",
    "        axis.title.y = element_text(size = 17), legend.title = element_text(size = 14),\n",
    "        #axis.ticks = element_blank(),\n",
    "        panel.grid.major = element_blank(), legend.text=element_text(size=13),\n",
    "        panel.border = element_blank(), panel.grid.minor = element_blank(), panel.background = element_blank(), \n",
    "        axis.line = element_line(color = 'black',size=0.3), plot.title = element_text(hjust = 0.5)) + \n",
    "   scale_color_manual(values = c(\"#c85f55\",\n",
    "\"#a964bf\",\n",
    "\"#8db352\",\n",
    "\"#fa7300\",\n",
    "\"#05aec0\",\n",
    "\"#ff1493\")) +\n",
    "  labs(x = \"Number of Individuals\", y = \"Fit time (seconds)\", color = \"Obs per Individual\")\n",
    "\n",
    "fittime_nsamples = plot_grid(fittime_1, fittime_2, labels = c(\"Quasi-Copula\", \"GLM\"))\n",
    "\"\"\""
   ]
  },
  {
   "cell_type": "code",
   "execution_count": 9,
   "metadata": {},
   "outputs": [
    {
     "data": {
      "text/plain": [
       "RObject{StrSxp}\n",
       "[1] \"fittime_nsamples_bivariatemixedpoissonbernoulli_vs_glm.png\"\n"
      ]
     },
     "execution_count": 9,
     "metadata": {},
     "output_type": "execute_result"
    }
   ],
   "source": [
    "R\"\"\"\n",
    "    ggsave('fittime_nsamples_bivariatemixedpoissonbernoulli_vs_glm.png', fittime_nsamples, width = 15, height = 17, units = 'in', dpi = 450)\n",
    "\"\"\""
   ]
  },
  {
   "cell_type": "code",
   "execution_count": 15,
   "metadata": {},
   "outputs": [
    {
     "data": {
      "text/html": [
       "<div class=\"data-frame\"><p>3 rows × 8 columns (omitted printing of 3 columns)</p><table class=\"data-frame\"><thead><tr><th></th><th>people_obs</th><th>β1</th><th>β2</th><th>β3</th><th>β4</th></tr><tr><th></th><th title=\"String\">String</th><th title=\"Tuple{Float64, Float64}\">Tuple…</th><th title=\"Tuple{Float64, Float64}\">Tuple…</th><th title=\"Tuple{Float64, Float64}\">Tuple…</th><th title=\"Tuple{Float64, Float64}\">Tuple…</th></tr></thead><tbody><tr><th>1</th><td>N: 100  ni: 2</td><td>(0.63, 0.0485237)</td><td>(0.7, 0.0460566)</td><td>(0.75, 0.0435194)</td><td>(0.64, 0.0482418)</td></tr><tr><th>2</th><td>N: 1000  ni: 2</td><td>(0.6, 0.0492366)</td><td>(0.71, 0.0456048)</td><td>(0.78, 0.0416333)</td><td>(0.62, 0.0487832)</td></tr><tr><th>3</th><td>N: 10000  ni: 2</td><td>(0.55, 0.05)</td><td>(0.71, 0.0456048)</td><td>(0.74, 0.0440844)</td><td>(0.68, 0.0468826)</td></tr></tbody></table></div>"
      ],
      "text/latex": [
       "\\begin{tabular}{r|cccccc}\n",
       "\t& people\\_obs & β1 & β2 & β3 & β4 & \\\\\n",
       "\t\\hline\n",
       "\t& String & Tuple… & Tuple… & Tuple… & Tuple… & \\\\\n",
       "\t\\hline\n",
       "\t1 & N: 100  ni: 2 & (0.63, 0.0485237) & (0.7, 0.0460566) & (0.75, 0.0435194) & (0.64, 0.0482418) & $\\dots$ \\\\\n",
       "\t2 & N: 1000  ni: 2 & (0.6, 0.0492366) & (0.71, 0.0456048) & (0.78, 0.0416333) & (0.62, 0.0487832) & $\\dots$ \\\\\n",
       "\t3 & N: 10000  ni: 2 & (0.55, 0.05) & (0.71, 0.0456048) & (0.74, 0.0440844) & (0.68, 0.0468826) & $\\dots$ \\\\\n",
       "\\end{tabular}\n"
      ],
      "text/plain": [
       "\u001b[1m3×8 DataFrame\u001b[0m\n",
       "\u001b[1m Row \u001b[0m│\u001b[1m people_obs      \u001b[0m\u001b[1m β1                \u001b[0m\u001b[1m β2                \u001b[0m\u001b[1m β3              \u001b[0m ⋯\n",
       "\u001b[1m     \u001b[0m│\u001b[90m String          \u001b[0m\u001b[90m Tuple…            \u001b[0m\u001b[90m Tuple…            \u001b[0m\u001b[90m Tuple…          \u001b[0m ⋯\n",
       "─────┼──────────────────────────────────────────────────────────────────────────\n",
       "   1 │ N: 100  ni: 2    (0.63, 0.0485237)  (0.7, 0.0460566)   (0.75, 0.0435194 ⋯\n",
       "   2 │ N: 1000  ni: 2   (0.6, 0.0492366)   (0.71, 0.0456048)  (0.78, 0.0416333\n",
       "   3 │ N: 10000  ni: 2  (0.55, 0.05)       (0.71, 0.0456048)  (0.74, 0.0440844\n",
       "\u001b[36m                                                               5 columns omitted\u001b[0m"
      ]
     },
     "execution_count": 15,
     "metadata": {},
     "output_type": "execute_result"
    }
   ],
   "source": [
    "######  supplementary table s1\n",
    "using Random, DataFrames, DelimitedFiles, Statistics\n",
    "import StatsBase: sem\n",
    "\n",
    "βθcoverage = readdlm(\"beta_sigma_coverage_bivariate_mixed_poisson_bernoulli_vcm$(nsims)reps_sim.csv\", ',')\n",
    "\n",
    "m  = 1\n",
    "\n",
    "covdf = DataFrame(Matrix(transpose(βθcoverage)), :auto)\n",
    "rename!(covdf, Symbol.([[\"β$i\" for i in 1:p]; [\"θ$i\" for i in 1:m]]))\n",
    "covdf[!, :samplesize] = sample_sizes\n",
    "covdf[!, :obssize] = obs_sizes\n",
    "first(covdf, 10)\n",
    "\n",
    "row_stats = [[(mean(col), sem(col)) for col = eachcol(d[!, 1:end-2])] for d = groupby(covdf, [:samplesize; :obssize])]\n",
    "df = DataFrame(row_stats, :auto)\n",
    "ss_obs = unique(\"N: \" .* sample_sizes .* \"  ni: \" .* obs_sizes)\n",
    "rename!(df, Symbol.(ss_obs))\n",
    "covdfdisplay = DataFrame([[names(df)]; collect.(eachrow(df))], \n",
    "    [:people_obs; Symbol.([[\"β$i\" for i in 1:p]; [\"θ$i\" for i in 1:m]])])\n",
    "# deletecols!(covdfdisplay, p + 2)\n",
    "covdfdisplay\n"
   ]
  },
  {
   "cell_type": "code",
   "execution_count": 11,
   "metadata": {},
   "outputs": [
    {
     "data": {
      "text/html": [
       "<div class=\"data-frame\"><p>3 rows × 8 columns (omitted printing of 3 columns)</p><table class=\"data-frame\"><thead><tr><th></th><th>people_obs</th><th>β1</th><th>β2</th><th>β3</th><th>β4</th></tr><tr><th></th><th title=\"String\">String</th><th title=\"Tuple{Float64, Float64}\">Tuple…</th><th title=\"Tuple{Float64, Float64}\">Tuple…</th><th title=\"Tuple{Float64, Float64}\">Tuple…</th><th title=\"Tuple{Float64, Float64}\">Tuple…</th></tr></thead><tbody><tr><th>1</th><td>N: 100  ni: 2</td><td>(0.93, 0.0256432)</td><td>(0.95, 0.0219043)</td><td>(0.96, 0.0196946)</td><td>(0.95, 0.0219043)</td></tr><tr><th>2</th><td>N: 1000  ni: 2</td><td>(0.65, 0.0479372)</td><td>(0.95, 0.0219043)</td><td>(0.92, 0.027266)</td><td>(0.94, 0.0238683)</td></tr><tr><th>3</th><td>N: 10000  ni: 2</td><td>(0.01, 0.01)</td><td>(0.9, 0.0301511)</td><td>(0.94, 0.0238683)</td><td>(0.97, 0.0171447)</td></tr></tbody></table></div>"
      ],
      "text/latex": [
       "\\begin{tabular}{r|cccccc}\n",
       "\t& people\\_obs & β1 & β2 & β3 & β4 & \\\\\n",
       "\t\\hline\n",
       "\t& String & Tuple… & Tuple… & Tuple… & Tuple… & \\\\\n",
       "\t\\hline\n",
       "\t1 & N: 100  ni: 2 & (0.93, 0.0256432) & (0.95, 0.0219043) & (0.96, 0.0196946) & (0.95, 0.0219043) & $\\dots$ \\\\\n",
       "\t2 & N: 1000  ni: 2 & (0.65, 0.0479372) & (0.95, 0.0219043) & (0.92, 0.027266) & (0.94, 0.0238683) & $\\dots$ \\\\\n",
       "\t3 & N: 10000  ni: 2 & (0.01, 0.01) & (0.9, 0.0301511) & (0.94, 0.0238683) & (0.97, 0.0171447) & $\\dots$ \\\\\n",
       "\\end{tabular}\n"
      ],
      "text/plain": [
       "\u001b[1m3×8 DataFrame\u001b[0m\n",
       "\u001b[1m Row \u001b[0m│\u001b[1m people_obs      \u001b[0m\u001b[1m β1                \u001b[0m\u001b[1m β2                \u001b[0m\u001b[1m β3              \u001b[0m ⋯\n",
       "\u001b[1m     \u001b[0m│\u001b[90m String          \u001b[0m\u001b[90m Tuple…            \u001b[0m\u001b[90m Tuple…            \u001b[0m\u001b[90m Tuple…          \u001b[0m ⋯\n",
       "─────┼──────────────────────────────────────────────────────────────────────────\n",
       "   1 │ N: 100  ni: 2    (0.93, 0.0256432)  (0.95, 0.0219043)  (0.96, 0.0196946 ⋯\n",
       "   2 │ N: 1000  ni: 2   (0.65, 0.0479372)  (0.95, 0.0219043)  (0.92, 0.027266)\n",
       "   3 │ N: 10000  ni: 2  (0.01, 0.01)       (0.9, 0.0301511)   (0.94, 0.0238683\n",
       "\u001b[36m                                                               5 columns omitted\u001b[0m"
      ]
     },
     "execution_count": 11,
     "metadata": {},
     "output_type": "execute_result"
    }
   ],
   "source": [
    "βθcoverage_GLM = readdlm(\"beta_sigma_coverage_GLM_bivariate_mixed_poisson_bernoulli_vcm$(nsims)reps_sim.csv\", ',')\n",
    "\n",
    "m  = 1\n",
    "\n",
    "covdf = DataFrame(Matrix(transpose(βθcoverage_GLM)), :auto)\n",
    "rename!(covdf, Symbol.([[\"β$i\" for i in 1:p]; [\"θ$i\" for i in 1:m]]))\n",
    "covdf[!, :samplesize] = sample_sizes\n",
    "covdf[!, :obssize] = obs_sizes\n",
    "first(covdf, 10)\n",
    "\n",
    "row_stats = [[(mean(col), sem(col)) for col = eachcol(d[!, 1:end-2])] for d = groupby(covdf, [:samplesize; :obssize])]\n",
    "df = DataFrame(row_stats, :auto)\n",
    "ss_obs = unique(\"N: \" .* sample_sizes .* \"  ni: \" .* obs_sizes)\n",
    "rename!(df, Symbol.(ss_obs))\n",
    "covdfdisplay = DataFrame([[names(df)]; collect.(eachrow(df))], \n",
    "    [:people_obs; Symbol.([[\"β$i\" for i in 1:p]; [\"θ$i\" for i in 1:m]])])\n",
    "# deletecols!(covdfdisplay, p + 2)\n",
    "covdfdisplay\n"
   ]
  },
  {
   "cell_type": "code",
   "execution_count": 17,
   "metadata": {},
   "outputs": [
    {
     "data": {
      "text/html": [
       "<div class=\"data-frame\"><p>1,200 rows × 5 columns</p><table class=\"data-frame\"><thead><tr><th></th><th>mse</th><th>obssize</th><th>samplesize</th><th>parameters</th><th>robust</th></tr><tr><th></th><th title=\"Float64\">Float64</th><th title=\"String\">String</th><th title=\"String\">String</th><th title=\"String\">String</th><th title=\"String\">String</th></tr></thead><tbody><tr><th>1</th><td>0.00788223</td><td>2</td><td>100</td><td>beta</td><td>Bivariate Mixed Poisson Bernoulli QC</td></tr><tr><th>2</th><td>0.0155992</td><td>2</td><td>100</td><td>beta</td><td>Bivariate Mixed Poisson Bernoulli QC</td></tr><tr><th>3</th><td>0.0289458</td><td>2</td><td>100</td><td>beta</td><td>Bivariate Mixed Poisson Bernoulli QC</td></tr><tr><th>4</th><td>0.0150839</td><td>2</td><td>100</td><td>beta</td><td>Bivariate Mixed Poisson Bernoulli QC</td></tr><tr><th>5</th><td>0.0309499</td><td>2</td><td>100</td><td>beta</td><td>Bivariate Mixed Poisson Bernoulli QC</td></tr><tr><th>6</th><td>0.151657</td><td>2</td><td>100</td><td>beta</td><td>Bivariate Mixed Poisson Bernoulli QC</td></tr><tr><th>7</th><td>0.0830292</td><td>2</td><td>100</td><td>beta</td><td>Bivariate Mixed Poisson Bernoulli QC</td></tr><tr><th>8</th><td>0.0602473</td><td>2</td><td>100</td><td>beta</td><td>Bivariate Mixed Poisson Bernoulli QC</td></tr><tr><th>9</th><td>0.037329</td><td>2</td><td>100</td><td>beta</td><td>Bivariate Mixed Poisson Bernoulli QC</td></tr><tr><th>10</th><td>0.112718</td><td>2</td><td>100</td><td>beta</td><td>Bivariate Mixed Poisson Bernoulli QC</td></tr><tr><th>11</th><td>0.11573</td><td>2</td><td>100</td><td>beta</td><td>Bivariate Mixed Poisson Bernoulli QC</td></tr><tr><th>12</th><td>0.00937876</td><td>2</td><td>100</td><td>beta</td><td>Bivariate Mixed Poisson Bernoulli QC</td></tr><tr><th>13</th><td>0.0379363</td><td>2</td><td>100</td><td>beta</td><td>Bivariate Mixed Poisson Bernoulli QC</td></tr><tr><th>14</th><td>0.0250806</td><td>2</td><td>100</td><td>beta</td><td>Bivariate Mixed Poisson Bernoulli QC</td></tr><tr><th>15</th><td>0.0202231</td><td>2</td><td>100</td><td>beta</td><td>Bivariate Mixed Poisson Bernoulli QC</td></tr><tr><th>16</th><td>0.0169904</td><td>2</td><td>100</td><td>beta</td><td>Bivariate Mixed Poisson Bernoulli QC</td></tr><tr><th>17</th><td>0.00551167</td><td>2</td><td>100</td><td>beta</td><td>Bivariate Mixed Poisson Bernoulli QC</td></tr><tr><th>18</th><td>0.0136953</td><td>2</td><td>100</td><td>beta</td><td>Bivariate Mixed Poisson Bernoulli QC</td></tr><tr><th>19</th><td>0.0991882</td><td>2</td><td>100</td><td>beta</td><td>Bivariate Mixed Poisson Bernoulli QC</td></tr><tr><th>20</th><td>0.08012</td><td>2</td><td>100</td><td>beta</td><td>Bivariate Mixed Poisson Bernoulli QC</td></tr><tr><th>21</th><td>0.0224247</td><td>2</td><td>100</td><td>beta</td><td>Bivariate Mixed Poisson Bernoulli QC</td></tr><tr><th>22</th><td>0.0292997</td><td>2</td><td>100</td><td>beta</td><td>Bivariate Mixed Poisson Bernoulli QC</td></tr><tr><th>23</th><td>0.0493077</td><td>2</td><td>100</td><td>beta</td><td>Bivariate Mixed Poisson Bernoulli QC</td></tr><tr><th>24</th><td>0.0307049</td><td>2</td><td>100</td><td>beta</td><td>Bivariate Mixed Poisson Bernoulli QC</td></tr><tr><th>25</th><td>0.00880141</td><td>2</td><td>100</td><td>beta</td><td>Bivariate Mixed Poisson Bernoulli QC</td></tr><tr><th>26</th><td>0.0202301</td><td>2</td><td>100</td><td>beta</td><td>Bivariate Mixed Poisson Bernoulli QC</td></tr><tr><th>27</th><td>0.0475167</td><td>2</td><td>100</td><td>beta</td><td>Bivariate Mixed Poisson Bernoulli QC</td></tr><tr><th>28</th><td>0.023927</td><td>2</td><td>100</td><td>beta</td><td>Bivariate Mixed Poisson Bernoulli QC</td></tr><tr><th>29</th><td>0.0181177</td><td>2</td><td>100</td><td>beta</td><td>Bivariate Mixed Poisson Bernoulli QC</td></tr><tr><th>30</th><td>0.0270159</td><td>2</td><td>100</td><td>beta</td><td>Bivariate Mixed Poisson Bernoulli QC</td></tr><tr><th>&vellip;</th><td>&vellip;</td><td>&vellip;</td><td>&vellip;</td><td>&vellip;</td><td>&vellip;</td></tr></tbody></table></div>"
      ],
      "text/latex": [
       "\\begin{tabular}{r|ccccc}\n",
       "\t& mse & obssize & samplesize & parameters & robust\\\\\n",
       "\t\\hline\n",
       "\t& Float64 & String & String & String & String\\\\\n",
       "\t\\hline\n",
       "\t1 & 0.00788223 & 2 & 100 & beta & Bivariate Mixed Poisson Bernoulli QC \\\\\n",
       "\t2 & 0.0155992 & 2 & 100 & beta & Bivariate Mixed Poisson Bernoulli QC \\\\\n",
       "\t3 & 0.0289458 & 2 & 100 & beta & Bivariate Mixed Poisson Bernoulli QC \\\\\n",
       "\t4 & 0.0150839 & 2 & 100 & beta & Bivariate Mixed Poisson Bernoulli QC \\\\\n",
       "\t5 & 0.0309499 & 2 & 100 & beta & Bivariate Mixed Poisson Bernoulli QC \\\\\n",
       "\t6 & 0.151657 & 2 & 100 & beta & Bivariate Mixed Poisson Bernoulli QC \\\\\n",
       "\t7 & 0.0830292 & 2 & 100 & beta & Bivariate Mixed Poisson Bernoulli QC \\\\\n",
       "\t8 & 0.0602473 & 2 & 100 & beta & Bivariate Mixed Poisson Bernoulli QC \\\\\n",
       "\t9 & 0.037329 & 2 & 100 & beta & Bivariate Mixed Poisson Bernoulli QC \\\\\n",
       "\t10 & 0.112718 & 2 & 100 & beta & Bivariate Mixed Poisson Bernoulli QC \\\\\n",
       "\t11 & 0.11573 & 2 & 100 & beta & Bivariate Mixed Poisson Bernoulli QC \\\\\n",
       "\t12 & 0.00937876 & 2 & 100 & beta & Bivariate Mixed Poisson Bernoulli QC \\\\\n",
       "\t13 & 0.0379363 & 2 & 100 & beta & Bivariate Mixed Poisson Bernoulli QC \\\\\n",
       "\t14 & 0.0250806 & 2 & 100 & beta & Bivariate Mixed Poisson Bernoulli QC \\\\\n",
       "\t15 & 0.0202231 & 2 & 100 & beta & Bivariate Mixed Poisson Bernoulli QC \\\\\n",
       "\t16 & 0.0169904 & 2 & 100 & beta & Bivariate Mixed Poisson Bernoulli QC \\\\\n",
       "\t17 & 0.00551167 & 2 & 100 & beta & Bivariate Mixed Poisson Bernoulli QC \\\\\n",
       "\t18 & 0.0136953 & 2 & 100 & beta & Bivariate Mixed Poisson Bernoulli QC \\\\\n",
       "\t19 & 0.0991882 & 2 & 100 & beta & Bivariate Mixed Poisson Bernoulli QC \\\\\n",
       "\t20 & 0.08012 & 2 & 100 & beta & Bivariate Mixed Poisson Bernoulli QC \\\\\n",
       "\t21 & 0.0224247 & 2 & 100 & beta & Bivariate Mixed Poisson Bernoulli QC \\\\\n",
       "\t22 & 0.0292997 & 2 & 100 & beta & Bivariate Mixed Poisson Bernoulli QC \\\\\n",
       "\t23 & 0.0493077 & 2 & 100 & beta & Bivariate Mixed Poisson Bernoulli QC \\\\\n",
       "\t24 & 0.0307049 & 2 & 100 & beta & Bivariate Mixed Poisson Bernoulli QC \\\\\n",
       "\t25 & 0.00880141 & 2 & 100 & beta & Bivariate Mixed Poisson Bernoulli QC \\\\\n",
       "\t26 & 0.0202301 & 2 & 100 & beta & Bivariate Mixed Poisson Bernoulli QC \\\\\n",
       "\t27 & 0.0475167 & 2 & 100 & beta & Bivariate Mixed Poisson Bernoulli QC \\\\\n",
       "\t28 & 0.023927 & 2 & 100 & beta & Bivariate Mixed Poisson Bernoulli QC \\\\\n",
       "\t29 & 0.0181177 & 2 & 100 & beta & Bivariate Mixed Poisson Bernoulli QC \\\\\n",
       "\t30 & 0.0270159 & 2 & 100 & beta & Bivariate Mixed Poisson Bernoulli QC \\\\\n",
       "\t$\\dots$ & $\\dots$ & $\\dots$ & $\\dots$ & $\\dots$ & $\\dots$ \\\\\n",
       "\\end{tabular}\n"
      ],
      "text/plain": [
       "\u001b[1m1200×5 DataFrame\u001b[0m\n",
       "\u001b[1m  Row \u001b[0m│\u001b[1m mse        \u001b[0m\u001b[1m obssize \u001b[0m\u001b[1m samplesize \u001b[0m\u001b[1m parameters \u001b[0m\u001b[1m robust                   \u001b[0m ⋯\n",
       "\u001b[1m      \u001b[0m│\u001b[90m Float64    \u001b[0m\u001b[90m String  \u001b[0m\u001b[90m String     \u001b[0m\u001b[90m String     \u001b[0m\u001b[90m String                   \u001b[0m ⋯\n",
       "──────┼─────────────────────────────────────────────────────────────────────────\n",
       "    1 │ 0.00788223  2        100         beta        Bivariate Mixed Poisson B ⋯\n",
       "    2 │ 0.0155992   2        100         beta        Bivariate Mixed Poisson B\n",
       "    3 │ 0.0289458   2        100         beta        Bivariate Mixed Poisson B\n",
       "    4 │ 0.0150839   2        100         beta        Bivariate Mixed Poisson B\n",
       "    5 │ 0.0309499   2        100         beta        Bivariate Mixed Poisson B ⋯\n",
       "    6 │ 0.151657    2        100         beta        Bivariate Mixed Poisson B\n",
       "    7 │ 0.0830292   2        100         beta        Bivariate Mixed Poisson B\n",
       "    8 │ 0.0602473   2        100         beta        Bivariate Mixed Poisson B\n",
       "    9 │ 0.037329    2        100         beta        Bivariate Mixed Poisson B ⋯\n",
       "   10 │ 0.112718    2        100         beta        Bivariate Mixed Poisson B\n",
       "   11 │ 0.11573     2        100         beta        Bivariate Mixed Poisson B\n",
       "  ⋮   │     ⋮          ⋮         ⋮           ⋮                       ⋮         ⋱\n",
       " 1191 │ 0.01        2        10000       theta       Separate Poisson Bernoull\n",
       " 1192 │ 0.01        2        10000       theta       Separate Poisson Bernoull ⋯\n",
       " 1193 │ 0.01        2        10000       theta       Separate Poisson Bernoull\n",
       " 1194 │ 0.01        2        10000       theta       Separate Poisson Bernoull\n",
       " 1195 │ 0.01        2        10000       theta       Separate Poisson Bernoull\n",
       " 1196 │ 0.01        2        10000       theta       Separate Poisson Bernoull ⋯\n",
       " 1197 │ 0.01        2        10000       theta       Separate Poisson Bernoull\n",
       " 1198 │ 0.01        2        10000       theta       Separate Poisson Bernoull\n",
       " 1199 │ 0.01        2        10000       theta       Separate Poisson Bernoull\n",
       " 1200 │ 0.01        2        10000       theta       Separate Poisson Bernoull ⋯\n",
       "\u001b[36m                                                  1 column and 1179 rows omitted\u001b[0m"
      ]
     },
     "execution_count": 17,
     "metadata": {},
     "output_type": "execute_result"
    }
   ],
   "source": [
    "#### \n",
    "#import data and reorganize to create figure\n",
    "using Random, DataFrames, DelimitedFiles, Statistics, RCall, Printf\n",
    "import StatsBase: sem\n",
    "\n",
    "βMseresult = vec(readdlm(\"mse_beta_bivariate_mixed_poisson_bernoulli_vcm$(nsims)reps_sim.csv\", ','))\n",
    "θMseresult = vec(readdlm(\"mse_Sigma_bivariate_mixed_poisson_bernoulli_vcm$(nsims)reps_sim.csv\", ','))\n",
    "\n",
    "βMseresult_GLM = vec(readdlm(\"mse_beta_GLM_bivariate_mixed_poisson_bernoulli_vcm$(nsims)reps_sim.csv\", ','))\n",
    "θMseresult_GLM = vec(readdlm(\"mse_Sigma_GLM_bivariate_mixed_poisson_bernoulli_vcm$(nsims)reps_sim.csv\", ','))\n",
    "\n",
    "p = 6; m = 1\n",
    "sample_sizes = repeat(string.(samplesizes), inner = nsims * length(ns))\n",
    "obs_sizes = repeat(string.(ns), inner = nsims, outer = length(samplesizes))\n",
    "msedf1 = DataFrame(βmse = βMseresult, thetamse = θMseresult, \n",
    "    samplesize = sample_sizes, obssize = obs_sizes)\n",
    "\n",
    "msedf2 = DataFrame(βmse = βMseresult_GLM, thetamse = θMseresult_GLM, \n",
    "    samplesize = sample_sizes, obssize = obs_sizes)\n",
    "\n",
    "#rename to make parsing easier for R.\n",
    "\n",
    "msedf1 = deepcopy(msedf1)\n",
    "rename!(msedf1, [\"betamse\"\n",
    "    \"thetamse\"\n",
    "    \"samplesize\"\n",
    " \"obssize\"]);\n",
    "\n",
    "msedf2 = deepcopy(msedf2)\n",
    "rename!(msedf2, [\"betamse\"\n",
    "    \"thetamse\"\n",
    "    \"samplesize\"\n",
    " \"obssize\"]);\n",
    "\n",
    "mses = [msedf1[!, :betamse]; msedf1[!, :thetamse]; msedf2[!, :betamse]; msedf2[!, :thetamse]]\n",
    "    # msedfnormR[!, :betamse]; msedfnormR[!, :taumse]; msedfnormR[!, :Sigmamse]]\n",
    "obssize = [collect([repeat(msedf1[!, :obssize], 2)]...) ; collect([repeat(msedf2[!, :obssize], 2)]...)]\n",
    "#40\n",
    "samplesize = [collect([repeat(msedf1[!, :samplesize], 2)]...) ; collect([repeat(msedf2[!, :samplesize], 2)]...)]\n",
    "\n",
    "parameters = [collect([repeat(string.([:beta, :theta]), inner = nsims * length(ns) * length(samplesizes))]...) ; collect([repeat(string.([:beta, :theta]), inner = nsims * length(ns) * length(samplesizes))]...)]\n",
    "robust = [collect([repeat([\"Bivariate Mixed Poisson Bernoulli QC\"], 2 * nsims * length(ns) * length(samplesizes))]...); collect([repeat([\"Separate Poisson Bernoulli GLM\"],  2 * nsims * length(ns) * length(samplesizes))]...)]\n",
    "\n",
    "msedfR = DataFrame(mse = mses, obssize = obssize, samplesize = samplesize,\n",
    "    parameters = parameters, robust = robust)\n",
    "\n",
    "#5 of the 30,000 simulations did not converge, filter out\n",
    "msedfR = filter(x -> !isnan(x.mse), msedfR)\n",
    "# additionally, there are 5 where an error was not caught so it did not try a differnt solver\n",
    "msedfR = filter(x -> x.mse < 40000, msedfR)"
   ]
  },
  {
   "cell_type": "code",
   "execution_count": 18,
   "metadata": {},
   "outputs": [
    {
     "name": "stderr",
     "output_type": "stream",
     "text": [
      "┌ Warning: RCall.jl: Warning: package ‘scales’ was built under R version 4.0.2\n",
      "└ @ RCall /Users/sarahji/.julia/packages/RCall/6kphM/src/io.jl:172\n",
      "┌ Warning: RCall.jl: Warning: package ‘data.table’ was built under R version 4.0.2\n",
      "└ @ RCall /Users/sarahji/.julia/packages/RCall/6kphM/src/io.jl:172\n"
     ]
    },
    {
     "data": {
      "image/png": "[encoded data removed]"
     },
     "metadata": {},
     "output_type": "display_data"
    },
    {
     "data": {
      "text/plain": [
       "RObject{VecSxp}\n"
      ]
     },
     "execution_count": 18,
     "metadata": {},
     "output_type": "execute_result"
    }
   ],
   "source": [
    "### working on figure next\n",
    "@rput msedfR\n",
    "\n",
    "R\"\"\"\n",
    "library(scales)\n",
    "library(ggplot2)\n",
    "library(data.table)\n",
    "\n",
    "msedfR = data.table(msedfR)\n",
    "\n",
    "msedfR[parameters == \"beta\",y_min := 10^-4]\n",
    "msedfR[parameters == \"beta\",y_max := 10^-2]\n",
    "msedfR[parameters == \"theta\",y_min := 10^-5]\n",
    "msedfR[parameters == \"theta\",y_max := 10^1]\n",
    "\n",
    "#msedfR[parameters == \"beta\",y_min := 10^-8]\n",
    "#msedfR[parameters == \"beta\",y_max := 10^-2]\n",
    "#msedfR[parameters == \"tau\",y_min := 10^-8]\n",
    "#msedfR[parameters == \"tau\",y_max := 10^-2]\n",
    "#msedfR[parameters == \"Sigma\",y_min := 10^-5]\n",
    "#msedfR[parameters == \"Sigma\",y_max := 10^-2]\n",
    "\n",
    "\n",
    "msedfR$obssize = factor(msedfR$obssize, levels = c('2', '5', '10', '15', '20', '25'))\n",
    "msedfR$samplesize = factor(msedfR$samplesize, levels = c('100', '1000', '10000'))\n",
    "msedfR$parameters = factor(msedfR$parameters, levels = c('beta', 'theta'), labels = c(beta = expression(hat(bold(beta))), thetaa = expression(hat(bold(theta))[])))\n",
    "msedfR$robust <- factor(msedfR$robust, levels = c('Bivariate Mixed Poisson Bernoulli QC', 'Separate Poisson Bernoulli GLM'),\n",
    "    labels = c(expression(paste(\"Bivariate Mixed Poisson Bernoulli QC\")), expression(paste(\"Separate Poisson Bernoulli GLM\"))))\n",
    "\n",
    "\n",
    "#mseplot <- ggplot(msedfR[msedfR$mse < 10^0, ], aes(x=samplesize, y=mse, fill=obssize)) + \n",
    "mseplot = ggplot(msedfR[msedfR$mse < 10^3, ], aes(x=samplesize, y=mse, fill=obssize)) + \n",
    "  #geom_boxplot(outlier.size = 0.0, outlier.alpha = 0) +\n",
    "  geom_boxplot(outlier.size = 0.25) +\n",
    "#    geom_violin() +\n",
    "    facet_grid(parameters ~ robust, labeller = label_parsed, scales = \"free_y\") +\n",
    "  theme(legend.position=\"right\", legend.key = element_blank(), axis.text.x = element_text(angle=0, size=30),\n",
    "        axis.text.y = element_text(angle=0, size=30), axis.title.x = element_text(size = 30, face=\"bold\"), \n",
    "        axis.title.y = element_text(size = 40, face=\"bold\"), legend.title = element_text(size = 30, face=\"bold\"),\n",
    "        panel.grid.major = element_blank(), panel.grid.minor = element_blank(),\n",
    "        legend.text=element_text(size=30), panel.background = element_rect(fill = NA, color = \"black\"),\n",
    "        #panel.background = element_blank(), #panel.border = element_blank(),\n",
    "        axis.line = element_line(color = 'black',size=0.3), plot.title = element_text(hjust = 0.5),\n",
    "        strip.background = element_rect(colour=\"black\", fill=\"white\"), strip.text.y = element_text(angle = 0, size=75, face=\"bold\"),\n",
    "        strip.text.x = element_text(size=25)) + \n",
    "  scale_fill_manual(values = c(\"#c85f55\",\n",
    "\"#a964bf\",\n",
    "\"#8db352\",\n",
    "\"#fa7300\",\n",
    "\"#05aec0\",\n",
    "\"#ff1493\")) +\n",
    "#scale_y_log10(breaks = scales::trans_breaks(\"log10\", function(x) 10^x)) +\n",
    "#scale_y_log10(breaks = 10^(-8:8), limit=c(10^-8, 10^2)) + \n",
    "scale_y_log10(breaks = 10^seq(-10, 10, 2), labels=trans_format(\"log10\", math_format(10^.x))) + #, limit=c(10^-8, 10^2)) +\n",
    "  labs(x = \"Sample Size\", y = \"MSE of Parameter Estimates\", fill = \"Cluster Size\") +\n",
    "geom_blank(aes(y = y_max)) + \n",
    "geom_blank(aes(y = y_min)) \n",
    "\n",
    "\"\"\""
   ]
  },
  {
   "cell_type": "code",
   "execution_count": 19,
   "metadata": {},
   "outputs": [
    {
     "data": {
      "text/plain": [
       "RObject{StrSxp}\n",
       "[1] \"bivariate_mixed_msefacetplot_vs_GLM.png\"\n"
      ]
     },
     "execution_count": 19,
     "metadata": {},
     "output_type": "execute_result"
    }
   ],
   "source": [
    "R\"\"\"\n",
    "ggsave('bivariate_mixed_msefacetplot_vs_GLM.png', mseplot, width = 20, height = 15, units = 'in', dpi = 450)\n",
    "\"\"\""
   ]
  },
  {
   "cell_type": "code",
   "execution_count": null,
   "metadata": {},
   "outputs": [],
   "source": []
  }
 ],
 "metadata": {
  "@webio": {
   "lastCommId": null,
   "lastKernelId": null
  },
  "kernelspec": {
   "display_name": "Julia 1.6.2",
   "language": "julia",
   "name": "julia-1.6"
  },
  "language_info": {
   "file_extension": ".jl",
   "mimetype": "application/julia",
   "name": "julia",
   "version": "1.6.2"
  }
 },
 "nbformat": 4,
 "nbformat_minor": 2
}
