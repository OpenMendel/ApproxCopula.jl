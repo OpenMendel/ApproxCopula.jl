{
 "cells": [
  {
   "cell_type": "markdown",
   "metadata": {},
   "source": [
    "# API\n",
    "\n",
    "Documentation for `GLMCopua.jl`'s functions.\n",
    "\n",
    "## Index\n",
    "\n",
    "```@index\n",
    "Pages = [\"api.md\"]\n",
    "```\n",
    "\n",
    "## Functions\n",
    "\n",
    "```@docs\n",
    "fit!\n",
    "init_β!\n",
    "```\n",
    "\n",
    "## Models\n",
    "\n",
    "```@docs\n",
    "GLMCopulaVCModel\n",
    "```"
   ]
  }
 ],
 "metadata": {
  "kernelspec": {
   "display_name": "Julia 1.7.1",
   "language": "julia",
   "name": "julia-1.7"
  },
  "language_info": {
   "file_extension": ".jl",
   "mimetype": "application/julia",
   "name": "julia",
   "version": "1.7.1"
  }
 },
 "nbformat": 4,
 "nbformat_minor": 2
}
